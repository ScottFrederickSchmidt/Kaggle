{
 "cells": [
  {
   "cell_type": "markdown",
   "id": "d5b3d946",
   "metadata": {
    "papermill": {
     "duration": 0.042803,
     "end_time": "2022-05-13T18:48:43.422788",
     "exception": false,
     "start_time": "2022-05-13T18:48:43.379985",
     "status": "completed"
    },
    "tags": []
   },
   "source": [
    "# Credit Risk Mortgage Loans\n",
    "The data is provided by [Home Credit](https://www.homecredit.net/about-us.asp), who provides lines of credit (loans) to the unbanked population. There are 307,511 rows of different credit information and 122 columns of feature variables. \n",
    "\n",
    "# Metrics\n",
    "Using different models using AUC found the following:\n",
    "* Decision tree 0.74\n",
    "* Linear regression 0.7327\n",
    "* Gradient boost 0.6966\n",
    "* Random forest 0.6312\n",
    "* Logistic regression 0.6145\n",
    "* Knn 0.5106 \n",
    "* SVM has runtime memory issues from too big data. \n",
    "\n",
    "A final credit score risk prediction will be made for every test data at the very end.\n",
    "\n",
    "# Datasets Summary\n",
    "Original dataset csv files can be found on [Kaggle](https://www.kaggle.com/c/home-credit-default-risk). The columns with first five rows will be shown below to view whenever a dataset is used. Therefore, one will not have to download the csv files. There are seven sources of data for this project which will be briefly\n",
    "described below:\n",
    "* Train.csv: This is the most important dataset with 307,511 rows which are house data. There are 106 column features describing houses such as square feet and year built. The column TARGET column is an important feature to discuss. A 1 in this row means the loan struggled to payback. A 0 means the loan was did not default. Some of the features will need to be encoded numerical to test if they have high feature importance.\n",
    "* bureau.csv: Other previous credit data from other financial institutions. \n",
    "* bureau_balance.csv: Monthly bureau previous credits.\n",
    "* brevious_application.csv: Previous application loans.\n",
    "* POS_CASH_BALANCE.csv: Monthly data about previous cash loans. \n",
    "* credit_card_balance.csv: Monthly credit card data for clients with Home Credit.\n",
    "* installments_payment.csv: Payment history for previous loans.\n",
    "<br/> <br/>\n",
    "\n",
    "# Train Data\n",
    "The training dataset is the most important dataset with over a hundred thousand sample credit datapoints that will be predicted at the very using the best metrics predictive models with reduced error. In total, the train data has 122 columns with 307,511 rows of credit. The first five rows of the train.csv file will be shown below."
   ]
  },
  {
   "cell_type": "code",
   "execution_count": 1,
   "id": "5e93830f",
   "metadata": {
    "execution": {
     "iopub.execute_input": "2022-05-13T18:48:43.512875Z",
     "iopub.status.busy": "2022-05-13T18:48:43.510991Z",
     "iopub.status.idle": "2022-05-13T18:48:52.759048Z",
     "shell.execute_reply": "2022-05-13T18:48:52.759611Z",
     "shell.execute_reply.started": "2022-05-13T17:48:02.757764Z"
    },
    "papermill": {
     "duration": 9.296173,
     "end_time": "2022-05-13T18:48:52.759951",
     "exception": false,
     "start_time": "2022-05-13T18:48:43.463778",
     "status": "completed"
    },
    "tags": []
   },
   "outputs": [
    {
     "data": {
      "text/html": [
       "<div>\n",
       "<style scoped>\n",
       "    .dataframe tbody tr th:only-of-type {\n",
       "        vertical-align: middle;\n",
       "    }\n",
       "\n",
       "    .dataframe tbody tr th {\n",
       "        vertical-align: top;\n",
       "    }\n",
       "\n",
       "    .dataframe thead th {\n",
       "        text-align: right;\n",
       "    }\n",
       "</style>\n",
       "<table border=\"1\" class=\"dataframe\">\n",
       "  <thead>\n",
       "    <tr style=\"text-align: right;\">\n",
       "      <th></th>\n",
       "      <th>SK_ID_CURR</th>\n",
       "      <th>TARGET</th>\n",
       "      <th>NAME_CONTRACT_TYPE</th>\n",
       "      <th>CODE_GENDER</th>\n",
       "      <th>FLAG_OWN_CAR</th>\n",
       "      <th>FLAG_OWN_REALTY</th>\n",
       "      <th>CNT_CHILDREN</th>\n",
       "      <th>AMT_INCOME_TOTAL</th>\n",
       "      <th>AMT_CREDIT</th>\n",
       "      <th>AMT_ANNUITY</th>\n",
       "      <th>...</th>\n",
       "      <th>FLAG_DOCUMENT_18</th>\n",
       "      <th>FLAG_DOCUMENT_19</th>\n",
       "      <th>FLAG_DOCUMENT_20</th>\n",
       "      <th>FLAG_DOCUMENT_21</th>\n",
       "      <th>AMT_REQ_CREDIT_BUREAU_HOUR</th>\n",
       "      <th>AMT_REQ_CREDIT_BUREAU_DAY</th>\n",
       "      <th>AMT_REQ_CREDIT_BUREAU_WEEK</th>\n",
       "      <th>AMT_REQ_CREDIT_BUREAU_MON</th>\n",
       "      <th>AMT_REQ_CREDIT_BUREAU_QRT</th>\n",
       "      <th>AMT_REQ_CREDIT_BUREAU_YEAR</th>\n",
       "    </tr>\n",
       "  </thead>\n",
       "  <tbody>\n",
       "    <tr>\n",
       "      <th>0</th>\n",
       "      <td>100002</td>\n",
       "      <td>1</td>\n",
       "      <td>Cash loans</td>\n",
       "      <td>M</td>\n",
       "      <td>N</td>\n",
       "      <td>Y</td>\n",
       "      <td>0</td>\n",
       "      <td>202500.0</td>\n",
       "      <td>406597.5</td>\n",
       "      <td>24700.5</td>\n",
       "      <td>...</td>\n",
       "      <td>0</td>\n",
       "      <td>0</td>\n",
       "      <td>0</td>\n",
       "      <td>0</td>\n",
       "      <td>0.0</td>\n",
       "      <td>0.0</td>\n",
       "      <td>0.0</td>\n",
       "      <td>0.0</td>\n",
       "      <td>0.0</td>\n",
       "      <td>1.0</td>\n",
       "    </tr>\n",
       "    <tr>\n",
       "      <th>1</th>\n",
       "      <td>100003</td>\n",
       "      <td>0</td>\n",
       "      <td>Cash loans</td>\n",
       "      <td>F</td>\n",
       "      <td>N</td>\n",
       "      <td>N</td>\n",
       "      <td>0</td>\n",
       "      <td>270000.0</td>\n",
       "      <td>1293502.5</td>\n",
       "      <td>35698.5</td>\n",
       "      <td>...</td>\n",
       "      <td>0</td>\n",
       "      <td>0</td>\n",
       "      <td>0</td>\n",
       "      <td>0</td>\n",
       "      <td>0.0</td>\n",
       "      <td>0.0</td>\n",
       "      <td>0.0</td>\n",
       "      <td>0.0</td>\n",
       "      <td>0.0</td>\n",
       "      <td>0.0</td>\n",
       "    </tr>\n",
       "    <tr>\n",
       "      <th>2</th>\n",
       "      <td>100004</td>\n",
       "      <td>0</td>\n",
       "      <td>Revolving loans</td>\n",
       "      <td>M</td>\n",
       "      <td>Y</td>\n",
       "      <td>Y</td>\n",
       "      <td>0</td>\n",
       "      <td>67500.0</td>\n",
       "      <td>135000.0</td>\n",
       "      <td>6750.0</td>\n",
       "      <td>...</td>\n",
       "      <td>0</td>\n",
       "      <td>0</td>\n",
       "      <td>0</td>\n",
       "      <td>0</td>\n",
       "      <td>0.0</td>\n",
       "      <td>0.0</td>\n",
       "      <td>0.0</td>\n",
       "      <td>0.0</td>\n",
       "      <td>0.0</td>\n",
       "      <td>0.0</td>\n",
       "    </tr>\n",
       "    <tr>\n",
       "      <th>3</th>\n",
       "      <td>100006</td>\n",
       "      <td>0</td>\n",
       "      <td>Cash loans</td>\n",
       "      <td>F</td>\n",
       "      <td>N</td>\n",
       "      <td>Y</td>\n",
       "      <td>0</td>\n",
       "      <td>135000.0</td>\n",
       "      <td>312682.5</td>\n",
       "      <td>29686.5</td>\n",
       "      <td>...</td>\n",
       "      <td>0</td>\n",
       "      <td>0</td>\n",
       "      <td>0</td>\n",
       "      <td>0</td>\n",
       "      <td>NaN</td>\n",
       "      <td>NaN</td>\n",
       "      <td>NaN</td>\n",
       "      <td>NaN</td>\n",
       "      <td>NaN</td>\n",
       "      <td>NaN</td>\n",
       "    </tr>\n",
       "    <tr>\n",
       "      <th>4</th>\n",
       "      <td>100007</td>\n",
       "      <td>0</td>\n",
       "      <td>Cash loans</td>\n",
       "      <td>M</td>\n",
       "      <td>N</td>\n",
       "      <td>Y</td>\n",
       "      <td>0</td>\n",
       "      <td>121500.0</td>\n",
       "      <td>513000.0</td>\n",
       "      <td>21865.5</td>\n",
       "      <td>...</td>\n",
       "      <td>0</td>\n",
       "      <td>0</td>\n",
       "      <td>0</td>\n",
       "      <td>0</td>\n",
       "      <td>0.0</td>\n",
       "      <td>0.0</td>\n",
       "      <td>0.0</td>\n",
       "      <td>0.0</td>\n",
       "      <td>0.0</td>\n",
       "      <td>0.0</td>\n",
       "    </tr>\n",
       "  </tbody>\n",
       "</table>\n",
       "<p>5 rows × 122 columns</p>\n",
       "</div>"
      ],
      "text/plain": [
       "   SK_ID_CURR  TARGET NAME_CONTRACT_TYPE CODE_GENDER FLAG_OWN_CAR  \\\n",
       "0      100002       1         Cash loans           M            N   \n",
       "1      100003       0         Cash loans           F            N   \n",
       "2      100004       0    Revolving loans           M            Y   \n",
       "3      100006       0         Cash loans           F            N   \n",
       "4      100007       0         Cash loans           M            N   \n",
       "\n",
       "  FLAG_OWN_REALTY  CNT_CHILDREN  AMT_INCOME_TOTAL  AMT_CREDIT  AMT_ANNUITY  \\\n",
       "0               Y             0          202500.0    406597.5      24700.5   \n",
       "1               N             0          270000.0   1293502.5      35698.5   \n",
       "2               Y             0           67500.0    135000.0       6750.0   \n",
       "3               Y             0          135000.0    312682.5      29686.5   \n",
       "4               Y             0          121500.0    513000.0      21865.5   \n",
       "\n",
       "   ...  FLAG_DOCUMENT_18 FLAG_DOCUMENT_19 FLAG_DOCUMENT_20 FLAG_DOCUMENT_21  \\\n",
       "0  ...                 0                0                0                0   \n",
       "1  ...                 0                0                0                0   \n",
       "2  ...                 0                0                0                0   \n",
       "3  ...                 0                0                0                0   \n",
       "4  ...                 0                0                0                0   \n",
       "\n",
       "  AMT_REQ_CREDIT_BUREAU_HOUR AMT_REQ_CREDIT_BUREAU_DAY  \\\n",
       "0                        0.0                       0.0   \n",
       "1                        0.0                       0.0   \n",
       "2                        0.0                       0.0   \n",
       "3                        NaN                       NaN   \n",
       "4                        0.0                       0.0   \n",
       "\n",
       "   AMT_REQ_CREDIT_BUREAU_WEEK  AMT_REQ_CREDIT_BUREAU_MON  \\\n",
       "0                         0.0                        0.0   \n",
       "1                         0.0                        0.0   \n",
       "2                         0.0                        0.0   \n",
       "3                         NaN                        NaN   \n",
       "4                         0.0                        0.0   \n",
       "\n",
       "   AMT_REQ_CREDIT_BUREAU_QRT  AMT_REQ_CREDIT_BUREAU_YEAR  \n",
       "0                        0.0                         1.0  \n",
       "1                        0.0                         0.0  \n",
       "2                        0.0                         0.0  \n",
       "3                        NaN                         NaN  \n",
       "4                        0.0                         0.0  \n",
       "\n",
       "[5 rows x 122 columns]"
      ]
     },
     "execution_count": 1,
     "metadata": {},
     "output_type": "execute_result"
    }
   ],
   "source": [
    "import numpy as np\n",
    "import pandas as pd\n",
    "import seaborn as sns\n",
    "import matplotlib.pyplot as plt\n",
    "from sklearn.model_selection import train_test_split, cross_validate\n",
    "from statistics import mean\n",
    "from sklearn.metrics import mean_absolute_error, mean_squared_error, r2_score\n",
    "from sklearn.datasets import make_classification\n",
    "from sklearn import ensemble\n",
    "import sklearn.metrics as metrics\n",
    "import time\n",
    "#cash=r'/kaggle/input/home-credit-default-risk/POS_CASH_balance.csv'\n",
    "#info='/kaggle/input/home-credit-default-risk/HomeCredit_columns_description.csv'\n",
    "#app=r'/kaggle/input/home-credit-default-risk/previous_application.csv'\n",
    "#cc=r'/kaggle/input/home-credit-default-risk/credit_card_balance.csv'\n",
    "#install=r'/kaggle/input/home-credit-default-risk/installments_payments.csv'\n",
    "bureau_balance=r'/kaggle/input/home-credit-default-risk/bureau_balance.csv'\n",
    "train=r'/kaggle/input/home-credit-default-risk/application_train.csv'\n",
    "test=r'/kaggle/input/home-credit-default-risk/application_test.csv'\n",
    "\n",
    "data=pd.read_csv(train) # (307511, 122)\n",
    "testDF=pd.read_csv(test)\n",
    "data.head()"
   ]
  },
  {
   "cell_type": "code",
   "execution_count": 2,
   "id": "a686e5df",
   "metadata": {
    "execution": {
     "iopub.execute_input": "2022-05-13T18:48:52.852425Z",
     "iopub.status.busy": "2022-05-13T18:48:52.851707Z",
     "iopub.status.idle": "2022-05-13T18:48:52.855944Z",
     "shell.execute_reply": "2022-05-13T18:48:52.855125Z",
     "shell.execute_reply.started": "2022-05-13T17:48:08.105243Z"
    },
    "papermill": {
     "duration": 0.05418,
     "end_time": "2022-05-13T18:48:52.856136",
     "exception": false,
     "start_time": "2022-05-13T18:48:52.801956",
     "status": "completed"
    },
    "tags": []
   },
   "outputs": [
    {
     "data": {
      "text/plain": [
       "SK_ID_CURR                      int64\n",
       "TARGET                          int64\n",
       "NAME_CONTRACT_TYPE             object\n",
       "CODE_GENDER                    object\n",
       "FLAG_OWN_CAR                   object\n",
       "                               ...   \n",
       "AMT_REQ_CREDIT_BUREAU_DAY     float64\n",
       "AMT_REQ_CREDIT_BUREAU_WEEK    float64\n",
       "AMT_REQ_CREDIT_BUREAU_MON     float64\n",
       "AMT_REQ_CREDIT_BUREAU_QRT     float64\n",
       "AMT_REQ_CREDIT_BUREAU_YEAR    float64\n",
       "Length: 122, dtype: object"
      ]
     },
     "execution_count": 2,
     "metadata": {},
     "output_type": "execute_result"
    }
   ],
   "source": [
    "data.dtypes"
   ]
  },
  {
   "cell_type": "markdown",
   "id": "6f28b4a3",
   "metadata": {
    "papermill": {
     "duration": 0.041555,
     "end_time": "2022-05-13T18:48:52.943191",
     "exception": false,
     "start_time": "2022-05-13T18:48:52.901636",
     "status": "completed"
    },
    "tags": []
   },
   "source": [
    "## Feature Engineer"
   ]
  },
  {
   "cell_type": "code",
   "execution_count": 3,
   "id": "dfae6ba6",
   "metadata": {
    "execution": {
     "iopub.execute_input": "2022-05-13T18:48:53.032050Z",
     "iopub.status.busy": "2022-05-13T18:48:53.031355Z",
     "iopub.status.idle": "2022-05-13T18:48:53.068823Z",
     "shell.execute_reply": "2022-05-13T18:48:53.068284Z",
     "shell.execute_reply.started": "2022-05-13T18:14:32.245448Z"
    },
    "papermill": {
     "duration": 0.083693,
     "end_time": "2022-05-13T18:48:53.068999",
     "exception": false,
     "start_time": "2022-05-13T18:48:52.985306",
     "status": "completed"
    },
    "tags": []
   },
   "outputs": [
    {
     "data": {
      "text/plain": [
       "array(['Cash loans', 'Revolving loans'], dtype=object)"
      ]
     },
     "execution_count": 3,
     "metadata": {},
     "output_type": "execute_result"
    }
   ],
   "source": [
    "data['NAME_CONTRACT_TYPE'].unique()"
   ]
  },
  {
   "cell_type": "code",
   "execution_count": 4,
   "id": "50fb3c7c",
   "metadata": {
    "execution": {
     "iopub.execute_input": "2022-05-13T18:48:53.195325Z",
     "iopub.status.busy": "2022-05-13T18:48:53.159734Z",
     "iopub.status.idle": "2022-05-13T18:48:53.330733Z",
     "shell.execute_reply": "2022-05-13T18:48:53.331317Z",
     "shell.execute_reply.started": "2022-05-13T17:48:08.115431Z"
    },
    "papermill": {
     "duration": 0.218916,
     "end_time": "2022-05-13T18:48:53.331503",
     "exception": false,
     "start_time": "2022-05-13T18:48:53.112587",
     "status": "completed"
    },
    "tags": []
   },
   "outputs": [],
   "source": [
    "data['NAME_CONTRACT_TYPE']=data['NAME_CONTRACT_TYPE'].map({'Cash loans': 1, 'Revolving loans': 0})\n",
    "data['CODE_GENDER']=data['CODE_GENDER'].map({'M': 1, 'F': 0})\n",
    "data['FLAG_OWN_CAR']=data['FLAG_OWN_CAR'].map({'Y': 1, 'N': 0})\n",
    "data['FLAG_OWN_REALTY']=data['FLAG_OWN_REALTY'].map({'Y': 1, 'N': 0})"
   ]
  },
  {
   "cell_type": "markdown",
   "id": "d007c0db",
   "metadata": {
    "papermill": {
     "duration": 0.04199,
     "end_time": "2022-05-13T18:48:53.416106",
     "exception": false,
     "start_time": "2022-05-13T18:48:53.374116",
     "status": "completed"
    },
    "tags": []
   },
   "source": [
    "# Examine TARGET column\n",
    "How many loans were not repaid? In train.csv 0 stands for repaid and 1 stands for payment difficulties. The percent of loans that defaulted was 0.081. This is somewhat unbalanced data so we must be careful when selecting what metrics to use to analyze the data. In addition, we must consider other data files for feature importance. There are no missing TARGET values which is good because we would likely have to drop a row that does not have an independent variable."
   ]
  },
  {
   "cell_type": "code",
   "execution_count": 5,
   "id": "854c6000",
   "metadata": {
    "execution": {
     "iopub.execute_input": "2022-05-13T18:48:53.514193Z",
     "iopub.status.busy": "2022-05-13T18:48:53.506590Z",
     "iopub.status.idle": "2022-05-13T18:48:53.520731Z",
     "shell.execute_reply": "2022-05-13T18:48:53.521385Z",
     "shell.execute_reply.started": "2022-05-13T17:48:08.233135Z"
    },
    "papermill": {
     "duration": 0.063269,
     "end_time": "2022-05-13T18:48:53.521572",
     "exception": false,
     "start_time": "2022-05-13T18:48:53.458303",
     "status": "completed"
    },
    "tags": []
   },
   "outputs": [
    {
     "name": "stdout",
     "output_type": "stream",
     "text": [
      "0    282686\n",
      "1     24825\n",
      "Name: TARGET, dtype: int64\n",
      "Percent of loans that defauled:  0.081\n"
     ]
    }
   ],
   "source": [
    "temp=data['TARGET'].value_counts()\n",
    "print(temp)\n",
    "paid=temp[0]\n",
    "notPaid=temp[1]\n",
    "default=round(notPaid/(paid+notPaid),3)\n",
    "print(\"Percent of loans that defauled: \", default)"
   ]
  },
  {
   "cell_type": "markdown",
   "id": "838195b7",
   "metadata": {
    "papermill": {
     "duration": 0.042117,
     "end_time": "2022-05-13T18:48:53.607238",
     "exception": false,
     "start_time": "2022-05-13T18:48:53.565121",
     "status": "completed"
    },
    "tags": []
   },
   "source": [
    "# Numeric DataFrame\n",
    "The data is now all numeric values. We can encode categorical values later on to view if any of the categorical values have any importance worth investing in later."
   ]
  },
  {
   "cell_type": "code",
   "execution_count": 6,
   "id": "e569598e",
   "metadata": {
    "execution": {
     "iopub.execute_input": "2022-05-13T18:48:53.696322Z",
     "iopub.status.busy": "2022-05-13T18:48:53.695625Z",
     "iopub.status.idle": "2022-05-13T18:48:54.017170Z",
     "shell.execute_reply": "2022-05-13T18:48:54.017936Z",
     "shell.execute_reply.started": "2022-05-13T17:48:08.243695Z"
    },
    "papermill": {
     "duration": 0.368351,
     "end_time": "2022-05-13T18:48:54.018111",
     "exception": false,
     "start_time": "2022-05-13T18:48:53.649760",
     "status": "completed"
    },
    "tags": []
   },
   "outputs": [
    {
     "data": {
      "text/html": [
       "<div>\n",
       "<style scoped>\n",
       "    .dataframe tbody tr th:only-of-type {\n",
       "        vertical-align: middle;\n",
       "    }\n",
       "\n",
       "    .dataframe tbody tr th {\n",
       "        vertical-align: top;\n",
       "    }\n",
       "\n",
       "    .dataframe thead th {\n",
       "        text-align: right;\n",
       "    }\n",
       "</style>\n",
       "<table border=\"1\" class=\"dataframe\">\n",
       "  <thead>\n",
       "    <tr style=\"text-align: right;\">\n",
       "      <th></th>\n",
       "      <th>SK_ID_CURR</th>\n",
       "      <th>TARGET</th>\n",
       "      <th>NAME_CONTRACT_TYPE</th>\n",
       "      <th>CODE_GENDER</th>\n",
       "      <th>FLAG_OWN_CAR</th>\n",
       "      <th>FLAG_OWN_REALTY</th>\n",
       "      <th>CNT_CHILDREN</th>\n",
       "      <th>AMT_INCOME_TOTAL</th>\n",
       "      <th>AMT_CREDIT</th>\n",
       "      <th>AMT_ANNUITY</th>\n",
       "      <th>...</th>\n",
       "      <th>FLAG_DOCUMENT_18</th>\n",
       "      <th>FLAG_DOCUMENT_19</th>\n",
       "      <th>FLAG_DOCUMENT_20</th>\n",
       "      <th>FLAG_DOCUMENT_21</th>\n",
       "      <th>AMT_REQ_CREDIT_BUREAU_HOUR</th>\n",
       "      <th>AMT_REQ_CREDIT_BUREAU_DAY</th>\n",
       "      <th>AMT_REQ_CREDIT_BUREAU_WEEK</th>\n",
       "      <th>AMT_REQ_CREDIT_BUREAU_MON</th>\n",
       "      <th>AMT_REQ_CREDIT_BUREAU_QRT</th>\n",
       "      <th>AMT_REQ_CREDIT_BUREAU_YEAR</th>\n",
       "    </tr>\n",
       "  </thead>\n",
       "  <tbody>\n",
       "    <tr>\n",
       "      <th>0</th>\n",
       "      <td>100002</td>\n",
       "      <td>1</td>\n",
       "      <td>1</td>\n",
       "      <td>1.0</td>\n",
       "      <td>0</td>\n",
       "      <td>1</td>\n",
       "      <td>0</td>\n",
       "      <td>202500.0</td>\n",
       "      <td>406597.5</td>\n",
       "      <td>24700.5</td>\n",
       "      <td>...</td>\n",
       "      <td>0</td>\n",
       "      <td>0</td>\n",
       "      <td>0</td>\n",
       "      <td>0</td>\n",
       "      <td>0.0</td>\n",
       "      <td>0.0</td>\n",
       "      <td>0.0</td>\n",
       "      <td>0.0</td>\n",
       "      <td>0.0</td>\n",
       "      <td>1.0</td>\n",
       "    </tr>\n",
       "    <tr>\n",
       "      <th>1</th>\n",
       "      <td>100003</td>\n",
       "      <td>0</td>\n",
       "      <td>1</td>\n",
       "      <td>0.0</td>\n",
       "      <td>0</td>\n",
       "      <td>0</td>\n",
       "      <td>0</td>\n",
       "      <td>270000.0</td>\n",
       "      <td>1293502.5</td>\n",
       "      <td>35698.5</td>\n",
       "      <td>...</td>\n",
       "      <td>0</td>\n",
       "      <td>0</td>\n",
       "      <td>0</td>\n",
       "      <td>0</td>\n",
       "      <td>0.0</td>\n",
       "      <td>0.0</td>\n",
       "      <td>0.0</td>\n",
       "      <td>0.0</td>\n",
       "      <td>0.0</td>\n",
       "      <td>0.0</td>\n",
       "    </tr>\n",
       "    <tr>\n",
       "      <th>2</th>\n",
       "      <td>100004</td>\n",
       "      <td>0</td>\n",
       "      <td>0</td>\n",
       "      <td>1.0</td>\n",
       "      <td>1</td>\n",
       "      <td>1</td>\n",
       "      <td>0</td>\n",
       "      <td>67500.0</td>\n",
       "      <td>135000.0</td>\n",
       "      <td>6750.0</td>\n",
       "      <td>...</td>\n",
       "      <td>0</td>\n",
       "      <td>0</td>\n",
       "      <td>0</td>\n",
       "      <td>0</td>\n",
       "      <td>0.0</td>\n",
       "      <td>0.0</td>\n",
       "      <td>0.0</td>\n",
       "      <td>0.0</td>\n",
       "      <td>0.0</td>\n",
       "      <td>0.0</td>\n",
       "    </tr>\n",
       "    <tr>\n",
       "      <th>3</th>\n",
       "      <td>100006</td>\n",
       "      <td>0</td>\n",
       "      <td>1</td>\n",
       "      <td>0.0</td>\n",
       "      <td>0</td>\n",
       "      <td>1</td>\n",
       "      <td>0</td>\n",
       "      <td>135000.0</td>\n",
       "      <td>312682.5</td>\n",
       "      <td>29686.5</td>\n",
       "      <td>...</td>\n",
       "      <td>0</td>\n",
       "      <td>0</td>\n",
       "      <td>0</td>\n",
       "      <td>0</td>\n",
       "      <td>NaN</td>\n",
       "      <td>NaN</td>\n",
       "      <td>NaN</td>\n",
       "      <td>NaN</td>\n",
       "      <td>NaN</td>\n",
       "      <td>NaN</td>\n",
       "    </tr>\n",
       "    <tr>\n",
       "      <th>4</th>\n",
       "      <td>100007</td>\n",
       "      <td>0</td>\n",
       "      <td>1</td>\n",
       "      <td>1.0</td>\n",
       "      <td>0</td>\n",
       "      <td>1</td>\n",
       "      <td>0</td>\n",
       "      <td>121500.0</td>\n",
       "      <td>513000.0</td>\n",
       "      <td>21865.5</td>\n",
       "      <td>...</td>\n",
       "      <td>0</td>\n",
       "      <td>0</td>\n",
       "      <td>0</td>\n",
       "      <td>0</td>\n",
       "      <td>0.0</td>\n",
       "      <td>0.0</td>\n",
       "      <td>0.0</td>\n",
       "      <td>0.0</td>\n",
       "      <td>0.0</td>\n",
       "      <td>0.0</td>\n",
       "    </tr>\n",
       "  </tbody>\n",
       "</table>\n",
       "<p>5 rows × 110 columns</p>\n",
       "</div>"
      ],
      "text/plain": [
       "   SK_ID_CURR  TARGET  NAME_CONTRACT_TYPE  CODE_GENDER  FLAG_OWN_CAR  \\\n",
       "0      100002       1                   1          1.0             0   \n",
       "1      100003       0                   1          0.0             0   \n",
       "2      100004       0                   0          1.0             1   \n",
       "3      100006       0                   1          0.0             0   \n",
       "4      100007       0                   1          1.0             0   \n",
       "\n",
       "   FLAG_OWN_REALTY  CNT_CHILDREN  AMT_INCOME_TOTAL  AMT_CREDIT  AMT_ANNUITY  \\\n",
       "0                1             0          202500.0    406597.5      24700.5   \n",
       "1                0             0          270000.0   1293502.5      35698.5   \n",
       "2                1             0           67500.0    135000.0       6750.0   \n",
       "3                1             0          135000.0    312682.5      29686.5   \n",
       "4                1             0          121500.0    513000.0      21865.5   \n",
       "\n",
       "   ...  FLAG_DOCUMENT_18  FLAG_DOCUMENT_19  FLAG_DOCUMENT_20  \\\n",
       "0  ...                 0                 0                 0   \n",
       "1  ...                 0                 0                 0   \n",
       "2  ...                 0                 0                 0   \n",
       "3  ...                 0                 0                 0   \n",
       "4  ...                 0                 0                 0   \n",
       "\n",
       "   FLAG_DOCUMENT_21  AMT_REQ_CREDIT_BUREAU_HOUR  AMT_REQ_CREDIT_BUREAU_DAY  \\\n",
       "0                 0                         0.0                        0.0   \n",
       "1                 0                         0.0                        0.0   \n",
       "2                 0                         0.0                        0.0   \n",
       "3                 0                         NaN                        NaN   \n",
       "4                 0                         0.0                        0.0   \n",
       "\n",
       "   AMT_REQ_CREDIT_BUREAU_WEEK  AMT_REQ_CREDIT_BUREAU_MON  \\\n",
       "0                         0.0                        0.0   \n",
       "1                         0.0                        0.0   \n",
       "2                         0.0                        0.0   \n",
       "3                         NaN                        NaN   \n",
       "4                         0.0                        0.0   \n",
       "\n",
       "   AMT_REQ_CREDIT_BUREAU_QRT  AMT_REQ_CREDIT_BUREAU_YEAR  \n",
       "0                        0.0                         1.0  \n",
       "1                        0.0                         0.0  \n",
       "2                        0.0                         0.0  \n",
       "3                        NaN                         NaN  \n",
       "4                        0.0                         0.0  \n",
       "\n",
       "[5 rows x 110 columns]"
      ]
     },
     "execution_count": 6,
     "metadata": {},
     "output_type": "execute_result"
    }
   ],
   "source": [
    "numerics = ['int16', 'int32', 'int64', 'float16', 'float32', 'float64']\n",
    "df = data.select_dtypes(include=numerics) # (307511, 106)\n",
    "df.head()"
   ]
  },
  {
   "cell_type": "markdown",
   "id": "664b72ad",
   "metadata": {
    "papermill": {
     "duration": 0.042958,
     "end_time": "2022-05-13T18:48:54.105514",
     "exception": false,
     "start_time": "2022-05-13T18:48:54.062556",
     "status": "completed"
    },
    "tags": []
   },
   "source": [
    "# Find missing values\n",
    "Too many missing values on a column will get the column removed. In this case, there were about forty columns with more than 50% missing data. In total, there are 60 numeric columns with missing data, we need to interpret the Bureau to find feature importance in order to engineer which columns are most worth keeping."
   ]
  },
  {
   "cell_type": "code",
   "execution_count": 7,
   "id": "c6f88a35",
   "metadata": {
    "execution": {
     "iopub.execute_input": "2022-05-13T18:48:54.203258Z",
     "iopub.status.busy": "2022-05-13T18:48:54.202516Z",
     "iopub.status.idle": "2022-05-13T18:48:54.266735Z",
     "shell.execute_reply": "2022-05-13T18:48:54.267507Z",
     "shell.execute_reply.started": "2022-05-13T17:48:08.561397Z"
    },
    "papermill": {
     "duration": 0.114794,
     "end_time": "2022-05-13T18:48:54.267742",
     "exception": false,
     "start_time": "2022-05-13T18:48:54.152948",
     "status": "completed"
    },
    "tags": []
   },
   "outputs": [
    {
     "name": "stdout",
     "output_type": "stream",
     "text": [
      "Missing data by column as a percent:\n",
      "COMMONAREA_AVG              0.698723\n",
      "COMMONAREA_MEDI             0.698723\n",
      "COMMONAREA_MODE             0.698723\n",
      "NONLIVINGAPARTMENTS_MEDI    0.694330\n",
      "NONLIVINGAPARTMENTS_MODE    0.694330\n",
      "NONLIVINGAPARTMENTS_AVG     0.694330\n",
      "LIVINGAPARTMENTS_MODE       0.683550\n",
      "LIVINGAPARTMENTS_AVG        0.683550\n",
      "LIVINGAPARTMENTS_MEDI       0.683550\n",
      "FLOORSMIN_AVG               0.678486\n",
      "dtype: float64\n"
     ]
    }
   ],
   "source": [
    "#search for columns with missing values:\n",
    "def findNA():\n",
    "    print(\"Missing data by column as a percent:\")\n",
    "    findNA=df.isnull().sum().sort_values(ascending=False)/len(df)\n",
    "    print(findNA.head(10))\n",
    "findNA() "
   ]
  },
  {
   "cell_type": "markdown",
   "id": "5e26a5b9",
   "metadata": {
    "papermill": {
     "duration": 0.044794,
     "end_time": "2022-05-13T18:48:54.356561",
     "exception": false,
     "start_time": "2022-05-13T18:48:54.311767",
     "status": "completed"
    },
    "tags": []
   },
   "source": [
    "# Fix Missing Values\n",
    "Variable number can be changed to delete a missing column with more than 20 NA values. Then, the dataframe must be filled in the mean for the remaining missing values. Since we need a final credit prediction for every credit loan, we can simply not delete any rows."
   ]
  },
  {
   "cell_type": "code",
   "execution_count": 8,
   "id": "ff893654",
   "metadata": {
    "execution": {
     "iopub.execute_input": "2022-05-13T18:48:54.454405Z",
     "iopub.status.busy": "2022-05-13T18:48:54.453075Z",
     "iopub.status.idle": "2022-05-13T18:48:55.058696Z",
     "shell.execute_reply": "2022-05-13T18:48:55.058054Z",
     "shell.execute_reply.started": "2022-05-13T17:48:08.626245Z"
    },
    "papermill": {
     "duration": 0.656696,
     "end_time": "2022-05-13T18:48:55.058856",
     "exception": false,
     "start_time": "2022-05-13T18:48:54.402160",
     "status": "completed"
    },
    "tags": []
   },
   "outputs": [
    {
     "data": {
      "text/html": [
       "<div>\n",
       "<style scoped>\n",
       "    .dataframe tbody tr th:only-of-type {\n",
       "        vertical-align: middle;\n",
       "    }\n",
       "\n",
       "    .dataframe tbody tr th {\n",
       "        vertical-align: top;\n",
       "    }\n",
       "\n",
       "    .dataframe thead th {\n",
       "        text-align: right;\n",
       "    }\n",
       "</style>\n",
       "<table border=\"1\" class=\"dataframe\">\n",
       "  <thead>\n",
       "    <tr style=\"text-align: right;\">\n",
       "      <th></th>\n",
       "      <th>SK_ID_CURR</th>\n",
       "      <th>TARGET</th>\n",
       "      <th>NAME_CONTRACT_TYPE</th>\n",
       "      <th>CODE_GENDER</th>\n",
       "      <th>FLAG_OWN_CAR</th>\n",
       "      <th>FLAG_OWN_REALTY</th>\n",
       "      <th>CNT_CHILDREN</th>\n",
       "      <th>AMT_INCOME_TOTAL</th>\n",
       "      <th>AMT_CREDIT</th>\n",
       "      <th>AMT_ANNUITY</th>\n",
       "      <th>...</th>\n",
       "      <th>FLAG_DOCUMENT_18</th>\n",
       "      <th>FLAG_DOCUMENT_19</th>\n",
       "      <th>FLAG_DOCUMENT_20</th>\n",
       "      <th>FLAG_DOCUMENT_21</th>\n",
       "      <th>AMT_REQ_CREDIT_BUREAU_HOUR</th>\n",
       "      <th>AMT_REQ_CREDIT_BUREAU_DAY</th>\n",
       "      <th>AMT_REQ_CREDIT_BUREAU_WEEK</th>\n",
       "      <th>AMT_REQ_CREDIT_BUREAU_MON</th>\n",
       "      <th>AMT_REQ_CREDIT_BUREAU_QRT</th>\n",
       "      <th>AMT_REQ_CREDIT_BUREAU_YEAR</th>\n",
       "    </tr>\n",
       "  </thead>\n",
       "  <tbody>\n",
       "    <tr>\n",
       "      <th>0</th>\n",
       "      <td>100002</td>\n",
       "      <td>1</td>\n",
       "      <td>1</td>\n",
       "      <td>1.0</td>\n",
       "      <td>0</td>\n",
       "      <td>1</td>\n",
       "      <td>0</td>\n",
       "      <td>202500.0</td>\n",
       "      <td>406597.5</td>\n",
       "      <td>24700.5</td>\n",
       "      <td>...</td>\n",
       "      <td>0</td>\n",
       "      <td>0</td>\n",
       "      <td>0</td>\n",
       "      <td>0</td>\n",
       "      <td>0.000000</td>\n",
       "      <td>0.000</td>\n",
       "      <td>0.000000</td>\n",
       "      <td>0.000000</td>\n",
       "      <td>0.000000</td>\n",
       "      <td>1.000000</td>\n",
       "    </tr>\n",
       "    <tr>\n",
       "      <th>1</th>\n",
       "      <td>100003</td>\n",
       "      <td>0</td>\n",
       "      <td>1</td>\n",
       "      <td>0.0</td>\n",
       "      <td>0</td>\n",
       "      <td>0</td>\n",
       "      <td>0</td>\n",
       "      <td>270000.0</td>\n",
       "      <td>1293502.5</td>\n",
       "      <td>35698.5</td>\n",
       "      <td>...</td>\n",
       "      <td>0</td>\n",
       "      <td>0</td>\n",
       "      <td>0</td>\n",
       "      <td>0</td>\n",
       "      <td>0.000000</td>\n",
       "      <td>0.000</td>\n",
       "      <td>0.000000</td>\n",
       "      <td>0.000000</td>\n",
       "      <td>0.000000</td>\n",
       "      <td>0.000000</td>\n",
       "    </tr>\n",
       "    <tr>\n",
       "      <th>2</th>\n",
       "      <td>100004</td>\n",
       "      <td>0</td>\n",
       "      <td>0</td>\n",
       "      <td>1.0</td>\n",
       "      <td>1</td>\n",
       "      <td>1</td>\n",
       "      <td>0</td>\n",
       "      <td>67500.0</td>\n",
       "      <td>135000.0</td>\n",
       "      <td>6750.0</td>\n",
       "      <td>...</td>\n",
       "      <td>0</td>\n",
       "      <td>0</td>\n",
       "      <td>0</td>\n",
       "      <td>0</td>\n",
       "      <td>0.000000</td>\n",
       "      <td>0.000</td>\n",
       "      <td>0.000000</td>\n",
       "      <td>0.000000</td>\n",
       "      <td>0.000000</td>\n",
       "      <td>0.000000</td>\n",
       "    </tr>\n",
       "    <tr>\n",
       "      <th>3</th>\n",
       "      <td>100006</td>\n",
       "      <td>0</td>\n",
       "      <td>1</td>\n",
       "      <td>0.0</td>\n",
       "      <td>0</td>\n",
       "      <td>1</td>\n",
       "      <td>0</td>\n",
       "      <td>135000.0</td>\n",
       "      <td>312682.5</td>\n",
       "      <td>29686.5</td>\n",
       "      <td>...</td>\n",
       "      <td>0</td>\n",
       "      <td>0</td>\n",
       "      <td>0</td>\n",
       "      <td>0</td>\n",
       "      <td>0.006402</td>\n",
       "      <td>0.007</td>\n",
       "      <td>0.034362</td>\n",
       "      <td>0.267395</td>\n",
       "      <td>0.265474</td>\n",
       "      <td>1.899974</td>\n",
       "    </tr>\n",
       "    <tr>\n",
       "      <th>4</th>\n",
       "      <td>100007</td>\n",
       "      <td>0</td>\n",
       "      <td>1</td>\n",
       "      <td>1.0</td>\n",
       "      <td>0</td>\n",
       "      <td>1</td>\n",
       "      <td>0</td>\n",
       "      <td>121500.0</td>\n",
       "      <td>513000.0</td>\n",
       "      <td>21865.5</td>\n",
       "      <td>...</td>\n",
       "      <td>0</td>\n",
       "      <td>0</td>\n",
       "      <td>0</td>\n",
       "      <td>0</td>\n",
       "      <td>0.000000</td>\n",
       "      <td>0.000</td>\n",
       "      <td>0.000000</td>\n",
       "      <td>0.000000</td>\n",
       "      <td>0.000000</td>\n",
       "      <td>0.000000</td>\n",
       "    </tr>\n",
       "  </tbody>\n",
       "</table>\n",
       "<p>5 rows × 110 columns</p>\n",
       "</div>"
      ],
      "text/plain": [
       "   SK_ID_CURR  TARGET  NAME_CONTRACT_TYPE  CODE_GENDER  FLAG_OWN_CAR  \\\n",
       "0      100002       1                   1          1.0             0   \n",
       "1      100003       0                   1          0.0             0   \n",
       "2      100004       0                   0          1.0             1   \n",
       "3      100006       0                   1          0.0             0   \n",
       "4      100007       0                   1          1.0             0   \n",
       "\n",
       "   FLAG_OWN_REALTY  CNT_CHILDREN  AMT_INCOME_TOTAL  AMT_CREDIT  AMT_ANNUITY  \\\n",
       "0                1             0          202500.0    406597.5      24700.5   \n",
       "1                0             0          270000.0   1293502.5      35698.5   \n",
       "2                1             0           67500.0    135000.0       6750.0   \n",
       "3                1             0          135000.0    312682.5      29686.5   \n",
       "4                1             0          121500.0    513000.0      21865.5   \n",
       "\n",
       "   ...  FLAG_DOCUMENT_18  FLAG_DOCUMENT_19  FLAG_DOCUMENT_20  \\\n",
       "0  ...                 0                 0                 0   \n",
       "1  ...                 0                 0                 0   \n",
       "2  ...                 0                 0                 0   \n",
       "3  ...                 0                 0                 0   \n",
       "4  ...                 0                 0                 0   \n",
       "\n",
       "   FLAG_DOCUMENT_21  AMT_REQ_CREDIT_BUREAU_HOUR  AMT_REQ_CREDIT_BUREAU_DAY  \\\n",
       "0                 0                    0.000000                      0.000   \n",
       "1                 0                    0.000000                      0.000   \n",
       "2                 0                    0.000000                      0.000   \n",
       "3                 0                    0.006402                      0.007   \n",
       "4                 0                    0.000000                      0.000   \n",
       "\n",
       "   AMT_REQ_CREDIT_BUREAU_WEEK  AMT_REQ_CREDIT_BUREAU_MON  \\\n",
       "0                    0.000000                   0.000000   \n",
       "1                    0.000000                   0.000000   \n",
       "2                    0.000000                   0.000000   \n",
       "3                    0.034362                   0.267395   \n",
       "4                    0.000000                   0.000000   \n",
       "\n",
       "   AMT_REQ_CREDIT_BUREAU_QRT  AMT_REQ_CREDIT_BUREAU_YEAR  \n",
       "0                   0.000000                    1.000000  \n",
       "1                   0.000000                    0.000000  \n",
       "2                   0.000000                    0.000000  \n",
       "3                   0.265474                    1.899974  \n",
       "4                   0.000000                    0.000000  \n",
       "\n",
       "[5 rows x 110 columns]"
      ]
     },
     "execution_count": 8,
     "metadata": {},
     "output_type": "execute_result"
    }
   ],
   "source": [
    "number=500 #remove col with or more missing values\n",
    "df = df[df.isnull().sum(axis=1) <= number] \n",
    "df= df.fillna(df.mean())\n",
    "df.head()"
   ]
  },
  {
   "cell_type": "markdown",
   "id": "6d8613a4",
   "metadata": {
    "papermill": {
     "duration": 0.045968,
     "end_time": "2022-05-13T18:48:55.150230",
     "exception": false,
     "start_time": "2022-05-13T18:48:55.104262",
     "status": "completed"
    },
    "tags": []
   },
   "source": [
    "# Heat Map \n",
    "There is no major multicollinearity. In fact, there are not many correlated variables. The following heatmap is set for correlations above .05 because there are so few variables that are highly correlated.\n",
    "\n",
    "The amount of annuity and days_birth (age) are the two most highly correlated features. However, since this is unbalanced data there do not seem to be many feature importance to begin with."
   ]
  },
  {
   "cell_type": "code",
   "execution_count": 9,
   "id": "7a274591",
   "metadata": {
    "execution": {
     "iopub.execute_input": "2022-05-13T18:48:55.249675Z",
     "iopub.status.busy": "2022-05-13T18:48:55.248865Z",
     "iopub.status.idle": "2022-05-13T18:49:06.785678Z",
     "shell.execute_reply": "2022-05-13T18:49:06.786250Z",
     "shell.execute_reply.started": "2022-05-13T17:48:09.207445Z"
    },
    "papermill": {
     "duration": 11.590288,
     "end_time": "2022-05-13T18:49:06.786451",
     "exception": false,
     "start_time": "2022-05-13T18:48:55.196163",
     "status": "completed"
    },
    "tags": []
   },
   "outputs": [
    {
     "name": "stdout",
     "output_type": "stream",
     "text": [
      "AxesSubplot(0.125,0.125;0.62x0.755)\n",
      "Top 10 Correlations:\n",
      " TARGET                         1.000000\n",
      "DAYS_BIRTH                     0.078239\n",
      "REGION_RATING_CLIENT_W_CITY    0.060893\n",
      "REGION_RATING_CLIENT           0.058899\n",
      "DAYS_LAST_PHONE_CHANGE         0.055218\n",
      "CODE_GENDER                    0.054710\n",
      "DAYS_ID_PUBLISH                0.051457\n",
      "REG_CITY_NOT_WORK_CITY         0.050994\n",
      "FLAG_EMP_PHONE                 0.045982\n",
      "REG_CITY_NOT_LIVE_CITY         0.044395\n",
      "Name: TARGET, dtype: float64\n"
     ]
    },
    {
     "data": {
      "image/png": "[encoded data removed]",
      "text/plain": [
       "<Figure size 720x720 with 2 Axes>"
      ]
     },
     "metadata": {
      "needs_background": "light"
     },
     "output_type": "display_data"
    }
   ],
   "source": [
    "def printHeat():\n",
    "    corr = df.corr()\n",
    "    #print(corr)\n",
    "    y='TARGET'\n",
    "    highly_corr_features = corr.index[abs(corr[y])>0.05]\n",
    "    plt.figure(figsize=(10,10))\n",
    "    heat = sns.heatmap(df[highly_corr_features].corr(),annot=True,cmap=\"RdYlGn\")\n",
    "    top10=corr[y].sort_values(ascending=False).head(10)\n",
    "    print(heat)\n",
    "    print(\"Top 10 Correlations:\\n\", top10) # top ten correlations\n",
    "printHeat()"
   ]
  },
  {
   "cell_type": "markdown",
   "id": "38261265",
   "metadata": {
    "papermill": {
     "duration": 0.051931,
     "end_time": "2022-05-13T18:49:06.888690",
     "exception": false,
     "start_time": "2022-05-13T18:49:06.836759",
     "status": "completed"
    },
    "tags": []
   },
   "source": [
    "# Split Data\n",
    "Split the data set into training data and test data. TARGET will always be Y since it is the independent variable. A 1 is a troubled loan while a 0 equals a not distressed loan. "
   ]
  },
  {
   "cell_type": "code",
   "execution_count": 10,
   "id": "264b1be8",
   "metadata": {
    "execution": {
     "iopub.execute_input": "2022-05-13T18:49:07.091606Z",
     "iopub.status.busy": "2022-05-13T18:49:07.035907Z",
     "iopub.status.idle": "2022-05-13T18:49:07.493661Z",
     "shell.execute_reply": "2022-05-13T18:49:07.493043Z",
     "shell.execute_reply.started": "2022-05-13T17:48:20.496220Z"
    },
    "papermill": {
     "duration": 0.554085,
     "end_time": "2022-05-13T18:49:07.493819",
     "exception": false,
     "start_time": "2022-05-13T18:49:06.939734",
     "status": "completed"
    },
    "tags": []
   },
   "outputs": [],
   "source": [
    "X=df.drop('TARGET', axis=1)\n",
    "y=df['TARGET']\n",
    "\n",
    "X_train, X_test, y_train, y_test = train_test_split(\n",
    "    X, y, test_size=0.3, random_state=13)"
   ]
  },
  {
   "cell_type": "markdown",
   "id": "2be2c8cc",
   "metadata": {
    "papermill": {
     "duration": 0.055568,
     "end_time": "2022-05-13T18:49:07.598540",
     "exception": false,
     "start_time": "2022-05-13T18:49:07.542972",
     "status": "completed"
    },
    "tags": []
   },
   "source": [
    "# Gradient Booster \n",
    "Gradient Boost is runtime is slow and maybe not worth investing time into. The higher the max_depth and n_estimates the better the performance. \n",
    "\n",
    "<b>max_depth report:</b> <br>\n",
    "* 2 max_depth || AUC  0.6656  || MAE 0.0741\n",
    "* 3 max_depth || AUC  0.6926  || MAE 0.0740\n",
    "* 4 max_depth || AUC  0.7037  || MAE 0.0739\n",
    "* 5 max_depth || AUC  0.7127  || MAE 0.0738\n",
    "\n",
    "<b>n_estimators report:</b> <br>\n",
    "* 2  n_estimators || AUC  0.6499 || MSE: 0.0745\n",
    "* 50  n_estimators || AUC  0.697 || MSE: 0.0728\n",
    "* 100  n_estimators || AUC  0.704 || MSE: 0.0719\n",
    "* 200  n_estimators || AUC  0.7173 || MSE: 0.0710\n",
    "\n",
    "<b>min_samples:</b> <br>\n",
    "* 2  min_samples split || AUC  0.6656  || MAE 0.0741\n",
    "* 3  min_samples split || AUC  0.6656  || MAE 0.0741\n",
    "* 5  min_samples split || AUC  0.6656  || MAE 0.0741\n"
   ]
  },
  {
   "cell_type": "code",
   "execution_count": 11,
   "id": "79d6ba24",
   "metadata": {
    "execution": {
     "iopub.execute_input": "2022-05-13T18:49:07.707673Z",
     "iopub.status.busy": "2022-05-13T18:49:07.706547Z",
     "iopub.status.idle": "2022-05-13T18:49:07.774812Z",
     "shell.execute_reply": "2022-05-13T18:49:07.774183Z",
     "shell.execute_reply.started": "2022-05-13T17:48:20.902902Z"
    },
    "papermill": {
     "duration": 0.127639,
     "end_time": "2022-05-13T18:49:07.774986",
     "exception": false,
     "start_time": "2022-05-13T18:49:07.647347",
     "status": "completed"
    },
    "tags": []
   },
   "outputs": [],
   "source": [
    "from sklearn.inspection import permutation_importance\n",
    "from sklearn.ensemble import GradientBoostingClassifier,GradientBoostingRegressor\n",
    "\n",
    "def gbDepth():\n",
    "    depthList=[2, 3, 4, 5]\n",
    "    \n",
    "    for d in depthList:\n",
    "        params = {\n",
    "         \"n_estimators\": 10, \"max_depth\": d, \n",
    "            \"min_samples_split\": 5, \"learning_rate\": 0.01,\n",
    "        }\n",
    "\n",
    "        #Fit and Predict:\n",
    "        reg = ensemble.GradientBoostingRegressor(**params)\n",
    "        reg.fit(X_train, y_train)\n",
    "        y_pred = reg.predict(X_test)\n",
    "        gbr_r2 = r2_score(y_test, y_pred).round(4) \n",
    "        #print(\"Gradient boosting regression r2: \", gbr_r2) \n",
    "\n",
    "        #calculate AUC of model\n",
    "        auc = round( metrics.roc_auc_score(y_test, y_pred), 4 ) \n",
    "        mse = mean_squared_error(y_test, reg.predict(X_test)).round(4)\n",
    "        print(d, \"max_depth || AUC \", auc, \" || MAE {:.4f}\".format(mse))\n",
    "        time.sleep(.1)\n",
    "        \n",
    "def gbN():\n",
    "    nList=[2, 50, 100, 200, 300]\n",
    "    \n",
    "    for n in nList:\n",
    "        params = {\n",
    "         \"n_estimators\": n, \"max_depth\": 2,\n",
    "            \"min_samples_split\": 5, \"learning_rate\": 0.01,\n",
    "        }\n",
    "\n",
    "        #Fit and Predict:\n",
    "        reg = ensemble.GradientBoostingRegressor(**params)\n",
    "        reg.fit(X_train, y_train)\n",
    "        y_pred = reg.predict(X_test)\n",
    "        gbr_r2 = r2_score(y_test, y_pred).round(4) \n",
    "        #print(\"Gradient boosting regression r2: \", gbr_r2) \n",
    "\n",
    "        #calculate AUC of model\n",
    "        auc = round( metrics.roc_auc_score(y_test, y_pred), 4 ) \n",
    "        mse = mean_squared_error(y_test, reg.predict(X_test)).round(4)\n",
    "        print(n, \" n_estimators || AUC \", auc, \"|| MSE: {:.4f}\".format(mse))\n",
    "\n",
    "def gbSplit():\n",
    "    sList=[2, 3, 5, 7]\n",
    "    \n",
    "    for s in sList:\n",
    "        params = {\n",
    "         \"n_estimators\": 10, \"max_depth\": 2, \n",
    "            \"min_samples_split\": s, \"learning_rate\": 0.01,\n",
    "        }\n",
    "\n",
    "        #Fit and Predict:\n",
    "        reg = ensemble.GradientBoostingRegressor(**params)\n",
    "        reg.fit(X_train, y_train)\n",
    "        y_pred = reg.predict(X_test)\n",
    "        gbr_r2 = r2_score(y_test, y_pred).round(4) \n",
    "        #print(\"Gradient boosting regression r2: \", gbr_r2) \n",
    "\n",
    "        #calculate AUC of model\n",
    "        auc = round( metrics.roc_auc_score(y_test, y_pred), 4 ) \n",
    "        mse = mean_squared_error(y_test, reg.predict(X_test)).round(4)\n",
    "        print(s, \" min_samples split || AUC \", auc, \" || MAE {:.4f}\".format(mse))\n",
    "\n",
    "#Turn on or off functions here:\n",
    "#gbDepth()\n",
    "#gbN()\n",
    "#gbSplit()"
   ]
  },
  {
   "cell_type": "markdown",
   "id": "c1647a58",
   "metadata": {
    "papermill": {
     "duration": 0.048455,
     "end_time": "2022-05-13T18:49:07.875465",
     "exception": false,
     "start_time": "2022-05-13T18:49:07.827010",
     "status": "completed"
    },
    "tags": []
   },
   "source": [
    "#### Final GB Predict"
   ]
  },
  {
   "cell_type": "code",
   "execution_count": 12,
   "id": "9b0d8f27",
   "metadata": {
    "execution": {
     "iopub.execute_input": "2022-05-13T18:49:07.991472Z",
     "iopub.status.busy": "2022-05-13T18:49:07.990507Z",
     "iopub.status.idle": "2022-05-13T18:49:07.993373Z",
     "shell.execute_reply": "2022-05-13T18:49:07.992777Z",
     "shell.execute_reply.started": "2022-05-13T17:48:20.916331Z"
    },
    "papermill": {
     "duration": 0.062823,
     "end_time": "2022-05-13T18:49:07.993525",
     "exception": false,
     "start_time": "2022-05-13T18:49:07.930702",
     "status": "completed"
    },
    "tags": []
   },
   "outputs": [],
   "source": [
    "def runGB():\n",
    "    from sklearn.inspection import permutation_importance\n",
    "    from sklearn.ensemble import GradientBoostingClassifier,GradientBoostingRegressor\n",
    "\n",
    "    params = {\n",
    "     \"n_estimators\": 200, \"max_depth\": 5, \n",
    "        \"min_samples_split\": 2, \"learning_rate\": 0.01,\n",
    "    }\n",
    "\n",
    "    #Fit and Predict:\n",
    "    reg = ensemble.GradientBoostingRegressor(**params)\n",
    "    reg.fit(X_train, y_train)\n",
    "    y_pred = reg.predict(X_test)\n",
    "\n",
    "    #Calculate Metrics:\n",
    "    gbr_r2 = r2_score(y_test, y_pred).round(4) \n",
    "    print(\"Gradient boosting regression r2: \", gbr_r2) \n",
    "\n",
    "    auc = round(metrics.roc_auc_score(y_test, y_pred), 4 ) \n",
    "    print(\"AUC for gradient boost is: \", auc)\n",
    "\n",
    "    mse = mean_squared_error(y_test, reg.predict(X_test))\n",
    "    print(\"The mean squared error (MSE) on test set: {:.4f}\".format(mse))"
   ]
  },
  {
   "cell_type": "markdown",
   "id": "40944db2",
   "metadata": {
    "papermill": {
     "duration": 0.053892,
     "end_time": "2022-05-13T18:49:08.099099",
     "exception": false,
     "start_time": "2022-05-13T18:49:08.045207",
     "status": "completed"
    },
    "tags": []
   },
   "source": [
    "# Linear Regression\n",
    "Due to small Y indepdent variables AUC is the more accurate metric than r_squared. Since the linear regression, accuracy, and cross validate are all near .045 it seems there is no sign of overfitting.\n",
    "\n",
    "<b> Results:</b> <br>\n",
    "* AUC for linear regression is:  0.7327 \n",
    "* Accuracy:  0.0475 \n",
    "* 0.0489  linear regression cross validate mean "
   ]
  },
  {
   "cell_type": "code",
   "execution_count": 13,
   "id": "a2586a92",
   "metadata": {
    "execution": {
     "iopub.execute_input": "2022-05-13T18:49:08.207820Z",
     "iopub.status.busy": "2022-05-13T18:49:08.206652Z",
     "iopub.status.idle": "2022-05-13T18:49:21.245918Z",
     "shell.execute_reply": "2022-05-13T18:49:21.246383Z",
     "shell.execute_reply.started": "2022-05-13T17:50:06.599301Z"
    },
    "papermill": {
     "duration": 13.099493,
     "end_time": "2022-05-13T18:49:21.246578",
     "exception": false,
     "start_time": "2022-05-13T18:49:08.147085",
     "status": "completed"
    },
    "tags": []
   },
   "outputs": [
    {
     "name": "stdout",
     "output_type": "stream",
     "text": [
      "AUC for linear regression is:  0.7407\n",
      "Linear regression r2 score:  0.058\n",
      "Linear Accuracy:  0.058\n",
      "0.0591  linear regression cross validate mean\n"
     ]
    },
    {
     "data": {
      "image/png": "[encoded data removed]",
      "text/plain": [
       "<Figure size 432x288 with 1 Axes>"
      ]
     },
     "metadata": {
      "needs_background": "light"
     },
     "output_type": "display_data"
    }
   ],
   "source": [
    "from sklearn.linear_model import LinearRegression, Ridge, Lasso\n",
    "\n",
    "#Fit and predict:\n",
    "lrModel = LinearRegression()\n",
    "lrModel.fit(X_train, y_train)\n",
    "lrPredict = lrModel.predict(X_test)\n",
    "\n",
    "# plt.scatter(y_test, predictions)\n",
    "plt.hist(y_test - lrPredict)\n",
    "\n",
    "#Linear Metrics:\n",
    "auc = round( metrics.roc_auc_score(y_test, lrPredict), 4 ) \n",
    "r2 = r2_score(y_test, lrPredict).round(4) \n",
    "print(\"AUC for linear regression is: \", auc)\n",
    "print(\"Linear regression r2 score: \", r2)\n",
    "\n",
    "#CROSS VALIDATE TEST RESULTS:\n",
    "lr_score = lrModel.score(X_test, y_test).round(4)  # train test \n",
    "print(\"Linear Accuracy: \", lr_score)\n",
    "lr_cv = cross_validate(lrModel, X, y, cv = 5, scoring= 'r2')\n",
    "lr_cvMean=lr_cv['test_score'].mean().round(4)\n",
    "print(lr_cvMean, \" linear regression cross validate mean\")\n",
    "\n",
    "def linearReports():\n",
    "    print(model.coef_)    \n",
    "    print(model.intercept_)\n",
    "    print(classification_report(y_test_data, lrPredict))\n",
    "    print(confusion_matrix(y_test_data, lrPredict))\n",
    "    metrics.mean_absolute_error(y_test, lrPredict)\n",
    "    lrMSE=np.sqrt(metrics.mean_squared_error(y_test, lrPredict))\n",
    "    print(round(lrMSE, 4), \" is lr MSE \")"
   ]
  },
  {
   "cell_type": "markdown",
   "id": "5325c707",
   "metadata": {
    "execution": {
     "iopub.execute_input": "2022-02-18T21:50:17.903218Z",
     "iopub.status.busy": "2022-02-18T21:50:17.902367Z",
     "iopub.status.idle": "2022-02-18T21:50:17.906851Z",
     "shell.execute_reply": "2022-02-18T21:50:17.905835Z",
     "shell.execute_reply.started": "2022-02-18T21:50:17.903177Z"
    },
    "papermill": {
     "duration": 0.052545,
     "end_time": "2022-05-13T18:49:21.350540",
     "exception": false,
     "start_time": "2022-05-13T18:49:21.297995",
     "status": "completed"
    },
    "tags": []
   },
   "source": [
    "# Decision Tree\n",
    "AUC for decision tree is:  0.74 using a number for max_leaf_nodes that reduces error.\n",
    "\n",
    "The least MAE error is 11 max_depth and MAE for 500 max_leaf_nodes. \n",
    "\n",
    "The automateTree function confirms the following:\n",
    "* Least error is at max_depth = 11 and max_leaf_nodes = 500. \n",
    "* Highest AUC is at 2 = max_depth and max_leaf_nodes = 5.  \n",
    "\n",
    "#### Hyperparameter Tunning Decision Tree"
   ]
  },
  {
   "cell_type": "code",
   "execution_count": 14,
   "id": "5a84199e",
   "metadata": {
    "execution": {
     "iopub.execute_input": "2022-05-13T18:49:21.466204Z",
     "iopub.status.busy": "2022-05-13T18:49:21.465426Z",
     "iopub.status.idle": "2022-05-13T18:49:21.476221Z",
     "shell.execute_reply": "2022-05-13T18:49:21.476742Z",
     "shell.execute_reply.started": "2022-05-13T17:50:06.601134Z"
    },
    "papermill": {
     "duration": 0.072149,
     "end_time": "2022-05-13T18:49:21.476957",
     "exception": false,
     "start_time": "2022-05-13T18:49:21.404808",
     "status": "completed"
    },
    "tags": []
   },
   "outputs": [],
   "source": [
    "from sklearn.tree import DecisionTreeRegressor\n",
    "\n",
    "#FIND best_tree_size LEAF NODES:\n",
    "def calcLeaf():\n",
    "    candidate_max_leaf_nodes = [5, 25, 50, 100, 250, 500]\n",
    "    maeDic={} #dictionary  key=leaf  mae=value\n",
    "    for leaf in candidate_max_leaf_nodes:\n",
    "        model = DecisionTreeRegressor(max_leaf_nodes=leaf, random_state=42)\n",
    "        model.fit(X_train, y_train)\n",
    "        y_pred = model.predict(X_test)\n",
    "        mae = mean_absolute_error(y_test, y_pred).round(4)\n",
    "        maeDic[leaf]=mae\n",
    "    print(maeDic)\n",
    "    best_tree_size = sorted(maeDic, key=lambda x : maeDic[x])[0]\n",
    "    print(best_tree_size, \" best max_leaf_node\") #500 is best\n",
    "    \n",
    "def calcDepth():\n",
    "    max_depth_list = [2, 3, 5, 7, 9, 11]\n",
    "    maeDic={} #dictionary  key=depth  mae=value\n",
    "    for d in max_depth_list:\n",
    "        model = DecisionTreeRegressor(max_leaf_nodes=500, max_depth=d, random_state=42)\n",
    "        model.fit(X_train, y_train)\n",
    "        y_pred = model.predict(X_test)\n",
    "        mae = mean_absolute_error(y_test, y_pred).round(4)\n",
    "        maeDic[d]=mae\n",
    "    print(maeDic)\n",
    "    best_max_depth = sorted(maeDic, key=lambda x : maeDic[x])[0]\n",
    "    print(best_max_depth, \" best max_depth parameter with least MAE\") #11\n",
    "    \n",
    "def automateTree():\n",
    "    print(\"Decision Tree Automating:\")\n",
    "    start=time.time()\n",
    "    candidate_max_leaf_nodes = [5, 25, 50, 100, 250, 500]\n",
    "    max_depth_list = [2, 3, 5, 7, 9, 11]\n",
    "    \n",
    "    #STORE DATA INTO LISTS FOR DATAFRAME LATER:\n",
    "    aucList=[]\n",
    "    maeList=[]\n",
    "    maxDepthList=[]\n",
    "    maxLeafNodesList=[]\n",
    "\n",
    "    for d in max_depth_list:\n",
    "        for leaf in candidate_max_leaf_nodes:\n",
    "            model = DecisionTreeRegressor(max_leaf_nodes=leaf, max_depth=d, random_state=42)\n",
    "            model.fit(X_train, y_train)\n",
    "            y_pred = model.predict(X_test)\n",
    "            mae = mean_absolute_error(y_test, y_pred).round(4)\n",
    "            treeAUC = round( metrics.roc_auc_score(y_test, y_pred), 4 ) \n",
    "            \n",
    "            aucList.append(treeAUC)\n",
    "            maeList.append(mae)\n",
    "            maxDepthList.append(d)\n",
    "            maxLeafNodesList.append(leaf)\n",
    "           \n",
    "            \n",
    "    df = pd.DataFrame(list(zip(aucList, maeList, maxDepthList, maxLeafNodesList)),\n",
    "                          columns=['AUC','MAE', 'MaxDepth', 'MaxLeafNodes'])\n",
    "    \n",
    "    df=df.sort_values(by=['AUC'], ascending=True)\n",
    "    print(\"Done. \", round(time.time()-start,4), \" seconds\")\n",
    "    return df\n",
    "\n",
    "#calcDepth() \n",
    "#calcLeaf()\n",
    "#treeDF=automateTree()\n",
    "#treeDF.head()"
   ]
  },
  {
   "cell_type": "markdown",
   "id": "bef04241",
   "metadata": {
    "papermill": {
     "duration": 0.050305,
     "end_time": "2022-05-13T18:49:21.578103",
     "exception": false,
     "start_time": "2022-05-13T18:49:21.527798",
     "status": "completed"
    },
    "tags": []
   },
   "source": [
    "#### Decision Tree Prediction\n",
    "Input data from above using best max_depth and max_leaf_nodes. Generally, data that has high prediction and low error recieves the best score. "
   ]
  },
  {
   "cell_type": "code",
   "execution_count": 15,
   "id": "1c9ccf90",
   "metadata": {
    "execution": {
     "iopub.execute_input": "2022-05-13T18:49:21.682435Z",
     "iopub.status.busy": "2022-05-13T18:49:21.681633Z",
     "iopub.status.idle": "2022-05-13T18:49:27.138982Z",
     "shell.execute_reply": "2022-05-13T18:49:27.137890Z",
     "shell.execute_reply.started": "2022-05-13T17:50:06.602832Z"
    },
    "papermill": {
     "duration": 5.511407,
     "end_time": "2022-05-13T18:49:27.139219",
     "exception": false,
     "start_time": "2022-05-13T18:49:21.627812",
     "status": "completed"
    },
    "tags": []
   },
   "outputs": [
    {
     "name": "stdout",
     "output_type": "stream",
     "text": [
      "AUC for decision tree is:  0.697\n"
     ]
    }
   ],
   "source": [
    "best_tree_size=11\n",
    "best_depth=500\n",
    "\n",
    "#MAKE PREDICTION:\n",
    "tree = DecisionTreeRegressor(max_leaf_nodes=best_tree_size, random_state=42)\n",
    "tree.fit(X, y)\n",
    "y_pred = tree.predict(X_test)\n",
    "\n",
    "#AUC and r2 metric:\n",
    "treeR2 = r2_score(y_test, y_pred).round(4)\n",
    "treeAUC = round( metrics.roc_auc_score(y_test, y_pred), 4 ) \n",
    "print(\"AUC for decision tree is: \", treeAUC)\n",
    "\n",
    "def printReports(y_test, y_pred):\n",
    "    print(classification_report(y_test, y_pred))\n",
    "    print(confusion_matrix(y_test, y_pred))\n",
    "    treeMSE=np.sqrt(metrics.mean_squared_error(y_test, y_pred))\n",
    "    print(round(treeMSE, 4), \" is tree MSE \")"
   ]
  },
  {
   "cell_type": "markdown",
   "id": "f3cc9f2a",
   "metadata": {
    "papermill": {
     "duration": 0.05166,
     "end_time": "2022-05-13T18:49:27.244008",
     "exception": false,
     "start_time": "2022-05-13T18:49:27.192348",
     "status": "completed"
    },
    "tags": []
   },
   "source": [
    "# Logistic Regression\n",
    "AUC for logistic regression is:  0.6145 with mse at 0.0709.\n",
    "\n",
    "#### Parameter Tuning\n",
    " The c parameter in logistic regression model by definition is the following: \"Inverse of regularization strength; must be a positive float. Like in support vector machines, smaller values specify stronger regularization\". Using 1 the default value for C or putting C at .01 did not change the AUC for the logistic regression."
   ]
  },
  {
   "cell_type": "code",
   "execution_count": 16,
   "id": "1a17ca8b",
   "metadata": {
    "execution": {
     "iopub.execute_input": "2022-05-13T18:49:27.363454Z",
     "iopub.status.busy": "2022-05-13T18:49:27.362592Z",
     "iopub.status.idle": "2022-05-13T18:49:27.365795Z",
     "shell.execute_reply": "2022-05-13T18:49:27.365206Z",
     "shell.execute_reply.started": "2022-05-13T17:50:06.605163Z"
    },
    "papermill": {
     "duration": 0.065947,
     "end_time": "2022-05-13T18:49:27.365986",
     "exception": false,
     "start_time": "2022-05-13T18:49:27.300039",
     "status": "completed"
    },
    "tags": []
   },
   "outputs": [],
   "source": [
    "from sklearn.linear_model import LogisticRegression\n",
    "#Note: solver param gets rid of encoder error\n",
    "\n",
    "def logC():\n",
    "    cList=[.01, 1, 2, 5, 10]\n",
    "    for n in cList:\n",
    "        logReg = LogisticRegression(solver='liblinear', C=n) \n",
    "\n",
    "        logReg.fit(X_train, y_train)\n",
    "        logPredict = logReg.predict_proba(X_test)[::,1]\n",
    "\n",
    "        auc = round( metrics.roc_auc_score(y_test, logPredict), 4 ) \n",
    "        print(n, \" C param logistic regression AUC: \", auc)\n",
    "\n",
    "        mae = mean_absolute_error(y_test, y_pred).round(4)\n",
    "        print(mae, \" MAE error\", '\\n')    \n",
    "# logC()"
   ]
  },
  {
   "cell_type": "markdown",
   "id": "4196eacc",
   "metadata": {
    "papermill": {
     "duration": 0.05138,
     "end_time": "2022-05-13T18:49:27.470209",
     "exception": false,
     "start_time": "2022-05-13T18:49:27.418829",
     "status": "completed"
    },
    "tags": []
   },
   "source": [
    "#### Final Logistic Regression"
   ]
  },
  {
   "cell_type": "code",
   "execution_count": 17,
   "id": "30f0b1f5",
   "metadata": {
    "execution": {
     "iopub.execute_input": "2022-05-13T18:49:27.588079Z",
     "iopub.status.busy": "2022-05-13T18:49:27.587318Z",
     "iopub.status.idle": "2022-05-13T18:49:27.597864Z",
     "shell.execute_reply": "2022-05-13T18:49:27.598444Z",
     "shell.execute_reply.started": "2022-05-13T17:50:06.607170Z"
    },
    "papermill": {
     "duration": 0.072249,
     "end_time": "2022-05-13T18:49:27.598661",
     "exception": false,
     "start_time": "2022-05-13T18:49:27.526412",
     "status": "completed"
    },
    "tags": []
   },
   "outputs": [],
   "source": [
    "from sklearn.linear_model import LogisticRegression\n",
    "\n",
    "def logistic():\n",
    "    log_reg = LogisticRegression(solver='liblinear') #solver param gets rid of encoder error\n",
    "\n",
    "    #Train the model and create predictions\n",
    "    log_reg.fit(X_train, y_train)\n",
    "\n",
    "    #use model to predict probability that given y value is 1:\n",
    "    log_reg_pred = log_reg.predict_proba(X_test)[::,1]\n",
    "\n",
    "    #calculate AUC of model\n",
    "    auc = round(metrics.roc_auc_score(y_test, log_reg_pred), 4 ) \n",
    "    print(\"AUC for logistic regression is: \", auc)\n",
    "\n",
    "    #Mean Squared Error\n",
    "    mse = mean_squared_error(y_test, log_reg_pred)\n",
    "    print(\"The mean squared error (MSE) on test set: {:.4f}\".format(mse))"
   ]
  },
  {
   "cell_type": "markdown",
   "id": "ca85f80a",
   "metadata": {
    "papermill": {
     "duration": 0.056595,
     "end_time": "2022-05-13T18:49:27.719540",
     "exception": false,
     "start_time": "2022-05-13T18:49:27.662945",
     "status": "completed"
    },
    "tags": []
   },
   "source": [
    "## Random Forest \n",
    "Random forest AUC:  0.6312. Checking for the MAE with least error has long run-time so it is important to use checkMAE as a function only when needed. Since this is unbalanced data, r-squared should not be used. This is not a good model with extreme memory issues."
   ]
  },
  {
   "cell_type": "code",
   "execution_count": 18,
   "id": "449932a1",
   "metadata": {
    "execution": {
     "iopub.execute_input": "2022-05-13T18:49:27.839414Z",
     "iopub.status.busy": "2022-05-13T18:49:27.833873Z",
     "iopub.status.idle": "2022-05-13T18:49:27.842638Z",
     "shell.execute_reply": "2022-05-13T18:49:27.842013Z",
     "shell.execute_reply.started": "2022-05-13T17:50:06.609008Z"
    },
    "papermill": {
     "duration": 0.070073,
     "end_time": "2022-05-13T18:49:27.842802",
     "exception": false,
     "start_time": "2022-05-13T18:49:27.772729",
     "status": "completed"
    },
    "tags": []
   },
   "outputs": [],
   "source": [
    "from sklearn.ensemble import RandomForestRegressor\n",
    "\n",
    "#Check for Error and find Best n_estimators:\n",
    "def checkMAE():\n",
    "    print(\"Starting MAE:\")\n",
    "    dMAE={} #dictionary of n_estimators as key and MAE as value:\n",
    "    for n in range(2, 400, 30):\n",
    "        forest = RandomForestRegressor(n_estimators=n, random_state = 0)\n",
    "        forest.fit(X_train, y_train)\n",
    "        y_pred = forest.predict(X_test)\n",
    "        MAE=metrics.mean_absolute_error(y_test, y_pred).round(2)\n",
    "        dMAE[n]=MAE\n",
    "        auc = round(metrics.roc_auc_score(y_test, y_pred), 4 ) \n",
    "        print(n, \" n_estimates || \", auc, \"AUC || MAE \", MAE)\n",
    "        time.sleep(.1)\n",
    "    dMAE=sorted(((v, k) for k, v in dMAE.items()), reverse=False)\n",
    "#checkMAE() #turn function on or off by uncommenting"
   ]
  },
  {
   "cell_type": "markdown",
   "id": "2fef2b30",
   "metadata": {
    "execution": {
     "iopub.execute_input": "2022-03-18T20:40:19.816471Z",
     "iopub.status.busy": "2022-03-18T20:40:19.816119Z",
     "iopub.status.idle": "2022-03-18T20:40:19.821056Z",
     "shell.execute_reply": "2022-03-18T20:40:19.819985Z",
     "shell.execute_reply.started": "2022-03-18T20:40:19.81642Z"
    },
    "papermill": {
     "duration": 0.051448,
     "end_time": "2022-05-13T18:49:27.944628",
     "exception": false,
     "start_time": "2022-05-13T18:49:27.893180",
     "status": "completed"
    },
    "tags": []
   },
   "source": [
    "#### Forest fit and predict"
   ]
  },
  {
   "cell_type": "code",
   "execution_count": 19,
   "id": "88e3d306",
   "metadata": {
    "execution": {
     "iopub.execute_input": "2022-05-13T18:49:28.060224Z",
     "iopub.status.busy": "2022-05-13T18:49:28.059385Z",
     "iopub.status.idle": "2022-05-13T18:49:28.065772Z",
     "shell.execute_reply": "2022-05-13T18:49:28.066393Z",
     "shell.execute_reply.started": "2022-05-13T17:50:06.611654Z"
    },
    "papermill": {
     "duration": 0.06685,
     "end_time": "2022-05-13T18:49:28.066582",
     "exception": false,
     "start_time": "2022-05-13T18:49:27.999732",
     "status": "completed"
    },
    "tags": []
   },
   "outputs": [],
   "source": [
    "def forest():\n",
    "    num=10\n",
    "    forest = RandomForestRegressor(n_estimators=num, random_state = 0)\n",
    "    forest.fit(X_train, y_train)\n",
    "    y_pred = forest.predict(X_test)\n",
    "\n",
    "    #Print Metrics:\n",
    "    forest_r2 = r2_score(y_test, y_pred).round(4)  \n",
    "    forest_auc = round( metrics.roc_auc_score(y_test, y_pred), 4 ) \n",
    "    print(\"Random forest AUC: \", forest_auc) \n",
    "    print(\"Random forest r2: \", forest_r2)\n",
    "\n",
    "def forestReports():\n",
    "    mae=metrics.mean_absolute_error(y_test, y_pred).round(2)\n",
    "    print(\"Random forest MAE: \", mae)"
   ]
  },
  {
   "cell_type": "markdown",
   "id": "14df76bc",
   "metadata": {
    "papermill": {
     "duration": 0.055691,
     "end_time": "2022-05-13T18:49:28.177589",
     "exception": false,
     "start_time": "2022-05-13T18:49:28.121898",
     "status": "completed"
    },
    "tags": []
   },
   "source": [
    "## K-Nearest Neighbors (KNN)\n",
    "First, we must select the optimal K value with the least amount of error. When graphing the error rates, 3 is the knn that provides the least amount of error. Because the large amount of data, the KNN model runs very slow which is a big issue for KNN. If you do run the KNN model, after some time, the final AUC result is around 0.5184 which was the worse predictive model. "
   ]
  },
  {
   "cell_type": "code",
   "execution_count": 20,
   "id": "f069b93b",
   "metadata": {
    "execution": {
     "iopub.execute_input": "2022-05-13T18:49:28.289189Z",
     "iopub.status.busy": "2022-05-13T18:49:28.288383Z",
     "iopub.status.idle": "2022-05-13T18:49:28.299246Z",
     "shell.execute_reply": "2022-05-13T18:49:28.299869Z",
     "shell.execute_reply.started": "2022-05-13T17:50:06.613523Z"
    },
    "papermill": {
     "duration": 0.070396,
     "end_time": "2022-05-13T18:49:28.300052",
     "exception": false,
     "start_time": "2022-05-13T18:49:28.229656",
     "status": "completed"
    },
    "tags": []
   },
   "outputs": [],
   "source": [
    "from sklearn.neighbors import KNeighborsRegressor\n",
    "\n",
    "def knnError():\n",
    "    print(\"Finding best n_neighbors value:\")\n",
    "    error_rates = []\n",
    "    for i in range(1, 10, 2): #Must be an odd number to break a tie\n",
    "        knnModel = KNeighborsClassifier(n_neighbors = i)\n",
    "        knnModel.fit(X_train, y_train)\n",
    "        knnPredict = knnModel.predict_proba(X_test)[::,1]\n",
    "        new_predictions = knnModel.predict(X_test)\n",
    "        error_rates.append(np.mean(new_predictions != y_test))\n",
    "        knn_auc = round( metrics.roc_auc_score(y_test, knnPredict), 4 ) \n",
    "        print(i,\" n_neighbors || Knn AUC: \", knn_auc, \" || Error \", error_rates)\n",
    "    plt.figure(figsize=(16,12))\n",
    "    plt.plot(error_rates)\n",
    "\n",
    "def knnModel():\n",
    "    #Train the model and make predictions:\n",
    "    knn = KNeighborsClassifier(n_neighbors =3) \n",
    "    knn.fit(X_train, y_train)\n",
    "    knnPredict = knn.predict_proba(X_test)[::,1]\n",
    "\n",
    "    #calculate AUC of model\n",
    "    knn_auc = round( metrics.roc_auc_score(y_test, knnPredict), 4 ) \n",
    "    print(\"Knn AUC: \", knn_auc)\n",
    "\n",
    "def knnReports():\n",
    "    acc = metrics.accuracy_score(y_test_data, knnPredict)\n",
    "    print(confusion_matrix(y_test, knnPredict))\n",
    "    print(classification_report(y_test, knnPredict))\n",
    "    print(confusion_matrix(y_test, knnPredict))\n",
    "\n",
    "#knnError()"
   ]
  },
  {
   "cell_type": "markdown",
   "id": "15b46e75",
   "metadata": {
    "papermill": {
     "duration": 0.051447,
     "end_time": "2022-05-13T18:49:28.404359",
     "exception": false,
     "start_time": "2022-05-13T18:49:28.352912",
     "status": "completed"
    },
    "tags": []
   },
   "source": [
    "# Support Vector\n",
    "SVM is too slow and the original model with no tuning was not very effective. Therefore, one should just consider not using this model."
   ]
  },
  {
   "cell_type": "code",
   "execution_count": 21,
   "id": "aa96596f",
   "metadata": {
    "execution": {
     "iopub.execute_input": "2022-05-13T18:49:28.524055Z",
     "iopub.status.busy": "2022-05-13T18:49:28.522981Z",
     "iopub.status.idle": "2022-05-13T18:49:28.526573Z",
     "shell.execute_reply": "2022-05-13T18:49:28.526013Z",
     "shell.execute_reply.started": "2022-05-13T17:50:06.615149Z"
    },
    "papermill": {
     "duration": 0.070814,
     "end_time": "2022-05-13T18:49:28.526728",
     "exception": false,
     "start_time": "2022-05-13T18:49:28.455914",
     "status": "completed"
    },
    "tags": []
   },
   "outputs": [],
   "source": [
    "def trySVM():\n",
    "    from sklearn.svm import SVC\n",
    "    \n",
    "    #Fit and Predict:\n",
    "    svc = SVC()\n",
    "    svc.fit(X_train, y_train)\n",
    "    svc_predit = svc.predict(X_test)\n",
    "\n",
    "    #calculate AUC of model\n",
    "    auc = round( metrics.roc_auc_score(y_test, svc_predit), 4 ) \n",
    "    print(\"SVC AUC is: \", auc)\n",
    "\n",
    "def svmReports():\n",
    "    print(classification_report(y_test, svc_predit))\n",
    "    print(confusion_matrix(y_test, svc_predit))\n",
    "    metrics.mean_absolute_error(y_test, svc_predit)\n",
    "    metrics.mean_squared_error(y_test, svc_predit)\n",
    "    np.sqrt(metrics.mean_squared_error(y_test, svc_predit))"
   ]
  },
  {
   "cell_type": "markdown",
   "id": "04fa116c",
   "metadata": {
    "papermill": {
     "duration": 0.052308,
     "end_time": "2022-05-13T18:49:28.633011",
     "exception": false,
     "start_time": "2022-05-13T18:49:28.580703",
     "status": "completed"
    },
    "tags": []
   },
   "source": [
    "# Test Dataset \n",
    "A final prediction needs to be made for each of the 48744 cleints. The shape of the test data is (48744, 121). "
   ]
  },
  {
   "cell_type": "code",
   "execution_count": 22,
   "id": "141bcee7",
   "metadata": {
    "execution": {
     "iopub.execute_input": "2022-05-13T18:49:28.752308Z",
     "iopub.status.busy": "2022-05-13T18:49:28.751556Z",
     "iopub.status.idle": "2022-05-13T18:49:28.771801Z",
     "shell.execute_reply": "2022-05-13T18:49:28.771224Z",
     "shell.execute_reply.started": "2022-05-13T17:50:06.617138Z"
    },
    "papermill": {
     "duration": 0.088251,
     "end_time": "2022-05-13T18:49:28.771963",
     "exception": false,
     "start_time": "2022-05-13T18:49:28.683712",
     "status": "completed"
    },
    "tags": []
   },
   "outputs": [
    {
     "name": "stdout",
     "output_type": "stream",
     "text": [
      "(48744, 121)\n"
     ]
    },
    {
     "data": {
      "text/html": [
       "<div>\n",
       "<style scoped>\n",
       "    .dataframe tbody tr th:only-of-type {\n",
       "        vertical-align: middle;\n",
       "    }\n",
       "\n",
       "    .dataframe tbody tr th {\n",
       "        vertical-align: top;\n",
       "    }\n",
       "\n",
       "    .dataframe thead th {\n",
       "        text-align: right;\n",
       "    }\n",
       "</style>\n",
       "<table border=\"1\" class=\"dataframe\">\n",
       "  <thead>\n",
       "    <tr style=\"text-align: right;\">\n",
       "      <th></th>\n",
       "      <th>SK_ID_CURR</th>\n",
       "      <th>NAME_CONTRACT_TYPE</th>\n",
       "      <th>CODE_GENDER</th>\n",
       "      <th>FLAG_OWN_CAR</th>\n",
       "      <th>FLAG_OWN_REALTY</th>\n",
       "      <th>CNT_CHILDREN</th>\n",
       "      <th>AMT_INCOME_TOTAL</th>\n",
       "      <th>AMT_CREDIT</th>\n",
       "      <th>AMT_ANNUITY</th>\n",
       "      <th>AMT_GOODS_PRICE</th>\n",
       "      <th>...</th>\n",
       "      <th>FLAG_DOCUMENT_18</th>\n",
       "      <th>FLAG_DOCUMENT_19</th>\n",
       "      <th>FLAG_DOCUMENT_20</th>\n",
       "      <th>FLAG_DOCUMENT_21</th>\n",
       "      <th>AMT_REQ_CREDIT_BUREAU_HOUR</th>\n",
       "      <th>AMT_REQ_CREDIT_BUREAU_DAY</th>\n",
       "      <th>AMT_REQ_CREDIT_BUREAU_WEEK</th>\n",
       "      <th>AMT_REQ_CREDIT_BUREAU_MON</th>\n",
       "      <th>AMT_REQ_CREDIT_BUREAU_QRT</th>\n",
       "      <th>AMT_REQ_CREDIT_BUREAU_YEAR</th>\n",
       "    </tr>\n",
       "  </thead>\n",
       "  <tbody>\n",
       "    <tr>\n",
       "      <th>0</th>\n",
       "      <td>100001</td>\n",
       "      <td>Cash loans</td>\n",
       "      <td>F</td>\n",
       "      <td>N</td>\n",
       "      <td>Y</td>\n",
       "      <td>0</td>\n",
       "      <td>135000.0</td>\n",
       "      <td>568800.0</td>\n",
       "      <td>20560.5</td>\n",
       "      <td>450000.0</td>\n",
       "      <td>...</td>\n",
       "      <td>0</td>\n",
       "      <td>0</td>\n",
       "      <td>0</td>\n",
       "      <td>0</td>\n",
       "      <td>0.0</td>\n",
       "      <td>0.0</td>\n",
       "      <td>0.0</td>\n",
       "      <td>0.0</td>\n",
       "      <td>0.0</td>\n",
       "      <td>0.0</td>\n",
       "    </tr>\n",
       "    <tr>\n",
       "      <th>1</th>\n",
       "      <td>100005</td>\n",
       "      <td>Cash loans</td>\n",
       "      <td>M</td>\n",
       "      <td>N</td>\n",
       "      <td>Y</td>\n",
       "      <td>0</td>\n",
       "      <td>99000.0</td>\n",
       "      <td>222768.0</td>\n",
       "      <td>17370.0</td>\n",
       "      <td>180000.0</td>\n",
       "      <td>...</td>\n",
       "      <td>0</td>\n",
       "      <td>0</td>\n",
       "      <td>0</td>\n",
       "      <td>0</td>\n",
       "      <td>0.0</td>\n",
       "      <td>0.0</td>\n",
       "      <td>0.0</td>\n",
       "      <td>0.0</td>\n",
       "      <td>0.0</td>\n",
       "      <td>3.0</td>\n",
       "    </tr>\n",
       "    <tr>\n",
       "      <th>2</th>\n",
       "      <td>100013</td>\n",
       "      <td>Cash loans</td>\n",
       "      <td>M</td>\n",
       "      <td>Y</td>\n",
       "      <td>Y</td>\n",
       "      <td>0</td>\n",
       "      <td>202500.0</td>\n",
       "      <td>663264.0</td>\n",
       "      <td>69777.0</td>\n",
       "      <td>630000.0</td>\n",
       "      <td>...</td>\n",
       "      <td>0</td>\n",
       "      <td>0</td>\n",
       "      <td>0</td>\n",
       "      <td>0</td>\n",
       "      <td>0.0</td>\n",
       "      <td>0.0</td>\n",
       "      <td>0.0</td>\n",
       "      <td>0.0</td>\n",
       "      <td>1.0</td>\n",
       "      <td>4.0</td>\n",
       "    </tr>\n",
       "    <tr>\n",
       "      <th>3</th>\n",
       "      <td>100028</td>\n",
       "      <td>Cash loans</td>\n",
       "      <td>F</td>\n",
       "      <td>N</td>\n",
       "      <td>Y</td>\n",
       "      <td>2</td>\n",
       "      <td>315000.0</td>\n",
       "      <td>1575000.0</td>\n",
       "      <td>49018.5</td>\n",
       "      <td>1575000.0</td>\n",
       "      <td>...</td>\n",
       "      <td>0</td>\n",
       "      <td>0</td>\n",
       "      <td>0</td>\n",
       "      <td>0</td>\n",
       "      <td>0.0</td>\n",
       "      <td>0.0</td>\n",
       "      <td>0.0</td>\n",
       "      <td>0.0</td>\n",
       "      <td>0.0</td>\n",
       "      <td>3.0</td>\n",
       "    </tr>\n",
       "    <tr>\n",
       "      <th>4</th>\n",
       "      <td>100038</td>\n",
       "      <td>Cash loans</td>\n",
       "      <td>M</td>\n",
       "      <td>Y</td>\n",
       "      <td>N</td>\n",
       "      <td>1</td>\n",
       "      <td>180000.0</td>\n",
       "      <td>625500.0</td>\n",
       "      <td>32067.0</td>\n",
       "      <td>625500.0</td>\n",
       "      <td>...</td>\n",
       "      <td>0</td>\n",
       "      <td>0</td>\n",
       "      <td>0</td>\n",
       "      <td>0</td>\n",
       "      <td>NaN</td>\n",
       "      <td>NaN</td>\n",
       "      <td>NaN</td>\n",
       "      <td>NaN</td>\n",
       "      <td>NaN</td>\n",
       "      <td>NaN</td>\n",
       "    </tr>\n",
       "  </tbody>\n",
       "</table>\n",
       "<p>5 rows × 121 columns</p>\n",
       "</div>"
      ],
      "text/plain": [
       "   SK_ID_CURR NAME_CONTRACT_TYPE CODE_GENDER FLAG_OWN_CAR FLAG_OWN_REALTY  \\\n",
       "0      100001         Cash loans           F            N               Y   \n",
       "1      100005         Cash loans           M            N               Y   \n",
       "2      100013         Cash loans           M            Y               Y   \n",
       "3      100028         Cash loans           F            N               Y   \n",
       "4      100038         Cash loans           M            Y               N   \n",
       "\n",
       "   CNT_CHILDREN  AMT_INCOME_TOTAL  AMT_CREDIT  AMT_ANNUITY  AMT_GOODS_PRICE  \\\n",
       "0             0          135000.0    568800.0      20560.5         450000.0   \n",
       "1             0           99000.0    222768.0      17370.0         180000.0   \n",
       "2             0          202500.0    663264.0      69777.0         630000.0   \n",
       "3             2          315000.0   1575000.0      49018.5        1575000.0   \n",
       "4             1          180000.0    625500.0      32067.0         625500.0   \n",
       "\n",
       "   ... FLAG_DOCUMENT_18 FLAG_DOCUMENT_19 FLAG_DOCUMENT_20 FLAG_DOCUMENT_21  \\\n",
       "0  ...                0                0                0                0   \n",
       "1  ...                0                0                0                0   \n",
       "2  ...                0                0                0                0   \n",
       "3  ...                0                0                0                0   \n",
       "4  ...                0                0                0                0   \n",
       "\n",
       "  AMT_REQ_CREDIT_BUREAU_HOUR  AMT_REQ_CREDIT_BUREAU_DAY  \\\n",
       "0                        0.0                        0.0   \n",
       "1                        0.0                        0.0   \n",
       "2                        0.0                        0.0   \n",
       "3                        0.0                        0.0   \n",
       "4                        NaN                        NaN   \n",
       "\n",
       "   AMT_REQ_CREDIT_BUREAU_WEEK  AMT_REQ_CREDIT_BUREAU_MON  \\\n",
       "0                         0.0                        0.0   \n",
       "1                         0.0                        0.0   \n",
       "2                         0.0                        0.0   \n",
       "3                         0.0                        0.0   \n",
       "4                         NaN                        NaN   \n",
       "\n",
       "   AMT_REQ_CREDIT_BUREAU_QRT  AMT_REQ_CREDIT_BUREAU_YEAR  \n",
       "0                        0.0                         0.0  \n",
       "1                        0.0                         3.0  \n",
       "2                        1.0                         4.0  \n",
       "3                        0.0                         3.0  \n",
       "4                        NaN                         NaN  \n",
       "\n",
       "[5 rows x 121 columns]"
      ]
     },
     "execution_count": 22,
     "metadata": {},
     "output_type": "execute_result"
    }
   ],
   "source": [
    "print(testDF.shape)\n",
    "testDF.head()"
   ]
  },
  {
   "cell_type": "markdown",
   "id": "59070ea3",
   "metadata": {
    "papermill": {
     "duration": 0.054499,
     "end_time": "2022-05-13T18:49:28.880795",
     "exception": false,
     "start_time": "2022-05-13T18:49:28.826296",
     "status": "completed"
    },
    "tags": []
   },
   "source": [
    "# Feature Engineer Test Data\n",
    "To make a final prediction, the same columns used for the train data should be used for the test data. Missing values must be filled with the mean. Dropping a column would mean a house does not get a prediction so that cannot be done."
   ]
  },
  {
   "cell_type": "code",
   "execution_count": 23,
   "id": "b26a3288",
   "metadata": {
    "execution": {
     "iopub.execute_input": "2022-05-13T18:49:29.005729Z",
     "iopub.status.busy": "2022-05-13T18:49:28.995048Z",
     "iopub.status.idle": "2022-05-13T18:49:29.155164Z",
     "shell.execute_reply": "2022-05-13T18:49:29.154554Z",
     "shell.execute_reply.started": "2022-05-13T17:50:06.619233Z"
    },
    "papermill": {
     "duration": 0.219703,
     "end_time": "2022-05-13T18:49:29.155351",
     "exception": false,
     "start_time": "2022-05-13T18:49:28.935648",
     "status": "completed"
    },
    "tags": []
   },
   "outputs": [
    {
     "data": {
      "text/html": [
       "<div>\n",
       "<style scoped>\n",
       "    .dataframe tbody tr th:only-of-type {\n",
       "        vertical-align: middle;\n",
       "    }\n",
       "\n",
       "    .dataframe tbody tr th {\n",
       "        vertical-align: top;\n",
       "    }\n",
       "\n",
       "    .dataframe thead th {\n",
       "        text-align: right;\n",
       "    }\n",
       "</style>\n",
       "<table border=\"1\" class=\"dataframe\">\n",
       "  <thead>\n",
       "    <tr style=\"text-align: right;\">\n",
       "      <th></th>\n",
       "      <th>SK_ID_CURR</th>\n",
       "      <th>NAME_CONTRACT_TYPE</th>\n",
       "      <th>CODE_GENDER</th>\n",
       "      <th>FLAG_OWN_CAR</th>\n",
       "      <th>FLAG_OWN_REALTY</th>\n",
       "      <th>CNT_CHILDREN</th>\n",
       "      <th>AMT_INCOME_TOTAL</th>\n",
       "      <th>AMT_CREDIT</th>\n",
       "      <th>AMT_ANNUITY</th>\n",
       "      <th>AMT_GOODS_PRICE</th>\n",
       "      <th>...</th>\n",
       "      <th>FLAG_DOCUMENT_18</th>\n",
       "      <th>FLAG_DOCUMENT_19</th>\n",
       "      <th>FLAG_DOCUMENT_20</th>\n",
       "      <th>FLAG_DOCUMENT_21</th>\n",
       "      <th>AMT_REQ_CREDIT_BUREAU_HOUR</th>\n",
       "      <th>AMT_REQ_CREDIT_BUREAU_DAY</th>\n",
       "      <th>AMT_REQ_CREDIT_BUREAU_WEEK</th>\n",
       "      <th>AMT_REQ_CREDIT_BUREAU_MON</th>\n",
       "      <th>AMT_REQ_CREDIT_BUREAU_QRT</th>\n",
       "      <th>AMT_REQ_CREDIT_BUREAU_YEAR</th>\n",
       "    </tr>\n",
       "  </thead>\n",
       "  <tbody>\n",
       "    <tr>\n",
       "      <th>0</th>\n",
       "      <td>100001</td>\n",
       "      <td>1</td>\n",
       "      <td>0</td>\n",
       "      <td>0</td>\n",
       "      <td>1</td>\n",
       "      <td>0</td>\n",
       "      <td>135000.0</td>\n",
       "      <td>568800.0</td>\n",
       "      <td>20560.5</td>\n",
       "      <td>450000.0</td>\n",
       "      <td>...</td>\n",
       "      <td>0</td>\n",
       "      <td>0</td>\n",
       "      <td>0</td>\n",
       "      <td>0</td>\n",
       "      <td>0.000000</td>\n",
       "      <td>0.000000</td>\n",
       "      <td>0.000000</td>\n",
       "      <td>0.000000</td>\n",
       "      <td>0.000000</td>\n",
       "      <td>0.000000</td>\n",
       "    </tr>\n",
       "    <tr>\n",
       "      <th>1</th>\n",
       "      <td>100005</td>\n",
       "      <td>1</td>\n",
       "      <td>1</td>\n",
       "      <td>0</td>\n",
       "      <td>1</td>\n",
       "      <td>0</td>\n",
       "      <td>99000.0</td>\n",
       "      <td>222768.0</td>\n",
       "      <td>17370.0</td>\n",
       "      <td>180000.0</td>\n",
       "      <td>...</td>\n",
       "      <td>0</td>\n",
       "      <td>0</td>\n",
       "      <td>0</td>\n",
       "      <td>0</td>\n",
       "      <td>0.000000</td>\n",
       "      <td>0.000000</td>\n",
       "      <td>0.000000</td>\n",
       "      <td>0.000000</td>\n",
       "      <td>0.000000</td>\n",
       "      <td>3.000000</td>\n",
       "    </tr>\n",
       "    <tr>\n",
       "      <th>2</th>\n",
       "      <td>100013</td>\n",
       "      <td>1</td>\n",
       "      <td>1</td>\n",
       "      <td>1</td>\n",
       "      <td>1</td>\n",
       "      <td>0</td>\n",
       "      <td>202500.0</td>\n",
       "      <td>663264.0</td>\n",
       "      <td>69777.0</td>\n",
       "      <td>630000.0</td>\n",
       "      <td>...</td>\n",
       "      <td>0</td>\n",
       "      <td>0</td>\n",
       "      <td>0</td>\n",
       "      <td>0</td>\n",
       "      <td>0.000000</td>\n",
       "      <td>0.000000</td>\n",
       "      <td>0.000000</td>\n",
       "      <td>0.000000</td>\n",
       "      <td>1.000000</td>\n",
       "      <td>4.000000</td>\n",
       "    </tr>\n",
       "    <tr>\n",
       "      <th>3</th>\n",
       "      <td>100028</td>\n",
       "      <td>1</td>\n",
       "      <td>0</td>\n",
       "      <td>0</td>\n",
       "      <td>1</td>\n",
       "      <td>2</td>\n",
       "      <td>315000.0</td>\n",
       "      <td>1575000.0</td>\n",
       "      <td>49018.5</td>\n",
       "      <td>1575000.0</td>\n",
       "      <td>...</td>\n",
       "      <td>0</td>\n",
       "      <td>0</td>\n",
       "      <td>0</td>\n",
       "      <td>0</td>\n",
       "      <td>0.000000</td>\n",
       "      <td>0.000000</td>\n",
       "      <td>0.000000</td>\n",
       "      <td>0.000000</td>\n",
       "      <td>0.000000</td>\n",
       "      <td>3.000000</td>\n",
       "    </tr>\n",
       "    <tr>\n",
       "      <th>4</th>\n",
       "      <td>100038</td>\n",
       "      <td>1</td>\n",
       "      <td>1</td>\n",
       "      <td>1</td>\n",
       "      <td>0</td>\n",
       "      <td>1</td>\n",
       "      <td>180000.0</td>\n",
       "      <td>625500.0</td>\n",
       "      <td>32067.0</td>\n",
       "      <td>625500.0</td>\n",
       "      <td>...</td>\n",
       "      <td>0</td>\n",
       "      <td>0</td>\n",
       "      <td>0</td>\n",
       "      <td>0</td>\n",
       "      <td>0.002108</td>\n",
       "      <td>0.001803</td>\n",
       "      <td>0.002787</td>\n",
       "      <td>0.009299</td>\n",
       "      <td>0.546902</td>\n",
       "      <td>1.983769</td>\n",
       "    </tr>\n",
       "  </tbody>\n",
       "</table>\n",
       "<p>5 rows × 109 columns</p>\n",
       "</div>"
      ],
      "text/plain": [
       "   SK_ID_CURR  NAME_CONTRACT_TYPE  CODE_GENDER  FLAG_OWN_CAR  FLAG_OWN_REALTY  \\\n",
       "0      100001                   1            0             0                1   \n",
       "1      100005                   1            1             0                1   \n",
       "2      100013                   1            1             1                1   \n",
       "3      100028                   1            0             0                1   \n",
       "4      100038                   1            1             1                0   \n",
       "\n",
       "   CNT_CHILDREN  AMT_INCOME_TOTAL  AMT_CREDIT  AMT_ANNUITY  AMT_GOODS_PRICE  \\\n",
       "0             0          135000.0    568800.0      20560.5         450000.0   \n",
       "1             0           99000.0    222768.0      17370.0         180000.0   \n",
       "2             0          202500.0    663264.0      69777.0         630000.0   \n",
       "3             2          315000.0   1575000.0      49018.5        1575000.0   \n",
       "4             1          180000.0    625500.0      32067.0         625500.0   \n",
       "\n",
       "   ...  FLAG_DOCUMENT_18  FLAG_DOCUMENT_19  FLAG_DOCUMENT_20  \\\n",
       "0  ...                 0                 0                 0   \n",
       "1  ...                 0                 0                 0   \n",
       "2  ...                 0                 0                 0   \n",
       "3  ...                 0                 0                 0   \n",
       "4  ...                 0                 0                 0   \n",
       "\n",
       "   FLAG_DOCUMENT_21  AMT_REQ_CREDIT_BUREAU_HOUR  AMT_REQ_CREDIT_BUREAU_DAY  \\\n",
       "0                 0                    0.000000                   0.000000   \n",
       "1                 0                    0.000000                   0.000000   \n",
       "2                 0                    0.000000                   0.000000   \n",
       "3                 0                    0.000000                   0.000000   \n",
       "4                 0                    0.002108                   0.001803   \n",
       "\n",
       "   AMT_REQ_CREDIT_BUREAU_WEEK  AMT_REQ_CREDIT_BUREAU_MON  \\\n",
       "0                    0.000000                   0.000000   \n",
       "1                    0.000000                   0.000000   \n",
       "2                    0.000000                   0.000000   \n",
       "3                    0.000000                   0.000000   \n",
       "4                    0.002787                   0.009299   \n",
       "\n",
       "   AMT_REQ_CREDIT_BUREAU_QRT  AMT_REQ_CREDIT_BUREAU_YEAR  \n",
       "0                   0.000000                    0.000000  \n",
       "1                   0.000000                    3.000000  \n",
       "2                   1.000000                    4.000000  \n",
       "3                   0.000000                    3.000000  \n",
       "4                   0.546902                    1.983769  \n",
       "\n",
       "[5 rows x 109 columns]"
      ]
     },
     "execution_count": 23,
     "metadata": {},
     "output_type": "execute_result"
    }
   ],
   "source": [
    "testDF['NAME_CONTRACT_TYPE']=testDF['NAME_CONTRACT_TYPE'].map({'Cash loans': 1, 'Revolving loans': 0})\n",
    "testDF['CODE_GENDER']=testDF['CODE_GENDER'].map({'M': 1, 'F': 0})\n",
    "testDF['FLAG_OWN_CAR']=testDF['FLAG_OWN_CAR'].map({'Y': 1, 'N': 0})\n",
    "testDF['FLAG_OWN_REALTY']=testDF['FLAG_OWN_REALTY'].map({'Y': 1, 'N': 0})\n",
    "\n",
    "features=list(X.columns)\n",
    "testDF=testDF[features]\n",
    "testDF=testDF.fillna(testDF.mean())\n",
    "testDF.head() #5 rows × 105 columns"
   ]
  },
  {
   "cell_type": "markdown",
   "id": "86dbb7fb",
   "metadata": {
    "papermill": {
     "duration": 0.065189,
     "end_time": "2022-05-13T18:49:29.278632",
     "exception": false,
     "start_time": "2022-05-13T18:49:29.213443",
     "status": "completed"
    },
    "tags": []
   },
   "source": [
    "# Predict Final Credit Risk\n",
    "All 307,511 credit loans from the train dataset will get a final credit risk prediction. Since linear regression seemed to have good AUC results, I will use linear for the final prediction. \n",
    "\n",
    "Each SK_ID_CURR in the test set, will predict a probability for the TARGET variable. The final prediction file should contain a header and have the following format: <br><br>\n",
    "SK_ID_CURR,TARGET <br/>\n",
    "100001, 0.1 <br/>\n",
    "100005, 0.9 <br/>\n",
    "100013, 0.2 <br/>\n"
   ]
  },
  {
   "cell_type": "code",
   "execution_count": 24,
   "id": "bc1a24c4",
   "metadata": {
    "execution": {
     "iopub.execute_input": "2022-05-13T18:49:29.397153Z",
     "iopub.status.busy": "2022-05-13T18:49:29.396380Z",
     "iopub.status.idle": "2022-05-13T18:49:29.551979Z",
     "shell.execute_reply": "2022-05-13T18:49:29.552529Z",
     "shell.execute_reply.started": "2022-05-13T17:50:06.620824Z"
    },
    "papermill": {
     "duration": 0.217563,
     "end_time": "2022-05-13T18:49:29.552730",
     "exception": false,
     "start_time": "2022-05-13T18:49:29.335167",
     "status": "completed"
    },
    "tags": []
   },
   "outputs": [
    {
     "name": "stdout",
     "output_type": "stream",
     "text": [
      "(48744, 2)\n"
     ]
    },
    {
     "data": {
      "text/html": [
       "<div>\n",
       "<style scoped>\n",
       "    .dataframe tbody tr th:only-of-type {\n",
       "        vertical-align: middle;\n",
       "    }\n",
       "\n",
       "    .dataframe tbody tr th {\n",
       "        vertical-align: top;\n",
       "    }\n",
       "\n",
       "    .dataframe thead th {\n",
       "        text-align: right;\n",
       "    }\n",
       "</style>\n",
       "<table border=\"1\" class=\"dataframe\">\n",
       "  <thead>\n",
       "    <tr style=\"text-align: right;\">\n",
       "      <th></th>\n",
       "      <th>SK_ID_CURR</th>\n",
       "      <th>TARGET</th>\n",
       "    </tr>\n",
       "  </thead>\n",
       "  <tbody>\n",
       "    <tr>\n",
       "      <th>0</th>\n",
       "      <td>100001</td>\n",
       "      <td>0.1</td>\n",
       "    </tr>\n",
       "    <tr>\n",
       "      <th>1</th>\n",
       "      <td>100005</td>\n",
       "      <td>0.2</td>\n",
       "    </tr>\n",
       "    <tr>\n",
       "      <th>2</th>\n",
       "      <td>100013</td>\n",
       "      <td>0.0</td>\n",
       "    </tr>\n",
       "    <tr>\n",
       "      <th>3</th>\n",
       "      <td>100028</td>\n",
       "      <td>0.0</td>\n",
       "    </tr>\n",
       "    <tr>\n",
       "      <th>4</th>\n",
       "      <td>100038</td>\n",
       "      <td>0.1</td>\n",
       "    </tr>\n",
       "  </tbody>\n",
       "</table>\n",
       "</div>"
      ],
      "text/plain": [
       "   SK_ID_CURR  TARGET\n",
       "0      100001     0.1\n",
       "1      100005     0.2\n",
       "2      100013     0.0\n",
       "3      100028     0.0\n",
       "4      100038     0.1"
      ]
     },
     "execution_count": 24,
     "metadata": {},
     "output_type": "execute_result"
    }
   ],
   "source": [
    "test_predictions = lrModel.predict(testDF).round(1)\n",
    "test_predictions=np.where(test_predictions<0, 0, test_predictions)\n",
    "SK_ID_CURR=testDF['SK_ID_CURR']\n",
    "tupleData = list(zip(SK_ID_CURR, test_predictions))\n",
    "output = pd.DataFrame(tupleData, columns = ['SK_ID_CURR', 'TARGET'])\n",
    "print(output.shape)\n",
    "output.head()"
   ]
  },
  {
   "cell_type": "markdown",
   "id": "53d9a958",
   "metadata": {
    "papermill": {
     "duration": 0.054452,
     "end_time": "2022-05-13T18:49:29.662429",
     "exception": false,
     "start_time": "2022-05-13T18:49:29.607977",
     "status": "completed"
    },
    "tags": []
   },
   "source": [
    "#### Submit Predictions\n",
    "The final shape is (48744, 2), the same amount of original ID on the original test data."
   ]
  },
  {
   "cell_type": "code",
   "execution_count": 25,
   "id": "76a33e52",
   "metadata": {
    "execution": {
     "iopub.execute_input": "2022-05-13T18:49:29.782989Z",
     "iopub.status.busy": "2022-05-13T18:49:29.782261Z",
     "iopub.status.idle": "2022-05-13T18:49:29.903448Z",
     "shell.execute_reply": "2022-05-13T18:49:29.902771Z",
     "shell.execute_reply.started": "2022-05-13T17:50:06.623064Z"
    },
    "papermill": {
     "duration": 0.185012,
     "end_time": "2022-05-13T18:49:29.903609",
     "exception": false,
     "start_time": "2022-05-13T18:49:29.718597",
     "status": "completed"
    },
    "tags": []
   },
   "outputs": [
    {
     "name": "stdout",
     "output_type": "stream",
     "text": [
      "Your submission was successfully saved!\n"
     ]
    }
   ],
   "source": [
    "#sample=r'/kaggle/input/home-credit-default-risk/sample_submission.csv'\n",
    "output.to_csv('submission.csv', index=False)\n",
    "print(\"Your submission was successfully saved!\")"
   ]
  },
  {
   "cell_type": "markdown",
   "id": "7114e0fe",
   "metadata": {
    "papermill": {
     "duration": 0.058178,
     "end_time": "2022-05-13T18:49:30.018084",
     "exception": false,
     "start_time": "2022-05-13T18:49:29.959906",
     "status": "completed"
    },
    "tags": []
   },
   "source": [
    "### Extra: Bureau Data\n",
    "The Bureau data has [1716428 rows x 17 columns]. Three columns were categorical, so they get removed. Then an additional four columns had lots of missing data, more than 80% so they are deleted. Finally, we remove a small portion of missing values just to get a general analysis of the missing data. The goal is to use this additional information outside of the train set to try to find feature importance.\n"
   ]
  },
  {
   "cell_type": "code",
   "execution_count": 26,
   "id": "8b5346ac",
   "metadata": {
    "execution": {
     "iopub.execute_input": "2022-05-13T18:49:30.141354Z",
     "iopub.status.busy": "2022-05-13T18:49:30.140528Z",
     "iopub.status.idle": "2022-05-13T18:49:35.931498Z",
     "shell.execute_reply": "2022-05-13T18:49:35.930881Z",
     "shell.execute_reply.started": "2022-05-13T17:50:06.624381Z"
    },
    "papermill": {
     "duration": 5.855133,
     "end_time": "2022-05-13T18:49:35.931665",
     "exception": false,
     "start_time": "2022-05-13T18:49:30.076532",
     "status": "completed"
    },
    "tags": []
   },
   "outputs": [],
   "source": [
    "buraeuData=r'/kaggle/input/home-credit-default-risk/bureau.csv'\n",
    "buraeuDF=pd.read_csv(buraeuData) #[1716428 rows x 17 columns]\n",
    "\n",
    "numerics = ['int16', 'int32', 'int64', 'float16', 'float32', 'float64']\n",
    "buraeuDF = buraeuDF.select_dtypes(include=numerics) #(1716428, 14)\n",
    "# Six columns have missing values:\n",
    "bNA=buraeuDF.isnull().sum().sort_values(ascending=False)/len(buraeuDF) \n",
    "buraeuDF=buraeuDF.dropna(thresh=0.8*len(buraeuDF), axis=1) #(1716428, 10)\n",
    "buraeuDF = buraeuDF.dropna() #(1376391, 10)\n",
    "head=buraeuDF.head()"
   ]
  }
 ],
 "metadata": {
  "kernelspec": {
   "display_name": "Python 3",
   "language": "python",
   "name": "python3"
  },
  "language_info": {
   "codemirror_mode": {
    "name": "ipython",
    "version": 3
   },
   "file_extension": ".py",
   "mimetype": "text/x-python",
   "name": "python",
   "nbconvert_exporter": "python",
   "pygments_lexer": "ipython3",
   "version": "3.7.12"
  },
  "papermill": {
   "default_parameters": {},
   "duration": 65.34539,
   "end_time": "2022-05-13T18:49:36.799864",
   "environment_variables": {},
   "exception": null,
   "input_path": "__notebook__.ipynb",
   "output_path": "__notebook__.ipynb",
   "parameters": {},
   "start_time": "2022-05-13T18:48:31.454474",
   "version": "2.3.3"
  }
 },
 "nbformat": 4,
 "nbformat_minor": 5
}
