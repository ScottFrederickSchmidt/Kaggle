{
 "cells": [
  {
   "cell_type": "markdown",
   "id": "d66bbba0",
   "metadata": {
    "papermill": {
     "duration": 0.045048,
     "end_time": "2022-05-25T15:04:24.089747",
     "exception": false,
     "start_time": "2022-05-25T15:04:24.044699",
     "status": "completed"
    },
    "tags": []
   },
   "source": [
    "# Transportion\n",
    "Predict whether a passenger was transported using personal records."
   ]
  },
  {
   "cell_type": "code",
   "execution_count": 1,
   "id": "624dbaff",
   "metadata": {
    "execution": {
     "iopub.execute_input": "2022-05-25T15:04:24.177677Z",
     "iopub.status.busy": "2022-05-25T15:04:24.176957Z",
     "iopub.status.idle": "2022-05-25T15:04:26.037250Z",
     "shell.execute_reply": "2022-05-25T15:04:26.036177Z"
    },
    "papermill": {
     "duration": 1.907959,
     "end_time": "2022-05-25T15:04:26.039907",
     "exception": false,
     "start_time": "2022-05-25T15:04:24.131948",
     "status": "completed"
    },
    "tags": []
   },
   "outputs": [
    {
     "data": {
      "text/html": [
       "<div>\n",
       "<style scoped>\n",
       "    .dataframe tbody tr th:only-of-type {\n",
       "        vertical-align: middle;\n",
       "    }\n",
       "\n",
       "    .dataframe tbody tr th {\n",
       "        vertical-align: top;\n",
       "    }\n",
       "\n",
       "    .dataframe thead th {\n",
       "        text-align: right;\n",
       "    }\n",
       "</style>\n",
       "<table border=\"1\" class=\"dataframe\">\n",
       "  <thead>\n",
       "    <tr style=\"text-align: right;\">\n",
       "      <th></th>\n",
       "      <th>PassengerId</th>\n",
       "      <th>HomePlanet</th>\n",
       "      <th>CryoSleep</th>\n",
       "      <th>Cabin</th>\n",
       "      <th>Destination</th>\n",
       "      <th>Age</th>\n",
       "      <th>VIP</th>\n",
       "      <th>RoomService</th>\n",
       "      <th>FoodCourt</th>\n",
       "      <th>ShoppingMall</th>\n",
       "      <th>Spa</th>\n",
       "      <th>VRDeck</th>\n",
       "      <th>Name</th>\n",
       "      <th>Transported</th>\n",
       "    </tr>\n",
       "  </thead>\n",
       "  <tbody>\n",
       "    <tr>\n",
       "      <th>0</th>\n",
       "      <td>0001_01</td>\n",
       "      <td>Europa</td>\n",
       "      <td>False</td>\n",
       "      <td>B/0/P</td>\n",
       "      <td>TRAPPIST-1e</td>\n",
       "      <td>39.0</td>\n",
       "      <td>False</td>\n",
       "      <td>0.0</td>\n",
       "      <td>0.0</td>\n",
       "      <td>0.0</td>\n",
       "      <td>0.0</td>\n",
       "      <td>0.0</td>\n",
       "      <td>Maham Ofracculy</td>\n",
       "      <td>False</td>\n",
       "    </tr>\n",
       "    <tr>\n",
       "      <th>1</th>\n",
       "      <td>0002_01</td>\n",
       "      <td>Earth</td>\n",
       "      <td>False</td>\n",
       "      <td>F/0/S</td>\n",
       "      <td>TRAPPIST-1e</td>\n",
       "      <td>24.0</td>\n",
       "      <td>False</td>\n",
       "      <td>109.0</td>\n",
       "      <td>9.0</td>\n",
       "      <td>25.0</td>\n",
       "      <td>549.0</td>\n",
       "      <td>44.0</td>\n",
       "      <td>Juanna Vines</td>\n",
       "      <td>True</td>\n",
       "    </tr>\n",
       "    <tr>\n",
       "      <th>2</th>\n",
       "      <td>0003_01</td>\n",
       "      <td>Europa</td>\n",
       "      <td>False</td>\n",
       "      <td>A/0/S</td>\n",
       "      <td>TRAPPIST-1e</td>\n",
       "      <td>58.0</td>\n",
       "      <td>True</td>\n",
       "      <td>43.0</td>\n",
       "      <td>3576.0</td>\n",
       "      <td>0.0</td>\n",
       "      <td>6715.0</td>\n",
       "      <td>49.0</td>\n",
       "      <td>Altark Susent</td>\n",
       "      <td>False</td>\n",
       "    </tr>\n",
       "    <tr>\n",
       "      <th>3</th>\n",
       "      <td>0003_02</td>\n",
       "      <td>Europa</td>\n",
       "      <td>False</td>\n",
       "      <td>A/0/S</td>\n",
       "      <td>TRAPPIST-1e</td>\n",
       "      <td>33.0</td>\n",
       "      <td>False</td>\n",
       "      <td>0.0</td>\n",
       "      <td>1283.0</td>\n",
       "      <td>371.0</td>\n",
       "      <td>3329.0</td>\n",
       "      <td>193.0</td>\n",
       "      <td>Solam Susent</td>\n",
       "      <td>False</td>\n",
       "    </tr>\n",
       "    <tr>\n",
       "      <th>4</th>\n",
       "      <td>0004_01</td>\n",
       "      <td>Earth</td>\n",
       "      <td>False</td>\n",
       "      <td>F/1/S</td>\n",
       "      <td>TRAPPIST-1e</td>\n",
       "      <td>16.0</td>\n",
       "      <td>False</td>\n",
       "      <td>303.0</td>\n",
       "      <td>70.0</td>\n",
       "      <td>151.0</td>\n",
       "      <td>565.0</td>\n",
       "      <td>2.0</td>\n",
       "      <td>Willy Santantines</td>\n",
       "      <td>True</td>\n",
       "    </tr>\n",
       "  </tbody>\n",
       "</table>\n",
       "</div>"
      ],
      "text/plain": [
       "  PassengerId HomePlanet CryoSleep  Cabin  Destination   Age    VIP  \\\n",
       "0     0001_01     Europa     False  B/0/P  TRAPPIST-1e  39.0  False   \n",
       "1     0002_01      Earth     False  F/0/S  TRAPPIST-1e  24.0  False   \n",
       "2     0003_01     Europa     False  A/0/S  TRAPPIST-1e  58.0   True   \n",
       "3     0003_02     Europa     False  A/0/S  TRAPPIST-1e  33.0  False   \n",
       "4     0004_01      Earth     False  F/1/S  TRAPPIST-1e  16.0  False   \n",
       "\n",
       "   RoomService  FoodCourt  ShoppingMall     Spa  VRDeck               Name  \\\n",
       "0          0.0        0.0           0.0     0.0     0.0    Maham Ofracculy   \n",
       "1        109.0        9.0          25.0   549.0    44.0       Juanna Vines   \n",
       "2         43.0     3576.0           0.0  6715.0    49.0      Altark Susent   \n",
       "3          0.0     1283.0         371.0  3329.0   193.0       Solam Susent   \n",
       "4        303.0       70.0         151.0   565.0     2.0  Willy Santantines   \n",
       "\n",
       "   Transported  \n",
       "0        False  \n",
       "1         True  \n",
       "2        False  \n",
       "3        False  \n",
       "4         True  "
      ]
     },
     "execution_count": 1,
     "metadata": {},
     "output_type": "execute_result"
    }
   ],
   "source": [
    "import numpy as np\n",
    "import pandas as pd\n",
    "import seaborn as sns\n",
    "import matplotlib.pyplot as plt\n",
    "from sklearn.model_selection import train_test_split, cross_validate, StratifiedKFold\n",
    "from statistics import mean\n",
    "from sklearn.metrics import mean_absolute_error, mean_squared_error, r2_score\n",
    "from sklearn.datasets import make_classification\n",
    "from sklearn import ensemble\n",
    "import sklearn.metrics as metrics\n",
    "import time\n",
    "\n",
    "train=r'/kaggle/input/spaceship-titanic/train.csv'\n",
    "test=r'/kaggle/input/spaceship-titanic/test.csv'\n",
    "\n",
    "df=pd.read_csv(train)\n",
    "df.head()"
   ]
  },
  {
   "cell_type": "markdown",
   "id": "19f7f25a",
   "metadata": {
    "papermill": {
     "duration": 0.042402,
     "end_time": "2022-05-25T15:04:26.125141",
     "exception": false,
     "start_time": "2022-05-25T15:04:26.082739",
     "status": "completed"
    },
    "tags": []
   },
   "source": [
    "# Target Variable\n",
    "Transported is in independent variable being analyzed with 4378 survived and 4315 did not survive. "
   ]
  },
  {
   "cell_type": "code",
   "execution_count": 2,
   "id": "2beb9e8b",
   "metadata": {
    "execution": {
     "iopub.execute_input": "2022-05-25T15:04:26.217077Z",
     "iopub.status.busy": "2022-05-25T15:04:26.216718Z",
     "iopub.status.idle": "2022-05-25T15:04:26.240536Z",
     "shell.execute_reply": "2022-05-25T15:04:26.239465Z"
    },
    "papermill": {
     "duration": 0.072008,
     "end_time": "2022-05-25T15:04:26.242998",
     "exception": false,
     "start_time": "2022-05-25T15:04:26.170990",
     "status": "completed"
    },
    "tags": []
   },
   "outputs": [],
   "source": [
    "df['Transported']=df['Transported'].astype('str').replace({'False':0, 'True':1})"
   ]
  },
  {
   "cell_type": "code",
   "execution_count": 3,
   "id": "54cd64c6",
   "metadata": {
    "execution": {
     "iopub.execute_input": "2022-05-25T15:04:26.331723Z",
     "iopub.status.busy": "2022-05-25T15:04:26.331304Z",
     "iopub.status.idle": "2022-05-25T15:04:26.342912Z",
     "shell.execute_reply": "2022-05-25T15:04:26.341704Z"
    },
    "papermill": {
     "duration": 0.05811,
     "end_time": "2022-05-25T15:04:26.345239",
     "exception": false,
     "start_time": "2022-05-25T15:04:26.287129",
     "status": "completed"
    },
    "tags": []
   },
   "outputs": [
    {
     "data": {
      "text/plain": [
       "1    4378\n",
       "0    4315\n",
       "Name: Transported, dtype: int64"
      ]
     },
     "execution_count": 3,
     "metadata": {},
     "output_type": "execute_result"
    }
   ],
   "source": [
    "df['Transported'].value_counts()"
   ]
  },
  {
   "cell_type": "markdown",
   "id": "0e25aa62",
   "metadata": {
    "papermill": {
     "duration": 0.042358,
     "end_time": "2022-05-25T15:04:26.430438",
     "exception": false,
     "start_time": "2022-05-25T15:04:26.388080",
     "status": "completed"
    },
    "tags": []
   },
   "source": [
    "# Find Missing Values"
   ]
  },
  {
   "cell_type": "code",
   "execution_count": 4,
   "id": "dd43c54f",
   "metadata": {
    "execution": {
     "iopub.execute_input": "2022-05-25T15:04:26.517687Z",
     "iopub.status.busy": "2022-05-25T15:04:26.517393Z",
     "iopub.status.idle": "2022-05-25T15:04:26.534397Z",
     "shell.execute_reply": "2022-05-25T15:04:26.533124Z"
    },
    "papermill": {
     "duration": 0.06452,
     "end_time": "2022-05-25T15:04:26.537728",
     "exception": false,
     "start_time": "2022-05-25T15:04:26.473208",
     "status": "completed"
    },
    "tags": []
   },
   "outputs": [
    {
     "name": "stdout",
     "output_type": "stream",
     "text": [
      "Missing data by column as a percent:\n",
      "CryoSleep       0.024963\n",
      "ShoppingMall    0.023927\n",
      "VIP             0.023352\n",
      "HomePlanet      0.023122\n",
      "dtype: float64\n"
     ]
    }
   ],
   "source": [
    "#search for columns with missing values:\n",
    "def findNA():\n",
    "    print(\"Missing data by column as a percent:\")\n",
    "    findNA=df.isnull().sum().sort_values(ascending=False)/len(df)\n",
    "    print(findNA.head(4))\n",
    "findNA() "
   ]
  },
  {
   "cell_type": "markdown",
   "id": "195c150a",
   "metadata": {
    "papermill": {
     "duration": 0.045521,
     "end_time": "2022-05-25T15:04:26.627528",
     "exception": false,
     "start_time": "2022-05-25T15:04:26.582007",
     "status": "completed"
    },
    "tags": []
   },
   "source": [
    "# Find Categorical Variables"
   ]
  },
  {
   "cell_type": "code",
   "execution_count": 5,
   "id": "b8359914",
   "metadata": {
    "execution": {
     "iopub.execute_input": "2022-05-25T15:04:26.718013Z",
     "iopub.status.busy": "2022-05-25T15:04:26.717700Z",
     "iopub.status.idle": "2022-05-25T15:04:26.766553Z",
     "shell.execute_reply": "2022-05-25T15:04:26.765612Z"
    },
    "papermill": {
     "duration": 0.096622,
     "end_time": "2022-05-25T15:04:26.769526",
     "exception": false,
     "start_time": "2022-05-25T15:04:26.672904",
     "status": "completed"
    },
    "tags": []
   },
   "outputs": [
    {
     "name": "stdout",
     "output_type": "stream",
     "text": [
      "PassengerId\n",
      "0001_01    1\n",
      "6136_01    1\n",
      "6141_01    1\n",
      "6139_06    1\n",
      "6139_05    1\n",
      "          ..\n",
      "3126_01    1\n",
      "3124_03    1\n",
      "3124_02    1\n",
      "3124_01    1\n",
      "9280_02    1\n",
      "Name: PassengerId, Length: 8693, dtype: int64\n",
      "\n",
      "HomePlanet\n",
      "Earth     4602\n",
      "Europa    2131\n",
      "Mars      1759\n",
      "Name: HomePlanet, dtype: int64\n",
      "\n",
      "CryoSleep\n",
      "False    5439\n",
      "True     3037\n",
      "Name: CryoSleep, dtype: int64\n",
      "\n",
      "Cabin\n",
      "G/734/S     8\n",
      "G/109/P     7\n",
      "B/201/P     7\n",
      "G/1368/P    7\n",
      "G/981/S     7\n",
      "           ..\n",
      "G/556/P     1\n",
      "E/231/S     1\n",
      "G/545/S     1\n",
      "G/543/S     1\n",
      "F/947/P     1\n",
      "Name: Cabin, Length: 6560, dtype: int64\n",
      "\n",
      "Destination\n",
      "TRAPPIST-1e      5915\n",
      "55 Cancri e      1800\n",
      "PSO J318.5-22     796\n",
      "Name: Destination, dtype: int64\n",
      "\n",
      "VIP\n",
      "False    8291\n",
      "True      199\n",
      "Name: VIP, dtype: int64\n",
      "\n",
      "Name\n",
      "Gollux Reedall        2\n",
      "Elaney Webstephrey    2\n",
      "Grake Porki           2\n",
      "Sus Coolez            2\n",
      "Apix Wala             2\n",
      "                     ..\n",
      "Jamela Griffy         1\n",
      "Hardy Griffy          1\n",
      "Salley Mckinn         1\n",
      "Mall Frasp            1\n",
      "Propsh Hontichre      1\n",
      "Name: Name, Length: 8473, dtype: int64\n",
      "\n"
     ]
    }
   ],
   "source": [
    "cols=df.select_dtypes(include='object').columns\n",
    "for col in cols:\n",
    "    print(col)\n",
    "    print(df[col].value_counts())\n",
    "    print(\"\")"
   ]
  },
  {
   "cell_type": "markdown",
   "id": "25ef7f99",
   "metadata": {
    "papermill": {
     "duration": 0.044096,
     "end_time": "2022-05-25T15:04:26.859757",
     "exception": false,
     "start_time": "2022-05-25T15:04:26.815661",
     "status": "completed"
    },
    "tags": []
   },
   "source": [
    "# Feature Engineer"
   ]
  },
  {
   "cell_type": "code",
   "execution_count": 6,
   "id": "e82fc3a1",
   "metadata": {
    "execution": {
     "iopub.execute_input": "2022-05-25T15:04:26.952256Z",
     "iopub.status.busy": "2022-05-25T15:04:26.951859Z",
     "iopub.status.idle": "2022-05-25T15:04:26.979435Z",
     "shell.execute_reply": "2022-05-25T15:04:26.978651Z"
    },
    "papermill": {
     "duration": 0.076746,
     "end_time": "2022-05-25T15:04:26.981390",
     "exception": false,
     "start_time": "2022-05-25T15:04:26.904644",
     "status": "completed"
    },
    "tags": []
   },
   "outputs": [],
   "source": [
    "df['VIP']=df['VIP'].astype('str').replace({'False':0, 'True':1})\n",
    "df['CryoSleep']=df['CryoSleep'].astype('str').replace({'False':0, 'True':1})\n",
    "df['HomePlanet']=df['HomePlanet'].replace({'Earth':2, 'Europa':1, 'Mars':0})"
   ]
  },
  {
   "cell_type": "code",
   "execution_count": 7,
   "id": "21e78cfa",
   "metadata": {
    "execution": {
     "iopub.execute_input": "2022-05-25T15:04:27.072668Z",
     "iopub.status.busy": "2022-05-25T15:04:27.072352Z",
     "iopub.status.idle": "2022-05-25T15:04:27.090856Z",
     "shell.execute_reply": "2022-05-25T15:04:27.090033Z"
    },
    "papermill": {
     "duration": 0.067635,
     "end_time": "2022-05-25T15:04:27.093194",
     "exception": false,
     "start_time": "2022-05-25T15:04:27.025559",
     "status": "completed"
    },
    "tags": []
   },
   "outputs": [
    {
     "data": {
      "text/plain": [
       "F    2794\n",
       "G    2559\n",
       "E     876\n",
       "B     779\n",
       "C     747\n",
       "D     478\n",
       "A     256\n",
       "n     199\n",
       "T       5\n",
       "Name: Cabin, dtype: int64"
      ]
     },
     "execution_count": 7,
     "metadata": {},
     "output_type": "execute_result"
    }
   ],
   "source": [
    "df['Cabin']=df['Cabin'].astype('str').str[0]\n",
    "df['Cabin'].value_counts()"
   ]
  },
  {
   "cell_type": "code",
   "execution_count": 8,
   "id": "15739889",
   "metadata": {
    "execution": {
     "iopub.execute_input": "2022-05-25T15:04:27.189323Z",
     "iopub.status.busy": "2022-05-25T15:04:27.189036Z",
     "iopub.status.idle": "2022-05-25T15:04:27.206809Z",
     "shell.execute_reply": "2022-05-25T15:04:27.205884Z"
    },
    "papermill": {
     "duration": 0.066212,
     "end_time": "2022-05-25T15:04:27.209174",
     "exception": false,
     "start_time": "2022-05-25T15:04:27.142962",
     "status": "completed"
    },
    "tags": []
   },
   "outputs": [],
   "source": [
    "cabinDic={'A':0, 'B':1, 'C':2, 'D':3, 'E':4, 'F':5, 'G':6, 'n':7, 'T':8}\n",
    "df['Cabin']=df['Cabin'].replace(cabinDic)"
   ]
  },
  {
   "cell_type": "code",
   "execution_count": 9,
   "id": "f1ff8a3c",
   "metadata": {
    "execution": {
     "iopub.execute_input": "2022-05-25T15:04:27.300648Z",
     "iopub.status.busy": "2022-05-25T15:04:27.300324Z",
     "iopub.status.idle": "2022-05-25T15:04:27.318836Z",
     "shell.execute_reply": "2022-05-25T15:04:27.318014Z"
    },
    "papermill": {
     "duration": 0.067153,
     "end_time": "2022-05-25T15:04:27.320777",
     "exception": false,
     "start_time": "2022-05-25T15:04:27.253624",
     "status": "completed"
    },
    "tags": []
   },
   "outputs": [],
   "source": [
    "df['Destination']=df['Destination'].astype('str').str[0]\n",
    "destDic={'T':2, '5':1, 'P':0}\n",
    "df['Destination']=df['Destination'].replace(destDic)"
   ]
  },
  {
   "cell_type": "markdown",
   "id": "b2bea99a",
   "metadata": {
    "execution": {
     "iopub.execute_input": "2022-05-25T14:43:58.558603Z",
     "iopub.status.busy": "2022-05-25T14:43:58.558327Z",
     "iopub.status.idle": "2022-05-25T14:43:58.568924Z",
     "shell.execute_reply": "2022-05-25T14:43:58.568288Z",
     "shell.execute_reply.started": "2022-05-25T14:43:58.558573Z"
    },
    "papermill": {
     "duration": 0.047589,
     "end_time": "2022-05-25T15:04:27.413657",
     "exception": false,
     "start_time": "2022-05-25T15:04:27.366068",
     "status": "completed"
    },
    "tags": []
   },
   "source": [
    "### Put First and Last name in column.\n",
    "* Gender: first name can creature a gender feature.\n",
    "* Family: last name can possibly detect if person is alone."
   ]
  },
  {
   "cell_type": "code",
   "execution_count": 10,
   "id": "f0e66086",
   "metadata": {
    "execution": {
     "iopub.execute_input": "2022-05-25T15:04:27.506490Z",
     "iopub.status.busy": "2022-05-25T15:04:27.505769Z",
     "iopub.status.idle": "2022-05-25T15:04:29.540074Z",
     "shell.execute_reply": "2022-05-25T15:04:29.539006Z"
    },
    "papermill": {
     "duration": 2.082934,
     "end_time": "2022-05-25T15:04:29.542757",
     "exception": false,
     "start_time": "2022-05-25T15:04:27.459823",
     "status": "completed"
    },
    "tags": []
   },
   "outputs": [
    {
     "data": {
      "text/html": [
       "<div>\n",
       "<style scoped>\n",
       "    .dataframe tbody tr th:only-of-type {\n",
       "        vertical-align: middle;\n",
       "    }\n",
       "\n",
       "    .dataframe tbody tr th {\n",
       "        vertical-align: top;\n",
       "    }\n",
       "\n",
       "    .dataframe thead th {\n",
       "        text-align: right;\n",
       "    }\n",
       "</style>\n",
       "<table border=\"1\" class=\"dataframe\">\n",
       "  <thead>\n",
       "    <tr style=\"text-align: right;\">\n",
       "      <th></th>\n",
       "      <th>PassengerId</th>\n",
       "      <th>HomePlanet</th>\n",
       "      <th>CryoSleep</th>\n",
       "      <th>Cabin</th>\n",
       "      <th>Destination</th>\n",
       "      <th>Age</th>\n",
       "      <th>VIP</th>\n",
       "      <th>RoomService</th>\n",
       "      <th>FoodCourt</th>\n",
       "      <th>ShoppingMall</th>\n",
       "      <th>Spa</th>\n",
       "      <th>VRDeck</th>\n",
       "      <th>Name</th>\n",
       "      <th>Transported</th>\n",
       "      <th>First</th>\n",
       "      <th>Last</th>\n",
       "    </tr>\n",
       "  </thead>\n",
       "  <tbody>\n",
       "    <tr>\n",
       "      <th>0</th>\n",
       "      <td>0001_01</td>\n",
       "      <td>1.0</td>\n",
       "      <td>0</td>\n",
       "      <td>1</td>\n",
       "      <td>2</td>\n",
       "      <td>39.0</td>\n",
       "      <td>0</td>\n",
       "      <td>0.0</td>\n",
       "      <td>0.0</td>\n",
       "      <td>0.0</td>\n",
       "      <td>0.0</td>\n",
       "      <td>0.0</td>\n",
       "      <td>Maham Ofracculy</td>\n",
       "      <td>0</td>\n",
       "      <td>Maham</td>\n",
       "      <td>Ofracculy</td>\n",
       "    </tr>\n",
       "    <tr>\n",
       "      <th>1</th>\n",
       "      <td>0002_01</td>\n",
       "      <td>2.0</td>\n",
       "      <td>0</td>\n",
       "      <td>5</td>\n",
       "      <td>2</td>\n",
       "      <td>24.0</td>\n",
       "      <td>0</td>\n",
       "      <td>109.0</td>\n",
       "      <td>9.0</td>\n",
       "      <td>25.0</td>\n",
       "      <td>549.0</td>\n",
       "      <td>44.0</td>\n",
       "      <td>Juanna Vines</td>\n",
       "      <td>1</td>\n",
       "      <td>Juanna</td>\n",
       "      <td>Vines</td>\n",
       "    </tr>\n",
       "    <tr>\n",
       "      <th>2</th>\n",
       "      <td>0003_01</td>\n",
       "      <td>1.0</td>\n",
       "      <td>0</td>\n",
       "      <td>0</td>\n",
       "      <td>2</td>\n",
       "      <td>58.0</td>\n",
       "      <td>1</td>\n",
       "      <td>43.0</td>\n",
       "      <td>3576.0</td>\n",
       "      <td>0.0</td>\n",
       "      <td>6715.0</td>\n",
       "      <td>49.0</td>\n",
       "      <td>Altark Susent</td>\n",
       "      <td>0</td>\n",
       "      <td>Altark</td>\n",
       "      <td>Susent</td>\n",
       "    </tr>\n",
       "    <tr>\n",
       "      <th>3</th>\n",
       "      <td>0003_02</td>\n",
       "      <td>1.0</td>\n",
       "      <td>0</td>\n",
       "      <td>0</td>\n",
       "      <td>2</td>\n",
       "      <td>33.0</td>\n",
       "      <td>0</td>\n",
       "      <td>0.0</td>\n",
       "      <td>1283.0</td>\n",
       "      <td>371.0</td>\n",
       "      <td>3329.0</td>\n",
       "      <td>193.0</td>\n",
       "      <td>Solam Susent</td>\n",
       "      <td>0</td>\n",
       "      <td>Solam</td>\n",
       "      <td>Susent</td>\n",
       "    </tr>\n",
       "    <tr>\n",
       "      <th>4</th>\n",
       "      <td>0004_01</td>\n",
       "      <td>2.0</td>\n",
       "      <td>0</td>\n",
       "      <td>5</td>\n",
       "      <td>2</td>\n",
       "      <td>16.0</td>\n",
       "      <td>0</td>\n",
       "      <td>303.0</td>\n",
       "      <td>70.0</td>\n",
       "      <td>151.0</td>\n",
       "      <td>565.0</td>\n",
       "      <td>2.0</td>\n",
       "      <td>Willy Santantines</td>\n",
       "      <td>1</td>\n",
       "      <td>Willy</td>\n",
       "      <td>Santantines</td>\n",
       "    </tr>\n",
       "  </tbody>\n",
       "</table>\n",
       "</div>"
      ],
      "text/plain": [
       "  PassengerId  HomePlanet CryoSleep  Cabin Destination   Age VIP  RoomService  \\\n",
       "0     0001_01         1.0         0      1           2  39.0   0          0.0   \n",
       "1     0002_01         2.0         0      5           2  24.0   0        109.0   \n",
       "2     0003_01         1.0         0      0           2  58.0   1         43.0   \n",
       "3     0003_02         1.0         0      0           2  33.0   0          0.0   \n",
       "4     0004_01         2.0         0      5           2  16.0   0        303.0   \n",
       "\n",
       "   FoodCourt  ShoppingMall     Spa  VRDeck               Name  Transported  \\\n",
       "0        0.0           0.0     0.0     0.0    Maham Ofracculy            0   \n",
       "1        9.0          25.0   549.0    44.0       Juanna Vines            1   \n",
       "2     3576.0           0.0  6715.0    49.0      Altark Susent            0   \n",
       "3     1283.0         371.0  3329.0   193.0       Solam Susent            0   \n",
       "4       70.0         151.0   565.0     2.0  Willy Santantines            1   \n",
       "\n",
       "    First         Last  \n",
       "0   Maham    Ofracculy  \n",
       "1  Juanna        Vines  \n",
       "2  Altark       Susent  \n",
       "3   Solam       Susent  \n",
       "4   Willy  Santantines  "
      ]
     },
     "execution_count": 10,
     "metadata": {},
     "output_type": "execute_result"
    }
   ],
   "source": [
    "df[['First','Last']] = df.Name.apply(lambda x: pd.Series(str(x).split(\" \")))\n",
    "df.head()"
   ]
  },
  {
   "cell_type": "code",
   "execution_count": 11,
   "id": "bd1e2c6c",
   "metadata": {
    "execution": {
     "iopub.execute_input": "2022-05-25T15:04:29.640494Z",
     "iopub.status.busy": "2022-05-25T15:04:29.640208Z",
     "iopub.status.idle": "2022-05-25T15:04:29.810404Z",
     "shell.execute_reply": "2022-05-25T15:04:29.809446Z"
    },
    "papermill": {
     "duration": 0.223883,
     "end_time": "2022-05-25T15:04:29.813284",
     "exception": false,
     "start_time": "2022-05-25T15:04:29.589401",
     "status": "completed"
    },
    "tags": []
   },
   "outputs": [
    {
     "data": {
      "text/html": [
       "<div>\n",
       "<style scoped>\n",
       "    .dataframe tbody tr th:only-of-type {\n",
       "        vertical-align: middle;\n",
       "    }\n",
       "\n",
       "    .dataframe tbody tr th {\n",
       "        vertical-align: top;\n",
       "    }\n",
       "\n",
       "    .dataframe thead th {\n",
       "        text-align: right;\n",
       "    }\n",
       "</style>\n",
       "<table border=\"1\" class=\"dataframe\">\n",
       "  <thead>\n",
       "    <tr style=\"text-align: right;\">\n",
       "      <th></th>\n",
       "      <th>PassengerId</th>\n",
       "      <th>HomePlanet</th>\n",
       "      <th>CryoSleep</th>\n",
       "      <th>Cabin</th>\n",
       "      <th>Destination</th>\n",
       "      <th>Age</th>\n",
       "      <th>VIP</th>\n",
       "      <th>RoomService</th>\n",
       "      <th>FoodCourt</th>\n",
       "      <th>ShoppingMall</th>\n",
       "      <th>Spa</th>\n",
       "      <th>VRDeck</th>\n",
       "      <th>Name</th>\n",
       "      <th>Transported</th>\n",
       "      <th>First</th>\n",
       "      <th>Last</th>\n",
       "      <th>Alone</th>\n",
       "    </tr>\n",
       "  </thead>\n",
       "  <tbody>\n",
       "    <tr>\n",
       "      <th>0</th>\n",
       "      <td>0001_01</td>\n",
       "      <td>1.0</td>\n",
       "      <td>0</td>\n",
       "      <td>1</td>\n",
       "      <td>2</td>\n",
       "      <td>39.0</td>\n",
       "      <td>0</td>\n",
       "      <td>0.0</td>\n",
       "      <td>0.0</td>\n",
       "      <td>0.0</td>\n",
       "      <td>0.0</td>\n",
       "      <td>0.0</td>\n",
       "      <td>Maham Ofracculy</td>\n",
       "      <td>0</td>\n",
       "      <td>Maham</td>\n",
       "      <td>Ofracculy</td>\n",
       "      <td>0</td>\n",
       "    </tr>\n",
       "    <tr>\n",
       "      <th>1</th>\n",
       "      <td>0002_01</td>\n",
       "      <td>2.0</td>\n",
       "      <td>0</td>\n",
       "      <td>5</td>\n",
       "      <td>2</td>\n",
       "      <td>24.0</td>\n",
       "      <td>0</td>\n",
       "      <td>109.0</td>\n",
       "      <td>9.0</td>\n",
       "      <td>25.0</td>\n",
       "      <td>549.0</td>\n",
       "      <td>44.0</td>\n",
       "      <td>Juanna Vines</td>\n",
       "      <td>1</td>\n",
       "      <td>Juanna</td>\n",
       "      <td>Vines</td>\n",
       "      <td>0</td>\n",
       "    </tr>\n",
       "    <tr>\n",
       "      <th>2</th>\n",
       "      <td>0003_01</td>\n",
       "      <td>1.0</td>\n",
       "      <td>0</td>\n",
       "      <td>0</td>\n",
       "      <td>2</td>\n",
       "      <td>58.0</td>\n",
       "      <td>1</td>\n",
       "      <td>43.0</td>\n",
       "      <td>3576.0</td>\n",
       "      <td>0.0</td>\n",
       "      <td>6715.0</td>\n",
       "      <td>49.0</td>\n",
       "      <td>Altark Susent</td>\n",
       "      <td>0</td>\n",
       "      <td>Altark</td>\n",
       "      <td>Susent</td>\n",
       "      <td>0</td>\n",
       "    </tr>\n",
       "    <tr>\n",
       "      <th>3</th>\n",
       "      <td>0003_02</td>\n",
       "      <td>1.0</td>\n",
       "      <td>0</td>\n",
       "      <td>0</td>\n",
       "      <td>2</td>\n",
       "      <td>33.0</td>\n",
       "      <td>0</td>\n",
       "      <td>0.0</td>\n",
       "      <td>1283.0</td>\n",
       "      <td>371.0</td>\n",
       "      <td>3329.0</td>\n",
       "      <td>193.0</td>\n",
       "      <td>Solam Susent</td>\n",
       "      <td>0</td>\n",
       "      <td>Solam</td>\n",
       "      <td>Susent</td>\n",
       "      <td>0</td>\n",
       "    </tr>\n",
       "    <tr>\n",
       "      <th>4</th>\n",
       "      <td>0004_01</td>\n",
       "      <td>2.0</td>\n",
       "      <td>0</td>\n",
       "      <td>5</td>\n",
       "      <td>2</td>\n",
       "      <td>16.0</td>\n",
       "      <td>0</td>\n",
       "      <td>303.0</td>\n",
       "      <td>70.0</td>\n",
       "      <td>151.0</td>\n",
       "      <td>565.0</td>\n",
       "      <td>2.0</td>\n",
       "      <td>Willy Santantines</td>\n",
       "      <td>1</td>\n",
       "      <td>Willy</td>\n",
       "      <td>Santantines</td>\n",
       "      <td>0</td>\n",
       "    </tr>\n",
       "  </tbody>\n",
       "</table>\n",
       "</div>"
      ],
      "text/plain": [
       "  PassengerId  HomePlanet CryoSleep  Cabin Destination   Age VIP  RoomService  \\\n",
       "0     0001_01         1.0         0      1           2  39.0   0          0.0   \n",
       "1     0002_01         2.0         0      5           2  24.0   0        109.0   \n",
       "2     0003_01         1.0         0      0           2  58.0   1         43.0   \n",
       "3     0003_02         1.0         0      0           2  33.0   0          0.0   \n",
       "4     0004_01         2.0         0      5           2  16.0   0        303.0   \n",
       "\n",
       "   FoodCourt  ShoppingMall     Spa  VRDeck               Name  Transported  \\\n",
       "0        0.0           0.0     0.0     0.0    Maham Ofracculy            0   \n",
       "1        9.0          25.0   549.0    44.0       Juanna Vines            1   \n",
       "2     3576.0           0.0  6715.0    49.0      Altark Susent            0   \n",
       "3     1283.0         371.0  3329.0   193.0       Solam Susent            0   \n",
       "4       70.0         151.0   565.0     2.0  Willy Santantines            1   \n",
       "\n",
       "    First         Last  Alone  \n",
       "0   Maham    Ofracculy      0  \n",
       "1  Juanna        Vines      0  \n",
       "2  Altark       Susent      0  \n",
       "3   Solam       Susent      0  \n",
       "4   Willy  Santantines      0  "
      ]
     },
     "execution_count": 11,
     "metadata": {},
     "output_type": "execute_result"
    }
   ],
   "source": [
    "numList=[]\n",
    "lastUnique=list(df['Last'].unique())\n",
    "for name in df['Last']:\n",
    "    #print(name)\n",
    "    if str(name) not in lastUnique:\n",
    "        numList.append(1)\n",
    "    else:\n",
    "        numList.append(0)\n",
    "df['Alone']=numList\n",
    "df.head()"
   ]
  },
  {
   "cell_type": "code",
   "execution_count": 12,
   "id": "b4c56b47",
   "metadata": {
    "execution": {
     "iopub.execute_input": "2022-05-25T15:04:29.915804Z",
     "iopub.status.busy": "2022-05-25T15:04:29.915315Z",
     "iopub.status.idle": "2022-05-25T15:04:29.938754Z",
     "shell.execute_reply": "2022-05-25T15:04:29.937411Z"
    },
    "papermill": {
     "duration": 0.079328,
     "end_time": "2022-05-25T15:04:29.941572",
     "exception": false,
     "start_time": "2022-05-25T15:04:29.862244",
     "status": "completed"
    },
    "tags": []
   },
   "outputs": [
    {
     "data": {
      "text/html": [
       "<div>\n",
       "<style scoped>\n",
       "    .dataframe tbody tr th:only-of-type {\n",
       "        vertical-align: middle;\n",
       "    }\n",
       "\n",
       "    .dataframe tbody tr th {\n",
       "        vertical-align: top;\n",
       "    }\n",
       "\n",
       "    .dataframe thead th {\n",
       "        text-align: right;\n",
       "    }\n",
       "</style>\n",
       "<table border=\"1\" class=\"dataframe\">\n",
       "  <thead>\n",
       "    <tr style=\"text-align: right;\">\n",
       "      <th></th>\n",
       "      <th>PassengerId</th>\n",
       "      <th>HomePlanet</th>\n",
       "      <th>CryoSleep</th>\n",
       "      <th>Cabin</th>\n",
       "      <th>Destination</th>\n",
       "      <th>Age</th>\n",
       "      <th>VIP</th>\n",
       "      <th>RoomService</th>\n",
       "      <th>FoodCourt</th>\n",
       "      <th>ShoppingMall</th>\n",
       "      <th>Spa</th>\n",
       "      <th>VRDeck</th>\n",
       "      <th>Name</th>\n",
       "      <th>Transported</th>\n",
       "      <th>First</th>\n",
       "      <th>Last</th>\n",
       "      <th>Alone</th>\n",
       "    </tr>\n",
       "  </thead>\n",
       "  <tbody>\n",
       "    <tr>\n",
       "      <th>0</th>\n",
       "      <td>0001_01</td>\n",
       "      <td>1.0</td>\n",
       "      <td>0</td>\n",
       "      <td>1</td>\n",
       "      <td>2</td>\n",
       "      <td>39.0</td>\n",
       "      <td>0</td>\n",
       "      <td>0.0</td>\n",
       "      <td>0.0</td>\n",
       "      <td>0.0</td>\n",
       "      <td>0.0</td>\n",
       "      <td>0.0</td>\n",
       "      <td>Maham Ofracculy</td>\n",
       "      <td>0</td>\n",
       "      <td>Maham</td>\n",
       "      <td>Ofracculy</td>\n",
       "      <td>0</td>\n",
       "    </tr>\n",
       "    <tr>\n",
       "      <th>1</th>\n",
       "      <td>0002_01</td>\n",
       "      <td>2.0</td>\n",
       "      <td>0</td>\n",
       "      <td>5</td>\n",
       "      <td>2</td>\n",
       "      <td>24.0</td>\n",
       "      <td>0</td>\n",
       "      <td>109.0</td>\n",
       "      <td>9.0</td>\n",
       "      <td>25.0</td>\n",
       "      <td>549.0</td>\n",
       "      <td>44.0</td>\n",
       "      <td>Juanna Vines</td>\n",
       "      <td>1</td>\n",
       "      <td>Juanna</td>\n",
       "      <td>Vines</td>\n",
       "      <td>0</td>\n",
       "    </tr>\n",
       "    <tr>\n",
       "      <th>2</th>\n",
       "      <td>0003_01</td>\n",
       "      <td>1.0</td>\n",
       "      <td>0</td>\n",
       "      <td>0</td>\n",
       "      <td>2</td>\n",
       "      <td>58.0</td>\n",
       "      <td>1</td>\n",
       "      <td>43.0</td>\n",
       "      <td>3576.0</td>\n",
       "      <td>0.0</td>\n",
       "      <td>6715.0</td>\n",
       "      <td>49.0</td>\n",
       "      <td>Altark Susent</td>\n",
       "      <td>0</td>\n",
       "      <td>Altark</td>\n",
       "      <td>Susent</td>\n",
       "      <td>0</td>\n",
       "    </tr>\n",
       "    <tr>\n",
       "      <th>3</th>\n",
       "      <td>0003_02</td>\n",
       "      <td>1.0</td>\n",
       "      <td>0</td>\n",
       "      <td>0</td>\n",
       "      <td>2</td>\n",
       "      <td>33.0</td>\n",
       "      <td>0</td>\n",
       "      <td>0.0</td>\n",
       "      <td>1283.0</td>\n",
       "      <td>371.0</td>\n",
       "      <td>3329.0</td>\n",
       "      <td>193.0</td>\n",
       "      <td>Solam Susent</td>\n",
       "      <td>0</td>\n",
       "      <td>Solam</td>\n",
       "      <td>Susent</td>\n",
       "      <td>0</td>\n",
       "    </tr>\n",
       "    <tr>\n",
       "      <th>4</th>\n",
       "      <td>0004_01</td>\n",
       "      <td>2.0</td>\n",
       "      <td>0</td>\n",
       "      <td>5</td>\n",
       "      <td>2</td>\n",
       "      <td>16.0</td>\n",
       "      <td>0</td>\n",
       "      <td>303.0</td>\n",
       "      <td>70.0</td>\n",
       "      <td>151.0</td>\n",
       "      <td>565.0</td>\n",
       "      <td>2.0</td>\n",
       "      <td>Willy Santantines</td>\n",
       "      <td>1</td>\n",
       "      <td>Willy</td>\n",
       "      <td>Santantines</td>\n",
       "      <td>0</td>\n",
       "    </tr>\n",
       "  </tbody>\n",
       "</table>\n",
       "</div>"
      ],
      "text/plain": [
       "  PassengerId  HomePlanet CryoSleep  Cabin Destination   Age VIP  RoomService  \\\n",
       "0     0001_01         1.0         0      1           2  39.0   0          0.0   \n",
       "1     0002_01         2.0         0      5           2  24.0   0        109.0   \n",
       "2     0003_01         1.0         0      0           2  58.0   1         43.0   \n",
       "3     0003_02         1.0         0      0           2  33.0   0          0.0   \n",
       "4     0004_01         2.0         0      5           2  16.0   0        303.0   \n",
       "\n",
       "   FoodCourt  ShoppingMall     Spa  VRDeck               Name  Transported  \\\n",
       "0        0.0           0.0     0.0     0.0    Maham Ofracculy            0   \n",
       "1        9.0          25.0   549.0    44.0       Juanna Vines            1   \n",
       "2     3576.0           0.0  6715.0    49.0      Altark Susent            0   \n",
       "3     1283.0         371.0  3329.0   193.0       Solam Susent            0   \n",
       "4       70.0         151.0   565.0     2.0  Willy Santantines            1   \n",
       "\n",
       "    First         Last  Alone  \n",
       "0   Maham    Ofracculy      0  \n",
       "1  Juanna        Vines      0  \n",
       "2  Altark       Susent      0  \n",
       "3   Solam       Susent      0  \n",
       "4   Willy  Santantines      0  "
      ]
     },
     "execution_count": 12,
     "metadata": {},
     "output_type": "execute_result"
    }
   ],
   "source": [
    "df.head()"
   ]
  },
  {
   "cell_type": "markdown",
   "id": "67ba79ed",
   "metadata": {
    "papermill": {
     "duration": 0.049088,
     "end_time": "2022-05-25T15:04:30.042035",
     "exception": false,
     "start_time": "2022-05-25T15:04:29.992947",
     "status": "completed"
    },
    "tags": []
   },
   "source": [
    "# Numeric DataFrame"
   ]
  },
  {
   "cell_type": "code",
   "execution_count": 13,
   "id": "b20bae59",
   "metadata": {
    "execution": {
     "iopub.execute_input": "2022-05-25T15:04:30.143101Z",
     "iopub.status.busy": "2022-05-25T15:04:30.142515Z",
     "iopub.status.idle": "2022-05-25T15:04:30.172851Z",
     "shell.execute_reply": "2022-05-25T15:04:30.172039Z"
    },
    "papermill": {
     "duration": 0.083648,
     "end_time": "2022-05-25T15:04:30.175082",
     "exception": false,
     "start_time": "2022-05-25T15:04:30.091434",
     "status": "completed"
    },
    "tags": []
   },
   "outputs": [
    {
     "data": {
      "text/html": [
       "<div>\n",
       "<style scoped>\n",
       "    .dataframe tbody tr th:only-of-type {\n",
       "        vertical-align: middle;\n",
       "    }\n",
       "\n",
       "    .dataframe tbody tr th {\n",
       "        vertical-align: top;\n",
       "    }\n",
       "\n",
       "    .dataframe thead th {\n",
       "        text-align: right;\n",
       "    }\n",
       "</style>\n",
       "<table border=\"1\" class=\"dataframe\">\n",
       "  <thead>\n",
       "    <tr style=\"text-align: right;\">\n",
       "      <th></th>\n",
       "      <th>HomePlanet</th>\n",
       "      <th>Cabin</th>\n",
       "      <th>Age</th>\n",
       "      <th>RoomService</th>\n",
       "      <th>FoodCourt</th>\n",
       "      <th>ShoppingMall</th>\n",
       "      <th>Spa</th>\n",
       "      <th>VRDeck</th>\n",
       "      <th>Transported</th>\n",
       "      <th>Alone</th>\n",
       "    </tr>\n",
       "  </thead>\n",
       "  <tbody>\n",
       "    <tr>\n",
       "      <th>0</th>\n",
       "      <td>1.0</td>\n",
       "      <td>1</td>\n",
       "      <td>39.0</td>\n",
       "      <td>0.0</td>\n",
       "      <td>0.0</td>\n",
       "      <td>0.0</td>\n",
       "      <td>0.0</td>\n",
       "      <td>0.0</td>\n",
       "      <td>0</td>\n",
       "      <td>0</td>\n",
       "    </tr>\n",
       "    <tr>\n",
       "      <th>1</th>\n",
       "      <td>2.0</td>\n",
       "      <td>5</td>\n",
       "      <td>24.0</td>\n",
       "      <td>109.0</td>\n",
       "      <td>9.0</td>\n",
       "      <td>25.0</td>\n",
       "      <td>549.0</td>\n",
       "      <td>44.0</td>\n",
       "      <td>1</td>\n",
       "      <td>0</td>\n",
       "    </tr>\n",
       "    <tr>\n",
       "      <th>2</th>\n",
       "      <td>1.0</td>\n",
       "      <td>0</td>\n",
       "      <td>58.0</td>\n",
       "      <td>43.0</td>\n",
       "      <td>3576.0</td>\n",
       "      <td>0.0</td>\n",
       "      <td>6715.0</td>\n",
       "      <td>49.0</td>\n",
       "      <td>0</td>\n",
       "      <td>0</td>\n",
       "    </tr>\n",
       "    <tr>\n",
       "      <th>3</th>\n",
       "      <td>1.0</td>\n",
       "      <td>0</td>\n",
       "      <td>33.0</td>\n",
       "      <td>0.0</td>\n",
       "      <td>1283.0</td>\n",
       "      <td>371.0</td>\n",
       "      <td>3329.0</td>\n",
       "      <td>193.0</td>\n",
       "      <td>0</td>\n",
       "      <td>0</td>\n",
       "    </tr>\n",
       "    <tr>\n",
       "      <th>4</th>\n",
       "      <td>2.0</td>\n",
       "      <td>5</td>\n",
       "      <td>16.0</td>\n",
       "      <td>303.0</td>\n",
       "      <td>70.0</td>\n",
       "      <td>151.0</td>\n",
       "      <td>565.0</td>\n",
       "      <td>2.0</td>\n",
       "      <td>1</td>\n",
       "      <td>0</td>\n",
       "    </tr>\n",
       "  </tbody>\n",
       "</table>\n",
       "</div>"
      ],
      "text/plain": [
       "   HomePlanet  Cabin   Age  RoomService  FoodCourt  ShoppingMall     Spa  \\\n",
       "0         1.0      1  39.0          0.0        0.0           0.0     0.0   \n",
       "1         2.0      5  24.0        109.0        9.0          25.0   549.0   \n",
       "2         1.0      0  58.0         43.0     3576.0           0.0  6715.0   \n",
       "3         1.0      0  33.0          0.0     1283.0         371.0  3329.0   \n",
       "4         2.0      5  16.0        303.0       70.0         151.0   565.0   \n",
       "\n",
       "   VRDeck  Transported  Alone  \n",
       "0     0.0            0      0  \n",
       "1    44.0            1      0  \n",
       "2    49.0            0      0  \n",
       "3   193.0            0      0  \n",
       "4     2.0            1      0  "
      ]
     },
     "execution_count": 13,
     "metadata": {},
     "output_type": "execute_result"
    }
   ],
   "source": [
    "numerics = ['int16', 'int32', 'int64', 'float16', 'float32', 'float64']\n",
    "df = df.select_dtypes(include=numerics)\n",
    "df= df.fillna(df.mean())\n",
    "df.head()"
   ]
  },
  {
   "cell_type": "markdown",
   "id": "a2df60e2",
   "metadata": {
    "papermill": {
     "duration": 0.049639,
     "end_time": "2022-05-25T15:04:30.276701",
     "exception": false,
     "start_time": "2022-05-25T15:04:30.227062",
     "status": "completed"
    },
    "tags": []
   },
   "source": [
    "# Split Data"
   ]
  },
  {
   "cell_type": "code",
   "execution_count": 14,
   "id": "8ea010df",
   "metadata": {
    "execution": {
     "iopub.execute_input": "2022-05-25T15:04:30.378117Z",
     "iopub.status.busy": "2022-05-25T15:04:30.377713Z",
     "iopub.status.idle": "2022-05-25T15:04:30.386815Z",
     "shell.execute_reply": "2022-05-25T15:04:30.386024Z"
    },
    "papermill": {
     "duration": 0.063177,
     "end_time": "2022-05-25T15:04:30.389238",
     "exception": false,
     "start_time": "2022-05-25T15:04:30.326061",
     "status": "completed"
    },
    "tags": []
   },
   "outputs": [],
   "source": [
    "X=df.drop('Transported', axis=1)\n",
    "y=df['Transported']\n",
    "\n",
    "X_train, X_test, y_train, y_test = train_test_split(\n",
    "    X, y, test_size=0.3, random_state=13)"
   ]
  },
  {
   "cell_type": "markdown",
   "id": "7c8be1ef",
   "metadata": {
    "papermill": {
     "duration": 0.049262,
     "end_time": "2022-05-25T15:04:30.486331",
     "exception": false,
     "start_time": "2022-05-25T15:04:30.437069",
     "status": "completed"
    },
    "tags": []
   },
   "source": [
    "# Gradient Boost\n",
    "* 2  max_depth || AUC  0.8563  || MSE 0.1542\n",
    "* 3  max_depth || AUC  0.8637  || MSE 0.1482\n",
    "* 4  max_depth || AUC  0.8681  || MSE 0.1444\n",
    "* 5  max_depth || AUC  0.8715  || MSE 0.1435\n",
    "* 7  max_depth || AUC  0.8686  || MSE 0.1453\n",
    "* 9  max_depth || AUC  0.856  || MSE 0.1533\n",
    "* 11  max_depth || AUC  0.8488  || MSE 0.1597\n",
    "* 100  n_estimators || AUC  0.8285  || MSE 0.1924\n",
    "* 200  n_estimators || AUC  0.8427  || MSE 0.1711\n",
    "* 300  n_estimators || AUC  0.8485  || MSE 0.1616\n",
    "* 400  n_estimators || AUC  0.8537  || MSE 0.1568\n",
    "* 500  n_estimators || AUC  0.8563  || MSE 0.1542\n",
    "* 600  n_estimators || AUC  0.8587  || MSE 0.1525"
   ]
  },
  {
   "cell_type": "code",
   "execution_count": 15,
   "id": "88953253",
   "metadata": {
    "execution": {
     "iopub.execute_input": "2022-05-25T15:04:30.584063Z",
     "iopub.status.busy": "2022-05-25T15:04:30.583390Z",
     "iopub.status.idle": "2022-05-25T15:04:30.611386Z",
     "shell.execute_reply": "2022-05-25T15:04:30.610365Z"
    },
    "papermill": {
     "duration": 0.080536,
     "end_time": "2022-05-25T15:04:30.614593",
     "exception": false,
     "start_time": "2022-05-25T15:04:30.534057",
     "status": "completed"
    },
    "tags": []
   },
   "outputs": [],
   "source": [
    "from sklearn.inspection import permutation_importance\n",
    "from sklearn.ensemble import GradientBoostingClassifier,GradientBoostingRegressor\n",
    "\n",
    "def gbDepth():\n",
    "    depthList=[2, 3, 4, 5, 7, 9, 11]\n",
    "    \n",
    "    for d in depthList:\n",
    "        params = {\n",
    "         \"n_estimators\": 500, \"max_depth\": d, \"min_samples_split\": 5, \"learning_rate\": 0.01,\n",
    "        }\n",
    "\n",
    "        #Fit and Predict:\n",
    "        reg = ensemble.GradientBoostingRegressor(**params)\n",
    "        reg.fit(X_train, y_train)\n",
    "        y_pred = reg.predict(X_test)\n",
    "        gbr_r2 = r2_score(y_test, y_pred).round(4) \n",
    "        #print(\"Gradient boosting regression r2: \", gbr_r2) \n",
    "\n",
    "        #calculate AUC of model\n",
    "        auc = round( metrics.roc_auc_score(y_test, y_pred), 4 ) \n",
    "        mse = mean_squared_error(y_test, reg.predict(X_test)).round(4)\n",
    "        print(d,\" max_depth || AUC \", auc, \" || MSE {:.4f}\".format(mse))\n",
    "\n",
    "def gbN():\n",
    "    nList=[100, 200, 300, 400, 500, 600]\n",
    "    \n",
    "    for n in nList:\n",
    "        params = {\n",
    "         \"n_estimators\": n, \"max_depth\": 2, \n",
    "            \"min_samples_split\": 5, \"learning_rate\": 0.01,\n",
    "        }\n",
    "\n",
    "        #Fit and Predict:\n",
    "        reg = ensemble.GradientBoostingRegressor(**params)\n",
    "        reg.fit(X_train, y_train)\n",
    "        y_pred = reg.predict(X_test)\n",
    "        gbr_r2 = r2_score(y_test, y_pred).round(4) \n",
    "        #print(\"Gradient boosting regression r2: \", gbr_r2) \n",
    "\n",
    "        #calculate AUC of model\n",
    "        auc = round( metrics.roc_auc_score(y_test, y_pred), 4 ) \n",
    "        mse = mean_squared_error(y_test, reg.predict(X_test)).round(4)\n",
    "        print(n,\" n_estimators || AUC \", auc, \" || MSE {:.4f}\".format(mse))\n",
    "\n",
    "def gbSplit():\n",
    "    sList=[2, 3, 5, 7]\n",
    "    \n",
    "    for s in sList:\n",
    "        params = {\n",
    "         \"n_estimators\": 500, \"max_depth\": 2,\n",
    "            \"min_samples_split\": s, \"learning_rate\": 0.01,\n",
    "        }\n",
    "\n",
    "        #Fit and Predict:\n",
    "        reg = ensemble.GradientBoostingRegressor(**params)\n",
    "        reg.fit(X_train, y_train)\n",
    "        y_pred = reg.predict(X_test)\n",
    "        gbr_r2 = r2_score(y_test, y_pred).round(4) \n",
    "        #print(\"Gradient boosting regression r2: \", gbr_r2) \n",
    "\n",
    "        #calculate AUC of model\n",
    "        auc = round( metrics.roc_auc_score(y_test, y_pred), 4 ) \n",
    "        mse = mean_squared_error(y_test, reg.predict(X_test)).round(4)\n",
    "        print(s,\" min_samples_splits || AUC \", auc, \" || MSE {:.4f}\".format(mse))\n",
    "\n",
    "#Turn on or off functions here:\n",
    "#gbDepth()\n",
    "#gbN()\n",
    "#gbSplit()"
   ]
  },
  {
   "cell_type": "code",
   "execution_count": 16,
   "id": "0d1874ce",
   "metadata": {
    "execution": {
     "iopub.execute_input": "2022-05-25T15:04:30.714267Z",
     "iopub.status.busy": "2022-05-25T15:04:30.713901Z",
     "iopub.status.idle": "2022-05-25T15:04:37.383985Z",
     "shell.execute_reply": "2022-05-25T15:04:37.382751Z"
    },
    "papermill": {
     "duration": 6.722814,
     "end_time": "2022-05-25T15:04:37.386717",
     "exception": false,
     "start_time": "2022-05-25T15:04:30.663903",
     "status": "completed"
    },
    "tags": []
   },
   "outputs": [
    {
     "name": "stdout",
     "output_type": "stream",
     "text": [
      "Gradient boosting regression r2:  0.1717\n",
      "AUC for gradient boost is:  0.7933\n",
      "The mean squared error (MSE) on test set: 0.2071\n"
     ]
    }
   ],
   "source": [
    "params = {\n",
    " \"n_estimators\": 600, \"max_depth\": 5, \n",
    "    \"min_samples_split\": 7, \"learning_rate\": 0.01,\n",
    "}\n",
    "\n",
    "#Fit and Predict:\n",
    "reg = ensemble.GradientBoostingClassifier(**params)\n",
    "reg.fit(X_train, y_train)\n",
    "y_pred = reg.predict(X_test)\n",
    "gbr_r2 = r2_score(y_test, y_pred).round(4) \n",
    "print(\"Gradient boosting regression r2: \", gbr_r2) \n",
    "\n",
    "#AUC of model\n",
    "auc = round( metrics.roc_auc_score(y_test, y_pred), 4 ) \n",
    "print(\"AUC for gradient boost is: \", auc)\n",
    "\n",
    "mse = mean_squared_error(y_test, reg.predict(X_test))\n",
    "print(\"The mean squared error (MSE) on test set: {:.4f}\".format(mse))"
   ]
  },
  {
   "cell_type": "markdown",
   "id": "93ab5766",
   "metadata": {
    "papermill": {
     "duration": 0.051102,
     "end_time": "2022-05-25T15:04:37.486598",
     "exception": false,
     "start_time": "2022-05-25T15:04:37.435496",
     "status": "completed"
    },
    "tags": []
   },
   "source": [
    "# Feature Importance"
   ]
  },
  {
   "cell_type": "code",
   "execution_count": 17,
   "id": "e076dad2",
   "metadata": {
    "execution": {
     "iopub.execute_input": "2022-05-25T15:04:37.583977Z",
     "iopub.status.busy": "2022-05-25T15:04:37.583652Z",
     "iopub.status.idle": "2022-05-25T15:04:42.215234Z",
     "shell.execute_reply": "2022-05-25T15:04:42.213952Z"
    },
    "papermill": {
     "duration": 4.683647,
     "end_time": "2022-05-25T15:04:42.218074",
     "exception": false,
     "start_time": "2022-05-25T15:04:37.534427",
     "status": "completed"
    },
    "tags": []
   },
   "outputs": [
    {
     "data": {
      "image/png": "[encoded data removed]",
      "text/plain": [
       "<Figure size 864x432 with 2 Axes>"
      ]
     },
     "metadata": {
      "needs_background": "light"
     },
     "output_type": "display_data"
    }
   ],
   "source": [
    "cols=X.columns\n",
    "feature_importance = reg.feature_importances_\n",
    "sorted_idx = np.argsort(feature_importance)\n",
    "pos = np.arange(sorted_idx.shape[0]) + 0.5\n",
    "fig = plt.figure(figsize=(12, 6))\n",
    "plt.subplot(1, 2, 1)\n",
    "plt.barh(pos, feature_importance[sorted_idx], align=\"center\")\n",
    "plt.yticks(pos, np.array(cols)[sorted_idx])\n",
    "plt.title(\"Feature Importance (MDI)\")\n",
    "\n",
    "result = permutation_importance(\n",
    "    reg, X_test, y_test, n_repeats=10, random_state=42, n_jobs=2\n",
    ")\n",
    "sorted_idx = result.importances_mean.argsort()\n",
    "plt.subplot(1, 2, 2)\n",
    "plt.boxplot(\n",
    "    result.importances[sorted_idx].T,\n",
    "    vert=False,\n",
    "    labels=np.array(cols)[sorted_idx],\n",
    ")\n",
    "plt.title(\"Permutation Importance (test set)\")\n",
    "fig.tight_layout()\n",
    "plt.show()"
   ]
  },
  {
   "cell_type": "markdown",
   "id": "22de6be4",
   "metadata": {
    "papermill": {
     "duration": 0.052298,
     "end_time": "2022-05-25T15:04:42.321528",
     "exception": false,
     "start_time": "2022-05-25T15:04:42.269230",
     "status": "completed"
    },
    "tags": []
   },
   "source": [
    "# Logistic Regression"
   ]
  },
  {
   "cell_type": "code",
   "execution_count": 18,
   "id": "c6c95768",
   "metadata": {
    "execution": {
     "iopub.execute_input": "2022-05-25T15:04:42.427078Z",
     "iopub.status.busy": "2022-05-25T15:04:42.426396Z",
     "iopub.status.idle": "2022-05-25T15:04:42.930388Z",
     "shell.execute_reply": "2022-05-25T15:04:42.929080Z"
    },
    "papermill": {
     "duration": 0.562556,
     "end_time": "2022-05-25T15:04:42.934336",
     "exception": false,
     "start_time": "2022-05-25T15:04:42.371780",
     "status": "completed"
    },
    "tags": []
   },
   "outputs": [
    {
     "name": "stdout",
     "output_type": "stream",
     "text": [
      "AUC for logistic regression is:  0.8511\n",
      "Logistic Accuracy:  0.7753\n",
      "0.1087  Logistic Regression cross validate\n"
     ]
    }
   ],
   "source": [
    "from sklearn.linear_model import LogisticRegression\n",
    "logReg = LogisticRegression(solver='liblinear') #solver param gets rid of encoder error\n",
    "\n",
    "#Train the model and create predictions\n",
    "logReg.fit(X_train, y_train)\n",
    "logPredict = logReg.predict_proba(X_test)[::,1]\n",
    "\n",
    "#calculate AUC of model\n",
    "auc = round( metrics.roc_auc_score(y_test, logPredict), 4 ) \n",
    "print(\"AUC for logistic regression is: \", auc)\n",
    "\n",
    "#CROSS VALIDATE TEST RESULTS:\n",
    "logScore = logReg.score(X_test, y_test).round(4)  # train test \n",
    "print(\"Logistic Accuracy: \", logScore)\n",
    "logCV = cross_validate(logReg, X, y, cv = 5, scoring= 'r2')\n",
    "logCV=logCV['test_score'].mean().round(4)\n",
    "print(logCV, \" Logistic Regression cross validate\")"
   ]
  },
  {
   "cell_type": "markdown",
   "id": "eaf10731",
   "metadata": {
    "papermill": {
     "duration": 0.052485,
     "end_time": "2022-05-25T15:04:43.119808",
     "exception": false,
     "start_time": "2022-05-25T15:04:43.067323",
     "status": "completed"
    },
    "tags": []
   },
   "source": [
    "# Linear Regression"
   ]
  },
  {
   "cell_type": "code",
   "execution_count": 19,
   "id": "05320d11",
   "metadata": {
    "execution": {
     "iopub.execute_input": "2022-05-25T15:04:43.230341Z",
     "iopub.status.busy": "2022-05-25T15:04:43.230059Z",
     "iopub.status.idle": "2022-05-25T15:04:43.638907Z",
     "shell.execute_reply": "2022-05-25T15:04:43.638014Z"
    },
    "papermill": {
     "duration": 0.46653,
     "end_time": "2022-05-25T15:04:43.641559",
     "exception": false,
     "start_time": "2022-05-25T15:04:43.175029",
     "status": "completed"
    },
    "tags": []
   },
   "outputs": [
    {
     "name": "stdout",
     "output_type": "stream",
     "text": [
      "AUC for linear regression is:  0.7998\n",
      "Linear regression r2 score:  0.1984\n",
      "Linear Accuracy:  0.1984\n",
      "0.1942  linear regression cross validate mean\n"
     ]
    },
    {
     "data": {
      "image/png": "[encoded data removed]",
      "text/plain": [
       "<Figure size 432x288 with 1 Axes>"
      ]
     },
     "metadata": {
      "needs_background": "light"
     },
     "output_type": "display_data"
    }
   ],
   "source": [
    "from sklearn.linear_model import LinearRegression, Ridge, Lasso\n",
    "\n",
    "#Fit and predict:\n",
    "lrModel = LinearRegression()\n",
    "lrModel.fit(X_train, y_train)\n",
    "lrPredict = lrModel.predict(X_test)\n",
    "\n",
    "# plt.scatter(y_test, predictions)\n",
    "plt.hist(y_test - lrPredict)\n",
    "\n",
    "#Linear Metrics:\n",
    "auc = round( metrics.roc_auc_score(y_test, lrPredict), 4 ) \n",
    "r2 = r2_score(y_test, lrPredict).round(4) \n",
    "print(\"AUC for linear regression is: \", auc)\n",
    "print(\"Linear regression r2 score: \", r2)\n",
    "\n",
    "#CROSS VALIDATE TEST RESULTS:\n",
    "lr_score = lrModel.score(X_test, y_test).round(4)  # train test \n",
    "print(\"Linear Accuracy: \", lr_score)\n",
    "lr_cv = cross_validate(lrModel, X, y, cv = 5, scoring= 'r2')\n",
    "lr_cvMean=lr_cv['test_score'].mean().round(4)\n",
    "print(lr_cvMean, \" linear regression cross validate mean\")\n",
    "\n",
    "def linearReports():\n",
    "    print(model.coef_)    \n",
    "    print(model.intercept_)\n",
    "    print(classification_report(y_test_data, lrPredict))\n",
    "    print(confusion_matrix(y_test_data, lrPredict))\n",
    "    metrics.mean_absolute_error(y_test, lrPredict)\n",
    "    np.sqrt(metrics.mean_squared_error(y_test, lrPredict))"
   ]
  },
  {
   "cell_type": "markdown",
   "id": "e84ece15",
   "metadata": {
    "papermill": {
     "duration": 0.051825,
     "end_time": "2022-05-25T15:04:43.745049",
     "exception": false,
     "start_time": "2022-05-25T15:04:43.693224",
     "status": "completed"
    },
    "tags": []
   },
   "source": [
    "# Decision Tree\n",
    "* 11  best max_depth parameter with least MAE\n",
    "* 500  best max_leaf_node\n",
    "\n",
    "The full dictionaries are below:\n",
    "\n",
    "{2: 0.3908, 3: 0.3534, 5: 0.3056, 7: 0.2883, 9: 0.2787, 11: 0.276, 15: 0.2868}\n",
    "\n",
    "{5: 0.3672, 25: 0.2988, 50: 0.2905, 100: 0.2834, 250: 0.2831, 500: 0.2829, 700: 0.2888}\n"
   ]
  },
  {
   "cell_type": "code",
   "execution_count": 20,
   "id": "02f2a287",
   "metadata": {
    "execution": {
     "iopub.execute_input": "2022-05-25T15:04:43.852288Z",
     "iopub.status.busy": "2022-05-25T15:04:43.852007Z",
     "iopub.status.idle": "2022-05-25T15:04:43.869687Z",
     "shell.execute_reply": "2022-05-25T15:04:43.868999Z"
    },
    "papermill": {
     "duration": 0.074667,
     "end_time": "2022-05-25T15:04:43.872064",
     "exception": false,
     "start_time": "2022-05-25T15:04:43.797397",
     "status": "completed"
    },
    "tags": []
   },
   "outputs": [],
   "source": [
    "from sklearn.tree import DecisionTreeRegressor\n",
    "\n",
    "#FIND best_tree_size LEAF NODES:\n",
    "def calcLeaf():\n",
    "    candidate_max_leaf_nodes = [5, 25, 50, 100, 250, 500, 700]\n",
    "    maeDic={} #dictionary  key=leaf  mae=value\n",
    "    for leaf in candidate_max_leaf_nodes:\n",
    "        model = DecisionTreeRegressor(max_leaf_nodes=leaf, random_state=42)\n",
    "        model.fit(X_train, y_train)\n",
    "        y_pred = model.predict(X_test)\n",
    "        mae = mean_absolute_error(y_test, y_pred).round(4)\n",
    "        maeDic[leaf]=mae\n",
    "    print(maeDic)\n",
    "    best_tree_size = sorted(maeDic, key=lambda x : maeDic[x])[0]\n",
    "    print(best_tree_size, \" best max_leaf_node\") #500 is best\n",
    "    \n",
    "def calcDepth():\n",
    "    max_depth_list = [2, 3, 5, 7, 9, 11, 15]\n",
    "    maeDic={} #dictionary  key=depth  mae=value\n",
    "    for d in max_depth_list:\n",
    "        model = DecisionTreeRegressor(max_leaf_nodes=500, max_depth=d, random_state=42)\n",
    "        model.fit(X_train, y_train)\n",
    "        y_pred = model.predict(X_test)\n",
    "        mae = mean_absolute_error(y_test, y_pred).round(4)\n",
    "        maeDic[d]=mae\n",
    "    print(maeDic)\n",
    "    best_max_depth = sorted(maeDic, key=lambda x : maeDic[x])[0]\n",
    "    print(best_max_depth, \" best max_depth parameter with least MAE\") #11\n",
    "    \n",
    "def automateTree():\n",
    "    print(\"Decision Tree Automating:\")\n",
    "    start=time.time()\n",
    "    candidate_max_leaf_nodes = [5, 25, 50, 100, 250, 500]\n",
    "    max_depth_list = [2, 3, 5, 7, 9, 11]\n",
    "    \n",
    "    #STORE DATA INTO LISTS FOR DATAFRAME LATER:\n",
    "    aucList=[]\n",
    "    maeList=[]\n",
    "    maxDepthList=[]\n",
    "    maxLeafNodesList=[]\n",
    "\n",
    "    for d in max_depth_list:\n",
    "        for leaf in candidate_max_leaf_nodes:\n",
    "            model = DecisionTreeRegressor(max_leaf_nodes=leaf, max_depth=d, random_state=42)\n",
    "            model.fit(X_train, y_train)\n",
    "            y_pred = model.predict(X_test)\n",
    "            mae = mean_absolute_error(y_test, y_pred).round(4)\n",
    "            treeAUC = round( metrics.roc_auc_score(y_test, y_pred), 4 ) \n",
    "            \n",
    "            aucList.append(treeAUC)\n",
    "            maeList.append(mae)\n",
    "            maxDepthList.append(d)\n",
    "            maxLeafNodesList.append(leaf)\n",
    "           \n",
    "            \n",
    "    df = pd.DataFrame(list(zip(aucList, maeList, maxDepthList, maxLeafNodesList)),\n",
    "                          columns=['AUC','MAE', 'MaxDepth', 'MaxLeafNodes'])\n",
    "    \n",
    "    df=df.sort_values(by=['AUC'], ascending=True)\n",
    "    print(\"Done. \", round(time.time()-start,4), \" seconds\")\n",
    "    return df\n",
    "\n",
    "#calcDepth() \n",
    "#calcLeaf()\n",
    "#treeDF=automateTree()\n",
    "#treeDF.head()"
   ]
  },
  {
   "attachments": {
    "20cf9a96-0a73-4fb2-9bc3-8ea876fa60b9.png": {
     "image/png": "[encoded data removed]"
    },
    "78dcd139-b4a8-4437-971f-6226193bf264.png": {
     "image/png": "[encoded data removed]"
    }
   },
   "cell_type": "markdown",
   "id": "33e8dfc2",
   "metadata": {
    "papermill": {
     "duration": 0.052571,
     "end_time": "2022-05-25T15:04:43.977394",
     "exception": false,
     "start_time": "2022-05-25T15:04:43.924823",
     "status": "completed"
    },
    "tags": []
   },
   "source": [
    "### Decision Tree Overfitting:\n",
    "Decision tree tends to overfit data which is clearly happening in this case:\n",
    "* AUC for decision tree is:  0.9187\n",
    "* R-squared for decision tree is:  0.5415\n",
    "* 0.3099  Tree cross validate mean\n",
    "\n",
    "Line graphs should help show where the decision tree parameters should truly be set at. The train data results should correlated with the final test data. \n",
    "\n",
    "![image.png](attachment:20cf9a96-0a73-4fb2-9bc3-8ea876fa60b9.png)\n",
    "![image.png](attachment:78dcd139-b4a8-4437-971f-6226193bf264.png)"
   ]
  },
  {
   "cell_type": "code",
   "execution_count": 21,
   "id": "f170dbdd",
   "metadata": {
    "execution": {
     "iopub.execute_input": "2022-05-25T15:04:44.090712Z",
     "iopub.status.busy": "2022-05-25T15:04:44.090160Z",
     "iopub.status.idle": "2022-05-25T15:04:44.100143Z",
     "shell.execute_reply": "2022-05-25T15:04:44.099376Z"
    },
    "papermill": {
     "duration": 0.069906,
     "end_time": "2022-05-25T15:04:44.102474",
     "exception": false,
     "start_time": "2022-05-25T15:04:44.032568",
     "status": "completed"
    },
    "tags": []
   },
   "outputs": [],
   "source": [
    "def validateTreeDepth():\n",
    "    max_depth_list = [2, 3, 5, 7, 9, 11]\n",
    "    \n",
    "    #STORE DATA INTO LISTS FOR DATAFRAME LATER:\n",
    "    accList=[]\n",
    "    cvList=[]\n",
    "    maeList=[]\n",
    "    \n",
    "    maxLeafNodesList=[]\n",
    "    maxDepthList=[]\n",
    "\n",
    "    for d in max_depth_list:\n",
    "        maxDepthList.append(d)\n",
    "        \n",
    "        tree = DecisionTreeRegressor(max_leaf_nodes=10, max_depth=d, random_state=42)\n",
    "        tree.fit(X_train, y_train)\n",
    "        y_pred = tree.predict(X_test)\n",
    "        mae = mean_absolute_error(y_test, y_pred).round(4)\n",
    "        treeR2 = r2_score(y_test, y_pred).round(4)\n",
    "        accList.append(treeR2)\n",
    "\n",
    "        #CROSS VALIDATE TEST RESULTS:\n",
    "        treeScore = tree.score(X_test, y_test).round(4)  # train test \n",
    "        #print(\"Tree Score: \", treeScore)\n",
    "        treeCV = cross_validate(tree, X, y, cv = 5, scoring= 'r2')\n",
    "        treeCV=treeCV['test_score'].mean().round(4)\n",
    "        cvList.append(treeCV)\n",
    "        #print(treeCV, \" Decision Tree cross validate.\")\n",
    "       # print(treeCV-treeR2, \" validation error\")\n",
    "    plt.plot(maxDepthList,accList, label=\"line1\")\n",
    "    plt.plot(maxDepthList,cvList, label=\"line2\")\n",
    "    plt.title('Decision Tree Cross Validate')\n",
    "    plt.xlabel('MaxDepth')\n",
    "    plt.ylabel('Accuracy')\n",
    "    plt.show() \n",
    "#validateTreeDepth()"
   ]
  },
  {
   "cell_type": "code",
   "execution_count": 22,
   "id": "d1401fdd",
   "metadata": {
    "execution": {
     "iopub.execute_input": "2022-05-25T15:04:44.213735Z",
     "iopub.status.busy": "2022-05-25T15:04:44.213394Z",
     "iopub.status.idle": "2022-05-25T15:04:44.224306Z",
     "shell.execute_reply": "2022-05-25T15:04:44.223378Z"
    },
    "papermill": {
     "duration": 0.070449,
     "end_time": "2022-05-25T15:04:44.226813",
     "exception": false,
     "start_time": "2022-05-25T15:04:44.156364",
     "status": "completed"
    },
    "tags": []
   },
   "outputs": [],
   "source": [
    "def validateLeafTree():\n",
    "    accList=[]\n",
    "    cvList=[]\n",
    "    maeList=[]\n",
    "    \n",
    "    maxLeafNodesList=[]\n",
    "    maxDepthList=[]\n",
    "    \n",
    "    \n",
    "    candidate_max_leaf_nodes = [2, 5, 10, 15, 20, 30, 50, 70]\n",
    "    for leaf in candidate_max_leaf_nodes:\n",
    "        maxLeafNodesList.append(leaf)\n",
    "        \n",
    "        tree = DecisionTreeRegressor(max_leaf_nodes=leaf, max_depth=4, random_state=42)\n",
    "        tree.fit(X_train, y_train)\n",
    "        y_pred = tree.predict(X_test)\n",
    "        mae = mean_absolute_error(y_test, y_pred).round(4)\n",
    "        treeR2 = r2_score(y_test, y_pred).round(4)\n",
    "        accList.append(treeR2)\n",
    "\n",
    "        #CROSS VALIDATE TEST RESULTS:\n",
    "        treeScore = tree.score(X_test, y_test).round(4)  # train test \n",
    "        #print(\"Tree Score: \", treeScore)\n",
    "        treeCV = cross_validate(tree, X, y, cv = 5, scoring= 'r2')\n",
    "        treeCV=treeCV['test_score'].mean().round(4)\n",
    "        cvList.append(treeCV)\n",
    "        #print(treeCV, \" Decision Tree cross validate.\")\n",
    "       # print(treeCV-treeR2, \" validation error\")\n",
    "    \n",
    "    plt.plot(maxLeafNodesList,accList, label=\"line1\")\n",
    "    plt.plot(maxLeafNodesList,cvList, label=\"line2\")\n",
    "    plt.title('Decision Tree Cross Validate')\n",
    "    plt.xlabel('Max Leaf Nodes')\n",
    "    plt.ylabel('Accuracy')\n",
    "    plt.show() \n",
    "#validateLeafTree()"
   ]
  },
  {
   "cell_type": "markdown",
   "id": "7b716336",
   "metadata": {
    "papermill": {
     "duration": 0.056616,
     "end_time": "2022-05-25T15:04:44.334990",
     "exception": false,
     "start_time": "2022-05-25T15:04:44.278374",
     "status": "completed"
    },
    "tags": []
   },
   "source": [
    "#### Decision Tree Final Prediction"
   ]
  },
  {
   "cell_type": "code",
   "execution_count": 23,
   "id": "584099f1",
   "metadata": {
    "execution": {
     "iopub.execute_input": "2022-05-25T15:04:44.442747Z",
     "iopub.status.busy": "2022-05-25T15:04:44.442447Z",
     "iopub.status.idle": "2022-05-25T15:04:44.552325Z",
     "shell.execute_reply": "2022-05-25T15:04:44.551261Z"
    },
    "papermill": {
     "duration": 0.166795,
     "end_time": "2022-05-25T15:04:44.555244",
     "exception": false,
     "start_time": "2022-05-25T15:04:44.388449",
     "status": "completed"
    },
    "tags": []
   },
   "outputs": [
    {
     "name": "stdout",
     "output_type": "stream",
     "text": [
      "AUC for decision tree is:  0.8257\n",
      "R-squared for decision tree is:  0.3384\n",
      "0.4067  is tree MSE \n",
      "TreeScore:  0.1984\n",
      "0.3187  Tree cross validate mean\n"
     ]
    }
   ],
   "source": [
    "max_depth=5\n",
    "best_tree_size=10\n",
    "    \n",
    "#MAKE PREDICTION:\n",
    "tree = DecisionTreeRegressor(max_leaf_nodes=best_tree_size, \n",
    "                             max_depth=max_depth,random_state=42)\n",
    "tree.fit(X, y)\n",
    "y_pred = tree.predict(X_test)\n",
    "\n",
    "#AUC and r2 metric:\n",
    "treeR2 = r2_score(y_test, y_pred).round(4)\n",
    "treeAUC = round( metrics.roc_auc_score(y_test, y_pred), 4 ) \n",
    "print(\"AUC for decision tree is: \", treeAUC)\n",
    "print(\"R-squared for decision tree is: \", treeR2)\n",
    "\n",
    "treeMSE=np.sqrt(metrics.mean_squared_error(y_test, y_pred))\n",
    "print(round(treeMSE, 4), \" is tree MSE \")\n",
    "\n",
    "#CROSS VALIDATE TEST RESULTS:\n",
    "treeScore = tree.score(X_test, y_test).round(4)  # train test \n",
    "print(\"TreeScore: \", lr_score)\n",
    "treeCV = cross_validate(tree, X, y, cv = 5, scoring= 'r2')\n",
    "treeCV=treeCV['test_score'].mean().round(4)\n",
    "print(treeCV, \" Tree cross validate mean\")\n",
    "\n",
    "def printReports(y_test, y_pred):\n",
    "    print(classification_report(y_test, y_pred))\n",
    "    print(confusion_matrix(y_test, y_pred))\n",
    " "
   ]
  },
  {
   "attachments": {
    "a8cee3f3-3de9-4085-97e0-c0a53abcaa5b.png": {
     "image/png": "[encoded data removed]"
    },
    "cf32c38c-d0f9-400d-ba7f-6845ef2d23a1.png": {
     "image/png": "[encoded data removed]"
    }
   },
   "cell_type": "markdown",
   "id": "80d600a4",
   "metadata": {
    "papermill": {
     "duration": 0.051868,
     "end_time": "2022-05-25T15:04:44.659082",
     "exception": false,
     "start_time": "2022-05-25T15:04:44.607214",
     "status": "completed"
    },
    "tags": []
   },
   "source": [
    "# Random Forest\n",
    "* 2  n_estimates |  0.7964  AUC |  0.28  MAE\n",
    "* 102  n_estimates |  0.8554  AUC |  0.28  MAE\n",
    "* 202  n_estimates |  0.8554  AUC |  0.28  MAE\n",
    "* 302  n_estimates |  0.8555  AUC |  0.28  MAE\n",
    "* 402  n_estimates |  0.8558  AUC |  0.28  MAE\n",
    "\n",
    "#### Cross Validate: <br>\n",
    "![image.png](attachment:cf32c38c-d0f9-400d-ba7f-6845ef2d23a1.png)\n",
    "![image.png](attachment:a8cee3f3-3de9-4085-97e0-c0a53abcaa5b.png)"
   ]
  },
  {
   "cell_type": "code",
   "execution_count": 24,
   "id": "3e0da74f",
   "metadata": {
    "execution": {
     "iopub.execute_input": "2022-05-25T15:04:44.767435Z",
     "iopub.status.busy": "2022-05-25T15:04:44.766890Z",
     "iopub.status.idle": "2022-05-25T15:04:44.787444Z",
     "shell.execute_reply": "2022-05-25T15:04:44.786712Z"
    },
    "papermill": {
     "duration": 0.07901,
     "end_time": "2022-05-25T15:04:44.790123",
     "exception": false,
     "start_time": "2022-05-25T15:04:44.711113",
     "status": "completed"
    },
    "tags": []
   },
   "outputs": [],
   "source": [
    "from sklearn.ensemble import RandomForestRegressor, RandomForestClassifier\n",
    "\n",
    "#Check for Error and find Best n_estimators:\n",
    "def checkNumEst():\n",
    "    dMAE={} #dictionary of n_estimators as key and MAE as value:\n",
    "    nEst=[] #store n_estimators\n",
    "    cvList=[] #cross validate list\n",
    "    accList=[] #accuracy train data\n",
    "    mae=[] #error\n",
    "    \n",
    "    for n in [2, 10, 30, 50, 70, 100, 120, 150]:\n",
    "        forest = RandomForestRegressor(n_estimators=n, random_state = 0)\n",
    "        forest.fit(X_train, y_train)\n",
    "        y_pred = forest.predict(X_test)\n",
    "        MAE=metrics.mean_absolute_error(y_test, y_pred).round(2)\n",
    "        dMAE[n]=MAE\n",
    "      \n",
    "        #CROSS VALIDATE TEST RESULTS:\n",
    "        forestScore = forest.score(X_test, y_test).round(4)  # train test \n",
    "        forestCV = cross_validate(forest, X, y, cv = 5, scoring= 'r2')\n",
    "        forestCV=forestCV['test_score'].mean().round(4)\n",
    "        \n",
    "        print(\"n_estimates: \", n,  '  Mean Absolute Error:', MAE)\n",
    "        print(\"Forest Score: \", forestScore  ,\"||\" , forestCV, \"cross validate.\")\n",
    "       \n",
    "        nEst.append(n)\n",
    "        cvList.append(forestCV)\n",
    "        accList.append(forestScore)\n",
    "        mae.append(MAE)\n",
    "        \n",
    "    plt.plot(nEst,accList, label=\"line1\")\n",
    "    plt.plot(nEst,cvList, label=\"line2\")\n",
    "    plt.title(\"Forest N_Estimators\")\n",
    "    plt.xlabel('N_estimators')\n",
    "    plt.ylabel('Accuracy')\n",
    "    plt.show() \n",
    "    \n",
    "    dMAE=sorted(((v, k) for k, v in dMAE.items()), reverse=False)\n",
    "    print(dMAE)\n",
    "    \n",
    "def fMaxDepth():\n",
    "    dMAE={} #dictionary of n_estimators as key and MAE as value:\n",
    "    nEst=[] #store n_estimators\n",
    "    cvList=[] #cross validate list\n",
    "    accList=[] #accuracy train data\n",
    "    mae=[] #error\n",
    "    \n",
    "    for n in [2, 3, 5, 7, 10, 15, 20, 30, 40, 50]:\n",
    "        forest = RandomForestRegressor(n_estimators=10, max_depth=n, random_state = 0)\n",
    "        forest.fit(X_train, y_train)\n",
    "        y_pred = forest.predict(X_test)\n",
    "        MAE=metrics.mean_absolute_error(y_test, y_pred).round(2)\n",
    "        dMAE[n]=MAE\n",
    "      \n",
    "        #CROSS VALIDATE TEST RESULTS:\n",
    "        forestScore = forest.score(X_test, y_test).round(4)  # train test \n",
    "        forestCV = cross_validate(forest, X, y, cv = 5, scoring= 'r2')\n",
    "        forestCV=forestCV['test_score'].mean().round(4)\n",
    "        \n",
    "        print(\"max_depth: \", n,  '  Mean Absolute Error:', MAE)\n",
    "        print(\"Forest Score: \", forestScore  ,\"||\" , forestCV, \"cross validate.\")\n",
    "       \n",
    "        nEst.append(n)\n",
    "        cvList.append(forestCV)\n",
    "        accList.append(forestScore)\n",
    "        mae.append(MAE)\n",
    "        \n",
    "    plt.plot(nEst,accList, label=\"line1\")\n",
    "    plt.plot(nEst,cvList, label=\"line2\")\n",
    "    plt.title(\"Forest Max_Depth\")\n",
    "    plt.xlabel('max_depth')\n",
    "    plt.ylabel('Accuracy')\n",
    "    plt.show() \n",
    "    \n",
    "    dMAE=sorted(((v, k) for k, v in dMAE.items()), reverse=False)\n",
    "    print(dMAE)\n",
    "\n",
    "#checkNumEst() \n",
    "#fMaxDepth()"
   ]
  },
  {
   "cell_type": "markdown",
   "id": "00d1e93a",
   "metadata": {
    "papermill": {
     "duration": 0.052768,
     "end_time": "2022-05-25T15:04:44.894151",
     "exception": false,
     "start_time": "2022-05-25T15:04:44.841383",
     "status": "completed"
    },
    "tags": []
   },
   "source": [
    "#### Forest Final Prediction"
   ]
  },
  {
   "cell_type": "code",
   "execution_count": 25,
   "id": "7d9d49f6",
   "metadata": {
    "execution": {
     "iopub.execute_input": "2022-05-25T15:04:45.001796Z",
     "iopub.status.busy": "2022-05-25T15:04:45.001288Z",
     "iopub.status.idle": "2022-05-25T15:04:48.965393Z",
     "shell.execute_reply": "2022-05-25T15:04:48.964132Z"
    },
    "papermill": {
     "duration": 4.020862,
     "end_time": "2022-05-25T15:04:48.967979",
     "exception": false,
     "start_time": "2022-05-25T15:04:44.947117",
     "status": "completed"
    },
    "tags": []
   },
   "outputs": [
    {
     "name": "stdout",
     "output_type": "stream",
     "text": [
      "Random forest AUC:  0.794\n",
      "Random forest r2:  0.1748\n",
      "Random forest MAE:  0.21\n",
      "Forest Score:  0.7937 || 0.169 cross validate.\n"
     ]
    }
   ],
   "source": [
    "forestEst=100\n",
    "forestDepth=8\n",
    "forest = RandomForestClassifier(n_estimators=forestEst,\n",
    "                                max_depth=forestDepth, random_state = 0)\n",
    "\n",
    "forest.fit(X_train, y_train)\n",
    "y_pred = forest.predict(X_test)\n",
    "\n",
    "#Print Metrics:\n",
    "forest_r2 = r2_score(y_test, y_pred).round(4)  \n",
    "forest_auc = round( metrics.roc_auc_score(y_test, y_pred), 4 ) \n",
    "print(\"Random forest AUC: \", forest_auc) \n",
    "print(\"Random forest r2: \", forest_r2)\n",
    "\n",
    "forestMAE=metrics.mean_absolute_error(y_test, y_pred).round(2)\n",
    "print(\"Random forest MAE: \", forestMAE)\n",
    "\n",
    "#CROSS VALIDATE TEST RESULTS:\n",
    "forestScore = forest.score(X_test, y_test).round(4)  # train test \n",
    "forestCV = cross_validate(forest, X, y, cv = 5, scoring= 'r2')\n",
    "forestCV=forestCV['test_score'].mean().round(4)\n",
    "print(\"Forest Score: \", forestScore  ,\"||\" , forestCV, \"cross validate.\")"
   ]
  },
  {
   "cell_type": "markdown",
   "id": "5ce9bf68",
   "metadata": {
    "papermill": {
     "duration": 0.052364,
     "end_time": "2022-05-25T15:04:49.073690",
     "exception": false,
     "start_time": "2022-05-25T15:04:49.021326",
     "status": "completed"
    },
    "tags": []
   },
   "source": [
    "# Test Data"
   ]
  },
  {
   "cell_type": "code",
   "execution_count": 26,
   "id": "b70d44df",
   "metadata": {
    "execution": {
     "iopub.execute_input": "2022-05-25T15:04:49.187544Z",
     "iopub.status.busy": "2022-05-25T15:04:49.187263Z",
     "iopub.status.idle": "2022-05-25T15:04:50.207118Z",
     "shell.execute_reply": "2022-05-25T15:04:50.205884Z"
    },
    "papermill": {
     "duration": 1.08288,
     "end_time": "2022-05-25T15:04:50.209778",
     "exception": false,
     "start_time": "2022-05-25T15:04:49.126898",
     "status": "completed"
    },
    "tags": []
   },
   "outputs": [
    {
     "data": {
      "text/html": [
       "<div>\n",
       "<style scoped>\n",
       "    .dataframe tbody tr th:only-of-type {\n",
       "        vertical-align: middle;\n",
       "    }\n",
       "\n",
       "    .dataframe tbody tr th {\n",
       "        vertical-align: top;\n",
       "    }\n",
       "\n",
       "    .dataframe thead th {\n",
       "        text-align: right;\n",
       "    }\n",
       "</style>\n",
       "<table border=\"1\" class=\"dataframe\">\n",
       "  <thead>\n",
       "    <tr style=\"text-align: right;\">\n",
       "      <th></th>\n",
       "      <th>HomePlanet</th>\n",
       "      <th>Cabin</th>\n",
       "      <th>Age</th>\n",
       "      <th>RoomService</th>\n",
       "      <th>FoodCourt</th>\n",
       "      <th>ShoppingMall</th>\n",
       "      <th>Spa</th>\n",
       "      <th>VRDeck</th>\n",
       "      <th>Alone</th>\n",
       "    </tr>\n",
       "  </thead>\n",
       "  <tbody>\n",
       "    <tr>\n",
       "      <th>0</th>\n",
       "      <td>2.0</td>\n",
       "      <td>6</td>\n",
       "      <td>27.0</td>\n",
       "      <td>0.0</td>\n",
       "      <td>0.0</td>\n",
       "      <td>0.0</td>\n",
       "      <td>0.0</td>\n",
       "      <td>0.0</td>\n",
       "      <td>0</td>\n",
       "    </tr>\n",
       "    <tr>\n",
       "      <th>1</th>\n",
       "      <td>2.0</td>\n",
       "      <td>5</td>\n",
       "      <td>19.0</td>\n",
       "      <td>0.0</td>\n",
       "      <td>9.0</td>\n",
       "      <td>0.0</td>\n",
       "      <td>2823.0</td>\n",
       "      <td>0.0</td>\n",
       "      <td>0</td>\n",
       "    </tr>\n",
       "    <tr>\n",
       "      <th>2</th>\n",
       "      <td>1.0</td>\n",
       "      <td>2</td>\n",
       "      <td>31.0</td>\n",
       "      <td>0.0</td>\n",
       "      <td>0.0</td>\n",
       "      <td>0.0</td>\n",
       "      <td>0.0</td>\n",
       "      <td>0.0</td>\n",
       "      <td>0</td>\n",
       "    </tr>\n",
       "    <tr>\n",
       "      <th>3</th>\n",
       "      <td>1.0</td>\n",
       "      <td>2</td>\n",
       "      <td>38.0</td>\n",
       "      <td>0.0</td>\n",
       "      <td>6652.0</td>\n",
       "      <td>0.0</td>\n",
       "      <td>181.0</td>\n",
       "      <td>585.0</td>\n",
       "      <td>0</td>\n",
       "    </tr>\n",
       "    <tr>\n",
       "      <th>4</th>\n",
       "      <td>2.0</td>\n",
       "      <td>5</td>\n",
       "      <td>20.0</td>\n",
       "      <td>10.0</td>\n",
       "      <td>0.0</td>\n",
       "      <td>635.0</td>\n",
       "      <td>0.0</td>\n",
       "      <td>0.0</td>\n",
       "      <td>0</td>\n",
       "    </tr>\n",
       "  </tbody>\n",
       "</table>\n",
       "</div>"
      ],
      "text/plain": [
       "   HomePlanet  Cabin   Age  RoomService  FoodCourt  ShoppingMall     Spa  \\\n",
       "0         2.0      6  27.0          0.0        0.0           0.0     0.0   \n",
       "1         2.0      5  19.0          0.0        9.0           0.0  2823.0   \n",
       "2         1.0      2  31.0          0.0        0.0           0.0     0.0   \n",
       "3         1.0      2  38.0          0.0     6652.0           0.0   181.0   \n",
       "4         2.0      5  20.0         10.0        0.0         635.0     0.0   \n",
       "\n",
       "   VRDeck  Alone  \n",
       "0     0.0      0  \n",
       "1     0.0      0  \n",
       "2     0.0      0  \n",
       "3   585.0      0  \n",
       "4     0.0      0  "
      ]
     },
     "execution_count": 26,
     "metadata": {},
     "output_type": "execute_result"
    }
   ],
   "source": [
    "testDF=pd.read_csv(test)\n",
    "ID=testDF['PassengerId']\n",
    "\n",
    "testDF['VIP']=testDF['VIP'].astype('str').replace({'False':0, 'True':1})\n",
    "testDF['CryoSleep']=testDF['CryoSleep'].astype('str').replace({'False':0, 'True':1})\n",
    "testDF['HomePlanet']=testDF['HomePlanet'].replace({'Earth':2, 'Europa':1, 'Mars':0})\n",
    "\n",
    "testDF['Cabin']=testDF['Cabin'].astype('str').str[0]\n",
    "cabinDic={'A':0, 'B':1, 'C':2, 'D':3, 'E':4, 'F':5, 'G':6, 'n':7, 'T':8}\n",
    "testDF['Cabin']=testDF['Cabin'].replace(cabinDic)\n",
    "\n",
    "testDF['Destination']=testDF['Destination'].astype('str').str[0]\n",
    "destDic={'T':2, '5':1, 'P':0}\n",
    "testDF['Destination']=testDF['Destination'].replace(destDic)\n",
    "\n",
    "#Name Features:\n",
    "testDF[['First','Last']] = testDF.Name.apply(lambda x: pd.Series(str(x).split(\" \")))\n",
    "\n",
    "numList=[]\n",
    "lastUnique=list(testDF['Last'].unique())\n",
    "for name in testDF['Last']:\n",
    "    if str(name) not in lastUnique:\n",
    "        numList.append(1)\n",
    "    else:\n",
    "        numList.append(0)\n",
    "testDF['Alone']=numList\n",
    "\n",
    "#Match DF Features:\n",
    "features=X.columns\n",
    "testDF=testDF[features]\n",
    "\n",
    "testDF=testDF.fillna(testDF.mean())\n",
    "testDF.head()"
   ]
  },
  {
   "cell_type": "markdown",
   "id": "b8b868b2",
   "metadata": {
    "papermill": {
     "duration": 0.053284,
     "end_time": "2022-05-25T15:04:50.316120",
     "exception": false,
     "start_time": "2022-05-25T15:04:50.262836",
     "status": "completed"
    },
    "tags": []
   },
   "source": [
    "# Final Predictions"
   ]
  },
  {
   "cell_type": "code",
   "execution_count": 27,
   "id": "00ee2d9a",
   "metadata": {
    "execution": {
     "iopub.execute_input": "2022-05-25T15:04:50.435252Z",
     "iopub.status.busy": "2022-05-25T15:04:50.434877Z",
     "iopub.status.idle": "2022-05-25T15:04:50.525606Z",
     "shell.execute_reply": "2022-05-25T15:04:50.524210Z"
    },
    "papermill": {
     "duration": 0.155015,
     "end_time": "2022-05-25T15:04:50.528489",
     "exception": false,
     "start_time": "2022-05-25T15:04:50.373474",
     "status": "completed"
    },
    "tags": []
   },
   "outputs": [
    {
     "name": "stdout",
     "output_type": "stream",
     "text": [
      "(4277, 2)\n",
      "PassengerId    object\n",
      "Transported      bool\n",
      "dtype: object\n"
     ]
    },
    {
     "data": {
      "text/html": [
       "<div>\n",
       "<style scoped>\n",
       "    .dataframe tbody tr th:only-of-type {\n",
       "        vertical-align: middle;\n",
       "    }\n",
       "\n",
       "    .dataframe tbody tr th {\n",
       "        vertical-align: top;\n",
       "    }\n",
       "\n",
       "    .dataframe thead th {\n",
       "        text-align: right;\n",
       "    }\n",
       "</style>\n",
       "<table border=\"1\" class=\"dataframe\">\n",
       "  <thead>\n",
       "    <tr style=\"text-align: right;\">\n",
       "      <th></th>\n",
       "      <th>PassengerId</th>\n",
       "      <th>Transported</th>\n",
       "    </tr>\n",
       "  </thead>\n",
       "  <tbody>\n",
       "    <tr>\n",
       "      <th>0</th>\n",
       "      <td>0013_01</td>\n",
       "      <td>True</td>\n",
       "    </tr>\n",
       "    <tr>\n",
       "      <th>1</th>\n",
       "      <td>0018_01</td>\n",
       "      <td>False</td>\n",
       "    </tr>\n",
       "    <tr>\n",
       "      <th>2</th>\n",
       "      <td>0019_01</td>\n",
       "      <td>True</td>\n",
       "    </tr>\n",
       "    <tr>\n",
       "      <th>3</th>\n",
       "      <td>0021_01</td>\n",
       "      <td>True</td>\n",
       "    </tr>\n",
       "    <tr>\n",
       "      <th>4</th>\n",
       "      <td>0023_01</td>\n",
       "      <td>True</td>\n",
       "    </tr>\n",
       "  </tbody>\n",
       "</table>\n",
       "</div>"
      ],
      "text/plain": [
       "  PassengerId  Transported\n",
       "0     0013_01         True\n",
       "1     0018_01        False\n",
       "2     0019_01         True\n",
       "3     0021_01         True\n",
       "4     0023_01         True"
      ]
     },
     "execution_count": 27,
     "metadata": {},
     "output_type": "execute_result"
    }
   ],
   "source": [
    "test_predictions = forest.predict(testDF)\n",
    "tupleData = list(zip(ID, test_predictions))\n",
    "output = pd.DataFrame(tupleData, columns = ['PassengerId', 'Transported'])\n",
    "output['Transported']=output['Transported'].replace({0:False, 1:True})\n",
    "print(output.shape)\n",
    "print(output.dtypes)\n",
    "output.head()"
   ]
  },
  {
   "cell_type": "code",
   "execution_count": 28,
   "id": "25e5fb9e",
   "metadata": {
    "execution": {
     "iopub.execute_input": "2022-05-25T15:04:50.644296Z",
     "iopub.status.busy": "2022-05-25T15:04:50.643693Z",
     "iopub.status.idle": "2022-05-25T15:04:50.661989Z",
     "shell.execute_reply": "2022-05-25T15:04:50.660426Z"
    },
    "papermill": {
     "duration": 0.080973,
     "end_time": "2022-05-25T15:04:50.664538",
     "exception": false,
     "start_time": "2022-05-25T15:04:50.583565",
     "status": "completed"
    },
    "tags": []
   },
   "outputs": [
    {
     "name": "stdout",
     "output_type": "stream",
     "text": [
      "Your submission was successfully saved!\n"
     ]
    }
   ],
   "source": [
    "output.to_csv('submission.csv', index=False)\n",
    "print(\"Your submission was successfully saved!\")"
   ]
  }
 ],
 "metadata": {
  "kernelspec": {
   "display_name": "Python 3",
   "language": "python",
   "name": "python3"
  },
  "language_info": {
   "codemirror_mode": {
    "name": "ipython",
    "version": 3
   },
   "file_extension": ".py",
   "mimetype": "text/x-python",
   "name": "python",
   "nbconvert_exporter": "python",
   "pygments_lexer": "ipython3",
   "version": "3.7.12"
  },
  "papermill": {
   "default_parameters": {},
   "duration": 41.380796,
   "end_time": "2022-05-25T15:04:53.341383",
   "environment_variables": {},
   "exception": null,
   "input_path": "__notebook__.ipynb",
   "output_path": "__notebook__.ipynb",
   "parameters": {},
   "start_time": "2022-05-25T15:04:11.960587",
   "version": "2.3.4"
  }
 },
 "nbformat": 4,
 "nbformat_minor": 5
}
