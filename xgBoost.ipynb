{
 "cells": [
  {
   "cell_type": "markdown",
   "id": "3a53e7bd",
   "metadata": {
    "papermill": {
     "duration": 0.013394,
     "end_time": "2022-09-28T20:46:41.568173",
     "exception": false,
     "start_time": "2022-09-28T20:46:41.554779",
     "status": "completed"
    },
    "tags": []
   },
   "source": [
    "# Predict House Price\n",
    "### Using xgBoost with Search Grid\n",
    "\n",
    "Original full House Price prediction can be found here: \n",
    "https://github.com/ScottySchmidt/Kaggle/blob/main/PredictHousePrices.ipynb\n",
    "\n",
    "##### Special Notes:\n",
    "* Tunning learning_rate improved 8% better score\n",
    "* Removing outliers improved 4% better score\n",
    "* Removing similiar features makes couple percent better score\n",
    "* Adding saleCondition improved .5% better score\n",
    "* Tuning ETA have little to no effect\n",
    "* Early_stopping_rounds=5 makes little to no effect (which makes sense because I used a CV)\n",
    "* Encoding condition1 improved score by less than 1%"
   ]
  },
  {
   "cell_type": "code",
   "execution_count": 1,
   "id": "e05d96c7",
   "metadata": {
    "execution": {
     "iopub.execute_input": "2022-09-28T20:46:41.592425Z",
     "iopub.status.busy": "2022-09-28T20:46:41.591132Z",
     "iopub.status.idle": "2022-09-28T20:46:41.694527Z",
     "shell.execute_reply": "2022-09-28T20:46:41.693597Z"
    },
    "papermill": {
     "duration": 0.120187,
     "end_time": "2022-09-28T20:46:41.699056",
     "exception": false,
     "start_time": "2022-09-28T20:46:41.578869",
     "status": "completed"
    },
    "tags": []
   },
   "outputs": [
    {
     "name": "stdout",
     "output_type": "stream",
     "text": [
      "(1460, 81)\n"
     ]
    },
    {
     "name": "stderr",
     "output_type": "stream",
     "text": [
      "/opt/conda/lib/python3.7/site-packages/ipykernel_launcher.py:6: UserWarning: my warning\n",
      "  \n"
     ]
    },
    {
     "data": {
      "text/html": [
       "<div>\n",
       "<style scoped>\n",
       "    .dataframe tbody tr th:only-of-type {\n",
       "        vertical-align: middle;\n",
       "    }\n",
       "\n",
       "    .dataframe tbody tr th {\n",
       "        vertical-align: top;\n",
       "    }\n",
       "\n",
       "    .dataframe thead th {\n",
       "        text-align: right;\n",
       "    }\n",
       "</style>\n",
       "<table border=\"1\" class=\"dataframe\">\n",
       "  <thead>\n",
       "    <tr style=\"text-align: right;\">\n",
       "      <th></th>\n",
       "      <th>Id</th>\n",
       "      <th>MSSubClass</th>\n",
       "      <th>MSZoning</th>\n",
       "      <th>LotFrontage</th>\n",
       "      <th>LotArea</th>\n",
       "      <th>Street</th>\n",
       "      <th>Alley</th>\n",
       "      <th>LotShape</th>\n",
       "      <th>LandContour</th>\n",
       "      <th>Utilities</th>\n",
       "      <th>...</th>\n",
       "      <th>PoolArea</th>\n",
       "      <th>PoolQC</th>\n",
       "      <th>Fence</th>\n",
       "      <th>MiscFeature</th>\n",
       "      <th>MiscVal</th>\n",
       "      <th>MoSold</th>\n",
       "      <th>YrSold</th>\n",
       "      <th>SaleType</th>\n",
       "      <th>SaleCondition</th>\n",
       "      <th>SalePrice</th>\n",
       "    </tr>\n",
       "  </thead>\n",
       "  <tbody>\n",
       "    <tr>\n",
       "      <th>0</th>\n",
       "      <td>1</td>\n",
       "      <td>60</td>\n",
       "      <td>RL</td>\n",
       "      <td>65.0</td>\n",
       "      <td>8450</td>\n",
       "      <td>Pave</td>\n",
       "      <td>NaN</td>\n",
       "      <td>Reg</td>\n",
       "      <td>Lvl</td>\n",
       "      <td>AllPub</td>\n",
       "      <td>...</td>\n",
       "      <td>0</td>\n",
       "      <td>NaN</td>\n",
       "      <td>NaN</td>\n",
       "      <td>NaN</td>\n",
       "      <td>0</td>\n",
       "      <td>2</td>\n",
       "      <td>2008</td>\n",
       "      <td>WD</td>\n",
       "      <td>Normal</td>\n",
       "      <td>208500</td>\n",
       "    </tr>\n",
       "    <tr>\n",
       "      <th>1</th>\n",
       "      <td>2</td>\n",
       "      <td>20</td>\n",
       "      <td>RL</td>\n",
       "      <td>80.0</td>\n",
       "      <td>9600</td>\n",
       "      <td>Pave</td>\n",
       "      <td>NaN</td>\n",
       "      <td>Reg</td>\n",
       "      <td>Lvl</td>\n",
       "      <td>AllPub</td>\n",
       "      <td>...</td>\n",
       "      <td>0</td>\n",
       "      <td>NaN</td>\n",
       "      <td>NaN</td>\n",
       "      <td>NaN</td>\n",
       "      <td>0</td>\n",
       "      <td>5</td>\n",
       "      <td>2007</td>\n",
       "      <td>WD</td>\n",
       "      <td>Normal</td>\n",
       "      <td>181500</td>\n",
       "    </tr>\n",
       "    <tr>\n",
       "      <th>2</th>\n",
       "      <td>3</td>\n",
       "      <td>60</td>\n",
       "      <td>RL</td>\n",
       "      <td>68.0</td>\n",
       "      <td>11250</td>\n",
       "      <td>Pave</td>\n",
       "      <td>NaN</td>\n",
       "      <td>IR1</td>\n",
       "      <td>Lvl</td>\n",
       "      <td>AllPub</td>\n",
       "      <td>...</td>\n",
       "      <td>0</td>\n",
       "      <td>NaN</td>\n",
       "      <td>NaN</td>\n",
       "      <td>NaN</td>\n",
       "      <td>0</td>\n",
       "      <td>9</td>\n",
       "      <td>2008</td>\n",
       "      <td>WD</td>\n",
       "      <td>Normal</td>\n",
       "      <td>223500</td>\n",
       "    </tr>\n",
       "    <tr>\n",
       "      <th>3</th>\n",
       "      <td>4</td>\n",
       "      <td>70</td>\n",
       "      <td>RL</td>\n",
       "      <td>60.0</td>\n",
       "      <td>9550</td>\n",
       "      <td>Pave</td>\n",
       "      <td>NaN</td>\n",
       "      <td>IR1</td>\n",
       "      <td>Lvl</td>\n",
       "      <td>AllPub</td>\n",
       "      <td>...</td>\n",
       "      <td>0</td>\n",
       "      <td>NaN</td>\n",
       "      <td>NaN</td>\n",
       "      <td>NaN</td>\n",
       "      <td>0</td>\n",
       "      <td>2</td>\n",
       "      <td>2006</td>\n",
       "      <td>WD</td>\n",
       "      <td>Abnorml</td>\n",
       "      <td>140000</td>\n",
       "    </tr>\n",
       "    <tr>\n",
       "      <th>4</th>\n",
       "      <td>5</td>\n",
       "      <td>60</td>\n",
       "      <td>RL</td>\n",
       "      <td>84.0</td>\n",
       "      <td>14260</td>\n",
       "      <td>Pave</td>\n",
       "      <td>NaN</td>\n",
       "      <td>IR1</td>\n",
       "      <td>Lvl</td>\n",
       "      <td>AllPub</td>\n",
       "      <td>...</td>\n",
       "      <td>0</td>\n",
       "      <td>NaN</td>\n",
       "      <td>NaN</td>\n",
       "      <td>NaN</td>\n",
       "      <td>0</td>\n",
       "      <td>12</td>\n",
       "      <td>2008</td>\n",
       "      <td>WD</td>\n",
       "      <td>Normal</td>\n",
       "      <td>250000</td>\n",
       "    </tr>\n",
       "  </tbody>\n",
       "</table>\n",
       "<p>5 rows × 81 columns</p>\n",
       "</div>"
      ],
      "text/plain": [
       "   Id  MSSubClass MSZoning  LotFrontage  LotArea Street Alley LotShape  \\\n",
       "0   1          60       RL         65.0     8450   Pave   NaN      Reg   \n",
       "1   2          20       RL         80.0     9600   Pave   NaN      Reg   \n",
       "2   3          60       RL         68.0    11250   Pave   NaN      IR1   \n",
       "3   4          70       RL         60.0     9550   Pave   NaN      IR1   \n",
       "4   5          60       RL         84.0    14260   Pave   NaN      IR1   \n",
       "\n",
       "  LandContour Utilities  ... PoolArea PoolQC Fence MiscFeature MiscVal MoSold  \\\n",
       "0         Lvl    AllPub  ...        0    NaN   NaN         NaN       0      2   \n",
       "1         Lvl    AllPub  ...        0    NaN   NaN         NaN       0      5   \n",
       "2         Lvl    AllPub  ...        0    NaN   NaN         NaN       0      9   \n",
       "3         Lvl    AllPub  ...        0    NaN   NaN         NaN       0      2   \n",
       "4         Lvl    AllPub  ...        0    NaN   NaN         NaN       0     12   \n",
       "\n",
       "  YrSold  SaleType  SaleCondition  SalePrice  \n",
       "0   2008        WD         Normal     208500  \n",
       "1   2007        WD         Normal     181500  \n",
       "2   2008        WD         Normal     223500  \n",
       "3   2006        WD        Abnorml     140000  \n",
       "4   2008        WD         Normal     250000  \n",
       "\n",
       "[5 rows x 81 columns]"
      ]
     },
     "execution_count": 1,
     "metadata": {},
     "output_type": "execute_result"
    }
   ],
   "source": [
    "import pandas as pd\n",
    "import numpy as np\n",
    "import sys\n",
    "import matplotlib.pyplot as plt\n",
    "import warnings\n",
    "warnings.warn('my warning')\n",
    "\n",
    "data='/kaggle/input/house-prices-advanced-regression-techniques/train.csv'\n",
    "df=pd.read_csv(data)\n",
    "print(df.shape)\n",
    "df.head()"
   ]
  },
  {
   "cell_type": "markdown",
   "id": "f0288571",
   "metadata": {
    "papermill": {
     "duration": 0.013381,
     "end_time": "2022-09-28T20:46:41.724701",
     "exception": false,
     "start_time": "2022-09-28T20:46:41.711320",
     "status": "completed"
    },
    "tags": []
   },
   "source": [
    "# Missing Values"
   ]
  },
  {
   "cell_type": "code",
   "execution_count": 2,
   "id": "b7de416d",
   "metadata": {
    "execution": {
     "iopub.execute_input": "2022-09-28T20:46:41.749894Z",
     "iopub.status.busy": "2022-09-28T20:46:41.748577Z",
     "iopub.status.idle": "2022-09-28T20:46:41.764873Z",
     "shell.execute_reply": "2022-09-28T20:46:41.763160Z"
    },
    "papermill": {
     "duration": 0.031262,
     "end_time": "2022-09-28T20:46:41.767498",
     "exception": false,
     "start_time": "2022-09-28T20:46:41.736236",
     "status": "completed"
    },
    "tags": []
   },
   "outputs": [
    {
     "name": "stdout",
     "output_type": "stream",
     "text": [
      "Missing data by column as a percent:\n",
      "PoolQC          21.686567\n",
      "MiscFeature     20.985075\n",
      "Alley           20.432836\n",
      "Fence           17.597015\n",
      "FireplaceQu     10.298507\n",
      "LotFrontage      3.865672\n",
      "GarageYrBlt      1.208955\n",
      "GarageCond       1.208955\n",
      "GarageType       1.208955\n",
      "GarageFinish     1.208955\n",
      "dtype: float64\n"
     ]
    }
   ],
   "source": [
    "#search for columns with missing values:\n",
    "def findNA():\n",
    "    print(\"Missing data by column as a percent:\")\n",
    "    findNA=df.isnull().sum().sort_values(ascending=False)/len(data)\n",
    "    print(findNA.head(10))\n",
    "findNA() "
   ]
  },
  {
   "cell_type": "code",
   "execution_count": 3,
   "id": "2bfc3382",
   "metadata": {
    "execution": {
     "iopub.execute_input": "2022-09-28T20:46:41.793949Z",
     "iopub.status.busy": "2022-09-28T20:46:41.792981Z",
     "iopub.status.idle": "2022-09-28T20:46:41.841695Z",
     "shell.execute_reply": "2022-09-28T20:46:41.839853Z"
    },
    "papermill": {
     "duration": 0.065902,
     "end_time": "2022-09-28T20:46:41.845225",
     "exception": false,
     "start_time": "2022-09-28T20:46:41.779323",
     "status": "completed"
    },
    "tags": []
   },
   "outputs": [
    {
     "name": "stdout",
     "output_type": "stream",
     "text": [
      "(1460, 75)\n"
     ]
    },
    {
     "name": "stderr",
     "output_type": "stream",
     "text": [
      "/opt/conda/lib/python3.7/site-packages/ipykernel_launcher.py:1: FutureWarning: Dropping of nuisance columns in DataFrame reductions (with 'numeric_only=None') is deprecated; in a future version this will raise TypeError.  Select only valid columns before calling the reduction.\n",
      "  \"\"\"Entry point for launching an IPython kernel.\n"
     ]
    }
   ],
   "source": [
    "df=df.fillna(df.mean())\n",
    "df=df.drop(columns=['PoolQC', 'MiscFeature', 'Alley', 'Fence', 'FireplaceQu', 'LotFrontage'])\n",
    "print(df.shape)"
   ]
  },
  {
   "cell_type": "code",
   "execution_count": 4,
   "id": "0063506a",
   "metadata": {
    "execution": {
     "iopub.execute_input": "2022-09-28T20:46:41.872939Z",
     "iopub.status.busy": "2022-09-28T20:46:41.872020Z",
     "iopub.status.idle": "2022-09-28T20:46:41.880433Z",
     "shell.execute_reply": "2022-09-28T20:46:41.879256Z"
    },
    "papermill": {
     "duration": 0.025652,
     "end_time": "2022-09-28T20:46:41.882741",
     "exception": false,
     "start_time": "2022-09-28T20:46:41.857089",
     "status": "completed"
    },
    "tags": []
   },
   "outputs": [
    {
     "data": {
      "text/plain": [
       "Index(['Id', 'MSSubClass', 'MSZoning', 'LotArea', 'Street', 'LotShape',\n",
       "       'LandContour', 'Utilities', 'LotConfig', 'LandSlope', 'Neighborhood',\n",
       "       'Condition1', 'Condition2', 'BldgType', 'HouseStyle', 'OverallQual',\n",
       "       'OverallCond', 'YearBuilt', 'YearRemodAdd', 'RoofStyle', 'RoofMatl',\n",
       "       'Exterior1st', 'Exterior2nd', 'MasVnrType', 'MasVnrArea', 'ExterQual',\n",
       "       'ExterCond', 'Foundation', 'BsmtQual', 'BsmtCond', 'BsmtExposure',\n",
       "       'BsmtFinType1', 'BsmtFinSF1', 'BsmtFinType2', 'BsmtFinSF2', 'BsmtUnfSF',\n",
       "       'TotalBsmtSF', 'Heating', 'HeatingQC', 'CentralAir', 'Electrical',\n",
       "       '1stFlrSF', '2ndFlrSF', 'LowQualFinSF', 'GrLivArea', 'BsmtFullBath',\n",
       "       'BsmtHalfBath', 'FullBath', 'HalfBath', 'BedroomAbvGr', 'KitchenAbvGr',\n",
       "       'KitchenQual', 'TotRmsAbvGrd', 'Functional', 'Fireplaces', 'GarageType',\n",
       "       'GarageYrBlt', 'GarageFinish', 'GarageCars', 'GarageArea', 'GarageQual',\n",
       "       'GarageCond', 'PavedDrive', 'WoodDeckSF', 'OpenPorchSF',\n",
       "       'EnclosedPorch', '3SsnPorch', 'ScreenPorch', 'PoolArea', 'MiscVal',\n",
       "       'MoSold', 'YrSold', 'SaleType', 'SaleCondition', 'SalePrice'],\n",
       "      dtype='object')"
      ]
     },
     "execution_count": 4,
     "metadata": {},
     "output_type": "execute_result"
    }
   ],
   "source": [
    "df.columns"
   ]
  },
  {
   "cell_type": "markdown",
   "id": "bd503c83",
   "metadata": {
    "papermill": {
     "duration": 0.011145,
     "end_time": "2022-09-28T20:46:41.905617",
     "exception": false,
     "start_time": "2022-09-28T20:46:41.894472",
     "status": "completed"
    },
    "tags": []
   },
   "source": [
    "# Encode Data"
   ]
  },
  {
   "cell_type": "code",
   "execution_count": 5,
   "id": "87be7aae",
   "metadata": {
    "execution": {
     "iopub.execute_input": "2022-09-28T20:46:41.933197Z",
     "iopub.status.busy": "2022-09-28T20:46:41.932494Z",
     "iopub.status.idle": "2022-09-28T20:46:41.959553Z",
     "shell.execute_reply": "2022-09-28T20:46:41.958060Z"
    },
    "papermill": {
     "duration": 0.044002,
     "end_time": "2022-09-28T20:46:41.962326",
     "exception": false,
     "start_time": "2022-09-28T20:46:41.918324",
     "status": "completed"
    },
    "tags": []
   },
   "outputs": [
    {
     "data": {
      "text/html": [
       "<div>\n",
       "<style scoped>\n",
       "    .dataframe tbody tr th:only-of-type {\n",
       "        vertical-align: middle;\n",
       "    }\n",
       "\n",
       "    .dataframe tbody tr th {\n",
       "        vertical-align: top;\n",
       "    }\n",
       "\n",
       "    .dataframe thead th {\n",
       "        text-align: right;\n",
       "    }\n",
       "</style>\n",
       "<table border=\"1\" class=\"dataframe\">\n",
       "  <thead>\n",
       "    <tr style=\"text-align: right;\">\n",
       "      <th></th>\n",
       "      <th>Id</th>\n",
       "      <th>MSSubClass</th>\n",
       "      <th>MSZoning</th>\n",
       "      <th>LotArea</th>\n",
       "      <th>Street</th>\n",
       "      <th>LotShape</th>\n",
       "      <th>LandContour</th>\n",
       "      <th>Utilities</th>\n",
       "      <th>LotConfig</th>\n",
       "      <th>LandSlope</th>\n",
       "      <th>...</th>\n",
       "      <th>3SsnPorch</th>\n",
       "      <th>ScreenPorch</th>\n",
       "      <th>PoolArea</th>\n",
       "      <th>MiscVal</th>\n",
       "      <th>MoSold</th>\n",
       "      <th>YrSold</th>\n",
       "      <th>SaleType</th>\n",
       "      <th>SaleCondition</th>\n",
       "      <th>SalePrice</th>\n",
       "      <th>totalSQ</th>\n",
       "    </tr>\n",
       "  </thead>\n",
       "  <tbody>\n",
       "    <tr>\n",
       "      <th>0</th>\n",
       "      <td>1</td>\n",
       "      <td>60</td>\n",
       "      <td>RL</td>\n",
       "      <td>8450</td>\n",
       "      <td>Pave</td>\n",
       "      <td>Reg</td>\n",
       "      <td>Lvl</td>\n",
       "      <td>AllPub</td>\n",
       "      <td>Inside</td>\n",
       "      <td>Gtl</td>\n",
       "      <td>...</td>\n",
       "      <td>0</td>\n",
       "      <td>0</td>\n",
       "      <td>0</td>\n",
       "      <td>0</td>\n",
       "      <td>2</td>\n",
       "      <td>2008</td>\n",
       "      <td>WD</td>\n",
       "      <td>Normal</td>\n",
       "      <td>208500</td>\n",
       "      <td>2566</td>\n",
       "    </tr>\n",
       "    <tr>\n",
       "      <th>1</th>\n",
       "      <td>2</td>\n",
       "      <td>20</td>\n",
       "      <td>RL</td>\n",
       "      <td>9600</td>\n",
       "      <td>Pave</td>\n",
       "      <td>Reg</td>\n",
       "      <td>Lvl</td>\n",
       "      <td>AllPub</td>\n",
       "      <td>FR2</td>\n",
       "      <td>Gtl</td>\n",
       "      <td>...</td>\n",
       "      <td>0</td>\n",
       "      <td>0</td>\n",
       "      <td>0</td>\n",
       "      <td>0</td>\n",
       "      <td>5</td>\n",
       "      <td>2007</td>\n",
       "      <td>WD</td>\n",
       "      <td>Normal</td>\n",
       "      <td>181500</td>\n",
       "      <td>2524</td>\n",
       "    </tr>\n",
       "    <tr>\n",
       "      <th>2</th>\n",
       "      <td>3</td>\n",
       "      <td>60</td>\n",
       "      <td>RL</td>\n",
       "      <td>11250</td>\n",
       "      <td>Pave</td>\n",
       "      <td>IR1</td>\n",
       "      <td>Lvl</td>\n",
       "      <td>AllPub</td>\n",
       "      <td>Inside</td>\n",
       "      <td>Gtl</td>\n",
       "      <td>...</td>\n",
       "      <td>0</td>\n",
       "      <td>0</td>\n",
       "      <td>0</td>\n",
       "      <td>0</td>\n",
       "      <td>9</td>\n",
       "      <td>2008</td>\n",
       "      <td>WD</td>\n",
       "      <td>Normal</td>\n",
       "      <td>223500</td>\n",
       "      <td>2706</td>\n",
       "    </tr>\n",
       "    <tr>\n",
       "      <th>3</th>\n",
       "      <td>4</td>\n",
       "      <td>70</td>\n",
       "      <td>RL</td>\n",
       "      <td>9550</td>\n",
       "      <td>Pave</td>\n",
       "      <td>IR1</td>\n",
       "      <td>Lvl</td>\n",
       "      <td>AllPub</td>\n",
       "      <td>Corner</td>\n",
       "      <td>Gtl</td>\n",
       "      <td>...</td>\n",
       "      <td>0</td>\n",
       "      <td>0</td>\n",
       "      <td>0</td>\n",
       "      <td>0</td>\n",
       "      <td>2</td>\n",
       "      <td>2006</td>\n",
       "      <td>WD</td>\n",
       "      <td>Abnorml</td>\n",
       "      <td>140000</td>\n",
       "      <td>2473</td>\n",
       "    </tr>\n",
       "    <tr>\n",
       "      <th>4</th>\n",
       "      <td>5</td>\n",
       "      <td>60</td>\n",
       "      <td>RL</td>\n",
       "      <td>14260</td>\n",
       "      <td>Pave</td>\n",
       "      <td>IR1</td>\n",
       "      <td>Lvl</td>\n",
       "      <td>AllPub</td>\n",
       "      <td>FR2</td>\n",
       "      <td>Gtl</td>\n",
       "      <td>...</td>\n",
       "      <td>0</td>\n",
       "      <td>0</td>\n",
       "      <td>0</td>\n",
       "      <td>0</td>\n",
       "      <td>12</td>\n",
       "      <td>2008</td>\n",
       "      <td>WD</td>\n",
       "      <td>Normal</td>\n",
       "      <td>250000</td>\n",
       "      <td>3343</td>\n",
       "    </tr>\n",
       "  </tbody>\n",
       "</table>\n",
       "<p>5 rows × 76 columns</p>\n",
       "</div>"
      ],
      "text/plain": [
       "   Id  MSSubClass MSZoning  LotArea Street LotShape LandContour Utilities  \\\n",
       "0   1          60       RL     8450   Pave      Reg         Lvl    AllPub   \n",
       "1   2          20       RL     9600   Pave      Reg         Lvl    AllPub   \n",
       "2   3          60       RL    11250   Pave      IR1         Lvl    AllPub   \n",
       "3   4          70       RL     9550   Pave      IR1         Lvl    AllPub   \n",
       "4   5          60       RL    14260   Pave      IR1         Lvl    AllPub   \n",
       "\n",
       "  LotConfig LandSlope  ... 3SsnPorch ScreenPorch PoolArea MiscVal MoSold  \\\n",
       "0    Inside       Gtl  ...         0           0        0       0      2   \n",
       "1       FR2       Gtl  ...         0           0        0       0      5   \n",
       "2    Inside       Gtl  ...         0           0        0       0      9   \n",
       "3    Corner       Gtl  ...         0           0        0       0      2   \n",
       "4       FR2       Gtl  ...         0           0        0       0     12   \n",
       "\n",
       "   YrSold  SaleType  SaleCondition  SalePrice totalSQ  \n",
       "0    2008        WD         Normal     208500    2566  \n",
       "1    2007        WD         Normal     181500    2524  \n",
       "2    2008        WD         Normal     223500    2706  \n",
       "3    2006        WD        Abnorml     140000    2473  \n",
       "4    2008        WD         Normal     250000    3343  \n",
       "\n",
       "[5 rows x 76 columns]"
      ]
     },
     "execution_count": 5,
     "metadata": {},
     "output_type": "execute_result"
    }
   ],
   "source": [
    "df['totalSQ']=df['1stFlrSF']+df['2ndFlrSF']+df['TotalBsmtSF'].drop(columns=['1stFlrSF', '2ndFlrSF','TotalBsmtSF'])\n",
    "df.head()"
   ]
  },
  {
   "cell_type": "code",
   "execution_count": 6,
   "id": "99b9981c",
   "metadata": {
    "execution": {
     "iopub.execute_input": "2022-09-28T20:46:41.991160Z",
     "iopub.status.busy": "2022-09-28T20:46:41.990746Z",
     "iopub.status.idle": "2022-09-28T20:46:42.003286Z",
     "shell.execute_reply": "2022-09-28T20:46:42.001713Z"
    },
    "papermill": {
     "duration": 0.030629,
     "end_time": "2022-09-28T20:46:42.006081",
     "exception": false,
     "start_time": "2022-09-28T20:46:41.975452",
     "status": "completed"
    },
    "tags": []
   },
   "outputs": [
    {
     "name": "stdout",
     "output_type": "stream",
     "text": [
      "Normal     1198\n",
      "Partial     125\n",
      "Abnorml     101\n",
      "Family       20\n",
      "Alloca       12\n",
      "AdjLand       4\n",
      "Name: SaleCondition, dtype: int64\n"
     ]
    }
   ],
   "source": [
    "print(df['SaleCondition'].value_counts())\n",
    "df['SaleCondition']=df['SaleCondition'].apply(lambda x:2 if x=='Normal' else 0)"
   ]
  },
  {
   "cell_type": "code",
   "execution_count": 7,
   "id": "b6383fdc",
   "metadata": {
    "execution": {
     "iopub.execute_input": "2022-09-28T20:46:42.033966Z",
     "iopub.status.busy": "2022-09-28T20:46:42.033152Z",
     "iopub.status.idle": "2022-09-28T20:46:42.050182Z",
     "shell.execute_reply": "2022-09-28T20:46:42.049258Z"
    },
    "papermill": {
     "duration": 0.034582,
     "end_time": "2022-09-28T20:46:42.052775",
     "exception": false,
     "start_time": "2022-09-28T20:46:42.018193",
     "status": "completed"
    },
    "tags": []
   },
   "outputs": [],
   "source": [
    "#print(df['Condition2'].value_counts())\n",
    "df['Condition2']=df['Condition2'].apply(lambda x: 1 if x=='Norm' else 0)\n",
    "\n",
    "#print(df['Condition1'].value_counts())\n",
    "df['Condition1']=df['Condition1'].apply(lambda x: 1 if x=='Norm' else 0)\n",
    "df['CentralAir'] = df['CentralAir'].replace({'Y':0, 'N':1})\n",
    "df['SaleCondition']=df['SaleCondition'].apply(lambda x:1 if x == 'Normal' else 0)\n",
    "df['Street']=df['Street'].fillna(0).apply(lambda x:0 if x =='Grvl' else 1)"
   ]
  },
  {
   "cell_type": "code",
   "execution_count": 8,
   "id": "07673d78",
   "metadata": {
    "execution": {
     "iopub.execute_input": "2022-09-28T20:46:42.079593Z",
     "iopub.status.busy": "2022-09-28T20:46:42.078380Z",
     "iopub.status.idle": "2022-09-28T20:46:42.105172Z",
     "shell.execute_reply": "2022-09-28T20:46:42.103701Z"
    },
    "papermill": {
     "duration": 0.043242,
     "end_time": "2022-09-28T20:46:42.107980",
     "exception": false,
     "start_time": "2022-09-28T20:46:42.064738",
     "status": "completed"
    },
    "tags": []
   },
   "outputs": [
    {
     "data": {
      "text/html": [
       "<div>\n",
       "<style scoped>\n",
       "    .dataframe tbody tr th:only-of-type {\n",
       "        vertical-align: middle;\n",
       "    }\n",
       "\n",
       "    .dataframe tbody tr th {\n",
       "        vertical-align: top;\n",
       "    }\n",
       "\n",
       "    .dataframe thead th {\n",
       "        text-align: right;\n",
       "    }\n",
       "</style>\n",
       "<table border=\"1\" class=\"dataframe\">\n",
       "  <thead>\n",
       "    <tr style=\"text-align: right;\">\n",
       "      <th></th>\n",
       "      <th>Id</th>\n",
       "      <th>MSSubClass</th>\n",
       "      <th>LotArea</th>\n",
       "      <th>Street</th>\n",
       "      <th>Condition1</th>\n",
       "      <th>Condition2</th>\n",
       "      <th>OverallQual</th>\n",
       "      <th>OverallCond</th>\n",
       "      <th>YearBuilt</th>\n",
       "      <th>YearRemodAdd</th>\n",
       "      <th>...</th>\n",
       "      <th>EnclosedPorch</th>\n",
       "      <th>3SsnPorch</th>\n",
       "      <th>ScreenPorch</th>\n",
       "      <th>PoolArea</th>\n",
       "      <th>MiscVal</th>\n",
       "      <th>MoSold</th>\n",
       "      <th>YrSold</th>\n",
       "      <th>SaleCondition</th>\n",
       "      <th>SalePrice</th>\n",
       "      <th>totalSQ</th>\n",
       "    </tr>\n",
       "  </thead>\n",
       "  <tbody>\n",
       "    <tr>\n",
       "      <th>0</th>\n",
       "      <td>1</td>\n",
       "      <td>60</td>\n",
       "      <td>8450</td>\n",
       "      <td>1</td>\n",
       "      <td>1</td>\n",
       "      <td>1</td>\n",
       "      <td>7</td>\n",
       "      <td>5</td>\n",
       "      <td>2003</td>\n",
       "      <td>2003</td>\n",
       "      <td>...</td>\n",
       "      <td>0</td>\n",
       "      <td>0</td>\n",
       "      <td>0</td>\n",
       "      <td>0</td>\n",
       "      <td>0</td>\n",
       "      <td>2</td>\n",
       "      <td>2008</td>\n",
       "      <td>0</td>\n",
       "      <td>208500</td>\n",
       "      <td>2566</td>\n",
       "    </tr>\n",
       "    <tr>\n",
       "      <th>1</th>\n",
       "      <td>2</td>\n",
       "      <td>20</td>\n",
       "      <td>9600</td>\n",
       "      <td>1</td>\n",
       "      <td>0</td>\n",
       "      <td>1</td>\n",
       "      <td>6</td>\n",
       "      <td>8</td>\n",
       "      <td>1976</td>\n",
       "      <td>1976</td>\n",
       "      <td>...</td>\n",
       "      <td>0</td>\n",
       "      <td>0</td>\n",
       "      <td>0</td>\n",
       "      <td>0</td>\n",
       "      <td>0</td>\n",
       "      <td>5</td>\n",
       "      <td>2007</td>\n",
       "      <td>0</td>\n",
       "      <td>181500</td>\n",
       "      <td>2524</td>\n",
       "    </tr>\n",
       "    <tr>\n",
       "      <th>2</th>\n",
       "      <td>3</td>\n",
       "      <td>60</td>\n",
       "      <td>11250</td>\n",
       "      <td>1</td>\n",
       "      <td>1</td>\n",
       "      <td>1</td>\n",
       "      <td>7</td>\n",
       "      <td>5</td>\n",
       "      <td>2001</td>\n",
       "      <td>2002</td>\n",
       "      <td>...</td>\n",
       "      <td>0</td>\n",
       "      <td>0</td>\n",
       "      <td>0</td>\n",
       "      <td>0</td>\n",
       "      <td>0</td>\n",
       "      <td>9</td>\n",
       "      <td>2008</td>\n",
       "      <td>0</td>\n",
       "      <td>223500</td>\n",
       "      <td>2706</td>\n",
       "    </tr>\n",
       "    <tr>\n",
       "      <th>3</th>\n",
       "      <td>4</td>\n",
       "      <td>70</td>\n",
       "      <td>9550</td>\n",
       "      <td>1</td>\n",
       "      <td>1</td>\n",
       "      <td>1</td>\n",
       "      <td>7</td>\n",
       "      <td>5</td>\n",
       "      <td>1915</td>\n",
       "      <td>1970</td>\n",
       "      <td>...</td>\n",
       "      <td>272</td>\n",
       "      <td>0</td>\n",
       "      <td>0</td>\n",
       "      <td>0</td>\n",
       "      <td>0</td>\n",
       "      <td>2</td>\n",
       "      <td>2006</td>\n",
       "      <td>0</td>\n",
       "      <td>140000</td>\n",
       "      <td>2473</td>\n",
       "    </tr>\n",
       "    <tr>\n",
       "      <th>4</th>\n",
       "      <td>5</td>\n",
       "      <td>60</td>\n",
       "      <td>14260</td>\n",
       "      <td>1</td>\n",
       "      <td>1</td>\n",
       "      <td>1</td>\n",
       "      <td>8</td>\n",
       "      <td>5</td>\n",
       "      <td>2000</td>\n",
       "      <td>2000</td>\n",
       "      <td>...</td>\n",
       "      <td>0</td>\n",
       "      <td>0</td>\n",
       "      <td>0</td>\n",
       "      <td>0</td>\n",
       "      <td>0</td>\n",
       "      <td>12</td>\n",
       "      <td>2008</td>\n",
       "      <td>0</td>\n",
       "      <td>250000</td>\n",
       "      <td>3343</td>\n",
       "    </tr>\n",
       "  </tbody>\n",
       "</table>\n",
       "<p>5 rows × 43 columns</p>\n",
       "</div>"
      ],
      "text/plain": [
       "   Id  MSSubClass  LotArea  Street  Condition1  Condition2  OverallQual  \\\n",
       "0   1          60     8450       1           1           1            7   \n",
       "1   2          20     9600       1           0           1            6   \n",
       "2   3          60    11250       1           1           1            7   \n",
       "3   4          70     9550       1           1           1            7   \n",
       "4   5          60    14260       1           1           1            8   \n",
       "\n",
       "   OverallCond  YearBuilt  YearRemodAdd  ...  EnclosedPorch  3SsnPorch  \\\n",
       "0            5       2003          2003  ...              0          0   \n",
       "1            8       1976          1976  ...              0          0   \n",
       "2            5       2001          2002  ...              0          0   \n",
       "3            5       1915          1970  ...            272          0   \n",
       "4            5       2000          2000  ...              0          0   \n",
       "\n",
       "   ScreenPorch  PoolArea  MiscVal  MoSold  YrSold  SaleCondition  SalePrice  \\\n",
       "0            0         0        0       2    2008              0     208500   \n",
       "1            0         0        0       5    2007              0     181500   \n",
       "2            0         0        0       9    2008              0     223500   \n",
       "3            0         0        0       2    2006              0     140000   \n",
       "4            0         0        0      12    2008              0     250000   \n",
       "\n",
       "   totalSQ  \n",
       "0     2566  \n",
       "1     2524  \n",
       "2     2706  \n",
       "3     2473  \n",
       "4     3343  \n",
       "\n",
       "[5 rows x 43 columns]"
      ]
     },
     "execution_count": 8,
     "metadata": {},
     "output_type": "execute_result"
    }
   ],
   "source": [
    "df = df.select_dtypes(include=['int16', 'int32', 'int64', 'float16', 'float32', 'float64'])\n",
    "df.head()"
   ]
  },
  {
   "cell_type": "markdown",
   "id": "40de529c",
   "metadata": {
    "papermill": {
     "duration": 0.011996,
     "end_time": "2022-09-28T20:46:42.132619",
     "exception": false,
     "start_time": "2022-09-28T20:46:42.120623",
     "status": "completed"
    },
    "tags": []
   },
   "source": [
    "# Outliers"
   ]
  },
  {
   "cell_type": "code",
   "execution_count": 9,
   "id": "00f36ce9",
   "metadata": {
    "execution": {
     "iopub.execute_input": "2022-09-28T20:46:42.159440Z",
     "iopub.status.busy": "2022-09-28T20:46:42.158952Z",
     "iopub.status.idle": "2022-09-28T20:46:44.264989Z",
     "shell.execute_reply": "2022-09-28T20:46:44.263500Z"
    },
    "papermill": {
     "duration": 2.122664,
     "end_time": "2022-09-28T20:46:44.267940",
     "exception": false,
     "start_time": "2022-09-28T20:46:42.145276",
     "status": "completed"
    },
    "tags": []
   },
   "outputs": [
    {
     "data": {
      "text/plain": [
       "<seaborn.axisgrid.FacetGrid at 0x7f87dfd1f850>"
      ]
     },
     "execution_count": 9,
     "metadata": {},
     "output_type": "execute_result"
    },
    {
     "data": {
      "image/png": "[encoded data removed]",
      "text/plain": [
       "<Figure size 360x360 with 1 Axes>"
      ]
     },
     "metadata": {
      "needs_background": "light"
     },
     "output_type": "display_data"
    },
    {
     "data": {
      "image/png": "[encoded data removed]",
      "text/plain": [
       "<Figure size 360x360 with 1 Axes>"
      ]
     },
     "metadata": {
      "needs_background": "light"
     },
     "output_type": "display_data"
    }
   ],
   "source": [
    "import seaborn as sns\n",
    "sns.displot(df, x='SalePrice')\n",
    "sns.displot(df, x='totalSQ')"
   ]
  },
  {
   "cell_type": "code",
   "execution_count": 10,
   "id": "d192f0bc",
   "metadata": {
    "execution": {
     "iopub.execute_input": "2022-09-28T20:46:44.295632Z",
     "iopub.status.busy": "2022-09-28T20:46:44.295154Z",
     "iopub.status.idle": "2022-09-28T20:46:44.311824Z",
     "shell.execute_reply": "2022-09-28T20:46:44.310569Z"
    },
    "papermill": {
     "duration": 0.034611,
     "end_time": "2022-09-28T20:46:44.315526",
     "exception": false,
     "start_time": "2022-09-28T20:46:44.280915",
     "status": "completed"
    },
    "tags": []
   },
   "outputs": [
    {
     "name": "stdout",
     "output_type": "stream",
     "text": [
      "[438780, 501837, 475000, 437154, 426000, 555000, 440000, 430000, 446261, 451950, 423000, 755000, 538000, 485000, 582933, 611657, 556581, 424870, 625000, 745000, 465000, 466500]\n",
      "[438780, 501837, 475000, 437154, 426000, 555000, 440000, 430000, 446261, 451950, 423000, 755000, 538000, 485000, 582933, 611657, 556581, 424870, 625000, 745000, 465000, 466500, 5496, 6428, 7814, 6760, 5066, 5048, 5557, 6872, 11752, 5271, 5266]\n"
     ]
    }
   ],
   "source": [
    "from scipy import stats\n",
    "\n",
    "outliers=[]\n",
    "def detect_outlier(data_1):\n",
    "    threshold=3\n",
    "    mean_1 = np.mean(data_1)\n",
    "    std_1 =np.std(data_1)\n",
    "    \n",
    "    for y in data_1:\n",
    "        z_score= (y - mean_1)/std_1 \n",
    "        if np.abs(z_score) > threshold:\n",
    "            outliers.append(y)\n",
    "    return outliers\n",
    "priceOutlier=list(detect_outlier(df['SalePrice']))\n",
    "print(priceOutlier)\n",
    "sqOutlier=list(detect_outlier(df['totalSQ']))\n",
    "print(sqOutlier)"
   ]
  },
  {
   "cell_type": "code",
   "execution_count": 11,
   "id": "98fea7ad",
   "metadata": {
    "execution": {
     "iopub.execute_input": "2022-09-28T20:46:44.347215Z",
     "iopub.status.busy": "2022-09-28T20:46:44.345938Z",
     "iopub.status.idle": "2022-09-28T20:46:44.356223Z",
     "shell.execute_reply": "2022-09-28T20:46:44.354789Z"
    },
    "papermill": {
     "duration": 0.02876,
     "end_time": "2022-09-28T20:46:44.359009",
     "exception": false,
     "start_time": "2022-09-28T20:46:44.330249",
     "status": "completed"
    },
    "tags": []
   },
   "outputs": [
    {
     "name": "stdout",
     "output_type": "stream",
     "text": [
      "(1444, 43)\n"
     ]
    }
   ],
   "source": [
    "#Remove Outliers:\n",
    "df=df.loc[df['SalePrice']<500_000]\n",
    "df=df.loc[df['totalSQ']<5000]\n",
    "print(df.shape) "
   ]
  },
  {
   "cell_type": "markdown",
   "id": "4b0d52fd",
   "metadata": {
    "papermill": {
     "duration": 0.01509,
     "end_time": "2022-09-28T20:46:44.388364",
     "exception": false,
     "start_time": "2022-09-28T20:46:44.373274",
     "status": "completed"
    },
    "tags": []
   },
   "source": [
    "# Correlations"
   ]
  },
  {
   "cell_type": "code",
   "execution_count": 12,
   "id": "bb1f22d7",
   "metadata": {
    "execution": {
     "iopub.execute_input": "2022-09-28T20:46:44.417907Z",
     "iopub.status.busy": "2022-09-28T20:46:44.417468Z",
     "iopub.status.idle": "2022-09-28T20:46:45.190950Z",
     "shell.execute_reply": "2022-09-28T20:46:45.189500Z"
    },
    "papermill": {
     "duration": 0.791512,
     "end_time": "2022-09-28T20:46:45.193654",
     "exception": false,
     "start_time": "2022-09-28T20:46:44.402142",
     "status": "completed"
    },
    "tags": []
   },
   "outputs": [
    {
     "data": {
      "text/plain": [
       "<AxesSubplot:>"
      ]
     },
     "execution_count": 12,
     "metadata": {},
     "output_type": "execute_result"
    },
    {
     "data": {
      "image/png": "[encoded data removed]",
      "text/plain": [
       "<Figure size 576x576 with 2 Axes>"
      ]
     },
     "metadata": {
      "needs_background": "light"
     },
     "output_type": "display_data"
    }
   ],
   "source": [
    "import seaborn as sns\n",
    "fig, ax = plt.subplots(figsize=(8,8)) \n",
    "sns.heatmap(df.corr())"
   ]
  },
  {
   "cell_type": "code",
   "execution_count": 13,
   "id": "9b16acb2",
   "metadata": {
    "execution": {
     "iopub.execute_input": "2022-09-28T20:46:45.223277Z",
     "iopub.status.busy": "2022-09-28T20:46:45.222872Z",
     "iopub.status.idle": "2022-09-28T20:46:45.229580Z",
     "shell.execute_reply": "2022-09-28T20:46:45.228285Z"
    },
    "papermill": {
     "duration": 0.024563,
     "end_time": "2022-09-28T20:46:45.232098",
     "exception": false,
     "start_time": "2022-09-28T20:46:45.207535",
     "status": "completed"
    },
    "tags": []
   },
   "outputs": [],
   "source": [
    "#Too similiar variables:\n",
    "df=df.drop(['GarageArea', 'GarageYrBlt', 'GrLivArea'], axis=1)"
   ]
  },
  {
   "cell_type": "markdown",
   "id": "f44bd487",
   "metadata": {
    "papermill": {
     "duration": 0.013382,
     "end_time": "2022-09-28T20:46:45.260241",
     "exception": false,
     "start_time": "2022-09-28T20:46:45.246859",
     "status": "completed"
    },
    "tags": []
   },
   "source": [
    "# Split Data"
   ]
  },
  {
   "cell_type": "code",
   "execution_count": 14,
   "id": "12e6d6ad",
   "metadata": {
    "execution": {
     "iopub.execute_input": "2022-09-28T20:46:45.290232Z",
     "iopub.status.busy": "2022-09-28T20:46:45.289801Z",
     "iopub.status.idle": "2022-09-28T20:46:45.524014Z",
     "shell.execute_reply": "2022-09-28T20:46:45.522348Z"
    },
    "papermill": {
     "duration": 0.25379,
     "end_time": "2022-09-28T20:46:45.527709",
     "exception": false,
     "start_time": "2022-09-28T20:46:45.273919",
     "status": "completed"
    },
    "tags": []
   },
   "outputs": [],
   "source": [
    "from sklearn.model_selection import train_test_split, cross_validate\n",
    "\n",
    "X=df.drop(\"SalePrice\", axis='columns')\n",
    "y=df['SalePrice']\n",
    "\n",
    "X_train, X_test, y_train, y_test = train_test_split(\n",
    "X, y, test_size=0.33, random_state=42)"
   ]
  },
  {
   "cell_type": "markdown",
   "id": "97a703a1",
   "metadata": {
    "papermill": {
     "duration": 0.020448,
     "end_time": "2022-09-28T20:46:45.569679",
     "exception": false,
     "start_time": "2022-09-28T20:46:45.549231",
     "status": "completed"
    },
    "tags": []
   },
   "source": [
    "# xgBoost"
   ]
  },
  {
   "cell_type": "code",
   "execution_count": 15,
   "id": "53012126",
   "metadata": {
    "execution": {
     "iopub.execute_input": "2022-09-28T20:46:45.609833Z",
     "iopub.status.busy": "2022-09-28T20:46:45.608975Z",
     "iopub.status.idle": "2022-09-28T20:46:46.766107Z",
     "shell.execute_reply": "2022-09-28T20:46:46.765133Z"
    },
    "papermill": {
     "duration": 1.178246,
     "end_time": "2022-09-28T20:46:46.769060",
     "exception": false,
     "start_time": "2022-09-28T20:46:45.590814",
     "status": "completed"
    },
    "tags": []
   },
   "outputs": [
    {
     "name": "stdout",
     "output_type": "stream",
     "text": [
      "0.8908\n",
      "16100.326208726416\n"
     ]
    }
   ],
   "source": [
    "import xgboost as xgb\n",
    "from sklearn.metrics import mean_squared_error, r2_score, mean_absolute_error\n",
    "\n",
    "regressor = xgb.XGBRegressor(\n",
    "    n_estimators=100,\n",
    "    reg_lambda=1,\n",
    "    gamma=0,\n",
    "    max_depth=3\n",
    ")\n",
    "\n",
    "regressor.fit(X_train, y_train)\n",
    "y_pred = regressor.predict(X_test)\n",
    "\n",
    "xgbMSE=mean_absolute_error(y_test, y_pred)\n",
    "xgR2 = r2_score(y_test, y_pred).round(4)\n",
    "print(xgR2)\n",
    "print(xgbMSE)"
   ]
  },
  {
   "cell_type": "markdown",
   "id": "2392f4b6",
   "metadata": {
    "papermill": {
     "duration": 0.013254,
     "end_time": "2022-09-28T20:46:46.797352",
     "exception": false,
     "start_time": "2022-09-28T20:46:46.784098",
     "status": "completed"
    },
    "tags": []
   },
   "source": [
    "### Max Depth Tunning\n",
    "Four for max depth is clearly the magic number with the least amount of error and highest accuracy. "
   ]
  },
  {
   "cell_type": "code",
   "execution_count": 16,
   "id": "c4092a50",
   "metadata": {
    "execution": {
     "iopub.execute_input": "2022-09-28T20:46:46.826499Z",
     "iopub.status.busy": "2022-09-28T20:46:46.826034Z",
     "iopub.status.idle": "2022-09-28T20:46:52.714720Z",
     "shell.execute_reply": "2022-09-28T20:46:52.713323Z"
    },
    "papermill": {
     "duration": 5.90659,
     "end_time": "2022-09-28T20:46:52.717598",
     "exception": false,
     "start_time": "2022-09-28T20:46:46.811008",
     "status": "completed"
    },
    "tags": []
   },
   "outputs": [
    {
     "data": {
      "image/png": "[encoded data removed]",
      "text/plain": [
       "<Figure size 432x288 with 1 Axes>"
      ]
     },
     "metadata": {
      "needs_background": "light"
     },
     "output_type": "display_data"
    },
    {
     "data": {
      "image/png": "[encoded data removed]",
      "text/plain": [
       "<Figure size 432x288 with 1 Axes>"
      ]
     },
     "metadata": {
      "needs_background": "light"
     },
     "output_type": "display_data"
    }
   ],
   "source": [
    "maxDepth=[2, 3, 4, 5, 6, 7, 8, 9, 10, 11]\n",
    "listMSE=[]\n",
    "listR2=[]\n",
    "\n",
    "for d in maxDepth:\n",
    "    regressor = xgb.XGBRegressor(\n",
    "        n_estimators=100,\n",
    "        reg_lambda=1,\n",
    "        gamma=0,\n",
    "        max_depth=d\n",
    "    )\n",
    "    regressor.fit(X_train, y_train)\n",
    "    y_pred = regressor.predict(X_test)\n",
    "\n",
    "    xgMSE=mean_absolute_error(y_test, y_pred)\n",
    "    xgR2 = r2_score(y_test, y_pred).round(4)\n",
    "    listMSE.append(xgMSE)\n",
    "    listR2.append(xgR2)\n",
    "plt.plot(maxDepth, listMSE)\n",
    "plt.title('MaxDepth Error')\n",
    "plt.ylabel('Error')\n",
    "plt.xlabel('Max Depth')\n",
    "plt.legend()\n",
    "plt.show()\n",
    "\n",
    "plt.plot(maxDepth, listR2)\n",
    "plt.title('MaxDepth Accuracy')\n",
    "plt.ylabel('Accuracy')\n",
    "plt.xlabel('MaxDepth')\n",
    "plt.legend()\n",
    "plt.show()"
   ]
  },
  {
   "cell_type": "markdown",
   "id": "2e44a567",
   "metadata": {
    "papermill": {
     "duration": 0.015792,
     "end_time": "2022-09-28T20:46:52.749092",
     "exception": false,
     "start_time": "2022-09-28T20:46:52.733300",
     "status": "completed"
    },
    "tags": []
   },
   "source": [
    "#### N Estimators Tunning\n",
    "Around 100 n_estimators seems to be a fair number for both accuracy and low error."
   ]
  },
  {
   "cell_type": "code",
   "execution_count": 17,
   "id": "38429404",
   "metadata": {
    "execution": {
     "iopub.execute_input": "2022-09-28T20:46:52.781575Z",
     "iopub.status.busy": "2022-09-28T20:46:52.781132Z",
     "iopub.status.idle": "2022-09-28T20:46:56.187042Z",
     "shell.execute_reply": "2022-09-28T20:46:56.185712Z"
    },
    "papermill": {
     "duration": 3.425538,
     "end_time": "2022-09-28T20:46:56.189791",
     "exception": false,
     "start_time": "2022-09-28T20:46:52.764253",
     "status": "completed"
    },
    "tags": []
   },
   "outputs": [
    {
     "data": {
      "image/png": "[encoded data removed]",
      "text/plain": [
       "<Figure size 432x288 with 1 Axes>"
      ]
     },
     "metadata": {
      "needs_background": "light"
     },
     "output_type": "display_data"
    },
    {
     "data": {
      "image/png": "[encoded data removed]",
      "text/plain": [
       "<Figure size 432x288 with 1 Axes>"
      ]
     },
     "metadata": {
      "needs_background": "light"
     },
     "output_type": "display_data"
    }
   ],
   "source": [
    "nEst=[2, 50, 100, 150, 200, 300]\n",
    "listMSE=[]\n",
    "listR2=[]\n",
    "\n",
    "for n in nEst:\n",
    "    regressor = xgb.XGBRegressor(\n",
    "        n_estimators=n,\n",
    "        reg_lambda=1,\n",
    "        gamma=0,\n",
    "        max_depth=4\n",
    "    )\n",
    "    regressor.fit(X_train, y_train)\n",
    "    y_pred = regressor.predict(X_test)\n",
    "\n",
    "    xgMSE=mean_absolute_error(y_test, y_pred)\n",
    "    xgR2 = r2_score(y_test, y_pred).round(4)\n",
    "    listMSE.append(xgMSE)\n",
    "    listR2.append(xgR2)\n",
    "plt.plot(nEst, listMSE)\n",
    "plt.title('nEstimators Error')\n",
    "plt.ylabel('Error')\n",
    "plt.xlabel('N Estimators')\n",
    "plt.legend()\n",
    "plt.show()\n",
    "\n",
    "plt.plot(nEst, listR2)\n",
    "plt.title('nEstimators R2')\n",
    "plt.ylabel('Accurate')\n",
    "plt.xlabel('N Estimators')\n",
    "plt.legend()\n",
    "plt.show()"
   ]
  },
  {
   "cell_type": "markdown",
   "id": "86aeb58d",
   "metadata": {
    "papermill": {
     "duration": 0.014588,
     "end_time": "2022-09-28T20:46:56.219712",
     "exception": false,
     "start_time": "2022-09-28T20:46:56.205124",
     "status": "completed"
    },
    "tags": []
   },
   "source": [
    "#### Eta Tuning"
   ]
  },
  {
   "cell_type": "code",
   "execution_count": 18,
   "id": "ac610f1f",
   "metadata": {
    "execution": {
     "iopub.execute_input": "2022-09-28T20:46:56.252160Z",
     "iopub.status.busy": "2022-09-28T20:46:56.251471Z",
     "iopub.status.idle": "2022-09-28T20:46:58.210825Z",
     "shell.execute_reply": "2022-09-28T20:46:58.209707Z"
    },
    "papermill": {
     "duration": 1.978937,
     "end_time": "2022-09-28T20:46:58.213562",
     "exception": false,
     "start_time": "2022-09-28T20:46:56.234625",
     "status": "completed"
    },
    "tags": []
   },
   "outputs": [
    {
     "data": {
      "image/png": "[encoded data removed]",
      "text/plain": [
       "<Figure size 432x288 with 1 Axes>"
      ]
     },
     "metadata": {
      "needs_background": "light"
     },
     "output_type": "display_data"
    },
    {
     "data": {
      "image/png": "[encoded data removed]",
      "text/plain": [
       "<Figure size 432x288 with 1 Axes>"
      ]
     },
     "metadata": {
      "needs_background": "light"
     },
     "output_type": "display_data"
    }
   ],
   "source": [
    "eta=[.01, .05, .1, .2, .3, .4, .5, .6]\n",
    "listMSE=[]\n",
    "listR2=[]\n",
    "\n",
    "for e in eta:\n",
    "    regressor = xgb.XGBRegressor(\n",
    "        n_estimators=50,\n",
    "        reg_lambda=1,\n",
    "        gamma=0,\n",
    "        max_depth=4,\n",
    "        eta=e\n",
    "    )\n",
    "    regressor.fit(X_train, y_train)\n",
    "    y_pred = regressor.predict(X_test)\n",
    "\n",
    "    xgMSE=mean_absolute_error(y_test, y_pred)\n",
    "    xgR2 = r2_score(y_test, y_pred).round(4)\n",
    "    listMSE.append(xgMSE)\n",
    "    listR2.append(xgR2)\n",
    "plt.plot(eta, listMSE)\n",
    "plt.title('Eta Error')\n",
    "plt.ylabel('Error')\n",
    "plt.xlabel('Eta')\n",
    "plt.legend()\n",
    "plt.show()\n",
    "\n",
    "plt.plot(eta, listR2)\n",
    "plt.title('Eta R2')\n",
    "plt.ylabel('Accurate')\n",
    "plt.xlabel('Eta')\n",
    "plt.legend()\n",
    "plt.show()"
   ]
  },
  {
   "cell_type": "code",
   "execution_count": 19,
   "id": "1f2727af",
   "metadata": {
    "execution": {
     "iopub.execute_input": "2022-09-28T20:46:58.248458Z",
     "iopub.status.busy": "2022-09-28T20:46:58.248042Z",
     "iopub.status.idle": "2022-09-28T20:47:00.355738Z",
     "shell.execute_reply": "2022-09-28T20:47:00.354472Z"
    },
    "papermill": {
     "duration": 2.128957,
     "end_time": "2022-09-28T20:47:00.358744",
     "exception": false,
     "start_time": "2022-09-28T20:46:58.229787",
     "status": "completed"
    },
    "tags": []
   },
   "outputs": [
    {
     "data": {
      "image/png": "[encoded data removed]",
      "text/plain": [
       "<Figure size 432x288 with 1 Axes>"
      ]
     },
     "metadata": {
      "needs_background": "light"
     },
     "output_type": "display_data"
    },
    {
     "data": {
      "image/png": "[encoded data removed]",
      "text/plain": [
       "<Figure size 432x288 with 1 Axes>"
      ]
     },
     "metadata": {
      "needs_background": "light"
     },
     "output_type": "display_data"
    }
   ],
   "source": [
    "weight=[1, 3, 5, 7, 9, 11, 13, 15, 17]\n",
    "listMSE=[]\n",
    "listR2=[]\n",
    "\n",
    "for w in weight:\n",
    "    regressor = xgb.XGBRegressor(\n",
    "        n_estimators=50,\n",
    "        reg_lambda=1,\n",
    "        gamma=0,\n",
    "        max_depth=4,\n",
    "        eta=.05,\n",
    "        min_child_weight=w\n",
    "    )\n",
    "    regressor.fit(X_train, y_train)\n",
    "    y_pred = regressor.predict(X_test)\n",
    "\n",
    "    xgMSE=mean_absolute_error(y_test, y_pred)\n",
    "    xgR2 = r2_score(y_test, y_pred).round(4)\n",
    "    listMSE.append(xgMSE)\n",
    "    listR2.append(xgR2)\n",
    "plt.plot(weight, listMSE)\n",
    "plt.title('nEstimators Error')\n",
    "plt.ylabel('Error')\n",
    "plt.xlabel('Weight')\n",
    "plt.legend()\n",
    "plt.show()\n",
    "\n",
    "plt.plot(weight, listR2)\n",
    "plt.title('Weight R2')\n",
    "plt.ylabel('Accurate')\n",
    "plt.xlabel('Weight')\n",
    "plt.legend()\n",
    "plt.show()"
   ]
  },
  {
   "cell_type": "code",
   "execution_count": 20,
   "id": "97d717e5",
   "metadata": {
    "execution": {
     "iopub.execute_input": "2022-09-28T20:47:00.394325Z",
     "iopub.status.busy": "2022-09-28T20:47:00.393896Z",
     "iopub.status.idle": "2022-09-28T20:47:05.262498Z",
     "shell.execute_reply": "2022-09-28T20:47:05.261560Z"
    },
    "papermill": {
     "duration": 4.889146,
     "end_time": "2022-09-28T20:47:05.265055",
     "exception": false,
     "start_time": "2022-09-28T20:47:00.375909",
     "status": "completed"
    },
    "tags": []
   },
   "outputs": [
    {
     "data": {
      "image/png": "[encoded data removed]",
      "text/plain": [
       "<Figure size 432x288 with 1 Axes>"
      ]
     },
     "metadata": {
      "needs_background": "light"
     },
     "output_type": "display_data"
    },
    {
     "data": {
      "image/png": "[encoded data removed]",
      "text/plain": [
       "<Figure size 432x288 with 1 Axes>"
      ]
     },
     "metadata": {
      "needs_background": "light"
     },
     "output_type": "display_data"
    }
   ],
   "source": [
    "gammas=[0, 0.25, 0.5, 1.0, 3, 5, 1000, 5000, 10_000]\n",
    "listMSE=[]\n",
    "listR2=[]\n",
    "\n",
    "for g in gammas:\n",
    "    regressor = xgb.XGBRegressor(\n",
    "        min_split_loss=g\n",
    "    )\n",
    "    regressor.fit(X_train, y_train)\n",
    "    y_pred = regressor.predict(X_test)\n",
    "\n",
    "    xgMSE=mean_absolute_error(y_test, y_pred)\n",
    "    xgR2 = r2_score(y_test, y_pred).round(4)\n",
    "    listMSE.append(xgMSE)\n",
    "    listR2.append(xgR2)\n",
    "    \n",
    "plt.plot(gammas, listMSE)\n",
    "plt.title('Gamma Error')\n",
    "plt.ylabel('Error')\n",
    "plt.xlabel('Gammas')\n",
    "plt.legend()\n",
    "plt.show()\n",
    "\n",
    "plt.plot(gammas, listR2)\n",
    "plt.title('Gamma R2')\n",
    "plt.ylabel('Accurate')\n",
    "plt.xlabel('Gammas')\n",
    "plt.legend()\n",
    "plt.show()"
   ]
  },
  {
   "cell_type": "code",
   "execution_count": 21,
   "id": "dfba4f44",
   "metadata": {
    "execution": {
     "iopub.execute_input": "2022-09-28T20:47:05.301724Z",
     "iopub.status.busy": "2022-09-28T20:47:05.301257Z",
     "iopub.status.idle": "2022-09-28T20:47:06.823436Z",
     "shell.execute_reply": "2022-09-28T20:47:06.822491Z"
    },
    "papermill": {
     "duration": 1.543202,
     "end_time": "2022-09-28T20:47:06.825938",
     "exception": false,
     "start_time": "2022-09-28T20:47:05.282736",
     "status": "completed"
    },
    "tags": []
   },
   "outputs": [
    {
     "data": {
      "image/png": "[encoded data removed]",
      "text/plain": [
       "<Figure size 432x288 with 1 Axes>"
      ]
     },
     "metadata": {
      "needs_background": "light"
     },
     "output_type": "display_data"
    },
    {
     "data": {
      "image/png": "[encoded data removed]",
      "text/plain": [
       "<Figure size 432x288 with 1 Axes>"
      ]
     },
     "metadata": {
      "needs_background": "light"
     },
     "output_type": "display_data"
    }
   ],
   "source": [
    "learning_rate = [0.0001, 0.001, 0.01, 0.1, 0.2, 0.3]\n",
    "listMSE=[]\n",
    "listR2=[]\n",
    "\n",
    "for l in learning_rate:\n",
    "    regressor = xgb.XGBRegressor(\n",
    "        n_estimators=50,\n",
    "        reg_lambda=1,\n",
    "        max_depth=4,\n",
    "        eta=.05,\n",
    "        min_child_weight=13,\n",
    "        learning_rate=l\n",
    "    )\n",
    "    regressor.fit(X_train, y_train)\n",
    "    y_pred = regressor.predict(X_test)\n",
    "\n",
    "    xgMSE=mean_absolute_error(y_test, y_pred)\n",
    "    xgR2 = r2_score(y_test, y_pred).round(4)\n",
    "    listMSE.append(xgMSE)\n",
    "    listR2.append(xgR2)\n",
    "    \n",
    "plt.plot(learning_rate, listMSE)\n",
    "plt.title('Learning_rate Error')\n",
    "plt.ylabel('Error')\n",
    "plt.xlabel('Learning_rate')\n",
    "plt.legend()\n",
    "plt.show()\n",
    "\n",
    "plt.plot(learning_rate, listR2)\n",
    "plt.title('Learning_rate R2')\n",
    "plt.ylabel('Accurate')\n",
    "plt.xlabel('Learning_rate')\n",
    "plt.legend()\n",
    "plt.show()"
   ]
  },
  {
   "cell_type": "code",
   "execution_count": 22,
   "id": "fce665d2",
   "metadata": {
    "execution": {
     "iopub.execute_input": "2022-09-28T20:47:06.863567Z",
     "iopub.status.busy": "2022-09-28T20:47:06.863119Z",
     "iopub.status.idle": "2022-09-28T20:47:08.391892Z",
     "shell.execute_reply": "2022-09-28T20:47:08.390678Z"
    },
    "papermill": {
     "duration": 1.550791,
     "end_time": "2022-09-28T20:47:08.394472",
     "exception": false,
     "start_time": "2022-09-28T20:47:06.843681",
     "status": "completed"
    },
    "tags": []
   },
   "outputs": [
    {
     "data": {
      "image/png": "[encoded data removed]",
      "text/plain": [
       "<Figure size 432x288 with 1 Axes>"
      ]
     },
     "metadata": {
      "needs_background": "light"
     },
     "output_type": "display_data"
    },
    {
     "data": {
      "image/png": "[encoded data removed]",
      "text/plain": [
       "<Figure size 432x288 with 1 Axes>"
      ]
     },
     "metadata": {
      "needs_background": "light"
     },
     "output_type": "display_data"
    }
   ],
   "source": [
    "regLam = [0.1, 1.0, 5.0, 10.0, 50.0, 100.0]\n",
    "listMSE=[]\n",
    "listR2=[]\n",
    "\n",
    "for r in regLam:\n",
    "    regressor = xgb.XGBRegressor(\n",
    "        n_estimators=50,\n",
    "        reg_lambda=r,\n",
    "        max_depth=4,\n",
    "        eta=.05,\n",
    "        min_child_weight=13,\n",
    "        learning_rate=.1\n",
    "    )\n",
    "    regressor.fit(X_train, y_train)\n",
    "    y_pred = regressor.predict(X_test)\n",
    "\n",
    "    xgMSE=mean_absolute_error(y_test, y_pred)\n",
    "    xgR2 = r2_score(y_test, y_pred).round(4)\n",
    "    listMSE.append(xgMSE)\n",
    "    listR2.append(xgR2)\n",
    "    \n",
    "plt.plot(regLam, listMSE)\n",
    "plt.title('RegLam Error')\n",
    "plt.ylabel('Error')\n",
    "plt.xlabel('RegLam')\n",
    "plt.legend()\n",
    "plt.show()\n",
    "\n",
    "plt.plot(regLam, listR2)\n",
    "plt.title('RegLam R2')\n",
    "plt.ylabel('Accurate')\n",
    "plt.xlabel('RegLam')\n",
    "plt.legend()\n",
    "plt.show()"
   ]
  },
  {
   "cell_type": "code",
   "execution_count": 23,
   "id": "1c0dc94d",
   "metadata": {
    "execution": {
     "iopub.execute_input": "2022-09-28T20:47:08.434225Z",
     "iopub.status.busy": "2022-09-28T20:47:08.433516Z",
     "iopub.status.idle": "2022-09-28T20:47:09.541774Z",
     "shell.execute_reply": "2022-09-28T20:47:09.540469Z"
    },
    "papermill": {
     "duration": 1.131367,
     "end_time": "2022-09-28T20:47:09.544316",
     "exception": false,
     "start_time": "2022-09-28T20:47:08.412949",
     "status": "completed"
    },
    "tags": []
   },
   "outputs": [
    {
     "data": {
      "image/png": "[encoded data removed]",
      "text/plain": [
       "<Figure size 432x288 with 1 Axes>"
      ]
     },
     "metadata": {
      "needs_background": "light"
     },
     "output_type": "display_data"
    },
    {
     "data": {
      "image/png": "[encoded data removed]",
      "text/plain": [
       "<Figure size 432x288 with 1 Axes>"
      ]
     },
     "metadata": {
      "needs_background": "light"
     },
     "output_type": "display_data"
    }
   ],
   "source": [
    "colSample = [0.1, 0.5, 0.9, 1]\n",
    "listMSE=[]\n",
    "listR2=[]\n",
    "\n",
    "for c in colSample:\n",
    "    regressor = xgb.XGBRegressor(\n",
    "        n_estimators=50,\n",
    "        reg_lambda=r,\n",
    "        max_depth=4,\n",
    "        eta=.05,\n",
    "        min_child_weight=13,\n",
    "        learning_rate=.1,\n",
    "        colsample_bytree=c\n",
    "    )\n",
    "    regressor.fit(X_train, y_train)\n",
    "    y_pred = regressor.predict(X_test)\n",
    "\n",
    "    xgMSE=mean_absolute_error(y_test, y_pred)\n",
    "    xgR2 = r2_score(y_test, y_pred).round(4)\n",
    "    listMSE.append(xgMSE)\n",
    "    listR2.append(xgR2)\n",
    "    \n",
    "plt.plot(colSample, listMSE)\n",
    "plt.title('ColSample Error')\n",
    "plt.ylabel('Error')\n",
    "plt.xlabel('ColSample')\n",
    "plt.legend()\n",
    "plt.show()\n",
    "\n",
    "plt.plot(colSample, listR2)\n",
    "plt.title('ColSample R2')\n",
    "plt.ylabel('Accurate')\n",
    "plt.xlabel('ColSample')\n",
    "plt.legend()\n",
    "plt.show()"
   ]
  },
  {
   "cell_type": "markdown",
   "id": "6f5d8d64",
   "metadata": {
    "papermill": {
     "duration": 0.018891,
     "end_time": "2022-09-28T20:47:09.582427",
     "exception": false,
     "start_time": "2022-09-28T20:47:09.563536",
     "status": "completed"
    },
    "tags": []
   },
   "source": [
    "# Grid Search xg Boost\n",
    "\n",
    "* Top 47% {'eta': 0.1, 'learning_rate': 0.01, 'max_depth': 4, 'min_child_weight': 10, 'n_estimators': 50, 'reg_lambda': 0.01}"
   ]
  },
  {
   "cell_type": "code",
   "execution_count": 24,
   "id": "9bfbabf0",
   "metadata": {
    "execution": {
     "iopub.execute_input": "2022-09-28T20:47:09.623534Z",
     "iopub.status.busy": "2022-09-28T20:47:09.623087Z",
     "iopub.status.idle": "2022-09-28T20:47:47.551071Z",
     "shell.execute_reply": "2022-09-28T20:47:47.549514Z"
    },
    "papermill": {
     "duration": 37.963575,
     "end_time": "2022-09-28T20:47:47.565469",
     "exception": false,
     "start_time": "2022-09-28T20:47:09.601894",
     "status": "completed"
    },
    "tags": []
   },
   "outputs": [
    {
     "name": "stdout",
     "output_type": "stream",
     "text": [
      "Start\n",
      "{'colsample_bytree': 0.99, 'learning_rate': 0.03, 'max_depth': 4, 'min_child_weight': 10, 'n_estimators': 50, 'reg_lambda': 0.01}\n",
      "Done.  37.910569190979004  seconds\n"
     ]
    }
   ],
   "source": [
    "from sklearn.model_selection import GridSearchCV\n",
    "from sklearn.metrics import f1_score, max_error\n",
    "import time\n",
    "\n",
    "start=time.time()\n",
    "print(\"Start\")\n",
    "\n",
    "params = {\n",
    "    'learning_rate':[.01, .03],\n",
    "    'n_estimators':[50],\n",
    "    'max_depth':[3, 4, 5, 6],\n",
    "    'min_child_weight':[10, 13],\n",
    "    'reg_lambda':[.01, 1],\n",
    "    'colsample_bytree':[.9, .99]\n",
    "}\n",
    "\n",
    "boost_gs=xgb.XGBRegressor()\n",
    "boost_gs=GridSearchCV(boost_gs, param_grid=params, cv=3, scoring='max_error')\n",
    "boost_gs.fit(X_train, y_train)\n",
    "\n",
    "print(boost_gs.best_params_)\n",
    "print(\"Done. \", time.time()-start, \" seconds\")"
   ]
  },
  {
   "cell_type": "markdown",
   "id": "7676b5ac",
   "metadata": {
    "papermill": {
     "duration": 0.018949,
     "end_time": "2022-09-28T20:47:47.603777",
     "exception": false,
     "start_time": "2022-09-28T20:47:47.584828",
     "status": "completed"
    },
    "tags": []
   },
   "source": [
    "#### Final xgBoost Prediction\n",
    "Using best parameter tunnings"
   ]
  },
  {
   "cell_type": "code",
   "execution_count": 25,
   "id": "7c366d5c",
   "metadata": {
    "execution": {
     "iopub.execute_input": "2022-09-28T20:47:47.643832Z",
     "iopub.status.busy": "2022-09-28T20:47:47.643434Z",
     "iopub.status.idle": "2022-09-28T20:48:31.349986Z",
     "shell.execute_reply": "2022-09-28T20:48:31.348838Z"
    },
    "papermill": {
     "duration": 43.730134,
     "end_time": "2022-09-28T20:48:31.353056",
     "exception": false,
     "start_time": "2022-09-28T20:47:47.622922",
     "status": "completed"
    },
    "tags": []
   },
   "outputs": [
    {
     "name": "stdout",
     "output_type": "stream",
     "text": [
      "Fitting 5 folds for each of 10 candidates, totalling 50 fits\n",
      "Fitting 5 folds for each of 10 candidates, totalling 50 fits\n",
      "Fitting 5 folds for each of 10 candidates, totalling 50 fits\n",
      "Fitting 5 folds for each of 10 candidates, totalling 50 fits\n",
      "[CV 4/5] END colsample_bytree=0.7663071906169798, learning_rate=0.06971243419580173, max_depth=5, min_child_weight=10, n_estimators=70, subsample=0.8698063895509767;, score=0.917 total time=   0.5s\n",
      "[CV 2/5] END colsample_bytree=0.7945508593093451, learning_rate=0.05684869018581476, max_depth=3, min_child_weight=10, n_estimators=90, subsample=0.3590877823750493;, score=0.926 total time=   0.5s\n",
      "[CV 1/5] END colsample_bytree=0.5994674574099979, learning_rate=0.03760202519608801, max_depth=3, min_child_weight=1, n_estimators=90, subsample=0.592052100613967;, score=0.842 total time=   0.5s\n",
      "[CV 5/5] END colsample_bytree=0.5994674574099979, learning_rate=0.03760202519608801, max_depth=3, min_child_weight=1, n_estimators=90, subsample=0.592052100613967;, score=0.876 total time=   0.5s\n",
      "[CV 4/5] END colsample_bytree=0.6208620378359453, learning_rate=0.06843735086539444, max_depth=4, min_child_weight=1, n_estimators=108, subsample=0.40257836546986586;, score=0.915 total time=   0.6s\n",
      "[CV 3/5] END colsample_bytree=0.6060784461356615, learning_rate=0.0771919180020054, max_depth=6, min_child_weight=10, n_estimators=62, subsample=0.6284054469263447;, score=0.905 total time=   0.5s\n",
      "[CV 2/5] END colsample_bytree=0.6261704178256848, learning_rate=0.05998791100534026, max_depth=3, min_child_weight=10, n_estimators=62, subsample=0.9424027590019877;, score=0.913 total time=   0.4s\n",
      "[CV 1/5] END colsample_bytree=0.5489538185805024, learning_rate=0.040005857778343035, max_depth=5, min_child_weight=10, n_estimators=61, subsample=0.7269702303186191;, score=0.786 total time=   0.4s\n",
      "[CV 5/5] END colsample_bytree=0.5489538185805024, learning_rate=0.040005857778343035, max_depth=5, min_child_weight=10, n_estimators=61, subsample=0.7269702303186191;, score=0.825 total time=   0.4s\n",
      "[CV 4/5] END colsample_bytree=0.9110535148797161, learning_rate=0.012792526174883212, max_depth=5, min_child_weight=1, n_estimators=123, subsample=0.3995748380935196;, score=0.537 total time=   0.9s\n",
      "[CV 3/5] END colsample_bytree=0.6901015530179089, learning_rate=0.05902420857869041, max_depth=5, min_child_weight=1, n_estimators=95, subsample=0.35405589597862;, score=0.906 total time=   0.6s\n",
      "[CV 1/5] END colsample_bytree=0.5940739467232875, learning_rate=0.052849488433909325, max_depth=5, min_child_weight=1, n_estimators=99, subsample=0.4297145582508942;, score=0.874 total time=   0.7s\n",
      "[CV 5/5] END colsample_bytree=0.5940739467232875, learning_rate=0.052849488433909325, max_depth=5, min_child_weight=1, n_estimators=99, subsample=0.4297145582508942;, score=0.895 total time=   0.4s\n",
      "[CV 4/5] END colsample_bytree=0.5583046128483798, learning_rate=0.07666565053429247, max_depth=4, min_child_weight=10, n_estimators=102, subsample=0.5876991385781662;, score=0.920 total time=   0.6s\n",
      "[CV 3/5] END colsample_bytree=0.8942182330759708, learning_rate=0.043130206290443875, max_depth=6, min_child_weight=1, n_estimators=67, subsample=0.9176626977330766;, score=0.849 total time=   0.6s\n",
      "[CV 2/5] END colsample_bytree=0.7707026425059258, learning_rate=0.022639699550693632, max_depth=6, min_child_weight=1, n_estimators=65, subsample=0.8343618605472958;, score=0.490 total time=   0.5s\n",
      "[CV 4/5] END colsample_bytree=0.7707026425059258, learning_rate=0.022639699550693632, max_depth=6, min_child_weight=1, n_estimators=65, subsample=0.8343618605472958;, score=0.460 total time=   0.6s\n",
      "[CV 4/5] END colsample_bytree=0.9269867612328707, learning_rate=0.013856813906834648, max_depth=6, min_child_weight=10, n_estimators=57, subsample=0.44901032110248174;, score=-0.852 total time=   0.4s\n",
      "[CV 3/5] END colsample_bytree=0.7982786456035861, learning_rate=0.031071803149128288, max_depth=5, min_child_weight=10, n_estimators=106, subsample=0.8283639499735298;, score=0.864 total time=   0.8s\n",
      "[CV 2/5] END colsample_bytree=0.8495155531981706, learning_rate=0.031348251357156784, max_depth=5, min_child_weight=10, n_estimators=121, subsample=0.9088536899930031;, score=0.909 total time=   0.9s\n",
      "[CV 1/5] END colsample_bytree=0.7557869360696093, learning_rate=0.0719186566682489, max_depth=3, min_child_weight=1, n_estimators=92, subsample=0.6508645787947425;, score=0.863 total time=   0.5s\n",
      "[CV 3/5] END colsample_bytree=0.7557869360696093, learning_rate=0.0719186566682489, max_depth=3, min_child_weight=1, n_estimators=92, subsample=0.6508645787947425;, score=0.884 total time=   0.5s\n",
      "[CV 2/5] END colsample_bytree=0.5139675842883317, learning_rate=0.03643642400252769, max_depth=6, min_child_weight=1, n_estimators=58, subsample=0.8483827132749382;, score=0.770 total time=   0.4s\n",
      "[CV 1/5] END colsample_bytree=0.6389196809781458, learning_rate=0.043111123815011455, max_depth=3, min_child_weight=1, n_estimators=59, subsample=0.7518271791731928;, score=0.778 total time=   0.3s\n",
      "[CV 5/5] END colsample_bytree=0.6389196809781458, learning_rate=0.043111123815011455, max_depth=3, min_child_weight=1, n_estimators=59, subsample=0.7518271791731928;, score=0.806 total time=   0.3s\n",
      "[CV 4/5] END colsample_bytree=0.7938034885307679, learning_rate=0.015543036610978191, max_depth=3, min_child_weight=1, n_estimators=74, subsample=0.43519978962133615;, score=0.040 total time=   0.4s\n",
      "[CV 3/5] END colsample_bytree=0.9231720139831727, learning_rate=0.07469019369842622, max_depth=4, min_child_weight=1, n_estimators=121, subsample=0.34883584238038795;, score=0.926 total time=   0.8s\n",
      "[CV 2/5] END colsample_bytree=0.6338561011786363, learning_rate=0.06403080237054967, max_depth=3, min_child_weight=1, n_estimators=93, subsample=0.3656459836654956;, score=0.934 total time=   0.5s\n",
      "[CV 5/5] END colsample_bytree=0.6338561011786363, learning_rate=0.06403080237054967, max_depth=3, min_child_weight=1, n_estimators=93, subsample=0.3656459836654956;, score=0.872 total time=   0.5s\n",
      "[CV 4/5] END colsample_bytree=0.6838551413618885, learning_rate=0.01296155328612324, max_depth=3, min_child_weight=10, n_estimators=100, subsample=0.7523203733691681;, score=0.179 total time=   0.6s\n",
      "[CV 3/5] END colsample_bytree=0.7936668185958345, learning_rate=0.041473606484494246, max_depth=3, min_child_weight=10, n_estimators=93, subsample=0.5903213815860358;, score=0.908 total time=   0.6s\n",
      "[CV 2/5] END colsample_bytree=0.7834173927456634, learning_rate=0.0458991430546628, max_depth=3, min_child_weight=10, n_estimators=106, subsample=0.4818305194314524;, score=0.932 total time=   0.6s\n",
      "[CV 1/5] END colsample_bytree=0.8232819178761275, learning_rate=0.07637682441890709, max_depth=3, min_child_weight=10, n_estimators=106, subsample=0.4346026282451183;, score=0.866 total time=   0.6s\n",
      "[CV 5/5] END colsample_bytree=0.8232819178761275, learning_rate=0.07637682441890709, max_depth=3, min_child_weight=10, n_estimators=106, subsample=0.4346026282451183;, score=0.881 total time=   0.6s\n",
      "[CV 4/5] END colsample_bytree=0.7759855937590769, learning_rate=0.07416928978821066, max_depth=4, min_child_weight=10, n_estimators=86, subsample=0.44379982013727537;, score=0.913 total time=   0.5s\n",
      "[CV 3/5] END colsample_bytree=0.6301604460989435, learning_rate=0.0652714059146401, max_depth=6, min_child_weight=10, n_estimators=70, subsample=0.6303509755944163;, score=0.922 total time=   0.5s\n",
      "[CV 2/5] END colsample_bytree=0.5575264238188966, learning_rate=0.03455048775011296, max_depth=5, min_child_weight=10, n_estimators=81, subsample=0.7528027524913427;, score=0.898 total time=   0.5s\n",
      "[CV 1/5] END colsample_bytree=0.6017590492469704, learning_rate=0.0342856461043465, max_depth=3, min_child_weight=1, n_estimators=91, subsample=0.3539768384616647;, score=0.820 total time=   0.5s\n",
      "[CV 4/5] END colsample_bytree=0.6017590492469704, learning_rate=0.0342856461043465, max_depth=3, min_child_weight=1, n_estimators=91, subsample=0.3539768384616647;, score=0.879 total time=   0.3s\n",
      "[CV 3/5] END colsample_bytree=0.6876361444369543, learning_rate=0.05969720882146598, max_depth=5, min_child_weight=1, n_estimators=129, subsample=0.9873448162563265;, score=0.899 total time=   0.9s\n",
      "[CV 2/5] END colsample_bytree=0.8084645457491209, learning_rate=0.0653492082872612, max_depth=4, min_child_weight=1, n_estimators=126, subsample=0.5023181387361986;, score=0.918 total time=   0.8s\n",
      "[CV 1/5] END colsample_bytree=0.6070993140513777, learning_rate=0.014471485448860686, max_depth=6, min_child_weight=1, n_estimators=118, subsample=0.36491252981890926;, score=0.511 total time=   0.8s[CV 2/5] END colsample_bytree=0.7663071906169798, learning_rate=0.06971243419580173, max_depth=5, min_child_weight=10, n_estimators=70, subsample=0.8698063895509767;, score=0.927 total time=   0.5s\n",
      "[CV 1/5] END colsample_bytree=0.7945508593093451, learning_rate=0.05684869018581476, max_depth=3, min_child_weight=10, n_estimators=90, subsample=0.3590877823750493;, score=0.872 total time=   0.5s\n",
      "[CV 4/5] END colsample_bytree=0.7945508593093451, learning_rate=0.05684869018581476, max_depth=3, min_child_weight=10, n_estimators=90, subsample=0.3590877823750493;, score=0.907 total time=   0.5s\n",
      "[CV 3/5] END colsample_bytree=0.5994674574099979, learning_rate=0.03760202519608801, max_depth=3, min_child_weight=1, n_estimators=90, subsample=0.592052100613967;, score=0.878 total time=   0.5s\n",
      "[CV 2/5] END colsample_bytree=0.6208620378359453, learning_rate=0.06843735086539444, max_depth=4, min_child_weight=1, n_estimators=108, subsample=0.40257836546986586;, score=0.933 total time=   0.6s\n",
      "[CV 1/5] END colsample_bytree=0.6060784461356615, learning_rate=0.0771919180020054, max_depth=6, min_child_weight=10, n_estimators=62, subsample=0.6284054469263447;, score=0.879 total time=   0.4s\n",
      "[CV 5/5] END colsample_bytree=0.6060784461356615, learning_rate=0.0771919180020054, max_depth=6, min_child_weight=10, n_estimators=62, subsample=0.6284054469263447;, score=0.899 total time=   0.4s\n",
      "[CV 5/5] END colsample_bytree=0.6261704178256848, learning_rate=0.05998791100534026, max_depth=3, min_child_weight=10, n_estimators=62, subsample=0.9424027590019877;, score=0.879 total time=   0.4s\n",
      "[CV 4/5] END colsample_bytree=0.5489538185805024, learning_rate=0.040005857778343035, max_depth=5, min_child_weight=10, n_estimators=61, subsample=0.7269702303186191;, score=0.842 total time=   0.4s\n",
      "[CV 3/5] END colsample_bytree=0.9110535148797161, learning_rate=0.012792526174883212, max_depth=5, min_child_weight=1, n_estimators=123, subsample=0.3995748380935196;, score=0.551 total time=   0.9s\n",
      "[CV 2/5] END colsample_bytree=0.6901015530179089, learning_rate=0.05902420857869041, max_depth=5, min_child_weight=1, n_estimators=95, subsample=0.35405589597862;, score=0.928 total time=   0.6s\n",
      "[CV 5/5] END colsample_bytree=0.6901015530179089, learning_rate=0.05902420857869041, max_depth=5, min_child_weight=1, n_estimators=95, subsample=0.35405589597862;, score=0.897 total time=   0.6s\n",
      "[CV 4/5] END colsample_bytree=0.5940739467232875, learning_rate=0.052849488433909325, max_depth=5, min_child_weight=1, n_estimators=99, subsample=0.4297145582508942;, score=0.917 total time=   0.7s\n",
      "[CV 3/5] END colsample_bytree=0.5583046128483798, learning_rate=0.07666565053429247, max_depth=4, min_child_weight=10, n_estimators=102, subsample=0.5876991385781662;, score=0.889 total time=   0.6s\n",
      "[CV 2/5] END colsample_bytree=0.8942182330759708, learning_rate=0.043130206290443875, max_depth=6, min_child_weight=1, n_estimators=67, subsample=0.9176626977330766;, score=0.874 total time=   0.6s\n",
      "[CV 1/5] END colsample_bytree=0.7707026425059258, learning_rate=0.022639699550693632, max_depth=6, min_child_weight=1, n_estimators=65, subsample=0.8343618605472958;, score=0.373 total time=   0.6s\n",
      "[CV 3/5] END colsample_bytree=0.7707026425059258, learning_rate=0.022639699550693632, max_depth=6, min_child_weight=1, n_estimators=65, subsample=0.8343618605472958;, score=0.441 total time=   0.5s\n",
      "[CV 3/5] END colsample_bytree=0.9269867612328707, learning_rate=0.013856813906834648, max_depth=6, min_child_weight=10, n_estimators=57, subsample=0.44901032110248174;, score=-0.714 total time=   0.4s\n",
      "[CV 2/5] END colsample_bytree=0.7982786456035861, learning_rate=0.031071803149128288, max_depth=5, min_child_weight=10, n_estimators=106, subsample=0.8283639499735298;, score=0.898 total time=   0.8s\n",
      "[CV 1/5] END colsample_bytree=0.8495155531981706, learning_rate=0.031348251357156784, max_depth=5, min_child_weight=10, n_estimators=121, subsample=0.9088536899930031;, score=0.851 total time=   0.9s\n",
      "[CV 5/5] END colsample_bytree=0.8495155531981706, learning_rate=0.031348251357156784, max_depth=5, min_child_weight=10, n_estimators=121, subsample=0.9088536899930031;, score=0.870 total time=   0.9s\n",
      "[CV 1/5] END colsample_bytree=0.5139675842883317, learning_rate=0.03643642400252769, max_depth=6, min_child_weight=1, n_estimators=58, subsample=0.8483827132749382;, score=0.696 total time=   0.4s\n",
      "[CV 5/5] END colsample_bytree=0.5139675842883317, learning_rate=0.03643642400252769, max_depth=6, min_child_weight=1, n_estimators=58, subsample=0.8483827132749382;, score=0.720 total time=   0.4s\n",
      "[CV 4/5] END colsample_bytree=0.6389196809781458, learning_rate=0.043111123815011455, max_depth=3, min_child_weight=1, n_estimators=59, subsample=0.7518271791731928;, score=0.846 total time=   0.3s\n",
      "[CV 3/5] END colsample_bytree=0.7938034885307679, learning_rate=0.015543036610978191, max_depth=3, min_child_weight=1, n_estimators=74, subsample=0.43519978962133615;, score=0.056 total time=   0.4s\n",
      "[CV 2/5] END colsample_bytree=0.9231720139831727, learning_rate=0.07469019369842622, max_depth=4, min_child_weight=1, n_estimators=121, subsample=0.34883584238038795;, score=0.936 total time=   0.8s\n",
      "[CV 1/5] END colsample_bytree=0.6338561011786363, learning_rate=0.06403080237054967, max_depth=3, min_child_weight=1, n_estimators=93, subsample=0.3656459836654956;, score=0.862 total time=   0.5s\n",
      "[CV 4/5] END colsample_bytree=0.6338561011786363, learning_rate=0.06403080237054967, max_depth=3, min_child_weight=1, n_estimators=93, subsample=0.3656459836654956;, score=0.906 total time=   0.5s\n",
      "[CV 3/5] END colsample_bytree=0.6838551413618885, learning_rate=0.01296155328612324, max_depth=3, min_child_weight=10, n_estimators=100, subsample=0.7523203733691681;, score=0.279 total time=   0.6s\n",
      "[CV 2/5] END colsample_bytree=0.7936668185958345, learning_rate=0.041473606484494246, max_depth=3, min_child_weight=10, n_estimators=93, subsample=0.5903213815860358;, score=0.923 total time=   0.6s\n",
      "[CV 1/5] END colsample_bytree=0.7834173927456634, learning_rate=0.0458991430546628, max_depth=3, min_child_weight=10, n_estimators=106, subsample=0.4818305194314524;, score=0.860 total time=   0.6s\n",
      "[CV 5/5] END colsample_bytree=0.7834173927456634, learning_rate=0.0458991430546628, max_depth=3, min_child_weight=10, n_estimators=106, subsample=0.4818305194314524;, score=0.875 total time=   0.6s\n",
      "[CV 4/5] END colsample_bytree=0.8232819178761275, learning_rate=0.07637682441890709, max_depth=3, min_child_weight=10, n_estimators=106, subsample=0.4346026282451183;, score=0.919 total time=   0.6s\n",
      "[CV 5/5] END colsample_bytree=0.7759855937590769, learning_rate=0.07416928978821066, max_depth=4, min_child_weight=10, n_estimators=86, subsample=0.44379982013727537;, score=0.888 total time=   0.5s\n",
      "[CV 4/5] END colsample_bytree=0.6301604460989435, learning_rate=0.0652714059146401, max_depth=6, min_child_weight=10, n_estimators=70, subsample=0.6303509755944163;, score=0.914 total time=   0.5s\n",
      "[CV 3/5] END colsample_bytree=0.5575264238188966, learning_rate=0.03455048775011296, max_depth=5, min_child_weight=10, n_estimators=81, subsample=0.7528027524913427;, score=0.875 total time=   0.5s\n",
      "[CV 2/5] END colsample_bytree=0.6017590492469704, learning_rate=0.0342856461043465, max_depth=3, min_child_weight=1, n_estimators=91, subsample=0.3539768384616647;, score=0.900 total time=   0.5s\n",
      "[CV 5/5] END colsample_bytree=0.6017590492469704, learning_rate=0.0342856461043465, max_depth=3, min_child_weight=1, n_estimators=91, subsample=0.3539768384616647;, score=0.834 total time=   0.4s\n",
      "[CV 4/5] END colsample_bytree=0.6876361444369543, learning_rate=0.05969720882146598, max_depth=5, min_child_weight=1, n_estimators=129, subsample=0.9873448162563265;, score=0.921 total time=   0.9s\n",
      "[CV 3/5] END colsample_bytree=0.8084645457491209, learning_rate=0.0653492082872612, max_depth=4, min_child_weight=1, n_estimators=126, subsample=0.5023181387361986;, score=0.900 total time=   0.8s\n",
      "[CV 5/5] END colsample_bytree=0.8084645457491209, learning_rate=0.0653492082872612, max_depth=4, min_child_weight=1, n_estimators=126, subsample=0.5023181387361986;, score=0.874 total time=   0.8s\n",
      "[CV 5/5] END colsample_bytree=0.6070993140513777, learning_rate=0.014471485448860686, max_depth=6, min_child_weight=1, n_estimators=118, subsample=0.36491252981890926;, score=0.487 total time=   0.8s[CV 3/5] END colsample_bytree=0.7663071906169798, learning_rate=0.06971243419580173, max_depth=5, min_child_weight=10, n_estimators=70, subsample=0.8698063895509767;, score=0.900 total time=   0.5s\n",
      "[CV 3/5] END colsample_bytree=0.7945508593093451, learning_rate=0.05684869018581476, max_depth=3, min_child_weight=10, n_estimators=90, subsample=0.3590877823750493;, score=0.898 total time=   0.5s\n",
      "[CV 2/5] END colsample_bytree=0.5994674574099979, learning_rate=0.03760202519608801, max_depth=3, min_child_weight=1, n_estimators=90, subsample=0.592052100613967;, score=0.905 total time=   0.5s\n",
      "[CV 1/5] END colsample_bytree=0.6208620378359453, learning_rate=0.06843735086539444, max_depth=4, min_child_weight=1, n_estimators=108, subsample=0.40257836546986586;, score=0.885 total time=   0.6s\n",
      "[CV 5/5] END colsample_bytree=0.6208620378359453, learning_rate=0.06843735086539444, max_depth=4, min_child_weight=1, n_estimators=108, subsample=0.40257836546986586;, score=0.894 total time=   0.6s\n",
      "[CV 4/5] END colsample_bytree=0.6060784461356615, learning_rate=0.0771919180020054, max_depth=6, min_child_weight=10, n_estimators=62, subsample=0.6284054469263447;, score=0.918 total time=   0.4s\n",
      "[CV 4/5] END colsample_bytree=0.6261704178256848, learning_rate=0.05998791100534026, max_depth=3, min_child_weight=10, n_estimators=62, subsample=0.9424027590019877;, score=0.901 total time=   0.4s\n",
      "[CV 3/5] END colsample_bytree=0.5489538185805024, learning_rate=0.040005857778343035, max_depth=5, min_child_weight=10, n_estimators=61, subsample=0.7269702303186191;, score=0.829 total time=   0.4s\n",
      "[CV 2/5] END colsample_bytree=0.9110535148797161, learning_rate=0.012792526174883212, max_depth=5, min_child_weight=1, n_estimators=123, subsample=0.3995748380935196;, score=0.548 total time=   0.9s\n",
      "[CV 1/5] END colsample_bytree=0.6901015530179089, learning_rate=0.05902420857869041, max_depth=5, min_child_weight=1, n_estimators=95, subsample=0.35405589597862;, score=0.877 total time=   0.6s\n",
      "[CV 4/5] END colsample_bytree=0.6901015530179089, learning_rate=0.05902420857869041, max_depth=5, min_child_weight=1, n_estimators=95, subsample=0.35405589597862;, score=0.915 total time=   0.6s\n",
      "[CV 3/5] END colsample_bytree=0.5940739467232875, learning_rate=0.052849488433909325, max_depth=5, min_child_weight=1, n_estimators=99, subsample=0.4297145582508942;, score=0.905 total time=   0.7s\n",
      "[CV 2/5] END colsample_bytree=0.5583046128483798, learning_rate=0.07666565053429247, max_depth=4, min_child_weight=10, n_estimators=102, subsample=0.5876991385781662;, score=0.930 total time=   0.6s\n",
      "[CV 5/5] END colsample_bytree=0.5583046128483798, learning_rate=0.07666565053429247, max_depth=4, min_child_weight=10, n_estimators=102, subsample=0.5876991385781662;, score=0.875 total time=   0.6s\n",
      "[CV 4/5] END colsample_bytree=0.8942182330759708, learning_rate=0.043130206290443875, max_depth=6, min_child_weight=1, n_estimators=67, subsample=0.9176626977330766;, score=0.882 total time=   0.6s\n",
      "[CV 5/5] END colsample_bytree=0.7707026425059258, learning_rate=0.022639699550693632, max_depth=6, min_child_weight=1, n_estimators=65, subsample=0.8343618605472958;, score=0.387 total time=   0.6s\n",
      "[CV 5/5] END colsample_bytree=0.9269867612328707, learning_rate=0.013856813906834648, max_depth=6, min_child_weight=10, n_estimators=57, subsample=0.44901032110248174;, score=-0.922 total time=   0.4s\n",
      "[CV 4/5] END colsample_bytree=0.7982786456035861, learning_rate=0.031071803149128288, max_depth=5, min_child_weight=10, n_estimators=106, subsample=0.8283639499735298;, score=0.905 total time=   0.8s\n",
      "[CV 3/5] END colsample_bytree=0.8495155531981706, learning_rate=0.031348251357156784, max_depth=5, min_child_weight=10, n_estimators=121, subsample=0.9088536899930031;, score=0.878 total time=   0.9s\n",
      "[CV 2/5] END colsample_bytree=0.7557869360696093, learning_rate=0.0719186566682489, max_depth=3, min_child_weight=1, n_estimators=92, subsample=0.6508645787947425;, score=0.924 total time=   0.5s\n",
      "[CV 4/5] END colsample_bytree=0.7557869360696093, learning_rate=0.0719186566682489, max_depth=3, min_child_weight=1, n_estimators=92, subsample=0.6508645787947425;, score=0.906 total time=   0.5s\n",
      "[CV 3/5] END colsample_bytree=0.5139675842883317, learning_rate=0.03643642400252769, max_depth=6, min_child_weight=1, n_estimators=58, subsample=0.8483827132749382;, score=0.741 total time=   0.4s\n",
      "[CV 2/5] END colsample_bytree=0.6389196809781458, learning_rate=0.043111123815011455, max_depth=3, min_child_weight=1, n_estimators=59, subsample=0.7518271791731928;, score=0.840 total time=   0.3s\n",
      "[CV 1/5] END colsample_bytree=0.7938034885307679, learning_rate=0.015543036610978191, max_depth=3, min_child_weight=1, n_estimators=74, subsample=0.43519978962133615;, score=0.012 total time=   0.4s\n",
      "[CV 5/5] END colsample_bytree=0.7938034885307679, learning_rate=0.015543036610978191, max_depth=3, min_child_weight=1, n_estimators=74, subsample=0.43519978962133615;, score=-0.034 total time=   0.4s\n",
      "[CV 4/5] END colsample_bytree=0.9231720139831727, learning_rate=0.07469019369842622, max_depth=4, min_child_weight=1, n_estimators=121, subsample=0.34883584238038795;, score=0.913 total time=   0.8s\n",
      "[CV 3/5] END colsample_bytree=0.6338561011786363, learning_rate=0.06403080237054967, max_depth=3, min_child_weight=1, n_estimators=93, subsample=0.3656459836654956;, score=0.920 total time=   0.5s\n",
      "[CV 1/5] END colsample_bytree=0.6838551413618885, learning_rate=0.01296155328612324, max_depth=3, min_child_weight=10, n_estimators=100, subsample=0.7523203733691681;, score=0.245 total time=   0.6s\n",
      "[CV 5/5] END colsample_bytree=0.6838551413618885, learning_rate=0.01296155328612324, max_depth=3, min_child_weight=10, n_estimators=100, subsample=0.7523203733691681;, score=0.228 total time=   0.6s\n",
      "[CV 4/5] END colsample_bytree=0.7936668185958345, learning_rate=0.041473606484494246, max_depth=3, min_child_weight=10, n_estimators=93, subsample=0.5903213815860358;, score=0.901 total time=   0.5s\n",
      "[CV 3/5] END colsample_bytree=0.7834173927456634, learning_rate=0.0458991430546628, max_depth=3, min_child_weight=10, n_estimators=106, subsample=0.4818305194314524;, score=0.914 total time=   0.6s\n",
      "[CV 2/5] END colsample_bytree=0.8232819178761275, learning_rate=0.07637682441890709, max_depth=3, min_child_weight=10, n_estimators=106, subsample=0.4346026282451183;, score=0.932 total time=   0.6s\n",
      "[CV 1/5] END colsample_bytree=0.7759855937590769, learning_rate=0.07416928978821066, max_depth=4, min_child_weight=10, n_estimators=86, subsample=0.44379982013727537;, score=0.867 total time=   0.5s\n",
      "[CV 3/5] END colsample_bytree=0.7759855937590769, learning_rate=0.07416928978821066, max_depth=4, min_child_weight=10, n_estimators=86, subsample=0.44379982013727537;, score=0.920 total time=   0.5s\n",
      "[CV 2/5] END colsample_bytree=0.6301604460989435, learning_rate=0.0652714059146401, max_depth=6, min_child_weight=10, n_estimators=70, subsample=0.6303509755944163;, score=0.931 total time=   0.5s\n",
      "[CV 1/5] END colsample_bytree=0.5575264238188966, learning_rate=0.03455048775011296, max_depth=5, min_child_weight=10, n_estimators=81, subsample=0.7528027524913427;, score=0.823 total time=   0.5s\n",
      "[CV 5/5] END colsample_bytree=0.5575264238188966, learning_rate=0.03455048775011296, max_depth=5, min_child_weight=10, n_estimators=81, subsample=0.7528027524913427;, score=0.843 total time=   0.5s\n",
      "[CV 1/5] END colsample_bytree=0.6876361444369543, learning_rate=0.05969720882146598, max_depth=5, min_child_weight=1, n_estimators=129, subsample=0.9873448162563265;, score=0.866 total time=   0.9s\n",
      "[CV 1/5] END colsample_bytree=0.8084645457491209, learning_rate=0.0653492082872612, max_depth=4, min_child_weight=1, n_estimators=126, subsample=0.5023181387361986;, score=0.865 total time=   0.8s\n",
      "[CV 4/5] END colsample_bytree=0.8084645457491209, learning_rate=0.0653492082872612, max_depth=4, min_child_weight=1, n_estimators=126, subsample=0.5023181387361986;, score=0.913 total time=   0.8s\n",
      "[CV 4/5] END colsample_bytree=0.6070993140513777, learning_rate=0.014471485448860686, max_depth=6, min_child_weight=1, n_estimators=118, subsample=0.36491252981890926;, score=0.644 total time=   0.8s\n",
      "[CV 4/5] END colsample_bytree=0.6536849895807667, learning_rate=0.0738583425829649, max_depth=3, min_child_weight=10, n_estimators=110, subsample=0.6853705197354024;, score=0.911 total time=   0.6s[CV 1/5] END colsample_bytree=0.7663071906169798, learning_rate=0.06971243419580173, max_depth=5, min_child_weight=10, n_estimators=70, subsample=0.8698063895509767;, score=0.879 total time=   0.5s\n",
      "[CV 5/5] END colsample_bytree=0.7663071906169798, learning_rate=0.06971243419580173, max_depth=5, min_child_weight=10, n_estimators=70, subsample=0.8698063895509767;, score=0.895 total time=   0.5s\n",
      "[CV 5/5] END colsample_bytree=0.7945508593093451, learning_rate=0.05684869018581476, max_depth=3, min_child_weight=10, n_estimators=90, subsample=0.3590877823750493;, score=0.892 total time=   0.5s\n",
      "[CV 4/5] END colsample_bytree=0.5994674574099979, learning_rate=0.03760202519608801, max_depth=3, min_child_weight=1, n_estimators=90, subsample=0.592052100613967;, score=0.891 total time=   0.5s\n",
      "[CV 3/5] END colsample_bytree=0.6208620378359453, learning_rate=0.06843735086539444, max_depth=4, min_child_weight=1, n_estimators=108, subsample=0.40257836546986586;, score=0.901 total time=   0.6s\n",
      "[CV 2/5] END colsample_bytree=0.6060784461356615, learning_rate=0.0771919180020054, max_depth=6, min_child_weight=10, n_estimators=62, subsample=0.6284054469263447;, score=0.925 total time=   0.4s\n",
      "[CV 1/5] END colsample_bytree=0.6261704178256848, learning_rate=0.05998791100534026, max_depth=3, min_child_weight=10, n_estimators=62, subsample=0.9424027590019877;, score=0.856 total time=   0.4s\n",
      "[CV 3/5] END colsample_bytree=0.6261704178256848, learning_rate=0.05998791100534026, max_depth=3, min_child_weight=10, n_estimators=62, subsample=0.9424027590019877;, score=0.887 total time=   0.4s\n",
      "[CV 2/5] END colsample_bytree=0.5489538185805024, learning_rate=0.040005857778343035, max_depth=5, min_child_weight=10, n_estimators=61, subsample=0.7269702303186191;, score=0.853 total time=   0.4s\n",
      "[CV 1/5] END colsample_bytree=0.9110535148797161, learning_rate=0.012792526174883212, max_depth=5, min_child_weight=1, n_estimators=123, subsample=0.3995748380935196;, score=0.477 total time=   0.9s\n",
      "[CV 5/5] END colsample_bytree=0.9110535148797161, learning_rate=0.012792526174883212, max_depth=5, min_child_weight=1, n_estimators=123, subsample=0.3995748380935196;, score=0.459 total time=   0.9s\n",
      "[CV 2/5] END colsample_bytree=0.5940739467232875, learning_rate=0.052849488433909325, max_depth=5, min_child_weight=1, n_estimators=99, subsample=0.4297145582508942;, score=0.930 total time=   0.7s\n",
      "[CV 1/5] END colsample_bytree=0.5583046128483798, learning_rate=0.07666565053429247, max_depth=4, min_child_weight=10, n_estimators=102, subsample=0.5876991385781662;, score=0.873 total time=   0.6s\n",
      "[CV 1/5] END colsample_bytree=0.8942182330759708, learning_rate=0.043130206290443875, max_depth=6, min_child_weight=1, n_estimators=67, subsample=0.9176626977330766;, score=0.808 total time=   0.6s\n",
      "[CV 5/5] END colsample_bytree=0.8942182330759708, learning_rate=0.043130206290443875, max_depth=6, min_child_weight=1, n_estimators=67, subsample=0.9176626977330766;, score=0.822 total time=   0.6s\n",
      "[CV 1/5] END colsample_bytree=0.9269867612328707, learning_rate=0.013856813906834648, max_depth=6, min_child_weight=10, n_estimators=57, subsample=0.44901032110248174;, score=-0.783 total time=   0.4s\n",
      "[CV 2/5] END colsample_bytree=0.9269867612328707, learning_rate=0.013856813906834648, max_depth=6, min_child_weight=10, n_estimators=57, subsample=0.44901032110248174;, score=-0.551 total time=   0.4s\n",
      "[CV 1/5] END colsample_bytree=0.7982786456035861, learning_rate=0.031071803149128288, max_depth=5, min_child_weight=10, n_estimators=106, subsample=0.8283639499735298;, score=0.838 total time=   0.8s\n",
      "[CV 5/5] END colsample_bytree=0.7982786456035861, learning_rate=0.031071803149128288, max_depth=5, min_child_weight=10, n_estimators=106, subsample=0.8283639499735298;, score=0.861 total time=   0.8s\n",
      "[CV 4/5] END colsample_bytree=0.8495155531981706, learning_rate=0.031348251357156784, max_depth=5, min_child_weight=10, n_estimators=121, subsample=0.9088536899930031;, score=0.913 total time=   0.9s\n",
      "[CV 5/5] END colsample_bytree=0.7557869360696093, learning_rate=0.0719186566682489, max_depth=3, min_child_weight=1, n_estimators=92, subsample=0.6508645787947425;, score=0.871 total time=   0.5s\n",
      "[CV 4/5] END colsample_bytree=0.5139675842883317, learning_rate=0.03643642400252769, max_depth=6, min_child_weight=1, n_estimators=58, subsample=0.8483827132749382;, score=0.794 total time=   0.4s\n",
      "[CV 3/5] END colsample_bytree=0.6389196809781458, learning_rate=0.043111123815011455, max_depth=3, min_child_weight=1, n_estimators=59, subsample=0.7518271791731928;, score=0.807 total time=   0.4s\n",
      "[CV 2/5] END colsample_bytree=0.7938034885307679, learning_rate=0.015543036610978191, max_depth=3, min_child_weight=1, n_estimators=74, subsample=0.43519978962133615;, score=0.139 total time=   0.4s\n",
      "[CV 1/5] END colsample_bytree=0.9231720139831727, learning_rate=0.07469019369842622, max_depth=4, min_child_weight=1, n_estimators=121, subsample=0.34883584238038795;, score=0.869 total time=   0.8s\n",
      "[CV 5/5] END colsample_bytree=0.9231720139831727, learning_rate=0.07469019369842622, max_depth=4, min_child_weight=1, n_estimators=121, subsample=0.34883584238038795;, score=0.884 total time=   0.8s\n",
      "[CV 2/5] END colsample_bytree=0.6838551413618885, learning_rate=0.01296155328612324, max_depth=3, min_child_weight=10, n_estimators=100, subsample=0.7523203733691681;, score=0.342 total time=   0.6s\n",
      "[CV 1/5] END colsample_bytree=0.7936668185958345, learning_rate=0.041473606484494246, max_depth=3, min_child_weight=10, n_estimators=93, subsample=0.5903213815860358;, score=0.847 total time=   0.6s\n",
      "[CV 5/5] END colsample_bytree=0.7936668185958345, learning_rate=0.041473606484494246, max_depth=3, min_child_weight=10, n_estimators=93, subsample=0.5903213815860358;, score=0.863 total time=   0.5s\n",
      "[CV 4/5] END colsample_bytree=0.7834173927456634, learning_rate=0.0458991430546628, max_depth=3, min_child_weight=10, n_estimators=106, subsample=0.4818305194314524;, score=0.910 total time=   0.6s\n",
      "[CV 3/5] END colsample_bytree=0.8232819178761275, learning_rate=0.07637682441890709, max_depth=3, min_child_weight=10, n_estimators=106, subsample=0.4346026282451183;, score=0.919 total time=   0.6s\n",
      "[CV 2/5] END colsample_bytree=0.7759855937590769, learning_rate=0.07416928978821066, max_depth=4, min_child_weight=10, n_estimators=86, subsample=0.44379982013727537;, score=0.933 total time=   0.5s\n",
      "[CV 1/5] END colsample_bytree=0.6301604460989435, learning_rate=0.0652714059146401, max_depth=6, min_child_weight=10, n_estimators=70, subsample=0.6303509755944163;, score=0.862 total time=   0.5s\n",
      "[CV 5/5] END colsample_bytree=0.6301604460989435, learning_rate=0.0652714059146401, max_depth=6, min_child_weight=10, n_estimators=70, subsample=0.6303509755944163;, score=0.891 total time=   0.5s\n",
      "[CV 4/5] END colsample_bytree=0.5575264238188966, learning_rate=0.03455048775011296, max_depth=5, min_child_weight=10, n_estimators=81, subsample=0.7528027524913427;, score=0.879 total time=   0.5s\n",
      "[CV 3/5] END colsample_bytree=0.6017590492469704, learning_rate=0.0342856461043465, max_depth=3, min_child_weight=1, n_estimators=91, subsample=0.3539768384616647;, score=0.878 total time=   0.5s\n",
      "[CV 2/5] END colsample_bytree=0.6876361444369543, learning_rate=0.05969720882146598, max_depth=5, min_child_weight=1, n_estimators=129, subsample=0.9873448162563265;, score=0.906 total time=   0.9s\n",
      "[CV 5/5] END colsample_bytree=0.6876361444369543, learning_rate=0.05969720882146598, max_depth=5, min_child_weight=1, n_estimators=129, subsample=0.9873448162563265;, score=0.858 total time=   0.9s\n",
      "[CV 2/5] END colsample_bytree=0.6070993140513777, learning_rate=0.014471485448860686, max_depth=6, min_child_weight=1, n_estimators=118, subsample=0.36491252981890926;, score=0.593 total time=   0.8s\n",
      "[CV 1/5] END colsample_bytree=0.6536849895807667, learning_rate=0.0738583425829649, max_depth=3, min_child_weight=10, n_estimators=110, subsample=0.6853705197354024;, score=0.874 total time=   0.6s\n",
      "[CV 2/5] END colsample_bytree=0.6536849895807667, learning_rate=0.0738583425829649, max_depth=3, min_child_weight=10, n_estimators=110, subsample=0.6853705197354024;, score=0.915 total time=   0.6s\n",
      "[CV 1/5] END colsample_bytree=0.713153354473368, learning_rate=0.02874081950425942, max_depth=6, min_child_weight=1, n_estimators=125, subsample=0.810708773437467;, score=0.852 total time=   1.0sFitting 5 folds for each of 10 candidates, totalling 50 fits\n"
     ]
    }
   ],
   "source": [
    "from xgboost import cv\n",
    "\n",
    "from scipy import stats\n",
    "from sklearn.model_selection import RandomizedSearchCV, KFold\n",
    "\n",
    "clf_xgb = xgb.XGBRegressor()\n",
    "param_dist = {'n_estimators': stats.randint(50, 130),\n",
    "              'learning_rate': stats.uniform(0.01, 0.07),\n",
    "              'subsample': stats.uniform(0.3, 0.7),\n",
    "              'max_depth': [3, 4, 5, 6],\n",
    "              'colsample_bytree': stats.uniform(0.5, 0.45),\n",
    "              'min_child_weight': [1, 10]\n",
    "             }\n",
    "clf = RandomizedSearchCV(\n",
    "    clf_xgb, param_distributions = param_dist, n_iter = 10, \n",
    " scoring = 'r2', error_score = 0, verbose = 3, n_jobs = -1)\n",
    "\n",
    "numFolds = 5\n",
    "folds = KFold(n_splits = numFolds, shuffle = True)\n",
    "\n",
    "estimators = []\n",
    "results = np.zeros(len(X))\n",
    "score = 0.0\n",
    "for train_index, test_index in folds.split(X):\n",
    "    X_train, X_test = X.iloc[train_index,:], X.iloc[test_index,:]\n",
    "    y_train, y_test = y.iloc[train_index].values.ravel(), y.iloc[test_index].values.ravel()\n",
    "    clf.fit(X_train, y_train)\n",
    "\n",
    "    estimators.append(clf.best_estimator_)\n",
    "    results[test_index] = clf.predict(X_test)\n",
    "    score += r2_score(y_test, results[test_index])\n",
    "score /= numFolds"
   ]
  },
  {
   "cell_type": "code",
   "execution_count": 26,
   "id": "3e370d75",
   "metadata": {
    "execution": {
     "iopub.execute_input": "2022-09-28T20:48:31.398676Z",
     "iopub.status.busy": "2022-09-28T20:48:31.398200Z",
     "iopub.status.idle": "2022-09-28T20:48:34.166816Z",
     "shell.execute_reply": "2022-09-28T20:48:34.165790Z"
    },
    "papermill": {
     "duration": 2.793581,
     "end_time": "2022-09-28T20:48:34.169640",
     "exception": false,
     "start_time": "2022-09-28T20:48:31.376059",
     "status": "completed"
    },
    "tags": []
   },
   "outputs": [
    {
     "name": "stdout",
     "output_type": "stream",
     "text": [
      "0.8918\n",
      "0.8882\n",
      "0.0036000000000000476\n"
     ]
    }
   ],
   "source": [
    "xgbFinal = xgb.XGBRegressor(\n",
    "        n_estimators=50,\n",
    "        reg_lambda=0.01,\n",
    "        max_depth=4,\n",
    "        eta=.05,\n",
    "        min_child_weight=10,\n",
    "        learning_rate=.3,\n",
    "        colsample_bytree=.99\n",
    "    )\n",
    "xgbFinal.fit(X_train, y_train)\n",
    "y_pred = xgbFinal.predict(X_test)\n",
    "\n",
    "xgMSE=mean_absolute_error(y_test, y_pred)\n",
    "xgR2 = r2_score(y_test, y_pred).round(4)\n",
    "listMSE.append(xgMSE)\n",
    "listR2.append(xgR2)\n",
    "\n",
    "#regressor.fit(X_train, y_train, early_stopping_rounds=1, eval_set=[(X_test, y_test)], verbose=False)\n",
    "xgbFinal.fit(X_train, y_train)\n",
    "y_pred = xgbFinal.predict(X_test)\n",
    "\n",
    "xgMSE=mean_absolute_error(y_test, y_pred)\n",
    "xgR2 = r2_score(y_test, y_pred).round(4)\n",
    "listMSE.append(xgMSE)\n",
    "listR2.append(xgR2)\n",
    "\n",
    "xgScore = xgbFinal.score(X_test, y_test).round(4)  \n",
    "xgCV = cross_validate(xgbFinal, X, y, cv = 10, scoring='r2')\n",
    "xgCV=xgCV['test_score'].mean().round(4)\n",
    "print(xgScore)\n",
    "print(xgCV)\n",
    "print(abs(xgScore-xgCV))"
   ]
  },
  {
   "cell_type": "markdown",
   "id": "f33f0ec5",
   "metadata": {
    "papermill": {
     "duration": 0.020291,
     "end_time": "2022-09-28T20:48:34.211838",
     "exception": false,
     "start_time": "2022-09-28T20:48:34.191547",
     "status": "completed"
    },
    "tags": []
   },
   "source": [
    "### Graph"
   ]
  },
  {
   "cell_type": "code",
   "execution_count": 27,
   "id": "11f1e5fb",
   "metadata": {
    "execution": {
     "iopub.execute_input": "2022-09-28T20:48:34.256882Z",
     "iopub.status.busy": "2022-09-28T20:48:34.256071Z",
     "iopub.status.idle": "2022-09-28T20:48:35.433017Z",
     "shell.execute_reply": "2022-09-28T20:48:35.431301Z"
    },
    "papermill": {
     "duration": 1.202324,
     "end_time": "2022-09-28T20:48:35.435931",
     "exception": false,
     "start_time": "2022-09-28T20:48:34.233607",
     "status": "completed"
    },
    "tags": []
   },
   "outputs": [
    {
     "data": {
      "image/svg+xml": [
       "<?xml version=\"1.0\" encoding=\"UTF-8\" standalone=\"no\"?>\n",
       "<!DOCTYPE svg PUBLIC \"-//W3C//DTD SVG 1.1//EN\"\n",
       " \"http://www.w3.org/Graphics/SVG/1.1/DTD/svg11.dtd\">\n",
       "<!-- Generated by graphviz version 5.0.0 (20220707.2338)\n",
       " -->\n",
       "<!-- Pages: 1 -->\n",
       "<svg width=\"3178pt\" height=\"392pt\"\n",
       " viewBox=\"0.00 0.00 3177.98 392.00\" xmlns=\"http://www.w3.org/2000/svg\" xmlns:xlink=\"http://www.w3.org/1999/xlink\">\n",
       "<g id=\"graph0\" class=\"graph\" transform=\"scale(1 1) rotate(0) translate(4 388)\">\n",
       "<polygon fill=\"white\" stroke=\"transparent\" points=\"-4,4 -4,-388 3173.98,-388 3173.98,4 -4,4\"/>\n",
       "<!-- 0 -->\n",
       "<g id=\"node1\" class=\"node\">\n",
       "<title>0</title>\n",
       "<ellipse fill=\"none\" stroke=\"black\" cx=\"1581.99\" cy=\"-366\" rx=\"88.28\" ry=\"18\"/>\n",
       "<text text-anchor=\"middle\" x=\"1581.99\" y=\"-362.3\" font-family=\"Times,serif\" font-size=\"14.00\">OverallQual&lt;6.5</text>\n",
       "</g>\n",
       "<!-- 1 -->\n",
       "<g id=\"node2\" class=\"node\">\n",
       "<title>1</title>\n",
       "<ellipse fill=\"none\" stroke=\"black\" cx=\"1177.99\" cy=\"-279\" rx=\"85.59\" ry=\"18\"/>\n",
       "<text text-anchor=\"middle\" x=\"1177.99\" y=\"-275.3\" font-family=\"Times,serif\" font-size=\"14.00\">totalSQ&lt;2175.5</text>\n",
       "</g>\n",
       "<!-- 0&#45;&gt;1 -->\n",
       "<g id=\"edge1\" class=\"edge\">\n",
       "<title>0&#45;&gt;1</title>\n",
       "<path fill=\"none\" stroke=\"#0000ff\" d=\"M1522.81,-352.55C1449.3,-337.08 1324.1,-310.74 1246.5,-294.41\"/>\n",
       "<polygon fill=\"#0000ff\" stroke=\"#0000ff\" points=\"1246.85,-290.91 1236.34,-292.28 1245.41,-297.76 1246.85,-290.91\"/>\n",
       "<text text-anchor=\"middle\" x=\"1449.49\" y=\"-318.8\" font-family=\"Times,serif\" font-size=\"14.00\">yes, missing</text>\n",
       "</g>\n",
       "<!-- 2 -->\n",
       "<g id=\"node3\" class=\"node\">\n",
       "<title>2</title>\n",
       "<ellipse fill=\"none\" stroke=\"black\" cx=\"1980.99\" cy=\"-279\" rx=\"85.59\" ry=\"18\"/>\n",
       "<text text-anchor=\"middle\" x=\"1980.99\" y=\"-275.3\" font-family=\"Times,serif\" font-size=\"14.00\">totalSQ&lt;3233.5</text>\n",
       "</g>\n",
       "<!-- 0&#45;&gt;2 -->\n",
       "<g id=\"edge2\" class=\"edge\">\n",
       "<title>0&#45;&gt;2</title>\n",
       "<path fill=\"none\" stroke=\"#ff0000\" d=\"M1640.87,-352.46C1713.48,-336.99 1836.66,-310.75 1913.16,-294.45\"/>\n",
       "<polygon fill=\"#ff0000\" stroke=\"#ff0000\" points=\"1914.12,-297.82 1923.17,-292.32 1912.66,-290.98 1914.12,-297.82\"/>\n",
       "<text text-anchor=\"middle\" x=\"1814.99\" y=\"-318.8\" font-family=\"Times,serif\" font-size=\"14.00\">no</text>\n",
       "</g>\n",
       "<!-- 3 -->\n",
       "<g id=\"node4\" class=\"node\">\n",
       "<title>3</title>\n",
       "<ellipse fill=\"none\" stroke=\"black\" cx=\"618.99\" cy=\"-192\" rx=\"85.59\" ry=\"18\"/>\n",
       "<text text-anchor=\"middle\" x=\"618.99\" y=\"-188.3\" font-family=\"Times,serif\" font-size=\"14.00\">totalSQ&lt;1607.5</text>\n",
       "</g>\n",
       "<!-- 1&#45;&gt;3 -->\n",
       "<g id=\"edge3\" class=\"edge\">\n",
       "<title>1&#45;&gt;3</title>\n",
       "<path fill=\"none\" stroke=\"#0000ff\" d=\"M1110.84,-267.79C1006.62,-251.94 806.47,-221.51 696.35,-204.76\"/>\n",
       "<polygon fill=\"#0000ff\" stroke=\"#0000ff\" points=\"696.71,-201.28 686.3,-203.23 695.66,-208.2 696.71,-201.28\"/>\n",
       "<text text-anchor=\"middle\" x=\"976.49\" y=\"-231.8\" font-family=\"Times,serif\" font-size=\"14.00\">yes, missing</text>\n",
       "</g>\n",
       "<!-- 4 -->\n",
       "<g id=\"node5\" class=\"node\">\n",
       "<title>4</title>\n",
       "<ellipse fill=\"none\" stroke=\"black\" cx=\"1177.99\" cy=\"-192\" rx=\"88.28\" ry=\"18\"/>\n",
       "<text text-anchor=\"middle\" x=\"1177.99\" y=\"-188.3\" font-family=\"Times,serif\" font-size=\"14.00\">GarageCars&lt;1.5</text>\n",
       "</g>\n",
       "<!-- 1&#45;&gt;4 -->\n",
       "<g id=\"edge4\" class=\"edge\">\n",
       "<title>1&#45;&gt;4</title>\n",
       "<path fill=\"none\" stroke=\"#ff0000\" d=\"M1177.99,-260.8C1177.99,-249.16 1177.99,-233.55 1177.99,-220.24\"/>\n",
       "<polygon fill=\"#ff0000\" stroke=\"#ff0000\" points=\"1181.49,-220.18 1177.99,-210.18 1174.49,-220.18 1181.49,-220.18\"/>\n",
       "<text text-anchor=\"middle\" x=\"1186.99\" y=\"-231.8\" font-family=\"Times,serif\" font-size=\"14.00\">no</text>\n",
       "</g>\n",
       "<!-- 5 -->\n",
       "<g id=\"node18\" class=\"node\">\n",
       "<title>5</title>\n",
       "<ellipse fill=\"none\" stroke=\"black\" cx=\"1980.99\" cy=\"-192\" rx=\"85.59\" ry=\"18\"/>\n",
       "<text text-anchor=\"middle\" x=\"1980.99\" y=\"-188.3\" font-family=\"Times,serif\" font-size=\"14.00\">totalSQ&lt;2837.5</text>\n",
       "</g>\n",
       "<!-- 2&#45;&gt;5 -->\n",
       "<g id=\"edge17\" class=\"edge\">\n",
       "<title>2&#45;&gt;5</title>\n",
       "<path fill=\"none\" stroke=\"#0000ff\" d=\"M1980.99,-260.8C1980.99,-249.16 1980.99,-233.55 1980.99,-220.24\"/>\n",
       "<polygon fill=\"#0000ff\" stroke=\"#0000ff\" points=\"1984.49,-220.18 1980.99,-210.18 1977.49,-220.18 1984.49,-220.18\"/>\n",
       "<text text-anchor=\"middle\" x=\"2025.49\" y=\"-231.8\" font-family=\"Times,serif\" font-size=\"14.00\">yes, missing</text>\n",
       "</g>\n",
       "<!-- 6 -->\n",
       "<g id=\"node19\" class=\"node\">\n",
       "<title>6</title>\n",
       "<ellipse fill=\"none\" stroke=\"black\" cx=\"2550.99\" cy=\"-192\" rx=\"88.28\" ry=\"18\"/>\n",
       "<text text-anchor=\"middle\" x=\"2550.99\" y=\"-188.3\" font-family=\"Times,serif\" font-size=\"14.00\">OverallQual&lt;8.5</text>\n",
       "</g>\n",
       "<!-- 2&#45;&gt;6 -->\n",
       "<g id=\"edge18\" class=\"edge\">\n",
       "<title>2&#45;&gt;6</title>\n",
       "<path fill=\"none\" stroke=\"#ff0000\" d=\"M2048.62,-267.92C2154.53,-252.12 2359.06,-221.62 2471.73,-204.82\"/>\n",
       "<polygon fill=\"#ff0000\" stroke=\"#ff0000\" points=\"2472.3,-208.27 2481.68,-203.34 2471.27,-201.35 2472.3,-208.27\"/>\n",
       "<text text-anchor=\"middle\" x=\"2309.99\" y=\"-231.8\" font-family=\"Times,serif\" font-size=\"14.00\">no</text>\n",
       "</g>\n",
       "<!-- 7 -->\n",
       "<g id=\"node6\" class=\"node\">\n",
       "<title>7</title>\n",
       "<ellipse fill=\"none\" stroke=\"black\" cx=\"290.99\" cy=\"-105\" rx=\"88.28\" ry=\"18\"/>\n",
       "<text text-anchor=\"middle\" x=\"290.99\" y=\"-101.3\" font-family=\"Times,serif\" font-size=\"14.00\">OverallQual&lt;4.5</text>\n",
       "</g>\n",
       "<!-- 3&#45;&gt;7 -->\n",
       "<g id=\"edge5\" class=\"edge\">\n",
       "<title>3&#45;&gt;7</title>\n",
       "<path fill=\"none\" stroke=\"#0000ff\" d=\"M567.02,-177.53C509.01,-162.5 415.19,-138.18 353.29,-122.14\"/>\n",
       "<polygon fill=\"#0000ff\" stroke=\"#0000ff\" points=\"353.82,-118.67 343.26,-119.55 352.07,-125.44 353.82,-118.67\"/>\n",
       "<text text-anchor=\"middle\" x=\"519.49\" y=\"-144.8\" font-family=\"Times,serif\" font-size=\"14.00\">yes, missing</text>\n",
       "</g>\n",
       "<!-- 8 -->\n",
       "<g id=\"node7\" class=\"node\">\n",
       "<title>8</title>\n",
       "<ellipse fill=\"none\" stroke=\"black\" cx=\"618.99\" cy=\"-105\" rx=\"90.98\" ry=\"18\"/>\n",
       "<text text-anchor=\"middle\" x=\"618.99\" y=\"-101.3\" font-family=\"Times,serif\" font-size=\"14.00\">OverallCond&lt;4.5</text>\n",
       "</g>\n",
       "<!-- 3&#45;&gt;8 -->\n",
       "<g id=\"edge6\" class=\"edge\">\n",
       "<title>3&#45;&gt;8</title>\n",
       "<path fill=\"none\" stroke=\"#ff0000\" d=\"M618.99,-173.8C618.99,-162.16 618.99,-146.55 618.99,-133.24\"/>\n",
       "<polygon fill=\"#ff0000\" stroke=\"#ff0000\" points=\"622.49,-133.18 618.99,-123.18 615.49,-133.18 622.49,-133.18\"/>\n",
       "<text text-anchor=\"middle\" x=\"627.99\" y=\"-144.8\" font-family=\"Times,serif\" font-size=\"14.00\">no</text>\n",
       "</g>\n",
       "<!-- 9 -->\n",
       "<g id=\"node12\" class=\"node\">\n",
       "<title>9</title>\n",
       "<ellipse fill=\"none\" stroke=\"black\" cx=\"1083.99\" cy=\"-105\" rx=\"102.88\" ry=\"18\"/>\n",
       "<text text-anchor=\"middle\" x=\"1083.99\" y=\"-101.3\" font-family=\"Times,serif\" font-size=\"14.00\">BsmtFinSF1&lt;320.5</text>\n",
       "</g>\n",
       "<!-- 4&#45;&gt;9 -->\n",
       "<g id=\"edge11\" class=\"edge\">\n",
       "<title>4&#45;&gt;9</title>\n",
       "<path fill=\"none\" stroke=\"#0000ff\" d=\"M1157.24,-174.2C1150.38,-168.52 1142.78,-162.08 1135.99,-156 1126.75,-147.73 1116.89,-138.38 1108.25,-130.02\"/>\n",
       "<polygon fill=\"#0000ff\" stroke=\"#0000ff\" points=\"1110.64,-127.45 1101.03,-122.98 1105.75,-132.47 1110.64,-127.45\"/>\n",
       "<text text-anchor=\"middle\" x=\"1180.49\" y=\"-144.8\" font-family=\"Times,serif\" font-size=\"14.00\">yes, missing</text>\n",
       "</g>\n",
       "<!-- 10 -->\n",
       "<g id=\"node13\" class=\"node\">\n",
       "<title>10</title>\n",
       "<ellipse fill=\"none\" stroke=\"black\" cx=\"1297.99\" cy=\"-105\" rx=\"92.88\" ry=\"18\"/>\n",
       "<text text-anchor=\"middle\" x=\"1297.99\" y=\"-101.3\" font-family=\"Times,serif\" font-size=\"14.00\">LotArea&lt;12182.5</text>\n",
       "</g>\n",
       "<!-- 4&#45;&gt;10 -->\n",
       "<g id=\"edge12\" class=\"edge\">\n",
       "<title>4&#45;&gt;10</title>\n",
       "<path fill=\"none\" stroke=\"#ff0000\" d=\"M1201.13,-174.61C1219.6,-161.53 1245.69,-143.05 1266.14,-128.56\"/>\n",
       "<polygon fill=\"#ff0000\" stroke=\"#ff0000\" points=\"1268.38,-131.26 1274.52,-122.63 1264.33,-125.55 1268.38,-131.26\"/>\n",
       "<text text-anchor=\"middle\" x=\"1254.99\" y=\"-144.8\" font-family=\"Times,serif\" font-size=\"14.00\">no</text>\n",
       "</g>\n",
       "<!-- 15 -->\n",
       "<g id=\"node8\" class=\"node\">\n",
       "<title>15</title>\n",
       "<ellipse fill=\"none\" stroke=\"black\" cx=\"90.99\" cy=\"-18\" rx=\"90.98\" ry=\"18\"/>\n",
       "<text text-anchor=\"middle\" x=\"90.99\" y=\"-14.3\" font-family=\"Times,serif\" font-size=\"14.00\">leaf=23626.4277</text>\n",
       "</g>\n",
       "<!-- 7&#45;&gt;15 -->\n",
       "<g id=\"edge7\" class=\"edge\">\n",
       "<title>7&#45;&gt;15</title>\n",
       "<path fill=\"none\" stroke=\"#0000ff\" d=\"M249.06,-89C232.98,-83.04 214.53,-75.96 197.99,-69 176.23,-59.84 152.4,-48.8 132.76,-39.43\"/>\n",
       "<polygon fill=\"#0000ff\" stroke=\"#0000ff\" points=\"134.01,-36.15 123.48,-34.98 130.98,-42.46 134.01,-36.15\"/>\n",
       "<text text-anchor=\"middle\" x=\"242.49\" y=\"-57.8\" font-family=\"Times,serif\" font-size=\"14.00\">yes, missing</text>\n",
       "</g>\n",
       "<!-- 16 -->\n",
       "<g id=\"node9\" class=\"node\">\n",
       "<title>16</title>\n",
       "<ellipse fill=\"none\" stroke=\"black\" cx=\"290.99\" cy=\"-18\" rx=\"90.98\" ry=\"18\"/>\n",
       "<text text-anchor=\"middle\" x=\"290.99\" y=\"-14.3\" font-family=\"Times,serif\" font-size=\"14.00\">leaf=31188.2969</text>\n",
       "</g>\n",
       "<!-- 7&#45;&gt;16 -->\n",
       "<g id=\"edge8\" class=\"edge\">\n",
       "<title>7&#45;&gt;16</title>\n",
       "<path fill=\"none\" stroke=\"#ff0000\" d=\"M290.99,-86.8C290.99,-75.16 290.99,-59.55 290.99,-46.24\"/>\n",
       "<polygon fill=\"#ff0000\" stroke=\"#ff0000\" points=\"294.49,-46.18 290.99,-36.18 287.49,-46.18 294.49,-46.18\"/>\n",
       "<text text-anchor=\"middle\" x=\"299.99\" y=\"-57.8\" font-family=\"Times,serif\" font-size=\"14.00\">no</text>\n",
       "</g>\n",
       "<!-- 17 -->\n",
       "<g id=\"node10\" class=\"node\">\n",
       "<title>17</title>\n",
       "<ellipse fill=\"none\" stroke=\"black\" cx=\"490.99\" cy=\"-18\" rx=\"90.98\" ry=\"18\"/>\n",
       "<text text-anchor=\"middle\" x=\"490.99\" y=\"-14.3\" font-family=\"Times,serif\" font-size=\"14.00\">leaf=25890.4062</text>\n",
       "</g>\n",
       "<!-- 8&#45;&gt;17 -->\n",
       "<g id=\"edge9\" class=\"edge\">\n",
       "<title>8&#45;&gt;17</title>\n",
       "<path fill=\"none\" stroke=\"#0000ff\" d=\"M589.4,-87.97C579.28,-82.24 567.99,-75.57 557.99,-69 545.2,-60.6 531.59,-50.64 519.99,-41.83\"/>\n",
       "<polygon fill=\"#0000ff\" stroke=\"#0000ff\" points=\"522.01,-38.97 511.95,-35.66 517.75,-44.52 522.01,-38.97\"/>\n",
       "<text text-anchor=\"middle\" x=\"602.49\" y=\"-57.8\" font-family=\"Times,serif\" font-size=\"14.00\">yes, missing</text>\n",
       "</g>\n",
       "<!-- 18 -->\n",
       "<g id=\"node11\" class=\"node\">\n",
       "<title>18</title>\n",
       "<ellipse fill=\"none\" stroke=\"black\" cx=\"690.99\" cy=\"-18\" rx=\"90.98\" ry=\"18\"/>\n",
       "<text text-anchor=\"middle\" x=\"690.99\" y=\"-14.3\" font-family=\"Times,serif\" font-size=\"14.00\">leaf=38352.8281</text>\n",
       "</g>\n",
       "<!-- 8&#45;&gt;18 -->\n",
       "<g id=\"edge10\" class=\"edge\">\n",
       "<title>8&#45;&gt;18</title>\n",
       "<path fill=\"none\" stroke=\"#ff0000\" d=\"M633.22,-87.21C643.7,-74.83 658.13,-57.8 669.94,-43.85\"/>\n",
       "<polygon fill=\"#ff0000\" stroke=\"#ff0000\" points=\"672.76,-45.94 676.55,-36.05 667.42,-41.42 672.76,-45.94\"/>\n",
       "<text text-anchor=\"middle\" x=\"668.99\" y=\"-57.8\" font-family=\"Times,serif\" font-size=\"14.00\">no</text>\n",
       "</g>\n",
       "<!-- 19 -->\n",
       "<g id=\"node14\" class=\"node\">\n",
       "<title>19</title>\n",
       "<ellipse fill=\"none\" stroke=\"black\" cx=\"890.99\" cy=\"-18\" rx=\"90.98\" ry=\"18\"/>\n",
       "<text text-anchor=\"middle\" x=\"890.99\" y=\"-14.3\" font-family=\"Times,serif\" font-size=\"14.00\">leaf=39417.7383</text>\n",
       "</g>\n",
       "<!-- 9&#45;&gt;19 -->\n",
       "<g id=\"edge13\" class=\"edge\">\n",
       "<title>9&#45;&gt;19</title>\n",
       "<path fill=\"none\" stroke=\"#0000ff\" d=\"M1042.52,-88.42C1027.46,-82.57 1010.36,-75.71 994.99,-69 973.85,-59.77 950.68,-48.73 931.59,-39.37\"/>\n",
       "<polygon fill=\"#0000ff\" stroke=\"#0000ff\" points=\"933.09,-36.21 922.57,-34.93 930,-42.49 933.09,-36.21\"/>\n",
       "<text text-anchor=\"middle\" x=\"1039.49\" y=\"-57.8\" font-family=\"Times,serif\" font-size=\"14.00\">yes, missing</text>\n",
       "</g>\n",
       "<!-- 20 -->\n",
       "<g id=\"node15\" class=\"node\">\n",
       "<title>20</title>\n",
       "<ellipse fill=\"none\" stroke=\"black\" cx=\"1090.99\" cy=\"-18\" rx=\"90.98\" ry=\"18\"/>\n",
       "<text text-anchor=\"middle\" x=\"1090.99\" y=\"-14.3\" font-family=\"Times,serif\" font-size=\"14.00\">leaf=46542.4336</text>\n",
       "</g>\n",
       "<!-- 9&#45;&gt;20 -->\n",
       "<g id=\"edge14\" class=\"edge\">\n",
       "<title>9&#45;&gt;20</title>\n",
       "<path fill=\"none\" stroke=\"#ff0000\" d=\"M1085.41,-86.8C1086.37,-75.16 1087.65,-59.55 1088.75,-46.24\"/>\n",
       "<polygon fill=\"#ff0000\" stroke=\"#ff0000\" points=\"1092.24,-46.43 1089.58,-36.18 1085.27,-45.85 1092.24,-46.43\"/>\n",
       "<text text-anchor=\"middle\" x=\"1096.99\" y=\"-57.8\" font-family=\"Times,serif\" font-size=\"14.00\">no</text>\n",
       "</g>\n",
       "<!-- 21 -->\n",
       "<g id=\"node16\" class=\"node\">\n",
       "<title>21</title>\n",
       "<ellipse fill=\"none\" stroke=\"black\" cx=\"1290.99\" cy=\"-18\" rx=\"90.98\" ry=\"18\"/>\n",
       "<text text-anchor=\"middle\" x=\"1290.99\" y=\"-14.3\" font-family=\"Times,serif\" font-size=\"14.00\">leaf=49738.7773</text>\n",
       "</g>\n",
       "<!-- 10&#45;&gt;21 -->\n",
       "<g id=\"edge15\" class=\"edge\">\n",
       "<title>10&#45;&gt;21</title>\n",
       "<path fill=\"none\" stroke=\"#0000ff\" d=\"M1296.58,-86.8C1295.62,-75.16 1294.33,-59.55 1293.23,-46.24\"/>\n",
       "<polygon fill=\"#0000ff\" stroke=\"#0000ff\" points=\"1296.72,-45.85 1292.41,-36.18 1289.74,-46.43 1296.72,-45.85\"/>\n",
       "<text text-anchor=\"middle\" x=\"1339.49\" y=\"-57.8\" font-family=\"Times,serif\" font-size=\"14.00\">yes, missing</text>\n",
       "</g>\n",
       "<!-- 22 -->\n",
       "<g id=\"node17\" class=\"node\">\n",
       "<title>22</title>\n",
       "<ellipse fill=\"none\" stroke=\"black\" cx=\"1490.99\" cy=\"-18\" rx=\"90.98\" ry=\"18\"/>\n",
       "<text text-anchor=\"middle\" x=\"1490.99\" y=\"-14.3\" font-family=\"Times,serif\" font-size=\"14.00\">leaf=57524.9961</text>\n",
       "</g>\n",
       "<!-- 10&#45;&gt;22 -->\n",
       "<g id=\"edge16\" class=\"edge\">\n",
       "<title>10&#45;&gt;22</title>\n",
       "<path fill=\"none\" stroke=\"#ff0000\" d=\"M1339.05,-88.84C1354.5,-82.92 1372.16,-75.91 1387.99,-69 1408.88,-59.89 1431.71,-48.91 1450.56,-39.57\"/>\n",
       "<polygon fill=\"#ff0000\" stroke=\"#ff0000\" points=\"1452.36,-42.58 1459.74,-34.99 1449.23,-36.32 1452.36,-42.58\"/>\n",
       "<text text-anchor=\"middle\" x=\"1428.99\" y=\"-57.8\" font-family=\"Times,serif\" font-size=\"14.00\">no</text>\n",
       "</g>\n",
       "<!-- 11 -->\n",
       "<g id=\"node20\" class=\"node\">\n",
       "<title>11</title>\n",
       "<ellipse fill=\"none\" stroke=\"black\" cx=\"1884.99\" cy=\"-105\" rx=\"77.19\" ry=\"18\"/>\n",
       "<text text-anchor=\"middle\" x=\"1884.99\" y=\"-101.3\" font-family=\"Times,serif\" font-size=\"14.00\">totalSQ&lt;2474</text>\n",
       "</g>\n",
       "<!-- 5&#45;&gt;11 -->\n",
       "<g id=\"edge19\" class=\"edge\">\n",
       "<title>5&#45;&gt;11</title>\n",
       "<path fill=\"none\" stroke=\"#0000ff\" d=\"M1952.66,-174.87C1944.03,-169.38 1934.78,-162.88 1926.99,-156 1918.58,-148.57 1910.39,-139.41 1903.52,-130.97\"/>\n",
       "<polygon fill=\"#0000ff\" stroke=\"#0000ff\" points=\"1906.06,-128.54 1897.11,-122.85 1900.56,-132.87 1906.06,-128.54\"/>\n",
       "<text text-anchor=\"middle\" x=\"1971.49\" y=\"-144.8\" font-family=\"Times,serif\" font-size=\"14.00\">yes, missing</text>\n",
       "</g>\n",
       "<!-- 12 -->\n",
       "<g id=\"node21\" class=\"node\">\n",
       "<title>12</title>\n",
       "<ellipse fill=\"none\" stroke=\"black\" cx=\"2078.99\" cy=\"-105\" rx=\"88.28\" ry=\"18\"/>\n",
       "<text text-anchor=\"middle\" x=\"2078.99\" y=\"-101.3\" font-family=\"Times,serif\" font-size=\"14.00\">OverallQual&lt;7.5</text>\n",
       "</g>\n",
       "<!-- 5&#45;&gt;12 -->\n",
       "<g id=\"edge20\" class=\"edge\">\n",
       "<title>5&#45;&gt;12</title>\n",
       "<path fill=\"none\" stroke=\"#ff0000\" d=\"M2000.35,-174.21C2015.12,-161.4 2035.63,-143.61 2052.01,-129.4\"/>\n",
       "<polygon fill=\"#ff0000\" stroke=\"#ff0000\" points=\"2054.41,-131.95 2059.67,-122.76 2049.82,-126.67 2054.41,-131.95\"/>\n",
       "<text text-anchor=\"middle\" x=\"2044.99\" y=\"-144.8\" font-family=\"Times,serif\" font-size=\"14.00\">no</text>\n",
       "</g>\n",
       "<!-- 13 -->\n",
       "<g id=\"node26\" class=\"node\">\n",
       "<title>13</title>\n",
       "<ellipse fill=\"none\" stroke=\"black\" cx=\"2550.99\" cy=\"-105\" rx=\"85.59\" ry=\"18\"/>\n",
       "<text text-anchor=\"middle\" x=\"2550.99\" y=\"-101.3\" font-family=\"Times,serif\" font-size=\"14.00\">totalSQ&lt;3726.5</text>\n",
       "</g>\n",
       "<!-- 6&#45;&gt;13 -->\n",
       "<g id=\"edge25\" class=\"edge\">\n",
       "<title>6&#45;&gt;13</title>\n",
       "<path fill=\"none\" stroke=\"#0000ff\" d=\"M2550.99,-173.8C2550.99,-162.16 2550.99,-146.55 2550.99,-133.24\"/>\n",
       "<polygon fill=\"#0000ff\" stroke=\"#0000ff\" points=\"2554.49,-133.18 2550.99,-123.18 2547.49,-133.18 2554.49,-133.18\"/>\n",
       "<text text-anchor=\"middle\" x=\"2595.49\" y=\"-144.8\" font-family=\"Times,serif\" font-size=\"14.00\">yes, missing</text>\n",
       "</g>\n",
       "<!-- 14 -->\n",
       "<g id=\"node27\" class=\"node\">\n",
       "<title>14</title>\n",
       "<ellipse fill=\"none\" stroke=\"black\" cx=\"2878.99\" cy=\"-105\" rx=\"77.19\" ry=\"18\"/>\n",
       "<text text-anchor=\"middle\" x=\"2878.99\" y=\"-101.3\" font-family=\"Times,serif\" font-size=\"14.00\">totalSQ&lt;4013</text>\n",
       "</g>\n",
       "<!-- 6&#45;&gt;14 -->\n",
       "<g id=\"edge26\" class=\"edge\">\n",
       "<title>6&#45;&gt;14</title>\n",
       "<path fill=\"none\" stroke=\"#ff0000\" d=\"M2603.33,-177.44C2662.18,-162.19 2757.56,-137.47 2819.28,-121.47\"/>\n",
       "<polygon fill=\"#ff0000\" stroke=\"#ff0000\" points=\"2820.46,-124.78 2829.26,-118.89 2818.7,-118.01 2820.46,-124.78\"/>\n",
       "<text text-anchor=\"middle\" x=\"2743.99\" y=\"-144.8\" font-family=\"Times,serif\" font-size=\"14.00\">no</text>\n",
       "</g>\n",
       "<!-- 23 -->\n",
       "<g id=\"node22\" class=\"node\">\n",
       "<title>23</title>\n",
       "<ellipse fill=\"none\" stroke=\"black\" cx=\"1690.99\" cy=\"-18\" rx=\"90.98\" ry=\"18\"/>\n",
       "<text text-anchor=\"middle\" x=\"1690.99\" y=\"-14.3\" font-family=\"Times,serif\" font-size=\"14.00\">leaf=51767.8047</text>\n",
       "</g>\n",
       "<!-- 11&#45;&gt;23 -->\n",
       "<g id=\"edge21\" class=\"edge\">\n",
       "<title>11&#45;&gt;23</title>\n",
       "<path fill=\"none\" stroke=\"#0000ff\" d=\"M1843.9,-89.54C1827.59,-83.54 1808.76,-76.29 1791.99,-69 1771.42,-60.06 1749.02,-49.1 1730.55,-39.73\"/>\n",
       "<polygon fill=\"#0000ff\" stroke=\"#0000ff\" points=\"1732.06,-36.56 1721.56,-35.13 1728.87,-42.8 1732.06,-36.56\"/>\n",
       "<text text-anchor=\"middle\" x=\"1836.49\" y=\"-57.8\" font-family=\"Times,serif\" font-size=\"14.00\">yes, missing</text>\n",
       "</g>\n",
       "<!-- 24 -->\n",
       "<g id=\"node23\" class=\"node\">\n",
       "<title>24</title>\n",
       "<ellipse fill=\"none\" stroke=\"black\" cx=\"1884.99\" cy=\"-18\" rx=\"85.29\" ry=\"18\"/>\n",
       "<text text-anchor=\"middle\" x=\"1884.99\" y=\"-14.3\" font-family=\"Times,serif\" font-size=\"14.00\">leaf=59997.293</text>\n",
       "</g>\n",
       "<!-- 11&#45;&gt;24 -->\n",
       "<g id=\"edge22\" class=\"edge\">\n",
       "<title>11&#45;&gt;24</title>\n",
       "<path fill=\"none\" stroke=\"#ff0000\" d=\"M1884.99,-86.8C1884.99,-75.16 1884.99,-59.55 1884.99,-46.24\"/>\n",
       "<polygon fill=\"#ff0000\" stroke=\"#ff0000\" points=\"1888.49,-46.18 1884.99,-36.18 1881.49,-46.18 1888.49,-46.18\"/>\n",
       "<text text-anchor=\"middle\" x=\"1893.99\" y=\"-57.8\" font-family=\"Times,serif\" font-size=\"14.00\">no</text>\n",
       "</g>\n",
       "<!-- 25 -->\n",
       "<g id=\"node24\" class=\"node\">\n",
       "<title>25</title>\n",
       "<ellipse fill=\"none\" stroke=\"black\" cx=\"2078.99\" cy=\"-18\" rx=\"90.98\" ry=\"18\"/>\n",
       "<text text-anchor=\"middle\" x=\"2078.99\" y=\"-14.3\" font-family=\"Times,serif\" font-size=\"14.00\">leaf=66794.8828</text>\n",
       "</g>\n",
       "<!-- 12&#45;&gt;25 -->\n",
       "<g id=\"edge23\" class=\"edge\">\n",
       "<title>12&#45;&gt;25</title>\n",
       "<path fill=\"none\" stroke=\"#0000ff\" d=\"M2078.99,-86.8C2078.99,-75.16 2078.99,-59.55 2078.99,-46.24\"/>\n",
       "<polygon fill=\"#0000ff\" stroke=\"#0000ff\" points=\"2082.49,-46.18 2078.99,-36.18 2075.49,-46.18 2082.49,-46.18\"/>\n",
       "<text text-anchor=\"middle\" x=\"2123.49\" y=\"-57.8\" font-family=\"Times,serif\" font-size=\"14.00\">yes, missing</text>\n",
       "</g>\n",
       "<!-- 26 -->\n",
       "<g id=\"node25\" class=\"node\">\n",
       "<title>26</title>\n",
       "<ellipse fill=\"none\" stroke=\"black\" cx=\"2278.99\" cy=\"-18\" rx=\"90.98\" ry=\"18\"/>\n",
       "<text text-anchor=\"middle\" x=\"2278.99\" y=\"-14.3\" font-family=\"Times,serif\" font-size=\"14.00\">leaf=76648.2109</text>\n",
       "</g>\n",
       "<!-- 12&#45;&gt;26 -->\n",
       "<g id=\"edge24\" class=\"edge\">\n",
       "<title>12&#45;&gt;26</title>\n",
       "<path fill=\"none\" stroke=\"#ff0000\" d=\"M2120.93,-89C2137.01,-83.04 2155.46,-75.96 2171.99,-69 2193.75,-59.84 2217.59,-48.8 2237.23,-39.43\"/>\n",
       "<polygon fill=\"#ff0000\" stroke=\"#ff0000\" points=\"2239,-42.46 2246.5,-34.98 2235.97,-36.15 2239,-42.46\"/>\n",
       "<text text-anchor=\"middle\" x=\"2213.99\" y=\"-57.8\" font-family=\"Times,serif\" font-size=\"14.00\">no</text>\n",
       "</g>\n",
       "<!-- 27 -->\n",
       "<g id=\"node28\" class=\"node\">\n",
       "<title>27</title>\n",
       "<ellipse fill=\"none\" stroke=\"black\" cx=\"2478.99\" cy=\"-18\" rx=\"90.98\" ry=\"18\"/>\n",
       "<text text-anchor=\"middle\" x=\"2478.99\" y=\"-14.3\" font-family=\"Times,serif\" font-size=\"14.00\">leaf=80911.0938</text>\n",
       "</g>\n",
       "<!-- 13&#45;&gt;27 -->\n",
       "<g id=\"edge27\" class=\"edge\">\n",
       "<title>13&#45;&gt;27</title>\n",
       "<path fill=\"none\" stroke=\"#0000ff\" d=\"M2536.77,-87.21C2526.28,-74.83 2511.85,-57.8 2500.04,-43.85\"/>\n",
       "<polygon fill=\"#0000ff\" stroke=\"#0000ff\" points=\"2502.57,-41.42 2493.43,-36.05 2497.23,-45.94 2502.57,-41.42\"/>\n",
       "<text text-anchor=\"middle\" x=\"2564.49\" y=\"-57.8\" font-family=\"Times,serif\" font-size=\"14.00\">yes, missing</text>\n",
       "</g>\n",
       "<!-- 28 -->\n",
       "<g id=\"node29\" class=\"node\">\n",
       "<title>28</title>\n",
       "<ellipse fill=\"none\" stroke=\"black\" cx=\"2678.99\" cy=\"-18\" rx=\"90.98\" ry=\"18\"/>\n",
       "<text text-anchor=\"middle\" x=\"2678.99\" y=\"-14.3\" font-family=\"Times,serif\" font-size=\"14.00\">leaf=96926.1484</text>\n",
       "</g>\n",
       "<!-- 13&#45;&gt;28 -->\n",
       "<g id=\"edge28\" class=\"edge\">\n",
       "<title>13&#45;&gt;28</title>\n",
       "<path fill=\"none\" stroke=\"#ff0000\" d=\"M2581.12,-88.06C2591.41,-82.34 2602.87,-75.65 2612.99,-69 2625.66,-60.68 2639.08,-50.74 2650.5,-41.91\"/>\n",
       "<polygon fill=\"#ff0000\" stroke=\"#ff0000\" points=\"2652.69,-44.64 2658.41,-35.73 2648.38,-39.13 2652.69,-44.64\"/>\n",
       "<text text-anchor=\"middle\" x=\"2642.99\" y=\"-57.8\" font-family=\"Times,serif\" font-size=\"14.00\">no</text>\n",
       "</g>\n",
       "<!-- 29 -->\n",
       "<g id=\"node30\" class=\"node\">\n",
       "<title>29</title>\n",
       "<ellipse fill=\"none\" stroke=\"black\" cx=\"2878.99\" cy=\"-18\" rx=\"90.98\" ry=\"18\"/>\n",
       "<text text-anchor=\"middle\" x=\"2878.99\" y=\"-14.3\" font-family=\"Times,serif\" font-size=\"14.00\">leaf=100871.656</text>\n",
       "</g>\n",
       "<!-- 14&#45;&gt;29 -->\n",
       "<g id=\"edge29\" class=\"edge\">\n",
       "<title>14&#45;&gt;29</title>\n",
       "<path fill=\"none\" stroke=\"#0000ff\" d=\"M2878.99,-86.8C2878.99,-75.16 2878.99,-59.55 2878.99,-46.24\"/>\n",
       "<polygon fill=\"#0000ff\" stroke=\"#0000ff\" points=\"2882.49,-46.18 2878.99,-36.18 2875.49,-46.18 2882.49,-46.18\"/>\n",
       "<text text-anchor=\"middle\" x=\"2923.49\" y=\"-57.8\" font-family=\"Times,serif\" font-size=\"14.00\">yes, missing</text>\n",
       "</g>\n",
       "<!-- 30 -->\n",
       "<g id=\"node31\" class=\"node\">\n",
       "<title>30</title>\n",
       "<ellipse fill=\"none\" stroke=\"black\" cx=\"3078.99\" cy=\"-18\" rx=\"90.98\" ry=\"18\"/>\n",
       "<text text-anchor=\"middle\" x=\"3078.99\" y=\"-14.3\" font-family=\"Times,serif\" font-size=\"14.00\">leaf=124954.297</text>\n",
       "</g>\n",
       "<!-- 14&#45;&gt;30 -->\n",
       "<g id=\"edge30\" class=\"edge\">\n",
       "<title>14&#45;&gt;30</title>\n",
       "<path fill=\"none\" stroke=\"#ff0000\" d=\"M2919.54,-89.51C2935.94,-83.45 2954.98,-76.16 2971.99,-69 2993.75,-59.84 3017.59,-48.8 3037.23,-39.43\"/>\n",
       "<polygon fill=\"#ff0000\" stroke=\"#ff0000\" points=\"3039,-42.46 3046.5,-34.98 3035.97,-36.15 3039,-42.46\"/>\n",
       "<text text-anchor=\"middle\" x=\"3012.99\" y=\"-57.8\" font-family=\"Times,serif\" font-size=\"14.00\">no</text>\n",
       "</g>\n",
       "</g>\n",
       "</svg>\n"
      ],
      "text/plain": [
       "<graphviz.files.Source at 0x7f87c6d4bc90>"
      ]
     },
     "execution_count": 27,
     "metadata": {},
     "output_type": "execute_result"
    }
   ],
   "source": [
    "import graphviz\n",
    "xgb.to_graphviz(xgbFinal)"
   ]
  },
  {
   "cell_type": "markdown",
   "id": "2993b5fa",
   "metadata": {
    "papermill": {
     "duration": 0.02102,
     "end_time": "2022-09-28T20:48:35.478384",
     "exception": false,
     "start_time": "2022-09-28T20:48:35.457364",
     "status": "completed"
    },
    "tags": []
   },
   "source": [
    "### Feature Importance"
   ]
  },
  {
   "cell_type": "code",
   "execution_count": 28,
   "id": "1db95f1f",
   "metadata": {
    "execution": {
     "iopub.execute_input": "2022-09-28T20:48:35.523105Z",
     "iopub.status.busy": "2022-09-28T20:48:35.522293Z",
     "iopub.status.idle": "2022-09-28T20:48:36.064789Z",
     "shell.execute_reply": "2022-09-28T20:48:36.063453Z"
    },
    "papermill": {
     "duration": 0.567779,
     "end_time": "2022-09-28T20:48:36.067227",
     "exception": false,
     "start_time": "2022-09-28T20:48:35.499448",
     "status": "completed"
    },
    "tags": []
   },
   "outputs": [
    {
     "data": {
      "image/png": "[encoded data removed]",
      "text/plain": [
       "<Figure size 432x288 with 1 Axes>"
      ]
     },
     "metadata": {
      "needs_background": "light"
     },
     "output_type": "display_data"
    },
    {
     "data": {
      "text/plain": [
       "<Figure size 1440x1152 with 0 Axes>"
      ]
     },
     "metadata": {},
     "output_type": "display_data"
    }
   ],
   "source": [
    "xgb.plot_importance(xgbFinal)\n",
    "plt.figure(figsize = (20, 16))\n",
    "plt.show()"
   ]
  },
  {
   "cell_type": "markdown",
   "id": "17f5aa56",
   "metadata": {
    "execution": {
     "iopub.execute_input": "2022-09-19T21:09:40.310967Z",
     "iopub.status.busy": "2022-09-19T21:09:40.310240Z",
     "iopub.status.idle": "2022-09-19T21:09:40.328174Z",
     "shell.execute_reply": "2022-09-19T21:09:40.326914Z",
     "shell.execute_reply.started": "2022-09-19T21:09:40.310928Z"
    },
    "papermill": {
     "duration": 0.021513,
     "end_time": "2022-09-28T20:48:36.110487",
     "exception": false,
     "start_time": "2022-09-28T20:48:36.088974",
     "status": "completed"
    },
    "tags": []
   },
   "source": [
    "# Test Dataset\n",
    "Make final predictions on unknown house price value using features from Train data"
   ]
  },
  {
   "cell_type": "code",
   "execution_count": 29,
   "id": "18cd0c8a",
   "metadata": {
    "execution": {
     "iopub.execute_input": "2022-09-28T20:48:36.155915Z",
     "iopub.status.busy": "2022-09-28T20:48:36.155468Z",
     "iopub.status.idle": "2022-09-28T20:48:36.280589Z",
     "shell.execute_reply": "2022-09-28T20:48:36.278835Z"
    },
    "papermill": {
     "duration": 0.152387,
     "end_time": "2022-09-28T20:48:36.284710",
     "exception": false,
     "start_time": "2022-09-28T20:48:36.132323",
     "status": "completed"
    },
    "tags": []
   },
   "outputs": [
    {
     "name": "stdout",
     "output_type": "stream",
     "text": [
      "(1459, 80)\n"
     ]
    },
    {
     "name": "stderr",
     "output_type": "stream",
     "text": [
      "/opt/conda/lib/python3.7/site-packages/ipykernel_launcher.py:7: FutureWarning: Dropping of nuisance columns in DataFrame reductions (with 'numeric_only=None') is deprecated; in a future version this will raise TypeError.  Select only valid columns before calling the reduction.\n",
      "  import sys\n"
     ]
    },
    {
     "data": {
      "text/html": [
       "<div>\n",
       "<style scoped>\n",
       "    .dataframe tbody tr th:only-of-type {\n",
       "        vertical-align: middle;\n",
       "    }\n",
       "\n",
       "    .dataframe tbody tr th {\n",
       "        vertical-align: top;\n",
       "    }\n",
       "\n",
       "    .dataframe thead th {\n",
       "        text-align: right;\n",
       "    }\n",
       "</style>\n",
       "<table border=\"1\" class=\"dataframe\">\n",
       "  <thead>\n",
       "    <tr style=\"text-align: right;\">\n",
       "      <th></th>\n",
       "      <th>Id</th>\n",
       "      <th>MSSubClass</th>\n",
       "      <th>LotFrontage</th>\n",
       "      <th>LotArea</th>\n",
       "      <th>Street</th>\n",
       "      <th>Condition1</th>\n",
       "      <th>Condition2</th>\n",
       "      <th>OverallQual</th>\n",
       "      <th>OverallCond</th>\n",
       "      <th>YearBuilt</th>\n",
       "      <th>...</th>\n",
       "      <th>OpenPorchSF</th>\n",
       "      <th>EnclosedPorch</th>\n",
       "      <th>3SsnPorch</th>\n",
       "      <th>ScreenPorch</th>\n",
       "      <th>PoolArea</th>\n",
       "      <th>MiscVal</th>\n",
       "      <th>MoSold</th>\n",
       "      <th>YrSold</th>\n",
       "      <th>SaleCondition</th>\n",
       "      <th>totalSQ</th>\n",
       "    </tr>\n",
       "  </thead>\n",
       "  <tbody>\n",
       "    <tr>\n",
       "      <th>0</th>\n",
       "      <td>1461</td>\n",
       "      <td>20</td>\n",
       "      <td>80.0</td>\n",
       "      <td>11622</td>\n",
       "      <td>1</td>\n",
       "      <td>0</td>\n",
       "      <td>1</td>\n",
       "      <td>5</td>\n",
       "      <td>6</td>\n",
       "      <td>1961</td>\n",
       "      <td>...</td>\n",
       "      <td>0</td>\n",
       "      <td>0</td>\n",
       "      <td>0</td>\n",
       "      <td>120</td>\n",
       "      <td>0</td>\n",
       "      <td>0</td>\n",
       "      <td>6</td>\n",
       "      <td>2010</td>\n",
       "      <td>1</td>\n",
       "      <td>1778.0</td>\n",
       "    </tr>\n",
       "    <tr>\n",
       "      <th>1</th>\n",
       "      <td>1462</td>\n",
       "      <td>20</td>\n",
       "      <td>81.0</td>\n",
       "      <td>14267</td>\n",
       "      <td>1</td>\n",
       "      <td>1</td>\n",
       "      <td>1</td>\n",
       "      <td>6</td>\n",
       "      <td>6</td>\n",
       "      <td>1958</td>\n",
       "      <td>...</td>\n",
       "      <td>36</td>\n",
       "      <td>0</td>\n",
       "      <td>0</td>\n",
       "      <td>0</td>\n",
       "      <td>0</td>\n",
       "      <td>12500</td>\n",
       "      <td>6</td>\n",
       "      <td>2010</td>\n",
       "      <td>1</td>\n",
       "      <td>2658.0</td>\n",
       "    </tr>\n",
       "    <tr>\n",
       "      <th>2</th>\n",
       "      <td>1463</td>\n",
       "      <td>60</td>\n",
       "      <td>74.0</td>\n",
       "      <td>13830</td>\n",
       "      <td>1</td>\n",
       "      <td>1</td>\n",
       "      <td>1</td>\n",
       "      <td>5</td>\n",
       "      <td>5</td>\n",
       "      <td>1997</td>\n",
       "      <td>...</td>\n",
       "      <td>34</td>\n",
       "      <td>0</td>\n",
       "      <td>0</td>\n",
       "      <td>0</td>\n",
       "      <td>0</td>\n",
       "      <td>0</td>\n",
       "      <td>3</td>\n",
       "      <td>2010</td>\n",
       "      <td>1</td>\n",
       "      <td>2557.0</td>\n",
       "    </tr>\n",
       "    <tr>\n",
       "      <th>3</th>\n",
       "      <td>1464</td>\n",
       "      <td>60</td>\n",
       "      <td>78.0</td>\n",
       "      <td>9978</td>\n",
       "      <td>1</td>\n",
       "      <td>1</td>\n",
       "      <td>1</td>\n",
       "      <td>6</td>\n",
       "      <td>6</td>\n",
       "      <td>1998</td>\n",
       "      <td>...</td>\n",
       "      <td>36</td>\n",
       "      <td>0</td>\n",
       "      <td>0</td>\n",
       "      <td>0</td>\n",
       "      <td>0</td>\n",
       "      <td>0</td>\n",
       "      <td>6</td>\n",
       "      <td>2010</td>\n",
       "      <td>1</td>\n",
       "      <td>2530.0</td>\n",
       "    </tr>\n",
       "    <tr>\n",
       "      <th>4</th>\n",
       "      <td>1465</td>\n",
       "      <td>120</td>\n",
       "      <td>43.0</td>\n",
       "      <td>5005</td>\n",
       "      <td>1</td>\n",
       "      <td>1</td>\n",
       "      <td>1</td>\n",
       "      <td>8</td>\n",
       "      <td>5</td>\n",
       "      <td>1992</td>\n",
       "      <td>...</td>\n",
       "      <td>82</td>\n",
       "      <td>0</td>\n",
       "      <td>0</td>\n",
       "      <td>144</td>\n",
       "      <td>0</td>\n",
       "      <td>0</td>\n",
       "      <td>1</td>\n",
       "      <td>2010</td>\n",
       "      <td>1</td>\n",
       "      <td>2560.0</td>\n",
       "    </tr>\n",
       "  </tbody>\n",
       "</table>\n",
       "<p>5 rows × 43 columns</p>\n",
       "</div>"
      ],
      "text/plain": [
       "     Id  MSSubClass  LotFrontage  LotArea  Street  Condition1  Condition2  \\\n",
       "0  1461          20         80.0    11622       1           0           1   \n",
       "1  1462          20         81.0    14267       1           1           1   \n",
       "2  1463          60         74.0    13830       1           1           1   \n",
       "3  1464          60         78.0     9978       1           1           1   \n",
       "4  1465         120         43.0     5005       1           1           1   \n",
       "\n",
       "   OverallQual  OverallCond  YearBuilt  ...  OpenPorchSF  EnclosedPorch  \\\n",
       "0            5            6       1961  ...            0              0   \n",
       "1            6            6       1958  ...           36              0   \n",
       "2            5            5       1997  ...           34              0   \n",
       "3            6            6       1998  ...           36              0   \n",
       "4            8            5       1992  ...           82              0   \n",
       "\n",
       "   3SsnPorch  ScreenPorch  PoolArea  MiscVal  MoSold  YrSold  SaleCondition  \\\n",
       "0          0          120         0        0       6    2010              1   \n",
       "1          0            0         0    12500       6    2010              1   \n",
       "2          0            0         0        0       3    2010              1   \n",
       "3          0            0         0        0       6    2010              1   \n",
       "4          0          144         0        0       1    2010              1   \n",
       "\n",
       "   totalSQ  \n",
       "0   1778.0  \n",
       "1   2658.0  \n",
       "2   2557.0  \n",
       "3   2530.0  \n",
       "4   2560.0  \n",
       "\n",
       "[5 rows x 43 columns]"
      ]
     },
     "execution_count": 29,
     "metadata": {},
     "output_type": "execute_result"
    }
   ],
   "source": [
    "test='/kaggle/input/house-prices-advanced-regression-techniques/test.csv'\n",
    "testDF=pd.read_csv(test)\n",
    "print(testDF.shape)\n",
    "\n",
    "#Missing Values\n",
    "testDF=testDF.drop_duplicates()\n",
    "testDF=testDF.fillna(testDF.mean())\n",
    "\n",
    "# Feature Engineer\n",
    "testDF['totalSQ']=testDF['1stFlrSF']+testDF['2ndFlrSF']+testDF['TotalBsmtSF'].drop(columns=['1stFlrSF', '2ndFlrSF', \n",
    "                'TotalBsmtSF'])\n",
    "testDF['Condition2']=testDF['Condition2'].apply(lambda x: 1 if x=='Norm' else 0)\n",
    "testDF['Condition1']=testDF['Condition1'].apply(lambda x: 1 if x=='Norm' else 0)\n",
    "testDF['SaleCondition']=testDF['SaleCondition'].apply(lambda x:1 if x == 'Normal' else 0)\n",
    "testDF['Street']=testDF['Street'].fillna(0).apply(lambda x:0 if x =='Grvl' else 1)\n",
    "testDF['CentralAir'] = testDF['CentralAir'].replace({'Y':0, 'N':1})\n",
    "\n",
    "testDF = testDF.select_dtypes(include=['int16', 'int32', 'int64', 'float16', 'float32', 'float64'])\n",
    "testDF.head()"
   ]
  },
  {
   "cell_type": "code",
   "execution_count": 30,
   "id": "b0b40fa8",
   "metadata": {
    "execution": {
     "iopub.execute_input": "2022-09-28T20:48:36.333105Z",
     "iopub.status.busy": "2022-09-28T20:48:36.332690Z",
     "iopub.status.idle": "2022-09-28T20:48:36.340128Z",
     "shell.execute_reply": "2022-09-28T20:48:36.338676Z"
    },
    "papermill": {
     "duration": 0.034898,
     "end_time": "2022-09-28T20:48:36.342668",
     "exception": false,
     "start_time": "2022-09-28T20:48:36.307770",
     "status": "completed"
    },
    "tags": []
   },
   "outputs": [],
   "source": [
    "testIDs=testDF['Id']\n",
    "cols=X_test.columns\n",
    "testDF=testDF[cols]"
   ]
  },
  {
   "cell_type": "code",
   "execution_count": 31,
   "id": "8c0095cf",
   "metadata": {
    "execution": {
     "iopub.execute_input": "2022-09-28T20:48:36.390841Z",
     "iopub.status.busy": "2022-09-28T20:48:36.390342Z",
     "iopub.status.idle": "2022-09-28T20:48:36.406319Z",
     "shell.execute_reply": "2022-09-28T20:48:36.405277Z"
    },
    "papermill": {
     "duration": 0.044385,
     "end_time": "2022-09-28T20:48:36.409507",
     "exception": false,
     "start_time": "2022-09-28T20:48:36.365122",
     "status": "completed"
    },
    "tags": []
   },
   "outputs": [],
   "source": [
    "#Final Prediction\n",
    "finalPred=xgbFinal.predict(testDF).round(2)\n",
    "tupDF=list(zip(testIDs,finalPred))"
   ]
  },
  {
   "cell_type": "code",
   "execution_count": 32,
   "id": "a1264998",
   "metadata": {
    "execution": {
     "iopub.execute_input": "2022-09-28T20:48:36.458943Z",
     "iopub.status.busy": "2022-09-28T20:48:36.458533Z",
     "iopub.status.idle": "2022-09-28T20:48:36.474331Z",
     "shell.execute_reply": "2022-09-28T20:48:36.472727Z"
    },
    "papermill": {
     "duration": 0.043479,
     "end_time": "2022-09-28T20:48:36.477386",
     "exception": false,
     "start_time": "2022-09-28T20:48:36.433907",
     "status": "completed"
    },
    "tags": []
   },
   "outputs": [
    {
     "data": {
      "text/html": [
       "<div>\n",
       "<style scoped>\n",
       "    .dataframe tbody tr th:only-of-type {\n",
       "        vertical-align: middle;\n",
       "    }\n",
       "\n",
       "    .dataframe tbody tr th {\n",
       "        vertical-align: top;\n",
       "    }\n",
       "\n",
       "    .dataframe thead th {\n",
       "        text-align: right;\n",
       "    }\n",
       "</style>\n",
       "<table border=\"1\" class=\"dataframe\">\n",
       "  <thead>\n",
       "    <tr style=\"text-align: right;\">\n",
       "      <th></th>\n",
       "      <th>Id</th>\n",
       "      <th>SalePrice</th>\n",
       "    </tr>\n",
       "  </thead>\n",
       "  <tbody>\n",
       "    <tr>\n",
       "      <th>0</th>\n",
       "      <td>1461</td>\n",
       "      <td>125112.937500</td>\n",
       "    </tr>\n",
       "    <tr>\n",
       "      <th>1</th>\n",
       "      <td>1462</td>\n",
       "      <td>170214.359375</td>\n",
       "    </tr>\n",
       "    <tr>\n",
       "      <th>2</th>\n",
       "      <td>1463</td>\n",
       "      <td>198144.015625</td>\n",
       "    </tr>\n",
       "    <tr>\n",
       "      <th>3</th>\n",
       "      <td>1464</td>\n",
       "      <td>202307.187500</td>\n",
       "    </tr>\n",
       "    <tr>\n",
       "      <th>4</th>\n",
       "      <td>1465</td>\n",
       "      <td>170913.406250</td>\n",
       "    </tr>\n",
       "  </tbody>\n",
       "</table>\n",
       "</div>"
      ],
      "text/plain": [
       "     Id      SalePrice\n",
       "0  1461  125112.937500\n",
       "1  1462  170214.359375\n",
       "2  1463  198144.015625\n",
       "3  1464  202307.187500\n",
       "4  1465  170913.406250"
      ]
     },
     "execution_count": 32,
     "metadata": {},
     "output_type": "execute_result"
    }
   ],
   "source": [
    "output=pd.DataFrame(tupDF, columns=['Id','SalePrice']).sort_values(by='Id').reset_index(drop=True)\n",
    "output.head()"
   ]
  },
  {
   "cell_type": "code",
   "execution_count": 33,
   "id": "6beed291",
   "metadata": {
    "execution": {
     "iopub.execute_input": "2022-09-28T20:48:36.523535Z",
     "iopub.status.busy": "2022-09-28T20:48:36.523100Z",
     "iopub.status.idle": "2022-09-28T20:48:36.536144Z",
     "shell.execute_reply": "2022-09-28T20:48:36.534861Z"
    },
    "papermill": {
     "duration": 0.039009,
     "end_time": "2022-09-28T20:48:36.538628",
     "exception": false,
     "start_time": "2022-09-28T20:48:36.499619",
     "status": "completed"
    },
    "tags": []
   },
   "outputs": [
    {
     "name": "stdout",
     "output_type": "stream",
     "text": [
      "(1459, 2)\n",
      "Output Created\n"
     ]
    }
   ],
   "source": [
    "print(output.shape)\n",
    "output.to_csv('submission.csv', index=False)\n",
    "print(\"Output Created\")"
   ]
  }
 ],
 "metadata": {
  "kernelspec": {
   "display_name": "Python 3",
   "language": "python",
   "name": "python3"
  },
  "language_info": {
   "codemirror_mode": {
    "name": "ipython",
    "version": 3
   },
   "file_extension": ".py",
   "mimetype": "text/x-python",
   "name": "python",
   "nbconvert_exporter": "python",
   "pygments_lexer": "ipython3",
   "version": "3.7.12"
  },
  "papermill": {
   "default_parameters": {},
   "duration": 128.494624,
   "end_time": "2022-09-28T20:48:39.184945",
   "environment_variables": {},
   "exception": null,
   "input_path": "__notebook__.ipynb",
   "output_path": "__notebook__.ipynb",
   "parameters": {},
   "start_time": "2022-09-28T20:46:30.690321",
   "version": "2.3.4"
  }
 },
 "nbformat": 4,
 "nbformat_minor": 5
}
