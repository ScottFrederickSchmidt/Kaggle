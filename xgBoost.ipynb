{
 "cells": [
  {
   "cell_type": "markdown",
   "id": "237fef9f",
   "metadata": {
    "papermill": {
     "duration": 0.010254,
     "end_time": "2022-10-13T20:51:24.619007",
     "exception": false,
     "start_time": "2022-10-13T20:51:24.608753",
     "status": "completed"
    },
    "tags": []
   },
   "source": [
    "# Predict House Price\n",
    "### xgBoost Search Grid\n",
    "Original full House Price prediction: \n",
    "https://github.com/ScottySchmidt/Kaggle/blob/main/PredictHousePrices.ipynb\n",
    "\n",
    "##### Special Notes:\n",
    "* Removing feature importance with less than .003% makes tunning more consisent with high results\n",
    "* Tunning learning_rate improved 8% better score\n",
    "* Removing outliers improved 4% better score\n",
    "* Removing similiar features makes couple percent better score\n",
    "* Encoding condition1 improved score by less than 1%"
   ]
  },
  {
   "cell_type": "code",
   "execution_count": 1,
   "id": "2bae75c8",
   "metadata": {
    "execution": {
     "iopub.execute_input": "2022-10-13T20:51:24.640573Z",
     "iopub.status.busy": "2022-10-13T20:51:24.640206Z",
     "iopub.status.idle": "2022-10-13T20:51:24.716248Z",
     "shell.execute_reply": "2022-10-13T20:51:24.714865Z"
    },
    "papermill": {
     "duration": 0.089365,
     "end_time": "2022-10-13T20:51:24.718634",
     "exception": false,
     "start_time": "2022-10-13T20:51:24.629269",
     "status": "completed"
    },
    "tags": []
   },
   "outputs": [
    {
     "name": "stdout",
     "output_type": "stream",
     "text": [
      "(1460, 81)\n"
     ]
    },
    {
     "data": {
      "text/html": [
       "<div>\n",
       "<style scoped>\n",
       "    .dataframe tbody tr th:only-of-type {\n",
       "        vertical-align: middle;\n",
       "    }\n",
       "\n",
       "    .dataframe tbody tr th {\n",
       "        vertical-align: top;\n",
       "    }\n",
       "\n",
       "    .dataframe thead th {\n",
       "        text-align: right;\n",
       "    }\n",
       "</style>\n",
       "<table border=\"1\" class=\"dataframe\">\n",
       "  <thead>\n",
       "    <tr style=\"text-align: right;\">\n",
       "      <th></th>\n",
       "      <th>Id</th>\n",
       "      <th>MSSubClass</th>\n",
       "      <th>MSZoning</th>\n",
       "      <th>LotFrontage</th>\n",
       "      <th>LotArea</th>\n",
       "      <th>Street</th>\n",
       "      <th>Alley</th>\n",
       "      <th>LotShape</th>\n",
       "      <th>LandContour</th>\n",
       "      <th>Utilities</th>\n",
       "      <th>...</th>\n",
       "      <th>PoolArea</th>\n",
       "      <th>PoolQC</th>\n",
       "      <th>Fence</th>\n",
       "      <th>MiscFeature</th>\n",
       "      <th>MiscVal</th>\n",
       "      <th>MoSold</th>\n",
       "      <th>YrSold</th>\n",
       "      <th>SaleType</th>\n",
       "      <th>SaleCondition</th>\n",
       "      <th>SalePrice</th>\n",
       "    </tr>\n",
       "  </thead>\n",
       "  <tbody>\n",
       "    <tr>\n",
       "      <th>0</th>\n",
       "      <td>1</td>\n",
       "      <td>60</td>\n",
       "      <td>RL</td>\n",
       "      <td>65.0</td>\n",
       "      <td>8450</td>\n",
       "      <td>Pave</td>\n",
       "      <td>NaN</td>\n",
       "      <td>Reg</td>\n",
       "      <td>Lvl</td>\n",
       "      <td>AllPub</td>\n",
       "      <td>...</td>\n",
       "      <td>0</td>\n",
       "      <td>NaN</td>\n",
       "      <td>NaN</td>\n",
       "      <td>NaN</td>\n",
       "      <td>0</td>\n",
       "      <td>2</td>\n",
       "      <td>2008</td>\n",
       "      <td>WD</td>\n",
       "      <td>Normal</td>\n",
       "      <td>208500</td>\n",
       "    </tr>\n",
       "    <tr>\n",
       "      <th>1</th>\n",
       "      <td>2</td>\n",
       "      <td>20</td>\n",
       "      <td>RL</td>\n",
       "      <td>80.0</td>\n",
       "      <td>9600</td>\n",
       "      <td>Pave</td>\n",
       "      <td>NaN</td>\n",
       "      <td>Reg</td>\n",
       "      <td>Lvl</td>\n",
       "      <td>AllPub</td>\n",
       "      <td>...</td>\n",
       "      <td>0</td>\n",
       "      <td>NaN</td>\n",
       "      <td>NaN</td>\n",
       "      <td>NaN</td>\n",
       "      <td>0</td>\n",
       "      <td>5</td>\n",
       "      <td>2007</td>\n",
       "      <td>WD</td>\n",
       "      <td>Normal</td>\n",
       "      <td>181500</td>\n",
       "    </tr>\n",
       "    <tr>\n",
       "      <th>2</th>\n",
       "      <td>3</td>\n",
       "      <td>60</td>\n",
       "      <td>RL</td>\n",
       "      <td>68.0</td>\n",
       "      <td>11250</td>\n",
       "      <td>Pave</td>\n",
       "      <td>NaN</td>\n",
       "      <td>IR1</td>\n",
       "      <td>Lvl</td>\n",
       "      <td>AllPub</td>\n",
       "      <td>...</td>\n",
       "      <td>0</td>\n",
       "      <td>NaN</td>\n",
       "      <td>NaN</td>\n",
       "      <td>NaN</td>\n",
       "      <td>0</td>\n",
       "      <td>9</td>\n",
       "      <td>2008</td>\n",
       "      <td>WD</td>\n",
       "      <td>Normal</td>\n",
       "      <td>223500</td>\n",
       "    </tr>\n",
       "    <tr>\n",
       "      <th>3</th>\n",
       "      <td>4</td>\n",
       "      <td>70</td>\n",
       "      <td>RL</td>\n",
       "      <td>60.0</td>\n",
       "      <td>9550</td>\n",
       "      <td>Pave</td>\n",
       "      <td>NaN</td>\n",
       "      <td>IR1</td>\n",
       "      <td>Lvl</td>\n",
       "      <td>AllPub</td>\n",
       "      <td>...</td>\n",
       "      <td>0</td>\n",
       "      <td>NaN</td>\n",
       "      <td>NaN</td>\n",
       "      <td>NaN</td>\n",
       "      <td>0</td>\n",
       "      <td>2</td>\n",
       "      <td>2006</td>\n",
       "      <td>WD</td>\n",
       "      <td>Abnorml</td>\n",
       "      <td>140000</td>\n",
       "    </tr>\n",
       "    <tr>\n",
       "      <th>4</th>\n",
       "      <td>5</td>\n",
       "      <td>60</td>\n",
       "      <td>RL</td>\n",
       "      <td>84.0</td>\n",
       "      <td>14260</td>\n",
       "      <td>Pave</td>\n",
       "      <td>NaN</td>\n",
       "      <td>IR1</td>\n",
       "      <td>Lvl</td>\n",
       "      <td>AllPub</td>\n",
       "      <td>...</td>\n",
       "      <td>0</td>\n",
       "      <td>NaN</td>\n",
       "      <td>NaN</td>\n",
       "      <td>NaN</td>\n",
       "      <td>0</td>\n",
       "      <td>12</td>\n",
       "      <td>2008</td>\n",
       "      <td>WD</td>\n",
       "      <td>Normal</td>\n",
       "      <td>250000</td>\n",
       "    </tr>\n",
       "  </tbody>\n",
       "</table>\n",
       "<p>5 rows × 81 columns</p>\n",
       "</div>"
      ],
      "text/plain": [
       "   Id  MSSubClass MSZoning  LotFrontage  LotArea Street Alley LotShape  \\\n",
       "0   1          60       RL         65.0     8450   Pave   NaN      Reg   \n",
       "1   2          20       RL         80.0     9600   Pave   NaN      Reg   \n",
       "2   3          60       RL         68.0    11250   Pave   NaN      IR1   \n",
       "3   4          70       RL         60.0     9550   Pave   NaN      IR1   \n",
       "4   5          60       RL         84.0    14260   Pave   NaN      IR1   \n",
       "\n",
       "  LandContour Utilities  ... PoolArea PoolQC Fence MiscFeature MiscVal MoSold  \\\n",
       "0         Lvl    AllPub  ...        0    NaN   NaN         NaN       0      2   \n",
       "1         Lvl    AllPub  ...        0    NaN   NaN         NaN       0      5   \n",
       "2         Lvl    AllPub  ...        0    NaN   NaN         NaN       0      9   \n",
       "3         Lvl    AllPub  ...        0    NaN   NaN         NaN       0      2   \n",
       "4         Lvl    AllPub  ...        0    NaN   NaN         NaN       0     12   \n",
       "\n",
       "  YrSold  SaleType  SaleCondition  SalePrice  \n",
       "0   2008        WD         Normal     208500  \n",
       "1   2007        WD         Normal     181500  \n",
       "2   2008        WD         Normal     223500  \n",
       "3   2006        WD        Abnorml     140000  \n",
       "4   2008        WD         Normal     250000  \n",
       "\n",
       "[5 rows x 81 columns]"
      ]
     },
     "execution_count": 1,
     "metadata": {},
     "output_type": "execute_result"
    }
   ],
   "source": [
    "import pandas as pd\n",
    "import numpy as np\n",
    "import sys\n",
    "import matplotlib.pyplot as plt\n",
    "import warnings\n",
    "import warnings\n",
    "warnings.filterwarnings('ignore')\n",
    "\n",
    "data='/kaggle/input/house-prices-advanced-regression-techniques/train.csv'\n",
    "df=pd.read_csv(data)\n",
    "print(df.shape)\n",
    "df.head()"
   ]
  },
  {
   "cell_type": "markdown",
   "id": "79ae52b7",
   "metadata": {
    "papermill": {
     "duration": 0.010448,
     "end_time": "2022-10-13T20:51:24.739161",
     "exception": false,
     "start_time": "2022-10-13T20:51:24.728713",
     "status": "completed"
    },
    "tags": []
   },
   "source": [
    "# Missing Values"
   ]
  },
  {
   "cell_type": "code",
   "execution_count": 2,
   "id": "485f535c",
   "metadata": {
    "execution": {
     "iopub.execute_input": "2022-10-13T20:51:24.759848Z",
     "iopub.status.busy": "2022-10-13T20:51:24.759565Z",
     "iopub.status.idle": "2022-10-13T20:51:24.774327Z",
     "shell.execute_reply": "2022-10-13T20:51:24.773114Z"
    },
    "papermill": {
     "duration": 0.028084,
     "end_time": "2022-10-13T20:51:24.776865",
     "exception": false,
     "start_time": "2022-10-13T20:51:24.748781",
     "status": "completed"
    },
    "tags": []
   },
   "outputs": [
    {
     "name": "stdout",
     "output_type": "stream",
     "text": [
      "Missing data by column as a percent:\n",
      "PoolQC          21.686567\n",
      "MiscFeature     20.985075\n",
      "Alley           20.432836\n",
      "Fence           17.597015\n",
      "FireplaceQu     10.298507\n",
      "LotFrontage      3.865672\n",
      "GarageYrBlt      1.208955\n",
      "GarageCond       1.208955\n",
      "GarageType       1.208955\n",
      "GarageFinish     1.208955\n",
      "dtype: float64\n"
     ]
    }
   ],
   "source": [
    "#search for columns with missing values:\n",
    "def findNA():\n",
    "    print(\"Missing data by column as a percent:\")\n",
    "    findNA=df.isnull().sum().sort_values(ascending=False)/len(data)\n",
    "    print(findNA.head(10))\n",
    "findNA() "
   ]
  },
  {
   "cell_type": "code",
   "execution_count": 3,
   "id": "e69650b3",
   "metadata": {
    "execution": {
     "iopub.execute_input": "2022-10-13T20:51:24.798053Z",
     "iopub.status.busy": "2022-10-13T20:51:24.797710Z",
     "iopub.status.idle": "2022-10-13T20:51:24.834229Z",
     "shell.execute_reply": "2022-10-13T20:51:24.832603Z"
    },
    "papermill": {
     "duration": 0.049222,
     "end_time": "2022-10-13T20:51:24.836043",
     "exception": false,
     "start_time": "2022-10-13T20:51:24.786821",
     "status": "completed"
    },
    "tags": []
   },
   "outputs": [
    {
     "name": "stdout",
     "output_type": "stream",
     "text": [
      "(1460, 81)\n"
     ]
    }
   ],
   "source": [
    "df['MiscFeature']=df['MiscFeature'].fillna(0)\n",
    "df['Alley']=df['Alley'].fillna(0)\n",
    "df['Fence']=df['Fence'].fillna(0)\n",
    "df['FireplaceQu']=df['FireplaceQu'].fillna(0)\n",
    "df=df.fillna(df.mean())\n",
    "#df=df.drop(columns=['MiscFeature', 'Alley', 'Fence', 'FireplaceQu'])\n",
    "print(df.shape)"
   ]
  },
  {
   "cell_type": "code",
   "execution_count": 4,
   "id": "88abae1d",
   "metadata": {
    "execution": {
     "iopub.execute_input": "2022-10-13T20:51:24.856289Z",
     "iopub.status.busy": "2022-10-13T20:51:24.856001Z",
     "iopub.status.idle": "2022-10-13T20:51:24.863596Z",
     "shell.execute_reply": "2022-10-13T20:51:24.862081Z"
    },
    "papermill": {
     "duration": 0.020118,
     "end_time": "2022-10-13T20:51:24.865644",
     "exception": false,
     "start_time": "2022-10-13T20:51:24.845526",
     "status": "completed"
    },
    "tags": []
   },
   "outputs": [
    {
     "data": {
      "text/plain": [
       "Index(['Id', 'MSSubClass', 'MSZoning', 'LotFrontage', 'LotArea', 'Street',\n",
       "       'Alley', 'LotShape', 'LandContour', 'Utilities', 'LotConfig',\n",
       "       'LandSlope', 'Neighborhood', 'Condition1', 'Condition2', 'BldgType',\n",
       "       'HouseStyle', 'OverallQual', 'OverallCond', 'YearBuilt', 'YearRemodAdd',\n",
       "       'RoofStyle', 'RoofMatl', 'Exterior1st', 'Exterior2nd', 'MasVnrType',\n",
       "       'MasVnrArea', 'ExterQual', 'ExterCond', 'Foundation', 'BsmtQual',\n",
       "       'BsmtCond', 'BsmtExposure', 'BsmtFinType1', 'BsmtFinSF1',\n",
       "       'BsmtFinType2', 'BsmtFinSF2', 'BsmtUnfSF', 'TotalBsmtSF', 'Heating',\n",
       "       'HeatingQC', 'CentralAir', 'Electrical', '1stFlrSF', '2ndFlrSF',\n",
       "       'LowQualFinSF', 'GrLivArea', 'BsmtFullBath', 'BsmtHalfBath', 'FullBath',\n",
       "       'HalfBath', 'BedroomAbvGr', 'KitchenAbvGr', 'KitchenQual',\n",
       "       'TotRmsAbvGrd', 'Functional', 'Fireplaces', 'FireplaceQu', 'GarageType',\n",
       "       'GarageYrBlt', 'GarageFinish', 'GarageCars', 'GarageArea', 'GarageQual',\n",
       "       'GarageCond', 'PavedDrive', 'WoodDeckSF', 'OpenPorchSF',\n",
       "       'EnclosedPorch', '3SsnPorch', 'ScreenPorch', 'PoolArea', 'PoolQC',\n",
       "       'Fence', 'MiscFeature', 'MiscVal', 'MoSold', 'YrSold', 'SaleType',\n",
       "       'SaleCondition', 'SalePrice'],\n",
       "      dtype='object')"
      ]
     },
     "execution_count": 4,
     "metadata": {},
     "output_type": "execute_result"
    }
   ],
   "source": [
    "df.columns"
   ]
  },
  {
   "cell_type": "markdown",
   "id": "501534be",
   "metadata": {
    "papermill": {
     "duration": 0.009231,
     "end_time": "2022-10-13T20:51:24.884476",
     "exception": false,
     "start_time": "2022-10-13T20:51:24.875245",
     "status": "completed"
    },
    "tags": []
   },
   "source": [
    "# Feature Engineer"
   ]
  },
  {
   "cell_type": "code",
   "execution_count": 5,
   "id": "ac4583a7",
   "metadata": {
    "execution": {
     "iopub.execute_input": "2022-10-13T20:51:24.904915Z",
     "iopub.status.busy": "2022-10-13T20:51:24.904601Z",
     "iopub.status.idle": "2022-10-13T20:51:24.931850Z",
     "shell.execute_reply": "2022-10-13T20:51:24.930957Z"
    },
    "papermill": {
     "duration": 0.039699,
     "end_time": "2022-10-13T20:51:24.933708",
     "exception": false,
     "start_time": "2022-10-13T20:51:24.894009",
     "status": "completed"
    },
    "tags": []
   },
   "outputs": [
    {
     "data": {
      "text/html": [
       "<div>\n",
       "<style scoped>\n",
       "    .dataframe tbody tr th:only-of-type {\n",
       "        vertical-align: middle;\n",
       "    }\n",
       "\n",
       "    .dataframe tbody tr th {\n",
       "        vertical-align: top;\n",
       "    }\n",
       "\n",
       "    .dataframe thead th {\n",
       "        text-align: right;\n",
       "    }\n",
       "</style>\n",
       "<table border=\"1\" class=\"dataframe\">\n",
       "  <thead>\n",
       "    <tr style=\"text-align: right;\">\n",
       "      <th></th>\n",
       "      <th>bathrooms</th>\n",
       "      <th>totalSQ</th>\n",
       "      <th>CentralAir</th>\n",
       "      <th>NewConstruction</th>\n",
       "      <th>PoolScore</th>\n",
       "    </tr>\n",
       "  </thead>\n",
       "  <tbody>\n",
       "    <tr>\n",
       "      <th>0</th>\n",
       "      <td>4</td>\n",
       "      <td>2566</td>\n",
       "      <td>0</td>\n",
       "      <td>0</td>\n",
       "      <td>NaN</td>\n",
       "    </tr>\n",
       "    <tr>\n",
       "      <th>1</th>\n",
       "      <td>4</td>\n",
       "      <td>2524</td>\n",
       "      <td>0</td>\n",
       "      <td>0</td>\n",
       "      <td>NaN</td>\n",
       "    </tr>\n",
       "    <tr>\n",
       "      <th>2</th>\n",
       "      <td>4</td>\n",
       "      <td>2706</td>\n",
       "      <td>0</td>\n",
       "      <td>0</td>\n",
       "      <td>NaN</td>\n",
       "    </tr>\n",
       "    <tr>\n",
       "      <th>3</th>\n",
       "      <td>2</td>\n",
       "      <td>2473</td>\n",
       "      <td>0</td>\n",
       "      <td>0</td>\n",
       "      <td>NaN</td>\n",
       "    </tr>\n",
       "    <tr>\n",
       "      <th>4</th>\n",
       "      <td>4</td>\n",
       "      <td>3343</td>\n",
       "      <td>0</td>\n",
       "      <td>0</td>\n",
       "      <td>NaN</td>\n",
       "    </tr>\n",
       "  </tbody>\n",
       "</table>\n",
       "</div>"
      ],
      "text/plain": [
       "   bathrooms  totalSQ  CentralAir  NewConstruction PoolScore\n",
       "0          4     2566           0                0       NaN\n",
       "1          4     2524           0                0       NaN\n",
       "2          4     2706           0                0       NaN\n",
       "3          2     2473           0                0       NaN\n",
       "4          4     3343           0                0       NaN"
      ]
     },
     "execution_count": 5,
     "metadata": {},
     "output_type": "execute_result"
    }
   ],
   "source": [
    "df['totalSQ']=df['1stFlrSF']+df['2ndFlrSF']+df['TotalBsmtSF']\n",
    "df['bathrooms']=df['FullBath']+df['BsmtFullBath']+df['BsmtHalfBath']+df['HalfBath']+df['BsmtHalfBath']\n",
    "df['CentralAir'] = df['CentralAir'].replace({'Y':0, 'N':1})\n",
    "df['NewConstruction'] = (df['SaleType'] == 'New').astype('int64')\n",
    "df[\"PoolScore\"] = df[\"PoolArea\"] * df[\"PoolQC\"]\n",
    "#df['hasPool']=df['PoolArea'].apply(lambda x: 1 if x>0 else 0).fillna(0)\n",
    "#df['SaleCondition']=df['SaleCondition'].apply(lambda x:1 if x == 'Normal' else 0)\n",
    "#df['Condition1']=df['Condition1'].apply(lambda x: 1 if x=='Norm' else 0)\n",
    "\n",
    "\n",
    "df=df.drop(columns=['1stFlrSF', '2ndFlrSF','TotalBsmtSF'])\n",
    "df=df.drop(columns=['FullBath','BsmtFullBath', 'BsmtHalfBath','HalfBath', 'BsmtHalfBath'])\n",
    "df[['bathrooms', 'totalSQ', 'CentralAir', 'NewConstruction', 'PoolScore']].head()"
   ]
  },
  {
   "cell_type": "code",
   "execution_count": 6,
   "id": "2da43ed4",
   "metadata": {
    "execution": {
     "iopub.execute_input": "2022-10-13T20:51:24.955552Z",
     "iopub.status.busy": "2022-10-13T20:51:24.955269Z",
     "iopub.status.idle": "2022-10-13T20:51:24.964553Z",
     "shell.execute_reply": "2022-10-13T20:51:24.962956Z"
    },
    "papermill": {
     "duration": 0.02314,
     "end_time": "2022-10-13T20:51:24.966961",
     "exception": false,
     "start_time": "2022-10-13T20:51:24.943821",
     "status": "completed"
    },
    "tags": []
   },
   "outputs": [],
   "source": [
    "#Had 0% feature importance:\n",
    "#df['Condition2']=df['Condition2'].apply(lambda x: 1 if x=='Norm' else 0)\n",
    "#df['Street']=df['Street'].fillna(0).apply(lambda x:0 if x =='Grvl' else 1)\n",
    "df=df.drop(['BsmtFinSF2','LowQualFinSF', \n",
    "            '3SsnPorch', 'ScreenPorch','MiscVal', \n",
    "            'MoSold', 'EnclosedPorch', 'MasVnrArea', 'YrSold',\n",
    "             'BedroomAbvGr', 'PoolArea'], axis=1)\n",
    "\n",
    "#After removing above, these had less than .004 feature importance:\n",
    "df=df.drop(['MSSubClass', 'LotFrontage', 'TotRmsAbvGrd', 'BsmtUnfSF', 'OpenPorchSF'], axis=1)"
   ]
  },
  {
   "cell_type": "code",
   "execution_count": 7,
   "id": "16986c86",
   "metadata": {
    "execution": {
     "iopub.execute_input": "2022-10-13T20:51:24.989047Z",
     "iopub.status.busy": "2022-10-13T20:51:24.988728Z",
     "iopub.status.idle": "2022-10-13T20:51:25.007102Z",
     "shell.execute_reply": "2022-10-13T20:51:25.005987Z"
    },
    "papermill": {
     "duration": 0.03221,
     "end_time": "2022-10-13T20:51:25.009389",
     "exception": false,
     "start_time": "2022-10-13T20:51:24.977179",
     "status": "completed"
    },
    "tags": []
   },
   "outputs": [
    {
     "data": {
      "text/html": [
       "<div>\n",
       "<style scoped>\n",
       "    .dataframe tbody tr th:only-of-type {\n",
       "        vertical-align: middle;\n",
       "    }\n",
       "\n",
       "    .dataframe tbody tr th {\n",
       "        vertical-align: top;\n",
       "    }\n",
       "\n",
       "    .dataframe thead th {\n",
       "        text-align: right;\n",
       "    }\n",
       "</style>\n",
       "<table border=\"1\" class=\"dataframe\">\n",
       "  <thead>\n",
       "    <tr style=\"text-align: right;\">\n",
       "      <th></th>\n",
       "      <th>Id</th>\n",
       "      <th>LotArea</th>\n",
       "      <th>OverallQual</th>\n",
       "      <th>OverallCond</th>\n",
       "      <th>YearBuilt</th>\n",
       "      <th>YearRemodAdd</th>\n",
       "      <th>BsmtFinSF1</th>\n",
       "      <th>CentralAir</th>\n",
       "      <th>GrLivArea</th>\n",
       "      <th>KitchenAbvGr</th>\n",
       "      <th>Fireplaces</th>\n",
       "      <th>GarageYrBlt</th>\n",
       "      <th>GarageCars</th>\n",
       "      <th>GarageArea</th>\n",
       "      <th>WoodDeckSF</th>\n",
       "      <th>SalePrice</th>\n",
       "      <th>totalSQ</th>\n",
       "      <th>bathrooms</th>\n",
       "      <th>NewConstruction</th>\n",
       "    </tr>\n",
       "  </thead>\n",
       "  <tbody>\n",
       "    <tr>\n",
       "      <th>0</th>\n",
       "      <td>1</td>\n",
       "      <td>8450</td>\n",
       "      <td>7</td>\n",
       "      <td>5</td>\n",
       "      <td>2003</td>\n",
       "      <td>2003</td>\n",
       "      <td>706</td>\n",
       "      <td>0</td>\n",
       "      <td>1710</td>\n",
       "      <td>1</td>\n",
       "      <td>0</td>\n",
       "      <td>2003.0</td>\n",
       "      <td>2</td>\n",
       "      <td>548</td>\n",
       "      <td>0</td>\n",
       "      <td>208500</td>\n",
       "      <td>2566</td>\n",
       "      <td>4</td>\n",
       "      <td>0</td>\n",
       "    </tr>\n",
       "    <tr>\n",
       "      <th>1</th>\n",
       "      <td>2</td>\n",
       "      <td>9600</td>\n",
       "      <td>6</td>\n",
       "      <td>8</td>\n",
       "      <td>1976</td>\n",
       "      <td>1976</td>\n",
       "      <td>978</td>\n",
       "      <td>0</td>\n",
       "      <td>1262</td>\n",
       "      <td>1</td>\n",
       "      <td>1</td>\n",
       "      <td>1976.0</td>\n",
       "      <td>2</td>\n",
       "      <td>460</td>\n",
       "      <td>298</td>\n",
       "      <td>181500</td>\n",
       "      <td>2524</td>\n",
       "      <td>4</td>\n",
       "      <td>0</td>\n",
       "    </tr>\n",
       "    <tr>\n",
       "      <th>2</th>\n",
       "      <td>3</td>\n",
       "      <td>11250</td>\n",
       "      <td>7</td>\n",
       "      <td>5</td>\n",
       "      <td>2001</td>\n",
       "      <td>2002</td>\n",
       "      <td>486</td>\n",
       "      <td>0</td>\n",
       "      <td>1786</td>\n",
       "      <td>1</td>\n",
       "      <td>1</td>\n",
       "      <td>2001.0</td>\n",
       "      <td>2</td>\n",
       "      <td>608</td>\n",
       "      <td>0</td>\n",
       "      <td>223500</td>\n",
       "      <td>2706</td>\n",
       "      <td>4</td>\n",
       "      <td>0</td>\n",
       "    </tr>\n",
       "    <tr>\n",
       "      <th>3</th>\n",
       "      <td>4</td>\n",
       "      <td>9550</td>\n",
       "      <td>7</td>\n",
       "      <td>5</td>\n",
       "      <td>1915</td>\n",
       "      <td>1970</td>\n",
       "      <td>216</td>\n",
       "      <td>0</td>\n",
       "      <td>1717</td>\n",
       "      <td>1</td>\n",
       "      <td>1</td>\n",
       "      <td>1998.0</td>\n",
       "      <td>3</td>\n",
       "      <td>642</td>\n",
       "      <td>0</td>\n",
       "      <td>140000</td>\n",
       "      <td>2473</td>\n",
       "      <td>2</td>\n",
       "      <td>0</td>\n",
       "    </tr>\n",
       "    <tr>\n",
       "      <th>4</th>\n",
       "      <td>5</td>\n",
       "      <td>14260</td>\n",
       "      <td>8</td>\n",
       "      <td>5</td>\n",
       "      <td>2000</td>\n",
       "      <td>2000</td>\n",
       "      <td>655</td>\n",
       "      <td>0</td>\n",
       "      <td>2198</td>\n",
       "      <td>1</td>\n",
       "      <td>1</td>\n",
       "      <td>2000.0</td>\n",
       "      <td>3</td>\n",
       "      <td>836</td>\n",
       "      <td>192</td>\n",
       "      <td>250000</td>\n",
       "      <td>3343</td>\n",
       "      <td>4</td>\n",
       "      <td>0</td>\n",
       "    </tr>\n",
       "  </tbody>\n",
       "</table>\n",
       "</div>"
      ],
      "text/plain": [
       "   Id  LotArea  OverallQual  OverallCond  YearBuilt  YearRemodAdd  BsmtFinSF1  \\\n",
       "0   1     8450            7            5       2003          2003         706   \n",
       "1   2     9600            6            8       1976          1976         978   \n",
       "2   3    11250            7            5       2001          2002         486   \n",
       "3   4     9550            7            5       1915          1970         216   \n",
       "4   5    14260            8            5       2000          2000         655   \n",
       "\n",
       "   CentralAir  GrLivArea  KitchenAbvGr  Fireplaces  GarageYrBlt  GarageCars  \\\n",
       "0           0       1710             1           0       2003.0           2   \n",
       "1           0       1262             1           1       1976.0           2   \n",
       "2           0       1786             1           1       2001.0           2   \n",
       "3           0       1717             1           1       1998.0           3   \n",
       "4           0       2198             1           1       2000.0           3   \n",
       "\n",
       "   GarageArea  WoodDeckSF  SalePrice  totalSQ  bathrooms  NewConstruction  \n",
       "0         548           0     208500     2566          4                0  \n",
       "1         460         298     181500     2524          4                0  \n",
       "2         608           0     223500     2706          4                0  \n",
       "3         642           0     140000     2473          2                0  \n",
       "4         836         192     250000     3343          4                0  "
      ]
     },
     "execution_count": 7,
     "metadata": {},
     "output_type": "execute_result"
    }
   ],
   "source": [
    "df = df.select_dtypes(include=['int16', 'int32', 'int64', 'float16', 'float32', 'float64'])\n",
    "df.head()"
   ]
  },
  {
   "cell_type": "markdown",
   "id": "947893eb",
   "metadata": {
    "papermill": {
     "duration": 0.010055,
     "end_time": "2022-10-13T20:51:25.029836",
     "exception": false,
     "start_time": "2022-10-13T20:51:25.019781",
     "status": "completed"
    },
    "tags": []
   },
   "source": [
    "# Outliers"
   ]
  },
  {
   "cell_type": "code",
   "execution_count": 8,
   "id": "426bfffc",
   "metadata": {
    "execution": {
     "iopub.execute_input": "2022-10-13T20:51:25.052034Z",
     "iopub.status.busy": "2022-10-13T20:51:25.051527Z",
     "iopub.status.idle": "2022-10-13T20:51:26.665778Z",
     "shell.execute_reply": "2022-10-13T20:51:26.664308Z"
    },
    "papermill": {
     "duration": 1.627927,
     "end_time": "2022-10-13T20:51:26.668105",
     "exception": false,
     "start_time": "2022-10-13T20:51:25.040178",
     "status": "completed"
    },
    "tags": []
   },
   "outputs": [
    {
     "data": {
      "text/plain": [
       "<seaborn.axisgrid.FacetGrid at 0x7f1608bfe690>"
      ]
     },
     "execution_count": 8,
     "metadata": {},
     "output_type": "execute_result"
    },
    {
     "data": {
      "image/png": "[encoded data removed]",
      "text/plain": [
       "<Figure size 360x360 with 1 Axes>"
      ]
     },
     "metadata": {
      "needs_background": "light"
     },
     "output_type": "display_data"
    },
    {
     "data": {
      "image/png": "[encoded data removed]",
      "text/plain": [
       "<Figure size 360x360 with 1 Axes>"
      ]
     },
     "metadata": {
      "needs_background": "light"
     },
     "output_type": "display_data"
    }
   ],
   "source": [
    "import seaborn as sns\n",
    "sns.displot(df, x='SalePrice')\n",
    "sns.displot(df, x='totalSQ')"
   ]
  },
  {
   "cell_type": "code",
   "execution_count": 9,
   "id": "bd54e31d",
   "metadata": {
    "execution": {
     "iopub.execute_input": "2022-10-13T20:51:26.691439Z",
     "iopub.status.busy": "2022-10-13T20:51:26.691123Z",
     "iopub.status.idle": "2022-10-13T20:51:26.705007Z",
     "shell.execute_reply": "2022-10-13T20:51:26.703903Z"
    },
    "papermill": {
     "duration": 0.027826,
     "end_time": "2022-10-13T20:51:26.707000",
     "exception": false,
     "start_time": "2022-10-13T20:51:26.679174",
     "status": "completed"
    },
    "tags": []
   },
   "outputs": [
    {
     "name": "stdout",
     "output_type": "stream",
     "text": [
      "[438780, 501837, 475000, 437154, 426000, 555000, 440000, 430000, 446261, 451950, 423000, 755000, 538000, 485000, 582933, 611657, 556581, 424870, 625000, 745000, 465000, 466500]\n",
      "[438780, 501837, 475000, 437154, 426000, 555000, 440000, 430000, 446261, 451950, 423000, 755000, 538000, 485000, 582933, 611657, 556581, 424870, 625000, 745000, 465000, 466500, 5496, 6428, 7814, 6760, 5066, 5048, 5557, 6872, 11752, 5271, 5266]\n"
     ]
    }
   ],
   "source": [
    "from scipy import stats\n",
    "\n",
    "outliers=[]\n",
    "def detect_outlier(data_1):\n",
    "    threshold=3\n",
    "    mean_1 = np.mean(data_1)\n",
    "    std_1 =np.std(data_1)\n",
    "    \n",
    "    for y in data_1:\n",
    "        z_score= (y - mean_1)/std_1 \n",
    "        if np.abs(z_score) > threshold:\n",
    "            outliers.append(y)\n",
    "    return outliers\n",
    "priceOutlier=list(detect_outlier(df['SalePrice']))\n",
    "print(priceOutlier)\n",
    "sqOutlier=list(detect_outlier(df['totalSQ']))\n",
    "print(sqOutlier)"
   ]
  },
  {
   "cell_type": "code",
   "execution_count": 10,
   "id": "01fc1745",
   "metadata": {
    "execution": {
     "iopub.execute_input": "2022-10-13T20:51:26.730035Z",
     "iopub.status.busy": "2022-10-13T20:51:26.729703Z",
     "iopub.status.idle": "2022-10-13T20:51:26.737050Z",
     "shell.execute_reply": "2022-10-13T20:51:26.735904Z"
    },
    "papermill": {
     "duration": 0.021598,
     "end_time": "2022-10-13T20:51:26.739368",
     "exception": false,
     "start_time": "2022-10-13T20:51:26.717770",
     "status": "completed"
    },
    "tags": []
   },
   "outputs": [
    {
     "name": "stdout",
     "output_type": "stream",
     "text": [
      "(1444, 19)\n"
     ]
    }
   ],
   "source": [
    "#Remove Outliers:\n",
    "df=df.loc[df['SalePrice']<500_000]\n",
    "df=df.loc[df['totalSQ']<5000]\n",
    "print(df.shape) "
   ]
  },
  {
   "cell_type": "markdown",
   "id": "7018c34f",
   "metadata": {
    "papermill": {
     "duration": 0.013646,
     "end_time": "2022-10-13T20:51:26.766273",
     "exception": false,
     "start_time": "2022-10-13T20:51:26.752627",
     "status": "completed"
    },
    "tags": []
   },
   "source": [
    "# Correlations"
   ]
  },
  {
   "cell_type": "code",
   "execution_count": 11,
   "id": "d7ea0eb3",
   "metadata": {
    "execution": {
     "iopub.execute_input": "2022-10-13T20:51:26.793450Z",
     "iopub.status.busy": "2022-10-13T20:51:26.793076Z",
     "iopub.status.idle": "2022-10-13T20:51:27.817265Z",
     "shell.execute_reply": "2022-10-13T20:51:27.816279Z"
    },
    "papermill": {
     "duration": 1.040616,
     "end_time": "2022-10-13T20:51:27.819341",
     "exception": false,
     "start_time": "2022-10-13T20:51:26.778725",
     "status": "completed"
    },
    "tags": []
   },
   "outputs": [
    {
     "data": {
      "text/plain": [
       "<AxesSubplot:>"
      ]
     },
     "execution_count": 11,
     "metadata": {},
     "output_type": "execute_result"
    },
    {
     "data": {
      "image/png": "[encoded data removed]",
      "text/plain": [
       "<Figure size 1440x1440 with 2 Axes>"
      ]
     },
     "metadata": {
      "needs_background": "light"
     },
     "output_type": "display_data"
    }
   ],
   "source": [
    "import seaborn as sns\n",
    "corr= df.corr()\n",
    "matrix = np.triu(corr)\n",
    "fig, ax = plt.subplots(figsize=(20,20))    \n",
    "sns.heatmap(corr, annot=True, mask=matrix)"
   ]
  },
  {
   "cell_type": "code",
   "execution_count": 12,
   "id": "cf9d76d5",
   "metadata": {
    "execution": {
     "iopub.execute_input": "2022-10-13T20:51:27.847009Z",
     "iopub.status.busy": "2022-10-13T20:51:27.846668Z",
     "iopub.status.idle": "2022-10-13T20:51:27.851285Z",
     "shell.execute_reply": "2022-10-13T20:51:27.850691Z"
    },
    "papermill": {
     "duration": 0.020563,
     "end_time": "2022-10-13T20:51:27.853056",
     "exception": false,
     "start_time": "2022-10-13T20:51:27.832493",
     "status": "completed"
    },
    "tags": []
   },
   "outputs": [],
   "source": [
    "#Too similiar variables:\n",
    "df=df.drop(['GarageYrBlt'], axis=1) \n",
    "#GarageYrBlt and houseYear too similiar"
   ]
  },
  {
   "cell_type": "markdown",
   "id": "3a4548f6",
   "metadata": {
    "papermill": {
     "duration": 0.013635,
     "end_time": "2022-10-13T20:51:27.880085",
     "exception": false,
     "start_time": "2022-10-13T20:51:27.866450",
     "status": "completed"
    },
    "tags": []
   },
   "source": [
    "# Split Data"
   ]
  },
  {
   "cell_type": "code",
   "execution_count": 13,
   "id": "03a6d1bb",
   "metadata": {
    "execution": {
     "iopub.execute_input": "2022-10-13T20:51:27.909322Z",
     "iopub.status.busy": "2022-10-13T20:51:27.909015Z",
     "iopub.status.idle": "2022-10-13T20:51:28.108590Z",
     "shell.execute_reply": "2022-10-13T20:51:28.107305Z"
    },
    "papermill": {
     "duration": 0.217023,
     "end_time": "2022-10-13T20:51:28.111001",
     "exception": false,
     "start_time": "2022-10-13T20:51:27.893978",
     "status": "completed"
    },
    "tags": []
   },
   "outputs": [],
   "source": [
    "from sklearn.model_selection import train_test_split, cross_validate\n",
    "\n",
    "X=df.drop(\"SalePrice\", axis='columns')\n",
    "y=df['SalePrice']\n",
    "\n",
    "X_train, X_test, y_train, y_test = train_test_split(\n",
    "X, y, test_size=.20, random_state=42)"
   ]
  },
  {
   "cell_type": "markdown",
   "id": "98aad2c0",
   "metadata": {
    "papermill": {
     "duration": 0.013039,
     "end_time": "2022-10-13T20:51:28.137328",
     "exception": false,
     "start_time": "2022-10-13T20:51:28.124289",
     "status": "completed"
    },
    "tags": []
   },
   "source": [
    "# xgBoost"
   ]
  },
  {
   "cell_type": "code",
   "execution_count": 14,
   "id": "bfbfdd19",
   "metadata": {
    "execution": {
     "iopub.execute_input": "2022-10-13T20:51:28.165099Z",
     "iopub.status.busy": "2022-10-13T20:51:28.164766Z",
     "iopub.status.idle": "2022-10-13T20:51:28.278747Z",
     "shell.execute_reply": "2022-10-13T20:51:28.277520Z"
    },
    "papermill": {
     "duration": 0.130583,
     "end_time": "2022-10-13T20:51:28.280985",
     "exception": false,
     "start_time": "2022-10-13T20:51:28.150402",
     "status": "completed"
    },
    "tags": []
   },
   "outputs": [],
   "source": [
    "import xgboost as xgb\n",
    "from sklearn.metrics import mean_squared_error, r2_score, mean_absolute_error"
   ]
  },
  {
   "cell_type": "markdown",
   "id": "1c3f41c0",
   "metadata": {
    "papermill": {
     "duration": 0.014373,
     "end_time": "2022-10-13T20:51:28.308934",
     "exception": false,
     "start_time": "2022-10-13T20:51:28.294561",
     "status": "completed"
    },
    "tags": []
   },
   "source": [
    "### Max Depth \n",
    "Increasing the value makes the model more complex which could overfit. Four for max depth shows the least amount of error and highest accuracy. Range is typical between 2 and 10."
   ]
  },
  {
   "cell_type": "code",
   "execution_count": 15,
   "id": "7be0ec63",
   "metadata": {
    "execution": {
     "iopub.execute_input": "2022-10-13T20:51:28.337506Z",
     "iopub.status.busy": "2022-10-13T20:51:28.336591Z",
     "iopub.status.idle": "2022-10-13T20:51:31.712123Z",
     "shell.execute_reply": "2022-10-13T20:51:31.711124Z"
    },
    "papermill": {
     "duration": 3.392203,
     "end_time": "2022-10-13T20:51:31.714686",
     "exception": false,
     "start_time": "2022-10-13T20:51:28.322483",
     "status": "completed"
    },
    "tags": []
   },
   "outputs": [
    {
     "data": {
      "image/png": "[encoded data removed]",
      "text/plain": [
       "<Figure size 432x288 with 1 Axes>"
      ]
     },
     "metadata": {
      "needs_background": "light"
     },
     "output_type": "display_data"
    },
    {
     "data": {
      "image/png": "[encoded data removed]",
      "text/plain": [
       "<Figure size 432x288 with 1 Axes>"
      ]
     },
     "metadata": {
      "needs_background": "light"
     },
     "output_type": "display_data"
    }
   ],
   "source": [
    "maxDepth=[2, 3, 4, 5, 6, 7, 8, 9, 10]\n",
    "listMSE=[]\n",
    "listR2=[]\n",
    "\n",
    "for d in maxDepth:\n",
    "    regressor = xgb.XGBRegressor(\n",
    "        max_depth=d\n",
    "    )\n",
    "    regressor.fit(X_train, y_train)\n",
    "    #regressor.fit(X_train, y_train, early_stopping_rounds=5, eval_metric=\"rmse\", eval_set=[(X_test, y_test)], verbose=False)\n",
    "    y_pred = regressor.predict(X_test)\n",
    "\n",
    "    xgMSE=mean_absolute_error(y_test, y_pred)\n",
    "    xgR2 = r2_score(y_test, y_pred).round(4)\n",
    "    listMSE.append(xgMSE)\n",
    "    listR2.append(xgR2)\n",
    "plt.plot(maxDepth, listMSE)\n",
    "plt.title('MaxDepth Error')\n",
    "plt.ylabel('Error')\n",
    "plt.xlabel('Max Depth')\n",
    "plt.show()\n",
    "\n",
    "plt.plot(maxDepth, listR2)\n",
    "plt.title('MaxDepth Accuracy')\n",
    "plt.ylabel('Accuracy')\n",
    "plt.xlabel('MaxDepth')\n",
    "plt.show()"
   ]
  },
  {
   "cell_type": "markdown",
   "id": "1dea88b8",
   "metadata": {
    "papermill": {
     "duration": 0.013527,
     "end_time": "2022-10-13T20:51:31.742330",
     "exception": false,
     "start_time": "2022-10-13T20:51:31.728803",
     "status": "completed"
    },
    "tags": []
   },
   "source": [
    "### n_estimators\n"
   ]
  },
  {
   "cell_type": "code",
   "execution_count": 16,
   "id": "eae7661e",
   "metadata": {
    "_kg_hide-input": true,
    "execution": {
     "iopub.execute_input": "2022-10-13T20:51:31.771005Z",
     "iopub.status.busy": "2022-10-13T20:51:31.770687Z",
     "iopub.status.idle": "2022-10-13T20:51:34.287690Z",
     "shell.execute_reply": "2022-10-13T20:51:34.287047Z"
    },
    "papermill": {
     "duration": 2.534132,
     "end_time": "2022-10-13T20:51:34.290059",
     "exception": false,
     "start_time": "2022-10-13T20:51:31.755927",
     "status": "completed"
    },
    "tags": []
   },
   "outputs": [
    {
     "data": {
      "image/png": "[encoded data removed]",
      "text/plain": [
       "<Figure size 432x288 with 1 Axes>"
      ]
     },
     "metadata": {
      "needs_background": "light"
     },
     "output_type": "display_data"
    },
    {
     "data": {
      "image/png": "[encoded data removed]",
      "text/plain": [
       "<Figure size 432x288 with 1 Axes>"
      ]
     },
     "metadata": {
      "needs_background": "light"
     },
     "output_type": "display_data"
    }
   ],
   "source": [
    "def xgEst():\n",
    "    numbers=[2, 20, 30, 40, 50, 60, 70, 80, 90, 100, 150]\n",
    "    listMSE=[]\n",
    "    listR2=[]\n",
    "\n",
    "    for n in numbers:\n",
    "        regressor = xgb.XGBRegressor(\n",
    "            n_estimators=n,\n",
    "        )\n",
    "        regressor.fit(X_train, y_train)\n",
    "        y_pred = regressor.predict(X_test)\n",
    "\n",
    "        xgMSE=mean_absolute_error(y_test, y_pred)\n",
    "        xgR2 = r2_score(y_test, y_pred).round(4)\n",
    "        listMSE.append(xgMSE)\n",
    "        listR2.append(xgR2)\n",
    "    plt.plot(numbers, listMSE)\n",
    "    plt.title('nEstimators Error')\n",
    "    plt.ylabel('Error')\n",
    "    plt.xlabel('N Estimators')\n",
    "    plt.show()\n",
    "\n",
    "    plt.plot(numbers, listR2)\n",
    "    plt.title('nEstimators R2')\n",
    "    plt.ylabel('Accurate')\n",
    "    plt.xlabel('N Estimators')\n",
    "    plt.show()\n",
    "xgEst()"
   ]
  },
  {
   "cell_type": "markdown",
   "id": "90edb683",
   "metadata": {
    "papermill": {
     "duration": 0.013813,
     "end_time": "2022-10-13T20:51:34.318371",
     "exception": false,
     "start_time": "2022-10-13T20:51:34.304558",
     "status": "completed"
    },
    "tags": []
   },
   "source": [
    "### Min_child_weight\n",
    "Increasing value will make model more conservative. Typically, a number between 0 and 10 is used.\n"
   ]
  },
  {
   "cell_type": "code",
   "execution_count": 17,
   "id": "7e9908ce",
   "metadata": {
    "execution": {
     "iopub.execute_input": "2022-10-13T20:51:34.348898Z",
     "iopub.status.busy": "2022-10-13T20:51:34.348378Z",
     "iopub.status.idle": "2022-10-13T20:51:36.790406Z",
     "shell.execute_reply": "2022-10-13T20:51:36.789708Z"
    },
    "papermill": {
     "duration": 2.459856,
     "end_time": "2022-10-13T20:51:36.792339",
     "exception": false,
     "start_time": "2022-10-13T20:51:34.332483",
     "status": "completed"
    },
    "tags": []
   },
   "outputs": [
    {
     "data": {
      "image/png": "[encoded data removed]",
      "text/plain": [
       "<Figure size 432x288 with 1 Axes>"
      ]
     },
     "metadata": {
      "needs_background": "light"
     },
     "output_type": "display_data"
    },
    {
     "data": {
      "image/png": "[encoded data removed]",
      "text/plain": [
       "<Figure size 432x288 with 1 Axes>"
      ]
     },
     "metadata": {
      "needs_background": "light"
     },
     "output_type": "display_data"
    }
   ],
   "source": [
    "weight=[1, 2, 3, 5, 7, 9, 10]\n",
    "listMSE=[]\n",
    "listR2=[]\n",
    "\n",
    "for w in weight:\n",
    "    regressor = xgb.XGBRegressor(\n",
    "        min_child_weight=w\n",
    "    )\n",
    "    regressor.fit(X_train, y_train)\n",
    "    y_pred = regressor.predict(X_test)\n",
    "\n",
    "    xgMSE=mean_absolute_error(y_test, y_pred)\n",
    "    xgR2 = r2_score(y_test, y_pred).round(4)\n",
    "    listMSE.append(xgMSE)\n",
    "    listR2.append(xgR2)\n",
    "plt.plot(weight, listMSE)\n",
    "plt.title('xgBoost')\n",
    "plt.ylabel('Error')\n",
    "plt.xlabel('Weight')\n",
    "plt.legend()\n",
    "plt.show()\n",
    "\n",
    "plt.plot(weight, listR2)\n",
    "plt.title('xgBoost')\n",
    "plt.ylabel('Accurate')\n",
    "plt.xlabel('Weight')\n",
    "plt.legend()\n",
    "plt.show()"
   ]
  },
  {
   "cell_type": "markdown",
   "id": "ef94d606",
   "metadata": {
    "papermill": {
     "duration": 0.014428,
     "end_time": "2022-10-13T20:51:36.823362",
     "exception": false,
     "start_time": "2022-10-13T20:51:36.808934",
     "status": "completed"
    },
    "tags": []
   },
   "source": [
    "### Gamma\n",
    "Increasing gamma makes model more conservative. In this case, increasing Gamma makes almost no difference. It takes gamma to be 1000 to notice a slight decrease in error. Therefore, I do not use gamma in this particular case."
   ]
  },
  {
   "cell_type": "code",
   "execution_count": 18,
   "id": "3888b6ff",
   "metadata": {
    "execution": {
     "iopub.execute_input": "2022-10-13T20:51:36.854369Z",
     "iopub.status.busy": "2022-10-13T20:51:36.853781Z",
     "iopub.status.idle": "2022-10-13T20:51:39.223506Z",
     "shell.execute_reply": "2022-10-13T20:51:39.222781Z"
    },
    "papermill": {
     "duration": 2.387315,
     "end_time": "2022-10-13T20:51:39.225319",
     "exception": false,
     "start_time": "2022-10-13T20:51:36.838004",
     "status": "completed"
    },
    "tags": []
   },
   "outputs": [
    {
     "data": {
      "image/png": "[encoded data removed]",
      "text/plain": [
       "<Figure size 432x288 with 1 Axes>"
      ]
     },
     "metadata": {
      "needs_background": "light"
     },
     "output_type": "display_data"
    },
    {
     "data": {
      "image/png": "[encoded data removed]",
      "text/plain": [
       "<Figure size 432x288 with 1 Axes>"
      ]
     },
     "metadata": {
      "needs_background": "light"
     },
     "output_type": "display_data"
    }
   ],
   "source": [
    "gammas=[0, 0.25, 0.5, 1.0, 3, 5, 10]\n",
    "listMSE=[]\n",
    "listR2=[]\n",
    "\n",
    "for g in gammas:\n",
    "    regressor = xgb.XGBRegressor(\n",
    "        min_split_loss=g\n",
    "    )\n",
    "    regressor.fit(X_train, y_train)\n",
    "    y_pred = regressor.predict(X_test)\n",
    "\n",
    "    xgMSE=mean_absolute_error(y_test, y_pred)\n",
    "    xgR2 = r2_score(y_test, y_pred).round(4)\n",
    "    listMSE.append(xgMSE)\n",
    "    listR2.append(xgR2)\n",
    "    \n",
    "plt.plot(gammas, listMSE)\n",
    "plt.title('Gamma Error')\n",
    "plt.ylabel('Error')\n",
    "plt.xlabel('Gammas')\n",
    "plt.legend()\n",
    "plt.show()\n",
    "\n",
    "plt.plot(gammas, listR2)\n",
    "plt.title('Gamma R2')\n",
    "plt.ylabel('Accurate')\n",
    "plt.xlabel('Gammas')\n",
    "plt.legend()\n",
    "plt.show()"
   ]
  },
  {
   "cell_type": "markdown",
   "id": "a918f38d",
   "metadata": {
    "papermill": {
     "duration": 0.01477,
     "end_time": "2022-10-13T20:51:39.259218",
     "exception": false,
     "start_time": "2022-10-13T20:51:39.244448",
     "status": "completed"
    },
    "tags": []
   },
   "source": [
    "### Learning_rate\n",
    "A higher learning rate makes the model more conservative. Range is between 0 and 1. Typically, a number between 0 and .3 is used."
   ]
  },
  {
   "cell_type": "code",
   "execution_count": 19,
   "id": "cd67a5f1",
   "metadata": {
    "execution": {
     "iopub.execute_input": "2022-10-13T20:51:39.289860Z",
     "iopub.status.busy": "2022-10-13T20:51:39.289325Z",
     "iopub.status.idle": "2022-10-13T20:51:43.166413Z",
     "shell.execute_reply": "2022-10-13T20:51:43.165664Z"
    },
    "papermill": {
     "duration": 3.894683,
     "end_time": "2022-10-13T20:51:43.168377",
     "exception": false,
     "start_time": "2022-10-13T20:51:39.273694",
     "status": "completed"
    },
    "tags": []
   },
   "outputs": [
    {
     "data": {
      "image/png": "[encoded data removed]",
      "text/plain": [
       "<Figure size 432x288 with 1 Axes>"
      ]
     },
     "metadata": {
      "needs_background": "light"
     },
     "output_type": "display_data"
    },
    {
     "data": {
      "image/png": "[encoded data removed]",
      "text/plain": [
       "<Figure size 432x288 with 1 Axes>"
      ]
     },
     "metadata": {
      "needs_background": "light"
     },
     "output_type": "display_data"
    }
   ],
   "source": [
    "learning_rate = [0.01, 0.1, 0.2, 0.3, .5, .6, .7, .8, .9]\n",
    "listMSE=[]\n",
    "listR2=[]\n",
    "\n",
    "for l in learning_rate:\n",
    "    regressor = xgb.XGBRegressor(\n",
    "        learning_rate=l\n",
    "    )\n",
    "    regressor.fit(X_train, y_train)\n",
    "    y_pred = regressor.predict(X_test)\n",
    "\n",
    "    xgMSE=mean_absolute_error(y_test, y_pred)\n",
    "    xgR2 = r2_score(y_test, y_pred).round(4)\n",
    "    listMSE.append(xgMSE)\n",
    "    listR2.append(xgR2)\n",
    "    \n",
    "plt.plot(learning_rate, listMSE)\n",
    "plt.title('Learning_rate Error')\n",
    "plt.ylabel('Error')\n",
    "plt.xlabel('Learning_rate')\n",
    "plt.legend()\n",
    "plt.show()\n",
    "\n",
    "plt.plot(learning_rate, listR2)\n",
    "plt.title('Learning_rate R2')\n",
    "plt.ylabel('Accurate')\n",
    "plt.xlabel('Learning_rate')\n",
    "plt.legend()\n",
    "plt.show()"
   ]
  },
  {
   "cell_type": "markdown",
   "id": "07ed7fd0",
   "metadata": {
    "papermill": {
     "duration": 0.014997,
     "end_time": "2022-10-13T20:51:43.202620",
     "exception": false,
     "start_time": "2022-10-13T20:51:43.187623",
     "status": "completed"
    },
    "tags": []
   },
   "source": [
    "### Reg_Lambda\n",
    "Reg_lambda uses L2 regularization. Typical range is generally 0 to 10."
   ]
  },
  {
   "cell_type": "code",
   "execution_count": 20,
   "id": "90d18e4f",
   "metadata": {
    "execution": {
     "iopub.execute_input": "2022-10-13T20:51:43.235476Z",
     "iopub.status.busy": "2022-10-13T20:51:43.234513Z",
     "iopub.status.idle": "2022-10-13T20:51:44.730796Z",
     "shell.execute_reply": "2022-10-13T20:51:44.729944Z"
    },
    "papermill": {
     "duration": 1.515179,
     "end_time": "2022-10-13T20:51:44.733476",
     "exception": false,
     "start_time": "2022-10-13T20:51:43.218297",
     "status": "completed"
    },
    "tags": []
   },
   "outputs": [
    {
     "data": {
      "image/png": "[encoded data removed]",
      "text/plain": [
       "<Figure size 432x288 with 1 Axes>"
      ]
     },
     "metadata": {
      "needs_background": "light"
     },
     "output_type": "display_data"
    },
    {
     "data": {
      "image/png": "[encoded data removed]",
      "text/plain": [
       "<Figure size 432x288 with 1 Axes>"
      ]
     },
     "metadata": {
      "needs_background": "light"
     },
     "output_type": "display_data"
    }
   ],
   "source": [
    "regLam = [0, 1.0, 5.0, 10.0] #0 is default\n",
    "listMSE=[]\n",
    "listR2=[]\n",
    "\n",
    "for r in regLam:\n",
    "    regressor = xgb.XGBRegressor(\n",
    "        reg_lambda=r,\n",
    "    )\n",
    "    regressor.fit(X_train, y_train)\n",
    "    y_pred = regressor.predict(X_test)\n",
    "\n",
    "    xgMSE=mean_absolute_error(y_test, y_pred)\n",
    "    xgR2 = r2_score(y_test, y_pred).round(4)\n",
    "    listMSE.append(xgMSE)\n",
    "    listR2.append(xgR2)\n",
    "    \n",
    "plt.plot(regLam, listMSE)\n",
    "plt.title('RegLam Error')\n",
    "plt.ylabel('Error')\n",
    "plt.xlabel('RegLam')\n",
    "plt.legend()\n",
    "plt.show()\n",
    "\n",
    "plt.plot(regLam, listR2)\n",
    "plt.title('RegLam R2')\n",
    "plt.ylabel('Accurate')\n",
    "plt.xlabel('RegLam')\n",
    "plt.legend()\n",
    "plt.show()"
   ]
  },
  {
   "cell_type": "markdown",
   "id": "a56c843e",
   "metadata": {
    "papermill": {
     "duration": 0.01539,
     "end_time": "2022-10-13T20:51:44.764635",
     "exception": false,
     "start_time": "2022-10-13T20:51:44.749245",
     "status": "completed"
    },
    "tags": []
   },
   "source": [
    "### Reg_Alpha\n",
    "Reg_alpha uses L1 regularization. Increasing the value makes the model more conservative. Reg_alpha can have a bigger range up to 80."
   ]
  },
  {
   "cell_type": "code",
   "execution_count": 21,
   "id": "b812f527",
   "metadata": {
    "execution": {
     "iopub.execute_input": "2022-10-13T20:51:44.797085Z",
     "iopub.status.busy": "2022-10-13T20:51:44.796784Z",
     "iopub.status.idle": "2022-10-13T20:51:48.091501Z",
     "shell.execute_reply": "2022-10-13T20:51:48.090764Z"
    },
    "papermill": {
     "duration": 3.313199,
     "end_time": "2022-10-13T20:51:48.093418",
     "exception": false,
     "start_time": "2022-10-13T20:51:44.780219",
     "status": "completed"
    },
    "tags": []
   },
   "outputs": [
    {
     "data": {
      "image/png": "[encoded data removed]",
      "text/plain": [
       "<Figure size 432x288 with 1 Axes>"
      ]
     },
     "metadata": {
      "needs_background": "light"
     },
     "output_type": "display_data"
    },
    {
     "data": {
      "image/png": "[encoded data removed]",
      "text/plain": [
       "<Figure size 432x288 with 1 Axes>"
      ]
     },
     "metadata": {
      "needs_background": "light"
     },
     "output_type": "display_data"
    }
   ],
   "source": [
    "def regAlpha():\n",
    "    numbers = [0, 5.0, 10.0, 20, 30, 40, 50, 60, 70, 80]  #0 is default\n",
    "    listMSE=[]\n",
    "    listR2=[]\n",
    "\n",
    "    for n in numbers:\n",
    "        regressor = xgb.XGBRegressor(\n",
    "            reg_alpha=n,\n",
    "        )\n",
    "        regressor.fit(X_train, y_train)\n",
    "        y_pred = regressor.predict(X_test)\n",
    "\n",
    "        xgMSE=mean_absolute_error(y_test, y_pred)\n",
    "        xgR2 = r2_score(y_test, y_pred).round(4)\n",
    "        listMSE.append(xgMSE)\n",
    "        listR2.append(xgR2)\n",
    "\n",
    "    plt.plot(numbers, listMSE)\n",
    "    plt.title('regAlpha')\n",
    "    plt.ylabel('Error')\n",
    "    plt.xlabel('RegAlpha')\n",
    "    plt.legend()\n",
    "    plt.show()\n",
    "\n",
    "    plt.plot(numbers, listR2)\n",
    "    plt.title('regAlpha')\n",
    "    plt.ylabel('Accurate')\n",
    "    plt.xlabel('RegAlpha')\n",
    "    plt.legend()\n",
    "    plt.show()\n",
    "regAlpha()"
   ]
  },
  {
   "cell_type": "markdown",
   "id": "8ce43884",
   "metadata": {
    "papermill": {
     "duration": 0.015831,
     "end_time": "2022-10-13T20:51:48.125725",
     "exception": false,
     "start_time": "2022-10-13T20:51:48.109894",
     "status": "completed"
    },
    "tags": []
   },
   "source": [
    "### Colsample_bytree"
   ]
  },
  {
   "cell_type": "code",
   "execution_count": 22,
   "id": "4aa15e80",
   "metadata": {
    "execution": {
     "iopub.execute_input": "2022-10-13T20:51:48.159803Z",
     "iopub.status.busy": "2022-10-13T20:51:48.159246Z",
     "iopub.status.idle": "2022-10-13T20:51:49.463558Z",
     "shell.execute_reply": "2022-10-13T20:51:49.462807Z"
    },
    "papermill": {
     "duration": 1.323526,
     "end_time": "2022-10-13T20:51:49.465371",
     "exception": false,
     "start_time": "2022-10-13T20:51:48.141845",
     "status": "completed"
    },
    "tags": []
   },
   "outputs": [
    {
     "data": {
      "image/png": "[encoded data removed]",
      "text/plain": [
       "<Figure size 432x288 with 1 Axes>"
      ]
     },
     "metadata": {
      "needs_background": "light"
     },
     "output_type": "display_data"
    },
    {
     "data": {
      "image/png": "[encoded data removed]",
      "text/plain": [
       "<Figure size 432x288 with 1 Axes>"
      ]
     },
     "metadata": {
      "needs_background": "light"
     },
     "output_type": "display_data"
    }
   ],
   "source": [
    "colSample = [0.1, 0.5, 0.9, 1]\n",
    "listMSE=[]\n",
    "listR2=[]\n",
    "\n",
    "for c in colSample:\n",
    "    regressor = xgb.XGBRegressor(\n",
    "        colsample_bytree=c\n",
    "    )\n",
    "    regressor.fit(X_train, y_train)\n",
    "    y_pred = regressor.predict(X_test)\n",
    "\n",
    "    xgMSE=mean_absolute_error(y_test, y_pred)\n",
    "    xgR2 = r2_score(y_test, y_pred).round(4)\n",
    "    listMSE.append(xgMSE)\n",
    "    listR2.append(xgR2)\n",
    "    \n",
    "plt.plot(colSample, listMSE)\n",
    "plt.title('ColSample Error')\n",
    "plt.ylabel('Error')\n",
    "plt.xlabel('ColSample')\n",
    "plt.legend()\n",
    "plt.show()\n",
    "\n",
    "plt.plot(colSample, listR2)\n",
    "plt.title('ColSample R2')\n",
    "plt.ylabel('Accurate')\n",
    "plt.xlabel('ColSample')\n",
    "plt.legend()\n",
    "plt.show()"
   ]
  },
  {
   "cell_type": "markdown",
   "id": "39240a7e",
   "metadata": {
    "papermill": {
     "duration": 0.016515,
     "end_time": "2022-10-13T20:51:49.501493",
     "exception": false,
     "start_time": "2022-10-13T20:51:49.484978",
     "status": "completed"
    },
    "tags": []
   },
   "source": [
    "# Grid Search xg Boost"
   ]
  },
  {
   "cell_type": "code",
   "execution_count": 23,
   "id": "fb4faa3c",
   "metadata": {
    "execution": {
     "iopub.execute_input": "2022-10-13T20:51:49.538240Z",
     "iopub.status.busy": "2022-10-13T20:51:49.537691Z",
     "iopub.status.idle": "2022-10-13T20:51:49.544510Z",
     "shell.execute_reply": "2022-10-13T20:51:49.543910Z"
    },
    "papermill": {
     "duration": 0.028395,
     "end_time": "2022-10-13T20:51:49.546655",
     "exception": false,
     "start_time": "2022-10-13T20:51:49.518260",
     "status": "completed"
    },
    "tags": []
   },
   "outputs": [],
   "source": [
    "from sklearn.model_selection import GridSearchCV, RandomizedSearchCV, KFold, StratifiedKFold\n",
    "from sklearn.metrics import f1_score, max_error\n",
    "from xgboost import cv\n",
    "from scipy import stats\n",
    "import time\n",
    "\n",
    "def gridSearch():\n",
    "    start=time.time()\n",
    "    print(\"Start\")\n",
    "\n",
    "    params = {\n",
    "        'learning_rate':[.1, .3],\n",
    "        'n_estimators':[100],\n",
    "        'max_depth':[3, 4, 5, 6, 7],\n",
    "        'min_child_weight':[5, 10],\n",
    "        'reg_lambda':[0],\n",
    "        'reg_alpha':[20, 30],\n",
    "        'colsample_bytree':[.9],\n",
    "        'eta':[.01, .02, .03]\n",
    "    }\n",
    "\n",
    "    boost_gs=xgb.XGBRegressor()\n",
    "    kfold = KFold(n_splits=10, shuffle=True, random_state=7)\n",
    "    boost_gs=GridSearchCV(boost_gs, param_grid=params, scoring='neg_mean_squared_error', cv=kfold)\n",
    "    boost_gs.fit(X_train, y_train)\n",
    "    #boost_gs.fit(X_train, y_train, early_stopping_rounds=10, eval_metric=\"rmse\", eval_set=[(X_test, y_test)], verbose=False)\n",
    "\n",
    "    print(boost_gs.best_params_)\n",
    "    print(\"Done. \", time.time()-start, \" seconds\")\n",
    "#gridSearch()"
   ]
  },
  {
   "cell_type": "markdown",
   "id": "03afa6da",
   "metadata": {
    "papermill": {
     "duration": 0.016106,
     "end_time": "2022-10-13T20:51:49.579264",
     "exception": false,
     "start_time": "2022-10-13T20:51:49.563158",
     "status": "completed"
    },
    "tags": []
   },
   "source": [
    "# Final Predictions\n",
    "Here are some of the best models found by using GridSearch:\n",
    "* kFold=10 {'colsample_bytree': 0.9, 'eta': 0.01, 'learning_rate': 0.1, 'max_depth': 3, 'min_child_weight': 10, 'n_estimators': 100, 'reg_alpha': 30, 'reg_lambda': 0}\n",
    "* Using cv=10 {'colsample_bytree': 0.9, 'learning_rate': 0.1, 'max_depth': 3, 'min_child_weight': 10, 'n_estimators': 100, 'reg_alpha': 0, 'reg_lambda': 5}\n",
    "* {'colsample_bytree': 0.9, 'learning_rate': 0.1, 'max_depth': 4, 'min_child_weight': 10, 'n_estimators': 100, 'reg_alpha': 0, 'reg_lambda': 5}\n",
    "* {'colsample_bytree': 0.9, 'learning_rate': 0.1, 'max_depth': 4, 'min_child_weight': 10, 'n_estimators': 50, 'reg_alpha': 0, 'reg_lambda': 0}\n",
    "* Using MSE with cv=10 {'learning_rate': 0.3, 'max_depth': 2, 'min_child_weight': 5, 'n_estimators': 50, 'reg_lambda': 0.5}\n",
    "* Top 47% {'eta': 0.1, 'learning_rate': 0.01, 'max_depth': 4, 'min_child_weight': 10, 'n_estimators': 50, 'reg_lambda': 0.01}\n",
    "* Using Kfold=5 {'colsample_bytree': 0.5, 'learning_rate': 0.5, 'max_depth': 3, 'min_child_weight': 10, 'n_estimators': 50, 'reg_lambda': 0.5}"
   ]
  },
  {
   "cell_type": "code",
   "execution_count": 24,
   "id": "84334ad6",
   "metadata": {
    "execution": {
     "iopub.execute_input": "2022-10-13T20:51:49.613791Z",
     "iopub.status.busy": "2022-10-13T20:51:49.613476Z",
     "iopub.status.idle": "2022-10-13T20:51:52.203098Z",
     "shell.execute_reply": "2022-10-13T20:51:52.202094Z"
    },
    "papermill": {
     "duration": 2.609634,
     "end_time": "2022-10-13T20:51:52.205169",
     "exception": false,
     "start_time": "2022-10-13T20:51:49.595535",
     "status": "completed"
    },
    "tags": []
   },
   "outputs": [
    {
     "name": "stdout",
     "output_type": "stream",
     "text": [
      "r2  0.8983 0.9015 || cross validate:  -0.0032\n",
      "mae error  14761.81    -15171.5955 cross validate:  -409.7855\n"
     ]
    }
   ],
   "source": [
    "xgbFinal = xgb.XGBRegressor(\n",
    "        n_estimators=100,\n",
    "        max_depth=3,\n",
    "        reg_lambda=0,\n",
    "        reg_alpha=30,\n",
    "        min_child_weight=10,\n",
    "        learning_rate=.1,\n",
    "        colsample_bytree=1,\n",
    "        eta=.01\n",
    "    )\n",
    "\n",
    "#Note: no early stop provides better score:\n",
    "xgbFinal.fit(X_train, y_train)\n",
    "#xgbFinal.fit(X_train, y_train, early_stopping_rounds=10, eval_metric=\"rmse\", eval_set=[(X_test, y_test)], verbose=False)\n",
    "y_pred = xgbFinal.predict(X_test)\n",
    "\n",
    "#Metrics\n",
    "xgMSE=mean_absolute_error(y_test, y_pred).round(2)\n",
    "xgR2 = r2_score(y_test, y_pred).round(4)\n",
    "\n",
    "xgScore = xgbFinal.score(X_test, y_test).round(4)  \n",
    "xgCV = cross_validate(xgbFinal, X, y, cv = 5, scoring='r2')\n",
    "xgCV=xgCV['test_score'].mean().round(4)\n",
    "print(\"r2 \", xgScore, xgCV, \"|| cross validate: \", (xgScore-xgCV).round(4))\n",
    "\n",
    "xgCVerr = cross_validate(xgbFinal, X, y, cv = 5, scoring='neg_mean_absolute_error')\n",
    "xgCVerr=xgCVerr['test_score'].mean().round(4)\n",
    "print(\"mae error \", xgMSE, \"  \", xgCVerr, \"cross validate: \", (xgMSE-abs(xgCVerr)).round(4))"
   ]
  },
  {
   "cell_type": "markdown",
   "id": "c75b0b67",
   "metadata": {
    "papermill": {
     "duration": 0.016952,
     "end_time": "2022-10-13T20:51:52.240254",
     "exception": false,
     "start_time": "2022-10-13T20:51:52.223302",
     "status": "completed"
    },
    "tags": []
   },
   "source": [
    "### Graph"
   ]
  },
  {
   "cell_type": "code",
   "execution_count": 25,
   "id": "9cb05965",
   "metadata": {
    "execution": {
     "iopub.execute_input": "2022-10-13T20:51:52.275432Z",
     "iopub.status.busy": "2022-10-13T20:51:52.275111Z",
     "iopub.status.idle": "2022-10-13T20:51:53.377895Z",
     "shell.execute_reply": "2022-10-13T20:51:53.376709Z"
    },
    "papermill": {
     "duration": 1.122741,
     "end_time": "2022-10-13T20:51:53.379900",
     "exception": false,
     "start_time": "2022-10-13T20:51:52.257159",
     "status": "completed"
    },
    "tags": []
   },
   "outputs": [
    {
     "data": {
      "image/svg+xml": [
       "<?xml version=\"1.0\" encoding=\"UTF-8\" standalone=\"no\"?>\n",
       "<!DOCTYPE svg PUBLIC \"-//W3C//DTD SVG 1.1//EN\"\n",
       " \"http://www.w3.org/Graphics/SVG/1.1/DTD/svg11.dtd\">\n",
       "<!-- Generated by graphviz version 5.0.0 (20220707.2338)\n",
       " -->\n",
       "<!-- Pages: 1 -->\n",
       "<svg width=\"1566pt\" height=\"305pt\"\n",
       " viewBox=\"0.00 0.00 1565.98 305.00\" xmlns=\"http://www.w3.org/2000/svg\" xmlns:xlink=\"http://www.w3.org/1999/xlink\">\n",
       "<g id=\"graph0\" class=\"graph\" transform=\"scale(1 1) rotate(0) translate(4 301)\">\n",
       "<polygon fill=\"white\" stroke=\"transparent\" points=\"-4,4 -4,-301 1561.98,-301 1561.98,4 -4,4\"/>\n",
       "<!-- 0 -->\n",
       "<g id=\"node1\" class=\"node\">\n",
       "<title>0</title>\n",
       "<ellipse fill=\"none\" stroke=\"black\" cx=\"706.99\" cy=\"-279\" rx=\"88.28\" ry=\"18\"/>\n",
       "<text text-anchor=\"middle\" x=\"706.99\" y=\"-275.3\" font-family=\"Times,serif\" font-size=\"14.00\">OverallQual&lt;6.5</text>\n",
       "</g>\n",
       "<!-- 1 -->\n",
       "<g id=\"node2\" class=\"node\">\n",
       "<title>1</title>\n",
       "<ellipse fill=\"none\" stroke=\"black\" cx=\"512.99\" cy=\"-192\" rx=\"85.59\" ry=\"18\"/>\n",
       "<text text-anchor=\"middle\" x=\"512.99\" y=\"-188.3\" font-family=\"Times,serif\" font-size=\"14.00\">totalSQ&lt;2175.5</text>\n",
       "</g>\n",
       "<!-- 0&#45;&gt;1 -->\n",
       "<g id=\"edge1\" class=\"edge\">\n",
       "<title>0&#45;&gt;1</title>\n",
       "<path fill=\"none\" stroke=\"#0000ff\" d=\"M671.41,-262.41C639.41,-248.39 592.27,-227.74 557.73,-212.6\"/>\n",
       "<polygon fill=\"#0000ff\" stroke=\"#0000ff\" points=\"558.91,-209.3 548.35,-208.49 556.1,-215.71 558.91,-209.3\"/>\n",
       "<text text-anchor=\"middle\" x=\"666.49\" y=\"-231.8\" font-family=\"Times,serif\" font-size=\"14.00\">yes, missing</text>\n",
       "</g>\n",
       "<!-- 2 -->\n",
       "<g id=\"node3\" class=\"node\">\n",
       "<title>2</title>\n",
       "<ellipse fill=\"none\" stroke=\"black\" cx=\"938.99\" cy=\"-192\" rx=\"85.59\" ry=\"18\"/>\n",
       "<text text-anchor=\"middle\" x=\"938.99\" y=\"-188.3\" font-family=\"Times,serif\" font-size=\"14.00\">totalSQ&lt;3233.5</text>\n",
       "</g>\n",
       "<!-- 0&#45;&gt;2 -->\n",
       "<g id=\"edge2\" class=\"edge\">\n",
       "<title>0&#45;&gt;2</title>\n",
       "<path fill=\"none\" stroke=\"#ff0000\" d=\"M747.93,-263C787.16,-248.63 846.44,-226.91 888.56,-211.48\"/>\n",
       "<polygon fill=\"#ff0000\" stroke=\"#ff0000\" points=\"889.88,-214.72 898.07,-207.99 887.48,-208.15 889.88,-214.72\"/>\n",
       "<text text-anchor=\"middle\" x=\"845.99\" y=\"-231.8\" font-family=\"Times,serif\" font-size=\"14.00\">no</text>\n",
       "</g>\n",
       "<!-- 3 -->\n",
       "<g id=\"node4\" class=\"node\">\n",
       "<title>3</title>\n",
       "<ellipse fill=\"none\" stroke=\"black\" cx=\"284.99\" cy=\"-105\" rx=\"77.19\" ry=\"18\"/>\n",
       "<text text-anchor=\"middle\" x=\"284.99\" y=\"-101.3\" font-family=\"Times,serif\" font-size=\"14.00\">totalSQ&lt;1602</text>\n",
       "</g>\n",
       "<!-- 1&#45;&gt;3 -->\n",
       "<g id=\"edge3\" class=\"edge\">\n",
       "<title>1&#45;&gt;3</title>\n",
       "<path fill=\"none\" stroke=\"#0000ff\" d=\"M472.75,-176C433.94,-161.53 375.12,-139.6 333.68,-124.15\"/>\n",
       "<polygon fill=\"#0000ff\" stroke=\"#0000ff\" points=\"334.66,-120.78 324.07,-120.57 332.21,-127.34 334.66,-120.78\"/>\n",
       "<text text-anchor=\"middle\" x=\"457.49\" y=\"-144.8\" font-family=\"Times,serif\" font-size=\"14.00\">yes, missing</text>\n",
       "</g>\n",
       "<!-- 4 -->\n",
       "<g id=\"node5\" class=\"node\">\n",
       "<title>4</title>\n",
       "<ellipse fill=\"none\" stroke=\"black\" cx=\"512.99\" cy=\"-105\" rx=\"88.28\" ry=\"18\"/>\n",
       "<text text-anchor=\"middle\" x=\"512.99\" y=\"-101.3\" font-family=\"Times,serif\" font-size=\"14.00\">OverallQual&lt;5.5</text>\n",
       "</g>\n",
       "<!-- 1&#45;&gt;4 -->\n",
       "<g id=\"edge4\" class=\"edge\">\n",
       "<title>1&#45;&gt;4</title>\n",
       "<path fill=\"none\" stroke=\"#ff0000\" d=\"M512.99,-173.8C512.99,-162.16 512.99,-146.55 512.99,-133.24\"/>\n",
       "<polygon fill=\"#ff0000\" stroke=\"#ff0000\" points=\"516.49,-133.18 512.99,-123.18 509.49,-133.18 516.49,-133.18\"/>\n",
       "<text text-anchor=\"middle\" x=\"521.99\" y=\"-144.8\" font-family=\"Times,serif\" font-size=\"14.00\">no</text>\n",
       "</g>\n",
       "<!-- 5 -->\n",
       "<g id=\"node10\" class=\"node\">\n",
       "<title>5</title>\n",
       "<ellipse fill=\"none\" stroke=\"black\" cx=\"938.99\" cy=\"-105\" rx=\"77.19\" ry=\"18\"/>\n",
       "<text text-anchor=\"middle\" x=\"938.99\" y=\"-101.3\" font-family=\"Times,serif\" font-size=\"14.00\">totalSQ&lt;2741</text>\n",
       "</g>\n",
       "<!-- 2&#45;&gt;5 -->\n",
       "<g id=\"edge9\" class=\"edge\">\n",
       "<title>2&#45;&gt;5</title>\n",
       "<path fill=\"none\" stroke=\"#0000ff\" d=\"M938.99,-173.8C938.99,-162.16 938.99,-146.55 938.99,-133.24\"/>\n",
       "<polygon fill=\"#0000ff\" stroke=\"#0000ff\" points=\"942.49,-133.18 938.99,-123.18 935.49,-133.18 942.49,-133.18\"/>\n",
       "<text text-anchor=\"middle\" x=\"983.49\" y=\"-144.8\" font-family=\"Times,serif\" font-size=\"14.00\">yes, missing</text>\n",
       "</g>\n",
       "<!-- 6 -->\n",
       "<g id=\"node11\" class=\"node\">\n",
       "<title>6</title>\n",
       "<ellipse fill=\"none\" stroke=\"black\" cx=\"1266.99\" cy=\"-105\" rx=\"77.19\" ry=\"18\"/>\n",
       "<text text-anchor=\"middle\" x=\"1266.99\" y=\"-101.3\" font-family=\"Times,serif\" font-size=\"14.00\">totalSQ&lt;3732</text>\n",
       "</g>\n",
       "<!-- 2&#45;&gt;6 -->\n",
       "<g id=\"edge10\" class=\"edge\">\n",
       "<title>2&#45;&gt;6</title>\n",
       "<path fill=\"none\" stroke=\"#ff0000\" d=\"M990.96,-177.53C1049.83,-162.28 1145.57,-137.47 1207.41,-121.44\"/>\n",
       "<polygon fill=\"#ff0000\" stroke=\"#ff0000\" points=\"1208.61,-124.75 1217.41,-118.85 1206.85,-117.97 1208.61,-124.75\"/>\n",
       "<text text-anchor=\"middle\" x=\"1131.99\" y=\"-144.8\" font-family=\"Times,serif\" font-size=\"14.00\">no</text>\n",
       "</g>\n",
       "<!-- 7 -->\n",
       "<g id=\"node6\" class=\"node\">\n",
       "<title>7</title>\n",
       "<ellipse fill=\"none\" stroke=\"black\" cx=\"90.99\" cy=\"-18\" rx=\"90.98\" ry=\"18\"/>\n",
       "<text text-anchor=\"middle\" x=\"90.99\" y=\"-14.3\" font-family=\"Times,serif\" font-size=\"14.00\">leaf=8977.19043</text>\n",
       "</g>\n",
       "<!-- 3&#45;&gt;7 -->\n",
       "<g id=\"edge5\" class=\"edge\">\n",
       "<title>3&#45;&gt;7</title>\n",
       "<path fill=\"none\" stroke=\"#0000ff\" d=\"M243.9,-89.54C227.59,-83.54 208.76,-76.29 191.99,-69 171.42,-60.06 149.02,-49.1 130.55,-39.73\"/>\n",
       "<polygon fill=\"#0000ff\" stroke=\"#0000ff\" points=\"132.06,-36.56 121.56,-35.13 128.87,-42.8 132.06,-36.56\"/>\n",
       "<text text-anchor=\"middle\" x=\"236.49\" y=\"-57.8\" font-family=\"Times,serif\" font-size=\"14.00\">yes, missing</text>\n",
       "</g>\n",
       "<!-- 8 -->\n",
       "<g id=\"node7\" class=\"node\">\n",
       "<title>8</title>\n",
       "<ellipse fill=\"none\" stroke=\"black\" cx=\"284.99\" cy=\"-18\" rx=\"85.29\" ry=\"18\"/>\n",
       "<text text-anchor=\"middle\" x=\"284.99\" y=\"-14.3\" font-family=\"Times,serif\" font-size=\"14.00\">leaf=12562.125</text>\n",
       "</g>\n",
       "<!-- 3&#45;&gt;8 -->\n",
       "<g id=\"edge6\" class=\"edge\">\n",
       "<title>3&#45;&gt;8</title>\n",
       "<path fill=\"none\" stroke=\"#ff0000\" d=\"M284.99,-86.8C284.99,-75.16 284.99,-59.55 284.99,-46.24\"/>\n",
       "<polygon fill=\"#ff0000\" stroke=\"#ff0000\" points=\"288.49,-46.18 284.99,-36.18 281.49,-46.18 288.49,-46.18\"/>\n",
       "<text text-anchor=\"middle\" x=\"293.99\" y=\"-57.8\" font-family=\"Times,serif\" font-size=\"14.00\">no</text>\n",
       "</g>\n",
       "<!-- 9 -->\n",
       "<g id=\"node8\" class=\"node\">\n",
       "<title>9</title>\n",
       "<ellipse fill=\"none\" stroke=\"black\" cx=\"478.99\" cy=\"-18\" rx=\"90.98\" ry=\"18\"/>\n",
       "<text text-anchor=\"middle\" x=\"478.99\" y=\"-14.3\" font-family=\"Times,serif\" font-size=\"14.00\">leaf=14614.6924</text>\n",
       "</g>\n",
       "<!-- 4&#45;&gt;9 -->\n",
       "<g id=\"edge7\" class=\"edge\">\n",
       "<title>4&#45;&gt;9</title>\n",
       "<path fill=\"none\" stroke=\"#0000ff\" d=\"M506.11,-86.8C501.41,-75.05 495.09,-59.24 489.73,-45.84\"/>\n",
       "<polygon fill=\"#0000ff\" stroke=\"#0000ff\" points=\"492.83,-44.16 485.86,-36.18 486.33,-46.76 492.83,-44.16\"/>\n",
       "<text text-anchor=\"middle\" x=\"543.49\" y=\"-57.8\" font-family=\"Times,serif\" font-size=\"14.00\">yes, missing</text>\n",
       "</g>\n",
       "<!-- 10 -->\n",
       "<g id=\"node9\" class=\"node\">\n",
       "<title>10</title>\n",
       "<ellipse fill=\"none\" stroke=\"black\" cx=\"672.99\" cy=\"-18\" rx=\"85.29\" ry=\"18\"/>\n",
       "<text text-anchor=\"middle\" x=\"672.99\" y=\"-14.3\" font-family=\"Times,serif\" font-size=\"14.00\">leaf=17674.459</text>\n",
       "</g>\n",
       "<!-- 4&#45;&gt;10 -->\n",
       "<g id=\"edge8\" class=\"edge\">\n",
       "<title>4&#45;&gt;10</title>\n",
       "<path fill=\"none\" stroke=\"#ff0000\" d=\"M550.46,-88.64C563.76,-82.86 578.72,-75.99 591.99,-69 608.09,-60.51 625.33,-50.07 639.75,-40.93\"/>\n",
       "<polygon fill=\"#ff0000\" stroke=\"#ff0000\" points=\"641.8,-43.78 648.33,-35.44 638.02,-37.89 641.8,-43.78\"/>\n",
       "<text text-anchor=\"middle\" x=\"626.99\" y=\"-57.8\" font-family=\"Times,serif\" font-size=\"14.00\">no</text>\n",
       "</g>\n",
       "<!-- 11 -->\n",
       "<g id=\"node12\" class=\"node\">\n",
       "<title>11</title>\n",
       "<ellipse fill=\"none\" stroke=\"black\" cx=\"866.99\" cy=\"-18\" rx=\"90.98\" ry=\"18\"/>\n",
       "<text text-anchor=\"middle\" x=\"866.99\" y=\"-14.3\" font-family=\"Times,serif\" font-size=\"14.00\">leaf=18296.3418</text>\n",
       "</g>\n",
       "<!-- 5&#45;&gt;11 -->\n",
       "<g id=\"edge11\" class=\"edge\">\n",
       "<title>5&#45;&gt;11</title>\n",
       "<path fill=\"none\" stroke=\"#0000ff\" d=\"M924.77,-87.21C914.28,-74.83 899.85,-57.8 888.04,-43.85\"/>\n",
       "<polygon fill=\"#0000ff\" stroke=\"#0000ff\" points=\"890.57,-41.42 881.43,-36.05 885.23,-45.94 890.57,-41.42\"/>\n",
       "<text text-anchor=\"middle\" x=\"952.49\" y=\"-57.8\" font-family=\"Times,serif\" font-size=\"14.00\">yes, missing</text>\n",
       "</g>\n",
       "<!-- 12 -->\n",
       "<g id=\"node13\" class=\"node\">\n",
       "<title>12</title>\n",
       "<ellipse fill=\"none\" stroke=\"black\" cx=\"1066.99\" cy=\"-18\" rx=\"90.98\" ry=\"18\"/>\n",
       "<text text-anchor=\"middle\" x=\"1066.99\" y=\"-14.3\" font-family=\"Times,serif\" font-size=\"14.00\">leaf=22968.9883</text>\n",
       "</g>\n",
       "<!-- 5&#45;&gt;12 -->\n",
       "<g id=\"edge12\" class=\"edge\">\n",
       "<title>5&#45;&gt;12</title>\n",
       "<path fill=\"none\" stroke=\"#ff0000\" d=\"M968.81,-88.23C979.17,-82.47 990.76,-75.72 1000.99,-69 1013.66,-60.68 1027.08,-50.74 1038.5,-41.91\"/>\n",
       "<polygon fill=\"#ff0000\" stroke=\"#ff0000\" points=\"1040.69,-44.64 1046.41,-35.73 1036.38,-39.13 1040.69,-44.64\"/>\n",
       "<text text-anchor=\"middle\" x=\"1030.99\" y=\"-57.8\" font-family=\"Times,serif\" font-size=\"14.00\">no</text>\n",
       "</g>\n",
       "<!-- 13 -->\n",
       "<g id=\"node14\" class=\"node\">\n",
       "<title>13</title>\n",
       "<ellipse fill=\"none\" stroke=\"black\" cx=\"1266.99\" cy=\"-18\" rx=\"90.98\" ry=\"18\"/>\n",
       "<text text-anchor=\"middle\" x=\"1266.99\" y=\"-14.3\" font-family=\"Times,serif\" font-size=\"14.00\">leaf=28270.4062</text>\n",
       "</g>\n",
       "<!-- 6&#45;&gt;13 -->\n",
       "<g id=\"edge13\" class=\"edge\">\n",
       "<title>6&#45;&gt;13</title>\n",
       "<path fill=\"none\" stroke=\"#0000ff\" d=\"M1266.99,-86.8C1266.99,-75.16 1266.99,-59.55 1266.99,-46.24\"/>\n",
       "<polygon fill=\"#0000ff\" stroke=\"#0000ff\" points=\"1270.49,-46.18 1266.99,-36.18 1263.49,-46.18 1270.49,-46.18\"/>\n",
       "<text text-anchor=\"middle\" x=\"1311.49\" y=\"-57.8\" font-family=\"Times,serif\" font-size=\"14.00\">yes, missing</text>\n",
       "</g>\n",
       "<!-- 14 -->\n",
       "<g id=\"node15\" class=\"node\">\n",
       "<title>14</title>\n",
       "<ellipse fill=\"none\" stroke=\"black\" cx=\"1466.99\" cy=\"-18\" rx=\"90.98\" ry=\"18\"/>\n",
       "<text text-anchor=\"middle\" x=\"1466.99\" y=\"-14.3\" font-family=\"Times,serif\" font-size=\"14.00\">leaf=34250.9766</text>\n",
       "</g>\n",
       "<!-- 6&#45;&gt;14 -->\n",
       "<g id=\"edge14\" class=\"edge\">\n",
       "<title>6&#45;&gt;14</title>\n",
       "<path fill=\"none\" stroke=\"#ff0000\" d=\"M1307.54,-89.51C1323.94,-83.45 1342.98,-76.16 1359.99,-69 1381.75,-59.84 1405.59,-48.8 1425.23,-39.43\"/>\n",
       "<polygon fill=\"#ff0000\" stroke=\"#ff0000\" points=\"1427,-42.46 1434.5,-34.98 1423.97,-36.15 1427,-42.46\"/>\n",
       "<text text-anchor=\"middle\" x=\"1400.99\" y=\"-57.8\" font-family=\"Times,serif\" font-size=\"14.00\">no</text>\n",
       "</g>\n",
       "</g>\n",
       "</svg>\n"
      ],
      "text/plain": [
       "<graphviz.files.Source at 0x7f15d034be10>"
      ]
     },
     "execution_count": 25,
     "metadata": {},
     "output_type": "execute_result"
    }
   ],
   "source": [
    "import graphviz\n",
    "xgb.to_graphviz(xgbFinal)"
   ]
  },
  {
   "cell_type": "markdown",
   "id": "8a0ebb6f",
   "metadata": {
    "papermill": {
     "duration": 0.017093,
     "end_time": "2022-10-13T20:51:53.414066",
     "exception": false,
     "start_time": "2022-10-13T20:51:53.396973",
     "status": "completed"
    },
    "tags": []
   },
   "source": [
    "# Feature Importance"
   ]
  },
  {
   "cell_type": "code",
   "execution_count": 26,
   "id": "ee92b8e6",
   "metadata": {
    "execution": {
     "iopub.execute_input": "2022-10-13T20:51:53.449540Z",
     "iopub.status.busy": "2022-10-13T20:51:53.449231Z",
     "iopub.status.idle": "2022-10-13T20:51:53.639406Z",
     "shell.execute_reply": "2022-10-13T20:51:53.637946Z"
    },
    "papermill": {
     "duration": 0.211262,
     "end_time": "2022-10-13T20:51:53.642183",
     "exception": false,
     "start_time": "2022-10-13T20:51:53.430921",
     "status": "completed"
    },
    "tags": []
   },
   "outputs": [
    {
     "data": {
      "image/png": "[encoded data removed]",
      "text/plain": [
       "<Figure size 432x288 with 1 Axes>"
      ]
     },
     "metadata": {
      "needs_background": "light"
     },
     "output_type": "display_data"
    },
    {
     "data": {
      "text/plain": [
       "<Figure size 1440x1440 with 0 Axes>"
      ]
     },
     "metadata": {},
     "output_type": "display_data"
    }
   ],
   "source": [
    "xgb.plot_importance(xgbFinal, max_num_features=12, title='xgBoost Top Features Importance')\n",
    "plt.figure(figsize = (20, 20))\n",
    "plt.show()"
   ]
  },
  {
   "cell_type": "code",
   "execution_count": 27,
   "id": "b12b47fa",
   "metadata": {
    "execution": {
     "iopub.execute_input": "2022-10-13T20:51:53.679529Z",
     "iopub.status.busy": "2022-10-13T20:51:53.678970Z",
     "iopub.status.idle": "2022-10-13T20:51:53.687752Z",
     "shell.execute_reply": "2022-10-13T20:51:53.685414Z"
    },
    "papermill": {
     "duration": 0.030476,
     "end_time": "2022-10-13T20:51:53.690421",
     "exception": false,
     "start_time": "2022-10-13T20:51:53.659945",
     "status": "completed"
    },
    "tags": []
   },
   "outputs": [
    {
     "name": "stdout",
     "output_type": "stream",
     "text": [
      "Feature Importance:\n",
      "0.0023   Id\n",
      "0.0099   LotArea\n",
      "0.4575   OverallQual\n",
      "0.0088   OverallCond\n",
      "0.0151   YearBuilt\n",
      "0.0292   YearRemodAdd\n",
      "0.0252   BsmtFinSF1\n",
      "0.0354   CentralAir\n",
      "0.0103   GrLivArea\n",
      "0.0432   KitchenAbvGr\n",
      "0.0342   Fireplaces\n",
      "0.0818   GarageCars\n",
      "0.0102   GarageArea\n",
      "0.0037   WoodDeckSF\n",
      "0.1556   totalSQ\n",
      "0.0576   bathrooms\n",
      "0.02   NewConstruction\n"
     ]
    }
   ],
   "source": [
    "importance=xgbFinal.feature_importances_\n",
    "name=xgbFinal.feature_names_in_\n",
    "print(\"Feature Importance:\")\n",
    "for num in range(len(name)):\n",
    "    print(round(importance[num],4), \" \", name[num])"
   ]
  },
  {
   "cell_type": "code",
   "execution_count": 28,
   "id": "dec6bef9",
   "metadata": {
    "execution": {
     "iopub.execute_input": "2022-10-13T20:51:53.727485Z",
     "iopub.status.busy": "2022-10-13T20:51:53.727179Z",
     "iopub.status.idle": "2022-10-13T20:51:53.736189Z",
     "shell.execute_reply": "2022-10-13T20:51:53.735203Z"
    },
    "papermill": {
     "duration": 0.030145,
     "end_time": "2022-10-13T20:51:53.738426",
     "exception": false,
     "start_time": "2022-10-13T20:51:53.708281",
     "status": "completed"
    },
    "tags": []
   },
   "outputs": [],
   "source": [
    "def randSearch():\n",
    "    clf_xgb = xgb.XGBRegressor()\n",
    "    param_dist = {'n_estimators': stats.randint(50, 130),\n",
    "                  'learning_rate': stats.uniform(0.01, 0.07),\n",
    "                  'subsample': stats.uniform(0.3, 0.7),\n",
    "                  'max_depth': [3, 4, 5, 6],\n",
    "                  'colsample_bytree': stats.uniform(0.5, 0.45),\n",
    "                  'min_child_weight': [1, 10]\n",
    "                 }\n",
    "    clf = RandomizedSearchCV(\n",
    "        clf_xgb, param_distributions = param_dist, n_iter = 10, \n",
    "     scoring = 'r2', error_score = 0, verbose = 3, n_jobs = -1)\n",
    "\n",
    "    numFolds = 5\n",
    "    folds = KFold(n_splits = numFolds, shuffle = True)\n",
    "\n",
    "    estimators = []\n",
    "    results = np.zeros(len(X))\n",
    "    score = 0.0\n",
    "    for train_index, test_index in folds.split(X):\n",
    "        X_train, X_test = X.iloc[train_index,:], X.iloc[test_index,:]\n",
    "        y_train, y_test = y.iloc[train_index].values.ravel(), y.iloc[test_index].values.ravel()\n",
    "        clf.fit(X_train, y_train)\n",
    "\n",
    "        estimators.append(clf.best_estimator_)\n",
    "        results[test_index] = clf.predict(X_test)\n",
    "        score += r2_score(y_test, results[test_index])\n",
    "    score /= numFolds"
   ]
  },
  {
   "cell_type": "markdown",
   "id": "3cba5988",
   "metadata": {
    "execution": {
     "iopub.execute_input": "2022-09-19T21:09:40.310967Z",
     "iopub.status.busy": "2022-09-19T21:09:40.310240Z",
     "iopub.status.idle": "2022-09-19T21:09:40.328174Z",
     "shell.execute_reply": "2022-09-19T21:09:40.326914Z",
     "shell.execute_reply.started": "2022-09-19T21:09:40.310928Z"
    },
    "papermill": {
     "duration": 0.01746,
     "end_time": "2022-10-13T20:51:53.773750",
     "exception": false,
     "start_time": "2022-10-13T20:51:53.756290",
     "status": "completed"
    },
    "tags": []
   },
   "source": [
    "# Test Dataset\n",
    "Make final predictions on unknown house price value using features from Train data"
   ]
  },
  {
   "cell_type": "code",
   "execution_count": 29,
   "id": "3cf0f9f4",
   "metadata": {
    "execution": {
     "iopub.execute_input": "2022-10-13T20:51:53.811197Z",
     "iopub.status.busy": "2022-10-13T20:51:53.810768Z",
     "iopub.status.idle": "2022-10-13T20:51:53.888244Z",
     "shell.execute_reply": "2022-10-13T20:51:53.887173Z"
    },
    "papermill": {
     "duration": 0.099381,
     "end_time": "2022-10-13T20:51:53.890975",
     "exception": false,
     "start_time": "2022-10-13T20:51:53.791594",
     "status": "completed"
    },
    "tags": []
   },
   "outputs": [
    {
     "name": "stdout",
     "output_type": "stream",
     "text": [
      "(1459, 80)\n"
     ]
    },
    {
     "data": {
      "text/html": [
       "<div>\n",
       "<style scoped>\n",
       "    .dataframe tbody tr th:only-of-type {\n",
       "        vertical-align: middle;\n",
       "    }\n",
       "\n",
       "    .dataframe tbody tr th {\n",
       "        vertical-align: top;\n",
       "    }\n",
       "\n",
       "    .dataframe thead th {\n",
       "        text-align: right;\n",
       "    }\n",
       "</style>\n",
       "<table border=\"1\" class=\"dataframe\">\n",
       "  <thead>\n",
       "    <tr style=\"text-align: right;\">\n",
       "      <th></th>\n",
       "      <th>Id</th>\n",
       "      <th>MSSubClass</th>\n",
       "      <th>LotFrontage</th>\n",
       "      <th>LotArea</th>\n",
       "      <th>OverallQual</th>\n",
       "      <th>OverallCond</th>\n",
       "      <th>YearBuilt</th>\n",
       "      <th>YearRemodAdd</th>\n",
       "      <th>MasVnrArea</th>\n",
       "      <th>BsmtFinSF1</th>\n",
       "      <th>...</th>\n",
       "      <th>EnclosedPorch</th>\n",
       "      <th>3SsnPorch</th>\n",
       "      <th>ScreenPorch</th>\n",
       "      <th>PoolArea</th>\n",
       "      <th>MiscVal</th>\n",
       "      <th>MoSold</th>\n",
       "      <th>YrSold</th>\n",
       "      <th>totalSQ</th>\n",
       "      <th>bathrooms</th>\n",
       "      <th>NewConstruction</th>\n",
       "    </tr>\n",
       "  </thead>\n",
       "  <tbody>\n",
       "    <tr>\n",
       "      <th>0</th>\n",
       "      <td>1461</td>\n",
       "      <td>20</td>\n",
       "      <td>80.0</td>\n",
       "      <td>11622</td>\n",
       "      <td>5</td>\n",
       "      <td>6</td>\n",
       "      <td>1961</td>\n",
       "      <td>1961</td>\n",
       "      <td>0.0</td>\n",
       "      <td>468.0</td>\n",
       "      <td>...</td>\n",
       "      <td>0</td>\n",
       "      <td>0</td>\n",
       "      <td>120</td>\n",
       "      <td>0</td>\n",
       "      <td>0</td>\n",
       "      <td>6</td>\n",
       "      <td>2010</td>\n",
       "      <td>1778.0</td>\n",
       "      <td>1.0</td>\n",
       "      <td>0</td>\n",
       "    </tr>\n",
       "    <tr>\n",
       "      <th>1</th>\n",
       "      <td>1462</td>\n",
       "      <td>20</td>\n",
       "      <td>81.0</td>\n",
       "      <td>14267</td>\n",
       "      <td>6</td>\n",
       "      <td>6</td>\n",
       "      <td>1958</td>\n",
       "      <td>1958</td>\n",
       "      <td>108.0</td>\n",
       "      <td>923.0</td>\n",
       "      <td>...</td>\n",
       "      <td>0</td>\n",
       "      <td>0</td>\n",
       "      <td>0</td>\n",
       "      <td>0</td>\n",
       "      <td>12500</td>\n",
       "      <td>6</td>\n",
       "      <td>2010</td>\n",
       "      <td>2658.0</td>\n",
       "      <td>2.0</td>\n",
       "      <td>0</td>\n",
       "    </tr>\n",
       "    <tr>\n",
       "      <th>2</th>\n",
       "      <td>1463</td>\n",
       "      <td>60</td>\n",
       "      <td>74.0</td>\n",
       "      <td>13830</td>\n",
       "      <td>5</td>\n",
       "      <td>5</td>\n",
       "      <td>1997</td>\n",
       "      <td>1998</td>\n",
       "      <td>0.0</td>\n",
       "      <td>791.0</td>\n",
       "      <td>...</td>\n",
       "      <td>0</td>\n",
       "      <td>0</td>\n",
       "      <td>0</td>\n",
       "      <td>0</td>\n",
       "      <td>0</td>\n",
       "      <td>3</td>\n",
       "      <td>2010</td>\n",
       "      <td>2557.0</td>\n",
       "      <td>3.0</td>\n",
       "      <td>0</td>\n",
       "    </tr>\n",
       "    <tr>\n",
       "      <th>3</th>\n",
       "      <td>1464</td>\n",
       "      <td>60</td>\n",
       "      <td>78.0</td>\n",
       "      <td>9978</td>\n",
       "      <td>6</td>\n",
       "      <td>6</td>\n",
       "      <td>1998</td>\n",
       "      <td>1998</td>\n",
       "      <td>20.0</td>\n",
       "      <td>602.0</td>\n",
       "      <td>...</td>\n",
       "      <td>0</td>\n",
       "      <td>0</td>\n",
       "      <td>0</td>\n",
       "      <td>0</td>\n",
       "      <td>0</td>\n",
       "      <td>6</td>\n",
       "      <td>2010</td>\n",
       "      <td>2530.0</td>\n",
       "      <td>3.0</td>\n",
       "      <td>0</td>\n",
       "    </tr>\n",
       "    <tr>\n",
       "      <th>4</th>\n",
       "      <td>1465</td>\n",
       "      <td>120</td>\n",
       "      <td>43.0</td>\n",
       "      <td>5005</td>\n",
       "      <td>8</td>\n",
       "      <td>5</td>\n",
       "      <td>1992</td>\n",
       "      <td>1992</td>\n",
       "      <td>0.0</td>\n",
       "      <td>263.0</td>\n",
       "      <td>...</td>\n",
       "      <td>0</td>\n",
       "      <td>0</td>\n",
       "      <td>144</td>\n",
       "      <td>0</td>\n",
       "      <td>0</td>\n",
       "      <td>1</td>\n",
       "      <td>2010</td>\n",
       "      <td>2560.0</td>\n",
       "      <td>2.0</td>\n",
       "      <td>0</td>\n",
       "    </tr>\n",
       "  </tbody>\n",
       "</table>\n",
       "<p>5 rows × 41 columns</p>\n",
       "</div>"
      ],
      "text/plain": [
       "     Id  MSSubClass  LotFrontage  LotArea  OverallQual  OverallCond  \\\n",
       "0  1461          20         80.0    11622            5            6   \n",
       "1  1462          20         81.0    14267            6            6   \n",
       "2  1463          60         74.0    13830            5            5   \n",
       "3  1464          60         78.0     9978            6            6   \n",
       "4  1465         120         43.0     5005            8            5   \n",
       "\n",
       "   YearBuilt  YearRemodAdd  MasVnrArea  BsmtFinSF1  ...  EnclosedPorch  \\\n",
       "0       1961          1961         0.0       468.0  ...              0   \n",
       "1       1958          1958       108.0       923.0  ...              0   \n",
       "2       1997          1998         0.0       791.0  ...              0   \n",
       "3       1998          1998        20.0       602.0  ...              0   \n",
       "4       1992          1992         0.0       263.0  ...              0   \n",
       "\n",
       "   3SsnPorch  ScreenPorch  PoolArea  MiscVal  MoSold  YrSold  totalSQ  \\\n",
       "0          0          120         0        0       6    2010   1778.0   \n",
       "1          0            0         0    12500       6    2010   2658.0   \n",
       "2          0            0         0        0       3    2010   2557.0   \n",
       "3          0            0         0        0       6    2010   2530.0   \n",
       "4          0          144         0        0       1    2010   2560.0   \n",
       "\n",
       "   bathrooms  NewConstruction  \n",
       "0        1.0                0  \n",
       "1        2.0                0  \n",
       "2        3.0                0  \n",
       "3        3.0                0  \n",
       "4        2.0                0  \n",
       "\n",
       "[5 rows x 41 columns]"
      ]
     },
     "execution_count": 29,
     "metadata": {},
     "output_type": "execute_result"
    }
   ],
   "source": [
    "test='/kaggle/input/house-prices-advanced-regression-techniques/test.csv'\n",
    "testDF=pd.read_csv(test)\n",
    "print(testDF.shape)\n",
    "\n",
    "#Missing Values\n",
    "testDF=testDF.drop_duplicates()\n",
    "testDF['MiscFeature']=testDF['MiscFeature'].fillna(0)\n",
    "testDF['Alley']=testDF['Alley'].fillna(0)\n",
    "testDF['Fence']=testDF['Fence'].fillna(0)\n",
    "testDF['FireplaceQu']=testDF['FireplaceQu'].fillna(0)\n",
    "testDF=testDF.fillna(df.mean())\n",
    "\n",
    "# Feature Engineer\n",
    "testDF['totalSQ']=testDF['1stFlrSF']+testDF['2ndFlrSF']+testDF['TotalBsmtSF']\n",
    "testDF['bathrooms']=testDF['FullBath']+testDF['BsmtFullBath']+testDF['HalfBath']+testDF['BsmtHalfBath']\n",
    "testDF['CentralAir'] = testDF['CentralAir'].replace({'Y':0, 'N':1})\n",
    "testDF['NewConstruction'] = (testDF['SaleType'] == 'New').astype('int64')\n",
    "testDF[\"PoolScore\"] = testDF[\"PoolArea\"] * testDF[\"PoolQC\"]\n",
    "\n",
    "#testDF['SaleCondition']=testDF['SaleCondition'].apply(lambda x:1 if x == 'Normal' else 0)\n",
    "#testDF['Condition1']=testDF['Condition1'].apply(lambda x: 1 if x=='Norm' else 0)\n",
    "\n",
    "testDF = testDF.select_dtypes(include=['int16', 'int32', 'int64', 'float16', 'float32', 'float64'])\n",
    "testDF.head()"
   ]
  },
  {
   "cell_type": "code",
   "execution_count": 30,
   "id": "d95470fd",
   "metadata": {
    "execution": {
     "iopub.execute_input": "2022-10-13T20:51:53.928893Z",
     "iopub.status.busy": "2022-10-13T20:51:53.928576Z",
     "iopub.status.idle": "2022-10-13T20:51:53.934895Z",
     "shell.execute_reply": "2022-10-13T20:51:53.933918Z"
    },
    "papermill": {
     "duration": 0.027445,
     "end_time": "2022-10-13T20:51:53.936662",
     "exception": false,
     "start_time": "2022-10-13T20:51:53.909217",
     "status": "completed"
    },
    "tags": []
   },
   "outputs": [],
   "source": [
    "testIDs=testDF['Id']\n",
    "cols=X_test.columns\n",
    "testDF=testDF[cols]"
   ]
  },
  {
   "cell_type": "code",
   "execution_count": 31,
   "id": "dfdac05b",
   "metadata": {
    "execution": {
     "iopub.execute_input": "2022-10-13T20:51:53.974933Z",
     "iopub.status.busy": "2022-10-13T20:51:53.974382Z",
     "iopub.status.idle": "2022-10-13T20:51:53.994816Z",
     "shell.execute_reply": "2022-10-13T20:51:53.993588Z"
    },
    "papermill": {
     "duration": 0.042649,
     "end_time": "2022-10-13T20:51:53.997350",
     "exception": false,
     "start_time": "2022-10-13T20:51:53.954701",
     "status": "completed"
    },
    "tags": []
   },
   "outputs": [],
   "source": [
    "#Final Prediction\n",
    "finalPred=xgbFinal.predict(testDF).round(2)\n",
    "tupDF=list(zip(testIDs,finalPred))"
   ]
  },
  {
   "cell_type": "code",
   "execution_count": 32,
   "id": "a951848d",
   "metadata": {
    "execution": {
     "iopub.execute_input": "2022-10-13T20:51:54.036072Z",
     "iopub.status.busy": "2022-10-13T20:51:54.035738Z",
     "iopub.status.idle": "2022-10-13T20:51:54.048101Z",
     "shell.execute_reply": "2022-10-13T20:51:54.047173Z"
    },
    "papermill": {
     "duration": 0.034015,
     "end_time": "2022-10-13T20:51:54.050196",
     "exception": false,
     "start_time": "2022-10-13T20:51:54.016181",
     "status": "completed"
    },
    "tags": []
   },
   "outputs": [
    {
     "data": {
      "text/html": [
       "<div>\n",
       "<style scoped>\n",
       "    .dataframe tbody tr th:only-of-type {\n",
       "        vertical-align: middle;\n",
       "    }\n",
       "\n",
       "    .dataframe tbody tr th {\n",
       "        vertical-align: top;\n",
       "    }\n",
       "\n",
       "    .dataframe thead th {\n",
       "        text-align: right;\n",
       "    }\n",
       "</style>\n",
       "<table border=\"1\" class=\"dataframe\">\n",
       "  <thead>\n",
       "    <tr style=\"text-align: right;\">\n",
       "      <th></th>\n",
       "      <th>Id</th>\n",
       "      <th>SalePrice</th>\n",
       "    </tr>\n",
       "  </thead>\n",
       "  <tbody>\n",
       "    <tr>\n",
       "      <th>0</th>\n",
       "      <td>1461</td>\n",
       "      <td>128867.601562</td>\n",
       "    </tr>\n",
       "    <tr>\n",
       "      <th>1</th>\n",
       "      <td>1462</td>\n",
       "      <td>167937.312500</td>\n",
       "    </tr>\n",
       "    <tr>\n",
       "      <th>2</th>\n",
       "      <td>1463</td>\n",
       "      <td>184798.187500</td>\n",
       "    </tr>\n",
       "    <tr>\n",
       "      <th>3</th>\n",
       "      <td>1464</td>\n",
       "      <td>197105.375000</td>\n",
       "    </tr>\n",
       "    <tr>\n",
       "      <th>4</th>\n",
       "      <td>1465</td>\n",
       "      <td>177107.312500</td>\n",
       "    </tr>\n",
       "  </tbody>\n",
       "</table>\n",
       "</div>"
      ],
      "text/plain": [
       "     Id      SalePrice\n",
       "0  1461  128867.601562\n",
       "1  1462  167937.312500\n",
       "2  1463  184798.187500\n",
       "3  1464  197105.375000\n",
       "4  1465  177107.312500"
      ]
     },
     "execution_count": 32,
     "metadata": {},
     "output_type": "execute_result"
    }
   ],
   "source": [
    "output=pd.DataFrame(tupDF, columns=['Id','SalePrice']).sort_values(by='Id').reset_index(drop=True)\n",
    "output.head()"
   ]
  },
  {
   "cell_type": "markdown",
   "id": "901971a4",
   "metadata": {
    "papermill": {
     "duration": 0.018735,
     "end_time": "2022-10-13T20:51:54.087420",
     "exception": false,
     "start_time": "2022-10-13T20:51:54.068685",
     "status": "completed"
    },
    "tags": []
   },
   "source": [
    "### Final Prediction"
   ]
  },
  {
   "cell_type": "code",
   "execution_count": 33,
   "id": "bff0da98",
   "metadata": {
    "execution": {
     "iopub.execute_input": "2022-10-13T20:51:54.126350Z",
     "iopub.status.busy": "2022-10-13T20:51:54.125826Z",
     "iopub.status.idle": "2022-10-13T20:51:54.137929Z",
     "shell.execute_reply": "2022-10-13T20:51:54.136254Z"
    },
    "papermill": {
     "duration": 0.033793,
     "end_time": "2022-10-13T20:51:54.139826",
     "exception": false,
     "start_time": "2022-10-13T20:51:54.106033",
     "status": "completed"
    },
    "tags": []
   },
   "outputs": [
    {
     "name": "stdout",
     "output_type": "stream",
     "text": [
      "(1459, 2)\n",
      "Output Created\n"
     ]
    }
   ],
   "source": [
    "print(output.shape)\n",
    "output.to_csv('submission.csv', index=False)\n",
    "print(\"Output Created\")"
   ]
  }
 ],
 "metadata": {
  "kernelspec": {
   "display_name": "Python 3",
   "language": "python",
   "name": "python3"
  },
  "language_info": {
   "codemirror_mode": {
    "name": "ipython",
    "version": 3
   },
   "file_extension": ".py",
   "mimetype": "text/x-python",
   "name": "python",
   "nbconvert_exporter": "python",
   "pygments_lexer": "ipython3",
   "version": "3.7.12"
  },
  "papermill": {
   "default_parameters": {},
   "duration": 37.964505,
   "end_time": "2022-10-13T20:51:54.879726",
   "environment_variables": {},
   "exception": null,
   "input_path": "__notebook__.ipynb",
   "output_path": "__notebook__.ipynb",
   "parameters": {},
   "start_time": "2022-10-13T20:51:16.915221",
   "version": "2.3.4"
  }
 },
 "nbformat": 4,
 "nbformat_minor": 5
}
