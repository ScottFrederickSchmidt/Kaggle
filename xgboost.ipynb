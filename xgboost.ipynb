{
 "cells": [
  {
   "cell_type": "markdown",
   "id": "cedbd786",
   "metadata": {
    "papermill": {
     "duration": 0.006181,
     "end_time": "2022-09-20T15:56:33.779533",
     "exception": false,
     "start_time": "2022-09-20T15:56:33.773352",
     "status": "completed"
    },
    "tags": []
   },
   "source": [
    "# Predict House Price\n",
    "xgBoost Only. My original House Price prediction can be found here:\n",
    "https://github.com/ScottySchmidt/Kaggle\n",
    "\n",
    "Currently my algo scores top 59% so I need much more research how to improve my score."
   ]
  },
  {
   "cell_type": "code",
   "execution_count": 1,
   "id": "cf7e75f2",
   "metadata": {
    "execution": {
     "iopub.execute_input": "2022-09-20T15:56:33.791057Z",
     "iopub.status.busy": "2022-09-20T15:56:33.790642Z",
     "iopub.status.idle": "2022-09-20T15:56:33.880492Z",
     "shell.execute_reply": "2022-09-20T15:56:33.879205Z"
    },
    "papermill": {
     "duration": 0.099225,
     "end_time": "2022-09-20T15:56:33.883920",
     "exception": false,
     "start_time": "2022-09-20T15:56:33.784695",
     "status": "completed"
    },
    "tags": []
   },
   "outputs": [
    {
     "name": "stdout",
     "output_type": "stream",
     "text": [
      "(1460, 81)\n"
     ]
    },
    {
     "data": {
      "text/html": [
       "<div>\n",
       "<style scoped>\n",
       "    .dataframe tbody tr th:only-of-type {\n",
       "        vertical-align: middle;\n",
       "    }\n",
       "\n",
       "    .dataframe tbody tr th {\n",
       "        vertical-align: top;\n",
       "    }\n",
       "\n",
       "    .dataframe thead th {\n",
       "        text-align: right;\n",
       "    }\n",
       "</style>\n",
       "<table border=\"1\" class=\"dataframe\">\n",
       "  <thead>\n",
       "    <tr style=\"text-align: right;\">\n",
       "      <th></th>\n",
       "      <th>Id</th>\n",
       "      <th>MSSubClass</th>\n",
       "      <th>MSZoning</th>\n",
       "      <th>LotFrontage</th>\n",
       "      <th>LotArea</th>\n",
       "      <th>Street</th>\n",
       "      <th>Alley</th>\n",
       "      <th>LotShape</th>\n",
       "      <th>LandContour</th>\n",
       "      <th>Utilities</th>\n",
       "      <th>...</th>\n",
       "      <th>PoolArea</th>\n",
       "      <th>PoolQC</th>\n",
       "      <th>Fence</th>\n",
       "      <th>MiscFeature</th>\n",
       "      <th>MiscVal</th>\n",
       "      <th>MoSold</th>\n",
       "      <th>YrSold</th>\n",
       "      <th>SaleType</th>\n",
       "      <th>SaleCondition</th>\n",
       "      <th>SalePrice</th>\n",
       "    </tr>\n",
       "  </thead>\n",
       "  <tbody>\n",
       "    <tr>\n",
       "      <th>0</th>\n",
       "      <td>1</td>\n",
       "      <td>60</td>\n",
       "      <td>RL</td>\n",
       "      <td>65.0</td>\n",
       "      <td>8450</td>\n",
       "      <td>Pave</td>\n",
       "      <td>NaN</td>\n",
       "      <td>Reg</td>\n",
       "      <td>Lvl</td>\n",
       "      <td>AllPub</td>\n",
       "      <td>...</td>\n",
       "      <td>0</td>\n",
       "      <td>NaN</td>\n",
       "      <td>NaN</td>\n",
       "      <td>NaN</td>\n",
       "      <td>0</td>\n",
       "      <td>2</td>\n",
       "      <td>2008</td>\n",
       "      <td>WD</td>\n",
       "      <td>Normal</td>\n",
       "      <td>208500</td>\n",
       "    </tr>\n",
       "    <tr>\n",
       "      <th>1</th>\n",
       "      <td>2</td>\n",
       "      <td>20</td>\n",
       "      <td>RL</td>\n",
       "      <td>80.0</td>\n",
       "      <td>9600</td>\n",
       "      <td>Pave</td>\n",
       "      <td>NaN</td>\n",
       "      <td>Reg</td>\n",
       "      <td>Lvl</td>\n",
       "      <td>AllPub</td>\n",
       "      <td>...</td>\n",
       "      <td>0</td>\n",
       "      <td>NaN</td>\n",
       "      <td>NaN</td>\n",
       "      <td>NaN</td>\n",
       "      <td>0</td>\n",
       "      <td>5</td>\n",
       "      <td>2007</td>\n",
       "      <td>WD</td>\n",
       "      <td>Normal</td>\n",
       "      <td>181500</td>\n",
       "    </tr>\n",
       "    <tr>\n",
       "      <th>2</th>\n",
       "      <td>3</td>\n",
       "      <td>60</td>\n",
       "      <td>RL</td>\n",
       "      <td>68.0</td>\n",
       "      <td>11250</td>\n",
       "      <td>Pave</td>\n",
       "      <td>NaN</td>\n",
       "      <td>IR1</td>\n",
       "      <td>Lvl</td>\n",
       "      <td>AllPub</td>\n",
       "      <td>...</td>\n",
       "      <td>0</td>\n",
       "      <td>NaN</td>\n",
       "      <td>NaN</td>\n",
       "      <td>NaN</td>\n",
       "      <td>0</td>\n",
       "      <td>9</td>\n",
       "      <td>2008</td>\n",
       "      <td>WD</td>\n",
       "      <td>Normal</td>\n",
       "      <td>223500</td>\n",
       "    </tr>\n",
       "    <tr>\n",
       "      <th>3</th>\n",
       "      <td>4</td>\n",
       "      <td>70</td>\n",
       "      <td>RL</td>\n",
       "      <td>60.0</td>\n",
       "      <td>9550</td>\n",
       "      <td>Pave</td>\n",
       "      <td>NaN</td>\n",
       "      <td>IR1</td>\n",
       "      <td>Lvl</td>\n",
       "      <td>AllPub</td>\n",
       "      <td>...</td>\n",
       "      <td>0</td>\n",
       "      <td>NaN</td>\n",
       "      <td>NaN</td>\n",
       "      <td>NaN</td>\n",
       "      <td>0</td>\n",
       "      <td>2</td>\n",
       "      <td>2006</td>\n",
       "      <td>WD</td>\n",
       "      <td>Abnorml</td>\n",
       "      <td>140000</td>\n",
       "    </tr>\n",
       "    <tr>\n",
       "      <th>4</th>\n",
       "      <td>5</td>\n",
       "      <td>60</td>\n",
       "      <td>RL</td>\n",
       "      <td>84.0</td>\n",
       "      <td>14260</td>\n",
       "      <td>Pave</td>\n",
       "      <td>NaN</td>\n",
       "      <td>IR1</td>\n",
       "      <td>Lvl</td>\n",
       "      <td>AllPub</td>\n",
       "      <td>...</td>\n",
       "      <td>0</td>\n",
       "      <td>NaN</td>\n",
       "      <td>NaN</td>\n",
       "      <td>NaN</td>\n",
       "      <td>0</td>\n",
       "      <td>12</td>\n",
       "      <td>2008</td>\n",
       "      <td>WD</td>\n",
       "      <td>Normal</td>\n",
       "      <td>250000</td>\n",
       "    </tr>\n",
       "  </tbody>\n",
       "</table>\n",
       "<p>5 rows × 81 columns</p>\n",
       "</div>"
      ],
      "text/plain": [
       "   Id  MSSubClass MSZoning  LotFrontage  LotArea Street Alley LotShape  \\\n",
       "0   1          60       RL         65.0     8450   Pave   NaN      Reg   \n",
       "1   2          20       RL         80.0     9600   Pave   NaN      Reg   \n",
       "2   3          60       RL         68.0    11250   Pave   NaN      IR1   \n",
       "3   4          70       RL         60.0     9550   Pave   NaN      IR1   \n",
       "4   5          60       RL         84.0    14260   Pave   NaN      IR1   \n",
       "\n",
       "  LandContour Utilities  ... PoolArea PoolQC Fence MiscFeature MiscVal MoSold  \\\n",
       "0         Lvl    AllPub  ...        0    NaN   NaN         NaN       0      2   \n",
       "1         Lvl    AllPub  ...        0    NaN   NaN         NaN       0      5   \n",
       "2         Lvl    AllPub  ...        0    NaN   NaN         NaN       0      9   \n",
       "3         Lvl    AllPub  ...        0    NaN   NaN         NaN       0      2   \n",
       "4         Lvl    AllPub  ...        0    NaN   NaN         NaN       0     12   \n",
       "\n",
       "  YrSold  SaleType  SaleCondition  SalePrice  \n",
       "0   2008        WD         Normal     208500  \n",
       "1   2007        WD         Normal     181500  \n",
       "2   2008        WD         Normal     223500  \n",
       "3   2006        WD        Abnorml     140000  \n",
       "4   2008        WD         Normal     250000  \n",
       "\n",
       "[5 rows x 81 columns]"
      ]
     },
     "execution_count": 1,
     "metadata": {},
     "output_type": "execute_result"
    }
   ],
   "source": [
    "import pandas as pd\n",
    "import numpy as np\n",
    "import sys\n",
    "import matplotlib.pyplot as plt\n",
    "\n",
    "data='/kaggle/input/house-prices-advanced-regression-techniques/train.csv'\n",
    "df=pd.read_csv(data)\n",
    "print(df.shape)\n",
    "df.head()"
   ]
  },
  {
   "cell_type": "markdown",
   "id": "3448a3f8",
   "metadata": {
    "papermill": {
     "duration": 0.005295,
     "end_time": "2022-09-20T15:56:33.894645",
     "exception": false,
     "start_time": "2022-09-20T15:56:33.889350",
     "status": "completed"
    },
    "tags": []
   },
   "source": [
    "# Missing Values"
   ]
  },
  {
   "cell_type": "code",
   "execution_count": 2,
   "id": "a95ddfba",
   "metadata": {
    "execution": {
     "iopub.execute_input": "2022-09-20T15:56:33.907862Z",
     "iopub.status.busy": "2022-09-20T15:56:33.907001Z",
     "iopub.status.idle": "2022-09-20T15:56:33.918816Z",
     "shell.execute_reply": "2022-09-20T15:56:33.917497Z"
    },
    "papermill": {
     "duration": 0.020428,
     "end_time": "2022-09-20T15:56:33.920673",
     "exception": false,
     "start_time": "2022-09-20T15:56:33.900245",
     "status": "completed"
    },
    "tags": []
   },
   "outputs": [
    {
     "name": "stdout",
     "output_type": "stream",
     "text": [
      "Missing data by column as a percent:\n",
      "PoolQC         21.686567\n",
      "MiscFeature    20.985075\n",
      "Alley          20.432836\n",
      "Fence          17.597015\n",
      "FireplaceQu    10.298507\n",
      "LotFrontage     3.865672\n",
      "GarageYrBlt     1.208955\n",
      "GarageCond      1.208955\n",
      "dtype: float64\n"
     ]
    }
   ],
   "source": [
    "#search for columns with missing values:\n",
    "def findNA():\n",
    "    print(\"Missing data by column as a percent:\")\n",
    "    findNA=df.isnull().sum().sort_values(ascending=False)/len(data)\n",
    "    print(findNA.head(8))\n",
    "findNA() "
   ]
  },
  {
   "cell_type": "code",
   "execution_count": 3,
   "id": "f21032ed",
   "metadata": {
    "execution": {
     "iopub.execute_input": "2022-09-20T15:56:33.933673Z",
     "iopub.status.busy": "2022-09-20T15:56:33.932872Z",
     "iopub.status.idle": "2022-09-20T15:56:33.969464Z",
     "shell.execute_reply": "2022-09-20T15:56:33.968289Z"
    },
    "papermill": {
     "duration": 0.045838,
     "end_time": "2022-09-20T15:56:33.972136",
     "exception": false,
     "start_time": "2022-09-20T15:56:33.926298",
     "status": "completed"
    },
    "tags": []
   },
   "outputs": [
    {
     "name": "stdout",
     "output_type": "stream",
     "text": [
      "(1460, 75)\n"
     ]
    },
    {
     "name": "stderr",
     "output_type": "stream",
     "text": [
      "/opt/conda/lib/python3.7/site-packages/ipykernel_launcher.py:1: FutureWarning: Dropping of nuisance columns in DataFrame reductions (with 'numeric_only=None') is deprecated; in a future version this will raise TypeError.  Select only valid columns before calling the reduction.\n",
      "  \"\"\"Entry point for launching an IPython kernel.\n"
     ]
    }
   ],
   "source": [
    "df=df.fillna(df.mean())\n",
    "df=df.drop(columns=['PoolQC', 'MiscFeature', 'Alley', 'Fence', 'FireplaceQu', 'LotFrontage'])\n",
    "print(df.shape)"
   ]
  },
  {
   "cell_type": "code",
   "execution_count": 4,
   "id": "5b591459",
   "metadata": {
    "execution": {
     "iopub.execute_input": "2022-09-20T15:56:33.985136Z",
     "iopub.status.busy": "2022-09-20T15:56:33.984852Z",
     "iopub.status.idle": "2022-09-20T15:56:33.991072Z",
     "shell.execute_reply": "2022-09-20T15:56:33.990243Z"
    },
    "papermill": {
     "duration": 0.015102,
     "end_time": "2022-09-20T15:56:33.993181",
     "exception": false,
     "start_time": "2022-09-20T15:56:33.978079",
     "status": "completed"
    },
    "tags": []
   },
   "outputs": [
    {
     "data": {
      "text/plain": [
       "Index(['Id', 'MSSubClass', 'MSZoning', 'LotArea', 'Street', 'LotShape',\n",
       "       'LandContour', 'Utilities', 'LotConfig', 'LandSlope', 'Neighborhood',\n",
       "       'Condition1', 'Condition2', 'BldgType', 'HouseStyle', 'OverallQual',\n",
       "       'OverallCond', 'YearBuilt', 'YearRemodAdd', 'RoofStyle', 'RoofMatl',\n",
       "       'Exterior1st', 'Exterior2nd', 'MasVnrType', 'MasVnrArea', 'ExterQual',\n",
       "       'ExterCond', 'Foundation', 'BsmtQual', 'BsmtCond', 'BsmtExposure',\n",
       "       'BsmtFinType1', 'BsmtFinSF1', 'BsmtFinType2', 'BsmtFinSF2', 'BsmtUnfSF',\n",
       "       'TotalBsmtSF', 'Heating', 'HeatingQC', 'CentralAir', 'Electrical',\n",
       "       '1stFlrSF', '2ndFlrSF', 'LowQualFinSF', 'GrLivArea', 'BsmtFullBath',\n",
       "       'BsmtHalfBath', 'FullBath', 'HalfBath', 'BedroomAbvGr', 'KitchenAbvGr',\n",
       "       'KitchenQual', 'TotRmsAbvGrd', 'Functional', 'Fireplaces', 'GarageType',\n",
       "       'GarageYrBlt', 'GarageFinish', 'GarageCars', 'GarageArea', 'GarageQual',\n",
       "       'GarageCond', 'PavedDrive', 'WoodDeckSF', 'OpenPorchSF',\n",
       "       'EnclosedPorch', '3SsnPorch', 'ScreenPorch', 'PoolArea', 'MiscVal',\n",
       "       'MoSold', 'YrSold', 'SaleType', 'SaleCondition', 'SalePrice'],\n",
       "      dtype='object')"
      ]
     },
     "execution_count": 4,
     "metadata": {},
     "output_type": "execute_result"
    }
   ],
   "source": [
    "df.columns"
   ]
  },
  {
   "cell_type": "markdown",
   "id": "c4abd871",
   "metadata": {
    "papermill": {
     "duration": 0.005659,
     "end_time": "2022-09-20T15:56:34.004858",
     "exception": false,
     "start_time": "2022-09-20T15:56:33.999199",
     "status": "completed"
    },
    "tags": []
   },
   "source": [
    "# Encode Data"
   ]
  },
  {
   "cell_type": "code",
   "execution_count": 5,
   "id": "794ef509",
   "metadata": {
    "execution": {
     "iopub.execute_input": "2022-09-20T15:56:34.018014Z",
     "iopub.status.busy": "2022-09-20T15:56:34.017329Z",
     "iopub.status.idle": "2022-09-20T15:56:34.038883Z",
     "shell.execute_reply": "2022-09-20T15:56:34.038036Z"
    },
    "papermill": {
     "duration": 0.030541,
     "end_time": "2022-09-20T15:56:34.040982",
     "exception": false,
     "start_time": "2022-09-20T15:56:34.010441",
     "status": "completed"
    },
    "tags": []
   },
   "outputs": [
    {
     "data": {
      "text/html": [
       "<div>\n",
       "<style scoped>\n",
       "    .dataframe tbody tr th:only-of-type {\n",
       "        vertical-align: middle;\n",
       "    }\n",
       "\n",
       "    .dataframe tbody tr th {\n",
       "        vertical-align: top;\n",
       "    }\n",
       "\n",
       "    .dataframe thead th {\n",
       "        text-align: right;\n",
       "    }\n",
       "</style>\n",
       "<table border=\"1\" class=\"dataframe\">\n",
       "  <thead>\n",
       "    <tr style=\"text-align: right;\">\n",
       "      <th></th>\n",
       "      <th>Id</th>\n",
       "      <th>MSSubClass</th>\n",
       "      <th>MSZoning</th>\n",
       "      <th>LotArea</th>\n",
       "      <th>Street</th>\n",
       "      <th>LotShape</th>\n",
       "      <th>LandContour</th>\n",
       "      <th>Utilities</th>\n",
       "      <th>LotConfig</th>\n",
       "      <th>LandSlope</th>\n",
       "      <th>...</th>\n",
       "      <th>3SsnPorch</th>\n",
       "      <th>ScreenPorch</th>\n",
       "      <th>PoolArea</th>\n",
       "      <th>MiscVal</th>\n",
       "      <th>MoSold</th>\n",
       "      <th>YrSold</th>\n",
       "      <th>SaleType</th>\n",
       "      <th>SaleCondition</th>\n",
       "      <th>SalePrice</th>\n",
       "      <th>totalSQ</th>\n",
       "    </tr>\n",
       "  </thead>\n",
       "  <tbody>\n",
       "    <tr>\n",
       "      <th>0</th>\n",
       "      <td>1</td>\n",
       "      <td>60</td>\n",
       "      <td>RL</td>\n",
       "      <td>8450</td>\n",
       "      <td>Pave</td>\n",
       "      <td>Reg</td>\n",
       "      <td>Lvl</td>\n",
       "      <td>AllPub</td>\n",
       "      <td>Inside</td>\n",
       "      <td>Gtl</td>\n",
       "      <td>...</td>\n",
       "      <td>0</td>\n",
       "      <td>0</td>\n",
       "      <td>0</td>\n",
       "      <td>0</td>\n",
       "      <td>2</td>\n",
       "      <td>2008</td>\n",
       "      <td>WD</td>\n",
       "      <td>Normal</td>\n",
       "      <td>208500</td>\n",
       "      <td>2566</td>\n",
       "    </tr>\n",
       "    <tr>\n",
       "      <th>1</th>\n",
       "      <td>2</td>\n",
       "      <td>20</td>\n",
       "      <td>RL</td>\n",
       "      <td>9600</td>\n",
       "      <td>Pave</td>\n",
       "      <td>Reg</td>\n",
       "      <td>Lvl</td>\n",
       "      <td>AllPub</td>\n",
       "      <td>FR2</td>\n",
       "      <td>Gtl</td>\n",
       "      <td>...</td>\n",
       "      <td>0</td>\n",
       "      <td>0</td>\n",
       "      <td>0</td>\n",
       "      <td>0</td>\n",
       "      <td>5</td>\n",
       "      <td>2007</td>\n",
       "      <td>WD</td>\n",
       "      <td>Normal</td>\n",
       "      <td>181500</td>\n",
       "      <td>2524</td>\n",
       "    </tr>\n",
       "    <tr>\n",
       "      <th>2</th>\n",
       "      <td>3</td>\n",
       "      <td>60</td>\n",
       "      <td>RL</td>\n",
       "      <td>11250</td>\n",
       "      <td>Pave</td>\n",
       "      <td>IR1</td>\n",
       "      <td>Lvl</td>\n",
       "      <td>AllPub</td>\n",
       "      <td>Inside</td>\n",
       "      <td>Gtl</td>\n",
       "      <td>...</td>\n",
       "      <td>0</td>\n",
       "      <td>0</td>\n",
       "      <td>0</td>\n",
       "      <td>0</td>\n",
       "      <td>9</td>\n",
       "      <td>2008</td>\n",
       "      <td>WD</td>\n",
       "      <td>Normal</td>\n",
       "      <td>223500</td>\n",
       "      <td>2706</td>\n",
       "    </tr>\n",
       "    <tr>\n",
       "      <th>3</th>\n",
       "      <td>4</td>\n",
       "      <td>70</td>\n",
       "      <td>RL</td>\n",
       "      <td>9550</td>\n",
       "      <td>Pave</td>\n",
       "      <td>IR1</td>\n",
       "      <td>Lvl</td>\n",
       "      <td>AllPub</td>\n",
       "      <td>Corner</td>\n",
       "      <td>Gtl</td>\n",
       "      <td>...</td>\n",
       "      <td>0</td>\n",
       "      <td>0</td>\n",
       "      <td>0</td>\n",
       "      <td>0</td>\n",
       "      <td>2</td>\n",
       "      <td>2006</td>\n",
       "      <td>WD</td>\n",
       "      <td>Abnorml</td>\n",
       "      <td>140000</td>\n",
       "      <td>2473</td>\n",
       "    </tr>\n",
       "    <tr>\n",
       "      <th>4</th>\n",
       "      <td>5</td>\n",
       "      <td>60</td>\n",
       "      <td>RL</td>\n",
       "      <td>14260</td>\n",
       "      <td>Pave</td>\n",
       "      <td>IR1</td>\n",
       "      <td>Lvl</td>\n",
       "      <td>AllPub</td>\n",
       "      <td>FR2</td>\n",
       "      <td>Gtl</td>\n",
       "      <td>...</td>\n",
       "      <td>0</td>\n",
       "      <td>0</td>\n",
       "      <td>0</td>\n",
       "      <td>0</td>\n",
       "      <td>12</td>\n",
       "      <td>2008</td>\n",
       "      <td>WD</td>\n",
       "      <td>Normal</td>\n",
       "      <td>250000</td>\n",
       "      <td>3343</td>\n",
       "    </tr>\n",
       "  </tbody>\n",
       "</table>\n",
       "<p>5 rows × 76 columns</p>\n",
       "</div>"
      ],
      "text/plain": [
       "   Id  MSSubClass MSZoning  LotArea Street LotShape LandContour Utilities  \\\n",
       "0   1          60       RL     8450   Pave      Reg         Lvl    AllPub   \n",
       "1   2          20       RL     9600   Pave      Reg         Lvl    AllPub   \n",
       "2   3          60       RL    11250   Pave      IR1         Lvl    AllPub   \n",
       "3   4          70       RL     9550   Pave      IR1         Lvl    AllPub   \n",
       "4   5          60       RL    14260   Pave      IR1         Lvl    AllPub   \n",
       "\n",
       "  LotConfig LandSlope  ... 3SsnPorch ScreenPorch PoolArea MiscVal MoSold  \\\n",
       "0    Inside       Gtl  ...         0           0        0       0      2   \n",
       "1       FR2       Gtl  ...         0           0        0       0      5   \n",
       "2    Inside       Gtl  ...         0           0        0       0      9   \n",
       "3    Corner       Gtl  ...         0           0        0       0      2   \n",
       "4       FR2       Gtl  ...         0           0        0       0     12   \n",
       "\n",
       "   YrSold  SaleType  SaleCondition  SalePrice totalSQ  \n",
       "0    2008        WD         Normal     208500    2566  \n",
       "1    2007        WD         Normal     181500    2524  \n",
       "2    2008        WD         Normal     223500    2706  \n",
       "3    2006        WD        Abnorml     140000    2473  \n",
       "4    2008        WD         Normal     250000    3343  \n",
       "\n",
       "[5 rows x 76 columns]"
      ]
     },
     "execution_count": 5,
     "metadata": {},
     "output_type": "execute_result"
    }
   ],
   "source": [
    "df['totalSQ']=df['1stFlrSF']+df['2ndFlrSF']+df['TotalBsmtSF'].drop(columns=['1stFlrSF', '2ndFlrSF', \n",
    "                'TotalBsmtSF'])\n",
    "df.head()"
   ]
  },
  {
   "cell_type": "code",
   "execution_count": 6,
   "id": "55942b75",
   "metadata": {
    "execution": {
     "iopub.execute_input": "2022-09-20T15:56:34.054615Z",
     "iopub.status.busy": "2022-09-20T15:56:34.054288Z",
     "iopub.status.idle": "2022-09-20T15:56:34.063100Z",
     "shell.execute_reply": "2022-09-20T15:56:34.062097Z"
    },
    "papermill": {
     "duration": 0.017933,
     "end_time": "2022-09-20T15:56:34.065091",
     "exception": false,
     "start_time": "2022-09-20T15:56:34.047158",
     "status": "completed"
    },
    "tags": []
   },
   "outputs": [],
   "source": [
    "numerics = ['int16', 'int32', 'int64', 'float16', 'float32', 'float64']\n",
    "df = df.select_dtypes(include=numerics)"
   ]
  },
  {
   "cell_type": "markdown",
   "id": "df1c09d0",
   "metadata": {
    "papermill": {
     "duration": 0.005819,
     "end_time": "2022-09-20T15:56:34.077104",
     "exception": false,
     "start_time": "2022-09-20T15:56:34.071285",
     "status": "completed"
    },
    "tags": []
   },
   "source": [
    "# Split Data"
   ]
  },
  {
   "cell_type": "code",
   "execution_count": 7,
   "id": "9b1e7b0b",
   "metadata": {
    "execution": {
     "iopub.execute_input": "2022-09-20T15:56:34.090558Z",
     "iopub.status.busy": "2022-09-20T15:56:34.090220Z",
     "iopub.status.idle": "2022-09-20T15:56:35.036764Z",
     "shell.execute_reply": "2022-09-20T15:56:35.035805Z"
    },
    "papermill": {
     "duration": 0.956146,
     "end_time": "2022-09-20T15:56:35.039238",
     "exception": false,
     "start_time": "2022-09-20T15:56:34.083092",
     "status": "completed"
    },
    "tags": []
   },
   "outputs": [],
   "source": [
    "from sklearn.model_selection import train_test_split\n",
    "\n",
    "X=df.drop(\"SalePrice\", axis='columns')\n",
    "y=df['SalePrice']\n",
    "\n",
    "X_train, X_test, y_train, y_test = train_test_split(\n",
    "X, y, test_size=0.33, random_state=42)"
   ]
  },
  {
   "cell_type": "markdown",
   "id": "9a4f33b7",
   "metadata": {
    "papermill": {
     "duration": 0.005732,
     "end_time": "2022-09-20T15:56:35.052537",
     "exception": false,
     "start_time": "2022-09-20T15:56:35.046805",
     "status": "completed"
    },
    "tags": []
   },
   "source": [
    "# xgBoost"
   ]
  },
  {
   "cell_type": "code",
   "execution_count": 8,
   "id": "bdecd6b3",
   "metadata": {
    "execution": {
     "iopub.execute_input": "2022-09-20T15:56:35.066441Z",
     "iopub.status.busy": "2022-09-20T15:56:35.065868Z",
     "iopub.status.idle": "2022-09-20T15:56:35.498369Z",
     "shell.execute_reply": "2022-09-20T15:56:35.497538Z"
    },
    "papermill": {
     "duration": 0.442371,
     "end_time": "2022-09-20T15:56:35.500912",
     "exception": false,
     "start_time": "2022-09-20T15:56:35.058541",
     "status": "completed"
    },
    "tags": []
   },
   "outputs": [
    {
     "name": "stdout",
     "output_type": "stream",
     "text": [
      "0.8241\n",
      "18663.191187435164\n"
     ]
    }
   ],
   "source": [
    "import xgboost as xgb\n",
    "from sklearn.metrics import mean_squared_error, r2_score, mean_absolute_error\n",
    "\n",
    "regressor = xgb.XGBRegressor(\n",
    "    n_estimators=100,\n",
    "    reg_lambda=1,\n",
    "    gamma=0,\n",
    "    max_depth=3\n",
    ")\n",
    "\n",
    "regressor.fit(X_train, y_train)\n",
    "y_pred = regressor.predict(X_test)\n",
    "\n",
    "xgbMSE=mean_absolute_error(y_test, y_pred)\n",
    "xgR2 = r2_score(y_test, y_pred).round(4)\n",
    "print(xgR2)\n",
    "print(xgbMSE)"
   ]
  },
  {
   "cell_type": "markdown",
   "id": "48f02c8c",
   "metadata": {
    "papermill": {
     "duration": 0.006343,
     "end_time": "2022-09-20T15:56:35.515266",
     "exception": false,
     "start_time": "2022-09-20T15:56:35.508923",
     "status": "completed"
    },
    "tags": []
   },
   "source": [
    "### Max Depth Tunning\n",
    "Four for max depth is clearly the magic number with the least amount of error and highest accuracy. "
   ]
  },
  {
   "cell_type": "code",
   "execution_count": 9,
   "id": "0d8cafa7",
   "metadata": {
    "execution": {
     "iopub.execute_input": "2022-09-20T15:56:35.531070Z",
     "iopub.status.busy": "2022-09-20T15:56:35.530348Z",
     "iopub.status.idle": "2022-09-20T15:56:40.036295Z",
     "shell.execute_reply": "2022-09-20T15:56:40.035633Z"
    },
    "papermill": {
     "duration": 4.517929,
     "end_time": "2022-09-20T15:56:40.041059",
     "exception": false,
     "start_time": "2022-09-20T15:56:35.523130",
     "status": "completed"
    },
    "tags": []
   },
   "outputs": [
    {
     "data": {
      "image/png": "[encoded data removed]",
      "text/plain": [
       "<Figure size 432x288 with 1 Axes>"
      ]
     },
     "metadata": {
      "needs_background": "light"
     },
     "output_type": "display_data"
    },
    {
     "data": {
      "image/png": "[encoded data removed]",
      "text/plain": [
       "<Figure size 432x288 with 1 Axes>"
      ]
     },
     "metadata": {
      "needs_background": "light"
     },
     "output_type": "display_data"
    }
   ],
   "source": [
    "maxDepth=[2, 3, 4, 5, 6, 7, 8, 9, 10]\n",
    "listMSE=[]\n",
    "listR2=[]\n",
    "\n",
    "for d in maxDepth:\n",
    "    regressor = xgb.XGBRegressor(\n",
    "        n_estimators=100,\n",
    "        reg_lambda=1,\n",
    "        gamma=0,\n",
    "        max_depth=d\n",
    "    )\n",
    "    regressor.fit(X_train, y_train)\n",
    "    y_pred = regressor.predict(X_test)\n",
    "\n",
    "    xgMSE=mean_absolute_error(y_test, y_pred)\n",
    "    xgR2 = r2_score(y_test, y_pred).round(4)\n",
    "    listMSE.append(xgMSE)\n",
    "    listR2.append(xgR2)\n",
    "plt.plot(maxDepth, listMSE)\n",
    "plt.title('MaxDepth Error')\n",
    "plt.ylabel('Error')\n",
    "plt.xlabel('Max Depth')\n",
    "plt.legend()\n",
    "plt.show()\n",
    "\n",
    "plt.plot(maxDepth, listR2)\n",
    "plt.title('MaxDepth Accuracy')\n",
    "plt.ylabel('Accuracy')\n",
    "plt.xlabel('MaxDepth')\n",
    "plt.legend()\n",
    "plt.show()"
   ]
  },
  {
   "cell_type": "markdown",
   "id": "b21fb0b9",
   "metadata": {
    "papermill": {
     "duration": 0.006656,
     "end_time": "2022-09-20T15:56:40.059063",
     "exception": false,
     "start_time": "2022-09-20T15:56:40.052407",
     "status": "completed"
    },
    "tags": []
   },
   "source": [
    "#### N Estimators Tunning\n",
    "Around 100 n_estimators seems to be a fair number for both accuracy and low error."
   ]
  },
  {
   "cell_type": "code",
   "execution_count": 10,
   "id": "98c25a81",
   "metadata": {
    "execution": {
     "iopub.execute_input": "2022-09-20T15:56:40.074496Z",
     "iopub.status.busy": "2022-09-20T15:56:40.074156Z",
     "iopub.status.idle": "2022-09-20T15:56:43.736438Z",
     "shell.execute_reply": "2022-09-20T15:56:43.735498Z"
    },
    "papermill": {
     "duration": 3.67282,
     "end_time": "2022-09-20T15:56:43.738662",
     "exception": false,
     "start_time": "2022-09-20T15:56:40.065842",
     "status": "completed"
    },
    "tags": []
   },
   "outputs": [
    {
     "data": {
      "image/png": "[encoded data removed]",
      "text/plain": [
       "<Figure size 432x288 with 1 Axes>"
      ]
     },
     "metadata": {
      "needs_background": "light"
     },
     "output_type": "display_data"
    },
    {
     "data": {
      "image/png": "[encoded data removed]",
      "text/plain": [
       "<Figure size 432x288 with 1 Axes>"
      ]
     },
     "metadata": {
      "needs_background": "light"
     },
     "output_type": "display_data"
    }
   ],
   "source": [
    "nEst=[2, 50, 150, 100, 150, 200, 300]\n",
    "listMSE=[]\n",
    "listR2=[]\n",
    "\n",
    "for n in nEst:\n",
    "    regressor = xgb.XGBRegressor(\n",
    "        n_estimators=n,\n",
    "        reg_lambda=1,\n",
    "        gamma=0,\n",
    "        max_depth=4\n",
    "    )\n",
    "    regressor.fit(X_train, y_train)\n",
    "    y_pred = regressor.predict(X_test)\n",
    "\n",
    "    xgMSE=mean_absolute_error(y_test, y_pred)\n",
    "    xgR2 = r2_score(y_test, y_pred).round(4)\n",
    "    listMSE.append(xgMSE)\n",
    "    listR2.append(xgR2)\n",
    "plt.plot(nEst, listMSE)\n",
    "plt.title('nEstimators Error')\n",
    "plt.ylabel('Error')\n",
    "plt.xlabel('N Estimators')\n",
    "plt.legend()\n",
    "plt.show()\n",
    "\n",
    "plt.plot(nEst, listR2)\n",
    "plt.title('nEstimators R2')\n",
    "plt.ylabel('Accurate')\n",
    "plt.xlabel('N Estimators')\n",
    "plt.legend()\n",
    "plt.show()"
   ]
  },
  {
   "cell_type": "markdown",
   "id": "c2d27e7c",
   "metadata": {
    "papermill": {
     "duration": 0.00728,
     "end_time": "2022-09-20T15:56:43.753527",
     "exception": false,
     "start_time": "2022-09-20T15:56:43.746247",
     "status": "completed"
    },
    "tags": []
   },
   "source": [
    "#### Final xgBoost Prediction"
   ]
  },
  {
   "cell_type": "code",
   "execution_count": 11,
   "id": "2402e233",
   "metadata": {
    "execution": {
     "iopub.execute_input": "2022-09-20T15:56:43.769300Z",
     "iopub.status.busy": "2022-09-20T15:56:43.768983Z",
     "iopub.status.idle": "2022-09-20T15:56:44.126665Z",
     "shell.execute_reply": "2022-09-20T15:56:44.125893Z"
    },
    "papermill": {
     "duration": 0.368343,
     "end_time": "2022-09-20T15:56:44.129169",
     "exception": false,
     "start_time": "2022-09-20T15:56:43.760826",
     "status": "completed"
    },
    "tags": []
   },
   "outputs": [],
   "source": [
    "regressor = xgb.XGBRegressor(\n",
    "    n_estimators=100,\n",
    "    reg_lambda=1,\n",
    "    gamma=0,\n",
    "    max_depth=4\n",
    ")\n",
    "\n",
    "regressor.fit(X_train, y_train)\n",
    "y_pred = regressor.predict(X_test)\n",
    "\n",
    "xgMSE=mean_absolute_error(y_test, y_pred)\n",
    "xgR2 = r2_score(y_test, y_pred).round(4)\n",
    "listMSE.append(xgMSE)\n",
    "listR2.append(xgR2)"
   ]
  },
  {
   "cell_type": "markdown",
   "id": "84cf4329",
   "metadata": {
    "execution": {
     "iopub.execute_input": "2022-09-19T21:09:40.310967Z",
     "iopub.status.busy": "2022-09-19T21:09:40.310240Z",
     "iopub.status.idle": "2022-09-19T21:09:40.328174Z",
     "shell.execute_reply": "2022-09-19T21:09:40.326914Z",
     "shell.execute_reply.started": "2022-09-19T21:09:40.310928Z"
    },
    "papermill": {
     "duration": 0.007472,
     "end_time": "2022-09-20T15:56:44.145551",
     "exception": false,
     "start_time": "2022-09-20T15:56:44.138079",
     "status": "completed"
    },
    "tags": []
   },
   "source": [
    "# Test Dataset\n",
    "Make final predictions on unknown house price value using features from Train data"
   ]
  },
  {
   "cell_type": "code",
   "execution_count": 12,
   "id": "fda8f347",
   "metadata": {
    "execution": {
     "iopub.execute_input": "2022-09-20T15:56:44.161013Z",
     "iopub.status.busy": "2022-09-20T15:56:44.160621Z",
     "iopub.status.idle": "2022-09-20T15:56:44.256824Z",
     "shell.execute_reply": "2022-09-20T15:56:44.255704Z"
    },
    "papermill": {
     "duration": 0.106888,
     "end_time": "2022-09-20T15:56:44.259118",
     "exception": false,
     "start_time": "2022-09-20T15:56:44.152230",
     "status": "completed"
    },
    "tags": []
   },
   "outputs": [
    {
     "name": "stdout",
     "output_type": "stream",
     "text": [
      "(1459, 80)\n"
     ]
    },
    {
     "name": "stderr",
     "output_type": "stream",
     "text": [
      "/opt/conda/lib/python3.7/site-packages/ipykernel_launcher.py:7: FutureWarning: Dropping of nuisance columns in DataFrame reductions (with 'numeric_only=None') is deprecated; in a future version this will raise TypeError.  Select only valid columns before calling the reduction.\n",
      "  import sys\n"
     ]
    },
    {
     "data": {
      "text/html": [
       "<div>\n",
       "<style scoped>\n",
       "    .dataframe tbody tr th:only-of-type {\n",
       "        vertical-align: middle;\n",
       "    }\n",
       "\n",
       "    .dataframe tbody tr th {\n",
       "        vertical-align: top;\n",
       "    }\n",
       "\n",
       "    .dataframe thead th {\n",
       "        text-align: right;\n",
       "    }\n",
       "</style>\n",
       "<table border=\"1\" class=\"dataframe\">\n",
       "  <thead>\n",
       "    <tr style=\"text-align: right;\">\n",
       "      <th></th>\n",
       "      <th>Id</th>\n",
       "      <th>MSSubClass</th>\n",
       "      <th>LotFrontage</th>\n",
       "      <th>LotArea</th>\n",
       "      <th>OverallQual</th>\n",
       "      <th>OverallCond</th>\n",
       "      <th>YearBuilt</th>\n",
       "      <th>YearRemodAdd</th>\n",
       "      <th>MasVnrArea</th>\n",
       "      <th>BsmtFinSF1</th>\n",
       "      <th>...</th>\n",
       "      <th>WoodDeckSF</th>\n",
       "      <th>OpenPorchSF</th>\n",
       "      <th>EnclosedPorch</th>\n",
       "      <th>3SsnPorch</th>\n",
       "      <th>ScreenPorch</th>\n",
       "      <th>PoolArea</th>\n",
       "      <th>MiscVal</th>\n",
       "      <th>MoSold</th>\n",
       "      <th>YrSold</th>\n",
       "      <th>totalSQ</th>\n",
       "    </tr>\n",
       "  </thead>\n",
       "  <tbody>\n",
       "    <tr>\n",
       "      <th>0</th>\n",
       "      <td>1461</td>\n",
       "      <td>20</td>\n",
       "      <td>80.0</td>\n",
       "      <td>11622</td>\n",
       "      <td>5</td>\n",
       "      <td>6</td>\n",
       "      <td>1961</td>\n",
       "      <td>1961</td>\n",
       "      <td>0.0</td>\n",
       "      <td>468.0</td>\n",
       "      <td>...</td>\n",
       "      <td>140</td>\n",
       "      <td>0</td>\n",
       "      <td>0</td>\n",
       "      <td>0</td>\n",
       "      <td>120</td>\n",
       "      <td>0</td>\n",
       "      <td>0</td>\n",
       "      <td>6</td>\n",
       "      <td>2010</td>\n",
       "      <td>1778.0</td>\n",
       "    </tr>\n",
       "    <tr>\n",
       "      <th>1</th>\n",
       "      <td>1462</td>\n",
       "      <td>20</td>\n",
       "      <td>81.0</td>\n",
       "      <td>14267</td>\n",
       "      <td>6</td>\n",
       "      <td>6</td>\n",
       "      <td>1958</td>\n",
       "      <td>1958</td>\n",
       "      <td>108.0</td>\n",
       "      <td>923.0</td>\n",
       "      <td>...</td>\n",
       "      <td>393</td>\n",
       "      <td>36</td>\n",
       "      <td>0</td>\n",
       "      <td>0</td>\n",
       "      <td>0</td>\n",
       "      <td>0</td>\n",
       "      <td>12500</td>\n",
       "      <td>6</td>\n",
       "      <td>2010</td>\n",
       "      <td>2658.0</td>\n",
       "    </tr>\n",
       "    <tr>\n",
       "      <th>2</th>\n",
       "      <td>1463</td>\n",
       "      <td>60</td>\n",
       "      <td>74.0</td>\n",
       "      <td>13830</td>\n",
       "      <td>5</td>\n",
       "      <td>5</td>\n",
       "      <td>1997</td>\n",
       "      <td>1998</td>\n",
       "      <td>0.0</td>\n",
       "      <td>791.0</td>\n",
       "      <td>...</td>\n",
       "      <td>212</td>\n",
       "      <td>34</td>\n",
       "      <td>0</td>\n",
       "      <td>0</td>\n",
       "      <td>0</td>\n",
       "      <td>0</td>\n",
       "      <td>0</td>\n",
       "      <td>3</td>\n",
       "      <td>2010</td>\n",
       "      <td>2557.0</td>\n",
       "    </tr>\n",
       "    <tr>\n",
       "      <th>3</th>\n",
       "      <td>1464</td>\n",
       "      <td>60</td>\n",
       "      <td>78.0</td>\n",
       "      <td>9978</td>\n",
       "      <td>6</td>\n",
       "      <td>6</td>\n",
       "      <td>1998</td>\n",
       "      <td>1998</td>\n",
       "      <td>20.0</td>\n",
       "      <td>602.0</td>\n",
       "      <td>...</td>\n",
       "      <td>360</td>\n",
       "      <td>36</td>\n",
       "      <td>0</td>\n",
       "      <td>0</td>\n",
       "      <td>0</td>\n",
       "      <td>0</td>\n",
       "      <td>0</td>\n",
       "      <td>6</td>\n",
       "      <td>2010</td>\n",
       "      <td>2530.0</td>\n",
       "    </tr>\n",
       "    <tr>\n",
       "      <th>4</th>\n",
       "      <td>1465</td>\n",
       "      <td>120</td>\n",
       "      <td>43.0</td>\n",
       "      <td>5005</td>\n",
       "      <td>8</td>\n",
       "      <td>5</td>\n",
       "      <td>1992</td>\n",
       "      <td>1992</td>\n",
       "      <td>0.0</td>\n",
       "      <td>263.0</td>\n",
       "      <td>...</td>\n",
       "      <td>0</td>\n",
       "      <td>82</td>\n",
       "      <td>0</td>\n",
       "      <td>0</td>\n",
       "      <td>144</td>\n",
       "      <td>0</td>\n",
       "      <td>0</td>\n",
       "      <td>1</td>\n",
       "      <td>2010</td>\n",
       "      <td>2560.0</td>\n",
       "    </tr>\n",
       "  </tbody>\n",
       "</table>\n",
       "<p>5 rows × 38 columns</p>\n",
       "</div>"
      ],
      "text/plain": [
       "     Id  MSSubClass  LotFrontage  LotArea  OverallQual  OverallCond  \\\n",
       "0  1461          20         80.0    11622            5            6   \n",
       "1  1462          20         81.0    14267            6            6   \n",
       "2  1463          60         74.0    13830            5            5   \n",
       "3  1464          60         78.0     9978            6            6   \n",
       "4  1465         120         43.0     5005            8            5   \n",
       "\n",
       "   YearBuilt  YearRemodAdd  MasVnrArea  BsmtFinSF1  ...  WoodDeckSF  \\\n",
       "0       1961          1961         0.0       468.0  ...         140   \n",
       "1       1958          1958       108.0       923.0  ...         393   \n",
       "2       1997          1998         0.0       791.0  ...         212   \n",
       "3       1998          1998        20.0       602.0  ...         360   \n",
       "4       1992          1992         0.0       263.0  ...           0   \n",
       "\n",
       "   OpenPorchSF  EnclosedPorch  3SsnPorch  ScreenPorch  PoolArea  MiscVal  \\\n",
       "0            0              0          0          120         0        0   \n",
       "1           36              0          0            0         0    12500   \n",
       "2           34              0          0            0         0        0   \n",
       "3           36              0          0            0         0        0   \n",
       "4           82              0          0          144         0        0   \n",
       "\n",
       "   MoSold  YrSold  totalSQ  \n",
       "0       6    2010   1778.0  \n",
       "1       6    2010   2658.0  \n",
       "2       3    2010   2557.0  \n",
       "3       6    2010   2530.0  \n",
       "4       1    2010   2560.0  \n",
       "\n",
       "[5 rows x 38 columns]"
      ]
     },
     "execution_count": 12,
     "metadata": {},
     "output_type": "execute_result"
    }
   ],
   "source": [
    "test='/kaggle/input/house-prices-advanced-regression-techniques/test.csv'\n",
    "testDF=pd.read_csv(test)\n",
    "print(testDF.shape)\n",
    "\n",
    "#Missing Values\n",
    "testDF=testDF.drop_duplicates()\n",
    "testDF=testDF.fillna(testDF.mean())\n",
    "\n",
    "# Feature Engineer\n",
    "testDF['totalSQ']=testDF['1stFlrSF']+testDF['2ndFlrSF']+testDF['TotalBsmtSF'].drop(columns=['1stFlrSF', '2ndFlrSF', \n",
    "                'TotalBsmtSF'])\n",
    "testDF = testDF.select_dtypes(include=['int16', 'int32', 'int64', 'float16', 'float32', 'float64'])\n",
    "testDF.head()"
   ]
  },
  {
   "cell_type": "code",
   "execution_count": 13,
   "id": "ae977bd3",
   "metadata": {
    "execution": {
     "iopub.execute_input": "2022-09-20T15:56:44.276994Z",
     "iopub.status.busy": "2022-09-20T15:56:44.275985Z",
     "iopub.status.idle": "2022-09-20T15:56:44.281542Z",
     "shell.execute_reply": "2022-09-20T15:56:44.280850Z"
    },
    "papermill": {
     "duration": 0.016482,
     "end_time": "2022-09-20T15:56:44.283581",
     "exception": false,
     "start_time": "2022-09-20T15:56:44.267099",
     "status": "completed"
    },
    "tags": []
   },
   "outputs": [],
   "source": [
    "testIDs=testDF['Id']\n",
    "cols=X_test.columns\n",
    "testDF=testDF[cols]"
   ]
  },
  {
   "cell_type": "code",
   "execution_count": 14,
   "id": "22261860",
   "metadata": {
    "execution": {
     "iopub.execute_input": "2022-09-20T15:56:44.300717Z",
     "iopub.status.busy": "2022-09-20T15:56:44.300099Z",
     "iopub.status.idle": "2022-09-20T15:56:44.315884Z",
     "shell.execute_reply": "2022-09-20T15:56:44.315012Z"
    },
    "papermill": {
     "duration": 0.02759,
     "end_time": "2022-09-20T15:56:44.319095",
     "exception": false,
     "start_time": "2022-09-20T15:56:44.291505",
     "status": "completed"
    },
    "tags": []
   },
   "outputs": [],
   "source": [
    "#Final Prediction\n",
    "finalPred=regressor.predict(testDF).round(2)\n",
    "tupDF=list(zip(testIDs,finalPred))"
   ]
  },
  {
   "cell_type": "code",
   "execution_count": 15,
   "id": "5bd31a8d",
   "metadata": {
    "execution": {
     "iopub.execute_input": "2022-09-20T15:56:44.337765Z",
     "iopub.status.busy": "2022-09-20T15:56:44.337486Z",
     "iopub.status.idle": "2022-09-20T15:56:44.349154Z",
     "shell.execute_reply": "2022-09-20T15:56:44.348254Z"
    },
    "papermill": {
     "duration": 0.022624,
     "end_time": "2022-09-20T15:56:44.351180",
     "exception": false,
     "start_time": "2022-09-20T15:56:44.328556",
     "status": "completed"
    },
    "tags": []
   },
   "outputs": [
    {
     "data": {
      "text/html": [
       "<div>\n",
       "<style scoped>\n",
       "    .dataframe tbody tr th:only-of-type {\n",
       "        vertical-align: middle;\n",
       "    }\n",
       "\n",
       "    .dataframe tbody tr th {\n",
       "        vertical-align: top;\n",
       "    }\n",
       "\n",
       "    .dataframe thead th {\n",
       "        text-align: right;\n",
       "    }\n",
       "</style>\n",
       "<table border=\"1\" class=\"dataframe\">\n",
       "  <thead>\n",
       "    <tr style=\"text-align: right;\">\n",
       "      <th></th>\n",
       "      <th>Id</th>\n",
       "      <th>SalePrice</th>\n",
       "    </tr>\n",
       "  </thead>\n",
       "  <tbody>\n",
       "    <tr>\n",
       "      <th>0</th>\n",
       "      <td>1461</td>\n",
       "      <td>130446.500000</td>\n",
       "    </tr>\n",
       "    <tr>\n",
       "      <th>1</th>\n",
       "      <td>1462</td>\n",
       "      <td>155552.890625</td>\n",
       "    </tr>\n",
       "    <tr>\n",
       "      <th>2</th>\n",
       "      <td>1463</td>\n",
       "      <td>190693.781250</td>\n",
       "    </tr>\n",
       "    <tr>\n",
       "      <th>3</th>\n",
       "      <td>1464</td>\n",
       "      <td>191561.656250</td>\n",
       "    </tr>\n",
       "    <tr>\n",
       "      <th>4</th>\n",
       "      <td>1465</td>\n",
       "      <td>191225.375000</td>\n",
       "    </tr>\n",
       "  </tbody>\n",
       "</table>\n",
       "</div>"
      ],
      "text/plain": [
       "     Id      SalePrice\n",
       "0  1461  130446.500000\n",
       "1  1462  155552.890625\n",
       "2  1463  190693.781250\n",
       "3  1464  191561.656250\n",
       "4  1465  191225.375000"
      ]
     },
     "execution_count": 15,
     "metadata": {},
     "output_type": "execute_result"
    }
   ],
   "source": [
    "output=pd.DataFrame(tupDF, columns=['Id','SalePrice']).sort_values(by='Id').reset_index(drop=True)\n",
    "output.head()"
   ]
  },
  {
   "cell_type": "code",
   "execution_count": 16,
   "id": "68b124ff",
   "metadata": {
    "execution": {
     "iopub.execute_input": "2022-09-20T15:56:44.368540Z",
     "iopub.status.busy": "2022-09-20T15:56:44.368191Z",
     "iopub.status.idle": "2022-09-20T15:56:44.377325Z",
     "shell.execute_reply": "2022-09-20T15:56:44.376404Z"
    },
    "papermill": {
     "duration": 0.020185,
     "end_time": "2022-09-20T15:56:44.379277",
     "exception": false,
     "start_time": "2022-09-20T15:56:44.359092",
     "status": "completed"
    },
    "tags": []
   },
   "outputs": [
    {
     "name": "stdout",
     "output_type": "stream",
     "text": [
      "(1459, 2)\n",
      "Output Created\n"
     ]
    }
   ],
   "source": [
    "print(output.shape)\n",
    "output.to_csv('submission.csv', index=False)\n",
    "print(\"Output Created\")"
   ]
  }
 ],
 "metadata": {
  "kernelspec": {
   "display_name": "Python 3",
   "language": "python",
   "name": "python3"
  },
  "language_info": {
   "codemirror_mode": {
    "name": "ipython",
    "version": 3
   },
   "file_extension": ".py",
   "mimetype": "text/x-python",
   "name": "python",
   "nbconvert_exporter": "python",
   "pygments_lexer": "ipython3",
   "version": "3.7.12"
  },
  "papermill": {
   "default_parameters": {},
   "duration": 19.321822,
   "end_time": "2022-09-20T15:56:45.006331",
   "environment_variables": {},
   "exception": null,
   "input_path": "__notebook__.ipynb",
   "output_path": "__notebook__.ipynb",
   "parameters": {},
   "start_time": "2022-09-20T15:56:25.684509",
   "version": "2.3.4"
  }
 },
 "nbformat": 4,
 "nbformat_minor": 5
}
