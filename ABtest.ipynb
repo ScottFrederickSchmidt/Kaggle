{
 "cells": [
  {
   "cell_type": "markdown",
   "id": "5ce2e225",
   "metadata": {
    "papermill": {
     "duration": 0.00267,
     "end_time": "2023-07-04T20:11:18.545592",
     "exception": false,
     "start_time": "2023-07-04T20:11:18.542922",
     "status": "completed"
    },
    "tags": []
   },
   "source": [
    "# A/B Test\n",
    "Generally, A/B tests have two variants, in this case a control and treatment group. We will analyze the converted group to see the effectiveess on treatment. Before going further, here is what the data looks like."
   ]
  },
  {
   "cell_type": "code",
   "execution_count": 1,
   "id": "1a996c7b",
   "metadata": {
    "execution": {
     "iopub.execute_input": "2023-07-04T20:11:18.551742Z",
     "iopub.status.busy": "2023-07-04T20:11:18.551291Z",
     "iopub.status.idle": "2023-07-04T20:11:19.015420Z",
     "shell.execute_reply": "2023-07-04T20:11:19.013794Z"
    },
    "papermill": {
     "duration": 0.470185,
     "end_time": "2023-07-04T20:11:19.018142",
     "exception": false,
     "start_time": "2023-07-04T20:11:18.547957",
     "status": "completed"
    },
    "tags": []
   },
   "outputs": [
    {
     "data": {
      "text/html": [
       "<div>\n",
       "<style scoped>\n",
       "    .dataframe tbody tr th:only-of-type {\n",
       "        vertical-align: middle;\n",
       "    }\n",
       "\n",
       "    .dataframe tbody tr th {\n",
       "        vertical-align: top;\n",
       "    }\n",
       "\n",
       "    .dataframe thead th {\n",
       "        text-align: right;\n",
       "    }\n",
       "</style>\n",
       "<table border=\"1\" class=\"dataframe\">\n",
       "  <thead>\n",
       "    <tr style=\"text-align: right;\">\n",
       "      <th></th>\n",
       "      <th>user_id</th>\n",
       "      <th>timestamp</th>\n",
       "      <th>group</th>\n",
       "      <th>landing_page</th>\n",
       "      <th>converted</th>\n",
       "    </tr>\n",
       "  </thead>\n",
       "  <tbody>\n",
       "    <tr>\n",
       "      <th>0</th>\n",
       "      <td>851104</td>\n",
       "      <td>2017-01-21 22:11:48.556739</td>\n",
       "      <td>control</td>\n",
       "      <td>old_page</td>\n",
       "      <td>0</td>\n",
       "    </tr>\n",
       "    <tr>\n",
       "      <th>1</th>\n",
       "      <td>804228</td>\n",
       "      <td>2017-01-12 08:01:45.159739</td>\n",
       "      <td>control</td>\n",
       "      <td>old_page</td>\n",
       "      <td>0</td>\n",
       "    </tr>\n",
       "    <tr>\n",
       "      <th>2</th>\n",
       "      <td>661590</td>\n",
       "      <td>2017-01-11 16:55:06.154213</td>\n",
       "      <td>treatment</td>\n",
       "      <td>new_page</td>\n",
       "      <td>0</td>\n",
       "    </tr>\n",
       "    <tr>\n",
       "      <th>3</th>\n",
       "      <td>853541</td>\n",
       "      <td>2017-01-08 18:28:03.143765</td>\n",
       "      <td>treatment</td>\n",
       "      <td>new_page</td>\n",
       "      <td>0</td>\n",
       "    </tr>\n",
       "    <tr>\n",
       "      <th>4</th>\n",
       "      <td>864975</td>\n",
       "      <td>2017-01-21 01:52:26.210827</td>\n",
       "      <td>control</td>\n",
       "      <td>old_page</td>\n",
       "      <td>1</td>\n",
       "    </tr>\n",
       "  </tbody>\n",
       "</table>\n",
       "</div>"
      ],
      "text/plain": [
       "   user_id                   timestamp      group landing_page  converted\n",
       "0   851104  2017-01-21 22:11:48.556739    control     old_page          0\n",
       "1   804228  2017-01-12 08:01:45.159739    control     old_page          0\n",
       "2   661590  2017-01-11 16:55:06.154213  treatment     new_page          0\n",
       "3   853541  2017-01-08 18:28:03.143765  treatment     new_page          0\n",
       "4   864975  2017-01-21 01:52:26.210827    control     old_page          1"
      ]
     },
     "execution_count": 1,
     "metadata": {},
     "output_type": "execute_result"
    }
   ],
   "source": [
    "import pandas as pd\n",
    "import numpy as np\n",
    "file='/kaggle/input/ab-testing/ab_data.csv'\n",
    "df=pd.read_csv(file)\n",
    "df.head()"
   ]
  },
  {
   "cell_type": "markdown",
   "id": "f8d9f680",
   "metadata": {
    "papermill": {
     "duration": 0.002126,
     "end_time": "2023-07-04T20:11:19.022879",
     "exception": false,
     "start_time": "2023-07-04T20:11:19.020753",
     "status": "completed"
    },
    "tags": []
   },
   "source": [
    "# Brief Analysis\n",
    "There is an efficient amount of data (more than 100) of balanced data between teatment and control."
   ]
  },
  {
   "cell_type": "code",
   "execution_count": 2,
   "id": "c00d3582",
   "metadata": {
    "execution": {
     "iopub.execute_input": "2023-07-04T20:11:19.028851Z",
     "iopub.status.busy": "2023-07-04T20:11:19.028563Z",
     "iopub.status.idle": "2023-07-04T20:11:19.054929Z",
     "shell.execute_reply": "2023-07-04T20:11:19.053805Z"
    },
    "papermill": {
     "duration": 0.032564,
     "end_time": "2023-07-04T20:11:19.057757",
     "exception": false,
     "start_time": "2023-07-04T20:11:19.025193",
     "status": "completed"
    },
    "tags": []
   },
   "outputs": [
    {
     "data": {
      "text/plain": [
       "treatment    147276\n",
       "control      147202\n",
       "Name: group, dtype: int64"
      ]
     },
     "execution_count": 2,
     "metadata": {},
     "output_type": "execute_result"
    }
   ],
   "source": [
    "df['group'].value_counts()"
   ]
  },
  {
   "cell_type": "markdown",
   "id": "b25fb22c",
   "metadata": {
    "papermill": {
     "duration": 0.002169,
     "end_time": "2023-07-04T20:11:19.062525",
     "exception": false,
     "start_time": "2023-07-04T20:11:19.060356",
     "status": "completed"
    },
    "tags": []
   },
   "source": [
    "# Descriptive Stats"
   ]
  },
  {
   "cell_type": "code",
   "execution_count": 3,
   "id": "17a402ae",
   "metadata": {
    "execution": {
     "iopub.execute_input": "2023-07-04T20:11:19.068968Z",
     "iopub.status.busy": "2023-07-04T20:11:19.068396Z",
     "iopub.status.idle": "2023-07-04T20:11:19.105713Z",
     "shell.execute_reply": "2023-07-04T20:11:19.104229Z"
    },
    "papermill": {
     "duration": 0.043094,
     "end_time": "2023-07-04T20:11:19.107957",
     "exception": false,
     "start_time": "2023-07-04T20:11:19.064863",
     "status": "completed"
    },
    "tags": []
   },
   "outputs": [
    {
     "data": {
      "text/html": [
       "<div>\n",
       "<style scoped>\n",
       "    .dataframe tbody tr th:only-of-type {\n",
       "        vertical-align: middle;\n",
       "    }\n",
       "\n",
       "    .dataframe tbody tr th {\n",
       "        vertical-align: top;\n",
       "    }\n",
       "\n",
       "    .dataframe thead th {\n",
       "        text-align: right;\n",
       "    }\n",
       "</style>\n",
       "<table border=\"1\" class=\"dataframe\">\n",
       "  <thead>\n",
       "    <tr style=\"text-align: right;\">\n",
       "      <th></th>\n",
       "      <th>converted</th>\n",
       "    </tr>\n",
       "  </thead>\n",
       "  <tbody>\n",
       "    <tr>\n",
       "      <th>count</th>\n",
       "      <td>294478.000000</td>\n",
       "    </tr>\n",
       "    <tr>\n",
       "      <th>mean</th>\n",
       "      <td>0.119659</td>\n",
       "    </tr>\n",
       "    <tr>\n",
       "      <th>std</th>\n",
       "      <td>0.324563</td>\n",
       "    </tr>\n",
       "    <tr>\n",
       "      <th>min</th>\n",
       "      <td>0.000000</td>\n",
       "    </tr>\n",
       "    <tr>\n",
       "      <th>25%</th>\n",
       "      <td>0.000000</td>\n",
       "    </tr>\n",
       "    <tr>\n",
       "      <th>50%</th>\n",
       "      <td>0.000000</td>\n",
       "    </tr>\n",
       "    <tr>\n",
       "      <th>75%</th>\n",
       "      <td>0.000000</td>\n",
       "    </tr>\n",
       "    <tr>\n",
       "      <th>max</th>\n",
       "      <td>1.000000</td>\n",
       "    </tr>\n",
       "  </tbody>\n",
       "</table>\n",
       "</div>"
      ],
      "text/plain": [
       "           converted\n",
       "count  294478.000000\n",
       "mean        0.119659\n",
       "std         0.324563\n",
       "min         0.000000\n",
       "25%         0.000000\n",
       "50%         0.000000\n",
       "75%         0.000000\n",
       "max         1.000000"
      ]
     },
     "execution_count": 3,
     "metadata": {},
     "output_type": "execute_result"
    }
   ],
   "source": [
    "df[['group', 'converted']].describe()"
   ]
  },
  {
   "cell_type": "markdown",
   "id": "d06295dd",
   "metadata": {
    "papermill": {
     "duration": 0.002326,
     "end_time": "2023-07-04T20:11:19.113104",
     "exception": false,
     "start_time": "2023-07-04T20:11:19.110778",
     "status": "completed"
    },
    "tags": []
   },
   "source": [
    "# Calculate Conversion for Treatment and Control Groups"
   ]
  },
  {
   "cell_type": "code",
   "execution_count": 4,
   "id": "ef50e425",
   "metadata": {
    "execution": {
     "iopub.execute_input": "2023-07-04T20:11:19.119607Z",
     "iopub.status.busy": "2023-07-04T20:11:19.119254Z",
     "iopub.status.idle": "2023-07-04T20:11:19.189150Z",
     "shell.execute_reply": "2023-07-04T20:11:19.187519Z"
    },
    "papermill": {
     "duration": 0.0761,
     "end_time": "2023-07-04T20:11:19.191742",
     "exception": false,
     "start_time": "2023-07-04T20:11:19.115642",
     "status": "completed"
    },
    "tags": []
   },
   "outputs": [
    {
     "name": "stdout",
     "output_type": "stream",
     "text": [
      "0.1189\n"
     ]
    }
   ],
   "source": [
    "control = df[df['group'] == 'control'].mean(numeric_only=True).round(4)\n",
    "control_perc=control['converted']\n",
    "\n",
    "treatment = df[df['group']=='treatment'].mean(numeric_only=True).round(4)\n",
    "treatment_perc = treatment['converted']\n",
    "print(treatment_perc)"
   ]
  }
 ],
 "metadata": {
  "kernelspec": {
   "display_name": "Python 3",
   "language": "python",
   "name": "python3"
  },
  "language_info": {
   "codemirror_mode": {
    "name": "ipython",
    "version": 3
   },
   "file_extension": ".py",
   "mimetype": "text/x-python",
   "name": "python",
   "nbconvert_exporter": "python",
   "pygments_lexer": "ipython3",
   "version": "3.10.10"
  },
  "papermill": {
   "default_parameters": {},
   "duration": 9.918637,
   "end_time": "2023-07-04T20:11:19.914682",
   "environment_variables": {},
   "exception": null,
   "input_path": "__notebook__.ipynb",
   "output_path": "__notebook__.ipynb",
   "parameters": {},
   "start_time": "2023-07-04T20:11:09.996045",
   "version": "2.4.0"
  }
 },
 "nbformat": 4,
 "nbformat_minor": 5
}
