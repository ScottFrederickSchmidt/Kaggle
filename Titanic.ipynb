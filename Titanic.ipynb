{
 "cells": [
  {
   "cell_type": "markdown",
   "id": "c460d121",
   "metadata": {
    "papermill": {
     "duration": 0.027593,
     "end_time": "2022-04-30T18:02:33.972377",
     "exception": false,
     "start_time": "2022-04-30T18:02:33.944784",
     "status": "completed"
    },
    "tags": []
   },
   "source": [
    "# Titanic: Machine Learning From Disaster\n",
    "The competition is simple: use machine learning to create a model that predicts which passengers survived the Titanic shipwreck. The original dataset can be found on Kaggle: https://www.kaggle.com/competitions/titanic"
   ]
  },
  {
   "cell_type": "markdown",
   "id": "22d9f3a2",
   "metadata": {
    "papermill": {
     "duration": 0.026168,
     "end_time": "2022-04-30T18:02:34.025119",
     "exception": false,
     "start_time": "2022-04-30T18:02:33.998951",
     "status": "completed"
    },
    "tags": []
   },
   "source": [
    "## Quick Summary\n",
    "The AUC results are as follows:\n",
    "* Decision tree       0.8667\n",
    "* Logistic regression 0.8759\n",
    "* Linear regression.  0.8765\n",
    "* Graident Boost      0.86\n",
    "* Random Forest       0.8503\n",
    "* Knn                 0.645"
   ]
  },
  {
   "cell_type": "markdown",
   "id": "48578fa8",
   "metadata": {
    "papermill": {
     "duration": 0.025995,
     "end_time": "2022-04-30T18:02:34.077807",
     "exception": false,
     "start_time": "2022-04-30T18:02:34.051812",
     "status": "completed"
    },
    "tags": []
   },
   "source": [
    "## Train Data\n",
    "Train.csv will contain the details of a subset of the passengers on board (891 to be exact) and whether they survive or not. The shape of the train data is (891, 12). "
   ]
  },
  {
   "cell_type": "code",
   "execution_count": 1,
   "id": "5052fbd7",
   "metadata": {
    "execution": {
     "iopub.execute_input": "2022-04-30T18:02:34.132786Z",
     "iopub.status.busy": "2022-04-30T18:02:34.132399Z",
     "iopub.status.idle": "2022-04-30T18:02:36.288858Z",
     "shell.execute_reply": "2022-04-30T18:02:36.287577Z"
    },
    "papermill": {
     "duration": 2.187211,
     "end_time": "2022-04-30T18:02:36.291282",
     "exception": false,
     "start_time": "2022-04-30T18:02:34.104071",
     "status": "completed"
    },
    "tags": []
   },
   "outputs": [
    {
     "name": "stdout",
     "output_type": "stream",
     "text": [
      "(891, 12)\n"
     ]
    },
    {
     "data": {
      "text/html": [
       "<div>\n",
       "<style scoped>\n",
       "    .dataframe tbody tr th:only-of-type {\n",
       "        vertical-align: middle;\n",
       "    }\n",
       "\n",
       "    .dataframe tbody tr th {\n",
       "        vertical-align: top;\n",
       "    }\n",
       "\n",
       "    .dataframe thead th {\n",
       "        text-align: right;\n",
       "    }\n",
       "</style>\n",
       "<table border=\"1\" class=\"dataframe\">\n",
       "  <thead>\n",
       "    <tr style=\"text-align: right;\">\n",
       "      <th></th>\n",
       "      <th>PassengerId</th>\n",
       "      <th>Survived</th>\n",
       "      <th>Pclass</th>\n",
       "      <th>Name</th>\n",
       "      <th>Sex</th>\n",
       "      <th>Age</th>\n",
       "      <th>SibSp</th>\n",
       "      <th>Parch</th>\n",
       "      <th>Ticket</th>\n",
       "      <th>Fare</th>\n",
       "      <th>Cabin</th>\n",
       "      <th>Embarked</th>\n",
       "    </tr>\n",
       "  </thead>\n",
       "  <tbody>\n",
       "    <tr>\n",
       "      <th>0</th>\n",
       "      <td>1</td>\n",
       "      <td>0</td>\n",
       "      <td>3</td>\n",
       "      <td>Braund, Mr. Owen Harris</td>\n",
       "      <td>male</td>\n",
       "      <td>22.0</td>\n",
       "      <td>1</td>\n",
       "      <td>0</td>\n",
       "      <td>A/5 21171</td>\n",
       "      <td>7.2500</td>\n",
       "      <td>NaN</td>\n",
       "      <td>S</td>\n",
       "    </tr>\n",
       "    <tr>\n",
       "      <th>1</th>\n",
       "      <td>2</td>\n",
       "      <td>1</td>\n",
       "      <td>1</td>\n",
       "      <td>Cumings, Mrs. John Bradley (Florence Briggs Th...</td>\n",
       "      <td>female</td>\n",
       "      <td>38.0</td>\n",
       "      <td>1</td>\n",
       "      <td>0</td>\n",
       "      <td>PC 17599</td>\n",
       "      <td>71.2833</td>\n",
       "      <td>C85</td>\n",
       "      <td>C</td>\n",
       "    </tr>\n",
       "    <tr>\n",
       "      <th>2</th>\n",
       "      <td>3</td>\n",
       "      <td>1</td>\n",
       "      <td>3</td>\n",
       "      <td>Heikkinen, Miss. Laina</td>\n",
       "      <td>female</td>\n",
       "      <td>26.0</td>\n",
       "      <td>0</td>\n",
       "      <td>0</td>\n",
       "      <td>STON/O2. 3101282</td>\n",
       "      <td>7.9250</td>\n",
       "      <td>NaN</td>\n",
       "      <td>S</td>\n",
       "    </tr>\n",
       "    <tr>\n",
       "      <th>3</th>\n",
       "      <td>4</td>\n",
       "      <td>1</td>\n",
       "      <td>1</td>\n",
       "      <td>Futrelle, Mrs. Jacques Heath (Lily May Peel)</td>\n",
       "      <td>female</td>\n",
       "      <td>35.0</td>\n",
       "      <td>1</td>\n",
       "      <td>0</td>\n",
       "      <td>113803</td>\n",
       "      <td>53.1000</td>\n",
       "      <td>C123</td>\n",
       "      <td>S</td>\n",
       "    </tr>\n",
       "    <tr>\n",
       "      <th>4</th>\n",
       "      <td>5</td>\n",
       "      <td>0</td>\n",
       "      <td>3</td>\n",
       "      <td>Allen, Mr. William Henry</td>\n",
       "      <td>male</td>\n",
       "      <td>35.0</td>\n",
       "      <td>0</td>\n",
       "      <td>0</td>\n",
       "      <td>373450</td>\n",
       "      <td>8.0500</td>\n",
       "      <td>NaN</td>\n",
       "      <td>S</td>\n",
       "    </tr>\n",
       "  </tbody>\n",
       "</table>\n",
       "</div>"
      ],
      "text/plain": [
       "   PassengerId  Survived  Pclass  \\\n",
       "0            1         0       3   \n",
       "1            2         1       1   \n",
       "2            3         1       3   \n",
       "3            4         1       1   \n",
       "4            5         0       3   \n",
       "\n",
       "                                                Name     Sex   Age  SibSp  \\\n",
       "0                            Braund, Mr. Owen Harris    male  22.0      1   \n",
       "1  Cumings, Mrs. John Bradley (Florence Briggs Th...  female  38.0      1   \n",
       "2                             Heikkinen, Miss. Laina  female  26.0      0   \n",
       "3       Futrelle, Mrs. Jacques Heath (Lily May Peel)  female  35.0      1   \n",
       "4                           Allen, Mr. William Henry    male  35.0      0   \n",
       "\n",
       "   Parch            Ticket     Fare Cabin Embarked  \n",
       "0      0         A/5 21171   7.2500   NaN        S  \n",
       "1      0          PC 17599  71.2833   C85        C  \n",
       "2      0  STON/O2. 3101282   7.9250   NaN        S  \n",
       "3      0            113803  53.1000  C123        S  \n",
       "4      0            373450   8.0500   NaN        S  "
      ]
     },
     "execution_count": 1,
     "metadata": {},
     "output_type": "execute_result"
    }
   ],
   "source": [
    "import numpy as np\n",
    "import pandas as pd\n",
    "import seaborn as sns\n",
    "import matplotlib.pyplot as plt\n",
    "from sklearn.model_selection import train_test_split, cross_validate\n",
    "from statistics import mean\n",
    "from sklearn.metrics import mean_absolute_error, mean_squared_error, r2_score\n",
    "from sklearn.datasets import make_classification\n",
    "from sklearn import ensemble\n",
    "import sklearn.metrics as metrics\n",
    "import time\n",
    "\n",
    "train=r'/kaggle/input/titanic/train.csv'\n",
    "test=r'/kaggle/input/titanic/test.csv'\n",
    "\n",
    "df=pd.read_csv(train)\n",
    "print(df.shape)\n",
    "df.head()"
   ]
  },
  {
   "cell_type": "code",
   "execution_count": 2,
   "id": "541394e5",
   "metadata": {
    "execution": {
     "iopub.execute_input": "2022-04-30T18:02:36.380384Z",
     "iopub.status.busy": "2022-04-30T18:02:36.380088Z",
     "iopub.status.idle": "2022-04-30T18:02:36.388786Z",
     "shell.execute_reply": "2022-04-30T18:02:36.387547Z"
    },
    "papermill": {
     "duration": 0.058299,
     "end_time": "2022-04-30T18:02:36.391619",
     "exception": false,
     "start_time": "2022-04-30T18:02:36.333320",
     "status": "completed"
    },
    "tags": []
   },
   "outputs": [
    {
     "data": {
      "text/plain": [
       "PassengerId      int64\n",
       "Survived         int64\n",
       "Pclass           int64\n",
       "Name            object\n",
       "Sex             object\n",
       "Age            float64\n",
       "SibSp            int64\n",
       "Parch            int64\n",
       "Ticket          object\n",
       "Fare           float64\n",
       "Cabin           object\n",
       "Embarked        object\n",
       "dtype: object"
      ]
     },
     "execution_count": 2,
     "metadata": {},
     "output_type": "execute_result"
    }
   ],
   "source": [
    "df.dtypes"
   ]
  },
  {
   "cell_type": "markdown",
   "id": "31c84076",
   "metadata": {
    "papermill": {
     "duration": 0.043655,
     "end_time": "2022-04-30T18:02:36.478024",
     "exception": false,
     "start_time": "2022-04-30T18:02:36.434369",
     "status": "completed"
    },
    "tags": []
   },
   "source": [
    "## Feature Engineer"
   ]
  },
  {
   "cell_type": "code",
   "execution_count": 3,
   "id": "45ba8d04",
   "metadata": {
    "execution": {
     "iopub.execute_input": "2022-04-30T18:02:36.564812Z",
     "iopub.status.busy": "2022-04-30T18:02:36.564547Z",
     "iopub.status.idle": "2022-04-30T18:02:36.592225Z",
     "shell.execute_reply": "2022-04-30T18:02:36.591624Z"
    },
    "papermill": {
     "duration": 0.073196,
     "end_time": "2022-04-30T18:02:36.594099",
     "exception": false,
     "start_time": "2022-04-30T18:02:36.520903",
     "status": "completed"
    },
    "tags": []
   },
   "outputs": [
    {
     "data": {
      "text/html": [
       "<div>\n",
       "<style scoped>\n",
       "    .dataframe tbody tr th:only-of-type {\n",
       "        vertical-align: middle;\n",
       "    }\n",
       "\n",
       "    .dataframe tbody tr th {\n",
       "        vertical-align: top;\n",
       "    }\n",
       "\n",
       "    .dataframe thead th {\n",
       "        text-align: right;\n",
       "    }\n",
       "</style>\n",
       "<table border=\"1\" class=\"dataframe\">\n",
       "  <thead>\n",
       "    <tr style=\"text-align: right;\">\n",
       "      <th></th>\n",
       "      <th>PassengerId</th>\n",
       "      <th>Survived</th>\n",
       "      <th>Pclass</th>\n",
       "      <th>Name</th>\n",
       "      <th>Sex</th>\n",
       "      <th>Age</th>\n",
       "      <th>SibSp</th>\n",
       "      <th>Parch</th>\n",
       "      <th>Ticket</th>\n",
       "      <th>Fare</th>\n",
       "      <th>Cabin</th>\n",
       "      <th>Embarked</th>\n",
       "    </tr>\n",
       "  </thead>\n",
       "  <tbody>\n",
       "    <tr>\n",
       "      <th>0</th>\n",
       "      <td>1</td>\n",
       "      <td>0</td>\n",
       "      <td>3</td>\n",
       "      <td>Braund, Mr. Owen Harris</td>\n",
       "      <td>1</td>\n",
       "      <td>22.0</td>\n",
       "      <td>1</td>\n",
       "      <td>0</td>\n",
       "      <td>A/5 21171</td>\n",
       "      <td>7.2500</td>\n",
       "      <td>NaN</td>\n",
       "      <td>S</td>\n",
       "    </tr>\n",
       "    <tr>\n",
       "      <th>1</th>\n",
       "      <td>2</td>\n",
       "      <td>1</td>\n",
       "      <td>1</td>\n",
       "      <td>Cumings, Mrs. John Bradley (Florence Briggs Th...</td>\n",
       "      <td>0</td>\n",
       "      <td>38.0</td>\n",
       "      <td>1</td>\n",
       "      <td>0</td>\n",
       "      <td>PC 17599</td>\n",
       "      <td>71.2833</td>\n",
       "      <td>C85</td>\n",
       "      <td>C</td>\n",
       "    </tr>\n",
       "    <tr>\n",
       "      <th>2</th>\n",
       "      <td>3</td>\n",
       "      <td>1</td>\n",
       "      <td>3</td>\n",
       "      <td>Heikkinen, Miss. Laina</td>\n",
       "      <td>0</td>\n",
       "      <td>26.0</td>\n",
       "      <td>0</td>\n",
       "      <td>0</td>\n",
       "      <td>STON/O2. 3101282</td>\n",
       "      <td>7.9250</td>\n",
       "      <td>NaN</td>\n",
       "      <td>S</td>\n",
       "    </tr>\n",
       "    <tr>\n",
       "      <th>3</th>\n",
       "      <td>4</td>\n",
       "      <td>1</td>\n",
       "      <td>1</td>\n",
       "      <td>Futrelle, Mrs. Jacques Heath (Lily May Peel)</td>\n",
       "      <td>0</td>\n",
       "      <td>35.0</td>\n",
       "      <td>1</td>\n",
       "      <td>0</td>\n",
       "      <td>113803</td>\n",
       "      <td>53.1000</td>\n",
       "      <td>C123</td>\n",
       "      <td>S</td>\n",
       "    </tr>\n",
       "    <tr>\n",
       "      <th>4</th>\n",
       "      <td>5</td>\n",
       "      <td>0</td>\n",
       "      <td>3</td>\n",
       "      <td>Allen, Mr. William Henry</td>\n",
       "      <td>1</td>\n",
       "      <td>35.0</td>\n",
       "      <td>0</td>\n",
       "      <td>0</td>\n",
       "      <td>373450</td>\n",
       "      <td>8.0500</td>\n",
       "      <td>NaN</td>\n",
       "      <td>S</td>\n",
       "    </tr>\n",
       "  </tbody>\n",
       "</table>\n",
       "</div>"
      ],
      "text/plain": [
       "   PassengerId  Survived  Pclass  \\\n",
       "0            1         0       3   \n",
       "1            2         1       1   \n",
       "2            3         1       3   \n",
       "3            4         1       1   \n",
       "4            5         0       3   \n",
       "\n",
       "                                                Name  Sex   Age  SibSp  Parch  \\\n",
       "0                            Braund, Mr. Owen Harris    1  22.0      1      0   \n",
       "1  Cumings, Mrs. John Bradley (Florence Briggs Th...    0  38.0      1      0   \n",
       "2                             Heikkinen, Miss. Laina    0  26.0      0      0   \n",
       "3       Futrelle, Mrs. Jacques Heath (Lily May Peel)    0  35.0      1      0   \n",
       "4                           Allen, Mr. William Henry    1  35.0      0      0   \n",
       "\n",
       "             Ticket     Fare Cabin Embarked  \n",
       "0         A/5 21171   7.2500   NaN        S  \n",
       "1          PC 17599  71.2833   C85        C  \n",
       "2  STON/O2. 3101282   7.9250   NaN        S  \n",
       "3            113803  53.1000  C123        S  \n",
       "4            373450   8.0500   NaN        S  "
      ]
     },
     "execution_count": 3,
     "metadata": {},
     "output_type": "execute_result"
    }
   ],
   "source": [
    "replace_dict= {'female':0,'male':1}\n",
    "df['Sex']=df['Sex'].map(replace_dict)\n",
    "df.head()"
   ]
  },
  {
   "cell_type": "markdown",
   "id": "eefc656f",
   "metadata": {
    "papermill": {
     "duration": 0.042777,
     "end_time": "2022-04-30T18:02:36.679595",
     "exception": false,
     "start_time": "2022-04-30T18:02:36.636818",
     "status": "completed"
    },
    "tags": []
   },
   "source": [
    "## Examine Target Variable\n",
    "Survived is the Y variable we will be analyzing."
   ]
  },
  {
   "cell_type": "code",
   "execution_count": 4,
   "id": "00e9203d",
   "metadata": {
    "execution": {
     "iopub.execute_input": "2022-04-30T18:02:36.768189Z",
     "iopub.status.busy": "2022-04-30T18:02:36.767733Z",
     "iopub.status.idle": "2022-04-30T18:02:36.779579Z",
     "shell.execute_reply": "2022-04-30T18:02:36.777093Z"
    },
    "papermill": {
     "duration": 0.059902,
     "end_time": "2022-04-30T18:02:36.782685",
     "exception": false,
     "start_time": "2022-04-30T18:02:36.722783",
     "status": "completed"
    },
    "tags": []
   },
   "outputs": [
    {
     "name": "stdout",
     "output_type": "stream",
     "text": [
      "0    549\n",
      "1    342\n",
      "Name: Survived, dtype: int64\n",
      "Percent that died:  0.384\n"
     ]
    }
   ],
   "source": [
    "temp=df['Survived'].value_counts()\n",
    "print(temp)\n",
    "no=temp[0]\n",
    "yes=temp[1]\n",
    "percent=round(yes/(yes+no),3)\n",
    "print(\"Percent that died: \", percent)"
   ]
  },
  {
   "cell_type": "markdown",
   "id": "c09ab4a6",
   "metadata": {
    "papermill": {
     "duration": 0.035612,
     "end_time": "2022-04-30T18:02:36.861038",
     "exception": false,
     "start_time": "2022-04-30T18:02:36.825426",
     "status": "completed"
    },
    "tags": []
   },
   "source": [
    "## Numeric DataFrame\n",
    "For now, we will analyze only numeric values. Categorical values will need to be encoded or analyzed individually."
   ]
  },
  {
   "cell_type": "code",
   "execution_count": 5,
   "id": "cd0b0f92",
   "metadata": {
    "execution": {
     "iopub.execute_input": "2022-04-30T18:02:36.921193Z",
     "iopub.status.busy": "2022-04-30T18:02:36.920722Z",
     "iopub.status.idle": "2022-04-30T18:02:36.942778Z",
     "shell.execute_reply": "2022-04-30T18:02:36.942275Z"
    },
    "papermill": {
     "duration": 0.05493,
     "end_time": "2022-04-30T18:02:36.944299",
     "exception": false,
     "start_time": "2022-04-30T18:02:36.889369",
     "status": "completed"
    },
    "tags": []
   },
   "outputs": [
    {
     "data": {
      "text/html": [
       "<div>\n",
       "<style scoped>\n",
       "    .dataframe tbody tr th:only-of-type {\n",
       "        vertical-align: middle;\n",
       "    }\n",
       "\n",
       "    .dataframe tbody tr th {\n",
       "        vertical-align: top;\n",
       "    }\n",
       "\n",
       "    .dataframe thead th {\n",
       "        text-align: right;\n",
       "    }\n",
       "</style>\n",
       "<table border=\"1\" class=\"dataframe\">\n",
       "  <thead>\n",
       "    <tr style=\"text-align: right;\">\n",
       "      <th></th>\n",
       "      <th>PassengerId</th>\n",
       "      <th>Survived</th>\n",
       "      <th>Pclass</th>\n",
       "      <th>Sex</th>\n",
       "      <th>Age</th>\n",
       "      <th>SibSp</th>\n",
       "      <th>Parch</th>\n",
       "      <th>Fare</th>\n",
       "    </tr>\n",
       "  </thead>\n",
       "  <tbody>\n",
       "    <tr>\n",
       "      <th>0</th>\n",
       "      <td>1</td>\n",
       "      <td>0</td>\n",
       "      <td>3</td>\n",
       "      <td>1</td>\n",
       "      <td>22.0</td>\n",
       "      <td>1</td>\n",
       "      <td>0</td>\n",
       "      <td>7.2500</td>\n",
       "    </tr>\n",
       "    <tr>\n",
       "      <th>1</th>\n",
       "      <td>2</td>\n",
       "      <td>1</td>\n",
       "      <td>1</td>\n",
       "      <td>0</td>\n",
       "      <td>38.0</td>\n",
       "      <td>1</td>\n",
       "      <td>0</td>\n",
       "      <td>71.2833</td>\n",
       "    </tr>\n",
       "    <tr>\n",
       "      <th>2</th>\n",
       "      <td>3</td>\n",
       "      <td>1</td>\n",
       "      <td>3</td>\n",
       "      <td>0</td>\n",
       "      <td>26.0</td>\n",
       "      <td>0</td>\n",
       "      <td>0</td>\n",
       "      <td>7.9250</td>\n",
       "    </tr>\n",
       "    <tr>\n",
       "      <th>3</th>\n",
       "      <td>4</td>\n",
       "      <td>1</td>\n",
       "      <td>1</td>\n",
       "      <td>0</td>\n",
       "      <td>35.0</td>\n",
       "      <td>1</td>\n",
       "      <td>0</td>\n",
       "      <td>53.1000</td>\n",
       "    </tr>\n",
       "    <tr>\n",
       "      <th>4</th>\n",
       "      <td>5</td>\n",
       "      <td>0</td>\n",
       "      <td>3</td>\n",
       "      <td>1</td>\n",
       "      <td>35.0</td>\n",
       "      <td>0</td>\n",
       "      <td>0</td>\n",
       "      <td>8.0500</td>\n",
       "    </tr>\n",
       "  </tbody>\n",
       "</table>\n",
       "</div>"
      ],
      "text/plain": [
       "   PassengerId  Survived  Pclass  Sex   Age  SibSp  Parch     Fare\n",
       "0            1         0       3    1  22.0      1      0   7.2500\n",
       "1            2         1       1    0  38.0      1      0  71.2833\n",
       "2            3         1       3    0  26.0      0      0   7.9250\n",
       "3            4         1       1    0  35.0      1      0  53.1000\n",
       "4            5         0       3    1  35.0      0      0   8.0500"
      ]
     },
     "execution_count": 5,
     "metadata": {},
     "output_type": "execute_result"
    }
   ],
   "source": [
    "numerics = ['int16', 'int32', 'int64', 'float16', 'float32', 'float64']\n",
    "df = df.select_dtypes(include=numerics)\n",
    "df.head()"
   ]
  },
  {
   "cell_type": "markdown",
   "id": "3bb225d3",
   "metadata": {
    "papermill": {
     "duration": 0.027665,
     "end_time": "2022-04-30T18:02:37.000306",
     "exception": false,
     "start_time": "2022-04-30T18:02:36.972641",
     "status": "completed"
    },
    "tags": []
   },
   "source": [
    "## Check for missing values\n",
    "Age is missing around 20% of values.Therefore, we can simply fill in the mean for that one column."
   ]
  },
  {
   "cell_type": "code",
   "execution_count": 6,
   "id": "5356b8b3",
   "metadata": {
    "execution": {
     "iopub.execute_input": "2022-04-30T18:02:37.059487Z",
     "iopub.status.busy": "2022-04-30T18:02:37.058997Z",
     "iopub.status.idle": "2022-04-30T18:02:37.068996Z",
     "shell.execute_reply": "2022-04-30T18:02:37.067174Z"
    },
    "papermill": {
     "duration": 0.042167,
     "end_time": "2022-04-30T18:02:37.071187",
     "exception": false,
     "start_time": "2022-04-30T18:02:37.029020",
     "status": "completed"
    },
    "tags": []
   },
   "outputs": [
    {
     "name": "stdout",
     "output_type": "stream",
     "text": [
      "Missing data by column as a percent:\n",
      "Age            0.198653\n",
      "PassengerId    0.000000\n",
      "Survived       0.000000\n",
      "Pclass         0.000000\n",
      "Sex            0.000000\n",
      "dtype: float64\n"
     ]
    }
   ],
   "source": [
    "#search for columns with missing values:\n",
    "def findNA():\n",
    "    print(\"Missing data by column as a percent:\")\n",
    "    findNA=df.isnull().sum().sort_values(ascending=False)/len(df)\n",
    "    print(findNA.head())\n",
    "findNA() "
   ]
  },
  {
   "cell_type": "code",
   "execution_count": 7,
   "id": "963b8ddb",
   "metadata": {
    "execution": {
     "iopub.execute_input": "2022-04-30T18:02:37.130479Z",
     "iopub.status.busy": "2022-04-30T18:02:37.130215Z",
     "iopub.status.idle": "2022-04-30T18:02:37.137656Z",
     "shell.execute_reply": "2022-04-30T18:02:37.137056Z"
    },
    "papermill": {
     "duration": 0.03947,
     "end_time": "2022-04-30T18:02:37.139236",
     "exception": false,
     "start_time": "2022-04-30T18:02:37.099766",
     "status": "completed"
    },
    "tags": []
   },
   "outputs": [],
   "source": [
    "df= df.fillna(df.mean())"
   ]
  },
  {
   "cell_type": "markdown",
   "id": "94830695",
   "metadata": {
    "papermill": {
     "duration": 0.030588,
     "end_time": "2022-04-30T18:02:37.198674",
     "exception": false,
     "start_time": "2022-04-30T18:02:37.168086",
     "status": "completed"
    },
    "tags": []
   },
   "source": [
    "## Split Data"
   ]
  },
  {
   "cell_type": "code",
   "execution_count": 8,
   "id": "277fd617",
   "metadata": {
    "execution": {
     "iopub.execute_input": "2022-04-30T18:02:37.261659Z",
     "iopub.status.busy": "2022-04-30T18:02:37.261137Z",
     "iopub.status.idle": "2022-04-30T18:02:37.268940Z",
     "shell.execute_reply": "2022-04-30T18:02:37.268065Z"
    },
    "papermill": {
     "duration": 0.041447,
     "end_time": "2022-04-30T18:02:37.271060",
     "exception": false,
     "start_time": "2022-04-30T18:02:37.229613",
     "status": "completed"
    },
    "tags": []
   },
   "outputs": [],
   "source": [
    "X=df.drop('Survived', axis=1)\n",
    "y=df['Survived']\n",
    "\n",
    "X_train, X_test, y_train, y_test = train_test_split(X, y, test_size = 0.30, random_state = 42)"
   ]
  },
  {
   "cell_type": "markdown",
   "id": "58a9a1ef",
   "metadata": {
    "papermill": {
     "duration": 0.029566,
     "end_time": "2022-04-30T18:02:37.331122",
     "exception": false,
     "start_time": "2022-04-30T18:02:37.301556",
     "status": "completed"
    },
    "tags": []
   },
   "source": [
    "## Highly Correlated Features\n",
    "There are no highly correlated variables above 80%. Therefore, we do not need to worry about removing variables that are too highly correlated. "
   ]
  },
  {
   "cell_type": "markdown",
   "id": "29da41de",
   "metadata": {
    "papermill": {
     "duration": 0.02852,
     "end_time": "2022-04-30T18:02:37.388843",
     "exception": false,
     "start_time": "2022-04-30T18:02:37.360323",
     "status": "completed"
    },
    "tags": []
   },
   "source": [
    "## Gradient Boost with Feature Importance"
   ]
  },
  {
   "cell_type": "code",
   "execution_count": 9,
   "id": "a3a3bb87",
   "metadata": {
    "execution": {
     "iopub.execute_input": "2022-04-30T18:02:37.453153Z",
     "iopub.status.busy": "2022-04-30T18:02:37.452871Z",
     "iopub.status.idle": "2022-04-30T18:02:38.020771Z",
     "shell.execute_reply": "2022-04-30T18:02:38.019296Z"
    },
    "papermill": {
     "duration": 0.602493,
     "end_time": "2022-04-30T18:02:38.023140",
     "exception": false,
     "start_time": "2022-04-30T18:02:37.420647",
     "status": "completed"
    },
    "tags": []
   },
   "outputs": [
    {
     "name": "stdout",
     "output_type": "stream",
     "text": [
      "Gradient boosting regression r2:  0.422\n",
      "AUC for gradient boost is:  0.8612\n",
      "The mean squared error (MSE) on test set: 0.1402\n"
     ]
    }
   ],
   "source": [
    "from sklearn.inspection import permutation_importance\n",
    "from sklearn.ensemble import GradientBoostingClassifier,GradientBoostingRegressor\n",
    "\n",
    "params = {\n",
    " \"n_estimators\": 500, \"max_depth\": 4, \"min_samples_split\": 5, \"learning_rate\": 0.01,\n",
    "}\n",
    "\n",
    "reg = ensemble.GradientBoostingRegressor(**params)\n",
    "reg.fit(X_train, y_train)\n",
    "\n",
    "y_pred = reg.predict(X_test)\n",
    "gbr_r2 = r2_score(y_test, y_pred).round(4) \n",
    "print(\"Gradient boosting regression r2: \", gbr_r2) \n",
    "\n",
    "#calculate AUC of model\n",
    "auc = round( metrics.roc_auc_score(y_test, y_pred), 4 ) \n",
    "print(\"AUC for gradient boost is: \", auc)\n",
    "\n",
    "mse = mean_squared_error(y_test, reg.predict(X_test))\n",
    "print(\"The mean squared error (MSE) on test set: {:.4f}\".format(mse))"
   ]
  },
  {
   "cell_type": "code",
   "execution_count": 10,
   "id": "497270b6",
   "metadata": {
    "execution": {
     "iopub.execute_input": "2022-04-30T18:02:38.087753Z",
     "iopub.status.busy": "2022-04-30T18:02:38.086994Z",
     "iopub.status.idle": "2022-04-30T18:02:39.994363Z",
     "shell.execute_reply": "2022-04-30T18:02:39.993333Z"
    },
    "papermill": {
     "duration": 1.940174,
     "end_time": "2022-04-30T18:02:39.995899",
     "exception": false,
     "start_time": "2022-04-30T18:02:38.055725",
     "status": "completed"
    },
    "tags": []
   },
   "outputs": [
    {
     "data": {
      "image/png": "[encoded data removed]",
      "text/plain": [
       "<Figure size 864x432 with 2 Axes>"
      ]
     },
     "metadata": {
      "needs_background": "light"
     },
     "output_type": "display_data"
    }
   ],
   "source": [
    "#FEATURE IMPORTANCE:\n",
    "cols=X.columns\n",
    "feature_importance = reg.feature_importances_\n",
    "sorted_idx = np.argsort(feature_importance)\n",
    "pos = np.arange(sorted_idx.shape[0]) + 0.5\n",
    "fig = plt.figure(figsize=(12, 6))\n",
    "plt.subplot(1, 2, 1)\n",
    "plt.barh(pos, feature_importance[sorted_idx], align=\"center\")\n",
    "plt.yticks(pos, np.array(cols)[sorted_idx])\n",
    "plt.title(\"Feature Importance (MDI)\")\n",
    "\n",
    "result = permutation_importance(\n",
    "    reg, X_test, y_test, n_repeats=10, random_state=42, n_jobs=2\n",
    ")\n",
    "sorted_idx = result.importances_mean.argsort()\n",
    "plt.subplot(1, 2, 2)\n",
    "plt.boxplot(\n",
    "    result.importances[sorted_idx].T,\n",
    "    vert=False,\n",
    "    labels=np.array(cols)[sorted_idx],\n",
    ")\n",
    "plt.title(\"Permutation Importance (test set)\")\n",
    "fig.tight_layout()\n",
    "plt.show()"
   ]
  },
  {
   "cell_type": "markdown",
   "id": "dd5b8894",
   "metadata": {
    "papermill": {
     "duration": 0.030124,
     "end_time": "2022-04-30T18:02:40.056285",
     "exception": false,
     "start_time": "2022-04-30T18:02:40.026161",
     "status": "completed"
    },
    "tags": []
   },
   "source": [
    "## Logistic Regression"
   ]
  },
  {
   "cell_type": "code",
   "execution_count": 11,
   "id": "86b3b05d",
   "metadata": {
    "execution": {
     "iopub.execute_input": "2022-04-30T18:02:40.151401Z",
     "iopub.status.busy": "2022-04-30T18:02:40.150358Z",
     "iopub.status.idle": "2022-04-30T18:02:40.170564Z",
     "shell.execute_reply": "2022-04-30T18:02:40.169003Z"
    },
    "papermill": {
     "duration": 0.072249,
     "end_time": "2022-04-30T18:02:40.174485",
     "exception": false,
     "start_time": "2022-04-30T18:02:40.102236",
     "status": "completed"
    },
    "tags": []
   },
   "outputs": [
    {
     "name": "stdout",
     "output_type": "stream",
     "text": [
      "AUC for logistic regression is:  0.8759\n"
     ]
    }
   ],
   "source": [
    "from sklearn.linear_model import LogisticRegression\n",
    "logReg = LogisticRegression(solver='liblinear') #solver param gets rid of encoder error\n",
    "\n",
    "#Train the model and create predictions\n",
    "logReg.fit(X_train, y_train)\n",
    "logPredict = logReg.predict_proba(X_test)[::,1]\n",
    "\n",
    "#calculate AUC of model\n",
    "auc = round( metrics.roc_auc_score(y_test, logPredict), 4 ) \n",
    "print(\"AUC for logistic regression is: \", auc)"
   ]
  },
  {
   "cell_type": "markdown",
   "id": "79161481",
   "metadata": {
    "papermill": {
     "duration": 0.031643,
     "end_time": "2022-04-30T18:02:40.238451",
     "exception": false,
     "start_time": "2022-04-30T18:02:40.206808",
     "status": "completed"
    },
    "tags": []
   },
   "source": [
    "## Linear Regression"
   ]
  },
  {
   "cell_type": "code",
   "execution_count": 12,
   "id": "4a6baef9",
   "metadata": {
    "execution": {
     "iopub.execute_input": "2022-04-30T18:02:40.304134Z",
     "iopub.status.busy": "2022-04-30T18:02:40.303528Z",
     "iopub.status.idle": "2022-04-30T18:02:40.555696Z",
     "shell.execute_reply": "2022-04-30T18:02:40.554272Z"
    },
    "papermill": {
     "duration": 0.287547,
     "end_time": "2022-04-30T18:02:40.557889",
     "exception": false,
     "start_time": "2022-04-30T18:02:40.270342",
     "status": "completed"
    },
    "tags": []
   },
   "outputs": [
    {
     "name": "stdout",
     "output_type": "stream",
     "text": [
      "AUC for linear regression is:  0.8765\n",
      "Linear regression r2 score:  0.4424\n",
      "Linear Accuracy:  0.4424\n",
      "0.3665  linear regression cross validate mean\n"
     ]
    },
    {
     "data": {
      "image/png": "[encoded data removed]",
      "text/plain": [
       "<Figure size 432x288 with 1 Axes>"
      ]
     },
     "metadata": {
      "needs_background": "light"
     },
     "output_type": "display_data"
    }
   ],
   "source": [
    "from sklearn.linear_model import LinearRegression, Ridge, Lasso\n",
    "\n",
    "#Fit and predict:\n",
    "lrModel = LinearRegression()\n",
    "lrModel.fit(X_train, y_train)\n",
    "lrPredict = lrModel.predict(X_test)\n",
    "\n",
    "# plt.scatter(y_test, predictions)\n",
    "plt.hist(y_test - lrPredict)\n",
    "\n",
    "#Linear Metrics:\n",
    "auc = round( metrics.roc_auc_score(y_test, lrPredict), 4 ) \n",
    "r2 = r2_score(y_test, lrPredict).round(4) \n",
    "print(\"AUC for linear regression is: \", auc)\n",
    "print(\"Linear regression r2 score: \", r2)\n",
    "\n",
    "#CROSS VALIDATE TEST RESULTS:\n",
    "lr_score = lrModel.score(X_test, y_test).round(4)  # train test \n",
    "print(\"Linear Accuracy: \", lr_score)\n",
    "lr_cv = cross_validate(lrModel, X, y, cv = 5, scoring= 'r2')\n",
    "lr_cvMean=lr_cv['test_score'].mean().round(4)\n",
    "print(lr_cvMean, \" linear regression cross validate mean\")\n",
    "\n",
    "def linearReports():\n",
    "    print(model.coef_)    \n",
    "    print(model.intercept_)\n",
    "    print(classification_report(y_test_data, lrPredict))\n",
    "    print(confusion_matrix(y_test_data, lrPredict))\n",
    "    metrics.mean_absolute_error(y_test, lrPredict)\n",
    "    lrMSE=np.sqrt(metrics.mean_squared_error(y_test, lrPredict))\n",
    "    print(round(lrMSE, 4), \" is lr MSE \")"
   ]
  },
  {
   "cell_type": "markdown",
   "id": "3d14a53a",
   "metadata": {
    "papermill": {
     "duration": 0.048984,
     "end_time": "2022-04-30T18:02:40.640517",
     "exception": false,
     "start_time": "2022-04-30T18:02:40.591533",
     "status": "completed"
    },
    "tags": []
   },
   "source": [
    "## Decision Tree"
   ]
  },
  {
   "cell_type": "code",
   "execution_count": 13,
   "id": "6d0439e1",
   "metadata": {
    "execution": {
     "iopub.execute_input": "2022-04-30T18:02:40.714705Z",
     "iopub.status.busy": "2022-04-30T18:02:40.714118Z",
     "iopub.status.idle": "2022-04-30T18:02:41.084733Z",
     "shell.execute_reply": "2022-04-30T18:02:41.083788Z"
    },
    "papermill": {
     "duration": 0.406168,
     "end_time": "2022-04-30T18:02:41.086698",
     "exception": false,
     "start_time": "2022-04-30T18:02:40.680530",
     "status": "completed"
    },
    "tags": []
   },
   "outputs": [
    {
     "name": "stdout",
     "output_type": "stream",
     "text": [
      "Decision Tree Automating:\n",
      "Done.  0.3366  seconds\n"
     ]
    },
    {
     "data": {
      "text/html": [
       "<div>\n",
       "<style scoped>\n",
       "    .dataframe tbody tr th:only-of-type {\n",
       "        vertical-align: middle;\n",
       "    }\n",
       "\n",
       "    .dataframe tbody tr th {\n",
       "        vertical-align: top;\n",
       "    }\n",
       "\n",
       "    .dataframe thead th {\n",
       "        text-align: right;\n",
       "    }\n",
       "</style>\n",
       "<table border=\"1\" class=\"dataframe\">\n",
       "  <thead>\n",
       "    <tr style=\"text-align: right;\">\n",
       "      <th></th>\n",
       "      <th>AUC</th>\n",
       "      <th>MAE</th>\n",
       "      <th>MaxDepth</th>\n",
       "      <th>MaxLeafNodes</th>\n",
       "    </tr>\n",
       "  </thead>\n",
       "  <tbody>\n",
       "    <tr>\n",
       "      <th>45</th>\n",
       "      <td>0.3782</td>\n",
       "      <td>0.2743</td>\n",
       "      <td>10</td>\n",
       "      <td>5</td>\n",
       "    </tr>\n",
       "    <tr>\n",
       "      <th>18</th>\n",
       "      <td>0.3782</td>\n",
       "      <td>0.2743</td>\n",
       "      <td>5</td>\n",
       "      <td>5</td>\n",
       "    </tr>\n",
       "    <tr>\n",
       "      <th>54</th>\n",
       "      <td>0.3782</td>\n",
       "      <td>0.2743</td>\n",
       "      <td>11</td>\n",
       "      <td>5</td>\n",
       "    </tr>\n",
       "    <tr>\n",
       "      <th>27</th>\n",
       "      <td>0.3782</td>\n",
       "      <td>0.2743</td>\n",
       "      <td>7</td>\n",
       "      <td>5</td>\n",
       "    </tr>\n",
       "    <tr>\n",
       "      <th>36</th>\n",
       "      <td>0.3782</td>\n",
       "      <td>0.2743</td>\n",
       "      <td>9</td>\n",
       "      <td>5</td>\n",
       "    </tr>\n",
       "  </tbody>\n",
       "</table>\n",
       "</div>"
      ],
      "text/plain": [
       "       AUC     MAE  MaxDepth  MaxLeafNodes\n",
       "45  0.3782  0.2743        10             5\n",
       "18  0.3782  0.2743         5             5\n",
       "54  0.3782  0.2743        11             5\n",
       "27  0.3782  0.2743         7             5\n",
       "36  0.3782  0.2743         9             5"
      ]
     },
     "execution_count": 13,
     "metadata": {},
     "output_type": "execute_result"
    }
   ],
   "source": [
    "from sklearn.tree import DecisionTreeRegressor\n",
    "\n",
    "#FIND best_tree_size LEAF NODES:\n",
    "def calcLeaf():\n",
    "    candidate_max_leaf_nodes = [5, 25, 50, 100, 250, 500]\n",
    "    maeDic={} #dictionary  key=leaf  mae=value\n",
    "    for leaf in candidate_max_leaf_nodes:\n",
    "        model = DecisionTreeRegressor(max_leaf_nodes=leaf, random_state=42)\n",
    "        model.fit(X_train, y_train)\n",
    "        y_pred = model.predict(X_test)\n",
    "        mae = mean_absolute_error(y_test, y_pred).round(4)\n",
    "        maeDic[leaf]=mae\n",
    "    print(maeDic)\n",
    "    best_tree_size = sorted(maeDic, key=lambda x : maeDic[x])[0]\n",
    "    print(best_tree_size)\n",
    "    \n",
    "def calcDepth():\n",
    "    max_depth_list = [2, 3, 5, 7, 9, 10, 12]\n",
    "    maeDic={} #dictionary  key=depth  mae=value\n",
    "    for d in max_depth_list:\n",
    "        model = DecisionTreeRegressor(max_leaf_nodes=100, max_depth=d, random_state=42)\n",
    "        model.fit(X_train, y_train)\n",
    "        y_pred = model.predict(X_test)\n",
    "        mae = mean_absolute_error(y_test, y_pred).round(4)\n",
    "        maeDic[d]=mae\n",
    "    print(maeDic)\n",
    "    best_max_depth = sorted(maeDic, key=lambda x : maeDic[x])[0]\n",
    "    print(best_max_depth, \" best max_depth with least error.\") #10\n",
    "    \n",
    "def automateTree():\n",
    "    print(\"Decision Tree Automating:\")\n",
    "    start=time.time()\n",
    "    candidate_max_leaf_nodes = [5, 25, 50, 75, 100, 150, 250, 400, 500]\n",
    "    max_depth_list = [2, 3, 5, 7, 9, 10, 11]\n",
    "    \n",
    "    #STORE DATA INTO LISTS FOR DATAFRAME LATER:\n",
    "    aucList=[]\n",
    "    maeList=[]\n",
    "    maxDepthList=[]\n",
    "    maxLeafNodesList=[]\n",
    "\n",
    "    for d in max_depth_list:\n",
    "        for leaf in candidate_max_leaf_nodes:\n",
    "            model = DecisionTreeRegressor(max_leaf_nodes=leaf, max_depth=d, random_state=42)\n",
    "            model.fit(X_train, y_train)\n",
    "            y_pred = model.predict(X_test)\n",
    "            mae = mean_absolute_error(y_test, y_pred).round(4)\n",
    "            treeR2 = r2_score(y_test, y_pred).round(4)\n",
    "            \n",
    "            aucList.append(treeR2)\n",
    "            maeList.append(mae)\n",
    "            maxDepthList.append(d)\n",
    "            maxLeafNodesList.append(leaf)\n",
    "           \n",
    "    df = pd.DataFrame(list(zip(aucList, maeList, maxDepthList, maxLeafNodesList)),\n",
    "                          columns=['AUC','MAE', 'MaxDepth', 'MaxLeafNodes'])\n",
    "    \n",
    "    df=df.sort_values(by=['AUC'], ascending=False)\n",
    "    print(\"Done. \", round(time.time()-start,4), \" seconds\")\n",
    "    return df\n",
    "    \n",
    "treeDF=automateTree()    \n",
    "treeDF.head()"
   ]
  },
  {
   "cell_type": "code",
   "execution_count": 14,
   "id": "0d1a66df",
   "metadata": {
    "execution": {
     "iopub.execute_input": "2022-04-30T18:02:41.169796Z",
     "iopub.status.busy": "2022-04-30T18:02:41.169314Z",
     "iopub.status.idle": "2022-04-30T18:02:41.187567Z",
     "shell.execute_reply": "2022-04-30T18:02:41.187007Z"
    },
    "papermill": {
     "duration": 0.058761,
     "end_time": "2022-04-30T18:02:41.190817",
     "exception": false,
     "start_time": "2022-04-30T18:02:41.132056",
     "status": "completed"
    },
    "tags": []
   },
   "outputs": [
    {
     "name": "stdout",
     "output_type": "stream",
     "text": [
      "0.4549  R2 Decision Tree\n",
      "AUC for decision tree is:  0.8667\n"
     ]
    }
   ],
   "source": [
    "best_tree_size=5\n",
    "best_depth=3\n",
    "    \n",
    "#MAKE PREDICTION:\n",
    "tree = DecisionTreeRegressor(max_depth=3, random_state=42)\n",
    "tree.fit(X, y)\n",
    "y_pred = tree.predict(X_test)\n",
    "\n",
    "#AUC and r2 metric:\n",
    "treeR2 = r2_score(y_test, y_pred).round(4)\n",
    "print(treeR2, \" R2 Decision Tree\")\n",
    "treeAUC = round( metrics.roc_auc_score(y_test, y_pred), 4 ) \n",
    "print(\"AUC for decision tree is: \", treeAUC)\n",
    "\n",
    "def printReports(y_test, y_pred):\n",
    "    print(classification_report(y_test, y_pred))\n",
    "    print(confusion_matrix(y_test, y_pred))\n",
    "    treeMSE=np.sqrt(metrics.mean_squared_error(y_test, y_pred))\n",
    "    print(round(treeMSE, 4), \" is tree MSE \")"
   ]
  },
  {
   "cell_type": "markdown",
   "id": "423202e3",
   "metadata": {
    "papermill": {
     "duration": 0.045061,
     "end_time": "2022-04-30T18:02:41.290453",
     "exception": false,
     "start_time": "2022-04-30T18:02:41.245392",
     "status": "completed"
    },
    "tags": []
   },
   "source": [
    "## Random Forest"
   ]
  },
  {
   "cell_type": "code",
   "execution_count": 15,
   "id": "2194f171",
   "metadata": {
    "execution": {
     "iopub.execute_input": "2022-04-30T18:02:41.366045Z",
     "iopub.status.busy": "2022-04-30T18:02:41.365696Z",
     "iopub.status.idle": "2022-04-30T18:02:41.375598Z",
     "shell.execute_reply": "2022-04-30T18:02:41.374974Z"
    },
    "papermill": {
     "duration": 0.052559,
     "end_time": "2022-04-30T18:02:41.377545",
     "exception": false,
     "start_time": "2022-04-30T18:02:41.324986",
     "status": "completed"
    },
    "tags": []
   },
   "outputs": [],
   "source": [
    "from sklearn.ensemble import RandomForestRegressor\n",
    "\n",
    "#Check for Error and find Best n_estimators:\n",
    "def checkMAE():\n",
    "    print(\"Starting MAE:\")\n",
    "    dMAE={} #dictionary of n_estimators as key and MAE as value:\n",
    "    for n in range(2, 501, 50):\n",
    "        forest = RandomForestRegressor(n_estimators=n, random_state = 0)\n",
    "        forest.fit(X_train, y_train)\n",
    "        y_pred = forest.predict(X_test)\n",
    "        \n",
    "        MAE=metrics.mean_absolute_error(y_test, y_pred).round(2)\n",
    "        forest_auc = round( metrics.roc_auc_score(y_test, y_pred), 4 ) \n",
    "        print(\"Random forest AUC: \", forest_auc) \n",
    "        dMAE[n]=MAE\n",
    "        print(\"n_estimates: \", n,  '  Mean Absolute Error:', MAE)\n",
    "\n",
    "    dMAE=sorted(((v, k) for k, v in dMAE.items()), reverse=False)\n",
    "    print(dMAE)\n",
    "#checkMAE() #turn function on or off by uncommenting"
   ]
  },
  {
   "cell_type": "code",
   "execution_count": 16,
   "id": "35f5cdb1",
   "metadata": {
    "execution": {
     "iopub.execute_input": "2022-04-30T18:02:41.468271Z",
     "iopub.status.busy": "2022-04-30T18:02:41.467905Z",
     "iopub.status.idle": "2022-04-30T18:02:42.244477Z",
     "shell.execute_reply": "2022-04-30T18:02:42.243060Z"
    },
    "papermill": {
     "duration": 0.834275,
     "end_time": "2022-04-30T18:02:42.246611",
     "exception": false,
     "start_time": "2022-04-30T18:02:41.412336",
     "status": "completed"
    },
    "tags": []
   },
   "outputs": [
    {
     "name": "stdout",
     "output_type": "stream",
     "text": [
      "Random forest AUC:  0.8503\n",
      "Random forest r2:  0.3877\n"
     ]
    }
   ],
   "source": [
    "def forest(num):\n",
    "    forest = RandomForestRegressor(n_estimators=num, random_state = 0)\n",
    "    forest.fit(X_train, y_train)\n",
    "    y_pred = forest.predict(X_test)\n",
    "\n",
    "    #Print Metrics:\n",
    "    forest_r2 = r2_score(y_test, y_pred).round(4)  \n",
    "    forest_auc = round( metrics.roc_auc_score(y_test, y_pred), 4 ) \n",
    "    print(\"Random forest AUC: \", forest_auc) \n",
    "    print(\"Random forest r2: \", forest_r2)\n",
    "\n",
    "def forestReports():\n",
    "    mae=metrics.mean_absolute_error(y_test, y_pred).round(2)\n",
    "    print(\"Random forest MAE: \", mae)\n",
    "    \n",
    "forest(400)"
   ]
  },
  {
   "cell_type": "markdown",
   "id": "77afc61b",
   "metadata": {
    "papermill": {
     "duration": 0.050272,
     "end_time": "2022-04-30T18:02:42.349062",
     "exception": false,
     "start_time": "2022-04-30T18:02:42.298790",
     "status": "completed"
    },
    "tags": []
   },
   "source": [
    "## K-Nearest Neighbors (KNN)"
   ]
  },
  {
   "cell_type": "code",
   "execution_count": 17,
   "id": "ff2bf9d2",
   "metadata": {
    "execution": {
     "iopub.execute_input": "2022-04-30T18:02:42.452009Z",
     "iopub.status.busy": "2022-04-30T18:02:42.451303Z",
     "iopub.status.idle": "2022-04-30T18:02:42.473736Z",
     "shell.execute_reply": "2022-04-30T18:02:42.471715Z"
    },
    "papermill": {
     "duration": 0.076735,
     "end_time": "2022-04-30T18:02:42.476297",
     "exception": false,
     "start_time": "2022-04-30T18:02:42.399562",
     "status": "completed"
    },
    "tags": []
   },
   "outputs": [
    {
     "name": "stdout",
     "output_type": "stream",
     "text": [
      "Knn AUC:  0.645\n"
     ]
    }
   ],
   "source": [
    "from sklearn.neighbors import KNeighborsClassifier\n",
    "\n",
    "def knnError():\n",
    "    print(\"Finding best n_neighbors value:\")\n",
    "    error_rates = []\n",
    "    for i in range(1, 10, 2): #Must be an odd number to break a tie\n",
    "        new_model = KNeighborsClassifier(n_neighbors = i)\n",
    "        new_model.fit(X_train, y_train)\n",
    "        new_predictions = new_model.predict(X_test)\n",
    "        error_rates.append(np.mean(new_predictions != y_test))\n",
    "    plt.figure(figsize=(16,12))\n",
    "    plt.plot(error_rates)\n",
    "\n",
    "def knnModel():\n",
    "    #Train the model and make predictions:\n",
    "    knn = KNeighborsClassifier(n_neighbors =5) \n",
    "    knn.fit(X_train, y_train)\n",
    "    knnPredict = knn.predict_proba(X_test)[::,1]\n",
    "\n",
    "    #calculate AUC of model\n",
    "    knn_auc = round( metrics.roc_auc_score(y_test, knnPredict), 4 ) \n",
    "    print(\"Knn AUC: \", knn_auc)\n",
    "\n",
    "def knnReports():\n",
    "    acc = metrics.accuracy_score(y_test_data, knnPredict)\n",
    "    print(confusion_matrix(y_test, knnPredict))\n",
    "    print(classification_report(y_test, knnPredict))\n",
    "    print(confusion_matrix(y_test, knnPredict))\n",
    "knnModel()"
   ]
  },
  {
   "cell_type": "markdown",
   "id": "d7e522a5",
   "metadata": {
    "papermill": {
     "duration": 0.050824,
     "end_time": "2022-04-30T18:02:42.578806",
     "exception": false,
     "start_time": "2022-04-30T18:02:42.527982",
     "status": "completed"
    },
    "tags": []
   },
   "source": [
    "# Test Data"
   ]
  },
  {
   "cell_type": "code",
   "execution_count": 18,
   "id": "053432d1",
   "metadata": {
    "execution": {
     "iopub.execute_input": "2022-04-30T18:02:42.683356Z",
     "iopub.status.busy": "2022-04-30T18:02:42.682135Z",
     "iopub.status.idle": "2022-04-30T18:02:42.713891Z",
     "shell.execute_reply": "2022-04-30T18:02:42.713046Z"
    },
    "papermill": {
     "duration": 0.087521,
     "end_time": "2022-04-30T18:02:42.716397",
     "exception": false,
     "start_time": "2022-04-30T18:02:42.628876",
     "status": "completed"
    },
    "tags": []
   },
   "outputs": [
    {
     "data": {
      "text/html": [
       "<div>\n",
       "<style scoped>\n",
       "    .dataframe tbody tr th:only-of-type {\n",
       "        vertical-align: middle;\n",
       "    }\n",
       "\n",
       "    .dataframe tbody tr th {\n",
       "        vertical-align: top;\n",
       "    }\n",
       "\n",
       "    .dataframe thead th {\n",
       "        text-align: right;\n",
       "    }\n",
       "</style>\n",
       "<table border=\"1\" class=\"dataframe\">\n",
       "  <thead>\n",
       "    <tr style=\"text-align: right;\">\n",
       "      <th></th>\n",
       "      <th>PassengerId</th>\n",
       "      <th>Pclass</th>\n",
       "      <th>Sex</th>\n",
       "      <th>Age</th>\n",
       "      <th>SibSp</th>\n",
       "      <th>Parch</th>\n",
       "      <th>Fare</th>\n",
       "    </tr>\n",
       "  </thead>\n",
       "  <tbody>\n",
       "    <tr>\n",
       "      <th>0</th>\n",
       "      <td>892</td>\n",
       "      <td>3</td>\n",
       "      <td>1</td>\n",
       "      <td>34.5</td>\n",
       "      <td>0</td>\n",
       "      <td>0</td>\n",
       "      <td>7.8292</td>\n",
       "    </tr>\n",
       "    <tr>\n",
       "      <th>1</th>\n",
       "      <td>893</td>\n",
       "      <td>3</td>\n",
       "      <td>0</td>\n",
       "      <td>47.0</td>\n",
       "      <td>1</td>\n",
       "      <td>0</td>\n",
       "      <td>7.0000</td>\n",
       "    </tr>\n",
       "    <tr>\n",
       "      <th>2</th>\n",
       "      <td>894</td>\n",
       "      <td>2</td>\n",
       "      <td>1</td>\n",
       "      <td>62.0</td>\n",
       "      <td>0</td>\n",
       "      <td>0</td>\n",
       "      <td>9.6875</td>\n",
       "    </tr>\n",
       "    <tr>\n",
       "      <th>3</th>\n",
       "      <td>895</td>\n",
       "      <td>3</td>\n",
       "      <td>1</td>\n",
       "      <td>27.0</td>\n",
       "      <td>0</td>\n",
       "      <td>0</td>\n",
       "      <td>8.6625</td>\n",
       "    </tr>\n",
       "    <tr>\n",
       "      <th>4</th>\n",
       "      <td>896</td>\n",
       "      <td>3</td>\n",
       "      <td>0</td>\n",
       "      <td>22.0</td>\n",
       "      <td>1</td>\n",
       "      <td>1</td>\n",
       "      <td>12.2875</td>\n",
       "    </tr>\n",
       "  </tbody>\n",
       "</table>\n",
       "</div>"
      ],
      "text/plain": [
       "   PassengerId  Pclass  Sex   Age  SibSp  Parch     Fare\n",
       "0          892       3    1  34.5      0      0   7.8292\n",
       "1          893       3    0  47.0      1      0   7.0000\n",
       "2          894       2    1  62.0      0      0   9.6875\n",
       "3          895       3    1  27.0      0      0   8.6625\n",
       "4          896       3    0  22.0      1      1  12.2875"
      ]
     },
     "execution_count": 18,
     "metadata": {},
     "output_type": "execute_result"
    }
   ],
   "source": [
    "test=pd.read_csv(test)\n",
    "features=list(X.columns)\n",
    "test=test[features]\n",
    "replace_dict= {'female':0,'male':1}\n",
    "test['Sex']=test['Sex'].map(replace_dict)\n",
    "test=test.fillna(test.mean())\n",
    "test.head()"
   ]
  },
  {
   "cell_type": "markdown",
   "id": "76b6f29b",
   "metadata": {
    "papermill": {
     "duration": 0.053545,
     "end_time": "2022-04-30T18:02:42.823870",
     "exception": false,
     "start_time": "2022-04-30T18:02:42.770325",
     "status": "completed"
    },
    "tags": []
   },
   "source": [
    "## Make Final Prediction"
   ]
  },
  {
   "cell_type": "code",
   "execution_count": 19,
   "id": "deb0d2ca",
   "metadata": {
    "execution": {
     "iopub.execute_input": "2022-04-30T18:02:42.931566Z",
     "iopub.status.busy": "2022-04-30T18:02:42.931262Z",
     "iopub.status.idle": "2022-04-30T18:02:42.948780Z",
     "shell.execute_reply": "2022-04-30T18:02:42.947423Z"
    },
    "papermill": {
     "duration": 0.074377,
     "end_time": "2022-04-30T18:02:42.951247",
     "exception": false,
     "start_time": "2022-04-30T18:02:42.876870",
     "status": "completed"
    },
    "tags": []
   },
   "outputs": [
    {
     "data": {
      "text/html": [
       "<div>\n",
       "<style scoped>\n",
       "    .dataframe tbody tr th:only-of-type {\n",
       "        vertical-align: middle;\n",
       "    }\n",
       "\n",
       "    .dataframe tbody tr th {\n",
       "        vertical-align: top;\n",
       "    }\n",
       "\n",
       "    .dataframe thead th {\n",
       "        text-align: right;\n",
       "    }\n",
       "</style>\n",
       "<table border=\"1\" class=\"dataframe\">\n",
       "  <thead>\n",
       "    <tr style=\"text-align: right;\">\n",
       "      <th></th>\n",
       "      <th>PassengerId</th>\n",
       "      <th>Survived</th>\n",
       "    </tr>\n",
       "  </thead>\n",
       "  <tbody>\n",
       "    <tr>\n",
       "      <th>0</th>\n",
       "      <td>892</td>\n",
       "      <td>0</td>\n",
       "    </tr>\n",
       "    <tr>\n",
       "      <th>1</th>\n",
       "      <td>893</td>\n",
       "      <td>1</td>\n",
       "    </tr>\n",
       "    <tr>\n",
       "      <th>2</th>\n",
       "      <td>894</td>\n",
       "      <td>0</td>\n",
       "    </tr>\n",
       "    <tr>\n",
       "      <th>3</th>\n",
       "      <td>895</td>\n",
       "      <td>0</td>\n",
       "    </tr>\n",
       "    <tr>\n",
       "      <th>4</th>\n",
       "      <td>896</td>\n",
       "      <td>1</td>\n",
       "    </tr>\n",
       "    <tr>\n",
       "      <th>5</th>\n",
       "      <td>897</td>\n",
       "      <td>0</td>\n",
       "    </tr>\n",
       "    <tr>\n",
       "      <th>6</th>\n",
       "      <td>898</td>\n",
       "      <td>1</td>\n",
       "    </tr>\n",
       "    <tr>\n",
       "      <th>7</th>\n",
       "      <td>899</td>\n",
       "      <td>0</td>\n",
       "    </tr>\n",
       "    <tr>\n",
       "      <th>8</th>\n",
       "      <td>900</td>\n",
       "      <td>1</td>\n",
       "    </tr>\n",
       "    <tr>\n",
       "      <th>9</th>\n",
       "      <td>901</td>\n",
       "      <td>0</td>\n",
       "    </tr>\n",
       "    <tr>\n",
       "      <th>10</th>\n",
       "      <td>902</td>\n",
       "      <td>0</td>\n",
       "    </tr>\n",
       "    <tr>\n",
       "      <th>11</th>\n",
       "      <td>903</td>\n",
       "      <td>0</td>\n",
       "    </tr>\n",
       "    <tr>\n",
       "      <th>12</th>\n",
       "      <td>904</td>\n",
       "      <td>1</td>\n",
       "    </tr>\n",
       "    <tr>\n",
       "      <th>13</th>\n",
       "      <td>905</td>\n",
       "      <td>0</td>\n",
       "    </tr>\n",
       "    <tr>\n",
       "      <th>14</th>\n",
       "      <td>906</td>\n",
       "      <td>1</td>\n",
       "    </tr>\n",
       "  </tbody>\n",
       "</table>\n",
       "</div>"
      ],
      "text/plain": [
       "    PassengerId  Survived\n",
       "0           892         0\n",
       "1           893         1\n",
       "2           894         0\n",
       "3           895         0\n",
       "4           896         1\n",
       "5           897         0\n",
       "6           898         1\n",
       "7           899         0\n",
       "8           900         1\n",
       "9           901         0\n",
       "10          902         0\n",
       "11          903         0\n",
       "12          904         1\n",
       "13          905         0\n",
       "14          906         1"
      ]
     },
     "execution_count": 19,
     "metadata": {},
     "output_type": "execute_result"
    }
   ],
   "source": [
    "test_predictions = logReg.predict(test)\n",
    "#test_predictions=np.where(test_predictions<.5, 0, test_predictions)\n",
    "#test_predictions=np.where(test_predictions>.5, 1, test_predictions)\n",
    "passID=test['PassengerId']\n",
    "tupleData = list(zip(passID, test_predictions))\n",
    "output = pd.DataFrame(tupleData, columns = ['PassengerId', 'Survived'])\n",
    "output.head(15)"
   ]
  },
  {
   "cell_type": "code",
   "execution_count": 20,
   "id": "29c93aa9",
   "metadata": {
    "execution": {
     "iopub.execute_input": "2022-04-30T18:02:43.058198Z",
     "iopub.status.busy": "2022-04-30T18:02:43.057896Z",
     "iopub.status.idle": "2022-04-30T18:02:43.074369Z",
     "shell.execute_reply": "2022-04-30T18:02:43.073162Z"
    },
    "papermill": {
     "duration": 0.072212,
     "end_time": "2022-04-30T18:02:43.076346",
     "exception": false,
     "start_time": "2022-04-30T18:02:43.004134",
     "status": "completed"
    },
    "tags": []
   },
   "outputs": [
    {
     "data": {
      "text/html": [
       "<div>\n",
       "<style scoped>\n",
       "    .dataframe tbody tr th:only-of-type {\n",
       "        vertical-align: middle;\n",
       "    }\n",
       "\n",
       "    .dataframe tbody tr th {\n",
       "        vertical-align: top;\n",
       "    }\n",
       "\n",
       "    .dataframe thead th {\n",
       "        text-align: right;\n",
       "    }\n",
       "</style>\n",
       "<table border=\"1\" class=\"dataframe\">\n",
       "  <thead>\n",
       "    <tr style=\"text-align: right;\">\n",
       "      <th></th>\n",
       "      <th>PassengerId</th>\n",
       "      <th>Survived</th>\n",
       "    </tr>\n",
       "  </thead>\n",
       "  <tbody>\n",
       "    <tr>\n",
       "      <th>0</th>\n",
       "      <td>892</td>\n",
       "      <td>0</td>\n",
       "    </tr>\n",
       "    <tr>\n",
       "      <th>1</th>\n",
       "      <td>893</td>\n",
       "      <td>1</td>\n",
       "    </tr>\n",
       "    <tr>\n",
       "      <th>2</th>\n",
       "      <td>894</td>\n",
       "      <td>0</td>\n",
       "    </tr>\n",
       "    <tr>\n",
       "      <th>3</th>\n",
       "      <td>895</td>\n",
       "      <td>0</td>\n",
       "    </tr>\n",
       "    <tr>\n",
       "      <th>4</th>\n",
       "      <td>896</td>\n",
       "      <td>1</td>\n",
       "    </tr>\n",
       "    <tr>\n",
       "      <th>5</th>\n",
       "      <td>897</td>\n",
       "      <td>0</td>\n",
       "    </tr>\n",
       "    <tr>\n",
       "      <th>6</th>\n",
       "      <td>898</td>\n",
       "      <td>1</td>\n",
       "    </tr>\n",
       "    <tr>\n",
       "      <th>7</th>\n",
       "      <td>899</td>\n",
       "      <td>0</td>\n",
       "    </tr>\n",
       "    <tr>\n",
       "      <th>8</th>\n",
       "      <td>900</td>\n",
       "      <td>1</td>\n",
       "    </tr>\n",
       "    <tr>\n",
       "      <th>9</th>\n",
       "      <td>901</td>\n",
       "      <td>0</td>\n",
       "    </tr>\n",
       "    <tr>\n",
       "      <th>10</th>\n",
       "      <td>902</td>\n",
       "      <td>0</td>\n",
       "    </tr>\n",
       "    <tr>\n",
       "      <th>11</th>\n",
       "      <td>903</td>\n",
       "      <td>0</td>\n",
       "    </tr>\n",
       "    <tr>\n",
       "      <th>12</th>\n",
       "      <td>904</td>\n",
       "      <td>1</td>\n",
       "    </tr>\n",
       "    <tr>\n",
       "      <th>13</th>\n",
       "      <td>905</td>\n",
       "      <td>0</td>\n",
       "    </tr>\n",
       "    <tr>\n",
       "      <th>14</th>\n",
       "      <td>906</td>\n",
       "      <td>1</td>\n",
       "    </tr>\n",
       "  </tbody>\n",
       "</table>\n",
       "</div>"
      ],
      "text/plain": [
       "    PassengerId  Survived\n",
       "0           892         0\n",
       "1           893         1\n",
       "2           894         0\n",
       "3           895         0\n",
       "4           896         1\n",
       "5           897         0\n",
       "6           898         1\n",
       "7           899         0\n",
       "8           900         1\n",
       "9           901         0\n",
       "10          902         0\n",
       "11          903         0\n",
       "12          904         1\n",
       "13          905         0\n",
       "14          906         1"
      ]
     },
     "execution_count": 20,
     "metadata": {},
     "output_type": "execute_result"
    }
   ],
   "source": [
    "sample=r'/kaggle/input/titanic/gender_submission.csv'\n",
    "sample=pd.read_csv(sample)\n",
    "sample.head(15)"
   ]
  },
  {
   "cell_type": "markdown",
   "id": "3bf12705",
   "metadata": {
    "papermill": {
     "duration": 0.053079,
     "end_time": "2022-04-30T18:02:43.182875",
     "exception": false,
     "start_time": "2022-04-30T18:02:43.129796",
     "status": "completed"
    },
    "tags": []
   },
   "source": [
    "## Submit Predictions"
   ]
  },
  {
   "cell_type": "code",
   "execution_count": 21,
   "id": "fb726f6d",
   "metadata": {
    "execution": {
     "iopub.execute_input": "2022-04-30T18:02:43.294035Z",
     "iopub.status.busy": "2022-04-30T18:02:43.293533Z",
     "iopub.status.idle": "2022-04-30T18:02:43.302877Z",
     "shell.execute_reply": "2022-04-30T18:02:43.302062Z"
    },
    "papermill": {
     "duration": 0.06764,
     "end_time": "2022-04-30T18:02:43.305369",
     "exception": false,
     "start_time": "2022-04-30T18:02:43.237729",
     "status": "completed"
    },
    "tags": []
   },
   "outputs": [
    {
     "name": "stdout",
     "output_type": "stream",
     "text": [
      "Your submission was successfully saved!\n"
     ]
    }
   ],
   "source": [
    "output.to_csv('submission.csv', index=False)\n",
    "print(\"Your submission was successfully saved!\")"
   ]
  }
 ],
 "metadata": {
  "kernelspec": {
   "display_name": "Python 3",
   "language": "python",
   "name": "python3"
  },
  "language_info": {
   "codemirror_mode": {
    "name": "ipython",
    "version": 3
   },
   "file_extension": ".py",
   "mimetype": "text/x-python",
   "name": "python",
   "nbconvert_exporter": "python",
   "pygments_lexer": "ipython3",
   "version": "3.7.12"
  },
  "papermill": {
   "default_parameters": {},
   "duration": 24.631173,
   "end_time": "2022-04-30T18:02:45.984575",
   "environment_variables": {},
   "exception": null,
   "input_path": "__notebook__.ipynb",
   "output_path": "__notebook__.ipynb",
   "parameters": {},
   "start_time": "2022-04-30T18:02:21.353402",
   "version": "2.3.4"
  }
 },
 "nbformat": 4,
 "nbformat_minor": 5
}
