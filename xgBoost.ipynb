{
 "cells": [
  {
   "cell_type": "markdown",
   "id": "23d55c52",
   "metadata": {
    "papermill": {
     "duration": 0.01389,
     "end_time": "2022-10-13T17:50:30.725418",
     "exception": false,
     "start_time": "2022-10-13T17:50:30.711528",
     "status": "completed"
    },
    "tags": []
   },
   "source": [
    "# Predict House Price\n",
    "### xgBoost Search Grid\n",
    "Original full House Price prediction: \n",
    "https://github.com/ScottySchmidt/Kaggle/blob/main/PredictHousePrices.ipynb\n",
    "\n",
    "##### Special Notes:\n",
    "* Removing feature importance with less than .003% makes tunning more consisent with high results\n",
    "* Tunning learning_rate improved 8% better score\n",
    "* Removing outliers improved 4% better score\n",
    "* Removing similiar features makes couple percent better score\n",
    "* Encoding condition1 improved score by less than 1%"
   ]
  },
  {
   "cell_type": "code",
   "execution_count": 1,
   "id": "ef1f528a",
   "metadata": {
    "execution": {
     "iopub.execute_input": "2022-10-13T17:50:30.751560Z",
     "iopub.status.busy": "2022-10-13T17:50:30.750955Z",
     "iopub.status.idle": "2022-10-13T17:50:30.849848Z",
     "shell.execute_reply": "2022-10-13T17:50:30.847833Z"
    },
    "papermill": {
     "duration": 0.11552,
     "end_time": "2022-10-13T17:50:30.853214",
     "exception": false,
     "start_time": "2022-10-13T17:50:30.737694",
     "status": "completed"
    },
    "tags": []
   },
   "outputs": [
    {
     "name": "stdout",
     "output_type": "stream",
     "text": [
      "(1460, 81)\n"
     ]
    },
    {
     "name": "stderr",
     "output_type": "stream",
     "text": [
      "/opt/conda/lib/python3.7/site-packages/ipykernel_launcher.py:6: UserWarning: my warning\n",
      "  \n"
     ]
    },
    {
     "data": {
      "text/html": [
       "<div>\n",
       "<style scoped>\n",
       "    .dataframe tbody tr th:only-of-type {\n",
       "        vertical-align: middle;\n",
       "    }\n",
       "\n",
       "    .dataframe tbody tr th {\n",
       "        vertical-align: top;\n",
       "    }\n",
       "\n",
       "    .dataframe thead th {\n",
       "        text-align: right;\n",
       "    }\n",
       "</style>\n",
       "<table border=\"1\" class=\"dataframe\">\n",
       "  <thead>\n",
       "    <tr style=\"text-align: right;\">\n",
       "      <th></th>\n",
       "      <th>Id</th>\n",
       "      <th>MSSubClass</th>\n",
       "      <th>MSZoning</th>\n",
       "      <th>LotFrontage</th>\n",
       "      <th>LotArea</th>\n",
       "      <th>Street</th>\n",
       "      <th>Alley</th>\n",
       "      <th>LotShape</th>\n",
       "      <th>LandContour</th>\n",
       "      <th>Utilities</th>\n",
       "      <th>...</th>\n",
       "      <th>PoolArea</th>\n",
       "      <th>PoolQC</th>\n",
       "      <th>Fence</th>\n",
       "      <th>MiscFeature</th>\n",
       "      <th>MiscVal</th>\n",
       "      <th>MoSold</th>\n",
       "      <th>YrSold</th>\n",
       "      <th>SaleType</th>\n",
       "      <th>SaleCondition</th>\n",
       "      <th>SalePrice</th>\n",
       "    </tr>\n",
       "  </thead>\n",
       "  <tbody>\n",
       "    <tr>\n",
       "      <th>0</th>\n",
       "      <td>1</td>\n",
       "      <td>60</td>\n",
       "      <td>RL</td>\n",
       "      <td>65.0</td>\n",
       "      <td>8450</td>\n",
       "      <td>Pave</td>\n",
       "      <td>NaN</td>\n",
       "      <td>Reg</td>\n",
       "      <td>Lvl</td>\n",
       "      <td>AllPub</td>\n",
       "      <td>...</td>\n",
       "      <td>0</td>\n",
       "      <td>NaN</td>\n",
       "      <td>NaN</td>\n",
       "      <td>NaN</td>\n",
       "      <td>0</td>\n",
       "      <td>2</td>\n",
       "      <td>2008</td>\n",
       "      <td>WD</td>\n",
       "      <td>Normal</td>\n",
       "      <td>208500</td>\n",
       "    </tr>\n",
       "    <tr>\n",
       "      <th>1</th>\n",
       "      <td>2</td>\n",
       "      <td>20</td>\n",
       "      <td>RL</td>\n",
       "      <td>80.0</td>\n",
       "      <td>9600</td>\n",
       "      <td>Pave</td>\n",
       "      <td>NaN</td>\n",
       "      <td>Reg</td>\n",
       "      <td>Lvl</td>\n",
       "      <td>AllPub</td>\n",
       "      <td>...</td>\n",
       "      <td>0</td>\n",
       "      <td>NaN</td>\n",
       "      <td>NaN</td>\n",
       "      <td>NaN</td>\n",
       "      <td>0</td>\n",
       "      <td>5</td>\n",
       "      <td>2007</td>\n",
       "      <td>WD</td>\n",
       "      <td>Normal</td>\n",
       "      <td>181500</td>\n",
       "    </tr>\n",
       "    <tr>\n",
       "      <th>2</th>\n",
       "      <td>3</td>\n",
       "      <td>60</td>\n",
       "      <td>RL</td>\n",
       "      <td>68.0</td>\n",
       "      <td>11250</td>\n",
       "      <td>Pave</td>\n",
       "      <td>NaN</td>\n",
       "      <td>IR1</td>\n",
       "      <td>Lvl</td>\n",
       "      <td>AllPub</td>\n",
       "      <td>...</td>\n",
       "      <td>0</td>\n",
       "      <td>NaN</td>\n",
       "      <td>NaN</td>\n",
       "      <td>NaN</td>\n",
       "      <td>0</td>\n",
       "      <td>9</td>\n",
       "      <td>2008</td>\n",
       "      <td>WD</td>\n",
       "      <td>Normal</td>\n",
       "      <td>223500</td>\n",
       "    </tr>\n",
       "    <tr>\n",
       "      <th>3</th>\n",
       "      <td>4</td>\n",
       "      <td>70</td>\n",
       "      <td>RL</td>\n",
       "      <td>60.0</td>\n",
       "      <td>9550</td>\n",
       "      <td>Pave</td>\n",
       "      <td>NaN</td>\n",
       "      <td>IR1</td>\n",
       "      <td>Lvl</td>\n",
       "      <td>AllPub</td>\n",
       "      <td>...</td>\n",
       "      <td>0</td>\n",
       "      <td>NaN</td>\n",
       "      <td>NaN</td>\n",
       "      <td>NaN</td>\n",
       "      <td>0</td>\n",
       "      <td>2</td>\n",
       "      <td>2006</td>\n",
       "      <td>WD</td>\n",
       "      <td>Abnorml</td>\n",
       "      <td>140000</td>\n",
       "    </tr>\n",
       "    <tr>\n",
       "      <th>4</th>\n",
       "      <td>5</td>\n",
       "      <td>60</td>\n",
       "      <td>RL</td>\n",
       "      <td>84.0</td>\n",
       "      <td>14260</td>\n",
       "      <td>Pave</td>\n",
       "      <td>NaN</td>\n",
       "      <td>IR1</td>\n",
       "      <td>Lvl</td>\n",
       "      <td>AllPub</td>\n",
       "      <td>...</td>\n",
       "      <td>0</td>\n",
       "      <td>NaN</td>\n",
       "      <td>NaN</td>\n",
       "      <td>NaN</td>\n",
       "      <td>0</td>\n",
       "      <td>12</td>\n",
       "      <td>2008</td>\n",
       "      <td>WD</td>\n",
       "      <td>Normal</td>\n",
       "      <td>250000</td>\n",
       "    </tr>\n",
       "  </tbody>\n",
       "</table>\n",
       "<p>5 rows × 81 columns</p>\n",
       "</div>"
      ],
      "text/plain": [
       "   Id  MSSubClass MSZoning  LotFrontage  LotArea Street Alley LotShape  \\\n",
       "0   1          60       RL         65.0     8450   Pave   NaN      Reg   \n",
       "1   2          20       RL         80.0     9600   Pave   NaN      Reg   \n",
       "2   3          60       RL         68.0    11250   Pave   NaN      IR1   \n",
       "3   4          70       RL         60.0     9550   Pave   NaN      IR1   \n",
       "4   5          60       RL         84.0    14260   Pave   NaN      IR1   \n",
       "\n",
       "  LandContour Utilities  ... PoolArea PoolQC Fence MiscFeature MiscVal MoSold  \\\n",
       "0         Lvl    AllPub  ...        0    NaN   NaN         NaN       0      2   \n",
       "1         Lvl    AllPub  ...        0    NaN   NaN         NaN       0      5   \n",
       "2         Lvl    AllPub  ...        0    NaN   NaN         NaN       0      9   \n",
       "3         Lvl    AllPub  ...        0    NaN   NaN         NaN       0      2   \n",
       "4         Lvl    AllPub  ...        0    NaN   NaN         NaN       0     12   \n",
       "\n",
       "  YrSold  SaleType  SaleCondition  SalePrice  \n",
       "0   2008        WD         Normal     208500  \n",
       "1   2007        WD         Normal     181500  \n",
       "2   2008        WD         Normal     223500  \n",
       "3   2006        WD        Abnorml     140000  \n",
       "4   2008        WD         Normal     250000  \n",
       "\n",
       "[5 rows x 81 columns]"
      ]
     },
     "execution_count": 1,
     "metadata": {},
     "output_type": "execute_result"
    }
   ],
   "source": [
    "import pandas as pd\n",
    "import numpy as np\n",
    "import sys\n",
    "import matplotlib.pyplot as plt\n",
    "import warnings\n",
    "warnings.warn('my warning')\n",
    "\n",
    "data='/kaggle/input/house-prices-advanced-regression-techniques/train.csv'\n",
    "df=pd.read_csv(data)\n",
    "print(df.shape)\n",
    "df.head()"
   ]
  },
  {
   "cell_type": "markdown",
   "id": "7a7415ea",
   "metadata": {
    "papermill": {
     "duration": 0.013388,
     "end_time": "2022-10-13T17:50:30.878415",
     "exception": false,
     "start_time": "2022-10-13T17:50:30.865027",
     "status": "completed"
    },
    "tags": []
   },
   "source": [
    "# Missing Values"
   ]
  },
  {
   "cell_type": "code",
   "execution_count": 2,
   "id": "122d5acf",
   "metadata": {
    "execution": {
     "iopub.execute_input": "2022-10-13T17:50:30.907831Z",
     "iopub.status.busy": "2022-10-13T17:50:30.907035Z",
     "iopub.status.idle": "2022-10-13T17:50:30.922460Z",
     "shell.execute_reply": "2022-10-13T17:50:30.921122Z"
    },
    "papermill": {
     "duration": 0.032222,
     "end_time": "2022-10-13T17:50:30.925782",
     "exception": false,
     "start_time": "2022-10-13T17:50:30.893560",
     "status": "completed"
    },
    "tags": []
   },
   "outputs": [
    {
     "name": "stdout",
     "output_type": "stream",
     "text": [
      "Missing data by column as a percent:\n",
      "PoolQC          21.686567\n",
      "MiscFeature     20.985075\n",
      "Alley           20.432836\n",
      "Fence           17.597015\n",
      "FireplaceQu     10.298507\n",
      "LotFrontage      3.865672\n",
      "GarageYrBlt      1.208955\n",
      "GarageCond       1.208955\n",
      "GarageType       1.208955\n",
      "GarageFinish     1.208955\n",
      "dtype: float64\n"
     ]
    }
   ],
   "source": [
    "#search for columns with missing values:\n",
    "def findNA():\n",
    "    print(\"Missing data by column as a percent:\")\n",
    "    findNA=df.isnull().sum().sort_values(ascending=False)/len(data)\n",
    "    print(findNA.head(10))\n",
    "findNA() "
   ]
  },
  {
   "cell_type": "code",
   "execution_count": 3,
   "id": "59ca9ea3",
   "metadata": {
    "execution": {
     "iopub.execute_input": "2022-10-13T17:50:30.952461Z",
     "iopub.status.busy": "2022-10-13T17:50:30.951689Z",
     "iopub.status.idle": "2022-10-13T17:50:30.996363Z",
     "shell.execute_reply": "2022-10-13T17:50:30.995035Z"
    },
    "papermill": {
     "duration": 0.06133,
     "end_time": "2022-10-13T17:50:30.999406",
     "exception": false,
     "start_time": "2022-10-13T17:50:30.938076",
     "status": "completed"
    },
    "tags": []
   },
   "outputs": [
    {
     "name": "stdout",
     "output_type": "stream",
     "text": [
      "(1460, 81)\n"
     ]
    },
    {
     "name": "stderr",
     "output_type": "stream",
     "text": [
      "/opt/conda/lib/python3.7/site-packages/ipykernel_launcher.py:5: FutureWarning: Dropping of nuisance columns in DataFrame reductions (with 'numeric_only=None') is deprecated; in a future version this will raise TypeError.  Select only valid columns before calling the reduction.\n",
      "  \"\"\"\n"
     ]
    }
   ],
   "source": [
    "df['MiscFeature']=df['MiscFeature'].fillna(0)\n",
    "df['Alley']=df['Alley'].fillna(0)\n",
    "df['Fence']=df['Fence'].fillna(0)\n",
    "df['FireplaceQu']=df['FireplaceQu'].fillna(0)\n",
    "df=df.fillna(df.mean())\n",
    "#df=df.drop(columns=['MiscFeature', 'Alley', 'Fence', 'FireplaceQu'])\n",
    "print(df.shape)"
   ]
  },
  {
   "cell_type": "code",
   "execution_count": 4,
   "id": "8203a2c7",
   "metadata": {
    "execution": {
     "iopub.execute_input": "2022-10-13T17:50:31.026550Z",
     "iopub.status.busy": "2022-10-13T17:50:31.025762Z",
     "iopub.status.idle": "2022-10-13T17:50:31.033978Z",
     "shell.execute_reply": "2022-10-13T17:50:31.032995Z"
    },
    "papermill": {
     "duration": 0.023832,
     "end_time": "2022-10-13T17:50:31.036230",
     "exception": false,
     "start_time": "2022-10-13T17:50:31.012398",
     "status": "completed"
    },
    "tags": []
   },
   "outputs": [
    {
     "data": {
      "text/plain": [
       "Index(['Id', 'MSSubClass', 'MSZoning', 'LotFrontage', 'LotArea', 'Street',\n",
       "       'Alley', 'LotShape', 'LandContour', 'Utilities', 'LotConfig',\n",
       "       'LandSlope', 'Neighborhood', 'Condition1', 'Condition2', 'BldgType',\n",
       "       'HouseStyle', 'OverallQual', 'OverallCond', 'YearBuilt', 'YearRemodAdd',\n",
       "       'RoofStyle', 'RoofMatl', 'Exterior1st', 'Exterior2nd', 'MasVnrType',\n",
       "       'MasVnrArea', 'ExterQual', 'ExterCond', 'Foundation', 'BsmtQual',\n",
       "       'BsmtCond', 'BsmtExposure', 'BsmtFinType1', 'BsmtFinSF1',\n",
       "       'BsmtFinType2', 'BsmtFinSF2', 'BsmtUnfSF', 'TotalBsmtSF', 'Heating',\n",
       "       'HeatingQC', 'CentralAir', 'Electrical', '1stFlrSF', '2ndFlrSF',\n",
       "       'LowQualFinSF', 'GrLivArea', 'BsmtFullBath', 'BsmtHalfBath', 'FullBath',\n",
       "       'HalfBath', 'BedroomAbvGr', 'KitchenAbvGr', 'KitchenQual',\n",
       "       'TotRmsAbvGrd', 'Functional', 'Fireplaces', 'FireplaceQu', 'GarageType',\n",
       "       'GarageYrBlt', 'GarageFinish', 'GarageCars', 'GarageArea', 'GarageQual',\n",
       "       'GarageCond', 'PavedDrive', 'WoodDeckSF', 'OpenPorchSF',\n",
       "       'EnclosedPorch', '3SsnPorch', 'ScreenPorch', 'PoolArea', 'PoolQC',\n",
       "       'Fence', 'MiscFeature', 'MiscVal', 'MoSold', 'YrSold', 'SaleType',\n",
       "       'SaleCondition', 'SalePrice'],\n",
       "      dtype='object')"
      ]
     },
     "execution_count": 4,
     "metadata": {},
     "output_type": "execute_result"
    }
   ],
   "source": [
    "df.columns"
   ]
  },
  {
   "cell_type": "markdown",
   "id": "4fc90a51",
   "metadata": {
    "papermill": {
     "duration": 0.011678,
     "end_time": "2022-10-13T17:50:31.059863",
     "exception": false,
     "start_time": "2022-10-13T17:50:31.048185",
     "status": "completed"
    },
    "tags": []
   },
   "source": [
    "# Feature Engineer"
   ]
  },
  {
   "cell_type": "code",
   "execution_count": 5,
   "id": "291e9b81",
   "metadata": {
    "execution": {
     "iopub.execute_input": "2022-10-13T17:50:31.085824Z",
     "iopub.status.busy": "2022-10-13T17:50:31.085002Z",
     "iopub.status.idle": "2022-10-13T17:50:31.116420Z",
     "shell.execute_reply": "2022-10-13T17:50:31.115290Z"
    },
    "papermill": {
     "duration": 0.047206,
     "end_time": "2022-10-13T17:50:31.118803",
     "exception": false,
     "start_time": "2022-10-13T17:50:31.071597",
     "status": "completed"
    },
    "tags": []
   },
   "outputs": [
    {
     "data": {
      "text/html": [
       "<div>\n",
       "<style scoped>\n",
       "    .dataframe tbody tr th:only-of-type {\n",
       "        vertical-align: middle;\n",
       "    }\n",
       "\n",
       "    .dataframe tbody tr th {\n",
       "        vertical-align: top;\n",
       "    }\n",
       "\n",
       "    .dataframe thead th {\n",
       "        text-align: right;\n",
       "    }\n",
       "</style>\n",
       "<table border=\"1\" class=\"dataframe\">\n",
       "  <thead>\n",
       "    <tr style=\"text-align: right;\">\n",
       "      <th></th>\n",
       "      <th>bathrooms</th>\n",
       "      <th>totalSQ</th>\n",
       "      <th>CentralAir</th>\n",
       "      <th>NewConstruction</th>\n",
       "      <th>PoolScore</th>\n",
       "    </tr>\n",
       "  </thead>\n",
       "  <tbody>\n",
       "    <tr>\n",
       "      <th>0</th>\n",
       "      <td>4</td>\n",
       "      <td>2566</td>\n",
       "      <td>0</td>\n",
       "      <td>0</td>\n",
       "      <td>NaN</td>\n",
       "    </tr>\n",
       "    <tr>\n",
       "      <th>1</th>\n",
       "      <td>4</td>\n",
       "      <td>2524</td>\n",
       "      <td>0</td>\n",
       "      <td>0</td>\n",
       "      <td>NaN</td>\n",
       "    </tr>\n",
       "    <tr>\n",
       "      <th>2</th>\n",
       "      <td>4</td>\n",
       "      <td>2706</td>\n",
       "      <td>0</td>\n",
       "      <td>0</td>\n",
       "      <td>NaN</td>\n",
       "    </tr>\n",
       "    <tr>\n",
       "      <th>3</th>\n",
       "      <td>2</td>\n",
       "      <td>2473</td>\n",
       "      <td>0</td>\n",
       "      <td>0</td>\n",
       "      <td>NaN</td>\n",
       "    </tr>\n",
       "    <tr>\n",
       "      <th>4</th>\n",
       "      <td>4</td>\n",
       "      <td>3343</td>\n",
       "      <td>0</td>\n",
       "      <td>0</td>\n",
       "      <td>NaN</td>\n",
       "    </tr>\n",
       "  </tbody>\n",
       "</table>\n",
       "</div>"
      ],
      "text/plain": [
       "   bathrooms  totalSQ  CentralAir  NewConstruction PoolScore\n",
       "0          4     2566           0                0       NaN\n",
       "1          4     2524           0                0       NaN\n",
       "2          4     2706           0                0       NaN\n",
       "3          2     2473           0                0       NaN\n",
       "4          4     3343           0                0       NaN"
      ]
     },
     "execution_count": 5,
     "metadata": {},
     "output_type": "execute_result"
    }
   ],
   "source": [
    "df['totalSQ']=df['1stFlrSF']+df['2ndFlrSF']+df['TotalBsmtSF']\n",
    "df['bathrooms']=df['FullBath']+df['BsmtFullBath']+df['BsmtHalfBath']+df['HalfBath']+df['BsmtHalfBath']\n",
    "df['CentralAir'] = df['CentralAir'].replace({'Y':0, 'N':1})\n",
    "df['NewConstruction'] = (df['SaleType'] == 'New').astype('int64')\n",
    "df[\"PoolScore\"] = df[\"PoolArea\"] * df[\"PoolQC\"]\n",
    "#df['hasPool']=df['PoolArea'].apply(lambda x: 1 if x>0 else 0).fillna(0)\n",
    "#df['SaleCondition']=df['SaleCondition'].apply(lambda x:1 if x == 'Normal' else 0)\n",
    "#df['Condition1']=df['Condition1'].apply(lambda x: 1 if x=='Norm' else 0)\n",
    "\n",
    "\n",
    "df=df.drop(columns=['1stFlrSF', '2ndFlrSF','TotalBsmtSF'])\n",
    "df=df.drop(columns=['FullBath','BsmtFullBath', 'BsmtHalfBath','HalfBath', 'BsmtHalfBath'])\n",
    "df[['bathrooms', 'totalSQ', 'CentralAir', 'NewConstruction', 'PoolScore']].head()"
   ]
  },
  {
   "cell_type": "code",
   "execution_count": 6,
   "id": "9f97f04e",
   "metadata": {
    "execution": {
     "iopub.execute_input": "2022-10-13T17:50:31.144659Z",
     "iopub.status.busy": "2022-10-13T17:50:31.144266Z",
     "iopub.status.idle": "2022-10-13T17:50:31.153865Z",
     "shell.execute_reply": "2022-10-13T17:50:31.153019Z"
    },
    "papermill": {
     "duration": 0.025198,
     "end_time": "2022-10-13T17:50:31.156142",
     "exception": false,
     "start_time": "2022-10-13T17:50:31.130944",
     "status": "completed"
    },
    "tags": []
   },
   "outputs": [],
   "source": [
    "#Had 0% feature importance:\n",
    "#df['Condition2']=df['Condition2'].apply(lambda x: 1 if x=='Norm' else 0)\n",
    "#df['Street']=df['Street'].fillna(0).apply(lambda x:0 if x =='Grvl' else 1)\n",
    "df=df.drop(['BsmtFinSF2','LowQualFinSF', \n",
    "            '3SsnPorch', 'ScreenPorch','MiscVal', \n",
    "            'MoSold', 'EnclosedPorch', 'MasVnrArea', 'YrSold',\n",
    "             'BedroomAbvGr', 'PoolArea'], axis=1)\n",
    "\n",
    "#After removing above, these had less than .004 feature importance:\n",
    "df=df.drop(['MSSubClass', 'LotFrontage', 'TotRmsAbvGrd', 'BsmtUnfSF', 'OpenPorchSF'], axis=1)"
   ]
  },
  {
   "cell_type": "code",
   "execution_count": 7,
   "id": "7e8dea6f",
   "metadata": {
    "execution": {
     "iopub.execute_input": "2022-10-13T17:50:31.182447Z",
     "iopub.status.busy": "2022-10-13T17:50:31.181692Z",
     "iopub.status.idle": "2022-10-13T17:50:31.202974Z",
     "shell.execute_reply": "2022-10-13T17:50:31.201876Z"
    },
    "papermill": {
     "duration": 0.03707,
     "end_time": "2022-10-13T17:50:31.205295",
     "exception": false,
     "start_time": "2022-10-13T17:50:31.168225",
     "status": "completed"
    },
    "tags": []
   },
   "outputs": [
    {
     "data": {
      "text/html": [
       "<div>\n",
       "<style scoped>\n",
       "    .dataframe tbody tr th:only-of-type {\n",
       "        vertical-align: middle;\n",
       "    }\n",
       "\n",
       "    .dataframe tbody tr th {\n",
       "        vertical-align: top;\n",
       "    }\n",
       "\n",
       "    .dataframe thead th {\n",
       "        text-align: right;\n",
       "    }\n",
       "</style>\n",
       "<table border=\"1\" class=\"dataframe\">\n",
       "  <thead>\n",
       "    <tr style=\"text-align: right;\">\n",
       "      <th></th>\n",
       "      <th>Id</th>\n",
       "      <th>LotArea</th>\n",
       "      <th>OverallQual</th>\n",
       "      <th>OverallCond</th>\n",
       "      <th>YearBuilt</th>\n",
       "      <th>YearRemodAdd</th>\n",
       "      <th>BsmtFinSF1</th>\n",
       "      <th>CentralAir</th>\n",
       "      <th>GrLivArea</th>\n",
       "      <th>KitchenAbvGr</th>\n",
       "      <th>Fireplaces</th>\n",
       "      <th>GarageYrBlt</th>\n",
       "      <th>GarageCars</th>\n",
       "      <th>GarageArea</th>\n",
       "      <th>WoodDeckSF</th>\n",
       "      <th>SalePrice</th>\n",
       "      <th>totalSQ</th>\n",
       "      <th>bathrooms</th>\n",
       "      <th>NewConstruction</th>\n",
       "    </tr>\n",
       "  </thead>\n",
       "  <tbody>\n",
       "    <tr>\n",
       "      <th>0</th>\n",
       "      <td>1</td>\n",
       "      <td>8450</td>\n",
       "      <td>7</td>\n",
       "      <td>5</td>\n",
       "      <td>2003</td>\n",
       "      <td>2003</td>\n",
       "      <td>706</td>\n",
       "      <td>0</td>\n",
       "      <td>1710</td>\n",
       "      <td>1</td>\n",
       "      <td>0</td>\n",
       "      <td>2003.0</td>\n",
       "      <td>2</td>\n",
       "      <td>548</td>\n",
       "      <td>0</td>\n",
       "      <td>208500</td>\n",
       "      <td>2566</td>\n",
       "      <td>4</td>\n",
       "      <td>0</td>\n",
       "    </tr>\n",
       "    <tr>\n",
       "      <th>1</th>\n",
       "      <td>2</td>\n",
       "      <td>9600</td>\n",
       "      <td>6</td>\n",
       "      <td>8</td>\n",
       "      <td>1976</td>\n",
       "      <td>1976</td>\n",
       "      <td>978</td>\n",
       "      <td>0</td>\n",
       "      <td>1262</td>\n",
       "      <td>1</td>\n",
       "      <td>1</td>\n",
       "      <td>1976.0</td>\n",
       "      <td>2</td>\n",
       "      <td>460</td>\n",
       "      <td>298</td>\n",
       "      <td>181500</td>\n",
       "      <td>2524</td>\n",
       "      <td>4</td>\n",
       "      <td>0</td>\n",
       "    </tr>\n",
       "    <tr>\n",
       "      <th>2</th>\n",
       "      <td>3</td>\n",
       "      <td>11250</td>\n",
       "      <td>7</td>\n",
       "      <td>5</td>\n",
       "      <td>2001</td>\n",
       "      <td>2002</td>\n",
       "      <td>486</td>\n",
       "      <td>0</td>\n",
       "      <td>1786</td>\n",
       "      <td>1</td>\n",
       "      <td>1</td>\n",
       "      <td>2001.0</td>\n",
       "      <td>2</td>\n",
       "      <td>608</td>\n",
       "      <td>0</td>\n",
       "      <td>223500</td>\n",
       "      <td>2706</td>\n",
       "      <td>4</td>\n",
       "      <td>0</td>\n",
       "    </tr>\n",
       "    <tr>\n",
       "      <th>3</th>\n",
       "      <td>4</td>\n",
       "      <td>9550</td>\n",
       "      <td>7</td>\n",
       "      <td>5</td>\n",
       "      <td>1915</td>\n",
       "      <td>1970</td>\n",
       "      <td>216</td>\n",
       "      <td>0</td>\n",
       "      <td>1717</td>\n",
       "      <td>1</td>\n",
       "      <td>1</td>\n",
       "      <td>1998.0</td>\n",
       "      <td>3</td>\n",
       "      <td>642</td>\n",
       "      <td>0</td>\n",
       "      <td>140000</td>\n",
       "      <td>2473</td>\n",
       "      <td>2</td>\n",
       "      <td>0</td>\n",
       "    </tr>\n",
       "    <tr>\n",
       "      <th>4</th>\n",
       "      <td>5</td>\n",
       "      <td>14260</td>\n",
       "      <td>8</td>\n",
       "      <td>5</td>\n",
       "      <td>2000</td>\n",
       "      <td>2000</td>\n",
       "      <td>655</td>\n",
       "      <td>0</td>\n",
       "      <td>2198</td>\n",
       "      <td>1</td>\n",
       "      <td>1</td>\n",
       "      <td>2000.0</td>\n",
       "      <td>3</td>\n",
       "      <td>836</td>\n",
       "      <td>192</td>\n",
       "      <td>250000</td>\n",
       "      <td>3343</td>\n",
       "      <td>4</td>\n",
       "      <td>0</td>\n",
       "    </tr>\n",
       "  </tbody>\n",
       "</table>\n",
       "</div>"
      ],
      "text/plain": [
       "   Id  LotArea  OverallQual  OverallCond  YearBuilt  YearRemodAdd  BsmtFinSF1  \\\n",
       "0   1     8450            7            5       2003          2003         706   \n",
       "1   2     9600            6            8       1976          1976         978   \n",
       "2   3    11250            7            5       2001          2002         486   \n",
       "3   4     9550            7            5       1915          1970         216   \n",
       "4   5    14260            8            5       2000          2000         655   \n",
       "\n",
       "   CentralAir  GrLivArea  KitchenAbvGr  Fireplaces  GarageYrBlt  GarageCars  \\\n",
       "0           0       1710             1           0       2003.0           2   \n",
       "1           0       1262             1           1       1976.0           2   \n",
       "2           0       1786             1           1       2001.0           2   \n",
       "3           0       1717             1           1       1998.0           3   \n",
       "4           0       2198             1           1       2000.0           3   \n",
       "\n",
       "   GarageArea  WoodDeckSF  SalePrice  totalSQ  bathrooms  NewConstruction  \n",
       "0         548           0     208500     2566          4                0  \n",
       "1         460         298     181500     2524          4                0  \n",
       "2         608           0     223500     2706          4                0  \n",
       "3         642           0     140000     2473          2                0  \n",
       "4         836         192     250000     3343          4                0  "
      ]
     },
     "execution_count": 7,
     "metadata": {},
     "output_type": "execute_result"
    }
   ],
   "source": [
    "df = df.select_dtypes(include=['int16', 'int32', 'int64', 'float16', 'float32', 'float64'])\n",
    "df.head()"
   ]
  },
  {
   "cell_type": "markdown",
   "id": "b7b226e3",
   "metadata": {
    "papermill": {
     "duration": 0.012352,
     "end_time": "2022-10-13T17:50:31.229556",
     "exception": false,
     "start_time": "2022-10-13T17:50:31.217204",
     "status": "completed"
    },
    "tags": []
   },
   "source": [
    "# Outliers"
   ]
  },
  {
   "cell_type": "code",
   "execution_count": 8,
   "id": "e6f15e30",
   "metadata": {
    "execution": {
     "iopub.execute_input": "2022-10-13T17:50:31.257263Z",
     "iopub.status.busy": "2022-10-13T17:50:31.256218Z",
     "iopub.status.idle": "2022-10-13T17:50:33.034033Z",
     "shell.execute_reply": "2022-10-13T17:50:33.032896Z"
    },
    "papermill": {
     "duration": 1.793991,
     "end_time": "2022-10-13T17:50:33.036690",
     "exception": false,
     "start_time": "2022-10-13T17:50:31.242699",
     "status": "completed"
    },
    "tags": []
   },
   "outputs": [
    {
     "data": {
      "text/plain": [
       "<seaborn.axisgrid.FacetGrid at 0x7f23202038d0>"
      ]
     },
     "execution_count": 8,
     "metadata": {},
     "output_type": "execute_result"
    },
    {
     "data": {
      "image/png": "[encoded data removed]",
      "text/plain": [
       "<Figure size 360x360 with 1 Axes>"
      ]
     },
     "metadata": {
      "needs_background": "light"
     },
     "output_type": "display_data"
    },
    {
     "data": {
      "image/png": "[encoded data removed]",
      "text/plain": [
       "<Figure size 360x360 with 1 Axes>"
      ]
     },
     "metadata": {
      "needs_background": "light"
     },
     "output_type": "display_data"
    }
   ],
   "source": [
    "import seaborn as sns\n",
    "sns.displot(df, x='SalePrice')\n",
    "sns.displot(df, x='totalSQ')"
   ]
  },
  {
   "cell_type": "code",
   "execution_count": 9,
   "id": "403bdfd2",
   "metadata": {
    "execution": {
     "iopub.execute_input": "2022-10-13T17:50:33.064519Z",
     "iopub.status.busy": "2022-10-13T17:50:33.064146Z",
     "iopub.status.idle": "2022-10-13T17:50:33.078547Z",
     "shell.execute_reply": "2022-10-13T17:50:33.077480Z"
    },
    "papermill": {
     "duration": 0.031606,
     "end_time": "2022-10-13T17:50:33.081549",
     "exception": false,
     "start_time": "2022-10-13T17:50:33.049943",
     "status": "completed"
    },
    "tags": []
   },
   "outputs": [
    {
     "name": "stdout",
     "output_type": "stream",
     "text": [
      "[438780, 501837, 475000, 437154, 426000, 555000, 440000, 430000, 446261, 451950, 423000, 755000, 538000, 485000, 582933, 611657, 556581, 424870, 625000, 745000, 465000, 466500]\n",
      "[438780, 501837, 475000, 437154, 426000, 555000, 440000, 430000, 446261, 451950, 423000, 755000, 538000, 485000, 582933, 611657, 556581, 424870, 625000, 745000, 465000, 466500, 5496, 6428, 7814, 6760, 5066, 5048, 5557, 6872, 11752, 5271, 5266]\n"
     ]
    }
   ],
   "source": [
    "from scipy import stats\n",
    "\n",
    "outliers=[]\n",
    "def detect_outlier(data_1):\n",
    "    threshold=3\n",
    "    mean_1 = np.mean(data_1)\n",
    "    std_1 =np.std(data_1)\n",
    "    \n",
    "    for y in data_1:\n",
    "        z_score= (y - mean_1)/std_1 \n",
    "        if np.abs(z_score) > threshold:\n",
    "            outliers.append(y)\n",
    "    return outliers\n",
    "priceOutlier=list(detect_outlier(df['SalePrice']))\n",
    "print(priceOutlier)\n",
    "sqOutlier=list(detect_outlier(df['totalSQ']))\n",
    "print(sqOutlier)"
   ]
  },
  {
   "cell_type": "code",
   "execution_count": 10,
   "id": "252db6fd",
   "metadata": {
    "execution": {
     "iopub.execute_input": "2022-10-13T17:50:33.109247Z",
     "iopub.status.busy": "2022-10-13T17:50:33.108879Z",
     "iopub.status.idle": "2022-10-13T17:50:33.117558Z",
     "shell.execute_reply": "2022-10-13T17:50:33.116195Z"
    },
    "papermill": {
     "duration": 0.024905,
     "end_time": "2022-10-13T17:50:33.119508",
     "exception": false,
     "start_time": "2022-10-13T17:50:33.094603",
     "status": "completed"
    },
    "tags": []
   },
   "outputs": [
    {
     "name": "stdout",
     "output_type": "stream",
     "text": [
      "(1444, 19)\n"
     ]
    }
   ],
   "source": [
    "#Remove Outliers:\n",
    "df=df.loc[df['SalePrice']<500_000]\n",
    "df=df.loc[df['totalSQ']<5000]\n",
    "print(df.shape) "
   ]
  },
  {
   "cell_type": "markdown",
   "id": "fc0b1123",
   "metadata": {
    "papermill": {
     "duration": 0.012426,
     "end_time": "2022-10-13T17:50:33.144824",
     "exception": false,
     "start_time": "2022-10-13T17:50:33.132398",
     "status": "completed"
    },
    "tags": []
   },
   "source": [
    "# Correlations"
   ]
  },
  {
   "cell_type": "code",
   "execution_count": 11,
   "id": "178f671a",
   "metadata": {
    "execution": {
     "iopub.execute_input": "2022-10-13T17:50:33.172576Z",
     "iopub.status.busy": "2022-10-13T17:50:33.172172Z",
     "iopub.status.idle": "2022-10-13T17:50:34.496402Z",
     "shell.execute_reply": "2022-10-13T17:50:34.495496Z"
    },
    "papermill": {
     "duration": 1.342019,
     "end_time": "2022-10-13T17:50:34.500131",
     "exception": false,
     "start_time": "2022-10-13T17:50:33.158112",
     "status": "completed"
    },
    "tags": []
   },
   "outputs": [
    {
     "data": {
      "text/plain": [
       "<AxesSubplot:>"
      ]
     },
     "execution_count": 11,
     "metadata": {},
     "output_type": "execute_result"
    },
    {
     "data": {
      "image/png": "[encoded data removed]",
      "text/plain": [
       "<Figure size 1440x1440 with 2 Axes>"
      ]
     },
     "metadata": {
      "needs_background": "light"
     },
     "output_type": "display_data"
    }
   ],
   "source": [
    "import seaborn as sns\n",
    "corr= df.corr()\n",
    "matrix = np.triu(corr)\n",
    "fig, ax = plt.subplots(figsize=(20,20))    \n",
    "sns.heatmap(corr, annot=True, mask=matrix)"
   ]
  },
  {
   "cell_type": "code",
   "execution_count": 12,
   "id": "5296b939",
   "metadata": {
    "execution": {
     "iopub.execute_input": "2022-10-13T17:50:34.533181Z",
     "iopub.status.busy": "2022-10-13T17:50:34.532467Z",
     "iopub.status.idle": "2022-10-13T17:50:34.538042Z",
     "shell.execute_reply": "2022-10-13T17:50:34.537037Z"
    },
    "papermill": {
     "duration": 0.024467,
     "end_time": "2022-10-13T17:50:34.540219",
     "exception": false,
     "start_time": "2022-10-13T17:50:34.515752",
     "status": "completed"
    },
    "tags": []
   },
   "outputs": [],
   "source": [
    "#Too similiar variables:\n",
    "df=df.drop(['GarageYrBlt'], axis=1) \n",
    "#GarageYrBlt and houseYear too similiar"
   ]
  },
  {
   "cell_type": "markdown",
   "id": "41c3eaa9",
   "metadata": {
    "papermill": {
     "duration": 0.014803,
     "end_time": "2022-10-13T17:50:34.570309",
     "exception": false,
     "start_time": "2022-10-13T17:50:34.555506",
     "status": "completed"
    },
    "tags": []
   },
   "source": [
    "# Split Data"
   ]
  },
  {
   "cell_type": "code",
   "execution_count": 13,
   "id": "14d81e98",
   "metadata": {
    "execution": {
     "iopub.execute_input": "2022-10-13T17:50:34.605434Z",
     "iopub.status.busy": "2022-10-13T17:50:34.604469Z",
     "iopub.status.idle": "2022-10-13T17:50:34.803416Z",
     "shell.execute_reply": "2022-10-13T17:50:34.802591Z"
    },
    "papermill": {
     "duration": 0.220546,
     "end_time": "2022-10-13T17:50:34.806037",
     "exception": false,
     "start_time": "2022-10-13T17:50:34.585491",
     "status": "completed"
    },
    "tags": []
   },
   "outputs": [],
   "source": [
    "from sklearn.model_selection import train_test_split, cross_validate\n",
    "\n",
    "X=df.drop(\"SalePrice\", axis='columns')\n",
    "y=df['SalePrice']\n",
    "\n",
    "X_train, X_test, y_train, y_test = train_test_split(\n",
    "X, y, test_size=.25, random_state=42)"
   ]
  },
  {
   "cell_type": "markdown",
   "id": "00a3afae",
   "metadata": {
    "papermill": {
     "duration": 0.014436,
     "end_time": "2022-10-13T17:50:34.835573",
     "exception": false,
     "start_time": "2022-10-13T17:50:34.821137",
     "status": "completed"
    },
    "tags": []
   },
   "source": [
    "# xgBoost"
   ]
  },
  {
   "cell_type": "code",
   "execution_count": 14,
   "id": "b37a66c9",
   "metadata": {
    "execution": {
     "iopub.execute_input": "2022-10-13T17:50:34.867211Z",
     "iopub.status.busy": "2022-10-13T17:50:34.866866Z",
     "iopub.status.idle": "2022-10-13T17:50:34.974514Z",
     "shell.execute_reply": "2022-10-13T17:50:34.973646Z"
    },
    "papermill": {
     "duration": 0.126469,
     "end_time": "2022-10-13T17:50:34.977062",
     "exception": false,
     "start_time": "2022-10-13T17:50:34.850593",
     "status": "completed"
    },
    "tags": []
   },
   "outputs": [],
   "source": [
    "import xgboost as xgb\n",
    "from sklearn.metrics import mean_squared_error, r2_score, mean_absolute_error"
   ]
  },
  {
   "cell_type": "markdown",
   "id": "725c2797",
   "metadata": {
    "papermill": {
     "duration": 0.014204,
     "end_time": "2022-10-13T17:50:35.005934",
     "exception": false,
     "start_time": "2022-10-13T17:50:34.991730",
     "status": "completed"
    },
    "tags": []
   },
   "source": [
    "### Max Depth \n",
    "Increasing the value makes the model more complex which could overfit. Four for max depth shows the least amount of error and highest accuracy. Range is typical between 2 and 10."
   ]
  },
  {
   "cell_type": "code",
   "execution_count": 15,
   "id": "8f61a3e8",
   "metadata": {
    "execution": {
     "iopub.execute_input": "2022-10-13T17:50:35.036886Z",
     "iopub.status.busy": "2022-10-13T17:50:35.036518Z",
     "iopub.status.idle": "2022-10-13T17:50:39.093227Z",
     "shell.execute_reply": "2022-10-13T17:50:39.092091Z"
    },
    "papermill": {
     "duration": 4.075035,
     "end_time": "2022-10-13T17:50:39.095962",
     "exception": false,
     "start_time": "2022-10-13T17:50:35.020927",
     "status": "completed"
    },
    "tags": []
   },
   "outputs": [
    {
     "data": {
      "image/png": "[encoded data removed]",
      "text/plain": [
       "<Figure size 432x288 with 1 Axes>"
      ]
     },
     "metadata": {
      "needs_background": "light"
     },
     "output_type": "display_data"
    },
    {
     "data": {
      "image/png": "[encoded data removed]",
      "text/plain": [
       "<Figure size 432x288 with 1 Axes>"
      ]
     },
     "metadata": {
      "needs_background": "light"
     },
     "output_type": "display_data"
    }
   ],
   "source": [
    "maxDepth=[2, 3, 4, 5, 6, 7, 8, 9, 10]\n",
    "listMSE=[]\n",
    "listR2=[]\n",
    "\n",
    "for d in maxDepth:\n",
    "    regressor = xgb.XGBRegressor(\n",
    "        max_depth=d\n",
    "    )\n",
    "    regressor.fit(X_train, y_train)\n",
    "    #regressor.fit(X_train, y_train, early_stopping_rounds=5, eval_metric=\"rmse\", eval_set=[(X_test, y_test)], verbose=False)\n",
    "    y_pred = regressor.predict(X_test)\n",
    "\n",
    "    xgMSE=mean_absolute_error(y_test, y_pred)\n",
    "    xgR2 = r2_score(y_test, y_pred).round(4)\n",
    "    listMSE.append(xgMSE)\n",
    "    listR2.append(xgR2)\n",
    "plt.plot(maxDepth, listMSE)\n",
    "plt.title('MaxDepth Error')\n",
    "plt.ylabel('Error')\n",
    "plt.xlabel('Max Depth')\n",
    "plt.show()\n",
    "\n",
    "plt.plot(maxDepth, listR2)\n",
    "plt.title('MaxDepth Accuracy')\n",
    "plt.ylabel('Accuracy')\n",
    "plt.xlabel('MaxDepth')\n",
    "plt.show()"
   ]
  },
  {
   "cell_type": "markdown",
   "id": "1c0e2307",
   "metadata": {
    "papermill": {
     "duration": 0.015622,
     "end_time": "2022-10-13T17:50:39.127862",
     "exception": false,
     "start_time": "2022-10-13T17:50:39.112240",
     "status": "completed"
    },
    "tags": []
   },
   "source": [
    "### n_estimators\n"
   ]
  },
  {
   "cell_type": "code",
   "execution_count": 16,
   "id": "61e165a9",
   "metadata": {
    "_kg_hide-input": true,
    "execution": {
     "iopub.execute_input": "2022-10-13T17:50:39.162890Z",
     "iopub.status.busy": "2022-10-13T17:50:39.161741Z",
     "iopub.status.idle": "2022-10-13T17:50:42.369596Z",
     "shell.execute_reply": "2022-10-13T17:50:42.368661Z"
    },
    "papermill": {
     "duration": 3.228044,
     "end_time": "2022-10-13T17:50:42.372025",
     "exception": false,
     "start_time": "2022-10-13T17:50:39.143981",
     "status": "completed"
    },
    "tags": []
   },
   "outputs": [
    {
     "data": {
      "image/png": "[encoded data removed]",
      "text/plain": [
       "<Figure size 432x288 with 1 Axes>"
      ]
     },
     "metadata": {
      "needs_background": "light"
     },
     "output_type": "display_data"
    },
    {
     "data": {
      "image/png": "[encoded data removed]",
      "text/plain": [
       "<Figure size 432x288 with 1 Axes>"
      ]
     },
     "metadata": {
      "needs_background": "light"
     },
     "output_type": "display_data"
    }
   ],
   "source": [
    "def xgEst():\n",
    "    numbers=[2, 20, 30, 40, 50, 60, 70, 80, 90, 100, 150]\n",
    "    listMSE=[]\n",
    "    listR2=[]\n",
    "\n",
    "    for n in numbers:\n",
    "        regressor = xgb.XGBRegressor(\n",
    "            n_estimators=n,\n",
    "        )\n",
    "        regressor.fit(X_train, y_train)\n",
    "        y_pred = regressor.predict(X_test)\n",
    "\n",
    "        xgMSE=mean_absolute_error(y_test, y_pred)\n",
    "        xgR2 = r2_score(y_test, y_pred).round(4)\n",
    "        listMSE.append(xgMSE)\n",
    "        listR2.append(xgR2)\n",
    "    plt.plot(numbers, listMSE)\n",
    "    plt.title('nEstimators Error')\n",
    "    plt.ylabel('Error')\n",
    "    plt.xlabel('N Estimators')\n",
    "    plt.show()\n",
    "\n",
    "    plt.plot(numbers, listR2)\n",
    "    plt.title('nEstimators R2')\n",
    "    plt.ylabel('Accurate')\n",
    "    plt.xlabel('N Estimators')\n",
    "    plt.show()\n",
    "xgEst()"
   ]
  },
  {
   "cell_type": "markdown",
   "id": "b5e30720",
   "metadata": {
    "papermill": {
     "duration": 0.016211,
     "end_time": "2022-10-13T17:50:42.404951",
     "exception": false,
     "start_time": "2022-10-13T17:50:42.388740",
     "status": "completed"
    },
    "tags": []
   },
   "source": [
    "### Min_child_weight\n",
    "Increasing value will make model more conservative. Typically, a number between 0 and 10 is used.\n"
   ]
  },
  {
   "cell_type": "code",
   "execution_count": 17,
   "id": "1811b55c",
   "metadata": {
    "execution": {
     "iopub.execute_input": "2022-10-13T17:50:42.440053Z",
     "iopub.status.busy": "2022-10-13T17:50:42.439682Z",
     "iopub.status.idle": "2022-10-13T17:50:45.724896Z",
     "shell.execute_reply": "2022-10-13T17:50:45.724093Z"
    },
    "papermill": {
     "duration": 3.305451,
     "end_time": "2022-10-13T17:50:45.726958",
     "exception": false,
     "start_time": "2022-10-13T17:50:42.421507",
     "status": "completed"
    },
    "tags": []
   },
   "outputs": [
    {
     "data": {
      "image/png": "[encoded data removed]",
      "text/plain": [
       "<Figure size 432x288 with 1 Axes>"
      ]
     },
     "metadata": {
      "needs_background": "light"
     },
     "output_type": "display_data"
    },
    {
     "data": {
      "image/png": "[encoded data removed]",
      "text/plain": [
       "<Figure size 432x288 with 1 Axes>"
      ]
     },
     "metadata": {
      "needs_background": "light"
     },
     "output_type": "display_data"
    }
   ],
   "source": [
    "weight=[1, 2, 3, 5, 7, 9, 10]\n",
    "listMSE=[]\n",
    "listR2=[]\n",
    "\n",
    "for w in weight:\n",
    "    regressor = xgb.XGBRegressor(\n",
    "        min_child_weight=w\n",
    "    )\n",
    "    regressor.fit(X_train, y_train)\n",
    "    y_pred = regressor.predict(X_test)\n",
    "\n",
    "    xgMSE=mean_absolute_error(y_test, y_pred)\n",
    "    xgR2 = r2_score(y_test, y_pred).round(4)\n",
    "    listMSE.append(xgMSE)\n",
    "    listR2.append(xgR2)\n",
    "plt.plot(weight, listMSE)\n",
    "plt.title('xgBoost')\n",
    "plt.ylabel('Error')\n",
    "plt.xlabel('Weight')\n",
    "plt.legend()\n",
    "plt.show()\n",
    "\n",
    "plt.plot(weight, listR2)\n",
    "plt.title('xgBoost')\n",
    "plt.ylabel('Accurate')\n",
    "plt.xlabel('Weight')\n",
    "plt.legend()\n",
    "plt.show()"
   ]
  },
  {
   "cell_type": "markdown",
   "id": "21cb9527",
   "metadata": {
    "papermill": {
     "duration": 0.017554,
     "end_time": "2022-10-13T17:50:45.761925",
     "exception": false,
     "start_time": "2022-10-13T17:50:45.744371",
     "status": "completed"
    },
    "tags": []
   },
   "source": [
    "### Gamma\n",
    "Increasing gamma makes model more conservative. In this case, increasing Gamma makes almost no difference. It takes gamma to be 1000 to notice a slight decrease in error. Therefore, I do not use gamma in this particular case."
   ]
  },
  {
   "cell_type": "code",
   "execution_count": 18,
   "id": "4a5119bd",
   "metadata": {
    "execution": {
     "iopub.execute_input": "2022-10-13T17:50:45.798946Z",
     "iopub.status.busy": "2022-10-13T17:50:45.798050Z",
     "iopub.status.idle": "2022-10-13T17:50:48.921273Z",
     "shell.execute_reply": "2022-10-13T17:50:48.920466Z"
    },
    "papermill": {
     "duration": 3.143893,
     "end_time": "2022-10-13T17:50:48.923350",
     "exception": false,
     "start_time": "2022-10-13T17:50:45.779457",
     "status": "completed"
    },
    "tags": []
   },
   "outputs": [
    {
     "data": {
      "image/png": "[encoded data removed]",
      "text/plain": [
       "<Figure size 432x288 with 1 Axes>"
      ]
     },
     "metadata": {
      "needs_background": "light"
     },
     "output_type": "display_data"
    },
    {
     "data": {
      "image/png": "[encoded data removed]",
      "text/plain": [
       "<Figure size 432x288 with 1 Axes>"
      ]
     },
     "metadata": {
      "needs_background": "light"
     },
     "output_type": "display_data"
    }
   ],
   "source": [
    "gammas=[0, 0.25, 0.5, 1.0, 3, 5, 10]\n",
    "listMSE=[]\n",
    "listR2=[]\n",
    "\n",
    "for g in gammas:\n",
    "    regressor = xgb.XGBRegressor(\n",
    "        min_split_loss=g\n",
    "    )\n",
    "    regressor.fit(X_train, y_train)\n",
    "    y_pred = regressor.predict(X_test)\n",
    "\n",
    "    xgMSE=mean_absolute_error(y_test, y_pred)\n",
    "    xgR2 = r2_score(y_test, y_pred).round(4)\n",
    "    listMSE.append(xgMSE)\n",
    "    listR2.append(xgR2)\n",
    "    \n",
    "plt.plot(gammas, listMSE)\n",
    "plt.title('Gamma Error')\n",
    "plt.ylabel('Error')\n",
    "plt.xlabel('Gammas')\n",
    "plt.legend()\n",
    "plt.show()\n",
    "\n",
    "plt.plot(gammas, listR2)\n",
    "plt.title('Gamma R2')\n",
    "plt.ylabel('Accurate')\n",
    "plt.xlabel('Gammas')\n",
    "plt.legend()\n",
    "plt.show()"
   ]
  },
  {
   "cell_type": "markdown",
   "id": "bc8bef00",
   "metadata": {
    "papermill": {
     "duration": 0.018086,
     "end_time": "2022-10-13T17:50:48.959492",
     "exception": false,
     "start_time": "2022-10-13T17:50:48.941406",
     "status": "completed"
    },
    "tags": []
   },
   "source": [
    "### Learning_rate\n",
    "A higher learning rate makes the model more conservative. Range is between 0 and 1. Typically, a number between 0 and .3 is used."
   ]
  },
  {
   "cell_type": "code",
   "execution_count": 19,
   "id": "4fe01a72",
   "metadata": {
    "execution": {
     "iopub.execute_input": "2022-10-13T17:50:48.999173Z",
     "iopub.status.busy": "2022-10-13T17:50:48.998562Z",
     "iopub.status.idle": "2022-10-13T17:50:52.973086Z",
     "shell.execute_reply": "2022-10-13T17:50:52.972204Z"
    },
    "papermill": {
     "duration": 3.997005,
     "end_time": "2022-10-13T17:50:52.975299",
     "exception": false,
     "start_time": "2022-10-13T17:50:48.978294",
     "status": "completed"
    },
    "tags": []
   },
   "outputs": [
    {
     "data": {
      "image/png": "[encoded data removed]",
      "text/plain": [
       "<Figure size 432x288 with 1 Axes>"
      ]
     },
     "metadata": {
      "needs_background": "light"
     },
     "output_type": "display_data"
    },
    {
     "data": {
      "image/png": "[encoded data removed]",
      "text/plain": [
       "<Figure size 432x288 with 1 Axes>"
      ]
     },
     "metadata": {
      "needs_background": "light"
     },
     "output_type": "display_data"
    }
   ],
   "source": [
    "learning_rate = [0.01, 0.1, 0.2, 0.3, .5, .6, .7, .8, .9]\n",
    "listMSE=[]\n",
    "listR2=[]\n",
    "\n",
    "for l in learning_rate:\n",
    "    regressor = xgb.XGBRegressor(\n",
    "        learning_rate=l\n",
    "    )\n",
    "    regressor.fit(X_train, y_train)\n",
    "    y_pred = regressor.predict(X_test)\n",
    "\n",
    "    xgMSE=mean_absolute_error(y_test, y_pred)\n",
    "    xgR2 = r2_score(y_test, y_pred).round(4)\n",
    "    listMSE.append(xgMSE)\n",
    "    listR2.append(xgR2)\n",
    "    \n",
    "plt.plot(learning_rate, listMSE)\n",
    "plt.title('Learning_rate Error')\n",
    "plt.ylabel('Error')\n",
    "plt.xlabel('Learning_rate')\n",
    "plt.legend()\n",
    "plt.show()\n",
    "\n",
    "plt.plot(learning_rate, listR2)\n",
    "plt.title('Learning_rate R2')\n",
    "plt.ylabel('Accurate')\n",
    "plt.xlabel('Learning_rate')\n",
    "plt.legend()\n",
    "plt.show()"
   ]
  },
  {
   "cell_type": "markdown",
   "id": "fba84dd5",
   "metadata": {
    "papermill": {
     "duration": 0.018469,
     "end_time": "2022-10-13T17:50:53.012600",
     "exception": false,
     "start_time": "2022-10-13T17:50:52.994131",
     "status": "completed"
    },
    "tags": []
   },
   "source": [
    "### Reg_Lambda\n",
    "Reg_lambda uses L2 regularization. Typical range is generally 0 to 10."
   ]
  },
  {
   "cell_type": "code",
   "execution_count": 20,
   "id": "16a301fe",
   "metadata": {
    "execution": {
     "iopub.execute_input": "2022-10-13T17:50:53.052324Z",
     "iopub.status.busy": "2022-10-13T17:50:53.051570Z",
     "iopub.status.idle": "2022-10-13T17:50:55.119325Z",
     "shell.execute_reply": "2022-10-13T17:50:55.118484Z"
    },
    "papermill": {
     "duration": 2.090232,
     "end_time": "2022-10-13T17:50:55.121436",
     "exception": false,
     "start_time": "2022-10-13T17:50:53.031204",
     "status": "completed"
    },
    "tags": []
   },
   "outputs": [
    {
     "data": {
      "image/png": "[encoded data removed]",
      "text/plain": [
       "<Figure size 432x288 with 1 Axes>"
      ]
     },
     "metadata": {
      "needs_background": "light"
     },
     "output_type": "display_data"
    },
    {
     "data": {
      "image/png": "[encoded data removed]",
      "text/plain": [
       "<Figure size 432x288 with 1 Axes>"
      ]
     },
     "metadata": {
      "needs_background": "light"
     },
     "output_type": "display_data"
    }
   ],
   "source": [
    "regLam = [0, 1.0, 5.0, 10.0] #0 is default\n",
    "listMSE=[]\n",
    "listR2=[]\n",
    "\n",
    "for r in regLam:\n",
    "    regressor = xgb.XGBRegressor(\n",
    "        reg_lambda=r,\n",
    "    )\n",
    "    regressor.fit(X_train, y_train)\n",
    "    y_pred = regressor.predict(X_test)\n",
    "\n",
    "    xgMSE=mean_absolute_error(y_test, y_pred)\n",
    "    xgR2 = r2_score(y_test, y_pred).round(4)\n",
    "    listMSE.append(xgMSE)\n",
    "    listR2.append(xgR2)\n",
    "    \n",
    "plt.plot(regLam, listMSE)\n",
    "plt.title('RegLam Error')\n",
    "plt.ylabel('Error')\n",
    "plt.xlabel('RegLam')\n",
    "plt.legend()\n",
    "plt.show()\n",
    "\n",
    "plt.plot(regLam, listR2)\n",
    "plt.title('RegLam R2')\n",
    "plt.ylabel('Accurate')\n",
    "plt.xlabel('RegLam')\n",
    "plt.legend()\n",
    "plt.show()"
   ]
  },
  {
   "cell_type": "markdown",
   "id": "5e3aad1e",
   "metadata": {
    "papermill": {
     "duration": 0.019422,
     "end_time": "2022-10-13T17:50:55.160544",
     "exception": false,
     "start_time": "2022-10-13T17:50:55.141122",
     "status": "completed"
    },
    "tags": []
   },
   "source": [
    "### Reg_Alpha\n",
    "Reg_alpha uses L1 regularization. Increasing the value makes the model more conservative. Reg_alpha can have a bigger range up to 80."
   ]
  },
  {
   "cell_type": "code",
   "execution_count": 21,
   "id": "4646d623",
   "metadata": {
    "execution": {
     "iopub.execute_input": "2022-10-13T17:50:55.201690Z",
     "iopub.status.busy": "2022-10-13T17:50:55.201017Z",
     "iopub.status.idle": "2022-10-13T17:50:59.506146Z",
     "shell.execute_reply": "2022-10-13T17:50:59.504968Z"
    },
    "papermill": {
     "duration": 4.328826,
     "end_time": "2022-10-13T17:50:59.508791",
     "exception": false,
     "start_time": "2022-10-13T17:50:55.179965",
     "status": "completed"
    },
    "tags": []
   },
   "outputs": [
    {
     "data": {
      "image/png": "[encoded data removed]",
      "text/plain": [
       "<Figure size 432x288 with 1 Axes>"
      ]
     },
     "metadata": {
      "needs_background": "light"
     },
     "output_type": "display_data"
    },
    {
     "data": {
      "image/png": "[encoded data removed]",
      "text/plain": [
       "<Figure size 432x288 with 1 Axes>"
      ]
     },
     "metadata": {
      "needs_background": "light"
     },
     "output_type": "display_data"
    }
   ],
   "source": [
    "def regAlpha():\n",
    "    numbers = [0, 5.0, 10.0, 20, 30, 40, 50, 60, 70, 80]  #0 is default\n",
    "    listMSE=[]\n",
    "    listR2=[]\n",
    "\n",
    "    for n in numbers:\n",
    "        regressor = xgb.XGBRegressor(\n",
    "            reg_alpha=n,\n",
    "        )\n",
    "        regressor.fit(X_train, y_train)\n",
    "        y_pred = regressor.predict(X_test)\n",
    "\n",
    "        xgMSE=mean_absolute_error(y_test, y_pred)\n",
    "        xgR2 = r2_score(y_test, y_pred).round(4)\n",
    "        listMSE.append(xgMSE)\n",
    "        listR2.append(xgR2)\n",
    "\n",
    "    plt.plot(numbers, listMSE)\n",
    "    plt.title('regAlpha')\n",
    "    plt.ylabel('Error')\n",
    "    plt.xlabel('RegAlpha')\n",
    "    plt.legend()\n",
    "    plt.show()\n",
    "\n",
    "    plt.plot(numbers, listR2)\n",
    "    plt.title('regAlpha')\n",
    "    plt.ylabel('Accurate')\n",
    "    plt.xlabel('RegAlpha')\n",
    "    plt.legend()\n",
    "    plt.show()\n",
    "regAlpha()"
   ]
  },
  {
   "cell_type": "markdown",
   "id": "8c75eec3",
   "metadata": {
    "papermill": {
     "duration": 0.019672,
     "end_time": "2022-10-13T17:50:59.548594",
     "exception": false,
     "start_time": "2022-10-13T17:50:59.528922",
     "status": "completed"
    },
    "tags": []
   },
   "source": [
    "### Colsample_bytree"
   ]
  },
  {
   "cell_type": "code",
   "execution_count": 22,
   "id": "ce821256",
   "metadata": {
    "execution": {
     "iopub.execute_input": "2022-10-13T17:50:59.590556Z",
     "iopub.status.busy": "2022-10-13T17:50:59.590166Z",
     "iopub.status.idle": "2022-10-13T17:51:01.425435Z",
     "shell.execute_reply": "2022-10-13T17:51:01.424670Z"
    },
    "papermill": {
     "duration": 1.859404,
     "end_time": "2022-10-13T17:51:01.427602",
     "exception": false,
     "start_time": "2022-10-13T17:50:59.568198",
     "status": "completed"
    },
    "tags": []
   },
   "outputs": [
    {
     "data": {
      "image/png": "[encoded data removed]",
      "text/plain": [
       "<Figure size 432x288 with 1 Axes>"
      ]
     },
     "metadata": {
      "needs_background": "light"
     },
     "output_type": "display_data"
    },
    {
     "data": {
      "image/png": "[encoded data removed]",
      "text/plain": [
       "<Figure size 432x288 with 1 Axes>"
      ]
     },
     "metadata": {
      "needs_background": "light"
     },
     "output_type": "display_data"
    }
   ],
   "source": [
    "colSample = [0.1, 0.5, 0.9, 1]\n",
    "listMSE=[]\n",
    "listR2=[]\n",
    "\n",
    "for c in colSample:\n",
    "    regressor = xgb.XGBRegressor(\n",
    "        colsample_bytree=c\n",
    "    )\n",
    "    regressor.fit(X_train, y_train)\n",
    "    y_pred = regressor.predict(X_test)\n",
    "\n",
    "    xgMSE=mean_absolute_error(y_test, y_pred)\n",
    "    xgR2 = r2_score(y_test, y_pred).round(4)\n",
    "    listMSE.append(xgMSE)\n",
    "    listR2.append(xgR2)\n",
    "    \n",
    "plt.plot(colSample, listMSE)\n",
    "plt.title('ColSample Error')\n",
    "plt.ylabel('Error')\n",
    "plt.xlabel('ColSample')\n",
    "plt.legend()\n",
    "plt.show()\n",
    "\n",
    "plt.plot(colSample, listR2)\n",
    "plt.title('ColSample R2')\n",
    "plt.ylabel('Accurate')\n",
    "plt.xlabel('ColSample')\n",
    "plt.legend()\n",
    "plt.show()"
   ]
  },
  {
   "cell_type": "markdown",
   "id": "59eea031",
   "metadata": {
    "papermill": {
     "duration": 0.020709,
     "end_time": "2022-10-13T17:51:01.469494",
     "exception": false,
     "start_time": "2022-10-13T17:51:01.448785",
     "status": "completed"
    },
    "tags": []
   },
   "source": [
    "# Grid Search xg Boost"
   ]
  },
  {
   "cell_type": "code",
   "execution_count": 23,
   "id": "2c827fe7",
   "metadata": {
    "execution": {
     "iopub.execute_input": "2022-10-13T17:51:01.513998Z",
     "iopub.status.busy": "2022-10-13T17:51:01.513569Z",
     "iopub.status.idle": "2022-10-13T17:54:26.009059Z",
     "shell.execute_reply": "2022-10-13T17:54:26.007689Z"
    },
    "papermill": {
     "duration": 204.534906,
     "end_time": "2022-10-13T17:54:26.025193",
     "exception": false,
     "start_time": "2022-10-13T17:51:01.490287",
     "status": "completed"
    },
    "tags": []
   },
   "outputs": [
    {
     "name": "stdout",
     "output_type": "stream",
     "text": [
      "Start\n",
      "{'colsample_bytree': 0.9, 'eta': 0.01, 'learning_rate': 0.1, 'max_depth': 3, 'min_child_weight': 5, 'n_estimators': 100, 'reg_alpha': 40, 'reg_lambda': 0}\n",
      "Done.  204.4760341644287  seconds\n"
     ]
    }
   ],
   "source": [
    "from sklearn.model_selection import GridSearchCV, RandomizedSearchCV, KFold, StratifiedKFold\n",
    "from sklearn.metrics import f1_score, max_error\n",
    "from xgboost import cv\n",
    "from scipy import stats\n",
    "import time\n",
    "\n",
    "def gridSearch():\n",
    "    start=time.time()\n",
    "    print(\"Start\")\n",
    "\n",
    "    params = {\n",
    "        'learning_rate':[.1, .3],\n",
    "        'n_estimators':[100],\n",
    "        'max_depth':[3, 4, 5, 6, 7],\n",
    "        'min_child_weight':[5, 10],\n",
    "        'reg_lambda':[0],\n",
    "        'reg_alpha':[30, 40],\n",
    "        'colsample_bytree':[.9],\n",
    "        'eta':[.01, .02, .03]\n",
    "    }\n",
    "\n",
    "    boost_gs=xgb.XGBRegressor()\n",
    "    kfold = StratifiedKFold(n_splits=5, shuffle=True, random_state=7)\n",
    "    boost_gs=GridSearchCV(boost_gs, param_grid=params, scoring='neg_mean_squared_error', cv =5)\n",
    "    boost_gs.fit(X_train, y_train)\n",
    "    #boost_gs.fit(X_train, y_train, early_stopping_rounds=10, eval_metric=\"rmse\", eval_set=[(X_test, y_test)], verbose=False)\n",
    "\n",
    "    print(boost_gs.best_params_)\n",
    "    print(\"Done. \", time.time()-start, \" seconds\")\n",
    "gridSearch()"
   ]
  },
  {
   "cell_type": "markdown",
   "id": "c9ad24fc",
   "metadata": {
    "papermill": {
     "duration": 0.020283,
     "end_time": "2022-10-13T17:54:26.065871",
     "exception": false,
     "start_time": "2022-10-13T17:54:26.045588",
     "status": "completed"
    },
    "tags": []
   },
   "source": [
    "# Final Predictions\n",
    "Here are some of the best models found by using GridSearch:\n",
    "* Using cv=10 {'colsample_bytree': 0.9, 'learning_rate': 0.1, 'max_depth': 3, 'min_child_weight': 10, 'n_estimators': 100, 'reg_alpha': 20, 'reg_lambda': 0}\n",
    "* Using cv=10 {'colsample_bytree': 0.9, 'learning_rate': 0.1, 'max_depth': 3, 'min_child_weight': 10, 'n_estimators': 100, 'reg_alpha': 0, 'reg_lambda': 5}\n",
    "* {'colsample_bytree': 0.9, 'learning_rate': 0.1, 'max_depth': 4, 'min_child_weight': 10, 'n_estimators': 100, 'reg_alpha': 0, 'reg_lambda': 5}\n",
    "* {'colsample_bytree': 0.9, 'learning_rate': 0.1, 'max_depth': 4, 'min_child_weight': 10, 'n_estimators': 50, 'reg_alpha': 0, 'reg_lambda': 0}\n",
    "* Using MSE with cv=10 {'learning_rate': 0.3, 'max_depth': 2, 'min_child_weight': 5, 'n_estimators': 50, 'reg_lambda': 0.5}\n",
    "* Top 47% {'eta': 0.1, 'learning_rate': 0.01, 'max_depth': 4, 'min_child_weight': 10, 'n_estimators': 50, 'reg_lambda': 0.01}\n",
    "* Using Kfold=5 {'colsample_bytree': 0.5, 'learning_rate': 0.5, 'max_depth': 3, 'min_child_weight': 10, 'n_estimators': 50, 'reg_lambda': 0.5}"
   ]
  },
  {
   "cell_type": "code",
   "execution_count": 24,
   "id": "a1a5cf23",
   "metadata": {
    "execution": {
     "iopub.execute_input": "2022-10-13T17:54:26.108925Z",
     "iopub.status.busy": "2022-10-13T17:54:26.108534Z",
     "iopub.status.idle": "2022-10-13T17:54:29.446071Z",
     "shell.execute_reply": "2022-10-13T17:54:29.444456Z"
    },
    "papermill": {
     "duration": 3.362133,
     "end_time": "2022-10-13T17:54:29.448625",
     "exception": false,
     "start_time": "2022-10-13T17:54:26.086492",
     "status": "completed"
    },
    "tags": []
   },
   "outputs": [
    {
     "name": "stdout",
     "output_type": "stream",
     "text": [
      "r2  0.8894 0.9003 || cross validate:  -0.0109\n",
      "mae error  15541.94    -15241.6524 cross validate:  300.29\n"
     ]
    }
   ],
   "source": [
    "xgbFinal = xgb.XGBRegressor(\n",
    "        n_estimators=100,\n",
    "        max_depth=3,\n",
    "        reg_lambda=0,\n",
    "        reg_alpha=40,\n",
    "        min_child_weight=5,\n",
    "        learning_rate=.1,\n",
    "        colsample_bytree=1,\n",
    "        eta=.01\n",
    "    )\n",
    "\n",
    "#Note: no early stop provides better score:\n",
    "xgbFinal.fit(X_train, y_train)\n",
    "#xgbFinal.fit(X_train, y_train, early_stopping_rounds=10, eval_metric=\"rmse\", eval_set=[(X_test, y_test)], verbose=False)\n",
    "y_pred = xgbFinal.predict(X_test)\n",
    "\n",
    "#Metrics\n",
    "xgMSE=mean_absolute_error(y_test, y_pred).round(2)\n",
    "xgR2 = r2_score(y_test, y_pred).round(4)\n",
    "\n",
    "xgScore = xgbFinal.score(X_test, y_test).round(4)  \n",
    "xgCV = cross_validate(xgbFinal, X, y, cv = 5, scoring='r2')\n",
    "xgCV=xgCV['test_score'].mean().round(4)\n",
    "print(\"r2 \", xgScore, xgCV, \"|| cross validate: \", (xgScore-xgCV).round(4))\n",
    "\n",
    "xgCVerr = cross_validate(xgbFinal, X, y, cv = 5, scoring='neg_mean_absolute_error')\n",
    "xgCVerr=xgCVerr['test_score'].mean().round(4)\n",
    "print(\"mae error \", xgMSE, \"  \", xgCVerr, \"cross validate: \", (xgMSE-abs(xgCVerr)).round(2))"
   ]
  },
  {
   "cell_type": "markdown",
   "id": "ea479cd3",
   "metadata": {
    "papermill": {
     "duration": 0.020453,
     "end_time": "2022-10-13T17:54:29.491410",
     "exception": false,
     "start_time": "2022-10-13T17:54:29.470957",
     "status": "completed"
    },
    "tags": []
   },
   "source": [
    "### Graph"
   ]
  },
  {
   "cell_type": "code",
   "execution_count": 25,
   "id": "544eb146",
   "metadata": {
    "execution": {
     "iopub.execute_input": "2022-10-13T17:54:29.534695Z",
     "iopub.status.busy": "2022-10-13T17:54:29.534104Z",
     "iopub.status.idle": "2022-10-13T17:54:30.610972Z",
     "shell.execute_reply": "2022-10-13T17:54:30.609637Z"
    },
    "papermill": {
     "duration": 1.101206,
     "end_time": "2022-10-13T17:54:30.613388",
     "exception": false,
     "start_time": "2022-10-13T17:54:29.512182",
     "status": "completed"
    },
    "tags": []
   },
   "outputs": [
    {
     "data": {
      "image/svg+xml": [
       "<?xml version=\"1.0\" encoding=\"UTF-8\" standalone=\"no\"?>\n",
       "<!DOCTYPE svg PUBLIC \"-//W3C//DTD SVG 1.1//EN\"\n",
       " \"http://www.w3.org/Graphics/SVG/1.1/DTD/svg11.dtd\">\n",
       "<!-- Generated by graphviz version 5.0.0 (20220707.2338)\n",
       " -->\n",
       "<!-- Pages: 1 -->\n",
       "<svg width=\"1578pt\" height=\"305pt\"\n",
       " viewBox=\"0.00 0.00 1578.13 305.00\" xmlns=\"http://www.w3.org/2000/svg\" xmlns:xlink=\"http://www.w3.org/1999/xlink\">\n",
       "<g id=\"graph0\" class=\"graph\" transform=\"scale(1 1) rotate(0) translate(4 301)\">\n",
       "<polygon fill=\"white\" stroke=\"transparent\" points=\"-4,4 -4,-301 1574.13,-301 1574.13,4 -4,4\"/>\n",
       "<!-- 0 -->\n",
       "<g id=\"node1\" class=\"node\">\n",
       "<title>0</title>\n",
       "<ellipse fill=\"none\" stroke=\"black\" cx=\"762.99\" cy=\"-279\" rx=\"77.19\" ry=\"18\"/>\n",
       "<text text-anchor=\"middle\" x=\"762.99\" y=\"-275.3\" font-family=\"Times,serif\" font-size=\"14.00\">totalSQ&lt;2934</text>\n",
       "</g>\n",
       "<!-- 1 -->\n",
       "<g id=\"node2\" class=\"node\">\n",
       "<title>1</title>\n",
       "<ellipse fill=\"none\" stroke=\"black\" cx=\"562.99\" cy=\"-192\" rx=\"77.19\" ry=\"18\"/>\n",
       "<text text-anchor=\"middle\" x=\"562.99\" y=\"-188.3\" font-family=\"Times,serif\" font-size=\"14.00\">totalSQ&lt;2289</text>\n",
       "</g>\n",
       "<!-- 0&#45;&gt;1 -->\n",
       "<g id=\"edge1\" class=\"edge\">\n",
       "<title>0&#45;&gt;1</title>\n",
       "<path fill=\"none\" stroke=\"#0000ff\" d=\"M727.24,-262.8C693.82,-248.6 643.8,-227.34 607.75,-212.02\"/>\n",
       "<polygon fill=\"#0000ff\" stroke=\"#0000ff\" points=\"609.01,-208.76 598.44,-208.06 606.27,-215.2 609.01,-208.76\"/>\n",
       "<text text-anchor=\"middle\" x=\"719.49\" y=\"-231.8\" font-family=\"Times,serif\" font-size=\"14.00\">yes, missing</text>\n",
       "</g>\n",
       "<!-- 2 -->\n",
       "<g id=\"node3\" class=\"node\">\n",
       "<title>2</title>\n",
       "<ellipse fill=\"none\" stroke=\"black\" cx=\"962.99\" cy=\"-192\" rx=\"88.28\" ry=\"18\"/>\n",
       "<text text-anchor=\"middle\" x=\"962.99\" y=\"-188.3\" font-family=\"Times,serif\" font-size=\"14.00\">OverallQual&lt;7.5</text>\n",
       "</g>\n",
       "<!-- 0&#45;&gt;2 -->\n",
       "<g id=\"edge2\" class=\"edge\">\n",
       "<title>0&#45;&gt;2</title>\n",
       "<path fill=\"none\" stroke=\"#ff0000\" d=\"M798.75,-262.8C831.86,-248.73 881.26,-227.74 917.23,-212.45\"/>\n",
       "<polygon fill=\"#ff0000\" stroke=\"#ff0000\" points=\"918.7,-215.63 926.53,-208.5 915.96,-209.19 918.7,-215.63\"/>\n",
       "<text text-anchor=\"middle\" x=\"883.99\" y=\"-231.8\" font-family=\"Times,serif\" font-size=\"14.00\">no</text>\n",
       "</g>\n",
       "<!-- 3 -->\n",
       "<g id=\"node4\" class=\"node\">\n",
       "<title>3</title>\n",
       "<ellipse fill=\"none\" stroke=\"black\" cx=\"290.99\" cy=\"-105\" rx=\"77.19\" ry=\"18\"/>\n",
       "<text text-anchor=\"middle\" x=\"290.99\" y=\"-101.3\" font-family=\"Times,serif\" font-size=\"14.00\">totalSQ&lt;1649</text>\n",
       "</g>\n",
       "<!-- 1&#45;&gt;3 -->\n",
       "<g id=\"edge3\" class=\"edge\">\n",
       "<title>1&#45;&gt;3</title>\n",
       "<path fill=\"none\" stroke=\"#0000ff\" d=\"M518.69,-177.15C471.27,-162.34 396.01,-138.82 345.12,-122.91\"/>\n",
       "<polygon fill=\"#0000ff\" stroke=\"#0000ff\" points=\"345.87,-119.48 335.28,-119.84 343.78,-126.16 345.87,-119.48\"/>\n",
       "<text text-anchor=\"middle\" x=\"488.49\" y=\"-144.8\" font-family=\"Times,serif\" font-size=\"14.00\">yes, missing</text>\n",
       "</g>\n",
       "<!-- 4 -->\n",
       "<g id=\"node5\" class=\"node\">\n",
       "<title>4</title>\n",
       "<ellipse fill=\"none\" stroke=\"black\" cx=\"562.99\" cy=\"-105\" rx=\"93.68\" ry=\"18\"/>\n",
       "<text text-anchor=\"middle\" x=\"562.99\" y=\"-101.3\" font-family=\"Times,serif\" font-size=\"14.00\">YearBuilt&lt;1978.5</text>\n",
       "</g>\n",
       "<!-- 1&#45;&gt;4 -->\n",
       "<g id=\"edge4\" class=\"edge\">\n",
       "<title>1&#45;&gt;4</title>\n",
       "<path fill=\"none\" stroke=\"#ff0000\" d=\"M562.99,-173.8C562.99,-162.16 562.99,-146.55 562.99,-133.24\"/>\n",
       "<polygon fill=\"#ff0000\" stroke=\"#ff0000\" points=\"566.49,-133.18 562.99,-123.18 559.49,-133.18 566.49,-133.18\"/>\n",
       "<text text-anchor=\"middle\" x=\"571.99\" y=\"-144.8\" font-family=\"Times,serif\" font-size=\"14.00\">no</text>\n",
       "</g>\n",
       "<!-- 5 -->\n",
       "<g id=\"node10\" class=\"node\">\n",
       "<title>5</title>\n",
       "<ellipse fill=\"none\" stroke=\"black\" cx=\"962.99\" cy=\"-105\" rx=\"88.28\" ry=\"18\"/>\n",
       "<text text-anchor=\"middle\" x=\"962.99\" y=\"-101.3\" font-family=\"Times,serif\" font-size=\"14.00\">OverallQual&lt;6.5</text>\n",
       "</g>\n",
       "<!-- 2&#45;&gt;5 -->\n",
       "<g id=\"edge9\" class=\"edge\">\n",
       "<title>2&#45;&gt;5</title>\n",
       "<path fill=\"none\" stroke=\"#0000ff\" d=\"M962.99,-173.8C962.99,-162.16 962.99,-146.55 962.99,-133.24\"/>\n",
       "<polygon fill=\"#0000ff\" stroke=\"#0000ff\" points=\"966.49,-133.18 962.99,-123.18 959.49,-133.18 966.49,-133.18\"/>\n",
       "<text text-anchor=\"middle\" x=\"1007.49\" y=\"-144.8\" font-family=\"Times,serif\" font-size=\"14.00\">yes, missing</text>\n",
       "</g>\n",
       "<!-- 6 -->\n",
       "<g id=\"node11\" class=\"node\">\n",
       "<title>6</title>\n",
       "<ellipse fill=\"none\" stroke=\"black\" cx=\"1290.99\" cy=\"-105\" rx=\"77.19\" ry=\"18\"/>\n",
       "<text text-anchor=\"middle\" x=\"1290.99\" y=\"-101.3\" font-family=\"Times,serif\" font-size=\"14.00\">totalSQ&lt;3602</text>\n",
       "</g>\n",
       "<!-- 2&#45;&gt;6 -->\n",
       "<g id=\"edge10\" class=\"edge\">\n",
       "<title>2&#45;&gt;6</title>\n",
       "<path fill=\"none\" stroke=\"#ff0000\" d=\"M1015.33,-177.44C1074.18,-162.19 1169.56,-137.47 1231.28,-121.47\"/>\n",
       "<polygon fill=\"#ff0000\" stroke=\"#ff0000\" points=\"1232.46,-124.78 1241.26,-118.89 1230.7,-118.01 1232.46,-124.78\"/>\n",
       "<text text-anchor=\"middle\" x=\"1155.99\" y=\"-144.8\" font-family=\"Times,serif\" font-size=\"14.00\">no</text>\n",
       "</g>\n",
       "<!-- 7 -->\n",
       "<g id=\"node6\" class=\"node\">\n",
       "<title>7</title>\n",
       "<ellipse fill=\"none\" stroke=\"black\" cx=\"90.99\" cy=\"-18\" rx=\"90.98\" ry=\"18\"/>\n",
       "<text text-anchor=\"middle\" x=\"90.99\" y=\"-14.3\" font-family=\"Times,serif\" font-size=\"14.00\">leaf=9417.62402</text>\n",
       "</g>\n",
       "<!-- 3&#45;&gt;7 -->\n",
       "<g id=\"edge5\" class=\"edge\">\n",
       "<title>3&#45;&gt;7</title>\n",
       "<path fill=\"none\" stroke=\"#0000ff\" d=\"M250.44,-89.51C234.04,-83.45 215,-76.16 197.99,-69 176.23,-59.84 152.4,-48.8 132.76,-39.43\"/>\n",
       "<polygon fill=\"#0000ff\" stroke=\"#0000ff\" points=\"134.01,-36.15 123.48,-34.98 130.98,-42.46 134.01,-36.15\"/>\n",
       "<text text-anchor=\"middle\" x=\"242.49\" y=\"-57.8\" font-family=\"Times,serif\" font-size=\"14.00\">yes, missing</text>\n",
       "</g>\n",
       "<!-- 8 -->\n",
       "<g id=\"node7\" class=\"node\">\n",
       "<title>8</title>\n",
       "<ellipse fill=\"none\" stroke=\"black\" cx=\"290.99\" cy=\"-18\" rx=\"90.98\" ry=\"18\"/>\n",
       "<text text-anchor=\"middle\" x=\"290.99\" y=\"-14.3\" font-family=\"Times,serif\" font-size=\"14.00\">leaf=13371.9326</text>\n",
       "</g>\n",
       "<!-- 3&#45;&gt;8 -->\n",
       "<g id=\"edge6\" class=\"edge\">\n",
       "<title>3&#45;&gt;8</title>\n",
       "<path fill=\"none\" stroke=\"#ff0000\" d=\"M290.99,-86.8C290.99,-75.16 290.99,-59.55 290.99,-46.24\"/>\n",
       "<polygon fill=\"#ff0000\" stroke=\"#ff0000\" points=\"294.49,-46.18 290.99,-36.18 287.49,-46.18 294.49,-46.18\"/>\n",
       "<text text-anchor=\"middle\" x=\"299.99\" y=\"-57.8\" font-family=\"Times,serif\" font-size=\"14.00\">no</text>\n",
       "</g>\n",
       "<!-- 9 -->\n",
       "<g id=\"node8\" class=\"node\">\n",
       "<title>9</title>\n",
       "<ellipse fill=\"none\" stroke=\"black\" cx=\"490.99\" cy=\"-18\" rx=\"90.98\" ry=\"18\"/>\n",
       "<text text-anchor=\"middle\" x=\"490.99\" y=\"-14.3\" font-family=\"Times,serif\" font-size=\"14.00\">leaf=15880.9717</text>\n",
       "</g>\n",
       "<!-- 4&#45;&gt;9 -->\n",
       "<g id=\"edge7\" class=\"edge\">\n",
       "<title>4&#45;&gt;9</title>\n",
       "<path fill=\"none\" stroke=\"#0000ff\" d=\"M548.77,-87.21C538.28,-74.83 523.85,-57.8 512.04,-43.85\"/>\n",
       "<polygon fill=\"#0000ff\" stroke=\"#0000ff\" points=\"514.57,-41.42 505.43,-36.05 509.23,-45.94 514.57,-41.42\"/>\n",
       "<text text-anchor=\"middle\" x=\"576.49\" y=\"-57.8\" font-family=\"Times,serif\" font-size=\"14.00\">yes, missing</text>\n",
       "</g>\n",
       "<!-- 10 -->\n",
       "<g id=\"node9\" class=\"node\">\n",
       "<title>10</title>\n",
       "<ellipse fill=\"none\" stroke=\"black\" cx=\"690.99\" cy=\"-18\" rx=\"90.98\" ry=\"18\"/>\n",
       "<text text-anchor=\"middle\" x=\"690.99\" y=\"-14.3\" font-family=\"Times,serif\" font-size=\"14.00\">leaf=19792.4961</text>\n",
       "</g>\n",
       "<!-- 4&#45;&gt;10 -->\n",
       "<g id=\"edge8\" class=\"edge\">\n",
       "<title>4&#45;&gt;10</title>\n",
       "<path fill=\"none\" stroke=\"#ff0000\" d=\"M593.44,-87.88C603.64,-82.2 614.97,-75.58 624.99,-69 637.66,-60.68 651.08,-50.74 662.5,-41.91\"/>\n",
       "<polygon fill=\"#ff0000\" stroke=\"#ff0000\" points=\"664.69,-44.64 670.41,-35.73 660.38,-39.13 664.69,-44.64\"/>\n",
       "<text text-anchor=\"middle\" x=\"654.99\" y=\"-57.8\" font-family=\"Times,serif\" font-size=\"14.00\">no</text>\n",
       "</g>\n",
       "<!-- 11 -->\n",
       "<g id=\"node12\" class=\"node\">\n",
       "<title>11</title>\n",
       "<ellipse fill=\"none\" stroke=\"black\" cx=\"890.99\" cy=\"-18\" rx=\"90.98\" ry=\"18\"/>\n",
       "<text text-anchor=\"middle\" x=\"890.99\" y=\"-14.3\" font-family=\"Times,serif\" font-size=\"14.00\">leaf=18310.8223</text>\n",
       "</g>\n",
       "<!-- 5&#45;&gt;11 -->\n",
       "<g id=\"edge11\" class=\"edge\">\n",
       "<title>5&#45;&gt;11</title>\n",
       "<path fill=\"none\" stroke=\"#0000ff\" d=\"M948.77,-87.21C938.28,-74.83 923.85,-57.8 912.04,-43.85\"/>\n",
       "<polygon fill=\"#0000ff\" stroke=\"#0000ff\" points=\"914.57,-41.42 905.43,-36.05 909.23,-45.94 914.57,-41.42\"/>\n",
       "<text text-anchor=\"middle\" x=\"976.49\" y=\"-57.8\" font-family=\"Times,serif\" font-size=\"14.00\">yes, missing</text>\n",
       "</g>\n",
       "<!-- 12 -->\n",
       "<g id=\"node13\" class=\"node\">\n",
       "<title>12</title>\n",
       "<ellipse fill=\"none\" stroke=\"black\" cx=\"1090.99\" cy=\"-18\" rx=\"90.98\" ry=\"18\"/>\n",
       "<text text-anchor=\"middle\" x=\"1090.99\" y=\"-14.3\" font-family=\"Times,serif\" font-size=\"14.00\">leaf=24737.3477</text>\n",
       "</g>\n",
       "<!-- 5&#45;&gt;12 -->\n",
       "<g id=\"edge12\" class=\"edge\">\n",
       "<title>5&#45;&gt;12</title>\n",
       "<path fill=\"none\" stroke=\"#ff0000\" d=\"M993.12,-88.06C1003.41,-82.34 1014.87,-75.65 1024.99,-69 1037.66,-60.68 1051.08,-50.74 1062.5,-41.91\"/>\n",
       "<polygon fill=\"#ff0000\" stroke=\"#ff0000\" points=\"1064.69,-44.64 1070.41,-35.73 1060.38,-39.13 1064.69,-44.64\"/>\n",
       "<text text-anchor=\"middle\" x=\"1054.99\" y=\"-57.8\" font-family=\"Times,serif\" font-size=\"14.00\">no</text>\n",
       "</g>\n",
       "<!-- 13 -->\n",
       "<g id=\"node14\" class=\"node\">\n",
       "<title>13</title>\n",
       "<ellipse fill=\"none\" stroke=\"black\" cx=\"1290.99\" cy=\"-18\" rx=\"90.98\" ry=\"18\"/>\n",
       "<text text-anchor=\"middle\" x=\"1290.99\" y=\"-14.3\" font-family=\"Times,serif\" font-size=\"14.00\">leaf=27676.4062</text>\n",
       "</g>\n",
       "<!-- 6&#45;&gt;13 -->\n",
       "<g id=\"edge13\" class=\"edge\">\n",
       "<title>6&#45;&gt;13</title>\n",
       "<path fill=\"none\" stroke=\"#0000ff\" d=\"M1290.99,-86.8C1290.99,-75.16 1290.99,-59.55 1290.99,-46.24\"/>\n",
       "<polygon fill=\"#0000ff\" stroke=\"#0000ff\" points=\"1294.49,-46.18 1290.99,-36.18 1287.49,-46.18 1294.49,-46.18\"/>\n",
       "<text text-anchor=\"middle\" x=\"1335.49\" y=\"-57.8\" font-family=\"Times,serif\" font-size=\"14.00\">yes, missing</text>\n",
       "</g>\n",
       "<!-- 14 -->\n",
       "<g id=\"node15\" class=\"node\">\n",
       "<title>14</title>\n",
       "<ellipse fill=\"none\" stroke=\"black\" cx=\"1484.99\" cy=\"-18\" rx=\"85.29\" ry=\"18\"/>\n",
       "<text text-anchor=\"middle\" x=\"1484.99\" y=\"-14.3\" font-family=\"Times,serif\" font-size=\"14.00\">leaf=34888.375</text>\n",
       "</g>\n",
       "<!-- 6&#45;&gt;14 -->\n",
       "<g id=\"edge14\" class=\"edge\">\n",
       "<title>6&#45;&gt;14</title>\n",
       "<path fill=\"none\" stroke=\"#ff0000\" d=\"M1332.09,-89.54C1348.39,-83.54 1367.22,-76.29 1383.99,-69 1404.72,-60 1427.3,-48.94 1445.84,-39.52\"/>\n",
       "<polygon fill=\"#ff0000\" stroke=\"#ff0000\" points=\"1447.56,-42.57 1454.87,-34.9 1444.37,-36.34 1447.56,-42.57\"/>\n",
       "<text text-anchor=\"middle\" x=\"1422.99\" y=\"-57.8\" font-family=\"Times,serif\" font-size=\"14.00\">no</text>\n",
       "</g>\n",
       "</g>\n",
       "</svg>\n"
      ],
      "text/plain": [
       "<graphviz.files.Source at 0x7f231c310950>"
      ]
     },
     "execution_count": 25,
     "metadata": {},
     "output_type": "execute_result"
    }
   ],
   "source": [
    "import graphviz\n",
    "xgb.to_graphviz(xgbFinal)"
   ]
  },
  {
   "cell_type": "markdown",
   "id": "c8538e77",
   "metadata": {
    "papermill": {
     "duration": 0.0206,
     "end_time": "2022-10-13T17:54:30.655758",
     "exception": false,
     "start_time": "2022-10-13T17:54:30.635158",
     "status": "completed"
    },
    "tags": []
   },
   "source": [
    "# Feature Importance"
   ]
  },
  {
   "cell_type": "code",
   "execution_count": 26,
   "id": "5e51f02b",
   "metadata": {
    "execution": {
     "iopub.execute_input": "2022-10-13T17:54:30.700037Z",
     "iopub.status.busy": "2022-10-13T17:54:30.699589Z",
     "iopub.status.idle": "2022-10-13T17:54:30.971590Z",
     "shell.execute_reply": "2022-10-13T17:54:30.970442Z"
    },
    "papermill": {
     "duration": 0.297146,
     "end_time": "2022-10-13T17:54:30.973886",
     "exception": false,
     "start_time": "2022-10-13T17:54:30.676740",
     "status": "completed"
    },
    "tags": []
   },
   "outputs": [
    {
     "data": {
      "image/png": "[encoded data removed]",
      "text/plain": [
       "<Figure size 432x288 with 1 Axes>"
      ]
     },
     "metadata": {
      "needs_background": "light"
     },
     "output_type": "display_data"
    },
    {
     "data": {
      "text/plain": [
       "<Figure size 1440x1440 with 0 Axes>"
      ]
     },
     "metadata": {},
     "output_type": "display_data"
    }
   ],
   "source": [
    "xgb.plot_importance(xgbFinal, max_num_features=12, title='xgBoost Top Features Importance')\n",
    "plt.figure(figsize = (20, 20))\n",
    "plt.show()"
   ]
  },
  {
   "cell_type": "code",
   "execution_count": 27,
   "id": "3399f4e0",
   "metadata": {
    "execution": {
     "iopub.execute_input": "2022-10-13T17:54:31.019683Z",
     "iopub.status.busy": "2022-10-13T17:54:31.019298Z",
     "iopub.status.idle": "2022-10-13T17:54:31.028204Z",
     "shell.execute_reply": "2022-10-13T17:54:31.027008Z"
    },
    "papermill": {
     "duration": 0.035043,
     "end_time": "2022-10-13T17:54:31.031013",
     "exception": false,
     "start_time": "2022-10-13T17:54:30.995970",
     "status": "completed"
    },
    "tags": []
   },
   "outputs": [
    {
     "name": "stdout",
     "output_type": "stream",
     "text": [
      "Feature Importance:\n",
      "0.0026   Id\n",
      "0.0109   LotArea\n",
      "0.3931   OverallQual\n",
      "0.0094   OverallCond\n",
      "0.0142   YearBuilt\n",
      "0.0322   YearRemodAdd\n",
      "0.027   BsmtFinSF1\n",
      "0.0177   CentralAir\n",
      "0.0119   GrLivArea\n",
      "0.0265   KitchenAbvGr\n",
      "0.0336   Fireplaces\n",
      "0.094   GarageCars\n",
      "0.0101   GarageArea\n",
      "0.0052   WoodDeckSF\n",
      "0.2069   totalSQ\n",
      "0.0775   bathrooms\n",
      "0.0274   NewConstruction\n"
     ]
    }
   ],
   "source": [
    "importance=xgbFinal.feature_importances_\n",
    "name=xgbFinal.feature_names_in_\n",
    "print(\"Feature Importance:\")\n",
    "for num in range(len(name)):\n",
    "    print(round(importance[num],4), \" \", name[num])"
   ]
  },
  {
   "cell_type": "code",
   "execution_count": 28,
   "id": "0da0a298",
   "metadata": {
    "execution": {
     "iopub.execute_input": "2022-10-13T17:54:31.077549Z",
     "iopub.status.busy": "2022-10-13T17:54:31.077155Z",
     "iopub.status.idle": "2022-10-13T17:54:31.087454Z",
     "shell.execute_reply": "2022-10-13T17:54:31.086359Z"
    },
    "papermill": {
     "duration": 0.035453,
     "end_time": "2022-10-13T17:54:31.089437",
     "exception": false,
     "start_time": "2022-10-13T17:54:31.053984",
     "status": "completed"
    },
    "tags": []
   },
   "outputs": [],
   "source": [
    "def randSearch():\n",
    "    clf_xgb = xgb.XGBRegressor()\n",
    "    param_dist = {'n_estimators': stats.randint(50, 130),\n",
    "                  'learning_rate': stats.uniform(0.01, 0.07),\n",
    "                  'subsample': stats.uniform(0.3, 0.7),\n",
    "                  'max_depth': [3, 4, 5, 6],\n",
    "                  'colsample_bytree': stats.uniform(0.5, 0.45),\n",
    "                  'min_child_weight': [1, 10]\n",
    "                 }\n",
    "    clf = RandomizedSearchCV(\n",
    "        clf_xgb, param_distributions = param_dist, n_iter = 10, \n",
    "     scoring = 'r2', error_score = 0, verbose = 3, n_jobs = -1)\n",
    "\n",
    "    numFolds = 5\n",
    "    folds = KFold(n_splits = numFolds, shuffle = True)\n",
    "\n",
    "    estimators = []\n",
    "    results = np.zeros(len(X))\n",
    "    score = 0.0\n",
    "    for train_index, test_index in folds.split(X):\n",
    "        X_train, X_test = X.iloc[train_index,:], X.iloc[test_index,:]\n",
    "        y_train, y_test = y.iloc[train_index].values.ravel(), y.iloc[test_index].values.ravel()\n",
    "        clf.fit(X_train, y_train)\n",
    "\n",
    "        estimators.append(clf.best_estimator_)\n",
    "        results[test_index] = clf.predict(X_test)\n",
    "        score += r2_score(y_test, results[test_index])\n",
    "    score /= numFolds"
   ]
  },
  {
   "cell_type": "markdown",
   "id": "8c29752b",
   "metadata": {
    "execution": {
     "iopub.execute_input": "2022-09-19T21:09:40.310967Z",
     "iopub.status.busy": "2022-09-19T21:09:40.310240Z",
     "iopub.status.idle": "2022-09-19T21:09:40.328174Z",
     "shell.execute_reply": "2022-09-19T21:09:40.326914Z",
     "shell.execute_reply.started": "2022-09-19T21:09:40.310928Z"
    },
    "papermill": {
     "duration": 0.021506,
     "end_time": "2022-10-13T17:54:31.132685",
     "exception": false,
     "start_time": "2022-10-13T17:54:31.111179",
     "status": "completed"
    },
    "tags": []
   },
   "source": [
    "# Test Dataset\n",
    "Make final predictions on unknown house price value using features from Train data"
   ]
  },
  {
   "cell_type": "code",
   "execution_count": 29,
   "id": "1d8b35cb",
   "metadata": {
    "execution": {
     "iopub.execute_input": "2022-10-13T17:54:31.178272Z",
     "iopub.status.busy": "2022-10-13T17:54:31.177124Z",
     "iopub.status.idle": "2022-10-13T17:54:31.273164Z",
     "shell.execute_reply": "2022-10-13T17:54:31.272123Z"
    },
    "papermill": {
     "duration": 0.120855,
     "end_time": "2022-10-13T17:54:31.275348",
     "exception": false,
     "start_time": "2022-10-13T17:54:31.154493",
     "status": "completed"
    },
    "tags": []
   },
   "outputs": [
    {
     "name": "stdout",
     "output_type": "stream",
     "text": [
      "(1459, 80)\n"
     ]
    },
    {
     "data": {
      "text/html": [
       "<div>\n",
       "<style scoped>\n",
       "    .dataframe tbody tr th:only-of-type {\n",
       "        vertical-align: middle;\n",
       "    }\n",
       "\n",
       "    .dataframe tbody tr th {\n",
       "        vertical-align: top;\n",
       "    }\n",
       "\n",
       "    .dataframe thead th {\n",
       "        text-align: right;\n",
       "    }\n",
       "</style>\n",
       "<table border=\"1\" class=\"dataframe\">\n",
       "  <thead>\n",
       "    <tr style=\"text-align: right;\">\n",
       "      <th></th>\n",
       "      <th>Id</th>\n",
       "      <th>MSSubClass</th>\n",
       "      <th>LotFrontage</th>\n",
       "      <th>LotArea</th>\n",
       "      <th>OverallQual</th>\n",
       "      <th>OverallCond</th>\n",
       "      <th>YearBuilt</th>\n",
       "      <th>YearRemodAdd</th>\n",
       "      <th>MasVnrArea</th>\n",
       "      <th>BsmtFinSF1</th>\n",
       "      <th>...</th>\n",
       "      <th>EnclosedPorch</th>\n",
       "      <th>3SsnPorch</th>\n",
       "      <th>ScreenPorch</th>\n",
       "      <th>PoolArea</th>\n",
       "      <th>MiscVal</th>\n",
       "      <th>MoSold</th>\n",
       "      <th>YrSold</th>\n",
       "      <th>totalSQ</th>\n",
       "      <th>bathrooms</th>\n",
       "      <th>NewConstruction</th>\n",
       "    </tr>\n",
       "  </thead>\n",
       "  <tbody>\n",
       "    <tr>\n",
       "      <th>0</th>\n",
       "      <td>1461</td>\n",
       "      <td>20</td>\n",
       "      <td>80.0</td>\n",
       "      <td>11622</td>\n",
       "      <td>5</td>\n",
       "      <td>6</td>\n",
       "      <td>1961</td>\n",
       "      <td>1961</td>\n",
       "      <td>0.0</td>\n",
       "      <td>468.0</td>\n",
       "      <td>...</td>\n",
       "      <td>0</td>\n",
       "      <td>0</td>\n",
       "      <td>120</td>\n",
       "      <td>0</td>\n",
       "      <td>0</td>\n",
       "      <td>6</td>\n",
       "      <td>2010</td>\n",
       "      <td>1778.0</td>\n",
       "      <td>1.0</td>\n",
       "      <td>0</td>\n",
       "    </tr>\n",
       "    <tr>\n",
       "      <th>1</th>\n",
       "      <td>1462</td>\n",
       "      <td>20</td>\n",
       "      <td>81.0</td>\n",
       "      <td>14267</td>\n",
       "      <td>6</td>\n",
       "      <td>6</td>\n",
       "      <td>1958</td>\n",
       "      <td>1958</td>\n",
       "      <td>108.0</td>\n",
       "      <td>923.0</td>\n",
       "      <td>...</td>\n",
       "      <td>0</td>\n",
       "      <td>0</td>\n",
       "      <td>0</td>\n",
       "      <td>0</td>\n",
       "      <td>12500</td>\n",
       "      <td>6</td>\n",
       "      <td>2010</td>\n",
       "      <td>2658.0</td>\n",
       "      <td>2.0</td>\n",
       "      <td>0</td>\n",
       "    </tr>\n",
       "    <tr>\n",
       "      <th>2</th>\n",
       "      <td>1463</td>\n",
       "      <td>60</td>\n",
       "      <td>74.0</td>\n",
       "      <td>13830</td>\n",
       "      <td>5</td>\n",
       "      <td>5</td>\n",
       "      <td>1997</td>\n",
       "      <td>1998</td>\n",
       "      <td>0.0</td>\n",
       "      <td>791.0</td>\n",
       "      <td>...</td>\n",
       "      <td>0</td>\n",
       "      <td>0</td>\n",
       "      <td>0</td>\n",
       "      <td>0</td>\n",
       "      <td>0</td>\n",
       "      <td>3</td>\n",
       "      <td>2010</td>\n",
       "      <td>2557.0</td>\n",
       "      <td>3.0</td>\n",
       "      <td>0</td>\n",
       "    </tr>\n",
       "    <tr>\n",
       "      <th>3</th>\n",
       "      <td>1464</td>\n",
       "      <td>60</td>\n",
       "      <td>78.0</td>\n",
       "      <td>9978</td>\n",
       "      <td>6</td>\n",
       "      <td>6</td>\n",
       "      <td>1998</td>\n",
       "      <td>1998</td>\n",
       "      <td>20.0</td>\n",
       "      <td>602.0</td>\n",
       "      <td>...</td>\n",
       "      <td>0</td>\n",
       "      <td>0</td>\n",
       "      <td>0</td>\n",
       "      <td>0</td>\n",
       "      <td>0</td>\n",
       "      <td>6</td>\n",
       "      <td>2010</td>\n",
       "      <td>2530.0</td>\n",
       "      <td>3.0</td>\n",
       "      <td>0</td>\n",
       "    </tr>\n",
       "    <tr>\n",
       "      <th>4</th>\n",
       "      <td>1465</td>\n",
       "      <td>120</td>\n",
       "      <td>43.0</td>\n",
       "      <td>5005</td>\n",
       "      <td>8</td>\n",
       "      <td>5</td>\n",
       "      <td>1992</td>\n",
       "      <td>1992</td>\n",
       "      <td>0.0</td>\n",
       "      <td>263.0</td>\n",
       "      <td>...</td>\n",
       "      <td>0</td>\n",
       "      <td>0</td>\n",
       "      <td>144</td>\n",
       "      <td>0</td>\n",
       "      <td>0</td>\n",
       "      <td>1</td>\n",
       "      <td>2010</td>\n",
       "      <td>2560.0</td>\n",
       "      <td>2.0</td>\n",
       "      <td>0</td>\n",
       "    </tr>\n",
       "  </tbody>\n",
       "</table>\n",
       "<p>5 rows × 41 columns</p>\n",
       "</div>"
      ],
      "text/plain": [
       "     Id  MSSubClass  LotFrontage  LotArea  OverallQual  OverallCond  \\\n",
       "0  1461          20         80.0    11622            5            6   \n",
       "1  1462          20         81.0    14267            6            6   \n",
       "2  1463          60         74.0    13830            5            5   \n",
       "3  1464          60         78.0     9978            6            6   \n",
       "4  1465         120         43.0     5005            8            5   \n",
       "\n",
       "   YearBuilt  YearRemodAdd  MasVnrArea  BsmtFinSF1  ...  EnclosedPorch  \\\n",
       "0       1961          1961         0.0       468.0  ...              0   \n",
       "1       1958          1958       108.0       923.0  ...              0   \n",
       "2       1997          1998         0.0       791.0  ...              0   \n",
       "3       1998          1998        20.0       602.0  ...              0   \n",
       "4       1992          1992         0.0       263.0  ...              0   \n",
       "\n",
       "   3SsnPorch  ScreenPorch  PoolArea  MiscVal  MoSold  YrSold  totalSQ  \\\n",
       "0          0          120         0        0       6    2010   1778.0   \n",
       "1          0            0         0    12500       6    2010   2658.0   \n",
       "2          0            0         0        0       3    2010   2557.0   \n",
       "3          0            0         0        0       6    2010   2530.0   \n",
       "4          0          144         0        0       1    2010   2560.0   \n",
       "\n",
       "   bathrooms  NewConstruction  \n",
       "0        1.0                0  \n",
       "1        2.0                0  \n",
       "2        3.0                0  \n",
       "3        3.0                0  \n",
       "4        2.0                0  \n",
       "\n",
       "[5 rows x 41 columns]"
      ]
     },
     "execution_count": 29,
     "metadata": {},
     "output_type": "execute_result"
    }
   ],
   "source": [
    "test='/kaggle/input/house-prices-advanced-regression-techniques/test.csv'\n",
    "testDF=pd.read_csv(test)\n",
    "print(testDF.shape)\n",
    "\n",
    "#Missing Values\n",
    "testDF=testDF.drop_duplicates()\n",
    "testDF['MiscFeature']=testDF['MiscFeature'].fillna(0)\n",
    "testDF['Alley']=testDF['Alley'].fillna(0)\n",
    "testDF['Fence']=testDF['Fence'].fillna(0)\n",
    "testDF['FireplaceQu']=testDF['FireplaceQu'].fillna(0)\n",
    "testDF=testDF.fillna(df.mean())\n",
    "\n",
    "# Feature Engineer\n",
    "testDF['totalSQ']=testDF['1stFlrSF']+testDF['2ndFlrSF']+testDF['TotalBsmtSF']\n",
    "testDF['bathrooms']=testDF['FullBath']+testDF['BsmtFullBath']+testDF['HalfBath']+testDF['BsmtHalfBath']\n",
    "testDF['CentralAir'] = testDF['CentralAir'].replace({'Y':0, 'N':1})\n",
    "testDF['NewConstruction'] = (testDF['SaleType'] == 'New').astype('int64')\n",
    "testDF[\"PoolScore\"] = testDF[\"PoolArea\"] * testDF[\"PoolQC\"]\n",
    "\n",
    "#testDF['SaleCondition']=testDF['SaleCondition'].apply(lambda x:1 if x == 'Normal' else 0)\n",
    "#testDF['Condition1']=testDF['Condition1'].apply(lambda x: 1 if x=='Norm' else 0)\n",
    "\n",
    "testDF = testDF.select_dtypes(include=['int16', 'int32', 'int64', 'float16', 'float32', 'float64'])\n",
    "testDF.head()"
   ]
  },
  {
   "cell_type": "code",
   "execution_count": 30,
   "id": "ecf41f77",
   "metadata": {
    "execution": {
     "iopub.execute_input": "2022-10-13T17:54:31.321762Z",
     "iopub.status.busy": "2022-10-13T17:54:31.320747Z",
     "iopub.status.idle": "2022-10-13T17:54:31.327553Z",
     "shell.execute_reply": "2022-10-13T17:54:31.326329Z"
    },
    "papermill": {
     "duration": 0.032472,
     "end_time": "2022-10-13T17:54:31.330059",
     "exception": false,
     "start_time": "2022-10-13T17:54:31.297587",
     "status": "completed"
    },
    "tags": []
   },
   "outputs": [],
   "source": [
    "testIDs=testDF['Id']\n",
    "cols=X_test.columns\n",
    "testDF=testDF[cols]"
   ]
  },
  {
   "cell_type": "code",
   "execution_count": 31,
   "id": "19afb950",
   "metadata": {
    "execution": {
     "iopub.execute_input": "2022-10-13T17:54:31.376680Z",
     "iopub.status.busy": "2022-10-13T17:54:31.376018Z",
     "iopub.status.idle": "2022-10-13T17:54:31.388678Z",
     "shell.execute_reply": "2022-10-13T17:54:31.387786Z"
    },
    "papermill": {
     "duration": 0.040233,
     "end_time": "2022-10-13T17:54:31.392546",
     "exception": false,
     "start_time": "2022-10-13T17:54:31.352313",
     "status": "completed"
    },
    "tags": []
   },
   "outputs": [],
   "source": [
    "#Final Prediction\n",
    "finalPred=xgbFinal.predict(testDF).round(2)\n",
    "tupDF=list(zip(testIDs,finalPred))"
   ]
  },
  {
   "cell_type": "code",
   "execution_count": 32,
   "id": "437375d6",
   "metadata": {
    "execution": {
     "iopub.execute_input": "2022-10-13T17:54:31.440852Z",
     "iopub.status.busy": "2022-10-13T17:54:31.440099Z",
     "iopub.status.idle": "2022-10-13T17:54:31.453622Z",
     "shell.execute_reply": "2022-10-13T17:54:31.452527Z"
    },
    "papermill": {
     "duration": 0.039063,
     "end_time": "2022-10-13T17:54:31.455695",
     "exception": false,
     "start_time": "2022-10-13T17:54:31.416632",
     "status": "completed"
    },
    "tags": []
   },
   "outputs": [
    {
     "data": {
      "text/html": [
       "<div>\n",
       "<style scoped>\n",
       "    .dataframe tbody tr th:only-of-type {\n",
       "        vertical-align: middle;\n",
       "    }\n",
       "\n",
       "    .dataframe tbody tr th {\n",
       "        vertical-align: top;\n",
       "    }\n",
       "\n",
       "    .dataframe thead th {\n",
       "        text-align: right;\n",
       "    }\n",
       "</style>\n",
       "<table border=\"1\" class=\"dataframe\">\n",
       "  <thead>\n",
       "    <tr style=\"text-align: right;\">\n",
       "      <th></th>\n",
       "      <th>Id</th>\n",
       "      <th>SalePrice</th>\n",
       "    </tr>\n",
       "  </thead>\n",
       "  <tbody>\n",
       "    <tr>\n",
       "      <th>0</th>\n",
       "      <td>1461</td>\n",
       "      <td>131843.234375</td>\n",
       "    </tr>\n",
       "    <tr>\n",
       "      <th>1</th>\n",
       "      <td>1462</td>\n",
       "      <td>163762.359375</td>\n",
       "    </tr>\n",
       "    <tr>\n",
       "      <th>2</th>\n",
       "      <td>1463</td>\n",
       "      <td>184179.578125</td>\n",
       "    </tr>\n",
       "    <tr>\n",
       "      <th>3</th>\n",
       "      <td>1464</td>\n",
       "      <td>199074.765625</td>\n",
       "    </tr>\n",
       "    <tr>\n",
       "      <th>4</th>\n",
       "      <td>1465</td>\n",
       "      <td>177790.312500</td>\n",
       "    </tr>\n",
       "  </tbody>\n",
       "</table>\n",
       "</div>"
      ],
      "text/plain": [
       "     Id      SalePrice\n",
       "0  1461  131843.234375\n",
       "1  1462  163762.359375\n",
       "2  1463  184179.578125\n",
       "3  1464  199074.765625\n",
       "4  1465  177790.312500"
      ]
     },
     "execution_count": 32,
     "metadata": {},
     "output_type": "execute_result"
    }
   ],
   "source": [
    "output=pd.DataFrame(tupDF, columns=['Id','SalePrice']).sort_values(by='Id').reset_index(drop=True)\n",
    "output.head()"
   ]
  },
  {
   "cell_type": "markdown",
   "id": "4547bb68",
   "metadata": {
    "papermill": {
     "duration": 0.021903,
     "end_time": "2022-10-13T17:54:31.500007",
     "exception": false,
     "start_time": "2022-10-13T17:54:31.478104",
     "status": "completed"
    },
    "tags": []
   },
   "source": [
    "### Final Prediction"
   ]
  },
  {
   "cell_type": "code",
   "execution_count": 33,
   "id": "f29d2e54",
   "metadata": {
    "execution": {
     "iopub.execute_input": "2022-10-13T17:54:31.547374Z",
     "iopub.status.busy": "2022-10-13T17:54:31.546312Z",
     "iopub.status.idle": "2022-10-13T17:54:31.558725Z",
     "shell.execute_reply": "2022-10-13T17:54:31.557440Z"
    },
    "papermill": {
     "duration": 0.038456,
     "end_time": "2022-10-13T17:54:31.560909",
     "exception": false,
     "start_time": "2022-10-13T17:54:31.522453",
     "status": "completed"
    },
    "tags": []
   },
   "outputs": [
    {
     "name": "stdout",
     "output_type": "stream",
     "text": [
      "(1459, 2)\n",
      "Output Created\n"
     ]
    }
   ],
   "source": [
    "print(output.shape)\n",
    "output.to_csv('submission.csv', index=False)\n",
    "print(\"Output Created\")"
   ]
  }
 ],
 "metadata": {
  "kernelspec": {
   "display_name": "Python 3",
   "language": "python",
   "name": "python3"
  },
  "language_info": {
   "codemirror_mode": {
    "name": "ipython",
    "version": 3
   },
   "file_extension": ".py",
   "mimetype": "text/x-python",
   "name": "python",
   "nbconvert_exporter": "python",
   "pygments_lexer": "ipython3",
   "version": "3.7.12"
  },
  "papermill": {
   "default_parameters": {},
   "duration": 250.923801,
   "end_time": "2022-10-13T17:54:32.405322",
   "environment_variables": {},
   "exception": null,
   "input_path": "__notebook__.ipynb",
   "output_path": "__notebook__.ipynb",
   "parameters": {},
   "start_time": "2022-10-13T17:50:21.481521",
   "version": "2.3.4"
  }
 },
 "nbformat": 4,
 "nbformat_minor": 5
}
