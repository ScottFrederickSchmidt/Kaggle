{
 "cells": [
  {
   "cell_type": "markdown",
   "id": "eda6d040",
   "metadata": {
    "papermill": {
     "duration": 0.039655,
     "end_time": "2022-04-28T15:54:39.522788",
     "exception": false,
     "start_time": "2022-04-28T15:54:39.483133",
     "status": "completed"
    },
    "tags": []
   },
   "source": [
    "# Credit Risk Mortgage Loans\n",
    "The data is provided by [Home Credit](https://www.homecredit.net/about-us.asp), who provides lines of credit (loans) to the unbanked population. There are 307,511 rows of different credit information and 122 columns of feature variables. \n",
    "\n",
    "Using different models using AUC found the following:\n",
    "* Linear regression 0.7327\n",
    "* Decision tree 0.7215\n",
    "* Gradient boost 0.6966\n",
    "* Random forest 0.6312\n",
    "* Logistic regression 0.6145\n",
    "* Knn 0.5106 \n",
    "* SVM has runtime memory issues from too big data. \n",
    "\n",
    "A final credit prediction will be made for every test data.\n",
    "\n",
    "## Datasets Summary\n",
    "Original dataset csv files can be found on [Kaggle](https://www.kaggle.com/c/home-credit-default-risk). The columns with first five rows will be shown below to view whenever a dataset is used. Therefore, one will not have to download the csv files. There are seven sources of data for this project which will be briefly\n",
    "described below:\n",
    "* Train.csv: This is the most important dataset with 307,511 rows which are house data. There are 106 column features describing houses such as square feet and year built. The column TARGET column is an important feature to discuss. A 1 in this row means the loan struggled to payback. A 0 means the loan was did not default. Some of the features will need to be encoded numerical to test if they have high feature importance.\n",
    "* bureau.csv: Other previous credit data from other financial institutions. \n",
    "* bureau_balance.csv: Monthly bureau previous credits.\n",
    "* brevious_application.csv: Previous application loans.\n",
    "* POS_CASH_BALANCE.csv: Monthly data about previous cash loans. \n",
    "* credit_card_balance.csv: Monthly credit card data for clients with Home Credit.\n",
    "* installments_payment.csv: Payment history for previous loans.\n",
    "<br/> <br/>\n",
    "\n",
    "## View Train Data\n",
    "The training dataset is the most important dataset with over three-hundred thousand house prices that will be predicted at the very using the best metrics predictive models with reduced error. In total, the train data has 122 columns with 307,511 rows of credit. The first five rows of the train.csv file will be shown below."
   ]
  },
  {
   "cell_type": "code",
   "execution_count": 1,
   "id": "500b1355",
   "metadata": {
    "execution": {
     "iopub.execute_input": "2022-04-28T15:54:39.614533Z",
     "iopub.status.busy": "2022-04-28T15:54:39.613812Z",
     "iopub.status.idle": "2022-04-28T15:54:48.032181Z",
     "shell.execute_reply": "2022-04-28T15:54:48.032770Z",
     "shell.execute_reply.started": "2022-04-28T15:33:03.475054Z"
    },
    "papermill": {
     "duration": 8.469512,
     "end_time": "2022-04-28T15:54:48.033094",
     "exception": false,
     "start_time": "2022-04-28T15:54:39.563582",
     "status": "completed"
    },
    "tags": []
   },
   "outputs": [
    {
     "data": {
      "text/html": [
       "<div>\n",
       "<style scoped>\n",
       "    .dataframe tbody tr th:only-of-type {\n",
       "        vertical-align: middle;\n",
       "    }\n",
       "\n",
       "    .dataframe tbody tr th {\n",
       "        vertical-align: top;\n",
       "    }\n",
       "\n",
       "    .dataframe thead th {\n",
       "        text-align: right;\n",
       "    }\n",
       "</style>\n",
       "<table border=\"1\" class=\"dataframe\">\n",
       "  <thead>\n",
       "    <tr style=\"text-align: right;\">\n",
       "      <th></th>\n",
       "      <th>SK_ID_CURR</th>\n",
       "      <th>TARGET</th>\n",
       "      <th>NAME_CONTRACT_TYPE</th>\n",
       "      <th>CODE_GENDER</th>\n",
       "      <th>FLAG_OWN_CAR</th>\n",
       "      <th>FLAG_OWN_REALTY</th>\n",
       "      <th>CNT_CHILDREN</th>\n",
       "      <th>AMT_INCOME_TOTAL</th>\n",
       "      <th>AMT_CREDIT</th>\n",
       "      <th>AMT_ANNUITY</th>\n",
       "      <th>...</th>\n",
       "      <th>FLAG_DOCUMENT_18</th>\n",
       "      <th>FLAG_DOCUMENT_19</th>\n",
       "      <th>FLAG_DOCUMENT_20</th>\n",
       "      <th>FLAG_DOCUMENT_21</th>\n",
       "      <th>AMT_REQ_CREDIT_BUREAU_HOUR</th>\n",
       "      <th>AMT_REQ_CREDIT_BUREAU_DAY</th>\n",
       "      <th>AMT_REQ_CREDIT_BUREAU_WEEK</th>\n",
       "      <th>AMT_REQ_CREDIT_BUREAU_MON</th>\n",
       "      <th>AMT_REQ_CREDIT_BUREAU_QRT</th>\n",
       "      <th>AMT_REQ_CREDIT_BUREAU_YEAR</th>\n",
       "    </tr>\n",
       "  </thead>\n",
       "  <tbody>\n",
       "    <tr>\n",
       "      <th>0</th>\n",
       "      <td>100002</td>\n",
       "      <td>1</td>\n",
       "      <td>Cash loans</td>\n",
       "      <td>M</td>\n",
       "      <td>N</td>\n",
       "      <td>Y</td>\n",
       "      <td>0</td>\n",
       "      <td>202500.0</td>\n",
       "      <td>406597.5</td>\n",
       "      <td>24700.5</td>\n",
       "      <td>...</td>\n",
       "      <td>0</td>\n",
       "      <td>0</td>\n",
       "      <td>0</td>\n",
       "      <td>0</td>\n",
       "      <td>0.0</td>\n",
       "      <td>0.0</td>\n",
       "      <td>0.0</td>\n",
       "      <td>0.0</td>\n",
       "      <td>0.0</td>\n",
       "      <td>1.0</td>\n",
       "    </tr>\n",
       "    <tr>\n",
       "      <th>1</th>\n",
       "      <td>100003</td>\n",
       "      <td>0</td>\n",
       "      <td>Cash loans</td>\n",
       "      <td>F</td>\n",
       "      <td>N</td>\n",
       "      <td>N</td>\n",
       "      <td>0</td>\n",
       "      <td>270000.0</td>\n",
       "      <td>1293502.5</td>\n",
       "      <td>35698.5</td>\n",
       "      <td>...</td>\n",
       "      <td>0</td>\n",
       "      <td>0</td>\n",
       "      <td>0</td>\n",
       "      <td>0</td>\n",
       "      <td>0.0</td>\n",
       "      <td>0.0</td>\n",
       "      <td>0.0</td>\n",
       "      <td>0.0</td>\n",
       "      <td>0.0</td>\n",
       "      <td>0.0</td>\n",
       "    </tr>\n",
       "    <tr>\n",
       "      <th>2</th>\n",
       "      <td>100004</td>\n",
       "      <td>0</td>\n",
       "      <td>Revolving loans</td>\n",
       "      <td>M</td>\n",
       "      <td>Y</td>\n",
       "      <td>Y</td>\n",
       "      <td>0</td>\n",
       "      <td>67500.0</td>\n",
       "      <td>135000.0</td>\n",
       "      <td>6750.0</td>\n",
       "      <td>...</td>\n",
       "      <td>0</td>\n",
       "      <td>0</td>\n",
       "      <td>0</td>\n",
       "      <td>0</td>\n",
       "      <td>0.0</td>\n",
       "      <td>0.0</td>\n",
       "      <td>0.0</td>\n",
       "      <td>0.0</td>\n",
       "      <td>0.0</td>\n",
       "      <td>0.0</td>\n",
       "    </tr>\n",
       "    <tr>\n",
       "      <th>3</th>\n",
       "      <td>100006</td>\n",
       "      <td>0</td>\n",
       "      <td>Cash loans</td>\n",
       "      <td>F</td>\n",
       "      <td>N</td>\n",
       "      <td>Y</td>\n",
       "      <td>0</td>\n",
       "      <td>135000.0</td>\n",
       "      <td>312682.5</td>\n",
       "      <td>29686.5</td>\n",
       "      <td>...</td>\n",
       "      <td>0</td>\n",
       "      <td>0</td>\n",
       "      <td>0</td>\n",
       "      <td>0</td>\n",
       "      <td>NaN</td>\n",
       "      <td>NaN</td>\n",
       "      <td>NaN</td>\n",
       "      <td>NaN</td>\n",
       "      <td>NaN</td>\n",
       "      <td>NaN</td>\n",
       "    </tr>\n",
       "    <tr>\n",
       "      <th>4</th>\n",
       "      <td>100007</td>\n",
       "      <td>0</td>\n",
       "      <td>Cash loans</td>\n",
       "      <td>M</td>\n",
       "      <td>N</td>\n",
       "      <td>Y</td>\n",
       "      <td>0</td>\n",
       "      <td>121500.0</td>\n",
       "      <td>513000.0</td>\n",
       "      <td>21865.5</td>\n",
       "      <td>...</td>\n",
       "      <td>0</td>\n",
       "      <td>0</td>\n",
       "      <td>0</td>\n",
       "      <td>0</td>\n",
       "      <td>0.0</td>\n",
       "      <td>0.0</td>\n",
       "      <td>0.0</td>\n",
       "      <td>0.0</td>\n",
       "      <td>0.0</td>\n",
       "      <td>0.0</td>\n",
       "    </tr>\n",
       "  </tbody>\n",
       "</table>\n",
       "<p>5 rows × 122 columns</p>\n",
       "</div>"
      ],
      "text/plain": [
       "   SK_ID_CURR  TARGET NAME_CONTRACT_TYPE CODE_GENDER FLAG_OWN_CAR  \\\n",
       "0      100002       1         Cash loans           M            N   \n",
       "1      100003       0         Cash loans           F            N   \n",
       "2      100004       0    Revolving loans           M            Y   \n",
       "3      100006       0         Cash loans           F            N   \n",
       "4      100007       0         Cash loans           M            N   \n",
       "\n",
       "  FLAG_OWN_REALTY  CNT_CHILDREN  AMT_INCOME_TOTAL  AMT_CREDIT  AMT_ANNUITY  \\\n",
       "0               Y             0          202500.0    406597.5      24700.5   \n",
       "1               N             0          270000.0   1293502.5      35698.5   \n",
       "2               Y             0           67500.0    135000.0       6750.0   \n",
       "3               Y             0          135000.0    312682.5      29686.5   \n",
       "4               Y             0          121500.0    513000.0      21865.5   \n",
       "\n",
       "   ...  FLAG_DOCUMENT_18 FLAG_DOCUMENT_19 FLAG_DOCUMENT_20 FLAG_DOCUMENT_21  \\\n",
       "0  ...                 0                0                0                0   \n",
       "1  ...                 0                0                0                0   \n",
       "2  ...                 0                0                0                0   \n",
       "3  ...                 0                0                0                0   \n",
       "4  ...                 0                0                0                0   \n",
       "\n",
       "  AMT_REQ_CREDIT_BUREAU_HOUR AMT_REQ_CREDIT_BUREAU_DAY  \\\n",
       "0                        0.0                       0.0   \n",
       "1                        0.0                       0.0   \n",
       "2                        0.0                       0.0   \n",
       "3                        NaN                       NaN   \n",
       "4                        0.0                       0.0   \n",
       "\n",
       "   AMT_REQ_CREDIT_BUREAU_WEEK  AMT_REQ_CREDIT_BUREAU_MON  \\\n",
       "0                         0.0                        0.0   \n",
       "1                         0.0                        0.0   \n",
       "2                         0.0                        0.0   \n",
       "3                         NaN                        NaN   \n",
       "4                         0.0                        0.0   \n",
       "\n",
       "   AMT_REQ_CREDIT_BUREAU_QRT  AMT_REQ_CREDIT_BUREAU_YEAR  \n",
       "0                        0.0                         1.0  \n",
       "1                        0.0                         0.0  \n",
       "2                        0.0                         0.0  \n",
       "3                        NaN                         NaN  \n",
       "4                        0.0                         0.0  \n",
       "\n",
       "[5 rows x 122 columns]"
      ]
     },
     "execution_count": 1,
     "metadata": {},
     "output_type": "execute_result"
    }
   ],
   "source": [
    "import numpy as np\n",
    "import pandas as pd\n",
    "import seaborn as sns\n",
    "import matplotlib.pyplot as plt\n",
    "from sklearn.model_selection import train_test_split, cross_validate\n",
    "from statistics import mean\n",
    "from sklearn.metrics import mean_absolute_error, mean_squared_error, r2_score\n",
    "from sklearn.datasets import make_classification\n",
    "from sklearn import ensemble\n",
    "import sklearn.metrics as metrics\n",
    "#sample=r'/kaggle/input/home-credit-default-risk/sample_submission.csv'\n",
    "#cash=r'/kaggle/input/home-credit-default-risk/POS_CASH_balance.csv'\n",
    "#info='/kaggle/input/home-credit-default-risk/HomeCredit_columns_description.csv'\n",
    "#app=r'/kaggle/input/home-credit-default-risk/previous_application.csv'\n",
    "#cc=r'/kaggle/input/home-credit-default-risk/credit_card_balance.csv'\n",
    "#install=r'/kaggle/input/home-credit-default-risk/installments_payments.csv'\n",
    "bureau_balance=r'/kaggle/input/home-credit-default-risk/bureau_balance.csv'\n",
    "train=r'/kaggle/input/home-credit-default-risk/application_train.csv'\n",
    "test=r'/kaggle/input/home-credit-default-risk/application_test.csv'\n",
    "\n",
    "data=pd.read_csv(train) # (307511, 122)\n",
    "testDF=pd.read_csv(test)\n",
    "data.head()"
   ]
  },
  {
   "cell_type": "code",
   "execution_count": 2,
   "id": "94ed6b2c",
   "metadata": {
    "execution": {
     "iopub.execute_input": "2022-04-28T15:54:48.112709Z",
     "iopub.status.busy": "2022-04-28T15:54:48.111908Z",
     "iopub.status.idle": "2022-04-28T15:54:48.120909Z",
     "shell.execute_reply": "2022-04-28T15:54:48.120294Z",
     "shell.execute_reply.started": "2022-04-28T15:33:09.114025Z"
    },
    "papermill": {
     "duration": 0.049506,
     "end_time": "2022-04-28T15:54:48.121067",
     "exception": false,
     "start_time": "2022-04-28T15:54:48.071561",
     "status": "completed"
    },
    "tags": []
   },
   "outputs": [
    {
     "data": {
      "text/plain": [
       "SK_ID_CURR                      int64\n",
       "TARGET                          int64\n",
       "NAME_CONTRACT_TYPE             object\n",
       "CODE_GENDER                    object\n",
       "FLAG_OWN_CAR                   object\n",
       "                               ...   \n",
       "AMT_REQ_CREDIT_BUREAU_DAY     float64\n",
       "AMT_REQ_CREDIT_BUREAU_WEEK    float64\n",
       "AMT_REQ_CREDIT_BUREAU_MON     float64\n",
       "AMT_REQ_CREDIT_BUREAU_QRT     float64\n",
       "AMT_REQ_CREDIT_BUREAU_YEAR    float64\n",
       "Length: 122, dtype: object"
      ]
     },
     "execution_count": 2,
     "metadata": {},
     "output_type": "execute_result"
    }
   ],
   "source": [
    "data.dtypes"
   ]
  },
  {
   "cell_type": "markdown",
   "id": "11d59fa4",
   "metadata": {
    "papermill": {
     "duration": 0.038066,
     "end_time": "2022-04-28T15:54:48.197184",
     "exception": false,
     "start_time": "2022-04-28T15:54:48.159118",
     "status": "completed"
    },
    "tags": []
   },
   "source": [
    "## Examine TARGET column\n",
    "How many loans were not repaid? In train.csv 0 stands for repaid and 1 stands for payment difficulties. The percent of loans that defaulted was 0.081. This is somewhat unbalanced data so we must be careful when selecting what metrics to use to analyze the data. In addition, we must consider other data files for feature importance. There are no missing TARGET values which is good because we would likely have to drop a row that does not have an independent variable."
   ]
  },
  {
   "cell_type": "code",
   "execution_count": 3,
   "id": "f5f8078b",
   "metadata": {
    "execution": {
     "iopub.execute_input": "2022-04-28T15:54:48.281425Z",
     "iopub.status.busy": "2022-04-28T15:54:48.280349Z",
     "iopub.status.idle": "2022-04-28T15:54:48.297084Z",
     "shell.execute_reply": "2022-04-28T15:54:48.297751Z",
     "shell.execute_reply.started": "2022-04-28T15:33:09.124831Z"
    },
    "papermill": {
     "duration": 0.059482,
     "end_time": "2022-04-28T15:54:48.297964",
     "exception": false,
     "start_time": "2022-04-28T15:54:48.238482",
     "status": "completed"
    },
    "tags": []
   },
   "outputs": [
    {
     "name": "stdout",
     "output_type": "stream",
     "text": [
      "0    282686\n",
      "1     24825\n",
      "Name: TARGET, dtype: int64\n",
      "Percent of loans that defauled:  0.081\n"
     ]
    }
   ],
   "source": [
    "temp=data['TARGET'].value_counts()\n",
    "print(temp)\n",
    "paid=temp[0]\n",
    "notPaid=temp[1]\n",
    "default=round(notPaid/(paid+notPaid),3)\n",
    "print(\"Percent of loans that defauled: \", default)"
   ]
  },
  {
   "cell_type": "markdown",
   "id": "00c244ec",
   "metadata": {
    "papermill": {
     "duration": 0.039371,
     "end_time": "2022-04-28T15:54:48.377057",
     "exception": false,
     "start_time": "2022-04-28T15:54:48.337686",
     "status": "completed"
    },
    "tags": []
   },
   "source": [
    "## Numeric DataFrame\n",
    "The data is now all numeric values. We can encode categorical values later on to view if any of the categorical values have any importance worth investing in later."
   ]
  },
  {
   "cell_type": "code",
   "execution_count": 4,
   "id": "36252b7d",
   "metadata": {
    "execution": {
     "iopub.execute_input": "2022-04-28T15:54:48.501883Z",
     "iopub.status.busy": "2022-04-28T15:54:48.501122Z",
     "iopub.status.idle": "2022-04-28T15:54:48.588693Z",
     "shell.execute_reply": "2022-04-28T15:54:48.589204Z",
     "shell.execute_reply.started": "2022-04-28T15:33:09.147001Z"
    },
    "papermill": {
     "duration": 0.172451,
     "end_time": "2022-04-28T15:54:48.589409",
     "exception": false,
     "start_time": "2022-04-28T15:54:48.416958",
     "status": "completed"
    },
    "tags": []
   },
   "outputs": [
    {
     "data": {
      "text/html": [
       "<div>\n",
       "<style scoped>\n",
       "    .dataframe tbody tr th:only-of-type {\n",
       "        vertical-align: middle;\n",
       "    }\n",
       "\n",
       "    .dataframe tbody tr th {\n",
       "        vertical-align: top;\n",
       "    }\n",
       "\n",
       "    .dataframe thead th {\n",
       "        text-align: right;\n",
       "    }\n",
       "</style>\n",
       "<table border=\"1\" class=\"dataframe\">\n",
       "  <thead>\n",
       "    <tr style=\"text-align: right;\">\n",
       "      <th></th>\n",
       "      <th>SK_ID_CURR</th>\n",
       "      <th>TARGET</th>\n",
       "      <th>CNT_CHILDREN</th>\n",
       "      <th>AMT_INCOME_TOTAL</th>\n",
       "      <th>AMT_CREDIT</th>\n",
       "      <th>AMT_ANNUITY</th>\n",
       "      <th>AMT_GOODS_PRICE</th>\n",
       "      <th>REGION_POPULATION_RELATIVE</th>\n",
       "      <th>DAYS_BIRTH</th>\n",
       "      <th>DAYS_EMPLOYED</th>\n",
       "      <th>...</th>\n",
       "      <th>FLAG_DOCUMENT_18</th>\n",
       "      <th>FLAG_DOCUMENT_19</th>\n",
       "      <th>FLAG_DOCUMENT_20</th>\n",
       "      <th>FLAG_DOCUMENT_21</th>\n",
       "      <th>AMT_REQ_CREDIT_BUREAU_HOUR</th>\n",
       "      <th>AMT_REQ_CREDIT_BUREAU_DAY</th>\n",
       "      <th>AMT_REQ_CREDIT_BUREAU_WEEK</th>\n",
       "      <th>AMT_REQ_CREDIT_BUREAU_MON</th>\n",
       "      <th>AMT_REQ_CREDIT_BUREAU_QRT</th>\n",
       "      <th>AMT_REQ_CREDIT_BUREAU_YEAR</th>\n",
       "    </tr>\n",
       "  </thead>\n",
       "  <tbody>\n",
       "    <tr>\n",
       "      <th>0</th>\n",
       "      <td>100002</td>\n",
       "      <td>1</td>\n",
       "      <td>0</td>\n",
       "      <td>202500.0</td>\n",
       "      <td>406597.5</td>\n",
       "      <td>24700.5</td>\n",
       "      <td>351000.0</td>\n",
       "      <td>0.018801</td>\n",
       "      <td>-9461</td>\n",
       "      <td>-637</td>\n",
       "      <td>...</td>\n",
       "      <td>0</td>\n",
       "      <td>0</td>\n",
       "      <td>0</td>\n",
       "      <td>0</td>\n",
       "      <td>0.0</td>\n",
       "      <td>0.0</td>\n",
       "      <td>0.0</td>\n",
       "      <td>0.0</td>\n",
       "      <td>0.0</td>\n",
       "      <td>1.0</td>\n",
       "    </tr>\n",
       "    <tr>\n",
       "      <th>1</th>\n",
       "      <td>100003</td>\n",
       "      <td>0</td>\n",
       "      <td>0</td>\n",
       "      <td>270000.0</td>\n",
       "      <td>1293502.5</td>\n",
       "      <td>35698.5</td>\n",
       "      <td>1129500.0</td>\n",
       "      <td>0.003541</td>\n",
       "      <td>-16765</td>\n",
       "      <td>-1188</td>\n",
       "      <td>...</td>\n",
       "      <td>0</td>\n",
       "      <td>0</td>\n",
       "      <td>0</td>\n",
       "      <td>0</td>\n",
       "      <td>0.0</td>\n",
       "      <td>0.0</td>\n",
       "      <td>0.0</td>\n",
       "      <td>0.0</td>\n",
       "      <td>0.0</td>\n",
       "      <td>0.0</td>\n",
       "    </tr>\n",
       "    <tr>\n",
       "      <th>2</th>\n",
       "      <td>100004</td>\n",
       "      <td>0</td>\n",
       "      <td>0</td>\n",
       "      <td>67500.0</td>\n",
       "      <td>135000.0</td>\n",
       "      <td>6750.0</td>\n",
       "      <td>135000.0</td>\n",
       "      <td>0.010032</td>\n",
       "      <td>-19046</td>\n",
       "      <td>-225</td>\n",
       "      <td>...</td>\n",
       "      <td>0</td>\n",
       "      <td>0</td>\n",
       "      <td>0</td>\n",
       "      <td>0</td>\n",
       "      <td>0.0</td>\n",
       "      <td>0.0</td>\n",
       "      <td>0.0</td>\n",
       "      <td>0.0</td>\n",
       "      <td>0.0</td>\n",
       "      <td>0.0</td>\n",
       "    </tr>\n",
       "    <tr>\n",
       "      <th>3</th>\n",
       "      <td>100006</td>\n",
       "      <td>0</td>\n",
       "      <td>0</td>\n",
       "      <td>135000.0</td>\n",
       "      <td>312682.5</td>\n",
       "      <td>29686.5</td>\n",
       "      <td>297000.0</td>\n",
       "      <td>0.008019</td>\n",
       "      <td>-19005</td>\n",
       "      <td>-3039</td>\n",
       "      <td>...</td>\n",
       "      <td>0</td>\n",
       "      <td>0</td>\n",
       "      <td>0</td>\n",
       "      <td>0</td>\n",
       "      <td>NaN</td>\n",
       "      <td>NaN</td>\n",
       "      <td>NaN</td>\n",
       "      <td>NaN</td>\n",
       "      <td>NaN</td>\n",
       "      <td>NaN</td>\n",
       "    </tr>\n",
       "    <tr>\n",
       "      <th>4</th>\n",
       "      <td>100007</td>\n",
       "      <td>0</td>\n",
       "      <td>0</td>\n",
       "      <td>121500.0</td>\n",
       "      <td>513000.0</td>\n",
       "      <td>21865.5</td>\n",
       "      <td>513000.0</td>\n",
       "      <td>0.028663</td>\n",
       "      <td>-19932</td>\n",
       "      <td>-3038</td>\n",
       "      <td>...</td>\n",
       "      <td>0</td>\n",
       "      <td>0</td>\n",
       "      <td>0</td>\n",
       "      <td>0</td>\n",
       "      <td>0.0</td>\n",
       "      <td>0.0</td>\n",
       "      <td>0.0</td>\n",
       "      <td>0.0</td>\n",
       "      <td>0.0</td>\n",
       "      <td>0.0</td>\n",
       "    </tr>\n",
       "  </tbody>\n",
       "</table>\n",
       "<p>5 rows × 106 columns</p>\n",
       "</div>"
      ],
      "text/plain": [
       "   SK_ID_CURR  TARGET  CNT_CHILDREN  AMT_INCOME_TOTAL  AMT_CREDIT  \\\n",
       "0      100002       1             0          202500.0    406597.5   \n",
       "1      100003       0             0          270000.0   1293502.5   \n",
       "2      100004       0             0           67500.0    135000.0   \n",
       "3      100006       0             0          135000.0    312682.5   \n",
       "4      100007       0             0          121500.0    513000.0   \n",
       "\n",
       "   AMT_ANNUITY  AMT_GOODS_PRICE  REGION_POPULATION_RELATIVE  DAYS_BIRTH  \\\n",
       "0      24700.5         351000.0                    0.018801       -9461   \n",
       "1      35698.5        1129500.0                    0.003541      -16765   \n",
       "2       6750.0         135000.0                    0.010032      -19046   \n",
       "3      29686.5         297000.0                    0.008019      -19005   \n",
       "4      21865.5         513000.0                    0.028663      -19932   \n",
       "\n",
       "   DAYS_EMPLOYED  ...  FLAG_DOCUMENT_18  FLAG_DOCUMENT_19  FLAG_DOCUMENT_20  \\\n",
       "0           -637  ...                 0                 0                 0   \n",
       "1          -1188  ...                 0                 0                 0   \n",
       "2           -225  ...                 0                 0                 0   \n",
       "3          -3039  ...                 0                 0                 0   \n",
       "4          -3038  ...                 0                 0                 0   \n",
       "\n",
       "   FLAG_DOCUMENT_21  AMT_REQ_CREDIT_BUREAU_HOUR  AMT_REQ_CREDIT_BUREAU_DAY  \\\n",
       "0                 0                         0.0                        0.0   \n",
       "1                 0                         0.0                        0.0   \n",
       "2                 0                         0.0                        0.0   \n",
       "3                 0                         NaN                        NaN   \n",
       "4                 0                         0.0                        0.0   \n",
       "\n",
       "   AMT_REQ_CREDIT_BUREAU_WEEK  AMT_REQ_CREDIT_BUREAU_MON  \\\n",
       "0                         0.0                        0.0   \n",
       "1                         0.0                        0.0   \n",
       "2                         0.0                        0.0   \n",
       "3                         NaN                        NaN   \n",
       "4                         0.0                        0.0   \n",
       "\n",
       "   AMT_REQ_CREDIT_BUREAU_QRT  AMT_REQ_CREDIT_BUREAU_YEAR  \n",
       "0                        0.0                         1.0  \n",
       "1                        0.0                         0.0  \n",
       "2                        0.0                         0.0  \n",
       "3                        NaN                         NaN  \n",
       "4                        0.0                         0.0  \n",
       "\n",
       "[5 rows x 106 columns]"
      ]
     },
     "execution_count": 4,
     "metadata": {},
     "output_type": "execute_result"
    }
   ],
   "source": [
    "numerics = ['int16', 'int32', 'int64', 'float16', 'float32', 'float64']\n",
    "df = data.select_dtypes(include=numerics) # (307511, 106)\n",
    "df.head()"
   ]
  },
  {
   "cell_type": "markdown",
   "id": "7adb5638",
   "metadata": {
    "papermill": {
     "duration": 0.039873,
     "end_time": "2022-04-28T15:54:48.668420",
     "exception": false,
     "start_time": "2022-04-28T15:54:48.628547",
     "status": "completed"
    },
    "tags": []
   },
   "source": [
    "## Find missing values\n",
    "Too many missing values on a column will get the column removed. In this case, there were about forty columns with more than 50% missing data. In total, there are 60 numeric columns with missing data, we need to interpret the Bureau to find feature importance in order to engineer which columns are most worth keeping."
   ]
  },
  {
   "cell_type": "code",
   "execution_count": 5,
   "id": "78324b32",
   "metadata": {
    "execution": {
     "iopub.execute_input": "2022-04-28T15:54:48.752785Z",
     "iopub.status.busy": "2022-04-28T15:54:48.752010Z",
     "iopub.status.idle": "2022-04-28T15:54:48.824096Z",
     "shell.execute_reply": "2022-04-28T15:54:48.825168Z",
     "shell.execute_reply.started": "2022-04-28T15:33:09.261349Z"
    },
    "papermill": {
     "duration": 0.116297,
     "end_time": "2022-04-28T15:54:48.825545",
     "exception": false,
     "start_time": "2022-04-28T15:54:48.709248",
     "status": "completed"
    },
    "tags": []
   },
   "outputs": [
    {
     "name": "stdout",
     "output_type": "stream",
     "text": [
      "Missing data by column as a percent:\n",
      "COMMONAREA_MODE             0.698723\n",
      "COMMONAREA_AVG              0.698723\n",
      "COMMONAREA_MEDI             0.698723\n",
      "NONLIVINGAPARTMENTS_AVG     0.694330\n",
      "NONLIVINGAPARTMENTS_MODE    0.694330\n",
      "NONLIVINGAPARTMENTS_MEDI    0.694330\n",
      "LIVINGAPARTMENTS_MODE       0.683550\n",
      "LIVINGAPARTMENTS_AVG        0.683550\n",
      "LIVINGAPARTMENTS_MEDI       0.683550\n",
      "FLOORSMIN_MEDI              0.678486\n",
      "FLOORSMIN_MODE              0.678486\n",
      "FLOORSMIN_AVG               0.678486\n",
      "YEARS_BUILD_MEDI            0.664978\n",
      "YEARS_BUILD_MODE            0.664978\n",
      "YEARS_BUILD_AVG             0.664978\n",
      "OWN_CAR_AGE                 0.659908\n",
      "LANDAREA_AVG                0.593767\n",
      "LANDAREA_MEDI               0.593767\n",
      "LANDAREA_MODE               0.593767\n",
      "BASEMENTAREA_MEDI           0.585160\n",
      "BASEMENTAREA_AVG            0.585160\n",
      "BASEMENTAREA_MODE           0.585160\n",
      "EXT_SOURCE_1                0.563811\n",
      "NONLIVINGAREA_MODE          0.551792\n",
      "NONLIVINGAREA_MEDI          0.551792\n",
      "NONLIVINGAREA_AVG           0.551792\n",
      "ELEVATORS_MEDI              0.532960\n",
      "ELEVATORS_AVG               0.532960\n",
      "ELEVATORS_MODE              0.532960\n",
      "APARTMENTS_MEDI             0.507497\n",
      "APARTMENTS_MODE             0.507497\n",
      "APARTMENTS_AVG              0.507497\n",
      "ENTRANCES_MEDI              0.503488\n",
      "ENTRANCES_MODE              0.503488\n",
      "ENTRANCES_AVG               0.503488\n",
      "LIVINGAREA_AVG              0.501933\n",
      "LIVINGAREA_MODE             0.501933\n",
      "LIVINGAREA_MEDI             0.501933\n",
      "FLOORSMAX_AVG               0.497608\n",
      "FLOORSMAX_MEDI              0.497608\n",
      "dtype: float64\n"
     ]
    }
   ],
   "source": [
    "#search for columns with missing values:\n",
    "def findNA():\n",
    "    print(\"Missing data by column as a percent:\")\n",
    "    findNA=df.isnull().sum().sort_values(ascending=False)/len(df)\n",
    "    print(findNA.head(40))\n",
    "findNA() "
   ]
  },
  {
   "cell_type": "markdown",
   "id": "a13936f9",
   "metadata": {
    "papermill": {
     "duration": 0.040746,
     "end_time": "2022-04-28T15:54:48.908935",
     "exception": false,
     "start_time": "2022-04-28T15:54:48.868189",
     "status": "completed"
    },
    "tags": []
   },
   "source": [
    "## Fix Missing Values\n",
    "Variable number can be changed to delete a missing column with more than 20 NA values. Then, the dataframe must be filled in the mean for the remaining missing values. Since we need a final credit prediction for every credit loan, we can simply not delete any rows."
   ]
  },
  {
   "cell_type": "code",
   "execution_count": 6,
   "id": "50705752",
   "metadata": {
    "execution": {
     "iopub.execute_input": "2022-04-28T15:54:48.995766Z",
     "iopub.status.busy": "2022-04-28T15:54:48.995037Z",
     "iopub.status.idle": "2022-04-28T15:54:49.572783Z",
     "shell.execute_reply": "2022-04-28T15:54:49.573387Z",
     "shell.execute_reply.started": "2022-04-28T15:33:09.331248Z"
    },
    "papermill": {
     "duration": 0.623023,
     "end_time": "2022-04-28T15:54:49.573574",
     "exception": false,
     "start_time": "2022-04-28T15:54:48.950551",
     "status": "completed"
    },
    "tags": []
   },
   "outputs": [
    {
     "data": {
      "text/html": [
       "<div>\n",
       "<style scoped>\n",
       "    .dataframe tbody tr th:only-of-type {\n",
       "        vertical-align: middle;\n",
       "    }\n",
       "\n",
       "    .dataframe tbody tr th {\n",
       "        vertical-align: top;\n",
       "    }\n",
       "\n",
       "    .dataframe thead th {\n",
       "        text-align: right;\n",
       "    }\n",
       "</style>\n",
       "<table border=\"1\" class=\"dataframe\">\n",
       "  <thead>\n",
       "    <tr style=\"text-align: right;\">\n",
       "      <th></th>\n",
       "      <th>SK_ID_CURR</th>\n",
       "      <th>TARGET</th>\n",
       "      <th>CNT_CHILDREN</th>\n",
       "      <th>AMT_INCOME_TOTAL</th>\n",
       "      <th>AMT_CREDIT</th>\n",
       "      <th>AMT_ANNUITY</th>\n",
       "      <th>AMT_GOODS_PRICE</th>\n",
       "      <th>REGION_POPULATION_RELATIVE</th>\n",
       "      <th>DAYS_BIRTH</th>\n",
       "      <th>DAYS_EMPLOYED</th>\n",
       "      <th>...</th>\n",
       "      <th>FLAG_DOCUMENT_18</th>\n",
       "      <th>FLAG_DOCUMENT_19</th>\n",
       "      <th>FLAG_DOCUMENT_20</th>\n",
       "      <th>FLAG_DOCUMENT_21</th>\n",
       "      <th>AMT_REQ_CREDIT_BUREAU_HOUR</th>\n",
       "      <th>AMT_REQ_CREDIT_BUREAU_DAY</th>\n",
       "      <th>AMT_REQ_CREDIT_BUREAU_WEEK</th>\n",
       "      <th>AMT_REQ_CREDIT_BUREAU_MON</th>\n",
       "      <th>AMT_REQ_CREDIT_BUREAU_QRT</th>\n",
       "      <th>AMT_REQ_CREDIT_BUREAU_YEAR</th>\n",
       "    </tr>\n",
       "  </thead>\n",
       "  <tbody>\n",
       "    <tr>\n",
       "      <th>0</th>\n",
       "      <td>100002</td>\n",
       "      <td>1</td>\n",
       "      <td>0</td>\n",
       "      <td>202500.0</td>\n",
       "      <td>406597.5</td>\n",
       "      <td>24700.5</td>\n",
       "      <td>351000.0</td>\n",
       "      <td>0.018801</td>\n",
       "      <td>-9461</td>\n",
       "      <td>-637</td>\n",
       "      <td>...</td>\n",
       "      <td>0</td>\n",
       "      <td>0</td>\n",
       "      <td>0</td>\n",
       "      <td>0</td>\n",
       "      <td>0.000000</td>\n",
       "      <td>0.000</td>\n",
       "      <td>0.000000</td>\n",
       "      <td>0.000000</td>\n",
       "      <td>0.000000</td>\n",
       "      <td>1.000000</td>\n",
       "    </tr>\n",
       "    <tr>\n",
       "      <th>1</th>\n",
       "      <td>100003</td>\n",
       "      <td>0</td>\n",
       "      <td>0</td>\n",
       "      <td>270000.0</td>\n",
       "      <td>1293502.5</td>\n",
       "      <td>35698.5</td>\n",
       "      <td>1129500.0</td>\n",
       "      <td>0.003541</td>\n",
       "      <td>-16765</td>\n",
       "      <td>-1188</td>\n",
       "      <td>...</td>\n",
       "      <td>0</td>\n",
       "      <td>0</td>\n",
       "      <td>0</td>\n",
       "      <td>0</td>\n",
       "      <td>0.000000</td>\n",
       "      <td>0.000</td>\n",
       "      <td>0.000000</td>\n",
       "      <td>0.000000</td>\n",
       "      <td>0.000000</td>\n",
       "      <td>0.000000</td>\n",
       "    </tr>\n",
       "    <tr>\n",
       "      <th>2</th>\n",
       "      <td>100004</td>\n",
       "      <td>0</td>\n",
       "      <td>0</td>\n",
       "      <td>67500.0</td>\n",
       "      <td>135000.0</td>\n",
       "      <td>6750.0</td>\n",
       "      <td>135000.0</td>\n",
       "      <td>0.010032</td>\n",
       "      <td>-19046</td>\n",
       "      <td>-225</td>\n",
       "      <td>...</td>\n",
       "      <td>0</td>\n",
       "      <td>0</td>\n",
       "      <td>0</td>\n",
       "      <td>0</td>\n",
       "      <td>0.000000</td>\n",
       "      <td>0.000</td>\n",
       "      <td>0.000000</td>\n",
       "      <td>0.000000</td>\n",
       "      <td>0.000000</td>\n",
       "      <td>0.000000</td>\n",
       "    </tr>\n",
       "    <tr>\n",
       "      <th>3</th>\n",
       "      <td>100006</td>\n",
       "      <td>0</td>\n",
       "      <td>0</td>\n",
       "      <td>135000.0</td>\n",
       "      <td>312682.5</td>\n",
       "      <td>29686.5</td>\n",
       "      <td>297000.0</td>\n",
       "      <td>0.008019</td>\n",
       "      <td>-19005</td>\n",
       "      <td>-3039</td>\n",
       "      <td>...</td>\n",
       "      <td>0</td>\n",
       "      <td>0</td>\n",
       "      <td>0</td>\n",
       "      <td>0</td>\n",
       "      <td>0.006402</td>\n",
       "      <td>0.007</td>\n",
       "      <td>0.034362</td>\n",
       "      <td>0.267395</td>\n",
       "      <td>0.265474</td>\n",
       "      <td>1.899974</td>\n",
       "    </tr>\n",
       "    <tr>\n",
       "      <th>4</th>\n",
       "      <td>100007</td>\n",
       "      <td>0</td>\n",
       "      <td>0</td>\n",
       "      <td>121500.0</td>\n",
       "      <td>513000.0</td>\n",
       "      <td>21865.5</td>\n",
       "      <td>513000.0</td>\n",
       "      <td>0.028663</td>\n",
       "      <td>-19932</td>\n",
       "      <td>-3038</td>\n",
       "      <td>...</td>\n",
       "      <td>0</td>\n",
       "      <td>0</td>\n",
       "      <td>0</td>\n",
       "      <td>0</td>\n",
       "      <td>0.000000</td>\n",
       "      <td>0.000</td>\n",
       "      <td>0.000000</td>\n",
       "      <td>0.000000</td>\n",
       "      <td>0.000000</td>\n",
       "      <td>0.000000</td>\n",
       "    </tr>\n",
       "  </tbody>\n",
       "</table>\n",
       "<p>5 rows × 106 columns</p>\n",
       "</div>"
      ],
      "text/plain": [
       "   SK_ID_CURR  TARGET  CNT_CHILDREN  AMT_INCOME_TOTAL  AMT_CREDIT  \\\n",
       "0      100002       1             0          202500.0    406597.5   \n",
       "1      100003       0             0          270000.0   1293502.5   \n",
       "2      100004       0             0           67500.0    135000.0   \n",
       "3      100006       0             0          135000.0    312682.5   \n",
       "4      100007       0             0          121500.0    513000.0   \n",
       "\n",
       "   AMT_ANNUITY  AMT_GOODS_PRICE  REGION_POPULATION_RELATIVE  DAYS_BIRTH  \\\n",
       "0      24700.5         351000.0                    0.018801       -9461   \n",
       "1      35698.5        1129500.0                    0.003541      -16765   \n",
       "2       6750.0         135000.0                    0.010032      -19046   \n",
       "3      29686.5         297000.0                    0.008019      -19005   \n",
       "4      21865.5         513000.0                    0.028663      -19932   \n",
       "\n",
       "   DAYS_EMPLOYED  ...  FLAG_DOCUMENT_18  FLAG_DOCUMENT_19  FLAG_DOCUMENT_20  \\\n",
       "0           -637  ...                 0                 0                 0   \n",
       "1          -1188  ...                 0                 0                 0   \n",
       "2           -225  ...                 0                 0                 0   \n",
       "3          -3039  ...                 0                 0                 0   \n",
       "4          -3038  ...                 0                 0                 0   \n",
       "\n",
       "   FLAG_DOCUMENT_21  AMT_REQ_CREDIT_BUREAU_HOUR  AMT_REQ_CREDIT_BUREAU_DAY  \\\n",
       "0                 0                    0.000000                      0.000   \n",
       "1                 0                    0.000000                      0.000   \n",
       "2                 0                    0.000000                      0.000   \n",
       "3                 0                    0.006402                      0.007   \n",
       "4                 0                    0.000000                      0.000   \n",
       "\n",
       "   AMT_REQ_CREDIT_BUREAU_WEEK  AMT_REQ_CREDIT_BUREAU_MON  \\\n",
       "0                    0.000000                   0.000000   \n",
       "1                    0.000000                   0.000000   \n",
       "2                    0.000000                   0.000000   \n",
       "3                    0.034362                   0.267395   \n",
       "4                    0.000000                   0.000000   \n",
       "\n",
       "   AMT_REQ_CREDIT_BUREAU_QRT  AMT_REQ_CREDIT_BUREAU_YEAR  \n",
       "0                   0.000000                    1.000000  \n",
       "1                   0.000000                    0.000000  \n",
       "2                   0.000000                    0.000000  \n",
       "3                   0.265474                    1.899974  \n",
       "4                   0.000000                    0.000000  \n",
       "\n",
       "[5 rows x 106 columns]"
      ]
     },
     "execution_count": 6,
     "metadata": {},
     "output_type": "execute_result"
    }
   ],
   "source": [
    "number=500 #remove col with  or more missing values\n",
    "df = df[df.isnull().sum(axis=1) <= number] \n",
    "df= df.fillna(df.mean())\n",
    "df.head()"
   ]
  },
  {
   "cell_type": "markdown",
   "id": "4a5d8a37",
   "metadata": {
    "papermill": {
     "duration": 0.041645,
     "end_time": "2022-04-28T15:54:49.657890",
     "exception": false,
     "start_time": "2022-04-28T15:54:49.616245",
     "status": "completed"
    },
    "tags": []
   },
   "source": [
    "## Heat Map Correlations and Multicollinearity\n",
    "There is no major multicollinearity. In fact, there are not many correlated variables. The following heatmap is set for correlations above .05 because there are so few variables that are highly correlated."
   ]
  },
  {
   "cell_type": "code",
   "execution_count": 7,
   "id": "3960d757",
   "metadata": {
    "execution": {
     "iopub.execute_input": "2022-04-28T15:54:49.745624Z",
     "iopub.status.busy": "2022-04-28T15:54:49.744859Z",
     "iopub.status.idle": "2022-04-28T15:54:59.171491Z",
     "shell.execute_reply": "2022-04-28T15:54:59.172037Z",
     "shell.execute_reply.started": "2022-04-28T15:33:09.924538Z"
    },
    "papermill": {
     "duration": 9.471037,
     "end_time": "2022-04-28T15:54:59.172216",
     "exception": false,
     "start_time": "2022-04-28T15:54:49.701179",
     "status": "completed"
    },
    "tags": []
   },
   "outputs": [
    {
     "name": "stdout",
     "output_type": "stream",
     "text": [
      "AxesSubplot(0.125,0.125;0.62x0.755)\n",
      "Top 10 Correlations:\n",
      " TARGET                         1.000000\n",
      "DAYS_BIRTH                     0.078239\n",
      "REGION_RATING_CLIENT_W_CITY    0.060893\n",
      "REGION_RATING_CLIENT           0.058899\n",
      "DAYS_LAST_PHONE_CHANGE         0.055218\n",
      "DAYS_ID_PUBLISH                0.051457\n",
      "REG_CITY_NOT_WORK_CITY         0.050994\n",
      "FLAG_EMP_PHONE                 0.045982\n",
      "REG_CITY_NOT_LIVE_CITY         0.044395\n",
      "FLAG_DOCUMENT_3                0.044346\n",
      "Name: TARGET, dtype: float64\n"
     ]
    },
    {
     "data": {
      "image/png": "[encoded data removed]",
      "text/plain": [
       "<Figure size 720x720 with 2 Axes>"
      ]
     },
     "metadata": {
      "needs_background": "light"
     },
     "output_type": "display_data"
    }
   ],
   "source": [
    "def printHeat():\n",
    "    corr = df.corr()\n",
    "    #print(corr)\n",
    "    y='TARGET'\n",
    "    highly_corr_features = corr.index[abs(corr[y])>0.05]\n",
    "    plt.figure(figsize=(10,10))\n",
    "    heat = sns.heatmap(df[highly_corr_features].corr(),annot=True,cmap=\"RdYlGn\")\n",
    "    top10=corr[y].sort_values(ascending=False).head(10)\n",
    "    print(heat)\n",
    "    print(\"Top 10 Correlations:\\n\", top10) # top ten correlations\n",
    "printHeat()"
   ]
  },
  {
   "cell_type": "markdown",
   "id": "98139784",
   "metadata": {
    "papermill": {
     "duration": 0.04444,
     "end_time": "2022-04-28T15:54:59.262572",
     "exception": false,
     "start_time": "2022-04-28T15:54:59.218132",
     "status": "completed"
    },
    "tags": []
   },
   "source": [
    "## Split Data\n",
    "Split the data set into training data and test data. TARGET will always be Y since it is the independent variable. A 1 is a troubled loan while a 0 equals a not distressed loan. "
   ]
  },
  {
   "cell_type": "code",
   "execution_count": 8,
   "id": "8d93f617",
   "metadata": {
    "execution": {
     "iopub.execute_input": "2022-04-28T15:54:59.362101Z",
     "iopub.status.busy": "2022-04-28T15:54:59.360448Z",
     "iopub.status.idle": "2022-04-28T15:54:59.755726Z",
     "shell.execute_reply": "2022-04-28T15:54:59.755129Z",
     "shell.execute_reply.started": "2022-04-28T15:33:20.334803Z"
    },
    "papermill": {
     "duration": 0.448424,
     "end_time": "2022-04-28T15:54:59.755899",
     "exception": false,
     "start_time": "2022-04-28T15:54:59.307475",
     "status": "completed"
    },
    "tags": []
   },
   "outputs": [],
   "source": [
    "X=df.drop('TARGET', axis=1)\n",
    "y=df['TARGET']\n",
    "\n",
    "X_train, X_test, y_train, y_test = train_test_split(X, y, test_size=0.3, random_state=13)"
   ]
  },
  {
   "cell_type": "markdown",
   "id": "8d6e7f04",
   "metadata": {
    "papermill": {
     "duration": 0.04413,
     "end_time": "2022-04-28T15:54:59.843924",
     "exception": false,
     "start_time": "2022-04-28T15:54:59.799794",
     "status": "completed"
    },
    "tags": []
   },
   "source": [
    "## Gradient Booster and Feature Importance\n",
    "The amount of annuity and days_birth (age) are the two most highly correlated features. However, since this is unbalanced data there do not seem to be many feature importance to begin with."
   ]
  },
  {
   "cell_type": "code",
   "execution_count": 9,
   "id": "c2092005",
   "metadata": {
    "execution": {
     "iopub.execute_input": "2022-04-28T15:54:59.939565Z",
     "iopub.status.busy": "2022-04-28T15:54:59.938728Z",
     "iopub.status.idle": "2022-04-28T15:55:13.801646Z",
     "shell.execute_reply": "2022-04-28T15:55:13.802178Z",
     "shell.execute_reply.started": "2022-04-28T15:33:20.739838Z"
    },
    "papermill": {
     "duration": 13.91229,
     "end_time": "2022-04-28T15:55:13.802400",
     "exception": false,
     "start_time": "2022-04-28T15:54:59.890110",
     "status": "completed"
    },
    "tags": []
   },
   "outputs": [
    {
     "name": "stdout",
     "output_type": "stream",
     "text": [
      "Gradient boosting regression r2:  0.0048\n",
      "AUC for gradient boost is:  0.7003\n",
      "The mean squared error (MSE) on test set: 0.0742\n"
     ]
    },
    {
     "data": {
      "text/plain": [
       "Text(0.5, 1.0, 'Feature Importance (MDI)')"
      ]
     },
     "execution_count": 9,
     "metadata": {},
     "output_type": "execute_result"
    },
    {
     "data": {
      "image/png": "[encoded data removed]",
      "text/plain": [
       "<Figure size 864x432 with 1 Axes>"
      ]
     },
     "metadata": {
      "needs_background": "light"
     },
     "output_type": "display_data"
    }
   ],
   "source": [
    "from sklearn.inspection import permutation_importance\n",
    "from sklearn.ensemble import GradientBoostingClassifier,GradientBoostingRegressor\n",
    "\n",
    "params = {\n",
    " \"n_estimators\": 5, \"max_depth\": 4, \"min_samples_split\": 5, \"learning_rate\": 0.01,\n",
    "}\n",
    "\n",
    "#Fit and Predict:\n",
    "reg = ensemble.GradientBoostingRegressor(**params)\n",
    "reg.fit(X_train, y_train)\n",
    "y_pred = reg.predict(X_test)\n",
    "\n",
    "#Calculate Metrics:\n",
    "gbr_r2 = r2_score(y_test, y_pred).round(4) \n",
    "print(\"Gradient boosting regression r2: \", gbr_r2) \n",
    "\n",
    "auc = round(metrics.roc_auc_score(y_test, y_pred), 4 ) \n",
    "print(\"AUC for gradient boost is: \", auc)\n",
    "\n",
    "mse = mean_squared_error(y_test, reg.predict(X_test))\n",
    "print(\"The mean squared error (MSE) on test set: {:.4f}\".format(mse))\n",
    "\n",
    "#FEATURE IMPORTANCE:\n",
    "num=10 # How many features?\n",
    "cols=X.columns\n",
    "feature_importance = reg.feature_importances_[:num]\n",
    "sorted_idx = np.argsort(feature_importance)[:num]\n",
    "pos = np.arange(sorted_idx.shape[0]) + 0.5\n",
    "fig = plt.figure(figsize=(12, 6))\n",
    "plt.subplot(1, 2, 1)\n",
    "plt.barh(pos, feature_importance[sorted_idx], align=\"center\")\n",
    "plt.yticks(pos, np.array(cols)[sorted_idx])\n",
    "plt.title(\"Feature Importance (MDI)\")"
   ]
  },
  {
   "cell_type": "markdown",
   "id": "09b51dcc",
   "metadata": {
    "papermill": {
     "duration": 0.046899,
     "end_time": "2022-04-28T15:55:13.897721",
     "exception": false,
     "start_time": "2022-04-28T15:55:13.850822",
     "status": "completed"
    },
    "tags": []
   },
   "source": [
    "## Linear Regression\n",
    "Due to small Y indepdent variables AUC is the more accurate metric than r_squared. Since the linear regression, accuracy, and cross validate are all near .045 it seems there is no sign of overfitting.\n",
    "\n",
    "AUC for linear regression is:  0.7327 <br/>\n",
    "Accuracy:  0.0475 <br/>\n",
    "0.0489  linear regression cross validate mean <br/>"
   ]
  },
  {
   "cell_type": "code",
   "execution_count": 10,
   "id": "a80be8a7",
   "metadata": {
    "execution": {
     "iopub.execute_input": "2022-04-28T15:55:13.996986Z",
     "iopub.status.busy": "2022-04-28T15:55:13.996246Z",
     "iopub.status.idle": "2022-04-28T15:55:30.135786Z",
     "shell.execute_reply": "2022-04-28T15:55:30.136491Z",
     "shell.execute_reply.started": "2022-04-28T15:33:47.609945Z"
    },
    "papermill": {
     "duration": 16.190433,
     "end_time": "2022-04-28T15:55:30.136700",
     "exception": false,
     "start_time": "2022-04-28T15:55:13.946267",
     "status": "completed"
    },
    "tags": []
   },
   "outputs": [
    {
     "name": "stdout",
     "output_type": "stream",
     "text": [
      "AUC for linear regression is:  0.7348\n",
      "Linear regression r2 score:  0.056\n",
      "Linear Accuracy:  0.056\n",
      "0.0569  linear regression cross validate mean\n"
     ]
    },
    {
     "data": {
      "image/png": "[encoded data removed]",
      "text/plain": [
       "<Figure size 432x288 with 1 Axes>"
      ]
     },
     "metadata": {
      "needs_background": "light"
     },
     "output_type": "display_data"
    }
   ],
   "source": [
    "from sklearn.linear_model import LinearRegression, Ridge, Lasso\n",
    "\n",
    "#Fit and predict:\n",
    "lrModel = LinearRegression()\n",
    "lrModel.fit(X_train, y_train)\n",
    "lrPredict = lrModel.predict(X_test)\n",
    "\n",
    "# plt.scatter(y_test, predictions)\n",
    "plt.hist(y_test - lrPredict)\n",
    "\n",
    "#Linear Metrics:\n",
    "auc = round( metrics.roc_auc_score(y_test, lrPredict), 4 ) \n",
    "r2 = r2_score(y_test, lrPredict).round(4) \n",
    "print(\"AUC for linear regression is: \", auc)\n",
    "print(\"Linear regression r2 score: \", r2)\n",
    "\n",
    "#CROSS VALIDATE TEST RESULTS:\n",
    "lr_score = lrModel.score(X_test, y_test).round(4)  # train test \n",
    "print(\"Linear Accuracy: \", lr_score)\n",
    "lr_cv = cross_validate(lrModel, X, y, cv = 5, scoring= 'r2')\n",
    "lr_cvMean=lr_cv['test_score'].mean().round(4)\n",
    "print(lr_cvMean, \" linear regression cross validate mean\")\n",
    "\n",
    "def linearReports():\n",
    "    print(model.coef_)    \n",
    "    print(model.intercept_)\n",
    "    print(classification_report(y_test_data, lrPredict))\n",
    "    print(confusion_matrix(y_test_data, lrPredict))\n",
    "    metrics.mean_absolute_error(y_test, lrPredict)\n",
    "    \n",
    "    #Mean Sqaured Error:\n",
    "    lrMSE=np.sqrt(metrics.mean_squared_error(y_test, lrPredict))\n",
    "    print(round(lrMSE, 4), \" is lr MSE \")"
   ]
  },
  {
   "cell_type": "markdown",
   "id": "df481fee",
   "metadata": {
    "execution": {
     "iopub.execute_input": "2022-02-18T21:50:17.903218Z",
     "iopub.status.busy": "2022-02-18T21:50:17.902367Z",
     "iopub.status.idle": "2022-02-18T21:50:17.906851Z",
     "shell.execute_reply": "2022-02-18T21:50:17.905835Z",
     "shell.execute_reply.started": "2022-02-18T21:50:17.903177Z"
    },
    "papermill": {
     "duration": 0.048835,
     "end_time": "2022-04-28T15:55:30.234245",
     "exception": false,
     "start_time": "2022-04-28T15:55:30.185410",
     "status": "completed"
    },
    "tags": []
   },
   "source": [
    "## Decision Tree\n",
    "AUC for decision tree is:  0.74 using a number for max_leaf_nodes that reduces error."
   ]
  },
  {
   "cell_type": "code",
   "execution_count": 11,
   "id": "44a84c27",
   "metadata": {
    "execution": {
     "iopub.execute_input": "2022-04-28T15:55:30.334771Z",
     "iopub.status.busy": "2022-04-28T15:55:30.333629Z",
     "iopub.status.idle": "2022-04-28T15:55:40.140256Z",
     "shell.execute_reply": "2022-04-28T15:55:40.139681Z",
     "shell.execute_reply.started": "2022-04-28T15:35:57.216472Z"
    },
    "papermill": {
     "duration": 9.857991,
     "end_time": "2022-04-28T15:55:40.140472",
     "exception": false,
     "start_time": "2022-04-28T15:55:30.282481",
     "status": "completed"
    },
    "tags": []
   },
   "outputs": [
    {
     "name": "stdout",
     "output_type": "stream",
     "text": [
      "AUC for decision tree is:  0.74\n"
     ]
    }
   ],
   "source": [
    "from sklearn.tree import DecisionTreeRegressor\n",
    "\n",
    "#FIND best_tree_size LEAF NODES:\n",
    "def get_mae(max_leaf_nodes, train_X, val_X, train_y, val_y):\n",
    "    model = DecisionTreeRegressor(max_leaf_nodes=max_leaf_nodes, random_state=42)\n",
    "    model.fit(train_X, train_y)\n",
    "    preds_val = model.predict(val_X)\n",
    "    mae = mean_absolute_error(val_y, preds_val)\n",
    "    return(mae)\n",
    "\n",
    "def calcLeaf():\n",
    "    candidate_max_leaf_nodes = [5, 25, 50, 100, 250, 500]\n",
    "    maeDic={} #dictionary  key=leaf  mae=value\n",
    "    for leaf in candidate_max_leaf_nodes:\n",
    "        mae=get_mae(leaf, X_train, X_test, y_train, y_test)\n",
    "        maeDic[leaf]=mae\n",
    "    print(maeDic)\n",
    "    best_tree_size = sorted(maeDic, key=lambda x : maeDic[x])[0]\n",
    "    print(best_tree_size, \" best_tree_size\") #500 is best tree size\n",
    "\n",
    "#calcLeaf()\n",
    "best_tree_size=500\n",
    "    \n",
    "#MAKE PREDICTION:\n",
    "tree = DecisionTreeRegressor(max_leaf_nodes=best_tree_size, random_state=42)\n",
    "tree.fit(X, y)\n",
    "y_pred = tree.predict(X_test)\n",
    "\n",
    "#AUC and r2 metric:\n",
    "treeR2 = r2_score(y_test, y_pred).round(4)\n",
    "treeAUC = round( metrics.roc_auc_score(y_test, y_pred), 4 ) \n",
    "print(\"AUC for decision tree is: \", treeAUC)\n",
    "\n",
    "def printReports(y_test, y_pred):\n",
    "    print(classification_report(y_test, y_pred))\n",
    "    print(confusion_matrix(y_test, y_pred))\n",
    "    \n",
    "    #Mean Sqaured Error:\n",
    "    treeMSE=np.sqrt(metrics.mean_squared_error(y_test, y_pred))\n",
    "    print(round(treeMSE, 4), \" is tree MSE \")"
   ]
  },
  {
   "cell_type": "markdown",
   "id": "ca909343",
   "metadata": {
    "papermill": {
     "duration": 0.050445,
     "end_time": "2022-04-28T15:55:40.251446",
     "exception": false,
     "start_time": "2022-04-28T15:55:40.201001",
     "status": "completed"
    },
    "tags": []
   },
   "source": [
    "## Logistic Regression\n",
    "AUC for logistic regression is:  0.6145 with mse at 0.0709.\n",
    "\n",
    " The c parameter in logistic regression model by definition is the following: \"Inverse of regularization strength; must be a positive float. Like in support vector machines, smaller values specify stronger regularization\". Using 1 the default value for C or putting C at .01 did not change the AUC for the logistic regression."
   ]
  },
  {
   "cell_type": "code",
   "execution_count": 12,
   "id": "735fabff",
   "metadata": {
    "execution": {
     "iopub.execute_input": "2022-04-28T15:55:40.368859Z",
     "iopub.status.busy": "2022-04-28T15:55:40.367681Z",
     "iopub.status.idle": "2022-04-28T15:55:51.597860Z",
     "shell.execute_reply": "2022-04-28T15:55:51.599873Z",
     "shell.execute_reply.started": "2022-04-28T15:33:35.773260Z"
    },
    "papermill": {
     "duration": 11.29088,
     "end_time": "2022-04-28T15:55:51.600284",
     "exception": false,
     "start_time": "2022-04-28T15:55:40.309404",
     "status": "completed"
    },
    "tags": []
   },
   "outputs": [
    {
     "name": "stdout",
     "output_type": "stream",
     "text": [
      "AUC for logistic regression is:  0.6214\n",
      "The mean squared error (MSE) on test set: 0.0737\n"
     ]
    }
   ],
   "source": [
    "from sklearn.linear_model import LogisticRegression\n",
    "log_reg = LogisticRegression(solver='liblinear') #solver param gets rid of encoder error\n",
    "\n",
    "#Train the model and create predictions\n",
    "log_reg.fit(X_train, y_train)\n",
    "\n",
    "#use model to predict probability that given y value is 1:\n",
    "log_reg_pred = log_reg.predict_proba(X_test)[::,1]\n",
    "\n",
    "#calculate AUC of model\n",
    "auc = round(metrics.roc_auc_score(y_test, log_reg_pred), 4 ) \n",
    "print(\"AUC for logistic regression is: \", auc)\n",
    "\n",
    "#Mean Squared Error\n",
    "mse = mean_squared_error(y_test, log_reg_pred)\n",
    "print(\"The mean squared error (MSE) on test set: {:.4f}\".format(mse))"
   ]
  },
  {
   "cell_type": "markdown",
   "id": "20a0988b",
   "metadata": {
    "papermill": {
     "duration": 0.048651,
     "end_time": "2022-04-28T15:55:51.725627",
     "exception": false,
     "start_time": "2022-04-28T15:55:51.676976",
     "status": "completed"
    },
    "tags": []
   },
   "source": [
    "## Random Forest Regressor\n",
    "Random forest AUC:  0.6312. Checking for the MAE with least error has long run-time so it is important to use checkMAE as a function only when needed. Since this is unbalanced data, r_squared provides not accurate results."
   ]
  },
  {
   "cell_type": "code",
   "execution_count": 13,
   "id": "ec6e1e77",
   "metadata": {
    "execution": {
     "iopub.execute_input": "2022-04-28T15:55:51.833111Z",
     "iopub.status.busy": "2022-04-28T15:55:51.832036Z",
     "iopub.status.idle": "2022-04-28T15:55:51.835438Z",
     "shell.execute_reply": "2022-04-28T15:55:51.834822Z",
     "shell.execute_reply.started": "2022-04-28T15:34:40.299860Z"
    },
    "papermill": {
     "duration": 0.060132,
     "end_time": "2022-04-28T15:55:51.835600",
     "exception": false,
     "start_time": "2022-04-28T15:55:51.775468",
     "status": "completed"
    },
    "tags": []
   },
   "outputs": [],
   "source": [
    "from sklearn.ensemble import RandomForestRegressor\n",
    "\n",
    "#Check for Error and find Best n_estimators:\n",
    "def checkMAE():\n",
    "    print(\"Starting MAE:\")\n",
    "    dMAE={} #dictionary of n_estimators as key and MAE as value:\n",
    "    for n in range(2, 500, 100):\n",
    "        forest = RandomForestRegressor(n_estimators=n, random_state = 0)\n",
    "        forest.fit(X_train, y_train)\n",
    "        y_pred = forest.predict(X_test)\n",
    "        MAE=metrics.mean_absolute_error(y_test, y_pred).round(2)\n",
    "        dMAE[n]=MAE\n",
    "        print(\"n_estimates: \", n,  '  Mean Absolute Error:', MAE)\n",
    "\n",
    "    dMAE=sorted(((v, k) for k, v in dMAE.items()), reverse=False)\n",
    "    print(dMAE)\n",
    "#checkMAE() #turn function on or off by uncommenting"
   ]
  },
  {
   "cell_type": "markdown",
   "id": "877c9b9b",
   "metadata": {
    "execution": {
     "iopub.execute_input": "2022-03-18T20:40:19.816471Z",
     "iopub.status.busy": "2022-03-18T20:40:19.816119Z",
     "iopub.status.idle": "2022-03-18T20:40:19.821056Z",
     "shell.execute_reply": "2022-03-18T20:40:19.819985Z",
     "shell.execute_reply.started": "2022-03-18T20:40:19.81642Z"
    },
    "papermill": {
     "duration": 0.048001,
     "end_time": "2022-04-28T15:55:51.932540",
     "exception": false,
     "start_time": "2022-04-28T15:55:51.884539",
     "status": "completed"
    },
    "tags": []
   },
   "source": [
    "#### Forest fit and predict"
   ]
  },
  {
   "cell_type": "code",
   "execution_count": 14,
   "id": "cd255818",
   "metadata": {
    "execution": {
     "iopub.execute_input": "2022-04-28T15:55:52.037754Z",
     "iopub.status.busy": "2022-04-28T15:55:52.037016Z",
     "iopub.status.idle": "2022-04-28T15:55:52.039114Z",
     "shell.execute_reply": "2022-04-28T15:55:52.039669Z",
     "shell.execute_reply.started": "2022-04-28T15:34:40.313430Z"
    },
    "papermill": {
     "duration": 0.058628,
     "end_time": "2022-04-28T15:55:52.039875",
     "exception": false,
     "start_time": "2022-04-28T15:55:51.981247",
     "status": "completed"
    },
    "tags": []
   },
   "outputs": [],
   "source": [
    "def forest():\n",
    "    num=10\n",
    "    forest = RandomForestRegressor(n_estimators=num, random_state = 0)\n",
    "    forest.fit(X_train, y_train)\n",
    "    y_pred = forest.predict(X_test)\n",
    "\n",
    "    #Print Metrics:\n",
    "    forest_r2 = r2_score(y_test, y_pred).round(4)  \n",
    "    forest_auc = round( metrics.roc_auc_score(y_test, y_pred), 4 ) \n",
    "    print(\"Random forest AUC: \", forest_auc) \n",
    "    print(\"Random forest r2: \", forest_r2)\n",
    "\n",
    "def forestReports():\n",
    "    mae=metrics.mean_absolute_error(y_test, y_pred).round(2)\n",
    "    print(\"Random forest MAE: \", mae)"
   ]
  },
  {
   "cell_type": "markdown",
   "id": "4dd7e863",
   "metadata": {
    "papermill": {
     "duration": 0.04866,
     "end_time": "2022-04-28T15:55:52.138070",
     "exception": false,
     "start_time": "2022-04-28T15:55:52.089410",
     "status": "completed"
    },
    "tags": []
   },
   "source": [
    "## K-Nearest Neighbors (KNN)\n",
    "First, we must select the optimal K value with the least amount of error. When graphing the error rates, 3 is the knn that provides the least amount of error. Because the large amount of data, the KNN model runs very slow which is a big issue for KNN. If you do run the KNN model, after some time, the final AUC result is around 0.5184 which was the worse predictive model. "
   ]
  },
  {
   "cell_type": "code",
   "execution_count": 15,
   "id": "a59978e2",
   "metadata": {
    "execution": {
     "iopub.execute_input": "2022-04-28T15:55:52.247799Z",
     "iopub.status.busy": "2022-04-28T15:55:52.246637Z",
     "iopub.status.idle": "2022-04-28T15:55:52.249650Z",
     "shell.execute_reply": "2022-04-28T15:55:52.249042Z",
     "shell.execute_reply.started": "2022-04-28T15:34:40.330946Z"
    },
    "papermill": {
     "duration": 0.062613,
     "end_time": "2022-04-28T15:55:52.249813",
     "exception": false,
     "start_time": "2022-04-28T15:55:52.187200",
     "status": "completed"
    },
    "tags": []
   },
   "outputs": [],
   "source": [
    "from sklearn.neighbors import KNeighborsClassifier\n",
    "\n",
    "def knnError():\n",
    "    print(\"Selecting an optimal K value:\")\n",
    "    error_rates = []\n",
    "    for i in range(1, 10, 2): #Must be an odd number to break a tie\n",
    "        new_model = KNeighborsClassifier(n_neighbors = i)\n",
    "        new_model.fit(X_train, y_train)\n",
    "        new_predictions = new_model.predict(X_test)\n",
    "        error_rates.append(np.mean(new_predictions != y_test))\n",
    "    plt.figure(figsize=(16,12))\n",
    "    plt.plot(error_rates)\n",
    "\n",
    "def knnModel():\n",
    "    #Train the model and make predictions:\n",
    "    knn = KNeighborsClassifier(n_neighbors =3) \n",
    "    knn.fit(X_train, y_train)\n",
    "    knnPredict = knn.predict_proba(X_test)[::,1]\n",
    "\n",
    "    #calculate AUC of model\n",
    "    knn_auc = round( metrics.roc_auc_score(y_test, knnPredict), 4 ) \n",
    "    print(\"Knn AUC: \", knn_auc)\n",
    "\n",
    "def knnReports():\n",
    "    acc = metrics.accuracy_score(y_test_data, knnPredict)\n",
    "    print(confusion_matrix(y_test, knnPredict))\n",
    "    print(classification_report(y_test, knnPredict))\n",
    "    print(confusion_matrix(y_test, knnPredict))"
   ]
  },
  {
   "cell_type": "markdown",
   "id": "3ec790a9",
   "metadata": {
    "papermill": {
     "duration": 0.049155,
     "end_time": "2022-04-28T15:55:52.349111",
     "exception": false,
     "start_time": "2022-04-28T15:55:52.299956",
     "status": "completed"
    },
    "tags": []
   },
   "source": [
    "## Support Vector Machine (SVM)\n",
    "With many samples, SVM is extremely slow and cannot really be used. This is a major disadvantage of SVM and why some do not use it. This seems to be the case this this problem too. For more information on why SVM is slow here is a stack overflow article: https://stackoverflow.com/questions/40077432/why-is-scikit-learn-svm-svc-extremely-slow"
   ]
  },
  {
   "cell_type": "code",
   "execution_count": 16,
   "id": "280ff291",
   "metadata": {
    "execution": {
     "iopub.execute_input": "2022-04-28T15:55:52.456751Z",
     "iopub.status.busy": "2022-04-28T15:55:52.456003Z",
     "iopub.status.idle": "2022-04-28T15:55:52.458791Z",
     "shell.execute_reply": "2022-04-28T15:55:52.458139Z",
     "shell.execute_reply.started": "2022-04-28T15:34:40.351450Z"
    },
    "papermill": {
     "duration": 0.060485,
     "end_time": "2022-04-28T15:55:52.458949",
     "exception": false,
     "start_time": "2022-04-28T15:55:52.398464",
     "status": "completed"
    },
    "tags": []
   },
   "outputs": [],
   "source": [
    "def trySVM():\n",
    "    from sklearn.svm import SVC\n",
    "    \n",
    "    #Fit and Predict:\n",
    "    svc = SVC()\n",
    "    svc.fit(X_train, y_train)\n",
    "    svc_predit = svc.predict(X_test)\n",
    "\n",
    "    #calculate AUC of model\n",
    "    auc = round( metrics.roc_auc_score(y_test, svc_predit), 4 ) \n",
    "    print(\"SVC AUC is: \", auc)\n",
    "\n",
    "def svmReports():\n",
    "    print(classification_report(y_test, svc_predit))\n",
    "    print(confusion_matrix(y_test, svc_predit))\n",
    "    metrics.mean_absolute_error(y_test, svc_predit)\n",
    "    metrics.mean_squared_error(y_test, svc_predit)\n",
    "    np.sqrt(metrics.mean_squared_error(y_test, svc_predit))"
   ]
  },
  {
   "cell_type": "markdown",
   "id": "1b3e27fc",
   "metadata": {
    "papermill": {
     "duration": 0.049451,
     "end_time": "2022-04-28T15:55:52.557476",
     "exception": false,
     "start_time": "2022-04-28T15:55:52.508025",
     "status": "completed"
    },
    "tags": []
   },
   "source": [
    "# View Test Dataset \n",
    "A final prediction needs to be made for each of the 48744 cleints. The shape of the test data is (48744, 121). "
   ]
  },
  {
   "cell_type": "code",
   "execution_count": 17,
   "id": "0de30bf0",
   "metadata": {
    "execution": {
     "iopub.execute_input": "2022-04-28T15:55:52.687889Z",
     "iopub.status.busy": "2022-04-28T15:55:52.665203Z",
     "iopub.status.idle": "2022-04-28T15:55:52.693417Z",
     "shell.execute_reply": "2022-04-28T15:55:52.694190Z",
     "shell.execute_reply.started": "2022-04-28T15:34:40.364778Z"
    },
    "papermill": {
     "duration": 0.08786,
     "end_time": "2022-04-28T15:55:52.694453",
     "exception": false,
     "start_time": "2022-04-28T15:55:52.606593",
     "status": "completed"
    },
    "tags": []
   },
   "outputs": [
    {
     "name": "stdout",
     "output_type": "stream",
     "text": [
      "(48744, 121)\n"
     ]
    },
    {
     "data": {
      "text/html": [
       "<div>\n",
       "<style scoped>\n",
       "    .dataframe tbody tr th:only-of-type {\n",
       "        vertical-align: middle;\n",
       "    }\n",
       "\n",
       "    .dataframe tbody tr th {\n",
       "        vertical-align: top;\n",
       "    }\n",
       "\n",
       "    .dataframe thead th {\n",
       "        text-align: right;\n",
       "    }\n",
       "</style>\n",
       "<table border=\"1\" class=\"dataframe\">\n",
       "  <thead>\n",
       "    <tr style=\"text-align: right;\">\n",
       "      <th></th>\n",
       "      <th>SK_ID_CURR</th>\n",
       "      <th>NAME_CONTRACT_TYPE</th>\n",
       "      <th>CODE_GENDER</th>\n",
       "      <th>FLAG_OWN_CAR</th>\n",
       "      <th>FLAG_OWN_REALTY</th>\n",
       "      <th>CNT_CHILDREN</th>\n",
       "      <th>AMT_INCOME_TOTAL</th>\n",
       "      <th>AMT_CREDIT</th>\n",
       "      <th>AMT_ANNUITY</th>\n",
       "      <th>AMT_GOODS_PRICE</th>\n",
       "      <th>...</th>\n",
       "      <th>FLAG_DOCUMENT_18</th>\n",
       "      <th>FLAG_DOCUMENT_19</th>\n",
       "      <th>FLAG_DOCUMENT_20</th>\n",
       "      <th>FLAG_DOCUMENT_21</th>\n",
       "      <th>AMT_REQ_CREDIT_BUREAU_HOUR</th>\n",
       "      <th>AMT_REQ_CREDIT_BUREAU_DAY</th>\n",
       "      <th>AMT_REQ_CREDIT_BUREAU_WEEK</th>\n",
       "      <th>AMT_REQ_CREDIT_BUREAU_MON</th>\n",
       "      <th>AMT_REQ_CREDIT_BUREAU_QRT</th>\n",
       "      <th>AMT_REQ_CREDIT_BUREAU_YEAR</th>\n",
       "    </tr>\n",
       "  </thead>\n",
       "  <tbody>\n",
       "    <tr>\n",
       "      <th>0</th>\n",
       "      <td>100001</td>\n",
       "      <td>Cash loans</td>\n",
       "      <td>F</td>\n",
       "      <td>N</td>\n",
       "      <td>Y</td>\n",
       "      <td>0</td>\n",
       "      <td>135000.0</td>\n",
       "      <td>568800.0</td>\n",
       "      <td>20560.5</td>\n",
       "      <td>450000.0</td>\n",
       "      <td>...</td>\n",
       "      <td>0</td>\n",
       "      <td>0</td>\n",
       "      <td>0</td>\n",
       "      <td>0</td>\n",
       "      <td>0.0</td>\n",
       "      <td>0.0</td>\n",
       "      <td>0.0</td>\n",
       "      <td>0.0</td>\n",
       "      <td>0.0</td>\n",
       "      <td>0.0</td>\n",
       "    </tr>\n",
       "    <tr>\n",
       "      <th>1</th>\n",
       "      <td>100005</td>\n",
       "      <td>Cash loans</td>\n",
       "      <td>M</td>\n",
       "      <td>N</td>\n",
       "      <td>Y</td>\n",
       "      <td>0</td>\n",
       "      <td>99000.0</td>\n",
       "      <td>222768.0</td>\n",
       "      <td>17370.0</td>\n",
       "      <td>180000.0</td>\n",
       "      <td>...</td>\n",
       "      <td>0</td>\n",
       "      <td>0</td>\n",
       "      <td>0</td>\n",
       "      <td>0</td>\n",
       "      <td>0.0</td>\n",
       "      <td>0.0</td>\n",
       "      <td>0.0</td>\n",
       "      <td>0.0</td>\n",
       "      <td>0.0</td>\n",
       "      <td>3.0</td>\n",
       "    </tr>\n",
       "    <tr>\n",
       "      <th>2</th>\n",
       "      <td>100013</td>\n",
       "      <td>Cash loans</td>\n",
       "      <td>M</td>\n",
       "      <td>Y</td>\n",
       "      <td>Y</td>\n",
       "      <td>0</td>\n",
       "      <td>202500.0</td>\n",
       "      <td>663264.0</td>\n",
       "      <td>69777.0</td>\n",
       "      <td>630000.0</td>\n",
       "      <td>...</td>\n",
       "      <td>0</td>\n",
       "      <td>0</td>\n",
       "      <td>0</td>\n",
       "      <td>0</td>\n",
       "      <td>0.0</td>\n",
       "      <td>0.0</td>\n",
       "      <td>0.0</td>\n",
       "      <td>0.0</td>\n",
       "      <td>1.0</td>\n",
       "      <td>4.0</td>\n",
       "    </tr>\n",
       "    <tr>\n",
       "      <th>3</th>\n",
       "      <td>100028</td>\n",
       "      <td>Cash loans</td>\n",
       "      <td>F</td>\n",
       "      <td>N</td>\n",
       "      <td>Y</td>\n",
       "      <td>2</td>\n",
       "      <td>315000.0</td>\n",
       "      <td>1575000.0</td>\n",
       "      <td>49018.5</td>\n",
       "      <td>1575000.0</td>\n",
       "      <td>...</td>\n",
       "      <td>0</td>\n",
       "      <td>0</td>\n",
       "      <td>0</td>\n",
       "      <td>0</td>\n",
       "      <td>0.0</td>\n",
       "      <td>0.0</td>\n",
       "      <td>0.0</td>\n",
       "      <td>0.0</td>\n",
       "      <td>0.0</td>\n",
       "      <td>3.0</td>\n",
       "    </tr>\n",
       "    <tr>\n",
       "      <th>4</th>\n",
       "      <td>100038</td>\n",
       "      <td>Cash loans</td>\n",
       "      <td>M</td>\n",
       "      <td>Y</td>\n",
       "      <td>N</td>\n",
       "      <td>1</td>\n",
       "      <td>180000.0</td>\n",
       "      <td>625500.0</td>\n",
       "      <td>32067.0</td>\n",
       "      <td>625500.0</td>\n",
       "      <td>...</td>\n",
       "      <td>0</td>\n",
       "      <td>0</td>\n",
       "      <td>0</td>\n",
       "      <td>0</td>\n",
       "      <td>NaN</td>\n",
       "      <td>NaN</td>\n",
       "      <td>NaN</td>\n",
       "      <td>NaN</td>\n",
       "      <td>NaN</td>\n",
       "      <td>NaN</td>\n",
       "    </tr>\n",
       "  </tbody>\n",
       "</table>\n",
       "<p>5 rows × 121 columns</p>\n",
       "</div>"
      ],
      "text/plain": [
       "   SK_ID_CURR NAME_CONTRACT_TYPE CODE_GENDER FLAG_OWN_CAR FLAG_OWN_REALTY  \\\n",
       "0      100001         Cash loans           F            N               Y   \n",
       "1      100005         Cash loans           M            N               Y   \n",
       "2      100013         Cash loans           M            Y               Y   \n",
       "3      100028         Cash loans           F            N               Y   \n",
       "4      100038         Cash loans           M            Y               N   \n",
       "\n",
       "   CNT_CHILDREN  AMT_INCOME_TOTAL  AMT_CREDIT  AMT_ANNUITY  AMT_GOODS_PRICE  \\\n",
       "0             0          135000.0    568800.0      20560.5         450000.0   \n",
       "1             0           99000.0    222768.0      17370.0         180000.0   \n",
       "2             0          202500.0    663264.0      69777.0         630000.0   \n",
       "3             2          315000.0   1575000.0      49018.5        1575000.0   \n",
       "4             1          180000.0    625500.0      32067.0         625500.0   \n",
       "\n",
       "   ... FLAG_DOCUMENT_18 FLAG_DOCUMENT_19 FLAG_DOCUMENT_20 FLAG_DOCUMENT_21  \\\n",
       "0  ...                0                0                0                0   \n",
       "1  ...                0                0                0                0   \n",
       "2  ...                0                0                0                0   \n",
       "3  ...                0                0                0                0   \n",
       "4  ...                0                0                0                0   \n",
       "\n",
       "  AMT_REQ_CREDIT_BUREAU_HOUR  AMT_REQ_CREDIT_BUREAU_DAY  \\\n",
       "0                        0.0                        0.0   \n",
       "1                        0.0                        0.0   \n",
       "2                        0.0                        0.0   \n",
       "3                        0.0                        0.0   \n",
       "4                        NaN                        NaN   \n",
       "\n",
       "   AMT_REQ_CREDIT_BUREAU_WEEK  AMT_REQ_CREDIT_BUREAU_MON  \\\n",
       "0                         0.0                        0.0   \n",
       "1                         0.0                        0.0   \n",
       "2                         0.0                        0.0   \n",
       "3                         0.0                        0.0   \n",
       "4                         NaN                        NaN   \n",
       "\n",
       "   AMT_REQ_CREDIT_BUREAU_QRT  AMT_REQ_CREDIT_BUREAU_YEAR  \n",
       "0                        0.0                         0.0  \n",
       "1                        0.0                         3.0  \n",
       "2                        1.0                         4.0  \n",
       "3                        0.0                         3.0  \n",
       "4                        NaN                         NaN  \n",
       "\n",
       "[5 rows x 121 columns]"
      ]
     },
     "execution_count": 17,
     "metadata": {},
     "output_type": "execute_result"
    }
   ],
   "source": [
    "print(testDF.shape)\n",
    "testDF.head()"
   ]
  },
  {
   "cell_type": "markdown",
   "id": "dd450245",
   "metadata": {
    "papermill": {
     "duration": 0.050378,
     "end_time": "2022-04-28T15:55:52.795676",
     "exception": false,
     "start_time": "2022-04-28T15:55:52.745298",
     "status": "completed"
    },
    "tags": []
   },
   "source": [
    "## Feature Engineer Test Data\n",
    "To make a final prediction, the same columns used for the train data should be used for the test data. Missing values must be filled with the mean. Dropping a column would mean a house does not get a prediction so that cannot be done."
   ]
  },
  {
   "cell_type": "code",
   "execution_count": 18,
   "id": "6cf63501",
   "metadata": {
    "execution": {
     "iopub.execute_input": "2022-04-28T15:55:52.904159Z",
     "iopub.status.busy": "2022-04-28T15:55:52.903473Z",
     "iopub.status.idle": "2022-04-28T15:55:53.158261Z",
     "shell.execute_reply": "2022-04-28T15:55:53.157680Z",
     "shell.execute_reply.started": "2022-04-28T15:34:40.411472Z"
    },
    "papermill": {
     "duration": 0.310994,
     "end_time": "2022-04-28T15:55:53.158451",
     "exception": false,
     "start_time": "2022-04-28T15:55:52.847457",
     "status": "completed"
    },
    "tags": []
   },
   "outputs": [
    {
     "data": {
      "text/html": [
       "<div>\n",
       "<style scoped>\n",
       "    .dataframe tbody tr th:only-of-type {\n",
       "        vertical-align: middle;\n",
       "    }\n",
       "\n",
       "    .dataframe tbody tr th {\n",
       "        vertical-align: top;\n",
       "    }\n",
       "\n",
       "    .dataframe thead th {\n",
       "        text-align: right;\n",
       "    }\n",
       "</style>\n",
       "<table border=\"1\" class=\"dataframe\">\n",
       "  <thead>\n",
       "    <tr style=\"text-align: right;\">\n",
       "      <th></th>\n",
       "      <th>SK_ID_CURR</th>\n",
       "      <th>CNT_CHILDREN</th>\n",
       "      <th>AMT_INCOME_TOTAL</th>\n",
       "      <th>AMT_CREDIT</th>\n",
       "      <th>AMT_ANNUITY</th>\n",
       "      <th>AMT_GOODS_PRICE</th>\n",
       "      <th>REGION_POPULATION_RELATIVE</th>\n",
       "      <th>DAYS_BIRTH</th>\n",
       "      <th>DAYS_EMPLOYED</th>\n",
       "      <th>DAYS_REGISTRATION</th>\n",
       "      <th>...</th>\n",
       "      <th>FLAG_DOCUMENT_18</th>\n",
       "      <th>FLAG_DOCUMENT_19</th>\n",
       "      <th>FLAG_DOCUMENT_20</th>\n",
       "      <th>FLAG_DOCUMENT_21</th>\n",
       "      <th>AMT_REQ_CREDIT_BUREAU_HOUR</th>\n",
       "      <th>AMT_REQ_CREDIT_BUREAU_DAY</th>\n",
       "      <th>AMT_REQ_CREDIT_BUREAU_WEEK</th>\n",
       "      <th>AMT_REQ_CREDIT_BUREAU_MON</th>\n",
       "      <th>AMT_REQ_CREDIT_BUREAU_QRT</th>\n",
       "      <th>AMT_REQ_CREDIT_BUREAU_YEAR</th>\n",
       "    </tr>\n",
       "  </thead>\n",
       "  <tbody>\n",
       "    <tr>\n",
       "      <th>0</th>\n",
       "      <td>100001</td>\n",
       "      <td>0</td>\n",
       "      <td>135000.0</td>\n",
       "      <td>568800.0</td>\n",
       "      <td>20560.5</td>\n",
       "      <td>450000.0</td>\n",
       "      <td>0.018850</td>\n",
       "      <td>-19241</td>\n",
       "      <td>-2329</td>\n",
       "      <td>-5170.0</td>\n",
       "      <td>...</td>\n",
       "      <td>0</td>\n",
       "      <td>0</td>\n",
       "      <td>0</td>\n",
       "      <td>0</td>\n",
       "      <td>0.000000</td>\n",
       "      <td>0.000000</td>\n",
       "      <td>0.000000</td>\n",
       "      <td>0.000000</td>\n",
       "      <td>0.000000</td>\n",
       "      <td>0.000000</td>\n",
       "    </tr>\n",
       "    <tr>\n",
       "      <th>1</th>\n",
       "      <td>100005</td>\n",
       "      <td>0</td>\n",
       "      <td>99000.0</td>\n",
       "      <td>222768.0</td>\n",
       "      <td>17370.0</td>\n",
       "      <td>180000.0</td>\n",
       "      <td>0.035792</td>\n",
       "      <td>-18064</td>\n",
       "      <td>-4469</td>\n",
       "      <td>-9118.0</td>\n",
       "      <td>...</td>\n",
       "      <td>0</td>\n",
       "      <td>0</td>\n",
       "      <td>0</td>\n",
       "      <td>0</td>\n",
       "      <td>0.000000</td>\n",
       "      <td>0.000000</td>\n",
       "      <td>0.000000</td>\n",
       "      <td>0.000000</td>\n",
       "      <td>0.000000</td>\n",
       "      <td>3.000000</td>\n",
       "    </tr>\n",
       "    <tr>\n",
       "      <th>2</th>\n",
       "      <td>100013</td>\n",
       "      <td>0</td>\n",
       "      <td>202500.0</td>\n",
       "      <td>663264.0</td>\n",
       "      <td>69777.0</td>\n",
       "      <td>630000.0</td>\n",
       "      <td>0.019101</td>\n",
       "      <td>-20038</td>\n",
       "      <td>-4458</td>\n",
       "      <td>-2175.0</td>\n",
       "      <td>...</td>\n",
       "      <td>0</td>\n",
       "      <td>0</td>\n",
       "      <td>0</td>\n",
       "      <td>0</td>\n",
       "      <td>0.000000</td>\n",
       "      <td>0.000000</td>\n",
       "      <td>0.000000</td>\n",
       "      <td>0.000000</td>\n",
       "      <td>1.000000</td>\n",
       "      <td>4.000000</td>\n",
       "    </tr>\n",
       "    <tr>\n",
       "      <th>3</th>\n",
       "      <td>100028</td>\n",
       "      <td>2</td>\n",
       "      <td>315000.0</td>\n",
       "      <td>1575000.0</td>\n",
       "      <td>49018.5</td>\n",
       "      <td>1575000.0</td>\n",
       "      <td>0.026392</td>\n",
       "      <td>-13976</td>\n",
       "      <td>-1866</td>\n",
       "      <td>-2000.0</td>\n",
       "      <td>...</td>\n",
       "      <td>0</td>\n",
       "      <td>0</td>\n",
       "      <td>0</td>\n",
       "      <td>0</td>\n",
       "      <td>0.000000</td>\n",
       "      <td>0.000000</td>\n",
       "      <td>0.000000</td>\n",
       "      <td>0.000000</td>\n",
       "      <td>0.000000</td>\n",
       "      <td>3.000000</td>\n",
       "    </tr>\n",
       "    <tr>\n",
       "      <th>4</th>\n",
       "      <td>100038</td>\n",
       "      <td>1</td>\n",
       "      <td>180000.0</td>\n",
       "      <td>625500.0</td>\n",
       "      <td>32067.0</td>\n",
       "      <td>625500.0</td>\n",
       "      <td>0.010032</td>\n",
       "      <td>-13040</td>\n",
       "      <td>-2191</td>\n",
       "      <td>-4000.0</td>\n",
       "      <td>...</td>\n",
       "      <td>0</td>\n",
       "      <td>0</td>\n",
       "      <td>0</td>\n",
       "      <td>0</td>\n",
       "      <td>0.002108</td>\n",
       "      <td>0.001803</td>\n",
       "      <td>0.002787</td>\n",
       "      <td>0.009299</td>\n",
       "      <td>0.546902</td>\n",
       "      <td>1.983769</td>\n",
       "    </tr>\n",
       "  </tbody>\n",
       "</table>\n",
       "<p>5 rows × 105 columns</p>\n",
       "</div>"
      ],
      "text/plain": [
       "   SK_ID_CURR  CNT_CHILDREN  AMT_INCOME_TOTAL  AMT_CREDIT  AMT_ANNUITY  \\\n",
       "0      100001             0          135000.0    568800.0      20560.5   \n",
       "1      100005             0           99000.0    222768.0      17370.0   \n",
       "2      100013             0          202500.0    663264.0      69777.0   \n",
       "3      100028             2          315000.0   1575000.0      49018.5   \n",
       "4      100038             1          180000.0    625500.0      32067.0   \n",
       "\n",
       "   AMT_GOODS_PRICE  REGION_POPULATION_RELATIVE  DAYS_BIRTH  DAYS_EMPLOYED  \\\n",
       "0         450000.0                    0.018850      -19241          -2329   \n",
       "1         180000.0                    0.035792      -18064          -4469   \n",
       "2         630000.0                    0.019101      -20038          -4458   \n",
       "3        1575000.0                    0.026392      -13976          -1866   \n",
       "4         625500.0                    0.010032      -13040          -2191   \n",
       "\n",
       "   DAYS_REGISTRATION  ...  FLAG_DOCUMENT_18  FLAG_DOCUMENT_19  \\\n",
       "0            -5170.0  ...                 0                 0   \n",
       "1            -9118.0  ...                 0                 0   \n",
       "2            -2175.0  ...                 0                 0   \n",
       "3            -2000.0  ...                 0                 0   \n",
       "4            -4000.0  ...                 0                 0   \n",
       "\n",
       "   FLAG_DOCUMENT_20  FLAG_DOCUMENT_21  AMT_REQ_CREDIT_BUREAU_HOUR  \\\n",
       "0                 0                 0                    0.000000   \n",
       "1                 0                 0                    0.000000   \n",
       "2                 0                 0                    0.000000   \n",
       "3                 0                 0                    0.000000   \n",
       "4                 0                 0                    0.002108   \n",
       "\n",
       "   AMT_REQ_CREDIT_BUREAU_DAY  AMT_REQ_CREDIT_BUREAU_WEEK  \\\n",
       "0                   0.000000                    0.000000   \n",
       "1                   0.000000                    0.000000   \n",
       "2                   0.000000                    0.000000   \n",
       "3                   0.000000                    0.000000   \n",
       "4                   0.001803                    0.002787   \n",
       "\n",
       "   AMT_REQ_CREDIT_BUREAU_MON  AMT_REQ_CREDIT_BUREAU_QRT  \\\n",
       "0                   0.000000                   0.000000   \n",
       "1                   0.000000                   0.000000   \n",
       "2                   0.000000                   1.000000   \n",
       "3                   0.000000                   0.000000   \n",
       "4                   0.009299                   0.546902   \n",
       "\n",
       "   AMT_REQ_CREDIT_BUREAU_YEAR  \n",
       "0                    0.000000  \n",
       "1                    3.000000  \n",
       "2                    4.000000  \n",
       "3                    3.000000  \n",
       "4                    1.983769  \n",
       "\n",
       "[5 rows x 105 columns]"
      ]
     },
     "execution_count": 18,
     "metadata": {},
     "output_type": "execute_result"
    }
   ],
   "source": [
    "features=list(X.columns)\n",
    "testDF=testDF[features]\n",
    "testDF=testDF.fillna(testDF.mean())\n",
    "testDF.head() #5 rows × 105 columns"
   ]
  },
  {
   "cell_type": "markdown",
   "id": "be87ed9a",
   "metadata": {
    "papermill": {
     "duration": 0.051389,
     "end_time": "2022-04-28T15:55:53.261915",
     "exception": false,
     "start_time": "2022-04-28T15:55:53.210526",
     "status": "completed"
    },
    "tags": []
   },
   "source": [
    "## Predict Final Credit Risk\n",
    "All 307,511 credit loans from the train dataset will get a final credit risk prediction. Since linear regression seemed to have good AUC results, I will use linear for the final prediction. \n",
    "\n",
    "Each SK_ID_CURR in the test set, will predict a probability for the TARGET variable. The final prediction file should contain a header and have the following format: <br><br>\n",
    "SK_ID_CURR,TARGET <br/>\n",
    "100001, 0.1 <br/>\n",
    "100005, 0.9 <br/>\n",
    "100013, 0.2 <br/>\n"
   ]
  },
  {
   "cell_type": "code",
   "execution_count": 19,
   "id": "bf1faa99",
   "metadata": {
    "execution": {
     "iopub.execute_input": "2022-04-28T15:55:53.374265Z",
     "iopub.status.busy": "2022-04-28T15:55:53.373449Z",
     "iopub.status.idle": "2022-04-28T15:55:53.472263Z",
     "shell.execute_reply": "2022-04-28T15:55:53.472818Z",
     "shell.execute_reply.started": "2022-04-28T15:34:40.528121Z"
    },
    "papermill": {
     "duration": 0.159778,
     "end_time": "2022-04-28T15:55:53.473019",
     "exception": false,
     "start_time": "2022-04-28T15:55:53.313241",
     "status": "completed"
    },
    "tags": []
   },
   "outputs": [
    {
     "name": "stdout",
     "output_type": "stream",
     "text": [
      "(48744, 2)\n"
     ]
    },
    {
     "data": {
      "text/html": [
       "<div>\n",
       "<style scoped>\n",
       "    .dataframe tbody tr th:only-of-type {\n",
       "        vertical-align: middle;\n",
       "    }\n",
       "\n",
       "    .dataframe tbody tr th {\n",
       "        vertical-align: top;\n",
       "    }\n",
       "\n",
       "    .dataframe thead th {\n",
       "        text-align: right;\n",
       "    }\n",
       "</style>\n",
       "<table border=\"1\" class=\"dataframe\">\n",
       "  <thead>\n",
       "    <tr style=\"text-align: right;\">\n",
       "      <th></th>\n",
       "      <th>SK_ID_CURR</th>\n",
       "      <th>TARGET</th>\n",
       "    </tr>\n",
       "  </thead>\n",
       "  <tbody>\n",
       "    <tr>\n",
       "      <th>0</th>\n",
       "      <td>100001</td>\n",
       "      <td>0.0</td>\n",
       "    </tr>\n",
       "    <tr>\n",
       "      <th>1</th>\n",
       "      <td>100005</td>\n",
       "      <td>0.1</td>\n",
       "    </tr>\n",
       "    <tr>\n",
       "      <th>2</th>\n",
       "      <td>100013</td>\n",
       "      <td>0.0</td>\n",
       "    </tr>\n",
       "    <tr>\n",
       "      <th>3</th>\n",
       "      <td>100028</td>\n",
       "      <td>0.1</td>\n",
       "    </tr>\n",
       "    <tr>\n",
       "      <th>4</th>\n",
       "      <td>100038</td>\n",
       "      <td>0.1</td>\n",
       "    </tr>\n",
       "  </tbody>\n",
       "</table>\n",
       "</div>"
      ],
      "text/plain": [
       "   SK_ID_CURR  TARGET\n",
       "0      100001     0.0\n",
       "1      100005     0.1\n",
       "2      100013     0.0\n",
       "3      100028     0.1\n",
       "4      100038     0.1"
      ]
     },
     "execution_count": 19,
     "metadata": {},
     "output_type": "execute_result"
    }
   ],
   "source": [
    "test_predictions = tree.predict(testDF).round(1)\n",
    "test_predictions=np.where(test_predictions<0, 0, test_predictions)\n",
    "SK_ID_CURR=testDF['SK_ID_CURR']\n",
    "tupleData = list(zip(SK_ID_CURR, test_predictions))\n",
    "output = pd.DataFrame(tupleData, columns = ['SK_ID_CURR', 'TARGET'])\n",
    "print(output.shape)\n",
    "output.head()"
   ]
  },
  {
   "cell_type": "markdown",
   "id": "143c24fe",
   "metadata": {
    "papermill": {
     "duration": 0.052972,
     "end_time": "2022-04-28T15:55:53.577700",
     "exception": false,
     "start_time": "2022-04-28T15:55:53.524728",
     "status": "completed"
    },
    "tags": []
   },
   "source": [
    "## Submit Predictions\n",
    "The final shape is (48744, 2), the same amount of original ID on the original test data."
   ]
  },
  {
   "cell_type": "code",
   "execution_count": 20,
   "id": "5c0f354d",
   "metadata": {
    "execution": {
     "iopub.execute_input": "2022-04-28T15:55:53.687671Z",
     "iopub.status.busy": "2022-04-28T15:55:53.686951Z",
     "iopub.status.idle": "2022-04-28T15:55:53.799487Z",
     "shell.execute_reply": "2022-04-28T15:55:53.798893Z",
     "shell.execute_reply.started": "2022-04-28T15:34:40.727792Z"
    },
    "papermill": {
     "duration": 0.169211,
     "end_time": "2022-04-28T15:55:53.799642",
     "exception": false,
     "start_time": "2022-04-28T15:55:53.630431",
     "status": "completed"
    },
    "tags": []
   },
   "outputs": [
    {
     "name": "stdout",
     "output_type": "stream",
     "text": [
      "Your submission was successfully saved!\n"
     ]
    }
   ],
   "source": [
    "output.to_csv('submission.csv', index=False)\n",
    "print(\"Your submission was successfully saved!\")"
   ]
  },
  {
   "cell_type": "markdown",
   "id": "72434465",
   "metadata": {
    "papermill": {
     "duration": 0.052916,
     "end_time": "2022-04-28T15:55:53.905988",
     "exception": false,
     "start_time": "2022-04-28T15:55:53.853072",
     "status": "completed"
    },
    "tags": []
   },
   "source": [
    "### Extra: Bureau Data\n",
    "The Bureau data has [1716428 rows x 17 columns]. Three columns were categorical, so they get removed. Then an additional four columns had lots of missing data, more than 80% so they are deleted. Finally, we remove a small portion of missing values just to get a general analysis of the missing data. The goal is to use this additional information outside of the train set to try to find feature importance.\n"
   ]
  },
  {
   "cell_type": "code",
   "execution_count": 21,
   "id": "745accd9",
   "metadata": {
    "execution": {
     "iopub.execute_input": "2022-04-28T15:55:54.019423Z",
     "iopub.status.busy": "2022-04-28T15:55:54.018717Z",
     "iopub.status.idle": "2022-04-28T15:55:59.326674Z",
     "shell.execute_reply": "2022-04-28T15:55:59.326070Z",
     "shell.execute_reply.started": "2022-04-28T15:34:40.854750Z"
    },
    "papermill": {
     "duration": 5.367803,
     "end_time": "2022-04-28T15:55:59.326841",
     "exception": false,
     "start_time": "2022-04-28T15:55:53.959038",
     "status": "completed"
    },
    "tags": []
   },
   "outputs": [],
   "source": [
    "buraeuData=r'/kaggle/input/home-credit-default-risk/bureau.csv'\n",
    "buraeuDF=pd.read_csv(buraeuData) #[1716428 rows x 17 columns]\n",
    "\n",
    "numerics = ['int16', 'int32', 'int64', 'float16', 'float32', 'float64']\n",
    "buraeuDF = buraeuDF.select_dtypes(include=numerics) #(1716428, 14)\n",
    "# Six columns have missing values:\n",
    "bNA=buraeuDF.isnull().sum().sort_values(ascending=False)/len(buraeuDF) \n",
    "buraeuDF=buraeuDF.dropna(thresh=0.8*len(buraeuDF), axis=1) #(1716428, 10)\n",
    "buraeuDF = buraeuDF.dropna() #(1376391, 10)\n",
    "head=buraeuDF.head()"
   ]
  }
 ],
 "metadata": {
  "kernelspec": {
   "display_name": "Python 3",
   "language": "python",
   "name": "python3"
  },
  "language_info": {
   "codemirror_mode": {
    "name": "ipython",
    "version": 3
   },
   "file_extension": ".py",
   "mimetype": "text/x-python",
   "name": "python",
   "nbconvert_exporter": "python",
   "pygments_lexer": "ipython3",
   "version": "3.7.12"
  },
  "papermill": {
   "default_parameters": {},
   "duration": 90.866896,
   "end_time": "2022-04-28T15:56:00.192602",
   "environment_variables": {},
   "exception": null,
   "input_path": "__notebook__.ipynb",
   "output_path": "__notebook__.ipynb",
   "parameters": {},
   "start_time": "2022-04-28T15:54:29.325706",
   "version": "2.3.3"
  }
 },
 "nbformat": 4,
 "nbformat_minor": 5
}
