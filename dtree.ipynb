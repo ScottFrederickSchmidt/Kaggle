{
 "cells": [
  {
   "cell_type": "markdown",
   "id": "6170dc2e",
   "metadata": {
    "papermill": {
     "duration": 0.031206,
     "end_time": "2022-10-02T17:28:32.062092",
     "exception": false,
     "start_time": "2022-10-02T17:28:32.030886",
     "status": "completed"
    },
    "tags": []
   },
   "source": [
    "# Machine Learning Titanic \n",
    "Currently, my decision tree scores top 10%. I scored top 5% using random forest and xgBoost: \n",
    "* https://github.com/ScottySchmidt/Kaggle/blob/main/xgbTop5%25.ipynb\n",
    "* https://github.com/ScottySchmidt/Kaggle/blob/main/Titanic.ipynb\n",
    "\n",
    "Can decision tree also score top 5%? Decision tree will initially score almost a perfect AUC but that is because the data overfits. Regularizing the decision tree will be key for a high score. GridSearch will tune all the best possible parameters to get the best solution possible.  "
   ]
  },
  {
   "cell_type": "markdown",
   "id": "33ebc730",
   "metadata": {
    "papermill": {
     "duration": 0.029416,
     "end_time": "2022-10-02T17:28:32.121821",
     "exception": false,
     "start_time": "2022-10-02T17:28:32.092405",
     "status": "completed"
    },
    "tags": []
   },
   "source": [
    "# Train Data\n",
    "Train.csv will contain the details of a subset of the passengers on board (891 to be exact) and whether they survive or not. The shape of the train data is (891, 12). "
   ]
  },
  {
   "cell_type": "code",
   "execution_count": 1,
   "id": "40d7eea8",
   "metadata": {
    "execution": {
     "iopub.execute_input": "2022-10-02T17:28:32.182304Z",
     "iopub.status.busy": "2022-10-02T17:28:32.181726Z",
     "iopub.status.idle": "2022-10-02T17:28:33.964567Z",
     "shell.execute_reply": "2022-10-02T17:28:33.963568Z"
    },
    "papermill": {
     "duration": 1.815989,
     "end_time": "2022-10-02T17:28:33.967265",
     "exception": false,
     "start_time": "2022-10-02T17:28:32.151276",
     "status": "completed"
    },
    "tags": []
   },
   "outputs": [
    {
     "name": "stdout",
     "output_type": "stream",
     "text": [
      "(891, 12)\n"
     ]
    },
    {
     "data": {
      "text/html": [
       "<div>\n",
       "<style scoped>\n",
       "    .dataframe tbody tr th:only-of-type {\n",
       "        vertical-align: middle;\n",
       "    }\n",
       "\n",
       "    .dataframe tbody tr th {\n",
       "        vertical-align: top;\n",
       "    }\n",
       "\n",
       "    .dataframe thead th {\n",
       "        text-align: right;\n",
       "    }\n",
       "</style>\n",
       "<table border=\"1\" class=\"dataframe\">\n",
       "  <thead>\n",
       "    <tr style=\"text-align: right;\">\n",
       "      <th></th>\n",
       "      <th>PassengerId</th>\n",
       "      <th>Survived</th>\n",
       "      <th>Pclass</th>\n",
       "      <th>Name</th>\n",
       "      <th>Sex</th>\n",
       "      <th>Age</th>\n",
       "      <th>SibSp</th>\n",
       "      <th>Parch</th>\n",
       "      <th>Ticket</th>\n",
       "      <th>Fare</th>\n",
       "      <th>Cabin</th>\n",
       "      <th>Embarked</th>\n",
       "    </tr>\n",
       "  </thead>\n",
       "  <tbody>\n",
       "    <tr>\n",
       "      <th>0</th>\n",
       "      <td>1</td>\n",
       "      <td>0</td>\n",
       "      <td>3</td>\n",
       "      <td>Braund, Mr. Owen Harris</td>\n",
       "      <td>male</td>\n",
       "      <td>22.0</td>\n",
       "      <td>1</td>\n",
       "      <td>0</td>\n",
       "      <td>A/5 21171</td>\n",
       "      <td>7.2500</td>\n",
       "      <td>NaN</td>\n",
       "      <td>S</td>\n",
       "    </tr>\n",
       "    <tr>\n",
       "      <th>1</th>\n",
       "      <td>2</td>\n",
       "      <td>1</td>\n",
       "      <td>1</td>\n",
       "      <td>Cumings, Mrs. John Bradley (Florence Briggs Th...</td>\n",
       "      <td>female</td>\n",
       "      <td>38.0</td>\n",
       "      <td>1</td>\n",
       "      <td>0</td>\n",
       "      <td>PC 17599</td>\n",
       "      <td>71.2833</td>\n",
       "      <td>C85</td>\n",
       "      <td>C</td>\n",
       "    </tr>\n",
       "    <tr>\n",
       "      <th>2</th>\n",
       "      <td>3</td>\n",
       "      <td>1</td>\n",
       "      <td>3</td>\n",
       "      <td>Heikkinen, Miss. Laina</td>\n",
       "      <td>female</td>\n",
       "      <td>26.0</td>\n",
       "      <td>0</td>\n",
       "      <td>0</td>\n",
       "      <td>STON/O2. 3101282</td>\n",
       "      <td>7.9250</td>\n",
       "      <td>NaN</td>\n",
       "      <td>S</td>\n",
       "    </tr>\n",
       "    <tr>\n",
       "      <th>3</th>\n",
       "      <td>4</td>\n",
       "      <td>1</td>\n",
       "      <td>1</td>\n",
       "      <td>Futrelle, Mrs. Jacques Heath (Lily May Peel)</td>\n",
       "      <td>female</td>\n",
       "      <td>35.0</td>\n",
       "      <td>1</td>\n",
       "      <td>0</td>\n",
       "      <td>113803</td>\n",
       "      <td>53.1000</td>\n",
       "      <td>C123</td>\n",
       "      <td>S</td>\n",
       "    </tr>\n",
       "    <tr>\n",
       "      <th>4</th>\n",
       "      <td>5</td>\n",
       "      <td>0</td>\n",
       "      <td>3</td>\n",
       "      <td>Allen, Mr. William Henry</td>\n",
       "      <td>male</td>\n",
       "      <td>35.0</td>\n",
       "      <td>0</td>\n",
       "      <td>0</td>\n",
       "      <td>373450</td>\n",
       "      <td>8.0500</td>\n",
       "      <td>NaN</td>\n",
       "      <td>S</td>\n",
       "    </tr>\n",
       "  </tbody>\n",
       "</table>\n",
       "</div>"
      ],
      "text/plain": [
       "   PassengerId  Survived  Pclass  \\\n",
       "0            1         0       3   \n",
       "1            2         1       1   \n",
       "2            3         1       3   \n",
       "3            4         1       1   \n",
       "4            5         0       3   \n",
       "\n",
       "                                                Name     Sex   Age  SibSp  \\\n",
       "0                            Braund, Mr. Owen Harris    male  22.0      1   \n",
       "1  Cumings, Mrs. John Bradley (Florence Briggs Th...  female  38.0      1   \n",
       "2                             Heikkinen, Miss. Laina  female  26.0      0   \n",
       "3       Futrelle, Mrs. Jacques Heath (Lily May Peel)  female  35.0      1   \n",
       "4                           Allen, Mr. William Henry    male  35.0      0   \n",
       "\n",
       "   Parch            Ticket     Fare Cabin Embarked  \n",
       "0      0         A/5 21171   7.2500   NaN        S  \n",
       "1      0          PC 17599  71.2833   C85        C  \n",
       "2      0  STON/O2. 3101282   7.9250   NaN        S  \n",
       "3      0            113803  53.1000  C123        S  \n",
       "4      0            373450   8.0500   NaN        S  "
      ]
     },
     "execution_count": 1,
     "metadata": {},
     "output_type": "execute_result"
    }
   ],
   "source": [
    "import numpy as np\n",
    "import pandas as pd\n",
    "import seaborn as sns\n",
    "import matplotlib.pyplot as plt\n",
    "from sklearn.model_selection import train_test_split, cross_validate\n",
    "from statistics import mean\n",
    "from sklearn.metrics import accuracy_score, classification_report, mean_absolute_error, mean_squared_error, r2_score\n",
    "from sklearn.datasets import make_classification\n",
    "from sklearn import ensemble\n",
    "import sklearn.metrics as metrics\n",
    "import time\n",
    "from math import sqrt\n",
    "\n",
    "train=r'/kaggle/input/titanic/train.csv'\n",
    "test=r'/kaggle/input/titanic/test.csv' \n",
    "\n",
    "df=pd.read_csv(train)\n",
    "test=pd.read_csv(test)\n",
    "\n",
    "print(df.shape)\n",
    "df.head()"
   ]
  },
  {
   "cell_type": "code",
   "execution_count": 2,
   "id": "4bc6894c",
   "metadata": {
    "execution": {
     "iopub.execute_input": "2022-10-02T17:28:34.031045Z",
     "iopub.status.busy": "2022-10-02T17:28:34.030718Z",
     "iopub.status.idle": "2022-10-02T17:28:34.058950Z",
     "shell.execute_reply": "2022-10-02T17:28:34.057683Z"
    },
    "papermill": {
     "duration": 0.06213,
     "end_time": "2022-10-02T17:28:34.061248",
     "exception": false,
     "start_time": "2022-10-02T17:28:33.999118",
     "status": "completed"
    },
    "tags": []
   },
   "outputs": [
    {
     "name": "stdout",
     "output_type": "stream",
     "text": [
      "Total no of duplicate values in Training Dataset = 0\n"
     ]
    },
    {
     "data": {
      "text/html": [
       "<div>\n",
       "<style scoped>\n",
       "    .dataframe tbody tr th:only-of-type {\n",
       "        vertical-align: middle;\n",
       "    }\n",
       "\n",
       "    .dataframe tbody tr th {\n",
       "        vertical-align: top;\n",
       "    }\n",
       "\n",
       "    .dataframe thead th {\n",
       "        text-align: right;\n",
       "    }\n",
       "</style>\n",
       "<table border=\"1\" class=\"dataframe\">\n",
       "  <thead>\n",
       "    <tr style=\"text-align: right;\">\n",
       "      <th></th>\n",
       "      <th>PassengerId</th>\n",
       "      <th>Survived</th>\n",
       "      <th>Pclass</th>\n",
       "      <th>Name</th>\n",
       "      <th>Sex</th>\n",
       "      <th>Age</th>\n",
       "      <th>SibSp</th>\n",
       "      <th>Parch</th>\n",
       "      <th>Ticket</th>\n",
       "      <th>Fare</th>\n",
       "      <th>Cabin</th>\n",
       "      <th>Embarked</th>\n",
       "    </tr>\n",
       "  </thead>\n",
       "  <tbody>\n",
       "  </tbody>\n",
       "</table>\n",
       "</div>"
      ],
      "text/plain": [
       "Empty DataFrame\n",
       "Columns: [PassengerId, Survived, Pclass, Name, Sex, Age, SibSp, Parch, Ticket, Fare, Cabin, Embarked]\n",
       "Index: []"
      ]
     },
     "execution_count": 2,
     "metadata": {},
     "output_type": "execute_result"
    }
   ],
   "source": [
    "#Check Duplicates:\n",
    "dupstr = df.duplicated()\n",
    "print('Total no of duplicate values in Training Dataset = %d' % (dupstr.sum()))\n",
    "df[dupstr]"
   ]
  },
  {
   "cell_type": "code",
   "execution_count": 3,
   "id": "6c927303",
   "metadata": {
    "execution": {
     "iopub.execute_input": "2022-10-02T17:28:34.126976Z",
     "iopub.status.busy": "2022-10-02T17:28:34.126467Z",
     "iopub.status.idle": "2022-10-02T17:28:34.136778Z",
     "shell.execute_reply": "2022-10-02T17:28:34.135869Z"
    },
    "papermill": {
     "duration": 0.045872,
     "end_time": "2022-10-02T17:28:34.139859",
     "exception": false,
     "start_time": "2022-10-02T17:28:34.093987",
     "status": "completed"
    },
    "tags": []
   },
   "outputs": [
    {
     "name": "stdout",
     "output_type": "stream",
     "text": [
      "Missing data by column as a percent:\n",
      "Cabin          0.771044\n",
      "Age            0.198653\n",
      "Embarked       0.002245\n",
      "PassengerId    0.000000\n",
      "Survived       0.000000\n",
      "dtype: float64\n"
     ]
    }
   ],
   "source": [
    "#search for columns with missing values:\n",
    "def findNA():\n",
    "    print(\"Missing data by column as a percent:\")\n",
    "    findNA=df.isnull().sum().sort_values(ascending=False)/len(df)\n",
    "    print(findNA.head())\n",
    "findNA() "
   ]
  },
  {
   "cell_type": "markdown",
   "id": "d44e22bf",
   "metadata": {
    "papermill": {
     "duration": 0.034711,
     "end_time": "2022-10-02T17:28:34.209925",
     "exception": false,
     "start_time": "2022-10-02T17:28:34.175214",
     "status": "completed"
    },
    "tags": []
   },
   "source": [
    "# Feature Engineer\n",
    "We need to replace male and female into numbers. This is a very important part of the process because gender is one of the highest predictors on if a person survived or not."
   ]
  },
  {
   "cell_type": "code",
   "execution_count": 4,
   "id": "dca701cd",
   "metadata": {
    "execution": {
     "iopub.execute_input": "2022-10-02T17:28:34.276132Z",
     "iopub.status.busy": "2022-10-02T17:28:34.275820Z",
     "iopub.status.idle": "2022-10-02T17:28:34.282846Z",
     "shell.execute_reply": "2022-10-02T17:28:34.281851Z"
    },
    "papermill": {
     "duration": 0.042639,
     "end_time": "2022-10-02T17:28:34.285068",
     "exception": false,
     "start_time": "2022-10-02T17:28:34.242429",
     "status": "completed"
    },
    "tags": []
   },
   "outputs": [],
   "source": [
    "#GENDER\n",
    "df['Sex']=df['Sex'].map({'female':0,'male':1})"
   ]
  },
  {
   "cell_type": "markdown",
   "id": "4cc85e82",
   "metadata": {
    "papermill": {
     "duration": 0.032548,
     "end_time": "2022-10-02T17:28:34.349745",
     "exception": false,
     "start_time": "2022-10-02T17:28:34.317197",
     "status": "completed"
    },
    "tags": []
   },
   "source": [
    "Females whose number is 0 had a much higher chance of surving than males. Later on, doing the importance feature analysis we will view that gender is actually one of the highest predictors. "
   ]
  },
  {
   "cell_type": "code",
   "execution_count": 5,
   "id": "73e71faf",
   "metadata": {
    "execution": {
     "iopub.execute_input": "2022-10-02T17:28:34.417183Z",
     "iopub.status.busy": "2022-10-02T17:28:34.416624Z",
     "iopub.status.idle": "2022-10-02T17:28:34.446834Z",
     "shell.execute_reply": "2022-10-02T17:28:34.445759Z"
    },
    "papermill": {
     "duration": 0.066877,
     "end_time": "2022-10-02T17:28:34.449131",
     "exception": false,
     "start_time": "2022-10-02T17:28:34.382254",
     "status": "completed"
    },
    "tags": []
   },
   "outputs": [
    {
     "data": {
      "text/html": [
       "<div>\n",
       "<style scoped>\n",
       "    .dataframe tbody tr th:only-of-type {\n",
       "        vertical-align: middle;\n",
       "    }\n",
       "\n",
       "    .dataframe tbody tr th {\n",
       "        vertical-align: top;\n",
       "    }\n",
       "\n",
       "    .dataframe thead th {\n",
       "        text-align: right;\n",
       "    }\n",
       "</style>\n",
       "<table border=\"1\" class=\"dataframe\">\n",
       "  <thead>\n",
       "    <tr style=\"text-align: right;\">\n",
       "      <th>Sex</th>\n",
       "      <th>0</th>\n",
       "      <th>1</th>\n",
       "    </tr>\n",
       "    <tr>\n",
       "      <th>Survived</th>\n",
       "      <th></th>\n",
       "      <th></th>\n",
       "    </tr>\n",
       "  </thead>\n",
       "  <tbody>\n",
       "    <tr>\n",
       "      <th>0</th>\n",
       "      <td>81</td>\n",
       "      <td>468</td>\n",
       "    </tr>\n",
       "    <tr>\n",
       "      <th>1</th>\n",
       "      <td>233</td>\n",
       "      <td>109</td>\n",
       "    </tr>\n",
       "  </tbody>\n",
       "</table>\n",
       "</div>"
      ],
      "text/plain": [
       "Sex         0    1\n",
       "Survived          \n",
       "0          81  468\n",
       "1         233  109"
      ]
     },
     "execution_count": 5,
     "metadata": {},
     "output_type": "execute_result"
    }
   ],
   "source": [
    "genderTable = pd.crosstab(df['Survived'],df['Sex'])\n",
    "genderTable"
   ]
  },
  {
   "cell_type": "markdown",
   "id": "9b546e6e",
   "metadata": {
    "papermill": {
     "duration": 0.031514,
     "end_time": "2022-10-02T17:28:34.515008",
     "exception": false,
     "start_time": "2022-10-02T17:28:34.483494",
     "status": "completed"
    },
    "tags": []
   },
   "source": [
    "# Encode Categorical Variables\n",
    "Encode Categorical Variables is needed for this dataset since there are many important variables that are not numeric yet. \n",
    "\n",
    "There are three classes C, Q, and S. Class C seems to have the highest chance of survival. Class S has the lowest chance of survival. Unfornately this would tend to show that economic status seems to played a part in the decision if someone survived or not. Embarked does not play role major role in feature importance. "
   ]
  },
  {
   "cell_type": "code",
   "execution_count": 6,
   "id": "8c1fb9ab",
   "metadata": {
    "execution": {
     "iopub.execute_input": "2022-10-02T17:28:34.581256Z",
     "iopub.status.busy": "2022-10-02T17:28:34.580926Z",
     "iopub.status.idle": "2022-10-02T17:28:34.815145Z",
     "shell.execute_reply": "2022-10-02T17:28:34.814278Z"
    },
    "papermill": {
     "duration": 0.269824,
     "end_time": "2022-10-02T17:28:34.817519",
     "exception": false,
     "start_time": "2022-10-02T17:28:34.547695",
     "status": "completed"
    },
    "tags": []
   },
   "outputs": [
    {
     "data": {
      "text/html": [
       "<div>\n",
       "<style scoped>\n",
       "    .dataframe tbody tr th:only-of-type {\n",
       "        vertical-align: middle;\n",
       "    }\n",
       "\n",
       "    .dataframe tbody tr th {\n",
       "        vertical-align: top;\n",
       "    }\n",
       "\n",
       "    .dataframe thead th {\n",
       "        text-align: right;\n",
       "    }\n",
       "</style>\n",
       "<table border=\"1\" class=\"dataframe\">\n",
       "  <thead>\n",
       "    <tr style=\"text-align: right;\">\n",
       "      <th></th>\n",
       "      <th>PassengerId</th>\n",
       "      <th>Survived</th>\n",
       "      <th>Pclass</th>\n",
       "      <th>Name</th>\n",
       "      <th>Sex</th>\n",
       "      <th>Age</th>\n",
       "      <th>SibSp</th>\n",
       "      <th>Parch</th>\n",
       "      <th>Ticket</th>\n",
       "      <th>Fare</th>\n",
       "      <th>Cabin</th>\n",
       "      <th>Embarked</th>\n",
       "      <th>FirstClass</th>\n",
       "    </tr>\n",
       "  </thead>\n",
       "  <tbody>\n",
       "    <tr>\n",
       "      <th>0</th>\n",
       "      <td>1</td>\n",
       "      <td>0</td>\n",
       "      <td>3</td>\n",
       "      <td>Braund, Mr. Owen Harris</td>\n",
       "      <td>1</td>\n",
       "      <td>22.0</td>\n",
       "      <td>1</td>\n",
       "      <td>0</td>\n",
       "      <td>A/5 21171</td>\n",
       "      <td>7.2500</td>\n",
       "      <td>NaN</td>\n",
       "      <td>S</td>\n",
       "      <td>0</td>\n",
       "    </tr>\n",
       "    <tr>\n",
       "      <th>1</th>\n",
       "      <td>2</td>\n",
       "      <td>1</td>\n",
       "      <td>1</td>\n",
       "      <td>Cumings, Mrs. John Bradley (Florence Briggs Th...</td>\n",
       "      <td>0</td>\n",
       "      <td>38.0</td>\n",
       "      <td>1</td>\n",
       "      <td>0</td>\n",
       "      <td>PC 17599</td>\n",
       "      <td>71.2833</td>\n",
       "      <td>C85</td>\n",
       "      <td>C</td>\n",
       "      <td>1</td>\n",
       "    </tr>\n",
       "    <tr>\n",
       "      <th>2</th>\n",
       "      <td>3</td>\n",
       "      <td>1</td>\n",
       "      <td>3</td>\n",
       "      <td>Heikkinen, Miss. Laina</td>\n",
       "      <td>0</td>\n",
       "      <td>26.0</td>\n",
       "      <td>0</td>\n",
       "      <td>0</td>\n",
       "      <td>STON/O2. 3101282</td>\n",
       "      <td>7.9250</td>\n",
       "      <td>NaN</td>\n",
       "      <td>S</td>\n",
       "      <td>0</td>\n",
       "    </tr>\n",
       "    <tr>\n",
       "      <th>3</th>\n",
       "      <td>4</td>\n",
       "      <td>1</td>\n",
       "      <td>1</td>\n",
       "      <td>Futrelle, Mrs. Jacques Heath (Lily May Peel)</td>\n",
       "      <td>0</td>\n",
       "      <td>35.0</td>\n",
       "      <td>1</td>\n",
       "      <td>0</td>\n",
       "      <td>113803</td>\n",
       "      <td>53.1000</td>\n",
       "      <td>C123</td>\n",
       "      <td>S</td>\n",
       "      <td>1</td>\n",
       "    </tr>\n",
       "    <tr>\n",
       "      <th>4</th>\n",
       "      <td>5</td>\n",
       "      <td>0</td>\n",
       "      <td>3</td>\n",
       "      <td>Allen, Mr. William Henry</td>\n",
       "      <td>1</td>\n",
       "      <td>35.0</td>\n",
       "      <td>0</td>\n",
       "      <td>0</td>\n",
       "      <td>373450</td>\n",
       "      <td>8.0500</td>\n",
       "      <td>NaN</td>\n",
       "      <td>S</td>\n",
       "      <td>0</td>\n",
       "    </tr>\n",
       "  </tbody>\n",
       "</table>\n",
       "</div>"
      ],
      "text/plain": [
       "   PassengerId  Survived  Pclass  \\\n",
       "0            1         0       3   \n",
       "1            2         1       1   \n",
       "2            3         1       3   \n",
       "3            4         1       1   \n",
       "4            5         0       3   \n",
       "\n",
       "                                                Name  Sex   Age  SibSp  Parch  \\\n",
       "0                            Braund, Mr. Owen Harris    1  22.0      1      0   \n",
       "1  Cumings, Mrs. John Bradley (Florence Briggs Th...    0  38.0      1      0   \n",
       "2                             Heikkinen, Miss. Laina    0  26.0      0      0   \n",
       "3       Futrelle, Mrs. Jacques Heath (Lily May Peel)    0  35.0      1      0   \n",
       "4                           Allen, Mr. William Henry    1  35.0      0      0   \n",
       "\n",
       "             Ticket     Fare Cabin Embarked  FirstClass  \n",
       "0         A/5 21171   7.2500   NaN        S           0  \n",
       "1          PC 17599  71.2833   C85        C           1  \n",
       "2  STON/O2. 3101282   7.9250   NaN        S           0  \n",
       "3            113803  53.1000  C123        S           1  \n",
       "4            373450   8.0500   NaN        S           0  "
      ]
     },
     "execution_count": 6,
     "metadata": {},
     "output_type": "execute_result"
    }
   ],
   "source": [
    "import category_encoders as ce\n",
    "encoder = ce.OrdinalEncoder(cols=['Embarked'])\n",
    "\n",
    "#df = encoder.fit_transform(df)\n",
    "#test = encoder.fit_transform(test)\n",
    "#test.head()\n",
    "df['Pclass'].value_counts()\n",
    "df['FirstClass']=df['Pclass'].apply(lambda x: 1 if x==1 else 0)\n",
    "df.head()"
   ]
  },
  {
   "cell_type": "markdown",
   "id": "d0bcb279",
   "metadata": {
    "papermill": {
     "duration": 0.03294,
     "end_time": "2022-10-02T17:28:34.883017",
     "exception": false,
     "start_time": "2022-10-02T17:28:34.850077",
     "status": "completed"
    },
    "tags": []
   },
   "source": [
    "# Examine Target Variable\n",
    "Survived is the Y variable we will be analyzing. Since the survival rete is 0.384 the data is not considered unbalanced. "
   ]
  },
  {
   "cell_type": "code",
   "execution_count": 7,
   "id": "4b1f625e",
   "metadata": {
    "execution": {
     "iopub.execute_input": "2022-10-02T17:28:34.949111Z",
     "iopub.status.busy": "2022-10-02T17:28:34.948831Z",
     "iopub.status.idle": "2022-10-02T17:28:34.956655Z",
     "shell.execute_reply": "2022-10-02T17:28:34.955677Z"
    },
    "papermill": {
     "duration": 0.043986,
     "end_time": "2022-10-02T17:28:34.959340",
     "exception": false,
     "start_time": "2022-10-02T17:28:34.915354",
     "status": "completed"
    },
    "tags": []
   },
   "outputs": [
    {
     "name": "stdout",
     "output_type": "stream",
     "text": [
      "0    549\n",
      "1    342\n",
      "Name: Survived, dtype: int64\n",
      "Percent that survived:  0.384\n"
     ]
    }
   ],
   "source": [
    "temp=df['Survived'].value_counts()\n",
    "print(temp)\n",
    "no=temp[0]\n",
    "yes=temp[1]\n",
    "percent=round(yes/(yes+no),3)\n",
    "print(\"Percent that survived: \", percent)"
   ]
  },
  {
   "cell_type": "markdown",
   "id": "b2c1cd17",
   "metadata": {
    "papermill": {
     "duration": 0.032719,
     "end_time": "2022-10-02T17:28:35.026211",
     "exception": false,
     "start_time": "2022-10-02T17:28:34.993492",
     "status": "completed"
    },
    "tags": []
   },
   "source": [
    "# Numeric DataFrame\n",
    "For now, we will analyze only numeric values. Categorical values will need to be encoded or analyzed individually."
   ]
  },
  {
   "cell_type": "code",
   "execution_count": 8,
   "id": "1033644b",
   "metadata": {
    "execution": {
     "iopub.execute_input": "2022-10-02T17:28:35.093432Z",
     "iopub.status.busy": "2022-10-02T17:28:35.092866Z",
     "iopub.status.idle": "2022-10-02T17:28:35.109704Z",
     "shell.execute_reply": "2022-10-02T17:28:35.108304Z"
    },
    "papermill": {
     "duration": 0.052878,
     "end_time": "2022-10-02T17:28:35.111990",
     "exception": false,
     "start_time": "2022-10-02T17:28:35.059112",
     "status": "completed"
    },
    "tags": []
   },
   "outputs": [
    {
     "data": {
      "text/html": [
       "<div>\n",
       "<style scoped>\n",
       "    .dataframe tbody tr th:only-of-type {\n",
       "        vertical-align: middle;\n",
       "    }\n",
       "\n",
       "    .dataframe tbody tr th {\n",
       "        vertical-align: top;\n",
       "    }\n",
       "\n",
       "    .dataframe thead th {\n",
       "        text-align: right;\n",
       "    }\n",
       "</style>\n",
       "<table border=\"1\" class=\"dataframe\">\n",
       "  <thead>\n",
       "    <tr style=\"text-align: right;\">\n",
       "      <th></th>\n",
       "      <th>PassengerId</th>\n",
       "      <th>Survived</th>\n",
       "      <th>Pclass</th>\n",
       "      <th>Sex</th>\n",
       "      <th>Age</th>\n",
       "      <th>SibSp</th>\n",
       "      <th>Parch</th>\n",
       "      <th>Fare</th>\n",
       "      <th>FirstClass</th>\n",
       "    </tr>\n",
       "  </thead>\n",
       "  <tbody>\n",
       "    <tr>\n",
       "      <th>0</th>\n",
       "      <td>1</td>\n",
       "      <td>0</td>\n",
       "      <td>3</td>\n",
       "      <td>1</td>\n",
       "      <td>22.0</td>\n",
       "      <td>1</td>\n",
       "      <td>0</td>\n",
       "      <td>7.2500</td>\n",
       "      <td>0</td>\n",
       "    </tr>\n",
       "    <tr>\n",
       "      <th>1</th>\n",
       "      <td>2</td>\n",
       "      <td>1</td>\n",
       "      <td>1</td>\n",
       "      <td>0</td>\n",
       "      <td>38.0</td>\n",
       "      <td>1</td>\n",
       "      <td>0</td>\n",
       "      <td>71.2833</td>\n",
       "      <td>1</td>\n",
       "    </tr>\n",
       "    <tr>\n",
       "      <th>2</th>\n",
       "      <td>3</td>\n",
       "      <td>1</td>\n",
       "      <td>3</td>\n",
       "      <td>0</td>\n",
       "      <td>26.0</td>\n",
       "      <td>0</td>\n",
       "      <td>0</td>\n",
       "      <td>7.9250</td>\n",
       "      <td>0</td>\n",
       "    </tr>\n",
       "    <tr>\n",
       "      <th>3</th>\n",
       "      <td>4</td>\n",
       "      <td>1</td>\n",
       "      <td>1</td>\n",
       "      <td>0</td>\n",
       "      <td>35.0</td>\n",
       "      <td>1</td>\n",
       "      <td>0</td>\n",
       "      <td>53.1000</td>\n",
       "      <td>1</td>\n",
       "    </tr>\n",
       "    <tr>\n",
       "      <th>4</th>\n",
       "      <td>5</td>\n",
       "      <td>0</td>\n",
       "      <td>3</td>\n",
       "      <td>1</td>\n",
       "      <td>35.0</td>\n",
       "      <td>0</td>\n",
       "      <td>0</td>\n",
       "      <td>8.0500</td>\n",
       "      <td>0</td>\n",
       "    </tr>\n",
       "  </tbody>\n",
       "</table>\n",
       "</div>"
      ],
      "text/plain": [
       "   PassengerId  Survived  Pclass  Sex   Age  SibSp  Parch     Fare  FirstClass\n",
       "0            1         0       3    1  22.0      1      0   7.2500           0\n",
       "1            2         1       1    0  38.0      1      0  71.2833           1\n",
       "2            3         1       3    0  26.0      0      0   7.9250           0\n",
       "3            4         1       1    0  35.0      1      0  53.1000           1\n",
       "4            5         0       3    1  35.0      0      0   8.0500           0"
      ]
     },
     "execution_count": 8,
     "metadata": {},
     "output_type": "execute_result"
    }
   ],
   "source": [
    "numerics = ['int16', 'int32', 'int64', 'float16', 'float32', 'float64']\n",
    "df = df.select_dtypes(include=numerics)\n",
    "df.head()"
   ]
  },
  {
   "cell_type": "markdown",
   "id": "0a25f2ed",
   "metadata": {
    "papermill": {
     "duration": 0.033808,
     "end_time": "2022-10-02T17:28:35.179059",
     "exception": false,
     "start_time": "2022-10-02T17:28:35.145251",
     "status": "completed"
    },
    "tags": []
   },
   "source": [
    "# Correlations"
   ]
  },
  {
   "cell_type": "code",
   "execution_count": 9,
   "id": "9d89642a",
   "metadata": {
    "execution": {
     "iopub.execute_input": "2022-10-02T17:28:35.247016Z",
     "iopub.status.busy": "2022-10-02T17:28:35.246033Z",
     "iopub.status.idle": "2022-10-02T17:28:35.813332Z",
     "shell.execute_reply": "2022-10-02T17:28:35.811246Z"
    },
    "papermill": {
     "duration": 0.603817,
     "end_time": "2022-10-02T17:28:35.815744",
     "exception": false,
     "start_time": "2022-10-02T17:28:35.211927",
     "status": "completed"
    },
    "tags": []
   },
   "outputs": [
    {
     "data": {
      "text/plain": [
       "<AxesSubplot:>"
      ]
     },
     "execution_count": 9,
     "metadata": {},
     "output_type": "execute_result"
    },
    {
     "data": {
      "image/png": "[encoded data removed]",
      "text/plain": [
       "<Figure size 432x288 with 2 Axes>"
      ]
     },
     "metadata": {
      "needs_background": "light"
     },
     "output_type": "display_data"
    }
   ],
   "source": [
    "import seaborn as sns\n",
    "corr= df.corr()\n",
    "matrix = np.triu(corr)\n",
    "sns.heatmap(corr, annot=True, mask=matrix)"
   ]
  },
  {
   "cell_type": "markdown",
   "id": "d3d36749",
   "metadata": {
    "papermill": {
     "duration": 0.037365,
     "end_time": "2022-10-02T17:28:35.888998",
     "exception": false,
     "start_time": "2022-10-02T17:28:35.851633",
     "status": "completed"
    },
    "tags": []
   },
   "source": [
    "# Check for missing values\n",
    "Age is missing around 20% of values.Therefore, we can simply fill in the mean for that one column."
   ]
  },
  {
   "cell_type": "code",
   "execution_count": 10,
   "id": "4682554a",
   "metadata": {
    "execution": {
     "iopub.execute_input": "2022-10-02T17:28:35.961485Z",
     "iopub.status.busy": "2022-10-02T17:28:35.961156Z",
     "iopub.status.idle": "2022-10-02T17:28:35.971262Z",
     "shell.execute_reply": "2022-10-02T17:28:35.969986Z"
    },
    "papermill": {
     "duration": 0.049077,
     "end_time": "2022-10-02T17:28:35.973794",
     "exception": false,
     "start_time": "2022-10-02T17:28:35.924717",
     "status": "completed"
    },
    "tags": []
   },
   "outputs": [
    {
     "name": "stdout",
     "output_type": "stream",
     "text": [
      "Missing data by column as a percent:\n",
      "Age            0.198653\n",
      "PassengerId    0.000000\n",
      "Survived       0.000000\n",
      "Pclass         0.000000\n",
      "Sex            0.000000\n",
      "dtype: float64\n"
     ]
    }
   ],
   "source": [
    "#search for columns with missing values:\n",
    "def findNA():\n",
    "    print(\"Missing data by column as a percent:\")\n",
    "    findNA=df.isnull().sum().sort_values(ascending=False)/len(df)\n",
    "    print(findNA.head())\n",
    "findNA() "
   ]
  },
  {
   "cell_type": "code",
   "execution_count": 11,
   "id": "cb4d62c2",
   "metadata": {
    "execution": {
     "iopub.execute_input": "2022-10-02T17:28:36.049541Z",
     "iopub.status.busy": "2022-10-02T17:28:36.049224Z",
     "iopub.status.idle": "2022-10-02T17:28:36.059411Z",
     "shell.execute_reply": "2022-10-02T17:28:36.058442Z"
    },
    "papermill": {
     "duration": 0.050375,
     "end_time": "2022-10-02T17:28:36.061715",
     "exception": false,
     "start_time": "2022-10-02T17:28:36.011340",
     "status": "completed"
    },
    "tags": []
   },
   "outputs": [],
   "source": [
    "df= df.fillna(df.mean())"
   ]
  },
  {
   "cell_type": "markdown",
   "id": "c0388932",
   "metadata": {
    "papermill": {
     "duration": 0.036032,
     "end_time": "2022-10-02T17:28:36.134343",
     "exception": false,
     "start_time": "2022-10-02T17:28:36.098311",
     "status": "completed"
    },
    "tags": []
   },
   "source": [
    "# Split Data"
   ]
  },
  {
   "cell_type": "code",
   "execution_count": 12,
   "id": "6d9bf5f0",
   "metadata": {
    "execution": {
     "iopub.execute_input": "2022-10-02T17:28:36.207317Z",
     "iopub.status.busy": "2022-10-02T17:28:36.206987Z",
     "iopub.status.idle": "2022-10-02T17:28:36.214413Z",
     "shell.execute_reply": "2022-10-02T17:28:36.213825Z"
    },
    "papermill": {
     "duration": 0.04662,
     "end_time": "2022-10-02T17:28:36.216290",
     "exception": false,
     "start_time": "2022-10-02T17:28:36.169670",
     "status": "completed"
    },
    "tags": []
   },
   "outputs": [],
   "source": [
    "X=df.drop('Survived', axis=1)\n",
    "y=df['Survived']\n",
    "\n",
    "X_train, X_test, y_train, y_test = train_test_split(\n",
    "    X, y, test_size = 0.30, random_state = 42)"
   ]
  },
  {
   "cell_type": "markdown",
   "id": "4b95b22e",
   "metadata": {
    "papermill": {
     "duration": 0.036789,
     "end_time": "2022-10-02T17:28:36.290301",
     "exception": false,
     "start_time": "2022-10-02T17:28:36.253512",
     "status": "completed"
    },
    "tags": []
   },
   "source": [
    "# Highly Correlated Features\n",
    "There are no highly correlated variables above 80%. Therefore, we do not need to be concerned about removing variables that are too highly correlated. "
   ]
  },
  {
   "cell_type": "markdown",
   "id": "bd43f986",
   "metadata": {
    "papermill": {
     "duration": 0.035102,
     "end_time": "2022-10-02T17:28:36.362401",
     "exception": false,
     "start_time": "2022-10-02T17:28:36.327299",
     "status": "completed"
    },
    "tags": []
   },
   "source": [
    "# Tunning Tree"
   ]
  },
  {
   "cell_type": "code",
   "execution_count": 13,
   "id": "81063a2f",
   "metadata": {
    "execution": {
     "iopub.execute_input": "2022-10-02T17:28:36.436327Z",
     "iopub.status.busy": "2022-10-02T17:28:36.436002Z",
     "iopub.status.idle": "2022-10-02T17:28:37.543913Z",
     "shell.execute_reply": "2022-10-02T17:28:37.542848Z"
    },
    "papermill": {
     "duration": 1.148161,
     "end_time": "2022-10-02T17:28:37.546394",
     "exception": false,
     "start_time": "2022-10-02T17:28:36.398233",
     "status": "completed"
    },
    "tags": []
   },
   "outputs": [
    {
     "data": {
      "image/png": "[encoded data removed]",
      "text/plain": [
       "<Figure size 432x288 with 1 Axes>"
      ]
     },
     "metadata": {
      "needs_background": "light"
     },
     "output_type": "display_data"
    },
    {
     "data": {
      "image/png": "[encoded data removed]",
      "text/plain": [
       "<Figure size 432x288 with 1 Axes>"
      ]
     },
     "metadata": {
      "needs_background": "light"
     },
     "output_type": "display_data"
    },
    {
     "data": {
      "image/png": "[encoded data removed]",
      "text/plain": [
       "<Figure size 432x288 with 1 Axes>"
      ]
     },
     "metadata": {
      "needs_background": "light"
     },
     "output_type": "display_data"
    },
    {
     "data": {
      "image/png": "[encoded data removed]",
      "text/plain": [
       "<Figure size 432x288 with 1 Axes>"
      ]
     },
     "metadata": {
      "needs_background": "light"
     },
     "output_type": "display_data"
    }
   ],
   "source": [
    "from sklearn.tree import DecisionTreeRegressor, DecisionTreeClassifier\n",
    "from sklearn.model_selection import GridSearchCV\n",
    "\n",
    "#FIND best_tree_size LEAF NODES:\n",
    "def calcLeaf():\n",
    "    leafList = [None, 2, 4, 5, 10, 20]\n",
    "    accList=[]\n",
    "    maeList=[]\n",
    "    \n",
    "    for leaf in leafList:\n",
    "        tree = DecisionTreeClassifier(max_leaf_nodes=leaf, random_state=42)\n",
    "        tree.fit(X_train, y_train)\n",
    "        y_pred = tree.predict(X_test)\n",
    "        mae = mean_absolute_error(y_test, y_pred).round(4)\n",
    "        treeAUC = round( metrics.roc_auc_score(y_test, y_pred), 4 ) \n",
    "        accList.append(treeAUC)\n",
    "        maeList.append(mae)\n",
    "    \n",
    "    plt.plot(leafList,accList, label=\"Accuracy\")\n",
    "    plt.title('Decision Tree')\n",
    "    plt.xlabel('max_leaf_nodes')\n",
    "    plt.ylabel('Accuracy')\n",
    "    plt.legend()\n",
    "    plt.show()         \n",
    "    \n",
    "    plt.plot(leafList, maeList, label=\"Error\")\n",
    "    plt.title('Decision Tree')\n",
    "    plt.xlabel('max_leaf_nodes')\n",
    "    plt.ylabel('Error')\n",
    "    plt.legend()\n",
    "    plt.show()  \n",
    "    \n",
    "def calcDepth():\n",
    "    maxDepthList = [2, 3, 5, 6, 7, 8, 9, 10]\n",
    "    accList=[]\n",
    "    maeList=[]\n",
    "    \n",
    "    for d in maxDepthList:\n",
    "        tree = DecisionTreeClassifier(max_depth=d, random_state=42)\n",
    "        tree.fit(X_train, y_train)\n",
    "        y_pred = tree.predict(X_test)\n",
    "        mae = mean_absolute_error(y_test, y_pred).round(4)\n",
    "        treeAUC = round( metrics.roc_auc_score(y_test, y_pred), 4 ) \n",
    "        maeList.append(mae)\n",
    "        accList.append(treeAUC)\n",
    "        #print(d, \" max_depth || AUC \", treeAUC, \" || MAE: \", mae)\n",
    "\n",
    "    plt.plot(maxDepthList,accList, label=\"accuracy\")\n",
    "    plt.title('Decision Tree')\n",
    "    plt.xlabel('MaxDepth')\n",
    "    plt.ylabel('Accuracy')\n",
    "    plt.legend()\n",
    "    plt.show()         \n",
    "    \n",
    "    plt.plot(maxDepthList,maeList, label=\"error\")\n",
    "    plt.title('Decision Tree')\n",
    "    plt.xlabel('MaxDepth')\n",
    "    plt.ylabel('Error')\n",
    "    plt.legend()\n",
    "    plt.show()     \n",
    "    \n",
    "#TURN FUNCTION OFF OR ON BELOW:   \n",
    "calcLeaf()\n",
    "calcDepth() "
   ]
  },
  {
   "cell_type": "code",
   "execution_count": 14,
   "id": "71ccb359",
   "metadata": {
    "execution": {
     "iopub.execute_input": "2022-10-02T17:28:37.628809Z",
     "iopub.status.busy": "2022-10-02T17:28:37.628491Z",
     "iopub.status.idle": "2022-10-02T17:28:38.078568Z",
     "shell.execute_reply": "2022-10-02T17:28:38.077844Z"
    },
    "papermill": {
     "duration": 0.493059,
     "end_time": "2022-10-02T17:28:38.080625",
     "exception": false,
     "start_time": "2022-10-02T17:28:37.587566",
     "status": "completed"
    },
    "tags": []
   },
   "outputs": [
    {
     "data": {
      "image/png": "[encoded data removed]",
      "text/plain": [
       "<Figure size 432x288 with 1 Axes>"
      ]
     },
     "metadata": {
      "needs_background": "light"
     },
     "output_type": "display_data"
    },
    {
     "data": {
      "image/png": "[encoded data removed]",
      "text/plain": [
       "<Figure size 432x288 with 1 Axes>"
      ]
     },
     "metadata": {
      "needs_background": "light"
     },
     "output_type": "display_data"
    }
   ],
   "source": [
    "def calcMin():\n",
    "    numbers = [.01, .3, .5, 1]\n",
    "    accList=[]\n",
    "    maeList=[]\n",
    "    \n",
    "    for n in numbers:\n",
    "        tree = DecisionTreeClassifier(min_samples_leaf=n, random_state=42)\n",
    "        tree.fit(X_train, y_train)\n",
    "        y_pred = tree.predict(X_test)\n",
    "        mae = mean_absolute_error(y_test, y_pred).round(4)\n",
    "        treeAUC = round( metrics.roc_auc_score(y_test, y_pred), 4 ) \n",
    "        maeList.append(mae)\n",
    "        accList.append(treeAUC)\n",
    "        #print(d, \" max_depth || AUC \", treeAUC, \" || MAE: \", mae)\n",
    "\n",
    "    plt.plot(numbers,accList, label=\"accuracy\")\n",
    "    plt.title('Decision Tree')\n",
    "    plt.xlabel('Min_samples_leaf')\n",
    "    plt.ylabel('Accuracy')\n",
    "    plt.legend()\n",
    "    plt.show()         \n",
    "    \n",
    "    plt.plot(numbers,maeList, label=\"error\")\n",
    "    plt.title('Decision Tree')\n",
    "    plt.xlabel('Min_samples_leaf')\n",
    "    plt.ylabel('Error')\n",
    "    plt.legend()\n",
    "    plt.show()  \n",
    "calcMin()"
   ]
  },
  {
   "cell_type": "code",
   "execution_count": 15,
   "id": "7afc12db",
   "metadata": {
    "execution": {
     "iopub.execute_input": "2022-10-02T17:28:38.167833Z",
     "iopub.status.busy": "2022-10-02T17:28:38.166691Z",
     "iopub.status.idle": "2022-10-02T17:28:38.672181Z",
     "shell.execute_reply": "2022-10-02T17:28:38.671468Z"
    },
    "papermill": {
     "duration": 0.552744,
     "end_time": "2022-10-02T17:28:38.674952",
     "exception": false,
     "start_time": "2022-10-02T17:28:38.122208",
     "status": "completed"
    },
    "tags": []
   },
   "outputs": [
    {
     "data": {
      "image/png": "[encoded data removed]",
      "text/plain": [
       "<Figure size 432x288 with 1 Axes>"
      ]
     },
     "metadata": {
      "needs_background": "light"
     },
     "output_type": "display_data"
    },
    {
     "data": {
      "image/png": "[encoded data removed]",
      "text/plain": [
       "<Figure size 432x288 with 1 Axes>"
      ]
     },
     "metadata": {
      "needs_background": "light"
     },
     "output_type": "display_data"
    }
   ],
   "source": [
    "def calcMax():\n",
    "    name='max_features'\n",
    "    numbers = [None, 0.2, 0.4, 0.6, 0.8, .9]\n",
    "    accList=[]\n",
    "    maeList=[]\n",
    "\n",
    "    for n in numbers:\n",
    "        tree = DecisionTreeClassifier(max_features=n, random_state=42)\n",
    "        tree.fit(X_train, y_train)\n",
    "        y_pred = tree.predict(X_test)\n",
    "        mae = mean_absolute_error(y_test, y_pred).round(4)\n",
    "        treeAUC = round( metrics.roc_auc_score(y_test, y_pred), 4 ) \n",
    "        maeList.append(mae)\n",
    "        accList.append(treeAUC)\n",
    "        #print(d, \" max_depth || AUC \", treeAUC, \" || MAE: \", mae)\n",
    "\n",
    "    plt.plot(numbers,accList, label=\"accuracy\")\n",
    "    plt.title('Decision Tree')\n",
    "    plt.xlabel(name)\n",
    "    plt.ylabel('Accuracy')\n",
    "    plt.legend()\n",
    "    plt.show()         \n",
    "    \n",
    "    plt.plot(numbers,maeList, label=\"error\")\n",
    "    plt.title('Decision Tree')\n",
    "    plt.xlabel(name)\n",
    "    plt.ylabel('Error')\n",
    "    plt.legend()\n",
    "    plt.show()  \n",
    "calcMax()"
   ]
  },
  {
   "cell_type": "markdown",
   "id": "1ae15dcd",
   "metadata": {
    "papermill": {
     "duration": 0.04461,
     "end_time": "2022-10-02T17:28:38.764484",
     "exception": false,
     "start_time": "2022-10-02T17:28:38.719874",
     "status": "completed"
    },
    "tags": []
   },
   "source": [
    "# GridSearch Tree\n",
    "Using entropy versus gini makes little difference see notes page at end for more information. \n",
    "* Top 10%  DecisionTreeClassifier(criterion='entropy', max_depth=5, max_features=0.5,\n",
    "                       min_samples_leaf=0.01)"
   ]
  },
  {
   "cell_type": "code",
   "execution_count": 16,
   "id": "eaf1e4ea",
   "metadata": {
    "execution": {
     "iopub.execute_input": "2022-10-02T17:28:38.857667Z",
     "iopub.status.busy": "2022-10-02T17:28:38.857361Z",
     "iopub.status.idle": "2022-10-02T17:29:00.342941Z",
     "shell.execute_reply": "2022-10-02T17:29:00.341903Z"
    },
    "papermill": {
     "duration": 21.534401,
     "end_time": "2022-10-02T17:29:00.345222",
     "exception": false,
     "start_time": "2022-10-02T17:28:38.810821",
     "status": "completed"
    },
    "tags": []
   },
   "outputs": [
    {
     "name": "stdout",
     "output_type": "stream",
     "text": [
      "DecisionTreeClassifier(max_depth=5, max_features=0.7, min_samples_leaf=0.01)\n"
     ]
    }
   ],
   "source": [
    "tree_param = {'criterion':['entropy', 'gini'],\n",
    "            'max_depth':[2, 3,4,5, 6, 7],\n",
    "             'max_leaf_nodes':[None, 2, 3], \n",
    "              'min_samples_leaf':[.01, .3, .5, 1],\n",
    "            'max_features':[.1, .2, .3, .5, .7, .9]\n",
    "             }\n",
    "treeGrid=GridSearchCV(DecisionTreeClassifier(), tree_param, cv=5, scoring='accuracy')\n",
    "treeGrid.fit(X, y)\n",
    "print(treeGrid.best_estimator_)"
   ]
  },
  {
   "cell_type": "markdown",
   "id": "f9eeca98",
   "metadata": {
    "papermill": {
     "duration": 0.043852,
     "end_time": "2022-10-02T17:29:00.433519",
     "exception": false,
     "start_time": "2022-10-02T17:29:00.389667",
     "status": "completed"
    },
    "tags": []
   },
   "source": [
    "#### Final Decision Tree Prediction\n",
    "Inputs below such as best_depth by using functions above."
   ]
  },
  {
   "cell_type": "code",
   "execution_count": 17,
   "id": "0ff18c39",
   "metadata": {
    "execution": {
     "iopub.execute_input": "2022-10-02T17:29:00.523772Z",
     "iopub.status.busy": "2022-10-02T17:29:00.523452Z",
     "iopub.status.idle": "2022-10-02T17:29:00.574696Z",
     "shell.execute_reply": "2022-10-02T17:29:00.573714Z"
    },
    "papermill": {
     "duration": 0.099634,
     "end_time": "2022-10-02T17:29:00.577176",
     "exception": false,
     "start_time": "2022-10-02T17:29:00.477542",
     "status": "completed"
    },
    "tags": []
   },
   "outputs": [
    {
     "name": "stdout",
     "output_type": "stream",
     "text": [
      "AUC for decision tree is:  0.8137\n",
      "0.4052  is tree MSE \n",
      "0.7991  ||  0.8358\n",
      "0.036699999999999955  cross validate score\n"
     ]
    }
   ],
   "source": [
    "dtree = DecisionTreeClassifier(\n",
    "    criterion='entropy',\n",
    "    max_depth=5, \n",
    "    max_features=.5,\n",
    "    max_leaf_nodes=None,\n",
    "    min_samples_leaf=.01\n",
    ")\n",
    "\n",
    "#FIT AND PREDICT:\n",
    "dtree.fit(X, y)\n",
    "y_pred =  dtree.predict(X_test)\n",
    "\n",
    "#Calculate Metrics:\n",
    "treeR2 = r2_score(y_test, y_pred).round(4)\n",
    "treeAUC = round( metrics.roc_auc_score(y_test, y_pred), 4 ) \n",
    "print(\"AUC for decision tree is: \", treeAUC)\n",
    "\n",
    "treeMSE=np.sqrt(metrics.mean_squared_error(y_test, y_pred))\n",
    "print(round(treeMSE, 4), \" is tree MSE \")\n",
    "\n",
    "#Cross Validate:\n",
    "treeScore = dtree.score(X_test, y_test).round(4)  \n",
    "treeCV = cross_validate(dtree, X, y, cv = 5)\n",
    "treeCV=treeCV['test_score'].mean().round(4)\n",
    "print(treeCV, ' || ', treeScore)\n",
    "print(treeScore-treeCV, \" cross validate score\")"
   ]
  },
  {
   "cell_type": "code",
   "execution_count": 18,
   "id": "fd6322fd",
   "metadata": {
    "execution": {
     "iopub.execute_input": "2022-10-02T17:29:00.674875Z",
     "iopub.status.busy": "2022-10-02T17:29:00.673760Z",
     "iopub.status.idle": "2022-10-02T17:29:01.872310Z",
     "shell.execute_reply": "2022-10-02T17:29:01.871188Z"
    },
    "papermill": {
     "duration": 1.251145,
     "end_time": "2022-10-02T17:29:01.875095",
     "exception": false,
     "start_time": "2022-10-02T17:29:00.623950",
     "status": "completed"
    },
    "tags": []
   },
   "outputs": [
    {
     "data": {
      "image/svg+xml": [
       "<?xml version=\"1.0\" encoding=\"UTF-8\" standalone=\"no\"?>\n",
       "<!DOCTYPE svg PUBLIC \"-//W3C//DTD SVG 1.1//EN\"\n",
       " \"http://www.w3.org/Graphics/SVG/1.1/DTD/svg11.dtd\">\n",
       "<!-- Generated by graphviz version 2.50.0 (20211209.0339)\n",
       " -->\n",
       "<!-- Title: Tree Pages: 1 -->\n",
       "<svg width=\"2575pt\" height=\"581pt\"\n",
       " viewBox=\"0.00 0.00 2575.00 581.00\" xmlns=\"http://www.w3.org/2000/svg\" xmlns:xlink=\"http://www.w3.org/1999/xlink\">\n",
       "<g id=\"graph0\" class=\"graph\" transform=\"scale(1 1) rotate(0) translate(4 577)\">\n",
       "<title>Tree</title>\n",
       "<polygon fill=\"white\" stroke=\"transparent\" points=\"-4,4 -4,-577 2571,-577 2571,4 -4,4\"/>\n",
       "<!-- 0 -->\n",
       "<g id=\"node1\" class=\"node\">\n",
       "<title>0</title>\n",
       "<path fill=\"none\" stroke=\"black\" d=\"M1340,-573C1340,-573 1215,-573 1215,-573 1209,-573 1203,-567 1203,-561 1203,-561 1203,-517 1203,-517 1203,-511 1209,-505 1215,-505 1215,-505 1340,-505 1340,-505 1346,-505 1352,-511 1352,-517 1352,-517 1352,-561 1352,-561 1352,-567 1346,-573 1340,-573\"/>\n",
       "<text text-anchor=\"middle\" x=\"1277.5\" y=\"-557.8\" font-family=\"Helvetica,sans-Serif\" font-size=\"14.00\">Sex &lt;= 0.5</text>\n",
       "<text text-anchor=\"middle\" x=\"1277.5\" y=\"-542.8\" font-family=\"Helvetica,sans-Serif\" font-size=\"14.00\">entropy = 0.961</text>\n",
       "<text text-anchor=\"middle\" x=\"1277.5\" y=\"-527.8\" font-family=\"Helvetica,sans-Serif\" font-size=\"14.00\">samples = 891</text>\n",
       "<text text-anchor=\"middle\" x=\"1277.5\" y=\"-512.8\" font-family=\"Helvetica,sans-Serif\" font-size=\"14.00\">value = [549, 342]</text>\n",
       "</g>\n",
       "<!-- 1 -->\n",
       "<g id=\"node2\" class=\"node\">\n",
       "<title>1</title>\n",
       "<path fill=\"none\" stroke=\"black\" d=\"M1041.5,-469C1041.5,-469 925.5,-469 925.5,-469 919.5,-469 913.5,-463 913.5,-457 913.5,-457 913.5,-413 913.5,-413 913.5,-407 919.5,-401 925.5,-401 925.5,-401 1041.5,-401 1041.5,-401 1047.5,-401 1053.5,-407 1053.5,-413 1053.5,-413 1053.5,-457 1053.5,-457 1053.5,-463 1047.5,-469 1041.5,-469\"/>\n",
       "<text text-anchor=\"middle\" x=\"983.5\" y=\"-453.8\" font-family=\"Helvetica,sans-Serif\" font-size=\"14.00\">Pclass &lt;= 2.5</text>\n",
       "<text text-anchor=\"middle\" x=\"983.5\" y=\"-438.8\" font-family=\"Helvetica,sans-Serif\" font-size=\"14.00\">entropy = 0.824</text>\n",
       "<text text-anchor=\"middle\" x=\"983.5\" y=\"-423.8\" font-family=\"Helvetica,sans-Serif\" font-size=\"14.00\">samples = 314</text>\n",
       "<text text-anchor=\"middle\" x=\"983.5\" y=\"-408.8\" font-family=\"Helvetica,sans-Serif\" font-size=\"14.00\">value = [81, 233]</text>\n",
       "</g>\n",
       "<!-- 0&#45;&gt;1 -->\n",
       "<g id=\"edge1\" class=\"edge\">\n",
       "<title>0&#45;&gt;1</title>\n",
       "<path fill=\"none\" stroke=\"black\" d=\"M1202.93,-512.13C1160.31,-497.34 1106.85,-478.8 1063.38,-463.71\"/>\n",
       "<polygon fill=\"black\" stroke=\"black\" points=\"1064.29,-460.32 1053.69,-460.35 1061.99,-466.94 1064.29,-460.32\"/>\n",
       "<text text-anchor=\"middle\" x=\"1064.6\" y=\"-479.15\" font-family=\"Helvetica,sans-Serif\" font-size=\"14.00\">True</text>\n",
       "</g>\n",
       "<!-- 20 -->\n",
       "<g id=\"node21\" class=\"node\">\n",
       "<title>20</title>\n",
       "<path fill=\"none\" stroke=\"black\" d=\"M1645,-469C1645,-469 1520,-469 1520,-469 1514,-469 1508,-463 1508,-457 1508,-457 1508,-413 1508,-413 1508,-407 1514,-401 1520,-401 1520,-401 1645,-401 1645,-401 1651,-401 1657,-407 1657,-413 1657,-413 1657,-457 1657,-457 1657,-463 1651,-469 1645,-469\"/>\n",
       "<text text-anchor=\"middle\" x=\"1582.5\" y=\"-453.8\" font-family=\"Helvetica,sans-Serif\" font-size=\"14.00\">FirstClass &lt;= 0.5</text>\n",
       "<text text-anchor=\"middle\" x=\"1582.5\" y=\"-438.8\" font-family=\"Helvetica,sans-Serif\" font-size=\"14.00\">entropy = 0.699</text>\n",
       "<text text-anchor=\"middle\" x=\"1582.5\" y=\"-423.8\" font-family=\"Helvetica,sans-Serif\" font-size=\"14.00\">samples = 577</text>\n",
       "<text text-anchor=\"middle\" x=\"1582.5\" y=\"-408.8\" font-family=\"Helvetica,sans-Serif\" font-size=\"14.00\">value = [468, 109]</text>\n",
       "</g>\n",
       "<!-- 0&#45;&gt;20 -->\n",
       "<g id=\"edge20\" class=\"edge\">\n",
       "<title>0&#45;&gt;20</title>\n",
       "<path fill=\"none\" stroke=\"black\" d=\"M1352.11,-513.05C1396.32,-498.26 1452.46,-479.49 1498.26,-464.17\"/>\n",
       "<polygon fill=\"black\" stroke=\"black\" points=\"1499.49,-467.45 1507.87,-460.96 1497.27,-460.81 1499.49,-467.45\"/>\n",
       "<text text-anchor=\"middle\" x=\"1496.71\" y=\"-479.63\" font-family=\"Helvetica,sans-Serif\" font-size=\"14.00\">False</text>\n",
       "</g>\n",
       "<!-- 2 -->\n",
       "<g id=\"node3\" class=\"node\">\n",
       "<title>2</title>\n",
       "<path fill=\"none\" stroke=\"black\" d=\"M553,-365C553,-365 446,-365 446,-365 440,-365 434,-359 434,-353 434,-353 434,-309 434,-309 434,-303 440,-297 446,-297 446,-297 553,-297 553,-297 559,-297 565,-303 565,-309 565,-309 565,-353 565,-353 565,-359 559,-365 553,-365\"/>\n",
       "<text text-anchor=\"middle\" x=\"499.5\" y=\"-349.8\" font-family=\"Helvetica,sans-Serif\" font-size=\"14.00\">Fare &lt;= 28.856</text>\n",
       "<text text-anchor=\"middle\" x=\"499.5\" y=\"-334.8\" font-family=\"Helvetica,sans-Serif\" font-size=\"14.00\">entropy = 0.299</text>\n",
       "<text text-anchor=\"middle\" x=\"499.5\" y=\"-319.8\" font-family=\"Helvetica,sans-Serif\" font-size=\"14.00\">samples = 170</text>\n",
       "<text text-anchor=\"middle\" x=\"499.5\" y=\"-304.8\" font-family=\"Helvetica,sans-Serif\" font-size=\"14.00\">value = [9, 161]</text>\n",
       "</g>\n",
       "<!-- 1&#45;&gt;2 -->\n",
       "<g id=\"edge2\" class=\"edge\">\n",
       "<title>1&#45;&gt;2</title>\n",
       "<path fill=\"none\" stroke=\"black\" d=\"M913.38,-419.22C823.39,-400.26 667.87,-367.48 575.25,-347.96\"/>\n",
       "<polygon fill=\"black\" stroke=\"black\" points=\"575.89,-344.52 565.38,-345.88 574.44,-351.37 575.89,-344.52\"/>\n",
       "</g>\n",
       "<!-- 11 -->\n",
       "<g id=\"node12\" class=\"node\">\n",
       "<title>11</title>\n",
       "<path fill=\"none\" stroke=\"black\" d=\"M1037,-365C1037,-365 930,-365 930,-365 924,-365 918,-359 918,-353 918,-353 918,-309 918,-309 918,-303 924,-297 930,-297 930,-297 1037,-297 1037,-297 1043,-297 1049,-303 1049,-309 1049,-309 1049,-353 1049,-353 1049,-359 1043,-365 1037,-365\"/>\n",
       "<text text-anchor=\"middle\" x=\"983.5\" y=\"-349.8\" font-family=\"Helvetica,sans-Serif\" font-size=\"14.00\">SibSp &lt;= 2.5</text>\n",
       "<text text-anchor=\"middle\" x=\"983.5\" y=\"-334.8\" font-family=\"Helvetica,sans-Serif\" font-size=\"14.00\">entropy = 1.0</text>\n",
       "<text text-anchor=\"middle\" x=\"983.5\" y=\"-319.8\" font-family=\"Helvetica,sans-Serif\" font-size=\"14.00\">samples = 144</text>\n",
       "<text text-anchor=\"middle\" x=\"983.5\" y=\"-304.8\" font-family=\"Helvetica,sans-Serif\" font-size=\"14.00\">value = [72, 72]</text>\n",
       "</g>\n",
       "<!-- 1&#45;&gt;11 -->\n",
       "<g id=\"edge11\" class=\"edge\">\n",
       "<title>1&#45;&gt;11</title>\n",
       "<path fill=\"none\" stroke=\"black\" d=\"M983.5,-400.88C983.5,-392.78 983.5,-383.98 983.5,-375.47\"/>\n",
       "<polygon fill=\"black\" stroke=\"black\" points=\"987,-375.3 983.5,-365.3 980,-375.3 987,-375.3\"/>\n",
       "</g>\n",
       "<!-- 3 -->\n",
       "<g id=\"node4\" class=\"node\">\n",
       "<title>3</title>\n",
       "<path fill=\"none\" stroke=\"black\" d=\"M336,-261C336,-261 229,-261 229,-261 223,-261 217,-255 217,-249 217,-249 217,-205 217,-205 217,-199 223,-193 229,-193 229,-193 336,-193 336,-193 342,-193 348,-199 348,-205 348,-205 348,-249 348,-249 348,-255 342,-261 336,-261\"/>\n",
       "<text text-anchor=\"middle\" x=\"282.5\" y=\"-245.8\" font-family=\"Helvetica,sans-Serif\" font-size=\"14.00\">Parch &lt;= 1.5</text>\n",
       "<text text-anchor=\"middle\" x=\"282.5\" y=\"-230.8\" font-family=\"Helvetica,sans-Serif\" font-size=\"14.00\">entropy = 0.469</text>\n",
       "<text text-anchor=\"middle\" x=\"282.5\" y=\"-215.8\" font-family=\"Helvetica,sans-Serif\" font-size=\"14.00\">samples = 70</text>\n",
       "<text text-anchor=\"middle\" x=\"282.5\" y=\"-200.8\" font-family=\"Helvetica,sans-Serif\" font-size=\"14.00\">value = [7, 63]</text>\n",
       "</g>\n",
       "<!-- 2&#45;&gt;3 -->\n",
       "<g id=\"edge3\" class=\"edge\">\n",
       "<title>2&#45;&gt;3</title>\n",
       "<path fill=\"none\" stroke=\"black\" d=\"M433.8,-299.12C409.8,-287.84 382.47,-274.99 357.7,-263.35\"/>\n",
       "<polygon fill=\"black\" stroke=\"black\" points=\"358.89,-260.04 348.35,-258.95 355.91,-266.37 358.89,-260.04\"/>\n",
       "</g>\n",
       "<!-- 8 -->\n",
       "<g id=\"node9\" class=\"node\">\n",
       "<title>8</title>\n",
       "<path fill=\"none\" stroke=\"black\" d=\"M553,-261C553,-261 446,-261 446,-261 440,-261 434,-255 434,-249 434,-249 434,-205 434,-205 434,-199 440,-193 446,-193 446,-193 553,-193 553,-193 559,-193 565,-199 565,-205 565,-205 565,-249 565,-249 565,-255 559,-261 553,-261\"/>\n",
       "<text text-anchor=\"middle\" x=\"499.5\" y=\"-245.8\" font-family=\"Helvetica,sans-Serif\" font-size=\"14.00\">Parch &lt;= 1.5</text>\n",
       "<text text-anchor=\"middle\" x=\"499.5\" y=\"-230.8\" font-family=\"Helvetica,sans-Serif\" font-size=\"14.00\">entropy = 0.141</text>\n",
       "<text text-anchor=\"middle\" x=\"499.5\" y=\"-215.8\" font-family=\"Helvetica,sans-Serif\" font-size=\"14.00\">samples = 100</text>\n",
       "<text text-anchor=\"middle\" x=\"499.5\" y=\"-200.8\" font-family=\"Helvetica,sans-Serif\" font-size=\"14.00\">value = [2, 98]</text>\n",
       "</g>\n",
       "<!-- 2&#45;&gt;8 -->\n",
       "<g id=\"edge8\" class=\"edge\">\n",
       "<title>2&#45;&gt;8</title>\n",
       "<path fill=\"none\" stroke=\"black\" d=\"M499.5,-296.88C499.5,-288.78 499.5,-279.98 499.5,-271.47\"/>\n",
       "<polygon fill=\"black\" stroke=\"black\" points=\"503,-271.3 499.5,-261.3 496,-271.3 503,-271.3\"/>\n",
       "</g>\n",
       "<!-- 4 -->\n",
       "<g id=\"node5\" class=\"node\">\n",
       "<title>4</title>\n",
       "<path fill=\"none\" stroke=\"black\" d=\"M191.5,-157C191.5,-157 87.5,-157 87.5,-157 81.5,-157 75.5,-151 75.5,-145 75.5,-145 75.5,-101 75.5,-101 75.5,-95 81.5,-89 87.5,-89 87.5,-89 191.5,-89 191.5,-89 197.5,-89 203.5,-95 203.5,-101 203.5,-101 203.5,-145 203.5,-145 203.5,-151 197.5,-157 191.5,-157\"/>\n",
       "<text text-anchor=\"middle\" x=\"139.5\" y=\"-141.8\" font-family=\"Helvetica,sans-Serif\" font-size=\"14.00\">Fare &lt;= 25.965</text>\n",
       "<text text-anchor=\"middle\" x=\"139.5\" y=\"-126.8\" font-family=\"Helvetica,sans-Serif\" font-size=\"14.00\">entropy = 0.52</text>\n",
       "<text text-anchor=\"middle\" x=\"139.5\" y=\"-111.8\" font-family=\"Helvetica,sans-Serif\" font-size=\"14.00\">samples = 60</text>\n",
       "<text text-anchor=\"middle\" x=\"139.5\" y=\"-96.8\" font-family=\"Helvetica,sans-Serif\" font-size=\"14.00\">value = [7, 53]</text>\n",
       "</g>\n",
       "<!-- 3&#45;&gt;4 -->\n",
       "<g id=\"edge4\" class=\"edge\">\n",
       "<title>3&#45;&gt;4</title>\n",
       "<path fill=\"none\" stroke=\"black\" d=\"M236.07,-192.88C222.83,-183.44 208.29,-173.06 194.59,-163.29\"/>\n",
       "<polygon fill=\"black\" stroke=\"black\" points=\"196.36,-160.26 186.18,-157.3 192.29,-165.96 196.36,-160.26\"/>\n",
       "</g>\n",
       "<!-- 7 -->\n",
       "<g id=\"node8\" class=\"node\">\n",
       "<title>7</title>\n",
       "<path fill=\"none\" stroke=\"black\" d=\"M331.5,-149.5C331.5,-149.5 233.5,-149.5 233.5,-149.5 227.5,-149.5 221.5,-143.5 221.5,-137.5 221.5,-137.5 221.5,-108.5 221.5,-108.5 221.5,-102.5 227.5,-96.5 233.5,-96.5 233.5,-96.5 331.5,-96.5 331.5,-96.5 337.5,-96.5 343.5,-102.5 343.5,-108.5 343.5,-108.5 343.5,-137.5 343.5,-137.5 343.5,-143.5 337.5,-149.5 331.5,-149.5\"/>\n",
       "<text text-anchor=\"middle\" x=\"282.5\" y=\"-134.3\" font-family=\"Helvetica,sans-Serif\" font-size=\"14.00\">entropy = 0.0</text>\n",
       "<text text-anchor=\"middle\" x=\"282.5\" y=\"-119.3\" font-family=\"Helvetica,sans-Serif\" font-size=\"14.00\">samples = 10</text>\n",
       "<text text-anchor=\"middle\" x=\"282.5\" y=\"-104.3\" font-family=\"Helvetica,sans-Serif\" font-size=\"14.00\">value = [0, 10]</text>\n",
       "</g>\n",
       "<!-- 3&#45;&gt;7 -->\n",
       "<g id=\"edge7\" class=\"edge\">\n",
       "<title>3&#45;&gt;7</title>\n",
       "<path fill=\"none\" stroke=\"black\" d=\"M282.5,-192.88C282.5,-182.33 282.5,-170.6 282.5,-159.85\"/>\n",
       "<polygon fill=\"black\" stroke=\"black\" points=\"286,-159.52 282.5,-149.52 279,-159.52 286,-159.52\"/>\n",
       "</g>\n",
       "<!-- 5 -->\n",
       "<g id=\"node6\" class=\"node\">\n",
       "<title>5</title>\n",
       "<path fill=\"none\" stroke=\"black\" d=\"M119,-53C119,-53 12,-53 12,-53 6,-53 0,-47 0,-41 0,-41 0,-12 0,-12 0,-6 6,0 12,0 12,0 119,0 119,0 125,0 131,-6 131,-12 131,-12 131,-41 131,-41 131,-47 125,-53 119,-53\"/>\n",
       "<text text-anchor=\"middle\" x=\"65.5\" y=\"-37.8\" font-family=\"Helvetica,sans-Serif\" font-size=\"14.00\">entropy = 0.461</text>\n",
       "<text text-anchor=\"middle\" x=\"65.5\" y=\"-22.8\" font-family=\"Helvetica,sans-Serif\" font-size=\"14.00\">samples = 41</text>\n",
       "<text text-anchor=\"middle\" x=\"65.5\" y=\"-7.8\" font-family=\"Helvetica,sans-Serif\" font-size=\"14.00\">value = [4, 37]</text>\n",
       "</g>\n",
       "<!-- 4&#45;&gt;5 -->\n",
       "<g id=\"edge5\" class=\"edge\">\n",
       "<title>4&#45;&gt;5</title>\n",
       "<path fill=\"none\" stroke=\"black\" d=\"M113.62,-88.95C106.6,-79.98 98.99,-70.27 91.94,-61.26\"/>\n",
       "<polygon fill=\"black\" stroke=\"black\" points=\"94.57,-58.95 85.65,-53.24 89.06,-63.27 94.57,-58.95\"/>\n",
       "</g>\n",
       "<!-- 6 -->\n",
       "<g id=\"node7\" class=\"node\">\n",
       "<title>6</title>\n",
       "<path fill=\"none\" stroke=\"black\" d=\"M268,-53C268,-53 161,-53 161,-53 155,-53 149,-47 149,-41 149,-41 149,-12 149,-12 149,-6 155,0 161,0 161,0 268,0 268,0 274,0 280,-6 280,-12 280,-12 280,-41 280,-41 280,-47 274,-53 268,-53\"/>\n",
       "<text text-anchor=\"middle\" x=\"214.5\" y=\"-37.8\" font-family=\"Helvetica,sans-Serif\" font-size=\"14.00\">entropy = 0.629</text>\n",
       "<text text-anchor=\"middle\" x=\"214.5\" y=\"-22.8\" font-family=\"Helvetica,sans-Serif\" font-size=\"14.00\">samples = 19</text>\n",
       "<text text-anchor=\"middle\" x=\"214.5\" y=\"-7.8\" font-family=\"Helvetica,sans-Serif\" font-size=\"14.00\">value = [3, 16]</text>\n",
       "</g>\n",
       "<!-- 4&#45;&gt;6 -->\n",
       "<g id=\"edge6\" class=\"edge\">\n",
       "<title>4&#45;&gt;6</title>\n",
       "<path fill=\"none\" stroke=\"black\" d=\"M165.73,-88.95C172.85,-79.98 180.56,-70.27 187.7,-61.26\"/>\n",
       "<polygon fill=\"black\" stroke=\"black\" points=\"190.6,-63.25 194.07,-53.24 185.12,-58.89 190.6,-63.25\"/>\n",
       "</g>\n",
       "<!-- 9 -->\n",
       "<g id=\"node10\" class=\"node\">\n",
       "<title>9</title>\n",
       "<path fill=\"none\" stroke=\"black\" d=\"M471.5,-149.5C471.5,-149.5 373.5,-149.5 373.5,-149.5 367.5,-149.5 361.5,-143.5 361.5,-137.5 361.5,-137.5 361.5,-108.5 361.5,-108.5 361.5,-102.5 367.5,-96.5 373.5,-96.5 373.5,-96.5 471.5,-96.5 471.5,-96.5 477.5,-96.5 483.5,-102.5 483.5,-108.5 483.5,-108.5 483.5,-137.5 483.5,-137.5 483.5,-143.5 477.5,-149.5 471.5,-149.5\"/>\n",
       "<text text-anchor=\"middle\" x=\"422.5\" y=\"-134.3\" font-family=\"Helvetica,sans-Serif\" font-size=\"14.00\">entropy = 0.0</text>\n",
       "<text text-anchor=\"middle\" x=\"422.5\" y=\"-119.3\" font-family=\"Helvetica,sans-Serif\" font-size=\"14.00\">samples = 84</text>\n",
       "<text text-anchor=\"middle\" x=\"422.5\" y=\"-104.3\" font-family=\"Helvetica,sans-Serif\" font-size=\"14.00\">value = [0, 84]</text>\n",
       "</g>\n",
       "<!-- 8&#45;&gt;9 -->\n",
       "<g id=\"edge9\" class=\"edge\">\n",
       "<title>8&#45;&gt;9</title>\n",
       "<path fill=\"none\" stroke=\"black\" d=\"M474.5,-192.88C465.95,-181.56 456.38,-168.88 447.8,-157.52\"/>\n",
       "<polygon fill=\"black\" stroke=\"black\" points=\"450.58,-155.39 441.77,-149.52 445,-159.61 450.58,-155.39\"/>\n",
       "</g>\n",
       "<!-- 10 -->\n",
       "<g id=\"node11\" class=\"node\">\n",
       "<title>10</title>\n",
       "<path fill=\"none\" stroke=\"black\" d=\"M621,-149.5C621,-149.5 514,-149.5 514,-149.5 508,-149.5 502,-143.5 502,-137.5 502,-137.5 502,-108.5 502,-108.5 502,-102.5 508,-96.5 514,-96.5 514,-96.5 621,-96.5 621,-96.5 627,-96.5 633,-102.5 633,-108.5 633,-108.5 633,-137.5 633,-137.5 633,-143.5 627,-149.5 621,-149.5\"/>\n",
       "<text text-anchor=\"middle\" x=\"567.5\" y=\"-134.3\" font-family=\"Helvetica,sans-Serif\" font-size=\"14.00\">entropy = 0.544</text>\n",
       "<text text-anchor=\"middle\" x=\"567.5\" y=\"-119.3\" font-family=\"Helvetica,sans-Serif\" font-size=\"14.00\">samples = 16</text>\n",
       "<text text-anchor=\"middle\" x=\"567.5\" y=\"-104.3\" font-family=\"Helvetica,sans-Serif\" font-size=\"14.00\">value = [2, 14]</text>\n",
       "</g>\n",
       "<!-- 8&#45;&gt;10 -->\n",
       "<g id=\"edge10\" class=\"edge\">\n",
       "<title>8&#45;&gt;10</title>\n",
       "<path fill=\"none\" stroke=\"black\" d=\"M521.58,-192.88C529.06,-181.67 537.42,-169.13 544.93,-157.85\"/>\n",
       "<polygon fill=\"black\" stroke=\"black\" points=\"547.85,-159.78 550.49,-149.52 542.03,-155.9 547.85,-159.78\"/>\n",
       "</g>\n",
       "<!-- 12 -->\n",
       "<g id=\"node13\" class=\"node\">\n",
       "<title>12</title>\n",
       "<path fill=\"none\" stroke=\"black\" d=\"M963,-261C963,-261 856,-261 856,-261 850,-261 844,-255 844,-249 844,-249 844,-205 844,-205 844,-199 850,-193 856,-193 856,-193 963,-193 963,-193 969,-193 975,-199 975,-205 975,-205 975,-249 975,-249 975,-255 969,-261 963,-261\"/>\n",
       "<text text-anchor=\"middle\" x=\"909.5\" y=\"-245.8\" font-family=\"Helvetica,sans-Serif\" font-size=\"14.00\">Age &lt;= 38.5</text>\n",
       "<text text-anchor=\"middle\" x=\"909.5\" y=\"-230.8\" font-family=\"Helvetica,sans-Serif\" font-size=\"14.00\">entropy = 0.993</text>\n",
       "<text text-anchor=\"middle\" x=\"909.5\" y=\"-215.8\" font-family=\"Helvetica,sans-Serif\" font-size=\"14.00\">samples = 126</text>\n",
       "<text text-anchor=\"middle\" x=\"909.5\" y=\"-200.8\" font-family=\"Helvetica,sans-Serif\" font-size=\"14.00\">value = [57, 69]</text>\n",
       "</g>\n",
       "<!-- 11&#45;&gt;12 -->\n",
       "<g id=\"edge12\" class=\"edge\">\n",
       "<title>11&#45;&gt;12</title>\n",
       "<path fill=\"none\" stroke=\"black\" d=\"M959.47,-296.88C953.14,-288.15 946.23,-278.62 939.62,-269.51\"/>\n",
       "<polygon fill=\"black\" stroke=\"black\" points=\"942.36,-267.34 933.66,-261.3 936.7,-271.45 942.36,-267.34\"/>\n",
       "</g>\n",
       "<!-- 17 -->\n",
       "<g id=\"node18\" class=\"node\">\n",
       "<title>17</title>\n",
       "<path fill=\"none\" stroke=\"black\" d=\"M1110.5,-261C1110.5,-261 1006.5,-261 1006.5,-261 1000.5,-261 994.5,-255 994.5,-249 994.5,-249 994.5,-205 994.5,-205 994.5,-199 1000.5,-193 1006.5,-193 1006.5,-193 1110.5,-193 1110.5,-193 1116.5,-193 1122.5,-199 1122.5,-205 1122.5,-205 1122.5,-249 1122.5,-249 1122.5,-255 1116.5,-261 1110.5,-261\"/>\n",
       "<text text-anchor=\"middle\" x=\"1058.5\" y=\"-245.8\" font-family=\"Helvetica,sans-Serif\" font-size=\"14.00\">Fare &lt;= 29.587</text>\n",
       "<text text-anchor=\"middle\" x=\"1058.5\" y=\"-230.8\" font-family=\"Helvetica,sans-Serif\" font-size=\"14.00\">entropy = 0.65</text>\n",
       "<text text-anchor=\"middle\" x=\"1058.5\" y=\"-215.8\" font-family=\"Helvetica,sans-Serif\" font-size=\"14.00\">samples = 18</text>\n",
       "<text text-anchor=\"middle\" x=\"1058.5\" y=\"-200.8\" font-family=\"Helvetica,sans-Serif\" font-size=\"14.00\">value = [15, 3]</text>\n",
       "</g>\n",
       "<!-- 11&#45;&gt;17 -->\n",
       "<g id=\"edge17\" class=\"edge\">\n",
       "<title>11&#45;&gt;17</title>\n",
       "<path fill=\"none\" stroke=\"black\" d=\"M1007.85,-296.88C1014.27,-288.15 1021.28,-278.62 1027.98,-269.51\"/>\n",
       "<polygon fill=\"black\" stroke=\"black\" points=\"1030.91,-271.43 1034.02,-261.3 1025.27,-267.28 1030.91,-271.43\"/>\n",
       "</g>\n",
       "<!-- 13 -->\n",
       "<g id=\"node14\" class=\"node\">\n",
       "<title>13</title>\n",
       "<path fill=\"none\" stroke=\"black\" d=\"M814,-157C814,-157 663,-157 663,-157 657,-157 651,-151 651,-145 651,-145 651,-101 651,-101 651,-95 657,-89 663,-89 663,-89 814,-89 814,-89 820,-89 826,-95 826,-101 826,-101 826,-145 826,-145 826,-151 820,-157 814,-157\"/>\n",
       "<text text-anchor=\"middle\" x=\"738.5\" y=\"-141.8\" font-family=\"Helvetica,sans-Serif\" font-size=\"14.00\">PassengerId &lt;= 396.0</text>\n",
       "<text text-anchor=\"middle\" x=\"738.5\" y=\"-126.8\" font-family=\"Helvetica,sans-Serif\" font-size=\"14.00\">entropy = 0.973</text>\n",
       "<text text-anchor=\"middle\" x=\"738.5\" y=\"-111.8\" font-family=\"Helvetica,sans-Serif\" font-size=\"14.00\">samples = 114</text>\n",
       "<text text-anchor=\"middle\" x=\"738.5\" y=\"-96.8\" font-family=\"Helvetica,sans-Serif\" font-size=\"14.00\">value = [46, 68]</text>\n",
       "</g>\n",
       "<!-- 12&#45;&gt;13 -->\n",
       "<g id=\"edge13\" class=\"edge\">\n",
       "<title>12&#45;&gt;13</title>\n",
       "<path fill=\"none\" stroke=\"black\" d=\"M853.98,-192.88C837.62,-183.12 819.58,-172.37 802.73,-162.31\"/>\n",
       "<polygon fill=\"black\" stroke=\"black\" points=\"804.41,-159.24 794.03,-157.12 800.83,-165.25 804.41,-159.24\"/>\n",
       "</g>\n",
       "<!-- 16 -->\n",
       "<g id=\"node17\" class=\"node\">\n",
       "<title>16</title>\n",
       "<path fill=\"none\" stroke=\"black\" d=\"M963,-149.5C963,-149.5 856,-149.5 856,-149.5 850,-149.5 844,-143.5 844,-137.5 844,-137.5 844,-108.5 844,-108.5 844,-102.5 850,-96.5 856,-96.5 856,-96.5 963,-96.5 963,-96.5 969,-96.5 975,-102.5 975,-108.5 975,-108.5 975,-137.5 975,-137.5 975,-143.5 969,-149.5 963,-149.5\"/>\n",
       "<text text-anchor=\"middle\" x=\"909.5\" y=\"-134.3\" font-family=\"Helvetica,sans-Serif\" font-size=\"14.00\">entropy = 0.414</text>\n",
       "<text text-anchor=\"middle\" x=\"909.5\" y=\"-119.3\" font-family=\"Helvetica,sans-Serif\" font-size=\"14.00\">samples = 12</text>\n",
       "<text text-anchor=\"middle\" x=\"909.5\" y=\"-104.3\" font-family=\"Helvetica,sans-Serif\" font-size=\"14.00\">value = [11, 1]</text>\n",
       "</g>\n",
       "<!-- 12&#45;&gt;16 -->\n",
       "<g id=\"edge16\" class=\"edge\">\n",
       "<title>12&#45;&gt;16</title>\n",
       "<path fill=\"none\" stroke=\"black\" d=\"M909.5,-192.88C909.5,-182.33 909.5,-170.6 909.5,-159.85\"/>\n",
       "<polygon fill=\"black\" stroke=\"black\" points=\"913,-159.52 909.5,-149.52 906,-159.52 913,-159.52\"/>\n",
       "</g>\n",
       "<!-- 14 -->\n",
       "<g id=\"node15\" class=\"node\">\n",
       "<title>14</title>\n",
       "<path fill=\"none\" stroke=\"black\" d=\"M717,-53C717,-53 610,-53 610,-53 604,-53 598,-47 598,-41 598,-41 598,-12 598,-12 598,-6 604,0 610,0 610,0 717,0 717,0 723,0 729,-6 729,-12 729,-12 729,-41 729,-41 729,-47 723,-53 717,-53\"/>\n",
       "<text text-anchor=\"middle\" x=\"663.5\" y=\"-37.8\" font-family=\"Helvetica,sans-Serif\" font-size=\"14.00\">entropy = 0.86</text>\n",
       "<text text-anchor=\"middle\" x=\"663.5\" y=\"-22.8\" font-family=\"Helvetica,sans-Serif\" font-size=\"14.00\">samples = 60</text>\n",
       "<text text-anchor=\"middle\" x=\"663.5\" y=\"-7.8\" font-family=\"Helvetica,sans-Serif\" font-size=\"14.00\">value = [17, 43]</text>\n",
       "</g>\n",
       "<!-- 13&#45;&gt;14 -->\n",
       "<g id=\"edge14\" class=\"edge\">\n",
       "<title>13&#45;&gt;14</title>\n",
       "<path fill=\"none\" stroke=\"black\" d=\"M712.27,-88.95C705.15,-79.98 697.44,-70.27 690.3,-61.26\"/>\n",
       "<polygon fill=\"black\" stroke=\"black\" points=\"692.88,-58.89 683.93,-53.24 687.4,-63.25 692.88,-58.89\"/>\n",
       "</g>\n",
       "<!-- 15 -->\n",
       "<g id=\"node16\" class=\"node\">\n",
       "<title>15</title>\n",
       "<path fill=\"none\" stroke=\"black\" d=\"M866,-53C866,-53 759,-53 759,-53 753,-53 747,-47 747,-41 747,-41 747,-12 747,-12 747,-6 753,0 759,0 759,0 866,0 866,0 872,0 878,-6 878,-12 878,-12 878,-41 878,-41 878,-47 872,-53 866,-53\"/>\n",
       "<text text-anchor=\"middle\" x=\"812.5\" y=\"-37.8\" font-family=\"Helvetica,sans-Serif\" font-size=\"14.00\">entropy = 0.996</text>\n",
       "<text text-anchor=\"middle\" x=\"812.5\" y=\"-22.8\" font-family=\"Helvetica,sans-Serif\" font-size=\"14.00\">samples = 54</text>\n",
       "<text text-anchor=\"middle\" x=\"812.5\" y=\"-7.8\" font-family=\"Helvetica,sans-Serif\" font-size=\"14.00\">value = [29, 25]</text>\n",
       "</g>\n",
       "<!-- 13&#45;&gt;15 -->\n",
       "<g id=\"edge15\" class=\"edge\">\n",
       "<title>13&#45;&gt;15</title>\n",
       "<path fill=\"none\" stroke=\"black\" d=\"M764.38,-88.95C771.4,-79.98 779.01,-70.27 786.06,-61.26\"/>\n",
       "<polygon fill=\"black\" stroke=\"black\" points=\"788.94,-63.27 792.35,-53.24 783.43,-58.95 788.94,-63.27\"/>\n",
       "</g>\n",
       "<!-- 18 -->\n",
       "<g id=\"node19\" class=\"node\">\n",
       "<title>18</title>\n",
       "<path fill=\"none\" stroke=\"black\" d=\"M1112,-149.5C1112,-149.5 1005,-149.5 1005,-149.5 999,-149.5 993,-143.5 993,-137.5 993,-137.5 993,-108.5 993,-108.5 993,-102.5 999,-96.5 1005,-96.5 1005,-96.5 1112,-96.5 1112,-96.5 1118,-96.5 1124,-102.5 1124,-108.5 1124,-108.5 1124,-137.5 1124,-137.5 1124,-143.5 1118,-149.5 1112,-149.5\"/>\n",
       "<text text-anchor=\"middle\" x=\"1058.5\" y=\"-134.3\" font-family=\"Helvetica,sans-Serif\" font-size=\"14.00\">entropy = 0.764</text>\n",
       "<text text-anchor=\"middle\" x=\"1058.5\" y=\"-119.3\" font-family=\"Helvetica,sans-Serif\" font-size=\"14.00\">samples = 9</text>\n",
       "<text text-anchor=\"middle\" x=\"1058.5\" y=\"-104.3\" font-family=\"Helvetica,sans-Serif\" font-size=\"14.00\">value = [7, 2]</text>\n",
       "</g>\n",
       "<!-- 17&#45;&gt;18 -->\n",
       "<g id=\"edge18\" class=\"edge\">\n",
       "<title>17&#45;&gt;18</title>\n",
       "<path fill=\"none\" stroke=\"black\" d=\"M1058.5,-192.88C1058.5,-182.33 1058.5,-170.6 1058.5,-159.85\"/>\n",
       "<polygon fill=\"black\" stroke=\"black\" points=\"1062,-159.52 1058.5,-149.52 1055,-159.52 1062,-159.52\"/>\n",
       "</g>\n",
       "<!-- 19 -->\n",
       "<g id=\"node20\" class=\"node\">\n",
       "<title>19</title>\n",
       "<path fill=\"none\" stroke=\"black\" d=\"M1261,-149.5C1261,-149.5 1154,-149.5 1154,-149.5 1148,-149.5 1142,-143.5 1142,-137.5 1142,-137.5 1142,-108.5 1142,-108.5 1142,-102.5 1148,-96.5 1154,-96.5 1154,-96.5 1261,-96.5 1261,-96.5 1267,-96.5 1273,-102.5 1273,-108.5 1273,-108.5 1273,-137.5 1273,-137.5 1273,-143.5 1267,-149.5 1261,-149.5\"/>\n",
       "<text text-anchor=\"middle\" x=\"1207.5\" y=\"-134.3\" font-family=\"Helvetica,sans-Serif\" font-size=\"14.00\">entropy = 0.503</text>\n",
       "<text text-anchor=\"middle\" x=\"1207.5\" y=\"-119.3\" font-family=\"Helvetica,sans-Serif\" font-size=\"14.00\">samples = 9</text>\n",
       "<text text-anchor=\"middle\" x=\"1207.5\" y=\"-104.3\" font-family=\"Helvetica,sans-Serif\" font-size=\"14.00\">value = [8, 1]</text>\n",
       "</g>\n",
       "<!-- 17&#45;&gt;19 -->\n",
       "<g id=\"edge19\" class=\"edge\">\n",
       "<title>17&#45;&gt;19</title>\n",
       "<path fill=\"none\" stroke=\"black\" d=\"M1106.88,-192.88C1124.55,-180.79 1144.47,-167.15 1161.89,-155.22\"/>\n",
       "<polygon fill=\"black\" stroke=\"black\" points=\"1163.95,-158.06 1170.22,-149.52 1159.99,-152.28 1163.95,-158.06\"/>\n",
       "</g>\n",
       "<!-- 21 -->\n",
       "<g id=\"node22\" class=\"node\">\n",
       "<title>21</title>\n",
       "<path fill=\"none\" stroke=\"black\" d=\"M1640.5,-365C1640.5,-365 1524.5,-365 1524.5,-365 1518.5,-365 1512.5,-359 1512.5,-353 1512.5,-353 1512.5,-309 1512.5,-309 1512.5,-303 1518.5,-297 1524.5,-297 1524.5,-297 1640.5,-297 1640.5,-297 1646.5,-297 1652.5,-303 1652.5,-309 1652.5,-309 1652.5,-353 1652.5,-353 1652.5,-359 1646.5,-365 1640.5,-365\"/>\n",
       "<text text-anchor=\"middle\" x=\"1582.5\" y=\"-349.8\" font-family=\"Helvetica,sans-Serif\" font-size=\"14.00\">Age &lt;= 9.5</text>\n",
       "<text text-anchor=\"middle\" x=\"1582.5\" y=\"-334.8\" font-family=\"Helvetica,sans-Serif\" font-size=\"14.00\">entropy = 0.586</text>\n",
       "<text text-anchor=\"middle\" x=\"1582.5\" y=\"-319.8\" font-family=\"Helvetica,sans-Serif\" font-size=\"14.00\">samples = 455</text>\n",
       "<text text-anchor=\"middle\" x=\"1582.5\" y=\"-304.8\" font-family=\"Helvetica,sans-Serif\" font-size=\"14.00\">value = [391, 64]</text>\n",
       "</g>\n",
       "<!-- 20&#45;&gt;21 -->\n",
       "<g id=\"edge21\" class=\"edge\">\n",
       "<title>20&#45;&gt;21</title>\n",
       "<path fill=\"none\" stroke=\"black\" d=\"M1582.5,-400.88C1582.5,-392.78 1582.5,-383.98 1582.5,-375.47\"/>\n",
       "<polygon fill=\"black\" stroke=\"black\" points=\"1586,-375.3 1582.5,-365.3 1579,-375.3 1586,-375.3\"/>\n",
       "</g>\n",
       "<!-- 32 -->\n",
       "<g id=\"node33\" class=\"node\">\n",
       "<title>32</title>\n",
       "<path fill=\"none\" stroke=\"black\" d=\"M2134,-365C2134,-365 1983,-365 1983,-365 1977,-365 1971,-359 1971,-353 1971,-353 1971,-309 1971,-309 1971,-303 1977,-297 1983,-297 1983,-297 2134,-297 2134,-297 2140,-297 2146,-303 2146,-309 2146,-309 2146,-353 2146,-353 2146,-359 2140,-365 2134,-365\"/>\n",
       "<text text-anchor=\"middle\" x=\"2058.5\" y=\"-349.8\" font-family=\"Helvetica,sans-Serif\" font-size=\"14.00\">PassengerId &lt;= 187.0</text>\n",
       "<text text-anchor=\"middle\" x=\"2058.5\" y=\"-334.8\" font-family=\"Helvetica,sans-Serif\" font-size=\"14.00\">entropy = 0.95</text>\n",
       "<text text-anchor=\"middle\" x=\"2058.5\" y=\"-319.8\" font-family=\"Helvetica,sans-Serif\" font-size=\"14.00\">samples = 122</text>\n",
       "<text text-anchor=\"middle\" x=\"2058.5\" y=\"-304.8\" font-family=\"Helvetica,sans-Serif\" font-size=\"14.00\">value = [77, 45]</text>\n",
       "</g>\n",
       "<!-- 20&#45;&gt;32 -->\n",
       "<g id=\"edge32\" class=\"edge\">\n",
       "<title>20&#45;&gt;32</title>\n",
       "<path fill=\"none\" stroke=\"black\" d=\"M1657.14,-418.01C1738.97,-400.47 1870.61,-372.26 1960.66,-352.97\"/>\n",
       "<polygon fill=\"black\" stroke=\"black\" points=\"1961.56,-356.35 1970.6,-350.84 1960.09,-349.51 1961.56,-356.35\"/>\n",
       "</g>\n",
       "<!-- 22 -->\n",
       "<g id=\"node23\" class=\"node\">\n",
       "<title>22</title>\n",
       "<path fill=\"none\" stroke=\"black\" d=\"M1551,-261C1551,-261 1444,-261 1444,-261 1438,-261 1432,-255 1432,-249 1432,-249 1432,-205 1432,-205 1432,-199 1438,-193 1444,-193 1444,-193 1551,-193 1551,-193 1557,-193 1563,-199 1563,-205 1563,-205 1563,-249 1563,-249 1563,-255 1557,-261 1551,-261\"/>\n",
       "<text text-anchor=\"middle\" x=\"1497.5\" y=\"-245.8\" font-family=\"Helvetica,sans-Serif\" font-size=\"14.00\">Fare &lt;= 20.825</text>\n",
       "<text text-anchor=\"middle\" x=\"1497.5\" y=\"-230.8\" font-family=\"Helvetica,sans-Serif\" font-size=\"14.00\">entropy = 0.987</text>\n",
       "<text text-anchor=\"middle\" x=\"1497.5\" y=\"-215.8\" font-family=\"Helvetica,sans-Serif\" font-size=\"14.00\">samples = 30</text>\n",
       "<text text-anchor=\"middle\" x=\"1497.5\" y=\"-200.8\" font-family=\"Helvetica,sans-Serif\" font-size=\"14.00\">value = [13, 17]</text>\n",
       "</g>\n",
       "<!-- 21&#45;&gt;22 -->\n",
       "<g id=\"edge22\" class=\"edge\">\n",
       "<title>21&#45;&gt;22</title>\n",
       "<path fill=\"none\" stroke=\"black\" d=\"M1554.9,-296.88C1547.55,-288.07 1539.53,-278.43 1531.86,-269.24\"/>\n",
       "<polygon fill=\"black\" stroke=\"black\" points=\"1534.34,-266.74 1525.25,-261.3 1528.96,-271.22 1534.34,-266.74\"/>\n",
       "</g>\n",
       "<!-- 27 -->\n",
       "<g id=\"node28\" class=\"node\">\n",
       "<title>27</title>\n",
       "<path fill=\"none\" stroke=\"black\" d=\"M1726.5,-261C1726.5,-261 1610.5,-261 1610.5,-261 1604.5,-261 1598.5,-255 1598.5,-249 1598.5,-249 1598.5,-205 1598.5,-205 1598.5,-199 1604.5,-193 1610.5,-193 1610.5,-193 1726.5,-193 1726.5,-193 1732.5,-193 1738.5,-199 1738.5,-205 1738.5,-205 1738.5,-249 1738.5,-249 1738.5,-255 1732.5,-261 1726.5,-261\"/>\n",
       "<text text-anchor=\"middle\" x=\"1668.5\" y=\"-245.8\" font-family=\"Helvetica,sans-Serif\" font-size=\"14.00\">Fare &lt;= 51.698</text>\n",
       "<text text-anchor=\"middle\" x=\"1668.5\" y=\"-230.8\" font-family=\"Helvetica,sans-Serif\" font-size=\"14.00\">entropy = 0.502</text>\n",
       "<text text-anchor=\"middle\" x=\"1668.5\" y=\"-215.8\" font-family=\"Helvetica,sans-Serif\" font-size=\"14.00\">samples = 425</text>\n",
       "<text text-anchor=\"middle\" x=\"1668.5\" y=\"-200.8\" font-family=\"Helvetica,sans-Serif\" font-size=\"14.00\">value = [378, 47]</text>\n",
       "</g>\n",
       "<!-- 21&#45;&gt;27 -->\n",
       "<g id=\"edge27\" class=\"edge\">\n",
       "<title>21&#45;&gt;27</title>\n",
       "<path fill=\"none\" stroke=\"black\" d=\"M1610.42,-296.88C1617.93,-287.98 1626.14,-278.24 1633.97,-268.96\"/>\n",
       "<polygon fill=\"black\" stroke=\"black\" points=\"1636.65,-271.2 1640.42,-261.3 1631.3,-266.69 1636.65,-271.2\"/>\n",
       "</g>\n",
       "<!-- 23 -->\n",
       "<g id=\"node24\" class=\"node\">\n",
       "<title>23</title>\n",
       "<path fill=\"none\" stroke=\"black\" d=\"M1401.5,-149.5C1401.5,-149.5 1303.5,-149.5 1303.5,-149.5 1297.5,-149.5 1291.5,-143.5 1291.5,-137.5 1291.5,-137.5 1291.5,-108.5 1291.5,-108.5 1291.5,-102.5 1297.5,-96.5 1303.5,-96.5 1303.5,-96.5 1401.5,-96.5 1401.5,-96.5 1407.5,-96.5 1413.5,-102.5 1413.5,-108.5 1413.5,-108.5 1413.5,-137.5 1413.5,-137.5 1413.5,-143.5 1407.5,-149.5 1401.5,-149.5\"/>\n",
       "<text text-anchor=\"middle\" x=\"1352.5\" y=\"-134.3\" font-family=\"Helvetica,sans-Serif\" font-size=\"14.00\">entropy = 0.0</text>\n",
       "<text text-anchor=\"middle\" x=\"1352.5\" y=\"-119.3\" font-family=\"Helvetica,sans-Serif\" font-size=\"14.00\">samples = 10</text>\n",
       "<text text-anchor=\"middle\" x=\"1352.5\" y=\"-104.3\" font-family=\"Helvetica,sans-Serif\" font-size=\"14.00\">value = [0, 10]</text>\n",
       "</g>\n",
       "<!-- 22&#45;&gt;23 -->\n",
       "<g id=\"edge23\" class=\"edge\">\n",
       "<title>22&#45;&gt;23</title>\n",
       "<path fill=\"none\" stroke=\"black\" d=\"M1450.42,-192.88C1433.38,-180.9 1414.19,-167.4 1397.35,-155.55\"/>\n",
       "<polygon fill=\"black\" stroke=\"black\" points=\"1398.97,-152.41 1388.78,-149.52 1394.94,-158.14 1398.97,-152.41\"/>\n",
       "</g>\n",
       "<!-- 24 -->\n",
       "<g id=\"node25\" class=\"node\">\n",
       "<title>24</title>\n",
       "<path fill=\"none\" stroke=\"black\" d=\"M1551,-157C1551,-157 1444,-157 1444,-157 1438,-157 1432,-151 1432,-145 1432,-145 1432,-101 1432,-101 1432,-95 1438,-89 1444,-89 1444,-89 1551,-89 1551,-89 1557,-89 1563,-95 1563,-101 1563,-101 1563,-145 1563,-145 1563,-151 1557,-157 1551,-157\"/>\n",
       "<text text-anchor=\"middle\" x=\"1497.5\" y=\"-141.8\" font-family=\"Helvetica,sans-Serif\" font-size=\"14.00\">Age &lt;= 3.5</text>\n",
       "<text text-anchor=\"middle\" x=\"1497.5\" y=\"-126.8\" font-family=\"Helvetica,sans-Serif\" font-size=\"14.00\">entropy = 0.934</text>\n",
       "<text text-anchor=\"middle\" x=\"1497.5\" y=\"-111.8\" font-family=\"Helvetica,sans-Serif\" font-size=\"14.00\">samples = 20</text>\n",
       "<text text-anchor=\"middle\" x=\"1497.5\" y=\"-96.8\" font-family=\"Helvetica,sans-Serif\" font-size=\"14.00\">value = [13, 7]</text>\n",
       "</g>\n",
       "<!-- 22&#45;&gt;24 -->\n",
       "<g id=\"edge24\" class=\"edge\">\n",
       "<title>22&#45;&gt;24</title>\n",
       "<path fill=\"none\" stroke=\"black\" d=\"M1497.5,-192.88C1497.5,-184.78 1497.5,-175.98 1497.5,-167.47\"/>\n",
       "<polygon fill=\"black\" stroke=\"black\" points=\"1501,-167.3 1497.5,-157.3 1494,-167.3 1501,-167.3\"/>\n",
       "</g>\n",
       "<!-- 25 -->\n",
       "<g id=\"node26\" class=\"node\">\n",
       "<title>25</title>\n",
       "<path fill=\"none\" stroke=\"black\" d=\"M1406,-53C1406,-53 1299,-53 1299,-53 1293,-53 1287,-47 1287,-41 1287,-41 1287,-12 1287,-12 1287,-6 1293,0 1299,0 1299,0 1406,0 1406,0 1412,0 1418,-6 1418,-12 1418,-12 1418,-41 1418,-41 1418,-47 1412,-53 1406,-53\"/>\n",
       "<text text-anchor=\"middle\" x=\"1352.5\" y=\"-37.8\" font-family=\"Helvetica,sans-Serif\" font-size=\"14.00\">entropy = 0.994</text>\n",
       "<text text-anchor=\"middle\" x=\"1352.5\" y=\"-22.8\" font-family=\"Helvetica,sans-Serif\" font-size=\"14.00\">samples = 11</text>\n",
       "<text text-anchor=\"middle\" x=\"1352.5\" y=\"-7.8\" font-family=\"Helvetica,sans-Serif\" font-size=\"14.00\">value = [5, 6]</text>\n",
       "</g>\n",
       "<!-- 24&#45;&gt;25 -->\n",
       "<g id=\"edge25\" class=\"edge\">\n",
       "<title>24&#45;&gt;25</title>\n",
       "<path fill=\"none\" stroke=\"black\" d=\"M1446.79,-88.95C1431.77,-79.16 1415.37,-68.48 1400.53,-58.8\"/>\n",
       "<polygon fill=\"black\" stroke=\"black\" points=\"1402.28,-55.76 1391.99,-53.24 1398.46,-61.63 1402.28,-55.76\"/>\n",
       "</g>\n",
       "<!-- 26 -->\n",
       "<g id=\"node27\" class=\"node\">\n",
       "<title>26</title>\n",
       "<path fill=\"none\" stroke=\"black\" d=\"M1555,-53C1555,-53 1448,-53 1448,-53 1442,-53 1436,-47 1436,-41 1436,-41 1436,-12 1436,-12 1436,-6 1442,0 1448,0 1448,0 1555,0 1555,0 1561,0 1567,-6 1567,-12 1567,-12 1567,-41 1567,-41 1567,-47 1561,-53 1555,-53\"/>\n",
       "<text text-anchor=\"middle\" x=\"1501.5\" y=\"-37.8\" font-family=\"Helvetica,sans-Serif\" font-size=\"14.00\">entropy = 0.503</text>\n",
       "<text text-anchor=\"middle\" x=\"1501.5\" y=\"-22.8\" font-family=\"Helvetica,sans-Serif\" font-size=\"14.00\">samples = 9</text>\n",
       "<text text-anchor=\"middle\" x=\"1501.5\" y=\"-7.8\" font-family=\"Helvetica,sans-Serif\" font-size=\"14.00\">value = [8, 1]</text>\n",
       "</g>\n",
       "<!-- 24&#45;&gt;26 -->\n",
       "<g id=\"edge26\" class=\"edge\">\n",
       "<title>24&#45;&gt;26</title>\n",
       "<path fill=\"none\" stroke=\"black\" d=\"M1498.9,-88.95C1499.25,-80.72 1499.62,-71.85 1499.98,-63.48\"/>\n",
       "<polygon fill=\"black\" stroke=\"black\" points=\"1503.48,-63.38 1500.41,-53.24 1496.49,-63.08 1503.48,-63.38\"/>\n",
       "</g>\n",
       "<!-- 28 -->\n",
       "<g id=\"node29\" class=\"node\">\n",
       "<title>28</title>\n",
       "<path fill=\"none\" stroke=\"black\" d=\"M1744,-157C1744,-157 1593,-157 1593,-157 1587,-157 1581,-151 1581,-145 1581,-145 1581,-101 1581,-101 1581,-95 1587,-89 1593,-89 1593,-89 1744,-89 1744,-89 1750,-89 1756,-95 1756,-101 1756,-101 1756,-145 1756,-145 1756,-151 1750,-157 1744,-157\"/>\n",
       "<text text-anchor=\"middle\" x=\"1668.5\" y=\"-141.8\" font-family=\"Helvetica,sans-Serif\" font-size=\"14.00\">PassengerId &lt;= 831.0</text>\n",
       "<text text-anchor=\"middle\" x=\"1668.5\" y=\"-126.8\" font-family=\"Helvetica,sans-Serif\" font-size=\"14.00\">entropy = 0.477</text>\n",
       "<text text-anchor=\"middle\" x=\"1668.5\" y=\"-111.8\" font-family=\"Helvetica,sans-Serif\" font-size=\"14.00\">samples = 409</text>\n",
       "<text text-anchor=\"middle\" x=\"1668.5\" y=\"-96.8\" font-family=\"Helvetica,sans-Serif\" font-size=\"14.00\">value = [367, 42]</text>\n",
       "</g>\n",
       "<!-- 27&#45;&gt;28 -->\n",
       "<g id=\"edge28\" class=\"edge\">\n",
       "<title>27&#45;&gt;28</title>\n",
       "<path fill=\"none\" stroke=\"black\" d=\"M1668.5,-192.88C1668.5,-184.78 1668.5,-175.98 1668.5,-167.47\"/>\n",
       "<polygon fill=\"black\" stroke=\"black\" points=\"1672,-167.3 1668.5,-157.3 1665,-167.3 1672,-167.3\"/>\n",
       "</g>\n",
       "<!-- 31 -->\n",
       "<g id=\"node32\" class=\"node\">\n",
       "<title>31</title>\n",
       "<path fill=\"none\" stroke=\"black\" d=\"M1893,-149.5C1893,-149.5 1786,-149.5 1786,-149.5 1780,-149.5 1774,-143.5 1774,-137.5 1774,-137.5 1774,-108.5 1774,-108.5 1774,-102.5 1780,-96.5 1786,-96.5 1786,-96.5 1893,-96.5 1893,-96.5 1899,-96.5 1905,-102.5 1905,-108.5 1905,-108.5 1905,-137.5 1905,-137.5 1905,-143.5 1899,-149.5 1893,-149.5\"/>\n",
       "<text text-anchor=\"middle\" x=\"1839.5\" y=\"-134.3\" font-family=\"Helvetica,sans-Serif\" font-size=\"14.00\">entropy = 0.896</text>\n",
       "<text text-anchor=\"middle\" x=\"1839.5\" y=\"-119.3\" font-family=\"Helvetica,sans-Serif\" font-size=\"14.00\">samples = 16</text>\n",
       "<text text-anchor=\"middle\" x=\"1839.5\" y=\"-104.3\" font-family=\"Helvetica,sans-Serif\" font-size=\"14.00\">value = [11, 5]</text>\n",
       "</g>\n",
       "<!-- 27&#45;&gt;31 -->\n",
       "<g id=\"edge31\" class=\"edge\">\n",
       "<title>27&#45;&gt;31</title>\n",
       "<path fill=\"none\" stroke=\"black\" d=\"M1724.02,-192.88C1744.58,-180.62 1767.78,-166.78 1787.97,-154.74\"/>\n",
       "<polygon fill=\"black\" stroke=\"black\" points=\"1789.92,-157.65 1796.72,-149.52 1786.34,-151.64 1789.92,-157.65\"/>\n",
       "</g>\n",
       "<!-- 29 -->\n",
       "<g id=\"node30\" class=\"node\">\n",
       "<title>29</title>\n",
       "<path fill=\"none\" stroke=\"black\" d=\"M1718.5,-53C1718.5,-53 1602.5,-53 1602.5,-53 1596.5,-53 1590.5,-47 1590.5,-41 1590.5,-41 1590.5,-12 1590.5,-12 1590.5,-6 1596.5,0 1602.5,0 1602.5,0 1718.5,0 1718.5,0 1724.5,0 1730.5,-6 1730.5,-12 1730.5,-12 1730.5,-41 1730.5,-41 1730.5,-47 1724.5,-53 1718.5,-53\"/>\n",
       "<text text-anchor=\"middle\" x=\"1660.5\" y=\"-37.8\" font-family=\"Helvetica,sans-Serif\" font-size=\"14.00\">entropy = 0.501</text>\n",
       "<text text-anchor=\"middle\" x=\"1660.5\" y=\"-22.8\" font-family=\"Helvetica,sans-Serif\" font-size=\"14.00\">samples = 381</text>\n",
       "<text text-anchor=\"middle\" x=\"1660.5\" y=\"-7.8\" font-family=\"Helvetica,sans-Serif\" font-size=\"14.00\">value = [339, 42]</text>\n",
       "</g>\n",
       "<!-- 28&#45;&gt;29 -->\n",
       "<g id=\"edge29\" class=\"edge\">\n",
       "<title>28&#45;&gt;29</title>\n",
       "<path fill=\"none\" stroke=\"black\" d=\"M1665.7,-88.95C1665,-80.62 1664.24,-71.65 1663.52,-63.2\"/>\n",
       "<polygon fill=\"black\" stroke=\"black\" points=\"1667.01,-62.91 1662.68,-53.24 1660.03,-63.5 1667.01,-62.91\"/>\n",
       "</g>\n",
       "<!-- 30 -->\n",
       "<g id=\"node31\" class=\"node\">\n",
       "<title>30</title>\n",
       "<path fill=\"none\" stroke=\"black\" d=\"M1858.5,-53C1858.5,-53 1760.5,-53 1760.5,-53 1754.5,-53 1748.5,-47 1748.5,-41 1748.5,-41 1748.5,-12 1748.5,-12 1748.5,-6 1754.5,0 1760.5,0 1760.5,0 1858.5,0 1858.5,0 1864.5,0 1870.5,-6 1870.5,-12 1870.5,-12 1870.5,-41 1870.5,-41 1870.5,-47 1864.5,-53 1858.5,-53\"/>\n",
       "<text text-anchor=\"middle\" x=\"1809.5\" y=\"-37.8\" font-family=\"Helvetica,sans-Serif\" font-size=\"14.00\">entropy = 0.0</text>\n",
       "<text text-anchor=\"middle\" x=\"1809.5\" y=\"-22.8\" font-family=\"Helvetica,sans-Serif\" font-size=\"14.00\">samples = 28</text>\n",
       "<text text-anchor=\"middle\" x=\"1809.5\" y=\"-7.8\" font-family=\"Helvetica,sans-Serif\" font-size=\"14.00\">value = [28, 0]</text>\n",
       "</g>\n",
       "<!-- 28&#45;&gt;30 -->\n",
       "<g id=\"edge30\" class=\"edge\">\n",
       "<title>28&#45;&gt;30</title>\n",
       "<path fill=\"none\" stroke=\"black\" d=\"M1717.81,-88.95C1732.28,-79.25 1748.06,-68.68 1762.39,-59.07\"/>\n",
       "<polygon fill=\"black\" stroke=\"black\" points=\"1764.74,-61.71 1771.1,-53.24 1760.84,-55.9 1764.74,-61.71\"/>\n",
       "</g>\n",
       "<!-- 33 -->\n",
       "<g id=\"node34\" class=\"node\">\n",
       "<title>33</title>\n",
       "<path fill=\"none\" stroke=\"black\" d=\"M2112,-261C2112,-261 2005,-261 2005,-261 1999,-261 1993,-255 1993,-249 1993,-249 1993,-205 1993,-205 1993,-199 1999,-193 2005,-193 2005,-193 2112,-193 2112,-193 2118,-193 2124,-199 2124,-205 2124,-205 2124,-249 2124,-249 2124,-255 2118,-261 2112,-261\"/>\n",
       "<text text-anchor=\"middle\" x=\"2058.5\" y=\"-245.8\" font-family=\"Helvetica,sans-Serif\" font-size=\"14.00\">Age &lt;= 33.35</text>\n",
       "<text text-anchor=\"middle\" x=\"2058.5\" y=\"-230.8\" font-family=\"Helvetica,sans-Serif\" font-size=\"14.00\">entropy = 0.529</text>\n",
       "<text text-anchor=\"middle\" x=\"2058.5\" y=\"-215.8\" font-family=\"Helvetica,sans-Serif\" font-size=\"14.00\">samples = 25</text>\n",
       "<text text-anchor=\"middle\" x=\"2058.5\" y=\"-200.8\" font-family=\"Helvetica,sans-Serif\" font-size=\"14.00\">value = [22, 3]</text>\n",
       "</g>\n",
       "<!-- 32&#45;&gt;33 -->\n",
       "<g id=\"edge33\" class=\"edge\">\n",
       "<title>32&#45;&gt;33</title>\n",
       "<path fill=\"none\" stroke=\"black\" d=\"M2058.5,-296.88C2058.5,-288.78 2058.5,-279.98 2058.5,-271.47\"/>\n",
       "<polygon fill=\"black\" stroke=\"black\" points=\"2062,-271.3 2058.5,-261.3 2055,-271.3 2062,-271.3\"/>\n",
       "</g>\n",
       "<!-- 36 -->\n",
       "<g id=\"node37\" class=\"node\">\n",
       "<title>36</title>\n",
       "<path fill=\"none\" stroke=\"black\" d=\"M2332,-261C2332,-261 2225,-261 2225,-261 2219,-261 2213,-255 2213,-249 2213,-249 2213,-205 2213,-205 2213,-199 2219,-193 2225,-193 2225,-193 2332,-193 2332,-193 2338,-193 2344,-199 2344,-205 2344,-205 2344,-249 2344,-249 2344,-255 2338,-261 2332,-261\"/>\n",
       "<text text-anchor=\"middle\" x=\"2278.5\" y=\"-245.8\" font-family=\"Helvetica,sans-Serif\" font-size=\"14.00\">Age &lt;= 28.5</text>\n",
       "<text text-anchor=\"middle\" x=\"2278.5\" y=\"-230.8\" font-family=\"Helvetica,sans-Serif\" font-size=\"14.00\">entropy = 0.987</text>\n",
       "<text text-anchor=\"middle\" x=\"2278.5\" y=\"-215.8\" font-family=\"Helvetica,sans-Serif\" font-size=\"14.00\">samples = 97</text>\n",
       "<text text-anchor=\"middle\" x=\"2278.5\" y=\"-200.8\" font-family=\"Helvetica,sans-Serif\" font-size=\"14.00\">value = [55, 42]</text>\n",
       "</g>\n",
       "<!-- 32&#45;&gt;36 -->\n",
       "<g id=\"edge36\" class=\"edge\">\n",
       "<title>32&#45;&gt;36</title>\n",
       "<path fill=\"none\" stroke=\"black\" d=\"M2129.93,-296.88C2153.41,-286 2179.58,-273.86 2203.33,-262.85\"/>\n",
       "<polygon fill=\"black\" stroke=\"black\" points=\"2205.05,-265.91 2212.65,-258.53 2202.1,-259.56 2205.05,-265.91\"/>\n",
       "</g>\n",
       "<!-- 34 -->\n",
       "<g id=\"node35\" class=\"node\">\n",
       "<title>34</title>\n",
       "<path fill=\"none\" stroke=\"black\" d=\"M2042,-149.5C2042,-149.5 1935,-149.5 1935,-149.5 1929,-149.5 1923,-143.5 1923,-137.5 1923,-137.5 1923,-108.5 1923,-108.5 1923,-102.5 1929,-96.5 1935,-96.5 1935,-96.5 2042,-96.5 2042,-96.5 2048,-96.5 2054,-102.5 2054,-108.5 2054,-108.5 2054,-137.5 2054,-137.5 2054,-143.5 2048,-149.5 2042,-149.5\"/>\n",
       "<text text-anchor=\"middle\" x=\"1988.5\" y=\"-134.3\" font-family=\"Helvetica,sans-Serif\" font-size=\"14.00\">entropy = 0.811</text>\n",
       "<text text-anchor=\"middle\" x=\"1988.5\" y=\"-119.3\" font-family=\"Helvetica,sans-Serif\" font-size=\"14.00\">samples = 12</text>\n",
       "<text text-anchor=\"middle\" x=\"1988.5\" y=\"-104.3\" font-family=\"Helvetica,sans-Serif\" font-size=\"14.00\">value = [9, 3]</text>\n",
       "</g>\n",
       "<!-- 33&#45;&gt;34 -->\n",
       "<g id=\"edge34\" class=\"edge\">\n",
       "<title>33&#45;&gt;34</title>\n",
       "<path fill=\"none\" stroke=\"black\" d=\"M2035.77,-192.88C2028.07,-181.67 2019.47,-169.13 2011.73,-157.85\"/>\n",
       "<polygon fill=\"black\" stroke=\"black\" points=\"2014.56,-155.78 2006.01,-149.52 2008.79,-159.75 2014.56,-155.78\"/>\n",
       "</g>\n",
       "<!-- 35 -->\n",
       "<g id=\"node36\" class=\"node\">\n",
       "<title>35</title>\n",
       "<path fill=\"none\" stroke=\"black\" d=\"M2182.5,-149.5C2182.5,-149.5 2084.5,-149.5 2084.5,-149.5 2078.5,-149.5 2072.5,-143.5 2072.5,-137.5 2072.5,-137.5 2072.5,-108.5 2072.5,-108.5 2072.5,-102.5 2078.5,-96.5 2084.5,-96.5 2084.5,-96.5 2182.5,-96.5 2182.5,-96.5 2188.5,-96.5 2194.5,-102.5 2194.5,-108.5 2194.5,-108.5 2194.5,-137.5 2194.5,-137.5 2194.5,-143.5 2188.5,-149.5 2182.5,-149.5\"/>\n",
       "<text text-anchor=\"middle\" x=\"2133.5\" y=\"-134.3\" font-family=\"Helvetica,sans-Serif\" font-size=\"14.00\">entropy = 0.0</text>\n",
       "<text text-anchor=\"middle\" x=\"2133.5\" y=\"-119.3\" font-family=\"Helvetica,sans-Serif\" font-size=\"14.00\">samples = 13</text>\n",
       "<text text-anchor=\"middle\" x=\"2133.5\" y=\"-104.3\" font-family=\"Helvetica,sans-Serif\" font-size=\"14.00\">value = [13, 0]</text>\n",
       "</g>\n",
       "<!-- 33&#45;&gt;35 -->\n",
       "<g id=\"edge35\" class=\"edge\">\n",
       "<title>33&#45;&gt;35</title>\n",
       "<path fill=\"none\" stroke=\"black\" d=\"M2082.85,-192.88C2091.1,-181.67 2100.32,-169.13 2108.61,-157.85\"/>\n",
       "<polygon fill=\"black\" stroke=\"black\" points=\"2111.63,-159.65 2114.74,-149.52 2105.99,-155.5 2111.63,-159.65\"/>\n",
       "</g>\n",
       "<!-- 37 -->\n",
       "<g id=\"node38\" class=\"node\">\n",
       "<title>37</title>\n",
       "<path fill=\"none\" stroke=\"black\" d=\"M2332,-149.5C2332,-149.5 2225,-149.5 2225,-149.5 2219,-149.5 2213,-143.5 2213,-137.5 2213,-137.5 2213,-108.5 2213,-108.5 2213,-102.5 2219,-96.5 2225,-96.5 2225,-96.5 2332,-96.5 2332,-96.5 2338,-96.5 2344,-102.5 2344,-108.5 2344,-108.5 2344,-137.5 2344,-137.5 2344,-143.5 2338,-149.5 2332,-149.5\"/>\n",
       "<text text-anchor=\"middle\" x=\"2278.5\" y=\"-134.3\" font-family=\"Helvetica,sans-Serif\" font-size=\"14.00\">entropy = 0.837</text>\n",
       "<text text-anchor=\"middle\" x=\"2278.5\" y=\"-119.3\" font-family=\"Helvetica,sans-Serif\" font-size=\"14.00\">samples = 15</text>\n",
       "<text text-anchor=\"middle\" x=\"2278.5\" y=\"-104.3\" font-family=\"Helvetica,sans-Serif\" font-size=\"14.00\">value = [4, 11]</text>\n",
       "</g>\n",
       "<!-- 36&#45;&gt;37 -->\n",
       "<g id=\"edge37\" class=\"edge\">\n",
       "<title>36&#45;&gt;37</title>\n",
       "<path fill=\"none\" stroke=\"black\" d=\"M2278.5,-192.88C2278.5,-182.33 2278.5,-170.6 2278.5,-159.85\"/>\n",
       "<polygon fill=\"black\" stroke=\"black\" points=\"2282,-159.52 2278.5,-149.52 2275,-159.52 2282,-159.52\"/>\n",
       "</g>\n",
       "<!-- 38 -->\n",
       "<g id=\"node39\" class=\"node\">\n",
       "<title>38</title>\n",
       "<path fill=\"none\" stroke=\"black\" d=\"M2481,-157C2481,-157 2374,-157 2374,-157 2368,-157 2362,-151 2362,-145 2362,-145 2362,-101 2362,-101 2362,-95 2368,-89 2374,-89 2374,-89 2481,-89 2481,-89 2487,-89 2493,-95 2493,-101 2493,-101 2493,-145 2493,-145 2493,-151 2487,-157 2481,-157\"/>\n",
       "<text text-anchor=\"middle\" x=\"2427.5\" y=\"-141.8\" font-family=\"Helvetica,sans-Serif\" font-size=\"14.00\">Age &lt;= 30.5</text>\n",
       "<text text-anchor=\"middle\" x=\"2427.5\" y=\"-126.8\" font-family=\"Helvetica,sans-Serif\" font-size=\"14.00\">entropy = 0.957</text>\n",
       "<text text-anchor=\"middle\" x=\"2427.5\" y=\"-111.8\" font-family=\"Helvetica,sans-Serif\" font-size=\"14.00\">samples = 82</text>\n",
       "<text text-anchor=\"middle\" x=\"2427.5\" y=\"-96.8\" font-family=\"Helvetica,sans-Serif\" font-size=\"14.00\">value = [51, 31]</text>\n",
       "</g>\n",
       "<!-- 36&#45;&gt;38 -->\n",
       "<g id=\"edge38\" class=\"edge\">\n",
       "<title>36&#45;&gt;38</title>\n",
       "<path fill=\"none\" stroke=\"black\" d=\"M2326.88,-192.88C2340.87,-183.3 2356.27,-172.76 2370.73,-162.86\"/>\n",
       "<polygon fill=\"black\" stroke=\"black\" points=\"2372.84,-165.66 2379.11,-157.12 2368.88,-159.89 2372.84,-165.66\"/>\n",
       "</g>\n",
       "<!-- 39 -->\n",
       "<g id=\"node40\" class=\"node\">\n",
       "<title>39</title>\n",
       "<path fill=\"none\" stroke=\"black\" d=\"M2406,-53C2406,-53 2299,-53 2299,-53 2293,-53 2287,-47 2287,-41 2287,-41 2287,-12 2287,-12 2287,-6 2293,0 2299,0 2299,0 2406,0 2406,0 2412,0 2418,-6 2418,-12 2418,-12 2418,-41 2418,-41 2418,-47 2412,-53 2406,-53\"/>\n",
       "<text text-anchor=\"middle\" x=\"2352.5\" y=\"-37.8\" font-family=\"Helvetica,sans-Serif\" font-size=\"14.00\">entropy = 0.722</text>\n",
       "<text text-anchor=\"middle\" x=\"2352.5\" y=\"-22.8\" font-family=\"Helvetica,sans-Serif\" font-size=\"14.00\">samples = 20</text>\n",
       "<text text-anchor=\"middle\" x=\"2352.5\" y=\"-7.8\" font-family=\"Helvetica,sans-Serif\" font-size=\"14.00\">value = [16, 4]</text>\n",
       "</g>\n",
       "<!-- 38&#45;&gt;39 -->\n",
       "<g id=\"edge39\" class=\"edge\">\n",
       "<title>38&#45;&gt;39</title>\n",
       "<path fill=\"none\" stroke=\"black\" d=\"M2401.27,-88.95C2394.15,-79.98 2386.44,-70.27 2379.3,-61.26\"/>\n",
       "<polygon fill=\"black\" stroke=\"black\" points=\"2381.88,-58.89 2372.93,-53.24 2376.4,-63.25 2381.88,-58.89\"/>\n",
       "</g>\n",
       "<!-- 40 -->\n",
       "<g id=\"node41\" class=\"node\">\n",
       "<title>40</title>\n",
       "<path fill=\"none\" stroke=\"black\" d=\"M2555,-53C2555,-53 2448,-53 2448,-53 2442,-53 2436,-47 2436,-41 2436,-41 2436,-12 2436,-12 2436,-6 2442,0 2448,0 2448,0 2555,0 2555,0 2561,0 2567,-6 2567,-12 2567,-12 2567,-41 2567,-41 2567,-47 2561,-53 2555,-53\"/>\n",
       "<text text-anchor=\"middle\" x=\"2501.5\" y=\"-37.8\" font-family=\"Helvetica,sans-Serif\" font-size=\"14.00\">entropy = 0.988</text>\n",
       "<text text-anchor=\"middle\" x=\"2501.5\" y=\"-22.8\" font-family=\"Helvetica,sans-Serif\" font-size=\"14.00\">samples = 62</text>\n",
       "<text text-anchor=\"middle\" x=\"2501.5\" y=\"-7.8\" font-family=\"Helvetica,sans-Serif\" font-size=\"14.00\">value = [35, 27]</text>\n",
       "</g>\n",
       "<!-- 38&#45;&gt;40 -->\n",
       "<g id=\"edge40\" class=\"edge\">\n",
       "<title>38&#45;&gt;40</title>\n",
       "<path fill=\"none\" stroke=\"black\" d=\"M2453.38,-88.95C2460.4,-79.98 2468.01,-70.27 2475.06,-61.26\"/>\n",
       "<polygon fill=\"black\" stroke=\"black\" points=\"2477.94,-63.27 2481.35,-53.24 2472.43,-58.95 2477.94,-63.27\"/>\n",
       "</g>\n",
       "</g>\n",
       "</svg>\n"
      ],
      "text/plain": [
       "<graphviz.files.Source at 0x7fa5e99f2e10>"
      ]
     },
     "execution_count": 18,
     "metadata": {},
     "output_type": "execute_result"
    }
   ],
   "source": [
    "from sklearn import tree\n",
    "import graphviz \n",
    "dot_data = tree.export_graphviz(dtree, feature_names=X_train.columns, rounded=True)\n",
    "graph = graphviz.Source(dot_data) \n",
    "graph"
   ]
  },
  {
   "cell_type": "markdown",
   "id": "cbd5198c",
   "metadata": {
    "papermill": {
     "duration": 0.047716,
     "end_time": "2022-10-02T17:29:01.969896",
     "exception": false,
     "start_time": "2022-10-02T17:29:01.922180",
     "status": "completed"
    },
    "tags": []
   },
   "source": [
    "# Test Data"
   ]
  },
  {
   "cell_type": "code",
   "execution_count": 19,
   "id": "40fed405",
   "metadata": {
    "execution": {
     "iopub.execute_input": "2022-10-02T17:29:02.070526Z",
     "iopub.status.busy": "2022-10-02T17:29:02.069931Z",
     "iopub.status.idle": "2022-10-02T17:29:02.095018Z",
     "shell.execute_reply": "2022-10-02T17:29:02.094017Z"
    },
    "papermill": {
     "duration": 0.077891,
     "end_time": "2022-10-02T17:29:02.097174",
     "exception": false,
     "start_time": "2022-10-02T17:29:02.019283",
     "status": "completed"
    },
    "tags": []
   },
   "outputs": [
    {
     "data": {
      "text/html": [
       "<div>\n",
       "<style scoped>\n",
       "    .dataframe tbody tr th:only-of-type {\n",
       "        vertical-align: middle;\n",
       "    }\n",
       "\n",
       "    .dataframe tbody tr th {\n",
       "        vertical-align: top;\n",
       "    }\n",
       "\n",
       "    .dataframe thead th {\n",
       "        text-align: right;\n",
       "    }\n",
       "</style>\n",
       "<table border=\"1\" class=\"dataframe\">\n",
       "  <thead>\n",
       "    <tr style=\"text-align: right;\">\n",
       "      <th></th>\n",
       "      <th>PassengerId</th>\n",
       "      <th>Pclass</th>\n",
       "      <th>Sex</th>\n",
       "      <th>Age</th>\n",
       "      <th>SibSp</th>\n",
       "      <th>Parch</th>\n",
       "      <th>Fare</th>\n",
       "      <th>FirstClass</th>\n",
       "    </tr>\n",
       "  </thead>\n",
       "  <tbody>\n",
       "    <tr>\n",
       "      <th>0</th>\n",
       "      <td>892</td>\n",
       "      <td>3</td>\n",
       "      <td>1</td>\n",
       "      <td>34.5</td>\n",
       "      <td>0</td>\n",
       "      <td>0</td>\n",
       "      <td>7.8292</td>\n",
       "      <td>0</td>\n",
       "    </tr>\n",
       "    <tr>\n",
       "      <th>1</th>\n",
       "      <td>893</td>\n",
       "      <td>3</td>\n",
       "      <td>0</td>\n",
       "      <td>47.0</td>\n",
       "      <td>1</td>\n",
       "      <td>0</td>\n",
       "      <td>7.0000</td>\n",
       "      <td>0</td>\n",
       "    </tr>\n",
       "    <tr>\n",
       "      <th>2</th>\n",
       "      <td>894</td>\n",
       "      <td>2</td>\n",
       "      <td>1</td>\n",
       "      <td>62.0</td>\n",
       "      <td>0</td>\n",
       "      <td>0</td>\n",
       "      <td>9.6875</td>\n",
       "      <td>0</td>\n",
       "    </tr>\n",
       "    <tr>\n",
       "      <th>3</th>\n",
       "      <td>895</td>\n",
       "      <td>3</td>\n",
       "      <td>1</td>\n",
       "      <td>27.0</td>\n",
       "      <td>0</td>\n",
       "      <td>0</td>\n",
       "      <td>8.6625</td>\n",
       "      <td>0</td>\n",
       "    </tr>\n",
       "    <tr>\n",
       "      <th>4</th>\n",
       "      <td>896</td>\n",
       "      <td>3</td>\n",
       "      <td>0</td>\n",
       "      <td>22.0</td>\n",
       "      <td>1</td>\n",
       "      <td>1</td>\n",
       "      <td>12.2875</td>\n",
       "      <td>0</td>\n",
       "    </tr>\n",
       "  </tbody>\n",
       "</table>\n",
       "</div>"
      ],
      "text/plain": [
       "   PassengerId  Pclass  Sex   Age  SibSp  Parch     Fare  FirstClass\n",
       "0          892       3    1  34.5      0      0   7.8292           0\n",
       "1          893       3    0  47.0      1      0   7.0000           0\n",
       "2          894       2    1  62.0      0      0   9.6875           0\n",
       "3          895       3    1  27.0      0      0   8.6625           0\n",
       "4          896       3    0  22.0      1      1  12.2875           0"
      ]
     },
     "execution_count": 19,
     "metadata": {},
     "output_type": "execute_result"
    }
   ],
   "source": [
    "#GENDER\n",
    "test['Sex']=test['Sex'].map({'female':0,'male':1})\n",
    "test['FirstClass']=test['Pclass'].apply(lambda x: 1 if x==1 else 0)\n",
    "\n",
    "features=list(X.columns)\n",
    "test=test[features]\n",
    "\n",
    "test=test.fillna(test.mean())\n",
    "test.head()"
   ]
  },
  {
   "cell_type": "markdown",
   "id": "337483e9",
   "metadata": {
    "papermill": {
     "duration": 0.048927,
     "end_time": "2022-10-02T17:29:02.193763",
     "exception": false,
     "start_time": "2022-10-02T17:29:02.144836",
     "status": "completed"
    },
    "tags": []
   },
   "source": [
    "# Final Prediction"
   ]
  },
  {
   "cell_type": "code",
   "execution_count": 20,
   "id": "6cb1aebf",
   "metadata": {
    "execution": {
     "iopub.execute_input": "2022-10-02T17:29:02.292595Z",
     "iopub.status.busy": "2022-10-02T17:29:02.292016Z",
     "iopub.status.idle": "2022-10-02T17:29:02.305785Z",
     "shell.execute_reply": "2022-10-02T17:29:02.304798Z"
    },
    "papermill": {
     "duration": 0.066535,
     "end_time": "2022-10-02T17:29:02.308482",
     "exception": false,
     "start_time": "2022-10-02T17:29:02.241947",
     "status": "completed"
    },
    "tags": []
   },
   "outputs": [
    {
     "data": {
      "text/html": [
       "<div>\n",
       "<style scoped>\n",
       "    .dataframe tbody tr th:only-of-type {\n",
       "        vertical-align: middle;\n",
       "    }\n",
       "\n",
       "    .dataframe tbody tr th {\n",
       "        vertical-align: top;\n",
       "    }\n",
       "\n",
       "    .dataframe thead th {\n",
       "        text-align: right;\n",
       "    }\n",
       "</style>\n",
       "<table border=\"1\" class=\"dataframe\">\n",
       "  <thead>\n",
       "    <tr style=\"text-align: right;\">\n",
       "      <th></th>\n",
       "      <th>PassengerId</th>\n",
       "      <th>Survived</th>\n",
       "    </tr>\n",
       "  </thead>\n",
       "  <tbody>\n",
       "    <tr>\n",
       "      <th>0</th>\n",
       "      <td>892</td>\n",
       "      <td>0</td>\n",
       "    </tr>\n",
       "    <tr>\n",
       "      <th>1</th>\n",
       "      <td>893</td>\n",
       "      <td>0</td>\n",
       "    </tr>\n",
       "    <tr>\n",
       "      <th>2</th>\n",
       "      <td>894</td>\n",
       "      <td>0</td>\n",
       "    </tr>\n",
       "    <tr>\n",
       "      <th>3</th>\n",
       "      <td>895</td>\n",
       "      <td>0</td>\n",
       "    </tr>\n",
       "    <tr>\n",
       "      <th>4</th>\n",
       "      <td>896</td>\n",
       "      <td>0</td>\n",
       "    </tr>\n",
       "    <tr>\n",
       "      <th>5</th>\n",
       "      <td>897</td>\n",
       "      <td>0</td>\n",
       "    </tr>\n",
       "    <tr>\n",
       "      <th>6</th>\n",
       "      <td>898</td>\n",
       "      <td>0</td>\n",
       "    </tr>\n",
       "  </tbody>\n",
       "</table>\n",
       "</div>"
      ],
      "text/plain": [
       "   PassengerId  Survived\n",
       "0          892         0\n",
       "1          893         0\n",
       "2          894         0\n",
       "3          895         0\n",
       "4          896         0\n",
       "5          897         0\n",
       "6          898         0"
      ]
     },
     "execution_count": 20,
     "metadata": {},
     "output_type": "execute_result"
    }
   ],
   "source": [
    "test_predictions = dtree.predict(test)\n",
    "passID=test['PassengerId']\n",
    "tupleData = list(zip(passID, test_predictions))\n",
    "output = pd.DataFrame(tupleData, columns = ['PassengerId', 'Survived'])\n",
    "output.head(7)"
   ]
  },
  {
   "cell_type": "code",
   "execution_count": 21,
   "id": "db8a715e",
   "metadata": {
    "execution": {
     "iopub.execute_input": "2022-10-02T17:29:02.414040Z",
     "iopub.status.busy": "2022-10-02T17:29:02.413708Z",
     "iopub.status.idle": "2022-10-02T17:29:02.424166Z",
     "shell.execute_reply": "2022-10-02T17:29:02.422381Z"
    },
    "papermill": {
     "duration": 0.067764,
     "end_time": "2022-10-02T17:29:02.426925",
     "exception": false,
     "start_time": "2022-10-02T17:29:02.359161",
     "status": "completed"
    },
    "tags": []
   },
   "outputs": [
    {
     "name": "stdout",
     "output_type": "stream",
     "text": [
      "Your submission was successfully saved!\n"
     ]
    }
   ],
   "source": [
    "output.to_csv('submission.csv', index=False)\n",
    "print(\"Your submission was successfully saved!\")"
   ]
  },
  {
   "cell_type": "markdown",
   "id": "97c832f6",
   "metadata": {
    "papermill": {
     "duration": 0.049704,
     "end_time": "2022-10-02T17:29:02.526771",
     "exception": false,
     "start_time": "2022-10-02T17:29:02.477067",
     "status": "completed"
    },
    "tags": []
   },
   "source": [
    "#### Notes:\n",
    "Being a wife makes no difference in the final prediction: <br>\n",
    "` df['Titles'] = df['Name'].str.extract(r', (\\w+\\.)') \n",
    "df['Titles'] = df['Titles'].apply(lambda x: 1 if x=='Mrs.' else 0) `\n",
    "\n",
    "Generally, your performance will not change whether you use Gini impurity or Entropy. Laura Elena Raileanu and Kilian Stoffel compared both in \"Theoretical comparison between the gini index and information gain criteria\". The most important remarks were:\n",
    "\n",
    "It only matters in 2% of the cases whether you use gini impurity or entropy.\n",
    "Entropy might be a little slower to compute (because it makes use of the logarithm).\n",
    "I was once told that both metrics exist because they emerged in different disciplines of science.\n",
    "https://datascience.stackexchange.com/questions/10228/when-should-i-use-gini-impurity-as-opposed-to-information-gain-entropy"
   ]
  }
 ],
 "metadata": {
  "kernelspec": {
   "display_name": "Python 3",
   "language": "python",
   "name": "python3"
  },
  "language_info": {
   "codemirror_mode": {
    "name": "ipython",
    "version": 3
   },
   "file_extension": ".py",
   "mimetype": "text/x-python",
   "name": "python",
   "nbconvert_exporter": "python",
   "pygments_lexer": "ipython3",
   "version": "3.7.12"
  },
  "papermill": {
   "default_parameters": {},
   "duration": 41.927536,
   "end_time": "2022-10-02T17:29:03.500948",
   "environment_variables": {},
   "exception": null,
   "input_path": "__notebook__.ipynb",
   "output_path": "__notebook__.ipynb",
   "parameters": {},
   "start_time": "2022-10-02T17:28:21.573412",
   "version": "2.3.4"
  }
 },
 "nbformat": 4,
 "nbformat_minor": 5
}
