{
 "cells": [
  {
   "cell_type": "markdown",
   "id": "a026b996",
   "metadata": {
    "papermill": {
     "duration": 0.033124,
     "end_time": "2022-10-04T14:54:09.308633",
     "exception": false,
     "start_time": "2022-10-04T14:54:09.275509",
     "status": "completed"
    },
    "tags": []
   },
   "source": [
    "# Decision Tree Grid Search\n",
    "Machine Learning Titanic. Currently, my decision tree scores top 6%. I scored top 5% using both random forest and xgBoost: \n",
    "* https://github.com/ScottySchmidt/Kaggle/blob/main/xgbTop5%25.ipynb\n",
    "* https://github.com/ScottySchmidt/Kaggle/blob/main/Titanic.ipynb\n",
    "\n",
    "Decision tree will initially score almost a perfect AUC but that is because the data overfits. Regularizing the decision tree will be key for a high score. GridSearch will tune all the best possible parameters to get the best solution possible.  "
   ]
  },
  {
   "cell_type": "markdown",
   "id": "20bbe262",
   "metadata": {
    "papermill": {
     "duration": 0.030552,
     "end_time": "2022-10-04T14:54:09.369830",
     "exception": false,
     "start_time": "2022-10-04T14:54:09.339278",
     "status": "completed"
    },
    "tags": []
   },
   "source": [
    "# Train Data\n",
    "Train.csv will contain the details of a subset of the passengers on board (891 to be exact) and whether they survive or not. The shape of the train data is (891, 12). "
   ]
  },
  {
   "cell_type": "code",
   "execution_count": 1,
   "id": "8532ec88",
   "metadata": {
    "execution": {
     "iopub.execute_input": "2022-10-04T14:54:09.432832Z",
     "iopub.status.busy": "2022-10-04T14:54:09.432242Z",
     "iopub.status.idle": "2022-10-04T14:54:10.967546Z",
     "shell.execute_reply": "2022-10-04T14:54:10.966702Z"
    },
    "papermill": {
     "duration": 1.570037,
     "end_time": "2022-10-04T14:54:10.970291",
     "exception": false,
     "start_time": "2022-10-04T14:54:09.400254",
     "status": "completed"
    },
    "tags": []
   },
   "outputs": [
    {
     "name": "stdout",
     "output_type": "stream",
     "text": [
      "(891, 12)\n"
     ]
    },
    {
     "data": {
      "text/html": [
       "<div>\n",
       "<style scoped>\n",
       "    .dataframe tbody tr th:only-of-type {\n",
       "        vertical-align: middle;\n",
       "    }\n",
       "\n",
       "    .dataframe tbody tr th {\n",
       "        vertical-align: top;\n",
       "    }\n",
       "\n",
       "    .dataframe thead th {\n",
       "        text-align: right;\n",
       "    }\n",
       "</style>\n",
       "<table border=\"1\" class=\"dataframe\">\n",
       "  <thead>\n",
       "    <tr style=\"text-align: right;\">\n",
       "      <th></th>\n",
       "      <th>PassengerId</th>\n",
       "      <th>Survived</th>\n",
       "      <th>Pclass</th>\n",
       "      <th>Name</th>\n",
       "      <th>Sex</th>\n",
       "      <th>Age</th>\n",
       "      <th>SibSp</th>\n",
       "      <th>Parch</th>\n",
       "      <th>Ticket</th>\n",
       "      <th>Fare</th>\n",
       "      <th>Cabin</th>\n",
       "      <th>Embarked</th>\n",
       "    </tr>\n",
       "  </thead>\n",
       "  <tbody>\n",
       "    <tr>\n",
       "      <th>0</th>\n",
       "      <td>1</td>\n",
       "      <td>0</td>\n",
       "      <td>3</td>\n",
       "      <td>Braund, Mr. Owen Harris</td>\n",
       "      <td>male</td>\n",
       "      <td>22.0</td>\n",
       "      <td>1</td>\n",
       "      <td>0</td>\n",
       "      <td>A/5 21171</td>\n",
       "      <td>7.2500</td>\n",
       "      <td>NaN</td>\n",
       "      <td>S</td>\n",
       "    </tr>\n",
       "    <tr>\n",
       "      <th>1</th>\n",
       "      <td>2</td>\n",
       "      <td>1</td>\n",
       "      <td>1</td>\n",
       "      <td>Cumings, Mrs. John Bradley (Florence Briggs Th...</td>\n",
       "      <td>female</td>\n",
       "      <td>38.0</td>\n",
       "      <td>1</td>\n",
       "      <td>0</td>\n",
       "      <td>PC 17599</td>\n",
       "      <td>71.2833</td>\n",
       "      <td>C85</td>\n",
       "      <td>C</td>\n",
       "    </tr>\n",
       "    <tr>\n",
       "      <th>2</th>\n",
       "      <td>3</td>\n",
       "      <td>1</td>\n",
       "      <td>3</td>\n",
       "      <td>Heikkinen, Miss. Laina</td>\n",
       "      <td>female</td>\n",
       "      <td>26.0</td>\n",
       "      <td>0</td>\n",
       "      <td>0</td>\n",
       "      <td>STON/O2. 3101282</td>\n",
       "      <td>7.9250</td>\n",
       "      <td>NaN</td>\n",
       "      <td>S</td>\n",
       "    </tr>\n",
       "    <tr>\n",
       "      <th>3</th>\n",
       "      <td>4</td>\n",
       "      <td>1</td>\n",
       "      <td>1</td>\n",
       "      <td>Futrelle, Mrs. Jacques Heath (Lily May Peel)</td>\n",
       "      <td>female</td>\n",
       "      <td>35.0</td>\n",
       "      <td>1</td>\n",
       "      <td>0</td>\n",
       "      <td>113803</td>\n",
       "      <td>53.1000</td>\n",
       "      <td>C123</td>\n",
       "      <td>S</td>\n",
       "    </tr>\n",
       "    <tr>\n",
       "      <th>4</th>\n",
       "      <td>5</td>\n",
       "      <td>0</td>\n",
       "      <td>3</td>\n",
       "      <td>Allen, Mr. William Henry</td>\n",
       "      <td>male</td>\n",
       "      <td>35.0</td>\n",
       "      <td>0</td>\n",
       "      <td>0</td>\n",
       "      <td>373450</td>\n",
       "      <td>8.0500</td>\n",
       "      <td>NaN</td>\n",
       "      <td>S</td>\n",
       "    </tr>\n",
       "  </tbody>\n",
       "</table>\n",
       "</div>"
      ],
      "text/plain": [
       "   PassengerId  Survived  Pclass  \\\n",
       "0            1         0       3   \n",
       "1            2         1       1   \n",
       "2            3         1       3   \n",
       "3            4         1       1   \n",
       "4            5         0       3   \n",
       "\n",
       "                                                Name     Sex   Age  SibSp  \\\n",
       "0                            Braund, Mr. Owen Harris    male  22.0      1   \n",
       "1  Cumings, Mrs. John Bradley (Florence Briggs Th...  female  38.0      1   \n",
       "2                             Heikkinen, Miss. Laina  female  26.0      0   \n",
       "3       Futrelle, Mrs. Jacques Heath (Lily May Peel)  female  35.0      1   \n",
       "4                           Allen, Mr. William Henry    male  35.0      0   \n",
       "\n",
       "   Parch            Ticket     Fare Cabin Embarked  \n",
       "0      0         A/5 21171   7.2500   NaN        S  \n",
       "1      0          PC 17599  71.2833   C85        C  \n",
       "2      0  STON/O2. 3101282   7.9250   NaN        S  \n",
       "3      0            113803  53.1000  C123        S  \n",
       "4      0            373450   8.0500   NaN        S  "
      ]
     },
     "execution_count": 1,
     "metadata": {},
     "output_type": "execute_result"
    }
   ],
   "source": [
    "import numpy as np\n",
    "import pandas as pd\n",
    "import seaborn as sns\n",
    "import matplotlib.pyplot as plt\n",
    "from sklearn.model_selection import train_test_split, cross_validate\n",
    "from statistics import mean\n",
    "from sklearn.metrics import accuracy_score, classification_report, mean_absolute_error, mean_squared_error, r2_score\n",
    "from sklearn.datasets import make_classification\n",
    "from sklearn import ensemble\n",
    "import sklearn.metrics as metrics\n",
    "import time\n",
    "from math import sqrt\n",
    "\n",
    "train=r'/kaggle/input/titanic/train.csv'\n",
    "test=r'/kaggle/input/titanic/test.csv' \n",
    "\n",
    "df=pd.read_csv(train)\n",
    "test=pd.read_csv(test)\n",
    "\n",
    "print(df.shape)\n",
    "df.head()"
   ]
  },
  {
   "cell_type": "code",
   "execution_count": 2,
   "id": "231671ae",
   "metadata": {
    "execution": {
     "iopub.execute_input": "2022-10-04T14:54:11.035437Z",
     "iopub.status.busy": "2022-10-04T14:54:11.035158Z",
     "iopub.status.idle": "2022-10-04T14:54:11.060961Z",
     "shell.execute_reply": "2022-10-04T14:54:11.060342Z"
    },
    "papermill": {
     "duration": 0.060101,
     "end_time": "2022-10-04T14:54:11.062651",
     "exception": false,
     "start_time": "2022-10-04T14:54:11.002550",
     "status": "completed"
    },
    "tags": []
   },
   "outputs": [
    {
     "name": "stdout",
     "output_type": "stream",
     "text": [
      "Total no of duplicate values in Training Dataset = 0\n"
     ]
    },
    {
     "data": {
      "text/html": [
       "<div>\n",
       "<style scoped>\n",
       "    .dataframe tbody tr th:only-of-type {\n",
       "        vertical-align: middle;\n",
       "    }\n",
       "\n",
       "    .dataframe tbody tr th {\n",
       "        vertical-align: top;\n",
       "    }\n",
       "\n",
       "    .dataframe thead th {\n",
       "        text-align: right;\n",
       "    }\n",
       "</style>\n",
       "<table border=\"1\" class=\"dataframe\">\n",
       "  <thead>\n",
       "    <tr style=\"text-align: right;\">\n",
       "      <th></th>\n",
       "      <th>PassengerId</th>\n",
       "      <th>Survived</th>\n",
       "      <th>Pclass</th>\n",
       "      <th>Name</th>\n",
       "      <th>Sex</th>\n",
       "      <th>Age</th>\n",
       "      <th>SibSp</th>\n",
       "      <th>Parch</th>\n",
       "      <th>Ticket</th>\n",
       "      <th>Fare</th>\n",
       "      <th>Cabin</th>\n",
       "      <th>Embarked</th>\n",
       "    </tr>\n",
       "  </thead>\n",
       "  <tbody>\n",
       "  </tbody>\n",
       "</table>\n",
       "</div>"
      ],
      "text/plain": [
       "Empty DataFrame\n",
       "Columns: [PassengerId, Survived, Pclass, Name, Sex, Age, SibSp, Parch, Ticket, Fare, Cabin, Embarked]\n",
       "Index: []"
      ]
     },
     "execution_count": 2,
     "metadata": {},
     "output_type": "execute_result"
    }
   ],
   "source": [
    "#Check Duplicates:\n",
    "dupstr = df.duplicated()\n",
    "print('Total no of duplicate values in Training Dataset = %d' % (dupstr.sum()))\n",
    "df[dupstr]"
   ]
  },
  {
   "cell_type": "code",
   "execution_count": 3,
   "id": "98195d90",
   "metadata": {
    "execution": {
     "iopub.execute_input": "2022-10-04T14:54:11.131573Z",
     "iopub.status.busy": "2022-10-04T14:54:11.131035Z",
     "iopub.status.idle": "2022-10-04T14:54:11.138858Z",
     "shell.execute_reply": "2022-10-04T14:54:11.137987Z"
    },
    "papermill": {
     "duration": 0.045298,
     "end_time": "2022-10-04T14:54:11.140766",
     "exception": false,
     "start_time": "2022-10-04T14:54:11.095468",
     "status": "completed"
    },
    "tags": []
   },
   "outputs": [
    {
     "name": "stdout",
     "output_type": "stream",
     "text": [
      "Missing data by column as a percent:\n",
      "Cabin          0.771044\n",
      "Age            0.198653\n",
      "Embarked       0.002245\n",
      "PassengerId    0.000000\n",
      "Survived       0.000000\n",
      "dtype: float64\n"
     ]
    }
   ],
   "source": [
    "#search for columns with missing values:\n",
    "def findNA():\n",
    "    print(\"Missing data by column as a percent:\")\n",
    "    findNA=df.isnull().sum().sort_values(ascending=False)/len(df)\n",
    "    print(findNA.head())\n",
    "findNA() "
   ]
  },
  {
   "cell_type": "markdown",
   "id": "6757e3af",
   "metadata": {
    "papermill": {
     "duration": 0.032397,
     "end_time": "2022-10-04T14:54:11.206267",
     "exception": false,
     "start_time": "2022-10-04T14:54:11.173870",
     "status": "completed"
    },
    "tags": []
   },
   "source": [
    "# Feature Engineer\n",
    "We need to replace male and female into numbers. This is a very important part of the process because gender is one of the highest predictors on if a person survived or not."
   ]
  },
  {
   "cell_type": "code",
   "execution_count": 4,
   "id": "c3e9099a",
   "metadata": {
    "execution": {
     "iopub.execute_input": "2022-10-04T14:54:11.273347Z",
     "iopub.status.busy": "2022-10-04T14:54:11.273073Z",
     "iopub.status.idle": "2022-10-04T14:54:11.282648Z",
     "shell.execute_reply": "2022-10-04T14:54:11.281788Z"
    },
    "papermill": {
     "duration": 0.045654,
     "end_time": "2022-10-04T14:54:11.284531",
     "exception": false,
     "start_time": "2022-10-04T14:54:11.238877",
     "status": "completed"
    },
    "tags": []
   },
   "outputs": [],
   "source": [
    "#GENDER\n",
    "df['Sex']=df['Sex'].map({'female':0,'male':1})\n",
    "df['Pclass'].value_counts()\n",
    "df['FirstClass']=df['Pclass'].apply(lambda x: 1 if x==1 else 0)"
   ]
  },
  {
   "cell_type": "markdown",
   "id": "2530c7c1",
   "metadata": {
    "papermill": {
     "duration": 0.032756,
     "end_time": "2022-10-04T14:54:11.350279",
     "exception": false,
     "start_time": "2022-10-04T14:54:11.317523",
     "status": "completed"
    },
    "tags": []
   },
   "source": [
    "Females whose number is 0 had a much higher chance of surving than males. Later on, doing the importance feature analysis we will view that gender is actually one of the highest predictors. "
   ]
  },
  {
   "cell_type": "code",
   "execution_count": 5,
   "id": "fda4b2d6",
   "metadata": {
    "execution": {
     "iopub.execute_input": "2022-10-04T14:54:11.417544Z",
     "iopub.status.busy": "2022-10-04T14:54:11.417105Z",
     "iopub.status.idle": "2022-10-04T14:54:11.444558Z",
     "shell.execute_reply": "2022-10-04T14:54:11.443775Z"
    },
    "papermill": {
     "duration": 0.063572,
     "end_time": "2022-10-04T14:54:11.446638",
     "exception": false,
     "start_time": "2022-10-04T14:54:11.383066",
     "status": "completed"
    },
    "tags": []
   },
   "outputs": [
    {
     "data": {
      "text/html": [
       "<div>\n",
       "<style scoped>\n",
       "    .dataframe tbody tr th:only-of-type {\n",
       "        vertical-align: middle;\n",
       "    }\n",
       "\n",
       "    .dataframe tbody tr th {\n",
       "        vertical-align: top;\n",
       "    }\n",
       "\n",
       "    .dataframe thead th {\n",
       "        text-align: right;\n",
       "    }\n",
       "</style>\n",
       "<table border=\"1\" class=\"dataframe\">\n",
       "  <thead>\n",
       "    <tr style=\"text-align: right;\">\n",
       "      <th>Sex</th>\n",
       "      <th>0</th>\n",
       "      <th>1</th>\n",
       "    </tr>\n",
       "    <tr>\n",
       "      <th>Survived</th>\n",
       "      <th></th>\n",
       "      <th></th>\n",
       "    </tr>\n",
       "  </thead>\n",
       "  <tbody>\n",
       "    <tr>\n",
       "      <th>0</th>\n",
       "      <td>81</td>\n",
       "      <td>468</td>\n",
       "    </tr>\n",
       "    <tr>\n",
       "      <th>1</th>\n",
       "      <td>233</td>\n",
       "      <td>109</td>\n",
       "    </tr>\n",
       "  </tbody>\n",
       "</table>\n",
       "</div>"
      ],
      "text/plain": [
       "Sex         0    1\n",
       "Survived          \n",
       "0          81  468\n",
       "1         233  109"
      ]
     },
     "execution_count": 5,
     "metadata": {},
     "output_type": "execute_result"
    }
   ],
   "source": [
    "genderTable = pd.crosstab(df['Survived'],df['Sex'])\n",
    "genderTable"
   ]
  },
  {
   "cell_type": "markdown",
   "id": "0451123f",
   "metadata": {
    "papermill": {
     "duration": 0.032811,
     "end_time": "2022-10-04T14:54:11.512947",
     "exception": false,
     "start_time": "2022-10-04T14:54:11.480136",
     "status": "completed"
    },
    "tags": []
   },
   "source": [
    "# Encode Categorical Variables\n",
    "Encode Categorical Variables is needed for this dataset since there are many important variables that are not numeric yet. \n",
    "\n",
    "There are three classes C, Q, and S. Class C seems to have the highest chance of survival. Class S has the lowest chance of survival. Unfornately this would tend to show that economic status seems to played a part in the decision if someone survived or not. Embarked does not play role major role in feature importance. "
   ]
  },
  {
   "cell_type": "code",
   "execution_count": 6,
   "id": "d9f2db84",
   "metadata": {
    "execution": {
     "iopub.execute_input": "2022-10-04T14:54:11.580914Z",
     "iopub.status.busy": "2022-10-04T14:54:11.580595Z",
     "iopub.status.idle": "2022-10-04T14:54:11.788512Z",
     "shell.execute_reply": "2022-10-04T14:54:11.787965Z"
    },
    "papermill": {
     "duration": 0.244161,
     "end_time": "2022-10-04T14:54:11.790336",
     "exception": false,
     "start_time": "2022-10-04T14:54:11.546175",
     "status": "completed"
    },
    "tags": []
   },
   "outputs": [
    {
     "data": {
      "text/html": [
       "<div>\n",
       "<style scoped>\n",
       "    .dataframe tbody tr th:only-of-type {\n",
       "        vertical-align: middle;\n",
       "    }\n",
       "\n",
       "    .dataframe tbody tr th {\n",
       "        vertical-align: top;\n",
       "    }\n",
       "\n",
       "    .dataframe thead th {\n",
       "        text-align: right;\n",
       "    }\n",
       "</style>\n",
       "<table border=\"1\" class=\"dataframe\">\n",
       "  <thead>\n",
       "    <tr style=\"text-align: right;\">\n",
       "      <th></th>\n",
       "      <th>PassengerId</th>\n",
       "      <th>Survived</th>\n",
       "      <th>Pclass</th>\n",
       "      <th>Name</th>\n",
       "      <th>Sex</th>\n",
       "      <th>Age</th>\n",
       "      <th>SibSp</th>\n",
       "      <th>Parch</th>\n",
       "      <th>Ticket</th>\n",
       "      <th>Fare</th>\n",
       "      <th>Cabin</th>\n",
       "      <th>Embarked</th>\n",
       "      <th>FirstClass</th>\n",
       "    </tr>\n",
       "  </thead>\n",
       "  <tbody>\n",
       "    <tr>\n",
       "      <th>0</th>\n",
       "      <td>1</td>\n",
       "      <td>0</td>\n",
       "      <td>3</td>\n",
       "      <td>Braund, Mr. Owen Harris</td>\n",
       "      <td>1</td>\n",
       "      <td>22.0</td>\n",
       "      <td>1</td>\n",
       "      <td>0</td>\n",
       "      <td>A/5 21171</td>\n",
       "      <td>7.2500</td>\n",
       "      <td>NaN</td>\n",
       "      <td>S</td>\n",
       "      <td>0</td>\n",
       "    </tr>\n",
       "    <tr>\n",
       "      <th>1</th>\n",
       "      <td>2</td>\n",
       "      <td>1</td>\n",
       "      <td>1</td>\n",
       "      <td>Cumings, Mrs. John Bradley (Florence Briggs Th...</td>\n",
       "      <td>0</td>\n",
       "      <td>38.0</td>\n",
       "      <td>1</td>\n",
       "      <td>0</td>\n",
       "      <td>PC 17599</td>\n",
       "      <td>71.2833</td>\n",
       "      <td>C85</td>\n",
       "      <td>C</td>\n",
       "      <td>1</td>\n",
       "    </tr>\n",
       "    <tr>\n",
       "      <th>2</th>\n",
       "      <td>3</td>\n",
       "      <td>1</td>\n",
       "      <td>3</td>\n",
       "      <td>Heikkinen, Miss. Laina</td>\n",
       "      <td>0</td>\n",
       "      <td>26.0</td>\n",
       "      <td>0</td>\n",
       "      <td>0</td>\n",
       "      <td>STON/O2. 3101282</td>\n",
       "      <td>7.9250</td>\n",
       "      <td>NaN</td>\n",
       "      <td>S</td>\n",
       "      <td>0</td>\n",
       "    </tr>\n",
       "    <tr>\n",
       "      <th>3</th>\n",
       "      <td>4</td>\n",
       "      <td>1</td>\n",
       "      <td>1</td>\n",
       "      <td>Futrelle, Mrs. Jacques Heath (Lily May Peel)</td>\n",
       "      <td>0</td>\n",
       "      <td>35.0</td>\n",
       "      <td>1</td>\n",
       "      <td>0</td>\n",
       "      <td>113803</td>\n",
       "      <td>53.1000</td>\n",
       "      <td>C123</td>\n",
       "      <td>S</td>\n",
       "      <td>1</td>\n",
       "    </tr>\n",
       "    <tr>\n",
       "      <th>4</th>\n",
       "      <td>5</td>\n",
       "      <td>0</td>\n",
       "      <td>3</td>\n",
       "      <td>Allen, Mr. William Henry</td>\n",
       "      <td>1</td>\n",
       "      <td>35.0</td>\n",
       "      <td>0</td>\n",
       "      <td>0</td>\n",
       "      <td>373450</td>\n",
       "      <td>8.0500</td>\n",
       "      <td>NaN</td>\n",
       "      <td>S</td>\n",
       "      <td>0</td>\n",
       "    </tr>\n",
       "  </tbody>\n",
       "</table>\n",
       "</div>"
      ],
      "text/plain": [
       "   PassengerId  Survived  Pclass  \\\n",
       "0            1         0       3   \n",
       "1            2         1       1   \n",
       "2            3         1       3   \n",
       "3            4         1       1   \n",
       "4            5         0       3   \n",
       "\n",
       "                                                Name  Sex   Age  SibSp  Parch  \\\n",
       "0                            Braund, Mr. Owen Harris    1  22.0      1      0   \n",
       "1  Cumings, Mrs. John Bradley (Florence Briggs Th...    0  38.0      1      0   \n",
       "2                             Heikkinen, Miss. Laina    0  26.0      0      0   \n",
       "3       Futrelle, Mrs. Jacques Heath (Lily May Peel)    0  35.0      1      0   \n",
       "4                           Allen, Mr. William Henry    1  35.0      0      0   \n",
       "\n",
       "             Ticket     Fare Cabin Embarked  FirstClass  \n",
       "0         A/5 21171   7.2500   NaN        S           0  \n",
       "1          PC 17599  71.2833   C85        C           1  \n",
       "2  STON/O2. 3101282   7.9250   NaN        S           0  \n",
       "3            113803  53.1000  C123        S           1  \n",
       "4            373450   8.0500   NaN        S           0  "
      ]
     },
     "execution_count": 6,
     "metadata": {},
     "output_type": "execute_result"
    }
   ],
   "source": [
    "import category_encoders as ce\n",
    "encoder = ce.OrdinalEncoder(cols=['Embarked'])\n",
    "#df = encoder.fit_transform(df)\n",
    "#test = encoder.fit_transform(test)\n",
    "#test.head()\n",
    "df.head()"
   ]
  },
  {
   "cell_type": "markdown",
   "id": "8562600b",
   "metadata": {
    "papermill": {
     "duration": 0.033574,
     "end_time": "2022-10-04T14:54:11.858092",
     "exception": false,
     "start_time": "2022-10-04T14:54:11.824518",
     "status": "completed"
    },
    "tags": []
   },
   "source": [
    "# Examine Target Variable\n",
    "Survived is the Y variable we will be analyzing. Since the survival rete is 0.384 the data is not considered unbalanced. "
   ]
  },
  {
   "cell_type": "code",
   "execution_count": 7,
   "id": "e7cceb26",
   "metadata": {
    "execution": {
     "iopub.execute_input": "2022-10-04T14:54:11.927540Z",
     "iopub.status.busy": "2022-10-04T14:54:11.927187Z",
     "iopub.status.idle": "2022-10-04T14:54:11.934255Z",
     "shell.execute_reply": "2022-10-04T14:54:11.933406Z"
    },
    "papermill": {
     "duration": 0.044306,
     "end_time": "2022-10-04T14:54:11.936323",
     "exception": false,
     "start_time": "2022-10-04T14:54:11.892017",
     "status": "completed"
    },
    "tags": []
   },
   "outputs": [
    {
     "name": "stdout",
     "output_type": "stream",
     "text": [
      "0    549\n",
      "1    342\n",
      "Name: Survived, dtype: int64\n",
      "Percent that survived:  0.384\n"
     ]
    }
   ],
   "source": [
    "temp=df['Survived'].value_counts()\n",
    "print(temp)\n",
    "no=temp[0]\n",
    "yes=temp[1]\n",
    "percent=round(yes/(yes+no),3)\n",
    "print(\"Percent that survived: \", percent)"
   ]
  },
  {
   "cell_type": "markdown",
   "id": "dc68347a",
   "metadata": {
    "papermill": {
     "duration": 0.034299,
     "end_time": "2022-10-04T14:54:12.005737",
     "exception": false,
     "start_time": "2022-10-04T14:54:11.971438",
     "status": "completed"
    },
    "tags": []
   },
   "source": [
    "# Numeric DataFrame\n",
    "For now, we will analyze only numeric values. Categorical values will need to be encoded or analyzed individually."
   ]
  },
  {
   "cell_type": "code",
   "execution_count": 8,
   "id": "f2e24edd",
   "metadata": {
    "execution": {
     "iopub.execute_input": "2022-10-04T14:54:12.075226Z",
     "iopub.status.busy": "2022-10-04T14:54:12.074619Z",
     "iopub.status.idle": "2022-10-04T14:54:12.089532Z",
     "shell.execute_reply": "2022-10-04T14:54:12.088727Z"
    },
    "papermill": {
     "duration": 0.051683,
     "end_time": "2022-10-04T14:54:12.091484",
     "exception": false,
     "start_time": "2022-10-04T14:54:12.039801",
     "status": "completed"
    },
    "tags": []
   },
   "outputs": [
    {
     "data": {
      "text/html": [
       "<div>\n",
       "<style scoped>\n",
       "    .dataframe tbody tr th:only-of-type {\n",
       "        vertical-align: middle;\n",
       "    }\n",
       "\n",
       "    .dataframe tbody tr th {\n",
       "        vertical-align: top;\n",
       "    }\n",
       "\n",
       "    .dataframe thead th {\n",
       "        text-align: right;\n",
       "    }\n",
       "</style>\n",
       "<table border=\"1\" class=\"dataframe\">\n",
       "  <thead>\n",
       "    <tr style=\"text-align: right;\">\n",
       "      <th></th>\n",
       "      <th>PassengerId</th>\n",
       "      <th>Survived</th>\n",
       "      <th>Pclass</th>\n",
       "      <th>Sex</th>\n",
       "      <th>Age</th>\n",
       "      <th>SibSp</th>\n",
       "      <th>Parch</th>\n",
       "      <th>Fare</th>\n",
       "      <th>FirstClass</th>\n",
       "    </tr>\n",
       "  </thead>\n",
       "  <tbody>\n",
       "    <tr>\n",
       "      <th>0</th>\n",
       "      <td>1</td>\n",
       "      <td>0</td>\n",
       "      <td>3</td>\n",
       "      <td>1</td>\n",
       "      <td>22.0</td>\n",
       "      <td>1</td>\n",
       "      <td>0</td>\n",
       "      <td>7.2500</td>\n",
       "      <td>0</td>\n",
       "    </tr>\n",
       "    <tr>\n",
       "      <th>1</th>\n",
       "      <td>2</td>\n",
       "      <td>1</td>\n",
       "      <td>1</td>\n",
       "      <td>0</td>\n",
       "      <td>38.0</td>\n",
       "      <td>1</td>\n",
       "      <td>0</td>\n",
       "      <td>71.2833</td>\n",
       "      <td>1</td>\n",
       "    </tr>\n",
       "    <tr>\n",
       "      <th>2</th>\n",
       "      <td>3</td>\n",
       "      <td>1</td>\n",
       "      <td>3</td>\n",
       "      <td>0</td>\n",
       "      <td>26.0</td>\n",
       "      <td>0</td>\n",
       "      <td>0</td>\n",
       "      <td>7.9250</td>\n",
       "      <td>0</td>\n",
       "    </tr>\n",
       "    <tr>\n",
       "      <th>3</th>\n",
       "      <td>4</td>\n",
       "      <td>1</td>\n",
       "      <td>1</td>\n",
       "      <td>0</td>\n",
       "      <td>35.0</td>\n",
       "      <td>1</td>\n",
       "      <td>0</td>\n",
       "      <td>53.1000</td>\n",
       "      <td>1</td>\n",
       "    </tr>\n",
       "    <tr>\n",
       "      <th>4</th>\n",
       "      <td>5</td>\n",
       "      <td>0</td>\n",
       "      <td>3</td>\n",
       "      <td>1</td>\n",
       "      <td>35.0</td>\n",
       "      <td>0</td>\n",
       "      <td>0</td>\n",
       "      <td>8.0500</td>\n",
       "      <td>0</td>\n",
       "    </tr>\n",
       "  </tbody>\n",
       "</table>\n",
       "</div>"
      ],
      "text/plain": [
       "   PassengerId  Survived  Pclass  Sex   Age  SibSp  Parch     Fare  FirstClass\n",
       "0            1         0       3    1  22.0      1      0   7.2500           0\n",
       "1            2         1       1    0  38.0      1      0  71.2833           1\n",
       "2            3         1       3    0  26.0      0      0   7.9250           0\n",
       "3            4         1       1    0  35.0      1      0  53.1000           1\n",
       "4            5         0       3    1  35.0      0      0   8.0500           0"
      ]
     },
     "execution_count": 8,
     "metadata": {},
     "output_type": "execute_result"
    }
   ],
   "source": [
    "numerics = ['int16', 'int32', 'int64', 'float16', 'float32', 'float64']\n",
    "df = df.select_dtypes(include=numerics)\n",
    "df.head()"
   ]
  },
  {
   "cell_type": "markdown",
   "id": "f092a067",
   "metadata": {
    "papermill": {
     "duration": 0.034694,
     "end_time": "2022-10-04T14:54:12.160705",
     "exception": false,
     "start_time": "2022-10-04T14:54:12.126011",
     "status": "completed"
    },
    "tags": []
   },
   "source": [
    "# Correlations"
   ]
  },
  {
   "cell_type": "code",
   "execution_count": 9,
   "id": "cc5a93fa",
   "metadata": {
    "execution": {
     "iopub.execute_input": "2022-10-04T14:54:12.231592Z",
     "iopub.status.busy": "2022-10-04T14:54:12.231053Z",
     "iopub.status.idle": "2022-10-04T14:54:12.767520Z",
     "shell.execute_reply": "2022-10-04T14:54:12.766731Z"
    },
    "papermill": {
     "duration": 0.574936,
     "end_time": "2022-10-04T14:54:12.770089",
     "exception": false,
     "start_time": "2022-10-04T14:54:12.195153",
     "status": "completed"
    },
    "tags": []
   },
   "outputs": [
    {
     "data": {
      "text/plain": [
       "<AxesSubplot:>"
      ]
     },
     "execution_count": 9,
     "metadata": {},
     "output_type": "execute_result"
    },
    {
     "data": {
      "image/png": "[encoded data removed]",
      "text/plain": [
       "<Figure size 432x288 with 2 Axes>"
      ]
     },
     "metadata": {
      "needs_background": "light"
     },
     "output_type": "display_data"
    }
   ],
   "source": [
    "import seaborn as sns\n",
    "corr= df.corr()\n",
    "matrix = np.triu(corr)\n",
    "sns.heatmap(corr, annot=True, mask=matrix)"
   ]
  },
  {
   "cell_type": "markdown",
   "id": "ac72fc59",
   "metadata": {
    "papermill": {
     "duration": 0.036772,
     "end_time": "2022-10-04T14:54:12.843045",
     "exception": false,
     "start_time": "2022-10-04T14:54:12.806273",
     "status": "completed"
    },
    "tags": []
   },
   "source": [
    "# Check for missing values\n",
    "Age is missing around 20% of values.Therefore, we can simply fill in the mean for that one column."
   ]
  },
  {
   "cell_type": "code",
   "execution_count": 10,
   "id": "9a5d3062",
   "metadata": {
    "execution": {
     "iopub.execute_input": "2022-10-04T14:54:12.918236Z",
     "iopub.status.busy": "2022-10-04T14:54:12.917736Z",
     "iopub.status.idle": "2022-10-04T14:54:12.925920Z",
     "shell.execute_reply": "2022-10-04T14:54:12.924933Z"
    },
    "papermill": {
     "duration": 0.047645,
     "end_time": "2022-10-04T14:54:12.927810",
     "exception": false,
     "start_time": "2022-10-04T14:54:12.880165",
     "status": "completed"
    },
    "tags": []
   },
   "outputs": [
    {
     "name": "stdout",
     "output_type": "stream",
     "text": [
      "Missing data by column as a percent:\n",
      "Age            0.198653\n",
      "PassengerId    0.000000\n",
      "Survived       0.000000\n",
      "Pclass         0.000000\n",
      "Sex            0.000000\n",
      "dtype: float64\n"
     ]
    }
   ],
   "source": [
    "#search for columns with missing values:\n",
    "def findNA():\n",
    "    print(\"Missing data by column as a percent:\")\n",
    "    findNA=df.isnull().sum().sort_values(ascending=False)/len(df)\n",
    "    print(findNA.head())\n",
    "findNA() "
   ]
  },
  {
   "cell_type": "code",
   "execution_count": 11,
   "id": "e6669a1f",
   "metadata": {
    "execution": {
     "iopub.execute_input": "2022-10-04T14:54:13.002757Z",
     "iopub.status.busy": "2022-10-04T14:54:13.002091Z",
     "iopub.status.idle": "2022-10-04T14:54:13.011224Z",
     "shell.execute_reply": "2022-10-04T14:54:13.010299Z"
    },
    "papermill": {
     "duration": 0.04884,
     "end_time": "2022-10-04T14:54:13.013312",
     "exception": false,
     "start_time": "2022-10-04T14:54:12.964472",
     "status": "completed"
    },
    "tags": []
   },
   "outputs": [],
   "source": [
    "df= df.fillna(df.mean())"
   ]
  },
  {
   "cell_type": "markdown",
   "id": "290a4751",
   "metadata": {
    "papermill": {
     "duration": 0.037118,
     "end_time": "2022-10-04T14:54:13.087998",
     "exception": false,
     "start_time": "2022-10-04T14:54:13.050880",
     "status": "completed"
    },
    "tags": []
   },
   "source": [
    "# Split Data"
   ]
  },
  {
   "cell_type": "code",
   "execution_count": 12,
   "id": "f8ff1c8d",
   "metadata": {
    "execution": {
     "iopub.execute_input": "2022-10-04T14:54:13.163765Z",
     "iopub.status.busy": "2022-10-04T14:54:13.163238Z",
     "iopub.status.idle": "2022-10-04T14:54:13.170967Z",
     "shell.execute_reply": "2022-10-04T14:54:13.170119Z"
    },
    "papermill": {
     "duration": 0.047439,
     "end_time": "2022-10-04T14:54:13.172835",
     "exception": false,
     "start_time": "2022-10-04T14:54:13.125396",
     "status": "completed"
    },
    "tags": []
   },
   "outputs": [],
   "source": [
    "X=df.drop('Survived', axis=1)\n",
    "y=df['Survived']\n",
    "\n",
    "X_train, X_test, y_train, y_test = train_test_split(\n",
    "    X, y, test_size = 0.30, random_state = 42)"
   ]
  },
  {
   "cell_type": "markdown",
   "id": "6a7cda13",
   "metadata": {
    "papermill": {
     "duration": 0.036429,
     "end_time": "2022-10-04T14:54:13.245739",
     "exception": false,
     "start_time": "2022-10-04T14:54:13.209310",
     "status": "completed"
    },
    "tags": []
   },
   "source": [
    "# Highly Correlated Features\n",
    "There are no highly correlated variables above 80%. Therefore, we do not need to be concerned about removing variables that are too highly correlated. "
   ]
  },
  {
   "cell_type": "markdown",
   "id": "efd369d4",
   "metadata": {
    "papermill": {
     "duration": 0.036513,
     "end_time": "2022-10-04T14:54:13.319156",
     "exception": false,
     "start_time": "2022-10-04T14:54:13.282643",
     "status": "completed"
    },
    "tags": []
   },
   "source": [
    "# Tunning Tree"
   ]
  },
  {
   "cell_type": "code",
   "execution_count": 13,
   "id": "9247eb67",
   "metadata": {
    "execution": {
     "iopub.execute_input": "2022-10-04T14:54:13.394568Z",
     "iopub.status.busy": "2022-10-04T14:54:13.394279Z",
     "iopub.status.idle": "2022-10-04T14:54:14.440886Z",
     "shell.execute_reply": "2022-10-04T14:54:14.440057Z"
    },
    "papermill": {
     "duration": 1.086887,
     "end_time": "2022-10-04T14:54:14.442902",
     "exception": false,
     "start_time": "2022-10-04T14:54:13.356015",
     "status": "completed"
    },
    "tags": []
   },
   "outputs": [
    {
     "data": {
      "image/png": "[encoded data removed]",
      "text/plain": [
       "<Figure size 432x288 with 1 Axes>"
      ]
     },
     "metadata": {
      "needs_background": "light"
     },
     "output_type": "display_data"
    },
    {
     "data": {
      "image/png": "[encoded data removed]",
      "text/plain": [
       "<Figure size 432x288 with 1 Axes>"
      ]
     },
     "metadata": {
      "needs_background": "light"
     },
     "output_type": "display_data"
    },
    {
     "data": {
      "image/png": "[encoded data removed]",
      "text/plain": [
       "<Figure size 432x288 with 1 Axes>"
      ]
     },
     "metadata": {
      "needs_background": "light"
     },
     "output_type": "display_data"
    },
    {
     "data": {
      "image/png": "[encoded data removed]",
      "text/plain": [
       "<Figure size 432x288 with 1 Axes>"
      ]
     },
     "metadata": {
      "needs_background": "light"
     },
     "output_type": "display_data"
    }
   ],
   "source": [
    "from sklearn.tree import DecisionTreeRegressor, DecisionTreeClassifier\n",
    "from sklearn.model_selection import GridSearchCV\n",
    "\n",
    "#FIND best_tree_size LEAF NODES:\n",
    "def calcLeaf():\n",
    "    leafList = [None, 2, 4, 5, 10, 20]\n",
    "    accList=[]\n",
    "    maeList=[]\n",
    "    \n",
    "    for leaf in leafList:\n",
    "        tree = DecisionTreeClassifier(max_leaf_nodes=leaf, random_state=42)\n",
    "        tree.fit(X_train, y_train)\n",
    "        y_pred = tree.predict(X_test)\n",
    "        mae = mean_absolute_error(y_test, y_pred).round(4)\n",
    "        treeAUC = round( metrics.roc_auc_score(y_test, y_pred), 4 ) \n",
    "        accList.append(treeAUC)\n",
    "        maeList.append(mae)\n",
    "    \n",
    "    plt.plot(leafList,accList, label=\"Accuracy\")\n",
    "    plt.title('Decision Tree')\n",
    "    plt.xlabel('max_leaf_nodes')\n",
    "    plt.ylabel('Accuracy')\n",
    "    plt.legend()\n",
    "    plt.show()         \n",
    "    \n",
    "    plt.plot(leafList, maeList, label=\"Error\")\n",
    "    plt.title('Decision Tree')\n",
    "    plt.xlabel('max_leaf_nodes')\n",
    "    plt.ylabel('Error')\n",
    "    plt.legend()\n",
    "    plt.show()  \n",
    "    \n",
    "def calcDepth():\n",
    "    maxDepthList = [2, 3, 5, 6, 7, 8, 9, 10]\n",
    "    accList=[]\n",
    "    maeList=[]\n",
    "    \n",
    "    for d in maxDepthList:\n",
    "        tree = DecisionTreeClassifier(max_depth=d, random_state=42)\n",
    "        tree.fit(X_train, y_train)\n",
    "        y_pred = tree.predict(X_test)\n",
    "        mae = mean_absolute_error(y_test, y_pred).round(4)\n",
    "        treeAUC = round( metrics.roc_auc_score(y_test, y_pred), 4 ) \n",
    "        maeList.append(mae)\n",
    "        accList.append(treeAUC)\n",
    "        #print(d, \" max_depth || AUC \", treeAUC, \" || MAE: \", mae)\n",
    "\n",
    "    plt.plot(maxDepthList,accList, label=\"accuracy\")\n",
    "    plt.title('Decision Tree')\n",
    "    plt.xlabel('MaxDepth')\n",
    "    plt.ylabel('Accuracy')\n",
    "    plt.legend()\n",
    "    plt.show()         \n",
    "    \n",
    "    plt.plot(maxDepthList,maeList, label=\"error\")\n",
    "    plt.title('Decision Tree')\n",
    "    plt.xlabel('MaxDepth')\n",
    "    plt.ylabel('Error')\n",
    "    plt.legend()\n",
    "    plt.show()     \n",
    "    \n",
    "#TURN FUNCTION OFF OR ON BELOW:   \n",
    "calcLeaf()\n",
    "calcDepth() "
   ]
  },
  {
   "cell_type": "code",
   "execution_count": 14,
   "id": "aa6e33ef",
   "metadata": {
    "execution": {
     "iopub.execute_input": "2022-10-04T14:54:14.528384Z",
     "iopub.status.busy": "2022-10-04T14:54:14.528080Z",
     "iopub.status.idle": "2022-10-04T14:54:14.947768Z",
     "shell.execute_reply": "2022-10-04T14:54:14.946939Z"
    },
    "papermill": {
     "duration": 0.465926,
     "end_time": "2022-10-04T14:54:14.949927",
     "exception": false,
     "start_time": "2022-10-04T14:54:14.484001",
     "status": "completed"
    },
    "tags": []
   },
   "outputs": [
    {
     "data": {
      "image/png": "[encoded data removed]",
      "text/plain": [
       "<Figure size 432x288 with 1 Axes>"
      ]
     },
     "metadata": {
      "needs_background": "light"
     },
     "output_type": "display_data"
    },
    {
     "data": {
      "image/png": "[encoded data removed]",
      "text/plain": [
       "<Figure size 432x288 with 1 Axes>"
      ]
     },
     "metadata": {
      "needs_background": "light"
     },
     "output_type": "display_data"
    }
   ],
   "source": [
    "def minLeaf():\n",
    "    numbers = [.01, .3, .5, 1]\n",
    "    accList=[]\n",
    "    maeList=[]\n",
    "    \n",
    "    for n in numbers:\n",
    "        tree = DecisionTreeClassifier(min_samples_leaf=n, random_state=42)\n",
    "        tree.fit(X_train, y_train)\n",
    "        y_pred = tree.predict(X_test)\n",
    "        mae = mean_absolute_error(y_test, y_pred).round(4)\n",
    "        treeAUC = round( metrics.roc_auc_score(y_test, y_pred), 4 ) \n",
    "        maeList.append(mae)\n",
    "        accList.append(treeAUC)\n",
    "        #print(d, \" max_depth || AUC \", treeAUC, \" || MAE: \", mae)\n",
    "\n",
    "    plt.plot(numbers,accList, label=\"accuracy\")\n",
    "    plt.title('Decision Tree')\n",
    "    plt.xlabel('Min_samples_leaf')\n",
    "    plt.ylabel('Accuracy')\n",
    "    plt.legend()\n",
    "    plt.show()         \n",
    "    \n",
    "    plt.plot(numbers,maeList, label=\"error\")\n",
    "    plt.title('Decision Tree')\n",
    "    plt.xlabel('Min_samples_leaf')\n",
    "    plt.ylabel('Error')\n",
    "    plt.legend()\n",
    "    plt.show()  \n",
    "minLeaf()"
   ]
  },
  {
   "cell_type": "code",
   "execution_count": 15,
   "id": "793ed9d1",
   "metadata": {
    "execution": {
     "iopub.execute_input": "2022-10-04T14:54:15.038000Z",
     "iopub.status.busy": "2022-10-04T14:54:15.037709Z",
     "iopub.status.idle": "2022-10-04T14:54:15.519510Z",
     "shell.execute_reply": "2022-10-04T14:54:15.518708Z"
    },
    "papermill": {
     "duration": 0.52799,
     "end_time": "2022-10-04T14:54:15.521500",
     "exception": false,
     "start_time": "2022-10-04T14:54:14.993510",
     "status": "completed"
    },
    "tags": []
   },
   "outputs": [
    {
     "data": {
      "image/png": "[encoded data removed]",
      "text/plain": [
       "<Figure size 432x288 with 1 Axes>"
      ]
     },
     "metadata": {
      "needs_background": "light"
     },
     "output_type": "display_data"
    },
    {
     "data": {
      "image/png": "[encoded data removed]",
      "text/plain": [
       "<Figure size 432x288 with 1 Axes>"
      ]
     },
     "metadata": {
      "needs_background": "light"
     },
     "output_type": "display_data"
    }
   ],
   "source": [
    "def maxFeat():\n",
    "    name='max_features'\n",
    "    numbers = [None, 0.2, 0.4, 0.6, 0.8, .9, 1]\n",
    "    accList=[]\n",
    "    maeList=[]\n",
    "\n",
    "    for n in numbers:\n",
    "        tree = DecisionTreeClassifier(max_features=n, random_state=42)\n",
    "        tree.fit(X_train, y_train)\n",
    "        y_pred = tree.predict(X_test)\n",
    "        mae = mean_absolute_error(y_test, y_pred).round(4)\n",
    "        treeAUC = round( metrics.roc_auc_score(y_test, y_pred), 4 ) \n",
    "        maeList.append(mae)\n",
    "        accList.append(treeAUC)\n",
    "        #print(d, \" max_depth || AUC \", treeAUC, \" || MAE: \", mae)\n",
    "\n",
    "    plt.plot(numbers,accList, label=\"accuracy\")\n",
    "    plt.title('Decision Tree')\n",
    "    plt.xlabel(name)\n",
    "    plt.ylabel('Accuracy')\n",
    "    plt.legend()\n",
    "    plt.show()         \n",
    "    \n",
    "    plt.plot(numbers,maeList, label=\"error\")\n",
    "    plt.title('Decision Tree')\n",
    "    plt.xlabel(name)\n",
    "    plt.ylabel('Error')\n",
    "    plt.legend()\n",
    "    plt.show()  \n",
    "maxFeat()"
   ]
  },
  {
   "cell_type": "code",
   "execution_count": 16,
   "id": "cdb6dab1",
   "metadata": {
    "execution": {
     "iopub.execute_input": "2022-10-04T14:54:15.613388Z",
     "iopub.status.busy": "2022-10-04T14:54:15.613094Z",
     "iopub.status.idle": "2022-10-04T14:54:16.058494Z",
     "shell.execute_reply": "2022-10-04T14:54:16.057702Z"
    },
    "papermill": {
     "duration": 0.493491,
     "end_time": "2022-10-04T14:54:16.060480",
     "exception": false,
     "start_time": "2022-10-04T14:54:15.566989",
     "status": "completed"
    },
    "tags": []
   },
   "outputs": [
    {
     "data": {
      "image/png": "[encoded data removed]",
      "text/plain": [
       "<Figure size 432x288 with 1 Axes>"
      ]
     },
     "metadata": {
      "needs_background": "light"
     },
     "output_type": "display_data"
    },
    {
     "data": {
      "image/png": "[encoded data removed]",
      "text/plain": [
       "<Figure size 432x288 with 1 Axes>"
      ]
     },
     "metadata": {
      "needs_background": "light"
     },
     "output_type": "display_data"
    }
   ],
   "source": [
    "def minSplit():\n",
    "    name='min_samples_splits'\n",
    "    numbers = [.01, .1, .2, .3, .4, .5, .6, .7, .8, .9]\n",
    "    accList=[]\n",
    "    maeList=[]\n",
    "\n",
    "    for n in numbers:\n",
    "        tree = DecisionTreeClassifier(min_samples_split=n, random_state=42)\n",
    "        tree.fit(X_train, y_train)\n",
    "        y_pred = tree.predict(X_test)\n",
    "        mae = mean_absolute_error(y_test, y_pred).round(4)\n",
    "        treeAUC = round( metrics.roc_auc_score(y_test, y_pred), 4 ) \n",
    "        maeList.append(mae)\n",
    "        accList.append(treeAUC)\n",
    "        #print(d, \" max_depth || AUC \", treeAUC, \" || MAE: \", mae)\n",
    "\n",
    "    plt.plot(numbers,accList, label=\"accuracy\")\n",
    "    plt.title('Decision Tree')\n",
    "    plt.xlabel(name)\n",
    "    plt.ylabel('Accuracy')\n",
    "    plt.legend()\n",
    "    plt.show()         \n",
    "    \n",
    "    plt.plot(numbers,maeList, label=\"error\")\n",
    "    plt.title('Decision Tree')\n",
    "    plt.xlabel(name)\n",
    "    plt.ylabel('Error')\n",
    "    plt.legend()\n",
    "    plt.show()  \n",
    "minSplit()"
   ]
  },
  {
   "cell_type": "code",
   "execution_count": 17,
   "id": "1c2df07a",
   "metadata": {
    "execution": {
     "iopub.execute_input": "2022-10-04T14:54:16.155219Z",
     "iopub.status.busy": "2022-10-04T14:54:16.154915Z",
     "iopub.status.idle": "2022-10-04T14:54:16.573457Z",
     "shell.execute_reply": "2022-10-04T14:54:16.572699Z"
    },
    "papermill": {
     "duration": 0.468438,
     "end_time": "2022-10-04T14:54:16.575442",
     "exception": false,
     "start_time": "2022-10-04T14:54:16.107004",
     "status": "completed"
    },
    "tags": []
   },
   "outputs": [
    {
     "data": {
      "image/png": "[encoded data removed]",
      "text/plain": [
       "<Figure size 432x288 with 1 Axes>"
      ]
     },
     "metadata": {
      "needs_background": "light"
     },
     "output_type": "display_data"
    },
    {
     "data": {
      "image/png": "[encoded data removed]",
      "text/plain": [
       "<Figure size 432x288 with 1 Axes>"
      ]
     },
     "metadata": {
      "needs_background": "light"
     },
     "output_type": "display_data"
    }
   ],
   "source": [
    "def minWeight():\n",
    "    name='min_weight_fraction_leaf'\n",
    "    numbers =[0, 0.5]\n",
    "    accList=[]\n",
    "    maeList=[]\n",
    "\n",
    "    for n in numbers:\n",
    "        tree = DecisionTreeClassifier(min_weight_fraction_leaf=n, random_state=42)\n",
    "        tree.fit(X_train, y_train)\n",
    "        y_pred = tree.predict(X_test)\n",
    "        mae = mean_absolute_error(y_test, y_pred).round(4)\n",
    "        treeAUC = round( metrics.roc_auc_score(y_test, y_pred), 4 ) \n",
    "        maeList.append(mae)\n",
    "        accList.append(treeAUC)\n",
    "        #print(d, \" max_depth || AUC \", treeAUC, \" || MAE: \", mae)\n",
    "\n",
    "    plt.plot(numbers,accList, label=\"accuracy\")\n",
    "    plt.title('Decision Tree')\n",
    "    plt.xlabel(name)\n",
    "    plt.ylabel('Accuracy')\n",
    "    plt.legend()\n",
    "    plt.show()         \n",
    "    \n",
    "    plt.plot(numbers,maeList, label=\"error\")\n",
    "    plt.title('Decision Tree')\n",
    "    plt.xlabel(name)\n",
    "    plt.ylabel('Error')\n",
    "    plt.legend()\n",
    "    plt.show()  \n",
    "minWeight()"
   ]
  },
  {
   "cell_type": "markdown",
   "id": "e0765262",
   "metadata": {
    "papermill": {
     "duration": 0.048042,
     "end_time": "2022-10-04T14:54:16.671977",
     "exception": false,
     "start_time": "2022-10-04T14:54:16.623935",
     "status": "completed"
    },
    "tags": []
   },
   "source": [
    "# GridSearch Tree\n",
    "Using entropy versus gini makes little difference see notes page at end for more information. \n",
    "* Top 6% DecisionTreeClassifier(criterion='entropy', max_depth=3, max_features=0.9,\n",
    "                 min_samples_leaf=0.01, min_samples_split=0.1)\n",
    "* Top 10%  DecisionTreeClassifier(criterion='entropy', max_depth=5, max_features=0.5,\n",
    "                       min_samples_leaf=0.01)\n",
    "* Top 9%  DecisionTreeClassifier(criterion='entropy', max_depth=6, max_features=0.9,\n",
    "                       min_samples_leaf=0.01)\n",
    "                       \n",
    "Shockingly using max_depth of 6 scores slightly higher than max_depth 5 even though the individual tests show that max_depth 5 is better. Max_depth of 6 does not cross validate as well but it provides less error. Adding a min_samples_leaf gets close to a top 5%.\n",
    "\n",
    "Using accuracy as a scoring metric performs better than neg_mean_absolute_error."
   ]
  },
  {
   "cell_type": "code",
   "execution_count": 18,
   "id": "37d13e8b",
   "metadata": {
    "execution": {
     "iopub.execute_input": "2022-10-04T14:54:16.772480Z",
     "iopub.status.busy": "2022-10-04T14:54:16.772198Z",
     "iopub.status.idle": "2022-10-04T14:55:15.855369Z",
     "shell.execute_reply": "2022-10-04T14:55:15.854381Z"
    },
    "papermill": {
     "duration": 59.182279,
     "end_time": "2022-10-04T14:55:15.904384",
     "exception": false,
     "start_time": "2022-10-04T14:54:16.722105",
     "status": "completed"
    },
    "tags": []
   },
   "outputs": [
    {
     "name": "stdout",
     "output_type": "stream",
     "text": [
      "Start decision tree calculations:\n",
      "DecisionTreeClassifier(max_depth=5, max_features=0.9, min_samples_leaf=0.01,\n",
      "                       min_samples_split=0.01, min_weight_fraction_leaf=0)\n"
     ]
    }
   ],
   "source": [
    "print(\"Start decision tree calculations:\")\n",
    "tree_param = {'criterion':['entropy', 'gini'],\n",
    "            'max_depth':[4, 5],\n",
    "             'max_leaf_nodes':[None, 2, 3], \n",
    "              'min_samples_leaf':[.01, .3, .5, 1],\n",
    "            'max_features':[.1, .2, .3, .5, .7, .9, 1],\n",
    "              'min_samples_split':[.01, .1, .2, .4],\n",
    "              'min_weight_fraction_leaf':[0, .5],\n",
    "             }\n",
    "treeGrid=GridSearchCV(DecisionTreeClassifier(), tree_param, cv=5, scoring='accuracy')\n",
    "treeGrid.fit(X, y)\n",
    "print(treeGrid.best_estimator_)"
   ]
  },
  {
   "cell_type": "markdown",
   "id": "8b402b38",
   "metadata": {
    "papermill": {
     "duration": 0.049604,
     "end_time": "2022-10-04T14:55:16.003512",
     "exception": false,
     "start_time": "2022-10-04T14:55:15.953908",
     "status": "completed"
    },
    "tags": []
   },
   "source": [
    "#### Final Decision Tree Prediction\n",
    "Inputs below such as best_depth by using functions above."
   ]
  },
  {
   "cell_type": "code",
   "execution_count": 19,
   "id": "2fdf7ffc",
   "metadata": {
    "execution": {
     "iopub.execute_input": "2022-10-04T14:55:16.104543Z",
     "iopub.status.busy": "2022-10-04T14:55:16.104277Z",
     "iopub.status.idle": "2022-10-04T14:55:16.147627Z",
     "shell.execute_reply": "2022-10-04T14:55:16.146444Z"
    },
    "papermill": {
     "duration": 0.096351,
     "end_time": "2022-10-04T14:55:16.149552",
     "exception": false,
     "start_time": "2022-10-04T14:55:16.053201",
     "status": "completed"
    },
    "tags": []
   },
   "outputs": [
    {
     "name": "stdout",
     "output_type": "stream",
     "text": [
      "AUC for decision tree is:  0.7938\n",
      "0.4276  is tree MSE \n",
      "0.7822  ||  0.8172\n",
      "0.03500000000000003  cross validate score\n"
     ]
    }
   ],
   "source": [
    "dtree = DecisionTreeClassifier(\n",
    "    criterion='entropy',\n",
    "    max_depth=4, \n",
    "    max_features=.5,\n",
    "    max_leaf_nodes=None,\n",
    "    min_samples_leaf=.01,\n",
    "    min_samples_split=.01,\n",
    ")\n",
    "\n",
    "#FIT AND PREDICT:\n",
    "dtree.fit(X, y)\n",
    "y_pred =  dtree.predict(X_test)\n",
    "\n",
    "#Calculate Metrics:\n",
    "treeR2 = r2_score(y_test, y_pred).round(4)\n",
    "treeAUC = round( metrics.roc_auc_score(y_test, y_pred), 4 ) \n",
    "print(\"AUC for decision tree is: \", treeAUC)\n",
    "\n",
    "treeMSE=np.sqrt(metrics.mean_squared_error(y_test, y_pred))\n",
    "print(round(treeMSE, 4), \" is tree MSE \")\n",
    "\n",
    "#Cross Validate:\n",
    "treeScore = dtree.score(X_test, y_test).round(4)  \n",
    "treeCV = cross_validate(dtree, X, y, cv = 5)\n",
    "treeCV=treeCV['test_score'].mean().round(4)\n",
    "print(treeCV, ' || ', treeScore)\n",
    "print(treeScore-treeCV, \" cross validate score\")"
   ]
  },
  {
   "cell_type": "code",
   "execution_count": 20,
   "id": "0deec529",
   "metadata": {
    "execution": {
     "iopub.execute_input": "2022-10-04T14:55:16.251165Z",
     "iopub.status.busy": "2022-10-04T14:55:16.250897Z",
     "iopub.status.idle": "2022-10-04T14:55:17.227678Z",
     "shell.execute_reply": "2022-10-04T14:55:17.226667Z"
    },
    "papermill": {
     "duration": 1.030196,
     "end_time": "2022-10-04T14:55:17.229761",
     "exception": false,
     "start_time": "2022-10-04T14:55:16.199565",
     "status": "completed"
    },
    "tags": []
   },
   "outputs": [
    {
     "data": {
      "image/svg+xml": [
       "<?xml version=\"1.0\" encoding=\"UTF-8\" standalone=\"no\"?>\n",
       "<!DOCTYPE svg PUBLIC \"-//W3C//DTD SVG 1.1//EN\"\n",
       " \"http://www.w3.org/Graphics/SVG/1.1/DTD/svg11.dtd\">\n",
       "<!-- Generated by graphviz version 2.50.0 (20211209.0339)\n",
       " -->\n",
       "<!-- Title: Tree Pages: 1 -->\n",
       "<svg width=\"1794pt\" height=\"477pt\"\n",
       " viewBox=\"0.00 0.00 1793.50 477.00\" xmlns=\"http://www.w3.org/2000/svg\" xmlns:xlink=\"http://www.w3.org/1999/xlink\">\n",
       "<g id=\"graph0\" class=\"graph\" transform=\"scale(1 1) rotate(0) translate(4 473)\">\n",
       "<title>Tree</title>\n",
       "<polygon fill=\"white\" stroke=\"transparent\" points=\"-4,4 -4,-473 1789.5,-473 1789.5,4 -4,4\"/>\n",
       "<!-- 0 -->\n",
       "<g id=\"node1\" class=\"node\">\n",
       "<title>0</title>\n",
       "<path fill=\"none\" stroke=\"black\" d=\"M953.5,-469C953.5,-469 828.5,-469 828.5,-469 822.5,-469 816.5,-463 816.5,-457 816.5,-457 816.5,-413 816.5,-413 816.5,-407 822.5,-401 828.5,-401 828.5,-401 953.5,-401 953.5,-401 959.5,-401 965.5,-407 965.5,-413 965.5,-413 965.5,-457 965.5,-457 965.5,-463 959.5,-469 953.5,-469\"/>\n",
       "<text text-anchor=\"middle\" x=\"891\" y=\"-453.8\" font-family=\"Helvetica,sans-Serif\" font-size=\"14.00\">Sex &lt;= 0.5</text>\n",
       "<text text-anchor=\"middle\" x=\"891\" y=\"-438.8\" font-family=\"Helvetica,sans-Serif\" font-size=\"14.00\">entropy = 0.961</text>\n",
       "<text text-anchor=\"middle\" x=\"891\" y=\"-423.8\" font-family=\"Helvetica,sans-Serif\" font-size=\"14.00\">samples = 891</text>\n",
       "<text text-anchor=\"middle\" x=\"891\" y=\"-408.8\" font-family=\"Helvetica,sans-Serif\" font-size=\"14.00\">value = [549, 342]</text>\n",
       "</g>\n",
       "<!-- 1 -->\n",
       "<g id=\"node2\" class=\"node\">\n",
       "<title>1</title>\n",
       "<path fill=\"none\" stroke=\"black\" d=\"M789,-365C789,-365 673,-365 673,-365 667,-365 661,-359 661,-353 661,-353 661,-309 661,-309 661,-303 667,-297 673,-297 673,-297 789,-297 789,-297 795,-297 801,-303 801,-309 801,-309 801,-353 801,-353 801,-359 795,-365 789,-365\"/>\n",
       "<text text-anchor=\"middle\" x=\"731\" y=\"-349.8\" font-family=\"Helvetica,sans-Serif\" font-size=\"14.00\">FirstClass &lt;= 0.5</text>\n",
       "<text text-anchor=\"middle\" x=\"731\" y=\"-334.8\" font-family=\"Helvetica,sans-Serif\" font-size=\"14.00\">entropy = 0.824</text>\n",
       "<text text-anchor=\"middle\" x=\"731\" y=\"-319.8\" font-family=\"Helvetica,sans-Serif\" font-size=\"14.00\">samples = 314</text>\n",
       "<text text-anchor=\"middle\" x=\"731\" y=\"-304.8\" font-family=\"Helvetica,sans-Serif\" font-size=\"14.00\">value = [81, 233]</text>\n",
       "</g>\n",
       "<!-- 0&#45;&gt;1 -->\n",
       "<g id=\"edge1\" class=\"edge\">\n",
       "<title>0&#45;&gt;1</title>\n",
       "<path fill=\"none\" stroke=\"black\" d=\"M839.05,-400.88C823.89,-391.21 807.18,-380.56 791.53,-370.59\"/>\n",
       "<polygon fill=\"black\" stroke=\"black\" points=\"793.27,-367.55 782.96,-365.12 789.51,-373.45 793.27,-367.55\"/>\n",
       "<text text-anchor=\"middle\" x=\"788.36\" y=\"-385.83\" font-family=\"Helvetica,sans-Serif\" font-size=\"14.00\">True</text>\n",
       "</g>\n",
       "<!-- 14 -->\n",
       "<g id=\"node15\" class=\"node\">\n",
       "<title>14</title>\n",
       "<path fill=\"none\" stroke=\"black\" d=\"M1112.5,-365C1112.5,-365 987.5,-365 987.5,-365 981.5,-365 975.5,-359 975.5,-353 975.5,-353 975.5,-309 975.5,-309 975.5,-303 981.5,-297 987.5,-297 987.5,-297 1112.5,-297 1112.5,-297 1118.5,-297 1124.5,-303 1124.5,-309 1124.5,-309 1124.5,-353 1124.5,-353 1124.5,-359 1118.5,-365 1112.5,-365\"/>\n",
       "<text text-anchor=\"middle\" x=\"1050\" y=\"-349.8\" font-family=\"Helvetica,sans-Serif\" font-size=\"14.00\">Fare &lt;= 26.269</text>\n",
       "<text text-anchor=\"middle\" x=\"1050\" y=\"-334.8\" font-family=\"Helvetica,sans-Serif\" font-size=\"14.00\">entropy = 0.699</text>\n",
       "<text text-anchor=\"middle\" x=\"1050\" y=\"-319.8\" font-family=\"Helvetica,sans-Serif\" font-size=\"14.00\">samples = 577</text>\n",
       "<text text-anchor=\"middle\" x=\"1050\" y=\"-304.8\" font-family=\"Helvetica,sans-Serif\" font-size=\"14.00\">value = [468, 109]</text>\n",
       "</g>\n",
       "<!-- 0&#45;&gt;14 -->\n",
       "<g id=\"edge14\" class=\"edge\">\n",
       "<title>0&#45;&gt;14</title>\n",
       "<path fill=\"none\" stroke=\"black\" d=\"M942.62,-400.88C957.7,-391.21 974.3,-380.56 989.85,-370.59\"/>\n",
       "<polygon fill=\"black\" stroke=\"black\" points=\"991.84,-373.47 998.36,-365.12 988.06,-367.58 991.84,-373.47\"/>\n",
       "<text text-anchor=\"middle\" x=\"993.03\" y=\"-385.85\" font-family=\"Helvetica,sans-Serif\" font-size=\"14.00\">False</text>\n",
       "</g>\n",
       "<!-- 2 -->\n",
       "<g id=\"node3\" class=\"node\">\n",
       "<title>2</title>\n",
       "<path fill=\"none\" stroke=\"black\" d=\"M477,-261C477,-261 361,-261 361,-261 355,-261 349,-255 349,-249 349,-249 349,-205 349,-205 349,-199 355,-193 361,-193 361,-193 477,-193 477,-193 483,-193 489,-199 489,-205 489,-205 489,-249 489,-249 489,-255 483,-261 477,-261\"/>\n",
       "<text text-anchor=\"middle\" x=\"419\" y=\"-245.8\" font-family=\"Helvetica,sans-Serif\" font-size=\"14.00\">Pclass &lt;= 2.5</text>\n",
       "<text text-anchor=\"middle\" x=\"419\" y=\"-230.8\" font-family=\"Helvetica,sans-Serif\" font-size=\"14.00\">entropy = 0.938</text>\n",
       "<text text-anchor=\"middle\" x=\"419\" y=\"-215.8\" font-family=\"Helvetica,sans-Serif\" font-size=\"14.00\">samples = 220</text>\n",
       "<text text-anchor=\"middle\" x=\"419\" y=\"-200.8\" font-family=\"Helvetica,sans-Serif\" font-size=\"14.00\">value = [78, 142]</text>\n",
       "</g>\n",
       "<!-- 1&#45;&gt;2 -->\n",
       "<g id=\"edge2\" class=\"edge\">\n",
       "<title>1&#45;&gt;2</title>\n",
       "<path fill=\"none\" stroke=\"black\" d=\"M660.98,-307.11C612.79,-291.36 548.69,-270.4 498.56,-254.01\"/>\n",
       "<polygon fill=\"black\" stroke=\"black\" points=\"499.65,-250.68 489.05,-250.9 497.47,-257.34 499.65,-250.68\"/>\n",
       "</g>\n",
       "<!-- 9 -->\n",
       "<g id=\"node10\" class=\"node\">\n",
       "<title>9</title>\n",
       "<path fill=\"none\" stroke=\"black\" d=\"M784.5,-261C784.5,-261 677.5,-261 677.5,-261 671.5,-261 665.5,-255 665.5,-249 665.5,-249 665.5,-205 665.5,-205 665.5,-199 671.5,-193 677.5,-193 677.5,-193 784.5,-193 784.5,-193 790.5,-193 796.5,-199 796.5,-205 796.5,-205 796.5,-249 796.5,-249 796.5,-255 790.5,-261 784.5,-261\"/>\n",
       "<text text-anchor=\"middle\" x=\"731\" y=\"-245.8\" font-family=\"Helvetica,sans-Serif\" font-size=\"14.00\">Parch &lt;= 1.5</text>\n",
       "<text text-anchor=\"middle\" x=\"731\" y=\"-230.8\" font-family=\"Helvetica,sans-Serif\" font-size=\"14.00\">entropy = 0.204</text>\n",
       "<text text-anchor=\"middle\" x=\"731\" y=\"-215.8\" font-family=\"Helvetica,sans-Serif\" font-size=\"14.00\">samples = 94</text>\n",
       "<text text-anchor=\"middle\" x=\"731\" y=\"-200.8\" font-family=\"Helvetica,sans-Serif\" font-size=\"14.00\">value = [3, 91]</text>\n",
       "</g>\n",
       "<!-- 1&#45;&gt;9 -->\n",
       "<g id=\"edge9\" class=\"edge\">\n",
       "<title>1&#45;&gt;9</title>\n",
       "<path fill=\"none\" stroke=\"black\" d=\"M731,-296.88C731,-288.78 731,-279.98 731,-271.47\"/>\n",
       "<polygon fill=\"black\" stroke=\"black\" points=\"734.5,-271.3 731,-261.3 727.5,-271.3 734.5,-271.3\"/>\n",
       "</g>\n",
       "<!-- 3 -->\n",
       "<g id=\"node4\" class=\"node\">\n",
       "<title>3</title>\n",
       "<path fill=\"none\" stroke=\"black\" d=\"M259.5,-157C259.5,-157 152.5,-157 152.5,-157 146.5,-157 140.5,-151 140.5,-145 140.5,-145 140.5,-101 140.5,-101 140.5,-95 146.5,-89 152.5,-89 152.5,-89 259.5,-89 259.5,-89 265.5,-89 271.5,-95 271.5,-101 271.5,-101 271.5,-145 271.5,-145 271.5,-151 265.5,-157 259.5,-157\"/>\n",
       "<text text-anchor=\"middle\" x=\"206\" y=\"-141.8\" font-family=\"Helvetica,sans-Serif\" font-size=\"14.00\">Age &lt;= 23.5</text>\n",
       "<text text-anchor=\"middle\" x=\"206\" y=\"-126.8\" font-family=\"Helvetica,sans-Serif\" font-size=\"14.00\">entropy = 0.398</text>\n",
       "<text text-anchor=\"middle\" x=\"206\" y=\"-111.8\" font-family=\"Helvetica,sans-Serif\" font-size=\"14.00\">samples = 76</text>\n",
       "<text text-anchor=\"middle\" x=\"206\" y=\"-96.8\" font-family=\"Helvetica,sans-Serif\" font-size=\"14.00\">value = [6, 70]</text>\n",
       "</g>\n",
       "<!-- 2&#45;&gt;3 -->\n",
       "<g id=\"edge3\" class=\"edge\">\n",
       "<title>2&#45;&gt;3</title>\n",
       "<path fill=\"none\" stroke=\"black\" d=\"M349.85,-192.88C327.74,-182.3 303.19,-170.54 280.71,-159.78\"/>\n",
       "<polygon fill=\"black\" stroke=\"black\" points=\"282.08,-156.55 271.55,-155.39 279.06,-162.87 282.08,-156.55\"/>\n",
       "</g>\n",
       "<!-- 6 -->\n",
       "<g id=\"node7\" class=\"node\">\n",
       "<title>6</title>\n",
       "<path fill=\"none\" stroke=\"black\" d=\"M494.5,-157C494.5,-157 343.5,-157 343.5,-157 337.5,-157 331.5,-151 331.5,-145 331.5,-145 331.5,-101 331.5,-101 331.5,-95 337.5,-89 343.5,-89 343.5,-89 494.5,-89 494.5,-89 500.5,-89 506.5,-95 506.5,-101 506.5,-101 506.5,-145 506.5,-145 506.5,-151 500.5,-157 494.5,-157\"/>\n",
       "<text text-anchor=\"middle\" x=\"419\" y=\"-141.8\" font-family=\"Helvetica,sans-Serif\" font-size=\"14.00\">PassengerId &lt;= 396.0</text>\n",
       "<text text-anchor=\"middle\" x=\"419\" y=\"-126.8\" font-family=\"Helvetica,sans-Serif\" font-size=\"14.00\">entropy = 1.0</text>\n",
       "<text text-anchor=\"middle\" x=\"419\" y=\"-111.8\" font-family=\"Helvetica,sans-Serif\" font-size=\"14.00\">samples = 144</text>\n",
       "<text text-anchor=\"middle\" x=\"419\" y=\"-96.8\" font-family=\"Helvetica,sans-Serif\" font-size=\"14.00\">value = [72, 72]</text>\n",
       "</g>\n",
       "<!-- 2&#45;&gt;6 -->\n",
       "<g id=\"edge6\" class=\"edge\">\n",
       "<title>2&#45;&gt;6</title>\n",
       "<path fill=\"none\" stroke=\"black\" d=\"M419,-192.88C419,-184.78 419,-175.98 419,-167.47\"/>\n",
       "<polygon fill=\"black\" stroke=\"black\" points=\"422.5,-167.3 419,-157.3 415.5,-167.3 422.5,-167.3\"/>\n",
       "</g>\n",
       "<!-- 4 -->\n",
       "<g id=\"node5\" class=\"node\">\n",
       "<title>4</title>\n",
       "<path fill=\"none\" stroke=\"black\" d=\"M110,-53C110,-53 12,-53 12,-53 6,-53 0,-47 0,-41 0,-41 0,-12 0,-12 0,-6 6,0 12,0 12,0 110,0 110,0 116,0 122,-6 122,-12 122,-12 122,-41 122,-41 122,-47 116,-53 110,-53\"/>\n",
       "<text text-anchor=\"middle\" x=\"61\" y=\"-37.8\" font-family=\"Helvetica,sans-Serif\" font-size=\"14.00\">entropy = 0.0</text>\n",
       "<text text-anchor=\"middle\" x=\"61\" y=\"-22.8\" font-family=\"Helvetica,sans-Serif\" font-size=\"14.00\">samples = 20</text>\n",
       "<text text-anchor=\"middle\" x=\"61\" y=\"-7.8\" font-family=\"Helvetica,sans-Serif\" font-size=\"14.00\">value = [0, 20]</text>\n",
       "</g>\n",
       "<!-- 3&#45;&gt;4 -->\n",
       "<g id=\"edge4\" class=\"edge\">\n",
       "<title>3&#45;&gt;4</title>\n",
       "<path fill=\"none\" stroke=\"black\" d=\"M155.29,-88.95C140.27,-79.16 123.87,-68.48 109.03,-58.8\"/>\n",
       "<polygon fill=\"black\" stroke=\"black\" points=\"110.78,-55.76 100.49,-53.24 106.96,-61.63 110.78,-55.76\"/>\n",
       "</g>\n",
       "<!-- 5 -->\n",
       "<g id=\"node6\" class=\"node\">\n",
       "<title>5</title>\n",
       "<path fill=\"none\" stroke=\"black\" d=\"M259.5,-53C259.5,-53 152.5,-53 152.5,-53 146.5,-53 140.5,-47 140.5,-41 140.5,-41 140.5,-12 140.5,-12 140.5,-6 146.5,0 152.5,0 152.5,0 259.5,0 259.5,0 265.5,0 271.5,-6 271.5,-12 271.5,-12 271.5,-41 271.5,-41 271.5,-47 265.5,-53 259.5,-53\"/>\n",
       "<text text-anchor=\"middle\" x=\"206\" y=\"-37.8\" font-family=\"Helvetica,sans-Serif\" font-size=\"14.00\">entropy = 0.491</text>\n",
       "<text text-anchor=\"middle\" x=\"206\" y=\"-22.8\" font-family=\"Helvetica,sans-Serif\" font-size=\"14.00\">samples = 56</text>\n",
       "<text text-anchor=\"middle\" x=\"206\" y=\"-7.8\" font-family=\"Helvetica,sans-Serif\" font-size=\"14.00\">value = [6, 50]</text>\n",
       "</g>\n",
       "<!-- 3&#45;&gt;5 -->\n",
       "<g id=\"edge5\" class=\"edge\">\n",
       "<title>3&#45;&gt;5</title>\n",
       "<path fill=\"none\" stroke=\"black\" d=\"M206,-88.95C206,-80.72 206,-71.85 206,-63.48\"/>\n",
       "<polygon fill=\"black\" stroke=\"black\" points=\"209.5,-63.24 206,-53.24 202.5,-63.24 209.5,-63.24\"/>\n",
       "</g>\n",
       "<!-- 7 -->\n",
       "<g id=\"node8\" class=\"node\">\n",
       "<title>7</title>\n",
       "<path fill=\"none\" stroke=\"black\" d=\"M408.5,-53C408.5,-53 301.5,-53 301.5,-53 295.5,-53 289.5,-47 289.5,-41 289.5,-41 289.5,-12 289.5,-12 289.5,-6 295.5,0 301.5,0 301.5,0 408.5,0 408.5,0 414.5,0 420.5,-6 420.5,-12 420.5,-12 420.5,-41 420.5,-41 420.5,-47 414.5,-53 408.5,-53\"/>\n",
       "<text text-anchor=\"middle\" x=\"355\" y=\"-37.8\" font-family=\"Helvetica,sans-Serif\" font-size=\"14.00\">entropy = 0.963</text>\n",
       "<text text-anchor=\"middle\" x=\"355\" y=\"-22.8\" font-family=\"Helvetica,sans-Serif\" font-size=\"14.00\">samples = 75</text>\n",
       "<text text-anchor=\"middle\" x=\"355\" y=\"-7.8\" font-family=\"Helvetica,sans-Serif\" font-size=\"14.00\">value = [29, 46]</text>\n",
       "</g>\n",
       "<!-- 6&#45;&gt;7 -->\n",
       "<g id=\"edge7\" class=\"edge\">\n",
       "<title>6&#45;&gt;7</title>\n",
       "<path fill=\"none\" stroke=\"black\" d=\"M396.62,-88.95C390.61,-80.07 384.1,-70.46 378.05,-61.54\"/>\n",
       "<polygon fill=\"black\" stroke=\"black\" points=\"380.94,-59.55 372.43,-53.24 375.14,-63.48 380.94,-59.55\"/>\n",
       "</g>\n",
       "<!-- 8 -->\n",
       "<g id=\"node9\" class=\"node\">\n",
       "<title>8</title>\n",
       "<path fill=\"none\" stroke=\"black\" d=\"M557.5,-53C557.5,-53 450.5,-53 450.5,-53 444.5,-53 438.5,-47 438.5,-41 438.5,-41 438.5,-12 438.5,-12 438.5,-6 444.5,0 450.5,0 450.5,0 557.5,0 557.5,0 563.5,0 569.5,-6 569.5,-12 569.5,-12 569.5,-41 569.5,-41 569.5,-47 563.5,-53 557.5,-53\"/>\n",
       "<text text-anchor=\"middle\" x=\"504\" y=\"-37.8\" font-family=\"Helvetica,sans-Serif\" font-size=\"14.00\">entropy = 0.956</text>\n",
       "<text text-anchor=\"middle\" x=\"504\" y=\"-22.8\" font-family=\"Helvetica,sans-Serif\" font-size=\"14.00\">samples = 69</text>\n",
       "<text text-anchor=\"middle\" x=\"504\" y=\"-7.8\" font-family=\"Helvetica,sans-Serif\" font-size=\"14.00\">value = [43, 26]</text>\n",
       "</g>\n",
       "<!-- 6&#45;&gt;8 -->\n",
       "<g id=\"edge8\" class=\"edge\">\n",
       "<title>6&#45;&gt;8</title>\n",
       "<path fill=\"none\" stroke=\"black\" d=\"M448.73,-88.95C456.96,-79.8 465.89,-69.87 474.13,-60.71\"/>\n",
       "<polygon fill=\"black\" stroke=\"black\" points=\"476.77,-63.01 480.85,-53.24 471.56,-58.33 476.77,-63.01\"/>\n",
       "</g>\n",
       "<!-- 10 -->\n",
       "<g id=\"node11\" class=\"node\">\n",
       "<title>10</title>\n",
       "<path fill=\"none\" stroke=\"black\" d=\"M728.5,-157C728.5,-157 577.5,-157 577.5,-157 571.5,-157 565.5,-151 565.5,-145 565.5,-145 565.5,-101 565.5,-101 565.5,-95 571.5,-89 577.5,-89 577.5,-89 728.5,-89 728.5,-89 734.5,-89 740.5,-95 740.5,-101 740.5,-101 740.5,-145 740.5,-145 740.5,-151 734.5,-157 728.5,-157\"/>\n",
       "<text text-anchor=\"middle\" x=\"653\" y=\"-141.8\" font-family=\"Helvetica,sans-Serif\" font-size=\"14.00\">PassengerId &lt;= 186.5</text>\n",
       "<text text-anchor=\"middle\" x=\"653\" y=\"-126.8\" font-family=\"Helvetica,sans-Serif\" font-size=\"14.00\">entropy = 0.096</text>\n",
       "<text text-anchor=\"middle\" x=\"653\" y=\"-111.8\" font-family=\"Helvetica,sans-Serif\" font-size=\"14.00\">samples = 81</text>\n",
       "<text text-anchor=\"middle\" x=\"653\" y=\"-96.8\" font-family=\"Helvetica,sans-Serif\" font-size=\"14.00\">value = [1, 80]</text>\n",
       "</g>\n",
       "<!-- 9&#45;&gt;10 -->\n",
       "<g id=\"edge10\" class=\"edge\">\n",
       "<title>9&#45;&gt;10</title>\n",
       "<path fill=\"none\" stroke=\"black\" d=\"M705.68,-192.88C699,-184.15 691.71,-174.62 684.75,-165.51\"/>\n",
       "<polygon fill=\"black\" stroke=\"black\" points=\"687.32,-163.12 678.46,-157.3 681.76,-167.37 687.32,-163.12\"/>\n",
       "</g>\n",
       "<!-- 13 -->\n",
       "<g id=\"node14\" class=\"node\">\n",
       "<title>13</title>\n",
       "<path fill=\"none\" stroke=\"black\" d=\"M877.5,-149.5C877.5,-149.5 770.5,-149.5 770.5,-149.5 764.5,-149.5 758.5,-143.5 758.5,-137.5 758.5,-137.5 758.5,-108.5 758.5,-108.5 758.5,-102.5 764.5,-96.5 770.5,-96.5 770.5,-96.5 877.5,-96.5 877.5,-96.5 883.5,-96.5 889.5,-102.5 889.5,-108.5 889.5,-108.5 889.5,-137.5 889.5,-137.5 889.5,-143.5 883.5,-149.5 877.5,-149.5\"/>\n",
       "<text text-anchor=\"middle\" x=\"824\" y=\"-134.3\" font-family=\"Helvetica,sans-Serif\" font-size=\"14.00\">entropy = 0.619</text>\n",
       "<text text-anchor=\"middle\" x=\"824\" y=\"-119.3\" font-family=\"Helvetica,sans-Serif\" font-size=\"14.00\">samples = 13</text>\n",
       "<text text-anchor=\"middle\" x=\"824\" y=\"-104.3\" font-family=\"Helvetica,sans-Serif\" font-size=\"14.00\">value = [2, 11]</text>\n",
       "</g>\n",
       "<!-- 9&#45;&gt;13 -->\n",
       "<g id=\"edge13\" class=\"edge\">\n",
       "<title>9&#45;&gt;13</title>\n",
       "<path fill=\"none\" stroke=\"black\" d=\"M761.19,-192.88C771.62,-181.45 783.3,-168.63 793.74,-157.19\"/>\n",
       "<polygon fill=\"black\" stroke=\"black\" points=\"796.58,-159.27 800.73,-149.52 791.41,-154.55 796.58,-159.27\"/>\n",
       "</g>\n",
       "<!-- 11 -->\n",
       "<g id=\"node12\" class=\"node\">\n",
       "<title>11</title>\n",
       "<path fill=\"none\" stroke=\"black\" d=\"M706.5,-53C706.5,-53 599.5,-53 599.5,-53 593.5,-53 587.5,-47 587.5,-41 587.5,-41 587.5,-12 587.5,-12 587.5,-6 593.5,0 599.5,0 599.5,0 706.5,0 706.5,0 712.5,0 718.5,-6 718.5,-12 718.5,-12 718.5,-41 718.5,-41 718.5,-47 712.5,-53 706.5,-53\"/>\n",
       "<text text-anchor=\"middle\" x=\"653\" y=\"-37.8\" font-family=\"Helvetica,sans-Serif\" font-size=\"14.00\">entropy = 0.503</text>\n",
       "<text text-anchor=\"middle\" x=\"653\" y=\"-22.8\" font-family=\"Helvetica,sans-Serif\" font-size=\"14.00\">samples = 9</text>\n",
       "<text text-anchor=\"middle\" x=\"653\" y=\"-7.8\" font-family=\"Helvetica,sans-Serif\" font-size=\"14.00\">value = [1, 8]</text>\n",
       "</g>\n",
       "<!-- 10&#45;&gt;11 -->\n",
       "<g id=\"edge11\" class=\"edge\">\n",
       "<title>10&#45;&gt;11</title>\n",
       "<path fill=\"none\" stroke=\"black\" d=\"M653,-88.95C653,-80.72 653,-71.85 653,-63.48\"/>\n",
       "<polygon fill=\"black\" stroke=\"black\" points=\"656.5,-63.24 653,-53.24 649.5,-63.24 656.5,-63.24\"/>\n",
       "</g>\n",
       "<!-- 12 -->\n",
       "<g id=\"node13\" class=\"node\">\n",
       "<title>12</title>\n",
       "<path fill=\"none\" stroke=\"black\" d=\"M847,-53C847,-53 749,-53 749,-53 743,-53 737,-47 737,-41 737,-41 737,-12 737,-12 737,-6 743,0 749,0 749,0 847,0 847,0 853,0 859,-6 859,-12 859,-12 859,-41 859,-41 859,-47 853,-53 847,-53\"/>\n",
       "<text text-anchor=\"middle\" x=\"798\" y=\"-37.8\" font-family=\"Helvetica,sans-Serif\" font-size=\"14.00\">entropy = 0.0</text>\n",
       "<text text-anchor=\"middle\" x=\"798\" y=\"-22.8\" font-family=\"Helvetica,sans-Serif\" font-size=\"14.00\">samples = 72</text>\n",
       "<text text-anchor=\"middle\" x=\"798\" y=\"-7.8\" font-family=\"Helvetica,sans-Serif\" font-size=\"14.00\">value = [0, 72]</text>\n",
       "</g>\n",
       "<!-- 10&#45;&gt;12 -->\n",
       "<g id=\"edge12\" class=\"edge\">\n",
       "<title>10&#45;&gt;12</title>\n",
       "<path fill=\"none\" stroke=\"black\" d=\"M703.71,-88.95C718.73,-79.16 735.13,-68.48 749.97,-58.8\"/>\n",
       "<polygon fill=\"black\" stroke=\"black\" points=\"752.04,-61.63 758.51,-53.24 748.22,-55.76 752.04,-61.63\"/>\n",
       "</g>\n",
       "<!-- 15 -->\n",
       "<g id=\"node16\" class=\"node\">\n",
       "<title>15</title>\n",
       "<path fill=\"none\" stroke=\"black\" d=\"M1108,-261C1108,-261 992,-261 992,-261 986,-261 980,-255 980,-249 980,-249 980,-205 980,-205 980,-199 986,-193 992,-193 992,-193 1108,-193 1108,-193 1114,-193 1120,-199 1120,-205 1120,-205 1120,-249 1120,-249 1120,-255 1114,-261 1108,-261\"/>\n",
       "<text text-anchor=\"middle\" x=\"1050\" y=\"-245.8\" font-family=\"Helvetica,sans-Serif\" font-size=\"14.00\">Age &lt;= 13.5</text>\n",
       "<text text-anchor=\"middle\" x=\"1050\" y=\"-230.8\" font-family=\"Helvetica,sans-Serif\" font-size=\"14.00\">entropy = 0.558</text>\n",
       "<text text-anchor=\"middle\" x=\"1050\" y=\"-215.8\" font-family=\"Helvetica,sans-Serif\" font-size=\"14.00\">samples = 415</text>\n",
       "<text text-anchor=\"middle\" x=\"1050\" y=\"-200.8\" font-family=\"Helvetica,sans-Serif\" font-size=\"14.00\">value = [361, 54]</text>\n",
       "</g>\n",
       "<!-- 14&#45;&gt;15 -->\n",
       "<g id=\"edge15\" class=\"edge\">\n",
       "<title>14&#45;&gt;15</title>\n",
       "<path fill=\"none\" stroke=\"black\" d=\"M1050,-296.88C1050,-288.78 1050,-279.98 1050,-271.47\"/>\n",
       "<polygon fill=\"black\" stroke=\"black\" points=\"1053.5,-271.3 1050,-261.3 1046.5,-271.3 1053.5,-271.3\"/>\n",
       "</g>\n",
       "<!-- 20 -->\n",
       "<g id=\"node21\" class=\"node\">\n",
       "<title>20</title>\n",
       "<path fill=\"none\" stroke=\"black\" d=\"M1412,-261C1412,-261 1296,-261 1296,-261 1290,-261 1284,-255 1284,-249 1284,-249 1284,-205 1284,-205 1284,-199 1290,-193 1296,-193 1296,-193 1412,-193 1412,-193 1418,-193 1424,-199 1424,-205 1424,-205 1424,-249 1424,-249 1424,-255 1418,-261 1412,-261\"/>\n",
       "<text text-anchor=\"middle\" x=\"1354\" y=\"-245.8\" font-family=\"Helvetica,sans-Serif\" font-size=\"14.00\">Pclass &lt;= 1.5</text>\n",
       "<text text-anchor=\"middle\" x=\"1354\" y=\"-230.8\" font-family=\"Helvetica,sans-Serif\" font-size=\"14.00\">entropy = 0.924</text>\n",
       "<text text-anchor=\"middle\" x=\"1354\" y=\"-215.8\" font-family=\"Helvetica,sans-Serif\" font-size=\"14.00\">samples = 162</text>\n",
       "<text text-anchor=\"middle\" x=\"1354\" y=\"-200.8\" font-family=\"Helvetica,sans-Serif\" font-size=\"14.00\">value = [107, 55]</text>\n",
       "</g>\n",
       "<!-- 14&#45;&gt;20 -->\n",
       "<g id=\"edge20\" class=\"edge\">\n",
       "<title>14&#45;&gt;20</title>\n",
       "<path fill=\"none\" stroke=\"black\" d=\"M1124.76,-304.92C1170.14,-289.69 1228.03,-270.27 1274.28,-254.75\"/>\n",
       "<polygon fill=\"black\" stroke=\"black\" points=\"1275.6,-258 1283.97,-251.5 1273.37,-251.36 1275.6,-258\"/>\n",
       "</g>\n",
       "<!-- 16 -->\n",
       "<g id=\"node17\" class=\"node\">\n",
       "<title>16</title>\n",
       "<path fill=\"none\" stroke=\"black\" d=\"M1026.5,-149.5C1026.5,-149.5 919.5,-149.5 919.5,-149.5 913.5,-149.5 907.5,-143.5 907.5,-137.5 907.5,-137.5 907.5,-108.5 907.5,-108.5 907.5,-102.5 913.5,-96.5 919.5,-96.5 919.5,-96.5 1026.5,-96.5 1026.5,-96.5 1032.5,-96.5 1038.5,-102.5 1038.5,-108.5 1038.5,-108.5 1038.5,-137.5 1038.5,-137.5 1038.5,-143.5 1032.5,-149.5 1026.5,-149.5\"/>\n",
       "<text text-anchor=\"middle\" x=\"973\" y=\"-134.3\" font-family=\"Helvetica,sans-Serif\" font-size=\"14.00\">entropy = 0.567</text>\n",
       "<text text-anchor=\"middle\" x=\"973\" y=\"-119.3\" font-family=\"Helvetica,sans-Serif\" font-size=\"14.00\">samples = 15</text>\n",
       "<text text-anchor=\"middle\" x=\"973\" y=\"-104.3\" font-family=\"Helvetica,sans-Serif\" font-size=\"14.00\">value = [2, 13]</text>\n",
       "</g>\n",
       "<!-- 15&#45;&gt;16 -->\n",
       "<g id=\"edge16\" class=\"edge\">\n",
       "<title>15&#45;&gt;16</title>\n",
       "<path fill=\"none\" stroke=\"black\" d=\"M1025,-192.88C1016.45,-181.56 1006.88,-168.88 998.3,-157.52\"/>\n",
       "<polygon fill=\"black\" stroke=\"black\" points=\"1001.08,-155.39 992.27,-149.52 995.5,-159.61 1001.08,-155.39\"/>\n",
       "</g>\n",
       "<!-- 17 -->\n",
       "<g id=\"node18\" class=\"node\">\n",
       "<title>17</title>\n",
       "<path fill=\"none\" stroke=\"black\" d=\"M1185,-157C1185,-157 1069,-157 1069,-157 1063,-157 1057,-151 1057,-145 1057,-145 1057,-101 1057,-101 1057,-95 1063,-89 1069,-89 1069,-89 1185,-89 1185,-89 1191,-89 1197,-95 1197,-101 1197,-101 1197,-145 1197,-145 1197,-151 1191,-157 1185,-157\"/>\n",
       "<text text-anchor=\"middle\" x=\"1127\" y=\"-141.8\" font-family=\"Helvetica,sans-Serif\" font-size=\"14.00\">Fare &lt;= 7.91</text>\n",
       "<text text-anchor=\"middle\" x=\"1127\" y=\"-126.8\" font-family=\"Helvetica,sans-Serif\" font-size=\"14.00\">entropy = 0.477</text>\n",
       "<text text-anchor=\"middle\" x=\"1127\" y=\"-111.8\" font-family=\"Helvetica,sans-Serif\" font-size=\"14.00\">samples = 400</text>\n",
       "<text text-anchor=\"middle\" x=\"1127\" y=\"-96.8\" font-family=\"Helvetica,sans-Serif\" font-size=\"14.00\">value = [359, 41]</text>\n",
       "</g>\n",
       "<!-- 15&#45;&gt;17 -->\n",
       "<g id=\"edge17\" class=\"edge\">\n",
       "<title>15&#45;&gt;17</title>\n",
       "<path fill=\"none\" stroke=\"black\" d=\"M1075,-192.88C1081.59,-184.15 1088.78,-174.62 1095.66,-165.51\"/>\n",
       "<polygon fill=\"black\" stroke=\"black\" points=\"1098.63,-167.39 1101.86,-157.3 1093.04,-163.17 1098.63,-167.39\"/>\n",
       "</g>\n",
       "<!-- 18 -->\n",
       "<g id=\"node19\" class=\"node\">\n",
       "<title>18</title>\n",
       "<path fill=\"none\" stroke=\"black\" d=\"M1027,-53C1027,-53 911,-53 911,-53 905,-53 899,-47 899,-41 899,-41 899,-12 899,-12 899,-6 905,0 911,0 911,0 1027,0 1027,0 1033,0 1039,-6 1039,-12 1039,-12 1039,-41 1039,-41 1039,-47 1033,-53 1027,-53\"/>\n",
       "<text text-anchor=\"middle\" x=\"969\" y=\"-37.8\" font-family=\"Helvetica,sans-Serif\" font-size=\"14.00\">entropy = 0.394</text>\n",
       "<text text-anchor=\"middle\" x=\"969\" y=\"-22.8\" font-family=\"Helvetica,sans-Serif\" font-size=\"14.00\">samples = 180</text>\n",
       "<text text-anchor=\"middle\" x=\"969\" y=\"-7.8\" font-family=\"Helvetica,sans-Serif\" font-size=\"14.00\">value = [166, 14]</text>\n",
       "</g>\n",
       "<!-- 17&#45;&gt;18 -->\n",
       "<g id=\"edge18\" class=\"edge\">\n",
       "<title>17&#45;&gt;18</title>\n",
       "<path fill=\"none\" stroke=\"black\" d=\"M1071.74,-88.95C1055.15,-79.02 1037.01,-68.18 1020.66,-58.4\"/>\n",
       "<polygon fill=\"black\" stroke=\"black\" points=\"1022.16,-55.22 1011.78,-53.09 1018.57,-61.22 1022.16,-55.22\"/>\n",
       "</g>\n",
       "<!-- 19 -->\n",
       "<g id=\"node20\" class=\"node\">\n",
       "<title>19</title>\n",
       "<path fill=\"none\" stroke=\"black\" d=\"M1185,-53C1185,-53 1069,-53 1069,-53 1063,-53 1057,-47 1057,-41 1057,-41 1057,-12 1057,-12 1057,-6 1063,0 1069,0 1069,0 1185,0 1185,0 1191,0 1197,-6 1197,-12 1197,-12 1197,-41 1197,-41 1197,-47 1191,-53 1185,-53\"/>\n",
       "<text text-anchor=\"middle\" x=\"1127\" y=\"-37.8\" font-family=\"Helvetica,sans-Serif\" font-size=\"14.00\">entropy = 0.537</text>\n",
       "<text text-anchor=\"middle\" x=\"1127\" y=\"-22.8\" font-family=\"Helvetica,sans-Serif\" font-size=\"14.00\">samples = 220</text>\n",
       "<text text-anchor=\"middle\" x=\"1127\" y=\"-7.8\" font-family=\"Helvetica,sans-Serif\" font-size=\"14.00\">value = [193, 27]</text>\n",
       "</g>\n",
       "<!-- 17&#45;&gt;19 -->\n",
       "<g id=\"edge19\" class=\"edge\">\n",
       "<title>17&#45;&gt;19</title>\n",
       "<path fill=\"none\" stroke=\"black\" d=\"M1127,-88.95C1127,-80.72 1127,-71.85 1127,-63.48\"/>\n",
       "<polygon fill=\"black\" stroke=\"black\" points=\"1130.5,-63.24 1127,-53.24 1123.5,-63.24 1130.5,-63.24\"/>\n",
       "</g>\n",
       "<!-- 21 -->\n",
       "<g id=\"node22\" class=\"node\">\n",
       "<title>21</title>\n",
       "<path fill=\"none\" stroke=\"black\" d=\"M1429.5,-157C1429.5,-157 1278.5,-157 1278.5,-157 1272.5,-157 1266.5,-151 1266.5,-145 1266.5,-145 1266.5,-101 1266.5,-101 1266.5,-95 1272.5,-89 1278.5,-89 1278.5,-89 1429.5,-89 1429.5,-89 1435.5,-89 1441.5,-95 1441.5,-101 1441.5,-101 1441.5,-145 1441.5,-145 1441.5,-151 1435.5,-157 1429.5,-157\"/>\n",
       "<text text-anchor=\"middle\" x=\"1354\" y=\"-141.8\" font-family=\"Helvetica,sans-Serif\" font-size=\"14.00\">PassengerId &lt;= 187.0</text>\n",
       "<text text-anchor=\"middle\" x=\"1354\" y=\"-126.8\" font-family=\"Helvetica,sans-Serif\" font-size=\"14.00\">entropy = 0.972</text>\n",
       "<text text-anchor=\"middle\" x=\"1354\" y=\"-111.8\" font-family=\"Helvetica,sans-Serif\" font-size=\"14.00\">samples = 112</text>\n",
       "<text text-anchor=\"middle\" x=\"1354\" y=\"-96.8\" font-family=\"Helvetica,sans-Serif\" font-size=\"14.00\">value = [67, 45]</text>\n",
       "</g>\n",
       "<!-- 20&#45;&gt;21 -->\n",
       "<g id=\"edge21\" class=\"edge\">\n",
       "<title>20&#45;&gt;21</title>\n",
       "<path fill=\"none\" stroke=\"black\" d=\"M1354,-192.88C1354,-184.78 1354,-175.98 1354,-167.47\"/>\n",
       "<polygon fill=\"black\" stroke=\"black\" points=\"1357.5,-167.3 1354,-157.3 1350.5,-167.3 1357.5,-167.3\"/>\n",
       "</g>\n",
       "<!-- 24 -->\n",
       "<g id=\"node25\" class=\"node\">\n",
       "<title>24</title>\n",
       "<path fill=\"none\" stroke=\"black\" d=\"M1628.5,-157C1628.5,-157 1521.5,-157 1521.5,-157 1515.5,-157 1509.5,-151 1509.5,-145 1509.5,-145 1509.5,-101 1509.5,-101 1509.5,-95 1515.5,-89 1521.5,-89 1521.5,-89 1628.5,-89 1628.5,-89 1634.5,-89 1640.5,-95 1640.5,-101 1640.5,-101 1640.5,-145 1640.5,-145 1640.5,-151 1634.5,-157 1628.5,-157\"/>\n",
       "<text text-anchor=\"middle\" x=\"1575\" y=\"-141.8\" font-family=\"Helvetica,sans-Serif\" font-size=\"14.00\">SibSp &lt;= 0.5</text>\n",
       "<text text-anchor=\"middle\" x=\"1575\" y=\"-126.8\" font-family=\"Helvetica,sans-Serif\" font-size=\"14.00\">entropy = 0.722</text>\n",
       "<text text-anchor=\"middle\" x=\"1575\" y=\"-111.8\" font-family=\"Helvetica,sans-Serif\" font-size=\"14.00\">samples = 50</text>\n",
       "<text text-anchor=\"middle\" x=\"1575\" y=\"-96.8\" font-family=\"Helvetica,sans-Serif\" font-size=\"14.00\">value = [40, 10]</text>\n",
       "</g>\n",
       "<!-- 20&#45;&gt;24 -->\n",
       "<g id=\"edge24\" class=\"edge\">\n",
       "<title>20&#45;&gt;24</title>\n",
       "<path fill=\"none\" stroke=\"black\" d=\"M1424.23,-193.59C1448.44,-182.41 1475.63,-169.86 1500.19,-158.53\"/>\n",
       "<polygon fill=\"black\" stroke=\"black\" points=\"1501.85,-161.62 1509.46,-154.25 1498.92,-155.26 1501.85,-161.62\"/>\n",
       "</g>\n",
       "<!-- 22 -->\n",
       "<g id=\"node23\" class=\"node\">\n",
       "<title>22</title>\n",
       "<path fill=\"none\" stroke=\"black\" d=\"M1334.5,-53C1334.5,-53 1227.5,-53 1227.5,-53 1221.5,-53 1215.5,-47 1215.5,-41 1215.5,-41 1215.5,-12 1215.5,-12 1215.5,-6 1221.5,0 1227.5,0 1227.5,0 1334.5,0 1334.5,0 1340.5,0 1346.5,-6 1346.5,-12 1346.5,-12 1346.5,-41 1346.5,-41 1346.5,-47 1340.5,-53 1334.5,-53\"/>\n",
       "<text text-anchor=\"middle\" x=\"1281\" y=\"-37.8\" font-family=\"Helvetica,sans-Serif\" font-size=\"14.00\">entropy = 0.544</text>\n",
       "<text text-anchor=\"middle\" x=\"1281\" y=\"-22.8\" font-family=\"Helvetica,sans-Serif\" font-size=\"14.00\">samples = 24</text>\n",
       "<text text-anchor=\"middle\" x=\"1281\" y=\"-7.8\" font-family=\"Helvetica,sans-Serif\" font-size=\"14.00\">value = [21, 3]</text>\n",
       "</g>\n",
       "<!-- 21&#45;&gt;22 -->\n",
       "<g id=\"edge22\" class=\"edge\">\n",
       "<title>21&#45;&gt;22</title>\n",
       "<path fill=\"none\" stroke=\"black\" d=\"M1328.47,-88.95C1321.54,-79.98 1314.04,-70.27 1307.08,-61.26\"/>\n",
       "<polygon fill=\"black\" stroke=\"black\" points=\"1309.76,-59.01 1300.88,-53.24 1304.22,-63.29 1309.76,-59.01\"/>\n",
       "</g>\n",
       "<!-- 23 -->\n",
       "<g id=\"node24\" class=\"node\">\n",
       "<title>23</title>\n",
       "<path fill=\"none\" stroke=\"black\" d=\"M1483.5,-53C1483.5,-53 1376.5,-53 1376.5,-53 1370.5,-53 1364.5,-47 1364.5,-41 1364.5,-41 1364.5,-12 1364.5,-12 1364.5,-6 1370.5,0 1376.5,0 1376.5,0 1483.5,0 1483.5,0 1489.5,0 1495.5,-6 1495.5,-12 1495.5,-12 1495.5,-41 1495.5,-41 1495.5,-47 1489.5,-53 1483.5,-53\"/>\n",
       "<text text-anchor=\"middle\" x=\"1430\" y=\"-37.8\" font-family=\"Helvetica,sans-Serif\" font-size=\"14.00\">entropy = 0.999</text>\n",
       "<text text-anchor=\"middle\" x=\"1430\" y=\"-22.8\" font-family=\"Helvetica,sans-Serif\" font-size=\"14.00\">samples = 88</text>\n",
       "<text text-anchor=\"middle\" x=\"1430\" y=\"-7.8\" font-family=\"Helvetica,sans-Serif\" font-size=\"14.00\">value = [46, 42]</text>\n",
       "</g>\n",
       "<!-- 21&#45;&gt;23 -->\n",
       "<g id=\"edge23\" class=\"edge\">\n",
       "<title>21&#45;&gt;23</title>\n",
       "<path fill=\"none\" stroke=\"black\" d=\"M1380.58,-88.95C1387.79,-79.98 1395.61,-70.27 1402.85,-61.26\"/>\n",
       "<polygon fill=\"black\" stroke=\"black\" points=\"1405.76,-63.22 1409.3,-53.24 1400.31,-58.84 1405.76,-63.22\"/>\n",
       "</g>\n",
       "<!-- 25 -->\n",
       "<g id=\"node26\" class=\"node\">\n",
       "<title>25</title>\n",
       "<path fill=\"none\" stroke=\"black\" d=\"M1624,-53C1624,-53 1526,-53 1526,-53 1520,-53 1514,-47 1514,-41 1514,-41 1514,-12 1514,-12 1514,-6 1520,0 1526,0 1526,0 1624,0 1624,0 1630,0 1636,-6 1636,-12 1636,-12 1636,-41 1636,-41 1636,-47 1630,-53 1624,-53\"/>\n",
       "<text text-anchor=\"middle\" x=\"1575\" y=\"-37.8\" font-family=\"Helvetica,sans-Serif\" font-size=\"14.00\">entropy = 0.98</text>\n",
       "<text text-anchor=\"middle\" x=\"1575\" y=\"-22.8\" font-family=\"Helvetica,sans-Serif\" font-size=\"14.00\">samples = 12</text>\n",
       "<text text-anchor=\"middle\" x=\"1575\" y=\"-7.8\" font-family=\"Helvetica,sans-Serif\" font-size=\"14.00\">value = [5, 7]</text>\n",
       "</g>\n",
       "<!-- 24&#45;&gt;25 -->\n",
       "<g id=\"edge25\" class=\"edge\">\n",
       "<title>24&#45;&gt;25</title>\n",
       "<path fill=\"none\" stroke=\"black\" d=\"M1575,-88.95C1575,-80.72 1575,-71.85 1575,-63.48\"/>\n",
       "<polygon fill=\"black\" stroke=\"black\" points=\"1578.5,-63.24 1575,-53.24 1571.5,-63.24 1578.5,-63.24\"/>\n",
       "</g>\n",
       "<!-- 26 -->\n",
       "<g id=\"node27\" class=\"node\">\n",
       "<title>26</title>\n",
       "<path fill=\"none\" stroke=\"black\" d=\"M1773.5,-53C1773.5,-53 1666.5,-53 1666.5,-53 1660.5,-53 1654.5,-47 1654.5,-41 1654.5,-41 1654.5,-12 1654.5,-12 1654.5,-6 1660.5,0 1666.5,0 1666.5,0 1773.5,0 1773.5,0 1779.5,0 1785.5,-6 1785.5,-12 1785.5,-12 1785.5,-41 1785.5,-41 1785.5,-47 1779.5,-53 1773.5,-53\"/>\n",
       "<text text-anchor=\"middle\" x=\"1720\" y=\"-37.8\" font-family=\"Helvetica,sans-Serif\" font-size=\"14.00\">entropy = 0.398</text>\n",
       "<text text-anchor=\"middle\" x=\"1720\" y=\"-22.8\" font-family=\"Helvetica,sans-Serif\" font-size=\"14.00\">samples = 38</text>\n",
       "<text text-anchor=\"middle\" x=\"1720\" y=\"-7.8\" font-family=\"Helvetica,sans-Serif\" font-size=\"14.00\">value = [35, 3]</text>\n",
       "</g>\n",
       "<!-- 24&#45;&gt;26 -->\n",
       "<g id=\"edge26\" class=\"edge\">\n",
       "<title>24&#45;&gt;26</title>\n",
       "<path fill=\"none\" stroke=\"black\" d=\"M1625.71,-88.95C1640.73,-79.16 1657.13,-68.48 1671.97,-58.8\"/>\n",
       "<polygon fill=\"black\" stroke=\"black\" points=\"1674.04,-61.63 1680.51,-53.24 1670.22,-55.76 1674.04,-61.63\"/>\n",
       "</g>\n",
       "</g>\n",
       "</svg>\n"
      ],
      "text/plain": [
       "<graphviz.files.Source at 0x7f044ab342d0>"
      ]
     },
     "execution_count": 20,
     "metadata": {},
     "output_type": "execute_result"
    }
   ],
   "source": [
    "from sklearn import tree\n",
    "import graphviz \n",
    "dot_data = tree.export_graphviz(dtree, feature_names=X_train.columns, rounded=True)\n",
    "graph = graphviz.Source(dot_data) \n",
    "graph"
   ]
  },
  {
   "cell_type": "markdown",
   "id": "9939c67a",
   "metadata": {
    "papermill": {
     "duration": 0.050892,
     "end_time": "2022-10-04T14:55:17.334213",
     "exception": false,
     "start_time": "2022-10-04T14:55:17.283321",
     "status": "completed"
    },
    "tags": []
   },
   "source": [
    "# Test Data"
   ]
  },
  {
   "cell_type": "code",
   "execution_count": 21,
   "id": "cfc19f4d",
   "metadata": {
    "execution": {
     "iopub.execute_input": "2022-10-04T14:55:17.440085Z",
     "iopub.status.busy": "2022-10-04T14:55:17.439780Z",
     "iopub.status.idle": "2022-10-04T14:55:17.463670Z",
     "shell.execute_reply": "2022-10-04T14:55:17.462825Z"
    },
    "papermill": {
     "duration": 0.079316,
     "end_time": "2022-10-04T14:55:17.465627",
     "exception": false,
     "start_time": "2022-10-04T14:55:17.386311",
     "status": "completed"
    },
    "tags": []
   },
   "outputs": [
    {
     "data": {
      "text/html": [
       "<div>\n",
       "<style scoped>\n",
       "    .dataframe tbody tr th:only-of-type {\n",
       "        vertical-align: middle;\n",
       "    }\n",
       "\n",
       "    .dataframe tbody tr th {\n",
       "        vertical-align: top;\n",
       "    }\n",
       "\n",
       "    .dataframe thead th {\n",
       "        text-align: right;\n",
       "    }\n",
       "</style>\n",
       "<table border=\"1\" class=\"dataframe\">\n",
       "  <thead>\n",
       "    <tr style=\"text-align: right;\">\n",
       "      <th></th>\n",
       "      <th>PassengerId</th>\n",
       "      <th>Pclass</th>\n",
       "      <th>Sex</th>\n",
       "      <th>Age</th>\n",
       "      <th>SibSp</th>\n",
       "      <th>Parch</th>\n",
       "      <th>Fare</th>\n",
       "      <th>FirstClass</th>\n",
       "    </tr>\n",
       "  </thead>\n",
       "  <tbody>\n",
       "    <tr>\n",
       "      <th>0</th>\n",
       "      <td>892</td>\n",
       "      <td>3</td>\n",
       "      <td>1</td>\n",
       "      <td>34.5</td>\n",
       "      <td>0</td>\n",
       "      <td>0</td>\n",
       "      <td>7.8292</td>\n",
       "      <td>0</td>\n",
       "    </tr>\n",
       "    <tr>\n",
       "      <th>1</th>\n",
       "      <td>893</td>\n",
       "      <td>3</td>\n",
       "      <td>0</td>\n",
       "      <td>47.0</td>\n",
       "      <td>1</td>\n",
       "      <td>0</td>\n",
       "      <td>7.0000</td>\n",
       "      <td>0</td>\n",
       "    </tr>\n",
       "    <tr>\n",
       "      <th>2</th>\n",
       "      <td>894</td>\n",
       "      <td>2</td>\n",
       "      <td>1</td>\n",
       "      <td>62.0</td>\n",
       "      <td>0</td>\n",
       "      <td>0</td>\n",
       "      <td>9.6875</td>\n",
       "      <td>0</td>\n",
       "    </tr>\n",
       "    <tr>\n",
       "      <th>3</th>\n",
       "      <td>895</td>\n",
       "      <td>3</td>\n",
       "      <td>1</td>\n",
       "      <td>27.0</td>\n",
       "      <td>0</td>\n",
       "      <td>0</td>\n",
       "      <td>8.6625</td>\n",
       "      <td>0</td>\n",
       "    </tr>\n",
       "    <tr>\n",
       "      <th>4</th>\n",
       "      <td>896</td>\n",
       "      <td>3</td>\n",
       "      <td>0</td>\n",
       "      <td>22.0</td>\n",
       "      <td>1</td>\n",
       "      <td>1</td>\n",
       "      <td>12.2875</td>\n",
       "      <td>0</td>\n",
       "    </tr>\n",
       "  </tbody>\n",
       "</table>\n",
       "</div>"
      ],
      "text/plain": [
       "   PassengerId  Pclass  Sex   Age  SibSp  Parch     Fare  FirstClass\n",
       "0          892       3    1  34.5      0      0   7.8292           0\n",
       "1          893       3    0  47.0      1      0   7.0000           0\n",
       "2          894       2    1  62.0      0      0   9.6875           0\n",
       "3          895       3    1  27.0      0      0   8.6625           0\n",
       "4          896       3    0  22.0      1      1  12.2875           0"
      ]
     },
     "execution_count": 21,
     "metadata": {},
     "output_type": "execute_result"
    }
   ],
   "source": [
    "#GENDER\n",
    "test['Sex']=test['Sex'].map({'female':0,'male':1})\n",
    "test['FirstClass']=test['Pclass'].apply(lambda x: 1 if x==1 else 0)\n",
    "\n",
    "features=list(X.columns)\n",
    "test=test[features]\n",
    "\n",
    "test=test.fillna(test.mean())\n",
    "test.head()"
   ]
  },
  {
   "cell_type": "markdown",
   "id": "6f1fdbf3",
   "metadata": {
    "papermill": {
     "duration": 0.051186,
     "end_time": "2022-10-04T14:55:17.568217",
     "exception": false,
     "start_time": "2022-10-04T14:55:17.517031",
     "status": "completed"
    },
    "tags": []
   },
   "source": [
    "# Final Prediction"
   ]
  },
  {
   "cell_type": "code",
   "execution_count": 22,
   "id": "8319c8fa",
   "metadata": {
    "execution": {
     "iopub.execute_input": "2022-10-04T14:55:17.673751Z",
     "iopub.status.busy": "2022-10-04T14:55:17.673229Z",
     "iopub.status.idle": "2022-10-04T14:55:17.685963Z",
     "shell.execute_reply": "2022-10-04T14:55:17.685118Z"
    },
    "papermill": {
     "duration": 0.068064,
     "end_time": "2022-10-04T14:55:17.687847",
     "exception": false,
     "start_time": "2022-10-04T14:55:17.619783",
     "status": "completed"
    },
    "tags": []
   },
   "outputs": [
    {
     "data": {
      "text/html": [
       "<div>\n",
       "<style scoped>\n",
       "    .dataframe tbody tr th:only-of-type {\n",
       "        vertical-align: middle;\n",
       "    }\n",
       "\n",
       "    .dataframe tbody tr th {\n",
       "        vertical-align: top;\n",
       "    }\n",
       "\n",
       "    .dataframe thead th {\n",
       "        text-align: right;\n",
       "    }\n",
       "</style>\n",
       "<table border=\"1\" class=\"dataframe\">\n",
       "  <thead>\n",
       "    <tr style=\"text-align: right;\">\n",
       "      <th></th>\n",
       "      <th>PassengerId</th>\n",
       "      <th>Survived</th>\n",
       "    </tr>\n",
       "  </thead>\n",
       "  <tbody>\n",
       "    <tr>\n",
       "      <th>0</th>\n",
       "      <td>892</td>\n",
       "      <td>0</td>\n",
       "    </tr>\n",
       "    <tr>\n",
       "      <th>1</th>\n",
       "      <td>893</td>\n",
       "      <td>0</td>\n",
       "    </tr>\n",
       "    <tr>\n",
       "      <th>2</th>\n",
       "      <td>894</td>\n",
       "      <td>0</td>\n",
       "    </tr>\n",
       "    <tr>\n",
       "      <th>3</th>\n",
       "      <td>895</td>\n",
       "      <td>0</td>\n",
       "    </tr>\n",
       "    <tr>\n",
       "      <th>4</th>\n",
       "      <td>896</td>\n",
       "      <td>0</td>\n",
       "    </tr>\n",
       "    <tr>\n",
       "      <th>5</th>\n",
       "      <td>897</td>\n",
       "      <td>0</td>\n",
       "    </tr>\n",
       "    <tr>\n",
       "      <th>6</th>\n",
       "      <td>898</td>\n",
       "      <td>0</td>\n",
       "    </tr>\n",
       "  </tbody>\n",
       "</table>\n",
       "</div>"
      ],
      "text/plain": [
       "   PassengerId  Survived\n",
       "0          892         0\n",
       "1          893         0\n",
       "2          894         0\n",
       "3          895         0\n",
       "4          896         0\n",
       "5          897         0\n",
       "6          898         0"
      ]
     },
     "execution_count": 22,
     "metadata": {},
     "output_type": "execute_result"
    }
   ],
   "source": [
    "test_predictions = dtree.predict(test)\n",
    "passID=test['PassengerId']\n",
    "tupleData = list(zip(passID, test_predictions))\n",
    "output = pd.DataFrame(tupleData, columns = ['PassengerId', 'Survived'])\n",
    "output.head(7)"
   ]
  },
  {
   "cell_type": "code",
   "execution_count": 23,
   "id": "19554165",
   "metadata": {
    "execution": {
     "iopub.execute_input": "2022-10-04T14:55:17.794175Z",
     "iopub.status.busy": "2022-10-04T14:55:17.793668Z",
     "iopub.status.idle": "2022-10-04T14:55:17.802733Z",
     "shell.execute_reply": "2022-10-04T14:55:17.801537Z"
    },
    "papermill": {
     "duration": 0.065496,
     "end_time": "2022-10-04T14:55:17.805274",
     "exception": false,
     "start_time": "2022-10-04T14:55:17.739778",
     "status": "completed"
    },
    "tags": []
   },
   "outputs": [
    {
     "name": "stdout",
     "output_type": "stream",
     "text": [
      "Your submission was successfully saved!\n"
     ]
    }
   ],
   "source": [
    "output.to_csv('submission.csv', index=False)\n",
    "print(\"Your submission was successfully saved!\")"
   ]
  },
  {
   "cell_type": "markdown",
   "id": "42f0edfa",
   "metadata": {
    "papermill": {
     "duration": 0.052517,
     "end_time": "2022-10-04T14:55:17.911249",
     "exception": false,
     "start_time": "2022-10-04T14:55:17.858732",
     "status": "completed"
    },
    "tags": []
   },
   "source": [
    "## Notes:\n",
    "#### Feature Engineer\n",
    "Being a wife makes no difference in the final prediction: <br>\n",
    "` df['Titles'] = df['Name'].str.extract(r', (\\w+\\.)') \n",
    "df['Titles'] = df['Titles'].apply(lambda x: 1 if x=='Mrs.' else 0) `\n",
    "\n",
    "##### Gini vs. Entropy\n",
    "Generally, your performance will not change whether you use Gini impurity or Entropy. Laura Elena Raileanu and Kilian Stoffel compared both in \"Theoretical comparison between the gini index and information gain criteria\". The most important remarks were:\n",
    "\n",
    "It only matters in 2% of the cases whether you use gini impurity or entropy.\n",
    "Entropy might be a little slower to compute (because it makes use of the logarithm).\n",
    "I was once told that both metrics exist because they emerged in different disciplines of science.\n",
    "https://datascience.stackexchange.com/questions/10228/when-should-i-use-gini-impurity-as-opposed-to-information-gain-entropy"
   ]
  }
 ],
 "metadata": {
  "kernelspec": {
   "display_name": "Python 3",
   "language": "python",
   "name": "python3"
  },
  "language_info": {
   "codemirror_mode": {
    "name": "ipython",
    "version": 3
   },
   "file_extension": ".py",
   "mimetype": "text/x-python",
   "name": "python",
   "nbconvert_exporter": "python",
   "pygments_lexer": "ipython3",
   "version": "3.7.12"
  },
  "papermill": {
   "default_parameters": {},
   "duration": 78.554936,
   "end_time": "2022-10-04T14:55:18.784501",
   "environment_variables": {},
   "exception": null,
   "input_path": "__notebook__.ipynb",
   "output_path": "__notebook__.ipynb",
   "parameters": {},
   "start_time": "2022-10-04T14:54:00.229565",
   "version": "2.3.4"
  }
 },
 "nbformat": 4,
 "nbformat_minor": 5
}
