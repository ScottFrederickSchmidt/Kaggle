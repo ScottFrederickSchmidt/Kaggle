{
 "cells": [
  {
   "cell_type": "markdown",
   "id": "b938ca08",
   "metadata": {
    "papermill": {
     "duration": 0.011272,
     "end_time": "2022-09-21T16:03:21.989339",
     "exception": false,
     "start_time": "2022-09-21T16:03:21.978067",
     "status": "completed"
    },
    "tags": []
   },
   "source": [
    "# Predict House Price\n",
    "#### Using xgBoost \n",
    "\n",
    "My original full House Price prediction can be found here: https://github.com/ScottySchmidt/Kaggle\n",
    "\n",
    "##### Special Notes:\n",
    "* Removing outliers improved 4% better score\n",
    "* Tunning learning_rate improved 8% better score\n",
    "* Adding saleCondition improved .5% better score"
   ]
  },
  {
   "cell_type": "code",
   "execution_count": 1,
   "id": "51dc6f16",
   "metadata": {
    "execution": {
     "iopub.execute_input": "2022-09-21T16:03:22.010426Z",
     "iopub.status.busy": "2022-09-21T16:03:22.009375Z",
     "iopub.status.idle": "2022-09-21T16:03:22.108927Z",
     "shell.execute_reply": "2022-09-21T16:03:22.107258Z"
    },
    "papermill": {
     "duration": 0.115067,
     "end_time": "2022-09-21T16:03:22.113629",
     "exception": false,
     "start_time": "2022-09-21T16:03:21.998562",
     "status": "completed"
    },
    "tags": []
   },
   "outputs": [
    {
     "name": "stdout",
     "output_type": "stream",
     "text": [
      "(1460, 81)\n"
     ]
    },
    {
     "data": {
      "text/html": [
       "<div>\n",
       "<style scoped>\n",
       "    .dataframe tbody tr th:only-of-type {\n",
       "        vertical-align: middle;\n",
       "    }\n",
       "\n",
       "    .dataframe tbody tr th {\n",
       "        vertical-align: top;\n",
       "    }\n",
       "\n",
       "    .dataframe thead th {\n",
       "        text-align: right;\n",
       "    }\n",
       "</style>\n",
       "<table border=\"1\" class=\"dataframe\">\n",
       "  <thead>\n",
       "    <tr style=\"text-align: right;\">\n",
       "      <th></th>\n",
       "      <th>Id</th>\n",
       "      <th>MSSubClass</th>\n",
       "      <th>MSZoning</th>\n",
       "      <th>LotFrontage</th>\n",
       "      <th>LotArea</th>\n",
       "      <th>Street</th>\n",
       "      <th>Alley</th>\n",
       "      <th>LotShape</th>\n",
       "      <th>LandContour</th>\n",
       "      <th>Utilities</th>\n",
       "      <th>...</th>\n",
       "      <th>PoolArea</th>\n",
       "      <th>PoolQC</th>\n",
       "      <th>Fence</th>\n",
       "      <th>MiscFeature</th>\n",
       "      <th>MiscVal</th>\n",
       "      <th>MoSold</th>\n",
       "      <th>YrSold</th>\n",
       "      <th>SaleType</th>\n",
       "      <th>SaleCondition</th>\n",
       "      <th>SalePrice</th>\n",
       "    </tr>\n",
       "  </thead>\n",
       "  <tbody>\n",
       "    <tr>\n",
       "      <th>0</th>\n",
       "      <td>1</td>\n",
       "      <td>60</td>\n",
       "      <td>RL</td>\n",
       "      <td>65.0</td>\n",
       "      <td>8450</td>\n",
       "      <td>Pave</td>\n",
       "      <td>NaN</td>\n",
       "      <td>Reg</td>\n",
       "      <td>Lvl</td>\n",
       "      <td>AllPub</td>\n",
       "      <td>...</td>\n",
       "      <td>0</td>\n",
       "      <td>NaN</td>\n",
       "      <td>NaN</td>\n",
       "      <td>NaN</td>\n",
       "      <td>0</td>\n",
       "      <td>2</td>\n",
       "      <td>2008</td>\n",
       "      <td>WD</td>\n",
       "      <td>Normal</td>\n",
       "      <td>208500</td>\n",
       "    </tr>\n",
       "    <tr>\n",
       "      <th>1</th>\n",
       "      <td>2</td>\n",
       "      <td>20</td>\n",
       "      <td>RL</td>\n",
       "      <td>80.0</td>\n",
       "      <td>9600</td>\n",
       "      <td>Pave</td>\n",
       "      <td>NaN</td>\n",
       "      <td>Reg</td>\n",
       "      <td>Lvl</td>\n",
       "      <td>AllPub</td>\n",
       "      <td>...</td>\n",
       "      <td>0</td>\n",
       "      <td>NaN</td>\n",
       "      <td>NaN</td>\n",
       "      <td>NaN</td>\n",
       "      <td>0</td>\n",
       "      <td>5</td>\n",
       "      <td>2007</td>\n",
       "      <td>WD</td>\n",
       "      <td>Normal</td>\n",
       "      <td>181500</td>\n",
       "    </tr>\n",
       "    <tr>\n",
       "      <th>2</th>\n",
       "      <td>3</td>\n",
       "      <td>60</td>\n",
       "      <td>RL</td>\n",
       "      <td>68.0</td>\n",
       "      <td>11250</td>\n",
       "      <td>Pave</td>\n",
       "      <td>NaN</td>\n",
       "      <td>IR1</td>\n",
       "      <td>Lvl</td>\n",
       "      <td>AllPub</td>\n",
       "      <td>...</td>\n",
       "      <td>0</td>\n",
       "      <td>NaN</td>\n",
       "      <td>NaN</td>\n",
       "      <td>NaN</td>\n",
       "      <td>0</td>\n",
       "      <td>9</td>\n",
       "      <td>2008</td>\n",
       "      <td>WD</td>\n",
       "      <td>Normal</td>\n",
       "      <td>223500</td>\n",
       "    </tr>\n",
       "    <tr>\n",
       "      <th>3</th>\n",
       "      <td>4</td>\n",
       "      <td>70</td>\n",
       "      <td>RL</td>\n",
       "      <td>60.0</td>\n",
       "      <td>9550</td>\n",
       "      <td>Pave</td>\n",
       "      <td>NaN</td>\n",
       "      <td>IR1</td>\n",
       "      <td>Lvl</td>\n",
       "      <td>AllPub</td>\n",
       "      <td>...</td>\n",
       "      <td>0</td>\n",
       "      <td>NaN</td>\n",
       "      <td>NaN</td>\n",
       "      <td>NaN</td>\n",
       "      <td>0</td>\n",
       "      <td>2</td>\n",
       "      <td>2006</td>\n",
       "      <td>WD</td>\n",
       "      <td>Abnorml</td>\n",
       "      <td>140000</td>\n",
       "    </tr>\n",
       "    <tr>\n",
       "      <th>4</th>\n",
       "      <td>5</td>\n",
       "      <td>60</td>\n",
       "      <td>RL</td>\n",
       "      <td>84.0</td>\n",
       "      <td>14260</td>\n",
       "      <td>Pave</td>\n",
       "      <td>NaN</td>\n",
       "      <td>IR1</td>\n",
       "      <td>Lvl</td>\n",
       "      <td>AllPub</td>\n",
       "      <td>...</td>\n",
       "      <td>0</td>\n",
       "      <td>NaN</td>\n",
       "      <td>NaN</td>\n",
       "      <td>NaN</td>\n",
       "      <td>0</td>\n",
       "      <td>12</td>\n",
       "      <td>2008</td>\n",
       "      <td>WD</td>\n",
       "      <td>Normal</td>\n",
       "      <td>250000</td>\n",
       "    </tr>\n",
       "  </tbody>\n",
       "</table>\n",
       "<p>5 rows × 81 columns</p>\n",
       "</div>"
      ],
      "text/plain": [
       "   Id  MSSubClass MSZoning  LotFrontage  LotArea Street Alley LotShape  \\\n",
       "0   1          60       RL         65.0     8450   Pave   NaN      Reg   \n",
       "1   2          20       RL         80.0     9600   Pave   NaN      Reg   \n",
       "2   3          60       RL         68.0    11250   Pave   NaN      IR1   \n",
       "3   4          70       RL         60.0     9550   Pave   NaN      IR1   \n",
       "4   5          60       RL         84.0    14260   Pave   NaN      IR1   \n",
       "\n",
       "  LandContour Utilities  ... PoolArea PoolQC Fence MiscFeature MiscVal MoSold  \\\n",
       "0         Lvl    AllPub  ...        0    NaN   NaN         NaN       0      2   \n",
       "1         Lvl    AllPub  ...        0    NaN   NaN         NaN       0      5   \n",
       "2         Lvl    AllPub  ...        0    NaN   NaN         NaN       0      9   \n",
       "3         Lvl    AllPub  ...        0    NaN   NaN         NaN       0      2   \n",
       "4         Lvl    AllPub  ...        0    NaN   NaN         NaN       0     12   \n",
       "\n",
       "  YrSold  SaleType  SaleCondition  SalePrice  \n",
       "0   2008        WD         Normal     208500  \n",
       "1   2007        WD         Normal     181500  \n",
       "2   2008        WD         Normal     223500  \n",
       "3   2006        WD        Abnorml     140000  \n",
       "4   2008        WD         Normal     250000  \n",
       "\n",
       "[5 rows x 81 columns]"
      ]
     },
     "execution_count": 1,
     "metadata": {},
     "output_type": "execute_result"
    }
   ],
   "source": [
    "import pandas as pd\n",
    "import numpy as np\n",
    "import sys\n",
    "import matplotlib.pyplot as plt\n",
    "\n",
    "data='/kaggle/input/house-prices-advanced-regression-techniques/train.csv'\n",
    "df=pd.read_csv(data)\n",
    "print(df.shape)\n",
    "df.head()"
   ]
  },
  {
   "cell_type": "markdown",
   "id": "39e83535",
   "metadata": {
    "papermill": {
     "duration": 0.012838,
     "end_time": "2022-09-21T16:03:22.141459",
     "exception": false,
     "start_time": "2022-09-21T16:03:22.128621",
     "status": "completed"
    },
    "tags": []
   },
   "source": [
    "# Missing Values"
   ]
  },
  {
   "cell_type": "code",
   "execution_count": 2,
   "id": "d49e396a",
   "metadata": {
    "execution": {
     "iopub.execute_input": "2022-09-21T16:03:22.164897Z",
     "iopub.status.busy": "2022-09-21T16:03:22.164247Z",
     "iopub.status.idle": "2022-09-21T16:03:22.177451Z",
     "shell.execute_reply": "2022-09-21T16:03:22.176082Z"
    },
    "papermill": {
     "duration": 0.028711,
     "end_time": "2022-09-21T16:03:22.180234",
     "exception": false,
     "start_time": "2022-09-21T16:03:22.151523",
     "status": "completed"
    },
    "tags": []
   },
   "outputs": [
    {
     "name": "stdout",
     "output_type": "stream",
     "text": [
      "Missing data by column as a percent:\n",
      "PoolQC          21.686567\n",
      "MiscFeature     20.985075\n",
      "Alley           20.432836\n",
      "Fence           17.597015\n",
      "FireplaceQu     10.298507\n",
      "LotFrontage      3.865672\n",
      "GarageYrBlt      1.208955\n",
      "GarageCond       1.208955\n",
      "GarageType       1.208955\n",
      "GarageFinish     1.208955\n",
      "dtype: float64\n"
     ]
    }
   ],
   "source": [
    "#search for columns with missing values:\n",
    "def findNA():\n",
    "    print(\"Missing data by column as a percent:\")\n",
    "    findNA=df.isnull().sum().sort_values(ascending=False)/len(data)\n",
    "    print(findNA.head(10))\n",
    "findNA() "
   ]
  },
  {
   "cell_type": "code",
   "execution_count": 3,
   "id": "29fde0d2",
   "metadata": {
    "execution": {
     "iopub.execute_input": "2022-09-21T16:03:22.202224Z",
     "iopub.status.busy": "2022-09-21T16:03:22.201427Z",
     "iopub.status.idle": "2022-09-21T16:03:22.243298Z",
     "shell.execute_reply": "2022-09-21T16:03:22.241936Z"
    },
    "papermill": {
     "duration": 0.056533,
     "end_time": "2022-09-21T16:03:22.246418",
     "exception": false,
     "start_time": "2022-09-21T16:03:22.189885",
     "status": "completed"
    },
    "tags": []
   },
   "outputs": [
    {
     "name": "stdout",
     "output_type": "stream",
     "text": [
      "(1460, 75)\n"
     ]
    },
    {
     "name": "stderr",
     "output_type": "stream",
     "text": [
      "/opt/conda/lib/python3.7/site-packages/ipykernel_launcher.py:1: FutureWarning: Dropping of nuisance columns in DataFrame reductions (with 'numeric_only=None') is deprecated; in a future version this will raise TypeError.  Select only valid columns before calling the reduction.\n",
      "  \"\"\"Entry point for launching an IPython kernel.\n"
     ]
    }
   ],
   "source": [
    "df=df.fillna(df.mean())\n",
    "df=df.drop(columns=['PoolQC', 'MiscFeature', 'Alley', 'Fence', 'FireplaceQu', 'LotFrontage'])\n",
    "print(df.shape)"
   ]
  },
  {
   "cell_type": "code",
   "execution_count": 4,
   "id": "bd918ae8",
   "metadata": {
    "execution": {
     "iopub.execute_input": "2022-09-21T16:03:22.267697Z",
     "iopub.status.busy": "2022-09-21T16:03:22.267289Z",
     "iopub.status.idle": "2022-09-21T16:03:22.275436Z",
     "shell.execute_reply": "2022-09-21T16:03:22.274120Z"
    },
    "papermill": {
     "duration": 0.02168,
     "end_time": "2022-09-21T16:03:22.277790",
     "exception": false,
     "start_time": "2022-09-21T16:03:22.256110",
     "status": "completed"
    },
    "tags": []
   },
   "outputs": [
    {
     "data": {
      "text/plain": [
       "Index(['Id', 'MSSubClass', 'MSZoning', 'LotArea', 'Street', 'LotShape',\n",
       "       'LandContour', 'Utilities', 'LotConfig', 'LandSlope', 'Neighborhood',\n",
       "       'Condition1', 'Condition2', 'BldgType', 'HouseStyle', 'OverallQual',\n",
       "       'OverallCond', 'YearBuilt', 'YearRemodAdd', 'RoofStyle', 'RoofMatl',\n",
       "       'Exterior1st', 'Exterior2nd', 'MasVnrType', 'MasVnrArea', 'ExterQual',\n",
       "       'ExterCond', 'Foundation', 'BsmtQual', 'BsmtCond', 'BsmtExposure',\n",
       "       'BsmtFinType1', 'BsmtFinSF1', 'BsmtFinType2', 'BsmtFinSF2', 'BsmtUnfSF',\n",
       "       'TotalBsmtSF', 'Heating', 'HeatingQC', 'CentralAir', 'Electrical',\n",
       "       '1stFlrSF', '2ndFlrSF', 'LowQualFinSF', 'GrLivArea', 'BsmtFullBath',\n",
       "       'BsmtHalfBath', 'FullBath', 'HalfBath', 'BedroomAbvGr', 'KitchenAbvGr',\n",
       "       'KitchenQual', 'TotRmsAbvGrd', 'Functional', 'Fireplaces', 'GarageType',\n",
       "       'GarageYrBlt', 'GarageFinish', 'GarageCars', 'GarageArea', 'GarageQual',\n",
       "       'GarageCond', 'PavedDrive', 'WoodDeckSF', 'OpenPorchSF',\n",
       "       'EnclosedPorch', '3SsnPorch', 'ScreenPorch', 'PoolArea', 'MiscVal',\n",
       "       'MoSold', 'YrSold', 'SaleType', 'SaleCondition', 'SalePrice'],\n",
       "      dtype='object')"
      ]
     },
     "execution_count": 4,
     "metadata": {},
     "output_type": "execute_result"
    }
   ],
   "source": [
    "df.columns"
   ]
  },
  {
   "cell_type": "code",
   "execution_count": 5,
   "id": "44141041",
   "metadata": {
    "execution": {
     "iopub.execute_input": "2022-09-21T16:03:22.300514Z",
     "iopub.status.busy": "2022-09-21T16:03:22.299421Z",
     "iopub.status.idle": "2022-09-21T16:03:22.307078Z",
     "shell.execute_reply": "2022-09-21T16:03:22.305804Z"
    },
    "papermill": {
     "duration": 0.022044,
     "end_time": "2022-09-21T16:03:22.309766",
     "exception": false,
     "start_time": "2022-09-21T16:03:22.287722",
     "status": "completed"
    },
    "tags": []
   },
   "outputs": [],
   "source": [
    "#Too similiar variables:\n",
    "df=df.drop(['GarageArea', 'GarageYrBlt', 'GrLivArea'], axis=1)"
   ]
  },
  {
   "cell_type": "markdown",
   "id": "1032a013",
   "metadata": {
    "papermill": {
     "duration": 0.009701,
     "end_time": "2022-09-21T16:03:22.329597",
     "exception": false,
     "start_time": "2022-09-21T16:03:22.319896",
     "status": "completed"
    },
    "tags": []
   },
   "source": [
    "# Encode Data"
   ]
  },
  {
   "cell_type": "code",
   "execution_count": 6,
   "id": "bc1586f9",
   "metadata": {
    "execution": {
     "iopub.execute_input": "2022-09-21T16:03:22.352059Z",
     "iopub.status.busy": "2022-09-21T16:03:22.350904Z",
     "iopub.status.idle": "2022-09-21T16:03:22.382424Z",
     "shell.execute_reply": "2022-09-21T16:03:22.381120Z"
    },
    "papermill": {
     "duration": 0.045315,
     "end_time": "2022-09-21T16:03:22.384944",
     "exception": false,
     "start_time": "2022-09-21T16:03:22.339629",
     "status": "completed"
    },
    "tags": []
   },
   "outputs": [
    {
     "data": {
      "text/html": [
       "<div>\n",
       "<style scoped>\n",
       "    .dataframe tbody tr th:only-of-type {\n",
       "        vertical-align: middle;\n",
       "    }\n",
       "\n",
       "    .dataframe tbody tr th {\n",
       "        vertical-align: top;\n",
       "    }\n",
       "\n",
       "    .dataframe thead th {\n",
       "        text-align: right;\n",
       "    }\n",
       "</style>\n",
       "<table border=\"1\" class=\"dataframe\">\n",
       "  <thead>\n",
       "    <tr style=\"text-align: right;\">\n",
       "      <th></th>\n",
       "      <th>Id</th>\n",
       "      <th>MSSubClass</th>\n",
       "      <th>MSZoning</th>\n",
       "      <th>LotArea</th>\n",
       "      <th>Street</th>\n",
       "      <th>LotShape</th>\n",
       "      <th>LandContour</th>\n",
       "      <th>Utilities</th>\n",
       "      <th>LotConfig</th>\n",
       "      <th>LandSlope</th>\n",
       "      <th>...</th>\n",
       "      <th>3SsnPorch</th>\n",
       "      <th>ScreenPorch</th>\n",
       "      <th>PoolArea</th>\n",
       "      <th>MiscVal</th>\n",
       "      <th>MoSold</th>\n",
       "      <th>YrSold</th>\n",
       "      <th>SaleType</th>\n",
       "      <th>SaleCondition</th>\n",
       "      <th>SalePrice</th>\n",
       "      <th>totalSQ</th>\n",
       "    </tr>\n",
       "  </thead>\n",
       "  <tbody>\n",
       "    <tr>\n",
       "      <th>0</th>\n",
       "      <td>1</td>\n",
       "      <td>60</td>\n",
       "      <td>RL</td>\n",
       "      <td>8450</td>\n",
       "      <td>Pave</td>\n",
       "      <td>Reg</td>\n",
       "      <td>Lvl</td>\n",
       "      <td>AllPub</td>\n",
       "      <td>Inside</td>\n",
       "      <td>Gtl</td>\n",
       "      <td>...</td>\n",
       "      <td>0</td>\n",
       "      <td>0</td>\n",
       "      <td>0</td>\n",
       "      <td>0</td>\n",
       "      <td>2</td>\n",
       "      <td>2008</td>\n",
       "      <td>WD</td>\n",
       "      <td>Normal</td>\n",
       "      <td>208500</td>\n",
       "      <td>2566</td>\n",
       "    </tr>\n",
       "    <tr>\n",
       "      <th>1</th>\n",
       "      <td>2</td>\n",
       "      <td>20</td>\n",
       "      <td>RL</td>\n",
       "      <td>9600</td>\n",
       "      <td>Pave</td>\n",
       "      <td>Reg</td>\n",
       "      <td>Lvl</td>\n",
       "      <td>AllPub</td>\n",
       "      <td>FR2</td>\n",
       "      <td>Gtl</td>\n",
       "      <td>...</td>\n",
       "      <td>0</td>\n",
       "      <td>0</td>\n",
       "      <td>0</td>\n",
       "      <td>0</td>\n",
       "      <td>5</td>\n",
       "      <td>2007</td>\n",
       "      <td>WD</td>\n",
       "      <td>Normal</td>\n",
       "      <td>181500</td>\n",
       "      <td>2524</td>\n",
       "    </tr>\n",
       "    <tr>\n",
       "      <th>2</th>\n",
       "      <td>3</td>\n",
       "      <td>60</td>\n",
       "      <td>RL</td>\n",
       "      <td>11250</td>\n",
       "      <td>Pave</td>\n",
       "      <td>IR1</td>\n",
       "      <td>Lvl</td>\n",
       "      <td>AllPub</td>\n",
       "      <td>Inside</td>\n",
       "      <td>Gtl</td>\n",
       "      <td>...</td>\n",
       "      <td>0</td>\n",
       "      <td>0</td>\n",
       "      <td>0</td>\n",
       "      <td>0</td>\n",
       "      <td>9</td>\n",
       "      <td>2008</td>\n",
       "      <td>WD</td>\n",
       "      <td>Normal</td>\n",
       "      <td>223500</td>\n",
       "      <td>2706</td>\n",
       "    </tr>\n",
       "    <tr>\n",
       "      <th>3</th>\n",
       "      <td>4</td>\n",
       "      <td>70</td>\n",
       "      <td>RL</td>\n",
       "      <td>9550</td>\n",
       "      <td>Pave</td>\n",
       "      <td>IR1</td>\n",
       "      <td>Lvl</td>\n",
       "      <td>AllPub</td>\n",
       "      <td>Corner</td>\n",
       "      <td>Gtl</td>\n",
       "      <td>...</td>\n",
       "      <td>0</td>\n",
       "      <td>0</td>\n",
       "      <td>0</td>\n",
       "      <td>0</td>\n",
       "      <td>2</td>\n",
       "      <td>2006</td>\n",
       "      <td>WD</td>\n",
       "      <td>Abnorml</td>\n",
       "      <td>140000</td>\n",
       "      <td>2473</td>\n",
       "    </tr>\n",
       "    <tr>\n",
       "      <th>4</th>\n",
       "      <td>5</td>\n",
       "      <td>60</td>\n",
       "      <td>RL</td>\n",
       "      <td>14260</td>\n",
       "      <td>Pave</td>\n",
       "      <td>IR1</td>\n",
       "      <td>Lvl</td>\n",
       "      <td>AllPub</td>\n",
       "      <td>FR2</td>\n",
       "      <td>Gtl</td>\n",
       "      <td>...</td>\n",
       "      <td>0</td>\n",
       "      <td>0</td>\n",
       "      <td>0</td>\n",
       "      <td>0</td>\n",
       "      <td>12</td>\n",
       "      <td>2008</td>\n",
       "      <td>WD</td>\n",
       "      <td>Normal</td>\n",
       "      <td>250000</td>\n",
       "      <td>3343</td>\n",
       "    </tr>\n",
       "  </tbody>\n",
       "</table>\n",
       "<p>5 rows × 73 columns</p>\n",
       "</div>"
      ],
      "text/plain": [
       "   Id  MSSubClass MSZoning  LotArea Street LotShape LandContour Utilities  \\\n",
       "0   1          60       RL     8450   Pave      Reg         Lvl    AllPub   \n",
       "1   2          20       RL     9600   Pave      Reg         Lvl    AllPub   \n",
       "2   3          60       RL    11250   Pave      IR1         Lvl    AllPub   \n",
       "3   4          70       RL     9550   Pave      IR1         Lvl    AllPub   \n",
       "4   5          60       RL    14260   Pave      IR1         Lvl    AllPub   \n",
       "\n",
       "  LotConfig LandSlope  ... 3SsnPorch ScreenPorch PoolArea MiscVal MoSold  \\\n",
       "0    Inside       Gtl  ...         0           0        0       0      2   \n",
       "1       FR2       Gtl  ...         0           0        0       0      5   \n",
       "2    Inside       Gtl  ...         0           0        0       0      9   \n",
       "3    Corner       Gtl  ...         0           0        0       0      2   \n",
       "4       FR2       Gtl  ...         0           0        0       0     12   \n",
       "\n",
       "   YrSold  SaleType  SaleCondition  SalePrice totalSQ  \n",
       "0    2008        WD         Normal     208500    2566  \n",
       "1    2007        WD         Normal     181500    2524  \n",
       "2    2008        WD         Normal     223500    2706  \n",
       "3    2006        WD        Abnorml     140000    2473  \n",
       "4    2008        WD         Normal     250000    3343  \n",
       "\n",
       "[5 rows x 73 columns]"
      ]
     },
     "execution_count": 6,
     "metadata": {},
     "output_type": "execute_result"
    }
   ],
   "source": [
    "df['totalSQ']=df['1stFlrSF']+df['2ndFlrSF']+df['TotalBsmtSF'].drop(columns=['1stFlrSF', '2ndFlrSF','TotalBsmtSF'])\n",
    "df.head()"
   ]
  },
  {
   "cell_type": "code",
   "execution_count": 7,
   "id": "d95536c3",
   "metadata": {
    "execution": {
     "iopub.execute_input": "2022-09-21T16:03:22.409571Z",
     "iopub.status.busy": "2022-09-21T16:03:22.409085Z",
     "iopub.status.idle": "2022-09-21T16:03:22.421137Z",
     "shell.execute_reply": "2022-09-21T16:03:22.419776Z"
    },
    "papermill": {
     "duration": 0.028037,
     "end_time": "2022-09-21T16:03:22.423576",
     "exception": false,
     "start_time": "2022-09-21T16:03:22.395539",
     "status": "completed"
    },
    "tags": []
   },
   "outputs": [
    {
     "name": "stdout",
     "output_type": "stream",
     "text": [
      "Normal     1198\n",
      "Partial     125\n",
      "Abnorml     101\n",
      "Family       20\n",
      "Alloca       12\n",
      "AdjLand       4\n",
      "Name: SaleCondition, dtype: int64\n"
     ]
    }
   ],
   "source": [
    "print(df['SaleCondition'].value_counts())\n",
    "df['SaleCondition']=df['SaleCondition'].apply(lambda x:2 if x=='Normal' else 0)"
   ]
  },
  {
   "cell_type": "code",
   "execution_count": 8,
   "id": "a5db0de2",
   "metadata": {
    "execution": {
     "iopub.execute_input": "2022-09-21T16:03:22.446886Z",
     "iopub.status.busy": "2022-09-21T16:03:22.446100Z",
     "iopub.status.idle": "2022-09-21T16:03:22.455382Z",
     "shell.execute_reply": "2022-09-21T16:03:22.454207Z"
    },
    "papermill": {
     "duration": 0.024255,
     "end_time": "2022-09-21T16:03:22.458427",
     "exception": false,
     "start_time": "2022-09-21T16:03:22.434172",
     "status": "completed"
    },
    "tags": []
   },
   "outputs": [
    {
     "name": "stdout",
     "output_type": "stream",
     "text": [
      "Norm      1445\n",
      "Feedr        6\n",
      "Artery       2\n",
      "RRNn         2\n",
      "PosN         2\n",
      "PosA         1\n",
      "RRAn         1\n",
      "RRAe         1\n",
      "Name: Condition2, dtype: int64\n"
     ]
    }
   ],
   "source": [
    "print(df['Condition2'].value_counts())\n",
    "df['Condition2']=df['Condition2'].apply(lambda x: 1 if x=='Norm' else 0)"
   ]
  },
  {
   "cell_type": "code",
   "execution_count": 9,
   "id": "0e9c03c1",
   "metadata": {
    "execution": {
     "iopub.execute_input": "2022-09-21T16:03:22.481421Z",
     "iopub.status.busy": "2022-09-21T16:03:22.480981Z",
     "iopub.status.idle": "2022-09-21T16:03:22.505499Z",
     "shell.execute_reply": "2022-09-21T16:03:22.504331Z"
    },
    "papermill": {
     "duration": 0.038856,
     "end_time": "2022-09-21T16:03:22.507845",
     "exception": false,
     "start_time": "2022-09-21T16:03:22.468989",
     "status": "completed"
    },
    "tags": []
   },
   "outputs": [
    {
     "data": {
      "text/html": [
       "<div>\n",
       "<style scoped>\n",
       "    .dataframe tbody tr th:only-of-type {\n",
       "        vertical-align: middle;\n",
       "    }\n",
       "\n",
       "    .dataframe tbody tr th {\n",
       "        vertical-align: top;\n",
       "    }\n",
       "\n",
       "    .dataframe thead th {\n",
       "        text-align: right;\n",
       "    }\n",
       "</style>\n",
       "<table border=\"1\" class=\"dataframe\">\n",
       "  <thead>\n",
       "    <tr style=\"text-align: right;\">\n",
       "      <th></th>\n",
       "      <th>Id</th>\n",
       "      <th>MSSubClass</th>\n",
       "      <th>LotArea</th>\n",
       "      <th>Condition2</th>\n",
       "      <th>OverallQual</th>\n",
       "      <th>OverallCond</th>\n",
       "      <th>YearBuilt</th>\n",
       "      <th>YearRemodAdd</th>\n",
       "      <th>MasVnrArea</th>\n",
       "      <th>BsmtFinSF1</th>\n",
       "      <th>...</th>\n",
       "      <th>EnclosedPorch</th>\n",
       "      <th>3SsnPorch</th>\n",
       "      <th>ScreenPorch</th>\n",
       "      <th>PoolArea</th>\n",
       "      <th>MiscVal</th>\n",
       "      <th>MoSold</th>\n",
       "      <th>YrSold</th>\n",
       "      <th>SaleCondition</th>\n",
       "      <th>SalePrice</th>\n",
       "      <th>totalSQ</th>\n",
       "    </tr>\n",
       "  </thead>\n",
       "  <tbody>\n",
       "    <tr>\n",
       "      <th>0</th>\n",
       "      <td>1</td>\n",
       "      <td>60</td>\n",
       "      <td>8450</td>\n",
       "      <td>1</td>\n",
       "      <td>7</td>\n",
       "      <td>5</td>\n",
       "      <td>2003</td>\n",
       "      <td>2003</td>\n",
       "      <td>196.0</td>\n",
       "      <td>706</td>\n",
       "      <td>...</td>\n",
       "      <td>0</td>\n",
       "      <td>0</td>\n",
       "      <td>0</td>\n",
       "      <td>0</td>\n",
       "      <td>0</td>\n",
       "      <td>2</td>\n",
       "      <td>2008</td>\n",
       "      <td>2</td>\n",
       "      <td>208500</td>\n",
       "      <td>2566</td>\n",
       "    </tr>\n",
       "    <tr>\n",
       "      <th>1</th>\n",
       "      <td>2</td>\n",
       "      <td>20</td>\n",
       "      <td>9600</td>\n",
       "      <td>1</td>\n",
       "      <td>6</td>\n",
       "      <td>8</td>\n",
       "      <td>1976</td>\n",
       "      <td>1976</td>\n",
       "      <td>0.0</td>\n",
       "      <td>978</td>\n",
       "      <td>...</td>\n",
       "      <td>0</td>\n",
       "      <td>0</td>\n",
       "      <td>0</td>\n",
       "      <td>0</td>\n",
       "      <td>0</td>\n",
       "      <td>5</td>\n",
       "      <td>2007</td>\n",
       "      <td>2</td>\n",
       "      <td>181500</td>\n",
       "      <td>2524</td>\n",
       "    </tr>\n",
       "    <tr>\n",
       "      <th>2</th>\n",
       "      <td>3</td>\n",
       "      <td>60</td>\n",
       "      <td>11250</td>\n",
       "      <td>1</td>\n",
       "      <td>7</td>\n",
       "      <td>5</td>\n",
       "      <td>2001</td>\n",
       "      <td>2002</td>\n",
       "      <td>162.0</td>\n",
       "      <td>486</td>\n",
       "      <td>...</td>\n",
       "      <td>0</td>\n",
       "      <td>0</td>\n",
       "      <td>0</td>\n",
       "      <td>0</td>\n",
       "      <td>0</td>\n",
       "      <td>9</td>\n",
       "      <td>2008</td>\n",
       "      <td>2</td>\n",
       "      <td>223500</td>\n",
       "      <td>2706</td>\n",
       "    </tr>\n",
       "    <tr>\n",
       "      <th>3</th>\n",
       "      <td>4</td>\n",
       "      <td>70</td>\n",
       "      <td>9550</td>\n",
       "      <td>1</td>\n",
       "      <td>7</td>\n",
       "      <td>5</td>\n",
       "      <td>1915</td>\n",
       "      <td>1970</td>\n",
       "      <td>0.0</td>\n",
       "      <td>216</td>\n",
       "      <td>...</td>\n",
       "      <td>272</td>\n",
       "      <td>0</td>\n",
       "      <td>0</td>\n",
       "      <td>0</td>\n",
       "      <td>0</td>\n",
       "      <td>2</td>\n",
       "      <td>2006</td>\n",
       "      <td>0</td>\n",
       "      <td>140000</td>\n",
       "      <td>2473</td>\n",
       "    </tr>\n",
       "    <tr>\n",
       "      <th>4</th>\n",
       "      <td>5</td>\n",
       "      <td>60</td>\n",
       "      <td>14260</td>\n",
       "      <td>1</td>\n",
       "      <td>8</td>\n",
       "      <td>5</td>\n",
       "      <td>2000</td>\n",
       "      <td>2000</td>\n",
       "      <td>350.0</td>\n",
       "      <td>655</td>\n",
       "      <td>...</td>\n",
       "      <td>0</td>\n",
       "      <td>0</td>\n",
       "      <td>0</td>\n",
       "      <td>0</td>\n",
       "      <td>0</td>\n",
       "      <td>12</td>\n",
       "      <td>2008</td>\n",
       "      <td>2</td>\n",
       "      <td>250000</td>\n",
       "      <td>3343</td>\n",
       "    </tr>\n",
       "  </tbody>\n",
       "</table>\n",
       "<p>5 rows × 37 columns</p>\n",
       "</div>"
      ],
      "text/plain": [
       "   Id  MSSubClass  LotArea  Condition2  OverallQual  OverallCond  YearBuilt  \\\n",
       "0   1          60     8450           1            7            5       2003   \n",
       "1   2          20     9600           1            6            8       1976   \n",
       "2   3          60    11250           1            7            5       2001   \n",
       "3   4          70     9550           1            7            5       1915   \n",
       "4   5          60    14260           1            8            5       2000   \n",
       "\n",
       "   YearRemodAdd  MasVnrArea  BsmtFinSF1  ...  EnclosedPorch  3SsnPorch  \\\n",
       "0          2003       196.0         706  ...              0          0   \n",
       "1          1976         0.0         978  ...              0          0   \n",
       "2          2002       162.0         486  ...              0          0   \n",
       "3          1970         0.0         216  ...            272          0   \n",
       "4          2000       350.0         655  ...              0          0   \n",
       "\n",
       "   ScreenPorch  PoolArea  MiscVal  MoSold  YrSold  SaleCondition  SalePrice  \\\n",
       "0            0         0        0       2    2008              2     208500   \n",
       "1            0         0        0       5    2007              2     181500   \n",
       "2            0         0        0       9    2008              2     223500   \n",
       "3            0         0        0       2    2006              0     140000   \n",
       "4            0         0        0      12    2008              2     250000   \n",
       "\n",
       "   totalSQ  \n",
       "0     2566  \n",
       "1     2524  \n",
       "2     2706  \n",
       "3     2473  \n",
       "4     3343  \n",
       "\n",
       "[5 rows x 37 columns]"
      ]
     },
     "execution_count": 9,
     "metadata": {},
     "output_type": "execute_result"
    }
   ],
   "source": [
    "df = df.select_dtypes(include=['int16', 'int32', 'int64', 'float16', 'float32', 'float64'])\n",
    "df.head()"
   ]
  },
  {
   "cell_type": "markdown",
   "id": "39826262",
   "metadata": {
    "papermill": {
     "duration": 0.010471,
     "end_time": "2022-09-21T16:03:22.529230",
     "exception": false,
     "start_time": "2022-09-21T16:03:22.518759",
     "status": "completed"
    },
    "tags": []
   },
   "source": [
    "# Outliers"
   ]
  },
  {
   "cell_type": "code",
   "execution_count": 10,
   "id": "97efe682",
   "metadata": {
    "execution": {
     "iopub.execute_input": "2022-09-21T16:03:22.552199Z",
     "iopub.status.busy": "2022-09-21T16:03:22.551739Z",
     "iopub.status.idle": "2022-09-21T16:03:24.427694Z",
     "shell.execute_reply": "2022-09-21T16:03:24.426395Z"
    },
    "papermill": {
     "duration": 1.89042,
     "end_time": "2022-09-21T16:03:24.430263",
     "exception": false,
     "start_time": "2022-09-21T16:03:22.539843",
     "status": "completed"
    },
    "tags": []
   },
   "outputs": [
    {
     "data": {
      "text/plain": [
       "<seaborn.axisgrid.FacetGrid at 0x7f0a0be0f390>"
      ]
     },
     "execution_count": 10,
     "metadata": {},
     "output_type": "execute_result"
    },
    {
     "data": {
      "image/png": "[encoded data removed]",
      "text/plain": [
       "<Figure size 360x360 with 1 Axes>"
      ]
     },
     "metadata": {
      "needs_background": "light"
     },
     "output_type": "display_data"
    },
    {
     "data": {
      "image/png": "[encoded data removed]",
      "text/plain": [
       "<Figure size 360x360 with 1 Axes>"
      ]
     },
     "metadata": {
      "needs_background": "light"
     },
     "output_type": "display_data"
    }
   ],
   "source": [
    "import seaborn as sns\n",
    "sns.displot(df, x='SalePrice')\n",
    "sns.displot(df, x='totalSQ')"
   ]
  },
  {
   "cell_type": "code",
   "execution_count": 11,
   "id": "275253cc",
   "metadata": {
    "execution": {
     "iopub.execute_input": "2022-09-21T16:03:24.455309Z",
     "iopub.status.busy": "2022-09-21T16:03:24.454547Z",
     "iopub.status.idle": "2022-09-21T16:03:24.470760Z",
     "shell.execute_reply": "2022-09-21T16:03:24.469222Z"
    },
    "papermill": {
     "duration": 0.032037,
     "end_time": "2022-09-21T16:03:24.473613",
     "exception": false,
     "start_time": "2022-09-21T16:03:24.441576",
     "status": "completed"
    },
    "tags": []
   },
   "outputs": [
    {
     "name": "stdout",
     "output_type": "stream",
     "text": [
      "[438780, 501837, 475000, 437154, 426000, 555000, 440000, 430000, 446261, 451950, 423000, 755000, 538000, 485000, 582933, 611657, 556581, 424870, 625000, 745000, 465000, 466500]\n",
      "[438780, 501837, 475000, 437154, 426000, 555000, 440000, 430000, 446261, 451950, 423000, 755000, 538000, 485000, 582933, 611657, 556581, 424870, 625000, 745000, 465000, 466500, 5496, 6428, 7814, 6760, 5066, 5048, 5557, 6872, 11752, 5271, 5266]\n"
     ]
    }
   ],
   "source": [
    "from scipy import stats\n",
    "\n",
    "outliers=[]\n",
    "def detect_outlier(data_1):\n",
    "    threshold=3\n",
    "    mean_1 = np.mean(data_1)\n",
    "    std_1 =np.std(data_1)\n",
    "    \n",
    "    for y in data_1:\n",
    "        z_score= (y - mean_1)/std_1 \n",
    "        if np.abs(z_score) > threshold:\n",
    "            outliers.append(y)\n",
    "    return outliers\n",
    "priceOutlier=list(detect_outlier(df['SalePrice']))\n",
    "print(priceOutlier)\n",
    "sqOutlier=list(detect_outlier(df['totalSQ']))\n",
    "print(sqOutlier)"
   ]
  },
  {
   "cell_type": "code",
   "execution_count": 12,
   "id": "9224b4fd",
   "metadata": {
    "execution": {
     "iopub.execute_input": "2022-09-21T16:03:24.498135Z",
     "iopub.status.busy": "2022-09-21T16:03:24.497675Z",
     "iopub.status.idle": "2022-09-21T16:03:24.506058Z",
     "shell.execute_reply": "2022-09-21T16:03:24.505161Z"
    },
    "papermill": {
     "duration": 0.023452,
     "end_time": "2022-09-21T16:03:24.508428",
     "exception": false,
     "start_time": "2022-09-21T16:03:24.484976",
     "status": "completed"
    },
    "tags": []
   },
   "outputs": [
    {
     "name": "stdout",
     "output_type": "stream",
     "text": [
      "(1444, 37)\n"
     ]
    }
   ],
   "source": [
    "#Remove Outliers:\n",
    "df=df.loc[df['SalePrice']<500_000]\n",
    "df=df.loc[df['totalSQ']<5000]\n",
    "print(df.shape) "
   ]
  },
  {
   "cell_type": "markdown",
   "id": "ac943b09",
   "metadata": {
    "papermill": {
     "duration": 0.010978,
     "end_time": "2022-09-21T16:03:24.531378",
     "exception": false,
     "start_time": "2022-09-21T16:03:24.520400",
     "status": "completed"
    },
    "tags": []
   },
   "source": [
    "# Split Data"
   ]
  },
  {
   "cell_type": "code",
   "execution_count": 13,
   "id": "2ef03221",
   "metadata": {
    "execution": {
     "iopub.execute_input": "2022-09-21T16:03:24.555914Z",
     "iopub.status.busy": "2022-09-21T16:03:24.555305Z",
     "iopub.status.idle": "2022-09-21T16:03:24.722272Z",
     "shell.execute_reply": "2022-09-21T16:03:24.721218Z"
    },
    "papermill": {
     "duration": 0.182105,
     "end_time": "2022-09-21T16:03:24.724854",
     "exception": false,
     "start_time": "2022-09-21T16:03:24.542749",
     "status": "completed"
    },
    "tags": []
   },
   "outputs": [],
   "source": [
    "from sklearn.model_selection import train_test_split, cross_validate\n",
    "\n",
    "X=df.drop(\"SalePrice\", axis='columns')\n",
    "y=df['SalePrice']\n",
    "\n",
    "X_train, X_test, y_train, y_test = train_test_split(\n",
    "X, y, test_size=0.33, random_state=42)"
   ]
  },
  {
   "cell_type": "markdown",
   "id": "e7fa6334",
   "metadata": {
    "papermill": {
     "duration": 0.011466,
     "end_time": "2022-09-21T16:03:24.747946",
     "exception": false,
     "start_time": "2022-09-21T16:03:24.736480",
     "status": "completed"
    },
    "tags": []
   },
   "source": [
    "# xgBoost"
   ]
  },
  {
   "cell_type": "code",
   "execution_count": 14,
   "id": "d9365c36",
   "metadata": {
    "execution": {
     "iopub.execute_input": "2022-09-21T16:03:24.775350Z",
     "iopub.status.busy": "2022-09-21T16:03:24.774899Z",
     "iopub.status.idle": "2022-09-21T16:03:25.235566Z",
     "shell.execute_reply": "2022-09-21T16:03:25.234613Z"
    },
    "papermill": {
     "duration": 0.476738,
     "end_time": "2022-09-21T16:03:25.238371",
     "exception": false,
     "start_time": "2022-09-21T16:03:24.761633",
     "status": "completed"
    },
    "tags": []
   },
   "outputs": [
    {
     "name": "stdout",
     "output_type": "stream",
     "text": [
      "0.8873\n",
      "16176.886931669287\n"
     ]
    }
   ],
   "source": [
    "import xgboost as xgb\n",
    "from sklearn.metrics import mean_squared_error, r2_score, mean_absolute_error\n",
    "\n",
    "regressor = xgb.XGBRegressor(\n",
    "    n_estimators=100,\n",
    "    reg_lambda=1,\n",
    "    gamma=0,\n",
    "    max_depth=3\n",
    ")\n",
    "\n",
    "regressor.fit(X_train, y_train)\n",
    "y_pred = regressor.predict(X_test)\n",
    "\n",
    "xgbMSE=mean_absolute_error(y_test, y_pred)\n",
    "xgR2 = r2_score(y_test, y_pred).round(4)\n",
    "print(xgR2)\n",
    "print(xgbMSE)"
   ]
  },
  {
   "cell_type": "markdown",
   "id": "46867756",
   "metadata": {
    "papermill": {
     "duration": 0.011516,
     "end_time": "2022-09-21T16:03:25.262638",
     "exception": false,
     "start_time": "2022-09-21T16:03:25.251122",
     "status": "completed"
    },
    "tags": []
   },
   "source": [
    "### Max Depth Tunning\n",
    "Four for max depth is clearly the magic number with the least amount of error and highest accuracy. "
   ]
  },
  {
   "cell_type": "code",
   "execution_count": 15,
   "id": "48cf40b1",
   "metadata": {
    "execution": {
     "iopub.execute_input": "2022-09-21T16:03:25.287519Z",
     "iopub.status.busy": "2022-09-21T16:03:25.287102Z",
     "iopub.status.idle": "2022-09-21T16:03:30.823147Z",
     "shell.execute_reply": "2022-09-21T16:03:30.821957Z"
    },
    "papermill": {
     "duration": 5.551372,
     "end_time": "2022-09-21T16:03:30.825534",
     "exception": false,
     "start_time": "2022-09-21T16:03:25.274162",
     "status": "completed"
    },
    "tags": []
   },
   "outputs": [
    {
     "data": {
      "image/png": "[encoded data removed]",
      "text/plain": [
       "<Figure size 432x288 with 1 Axes>"
      ]
     },
     "metadata": {
      "needs_background": "light"
     },
     "output_type": "display_data"
    },
    {
     "data": {
      "image/png": "[encoded data removed]",
      "text/plain": [
       "<Figure size 432x288 with 1 Axes>"
      ]
     },
     "metadata": {
      "needs_background": "light"
     },
     "output_type": "display_data"
    }
   ],
   "source": [
    "maxDepth=[2, 3, 4, 5, 6, 7, 8, 9, 10, 11]\n",
    "listMSE=[]\n",
    "listR2=[]\n",
    "\n",
    "for d in maxDepth:\n",
    "    regressor = xgb.XGBRegressor(\n",
    "        n_estimators=100,\n",
    "        reg_lambda=1,\n",
    "        gamma=0,\n",
    "        max_depth=d\n",
    "    )\n",
    "    regressor.fit(X_train, y_train)\n",
    "    y_pred = regressor.predict(X_test)\n",
    "\n",
    "    xgMSE=mean_absolute_error(y_test, y_pred)\n",
    "    xgR2 = r2_score(y_test, y_pred).round(4)\n",
    "    listMSE.append(xgMSE)\n",
    "    listR2.append(xgR2)\n",
    "plt.plot(maxDepth, listMSE)\n",
    "plt.title('MaxDepth Error')\n",
    "plt.ylabel('Error')\n",
    "plt.xlabel('Max Depth')\n",
    "plt.legend()\n",
    "plt.show()\n",
    "\n",
    "plt.plot(maxDepth, listR2)\n",
    "plt.title('MaxDepth Accuracy')\n",
    "plt.ylabel('Accuracy')\n",
    "plt.xlabel('MaxDepth')\n",
    "plt.legend()\n",
    "plt.show()"
   ]
  },
  {
   "cell_type": "markdown",
   "id": "d4e489dd",
   "metadata": {
    "papermill": {
     "duration": 0.011664,
     "end_time": "2022-09-21T16:03:30.849329",
     "exception": false,
     "start_time": "2022-09-21T16:03:30.837665",
     "status": "completed"
    },
    "tags": []
   },
   "source": [
    "#### N Estimators Tunning\n",
    "Around 100 n_estimators seems to be a fair number for both accuracy and low error."
   ]
  },
  {
   "cell_type": "code",
   "execution_count": 16,
   "id": "76ff53e7",
   "metadata": {
    "execution": {
     "iopub.execute_input": "2022-09-21T16:03:30.875701Z",
     "iopub.status.busy": "2022-09-21T16:03:30.875002Z",
     "iopub.status.idle": "2022-09-21T16:03:34.729522Z",
     "shell.execute_reply": "2022-09-21T16:03:34.728333Z"
    },
    "papermill": {
     "duration": 3.870838,
     "end_time": "2022-09-21T16:03:34.732215",
     "exception": false,
     "start_time": "2022-09-21T16:03:30.861377",
     "status": "completed"
    },
    "tags": []
   },
   "outputs": [
    {
     "data": {
      "image/png": "[encoded data removed]",
      "text/plain": [
       "<Figure size 432x288 with 1 Axes>"
      ]
     },
     "metadata": {
      "needs_background": "light"
     },
     "output_type": "display_data"
    },
    {
     "data": {
      "image/png": "[encoded data removed]",
      "text/plain": [
       "<Figure size 432x288 with 1 Axes>"
      ]
     },
     "metadata": {
      "needs_background": "light"
     },
     "output_type": "display_data"
    }
   ],
   "source": [
    "nEst=[2, 50, 150, 100, 150, 200, 300]\n",
    "listMSE=[]\n",
    "listR2=[]\n",
    "\n",
    "for n in nEst:\n",
    "    regressor = xgb.XGBRegressor(\n",
    "        n_estimators=n,\n",
    "        reg_lambda=1,\n",
    "        gamma=0,\n",
    "        max_depth=4\n",
    "    )\n",
    "    regressor.fit(X_train, y_train)\n",
    "    y_pred = regressor.predict(X_test)\n",
    "\n",
    "    xgMSE=mean_absolute_error(y_test, y_pred)\n",
    "    xgR2 = r2_score(y_test, y_pred).round(4)\n",
    "    listMSE.append(xgMSE)\n",
    "    listR2.append(xgR2)\n",
    "plt.plot(nEst, listMSE)\n",
    "plt.title('nEstimators Error')\n",
    "plt.ylabel('Error')\n",
    "plt.xlabel('N Estimators')\n",
    "plt.legend()\n",
    "plt.show()\n",
    "\n",
    "plt.plot(nEst, listR2)\n",
    "plt.title('nEstimators R2')\n",
    "plt.ylabel('Accurate')\n",
    "plt.xlabel('N Estimators')\n",
    "plt.legend()\n",
    "plt.show()"
   ]
  },
  {
   "cell_type": "markdown",
   "id": "b8bff9ce",
   "metadata": {
    "papermill": {
     "duration": 0.012366,
     "end_time": "2022-09-21T16:03:34.757862",
     "exception": false,
     "start_time": "2022-09-21T16:03:34.745496",
     "status": "completed"
    },
    "tags": []
   },
   "source": [
    "#### Eta Tuning"
   ]
  },
  {
   "cell_type": "code",
   "execution_count": 17,
   "id": "1136ef5b",
   "metadata": {
    "execution": {
     "iopub.execute_input": "2022-09-21T16:03:34.784810Z",
     "iopub.status.busy": "2022-09-21T16:03:34.784403Z",
     "iopub.status.idle": "2022-09-21T16:03:36.177871Z",
     "shell.execute_reply": "2022-09-21T16:03:36.176697Z"
    },
    "papermill": {
     "duration": 1.409709,
     "end_time": "2022-09-21T16:03:36.180170",
     "exception": false,
     "start_time": "2022-09-21T16:03:34.770461",
     "status": "completed"
    },
    "tags": []
   },
   "outputs": [
    {
     "data": {
      "image/png": "[encoded data removed]",
      "text/plain": [
       "<Figure size 432x288 with 1 Axes>"
      ]
     },
     "metadata": {
      "needs_background": "light"
     },
     "output_type": "display_data"
    },
    {
     "data": {
      "image/png": "[encoded data removed]",
      "text/plain": [
       "<Figure size 432x288 with 1 Axes>"
      ]
     },
     "metadata": {
      "needs_background": "light"
     },
     "output_type": "display_data"
    }
   ],
   "source": [
    "eta=[.01, .02, .03, .04, .05]\n",
    "listMSE=[]\n",
    "listR2=[]\n",
    "\n",
    "for e in eta:\n",
    "    regressor = xgb.XGBRegressor(\n",
    "        n_estimators=50,\n",
    "        reg_lambda=1,\n",
    "        gamma=0,\n",
    "        max_depth=4,\n",
    "        eta=e\n",
    "    )\n",
    "    regressor.fit(X_train, y_train)\n",
    "    y_pred = regressor.predict(X_test)\n",
    "\n",
    "    xgMSE=mean_absolute_error(y_test, y_pred)\n",
    "    xgR2 = r2_score(y_test, y_pred).round(4)\n",
    "    listMSE.append(xgMSE)\n",
    "    listR2.append(xgR2)\n",
    "plt.plot(eta, listMSE)\n",
    "plt.title('Eta Error')\n",
    "plt.ylabel('Error')\n",
    "plt.xlabel('Eta')\n",
    "plt.legend()\n",
    "plt.show()\n",
    "\n",
    "plt.plot(eta, listR2)\n",
    "plt.title('Eta R2')\n",
    "plt.ylabel('Accurate')\n",
    "plt.xlabel('Eta')\n",
    "plt.legend()\n",
    "plt.show()"
   ]
  },
  {
   "cell_type": "code",
   "execution_count": 18,
   "id": "8ee96631",
   "metadata": {
    "execution": {
     "iopub.execute_input": "2022-09-21T16:03:36.210249Z",
     "iopub.status.busy": "2022-09-21T16:03:36.209789Z",
     "iopub.status.idle": "2022-09-21T16:03:38.288227Z",
     "shell.execute_reply": "2022-09-21T16:03:38.287252Z"
    },
    "papermill": {
     "duration": 2.096037,
     "end_time": "2022-09-21T16:03:38.290489",
     "exception": false,
     "start_time": "2022-09-21T16:03:36.194452",
     "status": "completed"
    },
    "tags": []
   },
   "outputs": [
    {
     "data": {
      "image/png": "[encoded data removed]",
      "text/plain": [
       "<Figure size 432x288 with 1 Axes>"
      ]
     },
     "metadata": {
      "needs_background": "light"
     },
     "output_type": "display_data"
    },
    {
     "data": {
      "image/png": "[encoded data removed]",
      "text/plain": [
       "<Figure size 432x288 with 1 Axes>"
      ]
     },
     "metadata": {
      "needs_background": "light"
     },
     "output_type": "display_data"
    }
   ],
   "source": [
    "weight=[1, 3, 5, 7, 9, 11, 13, 15, 17]\n",
    "listMSE=[]\n",
    "listR2=[]\n",
    "\n",
    "for w in weight:\n",
    "    regressor = xgb.XGBRegressor(\n",
    "        n_estimators=50,\n",
    "        reg_lambda=1,\n",
    "        gamma=0,\n",
    "        max_depth=4,\n",
    "        eta=.05,\n",
    "        min_child_weight=w\n",
    "    )\n",
    "    regressor.fit(X_train, y_train)\n",
    "    y_pred = regressor.predict(X_test)\n",
    "\n",
    "    xgMSE=mean_absolute_error(y_test, y_pred)\n",
    "    xgR2 = r2_score(y_test, y_pred).round(4)\n",
    "    listMSE.append(xgMSE)\n",
    "    listR2.append(xgR2)\n",
    "plt.plot(weight, listMSE)\n",
    "plt.title('nEstimators Error')\n",
    "plt.ylabel('Error')\n",
    "plt.xlabel('Weight')\n",
    "plt.legend()\n",
    "plt.show()\n",
    "\n",
    "plt.plot(weight, listR2)\n",
    "plt.title('Weight R2')\n",
    "plt.ylabel('Accurate')\n",
    "plt.xlabel('Weight')\n",
    "plt.legend()\n",
    "plt.show()"
   ]
  },
  {
   "cell_type": "code",
   "execution_count": 19,
   "id": "296e514d",
   "metadata": {
    "execution": {
     "iopub.execute_input": "2022-09-21T16:03:38.322244Z",
     "iopub.status.busy": "2022-09-21T16:03:38.321095Z",
     "iopub.status.idle": "2022-09-21T16:03:39.361820Z",
     "shell.execute_reply": "2022-09-21T16:03:39.361020Z"
    },
    "papermill": {
     "duration": 1.060638,
     "end_time": "2022-09-21T16:03:39.366131",
     "exception": false,
     "start_time": "2022-09-21T16:03:38.305493",
     "status": "completed"
    },
    "tags": []
   },
   "outputs": [
    {
     "data": {
      "image/png": "[encoded data removed]",
      "text/plain": [
       "<Figure size 432x288 with 1 Axes>"
      ]
     },
     "metadata": {
      "needs_background": "light"
     },
     "output_type": "display_data"
    },
    {
     "data": {
      "image/png": "[encoded data removed]",
      "text/plain": [
       "<Figure size 432x288 with 1 Axes>"
      ]
     },
     "metadata": {
      "needs_background": "light"
     },
     "output_type": "display_data"
    }
   ],
   "source": [
    "gammas=[0, 1, 3, 10]\n",
    "listMSE=[]\n",
    "listR2=[]\n",
    "\n",
    "for g in gammas:\n",
    "    regressor = xgb.XGBRegressor(\n",
    "        n_estimators=50,\n",
    "        reg_lambda=1,\n",
    "        gamma=g,\n",
    "        max_depth=4,\n",
    "        eta=.05,\n",
    "        min_child_weight=13\n",
    "    )\n",
    "    regressor.fit(X_train, y_train)\n",
    "    y_pred = regressor.predict(X_test)\n",
    "\n",
    "    xgMSE=mean_absolute_error(y_test, y_pred)\n",
    "    xgR2 = r2_score(y_test, y_pred).round(4)\n",
    "    listMSE.append(xgMSE)\n",
    "    listR2.append(xgR2)\n",
    "    \n",
    "plt.plot(gammas, listMSE)\n",
    "plt.title('Gamma Error')\n",
    "plt.ylabel('Error')\n",
    "plt.xlabel('Gammas')\n",
    "plt.legend()\n",
    "plt.show()\n",
    "\n",
    "plt.plot(gammas, listR2)\n",
    "plt.title('Gamma R2')\n",
    "plt.ylabel('Accurate')\n",
    "plt.xlabel('Gammas')\n",
    "plt.legend()\n",
    "plt.show()"
   ]
  },
  {
   "cell_type": "code",
   "execution_count": 20,
   "id": "53efc207",
   "metadata": {
    "execution": {
     "iopub.execute_input": "2022-09-21T16:03:39.406403Z",
     "iopub.status.busy": "2022-09-21T16:03:39.405541Z",
     "iopub.status.idle": "2022-09-21T16:03:41.147203Z",
     "shell.execute_reply": "2022-09-21T16:03:41.145753Z"
    },
    "papermill": {
     "duration": 1.760318,
     "end_time": "2022-09-21T16:03:41.149973",
     "exception": false,
     "start_time": "2022-09-21T16:03:39.389655",
     "status": "completed"
    },
    "tags": []
   },
   "outputs": [
    {
     "data": {
      "image/png": "[encoded data removed]",
      "text/plain": [
       "<Figure size 432x288 with 1 Axes>"
      ]
     },
     "metadata": {
      "needs_background": "light"
     },
     "output_type": "display_data"
    },
    {
     "data": {
      "image/png": "[encoded data removed]",
      "text/plain": [
       "<Figure size 432x288 with 1 Axes>"
      ]
     },
     "metadata": {
      "needs_background": "light"
     },
     "output_type": "display_data"
    }
   ],
   "source": [
    "learning_rate = [0.0001, 0.001, 0.01, 0.1, 0.2, 0.3]\n",
    "listMSE=[]\n",
    "listR2=[]\n",
    "\n",
    "for l in learning_rate:\n",
    "    regressor = xgb.XGBRegressor(\n",
    "        n_estimators=50,\n",
    "        reg_lambda=1,\n",
    "        gamma=g,\n",
    "        max_depth=4,\n",
    "        eta=.05,\n",
    "        min_child_weight=13,\n",
    "        learning_rate=l\n",
    "    )\n",
    "    regressor.fit(X_train, y_train)\n",
    "    y_pred = regressor.predict(X_test)\n",
    "\n",
    "    xgMSE=mean_absolute_error(y_test, y_pred)\n",
    "    xgR2 = r2_score(y_test, y_pred).round(4)\n",
    "    listMSE.append(xgMSE)\n",
    "    listR2.append(xgR2)\n",
    "    \n",
    "plt.plot(learning_rate, listMSE)\n",
    "plt.title('Learning_rate Error')\n",
    "plt.ylabel('Error')\n",
    "plt.xlabel('Learning_rate')\n",
    "plt.legend()\n",
    "plt.show()\n",
    "\n",
    "plt.plot(learning_rate, listR2)\n",
    "plt.title('Learning_rate R2')\n",
    "plt.ylabel('Accurate')\n",
    "plt.xlabel('Learning_rate')\n",
    "plt.legend()\n",
    "plt.show()"
   ]
  },
  {
   "cell_type": "markdown",
   "id": "e9a956f4",
   "metadata": {
    "papermill": {
     "duration": 0.015033,
     "end_time": "2022-09-21T16:03:41.180441",
     "exception": false,
     "start_time": "2022-09-21T16:03:41.165408",
     "status": "completed"
    },
    "tags": []
   },
   "source": [
    "#### Final xgBoost Prediction\n",
    "Using best parameter tunnings"
   ]
  },
  {
   "cell_type": "code",
   "execution_count": 21,
   "id": "cbb017dd",
   "metadata": {
    "execution": {
     "iopub.execute_input": "2022-09-21T16:03:41.213057Z",
     "iopub.status.busy": "2022-09-21T16:03:41.212663Z",
     "iopub.status.idle": "2022-09-21T16:03:43.638002Z",
     "shell.execute_reply": "2022-09-21T16:03:43.637078Z"
    },
    "papermill": {
     "duration": 2.445128,
     "end_time": "2022-09-21T16:03:43.641011",
     "exception": false,
     "start_time": "2022-09-21T16:03:41.195883",
     "status": "completed"
    },
    "tags": []
   },
   "outputs": [
    {
     "name": "stdout",
     "output_type": "stream",
     "text": [
      "0.9027\n",
      "0.8963\n",
      "0.006399999999999961\n"
     ]
    }
   ],
   "source": [
    "regressor = xgb.XGBRegressor(\n",
    "    n_estimators=50,\n",
    "    \n",
    "    gamma=0,\n",
    "    max_depth=4,\n",
    "    min_child_weight=13,\n",
    "    reg_lambda=1,\n",
    "    #eta=.03,\n",
    "    learning_rate=.1\n",
    ")\n",
    "\n",
    "regressor.fit(X_train, y_train)\n",
    "y_pred = regressor.predict(X_test)\n",
    "\n",
    "xgMSE=mean_absolute_error(y_test, y_pred)\n",
    "xgR2 = r2_score(y_test, y_pred).round(4)\n",
    "listMSE.append(xgMSE)\n",
    "listR2.append(xgR2)\n",
    "\n",
    "xgScore = regressor.score(X_test, y_test).round(4)  \n",
    "xgCV = cross_validate(regressor, X, y, cv = 10, scoring= 'r2')\n",
    "xgCV=xgCV['test_score'].mean().round(4)\n",
    "print(xgScore)\n",
    "print(xgCV)\n",
    "print(abs(xgScore-xgCV))"
   ]
  },
  {
   "cell_type": "markdown",
   "id": "d9c6a9e3",
   "metadata": {
    "papermill": {
     "duration": 0.014991,
     "end_time": "2022-09-21T16:03:43.674281",
     "exception": false,
     "start_time": "2022-09-21T16:03:43.659290",
     "status": "completed"
    },
    "tags": []
   },
   "source": [
    "import time\n",
    "import numpy as np\n",
    "from sklearn.model_selection import RandomizedSearchCV\n",
    "from sklearn.model_selection import KFold\n",
    "from sklearn.metrics import accuracy\n",
    "\n",
    "start_time=time.time()\n",
    "\n",
    "# grid search\n",
    "model = XGBRegressor()\n",
    "\n",
    "param_grid = {\n",
    "        'max_depth': [3, 4, 5, 6, 7, 8, 9, 10, 11, 12],\n",
    "        'min_child_weight': np.arange(0.0001, 0.5, 0.001),\n",
    "        'gamma': np.arange(0.0,40.0,0.005),\n",
    "        'learning_rate': np.arange(0.0005,0.3,0.0005),\n",
    "        'subsample': np.arange(0.01,1.0,0.01),\n",
    "        #'colsample_bylevel': np.round(np.arange(0.1,1.0,0.01),\n",
    "        #'colsample_bytree': np.arange(0.1,1.0,0.01),\n",
    "{\n",
    "\n",
    "kfold = KFold(n_splits=10, shuffle=True, random_state=10)\n",
    "grid_search = RandomizedSearchCV(model, param_grid, scoring=\"accuracy\", n_iter = 500, cv=kfold)\n",
    "grid_result = grid_search.fit(X_train,y_train)\n",
    "\n",
    "# summarize results\n",
    "print(\"Best: %f using %s\" % (grid_result.best_score_, grid_result.best_params_))\n",
    "means = grid_result.cv_results_[ 'mean_test_score' ]\n",
    "stds = grid_result.cv_results_[ 'std_test_score' ]\n",
    "params = grid_result.cv_results_[ 'params' ]\n",
    "\n",
    "print(time.time()-start_time)"
   ]
  },
  {
   "cell_type": "markdown",
   "id": "36010013",
   "metadata": {
    "papermill": {
     "duration": 0.014826,
     "end_time": "2022-09-21T16:03:43.704157",
     "exception": false,
     "start_time": "2022-09-21T16:03:43.689331",
     "status": "completed"
    },
    "tags": []
   },
   "source": [
    "### Graph"
   ]
  },
  {
   "cell_type": "code",
   "execution_count": 22,
   "id": "a7dfa2db",
   "metadata": {
    "execution": {
     "iopub.execute_input": "2022-09-21T16:03:43.736234Z",
     "iopub.status.busy": "2022-09-21T16:03:43.735791Z",
     "iopub.status.idle": "2022-09-21T16:03:44.741856Z",
     "shell.execute_reply": "2022-09-21T16:03:44.740457Z"
    },
    "papermill": {
     "duration": 1.025123,
     "end_time": "2022-09-21T16:03:44.744516",
     "exception": false,
     "start_time": "2022-09-21T16:03:43.719393",
     "status": "completed"
    },
    "tags": []
   },
   "outputs": [
    {
     "data": {
      "image/svg+xml": [
       "<?xml version=\"1.0\" encoding=\"UTF-8\" standalone=\"no\"?>\n",
       "<!DOCTYPE svg PUBLIC \"-//W3C//DTD SVG 1.1//EN\"\n",
       " \"http://www.w3.org/Graphics/SVG/1.1/DTD/svg11.dtd\">\n",
       "<!-- Generated by graphviz version 5.0.0 (20220707.2338)\n",
       " -->\n",
       "<!-- Pages: 1 -->\n",
       "<svg width=\"1916pt\" height=\"392pt\"\n",
       " viewBox=\"0.00 0.00 1916.13 392.00\" xmlns=\"http://www.w3.org/2000/svg\" xmlns:xlink=\"http://www.w3.org/1999/xlink\">\n",
       "<g id=\"graph0\" class=\"graph\" transform=\"scale(1 1) rotate(0) translate(4 388)\">\n",
       "<polygon fill=\"white\" stroke=\"transparent\" points=\"-4,4 -4,-388 1912.13,-388 1912.13,4 -4,4\"/>\n",
       "<!-- 0 -->\n",
       "<g id=\"node1\" class=\"node\">\n",
       "<title>0</title>\n",
       "<ellipse fill=\"none\" stroke=\"black\" cx=\"1169.99\" cy=\"-366\" rx=\"85.59\" ry=\"18\"/>\n",
       "<text text-anchor=\"middle\" x=\"1169.99\" y=\"-362.3\" font-family=\"Times,serif\" font-size=\"14.00\">totalSQ&lt;2948.5</text>\n",
       "</g>\n",
       "<!-- 1 -->\n",
       "<g id=\"node2\" class=\"node\">\n",
       "<title>1</title>\n",
       "<ellipse fill=\"none\" stroke=\"black\" cx=\"974.99\" cy=\"-279\" rx=\"85.59\" ry=\"18\"/>\n",
       "<text text-anchor=\"middle\" x=\"974.99\" y=\"-275.3\" font-family=\"Times,serif\" font-size=\"14.00\">totalSQ&lt;2243.5</text>\n",
       "</g>\n",
       "<!-- 0&#45;&gt;1 -->\n",
       "<g id=\"edge1\" class=\"edge\">\n",
       "<title>0&#45;&gt;1</title>\n",
       "<path fill=\"none\" stroke=\"#0000ff\" d=\"M1134.23,-349.41C1102.07,-335.39 1054.68,-314.74 1019.96,-299.6\"/>\n",
       "<polygon fill=\"#0000ff\" stroke=\"#0000ff\" points=\"1021.1,-296.28 1010.53,-295.49 1018.3,-302.7 1021.1,-296.28\"/>\n",
       "<text text-anchor=\"middle\" x=\"1129.49\" y=\"-318.8\" font-family=\"Times,serif\" font-size=\"14.00\">yes, missing</text>\n",
       "</g>\n",
       "<!-- 2 -->\n",
       "<g id=\"node3\" class=\"node\">\n",
       "<title>2</title>\n",
       "<ellipse fill=\"none\" stroke=\"black\" cx=\"1339.99\" cy=\"-279\" rx=\"88.28\" ry=\"18\"/>\n",
       "<text text-anchor=\"middle\" x=\"1339.99\" y=\"-275.3\" font-family=\"Times,serif\" font-size=\"14.00\">OverallQual&lt;6.5</text>\n",
       "</g>\n",
       "<!-- 0&#45;&gt;2 -->\n",
       "<g id=\"edge2\" class=\"edge\">\n",
       "<title>0&#45;&gt;2</title>\n",
       "<path fill=\"none\" stroke=\"#ff0000\" d=\"M1201.57,-349.21C1229.15,-335.42 1269.36,-315.31 1299.34,-300.32\"/>\n",
       "<polygon fill=\"#ff0000\" stroke=\"#ff0000\" points=\"1300.92,-303.45 1308.3,-295.85 1297.79,-297.19 1300.92,-303.45\"/>\n",
       "<text text-anchor=\"middle\" x=\"1274.99\" y=\"-318.8\" font-family=\"Times,serif\" font-size=\"14.00\">no</text>\n",
       "</g>\n",
       "<!-- 3 -->\n",
       "<g id=\"node4\" class=\"node\">\n",
       "<title>3</title>\n",
       "<ellipse fill=\"none\" stroke=\"black\" cx=\"602.99\" cy=\"-192\" rx=\"77.19\" ry=\"18\"/>\n",
       "<text text-anchor=\"middle\" x=\"602.99\" y=\"-188.3\" font-family=\"Times,serif\" font-size=\"14.00\">totalSQ&lt;1649</text>\n",
       "</g>\n",
       "<!-- 1&#45;&gt;3 -->\n",
       "<g id=\"edge3\" class=\"edge\">\n",
       "<title>1&#45;&gt;3</title>\n",
       "<path fill=\"none\" stroke=\"#0000ff\" d=\"M919.3,-265.27C851.49,-249.78 737.25,-223.68 666.21,-207.44\"/>\n",
       "<polygon fill=\"#0000ff\" stroke=\"#0000ff\" points=\"666.58,-203.94 656.05,-205.12 665.02,-210.76 666.58,-203.94\"/>\n",
       "<text text-anchor=\"middle\" x=\"856.49\" y=\"-231.8\" font-family=\"Times,serif\" font-size=\"14.00\">yes, missing</text>\n",
       "</g>\n",
       "<!-- 4 -->\n",
       "<g id=\"node5\" class=\"node\">\n",
       "<title>4</title>\n",
       "<ellipse fill=\"none\" stroke=\"black\" cx=\"974.99\" cy=\"-192\" rx=\"93.68\" ry=\"18\"/>\n",
       "<text text-anchor=\"middle\" x=\"974.99\" y=\"-188.3\" font-family=\"Times,serif\" font-size=\"14.00\">YearBuilt&lt;1978.5</text>\n",
       "</g>\n",
       "<!-- 1&#45;&gt;4 -->\n",
       "<g id=\"edge4\" class=\"edge\">\n",
       "<title>1&#45;&gt;4</title>\n",
       "<path fill=\"none\" stroke=\"#ff0000\" d=\"M974.99,-260.8C974.99,-249.16 974.99,-233.55 974.99,-220.24\"/>\n",
       "<polygon fill=\"#ff0000\" stroke=\"#ff0000\" points=\"978.49,-220.18 974.99,-210.18 971.49,-220.18 978.49,-220.18\"/>\n",
       "<text text-anchor=\"middle\" x=\"983.99\" y=\"-231.8\" font-family=\"Times,serif\" font-size=\"14.00\">no</text>\n",
       "</g>\n",
       "<!-- 5 -->\n",
       "<g id=\"node16\" class=\"node\">\n",
       "<title>5</title>\n",
       "<ellipse fill=\"none\" stroke=\"black\" cx=\"1339.99\" cy=\"-192\" rx=\"98.28\" ry=\"18\"/>\n",
       "<text text-anchor=\"middle\" x=\"1339.99\" y=\"-188.3\" font-family=\"Times,serif\" font-size=\"14.00\">KitchenAbvGr&lt;1.5</text>\n",
       "</g>\n",
       "<!-- 2&#45;&gt;5 -->\n",
       "<g id=\"edge15\" class=\"edge\">\n",
       "<title>2&#45;&gt;5</title>\n",
       "<path fill=\"none\" stroke=\"#0000ff\" d=\"M1339.99,-260.8C1339.99,-249.16 1339.99,-233.55 1339.99,-220.24\"/>\n",
       "<polygon fill=\"#0000ff\" stroke=\"#0000ff\" points=\"1343.49,-220.18 1339.99,-210.18 1336.49,-220.18 1343.49,-220.18\"/>\n",
       "<text text-anchor=\"middle\" x=\"1384.49\" y=\"-231.8\" font-family=\"Times,serif\" font-size=\"14.00\">yes, missing</text>\n",
       "</g>\n",
       "<!-- 6 -->\n",
       "<g id=\"node17\" class=\"node\">\n",
       "<title>6</title>\n",
       "<ellipse fill=\"none\" stroke=\"black\" cx=\"1628.99\" cy=\"-192\" rx=\"85.59\" ry=\"18\"/>\n",
       "<text text-anchor=\"middle\" x=\"1628.99\" y=\"-188.3\" font-family=\"Times,serif\" font-size=\"14.00\">totalSQ&lt;3394.5</text>\n",
       "</g>\n",
       "<!-- 2&#45;&gt;6 -->\n",
       "<g id=\"edge16\" class=\"edge\">\n",
       "<title>2&#45;&gt;6</title>\n",
       "<path fill=\"none\" stroke=\"#ff0000\" d=\"M1388.04,-263.87C1438.51,-249.03 1517.86,-225.69 1571.59,-209.88\"/>\n",
       "<polygon fill=\"#ff0000\" stroke=\"#ff0000\" points=\"1572.71,-213.2 1581.31,-207.02 1570.73,-206.49 1572.71,-213.2\"/>\n",
       "<text text-anchor=\"middle\" x=\"1510.99\" y=\"-231.8\" font-family=\"Times,serif\" font-size=\"14.00\">no</text>\n",
       "</g>\n",
       "<!-- 7 -->\n",
       "<g id=\"node6\" class=\"node\">\n",
       "<title>7</title>\n",
       "<ellipse fill=\"none\" stroke=\"black\" cx=\"290.99\" cy=\"-105\" rx=\"88.28\" ry=\"18\"/>\n",
       "<text text-anchor=\"middle\" x=\"290.99\" y=\"-101.3\" font-family=\"Times,serif\" font-size=\"14.00\">OverallQual&lt;4.5</text>\n",
       "</g>\n",
       "<!-- 3&#45;&gt;7 -->\n",
       "<g id=\"edge5\" class=\"edge\">\n",
       "<title>3&#45;&gt;7</title>\n",
       "<path fill=\"none\" stroke=\"#0000ff\" d=\"M554.58,-177.81C499.9,-162.91 410.81,-138.64 351.56,-122.5\"/>\n",
       "<polygon fill=\"#0000ff\" stroke=\"#0000ff\" points=\"352.15,-119.04 341.58,-119.78 350.31,-125.79 352.15,-119.04\"/>\n",
       "<text text-anchor=\"middle\" x=\"510.49\" y=\"-144.8\" font-family=\"Times,serif\" font-size=\"14.00\">yes, missing</text>\n",
       "</g>\n",
       "<!-- 8 -->\n",
       "<g id=\"node7\" class=\"node\">\n",
       "<title>8</title>\n",
       "<ellipse fill=\"none\" stroke=\"black\" cx=\"602.99\" cy=\"-105\" rx=\"121.58\" ry=\"18\"/>\n",
       "<text text-anchor=\"middle\" x=\"602.99\" y=\"-101.3\" font-family=\"Times,serif\" font-size=\"14.00\">YearRemodAdd&lt;1967.5</text>\n",
       "</g>\n",
       "<!-- 3&#45;&gt;8 -->\n",
       "<g id=\"edge6\" class=\"edge\">\n",
       "<title>3&#45;&gt;8</title>\n",
       "<path fill=\"none\" stroke=\"#ff0000\" d=\"M602.99,-173.8C602.99,-162.16 602.99,-146.55 602.99,-133.24\"/>\n",
       "<polygon fill=\"#ff0000\" stroke=\"#ff0000\" points=\"606.49,-133.18 602.99,-123.18 599.49,-133.18 606.49,-133.18\"/>\n",
       "<text text-anchor=\"middle\" x=\"611.99\" y=\"-144.8\" font-family=\"Times,serif\" font-size=\"14.00\">no</text>\n",
       "</g>\n",
       "<!-- 9 -->\n",
       "<g id=\"node12\" class=\"node\">\n",
       "<title>9</title>\n",
       "<ellipse fill=\"none\" stroke=\"black\" cx=\"890.99\" cy=\"-105\" rx=\"81.49\" ry=\"18\"/>\n",
       "<text text-anchor=\"middle\" x=\"890.99\" y=\"-101.3\" font-family=\"Times,serif\" font-size=\"14.00\">Fireplaces&lt;0.5</text>\n",
       "</g>\n",
       "<!-- 4&#45;&gt;9 -->\n",
       "<g id=\"edge11\" class=\"edge\">\n",
       "<title>4&#45;&gt;9</title>\n",
       "<path fill=\"none\" stroke=\"#0000ff\" d=\"M958.4,-174.21C945.97,-161.63 928.79,-144.25 914.89,-130.18\"/>\n",
       "<polygon fill=\"#0000ff\" stroke=\"#0000ff\" points=\"917.07,-127.41 907.55,-122.76 912.09,-132.33 917.07,-127.41\"/>\n",
       "<text text-anchor=\"middle\" x=\"983.49\" y=\"-144.8\" font-family=\"Times,serif\" font-size=\"14.00\">yes, missing</text>\n",
       "</g>\n",
       "<!-- 10 -->\n",
       "<g id=\"node13\" class=\"node\">\n",
       "<title>10</title>\n",
       "<ellipse fill=\"none\" stroke=\"black\" cx=\"1080.99\" cy=\"-105\" rx=\"90.98\" ry=\"18\"/>\n",
       "<text text-anchor=\"middle\" x=\"1080.99\" y=\"-101.3\" font-family=\"Times,serif\" font-size=\"14.00\">leaf=19383.0137</text>\n",
       "</g>\n",
       "<!-- 4&#45;&gt;10 -->\n",
       "<g id=\"edge12\" class=\"edge\">\n",
       "<title>4&#45;&gt;10</title>\n",
       "<path fill=\"none\" stroke=\"#ff0000\" d=\"M1004.33,-174.87C1013.5,-169.33 1023.46,-162.8 1031.99,-156 1041.6,-148.34 1051.25,-138.94 1059.43,-130.36\"/>\n",
       "<polygon fill=\"#ff0000\" stroke=\"#ff0000\" points=\"1062.22,-132.49 1066.47,-122.79 1057.1,-127.73 1062.22,-132.49\"/>\n",
       "<text text-anchor=\"middle\" x=\"1056.99\" y=\"-144.8\" font-family=\"Times,serif\" font-size=\"14.00\">no</text>\n",
       "</g>\n",
       "<!-- 15 -->\n",
       "<g id=\"node8\" class=\"node\">\n",
       "<title>15</title>\n",
       "<ellipse fill=\"none\" stroke=\"black\" cx=\"90.99\" cy=\"-18\" rx=\"90.98\" ry=\"18\"/>\n",
       "<text text-anchor=\"middle\" x=\"90.99\" y=\"-14.3\" font-family=\"Times,serif\" font-size=\"14.00\">leaf=7851.89551</text>\n",
       "</g>\n",
       "<!-- 7&#45;&gt;15 -->\n",
       "<g id=\"edge7\" class=\"edge\">\n",
       "<title>7&#45;&gt;15</title>\n",
       "<path fill=\"none\" stroke=\"#0000ff\" d=\"M249.06,-89C232.98,-83.04 214.53,-75.96 197.99,-69 176.23,-59.84 152.4,-48.8 132.76,-39.43\"/>\n",
       "<polygon fill=\"#0000ff\" stroke=\"#0000ff\" points=\"134.01,-36.15 123.48,-34.98 130.98,-42.46 134.01,-36.15\"/>\n",
       "<text text-anchor=\"middle\" x=\"242.49\" y=\"-57.8\" font-family=\"Times,serif\" font-size=\"14.00\">yes, missing</text>\n",
       "</g>\n",
       "<!-- 16 -->\n",
       "<g id=\"node9\" class=\"node\">\n",
       "<title>16</title>\n",
       "<ellipse fill=\"none\" stroke=\"black\" cx=\"290.99\" cy=\"-18\" rx=\"90.98\" ry=\"18\"/>\n",
       "<text text-anchor=\"middle\" x=\"290.99\" y=\"-14.3\" font-family=\"Times,serif\" font-size=\"14.00\">leaf=10093.5439</text>\n",
       "</g>\n",
       "<!-- 7&#45;&gt;16 -->\n",
       "<g id=\"edge8\" class=\"edge\">\n",
       "<title>7&#45;&gt;16</title>\n",
       "<path fill=\"none\" stroke=\"#ff0000\" d=\"M290.99,-86.8C290.99,-75.16 290.99,-59.55 290.99,-46.24\"/>\n",
       "<polygon fill=\"#ff0000\" stroke=\"#ff0000\" points=\"294.49,-46.18 290.99,-36.18 287.49,-46.18 294.49,-46.18\"/>\n",
       "<text text-anchor=\"middle\" x=\"299.99\" y=\"-57.8\" font-family=\"Times,serif\" font-size=\"14.00\">no</text>\n",
       "</g>\n",
       "<!-- 17 -->\n",
       "<g id=\"node10\" class=\"node\">\n",
       "<title>17</title>\n",
       "<ellipse fill=\"none\" stroke=\"black\" cx=\"490.99\" cy=\"-18\" rx=\"90.98\" ry=\"18\"/>\n",
       "<text text-anchor=\"middle\" x=\"490.99\" y=\"-14.3\" font-family=\"Times,serif\" font-size=\"14.00\">leaf=11479.6562</text>\n",
       "</g>\n",
       "<!-- 8&#45;&gt;17 -->\n",
       "<g id=\"edge9\" class=\"edge\">\n",
       "<title>8&#45;&gt;17</title>\n",
       "<path fill=\"none\" stroke=\"#0000ff\" d=\"M575.86,-87.44C567.11,-81.83 557.48,-75.37 548.99,-69 538,-60.76 526.42,-51.02 516.53,-42.34\"/>\n",
       "<polygon fill=\"#0000ff\" stroke=\"#0000ff\" points=\"518.81,-39.67 509.01,-35.65 514.16,-44.91 518.81,-39.67\"/>\n",
       "<text text-anchor=\"middle\" x=\"593.49\" y=\"-57.8\" font-family=\"Times,serif\" font-size=\"14.00\">yes, missing</text>\n",
       "</g>\n",
       "<!-- 18 -->\n",
       "<g id=\"node11\" class=\"node\">\n",
       "<title>18</title>\n",
       "<ellipse fill=\"none\" stroke=\"black\" cx=\"690.99\" cy=\"-18\" rx=\"90.98\" ry=\"18\"/>\n",
       "<text text-anchor=\"middle\" x=\"690.99\" y=\"-14.3\" font-family=\"Times,serif\" font-size=\"14.00\">leaf=14132.6426</text>\n",
       "</g>\n",
       "<!-- 8&#45;&gt;18 -->\n",
       "<g id=\"edge10\" class=\"edge\">\n",
       "<title>8&#45;&gt;18</title>\n",
       "<path fill=\"none\" stroke=\"#ff0000\" d=\"M620.8,-86.8C633.89,-74.16 651.83,-56.82 666.3,-42.85\"/>\n",
       "<polygon fill=\"#ff0000\" stroke=\"#ff0000\" points=\"668.75,-45.35 673.51,-35.89 663.89,-40.32 668.75,-45.35\"/>\n",
       "<text text-anchor=\"middle\" x=\"661.99\" y=\"-57.8\" font-family=\"Times,serif\" font-size=\"14.00\">no</text>\n",
       "</g>\n",
       "<!-- 19 -->\n",
       "<g id=\"node14\" class=\"node\">\n",
       "<title>19</title>\n",
       "<ellipse fill=\"none\" stroke=\"black\" cx=\"890.99\" cy=\"-18\" rx=\"90.98\" ry=\"18\"/>\n",
       "<text text-anchor=\"middle\" x=\"890.99\" y=\"-14.3\" font-family=\"Times,serif\" font-size=\"14.00\">leaf=13731.4502</text>\n",
       "</g>\n",
       "<!-- 9&#45;&gt;19 -->\n",
       "<g id=\"edge13\" class=\"edge\">\n",
       "<title>9&#45;&gt;19</title>\n",
       "<path fill=\"none\" stroke=\"#0000ff\" d=\"M890.99,-86.8C890.99,-75.16 890.99,-59.55 890.99,-46.24\"/>\n",
       "<polygon fill=\"#0000ff\" stroke=\"#0000ff\" points=\"894.49,-46.18 890.99,-36.18 887.49,-46.18 894.49,-46.18\"/>\n",
       "<text text-anchor=\"middle\" x=\"935.49\" y=\"-57.8\" font-family=\"Times,serif\" font-size=\"14.00\">yes, missing</text>\n",
       "</g>\n",
       "<!-- 20 -->\n",
       "<g id=\"node15\" class=\"node\">\n",
       "<title>20</title>\n",
       "<ellipse fill=\"none\" stroke=\"black\" cx=\"1090.99\" cy=\"-18\" rx=\"90.98\" ry=\"18\"/>\n",
       "<text text-anchor=\"middle\" x=\"1090.99\" y=\"-14.3\" font-family=\"Times,serif\" font-size=\"14.00\">leaf=16666.1855</text>\n",
       "</g>\n",
       "<!-- 9&#45;&gt;20 -->\n",
       "<g id=\"edge14\" class=\"edge\">\n",
       "<title>9&#45;&gt;20</title>\n",
       "<path fill=\"none\" stroke=\"#ff0000\" d=\"M932,-89.34C948.3,-83.32 967.14,-76.1 983.99,-69 1005.75,-59.84 1029.59,-48.8 1049.23,-39.43\"/>\n",
       "<polygon fill=\"#ff0000\" stroke=\"#ff0000\" points=\"1051,-42.46 1058.5,-34.98 1047.97,-36.15 1051,-42.46\"/>\n",
       "<text text-anchor=\"middle\" x=\"1025.99\" y=\"-57.8\" font-family=\"Times,serif\" font-size=\"14.00\">no</text>\n",
       "</g>\n",
       "<!-- 11 -->\n",
       "<g id=\"node18\" class=\"node\">\n",
       "<title>11</title>\n",
       "<ellipse fill=\"none\" stroke=\"black\" cx=\"1280.99\" cy=\"-105\" rx=\"90.98\" ry=\"18\"/>\n",
       "<text text-anchor=\"middle\" x=\"1280.99\" y=\"-101.3\" font-family=\"Times,serif\" font-size=\"14.00\">leaf=19306.6777</text>\n",
       "</g>\n",
       "<!-- 5&#45;&gt;11 -->\n",
       "<g id=\"edge17\" class=\"edge\">\n",
       "<title>5&#45;&gt;11</title>\n",
       "<path fill=\"none\" stroke=\"#0000ff\" d=\"M1328.05,-173.8C1319.6,-161.62 1308.12,-145.09 1298.62,-131.4\"/>\n",
       "<polygon fill=\"#0000ff\" stroke=\"#0000ff\" points=\"1301.29,-129.1 1292.71,-122.89 1295.54,-133.1 1301.29,-129.1\"/>\n",
       "<text text-anchor=\"middle\" x=\"1359.49\" y=\"-144.8\" font-family=\"Times,serif\" font-size=\"14.00\">yes, missing</text>\n",
       "</g>\n",
       "<!-- 12 -->\n",
       "<g id=\"node19\" class=\"node\">\n",
       "<title>12</title>\n",
       "<ellipse fill=\"none\" stroke=\"black\" cx=\"1454.99\" cy=\"-105\" rx=\"64.99\" ry=\"18\"/>\n",
       "<text text-anchor=\"middle\" x=\"1454.99\" y=\"-101.3\" font-family=\"Times,serif\" font-size=\"14.00\">leaf=13368</text>\n",
       "</g>\n",
       "<!-- 5&#45;&gt;12 -->\n",
       "<g id=\"edge18\" class=\"edge\">\n",
       "<title>5&#45;&gt;12</title>\n",
       "<path fill=\"none\" stroke=\"#ff0000\" d=\"M1376.3,-175.19C1386.96,-169.8 1398.34,-163.27 1407.99,-156 1417.75,-148.64 1427.24,-139.15 1435.1,-130.42\"/>\n",
       "<polygon fill=\"#ff0000\" stroke=\"#ff0000\" points=\"1437.9,-132.54 1441.83,-122.7 1432.62,-127.94 1437.9,-132.54\"/>\n",
       "<text text-anchor=\"middle\" x=\"1433.99\" y=\"-144.8\" font-family=\"Times,serif\" font-size=\"14.00\">no</text>\n",
       "</g>\n",
       "<!-- 13 -->\n",
       "<g id=\"node20\" class=\"node\">\n",
       "<title>13</title>\n",
       "<ellipse fill=\"none\" stroke=\"black\" cx=\"1628.99\" cy=\"-105\" rx=\"90.98\" ry=\"18\"/>\n",
       "<text text-anchor=\"middle\" x=\"1628.99\" y=\"-101.3\" font-family=\"Times,serif\" font-size=\"14.00\">leaf=24719.8535</text>\n",
       "</g>\n",
       "<!-- 6&#45;&gt;13 -->\n",
       "<g id=\"edge19\" class=\"edge\">\n",
       "<title>6&#45;&gt;13</title>\n",
       "<path fill=\"none\" stroke=\"#0000ff\" d=\"M1628.99,-173.8C1628.99,-162.16 1628.99,-146.55 1628.99,-133.24\"/>\n",
       "<polygon fill=\"#0000ff\" stroke=\"#0000ff\" points=\"1632.49,-133.18 1628.99,-123.18 1625.49,-133.18 1632.49,-133.18\"/>\n",
       "<text text-anchor=\"middle\" x=\"1673.49\" y=\"-144.8\" font-family=\"Times,serif\" font-size=\"14.00\">yes, missing</text>\n",
       "</g>\n",
       "<!-- 14 -->\n",
       "<g id=\"node21\" class=\"node\">\n",
       "<title>14</title>\n",
       "<ellipse fill=\"none\" stroke=\"black\" cx=\"1822.99\" cy=\"-105\" rx=\"85.29\" ry=\"18\"/>\n",
       "<text text-anchor=\"middle\" x=\"1822.99\" y=\"-101.3\" font-family=\"Times,serif\" font-size=\"14.00\">leaf=31478.166</text>\n",
       "</g>\n",
       "<!-- 6&#45;&gt;14 -->\n",
       "<g id=\"edge20\" class=\"edge\">\n",
       "<title>6&#45;&gt;14</title>\n",
       "<path fill=\"none\" stroke=\"#ff0000\" d=\"M1671.01,-176.2C1687.1,-170.27 1705.54,-163.15 1721.99,-156 1742.72,-147 1765.3,-135.94 1783.84,-126.52\"/>\n",
       "<polygon fill=\"#ff0000\" stroke=\"#ff0000\" points=\"1785.56,-129.57 1792.87,-121.9 1782.37,-123.34 1785.56,-129.57\"/>\n",
       "<text text-anchor=\"middle\" x=\"1760.99\" y=\"-144.8\" font-family=\"Times,serif\" font-size=\"14.00\">no</text>\n",
       "</g>\n",
       "</g>\n",
       "</svg>\n"
      ],
      "text/plain": [
       "<graphviz.files.Source at 0x7f09f30e9c10>"
      ]
     },
     "execution_count": 22,
     "metadata": {},
     "output_type": "execute_result"
    }
   ],
   "source": [
    "import graphviz\n",
    "xgb.to_graphviz(regressor)"
   ]
  },
  {
   "cell_type": "markdown",
   "id": "578fd31d",
   "metadata": {
    "papermill": {
     "duration": 0.015417,
     "end_time": "2022-09-21T16:03:44.776044",
     "exception": false,
     "start_time": "2022-09-21T16:03:44.760627",
     "status": "completed"
    },
    "tags": []
   },
   "source": [
    "### Feature Impoortance"
   ]
  },
  {
   "cell_type": "code",
   "execution_count": 23,
   "id": "afd598e5",
   "metadata": {
    "execution": {
     "iopub.execute_input": "2022-09-21T16:03:44.810564Z",
     "iopub.status.busy": "2022-09-21T16:03:44.809413Z",
     "iopub.status.idle": "2022-09-21T16:03:45.248831Z",
     "shell.execute_reply": "2022-09-21T16:03:45.247602Z"
    },
    "papermill": {
     "duration": 0.459316,
     "end_time": "2022-09-21T16:03:45.251199",
     "exception": false,
     "start_time": "2022-09-21T16:03:44.791883",
     "status": "completed"
    },
    "tags": []
   },
   "outputs": [
    {
     "data": {
      "image/png": "[encoded data removed]",
      "text/plain": [
       "<Figure size 432x288 with 1 Axes>"
      ]
     },
     "metadata": {
      "needs_background": "light"
     },
     "output_type": "display_data"
    },
    {
     "data": {
      "text/plain": [
       "<Figure size 1440x1152 with 0 Axes>"
      ]
     },
     "metadata": {},
     "output_type": "display_data"
    }
   ],
   "source": [
    "xgb.plot_importance(regressor)\n",
    "plt.figure(figsize = (20, 16))\n",
    "plt.show()"
   ]
  },
  {
   "cell_type": "markdown",
   "id": "adaad9f6",
   "metadata": {
    "execution": {
     "iopub.execute_input": "2022-09-19T21:09:40.310967Z",
     "iopub.status.busy": "2022-09-19T21:09:40.310240Z",
     "iopub.status.idle": "2022-09-19T21:09:40.328174Z",
     "shell.execute_reply": "2022-09-19T21:09:40.326914Z",
     "shell.execute_reply.started": "2022-09-19T21:09:40.310928Z"
    },
    "papermill": {
     "duration": 0.017034,
     "end_time": "2022-09-21T16:03:45.285005",
     "exception": false,
     "start_time": "2022-09-21T16:03:45.267971",
     "status": "completed"
    },
    "tags": []
   },
   "source": [
    "# Test Dataset\n",
    "Make final predictions on unknown house price value using features from Train data"
   ]
  },
  {
   "cell_type": "code",
   "execution_count": 24,
   "id": "91aeca35",
   "metadata": {
    "execution": {
     "iopub.execute_input": "2022-09-21T16:03:45.320701Z",
     "iopub.status.busy": "2022-09-21T16:03:45.320277Z",
     "iopub.status.idle": "2022-09-21T16:03:45.455923Z",
     "shell.execute_reply": "2022-09-21T16:03:45.454481Z"
    },
    "papermill": {
     "duration": 0.156592,
     "end_time": "2022-09-21T16:03:45.458403",
     "exception": false,
     "start_time": "2022-09-21T16:03:45.301811",
     "status": "completed"
    },
    "tags": []
   },
   "outputs": [
    {
     "name": "stdout",
     "output_type": "stream",
     "text": [
      "(1459, 80)\n"
     ]
    },
    {
     "name": "stderr",
     "output_type": "stream",
     "text": [
      "/opt/conda/lib/python3.7/site-packages/ipykernel_launcher.py:7: FutureWarning: Dropping of nuisance columns in DataFrame reductions (with 'numeric_only=None') is deprecated; in a future version this will raise TypeError.  Select only valid columns before calling the reduction.\n",
      "  import sys\n"
     ]
    },
    {
     "data": {
      "text/html": [
       "<div>\n",
       "<style scoped>\n",
       "    .dataframe tbody tr th:only-of-type {\n",
       "        vertical-align: middle;\n",
       "    }\n",
       "\n",
       "    .dataframe tbody tr th {\n",
       "        vertical-align: top;\n",
       "    }\n",
       "\n",
       "    .dataframe thead th {\n",
       "        text-align: right;\n",
       "    }\n",
       "</style>\n",
       "<table border=\"1\" class=\"dataframe\">\n",
       "  <thead>\n",
       "    <tr style=\"text-align: right;\">\n",
       "      <th></th>\n",
       "      <th>Id</th>\n",
       "      <th>MSSubClass</th>\n",
       "      <th>LotFrontage</th>\n",
       "      <th>LotArea</th>\n",
       "      <th>Condition2</th>\n",
       "      <th>OverallQual</th>\n",
       "      <th>OverallCond</th>\n",
       "      <th>YearBuilt</th>\n",
       "      <th>YearRemodAdd</th>\n",
       "      <th>MasVnrArea</th>\n",
       "      <th>...</th>\n",
       "      <th>OpenPorchSF</th>\n",
       "      <th>EnclosedPorch</th>\n",
       "      <th>3SsnPorch</th>\n",
       "      <th>ScreenPorch</th>\n",
       "      <th>PoolArea</th>\n",
       "      <th>MiscVal</th>\n",
       "      <th>MoSold</th>\n",
       "      <th>YrSold</th>\n",
       "      <th>SaleCondition</th>\n",
       "      <th>totalSQ</th>\n",
       "    </tr>\n",
       "  </thead>\n",
       "  <tbody>\n",
       "    <tr>\n",
       "      <th>0</th>\n",
       "      <td>1461</td>\n",
       "      <td>20</td>\n",
       "      <td>80.0</td>\n",
       "      <td>11622</td>\n",
       "      <td>1</td>\n",
       "      <td>5</td>\n",
       "      <td>6</td>\n",
       "      <td>1961</td>\n",
       "      <td>1961</td>\n",
       "      <td>0.0</td>\n",
       "      <td>...</td>\n",
       "      <td>0</td>\n",
       "      <td>0</td>\n",
       "      <td>0</td>\n",
       "      <td>120</td>\n",
       "      <td>0</td>\n",
       "      <td>0</td>\n",
       "      <td>6</td>\n",
       "      <td>2010</td>\n",
       "      <td>1</td>\n",
       "      <td>1778.0</td>\n",
       "    </tr>\n",
       "    <tr>\n",
       "      <th>1</th>\n",
       "      <td>1462</td>\n",
       "      <td>20</td>\n",
       "      <td>81.0</td>\n",
       "      <td>14267</td>\n",
       "      <td>1</td>\n",
       "      <td>6</td>\n",
       "      <td>6</td>\n",
       "      <td>1958</td>\n",
       "      <td>1958</td>\n",
       "      <td>108.0</td>\n",
       "      <td>...</td>\n",
       "      <td>36</td>\n",
       "      <td>0</td>\n",
       "      <td>0</td>\n",
       "      <td>0</td>\n",
       "      <td>0</td>\n",
       "      <td>12500</td>\n",
       "      <td>6</td>\n",
       "      <td>2010</td>\n",
       "      <td>1</td>\n",
       "      <td>2658.0</td>\n",
       "    </tr>\n",
       "    <tr>\n",
       "      <th>2</th>\n",
       "      <td>1463</td>\n",
       "      <td>60</td>\n",
       "      <td>74.0</td>\n",
       "      <td>13830</td>\n",
       "      <td>1</td>\n",
       "      <td>5</td>\n",
       "      <td>5</td>\n",
       "      <td>1997</td>\n",
       "      <td>1998</td>\n",
       "      <td>0.0</td>\n",
       "      <td>...</td>\n",
       "      <td>34</td>\n",
       "      <td>0</td>\n",
       "      <td>0</td>\n",
       "      <td>0</td>\n",
       "      <td>0</td>\n",
       "      <td>0</td>\n",
       "      <td>3</td>\n",
       "      <td>2010</td>\n",
       "      <td>1</td>\n",
       "      <td>2557.0</td>\n",
       "    </tr>\n",
       "    <tr>\n",
       "      <th>3</th>\n",
       "      <td>1464</td>\n",
       "      <td>60</td>\n",
       "      <td>78.0</td>\n",
       "      <td>9978</td>\n",
       "      <td>1</td>\n",
       "      <td>6</td>\n",
       "      <td>6</td>\n",
       "      <td>1998</td>\n",
       "      <td>1998</td>\n",
       "      <td>20.0</td>\n",
       "      <td>...</td>\n",
       "      <td>36</td>\n",
       "      <td>0</td>\n",
       "      <td>0</td>\n",
       "      <td>0</td>\n",
       "      <td>0</td>\n",
       "      <td>0</td>\n",
       "      <td>6</td>\n",
       "      <td>2010</td>\n",
       "      <td>1</td>\n",
       "      <td>2530.0</td>\n",
       "    </tr>\n",
       "    <tr>\n",
       "      <th>4</th>\n",
       "      <td>1465</td>\n",
       "      <td>120</td>\n",
       "      <td>43.0</td>\n",
       "      <td>5005</td>\n",
       "      <td>1</td>\n",
       "      <td>8</td>\n",
       "      <td>5</td>\n",
       "      <td>1992</td>\n",
       "      <td>1992</td>\n",
       "      <td>0.0</td>\n",
       "      <td>...</td>\n",
       "      <td>82</td>\n",
       "      <td>0</td>\n",
       "      <td>0</td>\n",
       "      <td>144</td>\n",
       "      <td>0</td>\n",
       "      <td>0</td>\n",
       "      <td>1</td>\n",
       "      <td>2010</td>\n",
       "      <td>1</td>\n",
       "      <td>2560.0</td>\n",
       "    </tr>\n",
       "  </tbody>\n",
       "</table>\n",
       "<p>5 rows × 40 columns</p>\n",
       "</div>"
      ],
      "text/plain": [
       "     Id  MSSubClass  LotFrontage  LotArea  Condition2  OverallQual  \\\n",
       "0  1461          20         80.0    11622           1            5   \n",
       "1  1462          20         81.0    14267           1            6   \n",
       "2  1463          60         74.0    13830           1            5   \n",
       "3  1464          60         78.0     9978           1            6   \n",
       "4  1465         120         43.0     5005           1            8   \n",
       "\n",
       "   OverallCond  YearBuilt  YearRemodAdd  MasVnrArea  ...  OpenPorchSF  \\\n",
       "0            6       1961          1961         0.0  ...            0   \n",
       "1            6       1958          1958       108.0  ...           36   \n",
       "2            5       1997          1998         0.0  ...           34   \n",
       "3            6       1998          1998        20.0  ...           36   \n",
       "4            5       1992          1992         0.0  ...           82   \n",
       "\n",
       "   EnclosedPorch  3SsnPorch  ScreenPorch  PoolArea  MiscVal  MoSold  YrSold  \\\n",
       "0              0          0          120         0        0       6    2010   \n",
       "1              0          0            0         0    12500       6    2010   \n",
       "2              0          0            0         0        0       3    2010   \n",
       "3              0          0            0         0        0       6    2010   \n",
       "4              0          0          144         0        0       1    2010   \n",
       "\n",
       "   SaleCondition  totalSQ  \n",
       "0              1   1778.0  \n",
       "1              1   2658.0  \n",
       "2              1   2557.0  \n",
       "3              1   2530.0  \n",
       "4              1   2560.0  \n",
       "\n",
       "[5 rows x 40 columns]"
      ]
     },
     "execution_count": 24,
     "metadata": {},
     "output_type": "execute_result"
    }
   ],
   "source": [
    "test='/kaggle/input/house-prices-advanced-regression-techniques/test.csv'\n",
    "testDF=pd.read_csv(test)\n",
    "print(testDF.shape)\n",
    "\n",
    "#Missing Values\n",
    "testDF=testDF.drop_duplicates()\n",
    "testDF=testDF.fillna(testDF.mean())\n",
    "\n",
    "# Feature Engineer\n",
    "testDF['totalSQ']=testDF['1stFlrSF']+testDF['2ndFlrSF']+testDF['TotalBsmtSF'].drop(columns=['1stFlrSF', '2ndFlrSF', \n",
    "                'TotalBsmtSF'])\n",
    "testDF['SaleCondition']=testDF['SaleCondition'].apply(lambda x:1 if x=='Normal' else 0)\n",
    "testDF['Condition2']=testDF['Condition2'].apply(lambda x: 1 if x=='Norm' else 0)\n",
    "testDF = testDF.select_dtypes(include=['int16', 'int32', 'int64', 'float16', 'float32', 'float64'])\n",
    "testDF.head()"
   ]
  },
  {
   "cell_type": "code",
   "execution_count": 25,
   "id": "ae33388c",
   "metadata": {
    "execution": {
     "iopub.execute_input": "2022-09-21T16:03:45.507146Z",
     "iopub.status.busy": "2022-09-21T16:03:45.506454Z",
     "iopub.status.idle": "2022-09-21T16:03:45.512564Z",
     "shell.execute_reply": "2022-09-21T16:03:45.511513Z"
    },
    "papermill": {
     "duration": 0.027396,
     "end_time": "2022-09-21T16:03:45.514859",
     "exception": false,
     "start_time": "2022-09-21T16:03:45.487463",
     "status": "completed"
    },
    "tags": []
   },
   "outputs": [],
   "source": [
    "testIDs=testDF['Id']\n",
    "cols=X_test.columns\n",
    "testDF=testDF[cols]"
   ]
  },
  {
   "cell_type": "code",
   "execution_count": 26,
   "id": "d7645991",
   "metadata": {
    "execution": {
     "iopub.execute_input": "2022-09-21T16:03:45.551123Z",
     "iopub.status.busy": "2022-09-21T16:03:45.550437Z",
     "iopub.status.idle": "2022-09-21T16:03:45.567082Z",
     "shell.execute_reply": "2022-09-21T16:03:45.566045Z"
    },
    "papermill": {
     "duration": 0.038544,
     "end_time": "2022-09-21T16:03:45.570606",
     "exception": false,
     "start_time": "2022-09-21T16:03:45.532062",
     "status": "completed"
    },
    "tags": []
   },
   "outputs": [],
   "source": [
    "#Final Prediction\n",
    "finalPred=regressor.predict(testDF).round(2)\n",
    "tupDF=list(zip(testIDs,finalPred))"
   ]
  },
  {
   "cell_type": "code",
   "execution_count": 27,
   "id": "f3b287d8",
   "metadata": {
    "execution": {
     "iopub.execute_input": "2022-09-21T16:03:45.608898Z",
     "iopub.status.busy": "2022-09-21T16:03:45.607712Z",
     "iopub.status.idle": "2022-09-21T16:03:45.621684Z",
     "shell.execute_reply": "2022-09-21T16:03:45.620637Z"
    },
    "papermill": {
     "duration": 0.034907,
     "end_time": "2022-09-21T16:03:45.624392",
     "exception": false,
     "start_time": "2022-09-21T16:03:45.589485",
     "status": "completed"
    },
    "tags": []
   },
   "outputs": [
    {
     "data": {
      "text/html": [
       "<div>\n",
       "<style scoped>\n",
       "    .dataframe tbody tr th:only-of-type {\n",
       "        vertical-align: middle;\n",
       "    }\n",
       "\n",
       "    .dataframe tbody tr th {\n",
       "        vertical-align: top;\n",
       "    }\n",
       "\n",
       "    .dataframe thead th {\n",
       "        text-align: right;\n",
       "    }\n",
       "</style>\n",
       "<table border=\"1\" class=\"dataframe\">\n",
       "  <thead>\n",
       "    <tr style=\"text-align: right;\">\n",
       "      <th></th>\n",
       "      <th>Id</th>\n",
       "      <th>SalePrice</th>\n",
       "    </tr>\n",
       "  </thead>\n",
       "  <tbody>\n",
       "    <tr>\n",
       "      <th>0</th>\n",
       "      <td>1461</td>\n",
       "      <td>125416.921875</td>\n",
       "    </tr>\n",
       "    <tr>\n",
       "      <th>1</th>\n",
       "      <td>1462</td>\n",
       "      <td>163712.187500</td>\n",
       "    </tr>\n",
       "    <tr>\n",
       "      <th>2</th>\n",
       "      <td>1463</td>\n",
       "      <td>186570.046875</td>\n",
       "    </tr>\n",
       "    <tr>\n",
       "      <th>3</th>\n",
       "      <td>1464</td>\n",
       "      <td>188575.656250</td>\n",
       "    </tr>\n",
       "    <tr>\n",
       "      <th>4</th>\n",
       "      <td>1465</td>\n",
       "      <td>185139.156250</td>\n",
       "    </tr>\n",
       "  </tbody>\n",
       "</table>\n",
       "</div>"
      ],
      "text/plain": [
       "     Id      SalePrice\n",
       "0  1461  125416.921875\n",
       "1  1462  163712.187500\n",
       "2  1463  186570.046875\n",
       "3  1464  188575.656250\n",
       "4  1465  185139.156250"
      ]
     },
     "execution_count": 27,
     "metadata": {},
     "output_type": "execute_result"
    }
   ],
   "source": [
    "output=pd.DataFrame(tupDF, columns=['Id','SalePrice']).sort_values(by='Id').reset_index(drop=True)\n",
    "output.head()"
   ]
  },
  {
   "cell_type": "code",
   "execution_count": 28,
   "id": "40585906",
   "metadata": {
    "execution": {
     "iopub.execute_input": "2022-09-21T16:03:45.661137Z",
     "iopub.status.busy": "2022-09-21T16:03:45.659873Z",
     "iopub.status.idle": "2022-09-21T16:03:45.673431Z",
     "shell.execute_reply": "2022-09-21T16:03:45.672169Z"
    },
    "papermill": {
     "duration": 0.034045,
     "end_time": "2022-09-21T16:03:45.675866",
     "exception": false,
     "start_time": "2022-09-21T16:03:45.641821",
     "status": "completed"
    },
    "tags": []
   },
   "outputs": [
    {
     "name": "stdout",
     "output_type": "stream",
     "text": [
      "(1459, 2)\n",
      "Output Created\n"
     ]
    }
   ],
   "source": [
    "print(output.shape)\n",
    "output.to_csv('submission.csv', index=False)\n",
    "print(\"Output Created\")"
   ]
  }
 ],
 "metadata": {
  "kernelspec": {
   "display_name": "Python 3",
   "language": "python",
   "name": "python3"
  },
  "language_info": {
   "codemirror_mode": {
    "name": "ipython",
    "version": 3
   },
   "file_extension": ".py",
   "mimetype": "text/x-python",
   "name": "python",
   "nbconvert_exporter": "python",
   "pygments_lexer": "ipython3",
   "version": "3.7.12"
  },
  "papermill": {
   "default_parameters": {},
   "duration": 33.54402,
   "end_time": "2022-09-21T16:03:46.515537",
   "environment_variables": {},
   "exception": null,
   "input_path": "__notebook__.ipynb",
   "output_path": "__notebook__.ipynb",
   "parameters": {},
   "start_time": "2022-09-21T16:03:12.971517",
   "version": "2.3.4"
  }
 },
 "nbformat": 4,
 "nbformat_minor": 5
}
