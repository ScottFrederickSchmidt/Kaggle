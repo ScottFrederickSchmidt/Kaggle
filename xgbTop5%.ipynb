{
 "cells": [
  {
   "cell_type": "markdown",
   "id": "aaa3bc28",
   "metadata": {
    "papermill": {
     "duration": 0.040222,
     "end_time": "2022-10-13T18:42:26.238284",
     "exception": false,
     "start_time": "2022-10-13T18:42:26.198062",
     "status": "completed"
    },
    "tags": []
   },
   "source": [
    "# XG Boost GridSearch\n",
    "* Machine Learning Titanic Original\n",
    "https://github.com/ScottySchmidt/Kaggle/blob/main/Titanic.ipynb\n",
    "* Decision tree scores top 6%\n",
    "https://github.com/ScottySchmidt/Kaggle/blob/main/dtree.ipynb\n",
    "* xgBoost top 5%\n",
    "https://github.com/ScottySchmidt/Kaggle/blob/main/xgbTop5%25.ipynb\n",
    "* Random forest top 5%\n",
    "https://github.com/ScottySchmidt/Kaggle/blob/main/forestTop5%25.ipynb\n",
    "\n"
   ]
  },
  {
   "cell_type": "markdown",
   "id": "d9e38617",
   "metadata": {
    "papermill": {
     "duration": 0.037839,
     "end_time": "2022-10-13T18:42:26.325334",
     "exception": false,
     "start_time": "2022-10-13T18:42:26.287495",
     "status": "completed"
    },
    "tags": []
   },
   "source": [
    "# Train Data\n",
    "Train.csv will contain the details of a subset of the passengers on board (891 to be exact) and whether they survive or not. The shape of the train data is (891, 12). "
   ]
  },
  {
   "cell_type": "code",
   "execution_count": 1,
   "id": "71935f5b",
   "metadata": {
    "execution": {
     "iopub.execute_input": "2022-10-13T18:42:26.391525Z",
     "iopub.status.busy": "2022-10-13T18:42:26.390457Z",
     "iopub.status.idle": "2022-10-13T18:42:27.918809Z",
     "shell.execute_reply": "2022-10-13T18:42:27.917572Z"
    },
    "papermill": {
     "duration": 1.564644,
     "end_time": "2022-10-13T18:42:27.921058",
     "exception": false,
     "start_time": "2022-10-13T18:42:26.356414",
     "status": "completed"
    },
    "tags": []
   },
   "outputs": [
    {
     "name": "stdout",
     "output_type": "stream",
     "text": [
      "(891, 12)\n"
     ]
    },
    {
     "data": {
      "text/html": [
       "<div>\n",
       "<style scoped>\n",
       "    .dataframe tbody tr th:only-of-type {\n",
       "        vertical-align: middle;\n",
       "    }\n",
       "\n",
       "    .dataframe tbody tr th {\n",
       "        vertical-align: top;\n",
       "    }\n",
       "\n",
       "    .dataframe thead th {\n",
       "        text-align: right;\n",
       "    }\n",
       "</style>\n",
       "<table border=\"1\" class=\"dataframe\">\n",
       "  <thead>\n",
       "    <tr style=\"text-align: right;\">\n",
       "      <th></th>\n",
       "      <th>PassengerId</th>\n",
       "      <th>Survived</th>\n",
       "      <th>Pclass</th>\n",
       "      <th>Name</th>\n",
       "      <th>Sex</th>\n",
       "      <th>Age</th>\n",
       "      <th>SibSp</th>\n",
       "      <th>Parch</th>\n",
       "      <th>Ticket</th>\n",
       "      <th>Fare</th>\n",
       "      <th>Cabin</th>\n",
       "      <th>Embarked</th>\n",
       "    </tr>\n",
       "  </thead>\n",
       "  <tbody>\n",
       "    <tr>\n",
       "      <th>0</th>\n",
       "      <td>1</td>\n",
       "      <td>0</td>\n",
       "      <td>3</td>\n",
       "      <td>Braund, Mr. Owen Harris</td>\n",
       "      <td>male</td>\n",
       "      <td>22.0</td>\n",
       "      <td>1</td>\n",
       "      <td>0</td>\n",
       "      <td>A/5 21171</td>\n",
       "      <td>7.2500</td>\n",
       "      <td>NaN</td>\n",
       "      <td>S</td>\n",
       "    </tr>\n",
       "    <tr>\n",
       "      <th>1</th>\n",
       "      <td>2</td>\n",
       "      <td>1</td>\n",
       "      <td>1</td>\n",
       "      <td>Cumings, Mrs. John Bradley (Florence Briggs Th...</td>\n",
       "      <td>female</td>\n",
       "      <td>38.0</td>\n",
       "      <td>1</td>\n",
       "      <td>0</td>\n",
       "      <td>PC 17599</td>\n",
       "      <td>71.2833</td>\n",
       "      <td>C85</td>\n",
       "      <td>C</td>\n",
       "    </tr>\n",
       "    <tr>\n",
       "      <th>2</th>\n",
       "      <td>3</td>\n",
       "      <td>1</td>\n",
       "      <td>3</td>\n",
       "      <td>Heikkinen, Miss. Laina</td>\n",
       "      <td>female</td>\n",
       "      <td>26.0</td>\n",
       "      <td>0</td>\n",
       "      <td>0</td>\n",
       "      <td>STON/O2. 3101282</td>\n",
       "      <td>7.9250</td>\n",
       "      <td>NaN</td>\n",
       "      <td>S</td>\n",
       "    </tr>\n",
       "    <tr>\n",
       "      <th>3</th>\n",
       "      <td>4</td>\n",
       "      <td>1</td>\n",
       "      <td>1</td>\n",
       "      <td>Futrelle, Mrs. Jacques Heath (Lily May Peel)</td>\n",
       "      <td>female</td>\n",
       "      <td>35.0</td>\n",
       "      <td>1</td>\n",
       "      <td>0</td>\n",
       "      <td>113803</td>\n",
       "      <td>53.1000</td>\n",
       "      <td>C123</td>\n",
       "      <td>S</td>\n",
       "    </tr>\n",
       "    <tr>\n",
       "      <th>4</th>\n",
       "      <td>5</td>\n",
       "      <td>0</td>\n",
       "      <td>3</td>\n",
       "      <td>Allen, Mr. William Henry</td>\n",
       "      <td>male</td>\n",
       "      <td>35.0</td>\n",
       "      <td>0</td>\n",
       "      <td>0</td>\n",
       "      <td>373450</td>\n",
       "      <td>8.0500</td>\n",
       "      <td>NaN</td>\n",
       "      <td>S</td>\n",
       "    </tr>\n",
       "  </tbody>\n",
       "</table>\n",
       "</div>"
      ],
      "text/plain": [
       "   PassengerId  Survived  Pclass  \\\n",
       "0            1         0       3   \n",
       "1            2         1       1   \n",
       "2            3         1       3   \n",
       "3            4         1       1   \n",
       "4            5         0       3   \n",
       "\n",
       "                                                Name     Sex   Age  SibSp  \\\n",
       "0                            Braund, Mr. Owen Harris    male  22.0      1   \n",
       "1  Cumings, Mrs. John Bradley (Florence Briggs Th...  female  38.0      1   \n",
       "2                             Heikkinen, Miss. Laina  female  26.0      0   \n",
       "3       Futrelle, Mrs. Jacques Heath (Lily May Peel)  female  35.0      1   \n",
       "4                           Allen, Mr. William Henry    male  35.0      0   \n",
       "\n",
       "   Parch            Ticket     Fare Cabin Embarked  \n",
       "0      0         A/5 21171   7.2500   NaN        S  \n",
       "1      0          PC 17599  71.2833   C85        C  \n",
       "2      0  STON/O2. 3101282   7.9250   NaN        S  \n",
       "3      0            113803  53.1000  C123        S  \n",
       "4      0            373450   8.0500   NaN        S  "
      ]
     },
     "execution_count": 1,
     "metadata": {},
     "output_type": "execute_result"
    }
   ],
   "source": [
    "import numpy as np\n",
    "import pandas as pd\n",
    "import seaborn as sns\n",
    "import matplotlib.pyplot as plt\n",
    "from sklearn.model_selection import train_test_split, cross_validate\n",
    "from statistics import mean\n",
    "from sklearn.metrics import accuracy_score, classification_report, mean_absolute_error, mean_squared_error, r2_score\n",
    "from sklearn.datasets import make_classification\n",
    "from sklearn import ensemble\n",
    "import sklearn.metrics as metrics\n",
    "import time\n",
    "from math import sqrt\n",
    "\n",
    "train=r'/kaggle/input/titanic/train.csv'\n",
    "test=r'/kaggle/input/titanic/test.csv' \n",
    "\n",
    "df=pd.read_csv(train)\n",
    "test=pd.read_csv(test)\n",
    "\n",
    "print(df.shape)\n",
    "df.head()"
   ]
  },
  {
   "cell_type": "code",
   "execution_count": 2,
   "id": "fe3b4796",
   "metadata": {
    "execution": {
     "iopub.execute_input": "2022-10-13T18:42:27.986890Z",
     "iopub.status.busy": "2022-10-13T18:42:27.986594Z",
     "iopub.status.idle": "2022-10-13T18:42:27.994047Z",
     "shell.execute_reply": "2022-10-13T18:42:27.993232Z"
    },
    "papermill": {
     "duration": 0.04248,
     "end_time": "2022-10-13T18:42:27.995936",
     "exception": false,
     "start_time": "2022-10-13T18:42:27.953456",
     "status": "completed"
    },
    "tags": []
   },
   "outputs": [
    {
     "data": {
      "text/plain": [
       "PassengerId      int64\n",
       "Survived         int64\n",
       "Pclass           int64\n",
       "Name            object\n",
       "Sex             object\n",
       "Age            float64\n",
       "SibSp            int64\n",
       "Parch            int64\n",
       "Ticket          object\n",
       "Fare           float64\n",
       "Cabin           object\n",
       "Embarked        object\n",
       "dtype: object"
      ]
     },
     "execution_count": 2,
     "metadata": {},
     "output_type": "execute_result"
    }
   ],
   "source": [
    "df.dtypes"
   ]
  },
  {
   "cell_type": "code",
   "execution_count": 3,
   "id": "b4f15d59",
   "metadata": {
    "execution": {
     "iopub.execute_input": "2022-10-13T18:42:28.064430Z",
     "iopub.status.busy": "2022-10-13T18:42:28.063920Z",
     "iopub.status.idle": "2022-10-13T18:42:28.089693Z",
     "shell.execute_reply": "2022-10-13T18:42:28.088868Z"
    },
    "papermill": {
     "duration": 0.06303,
     "end_time": "2022-10-13T18:42:28.091449",
     "exception": false,
     "start_time": "2022-10-13T18:42:28.028419",
     "status": "completed"
    },
    "tags": []
   },
   "outputs": [
    {
     "name": "stdout",
     "output_type": "stream",
     "text": [
      "Total no of duplicate values in Training Dataset = 0\n"
     ]
    },
    {
     "data": {
      "text/html": [
       "<div>\n",
       "<style scoped>\n",
       "    .dataframe tbody tr th:only-of-type {\n",
       "        vertical-align: middle;\n",
       "    }\n",
       "\n",
       "    .dataframe tbody tr th {\n",
       "        vertical-align: top;\n",
       "    }\n",
       "\n",
       "    .dataframe thead th {\n",
       "        text-align: right;\n",
       "    }\n",
       "</style>\n",
       "<table border=\"1\" class=\"dataframe\">\n",
       "  <thead>\n",
       "    <tr style=\"text-align: right;\">\n",
       "      <th></th>\n",
       "      <th>PassengerId</th>\n",
       "      <th>Survived</th>\n",
       "      <th>Pclass</th>\n",
       "      <th>Name</th>\n",
       "      <th>Sex</th>\n",
       "      <th>Age</th>\n",
       "      <th>SibSp</th>\n",
       "      <th>Parch</th>\n",
       "      <th>Ticket</th>\n",
       "      <th>Fare</th>\n",
       "      <th>Cabin</th>\n",
       "      <th>Embarked</th>\n",
       "    </tr>\n",
       "  </thead>\n",
       "  <tbody>\n",
       "  </tbody>\n",
       "</table>\n",
       "</div>"
      ],
      "text/plain": [
       "Empty DataFrame\n",
       "Columns: [PassengerId, Survived, Pclass, Name, Sex, Age, SibSp, Parch, Ticket, Fare, Cabin, Embarked]\n",
       "Index: []"
      ]
     },
     "execution_count": 3,
     "metadata": {},
     "output_type": "execute_result"
    }
   ],
   "source": [
    "#Check Duplicates:\n",
    "dupstr = df.duplicated()\n",
    "print('Total no of duplicate values in Training Dataset = %d' % (dupstr.sum()))\n",
    "df[dupstr]"
   ]
  },
  {
   "cell_type": "code",
   "execution_count": 4,
   "id": "16788f86",
   "metadata": {
    "execution": {
     "iopub.execute_input": "2022-10-13T18:42:28.159317Z",
     "iopub.status.busy": "2022-10-13T18:42:28.158794Z",
     "iopub.status.idle": "2022-10-13T18:42:28.169364Z",
     "shell.execute_reply": "2022-10-13T18:42:28.168177Z"
    },
    "papermill": {
     "duration": 0.047286,
     "end_time": "2022-10-13T18:42:28.171893",
     "exception": false,
     "start_time": "2022-10-13T18:42:28.124607",
     "status": "completed"
    },
    "tags": []
   },
   "outputs": [
    {
     "name": "stdout",
     "output_type": "stream",
     "text": [
      "Missing data by column as a percent:\n",
      "Cabin          0.771044\n",
      "Age            0.198653\n",
      "Embarked       0.002245\n",
      "PassengerId    0.000000\n",
      "Survived       0.000000\n",
      "dtype: float64\n"
     ]
    }
   ],
   "source": [
    "#search for columns with missing values:\n",
    "def findNA():\n",
    "    print(\"Missing data by column as a percent:\")\n",
    "    findNA=df.isnull().sum().sort_values(ascending=False)/len(df)\n",
    "    print(findNA.head())\n",
    "findNA() "
   ]
  },
  {
   "cell_type": "markdown",
   "id": "e1553638",
   "metadata": {
    "papermill": {
     "duration": 0.034174,
     "end_time": "2022-10-13T18:42:28.242005",
     "exception": false,
     "start_time": "2022-10-13T18:42:28.207831",
     "status": "completed"
    },
    "tags": []
   },
   "source": [
    "# Feature Engineer\n",
    "We need to replace male and female into numbers. This is a very important part of the process because gender is one of the highest predictors on if a person survived or not."
   ]
  },
  {
   "cell_type": "code",
   "execution_count": 5,
   "id": "a69c49e0",
   "metadata": {
    "execution": {
     "iopub.execute_input": "2022-10-13T18:42:28.313191Z",
     "iopub.status.busy": "2022-10-13T18:42:28.312561Z",
     "iopub.status.idle": "2022-10-13T18:42:28.318401Z",
     "shell.execute_reply": "2022-10-13T18:42:28.317833Z"
    },
    "papermill": {
     "duration": 0.04381,
     "end_time": "2022-10-13T18:42:28.320345",
     "exception": false,
     "start_time": "2022-10-13T18:42:28.276535",
     "status": "completed"
    },
    "tags": []
   },
   "outputs": [],
   "source": [
    "#GENDER\n",
    "df['Sex']=df['Sex'].map({'female':0,'male':1})"
   ]
  },
  {
   "cell_type": "markdown",
   "id": "bf4f89cc",
   "metadata": {
    "papermill": {
     "duration": 0.033713,
     "end_time": "2022-10-13T18:42:28.387577",
     "exception": false,
     "start_time": "2022-10-13T18:42:28.353864",
     "status": "completed"
    },
    "tags": []
   },
   "source": [
    "Females whose number is 0 had a much higher chance of surving than males. Later on, doing the importance feature analysis we will view that gender is actually one of the highest predictors. "
   ]
  },
  {
   "cell_type": "code",
   "execution_count": 6,
   "id": "8117217b",
   "metadata": {
    "execution": {
     "iopub.execute_input": "2022-10-13T18:42:28.457971Z",
     "iopub.status.busy": "2022-10-13T18:42:28.457098Z",
     "iopub.status.idle": "2022-10-13T18:42:28.487700Z",
     "shell.execute_reply": "2022-10-13T18:42:28.486733Z"
    },
    "papermill": {
     "duration": 0.067724,
     "end_time": "2022-10-13T18:42:28.489607",
     "exception": false,
     "start_time": "2022-10-13T18:42:28.421883",
     "status": "completed"
    },
    "tags": []
   },
   "outputs": [
    {
     "data": {
      "text/html": [
       "<div>\n",
       "<style scoped>\n",
       "    .dataframe tbody tr th:only-of-type {\n",
       "        vertical-align: middle;\n",
       "    }\n",
       "\n",
       "    .dataframe tbody tr th {\n",
       "        vertical-align: top;\n",
       "    }\n",
       "\n",
       "    .dataframe thead th {\n",
       "        text-align: right;\n",
       "    }\n",
       "</style>\n",
       "<table border=\"1\" class=\"dataframe\">\n",
       "  <thead>\n",
       "    <tr style=\"text-align: right;\">\n",
       "      <th>Sex</th>\n",
       "      <th>0</th>\n",
       "      <th>1</th>\n",
       "    </tr>\n",
       "    <tr>\n",
       "      <th>Survived</th>\n",
       "      <th></th>\n",
       "      <th></th>\n",
       "    </tr>\n",
       "  </thead>\n",
       "  <tbody>\n",
       "    <tr>\n",
       "      <th>0</th>\n",
       "      <td>81</td>\n",
       "      <td>468</td>\n",
       "    </tr>\n",
       "    <tr>\n",
       "      <th>1</th>\n",
       "      <td>233</td>\n",
       "      <td>109</td>\n",
       "    </tr>\n",
       "  </tbody>\n",
       "</table>\n",
       "</div>"
      ],
      "text/plain": [
       "Sex         0    1\n",
       "Survived          \n",
       "0          81  468\n",
       "1         233  109"
      ]
     },
     "execution_count": 6,
     "metadata": {},
     "output_type": "execute_result"
    }
   ],
   "source": [
    "genderTable = pd.crosstab(df['Survived'],df['Sex'])\n",
    "genderTable"
   ]
  },
  {
   "cell_type": "markdown",
   "id": "400da7da",
   "metadata": {
    "papermill": {
     "duration": 0.033507,
     "end_time": "2022-10-13T18:42:28.557967",
     "exception": false,
     "start_time": "2022-10-13T18:42:28.524460",
     "status": "completed"
    },
    "tags": []
   },
   "source": [
    "# Encode Categorical Variables\n",
    "Encode Categorical Variables is needed for this dataset since there are many important variables that are not numeric yet. \n",
    "\n",
    "There are three classes C, Q, and S. Class C seems to have the highest chance of survival. Class S has the lowest chance of survival. Unfornately this would tend to show that economic status seems to played a part in the decision if someone survived or not. Embarked does not play role major role in feature importance. "
   ]
  },
  {
   "cell_type": "code",
   "execution_count": 7,
   "id": "c3ae106c",
   "metadata": {
    "execution": {
     "iopub.execute_input": "2022-10-13T18:42:28.627356Z",
     "iopub.status.busy": "2022-10-13T18:42:28.626794Z",
     "iopub.status.idle": "2022-10-13T18:42:28.821019Z",
     "shell.execute_reply": "2022-10-13T18:42:28.820206Z"
    },
    "papermill": {
     "duration": 0.231774,
     "end_time": "2022-10-13T18:42:28.823521",
     "exception": false,
     "start_time": "2022-10-13T18:42:28.591747",
     "status": "completed"
    },
    "tags": []
   },
   "outputs": [],
   "source": [
    "import category_encoders as ce\n",
    "#encoder = ce.OrdinalEncoder(cols=['Embarked'])\n",
    "\n",
    "#df = encoder.fit_transform(df)\n",
    "#test = encoder.fit_transform(test)\n",
    "#test.head()"
   ]
  },
  {
   "cell_type": "markdown",
   "id": "410fed84",
   "metadata": {
    "papermill": {
     "duration": 0.03358,
     "end_time": "2022-10-13T18:42:28.891212",
     "exception": false,
     "start_time": "2022-10-13T18:42:28.857632",
     "status": "completed"
    },
    "tags": []
   },
   "source": [
    "# Examine Target Variable\n",
    "Survived is the Y variable we will be analyzing. Since the survival rete is 0.384 the data is not considered unbalanced. "
   ]
  },
  {
   "cell_type": "code",
   "execution_count": 8,
   "id": "ffd717f9",
   "metadata": {
    "execution": {
     "iopub.execute_input": "2022-10-13T18:42:28.961109Z",
     "iopub.status.busy": "2022-10-13T18:42:28.960762Z",
     "iopub.status.idle": "2022-10-13T18:42:28.969407Z",
     "shell.execute_reply": "2022-10-13T18:42:28.968204Z"
    },
    "papermill": {
     "duration": 0.046188,
     "end_time": "2022-10-13T18:42:28.971845",
     "exception": false,
     "start_time": "2022-10-13T18:42:28.925657",
     "status": "completed"
    },
    "tags": []
   },
   "outputs": [
    {
     "name": "stdout",
     "output_type": "stream",
     "text": [
      "0    549\n",
      "1    342\n",
      "Name: Survived, dtype: int64\n",
      "Percent that survived:  0.384\n"
     ]
    }
   ],
   "source": [
    "temp=df['Survived'].value_counts()\n",
    "print(temp)\n",
    "no=temp[0]\n",
    "yes=temp[1]\n",
    "percent=round(yes/(yes+no),3)\n",
    "print(\"Percent that survived: \", percent)"
   ]
  },
  {
   "cell_type": "markdown",
   "id": "c0f7f6a4",
   "metadata": {
    "papermill": {
     "duration": 0.034718,
     "end_time": "2022-10-13T18:42:29.042737",
     "exception": false,
     "start_time": "2022-10-13T18:42:29.008019",
     "status": "completed"
    },
    "tags": []
   },
   "source": [
    "# Numeric DataFrame\n",
    "For now, we will analyze only numeric values. Categorical values will need to be encoded or analyzed individually."
   ]
  },
  {
   "cell_type": "code",
   "execution_count": 9,
   "id": "fba9b401",
   "metadata": {
    "execution": {
     "iopub.execute_input": "2022-10-13T18:42:29.112854Z",
     "iopub.status.busy": "2022-10-13T18:42:29.112261Z",
     "iopub.status.idle": "2022-10-13T18:42:29.128156Z",
     "shell.execute_reply": "2022-10-13T18:42:29.127313Z"
    },
    "papermill": {
     "duration": 0.053418,
     "end_time": "2022-10-13T18:42:29.130207",
     "exception": false,
     "start_time": "2022-10-13T18:42:29.076789",
     "status": "completed"
    },
    "tags": []
   },
   "outputs": [
    {
     "data": {
      "text/html": [
       "<div>\n",
       "<style scoped>\n",
       "    .dataframe tbody tr th:only-of-type {\n",
       "        vertical-align: middle;\n",
       "    }\n",
       "\n",
       "    .dataframe tbody tr th {\n",
       "        vertical-align: top;\n",
       "    }\n",
       "\n",
       "    .dataframe thead th {\n",
       "        text-align: right;\n",
       "    }\n",
       "</style>\n",
       "<table border=\"1\" class=\"dataframe\">\n",
       "  <thead>\n",
       "    <tr style=\"text-align: right;\">\n",
       "      <th></th>\n",
       "      <th>PassengerId</th>\n",
       "      <th>Survived</th>\n",
       "      <th>Pclass</th>\n",
       "      <th>Sex</th>\n",
       "      <th>Age</th>\n",
       "      <th>SibSp</th>\n",
       "      <th>Parch</th>\n",
       "      <th>Fare</th>\n",
       "    </tr>\n",
       "  </thead>\n",
       "  <tbody>\n",
       "    <tr>\n",
       "      <th>0</th>\n",
       "      <td>1</td>\n",
       "      <td>0</td>\n",
       "      <td>3</td>\n",
       "      <td>1</td>\n",
       "      <td>22.0</td>\n",
       "      <td>1</td>\n",
       "      <td>0</td>\n",
       "      <td>7.2500</td>\n",
       "    </tr>\n",
       "    <tr>\n",
       "      <th>1</th>\n",
       "      <td>2</td>\n",
       "      <td>1</td>\n",
       "      <td>1</td>\n",
       "      <td>0</td>\n",
       "      <td>38.0</td>\n",
       "      <td>1</td>\n",
       "      <td>0</td>\n",
       "      <td>71.2833</td>\n",
       "    </tr>\n",
       "    <tr>\n",
       "      <th>2</th>\n",
       "      <td>3</td>\n",
       "      <td>1</td>\n",
       "      <td>3</td>\n",
       "      <td>0</td>\n",
       "      <td>26.0</td>\n",
       "      <td>0</td>\n",
       "      <td>0</td>\n",
       "      <td>7.9250</td>\n",
       "    </tr>\n",
       "    <tr>\n",
       "      <th>3</th>\n",
       "      <td>4</td>\n",
       "      <td>1</td>\n",
       "      <td>1</td>\n",
       "      <td>0</td>\n",
       "      <td>35.0</td>\n",
       "      <td>1</td>\n",
       "      <td>0</td>\n",
       "      <td>53.1000</td>\n",
       "    </tr>\n",
       "    <tr>\n",
       "      <th>4</th>\n",
       "      <td>5</td>\n",
       "      <td>0</td>\n",
       "      <td>3</td>\n",
       "      <td>1</td>\n",
       "      <td>35.0</td>\n",
       "      <td>0</td>\n",
       "      <td>0</td>\n",
       "      <td>8.0500</td>\n",
       "    </tr>\n",
       "  </tbody>\n",
       "</table>\n",
       "</div>"
      ],
      "text/plain": [
       "   PassengerId  Survived  Pclass  Sex   Age  SibSp  Parch     Fare\n",
       "0            1         0       3    1  22.0      1      0   7.2500\n",
       "1            2         1       1    0  38.0      1      0  71.2833\n",
       "2            3         1       3    0  26.0      0      0   7.9250\n",
       "3            4         1       1    0  35.0      1      0  53.1000\n",
       "4            5         0       3    1  35.0      0      0   8.0500"
      ]
     },
     "execution_count": 9,
     "metadata": {},
     "output_type": "execute_result"
    }
   ],
   "source": [
    "numerics = ['int16', 'int32', 'int64', 'float16', 'float32', 'float64']\n",
    "df = df.select_dtypes(include=numerics)\n",
    "df.head()"
   ]
  },
  {
   "cell_type": "markdown",
   "id": "46e0b0b8",
   "metadata": {
    "papermill": {
     "duration": 0.034721,
     "end_time": "2022-10-13T18:42:29.199568",
     "exception": false,
     "start_time": "2022-10-13T18:42:29.164847",
     "status": "completed"
    },
    "tags": []
   },
   "source": [
    "# Correlations\n",
    "There are no highly correlated variables above 80%. Therefore, we do not need to be concerned about removing variables that are too highly correlated. "
   ]
  },
  {
   "cell_type": "code",
   "execution_count": 10,
   "id": "1c87e196",
   "metadata": {
    "execution": {
     "iopub.execute_input": "2022-10-13T18:42:29.270894Z",
     "iopub.status.busy": "2022-10-13T18:42:29.270329Z",
     "iopub.status.idle": "2022-10-13T18:42:29.694263Z",
     "shell.execute_reply": "2022-10-13T18:42:29.693222Z"
    },
    "papermill": {
     "duration": 0.462658,
     "end_time": "2022-10-13T18:42:29.697047",
     "exception": false,
     "start_time": "2022-10-13T18:42:29.234389",
     "status": "completed"
    },
    "tags": []
   },
   "outputs": [
    {
     "data": {
      "text/plain": [
       "<AxesSubplot:>"
      ]
     },
     "execution_count": 10,
     "metadata": {},
     "output_type": "execute_result"
    },
    {
     "data": {
      "image/png": "[encoded data removed]",
      "text/plain": [
       "<Figure size 432x288 with 2 Axes>"
      ]
     },
     "metadata": {
      "needs_background": "light"
     },
     "output_type": "display_data"
    }
   ],
   "source": [
    "import seaborn as sns\n",
    "corr= df.corr()\n",
    "matrix = np.triu(corr)\n",
    "sns.heatmap(corr, annot=True, mask=matrix)"
   ]
  },
  {
   "cell_type": "markdown",
   "id": "de9f7f63",
   "metadata": {
    "papermill": {
     "duration": 0.036901,
     "end_time": "2022-10-13T18:42:29.773176",
     "exception": false,
     "start_time": "2022-10-13T18:42:29.736275",
     "status": "completed"
    },
    "tags": []
   },
   "source": [
    "# Check for missing values\n",
    "Age is missing around 20% of values.Therefore, we can simply fill in the mean for that one column."
   ]
  },
  {
   "cell_type": "code",
   "execution_count": 11,
   "id": "c5ef4dc0",
   "metadata": {
    "execution": {
     "iopub.execute_input": "2022-10-13T18:42:29.849607Z",
     "iopub.status.busy": "2022-10-13T18:42:29.849306Z",
     "iopub.status.idle": "2022-10-13T18:42:29.857935Z",
     "shell.execute_reply": "2022-10-13T18:42:29.856925Z"
    },
    "papermill": {
     "duration": 0.048856,
     "end_time": "2022-10-13T18:42:29.860212",
     "exception": false,
     "start_time": "2022-10-13T18:42:29.811356",
     "status": "completed"
    },
    "tags": []
   },
   "outputs": [
    {
     "name": "stdout",
     "output_type": "stream",
     "text": [
      "Missing data by column as a percent:\n",
      "Age            0.198653\n",
      "PassengerId    0.000000\n",
      "Survived       0.000000\n",
      "Pclass         0.000000\n",
      "Sex            0.000000\n",
      "dtype: float64\n"
     ]
    }
   ],
   "source": [
    "#search for columns with missing values:\n",
    "def findNA():\n",
    "    print(\"Missing data by column as a percent:\")\n",
    "    findNA=df.isnull().sum().sort_values(ascending=False)/len(df)\n",
    "    print(findNA.head())\n",
    "findNA() "
   ]
  },
  {
   "cell_type": "code",
   "execution_count": 12,
   "id": "4e875d1c",
   "metadata": {
    "execution": {
     "iopub.execute_input": "2022-10-13T18:42:29.936334Z",
     "iopub.status.busy": "2022-10-13T18:42:29.935370Z",
     "iopub.status.idle": "2022-10-13T18:42:29.942243Z",
     "shell.execute_reply": "2022-10-13T18:42:29.941623Z"
    },
    "papermill": {
     "duration": 0.046898,
     "end_time": "2022-10-13T18:42:29.944071",
     "exception": false,
     "start_time": "2022-10-13T18:42:29.897173",
     "status": "completed"
    },
    "tags": []
   },
   "outputs": [],
   "source": [
    "df= df.fillna(df.mean())"
   ]
  },
  {
   "cell_type": "markdown",
   "id": "6af4dba1",
   "metadata": {
    "papermill": {
     "duration": 0.03673,
     "end_time": "2022-10-13T18:42:30.017675",
     "exception": false,
     "start_time": "2022-10-13T18:42:29.980945",
     "status": "completed"
    },
    "tags": []
   },
   "source": [
    "# Split Data"
   ]
  },
  {
   "cell_type": "code",
   "execution_count": 13,
   "id": "b391f2f5",
   "metadata": {
    "execution": {
     "iopub.execute_input": "2022-10-13T18:42:30.093805Z",
     "iopub.status.busy": "2022-10-13T18:42:30.093063Z",
     "iopub.status.idle": "2022-10-13T18:42:30.100814Z",
     "shell.execute_reply": "2022-10-13T18:42:30.100168Z"
    },
    "papermill": {
     "duration": 0.048331,
     "end_time": "2022-10-13T18:42:30.102867",
     "exception": false,
     "start_time": "2022-10-13T18:42:30.054536",
     "status": "completed"
    },
    "tags": []
   },
   "outputs": [],
   "source": [
    "X=df.drop('Survived', axis=1)\n",
    "y=df['Survived']\n",
    "\n",
    "X_train, X_test, y_train, y_test = train_test_split(\n",
    "    X, y, test_size = 0.25, random_state = 42)"
   ]
  },
  {
   "cell_type": "markdown",
   "id": "09a83929",
   "metadata": {
    "papermill": {
     "duration": 0.036752,
     "end_time": "2022-10-13T18:42:30.178006",
     "exception": false,
     "start_time": "2022-10-13T18:42:30.141254",
     "status": "completed"
    },
    "tags": []
   },
   "source": [
    "# XGBOOST"
   ]
  },
  {
   "cell_type": "code",
   "execution_count": 14,
   "id": "29fd9d00",
   "metadata": {
    "execution": {
     "iopub.execute_input": "2022-10-13T18:42:30.255544Z",
     "iopub.status.busy": "2022-10-13T18:42:30.255112Z",
     "iopub.status.idle": "2022-10-13T18:42:33.135944Z",
     "shell.execute_reply": "2022-10-13T18:42:33.135245Z"
    },
    "papermill": {
     "duration": 2.922991,
     "end_time": "2022-10-13T18:42:33.137866",
     "exception": false,
     "start_time": "2022-10-13T18:42:30.214875",
     "status": "completed"
    },
    "tags": []
   },
   "outputs": [
    {
     "data": {
      "image/png": "[encoded data removed]",
      "text/plain": [
       "<Figure size 432x288 with 1 Axes>"
      ]
     },
     "metadata": {
      "needs_background": "light"
     },
     "output_type": "display_data"
    },
    {
     "data": {
      "image/png": "[encoded data removed]",
      "text/plain": [
       "<Figure size 432x288 with 1 Axes>"
      ]
     },
     "metadata": {
      "needs_background": "light"
     },
     "output_type": "display_data"
    }
   ],
   "source": [
    "import xgboost as xgb\n",
    "from xgboost import XGBClassifier\n",
    "\n",
    "weight=[.01, 1, 3, 5, 7, 9, 11, 13]\n",
    "listMSE=[]\n",
    "listR2=[]\n",
    "\n",
    "for w in weight:\n",
    "    boost_gs = xgb.XGBRegressor(\n",
    "        min_child_weight=w\n",
    "    )\n",
    "    boost_gs.fit(X_train, y_train)\n",
    "    y_pred = boost_gs.predict(X_test)\n",
    "\n",
    "    xgMSE=mean_absolute_error(y_test, y_pred)\n",
    "    xgR2 = r2_score(y_test, y_pred).round(4)\n",
    "    listMSE.append(xgMSE)\n",
    "    listR2.append(xgR2)\n",
    "plt.plot(weight, listMSE)\n",
    "plt.title('Child Weight Error')\n",
    "plt.ylabel('Error')\n",
    "plt.xlabel('Weight')\n",
    "plt.legend()\n",
    "plt.show()\n",
    "\n",
    "plt.plot(weight, listR2)\n",
    "plt.title('Weight R2')\n",
    "plt.ylabel('Accurate')\n",
    "plt.xlabel('Weight')\n",
    "plt.legend()\n",
    "plt.show()"
   ]
  },
  {
   "cell_type": "code",
   "execution_count": 15,
   "id": "b3a253fc",
   "metadata": {
    "execution": {
     "iopub.execute_input": "2022-10-13T18:42:33.218878Z",
     "iopub.status.busy": "2022-10-13T18:42:33.218456Z",
     "iopub.status.idle": "2022-10-13T18:42:35.678527Z",
     "shell.execute_reply": "2022-10-13T18:42:35.676622Z"
    },
    "papermill": {
     "duration": 2.503319,
     "end_time": "2022-10-13T18:42:35.680807",
     "exception": false,
     "start_time": "2022-10-13T18:42:33.177488",
     "status": "completed"
    },
    "tags": []
   },
   "outputs": [
    {
     "data": {
      "image/png": "[encoded data removed]",
      "text/plain": [
       "<Figure size 432x288 with 1 Axes>"
      ]
     },
     "metadata": {
      "needs_background": "light"
     },
     "output_type": "display_data"
    },
    {
     "data": {
      "image/png": "[encoded data removed]",
      "text/plain": [
       "<Figure size 432x288 with 1 Axes>"
      ]
     },
     "metadata": {
      "needs_background": "light"
     },
     "output_type": "display_data"
    }
   ],
   "source": [
    "nEst=[2, 10, 20, 30, 40, 50, 100, 150, 200]\n",
    "listMSE=[]\n",
    "listR2=[]\n",
    "\n",
    "for n in nEst:\n",
    "    boost_gs = xgb.XGBRegressor(\n",
    "        n_estimators=n,\n",
    "    )\n",
    "    boost_gs.fit(X_train, y_train)\n",
    "    y_pred = boost_gs.predict(X_test)\n",
    "\n",
    "    xgMSE=mean_absolute_error(y_test, y_pred)\n",
    "    xgR2 = r2_score(y_test, y_pred).round(4)\n",
    "    listMSE.append(xgMSE)\n",
    "    listR2.append(xgR2)\n",
    "plt.plot(nEst, listMSE)\n",
    "plt.title('nEstimators Error')\n",
    "plt.ylabel('Error')\n",
    "plt.xlabel('N Estimators')\n",
    "plt.legend()\n",
    "plt.show()\n",
    "\n",
    "plt.plot(nEst, listR2)\n",
    "plt.title('nEstimators R2')\n",
    "plt.ylabel('Accurate')\n",
    "plt.xlabel('N Estimators')\n",
    "plt.legend()\n",
    "plt.show()"
   ]
  },
  {
   "cell_type": "code",
   "execution_count": 16,
   "id": "06c47372",
   "metadata": {
    "execution": {
     "iopub.execute_input": "2022-10-13T18:42:35.767016Z",
     "iopub.status.busy": "2022-10-13T18:42:35.766730Z",
     "iopub.status.idle": "2022-10-13T18:42:39.440605Z",
     "shell.execute_reply": "2022-10-13T18:42:39.439632Z"
    },
    "papermill": {
     "duration": 3.719792,
     "end_time": "2022-10-13T18:42:39.442769",
     "exception": false,
     "start_time": "2022-10-13T18:42:35.722977",
     "status": "completed"
    },
    "tags": []
   },
   "outputs": [
    {
     "data": {
      "image/png": "[encoded data removed]",
      "text/plain": [
       "<Figure size 432x288 with 1 Axes>"
      ]
     },
     "metadata": {
      "needs_background": "light"
     },
     "output_type": "display_data"
    },
    {
     "data": {
      "image/png": "[encoded data removed]",
      "text/plain": [
       "<Figure size 432x288 with 1 Axes>"
      ]
     },
     "metadata": {
      "needs_background": "light"
     },
     "output_type": "display_data"
    }
   ],
   "source": [
    "maxDepth=[2, 3, 4, 5, 6, 7, 8, 9, 10, 11]\n",
    "listMSE=[]\n",
    "listR2=[]\n",
    "\n",
    "for d in maxDepth:\n",
    "    boost_gs = xgb.XGBRegressor(\n",
    "        max_depth=d\n",
    "    )\n",
    "    boost_gs.fit(X_train, y_train)\n",
    "    y_pred = boost_gs.predict(X_test)\n",
    "\n",
    "    xgMSE=mean_absolute_error(y_test, y_pred)\n",
    "    xgR2 = r2_score(y_test, y_pred).round(4)\n",
    "    listMSE.append(xgMSE)\n",
    "    listR2.append(xgR2)\n",
    "plt.plot(maxDepth, listMSE)\n",
    "plt.title('MaxDepth Error')\n",
    "plt.ylabel('Error')\n",
    "plt.xlabel('Max Depth')\n",
    "plt.legend()\n",
    "plt.show()\n",
    "\n",
    "plt.plot(maxDepth, listR2)\n",
    "plt.title('MaxDepth Accuracy')\n",
    "plt.ylabel('Accuracy')\n",
    "plt.xlabel('MaxDepth')\n",
    "plt.legend()\n",
    "plt.show()"
   ]
  },
  {
   "cell_type": "code",
   "execution_count": 17,
   "id": "2bb671fa",
   "metadata": {
    "execution": {
     "iopub.execute_input": "2022-10-13T18:42:39.531213Z",
     "iopub.status.busy": "2022-10-13T18:42:39.530885Z",
     "iopub.status.idle": "2022-10-13T18:42:41.495543Z",
     "shell.execute_reply": "2022-10-13T18:42:41.494689Z"
    },
    "papermill": {
     "duration": 2.011659,
     "end_time": "2022-10-13T18:42:41.497592",
     "exception": false,
     "start_time": "2022-10-13T18:42:39.485933",
     "status": "completed"
    },
    "tags": []
   },
   "outputs": [
    {
     "data": {
      "image/png": "[encoded data removed]",
      "text/plain": [
       "<Figure size 432x288 with 1 Axes>"
      ]
     },
     "metadata": {
      "needs_background": "light"
     },
     "output_type": "display_data"
    },
    {
     "data": {
      "image/png": "[encoded data removed]",
      "text/plain": [
       "<Figure size 432x288 with 1 Axes>"
      ]
     },
     "metadata": {
      "needs_background": "light"
     },
     "output_type": "display_data"
    }
   ],
   "source": [
    "eta=[.01, .02, .03, .04, .05]\n",
    "listMSE=[]\n",
    "listR2=[]\n",
    "\n",
    "for e in eta:\n",
    "    boost_gs = xgb.XGBRegressor(\n",
    "        eta=e\n",
    "    )\n",
    "    boost_gs.fit(X_train, y_train)\n",
    "    y_pred = boost_gs.predict(X_test)\n",
    "\n",
    "    xgMSE=mean_absolute_error(y_test, y_pred)\n",
    "    xgR2 = r2_score(y_test, y_pred).round(4)\n",
    "    listMSE.append(xgMSE)\n",
    "    listR2.append(xgR2)\n",
    "plt.plot(eta, listMSE)\n",
    "plt.title('Eta Error')\n",
    "plt.ylabel('Error')\n",
    "plt.xlabel('Eta')\n",
    "plt.legend()\n",
    "plt.show()\n",
    "\n",
    "plt.plot(eta, listR2)\n",
    "plt.title('Eta R2')\n",
    "plt.ylabel('Accurate')\n",
    "plt.xlabel('Eta')\n",
    "plt.legend()\n",
    "plt.show()"
   ]
  },
  {
   "cell_type": "code",
   "execution_count": 18,
   "id": "6d273726",
   "metadata": {
    "execution": {
     "iopub.execute_input": "2022-10-13T18:42:41.590698Z",
     "iopub.status.busy": "2022-10-13T18:42:41.590430Z",
     "iopub.status.idle": "2022-10-13T18:42:45.042313Z",
     "shell.execute_reply": "2022-10-13T18:42:45.041364Z"
    },
    "papermill": {
     "duration": 3.499965,
     "end_time": "2022-10-13T18:42:45.044339",
     "exception": false,
     "start_time": "2022-10-13T18:42:41.544374",
     "status": "completed"
    },
    "tags": []
   },
   "outputs": [
    {
     "data": {
      "image/png": "[encoded data removed]",
      "text/plain": [
       "<Figure size 432x288 with 1 Axes>"
      ]
     },
     "metadata": {
      "needs_background": "light"
     },
     "output_type": "display_data"
    },
    {
     "data": {
      "image/png": "[encoded data removed]",
      "text/plain": [
       "<Figure size 432x288 with 1 Axes>"
      ]
     },
     "metadata": {
      "needs_background": "light"
     },
     "output_type": "display_data"
    }
   ],
   "source": [
    "gammas=[0, 0.25, 0.5, 1.0, 3, 5, 10]\n",
    "listMSE=[]\n",
    "listR2=[]\n",
    "\n",
    "for g in gammas:\n",
    "    boost_gs = xgb.XGBRegressor(\n",
    "        gamma=g,\n",
    "    )\n",
    "    boost_gs.fit(X_train, y_train)\n",
    "    y_pred = boost_gs.predict(X_test)\n",
    "\n",
    "    xgMSE=mean_absolute_error(y_test, y_pred)\n",
    "    xgR2 = r2_score(y_test, y_pred).round(4)\n",
    "    listMSE.append(xgMSE)\n",
    "    listR2.append(xgR2)\n",
    "    \n",
    "plt.plot(gammas, listMSE)\n",
    "plt.title('Gamma Error')\n",
    "plt.ylabel('Error')\n",
    "plt.xlabel('Gammas')\n",
    "plt.legend()\n",
    "plt.show()\n",
    "\n",
    "plt.plot(gammas, listR2)\n",
    "plt.title('Gamma R2')\n",
    "plt.ylabel('Accurate')\n",
    "plt.xlabel('Gammas')\n",
    "plt.legend()\n",
    "plt.show()"
   ]
  },
  {
   "cell_type": "code",
   "execution_count": 19,
   "id": "ee315391",
   "metadata": {
    "execution": {
     "iopub.execute_input": "2022-10-13T18:42:45.142028Z",
     "iopub.status.busy": "2022-10-13T18:42:45.141718Z",
     "iopub.status.idle": "2022-10-13T18:42:46.714042Z",
     "shell.execute_reply": "2022-10-13T18:42:46.713198Z"
    },
    "papermill": {
     "duration": 1.624482,
     "end_time": "2022-10-13T18:42:46.716023",
     "exception": false,
     "start_time": "2022-10-13T18:42:45.091541",
     "status": "completed"
    },
    "tags": []
   },
   "outputs": [
    {
     "data": {
      "image/png": "[encoded data removed]",
      "text/plain": [
       "<Figure size 432x288 with 1 Axes>"
      ]
     },
     "metadata": {
      "needs_background": "light"
     },
     "output_type": "display_data"
    },
    {
     "data": {
      "image/png": "[encoded data removed]",
      "text/plain": [
       "<Figure size 432x288 with 1 Axes>"
      ]
     },
     "metadata": {
      "needs_background": "light"
     },
     "output_type": "display_data"
    }
   ],
   "source": [
    "regLam = [0.1, 1.0, 2, 3, 4, 5.0, 10.0]\n",
    "listMSE=[]\n",
    "listR2=[]\n",
    "\n",
    "for r in regLam:\n",
    "    boost_gs = xgb.XGBRegressor(\n",
    "        n_estimators=50,\n",
    "        reg_lambda=r,\n",
    "    )\n",
    "    boost_gs.fit(X_train, y_train)\n",
    "    y_pred = boost_gs.predict(X_test)\n",
    "\n",
    "    xgMSE=mean_absolute_error(y_test, y_pred)\n",
    "    xgR2 = r2_score(y_test, y_pred).round(4)\n",
    "    listMSE.append(xgMSE)\n",
    "    listR2.append(xgR2)\n",
    "    \n",
    "plt.plot(regLam, listMSE)\n",
    "plt.title('RegLam Error')\n",
    "plt.ylabel('Error')\n",
    "plt.xlabel('RegLam')\n",
    "plt.legend()\n",
    "plt.show()\n",
    "\n",
    "plt.plot(regLam, listR2)\n",
    "plt.title('RegLam R2')\n",
    "plt.ylabel('Accurate')\n",
    "plt.xlabel('RegLam')\n",
    "plt.legend()\n",
    "plt.show()"
   ]
  },
  {
   "cell_type": "code",
   "execution_count": 20,
   "id": "435954bc",
   "metadata": {
    "execution": {
     "iopub.execute_input": "2022-10-13T18:42:46.815575Z",
     "iopub.status.busy": "2022-10-13T18:42:46.815272Z",
     "iopub.status.idle": "2022-10-13T18:42:49.020867Z",
     "shell.execute_reply": "2022-10-13T18:42:49.019070Z"
    },
    "papermill": {
     "duration": 2.258057,
     "end_time": "2022-10-13T18:42:49.023072",
     "exception": false,
     "start_time": "2022-10-13T18:42:46.765015",
     "status": "completed"
    },
    "tags": []
   },
   "outputs": [
    {
     "data": {
      "image/png": "[encoded data removed]",
      "text/plain": [
       "<Figure size 432x288 with 1 Axes>"
      ]
     },
     "metadata": {
      "needs_background": "light"
     },
     "output_type": "display_data"
    },
    {
     "data": {
      "image/png": "[encoded data removed]",
      "text/plain": [
       "<Figure size 432x288 with 1 Axes>"
      ]
     },
     "metadata": {
      "needs_background": "light"
     },
     "output_type": "display_data"
    }
   ],
   "source": [
    "regAlpha = [0.1, 1.0, 2, 3, 4, 5.0, 10.0]\n",
    "listMSE=[]\n",
    "listR2=[]\n",
    "\n",
    "for r in regAlpha:\n",
    "    boost_gs = xgb.XGBRegressor(\n",
    "        reg_alpha=r,\n",
    "    )\n",
    "    boost_gs.fit(X_train, y_train)\n",
    "    y_pred = boost_gs.predict(X_test)\n",
    "\n",
    "    xgMSE=mean_absolute_error(y_test, y_pred)\n",
    "    xgR2 = r2_score(y_test, y_pred).round(4)\n",
    "    listMSE.append(xgMSE)\n",
    "    listR2.append(xgR2)\n",
    "    \n",
    "plt.plot(regAlpha, listMSE)\n",
    "plt.title('RegAlpha Error')\n",
    "plt.ylabel('Error')\n",
    "plt.xlabel('RegAlpha')\n",
    "plt.legend()\n",
    "plt.show()\n",
    "\n",
    "plt.plot(regAlpha, listR2)\n",
    "plt.title('RegAlpha R2')\n",
    "plt.ylabel('Accurate')\n",
    "plt.xlabel('RegAlpha')\n",
    "plt.legend()\n",
    "plt.show()"
   ]
  },
  {
   "cell_type": "markdown",
   "id": "b4142702",
   "metadata": {
    "papermill": {
     "duration": 0.050752,
     "end_time": "2022-10-13T18:42:49.124994",
     "exception": false,
     "start_time": "2022-10-13T18:42:49.074242",
     "status": "completed"
    },
    "tags": []
   },
   "source": [
    "# GridSearch \n",
    "* Top 18%:   {'gamma': 2, 'learning_rate': 0.3, 'max_depth': 3, 'min_child_weight': 1, 'n_estimators': 100}\n",
    "\n",
    "* Top 5%  {'eta': 0.05, 'gamma': 5, 'learning_rate': 0.3, 'max_depth': 5, 'min_child_weight': 5, 'n_estimators': 50, 'reg_lambda': 5}"
   ]
  },
  {
   "cell_type": "code",
   "execution_count": 21,
   "id": "4b3a3d57",
   "metadata": {
    "execution": {
     "iopub.execute_input": "2022-10-13T18:42:49.229178Z",
     "iopub.status.busy": "2022-10-13T18:42:49.228638Z",
     "iopub.status.idle": "2022-10-13T18:44:49.342296Z",
     "shell.execute_reply": "2022-10-13T18:44:49.341227Z"
    },
    "papermill": {
     "duration": 120.216906,
     "end_time": "2022-10-13T18:44:49.392776",
     "exception": false,
     "start_time": "2022-10-13T18:42:49.175870",
     "status": "completed"
    },
    "tags": []
   },
   "outputs": [
    {
     "name": "stdout",
     "output_type": "stream",
     "text": [
      "Start\n",
      "{'eta': 0.05, 'gamma': 5, 'learning_rate': 0.3, 'max_depth': 5, 'min_child_weight': 0.01, 'n_estimators': 50, 'reg_alpha': 0.01, 'reg_lambda': 1}\n",
      "Done.  120.0954008102417  seconds\n"
     ]
    }
   ],
   "source": [
    "from sklearn.model_selection import GridSearchCV, StratifiedKFold\n",
    "import time\n",
    "import warnings\n",
    "warnings.filterwarnings(\"ignore\")\n",
    "\n",
    "def gridSearch():\n",
    "    start=time.time()\n",
    "    print(\"Start\")\n",
    "\n",
    "    params = {\n",
    "            'learning_rate': [0.01, 0.3],\n",
    "            'n_estimators':[50],\n",
    "            'gamma': [5],\n",
    "            'max_depth': [5, 6, 8],\n",
    "            'min_child_weight':[.01, 5],\n",
    "            'reg_lambda':[1, 5],\n",
    "            'reg_alpha':[.01, 1, 2],\n",
    "            'eta':[.05]\n",
    "            }\n",
    "\n",
    "    boost = xgb.XGBClassifier()\n",
    "    #kfold = StratifiedKFold(n_splits=10, shuffle=True, random_state=7)\n",
    "    boost_gs = GridSearchCV(boost,param_grid=params,cv=10,scoring=\"accuracy\")\n",
    "    boost_gs.fit(X_train,y_train)\n",
    "\n",
    "    print(boost_gs.best_params_)\n",
    "    print(\"Done. \" , time.time()-start, \" seconds\")\n",
    "gridSearch()"
   ]
  },
  {
   "cell_type": "markdown",
   "id": "93d69b3b",
   "metadata": {
    "papermill": {
     "duration": 0.052406,
     "end_time": "2022-10-13T18:44:49.499100",
     "exception": false,
     "start_time": "2022-10-13T18:44:49.446694",
     "status": "completed"
    },
    "tags": []
   },
   "source": [
    "## Final xgBoost Prediction\n",
    "* CV=10 {'eta': 0.05, 'gamma': 5, 'learning_rate': 0.3, 'max_depth': 5, 'min_child_weight': 0.01, 'n_estimators': 50, 'reg_alpha': 0.01, 'reg_lambda': 1}\n",
    "* {'eta': 0.05, 'gamma': 5, 'learning_rate': 0.3, 'max_depth': 6, 'min_child_weight': 5, 'n_estimators': 50, 'reg_lambda': 0.01}\n",
    "* using CV 10 {'eta': 0.05, 'gamma': 5, 'learning_rate': 0.3, 'max_depth': 6, 'min_child_weight': 0.01, 'n_estimators': 50, 'reg_alpha': 0.01, 'reg_lambda': 1}\n",
    "* Top 5%  {'eta': 0.05, 'gamma': 5, 'learning_rate': 0.3, 'max_depth': 5, 'min_child_weight': 5, 'n_estimators': 50, 'reg_lambda': 5}\n",
    "* Top 5% {'gamma': 5, 'learning_rate': 0.3, 'max_depth': 8, 'min_child_weight': 0.01, 'n_estimators': 20, 'reg_alpha': 0.01, 'reg_lambda': 1}"
   ]
  },
  {
   "cell_type": "code",
   "execution_count": 22,
   "id": "d2705827",
   "metadata": {
    "execution": {
     "iopub.execute_input": "2022-10-13T18:44:49.629303Z",
     "iopub.status.busy": "2022-10-13T18:44:49.628367Z",
     "iopub.status.idle": "2022-10-13T18:44:50.980035Z",
     "shell.execute_reply": "2022-10-13T18:44:50.978906Z"
    },
    "papermill": {
     "duration": 1.419994,
     "end_time": "2022-10-13T18:44:50.983018",
     "exception": false,
     "start_time": "2022-10-13T18:44:49.563024",
     "status": "completed"
    },
    "tags": []
   },
   "outputs": [
    {
     "name": "stdout",
     "output_type": "stream",
     "text": [
      "0.8003  ||  0.8117\n",
      "0.011399999999999966  cross validate score\n"
     ]
    }
   ],
   "source": [
    "boost_gs = xgb.XGBClassifier(\n",
    "    n_estimators=20,\n",
    "    max_depth=5,\n",
    "    min_child_weight=.01,\n",
    "    learning_rate=0.3,\n",
    "    eta=0.05,\n",
    "    gamma=5,\n",
    "    reg_lambda=1,\n",
    "    reg_alpha=.01\n",
    ")\n",
    "\n",
    "\n",
    "boost_gs.fit(X_train, y_train)\n",
    "#boost_gs.fit(X_train, y_train, early_stopping_rounds=10, eval_set=[(X_test, y_test)], verbose=False)\n",
    "y_pred = boost_gs.predict(X_test)\n",
    "\n",
    "xgMSE=mean_absolute_error(y_test, y_pred)\n",
    "xgR2 = r2_score(y_test, y_pred).round(4)\n",
    "listMSE.append(xgMSE)\n",
    "listR2.append(xgR2)\n",
    "\n",
    "boostScore = boost_gs.score(X_test, y_test).round(4)  \n",
    "boostCV = cross_validate(boost_gs, X, y, cv = 5)\n",
    "boostCV=boostCV['test_score'].mean().round(4)\n",
    "print(boostCV, ' || ', boostScore)\n",
    "print(boostScore-boostCV, \" cross validate score\")"
   ]
  },
  {
   "cell_type": "markdown",
   "id": "2ae4afc7",
   "metadata": {
    "papermill": {
     "duration": 0.052469,
     "end_time": "2022-10-13T18:44:51.089412",
     "exception": false,
     "start_time": "2022-10-13T18:44:51.036943",
     "status": "completed"
    },
    "tags": []
   },
   "source": [
    "# Feature Importance"
   ]
  },
  {
   "cell_type": "code",
   "execution_count": 23,
   "id": "ae69fcdb",
   "metadata": {
    "execution": {
     "iopub.execute_input": "2022-10-13T18:44:51.197816Z",
     "iopub.status.busy": "2022-10-13T18:44:51.197489Z",
     "iopub.status.idle": "2022-10-13T18:44:51.416759Z",
     "shell.execute_reply": "2022-10-13T18:44:51.416166Z"
    },
    "papermill": {
     "duration": 0.276462,
     "end_time": "2022-10-13T18:44:51.418567",
     "exception": false,
     "start_time": "2022-10-13T18:44:51.142105",
     "status": "completed"
    },
    "tags": []
   },
   "outputs": [
    {
     "data": {
      "image/png": "[encoded data removed]",
      "text/plain": [
       "<Figure size 432x288 with 1 Axes>"
      ]
     },
     "metadata": {
      "needs_background": "light"
     },
     "output_type": "display_data"
    }
   ],
   "source": [
    "from matplotlib import pyplot as plt\n",
    "xgb.plot_importance(boost_gs)\n",
    "plt.show()"
   ]
  },
  {
   "cell_type": "markdown",
   "id": "221e35e3",
   "metadata": {
    "papermill": {
     "duration": 0.054475,
     "end_time": "2022-10-13T18:44:51.529273",
     "exception": false,
     "start_time": "2022-10-13T18:44:51.474798",
     "status": "completed"
    },
    "tags": []
   },
   "source": [
    "# Test Data"
   ]
  },
  {
   "cell_type": "code",
   "execution_count": 24,
   "id": "827782f6",
   "metadata": {
    "execution": {
     "iopub.execute_input": "2022-10-13T18:44:51.640882Z",
     "iopub.status.busy": "2022-10-13T18:44:51.640003Z",
     "iopub.status.idle": "2022-10-13T18:44:51.659079Z",
     "shell.execute_reply": "2022-10-13T18:44:51.658105Z"
    },
    "papermill": {
     "duration": 0.07755,
     "end_time": "2022-10-13T18:44:51.661213",
     "exception": false,
     "start_time": "2022-10-13T18:44:51.583663",
     "status": "completed"
    },
    "tags": []
   },
   "outputs": [
    {
     "data": {
      "text/html": [
       "<div>\n",
       "<style scoped>\n",
       "    .dataframe tbody tr th:only-of-type {\n",
       "        vertical-align: middle;\n",
       "    }\n",
       "\n",
       "    .dataframe tbody tr th {\n",
       "        vertical-align: top;\n",
       "    }\n",
       "\n",
       "    .dataframe thead th {\n",
       "        text-align: right;\n",
       "    }\n",
       "</style>\n",
       "<table border=\"1\" class=\"dataframe\">\n",
       "  <thead>\n",
       "    <tr style=\"text-align: right;\">\n",
       "      <th></th>\n",
       "      <th>PassengerId</th>\n",
       "      <th>Pclass</th>\n",
       "      <th>Sex</th>\n",
       "      <th>Age</th>\n",
       "      <th>SibSp</th>\n",
       "      <th>Parch</th>\n",
       "      <th>Fare</th>\n",
       "    </tr>\n",
       "  </thead>\n",
       "  <tbody>\n",
       "    <tr>\n",
       "      <th>0</th>\n",
       "      <td>892</td>\n",
       "      <td>3</td>\n",
       "      <td>1</td>\n",
       "      <td>34.5</td>\n",
       "      <td>0</td>\n",
       "      <td>0</td>\n",
       "      <td>7.8292</td>\n",
       "    </tr>\n",
       "    <tr>\n",
       "      <th>1</th>\n",
       "      <td>893</td>\n",
       "      <td>3</td>\n",
       "      <td>0</td>\n",
       "      <td>47.0</td>\n",
       "      <td>1</td>\n",
       "      <td>0</td>\n",
       "      <td>7.0000</td>\n",
       "    </tr>\n",
       "    <tr>\n",
       "      <th>2</th>\n",
       "      <td>894</td>\n",
       "      <td>2</td>\n",
       "      <td>1</td>\n",
       "      <td>62.0</td>\n",
       "      <td>0</td>\n",
       "      <td>0</td>\n",
       "      <td>9.6875</td>\n",
       "    </tr>\n",
       "    <tr>\n",
       "      <th>3</th>\n",
       "      <td>895</td>\n",
       "      <td>3</td>\n",
       "      <td>1</td>\n",
       "      <td>27.0</td>\n",
       "      <td>0</td>\n",
       "      <td>0</td>\n",
       "      <td>8.6625</td>\n",
       "    </tr>\n",
       "    <tr>\n",
       "      <th>4</th>\n",
       "      <td>896</td>\n",
       "      <td>3</td>\n",
       "      <td>0</td>\n",
       "      <td>22.0</td>\n",
       "      <td>1</td>\n",
       "      <td>1</td>\n",
       "      <td>12.2875</td>\n",
       "    </tr>\n",
       "  </tbody>\n",
       "</table>\n",
       "</div>"
      ],
      "text/plain": [
       "   PassengerId  Pclass  Sex   Age  SibSp  Parch     Fare\n",
       "0          892       3    1  34.5      0      0   7.8292\n",
       "1          893       3    0  47.0      1      0   7.0000\n",
       "2          894       2    1  62.0      0      0   9.6875\n",
       "3          895       3    1  27.0      0      0   8.6625\n",
       "4          896       3    0  22.0      1      1  12.2875"
      ]
     },
     "execution_count": 24,
     "metadata": {},
     "output_type": "execute_result"
    }
   ],
   "source": [
    "#GENDER\n",
    "test['Sex']=test['Sex'].map({'female':0,'male':1})\n",
    "\n",
    "features=list(X.columns)\n",
    "test=test[features]\n",
    "\n",
    "test=test.fillna(test.mean())\n",
    "test.head()"
   ]
  },
  {
   "cell_type": "markdown",
   "id": "5e3015ea",
   "metadata": {
    "papermill": {
     "duration": 0.053905,
     "end_time": "2022-10-13T18:44:51.769655",
     "exception": false,
     "start_time": "2022-10-13T18:44:51.715750",
     "status": "completed"
    },
    "tags": []
   },
   "source": [
    "# Final Prediction"
   ]
  },
  {
   "cell_type": "code",
   "execution_count": 25,
   "id": "1d69872f",
   "metadata": {
    "execution": {
     "iopub.execute_input": "2022-10-13T18:44:51.880379Z",
     "iopub.status.busy": "2022-10-13T18:44:51.879808Z",
     "iopub.status.idle": "2022-10-13T18:44:51.902167Z",
     "shell.execute_reply": "2022-10-13T18:44:51.901420Z"
    },
    "papermill": {
     "duration": 0.08009,
     "end_time": "2022-10-13T18:44:51.904176",
     "exception": false,
     "start_time": "2022-10-13T18:44:51.824086",
     "status": "completed"
    },
    "tags": []
   },
   "outputs": [
    {
     "data": {
      "text/html": [
       "<div>\n",
       "<style scoped>\n",
       "    .dataframe tbody tr th:only-of-type {\n",
       "        vertical-align: middle;\n",
       "    }\n",
       "\n",
       "    .dataframe tbody tr th {\n",
       "        vertical-align: top;\n",
       "    }\n",
       "\n",
       "    .dataframe thead th {\n",
       "        text-align: right;\n",
       "    }\n",
       "</style>\n",
       "<table border=\"1\" class=\"dataframe\">\n",
       "  <thead>\n",
       "    <tr style=\"text-align: right;\">\n",
       "      <th></th>\n",
       "      <th>PassengerId</th>\n",
       "      <th>Survived</th>\n",
       "    </tr>\n",
       "  </thead>\n",
       "  <tbody>\n",
       "    <tr>\n",
       "      <th>0</th>\n",
       "      <td>892</td>\n",
       "      <td>0</td>\n",
       "    </tr>\n",
       "    <tr>\n",
       "      <th>1</th>\n",
       "      <td>893</td>\n",
       "      <td>1</td>\n",
       "    </tr>\n",
       "    <tr>\n",
       "      <th>2</th>\n",
       "      <td>894</td>\n",
       "      <td>0</td>\n",
       "    </tr>\n",
       "    <tr>\n",
       "      <th>3</th>\n",
       "      <td>895</td>\n",
       "      <td>0</td>\n",
       "    </tr>\n",
       "    <tr>\n",
       "      <th>4</th>\n",
       "      <td>896</td>\n",
       "      <td>1</td>\n",
       "    </tr>\n",
       "    <tr>\n",
       "      <th>5</th>\n",
       "      <td>897</td>\n",
       "      <td>0</td>\n",
       "    </tr>\n",
       "    <tr>\n",
       "      <th>6</th>\n",
       "      <td>898</td>\n",
       "      <td>1</td>\n",
       "    </tr>\n",
       "  </tbody>\n",
       "</table>\n",
       "</div>"
      ],
      "text/plain": [
       "   PassengerId  Survived\n",
       "0          892         0\n",
       "1          893         1\n",
       "2          894         0\n",
       "3          895         0\n",
       "4          896         1\n",
       "5          897         0\n",
       "6          898         1"
      ]
     },
     "execution_count": 25,
     "metadata": {},
     "output_type": "execute_result"
    }
   ],
   "source": [
    "test_predictions = boost_gs.predict(test)\n",
    "passID=test['PassengerId']\n",
    "tupleData = list(zip(passID, test_predictions))\n",
    "output = pd.DataFrame(tupleData, columns = ['PassengerId', 'Survived'])\n",
    "output.head(7)"
   ]
  },
  {
   "cell_type": "code",
   "execution_count": 26,
   "id": "ad03ff08",
   "metadata": {
    "execution": {
     "iopub.execute_input": "2022-10-13T18:44:52.017990Z",
     "iopub.status.busy": "2022-10-13T18:44:52.017060Z",
     "iopub.status.idle": "2022-10-13T18:44:52.026652Z",
     "shell.execute_reply": "2022-10-13T18:44:52.025699Z"
    },
    "papermill": {
     "duration": 0.068434,
     "end_time": "2022-10-13T18:44:52.029324",
     "exception": false,
     "start_time": "2022-10-13T18:44:51.960890",
     "status": "completed"
    },
    "tags": []
   },
   "outputs": [
    {
     "name": "stdout",
     "output_type": "stream",
     "text": [
      "Your submission was successfully saved!\n"
     ]
    }
   ],
   "source": [
    "output.to_csv('submission.csv', index=False)\n",
    "print(\"Your submission was successfully saved!\")"
   ]
  }
 ],
 "metadata": {
  "kernelspec": {
   "display_name": "Python 3",
   "language": "python",
   "name": "python3"
  },
  "language_info": {
   "codemirror_mode": {
    "name": "ipython",
    "version": 3
   },
   "file_extension": ".py",
   "mimetype": "text/x-python",
   "name": "python",
   "nbconvert_exporter": "python",
   "pygments_lexer": "ipython3",
   "version": "3.7.12"
  },
  "papermill": {
   "default_parameters": {},
   "duration": 155.931184,
   "end_time": "2022-10-13T18:44:52.909986",
   "environment_variables": {},
   "exception": null,
   "input_path": "__notebook__.ipynb",
   "output_path": "__notebook__.ipynb",
   "parameters": {},
   "start_time": "2022-10-13T18:42:16.978802",
   "version": "2.3.4"
  }
 },
 "nbformat": 4,
 "nbformat_minor": 5
}
