{
 "cells": [
  {
   "cell_type": "markdown",
   "id": "f19bf998",
   "metadata": {
    "papermill": {
     "duration": 0.004536,
     "end_time": "2023-07-08T17:31:17.188888",
     "exception": false,
     "start_time": "2023-07-08T17:31:17.184352",
     "status": "completed"
    },
    "tags": []
   },
   "source": [
    "# A/B Test\n",
    "Generally, A/B tests have two variants, in this case a control and treatment group. We will analyze the converted group to see the effectiveess on treatment. Since treatment is being potentially changed, it is the independent variable. Before going further, here is what the data looks like."
   ]
  },
  {
   "cell_type": "code",
   "execution_count": 1,
   "id": "05f879af",
   "metadata": {
    "execution": {
     "iopub.execute_input": "2023-07-08T17:31:17.199214Z",
     "iopub.status.busy": "2023-07-08T17:31:17.198724Z",
     "iopub.status.idle": "2023-07-08T17:31:17.795291Z",
     "shell.execute_reply": "2023-07-08T17:31:17.794220Z"
    },
    "papermill": {
     "duration": 0.604942,
     "end_time": "2023-07-08T17:31:17.797953",
     "exception": false,
     "start_time": "2023-07-08T17:31:17.193011",
     "status": "completed"
    },
    "tags": []
   },
   "outputs": [
    {
     "data": {
      "text/html": [
       "<div>\n",
       "<style scoped>\n",
       "    .dataframe tbody tr th:only-of-type {\n",
       "        vertical-align: middle;\n",
       "    }\n",
       "\n",
       "    .dataframe tbody tr th {\n",
       "        vertical-align: top;\n",
       "    }\n",
       "\n",
       "    .dataframe thead th {\n",
       "        text-align: right;\n",
       "    }\n",
       "</style>\n",
       "<table border=\"1\" class=\"dataframe\">\n",
       "  <thead>\n",
       "    <tr style=\"text-align: right;\">\n",
       "      <th></th>\n",
       "      <th>user_id</th>\n",
       "      <th>timestamp</th>\n",
       "      <th>group</th>\n",
       "      <th>landing_page</th>\n",
       "      <th>converted</th>\n",
       "    </tr>\n",
       "  </thead>\n",
       "  <tbody>\n",
       "    <tr>\n",
       "      <th>0</th>\n",
       "      <td>851104</td>\n",
       "      <td>2017-01-21 22:11:48.556739</td>\n",
       "      <td>control</td>\n",
       "      <td>old_page</td>\n",
       "      <td>0</td>\n",
       "    </tr>\n",
       "    <tr>\n",
       "      <th>1</th>\n",
       "      <td>804228</td>\n",
       "      <td>2017-01-12 08:01:45.159739</td>\n",
       "      <td>control</td>\n",
       "      <td>old_page</td>\n",
       "      <td>0</td>\n",
       "    </tr>\n",
       "    <tr>\n",
       "      <th>2</th>\n",
       "      <td>661590</td>\n",
       "      <td>2017-01-11 16:55:06.154213</td>\n",
       "      <td>treatment</td>\n",
       "      <td>new_page</td>\n",
       "      <td>0</td>\n",
       "    </tr>\n",
       "    <tr>\n",
       "      <th>3</th>\n",
       "      <td>853541</td>\n",
       "      <td>2017-01-08 18:28:03.143765</td>\n",
       "      <td>treatment</td>\n",
       "      <td>new_page</td>\n",
       "      <td>0</td>\n",
       "    </tr>\n",
       "    <tr>\n",
       "      <th>4</th>\n",
       "      <td>864975</td>\n",
       "      <td>2017-01-21 01:52:26.210827</td>\n",
       "      <td>control</td>\n",
       "      <td>old_page</td>\n",
       "      <td>1</td>\n",
       "    </tr>\n",
       "  </tbody>\n",
       "</table>\n",
       "</div>"
      ],
      "text/plain": [
       "   user_id                   timestamp      group landing_page  converted\n",
       "0   851104  2017-01-21 22:11:48.556739    control     old_page          0\n",
       "1   804228  2017-01-12 08:01:45.159739    control     old_page          0\n",
       "2   661590  2017-01-11 16:55:06.154213  treatment     new_page          0\n",
       "3   853541  2017-01-08 18:28:03.143765  treatment     new_page          0\n",
       "4   864975  2017-01-21 01:52:26.210827    control     old_page          1"
      ]
     },
     "execution_count": 1,
     "metadata": {},
     "output_type": "execute_result"
    }
   ],
   "source": [
    "import pandas as pd\n",
    "import numpy as np\n",
    "file='/kaggle/input/ab-testing/ab_data.csv'\n",
    "df=pd.read_csv(file)\n",
    "df.head()"
   ]
  },
  {
   "cell_type": "markdown",
   "id": "fe8fd3fc",
   "metadata": {
    "papermill": {
     "duration": 0.004261,
     "end_time": "2023-07-08T17:31:17.806855",
     "exception": false,
     "start_time": "2023-07-08T17:31:17.802594",
     "status": "completed"
    },
    "tags": []
   },
   "source": [
    "# Brief Analysis\n",
    "There is an efficient amount of data (more than 100) of balanced data between teatment and control."
   ]
  },
  {
   "cell_type": "code",
   "execution_count": 2,
   "id": "055d524d",
   "metadata": {
    "execution": {
     "iopub.execute_input": "2023-07-08T17:31:17.817372Z",
     "iopub.status.busy": "2023-07-08T17:31:17.816955Z",
     "iopub.status.idle": "2023-07-08T17:31:17.873258Z",
     "shell.execute_reply": "2023-07-08T17:31:17.872054Z"
    },
    "papermill": {
     "duration": 0.064572,
     "end_time": "2023-07-08T17:31:17.875803",
     "exception": false,
     "start_time": "2023-07-08T17:31:17.811231",
     "status": "completed"
    },
    "tags": []
   },
   "outputs": [
    {
     "data": {
      "text/plain": [
       "treatment    147276\n",
       "control      147202\n",
       "Name: group, dtype: int64"
      ]
     },
     "execution_count": 2,
     "metadata": {},
     "output_type": "execute_result"
    }
   ],
   "source": [
    "df['group'].value_counts()"
   ]
  },
  {
   "cell_type": "markdown",
   "id": "372c0769",
   "metadata": {
    "papermill": {
     "duration": 0.00434,
     "end_time": "2023-07-08T17:31:17.884893",
     "exception": false,
     "start_time": "2023-07-08T17:31:17.880553",
     "status": "completed"
    },
    "tags": []
   },
   "source": [
    "# Descriptive Stats"
   ]
  },
  {
   "cell_type": "code",
   "execution_count": 3,
   "id": "189d6a21",
   "metadata": {
    "execution": {
     "iopub.execute_input": "2023-07-08T17:31:17.895602Z",
     "iopub.status.busy": "2023-07-08T17:31:17.895180Z",
     "iopub.status.idle": "2023-07-08T17:31:17.932131Z",
     "shell.execute_reply": "2023-07-08T17:31:17.931030Z"
    },
    "papermill": {
     "duration": 0.045099,
     "end_time": "2023-07-08T17:31:17.934455",
     "exception": false,
     "start_time": "2023-07-08T17:31:17.889356",
     "status": "completed"
    },
    "tags": []
   },
   "outputs": [
    {
     "data": {
      "text/html": [
       "<div>\n",
       "<style scoped>\n",
       "    .dataframe tbody tr th:only-of-type {\n",
       "        vertical-align: middle;\n",
       "    }\n",
       "\n",
       "    .dataframe tbody tr th {\n",
       "        vertical-align: top;\n",
       "    }\n",
       "\n",
       "    .dataframe thead th {\n",
       "        text-align: right;\n",
       "    }\n",
       "</style>\n",
       "<table border=\"1\" class=\"dataframe\">\n",
       "  <thead>\n",
       "    <tr style=\"text-align: right;\">\n",
       "      <th></th>\n",
       "      <th>converted</th>\n",
       "    </tr>\n",
       "  </thead>\n",
       "  <tbody>\n",
       "    <tr>\n",
       "      <th>count</th>\n",
       "      <td>294478.000000</td>\n",
       "    </tr>\n",
       "    <tr>\n",
       "      <th>mean</th>\n",
       "      <td>0.119659</td>\n",
       "    </tr>\n",
       "    <tr>\n",
       "      <th>std</th>\n",
       "      <td>0.324563</td>\n",
       "    </tr>\n",
       "    <tr>\n",
       "      <th>min</th>\n",
       "      <td>0.000000</td>\n",
       "    </tr>\n",
       "    <tr>\n",
       "      <th>25%</th>\n",
       "      <td>0.000000</td>\n",
       "    </tr>\n",
       "    <tr>\n",
       "      <th>50%</th>\n",
       "      <td>0.000000</td>\n",
       "    </tr>\n",
       "    <tr>\n",
       "      <th>75%</th>\n",
       "      <td>0.000000</td>\n",
       "    </tr>\n",
       "    <tr>\n",
       "      <th>max</th>\n",
       "      <td>1.000000</td>\n",
       "    </tr>\n",
       "  </tbody>\n",
       "</table>\n",
       "</div>"
      ],
      "text/plain": [
       "           converted\n",
       "count  294478.000000\n",
       "mean        0.119659\n",
       "std         0.324563\n",
       "min         0.000000\n",
       "25%         0.000000\n",
       "50%         0.000000\n",
       "75%         0.000000\n",
       "max         1.000000"
      ]
     },
     "execution_count": 3,
     "metadata": {},
     "output_type": "execute_result"
    }
   ],
   "source": [
    "df[['group', 'converted']].describe()"
   ]
  },
  {
   "cell_type": "markdown",
   "id": "162eb133",
   "metadata": {
    "papermill": {
     "duration": 0.004664,
     "end_time": "2023-07-08T17:31:17.944116",
     "exception": false,
     "start_time": "2023-07-08T17:31:17.939452",
     "status": "completed"
    },
    "tags": []
   },
   "source": [
    "# Calculate Conversion for Treatment and Control Groups\n",
    "What is the conversion rate for both the treatment and control group? This is important, if the treatment is working then the conversion rate should be higher for the treatment group."
   ]
  },
  {
   "cell_type": "code",
   "execution_count": 4,
   "id": "5763b7d8",
   "metadata": {
    "execution": {
     "iopub.execute_input": "2023-07-08T17:31:17.955234Z",
     "iopub.status.busy": "2023-07-08T17:31:17.954802Z",
     "iopub.status.idle": "2023-07-08T17:31:18.097864Z",
     "shell.execute_reply": "2023-07-08T17:31:18.096774Z"
    },
    "papermill": {
     "duration": 0.151688,
     "end_time": "2023-07-08T17:31:18.100606",
     "exception": false,
     "start_time": "2023-07-08T17:31:17.948918",
     "status": "completed"
    },
    "tags": []
   },
   "outputs": [
    {
     "name": "stdout",
     "output_type": "stream",
     "text": [
      "control effectiveness as percent 0.1204\n",
      "treatment effectiveness as percent 0.1189\n"
     ]
    }
   ],
   "source": [
    "control = df[df['group'] == 'control']\n",
    "control_perc=control['converted'].mean(numeric_only=True).round(4)\n",
    "print(\"control effectiveness as percent\", control_perc)\n",
    "\n",
    "treatment = df[df['group']=='treatment']\n",
    "treatment_perc = treatment['converted'].mean(numeric_only=True).round(4)\n",
    "print(\"treatment effectiveness as percent\", treatment_perc)"
   ]
  },
  {
   "cell_type": "markdown",
   "id": "c9e91312",
   "metadata": {
    "papermill": {
     "duration": 0.004577,
     "end_time": "2023-07-08T17:31:18.111685",
     "exception": false,
     "start_time": "2023-07-08T17:31:18.107108",
     "status": "completed"
    },
    "tags": []
   },
   "source": [
    "# Statistical Significance \n",
    "Is the results accurate or was it done by random chance? Generally larger results help with Statistical significance. "
   ]
  },
  {
   "cell_type": "code",
   "execution_count": 5,
   "id": "63a7457b",
   "metadata": {
    "execution": {
     "iopub.execute_input": "2023-07-08T17:31:18.123862Z",
     "iopub.status.busy": "2023-07-08T17:31:18.122816Z",
     "iopub.status.idle": "2023-07-08T17:31:19.375475Z",
     "shell.execute_reply": "2023-07-08T17:31:19.374037Z"
    },
    "papermill": {
     "duration": 1.261522,
     "end_time": "2023-07-08T17:31:19.378207",
     "exception": false,
     "start_time": "2023-07-08T17:31:18.116685",
     "status": "completed"
    },
    "tags": []
   },
   "outputs": [
    {
     "name": "stdout",
     "output_type": "stream",
     "text": [
      "0.0  t_statistic\n",
      "1.0  p_value\n",
      "Fail to reject the null hypothesis.\n",
      "There is no significant difference between the control and treatment groups.\n"
     ]
    }
   ],
   "source": [
    "import scipy.stats as stats\n",
    "\n",
    "# Get the control and treatment group converted as a list:\n",
    "control_group=list(control['converted'].reset_index(drop=True))\n",
    "treatment_group=list(control['converted'].reset_index(drop=True))\n",
    "\n",
    "# Set up the hypotheses\n",
    "# Null Hypothesis (H0): There is no significant difference between the means of the control and treatment groups.\n",
    "# Alternative Hypothesis (H1): There is a significant difference between the means of the control and treatment groups.\n",
    "# The test will be a two-tailed test.\n",
    "alpha = 0.05\n",
    "\n",
    "# Perform an independent samples t-test\n",
    "t_statistic, p_value = stats.ttest_ind(control_group, treatment_group)\n",
    "print(t_statistic, \" t_statistic\")\n",
    "print(p_value, \" p_value\")\n",
    "\n",
    "# Determine statistical significance\n",
    "if p_value < alpha:\n",
    "    print(\"Reject the null hypothesis.\")\n",
    "    print(\"There is a significant difference between the control and treatment groups.\")\n",
    "else:\n",
    "    print(\"Fail to reject the null hypothesis.\")\n",
    "    print(\"There is no significant difference between the control and treatment groups.\")"
   ]
  },
  {
   "cell_type": "code",
   "execution_count": 6,
   "id": "50f79bc3",
   "metadata": {
    "execution": {
     "iopub.execute_input": "2023-07-08T17:31:19.390398Z",
     "iopub.status.busy": "2023-07-08T17:31:19.389995Z",
     "iopub.status.idle": "2023-07-08T17:31:21.040910Z",
     "shell.execute_reply": "2023-07-08T17:31:21.039227Z"
    },
    "papermill": {
     "duration": 1.659966,
     "end_time": "2023-07-08T17:31:21.043356",
     "exception": false,
     "start_time": "2023-07-08T17:31:19.383390",
     "status": "completed"
    },
    "tags": []
   },
   "outputs": [
    {
     "name": "stdout",
     "output_type": "stream",
     "text": [
      "Z-score: 0.0\n",
      "P-value: 1.0\n"
     ]
    }
   ],
   "source": [
    "import statsmodels.api as sm\n",
    "\n",
    "# Example data for two groups\n",
    "group1_converted = np.array(treatment_group)\n",
    "group2_converted = np.array(control_group)\n",
    "\n",
    "# Perform the proportion test\n",
    "successes = np.array([group1_converted.sum(), group2_converted.sum()])\n",
    "trials = np.array([len(group1_converted), len(group2_converted)])\n",
    "z_score, p_value = sm.stats.proportions_ztest(successes, trials)\n",
    "\n",
    "# Round to four decimal places\n",
    "z_score = round(z_score, 4)\n",
    "p_value = round(p_value, 4)\n",
    "\n",
    "# Print the results\n",
    "print(f\"Z-score: {z_score}\")\n",
    "print(f\"P-value: {p_value}\")"
   ]
  },
  {
   "cell_type": "markdown",
   "id": "ed442134",
   "metadata": {
    "papermill": {
     "duration": 0.004789,
     "end_time": "2023-07-08T17:31:21.053298",
     "exception": false,
     "start_time": "2023-07-08T17:31:21.048509",
     "status": "completed"
    },
    "tags": []
   },
   "source": [
    "**P-value:** 0.5271 shows that the data is not significant. A lower value (one below .05) would of shown the treatment was effective. A higher value close to 1 would mean the data is totally random. Therefore, our value of 0.5271 is more in the middle. \n",
    "\n"
   ]
  }
 ],
 "metadata": {
  "kernelspec": {
   "display_name": "Python 3",
   "language": "python",
   "name": "python3"
  },
  "language_info": {
   "codemirror_mode": {
    "name": "ipython",
    "version": 3
   },
   "file_extension": ".py",
   "mimetype": "text/x-python",
   "name": "python",
   "nbconvert_exporter": "python",
   "pygments_lexer": "ipython3",
   "version": "3.10.10"
  },
  "papermill": {
   "default_parameters": {},
   "duration": 16.569466,
   "end_time": "2023-07-08T17:31:22.080528",
   "environment_variables": {},
   "exception": null,
   "input_path": "__notebook__.ipynb",
   "output_path": "__notebook__.ipynb",
   "parameters": {},
   "start_time": "2023-07-08T17:31:05.511062",
   "version": "2.4.0"
  }
 },
 "nbformat": 4,
 "nbformat_minor": 5
}
