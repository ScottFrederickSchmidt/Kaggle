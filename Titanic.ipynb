{
 "cells": [
  {
   "cell_type": "markdown",
   "id": "15db6124",
   "metadata": {
    "papermill": {
     "duration": 0.038873,
     "end_time": "2022-05-04T13:24:25.404766",
     "exception": false,
     "start_time": "2022-05-04T13:24:25.365893",
     "status": "completed"
    },
    "tags": []
   },
   "source": [
    "# Machine Learning the Titanic \n",
    "Use machine learning to create a model that predicts which passengers survived the Titanic shipwreck. The original dataset can be found on Kaggle: https://www.kaggle.com/competitions/titanic"
   ]
  },
  {
   "cell_type": "markdown",
   "id": "bd6a0a57",
   "metadata": {
    "papermill": {
     "duration": 0.035635,
     "end_time": "2022-05-04T13:24:25.475766",
     "exception": false,
     "start_time": "2022-05-04T13:24:25.440131",
     "status": "completed"
    },
    "tags": []
   },
   "source": [
    "# Metrics Summary\n",
    "The AUC results are as follows:\n",
    "* Logistic regression 0.8759\n",
    "* Linear regression.  0.8765\n",
    "* Graident Boost      0.8739\n",
    "* Decision tree       0.8667\n",
    "* Random Forest       0.8503\n",
    "* Knn                 0.645"
   ]
  },
  {
   "cell_type": "markdown",
   "id": "000a7504",
   "metadata": {
    "papermill": {
     "duration": 0.036789,
     "end_time": "2022-05-04T13:24:25.547607",
     "exception": false,
     "start_time": "2022-05-04T13:24:25.510818",
     "status": "completed"
    },
    "tags": []
   },
   "source": [
    "# Train Data\n",
    "Train.csv will contain the details of a subset of the passengers on board (891 to be exact) and whether they survive or not. The shape of the train data is (891, 12). "
   ]
  },
  {
   "cell_type": "code",
   "execution_count": 1,
   "id": "ae8f124a",
   "metadata": {
    "execution": {
     "iopub.execute_input": "2022-05-04T13:24:25.643396Z",
     "iopub.status.busy": "2022-05-04T13:24:25.642701Z",
     "iopub.status.idle": "2022-05-04T13:24:27.005574Z",
     "shell.execute_reply": "2022-05-04T13:24:27.004408Z"
    },
    "papermill": {
     "duration": 1.406345,
     "end_time": "2022-05-04T13:24:27.009277",
     "exception": false,
     "start_time": "2022-05-04T13:24:25.602932",
     "status": "completed"
    },
    "tags": []
   },
   "outputs": [
    {
     "name": "stdout",
     "output_type": "stream",
     "text": [
      "(891, 12)\n"
     ]
    },
    {
     "data": {
      "text/html": [
       "<div>\n",
       "<style scoped>\n",
       "    .dataframe tbody tr th:only-of-type {\n",
       "        vertical-align: middle;\n",
       "    }\n",
       "\n",
       "    .dataframe tbody tr th {\n",
       "        vertical-align: top;\n",
       "    }\n",
       "\n",
       "    .dataframe thead th {\n",
       "        text-align: right;\n",
       "    }\n",
       "</style>\n",
       "<table border=\"1\" class=\"dataframe\">\n",
       "  <thead>\n",
       "    <tr style=\"text-align: right;\">\n",
       "      <th></th>\n",
       "      <th>PassengerId</th>\n",
       "      <th>Survived</th>\n",
       "      <th>Pclass</th>\n",
       "      <th>Name</th>\n",
       "      <th>Sex</th>\n",
       "      <th>Age</th>\n",
       "      <th>SibSp</th>\n",
       "      <th>Parch</th>\n",
       "      <th>Ticket</th>\n",
       "      <th>Fare</th>\n",
       "      <th>Cabin</th>\n",
       "      <th>Embarked</th>\n",
       "    </tr>\n",
       "  </thead>\n",
       "  <tbody>\n",
       "    <tr>\n",
       "      <th>0</th>\n",
       "      <td>1</td>\n",
       "      <td>0</td>\n",
       "      <td>3</td>\n",
       "      <td>Braund, Mr. Owen Harris</td>\n",
       "      <td>male</td>\n",
       "      <td>22.0</td>\n",
       "      <td>1</td>\n",
       "      <td>0</td>\n",
       "      <td>A/5 21171</td>\n",
       "      <td>7.2500</td>\n",
       "      <td>NaN</td>\n",
       "      <td>S</td>\n",
       "    </tr>\n",
       "    <tr>\n",
       "      <th>1</th>\n",
       "      <td>2</td>\n",
       "      <td>1</td>\n",
       "      <td>1</td>\n",
       "      <td>Cumings, Mrs. John Bradley (Florence Briggs Th...</td>\n",
       "      <td>female</td>\n",
       "      <td>38.0</td>\n",
       "      <td>1</td>\n",
       "      <td>0</td>\n",
       "      <td>PC 17599</td>\n",
       "      <td>71.2833</td>\n",
       "      <td>C85</td>\n",
       "      <td>C</td>\n",
       "    </tr>\n",
       "    <tr>\n",
       "      <th>2</th>\n",
       "      <td>3</td>\n",
       "      <td>1</td>\n",
       "      <td>3</td>\n",
       "      <td>Heikkinen, Miss. Laina</td>\n",
       "      <td>female</td>\n",
       "      <td>26.0</td>\n",
       "      <td>0</td>\n",
       "      <td>0</td>\n",
       "      <td>STON/O2. 3101282</td>\n",
       "      <td>7.9250</td>\n",
       "      <td>NaN</td>\n",
       "      <td>S</td>\n",
       "    </tr>\n",
       "    <tr>\n",
       "      <th>3</th>\n",
       "      <td>4</td>\n",
       "      <td>1</td>\n",
       "      <td>1</td>\n",
       "      <td>Futrelle, Mrs. Jacques Heath (Lily May Peel)</td>\n",
       "      <td>female</td>\n",
       "      <td>35.0</td>\n",
       "      <td>1</td>\n",
       "      <td>0</td>\n",
       "      <td>113803</td>\n",
       "      <td>53.1000</td>\n",
       "      <td>C123</td>\n",
       "      <td>S</td>\n",
       "    </tr>\n",
       "    <tr>\n",
       "      <th>4</th>\n",
       "      <td>5</td>\n",
       "      <td>0</td>\n",
       "      <td>3</td>\n",
       "      <td>Allen, Mr. William Henry</td>\n",
       "      <td>male</td>\n",
       "      <td>35.0</td>\n",
       "      <td>0</td>\n",
       "      <td>0</td>\n",
       "      <td>373450</td>\n",
       "      <td>8.0500</td>\n",
       "      <td>NaN</td>\n",
       "      <td>S</td>\n",
       "    </tr>\n",
       "  </tbody>\n",
       "</table>\n",
       "</div>"
      ],
      "text/plain": [
       "   PassengerId  Survived  Pclass  \\\n",
       "0            1         0       3   \n",
       "1            2         1       1   \n",
       "2            3         1       3   \n",
       "3            4         1       1   \n",
       "4            5         0       3   \n",
       "\n",
       "                                                Name     Sex   Age  SibSp  \\\n",
       "0                            Braund, Mr. Owen Harris    male  22.0      1   \n",
       "1  Cumings, Mrs. John Bradley (Florence Briggs Th...  female  38.0      1   \n",
       "2                             Heikkinen, Miss. Laina  female  26.0      0   \n",
       "3       Futrelle, Mrs. Jacques Heath (Lily May Peel)  female  35.0      1   \n",
       "4                           Allen, Mr. William Henry    male  35.0      0   \n",
       "\n",
       "   Parch            Ticket     Fare Cabin Embarked  \n",
       "0      0         A/5 21171   7.2500   NaN        S  \n",
       "1      0          PC 17599  71.2833   C85        C  \n",
       "2      0  STON/O2. 3101282   7.9250   NaN        S  \n",
       "3      0            113803  53.1000  C123        S  \n",
       "4      0            373450   8.0500   NaN        S  "
      ]
     },
     "execution_count": 1,
     "metadata": {},
     "output_type": "execute_result"
    }
   ],
   "source": [
    "import numpy as np\n",
    "import pandas as pd\n",
    "import seaborn as sns\n",
    "import matplotlib.pyplot as plt\n",
    "from sklearn.model_selection import train_test_split, cross_validate\n",
    "from statistics import mean\n",
    "from sklearn.metrics import mean_absolute_error, mean_squared_error, r2_score\n",
    "from sklearn.datasets import make_classification\n",
    "from sklearn import ensemble\n",
    "import sklearn.metrics as metrics\n",
    "import time\n",
    "\n",
    "train=r'/kaggle/input/titanic/train.csv'\n",
    "test=r'/kaggle/input/titanic/test.csv'\n",
    "\n",
    "df=pd.read_csv(train)\n",
    "print(df.shape)\n",
    "df.head()"
   ]
  },
  {
   "cell_type": "code",
   "execution_count": 2,
   "id": "9a3c634b",
   "metadata": {
    "execution": {
     "iopub.execute_input": "2022-05-04T13:24:27.084371Z",
     "iopub.status.busy": "2022-05-04T13:24:27.083999Z",
     "iopub.status.idle": "2022-05-04T13:24:27.090737Z",
     "shell.execute_reply": "2022-05-04T13:24:27.090192Z"
    },
    "papermill": {
     "duration": 0.046657,
     "end_time": "2022-05-04T13:24:27.092420",
     "exception": false,
     "start_time": "2022-05-04T13:24:27.045763",
     "status": "completed"
    },
    "tags": []
   },
   "outputs": [
    {
     "data": {
      "text/plain": [
       "PassengerId      int64\n",
       "Survived         int64\n",
       "Pclass           int64\n",
       "Name            object\n",
       "Sex             object\n",
       "Age            float64\n",
       "SibSp            int64\n",
       "Parch            int64\n",
       "Ticket          object\n",
       "Fare           float64\n",
       "Cabin           object\n",
       "Embarked        object\n",
       "dtype: object"
      ]
     },
     "execution_count": 2,
     "metadata": {},
     "output_type": "execute_result"
    }
   ],
   "source": [
    "df.dtypes"
   ]
  },
  {
   "cell_type": "markdown",
   "id": "e06c63ef",
   "metadata": {
    "papermill": {
     "duration": 0.039664,
     "end_time": "2022-05-04T13:24:27.170778",
     "exception": false,
     "start_time": "2022-05-04T13:24:27.131114",
     "status": "completed"
    },
    "tags": []
   },
   "source": [
    "# Feature Engineer\n",
    "We need to replace male and female into numbers. This is a very important part of the process because gender is one of the highest predictors on if a person survived or not."
   ]
  },
  {
   "cell_type": "code",
   "execution_count": 3,
   "id": "af36ca67",
   "metadata": {
    "execution": {
     "iopub.execute_input": "2022-05-04T13:24:27.256229Z",
     "iopub.status.busy": "2022-05-04T13:24:27.255741Z",
     "iopub.status.idle": "2022-05-04T13:24:27.266575Z",
     "shell.execute_reply": "2022-05-04T13:24:27.266063Z"
    },
    "papermill": {
     "duration": 0.049695,
     "end_time": "2022-05-04T13:24:27.268232",
     "exception": false,
     "start_time": "2022-05-04T13:24:27.218537",
     "status": "completed"
    },
    "tags": []
   },
   "outputs": [],
   "source": [
    "replace_dict= {'female':0,'male':1}\n",
    "df['Sex']=df['Sex'].map(replace_dict)"
   ]
  },
  {
   "cell_type": "markdown",
   "id": "ab26c6ac",
   "metadata": {
    "papermill": {
     "duration": 0.036285,
     "end_time": "2022-05-04T13:24:27.341270",
     "exception": false,
     "start_time": "2022-05-04T13:24:27.304985",
     "status": "completed"
    },
    "tags": []
   },
   "source": [
    "Females whose number is 0 had a much higher chance of surving than males. Later on, doing the importance feature analysis we will view that gender is actually one of the highest predictors. "
   ]
  },
  {
   "cell_type": "code",
   "execution_count": 4,
   "id": "58f57750",
   "metadata": {
    "execution": {
     "iopub.execute_input": "2022-05-04T13:24:27.416436Z",
     "iopub.status.busy": "2022-05-04T13:24:27.415958Z",
     "iopub.status.idle": "2022-05-04T13:24:27.439818Z",
     "shell.execute_reply": "2022-05-04T13:24:27.439268Z"
    },
    "papermill": {
     "duration": 0.063045,
     "end_time": "2022-05-04T13:24:27.441288",
     "exception": false,
     "start_time": "2022-05-04T13:24:27.378243",
     "status": "completed"
    },
    "tags": []
   },
   "outputs": [
    {
     "data": {
      "text/html": [
       "<div>\n",
       "<style scoped>\n",
       "    .dataframe tbody tr th:only-of-type {\n",
       "        vertical-align: middle;\n",
       "    }\n",
       "\n",
       "    .dataframe tbody tr th {\n",
       "        vertical-align: top;\n",
       "    }\n",
       "\n",
       "    .dataframe thead th {\n",
       "        text-align: right;\n",
       "    }\n",
       "</style>\n",
       "<table border=\"1\" class=\"dataframe\">\n",
       "  <thead>\n",
       "    <tr style=\"text-align: right;\">\n",
       "      <th>Sex</th>\n",
       "      <th>0</th>\n",
       "      <th>1</th>\n",
       "    </tr>\n",
       "    <tr>\n",
       "      <th>Survived</th>\n",
       "      <th></th>\n",
       "      <th></th>\n",
       "    </tr>\n",
       "  </thead>\n",
       "  <tbody>\n",
       "    <tr>\n",
       "      <th>0</th>\n",
       "      <td>81</td>\n",
       "      <td>468</td>\n",
       "    </tr>\n",
       "    <tr>\n",
       "      <th>1</th>\n",
       "      <td>233</td>\n",
       "      <td>109</td>\n",
       "    </tr>\n",
       "  </tbody>\n",
       "</table>\n",
       "</div>"
      ],
      "text/plain": [
       "Sex         0    1\n",
       "Survived          \n",
       "0          81  468\n",
       "1         233  109"
      ]
     },
     "execution_count": 4,
     "metadata": {},
     "output_type": "execute_result"
    }
   ],
   "source": [
    "genderTable = pd.crosstab(df['Survived'],df['Sex'])\n",
    "genderTable"
   ]
  },
  {
   "cell_type": "markdown",
   "id": "4692764a",
   "metadata": {
    "papermill": {
     "duration": 0.036592,
     "end_time": "2022-05-04T13:24:27.514734",
     "exception": false,
     "start_time": "2022-05-04T13:24:27.478142",
     "status": "completed"
    },
    "tags": []
   },
   "source": [
    "# Examine Target Variable\n",
    "Survived is the Y variable we will be analyzing. Since the survival rete is 0.384 the data is not considered unbalanced. "
   ]
  },
  {
   "cell_type": "code",
   "execution_count": 5,
   "id": "0ed133ed",
   "metadata": {
    "execution": {
     "iopub.execute_input": "2022-05-04T13:24:27.593169Z",
     "iopub.status.busy": "2022-05-04T13:24:27.592716Z",
     "iopub.status.idle": "2022-05-04T13:24:27.600112Z",
     "shell.execute_reply": "2022-05-04T13:24:27.598667Z"
    },
    "papermill": {
     "duration": 0.049563,
     "end_time": "2022-05-04T13:24:27.601867",
     "exception": false,
     "start_time": "2022-05-04T13:24:27.552304",
     "status": "completed"
    },
    "tags": []
   },
   "outputs": [
    {
     "name": "stdout",
     "output_type": "stream",
     "text": [
      "0    549\n",
      "1    342\n",
      "Name: Survived, dtype: int64\n",
      "Percent that survived:  0.384\n"
     ]
    }
   ],
   "source": [
    "temp=df['Survived'].value_counts()\n",
    "print(temp)\n",
    "no=temp[0]\n",
    "yes=temp[1]\n",
    "percent=round(yes/(yes+no),3)\n",
    "print(\"Percent that survived: \", percent)"
   ]
  },
  {
   "cell_type": "markdown",
   "id": "e8cd587b",
   "metadata": {
    "papermill": {
     "duration": 0.038076,
     "end_time": "2022-05-04T13:24:27.677990",
     "exception": false,
     "start_time": "2022-05-04T13:24:27.639914",
     "status": "completed"
    },
    "tags": []
   },
   "source": [
    "# Numeric DataFrame\n",
    "For now, we will analyze only numeric values. Categorical values will need to be encoded or analyzed individually."
   ]
  },
  {
   "cell_type": "code",
   "execution_count": 6,
   "id": "2509829f",
   "metadata": {
    "execution": {
     "iopub.execute_input": "2022-05-04T13:24:27.756775Z",
     "iopub.status.busy": "2022-05-04T13:24:27.756217Z",
     "iopub.status.idle": "2022-05-04T13:24:27.768949Z",
     "shell.execute_reply": "2022-05-04T13:24:27.768363Z"
    },
    "papermill": {
     "duration": 0.054158,
     "end_time": "2022-05-04T13:24:27.770511",
     "exception": false,
     "start_time": "2022-05-04T13:24:27.716353",
     "status": "completed"
    },
    "tags": []
   },
   "outputs": [
    {
     "data": {
      "text/html": [
       "<div>\n",
       "<style scoped>\n",
       "    .dataframe tbody tr th:only-of-type {\n",
       "        vertical-align: middle;\n",
       "    }\n",
       "\n",
       "    .dataframe tbody tr th {\n",
       "        vertical-align: top;\n",
       "    }\n",
       "\n",
       "    .dataframe thead th {\n",
       "        text-align: right;\n",
       "    }\n",
       "</style>\n",
       "<table border=\"1\" class=\"dataframe\">\n",
       "  <thead>\n",
       "    <tr style=\"text-align: right;\">\n",
       "      <th></th>\n",
       "      <th>PassengerId</th>\n",
       "      <th>Survived</th>\n",
       "      <th>Pclass</th>\n",
       "      <th>Sex</th>\n",
       "      <th>Age</th>\n",
       "      <th>SibSp</th>\n",
       "      <th>Parch</th>\n",
       "      <th>Fare</th>\n",
       "    </tr>\n",
       "  </thead>\n",
       "  <tbody>\n",
       "    <tr>\n",
       "      <th>0</th>\n",
       "      <td>1</td>\n",
       "      <td>0</td>\n",
       "      <td>3</td>\n",
       "      <td>1</td>\n",
       "      <td>22.0</td>\n",
       "      <td>1</td>\n",
       "      <td>0</td>\n",
       "      <td>7.2500</td>\n",
       "    </tr>\n",
       "    <tr>\n",
       "      <th>1</th>\n",
       "      <td>2</td>\n",
       "      <td>1</td>\n",
       "      <td>1</td>\n",
       "      <td>0</td>\n",
       "      <td>38.0</td>\n",
       "      <td>1</td>\n",
       "      <td>0</td>\n",
       "      <td>71.2833</td>\n",
       "    </tr>\n",
       "    <tr>\n",
       "      <th>2</th>\n",
       "      <td>3</td>\n",
       "      <td>1</td>\n",
       "      <td>3</td>\n",
       "      <td>0</td>\n",
       "      <td>26.0</td>\n",
       "      <td>0</td>\n",
       "      <td>0</td>\n",
       "      <td>7.9250</td>\n",
       "    </tr>\n",
       "    <tr>\n",
       "      <th>3</th>\n",
       "      <td>4</td>\n",
       "      <td>1</td>\n",
       "      <td>1</td>\n",
       "      <td>0</td>\n",
       "      <td>35.0</td>\n",
       "      <td>1</td>\n",
       "      <td>0</td>\n",
       "      <td>53.1000</td>\n",
       "    </tr>\n",
       "    <tr>\n",
       "      <th>4</th>\n",
       "      <td>5</td>\n",
       "      <td>0</td>\n",
       "      <td>3</td>\n",
       "      <td>1</td>\n",
       "      <td>35.0</td>\n",
       "      <td>0</td>\n",
       "      <td>0</td>\n",
       "      <td>8.0500</td>\n",
       "    </tr>\n",
       "  </tbody>\n",
       "</table>\n",
       "</div>"
      ],
      "text/plain": [
       "   PassengerId  Survived  Pclass  Sex   Age  SibSp  Parch     Fare\n",
       "0            1         0       3    1  22.0      1      0   7.2500\n",
       "1            2         1       1    0  38.0      1      0  71.2833\n",
       "2            3         1       3    0  26.0      0      0   7.9250\n",
       "3            4         1       1    0  35.0      1      0  53.1000\n",
       "4            5         0       3    1  35.0      0      0   8.0500"
      ]
     },
     "execution_count": 6,
     "metadata": {},
     "output_type": "execute_result"
    }
   ],
   "source": [
    "numerics = ['int16', 'int32', 'int64', 'float16', 'float32', 'float64']\n",
    "df = df.select_dtypes(include=numerics)\n",
    "df.head()"
   ]
  },
  {
   "cell_type": "markdown",
   "id": "fe1784fe",
   "metadata": {
    "papermill": {
     "duration": 0.038814,
     "end_time": "2022-05-04T13:24:27.848573",
     "exception": false,
     "start_time": "2022-05-04T13:24:27.809759",
     "status": "completed"
    },
    "tags": []
   },
   "source": [
    "# Check for missing values\n",
    "Age is missing around 20% of values.Therefore, we can simply fill in the mean for that one column."
   ]
  },
  {
   "cell_type": "code",
   "execution_count": 7,
   "id": "44135d5c",
   "metadata": {
    "execution": {
     "iopub.execute_input": "2022-05-04T13:24:27.930303Z",
     "iopub.status.busy": "2022-05-04T13:24:27.929358Z",
     "iopub.status.idle": "2022-05-04T13:24:27.937994Z",
     "shell.execute_reply": "2022-05-04T13:24:27.936708Z"
    },
    "papermill": {
     "duration": 0.052535,
     "end_time": "2022-05-04T13:24:27.939930",
     "exception": false,
     "start_time": "2022-05-04T13:24:27.887395",
     "status": "completed"
    },
    "tags": []
   },
   "outputs": [
    {
     "name": "stdout",
     "output_type": "stream",
     "text": [
      "Missing data by column as a percent:\n",
      "Age            0.198653\n",
      "PassengerId    0.000000\n",
      "Survived       0.000000\n",
      "Pclass         0.000000\n",
      "Sex            0.000000\n",
      "dtype: float64\n"
     ]
    }
   ],
   "source": [
    "#search for columns with missing values:\n",
    "def findNA():\n",
    "    print(\"Missing data by column as a percent:\")\n",
    "    findNA=df.isnull().sum().sort_values(ascending=False)/len(df)\n",
    "    print(findNA.head())\n",
    "findNA() "
   ]
  },
  {
   "cell_type": "code",
   "execution_count": 8,
   "id": "96c23f56",
   "metadata": {
    "execution": {
     "iopub.execute_input": "2022-05-04T13:24:28.022628Z",
     "iopub.status.busy": "2022-05-04T13:24:28.022207Z",
     "iopub.status.idle": "2022-05-04T13:24:28.028144Z",
     "shell.execute_reply": "2022-05-04T13:24:28.027474Z"
    },
    "papermill": {
     "duration": 0.048611,
     "end_time": "2022-05-04T13:24:28.029980",
     "exception": false,
     "start_time": "2022-05-04T13:24:27.981369",
     "status": "completed"
    },
    "tags": []
   },
   "outputs": [],
   "source": [
    "df= df.fillna(df.mean())"
   ]
  },
  {
   "cell_type": "markdown",
   "id": "906d5ea8",
   "metadata": {
    "papermill": {
     "duration": 0.039507,
     "end_time": "2022-05-04T13:24:28.110660",
     "exception": false,
     "start_time": "2022-05-04T13:24:28.071153",
     "status": "completed"
    },
    "tags": []
   },
   "source": [
    "# Split Data"
   ]
  },
  {
   "cell_type": "code",
   "execution_count": 9,
   "id": "881e9cbb",
   "metadata": {
    "execution": {
     "iopub.execute_input": "2022-05-04T13:24:28.189991Z",
     "iopub.status.busy": "2022-05-04T13:24:28.189728Z",
     "iopub.status.idle": "2022-05-04T13:24:28.196389Z",
     "shell.execute_reply": "2022-05-04T13:24:28.195744Z"
    },
    "papermill": {
     "duration": 0.04812,
     "end_time": "2022-05-04T13:24:28.197923",
     "exception": false,
     "start_time": "2022-05-04T13:24:28.149803",
     "status": "completed"
    },
    "tags": []
   },
   "outputs": [],
   "source": [
    "X=df.drop('Survived', axis=1)\n",
    "y=df['Survived']\n",
    "\n",
    "X_train, X_test, y_train, y_test = train_test_split(X, y, test_size = 0.30, random_state = 42)"
   ]
  },
  {
   "cell_type": "markdown",
   "id": "c48e6bd2",
   "metadata": {
    "papermill": {
     "duration": 0.03853,
     "end_time": "2022-05-04T13:24:28.275560",
     "exception": false,
     "start_time": "2022-05-04T13:24:28.237030",
     "status": "completed"
    },
    "tags": []
   },
   "source": [
    "# Highly Correlated Features\n",
    "There are no highly correlated variables above 80%. Therefore, we do not need to be concerned about removing variables that are too highly correlated. "
   ]
  },
  {
   "cell_type": "markdown",
   "id": "1e61e9ed",
   "metadata": {
    "papermill": {
     "duration": 0.038807,
     "end_time": "2022-05-04T13:24:28.352843",
     "exception": false,
     "start_time": "2022-05-04T13:24:28.314036",
     "status": "completed"
    },
    "tags": []
   },
   "source": [
    "# Gradient Boost \n",
    "The four parameters I tunned are max_depth, n_estimators, min_sample_split and learning_rate:\n",
    "* The best max_depth is 2\n",
    "* The best n_estimators is 500\n",
    "* The best min_sample_split with least amount of error was at 7\n",
    "* Having a higher learning rate makes AUC worse so I set it at .01\n",
    "\n",
    "Some of the full reports are below:\n",
    "\n",
    "#### max_depth:\n",
    "The best max_depth seems to be 2 because it provides high AUC with the least amount of error: <br>\n",
    "2  max_depth:\n",
    "AUC for gradient boost is:  0.874\n",
    "The mean squared error (MSE) on test set: 0.1378\n",
    "\n",
    "3  max_depth:\n",
    "AUC for gradient boost is:  0.8689\n",
    "The mean squared error (MSE) on test set: 0.1410\n",
    "\n",
    "4  max_depth:\n",
    "AUC for gradient boost is:  0.861\n",
    "The mean squared error (MSE) on test set: 0.1403\n",
    "\n",
    "5  max_depth:\n",
    "AUC for gradient boost is:  0.8559\n",
    "The mean squared error (MSE) on test set: 0.1488\n",
    "\n",
    "#### n_estimators:\n",
    "500 for n_estimators seems to provide the least amount of error with high AUC: <br>\n",
    "100  n_estimators:\n",
    "AUC for gradient boost is:  0.8632\n",
    "The mean squared error (MSE) on test set: 0.1600\n",
    "\n",
    "200  n_estimators:\n",
    "AUC for gradient boost is:  0.8726\n",
    "The mean squared error (MSE) on test set: 0.1471\n",
    "\n",
    "300  n_estimators:\n",
    "AUC for gradient boost is:  0.8703\n",
    "The mean squared error (MSE) on test set: 0.1414\n",
    "\n",
    "400  n_estimators:\n",
    "AUC for gradient boost is:  0.8732\n",
    "The mean squared error (MSE) on test set: 0.1389\n",
    "\n",
    "500  n_estimators:\n",
    "AUC for gradient boost is:  0.8739\n",
    "The mean squared error (MSE) on test set: 0.1378\n",
    "\n",
    "#### min_samples_split: <br>\n",
    "2  n_estimators:\n",
    "AUC for gradient boost is:  0.8084\n",
    "The mean squared error (MSE) on test set: 0.2406\n",
    "\n",
    "3  n_estimators:\n",
    "AUC for gradient boost is:  0.8084\n",
    "The mean squared error (MSE) on test set: 0.2387\n",
    "\n",
    "5  n_estimators:\n",
    "AUC for gradient boost is:  0.8084\n",
    "The mean squared error (MSE) on test set: 0.2350\n",
    "\n",
    "7  n_estimators:\n",
    "AUC for gradient boost is:  0.8084\n",
    "The mean squared error (MSE) on test set: 0.2315"
   ]
  },
  {
   "cell_type": "code",
   "execution_count": 10,
   "id": "0c89e23b",
   "metadata": {
    "execution": {
     "iopub.execute_input": "2022-05-04T13:24:28.434837Z",
     "iopub.status.busy": "2022-05-04T13:24:28.434424Z",
     "iopub.status.idle": "2022-05-04T13:24:28.455832Z",
     "shell.execute_reply": "2022-05-04T13:24:28.455265Z"
    },
    "papermill": {
     "duration": 0.063949,
     "end_time": "2022-05-04T13:24:28.457858",
     "exception": false,
     "start_time": "2022-05-04T13:24:28.393909",
     "status": "completed"
    },
    "tags": []
   },
   "outputs": [],
   "source": [
    "from sklearn.inspection import permutation_importance\n",
    "from sklearn.ensemble import GradientBoostingClassifier,GradientBoostingRegressor\n",
    "\n",
    "def gbDepth():\n",
    "    depthList=[2, 3, 4, 5]\n",
    "    \n",
    "    for d in depthList:\n",
    "        print(d, \" max_depth:\")\n",
    "        params = {\n",
    "         \"n_estimators\": 500, \"max_depth\": d, \"min_samples_split\": 5, \"learning_rate\": 0.01,\n",
    "        }\n",
    "\n",
    "        #Fit and Predict:\n",
    "        reg = ensemble.GradientBoostingRegressor(**params)\n",
    "        reg.fit(X_train, y_train)\n",
    "        y_pred = reg.predict(X_test)\n",
    "        gbr_r2 = r2_score(y_test, y_pred).round(4) \n",
    "        #print(\"Gradient boosting regression r2: \", gbr_r2) \n",
    "\n",
    "        #calculate AUC of model\n",
    "        auc = round( metrics.roc_auc_score(y_test, y_pred), 4 ) \n",
    "        print(\"AUC for gradient boost is: \", auc)\n",
    "\n",
    "        mse = mean_squared_error(y_test, reg.predict(X_test)).round(4)\n",
    "        print(\"The mean squared error (MSE) on test set: {:.4f}\".format(mse)+'\\n')\n",
    "\n",
    "def gbN():\n",
    "    nList=[100, 200, 300, 400, 500]\n",
    "    \n",
    "    for n in nList:\n",
    "        print(n, \" n_estimators:\")\n",
    "        params = {\n",
    "         \"n_estimators\": n, \"max_depth\": 2, \"min_samples_split\": 5, \"learning_rate\": 0.01,\n",
    "        }\n",
    "\n",
    "        #Fit and Predict:\n",
    "        reg = ensemble.GradientBoostingRegressor(**params)\n",
    "        reg.fit(X_train, y_train)\n",
    "        y_pred = reg.predict(X_test)\n",
    "        gbr_r2 = r2_score(y_test, y_pred).round(4) \n",
    "        #print(\"Gradient boosting regression r2: \", gbr_r2) \n",
    "\n",
    "        #calculate AUC of model\n",
    "        auc = round( metrics.roc_auc_score(y_test, y_pred), 4 ) \n",
    "        print(\"AUC for gradient boost is: \", auc)\n",
    "\n",
    "        mse = mean_squared_error(y_test, reg.predict(X_test)).round(4)\n",
    "        print(\"The mean squared error (MSE) on test set: {:.4f}\".format(mse) + '\\n')\n",
    "\n",
    "def gbSplit():\n",
    "    sList=[2, 3, 5, 7]\n",
    "    \n",
    "    for s in nList:\n",
    "        print(s, \" min_sample_split:\")\n",
    "        params = {\n",
    "         \"n_estimators\": 500, \"max_depth\": 2, \"min_samples_split\": s, \"learning_rate\": 0.01,\n",
    "        }\n",
    "\n",
    "        #Fit and Predict:\n",
    "        reg = ensemble.GradientBoostingRegressor(**params)\n",
    "        reg.fit(X_train, y_train)\n",
    "        y_pred = reg.predict(X_test)\n",
    "        gbr_r2 = r2_score(y_test, y_pred).round(4) \n",
    "        #print(\"Gradient boosting regression r2: \", gbr_r2) \n",
    "\n",
    "        #calculate AUC of model\n",
    "        auc = round( metrics.roc_auc_score(y_test, y_pred), 4 ) \n",
    "        print(\"AUC for gradient boost is: \", auc)\n",
    "\n",
    "        mse = mean_squared_error(y_test, reg.predict(X_test)).round(4)\n",
    "        print(\"The mean squared error (MSE) on test set: {:.4f}\".format(mse) + '\\n')\n",
    "\n",
    "#Turn on or off functions here:\n",
    "#gbDepth()\n",
    "#gbN()\n",
    "#gbSplit()"
   ]
  },
  {
   "cell_type": "markdown",
   "id": "f33d4810",
   "metadata": {
    "papermill": {
     "duration": 0.037671,
     "end_time": "2022-05-04T13:24:28.535084",
     "exception": false,
     "start_time": "2022-05-04T13:24:28.497413",
     "status": "completed"
    },
    "tags": []
   },
   "source": [
    "#### Gradient Boost Prediction\n",
    "Use functions above to find the best paramters to input below."
   ]
  },
  {
   "cell_type": "code",
   "execution_count": 11,
   "id": "9e84ecb9",
   "metadata": {
    "execution": {
     "iopub.execute_input": "2022-05-04T13:24:28.612756Z",
     "iopub.status.busy": "2022-05-04T13:24:28.612295Z",
     "iopub.status.idle": "2022-05-04T13:24:28.926316Z",
     "shell.execute_reply": "2022-05-04T13:24:28.925424Z"
    },
    "papermill": {
     "duration": 0.35578,
     "end_time": "2022-05-04T13:24:28.928275",
     "exception": false,
     "start_time": "2022-05-04T13:24:28.572495",
     "status": "completed"
    },
    "tags": []
   },
   "outputs": [
    {
     "name": "stdout",
     "output_type": "stream",
     "text": [
      "Gradient boosting regression r2:  0.4318\n",
      "AUC for gradient boost is:  0.8736\n",
      "The mean squared error (MSE) on test set: 0.1379\n"
     ]
    }
   ],
   "source": [
    "params = {\n",
    " \"n_estimators\": 500, \"max_depth\": 2, \"min_samples_split\": 7, \"learning_rate\": 0.01,\n",
    "}\n",
    "\n",
    "#Fit and Predict:\n",
    "reg = ensemble.GradientBoostingRegressor(**params)\n",
    "reg.fit(X_train, y_train)\n",
    "y_pred = reg.predict(X_test)\n",
    "gbr_r2 = r2_score(y_test, y_pred).round(4) \n",
    "print(\"Gradient boosting regression r2: \", gbr_r2) \n",
    "\n",
    "#AUC of model\n",
    "auc = round( metrics.roc_auc_score(y_test, y_pred), 4 ) \n",
    "print(\"AUC for gradient boost is: \", auc)\n",
    "\n",
    "mse = mean_squared_error(y_test, reg.predict(X_test))\n",
    "print(\"The mean squared error (MSE) on test set: {:.4f}\".format(mse))"
   ]
  },
  {
   "cell_type": "markdown",
   "id": "b8e90dac",
   "metadata": {
    "papermill": {
     "duration": 0.039133,
     "end_time": "2022-05-04T13:24:29.007694",
     "exception": false,
     "start_time": "2022-05-04T13:24:28.968561",
     "status": "completed"
    },
    "tags": []
   },
   "source": [
    "# Feature Importance"
   ]
  },
  {
   "cell_type": "code",
   "execution_count": 12,
   "id": "756ccd6c",
   "metadata": {
    "execution": {
     "iopub.execute_input": "2022-05-04T13:24:29.088937Z",
     "iopub.status.busy": "2022-05-04T13:24:29.088042Z",
     "iopub.status.idle": "2022-05-04T13:24:30.812629Z",
     "shell.execute_reply": "2022-05-04T13:24:30.811690Z"
    },
    "papermill": {
     "duration": 1.767763,
     "end_time": "2022-05-04T13:24:30.814537",
     "exception": false,
     "start_time": "2022-05-04T13:24:29.046774",
     "status": "completed"
    },
    "tags": []
   },
   "outputs": [
    {
     "data": {
      "image/png": "[encoded data removed]",
      "text/plain": [
       "<Figure size 864x432 with 2 Axes>"
      ]
     },
     "metadata": {
      "needs_background": "light"
     },
     "output_type": "display_data"
    }
   ],
   "source": [
    "cols=X.columns\n",
    "feature_importance = reg.feature_importances_\n",
    "sorted_idx = np.argsort(feature_importance)\n",
    "pos = np.arange(sorted_idx.shape[0]) + 0.5\n",
    "fig = plt.figure(figsize=(12, 6))\n",
    "plt.subplot(1, 2, 1)\n",
    "plt.barh(pos, feature_importance[sorted_idx], align=\"center\")\n",
    "plt.yticks(pos, np.array(cols)[sorted_idx])\n",
    "plt.title(\"Feature Importance (MDI)\")\n",
    "\n",
    "result = permutation_importance(\n",
    "    reg, X_test, y_test, n_repeats=10, random_state=42, n_jobs=2\n",
    ")\n",
    "sorted_idx = result.importances_mean.argsort()\n",
    "plt.subplot(1, 2, 2)\n",
    "plt.boxplot(\n",
    "    result.importances[sorted_idx].T,\n",
    "    vert=False,\n",
    "    labels=np.array(cols)[sorted_idx],\n",
    ")\n",
    "plt.title(\"Permutation Importance (test set)\")\n",
    "fig.tight_layout()\n",
    "plt.show()"
   ]
  },
  {
   "cell_type": "markdown",
   "id": "ff58cfd6",
   "metadata": {
    "papermill": {
     "duration": 0.038957,
     "end_time": "2022-05-04T13:24:30.892509",
     "exception": false,
     "start_time": "2022-05-04T13:24:30.853552",
     "status": "completed"
    },
    "tags": []
   },
   "source": [
    "# Logistic Regression\n",
    "AUC for logistic regression is:  0.8779. Tuning the C value did not seem to make much difference in the final AUC prediction. "
   ]
  },
  {
   "cell_type": "markdown",
   "id": "ba2a85c7",
   "metadata": {
    "papermill": {
     "duration": 0.039055,
     "end_time": "2022-05-04T13:24:30.971456",
     "exception": false,
     "start_time": "2022-05-04T13:24:30.932401",
     "status": "completed"
    },
    "tags": []
   },
   "source": [
    "#### Parameters Tuning\n",
    "The Parameter C, the Grid Search is a way to tune the data.\n",
    "The best parameters with high AUC and low error are the following:\n",
    "* C=10\n",
    "\n",
    "The full C tuning report is below: <br>\n",
    "0.01  C param logistic regression AUC:  0.8603\n",
    "0.2762  MAE error \n",
    "\n",
    "1  C param logistic regression AUC:  0.8759\n",
    "0.2762  MAE error \n",
    "\n",
    "2  C param logistic regression AUC:  0.8771\n",
    "0.2762  MAE error \n",
    "\n",
    "5  C param logistic regression AUC:  0.8778\n",
    "0.2762  MAE error \n",
    "\n",
    "10  C param logistic regression AUC:  0.8779\n",
    "0.2762  MAE error \n"
   ]
  },
  {
   "cell_type": "code",
   "execution_count": 13,
   "id": "21bd1c89",
   "metadata": {
    "execution": {
     "iopub.execute_input": "2022-05-04T13:24:31.052887Z",
     "iopub.status.busy": "2022-05-04T13:24:31.052047Z",
     "iopub.status.idle": "2022-05-04T13:24:31.059418Z",
     "shell.execute_reply": "2022-05-04T13:24:31.058817Z"
    },
    "papermill": {
     "duration": 0.050045,
     "end_time": "2022-05-04T13:24:31.061085",
     "exception": false,
     "start_time": "2022-05-04T13:24:31.011040",
     "status": "completed"
    },
    "tags": []
   },
   "outputs": [],
   "source": [
    "from sklearn.linear_model import LogisticRegression\n",
    "#Note: solver param gets rid of encoder error\n",
    "\n",
    "def logC():\n",
    "    cList=[.01, 1, 2, 5, 10]\n",
    "    for n in cList:\n",
    "        logReg = LogisticRegression(solver='liblinear', C=n) \n",
    "\n",
    "        logReg.fit(X_train, y_train)\n",
    "        logPredict = logReg.predict_proba(X_test)[::,1]\n",
    "\n",
    "        auc = round( metrics.roc_auc_score(y_test, logPredict), 4 ) \n",
    "        print(n, \" C param logistic regression AUC: \", auc)\n",
    "\n",
    "        mae = mean_absolute_error(y_test, y_pred).round(4)\n",
    "        print(mae, \" MAE error\", '\\n')    \n",
    "#logC()"
   ]
  },
  {
   "cell_type": "markdown",
   "id": "77406c5b",
   "metadata": {
    "papermill": {
     "duration": 0.039411,
     "end_time": "2022-05-04T13:24:31.139412",
     "exception": false,
     "start_time": "2022-05-04T13:24:31.100001",
     "status": "completed"
    },
    "tags": []
   },
   "source": [
    "#### Make Logistic Regression Prediction\n",
    "Input the variables below from using the test functions above. Using l1 or l2 for penalty does not make a major difference in final AUC."
   ]
  },
  {
   "cell_type": "code",
   "execution_count": 14,
   "id": "0a93b324",
   "metadata": {
    "execution": {
     "iopub.execute_input": "2022-05-04T13:24:31.219354Z",
     "iopub.status.busy": "2022-05-04T13:24:31.218917Z",
     "iopub.status.idle": "2022-05-04T13:24:31.234509Z",
     "shell.execute_reply": "2022-05-04T13:24:31.233462Z"
    },
    "papermill": {
     "duration": 0.058298,
     "end_time": "2022-05-04T13:24:31.237034",
     "exception": false,
     "start_time": "2022-05-04T13:24:31.178736",
     "status": "completed"
    },
    "tags": []
   },
   "outputs": [
    {
     "name": "stdout",
     "output_type": "stream",
     "text": [
      "AUC for logistic regression is:  0.8779\n"
     ]
    }
   ],
   "source": [
    "num=10\n",
    "logReg = LogisticRegression(solver='liblinear',penalty='l2', C=num) \n",
    "\n",
    "#Train the model and create predictions\n",
    "logReg.fit(X_train, y_train)\n",
    "logPredict = logReg.predict_proba(X_test)[::,1]\n",
    "\n",
    "#calculate AUC of model\n",
    "auc = round( metrics.roc_auc_score(y_test, logPredict), 4 ) \n",
    "print(\"AUC for logistic regression is: \", auc)"
   ]
  },
  {
   "cell_type": "markdown",
   "id": "310604fe",
   "metadata": {
    "papermill": {
     "duration": 0.038918,
     "end_time": "2022-05-04T13:24:31.315831",
     "exception": false,
     "start_time": "2022-05-04T13:24:31.276913",
     "status": "completed"
    },
    "tags": []
   },
   "source": [
    "# Linear Regression"
   ]
  },
  {
   "cell_type": "code",
   "execution_count": 15,
   "id": "beaaa86a",
   "metadata": {
    "execution": {
     "iopub.execute_input": "2022-05-04T13:24:31.398308Z",
     "iopub.status.busy": "2022-05-04T13:24:31.398066Z",
     "iopub.status.idle": "2022-05-04T13:24:31.640032Z",
     "shell.execute_reply": "2022-05-04T13:24:31.638977Z"
    },
    "papermill": {
     "duration": 0.286645,
     "end_time": "2022-05-04T13:24:31.641969",
     "exception": false,
     "start_time": "2022-05-04T13:24:31.355324",
     "status": "completed"
    },
    "tags": []
   },
   "outputs": [
    {
     "name": "stdout",
     "output_type": "stream",
     "text": [
      "AUC for linear regression is:  0.8765\n",
      "Linear regression r2 score:  0.4424\n",
      "Linear Accuracy:  0.4424\n",
      "0.3665  linear regression cross validate mean\n"
     ]
    },
    {
     "data": {
      "image/png": "[encoded data removed]",
      "text/plain": [
       "<Figure size 432x288 with 1 Axes>"
      ]
     },
     "metadata": {
      "needs_background": "light"
     },
     "output_type": "display_data"
    }
   ],
   "source": [
    "from sklearn.linear_model import LinearRegression, Ridge, Lasso\n",
    "\n",
    "#Fit and predict:\n",
    "lrModel = LinearRegression()\n",
    "lrModel.fit(X_train, y_train)\n",
    "lrPredict = lrModel.predict(X_test)\n",
    "\n",
    "# plt.scatter(y_test, predictions)\n",
    "plt.hist(y_test - lrPredict)\n",
    "\n",
    "#Linear Metrics:\n",
    "auc = round( metrics.roc_auc_score(y_test, lrPredict), 4 ) \n",
    "r2 = r2_score(y_test, lrPredict).round(4) \n",
    "print(\"AUC for linear regression is: \", auc)\n",
    "print(\"Linear regression r2 score: \", r2)\n",
    "\n",
    "#CROSS VALIDATE TEST RESULTS:\n",
    "lr_score = lrModel.score(X_test, y_test).round(4)  # train test \n",
    "print(\"Linear Accuracy: \", lr_score)\n",
    "lr_cv = cross_validate(lrModel, X, y, cv = 5, scoring= 'r2')\n",
    "lr_cvMean=lr_cv['test_score'].mean().round(4)\n",
    "print(lr_cvMean, \" linear regression cross validate mean\")\n",
    "\n",
    "def linearReports():\n",
    "    print(model.coef_)    \n",
    "    print(model.intercept_)\n",
    "    print(classification_report(y_test_data, lrPredict))\n",
    "    print(confusion_matrix(y_test_data, lrPredict))\n",
    "    metrics.mean_absolute_error(y_test, lrPredict)\n",
    "    lrMSE=np.sqrt(metrics.mean_squared_error(y_test, lrPredict))\n",
    "    print(round(lrMSE, 4), \" is lr MSE \")"
   ]
  },
  {
   "cell_type": "markdown",
   "id": "b57be235",
   "metadata": {
    "papermill": {
     "duration": 0.040945,
     "end_time": "2022-05-04T13:24:31.724854",
     "exception": false,
     "start_time": "2022-05-04T13:24:31.683909",
     "status": "completed"
    },
    "tags": []
   },
   "source": [
    "# Decision Tree\n",
    "After running the below functions it was discovered that the best parameters are the following:\n",
    "* max_leaf_nodes=5  <br>\n",
    "* max_depth=2\n",
    "\n",
    "The max_depth report is below: <br>\n",
    "2  max_depth AUC decision tree:  0.8084\n",
    "MAE error:  0.2854\n",
    "\n",
    "3  max_depth AUC decision tree:  0.8203\n",
    "MAE error:  0.2656\n",
    "\n",
    "5  max_depth AUC decision tree:  0.8432\n",
    "MAE error:  0.2526\n",
    "\n",
    "7  max_depth AUC decision tree:  0.7847\n",
    "MAE error:  0.2573\n",
    "\n",
    "9  max_depth AUC decision tree:  0.7389\n",
    "MAE error:  0.2647\n",
    "\n",
    "10  max_depth AUC decision tree:  0.7423\n",
    "MAE error:  0.246\n",
    "\n",
    "12  max_depth AUC decision tree:  0.6952\n",
    "MAE error:  0.2747\n",
    "\n",
    "10  best max_depth with least error."
   ]
  },
  {
   "cell_type": "code",
   "execution_count": 16,
   "id": "c47881d2",
   "metadata": {
    "execution": {
     "iopub.execute_input": "2022-05-04T13:24:31.807542Z",
     "iopub.status.busy": "2022-05-04T13:24:31.806722Z",
     "iopub.status.idle": "2022-05-04T13:24:31.822792Z",
     "shell.execute_reply": "2022-05-04T13:24:31.822329Z"
    },
    "papermill": {
     "duration": 0.059348,
     "end_time": "2022-05-04T13:24:31.824423",
     "exception": false,
     "start_time": "2022-05-04T13:24:31.765075",
     "status": "completed"
    },
    "tags": []
   },
   "outputs": [],
   "source": [
    "from sklearn.tree import DecisionTreeRegressor\n",
    "\n",
    "#FIND best_tree_size LEAF NODES:\n",
    "def calcLeaf():\n",
    "    candidate_max_leaf_nodes = [5, 25, 50, 100, 250, 500]\n",
    "    maeDic={} #dictionary  key=leaf  mae=value\n",
    "    for leaf in candidate_max_leaf_nodes:\n",
    "        model = DecisionTreeRegressor(max_leaf_nodes=leaf, random_state=42)\n",
    "        model.fit(X_train, y_train)\n",
    "        y_pred = model.predict(X_test)\n",
    "        mae = mean_absolute_error(y_test, y_pred).round(4)\n",
    "        maeDic[leaf]=mae\n",
    "    print(maeDic)\n",
    "    maxLeafNodes = sorted(maeDic, key=lambda x : maeDic[x])[0]\n",
    "    print(maxLeafNodes)\n",
    "    \n",
    "def calcDepth():\n",
    "    max_depth_list = [2, 3, 5, 7, 9, 10, 12]\n",
    "    maeDic={} #dictionary  key=depth  mae=value\n",
    "    for d in max_depth_list:\n",
    "        model = DecisionTreeRegressor(max_leaf_nodes=100, max_depth=d, random_state=42)\n",
    "        model.fit(X_train, y_train)\n",
    "        y_pred = model.predict(X_test)\n",
    "        mae = mean_absolute_error(y_test, y_pred).round(4)\n",
    "        maeDic[d]=mae\n",
    "        treeAUC = round( metrics.roc_auc_score(y_test, y_pred), 4 ) \n",
    "        print(d, \" max_depth AUC decision tree: \", treeAUC)\n",
    "        print(\"MAE error: \", mae)\n",
    "        print(\"\")\n",
    "    best_max_depth = sorted(maeDic, key=lambda x : maeDic[x])[0]\n",
    "    print(best_max_depth, \" best max_depth with least error.\") #10\n",
    "    \n",
    "def automateTree():\n",
    "    print(\"Decision Tree Automating:\")\n",
    "    start=time.time()\n",
    "    candidate_max_leaf_nodes = [5, 25, 50, 75, 100, 150, 250, 400, 500]\n",
    "    max_depth_list = [2, 3, 5, 7, 9, 10, 11]\n",
    "    \n",
    "    #STORE DATA INTO LISTS FOR DATAFRAME LATER:\n",
    "    aucList=[]\n",
    "    maeList=[]\n",
    "    maxDepthList=[]\n",
    "    maxLeafNodesList=[]\n",
    "\n",
    "    for d in max_depth_list:\n",
    "        for leaf in candidate_max_leaf_nodes:\n",
    "            model = DecisionTreeRegressor(max_leaf_nodes=leaf, max_depth=d, random_state=42)\n",
    "            model.fit(X_train, y_train)\n",
    "            y_pred = model.predict(X_test)\n",
    "            mae = mean_absolute_error(y_test, y_pred).round(4)\n",
    "            treeR2 = r2_score(y_test, y_pred).round(4)\n",
    "            \n",
    "            aucList.append(treeR2)\n",
    "            maeList.append(mae)\n",
    "            maxDepthList.append(d)\n",
    "            maxLeafNodesList.append(leaf)\n",
    "           \n",
    "    df = pd.DataFrame(list(zip(aucList, maeList, maxDepthList, maxLeafNodesList)),\n",
    "                          columns=['AUC','MAE', 'MaxDepth', 'MaxLeafNodes'])\n",
    "    \n",
    "    df=df.sort_values(by=['AUC'], ascending=False)\n",
    "    print(\"Done. \", round(time.time()-start,4), \" seconds\")\n",
    "    return df\n",
    "#TURN FUNCTION OFF OR ON BELOW:   \n",
    "#calcDepth()\n",
    "#treeDF=automateTree()    \n",
    "#treeDF.head()"
   ]
  },
  {
   "cell_type": "markdown",
   "id": "dc8df560",
   "metadata": {
    "papermill": {
     "duration": 0.041684,
     "end_time": "2022-05-04T13:24:31.906136",
     "exception": false,
     "start_time": "2022-05-04T13:24:31.864452",
     "status": "completed"
    },
    "tags": []
   },
   "source": [
    "#### Final Decision Tree Prediction\n",
    "Inputs below such as best_depth by using functions above."
   ]
  },
  {
   "cell_type": "code",
   "execution_count": 17,
   "id": "0d9e53b7",
   "metadata": {
    "execution": {
     "iopub.execute_input": "2022-05-04T13:24:31.990234Z",
     "iopub.status.busy": "2022-05-04T13:24:31.989628Z",
     "iopub.status.idle": "2022-05-04T13:24:32.005219Z",
     "shell.execute_reply": "2022-05-04T13:24:32.003876Z"
    },
    "papermill": {
     "duration": 0.060121,
     "end_time": "2022-05-04T13:24:32.007106",
     "exception": false,
     "start_time": "2022-05-04T13:24:31.946985",
     "status": "completed"
    },
    "tags": []
   },
   "outputs": [
    {
     "name": "stdout",
     "output_type": "stream",
     "text": [
      "0.3667  R2 Decision Tree\n",
      "AUC for decision tree is:  0.8084\n"
     ]
    }
   ],
   "source": [
    "maxLeafNode=5\n",
    "best_depth=2\n",
    "    \n",
    "#MAKE PREDICTION:\n",
    "tree = DecisionTreeRegressor(max_depth=best_depth, max_leaf_nodes=maxLeafNode, random_state=42)\n",
    "tree.fit(X, y)\n",
    "y_pred = tree.predict(X_test)\n",
    "\n",
    "#AUC and r2 metric:\n",
    "treeR2 = r2_score(y_test, y_pred).round(4)\n",
    "print(treeR2, \" R2 Decision Tree\")\n",
    "treeAUC = round( metrics.roc_auc_score(y_test, y_pred), 4 ) \n",
    "print(\"AUC for decision tree is: \", treeAUC)\n",
    "\n",
    "def printReports(y_test, y_pred):\n",
    "    print(classification_report(y_test, y_pred))\n",
    "    print(confusion_matrix(y_test, y_pred))\n",
    "    treeMSE=np.sqrt(metrics.mean_squared_error(y_test, y_pred))\n",
    "    print(round(treeMSE, 4), \" is tree MSE \")"
   ]
  },
  {
   "cell_type": "markdown",
   "id": "1e5edc57",
   "metadata": {
    "papermill": {
     "duration": 0.042641,
     "end_time": "2022-05-04T13:24:32.092794",
     "exception": false,
     "start_time": "2022-05-04T13:24:32.050153",
     "status": "completed"
    },
    "tags": []
   },
   "source": [
    "# Random Forest\n",
    "Random forest AUC:  0.8503 which provided descent results in comparision to the other models. \n",
    "\n",
    "<b>n_estimates</b> <br>\n",
    "The best n_estimates with high AUC seems to be 400. Error is not impacted by the change of n_estimates. The full report can be seen below: <br>\n",
    "2  n_estimates |  0.7962  AUC |  0.24  MAE\n",
    "\n",
    "102  n_estimates |  0.843  AUC |  0.25  MAE\n",
    "\n",
    "202  n_estimates |  0.8459  AUC |  0.25  MAE\n",
    "\n",
    "302  n_estimates |  0.8492  AUC |  0.25  MAE\n",
    "\n",
    "402  n_estimates |  0.8505  AUC |  0.25  MAE\n",
    "\n",
    "502  n_estimates |  0.8489  AUC |  0.25  MAE"
   ]
  },
  {
   "cell_type": "code",
   "execution_count": 18,
   "id": "a7c65699",
   "metadata": {
    "execution": {
     "iopub.execute_input": "2022-05-04T13:24:32.176814Z",
     "iopub.status.busy": "2022-05-04T13:24:32.176547Z",
     "iopub.status.idle": "2022-05-04T13:24:32.183784Z",
     "shell.execute_reply": "2022-05-04T13:24:32.183085Z"
    },
    "papermill": {
     "duration": 0.050788,
     "end_time": "2022-05-04T13:24:32.185709",
     "exception": false,
     "start_time": "2022-05-04T13:24:32.134921",
     "status": "completed"
    },
    "tags": []
   },
   "outputs": [],
   "source": [
    "from sklearn.ensemble import RandomForestRegressor\n",
    "\n",
    "#Check for Error and find Best n_estimators:\n",
    "def checkMAE():\n",
    "    print(\"Starting MAE:\")\n",
    "    dMAE={} #dictionary of n_estimators as key and MAE as value:\n",
    "    for n in range(2, 601, 100):\n",
    "        forest = RandomForestRegressor(n_estimators=n, random_state = 0)\n",
    "        forest.fit(X_train, y_train)\n",
    "        y_pred = forest.predict(X_test)\n",
    "        \n",
    "        MAE=metrics.mean_absolute_error(y_test, y_pred).round(2)\n",
    "        forest_auc = round( metrics.roc_auc_score(y_test, y_pred), 4 ) \n",
    "        dMAE[n]=MAE\n",
    "        print(n, \" n_estimates | \", forest_auc, \" AUC | \", MAE, \" MAE\")\n",
    "        print(\"\")\n",
    "\n",
    "    dMAE=sorted(((v, k) for k, v in dMAE.items()), reverse=False)\n",
    "    print(dMAE)\n",
    "#checkMAE() #turn function on or off by uncommenting"
   ]
  },
  {
   "cell_type": "markdown",
   "id": "52040c58",
   "metadata": {
    "papermill": {
     "duration": 0.040401,
     "end_time": "2022-05-04T13:24:32.266194",
     "exception": false,
     "start_time": "2022-05-04T13:24:32.225793",
     "status": "completed"
    },
    "tags": []
   },
   "source": [
    "#### Final Random Forest Prediction"
   ]
  },
  {
   "cell_type": "code",
   "execution_count": 19,
   "id": "6cca8884",
   "metadata": {
    "execution": {
     "iopub.execute_input": "2022-05-04T13:24:32.348485Z",
     "iopub.status.busy": "2022-05-04T13:24:32.348239Z",
     "iopub.status.idle": "2022-05-04T13:24:33.248726Z",
     "shell.execute_reply": "2022-05-04T13:24:33.248251Z"
    },
    "papermill": {
     "duration": 0.945064,
     "end_time": "2022-05-04T13:24:33.251625",
     "exception": false,
     "start_time": "2022-05-04T13:24:32.306561",
     "status": "completed"
    },
    "tags": []
   },
   "outputs": [
    {
     "name": "stdout",
     "output_type": "stream",
     "text": [
      "Random forest AUC:  0.8503\n",
      "Random forest r2:  0.3877\n"
     ]
    }
   ],
   "source": [
    "forestEst=400\n",
    "forest = RandomForestRegressor(n_estimators=forestEst, random_state = 0)\n",
    "forest.fit(X_train, y_train)\n",
    "y_pred = forest.predict(X_test)\n",
    "\n",
    "#Print Metrics:\n",
    "forest_r2 = r2_score(y_test, y_pred).round(4)  \n",
    "forest_auc = round( metrics.roc_auc_score(y_test, y_pred), 4 ) \n",
    "print(\"Random forest AUC: \", forest_auc) \n",
    "print(\"Random forest r2: \", forest_r2)\n",
    "\n",
    "def forestReports():\n",
    "    mae=metrics.mean_absolute_error(y_test, y_pred).round(2)\n",
    "    print(\"Random forest MAE: \", mae)"
   ]
  },
  {
   "cell_type": "markdown",
   "id": "fef5d3ae",
   "metadata": {
    "papermill": {
     "duration": 0.040843,
     "end_time": "2022-05-04T13:24:33.335682",
     "exception": false,
     "start_time": "2022-05-04T13:24:33.294839",
     "status": "completed"
    },
    "tags": []
   },
   "source": [
    "# K-Nearest Neighbors (KNN)"
   ]
  },
  {
   "cell_type": "code",
   "execution_count": 20,
   "id": "d6f5ef53",
   "metadata": {
    "execution": {
     "iopub.execute_input": "2022-05-04T13:24:33.419677Z",
     "iopub.status.busy": "2022-05-04T13:24:33.418724Z",
     "iopub.status.idle": "2022-05-04T13:24:33.436001Z",
     "shell.execute_reply": "2022-05-04T13:24:33.435009Z"
    },
    "papermill": {
     "duration": 0.061156,
     "end_time": "2022-05-04T13:24:33.437708",
     "exception": false,
     "start_time": "2022-05-04T13:24:33.376552",
     "status": "completed"
    },
    "tags": []
   },
   "outputs": [
    {
     "name": "stdout",
     "output_type": "stream",
     "text": [
      "Knn AUC:  0.645\n"
     ]
    }
   ],
   "source": [
    "from sklearn.neighbors import KNeighborsClassifier\n",
    "\n",
    "def knnError():\n",
    "    print(\"Finding best n_neighbors value:\")\n",
    "    error_rates = []\n",
    "    for i in range(1, 10, 2): #Must be an odd number to break a tie\n",
    "        new_model = KNeighborsClassifier(n_neighbors = i)\n",
    "        new_model.fit(X_train, y_train)\n",
    "        new_predictions = new_model.predict(X_test)\n",
    "        error_rates.append(np.mean(new_predictions != y_test))\n",
    "    plt.figure(figsize=(16,12))\n",
    "    plt.plot(error_rates)\n",
    "\n",
    "def knnModel():\n",
    "    #Train the model and make predictions:\n",
    "    knn = KNeighborsClassifier(n_neighbors =5) \n",
    "    knn.fit(X_train, y_train)\n",
    "    knnPredict = knn.predict_proba(X_test)[::,1]\n",
    "\n",
    "    #calculate AUC of model\n",
    "    knn_auc = round( metrics.roc_auc_score(y_test, knnPredict), 4 ) \n",
    "    print(\"Knn AUC: \", knn_auc)\n",
    "\n",
    "def knnReports():\n",
    "    acc = metrics.accuracy_score(y_test_data, knnPredict)\n",
    "    print(confusion_matrix(y_test, knnPredict))\n",
    "    print(classification_report(y_test, knnPredict))\n",
    "    print(confusion_matrix(y_test, knnPredict))\n",
    "\n",
    "knnModel()"
   ]
  },
  {
   "cell_type": "markdown",
   "id": "995c0df4",
   "metadata": {
    "papermill": {
     "duration": 0.041364,
     "end_time": "2022-05-04T13:24:33.520399",
     "exception": false,
     "start_time": "2022-05-04T13:24:33.479035",
     "status": "completed"
    },
    "tags": []
   },
   "source": [
    "# Test Data"
   ]
  },
  {
   "cell_type": "code",
   "execution_count": 21,
   "id": "4bbdd009",
   "metadata": {
    "execution": {
     "iopub.execute_input": "2022-05-04T13:24:33.604254Z",
     "iopub.status.busy": "2022-05-04T13:24:33.603800Z",
     "iopub.status.idle": "2022-05-04T13:24:33.626881Z",
     "shell.execute_reply": "2022-05-04T13:24:33.626383Z"
    },
    "papermill": {
     "duration": 0.067295,
     "end_time": "2022-05-04T13:24:33.628431",
     "exception": false,
     "start_time": "2022-05-04T13:24:33.561136",
     "status": "completed"
    },
    "tags": []
   },
   "outputs": [
    {
     "data": {
      "text/html": [
       "<div>\n",
       "<style scoped>\n",
       "    .dataframe tbody tr th:only-of-type {\n",
       "        vertical-align: middle;\n",
       "    }\n",
       "\n",
       "    .dataframe tbody tr th {\n",
       "        vertical-align: top;\n",
       "    }\n",
       "\n",
       "    .dataframe thead th {\n",
       "        text-align: right;\n",
       "    }\n",
       "</style>\n",
       "<table border=\"1\" class=\"dataframe\">\n",
       "  <thead>\n",
       "    <tr style=\"text-align: right;\">\n",
       "      <th></th>\n",
       "      <th>PassengerId</th>\n",
       "      <th>Pclass</th>\n",
       "      <th>Sex</th>\n",
       "      <th>Age</th>\n",
       "      <th>SibSp</th>\n",
       "      <th>Parch</th>\n",
       "      <th>Fare</th>\n",
       "    </tr>\n",
       "  </thead>\n",
       "  <tbody>\n",
       "    <tr>\n",
       "      <th>0</th>\n",
       "      <td>892</td>\n",
       "      <td>3</td>\n",
       "      <td>1</td>\n",
       "      <td>34.5</td>\n",
       "      <td>0</td>\n",
       "      <td>0</td>\n",
       "      <td>7.8292</td>\n",
       "    </tr>\n",
       "    <tr>\n",
       "      <th>1</th>\n",
       "      <td>893</td>\n",
       "      <td>3</td>\n",
       "      <td>0</td>\n",
       "      <td>47.0</td>\n",
       "      <td>1</td>\n",
       "      <td>0</td>\n",
       "      <td>7.0000</td>\n",
       "    </tr>\n",
       "    <tr>\n",
       "      <th>2</th>\n",
       "      <td>894</td>\n",
       "      <td>2</td>\n",
       "      <td>1</td>\n",
       "      <td>62.0</td>\n",
       "      <td>0</td>\n",
       "      <td>0</td>\n",
       "      <td>9.6875</td>\n",
       "    </tr>\n",
       "    <tr>\n",
       "      <th>3</th>\n",
       "      <td>895</td>\n",
       "      <td>3</td>\n",
       "      <td>1</td>\n",
       "      <td>27.0</td>\n",
       "      <td>0</td>\n",
       "      <td>0</td>\n",
       "      <td>8.6625</td>\n",
       "    </tr>\n",
       "    <tr>\n",
       "      <th>4</th>\n",
       "      <td>896</td>\n",
       "      <td>3</td>\n",
       "      <td>0</td>\n",
       "      <td>22.0</td>\n",
       "      <td>1</td>\n",
       "      <td>1</td>\n",
       "      <td>12.2875</td>\n",
       "    </tr>\n",
       "  </tbody>\n",
       "</table>\n",
       "</div>"
      ],
      "text/plain": [
       "   PassengerId  Pclass  Sex   Age  SibSp  Parch     Fare\n",
       "0          892       3    1  34.5      0      0   7.8292\n",
       "1          893       3    0  47.0      1      0   7.0000\n",
       "2          894       2    1  62.0      0      0   9.6875\n",
       "3          895       3    1  27.0      0      0   8.6625\n",
       "4          896       3    0  22.0      1      1  12.2875"
      ]
     },
     "execution_count": 21,
     "metadata": {},
     "output_type": "execute_result"
    }
   ],
   "source": [
    "test=pd.read_csv(test)\n",
    "features=list(X.columns)\n",
    "test=test[features]\n",
    "replace_dict= {'female':0,'male':1}\n",
    "test['Sex']=test['Sex'].map(replace_dict)\n",
    "test=test.fillna(test.mean())\n",
    "test.head()"
   ]
  },
  {
   "cell_type": "markdown",
   "id": "5fcfc0be",
   "metadata": {
    "papermill": {
     "duration": 0.041819,
     "end_time": "2022-05-04T13:24:33.712496",
     "exception": false,
     "start_time": "2022-05-04T13:24:33.670677",
     "status": "completed"
    },
    "tags": []
   },
   "source": [
    "# Make Final Prediction"
   ]
  },
  {
   "cell_type": "code",
   "execution_count": 22,
   "id": "5de2ecf6",
   "metadata": {
    "execution": {
     "iopub.execute_input": "2022-05-04T13:24:33.798404Z",
     "iopub.status.busy": "2022-05-04T13:24:33.797900Z",
     "iopub.status.idle": "2022-05-04T13:24:33.809844Z",
     "shell.execute_reply": "2022-05-04T13:24:33.809039Z"
    },
    "papermill": {
     "duration": 0.056635,
     "end_time": "2022-05-04T13:24:33.811732",
     "exception": false,
     "start_time": "2022-05-04T13:24:33.755097",
     "status": "completed"
    },
    "tags": []
   },
   "outputs": [
    {
     "data": {
      "text/html": [
       "<div>\n",
       "<style scoped>\n",
       "    .dataframe tbody tr th:only-of-type {\n",
       "        vertical-align: middle;\n",
       "    }\n",
       "\n",
       "    .dataframe tbody tr th {\n",
       "        vertical-align: top;\n",
       "    }\n",
       "\n",
       "    .dataframe thead th {\n",
       "        text-align: right;\n",
       "    }\n",
       "</style>\n",
       "<table border=\"1\" class=\"dataframe\">\n",
       "  <thead>\n",
       "    <tr style=\"text-align: right;\">\n",
       "      <th></th>\n",
       "      <th>PassengerId</th>\n",
       "      <th>Survived</th>\n",
       "    </tr>\n",
       "  </thead>\n",
       "  <tbody>\n",
       "    <tr>\n",
       "      <th>0</th>\n",
       "      <td>892</td>\n",
       "      <td>0</td>\n",
       "    </tr>\n",
       "    <tr>\n",
       "      <th>1</th>\n",
       "      <td>893</td>\n",
       "      <td>0</td>\n",
       "    </tr>\n",
       "    <tr>\n",
       "      <th>2</th>\n",
       "      <td>894</td>\n",
       "      <td>0</td>\n",
       "    </tr>\n",
       "    <tr>\n",
       "      <th>3</th>\n",
       "      <td>895</td>\n",
       "      <td>0</td>\n",
       "    </tr>\n",
       "    <tr>\n",
       "      <th>4</th>\n",
       "      <td>896</td>\n",
       "      <td>1</td>\n",
       "    </tr>\n",
       "    <tr>\n",
       "      <th>5</th>\n",
       "      <td>897</td>\n",
       "      <td>0</td>\n",
       "    </tr>\n",
       "    <tr>\n",
       "      <th>6</th>\n",
       "      <td>898</td>\n",
       "      <td>1</td>\n",
       "    </tr>\n",
       "    <tr>\n",
       "      <th>7</th>\n",
       "      <td>899</td>\n",
       "      <td>0</td>\n",
       "    </tr>\n",
       "    <tr>\n",
       "      <th>8</th>\n",
       "      <td>900</td>\n",
       "      <td>1</td>\n",
       "    </tr>\n",
       "    <tr>\n",
       "      <th>9</th>\n",
       "      <td>901</td>\n",
       "      <td>0</td>\n",
       "    </tr>\n",
       "  </tbody>\n",
       "</table>\n",
       "</div>"
      ],
      "text/plain": [
       "   PassengerId  Survived\n",
       "0          892         0\n",
       "1          893         0\n",
       "2          894         0\n",
       "3          895         0\n",
       "4          896         1\n",
       "5          897         0\n",
       "6          898         1\n",
       "7          899         0\n",
       "8          900         1\n",
       "9          901         0"
      ]
     },
     "execution_count": 22,
     "metadata": {},
     "output_type": "execute_result"
    }
   ],
   "source": [
    "test_predictions = logReg.predict(test)\n",
    "#test_predictions=np.where(test_predictions<.5, 0, test_predictions)\n",
    "#test_predictions=np.where(test_predictions>.5, 1, test_predictions)\n",
    "passID=test['PassengerId']\n",
    "tupleData = list(zip(passID, test_predictions))\n",
    "output = pd.DataFrame(tupleData, columns = ['PassengerId', 'Survived'])\n",
    "output.head(10)"
   ]
  },
  {
   "cell_type": "code",
   "execution_count": 23,
   "id": "28cf73f6",
   "metadata": {
    "execution": {
     "iopub.execute_input": "2022-05-04T13:24:33.898770Z",
     "iopub.status.busy": "2022-05-04T13:24:33.898273Z",
     "iopub.status.idle": "2022-05-04T13:24:33.907360Z",
     "shell.execute_reply": "2022-05-04T13:24:33.906820Z"
    },
    "papermill": {
     "duration": 0.05392,
     "end_time": "2022-05-04T13:24:33.909104",
     "exception": false,
     "start_time": "2022-05-04T13:24:33.855184",
     "status": "completed"
    },
    "tags": []
   },
   "outputs": [],
   "source": [
    "sample=r'/kaggle/input/titanic/gender_submission.csv'\n",
    "sample=pd.read_csv(sample)"
   ]
  },
  {
   "cell_type": "markdown",
   "id": "a96208e1",
   "metadata": {
    "papermill": {
     "duration": 0.041425,
     "end_time": "2022-05-04T13:24:33.993382",
     "exception": false,
     "start_time": "2022-05-04T13:24:33.951957",
     "status": "completed"
    },
    "tags": []
   },
   "source": [
    "# Submit Predictions"
   ]
  },
  {
   "cell_type": "code",
   "execution_count": 24,
   "id": "f80e3eaa",
   "metadata": {
    "execution": {
     "iopub.execute_input": "2022-05-04T13:24:34.080847Z",
     "iopub.status.busy": "2022-05-04T13:24:34.080342Z",
     "iopub.status.idle": "2022-05-04T13:24:34.088919Z",
     "shell.execute_reply": "2022-05-04T13:24:34.087910Z"
    },
    "papermill": {
     "duration": 0.05598,
     "end_time": "2022-05-04T13:24:34.091349",
     "exception": false,
     "start_time": "2022-05-04T13:24:34.035369",
     "status": "completed"
    },
    "tags": []
   },
   "outputs": [
    {
     "name": "stdout",
     "output_type": "stream",
     "text": [
      "Your submission was successfully saved!\n"
     ]
    }
   ],
   "source": [
    "output.to_csv('submission.csv', index=False)\n",
    "print(\"Your submission was successfully saved!\")"
   ]
  }
 ],
 "metadata": {
  "kernelspec": {
   "display_name": "Python 3",
   "language": "python",
   "name": "python3"
  },
  "language_info": {
   "codemirror_mode": {
    "name": "ipython",
    "version": 3
   },
   "file_extension": ".py",
   "mimetype": "text/x-python",
   "name": "python",
   "nbconvert_exporter": "python",
   "pygments_lexer": "ipython3",
   "version": "3.7.12"
  },
  "papermill": {
   "default_parameters": {},
   "duration": 19.587461,
   "end_time": "2022-05-04T13:24:36.753435",
   "environment_variables": {},
   "exception": null,
   "input_path": "__notebook__.ipynb",
   "output_path": "__notebook__.ipynb",
   "parameters": {},
   "start_time": "2022-05-04T13:24:17.165974",
   "version": "2.3.4"
  }
 },
 "nbformat": 4,
 "nbformat_minor": 5
}
