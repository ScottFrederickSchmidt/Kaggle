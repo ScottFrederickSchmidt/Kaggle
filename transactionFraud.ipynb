{
 "cells": [
  {
   "cell_type": "markdown",
   "id": "a9e13cae",
   "metadata": {
    "papermill": {
     "duration": 0.028123,
     "end_time": "2022-05-04T13:41:36.271918",
     "exception": false,
     "start_time": "2022-05-04T13:41:36.243795",
     "status": "completed"
    },
    "tags": []
   },
   "source": [
    "# Detect Credit Card Fraud\n",
    "Machine learning will be used to detect fraudulent credit card transaction. Data is from transactions made by credit cards in September 2013 by European cardholders which can be found here: https://www.kaggle.com/mlg-ulb/creditcardfraud.\n",
    "\n",
    "The final predictive models using AUC is:\n",
    "* KNN 0.9844\n",
    "* Linear Regression 0.9844\n",
    "* AUC:  0.941\n",
    "* Gradient boosting regression 0.93\n",
    "* Decision tree is: 0.9338\n",
    "* Logistic regression 0.905\n",
    "* SVM: .50 \n",
    "\n",
    "The train dataset has 5 rows × 31 columns with the first five rows can be seen below in the next section."
   ]
  },
  {
   "cell_type": "code",
   "execution_count": 1,
   "id": "83a344c2",
   "metadata": {
    "execution": {
     "iopub.execute_input": "2022-05-04T13:41:36.333412Z",
     "iopub.status.busy": "2022-05-04T13:41:36.331818Z",
     "iopub.status.idle": "2022-05-04T13:41:43.710571Z",
     "shell.execute_reply": "2022-05-04T13:41:43.711148Z",
     "shell.execute_reply.started": "2022-05-04T13:38:59.514323Z"
    },
    "papermill": {
     "duration": 7.410701,
     "end_time": "2022-05-04T13:41:43.711512",
     "exception": false,
     "start_time": "2022-05-04T13:41:36.300811",
     "status": "completed"
    },
    "tags": []
   },
   "outputs": [
    {
     "data": {
      "text/html": [
       "<div>\n",
       "<style scoped>\n",
       "    .dataframe tbody tr th:only-of-type {\n",
       "        vertical-align: middle;\n",
       "    }\n",
       "\n",
       "    .dataframe tbody tr th {\n",
       "        vertical-align: top;\n",
       "    }\n",
       "\n",
       "    .dataframe thead th {\n",
       "        text-align: right;\n",
       "    }\n",
       "</style>\n",
       "<table border=\"1\" class=\"dataframe\">\n",
       "  <thead>\n",
       "    <tr style=\"text-align: right;\">\n",
       "      <th></th>\n",
       "      <th>Time</th>\n",
       "      <th>V1</th>\n",
       "      <th>V2</th>\n",
       "      <th>V3</th>\n",
       "      <th>V4</th>\n",
       "      <th>V5</th>\n",
       "      <th>V6</th>\n",
       "      <th>V7</th>\n",
       "      <th>V8</th>\n",
       "      <th>V9</th>\n",
       "      <th>...</th>\n",
       "      <th>V21</th>\n",
       "      <th>V22</th>\n",
       "      <th>V23</th>\n",
       "      <th>V24</th>\n",
       "      <th>V25</th>\n",
       "      <th>V26</th>\n",
       "      <th>V27</th>\n",
       "      <th>V28</th>\n",
       "      <th>Amount</th>\n",
       "      <th>Class</th>\n",
       "    </tr>\n",
       "  </thead>\n",
       "  <tbody>\n",
       "    <tr>\n",
       "      <th>0</th>\n",
       "      <td>0.0</td>\n",
       "      <td>-1.359807</td>\n",
       "      <td>-0.072781</td>\n",
       "      <td>2.536347</td>\n",
       "      <td>1.378155</td>\n",
       "      <td>-0.338321</td>\n",
       "      <td>0.462388</td>\n",
       "      <td>0.239599</td>\n",
       "      <td>0.098698</td>\n",
       "      <td>0.363787</td>\n",
       "      <td>...</td>\n",
       "      <td>-0.018307</td>\n",
       "      <td>0.277838</td>\n",
       "      <td>-0.110474</td>\n",
       "      <td>0.066928</td>\n",
       "      <td>0.128539</td>\n",
       "      <td>-0.189115</td>\n",
       "      <td>0.133558</td>\n",
       "      <td>-0.021053</td>\n",
       "      <td>149.62</td>\n",
       "      <td>0</td>\n",
       "    </tr>\n",
       "    <tr>\n",
       "      <th>1</th>\n",
       "      <td>0.0</td>\n",
       "      <td>1.191857</td>\n",
       "      <td>0.266151</td>\n",
       "      <td>0.166480</td>\n",
       "      <td>0.448154</td>\n",
       "      <td>0.060018</td>\n",
       "      <td>-0.082361</td>\n",
       "      <td>-0.078803</td>\n",
       "      <td>0.085102</td>\n",
       "      <td>-0.255425</td>\n",
       "      <td>...</td>\n",
       "      <td>-0.225775</td>\n",
       "      <td>-0.638672</td>\n",
       "      <td>0.101288</td>\n",
       "      <td>-0.339846</td>\n",
       "      <td>0.167170</td>\n",
       "      <td>0.125895</td>\n",
       "      <td>-0.008983</td>\n",
       "      <td>0.014724</td>\n",
       "      <td>2.69</td>\n",
       "      <td>0</td>\n",
       "    </tr>\n",
       "    <tr>\n",
       "      <th>2</th>\n",
       "      <td>1.0</td>\n",
       "      <td>-1.358354</td>\n",
       "      <td>-1.340163</td>\n",
       "      <td>1.773209</td>\n",
       "      <td>0.379780</td>\n",
       "      <td>-0.503198</td>\n",
       "      <td>1.800499</td>\n",
       "      <td>0.791461</td>\n",
       "      <td>0.247676</td>\n",
       "      <td>-1.514654</td>\n",
       "      <td>...</td>\n",
       "      <td>0.247998</td>\n",
       "      <td>0.771679</td>\n",
       "      <td>0.909412</td>\n",
       "      <td>-0.689281</td>\n",
       "      <td>-0.327642</td>\n",
       "      <td>-0.139097</td>\n",
       "      <td>-0.055353</td>\n",
       "      <td>-0.059752</td>\n",
       "      <td>378.66</td>\n",
       "      <td>0</td>\n",
       "    </tr>\n",
       "    <tr>\n",
       "      <th>3</th>\n",
       "      <td>1.0</td>\n",
       "      <td>-0.966272</td>\n",
       "      <td>-0.185226</td>\n",
       "      <td>1.792993</td>\n",
       "      <td>-0.863291</td>\n",
       "      <td>-0.010309</td>\n",
       "      <td>1.247203</td>\n",
       "      <td>0.237609</td>\n",
       "      <td>0.377436</td>\n",
       "      <td>-1.387024</td>\n",
       "      <td>...</td>\n",
       "      <td>-0.108300</td>\n",
       "      <td>0.005274</td>\n",
       "      <td>-0.190321</td>\n",
       "      <td>-1.175575</td>\n",
       "      <td>0.647376</td>\n",
       "      <td>-0.221929</td>\n",
       "      <td>0.062723</td>\n",
       "      <td>0.061458</td>\n",
       "      <td>123.50</td>\n",
       "      <td>0</td>\n",
       "    </tr>\n",
       "    <tr>\n",
       "      <th>4</th>\n",
       "      <td>2.0</td>\n",
       "      <td>-1.158233</td>\n",
       "      <td>0.877737</td>\n",
       "      <td>1.548718</td>\n",
       "      <td>0.403034</td>\n",
       "      <td>-0.407193</td>\n",
       "      <td>0.095921</td>\n",
       "      <td>0.592941</td>\n",
       "      <td>-0.270533</td>\n",
       "      <td>0.817739</td>\n",
       "      <td>...</td>\n",
       "      <td>-0.009431</td>\n",
       "      <td>0.798278</td>\n",
       "      <td>-0.137458</td>\n",
       "      <td>0.141267</td>\n",
       "      <td>-0.206010</td>\n",
       "      <td>0.502292</td>\n",
       "      <td>0.219422</td>\n",
       "      <td>0.215153</td>\n",
       "      <td>69.99</td>\n",
       "      <td>0</td>\n",
       "    </tr>\n",
       "  </tbody>\n",
       "</table>\n",
       "<p>5 rows × 31 columns</p>\n",
       "</div>"
      ],
      "text/plain": [
       "   Time        V1        V2        V3        V4        V5        V6        V7  \\\n",
       "0   0.0 -1.359807 -0.072781  2.536347  1.378155 -0.338321  0.462388  0.239599   \n",
       "1   0.0  1.191857  0.266151  0.166480  0.448154  0.060018 -0.082361 -0.078803   \n",
       "2   1.0 -1.358354 -1.340163  1.773209  0.379780 -0.503198  1.800499  0.791461   \n",
       "3   1.0 -0.966272 -0.185226  1.792993 -0.863291 -0.010309  1.247203  0.237609   \n",
       "4   2.0 -1.158233  0.877737  1.548718  0.403034 -0.407193  0.095921  0.592941   \n",
       "\n",
       "         V8        V9  ...       V21       V22       V23       V24       V25  \\\n",
       "0  0.098698  0.363787  ... -0.018307  0.277838 -0.110474  0.066928  0.128539   \n",
       "1  0.085102 -0.255425  ... -0.225775 -0.638672  0.101288 -0.339846  0.167170   \n",
       "2  0.247676 -1.514654  ...  0.247998  0.771679  0.909412 -0.689281 -0.327642   \n",
       "3  0.377436 -1.387024  ... -0.108300  0.005274 -0.190321 -1.175575  0.647376   \n",
       "4 -0.270533  0.817739  ... -0.009431  0.798278 -0.137458  0.141267 -0.206010   \n",
       "\n",
       "        V26       V27       V28  Amount  Class  \n",
       "0 -0.189115  0.133558 -0.021053  149.62      0  \n",
       "1  0.125895 -0.008983  0.014724    2.69      0  \n",
       "2 -0.139097 -0.055353 -0.059752  378.66      0  \n",
       "3 -0.221929  0.062723  0.061458  123.50      0  \n",
       "4  0.502292  0.219422  0.215153   69.99      0  \n",
       "\n",
       "[5 rows x 31 columns]"
      ]
     },
     "execution_count": 1,
     "metadata": {},
     "output_type": "execute_result"
    }
   ],
   "source": [
    "import numpy as np\n",
    "import pandas as pd\n",
    "import seaborn as sns\n",
    "import matplotlib.pyplot as plt\n",
    "from sklearn.model_selection import train_test_split, cross_validate\n",
    "from sklearn.metrics import mean_absolute_error, mean_squared_error\n",
    "from sklearn.datasets import make_classification\n",
    "from sklearn import ensemble\n",
    "from sklearn import metrics\n",
    "\n",
    "creditCard=r'/kaggle/input/creditcardfraud/creditcard.csv'\n",
    "#creditCard=r'C:\\Users\\sschm\\Desktop\\Kaggle\\creditcard.csv'\n",
    "data=pd.read_csv(creditCard)\n",
    "data.head()"
   ]
  },
  {
   "cell_type": "markdown",
   "id": "ebe63c3c",
   "metadata": {
    "papermill": {
     "duration": 0.028,
     "end_time": "2022-05-04T13:41:43.767152",
     "exception": false,
     "start_time": "2022-05-04T13:41:43.739152",
     "status": "completed"
    },
    "tags": []
   },
   "source": [
    "## Numeric DataFrame"
   ]
  },
  {
   "cell_type": "code",
   "execution_count": 2,
   "id": "1568d864",
   "metadata": {
    "execution": {
     "iopub.execute_input": "2022-05-04T13:41:43.836179Z",
     "iopub.status.busy": "2022-05-04T13:41:43.835344Z",
     "iopub.status.idle": "2022-05-04T13:41:43.916261Z",
     "shell.execute_reply": "2022-05-04T13:41:43.917148Z",
     "shell.execute_reply.started": "2022-05-04T13:39:05.858748Z"
    },
    "papermill": {
     "duration": 0.121564,
     "end_time": "2022-05-04T13:41:43.917393",
     "exception": false,
     "start_time": "2022-05-04T13:41:43.795829",
     "status": "completed"
    },
    "tags": []
   },
   "outputs": [
    {
     "data": {
      "text/html": [
       "<div>\n",
       "<style scoped>\n",
       "    .dataframe tbody tr th:only-of-type {\n",
       "        vertical-align: middle;\n",
       "    }\n",
       "\n",
       "    .dataframe tbody tr th {\n",
       "        vertical-align: top;\n",
       "    }\n",
       "\n",
       "    .dataframe thead th {\n",
       "        text-align: right;\n",
       "    }\n",
       "</style>\n",
       "<table border=\"1\" class=\"dataframe\">\n",
       "  <thead>\n",
       "    <tr style=\"text-align: right;\">\n",
       "      <th></th>\n",
       "      <th>Time</th>\n",
       "      <th>V1</th>\n",
       "      <th>V2</th>\n",
       "      <th>V3</th>\n",
       "      <th>V4</th>\n",
       "      <th>V5</th>\n",
       "      <th>V6</th>\n",
       "      <th>V7</th>\n",
       "      <th>V8</th>\n",
       "      <th>V9</th>\n",
       "      <th>...</th>\n",
       "      <th>V21</th>\n",
       "      <th>V22</th>\n",
       "      <th>V23</th>\n",
       "      <th>V24</th>\n",
       "      <th>V25</th>\n",
       "      <th>V26</th>\n",
       "      <th>V27</th>\n",
       "      <th>V28</th>\n",
       "      <th>Amount</th>\n",
       "      <th>Class</th>\n",
       "    </tr>\n",
       "  </thead>\n",
       "  <tbody>\n",
       "    <tr>\n",
       "      <th>0</th>\n",
       "      <td>0.0</td>\n",
       "      <td>-1.359807</td>\n",
       "      <td>-0.072781</td>\n",
       "      <td>2.536347</td>\n",
       "      <td>1.378155</td>\n",
       "      <td>-0.338321</td>\n",
       "      <td>0.462388</td>\n",
       "      <td>0.239599</td>\n",
       "      <td>0.098698</td>\n",
       "      <td>0.363787</td>\n",
       "      <td>...</td>\n",
       "      <td>-0.018307</td>\n",
       "      <td>0.277838</td>\n",
       "      <td>-0.110474</td>\n",
       "      <td>0.066928</td>\n",
       "      <td>0.128539</td>\n",
       "      <td>-0.189115</td>\n",
       "      <td>0.133558</td>\n",
       "      <td>-0.021053</td>\n",
       "      <td>149.62</td>\n",
       "      <td>0</td>\n",
       "    </tr>\n",
       "    <tr>\n",
       "      <th>1</th>\n",
       "      <td>0.0</td>\n",
       "      <td>1.191857</td>\n",
       "      <td>0.266151</td>\n",
       "      <td>0.166480</td>\n",
       "      <td>0.448154</td>\n",
       "      <td>0.060018</td>\n",
       "      <td>-0.082361</td>\n",
       "      <td>-0.078803</td>\n",
       "      <td>0.085102</td>\n",
       "      <td>-0.255425</td>\n",
       "      <td>...</td>\n",
       "      <td>-0.225775</td>\n",
       "      <td>-0.638672</td>\n",
       "      <td>0.101288</td>\n",
       "      <td>-0.339846</td>\n",
       "      <td>0.167170</td>\n",
       "      <td>0.125895</td>\n",
       "      <td>-0.008983</td>\n",
       "      <td>0.014724</td>\n",
       "      <td>2.69</td>\n",
       "      <td>0</td>\n",
       "    </tr>\n",
       "    <tr>\n",
       "      <th>2</th>\n",
       "      <td>1.0</td>\n",
       "      <td>-1.358354</td>\n",
       "      <td>-1.340163</td>\n",
       "      <td>1.773209</td>\n",
       "      <td>0.379780</td>\n",
       "      <td>-0.503198</td>\n",
       "      <td>1.800499</td>\n",
       "      <td>0.791461</td>\n",
       "      <td>0.247676</td>\n",
       "      <td>-1.514654</td>\n",
       "      <td>...</td>\n",
       "      <td>0.247998</td>\n",
       "      <td>0.771679</td>\n",
       "      <td>0.909412</td>\n",
       "      <td>-0.689281</td>\n",
       "      <td>-0.327642</td>\n",
       "      <td>-0.139097</td>\n",
       "      <td>-0.055353</td>\n",
       "      <td>-0.059752</td>\n",
       "      <td>378.66</td>\n",
       "      <td>0</td>\n",
       "    </tr>\n",
       "    <tr>\n",
       "      <th>3</th>\n",
       "      <td>1.0</td>\n",
       "      <td>-0.966272</td>\n",
       "      <td>-0.185226</td>\n",
       "      <td>1.792993</td>\n",
       "      <td>-0.863291</td>\n",
       "      <td>-0.010309</td>\n",
       "      <td>1.247203</td>\n",
       "      <td>0.237609</td>\n",
       "      <td>0.377436</td>\n",
       "      <td>-1.387024</td>\n",
       "      <td>...</td>\n",
       "      <td>-0.108300</td>\n",
       "      <td>0.005274</td>\n",
       "      <td>-0.190321</td>\n",
       "      <td>-1.175575</td>\n",
       "      <td>0.647376</td>\n",
       "      <td>-0.221929</td>\n",
       "      <td>0.062723</td>\n",
       "      <td>0.061458</td>\n",
       "      <td>123.50</td>\n",
       "      <td>0</td>\n",
       "    </tr>\n",
       "    <tr>\n",
       "      <th>4</th>\n",
       "      <td>2.0</td>\n",
       "      <td>-1.158233</td>\n",
       "      <td>0.877737</td>\n",
       "      <td>1.548718</td>\n",
       "      <td>0.403034</td>\n",
       "      <td>-0.407193</td>\n",
       "      <td>0.095921</td>\n",
       "      <td>0.592941</td>\n",
       "      <td>-0.270533</td>\n",
       "      <td>0.817739</td>\n",
       "      <td>...</td>\n",
       "      <td>-0.009431</td>\n",
       "      <td>0.798278</td>\n",
       "      <td>-0.137458</td>\n",
       "      <td>0.141267</td>\n",
       "      <td>-0.206010</td>\n",
       "      <td>0.502292</td>\n",
       "      <td>0.219422</td>\n",
       "      <td>0.215153</td>\n",
       "      <td>69.99</td>\n",
       "      <td>0</td>\n",
       "    </tr>\n",
       "  </tbody>\n",
       "</table>\n",
       "<p>5 rows × 31 columns</p>\n",
       "</div>"
      ],
      "text/plain": [
       "   Time        V1        V2        V3        V4        V5        V6        V7  \\\n",
       "0   0.0 -1.359807 -0.072781  2.536347  1.378155 -0.338321  0.462388  0.239599   \n",
       "1   0.0  1.191857  0.266151  0.166480  0.448154  0.060018 -0.082361 -0.078803   \n",
       "2   1.0 -1.358354 -1.340163  1.773209  0.379780 -0.503198  1.800499  0.791461   \n",
       "3   1.0 -0.966272 -0.185226  1.792993 -0.863291 -0.010309  1.247203  0.237609   \n",
       "4   2.0 -1.158233  0.877737  1.548718  0.403034 -0.407193  0.095921  0.592941   \n",
       "\n",
       "         V8        V9  ...       V21       V22       V23       V24       V25  \\\n",
       "0  0.098698  0.363787  ... -0.018307  0.277838 -0.110474  0.066928  0.128539   \n",
       "1  0.085102 -0.255425  ... -0.225775 -0.638672  0.101288 -0.339846  0.167170   \n",
       "2  0.247676 -1.514654  ...  0.247998  0.771679  0.909412 -0.689281 -0.327642   \n",
       "3  0.377436 -1.387024  ... -0.108300  0.005274 -0.190321 -1.175575  0.647376   \n",
       "4 -0.270533  0.817739  ... -0.009431  0.798278 -0.137458  0.141267 -0.206010   \n",
       "\n",
       "        V26       V27       V28  Amount  Class  \n",
       "0 -0.189115  0.133558 -0.021053  149.62      0  \n",
       "1  0.125895 -0.008983  0.014724    2.69      0  \n",
       "2 -0.139097 -0.055353 -0.059752  378.66      0  \n",
       "3 -0.221929  0.062723  0.061458  123.50      0  \n",
       "4  0.502292  0.219422  0.215153   69.99      0  \n",
       "\n",
       "[5 rows x 31 columns]"
      ]
     },
     "execution_count": 2,
     "metadata": {},
     "output_type": "execute_result"
    }
   ],
   "source": [
    "numerics = ['int16', 'int32', 'int64', 'float16', 'float32', 'float64']\n",
    "df = data.select_dtypes(include=numerics)\n",
    "df.head()"
   ]
  },
  {
   "cell_type": "markdown",
   "id": "2699a8e6",
   "metadata": {
    "papermill": {
     "duration": 0.029326,
     "end_time": "2022-05-04T13:41:43.976062",
     "exception": false,
     "start_time": "2022-05-04T13:41:43.946736",
     "status": "completed"
    },
    "tags": []
   },
   "source": [
    "## Find missing data\n",
    "There is no missing data."
   ]
  },
  {
   "cell_type": "code",
   "execution_count": 3,
   "id": "d5d14b62",
   "metadata": {
    "execution": {
     "iopub.execute_input": "2022-05-04T13:41:44.040201Z",
     "iopub.status.busy": "2022-05-04T13:41:44.039308Z",
     "iopub.status.idle": "2022-05-04T13:41:44.067742Z",
     "shell.execute_reply": "2022-05-04T13:41:44.068601Z",
     "shell.execute_reply.started": "2022-05-04T13:39:05.925173Z"
    },
    "papermill": {
     "duration": 0.063981,
     "end_time": "2022-05-04T13:41:44.068921",
     "exception": false,
     "start_time": "2022-05-04T13:41:44.004940",
     "status": "completed"
    },
    "tags": []
   },
   "outputs": [
    {
     "name": "stdout",
     "output_type": "stream",
     "text": [
      "Missing data by column:\n",
      "Time      0.0\n",
      "V16       0.0\n",
      "Amount    0.0\n",
      "V28       0.0\n",
      "V27       0.0\n",
      "dtype: float64\n"
     ]
    }
   ],
   "source": [
    "print(\"Missing data by column:\")\n",
    "findNA=df.isnull().sum().sort_values(ascending=False)/len(data)\n",
    "print(findNA.head()) #There are no missing values"
   ]
  },
  {
   "cell_type": "markdown",
   "id": "62c2cc23",
   "metadata": {
    "papermill": {
     "duration": 0.02762,
     "end_time": "2022-05-04T13:41:44.125242",
     "exception": false,
     "start_time": "2022-05-04T13:41:44.097622",
     "status": "completed"
    },
    "tags": []
   },
   "source": [
    "## Unbalanced Dataset\n",
    "Since the amount of fraudelent transactions is 0.0017, the dataset is considered highly unbalanced. This means metrics used should be the following: recall, precision, and AOC. R-squared should not be used for an unbalanced dataset."
   ]
  },
  {
   "cell_type": "code",
   "execution_count": 4,
   "id": "c0988cf3",
   "metadata": {
    "execution": {
     "iopub.execute_input": "2022-05-04T13:41:44.187271Z",
     "iopub.status.busy": "2022-05-04T13:41:44.186417Z",
     "iopub.status.idle": "2022-05-04T13:41:44.198492Z",
     "shell.execute_reply": "2022-05-04T13:41:44.199043Z",
     "shell.execute_reply.started": "2022-05-04T13:39:05.956015Z"
    },
    "papermill": {
     "duration": 0.045571,
     "end_time": "2022-05-04T13:41:44.199267",
     "exception": false,
     "start_time": "2022-05-04T13:41:44.153696",
     "status": "completed"
    },
    "tags": []
   },
   "outputs": [
    {
     "name": "stdout",
     "output_type": "stream",
     "text": [
      "0.0017 percent of transactions are fraudelent.\n"
     ]
    }
   ],
   "source": [
    "temp = df[\"Class\"].value_counts()\n",
    "fraud = temp[1]\n",
    "notFraud= temp[0]\n",
    "fraudNumbers=round((fraud/notFraud),4)\n",
    "print(fraudNumbers, \"percent of transactions are fraudelent.\")"
   ]
  },
  {
   "cell_type": "markdown",
   "id": "445b1880",
   "metadata": {
    "papermill": {
     "duration": 0.027917,
     "end_time": "2022-05-04T13:41:44.258939",
     "exception": false,
     "start_time": "2022-05-04T13:41:44.231022",
     "status": "completed"
    },
    "tags": []
   },
   "source": [
    "## Heatmap\n",
    "No multicollinearity was detected. The highest correlation between features was V7 and Amount which had a 0.39730 correlation."
   ]
  },
  {
   "cell_type": "code",
   "execution_count": 5,
   "id": "97752ed7",
   "metadata": {
    "execution": {
     "iopub.execute_input": "2022-05-04T13:41:44.326695Z",
     "iopub.status.busy": "2022-05-04T13:41:44.325825Z",
     "iopub.status.idle": "2022-05-04T13:41:45.618538Z",
     "shell.execute_reply": "2022-05-04T13:41:45.619101Z",
     "shell.execute_reply.started": "2022-05-04T13:39:05.970228Z"
    },
    "papermill": {
     "duration": 1.330884,
     "end_time": "2022-05-04T13:41:45.619314",
     "exception": false,
     "start_time": "2022-05-04T13:41:44.288430",
     "status": "completed"
    },
    "tags": []
   },
   "outputs": [
    {
     "name": "stdout",
     "output_type": "stream",
     "text": [
      "AxesSubplot(0.125,0.125;0.62x0.755)\n"
     ]
    },
    {
     "data": {
      "image/png": "[encoded data removed]",
      "text/plain": [
       "<Figure size 720x720 with 2 Axes>"
      ]
     },
     "metadata": {
      "needs_background": "light"
     },
     "output_type": "display_data"
    }
   ],
   "source": [
    "def printHeatmap():\n",
    "    corr = df.corr()\n",
    "    #print(corr)\n",
    "    highly_corr_features = corr.index[abs(corr[\"Class\"])>0.2]\n",
    "    plt.figure(figsize=(10,10))\n",
    "    heat = sns.heatmap(data[highly_corr_features].corr(),annot=True,cmap=\"RdYlGn\")\n",
    "    top10=corr[\"Class\"].sort_values(ascending=False).head(10).round(4)\n",
    "    print(heat)\n",
    "    #print(top10) # top ten correlations\n",
    "\n",
    "printHeatmap() "
   ]
  },
  {
   "cell_type": "markdown",
   "id": "bcc5849d",
   "metadata": {
    "papermill": {
     "duration": 0.030082,
     "end_time": "2022-05-04T13:41:45.679634",
     "exception": false,
     "start_time": "2022-05-04T13:41:45.649552",
     "status": "completed"
    },
    "tags": []
   },
   "source": [
    "## Show highly correlated features"
   ]
  },
  {
   "cell_type": "code",
   "execution_count": 6,
   "id": "64dae9d7",
   "metadata": {
    "execution": {
     "iopub.execute_input": "2022-05-04T13:41:45.789940Z",
     "iopub.status.busy": "2022-05-04T13:41:45.789129Z",
     "iopub.status.idle": "2022-05-04T13:41:46.723733Z",
     "shell.execute_reply": "2022-05-04T13:41:46.723082Z",
     "shell.execute_reply.started": "2022-05-04T13:39:07.202717Z"
    },
    "papermill": {
     "duration": 1.014437,
     "end_time": "2022-05-04T13:41:46.723935",
     "exception": false,
     "start_time": "2022-05-04T13:41:45.709498",
     "status": "completed"
    },
    "tags": []
   },
   "outputs": [
    {
     "name": "stdout",
     "output_type": "stream",
     "text": [
      "Highly correlated variables above:  0.2\n"
     ]
    },
    {
     "data": {
      "text/html": [
       "<style type=\"text/css\">\n",
       "#T_fc957_row0_col0, #T_fc957_row1_col0, #T_fc957_row2_col0, #T_fc957_row3_col0, #T_fc957_row4_col0, #T_fc957_row5_col0, #T_fc957_row6_col0, #T_fc957_row7_col0, #T_fc957_row8_col0, #T_fc957_row9_col0, #T_fc957_row10_col0, #T_fc957_row11_col0, #T_fc957_row12_col0, #T_fc957_row13_col0 {\n",
       "  background-color: black;\n",
       "  color: white;\n",
       "}\n",
       "</style>\n",
       "<table id=\"T_fc957_\">\n",
       "  <thead>\n",
       "    <tr>\n",
       "      <th class=\"blank level0\" >&nbsp;</th>\n",
       "      <th class=\"col_heading level0 col0\" >Correlation</th>\n",
       "    </tr>\n",
       "  </thead>\n",
       "  <tbody>\n",
       "    <tr>\n",
       "      <th id=\"T_fc957_level0_row0\" class=\"row_heading level0 row0\" >V7 and Amount</th>\n",
       "      <td id=\"T_fc957_row0_col0\" class=\"data row0 col0\" >0.397300</td>\n",
       "    </tr>\n",
       "    <tr>\n",
       "      <th id=\"T_fc957_level0_row1\" class=\"row_heading level0 row1\" >V20 and Amount</th>\n",
       "      <td id=\"T_fc957_row1_col0\" class=\"data row1 col0\" >0.339400</td>\n",
       "    </tr>\n",
       "    <tr>\n",
       "      <th id=\"T_fc957_level0_row2\" class=\"row_heading level0 row2\" >V6 and Amount</th>\n",
       "      <td id=\"T_fc957_row2_col0\" class=\"data row2 col0\" >0.216000</td>\n",
       "    </tr>\n",
       "    <tr>\n",
       "      <th id=\"T_fc957_level0_row3\" class=\"row_heading level0 row3\" >V3 and Amount</th>\n",
       "      <td id=\"T_fc957_row3_col0\" class=\"data row3 col0\" >-0.210900</td>\n",
       "    </tr>\n",
       "    <tr>\n",
       "      <th id=\"T_fc957_level0_row4\" class=\"row_heading level0 row4\" >V10 and Class</th>\n",
       "      <td id=\"T_fc957_row4_col0\" class=\"data row4 col0\" >-0.216900</td>\n",
       "    </tr>\n",
       "    <tr>\n",
       "      <th id=\"T_fc957_level0_row5\" class=\"row_heading level0 row5\" >V1 and Amount</th>\n",
       "      <td id=\"T_fc957_row5_col0\" class=\"data row5 col0\" >-0.227700</td>\n",
       "    </tr>\n",
       "    <tr>\n",
       "      <th id=\"T_fc957_level0_row6\" class=\"row_heading level0 row6\" >Time and V25</th>\n",
       "      <td id=\"T_fc957_row6_col0\" class=\"data row6 col0\" >-0.233100</td>\n",
       "    </tr>\n",
       "    <tr>\n",
       "      <th id=\"T_fc957_level0_row7\" class=\"row_heading level0 row7\" >Time and V11</th>\n",
       "      <td id=\"T_fc957_row7_col0\" class=\"data row7 col0\" >-0.247700</td>\n",
       "    </tr>\n",
       "    <tr>\n",
       "      <th id=\"T_fc957_level0_row8\" class=\"row_heading level0 row8\" >V12 and Class</th>\n",
       "      <td id=\"T_fc957_row8_col0\" class=\"data row8 col0\" >-0.260600</td>\n",
       "    </tr>\n",
       "    <tr>\n",
       "      <th id=\"T_fc957_level0_row9\" class=\"row_heading level0 row9\" >V14 and Class</th>\n",
       "      <td id=\"T_fc957_row9_col0\" class=\"data row9 col0\" >-0.302500</td>\n",
       "    </tr>\n",
       "    <tr>\n",
       "      <th id=\"T_fc957_level0_row10\" class=\"row_heading level0 row10\" >V17 and Class</th>\n",
       "      <td id=\"T_fc957_row10_col0\" class=\"data row10 col0\" >-0.326500</td>\n",
       "    </tr>\n",
       "    <tr>\n",
       "      <th id=\"T_fc957_level0_row11\" class=\"row_heading level0 row11\" >V5 and Amount</th>\n",
       "      <td id=\"T_fc957_row11_col0\" class=\"data row11 col0\" >-0.386400</td>\n",
       "    </tr>\n",
       "    <tr>\n",
       "      <th id=\"T_fc957_level0_row12\" class=\"row_heading level0 row12\" >Time and V3</th>\n",
       "      <td id=\"T_fc957_row12_col0\" class=\"data row12 col0\" >-0.419600</td>\n",
       "    </tr>\n",
       "    <tr>\n",
       "      <th id=\"T_fc957_level0_row13\" class=\"row_heading level0 row13\" >V2 and Amount</th>\n",
       "      <td id=\"T_fc957_row13_col0\" class=\"data row13 col0\" >-0.531400</td>\n",
       "    </tr>\n",
       "  </tbody>\n",
       "</table>\n"
      ],
      "text/plain": [
       "<pandas.io.formats.style.Styler at 0x7f769907aed0>"
      ]
     },
     "execution_count": 6,
     "metadata": {},
     "output_type": "execute_result"
    }
   ],
   "source": [
    "def printHighCorr(df, features, threshold=0.2):\n",
    "    print(\"Highly correlated variables above: \", threshold)\n",
    "    corr_df = df[features].corr() # get correlations\n",
    "    correlated_features = np.where(np.abs(corr_df) > threshold) # select ones above the abs threshold\n",
    "    correlated_features = [(corr_df.iloc[x,y], x, y) for x, y in zip(*correlated_features) if x != y and x < y] # avoid duplication\n",
    "    s_corr_list = sorted(correlated_features, key=lambda x: -abs(x[0])) # sort by correlation value\n",
    "    correlation_df={}\n",
    "    if s_corr_list == []:\n",
    "        print(\"There are no highly correlated features with correlation above\", threshold)\n",
    "    else:\n",
    "        for v, i, j in s_corr_list:\n",
    "            correlation_df[corr_df.index[i] +\" and \"+ corr_df.columns[j]]= v\n",
    "        correlation_df=pd.DataFrame(correlation_df,index=['Correlation']).round(4)\n",
    "    return  correlation_df.T.sort_values(by='Correlation',ascending=False)\n",
    "printHighCorr(data,data.columns).style.set_properties(**{'background-color': 'black','color': 'white'})"
   ]
  },
  {
   "cell_type": "markdown",
   "id": "7de4e2bd",
   "metadata": {
    "papermill": {
     "duration": 0.030752,
     "end_time": "2022-05-04T13:41:46.786710",
     "exception": false,
     "start_time": "2022-05-04T13:41:46.755958",
     "status": "completed"
    },
    "tags": []
   },
   "source": [
    "## Split Data\n",
    "Use 70% of the train data to predict the accuracy of the remaining 30% of the test data."
   ]
  },
  {
   "cell_type": "code",
   "execution_count": 7,
   "id": "e899cc06",
   "metadata": {
    "execution": {
     "iopub.execute_input": "2022-05-04T13:41:46.896499Z",
     "iopub.status.busy": "2022-05-04T13:41:46.895570Z",
     "iopub.status.idle": "2022-05-04T13:41:47.050461Z",
     "shell.execute_reply": "2022-05-04T13:41:47.049710Z",
     "shell.execute_reply.started": "2022-05-04T13:39:08.117496Z"
    },
    "papermill": {
     "duration": 0.23291,
     "end_time": "2022-05-04T13:41:47.050646",
     "exception": false,
     "start_time": "2022-05-04T13:41:46.817736",
     "status": "completed"
    },
    "tags": []
   },
   "outputs": [],
   "source": [
    "X=df.drop('Class', axis=1)\n",
    "y=df['Class']\n",
    "\n",
    "X_train, X_test, y_train, y_test = train_test_split(X, y, test_size = 0.30, random_state = 42)"
   ]
  },
  {
   "cell_type": "markdown",
   "id": "be3938dd",
   "metadata": {
    "execution": {
     "iopub.execute_input": "2022-02-11T21:03:12.343184Z",
     "iopub.status.busy": "2022-02-11T21:03:12.342338Z",
     "iopub.status.idle": "2022-02-11T21:03:12.347636Z",
     "shell.execute_reply": "2022-02-11T21:03:12.34641Z",
     "shell.execute_reply.started": "2022-02-11T21:03:12.343138Z"
    },
    "papermill": {
     "duration": 0.030488,
     "end_time": "2022-05-04T13:41:47.112139",
     "exception": false,
     "start_time": "2022-05-04T13:41:47.081651",
     "status": "completed"
    },
    "tags": []
   },
   "source": [
    " ## Gradient Boost"
   ]
  },
  {
   "cell_type": "code",
   "execution_count": 8,
   "id": "e1e024fa",
   "metadata": {
    "execution": {
     "iopub.execute_input": "2022-05-04T13:41:47.183704Z",
     "iopub.status.busy": "2022-05-04T13:41:47.182778Z",
     "iopub.status.idle": "2022-05-04T13:41:58.360156Z",
     "shell.execute_reply": "2022-05-04T13:41:58.362140Z",
     "shell.execute_reply.started": "2022-05-04T13:39:08.245159Z"
    },
    "papermill": {
     "duration": 11.219765,
     "end_time": "2022-05-04T13:41:58.362600",
     "exception": false,
     "start_time": "2022-05-04T13:41:47.142835",
     "status": "completed"
    },
    "tags": []
   },
   "outputs": [
    {
     "name": "stdout",
     "output_type": "stream",
     "text": [
      "Gradient boosting regression r2:  0.0281\n",
      "The mean squared error (MSE) on test set: 0.0015\n",
      "Gradient boosting regression AUC:  0.93\n"
     ]
    }
   ],
   "source": [
    "from sklearn.inspection import permutation_importance\n",
    "from sklearn.metrics import r2_score\n",
    "from sklearn.ensemble import GradientBoostingClassifier,GradientBoostingRegressor\n",
    "from sklearn import ensemble\n",
    "\n",
    "params = {\n",
    " \"n_estimators\": 2, \"max_depth\": 4, \"min_samples_split\": 5, \"learning_rate\": 0.01,\n",
    "}\n",
    "\n",
    "reg = ensemble.GradientBoostingRegressor(**params)\n",
    "reg.fit(X_train, y_train)\n",
    "\n",
    "y_pred = reg.predict(X_test)\n",
    "gbr_r2 = r2_score(y_test, y_pred).round(4) \n",
    "print(\"Gradient boosting regression r2: \", gbr_r2) \n",
    "\n",
    "mse = mean_squared_error(y_test, reg.predict(X_test))\n",
    "print(\"The mean squared error (MSE) on test set: {:.4f}\".format(mse))\n",
    "\n",
    "#calculate AUC of model\n",
    "auc = round( metrics.roc_auc_score(y_test, y_pred), 4 ) \n",
    "print(\"Gradient boosting regression AUC: \", auc )"
   ]
  },
  {
   "cell_type": "markdown",
   "id": "2ef3d7aa",
   "metadata": {
    "papermill": {
     "duration": 0.031581,
     "end_time": "2022-05-04T13:41:58.426530",
     "exception": false,
     "start_time": "2022-05-04T13:41:58.394949",
     "status": "completed"
    },
    "tags": []
   },
   "source": [
    "## Feature Importance"
   ]
  },
  {
   "cell_type": "code",
   "execution_count": 9,
   "id": "27fe224b",
   "metadata": {
    "execution": {
     "iopub.execute_input": "2022-05-04T13:41:58.518378Z",
     "iopub.status.busy": "2022-05-04T13:41:58.501225Z",
     "iopub.status.idle": "2022-05-04T13:42:07.365673Z",
     "shell.execute_reply": "2022-05-04T13:42:07.364924Z",
     "shell.execute_reply.started": "2022-05-04T13:39:17.383792Z"
    },
    "papermill": {
     "duration": 8.907635,
     "end_time": "2022-05-04T13:42:07.365855",
     "exception": false,
     "start_time": "2022-05-04T13:41:58.458220",
     "status": "completed"
    },
    "tags": []
   },
   "outputs": [
    {
     "data": {
      "image/png": "[encoded data removed]",
      "text/plain": [
       "<Figure size 864x432 with 2 Axes>"
      ]
     },
     "metadata": {
      "needs_background": "light"
     },
     "output_type": "display_data"
    }
   ],
   "source": [
    "cols=X.columns\n",
    "feature_importance = reg.feature_importances_\n",
    "sorted_idx = np.argsort(feature_importance)\n",
    "pos = np.arange(sorted_idx.shape[0]) + 0.5\n",
    "fig = plt.figure(figsize=(12, 6))\n",
    "plt.subplot(1, 2, 1)\n",
    "plt.barh(pos, feature_importance[sorted_idx], align=\"center\")\n",
    "plt.yticks(pos, np.array(cols)[sorted_idx])\n",
    "plt.title(\"Feature Importance (MDI)\")\n",
    "\n",
    "result = permutation_importance(\n",
    "    reg, X_test, y_test, n_repeats=10, random_state=42, n_jobs=2\n",
    ")\n",
    "sorted_idx = result.importances_mean.argsort()\n",
    "plt.subplot(1, 2, 2)\n",
    "plt.boxplot(\n",
    "    result.importances[sorted_idx].T,\n",
    "    vert=False,\n",
    "    labels=np.array(cols)[sorted_idx],\n",
    ")\n",
    "plt.title(\"Permutation Importance (test set)\")\n",
    "fig.tight_layout()\n",
    "plt.show()"
   ]
  },
  {
   "cell_type": "markdown",
   "id": "aa5c1e89",
   "metadata": {
    "execution": {
     "iopub.execute_input": "2022-02-20T18:17:59.09185Z",
     "iopub.status.busy": "2022-02-20T18:17:59.091558Z",
     "iopub.status.idle": "2022-02-20T18:17:59.09661Z",
     "shell.execute_reply": "2022-02-20T18:17:59.095616Z",
     "shell.execute_reply.started": "2022-02-20T18:17:59.091821Z"
    },
    "papermill": {
     "duration": 0.034766,
     "end_time": "2022-05-04T13:42:07.433807",
     "exception": false,
     "start_time": "2022-05-04T13:42:07.399041",
     "status": "completed"
    },
    "tags": []
   },
   "source": [
    "## Linear Regression\n",
    "AUC for linear regression is:  0.9844 <br>\n",
    "Linear regression r2 score:  0.5375 <br>\n",
    "Linear Accuracy:  0.5375 <br>\n",
    "0.4573  linear regression cross validate mean <br>"
   ]
  },
  {
   "cell_type": "code",
   "execution_count": 10,
   "id": "8d34fa2d",
   "metadata": {
    "execution": {
     "iopub.execute_input": "2022-05-04T13:42:07.512393Z",
     "iopub.status.busy": "2022-05-04T13:42:07.511522Z",
     "iopub.status.idle": "2022-05-04T13:42:10.280076Z",
     "shell.execute_reply": "2022-05-04T13:42:10.279086Z",
     "shell.execute_reply.started": "2022-05-04T13:39:24.238009Z"
    },
    "papermill": {
     "duration": 2.811332,
     "end_time": "2022-05-04T13:42:10.280325",
     "exception": false,
     "start_time": "2022-05-04T13:42:07.468993",
     "status": "completed"
    },
    "tags": []
   },
   "outputs": [
    {
     "name": "stdout",
     "output_type": "stream",
     "text": [
      "AUC for linear regression is:  0.9844\n",
      "Linear regression r2 score:  0.5375\n",
      "Linear Accuracy:  0.5375\n",
      "0.4573  linear regression cross validate mean\n"
     ]
    },
    {
     "data": {
      "image/png": "[encoded data removed]",
      "text/plain": [
       "<Figure size 432x288 with 1 Axes>"
      ]
     },
     "metadata": {
      "needs_background": "light"
     },
     "output_type": "display_data"
    }
   ],
   "source": [
    "from sklearn.linear_model import LinearRegression, Ridge, Lasso\n",
    "\n",
    "#Fit and predict:\n",
    "lrModel = LinearRegression()\n",
    "lrModel.fit(X_train, y_train)\n",
    "lrPredict = lrModel.predict(X_test)\n",
    "\n",
    "# plt.scatter(y_test, predictions)\n",
    "plt.hist(y_test - lrPredict)\n",
    "\n",
    "#Linear Metrics:\n",
    "auc = round( metrics.roc_auc_score(y_test, lrPredict), 4 ) \n",
    "r2 = r2_score(y_test, lrPredict).round(4) \n",
    "print(\"AUC for linear regression is: \", auc)\n",
    "print(\"Linear regression r2 score: \", r2)\n",
    "\n",
    "#CROSS VALIDATE TEST RESULTS:\n",
    "lr_score = lrModel.score(X_test, y_test).round(4)  # train test \n",
    "print(\"Linear Accuracy: \", lr_score)\n",
    "lr_cv = cross_validate(lrModel, X, y, cv = 5, scoring= 'r2')\n",
    "lr_cvMean=lr_cv['test_score'].mean().round(4)\n",
    "print(lr_cvMean, \" linear regression cross validate mean\")\n",
    "\n",
    "def linearReports():\n",
    "    print(model.coef_)    \n",
    "    print(model.intercept_)\n",
    "    print(classification_report(y_test_data, lrPredict))\n",
    "    print(confusion_matrix(y_test_data, lrPredict))\n",
    "    metrics.mean_absolute_error(y_test, lrPredict)\n",
    "    np.sqrt(metrics.mean_squared_error(y_test, lrPredict))"
   ]
  },
  {
   "cell_type": "markdown",
   "id": "0d5d6fff",
   "metadata": {
    "papermill": {
     "duration": 0.035856,
     "end_time": "2022-05-04T13:42:10.352552",
     "exception": false,
     "start_time": "2022-05-04T13:42:10.316696",
     "status": "completed"
    },
    "tags": []
   },
   "source": [
    "## Logistic Regression\n",
    "AUC for logistic regression is:  0.905"
   ]
  },
  {
   "cell_type": "code",
   "execution_count": 11,
   "id": "a1405d07",
   "metadata": {
    "execution": {
     "iopub.execute_input": "2022-05-04T13:42:10.433652Z",
     "iopub.status.busy": "2022-05-04T13:42:10.432820Z",
     "iopub.status.idle": "2022-05-04T13:42:14.453540Z",
     "shell.execute_reply": "2022-05-04T13:42:14.455338Z",
     "shell.execute_reply.started": "2022-05-04T13:39:26.431826Z"
    },
    "papermill": {
     "duration": 4.06646,
     "end_time": "2022-05-04T13:42:14.455769",
     "exception": false,
     "start_time": "2022-05-04T13:42:10.389309",
     "status": "completed"
    },
    "tags": []
   },
   "outputs": [
    {
     "name": "stdout",
     "output_type": "stream",
     "text": [
      "AUC for logistic regression is:  0.905\n"
     ]
    }
   ],
   "source": [
    "from sklearn.linear_model import LogisticRegression\n",
    "logReg = LogisticRegression(solver='liblinear') #solver param gets rid of encoder error\n",
    "\n",
    "#Train the model and create predictions\n",
    "logReg.fit(X_train, y_train)\n",
    "logPredict = logReg.predict_proba(X_test)[::,1]\n",
    "\n",
    "#calculate AUC of model\n",
    "auc = round( metrics.roc_auc_score(y_test, logPredict), 4 ) \n",
    "print(\"AUC for logistic regression is: \", auc)"
   ]
  },
  {
   "cell_type": "markdown",
   "id": "ad2c7b24",
   "metadata": {
    "papermill": {
     "duration": 0.034171,
     "end_time": "2022-05-04T13:42:14.554490",
     "exception": false,
     "start_time": "2022-05-04T13:42:14.520319",
     "status": "completed"
    },
    "tags": []
   },
   "source": [
    "## Decision Tree\n",
    "The best_max_tree is automated into the decision tree. The results were the following:\n",
    "* Decision Tree r-squared is: 0.8459 <br>\n",
    "* AUC for decision tree is:  0.9338"
   ]
  },
  {
   "cell_type": "code",
   "execution_count": 12,
   "id": "ecf4985b",
   "metadata": {
    "execution": {
     "iopub.execute_input": "2022-05-04T13:42:14.634823Z",
     "iopub.status.busy": "2022-05-04T13:42:14.634022Z",
     "iopub.status.idle": "2022-05-04T13:43:40.996456Z",
     "shell.execute_reply": "2022-05-04T13:43:40.997138Z",
     "shell.execute_reply.started": "2022-05-04T13:39:29.293809Z"
    },
    "papermill": {
     "duration": 86.408309,
     "end_time": "2022-05-04T13:43:40.997404",
     "exception": false,
     "start_time": "2022-05-04T13:42:14.589095",
     "status": "completed"
    },
    "tags": []
   },
   "outputs": [
    {
     "name": "stdout",
     "output_type": "stream",
     "text": [
      "Decision Tree r-squared is: 0.8459\n",
      "AUC for decision tree is:  0.9338\n"
     ]
    }
   ],
   "source": [
    "from sklearn.tree import DecisionTreeRegressor\n",
    "\n",
    "#FIND best_tree_size LEAF NODES:\n",
    "def get_mae(max_leaf_nodes, train_X, val_X, train_y, val_y):\n",
    "    model = DecisionTreeRegressor(max_leaf_nodes=max_leaf_nodes, random_state=42)\n",
    "    model.fit(train_X, train_y)\n",
    "    preds_val = model.predict(val_X)\n",
    "    mae = mean_absolute_error(val_y, preds_val)\n",
    "    return(mae)\n",
    "\n",
    "candidate_max_leaf_nodes = [5, 25, 50, 100, 250, 500]\n",
    "maeDic={} #dictionary  key=leaf  mae=value\n",
    "for leaf in candidate_max_leaf_nodes:\n",
    "    mae=get_mae(leaf, X_train, X_test, y_train, y_test)\n",
    "    maeDic[leaf]=mae\n",
    "\n",
    "best_tree_size = sorted(maeDic, key=lambda x : maeDic[x])[0]\n",
    "\n",
    "#MAKE PREDICTION:\n",
    "tree = DecisionTreeRegressor(max_leaf_nodes=best_tree_size, random_state=42)\n",
    "tree.fit(X, y)\n",
    "y_pred = tree.predict(X_test)\n",
    "\n",
    "#AUC and r2 metric\n",
    "tree_r2 = r2_score(y_test, y_pred).round(4)\n",
    "print(\"Decision Tree r-squared is:\", tree_r2)\n",
    "tree_auc = round( metrics.roc_auc_score(y_test, y_pred), 4 ) \n",
    "print(\"AUC for decision tree is: \", tree_auc)\n",
    "\n",
    "def printReports(y_test, y_pred):\n",
    "    print(classification_report(y_test, y_pred))\n",
    "    print(confusion_matrix(y_test, y_pred))"
   ]
  },
  {
   "cell_type": "markdown",
   "id": "4713b5fe",
   "metadata": {
    "papermill": {
     "duration": 0.035565,
     "end_time": "2022-05-04T13:43:41.069305",
     "exception": false,
     "start_time": "2022-05-04T13:43:41.033740",
     "status": "completed"
    },
    "tags": []
   },
   "source": [
    "## K-Nearest Neigbors (KNN)\n",
    "KNN model AUC is:  0.9844.   K equal to 1 seems to be the best fit for n_neighbors when running the function knnError."
   ]
  },
  {
   "cell_type": "code",
   "execution_count": 13,
   "id": "743938d2",
   "metadata": {
    "execution": {
     "iopub.execute_input": "2022-05-04T13:43:41.151422Z",
     "iopub.status.busy": "2022-05-04T13:43:41.142412Z",
     "iopub.status.idle": "2022-05-04T13:43:49.174635Z",
     "shell.execute_reply": "2022-05-04T13:43:49.175294Z",
     "shell.execute_reply.started": "2022-05-04T13:40:44.299501Z"
    },
    "papermill": {
     "duration": 8.071679,
     "end_time": "2022-05-04T13:43:49.175565",
     "exception": false,
     "start_time": "2022-05-04T13:43:41.103886",
     "status": "completed"
    },
    "tags": []
   },
   "outputs": [
    {
     "name": "stdout",
     "output_type": "stream",
     "text": [
      "KNN model AUC is:  0.5588\n"
     ]
    }
   ],
   "source": [
    "from sklearn.neighbors import KNeighborsClassifier\n",
    "\n",
    "def knnErorr():\n",
    "    print(\"Selecting an optimal K value:\")\n",
    "    error_rates = []\n",
    "    for i in range(1, 6, 2): #Must be an odd number to break a tie\n",
    "        new_model = KNeighborsClassifier(n_neighbors = i)\n",
    "        new_model.fit(X_train, y_train)\n",
    "        new_predictions = new_model.predict(X_test)\n",
    "        error_rates.append(np.mean(new_predictions != y_test))\n",
    "\n",
    "    plt.figure(figsize=(16,12))\n",
    "    plt.plot(error_rates)\n",
    "\n",
    "#Train the model and make predictions:\n",
    "knn = KNeighborsClassifier(n_neighbors =3) \n",
    "knn.fit(X_train, y_train)\n",
    "knnPredict= knn.predict(X_test)\n",
    "\n",
    "#calculate AUC of model\n",
    "auc = round( metrics.roc_auc_score(y_test, knnPredict), 4 ) \n",
    "print(\"KNN model AUC is: \", auc)\n",
    "\n",
    "#Additional Info:\n",
    "def knnReports():\n",
    "    acc = metrics.accuracy_score(y_test, knnPredict)\n",
    "    print(confusion_matrix(y_test, knnPredict))\n",
    "    print(classification_report(y_test, knnPredict))\n",
    "    print(confusion_matrix(y_test, knnPredict))"
   ]
  },
  {
   "cell_type": "markdown",
   "id": "cf508c4d",
   "metadata": {
    "papermill": {
     "duration": 0.03813,
     "end_time": "2022-05-04T13:43:49.249636",
     "exception": false,
     "start_time": "2022-05-04T13:43:49.211506",
     "status": "completed"
    },
    "tags": []
   },
   "source": [
    "## Random Forest"
   ]
  },
  {
   "cell_type": "code",
   "execution_count": 14,
   "id": "d8eac1eb",
   "metadata": {
    "execution": {
     "iopub.execute_input": "2022-05-04T13:43:49.336107Z",
     "iopub.status.busy": "2022-05-04T13:43:49.334903Z",
     "iopub.status.idle": "2022-05-04T13:45:07.890149Z",
     "shell.execute_reply": "2022-05-04T13:45:07.890752Z"
    },
    "papermill": {
     "duration": 78.604046,
     "end_time": "2022-05-04T13:45:07.890965",
     "exception": false,
     "start_time": "2022-05-04T13:43:49.286919",
     "status": "completed"
    },
    "tags": []
   },
   "outputs": [
    {
     "name": "stdout",
     "output_type": "stream",
     "text": [
      "Random forest AUC:  0.941\n",
      "Random forest r2:  0.7128\n"
     ]
    }
   ],
   "source": [
    "from sklearn.ensemble import RandomForestRegressor\n",
    "\n",
    "#Check for Error and find Best n_estimators:\n",
    "def checkMAE():\n",
    "    print(\"Starting MAE:\")\n",
    "    dMAE={} #dictionary of n_estimators as key and MAE as value:\n",
    "    for n in range(2, 500, 100):\n",
    "        forest = RandomForestRegressor(n_estimators=n, random_state = 0)\n",
    "        forest.fit(X_train, y_train)\n",
    "        y_pred = forest.predict(X_test)\n",
    "        MAE=metrics.mean_absolute_error(y_test, y_pred).round(2)\n",
    "        dMAE[n]=MAE\n",
    "        print(\"n_estimates: \", n,  '  Mean Absolute Error:', MAE)\n",
    "\n",
    "    dMAE=sorted(((v, k) for k, v in dMAE.items()), reverse=False)\n",
    "    print(dMAE)\n",
    "\n",
    "def forest():\n",
    "    num=5\n",
    "    forest = RandomForestRegressor(n_estimators=num, random_state = 0)\n",
    "    forest.fit(X_train, y_train)\n",
    "    y_pred = forest.predict(X_test)\n",
    "\n",
    "    #Print Metrics:\n",
    "    forest_r2 = r2_score(y_test, y_pred).round(4)  \n",
    "    forest_auc = round( metrics.roc_auc_score(y_test, y_pred), 4 ) \n",
    "    print(\"Random forest AUC: \", forest_auc) \n",
    "    print(\"Random forest r2: \", forest_r2)\n",
    "\n",
    "def forestReports():\n",
    "    mae=metrics.mean_absolute_error(y_test, y_pred).round(2)\n",
    "    print(\"Random forest MAE: \", mae)\n",
    "    \n",
    "#checkMAE() \n",
    "forest()"
   ]
  },
  {
   "cell_type": "markdown",
   "id": "83266480",
   "metadata": {
    "papermill": {
     "duration": 0.03556,
     "end_time": "2022-05-04T13:45:07.961960",
     "exception": false,
     "start_time": "2022-05-04T13:45:07.926400",
     "status": "completed"
    },
    "tags": []
   },
   "source": [
    "## SVM\n",
    "With many samples, SVM is extremely slow and cannot really be used. This is a major disadvantage of SVM and why some do not use it. This seems to be the case this this problem too. Due to SVM being complex, it is often not used as it is not easily explained to others. "
   ]
  },
  {
   "cell_type": "code",
   "execution_count": 15,
   "id": "13be0303",
   "metadata": {
    "execution": {
     "iopub.execute_input": "2022-05-04T13:45:08.048599Z",
     "iopub.status.busy": "2022-05-04T13:45:08.047783Z",
     "iopub.status.idle": "2022-05-04T13:45:08.051867Z",
     "shell.execute_reply": "2022-05-04T13:45:08.051234Z"
    },
    "papermill": {
     "duration": 0.050768,
     "end_time": "2022-05-04T13:45:08.052065",
     "exception": false,
     "start_time": "2022-05-04T13:45:08.001297",
     "status": "completed"
    },
    "tags": []
   },
   "outputs": [],
   "source": [
    "def trySVM():\n",
    "    from sklearn.svm import SVC\n",
    "    \n",
    "    #Fit and Predict:\n",
    "    svc = SVC()\n",
    "    svc.fit(X_train, y_train)\n",
    "    svc_predit = svc.predict(X_test)\n",
    "\n",
    "    #calculate AUC of model\n",
    "    auc = round( metrics.roc_auc_score(y_test, svc_predit), 4 ) \n",
    "    print(\"SVC AUC is: \", auc)\n",
    "\n",
    "def svmReports():\n",
    "    print(classification_report(y_test, svc_predit))\n",
    "    print(confusion_matrix(y_test, svc_predit))\n",
    "    metrics.mean_absolute_error(y_test, svc_predit)\n",
    "    metrics.mean_squared_error(y_test, svc_predit)\n",
    "    np.sqrt(metrics.mean_squared_error(y_test, svc_predit))\n",
    "#trySVM()"
   ]
  }
 ],
 "metadata": {
  "kernelspec": {
   "display_name": "Python 3",
   "language": "python",
   "name": "python3"
  },
  "language_info": {
   "codemirror_mode": {
    "name": "ipython",
    "version": 3
   },
   "file_extension": ".py",
   "mimetype": "text/x-python",
   "name": "python",
   "nbconvert_exporter": "python",
   "pygments_lexer": "ipython3",
   "version": "3.7.12"
  },
  "papermill": {
   "default_parameters": {},
   "duration": 225.26725,
   "end_time": "2022-05-04T13:45:09.304639",
   "environment_variables": {},
   "exception": null,
   "input_path": "__notebook__.ipynb",
   "output_path": "__notebook__.ipynb",
   "parameters": {},
   "start_time": "2022-05-04T13:41:24.037389",
   "version": "2.3.3"
  }
 },
 "nbformat": 4,
 "nbformat_minor": 5
}
