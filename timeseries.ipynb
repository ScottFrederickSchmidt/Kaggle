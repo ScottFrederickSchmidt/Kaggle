{
 "cells": [
  {
   "cell_type": "markdown",
   "id": "2cf0f3c9",
   "metadata": {
    "papermill": {
     "duration": 0.020562,
     "end_time": "2022-05-04T13:28:32.283685",
     "exception": false,
     "start_time": "2022-05-04T13:28:32.263123",
     "status": "completed"
    },
    "tags": []
   },
   "source": [
    "# Store Sales \n",
    "Use time series forecating and machine learning to predict grocery sales. Predict sales for the thousands of product families sold at Favorita stores located in Ecuador. The training data includes dates, store and product information, whether that item was being promoted, as well as the sales numbers. Original dataset and information can be found on Kaggle:\n",
    "https://www.kaggle.com/c/store-sales-time-series-forecasting/code?competitionId=29781&sortBy=dateRun&tab=profile"
   ]
  },
  {
   "cell_type": "code",
   "execution_count": 1,
   "id": "a669973b",
   "metadata": {
    "execution": {
     "iopub.execute_input": "2022-05-04T13:28:32.328526Z",
     "iopub.status.busy": "2022-05-04T13:28:32.327269Z",
     "iopub.status.idle": "2022-05-04T13:28:33.837049Z",
     "shell.execute_reply": "2022-05-04T13:28:33.836260Z",
     "shell.execute_reply.started": "2022-03-24T01:45:28.652555Z"
    },
    "papermill": {
     "duration": 1.532957,
     "end_time": "2022-05-04T13:28:33.837282",
     "exception": false,
     "start_time": "2022-05-04T13:28:32.304325",
     "status": "completed"
    },
    "tags": []
   },
   "outputs": [],
   "source": [
    "import numpy as np\n",
    "import pandas as pd\n",
    "import seaborn as sns\n",
    "import matplotlib.pyplot as plt\n",
    "from sklearn.model_selection import train_test_split, cross_validate\n",
    "from statistics import mean\n",
    "from sklearn.metrics import mean_absolute_error, mean_squared_error, r2_score\n",
    "from sklearn.datasets import make_classification\n",
    "from sklearn import ensemble\n",
    "import sklearn.metrics as metrics\n",
    "\n",
    "oil=r'/kaggle/input/store-sales-time-series-forecasting/oil.csv'\n",
    "sample=r'/kaggle/input/store-sales-time-series-forecasting/sample_submission.csv'\n",
    "event=r'/kaggle/input/store-sales-time-series-forecasting/holidays_events.csv'\n",
    "stores=r'/kaggle/input/store-sales-time-series-forecasting/stores.csv'\n",
    "train=r'/kaggle/input/store-sales-time-series-forecasting/train.csv'\n",
    "test=r'/kaggle/input/store-sales-time-series-forecasting/test.csv'\n",
    "transaction=r'/kaggle/input/store-sales-time-series-forecasting/transactions.csv'"
   ]
  },
  {
   "cell_type": "markdown",
   "id": "a88fab15",
   "metadata": {
    "papermill": {
     "duration": 0.018454,
     "end_time": "2022-05-04T13:28:33.875751",
     "exception": false,
     "start_time": "2022-05-04T13:28:33.857297",
     "status": "completed"
    },
    "tags": []
   },
   "source": [
    "## Train Dataset \n",
    "The training data includes dates, store and product information, whether that item was being promoted, as well as the sales numbers."
   ]
  },
  {
   "cell_type": "code",
   "execution_count": 2,
   "id": "4744787e",
   "metadata": {
    "execution": {
     "iopub.execute_input": "2022-05-04T13:28:33.920696Z",
     "iopub.status.busy": "2022-05-04T13:28:33.920005Z",
     "iopub.status.idle": "2022-05-04T13:28:37.100802Z",
     "shell.execute_reply": "2022-05-04T13:28:37.101574Z",
     "shell.execute_reply.started": "2022-03-24T01:45:28.705041Z"
    },
    "papermill": {
     "duration": 3.207109,
     "end_time": "2022-05-04T13:28:37.101817",
     "exception": false,
     "start_time": "2022-05-04T13:28:33.894708",
     "status": "completed"
    },
    "tags": []
   },
   "outputs": [
    {
     "name": "stdout",
     "output_type": "stream",
     "text": [
      "(3000888, 6)\n"
     ]
    },
    {
     "data": {
      "text/html": [
       "<div>\n",
       "<style scoped>\n",
       "    .dataframe tbody tr th:only-of-type {\n",
       "        vertical-align: middle;\n",
       "    }\n",
       "\n",
       "    .dataframe tbody tr th {\n",
       "        vertical-align: top;\n",
       "    }\n",
       "\n",
       "    .dataframe thead th {\n",
       "        text-align: right;\n",
       "    }\n",
       "</style>\n",
       "<table border=\"1\" class=\"dataframe\">\n",
       "  <thead>\n",
       "    <tr style=\"text-align: right;\">\n",
       "      <th></th>\n",
       "      <th>id</th>\n",
       "      <th>date</th>\n",
       "      <th>store_nbr</th>\n",
       "      <th>family</th>\n",
       "      <th>sales</th>\n",
       "      <th>onpromotion</th>\n",
       "    </tr>\n",
       "  </thead>\n",
       "  <tbody>\n",
       "    <tr>\n",
       "      <th>0</th>\n",
       "      <td>0</td>\n",
       "      <td>2013-01-01</td>\n",
       "      <td>1</td>\n",
       "      <td>AUTOMOTIVE</td>\n",
       "      <td>0.0</td>\n",
       "      <td>0</td>\n",
       "    </tr>\n",
       "    <tr>\n",
       "      <th>1</th>\n",
       "      <td>1</td>\n",
       "      <td>2013-01-01</td>\n",
       "      <td>1</td>\n",
       "      <td>BABY CARE</td>\n",
       "      <td>0.0</td>\n",
       "      <td>0</td>\n",
       "    </tr>\n",
       "    <tr>\n",
       "      <th>2</th>\n",
       "      <td>2</td>\n",
       "      <td>2013-01-01</td>\n",
       "      <td>1</td>\n",
       "      <td>BEAUTY</td>\n",
       "      <td>0.0</td>\n",
       "      <td>0</td>\n",
       "    </tr>\n",
       "    <tr>\n",
       "      <th>3</th>\n",
       "      <td>3</td>\n",
       "      <td>2013-01-01</td>\n",
       "      <td>1</td>\n",
       "      <td>BEVERAGES</td>\n",
       "      <td>0.0</td>\n",
       "      <td>0</td>\n",
       "    </tr>\n",
       "    <tr>\n",
       "      <th>4</th>\n",
       "      <td>4</td>\n",
       "      <td>2013-01-01</td>\n",
       "      <td>1</td>\n",
       "      <td>BOOKS</td>\n",
       "      <td>0.0</td>\n",
       "      <td>0</td>\n",
       "    </tr>\n",
       "  </tbody>\n",
       "</table>\n",
       "</div>"
      ],
      "text/plain": [
       "   id        date  store_nbr      family  sales  onpromotion\n",
       "0   0  2013-01-01          1  AUTOMOTIVE    0.0            0\n",
       "1   1  2013-01-01          1   BABY CARE    0.0            0\n",
       "2   2  2013-01-01          1      BEAUTY    0.0            0\n",
       "3   3  2013-01-01          1   BEVERAGES    0.0            0\n",
       "4   4  2013-01-01          1       BOOKS    0.0            0"
      ]
     },
     "execution_count": 2,
     "metadata": {},
     "output_type": "execute_result"
    }
   ],
   "source": [
    "trainDF=pd.read_csv(train)\n",
    "print(trainDF.shape) #(3000888, 6)\n",
    "trainDF.head()"
   ]
  },
  {
   "cell_type": "markdown",
   "id": "dde60fc6",
   "metadata": {
    "papermill": {
     "duration": 0.020214,
     "end_time": "2022-05-04T13:28:37.142753",
     "exception": false,
     "start_time": "2022-05-04T13:28:37.122539",
     "status": "completed"
    },
    "tags": []
   },
   "source": [
    "## Feature Engineer Train Data"
   ]
  },
  {
   "cell_type": "code",
   "execution_count": 3,
   "id": "72127a23",
   "metadata": {
    "execution": {
     "iopub.execute_input": "2022-05-04T13:28:37.187482Z",
     "iopub.status.busy": "2022-05-04T13:28:37.186719Z",
     "iopub.status.idle": "2022-05-04T13:28:42.387859Z",
     "shell.execute_reply": "2022-05-04T13:28:42.388801Z",
     "shell.execute_reply.started": "2022-03-24T01:48:10.956466Z"
    },
    "papermill": {
     "duration": 5.22606,
     "end_time": "2022-05-04T13:28:42.389142",
     "exception": false,
     "start_time": "2022-05-04T13:28:37.163082",
     "status": "completed"
    },
    "tags": []
   },
   "outputs": [
    {
     "data": {
      "text/html": [
       "<div>\n",
       "<style scoped>\n",
       "    .dataframe tbody tr th:only-of-type {\n",
       "        vertical-align: middle;\n",
       "    }\n",
       "\n",
       "    .dataframe tbody tr th {\n",
       "        vertical-align: top;\n",
       "    }\n",
       "\n",
       "    .dataframe thead th {\n",
       "        text-align: right;\n",
       "    }\n",
       "</style>\n",
       "<table border=\"1\" class=\"dataframe\">\n",
       "  <thead>\n",
       "    <tr style=\"text-align: right;\">\n",
       "      <th></th>\n",
       "      <th>id</th>\n",
       "      <th>date</th>\n",
       "      <th>store_nbr</th>\n",
       "      <th>family</th>\n",
       "      <th>sales</th>\n",
       "      <th>onpromotion</th>\n",
       "      <th>year</th>\n",
       "      <th>month</th>\n",
       "      <th>day</th>\n",
       "    </tr>\n",
       "  </thead>\n",
       "  <tbody>\n",
       "    <tr>\n",
       "      <th>0</th>\n",
       "      <td>0</td>\n",
       "      <td>2013-01-01</td>\n",
       "      <td>1</td>\n",
       "      <td>AUTOMOTIVE</td>\n",
       "      <td>0.0</td>\n",
       "      <td>0</td>\n",
       "      <td>2013</td>\n",
       "      <td>01</td>\n",
       "      <td>01</td>\n",
       "    </tr>\n",
       "    <tr>\n",
       "      <th>1</th>\n",
       "      <td>1</td>\n",
       "      <td>2013-01-01</td>\n",
       "      <td>1</td>\n",
       "      <td>BABY CARE</td>\n",
       "      <td>0.0</td>\n",
       "      <td>0</td>\n",
       "      <td>2013</td>\n",
       "      <td>01</td>\n",
       "      <td>01</td>\n",
       "    </tr>\n",
       "    <tr>\n",
       "      <th>2</th>\n",
       "      <td>2</td>\n",
       "      <td>2013-01-01</td>\n",
       "      <td>1</td>\n",
       "      <td>BEAUTY</td>\n",
       "      <td>0.0</td>\n",
       "      <td>0</td>\n",
       "      <td>2013</td>\n",
       "      <td>01</td>\n",
       "      <td>01</td>\n",
       "    </tr>\n",
       "    <tr>\n",
       "      <th>3</th>\n",
       "      <td>3</td>\n",
       "      <td>2013-01-01</td>\n",
       "      <td>1</td>\n",
       "      <td>BEVERAGES</td>\n",
       "      <td>0.0</td>\n",
       "      <td>0</td>\n",
       "      <td>2013</td>\n",
       "      <td>01</td>\n",
       "      <td>01</td>\n",
       "    </tr>\n",
       "    <tr>\n",
       "      <th>4</th>\n",
       "      <td>4</td>\n",
       "      <td>2013-01-01</td>\n",
       "      <td>1</td>\n",
       "      <td>BOOKS</td>\n",
       "      <td>0.0</td>\n",
       "      <td>0</td>\n",
       "      <td>2013</td>\n",
       "      <td>01</td>\n",
       "      <td>01</td>\n",
       "    </tr>\n",
       "  </tbody>\n",
       "</table>\n",
       "</div>"
      ],
      "text/plain": [
       "   id        date  store_nbr      family  sales  onpromotion  year month day\n",
       "0   0  2013-01-01          1  AUTOMOTIVE    0.0            0  2013    01  01\n",
       "1   1  2013-01-01          1   BABY CARE    0.0            0  2013    01  01\n",
       "2   2  2013-01-01          1      BEAUTY    0.0            0  2013    01  01\n",
       "3   3  2013-01-01          1   BEVERAGES    0.0            0  2013    01  01\n",
       "4   4  2013-01-01          1       BOOKS    0.0            0  2013    01  01"
      ]
     },
     "execution_count": 3,
     "metadata": {},
     "output_type": "execute_result"
    }
   ],
   "source": [
    "import datetime as dt\n",
    "from datetime import datetime\n",
    "\n",
    "trainDF['year']=trainDF['date'].astype(str).str[0:4]\n",
    "trainDF['month']=trainDF['date'].astype(str).str[5:7]\n",
    "trainDF['day']=trainDF['date'].astype(str).str[8:10]\n",
    "trainDF.head()"
   ]
  },
  {
   "cell_type": "code",
   "execution_count": null,
   "id": "e78ddbf9",
   "metadata": {
    "papermill": {
     "duration": 0.020618,
     "end_time": "2022-05-04T13:28:42.437805",
     "exception": false,
     "start_time": "2022-05-04T13:28:42.417187",
     "status": "completed"
    },
    "tags": []
   },
   "outputs": [],
   "source": []
  },
  {
   "cell_type": "markdown",
   "id": "5ea91b05",
   "metadata": {
    "papermill": {
     "duration": 0.020196,
     "end_time": "2022-05-04T13:28:42.478877",
     "exception": false,
     "start_time": "2022-05-04T13:28:42.458681",
     "status": "completed"
    },
    "tags": []
   },
   "source": [
    "## Promotions Effect on Sales\n",
    "There does seem to be a correlation between sales and promotion."
   ]
  },
  {
   "cell_type": "code",
   "execution_count": 4,
   "id": "bf0deceb",
   "metadata": {
    "execution": {
     "iopub.execute_input": "2022-05-04T13:28:42.527885Z",
     "iopub.status.busy": "2022-05-04T13:28:42.526631Z",
     "iopub.status.idle": "2022-05-04T13:28:42.632018Z",
     "shell.execute_reply": "2022-05-04T13:28:42.631475Z",
     "shell.execute_reply.started": "2022-03-24T01:45:32.551708Z"
    },
    "papermill": {
     "duration": 0.132652,
     "end_time": "2022-05-04T13:28:42.632179",
     "exception": false,
     "start_time": "2022-05-04T13:28:42.499527",
     "status": "completed"
    },
    "tags": []
   },
   "outputs": [
    {
     "data": {
      "text/plain": [
       "0.4279232048121313"
      ]
     },
     "execution_count": 4,
     "metadata": {},
     "output_type": "execute_result"
    }
   ],
   "source": [
    "trainDF['sales'].corr(trainDF['onpromotion'])"
   ]
  },
  {
   "cell_type": "markdown",
   "id": "0edd06dd",
   "metadata": {
    "papermill": {
     "duration": 0.021047,
     "end_time": "2022-05-04T13:28:42.674440",
     "exception": false,
     "start_time": "2022-05-04T13:28:42.653393",
     "status": "completed"
    },
    "tags": []
   },
   "source": [
    "## Transactions \n",
    "The original transaction dataset is 83488 rows × 3 columns. There was no missing data."
   ]
  },
  {
   "cell_type": "code",
   "execution_count": 5,
   "id": "46160292",
   "metadata": {
    "execution": {
     "iopub.execute_input": "2022-05-04T13:28:42.728255Z",
     "iopub.status.busy": "2022-05-04T13:28:42.727441Z",
     "iopub.status.idle": "2022-05-04T13:28:43.099257Z",
     "shell.execute_reply": "2022-05-04T13:28:43.098714Z",
     "shell.execute_reply.started": "2022-03-24T01:45:32.61343Z"
    },
    "papermill": {
     "duration": 0.403691,
     "end_time": "2022-05-04T13:28:43.099429",
     "exception": false,
     "start_time": "2022-05-04T13:28:42.695738",
     "status": "completed"
    },
    "tags": []
   },
   "outputs": [
    {
     "data": {
      "text/html": [
       "<div>\n",
       "<style scoped>\n",
       "    .dataframe tbody tr th:only-of-type {\n",
       "        vertical-align: middle;\n",
       "    }\n",
       "\n",
       "    .dataframe tbody tr th {\n",
       "        vertical-align: top;\n",
       "    }\n",
       "\n",
       "    .dataframe thead th {\n",
       "        text-align: right;\n",
       "    }\n",
       "</style>\n",
       "<table border=\"1\" class=\"dataframe\">\n",
       "  <thead>\n",
       "    <tr style=\"text-align: right;\">\n",
       "      <th></th>\n",
       "      <th>date</th>\n",
       "      <th>store_nbr</th>\n",
       "      <th>transactions</th>\n",
       "      <th>year</th>\n",
       "      <th>month</th>\n",
       "      <th>day</th>\n",
       "    </tr>\n",
       "  </thead>\n",
       "  <tbody>\n",
       "    <tr>\n",
       "      <th>0</th>\n",
       "      <td>2013-01-01</td>\n",
       "      <td>25</td>\n",
       "      <td>770</td>\n",
       "      <td>2013</td>\n",
       "      <td>1</td>\n",
       "      <td>1</td>\n",
       "    </tr>\n",
       "    <tr>\n",
       "      <th>1</th>\n",
       "      <td>2013-01-02</td>\n",
       "      <td>1</td>\n",
       "      <td>2111</td>\n",
       "      <td>2013</td>\n",
       "      <td>1</td>\n",
       "      <td>2</td>\n",
       "    </tr>\n",
       "    <tr>\n",
       "      <th>2</th>\n",
       "      <td>2013-01-02</td>\n",
       "      <td>2</td>\n",
       "      <td>2358</td>\n",
       "      <td>2013</td>\n",
       "      <td>1</td>\n",
       "      <td>2</td>\n",
       "    </tr>\n",
       "    <tr>\n",
       "      <th>3</th>\n",
       "      <td>2013-01-02</td>\n",
       "      <td>3</td>\n",
       "      <td>3487</td>\n",
       "      <td>2013</td>\n",
       "      <td>1</td>\n",
       "      <td>2</td>\n",
       "    </tr>\n",
       "    <tr>\n",
       "      <th>4</th>\n",
       "      <td>2013-01-02</td>\n",
       "      <td>4</td>\n",
       "      <td>1922</td>\n",
       "      <td>2013</td>\n",
       "      <td>1</td>\n",
       "      <td>2</td>\n",
       "    </tr>\n",
       "  </tbody>\n",
       "</table>\n",
       "</div>"
      ],
      "text/plain": [
       "         date  store_nbr  transactions  year  month  day\n",
       "0  2013-01-01         25           770  2013      1    1\n",
       "1  2013-01-02          1          2111  2013      1    2\n",
       "2  2013-01-02          2          2358  2013      1    2\n",
       "3  2013-01-02          3          3487  2013      1    2\n",
       "4  2013-01-02          4          1922  2013      1    2"
      ]
     },
     "execution_count": 5,
     "metadata": {},
     "output_type": "execute_result"
    }
   ],
   "source": [
    "tDF=pd.read_csv(transaction)\n",
    "tDF.drop_duplicates() \n",
    "tDF.dropna(axis=0, how='any', thresh=None, subset=None, inplace=False) #no missing data\n",
    "\n",
    "#Feature three new columns with year, month, and day:\n",
    "tDF['year']=tDF['date'].apply(lambda x: int(str(x)[:4])) #first four\n",
    "tDF['month']=tDF['date'].apply(lambda x: int(str(x)[5:7])) #five and six\n",
    "tDF['day']=tDF['date'].apply(lambda x: int(str(x)[-2:])) # last two\n",
    "\n",
    "#Verify the new columns are setup correctly:\n",
    "#print(tDF['day'].unique()) # Correctly prints numbers 1 to 31\n",
    "#print(tDF['month'].unique()) # [ 1  2  3  4  5  6  7  8  9 10 11 12]\n",
    "#print(tDF['year'].unique()) # [2013 2014 2015 2016 2017]\n",
    "\n",
    "tDF.head() "
   ]
  },
  {
   "cell_type": "code",
   "execution_count": 6,
   "id": "b54446fa",
   "metadata": {
    "execution": {
     "iopub.execute_input": "2022-05-04T13:28:43.147187Z",
     "iopub.status.busy": "2022-05-04T13:28:43.146533Z",
     "iopub.status.idle": "2022-05-04T13:28:43.153594Z",
     "shell.execute_reply": "2022-05-04T13:28:43.154115Z",
     "shell.execute_reply.started": "2022-03-24T01:45:32.973337Z"
    },
    "papermill": {
     "duration": 0.033394,
     "end_time": "2022-05-04T13:28:43.154335",
     "exception": false,
     "start_time": "2022-05-04T13:28:43.120941",
     "status": "completed"
    },
    "tags": []
   },
   "outputs": [
    {
     "data": {
      "text/plain": [
       "date            object\n",
       "store_nbr        int64\n",
       "transactions     int64\n",
       "year             int64\n",
       "month            int64\n",
       "day              int64\n",
       "dtype: object"
      ]
     },
     "execution_count": 6,
     "metadata": {},
     "output_type": "execute_result"
    }
   ],
   "source": [
    "tDF.dtypes"
   ]
  },
  {
   "cell_type": "markdown",
   "id": "012cb8a5",
   "metadata": {
    "papermill": {
     "duration": 0.021784,
     "end_time": "2022-05-04T13:28:43.198720",
     "exception": false,
     "start_time": "2022-05-04T13:28:43.176936",
     "status": "completed"
    },
    "tags": []
   },
   "source": [
    "## Yearly Sales\n",
    "The graph clearly shows that sales went down in 2017. This is not a good trend. Prior to 2017, sales were mostly flat from years 2013 to 2016. There is a negative correlation, -.57 which verifies that sales are decreasing.  "
   ]
  },
  {
   "cell_type": "code",
   "execution_count": 7,
   "id": "cede3cbd",
   "metadata": {
    "execution": {
     "iopub.execute_input": "2022-05-04T13:28:43.250994Z",
     "iopub.status.busy": "2022-05-04T13:28:43.246045Z",
     "iopub.status.idle": "2022-05-04T13:28:43.490113Z",
     "shell.execute_reply": "2022-05-04T13:28:43.490909Z",
     "shell.execute_reply.started": "2022-03-24T01:45:32.98312Z"
    },
    "papermill": {
     "duration": 0.270444,
     "end_time": "2022-05-04T13:28:43.491162",
     "exception": false,
     "start_time": "2022-05-04T13:28:43.220718",
     "status": "completed"
    },
    "tags": []
   },
   "outputs": [
    {
     "name": "stdout",
     "output_type": "stream",
     "text": [
      "   year  transactions\n",
      "0  2013      29107173\n",
      "1  2014      30006929\n",
      "2  2015      31312370\n",
      "3  2016      31052337\n",
      "4  2017      20000136\n"
     ]
    },
    {
     "data": {
      "image/png": "[encoded data removed]",
      "text/plain": [
       "<Figure size 432x288 with 1 Axes>"
      ]
     },
     "metadata": {
      "needs_background": "light"
     },
     "output_type": "display_data"
    },
    {
     "name": "stdout",
     "output_type": "stream",
     "text": [
      "-0.5752  is the correlations between year and transactions\n"
     ]
    }
   ],
   "source": [
    "yearGb=tDF.groupby('year')['transactions'].sum().reset_index()\n",
    "print(yearGb)\n",
    "x=yearGb['year']\n",
    "y=yearGb['transactions']\n",
    "plt.title(\"Transactions By Year:\")\n",
    "plt.xticks(rotation=90)\n",
    "plt.bar(x,y)\n",
    "plt.show()\n",
    "\n",
    "yearCorr=x.corr(y).round(4)\n",
    "print(yearCorr, \" is the correlations between year and transactions\")"
   ]
  },
  {
   "cell_type": "markdown",
   "id": "c8787640",
   "metadata": {
    "papermill": {
     "duration": 0.023468,
     "end_time": "2022-05-04T13:28:43.538977",
     "exception": false,
     "start_time": "2022-05-04T13:28:43.515509",
     "status": "completed"
    },
    "tags": []
   },
   "source": [
    "## Monthly Sales \n",
    "Sales are the least in September, October, and November. The rest of the months are fairly similiar. Surprisingly, December did not have the highest sales as normally that is when stores have most of their sales from Christmas."
   ]
  },
  {
   "cell_type": "code",
   "execution_count": 8,
   "id": "35d11c98",
   "metadata": {
    "execution": {
     "iopub.execute_input": "2022-05-04T13:28:43.595354Z",
     "iopub.status.busy": "2022-05-04T13:28:43.594614Z",
     "iopub.status.idle": "2022-05-04T13:28:43.806723Z",
     "shell.execute_reply": "2022-05-04T13:28:43.807239Z",
     "shell.execute_reply.started": "2022-03-24T01:45:33.26598Z"
    },
    "papermill": {
     "duration": 0.244876,
     "end_time": "2022-05-04T13:28:43.807433",
     "exception": false,
     "start_time": "2022-05-04T13:28:43.562557",
     "status": "completed"
    },
    "tags": []
   },
   "outputs": [
    {
     "name": "stdout",
     "output_type": "stream",
     "text": [
      "    month  transactions\n",
      "0       1      12156198\n",
      "1       2      11707934\n",
      "2       3      12917913\n",
      "3       4      12633531\n",
      "4       5      13112679\n",
      "5       6      12482179\n",
      "6       7      12827206\n",
      "7       8      11545571\n",
      "8       9       9811819\n",
      "9      10      10048234\n",
      "10     11       9877873\n",
      "11     12      12357808\n"
     ]
    },
    {
     "data": {
      "image/png": "[encoded data removed]",
      "text/plain": [
       "<Figure size 432x288 with 1 Axes>"
      ]
     },
     "metadata": {
      "needs_background": "light"
     },
     "output_type": "display_data"
    },
    {
     "name": "stdout",
     "output_type": "stream",
     "text": [
      "-0.545  is the correlations between month and transactions\n"
     ]
    }
   ],
   "source": [
    "monthGb=tDF.groupby('month')['transactions'].sum().reset_index()\n",
    "print(monthGb)\n",
    "x=monthGb['month']\n",
    "y=monthGb['transactions']\n",
    "plt.title(\"Transactions By Month:\")\n",
    "plt.xticks(rotation=90)\n",
    "plt.bar(x,y)\n",
    "plt.show()\n",
    "\n",
    "monthCorr=x.corr(y).round(4)\n",
    "print(monthCorr, \" is the correlations between month and transactions\")"
   ]
  },
  {
   "cell_type": "markdown",
   "id": "66c465d7",
   "metadata": {
    "papermill": {
     "duration": 0.025252,
     "end_time": "2022-05-04T13:28:43.857725",
     "exception": false,
     "start_time": "2022-05-04T13:28:43.832473",
     "status": "completed"
    },
    "tags": []
   },
   "source": [
    "## Family"
   ]
  },
  {
   "cell_type": "code",
   "execution_count": 9,
   "id": "817f9db3",
   "metadata": {
    "execution": {
     "iopub.execute_input": "2022-05-04T13:28:43.959427Z",
     "iopub.status.busy": "2022-05-04T13:28:43.912397Z",
     "iopub.status.idle": "2022-05-04T13:28:44.443583Z",
     "shell.execute_reply": "2022-05-04T13:28:44.444091Z",
     "shell.execute_reply.started": "2022-03-24T01:45:33.478207Z"
    },
    "papermill": {
     "duration": 0.561372,
     "end_time": "2022-05-04T13:28:44.444316",
     "exception": false,
     "start_time": "2022-05-04T13:28:43.882944",
     "status": "completed"
    },
    "tags": []
   },
   "outputs": [
    {
     "data": {
      "image/png": "[encoded data removed]",
      "text/plain": [
       "<Figure size 432x288 with 1 Axes>"
      ]
     },
     "metadata": {
      "needs_background": "light"
     },
     "output_type": "display_data"
    }
   ],
   "source": [
    "famGb=trainDF.groupby('family')['sales'].sum().reset_index().sort_values('sales', ascending=False).head(15)\n",
    "#print(famGb)\n",
    "x=famGb['family']\n",
    "y=famGb['sales']\n",
    "plt.title(\"Transactions By Family:\")\n",
    "plt.xticks(rotation=90)\n",
    "plt.bar(x,y)\n",
    "plt.show()"
   ]
  },
  {
   "cell_type": "markdown",
   "id": "e96f24ac",
   "metadata": {
    "papermill": {
     "duration": 0.026302,
     "end_time": "2022-05-04T13:28:44.497456",
     "exception": false,
     "start_time": "2022-05-04T13:28:44.471154",
     "status": "completed"
    },
    "tags": []
   },
   "source": [
    "## Test Dataset"
   ]
  },
  {
   "cell_type": "code",
   "execution_count": 10,
   "id": "1b60ca40",
   "metadata": {
    "execution": {
     "iopub.execute_input": "2022-05-04T13:28:44.555089Z",
     "iopub.status.busy": "2022-05-04T13:28:44.554004Z",
     "iopub.status.idle": "2022-05-04T13:28:44.605986Z",
     "shell.execute_reply": "2022-05-04T13:28:44.606527Z",
     "shell.execute_reply.started": "2022-03-24T01:45:34.002613Z"
    },
    "papermill": {
     "duration": 0.082759,
     "end_time": "2022-05-04T13:28:44.606732",
     "exception": false,
     "start_time": "2022-05-04T13:28:44.523973",
     "status": "completed"
    },
    "tags": []
   },
   "outputs": [
    {
     "data": {
      "text/html": [
       "<div>\n",
       "<style scoped>\n",
       "    .dataframe tbody tr th:only-of-type {\n",
       "        vertical-align: middle;\n",
       "    }\n",
       "\n",
       "    .dataframe tbody tr th {\n",
       "        vertical-align: top;\n",
       "    }\n",
       "\n",
       "    .dataframe thead th {\n",
       "        text-align: right;\n",
       "    }\n",
       "</style>\n",
       "<table border=\"1\" class=\"dataframe\">\n",
       "  <thead>\n",
       "    <tr style=\"text-align: right;\">\n",
       "      <th></th>\n",
       "      <th>id</th>\n",
       "      <th>date</th>\n",
       "      <th>store_nbr</th>\n",
       "      <th>family</th>\n",
       "      <th>onpromotion</th>\n",
       "    </tr>\n",
       "  </thead>\n",
       "  <tbody>\n",
       "    <tr>\n",
       "      <th>0</th>\n",
       "      <td>3000888</td>\n",
       "      <td>2017-08-16</td>\n",
       "      <td>1</td>\n",
       "      <td>AUTOMOTIVE</td>\n",
       "      <td>0</td>\n",
       "    </tr>\n",
       "    <tr>\n",
       "      <th>1</th>\n",
       "      <td>3000889</td>\n",
       "      <td>2017-08-16</td>\n",
       "      <td>1</td>\n",
       "      <td>BABY CARE</td>\n",
       "      <td>0</td>\n",
       "    </tr>\n",
       "    <tr>\n",
       "      <th>2</th>\n",
       "      <td>3000890</td>\n",
       "      <td>2017-08-16</td>\n",
       "      <td>1</td>\n",
       "      <td>BEAUTY</td>\n",
       "      <td>2</td>\n",
       "    </tr>\n",
       "    <tr>\n",
       "      <th>3</th>\n",
       "      <td>3000891</td>\n",
       "      <td>2017-08-16</td>\n",
       "      <td>1</td>\n",
       "      <td>BEVERAGES</td>\n",
       "      <td>20</td>\n",
       "    </tr>\n",
       "    <tr>\n",
       "      <th>4</th>\n",
       "      <td>3000892</td>\n",
       "      <td>2017-08-16</td>\n",
       "      <td>1</td>\n",
       "      <td>BOOKS</td>\n",
       "      <td>0</td>\n",
       "    </tr>\n",
       "  </tbody>\n",
       "</table>\n",
       "</div>"
      ],
      "text/plain": [
       "        id        date  store_nbr      family  onpromotion\n",
       "0  3000888  2017-08-16          1  AUTOMOTIVE            0\n",
       "1  3000889  2017-08-16          1   BABY CARE            0\n",
       "2  3000890  2017-08-16          1      BEAUTY            2\n",
       "3  3000891  2017-08-16          1   BEVERAGES           20\n",
       "4  3000892  2017-08-16          1       BOOKS            0"
      ]
     },
     "execution_count": 10,
     "metadata": {},
     "output_type": "execute_result"
    }
   ],
   "source": [
    "test=pd.read_csv(test)\n",
    "test.head()"
   ]
  },
  {
   "cell_type": "markdown",
   "id": "d44e006b",
   "metadata": {
    "papermill": {
     "duration": 0.026608,
     "end_time": "2022-05-04T13:28:44.660529",
     "exception": false,
     "start_time": "2022-05-04T13:28:44.633921",
     "status": "completed"
    },
    "tags": []
   },
   "source": [
    "## Extra: Multivariate time series forecasting\n",
    "A more complex way to do times series forecasting is using the datetime as dt import. Since the transaction dataset did not have minutes and seconds there was no need to use this more complicated full function for all the new columns you can make from a datetime. In this specific sales case, we will only be needing month, year, and day since time was not provided.\n",
    "\n",
    "The date column is currently an object but needs to be chnaged to a datetime datatype column. This will help later when we use the create_time_features later. Dates are initially as 2013-01-02 format so wo will keep that consistent. Missing values must be deleted one last time in the event there was an coerce error that occurs. Finally, we must transform each date to a datetime that can be regonized by using .dt for the create_time_features function to work. Here is a good SO article on how to solve this issue:\n",
    "https://stackoverflow.com/questions/56698521/can-only-use-dt-accessor-with-datetimelike-values/56698574"
   ]
  },
  {
   "cell_type": "code",
   "execution_count": 11,
   "id": "0a922652",
   "metadata": {
    "execution": {
     "iopub.execute_input": "2022-05-04T13:28:44.723477Z",
     "iopub.status.busy": "2022-05-04T13:28:44.722784Z",
     "iopub.status.idle": "2022-05-04T13:28:44.724605Z",
     "shell.execute_reply": "2022-05-04T13:28:44.725214Z",
     "shell.execute_reply.started": "2022-03-24T01:45:34.048788Z"
    },
    "papermill": {
     "duration": 0.037956,
     "end_time": "2022-05-04T13:28:44.725401",
     "exception": false,
     "start_time": "2022-05-04T13:28:44.687445",
     "status": "completed"
    },
    "tags": []
   },
   "outputs": [],
   "source": [
    "import datetime as dt\n",
    "from datetime import datetime\n",
    "\n",
    "# ADD time features to our model:\n",
    "def create_time_features(df, target=None):\n",
    "    \"\"\"\n",
    "    Creates time series features from datetime index\n",
    "    \"\"\"\n",
    "    df['date'] = df.index\n",
    "    #df['hour'] = df['date'].dt.hour\n",
    "    #df['dayofweek'] = df['date'].dt.dayofweek\n",
    "    #df['quarter'] = df['date'].dt.quarter\n",
    "    df['month'] = df['date'].dt.month\n",
    "    df['year'] = df['date'].dt.year\n",
    "    df['dayofyear'] = df['date'].dt.dayofyear\n",
    "    #df['sin_day'] = np.sin(df['dayofyear'])\n",
    "    #df['cos_day'] = np.cos(df['dayofyear'])\n",
    "    #df['dayofmonth'] = df['date'].dt.day\n",
    "    #df['weekofyear'] = df['date'].dt.weekofyear\n",
    "    X = df.drop(['date'], axis=1)\n",
    "    if target:\n",
    "        y = df[target]\n",
    "        X = X.drop([target], axis=1)\n",
    "        return X, y\n",
    "    \n",
    "    return X"
   ]
  }
 ],
 "metadata": {
  "kernelspec": {
   "display_name": "Python 3",
   "language": "python",
   "name": "python3"
  },
  "language_info": {
   "codemirror_mode": {
    "name": "ipython",
    "version": 3
   },
   "file_extension": ".py",
   "mimetype": "text/x-python",
   "name": "python",
   "nbconvert_exporter": "python",
   "pygments_lexer": "ipython3",
   "version": "3.7.12"
  },
  "papermill": {
   "default_parameters": {},
   "duration": 23.943581,
   "end_time": "2022-05-04T13:28:46.066600",
   "environment_variables": {},
   "exception": null,
   "input_path": "__notebook__.ipynb",
   "output_path": "__notebook__.ipynb",
   "parameters": {},
   "start_time": "2022-05-04T13:28:22.123019",
   "version": "2.3.3"
  }
 },
 "nbformat": 4,
 "nbformat_minor": 5
}
