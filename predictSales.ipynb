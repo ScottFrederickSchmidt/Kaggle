{
 "cells": [
  {
   "cell_type": "markdown",
   "id": "e6213bb7",
   "metadata": {
    "papermill": {
     "duration": 0.01048,
     "end_time": "2022-11-25T18:47:43.833272",
     "exception": false,
     "start_time": "2022-11-25T18:47:43.822792",
     "status": "completed"
    },
    "tags": []
   },
   "source": [
    "# Predict Future Sales\n",
    "You are provided with daily historical sales data. The task is to forecast the total amount of products sold in every shop for the test set. Note that the list of shops and products slightly changes every month. Creating a robust model that can handle such situations is part of the challenge."
   ]
  },
  {
   "cell_type": "markdown",
   "id": "faf4d50a",
   "metadata": {
    "papermill": {
     "duration": 0.007905,
     "end_time": "2022-11-25T18:47:43.849641",
     "exception": false,
     "start_time": "2022-11-25T18:47:43.841736",
     "status": "completed"
    },
    "tags": []
   },
   "source": [
    "## File descriptions\n",
    "* sales_train.csv - the training set. Daily historical data from January 2013 to October 2015.\n",
    "* test.csv - the test set. You need to forecast the sales for these shops and products for November 2015.\n",
    "* sample_submission.csv - a sample submission file in the correct format.\n",
    "* items.csv - supplemental information about the items/products.\n",
    "* item_categories.csv  - supplemental information about the items categories.\n",
    "* shops.csv- supplemental information about the shops."
   ]
  },
  {
   "cell_type": "code",
   "execution_count": 1,
   "id": "7d7709d6",
   "metadata": {
    "execution": {
     "iopub.execute_input": "2022-11-25T18:47:43.868803Z",
     "iopub.status.busy": "2022-11-25T18:47:43.867907Z",
     "iopub.status.idle": "2022-11-25T18:47:43.880747Z",
     "shell.execute_reply": "2022-11-25T18:47:43.879883Z"
    },
    "papermill": {
     "duration": 0.025402,
     "end_time": "2022-11-25T18:47:43.883266",
     "exception": false,
     "start_time": "2022-11-25T18:47:43.857864",
     "status": "completed"
    },
    "tags": []
   },
   "outputs": [],
   "source": [
    "import pandas as pd\n",
    "\n",
    "items=r'/kaggle/input/competitive-data-science-predict-future-sales/items.csv'\n",
    "categories=r'/kaggle/input/competitive-data-science-predict-future-sales/item_categories.csv'\n",
    "train=r'/kaggle/input/competitive-data-science-predict-future-sales/sales_train.csv'\n",
    "shops=r'/kaggle/input/competitive-data-science-predict-future-sales/shops.csv'\n",
    "test=r'/kaggle/input/competitive-data-science-predict-future-sales/test.csv'"
   ]
  },
  {
   "cell_type": "code",
   "execution_count": 2,
   "id": "c3c0e7e3",
   "metadata": {
    "execution": {
     "iopub.execute_input": "2022-11-25T18:47:43.902026Z",
     "iopub.status.busy": "2022-11-25T18:47:43.901105Z",
     "iopub.status.idle": "2022-11-25T18:47:46.752419Z",
     "shell.execute_reply": "2022-11-25T18:47:46.751667Z"
    },
    "papermill": {
     "duration": 2.863647,
     "end_time": "2022-11-25T18:47:46.755445",
     "exception": false,
     "start_time": "2022-11-25T18:47:43.891798",
     "status": "completed"
    },
    "tags": []
   },
   "outputs": [
    {
     "data": {
      "text/html": [
       "<div>\n",
       "<style scoped>\n",
       "    .dataframe tbody tr th:only-of-type {\n",
       "        vertical-align: middle;\n",
       "    }\n",
       "\n",
       "    .dataframe tbody tr th {\n",
       "        vertical-align: top;\n",
       "    }\n",
       "\n",
       "    .dataframe thead th {\n",
       "        text-align: right;\n",
       "    }\n",
       "</style>\n",
       "<table border=\"1\" class=\"dataframe\">\n",
       "  <thead>\n",
       "    <tr style=\"text-align: right;\">\n",
       "      <th></th>\n",
       "      <th>date</th>\n",
       "      <th>date_block_num</th>\n",
       "      <th>shop_id</th>\n",
       "      <th>item_id</th>\n",
       "      <th>item_price</th>\n",
       "      <th>item_cnt_day</th>\n",
       "    </tr>\n",
       "  </thead>\n",
       "  <tbody>\n",
       "    <tr>\n",
       "      <th>0</th>\n",
       "      <td>02.01.2013</td>\n",
       "      <td>0</td>\n",
       "      <td>59</td>\n",
       "      <td>22154</td>\n",
       "      <td>999.00</td>\n",
       "      <td>1.0</td>\n",
       "    </tr>\n",
       "    <tr>\n",
       "      <th>1</th>\n",
       "      <td>03.01.2013</td>\n",
       "      <td>0</td>\n",
       "      <td>25</td>\n",
       "      <td>2552</td>\n",
       "      <td>899.00</td>\n",
       "      <td>1.0</td>\n",
       "    </tr>\n",
       "    <tr>\n",
       "      <th>2</th>\n",
       "      <td>05.01.2013</td>\n",
       "      <td>0</td>\n",
       "      <td>25</td>\n",
       "      <td>2552</td>\n",
       "      <td>899.00</td>\n",
       "      <td>-1.0</td>\n",
       "    </tr>\n",
       "    <tr>\n",
       "      <th>3</th>\n",
       "      <td>06.01.2013</td>\n",
       "      <td>0</td>\n",
       "      <td>25</td>\n",
       "      <td>2554</td>\n",
       "      <td>1709.05</td>\n",
       "      <td>1.0</td>\n",
       "    </tr>\n",
       "    <tr>\n",
       "      <th>4</th>\n",
       "      <td>15.01.2013</td>\n",
       "      <td>0</td>\n",
       "      <td>25</td>\n",
       "      <td>2555</td>\n",
       "      <td>1099.00</td>\n",
       "      <td>1.0</td>\n",
       "    </tr>\n",
       "  </tbody>\n",
       "</table>\n",
       "</div>"
      ],
      "text/plain": [
       "         date  date_block_num  shop_id  item_id  item_price  item_cnt_day\n",
       "0  02.01.2013               0       59    22154      999.00           1.0\n",
       "1  03.01.2013               0       25     2552      899.00           1.0\n",
       "2  05.01.2013               0       25     2552      899.00          -1.0\n",
       "3  06.01.2013               0       25     2554     1709.05           1.0\n",
       "4  15.01.2013               0       25     2555     1099.00           1.0"
      ]
     },
     "execution_count": 2,
     "metadata": {},
     "output_type": "execute_result"
    }
   ],
   "source": [
    "train=pd.read_csv(train)\n",
    "train.head()"
   ]
  },
  {
   "cell_type": "code",
   "execution_count": 3,
   "id": "0ed4ada4",
   "metadata": {
    "execution": {
     "iopub.execute_input": "2022-11-25T18:47:46.775434Z",
     "iopub.status.busy": "2022-11-25T18:47:46.774335Z",
     "iopub.status.idle": "2022-11-25T18:47:46.790204Z",
     "shell.execute_reply": "2022-11-25T18:47:46.789252Z"
    },
    "papermill": {
     "duration": 0.027877,
     "end_time": "2022-11-25T18:47:46.792532",
     "exception": false,
     "start_time": "2022-11-25T18:47:46.764655",
     "status": "completed"
    },
    "tags": []
   },
   "outputs": [
    {
     "data": {
      "text/html": [
       "<div>\n",
       "<style scoped>\n",
       "    .dataframe tbody tr th:only-of-type {\n",
       "        vertical-align: middle;\n",
       "    }\n",
       "\n",
       "    .dataframe tbody tr th {\n",
       "        vertical-align: top;\n",
       "    }\n",
       "\n",
       "    .dataframe thead th {\n",
       "        text-align: right;\n",
       "    }\n",
       "</style>\n",
       "<table border=\"1\" class=\"dataframe\">\n",
       "  <thead>\n",
       "    <tr style=\"text-align: right;\">\n",
       "      <th></th>\n",
       "      <th>shop_name</th>\n",
       "      <th>shop_id</th>\n",
       "    </tr>\n",
       "  </thead>\n",
       "  <tbody>\n",
       "    <tr>\n",
       "      <th>0</th>\n",
       "      <td>!Якутск Орджоникидзе, 56 фран</td>\n",
       "      <td>0</td>\n",
       "    </tr>\n",
       "    <tr>\n",
       "      <th>1</th>\n",
       "      <td>!Якутск ТЦ \"Центральный\" фран</td>\n",
       "      <td>1</td>\n",
       "    </tr>\n",
       "    <tr>\n",
       "      <th>2</th>\n",
       "      <td>Адыгея ТЦ \"Мега\"</td>\n",
       "      <td>2</td>\n",
       "    </tr>\n",
       "    <tr>\n",
       "      <th>3</th>\n",
       "      <td>Балашиха ТРК \"Октябрь-Киномир\"</td>\n",
       "      <td>3</td>\n",
       "    </tr>\n",
       "    <tr>\n",
       "      <th>4</th>\n",
       "      <td>Волжский ТЦ \"Волга Молл\"</td>\n",
       "      <td>4</td>\n",
       "    </tr>\n",
       "  </tbody>\n",
       "</table>\n",
       "</div>"
      ],
      "text/plain": [
       "                        shop_name  shop_id\n",
       "0   !Якутск Орджоникидзе, 56 фран        0\n",
       "1   !Якутск ТЦ \"Центральный\" фран        1\n",
       "2                Адыгея ТЦ \"Мега\"        2\n",
       "3  Балашиха ТРК \"Октябрь-Киномир\"        3\n",
       "4        Волжский ТЦ \"Волга Молл\"        4"
      ]
     },
     "execution_count": 3,
     "metadata": {},
     "output_type": "execute_result"
    }
   ],
   "source": [
    "shops=pd.read_csv(shops)\n",
    "shops.head()"
   ]
  },
  {
   "cell_type": "code",
   "execution_count": 4,
   "id": "0d3257d4",
   "metadata": {
    "execution": {
     "iopub.execute_input": "2022-11-25T18:47:46.813600Z",
     "iopub.status.busy": "2022-11-25T18:47:46.812565Z",
     "iopub.status.idle": "2022-11-25T18:47:46.896588Z",
     "shell.execute_reply": "2022-11-25T18:47:46.895799Z"
    },
    "papermill": {
     "duration": 0.095801,
     "end_time": "2022-11-25T18:47:46.898692",
     "exception": false,
     "start_time": "2022-11-25T18:47:46.802891",
     "status": "completed"
    },
    "tags": []
   },
   "outputs": [
    {
     "data": {
      "text/html": [
       "<div>\n",
       "<style scoped>\n",
       "    .dataframe tbody tr th:only-of-type {\n",
       "        vertical-align: middle;\n",
       "    }\n",
       "\n",
       "    .dataframe tbody tr th {\n",
       "        vertical-align: top;\n",
       "    }\n",
       "\n",
       "    .dataframe thead th {\n",
       "        text-align: right;\n",
       "    }\n",
       "</style>\n",
       "<table border=\"1\" class=\"dataframe\">\n",
       "  <thead>\n",
       "    <tr style=\"text-align: right;\">\n",
       "      <th></th>\n",
       "      <th>item_name</th>\n",
       "      <th>item_id</th>\n",
       "      <th>item_category_id</th>\n",
       "    </tr>\n",
       "  </thead>\n",
       "  <tbody>\n",
       "    <tr>\n",
       "      <th>0</th>\n",
       "      <td>! ВО ВЛАСТИ НАВАЖДЕНИЯ (ПЛАСТ.)         D</td>\n",
       "      <td>0</td>\n",
       "      <td>40</td>\n",
       "    </tr>\n",
       "    <tr>\n",
       "      <th>1</th>\n",
       "      <td>!ABBYY FineReader 12 Professional Edition Full...</td>\n",
       "      <td>1</td>\n",
       "      <td>76</td>\n",
       "    </tr>\n",
       "    <tr>\n",
       "      <th>2</th>\n",
       "      <td>***В ЛУЧАХ СЛАВЫ   (UNV)                    D</td>\n",
       "      <td>2</td>\n",
       "      <td>40</td>\n",
       "    </tr>\n",
       "    <tr>\n",
       "      <th>3</th>\n",
       "      <td>***ГОЛУБАЯ ВОЛНА  (Univ)                      D</td>\n",
       "      <td>3</td>\n",
       "      <td>40</td>\n",
       "    </tr>\n",
       "    <tr>\n",
       "      <th>4</th>\n",
       "      <td>***КОРОБКА (СТЕКЛО)                       D</td>\n",
       "      <td>4</td>\n",
       "      <td>40</td>\n",
       "    </tr>\n",
       "  </tbody>\n",
       "</table>\n",
       "</div>"
      ],
      "text/plain": [
       "                                           item_name  item_id  \\\n",
       "0          ! ВО ВЛАСТИ НАВАЖДЕНИЯ (ПЛАСТ.)         D        0   \n",
       "1  !ABBYY FineReader 12 Professional Edition Full...        1   \n",
       "2      ***В ЛУЧАХ СЛАВЫ   (UNV)                    D        2   \n",
       "3    ***ГОЛУБАЯ ВОЛНА  (Univ)                      D        3   \n",
       "4        ***КОРОБКА (СТЕКЛО)                       D        4   \n",
       "\n",
       "   item_category_id  \n",
       "0                40  \n",
       "1                76  \n",
       "2                40  \n",
       "3                40  \n",
       "4                40  "
      ]
     },
     "execution_count": 4,
     "metadata": {},
     "output_type": "execute_result"
    }
   ],
   "source": [
    "items=pd.read_csv(items)\n",
    "items.head()"
   ]
  },
  {
   "cell_type": "code",
   "execution_count": 5,
   "id": "7c7f3487",
   "metadata": {
    "execution": {
     "iopub.execute_input": "2022-11-25T18:47:46.918840Z",
     "iopub.status.busy": "2022-11-25T18:47:46.918428Z",
     "iopub.status.idle": "2022-11-25T18:47:46.937232Z",
     "shell.execute_reply": "2022-11-25T18:47:46.936174Z"
    },
    "papermill": {
     "duration": 0.031953,
     "end_time": "2022-11-25T18:47:46.939664",
     "exception": false,
     "start_time": "2022-11-25T18:47:46.907711",
     "status": "completed"
    },
    "tags": []
   },
   "outputs": [
    {
     "data": {
      "text/html": [
       "<div>\n",
       "<style scoped>\n",
       "    .dataframe tbody tr th:only-of-type {\n",
       "        vertical-align: middle;\n",
       "    }\n",
       "\n",
       "    .dataframe tbody tr th {\n",
       "        vertical-align: top;\n",
       "    }\n",
       "\n",
       "    .dataframe thead th {\n",
       "        text-align: right;\n",
       "    }\n",
       "</style>\n",
       "<table border=\"1\" class=\"dataframe\">\n",
       "  <thead>\n",
       "    <tr style=\"text-align: right;\">\n",
       "      <th></th>\n",
       "      <th>item_category_name</th>\n",
       "      <th>item_category_id</th>\n",
       "    </tr>\n",
       "  </thead>\n",
       "  <tbody>\n",
       "    <tr>\n",
       "      <th>0</th>\n",
       "      <td>PC - Гарнитуры/Наушники</td>\n",
       "      <td>0</td>\n",
       "    </tr>\n",
       "    <tr>\n",
       "      <th>1</th>\n",
       "      <td>Аксессуары - PS2</td>\n",
       "      <td>1</td>\n",
       "    </tr>\n",
       "    <tr>\n",
       "      <th>2</th>\n",
       "      <td>Аксессуары - PS3</td>\n",
       "      <td>2</td>\n",
       "    </tr>\n",
       "    <tr>\n",
       "      <th>3</th>\n",
       "      <td>Аксессуары - PS4</td>\n",
       "      <td>3</td>\n",
       "    </tr>\n",
       "    <tr>\n",
       "      <th>4</th>\n",
       "      <td>Аксессуары - PSP</td>\n",
       "      <td>4</td>\n",
       "    </tr>\n",
       "  </tbody>\n",
       "</table>\n",
       "</div>"
      ],
      "text/plain": [
       "        item_category_name  item_category_id\n",
       "0  PC - Гарнитуры/Наушники                 0\n",
       "1         Аксессуары - PS2                 1\n",
       "2         Аксессуары - PS3                 2\n",
       "3         Аксессуары - PS4                 3\n",
       "4         Аксессуары - PSP                 4"
      ]
     },
     "execution_count": 5,
     "metadata": {},
     "output_type": "execute_result"
    }
   ],
   "source": [
    "categories=pd.read_csv(categories)\n",
    "categories.head()"
   ]
  },
  {
   "cell_type": "markdown",
   "id": "c67e27a8",
   "metadata": {
    "papermill": {
     "duration": 0.008888,
     "end_time": "2022-11-25T18:47:46.957968",
     "exception": false,
     "start_time": "2022-11-25T18:47:46.949080",
     "status": "completed"
    },
    "tags": []
   },
   "source": [
    "# Merged DataFrame\n",
    "Data fields\n",
    "* ID - an Id that represents a (Shop, Item) tuple within the test set\n",
    "* shop_id - unique identifier of a shop\n",
    "* item_id - unique identifier of a product\n",
    "* item_category_id - unique identifier of item category\n",
    "* item_cnt_day - number of products sold. You are predicting a monthly amount of this measure\n",
    "* item_price - current price of an item\n",
    "* date - date in format dd/mm/yyyy\n",
    "* date_block_num - a consecutive month number, used for convenience. January 2013 is 0, February 2013 is 1,..., October 2015 is 33\n",
    "* item_name - name of item"
   ]
  },
  {
   "cell_type": "code",
   "execution_count": 6,
   "id": "07356a8f",
   "metadata": {
    "execution": {
     "iopub.execute_input": "2022-11-25T18:47:46.978653Z",
     "iopub.status.busy": "2022-11-25T18:47:46.977931Z",
     "iopub.status.idle": "2022-11-25T18:47:47.425964Z",
     "shell.execute_reply": "2022-11-25T18:47:47.424925Z"
    },
    "papermill": {
     "duration": 0.461109,
     "end_time": "2022-11-25T18:47:47.428373",
     "exception": false,
     "start_time": "2022-11-25T18:47:46.967264",
     "status": "completed"
    },
    "tags": []
   },
   "outputs": [
    {
     "data": {
      "text/html": [
       "<div>\n",
       "<style scoped>\n",
       "    .dataframe tbody tr th:only-of-type {\n",
       "        vertical-align: middle;\n",
       "    }\n",
       "\n",
       "    .dataframe tbody tr th {\n",
       "        vertical-align: top;\n",
       "    }\n",
       "\n",
       "    .dataframe thead th {\n",
       "        text-align: right;\n",
       "    }\n",
       "</style>\n",
       "<table border=\"1\" class=\"dataframe\">\n",
       "  <thead>\n",
       "    <tr style=\"text-align: right;\">\n",
       "      <th></th>\n",
       "      <th>date</th>\n",
       "      <th>date_block_num</th>\n",
       "      <th>shop_id</th>\n",
       "      <th>item_id</th>\n",
       "      <th>item_price</th>\n",
       "      <th>item_cnt_day</th>\n",
       "      <th>shop_name</th>\n",
       "    </tr>\n",
       "  </thead>\n",
       "  <tbody>\n",
       "    <tr>\n",
       "      <th>0</th>\n",
       "      <td>02.01.2013</td>\n",
       "      <td>0</td>\n",
       "      <td>59</td>\n",
       "      <td>22154</td>\n",
       "      <td>999.0</td>\n",
       "      <td>1.0</td>\n",
       "      <td>Ярославль ТЦ \"Альтаир\"</td>\n",
       "    </tr>\n",
       "    <tr>\n",
       "      <th>1</th>\n",
       "      <td>10.01.2013</td>\n",
       "      <td>0</td>\n",
       "      <td>59</td>\n",
       "      <td>22151</td>\n",
       "      <td>399.0</td>\n",
       "      <td>1.0</td>\n",
       "      <td>Ярославль ТЦ \"Альтаир\"</td>\n",
       "    </tr>\n",
       "    <tr>\n",
       "      <th>2</th>\n",
       "      <td>04.01.2013</td>\n",
       "      <td>0</td>\n",
       "      <td>59</td>\n",
       "      <td>5603</td>\n",
       "      <td>699.0</td>\n",
       "      <td>1.0</td>\n",
       "      <td>Ярославль ТЦ \"Альтаир\"</td>\n",
       "    </tr>\n",
       "    <tr>\n",
       "      <th>3</th>\n",
       "      <td>19.01.2013</td>\n",
       "      <td>0</td>\n",
       "      <td>59</td>\n",
       "      <td>5587</td>\n",
       "      <td>199.0</td>\n",
       "      <td>2.0</td>\n",
       "      <td>Ярославль ТЦ \"Альтаир\"</td>\n",
       "    </tr>\n",
       "    <tr>\n",
       "      <th>4</th>\n",
       "      <td>31.01.2013</td>\n",
       "      <td>0</td>\n",
       "      <td>59</td>\n",
       "      <td>5613</td>\n",
       "      <td>5571.0</td>\n",
       "      <td>1.0</td>\n",
       "      <td>Ярославль ТЦ \"Альтаир\"</td>\n",
       "    </tr>\n",
       "  </tbody>\n",
       "</table>\n",
       "</div>"
      ],
      "text/plain": [
       "         date  date_block_num  shop_id  item_id  item_price  item_cnt_day  \\\n",
       "0  02.01.2013               0       59    22154       999.0           1.0   \n",
       "1  10.01.2013               0       59    22151       399.0           1.0   \n",
       "2  04.01.2013               0       59     5603       699.0           1.0   \n",
       "3  19.01.2013               0       59     5587       199.0           2.0   \n",
       "4  31.01.2013               0       59     5613      5571.0           1.0   \n",
       "\n",
       "                shop_name  \n",
       "0  Ярославль ТЦ \"Альтаир\"  \n",
       "1  Ярославль ТЦ \"Альтаир\"  \n",
       "2  Ярославль ТЦ \"Альтаир\"  \n",
       "3  Ярославль ТЦ \"Альтаир\"  \n",
       "4  Ярославль ТЦ \"Альтаир\"  "
      ]
     },
     "execution_count": 6,
     "metadata": {},
     "output_type": "execute_result"
    }
   ],
   "source": [
    "df=pd.merge(train, shops, on='shop_id')\n",
    "df.head()"
   ]
  },
  {
   "cell_type": "code",
   "execution_count": 7,
   "id": "d72411a8",
   "metadata": {
    "execution": {
     "iopub.execute_input": "2022-11-25T18:47:47.449330Z",
     "iopub.status.busy": "2022-11-25T18:47:47.448645Z",
     "iopub.status.idle": "2022-11-25T18:47:47.487753Z",
     "shell.execute_reply": "2022-11-25T18:47:47.485943Z"
    },
    "papermill": {
     "duration": 0.052433,
     "end_time": "2022-11-25T18:47:47.490365",
     "exception": false,
     "start_time": "2022-11-25T18:47:47.437932",
     "status": "completed"
    },
    "tags": []
   },
   "outputs": [
    {
     "name": "stdout",
     "output_type": "stream",
     "text": [
      "[1.0, 2.0, -1.0, 3.0, 5.0, 6.0, 4.0, -2.0, 10.0, 8.0, 9.0, 7.0, 16.0, 13.0, 12.0, 14.0, 26.0, 11.0, 20.0, 39.0, 28.0, 27.0, 34.0, 19.0, 31.0, 22.0, 17.0, 29.0, 45.0, 21.0, 18.0, 56.0, 15.0, 80.0, 69.0, 40.0, 24.0, 32.0, 23.0, 25.0, 77.0, 41.0, 33.0, 37.0, 36.0, 38.0, 70.0, 30.0, 44.0, 71.0, 48.0, 62.0, 264.0, 110.0, 133.0, 51.0, 46.0, 60.0, 43.0, 65.0, 84.0, 50.0, 47.0, 52.0, 85.0, 35.0, 54.0, 68.0, 59.0, 91.0, 64.0, 87.0, 74.0, 42.0, 501.0, 93.0, 49.0, 53.0, 147.0, 72.0, 205.0, 67.0, 63.0, 55.0, 222.0, 207.0, 82.0, 148.0, 134.0, 78.0, 79.0, 83.0, 405.0, 103.0, 98.0, 100.0, 92.0, -3.0, -4.0, 121.0, 61.0, 156.0, 73.0, 66.0, 145.0, 57.0, 101.0, 81.0, 131.0, 401.0, 502.0, 151.0, 75.0, 240.0, 111.0, 104.0, 76.0, 118.0, 138.0, -5.0, 89.0, 194.0, 255.0, 153.0, -16.0, 117.0, -6.0, 200.0, 150.0, 106.0, 109.0, 97.0, -22.0, 96.0, 242.0, 105.0, 126.0, 58.0, 99.0, 171.0, 130.0, 115.0, 90.0, 124.0, 149.0, 132.0, 195.0, 512.0, -9.0, 142.0, 163.0, 108.0, 500.0, 1000.0, 127.0, 624.0, 187.0, 140.0, 480.0, 343.0, 539.0, 95.0, 146.0, 669.0, 114.0, 157.0, 504.0, 139.0, 161.0, 2169.0, 88.0, 288.0, 86.0, 107.0, 102.0, 300.0, 313.0, 251.0, 217.0, 113.0, 112.0, 299.0, 230.0, 179.0, 168.0, 167.0, 164.0, 508.0, 412.0, 128.0, 116.0, 325.0, 129.0, 231.0, 154.0, 533.0, 637.0, 135.0]\n"
     ]
    }
   ],
   "source": [
    "item_count=list(df['item_cnt_day'].unique())\n",
    "print(item_count)"
   ]
  },
  {
   "cell_type": "code",
   "execution_count": 8,
   "id": "67ce676b",
   "metadata": {
    "execution": {
     "iopub.execute_input": "2022-11-25T18:47:47.511057Z",
     "iopub.status.busy": "2022-11-25T18:47:47.510642Z",
     "iopub.status.idle": "2022-11-25T18:47:47.806212Z",
     "shell.execute_reply": "2022-11-25T18:47:47.804977Z"
    },
    "papermill": {
     "duration": 0.308493,
     "end_time": "2022-11-25T18:47:47.808542",
     "exception": false,
     "start_time": "2022-11-25T18:47:47.500049",
     "status": "completed"
    },
    "tags": []
   },
   "outputs": [
    {
     "data": {
      "text/plain": [
       "date              0\n",
       "date_block_num    0\n",
       "shop_id           0\n",
       "item_id           0\n",
       "item_price        0\n",
       "item_cnt_day      0\n",
       "shop_name         0\n",
       "dtype: int64"
      ]
     },
     "execution_count": 8,
     "metadata": {},
     "output_type": "execute_result"
    }
   ],
   "source": [
    "df.isnull().sum()"
   ]
  },
  {
   "cell_type": "markdown",
   "id": "ef9b6393",
   "metadata": {
    "papermill": {
     "duration": 0.009286,
     "end_time": "2022-11-25T18:47:47.827546",
     "exception": false,
     "start_time": "2022-11-25T18:47:47.818260",
     "status": "completed"
    },
    "tags": []
   },
   "source": [
    "# Test Data\n",
    "We will make predictions on the following test dataset."
   ]
  },
  {
   "cell_type": "code",
   "execution_count": 9,
   "id": "36196a32",
   "metadata": {
    "execution": {
     "iopub.execute_input": "2022-11-25T18:47:47.848734Z",
     "iopub.status.busy": "2022-11-25T18:47:47.848314Z",
     "iopub.status.idle": "2022-11-25T18:47:47.949402Z",
     "shell.execute_reply": "2022-11-25T18:47:47.948322Z"
    },
    "papermill": {
     "duration": 0.114692,
     "end_time": "2022-11-25T18:47:47.951947",
     "exception": false,
     "start_time": "2022-11-25T18:47:47.837255",
     "status": "completed"
    },
    "tags": []
   },
   "outputs": [
    {
     "data": {
      "text/html": [
       "<div>\n",
       "<style scoped>\n",
       "    .dataframe tbody tr th:only-of-type {\n",
       "        vertical-align: middle;\n",
       "    }\n",
       "\n",
       "    .dataframe tbody tr th {\n",
       "        vertical-align: top;\n",
       "    }\n",
       "\n",
       "    .dataframe thead th {\n",
       "        text-align: right;\n",
       "    }\n",
       "</style>\n",
       "<table border=\"1\" class=\"dataframe\">\n",
       "  <thead>\n",
       "    <tr style=\"text-align: right;\">\n",
       "      <th></th>\n",
       "      <th>ID</th>\n",
       "      <th>shop_id</th>\n",
       "      <th>item_id</th>\n",
       "    </tr>\n",
       "  </thead>\n",
       "  <tbody>\n",
       "    <tr>\n",
       "      <th>0</th>\n",
       "      <td>0</td>\n",
       "      <td>5</td>\n",
       "      <td>5037</td>\n",
       "    </tr>\n",
       "    <tr>\n",
       "      <th>1</th>\n",
       "      <td>1</td>\n",
       "      <td>5</td>\n",
       "      <td>5320</td>\n",
       "    </tr>\n",
       "    <tr>\n",
       "      <th>2</th>\n",
       "      <td>2</td>\n",
       "      <td>5</td>\n",
       "      <td>5233</td>\n",
       "    </tr>\n",
       "    <tr>\n",
       "      <th>3</th>\n",
       "      <td>3</td>\n",
       "      <td>5</td>\n",
       "      <td>5232</td>\n",
       "    </tr>\n",
       "    <tr>\n",
       "      <th>4</th>\n",
       "      <td>4</td>\n",
       "      <td>5</td>\n",
       "      <td>5268</td>\n",
       "    </tr>\n",
       "  </tbody>\n",
       "</table>\n",
       "</div>"
      ],
      "text/plain": [
       "   ID  shop_id  item_id\n",
       "0   0        5     5037\n",
       "1   1        5     5320\n",
       "2   2        5     5233\n",
       "3   3        5     5232\n",
       "4   4        5     5268"
      ]
     },
     "execution_count": 9,
     "metadata": {},
     "output_type": "execute_result"
    }
   ],
   "source": [
    "testDF=pd.read_csv(test)\n",
    "testDF.head()"
   ]
  },
  {
   "cell_type": "markdown",
   "id": "5734b9ac",
   "metadata": {
    "papermill": {
     "duration": 0.009603,
     "end_time": "2022-11-25T18:47:47.971532",
     "exception": false,
     "start_time": "2022-11-25T18:47:47.961929",
     "status": "completed"
    },
    "tags": []
   },
   "source": [
    "# Feature Engineer"
   ]
  },
  {
   "cell_type": "code",
   "execution_count": 10,
   "id": "efc61465",
   "metadata": {
    "execution": {
     "iopub.execute_input": "2022-11-25T18:47:47.992670Z",
     "iopub.status.busy": "2022-11-25T18:47:47.992265Z",
     "iopub.status.idle": "2022-11-25T18:47:49.328509Z",
     "shell.execute_reply": "2022-11-25T18:47:49.327480Z"
    },
    "papermill": {
     "duration": 1.349523,
     "end_time": "2022-11-25T18:47:49.330921",
     "exception": false,
     "start_time": "2022-11-25T18:47:47.981398",
     "status": "completed"
    },
    "tags": []
   },
   "outputs": [
    {
     "name": "stdout",
     "output_type": "stream",
     "text": [
      "[1, 2, 3, 4, 5, 6, 7, 8, 9, 10, 11, 12]\n"
     ]
    }
   ],
   "source": [
    "df['Month'] = df['date'].str[3:5].astype(int)\n",
    "months=list(df['Month'].unique())\n",
    "print(months)"
   ]
  },
  {
   "cell_type": "code",
   "execution_count": 11,
   "id": "47ea5467",
   "metadata": {
    "execution": {
     "iopub.execute_input": "2022-11-25T18:47:49.353573Z",
     "iopub.status.busy": "2022-11-25T18:47:49.353126Z",
     "iopub.status.idle": "2022-11-25T18:47:50.441383Z",
     "shell.execute_reply": "2022-11-25T18:47:50.440084Z"
    },
    "papermill": {
     "duration": 1.102638,
     "end_time": "2022-11-25T18:47:50.443702",
     "exception": false,
     "start_time": "2022-11-25T18:47:49.341064",
     "status": "completed"
    },
    "tags": []
   },
   "outputs": [
    {
     "name": "stdout",
     "output_type": "stream",
     "text": [
      "[1, 2, 3, 4, 5, 6, 7, 8, 9, 10, 11, 12, 13, 14, 15, 16, 17, 18, 19, 20, 21, 22, 23, 24, 25, 26, 27, 28, 29, 30, 31]\n"
     ]
    }
   ],
   "source": [
    "df['Day'] = df['date'].str[:2].astype(int)\n",
    "days=list(sorted(df['Day'].unique()))\n",
    "print(days)"
   ]
  },
  {
   "cell_type": "code",
   "execution_count": 12,
   "id": "69277aa5",
   "metadata": {
    "execution": {
     "iopub.execute_input": "2022-11-25T18:47:50.465590Z",
     "iopub.status.busy": "2022-11-25T18:47:50.465217Z",
     "iopub.status.idle": "2022-11-25T18:47:51.580223Z",
     "shell.execute_reply": "2022-11-25T18:47:51.578689Z"
    },
    "papermill": {
     "duration": 1.128848,
     "end_time": "2022-11-25T18:47:51.582940",
     "exception": false,
     "start_time": "2022-11-25T18:47:50.454092",
     "status": "completed"
    },
    "tags": []
   },
   "outputs": [
    {
     "name": "stdout",
     "output_type": "stream",
     "text": [
      "[2013, 2014, 2015]\n"
     ]
    }
   ],
   "source": [
    "df['Year'] = df['date'].str[6:10].astype(int)\n",
    "years=list(sorted(df['Year'].unique()))\n",
    "print(years)"
   ]
  },
  {
   "cell_type": "code",
   "execution_count": 13,
   "id": "760f8e4b",
   "metadata": {
    "execution": {
     "iopub.execute_input": "2022-11-25T18:47:51.604294Z",
     "iopub.status.busy": "2022-11-25T18:47:51.603920Z",
     "iopub.status.idle": "2022-11-25T18:47:51.624570Z",
     "shell.execute_reply": "2022-11-25T18:47:51.623553Z"
    },
    "papermill": {
     "duration": 0.034188,
     "end_time": "2022-11-25T18:47:51.627105",
     "exception": false,
     "start_time": "2022-11-25T18:47:51.592917",
     "status": "completed"
    },
    "tags": []
   },
   "outputs": [],
   "source": [
    "df['total_sales']=df['item_price']*df['item_cnt_day']"
   ]
  },
  {
   "cell_type": "code",
   "execution_count": 14,
   "id": "efb11807",
   "metadata": {
    "execution": {
     "iopub.execute_input": "2022-11-25T18:47:51.649908Z",
     "iopub.status.busy": "2022-11-25T18:47:51.648059Z",
     "iopub.status.idle": "2022-11-25T18:47:51.666519Z",
     "shell.execute_reply": "2022-11-25T18:47:51.665342Z"
    },
    "papermill": {
     "duration": 0.031984,
     "end_time": "2022-11-25T18:47:51.669057",
     "exception": false,
     "start_time": "2022-11-25T18:47:51.637073",
     "status": "completed"
    },
    "tags": []
   },
   "outputs": [
    {
     "data": {
      "text/html": [
       "<div>\n",
       "<style scoped>\n",
       "    .dataframe tbody tr th:only-of-type {\n",
       "        vertical-align: middle;\n",
       "    }\n",
       "\n",
       "    .dataframe tbody tr th {\n",
       "        vertical-align: top;\n",
       "    }\n",
       "\n",
       "    .dataframe thead th {\n",
       "        text-align: right;\n",
       "    }\n",
       "</style>\n",
       "<table border=\"1\" class=\"dataframe\">\n",
       "  <thead>\n",
       "    <tr style=\"text-align: right;\">\n",
       "      <th></th>\n",
       "      <th>date</th>\n",
       "      <th>date_block_num</th>\n",
       "      <th>shop_id</th>\n",
       "      <th>item_id</th>\n",
       "      <th>item_price</th>\n",
       "      <th>item_cnt_day</th>\n",
       "      <th>shop_name</th>\n",
       "      <th>Month</th>\n",
       "      <th>Day</th>\n",
       "      <th>Year</th>\n",
       "      <th>total_sales</th>\n",
       "    </tr>\n",
       "  </thead>\n",
       "  <tbody>\n",
       "    <tr>\n",
       "      <th>0</th>\n",
       "      <td>02.01.2013</td>\n",
       "      <td>0</td>\n",
       "      <td>59</td>\n",
       "      <td>22154</td>\n",
       "      <td>999.0</td>\n",
       "      <td>1.0</td>\n",
       "      <td>Ярославль ТЦ \"Альтаир\"</td>\n",
       "      <td>1</td>\n",
       "      <td>2</td>\n",
       "      <td>2013</td>\n",
       "      <td>999.0</td>\n",
       "    </tr>\n",
       "    <tr>\n",
       "      <th>1</th>\n",
       "      <td>10.01.2013</td>\n",
       "      <td>0</td>\n",
       "      <td>59</td>\n",
       "      <td>22151</td>\n",
       "      <td>399.0</td>\n",
       "      <td>1.0</td>\n",
       "      <td>Ярославль ТЦ \"Альтаир\"</td>\n",
       "      <td>1</td>\n",
       "      <td>10</td>\n",
       "      <td>2013</td>\n",
       "      <td>399.0</td>\n",
       "    </tr>\n",
       "    <tr>\n",
       "      <th>2</th>\n",
       "      <td>04.01.2013</td>\n",
       "      <td>0</td>\n",
       "      <td>59</td>\n",
       "      <td>5603</td>\n",
       "      <td>699.0</td>\n",
       "      <td>1.0</td>\n",
       "      <td>Ярославль ТЦ \"Альтаир\"</td>\n",
       "      <td>1</td>\n",
       "      <td>4</td>\n",
       "      <td>2013</td>\n",
       "      <td>699.0</td>\n",
       "    </tr>\n",
       "    <tr>\n",
       "      <th>3</th>\n",
       "      <td>19.01.2013</td>\n",
       "      <td>0</td>\n",
       "      <td>59</td>\n",
       "      <td>5587</td>\n",
       "      <td>199.0</td>\n",
       "      <td>2.0</td>\n",
       "      <td>Ярославль ТЦ \"Альтаир\"</td>\n",
       "      <td>1</td>\n",
       "      <td>19</td>\n",
       "      <td>2013</td>\n",
       "      <td>398.0</td>\n",
       "    </tr>\n",
       "    <tr>\n",
       "      <th>4</th>\n",
       "      <td>31.01.2013</td>\n",
       "      <td>0</td>\n",
       "      <td>59</td>\n",
       "      <td>5613</td>\n",
       "      <td>5571.0</td>\n",
       "      <td>1.0</td>\n",
       "      <td>Ярославль ТЦ \"Альтаир\"</td>\n",
       "      <td>1</td>\n",
       "      <td>31</td>\n",
       "      <td>2013</td>\n",
       "      <td>5571.0</td>\n",
       "    </tr>\n",
       "  </tbody>\n",
       "</table>\n",
       "</div>"
      ],
      "text/plain": [
       "         date  date_block_num  shop_id  item_id  item_price  item_cnt_day  \\\n",
       "0  02.01.2013               0       59    22154       999.0           1.0   \n",
       "1  10.01.2013               0       59    22151       399.0           1.0   \n",
       "2  04.01.2013               0       59     5603       699.0           1.0   \n",
       "3  19.01.2013               0       59     5587       199.0           2.0   \n",
       "4  31.01.2013               0       59     5613      5571.0           1.0   \n",
       "\n",
       "                shop_name  Month  Day  Year  total_sales  \n",
       "0  Ярославль ТЦ \"Альтаир\"      1    2  2013        999.0  \n",
       "1  Ярославль ТЦ \"Альтаир\"      1   10  2013        399.0  \n",
       "2  Ярославль ТЦ \"Альтаир\"      1    4  2013        699.0  \n",
       "3  Ярославль ТЦ \"Альтаир\"      1   19  2013        398.0  \n",
       "4  Ярославль ТЦ \"Альтаир\"      1   31  2013       5571.0  "
      ]
     },
     "execution_count": 14,
     "metadata": {},
     "output_type": "execute_result"
    }
   ],
   "source": [
    "df.head()"
   ]
  },
  {
   "cell_type": "markdown",
   "id": "7b08a206",
   "metadata": {
    "papermill": {
     "duration": 0.009708,
     "end_time": "2022-11-25T18:47:51.688939",
     "exception": false,
     "start_time": "2022-11-25T18:47:51.679231",
     "status": "completed"
    },
    "tags": []
   },
   "source": [
    "# Graph Important Columns"
   ]
  },
  {
   "cell_type": "code",
   "execution_count": 15,
   "id": "eecd5716",
   "metadata": {
    "execution": {
     "iopub.execute_input": "2022-11-25T18:47:51.711513Z",
     "iopub.status.busy": "2022-11-25T18:47:51.710200Z",
     "iopub.status.idle": "2022-11-25T18:47:51.955159Z",
     "shell.execute_reply": "2022-11-25T18:47:51.954330Z"
    },
    "papermill": {
     "duration": 0.258641,
     "end_time": "2022-11-25T18:47:51.957681",
     "exception": false,
     "start_time": "2022-11-25T18:47:51.699040",
     "status": "completed"
    },
    "tags": []
   },
   "outputs": [
    {
     "data": {
      "image/png": "[encoded data removed]",
      "text/plain": [
       "<Figure size 432x288 with 1 Axes>"
      ]
     },
     "metadata": {
      "needs_background": "light"
     },
     "output_type": "display_data"
    }
   ],
   "source": [
    "import matplotlib.pyplot as plt\n",
    "\n",
    "monthSales=list(df.groupby(by=\"Month\")['total_sales'].sum())\n",
    "\n",
    "plt.plot(months, monthSales)\n",
    "plt.title(\"Sales by Month\")\n",
    "plt.legend(\"Monthly Sales\")\n",
    "plt.show()"
   ]
  },
  {
   "cell_type": "code",
   "execution_count": 16,
   "id": "030de8cd",
   "metadata": {
    "execution": {
     "iopub.execute_input": "2022-11-25T18:47:51.982330Z",
     "iopub.status.busy": "2022-11-25T18:47:51.981526Z",
     "iopub.status.idle": "2022-11-25T18:47:52.191703Z",
     "shell.execute_reply": "2022-11-25T18:47:52.189683Z"
    },
    "papermill": {
     "duration": 0.224724,
     "end_time": "2022-11-25T18:47:52.194425",
     "exception": false,
     "start_time": "2022-11-25T18:47:51.969701",
     "status": "completed"
    },
    "tags": []
   },
   "outputs": [
    {
     "name": "stdout",
     "output_type": "stream",
     "text": [
      "[1217524733, 1346778478, 834623131]\n",
      "[2013, 2014, 2015]\n"
     ]
    },
    {
     "data": {
      "image/png": "[encoded data removed]",
      "text/plain": [
       "<Figure size 432x288 with 1 Axes>"
      ]
     },
     "metadata": {
      "needs_background": "light"
     },
     "output_type": "display_data"
    }
   ],
   "source": [
    "yearSales=list(df.groupby(by=\"Year\")['total_sales'].sum())\n",
    "yearSales=[int(x) for x in yearSales]\n",
    "print(yearSales)\n",
    "print(years)\n",
    "\n",
    "plt.bar(years, yearSales)\n",
    "plt.title(\"Sales by Year\")\n",
    "plt.xticks(rotation=90)\n",
    "plt.legend(\"Year Sales\")\n",
    "plt.show()"
   ]
  },
  {
   "cell_type": "markdown",
   "id": "4e3c587d",
   "metadata": {
    "papermill": {
     "duration": 0.010325,
     "end_time": "2022-11-25T18:47:52.215782",
     "exception": false,
     "start_time": "2022-11-25T18:47:52.205457",
     "status": "completed"
    },
    "tags": []
   },
   "source": [
    "# Numeric DataFrame"
   ]
  },
  {
   "cell_type": "code",
   "execution_count": 17,
   "id": "644844b1",
   "metadata": {
    "execution": {
     "iopub.execute_input": "2022-11-25T18:47:52.238836Z",
     "iopub.status.busy": "2022-11-25T18:47:52.238429Z",
     "iopub.status.idle": "2022-11-25T18:47:52.759128Z",
     "shell.execute_reply": "2022-11-25T18:47:52.757951Z"
    },
    "papermill": {
     "duration": 0.535257,
     "end_time": "2022-11-25T18:47:52.761783",
     "exception": false,
     "start_time": "2022-11-25T18:47:52.226526",
     "status": "completed"
    },
    "tags": []
   },
   "outputs": [
    {
     "data": {
      "text/html": [
       "<div>\n",
       "<style scoped>\n",
       "    .dataframe tbody tr th:only-of-type {\n",
       "        vertical-align: middle;\n",
       "    }\n",
       "\n",
       "    .dataframe tbody tr th {\n",
       "        vertical-align: top;\n",
       "    }\n",
       "\n",
       "    .dataframe thead th {\n",
       "        text-align: right;\n",
       "    }\n",
       "</style>\n",
       "<table border=\"1\" class=\"dataframe\">\n",
       "  <thead>\n",
       "    <tr style=\"text-align: right;\">\n",
       "      <th></th>\n",
       "      <th>date_block_num</th>\n",
       "      <th>shop_id</th>\n",
       "      <th>item_id</th>\n",
       "      <th>item_price</th>\n",
       "      <th>item_cnt_day</th>\n",
       "      <th>Month</th>\n",
       "      <th>Day</th>\n",
       "      <th>Year</th>\n",
       "      <th>total_sales</th>\n",
       "    </tr>\n",
       "  </thead>\n",
       "  <tbody>\n",
       "    <tr>\n",
       "      <th>0</th>\n",
       "      <td>0</td>\n",
       "      <td>59</td>\n",
       "      <td>22154</td>\n",
       "      <td>999.0</td>\n",
       "      <td>1.0</td>\n",
       "      <td>1</td>\n",
       "      <td>2</td>\n",
       "      <td>2013</td>\n",
       "      <td>999.0</td>\n",
       "    </tr>\n",
       "    <tr>\n",
       "      <th>1</th>\n",
       "      <td>0</td>\n",
       "      <td>59</td>\n",
       "      <td>22151</td>\n",
       "      <td>399.0</td>\n",
       "      <td>1.0</td>\n",
       "      <td>1</td>\n",
       "      <td>10</td>\n",
       "      <td>2013</td>\n",
       "      <td>399.0</td>\n",
       "    </tr>\n",
       "    <tr>\n",
       "      <th>2</th>\n",
       "      <td>0</td>\n",
       "      <td>59</td>\n",
       "      <td>5603</td>\n",
       "      <td>699.0</td>\n",
       "      <td>1.0</td>\n",
       "      <td>1</td>\n",
       "      <td>4</td>\n",
       "      <td>2013</td>\n",
       "      <td>699.0</td>\n",
       "    </tr>\n",
       "    <tr>\n",
       "      <th>3</th>\n",
       "      <td>0</td>\n",
       "      <td>59</td>\n",
       "      <td>5587</td>\n",
       "      <td>199.0</td>\n",
       "      <td>2.0</td>\n",
       "      <td>1</td>\n",
       "      <td>19</td>\n",
       "      <td>2013</td>\n",
       "      <td>398.0</td>\n",
       "    </tr>\n",
       "    <tr>\n",
       "      <th>4</th>\n",
       "      <td>0</td>\n",
       "      <td>59</td>\n",
       "      <td>5613</td>\n",
       "      <td>5571.0</td>\n",
       "      <td>1.0</td>\n",
       "      <td>1</td>\n",
       "      <td>31</td>\n",
       "      <td>2013</td>\n",
       "      <td>5571.0</td>\n",
       "    </tr>\n",
       "  </tbody>\n",
       "</table>\n",
       "</div>"
      ],
      "text/plain": [
       "   date_block_num  shop_id  item_id  item_price  item_cnt_day  Month  Day  \\\n",
       "0               0       59    22154       999.0           1.0      1    2   \n",
       "1               0       59    22151       399.0           1.0      1   10   \n",
       "2               0       59     5603       699.0           1.0      1    4   \n",
       "3               0       59     5587       199.0           2.0      1   19   \n",
       "4               0       59     5613      5571.0           1.0      1   31   \n",
       "\n",
       "   Year  total_sales  \n",
       "0  2013        999.0  \n",
       "1  2013        399.0  \n",
       "2  2013        699.0  \n",
       "3  2013        398.0  \n",
       "4  2013       5571.0  "
      ]
     },
     "execution_count": 17,
     "metadata": {},
     "output_type": "execute_result"
    }
   ],
   "source": [
    "df=df.select_dtypes('number')\n",
    "df.head()"
   ]
  },
  {
   "cell_type": "code",
   "execution_count": 18,
   "id": "89cc9a10",
   "metadata": {
    "execution": {
     "iopub.execute_input": "2022-11-25T18:47:52.786952Z",
     "iopub.status.busy": "2022-11-25T18:47:52.785688Z",
     "iopub.status.idle": "2022-11-25T18:47:52.857331Z",
     "shell.execute_reply": "2022-11-25T18:47:52.856174Z"
    },
    "papermill": {
     "duration": 0.086927,
     "end_time": "2022-11-25T18:47:52.860021",
     "exception": false,
     "start_time": "2022-11-25T18:47:52.773094",
     "status": "completed"
    },
    "tags": []
   },
   "outputs": [],
   "source": [
    "X=df.drop('total_sales', axis=1)\n",
    "y=df['total_sales']\n",
    "#print(y)"
   ]
  },
  {
   "cell_type": "markdown",
   "id": "1e3061c3",
   "metadata": {
    "papermill": {
     "duration": 0.010596,
     "end_time": "2022-11-25T18:47:52.881713",
     "exception": false,
     "start_time": "2022-11-25T18:47:52.871117",
     "status": "completed"
    },
    "tags": []
   },
   "source": [
    "# Split Data"
   ]
  },
  {
   "cell_type": "code",
   "execution_count": 19,
   "id": "0c4bc1bc",
   "metadata": {
    "execution": {
     "iopub.execute_input": "2022-11-25T18:47:52.905283Z",
     "iopub.status.busy": "2022-11-25T18:47:52.904863Z",
     "iopub.status.idle": "2022-11-25T18:47:54.661231Z",
     "shell.execute_reply": "2022-11-25T18:47:54.660074Z"
    },
    "papermill": {
     "duration": 1.771418,
     "end_time": "2022-11-25T18:47:54.664141",
     "exception": false,
     "start_time": "2022-11-25T18:47:52.892723",
     "status": "completed"
    },
    "tags": []
   },
   "outputs": [],
   "source": [
    "from sklearn.model_selection import train_test_split\n",
    "\n",
    "X_train, X_test, y_train, y_test = train_test_split(X, y, test_size=.30, random_state=42)\n",
    "#print(X_train)"
   ]
  },
  {
   "cell_type": "markdown",
   "id": "5a210d38",
   "metadata": {
    "papermill": {
     "duration": 0.01116,
     "end_time": "2022-11-25T18:47:54.686581",
     "exception": false,
     "start_time": "2022-11-25T18:47:54.675421",
     "status": "completed"
    },
    "tags": []
   },
   "source": [
    "# XGBOOST"
   ]
  },
  {
   "cell_type": "code",
   "execution_count": 20,
   "id": "7abc5270",
   "metadata": {
    "execution": {
     "iopub.execute_input": "2022-11-25T18:47:54.711310Z",
     "iopub.status.busy": "2022-11-25T18:47:54.710168Z",
     "iopub.status.idle": "2022-11-25T18:47:54.822189Z",
     "shell.execute_reply": "2022-11-25T18:47:54.821171Z"
    },
    "papermill": {
     "duration": 0.127147,
     "end_time": "2022-11-25T18:47:54.825253",
     "exception": false,
     "start_time": "2022-11-25T18:47:54.698106",
     "status": "completed"
    },
    "tags": []
   },
   "outputs": [],
   "source": [
    "import xgboost as xgb\n",
    "from xgboost import XGBRegressor"
   ]
  },
  {
   "cell_type": "code",
   "execution_count": 21,
   "id": "115b0d13",
   "metadata": {
    "execution": {
     "iopub.execute_input": "2022-11-25T18:47:54.849191Z",
     "iopub.status.busy": "2022-11-25T18:47:54.848786Z",
     "iopub.status.idle": "2022-11-25T18:49:38.156717Z",
     "shell.execute_reply": "2022-11-25T18:49:38.155672Z"
    },
    "papermill": {
     "duration": 103.326868,
     "end_time": "2022-11-25T18:49:38.163411",
     "exception": false,
     "start_time": "2022-11-25T18:47:54.836543",
     "status": "completed"
    },
    "tags": []
   },
   "outputs": [
    {
     "name": "stdout",
     "output_type": "stream",
     "text": [
      "[  27.10358  198.69365 1675.8585  ... 1199.9553   198.69365 1993.93   ]\n"
     ]
    }
   ],
   "source": [
    "xgb = xgb.XGBRegressor()\n",
    "xgb.fit(X_train, y_train)\n",
    "y_pred=xgb.predict(X_test)\n",
    "print(y_pred)"
   ]
  },
  {
   "cell_type": "code",
   "execution_count": 22,
   "id": "bdcefe14",
   "metadata": {
    "execution": {
     "iopub.execute_input": "2022-11-25T18:49:38.188254Z",
     "iopub.status.busy": "2022-11-25T18:49:38.187839Z",
     "iopub.status.idle": "2022-11-25T18:49:38.202812Z",
     "shell.execute_reply": "2022-11-25T18:49:38.201355Z"
    },
    "papermill": {
     "duration": 0.029611,
     "end_time": "2022-11-25T18:49:38.205032",
     "exception": false,
     "start_time": "2022-11-25T18:49:38.175421",
     "status": "completed"
    },
    "tags": []
   },
   "outputs": [
    {
     "name": "stdout",
     "output_type": "stream",
     "text": [
      "0.9832\n"
     ]
    }
   ],
   "source": [
    "from sklearn.metrics import r2_score, roc_auc_score\n",
    "\n",
    "print(r2_score(y_test, y_pred).round(4))\n",
    "#print(roc_auc_score(y_test, y_pred))"
   ]
  },
  {
   "cell_type": "markdown",
   "id": "a46b6a30",
   "metadata": {
    "papermill": {
     "duration": 0.010748,
     "end_time": "2022-11-25T18:49:38.226960",
     "exception": false,
     "start_time": "2022-11-25T18:49:38.216212",
     "status": "completed"
    },
    "tags": []
   },
   "source": [
    "# Test Data"
   ]
  },
  {
   "cell_type": "code",
   "execution_count": 23,
   "id": "a73f2b0f",
   "metadata": {
    "execution": {
     "iopub.execute_input": "2022-11-25T18:49:38.250873Z",
     "iopub.status.busy": "2022-11-25T18:49:38.250204Z",
     "iopub.status.idle": "2022-11-25T18:49:38.305733Z",
     "shell.execute_reply": "2022-11-25T18:49:38.304931Z"
    },
    "papermill": {
     "duration": 0.069844,
     "end_time": "2022-11-25T18:49:38.307873",
     "exception": false,
     "start_time": "2022-11-25T18:49:38.238029",
     "status": "completed"
    },
    "tags": []
   },
   "outputs": [
    {
     "data": {
      "text/html": [
       "<div>\n",
       "<style scoped>\n",
       "    .dataframe tbody tr th:only-of-type {\n",
       "        vertical-align: middle;\n",
       "    }\n",
       "\n",
       "    .dataframe tbody tr th {\n",
       "        vertical-align: top;\n",
       "    }\n",
       "\n",
       "    .dataframe thead th {\n",
       "        text-align: right;\n",
       "    }\n",
       "</style>\n",
       "<table border=\"1\" class=\"dataframe\">\n",
       "  <thead>\n",
       "    <tr style=\"text-align: right;\">\n",
       "      <th></th>\n",
       "      <th>shop_id</th>\n",
       "      <th>item_id</th>\n",
       "    </tr>\n",
       "  </thead>\n",
       "  <tbody>\n",
       "    <tr>\n",
       "      <th>0</th>\n",
       "      <td>5</td>\n",
       "      <td>5037</td>\n",
       "    </tr>\n",
       "    <tr>\n",
       "      <th>1</th>\n",
       "      <td>5</td>\n",
       "      <td>5320</td>\n",
       "    </tr>\n",
       "    <tr>\n",
       "      <th>2</th>\n",
       "      <td>5</td>\n",
       "      <td>5233</td>\n",
       "    </tr>\n",
       "    <tr>\n",
       "      <th>3</th>\n",
       "      <td>5</td>\n",
       "      <td>5232</td>\n",
       "    </tr>\n",
       "    <tr>\n",
       "      <th>4</th>\n",
       "      <td>5</td>\n",
       "      <td>5268</td>\n",
       "    </tr>\n",
       "  </tbody>\n",
       "</table>\n",
       "</div>"
      ],
      "text/plain": [
       "   shop_id  item_id\n",
       "0        5     5037\n",
       "1        5     5320\n",
       "2        5     5233\n",
       "3        5     5232\n",
       "4        5     5268"
      ]
     },
     "execution_count": 23,
     "metadata": {},
     "output_type": "execute_result"
    }
   ],
   "source": [
    "test=pd.read_csv(test)\n",
    "testID=test['ID']\n",
    "test=test.drop('ID', axis=1)\n",
    "test.head()"
   ]
  },
  {
   "cell_type": "markdown",
   "id": "8ff12ba1",
   "metadata": {
    "papermill": {
     "duration": 0.011163,
     "end_time": "2022-11-25T18:49:38.330399",
     "exception": false,
     "start_time": "2022-11-25T18:49:38.319236",
     "status": "completed"
    },
    "tags": []
   },
   "source": [
    "# Final Prediction\n",
    "This prediction will be much different than a typical prediction because the test dataset has to be joined on two variables both item_id and shop_id. Since we need to align the test data with previous train data, we will need to use a right join. That way the item_id and shop_id can be predicted through previous X_train data."
   ]
  },
  {
   "cell_type": "code",
   "execution_count": 24,
   "id": "fb850576",
   "metadata": {
    "execution": {
     "iopub.execute_input": "2022-11-25T18:49:38.355343Z",
     "iopub.status.busy": "2022-11-25T18:49:38.354626Z",
     "iopub.status.idle": "2022-11-25T18:49:39.536649Z",
     "shell.execute_reply": "2022-11-25T18:49:39.535424Z"
    },
    "papermill": {
     "duration": 1.197316,
     "end_time": "2022-11-25T18:49:39.539219",
     "exception": false,
     "start_time": "2022-11-25T18:49:38.341903",
     "status": "completed"
    },
    "tags": []
   },
   "outputs": [
    {
     "data": {
      "text/html": [
       "<div>\n",
       "<style scoped>\n",
       "    .dataframe tbody tr th:only-of-type {\n",
       "        vertical-align: middle;\n",
       "    }\n",
       "\n",
       "    .dataframe tbody tr th {\n",
       "        vertical-align: top;\n",
       "    }\n",
       "\n",
       "    .dataframe thead th {\n",
       "        text-align: right;\n",
       "    }\n",
       "</style>\n",
       "<table border=\"1\" class=\"dataframe\">\n",
       "  <thead>\n",
       "    <tr style=\"text-align: right;\">\n",
       "      <th></th>\n",
       "      <th>shop_id</th>\n",
       "      <th>item_id</th>\n",
       "      <th>date_block_num</th>\n",
       "      <th>item_price</th>\n",
       "      <th>item_cnt_day</th>\n",
       "      <th>Month</th>\n",
       "      <th>Day</th>\n",
       "      <th>Year</th>\n",
       "      <th>total_sales</th>\n",
       "    </tr>\n",
       "  </thead>\n",
       "  <tbody>\n",
       "    <tr>\n",
       "      <th>0</th>\n",
       "      <td>59</td>\n",
       "      <td>22154</td>\n",
       "      <td>0</td>\n",
       "      <td>999.0</td>\n",
       "      <td>1.0</td>\n",
       "      <td>1</td>\n",
       "      <td>2</td>\n",
       "      <td>2013</td>\n",
       "      <td>999.0</td>\n",
       "    </tr>\n",
       "    <tr>\n",
       "      <th>1</th>\n",
       "      <td>59</td>\n",
       "      <td>22151</td>\n",
       "      <td>0</td>\n",
       "      <td>399.0</td>\n",
       "      <td>1.0</td>\n",
       "      <td>1</td>\n",
       "      <td>10</td>\n",
       "      <td>2013</td>\n",
       "      <td>399.0</td>\n",
       "    </tr>\n",
       "    <tr>\n",
       "      <th>2</th>\n",
       "      <td>59</td>\n",
       "      <td>5603</td>\n",
       "      <td>0</td>\n",
       "      <td>699.0</td>\n",
       "      <td>1.0</td>\n",
       "      <td>1</td>\n",
       "      <td>4</td>\n",
       "      <td>2013</td>\n",
       "      <td>699.0</td>\n",
       "    </tr>\n",
       "    <tr>\n",
       "      <th>3</th>\n",
       "      <td>59</td>\n",
       "      <td>5587</td>\n",
       "      <td>0</td>\n",
       "      <td>199.0</td>\n",
       "      <td>2.0</td>\n",
       "      <td>1</td>\n",
       "      <td>19</td>\n",
       "      <td>2013</td>\n",
       "      <td>398.0</td>\n",
       "    </tr>\n",
       "    <tr>\n",
       "      <th>4</th>\n",
       "      <td>59</td>\n",
       "      <td>5613</td>\n",
       "      <td>0</td>\n",
       "      <td>5571.0</td>\n",
       "      <td>1.0</td>\n",
       "      <td>1</td>\n",
       "      <td>31</td>\n",
       "      <td>2013</td>\n",
       "      <td>5571.0</td>\n",
       "    </tr>\n",
       "  </tbody>\n",
       "</table>\n",
       "</div>"
      ],
      "text/plain": [
       "   shop_id  item_id  date_block_num  item_price  item_cnt_day  Month  Day  \\\n",
       "0       59    22154               0       999.0           1.0      1    2   \n",
       "1       59    22151               0       399.0           1.0      1   10   \n",
       "2       59     5603               0       699.0           1.0      1    4   \n",
       "3       59     5587               0       199.0           2.0      1   19   \n",
       "4       59     5613               0      5571.0           1.0      1   31   \n",
       "\n",
       "   Year  total_sales  \n",
       "0  2013        999.0  \n",
       "1  2013        399.0  \n",
       "2  2013        699.0  \n",
       "3  2013        398.0  \n",
       "4  2013       5571.0  "
      ]
     },
     "execution_count": 24,
     "metadata": {},
     "output_type": "execute_result"
    }
   ],
   "source": [
    "finalDF=pd.merge(test, df, on=['item_id', 'shop_id'], how='right').reset_index(drop=True)\n",
    "finalDF.head()"
   ]
  },
  {
   "cell_type": "markdown",
   "id": "02a373fb",
   "metadata": {
    "papermill": {
     "duration": 0.011552,
     "end_time": "2022-11-25T18:49:39.563898",
     "exception": false,
     "start_time": "2022-11-25T18:49:39.552346",
     "status": "completed"
    },
    "tags": []
   },
   "source": [
    "# Final Prediction"
   ]
  },
  {
   "cell_type": "code",
   "execution_count": 25,
   "id": "49232d91",
   "metadata": {
    "execution": {
     "iopub.execute_input": "2022-11-25T18:49:39.588696Z",
     "iopub.status.busy": "2022-11-25T18:49:39.588289Z",
     "iopub.status.idle": "2022-11-25T18:49:39.594076Z",
     "shell.execute_reply": "2022-11-25T18:49:39.592917Z"
    },
    "papermill": {
     "duration": 0.02238,
     "end_time": "2022-11-25T18:49:39.597787",
     "exception": false,
     "start_time": "2022-11-25T18:49:39.575407",
     "status": "completed"
    },
    "tags": []
   },
   "outputs": [
    {
     "name": "stdout",
     "output_type": "stream",
     "text": [
      "['date_block_num', 'shop_id', 'item_id', 'item_price', 'item_cnt_day', 'Month', 'Day', 'Year']\n"
     ]
    }
   ],
   "source": [
    "cols=list(X.columns)\n",
    "print(cols)"
   ]
  },
  {
   "cell_type": "markdown",
   "id": "3db845ea",
   "metadata": {
    "papermill": {
     "duration": 0.011319,
     "end_time": "2022-11-25T18:49:39.620765",
     "exception": false,
     "start_time": "2022-11-25T18:49:39.609446",
     "status": "completed"
    },
    "tags": []
   },
   "source": [
    "# Sample \n",
    "Submissions are evaluated by root mean squared error (RMSE) . True target values are clipped into [0,20] range."
   ]
  },
  {
   "cell_type": "code",
   "execution_count": 26,
   "id": "897ca9b9",
   "metadata": {
    "execution": {
     "iopub.execute_input": "2022-11-25T18:49:39.646767Z",
     "iopub.status.busy": "2022-11-25T18:49:39.645559Z",
     "iopub.status.idle": "2022-11-25T18:49:39.749121Z",
     "shell.execute_reply": "2022-11-25T18:49:39.747382Z"
    },
    "papermill": {
     "duration": 0.119913,
     "end_time": "2022-11-25T18:49:39.752339",
     "exception": false,
     "start_time": "2022-11-25T18:49:39.632426",
     "status": "completed"
    },
    "tags": []
   },
   "outputs": [
    {
     "name": "stdout",
     "output_type": "stream",
     "text": [
      "[0.5]\n",
      "214199\n"
     ]
    },
    {
     "data": {
      "text/html": [
       "<div>\n",
       "<style scoped>\n",
       "    .dataframe tbody tr th:only-of-type {\n",
       "        vertical-align: middle;\n",
       "    }\n",
       "\n",
       "    .dataframe tbody tr th {\n",
       "        vertical-align: top;\n",
       "    }\n",
       "\n",
       "    .dataframe thead th {\n",
       "        text-align: right;\n",
       "    }\n",
       "</style>\n",
       "<table border=\"1\" class=\"dataframe\">\n",
       "  <thead>\n",
       "    <tr style=\"text-align: right;\">\n",
       "      <th></th>\n",
       "      <th>ID</th>\n",
       "      <th>item_cnt_month</th>\n",
       "    </tr>\n",
       "  </thead>\n",
       "  <tbody>\n",
       "    <tr>\n",
       "      <th>0</th>\n",
       "      <td>0</td>\n",
       "      <td>0.5</td>\n",
       "    </tr>\n",
       "    <tr>\n",
       "      <th>1</th>\n",
       "      <td>1</td>\n",
       "      <td>0.5</td>\n",
       "    </tr>\n",
       "    <tr>\n",
       "      <th>2</th>\n",
       "      <td>2</td>\n",
       "      <td>0.5</td>\n",
       "    </tr>\n",
       "    <tr>\n",
       "      <th>3</th>\n",
       "      <td>3</td>\n",
       "      <td>0.5</td>\n",
       "    </tr>\n",
       "    <tr>\n",
       "      <th>4</th>\n",
       "      <td>4</td>\n",
       "      <td>0.5</td>\n",
       "    </tr>\n",
       "  </tbody>\n",
       "</table>\n",
       "</div>"
      ],
      "text/plain": [
       "   ID  item_cnt_month\n",
       "0   0             0.5\n",
       "1   1             0.5\n",
       "2   2             0.5\n",
       "3   3             0.5\n",
       "4   4             0.5"
      ]
     },
     "execution_count": 26,
     "metadata": {},
     "output_type": "execute_result"
    }
   ],
   "source": [
    "sample='/kaggle/input/competitive-data-science-predict-future-sales/sample_submission.csv'\n",
    "sample=pd.read_csv(sample)\n",
    "itemList=list(sample['item_cnt_month'].unique())\n",
    "print(itemList)\n",
    "idList=list(sample['ID'].unique())\n",
    "print(max(idList))\n",
    "sample.head()"
   ]
  }
 ],
 "metadata": {
  "kernelspec": {
   "display_name": "Python 3",
   "language": "python",
   "name": "python3"
  },
  "language_info": {
   "codemirror_mode": {
    "name": "ipython",
    "version": 3
   },
   "file_extension": ".py",
   "mimetype": "text/x-python",
   "name": "python",
   "nbconvert_exporter": "python",
   "pygments_lexer": "ipython3",
   "version": "3.7.12"
  },
  "papermill": {
   "default_parameters": {},
   "duration": 125.461044,
   "end_time": "2022-11-25T18:49:40.586539",
   "environment_variables": {},
   "exception": null,
   "input_path": "__notebook__.ipynb",
   "output_path": "__notebook__.ipynb",
   "parameters": {},
   "start_time": "2022-11-25T18:47:35.125495",
   "version": "2.3.4"
  }
 },
 "nbformat": 4,
 "nbformat_minor": 5
}
