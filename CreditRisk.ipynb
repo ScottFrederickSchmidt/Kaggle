{
 "cells": [
  {
   "cell_type": "markdown",
   "metadata": {},
   "source": [
    "# Credit Risk Mortgage Loans\n",
    "The data is provided by [Home Credit](https://www.homecredit.net/about-us.asp), who provides lines of credit (loans) to the unbanked population. There are 307,511 rows of different credit information and 122 columns of feature variables. \n",
    "\n",
    "Using different models using AUC found the following:\n",
    "* Linear regression 0.7327\n",
    "* Decision tree 0.7215\n",
    "* Gradient boost 0.6966\n",
    "* Random forest 0.6312\n",
    "* Logistic regression 0.6145\n",
    "* Knn 0.5106 \n",
    "* SVM has runtime memory issues from too big data. \n",
    "\n",
    "A final credit prediction will be made for each output.\n",
    "\n",
    "## Datasets Summary\n",
    "Original dataset csv files can be found on [Kaggle](https://www.kaggle.com/c/home-credit-default-risk). The columns with first five rows will be shown below to view whenever a dataset is used. Therefore, one will not have to download the csv files. There are seven sources of data for this project which will be briefly\n",
    "described below:\n",
    "* Train.csv: This is the most important dataset with 307,511 rows which are house data. There are 106 column features describing houses such as square feet and year built. The column TARGET column is an important feature to discuss. A 1 in this row means the loan struggled to payback. A 0 means the loan was did not default. Some of the features will need to be encoded numerical to test if they have high feature importance.\n",
    "* bureau.csv: Other previous credit data from other financial institutions. \n",
    "* bureau_balance.csv: Monthly bureau previous credits.\n",
    "* brevious_application.csv: Previous application loans.\n",
    "* POS_CASH_BALANCE.csv: Monthly data about previous cash loans. \n",
    "* credit_card_balance.csv: Monthly credit card data for clients with Home Credit.\n",
    "* installments_payment.csv: Payment history for previous loans.\n",
    "<br/> <br/>\n",
    "\n",
    "## View Train Data\n",
    "The training dataset is the most important dataset with over three-hundred thousand house prices that will be predicted at the very using the best metrics predictive models with reduced error. In total, the train data has 122 columns with 307,511 rows of credit. The first five rows of the train.csv file will be shown below."
   ]
  },
  {
   "cell_type": "code",
   "execution_count": 1,
   "metadata": {
    "execution": {
     "iopub.execute_input": "2022-03-18T21:07:14.688199Z",
     "iopub.status.busy": "2022-03-18T21:07:14.687715Z",
     "iopub.status.idle": "2022-03-18T21:07:18.637096Z",
     "shell.execute_reply": "2022-03-18T21:07:18.636408Z",
     "shell.execute_reply.started": "2022-03-18T21:07:14.688157Z"
    }
   },
   "outputs": [
    {
     "data": {
      "text/html": [
       "<div>\n",
       "<style scoped>\n",
       "    .dataframe tbody tr th:only-of-type {\n",
       "        vertical-align: middle;\n",
       "    }\n",
       "\n",
       "    .dataframe tbody tr th {\n",
       "        vertical-align: top;\n",
       "    }\n",
       "\n",
       "    .dataframe thead th {\n",
       "        text-align: right;\n",
       "    }\n",
       "</style>\n",
       "<table border=\"1\" class=\"dataframe\">\n",
       "  <thead>\n",
       "    <tr style=\"text-align: right;\">\n",
       "      <th></th>\n",
       "      <th>SK_ID_CURR</th>\n",
       "      <th>TARGET</th>\n",
       "      <th>NAME_CONTRACT_TYPE</th>\n",
       "      <th>CODE_GENDER</th>\n",
       "      <th>FLAG_OWN_CAR</th>\n",
       "      <th>FLAG_OWN_REALTY</th>\n",
       "      <th>CNT_CHILDREN</th>\n",
       "      <th>AMT_INCOME_TOTAL</th>\n",
       "      <th>AMT_CREDIT</th>\n",
       "      <th>AMT_ANNUITY</th>\n",
       "      <th>...</th>\n",
       "      <th>FLAG_DOCUMENT_18</th>\n",
       "      <th>FLAG_DOCUMENT_19</th>\n",
       "      <th>FLAG_DOCUMENT_20</th>\n",
       "      <th>FLAG_DOCUMENT_21</th>\n",
       "      <th>AMT_REQ_CREDIT_BUREAU_HOUR</th>\n",
       "      <th>AMT_REQ_CREDIT_BUREAU_DAY</th>\n",
       "      <th>AMT_REQ_CREDIT_BUREAU_WEEK</th>\n",
       "      <th>AMT_REQ_CREDIT_BUREAU_MON</th>\n",
       "      <th>AMT_REQ_CREDIT_BUREAU_QRT</th>\n",
       "      <th>AMT_REQ_CREDIT_BUREAU_YEAR</th>\n",
       "    </tr>\n",
       "  </thead>\n",
       "  <tbody>\n",
       "    <tr>\n",
       "      <th>0</th>\n",
       "      <td>100002</td>\n",
       "      <td>1</td>\n",
       "      <td>Cash loans</td>\n",
       "      <td>M</td>\n",
       "      <td>N</td>\n",
       "      <td>Y</td>\n",
       "      <td>0</td>\n",
       "      <td>202500.0</td>\n",
       "      <td>406597.5</td>\n",
       "      <td>24700.5</td>\n",
       "      <td>...</td>\n",
       "      <td>0</td>\n",
       "      <td>0</td>\n",
       "      <td>0</td>\n",
       "      <td>0</td>\n",
       "      <td>0.0</td>\n",
       "      <td>0.0</td>\n",
       "      <td>0.0</td>\n",
       "      <td>0.0</td>\n",
       "      <td>0.0</td>\n",
       "      <td>1.0</td>\n",
       "    </tr>\n",
       "    <tr>\n",
       "      <th>1</th>\n",
       "      <td>100003</td>\n",
       "      <td>0</td>\n",
       "      <td>Cash loans</td>\n",
       "      <td>F</td>\n",
       "      <td>N</td>\n",
       "      <td>N</td>\n",
       "      <td>0</td>\n",
       "      <td>270000.0</td>\n",
       "      <td>1293502.5</td>\n",
       "      <td>35698.5</td>\n",
       "      <td>...</td>\n",
       "      <td>0</td>\n",
       "      <td>0</td>\n",
       "      <td>0</td>\n",
       "      <td>0</td>\n",
       "      <td>0.0</td>\n",
       "      <td>0.0</td>\n",
       "      <td>0.0</td>\n",
       "      <td>0.0</td>\n",
       "      <td>0.0</td>\n",
       "      <td>0.0</td>\n",
       "    </tr>\n",
       "    <tr>\n",
       "      <th>2</th>\n",
       "      <td>100004</td>\n",
       "      <td>0</td>\n",
       "      <td>Revolving loans</td>\n",
       "      <td>M</td>\n",
       "      <td>Y</td>\n",
       "      <td>Y</td>\n",
       "      <td>0</td>\n",
       "      <td>67500.0</td>\n",
       "      <td>135000.0</td>\n",
       "      <td>6750.0</td>\n",
       "      <td>...</td>\n",
       "      <td>0</td>\n",
       "      <td>0</td>\n",
       "      <td>0</td>\n",
       "      <td>0</td>\n",
       "      <td>0.0</td>\n",
       "      <td>0.0</td>\n",
       "      <td>0.0</td>\n",
       "      <td>0.0</td>\n",
       "      <td>0.0</td>\n",
       "      <td>0.0</td>\n",
       "    </tr>\n",
       "    <tr>\n",
       "      <th>3</th>\n",
       "      <td>100006</td>\n",
       "      <td>0</td>\n",
       "      <td>Cash loans</td>\n",
       "      <td>F</td>\n",
       "      <td>N</td>\n",
       "      <td>Y</td>\n",
       "      <td>0</td>\n",
       "      <td>135000.0</td>\n",
       "      <td>312682.5</td>\n",
       "      <td>29686.5</td>\n",
       "      <td>...</td>\n",
       "      <td>0</td>\n",
       "      <td>0</td>\n",
       "      <td>0</td>\n",
       "      <td>0</td>\n",
       "      <td>NaN</td>\n",
       "      <td>NaN</td>\n",
       "      <td>NaN</td>\n",
       "      <td>NaN</td>\n",
       "      <td>NaN</td>\n",
       "      <td>NaN</td>\n",
       "    </tr>\n",
       "    <tr>\n",
       "      <th>4</th>\n",
       "      <td>100007</td>\n",
       "      <td>0</td>\n",
       "      <td>Cash loans</td>\n",
       "      <td>M</td>\n",
       "      <td>N</td>\n",
       "      <td>Y</td>\n",
       "      <td>0</td>\n",
       "      <td>121500.0</td>\n",
       "      <td>513000.0</td>\n",
       "      <td>21865.5</td>\n",
       "      <td>...</td>\n",
       "      <td>0</td>\n",
       "      <td>0</td>\n",
       "      <td>0</td>\n",
       "      <td>0</td>\n",
       "      <td>0.0</td>\n",
       "      <td>0.0</td>\n",
       "      <td>0.0</td>\n",
       "      <td>0.0</td>\n",
       "      <td>0.0</td>\n",
       "      <td>0.0</td>\n",
       "    </tr>\n",
       "  </tbody>\n",
       "</table>\n",
       "<p>5 rows × 122 columns</p>\n",
       "</div>"
      ],
      "text/plain": [
       "   SK_ID_CURR  TARGET NAME_CONTRACT_TYPE CODE_GENDER FLAG_OWN_CAR  \\\n",
       "0      100002       1         Cash loans           M            N   \n",
       "1      100003       0         Cash loans           F            N   \n",
       "2      100004       0    Revolving loans           M            Y   \n",
       "3      100006       0         Cash loans           F            N   \n",
       "4      100007       0         Cash loans           M            N   \n",
       "\n",
       "  FLAG_OWN_REALTY  CNT_CHILDREN  AMT_INCOME_TOTAL  AMT_CREDIT  AMT_ANNUITY  \\\n",
       "0               Y             0          202500.0    406597.5      24700.5   \n",
       "1               N             0          270000.0   1293502.5      35698.5   \n",
       "2               Y             0           67500.0    135000.0       6750.0   \n",
       "3               Y             0          135000.0    312682.5      29686.5   \n",
       "4               Y             0          121500.0    513000.0      21865.5   \n",
       "\n",
       "   ...  FLAG_DOCUMENT_18 FLAG_DOCUMENT_19 FLAG_DOCUMENT_20 FLAG_DOCUMENT_21  \\\n",
       "0  ...                 0                0                0                0   \n",
       "1  ...                 0                0                0                0   \n",
       "2  ...                 0                0                0                0   \n",
       "3  ...                 0                0                0                0   \n",
       "4  ...                 0                0                0                0   \n",
       "\n",
       "  AMT_REQ_CREDIT_BUREAU_HOUR AMT_REQ_CREDIT_BUREAU_DAY  \\\n",
       "0                        0.0                       0.0   \n",
       "1                        0.0                       0.0   \n",
       "2                        0.0                       0.0   \n",
       "3                        NaN                       NaN   \n",
       "4                        0.0                       0.0   \n",
       "\n",
       "   AMT_REQ_CREDIT_BUREAU_WEEK  AMT_REQ_CREDIT_BUREAU_MON  \\\n",
       "0                         0.0                        0.0   \n",
       "1                         0.0                        0.0   \n",
       "2                         0.0                        0.0   \n",
       "3                         NaN                        NaN   \n",
       "4                         0.0                        0.0   \n",
       "\n",
       "   AMT_REQ_CREDIT_BUREAU_QRT  AMT_REQ_CREDIT_BUREAU_YEAR  \n",
       "0                        0.0                         1.0  \n",
       "1                        0.0                         0.0  \n",
       "2                        0.0                         0.0  \n",
       "3                        NaN                         NaN  \n",
       "4                        0.0                         0.0  \n",
       "\n",
       "[5 rows x 122 columns]"
      ]
     },
     "execution_count": 1,
     "metadata": {},
     "output_type": "execute_result"
    }
   ],
   "source": [
    "import numpy as np\n",
    "import pandas as pd\n",
    "import seaborn as sns\n",
    "import matplotlib.pyplot as plt\n",
    "from sklearn.model_selection import train_test_split, cross_validate\n",
    "from statistics import mean\n",
    "from sklearn.metrics import mean_absolute_error, mean_squared_error, r2_score\n",
    "from sklearn.datasets import make_classification\n",
    "from sklearn import ensemble\n",
    "import sklearn.metrics as metrics\n",
    "\n",
    "#PERSONAL FILES:\n",
    "bureau_balance=r'C:\\Users\\sschm\\Desktop\\kaggle\\creditRisk\\bureau_balance.csv'\n",
    "train=r'C:\\Users\\sschm\\Desktop\\kaggle\\creditRisk\\application_train.csv'\n",
    "test=r'C:\\Users\\sschm\\Desktop\\kaggle\\creditRisk\\application_test.csv'\n",
    "\n",
    "data=pd.read_csv(train) # (307511, 122)\n",
    "testDF=pd.read_csv(test)\n",
    "data.head()"
   ]
  },
  {
   "cell_type": "code",
   "execution_count": 2,
   "metadata": {
    "execution": {
     "iopub.execute_input": "2022-03-18T21:07:18.638818Z",
     "iopub.status.busy": "2022-03-18T21:07:18.638302Z",
     "iopub.status.idle": "2022-03-18T21:07:18.644602Z",
     "shell.execute_reply": "2022-03-18T21:07:18.644059Z",
     "shell.execute_reply.started": "2022-03-18T21:07:18.63879Z"
    }
   },
   "outputs": [
    {
     "data": {
      "text/plain": [
       "SK_ID_CURR                      int64\n",
       "TARGET                          int64\n",
       "NAME_CONTRACT_TYPE             object\n",
       "CODE_GENDER                    object\n",
       "FLAG_OWN_CAR                   object\n",
       "                               ...   \n",
       "AMT_REQ_CREDIT_BUREAU_DAY     float64\n",
       "AMT_REQ_CREDIT_BUREAU_WEEK    float64\n",
       "AMT_REQ_CREDIT_BUREAU_MON     float64\n",
       "AMT_REQ_CREDIT_BUREAU_QRT     float64\n",
       "AMT_REQ_CREDIT_BUREAU_YEAR    float64\n",
       "Length: 122, dtype: object"
      ]
     },
     "execution_count": 2,
     "metadata": {},
     "output_type": "execute_result"
    }
   ],
   "source": [
    "data.dtypes"
   ]
  },
  {
   "cell_type": "markdown",
   "metadata": {},
   "source": [
    "## Examine TARGET column\n",
    "How many loans were not repaid? In train.csv 0 stands for repaid and 1 stands for payment difficulties. The percent of loans that defaulted was 0.081. This is somewhat unbalanced data so we must be careful when selecting what metrics to use to analyze the data. In addition, we must consider other data files for feature importance. There are no missing TARGET values which is good because we would likely have to drop a row that does not have an independent variable."
   ]
  },
  {
   "cell_type": "code",
   "execution_count": 3,
   "metadata": {
    "execution": {
     "iopub.execute_input": "2022-03-18T21:07:18.645947Z",
     "iopub.status.busy": "2022-03-18T21:07:18.645605Z",
     "iopub.status.idle": "2022-03-18T21:07:18.657494Z",
     "shell.execute_reply": "2022-03-18T21:07:18.656672Z",
     "shell.execute_reply.started": "2022-03-18T21:07:18.645914Z"
    }
   },
   "outputs": [
    {
     "name": "stdout",
     "output_type": "stream",
     "text": [
      "0    282686\n",
      "1     24825\n",
      "Name: TARGET, dtype: int64\n",
      "Percent of loans that defauled:  0.081\n"
     ]
    }
   ],
   "source": [
    "temp=data['TARGET'].value_counts()\n",
    "print(temp)\n",
    "paid=temp[0]\n",
    "notPaid=temp[1]\n",
    "default=round(notPaid/(paid+notPaid),3)\n",
    "print(\"Percent of loans that defauled: \", default)"
   ]
  },
  {
   "cell_type": "markdown",
   "metadata": {},
   "source": [
    "## Numeric DataFrame\n",
    "The data is now all numeric values. We can encode categorical values later on to view if any of the categorical values have any importance worth investing in later."
   ]
  },
  {
   "cell_type": "code",
   "execution_count": 4,
   "metadata": {
    "execution": {
     "iopub.execute_input": "2022-03-18T21:07:18.659144Z",
     "iopub.status.busy": "2022-03-18T21:07:18.658578Z",
     "iopub.status.idle": "2022-03-18T21:07:18.765607Z",
     "shell.execute_reply": "2022-03-18T21:07:18.764954Z",
     "shell.execute_reply.started": "2022-03-18T21:07:18.659112Z"
    }
   },
   "outputs": [
    {
     "data": {
      "text/html": [
       "<div>\n",
       "<style scoped>\n",
       "    .dataframe tbody tr th:only-of-type {\n",
       "        vertical-align: middle;\n",
       "    }\n",
       "\n",
       "    .dataframe tbody tr th {\n",
       "        vertical-align: top;\n",
       "    }\n",
       "\n",
       "    .dataframe thead th {\n",
       "        text-align: right;\n",
       "    }\n",
       "</style>\n",
       "<table border=\"1\" class=\"dataframe\">\n",
       "  <thead>\n",
       "    <tr style=\"text-align: right;\">\n",
       "      <th></th>\n",
       "      <th>SK_ID_CURR</th>\n",
       "      <th>TARGET</th>\n",
       "      <th>CNT_CHILDREN</th>\n",
       "      <th>AMT_INCOME_TOTAL</th>\n",
       "      <th>AMT_CREDIT</th>\n",
       "      <th>AMT_ANNUITY</th>\n",
       "      <th>AMT_GOODS_PRICE</th>\n",
       "      <th>REGION_POPULATION_RELATIVE</th>\n",
       "      <th>DAYS_BIRTH</th>\n",
       "      <th>DAYS_EMPLOYED</th>\n",
       "      <th>...</th>\n",
       "      <th>FLAG_DOCUMENT_18</th>\n",
       "      <th>FLAG_DOCUMENT_19</th>\n",
       "      <th>FLAG_DOCUMENT_20</th>\n",
       "      <th>FLAG_DOCUMENT_21</th>\n",
       "      <th>AMT_REQ_CREDIT_BUREAU_HOUR</th>\n",
       "      <th>AMT_REQ_CREDIT_BUREAU_DAY</th>\n",
       "      <th>AMT_REQ_CREDIT_BUREAU_WEEK</th>\n",
       "      <th>AMT_REQ_CREDIT_BUREAU_MON</th>\n",
       "      <th>AMT_REQ_CREDIT_BUREAU_QRT</th>\n",
       "      <th>AMT_REQ_CREDIT_BUREAU_YEAR</th>\n",
       "    </tr>\n",
       "  </thead>\n",
       "  <tbody>\n",
       "    <tr>\n",
       "      <th>0</th>\n",
       "      <td>100002</td>\n",
       "      <td>1</td>\n",
       "      <td>0</td>\n",
       "      <td>202500.0</td>\n",
       "      <td>406597.5</td>\n",
       "      <td>24700.5</td>\n",
       "      <td>351000.0</td>\n",
       "      <td>0.018801</td>\n",
       "      <td>-9461</td>\n",
       "      <td>-637</td>\n",
       "      <td>...</td>\n",
       "      <td>0</td>\n",
       "      <td>0</td>\n",
       "      <td>0</td>\n",
       "      <td>0</td>\n",
       "      <td>0.0</td>\n",
       "      <td>0.0</td>\n",
       "      <td>0.0</td>\n",
       "      <td>0.0</td>\n",
       "      <td>0.0</td>\n",
       "      <td>1.0</td>\n",
       "    </tr>\n",
       "    <tr>\n",
       "      <th>1</th>\n",
       "      <td>100003</td>\n",
       "      <td>0</td>\n",
       "      <td>0</td>\n",
       "      <td>270000.0</td>\n",
       "      <td>1293502.5</td>\n",
       "      <td>35698.5</td>\n",
       "      <td>1129500.0</td>\n",
       "      <td>0.003541</td>\n",
       "      <td>-16765</td>\n",
       "      <td>-1188</td>\n",
       "      <td>...</td>\n",
       "      <td>0</td>\n",
       "      <td>0</td>\n",
       "      <td>0</td>\n",
       "      <td>0</td>\n",
       "      <td>0.0</td>\n",
       "      <td>0.0</td>\n",
       "      <td>0.0</td>\n",
       "      <td>0.0</td>\n",
       "      <td>0.0</td>\n",
       "      <td>0.0</td>\n",
       "    </tr>\n",
       "    <tr>\n",
       "      <th>2</th>\n",
       "      <td>100004</td>\n",
       "      <td>0</td>\n",
       "      <td>0</td>\n",
       "      <td>67500.0</td>\n",
       "      <td>135000.0</td>\n",
       "      <td>6750.0</td>\n",
       "      <td>135000.0</td>\n",
       "      <td>0.010032</td>\n",
       "      <td>-19046</td>\n",
       "      <td>-225</td>\n",
       "      <td>...</td>\n",
       "      <td>0</td>\n",
       "      <td>0</td>\n",
       "      <td>0</td>\n",
       "      <td>0</td>\n",
       "      <td>0.0</td>\n",
       "      <td>0.0</td>\n",
       "      <td>0.0</td>\n",
       "      <td>0.0</td>\n",
       "      <td>0.0</td>\n",
       "      <td>0.0</td>\n",
       "    </tr>\n",
       "    <tr>\n",
       "      <th>3</th>\n",
       "      <td>100006</td>\n",
       "      <td>0</td>\n",
       "      <td>0</td>\n",
       "      <td>135000.0</td>\n",
       "      <td>312682.5</td>\n",
       "      <td>29686.5</td>\n",
       "      <td>297000.0</td>\n",
       "      <td>0.008019</td>\n",
       "      <td>-19005</td>\n",
       "      <td>-3039</td>\n",
       "      <td>...</td>\n",
       "      <td>0</td>\n",
       "      <td>0</td>\n",
       "      <td>0</td>\n",
       "      <td>0</td>\n",
       "      <td>NaN</td>\n",
       "      <td>NaN</td>\n",
       "      <td>NaN</td>\n",
       "      <td>NaN</td>\n",
       "      <td>NaN</td>\n",
       "      <td>NaN</td>\n",
       "    </tr>\n",
       "    <tr>\n",
       "      <th>4</th>\n",
       "      <td>100007</td>\n",
       "      <td>0</td>\n",
       "      <td>0</td>\n",
       "      <td>121500.0</td>\n",
       "      <td>513000.0</td>\n",
       "      <td>21865.5</td>\n",
       "      <td>513000.0</td>\n",
       "      <td>0.028663</td>\n",
       "      <td>-19932</td>\n",
       "      <td>-3038</td>\n",
       "      <td>...</td>\n",
       "      <td>0</td>\n",
       "      <td>0</td>\n",
       "      <td>0</td>\n",
       "      <td>0</td>\n",
       "      <td>0.0</td>\n",
       "      <td>0.0</td>\n",
       "      <td>0.0</td>\n",
       "      <td>0.0</td>\n",
       "      <td>0.0</td>\n",
       "      <td>0.0</td>\n",
       "    </tr>\n",
       "  </tbody>\n",
       "</table>\n",
       "<p>5 rows × 106 columns</p>\n",
       "</div>"
      ],
      "text/plain": [
       "   SK_ID_CURR  TARGET  CNT_CHILDREN  AMT_INCOME_TOTAL  AMT_CREDIT  \\\n",
       "0      100002       1             0          202500.0    406597.5   \n",
       "1      100003       0             0          270000.0   1293502.5   \n",
       "2      100004       0             0           67500.0    135000.0   \n",
       "3      100006       0             0          135000.0    312682.5   \n",
       "4      100007       0             0          121500.0    513000.0   \n",
       "\n",
       "   AMT_ANNUITY  AMT_GOODS_PRICE  REGION_POPULATION_RELATIVE  DAYS_BIRTH  \\\n",
       "0      24700.5         351000.0                    0.018801       -9461   \n",
       "1      35698.5        1129500.0                    0.003541      -16765   \n",
       "2       6750.0         135000.0                    0.010032      -19046   \n",
       "3      29686.5         297000.0                    0.008019      -19005   \n",
       "4      21865.5         513000.0                    0.028663      -19932   \n",
       "\n",
       "   DAYS_EMPLOYED  ...  FLAG_DOCUMENT_18  FLAG_DOCUMENT_19  FLAG_DOCUMENT_20  \\\n",
       "0           -637  ...                 0                 0                 0   \n",
       "1          -1188  ...                 0                 0                 0   \n",
       "2           -225  ...                 0                 0                 0   \n",
       "3          -3039  ...                 0                 0                 0   \n",
       "4          -3038  ...                 0                 0                 0   \n",
       "\n",
       "   FLAG_DOCUMENT_21  AMT_REQ_CREDIT_BUREAU_HOUR  AMT_REQ_CREDIT_BUREAU_DAY  \\\n",
       "0                 0                         0.0                        0.0   \n",
       "1                 0                         0.0                        0.0   \n",
       "2                 0                         0.0                        0.0   \n",
       "3                 0                         NaN                        NaN   \n",
       "4                 0                         0.0                        0.0   \n",
       "\n",
       "   AMT_REQ_CREDIT_BUREAU_WEEK  AMT_REQ_CREDIT_BUREAU_MON  \\\n",
       "0                         0.0                        0.0   \n",
       "1                         0.0                        0.0   \n",
       "2                         0.0                        0.0   \n",
       "3                         NaN                        NaN   \n",
       "4                         0.0                        0.0   \n",
       "\n",
       "   AMT_REQ_CREDIT_BUREAU_QRT  AMT_REQ_CREDIT_BUREAU_YEAR  \n",
       "0                        0.0                         1.0  \n",
       "1                        0.0                         0.0  \n",
       "2                        0.0                         0.0  \n",
       "3                        NaN                         NaN  \n",
       "4                        0.0                         0.0  \n",
       "\n",
       "[5 rows x 106 columns]"
      ]
     },
     "execution_count": 4,
     "metadata": {},
     "output_type": "execute_result"
    }
   ],
   "source": [
    "numerics = ['int16', 'int32', 'int64', 'float16', 'float32', 'float64']\n",
    "df = data.select_dtypes(include=numerics) # (307511, 106)\n",
    "df.head()"
   ]
  },
  {
   "cell_type": "markdown",
   "metadata": {},
   "source": [
    "## Find missing values\n",
    "Too many missing values on a column will get the column removed. In this case, there were about forty columns with more than 50% missing data. In total, there are 60 numeric columns with missing data, we need to interpret the Bureau to find feature importance in order to engineer which columns are most worth keeping."
   ]
  },
  {
   "cell_type": "code",
   "execution_count": 5,
   "metadata": {
    "execution": {
     "iopub.execute_input": "2022-03-18T21:07:18.767723Z",
     "iopub.status.busy": "2022-03-18T21:07:18.767388Z",
     "iopub.status.idle": "2022-03-18T21:07:18.831773Z",
     "shell.execute_reply": "2022-03-18T21:07:18.830815Z",
     "shell.execute_reply.started": "2022-03-18T21:07:18.767695Z"
    }
   },
   "outputs": [
    {
     "name": "stdout",
     "output_type": "stream",
     "text": [
      "Missing data by column as a percent:\n",
      "COMMONAREA_MODE             0.698723\n",
      "COMMONAREA_AVG              0.698723\n",
      "COMMONAREA_MEDI             0.698723\n",
      "NONLIVINGAPARTMENTS_AVG     0.694330\n",
      "NONLIVINGAPARTMENTS_MODE    0.694330\n",
      "NONLIVINGAPARTMENTS_MEDI    0.694330\n",
      "LIVINGAPARTMENTS_MODE       0.683550\n",
      "LIVINGAPARTMENTS_AVG        0.683550\n",
      "LIVINGAPARTMENTS_MEDI       0.683550\n",
      "FLOORSMIN_MEDI              0.678486\n",
      "FLOORSMIN_MODE              0.678486\n",
      "FLOORSMIN_AVG               0.678486\n",
      "YEARS_BUILD_MEDI            0.664978\n",
      "YEARS_BUILD_MODE            0.664978\n",
      "YEARS_BUILD_AVG             0.664978\n",
      "OWN_CAR_AGE                 0.659908\n",
      "LANDAREA_AVG                0.593767\n",
      "LANDAREA_MEDI               0.593767\n",
      "LANDAREA_MODE               0.593767\n",
      "BASEMENTAREA_MEDI           0.585160\n",
      "BASEMENTAREA_AVG            0.585160\n",
      "BASEMENTAREA_MODE           0.585160\n",
      "EXT_SOURCE_1                0.563811\n",
      "NONLIVINGAREA_MODE          0.551792\n",
      "NONLIVINGAREA_MEDI          0.551792\n",
      "NONLIVINGAREA_AVG           0.551792\n",
      "ELEVATORS_MEDI              0.532960\n",
      "ELEVATORS_AVG               0.532960\n",
      "ELEVATORS_MODE              0.532960\n",
      "APARTMENTS_MEDI             0.507497\n",
      "APARTMENTS_MODE             0.507497\n",
      "APARTMENTS_AVG              0.507497\n",
      "ENTRANCES_MEDI              0.503488\n",
      "ENTRANCES_MODE              0.503488\n",
      "ENTRANCES_AVG               0.503488\n",
      "LIVINGAREA_AVG              0.501933\n",
      "LIVINGAREA_MODE             0.501933\n",
      "LIVINGAREA_MEDI             0.501933\n",
      "FLOORSMAX_AVG               0.497608\n",
      "FLOORSMAX_MEDI              0.497608\n",
      "dtype: float64\n"
     ]
    }
   ],
   "source": [
    "#search for columns with missing values:\n",
    "def findNA():\n",
    "    print(\"Missing data by column as a percent:\")\n",
    "    findNA=df.isnull().sum().sort_values(ascending=False)/len(df)\n",
    "    print(findNA.head(40))\n",
    "findNA() "
   ]
  },
  {
   "cell_type": "markdown",
   "metadata": {},
   "source": [
    "## Fix Missing Values\n",
    "Variable number can be changed to delete a missing column with more than 20 NA values. Then, the dataframe must be filled in the mean for the remaining missing values. Since we need a final credit prediction for every credit loan, we can simply not delete any rows."
   ]
  },
  {
   "cell_type": "code",
   "execution_count": 6,
   "metadata": {
    "execution": {
     "iopub.execute_input": "2022-03-18T21:07:18.833431Z",
     "iopub.status.busy": "2022-03-18T21:07:18.833075Z",
     "iopub.status.idle": "2022-03-18T21:07:19.384605Z",
     "shell.execute_reply": "2022-03-18T21:07:19.384034Z",
     "shell.execute_reply.started": "2022-03-18T21:07:18.8334Z"
    }
   },
   "outputs": [
    {
     "data": {
      "text/html": [
       "<div>\n",
       "<style scoped>\n",
       "    .dataframe tbody tr th:only-of-type {\n",
       "        vertical-align: middle;\n",
       "    }\n",
       "\n",
       "    .dataframe tbody tr th {\n",
       "        vertical-align: top;\n",
       "    }\n",
       "\n",
       "    .dataframe thead th {\n",
       "        text-align: right;\n",
       "    }\n",
       "</style>\n",
       "<table border=\"1\" class=\"dataframe\">\n",
       "  <thead>\n",
       "    <tr style=\"text-align: right;\">\n",
       "      <th></th>\n",
       "      <th>SK_ID_CURR</th>\n",
       "      <th>TARGET</th>\n",
       "      <th>CNT_CHILDREN</th>\n",
       "      <th>AMT_INCOME_TOTAL</th>\n",
       "      <th>AMT_CREDIT</th>\n",
       "      <th>AMT_ANNUITY</th>\n",
       "      <th>AMT_GOODS_PRICE</th>\n",
       "      <th>REGION_POPULATION_RELATIVE</th>\n",
       "      <th>DAYS_BIRTH</th>\n",
       "      <th>DAYS_EMPLOYED</th>\n",
       "      <th>...</th>\n",
       "      <th>FLAG_DOCUMENT_18</th>\n",
       "      <th>FLAG_DOCUMENT_19</th>\n",
       "      <th>FLAG_DOCUMENT_20</th>\n",
       "      <th>FLAG_DOCUMENT_21</th>\n",
       "      <th>AMT_REQ_CREDIT_BUREAU_HOUR</th>\n",
       "      <th>AMT_REQ_CREDIT_BUREAU_DAY</th>\n",
       "      <th>AMT_REQ_CREDIT_BUREAU_WEEK</th>\n",
       "      <th>AMT_REQ_CREDIT_BUREAU_MON</th>\n",
       "      <th>AMT_REQ_CREDIT_BUREAU_QRT</th>\n",
       "      <th>AMT_REQ_CREDIT_BUREAU_YEAR</th>\n",
       "    </tr>\n",
       "  </thead>\n",
       "  <tbody>\n",
       "    <tr>\n",
       "      <th>0</th>\n",
       "      <td>100002</td>\n",
       "      <td>1</td>\n",
       "      <td>0</td>\n",
       "      <td>202500.0</td>\n",
       "      <td>406597.5</td>\n",
       "      <td>24700.5</td>\n",
       "      <td>351000.0</td>\n",
       "      <td>0.018801</td>\n",
       "      <td>-9461</td>\n",
       "      <td>-637</td>\n",
       "      <td>...</td>\n",
       "      <td>0</td>\n",
       "      <td>0</td>\n",
       "      <td>0</td>\n",
       "      <td>0</td>\n",
       "      <td>0.0</td>\n",
       "      <td>0.0</td>\n",
       "      <td>0.0</td>\n",
       "      <td>0.0</td>\n",
       "      <td>0.0</td>\n",
       "      <td>1.0</td>\n",
       "    </tr>\n",
       "    <tr>\n",
       "      <th>1</th>\n",
       "      <td>100003</td>\n",
       "      <td>0</td>\n",
       "      <td>0</td>\n",
       "      <td>270000.0</td>\n",
       "      <td>1293502.5</td>\n",
       "      <td>35698.5</td>\n",
       "      <td>1129500.0</td>\n",
       "      <td>0.003541</td>\n",
       "      <td>-16765</td>\n",
       "      <td>-1188</td>\n",
       "      <td>...</td>\n",
       "      <td>0</td>\n",
       "      <td>0</td>\n",
       "      <td>0</td>\n",
       "      <td>0</td>\n",
       "      <td>0.0</td>\n",
       "      <td>0.0</td>\n",
       "      <td>0.0</td>\n",
       "      <td>0.0</td>\n",
       "      <td>0.0</td>\n",
       "      <td>0.0</td>\n",
       "    </tr>\n",
       "    <tr>\n",
       "      <th>2</th>\n",
       "      <td>100004</td>\n",
       "      <td>0</td>\n",
       "      <td>0</td>\n",
       "      <td>67500.0</td>\n",
       "      <td>135000.0</td>\n",
       "      <td>6750.0</td>\n",
       "      <td>135000.0</td>\n",
       "      <td>0.010032</td>\n",
       "      <td>-19046</td>\n",
       "      <td>-225</td>\n",
       "      <td>...</td>\n",
       "      <td>0</td>\n",
       "      <td>0</td>\n",
       "      <td>0</td>\n",
       "      <td>0</td>\n",
       "      <td>0.0</td>\n",
       "      <td>0.0</td>\n",
       "      <td>0.0</td>\n",
       "      <td>0.0</td>\n",
       "      <td>0.0</td>\n",
       "      <td>0.0</td>\n",
       "    </tr>\n",
       "    <tr>\n",
       "      <th>4</th>\n",
       "      <td>100007</td>\n",
       "      <td>0</td>\n",
       "      <td>0</td>\n",
       "      <td>121500.0</td>\n",
       "      <td>513000.0</td>\n",
       "      <td>21865.5</td>\n",
       "      <td>513000.0</td>\n",
       "      <td>0.028663</td>\n",
       "      <td>-19932</td>\n",
       "      <td>-3038</td>\n",
       "      <td>...</td>\n",
       "      <td>0</td>\n",
       "      <td>0</td>\n",
       "      <td>0</td>\n",
       "      <td>0</td>\n",
       "      <td>0.0</td>\n",
       "      <td>0.0</td>\n",
       "      <td>0.0</td>\n",
       "      <td>0.0</td>\n",
       "      <td>0.0</td>\n",
       "      <td>0.0</td>\n",
       "    </tr>\n",
       "    <tr>\n",
       "      <th>5</th>\n",
       "      <td>100008</td>\n",
       "      <td>0</td>\n",
       "      <td>0</td>\n",
       "      <td>99000.0</td>\n",
       "      <td>490495.5</td>\n",
       "      <td>27517.5</td>\n",
       "      <td>454500.0</td>\n",
       "      <td>0.035792</td>\n",
       "      <td>-16941</td>\n",
       "      <td>-1588</td>\n",
       "      <td>...</td>\n",
       "      <td>0</td>\n",
       "      <td>0</td>\n",
       "      <td>0</td>\n",
       "      <td>0</td>\n",
       "      <td>0.0</td>\n",
       "      <td>0.0</td>\n",
       "      <td>0.0</td>\n",
       "      <td>0.0</td>\n",
       "      <td>1.0</td>\n",
       "      <td>1.0</td>\n",
       "    </tr>\n",
       "  </tbody>\n",
       "</table>\n",
       "<p>5 rows × 106 columns</p>\n",
       "</div>"
      ],
      "text/plain": [
       "   SK_ID_CURR  TARGET  CNT_CHILDREN  AMT_INCOME_TOTAL  AMT_CREDIT  \\\n",
       "0      100002       1             0          202500.0    406597.5   \n",
       "1      100003       0             0          270000.0   1293502.5   \n",
       "2      100004       0             0           67500.0    135000.0   \n",
       "4      100007       0             0          121500.0    513000.0   \n",
       "5      100008       0             0           99000.0    490495.5   \n",
       "\n",
       "   AMT_ANNUITY  AMT_GOODS_PRICE  REGION_POPULATION_RELATIVE  DAYS_BIRTH  \\\n",
       "0      24700.5         351000.0                    0.018801       -9461   \n",
       "1      35698.5        1129500.0                    0.003541      -16765   \n",
       "2       6750.0         135000.0                    0.010032      -19046   \n",
       "4      21865.5         513000.0                    0.028663      -19932   \n",
       "5      27517.5         454500.0                    0.035792      -16941   \n",
       "\n",
       "   DAYS_EMPLOYED  ...  FLAG_DOCUMENT_18  FLAG_DOCUMENT_19  FLAG_DOCUMENT_20  \\\n",
       "0           -637  ...                 0                 0                 0   \n",
       "1          -1188  ...                 0                 0                 0   \n",
       "2           -225  ...                 0                 0                 0   \n",
       "4          -3038  ...                 0                 0                 0   \n",
       "5          -1588  ...                 0                 0                 0   \n",
       "\n",
       "   FLAG_DOCUMENT_21  AMT_REQ_CREDIT_BUREAU_HOUR  AMT_REQ_CREDIT_BUREAU_DAY  \\\n",
       "0                 0                         0.0                        0.0   \n",
       "1                 0                         0.0                        0.0   \n",
       "2                 0                         0.0                        0.0   \n",
       "4                 0                         0.0                        0.0   \n",
       "5                 0                         0.0                        0.0   \n",
       "\n",
       "   AMT_REQ_CREDIT_BUREAU_WEEK  AMT_REQ_CREDIT_BUREAU_MON  \\\n",
       "0                         0.0                        0.0   \n",
       "1                         0.0                        0.0   \n",
       "2                         0.0                        0.0   \n",
       "4                         0.0                        0.0   \n",
       "5                         0.0                        0.0   \n",
       "\n",
       "   AMT_REQ_CREDIT_BUREAU_QRT  AMT_REQ_CREDIT_BUREAU_YEAR  \n",
       "0                        0.0                         1.0  \n",
       "1                        0.0                         0.0  \n",
       "2                        0.0                         0.0  \n",
       "4                        0.0                         0.0  \n",
       "5                        1.0                         1.0  \n",
       "\n",
       "[5 rows x 106 columns]"
      ]
     },
     "execution_count": 6,
     "metadata": {},
     "output_type": "execute_result"
    }
   ],
   "source": [
    "number=50 #remove col with  or more missing values\n",
    "df = df[df.isnull().sum(axis=1) <= number] \n",
    "df= df.fillna(df.mean())\n",
    "df.head()"
   ]
  },
  {
   "cell_type": "markdown",
   "metadata": {},
   "source": [
    "## Heat Map Correlations and Multicollinearity\n",
    "There is no major multicollinearity. In fact, there are not many correlated variables. The following heatmap is set for correlations above .05 because there are so few variables that are highly correlated."
   ]
  },
  {
   "cell_type": "code",
   "execution_count": 7,
   "metadata": {
    "execution": {
     "iopub.execute_input": "2022-03-18T21:07:19.386178Z",
     "iopub.status.busy": "2022-03-18T21:07:19.385767Z",
     "iopub.status.idle": "2022-03-18T21:07:28.845306Z",
     "shell.execute_reply": "2022-03-18T21:07:28.844396Z",
     "shell.execute_reply.started": "2022-03-18T21:07:19.386147Z"
    }
   },
   "outputs": [
    {
     "name": "stdout",
     "output_type": "stream",
     "text": [
      "AxesSubplot(0.125,0.125;0.62x0.755)\n",
      "Top 10 Correlations:\n",
      " TARGET                         1.000000\n",
      "DAYS_BIRTH                     0.076545\n",
      "REGION_RATING_CLIENT_W_CITY    0.057478\n",
      "REGION_RATING_CLIENT           0.055580\n",
      "DAYS_LAST_PHONE_CHANGE         0.051327\n",
      "DAYS_ID_PUBLISH                0.049973\n",
      "REG_CITY_NOT_WORK_CITY         0.047007\n",
      "FLAG_EMP_PHONE                 0.045044\n",
      "FLAG_DOCUMENT_3                0.044278\n",
      "REG_CITY_NOT_LIVE_CITY         0.041100\n",
      "Name: TARGET, dtype: float64\n"
     ]
    },
    {
     "data": {
      "image/png": "[encoded data removed]",
      "text/plain": [
       "<Figure size 720x720 with 2 Axes>"
      ]
     },
     "metadata": {
      "needs_background": "light"
     },
     "output_type": "display_data"
    }
   ],
   "source": [
    "def printHeat():\n",
    "    corr = df.corr()\n",
    "    #print(corr)\n",
    "    y='TARGET'\n",
    "    highly_corr_features = corr.index[abs(corr[y])>0.05]\n",
    "    plt.figure(figsize=(10,10))\n",
    "    heat = sns.heatmap(df[highly_corr_features].corr(),annot=True,cmap=\"RdYlGn\")\n",
    "    top10=corr[y].sort_values(ascending=False).head(10)\n",
    "    print(heat)\n",
    "    print(\"Top 10 Correlations:\\n\", top10) # top ten correlations\n",
    "printHeat()"
   ]
  },
  {
   "cell_type": "markdown",
   "metadata": {},
   "source": [
    "## Split Data\n",
    "Split the data set into training data and test data. TARGET will always be Y since it is the independent variable. A 1 is a troubled loan while a 0 equals a not distressed loan. "
   ]
  },
  {
   "cell_type": "code",
   "execution_count": 8,
   "metadata": {
    "execution": {
     "iopub.execute_input": "2022-03-18T21:07:28.846733Z",
     "iopub.status.busy": "2022-03-18T21:07:28.846509Z",
     "iopub.status.idle": "2022-03-18T21:07:29.191674Z",
     "shell.execute_reply": "2022-03-18T21:07:29.191074Z",
     "shell.execute_reply.started": "2022-03-18T21:07:28.846706Z"
    }
   },
   "outputs": [],
   "source": [
    "X=df.drop('TARGET', axis=1)\n",
    "y=df['TARGET']\n",
    "\n",
    "X_train, X_test, y_train, y_test = train_test_split(X, y, test_size=0.3, random_state=13)"
   ]
  },
  {
   "cell_type": "markdown",
   "metadata": {},
   "source": [
    "## Gradient Booster and Feature Importance\n",
    "The amount of annuity and days_birth (age) are the two most highly correlated features. However, since this is unbalanced data there do not seem to be many feature importance to begin with."
   ]
  },
  {
   "cell_type": "code",
   "execution_count": 9,
   "metadata": {
    "execution": {
     "iopub.execute_input": "2022-03-18T21:07:29.193179Z",
     "iopub.status.busy": "2022-03-18T21:07:29.192805Z",
     "iopub.status.idle": "2022-03-18T21:07:43.080059Z",
     "shell.execute_reply": "2022-03-18T21:07:43.078975Z",
     "shell.execute_reply.started": "2022-03-18T21:07:29.193137Z"
    }
   },
   "outputs": [
    {
     "name": "stdout",
     "output_type": "stream",
     "text": [
      "Gradient boosting regression r2:  0.0049\n",
      "AUC for gradient boost is:  0.6966\n",
      "The mean squared error (MSE) on test set: 0.0713\n"
     ]
    },
    {
     "data": {
      "text/plain": [
       "Text(0.5, 1.0, 'Feature Importance (MDI)')"
      ]
     },
     "execution_count": 9,
     "metadata": {},
     "output_type": "execute_result"
    },
    {
     "data": {
      "image/png": "[encoded data removed]",
      "text/plain": [
       "<Figure size 864x432 with 1 Axes>"
      ]
     },
     "metadata": {
      "needs_background": "light"
     },
     "output_type": "display_data"
    }
   ],
   "source": [
    "from sklearn.inspection import permutation_importance\n",
    "from sklearn.ensemble import GradientBoostingClassifier,GradientBoostingRegressor\n",
    "\n",
    "params = {\n",
    " \"n_estimators\": 5, \"max_depth\": 4, \"min_samples_split\": 5, \"learning_rate\": 0.01,\n",
    "}\n",
    "\n",
    "#Fit and Predict:\n",
    "reg = ensemble.GradientBoostingRegressor(**params)\n",
    "reg.fit(X_train, y_train)\n",
    "y_pred = reg.predict(X_test)\n",
    "\n",
    "#Calculate Metrics:\n",
    "gbr_r2 = r2_score(y_test, y_pred).round(4) \n",
    "print(\"Gradient boosting regression r2: \", gbr_r2) \n",
    "\n",
    "auc = round(metrics.roc_auc_score(y_test, y_pred), 4 ) \n",
    "print(\"AUC for gradient boost is: \", auc)\n",
    "\n",
    "mse = mean_squared_error(y_test, reg.predict(X_test))\n",
    "print(\"The mean squared error (MSE) on test set: {:.4f}\".format(mse))\n",
    "\n",
    "#FEATURE IMPORTANCE:\n",
    "num=10 # How many features?\n",
    "cols=X.columns\n",
    "feature_importance = reg.feature_importances_[:num]\n",
    "sorted_idx = np.argsort(feature_importance)[:num]\n",
    "pos = np.arange(sorted_idx.shape[0]) + 0.5\n",
    "fig = plt.figure(figsize=(12, 6))\n",
    "plt.subplot(1, 2, 1)\n",
    "plt.barh(pos, feature_importance[sorted_idx], align=\"center\")\n",
    "plt.yticks(pos, np.array(cols)[sorted_idx])\n",
    "plt.title(\"Feature Importance (MDI)\")"
   ]
  },
  {
   "cell_type": "markdown",
   "metadata": {},
   "source": [
    "## Logistic Regression\n",
    "AUC for logistic regression is:  0.6145 with mse at 0.0709.\n",
    "\n",
    " The c parameter in logistic regression model by definition is the following: \"Inverse of regularization strength; must be a positive float. Like in support vector machines, smaller values specify stronger regularization\". Using 1 the default value for C or putting C at .01 did not change the AUC for the logistic regression."
   ]
  },
  {
   "cell_type": "code",
   "execution_count": 10,
   "metadata": {
    "execution": {
     "iopub.execute_input": "2022-03-18T21:07:43.081662Z",
     "iopub.status.busy": "2022-03-18T21:07:43.081413Z",
     "iopub.status.idle": "2022-03-18T21:07:51.647977Z",
     "shell.execute_reply": "2022-03-18T21:07:51.646955Z",
     "shell.execute_reply.started": "2022-03-18T21:07:43.081631Z"
    }
   },
   "outputs": [
    {
     "name": "stdout",
     "output_type": "stream",
     "text": [
      "AUC for logistic regression is:  0.6204\n",
      "The mean squared error (MSE) on test set: 0.0709\n"
     ]
    }
   ],
   "source": [
    "from sklearn.linear_model import LogisticRegression\n",
    "log_reg = LogisticRegression(solver='liblinear') #solver param gets rid of encoder error\n",
    "\n",
    "#Train the model and create predictions\n",
    "log_reg.fit(X_train, y_train)\n",
    "\n",
    "#use model to predict probability that given y value is 1:\n",
    "log_reg_pred = log_reg.predict_proba(X_test)[::,1]\n",
    "\n",
    "#calculate AUC of model\n",
    "auc = round(metrics.roc_auc_score(y_test, log_reg_pred), 4 ) \n",
    "print(\"AUC for logistic regression is: \", auc)\n",
    "\n",
    "#Mean Squared Error\n",
    "mse = mean_squared_error(y_test, log_reg_pred)\n",
    "print(\"The mean squared error (MSE) on test set: {:.4f}\".format(mse))"
   ]
  },
  {
   "cell_type": "markdown",
   "metadata": {},
   "source": [
    "## Linear Regression\n",
    "Due to small Y indepdent variables AUC is the more accurate metric than r_squared. Since the linear regression, accuracy, and cross validate are all near .045 it seems there is no sign of overfitting.\n",
    "\n",
    "AUC for linear regression is:  0.7327 <br/>\n",
    "Accuracy:  0.0475 <br/>\n",
    "0.0489  linear regression cross validate mean <br/>"
   ]
  },
  {
   "cell_type": "code",
   "execution_count": null,
   "metadata": {
    "execution": {
     "iopub.execute_input": "2022-03-18T21:07:51.650344Z",
     "iopub.status.busy": "2022-03-18T21:07:51.649794Z",
     "iopub.status.idle": "2022-03-18T21:08:01.990801Z",
     "shell.execute_reply": "2022-03-18T21:08:01.989994Z",
     "shell.execute_reply.started": "2022-03-18T21:07:51.650294Z"
    }
   },
   "outputs": [],
   "source": [
    "from sklearn.linear_model import LinearRegression, Ridge, Lasso\n",
    "\n",
    "#Fit and predict:\n",
    "lrModel = LinearRegression()\n",
    "lrModel.fit(X_train, y_train)\n",
    "lrPredict = lrModel.predict(X_test)\n",
    "\n",
    "# plt.scatter(y_test, predictions)\n",
    "plt.hist(y_test - lrPredict)\n",
    "\n",
    "#Linear Metrics:\n",
    "auc = round( metrics.roc_auc_score(y_test, lrPredict), 4 ) \n",
    "r2 = r2_score(y_test, lrPredict).round(4) \n",
    "print(\"AUC for linear regression is: \", auc)\n",
    "print(\"Linear regression r2 score: \", r2)\n",
    "\n",
    "#CROSS VALIDATE TEST RESULTS:\n",
    "lr_score = lrModel.score(X_test, y_test).round(4)  # train test \n",
    "print(\"Linear Accuracy: \", lr_score)\n",
    "lr_cv = cross_validate(lrModel, X, y, cv = 5, scoring= 'r2')\n",
    "lr_cvMean=lr_cv['test_score'].mean().round(4)\n",
    "print(lr_cvMean, \" linear regression cross validate mean\")\n",
    "\n",
    "def linearReports():\n",
    "    print(model.coef_)    \n",
    "    print(model.intercept_)\n",
    "    print(classification_report(y_test_data, lrPredict))\n",
    "    print(confusion_matrix(y_test_data, lrPredict))\n",
    "    metrics.mean_absolute_error(y_test, lrPredict)\n",
    "    \n",
    "    #Mean Sqaured Error:\n",
    "    lrMSE=np.sqrt(metrics.mean_squared_error(y_test, lrPredict))\n",
    "    print(round(lrMSE, 4), \" is lr MSE \")"
   ]
  },
  {
   "cell_type": "markdown",
   "metadata": {
    "execution": {
     "iopub.execute_input": "2022-02-18T21:50:17.903218Z",
     "iopub.status.busy": "2022-02-18T21:50:17.902367Z",
     "iopub.status.idle": "2022-02-18T21:50:17.906851Z",
     "shell.execute_reply": "2022-02-18T21:50:17.905835Z",
     "shell.execute_reply.started": "2022-02-18T21:50:17.903177Z"
    }
   },
   "source": [
    "## Decision Tree\n",
    "AUC for decision tree is:  0.7215 using a number for max_leaf_nodes that reduces error."
   ]
  },
  {
   "cell_type": "code",
   "execution_count": null,
   "metadata": {
    "execution": {
     "iopub.execute_input": "2022-03-18T21:08:01.992566Z",
     "iopub.status.busy": "2022-03-18T21:08:01.992184Z",
     "iopub.status.idle": "2022-03-18T21:08:11.463066Z",
     "shell.execute_reply": "2022-03-18T21:08:11.4621Z",
     "shell.execute_reply.started": "2022-03-18T21:08:01.992521Z"
    }
   },
   "outputs": [],
   "source": [
    "from sklearn.tree import DecisionTreeRegressor\n",
    "\n",
    "#FIND best_tree_size LEAF NODES:\n",
    "def get_mae(max_leaf_nodes, train_X, val_X, train_y, val_y):\n",
    "    model = DecisionTreeRegressor(max_leaf_nodes=max_leaf_nodes, random_state=42)\n",
    "    model.fit(train_X, train_y)\n",
    "    preds_val = model.predict(val_X)\n",
    "    mae = mean_absolute_error(val_y, preds_val)\n",
    "    return(mae)\n",
    "\n",
    "def calcLeaf():\n",
    "    candidate_max_leaf_nodes = [5, 25, 50, 100, 250, 500]\n",
    "    maeDic={} #dictionary  key=leaf  mae=value\n",
    "    for leaf in candidate_max_leaf_nodes:\n",
    "        mae=get_mae(leaf, X_train, X_test, y_train, y_test)\n",
    "        maeDic[leaf]=mae\n",
    "\n",
    "    best_tree_size = sorted(maeDic, key=lambda x : maeDic[x])[0]\n",
    "    print(best_tree_size, \" best_tree_size\")\n",
    "    # 500  best_tree_size\n",
    "\n",
    "best_tree_size=500\n",
    "    \n",
    "#MAKE PREDICTION:\n",
    "tree = DecisionTreeRegressor(max_leaf_nodes=best_tree_size, random_state=42)\n",
    "tree.fit(X, y)\n",
    "y_pred = tree.predict(X_test)\n",
    "\n",
    "#AUC and r2 metric:\n",
    "treeR2 = r2_score(y_test, y_pred).round(4)\n",
    "treeAUC = round( metrics.roc_auc_score(y_test, y_pred), 4 ) \n",
    "print(\"AUC for decision tree is: \", treeAUC)\n",
    "\n",
    "def printReports(y_test, y_pred):\n",
    "    print(classification_report(y_test, y_pred))\n",
    "    print(confusion_matrix(y_test, y_pred))\n",
    "    \n",
    "    #Mean Sqaured Error:\n",
    "    treeMSE=np.sqrt(metrics.mean_squared_error(y_test, y_pred))\n",
    "    print(round(treeMSE, 4), \" is tree MSE \")"
   ]
  },
  {
   "cell_type": "markdown",
   "metadata": {},
   "source": [
    "## Random Forest Regressor\n",
    "Random forest AUC:  0.6312. Checking for the MAE with least error has long run-time so it is important to use checkMAE as a function only when needed. Since this is unbalanced data, r_squared provides not accurate results."
   ]
  },
  {
   "cell_type": "code",
   "execution_count": null,
   "metadata": {
    "execution": {
     "iopub.execute_input": "2022-03-18T21:08:11.466308Z",
     "iopub.status.busy": "2022-03-18T21:08:11.46609Z",
     "iopub.status.idle": "2022-03-18T21:08:11.472515Z",
     "shell.execute_reply": "2022-03-18T21:08:11.471919Z",
     "shell.execute_reply.started": "2022-03-18T21:08:11.466282Z"
    }
   },
   "outputs": [],
   "source": [
    "from sklearn.ensemble import RandomForestRegressor\n",
    "\n",
    "#Check for Error and find Best n_estimators:\n",
    "def checkMAE():\n",
    "    print(\"Starting MAE:\")\n",
    "    dMAE={} #dictionary of n_estimators as key and MAE as value:\n",
    "    for n in range(2, 500, 100):\n",
    "        forest = RandomForestRegressor(n_estimators=n, random_state = 0)\n",
    "        forest.fit(X_train, y_train)\n",
    "        y_pred = forest.predict(X_test)\n",
    "        MAE=metrics.mean_absolute_error(y_test, y_pred).round(2)\n",
    "        dMAE[n]=MAE\n",
    "        print(\"n_estimates: \", n,  '  Mean Absolute Error:', MAE)\n",
    "\n",
    "    dMAE=sorted(((v, k) for k, v in dMAE.items()), reverse=False)\n",
    "    print(dMAE)\n",
    "#checkMAE() #turn function on or off by uncommenting"
   ]
  },
  {
   "cell_type": "markdown",
   "metadata": {
    "execution": {
     "iopub.execute_input": "2022-03-18T20:40:19.816471Z",
     "iopub.status.busy": "2022-03-18T20:40:19.816119Z",
     "iopub.status.idle": "2022-03-18T20:40:19.821056Z",
     "shell.execute_reply": "2022-03-18T20:40:19.819985Z",
     "shell.execute_reply.started": "2022-03-18T20:40:19.81642Z"
    }
   },
   "source": [
    "#### Forest fit and predict"
   ]
  },
  {
   "cell_type": "code",
   "execution_count": null,
   "metadata": {
    "execution": {
     "iopub.execute_input": "2022-03-18T21:08:11.475246Z",
     "iopub.status.busy": "2022-03-18T21:08:11.474553Z",
     "iopub.status.idle": "2022-03-18T21:08:11.486697Z",
     "shell.execute_reply": "2022-03-18T21:08:11.485637Z",
     "shell.execute_reply.started": "2022-03-18T21:08:11.475193Z"
    }
   },
   "outputs": [],
   "source": [
    "def forest():\n",
    "    num=10\n",
    "    forest = RandomForestRegressor(n_estimators=num, random_state = 0)\n",
    "    forest.fit(X_train, y_train)\n",
    "    y_pred = forest.predict(X_test)\n",
    "\n",
    "    #Print Metrics:\n",
    "    forest_r2 = r2_score(y_test, y_pred).round(4)  \n",
    "    forest_auc = round( metrics.roc_auc_score(y_test, y_pred), 4 ) \n",
    "    print(\"Random forest AUC: \", forest_auc) \n",
    "    print(\"Random forest r2: \", forest_r2)\n",
    "\n",
    "def forestReports():\n",
    "    mae=metrics.mean_absolute_error(y_test, y_pred).round(2)\n",
    "    print(\"Random forest MAE: \", mae)"
   ]
  },
  {
   "cell_type": "markdown",
   "metadata": {},
   "source": [
    "## K-Nearest Neighbors (KNN)\n",
    "First, we must select the optimal K value with the least amount of error. When graphing the error rates, 3 is the knn that provides the least amount of error. Because the large amount of data, the KNN model runs very slow which is a big issue for KNN. If you do run the KNN model, after some time, the final AUC result is around 0.5184 which was the worse predictive model. "
   ]
  },
  {
   "cell_type": "code",
   "execution_count": null,
   "metadata": {
    "execution": {
     "iopub.execute_input": "2022-03-18T21:08:11.489521Z",
     "iopub.status.busy": "2022-03-18T21:08:11.488848Z",
     "iopub.status.idle": "2022-03-18T21:08:11.50487Z",
     "shell.execute_reply": "2022-03-18T21:08:11.5042Z",
     "shell.execute_reply.started": "2022-03-18T21:08:11.489475Z"
    }
   },
   "outputs": [],
   "source": [
    "from sklearn.neighbors import KNeighborsClassifier\n",
    "\n",
    "def knnError():\n",
    "    print(\"Selecting an optimal K value:\")\n",
    "    error_rates = []\n",
    "    for i in range(1, 10, 2): #Must be an odd number to break a tie\n",
    "        new_model = KNeighborsClassifier(n_neighbors = i)\n",
    "        new_model.fit(X_train, y_train)\n",
    "        new_predictions = new_model.predict(X_test)\n",
    "        error_rates.append(np.mean(new_predictions != y_test))\n",
    "    plt.figure(figsize=(16,12))\n",
    "    plt.plot(error_rates)\n",
    "\n",
    "def knnModel():\n",
    "    #Train the model and make predictions:\n",
    "    knn = KNeighborsClassifier(n_neighbors =3) \n",
    "    knn.fit(X_train, y_train)\n",
    "    knnPredict = knn.predict_proba(X_test)[::,1]\n",
    "\n",
    "    #calculate AUC of model\n",
    "    knn_auc = round( metrics.roc_auc_score(y_test, knnPredict), 4 ) \n",
    "    print(\"Knn AUC: \", knn_auc)\n",
    "\n",
    "def knnReports():\n",
    "    acc = metrics.accuracy_score(y_test_data, knnPredict)\n",
    "    print(confusion_matrix(y_test, knnPredict))\n",
    "    print(classification_report(y_test, knnPredict))\n",
    "    print(confusion_matrix(y_test, knnPredict))"
   ]
  },
  {
   "cell_type": "markdown",
   "metadata": {},
   "source": [
    "## Support Vector Machine (SVM)\n",
    "With many samples, SVM is extremely slow and cannot really be used. This is a major disadvantage of SVM and why some do not use it. This seems to be the case this this problem too. For more information on why SVM is slow here is a stack overflow article: https://stackoverflow.com/questions/40077432/why-is-scikit-learn-svm-svc-extremely-slow"
   ]
  },
  {
   "cell_type": "code",
   "execution_count": null,
   "metadata": {
    "execution": {
     "iopub.execute_input": "2022-03-18T21:08:11.506625Z",
     "iopub.status.busy": "2022-03-18T21:08:11.506197Z",
     "iopub.status.idle": "2022-03-18T21:08:11.51829Z",
     "shell.execute_reply": "2022-03-18T21:08:11.517065Z",
     "shell.execute_reply.started": "2022-03-18T21:08:11.506595Z"
    }
   },
   "outputs": [],
   "source": [
    "def trySVM():\n",
    "    from sklearn.svm import SVC\n",
    "    \n",
    "    #Fit and Predict:\n",
    "    svc = SVC()\n",
    "    svc.fit(X_train, y_train)\n",
    "    svc_predit = svc.predict(X_test)\n",
    "\n",
    "    #calculate AUC of model\n",
    "    auc = round( metrics.roc_auc_score(y_test, svc_predit), 4 ) \n",
    "    print(\"SVC AUC is: \", auc)\n",
    "\n",
    "def svmReports():\n",
    "    print(classification_report(y_test, svc_predit))\n",
    "    print(confusion_matrix(y_test, svc_predit))\n",
    "    metrics.mean_absolute_error(y_test, svc_predit)\n",
    "    metrics.mean_squared_error(y_test, svc_predit)\n",
    "    np.sqrt(metrics.mean_squared_error(y_test, svc_predit))"
   ]
  },
  {
   "cell_type": "markdown",
   "metadata": {},
   "source": [
    "# View Test Dataset \n",
    "A final prediction needs to be made for each of the 48744 cleints. The shape of the test data is (48744, 121). "
   ]
  },
  {
   "cell_type": "code",
   "execution_count": null,
   "metadata": {
    "execution": {
     "iopub.execute_input": "2022-03-18T21:08:11.519902Z",
     "iopub.status.busy": "2022-03-18T21:08:11.51954Z",
     "iopub.status.idle": "2022-03-18T21:08:11.556703Z",
     "shell.execute_reply": "2022-03-18T21:08:11.555725Z",
     "shell.execute_reply.started": "2022-03-18T21:08:11.519862Z"
    }
   },
   "outputs": [],
   "source": [
    "print(testDF.shape)\n",
    "testDF.head()"
   ]
  },
  {
   "cell_type": "markdown",
   "metadata": {},
   "source": [
    "## Feature Engineer Test Data\n",
    "To make a final prediction, the same columns used for the train data should be used for the test data. Missing values must be filled with the mean. Dropping a column would mean a house does not get a prediction so that cannot be done."
   ]
  },
  {
   "cell_type": "code",
   "execution_count": null,
   "metadata": {
    "execution": {
     "iopub.execute_input": "2022-03-18T21:08:11.558219Z",
     "iopub.status.busy": "2022-03-18T21:08:11.557893Z",
     "iopub.status.idle": "2022-03-18T21:08:11.659743Z",
     "shell.execute_reply": "2022-03-18T21:08:11.658744Z",
     "shell.execute_reply.started": "2022-03-18T21:08:11.558186Z"
    }
   },
   "outputs": [],
   "source": [
    "features=list(X.columns)\n",
    "testDF=testDF[features]\n",
    "testDF=testDF.fillna(testDF.mean())\n",
    "testDF.head() #5 rows × 105 columns"
   ]
  },
  {
   "cell_type": "markdown",
   "metadata": {},
   "source": [
    "## Predict Final Credit Risk\n",
    "All 307,511 credit loans from the train dataset will get a final credit risk prediction. Since linear regression seemed to have good AUC results, I will use linear for the final prediction. \n",
    "\n",
    "Each SK_ID_CURR in the test set, will predict a probability for the TARGET variable. The final prediction file should contain a header and have the following format: <br><br>\n",
    "SK_ID_CURR,TARGET <br/>\n",
    "100001, 0.1 <br/>\n",
    "100005, 0.9 <br/>\n",
    "100013, 0.2 <br/>\n"
   ]
  },
  {
   "cell_type": "code",
   "execution_count": null,
   "metadata": {
    "execution": {
     "iopub.execute_input": "2022-03-18T21:25:26.627379Z",
     "iopub.status.busy": "2022-03-18T21:25:26.627101Z",
     "iopub.status.idle": "2022-03-18T21:25:26.747193Z",
     "shell.execute_reply": "2022-03-18T21:25:26.746337Z",
     "shell.execute_reply.started": "2022-03-18T21:25:26.627352Z"
    }
   },
   "outputs": [],
   "source": [
    "test_predictions = lrModel.predict(testDF).round(1)\n",
    "test_predictions=np.where(test_predictions<0, 0, test_predictions)\n",
    "SK_ID_CURR=testDF['SK_ID_CURR']\n",
    "tupleData = list(zip(SK_ID_CURR, test_predictions))\n",
    "output = pd.DataFrame(tupleData, columns = ['SK_ID_CURR', 'TARGET'])\n",
    "print(output.shape)\n",
    "output.head()"
   ]
  },
  {
   "cell_type": "markdown",
   "metadata": {},
   "source": [
    "## Submit Predictions\n",
    "The final shape is (48744, 2), the same amount of original ID on the original test data."
   ]
  },
  {
   "cell_type": "code",
   "execution_count": null,
   "metadata": {
    "execution": {
     "iopub.execute_input": "2022-03-18T21:08:11.785624Z",
     "iopub.status.busy": "2022-03-18T21:08:11.784738Z",
     "iopub.status.idle": "2022-03-18T21:08:11.87164Z",
     "shell.execute_reply": "2022-03-18T21:08:11.870721Z",
     "shell.execute_reply.started": "2022-03-18T21:08:11.785565Z"
    }
   },
   "outputs": [],
   "source": [
    "output.to_csv('submission.csv', index=False)\n",
    "print(\"Your submission was successfully saved!\")"
   ]
  },
  {
   "cell_type": "markdown",
   "metadata": {},
   "source": [
    "### Extra: Bureau Data\n",
    "The Bureau data has [1716428 rows x 17 columns]. Three columns were categorical, so they get removed. Then an additional four columns had lots of missing data, more than 80% so they are deleted. Finally, we remove a small portion of missing values just to get a general analysis of the missing data. The goal is to use this additional information outside of the train set to try to find feature importance.\n"
   ]
  },
  {
   "cell_type": "code",
   "execution_count": null,
   "metadata": {
    "execution": {
     "iopub.execute_input": "2022-03-18T21:08:11.873199Z",
     "iopub.status.busy": "2022-03-18T21:08:11.87294Z",
     "iopub.status.idle": "2022-03-18T21:08:16.134958Z",
     "shell.execute_reply": "2022-03-18T21:08:16.133944Z",
     "shell.execute_reply.started": "2022-03-18T21:08:11.873174Z"
    }
   },
   "outputs": [],
   "source": [
    "buraeuData=r'/kaggle/input/home-credit-default-risk/bureau.csv'\n",
    "buraeuDF=pd.read_csv(buraeuData) #[1716428 rows x 17 columns]\n",
    "\n",
    "numerics = ['int16', 'int32', 'int64', 'float16', 'float32', 'float64']\n",
    "buraeuDF = buraeuDF.select_dtypes(include=numerics) #(1716428, 14)\n",
    "# Six columns have missing values:\n",
    "bNA=buraeuDF.isnull().sum().sort_values(ascending=False)/len(buraeuDF) \n",
    "buraeuDF=buraeuDF.dropna(thresh=0.8*len(buraeuDF), axis=1) #(1716428, 10)\n",
    "buraeuDF = buraeuDF.dropna() #(1376391, 10)\n",
    "head=buraeuDF.head()"
   ]
  },
  {
   "cell_type": "markdown",
   "metadata": {},
   "source": [
    "## Resources\n",
    "1. https://www.kaggle.com/willkoehrsen/start-here-a-gentle-introduction\n",
    "2. https://www.kaggle.com/ersinztrk/home-credit-clean-code\n",
    "3. https://www.kaggle.com/taikiikuta/home-credit-logistic-regression-modeling-at-first"
   ]
  }
 ],
 "metadata": {
  "kernelspec": {
   "display_name": "Python 3 (ipykernel)",
   "language": "python",
   "name": "python3"
  },
  "language_info": {
   "codemirror_mode": {
    "name": "ipython",
    "version": 3
   },
   "file_extension": ".py",
   "mimetype": "text/x-python",
   "name": "python",
   "nbconvert_exporter": "python",
   "pygments_lexer": "ipython3",
   "version": "3.9.7"
  }
 },
 "nbformat": 4,
 "nbformat_minor": 4
}
