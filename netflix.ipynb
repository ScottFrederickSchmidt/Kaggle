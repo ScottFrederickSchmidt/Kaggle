{
 "cells": [
  {
   "cell_type": "markdown",
   "metadata": {
    "execution": {
     "iopub.execute_input": "2022-02-12T22:08:15.83447Z",
     "iopub.status.busy": "2022-02-12T22:08:15.834249Z",
     "iopub.status.idle": "2022-02-12T22:08:16.850405Z",
     "shell.execute_reply": "2022-02-12T22:08:16.849873Z",
     "shell.execute_reply.started": "2022-02-12T22:08:15.834449Z"
    }
   },
   "source": [
    "# Netflix Shows \n",
    "## Business Introduction\n",
    "Analyze the data and generate insights that could help Netflix decide which type of shows/movies to produce and how to grow the business.\n",
    "\n",
    "The main variable analyzed will be the user rating score. We will analyze correlations and use graphs to show how feature variables effect the likability of a Netflix show. Certain feature variables analyzed will be such as the following:\n",
    "* Level rating (ie. pg13, R, pg) \n",
    "* Release year\n",
    "* Rating Description\n",
    "* Description\n",
    "------------------------\n",
    "## View Netflix Data \n",
    "The original dataset can be found on Kaggle: https://www.kaggle.com/shivamb/netflix-shows . However, the first five rows with columns will be shown below in the next section."
   ]
  },
  {
   "cell_type": "code",
   "execution_count": null,
   "metadata": {
    "execution": {
     "iopub.execute_input": "2022-03-22T18:09:52.914205Z",
     "iopub.status.busy": "2022-03-22T18:09:52.913047Z",
     "iopub.status.idle": "2022-03-22T18:09:53.996838Z",
     "shell.execute_reply": "2022-03-22T18:09:53.996019Z",
     "shell.execute_reply.started": "2022-03-22T18:09:52.914076Z"
    }
   },
   "outputs": [],
   "source": [
    "import numpy as np\n",
    "import pandas as pd\n",
    "import seaborn as sns\n",
    "import matplotlib.pyplot as plt\n",
    "\n",
    "#Read Files:\n",
    "netflix=r'/kaggle/input/netflix-showse/netflix.csv'\n",
    "#netflix=r'C:\\Users\\sschm\\Desktop\\Kaggle\\netflix.csv'\n",
    "data=pd.read_csv(netflix)\n",
    "data=data.drop_duplicates() #Drop Duplicates:\n",
    "data.head() #Display Data:"
   ]
  },
  {
   "cell_type": "code",
   "execution_count": null,
   "metadata": {
    "execution": {
     "iopub.execute_input": "2022-03-22T18:09:53.998892Z",
     "iopub.status.busy": "2022-03-22T18:09:53.998577Z",
     "iopub.status.idle": "2022-03-22T18:09:54.006655Z",
     "shell.execute_reply": "2022-03-22T18:09:54.00581Z",
     "shell.execute_reply.started": "2022-03-22T18:09:53.998853Z"
    }
   },
   "outputs": [],
   "source": [
    "data.dtypes"
   ]
  },
  {
   "cell_type": "markdown",
   "metadata": {},
   "source": [
    "## Correlations and Heatmap\n",
    "There are no highly correlated features that need to be removed."
   ]
  },
  {
   "cell_type": "code",
   "execution_count": null,
   "metadata": {
    "execution": {
     "iopub.execute_input": "2022-03-22T18:09:54.008427Z",
     "iopub.status.busy": "2022-03-22T18:09:54.00793Z",
     "iopub.status.idle": "2022-03-22T18:09:54.398262Z",
     "shell.execute_reply": "2022-03-22T18:09:54.397485Z",
     "shell.execute_reply.started": "2022-03-22T18:09:54.008383Z"
    }
   },
   "outputs": [],
   "source": [
    "numerics = ['int16', 'int32', 'int64', 'float16', 'float32', 'float64']\n",
    "df = data.select_dtypes(include=numerics)\n",
    "\n",
    "def printHeat():\n",
    "    corr = df.corr()\n",
    "    #print(corr)\n",
    "    highly_corr_features = corr.index[abs(corr[\"user rating score\"])>0.0]\n",
    "    plt.figure(figsize=(10,10))\n",
    "    heat = sns.heatmap(df[highly_corr_features].corr(),annot=True,cmap=\"RdYlGn\")\n",
    "    top10=corr[\"user rating score\"].sort_values(ascending=False).head(10)\n",
    "    print(heat)\n",
    "    #print(top10) # top ten correlations\n",
    "\n",
    "#print correlation between features\n",
    "def printHighCorr(df, features, threshold=0.0):\n",
    "    print(\"Highly correlated variables above: \", threshold)\n",
    "    corr_df = df[features].corr() # get correlations\n",
    "    correlated_features = np.where(np.abs(corr_df) > threshold) # select ones above the abs threshold\n",
    "    correlated_features = [(corr_df.iloc[x,y], x, y) for x, y in zip(*correlated_features) if x != y and x < y] # avoid duplication\n",
    "    s_corr_list = sorted(correlated_features, key=lambda x: -abs(x[0])) # sort by correlation value\n",
    "    correlation_df={}\n",
    "    if s_corr_list == []:\n",
    "        print(\"There are no highly correlated features with correlation above\", threshold)\n",
    "    else:\n",
    "        for v, i, j in s_corr_list:\n",
    "            correlation_df[corr_df.index[i] +\" and \"+ corr_df.columns[j]]= v\n",
    "        correlation_df=pd.DataFrame(correlation_df,index=['Correlation'])\n",
    "    return  correlation_df.T.sort_values(by='Correlation',ascending=False)\n",
    "\n",
    "#Turn off functions on or off:\n",
    "printHeat() \n",
    "printHighCorr(data,data.columns).style.set_properties(**{'background-color': 'black','color': 'white'})"
   ]
  },
  {
   "cell_type": "markdown",
   "metadata": {},
   "source": [
    "### Drop NaN values from user rating score column\n",
    "Since user rating score is the main feature we are trying to analyze, we must delete those rows. There are a few ratingLevel values missing which are also deleted because we will need to analyze that data later on. We cannot easily use a mean for a ratingLevel since it is a string."
   ]
  },
  {
   "cell_type": "code",
   "execution_count": null,
   "metadata": {
    "execution": {
     "iopub.execute_input": "2022-03-22T18:09:54.401096Z",
     "iopub.status.busy": "2022-03-22T18:09:54.400792Z",
     "iopub.status.idle": "2022-03-22T18:09:54.41262Z",
     "shell.execute_reply": "2022-03-22T18:09:54.41169Z",
     "shell.execute_reply.started": "2022-03-22T18:09:54.401055Z"
    }
   },
   "outputs": [],
   "source": [
    "findNA=data.isnull().sum().sort_values(ascending=False)/len(data)\n",
    "print(findNA)\n",
    "df = data.dropna(subset=['user rating score', 'ratingLevel'])"
   ]
  },
  {
   "cell_type": "markdown",
   "metadata": {},
   "source": [
    "## Search for Outliers:\n",
    "Since the last column is the size of the sample, I check all values for that column. If a certain movie has a very small sample size, that movie should be conisdered to be deleted. In this case, all the sample sizes were 80 so there are no outliers that need to be removed."
   ]
  },
  {
   "cell_type": "code",
   "execution_count": null,
   "metadata": {
    "execution": {
     "iopub.execute_input": "2022-03-22T18:09:54.416354Z",
     "iopub.status.busy": "2022-03-22T18:09:54.41568Z",
     "iopub.status.idle": "2022-03-22T18:09:54.424015Z",
     "shell.execute_reply": "2022-03-22T18:09:54.423073Z",
     "shell.execute_reply.started": "2022-03-22T18:09:54.416317Z"
    }
   },
   "outputs": [],
   "source": [
    "df['user rating size'].unique()"
   ]
  },
  {
   "cell_type": "markdown",
   "metadata": {},
   "source": [
    "## Group Rating Level and Rating  \n",
    "Neflix users emjoy the TV-MA, R, and TV-14 shows the most. This is not a huge surprise as most of the popular netflix shows tend to be for adult audience such as Squid Games, Breaking Bad, and The Walking Dead.\n"
   ]
  },
  {
   "cell_type": "code",
   "execution_count": null,
   "metadata": {
    "execution": {
     "iopub.execute_input": "2022-03-22T18:09:54.425714Z",
     "iopub.status.busy": "2022-03-22T18:09:54.425148Z",
     "iopub.status.idle": "2022-03-22T18:09:54.660774Z",
     "shell.execute_reply": "2022-03-22T18:09:54.660169Z",
     "shell.execute_reply.started": "2022-03-22T18:09:54.42568Z"
    }
   },
   "outputs": [],
   "source": [
    "ratingGb=df.groupby('rating')['user rating score'].mean().sort_values(ascending=False).round(2).reset_index()\n",
    "\n",
    "#Plot Rating Groupby:\n",
    "x=ratingGb['rating']\n",
    "y=ratingGb['user rating score']\n",
    "plt.xticks(rotation=90)\n",
    "plt.bar(x,y)\n",
    "plt.show()"
   ]
  },
  {
   "cell_type": "markdown",
   "metadata": {},
   "source": [
    "## Group Movies by Year\n",
    "The most liked movies are the most recent year from the data which happened to be 2017. However, there is little correlation, 0.5025 between year of the movie and how much customers enjoy a show. "
   ]
  },
  {
   "cell_type": "code",
   "execution_count": null,
   "metadata": {
    "execution": {
     "iopub.execute_input": "2022-03-22T18:09:54.662512Z",
     "iopub.status.busy": "2022-03-22T18:09:54.662028Z",
     "iopub.status.idle": "2022-03-22T18:09:54.909681Z",
     "shell.execute_reply": "2022-03-22T18:09:54.908802Z",
     "shell.execute_reply.started": "2022-03-22T18:09:54.66246Z"
    }
   },
   "outputs": [],
   "source": [
    "yearGb=df.groupby('release year')['user rating score'].mean().round(2).reset_index()\n",
    "\n",
    "#Plot year groupby:\n",
    "x=yearGb['release year']\n",
    "y=yearGb['user rating score']\n",
    "\n",
    "plt.title('Release Year and Rating')\n",
    "plt.xticks(rotation=90)\n",
    "plt.bar(x,y)\n",
    "plt.show()\n",
    "\n",
    "#Find correlation:\n",
    "corrYear=x.corr(y).round(4)\n",
    "print(corrYear, \" The correlation between year and show rating.\")"
   ]
  },
  {
   "cell_type": "markdown",
   "metadata": {},
   "source": [
    "## Analyze Movies by Description\n",
    "We will now compare Netflix show ratings to other descriptions. Surprisingly, I found some interesting results that violent Netflix movies were the least favored:\n",
    "* 81.3902  is the average Neftlix rating\n",
    "* 80.2308  is the average sex Netflix rating\n",
    "* 76.3636  is the average violent Netflix rating\n",
    "\n",
    "There are no missing values for the Description column that we have to remove. Now, we will divide up movie themes by searching the DataFrame for certain criteria such as violence and/or sex."
   ]
  },
  {
   "cell_type": "code",
   "execution_count": null,
   "metadata": {
    "execution": {
     "iopub.execute_input": "2022-03-22T18:09:54.911092Z",
     "iopub.status.busy": "2022-03-22T18:09:54.910851Z",
     "iopub.status.idle": "2022-03-22T18:09:54.924486Z",
     "shell.execute_reply": "2022-03-22T18:09:54.923451Z",
     "shell.execute_reply.started": "2022-03-22T18:09:54.911062Z"
    }
   },
   "outputs": [],
   "source": [
    "avgRating=df['user rating score'].mean()\n",
    "print(round(avgRating,4), \" is the average Neftlix rating\")\n",
    "\n",
    "dfSex=df[df['ratingLevel'].str.contains(\"sex\")].reset_index()\n",
    "avgSex=dfSex['user rating score'].mean()\n",
    "print(round(avgSex,4), \" is the average sex Netflix rating\")\n",
    "\n",
    "dfV=df[df['ratingLevel'].str.contains(\"violence\")].reset_index()\n",
    "avgV=dfV['user rating score'].mean()\n",
    "print(round(avgV,4), \" is the average violent Netflix rating\")"
   ]
  },
  {
   "cell_type": "markdown",
   "metadata": {},
   "source": [
    "## Rating Description\n",
    "The correlation between rating description and user rating score is 0.2216. This almost shows there is no correlation between these two features. This means we do not need to further analyze the rating description column."
   ]
  },
  {
   "cell_type": "code",
   "execution_count": null,
   "metadata": {
    "execution": {
     "iopub.execute_input": "2022-03-22T18:09:54.926446Z",
     "iopub.status.busy": "2022-03-22T18:09:54.925961Z",
     "iopub.status.idle": "2022-03-22T18:09:54.937004Z",
     "shell.execute_reply": "2022-03-22T18:09:54.936056Z",
     "shell.execute_reply.started": "2022-03-22T18:09:54.926405Z"
    }
   },
   "outputs": [],
   "source": [
    "rd=df['ratingDescription'].corr(df['user rating score'])\n",
    "print(round(rd,4))"
   ]
  },
  {
   "cell_type": "markdown",
   "metadata": {},
   "source": [
    "## References\n",
    "1. https://www.kaggle.com/niharika41298/netflix-visualizations-recommendation-eda#Movie-ratings-analysis"
   ]
  }
 ],
 "metadata": {
  "kernelspec": {
   "display_name": "Python 3 (ipykernel)",
   "language": "python",
   "name": "python3"
  },
  "language_info": {
   "codemirror_mode": {
    "name": "ipython",
    "version": 3
   },
   "file_extension": ".py",
   "mimetype": "text/x-python",
   "name": "python",
   "nbconvert_exporter": "python",
   "pygments_lexer": "ipython3",
   "version": "3.9.7"
  }
 },
 "nbformat": 4,
 "nbformat_minor": 4
}
