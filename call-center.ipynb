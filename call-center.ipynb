{
 "cells": [
  {
   "cell_type": "markdown",
   "id": "a109e2dd",
   "metadata": {
    "papermill": {
     "duration": 0.007361,
     "end_time": "2023-06-06T01:40:56.489496",
     "exception": false,
     "start_time": "2023-06-06T01:40:56.482135",
     "status": "completed"
    },
    "tags": []
   },
   "source": [
    "# Call Center\n",
    "Original Dataset: https://www.kaggle.com/datasets/satvicoder/call-center-data"
   ]
  },
  {
   "cell_type": "markdown",
   "id": "5dff512d",
   "metadata": {
    "papermill": {
     "duration": 0.00557,
     "end_time": "2023-06-06T01:40:56.501192",
     "exception": false,
     "start_time": "2023-06-06T01:40:56.495622",
     "status": "completed"
    },
    "tags": []
   },
   "source": [
    "Ten most important call center features to analyze are as follows:\n",
    "1. Call Volume and Trends: Analyze the call volume over time to identify patterns, peak hours, and trends. This can help you understand the workload distribution and optimize staffing levels. Look for patterns in call volume across days, weeks, or months to allocate resources effectively.\n",
    "\n",
    "2. Average Call Duration: Calculate the average duration of calls and identify any outliers or excessively long calls. This can provide insights into call complexity, customer issues, or potential areas for improvement in call handling processes.\n",
    "\n",
    "3. Response Time: Evaluate the response time metrics, such as the average speed to answer calls or the average hold time. Analyze if there are any delays in answering calls and identify opportunities to reduce wait times and improve customer satisfaction.\n",
    "\n",
    "4. Call Resolution Rate: Assess the rate at which calls are resolved on the first contact. Analyze the percentage of calls that require multiple interactions or escalations. This can indicate the effectiveness of your call center agents and the need for additional training or resources.\n",
    "\n",
    "5. Customer Satisfaction: Gather customer feedback through surveys or post-call rating systems to measure customer satisfaction levels. Analyze customer satisfaction scores or comments to identify common pain points, areas for improvement, or successful customer interactions.\n",
    "\n",
    "6. Call Reasons and Categories: Categorize and analyze the reasons for customer calls. This can help identify the most frequent issues or inquiries. Understanding the primary reasons for calls can guide process improvements, self-service initiatives, or training programs for call center agents.\n",
    "\n",
    "7. Agent Performance: Evaluate individual agent performance metrics, such as call handling time, call resolution rate, customer satisfaction scores, or adherence to scripts/guidelines. Identify top-performing agents and areas where additional support or training may be needed.\n",
    "\n",
    "8. Call Abandonment Rate: Monitor the rate at which customers abandon calls before reaching an agent. Analyze if there are any patterns or common reasons for call abandonment. This can highlight potential issues with wait times, IVR systems, or call routing.\n",
    "\n",
    "9. Customer Segmentation: Segment customers based on various criteria such as demographics, call history, or customer value. Analyze the call patterns and needs of different customer segments to tailor your service offerings, provide personalized experiences, or identify areas for upselling/cross-selling.\n",
    "\n",
    "10. Operational Efficiency: Evaluate metrics related to call center operations, such as average handle time, call transfer rate, or agent occupancy rate. Identify bottlenecks or inefficiencies in call routing, workflow processes, or technology systems that impact operational efficiency."
   ]
  },
  {
   "cell_type": "markdown",
   "id": "05facdee",
   "metadata": {
    "papermill": {
     "duration": 0.005527,
     "end_time": "2023-06-06T01:40:56.512679",
     "exception": false,
     "start_time": "2023-06-06T01:40:56.507152",
     "status": "completed"
    },
    "tags": []
   },
   "source": [
    "## Read Data"
   ]
  },
  {
   "cell_type": "code",
   "execution_count": 1,
   "id": "606f41ac",
   "metadata": {
    "execution": {
     "iopub.execute_input": "2023-06-06T01:40:56.527313Z",
     "iopub.status.busy": "2023-06-06T01:40:56.526237Z",
     "iopub.status.idle": "2023-06-06T01:40:56.540184Z",
     "shell.execute_reply": "2023-06-06T01:40:56.539079Z"
    },
    "papermill": {
     "duration": 0.024081,
     "end_time": "2023-06-06T01:40:56.542561",
     "exception": false,
     "start_time": "2023-06-06T01:40:56.518480",
     "status": "completed"
    },
    "tags": []
   },
   "outputs": [],
   "source": [
    "import numpy as np \n",
    "import pandas as pd \n",
    "file=r'/kaggle/input/call-center-data/Call Center Data.csv'"
   ]
  },
  {
   "cell_type": "code",
   "execution_count": 2,
   "id": "0cfb2a89",
   "metadata": {
    "execution": {
     "iopub.execute_input": "2023-06-06T01:40:56.556837Z",
     "iopub.status.busy": "2023-06-06T01:40:56.555910Z",
     "iopub.status.idle": "2023-06-06T01:40:56.626779Z",
     "shell.execute_reply": "2023-06-06T01:40:56.625828Z"
    },
    "papermill": {
     "duration": 0.080311,
     "end_time": "2023-06-06T01:40:56.629045",
     "exception": false,
     "start_time": "2023-06-06T01:40:56.548734",
     "status": "completed"
    },
    "tags": []
   },
   "outputs": [
    {
     "name": "stdout",
     "output_type": "stream",
     "text": [
      "1251\n"
     ]
    },
    {
     "data": {
      "text/html": [
       "<div>\n",
       "<style scoped>\n",
       "    .dataframe tbody tr th:only-of-type {\n",
       "        vertical-align: middle;\n",
       "    }\n",
       "\n",
       "    .dataframe tbody tr th {\n",
       "        vertical-align: top;\n",
       "    }\n",
       "\n",
       "    .dataframe thead th {\n",
       "        text-align: right;\n",
       "    }\n",
       "</style>\n",
       "<table border=\"1\" class=\"dataframe\">\n",
       "  <thead>\n",
       "    <tr style=\"text-align: right;\">\n",
       "      <th></th>\n",
       "      <th>Index</th>\n",
       "      <th>Incoming Calls</th>\n",
       "      <th>Answered Calls</th>\n",
       "      <th>Answer Rate</th>\n",
       "      <th>Abandoned Calls</th>\n",
       "      <th>Answer Speed (AVG)</th>\n",
       "      <th>Talk Duration (AVG)</th>\n",
       "      <th>Waiting Time (AVG)</th>\n",
       "      <th>Service Level (20 Seconds)</th>\n",
       "    </tr>\n",
       "  </thead>\n",
       "  <tbody>\n",
       "    <tr>\n",
       "      <th>0</th>\n",
       "      <td>1</td>\n",
       "      <td>217</td>\n",
       "      <td>204</td>\n",
       "      <td>94.01%</td>\n",
       "      <td>13</td>\n",
       "      <td>0:00:17</td>\n",
       "      <td>0:02:14</td>\n",
       "      <td>0:02:45</td>\n",
       "      <td>76.28%</td>\n",
       "    </tr>\n",
       "    <tr>\n",
       "      <th>1</th>\n",
       "      <td>2</td>\n",
       "      <td>200</td>\n",
       "      <td>182</td>\n",
       "      <td>91.00%</td>\n",
       "      <td>18</td>\n",
       "      <td>0:00:20</td>\n",
       "      <td>0:02:22</td>\n",
       "      <td>0:06:55</td>\n",
       "      <td>72.73%</td>\n",
       "    </tr>\n",
       "    <tr>\n",
       "      <th>2</th>\n",
       "      <td>3</td>\n",
       "      <td>216</td>\n",
       "      <td>198</td>\n",
       "      <td>91.67%</td>\n",
       "      <td>18</td>\n",
       "      <td>0:00:18</td>\n",
       "      <td>0:02:38</td>\n",
       "      <td>0:03:50</td>\n",
       "      <td>74.30%</td>\n",
       "    </tr>\n",
       "    <tr>\n",
       "      <th>3</th>\n",
       "      <td>4</td>\n",
       "      <td>155</td>\n",
       "      <td>145</td>\n",
       "      <td>93.55%</td>\n",
       "      <td>10</td>\n",
       "      <td>0:00:15</td>\n",
       "      <td>0:02:29</td>\n",
       "      <td>0:03:12</td>\n",
       "      <td>79.61%</td>\n",
       "    </tr>\n",
       "    <tr>\n",
       "      <th>4</th>\n",
       "      <td>5</td>\n",
       "      <td>37</td>\n",
       "      <td>37</td>\n",
       "      <td>100.00%</td>\n",
       "      <td>0</td>\n",
       "      <td>0:00:03</td>\n",
       "      <td>0:02:06</td>\n",
       "      <td>0:00:35</td>\n",
       "      <td>97.30%</td>\n",
       "    </tr>\n",
       "    <tr>\n",
       "      <th>5</th>\n",
       "      <td>6</td>\n",
       "      <td>315</td>\n",
       "      <td>304</td>\n",
       "      <td>96.51%</td>\n",
       "      <td>11</td>\n",
       "      <td>0:00:18</td>\n",
       "      <td>0:01:35</td>\n",
       "      <td>0:02:37</td>\n",
       "      <td>77.17%</td>\n",
       "    </tr>\n",
       "    <tr>\n",
       "      <th>6</th>\n",
       "      <td>7</td>\n",
       "      <td>252</td>\n",
       "      <td>244</td>\n",
       "      <td>96.83%</td>\n",
       "      <td>8</td>\n",
       "      <td>0:00:13</td>\n",
       "      <td>0:01:50</td>\n",
       "      <td>0:02:02</td>\n",
       "      <td>82.00%</td>\n",
       "    </tr>\n",
       "    <tr>\n",
       "      <th>7</th>\n",
       "      <td>8</td>\n",
       "      <td>213</td>\n",
       "      <td>205</td>\n",
       "      <td>96.24%</td>\n",
       "      <td>8</td>\n",
       "      <td>0:00:10</td>\n",
       "      <td>0:02:10</td>\n",
       "      <td>0:03:22</td>\n",
       "      <td>88.10%</td>\n",
       "    </tr>\n",
       "    <tr>\n",
       "      <th>8</th>\n",
       "      <td>9</td>\n",
       "      <td>219</td>\n",
       "      <td>200</td>\n",
       "      <td>91.32%</td>\n",
       "      <td>19</td>\n",
       "      <td>0:00:15</td>\n",
       "      <td>0:02:18</td>\n",
       "      <td>0:06:12</td>\n",
       "      <td>79.45%</td>\n",
       "    </tr>\n",
       "    <tr>\n",
       "      <th>9</th>\n",
       "      <td>10</td>\n",
       "      <td>371</td>\n",
       "      <td>348</td>\n",
       "      <td>93.80%</td>\n",
       "      <td>23</td>\n",
       "      <td>0:00:19</td>\n",
       "      <td>0:01:40</td>\n",
       "      <td>0:03:29</td>\n",
       "      <td>73.63%</td>\n",
       "    </tr>\n",
       "  </tbody>\n",
       "</table>\n",
       "</div>"
      ],
      "text/plain": [
       "   Index  Incoming Calls  Answered Calls Answer Rate  Abandoned Calls  \\\n",
       "0      1             217             204      94.01%               13   \n",
       "1      2             200             182      91.00%               18   \n",
       "2      3             216             198      91.67%               18   \n",
       "3      4             155             145      93.55%               10   \n",
       "4      5              37              37     100.00%                0   \n",
       "5      6             315             304      96.51%               11   \n",
       "6      7             252             244      96.83%                8   \n",
       "7      8             213             205      96.24%                8   \n",
       "8      9             219             200      91.32%               19   \n",
       "9     10             371             348      93.80%               23   \n",
       "\n",
       "  Answer Speed (AVG) Talk Duration (AVG) Waiting Time (AVG)  \\\n",
       "0            0:00:17             0:02:14            0:02:45   \n",
       "1            0:00:20             0:02:22            0:06:55   \n",
       "2            0:00:18             0:02:38            0:03:50   \n",
       "3            0:00:15             0:02:29            0:03:12   \n",
       "4            0:00:03             0:02:06            0:00:35   \n",
       "5            0:00:18             0:01:35            0:02:37   \n",
       "6            0:00:13             0:01:50            0:02:02   \n",
       "7            0:00:10             0:02:10            0:03:22   \n",
       "8            0:00:15             0:02:18            0:06:12   \n",
       "9            0:00:19             0:01:40            0:03:29   \n",
       "\n",
       "  Service Level (20 Seconds)  \n",
       "0                     76.28%  \n",
       "1                     72.73%  \n",
       "2                     74.30%  \n",
       "3                     79.61%  \n",
       "4                     97.30%  \n",
       "5                     77.17%  \n",
       "6                     82.00%  \n",
       "7                     88.10%  \n",
       "8                     79.45%  \n",
       "9                     73.63%  "
      ]
     },
     "execution_count": 2,
     "metadata": {},
     "output_type": "execute_result"
    }
   ],
   "source": [
    "df=pd.read_csv(file)\n",
    "print(len(df))\n",
    "df.head(10)"
   ]
  },
  {
   "cell_type": "markdown",
   "id": "74cc7d13",
   "metadata": {
    "papermill": {
     "duration": 0.007801,
     "end_time": "2023-06-06T01:40:56.643389",
     "exception": false,
     "start_time": "2023-06-06T01:40:56.635588",
     "status": "completed"
    },
    "tags": []
   },
   "source": [
    "## Missing Values and Column Types\n",
    "There are luckily no missing values that we need to worry about."
   ]
  },
  {
   "cell_type": "code",
   "execution_count": 3,
   "id": "1baae51c",
   "metadata": {
    "execution": {
     "iopub.execute_input": "2023-06-06T01:40:56.658690Z",
     "iopub.status.busy": "2023-06-06T01:40:56.657878Z",
     "iopub.status.idle": "2023-06-06T01:40:56.673613Z",
     "shell.execute_reply": "2023-06-06T01:40:56.672445Z"
    },
    "papermill": {
     "duration": 0.026404,
     "end_time": "2023-06-06T01:40:56.676207",
     "exception": false,
     "start_time": "2023-06-06T01:40:56.649803",
     "status": "completed"
    },
    "tags": []
   },
   "outputs": [
    {
     "data": {
      "text/plain": [
       "Index                         0.0\n",
       "Incoming Calls                0.0\n",
       "Answered Calls                0.0\n",
       "Answer Rate                   0.0\n",
       "Abandoned Calls               0.0\n",
       "Answer Speed (AVG)            0.0\n",
       "Talk Duration (AVG)           0.0\n",
       "Waiting Time (AVG)            0.0\n",
       "Service Level (20 Seconds)    0.0\n",
       "dtype: float64"
      ]
     },
     "execution_count": 3,
     "metadata": {},
     "output_type": "execute_result"
    }
   ],
   "source": [
    "percent_missing = df.isnull().sum() * 100 / len(df)\n",
    "percent_missing"
   ]
  },
  {
   "cell_type": "code",
   "execution_count": 4,
   "id": "3f41a081",
   "metadata": {
    "execution": {
     "iopub.execute_input": "2023-06-06T01:40:56.691521Z",
     "iopub.status.busy": "2023-06-06T01:40:56.690890Z",
     "iopub.status.idle": "2023-06-06T01:40:56.698732Z",
     "shell.execute_reply": "2023-06-06T01:40:56.697798Z"
    },
    "papermill": {
     "duration": 0.018063,
     "end_time": "2023-06-06T01:40:56.700861",
     "exception": false,
     "start_time": "2023-06-06T01:40:56.682798",
     "status": "completed"
    },
    "tags": []
   },
   "outputs": [
    {
     "data": {
      "text/plain": [
       "Index                          int64\n",
       "Incoming Calls                 int64\n",
       "Answered Calls                 int64\n",
       "Answer Rate                   object\n",
       "Abandoned Calls                int64\n",
       "Answer Speed (AVG)            object\n",
       "Talk Duration (AVG)           object\n",
       "Waiting Time (AVG)            object\n",
       "Service Level (20 Seconds)    object\n",
       "dtype: object"
      ]
     },
     "execution_count": 4,
     "metadata": {},
     "output_type": "execute_result"
    }
   ],
   "source": [
    "df.dtypes"
   ]
  },
  {
   "cell_type": "code",
   "execution_count": 5,
   "id": "9647048a",
   "metadata": {
    "execution": {
     "iopub.execute_input": "2023-06-06T01:40:56.716483Z",
     "iopub.status.busy": "2023-06-06T01:40:56.715891Z",
     "iopub.status.idle": "2023-06-06T01:40:56.735326Z",
     "shell.execute_reply": "2023-06-06T01:40:56.734370Z"
    },
    "papermill": {
     "duration": 0.029922,
     "end_time": "2023-06-06T01:40:56.737895",
     "exception": false,
     "start_time": "2023-06-06T01:40:56.707973",
     "status": "completed"
    },
    "tags": []
   },
   "outputs": [],
   "source": [
    "# Change the wait time which in object time form into minutes:\n",
    "df['Wait Time Minutes(AVG)'] = df['Waiting Time (AVG)'].apply(lambda x: sum(int(i) * 60 ** index for index, i in enumerate(x.split(':')[::-1])) // 60)\n",
    "df['Talk Duration Minutes(AVG)'] = df['Talk Duration (AVG)'].apply(lambda x: sum(int(i) * 60 ** index for index, i in enumerate(x.split(':')[::-1])) // 60)"
   ]
  },
  {
   "cell_type": "code",
   "execution_count": 6,
   "id": "81d11e18",
   "metadata": {
    "execution": {
     "iopub.execute_input": "2023-06-06T01:40:56.753542Z",
     "iopub.status.busy": "2023-06-06T01:40:56.752910Z",
     "iopub.status.idle": "2023-06-06T01:40:56.761793Z",
     "shell.execute_reply": "2023-06-06T01:40:56.761021Z"
    },
    "papermill": {
     "duration": 0.019276,
     "end_time": "2023-06-06T01:40:56.763953",
     "exception": false,
     "start_time": "2023-06-06T01:40:56.744677",
     "status": "completed"
    },
    "tags": []
   },
   "outputs": [],
   "source": [
    "# Change these two objects as a percent into an int value:\n",
    "df['Answer Rate'] = df['Answer Rate'].str.rstrip('%').astype(float)\n",
    "df['Service Level (20 Seconds)'] = df['Service Level (20 Seconds)'].str.rstrip('%').astype(float)"
   ]
  },
  {
   "cell_type": "markdown",
   "id": "c2cb2c19",
   "metadata": {
    "papermill": {
     "duration": 0.006581,
     "end_time": "2023-06-06T01:40:56.777637",
     "exception": false,
     "start_time": "2023-06-06T01:40:56.771056",
     "status": "completed"
    },
    "tags": []
   },
   "source": [
    "## Top Abandon Calls\n",
    "Lots of investiation needs to be done on these top 25 index with very high abandon percentages. "
   ]
  },
  {
   "cell_type": "code",
   "execution_count": 7,
   "id": "24cbc628",
   "metadata": {
    "execution": {
     "iopub.execute_input": "2023-06-06T01:40:56.793205Z",
     "iopub.status.busy": "2023-06-06T01:40:56.792336Z",
     "iopub.status.idle": "2023-06-06T01:40:56.815223Z",
     "shell.execute_reply": "2023-06-06T01:40:56.814182Z"
    },
    "papermill": {
     "duration": 0.033208,
     "end_time": "2023-06-06T01:40:56.817489",
     "exception": false,
     "start_time": "2023-06-06T01:40:56.784281",
     "status": "completed"
    },
    "tags": []
   },
   "outputs": [
    {
     "data": {
      "text/html": [
       "<div>\n",
       "<style scoped>\n",
       "    .dataframe tbody tr th:only-of-type {\n",
       "        vertical-align: middle;\n",
       "    }\n",
       "\n",
       "    .dataframe tbody tr th {\n",
       "        vertical-align: top;\n",
       "    }\n",
       "\n",
       "    .dataframe thead th {\n",
       "        text-align: right;\n",
       "    }\n",
       "</style>\n",
       "<table border=\"1\" class=\"dataframe\">\n",
       "  <thead>\n",
       "    <tr style=\"text-align: right;\">\n",
       "      <th></th>\n",
       "      <th>Index</th>\n",
       "      <th>Abandoned_perc</th>\n",
       "      <th>Waiting Time (AVG)</th>\n",
       "    </tr>\n",
       "  </thead>\n",
       "  <tbody>\n",
       "    <tr>\n",
       "      <th>693</th>\n",
       "      <td>694</td>\n",
       "      <td>3.5259</td>\n",
       "      <td>0:22:56</td>\n",
       "    </tr>\n",
       "    <tr>\n",
       "      <th>692</th>\n",
       "      <td>693</td>\n",
       "      <td>3.2816</td>\n",
       "      <td>0:15:38</td>\n",
       "    </tr>\n",
       "    <tr>\n",
       "      <th>691</th>\n",
       "      <td>692</td>\n",
       "      <td>3.1667</td>\n",
       "      <td>0:17:27</td>\n",
       "    </tr>\n",
       "    <tr>\n",
       "      <th>694</th>\n",
       "      <td>695</td>\n",
       "      <td>2.0348</td>\n",
       "      <td>0:19:15</td>\n",
       "    </tr>\n",
       "    <tr>\n",
       "      <th>842</th>\n",
       "      <td>843</td>\n",
       "      <td>1.3532</td>\n",
       "      <td>0:22:37</td>\n",
       "    </tr>\n",
       "    <tr>\n",
       "      <th>840</th>\n",
       "      <td>841</td>\n",
       "      <td>1.2004</td>\n",
       "      <td>0:13:24</td>\n",
       "    </tr>\n",
       "    <tr>\n",
       "      <th>684</th>\n",
       "      <td>685</td>\n",
       "      <td>1.1765</td>\n",
       "      <td>0:11:01</td>\n",
       "    </tr>\n",
       "    <tr>\n",
       "      <th>835</th>\n",
       "      <td>836</td>\n",
       "      <td>1.0941</td>\n",
       "      <td>0:16:25</td>\n",
       "    </tr>\n",
       "    <tr>\n",
       "      <th>798</th>\n",
       "      <td>799</td>\n",
       "      <td>1.0000</td>\n",
       "      <td>0:12:18</td>\n",
       "    </tr>\n",
       "    <tr>\n",
       "      <th>799</th>\n",
       "      <td>800</td>\n",
       "      <td>0.9946</td>\n",
       "      <td>0:16:38</td>\n",
       "    </tr>\n",
       "    <tr>\n",
       "      <th>800</th>\n",
       "      <td>801</td>\n",
       "      <td>0.9336</td>\n",
       "      <td>0:21:42</td>\n",
       "    </tr>\n",
       "    <tr>\n",
       "      <th>837</th>\n",
       "      <td>838</td>\n",
       "      <td>0.9315</td>\n",
       "      <td>0:16:34</td>\n",
       "    </tr>\n",
       "    <tr>\n",
       "      <th>912</th>\n",
       "      <td>913</td>\n",
       "      <td>0.8705</td>\n",
       "      <td>0:25:51</td>\n",
       "    </tr>\n",
       "    <tr>\n",
       "      <th>838</th>\n",
       "      <td>839</td>\n",
       "      <td>0.8083</td>\n",
       "      <td>0:22:45</td>\n",
       "    </tr>\n",
       "    <tr>\n",
       "      <th>801</th>\n",
       "      <td>802</td>\n",
       "      <td>0.8052</td>\n",
       "      <td>0:12:24</td>\n",
       "    </tr>\n",
       "    <tr>\n",
       "      <th>685</th>\n",
       "      <td>686</td>\n",
       "      <td>0.7952</td>\n",
       "      <td>0:10:06</td>\n",
       "    </tr>\n",
       "    <tr>\n",
       "      <th>803</th>\n",
       "      <td>804</td>\n",
       "      <td>0.7767</td>\n",
       "      <td>0:12:24</td>\n",
       "    </tr>\n",
       "    <tr>\n",
       "      <th>841</th>\n",
       "      <td>842</td>\n",
       "      <td>0.7697</td>\n",
       "      <td>0:14:13</td>\n",
       "    </tr>\n",
       "    <tr>\n",
       "      <th>836</th>\n",
       "      <td>837</td>\n",
       "      <td>0.7558</td>\n",
       "      <td>0:12:24</td>\n",
       "    </tr>\n",
       "    <tr>\n",
       "      <th>839</th>\n",
       "      <td>840</td>\n",
       "      <td>0.7406</td>\n",
       "      <td>0:15:53</td>\n",
       "    </tr>\n",
       "    <tr>\n",
       "      <th>913</th>\n",
       "      <td>914</td>\n",
       "      <td>0.6888</td>\n",
       "      <td>0:15:43</td>\n",
       "    </tr>\n",
       "    <tr>\n",
       "      <th>883</th>\n",
       "      <td>884</td>\n",
       "      <td>0.6657</td>\n",
       "      <td>0:11:06</td>\n",
       "    </tr>\n",
       "    <tr>\n",
       "      <th>834</th>\n",
       "      <td>835</td>\n",
       "      <td>0.6071</td>\n",
       "      <td>0:16:35</td>\n",
       "    </tr>\n",
       "    <tr>\n",
       "      <th>805</th>\n",
       "      <td>806</td>\n",
       "      <td>0.6023</td>\n",
       "      <td>0:13:38</td>\n",
       "    </tr>\n",
       "    <tr>\n",
       "      <th>807</th>\n",
       "      <td>808</td>\n",
       "      <td>0.5986</td>\n",
       "      <td>0:19:22</td>\n",
       "    </tr>\n",
       "  </tbody>\n",
       "</table>\n",
       "</div>"
      ],
      "text/plain": [
       "     Index  Abandoned_perc Waiting Time (AVG)\n",
       "693    694          3.5259            0:22:56\n",
       "692    693          3.2816            0:15:38\n",
       "691    692          3.1667            0:17:27\n",
       "694    695          2.0348            0:19:15\n",
       "842    843          1.3532            0:22:37\n",
       "840    841          1.2004            0:13:24\n",
       "684    685          1.1765            0:11:01\n",
       "835    836          1.0941            0:16:25\n",
       "798    799          1.0000            0:12:18\n",
       "799    800          0.9946            0:16:38\n",
       "800    801          0.9336            0:21:42\n",
       "837    838          0.9315            0:16:34\n",
       "912    913          0.8705            0:25:51\n",
       "838    839          0.8083            0:22:45\n",
       "801    802          0.8052            0:12:24\n",
       "685    686          0.7952            0:10:06\n",
       "803    804          0.7767            0:12:24\n",
       "841    842          0.7697            0:14:13\n",
       "836    837          0.7558            0:12:24\n",
       "839    840          0.7406            0:15:53\n",
       "913    914          0.6888            0:15:43\n",
       "883    884          0.6657            0:11:06\n",
       "834    835          0.6071            0:16:35\n",
       "805    806          0.6023            0:13:38\n",
       "807    808          0.5986            0:19:22"
      ]
     },
     "execution_count": 7,
     "metadata": {},
     "output_type": "execute_result"
    }
   ],
   "source": [
    "# Transform into a percent:\n",
    "df['Abandoned_perc']=df['Abandoned Calls']/df['Answered Calls']\n",
    "df['Abandoned_perc']=df['Abandoned_perc'].round(4)\n",
    "abandonDF=df[['Index', 'Abandoned_perc', 'Waiting Time (AVG)']].sort_values(by=['Abandoned_perc'], ascending=False)\n",
    "abandonDF.head(25)"
   ]
  },
  {
   "cell_type": "code",
   "execution_count": 8,
   "id": "19cd2769",
   "metadata": {
    "execution": {
     "iopub.execute_input": "2023-06-06T01:40:56.834058Z",
     "iopub.status.busy": "2023-06-06T01:40:56.833410Z",
     "iopub.status.idle": "2023-06-06T01:40:56.844387Z",
     "shell.execute_reply": "2023-06-06T01:40:56.843110Z"
    },
    "papermill": {
     "duration": 0.022256,
     "end_time": "2023-06-06T01:40:56.846989",
     "exception": false,
     "start_time": "2023-06-06T01:40:56.824733",
     "status": "completed"
    },
    "tags": []
   },
   "outputs": [
    {
     "name": "stdout",
     "output_type": "stream",
     "text": [
      "0.6406  correlation between wait time and abandon calls\n"
     ]
    }
   ],
   "source": [
    "corr=df['Abandoned_perc'].corr(df['Wait Time Minutes(AVG)'])\n",
    "print(corr.round(4), \" correlation between wait time and abandon calls\")"
   ]
  },
  {
   "cell_type": "markdown",
   "id": "5461bd61",
   "metadata": {
    "papermill": {
     "duration": 0.007199,
     "end_time": "2023-06-06T01:40:56.861847",
     "exception": false,
     "start_time": "2023-06-06T01:40:56.854648",
     "status": "completed"
    },
    "tags": []
   },
   "source": [
    "### Bottle Necks\n",
    "Below are three index that seem to have long wait times."
   ]
  },
  {
   "cell_type": "code",
   "execution_count": 9,
   "id": "9dc967dc",
   "metadata": {
    "execution": {
     "iopub.execute_input": "2023-06-06T01:40:56.878171Z",
     "iopub.status.busy": "2023-06-06T01:40:56.877789Z",
     "iopub.status.idle": "2023-06-06T01:40:56.894079Z",
     "shell.execute_reply": "2023-06-06T01:40:56.892939Z"
    },
    "papermill": {
     "duration": 0.027042,
     "end_time": "2023-06-06T01:40:56.896364",
     "exception": false,
     "start_time": "2023-06-06T01:40:56.869322",
     "status": "completed"
    },
    "tags": []
   },
   "outputs": [
    {
     "data": {
      "text/html": [
       "<div>\n",
       "<style scoped>\n",
       "    .dataframe tbody tr th:only-of-type {\n",
       "        vertical-align: middle;\n",
       "    }\n",
       "\n",
       "    .dataframe tbody tr th {\n",
       "        vertical-align: top;\n",
       "    }\n",
       "\n",
       "    .dataframe thead th {\n",
       "        text-align: right;\n",
       "    }\n",
       "</style>\n",
       "<table border=\"1\" class=\"dataframe\">\n",
       "  <thead>\n",
       "    <tr style=\"text-align: right;\">\n",
       "      <th></th>\n",
       "      <th>Index</th>\n",
       "      <th>Incoming Calls</th>\n",
       "      <th>Answered Calls</th>\n",
       "      <th>Answer Rate</th>\n",
       "      <th>Abandoned Calls</th>\n",
       "      <th>Answer Speed (AVG)</th>\n",
       "      <th>Talk Duration (AVG)</th>\n",
       "      <th>Waiting Time (AVG)</th>\n",
       "      <th>Service Level (20 Seconds)</th>\n",
       "      <th>Wait Time Minutes(AVG)</th>\n",
       "      <th>Talk Duration Minutes(AVG)</th>\n",
       "      <th>Abandoned_perc</th>\n",
       "    </tr>\n",
       "  </thead>\n",
       "  <tbody>\n",
       "    <tr>\n",
       "      <th>694</th>\n",
       "      <td>695</td>\n",
       "      <td>610</td>\n",
       "      <td>201</td>\n",
       "      <td>32.95</td>\n",
       "      <td>409</td>\n",
       "      <td>0:03:13</td>\n",
       "      <td>0:02:52</td>\n",
       "      <td>0:19:15</td>\n",
       "      <td>3.52</td>\n",
       "      <td>19</td>\n",
       "      <td>2</td>\n",
       "      <td>2.0348</td>\n",
       "    </tr>\n",
       "  </tbody>\n",
       "</table>\n",
       "</div>"
      ],
      "text/plain": [
       "     Index  Incoming Calls  Answered Calls  Answer Rate  Abandoned Calls  \\\n",
       "694    695             610             201        32.95              409   \n",
       "\n",
       "    Answer Speed (AVG) Talk Duration (AVG) Waiting Time (AVG)  \\\n",
       "694            0:03:13             0:02:52            0:19:15   \n",
       "\n",
       "     Service Level (20 Seconds)  Wait Time Minutes(AVG)  \\\n",
       "694                        3.52                      19   \n",
       "\n",
       "     Talk Duration Minutes(AVG)  Abandoned_perc  \n",
       "694                           2          2.0348  "
      ]
     },
     "execution_count": 9,
     "metadata": {},
     "output_type": "execute_result"
    }
   ],
   "source": [
    "df.iloc[[694]]"
   ]
  },
  {
   "cell_type": "code",
   "execution_count": 10,
   "id": "0879d718",
   "metadata": {
    "execution": {
     "iopub.execute_input": "2023-06-06T01:40:56.913251Z",
     "iopub.status.busy": "2023-06-06T01:40:56.912816Z",
     "iopub.status.idle": "2023-06-06T01:40:56.929249Z",
     "shell.execute_reply": "2023-06-06T01:40:56.928213Z"
    },
    "papermill": {
     "duration": 0.027546,
     "end_time": "2023-06-06T01:40:56.931573",
     "exception": false,
     "start_time": "2023-06-06T01:40:56.904027",
     "status": "completed"
    },
    "tags": []
   },
   "outputs": [
    {
     "data": {
      "text/html": [
       "<div>\n",
       "<style scoped>\n",
       "    .dataframe tbody tr th:only-of-type {\n",
       "        vertical-align: middle;\n",
       "    }\n",
       "\n",
       "    .dataframe tbody tr th {\n",
       "        vertical-align: top;\n",
       "    }\n",
       "\n",
       "    .dataframe thead th {\n",
       "        text-align: right;\n",
       "    }\n",
       "</style>\n",
       "<table border=\"1\" class=\"dataframe\">\n",
       "  <thead>\n",
       "    <tr style=\"text-align: right;\">\n",
       "      <th></th>\n",
       "      <th>Index</th>\n",
       "      <th>Incoming Calls</th>\n",
       "      <th>Answered Calls</th>\n",
       "      <th>Answer Rate</th>\n",
       "      <th>Abandoned Calls</th>\n",
       "      <th>Answer Speed (AVG)</th>\n",
       "      <th>Talk Duration (AVG)</th>\n",
       "      <th>Waiting Time (AVG)</th>\n",
       "      <th>Service Level (20 Seconds)</th>\n",
       "      <th>Wait Time Minutes(AVG)</th>\n",
       "      <th>Talk Duration Minutes(AVG)</th>\n",
       "      <th>Abandoned_perc</th>\n",
       "    </tr>\n",
       "  </thead>\n",
       "  <tbody>\n",
       "    <tr>\n",
       "      <th>693</th>\n",
       "      <td>694</td>\n",
       "      <td>525</td>\n",
       "      <td>116</td>\n",
       "      <td>22.1</td>\n",
       "      <td>409</td>\n",
       "      <td>0:05:08</td>\n",
       "      <td>0:03:08</td>\n",
       "      <td>0:22:56</td>\n",
       "      <td>0.0</td>\n",
       "      <td>22</td>\n",
       "      <td>3</td>\n",
       "      <td>3.5259</td>\n",
       "    </tr>\n",
       "  </tbody>\n",
       "</table>\n",
       "</div>"
      ],
      "text/plain": [
       "     Index  Incoming Calls  Answered Calls  Answer Rate  Abandoned Calls  \\\n",
       "693    694             525             116         22.1              409   \n",
       "\n",
       "    Answer Speed (AVG) Talk Duration (AVG) Waiting Time (AVG)  \\\n",
       "693            0:05:08             0:03:08            0:22:56   \n",
       "\n",
       "     Service Level (20 Seconds)  Wait Time Minutes(AVG)  \\\n",
       "693                         0.0                      22   \n",
       "\n",
       "     Talk Duration Minutes(AVG)  Abandoned_perc  \n",
       "693                           3          3.5259  "
      ]
     },
     "execution_count": 10,
     "metadata": {},
     "output_type": "execute_result"
    }
   ],
   "source": [
    "df.iloc[[693]]"
   ]
  },
  {
   "cell_type": "code",
   "execution_count": 11,
   "id": "85646d67",
   "metadata": {
    "execution": {
     "iopub.execute_input": "2023-06-06T01:40:56.948792Z",
     "iopub.status.busy": "2023-06-06T01:40:56.948391Z",
     "iopub.status.idle": "2023-06-06T01:40:56.964015Z",
     "shell.execute_reply": "2023-06-06T01:40:56.963049Z"
    },
    "papermill": {
     "duration": 0.026718,
     "end_time": "2023-06-06T01:40:56.966099",
     "exception": false,
     "start_time": "2023-06-06T01:40:56.939381",
     "status": "completed"
    },
    "tags": []
   },
   "outputs": [
    {
     "data": {
      "text/html": [
       "<div>\n",
       "<style scoped>\n",
       "    .dataframe tbody tr th:only-of-type {\n",
       "        vertical-align: middle;\n",
       "    }\n",
       "\n",
       "    .dataframe tbody tr th {\n",
       "        vertical-align: top;\n",
       "    }\n",
       "\n",
       "    .dataframe thead th {\n",
       "        text-align: right;\n",
       "    }\n",
       "</style>\n",
       "<table border=\"1\" class=\"dataframe\">\n",
       "  <thead>\n",
       "    <tr style=\"text-align: right;\">\n",
       "      <th></th>\n",
       "      <th>Index</th>\n",
       "      <th>Incoming Calls</th>\n",
       "      <th>Answered Calls</th>\n",
       "      <th>Answer Rate</th>\n",
       "      <th>Abandoned Calls</th>\n",
       "      <th>Answer Speed (AVG)</th>\n",
       "      <th>Talk Duration (AVG)</th>\n",
       "      <th>Waiting Time (AVG)</th>\n",
       "      <th>Service Level (20 Seconds)</th>\n",
       "      <th>Wait Time Minutes(AVG)</th>\n",
       "      <th>Talk Duration Minutes(AVG)</th>\n",
       "      <th>Abandoned_perc</th>\n",
       "    </tr>\n",
       "  </thead>\n",
       "  <tbody>\n",
       "    <tr>\n",
       "      <th>692</th>\n",
       "      <td>693</td>\n",
       "      <td>441</td>\n",
       "      <td>103</td>\n",
       "      <td>23.36</td>\n",
       "      <td>338</td>\n",
       "      <td>0:04:04</td>\n",
       "      <td>0:02:43</td>\n",
       "      <td>0:15:38</td>\n",
       "      <td>0.23</td>\n",
       "      <td>15</td>\n",
       "      <td>2</td>\n",
       "      <td>3.2816</td>\n",
       "    </tr>\n",
       "  </tbody>\n",
       "</table>\n",
       "</div>"
      ],
      "text/plain": [
       "     Index  Incoming Calls  Answered Calls  Answer Rate  Abandoned Calls  \\\n",
       "692    693             441             103        23.36              338   \n",
       "\n",
       "    Answer Speed (AVG) Talk Duration (AVG) Waiting Time (AVG)  \\\n",
       "692            0:04:04             0:02:43            0:15:38   \n",
       "\n",
       "     Service Level (20 Seconds)  Wait Time Minutes(AVG)  \\\n",
       "692                        0.23                      15   \n",
       "\n",
       "     Talk Duration Minutes(AVG)  Abandoned_perc  \n",
       "692                           2          3.2816  "
      ]
     },
     "execution_count": 11,
     "metadata": {},
     "output_type": "execute_result"
    }
   ],
   "source": [
    "df.iloc[[692]]"
   ]
  },
  {
   "cell_type": "markdown",
   "id": "a020ef46",
   "metadata": {
    "papermill": {
     "duration": 0.007918,
     "end_time": "2023-06-06T01:40:56.982105",
     "exception": false,
     "start_time": "2023-06-06T01:40:56.974187",
     "status": "completed"
    },
    "tags": []
   },
   "source": [
    "## Outlier"
   ]
  },
  {
   "cell_type": "code",
   "execution_count": 12,
   "id": "6dda298b",
   "metadata": {
    "execution": {
     "iopub.execute_input": "2023-06-06T01:40:56.999889Z",
     "iopub.status.busy": "2023-06-06T01:40:56.999432Z",
     "iopub.status.idle": "2023-06-06T01:40:57.020909Z",
     "shell.execute_reply": "2023-06-06T01:40:57.020084Z"
    },
    "papermill": {
     "duration": 0.032902,
     "end_time": "2023-06-06T01:40:57.022927",
     "exception": false,
     "start_time": "2023-06-06T01:40:56.990025",
     "status": "completed"
    },
    "tags": []
   },
   "outputs": [
    {
     "data": {
      "text/html": [
       "<div>\n",
       "<style scoped>\n",
       "    .dataframe tbody tr th:only-of-type {\n",
       "        vertical-align: middle;\n",
       "    }\n",
       "\n",
       "    .dataframe tbody tr th {\n",
       "        vertical-align: top;\n",
       "    }\n",
       "\n",
       "    .dataframe thead th {\n",
       "        text-align: right;\n",
       "    }\n",
       "</style>\n",
       "<table border=\"1\" class=\"dataframe\">\n",
       "  <thead>\n",
       "    <tr style=\"text-align: right;\">\n",
       "      <th></th>\n",
       "      <th>Index</th>\n",
       "      <th>Incoming Calls</th>\n",
       "      <th>Answered Calls</th>\n",
       "      <th>Answer Rate</th>\n",
       "      <th>Abandoned Calls</th>\n",
       "      <th>Answer Speed (AVG)</th>\n",
       "      <th>Talk Duration (AVG)</th>\n",
       "      <th>Waiting Time (AVG)</th>\n",
       "      <th>Service Level (20 Seconds)</th>\n",
       "      <th>Wait Time Minutes(AVG)</th>\n",
       "      <th>Talk Duration Minutes(AVG)</th>\n",
       "      <th>Abandoned_perc</th>\n",
       "    </tr>\n",
       "  </thead>\n",
       "  <tbody>\n",
       "    <tr>\n",
       "      <th>184</th>\n",
       "      <td>185</td>\n",
       "      <td>483</td>\n",
       "      <td>451</td>\n",
       "      <td>93.37</td>\n",
       "      <td>32</td>\n",
       "      <td>0:00:16</td>\n",
       "      <td>0:00:57</td>\n",
       "      <td>0:08:45</td>\n",
       "      <td>79.20</td>\n",
       "      <td>8</td>\n",
       "      <td>0</td>\n",
       "      <td>0.0710</td>\n",
       "    </tr>\n",
       "    <tr>\n",
       "      <th>571</th>\n",
       "      <td>572</td>\n",
       "      <td>18</td>\n",
       "      <td>17</td>\n",
       "      <td>94.44</td>\n",
       "      <td>1</td>\n",
       "      <td>0:00:55</td>\n",
       "      <td>0:04:01</td>\n",
       "      <td>0:05:46</td>\n",
       "      <td>50.00</td>\n",
       "      <td>5</td>\n",
       "      <td>4</td>\n",
       "      <td>0.0588</td>\n",
       "    </tr>\n",
       "    <tr>\n",
       "      <th>800</th>\n",
       "      <td>801</td>\n",
       "      <td>582</td>\n",
       "      <td>301</td>\n",
       "      <td>51.72</td>\n",
       "      <td>281</td>\n",
       "      <td>0:02:41</td>\n",
       "      <td>0:04:13</td>\n",
       "      <td>0:21:42</td>\n",
       "      <td>12.08</td>\n",
       "      <td>21</td>\n",
       "      <td>4</td>\n",
       "      <td>0.9336</td>\n",
       "    </tr>\n",
       "    <tr>\n",
       "      <th>802</th>\n",
       "      <td>803</td>\n",
       "      <td>116</td>\n",
       "      <td>106</td>\n",
       "      <td>91.38</td>\n",
       "      <td>10</td>\n",
       "      <td>0:00:34</td>\n",
       "      <td>0:04:23</td>\n",
       "      <td>0:04:44</td>\n",
       "      <td>62.93</td>\n",
       "      <td>4</td>\n",
       "      <td>4</td>\n",
       "      <td>0.0943</td>\n",
       "    </tr>\n",
       "    <tr>\n",
       "      <th>803</th>\n",
       "      <td>804</td>\n",
       "      <td>533</td>\n",
       "      <td>300</td>\n",
       "      <td>56.29</td>\n",
       "      <td>233</td>\n",
       "      <td>0:02:12</td>\n",
       "      <td>0:04:03</td>\n",
       "      <td>0:12:24</td>\n",
       "      <td>12.55</td>\n",
       "      <td>12</td>\n",
       "      <td>4</td>\n",
       "      <td>0.7767</td>\n",
       "    </tr>\n",
       "    <tr>\n",
       "      <th>972</th>\n",
       "      <td>973</td>\n",
       "      <td>7</td>\n",
       "      <td>6</td>\n",
       "      <td>85.71</td>\n",
       "      <td>1</td>\n",
       "      <td>0:00:03</td>\n",
       "      <td>0:04:48</td>\n",
       "      <td>0:00:31</td>\n",
       "      <td>85.71</td>\n",
       "      <td>0</td>\n",
       "      <td>4</td>\n",
       "      <td>0.1667</td>\n",
       "    </tr>\n",
       "  </tbody>\n",
       "</table>\n",
       "</div>"
      ],
      "text/plain": [
       "     Index  Incoming Calls  Answered Calls  Answer Rate  Abandoned Calls  \\\n",
       "184    185             483             451        93.37               32   \n",
       "571    572              18              17        94.44                1   \n",
       "800    801             582             301        51.72              281   \n",
       "802    803             116             106        91.38               10   \n",
       "803    804             533             300        56.29              233   \n",
       "972    973               7               6        85.71                1   \n",
       "\n",
       "    Answer Speed (AVG) Talk Duration (AVG) Waiting Time (AVG)  \\\n",
       "184            0:00:16             0:00:57            0:08:45   \n",
       "571            0:00:55             0:04:01            0:05:46   \n",
       "800            0:02:41             0:04:13            0:21:42   \n",
       "802            0:00:34             0:04:23            0:04:44   \n",
       "803            0:02:12             0:04:03            0:12:24   \n",
       "972            0:00:03             0:04:48            0:00:31   \n",
       "\n",
       "     Service Level (20 Seconds)  Wait Time Minutes(AVG)  \\\n",
       "184                       79.20                       8   \n",
       "571                       50.00                       5   \n",
       "800                       12.08                      21   \n",
       "802                       62.93                       4   \n",
       "803                       12.55                      12   \n",
       "972                       85.71                       0   \n",
       "\n",
       "     Talk Duration Minutes(AVG)  Abandoned_perc  \n",
       "184                           0          0.0710  \n",
       "571                           4          0.0588  \n",
       "800                           4          0.9336  \n",
       "802                           4          0.0943  \n",
       "803                           4          0.7767  \n",
       "972                           4          0.1667  "
      ]
     },
     "execution_count": 12,
     "metadata": {},
     "output_type": "execute_result"
    }
   ],
   "source": [
    "# Calculate Z-scores\n",
    "z_scores = np.abs((df['Talk Duration Minutes(AVG)'] - df['Talk Duration Minutes(AVG)'].mean()) / df['Talk Duration Minutes(AVG)'].std())\n",
    "\n",
    "# Set a threshold (e.g., 2 or 3 standard deviations)\n",
    "threshold = 3\n",
    "\n",
    "# Detect outliers\n",
    "outliers = df[z_scores > threshold]\n",
    "outliers"
   ]
  }
 ],
 "metadata": {
  "kernelspec": {
   "display_name": "Python 3",
   "language": "python",
   "name": "python3"
  },
  "language_info": {
   "codemirror_mode": {
    "name": "ipython",
    "version": 3
   },
   "file_extension": ".py",
   "mimetype": "text/x-python",
   "name": "python",
   "nbconvert_exporter": "python",
   "pygments_lexer": "ipython3",
   "version": "3.10.10"
  },
  "papermill": {
   "default_parameters": {},
   "duration": 13.15046,
   "end_time": "2023-06-06T01:40:57.852615",
   "environment_variables": {},
   "exception": null,
   "input_path": "__notebook__.ipynb",
   "output_path": "__notebook__.ipynb",
   "parameters": {},
   "start_time": "2023-06-06T01:40:44.702155",
   "version": "2.4.0"
  }
 },
 "nbformat": 4,
 "nbformat_minor": 5
}
