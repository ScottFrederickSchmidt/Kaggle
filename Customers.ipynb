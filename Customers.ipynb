{
 "cells": [
  {
   "cell_type": "markdown",
   "id": "a41fb6b2",
   "metadata": {
    "execution": {
     "iopub.execute_input": "2022-02-26T01:02:28.405674Z",
     "iopub.status.busy": "2022-02-26T01:02:28.405424Z",
     "iopub.status.idle": "2022-02-26T01:02:28.411147Z",
     "shell.execute_reply": "2022-02-26T01:02:28.410434Z",
     "shell.execute_reply.started": "2022-02-26T01:02:28.405647Z"
    },
    "papermill": {
     "duration": 0.034861,
     "end_time": "2022-05-17T17:36:39.487932",
     "exception": false,
     "start_time": "2022-05-17T17:36:39.453071",
     "status": "completed"
    },
    "tags": []
   },
   "source": [
    "# Customer Satisfaction\n",
    "From frontline support teams to C-suites, customer satisfaction is a key measure of success. Unhappy customers don't stick around. What's more, unhappy customers rarely voice their dissatisfaction before leaving. Santander Bank is asking Kagglers to help them identify dissatisfied customers early in their relationship. Doing so would allow Santander to take proactive steps to improve a customer's happiness before it's too late. Hundreds of anonymized features will help predict if a customer is satisfied or dissatisfied with their banking experience. \n",
    "\n",
    "#### Metrics Summary\n",
    "Since the data is unbalanced, r_squared is not the best metric to be used. Therefore, we will use AUC (Area Under the Curve) as a metric:\n",
    "* Decision tree is:  0.8147\n",
    "* Linear regression is:  0.7838\n",
    "* Random forest AUC:  0.6872\n",
    "* Logistic regression is:  0.5782"
   ]
  },
  {
   "cell_type": "markdown",
   "id": "3fa5e471",
   "metadata": {
    "papermill": {
     "duration": 0.033695,
     "end_time": "2022-05-17T17:36:39.558752",
     "exception": false,
     "start_time": "2022-05-17T17:36:39.525057",
     "status": "completed"
    },
    "tags": []
   },
   "source": [
    "# Train Data\n",
    "The train data is the most important dataset in which we try to find trends on the TARGET column, Y indepdendent variable."
   ]
  },
  {
   "cell_type": "code",
   "execution_count": 1,
   "id": "c2eaf896",
   "metadata": {
    "execution": {
     "iopub.execute_input": "2022-05-17T17:36:39.634229Z",
     "iopub.status.busy": "2022-05-17T17:36:39.632335Z",
     "iopub.status.idle": "2022-05-17T17:36:44.636845Z",
     "shell.execute_reply": "2022-05-17T17:36:44.637359Z",
     "shell.execute_reply.started": "2022-05-17T17:34:13.877929Z"
    },
    "papermill": {
     "duration": 5.04557,
     "end_time": "2022-05-17T17:36:44.637652",
     "exception": false,
     "start_time": "2022-05-17T17:36:39.592082",
     "status": "completed"
    },
    "tags": []
   },
   "outputs": [
    {
     "name": "stdout",
     "output_type": "stream",
     "text": [
      "(76020, 371)\n"
     ]
    },
    {
     "data": {
      "text/html": [
       "<div>\n",
       "<style scoped>\n",
       "    .dataframe tbody tr th:only-of-type {\n",
       "        vertical-align: middle;\n",
       "    }\n",
       "\n",
       "    .dataframe tbody tr th {\n",
       "        vertical-align: top;\n",
       "    }\n",
       "\n",
       "    .dataframe thead th {\n",
       "        text-align: right;\n",
       "    }\n",
       "</style>\n",
       "<table border=\"1\" class=\"dataframe\">\n",
       "  <thead>\n",
       "    <tr style=\"text-align: right;\">\n",
       "      <th></th>\n",
       "      <th>ID</th>\n",
       "      <th>var3</th>\n",
       "      <th>var15</th>\n",
       "      <th>imp_ent_var16_ult1</th>\n",
       "      <th>imp_op_var39_comer_ult1</th>\n",
       "      <th>imp_op_var39_comer_ult3</th>\n",
       "      <th>imp_op_var40_comer_ult1</th>\n",
       "      <th>imp_op_var40_comer_ult3</th>\n",
       "      <th>imp_op_var40_efect_ult1</th>\n",
       "      <th>imp_op_var40_efect_ult3</th>\n",
       "      <th>...</th>\n",
       "      <th>saldo_medio_var33_hace2</th>\n",
       "      <th>saldo_medio_var33_hace3</th>\n",
       "      <th>saldo_medio_var33_ult1</th>\n",
       "      <th>saldo_medio_var33_ult3</th>\n",
       "      <th>saldo_medio_var44_hace2</th>\n",
       "      <th>saldo_medio_var44_hace3</th>\n",
       "      <th>saldo_medio_var44_ult1</th>\n",
       "      <th>saldo_medio_var44_ult3</th>\n",
       "      <th>var38</th>\n",
       "      <th>TARGET</th>\n",
       "    </tr>\n",
       "  </thead>\n",
       "  <tbody>\n",
       "    <tr>\n",
       "      <th>0</th>\n",
       "      <td>1</td>\n",
       "      <td>2</td>\n",
       "      <td>23</td>\n",
       "      <td>0.0</td>\n",
       "      <td>0.0</td>\n",
       "      <td>0.0</td>\n",
       "      <td>0.0</td>\n",
       "      <td>0.0</td>\n",
       "      <td>0.0</td>\n",
       "      <td>0.0</td>\n",
       "      <td>...</td>\n",
       "      <td>0.0</td>\n",
       "      <td>0.0</td>\n",
       "      <td>0.0</td>\n",
       "      <td>0.0</td>\n",
       "      <td>0.0</td>\n",
       "      <td>0.0</td>\n",
       "      <td>0.0</td>\n",
       "      <td>0.0</td>\n",
       "      <td>39205.170000</td>\n",
       "      <td>0</td>\n",
       "    </tr>\n",
       "    <tr>\n",
       "      <th>1</th>\n",
       "      <td>3</td>\n",
       "      <td>2</td>\n",
       "      <td>34</td>\n",
       "      <td>0.0</td>\n",
       "      <td>0.0</td>\n",
       "      <td>0.0</td>\n",
       "      <td>0.0</td>\n",
       "      <td>0.0</td>\n",
       "      <td>0.0</td>\n",
       "      <td>0.0</td>\n",
       "      <td>...</td>\n",
       "      <td>0.0</td>\n",
       "      <td>0.0</td>\n",
       "      <td>0.0</td>\n",
       "      <td>0.0</td>\n",
       "      <td>0.0</td>\n",
       "      <td>0.0</td>\n",
       "      <td>0.0</td>\n",
       "      <td>0.0</td>\n",
       "      <td>49278.030000</td>\n",
       "      <td>0</td>\n",
       "    </tr>\n",
       "    <tr>\n",
       "      <th>2</th>\n",
       "      <td>4</td>\n",
       "      <td>2</td>\n",
       "      <td>23</td>\n",
       "      <td>0.0</td>\n",
       "      <td>0.0</td>\n",
       "      <td>0.0</td>\n",
       "      <td>0.0</td>\n",
       "      <td>0.0</td>\n",
       "      <td>0.0</td>\n",
       "      <td>0.0</td>\n",
       "      <td>...</td>\n",
       "      <td>0.0</td>\n",
       "      <td>0.0</td>\n",
       "      <td>0.0</td>\n",
       "      <td>0.0</td>\n",
       "      <td>0.0</td>\n",
       "      <td>0.0</td>\n",
       "      <td>0.0</td>\n",
       "      <td>0.0</td>\n",
       "      <td>67333.770000</td>\n",
       "      <td>0</td>\n",
       "    </tr>\n",
       "    <tr>\n",
       "      <th>3</th>\n",
       "      <td>8</td>\n",
       "      <td>2</td>\n",
       "      <td>37</td>\n",
       "      <td>0.0</td>\n",
       "      <td>195.0</td>\n",
       "      <td>195.0</td>\n",
       "      <td>0.0</td>\n",
       "      <td>0.0</td>\n",
       "      <td>0.0</td>\n",
       "      <td>0.0</td>\n",
       "      <td>...</td>\n",
       "      <td>0.0</td>\n",
       "      <td>0.0</td>\n",
       "      <td>0.0</td>\n",
       "      <td>0.0</td>\n",
       "      <td>0.0</td>\n",
       "      <td>0.0</td>\n",
       "      <td>0.0</td>\n",
       "      <td>0.0</td>\n",
       "      <td>64007.970000</td>\n",
       "      <td>0</td>\n",
       "    </tr>\n",
       "    <tr>\n",
       "      <th>4</th>\n",
       "      <td>10</td>\n",
       "      <td>2</td>\n",
       "      <td>39</td>\n",
       "      <td>0.0</td>\n",
       "      <td>0.0</td>\n",
       "      <td>0.0</td>\n",
       "      <td>0.0</td>\n",
       "      <td>0.0</td>\n",
       "      <td>0.0</td>\n",
       "      <td>0.0</td>\n",
       "      <td>...</td>\n",
       "      <td>0.0</td>\n",
       "      <td>0.0</td>\n",
       "      <td>0.0</td>\n",
       "      <td>0.0</td>\n",
       "      <td>0.0</td>\n",
       "      <td>0.0</td>\n",
       "      <td>0.0</td>\n",
       "      <td>0.0</td>\n",
       "      <td>117310.979016</td>\n",
       "      <td>0</td>\n",
       "    </tr>\n",
       "  </tbody>\n",
       "</table>\n",
       "<p>5 rows × 371 columns</p>\n",
       "</div>"
      ],
      "text/plain": [
       "   ID  var3  var15  imp_ent_var16_ult1  imp_op_var39_comer_ult1  \\\n",
       "0   1     2     23                 0.0                      0.0   \n",
       "1   3     2     34                 0.0                      0.0   \n",
       "2   4     2     23                 0.0                      0.0   \n",
       "3   8     2     37                 0.0                    195.0   \n",
       "4  10     2     39                 0.0                      0.0   \n",
       "\n",
       "   imp_op_var39_comer_ult3  imp_op_var40_comer_ult1  imp_op_var40_comer_ult3  \\\n",
       "0                      0.0                      0.0                      0.0   \n",
       "1                      0.0                      0.0                      0.0   \n",
       "2                      0.0                      0.0                      0.0   \n",
       "3                    195.0                      0.0                      0.0   \n",
       "4                      0.0                      0.0                      0.0   \n",
       "\n",
       "   imp_op_var40_efect_ult1  imp_op_var40_efect_ult3  ...  \\\n",
       "0                      0.0                      0.0  ...   \n",
       "1                      0.0                      0.0  ...   \n",
       "2                      0.0                      0.0  ...   \n",
       "3                      0.0                      0.0  ...   \n",
       "4                      0.0                      0.0  ...   \n",
       "\n",
       "   saldo_medio_var33_hace2  saldo_medio_var33_hace3  saldo_medio_var33_ult1  \\\n",
       "0                      0.0                      0.0                     0.0   \n",
       "1                      0.0                      0.0                     0.0   \n",
       "2                      0.0                      0.0                     0.0   \n",
       "3                      0.0                      0.0                     0.0   \n",
       "4                      0.0                      0.0                     0.0   \n",
       "\n",
       "   saldo_medio_var33_ult3  saldo_medio_var44_hace2  saldo_medio_var44_hace3  \\\n",
       "0                     0.0                      0.0                      0.0   \n",
       "1                     0.0                      0.0                      0.0   \n",
       "2                     0.0                      0.0                      0.0   \n",
       "3                     0.0                      0.0                      0.0   \n",
       "4                     0.0                      0.0                      0.0   \n",
       "\n",
       "   saldo_medio_var44_ult1  saldo_medio_var44_ult3          var38  TARGET  \n",
       "0                     0.0                     0.0   39205.170000       0  \n",
       "1                     0.0                     0.0   49278.030000       0  \n",
       "2                     0.0                     0.0   67333.770000       0  \n",
       "3                     0.0                     0.0   64007.970000       0  \n",
       "4                     0.0                     0.0  117310.979016       0  \n",
       "\n",
       "[5 rows x 371 columns]"
      ]
     },
     "execution_count": 1,
     "metadata": {},
     "output_type": "execute_result"
    }
   ],
   "source": [
    "import numpy as np\n",
    "import pandas as pd\n",
    "import seaborn as sns\n",
    "import matplotlib.pyplot as plt\n",
    "from sklearn.model_selection import train_test_split, cross_validate\n",
    "from statistics import mean\n",
    "from sklearn.metrics import mean_absolute_error, mean_squared_error, r2_score\n",
    "from sklearn.datasets import make_classification\n",
    "from sklearn import ensemble\n",
    "import sklearn.metrics as metrics\n",
    "import time\n",
    "\n",
    "train=r'/kaggle/input/santander-customer-satisfaction/train.csv'\n",
    "test=r'/kaggle/input/santander-customer-satisfaction/test.csv'\n",
    "\n",
    "data=pd.read_csv(train)\n",
    "data.drop_duplicates() #no duplicates\n",
    "print(data.shape) #(76020, 371)\n",
    "data.head() "
   ]
  },
  {
   "cell_type": "markdown",
   "id": "bb8fcfd0",
   "metadata": {
    "papermill": {
     "duration": 0.034529,
     "end_time": "2022-05-17T17:36:44.706422",
     "exception": false,
     "start_time": "2022-05-17T17:36:44.671893",
     "status": "completed"
    },
    "tags": []
   },
   "source": [
    "# Numeric DataFrame"
   ]
  },
  {
   "cell_type": "code",
   "execution_count": 2,
   "id": "1029d59c",
   "metadata": {
    "execution": {
     "iopub.execute_input": "2022-05-17T17:36:44.785601Z",
     "iopub.status.busy": "2022-05-17T17:36:44.784172Z",
     "iopub.status.idle": "2022-05-17T17:36:44.879868Z",
     "shell.execute_reply": "2022-05-17T17:36:44.880467Z",
     "shell.execute_reply.started": "2022-05-17T17:34:18.424564Z"
    },
    "papermill": {
     "duration": 0.139193,
     "end_time": "2022-05-17T17:36:44.880651",
     "exception": false,
     "start_time": "2022-05-17T17:36:44.741458",
     "status": "completed"
    },
    "tags": []
   },
   "outputs": [
    {
     "data": {
      "text/html": [
       "<div>\n",
       "<style scoped>\n",
       "    .dataframe tbody tr th:only-of-type {\n",
       "        vertical-align: middle;\n",
       "    }\n",
       "\n",
       "    .dataframe tbody tr th {\n",
       "        vertical-align: top;\n",
       "    }\n",
       "\n",
       "    .dataframe thead th {\n",
       "        text-align: right;\n",
       "    }\n",
       "</style>\n",
       "<table border=\"1\" class=\"dataframe\">\n",
       "  <thead>\n",
       "    <tr style=\"text-align: right;\">\n",
       "      <th></th>\n",
       "      <th>ID</th>\n",
       "      <th>var3</th>\n",
       "      <th>var15</th>\n",
       "      <th>imp_ent_var16_ult1</th>\n",
       "      <th>imp_op_var39_comer_ult1</th>\n",
       "      <th>imp_op_var39_comer_ult3</th>\n",
       "      <th>imp_op_var40_comer_ult1</th>\n",
       "      <th>imp_op_var40_comer_ult3</th>\n",
       "      <th>imp_op_var40_efect_ult1</th>\n",
       "      <th>imp_op_var40_efect_ult3</th>\n",
       "      <th>...</th>\n",
       "      <th>saldo_medio_var33_hace2</th>\n",
       "      <th>saldo_medio_var33_hace3</th>\n",
       "      <th>saldo_medio_var33_ult1</th>\n",
       "      <th>saldo_medio_var33_ult3</th>\n",
       "      <th>saldo_medio_var44_hace2</th>\n",
       "      <th>saldo_medio_var44_hace3</th>\n",
       "      <th>saldo_medio_var44_ult1</th>\n",
       "      <th>saldo_medio_var44_ult3</th>\n",
       "      <th>var38</th>\n",
       "      <th>TARGET</th>\n",
       "    </tr>\n",
       "  </thead>\n",
       "  <tbody>\n",
       "    <tr>\n",
       "      <th>0</th>\n",
       "      <td>1</td>\n",
       "      <td>2</td>\n",
       "      <td>23</td>\n",
       "      <td>0.0</td>\n",
       "      <td>0.0</td>\n",
       "      <td>0.0</td>\n",
       "      <td>0.0</td>\n",
       "      <td>0.0</td>\n",
       "      <td>0.0</td>\n",
       "      <td>0.0</td>\n",
       "      <td>...</td>\n",
       "      <td>0.0</td>\n",
       "      <td>0.0</td>\n",
       "      <td>0.0</td>\n",
       "      <td>0.0</td>\n",
       "      <td>0.0</td>\n",
       "      <td>0.0</td>\n",
       "      <td>0.0</td>\n",
       "      <td>0.0</td>\n",
       "      <td>39205.170000</td>\n",
       "      <td>0</td>\n",
       "    </tr>\n",
       "    <tr>\n",
       "      <th>1</th>\n",
       "      <td>3</td>\n",
       "      <td>2</td>\n",
       "      <td>34</td>\n",
       "      <td>0.0</td>\n",
       "      <td>0.0</td>\n",
       "      <td>0.0</td>\n",
       "      <td>0.0</td>\n",
       "      <td>0.0</td>\n",
       "      <td>0.0</td>\n",
       "      <td>0.0</td>\n",
       "      <td>...</td>\n",
       "      <td>0.0</td>\n",
       "      <td>0.0</td>\n",
       "      <td>0.0</td>\n",
       "      <td>0.0</td>\n",
       "      <td>0.0</td>\n",
       "      <td>0.0</td>\n",
       "      <td>0.0</td>\n",
       "      <td>0.0</td>\n",
       "      <td>49278.030000</td>\n",
       "      <td>0</td>\n",
       "    </tr>\n",
       "    <tr>\n",
       "      <th>2</th>\n",
       "      <td>4</td>\n",
       "      <td>2</td>\n",
       "      <td>23</td>\n",
       "      <td>0.0</td>\n",
       "      <td>0.0</td>\n",
       "      <td>0.0</td>\n",
       "      <td>0.0</td>\n",
       "      <td>0.0</td>\n",
       "      <td>0.0</td>\n",
       "      <td>0.0</td>\n",
       "      <td>...</td>\n",
       "      <td>0.0</td>\n",
       "      <td>0.0</td>\n",
       "      <td>0.0</td>\n",
       "      <td>0.0</td>\n",
       "      <td>0.0</td>\n",
       "      <td>0.0</td>\n",
       "      <td>0.0</td>\n",
       "      <td>0.0</td>\n",
       "      <td>67333.770000</td>\n",
       "      <td>0</td>\n",
       "    </tr>\n",
       "    <tr>\n",
       "      <th>3</th>\n",
       "      <td>8</td>\n",
       "      <td>2</td>\n",
       "      <td>37</td>\n",
       "      <td>0.0</td>\n",
       "      <td>195.0</td>\n",
       "      <td>195.0</td>\n",
       "      <td>0.0</td>\n",
       "      <td>0.0</td>\n",
       "      <td>0.0</td>\n",
       "      <td>0.0</td>\n",
       "      <td>...</td>\n",
       "      <td>0.0</td>\n",
       "      <td>0.0</td>\n",
       "      <td>0.0</td>\n",
       "      <td>0.0</td>\n",
       "      <td>0.0</td>\n",
       "      <td>0.0</td>\n",
       "      <td>0.0</td>\n",
       "      <td>0.0</td>\n",
       "      <td>64007.970000</td>\n",
       "      <td>0</td>\n",
       "    </tr>\n",
       "    <tr>\n",
       "      <th>4</th>\n",
       "      <td>10</td>\n",
       "      <td>2</td>\n",
       "      <td>39</td>\n",
       "      <td>0.0</td>\n",
       "      <td>0.0</td>\n",
       "      <td>0.0</td>\n",
       "      <td>0.0</td>\n",
       "      <td>0.0</td>\n",
       "      <td>0.0</td>\n",
       "      <td>0.0</td>\n",
       "      <td>...</td>\n",
       "      <td>0.0</td>\n",
       "      <td>0.0</td>\n",
       "      <td>0.0</td>\n",
       "      <td>0.0</td>\n",
       "      <td>0.0</td>\n",
       "      <td>0.0</td>\n",
       "      <td>0.0</td>\n",
       "      <td>0.0</td>\n",
       "      <td>117310.979016</td>\n",
       "      <td>0</td>\n",
       "    </tr>\n",
       "  </tbody>\n",
       "</table>\n",
       "<p>5 rows × 371 columns</p>\n",
       "</div>"
      ],
      "text/plain": [
       "   ID  var3  var15  imp_ent_var16_ult1  imp_op_var39_comer_ult1  \\\n",
       "0   1     2     23                 0.0                      0.0   \n",
       "1   3     2     34                 0.0                      0.0   \n",
       "2   4     2     23                 0.0                      0.0   \n",
       "3   8     2     37                 0.0                    195.0   \n",
       "4  10     2     39                 0.0                      0.0   \n",
       "\n",
       "   imp_op_var39_comer_ult3  imp_op_var40_comer_ult1  imp_op_var40_comer_ult3  \\\n",
       "0                      0.0                      0.0                      0.0   \n",
       "1                      0.0                      0.0                      0.0   \n",
       "2                      0.0                      0.0                      0.0   \n",
       "3                    195.0                      0.0                      0.0   \n",
       "4                      0.0                      0.0                      0.0   \n",
       "\n",
       "   imp_op_var40_efect_ult1  imp_op_var40_efect_ult3  ...  \\\n",
       "0                      0.0                      0.0  ...   \n",
       "1                      0.0                      0.0  ...   \n",
       "2                      0.0                      0.0  ...   \n",
       "3                      0.0                      0.0  ...   \n",
       "4                      0.0                      0.0  ...   \n",
       "\n",
       "   saldo_medio_var33_hace2  saldo_medio_var33_hace3  saldo_medio_var33_ult1  \\\n",
       "0                      0.0                      0.0                     0.0   \n",
       "1                      0.0                      0.0                     0.0   \n",
       "2                      0.0                      0.0                     0.0   \n",
       "3                      0.0                      0.0                     0.0   \n",
       "4                      0.0                      0.0                     0.0   \n",
       "\n",
       "   saldo_medio_var33_ult3  saldo_medio_var44_hace2  saldo_medio_var44_hace3  \\\n",
       "0                     0.0                      0.0                      0.0   \n",
       "1                     0.0                      0.0                      0.0   \n",
       "2                     0.0                      0.0                      0.0   \n",
       "3                     0.0                      0.0                      0.0   \n",
       "4                     0.0                      0.0                      0.0   \n",
       "\n",
       "   saldo_medio_var44_ult1  saldo_medio_var44_ult3          var38  TARGET  \n",
       "0                     0.0                     0.0   39205.170000       0  \n",
       "1                     0.0                     0.0   49278.030000       0  \n",
       "2                     0.0                     0.0   67333.770000       0  \n",
       "3                     0.0                     0.0   64007.970000       0  \n",
       "4                     0.0                     0.0  117310.979016       0  \n",
       "\n",
       "[5 rows x 371 columns]"
      ]
     },
     "execution_count": 2,
     "metadata": {},
     "output_type": "execute_result"
    }
   ],
   "source": [
    "numerics = ['int16', 'int32', 'int64', 'float16', 'float32', 'float64']\n",
    "df = data.select_dtypes(include=numerics)\n",
    "df.head()"
   ]
  },
  {
   "cell_type": "markdown",
   "id": "df66094e",
   "metadata": {
    "papermill": {
     "duration": 0.037325,
     "end_time": "2022-05-17T17:36:44.953503",
     "exception": false,
     "start_time": "2022-05-17T17:36:44.916178",
     "status": "completed"
    },
    "tags": []
   },
   "source": [
    "# Find Missing Values\n",
    "The dataset is still structured as (76020, 371) meaning all the columns must have been numeric. There are no missing values. "
   ]
  },
  {
   "cell_type": "code",
   "execution_count": 3,
   "id": "b635f3e9",
   "metadata": {
    "execution": {
     "iopub.execute_input": "2022-05-17T17:36:45.033014Z",
     "iopub.status.busy": "2022-05-17T17:36:45.031553Z",
     "iopub.status.idle": "2022-05-17T17:36:45.079685Z",
     "shell.execute_reply": "2022-05-17T17:36:45.080391Z",
     "shell.execute_reply.started": "2022-05-17T17:34:18.527219Z"
    },
    "papermill": {
     "duration": 0.090849,
     "end_time": "2022-05-17T17:36:45.080639",
     "exception": false,
     "start_time": "2022-05-17T17:36:44.989790",
     "status": "completed"
    },
    "tags": []
   },
   "outputs": [
    {
     "name": "stdout",
     "output_type": "stream",
     "text": [
      "Missing data by column as a percent:\n",
      "ID                         0.0\n",
      "imp_trasp_var17_in_ult1    0.0\n",
      "ind_var7_emit_ult1         0.0\n",
      "imp_venta_var44_ult1       0.0\n",
      "imp_venta_var44_hace3      0.0\n",
      "dtype: float64\n"
     ]
    }
   ],
   "source": [
    "#search for columns with missing values:\n",
    "def findNA():\n",
    "    print(\"Missing data by column as a percent:\")\n",
    "    findNA=df.isnull().sum().sort_values(ascending=False)/len(df)\n",
    "    print(findNA.head())\n",
    "findNA() "
   ]
  },
  {
   "cell_type": "markdown",
   "id": "a2af2e40",
   "metadata": {
    "papermill": {
     "duration": 0.03483,
     "end_time": "2022-05-17T17:36:45.151860",
     "exception": false,
     "start_time": "2022-05-17T17:36:45.117030",
     "status": "completed"
    },
    "tags": []
   },
   "source": [
    "# Examine Target Column\n",
    "Customer satisfaction is in 1 and 0. Almost all of the TARGET column is 0 which is at 0.9604%.  Also, since the target values are only one and zero we can use logistic regression to further analyze any trends in the data. "
   ]
  },
  {
   "cell_type": "code",
   "execution_count": 4,
   "id": "da560c11",
   "metadata": {
    "execution": {
     "iopub.execute_input": "2022-05-17T17:36:45.229830Z",
     "iopub.status.busy": "2022-05-17T17:36:45.228869Z",
     "iopub.status.idle": "2022-05-17T17:36:45.247694Z",
     "shell.execute_reply": "2022-05-17T17:36:45.247088Z",
     "shell.execute_reply.started": "2022-05-17T17:34:18.579000Z"
    },
    "papermill": {
     "duration": 0.06009,
     "end_time": "2022-05-17T17:36:45.247837",
     "exception": false,
     "start_time": "2022-05-17T17:36:45.187747",
     "status": "completed"
    },
    "tags": []
   },
   "outputs": [
    {
     "name": "stdout",
     "output_type": "stream",
     "text": [
      "[0 1]\n",
      "0.9604\n"
     ]
    }
   ],
   "source": [
    "target=df['TARGET'].unique()\n",
    "print(target)\n",
    "\n",
    "#Check for unbalanced data:\n",
    "targets=list(df['TARGET'])\n",
    "zero = targets.count(0)\n",
    "one = targets.count(1)\n",
    "total=round(zero/len(targets),4)\n",
    "print(total)"
   ]
  },
  {
   "cell_type": "markdown",
   "id": "cfd4d3cb",
   "metadata": {
    "papermill": {
     "duration": 0.035525,
     "end_time": "2022-05-17T17:36:45.319750",
     "exception": false,
     "start_time": "2022-05-17T17:36:45.284225",
     "status": "completed"
    },
    "tags": []
   },
   "source": [
    "# Heatmap"
   ]
  },
  {
   "cell_type": "code",
   "execution_count": 5,
   "id": "df3a624f",
   "metadata": {
    "execution": {
     "iopub.execute_input": "2022-05-17T17:36:45.398727Z",
     "iopub.status.busy": "2022-05-17T17:36:45.394581Z",
     "iopub.status.idle": "2022-05-17T17:37:14.561147Z",
     "shell.execute_reply": "2022-05-17T17:37:14.561696Z",
     "shell.execute_reply.started": "2022-05-17T17:34:18.594406Z"
    },
    "papermill": {
     "duration": 29.206219,
     "end_time": "2022-05-17T17:37:14.561900",
     "exception": false,
     "start_time": "2022-05-17T17:36:45.355681",
     "status": "completed"
    },
    "tags": []
   },
   "outputs": [
    {
     "name": "stdout",
     "output_type": "stream",
     "text": [
      "AxesSubplot(0.125,0.125;0.62x0.755)\n",
      "Top 10 Correlations:\n",
      " TARGET                     1.000000\n",
      "var36                      0.102919\n",
      "var15                      0.101322\n",
      "ind_var8_0                 0.046665\n",
      "num_var8_0                 0.046622\n",
      "imp_op_var39_efect_ult1    0.030380\n",
      "imp_op_var41_efect_ult1    0.029479\n",
      "num_var8                   0.027926\n",
      "ind_var8                   0.027926\n",
      "imp_op_var41_ult1          0.027586\n",
      "Name: TARGET, dtype: float64\n"
     ]
    },
    {
     "data": {
      "image/png": "[encoded data removed]",
      "text/plain": [
       "<Figure size 720x720 with 2 Axes>"
      ]
     },
     "metadata": {
      "needs_background": "light"
     },
     "output_type": "display_data"
    }
   ],
   "source": [
    "def printHeat():\n",
    "    corr = df.corr()\n",
    "    #print(corr)\n",
    "    y='TARGET'\n",
    "    highly_corr_features = corr.index[abs(corr[y])>0.05]\n",
    "    plt.figure(figsize=(10,10))\n",
    "    heat = sns.heatmap(df[highly_corr_features].corr(),annot=True,cmap=\"RdYlGn\")\n",
    "    top10=corr[y].sort_values(ascending=False).head(10)\n",
    "    print(heat)\n",
    "    print(\"Top 10 Correlations:\\n\", top10) # top ten correlations\n",
    "printHeat()"
   ]
  },
  {
   "cell_type": "markdown",
   "id": "68ad67b3",
   "metadata": {
    "papermill": {
     "duration": 0.038729,
     "end_time": "2022-05-17T17:37:14.640428",
     "exception": false,
     "start_time": "2022-05-17T17:37:14.601699",
     "status": "completed"
    },
    "tags": []
   },
   "source": [
    "# Highly Correlated Features:\n",
    "First, we must remove highly correlated features that are above .80 correlation. Normally, creating a heapmap visualization is helpful but with 371 column features, will not be memory efficient unless using a supercomputer."
   ]
  },
  {
   "cell_type": "code",
   "execution_count": 6,
   "id": "e6c6634a",
   "metadata": {
    "execution": {
     "iopub.execute_input": "2022-05-17T17:37:14.729082Z",
     "iopub.status.busy": "2022-05-17T17:37:14.728000Z",
     "iopub.status.idle": "2022-05-17T17:37:42.826243Z",
     "shell.execute_reply": "2022-05-17T17:37:42.827011Z",
     "shell.execute_reply.started": "2022-05-17T17:34:47.433226Z"
    },
    "papermill": {
     "duration": 28.147416,
     "end_time": "2022-05-17T17:37:42.827266",
     "exception": false,
     "start_time": "2022-05-17T17:37:14.679850",
     "status": "completed"
    },
    "tags": []
   },
   "outputs": [
    {
     "name": "stdout",
     "output_type": "stream",
     "text": [
      "(76020, 371)  before removing highly correlated variables.\n",
      "(76020, 205)  after removing highly correlated variables.\n"
     ]
    }
   ],
   "source": [
    "print(df.shape, \" before removing highly correlated variables.\")\n",
    "# Create correlation matrix\n",
    "corr_matrix = df.corr().abs()\n",
    "\n",
    "# Select upper triangle of correlation matrix\n",
    "upper = corr_matrix.where(np.triu(np.ones(corr_matrix.shape), k=1).astype(bool))\n",
    "\n",
    "# Find index of feature columns with correlation greater than 0.95\n",
    "to_drop = [column for column in upper.columns if any(upper[column] > 0.90)]\n",
    "\n",
    "df=df.drop(to_drop, axis = 1)\n",
    "print(df.shape, \" after removing highly correlated variables.\")"
   ]
  },
  {
   "cell_type": "markdown",
   "id": "fb0d48a9",
   "metadata": {
    "execution": {
     "iopub.execute_input": "2022-02-28T00:53:12.026705Z",
     "iopub.status.busy": "2022-02-28T00:53:12.026269Z",
     "iopub.status.idle": "2022-02-28T00:53:12.030847Z",
     "shell.execute_reply": "2022-02-28T00:53:12.03006Z",
     "shell.execute_reply.started": "2022-02-28T00:53:12.026675Z"
    },
    "papermill": {
     "duration": 0.040957,
     "end_time": "2022-05-17T17:37:42.909029",
     "exception": false,
     "start_time": "2022-05-17T17:37:42.868072",
     "status": "completed"
    },
    "tags": []
   },
   "source": [
    "# Split the Data\n",
    "Use 70% of the train data to predict the accuracy of the remaining 30% of the test data."
   ]
  },
  {
   "cell_type": "code",
   "execution_count": 7,
   "id": "6fa39de6",
   "metadata": {
    "execution": {
     "iopub.execute_input": "2022-05-17T17:37:43.034185Z",
     "iopub.status.busy": "2022-05-17T17:37:43.032196Z",
     "iopub.status.idle": "2022-05-17T17:37:43.161579Z",
     "shell.execute_reply": "2022-05-17T17:37:43.161025Z",
     "shell.execute_reply.started": "2022-05-17T17:35:15.464420Z"
    },
    "papermill": {
     "duration": 0.212547,
     "end_time": "2022-05-17T17:37:43.161729",
     "exception": false,
     "start_time": "2022-05-17T17:37:42.949182",
     "status": "completed"
    },
    "tags": []
   },
   "outputs": [],
   "source": [
    "X=df.drop('TARGET', axis=1)\n",
    "y=df['TARGET']\n",
    "\n",
    "X_train, X_test, y_train, y_test = train_test_split(\n",
    "    X, y, test_size = 0.30, random_state = 42)"
   ]
  },
  {
   "cell_type": "markdown",
   "id": "ac3a1916",
   "metadata": {
    "papermill": {
     "duration": 0.039287,
     "end_time": "2022-05-17T17:37:43.240495",
     "exception": false,
     "start_time": "2022-05-17T17:37:43.201208",
     "status": "completed"
    },
    "tags": []
   },
   "source": [
    "# Logistic Regression\n",
    "AUC for logistic regression is:  0.5782."
   ]
  },
  {
   "cell_type": "code",
   "execution_count": 8,
   "id": "357535fb",
   "metadata": {
    "execution": {
     "iopub.execute_input": "2022-05-17T17:37:43.331176Z",
     "iopub.status.busy": "2022-05-17T17:37:43.329715Z",
     "iopub.status.idle": "2022-05-17T17:37:45.689725Z",
     "shell.execute_reply": "2022-05-17T17:37:45.688329Z",
     "shell.execute_reply.started": "2022-05-17T17:35:15.641489Z"
    },
    "papermill": {
     "duration": 2.410087,
     "end_time": "2022-05-17T17:37:45.689980",
     "exception": false,
     "start_time": "2022-05-17T17:37:43.279893",
     "status": "completed"
    },
    "tags": []
   },
   "outputs": [
    {
     "name": "stdout",
     "output_type": "stream",
     "text": [
      "AUC for logistic regression is:  0.5782\n"
     ]
    }
   ],
   "source": [
    "from sklearn.linear_model import LogisticRegression\n",
    "logReg = LogisticRegression(solver='liblinear') #solver param gets rid of encoder error\n",
    "\n",
    "#Train the model and create predictions\n",
    "logReg.fit(X_train, y_train)\n",
    "logPredict = logReg.predict_proba(X_test)[::,1]\n",
    "\n",
    "#calculate AUC of model\n",
    "auc = round( metrics.roc_auc_score(y_test, logPredict), 4 ) \n",
    "print(\"AUC for logistic regression is: \", auc)"
   ]
  },
  {
   "cell_type": "markdown",
   "id": "a0349e2b",
   "metadata": {
    "papermill": {
     "duration": 0.042037,
     "end_time": "2022-05-17T17:37:45.825808",
     "exception": false,
     "start_time": "2022-05-17T17:37:45.783771",
     "status": "completed"
    },
    "tags": []
   },
   "source": [
    "# Linear Regression\n",
    "AUC for linear regression is:  0.7838"
   ]
  },
  {
   "cell_type": "code",
   "execution_count": 9,
   "id": "f7466325",
   "metadata": {
    "execution": {
     "iopub.execute_input": "2022-05-17T17:37:45.922798Z",
     "iopub.status.busy": "2022-05-17T17:37:45.921774Z",
     "iopub.status.idle": "2022-05-17T17:37:50.661052Z",
     "shell.execute_reply": "2022-05-17T17:37:50.661558Z",
     "shell.execute_reply.started": "2022-05-17T17:35:17.979146Z"
    },
    "papermill": {
     "duration": 4.792897,
     "end_time": "2022-05-17T17:37:50.661733",
     "exception": false,
     "start_time": "2022-05-17T17:37:45.868836",
     "status": "completed"
    },
    "tags": []
   },
   "outputs": [
    {
     "name": "stdout",
     "output_type": "stream",
     "text": [
      "AUC for linear regression is:  0.7838\n",
      "Linear regression r2 score:  -0.0169\n",
      "Linear Accuracy:  -0.0169\n",
      "-294401724115030.2  linear regression cross validate mean\n"
     ]
    },
    {
     "data": {
      "image/png": "[encoded data removed]",
      "text/plain": [
       "<Figure size 432x288 with 1 Axes>"
      ]
     },
     "metadata": {
      "needs_background": "light"
     },
     "output_type": "display_data"
    }
   ],
   "source": [
    "from sklearn.linear_model import LinearRegression, Ridge, Lasso\n",
    "\n",
    "#Fit and predict:\n",
    "lrModel = LinearRegression()\n",
    "lrModel.fit(X_train, y_train)\n",
    "lrPredict = lrModel.predict(X_test)\n",
    "\n",
    "# plt.scatter(y_test, predictions)\n",
    "plt.hist(y_test - lrPredict)\n",
    "\n",
    "#Linear Metrics:\n",
    "auc = round( metrics.roc_auc_score(y_test, lrPredict), 4 ) \n",
    "r2 = r2_score(y_test, lrPredict).round(4) \n",
    "print(\"AUC for linear regression is: \", auc)\n",
    "print(\"Linear regression r2 score: \", r2)\n",
    "\n",
    "#CROSS VALIDATE TEST RESULTS:\n",
    "lr_score = lrModel.score(X_test, y_test).round(4)  # train test \n",
    "print(\"Linear Accuracy: \", lr_score)\n",
    "lr_cv = cross_validate(lrModel, X, y, cv = 5, scoring= 'r2')\n",
    "lr_cvMean=lr_cv['test_score'].mean().round(4)\n",
    "print(lr_cvMean, \" linear regression cross validate mean\")\n",
    "\n",
    "def linearReports():\n",
    "    print(model.coef_)    \n",
    "    print(model.intercept_)\n",
    "    print(classification_report(y_test_data, lrPredict))\n",
    "    print(confusion_matrix(y_test_data, lrPredict))\n",
    "    metrics.mean_absolute_error(y_test, lrPredict)\n",
    "    np.sqrt(metrics.mean_squared_error(y_test, lrPredict))"
   ]
  },
  {
   "cell_type": "markdown",
   "id": "e45c1cf9",
   "metadata": {
    "papermill": {
     "duration": 0.041265,
     "end_time": "2022-05-17T17:37:50.744711",
     "exception": false,
     "start_time": "2022-05-17T17:37:50.703446",
     "status": "completed"
    },
    "tags": []
   },
   "source": [
    "# Decision Tree\n",
    "* The least amount of error is at max_depth=9 and best_tree_size=100. \n",
    "* The highest AUC is max_depth= 7 and max_leaf_nodes = 100. \n",
    "\n",
    "The full report is below: <br>\n",
    "* 5  max_leaf_nodes || AUC  0.8147  || MAE:  0.0712\n",
    "* 25  max_leaf_nodes || AUC  0.8147  || MAE:  0.07\n",
    "* 50  max_leaf_nodes || AUC  0.8147  || MAE:  0.0696\n",
    "* 100  max_leaf_nodes || AUC  0.8147  || MAE:  0.0694\n",
    "* 250  max_leaf_nodes || AUC  0.8147  || MAE:  0.0691\n",
    "* 500  max_leaf_nodes || AUC  0.8147  || MAE:  0.0693\n",
    "* 2  max_depth || AUC  0.7654  || MAE:  0.0716\n",
    "* 3  max_depth || AUC  0.7891  || MAE:  0.0708\n",
    "* 5  max_depth || AUC  0.8001  || MAE:  0.0699\n",
    "* 7  max_depth || AUC  0.8018  || MAE:  0.0697"
   ]
  },
  {
   "cell_type": "code",
   "execution_count": 10,
   "id": "93accaad",
   "metadata": {
    "execution": {
     "iopub.execute_input": "2022-05-17T17:37:50.837744Z",
     "iopub.status.busy": "2022-05-17T17:37:50.836715Z",
     "iopub.status.idle": "2022-05-17T17:37:50.847659Z",
     "shell.execute_reply": "2022-05-17T17:37:50.848200Z",
     "shell.execute_reply.started": "2022-05-17T17:35:22.479350Z"
    },
    "papermill": {
     "duration": 0.062301,
     "end_time": "2022-05-17T17:37:50.848395",
     "exception": false,
     "start_time": "2022-05-17T17:37:50.786094",
     "status": "completed"
    },
    "tags": []
   },
   "outputs": [],
   "source": [
    "from sklearn.tree import DecisionTreeRegressor\n",
    "\n",
    "#FIND best_tree_size LEAF NODES:\n",
    "def calcLeaf():\n",
    "    candidate_max_leaf_nodes = [5, 25, 50, 100, 250, 500]\n",
    "    maeDic={} #dictionary  key=leaf  mae=value\n",
    "    for leaf in candidate_max_leaf_nodes:\n",
    "        model = DecisionTreeRegressor(max_leaf_nodes=leaf, random_state=42)\n",
    "        model.fit(X_train, y_train)\n",
    "        y_pred = model.predict(X_test)\n",
    "        mae = mean_absolute_error(y_test, y_pred).round(4)\n",
    "        maeDic[leaf]=mae\n",
    "    print(maeDic)\n",
    "    best_tree_size = sorted(maeDic, key=lambda x : maeDic[x])[0]\n",
    "    print(best_tree_size)\n",
    "    \n",
    "def calcDepth():\n",
    "    max_depth_list = [2, 3, 5, 7, 9, 10, 12]\n",
    "    maeDic={} #dictionary  key=depth  mae=value\n",
    "    for d in max_depth_list:\n",
    "        model = DecisionTreeRegressor(max_leaf_nodes=100, max_depth=d, random_state=42)\n",
    "        model.fit(X_train, y_train)\n",
    "        y_pred = model.predict(X_test)\n",
    "        mae = mean_absolute_error(y_test, y_pred).round(4)\n",
    "        maeDic[d]=mae\n",
    "    print(maeDic)\n",
    "    best_max_depth = sorted(maeDic, key=lambda x : maeDic[x])[0]\n",
    "    print(best_max_depth, \" best max_depth with least error.\") #10\n",
    "    \n",
    "def automateTree():\n",
    "    print(\"Decision Tree Automating:\")\n",
    "    start=time.time()\n",
    "    candidate_max_leaf_nodes = [5, 25, 50, 75, 100, 150, 250, 400, 500]\n",
    "    max_depth_list = [2, 3, 5, 7, 9, 10, 11]\n",
    "    \n",
    "    #STORE DATA INTO LISTS FOR DATAFRAME LATER:\n",
    "    aucList=[]\n",
    "    maeList=[]\n",
    "    maxDepthList=[]\n",
    "    maxLeafNodesList=[]\n",
    "\n",
    "    for d in max_depth_list:\n",
    "        for leaf in candidate_max_leaf_nodes:\n",
    "            model = DecisionTreeRegressor(max_leaf_nodes=leaf, max_depth=d, random_state=42)\n",
    "            model.fit(X_train, y_train)\n",
    "            y_pred = model.predict(X_test)\n",
    "            mae = mean_absolute_error(y_test, y_pred).round(4)\n",
    "            treeR2 = r2_score(y_test, y_pred).round(4)\n",
    "            \n",
    "            aucList.append(treeR2)\n",
    "            maeList.append(mae)\n",
    "            maxDepthList.append(d)\n",
    "            maxLeafNodesList.append(leaf)\n",
    "           \n",
    "    df = pd.DataFrame(list(zip(aucList, maeList, maxDepthList, maxLeafNodesList)),\n",
    "                          columns=['AUC','MAE', 'MaxDepth', 'MaxLeafNodes'])\n",
    "    \n",
    "    df=df.sort_values(by=['MAE'], ascending=False)\n",
    "    print(\"Done. \", round(time.time()-start,4), \" seconds\")\n",
    "    return df\n",
    "\n",
    "#TURN FUNCTION OFF OR ON BELOW:   \n",
    "#calcLeaf()\n",
    "#calcDepth()\n",
    "#treeDF=automateTree()    \n",
    "#treeDF.head()"
   ]
  },
  {
   "cell_type": "markdown",
   "id": "a9b9c731",
   "metadata": {
    "papermill": {
     "duration": 0.041045,
     "end_time": "2022-05-17T17:37:50.931020",
     "exception": false,
     "start_time": "2022-05-17T17:37:50.889975",
     "status": "completed"
    },
    "tags": []
   },
   "source": [
    "#### Final Decision Tree Prediction"
   ]
  },
  {
   "cell_type": "code",
   "execution_count": 11,
   "id": "53a6b16f",
   "metadata": {
    "execution": {
     "iopub.execute_input": "2022-05-17T17:37:51.016931Z",
     "iopub.status.busy": "2022-05-17T17:37:51.016287Z",
     "iopub.status.idle": "2022-05-17T17:37:52.349871Z",
     "shell.execute_reply": "2022-05-17T17:37:52.349324Z",
     "shell.execute_reply.started": "2022-05-17T17:35:22.493558Z"
    },
    "papermill": {
     "duration": 1.377569,
     "end_time": "2022-05-17T17:37:52.350021",
     "exception": false,
     "start_time": "2022-05-17T17:37:50.972452",
     "status": "completed"
    },
    "tags": []
   },
   "outputs": [
    {
     "name": "stdout",
     "output_type": "stream",
     "text": [
      "AUC for decision tree is:  0.8218\n",
      "0.1866  is tree MSE \n"
     ]
    }
   ],
   "source": [
    "max_depth=7\n",
    "best_tree_size=100\n",
    "    \n",
    "#MAKE PREDICTION:\n",
    "tree = DecisionTreeRegressor(max_leaf_nodes=best_tree_size, \n",
    "                             max_depth=max_depth,random_state=42)\n",
    "tree.fit(X, y)\n",
    "y_pred = tree.predict(X_test)\n",
    "\n",
    "#AUC and r2 metric:\n",
    "treeR2 = r2_score(y_test, y_pred).round(4)\n",
    "treeAUC = round( metrics.roc_auc_score(y_test, y_pred), 4 ) \n",
    "print(\"AUC for decision tree is: \", treeAUC)\n",
    "\n",
    "treeMSE=np.sqrt(metrics.mean_squared_error(y_test, y_pred))\n",
    "print(round(treeMSE, 4), \" is tree MSE \")"
   ]
  },
  {
   "cell_type": "markdown",
   "id": "218b07c0",
   "metadata": {
    "papermill": {
     "duration": 0.041857,
     "end_time": "2022-05-17T17:37:52.434119",
     "exception": false,
     "start_time": "2022-05-17T17:37:52.392262",
     "status": "completed"
    },
    "tags": []
   },
   "source": [
    "# Random Forest "
   ]
  },
  {
   "cell_type": "code",
   "execution_count": 12,
   "id": "5b7fa201",
   "metadata": {
    "execution": {
     "iopub.execute_input": "2022-05-17T17:37:52.528910Z",
     "iopub.status.busy": "2022-05-17T17:37:52.527685Z",
     "iopub.status.idle": "2022-05-17T17:37:52.529773Z",
     "shell.execute_reply": "2022-05-17T17:37:52.530294Z",
     "shell.execute_reply.started": "2022-05-17T17:35:23.777322Z"
    },
    "papermill": {
     "duration": 0.054209,
     "end_time": "2022-05-17T17:37:52.530475",
     "exception": false,
     "start_time": "2022-05-17T17:37:52.476266",
     "status": "completed"
    },
    "tags": []
   },
   "outputs": [],
   "source": [
    "from sklearn.ensemble import RandomForestRegressor\n",
    "\n",
    "#Check for Error and find Best n_estimators:\n",
    "def checkMAE():\n",
    "    print(\"Starting MAE:\")\n",
    "    dMAE={} #dictionary of n_estimators as key and MAE as value:\n",
    "    for n in range(2, 500, 100):\n",
    "        forest = RandomForestRegressor(n_estimators=n, random_state = 0)\n",
    "        forest.fit(X_train, y_train)\n",
    "        y_pred = forest.predict(X_test)\n",
    "        MAE=metrics.mean_absolute_error(y_test, y_pred).round(2)\n",
    "        dMAE[n]=MAE\n",
    "        print(\"n_estimates: \", n,  ' ||  Mean Absolute Error:', MAE)\n",
    "\n",
    "    dMAE=sorted(((v, k) for k, v in dMAE.items()), reverse=False)\n",
    "    print(dMAE)\n",
    "#checkMAE() #turn function on or off by uncommenting"
   ]
  },
  {
   "cell_type": "markdown",
   "id": "eb33e501",
   "metadata": {
    "papermill": {
     "duration": 0.041913,
     "end_time": "2022-05-17T17:37:52.616837",
     "exception": false,
     "start_time": "2022-05-17T17:37:52.574924",
     "status": "completed"
    },
    "tags": []
   },
   "source": [
    "#### Final Forest Prediction"
   ]
  },
  {
   "cell_type": "code",
   "execution_count": 13,
   "id": "539faad2",
   "metadata": {
    "execution": {
     "iopub.execute_input": "2022-05-17T17:37:52.705297Z",
     "iopub.status.busy": "2022-05-17T17:37:52.704257Z",
     "iopub.status.idle": "2022-05-17T17:37:52.711178Z",
     "shell.execute_reply": "2022-05-17T17:37:52.711833Z",
     "shell.execute_reply.started": "2022-05-17T17:35:23.785536Z"
    },
    "papermill": {
     "duration": 0.052769,
     "end_time": "2022-05-17T17:37:52.712011",
     "exception": false,
     "start_time": "2022-05-17T17:37:52.659242",
     "status": "completed"
    },
    "tags": []
   },
   "outputs": [],
   "source": [
    "def forest():\n",
    "    num=10\n",
    "    forest = RandomForestRegressor(n_estimators=num, random_state = 0)\n",
    "    forest.fit(X_train, y_train)\n",
    "    y_pred = forest.predict(X_test)\n",
    "\n",
    "    #Print Metrics:\n",
    "    forest_r2 = r2_score(y_test, y_pred).round(4)  \n",
    "    forest_auc = round( metrics.roc_auc_score(y_test, y_pred), 4 ) \n",
    "    print(\"Random forest AUC: \", forest_auc) \n",
    "    print(\"Random forest r2: \", forest_r2)\n",
    "\n",
    "def forestReports():\n",
    "    mae=metrics.mean_absolute_error(y_test, y_pred).round(2)\n",
    "    print(\"Random forest MAE: \", mae)"
   ]
  },
  {
   "cell_type": "markdown",
   "id": "353f82d7",
   "metadata": {
    "papermill": {
     "duration": 0.042084,
     "end_time": "2022-05-17T17:37:52.797023",
     "exception": false,
     "start_time": "2022-05-17T17:37:52.754939",
     "status": "completed"
    },
    "tags": []
   },
   "source": [
    "# Gradient Boost\n",
    "Full parameter tuning report: <br>\n",
    "* 2  max_depth || AUC  0.8197  || MSE 0.0357\n",
    "* 3  max_depth || AUC  0.8227  || MSE 0.0355\n",
    "* 4  max_depth || AUC  0.8239  || MSE 0.0354\n",
    "* 5  max_depth || AUC  0.8263  || MSE 0.0355\n",
    "* 100  n_estimators || AUC  0.8034  || MSE 0.0365\n",
    "* 200  n_estimators || AUC  0.8143  || MSE 0.0361\n",
    "* 300  n_estimators || AUC  0.8166  || MSE 0.0359\n",
    "* 400  n_estimators || AUC  0.8186  || MSE 0.0358\n",
    "* 500  n_estimators || AUC  0.8197  || MSE 0.0357"
   ]
  },
  {
   "cell_type": "markdown",
   "id": "6f2f6430",
   "metadata": {
    "papermill": {
     "duration": 0.041526,
     "end_time": "2022-05-17T17:37:52.881806",
     "exception": false,
     "start_time": "2022-05-17T17:37:52.840280",
     "status": "completed"
    },
    "tags": []
   },
   "source": [
    "#### Final Gradient Boost Prediction"
   ]
  },
  {
   "cell_type": "code",
   "execution_count": 14,
   "id": "95d72813",
   "metadata": {
    "execution": {
     "iopub.execute_input": "2022-05-17T17:37:52.983059Z",
     "iopub.status.busy": "2022-05-17T17:37:52.970591Z",
     "iopub.status.idle": "2022-05-17T17:37:53.035234Z",
     "shell.execute_reply": "2022-05-17T17:37:53.034679Z",
     "shell.execute_reply.started": "2022-05-17T17:35:23.800738Z"
    },
    "papermill": {
     "duration": 0.110682,
     "end_time": "2022-05-17T17:37:53.035390",
     "exception": false,
     "start_time": "2022-05-17T17:37:52.924708",
     "status": "completed"
    },
    "tags": []
   },
   "outputs": [],
   "source": [
    "from sklearn.inspection import permutation_importance\n",
    "from sklearn.ensemble import GradientBoostingClassifier,GradientBoostingRegressor\n",
    "\n",
    "def gbDepth():\n",
    "    depthList=[2, 3, 4, 5, 7]\n",
    "    \n",
    "    for d in depthList:\n",
    "        params = {\n",
    "         \"n_estimators\": 500, \"max_depth\": d, \n",
    "            \"min_samples_split\": 5, \"learning_rate\": 0.01,\n",
    "        }\n",
    "\n",
    "        #Fit and Predict:\n",
    "        reg = ensemble.GradientBoostingRegressor(**params)\n",
    "        reg.fit(X_train, y_train)\n",
    "        y_pred = reg.predict(X_test)\n",
    "        gbr_r2 = r2_score(y_test, y_pred).round(4) \n",
    "        #print(\"Gradient boosting regression r2: \", gbr_r2) \n",
    "\n",
    "        #calculate AUC of model\n",
    "        auc = round( metrics.roc_auc_score(y_test, y_pred), 4 ) \n",
    "        mse = mean_squared_error(y_test, reg.predict(X_test)).round(4)\n",
    "        print(d,\" max_depth || AUC \", auc, \" || MSE {:.4f}\".format(mse))\n",
    "\n",
    "def gbN():\n",
    "    nList=[100, 200, 300, 400, 500]\n",
    "    \n",
    "    for n in nList:\n",
    "        params = {\n",
    "         \"n_estimators\": n, \"max_depth\": 2, \n",
    "            \"min_samples_split\": 5, \"learning_rate\": 0.01,\n",
    "        }\n",
    "\n",
    "        #Fit and Predict:\n",
    "        reg = ensemble.GradientBoostingRegressor(**params)\n",
    "        reg.fit(X_train, y_train)\n",
    "        y_pred = reg.predict(X_test)\n",
    "        gbr_r2 = r2_score(y_test, y_pred).round(4) \n",
    "        #print(\"Gradient boosting regression r2: \", gbr_r2) \n",
    "\n",
    "        #calculate AUC of model\n",
    "        auc = round( metrics.roc_auc_score(y_test, y_pred), 4 ) \n",
    "        mse = mean_squared_error(y_test, reg.predict(X_test)).round(4)\n",
    "        print(n,\" n_estimators || AUC \", auc, \" || MSE {:.4f}\".format(mse))\n",
    "        time.sleep(.1)\n",
    "\n",
    "def gbSplit():\n",
    "    sList=[2, 3, 5, 7]\n",
    "    \n",
    "    for s in sList:\n",
    "        params = {\n",
    "         \"n_estimators\": 500, \"max_depth\": 2, \"min_samples_split\": s, \"learning_rate\": 0.01,\n",
    "        }\n",
    "\n",
    "        #Fit and Predict:\n",
    "        reg = ensemble.GradientBoostingRegressor(**params)\n",
    "        reg.fit(X_train, y_train)\n",
    "        y_pred = reg.predict(X_test)\n",
    "        gbr_r2 = r2_score(y_test, y_pred).round(4) \n",
    "        #print(\"Gradient boosting regression r2: \", gbr_r2) \n",
    "\n",
    "        #calculate AUC of model\n",
    "        auc = round( metrics.roc_auc_score(y_test, y_pred), 4 ) \n",
    "        mse = mean_squared_error(y_test, reg.predict(X_test)).round(4)\n",
    "        print(s,\" min_samples_splits || AUC \", auc, \" || MSE {:.4f}\".format(mse))\n",
    "\n",
    "#Turn on or off functions here:\n",
    "#gbDepth()\n",
    "#gbN()\n",
    "#gbSplit()"
   ]
  },
  {
   "cell_type": "markdown",
   "id": "18f4d785",
   "metadata": {
    "papermill": {
     "duration": 0.041858,
     "end_time": "2022-05-17T17:37:53.119309",
     "exception": false,
     "start_time": "2022-05-17T17:37:53.077451",
     "status": "completed"
    },
    "tags": []
   },
   "source": [
    "#### Final Gradient Boost Prediction\n",
    "* AUC for gradient boost is:  0.8196\n",
    "* The mean squared error (MSE) on test set: 0.0357"
   ]
  },
  {
   "cell_type": "code",
   "execution_count": 15,
   "id": "dd7510be",
   "metadata": {
    "execution": {
     "iopub.execute_input": "2022-05-17T17:37:53.206596Z",
     "iopub.status.busy": "2022-05-17T17:37:53.205912Z",
     "iopub.status.idle": "2022-05-17T17:39:32.874140Z",
     "shell.execute_reply": "2022-05-17T17:39:32.873611Z"
    },
    "papermill": {
     "duration": 99.712907,
     "end_time": "2022-05-17T17:39:32.874281",
     "exception": false,
     "start_time": "2022-05-17T17:37:53.161374",
     "status": "completed"
    },
    "tags": []
   },
   "outputs": [
    {
     "name": "stdout",
     "output_type": "stream",
     "text": [
      "Gradient boosting regression r2:  0.0734\n",
      "AUC for gradient boost is:  0.8196\n",
      "The mean squared error (MSE) on test set: 0.0357\n"
     ]
    }
   ],
   "source": [
    "params = {\n",
    " \"n_estimators\": 500, \"max_depth\": 2, \n",
    "    \"min_samples_split\": 7, \"learning_rate\": 0.01,\n",
    "}\n",
    "\n",
    "#Fit and Predict:\n",
    "reg = ensemble.GradientBoostingRegressor(**params)\n",
    "reg.fit(X_train, y_train)\n",
    "y_pred = reg.predict(X_test)\n",
    "gbr_r2 = r2_score(y_test, y_pred).round(4) \n",
    "print(\"Gradient boosting regression r2: \", gbr_r2) \n",
    "\n",
    "#AUC of model\n",
    "auc = round( metrics.roc_auc_score(y_test, y_pred), 4 ) \n",
    "print(\"AUC for gradient boost is: \", auc)\n",
    "\n",
    "mse = mean_squared_error(y_test, reg.predict(X_test))\n",
    "print(\"The mean squared error (MSE) on test set: {:.4f}\".format(mse))"
   ]
  },
  {
   "cell_type": "markdown",
   "id": "3fc4acd8",
   "metadata": {
    "papermill": {
     "duration": 0.041921,
     "end_time": "2022-05-17T17:39:32.958556",
     "exception": false,
     "start_time": "2022-05-17T17:39:32.916635",
     "status": "completed"
    },
    "tags": []
   },
   "source": [
    "# Support Vector\n",
    "A dataset with the shape of (76020, 371) is too big runtime for SVM to handle. Trying to tune SVM is not realistic either. "
   ]
  },
  {
   "cell_type": "code",
   "execution_count": 16,
   "id": "a9e99ac1",
   "metadata": {
    "execution": {
     "iopub.execute_input": "2022-05-17T17:39:33.046424Z",
     "iopub.status.busy": "2022-05-17T17:39:33.045803Z",
     "iopub.status.idle": "2022-05-17T17:39:33.053225Z",
     "shell.execute_reply": "2022-05-17T17:39:33.052663Z"
    },
    "papermill": {
     "duration": 0.052389,
     "end_time": "2022-05-17T17:39:33.053365",
     "exception": false,
     "start_time": "2022-05-17T17:39:33.000976",
     "status": "completed"
    },
    "tags": []
   },
   "outputs": [],
   "source": [
    "def runSVM():\n",
    "    svm=SVC(C=0.1, gamma=1, kernel = 'linear')\n",
    "    svm.fit(X_train, y_train)\n",
    "    svmPedict = svm.predict(X_test)\n",
    "    np.shape(svmPedict)\n",
    "    np.shape(y_test)\n",
    "    #y_class = np.argmax(y_pred, axis = 0)\n",
    "\n",
    "    #calculate AUC of model\n",
    "    svmAUC = round( metrics.roc_auc_score(y_test, svmPedict, multi_class='ovr'), 4 ) \n",
    "    print(\"SVC AUC is: \", svmAUC)\n",
    "\n",
    "    svmR2 = r2_score(y_test, svmPedict).round(4) \n",
    "    print(\"SVM r2: \", svmR2) \n",
    "\n",
    "    svmMAE=metrics.mean_absolute_error(y_test, svmPedict)"
   ]
  },
  {
   "cell_type": "markdown",
   "id": "4db5f70f",
   "metadata": {
    "papermill": {
     "duration": 0.042552,
     "end_time": "2022-05-17T17:39:33.138920",
     "exception": false,
     "start_time": "2022-05-17T17:39:33.096368",
     "status": "completed"
    },
    "tags": []
   },
   "source": [
    "# Test Data\n",
    "Here we will make final predictions for the test dataset."
   ]
  },
  {
   "cell_type": "code",
   "execution_count": 17,
   "id": "139a3d0e",
   "metadata": {
    "execution": {
     "iopub.execute_input": "2022-05-17T17:39:33.228926Z",
     "iopub.status.busy": "2022-05-17T17:39:33.228208Z",
     "iopub.status.idle": "2022-05-17T17:39:35.982144Z",
     "shell.execute_reply": "2022-05-17T17:39:35.981627Z"
    },
    "papermill": {
     "duration": 2.800378,
     "end_time": "2022-05-17T17:39:35.982289",
     "exception": false,
     "start_time": "2022-05-17T17:39:33.181911",
     "status": "completed"
    },
    "tags": []
   },
   "outputs": [
    {
     "data": {
      "text/html": [
       "<div>\n",
       "<style scoped>\n",
       "    .dataframe tbody tr th:only-of-type {\n",
       "        vertical-align: middle;\n",
       "    }\n",
       "\n",
       "    .dataframe tbody tr th {\n",
       "        vertical-align: top;\n",
       "    }\n",
       "\n",
       "    .dataframe thead th {\n",
       "        text-align: right;\n",
       "    }\n",
       "</style>\n",
       "<table border=\"1\" class=\"dataframe\">\n",
       "  <thead>\n",
       "    <tr style=\"text-align: right;\">\n",
       "      <th></th>\n",
       "      <th>ID</th>\n",
       "      <th>var3</th>\n",
       "      <th>var15</th>\n",
       "      <th>imp_ent_var16_ult1</th>\n",
       "      <th>imp_op_var39_comer_ult1</th>\n",
       "      <th>imp_op_var39_comer_ult3</th>\n",
       "      <th>imp_op_var40_comer_ult1</th>\n",
       "      <th>imp_op_var40_comer_ult3</th>\n",
       "      <th>imp_op_var40_efect_ult1</th>\n",
       "      <th>imp_op_var40_efect_ult3</th>\n",
       "      <th>...</th>\n",
       "      <th>saldo_medio_var29_ult3</th>\n",
       "      <th>saldo_medio_var33_hace2</th>\n",
       "      <th>saldo_medio_var33_hace3</th>\n",
       "      <th>saldo_medio_var33_ult1</th>\n",
       "      <th>saldo_medio_var33_ult3</th>\n",
       "      <th>saldo_medio_var44_hace2</th>\n",
       "      <th>saldo_medio_var44_hace3</th>\n",
       "      <th>saldo_medio_var44_ult1</th>\n",
       "      <th>saldo_medio_var44_ult3</th>\n",
       "      <th>var38</th>\n",
       "    </tr>\n",
       "  </thead>\n",
       "  <tbody>\n",
       "    <tr>\n",
       "      <th>0</th>\n",
       "      <td>2</td>\n",
       "      <td>2</td>\n",
       "      <td>32</td>\n",
       "      <td>0.0</td>\n",
       "      <td>0.0</td>\n",
       "      <td>0.0</td>\n",
       "      <td>0.0</td>\n",
       "      <td>0.0</td>\n",
       "      <td>0.0</td>\n",
       "      <td>0.0</td>\n",
       "      <td>...</td>\n",
       "      <td>0.0</td>\n",
       "      <td>0.0</td>\n",
       "      <td>0.0</td>\n",
       "      <td>0.0</td>\n",
       "      <td>0.0</td>\n",
       "      <td>0.0</td>\n",
       "      <td>0.0</td>\n",
       "      <td>0.0</td>\n",
       "      <td>0.0</td>\n",
       "      <td>40532.10</td>\n",
       "    </tr>\n",
       "    <tr>\n",
       "      <th>1</th>\n",
       "      <td>5</td>\n",
       "      <td>2</td>\n",
       "      <td>35</td>\n",
       "      <td>0.0</td>\n",
       "      <td>0.0</td>\n",
       "      <td>0.0</td>\n",
       "      <td>0.0</td>\n",
       "      <td>0.0</td>\n",
       "      <td>0.0</td>\n",
       "      <td>0.0</td>\n",
       "      <td>...</td>\n",
       "      <td>0.0</td>\n",
       "      <td>0.0</td>\n",
       "      <td>0.0</td>\n",
       "      <td>0.0</td>\n",
       "      <td>0.0</td>\n",
       "      <td>0.0</td>\n",
       "      <td>0.0</td>\n",
       "      <td>0.0</td>\n",
       "      <td>0.0</td>\n",
       "      <td>45486.72</td>\n",
       "    </tr>\n",
       "    <tr>\n",
       "      <th>2</th>\n",
       "      <td>6</td>\n",
       "      <td>2</td>\n",
       "      <td>23</td>\n",
       "      <td>0.0</td>\n",
       "      <td>0.0</td>\n",
       "      <td>0.0</td>\n",
       "      <td>0.0</td>\n",
       "      <td>0.0</td>\n",
       "      <td>0.0</td>\n",
       "      <td>0.0</td>\n",
       "      <td>...</td>\n",
       "      <td>0.0</td>\n",
       "      <td>0.0</td>\n",
       "      <td>0.0</td>\n",
       "      <td>0.0</td>\n",
       "      <td>0.0</td>\n",
       "      <td>0.0</td>\n",
       "      <td>0.0</td>\n",
       "      <td>0.0</td>\n",
       "      <td>0.0</td>\n",
       "      <td>46993.95</td>\n",
       "    </tr>\n",
       "    <tr>\n",
       "      <th>3</th>\n",
       "      <td>7</td>\n",
       "      <td>2</td>\n",
       "      <td>24</td>\n",
       "      <td>0.0</td>\n",
       "      <td>0.0</td>\n",
       "      <td>0.0</td>\n",
       "      <td>0.0</td>\n",
       "      <td>0.0</td>\n",
       "      <td>0.0</td>\n",
       "      <td>0.0</td>\n",
       "      <td>...</td>\n",
       "      <td>0.0</td>\n",
       "      <td>0.0</td>\n",
       "      <td>0.0</td>\n",
       "      <td>0.0</td>\n",
       "      <td>0.0</td>\n",
       "      <td>0.0</td>\n",
       "      <td>0.0</td>\n",
       "      <td>0.0</td>\n",
       "      <td>0.0</td>\n",
       "      <td>187898.61</td>\n",
       "    </tr>\n",
       "    <tr>\n",
       "      <th>4</th>\n",
       "      <td>9</td>\n",
       "      <td>2</td>\n",
       "      <td>23</td>\n",
       "      <td>0.0</td>\n",
       "      <td>0.0</td>\n",
       "      <td>0.0</td>\n",
       "      <td>0.0</td>\n",
       "      <td>0.0</td>\n",
       "      <td>0.0</td>\n",
       "      <td>0.0</td>\n",
       "      <td>...</td>\n",
       "      <td>0.0</td>\n",
       "      <td>0.0</td>\n",
       "      <td>0.0</td>\n",
       "      <td>0.0</td>\n",
       "      <td>0.0</td>\n",
       "      <td>0.0</td>\n",
       "      <td>0.0</td>\n",
       "      <td>0.0</td>\n",
       "      <td>0.0</td>\n",
       "      <td>73649.73</td>\n",
       "    </tr>\n",
       "  </tbody>\n",
       "</table>\n",
       "<p>5 rows × 370 columns</p>\n",
       "</div>"
      ],
      "text/plain": [
       "   ID  var3  var15  imp_ent_var16_ult1  imp_op_var39_comer_ult1  \\\n",
       "0   2     2     32                 0.0                      0.0   \n",
       "1   5     2     35                 0.0                      0.0   \n",
       "2   6     2     23                 0.0                      0.0   \n",
       "3   7     2     24                 0.0                      0.0   \n",
       "4   9     2     23                 0.0                      0.0   \n",
       "\n",
       "   imp_op_var39_comer_ult3  imp_op_var40_comer_ult1  imp_op_var40_comer_ult3  \\\n",
       "0                      0.0                      0.0                      0.0   \n",
       "1                      0.0                      0.0                      0.0   \n",
       "2                      0.0                      0.0                      0.0   \n",
       "3                      0.0                      0.0                      0.0   \n",
       "4                      0.0                      0.0                      0.0   \n",
       "\n",
       "   imp_op_var40_efect_ult1  imp_op_var40_efect_ult3  ...  \\\n",
       "0                      0.0                      0.0  ...   \n",
       "1                      0.0                      0.0  ...   \n",
       "2                      0.0                      0.0  ...   \n",
       "3                      0.0                      0.0  ...   \n",
       "4                      0.0                      0.0  ...   \n",
       "\n",
       "   saldo_medio_var29_ult3  saldo_medio_var33_hace2  saldo_medio_var33_hace3  \\\n",
       "0                     0.0                      0.0                      0.0   \n",
       "1                     0.0                      0.0                      0.0   \n",
       "2                     0.0                      0.0                      0.0   \n",
       "3                     0.0                      0.0                      0.0   \n",
       "4                     0.0                      0.0                      0.0   \n",
       "\n",
       "   saldo_medio_var33_ult1  saldo_medio_var33_ult3  saldo_medio_var44_hace2  \\\n",
       "0                     0.0                     0.0                      0.0   \n",
       "1                     0.0                     0.0                      0.0   \n",
       "2                     0.0                     0.0                      0.0   \n",
       "3                     0.0                     0.0                      0.0   \n",
       "4                     0.0                     0.0                      0.0   \n",
       "\n",
       "   saldo_medio_var44_hace3  saldo_medio_var44_ult1  saldo_medio_var44_ult3  \\\n",
       "0                      0.0                     0.0                     0.0   \n",
       "1                      0.0                     0.0                     0.0   \n",
       "2                      0.0                     0.0                     0.0   \n",
       "3                      0.0                     0.0                     0.0   \n",
       "4                      0.0                     0.0                     0.0   \n",
       "\n",
       "       var38  \n",
       "0   40532.10  \n",
       "1   45486.72  \n",
       "2   46993.95  \n",
       "3  187898.61  \n",
       "4   73649.73  \n",
       "\n",
       "[5 rows x 370 columns]"
      ]
     },
     "execution_count": 17,
     "metadata": {},
     "output_type": "execute_result"
    }
   ],
   "source": [
    "testDF=pd.read_csv(test)\n",
    "testDF.head()"
   ]
  },
  {
   "cell_type": "markdown",
   "id": "5e336049",
   "metadata": {
    "papermill": {
     "duration": 0.044696,
     "end_time": "2022-05-17T17:39:36.070801",
     "exception": false,
     "start_time": "2022-05-17T17:39:36.026105",
     "status": "completed"
    },
    "tags": []
   },
   "source": [
    "# Feature Engineer Test Dataset"
   ]
  },
  {
   "cell_type": "code",
   "execution_count": 18,
   "id": "7b8259f0",
   "metadata": {
    "execution": {
     "iopub.execute_input": "2022-05-17T17:39:36.200998Z",
     "iopub.status.busy": "2022-05-17T17:39:36.200244Z",
     "iopub.status.idle": "2022-05-17T17:39:36.347608Z",
     "shell.execute_reply": "2022-05-17T17:39:36.346953Z"
    },
    "papermill": {
     "duration": 0.23322,
     "end_time": "2022-05-17T17:39:36.347754",
     "exception": false,
     "start_time": "2022-05-17T17:39:36.114534",
     "status": "completed"
    },
    "tags": []
   },
   "outputs": [
    {
     "data": {
      "text/html": [
       "<div>\n",
       "<style scoped>\n",
       "    .dataframe tbody tr th:only-of-type {\n",
       "        vertical-align: middle;\n",
       "    }\n",
       "\n",
       "    .dataframe tbody tr th {\n",
       "        vertical-align: top;\n",
       "    }\n",
       "\n",
       "    .dataframe thead th {\n",
       "        text-align: right;\n",
       "    }\n",
       "</style>\n",
       "<table border=\"1\" class=\"dataframe\">\n",
       "  <thead>\n",
       "    <tr style=\"text-align: right;\">\n",
       "      <th></th>\n",
       "      <th>ID</th>\n",
       "      <th>var3</th>\n",
       "      <th>var15</th>\n",
       "      <th>imp_ent_var16_ult1</th>\n",
       "      <th>imp_op_var39_comer_ult1</th>\n",
       "      <th>imp_op_var39_comer_ult3</th>\n",
       "      <th>imp_op_var40_comer_ult1</th>\n",
       "      <th>imp_op_var40_comer_ult3</th>\n",
       "      <th>imp_op_var40_efect_ult1</th>\n",
       "      <th>imp_op_var40_efect_ult3</th>\n",
       "      <th>...</th>\n",
       "      <th>saldo_medio_var13_largo_hace2</th>\n",
       "      <th>saldo_medio_var13_largo_hace3</th>\n",
       "      <th>saldo_medio_var13_medio_hace3</th>\n",
       "      <th>saldo_medio_var29_hace2</th>\n",
       "      <th>saldo_medio_var29_hace3</th>\n",
       "      <th>saldo_medio_var33_hace2</th>\n",
       "      <th>saldo_medio_var33_hace3</th>\n",
       "      <th>saldo_medio_var44_hace2</th>\n",
       "      <th>saldo_medio_var44_hace3</th>\n",
       "      <th>var38</th>\n",
       "    </tr>\n",
       "  </thead>\n",
       "  <tbody>\n",
       "    <tr>\n",
       "      <th>0</th>\n",
       "      <td>2</td>\n",
       "      <td>2</td>\n",
       "      <td>32</td>\n",
       "      <td>0.0</td>\n",
       "      <td>0.0</td>\n",
       "      <td>0.0</td>\n",
       "      <td>0.0</td>\n",
       "      <td>0.0</td>\n",
       "      <td>0.0</td>\n",
       "      <td>0.0</td>\n",
       "      <td>...</td>\n",
       "      <td>0.0</td>\n",
       "      <td>0.0</td>\n",
       "      <td>0</td>\n",
       "      <td>0.0</td>\n",
       "      <td>0</td>\n",
       "      <td>0.0</td>\n",
       "      <td>0.0</td>\n",
       "      <td>0.0</td>\n",
       "      <td>0.0</td>\n",
       "      <td>40532.10</td>\n",
       "    </tr>\n",
       "    <tr>\n",
       "      <th>1</th>\n",
       "      <td>5</td>\n",
       "      <td>2</td>\n",
       "      <td>35</td>\n",
       "      <td>0.0</td>\n",
       "      <td>0.0</td>\n",
       "      <td>0.0</td>\n",
       "      <td>0.0</td>\n",
       "      <td>0.0</td>\n",
       "      <td>0.0</td>\n",
       "      <td>0.0</td>\n",
       "      <td>...</td>\n",
       "      <td>0.0</td>\n",
       "      <td>0.0</td>\n",
       "      <td>0</td>\n",
       "      <td>0.0</td>\n",
       "      <td>0</td>\n",
       "      <td>0.0</td>\n",
       "      <td>0.0</td>\n",
       "      <td>0.0</td>\n",
       "      <td>0.0</td>\n",
       "      <td>45486.72</td>\n",
       "    </tr>\n",
       "    <tr>\n",
       "      <th>2</th>\n",
       "      <td>6</td>\n",
       "      <td>2</td>\n",
       "      <td>23</td>\n",
       "      <td>0.0</td>\n",
       "      <td>0.0</td>\n",
       "      <td>0.0</td>\n",
       "      <td>0.0</td>\n",
       "      <td>0.0</td>\n",
       "      <td>0.0</td>\n",
       "      <td>0.0</td>\n",
       "      <td>...</td>\n",
       "      <td>0.0</td>\n",
       "      <td>0.0</td>\n",
       "      <td>0</td>\n",
       "      <td>0.0</td>\n",
       "      <td>0</td>\n",
       "      <td>0.0</td>\n",
       "      <td>0.0</td>\n",
       "      <td>0.0</td>\n",
       "      <td>0.0</td>\n",
       "      <td>46993.95</td>\n",
       "    </tr>\n",
       "    <tr>\n",
       "      <th>3</th>\n",
       "      <td>7</td>\n",
       "      <td>2</td>\n",
       "      <td>24</td>\n",
       "      <td>0.0</td>\n",
       "      <td>0.0</td>\n",
       "      <td>0.0</td>\n",
       "      <td>0.0</td>\n",
       "      <td>0.0</td>\n",
       "      <td>0.0</td>\n",
       "      <td>0.0</td>\n",
       "      <td>...</td>\n",
       "      <td>0.0</td>\n",
       "      <td>0.0</td>\n",
       "      <td>0</td>\n",
       "      <td>0.0</td>\n",
       "      <td>0</td>\n",
       "      <td>0.0</td>\n",
       "      <td>0.0</td>\n",
       "      <td>0.0</td>\n",
       "      <td>0.0</td>\n",
       "      <td>187898.61</td>\n",
       "    </tr>\n",
       "    <tr>\n",
       "      <th>4</th>\n",
       "      <td>9</td>\n",
       "      <td>2</td>\n",
       "      <td>23</td>\n",
       "      <td>0.0</td>\n",
       "      <td>0.0</td>\n",
       "      <td>0.0</td>\n",
       "      <td>0.0</td>\n",
       "      <td>0.0</td>\n",
       "      <td>0.0</td>\n",
       "      <td>0.0</td>\n",
       "      <td>...</td>\n",
       "      <td>0.0</td>\n",
       "      <td>0.0</td>\n",
       "      <td>0</td>\n",
       "      <td>0.0</td>\n",
       "      <td>0</td>\n",
       "      <td>0.0</td>\n",
       "      <td>0.0</td>\n",
       "      <td>0.0</td>\n",
       "      <td>0.0</td>\n",
       "      <td>73649.73</td>\n",
       "    </tr>\n",
       "  </tbody>\n",
       "</table>\n",
       "<p>5 rows × 204 columns</p>\n",
       "</div>"
      ],
      "text/plain": [
       "   ID  var3  var15  imp_ent_var16_ult1  imp_op_var39_comer_ult1  \\\n",
       "0   2     2     32                 0.0                      0.0   \n",
       "1   5     2     35                 0.0                      0.0   \n",
       "2   6     2     23                 0.0                      0.0   \n",
       "3   7     2     24                 0.0                      0.0   \n",
       "4   9     2     23                 0.0                      0.0   \n",
       "\n",
       "   imp_op_var39_comer_ult3  imp_op_var40_comer_ult1  imp_op_var40_comer_ult3  \\\n",
       "0                      0.0                      0.0                      0.0   \n",
       "1                      0.0                      0.0                      0.0   \n",
       "2                      0.0                      0.0                      0.0   \n",
       "3                      0.0                      0.0                      0.0   \n",
       "4                      0.0                      0.0                      0.0   \n",
       "\n",
       "   imp_op_var40_efect_ult1  imp_op_var40_efect_ult3  ...  \\\n",
       "0                      0.0                      0.0  ...   \n",
       "1                      0.0                      0.0  ...   \n",
       "2                      0.0                      0.0  ...   \n",
       "3                      0.0                      0.0  ...   \n",
       "4                      0.0                      0.0  ...   \n",
       "\n",
       "   saldo_medio_var13_largo_hace2  saldo_medio_var13_largo_hace3  \\\n",
       "0                            0.0                            0.0   \n",
       "1                            0.0                            0.0   \n",
       "2                            0.0                            0.0   \n",
       "3                            0.0                            0.0   \n",
       "4                            0.0                            0.0   \n",
       "\n",
       "   saldo_medio_var13_medio_hace3  saldo_medio_var29_hace2  \\\n",
       "0                              0                      0.0   \n",
       "1                              0                      0.0   \n",
       "2                              0                      0.0   \n",
       "3                              0                      0.0   \n",
       "4                              0                      0.0   \n",
       "\n",
       "   saldo_medio_var29_hace3  saldo_medio_var33_hace2  saldo_medio_var33_hace3  \\\n",
       "0                        0                      0.0                      0.0   \n",
       "1                        0                      0.0                      0.0   \n",
       "2                        0                      0.0                      0.0   \n",
       "3                        0                      0.0                      0.0   \n",
       "4                        0                      0.0                      0.0   \n",
       "\n",
       "   saldo_medio_var44_hace2  saldo_medio_var44_hace3      var38  \n",
       "0                      0.0                      0.0   40532.10  \n",
       "1                      0.0                      0.0   45486.72  \n",
       "2                      0.0                      0.0   46993.95  \n",
       "3                      0.0                      0.0  187898.61  \n",
       "4                      0.0                      0.0   73649.73  \n",
       "\n",
       "[5 rows x 204 columns]"
      ]
     },
     "execution_count": 18,
     "metadata": {},
     "output_type": "execute_result"
    }
   ],
   "source": [
    "features=list(X.columns)\n",
    "testDF=testDF[features]\n",
    "testDF=testDF.fillna(testDF.mean())\n",
    "testDF.head() #5 rows × 105 columns"
   ]
  },
  {
   "cell_type": "markdown",
   "id": "585ba2c2",
   "metadata": {
    "papermill": {
     "duration": 0.044684,
     "end_time": "2022-05-17T17:39:36.437816",
     "exception": false,
     "start_time": "2022-05-17T17:39:36.393132",
     "status": "completed"
    },
    "tags": []
   },
   "source": [
    "# Create Final Predictions"
   ]
  },
  {
   "cell_type": "code",
   "execution_count": 19,
   "id": "ee9b3077",
   "metadata": {
    "execution": {
     "iopub.execute_input": "2022-05-17T17:39:36.540775Z",
     "iopub.status.busy": "2022-05-17T17:39:36.540067Z",
     "iopub.status.idle": "2022-05-17T17:39:38.066886Z",
     "shell.execute_reply": "2022-05-17T17:39:38.066220Z"
    },
    "papermill": {
     "duration": 1.583777,
     "end_time": "2022-05-17T17:39:38.067032",
     "exception": false,
     "start_time": "2022-05-17T17:39:36.483255",
     "status": "completed"
    },
    "tags": []
   },
   "outputs": [
    {
     "name": "stdout",
     "output_type": "stream",
     "text": [
      "(75818, 2)\n"
     ]
    },
    {
     "data": {
      "text/html": [
       "<div>\n",
       "<style scoped>\n",
       "    .dataframe tbody tr th:only-of-type {\n",
       "        vertical-align: middle;\n",
       "    }\n",
       "\n",
       "    .dataframe tbody tr th {\n",
       "        vertical-align: top;\n",
       "    }\n",
       "\n",
       "    .dataframe thead th {\n",
       "        text-align: right;\n",
       "    }\n",
       "</style>\n",
       "<table border=\"1\" class=\"dataframe\">\n",
       "  <thead>\n",
       "    <tr style=\"text-align: right;\">\n",
       "      <th></th>\n",
       "      <th>ID</th>\n",
       "      <th>TARGET</th>\n",
       "    </tr>\n",
       "  </thead>\n",
       "  <tbody>\n",
       "    <tr>\n",
       "      <th>0</th>\n",
       "      <td>2</td>\n",
       "      <td>0.0</td>\n",
       "    </tr>\n",
       "    <tr>\n",
       "      <th>1</th>\n",
       "      <td>5</td>\n",
       "      <td>0.0</td>\n",
       "    </tr>\n",
       "    <tr>\n",
       "      <th>2</th>\n",
       "      <td>6</td>\n",
       "      <td>0.0</td>\n",
       "    </tr>\n",
       "    <tr>\n",
       "      <th>3</th>\n",
       "      <td>7</td>\n",
       "      <td>0.0</td>\n",
       "    </tr>\n",
       "    <tr>\n",
       "      <th>4</th>\n",
       "      <td>9</td>\n",
       "      <td>0.0</td>\n",
       "    </tr>\n",
       "  </tbody>\n",
       "</table>\n",
       "</div>"
      ],
      "text/plain": [
       "   ID  TARGET\n",
       "0   2     0.0\n",
       "1   5     0.0\n",
       "2   6     0.0\n",
       "3   7     0.0\n",
       "4   9     0.0"
      ]
     },
     "execution_count": 19,
     "metadata": {},
     "output_type": "execute_result"
    }
   ],
   "source": [
    "test_predictions = reg.predict(testDF).round(1)\n",
    "test_predictions=np.where(test_predictions<0, 0, test_predictions)\n",
    "ID=testDF['ID']\n",
    "tupleData = list(zip(ID, test_predictions))\n",
    "output = pd.DataFrame(tupleData, columns = ['ID', 'TARGET'])\n",
    "print(output.shape)\n",
    "output.head()"
   ]
  },
  {
   "cell_type": "markdown",
   "id": "eb6679fd",
   "metadata": {
    "papermill": {
     "duration": 0.045372,
     "end_time": "2022-05-17T17:39:38.159760",
     "exception": false,
     "start_time": "2022-05-17T17:39:38.114388",
     "status": "completed"
    },
    "tags": []
   },
   "source": [
    "#### Final Summission"
   ]
  },
  {
   "cell_type": "code",
   "execution_count": 20,
   "id": "1e351ea9",
   "metadata": {
    "execution": {
     "iopub.execute_input": "2022-05-17T17:39:38.256656Z",
     "iopub.status.busy": "2022-05-17T17:39:38.255971Z",
     "iopub.status.idle": "2022-05-17T17:39:38.425917Z",
     "shell.execute_reply": "2022-05-17T17:39:38.426460Z"
    },
    "papermill": {
     "duration": 0.221014,
     "end_time": "2022-05-17T17:39:38.426673",
     "exception": false,
     "start_time": "2022-05-17T17:39:38.205659",
     "status": "completed"
    },
    "tags": []
   },
   "outputs": [
    {
     "name": "stdout",
     "output_type": "stream",
     "text": [
      "Your submission was successfully saved!\n"
     ]
    }
   ],
   "source": [
    "output.to_csv('submission.csv', index=False)\n",
    "print(\"Your submission was successfully saved!\")"
   ]
  }
 ],
 "metadata": {
  "kernelspec": {
   "display_name": "Python 3",
   "language": "python",
   "name": "python3"
  },
  "language_info": {
   "codemirror_mode": {
    "name": "ipython",
    "version": 3
   },
   "file_extension": ".py",
   "mimetype": "text/x-python",
   "name": "python",
   "nbconvert_exporter": "python",
   "pygments_lexer": "ipython3",
   "version": "3.7.12"
  },
  "papermill": {
   "default_parameters": {},
   "duration": 190.512543,
   "end_time": "2022-05-17T17:39:39.284813",
   "environment_variables": {},
   "exception": null,
   "input_path": "__notebook__.ipynb",
   "output_path": "__notebook__.ipynb",
   "parameters": {},
   "start_time": "2022-05-17T17:36:28.772270",
   "version": "2.3.3"
  }
 },
 "nbformat": 4,
 "nbformat_minor": 5
}
