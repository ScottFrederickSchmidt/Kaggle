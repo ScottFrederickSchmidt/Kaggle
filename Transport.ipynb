{
 "cells": [
  {
   "cell_type": "markdown",
   "id": "534ca133",
   "metadata": {
    "papermill": {
     "duration": 0.038768,
     "end_time": "2022-05-17T13:21:30.084525",
     "exception": false,
     "start_time": "2022-05-17T13:21:30.045757",
     "status": "completed"
    },
    "tags": []
   },
   "source": [
    "# Transportion Prediction\n",
    "Predict whether a passenger was transported using personal records."
   ]
  },
  {
   "cell_type": "code",
   "execution_count": 1,
   "id": "0b6b91a1",
   "metadata": {
    "execution": {
     "iopub.execute_input": "2022-05-17T13:21:30.161266Z",
     "iopub.status.busy": "2022-05-17T13:21:30.160703Z",
     "iopub.status.idle": "2022-05-17T13:21:31.811714Z",
     "shell.execute_reply": "2022-05-17T13:21:31.810828Z"
    },
    "papermill": {
     "duration": 1.692496,
     "end_time": "2022-05-17T13:21:31.814375",
     "exception": false,
     "start_time": "2022-05-17T13:21:30.121879",
     "status": "completed"
    },
    "tags": []
   },
   "outputs": [
    {
     "data": {
      "text/html": [
       "<div>\n",
       "<style scoped>\n",
       "    .dataframe tbody tr th:only-of-type {\n",
       "        vertical-align: middle;\n",
       "    }\n",
       "\n",
       "    .dataframe tbody tr th {\n",
       "        vertical-align: top;\n",
       "    }\n",
       "\n",
       "    .dataframe thead th {\n",
       "        text-align: right;\n",
       "    }\n",
       "</style>\n",
       "<table border=\"1\" class=\"dataframe\">\n",
       "  <thead>\n",
       "    <tr style=\"text-align: right;\">\n",
       "      <th></th>\n",
       "      <th>PassengerId</th>\n",
       "      <th>HomePlanet</th>\n",
       "      <th>CryoSleep</th>\n",
       "      <th>Cabin</th>\n",
       "      <th>Destination</th>\n",
       "      <th>Age</th>\n",
       "      <th>VIP</th>\n",
       "      <th>RoomService</th>\n",
       "      <th>FoodCourt</th>\n",
       "      <th>ShoppingMall</th>\n",
       "      <th>Spa</th>\n",
       "      <th>VRDeck</th>\n",
       "      <th>Name</th>\n",
       "      <th>Transported</th>\n",
       "    </tr>\n",
       "  </thead>\n",
       "  <tbody>\n",
       "    <tr>\n",
       "      <th>0</th>\n",
       "      <td>0001_01</td>\n",
       "      <td>Europa</td>\n",
       "      <td>False</td>\n",
       "      <td>B/0/P</td>\n",
       "      <td>TRAPPIST-1e</td>\n",
       "      <td>39.0</td>\n",
       "      <td>False</td>\n",
       "      <td>0.0</td>\n",
       "      <td>0.0</td>\n",
       "      <td>0.0</td>\n",
       "      <td>0.0</td>\n",
       "      <td>0.0</td>\n",
       "      <td>Maham Ofracculy</td>\n",
       "      <td>False</td>\n",
       "    </tr>\n",
       "    <tr>\n",
       "      <th>1</th>\n",
       "      <td>0002_01</td>\n",
       "      <td>Earth</td>\n",
       "      <td>False</td>\n",
       "      <td>F/0/S</td>\n",
       "      <td>TRAPPIST-1e</td>\n",
       "      <td>24.0</td>\n",
       "      <td>False</td>\n",
       "      <td>109.0</td>\n",
       "      <td>9.0</td>\n",
       "      <td>25.0</td>\n",
       "      <td>549.0</td>\n",
       "      <td>44.0</td>\n",
       "      <td>Juanna Vines</td>\n",
       "      <td>True</td>\n",
       "    </tr>\n",
       "    <tr>\n",
       "      <th>2</th>\n",
       "      <td>0003_01</td>\n",
       "      <td>Europa</td>\n",
       "      <td>False</td>\n",
       "      <td>A/0/S</td>\n",
       "      <td>TRAPPIST-1e</td>\n",
       "      <td>58.0</td>\n",
       "      <td>True</td>\n",
       "      <td>43.0</td>\n",
       "      <td>3576.0</td>\n",
       "      <td>0.0</td>\n",
       "      <td>6715.0</td>\n",
       "      <td>49.0</td>\n",
       "      <td>Altark Susent</td>\n",
       "      <td>False</td>\n",
       "    </tr>\n",
       "    <tr>\n",
       "      <th>3</th>\n",
       "      <td>0003_02</td>\n",
       "      <td>Europa</td>\n",
       "      <td>False</td>\n",
       "      <td>A/0/S</td>\n",
       "      <td>TRAPPIST-1e</td>\n",
       "      <td>33.0</td>\n",
       "      <td>False</td>\n",
       "      <td>0.0</td>\n",
       "      <td>1283.0</td>\n",
       "      <td>371.0</td>\n",
       "      <td>3329.0</td>\n",
       "      <td>193.0</td>\n",
       "      <td>Solam Susent</td>\n",
       "      <td>False</td>\n",
       "    </tr>\n",
       "    <tr>\n",
       "      <th>4</th>\n",
       "      <td>0004_01</td>\n",
       "      <td>Earth</td>\n",
       "      <td>False</td>\n",
       "      <td>F/1/S</td>\n",
       "      <td>TRAPPIST-1e</td>\n",
       "      <td>16.0</td>\n",
       "      <td>False</td>\n",
       "      <td>303.0</td>\n",
       "      <td>70.0</td>\n",
       "      <td>151.0</td>\n",
       "      <td>565.0</td>\n",
       "      <td>2.0</td>\n",
       "      <td>Willy Santantines</td>\n",
       "      <td>True</td>\n",
       "    </tr>\n",
       "  </tbody>\n",
       "</table>\n",
       "</div>"
      ],
      "text/plain": [
       "  PassengerId HomePlanet CryoSleep  Cabin  Destination   Age    VIP  \\\n",
       "0     0001_01     Europa     False  B/0/P  TRAPPIST-1e  39.0  False   \n",
       "1     0002_01      Earth     False  F/0/S  TRAPPIST-1e  24.0  False   \n",
       "2     0003_01     Europa     False  A/0/S  TRAPPIST-1e  58.0   True   \n",
       "3     0003_02     Europa     False  A/0/S  TRAPPIST-1e  33.0  False   \n",
       "4     0004_01      Earth     False  F/1/S  TRAPPIST-1e  16.0  False   \n",
       "\n",
       "   RoomService  FoodCourt  ShoppingMall     Spa  VRDeck               Name  \\\n",
       "0          0.0        0.0           0.0     0.0     0.0    Maham Ofracculy   \n",
       "1        109.0        9.0          25.0   549.0    44.0       Juanna Vines   \n",
       "2         43.0     3576.0           0.0  6715.0    49.0      Altark Susent   \n",
       "3          0.0     1283.0         371.0  3329.0   193.0       Solam Susent   \n",
       "4        303.0       70.0         151.0   565.0     2.0  Willy Santantines   \n",
       "\n",
       "   Transported  \n",
       "0        False  \n",
       "1         True  \n",
       "2        False  \n",
       "3        False  \n",
       "4         True  "
      ]
     },
     "execution_count": 1,
     "metadata": {},
     "output_type": "execute_result"
    }
   ],
   "source": [
    "import numpy as np\n",
    "import pandas as pd\n",
    "import seaborn as sns\n",
    "import matplotlib.pyplot as plt\n",
    "from sklearn.model_selection import train_test_split, cross_validate, StratifiedKFold\n",
    "from statistics import mean\n",
    "from sklearn.metrics import mean_absolute_error, mean_squared_error, r2_score\n",
    "from sklearn.datasets import make_classification\n",
    "from sklearn import ensemble\n",
    "import sklearn.metrics as metrics\n",
    "import time\n",
    "\n",
    "train=r'/kaggle/input/spaceship-titanic/train.csv'\n",
    "test=r'/kaggle/input/spaceship-titanic/test.csv'\n",
    "\n",
    "df=pd.read_csv(train)\n",
    "df.head()"
   ]
  },
  {
   "cell_type": "markdown",
   "id": "c70f9b69",
   "metadata": {
    "papermill": {
     "duration": 0.042052,
     "end_time": "2022-05-17T13:21:31.895960",
     "exception": false,
     "start_time": "2022-05-17T13:21:31.853908",
     "status": "completed"
    },
    "tags": []
   },
   "source": [
    "# Target Variable\n",
    "Transported is in independent variable being analyzed with 4378 survived and 4315 did not survive. "
   ]
  },
  {
   "cell_type": "code",
   "execution_count": 2,
   "id": "0c3af20f",
   "metadata": {
    "execution": {
     "iopub.execute_input": "2022-05-17T13:21:31.976407Z",
     "iopub.status.busy": "2022-05-17T13:21:31.976109Z",
     "iopub.status.idle": "2022-05-17T13:21:32.000930Z",
     "shell.execute_reply": "2022-05-17T13:21:32.000222Z"
    },
    "papermill": {
     "duration": 0.066582,
     "end_time": "2022-05-17T13:21:32.003088",
     "exception": false,
     "start_time": "2022-05-17T13:21:31.936506",
     "status": "completed"
    },
    "tags": []
   },
   "outputs": [],
   "source": [
    "df['Transported']=df['Transported'].astype('str').replace({'False':0, 'True':1})"
   ]
  },
  {
   "cell_type": "code",
   "execution_count": 3,
   "id": "04d27dca",
   "metadata": {
    "execution": {
     "iopub.execute_input": "2022-05-17T13:21:32.080954Z",
     "iopub.status.busy": "2022-05-17T13:21:32.080363Z",
     "iopub.status.idle": "2022-05-17T13:21:32.090013Z",
     "shell.execute_reply": "2022-05-17T13:21:32.089341Z"
    },
    "papermill": {
     "duration": 0.05083,
     "end_time": "2022-05-17T13:21:32.091872",
     "exception": false,
     "start_time": "2022-05-17T13:21:32.041042",
     "status": "completed"
    },
    "tags": []
   },
   "outputs": [
    {
     "data": {
      "text/plain": [
       "1    4378\n",
       "0    4315\n",
       "Name: Transported, dtype: int64"
      ]
     },
     "execution_count": 3,
     "metadata": {},
     "output_type": "execute_result"
    }
   ],
   "source": [
    "df['Transported'].value_counts()"
   ]
  },
  {
   "cell_type": "markdown",
   "id": "62f7d051",
   "metadata": {
    "papermill": {
     "duration": 0.03854,
     "end_time": "2022-05-17T13:21:32.169360",
     "exception": false,
     "start_time": "2022-05-17T13:21:32.130820",
     "status": "completed"
    },
    "tags": []
   },
   "source": [
    "# Find Missing Values"
   ]
  },
  {
   "cell_type": "code",
   "execution_count": 4,
   "id": "21bf7e1a",
   "metadata": {
    "execution": {
     "iopub.execute_input": "2022-05-17T13:21:32.248344Z",
     "iopub.status.busy": "2022-05-17T13:21:32.247822Z",
     "iopub.status.idle": "2022-05-17T13:21:32.263863Z",
     "shell.execute_reply": "2022-05-17T13:21:32.262517Z"
    },
    "papermill": {
     "duration": 0.058248,
     "end_time": "2022-05-17T13:21:32.266130",
     "exception": false,
     "start_time": "2022-05-17T13:21:32.207882",
     "status": "completed"
    },
    "tags": []
   },
   "outputs": [
    {
     "name": "stdout",
     "output_type": "stream",
     "text": [
      "Missing data by column as a percent:\n",
      "CryoSleep       0.024963\n",
      "ShoppingMall    0.023927\n",
      "VIP             0.023352\n",
      "HomePlanet      0.023122\n",
      "dtype: float64\n"
     ]
    }
   ],
   "source": [
    "#search for columns with missing values:\n",
    "def findNA():\n",
    "    print(\"Missing data by column as a percent:\")\n",
    "    findNA=df.isnull().sum().sort_values(ascending=False)/len(df)\n",
    "    print(findNA.head(4))\n",
    "findNA() "
   ]
  },
  {
   "cell_type": "markdown",
   "id": "4346c4b5",
   "metadata": {
    "papermill": {
     "duration": 0.038439,
     "end_time": "2022-05-17T13:21:32.344057",
     "exception": false,
     "start_time": "2022-05-17T13:21:32.305618",
     "status": "completed"
    },
    "tags": []
   },
   "source": [
    "# Find Categorical Variables"
   ]
  },
  {
   "cell_type": "code",
   "execution_count": 5,
   "id": "71cd735f",
   "metadata": {
    "execution": {
     "iopub.execute_input": "2022-05-17T13:21:32.424819Z",
     "iopub.status.busy": "2022-05-17T13:21:32.424542Z",
     "iopub.status.idle": "2022-05-17T13:21:32.466904Z",
     "shell.execute_reply": "2022-05-17T13:21:32.466181Z"
    },
    "papermill": {
     "duration": 0.086149,
     "end_time": "2022-05-17T13:21:32.469007",
     "exception": false,
     "start_time": "2022-05-17T13:21:32.382858",
     "status": "completed"
    },
    "tags": []
   },
   "outputs": [
    {
     "name": "stdout",
     "output_type": "stream",
     "text": [
      "PassengerId\n",
      "0001_01    1\n",
      "6136_01    1\n",
      "6141_01    1\n",
      "6139_06    1\n",
      "6139_05    1\n",
      "          ..\n",
      "3126_01    1\n",
      "3124_03    1\n",
      "3124_02    1\n",
      "3124_01    1\n",
      "9280_02    1\n",
      "Name: PassengerId, Length: 8693, dtype: int64\n",
      "\n",
      "HomePlanet\n",
      "Earth     4602\n",
      "Europa    2131\n",
      "Mars      1759\n",
      "Name: HomePlanet, dtype: int64\n",
      "\n",
      "CryoSleep\n",
      "False    5439\n",
      "True     3037\n",
      "Name: CryoSleep, dtype: int64\n",
      "\n",
      "Cabin\n",
      "G/734/S     8\n",
      "G/109/P     7\n",
      "B/201/P     7\n",
      "G/1368/P    7\n",
      "G/981/S     7\n",
      "           ..\n",
      "G/556/P     1\n",
      "E/231/S     1\n",
      "G/545/S     1\n",
      "G/543/S     1\n",
      "F/947/P     1\n",
      "Name: Cabin, Length: 6560, dtype: int64\n",
      "\n",
      "Destination\n",
      "TRAPPIST-1e      5915\n",
      "55 Cancri e      1800\n",
      "PSO J318.5-22     796\n",
      "Name: Destination, dtype: int64\n",
      "\n",
      "VIP\n",
      "False    8291\n",
      "True      199\n",
      "Name: VIP, dtype: int64\n",
      "\n",
      "Name\n",
      "Gollux Reedall        2\n",
      "Elaney Webstephrey    2\n",
      "Grake Porki           2\n",
      "Sus Coolez            2\n",
      "Apix Wala             2\n",
      "                     ..\n",
      "Jamela Griffy         1\n",
      "Hardy Griffy          1\n",
      "Salley Mckinn         1\n",
      "Mall Frasp            1\n",
      "Propsh Hontichre      1\n",
      "Name: Name, Length: 8473, dtype: int64\n",
      "\n"
     ]
    }
   ],
   "source": [
    "cols=df.select_dtypes(include='object').columns\n",
    "for col in cols:\n",
    "    print(col)\n",
    "    print(df[col].value_counts())\n",
    "    print(\"\")"
   ]
  },
  {
   "cell_type": "markdown",
   "id": "bd9c01f6",
   "metadata": {
    "papermill": {
     "duration": 0.039128,
     "end_time": "2022-05-17T13:21:32.549163",
     "exception": false,
     "start_time": "2022-05-17T13:21:32.510035",
     "status": "completed"
    },
    "tags": []
   },
   "source": [
    "# Feature Engineer"
   ]
  },
  {
   "cell_type": "code",
   "execution_count": 6,
   "id": "69744424",
   "metadata": {
    "execution": {
     "iopub.execute_input": "2022-05-17T13:21:32.629936Z",
     "iopub.status.busy": "2022-05-17T13:21:32.629657Z",
     "iopub.status.idle": "2022-05-17T13:21:32.654825Z",
     "shell.execute_reply": "2022-05-17T13:21:32.654113Z"
    },
    "papermill": {
     "duration": 0.06804,
     "end_time": "2022-05-17T13:21:32.657008",
     "exception": false,
     "start_time": "2022-05-17T13:21:32.588968",
     "status": "completed"
    },
    "tags": []
   },
   "outputs": [],
   "source": [
    "df['VIP']=df['VIP'].astype('str').replace({'False':0, 'True':1})\n",
    "df['CryoSleep']=df['CryoSleep'].astype('str').replace({'False':0, 'True':1})\n",
    "df['HomePlanet']=df['HomePlanet'].replace({'Earth':2, 'Europa':1, 'Mars':0})"
   ]
  },
  {
   "cell_type": "code",
   "execution_count": 7,
   "id": "cc779796",
   "metadata": {
    "execution": {
     "iopub.execute_input": "2022-05-17T13:21:32.738850Z",
     "iopub.status.busy": "2022-05-17T13:21:32.738416Z",
     "iopub.status.idle": "2022-05-17T13:21:32.754991Z",
     "shell.execute_reply": "2022-05-17T13:21:32.754370Z"
    },
    "papermill": {
     "duration": 0.059857,
     "end_time": "2022-05-17T13:21:32.756796",
     "exception": false,
     "start_time": "2022-05-17T13:21:32.696939",
     "status": "completed"
    },
    "tags": []
   },
   "outputs": [
    {
     "data": {
      "text/plain": [
       "F    2794\n",
       "G    2559\n",
       "E     876\n",
       "B     779\n",
       "C     747\n",
       "D     478\n",
       "A     256\n",
       "n     199\n",
       "T       5\n",
       "Name: Cabin, dtype: int64"
      ]
     },
     "execution_count": 7,
     "metadata": {},
     "output_type": "execute_result"
    }
   ],
   "source": [
    "df['Cabin']=df['Cabin'].astype('str').str[0]\n",
    "df['Cabin'].value_counts()"
   ]
  },
  {
   "cell_type": "code",
   "execution_count": 8,
   "id": "8dfe1f42",
   "metadata": {
    "execution": {
     "iopub.execute_input": "2022-05-17T13:21:32.841582Z",
     "iopub.status.busy": "2022-05-17T13:21:32.841024Z",
     "iopub.status.idle": "2022-05-17T13:21:32.857236Z",
     "shell.execute_reply": "2022-05-17T13:21:32.856553Z"
    },
    "papermill": {
     "duration": 0.060916,
     "end_time": "2022-05-17T13:21:32.859394",
     "exception": false,
     "start_time": "2022-05-17T13:21:32.798478",
     "status": "completed"
    },
    "tags": []
   },
   "outputs": [],
   "source": [
    "cabinDic={'A':0, 'B':1, 'C':2, 'D':3, 'E':4, 'F':5, 'G':6, 'n':7, 'T':8}\n",
    "df['Cabin']=df['Cabin'].replace(cabinDic)"
   ]
  },
  {
   "cell_type": "code",
   "execution_count": 9,
   "id": "362b8f6c",
   "metadata": {
    "execution": {
     "iopub.execute_input": "2022-05-17T13:21:32.942611Z",
     "iopub.status.busy": "2022-05-17T13:21:32.942054Z",
     "iopub.status.idle": "2022-05-17T13:21:32.959070Z",
     "shell.execute_reply": "2022-05-17T13:21:32.958406Z"
    },
    "papermill": {
     "duration": 0.060725,
     "end_time": "2022-05-17T13:21:32.961155",
     "exception": false,
     "start_time": "2022-05-17T13:21:32.900430",
     "status": "completed"
    },
    "tags": []
   },
   "outputs": [],
   "source": [
    "df['Destination']=df['Destination'].astype('str').str[0]\n",
    "destDic={'T':2, '5':1, 'P':0}\n",
    "df['Destination']=df['Destination'].replace(destDic)"
   ]
  },
  {
   "cell_type": "code",
   "execution_count": 10,
   "id": "f2a6af0b",
   "metadata": {
    "execution": {
     "iopub.execute_input": "2022-05-17T13:21:33.043929Z",
     "iopub.status.busy": "2022-05-17T13:21:33.043412Z",
     "iopub.status.idle": "2022-05-17T13:21:34.954180Z",
     "shell.execute_reply": "2022-05-17T13:21:34.953506Z"
    },
    "papermill": {
     "duration": 1.955036,
     "end_time": "2022-05-17T13:21:34.956281",
     "exception": false,
     "start_time": "2022-05-17T13:21:33.001245",
     "status": "completed"
    },
    "tags": []
   },
   "outputs": [],
   "source": [
    "df[['First','Last']] = df.Name.apply(\n",
    "   lambda x: pd.Series(str(x).split(\" \")))"
   ]
  },
  {
   "cell_type": "code",
   "execution_count": 11,
   "id": "ea7ef483",
   "metadata": {
    "execution": {
     "iopub.execute_input": "2022-05-17T13:21:35.039693Z",
     "iopub.status.busy": "2022-05-17T13:21:35.039123Z",
     "iopub.status.idle": "2022-05-17T13:21:35.044577Z",
     "shell.execute_reply": "2022-05-17T13:21:35.043666Z"
    },
    "papermill": {
     "duration": 0.049843,
     "end_time": "2022-05-17T13:21:35.046476",
     "exception": false,
     "start_time": "2022-05-17T13:21:34.996633",
     "status": "completed"
    },
    "tags": []
   },
   "outputs": [
    {
     "data": {
      "text/plain": [
       "\"\\nlastList=[]\\nlastUnique=list(df['Last'].unique())\\nfor name in df['Last']:\\n    print(name)\\n    if str(name) not in lastUnique:\\n        lastList.append(1)\\n    else:\\n        lastList.append(0)\\ndf = df.assign(Alone = lastList)\\ndf['Alone'].value_counts()\\n\""
      ]
     },
     "execution_count": 11,
     "metadata": {},
     "output_type": "execute_result"
    }
   ],
   "source": [
    "'''\n",
    "lastList=[]\n",
    "lastUnique=list(df['Last'].unique())\n",
    "for name in df['Last']:\n",
    "    print(name)\n",
    "    if str(name) not in lastUnique:\n",
    "        lastList.append(1)\n",
    "    else:\n",
    "        lastList.append(0)\n",
    "df = df.assign(Alone = lastList)\n",
    "df['Alone'].value_counts()\n",
    "'''"
   ]
  },
  {
   "cell_type": "code",
   "execution_count": 12,
   "id": "cf7fbc70",
   "metadata": {
    "execution": {
     "iopub.execute_input": "2022-05-17T13:21:35.129170Z",
     "iopub.status.busy": "2022-05-17T13:21:35.128591Z",
     "iopub.status.idle": "2022-05-17T13:21:35.148865Z",
     "shell.execute_reply": "2022-05-17T13:21:35.148299Z"
    },
    "papermill": {
     "duration": 0.063693,
     "end_time": "2022-05-17T13:21:35.150614",
     "exception": false,
     "start_time": "2022-05-17T13:21:35.086921",
     "status": "completed"
    },
    "tags": []
   },
   "outputs": [
    {
     "data": {
      "text/html": [
       "<div>\n",
       "<style scoped>\n",
       "    .dataframe tbody tr th:only-of-type {\n",
       "        vertical-align: middle;\n",
       "    }\n",
       "\n",
       "    .dataframe tbody tr th {\n",
       "        vertical-align: top;\n",
       "    }\n",
       "\n",
       "    .dataframe thead th {\n",
       "        text-align: right;\n",
       "    }\n",
       "</style>\n",
       "<table border=\"1\" class=\"dataframe\">\n",
       "  <thead>\n",
       "    <tr style=\"text-align: right;\">\n",
       "      <th></th>\n",
       "      <th>PassengerId</th>\n",
       "      <th>HomePlanet</th>\n",
       "      <th>CryoSleep</th>\n",
       "      <th>Cabin</th>\n",
       "      <th>Destination</th>\n",
       "      <th>Age</th>\n",
       "      <th>VIP</th>\n",
       "      <th>RoomService</th>\n",
       "      <th>FoodCourt</th>\n",
       "      <th>ShoppingMall</th>\n",
       "      <th>Spa</th>\n",
       "      <th>VRDeck</th>\n",
       "      <th>Name</th>\n",
       "      <th>Transported</th>\n",
       "      <th>First</th>\n",
       "      <th>Last</th>\n",
       "    </tr>\n",
       "  </thead>\n",
       "  <tbody>\n",
       "    <tr>\n",
       "      <th>0</th>\n",
       "      <td>0001_01</td>\n",
       "      <td>1.0</td>\n",
       "      <td>0</td>\n",
       "      <td>1</td>\n",
       "      <td>2</td>\n",
       "      <td>39.0</td>\n",
       "      <td>0</td>\n",
       "      <td>0.0</td>\n",
       "      <td>0.0</td>\n",
       "      <td>0.0</td>\n",
       "      <td>0.0</td>\n",
       "      <td>0.0</td>\n",
       "      <td>Maham Ofracculy</td>\n",
       "      <td>0</td>\n",
       "      <td>Maham</td>\n",
       "      <td>Ofracculy</td>\n",
       "    </tr>\n",
       "    <tr>\n",
       "      <th>1</th>\n",
       "      <td>0002_01</td>\n",
       "      <td>2.0</td>\n",
       "      <td>0</td>\n",
       "      <td>5</td>\n",
       "      <td>2</td>\n",
       "      <td>24.0</td>\n",
       "      <td>0</td>\n",
       "      <td>109.0</td>\n",
       "      <td>9.0</td>\n",
       "      <td>25.0</td>\n",
       "      <td>549.0</td>\n",
       "      <td>44.0</td>\n",
       "      <td>Juanna Vines</td>\n",
       "      <td>1</td>\n",
       "      <td>Juanna</td>\n",
       "      <td>Vines</td>\n",
       "    </tr>\n",
       "    <tr>\n",
       "      <th>2</th>\n",
       "      <td>0003_01</td>\n",
       "      <td>1.0</td>\n",
       "      <td>0</td>\n",
       "      <td>0</td>\n",
       "      <td>2</td>\n",
       "      <td>58.0</td>\n",
       "      <td>1</td>\n",
       "      <td>43.0</td>\n",
       "      <td>3576.0</td>\n",
       "      <td>0.0</td>\n",
       "      <td>6715.0</td>\n",
       "      <td>49.0</td>\n",
       "      <td>Altark Susent</td>\n",
       "      <td>0</td>\n",
       "      <td>Altark</td>\n",
       "      <td>Susent</td>\n",
       "    </tr>\n",
       "    <tr>\n",
       "      <th>3</th>\n",
       "      <td>0003_02</td>\n",
       "      <td>1.0</td>\n",
       "      <td>0</td>\n",
       "      <td>0</td>\n",
       "      <td>2</td>\n",
       "      <td>33.0</td>\n",
       "      <td>0</td>\n",
       "      <td>0.0</td>\n",
       "      <td>1283.0</td>\n",
       "      <td>371.0</td>\n",
       "      <td>3329.0</td>\n",
       "      <td>193.0</td>\n",
       "      <td>Solam Susent</td>\n",
       "      <td>0</td>\n",
       "      <td>Solam</td>\n",
       "      <td>Susent</td>\n",
       "    </tr>\n",
       "    <tr>\n",
       "      <th>4</th>\n",
       "      <td>0004_01</td>\n",
       "      <td>2.0</td>\n",
       "      <td>0</td>\n",
       "      <td>5</td>\n",
       "      <td>2</td>\n",
       "      <td>16.0</td>\n",
       "      <td>0</td>\n",
       "      <td>303.0</td>\n",
       "      <td>70.0</td>\n",
       "      <td>151.0</td>\n",
       "      <td>565.0</td>\n",
       "      <td>2.0</td>\n",
       "      <td>Willy Santantines</td>\n",
       "      <td>1</td>\n",
       "      <td>Willy</td>\n",
       "      <td>Santantines</td>\n",
       "    </tr>\n",
       "  </tbody>\n",
       "</table>\n",
       "</div>"
      ],
      "text/plain": [
       "  PassengerId  HomePlanet CryoSleep  Cabin Destination   Age VIP  RoomService  \\\n",
       "0     0001_01         1.0         0      1           2  39.0   0          0.0   \n",
       "1     0002_01         2.0         0      5           2  24.0   0        109.0   \n",
       "2     0003_01         1.0         0      0           2  58.0   1         43.0   \n",
       "3     0003_02         1.0         0      0           2  33.0   0          0.0   \n",
       "4     0004_01         2.0         0      5           2  16.0   0        303.0   \n",
       "\n",
       "   FoodCourt  ShoppingMall     Spa  VRDeck               Name  Transported  \\\n",
       "0        0.0           0.0     0.0     0.0    Maham Ofracculy            0   \n",
       "1        9.0          25.0   549.0    44.0       Juanna Vines            1   \n",
       "2     3576.0           0.0  6715.0    49.0      Altark Susent            0   \n",
       "3     1283.0         371.0  3329.0   193.0       Solam Susent            0   \n",
       "4       70.0         151.0   565.0     2.0  Willy Santantines            1   \n",
       "\n",
       "    First         Last  \n",
       "0   Maham    Ofracculy  \n",
       "1  Juanna        Vines  \n",
       "2  Altark       Susent  \n",
       "3   Solam       Susent  \n",
       "4   Willy  Santantines  "
      ]
     },
     "execution_count": 12,
     "metadata": {},
     "output_type": "execute_result"
    }
   ],
   "source": [
    "df.head()"
   ]
  },
  {
   "cell_type": "markdown",
   "id": "04f55f84",
   "metadata": {
    "papermill": {
     "duration": 0.040658,
     "end_time": "2022-05-17T13:21:35.232319",
     "exception": false,
     "start_time": "2022-05-17T13:21:35.191661",
     "status": "completed"
    },
    "tags": []
   },
   "source": [
    "# Numeric DataFrame"
   ]
  },
  {
   "cell_type": "code",
   "execution_count": 13,
   "id": "c7fa3132",
   "metadata": {
    "execution": {
     "iopub.execute_input": "2022-05-17T13:21:35.316462Z",
     "iopub.status.busy": "2022-05-17T13:21:35.315921Z",
     "iopub.status.idle": "2022-05-17T13:21:35.342123Z",
     "shell.execute_reply": "2022-05-17T13:21:35.341496Z"
    },
    "papermill": {
     "duration": 0.070698,
     "end_time": "2022-05-17T13:21:35.343914",
     "exception": false,
     "start_time": "2022-05-17T13:21:35.273216",
     "status": "completed"
    },
    "tags": []
   },
   "outputs": [
    {
     "data": {
      "text/html": [
       "<div>\n",
       "<style scoped>\n",
       "    .dataframe tbody tr th:only-of-type {\n",
       "        vertical-align: middle;\n",
       "    }\n",
       "\n",
       "    .dataframe tbody tr th {\n",
       "        vertical-align: top;\n",
       "    }\n",
       "\n",
       "    .dataframe thead th {\n",
       "        text-align: right;\n",
       "    }\n",
       "</style>\n",
       "<table border=\"1\" class=\"dataframe\">\n",
       "  <thead>\n",
       "    <tr style=\"text-align: right;\">\n",
       "      <th></th>\n",
       "      <th>HomePlanet</th>\n",
       "      <th>Cabin</th>\n",
       "      <th>Age</th>\n",
       "      <th>RoomService</th>\n",
       "      <th>FoodCourt</th>\n",
       "      <th>ShoppingMall</th>\n",
       "      <th>Spa</th>\n",
       "      <th>VRDeck</th>\n",
       "      <th>Transported</th>\n",
       "    </tr>\n",
       "  </thead>\n",
       "  <tbody>\n",
       "    <tr>\n",
       "      <th>0</th>\n",
       "      <td>1.0</td>\n",
       "      <td>1</td>\n",
       "      <td>39.0</td>\n",
       "      <td>0.0</td>\n",
       "      <td>0.0</td>\n",
       "      <td>0.0</td>\n",
       "      <td>0.0</td>\n",
       "      <td>0.0</td>\n",
       "      <td>0</td>\n",
       "    </tr>\n",
       "    <tr>\n",
       "      <th>1</th>\n",
       "      <td>2.0</td>\n",
       "      <td>5</td>\n",
       "      <td>24.0</td>\n",
       "      <td>109.0</td>\n",
       "      <td>9.0</td>\n",
       "      <td>25.0</td>\n",
       "      <td>549.0</td>\n",
       "      <td>44.0</td>\n",
       "      <td>1</td>\n",
       "    </tr>\n",
       "    <tr>\n",
       "      <th>2</th>\n",
       "      <td>1.0</td>\n",
       "      <td>0</td>\n",
       "      <td>58.0</td>\n",
       "      <td>43.0</td>\n",
       "      <td>3576.0</td>\n",
       "      <td>0.0</td>\n",
       "      <td>6715.0</td>\n",
       "      <td>49.0</td>\n",
       "      <td>0</td>\n",
       "    </tr>\n",
       "    <tr>\n",
       "      <th>3</th>\n",
       "      <td>1.0</td>\n",
       "      <td>0</td>\n",
       "      <td>33.0</td>\n",
       "      <td>0.0</td>\n",
       "      <td>1283.0</td>\n",
       "      <td>371.0</td>\n",
       "      <td>3329.0</td>\n",
       "      <td>193.0</td>\n",
       "      <td>0</td>\n",
       "    </tr>\n",
       "    <tr>\n",
       "      <th>4</th>\n",
       "      <td>2.0</td>\n",
       "      <td>5</td>\n",
       "      <td>16.0</td>\n",
       "      <td>303.0</td>\n",
       "      <td>70.0</td>\n",
       "      <td>151.0</td>\n",
       "      <td>565.0</td>\n",
       "      <td>2.0</td>\n",
       "      <td>1</td>\n",
       "    </tr>\n",
       "  </tbody>\n",
       "</table>\n",
       "</div>"
      ],
      "text/plain": [
       "   HomePlanet  Cabin   Age  RoomService  FoodCourt  ShoppingMall     Spa  \\\n",
       "0         1.0      1  39.0          0.0        0.0           0.0     0.0   \n",
       "1         2.0      5  24.0        109.0        9.0          25.0   549.0   \n",
       "2         1.0      0  58.0         43.0     3576.0           0.0  6715.0   \n",
       "3         1.0      0  33.0          0.0     1283.0         371.0  3329.0   \n",
       "4         2.0      5  16.0        303.0       70.0         151.0   565.0   \n",
       "\n",
       "   VRDeck  Transported  \n",
       "0     0.0            0  \n",
       "1    44.0            1  \n",
       "2    49.0            0  \n",
       "3   193.0            0  \n",
       "4     2.0            1  "
      ]
     },
     "execution_count": 13,
     "metadata": {},
     "output_type": "execute_result"
    }
   ],
   "source": [
    "numerics = ['int16', 'int32', 'int64', 'float16', 'float32', 'float64']\n",
    "df = df.select_dtypes(include=numerics)\n",
    "df= df.fillna(df.mean())\n",
    "df.head()"
   ]
  },
  {
   "cell_type": "markdown",
   "id": "4ec1bd03",
   "metadata": {
    "papermill": {
     "duration": 0.041416,
     "end_time": "2022-05-17T13:21:35.426831",
     "exception": false,
     "start_time": "2022-05-17T13:21:35.385415",
     "status": "completed"
    },
    "tags": []
   },
   "source": [
    "# Split Data"
   ]
  },
  {
   "cell_type": "code",
   "execution_count": 14,
   "id": "a8376831",
   "metadata": {
    "execution": {
     "iopub.execute_input": "2022-05-17T13:21:35.512463Z",
     "iopub.status.busy": "2022-05-17T13:21:35.511934Z",
     "iopub.status.idle": "2022-05-17T13:21:35.519814Z",
     "shell.execute_reply": "2022-05-17T13:21:35.518972Z"
    },
    "papermill": {
     "duration": 0.052851,
     "end_time": "2022-05-17T13:21:35.521767",
     "exception": false,
     "start_time": "2022-05-17T13:21:35.468916",
     "status": "completed"
    },
    "tags": []
   },
   "outputs": [],
   "source": [
    "X=df.drop('Transported', axis=1)\n",
    "y=df['Transported']\n",
    "\n",
    "X_train, X_test, y_train, y_test = train_test_split(\n",
    "    X, y, test_size=0.3, random_state=13)"
   ]
  },
  {
   "cell_type": "markdown",
   "id": "43a79dae",
   "metadata": {
    "papermill": {
     "duration": 0.042415,
     "end_time": "2022-05-17T13:21:35.607484",
     "exception": false,
     "start_time": "2022-05-17T13:21:35.565069",
     "status": "completed"
    },
    "tags": []
   },
   "source": [
    "# Gradient Boost\n",
    "* 2  max_depth || AUC  0.8563  || MSE 0.1542\n",
    "* 3  max_depth || AUC  0.8637  || MSE 0.1482\n",
    "* 4  max_depth || AUC  0.8681  || MSE 0.1444\n",
    "* 5  max_depth || AUC  0.8715  || MSE 0.1435\n",
    "* 7  max_depth || AUC  0.8686  || MSE 0.1453\n",
    "* 9  max_depth || AUC  0.856  || MSE 0.1533\n",
    "* 11  max_depth || AUC  0.8488  || MSE 0.1597\n",
    "* 100  n_estimators || AUC  0.8285  || MSE 0.1924\n",
    "* 200  n_estimators || AUC  0.8427  || MSE 0.1711\n",
    "* 300  n_estimators || AUC  0.8485  || MSE 0.1616\n",
    "* 400  n_estimators || AUC  0.8537  || MSE 0.1568\n",
    "* 500  n_estimators || AUC  0.8563  || MSE 0.1542\n",
    "* 600  n_estimators || AUC  0.8587  || MSE 0.1525"
   ]
  },
  {
   "cell_type": "code",
   "execution_count": 15,
   "id": "60750184",
   "metadata": {
    "execution": {
     "iopub.execute_input": "2022-05-17T13:21:35.694375Z",
     "iopub.status.busy": "2022-05-17T13:21:35.693840Z",
     "iopub.status.idle": "2022-05-17T13:21:35.719132Z",
     "shell.execute_reply": "2022-05-17T13:21:35.718481Z"
    },
    "papermill": {
     "duration": 0.071519,
     "end_time": "2022-05-17T13:21:35.721464",
     "exception": false,
     "start_time": "2022-05-17T13:21:35.649945",
     "status": "completed"
    },
    "tags": []
   },
   "outputs": [],
   "source": [
    "from sklearn.inspection import permutation_importance\n",
    "from sklearn.ensemble import GradientBoostingClassifier,GradientBoostingRegressor\n",
    "\n",
    "def gbDepth():\n",
    "    depthList=[2, 3, 4, 5, 7, 9, 11]\n",
    "    \n",
    "    for d in depthList:\n",
    "        params = {\n",
    "         \"n_estimators\": 500, \"max_depth\": d, \"min_samples_split\": 5, \"learning_rate\": 0.01,\n",
    "        }\n",
    "\n",
    "        #Fit and Predict:\n",
    "        reg = ensemble.GradientBoostingRegressor(**params)\n",
    "        reg.fit(X_train, y_train)\n",
    "        y_pred = reg.predict(X_test)\n",
    "        gbr_r2 = r2_score(y_test, y_pred).round(4) \n",
    "        #print(\"Gradient boosting regression r2: \", gbr_r2) \n",
    "\n",
    "        #calculate AUC of model\n",
    "        auc = round( metrics.roc_auc_score(y_test, y_pred), 4 ) \n",
    "        mse = mean_squared_error(y_test, reg.predict(X_test)).round(4)\n",
    "        print(d,\" max_depth || AUC \", auc, \" || MSE {:.4f}\".format(mse))\n",
    "\n",
    "def gbN():\n",
    "    nList=[100, 200, 300, 400, 500, 600]\n",
    "    \n",
    "    for n in nList:\n",
    "        params = {\n",
    "         \"n_estimators\": n, \"max_depth\": 2, \n",
    "            \"min_samples_split\": 5, \"learning_rate\": 0.01,\n",
    "        }\n",
    "\n",
    "        #Fit and Predict:\n",
    "        reg = ensemble.GradientBoostingRegressor(**params)\n",
    "        reg.fit(X_train, y_train)\n",
    "        y_pred = reg.predict(X_test)\n",
    "        gbr_r2 = r2_score(y_test, y_pred).round(4) \n",
    "        #print(\"Gradient boosting regression r2: \", gbr_r2) \n",
    "\n",
    "        #calculate AUC of model\n",
    "        auc = round( metrics.roc_auc_score(y_test, y_pred), 4 ) \n",
    "        mse = mean_squared_error(y_test, reg.predict(X_test)).round(4)\n",
    "        print(n,\" n_estimators || AUC \", auc, \" || MSE {:.4f}\".format(mse))\n",
    "\n",
    "def gbSplit():\n",
    "    sList=[2, 3, 5, 7]\n",
    "    \n",
    "    for s in sList:\n",
    "        params = {\n",
    "         \"n_estimators\": 500, \"max_depth\": 2,\n",
    "            \"min_samples_split\": s, \"learning_rate\": 0.01,\n",
    "        }\n",
    "\n",
    "        #Fit and Predict:\n",
    "        reg = ensemble.GradientBoostingRegressor(**params)\n",
    "        reg.fit(X_train, y_train)\n",
    "        y_pred = reg.predict(X_test)\n",
    "        gbr_r2 = r2_score(y_test, y_pred).round(4) \n",
    "        #print(\"Gradient boosting regression r2: \", gbr_r2) \n",
    "\n",
    "        #calculate AUC of model\n",
    "        auc = round( metrics.roc_auc_score(y_test, y_pred), 4 ) \n",
    "        mse = mean_squared_error(y_test, reg.predict(X_test)).round(4)\n",
    "        print(s,\" min_samples_splits || AUC \", auc, \" || MSE {:.4f}\".format(mse))\n",
    "\n",
    "#Turn on or off functions here:\n",
    "#gbDepth()\n",
    "#gbN()\n",
    "#gbSplit()"
   ]
  },
  {
   "cell_type": "code",
   "execution_count": 16,
   "id": "bc6a15ba",
   "metadata": {
    "execution": {
     "iopub.execute_input": "2022-05-17T13:21:35.809582Z",
     "iopub.status.busy": "2022-05-17T13:21:35.809231Z",
     "iopub.status.idle": "2022-05-17T13:21:42.091808Z",
     "shell.execute_reply": "2022-05-17T13:21:42.090491Z"
    },
    "papermill": {
     "duration": 6.328947,
     "end_time": "2022-05-17T13:21:42.094130",
     "exception": false,
     "start_time": "2022-05-17T13:21:35.765183",
     "status": "completed"
    },
    "tags": []
   },
   "outputs": [
    {
     "name": "stdout",
     "output_type": "stream",
     "text": [
      "Gradient boosting regression r2:  0.1702\n",
      "AUC for gradient boost is:  0.7929\n",
      "The mean squared error (MSE) on test set: 0.2074\n"
     ]
    }
   ],
   "source": [
    "params = {\n",
    " \"n_estimators\": 600, \"max_depth\": 5, \n",
    "    \"min_samples_split\": 7, \"learning_rate\": 0.01,\n",
    "}\n",
    "\n",
    "#Fit and Predict:\n",
    "reg = ensemble.GradientBoostingClassifier(**params)\n",
    "reg.fit(X_train, y_train)\n",
    "y_pred = reg.predict(X_test)\n",
    "gbr_r2 = r2_score(y_test, y_pred).round(4) \n",
    "print(\"Gradient boosting regression r2: \", gbr_r2) \n",
    "\n",
    "#AUC of model\n",
    "auc = round( metrics.roc_auc_score(y_test, y_pred), 4 ) \n",
    "print(\"AUC for gradient boost is: \", auc)\n",
    "\n",
    "mse = mean_squared_error(y_test, reg.predict(X_test))\n",
    "print(\"The mean squared error (MSE) on test set: {:.4f}\".format(mse))"
   ]
  },
  {
   "cell_type": "markdown",
   "id": "f57ead10",
   "metadata": {
    "papermill": {
     "duration": 0.041544,
     "end_time": "2022-05-17T13:21:42.177710",
     "exception": false,
     "start_time": "2022-05-17T13:21:42.136166",
     "status": "completed"
    },
    "tags": []
   },
   "source": [
    "# Feature Importance"
   ]
  },
  {
   "cell_type": "code",
   "execution_count": 17,
   "id": "36554895",
   "metadata": {
    "execution": {
     "iopub.execute_input": "2022-05-17T13:21:42.263846Z",
     "iopub.status.busy": "2022-05-17T13:21:42.263534Z",
     "iopub.status.idle": "2022-05-17T13:21:46.038104Z",
     "shell.execute_reply": "2022-05-17T13:21:46.037158Z"
    },
    "papermill": {
     "duration": 3.820422,
     "end_time": "2022-05-17T13:21:46.040369",
     "exception": false,
     "start_time": "2022-05-17T13:21:42.219947",
     "status": "completed"
    },
    "tags": []
   },
   "outputs": [
    {
     "data": {
      "image/png": "[encoded data removed]",
      "text/plain": [
       "<Figure size 864x432 with 2 Axes>"
      ]
     },
     "metadata": {
      "needs_background": "light"
     },
     "output_type": "display_data"
    }
   ],
   "source": [
    "cols=X.columns\n",
    "feature_importance = reg.feature_importances_\n",
    "sorted_idx = np.argsort(feature_importance)\n",
    "pos = np.arange(sorted_idx.shape[0]) + 0.5\n",
    "fig = plt.figure(figsize=(12, 6))\n",
    "plt.subplot(1, 2, 1)\n",
    "plt.barh(pos, feature_importance[sorted_idx], align=\"center\")\n",
    "plt.yticks(pos, np.array(cols)[sorted_idx])\n",
    "plt.title(\"Feature Importance (MDI)\")\n",
    "\n",
    "result = permutation_importance(\n",
    "    reg, X_test, y_test, n_repeats=10, random_state=42, n_jobs=2\n",
    ")\n",
    "sorted_idx = result.importances_mean.argsort()\n",
    "plt.subplot(1, 2, 2)\n",
    "plt.boxplot(\n",
    "    result.importances[sorted_idx].T,\n",
    "    vert=False,\n",
    "    labels=np.array(cols)[sorted_idx],\n",
    ")\n",
    "plt.title(\"Permutation Importance (test set)\")\n",
    "fig.tight_layout()\n",
    "plt.show()"
   ]
  },
  {
   "cell_type": "markdown",
   "id": "4c60af67",
   "metadata": {
    "papermill": {
     "duration": 0.043132,
     "end_time": "2022-05-17T13:21:46.126725",
     "exception": false,
     "start_time": "2022-05-17T13:21:46.083593",
     "status": "completed"
    },
    "tags": []
   },
   "source": [
    "# Logistic Regression"
   ]
  },
  {
   "cell_type": "code",
   "execution_count": 18,
   "id": "4e806563",
   "metadata": {
    "execution": {
     "iopub.execute_input": "2022-05-17T13:21:46.216078Z",
     "iopub.status.busy": "2022-05-17T13:21:46.215653Z",
     "iopub.status.idle": "2022-05-17T13:21:46.683739Z",
     "shell.execute_reply": "2022-05-17T13:21:46.682866Z"
    },
    "papermill": {
     "duration": 0.517389,
     "end_time": "2022-05-17T13:21:46.687117",
     "exception": false,
     "start_time": "2022-05-17T13:21:46.169728",
     "status": "completed"
    },
    "tags": []
   },
   "outputs": [
    {
     "name": "stdout",
     "output_type": "stream",
     "text": [
      "AUC for logistic regression is:  0.8506\n",
      "Logistic Accuracy:  0.7776\n",
      "0.1077  Logistic Regression cross validate\n"
     ]
    }
   ],
   "source": [
    "from sklearn.linear_model import LogisticRegression\n",
    "logReg = LogisticRegression(solver='liblinear') #solver param gets rid of encoder error\n",
    "\n",
    "#Train the model and create predictions\n",
    "logReg.fit(X_train, y_train)\n",
    "logPredict = logReg.predict_proba(X_test)[::,1]\n",
    "\n",
    "#calculate AUC of model\n",
    "auc = round( metrics.roc_auc_score(y_test, logPredict), 4 ) \n",
    "print(\"AUC for logistic regression is: \", auc)\n",
    "\n",
    "#CROSS VALIDATE TEST RESULTS:\n",
    "logScore = logReg.score(X_test, y_test).round(4)  # train test \n",
    "print(\"Logistic Accuracy: \", logScore)\n",
    "logCV = cross_validate(logReg, X, y, cv = 5, scoring= 'r2')\n",
    "logCV=logCV['test_score'].mean().round(4)\n",
    "print(logCV, \" Logistic Regression cross validate\")"
   ]
  },
  {
   "cell_type": "markdown",
   "id": "fcd77212",
   "metadata": {
    "papermill": {
     "duration": 0.056656,
     "end_time": "2022-05-17T13:21:46.827966",
     "exception": false,
     "start_time": "2022-05-17T13:21:46.771310",
     "status": "completed"
    },
    "tags": []
   },
   "source": [
    "# Linear Regression"
   ]
  },
  {
   "cell_type": "code",
   "execution_count": 19,
   "id": "27c4ac34",
   "metadata": {
    "execution": {
     "iopub.execute_input": "2022-05-17T13:21:46.919092Z",
     "iopub.status.busy": "2022-05-17T13:21:46.918803Z",
     "iopub.status.idle": "2022-05-17T13:21:47.374902Z",
     "shell.execute_reply": "2022-05-17T13:21:47.374184Z"
    },
    "papermill": {
     "duration": 0.503965,
     "end_time": "2022-05-17T13:21:47.376886",
     "exception": false,
     "start_time": "2022-05-17T13:21:46.872921",
     "status": "completed"
    },
    "tags": []
   },
   "outputs": [
    {
     "name": "stdout",
     "output_type": "stream",
     "text": [
      "AUC for linear regression is:  0.8\n",
      "Linear regression r2 score:  0.1985\n",
      "Linear Accuracy:  0.1985\n",
      "0.1944  linear regression cross validate mean\n"
     ]
    },
    {
     "data": {
      "image/png": "[encoded data removed]",
      "text/plain": [
       "<Figure size 432x288 with 1 Axes>"
      ]
     },
     "metadata": {
      "needs_background": "light"
     },
     "output_type": "display_data"
    }
   ],
   "source": [
    "from sklearn.linear_model import LinearRegression, Ridge, Lasso\n",
    "\n",
    "#Fit and predict:\n",
    "lrModel = LinearRegression()\n",
    "lrModel.fit(X_train, y_train)\n",
    "lrPredict = lrModel.predict(X_test)\n",
    "\n",
    "# plt.scatter(y_test, predictions)\n",
    "plt.hist(y_test - lrPredict)\n",
    "\n",
    "#Linear Metrics:\n",
    "auc = round( metrics.roc_auc_score(y_test, lrPredict), 4 ) \n",
    "r2 = r2_score(y_test, lrPredict).round(4) \n",
    "print(\"AUC for linear regression is: \", auc)\n",
    "print(\"Linear regression r2 score: \", r2)\n",
    "\n",
    "#CROSS VALIDATE TEST RESULTS:\n",
    "lr_score = lrModel.score(X_test, y_test).round(4)  # train test \n",
    "print(\"Linear Accuracy: \", lr_score)\n",
    "lr_cv = cross_validate(lrModel, X, y, cv = 5, scoring= 'r2')\n",
    "lr_cvMean=lr_cv['test_score'].mean().round(4)\n",
    "print(lr_cvMean, \" linear regression cross validate mean\")\n",
    "\n",
    "def linearReports():\n",
    "    print(model.coef_)    \n",
    "    print(model.intercept_)\n",
    "    print(classification_report(y_test_data, lrPredict))\n",
    "    print(confusion_matrix(y_test_data, lrPredict))\n",
    "    metrics.mean_absolute_error(y_test, lrPredict)\n",
    "    np.sqrt(metrics.mean_squared_error(y_test, lrPredict))"
   ]
  },
  {
   "cell_type": "markdown",
   "id": "94b74fb1",
   "metadata": {
    "papermill": {
     "duration": 0.047341,
     "end_time": "2022-05-17T13:21:47.473775",
     "exception": false,
     "start_time": "2022-05-17T13:21:47.426434",
     "status": "completed"
    },
    "tags": []
   },
   "source": [
    "# Decision Tree\n",
    "* 11  best max_depth parameter with least MAE\n",
    "* 500  best max_leaf_node\n",
    "\n",
    "The full dictionaries are below:\n",
    "\n",
    "{2: 0.3908, 3: 0.3534, 5: 0.3056, 7: 0.2883, 9: 0.2787, 11: 0.276, 15: 0.2868}\n",
    "\n",
    "{5: 0.3672, 25: 0.2988, 50: 0.2905, 100: 0.2834, 250: 0.2831, 500: 0.2829, 700: 0.2888}\n"
   ]
  },
  {
   "cell_type": "code",
   "execution_count": 20,
   "id": "1fa2596b",
   "metadata": {
    "execution": {
     "iopub.execute_input": "2022-05-17T13:21:47.570003Z",
     "iopub.status.busy": "2022-05-17T13:21:47.569069Z",
     "iopub.status.idle": "2022-05-17T13:21:47.586215Z",
     "shell.execute_reply": "2022-05-17T13:21:47.585506Z"
    },
    "papermill": {
     "duration": 0.067064,
     "end_time": "2022-05-17T13:21:47.588383",
     "exception": false,
     "start_time": "2022-05-17T13:21:47.521319",
     "status": "completed"
    },
    "tags": []
   },
   "outputs": [],
   "source": [
    "from sklearn.tree import DecisionTreeRegressor\n",
    "\n",
    "#FIND best_tree_size LEAF NODES:\n",
    "def calcLeaf():\n",
    "    candidate_max_leaf_nodes = [5, 25, 50, 100, 250, 500, 700]\n",
    "    maeDic={} #dictionary  key=leaf  mae=value\n",
    "    for leaf in candidate_max_leaf_nodes:\n",
    "        model = DecisionTreeRegressor(max_leaf_nodes=leaf, random_state=42)\n",
    "        model.fit(X_train, y_train)\n",
    "        y_pred = model.predict(X_test)\n",
    "        mae = mean_absolute_error(y_test, y_pred).round(4)\n",
    "        maeDic[leaf]=mae\n",
    "    print(maeDic)\n",
    "    best_tree_size = sorted(maeDic, key=lambda x : maeDic[x])[0]\n",
    "    print(best_tree_size, \" best max_leaf_node\") #500 is best\n",
    "    \n",
    "def calcDepth():\n",
    "    max_depth_list = [2, 3, 5, 7, 9, 11, 15]\n",
    "    maeDic={} #dictionary  key=depth  mae=value\n",
    "    for d in max_depth_list:\n",
    "        model = DecisionTreeRegressor(max_leaf_nodes=500, max_depth=d, random_state=42)\n",
    "        model.fit(X_train, y_train)\n",
    "        y_pred = model.predict(X_test)\n",
    "        mae = mean_absolute_error(y_test, y_pred).round(4)\n",
    "        maeDic[d]=mae\n",
    "    print(maeDic)\n",
    "    best_max_depth = sorted(maeDic, key=lambda x : maeDic[x])[0]\n",
    "    print(best_max_depth, \" best max_depth parameter with least MAE\") #11\n",
    "    \n",
    "def automateTree():\n",
    "    print(\"Decision Tree Automating:\")\n",
    "    start=time.time()\n",
    "    candidate_max_leaf_nodes = [5, 25, 50, 100, 250, 500]\n",
    "    max_depth_list = [2, 3, 5, 7, 9, 11]\n",
    "    \n",
    "    #STORE DATA INTO LISTS FOR DATAFRAME LATER:\n",
    "    aucList=[]\n",
    "    maeList=[]\n",
    "    maxDepthList=[]\n",
    "    maxLeafNodesList=[]\n",
    "\n",
    "    for d in max_depth_list:\n",
    "        for leaf in candidate_max_leaf_nodes:\n",
    "            model = DecisionTreeRegressor(max_leaf_nodes=leaf, max_depth=d, random_state=42)\n",
    "            model.fit(X_train, y_train)\n",
    "            y_pred = model.predict(X_test)\n",
    "            mae = mean_absolute_error(y_test, y_pred).round(4)\n",
    "            treeAUC = round( metrics.roc_auc_score(y_test, y_pred), 4 ) \n",
    "            \n",
    "            aucList.append(treeAUC)\n",
    "            maeList.append(mae)\n",
    "            maxDepthList.append(d)\n",
    "            maxLeafNodesList.append(leaf)\n",
    "           \n",
    "            \n",
    "    df = pd.DataFrame(list(zip(aucList, maeList, maxDepthList, maxLeafNodesList)),\n",
    "                          columns=['AUC','MAE', 'MaxDepth', 'MaxLeafNodes'])\n",
    "    \n",
    "    df=df.sort_values(by=['AUC'], ascending=True)\n",
    "    print(\"Done. \", round(time.time()-start,4), \" seconds\")\n",
    "    return df\n",
    "\n",
    "#calcDepth() \n",
    "#calcLeaf()\n",
    "#treeDF=automateTree()\n",
    "#treeDF.head()"
   ]
  },
  {
   "cell_type": "markdown",
   "id": "48c56cf6",
   "metadata": {
    "papermill": {
     "duration": 0.046908,
     "end_time": "2022-05-17T13:21:47.683108",
     "exception": false,
     "start_time": "2022-05-17T13:21:47.636200",
     "status": "completed"
    },
    "tags": []
   },
   "source": [
    "#### Decision Tree Final Prediction"
   ]
  },
  {
   "cell_type": "code",
   "execution_count": 21,
   "id": "ffcf4f8c",
   "metadata": {
    "execution": {
     "iopub.execute_input": "2022-05-17T13:21:47.795134Z",
     "iopub.status.busy": "2022-05-17T13:21:47.794521Z",
     "iopub.status.idle": "2022-05-17T13:21:47.963083Z",
     "shell.execute_reply": "2022-05-17T13:21:47.961942Z"
    },
    "papermill": {
     "duration": 0.236961,
     "end_time": "2022-05-17T13:21:47.965864",
     "exception": false,
     "start_time": "2022-05-17T13:21:47.728903",
     "status": "completed"
    },
    "tags": []
   },
   "outputs": [
    {
     "name": "stdout",
     "output_type": "stream",
     "text": [
      "AUC for decision tree is:  0.9187\n",
      "R-squared for decision tree is:  0.5415\n",
      "0.3385  is tree MSE \n",
      "TreeScore:  0.1985\n",
      "0.3099  Tree cross validate mean\n"
     ]
    }
   ],
   "source": [
    "max_depth=10\n",
    "best_tree_size=500\n",
    "    \n",
    "#MAKE PREDICTION:\n",
    "tree = DecisionTreeRegressor(max_leaf_nodes=best_tree_size, \n",
    "                             max_depth=max_depth,random_state=42)\n",
    "tree.fit(X, y)\n",
    "y_pred = tree.predict(X_test)\n",
    "\n",
    "#AUC and r2 metric:\n",
    "treeR2 = r2_score(y_test, y_pred).round(4)\n",
    "treeAUC = round( metrics.roc_auc_score(y_test, y_pred), 4 ) \n",
    "print(\"AUC for decision tree is: \", treeAUC)\n",
    "print(\"R-squared for decision tree is: \", treeR2)\n",
    "\n",
    "treeMSE=np.sqrt(metrics.mean_squared_error(y_test, y_pred))\n",
    "print(round(treeMSE, 4), \" is tree MSE \")\n",
    "\n",
    "#CROSS VALIDATE TEST RESULTS:\n",
    "treeScore = tree.score(X_test, y_test).round(4)  # train test \n",
    "print(\"TreeScore: \", lr_score)\n",
    "treeCV = cross_validate(tree, X, y, cv = 5, scoring= 'r2')\n",
    "treeCV=treeCV['test_score'].mean().round(4)\n",
    "print(treeCV, \" Tree cross validate mean\")\n",
    "\n",
    "def printReports(y_test, y_pred):\n",
    "    print(classification_report(y_test, y_pred))\n",
    "    print(confusion_matrix(y_test, y_pred))\n",
    " "
   ]
  },
  {
   "cell_type": "markdown",
   "id": "6dbf4f53",
   "metadata": {
    "papermill": {
     "duration": 0.047387,
     "end_time": "2022-05-17T13:21:48.061401",
     "exception": false,
     "start_time": "2022-05-17T13:21:48.014014",
     "status": "completed"
    },
    "tags": []
   },
   "source": [
    "# Random Forest\n",
    "* 2  n_estimates |  0.7964  AUC |  0.28  MAE\n",
    "* 102  n_estimates |  0.8554  AUC |  0.28  MAE\n",
    "* 202  n_estimates |  0.8554  AUC |  0.28  MAE\n",
    "* 302  n_estimates |  0.8555  AUC |  0.28  MAE\n",
    "* 402  n_estimates |  0.8558  AUC |  0.28  MAE"
   ]
  },
  {
   "cell_type": "code",
   "execution_count": 22,
   "id": "f6181677",
   "metadata": {
    "execution": {
     "iopub.execute_input": "2022-05-17T13:21:48.179000Z",
     "iopub.status.busy": "2022-05-17T13:21:48.178500Z",
     "iopub.status.idle": "2022-05-17T13:21:48.187680Z",
     "shell.execute_reply": "2022-05-17T13:21:48.186744Z"
    },
    "papermill": {
     "duration": 0.077616,
     "end_time": "2022-05-17T13:21:48.189938",
     "exception": false,
     "start_time": "2022-05-17T13:21:48.112322",
     "status": "completed"
    },
    "tags": []
   },
   "outputs": [],
   "source": [
    "from sklearn.ensemble import RandomForestRegressor, RandomForestClassifier\n",
    "\n",
    "#Check for Error and find Best n_estimators:\n",
    "def checkMAE():\n",
    "    dMAE={} #dictionary of n_estimators as key and MAE as value:\n",
    "    for n in range(2, 601, 100):\n",
    "        forest = RandomForestRegressor(n_estimators=n, random_state = 0)\n",
    "        forest.fit(X_train, y_train)\n",
    "        y_pred = forest.predict(X_test)\n",
    "        MAE=metrics.mean_absolute_error(y_test, y_pred).round(2)\n",
    "        forest_auc = round( metrics.roc_auc_score(y_test, y_pred), 4 ) \n",
    "        dMAE[n]=MAE\n",
    "        print(n, \" n_estimates | \", forest_auc, \" AUC | \", MAE, \" MAE\")\n",
    "    dMAE=sorted(((v, k) for k, v in dMAE.items()), reverse=False)\n",
    "    print(dMAE)\n",
    "#checkMAE() #turn function on or off by uncommenting"
   ]
  },
  {
   "cell_type": "markdown",
   "id": "97402560",
   "metadata": {
    "papermill": {
     "duration": 0.047993,
     "end_time": "2022-05-17T13:21:48.286957",
     "exception": false,
     "start_time": "2022-05-17T13:21:48.238964",
     "status": "completed"
    },
    "tags": []
   },
   "source": [
    "#### Forest Final Prediction"
   ]
  },
  {
   "cell_type": "code",
   "execution_count": 23,
   "id": "9914132d",
   "metadata": {
    "execution": {
     "iopub.execute_input": "2022-05-17T13:21:48.382955Z",
     "iopub.status.busy": "2022-05-17T13:21:48.382481Z",
     "iopub.status.idle": "2022-05-17T13:21:49.158351Z",
     "shell.execute_reply": "2022-05-17T13:21:49.157346Z"
    },
    "papermill": {
     "duration": 0.825733,
     "end_time": "2022-05-17T13:21:49.160676",
     "exception": false,
     "start_time": "2022-05-17T13:21:48.334943",
     "status": "completed"
    },
    "tags": []
   },
   "outputs": [
    {
     "name": "stdout",
     "output_type": "stream",
     "text": [
      "Random forest AUC:  0.7844\n",
      "Random forest r2:  0.138\n",
      "Random forest MAE:  0.22\n"
     ]
    }
   ],
   "source": [
    "forestEst=100\n",
    "forest = RandomForestClassifier(\n",
    "    n_estimators=forestEst,random_state = 0)\n",
    "\n",
    "forest.fit(X_train, y_train)\n",
    "y_pred = forest.predict(X_test)\n",
    "\n",
    "#Print Metrics:\n",
    "forest_r2 = r2_score(y_test, y_pred).round(4)  \n",
    "forest_auc = round( metrics.roc_auc_score(y_test, y_pred), 4 ) \n",
    "print(\"Random forest AUC: \", forest_auc) \n",
    "print(\"Random forest r2: \", forest_r2)\n",
    "\n",
    "forestMAE=metrics.mean_absolute_error(y_test, y_pred).round(2)\n",
    "print(\"Random forest MAE: \", forestMAE)"
   ]
  },
  {
   "cell_type": "markdown",
   "id": "2b8f5873",
   "metadata": {
    "papermill": {
     "duration": 0.04696,
     "end_time": "2022-05-17T13:21:49.254949",
     "exception": false,
     "start_time": "2022-05-17T13:21:49.207989",
     "status": "completed"
    },
    "tags": []
   },
   "source": [
    "# Test Data"
   ]
  },
  {
   "cell_type": "code",
   "execution_count": 24,
   "id": "39deccd0",
   "metadata": {
    "execution": {
     "iopub.execute_input": "2022-05-17T13:21:49.352478Z",
     "iopub.status.busy": "2022-05-17T13:21:49.351627Z",
     "iopub.status.idle": "2022-05-17T13:21:49.443751Z",
     "shell.execute_reply": "2022-05-17T13:21:49.442880Z"
    },
    "papermill": {
     "duration": 0.143746,
     "end_time": "2022-05-17T13:21:49.446266",
     "exception": false,
     "start_time": "2022-05-17T13:21:49.302520",
     "status": "completed"
    },
    "tags": []
   },
   "outputs": [
    {
     "data": {
      "text/html": [
       "<div>\n",
       "<style scoped>\n",
       "    .dataframe tbody tr th:only-of-type {\n",
       "        vertical-align: middle;\n",
       "    }\n",
       "\n",
       "    .dataframe tbody tr th {\n",
       "        vertical-align: top;\n",
       "    }\n",
       "\n",
       "    .dataframe thead th {\n",
       "        text-align: right;\n",
       "    }\n",
       "</style>\n",
       "<table border=\"1\" class=\"dataframe\">\n",
       "  <thead>\n",
       "    <tr style=\"text-align: right;\">\n",
       "      <th></th>\n",
       "      <th>HomePlanet</th>\n",
       "      <th>Cabin</th>\n",
       "      <th>Age</th>\n",
       "      <th>RoomService</th>\n",
       "      <th>FoodCourt</th>\n",
       "      <th>ShoppingMall</th>\n",
       "      <th>Spa</th>\n",
       "      <th>VRDeck</th>\n",
       "    </tr>\n",
       "  </thead>\n",
       "  <tbody>\n",
       "    <tr>\n",
       "      <th>0</th>\n",
       "      <td>2.0</td>\n",
       "      <td>6</td>\n",
       "      <td>27.0</td>\n",
       "      <td>0.0</td>\n",
       "      <td>0.0</td>\n",
       "      <td>0.0</td>\n",
       "      <td>0.0</td>\n",
       "      <td>0.0</td>\n",
       "    </tr>\n",
       "    <tr>\n",
       "      <th>1</th>\n",
       "      <td>2.0</td>\n",
       "      <td>5</td>\n",
       "      <td>19.0</td>\n",
       "      <td>0.0</td>\n",
       "      <td>9.0</td>\n",
       "      <td>0.0</td>\n",
       "      <td>2823.0</td>\n",
       "      <td>0.0</td>\n",
       "    </tr>\n",
       "    <tr>\n",
       "      <th>2</th>\n",
       "      <td>1.0</td>\n",
       "      <td>2</td>\n",
       "      <td>31.0</td>\n",
       "      <td>0.0</td>\n",
       "      <td>0.0</td>\n",
       "      <td>0.0</td>\n",
       "      <td>0.0</td>\n",
       "      <td>0.0</td>\n",
       "    </tr>\n",
       "    <tr>\n",
       "      <th>3</th>\n",
       "      <td>1.0</td>\n",
       "      <td>2</td>\n",
       "      <td>38.0</td>\n",
       "      <td>0.0</td>\n",
       "      <td>6652.0</td>\n",
       "      <td>0.0</td>\n",
       "      <td>181.0</td>\n",
       "      <td>585.0</td>\n",
       "    </tr>\n",
       "    <tr>\n",
       "      <th>4</th>\n",
       "      <td>2.0</td>\n",
       "      <td>5</td>\n",
       "      <td>20.0</td>\n",
       "      <td>10.0</td>\n",
       "      <td>0.0</td>\n",
       "      <td>635.0</td>\n",
       "      <td>0.0</td>\n",
       "      <td>0.0</td>\n",
       "    </tr>\n",
       "  </tbody>\n",
       "</table>\n",
       "</div>"
      ],
      "text/plain": [
       "   HomePlanet  Cabin   Age  RoomService  FoodCourt  ShoppingMall     Spa  \\\n",
       "0         2.0      6  27.0          0.0        0.0           0.0     0.0   \n",
       "1         2.0      5  19.0          0.0        9.0           0.0  2823.0   \n",
       "2         1.0      2  31.0          0.0        0.0           0.0     0.0   \n",
       "3         1.0      2  38.0          0.0     6652.0           0.0   181.0   \n",
       "4         2.0      5  20.0         10.0        0.0         635.0     0.0   \n",
       "\n",
       "   VRDeck  \n",
       "0     0.0  \n",
       "1     0.0  \n",
       "2     0.0  \n",
       "3   585.0  \n",
       "4     0.0  "
      ]
     },
     "execution_count": 24,
     "metadata": {},
     "output_type": "execute_result"
    }
   ],
   "source": [
    "testDF=pd.read_csv(test)\n",
    "ID=testDF['PassengerId']\n",
    "\n",
    "testDF['VIP']=testDF['VIP'].astype('str').replace({'False':0, 'True':1})\n",
    "testDF['CryoSleep']=testDF['CryoSleep'].astype('str').replace({'False':0, 'True':1})\n",
    "testDF['HomePlanet']=testDF['HomePlanet'].replace({'Earth':2, 'Europa':1, 'Mars':0})\n",
    "\n",
    "testDF['Cabin']=testDF['Cabin'].astype('str').str[0]\n",
    "cabinDic={'A':0, 'B':1, 'C':2, 'D':3, 'E':4, 'F':5, 'G':6, 'n':7, 'T':8}\n",
    "testDF['Cabin']=testDF['Cabin'].replace(cabinDic)\n",
    "\n",
    "testDF['Destination']=testDF['Destination'].astype('str').str[0]\n",
    "destDic={'T':2, '5':1, 'P':0}\n",
    "testDF['Destination']=testDF['Destination'].replace(destDic)\n",
    "\n",
    "features=X.columns\n",
    "testDF=testDF[features]\n",
    "\n",
    "testDF=testDF.fillna(testDF.mean())\n",
    "testDF.head()"
   ]
  },
  {
   "cell_type": "markdown",
   "id": "acacc089",
   "metadata": {
    "papermill": {
     "duration": 0.046977,
     "end_time": "2022-05-17T13:21:49.542492",
     "exception": false,
     "start_time": "2022-05-17T13:21:49.495515",
     "status": "completed"
    },
    "tags": []
   },
   "source": [
    "# Final Predictions"
   ]
  },
  {
   "cell_type": "code",
   "execution_count": 25,
   "id": "2c53607a",
   "metadata": {
    "execution": {
     "iopub.execute_input": "2022-05-17T13:21:49.636876Z",
     "iopub.status.busy": "2022-05-17T13:21:49.636412Z",
     "iopub.status.idle": "2022-05-17T13:21:49.724974Z",
     "shell.execute_reply": "2022-05-17T13:21:49.723619Z"
    },
    "papermill": {
     "duration": 0.13859,
     "end_time": "2022-05-17T13:21:49.727014",
     "exception": false,
     "start_time": "2022-05-17T13:21:49.588424",
     "status": "completed"
    },
    "tags": []
   },
   "outputs": [
    {
     "name": "stdout",
     "output_type": "stream",
     "text": [
      "(4277, 2)\n",
      "PassengerId    object\n",
      "Transported      bool\n",
      "dtype: object\n"
     ]
    },
    {
     "data": {
      "text/html": [
       "<div>\n",
       "<style scoped>\n",
       "    .dataframe tbody tr th:only-of-type {\n",
       "        vertical-align: middle;\n",
       "    }\n",
       "\n",
       "    .dataframe tbody tr th {\n",
       "        vertical-align: top;\n",
       "    }\n",
       "\n",
       "    .dataframe thead th {\n",
       "        text-align: right;\n",
       "    }\n",
       "</style>\n",
       "<table border=\"1\" class=\"dataframe\">\n",
       "  <thead>\n",
       "    <tr style=\"text-align: right;\">\n",
       "      <th></th>\n",
       "      <th>PassengerId</th>\n",
       "      <th>Transported</th>\n",
       "    </tr>\n",
       "  </thead>\n",
       "  <tbody>\n",
       "    <tr>\n",
       "      <th>0</th>\n",
       "      <td>0013_01</td>\n",
       "      <td>True</td>\n",
       "    </tr>\n",
       "    <tr>\n",
       "      <th>1</th>\n",
       "      <td>0018_01</td>\n",
       "      <td>False</td>\n",
       "    </tr>\n",
       "    <tr>\n",
       "      <th>2</th>\n",
       "      <td>0019_01</td>\n",
       "      <td>True</td>\n",
       "    </tr>\n",
       "    <tr>\n",
       "      <th>3</th>\n",
       "      <td>0021_01</td>\n",
       "      <td>True</td>\n",
       "    </tr>\n",
       "    <tr>\n",
       "      <th>4</th>\n",
       "      <td>0023_01</td>\n",
       "      <td>True</td>\n",
       "    </tr>\n",
       "  </tbody>\n",
       "</table>\n",
       "</div>"
      ],
      "text/plain": [
       "  PassengerId  Transported\n",
       "0     0013_01         True\n",
       "1     0018_01        False\n",
       "2     0019_01         True\n",
       "3     0021_01         True\n",
       "4     0023_01         True"
      ]
     },
     "execution_count": 25,
     "metadata": {},
     "output_type": "execute_result"
    }
   ],
   "source": [
    "test_predictions = reg.predict(testDF)\n",
    "tupleData = list(zip(ID, test_predictions))\n",
    "output = pd.DataFrame(tupleData, columns = ['PassengerId', 'Transported'])\n",
    "output['Transported']=output['Transported'].replace({0:False, 1:True})\n",
    "print(output.shape)\n",
    "print(output.dtypes)\n",
    "output.head()"
   ]
  },
  {
   "cell_type": "code",
   "execution_count": 26,
   "id": "db6b4af1",
   "metadata": {
    "execution": {
     "iopub.execute_input": "2022-05-17T13:21:49.835976Z",
     "iopub.status.busy": "2022-05-17T13:21:49.835676Z",
     "iopub.status.idle": "2022-05-17T13:21:49.852702Z",
     "shell.execute_reply": "2022-05-17T13:21:49.851926Z"
    },
    "papermill": {
     "duration": 0.077381,
     "end_time": "2022-05-17T13:21:49.855202",
     "exception": false,
     "start_time": "2022-05-17T13:21:49.777821",
     "status": "completed"
    },
    "tags": []
   },
   "outputs": [
    {
     "name": "stdout",
     "output_type": "stream",
     "text": [
      "Your submission was successfully saved!\n"
     ]
    }
   ],
   "source": [
    "output.to_csv('submission.csv', index=False)\n",
    "print(\"Your submission was successfully saved!\")"
   ]
  },
  {
   "cell_type": "code",
   "execution_count": 27,
   "id": "08099b0c",
   "metadata": {
    "execution": {
     "iopub.execute_input": "2022-05-17T13:21:49.972241Z",
     "iopub.status.busy": "2022-05-17T13:21:49.971556Z",
     "iopub.status.idle": "2022-05-17T13:21:49.991338Z",
     "shell.execute_reply": "2022-05-17T13:21:49.990486Z"
    },
    "papermill": {
     "duration": 0.072077,
     "end_time": "2022-05-17T13:21:49.993721",
     "exception": false,
     "start_time": "2022-05-17T13:21:49.921644",
     "status": "completed"
    },
    "tags": []
   },
   "outputs": [
    {
     "name": "stdout",
     "output_type": "stream",
     "text": [
      "PassengerId    object\n",
      "Transported      bool\n",
      "dtype: object\n"
     ]
    }
   ],
   "source": [
    "sample=r'/kaggle/input/spaceship-titanic/sample_submission.csv'\n",
    "sample=pd.read_csv(sample)\n",
    "print(sample.dtypes)"
   ]
  }
 ],
 "metadata": {
  "kernelspec": {
   "display_name": "Python 3",
   "language": "python",
   "name": "python3"
  },
  "language_info": {
   "codemirror_mode": {
    "name": "ipython",
    "version": 3
   },
   "file_extension": ".py",
   "mimetype": "text/x-python",
   "name": "python",
   "nbconvert_exporter": "python",
   "pygments_lexer": "ipython3",
   "version": "3.7.12"
  },
  "papermill": {
   "default_parameters": {},
   "duration": 32.686102,
   "end_time": "2022-05-17T13:21:52.667567",
   "environment_variables": {},
   "exception": null,
   "input_path": "__notebook__.ipynb",
   "output_path": "__notebook__.ipynb",
   "parameters": {},
   "start_time": "2022-05-17T13:21:19.981465",
   "version": "2.3.4"
  }
 },
 "nbformat": 4,
 "nbformat_minor": 5
}
