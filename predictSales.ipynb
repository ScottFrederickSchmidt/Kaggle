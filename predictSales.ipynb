{
 "cells": [
  {
   "cell_type": "markdown",
   "id": "db46c704",
   "metadata": {
    "papermill": {
     "duration": 0.004896,
     "end_time": "2022-11-11T20:55:52.938524",
     "exception": false,
     "start_time": "2022-11-11T20:55:52.933628",
     "status": "completed"
    },
    "tags": []
   },
   "source": [
    "# Predict Future Sales\n",
    "You are provided with daily historical sales data. The task is to forecast the total amount of products sold in every shop for the test set. Note that the list of shops and products slightly changes every month. Creating a robust model that can handle such situations is part of the challenge."
   ]
  },
  {
   "cell_type": "markdown",
   "id": "55eb9ed8",
   "metadata": {
    "papermill": {
     "duration": 0.0037,
     "end_time": "2022-11-11T20:55:52.946289",
     "exception": false,
     "start_time": "2022-11-11T20:55:52.942589",
     "status": "completed"
    },
    "tags": []
   },
   "source": [
    "## File descriptions\n",
    "* sales_train.csv - the training set. Daily historical data from January 2013 to October 2015.\n",
    "* test.csv - the test set. You need to forecast the sales for these shops and products for November 2015.\n",
    "* sample_submission.csv - a sample submission file in the correct format.\n",
    "* items.csv - supplemental information about the items/products.\n",
    "* item_categories.csv  - supplemental information about the items categories.\n",
    "* shops.csv- supplemental information about the shops."
   ]
  },
  {
   "cell_type": "code",
   "execution_count": 1,
   "id": "cb3a772c",
   "metadata": {
    "execution": {
     "iopub.execute_input": "2022-11-11T20:55:52.956967Z",
     "iopub.status.busy": "2022-11-11T20:55:52.956109Z",
     "iopub.status.idle": "2022-11-11T20:55:52.968422Z",
     "shell.execute_reply": "2022-11-11T20:55:52.967073Z"
    },
    "papermill": {
     "duration": 0.020724,
     "end_time": "2022-11-11T20:55:52.971141",
     "exception": false,
     "start_time": "2022-11-11T20:55:52.950417",
     "status": "completed"
    },
    "tags": []
   },
   "outputs": [],
   "source": [
    "import pandas as pd\n",
    "\n",
    "items=r'/kaggle/input/competitive-data-science-predict-future-sales/items.csv'\n",
    "sample='/kaggle/input/competitive-data-science-predict-future-sales/sample_submission.csv'\n",
    "categories=r'/kaggle/input/competitive-data-science-predict-future-sales/item_categories.csv'\n",
    "train=r'/kaggle/input/competitive-data-science-predict-future-sales/sales_train.csv'\n",
    "shops=r'/kaggle/input/competitive-data-science-predict-future-sales/shops.csv'\n",
    "test=r'/kaggle/input/competitive-data-science-predict-future-sales/test.csv'"
   ]
  },
  {
   "cell_type": "code",
   "execution_count": 2,
   "id": "5fc804dd",
   "metadata": {
    "execution": {
     "iopub.execute_input": "2022-11-11T20:55:52.981637Z",
     "iopub.status.busy": "2022-11-11T20:55:52.981249Z",
     "iopub.status.idle": "2022-11-11T20:55:55.229938Z",
     "shell.execute_reply": "2022-11-11T20:55:55.229006Z"
    },
    "papermill": {
     "duration": 2.256452,
     "end_time": "2022-11-11T20:55:55.232017",
     "exception": false,
     "start_time": "2022-11-11T20:55:52.975565",
     "status": "completed"
    },
    "tags": []
   },
   "outputs": [
    {
     "data": {
      "text/html": [
       "<div>\n",
       "<style scoped>\n",
       "    .dataframe tbody tr th:only-of-type {\n",
       "        vertical-align: middle;\n",
       "    }\n",
       "\n",
       "    .dataframe tbody tr th {\n",
       "        vertical-align: top;\n",
       "    }\n",
       "\n",
       "    .dataframe thead th {\n",
       "        text-align: right;\n",
       "    }\n",
       "</style>\n",
       "<table border=\"1\" class=\"dataframe\">\n",
       "  <thead>\n",
       "    <tr style=\"text-align: right;\">\n",
       "      <th></th>\n",
       "      <th>date</th>\n",
       "      <th>date_block_num</th>\n",
       "      <th>shop_id</th>\n",
       "      <th>item_id</th>\n",
       "      <th>item_price</th>\n",
       "      <th>item_cnt_day</th>\n",
       "    </tr>\n",
       "  </thead>\n",
       "  <tbody>\n",
       "    <tr>\n",
       "      <th>0</th>\n",
       "      <td>02.01.2013</td>\n",
       "      <td>0</td>\n",
       "      <td>59</td>\n",
       "      <td>22154</td>\n",
       "      <td>999.00</td>\n",
       "      <td>1.0</td>\n",
       "    </tr>\n",
       "    <tr>\n",
       "      <th>1</th>\n",
       "      <td>03.01.2013</td>\n",
       "      <td>0</td>\n",
       "      <td>25</td>\n",
       "      <td>2552</td>\n",
       "      <td>899.00</td>\n",
       "      <td>1.0</td>\n",
       "    </tr>\n",
       "    <tr>\n",
       "      <th>2</th>\n",
       "      <td>05.01.2013</td>\n",
       "      <td>0</td>\n",
       "      <td>25</td>\n",
       "      <td>2552</td>\n",
       "      <td>899.00</td>\n",
       "      <td>-1.0</td>\n",
       "    </tr>\n",
       "    <tr>\n",
       "      <th>3</th>\n",
       "      <td>06.01.2013</td>\n",
       "      <td>0</td>\n",
       "      <td>25</td>\n",
       "      <td>2554</td>\n",
       "      <td>1709.05</td>\n",
       "      <td>1.0</td>\n",
       "    </tr>\n",
       "    <tr>\n",
       "      <th>4</th>\n",
       "      <td>15.01.2013</td>\n",
       "      <td>0</td>\n",
       "      <td>25</td>\n",
       "      <td>2555</td>\n",
       "      <td>1099.00</td>\n",
       "      <td>1.0</td>\n",
       "    </tr>\n",
       "  </tbody>\n",
       "</table>\n",
       "</div>"
      ],
      "text/plain": [
       "         date  date_block_num  shop_id  item_id  item_price  item_cnt_day\n",
       "0  02.01.2013               0       59    22154      999.00           1.0\n",
       "1  03.01.2013               0       25     2552      899.00           1.0\n",
       "2  05.01.2013               0       25     2552      899.00          -1.0\n",
       "3  06.01.2013               0       25     2554     1709.05           1.0\n",
       "4  15.01.2013               0       25     2555     1099.00           1.0"
      ]
     },
     "execution_count": 2,
     "metadata": {},
     "output_type": "execute_result"
    }
   ],
   "source": [
    "train=pd.read_csv(train)\n",
    "train.head()"
   ]
  },
  {
   "cell_type": "code",
   "execution_count": 3,
   "id": "e922bfaf",
   "metadata": {
    "execution": {
     "iopub.execute_input": "2022-11-11T20:55:55.242885Z",
     "iopub.status.busy": "2022-11-11T20:55:55.241737Z",
     "iopub.status.idle": "2022-11-11T20:55:55.258796Z",
     "shell.execute_reply": "2022-11-11T20:55:55.257216Z"
    },
    "papermill": {
     "duration": 0.024941,
     "end_time": "2022-11-11T20:55:55.261479",
     "exception": false,
     "start_time": "2022-11-11T20:55:55.236538",
     "status": "completed"
    },
    "tags": []
   },
   "outputs": [
    {
     "data": {
      "text/html": [
       "<div>\n",
       "<style scoped>\n",
       "    .dataframe tbody tr th:only-of-type {\n",
       "        vertical-align: middle;\n",
       "    }\n",
       "\n",
       "    .dataframe tbody tr th {\n",
       "        vertical-align: top;\n",
       "    }\n",
       "\n",
       "    .dataframe thead th {\n",
       "        text-align: right;\n",
       "    }\n",
       "</style>\n",
       "<table border=\"1\" class=\"dataframe\">\n",
       "  <thead>\n",
       "    <tr style=\"text-align: right;\">\n",
       "      <th></th>\n",
       "      <th>shop_name</th>\n",
       "      <th>shop_id</th>\n",
       "    </tr>\n",
       "  </thead>\n",
       "  <tbody>\n",
       "    <tr>\n",
       "      <th>0</th>\n",
       "      <td>!Якутск Орджоникидзе, 56 фран</td>\n",
       "      <td>0</td>\n",
       "    </tr>\n",
       "    <tr>\n",
       "      <th>1</th>\n",
       "      <td>!Якутск ТЦ \"Центральный\" фран</td>\n",
       "      <td>1</td>\n",
       "    </tr>\n",
       "    <tr>\n",
       "      <th>2</th>\n",
       "      <td>Адыгея ТЦ \"Мега\"</td>\n",
       "      <td>2</td>\n",
       "    </tr>\n",
       "    <tr>\n",
       "      <th>3</th>\n",
       "      <td>Балашиха ТРК \"Октябрь-Киномир\"</td>\n",
       "      <td>3</td>\n",
       "    </tr>\n",
       "    <tr>\n",
       "      <th>4</th>\n",
       "      <td>Волжский ТЦ \"Волга Молл\"</td>\n",
       "      <td>4</td>\n",
       "    </tr>\n",
       "  </tbody>\n",
       "</table>\n",
       "</div>"
      ],
      "text/plain": [
       "                        shop_name  shop_id\n",
       "0   !Якутск Орджоникидзе, 56 фран        0\n",
       "1   !Якутск ТЦ \"Центральный\" фран        1\n",
       "2                Адыгея ТЦ \"Мега\"        2\n",
       "3  Балашиха ТРК \"Октябрь-Киномир\"        3\n",
       "4        Волжский ТЦ \"Волга Молл\"        4"
      ]
     },
     "execution_count": 3,
     "metadata": {},
     "output_type": "execute_result"
    }
   ],
   "source": [
    "shops=pd.read_csv(shops)\n",
    "shops.head()"
   ]
  },
  {
   "cell_type": "code",
   "execution_count": 4,
   "id": "199ba34a",
   "metadata": {
    "execution": {
     "iopub.execute_input": "2022-11-11T20:55:55.272768Z",
     "iopub.status.busy": "2022-11-11T20:55:55.272385Z",
     "iopub.status.idle": "2022-11-11T20:55:55.338852Z",
     "shell.execute_reply": "2022-11-11T20:55:55.337279Z"
    },
    "papermill": {
     "duration": 0.075106,
     "end_time": "2022-11-11T20:55:55.341449",
     "exception": false,
     "start_time": "2022-11-11T20:55:55.266343",
     "status": "completed"
    },
    "tags": []
   },
   "outputs": [
    {
     "data": {
      "text/html": [
       "<div>\n",
       "<style scoped>\n",
       "    .dataframe tbody tr th:only-of-type {\n",
       "        vertical-align: middle;\n",
       "    }\n",
       "\n",
       "    .dataframe tbody tr th {\n",
       "        vertical-align: top;\n",
       "    }\n",
       "\n",
       "    .dataframe thead th {\n",
       "        text-align: right;\n",
       "    }\n",
       "</style>\n",
       "<table border=\"1\" class=\"dataframe\">\n",
       "  <thead>\n",
       "    <tr style=\"text-align: right;\">\n",
       "      <th></th>\n",
       "      <th>item_name</th>\n",
       "      <th>item_id</th>\n",
       "      <th>item_category_id</th>\n",
       "    </tr>\n",
       "  </thead>\n",
       "  <tbody>\n",
       "    <tr>\n",
       "      <th>0</th>\n",
       "      <td>! ВО ВЛАСТИ НАВАЖДЕНИЯ (ПЛАСТ.)         D</td>\n",
       "      <td>0</td>\n",
       "      <td>40</td>\n",
       "    </tr>\n",
       "    <tr>\n",
       "      <th>1</th>\n",
       "      <td>!ABBYY FineReader 12 Professional Edition Full...</td>\n",
       "      <td>1</td>\n",
       "      <td>76</td>\n",
       "    </tr>\n",
       "    <tr>\n",
       "      <th>2</th>\n",
       "      <td>***В ЛУЧАХ СЛАВЫ   (UNV)                    D</td>\n",
       "      <td>2</td>\n",
       "      <td>40</td>\n",
       "    </tr>\n",
       "    <tr>\n",
       "      <th>3</th>\n",
       "      <td>***ГОЛУБАЯ ВОЛНА  (Univ)                      D</td>\n",
       "      <td>3</td>\n",
       "      <td>40</td>\n",
       "    </tr>\n",
       "    <tr>\n",
       "      <th>4</th>\n",
       "      <td>***КОРОБКА (СТЕКЛО)                       D</td>\n",
       "      <td>4</td>\n",
       "      <td>40</td>\n",
       "    </tr>\n",
       "  </tbody>\n",
       "</table>\n",
       "</div>"
      ],
      "text/plain": [
       "                                           item_name  item_id  \\\n",
       "0          ! ВО ВЛАСТИ НАВАЖДЕНИЯ (ПЛАСТ.)         D        0   \n",
       "1  !ABBYY FineReader 12 Professional Edition Full...        1   \n",
       "2      ***В ЛУЧАХ СЛАВЫ   (UNV)                    D        2   \n",
       "3    ***ГОЛУБАЯ ВОЛНА  (Univ)                      D        3   \n",
       "4        ***КОРОБКА (СТЕКЛО)                       D        4   \n",
       "\n",
       "   item_category_id  \n",
       "0                40  \n",
       "1                76  \n",
       "2                40  \n",
       "3                40  \n",
       "4                40  "
      ]
     },
     "execution_count": 4,
     "metadata": {},
     "output_type": "execute_result"
    }
   ],
   "source": [
    "items=pd.read_csv(items)\n",
    "items.head()"
   ]
  },
  {
   "cell_type": "code",
   "execution_count": 5,
   "id": "28088465",
   "metadata": {
    "execution": {
     "iopub.execute_input": "2022-11-11T20:55:55.353404Z",
     "iopub.status.busy": "2022-11-11T20:55:55.352157Z",
     "iopub.status.idle": "2022-11-11T20:55:55.367671Z",
     "shell.execute_reply": "2022-11-11T20:55:55.366373Z"
    },
    "papermill": {
     "duration": 0.023316,
     "end_time": "2022-11-11T20:55:55.369712",
     "exception": false,
     "start_time": "2022-11-11T20:55:55.346396",
     "status": "completed"
    },
    "tags": []
   },
   "outputs": [
    {
     "data": {
      "text/html": [
       "<div>\n",
       "<style scoped>\n",
       "    .dataframe tbody tr th:only-of-type {\n",
       "        vertical-align: middle;\n",
       "    }\n",
       "\n",
       "    .dataframe tbody tr th {\n",
       "        vertical-align: top;\n",
       "    }\n",
       "\n",
       "    .dataframe thead th {\n",
       "        text-align: right;\n",
       "    }\n",
       "</style>\n",
       "<table border=\"1\" class=\"dataframe\">\n",
       "  <thead>\n",
       "    <tr style=\"text-align: right;\">\n",
       "      <th></th>\n",
       "      <th>item_category_name</th>\n",
       "      <th>item_category_id</th>\n",
       "    </tr>\n",
       "  </thead>\n",
       "  <tbody>\n",
       "    <tr>\n",
       "      <th>0</th>\n",
       "      <td>PC - Гарнитуры/Наушники</td>\n",
       "      <td>0</td>\n",
       "    </tr>\n",
       "    <tr>\n",
       "      <th>1</th>\n",
       "      <td>Аксессуары - PS2</td>\n",
       "      <td>1</td>\n",
       "    </tr>\n",
       "    <tr>\n",
       "      <th>2</th>\n",
       "      <td>Аксессуары - PS3</td>\n",
       "      <td>2</td>\n",
       "    </tr>\n",
       "    <tr>\n",
       "      <th>3</th>\n",
       "      <td>Аксессуары - PS4</td>\n",
       "      <td>3</td>\n",
       "    </tr>\n",
       "    <tr>\n",
       "      <th>4</th>\n",
       "      <td>Аксессуары - PSP</td>\n",
       "      <td>4</td>\n",
       "    </tr>\n",
       "  </tbody>\n",
       "</table>\n",
       "</div>"
      ],
      "text/plain": [
       "        item_category_name  item_category_id\n",
       "0  PC - Гарнитуры/Наушники                 0\n",
       "1         Аксессуары - PS2                 1\n",
       "2         Аксессуары - PS3                 2\n",
       "3         Аксессуары - PS4                 3\n",
       "4         Аксессуары - PSP                 4"
      ]
     },
     "execution_count": 5,
     "metadata": {},
     "output_type": "execute_result"
    }
   ],
   "source": [
    "categories=pd.read_csv(categories)\n",
    "categories.head()"
   ]
  },
  {
   "cell_type": "markdown",
   "id": "43303e47",
   "metadata": {
    "papermill": {
     "duration": 0.004546,
     "end_time": "2022-11-11T20:55:55.379298",
     "exception": false,
     "start_time": "2022-11-11T20:55:55.374752",
     "status": "completed"
    },
    "tags": []
   },
   "source": [
    "# Merged DataFrame"
   ]
  },
  {
   "cell_type": "code",
   "execution_count": 6,
   "id": "afc3f111",
   "metadata": {
    "execution": {
     "iopub.execute_input": "2022-11-11T20:55:55.390791Z",
     "iopub.status.busy": "2022-11-11T20:55:55.390407Z",
     "iopub.status.idle": "2022-11-11T20:55:55.720769Z",
     "shell.execute_reply": "2022-11-11T20:55:55.719592Z"
    },
    "papermill": {
     "duration": 0.338547,
     "end_time": "2022-11-11T20:55:55.722868",
     "exception": false,
     "start_time": "2022-11-11T20:55:55.384321",
     "status": "completed"
    },
    "tags": []
   },
   "outputs": [
    {
     "data": {
      "text/html": [
       "<div>\n",
       "<style scoped>\n",
       "    .dataframe tbody tr th:only-of-type {\n",
       "        vertical-align: middle;\n",
       "    }\n",
       "\n",
       "    .dataframe tbody tr th {\n",
       "        vertical-align: top;\n",
       "    }\n",
       "\n",
       "    .dataframe thead th {\n",
       "        text-align: right;\n",
       "    }\n",
       "</style>\n",
       "<table border=\"1\" class=\"dataframe\">\n",
       "  <thead>\n",
       "    <tr style=\"text-align: right;\">\n",
       "      <th></th>\n",
       "      <th>date</th>\n",
       "      <th>date_block_num</th>\n",
       "      <th>shop_id</th>\n",
       "      <th>item_id</th>\n",
       "      <th>item_price</th>\n",
       "      <th>item_cnt_day</th>\n",
       "      <th>shop_name</th>\n",
       "    </tr>\n",
       "  </thead>\n",
       "  <tbody>\n",
       "    <tr>\n",
       "      <th>0</th>\n",
       "      <td>02.01.2013</td>\n",
       "      <td>0</td>\n",
       "      <td>59</td>\n",
       "      <td>22154</td>\n",
       "      <td>999.0</td>\n",
       "      <td>1.0</td>\n",
       "      <td>Ярославль ТЦ \"Альтаир\"</td>\n",
       "    </tr>\n",
       "    <tr>\n",
       "      <th>1</th>\n",
       "      <td>10.01.2013</td>\n",
       "      <td>0</td>\n",
       "      <td>59</td>\n",
       "      <td>22151</td>\n",
       "      <td>399.0</td>\n",
       "      <td>1.0</td>\n",
       "      <td>Ярославль ТЦ \"Альтаир\"</td>\n",
       "    </tr>\n",
       "    <tr>\n",
       "      <th>2</th>\n",
       "      <td>04.01.2013</td>\n",
       "      <td>0</td>\n",
       "      <td>59</td>\n",
       "      <td>5603</td>\n",
       "      <td>699.0</td>\n",
       "      <td>1.0</td>\n",
       "      <td>Ярославль ТЦ \"Альтаир\"</td>\n",
       "    </tr>\n",
       "    <tr>\n",
       "      <th>3</th>\n",
       "      <td>19.01.2013</td>\n",
       "      <td>0</td>\n",
       "      <td>59</td>\n",
       "      <td>5587</td>\n",
       "      <td>199.0</td>\n",
       "      <td>2.0</td>\n",
       "      <td>Ярославль ТЦ \"Альтаир\"</td>\n",
       "    </tr>\n",
       "    <tr>\n",
       "      <th>4</th>\n",
       "      <td>31.01.2013</td>\n",
       "      <td>0</td>\n",
       "      <td>59</td>\n",
       "      <td>5613</td>\n",
       "      <td>5571.0</td>\n",
       "      <td>1.0</td>\n",
       "      <td>Ярославль ТЦ \"Альтаир\"</td>\n",
       "    </tr>\n",
       "  </tbody>\n",
       "</table>\n",
       "</div>"
      ],
      "text/plain": [
       "         date  date_block_num  shop_id  item_id  item_price  item_cnt_day  \\\n",
       "0  02.01.2013               0       59    22154       999.0           1.0   \n",
       "1  10.01.2013               0       59    22151       399.0           1.0   \n",
       "2  04.01.2013               0       59     5603       699.0           1.0   \n",
       "3  19.01.2013               0       59     5587       199.0           2.0   \n",
       "4  31.01.2013               0       59     5613      5571.0           1.0   \n",
       "\n",
       "                shop_name  \n",
       "0  Ярославль ТЦ \"Альтаир\"  \n",
       "1  Ярославль ТЦ \"Альтаир\"  \n",
       "2  Ярославль ТЦ \"Альтаир\"  \n",
       "3  Ярославль ТЦ \"Альтаир\"  \n",
       "4  Ярославль ТЦ \"Альтаир\"  "
      ]
     },
     "execution_count": 6,
     "metadata": {},
     "output_type": "execute_result"
    }
   ],
   "source": [
    "df=pd.merge(train, shops, on='shop_id')\n",
    "df.head()"
   ]
  },
  {
   "cell_type": "code",
   "execution_count": 7,
   "id": "a8c13393",
   "metadata": {
    "execution": {
     "iopub.execute_input": "2022-11-11T20:55:55.734902Z",
     "iopub.status.busy": "2022-11-11T20:55:55.734528Z",
     "iopub.status.idle": "2022-11-11T20:55:55.957666Z",
     "shell.execute_reply": "2022-11-11T20:55:55.955014Z"
    },
    "papermill": {
     "duration": 0.233626,
     "end_time": "2022-11-11T20:55:55.961806",
     "exception": false,
     "start_time": "2022-11-11T20:55:55.728180",
     "status": "completed"
    },
    "tags": []
   },
   "outputs": [
    {
     "data": {
      "text/plain": [
       "date              0\n",
       "date_block_num    0\n",
       "shop_id           0\n",
       "item_id           0\n",
       "item_price        0\n",
       "item_cnt_day      0\n",
       "shop_name         0\n",
       "dtype: int64"
      ]
     },
     "execution_count": 7,
     "metadata": {},
     "output_type": "execute_result"
    }
   ],
   "source": [
    "df.isnull().sum()"
   ]
  },
  {
   "cell_type": "markdown",
   "id": "fc3857c5",
   "metadata": {
    "papermill": {
     "duration": 0.00515,
     "end_time": "2022-11-11T20:55:55.972536",
     "exception": false,
     "start_time": "2022-11-11T20:55:55.967386",
     "status": "completed"
    },
    "tags": []
   },
   "source": [
    "# Create New Date Features"
   ]
  },
  {
   "cell_type": "code",
   "execution_count": 8,
   "id": "8421e27d",
   "metadata": {
    "execution": {
     "iopub.execute_input": "2022-11-11T20:55:55.984308Z",
     "iopub.status.busy": "2022-11-11T20:55:55.983917Z",
     "iopub.status.idle": "2022-11-11T20:55:57.034146Z",
     "shell.execute_reply": "2022-11-11T20:55:57.032681Z"
    },
    "papermill": {
     "duration": 1.059321,
     "end_time": "2022-11-11T20:55:57.036943",
     "exception": false,
     "start_time": "2022-11-11T20:55:55.977622",
     "status": "completed"
    },
    "tags": []
   },
   "outputs": [
    {
     "name": "stdout",
     "output_type": "stream",
     "text": [
      "[1, 2, 3, 4, 5, 6, 7, 8, 9, 10, 11, 12]\n"
     ]
    }
   ],
   "source": [
    "df['Month'] = df['date'].str[3:5].astype(int)\n",
    "months=list(df['Month'].unique())\n",
    "print(months)"
   ]
  },
  {
   "cell_type": "code",
   "execution_count": 9,
   "id": "b7af662c",
   "metadata": {
    "execution": {
     "iopub.execute_input": "2022-11-11T20:55:57.051184Z",
     "iopub.status.busy": "2022-11-11T20:55:57.050740Z",
     "iopub.status.idle": "2022-11-11T20:55:57.920476Z",
     "shell.execute_reply": "2022-11-11T20:55:57.919035Z"
    },
    "papermill": {
     "duration": 0.880477,
     "end_time": "2022-11-11T20:55:57.923050",
     "exception": false,
     "start_time": "2022-11-11T20:55:57.042573",
     "status": "completed"
    },
    "tags": []
   },
   "outputs": [
    {
     "name": "stdout",
     "output_type": "stream",
     "text": [
      "[1, 2, 3, 4, 5, 6, 7, 8, 9, 10, 11, 12, 13, 14, 15, 16, 17, 18, 19, 20, 21, 22, 23, 24, 25, 26, 27, 28, 29, 30, 31]\n"
     ]
    }
   ],
   "source": [
    "df['Day'] = df['date'].str[:2].astype(int)\n",
    "days=list(sorted(df['Day'].unique()))\n",
    "print(days)"
   ]
  },
  {
   "cell_type": "code",
   "execution_count": 10,
   "id": "3d0e9913",
   "metadata": {
    "execution": {
     "iopub.execute_input": "2022-11-11T20:55:57.935161Z",
     "iopub.status.busy": "2022-11-11T20:55:57.934799Z",
     "iopub.status.idle": "2022-11-11T20:55:58.793599Z",
     "shell.execute_reply": "2022-11-11T20:55:58.792261Z"
    },
    "papermill": {
     "duration": 0.867218,
     "end_time": "2022-11-11T20:55:58.795666",
     "exception": false,
     "start_time": "2022-11-11T20:55:57.928448",
     "status": "completed"
    },
    "tags": []
   },
   "outputs": [
    {
     "name": "stdout",
     "output_type": "stream",
     "text": [
      "[2013, 2014, 2015]\n"
     ]
    }
   ],
   "source": [
    "df['Year'] = df['date'].str[6:10].astype(int)\n",
    "years=list(sorted(df['Year'].unique()))\n",
    "print(years)"
   ]
  },
  {
   "cell_type": "code",
   "execution_count": 11,
   "id": "db59f25c",
   "metadata": {
    "execution": {
     "iopub.execute_input": "2022-11-11T20:55:58.807394Z",
     "iopub.status.busy": "2022-11-11T20:55:58.807070Z",
     "iopub.status.idle": "2022-11-11T20:55:58.822645Z",
     "shell.execute_reply": "2022-11-11T20:55:58.821351Z"
    },
    "papermill": {
     "duration": 0.023634,
     "end_time": "2022-11-11T20:55:58.824590",
     "exception": false,
     "start_time": "2022-11-11T20:55:58.800956",
     "status": "completed"
    },
    "tags": []
   },
   "outputs": [
    {
     "data": {
      "text/html": [
       "<div>\n",
       "<style scoped>\n",
       "    .dataframe tbody tr th:only-of-type {\n",
       "        vertical-align: middle;\n",
       "    }\n",
       "\n",
       "    .dataframe tbody tr th {\n",
       "        vertical-align: top;\n",
       "    }\n",
       "\n",
       "    .dataframe thead th {\n",
       "        text-align: right;\n",
       "    }\n",
       "</style>\n",
       "<table border=\"1\" class=\"dataframe\">\n",
       "  <thead>\n",
       "    <tr style=\"text-align: right;\">\n",
       "      <th></th>\n",
       "      <th>date</th>\n",
       "      <th>date_block_num</th>\n",
       "      <th>shop_id</th>\n",
       "      <th>item_id</th>\n",
       "      <th>item_price</th>\n",
       "      <th>item_cnt_day</th>\n",
       "      <th>shop_name</th>\n",
       "      <th>Month</th>\n",
       "      <th>Day</th>\n",
       "      <th>Year</th>\n",
       "    </tr>\n",
       "  </thead>\n",
       "  <tbody>\n",
       "    <tr>\n",
       "      <th>0</th>\n",
       "      <td>02.01.2013</td>\n",
       "      <td>0</td>\n",
       "      <td>59</td>\n",
       "      <td>22154</td>\n",
       "      <td>999.0</td>\n",
       "      <td>1.0</td>\n",
       "      <td>Ярославль ТЦ \"Альтаир\"</td>\n",
       "      <td>1</td>\n",
       "      <td>2</td>\n",
       "      <td>2013</td>\n",
       "    </tr>\n",
       "    <tr>\n",
       "      <th>1</th>\n",
       "      <td>10.01.2013</td>\n",
       "      <td>0</td>\n",
       "      <td>59</td>\n",
       "      <td>22151</td>\n",
       "      <td>399.0</td>\n",
       "      <td>1.0</td>\n",
       "      <td>Ярославль ТЦ \"Альтаир\"</td>\n",
       "      <td>1</td>\n",
       "      <td>10</td>\n",
       "      <td>2013</td>\n",
       "    </tr>\n",
       "    <tr>\n",
       "      <th>2</th>\n",
       "      <td>04.01.2013</td>\n",
       "      <td>0</td>\n",
       "      <td>59</td>\n",
       "      <td>5603</td>\n",
       "      <td>699.0</td>\n",
       "      <td>1.0</td>\n",
       "      <td>Ярославль ТЦ \"Альтаир\"</td>\n",
       "      <td>1</td>\n",
       "      <td>4</td>\n",
       "      <td>2013</td>\n",
       "    </tr>\n",
       "    <tr>\n",
       "      <th>3</th>\n",
       "      <td>19.01.2013</td>\n",
       "      <td>0</td>\n",
       "      <td>59</td>\n",
       "      <td>5587</td>\n",
       "      <td>199.0</td>\n",
       "      <td>2.0</td>\n",
       "      <td>Ярославль ТЦ \"Альтаир\"</td>\n",
       "      <td>1</td>\n",
       "      <td>19</td>\n",
       "      <td>2013</td>\n",
       "    </tr>\n",
       "    <tr>\n",
       "      <th>4</th>\n",
       "      <td>31.01.2013</td>\n",
       "      <td>0</td>\n",
       "      <td>59</td>\n",
       "      <td>5613</td>\n",
       "      <td>5571.0</td>\n",
       "      <td>1.0</td>\n",
       "      <td>Ярославль ТЦ \"Альтаир\"</td>\n",
       "      <td>1</td>\n",
       "      <td>31</td>\n",
       "      <td>2013</td>\n",
       "    </tr>\n",
       "    <tr>\n",
       "      <th>5</th>\n",
       "      <td>10.01.2013</td>\n",
       "      <td>0</td>\n",
       "      <td>59</td>\n",
       "      <td>5623</td>\n",
       "      <td>699.0</td>\n",
       "      <td>1.0</td>\n",
       "      <td>Ярославль ТЦ \"Альтаир\"</td>\n",
       "      <td>1</td>\n",
       "      <td>10</td>\n",
       "      <td>2013</td>\n",
       "    </tr>\n",
       "    <tr>\n",
       "      <th>6</th>\n",
       "      <td>14.01.2013</td>\n",
       "      <td>0</td>\n",
       "      <td>59</td>\n",
       "      <td>5623</td>\n",
       "      <td>699.0</td>\n",
       "      <td>1.0</td>\n",
       "      <td>Ярославль ТЦ \"Альтаир\"</td>\n",
       "      <td>1</td>\n",
       "      <td>14</td>\n",
       "      <td>2013</td>\n",
       "    </tr>\n",
       "    <tr>\n",
       "      <th>7</th>\n",
       "      <td>10.01.2013</td>\n",
       "      <td>0</td>\n",
       "      <td>59</td>\n",
       "      <td>5629</td>\n",
       "      <td>2390.0</td>\n",
       "      <td>1.0</td>\n",
       "      <td>Ярославль ТЦ \"Альтаир\"</td>\n",
       "      <td>1</td>\n",
       "      <td>10</td>\n",
       "      <td>2013</td>\n",
       "    </tr>\n",
       "    <tr>\n",
       "      <th>8</th>\n",
       "      <td>04.01.2013</td>\n",
       "      <td>0</td>\n",
       "      <td>59</td>\n",
       "      <td>5643</td>\n",
       "      <td>2390.0</td>\n",
       "      <td>1.0</td>\n",
       "      <td>Ярославль ТЦ \"Альтаир\"</td>\n",
       "      <td>1</td>\n",
       "      <td>4</td>\n",
       "      <td>2013</td>\n",
       "    </tr>\n",
       "    <tr>\n",
       "      <th>9</th>\n",
       "      <td>17.01.2013</td>\n",
       "      <td>0</td>\n",
       "      <td>59</td>\n",
       "      <td>5643</td>\n",
       "      <td>2390.0</td>\n",
       "      <td>2.0</td>\n",
       "      <td>Ярославль ТЦ \"Альтаир\"</td>\n",
       "      <td>1</td>\n",
       "      <td>17</td>\n",
       "      <td>2013</td>\n",
       "    </tr>\n",
       "  </tbody>\n",
       "</table>\n",
       "</div>"
      ],
      "text/plain": [
       "         date  date_block_num  shop_id  item_id  item_price  item_cnt_day  \\\n",
       "0  02.01.2013               0       59    22154       999.0           1.0   \n",
       "1  10.01.2013               0       59    22151       399.0           1.0   \n",
       "2  04.01.2013               0       59     5603       699.0           1.0   \n",
       "3  19.01.2013               0       59     5587       199.0           2.0   \n",
       "4  31.01.2013               0       59     5613      5571.0           1.0   \n",
       "5  10.01.2013               0       59     5623       699.0           1.0   \n",
       "6  14.01.2013               0       59     5623       699.0           1.0   \n",
       "7  10.01.2013               0       59     5629      2390.0           1.0   \n",
       "8  04.01.2013               0       59     5643      2390.0           1.0   \n",
       "9  17.01.2013               0       59     5643      2390.0           2.0   \n",
       "\n",
       "                shop_name  Month  Day  Year  \n",
       "0  Ярославль ТЦ \"Альтаир\"      1    2  2013  \n",
       "1  Ярославль ТЦ \"Альтаир\"      1   10  2013  \n",
       "2  Ярославль ТЦ \"Альтаир\"      1    4  2013  \n",
       "3  Ярославль ТЦ \"Альтаир\"      1   19  2013  \n",
       "4  Ярославль ТЦ \"Альтаир\"      1   31  2013  \n",
       "5  Ярославль ТЦ \"Альтаир\"      1   10  2013  \n",
       "6  Ярославль ТЦ \"Альтаир\"      1   14  2013  \n",
       "7  Ярославль ТЦ \"Альтаир\"      1   10  2013  \n",
       "8  Ярославль ТЦ \"Альтаир\"      1    4  2013  \n",
       "9  Ярославль ТЦ \"Альтаир\"      1   17  2013  "
      ]
     },
     "execution_count": 11,
     "metadata": {},
     "output_type": "execute_result"
    }
   ],
   "source": [
    "df.head(10)"
   ]
  },
  {
   "cell_type": "markdown",
   "id": "79b1c278",
   "metadata": {
    "papermill": {
     "duration": 0.005253,
     "end_time": "2022-11-11T20:55:58.835625",
     "exception": false,
     "start_time": "2022-11-11T20:55:58.830372",
     "status": "completed"
    },
    "tags": []
   },
   "source": [
    "# Test Data"
   ]
  },
  {
   "cell_type": "code",
   "execution_count": 12,
   "id": "a7e42385",
   "metadata": {
    "execution": {
     "iopub.execute_input": "2022-11-11T20:55:58.848112Z",
     "iopub.status.busy": "2022-11-11T20:55:58.847720Z",
     "iopub.status.idle": "2022-11-11T20:55:58.941190Z",
     "shell.execute_reply": "2022-11-11T20:55:58.940473Z"
    },
    "papermill": {
     "duration": 0.102419,
     "end_time": "2022-11-11T20:55:58.943374",
     "exception": false,
     "start_time": "2022-11-11T20:55:58.840955",
     "status": "completed"
    },
    "tags": []
   },
   "outputs": [
    {
     "data": {
      "text/html": [
       "<div>\n",
       "<style scoped>\n",
       "    .dataframe tbody tr th:only-of-type {\n",
       "        vertical-align: middle;\n",
       "    }\n",
       "\n",
       "    .dataframe tbody tr th {\n",
       "        vertical-align: top;\n",
       "    }\n",
       "\n",
       "    .dataframe thead th {\n",
       "        text-align: right;\n",
       "    }\n",
       "</style>\n",
       "<table border=\"1\" class=\"dataframe\">\n",
       "  <thead>\n",
       "    <tr style=\"text-align: right;\">\n",
       "      <th></th>\n",
       "      <th>ID</th>\n",
       "      <th>shop_id</th>\n",
       "      <th>item_id</th>\n",
       "    </tr>\n",
       "  </thead>\n",
       "  <tbody>\n",
       "    <tr>\n",
       "      <th>0</th>\n",
       "      <td>0</td>\n",
       "      <td>5</td>\n",
       "      <td>5037</td>\n",
       "    </tr>\n",
       "    <tr>\n",
       "      <th>1</th>\n",
       "      <td>1</td>\n",
       "      <td>5</td>\n",
       "      <td>5320</td>\n",
       "    </tr>\n",
       "    <tr>\n",
       "      <th>2</th>\n",
       "      <td>2</td>\n",
       "      <td>5</td>\n",
       "      <td>5233</td>\n",
       "    </tr>\n",
       "    <tr>\n",
       "      <th>3</th>\n",
       "      <td>3</td>\n",
       "      <td>5</td>\n",
       "      <td>5232</td>\n",
       "    </tr>\n",
       "    <tr>\n",
       "      <th>4</th>\n",
       "      <td>4</td>\n",
       "      <td>5</td>\n",
       "      <td>5268</td>\n",
       "    </tr>\n",
       "    <tr>\n",
       "      <th>5</th>\n",
       "      <td>5</td>\n",
       "      <td>5</td>\n",
       "      <td>5039</td>\n",
       "    </tr>\n",
       "    <tr>\n",
       "      <th>6</th>\n",
       "      <td>6</td>\n",
       "      <td>5</td>\n",
       "      <td>5041</td>\n",
       "    </tr>\n",
       "    <tr>\n",
       "      <th>7</th>\n",
       "      <td>7</td>\n",
       "      <td>5</td>\n",
       "      <td>5046</td>\n",
       "    </tr>\n",
       "    <tr>\n",
       "      <th>8</th>\n",
       "      <td>8</td>\n",
       "      <td>5</td>\n",
       "      <td>5319</td>\n",
       "    </tr>\n",
       "    <tr>\n",
       "      <th>9</th>\n",
       "      <td>9</td>\n",
       "      <td>5</td>\n",
       "      <td>5003</td>\n",
       "    </tr>\n",
       "  </tbody>\n",
       "</table>\n",
       "</div>"
      ],
      "text/plain": [
       "   ID  shop_id  item_id\n",
       "0   0        5     5037\n",
       "1   1        5     5320\n",
       "2   2        5     5233\n",
       "3   3        5     5232\n",
       "4   4        5     5268\n",
       "5   5        5     5039\n",
       "6   6        5     5041\n",
       "7   7        5     5046\n",
       "8   8        5     5319\n",
       "9   9        5     5003"
      ]
     },
     "execution_count": 12,
     "metadata": {},
     "output_type": "execute_result"
    }
   ],
   "source": [
    "testDF=pd.read_csv(test)\n",
    "testDF.head(10)"
   ]
  },
  {
   "cell_type": "markdown",
   "id": "8f6d90e9",
   "metadata": {
    "papermill": {
     "duration": 0.005527,
     "end_time": "2022-11-11T20:55:58.955090",
     "exception": false,
     "start_time": "2022-11-11T20:55:58.949563",
     "status": "completed"
    },
    "tags": []
   },
   "source": [
    "# Submit "
   ]
  },
  {
   "cell_type": "code",
   "execution_count": 13,
   "id": "3bb9d101",
   "metadata": {
    "execution": {
     "iopub.execute_input": "2022-11-11T20:55:58.968557Z",
     "iopub.status.busy": "2022-11-11T20:55:58.968151Z",
     "iopub.status.idle": "2022-11-11T20:55:59.030814Z",
     "shell.execute_reply": "2022-11-11T20:55:59.029959Z"
    },
    "papermill": {
     "duration": 0.07171,
     "end_time": "2022-11-11T20:55:59.032639",
     "exception": false,
     "start_time": "2022-11-11T20:55:58.960929",
     "status": "completed"
    },
    "tags": []
   },
   "outputs": [
    {
     "data": {
      "text/html": [
       "<div>\n",
       "<style scoped>\n",
       "    .dataframe tbody tr th:only-of-type {\n",
       "        vertical-align: middle;\n",
       "    }\n",
       "\n",
       "    .dataframe tbody tr th {\n",
       "        vertical-align: top;\n",
       "    }\n",
       "\n",
       "    .dataframe thead th {\n",
       "        text-align: right;\n",
       "    }\n",
       "</style>\n",
       "<table border=\"1\" class=\"dataframe\">\n",
       "  <thead>\n",
       "    <tr style=\"text-align: right;\">\n",
       "      <th></th>\n",
       "      <th>ID</th>\n",
       "      <th>item_cnt_month</th>\n",
       "    </tr>\n",
       "  </thead>\n",
       "  <tbody>\n",
       "    <tr>\n",
       "      <th>0</th>\n",
       "      <td>0</td>\n",
       "      <td>0.5</td>\n",
       "    </tr>\n",
       "    <tr>\n",
       "      <th>1</th>\n",
       "      <td>1</td>\n",
       "      <td>0.5</td>\n",
       "    </tr>\n",
       "    <tr>\n",
       "      <th>2</th>\n",
       "      <td>2</td>\n",
       "      <td>0.5</td>\n",
       "    </tr>\n",
       "    <tr>\n",
       "      <th>3</th>\n",
       "      <td>3</td>\n",
       "      <td>0.5</td>\n",
       "    </tr>\n",
       "    <tr>\n",
       "      <th>4</th>\n",
       "      <td>4</td>\n",
       "      <td>0.5</td>\n",
       "    </tr>\n",
       "  </tbody>\n",
       "</table>\n",
       "</div>"
      ],
      "text/plain": [
       "   ID  item_cnt_month\n",
       "0   0             0.5\n",
       "1   1             0.5\n",
       "2   2             0.5\n",
       "3   3             0.5\n",
       "4   4             0.5"
      ]
     },
     "execution_count": 13,
     "metadata": {},
     "output_type": "execute_result"
    }
   ],
   "source": [
    "sample=pd.read_csv(sample)\n",
    "sample.head()"
   ]
  }
 ],
 "metadata": {
  "kernelspec": {
   "display_name": "Python 3",
   "language": "python",
   "name": "python3"
  },
  "language_info": {
   "codemirror_mode": {
    "name": "ipython",
    "version": 3
   },
   "file_extension": ".py",
   "mimetype": "text/x-python",
   "name": "python",
   "nbconvert_exporter": "python",
   "pygments_lexer": "ipython3",
   "version": "3.7.12"
  },
  "papermill": {
   "default_parameters": {},
   "duration": 16.134444,
   "end_time": "2022-11-11T20:55:59.659599",
   "environment_variables": {},
   "exception": null,
   "input_path": "__notebook__.ipynb",
   "output_path": "__notebook__.ipynb",
   "parameters": {},
   "start_time": "2022-11-11T20:55:43.525155",
   "version": "2.3.4"
  }
 },
 "nbformat": 4,
 "nbformat_minor": 5
}
