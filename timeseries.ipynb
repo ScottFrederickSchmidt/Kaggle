{
 "cells": [
  {
   "cell_type": "markdown",
   "id": "3dab4b39",
   "metadata": {
    "papermill": {
     "duration": 0.026356,
     "end_time": "2022-05-12T21:16:19.557005",
     "exception": false,
     "start_time": "2022-05-12T21:16:19.530649",
     "status": "completed"
    },
    "tags": []
   },
   "source": [
    "# Store Sales \n",
    "Use time series forecating and machine learning to predict grocery sales. Predict sales for the thousands of product families sold at Favorita stores located in Ecuador. The training data includes dates, store and product information, whether that item was being promoted, as well as the sales numbers. More accurate forecasting can decrease food waste related to overstocking and improve customer satisfaction. "
   ]
  },
  {
   "cell_type": "markdown",
   "id": "0825a7c6",
   "metadata": {
    "papermill": {
     "duration": 0.025122,
     "end_time": "2022-05-12T21:16:19.609023",
     "exception": false,
     "start_time": "2022-05-12T21:16:19.583901",
     "status": "completed"
    },
    "tags": []
   },
   "source": [
    "# Datasets "
   ]
  },
  {
   "cell_type": "code",
   "execution_count": 1,
   "id": "5e29f436",
   "metadata": {
    "_kg_hide-input": true,
    "execution": {
     "iopub.execute_input": "2022-05-12T21:16:19.666226Z",
     "iopub.status.busy": "2022-05-12T21:16:19.664457Z",
     "iopub.status.idle": "2022-05-12T21:16:21.033100Z",
     "shell.execute_reply": "2022-05-12T21:16:21.033556Z",
     "shell.execute_reply.started": "2022-05-12T19:28:56.732739Z"
    },
    "papermill": {
     "duration": 1.399089,
     "end_time": "2022-05-12T21:16:21.033849",
     "exception": false,
     "start_time": "2022-05-12T21:16:19.634760",
     "status": "completed"
    },
    "tags": []
   },
   "outputs": [],
   "source": [
    "import numpy as np\n",
    "import pandas as pd\n",
    "import seaborn as sns\n",
    "import matplotlib.pyplot as plt\n",
    "from sklearn.model_selection import train_test_split, cross_validate\n",
    "from statistics import mean\n",
    "from sklearn.metrics import mean_absolute_error, mean_squared_error, r2_score\n",
    "from sklearn.datasets import make_classification\n",
    "from sklearn import ensemble\n",
    "import sklearn.metrics as metrics\n",
    "\n",
    "train=r'/kaggle/input/store-sales-time-series-forecasting/train.csv'\n",
    "test=r'/kaggle/input/store-sales-time-series-forecasting/test.csv'\n",
    "transaction=r'/kaggle/input/store-sales-time-series-forecasting/transactions.csv'\n",
    "stores=r'/kaggle/input/store-sales-time-series-forecasting/stores.csv'\n",
    "oil=r'/kaggle/input/store-sales-time-series-forecasting/oil.csv'\n",
    "event=r'/kaggle/input/store-sales-time-series-forecasting/holidays_events.csv'"
   ]
  },
  {
   "cell_type": "markdown",
   "id": "900f065d",
   "metadata": {
    "papermill": {
     "duration": 0.025419,
     "end_time": "2022-05-12T21:16:21.085454",
     "exception": false,
     "start_time": "2022-05-12T21:16:21.060035",
     "status": "completed"
    },
    "tags": []
   },
   "source": [
    "# Train Dataset \n",
    "The shape of the train dataset is 3,000,888 rows × 6 columns. The training data includes dates, store and product information, whether that item was being promoted, as well as the sales numbers."
   ]
  },
  {
   "cell_type": "code",
   "execution_count": 2,
   "id": "ae34c726",
   "metadata": {
    "execution": {
     "iopub.execute_input": "2022-05-12T21:16:21.143367Z",
     "iopub.status.busy": "2022-05-12T21:16:21.142776Z",
     "iopub.status.idle": "2022-05-12T21:16:23.656420Z",
     "shell.execute_reply": "2022-05-12T21:16:23.657334Z",
     "shell.execute_reply.started": "2022-05-12T19:28:56.857772Z"
    },
    "papermill": {
     "duration": 2.546851,
     "end_time": "2022-05-12T21:16:23.657540",
     "exception": false,
     "start_time": "2022-05-12T21:16:21.110689",
     "status": "completed"
    },
    "tags": []
   },
   "outputs": [
    {
     "name": "stdout",
     "output_type": "stream",
     "text": [
      "(3000888, 6)\n"
     ]
    },
    {
     "data": {
      "text/html": [
       "<div>\n",
       "<style scoped>\n",
       "    .dataframe tbody tr th:only-of-type {\n",
       "        vertical-align: middle;\n",
       "    }\n",
       "\n",
       "    .dataframe tbody tr th {\n",
       "        vertical-align: top;\n",
       "    }\n",
       "\n",
       "    .dataframe thead th {\n",
       "        text-align: right;\n",
       "    }\n",
       "</style>\n",
       "<table border=\"1\" class=\"dataframe\">\n",
       "  <thead>\n",
       "    <tr style=\"text-align: right;\">\n",
       "      <th></th>\n",
       "      <th>id</th>\n",
       "      <th>date</th>\n",
       "      <th>store_nbr</th>\n",
       "      <th>family</th>\n",
       "      <th>sales</th>\n",
       "      <th>onpromotion</th>\n",
       "    </tr>\n",
       "  </thead>\n",
       "  <tbody>\n",
       "    <tr>\n",
       "      <th>0</th>\n",
       "      <td>0</td>\n",
       "      <td>2013-01-01</td>\n",
       "      <td>1</td>\n",
       "      <td>AUTOMOTIVE</td>\n",
       "      <td>0.0</td>\n",
       "      <td>0</td>\n",
       "    </tr>\n",
       "    <tr>\n",
       "      <th>1</th>\n",
       "      <td>1</td>\n",
       "      <td>2013-01-01</td>\n",
       "      <td>1</td>\n",
       "      <td>BABY CARE</td>\n",
       "      <td>0.0</td>\n",
       "      <td>0</td>\n",
       "    </tr>\n",
       "    <tr>\n",
       "      <th>2</th>\n",
       "      <td>2</td>\n",
       "      <td>2013-01-01</td>\n",
       "      <td>1</td>\n",
       "      <td>BEAUTY</td>\n",
       "      <td>0.0</td>\n",
       "      <td>0</td>\n",
       "    </tr>\n",
       "    <tr>\n",
       "      <th>3</th>\n",
       "      <td>3</td>\n",
       "      <td>2013-01-01</td>\n",
       "      <td>1</td>\n",
       "      <td>BEVERAGES</td>\n",
       "      <td>0.0</td>\n",
       "      <td>0</td>\n",
       "    </tr>\n",
       "    <tr>\n",
       "      <th>4</th>\n",
       "      <td>4</td>\n",
       "      <td>2013-01-01</td>\n",
       "      <td>1</td>\n",
       "      <td>BOOKS</td>\n",
       "      <td>0.0</td>\n",
       "      <td>0</td>\n",
       "    </tr>\n",
       "    <tr>\n",
       "      <th>5</th>\n",
       "      <td>5</td>\n",
       "      <td>2013-01-01</td>\n",
       "      <td>1</td>\n",
       "      <td>BREAD/BAKERY</td>\n",
       "      <td>0.0</td>\n",
       "      <td>0</td>\n",
       "    </tr>\n",
       "    <tr>\n",
       "      <th>6</th>\n",
       "      <td>6</td>\n",
       "      <td>2013-01-01</td>\n",
       "      <td>1</td>\n",
       "      <td>CELEBRATION</td>\n",
       "      <td>0.0</td>\n",
       "      <td>0</td>\n",
       "    </tr>\n",
       "    <tr>\n",
       "      <th>7</th>\n",
       "      <td>7</td>\n",
       "      <td>2013-01-01</td>\n",
       "      <td>1</td>\n",
       "      <td>CLEANING</td>\n",
       "      <td>0.0</td>\n",
       "      <td>0</td>\n",
       "    </tr>\n",
       "    <tr>\n",
       "      <th>8</th>\n",
       "      <td>8</td>\n",
       "      <td>2013-01-01</td>\n",
       "      <td>1</td>\n",
       "      <td>DAIRY</td>\n",
       "      <td>0.0</td>\n",
       "      <td>0</td>\n",
       "    </tr>\n",
       "    <tr>\n",
       "      <th>9</th>\n",
       "      <td>9</td>\n",
       "      <td>2013-01-01</td>\n",
       "      <td>1</td>\n",
       "      <td>DELI</td>\n",
       "      <td>0.0</td>\n",
       "      <td>0</td>\n",
       "    </tr>\n",
       "  </tbody>\n",
       "</table>\n",
       "</div>"
      ],
      "text/plain": [
       "   id        date  store_nbr        family  sales  onpromotion\n",
       "0   0  2013-01-01          1    AUTOMOTIVE    0.0            0\n",
       "1   1  2013-01-01          1     BABY CARE    0.0            0\n",
       "2   2  2013-01-01          1        BEAUTY    0.0            0\n",
       "3   3  2013-01-01          1     BEVERAGES    0.0            0\n",
       "4   4  2013-01-01          1         BOOKS    0.0            0\n",
       "5   5  2013-01-01          1  BREAD/BAKERY    0.0            0\n",
       "6   6  2013-01-01          1   CELEBRATION    0.0            0\n",
       "7   7  2013-01-01          1      CLEANING    0.0            0\n",
       "8   8  2013-01-01          1         DAIRY    0.0            0\n",
       "9   9  2013-01-01          1          DELI    0.0            0"
      ]
     },
     "execution_count": 2,
     "metadata": {},
     "output_type": "execute_result"
    }
   ],
   "source": [
    "trainDF=pd.read_csv(train)\n",
    "print(trainDF.shape) #(3000888, 6)\n",
    "trainDF.head(10)"
   ]
  },
  {
   "cell_type": "code",
   "execution_count": 3,
   "id": "4ebaca61",
   "metadata": {
    "execution": {
     "iopub.execute_input": "2022-05-12T21:16:23.714869Z",
     "iopub.status.busy": "2022-05-12T21:16:23.713847Z",
     "iopub.status.idle": "2022-05-12T21:16:23.983415Z",
     "shell.execute_reply": "2022-05-12T21:16:23.982813Z",
     "shell.execute_reply.started": "2022-05-12T19:28:59.640438Z"
    },
    "papermill": {
     "duration": 0.299719,
     "end_time": "2022-05-12T21:16:23.983588",
     "exception": false,
     "start_time": "2022-05-12T21:16:23.683869",
     "status": "completed"
    },
    "tags": []
   },
   "outputs": [
    {
     "name": "stdout",
     "output_type": "stream",
     "text": [
      "Missing data by column as a percent:\n",
      "id           0.0\n",
      "date         0.0\n",
      "store_nbr    0.0\n",
      "family       0.0\n",
      "sales        0.0\n",
      "dtype: float64\n"
     ]
    }
   ],
   "source": [
    "#search for columns with missing values:\n",
    "def findNA():\n",
    "    print(\"Missing data by column as a percent:\")\n",
    "    findNA=trainDF.isnull().sum().sort_values(ascending=False)/len(trainDF)\n",
    "    print(findNA.head())\n",
    "findNA() "
   ]
  },
  {
   "cell_type": "code",
   "execution_count": 4,
   "id": "5666f0ae",
   "metadata": {
    "execution": {
     "iopub.execute_input": "2022-05-12T21:16:24.041342Z",
     "iopub.status.busy": "2022-05-12T21:16:24.040768Z",
     "iopub.status.idle": "2022-05-12T21:16:24.057453Z",
     "shell.execute_reply": "2022-05-12T21:16:24.057029Z",
     "shell.execute_reply.started": "2022-05-12T19:29:00.316393Z"
    },
    "papermill": {
     "duration": 0.046338,
     "end_time": "2022-05-12T21:16:24.057596",
     "exception": false,
     "start_time": "2022-05-12T21:16:24.011258",
     "status": "completed"
    },
    "tags": []
   },
   "outputs": [
    {
     "name": "stdout",
     "output_type": "stream",
     "text": [
      "(54, 5)\n"
     ]
    },
    {
     "data": {
      "text/html": [
       "<div>\n",
       "<style scoped>\n",
       "    .dataframe tbody tr th:only-of-type {\n",
       "        vertical-align: middle;\n",
       "    }\n",
       "\n",
       "    .dataframe tbody tr th {\n",
       "        vertical-align: top;\n",
       "    }\n",
       "\n",
       "    .dataframe thead th {\n",
       "        text-align: right;\n",
       "    }\n",
       "</style>\n",
       "<table border=\"1\" class=\"dataframe\">\n",
       "  <thead>\n",
       "    <tr style=\"text-align: right;\">\n",
       "      <th></th>\n",
       "      <th>store_nbr</th>\n",
       "      <th>city</th>\n",
       "      <th>state</th>\n",
       "      <th>type</th>\n",
       "      <th>cluster</th>\n",
       "    </tr>\n",
       "  </thead>\n",
       "  <tbody>\n",
       "    <tr>\n",
       "      <th>0</th>\n",
       "      <td>1</td>\n",
       "      <td>Quito</td>\n",
       "      <td>Pichincha</td>\n",
       "      <td>D</td>\n",
       "      <td>13</td>\n",
       "    </tr>\n",
       "    <tr>\n",
       "      <th>1</th>\n",
       "      <td>2</td>\n",
       "      <td>Quito</td>\n",
       "      <td>Pichincha</td>\n",
       "      <td>D</td>\n",
       "      <td>13</td>\n",
       "    </tr>\n",
       "    <tr>\n",
       "      <th>2</th>\n",
       "      <td>3</td>\n",
       "      <td>Quito</td>\n",
       "      <td>Pichincha</td>\n",
       "      <td>D</td>\n",
       "      <td>8</td>\n",
       "    </tr>\n",
       "    <tr>\n",
       "      <th>3</th>\n",
       "      <td>4</td>\n",
       "      <td>Quito</td>\n",
       "      <td>Pichincha</td>\n",
       "      <td>D</td>\n",
       "      <td>9</td>\n",
       "    </tr>\n",
       "    <tr>\n",
       "      <th>4</th>\n",
       "      <td>5</td>\n",
       "      <td>Santo Domingo</td>\n",
       "      <td>Santo Domingo de los Tsachilas</td>\n",
       "      <td>D</td>\n",
       "      <td>4</td>\n",
       "    </tr>\n",
       "  </tbody>\n",
       "</table>\n",
       "</div>"
      ],
      "text/plain": [
       "   store_nbr           city                           state type  cluster\n",
       "0          1          Quito                       Pichincha    D       13\n",
       "1          2          Quito                       Pichincha    D       13\n",
       "2          3          Quito                       Pichincha    D        8\n",
       "3          4          Quito                       Pichincha    D        9\n",
       "4          5  Santo Domingo  Santo Domingo de los Tsachilas    D        4"
      ]
     },
     "execution_count": 4,
     "metadata": {},
     "output_type": "execute_result"
    }
   ],
   "source": [
    "stores=pd.read_csv(stores)\n",
    "print(stores.shape) #(3000888, 6)\n",
    "stores.head()"
   ]
  },
  {
   "cell_type": "markdown",
   "id": "a8be8aa0",
   "metadata": {
    "papermill": {
     "duration": 0.027131,
     "end_time": "2022-05-12T21:16:24.111972",
     "exception": false,
     "start_time": "2022-05-12T21:16:24.084841",
     "status": "completed"
    },
    "tags": []
   },
   "source": [
    "# Feature Engineer Train Data\n",
    "Create new features including year, month, and day."
   ]
  },
  {
   "cell_type": "code",
   "execution_count": 5,
   "id": "e4f1e1db",
   "metadata": {
    "execution": {
     "iopub.execute_input": "2022-05-12T21:16:24.168651Z",
     "iopub.status.busy": "2022-05-12T21:16:24.168038Z",
     "iopub.status.idle": "2022-05-12T21:16:24.188294Z",
     "shell.execute_reply": "2022-05-12T21:16:24.188738Z",
     "shell.execute_reply.started": "2022-05-12T19:29:00.339574Z"
    },
    "papermill": {
     "duration": 0.05018,
     "end_time": "2022-05-12T21:16:24.188895",
     "exception": false,
     "start_time": "2022-05-12T21:16:24.138715",
     "status": "completed"
    },
    "tags": []
   },
   "outputs": [
    {
     "data": {
      "text/html": [
       "<div>\n",
       "<style scoped>\n",
       "    .dataframe tbody tr th:only-of-type {\n",
       "        vertical-align: middle;\n",
       "    }\n",
       "\n",
       "    .dataframe tbody tr th {\n",
       "        vertical-align: top;\n",
       "    }\n",
       "\n",
       "    .dataframe thead th {\n",
       "        text-align: right;\n",
       "    }\n",
       "</style>\n",
       "<table border=\"1\" class=\"dataframe\">\n",
       "  <thead>\n",
       "    <tr style=\"text-align: right;\">\n",
       "      <th></th>\n",
       "      <th>id</th>\n",
       "      <th>date</th>\n",
       "      <th>store_nbr</th>\n",
       "      <th>family</th>\n",
       "      <th>sales</th>\n",
       "      <th>onpromotion</th>\n",
       "    </tr>\n",
       "  </thead>\n",
       "  <tbody>\n",
       "    <tr>\n",
       "      <th>0</th>\n",
       "      <td>0</td>\n",
       "      <td>2013-01-01</td>\n",
       "      <td>1</td>\n",
       "      <td>AUTOMOTIVE</td>\n",
       "      <td>0.0</td>\n",
       "      <td>0</td>\n",
       "    </tr>\n",
       "    <tr>\n",
       "      <th>1</th>\n",
       "      <td>1</td>\n",
       "      <td>2013-01-01</td>\n",
       "      <td>1</td>\n",
       "      <td>BABY CARE</td>\n",
       "      <td>0.0</td>\n",
       "      <td>0</td>\n",
       "    </tr>\n",
       "    <tr>\n",
       "      <th>2</th>\n",
       "      <td>2</td>\n",
       "      <td>2013-01-01</td>\n",
       "      <td>1</td>\n",
       "      <td>BEAUTY</td>\n",
       "      <td>0.0</td>\n",
       "      <td>0</td>\n",
       "    </tr>\n",
       "    <tr>\n",
       "      <th>3</th>\n",
       "      <td>3</td>\n",
       "      <td>2013-01-01</td>\n",
       "      <td>1</td>\n",
       "      <td>BEVERAGES</td>\n",
       "      <td>0.0</td>\n",
       "      <td>0</td>\n",
       "    </tr>\n",
       "    <tr>\n",
       "      <th>4</th>\n",
       "      <td>4</td>\n",
       "      <td>2013-01-01</td>\n",
       "      <td>1</td>\n",
       "      <td>BOOKS</td>\n",
       "      <td>0.0</td>\n",
       "      <td>0</td>\n",
       "    </tr>\n",
       "  </tbody>\n",
       "</table>\n",
       "</div>"
      ],
      "text/plain": [
       "   id        date  store_nbr      family  sales  onpromotion\n",
       "0   0  2013-01-01          1  AUTOMOTIVE    0.0            0\n",
       "1   1  2013-01-01          1   BABY CARE    0.0            0\n",
       "2   2  2013-01-01          1      BEAUTY    0.0            0\n",
       "3   3  2013-01-01          1   BEVERAGES    0.0            0\n",
       "4   4  2013-01-01          1       BOOKS    0.0            0"
      ]
     },
     "execution_count": 5,
     "metadata": {},
     "output_type": "execute_result"
    }
   ],
   "source": [
    "import datetime as dt\n",
    "from datetime import datetime\n",
    "\n",
    "#trainDF['year']=trainDF['date'].apply(lambda x: int(str(x)[:4])) #first four\n",
    "#trainDF['month']=trainDF['date'].apply(lambda x: int(str(x)[5:7])) #five and six\n",
    "#trainDF['day']=trainDF['date'].apply(lambda x: int(str(x)[-2:])) # last two\n",
    "trainDF['sales'].astype(int)\n",
    "trainDF.head()"
   ]
  },
  {
   "cell_type": "code",
   "execution_count": 6,
   "id": "e2cf0c44",
   "metadata": {
    "execution": {
     "iopub.execute_input": "2022-05-12T21:16:24.249008Z",
     "iopub.status.busy": "2022-05-12T21:16:24.245602Z",
     "iopub.status.idle": "2022-05-12T21:16:24.251323Z",
     "shell.execute_reply": "2022-05-12T21:16:24.251792Z",
     "shell.execute_reply.started": "2022-05-12T19:29:00.373885Z"
    },
    "papermill": {
     "duration": 0.035846,
     "end_time": "2022-05-12T21:16:24.251942",
     "exception": false,
     "start_time": "2022-05-12T21:16:24.216096",
     "status": "completed"
    },
    "tags": []
   },
   "outputs": [
    {
     "data": {
      "text/plain": [
       "id               int64\n",
       "date            object\n",
       "store_nbr        int64\n",
       "family          object\n",
       "sales          float64\n",
       "onpromotion      int64\n",
       "dtype: object"
      ]
     },
     "execution_count": 6,
     "metadata": {},
     "output_type": "execute_result"
    }
   ],
   "source": [
    "trainDF.dtypes"
   ]
  },
  {
   "cell_type": "markdown",
   "id": "a637f209",
   "metadata": {
    "papermill": {
     "duration": 0.026906,
     "end_time": "2022-05-12T21:16:24.306238",
     "exception": false,
     "start_time": "2022-05-12T21:16:24.279332",
     "status": "completed"
    },
    "tags": []
   },
   "source": [
    "# Correlations\n",
    "On a side note, AUC for logistic regression for onpromotions was: 0.8779. Therefore, promotions play a very significant part of sales. "
   ]
  },
  {
   "cell_type": "code",
   "execution_count": 7,
   "id": "a76c5074",
   "metadata": {
    "execution": {
     "iopub.execute_input": "2022-05-12T21:16:24.364338Z",
     "iopub.status.busy": "2022-05-12T21:16:24.363788Z",
     "iopub.status.idle": "2022-05-12T21:16:24.585472Z",
     "shell.execute_reply": "2022-05-12T21:16:24.585953Z",
     "shell.execute_reply.started": "2022-05-12T19:29:00.382882Z"
    },
    "papermill": {
     "duration": 0.252046,
     "end_time": "2022-05-12T21:16:24.586127",
     "exception": false,
     "start_time": "2022-05-12T21:16:24.334081",
     "status": "completed"
    },
    "tags": []
   },
   "outputs": [
    {
     "data": {
      "text/html": [
       "<div>\n",
       "<style scoped>\n",
       "    .dataframe tbody tr th:only-of-type {\n",
       "        vertical-align: middle;\n",
       "    }\n",
       "\n",
       "    .dataframe tbody tr th {\n",
       "        vertical-align: top;\n",
       "    }\n",
       "\n",
       "    .dataframe thead th {\n",
       "        text-align: right;\n",
       "    }\n",
       "</style>\n",
       "<table border=\"1\" class=\"dataframe\">\n",
       "  <thead>\n",
       "    <tr style=\"text-align: right;\">\n",
       "      <th></th>\n",
       "      <th>id</th>\n",
       "      <th>store_nbr</th>\n",
       "      <th>sales</th>\n",
       "      <th>onpromotion</th>\n",
       "    </tr>\n",
       "  </thead>\n",
       "  <tbody>\n",
       "    <tr>\n",
       "      <th>id</th>\n",
       "      <td>1.000000</td>\n",
       "      <td>0.000301</td>\n",
       "      <td>0.085784</td>\n",
       "      <td>0.206260</td>\n",
       "    </tr>\n",
       "    <tr>\n",
       "      <th>store_nbr</th>\n",
       "      <td>0.000301</td>\n",
       "      <td>1.000000</td>\n",
       "      <td>0.041196</td>\n",
       "      <td>0.007286</td>\n",
       "    </tr>\n",
       "    <tr>\n",
       "      <th>sales</th>\n",
       "      <td>0.085784</td>\n",
       "      <td>0.041196</td>\n",
       "      <td>1.000000</td>\n",
       "      <td>0.427923</td>\n",
       "    </tr>\n",
       "    <tr>\n",
       "      <th>onpromotion</th>\n",
       "      <td>0.206260</td>\n",
       "      <td>0.007286</td>\n",
       "      <td>0.427923</td>\n",
       "      <td>1.000000</td>\n",
       "    </tr>\n",
       "  </tbody>\n",
       "</table>\n",
       "</div>"
      ],
      "text/plain": [
       "                   id  store_nbr     sales  onpromotion\n",
       "id           1.000000   0.000301  0.085784     0.206260\n",
       "store_nbr    0.000301   1.000000  0.041196     0.007286\n",
       "sales        0.085784   0.041196  1.000000     0.427923\n",
       "onpromotion  0.206260   0.007286  0.427923     1.000000"
      ]
     },
     "execution_count": 7,
     "metadata": {},
     "output_type": "execute_result"
    }
   ],
   "source": [
    "trainDF.corr()"
   ]
  },
  {
   "cell_type": "markdown",
   "id": "87b43e6e",
   "metadata": {
    "papermill": {
     "duration": 0.027764,
     "end_time": "2022-05-12T21:16:24.641896",
     "exception": false,
     "start_time": "2022-05-12T21:16:24.614132",
     "status": "completed"
    },
    "tags": []
   },
   "source": [
    "# Transactions \n",
    "The original transaction dataset is 83488 rows × 3 columns. There was no missing data."
   ]
  },
  {
   "cell_type": "code",
   "execution_count": 8,
   "id": "770c66c9",
   "metadata": {
    "execution": {
     "iopub.execute_input": "2022-05-12T21:16:24.701241Z",
     "iopub.status.busy": "2022-05-12T21:16:24.700708Z",
     "iopub.status.idle": "2022-05-12T21:16:24.769635Z",
     "shell.execute_reply": "2022-05-12T21:16:24.769131Z",
     "shell.execute_reply.started": "2022-05-12T19:29:00.7674Z"
    },
    "papermill": {
     "duration": 0.099649,
     "end_time": "2022-05-12T21:16:24.769774",
     "exception": false,
     "start_time": "2022-05-12T21:16:24.670125",
     "status": "completed"
    },
    "tags": []
   },
   "outputs": [
    {
     "data": {
      "text/html": [
       "<div>\n",
       "<style scoped>\n",
       "    .dataframe tbody tr th:only-of-type {\n",
       "        vertical-align: middle;\n",
       "    }\n",
       "\n",
       "    .dataframe tbody tr th {\n",
       "        vertical-align: top;\n",
       "    }\n",
       "\n",
       "    .dataframe thead th {\n",
       "        text-align: right;\n",
       "    }\n",
       "</style>\n",
       "<table border=\"1\" class=\"dataframe\">\n",
       "  <thead>\n",
       "    <tr style=\"text-align: right;\">\n",
       "      <th></th>\n",
       "      <th>date</th>\n",
       "      <th>store_nbr</th>\n",
       "      <th>transactions</th>\n",
       "    </tr>\n",
       "  </thead>\n",
       "  <tbody>\n",
       "    <tr>\n",
       "      <th>0</th>\n",
       "      <td>2013-01-01</td>\n",
       "      <td>25</td>\n",
       "      <td>770</td>\n",
       "    </tr>\n",
       "    <tr>\n",
       "      <th>1</th>\n",
       "      <td>2013-01-02</td>\n",
       "      <td>1</td>\n",
       "      <td>2111</td>\n",
       "    </tr>\n",
       "    <tr>\n",
       "      <th>2</th>\n",
       "      <td>2013-01-02</td>\n",
       "      <td>2</td>\n",
       "      <td>2358</td>\n",
       "    </tr>\n",
       "    <tr>\n",
       "      <th>3</th>\n",
       "      <td>2013-01-02</td>\n",
       "      <td>3</td>\n",
       "      <td>3487</td>\n",
       "    </tr>\n",
       "    <tr>\n",
       "      <th>4</th>\n",
       "      <td>2013-01-02</td>\n",
       "      <td>4</td>\n",
       "      <td>1922</td>\n",
       "    </tr>\n",
       "  </tbody>\n",
       "</table>\n",
       "</div>"
      ],
      "text/plain": [
       "         date  store_nbr  transactions\n",
       "0  2013-01-01         25           770\n",
       "1  2013-01-02          1          2111\n",
       "2  2013-01-02          2          2358\n",
       "3  2013-01-02          3          3487\n",
       "4  2013-01-02          4          1922"
      ]
     },
     "execution_count": 8,
     "metadata": {},
     "output_type": "execute_result"
    }
   ],
   "source": [
    "tDF=pd.read_csv(transaction)\n",
    "tDF.drop_duplicates() \n",
    "tDF.dropna(axis=0, how='any', thresh=None, subset=None, inplace=False) \n",
    "tDF.head() "
   ]
  },
  {
   "cell_type": "code",
   "execution_count": 9,
   "id": "349ff251",
   "metadata": {
    "execution": {
     "iopub.execute_input": "2022-05-12T21:16:24.833261Z",
     "iopub.status.busy": "2022-05-12T21:16:24.832677Z",
     "iopub.status.idle": "2022-05-12T21:16:25.040138Z",
     "shell.execute_reply": "2022-05-12T21:16:25.039678Z",
     "shell.execute_reply.started": "2022-05-12T19:29:00.844522Z"
    },
    "papermill": {
     "duration": 0.242024,
     "end_time": "2022-05-12T21:16:25.040274",
     "exception": false,
     "start_time": "2022-05-12T21:16:24.798250",
     "status": "completed"
    },
    "tags": []
   },
   "outputs": [
    {
     "data": {
      "text/html": [
       "<div>\n",
       "<style scoped>\n",
       "    .dataframe tbody tr th:only-of-type {\n",
       "        vertical-align: middle;\n",
       "    }\n",
       "\n",
       "    .dataframe tbody tr th {\n",
       "        vertical-align: top;\n",
       "    }\n",
       "\n",
       "    .dataframe thead th {\n",
       "        text-align: right;\n",
       "    }\n",
       "</style>\n",
       "<table border=\"1\" class=\"dataframe\">\n",
       "  <thead>\n",
       "    <tr style=\"text-align: right;\">\n",
       "      <th></th>\n",
       "      <th>date</th>\n",
       "      <th>store_nbr</th>\n",
       "      <th>transactions</th>\n",
       "      <th>year</th>\n",
       "      <th>month</th>\n",
       "      <th>day</th>\n",
       "    </tr>\n",
       "  </thead>\n",
       "  <tbody>\n",
       "    <tr>\n",
       "      <th>0</th>\n",
       "      <td>2013-01-01</td>\n",
       "      <td>25</td>\n",
       "      <td>770</td>\n",
       "      <td>2013</td>\n",
       "      <td>1</td>\n",
       "      <td>1</td>\n",
       "    </tr>\n",
       "    <tr>\n",
       "      <th>1</th>\n",
       "      <td>2013-01-02</td>\n",
       "      <td>1</td>\n",
       "      <td>2111</td>\n",
       "      <td>2013</td>\n",
       "      <td>1</td>\n",
       "      <td>2</td>\n",
       "    </tr>\n",
       "    <tr>\n",
       "      <th>2</th>\n",
       "      <td>2013-01-02</td>\n",
       "      <td>2</td>\n",
       "      <td>2358</td>\n",
       "      <td>2013</td>\n",
       "      <td>1</td>\n",
       "      <td>2</td>\n",
       "    </tr>\n",
       "    <tr>\n",
       "      <th>3</th>\n",
       "      <td>2013-01-02</td>\n",
       "      <td>3</td>\n",
       "      <td>3487</td>\n",
       "      <td>2013</td>\n",
       "      <td>1</td>\n",
       "      <td>2</td>\n",
       "    </tr>\n",
       "    <tr>\n",
       "      <th>4</th>\n",
       "      <td>2013-01-02</td>\n",
       "      <td>4</td>\n",
       "      <td>1922</td>\n",
       "      <td>2013</td>\n",
       "      <td>1</td>\n",
       "      <td>2</td>\n",
       "    </tr>\n",
       "  </tbody>\n",
       "</table>\n",
       "</div>"
      ],
      "text/plain": [
       "         date  store_nbr  transactions  year  month  day\n",
       "0  2013-01-01         25           770  2013      1    1\n",
       "1  2013-01-02          1          2111  2013      1    2\n",
       "2  2013-01-02          2          2358  2013      1    2\n",
       "3  2013-01-02          3          3487  2013      1    2\n",
       "4  2013-01-02          4          1922  2013      1    2"
      ]
     },
     "execution_count": 9,
     "metadata": {},
     "output_type": "execute_result"
    }
   ],
   "source": [
    "tDF=pd.read_csv(transaction)\n",
    "tDF.drop_duplicates() \n",
    "tDF.dropna(axis=0, how='any', thresh=None, subset=None, inplace=False) #no missing data\n",
    "\n",
    "#Feature three new columns with year, month, and day:\n",
    "tDF['year']=tDF['date'].apply(lambda x: int(str(x)[:4])) #first four\n",
    "tDF['month']=tDF['date'].apply(lambda x: int(str(x)[5:7])) #five and six\n",
    "tDF['day']=tDF['date'].apply(lambda x: int(str(x)[-2:])) # last two\n",
    "\n",
    "#Verify the new columns are setup correctly:\n",
    "#print(tDF['day'].unique()) # Correctly prints numbers 1 to 31\n",
    "#print(tDF['month'].unique()) # [ 1  2  3  4  5  6  7  8  9 10 11 12]\n",
    "#print(tDF['year'].unique()) # [2013 2014 2015 2016 2017]\n",
    "\n",
    "tDF.head() "
   ]
  },
  {
   "cell_type": "code",
   "execution_count": 10,
   "id": "15cc8b43",
   "metadata": {
    "execution": {
     "iopub.execute_input": "2022-05-12T21:16:25.103994Z",
     "iopub.status.busy": "2022-05-12T21:16:25.103100Z",
     "iopub.status.idle": "2022-05-12T21:16:25.106721Z",
     "shell.execute_reply": "2022-05-12T21:16:25.106251Z",
     "shell.execute_reply.started": "2022-05-12T19:29:01.183401Z"
    },
    "papermill": {
     "duration": 0.037789,
     "end_time": "2022-05-12T21:16:25.106846",
     "exception": false,
     "start_time": "2022-05-12T21:16:25.069057",
     "status": "completed"
    },
    "tags": []
   },
   "outputs": [
    {
     "data": {
      "text/plain": [
       "date            object\n",
       "store_nbr        int64\n",
       "transactions     int64\n",
       "year             int64\n",
       "month            int64\n",
       "day              int64\n",
       "dtype: object"
      ]
     },
     "execution_count": 10,
     "metadata": {},
     "output_type": "execute_result"
    }
   ],
   "source": [
    "tDF.dtypes"
   ]
  },
  {
   "cell_type": "markdown",
   "id": "330b9741",
   "metadata": {
    "papermill": {
     "duration": 0.029092,
     "end_time": "2022-05-12T21:16:25.165209",
     "exception": false,
     "start_time": "2022-05-12T21:16:25.136117",
     "status": "completed"
    },
    "tags": []
   },
   "source": [
    "# Yearly Sales\n",
    "The graph clearly shows that sales went down in 2017. This is not a good trend. Prior to 2017, sales were mostly flat from years 2013 to 2016. There is a negative correlation, -.57 which verifies that sales are decreasing.  "
   ]
  },
  {
   "cell_type": "code",
   "execution_count": 11,
   "id": "83c34dac",
   "metadata": {
    "execution": {
     "iopub.execute_input": "2022-05-12T21:16:25.228199Z",
     "iopub.status.busy": "2022-05-12T21:16:25.227619Z",
     "iopub.status.idle": "2022-05-12T21:16:25.426249Z",
     "shell.execute_reply": "2022-05-12T21:16:25.426765Z",
     "shell.execute_reply.started": "2022-05-12T19:29:01.194133Z"
    },
    "papermill": {
     "duration": 0.231344,
     "end_time": "2022-05-12T21:16:25.426933",
     "exception": false,
     "start_time": "2022-05-12T21:16:25.195589",
     "status": "completed"
    },
    "tags": []
   },
   "outputs": [
    {
     "name": "stdout",
     "output_type": "stream",
     "text": [
      "   year  transactions\n",
      "0  2013      29107173\n",
      "1  2014      30006929\n",
      "2  2015      31312370\n",
      "3  2016      31052337\n",
      "4  2017      20000136\n"
     ]
    },
    {
     "data": {
      "image/png": "[encoded data removed]",
      "text/plain": [
       "<Figure size 432x288 with 1 Axes>"
      ]
     },
     "metadata": {
      "needs_background": "light"
     },
     "output_type": "display_data"
    },
    {
     "name": "stdout",
     "output_type": "stream",
     "text": [
      "-0.5752  is the correlations between year and transactions\n"
     ]
    }
   ],
   "source": [
    "yearGb=tDF.groupby('year')['transactions'].sum().reset_index()\n",
    "print(yearGb)\n",
    "x=yearGb['year']\n",
    "y=yearGb['transactions']\n",
    "plt.title(\"Transactions By Year:\")\n",
    "plt.xticks(rotation=90)\n",
    "plt.bar(x,y)\n",
    "plt.show()\n",
    "\n",
    "yearCorr=x.corr(y).round(4)\n",
    "print(yearCorr, \" is the correlations between year and transactions\")"
   ]
  },
  {
   "cell_type": "markdown",
   "id": "f790a384",
   "metadata": {
    "papermill": {
     "duration": 0.030373,
     "end_time": "2022-05-12T21:16:25.487909",
     "exception": false,
     "start_time": "2022-05-12T21:16:25.457536",
     "status": "completed"
    },
    "tags": []
   },
   "source": [
    "# Monthly Sales \n",
    "Sales are the least in September, October, and November. The rest of the months are fairly similiar. Surprisingly, December did not have the highest sales as normally that is when stores have most of their sales from Christmas."
   ]
  },
  {
   "cell_type": "code",
   "execution_count": 12,
   "id": "f812cd5e",
   "metadata": {
    "execution": {
     "iopub.execute_input": "2022-05-12T21:16:25.555878Z",
     "iopub.status.busy": "2022-05-12T21:16:25.555010Z",
     "iopub.status.idle": "2022-05-12T21:16:25.711840Z",
     "shell.execute_reply": "2022-05-12T21:16:25.712632Z",
     "shell.execute_reply.started": "2022-05-12T19:29:01.370328Z"
    },
    "papermill": {
     "duration": 0.194246,
     "end_time": "2022-05-12T21:16:25.712854",
     "exception": false,
     "start_time": "2022-05-12T21:16:25.518608",
     "status": "completed"
    },
    "tags": []
   },
   "outputs": [
    {
     "name": "stdout",
     "output_type": "stream",
     "text": [
      "    month  transactions\n",
      "0       1      12156198\n",
      "1       2      11707934\n",
      "2       3      12917913\n",
      "3       4      12633531\n",
      "4       5      13112679\n",
      "5       6      12482179\n",
      "6       7      12827206\n",
      "7       8      11545571\n",
      "8       9       9811819\n",
      "9      10      10048234\n",
      "10     11       9877873\n",
      "11     12      12357808\n"
     ]
    },
    {
     "data": {
      "image/png": "[encoded data removed]",
      "text/plain": [
       "<Figure size 432x288 with 1 Axes>"
      ]
     },
     "metadata": {
      "needs_background": "light"
     },
     "output_type": "display_data"
    },
    {
     "name": "stdout",
     "output_type": "stream",
     "text": [
      "-0.545  is the correlations between month and transactions\n"
     ]
    }
   ],
   "source": [
    "monthGb=tDF.groupby('month')['transactions'].sum().reset_index()\n",
    "print(monthGb)\n",
    "x=monthGb['month']\n",
    "y=monthGb['transactions']\n",
    "plt.title(\"Transactions By Month:\")\n",
    "plt.xticks(rotation=90)\n",
    "plt.bar(x,y)\n",
    "plt.show()\n",
    "\n",
    "monthCorr=x.corr(y).round(4)\n",
    "print(monthCorr, \" is the correlations between month and transactions\")"
   ]
  },
  {
   "cell_type": "markdown",
   "id": "e357aea2",
   "metadata": {
    "papermill": {
     "duration": 0.03119,
     "end_time": "2022-05-12T21:16:25.776621",
     "exception": false,
     "start_time": "2022-05-12T21:16:25.745431",
     "status": "completed"
    },
    "tags": []
   },
   "source": [
    "# Family"
   ]
  },
  {
   "cell_type": "code",
   "execution_count": 13,
   "id": "b76f0dc2",
   "metadata": {
    "execution": {
     "iopub.execute_input": "2022-05-12T21:16:25.844882Z",
     "iopub.status.busy": "2022-05-12T21:16:25.843943Z",
     "iopub.status.idle": "2022-05-12T21:16:26.269303Z",
     "shell.execute_reply": "2022-05-12T21:16:26.269835Z",
     "shell.execute_reply.started": "2022-05-12T19:29:01.607289Z"
    },
    "papermill": {
     "duration": 0.461017,
     "end_time": "2022-05-12T21:16:26.270004",
     "exception": false,
     "start_time": "2022-05-12T21:16:25.808987",
     "status": "completed"
    },
    "tags": []
   },
   "outputs": [
    {
     "data": {
      "image/png": "[encoded data removed]",
      "text/plain": [
       "<Figure size 432x288 with 1 Axes>"
      ]
     },
     "metadata": {
      "needs_background": "light"
     },
     "output_type": "display_data"
    }
   ],
   "source": [
    "famGb=trainDF.groupby('family')['sales'].sum().reset_index().sort_values('sales', ascending=False).head(15)\n",
    "#print(famGb)\n",
    "x=famGb['family']\n",
    "y=famGb['sales']\n",
    "plt.title(\"Transactions By Family:\")\n",
    "plt.xticks(rotation=90)\n",
    "plt.bar(x,y)\n",
    "plt.show()"
   ]
  },
  {
   "cell_type": "markdown",
   "id": "05f97405",
   "metadata": {
    "papermill": {
     "duration": 0.032308,
     "end_time": "2022-05-12T21:16:26.335066",
     "exception": false,
     "start_time": "2022-05-12T21:16:26.302758",
     "status": "completed"
    },
    "tags": []
   },
   "source": [
    "# Numeric DataFrame"
   ]
  },
  {
   "cell_type": "code",
   "execution_count": 14,
   "id": "b35eeaa7",
   "metadata": {
    "execution": {
     "iopub.execute_input": "2022-05-12T21:16:26.404762Z",
     "iopub.status.busy": "2022-05-12T21:16:26.403821Z",
     "iopub.status.idle": "2022-05-12T21:16:26.455185Z",
     "shell.execute_reply": "2022-05-12T21:16:26.455611Z",
     "shell.execute_reply.started": "2022-05-12T19:29:02.128405Z"
    },
    "papermill": {
     "duration": 0.087967,
     "end_time": "2022-05-12T21:16:26.455788",
     "exception": false,
     "start_time": "2022-05-12T21:16:26.367821",
     "status": "completed"
    },
    "tags": []
   },
   "outputs": [
    {
     "data": {
      "text/html": [
       "<div>\n",
       "<style scoped>\n",
       "    .dataframe tbody tr th:only-of-type {\n",
       "        vertical-align: middle;\n",
       "    }\n",
       "\n",
       "    .dataframe tbody tr th {\n",
       "        vertical-align: top;\n",
       "    }\n",
       "\n",
       "    .dataframe thead th {\n",
       "        text-align: right;\n",
       "    }\n",
       "</style>\n",
       "<table border=\"1\" class=\"dataframe\">\n",
       "  <thead>\n",
       "    <tr style=\"text-align: right;\">\n",
       "      <th></th>\n",
       "      <th>id</th>\n",
       "      <th>store_nbr</th>\n",
       "      <th>sales</th>\n",
       "      <th>onpromotion</th>\n",
       "    </tr>\n",
       "  </thead>\n",
       "  <tbody>\n",
       "    <tr>\n",
       "      <th>0</th>\n",
       "      <td>0</td>\n",
       "      <td>1</td>\n",
       "      <td>0.0</td>\n",
       "      <td>0</td>\n",
       "    </tr>\n",
       "    <tr>\n",
       "      <th>1</th>\n",
       "      <td>1</td>\n",
       "      <td>1</td>\n",
       "      <td>0.0</td>\n",
       "      <td>0</td>\n",
       "    </tr>\n",
       "    <tr>\n",
       "      <th>2</th>\n",
       "      <td>2</td>\n",
       "      <td>1</td>\n",
       "      <td>0.0</td>\n",
       "      <td>0</td>\n",
       "    </tr>\n",
       "    <tr>\n",
       "      <th>3</th>\n",
       "      <td>3</td>\n",
       "      <td>1</td>\n",
       "      <td>0.0</td>\n",
       "      <td>0</td>\n",
       "    </tr>\n",
       "    <tr>\n",
       "      <th>4</th>\n",
       "      <td>4</td>\n",
       "      <td>1</td>\n",
       "      <td>0.0</td>\n",
       "      <td>0</td>\n",
       "    </tr>\n",
       "  </tbody>\n",
       "</table>\n",
       "</div>"
      ],
      "text/plain": [
       "   id  store_nbr  sales  onpromotion\n",
       "0   0          1    0.0            0\n",
       "1   1          1    0.0            0\n",
       "2   2          1    0.0            0\n",
       "3   3          1    0.0            0\n",
       "4   4          1    0.0            0"
      ]
     },
     "execution_count": 14,
     "metadata": {},
     "output_type": "execute_result"
    }
   ],
   "source": [
    "numerics = ['int16', 'int32', 'int64', 'float16', 'float32', 'float64']\n",
    "trainDF = trainDF.select_dtypes(include=numerics)\n",
    "trainDF.head()"
   ]
  },
  {
   "cell_type": "markdown",
   "id": "de3cc257",
   "metadata": {
    "papermill": {
     "duration": 0.033353,
     "end_time": "2022-05-12T21:16:26.522665",
     "exception": false,
     "start_time": "2022-05-12T21:16:26.489312",
     "status": "completed"
    },
    "tags": []
   },
   "source": [
    "# Split Data"
   ]
  },
  {
   "cell_type": "code",
   "execution_count": 15,
   "id": "2d4e292a",
   "metadata": {
    "execution": {
     "iopub.execute_input": "2022-05-12T21:16:26.596583Z",
     "iopub.status.busy": "2022-05-12T21:16:26.595274Z",
     "iopub.status.idle": "2022-05-12T21:16:27.075117Z",
     "shell.execute_reply": "2022-05-12T21:16:27.075653Z",
     "shell.execute_reply.started": "2022-05-12T19:29:02.168922Z"
    },
    "papermill": {
     "duration": 0.519412,
     "end_time": "2022-05-12T21:16:27.075834",
     "exception": false,
     "start_time": "2022-05-12T21:16:26.556422",
     "status": "completed"
    },
    "tags": []
   },
   "outputs": [],
   "source": [
    "X=trainDF.drop('sales', axis=1)\n",
    "y=trainDF['sales']\n",
    "\n",
    "X_train, X_test, y_train, y_test = train_test_split(\n",
    "    X, y, test_size = 0.30, random_state = 42)"
   ]
  },
  {
   "cell_type": "markdown",
   "id": "69c2452e",
   "metadata": {
    "papermill": {
     "duration": 0.032292,
     "end_time": "2022-05-12T21:16:27.141308",
     "exception": false,
     "start_time": "2022-05-12T21:16:27.109016",
     "status": "completed"
    },
    "tags": []
   },
   "source": [
    "# Linear Regression"
   ]
  },
  {
   "cell_type": "code",
   "execution_count": 16,
   "id": "2a61292d",
   "metadata": {
    "execution": {
     "iopub.execute_input": "2022-05-12T21:16:27.210183Z",
     "iopub.status.busy": "2022-05-12T21:16:27.209293Z",
     "iopub.status.idle": "2022-05-12T21:16:29.697174Z",
     "shell.execute_reply": "2022-05-12T21:16:29.697688Z",
     "shell.execute_reply.started": "2022-05-12T19:29:02.772158Z"
    },
    "papermill": {
     "duration": 2.52386,
     "end_time": "2022-05-12T21:16:29.697861",
     "exception": false,
     "start_time": "2022-05-12T21:16:27.174001",
     "status": "completed"
    },
    "tags": []
   },
   "outputs": [
    {
     "name": "stdout",
     "output_type": "stream",
     "text": [
      "Linear regression r2 score:  0.1845\n",
      "Linear Accuracy:  0.1845\n",
      "0.1167  linear regression cross validate mean\n",
      "999.4776  is lr MSE \n"
     ]
    },
    {
     "data": {
      "image/png": "[encoded data removed]",
      "text/plain": [
       "<Figure size 432x288 with 1 Axes>"
      ]
     },
     "metadata": {
      "needs_background": "light"
     },
     "output_type": "display_data"
    }
   ],
   "source": [
    "from sklearn.linear_model import LinearRegression, Ridge, Lasso\n",
    "\n",
    "#Fit and predict:\n",
    "lrModel = LinearRegression()\n",
    "lrModel.fit(X_train, y_train)\n",
    "lrPredict = lrModel.predict(X_test)\n",
    "\n",
    "# plt.scatter(y_test, predictions)\n",
    "plt.hist(y_test - lrPredict)\n",
    "\n",
    "#Linear Metrics:\n",
    "#auc = round( metrics.roc_auc_score(y_test, lrPredict), 4 ) \n",
    "r2 = r2_score(y_test, lrPredict).round(4) \n",
    "#print(\"AUC for linear regression is: \", auc)\n",
    "print(\"Linear regression r2 score: \", r2)\n",
    "\n",
    "#CROSS VALIDATE TEST RESULTS:\n",
    "lr_score = lrModel.score(X_test, y_test).round(4)  # train test \n",
    "print(\"Linear Accuracy: \", lr_score)\n",
    "lr_cv = cross_validate(lrModel, X, y, cv = 5, scoring= 'r2')\n",
    "lr_cvMean=lr_cv['test_score'].mean().round(4)\n",
    "print(lr_cvMean, \" linear regression cross validate mean\")\n",
    "\n",
    "lrMSE=np.sqrt(metrics.mean_squared_error(y_test, lrPredict))\n",
    "print(round(lrMSE, 4), \" is lr MSE \")"
   ]
  },
  {
   "cell_type": "markdown",
   "id": "60a11573",
   "metadata": {
    "papermill": {
     "duration": 0.03402,
     "end_time": "2022-05-12T21:16:29.766114",
     "exception": false,
     "start_time": "2022-05-12T21:16:29.732094",
     "status": "completed"
    },
    "tags": []
   },
   "source": [
    "# Gradient Boost\n",
    "The bigger max_depth, the better r-squared with less error:\n",
    "* 2  max_depth || GB reg r2:  0.0409 || MSE: 1174813.7646\n",
    "* 3  max_depth || GB reg r2:  0.0505 || MSE: 1163011.2060\n",
    "* 4  max_depth || GB reg r2:  0.057 || MSE: 1155141.4139\n",
    "* 5  max_depth || GB reg r2:  0.0641 || MSE: 1146393.4473\n",
    "* 7  max_depth || GB reg r2:  0.0723 || MSE: 1136326.4514\n",
    "\n",
    "The more n_estimators, the better r-squared with less error:\n",
    "* 2 n_estimators || GB regression r2:  0.0088 || MSE: 1214127.5659\n",
    "* 50 n_estimators || GB regression r2:  0.152 || MSE: 1038709.6658\n",
    "* 100 n_estimators || GB regression r2:  0.217 || MSE: 959162.1316\n",
    "* 200 n_estimators || GB regression r2:  0.2681 || MSE: 896548.3199\n",
    "* 300 n_estimators || GB regression r2:  0.2927 || MSE: 866340.3620\n",
    "* 400 n_estimators || GB regression r2:  0.308 || MSE: 847675.8794\n",
    "* 500 n_estimators || GB regression r2:  0.3184 || MSE: 834923.8771"
   ]
  },
  {
   "cell_type": "code",
   "execution_count": 17,
   "id": "19fb1391",
   "metadata": {
    "execution": {
     "iopub.execute_input": "2022-05-12T21:16:29.837502Z",
     "iopub.status.busy": "2022-05-12T21:16:29.836942Z",
     "iopub.status.idle": "2022-05-12T21:16:29.889885Z",
     "shell.execute_reply": "2022-05-12T21:16:29.890315Z",
     "shell.execute_reply.started": "2022-05-12T20:48:27.157728Z"
    },
    "papermill": {
     "duration": 0.090203,
     "end_time": "2022-05-12T21:16:29.890492",
     "exception": false,
     "start_time": "2022-05-12T21:16:29.800289",
     "status": "completed"
    },
    "tags": []
   },
   "outputs": [],
   "source": [
    "from sklearn.inspection import permutation_importance\n",
    "from sklearn.ensemble import GradientBoostingClassifier,GradientBoostingRegressor\n",
    "\n",
    "def gbDepth():\n",
    "    depthList=[2, 3, 4, 5, 7]\n",
    "    print(\"staring max_depth calculations:\")\n",
    "    for d in depthList:\n",
    "        params = {\n",
    "         \"n_estimators\": 10, \"max_depth\": d, \n",
    "            \"min_samples_split\": 5, \"learning_rate\": 0.01,\n",
    "        }\n",
    "\n",
    "        #Fit and Predict:\n",
    "        reg = ensemble.GradientBoostingRegressor(**params)\n",
    "        reg.fit(X_train, y_train)\n",
    "        y_pred = reg.predict(X_test)\n",
    "        gbr_r2 = r2_score(y_test, y_pred).round(4) \n",
    "        mse = mean_squared_error(y_test, reg.predict(X_test))\n",
    "        print(d, \" max_depth || GB reg r2: \", gbr_r2, \"|| MSE: {:.4f}\".format(mse)) \n",
    "\n",
    "def gbN():\n",
    "    nList=[2, 50, 100, 200, 300, 400, 500]\n",
    "    print(\"starting GB n_estimators calculations:\")\n",
    "    for n in nList:\n",
    "        params = {\n",
    "         \"n_estimators\": n, \"max_depth\": 2, \n",
    "            \"min_samples_split\": 5, \"learning_rate\": 0.01,\n",
    "        }\n",
    "\n",
    "        #Fit and Predict:\n",
    "        reg = ensemble.GradientBoostingRegressor(**params)\n",
    "        reg.fit(X_train, y_train)\n",
    "        y_pred = reg.predict(X_test)\n",
    "        gbr_r2 = r2_score(y_test, y_pred).round(4) \n",
    "        mse = mean_squared_error(y_test, reg.predict(X_test))\n",
    "        print(n, \"n_estimators || GB regression r2: \", gbr_r2, \"|| MSE: {:.4f}\".format(mse)) \n",
    "\n",
    "def gbSplit():\n",
    "    sList=[2, 3, 5, 7]\n",
    "    \n",
    "    for s in sList:\n",
    "        params = {\n",
    "         \"n_estimators\": 500, \"max_depth\": 2, \"min_samples_split\": s, \"learning_rate\": 0.01,\n",
    "        }\n",
    "\n",
    "        #Fit and Predict:\n",
    "        reg = ensemble.GradientBoostingRegressor(**params)\n",
    "        reg.fit(X_train, y_train)\n",
    "        y_pred = reg.predict(X_test)\n",
    "        gbr_r2 = r2_score(y_test, y_pred).round(4) \n",
    "        #print(\"Gradient boosting regression r2: \", gbr_r2) \n",
    "\n",
    "        #calculate AUC of model\n",
    "        auc = round( metrics.roc_auc_score(y_test, y_pred), 4 ) \n",
    "        mse = mean_squared_error(y_test, reg.predict(X_test)).round(4)\n",
    "        print(s,\" min_samples_splits || AUC \", auc, \" || MSE {:.4f}\".format(mse))\n",
    "\n",
    "#Turn on or off functions here:\n",
    "#gbDepth()\n",
    "#gbN()\n",
    "#gbSplit()"
   ]
  },
  {
   "cell_type": "markdown",
   "id": "c2c933c1",
   "metadata": {
    "papermill": {
     "duration": 0.034413,
     "end_time": "2022-05-12T21:16:29.958987",
     "exception": false,
     "start_time": "2022-05-12T21:16:29.924574",
     "status": "completed"
    },
    "tags": []
   },
   "source": [
    "#### Gradient Boost Prediction\n",
    "Use functions above to find the best paramters to input below."
   ]
  },
  {
   "cell_type": "code",
   "execution_count": 18,
   "id": "8b343efe",
   "metadata": {
    "execution": {
     "iopub.execute_input": "2022-05-12T21:16:30.030136Z",
     "iopub.status.busy": "2022-05-12T21:16:30.029586Z",
     "iopub.status.idle": "2022-05-12T21:24:04.237100Z",
     "shell.execute_reply": "2022-05-12T21:24:04.236645Z",
     "shell.execute_reply.started": "2022-05-12T19:33:54.865827Z"
    },
    "papermill": {
     "duration": 454.244153,
     "end_time": "2022-05-12T21:24:04.237240",
     "exception": false,
     "start_time": "2022-05-12T21:16:29.993087",
     "status": "completed"
    },
    "scrolled": true,
    "tags": []
   },
   "outputs": [
    {
     "name": "stdout",
     "output_type": "stream",
     "text": [
      "Gradient boosting regression r2:  0.3534\n",
      "The mean squared error (MSE) on test set: 792076.1657\n"
     ]
    }
   ],
   "source": [
    "params = {\n",
    " \"n_estimators\": 100, \"max_depth\": 7, \n",
    "    \"min_samples_split\": 3, \"learning_rate\": 0.01,\n",
    "}\n",
    "\n",
    "#Fit and Predict:\n",
    "reg = ensemble.GradientBoostingRegressor(**params)\n",
    "reg.fit(X_train, y_train)\n",
    "y_pred = reg.predict(X_test)\n",
    "gbr_r2 = r2_score(y_test, y_pred).round(4) \n",
    "print(\"Gradient boosting regression r2: \", gbr_r2) \n",
    "\n",
    "mse = mean_squared_error(y_test, reg.predict(X_test))\n",
    "print(\"The mean squared error (MSE) on test set: {:.4f}\".format(mse))"
   ]
  },
  {
   "cell_type": "markdown",
   "id": "3d2d89d7",
   "metadata": {
    "papermill": {
     "duration": 0.034206,
     "end_time": "2022-05-12T21:24:04.305964",
     "exception": false,
     "start_time": "2022-05-12T21:24:04.271758",
     "status": "completed"
    },
    "tags": []
   },
   "source": [
    "# Support Vector \n",
    "The initial results for SVM AUC with no parameter tunning is 0.5336.  The model does not seem worth investing lots of time into due to poor AUC performance. \n",
    "\n",
    "#### GridSearch Tune\n",
    "The best parameters from tunning SVM is SVC(C=1000, gamma=0.0001)."
   ]
  },
  {
   "cell_type": "code",
   "execution_count": 19,
   "id": "e488325c",
   "metadata": {
    "execution": {
     "iopub.execute_input": "2022-05-12T21:24:04.380570Z",
     "iopub.status.busy": "2022-05-12T21:24:04.379639Z",
     "iopub.status.idle": "2022-05-12T21:24:04.381775Z",
     "shell.execute_reply": "2022-05-12T21:24:04.381223Z",
     "shell.execute_reply.started": "2022-05-12T19:33:54.867652Z"
    },
    "papermill": {
     "duration": 0.041952,
     "end_time": "2022-05-12T21:24:04.381897",
     "exception": false,
     "start_time": "2022-05-12T21:24:04.339945",
     "status": "completed"
    },
    "tags": []
   },
   "outputs": [],
   "source": [
    "from sklearn.model_selection import GridSearchCV\n",
    "from sklearn.svm import SVC\n",
    " \n",
    "def tuneSVM():\n",
    "    # defining parameter range\n",
    "    param_grid = {'C': [0.1, 1, 10, 100, 1000],\n",
    "                  'gamma': [1, 0.1, 0.01, 0.001, 0.0001],\n",
    "                  'kernel': ['rbf']}\n",
    "\n",
    "    grid = GridSearchCV(SVC(), param_grid, refit = True, verbose = 3)\n",
    "\n",
    "    # fitting the model for grid search\n",
    "    grid.fit(X_train, y_train)\n",
    "\n",
    "    # print best parameter after tuning\n",
    "    print(grid.best_params_)\n",
    "\n",
    "    # print how our model looks after hyper-parameter tuning\n",
    "    print(grid.best_estimator_)"
   ]
  },
  {
   "cell_type": "code",
   "execution_count": 20,
   "id": "401c7864",
   "metadata": {
    "execution": {
     "iopub.execute_input": "2022-05-12T21:24:04.457591Z",
     "iopub.status.busy": "2022-05-12T21:24:04.456863Z",
     "iopub.status.idle": "2022-05-12T21:24:04.459026Z",
     "shell.execute_reply": "2022-05-12T21:24:04.459391Z",
     "shell.execute_reply.started": "2022-05-12T19:33:54.869019Z"
    },
    "papermill": {
     "duration": 0.043365,
     "end_time": "2022-05-12T21:24:04.459555",
     "exception": false,
     "start_time": "2022-05-12T21:24:04.416190",
     "status": "completed"
    },
    "tags": []
   },
   "outputs": [],
   "source": [
    "#Fit and Predict:\n",
    "def runSVM():\n",
    "    svm=SVC(C=1000, gamma=0.0001, kernel = 'linear')\n",
    "    svm.fit(X_train, y_train)\n",
    "    svmPedict = svm.predict(X_test)\n",
    "    np.shape(svmPedict)\n",
    "    np.shape(y_test)\n",
    "    #y_class = np.argmax(y_pred, axis = 0)\n",
    "\n",
    "    #calculate AUC of model\n",
    "    svmAUC = round( metrics.roc_auc_score(y_test, svmPedict, multi_class='ovr'), 4 ) \n",
    "    print(\"SVC AUC is: \", svmAUC)\n",
    "\n",
    "    svmR2 = r2_score(y_test, svmPedict).round(4) \n",
    "    print(\"SVM r2: \", svmR2) \n",
    "\n",
    "    svmMAE=metrics.mean_absolute_error(y_test, svmPedict)\n",
    "    \n",
    "    plt.figure(figsize=(5, 7))\n",
    "    ax = sns.distplot(y, hist=False, color=\"r\", label=\"Actual Value\")\n",
    "    sns.distplot(y_test, hist=False, color=\"b\", label=\"Fitted Values\" , ax=ax)\n",
    "    plt.title('Actual vs Fitted Values')\n",
    "    plt.show()\n",
    "    plt.close()\n",
    "#runSVM()"
   ]
  },
  {
   "cell_type": "markdown",
   "id": "39437b63",
   "metadata": {
    "papermill": {
     "duration": 0.034129,
     "end_time": "2022-05-12T21:24:04.527792",
     "exception": false,
     "start_time": "2022-05-12T21:24:04.493663",
     "status": "completed"
    },
    "tags": []
   },
   "source": [
    "# Test Dataset"
   ]
  },
  {
   "cell_type": "code",
   "execution_count": 21,
   "id": "ccc427ee",
   "metadata": {
    "execution": {
     "iopub.execute_input": "2022-05-12T21:24:04.601798Z",
     "iopub.status.busy": "2022-05-12T21:24:04.601162Z",
     "iopub.status.idle": "2022-05-12T21:24:04.634034Z",
     "shell.execute_reply": "2022-05-12T21:24:04.634587Z",
     "shell.execute_reply.started": "2022-05-12T19:33:54.870572Z"
    },
    "papermill": {
     "duration": 0.072578,
     "end_time": "2022-05-12T21:24:04.634746",
     "exception": false,
     "start_time": "2022-05-12T21:24:04.562168",
     "status": "completed"
    },
    "tags": []
   },
   "outputs": [
    {
     "data": {
      "text/html": [
       "<div>\n",
       "<style scoped>\n",
       "    .dataframe tbody tr th:only-of-type {\n",
       "        vertical-align: middle;\n",
       "    }\n",
       "\n",
       "    .dataframe tbody tr th {\n",
       "        vertical-align: top;\n",
       "    }\n",
       "\n",
       "    .dataframe thead th {\n",
       "        text-align: right;\n",
       "    }\n",
       "</style>\n",
       "<table border=\"1\" class=\"dataframe\">\n",
       "  <thead>\n",
       "    <tr style=\"text-align: right;\">\n",
       "      <th></th>\n",
       "      <th>id</th>\n",
       "      <th>store_nbr</th>\n",
       "      <th>onpromotion</th>\n",
       "    </tr>\n",
       "  </thead>\n",
       "  <tbody>\n",
       "    <tr>\n",
       "      <th>0</th>\n",
       "      <td>3000888</td>\n",
       "      <td>1</td>\n",
       "      <td>0</td>\n",
       "    </tr>\n",
       "    <tr>\n",
       "      <th>1</th>\n",
       "      <td>3000889</td>\n",
       "      <td>1</td>\n",
       "      <td>0</td>\n",
       "    </tr>\n",
       "    <tr>\n",
       "      <th>2</th>\n",
       "      <td>3000890</td>\n",
       "      <td>1</td>\n",
       "      <td>2</td>\n",
       "    </tr>\n",
       "    <tr>\n",
       "      <th>3</th>\n",
       "      <td>3000891</td>\n",
       "      <td>1</td>\n",
       "      <td>20</td>\n",
       "    </tr>\n",
       "    <tr>\n",
       "      <th>4</th>\n",
       "      <td>3000892</td>\n",
       "      <td>1</td>\n",
       "      <td>0</td>\n",
       "    </tr>\n",
       "  </tbody>\n",
       "</table>\n",
       "</div>"
      ],
      "text/plain": [
       "        id  store_nbr  onpromotion\n",
       "0  3000888          1            0\n",
       "1  3000889          1            0\n",
       "2  3000890          1            2\n",
       "3  3000891          1           20\n",
       "4  3000892          1            0"
      ]
     },
     "execution_count": 21,
     "metadata": {},
     "output_type": "execute_result"
    }
   ],
   "source": [
    "test=pd.read_csv(test)\n",
    "test.head()\n",
    "\n",
    "#Feature three new columns with year, month, and day:\n",
    "#test['year']=test['date'].apply(lambda x: int(str(x)[:4])) #first four\n",
    "#test['month']=test['date'].apply(lambda x: int(str(x)[5:7])) #five and six\n",
    "#test['day']=test['date'].apply(lambda x: int(str(x)[-2:])) # last two\n",
    "\n",
    "features=list(X.columns)\n",
    "test=test[features]\n",
    "test.head()"
   ]
  },
  {
   "cell_type": "markdown",
   "id": "29f62f47",
   "metadata": {
    "papermill": {
     "duration": 0.035091,
     "end_time": "2022-05-12T21:24:04.706025",
     "exception": false,
     "start_time": "2022-05-12T21:24:04.670934",
     "status": "completed"
    },
    "tags": []
   },
   "source": [
    "# Final Prediction"
   ]
  },
  {
   "cell_type": "code",
   "execution_count": 22,
   "id": "1d55389d",
   "metadata": {
    "execution": {
     "iopub.execute_input": "2022-05-12T21:24:04.781984Z",
     "iopub.status.busy": "2022-05-12T21:24:04.781359Z",
     "iopub.status.idle": "2022-05-12T21:24:04.885904Z",
     "shell.execute_reply": "2022-05-12T21:24:04.886327Z",
     "shell.execute_reply.started": "2022-05-12T19:33:54.87222Z"
    },
    "papermill": {
     "duration": 0.145364,
     "end_time": "2022-05-12T21:24:04.886490",
     "exception": false,
     "start_time": "2022-05-12T21:24:04.741126",
     "status": "completed"
    },
    "tags": []
   },
   "outputs": [
    {
     "data": {
      "text/html": [
       "<div>\n",
       "<style scoped>\n",
       "    .dataframe tbody tr th:only-of-type {\n",
       "        vertical-align: middle;\n",
       "    }\n",
       "\n",
       "    .dataframe tbody tr th {\n",
       "        vertical-align: top;\n",
       "    }\n",
       "\n",
       "    .dataframe thead th {\n",
       "        text-align: right;\n",
       "    }\n",
       "</style>\n",
       "<table border=\"1\" class=\"dataframe\">\n",
       "  <thead>\n",
       "    <tr style=\"text-align: right;\">\n",
       "      <th></th>\n",
       "      <th>id</th>\n",
       "      <th>sales</th>\n",
       "    </tr>\n",
       "  </thead>\n",
       "  <tbody>\n",
       "    <tr>\n",
       "      <th>0</th>\n",
       "      <td>3000888</td>\n",
       "      <td>184.824497</td>\n",
       "    </tr>\n",
       "    <tr>\n",
       "      <th>1</th>\n",
       "      <td>3000889</td>\n",
       "      <td>184.824497</td>\n",
       "    </tr>\n",
       "    <tr>\n",
       "      <th>2</th>\n",
       "      <td>3000890</td>\n",
       "      <td>301.543821</td>\n",
       "    </tr>\n",
       "    <tr>\n",
       "      <th>3</th>\n",
       "      <td>3000891</td>\n",
       "      <td>1066.805736</td>\n",
       "    </tr>\n",
       "    <tr>\n",
       "      <th>4</th>\n",
       "      <td>3000892</td>\n",
       "      <td>184.824497</td>\n",
       "    </tr>\n",
       "    <tr>\n",
       "      <th>5</th>\n",
       "      <td>3000893</td>\n",
       "      <td>807.188219</td>\n",
       "    </tr>\n",
       "    <tr>\n",
       "      <th>6</th>\n",
       "      <td>3000894</td>\n",
       "      <td>184.824497</td>\n",
       "    </tr>\n",
       "  </tbody>\n",
       "</table>\n",
       "</div>"
      ],
      "text/plain": [
       "        id        sales\n",
       "0  3000888   184.824497\n",
       "1  3000889   184.824497\n",
       "2  3000890   301.543821\n",
       "3  3000891  1066.805736\n",
       "4  3000892   184.824497\n",
       "5  3000893   807.188219\n",
       "6  3000894   184.824497"
      ]
     },
     "execution_count": 22,
     "metadata": {},
     "output_type": "execute_result"
    }
   ],
   "source": [
    "finalPredicts=reg.predict(test)\n",
    "ID=test['id']\n",
    "tupleData = list(zip(ID, finalPredicts))\n",
    "output = pd.DataFrame(tupleData, columns = ['id', 'sales'])\n",
    "output.head(7)"
   ]
  },
  {
   "cell_type": "code",
   "execution_count": 23,
   "id": "448f6ff7",
   "metadata": {
    "execution": {
     "iopub.execute_input": "2022-05-12T21:24:04.961661Z",
     "iopub.status.busy": "2022-05-12T21:24:04.961063Z",
     "iopub.status.idle": "2022-05-12T21:24:05.031632Z",
     "shell.execute_reply": "2022-05-12T21:24:05.031070Z",
     "shell.execute_reply.started": "2022-05-12T19:33:54.873905Z"
    },
    "papermill": {
     "duration": 0.109822,
     "end_time": "2022-05-12T21:24:05.031783",
     "exception": false,
     "start_time": "2022-05-12T21:24:04.921961",
     "status": "completed"
    },
    "tags": []
   },
   "outputs": [
    {
     "name": "stdout",
     "output_type": "stream",
     "text": [
      "Your submission was successfully saved!\n"
     ]
    }
   ],
   "source": [
    "output.to_csv('submission.csv', index=False)\n",
    "print(\"Your submission was successfully saved!\")"
   ]
  },
  {
   "cell_type": "code",
   "execution_count": 24,
   "id": "647d2bc8",
   "metadata": {
    "execution": {
     "iopub.execute_input": "2022-05-12T21:24:05.110999Z",
     "iopub.status.busy": "2022-05-12T21:24:05.110398Z",
     "iopub.status.idle": "2022-05-12T21:24:05.127910Z",
     "shell.execute_reply": "2022-05-12T21:24:05.128408Z",
     "shell.execute_reply.started": "2022-05-12T19:33:54.875857Z"
    },
    "papermill": {
     "duration": 0.059426,
     "end_time": "2022-05-12T21:24:05.128581",
     "exception": false,
     "start_time": "2022-05-12T21:24:05.069155",
     "status": "completed"
    },
    "tags": []
   },
   "outputs": [
    {
     "data": {
      "text/html": [
       "<div>\n",
       "<style scoped>\n",
       "    .dataframe tbody tr th:only-of-type {\n",
       "        vertical-align: middle;\n",
       "    }\n",
       "\n",
       "    .dataframe tbody tr th {\n",
       "        vertical-align: top;\n",
       "    }\n",
       "\n",
       "    .dataframe thead th {\n",
       "        text-align: right;\n",
       "    }\n",
       "</style>\n",
       "<table border=\"1\" class=\"dataframe\">\n",
       "  <thead>\n",
       "    <tr style=\"text-align: right;\">\n",
       "      <th></th>\n",
       "      <th>id</th>\n",
       "      <th>sales</th>\n",
       "    </tr>\n",
       "  </thead>\n",
       "  <tbody>\n",
       "    <tr>\n",
       "      <th>0</th>\n",
       "      <td>3000888</td>\n",
       "      <td>0.0</td>\n",
       "    </tr>\n",
       "    <tr>\n",
       "      <th>1</th>\n",
       "      <td>3000889</td>\n",
       "      <td>0.0</td>\n",
       "    </tr>\n",
       "    <tr>\n",
       "      <th>2</th>\n",
       "      <td>3000890</td>\n",
       "      <td>0.0</td>\n",
       "    </tr>\n",
       "    <tr>\n",
       "      <th>3</th>\n",
       "      <td>3000891</td>\n",
       "      <td>0.0</td>\n",
       "    </tr>\n",
       "    <tr>\n",
       "      <th>4</th>\n",
       "      <td>3000892</td>\n",
       "      <td>0.0</td>\n",
       "    </tr>\n",
       "  </tbody>\n",
       "</table>\n",
       "</div>"
      ],
      "text/plain": [
       "        id  sales\n",
       "0  3000888    0.0\n",
       "1  3000889    0.0\n",
       "2  3000890    0.0\n",
       "3  3000891    0.0\n",
       "4  3000892    0.0"
      ]
     },
     "execution_count": 24,
     "metadata": {},
     "output_type": "execute_result"
    }
   ],
   "source": [
    "#SAPMLE ONLY:\n",
    "sample=r'/kaggle/input/store-sales-time-series-forecasting/sample_submission.csv'\n",
    "sample=pd.read_csv(sample)\n",
    "sample.head()"
   ]
  }
 ],
 "metadata": {
  "kernelspec": {
   "display_name": "Python 3",
   "language": "python",
   "name": "python3"
  },
  "language_info": {
   "codemirror_mode": {
    "name": "ipython",
    "version": 3
   },
   "file_extension": ".py",
   "mimetype": "text/x-python",
   "name": "python",
   "nbconvert_exporter": "python",
   "pygments_lexer": "ipython3",
   "version": "3.7.12"
  },
  "papermill": {
   "default_parameters": {},
   "duration": 474.317839,
   "end_time": "2022-05-12T21:24:05.775801",
   "environment_variables": {},
   "exception": null,
   "input_path": "__notebook__.ipynb",
   "output_path": "__notebook__.ipynb",
   "parameters": {},
   "start_time": "2022-05-12T21:16:11.457962",
   "version": "2.3.3"
  }
 },
 "nbformat": 4,
 "nbformat_minor": 5
}
