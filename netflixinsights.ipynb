{
 "cells": [
  {
   "cell_type": "markdown",
   "metadata": {
    "execution": {
     "iopub.execute_input": "2022-02-12T22:08:15.83447Z",
     "iopub.status.busy": "2022-02-12T22:08:15.834249Z",
     "iopub.status.idle": "2022-02-12T22:08:16.850405Z",
     "shell.execute_reply": "2022-02-12T22:08:16.849873Z",
     "shell.execute_reply.started": "2022-02-12T22:08:15.834449Z"
    }
   },
   "source": [
    "# Netflix Shows \n",
    "## Business Introduction\n",
    "Analyze the data and generate insights that could help Netflix decide which type of shows/movies to produce and how to grow the business.\n",
    "\n",
    "The main variable analyzed will be the user rating score. We will analyze correlations and use graphs to show how feature variables effect the likability of a Netflix show. Certain feature variables analyzed will be such as the following:\n",
    "* Level rating (ie. pg13, R, pg) \n",
    "* Release year\n",
    "* Rating Description\n",
    "* Description\n",
    "------------------------\n",
    "## View Netflix Data \n",
    "The original dataset can be found on Kaggle: https://www.kaggle.com/shivamb/netflix-shows . However, the first five rows with columns will be shown below in the next section."
   ]
  },
  {
   "cell_type": "code",
   "execution_count": 1,
   "metadata": {
    "execution": {
     "iopub.execute_input": "2022-02-28T04:34:24.860284Z",
     "iopub.status.busy": "2022-02-28T04:34:24.859456Z",
     "iopub.status.idle": "2022-02-28T04:34:24.891403Z",
     "shell.execute_reply": "2022-02-28T04:34:24.890790Z",
     "shell.execute_reply.started": "2022-02-28T04:34:24.860232Z"
    }
   },
   "outputs": [
    {
     "data": {
      "text/html": [
       "<div>\n",
       "<style scoped>\n",
       "    .dataframe tbody tr th:only-of-type {\n",
       "        vertical-align: middle;\n",
       "    }\n",
       "\n",
       "    .dataframe tbody tr th {\n",
       "        vertical-align: top;\n",
       "    }\n",
       "\n",
       "    .dataframe thead th {\n",
       "        text-align: right;\n",
       "    }\n",
       "</style>\n",
       "<table border=\"1\" class=\"dataframe\">\n",
       "  <thead>\n",
       "    <tr style=\"text-align: right;\">\n",
       "      <th></th>\n",
       "      <th>title</th>\n",
       "      <th>rating</th>\n",
       "      <th>ratingLevel</th>\n",
       "      <th>ratingDescription</th>\n",
       "      <th>release year</th>\n",
       "      <th>user rating score</th>\n",
       "      <th>user rating size</th>\n",
       "    </tr>\n",
       "  </thead>\n",
       "  <tbody>\n",
       "    <tr>\n",
       "      <th>0</th>\n",
       "      <td>White Chicks</td>\n",
       "      <td>PG-13</td>\n",
       "      <td>crude and sexual humor, language and some drug...</td>\n",
       "      <td>80</td>\n",
       "      <td>2004</td>\n",
       "      <td>82.0</td>\n",
       "      <td>80</td>\n",
       "    </tr>\n",
       "    <tr>\n",
       "      <th>1</th>\n",
       "      <td>Lucky Number Slevin</td>\n",
       "      <td>R</td>\n",
       "      <td>strong violence, sexual content and adult lang...</td>\n",
       "      <td>100</td>\n",
       "      <td>2006</td>\n",
       "      <td>NaN</td>\n",
       "      <td>82</td>\n",
       "    </tr>\n",
       "    <tr>\n",
       "      <th>2</th>\n",
       "      <td>Grey's Anatomy</td>\n",
       "      <td>TV-14</td>\n",
       "      <td>Parents strongly cautioned. May be unsuitable ...</td>\n",
       "      <td>90</td>\n",
       "      <td>2016</td>\n",
       "      <td>98.0</td>\n",
       "      <td>80</td>\n",
       "    </tr>\n",
       "    <tr>\n",
       "      <th>3</th>\n",
       "      <td>Prison Break</td>\n",
       "      <td>TV-14</td>\n",
       "      <td>Parents strongly cautioned. May be unsuitable ...</td>\n",
       "      <td>90</td>\n",
       "      <td>2008</td>\n",
       "      <td>98.0</td>\n",
       "      <td>80</td>\n",
       "    </tr>\n",
       "    <tr>\n",
       "      <th>4</th>\n",
       "      <td>How I Met Your Mother</td>\n",
       "      <td>TV-PG</td>\n",
       "      <td>Parental guidance suggested. May not be suitab...</td>\n",
       "      <td>70</td>\n",
       "      <td>2014</td>\n",
       "      <td>94.0</td>\n",
       "      <td>80</td>\n",
       "    </tr>\n",
       "  </tbody>\n",
       "</table>\n",
       "</div>"
      ],
      "text/plain": [
       "                   title rating  \\\n",
       "0           White Chicks  PG-13   \n",
       "1    Lucky Number Slevin      R   \n",
       "2         Grey's Anatomy  TV-14   \n",
       "3           Prison Break  TV-14   \n",
       "4  How I Met Your Mother  TV-PG   \n",
       "\n",
       "                                         ratingLevel  ratingDescription  \\\n",
       "0  crude and sexual humor, language and some drug...                 80   \n",
       "1  strong violence, sexual content and adult lang...                100   \n",
       "2  Parents strongly cautioned. May be unsuitable ...                 90   \n",
       "3  Parents strongly cautioned. May be unsuitable ...                 90   \n",
       "4  Parental guidance suggested. May not be suitab...                 70   \n",
       "\n",
       "   release year  user rating score  user rating size  \n",
       "0          2004               82.0                80  \n",
       "1          2006                NaN                82  \n",
       "2          2016               98.0                80  \n",
       "3          2008               98.0                80  \n",
       "4          2014               94.0                80  "
      ]
     },
     "execution_count": 1,
     "metadata": {},
     "output_type": "execute_result"
    }
   ],
   "source": [
    "import numpy as np\n",
    "import pandas as pd\n",
    "import seaborn as sns\n",
    "import matplotlib.pyplot as plt\n",
    "\n",
    "#Read Files:\n",
    "#netflix=r'/kaggle/input/netflix-showse/netflix.csv'\n",
    "netflix=r'C:\\Users\\sschm\\Desktop\\Kaggle\\netflix.csv'\n",
    "data=pd.read_csv(netflix)\n",
    "data=data.drop_duplicates() #Drop Duplicates:\n",
    "data.head() #Display Data:"
   ]
  },
  {
   "cell_type": "code",
   "execution_count": 2,
   "metadata": {
    "execution": {
     "iopub.execute_input": "2022-02-28T04:34:24.893530Z",
     "iopub.status.busy": "2022-02-28T04:34:24.892882Z",
     "iopub.status.idle": "2022-02-28T04:34:24.900089Z",
     "shell.execute_reply": "2022-02-28T04:34:24.899434Z",
     "shell.execute_reply.started": "2022-02-28T04:34:24.893489Z"
    }
   },
   "outputs": [
    {
     "data": {
      "text/plain": [
       "title                 object\n",
       "rating                object\n",
       "ratingLevel           object\n",
       "ratingDescription      int64\n",
       "release year           int64\n",
       "user rating score    float64\n",
       "user rating size       int64\n",
       "dtype: object"
      ]
     },
     "execution_count": 2,
     "metadata": {},
     "output_type": "execute_result"
    }
   ],
   "source": [
    "data.dtypes"
   ]
  },
  {
   "cell_type": "markdown",
   "metadata": {},
   "source": [
    "## Correlations and Heatmap\n",
    "There are no highly correlated features that need to be removed."
   ]
  },
  {
   "cell_type": "code",
   "execution_count": 3,
   "metadata": {
    "execution": {
     "iopub.execute_input": "2022-02-28T04:36:40.090140Z",
     "iopub.status.busy": "2022-02-28T04:36:40.089791Z",
     "iopub.status.idle": "2022-02-28T04:36:40.450640Z",
     "shell.execute_reply": "2022-02-28T04:36:40.449739Z",
     "shell.execute_reply.started": "2022-02-28T04:36:40.090102Z"
    }
   },
   "outputs": [
    {
     "name": "stdout",
     "output_type": "stream",
     "text": [
      "AxesSubplot(0.125,0.125;0.62x0.755)\n",
      "Highly correlated variables above:  0.0\n"
     ]
    },
    {
     "data": {
      "text/html": [
       "<style type=\"text/css\">\n",
       "#T_b0da4_row0_col0, #T_b0da4_row1_col0, #T_b0da4_row2_col0, #T_b0da4_row3_col0, #T_b0da4_row4_col0 {\n",
       "  background-color: black;\n",
       "  color: white;\n",
       "}\n",
       "</style>\n",
       "<table id=\"T_b0da4_\">\n",
       "  <thead>\n",
       "    <tr>\n",
       "      <th class=\"blank level0\" >&nbsp;</th>\n",
       "      <th class=\"col_heading level0 col0\" >Correlation</th>\n",
       "    </tr>\n",
       "  </thead>\n",
       "  <tbody>\n",
       "    <tr>\n",
       "      <th id=\"T_b0da4_level0_row0\" class=\"row_heading level0 row0\" >ratingDescription and release year</th>\n",
       "      <td id=\"T_b0da4_row0_col0\" class=\"data row0 col0\" >0.361142</td>\n",
       "    </tr>\n",
       "    <tr>\n",
       "      <th id=\"T_b0da4_level0_row1\" class=\"row_heading level0 row1\" >ratingDescription and user rating score</th>\n",
       "      <td id=\"T_b0da4_row1_col0\" class=\"data row1 col0\" >0.218829</td>\n",
       "    </tr>\n",
       "    <tr>\n",
       "      <th id=\"T_b0da4_level0_row2\" class=\"row_heading level0 row2\" >release year and user rating score</th>\n",
       "      <td id=\"T_b0da4_row2_col0\" class=\"data row2 col0\" >0.200235</td>\n",
       "    </tr>\n",
       "    <tr>\n",
       "      <th id=\"T_b0da4_level0_row3\" class=\"row_heading level0 row3\" >release year and user rating size</th>\n",
       "      <td id=\"T_b0da4_row3_col0\" class=\"data row3 col0\" >0.057330</td>\n",
       "    </tr>\n",
       "    <tr>\n",
       "      <th id=\"T_b0da4_level0_row4\" class=\"row_heading level0 row4\" >ratingDescription and user rating size</th>\n",
       "      <td id=\"T_b0da4_row4_col0\" class=\"data row4 col0\" >-0.184752</td>\n",
       "    </tr>\n",
       "  </tbody>\n",
       "</table>\n"
      ],
      "text/plain": [
       "<pandas.io.formats.style.Styler at 0x1d0f81d9fd0>"
      ]
     },
     "execution_count": 3,
     "metadata": {},
     "output_type": "execute_result"
    },
    {
     "data": {
      "image/png": "[encoded data removed]",
      "text/plain": [
       "<Figure size 720x720 with 2 Axes>"
      ]
     },
     "metadata": {
      "needs_background": "light"
     },
     "output_type": "display_data"
    }
   ],
   "source": [
    "numerics = ['int16', 'int32', 'int64', 'float16', 'float32', 'float64']\n",
    "df = data.select_dtypes(include=numerics)\n",
    "\n",
    "def printHeat():\n",
    "    corr = df.corr()\n",
    "    #print(corr)\n",
    "    highly_corr_features = corr.index[abs(corr[\"user rating score\"])>0.0]\n",
    "    plt.figure(figsize=(10,10))\n",
    "    heat = sns.heatmap(df[highly_corr_features].corr(),annot=True,cmap=\"RdYlGn\")\n",
    "    top10=corr[\"user rating score\"].sort_values(ascending=False).head(10)\n",
    "    print(heat)\n",
    "    #print(top10) # top ten correlations\n",
    "\n",
    "#print correlation between features\n",
    "def printHighCorr(df, features, threshold=0.0):\n",
    "    print(\"Highly correlated variables above: \", threshold)\n",
    "    corr_df = df[features].corr() # get correlations\n",
    "    correlated_features = np.where(np.abs(corr_df) > threshold) # select ones above the abs threshold\n",
    "    correlated_features = [(corr_df.iloc[x,y], x, y) for x, y in zip(*correlated_features) if x != y and x < y] # avoid duplication\n",
    "    s_corr_list = sorted(correlated_features, key=lambda x: -abs(x[0])) # sort by correlation value\n",
    "    correlation_df={}\n",
    "    if s_corr_list == []:\n",
    "        print(\"There are no highly correlated features with correlation above\", threshold)\n",
    "    else:\n",
    "        for v, i, j in s_corr_list:\n",
    "            correlation_df[corr_df.index[i] +\" and \"+ corr_df.columns[j]]= v\n",
    "        correlation_df=pd.DataFrame(correlation_df,index=['Correlation'])\n",
    "    return  correlation_df.T.sort_values(by='Correlation',ascending=False)\n",
    "\n",
    "#Turn off functions on or off:\n",
    "printHeat() \n",
    "printHighCorr(data,data.columns).style.set_properties(**{'background-color': 'black','color': 'white'})"
   ]
  },
  {
   "cell_type": "markdown",
   "metadata": {},
   "source": [
    "### Drop NaN values from user rating score column\n",
    "Since user rating score is the main feature we are trying to analyze, we must delete those rows. There are a few ratingLevel values missing which are also deleted because we will need to analyze that data later on. We cannot easily use a mean for a ratingLevel since it is a string."
   ]
  },
  {
   "cell_type": "code",
   "execution_count": 4,
   "metadata": {
    "execution": {
     "iopub.status.busy": "2022-02-28T04:34:25.209375Z",
     "iopub.status.idle": "2022-02-28T04:34:25.209937Z",
     "shell.execute_reply": "2022-02-28T04:34:25.209729Z",
     "shell.execute_reply.started": "2022-02-28T04:34:25.209693Z"
    }
   },
   "outputs": [
    {
     "name": "stdout",
     "output_type": "stream",
     "text": [
      "user rating score    0.488\n",
      "ratingLevel          0.066\n",
      "title                0.000\n",
      "rating               0.000\n",
      "ratingDescription    0.000\n",
      "release year         0.000\n",
      "user rating size     0.000\n",
      "dtype: float64\n"
     ]
    }
   ],
   "source": [
    "findNA=data.isnull().sum().sort_values(ascending=False)/len(data)\n",
    "print(findNA)\n",
    "df = data.dropna(subset=['user rating score', 'ratingLevel'])"
   ]
  },
  {
   "cell_type": "markdown",
   "metadata": {},
   "source": [
    "## Search for Outliers:\n",
    "Since the last column is the size of the sample, I check all values for that column. If a certain movie has a very small sample size, that movie should be conisdered to be deleted. In this case, all the sample sizes were 80 so there are no outliers that need to be removed."
   ]
  },
  {
   "cell_type": "code",
   "execution_count": 5,
   "metadata": {
    "execution": {
     "iopub.status.busy": "2022-02-28T04:34:25.211039Z",
     "iopub.status.idle": "2022-02-28T04:34:25.211567Z",
     "shell.execute_reply": "2022-02-28T04:34:25.211364Z",
     "shell.execute_reply.started": "2022-02-28T04:34:25.211322Z"
    }
   },
   "outputs": [
    {
     "data": {
      "text/plain": [
       "array([80], dtype=int64)"
      ]
     },
     "execution_count": 5,
     "metadata": {},
     "output_type": "execute_result"
    }
   ],
   "source": [
    "df['user rating size'].unique()"
   ]
  },
  {
   "cell_type": "markdown",
   "metadata": {},
   "source": [
    "## Group Rating Level and Rating  \n",
    "Neflix users emjoy the TV-MA, R, and TV-14 shows the most. This is not a huge surprise as most of the popular netflix shows tend to be for adult audience such as Squid Games, Breaking Bad, and The Walking Dead.\n"
   ]
  },
  {
   "cell_type": "code",
   "execution_count": 6,
   "metadata": {
    "execution": {
     "iopub.status.busy": "2022-02-28T04:34:25.212525Z",
     "iopub.status.idle": "2022-02-28T04:34:25.213138Z",
     "shell.execute_reply": "2022-02-28T04:34:25.212929Z",
     "shell.execute_reply.started": "2022-02-28T04:34:25.212885Z"
    }
   },
   "outputs": [
    {
     "data": {
      "image/png": "[encoded data removed]",
      "text/plain": [
       "<Figure size 432x288 with 1 Axes>"
      ]
     },
     "metadata": {
      "needs_background": "light"
     },
     "output_type": "display_data"
    }
   ],
   "source": [
    "ratingGb=df.groupby('rating')['user rating score'].mean().sort_values(ascending=False).round(2).reset_index()\n",
    "\n",
    "#Plot Rating Groupby:\n",
    "x=ratingGb['rating']\n",
    "y=ratingGb['user rating score']\n",
    "plt.xticks(rotation=90)\n",
    "plt.bar(x,y)\n",
    "plt.show()"
   ]
  },
  {
   "cell_type": "markdown",
   "metadata": {},
   "source": [
    "## Group Movies by Year\n",
    "The most liked movies are the most recent year from the data which happened to be 2017. However, there is little correlation, 0.5025 between year of the movie and how much customers enjoy a show. "
   ]
  },
  {
   "cell_type": "code",
   "execution_count": 7,
   "metadata": {
    "execution": {
     "iopub.status.busy": "2022-02-28T04:34:25.214366Z",
     "iopub.status.idle": "2022-02-28T04:34:25.214906Z",
     "shell.execute_reply": "2022-02-28T04:34:25.214707Z",
     "shell.execute_reply.started": "2022-02-28T04:34:25.214675Z"
    }
   },
   "outputs": [
    {
     "data": {
      "image/png": "[encoded data removed]",
      "text/plain": [
       "<Figure size 432x288 with 1 Axes>"
      ]
     },
     "metadata": {
      "needs_background": "light"
     },
     "output_type": "display_data"
    },
    {
     "name": "stdout",
     "output_type": "stream",
     "text": [
      "0.5019  The correlation between year and show rating.\n"
     ]
    }
   ],
   "source": [
    "yearGb=df.groupby('release year')['user rating score'].mean().round(2).reset_index()\n",
    "\n",
    "#Plot year groupby:\n",
    "x=yearGb['release year']\n",
    "y=yearGb['user rating score']\n",
    "\n",
    "plt.title('Release Year and Rating')\n",
    "plt.xticks(rotation=90)\n",
    "plt.bar(x,y)\n",
    "plt.show()\n",
    "\n",
    "#Find correlation:\n",
    "corrYear=x.corr(y).round(4)\n",
    "print(corrYear, \" The correlation between year and show rating.\")"
   ]
  },
  {
   "cell_type": "markdown",
   "metadata": {},
   "source": [
    "## Analyze Movies by Description\n",
    "We will now compare Netflix show ratings to other descriptions. Surprisingly, I found some interesting results that violent Netflix movies were the least favored:\n",
    "* 81.3902  is the average Neftlix rating\n",
    "* 80.2308  is the average sex Netflix rating\n",
    "* 76.3636  is the average violent Netflix rating\n",
    "\n",
    "There are no missing values for the Description column that we have to remove. Now, we will divide up movie themes by searching the DataFrame for certain criteria such as violence and/or sex."
   ]
  },
  {
   "cell_type": "code",
   "execution_count": 8,
   "metadata": {
    "execution": {
     "iopub.status.busy": "2022-02-28T04:34:25.215802Z",
     "iopub.status.idle": "2022-02-28T04:34:25.216705Z",
     "shell.execute_reply": "2022-02-28T04:34:25.216526Z",
     "shell.execute_reply.started": "2022-02-28T04:34:25.216497Z"
    }
   },
   "outputs": [
    {
     "name": "stdout",
     "output_type": "stream",
     "text": [
      "81.3902  is the average Neftlix rating\n",
      "80.2308  is the average sex Netflix rating\n",
      "76.3636  is the average violent Netflix rating\n"
     ]
    }
   ],
   "source": [
    "avgRating=df['user rating score'].mean()\n",
    "print(round(avgRating,4), \" is the average Neftlix rating\")\n",
    "\n",
    "dfSex=df[df['ratingLevel'].str.contains(\"sex\")].reset_index()\n",
    "avgSex=dfSex['user rating score'].mean()\n",
    "print(round(avgSex,4), \" is the average sex Netflix rating\")\n",
    "\n",
    "dfV=df[df['ratingLevel'].str.contains(\"violence\")].reset_index()\n",
    "avgV=dfV['user rating score'].mean()\n",
    "print(round(avgV,4), \" is the average violent Netflix rating\")"
   ]
  },
  {
   "cell_type": "markdown",
   "metadata": {},
   "source": [
    "## Rating Description\n",
    "The correlation between rating description and user rating score is 0.2216. This almost shows there is no correlation between these two features. This means we do not need to further analyze the rating description column."
   ]
  },
  {
   "cell_type": "code",
   "execution_count": 9,
   "metadata": {
    "execution": {
     "iopub.status.busy": "2022-02-28T04:34:25.218133Z",
     "iopub.status.idle": "2022-02-28T04:34:25.218751Z",
     "shell.execute_reply": "2022-02-28T04:34:25.218560Z",
     "shell.execute_reply.started": "2022-02-28T04:34:25.218531Z"
    }
   },
   "outputs": [
    {
     "name": "stdout",
     "output_type": "stream",
     "text": [
      "0.2216\n"
     ]
    }
   ],
   "source": [
    "rd=df['ratingDescription'].corr(df['user rating score'])\n",
    "print(round(rd,4))"
   ]
  },
  {
   "cell_type": "markdown",
   "metadata": {},
   "source": [
    "## References\n",
    "1. https://www.kaggle.com/niharika41298/netflix-visualizations-recommendation-eda#Movie-ratings-analysis"
   ]
  }
 ],
 "metadata": {
  "kernelspec": {
   "display_name": "Python 3 (ipykernel)",
   "language": "python",
   "name": "python3"
  },
  "language_info": {
   "codemirror_mode": {
    "name": "ipython",
    "version": 3
   },
   "file_extension": ".py",
   "mimetype": "text/x-python",
   "name": "python",
   "nbconvert_exporter": "python",
   "pygments_lexer": "ipython3",
   "version": "3.9.7"
  }
 },
 "nbformat": 4,
 "nbformat_minor": 4
}
