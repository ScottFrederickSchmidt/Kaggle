{
 "cells": [
  {
   "cell_type": "markdown",
   "id": "f617b0f2",
   "metadata": {
    "papermill": {
     "duration": 0.008772,
     "end_time": "2022-11-25T20:03:24.667190",
     "exception": false,
     "start_time": "2022-11-25T20:03:24.658418",
     "status": "completed"
    },
    "tags": []
   },
   "source": [
    "# Predict Future Sales\n",
    "You are provided with daily historical sales data. The task is to forecast the total amount of products sold in every shop for the test set. Note that the list of shops and products slightly changes every month. Creating a robust model that can handle such situations is part of the challenge."
   ]
  },
  {
   "cell_type": "markdown",
   "id": "d2c57a3f",
   "metadata": {
    "papermill": {
     "duration": 0.007981,
     "end_time": "2022-11-25T20:03:24.683637",
     "exception": false,
     "start_time": "2022-11-25T20:03:24.675656",
     "status": "completed"
    },
    "tags": []
   },
   "source": [
    "## File descriptions\n",
    "* sales_train.csv - the training set. Daily historical data from January 2013 to October 2015.\n",
    "* test.csv - the test set. You need to forecast the sales for these shops and products for November 2015.\n",
    "* sample_submission.csv - a sample submission file in the correct format.\n",
    "* items.csv - supplemental information about the items/products.\n",
    "* item_categories.csv  - supplemental information about the items categories.\n",
    "* shops.csv- supplemental information about the shops."
   ]
  },
  {
   "cell_type": "code",
   "execution_count": 1,
   "id": "2b98cefc",
   "metadata": {
    "execution": {
     "iopub.execute_input": "2022-11-25T20:03:24.702222Z",
     "iopub.status.busy": "2022-11-25T20:03:24.701697Z",
     "iopub.status.idle": "2022-11-25T20:03:24.711843Z",
     "shell.execute_reply": "2022-11-25T20:03:24.710341Z"
    },
    "papermill": {
     "duration": 0.022474,
     "end_time": "2022-11-25T20:03:24.714325",
     "exception": false,
     "start_time": "2022-11-25T20:03:24.691851",
     "status": "completed"
    },
    "tags": []
   },
   "outputs": [],
   "source": [
    "import pandas as pd\n",
    "\n",
    "items=r'/kaggle/input/competitive-data-science-predict-future-sales/items.csv'\n",
    "categories=r'/kaggle/input/competitive-data-science-predict-future-sales/item_categories.csv'\n",
    "train=r'/kaggle/input/competitive-data-science-predict-future-sales/sales_train.csv'\n",
    "shops=r'/kaggle/input/competitive-data-science-predict-future-sales/shops.csv'\n",
    "test=r'/kaggle/input/competitive-data-science-predict-future-sales/test.csv'"
   ]
  },
  {
   "cell_type": "code",
   "execution_count": 2,
   "id": "ada480d5",
   "metadata": {
    "execution": {
     "iopub.execute_input": "2022-11-25T20:03:24.733940Z",
     "iopub.status.busy": "2022-11-25T20:03:24.733180Z",
     "iopub.status.idle": "2022-11-25T20:03:27.138782Z",
     "shell.execute_reply": "2022-11-25T20:03:27.137582Z"
    },
    "papermill": {
     "duration": 2.417559,
     "end_time": "2022-11-25T20:03:27.141299",
     "exception": false,
     "start_time": "2022-11-25T20:03:24.723740",
     "status": "completed"
    },
    "tags": []
   },
   "outputs": [
    {
     "data": {
      "text/html": [
       "<div>\n",
       "<style scoped>\n",
       "    .dataframe tbody tr th:only-of-type {\n",
       "        vertical-align: middle;\n",
       "    }\n",
       "\n",
       "    .dataframe tbody tr th {\n",
       "        vertical-align: top;\n",
       "    }\n",
       "\n",
       "    .dataframe thead th {\n",
       "        text-align: right;\n",
       "    }\n",
       "</style>\n",
       "<table border=\"1\" class=\"dataframe\">\n",
       "  <thead>\n",
       "    <tr style=\"text-align: right;\">\n",
       "      <th></th>\n",
       "      <th>date</th>\n",
       "      <th>date_block_num</th>\n",
       "      <th>shop_id</th>\n",
       "      <th>item_id</th>\n",
       "      <th>item_price</th>\n",
       "      <th>item_cnt_day</th>\n",
       "    </tr>\n",
       "  </thead>\n",
       "  <tbody>\n",
       "    <tr>\n",
       "      <th>0</th>\n",
       "      <td>02.01.2013</td>\n",
       "      <td>0</td>\n",
       "      <td>59</td>\n",
       "      <td>22154</td>\n",
       "      <td>999.00</td>\n",
       "      <td>1.0</td>\n",
       "    </tr>\n",
       "    <tr>\n",
       "      <th>1</th>\n",
       "      <td>03.01.2013</td>\n",
       "      <td>0</td>\n",
       "      <td>25</td>\n",
       "      <td>2552</td>\n",
       "      <td>899.00</td>\n",
       "      <td>1.0</td>\n",
       "    </tr>\n",
       "    <tr>\n",
       "      <th>2</th>\n",
       "      <td>05.01.2013</td>\n",
       "      <td>0</td>\n",
       "      <td>25</td>\n",
       "      <td>2552</td>\n",
       "      <td>899.00</td>\n",
       "      <td>-1.0</td>\n",
       "    </tr>\n",
       "    <tr>\n",
       "      <th>3</th>\n",
       "      <td>06.01.2013</td>\n",
       "      <td>0</td>\n",
       "      <td>25</td>\n",
       "      <td>2554</td>\n",
       "      <td>1709.05</td>\n",
       "      <td>1.0</td>\n",
       "    </tr>\n",
       "    <tr>\n",
       "      <th>4</th>\n",
       "      <td>15.01.2013</td>\n",
       "      <td>0</td>\n",
       "      <td>25</td>\n",
       "      <td>2555</td>\n",
       "      <td>1099.00</td>\n",
       "      <td>1.0</td>\n",
       "    </tr>\n",
       "  </tbody>\n",
       "</table>\n",
       "</div>"
      ],
      "text/plain": [
       "         date  date_block_num  shop_id  item_id  item_price  item_cnt_day\n",
       "0  02.01.2013               0       59    22154      999.00           1.0\n",
       "1  03.01.2013               0       25     2552      899.00           1.0\n",
       "2  05.01.2013               0       25     2552      899.00          -1.0\n",
       "3  06.01.2013               0       25     2554     1709.05           1.0\n",
       "4  15.01.2013               0       25     2555     1099.00           1.0"
      ]
     },
     "execution_count": 2,
     "metadata": {},
     "output_type": "execute_result"
    }
   ],
   "source": [
    "train=pd.read_csv(train)\n",
    "train.head()"
   ]
  },
  {
   "cell_type": "code",
   "execution_count": 3,
   "id": "ba6470dc",
   "metadata": {
    "execution": {
     "iopub.execute_input": "2022-11-25T20:03:27.160535Z",
     "iopub.status.busy": "2022-11-25T20:03:27.160173Z",
     "iopub.status.idle": "2022-11-25T20:03:27.174105Z",
     "shell.execute_reply": "2022-11-25T20:03:27.172983Z"
    },
    "papermill": {
     "duration": 0.026665,
     "end_time": "2022-11-25T20:03:27.176639",
     "exception": false,
     "start_time": "2022-11-25T20:03:27.149974",
     "status": "completed"
    },
    "tags": []
   },
   "outputs": [
    {
     "data": {
      "text/html": [
       "<div>\n",
       "<style scoped>\n",
       "    .dataframe tbody tr th:only-of-type {\n",
       "        vertical-align: middle;\n",
       "    }\n",
       "\n",
       "    .dataframe tbody tr th {\n",
       "        vertical-align: top;\n",
       "    }\n",
       "\n",
       "    .dataframe thead th {\n",
       "        text-align: right;\n",
       "    }\n",
       "</style>\n",
       "<table border=\"1\" class=\"dataframe\">\n",
       "  <thead>\n",
       "    <tr style=\"text-align: right;\">\n",
       "      <th></th>\n",
       "      <th>shop_name</th>\n",
       "      <th>shop_id</th>\n",
       "    </tr>\n",
       "  </thead>\n",
       "  <tbody>\n",
       "    <tr>\n",
       "      <th>0</th>\n",
       "      <td>!Якутск Орджоникидзе, 56 фран</td>\n",
       "      <td>0</td>\n",
       "    </tr>\n",
       "    <tr>\n",
       "      <th>1</th>\n",
       "      <td>!Якутск ТЦ \"Центральный\" фран</td>\n",
       "      <td>1</td>\n",
       "    </tr>\n",
       "    <tr>\n",
       "      <th>2</th>\n",
       "      <td>Адыгея ТЦ \"Мега\"</td>\n",
       "      <td>2</td>\n",
       "    </tr>\n",
       "    <tr>\n",
       "      <th>3</th>\n",
       "      <td>Балашиха ТРК \"Октябрь-Киномир\"</td>\n",
       "      <td>3</td>\n",
       "    </tr>\n",
       "    <tr>\n",
       "      <th>4</th>\n",
       "      <td>Волжский ТЦ \"Волга Молл\"</td>\n",
       "      <td>4</td>\n",
       "    </tr>\n",
       "  </tbody>\n",
       "</table>\n",
       "</div>"
      ],
      "text/plain": [
       "                        shop_name  shop_id\n",
       "0   !Якутск Орджоникидзе, 56 фран        0\n",
       "1   !Якутск ТЦ \"Центральный\" фран        1\n",
       "2                Адыгея ТЦ \"Мега\"        2\n",
       "3  Балашиха ТРК \"Октябрь-Киномир\"        3\n",
       "4        Волжский ТЦ \"Волга Молл\"        4"
      ]
     },
     "execution_count": 3,
     "metadata": {},
     "output_type": "execute_result"
    }
   ],
   "source": [
    "shops=pd.read_csv(shops)\n",
    "shops.head()"
   ]
  },
  {
   "cell_type": "code",
   "execution_count": 4,
   "id": "0612f6b7",
   "metadata": {
    "execution": {
     "iopub.execute_input": "2022-11-25T20:03:27.195449Z",
     "iopub.status.busy": "2022-11-25T20:03:27.195150Z",
     "iopub.status.idle": "2022-11-25T20:03:27.260926Z",
     "shell.execute_reply": "2022-11-25T20:03:27.259965Z"
    },
    "papermill": {
     "duration": 0.078118,
     "end_time": "2022-11-25T20:03:27.263486",
     "exception": false,
     "start_time": "2022-11-25T20:03:27.185368",
     "status": "completed"
    },
    "tags": []
   },
   "outputs": [
    {
     "data": {
      "text/html": [
       "<div>\n",
       "<style scoped>\n",
       "    .dataframe tbody tr th:only-of-type {\n",
       "        vertical-align: middle;\n",
       "    }\n",
       "\n",
       "    .dataframe tbody tr th {\n",
       "        vertical-align: top;\n",
       "    }\n",
       "\n",
       "    .dataframe thead th {\n",
       "        text-align: right;\n",
       "    }\n",
       "</style>\n",
       "<table border=\"1\" class=\"dataframe\">\n",
       "  <thead>\n",
       "    <tr style=\"text-align: right;\">\n",
       "      <th></th>\n",
       "      <th>item_name</th>\n",
       "      <th>item_id</th>\n",
       "      <th>item_category_id</th>\n",
       "    </tr>\n",
       "  </thead>\n",
       "  <tbody>\n",
       "    <tr>\n",
       "      <th>0</th>\n",
       "      <td>! ВО ВЛАСТИ НАВАЖДЕНИЯ (ПЛАСТ.)         D</td>\n",
       "      <td>0</td>\n",
       "      <td>40</td>\n",
       "    </tr>\n",
       "    <tr>\n",
       "      <th>1</th>\n",
       "      <td>!ABBYY FineReader 12 Professional Edition Full...</td>\n",
       "      <td>1</td>\n",
       "      <td>76</td>\n",
       "    </tr>\n",
       "    <tr>\n",
       "      <th>2</th>\n",
       "      <td>***В ЛУЧАХ СЛАВЫ   (UNV)                    D</td>\n",
       "      <td>2</td>\n",
       "      <td>40</td>\n",
       "    </tr>\n",
       "    <tr>\n",
       "      <th>3</th>\n",
       "      <td>***ГОЛУБАЯ ВОЛНА  (Univ)                      D</td>\n",
       "      <td>3</td>\n",
       "      <td>40</td>\n",
       "    </tr>\n",
       "    <tr>\n",
       "      <th>4</th>\n",
       "      <td>***КОРОБКА (СТЕКЛО)                       D</td>\n",
       "      <td>4</td>\n",
       "      <td>40</td>\n",
       "    </tr>\n",
       "  </tbody>\n",
       "</table>\n",
       "</div>"
      ],
      "text/plain": [
       "                                           item_name  item_id  \\\n",
       "0          ! ВО ВЛАСТИ НАВАЖДЕНИЯ (ПЛАСТ.)         D        0   \n",
       "1  !ABBYY FineReader 12 Professional Edition Full...        1   \n",
       "2      ***В ЛУЧАХ СЛАВЫ   (UNV)                    D        2   \n",
       "3    ***ГОЛУБАЯ ВОЛНА  (Univ)                      D        3   \n",
       "4        ***КОРОБКА (СТЕКЛО)                       D        4   \n",
       "\n",
       "   item_category_id  \n",
       "0                40  \n",
       "1                76  \n",
       "2                40  \n",
       "3                40  \n",
       "4                40  "
      ]
     },
     "execution_count": 4,
     "metadata": {},
     "output_type": "execute_result"
    }
   ],
   "source": [
    "items=pd.read_csv(items)\n",
    "items.head()"
   ]
  },
  {
   "cell_type": "code",
   "execution_count": 5,
   "id": "377cdee0",
   "metadata": {
    "execution": {
     "iopub.execute_input": "2022-11-25T20:03:27.283044Z",
     "iopub.status.busy": "2022-11-25T20:03:27.282687Z",
     "iopub.status.idle": "2022-11-25T20:03:27.297280Z",
     "shell.execute_reply": "2022-11-25T20:03:27.296322Z"
    },
    "papermill": {
     "duration": 0.026976,
     "end_time": "2022-11-25T20:03:27.299588",
     "exception": false,
     "start_time": "2022-11-25T20:03:27.272612",
     "status": "completed"
    },
    "tags": []
   },
   "outputs": [
    {
     "data": {
      "text/html": [
       "<div>\n",
       "<style scoped>\n",
       "    .dataframe tbody tr th:only-of-type {\n",
       "        vertical-align: middle;\n",
       "    }\n",
       "\n",
       "    .dataframe tbody tr th {\n",
       "        vertical-align: top;\n",
       "    }\n",
       "\n",
       "    .dataframe thead th {\n",
       "        text-align: right;\n",
       "    }\n",
       "</style>\n",
       "<table border=\"1\" class=\"dataframe\">\n",
       "  <thead>\n",
       "    <tr style=\"text-align: right;\">\n",
       "      <th></th>\n",
       "      <th>item_category_name</th>\n",
       "      <th>item_category_id</th>\n",
       "    </tr>\n",
       "  </thead>\n",
       "  <tbody>\n",
       "    <tr>\n",
       "      <th>0</th>\n",
       "      <td>PC - Гарнитуры/Наушники</td>\n",
       "      <td>0</td>\n",
       "    </tr>\n",
       "    <tr>\n",
       "      <th>1</th>\n",
       "      <td>Аксессуары - PS2</td>\n",
       "      <td>1</td>\n",
       "    </tr>\n",
       "    <tr>\n",
       "      <th>2</th>\n",
       "      <td>Аксессуары - PS3</td>\n",
       "      <td>2</td>\n",
       "    </tr>\n",
       "    <tr>\n",
       "      <th>3</th>\n",
       "      <td>Аксессуары - PS4</td>\n",
       "      <td>3</td>\n",
       "    </tr>\n",
       "    <tr>\n",
       "      <th>4</th>\n",
       "      <td>Аксессуары - PSP</td>\n",
       "      <td>4</td>\n",
       "    </tr>\n",
       "  </tbody>\n",
       "</table>\n",
       "</div>"
      ],
      "text/plain": [
       "        item_category_name  item_category_id\n",
       "0  PC - Гарнитуры/Наушники                 0\n",
       "1         Аксессуары - PS2                 1\n",
       "2         Аксессуары - PS3                 2\n",
       "3         Аксессуары - PS4                 3\n",
       "4         Аксессуары - PSP                 4"
      ]
     },
     "execution_count": 5,
     "metadata": {},
     "output_type": "execute_result"
    }
   ],
   "source": [
    "categories=pd.read_csv(categories)\n",
    "categories.head()"
   ]
  },
  {
   "cell_type": "markdown",
   "id": "71829e76",
   "metadata": {
    "papermill": {
     "duration": 0.00855,
     "end_time": "2022-11-25T20:03:27.317463",
     "exception": false,
     "start_time": "2022-11-25T20:03:27.308913",
     "status": "completed"
    },
    "tags": []
   },
   "source": [
    "# Merged DataFrame\n",
    "Data fields\n",
    "* ID - an Id that represents a (Shop, Item) tuple within the test set\n",
    "* shop_id - unique identifier of a shop\n",
    "* item_id - unique identifier of a product\n",
    "* item_category_id - unique identifier of item category\n",
    "* item_cnt_day - number of products sold. You are predicting a monthly amount of this measure\n",
    "* item_price - current price of an item\n",
    "* date - date in format dd/mm/yyyy\n",
    "* date_block_num - a consecutive month number, used for convenience. January 2013 is 0, February 2013 is 1,..., October 2015 is 33\n",
    "* item_name - name of item"
   ]
  },
  {
   "cell_type": "code",
   "execution_count": 6,
   "id": "e8891ebb",
   "metadata": {
    "execution": {
     "iopub.execute_input": "2022-11-25T20:03:27.336538Z",
     "iopub.status.busy": "2022-11-25T20:03:27.336212Z",
     "iopub.status.idle": "2022-11-25T20:03:27.651447Z",
     "shell.execute_reply": "2022-11-25T20:03:27.650188Z"
    },
    "papermill": {
     "duration": 0.330814,
     "end_time": "2022-11-25T20:03:27.657035",
     "exception": false,
     "start_time": "2022-11-25T20:03:27.326221",
     "status": "completed"
    },
    "tags": []
   },
   "outputs": [
    {
     "data": {
      "text/html": [
       "<div>\n",
       "<style scoped>\n",
       "    .dataframe tbody tr th:only-of-type {\n",
       "        vertical-align: middle;\n",
       "    }\n",
       "\n",
       "    .dataframe tbody tr th {\n",
       "        vertical-align: top;\n",
       "    }\n",
       "\n",
       "    .dataframe thead th {\n",
       "        text-align: right;\n",
       "    }\n",
       "</style>\n",
       "<table border=\"1\" class=\"dataframe\">\n",
       "  <thead>\n",
       "    <tr style=\"text-align: right;\">\n",
       "      <th></th>\n",
       "      <th>date</th>\n",
       "      <th>date_block_num</th>\n",
       "      <th>shop_id</th>\n",
       "      <th>item_id</th>\n",
       "      <th>item_price</th>\n",
       "      <th>item_cnt_day</th>\n",
       "      <th>shop_name</th>\n",
       "    </tr>\n",
       "  </thead>\n",
       "  <tbody>\n",
       "    <tr>\n",
       "      <th>0</th>\n",
       "      <td>02.01.2013</td>\n",
       "      <td>0</td>\n",
       "      <td>59</td>\n",
       "      <td>22154</td>\n",
       "      <td>999.0</td>\n",
       "      <td>1.0</td>\n",
       "      <td>Ярославль ТЦ \"Альтаир\"</td>\n",
       "    </tr>\n",
       "    <tr>\n",
       "      <th>1</th>\n",
       "      <td>10.01.2013</td>\n",
       "      <td>0</td>\n",
       "      <td>59</td>\n",
       "      <td>22151</td>\n",
       "      <td>399.0</td>\n",
       "      <td>1.0</td>\n",
       "      <td>Ярославль ТЦ \"Альтаир\"</td>\n",
       "    </tr>\n",
       "    <tr>\n",
       "      <th>2</th>\n",
       "      <td>04.01.2013</td>\n",
       "      <td>0</td>\n",
       "      <td>59</td>\n",
       "      <td>5603</td>\n",
       "      <td>699.0</td>\n",
       "      <td>1.0</td>\n",
       "      <td>Ярославль ТЦ \"Альтаир\"</td>\n",
       "    </tr>\n",
       "    <tr>\n",
       "      <th>3</th>\n",
       "      <td>19.01.2013</td>\n",
       "      <td>0</td>\n",
       "      <td>59</td>\n",
       "      <td>5587</td>\n",
       "      <td>199.0</td>\n",
       "      <td>2.0</td>\n",
       "      <td>Ярославль ТЦ \"Альтаир\"</td>\n",
       "    </tr>\n",
       "    <tr>\n",
       "      <th>4</th>\n",
       "      <td>31.01.2013</td>\n",
       "      <td>0</td>\n",
       "      <td>59</td>\n",
       "      <td>5613</td>\n",
       "      <td>5571.0</td>\n",
       "      <td>1.0</td>\n",
       "      <td>Ярославль ТЦ \"Альтаир\"</td>\n",
       "    </tr>\n",
       "  </tbody>\n",
       "</table>\n",
       "</div>"
      ],
      "text/plain": [
       "         date  date_block_num  shop_id  item_id  item_price  item_cnt_day  \\\n",
       "0  02.01.2013               0       59    22154       999.0           1.0   \n",
       "1  10.01.2013               0       59    22151       399.0           1.0   \n",
       "2  04.01.2013               0       59     5603       699.0           1.0   \n",
       "3  19.01.2013               0       59     5587       199.0           2.0   \n",
       "4  31.01.2013               0       59     5613      5571.0           1.0   \n",
       "\n",
       "                shop_name  \n",
       "0  Ярославль ТЦ \"Альтаир\"  \n",
       "1  Ярославль ТЦ \"Альтаир\"  \n",
       "2  Ярославль ТЦ \"Альтаир\"  \n",
       "3  Ярославль ТЦ \"Альтаир\"  \n",
       "4  Ярославль ТЦ \"Альтаир\"  "
      ]
     },
     "execution_count": 6,
     "metadata": {},
     "output_type": "execute_result"
    }
   ],
   "source": [
    "df=pd.merge(train, shops, on='shop_id')\n",
    "df.head()"
   ]
  },
  {
   "cell_type": "code",
   "execution_count": 7,
   "id": "ceff555f",
   "metadata": {
    "execution": {
     "iopub.execute_input": "2022-11-25T20:03:27.676844Z",
     "iopub.status.busy": "2022-11-25T20:03:27.676515Z",
     "iopub.status.idle": "2022-11-25T20:03:27.711132Z",
     "shell.execute_reply": "2022-11-25T20:03:27.709216Z"
    },
    "papermill": {
     "duration": 0.046961,
     "end_time": "2022-11-25T20:03:27.713488",
     "exception": false,
     "start_time": "2022-11-25T20:03:27.666527",
     "status": "completed"
    },
    "tags": []
   },
   "outputs": [
    {
     "name": "stdout",
     "output_type": "stream",
     "text": [
      "[1.0, 2.0, -1.0, 3.0, 5.0, 6.0, 4.0, -2.0, 10.0, 8.0, 9.0, 7.0, 16.0, 13.0, 12.0, 14.0, 26.0, 11.0, 20.0, 39.0, 28.0, 27.0, 34.0, 19.0, 31.0, 22.0, 17.0, 29.0, 45.0, 21.0, 18.0, 56.0, 15.0, 80.0, 69.0, 40.0, 24.0, 32.0, 23.0, 25.0, 77.0, 41.0, 33.0, 37.0, 36.0, 38.0, 70.0, 30.0, 44.0, 71.0, 48.0, 62.0, 264.0, 110.0, 133.0, 51.0, 46.0, 60.0, 43.0, 65.0, 84.0, 50.0, 47.0, 52.0, 85.0, 35.0, 54.0, 68.0, 59.0, 91.0, 64.0, 87.0, 74.0, 42.0, 501.0, 93.0, 49.0, 53.0, 147.0, 72.0, 205.0, 67.0, 63.0, 55.0, 222.0, 207.0, 82.0, 148.0, 134.0, 78.0, 79.0, 83.0, 405.0, 103.0, 98.0, 100.0, 92.0, -3.0, -4.0, 121.0, 61.0, 156.0, 73.0, 66.0, 145.0, 57.0, 101.0, 81.0, 131.0, 401.0, 502.0, 151.0, 75.0, 240.0, 111.0, 104.0, 76.0, 118.0, 138.0, -5.0, 89.0, 194.0, 255.0, 153.0, -16.0, 117.0, -6.0, 200.0, 150.0, 106.0, 109.0, 97.0, -22.0, 96.0, 242.0, 105.0, 126.0, 58.0, 99.0, 171.0, 130.0, 115.0, 90.0, 124.0, 149.0, 132.0, 195.0, 512.0, -9.0, 142.0, 163.0, 108.0, 500.0, 1000.0, 127.0, 624.0, 187.0, 140.0, 480.0, 343.0, 539.0, 95.0, 146.0, 669.0, 114.0, 157.0, 504.0, 139.0, 161.0, 2169.0, 88.0, 288.0, 86.0, 107.0, 102.0, 300.0, 313.0, 251.0, 217.0, 113.0, 112.0, 299.0, 230.0, 179.0, 168.0, 167.0, 164.0, 508.0, 412.0, 128.0, 116.0, 325.0, 129.0, 231.0, 154.0, 533.0, 637.0, 135.0]\n"
     ]
    }
   ],
   "source": [
    "item_count=list(df['item_cnt_day'].unique())\n",
    "print(item_count)"
   ]
  },
  {
   "cell_type": "code",
   "execution_count": 8,
   "id": "13736819",
   "metadata": {
    "execution": {
     "iopub.execute_input": "2022-11-25T20:03:27.732600Z",
     "iopub.status.busy": "2022-11-25T20:03:27.732276Z",
     "iopub.status.idle": "2022-11-25T20:03:27.963501Z",
     "shell.execute_reply": "2022-11-25T20:03:27.961857Z"
    },
    "papermill": {
     "duration": 0.24362,
     "end_time": "2022-11-25T20:03:27.966045",
     "exception": false,
     "start_time": "2022-11-25T20:03:27.722425",
     "status": "completed"
    },
    "tags": []
   },
   "outputs": [
    {
     "data": {
      "text/plain": [
       "date              0\n",
       "date_block_num    0\n",
       "shop_id           0\n",
       "item_id           0\n",
       "item_price        0\n",
       "item_cnt_day      0\n",
       "shop_name         0\n",
       "dtype: int64"
      ]
     },
     "execution_count": 8,
     "metadata": {},
     "output_type": "execute_result"
    }
   ],
   "source": [
    "df.isnull().sum()"
   ]
  },
  {
   "cell_type": "markdown",
   "id": "287b44a1",
   "metadata": {
    "papermill": {
     "duration": 0.009416,
     "end_time": "2022-11-25T20:03:27.985280",
     "exception": false,
     "start_time": "2022-11-25T20:03:27.975864",
     "status": "completed"
    },
    "tags": []
   },
   "source": [
    "# Test Data\n",
    "We will make predictions on the following test dataset."
   ]
  },
  {
   "cell_type": "code",
   "execution_count": 9,
   "id": "419d2dee",
   "metadata": {
    "execution": {
     "iopub.execute_input": "2022-11-25T20:03:28.006507Z",
     "iopub.status.busy": "2022-11-25T20:03:28.006184Z",
     "iopub.status.idle": "2022-11-25T20:03:28.108667Z",
     "shell.execute_reply": "2022-11-25T20:03:28.107735Z"
    },
    "papermill": {
     "duration": 0.11563,
     "end_time": "2022-11-25T20:03:28.110400",
     "exception": false,
     "start_time": "2022-11-25T20:03:27.994770",
     "status": "completed"
    },
    "tags": []
   },
   "outputs": [
    {
     "data": {
      "text/html": [
       "<div>\n",
       "<style scoped>\n",
       "    .dataframe tbody tr th:only-of-type {\n",
       "        vertical-align: middle;\n",
       "    }\n",
       "\n",
       "    .dataframe tbody tr th {\n",
       "        vertical-align: top;\n",
       "    }\n",
       "\n",
       "    .dataframe thead th {\n",
       "        text-align: right;\n",
       "    }\n",
       "</style>\n",
       "<table border=\"1\" class=\"dataframe\">\n",
       "  <thead>\n",
       "    <tr style=\"text-align: right;\">\n",
       "      <th></th>\n",
       "      <th>ID</th>\n",
       "      <th>shop_id</th>\n",
       "      <th>item_id</th>\n",
       "    </tr>\n",
       "  </thead>\n",
       "  <tbody>\n",
       "    <tr>\n",
       "      <th>0</th>\n",
       "      <td>0</td>\n",
       "      <td>5</td>\n",
       "      <td>5037</td>\n",
       "    </tr>\n",
       "    <tr>\n",
       "      <th>1</th>\n",
       "      <td>1</td>\n",
       "      <td>5</td>\n",
       "      <td>5320</td>\n",
       "    </tr>\n",
       "    <tr>\n",
       "      <th>2</th>\n",
       "      <td>2</td>\n",
       "      <td>5</td>\n",
       "      <td>5233</td>\n",
       "    </tr>\n",
       "    <tr>\n",
       "      <th>3</th>\n",
       "      <td>3</td>\n",
       "      <td>5</td>\n",
       "      <td>5232</td>\n",
       "    </tr>\n",
       "    <tr>\n",
       "      <th>4</th>\n",
       "      <td>4</td>\n",
       "      <td>5</td>\n",
       "      <td>5268</td>\n",
       "    </tr>\n",
       "  </tbody>\n",
       "</table>\n",
       "</div>"
      ],
      "text/plain": [
       "   ID  shop_id  item_id\n",
       "0   0        5     5037\n",
       "1   1        5     5320\n",
       "2   2        5     5233\n",
       "3   3        5     5232\n",
       "4   4        5     5268"
      ]
     },
     "execution_count": 9,
     "metadata": {},
     "output_type": "execute_result"
    }
   ],
   "source": [
    "testDF=pd.read_csv(test)\n",
    "testDF.head()"
   ]
  },
  {
   "cell_type": "markdown",
   "id": "8f74ba3e",
   "metadata": {
    "papermill": {
     "duration": 0.008964,
     "end_time": "2022-11-25T20:03:28.128895",
     "exception": false,
     "start_time": "2022-11-25T20:03:28.119931",
     "status": "completed"
    },
    "tags": []
   },
   "source": [
    "# Feature Engineer"
   ]
  },
  {
   "cell_type": "code",
   "execution_count": 10,
   "id": "c8d0337f",
   "metadata": {
    "execution": {
     "iopub.execute_input": "2022-11-25T20:03:28.149416Z",
     "iopub.status.busy": "2022-11-25T20:03:28.149095Z",
     "iopub.status.idle": "2022-11-25T20:03:29.186285Z",
     "shell.execute_reply": "2022-11-25T20:03:29.184378Z"
    },
    "papermill": {
     "duration": 1.050411,
     "end_time": "2022-11-25T20:03:29.188645",
     "exception": false,
     "start_time": "2022-11-25T20:03:28.138234",
     "status": "completed"
    },
    "tags": []
   },
   "outputs": [
    {
     "name": "stdout",
     "output_type": "stream",
     "text": [
      "[1, 2, 3, 4, 5, 6, 7, 8, 9, 10, 11, 12]\n"
     ]
    }
   ],
   "source": [
    "df['Month'] = df['date'].str[3:5].astype(int)\n",
    "months=list(df['Month'].unique())\n",
    "print(months)"
   ]
  },
  {
   "cell_type": "code",
   "execution_count": 11,
   "id": "be3d00b5",
   "metadata": {
    "execution": {
     "iopub.execute_input": "2022-11-25T20:03:29.208485Z",
     "iopub.status.busy": "2022-11-25T20:03:29.208173Z",
     "iopub.status.idle": "2022-11-25T20:03:30.078880Z",
     "shell.execute_reply": "2022-11-25T20:03:30.077407Z"
    },
    "papermill": {
     "duration": 0.88319,
     "end_time": "2022-11-25T20:03:30.081136",
     "exception": false,
     "start_time": "2022-11-25T20:03:29.197946",
     "status": "completed"
    },
    "tags": []
   },
   "outputs": [
    {
     "name": "stdout",
     "output_type": "stream",
     "text": [
      "[1, 2, 3, 4, 5, 6, 7, 8, 9, 10, 11, 12, 13, 14, 15, 16, 17, 18, 19, 20, 21, 22, 23, 24, 25, 26, 27, 28, 29, 30, 31]\n"
     ]
    }
   ],
   "source": [
    "df['Day'] = df['date'].str[:2].astype(int)\n",
    "days=list(sorted(df['Day'].unique()))\n",
    "print(days)"
   ]
  },
  {
   "cell_type": "code",
   "execution_count": 12,
   "id": "fd86b3f7",
   "metadata": {
    "execution": {
     "iopub.execute_input": "2022-11-25T20:03:30.103303Z",
     "iopub.status.busy": "2022-11-25T20:03:30.102941Z",
     "iopub.status.idle": "2022-11-25T20:03:31.001064Z",
     "shell.execute_reply": "2022-11-25T20:03:30.999522Z"
    },
    "papermill": {
     "duration": 0.912761,
     "end_time": "2022-11-25T20:03:31.004072",
     "exception": false,
     "start_time": "2022-11-25T20:03:30.091311",
     "status": "completed"
    },
    "tags": []
   },
   "outputs": [
    {
     "name": "stdout",
     "output_type": "stream",
     "text": [
      "[2013, 2014, 2015]\n"
     ]
    }
   ],
   "source": [
    "df['Year'] = df['date'].str[6:10].astype(int)\n",
    "years=list(sorted(df['Year'].unique()))\n",
    "print(years)"
   ]
  },
  {
   "cell_type": "code",
   "execution_count": 13,
   "id": "be258f46",
   "metadata": {
    "execution": {
     "iopub.execute_input": "2022-11-25T20:03:31.026459Z",
     "iopub.status.busy": "2022-11-25T20:03:31.025822Z",
     "iopub.status.idle": "2022-11-25T20:03:31.275010Z",
     "shell.execute_reply": "2022-11-25T20:03:31.273686Z"
    },
    "papermill": {
     "duration": 0.262605,
     "end_time": "2022-11-25T20:03:31.277501",
     "exception": false,
     "start_time": "2022-11-25T20:03:31.014896",
     "status": "completed"
    },
    "tags": []
   },
   "outputs": [],
   "source": [
    "df['total_sales']=df['item_price']*df['item_cnt_day']\n",
    "df=df.drop(['item_price', 'item_cnt_day'], axis=1)"
   ]
  },
  {
   "cell_type": "code",
   "execution_count": 14,
   "id": "50dbf89a",
   "metadata": {
    "execution": {
     "iopub.execute_input": "2022-11-25T20:03:31.299832Z",
     "iopub.status.busy": "2022-11-25T20:03:31.299478Z",
     "iopub.status.idle": "2022-11-25T20:03:31.312786Z",
     "shell.execute_reply": "2022-11-25T20:03:31.311823Z"
    },
    "papermill": {
     "duration": 0.02726,
     "end_time": "2022-11-25T20:03:31.315198",
     "exception": false,
     "start_time": "2022-11-25T20:03:31.287938",
     "status": "completed"
    },
    "tags": []
   },
   "outputs": [
    {
     "data": {
      "text/html": [
       "<div>\n",
       "<style scoped>\n",
       "    .dataframe tbody tr th:only-of-type {\n",
       "        vertical-align: middle;\n",
       "    }\n",
       "\n",
       "    .dataframe tbody tr th {\n",
       "        vertical-align: top;\n",
       "    }\n",
       "\n",
       "    .dataframe thead th {\n",
       "        text-align: right;\n",
       "    }\n",
       "</style>\n",
       "<table border=\"1\" class=\"dataframe\">\n",
       "  <thead>\n",
       "    <tr style=\"text-align: right;\">\n",
       "      <th></th>\n",
       "      <th>date</th>\n",
       "      <th>date_block_num</th>\n",
       "      <th>shop_id</th>\n",
       "      <th>item_id</th>\n",
       "      <th>shop_name</th>\n",
       "      <th>Month</th>\n",
       "      <th>Day</th>\n",
       "      <th>Year</th>\n",
       "      <th>total_sales</th>\n",
       "    </tr>\n",
       "  </thead>\n",
       "  <tbody>\n",
       "    <tr>\n",
       "      <th>0</th>\n",
       "      <td>02.01.2013</td>\n",
       "      <td>0</td>\n",
       "      <td>59</td>\n",
       "      <td>22154</td>\n",
       "      <td>Ярославль ТЦ \"Альтаир\"</td>\n",
       "      <td>1</td>\n",
       "      <td>2</td>\n",
       "      <td>2013</td>\n",
       "      <td>999.0</td>\n",
       "    </tr>\n",
       "    <tr>\n",
       "      <th>1</th>\n",
       "      <td>10.01.2013</td>\n",
       "      <td>0</td>\n",
       "      <td>59</td>\n",
       "      <td>22151</td>\n",
       "      <td>Ярославль ТЦ \"Альтаир\"</td>\n",
       "      <td>1</td>\n",
       "      <td>10</td>\n",
       "      <td>2013</td>\n",
       "      <td>399.0</td>\n",
       "    </tr>\n",
       "    <tr>\n",
       "      <th>2</th>\n",
       "      <td>04.01.2013</td>\n",
       "      <td>0</td>\n",
       "      <td>59</td>\n",
       "      <td>5603</td>\n",
       "      <td>Ярославль ТЦ \"Альтаир\"</td>\n",
       "      <td>1</td>\n",
       "      <td>4</td>\n",
       "      <td>2013</td>\n",
       "      <td>699.0</td>\n",
       "    </tr>\n",
       "    <tr>\n",
       "      <th>3</th>\n",
       "      <td>19.01.2013</td>\n",
       "      <td>0</td>\n",
       "      <td>59</td>\n",
       "      <td>5587</td>\n",
       "      <td>Ярославль ТЦ \"Альтаир\"</td>\n",
       "      <td>1</td>\n",
       "      <td>19</td>\n",
       "      <td>2013</td>\n",
       "      <td>398.0</td>\n",
       "    </tr>\n",
       "    <tr>\n",
       "      <th>4</th>\n",
       "      <td>31.01.2013</td>\n",
       "      <td>0</td>\n",
       "      <td>59</td>\n",
       "      <td>5613</td>\n",
       "      <td>Ярославль ТЦ \"Альтаир\"</td>\n",
       "      <td>1</td>\n",
       "      <td>31</td>\n",
       "      <td>2013</td>\n",
       "      <td>5571.0</td>\n",
       "    </tr>\n",
       "  </tbody>\n",
       "</table>\n",
       "</div>"
      ],
      "text/plain": [
       "         date  date_block_num  shop_id  item_id               shop_name  \\\n",
       "0  02.01.2013               0       59    22154  Ярославль ТЦ \"Альтаир\"   \n",
       "1  10.01.2013               0       59    22151  Ярославль ТЦ \"Альтаир\"   \n",
       "2  04.01.2013               0       59     5603  Ярославль ТЦ \"Альтаир\"   \n",
       "3  19.01.2013               0       59     5587  Ярославль ТЦ \"Альтаир\"   \n",
       "4  31.01.2013               0       59     5613  Ярославль ТЦ \"Альтаир\"   \n",
       "\n",
       "   Month  Day  Year  total_sales  \n",
       "0      1    2  2013        999.0  \n",
       "1      1   10  2013        399.0  \n",
       "2      1    4  2013        699.0  \n",
       "3      1   19  2013        398.0  \n",
       "4      1   31  2013       5571.0  "
      ]
     },
     "execution_count": 14,
     "metadata": {},
     "output_type": "execute_result"
    }
   ],
   "source": [
    "df.head()"
   ]
  },
  {
   "cell_type": "markdown",
   "id": "3ac9ffcb",
   "metadata": {
    "papermill": {
     "duration": 0.009781,
     "end_time": "2022-11-25T20:03:31.335353",
     "exception": false,
     "start_time": "2022-11-25T20:03:31.325572",
     "status": "completed"
    },
    "tags": []
   },
   "source": [
    "# Graph Important Columns"
   ]
  },
  {
   "cell_type": "code",
   "execution_count": 15,
   "id": "98f161b3",
   "metadata": {
    "execution": {
     "iopub.execute_input": "2022-11-25T20:03:31.357529Z",
     "iopub.status.busy": "2022-11-25T20:03:31.357168Z",
     "iopub.status.idle": "2022-11-25T20:03:31.572268Z",
     "shell.execute_reply": "2022-11-25T20:03:31.571019Z"
    },
    "papermill": {
     "duration": 0.229434,
     "end_time": "2022-11-25T20:03:31.574968",
     "exception": false,
     "start_time": "2022-11-25T20:03:31.345534",
     "status": "completed"
    },
    "tags": []
   },
   "outputs": [
    {
     "data": {
      "image/png": "[encoded data removed]",
      "text/plain": [
       "<Figure size 432x288 with 1 Axes>"
      ]
     },
     "metadata": {
      "needs_background": "light"
     },
     "output_type": "display_data"
    }
   ],
   "source": [
    "import matplotlib.pyplot as plt\n",
    "\n",
    "monthSales=list(df.groupby(by=\"Month\")['total_sales'].sum())\n",
    "\n",
    "plt.plot(months, monthSales)\n",
    "plt.title(\"Sales by Month\")\n",
    "plt.legend(\"Monthly Sales\")\n",
    "plt.show()"
   ]
  },
  {
   "cell_type": "code",
   "execution_count": 16,
   "id": "c722df26",
   "metadata": {
    "execution": {
     "iopub.execute_input": "2022-11-25T20:03:31.597446Z",
     "iopub.status.busy": "2022-11-25T20:03:31.597116Z",
     "iopub.status.idle": "2022-11-25T20:03:31.796623Z",
     "shell.execute_reply": "2022-11-25T20:03:31.795217Z"
    },
    "papermill": {
     "duration": 0.213183,
     "end_time": "2022-11-25T20:03:31.798572",
     "exception": false,
     "start_time": "2022-11-25T20:03:31.585389",
     "status": "completed"
    },
    "tags": []
   },
   "outputs": [
    {
     "name": "stdout",
     "output_type": "stream",
     "text": [
      "[1217524733, 1346778478, 834623131]\n",
      "[2013, 2014, 2015]\n"
     ]
    },
    {
     "data": {
      "image/png": "[encoded data removed]",
      "text/plain": [
       "<Figure size 432x288 with 1 Axes>"
      ]
     },
     "metadata": {
      "needs_background": "light"
     },
     "output_type": "display_data"
    }
   ],
   "source": [
    "yearSales=list(df.groupby(by=\"Year\")['total_sales'].sum())\n",
    "yearSales=[int(x) for x in yearSales]\n",
    "print(yearSales)\n",
    "print(years)\n",
    "\n",
    "plt.bar(years, yearSales)\n",
    "plt.title(\"Sales by Year\")\n",
    "plt.xticks(rotation=90)\n",
    "plt.legend(\"Year Sales\")\n",
    "plt.show()"
   ]
  },
  {
   "cell_type": "markdown",
   "id": "f46a167a",
   "metadata": {
    "papermill": {
     "duration": 0.010023,
     "end_time": "2022-11-25T20:03:31.818630",
     "exception": false,
     "start_time": "2022-11-25T20:03:31.808607",
     "status": "completed"
    },
    "tags": []
   },
   "source": [
    "# Numeric DataFrame"
   ]
  },
  {
   "cell_type": "code",
   "execution_count": 17,
   "id": "c5cc804e",
   "metadata": {
    "execution": {
     "iopub.execute_input": "2022-11-25T20:03:31.842645Z",
     "iopub.status.busy": "2022-11-25T20:03:31.841959Z",
     "iopub.status.idle": "2022-11-25T20:03:31.897517Z",
     "shell.execute_reply": "2022-11-25T20:03:31.896181Z"
    },
    "papermill": {
     "duration": 0.070466,
     "end_time": "2022-11-25T20:03:31.900111",
     "exception": false,
     "start_time": "2022-11-25T20:03:31.829645",
     "status": "completed"
    },
    "tags": []
   },
   "outputs": [
    {
     "data": {
      "text/html": [
       "<div>\n",
       "<style scoped>\n",
       "    .dataframe tbody tr th:only-of-type {\n",
       "        vertical-align: middle;\n",
       "    }\n",
       "\n",
       "    .dataframe tbody tr th {\n",
       "        vertical-align: top;\n",
       "    }\n",
       "\n",
       "    .dataframe thead th {\n",
       "        text-align: right;\n",
       "    }\n",
       "</style>\n",
       "<table border=\"1\" class=\"dataframe\">\n",
       "  <thead>\n",
       "    <tr style=\"text-align: right;\">\n",
       "      <th></th>\n",
       "      <th>date_block_num</th>\n",
       "      <th>shop_id</th>\n",
       "      <th>item_id</th>\n",
       "      <th>Month</th>\n",
       "      <th>Day</th>\n",
       "      <th>Year</th>\n",
       "      <th>total_sales</th>\n",
       "    </tr>\n",
       "  </thead>\n",
       "  <tbody>\n",
       "    <tr>\n",
       "      <th>0</th>\n",
       "      <td>0</td>\n",
       "      <td>59</td>\n",
       "      <td>22154</td>\n",
       "      <td>1</td>\n",
       "      <td>2</td>\n",
       "      <td>2013</td>\n",
       "      <td>999.0</td>\n",
       "    </tr>\n",
       "    <tr>\n",
       "      <th>1</th>\n",
       "      <td>0</td>\n",
       "      <td>59</td>\n",
       "      <td>22151</td>\n",
       "      <td>1</td>\n",
       "      <td>10</td>\n",
       "      <td>2013</td>\n",
       "      <td>399.0</td>\n",
       "    </tr>\n",
       "    <tr>\n",
       "      <th>2</th>\n",
       "      <td>0</td>\n",
       "      <td>59</td>\n",
       "      <td>5603</td>\n",
       "      <td>1</td>\n",
       "      <td>4</td>\n",
       "      <td>2013</td>\n",
       "      <td>699.0</td>\n",
       "    </tr>\n",
       "    <tr>\n",
       "      <th>3</th>\n",
       "      <td>0</td>\n",
       "      <td>59</td>\n",
       "      <td>5587</td>\n",
       "      <td>1</td>\n",
       "      <td>19</td>\n",
       "      <td>2013</td>\n",
       "      <td>398.0</td>\n",
       "    </tr>\n",
       "    <tr>\n",
       "      <th>4</th>\n",
       "      <td>0</td>\n",
       "      <td>59</td>\n",
       "      <td>5613</td>\n",
       "      <td>1</td>\n",
       "      <td>31</td>\n",
       "      <td>2013</td>\n",
       "      <td>5571.0</td>\n",
       "    </tr>\n",
       "  </tbody>\n",
       "</table>\n",
       "</div>"
      ],
      "text/plain": [
       "   date_block_num  shop_id  item_id  Month  Day  Year  total_sales\n",
       "0               0       59    22154      1    2  2013        999.0\n",
       "1               0       59    22151      1   10  2013        399.0\n",
       "2               0       59     5603      1    4  2013        699.0\n",
       "3               0       59     5587      1   19  2013        398.0\n",
       "4               0       59     5613      1   31  2013       5571.0"
      ]
     },
     "execution_count": 17,
     "metadata": {},
     "output_type": "execute_result"
    }
   ],
   "source": [
    "df=df.select_dtypes('number')\n",
    "df.head()"
   ]
  },
  {
   "cell_type": "code",
   "execution_count": 18,
   "id": "e45d0c00",
   "metadata": {
    "execution": {
     "iopub.execute_input": "2022-11-25T20:03:31.922894Z",
     "iopub.status.busy": "2022-11-25T20:03:31.922554Z",
     "iopub.status.idle": "2022-11-25T20:03:31.958276Z",
     "shell.execute_reply": "2022-11-25T20:03:31.956602Z"
    },
    "papermill": {
     "duration": 0.049789,
     "end_time": "2022-11-25T20:03:31.960650",
     "exception": false,
     "start_time": "2022-11-25T20:03:31.910861",
     "status": "completed"
    },
    "tags": []
   },
   "outputs": [],
   "source": [
    "X=df.drop('total_sales', axis=1)\n",
    "y=df['total_sales']\n",
    "#print(y)"
   ]
  },
  {
   "cell_type": "markdown",
   "id": "419f5eb6",
   "metadata": {
    "papermill": {
     "duration": 0.010111,
     "end_time": "2022-11-25T20:03:31.981527",
     "exception": false,
     "start_time": "2022-11-25T20:03:31.971416",
     "status": "completed"
    },
    "tags": []
   },
   "source": [
    "# Split Data"
   ]
  },
  {
   "cell_type": "code",
   "execution_count": 19,
   "id": "9ac8044c",
   "metadata": {
    "execution": {
     "iopub.execute_input": "2022-11-25T20:03:32.004027Z",
     "iopub.status.busy": "2022-11-25T20:03:32.003675Z",
     "iopub.status.idle": "2022-11-25T20:03:33.918692Z",
     "shell.execute_reply": "2022-11-25T20:03:33.917684Z"
    },
    "papermill": {
     "duration": 1.928837,
     "end_time": "2022-11-25T20:03:33.921033",
     "exception": false,
     "start_time": "2022-11-25T20:03:31.992196",
     "status": "completed"
    },
    "tags": []
   },
   "outputs": [],
   "source": [
    "from sklearn.model_selection import train_test_split\n",
    "\n",
    "X_train, X_test, y_train, y_test = train_test_split(X, y, test_size=.30, random_state=42)\n",
    "#print(X_train)"
   ]
  },
  {
   "cell_type": "markdown",
   "id": "b502e4ed",
   "metadata": {
    "papermill": {
     "duration": 0.00964,
     "end_time": "2022-11-25T20:03:33.940939",
     "exception": false,
     "start_time": "2022-11-25T20:03:33.931299",
     "status": "completed"
    },
    "tags": []
   },
   "source": [
    "# XGBOOST"
   ]
  },
  {
   "cell_type": "code",
   "execution_count": 20,
   "id": "f1e186b9",
   "metadata": {
    "execution": {
     "iopub.execute_input": "2022-11-25T20:03:33.962492Z",
     "iopub.status.busy": "2022-11-25T20:03:33.962191Z",
     "iopub.status.idle": "2022-11-25T20:03:34.073699Z",
     "shell.execute_reply": "2022-11-25T20:03:34.072615Z"
    },
    "papermill": {
     "duration": 0.125851,
     "end_time": "2022-11-25T20:03:34.076848",
     "exception": false,
     "start_time": "2022-11-25T20:03:33.950997",
     "status": "completed"
    },
    "tags": []
   },
   "outputs": [],
   "source": [
    "import xgboost as xgb\n",
    "from xgboost import XGBRegressor"
   ]
  },
  {
   "cell_type": "code",
   "execution_count": 21,
   "id": "452100d0",
   "metadata": {
    "execution": {
     "iopub.execute_input": "2022-11-25T20:03:34.099499Z",
     "iopub.status.busy": "2022-11-25T20:03:34.099164Z",
     "iopub.status.idle": "2022-11-25T20:05:18.499907Z",
     "shell.execute_reply": "2022-11-25T20:05:18.498977Z"
    },
    "papermill": {
     "duration": 104.421143,
     "end_time": "2022-11-25T20:05:18.508555",
     "exception": false,
     "start_time": "2022-11-25T20:03:34.087412",
     "status": "completed"
    },
    "tags": []
   },
   "outputs": [
    {
     "name": "stdout",
     "output_type": "stream",
     "text": [
      "[ 478.19922  418.87726 2507.0232  ...  785.64716  602.67523 1451.4086 ]\n"
     ]
    }
   ],
   "source": [
    "xgb = xgb.XGBRegressor()\n",
    "xgb.fit(X_train, y_train)\n",
    "y_pred=xgb.predict(X_test)\n",
    "print(y_pred)"
   ]
  },
  {
   "cell_type": "code",
   "execution_count": 22,
   "id": "a28df694",
   "metadata": {
    "execution": {
     "iopub.execute_input": "2022-11-25T20:05:18.531983Z",
     "iopub.status.busy": "2022-11-25T20:05:18.531645Z",
     "iopub.status.idle": "2022-11-25T20:05:18.541830Z",
     "shell.execute_reply": "2022-11-25T20:05:18.541190Z"
    },
    "papermill": {
     "duration": 0.023834,
     "end_time": "2022-11-25T20:05:18.543834",
     "exception": false,
     "start_time": "2022-11-25T20:05:18.520000",
     "status": "completed"
    },
    "tags": []
   },
   "outputs": [
    {
     "name": "stdout",
     "output_type": "stream",
     "text": [
      "0.5045\n"
     ]
    }
   ],
   "source": [
    "from sklearn.metrics import r2_score, roc_auc_score\n",
    "\n",
    "print(r2_score(y_test, y_pred).round(4))\n",
    "#print(roc_auc_score(y_test, y_pred))"
   ]
  },
  {
   "cell_type": "markdown",
   "id": "fbf79669",
   "metadata": {
    "papermill": {
     "duration": 0.010131,
     "end_time": "2022-11-25T20:05:18.565969",
     "exception": false,
     "start_time": "2022-11-25T20:05:18.555838",
     "status": "completed"
    },
    "tags": []
   },
   "source": [
    "# Feature Importances"
   ]
  },
  {
   "cell_type": "code",
   "execution_count": 23,
   "id": "24dcc821",
   "metadata": {
    "execution": {
     "iopub.execute_input": "2022-11-25T20:05:18.589046Z",
     "iopub.status.busy": "2022-11-25T20:05:18.588360Z",
     "iopub.status.idle": "2022-11-25T20:05:18.730292Z",
     "shell.execute_reply": "2022-11-25T20:05:18.729568Z"
    },
    "papermill": {
     "duration": 0.155451,
     "end_time": "2022-11-25T20:05:18.731970",
     "exception": false,
     "start_time": "2022-11-25T20:05:18.576519",
     "status": "completed"
    },
    "tags": []
   },
   "outputs": [
    {
     "name": "stdout",
     "output_type": "stream",
     "text": [
      "[0.27260247 0.07072572 0.16761984 0.09740683 0.39164513 0.        ]\n"
     ]
    },
    {
     "data": {
      "image/png": "[encoded data removed]",
      "text/plain": [
       "<Figure size 432x288 with 1 Axes>"
      ]
     },
     "metadata": {
      "needs_background": "light"
     },
     "output_type": "display_data"
    }
   ],
   "source": [
    "from xgboost import plot_importance\n",
    "from matplotlib import pyplot\n",
    "\n",
    "print(xgb.feature_importances_)\n",
    "pyplot.bar(range(len(xgb.feature_importances_)), xgb.feature_importances_)\n",
    "pyplot.show()"
   ]
  },
  {
   "cell_type": "code",
   "execution_count": 24,
   "id": "8cb2a43f",
   "metadata": {
    "execution": {
     "iopub.execute_input": "2022-11-25T20:05:18.756654Z",
     "iopub.status.busy": "2022-11-25T20:05:18.756117Z",
     "iopub.status.idle": "2022-11-25T20:05:18.896220Z",
     "shell.execute_reply": "2022-11-25T20:05:18.895260Z"
    },
    "papermill": {
     "duration": 0.155859,
     "end_time": "2022-11-25T20:05:18.898884",
     "exception": false,
     "start_time": "2022-11-25T20:05:18.743025",
     "status": "completed"
    },
    "tags": []
   },
   "outputs": [
    {
     "data": {
      "image/png": "[encoded data removed]",
      "text/plain": [
       "<Figure size 432x288 with 1 Axes>"
      ]
     },
     "metadata": {
      "needs_background": "light"
     },
     "output_type": "display_data"
    }
   ],
   "source": [
    "plot_importance(xgb)\n",
    "pyplot.show()"
   ]
  },
  {
   "cell_type": "markdown",
   "id": "2109083c",
   "metadata": {
    "papermill": {
     "duration": 0.010929,
     "end_time": "2022-11-25T20:05:18.921415",
     "exception": false,
     "start_time": "2022-11-25T20:05:18.910486",
     "status": "completed"
    },
    "tags": []
   },
   "source": [
    "# Test Data"
   ]
  },
  {
   "cell_type": "code",
   "execution_count": 25,
   "id": "e50f7626",
   "metadata": {
    "execution": {
     "iopub.execute_input": "2022-11-25T20:05:18.947682Z",
     "iopub.status.busy": "2022-11-25T20:05:18.946278Z",
     "iopub.status.idle": "2022-11-25T20:05:18.998142Z",
     "shell.execute_reply": "2022-11-25T20:05:18.996873Z"
    },
    "papermill": {
     "duration": 0.067477,
     "end_time": "2022-11-25T20:05:19.000618",
     "exception": false,
     "start_time": "2022-11-25T20:05:18.933141",
     "status": "completed"
    },
    "tags": []
   },
   "outputs": [
    {
     "data": {
      "text/html": [
       "<div>\n",
       "<style scoped>\n",
       "    .dataframe tbody tr th:only-of-type {\n",
       "        vertical-align: middle;\n",
       "    }\n",
       "\n",
       "    .dataframe tbody tr th {\n",
       "        vertical-align: top;\n",
       "    }\n",
       "\n",
       "    .dataframe thead th {\n",
       "        text-align: right;\n",
       "    }\n",
       "</style>\n",
       "<table border=\"1\" class=\"dataframe\">\n",
       "  <thead>\n",
       "    <tr style=\"text-align: right;\">\n",
       "      <th></th>\n",
       "      <th>shop_id</th>\n",
       "      <th>item_id</th>\n",
       "    </tr>\n",
       "  </thead>\n",
       "  <tbody>\n",
       "    <tr>\n",
       "      <th>0</th>\n",
       "      <td>5</td>\n",
       "      <td>5037</td>\n",
       "    </tr>\n",
       "    <tr>\n",
       "      <th>1</th>\n",
       "      <td>5</td>\n",
       "      <td>5320</td>\n",
       "    </tr>\n",
       "    <tr>\n",
       "      <th>2</th>\n",
       "      <td>5</td>\n",
       "      <td>5233</td>\n",
       "    </tr>\n",
       "    <tr>\n",
       "      <th>3</th>\n",
       "      <td>5</td>\n",
       "      <td>5232</td>\n",
       "    </tr>\n",
       "    <tr>\n",
       "      <th>4</th>\n",
       "      <td>5</td>\n",
       "      <td>5268</td>\n",
       "    </tr>\n",
       "  </tbody>\n",
       "</table>\n",
       "</div>"
      ],
      "text/plain": [
       "   shop_id  item_id\n",
       "0        5     5037\n",
       "1        5     5320\n",
       "2        5     5233\n",
       "3        5     5232\n",
       "4        5     5268"
      ]
     },
     "execution_count": 25,
     "metadata": {},
     "output_type": "execute_result"
    }
   ],
   "source": [
    "test=pd.read_csv(test)\n",
    "testID=test['ID']\n",
    "test=test.drop('ID', axis=1)\n",
    "test.head()"
   ]
  },
  {
   "cell_type": "markdown",
   "id": "c6a2d3ce",
   "metadata": {
    "papermill": {
     "duration": 0.010835,
     "end_time": "2022-11-25T20:05:19.022975",
     "exception": false,
     "start_time": "2022-11-25T20:05:19.012140",
     "status": "completed"
    },
    "tags": []
   },
   "source": [
    "# Test Merged Data\n",
    "This prediction will be much different than a typical prediction because the test dataset has to be joined on two variables both item_id and shop_id. Since we need to align the test data with previous train data, we will need to use a right join. That way the item_id and shop_id can be predicted through previous X_train data."
   ]
  },
  {
   "cell_type": "code",
   "execution_count": 26,
   "id": "1ccabaf3",
   "metadata": {
    "execution": {
     "iopub.execute_input": "2022-11-25T20:05:19.046501Z",
     "iopub.status.busy": "2022-11-25T20:05:19.046194Z",
     "iopub.status.idle": "2022-11-25T20:05:19.650540Z",
     "shell.execute_reply": "2022-11-25T20:05:19.649157Z"
    },
    "papermill": {
     "duration": 0.618424,
     "end_time": "2022-11-25T20:05:19.652537",
     "exception": false,
     "start_time": "2022-11-25T20:05:19.034113",
     "status": "completed"
    },
    "tags": []
   },
   "outputs": [
    {
     "data": {
      "text/html": [
       "<div>\n",
       "<style scoped>\n",
       "    .dataframe tbody tr th:only-of-type {\n",
       "        vertical-align: middle;\n",
       "    }\n",
       "\n",
       "    .dataframe tbody tr th {\n",
       "        vertical-align: top;\n",
       "    }\n",
       "\n",
       "    .dataframe thead th {\n",
       "        text-align: right;\n",
       "    }\n",
       "</style>\n",
       "<table border=\"1\" class=\"dataframe\">\n",
       "  <thead>\n",
       "    <tr style=\"text-align: right;\">\n",
       "      <th></th>\n",
       "      <th>shop_id</th>\n",
       "      <th>item_id</th>\n",
       "      <th>date_block_num</th>\n",
       "      <th>Month</th>\n",
       "      <th>Day</th>\n",
       "      <th>Year</th>\n",
       "      <th>total_sales</th>\n",
       "    </tr>\n",
       "  </thead>\n",
       "  <tbody>\n",
       "    <tr>\n",
       "      <th>0</th>\n",
       "      <td>59</td>\n",
       "      <td>22154</td>\n",
       "      <td>0</td>\n",
       "      <td>1</td>\n",
       "      <td>2</td>\n",
       "      <td>2013</td>\n",
       "      <td>999.0</td>\n",
       "    </tr>\n",
       "    <tr>\n",
       "      <th>1</th>\n",
       "      <td>59</td>\n",
       "      <td>22151</td>\n",
       "      <td>0</td>\n",
       "      <td>1</td>\n",
       "      <td>10</td>\n",
       "      <td>2013</td>\n",
       "      <td>399.0</td>\n",
       "    </tr>\n",
       "    <tr>\n",
       "      <th>2</th>\n",
       "      <td>59</td>\n",
       "      <td>5603</td>\n",
       "      <td>0</td>\n",
       "      <td>1</td>\n",
       "      <td>4</td>\n",
       "      <td>2013</td>\n",
       "      <td>699.0</td>\n",
       "    </tr>\n",
       "    <tr>\n",
       "      <th>3</th>\n",
       "      <td>59</td>\n",
       "      <td>5587</td>\n",
       "      <td>0</td>\n",
       "      <td>1</td>\n",
       "      <td>19</td>\n",
       "      <td>2013</td>\n",
       "      <td>398.0</td>\n",
       "    </tr>\n",
       "    <tr>\n",
       "      <th>4</th>\n",
       "      <td>59</td>\n",
       "      <td>5613</td>\n",
       "      <td>0</td>\n",
       "      <td>1</td>\n",
       "      <td>31</td>\n",
       "      <td>2013</td>\n",
       "      <td>5571.0</td>\n",
       "    </tr>\n",
       "  </tbody>\n",
       "</table>\n",
       "</div>"
      ],
      "text/plain": [
       "   shop_id  item_id  date_block_num  Month  Day  Year  total_sales\n",
       "0       59    22154               0      1    2  2013        999.0\n",
       "1       59    22151               0      1   10  2013        399.0\n",
       "2       59     5603               0      1    4  2013        699.0\n",
       "3       59     5587               0      1   19  2013        398.0\n",
       "4       59     5613               0      1   31  2013       5571.0"
      ]
     },
     "execution_count": 26,
     "metadata": {},
     "output_type": "execute_result"
    }
   ],
   "source": [
    "testDF=pd.merge(test, df, on=['item_id', 'shop_id'], how='right').reset_index(drop=True)\n",
    "testDF.head()"
   ]
  },
  {
   "cell_type": "code",
   "execution_count": 27,
   "id": "7c57fbc1",
   "metadata": {
    "execution": {
     "iopub.execute_input": "2022-11-25T20:05:19.676632Z",
     "iopub.status.busy": "2022-11-25T20:05:19.676318Z",
     "iopub.status.idle": "2022-11-25T20:05:19.681365Z",
     "shell.execute_reply": "2022-11-25T20:05:19.679823Z"
    },
    "papermill": {
     "duration": 0.020354,
     "end_time": "2022-11-25T20:05:19.683988",
     "exception": false,
     "start_time": "2022-11-25T20:05:19.663634",
     "status": "completed"
    },
    "tags": []
   },
   "outputs": [
    {
     "name": "stdout",
     "output_type": "stream",
     "text": [
      "['date_block_num', 'shop_id', 'item_id', 'Month', 'Day', 'Year']\n"
     ]
    }
   ],
   "source": [
    "cols=list(X.columns)\n",
    "print(cols)"
   ]
  },
  {
   "cell_type": "code",
   "execution_count": 28,
   "id": "181a0ba2",
   "metadata": {
    "execution": {
     "iopub.execute_input": "2022-11-25T20:05:19.709719Z",
     "iopub.status.busy": "2022-11-25T20:05:19.709363Z",
     "iopub.status.idle": "2022-11-25T20:05:19.740235Z",
     "shell.execute_reply": "2022-11-25T20:05:19.738609Z"
    },
    "papermill": {
     "duration": 0.046424,
     "end_time": "2022-11-25T20:05:19.742648",
     "exception": false,
     "start_time": "2022-11-25T20:05:19.696224",
     "status": "completed"
    },
    "tags": []
   },
   "outputs": [
    {
     "data": {
      "text/html": [
       "<div>\n",
       "<style scoped>\n",
       "    .dataframe tbody tr th:only-of-type {\n",
       "        vertical-align: middle;\n",
       "    }\n",
       "\n",
       "    .dataframe tbody tr th {\n",
       "        vertical-align: top;\n",
       "    }\n",
       "\n",
       "    .dataframe thead th {\n",
       "        text-align: right;\n",
       "    }\n",
       "</style>\n",
       "<table border=\"1\" class=\"dataframe\">\n",
       "  <thead>\n",
       "    <tr style=\"text-align: right;\">\n",
       "      <th></th>\n",
       "      <th>date_block_num</th>\n",
       "      <th>shop_id</th>\n",
       "      <th>item_id</th>\n",
       "      <th>Month</th>\n",
       "      <th>Day</th>\n",
       "      <th>Year</th>\n",
       "    </tr>\n",
       "  </thead>\n",
       "  <tbody>\n",
       "    <tr>\n",
       "      <th>0</th>\n",
       "      <td>0</td>\n",
       "      <td>59</td>\n",
       "      <td>22154</td>\n",
       "      <td>1</td>\n",
       "      <td>2</td>\n",
       "      <td>2013</td>\n",
       "    </tr>\n",
       "    <tr>\n",
       "      <th>1</th>\n",
       "      <td>0</td>\n",
       "      <td>59</td>\n",
       "      <td>22151</td>\n",
       "      <td>1</td>\n",
       "      <td>10</td>\n",
       "      <td>2013</td>\n",
       "    </tr>\n",
       "    <tr>\n",
       "      <th>2</th>\n",
       "      <td>0</td>\n",
       "      <td>59</td>\n",
       "      <td>5603</td>\n",
       "      <td>1</td>\n",
       "      <td>4</td>\n",
       "      <td>2013</td>\n",
       "    </tr>\n",
       "    <tr>\n",
       "      <th>3</th>\n",
       "      <td>0</td>\n",
       "      <td>59</td>\n",
       "      <td>5587</td>\n",
       "      <td>1</td>\n",
       "      <td>19</td>\n",
       "      <td>2013</td>\n",
       "    </tr>\n",
       "    <tr>\n",
       "      <th>4</th>\n",
       "      <td>0</td>\n",
       "      <td>59</td>\n",
       "      <td>5613</td>\n",
       "      <td>1</td>\n",
       "      <td>31</td>\n",
       "      <td>2013</td>\n",
       "    </tr>\n",
       "  </tbody>\n",
       "</table>\n",
       "</div>"
      ],
      "text/plain": [
       "   date_block_num  shop_id  item_id  Month  Day  Year\n",
       "0               0       59    22154      1    2  2013\n",
       "1               0       59    22151      1   10  2013\n",
       "2               0       59     5603      1    4  2013\n",
       "3               0       59     5587      1   19  2013\n",
       "4               0       59     5613      1   31  2013"
      ]
     },
     "execution_count": 28,
     "metadata": {},
     "output_type": "execute_result"
    }
   ],
   "source": [
    "testDF=testDF[cols]\n",
    "testDF.head()"
   ]
  },
  {
   "cell_type": "code",
   "execution_count": 29,
   "id": "07ca4617",
   "metadata": {
    "execution": {
     "iopub.execute_input": "2022-11-25T20:05:19.767651Z",
     "iopub.status.busy": "2022-11-25T20:05:19.767164Z",
     "iopub.status.idle": "2022-11-25T20:05:23.019162Z",
     "shell.execute_reply": "2022-11-25T20:05:23.018325Z"
    },
    "papermill": {
     "duration": 3.267081,
     "end_time": "2022-11-25T20:05:23.021235",
     "exception": false,
     "start_time": "2022-11-25T20:05:19.754154",
     "status": "completed"
    },
    "tags": []
   },
   "outputs": [
    {
     "name": "stdout",
     "output_type": "stream",
     "text": [
      "[ 514.0624   517.7608   857.60876 ... 1178.3224  1255.634   1510.8212 ]\n"
     ]
    }
   ],
   "source": [
    "finalPred=xgb.predict(testDF)\n",
    "print(finalPred)"
   ]
  },
  {
   "cell_type": "markdown",
   "id": "92d56770",
   "metadata": {
    "papermill": {
     "duration": 0.01139,
     "end_time": "2022-11-25T20:05:23.044348",
     "exception": false,
     "start_time": "2022-11-25T20:05:23.032958",
     "status": "completed"
    },
    "tags": []
   },
   "source": [
    "# Submit File\n",
    "Submissions are evaluated by root mean squared error (RMSE) . True target values are clipped into [0,20] range."
   ]
  },
  {
   "cell_type": "code",
   "execution_count": 30,
   "id": "2d3bc556",
   "metadata": {
    "execution": {
     "iopub.execute_input": "2022-11-25T20:05:23.069959Z",
     "iopub.status.busy": "2022-11-25T20:05:23.069605Z",
     "iopub.status.idle": "2022-11-25T20:05:23.368421Z",
     "shell.execute_reply": "2022-11-25T20:05:23.367076Z"
    },
    "papermill": {
     "duration": 0.314586,
     "end_time": "2022-11-25T20:05:23.370877",
     "exception": false,
     "start_time": "2022-11-25T20:05:23.056291",
     "status": "completed"
    },
    "tags": []
   },
   "outputs": [
    {
     "data": {
      "text/html": [
       "<div>\n",
       "<style scoped>\n",
       "    .dataframe tbody tr th:only-of-type {\n",
       "        vertical-align: middle;\n",
       "    }\n",
       "\n",
       "    .dataframe tbody tr th {\n",
       "        vertical-align: top;\n",
       "    }\n",
       "\n",
       "    .dataframe thead th {\n",
       "        text-align: right;\n",
       "    }\n",
       "</style>\n",
       "<table border=\"1\" class=\"dataframe\">\n",
       "  <thead>\n",
       "    <tr style=\"text-align: right;\">\n",
       "      <th></th>\n",
       "      <th>ID</th>\n",
       "      <th>item_cnt_month</th>\n",
       "    </tr>\n",
       "  </thead>\n",
       "  <tbody>\n",
       "    <tr>\n",
       "      <th>0</th>\n",
       "      <td>0</td>\n",
       "      <td>514.062378</td>\n",
       "    </tr>\n",
       "    <tr>\n",
       "      <th>1</th>\n",
       "      <td>1</td>\n",
       "      <td>517.760803</td>\n",
       "    </tr>\n",
       "    <tr>\n",
       "      <th>2</th>\n",
       "      <td>2</td>\n",
       "      <td>857.608765</td>\n",
       "    </tr>\n",
       "    <tr>\n",
       "      <th>3</th>\n",
       "      <td>3</td>\n",
       "      <td>549.328918</td>\n",
       "    </tr>\n",
       "    <tr>\n",
       "      <th>4</th>\n",
       "      <td>4</td>\n",
       "      <td>3704.688965</td>\n",
       "    </tr>\n",
       "  </tbody>\n",
       "</table>\n",
       "</div>"
      ],
      "text/plain": [
       "   ID  item_cnt_month\n",
       "0   0      514.062378\n",
       "1   1      517.760803\n",
       "2   2      857.608765\n",
       "3   3      549.328918\n",
       "4   4     3704.688965"
      ]
     },
     "execution_count": 30,
     "metadata": {},
     "output_type": "execute_result"
    }
   ],
   "source": [
    "testID=list(testID)\n",
    "finalPred=list(finalPred)\n",
    "submitDF=pd.DataFrame(data=zip(testID, finalPred), columns=['ID', 'item_cnt_month'])\n",
    "submitDF.head()"
   ]
  },
  {
   "cell_type": "code",
   "execution_count": 31,
   "id": "b3ab9988",
   "metadata": {
    "execution": {
     "iopub.execute_input": "2022-11-25T20:05:23.396660Z",
     "iopub.status.busy": "2022-11-25T20:05:23.396333Z",
     "iopub.status.idle": "2022-11-25T20:05:23.735635Z",
     "shell.execute_reply": "2022-11-25T20:05:23.734616Z"
    },
    "papermill": {
     "duration": 0.354402,
     "end_time": "2022-11-25T20:05:23.737457",
     "exception": false,
     "start_time": "2022-11-25T20:05:23.383055",
     "status": "completed"
    },
    "tags": []
   },
   "outputs": [
    {
     "name": "stdout",
     "output_type": "stream",
     "text": [
      "Submit File\n"
     ]
    }
   ],
   "source": [
    "submitDF.to_csv('submission.csv', index=False)\n",
    "print(\"Submit File\")"
   ]
  },
  {
   "cell_type": "code",
   "execution_count": 32,
   "id": "bf5c1b1e",
   "metadata": {
    "execution": {
     "iopub.execute_input": "2022-11-25T20:05:23.764581Z",
     "iopub.status.busy": "2022-11-25T20:05:23.763564Z",
     "iopub.status.idle": "2022-11-25T20:05:23.893488Z",
     "shell.execute_reply": "2022-11-25T20:05:23.892383Z"
    },
    "papermill": {
     "duration": 0.145517,
     "end_time": "2022-11-25T20:05:23.896096",
     "exception": false,
     "start_time": "2022-11-25T20:05:23.750579",
     "status": "completed"
    },
    "tags": []
   },
   "outputs": [
    {
     "name": "stdout",
     "output_type": "stream",
     "text": [
      "[0.5]\n",
      "214199\n"
     ]
    },
    {
     "data": {
      "text/html": [
       "<div>\n",
       "<style scoped>\n",
       "    .dataframe tbody tr th:only-of-type {\n",
       "        vertical-align: middle;\n",
       "    }\n",
       "\n",
       "    .dataframe tbody tr th {\n",
       "        vertical-align: top;\n",
       "    }\n",
       "\n",
       "    .dataframe thead th {\n",
       "        text-align: right;\n",
       "    }\n",
       "</style>\n",
       "<table border=\"1\" class=\"dataframe\">\n",
       "  <thead>\n",
       "    <tr style=\"text-align: right;\">\n",
       "      <th></th>\n",
       "      <th>ID</th>\n",
       "      <th>item_cnt_month</th>\n",
       "    </tr>\n",
       "  </thead>\n",
       "  <tbody>\n",
       "    <tr>\n",
       "      <th>0</th>\n",
       "      <td>0</td>\n",
       "      <td>0.5</td>\n",
       "    </tr>\n",
       "    <tr>\n",
       "      <th>1</th>\n",
       "      <td>1</td>\n",
       "      <td>0.5</td>\n",
       "    </tr>\n",
       "    <tr>\n",
       "      <th>2</th>\n",
       "      <td>2</td>\n",
       "      <td>0.5</td>\n",
       "    </tr>\n",
       "    <tr>\n",
       "      <th>3</th>\n",
       "      <td>3</td>\n",
       "      <td>0.5</td>\n",
       "    </tr>\n",
       "    <tr>\n",
       "      <th>4</th>\n",
       "      <td>4</td>\n",
       "      <td>0.5</td>\n",
       "    </tr>\n",
       "  </tbody>\n",
       "</table>\n",
       "</div>"
      ],
      "text/plain": [
       "   ID  item_cnt_month\n",
       "0   0             0.5\n",
       "1   1             0.5\n",
       "2   2             0.5\n",
       "3   3             0.5\n",
       "4   4             0.5"
      ]
     },
     "execution_count": 32,
     "metadata": {},
     "output_type": "execute_result"
    }
   ],
   "source": [
    "#Sample Output:\n",
    "sample='/kaggle/input/competitive-data-science-predict-future-sales/sample_submission.csv'\n",
    "sample=pd.read_csv(sample)\n",
    "itemList=list(sample['item_cnt_month'].unique())\n",
    "print(itemList)\n",
    "idList=list(sample['ID'].unique())\n",
    "print(max(idList))\n",
    "sample.head()"
   ]
  }
 ],
 "metadata": {
  "kernelspec": {
   "display_name": "Python 3",
   "language": "python",
   "name": "python3"
  },
  "language_info": {
   "codemirror_mode": {
    "name": "ipython",
    "version": 3
   },
   "file_extension": ".py",
   "mimetype": "text/x-python",
   "name": "python",
   "nbconvert_exporter": "python",
   "pygments_lexer": "ipython3",
   "version": "3.7.12"
  },
  "papermill": {
   "default_parameters": {},
   "duration": 129.415996,
   "end_time": "2022-11-25T20:05:24.732173",
   "environment_variables": {},
   "exception": null,
   "input_path": "__notebook__.ipynb",
   "output_path": "__notebook__.ipynb",
   "parameters": {},
   "start_time": "2022-11-25T20:03:15.316177",
   "version": "2.3.4"
  }
 },
 "nbformat": 4,
 "nbformat_minor": 5
}
