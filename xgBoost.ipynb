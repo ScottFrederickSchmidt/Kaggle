{
 "cells": [
  {
   "cell_type": "markdown",
   "id": "8593a326",
   "metadata": {
    "papermill": {
     "duration": 0.011783,
     "end_time": "2022-09-29T15:30:56.252127",
     "exception": false,
     "start_time": "2022-09-29T15:30:56.240344",
     "status": "completed"
    },
    "tags": []
   },
   "source": [
    "# Predict House Price\n",
    "### Using xgBoost with Search Grid\n",
    "\n",
    "Original full House Price prediction can be found here: \n",
    "https://github.com/ScottySchmidt/Kaggle/blob/main/PredictHousePrices.ipynb\n",
    "\n",
    "##### Special Notes:\n",
    "* Tunning learning_rate improved 8% better score\n",
    "* Removing outliers improved 4% better score\n",
    "* Removing similiar features makes couple percent better score\n",
    "* Adding saleCondition improved .5% better score\n",
    "* Tuning ETA have little to no effect\n",
    "* Early_stopping_rounds=5 makes little to no effect (which makes sense because I used a CV)\n",
    "* Encoding condition1 improved score by less than 1%"
   ]
  },
  {
   "cell_type": "code",
   "execution_count": 1,
   "id": "f0e5a158",
   "metadata": {
    "execution": {
     "iopub.execute_input": "2022-09-29T15:30:56.275012Z",
     "iopub.status.busy": "2022-09-29T15:30:56.274361Z",
     "iopub.status.idle": "2022-09-29T15:30:56.384099Z",
     "shell.execute_reply": "2022-09-29T15:30:56.382486Z"
    },
    "papermill": {
     "duration": 0.124589,
     "end_time": "2022-09-29T15:30:56.387189",
     "exception": false,
     "start_time": "2022-09-29T15:30:56.262600",
     "status": "completed"
    },
    "tags": []
   },
   "outputs": [
    {
     "name": "stdout",
     "output_type": "stream",
     "text": [
      "(1460, 81)\n"
     ]
    },
    {
     "name": "stderr",
     "output_type": "stream",
     "text": [
      "/opt/conda/lib/python3.7/site-packages/ipykernel_launcher.py:6: UserWarning: my warning\n",
      "  \n"
     ]
    },
    {
     "data": {
      "text/html": [
       "<div>\n",
       "<style scoped>\n",
       "    .dataframe tbody tr th:only-of-type {\n",
       "        vertical-align: middle;\n",
       "    }\n",
       "\n",
       "    .dataframe tbody tr th {\n",
       "        vertical-align: top;\n",
       "    }\n",
       "\n",
       "    .dataframe thead th {\n",
       "        text-align: right;\n",
       "    }\n",
       "</style>\n",
       "<table border=\"1\" class=\"dataframe\">\n",
       "  <thead>\n",
       "    <tr style=\"text-align: right;\">\n",
       "      <th></th>\n",
       "      <th>Id</th>\n",
       "      <th>MSSubClass</th>\n",
       "      <th>MSZoning</th>\n",
       "      <th>LotFrontage</th>\n",
       "      <th>LotArea</th>\n",
       "      <th>Street</th>\n",
       "      <th>Alley</th>\n",
       "      <th>LotShape</th>\n",
       "      <th>LandContour</th>\n",
       "      <th>Utilities</th>\n",
       "      <th>...</th>\n",
       "      <th>PoolArea</th>\n",
       "      <th>PoolQC</th>\n",
       "      <th>Fence</th>\n",
       "      <th>MiscFeature</th>\n",
       "      <th>MiscVal</th>\n",
       "      <th>MoSold</th>\n",
       "      <th>YrSold</th>\n",
       "      <th>SaleType</th>\n",
       "      <th>SaleCondition</th>\n",
       "      <th>SalePrice</th>\n",
       "    </tr>\n",
       "  </thead>\n",
       "  <tbody>\n",
       "    <tr>\n",
       "      <th>0</th>\n",
       "      <td>1</td>\n",
       "      <td>60</td>\n",
       "      <td>RL</td>\n",
       "      <td>65.0</td>\n",
       "      <td>8450</td>\n",
       "      <td>Pave</td>\n",
       "      <td>NaN</td>\n",
       "      <td>Reg</td>\n",
       "      <td>Lvl</td>\n",
       "      <td>AllPub</td>\n",
       "      <td>...</td>\n",
       "      <td>0</td>\n",
       "      <td>NaN</td>\n",
       "      <td>NaN</td>\n",
       "      <td>NaN</td>\n",
       "      <td>0</td>\n",
       "      <td>2</td>\n",
       "      <td>2008</td>\n",
       "      <td>WD</td>\n",
       "      <td>Normal</td>\n",
       "      <td>208500</td>\n",
       "    </tr>\n",
       "    <tr>\n",
       "      <th>1</th>\n",
       "      <td>2</td>\n",
       "      <td>20</td>\n",
       "      <td>RL</td>\n",
       "      <td>80.0</td>\n",
       "      <td>9600</td>\n",
       "      <td>Pave</td>\n",
       "      <td>NaN</td>\n",
       "      <td>Reg</td>\n",
       "      <td>Lvl</td>\n",
       "      <td>AllPub</td>\n",
       "      <td>...</td>\n",
       "      <td>0</td>\n",
       "      <td>NaN</td>\n",
       "      <td>NaN</td>\n",
       "      <td>NaN</td>\n",
       "      <td>0</td>\n",
       "      <td>5</td>\n",
       "      <td>2007</td>\n",
       "      <td>WD</td>\n",
       "      <td>Normal</td>\n",
       "      <td>181500</td>\n",
       "    </tr>\n",
       "    <tr>\n",
       "      <th>2</th>\n",
       "      <td>3</td>\n",
       "      <td>60</td>\n",
       "      <td>RL</td>\n",
       "      <td>68.0</td>\n",
       "      <td>11250</td>\n",
       "      <td>Pave</td>\n",
       "      <td>NaN</td>\n",
       "      <td>IR1</td>\n",
       "      <td>Lvl</td>\n",
       "      <td>AllPub</td>\n",
       "      <td>...</td>\n",
       "      <td>0</td>\n",
       "      <td>NaN</td>\n",
       "      <td>NaN</td>\n",
       "      <td>NaN</td>\n",
       "      <td>0</td>\n",
       "      <td>9</td>\n",
       "      <td>2008</td>\n",
       "      <td>WD</td>\n",
       "      <td>Normal</td>\n",
       "      <td>223500</td>\n",
       "    </tr>\n",
       "    <tr>\n",
       "      <th>3</th>\n",
       "      <td>4</td>\n",
       "      <td>70</td>\n",
       "      <td>RL</td>\n",
       "      <td>60.0</td>\n",
       "      <td>9550</td>\n",
       "      <td>Pave</td>\n",
       "      <td>NaN</td>\n",
       "      <td>IR1</td>\n",
       "      <td>Lvl</td>\n",
       "      <td>AllPub</td>\n",
       "      <td>...</td>\n",
       "      <td>0</td>\n",
       "      <td>NaN</td>\n",
       "      <td>NaN</td>\n",
       "      <td>NaN</td>\n",
       "      <td>0</td>\n",
       "      <td>2</td>\n",
       "      <td>2006</td>\n",
       "      <td>WD</td>\n",
       "      <td>Abnorml</td>\n",
       "      <td>140000</td>\n",
       "    </tr>\n",
       "    <tr>\n",
       "      <th>4</th>\n",
       "      <td>5</td>\n",
       "      <td>60</td>\n",
       "      <td>RL</td>\n",
       "      <td>84.0</td>\n",
       "      <td>14260</td>\n",
       "      <td>Pave</td>\n",
       "      <td>NaN</td>\n",
       "      <td>IR1</td>\n",
       "      <td>Lvl</td>\n",
       "      <td>AllPub</td>\n",
       "      <td>...</td>\n",
       "      <td>0</td>\n",
       "      <td>NaN</td>\n",
       "      <td>NaN</td>\n",
       "      <td>NaN</td>\n",
       "      <td>0</td>\n",
       "      <td>12</td>\n",
       "      <td>2008</td>\n",
       "      <td>WD</td>\n",
       "      <td>Normal</td>\n",
       "      <td>250000</td>\n",
       "    </tr>\n",
       "  </tbody>\n",
       "</table>\n",
       "<p>5 rows × 81 columns</p>\n",
       "</div>"
      ],
      "text/plain": [
       "   Id  MSSubClass MSZoning  LotFrontage  LotArea Street Alley LotShape  \\\n",
       "0   1          60       RL         65.0     8450   Pave   NaN      Reg   \n",
       "1   2          20       RL         80.0     9600   Pave   NaN      Reg   \n",
       "2   3          60       RL         68.0    11250   Pave   NaN      IR1   \n",
       "3   4          70       RL         60.0     9550   Pave   NaN      IR1   \n",
       "4   5          60       RL         84.0    14260   Pave   NaN      IR1   \n",
       "\n",
       "  LandContour Utilities  ... PoolArea PoolQC Fence MiscFeature MiscVal MoSold  \\\n",
       "0         Lvl    AllPub  ...        0    NaN   NaN         NaN       0      2   \n",
       "1         Lvl    AllPub  ...        0    NaN   NaN         NaN       0      5   \n",
       "2         Lvl    AllPub  ...        0    NaN   NaN         NaN       0      9   \n",
       "3         Lvl    AllPub  ...        0    NaN   NaN         NaN       0      2   \n",
       "4         Lvl    AllPub  ...        0    NaN   NaN         NaN       0     12   \n",
       "\n",
       "  YrSold  SaleType  SaleCondition  SalePrice  \n",
       "0   2008        WD         Normal     208500  \n",
       "1   2007        WD         Normal     181500  \n",
       "2   2008        WD         Normal     223500  \n",
       "3   2006        WD        Abnorml     140000  \n",
       "4   2008        WD         Normal     250000  \n",
       "\n",
       "[5 rows x 81 columns]"
      ]
     },
     "execution_count": 1,
     "metadata": {},
     "output_type": "execute_result"
    }
   ],
   "source": [
    "import pandas as pd\n",
    "import numpy as np\n",
    "import sys\n",
    "import matplotlib.pyplot as plt\n",
    "import warnings\n",
    "warnings.warn('my warning')\n",
    "\n",
    "data='/kaggle/input/house-prices-advanced-regression-techniques/train.csv'\n",
    "df=pd.read_csv(data)\n",
    "print(df.shape)\n",
    "df.head()"
   ]
  },
  {
   "cell_type": "markdown",
   "id": "2f8f6f86",
   "metadata": {
    "papermill": {
     "duration": 0.012756,
     "end_time": "2022-09-29T15:30:56.411339",
     "exception": false,
     "start_time": "2022-09-29T15:30:56.398583",
     "status": "completed"
    },
    "tags": []
   },
   "source": [
    "# Missing Values"
   ]
  },
  {
   "cell_type": "code",
   "execution_count": 2,
   "id": "21d7e2b7",
   "metadata": {
    "execution": {
     "iopub.execute_input": "2022-09-29T15:30:56.436610Z",
     "iopub.status.busy": "2022-09-29T15:30:56.436083Z",
     "iopub.status.idle": "2022-09-29T15:30:56.451366Z",
     "shell.execute_reply": "2022-09-29T15:30:56.449589Z"
    },
    "papermill": {
     "duration": 0.029917,
     "end_time": "2022-09-29T15:30:56.453941",
     "exception": false,
     "start_time": "2022-09-29T15:30:56.424024",
     "status": "completed"
    },
    "tags": []
   },
   "outputs": [
    {
     "name": "stdout",
     "output_type": "stream",
     "text": [
      "Missing data by column as a percent:\n",
      "PoolQC          21.686567\n",
      "MiscFeature     20.985075\n",
      "Alley           20.432836\n",
      "Fence           17.597015\n",
      "FireplaceQu     10.298507\n",
      "LotFrontage      3.865672\n",
      "GarageYrBlt      1.208955\n",
      "GarageCond       1.208955\n",
      "GarageType       1.208955\n",
      "GarageFinish     1.208955\n",
      "dtype: float64\n"
     ]
    }
   ],
   "source": [
    "#search for columns with missing values:\n",
    "def findNA():\n",
    "    print(\"Missing data by column as a percent:\")\n",
    "    findNA=df.isnull().sum().sort_values(ascending=False)/len(data)\n",
    "    print(findNA.head(10))\n",
    "findNA() "
   ]
  },
  {
   "cell_type": "code",
   "execution_count": 3,
   "id": "ec5d03ad",
   "metadata": {
    "execution": {
     "iopub.execute_input": "2022-09-29T15:30:56.479695Z",
     "iopub.status.busy": "2022-09-29T15:30:56.478945Z",
     "iopub.status.idle": "2022-09-29T15:30:56.526583Z",
     "shell.execute_reply": "2022-09-29T15:30:56.524888Z"
    },
    "papermill": {
     "duration": 0.062814,
     "end_time": "2022-09-29T15:30:56.529375",
     "exception": false,
     "start_time": "2022-09-29T15:30:56.466561",
     "status": "completed"
    },
    "tags": []
   },
   "outputs": [
    {
     "name": "stdout",
     "output_type": "stream",
     "text": [
      "(1460, 75)\n"
     ]
    },
    {
     "name": "stderr",
     "output_type": "stream",
     "text": [
      "/opt/conda/lib/python3.7/site-packages/ipykernel_launcher.py:1: FutureWarning: Dropping of nuisance columns in DataFrame reductions (with 'numeric_only=None') is deprecated; in a future version this will raise TypeError.  Select only valid columns before calling the reduction.\n",
      "  \"\"\"Entry point for launching an IPython kernel.\n"
     ]
    }
   ],
   "source": [
    "df=df.fillna(df.mean())\n",
    "df=df.drop(columns=['PoolQC', 'MiscFeature', 'Alley', 'Fence', 'FireplaceQu', 'LotFrontage'])\n",
    "print(df.shape)"
   ]
  },
  {
   "cell_type": "code",
   "execution_count": 4,
   "id": "161fe228",
   "metadata": {
    "execution": {
     "iopub.execute_input": "2022-09-29T15:30:56.553712Z",
     "iopub.status.busy": "2022-09-29T15:30:56.552915Z",
     "iopub.status.idle": "2022-09-29T15:30:56.561931Z",
     "shell.execute_reply": "2022-09-29T15:30:56.560286Z"
    },
    "papermill": {
     "duration": 0.023914,
     "end_time": "2022-09-29T15:30:56.564461",
     "exception": false,
     "start_time": "2022-09-29T15:30:56.540547",
     "status": "completed"
    },
    "tags": []
   },
   "outputs": [
    {
     "data": {
      "text/plain": [
       "Index(['Id', 'MSSubClass', 'MSZoning', 'LotArea', 'Street', 'LotShape',\n",
       "       'LandContour', 'Utilities', 'LotConfig', 'LandSlope', 'Neighborhood',\n",
       "       'Condition1', 'Condition2', 'BldgType', 'HouseStyle', 'OverallQual',\n",
       "       'OverallCond', 'YearBuilt', 'YearRemodAdd', 'RoofStyle', 'RoofMatl',\n",
       "       'Exterior1st', 'Exterior2nd', 'MasVnrType', 'MasVnrArea', 'ExterQual',\n",
       "       'ExterCond', 'Foundation', 'BsmtQual', 'BsmtCond', 'BsmtExposure',\n",
       "       'BsmtFinType1', 'BsmtFinSF1', 'BsmtFinType2', 'BsmtFinSF2', 'BsmtUnfSF',\n",
       "       'TotalBsmtSF', 'Heating', 'HeatingQC', 'CentralAir', 'Electrical',\n",
       "       '1stFlrSF', '2ndFlrSF', 'LowQualFinSF', 'GrLivArea', 'BsmtFullBath',\n",
       "       'BsmtHalfBath', 'FullBath', 'HalfBath', 'BedroomAbvGr', 'KitchenAbvGr',\n",
       "       'KitchenQual', 'TotRmsAbvGrd', 'Functional', 'Fireplaces', 'GarageType',\n",
       "       'GarageYrBlt', 'GarageFinish', 'GarageCars', 'GarageArea', 'GarageQual',\n",
       "       'GarageCond', 'PavedDrive', 'WoodDeckSF', 'OpenPorchSF',\n",
       "       'EnclosedPorch', '3SsnPorch', 'ScreenPorch', 'PoolArea', 'MiscVal',\n",
       "       'MoSold', 'YrSold', 'SaleType', 'SaleCondition', 'SalePrice'],\n",
       "      dtype='object')"
      ]
     },
     "execution_count": 4,
     "metadata": {},
     "output_type": "execute_result"
    }
   ],
   "source": [
    "df.columns"
   ]
  },
  {
   "cell_type": "markdown",
   "id": "c4193264",
   "metadata": {
    "papermill": {
     "duration": 0.011444,
     "end_time": "2022-09-29T15:30:56.587151",
     "exception": false,
     "start_time": "2022-09-29T15:30:56.575707",
     "status": "completed"
    },
    "tags": []
   },
   "source": [
    "# Encode Data"
   ]
  },
  {
   "cell_type": "code",
   "execution_count": 5,
   "id": "35e6036b",
   "metadata": {
    "execution": {
     "iopub.execute_input": "2022-09-29T15:30:56.611412Z",
     "iopub.status.busy": "2022-09-29T15:30:56.610990Z",
     "iopub.status.idle": "2022-09-29T15:30:56.637576Z",
     "shell.execute_reply": "2022-09-29T15:30:56.636390Z"
    },
    "papermill": {
     "duration": 0.041829,
     "end_time": "2022-09-29T15:30:56.640033",
     "exception": false,
     "start_time": "2022-09-29T15:30:56.598204",
     "status": "completed"
    },
    "tags": []
   },
   "outputs": [
    {
     "data": {
      "text/html": [
       "<div>\n",
       "<style scoped>\n",
       "    .dataframe tbody tr th:only-of-type {\n",
       "        vertical-align: middle;\n",
       "    }\n",
       "\n",
       "    .dataframe tbody tr th {\n",
       "        vertical-align: top;\n",
       "    }\n",
       "\n",
       "    .dataframe thead th {\n",
       "        text-align: right;\n",
       "    }\n",
       "</style>\n",
       "<table border=\"1\" class=\"dataframe\">\n",
       "  <thead>\n",
       "    <tr style=\"text-align: right;\">\n",
       "      <th></th>\n",
       "      <th>Id</th>\n",
       "      <th>MSSubClass</th>\n",
       "      <th>MSZoning</th>\n",
       "      <th>LotArea</th>\n",
       "      <th>Street</th>\n",
       "      <th>LotShape</th>\n",
       "      <th>LandContour</th>\n",
       "      <th>Utilities</th>\n",
       "      <th>LotConfig</th>\n",
       "      <th>LandSlope</th>\n",
       "      <th>...</th>\n",
       "      <th>3SsnPorch</th>\n",
       "      <th>ScreenPorch</th>\n",
       "      <th>PoolArea</th>\n",
       "      <th>MiscVal</th>\n",
       "      <th>MoSold</th>\n",
       "      <th>YrSold</th>\n",
       "      <th>SaleType</th>\n",
       "      <th>SaleCondition</th>\n",
       "      <th>SalePrice</th>\n",
       "      <th>totalSQ</th>\n",
       "    </tr>\n",
       "  </thead>\n",
       "  <tbody>\n",
       "    <tr>\n",
       "      <th>0</th>\n",
       "      <td>1</td>\n",
       "      <td>60</td>\n",
       "      <td>RL</td>\n",
       "      <td>8450</td>\n",
       "      <td>Pave</td>\n",
       "      <td>Reg</td>\n",
       "      <td>Lvl</td>\n",
       "      <td>AllPub</td>\n",
       "      <td>Inside</td>\n",
       "      <td>Gtl</td>\n",
       "      <td>...</td>\n",
       "      <td>0</td>\n",
       "      <td>0</td>\n",
       "      <td>0</td>\n",
       "      <td>0</td>\n",
       "      <td>2</td>\n",
       "      <td>2008</td>\n",
       "      <td>WD</td>\n",
       "      <td>Normal</td>\n",
       "      <td>208500</td>\n",
       "      <td>2566</td>\n",
       "    </tr>\n",
       "    <tr>\n",
       "      <th>1</th>\n",
       "      <td>2</td>\n",
       "      <td>20</td>\n",
       "      <td>RL</td>\n",
       "      <td>9600</td>\n",
       "      <td>Pave</td>\n",
       "      <td>Reg</td>\n",
       "      <td>Lvl</td>\n",
       "      <td>AllPub</td>\n",
       "      <td>FR2</td>\n",
       "      <td>Gtl</td>\n",
       "      <td>...</td>\n",
       "      <td>0</td>\n",
       "      <td>0</td>\n",
       "      <td>0</td>\n",
       "      <td>0</td>\n",
       "      <td>5</td>\n",
       "      <td>2007</td>\n",
       "      <td>WD</td>\n",
       "      <td>Normal</td>\n",
       "      <td>181500</td>\n",
       "      <td>2524</td>\n",
       "    </tr>\n",
       "    <tr>\n",
       "      <th>2</th>\n",
       "      <td>3</td>\n",
       "      <td>60</td>\n",
       "      <td>RL</td>\n",
       "      <td>11250</td>\n",
       "      <td>Pave</td>\n",
       "      <td>IR1</td>\n",
       "      <td>Lvl</td>\n",
       "      <td>AllPub</td>\n",
       "      <td>Inside</td>\n",
       "      <td>Gtl</td>\n",
       "      <td>...</td>\n",
       "      <td>0</td>\n",
       "      <td>0</td>\n",
       "      <td>0</td>\n",
       "      <td>0</td>\n",
       "      <td>9</td>\n",
       "      <td>2008</td>\n",
       "      <td>WD</td>\n",
       "      <td>Normal</td>\n",
       "      <td>223500</td>\n",
       "      <td>2706</td>\n",
       "    </tr>\n",
       "    <tr>\n",
       "      <th>3</th>\n",
       "      <td>4</td>\n",
       "      <td>70</td>\n",
       "      <td>RL</td>\n",
       "      <td>9550</td>\n",
       "      <td>Pave</td>\n",
       "      <td>IR1</td>\n",
       "      <td>Lvl</td>\n",
       "      <td>AllPub</td>\n",
       "      <td>Corner</td>\n",
       "      <td>Gtl</td>\n",
       "      <td>...</td>\n",
       "      <td>0</td>\n",
       "      <td>0</td>\n",
       "      <td>0</td>\n",
       "      <td>0</td>\n",
       "      <td>2</td>\n",
       "      <td>2006</td>\n",
       "      <td>WD</td>\n",
       "      <td>Abnorml</td>\n",
       "      <td>140000</td>\n",
       "      <td>2473</td>\n",
       "    </tr>\n",
       "    <tr>\n",
       "      <th>4</th>\n",
       "      <td>5</td>\n",
       "      <td>60</td>\n",
       "      <td>RL</td>\n",
       "      <td>14260</td>\n",
       "      <td>Pave</td>\n",
       "      <td>IR1</td>\n",
       "      <td>Lvl</td>\n",
       "      <td>AllPub</td>\n",
       "      <td>FR2</td>\n",
       "      <td>Gtl</td>\n",
       "      <td>...</td>\n",
       "      <td>0</td>\n",
       "      <td>0</td>\n",
       "      <td>0</td>\n",
       "      <td>0</td>\n",
       "      <td>12</td>\n",
       "      <td>2008</td>\n",
       "      <td>WD</td>\n",
       "      <td>Normal</td>\n",
       "      <td>250000</td>\n",
       "      <td>3343</td>\n",
       "    </tr>\n",
       "  </tbody>\n",
       "</table>\n",
       "<p>5 rows × 76 columns</p>\n",
       "</div>"
      ],
      "text/plain": [
       "   Id  MSSubClass MSZoning  LotArea Street LotShape LandContour Utilities  \\\n",
       "0   1          60       RL     8450   Pave      Reg         Lvl    AllPub   \n",
       "1   2          20       RL     9600   Pave      Reg         Lvl    AllPub   \n",
       "2   3          60       RL    11250   Pave      IR1         Lvl    AllPub   \n",
       "3   4          70       RL     9550   Pave      IR1         Lvl    AllPub   \n",
       "4   5          60       RL    14260   Pave      IR1         Lvl    AllPub   \n",
       "\n",
       "  LotConfig LandSlope  ... 3SsnPorch ScreenPorch PoolArea MiscVal MoSold  \\\n",
       "0    Inside       Gtl  ...         0           0        0       0      2   \n",
       "1       FR2       Gtl  ...         0           0        0       0      5   \n",
       "2    Inside       Gtl  ...         0           0        0       0      9   \n",
       "3    Corner       Gtl  ...         0           0        0       0      2   \n",
       "4       FR2       Gtl  ...         0           0        0       0     12   \n",
       "\n",
       "   YrSold  SaleType  SaleCondition  SalePrice totalSQ  \n",
       "0    2008        WD         Normal     208500    2566  \n",
       "1    2007        WD         Normal     181500    2524  \n",
       "2    2008        WD         Normal     223500    2706  \n",
       "3    2006        WD        Abnorml     140000    2473  \n",
       "4    2008        WD         Normal     250000    3343  \n",
       "\n",
       "[5 rows x 76 columns]"
      ]
     },
     "execution_count": 5,
     "metadata": {},
     "output_type": "execute_result"
    }
   ],
   "source": [
    "df['totalSQ']=df['1stFlrSF']+df['2ndFlrSF']+df['TotalBsmtSF'].drop(columns=['1stFlrSF', '2ndFlrSF','TotalBsmtSF'])\n",
    "df.head()"
   ]
  },
  {
   "cell_type": "code",
   "execution_count": 6,
   "id": "5851a666",
   "metadata": {
    "execution": {
     "iopub.execute_input": "2022-09-29T15:30:56.664705Z",
     "iopub.status.busy": "2022-09-29T15:30:56.664315Z",
     "iopub.status.idle": "2022-09-29T15:30:56.676346Z",
     "shell.execute_reply": "2022-09-29T15:30:56.674925Z"
    },
    "papermill": {
     "duration": 0.027224,
     "end_time": "2022-09-29T15:30:56.678789",
     "exception": false,
     "start_time": "2022-09-29T15:30:56.651565",
     "status": "completed"
    },
    "tags": []
   },
   "outputs": [
    {
     "name": "stdout",
     "output_type": "stream",
     "text": [
      "Normal     1198\n",
      "Partial     125\n",
      "Abnorml     101\n",
      "Family       20\n",
      "Alloca       12\n",
      "AdjLand       4\n",
      "Name: SaleCondition, dtype: int64\n"
     ]
    }
   ],
   "source": [
    "print(df['SaleCondition'].value_counts())\n",
    "df['SaleCondition']=df['SaleCondition'].apply(lambda x:2 if x=='Normal' else 0)"
   ]
  },
  {
   "cell_type": "code",
   "execution_count": 7,
   "id": "210947f2",
   "metadata": {
    "execution": {
     "iopub.execute_input": "2022-09-29T15:30:56.703666Z",
     "iopub.status.busy": "2022-09-29T15:30:56.703278Z",
     "iopub.status.idle": "2022-09-29T15:30:56.718747Z",
     "shell.execute_reply": "2022-09-29T15:30:56.717553Z"
    },
    "papermill": {
     "duration": 0.030647,
     "end_time": "2022-09-29T15:30:56.721351",
     "exception": false,
     "start_time": "2022-09-29T15:30:56.690704",
     "status": "completed"
    },
    "tags": []
   },
   "outputs": [],
   "source": [
    "#print(df['Condition2'].value_counts())\n",
    "df['Condition2']=df['Condition2'].apply(lambda x: 1 if x=='Norm' else 0)\n",
    "\n",
    "#print(df['Condition1'].value_counts())\n",
    "df['Condition1']=df['Condition1'].apply(lambda x: 1 if x=='Norm' else 0)\n",
    "df['CentralAir'] = df['CentralAir'].replace({'Y':0, 'N':1})\n",
    "df['SaleCondition']=df['SaleCondition'].apply(lambda x:1 if x == 'Normal' else 0)\n",
    "#df['Street']=df['Street'].fillna(0).apply(lambda x:0 if x =='Grvl' else 1)"
   ]
  },
  {
   "cell_type": "code",
   "execution_count": 8,
   "id": "5ae546dd",
   "metadata": {
    "execution": {
     "iopub.execute_input": "2022-09-29T15:30:56.745852Z",
     "iopub.status.busy": "2022-09-29T15:30:56.745453Z",
     "iopub.status.idle": "2022-09-29T15:30:56.770363Z",
     "shell.execute_reply": "2022-09-29T15:30:56.769473Z"
    },
    "papermill": {
     "duration": 0.039848,
     "end_time": "2022-09-29T15:30:56.772578",
     "exception": false,
     "start_time": "2022-09-29T15:30:56.732730",
     "status": "completed"
    },
    "tags": []
   },
   "outputs": [
    {
     "data": {
      "text/html": [
       "<div>\n",
       "<style scoped>\n",
       "    .dataframe tbody tr th:only-of-type {\n",
       "        vertical-align: middle;\n",
       "    }\n",
       "\n",
       "    .dataframe tbody tr th {\n",
       "        vertical-align: top;\n",
       "    }\n",
       "\n",
       "    .dataframe thead th {\n",
       "        text-align: right;\n",
       "    }\n",
       "</style>\n",
       "<table border=\"1\" class=\"dataframe\">\n",
       "  <thead>\n",
       "    <tr style=\"text-align: right;\">\n",
       "      <th></th>\n",
       "      <th>Id</th>\n",
       "      <th>MSSubClass</th>\n",
       "      <th>LotArea</th>\n",
       "      <th>Condition1</th>\n",
       "      <th>Condition2</th>\n",
       "      <th>OverallQual</th>\n",
       "      <th>OverallCond</th>\n",
       "      <th>YearBuilt</th>\n",
       "      <th>YearRemodAdd</th>\n",
       "      <th>MasVnrArea</th>\n",
       "      <th>...</th>\n",
       "      <th>EnclosedPorch</th>\n",
       "      <th>3SsnPorch</th>\n",
       "      <th>ScreenPorch</th>\n",
       "      <th>PoolArea</th>\n",
       "      <th>MiscVal</th>\n",
       "      <th>MoSold</th>\n",
       "      <th>YrSold</th>\n",
       "      <th>SaleCondition</th>\n",
       "      <th>SalePrice</th>\n",
       "      <th>totalSQ</th>\n",
       "    </tr>\n",
       "  </thead>\n",
       "  <tbody>\n",
       "    <tr>\n",
       "      <th>0</th>\n",
       "      <td>1</td>\n",
       "      <td>60</td>\n",
       "      <td>8450</td>\n",
       "      <td>1</td>\n",
       "      <td>1</td>\n",
       "      <td>7</td>\n",
       "      <td>5</td>\n",
       "      <td>2003</td>\n",
       "      <td>2003</td>\n",
       "      <td>196.0</td>\n",
       "      <td>...</td>\n",
       "      <td>0</td>\n",
       "      <td>0</td>\n",
       "      <td>0</td>\n",
       "      <td>0</td>\n",
       "      <td>0</td>\n",
       "      <td>2</td>\n",
       "      <td>2008</td>\n",
       "      <td>0</td>\n",
       "      <td>208500</td>\n",
       "      <td>2566</td>\n",
       "    </tr>\n",
       "    <tr>\n",
       "      <th>1</th>\n",
       "      <td>2</td>\n",
       "      <td>20</td>\n",
       "      <td>9600</td>\n",
       "      <td>0</td>\n",
       "      <td>1</td>\n",
       "      <td>6</td>\n",
       "      <td>8</td>\n",
       "      <td>1976</td>\n",
       "      <td>1976</td>\n",
       "      <td>0.0</td>\n",
       "      <td>...</td>\n",
       "      <td>0</td>\n",
       "      <td>0</td>\n",
       "      <td>0</td>\n",
       "      <td>0</td>\n",
       "      <td>0</td>\n",
       "      <td>5</td>\n",
       "      <td>2007</td>\n",
       "      <td>0</td>\n",
       "      <td>181500</td>\n",
       "      <td>2524</td>\n",
       "    </tr>\n",
       "    <tr>\n",
       "      <th>2</th>\n",
       "      <td>3</td>\n",
       "      <td>60</td>\n",
       "      <td>11250</td>\n",
       "      <td>1</td>\n",
       "      <td>1</td>\n",
       "      <td>7</td>\n",
       "      <td>5</td>\n",
       "      <td>2001</td>\n",
       "      <td>2002</td>\n",
       "      <td>162.0</td>\n",
       "      <td>...</td>\n",
       "      <td>0</td>\n",
       "      <td>0</td>\n",
       "      <td>0</td>\n",
       "      <td>0</td>\n",
       "      <td>0</td>\n",
       "      <td>9</td>\n",
       "      <td>2008</td>\n",
       "      <td>0</td>\n",
       "      <td>223500</td>\n",
       "      <td>2706</td>\n",
       "    </tr>\n",
       "    <tr>\n",
       "      <th>3</th>\n",
       "      <td>4</td>\n",
       "      <td>70</td>\n",
       "      <td>9550</td>\n",
       "      <td>1</td>\n",
       "      <td>1</td>\n",
       "      <td>7</td>\n",
       "      <td>5</td>\n",
       "      <td>1915</td>\n",
       "      <td>1970</td>\n",
       "      <td>0.0</td>\n",
       "      <td>...</td>\n",
       "      <td>272</td>\n",
       "      <td>0</td>\n",
       "      <td>0</td>\n",
       "      <td>0</td>\n",
       "      <td>0</td>\n",
       "      <td>2</td>\n",
       "      <td>2006</td>\n",
       "      <td>0</td>\n",
       "      <td>140000</td>\n",
       "      <td>2473</td>\n",
       "    </tr>\n",
       "    <tr>\n",
       "      <th>4</th>\n",
       "      <td>5</td>\n",
       "      <td>60</td>\n",
       "      <td>14260</td>\n",
       "      <td>1</td>\n",
       "      <td>1</td>\n",
       "      <td>8</td>\n",
       "      <td>5</td>\n",
       "      <td>2000</td>\n",
       "      <td>2000</td>\n",
       "      <td>350.0</td>\n",
       "      <td>...</td>\n",
       "      <td>0</td>\n",
       "      <td>0</td>\n",
       "      <td>0</td>\n",
       "      <td>0</td>\n",
       "      <td>0</td>\n",
       "      <td>12</td>\n",
       "      <td>2008</td>\n",
       "      <td>0</td>\n",
       "      <td>250000</td>\n",
       "      <td>3343</td>\n",
       "    </tr>\n",
       "  </tbody>\n",
       "</table>\n",
       "<p>5 rows × 42 columns</p>\n",
       "</div>"
      ],
      "text/plain": [
       "   Id  MSSubClass  LotArea  Condition1  Condition2  OverallQual  OverallCond  \\\n",
       "0   1          60     8450           1           1            7            5   \n",
       "1   2          20     9600           0           1            6            8   \n",
       "2   3          60    11250           1           1            7            5   \n",
       "3   4          70     9550           1           1            7            5   \n",
       "4   5          60    14260           1           1            8            5   \n",
       "\n",
       "   YearBuilt  YearRemodAdd  MasVnrArea  ...  EnclosedPorch  3SsnPorch  \\\n",
       "0       2003          2003       196.0  ...              0          0   \n",
       "1       1976          1976         0.0  ...              0          0   \n",
       "2       2001          2002       162.0  ...              0          0   \n",
       "3       1915          1970         0.0  ...            272          0   \n",
       "4       2000          2000       350.0  ...              0          0   \n",
       "\n",
       "   ScreenPorch  PoolArea  MiscVal  MoSold  YrSold  SaleCondition  SalePrice  \\\n",
       "0            0         0        0       2    2008              0     208500   \n",
       "1            0         0        0       5    2007              0     181500   \n",
       "2            0         0        0       9    2008              0     223500   \n",
       "3            0         0        0       2    2006              0     140000   \n",
       "4            0         0        0      12    2008              0     250000   \n",
       "\n",
       "   totalSQ  \n",
       "0     2566  \n",
       "1     2524  \n",
       "2     2706  \n",
       "3     2473  \n",
       "4     3343  \n",
       "\n",
       "[5 rows x 42 columns]"
      ]
     },
     "execution_count": 8,
     "metadata": {},
     "output_type": "execute_result"
    }
   ],
   "source": [
    "df = df.select_dtypes(include=['int16', 'int32', 'int64', 'float16', 'float32', 'float64'])\n",
    "df.head()"
   ]
  },
  {
   "cell_type": "markdown",
   "id": "d5adbe39",
   "metadata": {
    "papermill": {
     "duration": 0.011207,
     "end_time": "2022-09-29T15:30:56.795459",
     "exception": false,
     "start_time": "2022-09-29T15:30:56.784252",
     "status": "completed"
    },
    "tags": []
   },
   "source": [
    "# Outliers"
   ]
  },
  {
   "cell_type": "code",
   "execution_count": 9,
   "id": "67f7b207",
   "metadata": {
    "execution": {
     "iopub.execute_input": "2022-09-29T15:30:56.819986Z",
     "iopub.status.busy": "2022-09-29T15:30:56.819570Z",
     "iopub.status.idle": "2022-09-29T15:30:58.980324Z",
     "shell.execute_reply": "2022-09-29T15:30:58.979159Z"
    },
    "papermill": {
     "duration": 2.175713,
     "end_time": "2022-09-29T15:30:58.982748",
     "exception": false,
     "start_time": "2022-09-29T15:30:56.807035",
     "status": "completed"
    },
    "tags": []
   },
   "outputs": [
    {
     "data": {
      "text/plain": [
       "<seaborn.axisgrid.FacetGrid at 0x7ff41a957450>"
      ]
     },
     "execution_count": 9,
     "metadata": {},
     "output_type": "execute_result"
    },
    {
     "data": {
      "image/png": "[encoded data removed]",
      "text/plain": [
       "<Figure size 360x360 with 1 Axes>"
      ]
     },
     "metadata": {
      "needs_background": "light"
     },
     "output_type": "display_data"
    },
    {
     "data": {
      "image/png": "[encoded data removed]",
      "text/plain": [
       "<Figure size 360x360 with 1 Axes>"
      ]
     },
     "metadata": {
      "needs_background": "light"
     },
     "output_type": "display_data"
    }
   ],
   "source": [
    "import seaborn as sns\n",
    "sns.displot(df, x='SalePrice')\n",
    "sns.displot(df, x='totalSQ')"
   ]
  },
  {
   "cell_type": "code",
   "execution_count": 10,
   "id": "2be382d1",
   "metadata": {
    "execution": {
     "iopub.execute_input": "2022-09-29T15:30:59.009585Z",
     "iopub.status.busy": "2022-09-29T15:30:59.008860Z",
     "iopub.status.idle": "2022-09-29T15:30:59.025010Z",
     "shell.execute_reply": "2022-09-29T15:30:59.023381Z"
    },
    "papermill": {
     "duration": 0.033383,
     "end_time": "2022-09-29T15:30:59.028265",
     "exception": false,
     "start_time": "2022-09-29T15:30:58.994882",
     "status": "completed"
    },
    "tags": []
   },
   "outputs": [
    {
     "name": "stdout",
     "output_type": "stream",
     "text": [
      "[438780, 501837, 475000, 437154, 426000, 555000, 440000, 430000, 446261, 451950, 423000, 755000, 538000, 485000, 582933, 611657, 556581, 424870, 625000, 745000, 465000, 466500]\n",
      "[438780, 501837, 475000, 437154, 426000, 555000, 440000, 430000, 446261, 451950, 423000, 755000, 538000, 485000, 582933, 611657, 556581, 424870, 625000, 745000, 465000, 466500, 5496, 6428, 7814, 6760, 5066, 5048, 5557, 6872, 11752, 5271, 5266]\n"
     ]
    }
   ],
   "source": [
    "from scipy import stats\n",
    "\n",
    "outliers=[]\n",
    "def detect_outlier(data_1):\n",
    "    threshold=3\n",
    "    mean_1 = np.mean(data_1)\n",
    "    std_1 =np.std(data_1)\n",
    "    \n",
    "    for y in data_1:\n",
    "        z_score= (y - mean_1)/std_1 \n",
    "        if np.abs(z_score) > threshold:\n",
    "            outliers.append(y)\n",
    "    return outliers\n",
    "priceOutlier=list(detect_outlier(df['SalePrice']))\n",
    "print(priceOutlier)\n",
    "sqOutlier=list(detect_outlier(df['totalSQ']))\n",
    "print(sqOutlier)"
   ]
  },
  {
   "cell_type": "code",
   "execution_count": 11,
   "id": "e6680061",
   "metadata": {
    "execution": {
     "iopub.execute_input": "2022-09-29T15:30:59.055756Z",
     "iopub.status.busy": "2022-09-29T15:30:59.055119Z",
     "iopub.status.idle": "2022-09-29T15:30:59.064052Z",
     "shell.execute_reply": "2022-09-29T15:30:59.062580Z"
    },
    "papermill": {
     "duration": 0.026434,
     "end_time": "2022-09-29T15:30:59.067896",
     "exception": false,
     "start_time": "2022-09-29T15:30:59.041462",
     "status": "completed"
    },
    "tags": []
   },
   "outputs": [
    {
     "name": "stdout",
     "output_type": "stream",
     "text": [
      "(1444, 42)\n"
     ]
    }
   ],
   "source": [
    "#Remove Outliers:\n",
    "df=df.loc[df['SalePrice']<500_000]\n",
    "df=df.loc[df['totalSQ']<5000]\n",
    "print(df.shape) "
   ]
  },
  {
   "cell_type": "markdown",
   "id": "27d6284b",
   "metadata": {
    "papermill": {
     "duration": 0.01199,
     "end_time": "2022-09-29T15:30:59.092924",
     "exception": false,
     "start_time": "2022-09-29T15:30:59.080934",
     "status": "completed"
    },
    "tags": []
   },
   "source": [
    "# Correlations"
   ]
  },
  {
   "cell_type": "code",
   "execution_count": 12,
   "id": "033615a4",
   "metadata": {
    "execution": {
     "iopub.execute_input": "2022-09-29T15:30:59.119529Z",
     "iopub.status.busy": "2022-09-29T15:30:59.118863Z",
     "iopub.status.idle": "2022-09-29T15:31:00.048955Z",
     "shell.execute_reply": "2022-09-29T15:31:00.048067Z"
    },
    "papermill": {
     "duration": 0.946925,
     "end_time": "2022-09-29T15:31:00.052147",
     "exception": false,
     "start_time": "2022-09-29T15:30:59.105222",
     "status": "completed"
    },
    "tags": []
   },
   "outputs": [
    {
     "data": {
      "text/plain": [
       "<AxesSubplot:>"
      ]
     },
     "execution_count": 12,
     "metadata": {},
     "output_type": "execute_result"
    },
    {
     "data": {
      "image/png": "[encoded data removed]",
      "text/plain": [
       "<Figure size 576x576 with 2 Axes>"
      ]
     },
     "metadata": {
      "needs_background": "light"
     },
     "output_type": "display_data"
    }
   ],
   "source": [
    "import seaborn as sns\n",
    "fig, ax = plt.subplots(figsize=(8,8)) \n",
    "sns.heatmap(df.corr())"
   ]
  },
  {
   "cell_type": "code",
   "execution_count": 13,
   "id": "6110352a",
   "metadata": {
    "execution": {
     "iopub.execute_input": "2022-09-29T15:31:00.083354Z",
     "iopub.status.busy": "2022-09-29T15:31:00.082418Z",
     "iopub.status.idle": "2022-09-29T15:31:00.088188Z",
     "shell.execute_reply": "2022-09-29T15:31:00.087286Z"
    },
    "papermill": {
     "duration": 0.023909,
     "end_time": "2022-09-29T15:31:00.090750",
     "exception": false,
     "start_time": "2022-09-29T15:31:00.066841",
     "status": "completed"
    },
    "tags": []
   },
   "outputs": [],
   "source": [
    "#Too similiar variables:\n",
    "df=df.drop(['GarageArea', 'GarageYrBlt', 'GrLivArea'], axis=1)"
   ]
  },
  {
   "cell_type": "markdown",
   "id": "dbd340ab",
   "metadata": {
    "papermill": {
     "duration": 0.016824,
     "end_time": "2022-09-29T15:31:00.121496",
     "exception": false,
     "start_time": "2022-09-29T15:31:00.104672",
     "status": "completed"
    },
    "tags": []
   },
   "source": [
    "# Split Data"
   ]
  },
  {
   "cell_type": "code",
   "execution_count": 14,
   "id": "09f2fd2e",
   "metadata": {
    "execution": {
     "iopub.execute_input": "2022-09-29T15:31:00.150274Z",
     "iopub.status.busy": "2022-09-29T15:31:00.149829Z",
     "iopub.status.idle": "2022-09-29T15:31:00.369487Z",
     "shell.execute_reply": "2022-09-29T15:31:00.368342Z"
    },
    "papermill": {
     "duration": 0.237055,
     "end_time": "2022-09-29T15:31:00.372184",
     "exception": false,
     "start_time": "2022-09-29T15:31:00.135129",
     "status": "completed"
    },
    "tags": []
   },
   "outputs": [],
   "source": [
    "from sklearn.model_selection import train_test_split, cross_validate\n",
    "\n",
    "X=df.drop(\"SalePrice\", axis='columns')\n",
    "y=df['SalePrice']\n",
    "\n",
    "X_train, X_test, y_train, y_test = train_test_split(\n",
    "X, y, test_size=0.33, random_state=42)"
   ]
  },
  {
   "cell_type": "markdown",
   "id": "b347ee40",
   "metadata": {
    "papermill": {
     "duration": 0.013137,
     "end_time": "2022-09-29T15:31:00.398934",
     "exception": false,
     "start_time": "2022-09-29T15:31:00.385797",
     "status": "completed"
    },
    "tags": []
   },
   "source": [
    "# xgBoost"
   ]
  },
  {
   "cell_type": "code",
   "execution_count": 15,
   "id": "966ebfe6",
   "metadata": {
    "execution": {
     "iopub.execute_input": "2022-09-29T15:31:00.428545Z",
     "iopub.status.busy": "2022-09-29T15:31:00.427386Z",
     "iopub.status.idle": "2022-09-29T15:31:00.909553Z",
     "shell.execute_reply": "2022-09-29T15:31:00.908621Z"
    },
    "papermill": {
     "duration": 0.499478,
     "end_time": "2022-09-29T15:31:00.911892",
     "exception": false,
     "start_time": "2022-09-29T15:31:00.412414",
     "status": "completed"
    },
    "tags": []
   },
   "outputs": [
    {
     "name": "stdout",
     "output_type": "stream",
     "text": [
      "0.8903\n",
      "16009.880535901468\n"
     ]
    }
   ],
   "source": [
    "import xgboost as xgb\n",
    "from sklearn.metrics import mean_squared_error, r2_score, mean_absolute_error\n",
    "\n",
    "regressor = xgb.XGBRegressor(\n",
    "    n_estimators=100,\n",
    "    reg_lambda=1,\n",
    "    gamma=0,\n",
    "    max_depth=3\n",
    ")\n",
    "\n",
    "regressor.fit(X_train, y_train)\n",
    "y_pred = regressor.predict(X_test)\n",
    "\n",
    "xgbMSE=mean_absolute_error(y_test, y_pred)\n",
    "xgR2 = r2_score(y_test, y_pred).round(4)\n",
    "print(xgR2)\n",
    "print(xgbMSE)"
   ]
  },
  {
   "cell_type": "markdown",
   "id": "d51b5a6d",
   "metadata": {
    "papermill": {
     "duration": 0.013398,
     "end_time": "2022-09-29T15:31:00.941104",
     "exception": false,
     "start_time": "2022-09-29T15:31:00.927706",
     "status": "completed"
    },
    "tags": []
   },
   "source": [
    "### Max Depth Tunning\n",
    "Four for max depth is clearly the magic number with the least amount of error and highest accuracy. "
   ]
  },
  {
   "cell_type": "code",
   "execution_count": 16,
   "id": "d0a29115",
   "metadata": {
    "execution": {
     "iopub.execute_input": "2022-09-29T15:31:00.970833Z",
     "iopub.status.busy": "2022-09-29T15:31:00.970421Z",
     "iopub.status.idle": "2022-09-29T15:31:06.634836Z",
     "shell.execute_reply": "2022-09-29T15:31:06.633643Z"
    },
    "papermill": {
     "duration": 5.682724,
     "end_time": "2022-09-29T15:31:06.638057",
     "exception": false,
     "start_time": "2022-09-29T15:31:00.955333",
     "status": "completed"
    },
    "tags": []
   },
   "outputs": [
    {
     "data": {
      "image/png": "[encoded data removed]",
      "text/plain": [
       "<Figure size 432x288 with 1 Axes>"
      ]
     },
     "metadata": {
      "needs_background": "light"
     },
     "output_type": "display_data"
    },
    {
     "data": {
      "image/png": "[encoded data removed]",
      "text/plain": [
       "<Figure size 432x288 with 1 Axes>"
      ]
     },
     "metadata": {
      "needs_background": "light"
     },
     "output_type": "display_data"
    }
   ],
   "source": [
    "maxDepth=[2, 3, 4, 5, 6, 7, 8, 9, 10, 11]\n",
    "listMSE=[]\n",
    "listR2=[]\n",
    "\n",
    "for d in maxDepth:\n",
    "    regressor = xgb.XGBRegressor(\n",
    "        n_estimators=100,\n",
    "        reg_lambda=1,\n",
    "        gamma=0,\n",
    "        max_depth=d\n",
    "    )\n",
    "    regressor.fit(X_train, y_train)\n",
    "    y_pred = regressor.predict(X_test)\n",
    "\n",
    "    xgMSE=mean_absolute_error(y_test, y_pred)\n",
    "    xgR2 = r2_score(y_test, y_pred).round(4)\n",
    "    listMSE.append(xgMSE)\n",
    "    listR2.append(xgR2)\n",
    "plt.plot(maxDepth, listMSE)\n",
    "plt.title('MaxDepth Error')\n",
    "plt.ylabel('Error')\n",
    "plt.xlabel('Max Depth')\n",
    "plt.legend()\n",
    "plt.show()\n",
    "\n",
    "plt.plot(maxDepth, listR2)\n",
    "plt.title('MaxDepth Accuracy')\n",
    "plt.ylabel('Accuracy')\n",
    "plt.xlabel('MaxDepth')\n",
    "plt.legend()\n",
    "plt.show()"
   ]
  },
  {
   "cell_type": "markdown",
   "id": "b7a68da1",
   "metadata": {
    "papermill": {
     "duration": 0.015244,
     "end_time": "2022-09-29T15:31:06.668035",
     "exception": false,
     "start_time": "2022-09-29T15:31:06.652791",
     "status": "completed"
    },
    "tags": []
   },
   "source": [
    "#### N Estimators Tunning\n",
    "Around 100 n_estimators seems to be a fair number for both accuracy and low error."
   ]
  },
  {
   "cell_type": "code",
   "execution_count": 17,
   "id": "deb71561",
   "metadata": {
    "execution": {
     "iopub.execute_input": "2022-09-29T15:31:06.698165Z",
     "iopub.status.busy": "2022-09-29T15:31:06.697706Z",
     "iopub.status.idle": "2022-09-29T15:31:10.175473Z",
     "shell.execute_reply": "2022-09-29T15:31:10.174180Z"
    },
    "papermill": {
     "duration": 3.495828,
     "end_time": "2022-09-29T15:31:10.178088",
     "exception": false,
     "start_time": "2022-09-29T15:31:06.682260",
     "status": "completed"
    },
    "tags": []
   },
   "outputs": [
    {
     "data": {
      "image/png": "[encoded data removed]",
      "text/plain": [
       "<Figure size 432x288 with 1 Axes>"
      ]
     },
     "metadata": {
      "needs_background": "light"
     },
     "output_type": "display_data"
    },
    {
     "data": {
      "image/png": "[encoded data removed]",
      "text/plain": [
       "<Figure size 432x288 with 1 Axes>"
      ]
     },
     "metadata": {
      "needs_background": "light"
     },
     "output_type": "display_data"
    }
   ],
   "source": [
    "nEst=[2, 50, 100, 150, 200, 300]\n",
    "listMSE=[]\n",
    "listR2=[]\n",
    "\n",
    "for n in nEst:\n",
    "    regressor = xgb.XGBRegressor(\n",
    "        n_estimators=n,\n",
    "        reg_lambda=1,\n",
    "        gamma=0,\n",
    "        max_depth=4\n",
    "    )\n",
    "    regressor.fit(X_train, y_train)\n",
    "    y_pred = regressor.predict(X_test)\n",
    "\n",
    "    xgMSE=mean_absolute_error(y_test, y_pred)\n",
    "    xgR2 = r2_score(y_test, y_pred).round(4)\n",
    "    listMSE.append(xgMSE)\n",
    "    listR2.append(xgR2)\n",
    "plt.plot(nEst, listMSE)\n",
    "plt.title('nEstimators Error')\n",
    "plt.ylabel('Error')\n",
    "plt.xlabel('N Estimators')\n",
    "plt.legend()\n",
    "plt.show()\n",
    "\n",
    "plt.plot(nEst, listR2)\n",
    "plt.title('nEstimators R2')\n",
    "plt.ylabel('Accurate')\n",
    "plt.xlabel('N Estimators')\n",
    "plt.legend()\n",
    "plt.show()"
   ]
  },
  {
   "cell_type": "code",
   "execution_count": 18,
   "id": "29ba15b5",
   "metadata": {
    "execution": {
     "iopub.execute_input": "2022-09-29T15:31:10.209753Z",
     "iopub.status.busy": "2022-09-29T15:31:10.209334Z",
     "iopub.status.idle": "2022-09-29T15:31:12.258254Z",
     "shell.execute_reply": "2022-09-29T15:31:12.257124Z"
    },
    "papermill": {
     "duration": 2.067535,
     "end_time": "2022-09-29T15:31:12.260603",
     "exception": false,
     "start_time": "2022-09-29T15:31:10.193068",
     "status": "completed"
    },
    "tags": []
   },
   "outputs": [
    {
     "data": {
      "image/png": "[encoded data removed]",
      "text/plain": [
       "<Figure size 432x288 with 1 Axes>"
      ]
     },
     "metadata": {
      "needs_background": "light"
     },
     "output_type": "display_data"
    },
    {
     "data": {
      "image/png": "[encoded data removed]",
      "text/plain": [
       "<Figure size 432x288 with 1 Axes>"
      ]
     },
     "metadata": {
      "needs_background": "light"
     },
     "output_type": "display_data"
    }
   ],
   "source": [
    "weight=[1, 3, 5, 7, 9, 11, 13, 15, 17]\n",
    "listMSE=[]\n",
    "listR2=[]\n",
    "\n",
    "for w in weight:\n",
    "    regressor = xgb.XGBRegressor(\n",
    "        n_estimators=50,\n",
    "        reg_lambda=1,\n",
    "        gamma=0,\n",
    "        max_depth=3,\n",
    "        eta=.05,\n",
    "        min_child_weight=w\n",
    "    )\n",
    "    regressor.fit(X_train, y_train)\n",
    "    y_pred = regressor.predict(X_test)\n",
    "\n",
    "    xgMSE=mean_absolute_error(y_test, y_pred)\n",
    "    xgR2 = r2_score(y_test, y_pred).round(4)\n",
    "    listMSE.append(xgMSE)\n",
    "    listR2.append(xgR2)\n",
    "plt.plot(weight, listMSE)\n",
    "plt.title('nEstimators Error')\n",
    "plt.ylabel('Error')\n",
    "plt.xlabel('Weight')\n",
    "plt.legend()\n",
    "plt.show()\n",
    "\n",
    "plt.plot(weight, listR2)\n",
    "plt.title('Weight R2')\n",
    "plt.ylabel('Accurate')\n",
    "plt.xlabel('Weight')\n",
    "plt.legend()\n",
    "plt.show()"
   ]
  },
  {
   "cell_type": "code",
   "execution_count": 19,
   "id": "f27255c1",
   "metadata": {
    "execution": {
     "iopub.execute_input": "2022-09-29T15:31:12.293791Z",
     "iopub.status.busy": "2022-09-29T15:31:12.293284Z",
     "iopub.status.idle": "2022-09-29T15:31:17.065635Z",
     "shell.execute_reply": "2022-09-29T15:31:17.064137Z"
    },
    "papermill": {
     "duration": 4.79197,
     "end_time": "2022-09-29T15:31:17.068329",
     "exception": false,
     "start_time": "2022-09-29T15:31:12.276359",
     "status": "completed"
    },
    "tags": []
   },
   "outputs": [
    {
     "data": {
      "image/png": "[encoded data removed]",
      "text/plain": [
       "<Figure size 432x288 with 1 Axes>"
      ]
     },
     "metadata": {
      "needs_background": "light"
     },
     "output_type": "display_data"
    },
    {
     "data": {
      "image/png": "[encoded data removed]",
      "text/plain": [
       "<Figure size 432x288 with 1 Axes>"
      ]
     },
     "metadata": {
      "needs_background": "light"
     },
     "output_type": "display_data"
    }
   ],
   "source": [
    "gammas=[0, 0.25, 0.5, 1.0, 3, 5, 1000, 5000, 10_000]\n",
    "listMSE=[]\n",
    "listR2=[]\n",
    "\n",
    "for g in gammas:\n",
    "    regressor = xgb.XGBRegressor(\n",
    "        min_split_loss=g\n",
    "    )\n",
    "    regressor.fit(X_train, y_train)\n",
    "    y_pred = regressor.predict(X_test)\n",
    "\n",
    "    xgMSE=mean_absolute_error(y_test, y_pred)\n",
    "    xgR2 = r2_score(y_test, y_pred).round(4)\n",
    "    listMSE.append(xgMSE)\n",
    "    listR2.append(xgR2)\n",
    "    \n",
    "plt.plot(gammas, listMSE)\n",
    "plt.title('Gamma Error')\n",
    "plt.ylabel('Error')\n",
    "plt.xlabel('Gammas')\n",
    "plt.legend()\n",
    "plt.show()\n",
    "\n",
    "plt.plot(gammas, listR2)\n",
    "plt.title('Gamma R2')\n",
    "plt.ylabel('Accurate')\n",
    "plt.xlabel('Gammas')\n",
    "plt.legend()\n",
    "plt.show()"
   ]
  },
  {
   "cell_type": "code",
   "execution_count": 20,
   "id": "c23ca8a2",
   "metadata": {
    "execution": {
     "iopub.execute_input": "2022-09-29T15:31:17.104261Z",
     "iopub.status.busy": "2022-09-29T15:31:17.103820Z",
     "iopub.status.idle": "2022-09-29T15:31:18.705555Z",
     "shell.execute_reply": "2022-09-29T15:31:18.704677Z"
    },
    "papermill": {
     "duration": 1.622084,
     "end_time": "2022-09-29T15:31:18.707767",
     "exception": false,
     "start_time": "2022-09-29T15:31:17.085683",
     "status": "completed"
    },
    "tags": []
   },
   "outputs": [
    {
     "data": {
      "image/png": "[encoded data removed]",
      "text/plain": [
       "<Figure size 432x288 with 1 Axes>"
      ]
     },
     "metadata": {
      "needs_background": "light"
     },
     "output_type": "display_data"
    },
    {
     "data": {
      "image/png": "[encoded data removed]",
      "text/plain": [
       "<Figure size 432x288 with 1 Axes>"
      ]
     },
     "metadata": {
      "needs_background": "light"
     },
     "output_type": "display_data"
    }
   ],
   "source": [
    "learning_rate = [0.0001, 0.001, 0.01, 0.1, 0.2, 0.3]\n",
    "listMSE=[]\n",
    "listR2=[]\n",
    "\n",
    "for l in learning_rate:\n",
    "    regressor = xgb.XGBRegressor(\n",
    "        n_estimators=50,\n",
    "        reg_lambda=1,\n",
    "        max_depth=4,\n",
    "        eta=.05,\n",
    "        min_child_weight=13,\n",
    "        learning_rate=l\n",
    "    )\n",
    "    regressor.fit(X_train, y_train)\n",
    "    y_pred = regressor.predict(X_test)\n",
    "\n",
    "    xgMSE=mean_absolute_error(y_test, y_pred)\n",
    "    xgR2 = r2_score(y_test, y_pred).round(4)\n",
    "    listMSE.append(xgMSE)\n",
    "    listR2.append(xgR2)\n",
    "    \n",
    "plt.plot(learning_rate, listMSE)\n",
    "plt.title('Learning_rate Error')\n",
    "plt.ylabel('Error')\n",
    "plt.xlabel('Learning_rate')\n",
    "plt.legend()\n",
    "plt.show()\n",
    "\n",
    "plt.plot(learning_rate, listR2)\n",
    "plt.title('Learning_rate R2')\n",
    "plt.ylabel('Accurate')\n",
    "plt.xlabel('Learning_rate')\n",
    "plt.legend()\n",
    "plt.show()"
   ]
  },
  {
   "cell_type": "code",
   "execution_count": 21,
   "id": "26d30af8",
   "metadata": {
    "execution": {
     "iopub.execute_input": "2022-09-29T15:31:18.745079Z",
     "iopub.status.busy": "2022-09-29T15:31:18.743777Z",
     "iopub.status.idle": "2022-09-29T15:31:20.391994Z",
     "shell.execute_reply": "2022-09-29T15:31:20.390730Z"
    },
    "papermill": {
     "duration": 1.669361,
     "end_time": "2022-09-29T15:31:20.394771",
     "exception": false,
     "start_time": "2022-09-29T15:31:18.725410",
     "status": "completed"
    },
    "tags": []
   },
   "outputs": [
    {
     "data": {
      "image/png": "[encoded data removed]",
      "text/plain": [
       "<Figure size 432x288 with 1 Axes>"
      ]
     },
     "metadata": {
      "needs_background": "light"
     },
     "output_type": "display_data"
    },
    {
     "data": {
      "image/png": "[encoded data removed]",
      "text/plain": [
       "<Figure size 432x288 with 1 Axes>"
      ]
     },
     "metadata": {
      "needs_background": "light"
     },
     "output_type": "display_data"
    }
   ],
   "source": [
    "regLam = [0.1, 1.0, 5.0, 10.0, 50.0, 100.0]\n",
    "listMSE=[]\n",
    "listR2=[]\n",
    "\n",
    "for r in regLam:\n",
    "    regressor = xgb.XGBRegressor(\n",
    "        n_estimators=50,\n",
    "        reg_lambda=r,\n",
    "        max_depth=4,\n",
    "        eta=.05,\n",
    "        min_child_weight=13,\n",
    "        learning_rate=.1\n",
    "    )\n",
    "    regressor.fit(X_train, y_train)\n",
    "    y_pred = regressor.predict(X_test)\n",
    "\n",
    "    xgMSE=mean_absolute_error(y_test, y_pred)\n",
    "    xgR2 = r2_score(y_test, y_pred).round(4)\n",
    "    listMSE.append(xgMSE)\n",
    "    listR2.append(xgR2)\n",
    "    \n",
    "plt.plot(regLam, listMSE)\n",
    "plt.title('RegLam Error')\n",
    "plt.ylabel('Error')\n",
    "plt.xlabel('RegLam')\n",
    "plt.legend()\n",
    "plt.show()\n",
    "\n",
    "plt.plot(regLam, listR2)\n",
    "plt.title('RegLam R2')\n",
    "plt.ylabel('Accurate')\n",
    "plt.xlabel('RegLam')\n",
    "plt.legend()\n",
    "plt.show()"
   ]
  },
  {
   "cell_type": "code",
   "execution_count": 22,
   "id": "beb900e4",
   "metadata": {
    "execution": {
     "iopub.execute_input": "2022-09-29T15:31:20.432858Z",
     "iopub.status.busy": "2022-09-29T15:31:20.432444Z",
     "iopub.status.idle": "2022-09-29T15:31:21.513887Z",
     "shell.execute_reply": "2022-09-29T15:31:21.513055Z"
    },
    "papermill": {
     "duration": 1.103431,
     "end_time": "2022-09-29T15:31:21.516232",
     "exception": false,
     "start_time": "2022-09-29T15:31:20.412801",
     "status": "completed"
    },
    "tags": []
   },
   "outputs": [
    {
     "data": {
      "image/png": "[encoded data removed]",
      "text/plain": [
       "<Figure size 432x288 with 1 Axes>"
      ]
     },
     "metadata": {
      "needs_background": "light"
     },
     "output_type": "display_data"
    },
    {
     "data": {
      "image/png": "[encoded data removed]",
      "text/plain": [
       "<Figure size 432x288 with 1 Axes>"
      ]
     },
     "metadata": {
      "needs_background": "light"
     },
     "output_type": "display_data"
    }
   ],
   "source": [
    "colSample = [0.1, 0.5, 0.9, 1]\n",
    "listMSE=[]\n",
    "listR2=[]\n",
    "\n",
    "for c in colSample:\n",
    "    regressor = xgb.XGBRegressor(\n",
    "        n_estimators=50,\n",
    "        reg_lambda=r,\n",
    "        max_depth=4,\n",
    "        eta=.05,\n",
    "        min_child_weight=13,\n",
    "        learning_rate=.1,\n",
    "        colsample_bytree=c\n",
    "    )\n",
    "    regressor.fit(X_train, y_train)\n",
    "    y_pred = regressor.predict(X_test)\n",
    "\n",
    "    xgMSE=mean_absolute_error(y_test, y_pred)\n",
    "    xgR2 = r2_score(y_test, y_pred).round(4)\n",
    "    listMSE.append(xgMSE)\n",
    "    listR2.append(xgR2)\n",
    "    \n",
    "plt.plot(colSample, listMSE)\n",
    "plt.title('ColSample Error')\n",
    "plt.ylabel('Error')\n",
    "plt.xlabel('ColSample')\n",
    "plt.legend()\n",
    "plt.show()\n",
    "\n",
    "plt.plot(colSample, listR2)\n",
    "plt.title('ColSample R2')\n",
    "plt.ylabel('Accurate')\n",
    "plt.xlabel('ColSample')\n",
    "plt.legend()\n",
    "plt.show()"
   ]
  },
  {
   "cell_type": "markdown",
   "id": "ba4254c4",
   "metadata": {
    "papermill": {
     "duration": 0.017906,
     "end_time": "2022-09-29T15:31:21.553218",
     "exception": false,
     "start_time": "2022-09-29T15:31:21.535312",
     "status": "completed"
    },
    "tags": []
   },
   "source": [
    "# Grid Search xg Boost"
   ]
  },
  {
   "cell_type": "code",
   "execution_count": 23,
   "id": "d042cdc3",
   "metadata": {
    "execution": {
     "iopub.execute_input": "2022-09-29T15:31:21.591662Z",
     "iopub.status.busy": "2022-09-29T15:31:21.590454Z",
     "iopub.status.idle": "2022-09-29T15:31:21.600487Z",
     "shell.execute_reply": "2022-09-29T15:31:21.599402Z"
    },
    "papermill": {
     "duration": 0.031882,
     "end_time": "2022-09-29T15:31:21.603087",
     "exception": false,
     "start_time": "2022-09-29T15:31:21.571205",
     "status": "completed"
    },
    "tags": []
   },
   "outputs": [],
   "source": [
    "from sklearn.model_selection import GridSearchCV, RandomizedSearchCV, KFold, StratifiedKFold\n",
    "from sklearn.metrics import f1_score, max_error\n",
    "from xgboost import cv\n",
    "from scipy import stats\n",
    "import time\n",
    "\n",
    "def gridSearch():\n",
    "    start=time.time()\n",
    "    print(\"Start\")\n",
    "\n",
    "    params = {\n",
    "        'learning_rate':[.01, .1, .3, .5, .9],\n",
    "        'n_estimators':[50],\n",
    "        'max_depth':[3, 4],\n",
    "        'min_child_weight':[1, 5, 10, 13],\n",
    "        'reg_lambda':[.01, .5, 1],\n",
    "        'colsample_bytree':[.5, .9, .99]\n",
    "    }\n",
    "\n",
    "    boost_gs=xgb.XGBRegressor()\n",
    "    kfold = StratifiedKFold(n_splits=5, shuffle=True, random_state=7)\n",
    "    boost_gs=GridSearchCV(boost_gs, param_grid=params, cv=kfold, scoring='r2')\n",
    "    boost_gs.fit(X_train, y_train)\n",
    "\n",
    "    print(boost_gs.best_params_)\n",
    "    print(\"Done. \", time.time()-start, \" seconds\")\n",
    "#gridSearch()"
   ]
  },
  {
   "cell_type": "markdown",
   "id": "c9a699bf",
   "metadata": {
    "papermill": {
     "duration": 0.017636,
     "end_time": "2022-09-29T15:31:21.638761",
     "exception": false,
     "start_time": "2022-09-29T15:31:21.621125",
     "status": "completed"
    },
    "tags": []
   },
   "source": [
    "#### Final xgBoost Prediction\n",
    "Using best parameter tunnings"
   ]
  },
  {
   "cell_type": "code",
   "execution_count": 24,
   "id": "48da10d8",
   "metadata": {
    "execution": {
     "iopub.execute_input": "2022-09-29T15:31:21.678178Z",
     "iopub.status.busy": "2022-09-29T15:31:21.677771Z",
     "iopub.status.idle": "2022-09-29T15:31:21.688127Z",
     "shell.execute_reply": "2022-09-29T15:31:21.687042Z"
    },
    "papermill": {
     "duration": 0.033222,
     "end_time": "2022-09-29T15:31:21.690408",
     "exception": false,
     "start_time": "2022-09-29T15:31:21.657186",
     "status": "completed"
    },
    "tags": []
   },
   "outputs": [],
   "source": [
    "def randSearch():\n",
    "    clf_xgb = xgb.XGBRegressor()\n",
    "    param_dist = {'n_estimators': stats.randint(50, 130),\n",
    "                  'learning_rate': stats.uniform(0.01, 0.07),\n",
    "                  'subsample': stats.uniform(0.3, 0.7),\n",
    "                  'max_depth': [3, 4, 5, 6],\n",
    "                  'colsample_bytree': stats.uniform(0.5, 0.45),\n",
    "                  'min_child_weight': [1, 10]\n",
    "                 }\n",
    "    clf = RandomizedSearchCV(\n",
    "        clf_xgb, param_distributions = param_dist, n_iter = 10, \n",
    "     scoring = 'r2', error_score = 0, verbose = 3, n_jobs = -1)\n",
    "\n",
    "    numFolds = 5\n",
    "    folds = KFold(n_splits = numFolds, shuffle = True)\n",
    "\n",
    "    estimators = []\n",
    "    results = np.zeros(len(X))\n",
    "    score = 0.0\n",
    "    for train_index, test_index in folds.split(X):\n",
    "        X_train, X_test = X.iloc[train_index,:], X.iloc[test_index,:]\n",
    "        y_train, y_test = y.iloc[train_index].values.ravel(), y.iloc[test_index].values.ravel()\n",
    "        clf.fit(X_train, y_train)\n",
    "\n",
    "        estimators.append(clf.best_estimator_)\n",
    "        results[test_index] = clf.predict(X_test)\n",
    "        score += r2_score(y_test, results[test_index])\n",
    "    score /= numFolds"
   ]
  },
  {
   "cell_type": "markdown",
   "id": "f845a98e",
   "metadata": {
    "papermill": {
     "duration": 0.017616,
     "end_time": "2022-09-29T15:31:21.726173",
     "exception": false,
     "start_time": "2022-09-29T15:31:21.708557",
     "status": "completed"
    },
    "tags": []
   },
   "source": [
    "# Final Prediction\n",
    "* Top 47% {'eta': 0.1, 'learning_rate': 0.01, 'max_depth': 4, 'min_child_weight': 10, 'n_estimators': 50, 'reg_lambda': 0.01}\n",
    "\n",
    "* Using Kfold=5 {'colsample_bytree': 0.5, 'learning_rate': 0.5, 'max_depth': 3, 'min_child_weight': 10, 'n_estimators': 50, 'reg_lambda': 0.5}"
   ]
  },
  {
   "cell_type": "code",
   "execution_count": 25,
   "id": "a934eb03",
   "metadata": {
    "execution": {
     "iopub.execute_input": "2022-09-29T15:31:21.763757Z",
     "iopub.status.busy": "2022-09-29T15:31:21.763356Z",
     "iopub.status.idle": "2022-09-29T15:31:24.060189Z",
     "shell.execute_reply": "2022-09-29T15:31:24.058427Z"
    },
    "papermill": {
     "duration": 2.319695,
     "end_time": "2022-09-29T15:31:24.063658",
     "exception": false,
     "start_time": "2022-09-29T15:31:21.743963",
     "status": "completed"
    },
    "tags": []
   },
   "outputs": [
    {
     "name": "stdout",
     "output_type": "stream",
     "text": [
      "0.8644\n",
      "0.8731\n",
      "0.008700000000000041\n"
     ]
    }
   ],
   "source": [
    "xgbFinal = xgb.XGBRegressor(\n",
    "        n_estimators=50,\n",
    "        reg_lambda=.5,\n",
    "        max_depth=4,\n",
    "        min_child_weight=10,\n",
    "        learning_rate=.5,\n",
    "        colsample_bytree=.5\n",
    "    )\n",
    "xgbFinal.fit(X_train, y_train)\n",
    "y_pred = xgbFinal.predict(X_test)\n",
    "\n",
    "xgMSE=mean_absolute_error(y_test, y_pred)\n",
    "xgR2 = r2_score(y_test, y_pred).round(4)\n",
    "listMSE.append(xgMSE)\n",
    "listR2.append(xgR2)\n",
    "\n",
    "#regressor.fit(X_train, y_train, early_stopping_rounds=1, eval_set=[(X_test, y_test)], verbose=False)\n",
    "xgbFinal.fit(X_train, y_train)\n",
    "y_pred = xgbFinal.predict(X_test)\n",
    "\n",
    "xgMSE=mean_absolute_error(y_test, y_pred)\n",
    "xgR2 = r2_score(y_test, y_pred).round(4)\n",
    "listMSE.append(xgMSE)\n",
    "listR2.append(xgR2)\n",
    "\n",
    "xgScore = xgbFinal.score(X_test, y_test).round(4)  \n",
    "xgCV = cross_validate(xgbFinal, X, y, cv = 10, scoring='r2')\n",
    "xgCV=xgCV['test_score'].mean().round(4)\n",
    "print(xgScore)\n",
    "print(xgCV)\n",
    "print(abs(xgScore-xgCV))"
   ]
  },
  {
   "cell_type": "markdown",
   "id": "033e99bc",
   "metadata": {
    "papermill": {
     "duration": 0.020591,
     "end_time": "2022-09-29T15:31:24.105119",
     "exception": false,
     "start_time": "2022-09-29T15:31:24.084528",
     "status": "completed"
    },
    "tags": []
   },
   "source": [
    "### Graph"
   ]
  },
  {
   "cell_type": "code",
   "execution_count": 26,
   "id": "bff1f74d",
   "metadata": {
    "execution": {
     "iopub.execute_input": "2022-09-29T15:31:24.144303Z",
     "iopub.status.busy": "2022-09-29T15:31:24.143901Z",
     "iopub.status.idle": "2022-09-29T15:31:25.344728Z",
     "shell.execute_reply": "2022-09-29T15:31:25.343220Z"
    },
    "papermill": {
     "duration": 1.223252,
     "end_time": "2022-09-29T15:31:25.347440",
     "exception": false,
     "start_time": "2022-09-29T15:31:24.124188",
     "status": "completed"
    },
    "tags": []
   },
   "outputs": [
    {
     "data": {
      "image/svg+xml": [
       "<?xml version=\"1.0\" encoding=\"UTF-8\" standalone=\"no\"?>\n",
       "<!DOCTYPE svg PUBLIC \"-//W3C//DTD SVG 1.1//EN\"\n",
       " \"http://www.w3.org/Graphics/SVG/1.1/DTD/svg11.dtd\">\n",
       "<!-- Generated by graphviz version 5.0.0 (20220707.2338)\n",
       " -->\n",
       "<!-- Pages: 1 -->\n",
       "<svg width=\"2408pt\" height=\"392pt\"\n",
       " viewBox=\"0.00 0.00 2407.98 392.00\" xmlns=\"http://www.w3.org/2000/svg\" xmlns:xlink=\"http://www.w3.org/1999/xlink\">\n",
       "<g id=\"graph0\" class=\"graph\" transform=\"scale(1 1) rotate(0) translate(4 388)\">\n",
       "<polygon fill=\"white\" stroke=\"transparent\" points=\"-4,4 -4,-388 2403.98,-388 2403.98,4 -4,4\"/>\n",
       "<!-- 0 -->\n",
       "<g id=\"node1\" class=\"node\">\n",
       "<title>0</title>\n",
       "<ellipse fill=\"none\" stroke=\"black\" cx=\"1479.99\" cy=\"-366\" rx=\"88.28\" ry=\"18\"/>\n",
       "<text text-anchor=\"middle\" x=\"1479.99\" y=\"-362.3\" font-family=\"Times,serif\" font-size=\"14.00\">OverallQual&lt;6.5</text>\n",
       "</g>\n",
       "<!-- 1 -->\n",
       "<g id=\"node2\" class=\"node\">\n",
       "<title>1</title>\n",
       "<ellipse fill=\"none\" stroke=\"black\" cx=\"1166.99\" cy=\"-279\" rx=\"88.28\" ry=\"18\"/>\n",
       "<text text-anchor=\"middle\" x=\"1166.99\" y=\"-275.3\" font-family=\"Times,serif\" font-size=\"14.00\">OverallQual&lt;5.5</text>\n",
       "</g>\n",
       "<!-- 0&#45;&gt;1 -->\n",
       "<g id=\"edge1\" class=\"edge\">\n",
       "<title>0&#45;&gt;1</title>\n",
       "<path fill=\"none\" stroke=\"#0000ff\" d=\"M1429.01,-351.15C1373.9,-336.19 1286.13,-312.35 1227.56,-296.45\"/>\n",
       "<polygon fill=\"#0000ff\" stroke=\"#0000ff\" points=\"1228.26,-293.01 1217.7,-293.77 1226.43,-299.77 1228.26,-293.01\"/>\n",
       "<text text-anchor=\"middle\" x=\"1387.49\" y=\"-318.8\" font-family=\"Times,serif\" font-size=\"14.00\">yes, missing</text>\n",
       "</g>\n",
       "<!-- 2 -->\n",
       "<g id=\"node3\" class=\"node\">\n",
       "<title>2</title>\n",
       "<ellipse fill=\"none\" stroke=\"black\" cx=\"1791.99\" cy=\"-279\" rx=\"88.28\" ry=\"18\"/>\n",
       "<text text-anchor=\"middle\" x=\"1791.99\" y=\"-275.3\" font-family=\"Times,serif\" font-size=\"14.00\">OverallQual&lt;7.5</text>\n",
       "</g>\n",
       "<!-- 0&#45;&gt;2 -->\n",
       "<g id=\"edge2\" class=\"edge\">\n",
       "<title>0&#45;&gt;2</title>\n",
       "<path fill=\"none\" stroke=\"#ff0000\" d=\"M1530.81,-351.15C1585.74,-336.19 1673.23,-312.35 1731.62,-296.45\"/>\n",
       "<polygon fill=\"#ff0000\" stroke=\"#ff0000\" points=\"1732.72,-299.78 1741.45,-293.77 1730.88,-293.02 1732.72,-299.78\"/>\n",
       "<text text-anchor=\"middle\" x=\"1663.99\" y=\"-318.8\" font-family=\"Times,serif\" font-size=\"14.00\">no</text>\n",
       "</g>\n",
       "<!-- 3 -->\n",
       "<g id=\"node4\" class=\"node\">\n",
       "<title>3</title>\n",
       "<ellipse fill=\"none\" stroke=\"black\" cx=\"618.99\" cy=\"-192\" rx=\"94.48\" ry=\"18\"/>\n",
       "<text text-anchor=\"middle\" x=\"618.99\" y=\"-188.3\" font-family=\"Times,serif\" font-size=\"14.00\">BsmtFinSF1&lt;371</text>\n",
       "</g>\n",
       "<!-- 1&#45;&gt;3 -->\n",
       "<g id=\"edge3\" class=\"edge\">\n",
       "<title>1&#45;&gt;3</title>\n",
       "<path fill=\"none\" stroke=\"#0000ff\" d=\"M1098.97,-267.45C997.76,-251.75 807.85,-222.29 699.73,-205.52\"/>\n",
       "<polygon fill=\"#0000ff\" stroke=\"#0000ff\" points=\"699.95,-202.02 689.53,-203.94 698.88,-208.93 699.95,-202.02\"/>\n",
       "<text text-anchor=\"middle\" x=\"970.49\" y=\"-231.8\" font-family=\"Times,serif\" font-size=\"14.00\">yes, missing</text>\n",
       "</g>\n",
       "<!-- 4 -->\n",
       "<g id=\"node5\" class=\"node\">\n",
       "<title>4</title>\n",
       "<ellipse fill=\"none\" stroke=\"black\" cx=\"1166.99\" cy=\"-192\" rx=\"88.28\" ry=\"18\"/>\n",
       "<text text-anchor=\"middle\" x=\"1166.99\" y=\"-188.3\" font-family=\"Times,serif\" font-size=\"14.00\">GarageCars&lt;1.5</text>\n",
       "</g>\n",
       "<!-- 1&#45;&gt;4 -->\n",
       "<g id=\"edge4\" class=\"edge\">\n",
       "<title>1&#45;&gt;4</title>\n",
       "<path fill=\"none\" stroke=\"#ff0000\" d=\"M1166.99,-260.8C1166.99,-249.16 1166.99,-233.55 1166.99,-220.24\"/>\n",
       "<polygon fill=\"#ff0000\" stroke=\"#ff0000\" points=\"1170.49,-220.18 1166.99,-210.18 1163.49,-220.18 1170.49,-220.18\"/>\n",
       "<text text-anchor=\"middle\" x=\"1175.99\" y=\"-231.8\" font-family=\"Times,serif\" font-size=\"14.00\">no</text>\n",
       "</g>\n",
       "<!-- 5 -->\n",
       "<g id=\"node18\" class=\"node\">\n",
       "<title>5</title>\n",
       "<ellipse fill=\"none\" stroke=\"black\" cx=\"1791.99\" cy=\"-192\" rx=\"102.88\" ry=\"18\"/>\n",
       "<text text-anchor=\"middle\" x=\"1791.99\" y=\"-188.3\" font-family=\"Times,serif\" font-size=\"14.00\">BsmtFinSF1&lt;955.5</text>\n",
       "</g>\n",
       "<!-- 2&#45;&gt;5 -->\n",
       "<g id=\"edge17\" class=\"edge\">\n",
       "<title>2&#45;&gt;5</title>\n",
       "<path fill=\"none\" stroke=\"#0000ff\" d=\"M1791.99,-260.8C1791.99,-249.16 1791.99,-233.55 1791.99,-220.24\"/>\n",
       "<polygon fill=\"#0000ff\" stroke=\"#0000ff\" points=\"1795.49,-220.18 1791.99,-210.18 1788.49,-220.18 1795.49,-220.18\"/>\n",
       "<text text-anchor=\"middle\" x=\"1836.49\" y=\"-231.8\" font-family=\"Times,serif\" font-size=\"14.00\">yes, missing</text>\n",
       "</g>\n",
       "<!-- 6 -->\n",
       "<g id=\"node19\" class=\"node\">\n",
       "<title>6</title>\n",
       "<ellipse fill=\"none\" stroke=\"black\" cx=\"2105.99\" cy=\"-192\" rx=\"88.28\" ry=\"18\"/>\n",
       "<text text-anchor=\"middle\" x=\"2105.99\" y=\"-188.3\" font-family=\"Times,serif\" font-size=\"14.00\">OverallQual&lt;8.5</text>\n",
       "</g>\n",
       "<!-- 2&#45;&gt;6 -->\n",
       "<g id=\"edge18\" class=\"edge\">\n",
       "<title>2&#45;&gt;6</title>\n",
       "<path fill=\"none\" stroke=\"#ff0000\" d=\"M1842.79,-264.25C1898,-249.3 1986.2,-225.43 2045.09,-209.49\"/>\n",
       "<polygon fill=\"#ff0000\" stroke=\"#ff0000\" points=\"2046.27,-212.79 2055.01,-206.8 2044.44,-206.04 2046.27,-212.79\"/>\n",
       "<text text-anchor=\"middle\" x=\"1976.99\" y=\"-231.8\" font-family=\"Times,serif\" font-size=\"14.00\">no</text>\n",
       "</g>\n",
       "<!-- 7 -->\n",
       "<g id=\"node6\" class=\"node\">\n",
       "<title>7</title>\n",
       "<ellipse fill=\"none\" stroke=\"black\" cx=\"290.99\" cy=\"-105\" rx=\"88.28\" ry=\"18\"/>\n",
       "<text text-anchor=\"middle\" x=\"290.99\" y=\"-101.3\" font-family=\"Times,serif\" font-size=\"14.00\">OverallQual&lt;4.5</text>\n",
       "</g>\n",
       "<!-- 3&#45;&gt;7 -->\n",
       "<g id=\"edge5\" class=\"edge\">\n",
       "<title>3&#45;&gt;7</title>\n",
       "<path fill=\"none\" stroke=\"#0000ff\" d=\"M565.56,-177.15C507.44,-162.09 414.64,-138.04 353.26,-122.14\"/>\n",
       "<polygon fill=\"#0000ff\" stroke=\"#0000ff\" points=\"353.87,-118.68 343.31,-119.56 352.12,-125.46 353.87,-118.68\"/>\n",
       "<text text-anchor=\"middle\" x=\"519.49\" y=\"-144.8\" font-family=\"Times,serif\" font-size=\"14.00\">yes, missing</text>\n",
       "</g>\n",
       "<!-- 8 -->\n",
       "<g id=\"node7\" class=\"node\">\n",
       "<title>8</title>\n",
       "<ellipse fill=\"none\" stroke=\"black\" cx=\"618.99\" cy=\"-105\" rx=\"81.49\" ry=\"18\"/>\n",
       "<text text-anchor=\"middle\" x=\"618.99\" y=\"-101.3\" font-family=\"Times,serif\" font-size=\"14.00\">Fireplaces&lt;0.5</text>\n",
       "</g>\n",
       "<!-- 3&#45;&gt;8 -->\n",
       "<g id=\"edge6\" class=\"edge\">\n",
       "<title>3&#45;&gt;8</title>\n",
       "<path fill=\"none\" stroke=\"#ff0000\" d=\"M618.99,-173.8C618.99,-162.16 618.99,-146.55 618.99,-133.24\"/>\n",
       "<polygon fill=\"#ff0000\" stroke=\"#ff0000\" points=\"622.49,-133.18 618.99,-123.18 615.49,-133.18 622.49,-133.18\"/>\n",
       "<text text-anchor=\"middle\" x=\"627.99\" y=\"-144.8\" font-family=\"Times,serif\" font-size=\"14.00\">no</text>\n",
       "</g>\n",
       "<!-- 9 -->\n",
       "<g id=\"node12\" class=\"node\">\n",
       "<title>9</title>\n",
       "<ellipse fill=\"none\" stroke=\"black\" cx=\"1076.99\" cy=\"-105\" rx=\"104.78\" ry=\"18\"/>\n",
       "<text text-anchor=\"middle\" x=\"1076.99\" y=\"-101.3\" font-family=\"Times,serif\" font-size=\"14.00\">BedroomAbvGr&lt;2.5</text>\n",
       "</g>\n",
       "<!-- 4&#45;&gt;9 -->\n",
       "<g id=\"edge11\" class=\"edge\">\n",
       "<title>4&#45;&gt;9</title>\n",
       "<path fill=\"none\" stroke=\"#0000ff\" d=\"M1149.21,-174.21C1135.77,-161.52 1117.15,-143.93 1102.18,-129.79\"/>\n",
       "<polygon fill=\"#0000ff\" stroke=\"#0000ff\" points=\"1104.41,-127.08 1094.74,-122.76 1099.6,-132.17 1104.41,-127.08\"/>\n",
       "<text text-anchor=\"middle\" x=\"1172.49\" y=\"-144.8\" font-family=\"Times,serif\" font-size=\"14.00\">yes, missing</text>\n",
       "</g>\n",
       "<!-- 10 -->\n",
       "<g id=\"node13\" class=\"node\">\n",
       "<title>10</title>\n",
       "<ellipse fill=\"none\" stroke=\"black\" cx=\"1303.99\" cy=\"-105\" rx=\"104.78\" ry=\"18\"/>\n",
       "<text text-anchor=\"middle\" x=\"1303.99\" y=\"-101.3\" font-family=\"Times,serif\" font-size=\"14.00\">BedroomAbvGr&lt;3.5</text>\n",
       "</g>\n",
       "<!-- 4&#45;&gt;10 -->\n",
       "<g id=\"edge12\" class=\"edge\">\n",
       "<title>4&#45;&gt;10</title>\n",
       "<path fill=\"none\" stroke=\"#ff0000\" d=\"M1193.41,-174.61C1214.78,-161.35 1245.08,-142.55 1268.56,-127.98\"/>\n",
       "<polygon fill=\"#ff0000\" stroke=\"#ff0000\" points=\"1270.54,-130.87 1277.19,-122.63 1266.85,-124.93 1270.54,-130.87\"/>\n",
       "<text text-anchor=\"middle\" x=\"1252.99\" y=\"-144.8\" font-family=\"Times,serif\" font-size=\"14.00\">no</text>\n",
       "</g>\n",
       "<!-- 15 -->\n",
       "<g id=\"node8\" class=\"node\">\n",
       "<title>15</title>\n",
       "<ellipse fill=\"none\" stroke=\"black\" cx=\"90.99\" cy=\"-18\" rx=\"90.98\" ry=\"18\"/>\n",
       "<text text-anchor=\"middle\" x=\"90.99\" y=\"-14.3\" font-family=\"Times,serif\" font-size=\"14.00\">leaf=44562.7695</text>\n",
       "</g>\n",
       "<!-- 7&#45;&gt;15 -->\n",
       "<g id=\"edge7\" class=\"edge\">\n",
       "<title>7&#45;&gt;15</title>\n",
       "<path fill=\"none\" stroke=\"#0000ff\" d=\"M249.06,-89C232.98,-83.04 214.53,-75.96 197.99,-69 176.23,-59.84 152.4,-48.8 132.76,-39.43\"/>\n",
       "<polygon fill=\"#0000ff\" stroke=\"#0000ff\" points=\"134.01,-36.15 123.48,-34.98 130.98,-42.46 134.01,-36.15\"/>\n",
       "<text text-anchor=\"middle\" x=\"242.49\" y=\"-57.8\" font-family=\"Times,serif\" font-size=\"14.00\">yes, missing</text>\n",
       "</g>\n",
       "<!-- 16 -->\n",
       "<g id=\"node9\" class=\"node\">\n",
       "<title>16</title>\n",
       "<ellipse fill=\"none\" stroke=\"black\" cx=\"290.99\" cy=\"-18\" rx=\"90.98\" ry=\"18\"/>\n",
       "<text text-anchor=\"middle\" x=\"290.99\" y=\"-14.3\" font-family=\"Times,serif\" font-size=\"14.00\">leaf=60304.2539</text>\n",
       "</g>\n",
       "<!-- 7&#45;&gt;16 -->\n",
       "<g id=\"edge8\" class=\"edge\">\n",
       "<title>7&#45;&gt;16</title>\n",
       "<path fill=\"none\" stroke=\"#ff0000\" d=\"M290.99,-86.8C290.99,-75.16 290.99,-59.55 290.99,-46.24\"/>\n",
       "<polygon fill=\"#ff0000\" stroke=\"#ff0000\" points=\"294.49,-46.18 290.99,-36.18 287.49,-46.18 294.49,-46.18\"/>\n",
       "<text text-anchor=\"middle\" x=\"299.99\" y=\"-57.8\" font-family=\"Times,serif\" font-size=\"14.00\">no</text>\n",
       "</g>\n",
       "<!-- 17 -->\n",
       "<g id=\"node10\" class=\"node\">\n",
       "<title>17</title>\n",
       "<ellipse fill=\"none\" stroke=\"black\" cx=\"490.99\" cy=\"-18\" rx=\"90.98\" ry=\"18\"/>\n",
       "<text text-anchor=\"middle\" x=\"490.99\" y=\"-14.3\" font-family=\"Times,serif\" font-size=\"14.00\">leaf=66422.2344</text>\n",
       "</g>\n",
       "<!-- 8&#45;&gt;17 -->\n",
       "<g id=\"edge9\" class=\"edge\">\n",
       "<title>8&#45;&gt;17</title>\n",
       "<path fill=\"none\" stroke=\"#0000ff\" d=\"M589.7,-88.14C579.51,-82.37 568.1,-75.63 557.99,-69 545.2,-60.6 531.59,-50.64 519.99,-41.83\"/>\n",
       "<polygon fill=\"#0000ff\" stroke=\"#0000ff\" points=\"522.01,-38.97 511.95,-35.66 517.75,-44.52 522.01,-38.97\"/>\n",
       "<text text-anchor=\"middle\" x=\"602.49\" y=\"-57.8\" font-family=\"Times,serif\" font-size=\"14.00\">yes, missing</text>\n",
       "</g>\n",
       "<!-- 18 -->\n",
       "<g id=\"node11\" class=\"node\">\n",
       "<title>18</title>\n",
       "<ellipse fill=\"none\" stroke=\"black\" cx=\"690.99\" cy=\"-18\" rx=\"90.98\" ry=\"18\"/>\n",
       "<text text-anchor=\"middle\" x=\"690.99\" y=\"-14.3\" font-family=\"Times,serif\" font-size=\"14.00\">leaf=76813.6797</text>\n",
       "</g>\n",
       "<!-- 8&#45;&gt;18 -->\n",
       "<g id=\"edge10\" class=\"edge\">\n",
       "<title>8&#45;&gt;18</title>\n",
       "<path fill=\"none\" stroke=\"#ff0000\" d=\"M633.22,-87.21C643.7,-74.83 658.13,-57.8 669.94,-43.85\"/>\n",
       "<polygon fill=\"#ff0000\" stroke=\"#ff0000\" points=\"672.76,-45.94 676.55,-36.05 667.42,-41.42 672.76,-45.94\"/>\n",
       "<text text-anchor=\"middle\" x=\"668.99\" y=\"-57.8\" font-family=\"Times,serif\" font-size=\"14.00\">no</text>\n",
       "</g>\n",
       "<!-- 19 -->\n",
       "<g id=\"node14\" class=\"node\">\n",
       "<title>19</title>\n",
       "<ellipse fill=\"none\" stroke=\"black\" cx=\"890.99\" cy=\"-18\" rx=\"90.98\" ry=\"18\"/>\n",
       "<text text-anchor=\"middle\" x=\"890.99\" y=\"-14.3\" font-family=\"Times,serif\" font-size=\"14.00\">leaf=58391.2461</text>\n",
       "</g>\n",
       "<!-- 9&#45;&gt;19 -->\n",
       "<g id=\"edge13\" class=\"edge\">\n",
       "<title>9&#45;&gt;19</title>\n",
       "<path fill=\"none\" stroke=\"#0000ff\" d=\"M1036.47,-88.25C1022.01,-82.44 1005.68,-75.65 990.99,-69 970.96,-59.93 949.09,-49.1 930.91,-39.84\"/>\n",
       "<polygon fill=\"#0000ff\" stroke=\"#0000ff\" points=\"932.27,-36.61 921.78,-35.16 929.08,-42.84 932.27,-36.61\"/>\n",
       "<text text-anchor=\"middle\" x=\"1035.49\" y=\"-57.8\" font-family=\"Times,serif\" font-size=\"14.00\">yes, missing</text>\n",
       "</g>\n",
       "<!-- 20 -->\n",
       "<g id=\"node15\" class=\"node\">\n",
       "<title>20</title>\n",
       "<ellipse fill=\"none\" stroke=\"black\" cx=\"1090.99\" cy=\"-18\" rx=\"90.98\" ry=\"18\"/>\n",
       "<text text-anchor=\"middle\" x=\"1090.99\" y=\"-14.3\" font-family=\"Times,serif\" font-size=\"14.00\">leaf=71141.1094</text>\n",
       "</g>\n",
       "<!-- 9&#45;&gt;20 -->\n",
       "<g id=\"edge14\" class=\"edge\">\n",
       "<title>9&#45;&gt;20</title>\n",
       "<path fill=\"none\" stroke=\"#ff0000\" d=\"M1079.83,-86.8C1081.74,-75.16 1084.31,-59.55 1086.51,-46.24\"/>\n",
       "<polygon fill=\"#ff0000\" stroke=\"#ff0000\" points=\"1089.99,-46.61 1088.16,-36.18 1083.08,-45.47 1089.99,-46.61\"/>\n",
       "<text text-anchor=\"middle\" x=\"1093.99\" y=\"-57.8\" font-family=\"Times,serif\" font-size=\"14.00\">no</text>\n",
       "</g>\n",
       "<!-- 21 -->\n",
       "<g id=\"node16\" class=\"node\">\n",
       "<title>21</title>\n",
       "<ellipse fill=\"none\" stroke=\"black\" cx=\"1290.99\" cy=\"-18\" rx=\"90.98\" ry=\"18\"/>\n",
       "<text text-anchor=\"middle\" x=\"1290.99\" y=\"-14.3\" font-family=\"Times,serif\" font-size=\"14.00\">leaf=84652.1328</text>\n",
       "</g>\n",
       "<!-- 10&#45;&gt;21 -->\n",
       "<g id=\"edge15\" class=\"edge\">\n",
       "<title>10&#45;&gt;21</title>\n",
       "<path fill=\"none\" stroke=\"#0000ff\" d=\"M1301.36,-86.8C1299.58,-75.16 1297.19,-59.55 1295.16,-46.24\"/>\n",
       "<polygon fill=\"#0000ff\" stroke=\"#0000ff\" points=\"1298.59,-45.53 1293.62,-36.18 1291.67,-46.59 1298.59,-45.53\"/>\n",
       "<text text-anchor=\"middle\" x=\"1343.49\" y=\"-57.8\" font-family=\"Times,serif\" font-size=\"14.00\">yes, missing</text>\n",
       "</g>\n",
       "<!-- 22 -->\n",
       "<g id=\"node17\" class=\"node\">\n",
       "<title>22</title>\n",
       "<ellipse fill=\"none\" stroke=\"black\" cx=\"1490.99\" cy=\"-18\" rx=\"90.98\" ry=\"18\"/>\n",
       "<text text-anchor=\"middle\" x=\"1490.99\" y=\"-14.3\" font-family=\"Times,serif\" font-size=\"14.00\">leaf=103123.164</text>\n",
       "</g>\n",
       "<!-- 10&#45;&gt;22 -->\n",
       "<g id=\"edge16\" class=\"edge\">\n",
       "<title>10&#45;&gt;22</title>\n",
       "<path fill=\"none\" stroke=\"#ff0000\" d=\"M1345.5,-88.37C1360.29,-82.57 1377,-75.75 1391.99,-69 1412.03,-59.98 1433.87,-49.07 1451.93,-39.74\"/>\n",
       "<polygon fill=\"#ff0000\" stroke=\"#ff0000\" points=\"1453.74,-42.74 1461,-35.03 1450.51,-36.53 1453.74,-42.74\"/>\n",
       "<text text-anchor=\"middle\" x=\"1431.99\" y=\"-57.8\" font-family=\"Times,serif\" font-size=\"14.00\">no</text>\n",
       "</g>\n",
       "<!-- 11 -->\n",
       "<g id=\"node20\" class=\"node\">\n",
       "<title>11</title>\n",
       "<ellipse fill=\"none\" stroke=\"black\" cx=\"1690.99\" cy=\"-105\" rx=\"103.18\" ry=\"18\"/>\n",
       "<text text-anchor=\"middle\" x=\"1690.99\" y=\"-101.3\" font-family=\"Times,serif\" font-size=\"14.00\">TotRmsAbvGrd&lt;7.5</text>\n",
       "</g>\n",
       "<!-- 5&#45;&gt;11 -->\n",
       "<g id=\"edge19\" class=\"edge\">\n",
       "<title>5&#45;&gt;11</title>\n",
       "<path fill=\"none\" stroke=\"#0000ff\" d=\"M1772.04,-174.21C1756.82,-161.4 1735.68,-143.61 1718.8,-129.4\"/>\n",
       "<polygon fill=\"#0000ff\" stroke=\"#0000ff\" points=\"1720.81,-126.52 1710.9,-122.76 1716.3,-131.88 1720.81,-126.52\"/>\n",
       "<text text-anchor=\"middle\" x=\"1792.49\" y=\"-144.8\" font-family=\"Times,serif\" font-size=\"14.00\">yes, missing</text>\n",
       "</g>\n",
       "<!-- 12 -->\n",
       "<g id=\"node21\" class=\"node\">\n",
       "<title>12</title>\n",
       "<ellipse fill=\"none\" stroke=\"black\" cx=\"1902.99\" cy=\"-105\" rx=\"90.98\" ry=\"18\"/>\n",
       "<text text-anchor=\"middle\" x=\"1902.99\" y=\"-101.3\" font-family=\"Times,serif\" font-size=\"14.00\">leaf=129798.227</text>\n",
       "</g>\n",
       "<!-- 5&#45;&gt;12 -->\n",
       "<g id=\"edge20\" class=\"edge\">\n",
       "<title>5&#45;&gt;12</title>\n",
       "<path fill=\"none\" stroke=\"#ff0000\" d=\"M1816.12,-174.19C1824.11,-168.51 1833,-162.07 1840.99,-156 1852.2,-147.49 1864.3,-137.84 1874.81,-129.31\"/>\n",
       "<polygon fill=\"#ff0000\" stroke=\"#ff0000\" points=\"1877.31,-131.78 1882.84,-122.74 1872.88,-126.36 1877.31,-131.78\"/>\n",
       "<text text-anchor=\"middle\" x=\"1869.99\" y=\"-144.8\" font-family=\"Times,serif\" font-size=\"14.00\">no</text>\n",
       "</g>\n",
       "<!-- 13 -->\n",
       "<g id=\"node24\" class=\"node\">\n",
       "<title>13</title>\n",
       "<ellipse fill=\"none\" stroke=\"black\" cx=\"2105.99\" cy=\"-105\" rx=\"93.68\" ry=\"18\"/>\n",
       "<text text-anchor=\"middle\" x=\"2105.99\" y=\"-101.3\" font-family=\"Times,serif\" font-size=\"14.00\">MasVnrArea&lt;182</text>\n",
       "</g>\n",
       "<!-- 6&#45;&gt;13 -->\n",
       "<g id=\"edge23\" class=\"edge\">\n",
       "<title>6&#45;&gt;13</title>\n",
       "<path fill=\"none\" stroke=\"#0000ff\" d=\"M2105.99,-173.8C2105.99,-162.16 2105.99,-146.55 2105.99,-133.24\"/>\n",
       "<polygon fill=\"#0000ff\" stroke=\"#0000ff\" points=\"2109.49,-133.18 2105.99,-123.18 2102.49,-133.18 2109.49,-133.18\"/>\n",
       "<text text-anchor=\"middle\" x=\"2150.49\" y=\"-144.8\" font-family=\"Times,serif\" font-size=\"14.00\">yes, missing</text>\n",
       "</g>\n",
       "<!-- 14 -->\n",
       "<g id=\"node25\" class=\"node\">\n",
       "<title>14</title>\n",
       "<ellipse fill=\"none\" stroke=\"black\" cx=\"2308.99\" cy=\"-105\" rx=\"90.98\" ry=\"18\"/>\n",
       "<text text-anchor=\"middle\" x=\"2308.99\" y=\"-101.3\" font-family=\"Times,serif\" font-size=\"14.00\">leaf=174967.484</text>\n",
       "</g>\n",
       "<!-- 6&#45;&gt;14 -->\n",
       "<g id=\"edge24\" class=\"edge\">\n",
       "<title>6&#45;&gt;14</title>\n",
       "<path fill=\"none\" stroke=\"#ff0000\" d=\"M2147.43,-176.08C2163.61,-170.08 2182.26,-162.94 2198.99,-156 2221.41,-146.7 2246.02,-135.6 2266.28,-126.22\"/>\n",
       "<polygon fill=\"#ff0000\" stroke=\"#ff0000\" points=\"2267.96,-129.3 2275.55,-121.9 2265,-122.95 2267.96,-129.3\"/>\n",
       "<text text-anchor=\"middle\" x=\"2241.99\" y=\"-144.8\" font-family=\"Times,serif\" font-size=\"14.00\">no</text>\n",
       "</g>\n",
       "<!-- 23 -->\n",
       "<g id=\"node22\" class=\"node\">\n",
       "<title>23</title>\n",
       "<ellipse fill=\"none\" stroke=\"black\" cx=\"1690.99\" cy=\"-18\" rx=\"90.98\" ry=\"18\"/>\n",
       "<text text-anchor=\"middle\" x=\"1690.99\" y=\"-14.3\" font-family=\"Times,serif\" font-size=\"14.00\">leaf=94365.9688</text>\n",
       "</g>\n",
       "<!-- 11&#45;&gt;23 -->\n",
       "<g id=\"edge21\" class=\"edge\">\n",
       "<title>11&#45;&gt;23</title>\n",
       "<path fill=\"none\" stroke=\"#0000ff\" d=\"M1690.99,-86.8C1690.99,-75.16 1690.99,-59.55 1690.99,-46.24\"/>\n",
       "<polygon fill=\"#0000ff\" stroke=\"#0000ff\" points=\"1694.49,-46.18 1690.99,-36.18 1687.49,-46.18 1694.49,-46.18\"/>\n",
       "<text text-anchor=\"middle\" x=\"1735.49\" y=\"-57.8\" font-family=\"Times,serif\" font-size=\"14.00\">yes, missing</text>\n",
       "</g>\n",
       "<!-- 24 -->\n",
       "<g id=\"node23\" class=\"node\">\n",
       "<title>24</title>\n",
       "<ellipse fill=\"none\" stroke=\"black\" cx=\"1890.99\" cy=\"-18\" rx=\"90.98\" ry=\"18\"/>\n",
       "<text text-anchor=\"middle\" x=\"1890.99\" y=\"-14.3\" font-family=\"Times,serif\" font-size=\"14.00\">leaf=111225.031</text>\n",
       "</g>\n",
       "<!-- 11&#45;&gt;24 -->\n",
       "<g id=\"edge22\" class=\"edge\">\n",
       "<title>11&#45;&gt;24</title>\n",
       "<path fill=\"none\" stroke=\"#ff0000\" d=\"M1734.33,-88.48C1750.07,-82.64 1767.93,-75.76 1783.99,-69 1805.75,-59.84 1829.59,-48.8 1849.23,-39.43\"/>\n",
       "<polygon fill=\"#ff0000\" stroke=\"#ff0000\" points=\"1851,-42.46 1858.5,-34.98 1847.97,-36.15 1851,-42.46\"/>\n",
       "<text text-anchor=\"middle\" x=\"1825.99\" y=\"-57.8\" font-family=\"Times,serif\" font-size=\"14.00\">no</text>\n",
       "</g>\n",
       "<!-- 25 -->\n",
       "<g id=\"node26\" class=\"node\">\n",
       "<title>25</title>\n",
       "<ellipse fill=\"none\" stroke=\"black\" cx=\"2094.99\" cy=\"-18\" rx=\"85.29\" ry=\"18\"/>\n",
       "<text text-anchor=\"middle\" x=\"2094.99\" y=\"-14.3\" font-family=\"Times,serif\" font-size=\"14.00\">leaf=123455.57</text>\n",
       "</g>\n",
       "<!-- 13&#45;&gt;25 -->\n",
       "<g id=\"edge25\" class=\"edge\">\n",
       "<title>13&#45;&gt;25</title>\n",
       "<path fill=\"none\" stroke=\"#0000ff\" d=\"M2103.77,-86.8C2102.26,-75.16 2100.24,-59.55 2098.52,-46.24\"/>\n",
       "<polygon fill=\"#0000ff\" stroke=\"#0000ff\" points=\"2101.97,-45.64 2097.21,-36.18 2095.03,-46.54 2101.97,-45.64\"/>\n",
       "<text text-anchor=\"middle\" x=\"2146.49\" y=\"-57.8\" font-family=\"Times,serif\" font-size=\"14.00\">yes, missing</text>\n",
       "</g>\n",
       "<!-- 26 -->\n",
       "<g id=\"node27\" class=\"node\">\n",
       "<title>26</title>\n",
       "<ellipse fill=\"none\" stroke=\"black\" cx=\"2288.99\" cy=\"-18\" rx=\"90.98\" ry=\"18\"/>\n",
       "<text text-anchor=\"middle\" x=\"2288.99\" y=\"-14.3\" font-family=\"Times,serif\" font-size=\"14.00\">leaf=148042.125</text>\n",
       "</g>\n",
       "<!-- 13&#45;&gt;26 -->\n",
       "<g id=\"edge26\" class=\"edge\">\n",
       "<title>13&#45;&gt;26</title>\n",
       "<path fill=\"none\" stroke=\"#ff0000\" d=\"M2147.61,-88.76C2162.7,-82.95 2179.76,-76.02 2194.99,-69 2213.97,-60.25 2234.52,-49.48 2251.55,-40.18\"/>\n",
       "<polygon fill=\"#ff0000\" stroke=\"#ff0000\" points=\"2253.55,-43.07 2260.62,-35.18 2250.17,-36.94 2253.55,-43.07\"/>\n",
       "<text text-anchor=\"middle\" x=\"2232.99\" y=\"-57.8\" font-family=\"Times,serif\" font-size=\"14.00\">no</text>\n",
       "</g>\n",
       "</g>\n",
       "</svg>\n"
      ],
      "text/plain": [
       "<graphviz.files.Source at 0x7ff414b4c950>"
      ]
     },
     "execution_count": 26,
     "metadata": {},
     "output_type": "execute_result"
    }
   ],
   "source": [
    "import graphviz\n",
    "xgb.to_graphviz(xgbFinal)"
   ]
  },
  {
   "cell_type": "markdown",
   "id": "f737792f",
   "metadata": {
    "papermill": {
     "duration": 0.018768,
     "end_time": "2022-09-29T15:31:25.385441",
     "exception": false,
     "start_time": "2022-09-29T15:31:25.366673",
     "status": "completed"
    },
    "tags": []
   },
   "source": [
    "### Feature Importance"
   ]
  },
  {
   "cell_type": "code",
   "execution_count": 27,
   "id": "ddd08dee",
   "metadata": {
    "execution": {
     "iopub.execute_input": "2022-09-29T15:31:25.428511Z",
     "iopub.status.busy": "2022-09-29T15:31:25.428082Z",
     "iopub.status.idle": "2022-09-29T15:31:25.951596Z",
     "shell.execute_reply": "2022-09-29T15:31:25.950403Z"
    },
    "papermill": {
     "duration": 0.549256,
     "end_time": "2022-09-29T15:31:25.954202",
     "exception": false,
     "start_time": "2022-09-29T15:31:25.404946",
     "status": "completed"
    },
    "tags": []
   },
   "outputs": [
    {
     "data": {
      "image/png": "[encoded data removed]",
      "text/plain": [
       "<Figure size 432x288 with 1 Axes>"
      ]
     },
     "metadata": {
      "needs_background": "light"
     },
     "output_type": "display_data"
    },
    {
     "data": {
      "text/plain": [
       "<Figure size 1440x1152 with 0 Axes>"
      ]
     },
     "metadata": {},
     "output_type": "display_data"
    }
   ],
   "source": [
    "xgb.plot_importance(xgbFinal)\n",
    "plt.figure(figsize = (20, 16))\n",
    "plt.show()"
   ]
  },
  {
   "cell_type": "markdown",
   "id": "229406a9",
   "metadata": {
    "execution": {
     "iopub.execute_input": "2022-09-19T21:09:40.310967Z",
     "iopub.status.busy": "2022-09-19T21:09:40.310240Z",
     "iopub.status.idle": "2022-09-19T21:09:40.328174Z",
     "shell.execute_reply": "2022-09-19T21:09:40.326914Z",
     "shell.execute_reply.started": "2022-09-19T21:09:40.310928Z"
    },
    "papermill": {
     "duration": 0.020372,
     "end_time": "2022-09-29T15:31:25.995316",
     "exception": false,
     "start_time": "2022-09-29T15:31:25.974944",
     "status": "completed"
    },
    "tags": []
   },
   "source": [
    "# Test Dataset\n",
    "Make final predictions on unknown house price value using features from Train data"
   ]
  },
  {
   "cell_type": "code",
   "execution_count": 28,
   "id": "b42684d5",
   "metadata": {
    "execution": {
     "iopub.execute_input": "2022-09-29T15:31:26.037466Z",
     "iopub.status.busy": "2022-09-29T15:31:26.037071Z",
     "iopub.status.idle": "2022-09-29T15:31:26.185127Z",
     "shell.execute_reply": "2022-09-29T15:31:26.184035Z"
    },
    "papermill": {
     "duration": 0.17312,
     "end_time": "2022-09-29T15:31:26.188543",
     "exception": false,
     "start_time": "2022-09-29T15:31:26.015423",
     "status": "completed"
    },
    "tags": []
   },
   "outputs": [
    {
     "name": "stdout",
     "output_type": "stream",
     "text": [
      "(1459, 80)\n"
     ]
    },
    {
     "name": "stderr",
     "output_type": "stream",
     "text": [
      "/opt/conda/lib/python3.7/site-packages/ipykernel_launcher.py:7: FutureWarning: Dropping of nuisance columns in DataFrame reductions (with 'numeric_only=None') is deprecated; in a future version this will raise TypeError.  Select only valid columns before calling the reduction.\n",
      "  import sys\n"
     ]
    },
    {
     "data": {
      "text/html": [
       "<div>\n",
       "<style scoped>\n",
       "    .dataframe tbody tr th:only-of-type {\n",
       "        vertical-align: middle;\n",
       "    }\n",
       "\n",
       "    .dataframe tbody tr th {\n",
       "        vertical-align: top;\n",
       "    }\n",
       "\n",
       "    .dataframe thead th {\n",
       "        text-align: right;\n",
       "    }\n",
       "</style>\n",
       "<table border=\"1\" class=\"dataframe\">\n",
       "  <thead>\n",
       "    <tr style=\"text-align: right;\">\n",
       "      <th></th>\n",
       "      <th>Id</th>\n",
       "      <th>MSSubClass</th>\n",
       "      <th>LotFrontage</th>\n",
       "      <th>LotArea</th>\n",
       "      <th>Street</th>\n",
       "      <th>Condition1</th>\n",
       "      <th>Condition2</th>\n",
       "      <th>OverallQual</th>\n",
       "      <th>OverallCond</th>\n",
       "      <th>YearBuilt</th>\n",
       "      <th>...</th>\n",
       "      <th>OpenPorchSF</th>\n",
       "      <th>EnclosedPorch</th>\n",
       "      <th>3SsnPorch</th>\n",
       "      <th>ScreenPorch</th>\n",
       "      <th>PoolArea</th>\n",
       "      <th>MiscVal</th>\n",
       "      <th>MoSold</th>\n",
       "      <th>YrSold</th>\n",
       "      <th>SaleCondition</th>\n",
       "      <th>totalSQ</th>\n",
       "    </tr>\n",
       "  </thead>\n",
       "  <tbody>\n",
       "    <tr>\n",
       "      <th>0</th>\n",
       "      <td>1461</td>\n",
       "      <td>20</td>\n",
       "      <td>80.0</td>\n",
       "      <td>11622</td>\n",
       "      <td>1</td>\n",
       "      <td>0</td>\n",
       "      <td>1</td>\n",
       "      <td>5</td>\n",
       "      <td>6</td>\n",
       "      <td>1961</td>\n",
       "      <td>...</td>\n",
       "      <td>0</td>\n",
       "      <td>0</td>\n",
       "      <td>0</td>\n",
       "      <td>120</td>\n",
       "      <td>0</td>\n",
       "      <td>0</td>\n",
       "      <td>6</td>\n",
       "      <td>2010</td>\n",
       "      <td>1</td>\n",
       "      <td>1778.0</td>\n",
       "    </tr>\n",
       "    <tr>\n",
       "      <th>1</th>\n",
       "      <td>1462</td>\n",
       "      <td>20</td>\n",
       "      <td>81.0</td>\n",
       "      <td>14267</td>\n",
       "      <td>1</td>\n",
       "      <td>1</td>\n",
       "      <td>1</td>\n",
       "      <td>6</td>\n",
       "      <td>6</td>\n",
       "      <td>1958</td>\n",
       "      <td>...</td>\n",
       "      <td>36</td>\n",
       "      <td>0</td>\n",
       "      <td>0</td>\n",
       "      <td>0</td>\n",
       "      <td>0</td>\n",
       "      <td>12500</td>\n",
       "      <td>6</td>\n",
       "      <td>2010</td>\n",
       "      <td>1</td>\n",
       "      <td>2658.0</td>\n",
       "    </tr>\n",
       "    <tr>\n",
       "      <th>2</th>\n",
       "      <td>1463</td>\n",
       "      <td>60</td>\n",
       "      <td>74.0</td>\n",
       "      <td>13830</td>\n",
       "      <td>1</td>\n",
       "      <td>1</td>\n",
       "      <td>1</td>\n",
       "      <td>5</td>\n",
       "      <td>5</td>\n",
       "      <td>1997</td>\n",
       "      <td>...</td>\n",
       "      <td>34</td>\n",
       "      <td>0</td>\n",
       "      <td>0</td>\n",
       "      <td>0</td>\n",
       "      <td>0</td>\n",
       "      <td>0</td>\n",
       "      <td>3</td>\n",
       "      <td>2010</td>\n",
       "      <td>1</td>\n",
       "      <td>2557.0</td>\n",
       "    </tr>\n",
       "    <tr>\n",
       "      <th>3</th>\n",
       "      <td>1464</td>\n",
       "      <td>60</td>\n",
       "      <td>78.0</td>\n",
       "      <td>9978</td>\n",
       "      <td>1</td>\n",
       "      <td>1</td>\n",
       "      <td>1</td>\n",
       "      <td>6</td>\n",
       "      <td>6</td>\n",
       "      <td>1998</td>\n",
       "      <td>...</td>\n",
       "      <td>36</td>\n",
       "      <td>0</td>\n",
       "      <td>0</td>\n",
       "      <td>0</td>\n",
       "      <td>0</td>\n",
       "      <td>0</td>\n",
       "      <td>6</td>\n",
       "      <td>2010</td>\n",
       "      <td>1</td>\n",
       "      <td>2530.0</td>\n",
       "    </tr>\n",
       "    <tr>\n",
       "      <th>4</th>\n",
       "      <td>1465</td>\n",
       "      <td>120</td>\n",
       "      <td>43.0</td>\n",
       "      <td>5005</td>\n",
       "      <td>1</td>\n",
       "      <td>1</td>\n",
       "      <td>1</td>\n",
       "      <td>8</td>\n",
       "      <td>5</td>\n",
       "      <td>1992</td>\n",
       "      <td>...</td>\n",
       "      <td>82</td>\n",
       "      <td>0</td>\n",
       "      <td>0</td>\n",
       "      <td>144</td>\n",
       "      <td>0</td>\n",
       "      <td>0</td>\n",
       "      <td>1</td>\n",
       "      <td>2010</td>\n",
       "      <td>1</td>\n",
       "      <td>2560.0</td>\n",
       "    </tr>\n",
       "  </tbody>\n",
       "</table>\n",
       "<p>5 rows × 43 columns</p>\n",
       "</div>"
      ],
      "text/plain": [
       "     Id  MSSubClass  LotFrontage  LotArea  Street  Condition1  Condition2  \\\n",
       "0  1461          20         80.0    11622       1           0           1   \n",
       "1  1462          20         81.0    14267       1           1           1   \n",
       "2  1463          60         74.0    13830       1           1           1   \n",
       "3  1464          60         78.0     9978       1           1           1   \n",
       "4  1465         120         43.0     5005       1           1           1   \n",
       "\n",
       "   OverallQual  OverallCond  YearBuilt  ...  OpenPorchSF  EnclosedPorch  \\\n",
       "0            5            6       1961  ...            0              0   \n",
       "1            6            6       1958  ...           36              0   \n",
       "2            5            5       1997  ...           34              0   \n",
       "3            6            6       1998  ...           36              0   \n",
       "4            8            5       1992  ...           82              0   \n",
       "\n",
       "   3SsnPorch  ScreenPorch  PoolArea  MiscVal  MoSold  YrSold  SaleCondition  \\\n",
       "0          0          120         0        0       6    2010              1   \n",
       "1          0            0         0    12500       6    2010              1   \n",
       "2          0            0         0        0       3    2010              1   \n",
       "3          0            0         0        0       6    2010              1   \n",
       "4          0          144         0        0       1    2010              1   \n",
       "\n",
       "   totalSQ  \n",
       "0   1778.0  \n",
       "1   2658.0  \n",
       "2   2557.0  \n",
       "3   2530.0  \n",
       "4   2560.0  \n",
       "\n",
       "[5 rows x 43 columns]"
      ]
     },
     "execution_count": 28,
     "metadata": {},
     "output_type": "execute_result"
    }
   ],
   "source": [
    "test='/kaggle/input/house-prices-advanced-regression-techniques/test.csv'\n",
    "testDF=pd.read_csv(test)\n",
    "print(testDF.shape)\n",
    "\n",
    "#Missing Values\n",
    "testDF=testDF.drop_duplicates()\n",
    "testDF=testDF.fillna(testDF.mean())\n",
    "\n",
    "# Feature Engineer\n",
    "testDF['totalSQ']=testDF['1stFlrSF']+testDF['2ndFlrSF']+testDF['TotalBsmtSF'].drop(columns=['1stFlrSF', '2ndFlrSF', \n",
    "                'TotalBsmtSF'])\n",
    "testDF['Condition2']=testDF['Condition2'].apply(lambda x: 1 if x=='Norm' else 0)\n",
    "testDF['Condition1']=testDF['Condition1'].apply(lambda x: 1 if x=='Norm' else 0)\n",
    "testDF['SaleCondition']=testDF['SaleCondition'].apply(lambda x:1 if x == 'Normal' else 0)\n",
    "testDF['Street']=testDF['Street'].fillna(0).apply(lambda x:0 if x =='Grvl' else 1)\n",
    "testDF['CentralAir'] = testDF['CentralAir'].replace({'Y':0, 'N':1})\n",
    "\n",
    "testDF = testDF.select_dtypes(include=['int16', 'int32', 'int64', 'float16', 'float32', 'float64'])\n",
    "testDF.head()"
   ]
  },
  {
   "cell_type": "code",
   "execution_count": 29,
   "id": "914e3bdc",
   "metadata": {
    "execution": {
     "iopub.execute_input": "2022-09-29T15:31:26.230514Z",
     "iopub.status.busy": "2022-09-29T15:31:26.230106Z",
     "iopub.status.idle": "2022-09-29T15:31:26.236844Z",
     "shell.execute_reply": "2022-09-29T15:31:26.235779Z"
    },
    "papermill": {
     "duration": 0.030483,
     "end_time": "2022-09-29T15:31:26.239242",
     "exception": false,
     "start_time": "2022-09-29T15:31:26.208759",
     "status": "completed"
    },
    "tags": []
   },
   "outputs": [],
   "source": [
    "testIDs=testDF['Id']\n",
    "cols=X_test.columns\n",
    "testDF=testDF[cols]"
   ]
  },
  {
   "cell_type": "code",
   "execution_count": 30,
   "id": "fdb5df3d",
   "metadata": {
    "execution": {
     "iopub.execute_input": "2022-09-29T15:31:26.280946Z",
     "iopub.status.busy": "2022-09-29T15:31:26.280563Z",
     "iopub.status.idle": "2022-09-29T15:31:26.292560Z",
     "shell.execute_reply": "2022-09-29T15:31:26.291696Z"
    },
    "papermill": {
     "duration": 0.03596,
     "end_time": "2022-09-29T15:31:26.295261",
     "exception": false,
     "start_time": "2022-09-29T15:31:26.259301",
     "status": "completed"
    },
    "tags": []
   },
   "outputs": [],
   "source": [
    "#Final Prediction\n",
    "finalPred=xgbFinal.predict(testDF).round(2)\n",
    "tupDF=list(zip(testIDs,finalPred))"
   ]
  },
  {
   "cell_type": "code",
   "execution_count": 31,
   "id": "73eb2ee9",
   "metadata": {
    "execution": {
     "iopub.execute_input": "2022-09-29T15:31:26.339771Z",
     "iopub.status.busy": "2022-09-29T15:31:26.339391Z",
     "iopub.status.idle": "2022-09-29T15:31:26.352760Z",
     "shell.execute_reply": "2022-09-29T15:31:26.351965Z"
    },
    "papermill": {
     "duration": 0.037372,
     "end_time": "2022-09-29T15:31:26.354949",
     "exception": false,
     "start_time": "2022-09-29T15:31:26.317577",
     "status": "completed"
    },
    "tags": []
   },
   "outputs": [
    {
     "data": {
      "text/html": [
       "<div>\n",
       "<style scoped>\n",
       "    .dataframe tbody tr th:only-of-type {\n",
       "        vertical-align: middle;\n",
       "    }\n",
       "\n",
       "    .dataframe tbody tr th {\n",
       "        vertical-align: top;\n",
       "    }\n",
       "\n",
       "    .dataframe thead th {\n",
       "        text-align: right;\n",
       "    }\n",
       "</style>\n",
       "<table border=\"1\" class=\"dataframe\">\n",
       "  <thead>\n",
       "    <tr style=\"text-align: right;\">\n",
       "      <th></th>\n",
       "      <th>Id</th>\n",
       "      <th>SalePrice</th>\n",
       "    </tr>\n",
       "  </thead>\n",
       "  <tbody>\n",
       "    <tr>\n",
       "      <th>0</th>\n",
       "      <td>1461</td>\n",
       "      <td>128618.640625</td>\n",
       "    </tr>\n",
       "    <tr>\n",
       "      <th>1</th>\n",
       "      <td>1462</td>\n",
       "      <td>171621.796875</td>\n",
       "    </tr>\n",
       "    <tr>\n",
       "      <th>2</th>\n",
       "      <td>1463</td>\n",
       "      <td>198831.015625</td>\n",
       "    </tr>\n",
       "    <tr>\n",
       "      <th>3</th>\n",
       "      <td>1464</td>\n",
       "      <td>201618.687500</td>\n",
       "    </tr>\n",
       "    <tr>\n",
       "      <th>4</th>\n",
       "      <td>1465</td>\n",
       "      <td>207142.156250</td>\n",
       "    </tr>\n",
       "  </tbody>\n",
       "</table>\n",
       "</div>"
      ],
      "text/plain": [
       "     Id      SalePrice\n",
       "0  1461  128618.640625\n",
       "1  1462  171621.796875\n",
       "2  1463  198831.015625\n",
       "3  1464  201618.687500\n",
       "4  1465  207142.156250"
      ]
     },
     "execution_count": 31,
     "metadata": {},
     "output_type": "execute_result"
    }
   ],
   "source": [
    "output=pd.DataFrame(tupDF, columns=['Id','SalePrice']).sort_values(by='Id').reset_index(drop=True)\n",
    "output.head()"
   ]
  },
  {
   "cell_type": "code",
   "execution_count": 32,
   "id": "d9054be1",
   "metadata": {
    "execution": {
     "iopub.execute_input": "2022-09-29T15:31:26.397730Z",
     "iopub.status.busy": "2022-09-29T15:31:26.396993Z",
     "iopub.status.idle": "2022-09-29T15:31:26.409809Z",
     "shell.execute_reply": "2022-09-29T15:31:26.408048Z"
    },
    "papermill": {
     "duration": 0.037219,
     "end_time": "2022-09-29T15:31:26.412450",
     "exception": false,
     "start_time": "2022-09-29T15:31:26.375231",
     "status": "completed"
    },
    "tags": []
   },
   "outputs": [
    {
     "name": "stdout",
     "output_type": "stream",
     "text": [
      "(1459, 2)\n",
      "Output Created\n"
     ]
    }
   ],
   "source": [
    "print(output.shape)\n",
    "output.to_csv('submission.csv', index=False)\n",
    "print(\"Output Created\")"
   ]
  }
 ],
 "metadata": {
  "kernelspec": {
   "display_name": "Python 3",
   "language": "python",
   "name": "python3"
  },
  "language_info": {
   "codemirror_mode": {
    "name": "ipython",
    "version": 3
   },
   "file_extension": ".py",
   "mimetype": "text/x-python",
   "name": "python",
   "nbconvert_exporter": "python",
   "pygments_lexer": "ipython3",
   "version": "3.7.12"
  },
  "papermill": {
   "default_parameters": {},
   "duration": 40.467068,
   "end_time": "2022-09-29T15:31:27.254883",
   "environment_variables": {},
   "exception": null,
   "input_path": "__notebook__.ipynb",
   "output_path": "__notebook__.ipynb",
   "parameters": {},
   "start_time": "2022-09-29T15:30:46.787815",
   "version": "2.3.4"
  }
 },
 "nbformat": 4,
 "nbformat_minor": 5
}
