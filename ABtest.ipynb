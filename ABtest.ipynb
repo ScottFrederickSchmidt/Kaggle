{
 "cells": [
  {
   "cell_type": "markdown",
   "id": "e82425cb",
   "metadata": {
    "papermill": {
     "duration": 0.005658,
     "end_time": "2023-07-05T02:42:02.830998",
     "exception": false,
     "start_time": "2023-07-05T02:42:02.825340",
     "status": "completed"
    },
    "tags": []
   },
   "source": [
    "# A/B Test\n",
    "Generally, A/B tests have two variants, in this case a control and treatment group. We will analyze the converted group to see the effectiveess on treatment. Before going further, here is what the data looks like."
   ]
  },
  {
   "cell_type": "code",
   "execution_count": 1,
   "id": "dd381092",
   "metadata": {
    "execution": {
     "iopub.execute_input": "2023-07-05T02:42:02.842273Z",
     "iopub.status.busy": "2023-07-05T02:42:02.841822Z",
     "iopub.status.idle": "2023-07-05T02:42:03.511670Z",
     "shell.execute_reply": "2023-07-05T02:42:03.510292Z"
    },
    "papermill": {
     "duration": 0.678871,
     "end_time": "2023-07-05T02:42:03.514681",
     "exception": false,
     "start_time": "2023-07-05T02:42:02.835810",
     "status": "completed"
    },
    "tags": []
   },
   "outputs": [
    {
     "data": {
      "text/html": [
       "<div>\n",
       "<style scoped>\n",
       "    .dataframe tbody tr th:only-of-type {\n",
       "        vertical-align: middle;\n",
       "    }\n",
       "\n",
       "    .dataframe tbody tr th {\n",
       "        vertical-align: top;\n",
       "    }\n",
       "\n",
       "    .dataframe thead th {\n",
       "        text-align: right;\n",
       "    }\n",
       "</style>\n",
       "<table border=\"1\" class=\"dataframe\">\n",
       "  <thead>\n",
       "    <tr style=\"text-align: right;\">\n",
       "      <th></th>\n",
       "      <th>user_id</th>\n",
       "      <th>timestamp</th>\n",
       "      <th>group</th>\n",
       "      <th>landing_page</th>\n",
       "      <th>converted</th>\n",
       "    </tr>\n",
       "  </thead>\n",
       "  <tbody>\n",
       "    <tr>\n",
       "      <th>0</th>\n",
       "      <td>851104</td>\n",
       "      <td>2017-01-21 22:11:48.556739</td>\n",
       "      <td>control</td>\n",
       "      <td>old_page</td>\n",
       "      <td>0</td>\n",
       "    </tr>\n",
       "    <tr>\n",
       "      <th>1</th>\n",
       "      <td>804228</td>\n",
       "      <td>2017-01-12 08:01:45.159739</td>\n",
       "      <td>control</td>\n",
       "      <td>old_page</td>\n",
       "      <td>0</td>\n",
       "    </tr>\n",
       "    <tr>\n",
       "      <th>2</th>\n",
       "      <td>661590</td>\n",
       "      <td>2017-01-11 16:55:06.154213</td>\n",
       "      <td>treatment</td>\n",
       "      <td>new_page</td>\n",
       "      <td>0</td>\n",
       "    </tr>\n",
       "    <tr>\n",
       "      <th>3</th>\n",
       "      <td>853541</td>\n",
       "      <td>2017-01-08 18:28:03.143765</td>\n",
       "      <td>treatment</td>\n",
       "      <td>new_page</td>\n",
       "      <td>0</td>\n",
       "    </tr>\n",
       "    <tr>\n",
       "      <th>4</th>\n",
       "      <td>864975</td>\n",
       "      <td>2017-01-21 01:52:26.210827</td>\n",
       "      <td>control</td>\n",
       "      <td>old_page</td>\n",
       "      <td>1</td>\n",
       "    </tr>\n",
       "  </tbody>\n",
       "</table>\n",
       "</div>"
      ],
      "text/plain": [
       "   user_id                   timestamp      group landing_page  converted\n",
       "0   851104  2017-01-21 22:11:48.556739    control     old_page          0\n",
       "1   804228  2017-01-12 08:01:45.159739    control     old_page          0\n",
       "2   661590  2017-01-11 16:55:06.154213  treatment     new_page          0\n",
       "3   853541  2017-01-08 18:28:03.143765  treatment     new_page          0\n",
       "4   864975  2017-01-21 01:52:26.210827    control     old_page          1"
      ]
     },
     "execution_count": 1,
     "metadata": {},
     "output_type": "execute_result"
    }
   ],
   "source": [
    "import pandas as pd\n",
    "import numpy as np\n",
    "file='/kaggle/input/ab-testing/ab_data.csv'\n",
    "df=pd.read_csv(file)\n",
    "df.head()"
   ]
  },
  {
   "cell_type": "markdown",
   "id": "e7e10977",
   "metadata": {
    "papermill": {
     "duration": 0.00463,
     "end_time": "2023-07-05T02:42:03.524255",
     "exception": false,
     "start_time": "2023-07-05T02:42:03.519625",
     "status": "completed"
    },
    "tags": []
   },
   "source": [
    "# Brief Analysis\n",
    "There is an efficient amount of data (more than 100) of balanced data between teatment and control."
   ]
  },
  {
   "cell_type": "code",
   "execution_count": 2,
   "id": "24741f94",
   "metadata": {
    "execution": {
     "iopub.execute_input": "2023-07-05T02:42:03.535687Z",
     "iopub.status.busy": "2023-07-05T02:42:03.535224Z",
     "iopub.status.idle": "2023-07-05T02:42:03.597941Z",
     "shell.execute_reply": "2023-07-05T02:42:03.596572Z"
    },
    "papermill": {
     "duration": 0.071833,
     "end_time": "2023-07-05T02:42:03.600895",
     "exception": false,
     "start_time": "2023-07-05T02:42:03.529062",
     "status": "completed"
    },
    "tags": []
   },
   "outputs": [
    {
     "data": {
      "text/plain": [
       "treatment    147276\n",
       "control      147202\n",
       "Name: group, dtype: int64"
      ]
     },
     "execution_count": 2,
     "metadata": {},
     "output_type": "execute_result"
    }
   ],
   "source": [
    "df['group'].value_counts()"
   ]
  },
  {
   "cell_type": "markdown",
   "id": "32c2e77c",
   "metadata": {
    "papermill": {
     "duration": 0.004559,
     "end_time": "2023-07-05T02:42:03.610624",
     "exception": false,
     "start_time": "2023-07-05T02:42:03.606065",
     "status": "completed"
    },
    "tags": []
   },
   "source": [
    "# Descriptive Stats"
   ]
  },
  {
   "cell_type": "code",
   "execution_count": 3,
   "id": "1b77496a",
   "metadata": {
    "execution": {
     "iopub.execute_input": "2023-07-05T02:42:03.622699Z",
     "iopub.status.busy": "2023-07-05T02:42:03.622080Z",
     "iopub.status.idle": "2023-07-05T02:42:03.673519Z",
     "shell.execute_reply": "2023-07-05T02:42:03.672300Z"
    },
    "papermill": {
     "duration": 0.060697,
     "end_time": "2023-07-05T02:42:03.676272",
     "exception": false,
     "start_time": "2023-07-05T02:42:03.615575",
     "status": "completed"
    },
    "tags": []
   },
   "outputs": [
    {
     "data": {
      "text/html": [
       "<div>\n",
       "<style scoped>\n",
       "    .dataframe tbody tr th:only-of-type {\n",
       "        vertical-align: middle;\n",
       "    }\n",
       "\n",
       "    .dataframe tbody tr th {\n",
       "        vertical-align: top;\n",
       "    }\n",
       "\n",
       "    .dataframe thead th {\n",
       "        text-align: right;\n",
       "    }\n",
       "</style>\n",
       "<table border=\"1\" class=\"dataframe\">\n",
       "  <thead>\n",
       "    <tr style=\"text-align: right;\">\n",
       "      <th></th>\n",
       "      <th>converted</th>\n",
       "    </tr>\n",
       "  </thead>\n",
       "  <tbody>\n",
       "    <tr>\n",
       "      <th>count</th>\n",
       "      <td>294478.000000</td>\n",
       "    </tr>\n",
       "    <tr>\n",
       "      <th>mean</th>\n",
       "      <td>0.119659</td>\n",
       "    </tr>\n",
       "    <tr>\n",
       "      <th>std</th>\n",
       "      <td>0.324563</td>\n",
       "    </tr>\n",
       "    <tr>\n",
       "      <th>min</th>\n",
       "      <td>0.000000</td>\n",
       "    </tr>\n",
       "    <tr>\n",
       "      <th>25%</th>\n",
       "      <td>0.000000</td>\n",
       "    </tr>\n",
       "    <tr>\n",
       "      <th>50%</th>\n",
       "      <td>0.000000</td>\n",
       "    </tr>\n",
       "    <tr>\n",
       "      <th>75%</th>\n",
       "      <td>0.000000</td>\n",
       "    </tr>\n",
       "    <tr>\n",
       "      <th>max</th>\n",
       "      <td>1.000000</td>\n",
       "    </tr>\n",
       "  </tbody>\n",
       "</table>\n",
       "</div>"
      ],
      "text/plain": [
       "           converted\n",
       "count  294478.000000\n",
       "mean        0.119659\n",
       "std         0.324563\n",
       "min         0.000000\n",
       "25%         0.000000\n",
       "50%         0.000000\n",
       "75%         0.000000\n",
       "max         1.000000"
      ]
     },
     "execution_count": 3,
     "metadata": {},
     "output_type": "execute_result"
    }
   ],
   "source": [
    "df[['group', 'converted']].describe()"
   ]
  },
  {
   "cell_type": "markdown",
   "id": "eb3708c5",
   "metadata": {
    "papermill": {
     "duration": 0.005012,
     "end_time": "2023-07-05T02:42:03.686625",
     "exception": false,
     "start_time": "2023-07-05T02:42:03.681613",
     "status": "completed"
    },
    "tags": []
   },
   "source": [
    "# Calculate Conversion for Treatment and Control Groups"
   ]
  },
  {
   "cell_type": "code",
   "execution_count": 4,
   "id": "7f9785e7",
   "metadata": {
    "execution": {
     "iopub.execute_input": "2023-07-05T02:42:03.699296Z",
     "iopub.status.busy": "2023-07-05T02:42:03.698816Z",
     "iopub.status.idle": "2023-07-05T02:42:03.845429Z",
     "shell.execute_reply": "2023-07-05T02:42:03.844347Z"
    },
    "papermill": {
     "duration": 0.156498,
     "end_time": "2023-07-05T02:42:03.848362",
     "exception": false,
     "start_time": "2023-07-05T02:42:03.691864",
     "status": "completed"
    },
    "tags": []
   },
   "outputs": [
    {
     "name": "stdout",
     "output_type": "stream",
     "text": [
      "control effectiveness as percent 0.1204\n",
      "treatment effectiveness as percent 0.1189\n"
     ]
    }
   ],
   "source": [
    "control = df[df['group'] == 'control']\n",
    "control_perc=control['converted'].mean(numeric_only=True).round(4)\n",
    "print(\"control effectiveness as percent\", control_perc)\n",
    "\n",
    "treatment = df[df['group']=='treatment']\n",
    "treatment_perc = treatment['converted'].mean(numeric_only=True).round(4)\n",
    "print(\"treatment effectiveness as percent\", treatment_perc)"
   ]
  },
  {
   "cell_type": "markdown",
   "id": "754ff826",
   "metadata": {
    "papermill": {
     "duration": 0.00495,
     "end_time": "2023-07-05T02:42:03.860615",
     "exception": false,
     "start_time": "2023-07-05T02:42:03.855665",
     "status": "completed"
    },
    "tags": []
   },
   "source": [
    "# Statistical Significance "
   ]
  },
  {
   "cell_type": "code",
   "execution_count": 5,
   "id": "ea72e44d",
   "metadata": {
    "execution": {
     "iopub.execute_input": "2023-07-05T02:42:03.873444Z",
     "iopub.status.busy": "2023-07-05T02:42:03.872709Z",
     "iopub.status.idle": "2023-07-05T02:42:05.310082Z",
     "shell.execute_reply": "2023-07-05T02:42:05.308268Z"
    },
    "papermill": {
     "duration": 1.447086,
     "end_time": "2023-07-05T02:42:05.313028",
     "exception": false,
     "start_time": "2023-07-05T02:42:03.865942",
     "status": "completed"
    },
    "tags": []
   },
   "outputs": [
    {
     "name": "stdout",
     "output_type": "stream",
     "text": [
      "0.0  t_statistic\n",
      "1.0  p_value\n",
      "Fail to reject the null hypothesis.\n",
      "There is no significant difference between the control and treatment groups.\n"
     ]
    }
   ],
   "source": [
    "import scipy.stats as stats\n",
    "\n",
    "# Get the control and treatment group converted as a list:\n",
    "control_group=list(control['converted'].reset_index(drop=True))\n",
    "treatment_group=list(control['converted'].reset_index(drop=True))\n",
    "\n",
    "# Set up the hypotheses\n",
    "# Null Hypothesis (H0): There is no significant difference between the means of the control and treatment groups.\n",
    "# Alternative Hypothesis (H1): There is a significant difference between the means of the control and treatment groups.\n",
    "# The test will be a two-tailed test.\n",
    "alpha = 0.05\n",
    "\n",
    "# Perform an independent samples t-test\n",
    "t_statistic, p_value = stats.ttest_ind(control_group, treatment_group)\n",
    "print(t_statistic, \" t_statistic\")\n",
    "print(p_value, \" p_value\")\n",
    "\n",
    "# Determine statistical significance\n",
    "if p_value < alpha:\n",
    "    print(\"Reject the null hypothesis.\")\n",
    "    print(\"There is a significant difference between the control and treatment groups.\")\n",
    "else:\n",
    "    print(\"Fail to reject the null hypothesis.\")\n",
    "    print(\"There is no significant difference between the control and treatment groups.\")"
   ]
  },
  {
   "cell_type": "code",
   "execution_count": 6,
   "id": "ee06cb93",
   "metadata": {
    "execution": {
     "iopub.execute_input": "2023-07-05T02:42:05.327121Z",
     "iopub.status.busy": "2023-07-05T02:42:05.326603Z",
     "iopub.status.idle": "2023-07-05T02:42:07.456064Z",
     "shell.execute_reply": "2023-07-05T02:42:07.453872Z"
    },
    "papermill": {
     "duration": 2.141797,
     "end_time": "2023-07-05T02:42:07.460473",
     "exception": false,
     "start_time": "2023-07-05T02:42:05.318676",
     "status": "completed"
    },
    "tags": []
   },
   "outputs": [
    {
     "name": "stdout",
     "output_type": "stream",
     "text": [
      "Z-score: 0.0\n",
      "P-value: 1.0\n"
     ]
    }
   ],
   "source": [
    "import statsmodels.api as sm\n",
    "\n",
    "# Example data for two groups\n",
    "group1_converted = np.array(treatment_group)\n",
    "group2_converted = np.array(control_group)\n",
    "\n",
    "# Perform the proportion test\n",
    "successes = np.array([group1_converted.sum(), group2_converted.sum()])\n",
    "trials = np.array([len(group1_converted), len(group2_converted)])\n",
    "z_score, p_value = sm.stats.proportions_ztest(successes, trials)\n",
    "\n",
    "# Round to four decimal places\n",
    "z_score = round(z_score, 4)\n",
    "p_value = round(p_value, 4)\n",
    "\n",
    "# Print the results\n",
    "print(f\"Z-score: {z_score}\")\n",
    "print(f\"P-value: {p_value}\")"
   ]
  },
  {
   "cell_type": "markdown",
   "id": "846b8617",
   "metadata": {
    "papermill": {
     "duration": 0.005541,
     "end_time": "2023-07-05T02:42:07.472718",
     "exception": false,
     "start_time": "2023-07-05T02:42:07.467177",
     "status": "completed"
    },
    "tags": []
   },
   "source": [
    "**P-value:** 0.5271 shows that the data is not significant. A lower value (one below .05) would of shown the treatment was effective. A higher value close to 1 would mean the data is totally random. Therefore, our value of 0.5271 is more in the middle. \n",
    "\n"
   ]
  }
 ],
 "metadata": {
  "kernelspec": {
   "display_name": "Python 3",
   "language": "python",
   "name": "python3"
  },
  "language_info": {
   "codemirror_mode": {
    "name": "ipython",
    "version": 3
   },
   "file_extension": ".py",
   "mimetype": "text/x-python",
   "name": "python",
   "nbconvert_exporter": "python",
   "pygments_lexer": "ipython3",
   "version": "3.10.10"
  },
  "papermill": {
   "default_parameters": {},
   "duration": 21.115201,
   "end_time": "2023-07-05T02:42:08.605133",
   "environment_variables": {},
   "exception": null,
   "input_path": "__notebook__.ipynb",
   "output_path": "__notebook__.ipynb",
   "parameters": {},
   "start_time": "2023-07-05T02:41:47.489932",
   "version": "2.4.0"
  }
 },
 "nbformat": 4,
 "nbformat_minor": 5
}
