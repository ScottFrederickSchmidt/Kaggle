{
 "cells": [
  {
   "cell_type": "markdown",
   "id": "86ee537e",
   "metadata": {
    "papermill": {
     "duration": 0.033304,
     "end_time": "2022-10-04T18:22:35.287740",
     "exception": false,
     "start_time": "2022-10-04T18:22:35.254436",
     "status": "completed"
    },
    "tags": []
   },
   "source": [
    "# Random Forest Grid Search\n",
    "\n",
    "Machine Learning Titanic. \n",
    "* Decision tree scores top 6%\n",
    "* Random forest top 5%\n",
    "* xgBoost top 5%\n",
    "\n",
    "1. https://github.com/ScottySchmidt/Kaggle/blob/main/Titanic.ipynb\n",
    "2. https://github.com/ScottySchmidt/Kaggle/blob/main/xgbTop5%25.ipynb\n",
    "\n",
    "My goal is to try to use GridSearch and tunning more extensively on random forest to try to get a top 1%."
   ]
  },
  {
   "cell_type": "markdown",
   "id": "af07173f",
   "metadata": {
    "papermill": {
     "duration": 0.031546,
     "end_time": "2022-10-04T18:22:35.350474",
     "exception": false,
     "start_time": "2022-10-04T18:22:35.318928",
     "status": "completed"
    },
    "tags": []
   },
   "source": [
    "# Train Data\n",
    "Train.csv will contain the details of a subset of the passengers on board (891 to be exact) and whether they survive or not. The shape of the train data is (891, 12). "
   ]
  },
  {
   "cell_type": "code",
   "execution_count": 1,
   "id": "48f2fa7c",
   "metadata": {
    "execution": {
     "iopub.execute_input": "2022-10-04T18:22:35.416839Z",
     "iopub.status.busy": "2022-10-04T18:22:35.416067Z",
     "iopub.status.idle": "2022-10-04T18:22:37.153001Z",
     "shell.execute_reply": "2022-10-04T18:22:37.151862Z"
    },
    "papermill": {
     "duration": 1.772632,
     "end_time": "2022-10-04T18:22:37.155805",
     "exception": false,
     "start_time": "2022-10-04T18:22:35.383173",
     "status": "completed"
    },
    "tags": []
   },
   "outputs": [
    {
     "name": "stdout",
     "output_type": "stream",
     "text": [
      "(891, 12)\n"
     ]
    },
    {
     "data": {
      "text/html": [
       "<div>\n",
       "<style scoped>\n",
       "    .dataframe tbody tr th:only-of-type {\n",
       "        vertical-align: middle;\n",
       "    }\n",
       "\n",
       "    .dataframe tbody tr th {\n",
       "        vertical-align: top;\n",
       "    }\n",
       "\n",
       "    .dataframe thead th {\n",
       "        text-align: right;\n",
       "    }\n",
       "</style>\n",
       "<table border=\"1\" class=\"dataframe\">\n",
       "  <thead>\n",
       "    <tr style=\"text-align: right;\">\n",
       "      <th></th>\n",
       "      <th>PassengerId</th>\n",
       "      <th>Survived</th>\n",
       "      <th>Pclass</th>\n",
       "      <th>Name</th>\n",
       "      <th>Sex</th>\n",
       "      <th>Age</th>\n",
       "      <th>SibSp</th>\n",
       "      <th>Parch</th>\n",
       "      <th>Ticket</th>\n",
       "      <th>Fare</th>\n",
       "      <th>Cabin</th>\n",
       "      <th>Embarked</th>\n",
       "    </tr>\n",
       "  </thead>\n",
       "  <tbody>\n",
       "    <tr>\n",
       "      <th>0</th>\n",
       "      <td>1</td>\n",
       "      <td>0</td>\n",
       "      <td>3</td>\n",
       "      <td>Braund, Mr. Owen Harris</td>\n",
       "      <td>male</td>\n",
       "      <td>22.0</td>\n",
       "      <td>1</td>\n",
       "      <td>0</td>\n",
       "      <td>A/5 21171</td>\n",
       "      <td>7.2500</td>\n",
       "      <td>NaN</td>\n",
       "      <td>S</td>\n",
       "    </tr>\n",
       "    <tr>\n",
       "      <th>1</th>\n",
       "      <td>2</td>\n",
       "      <td>1</td>\n",
       "      <td>1</td>\n",
       "      <td>Cumings, Mrs. John Bradley (Florence Briggs Th...</td>\n",
       "      <td>female</td>\n",
       "      <td>38.0</td>\n",
       "      <td>1</td>\n",
       "      <td>0</td>\n",
       "      <td>PC 17599</td>\n",
       "      <td>71.2833</td>\n",
       "      <td>C85</td>\n",
       "      <td>C</td>\n",
       "    </tr>\n",
       "    <tr>\n",
       "      <th>2</th>\n",
       "      <td>3</td>\n",
       "      <td>1</td>\n",
       "      <td>3</td>\n",
       "      <td>Heikkinen, Miss. Laina</td>\n",
       "      <td>female</td>\n",
       "      <td>26.0</td>\n",
       "      <td>0</td>\n",
       "      <td>0</td>\n",
       "      <td>STON/O2. 3101282</td>\n",
       "      <td>7.9250</td>\n",
       "      <td>NaN</td>\n",
       "      <td>S</td>\n",
       "    </tr>\n",
       "    <tr>\n",
       "      <th>3</th>\n",
       "      <td>4</td>\n",
       "      <td>1</td>\n",
       "      <td>1</td>\n",
       "      <td>Futrelle, Mrs. Jacques Heath (Lily May Peel)</td>\n",
       "      <td>female</td>\n",
       "      <td>35.0</td>\n",
       "      <td>1</td>\n",
       "      <td>0</td>\n",
       "      <td>113803</td>\n",
       "      <td>53.1000</td>\n",
       "      <td>C123</td>\n",
       "      <td>S</td>\n",
       "    </tr>\n",
       "    <tr>\n",
       "      <th>4</th>\n",
       "      <td>5</td>\n",
       "      <td>0</td>\n",
       "      <td>3</td>\n",
       "      <td>Allen, Mr. William Henry</td>\n",
       "      <td>male</td>\n",
       "      <td>35.0</td>\n",
       "      <td>0</td>\n",
       "      <td>0</td>\n",
       "      <td>373450</td>\n",
       "      <td>8.0500</td>\n",
       "      <td>NaN</td>\n",
       "      <td>S</td>\n",
       "    </tr>\n",
       "  </tbody>\n",
       "</table>\n",
       "</div>"
      ],
      "text/plain": [
       "   PassengerId  Survived  Pclass  \\\n",
       "0            1         0       3   \n",
       "1            2         1       1   \n",
       "2            3         1       3   \n",
       "3            4         1       1   \n",
       "4            5         0       3   \n",
       "\n",
       "                                                Name     Sex   Age  SibSp  \\\n",
       "0                            Braund, Mr. Owen Harris    male  22.0      1   \n",
       "1  Cumings, Mrs. John Bradley (Florence Briggs Th...  female  38.0      1   \n",
       "2                             Heikkinen, Miss. Laina  female  26.0      0   \n",
       "3       Futrelle, Mrs. Jacques Heath (Lily May Peel)  female  35.0      1   \n",
       "4                           Allen, Mr. William Henry    male  35.0      0   \n",
       "\n",
       "   Parch            Ticket     Fare Cabin Embarked  \n",
       "0      0         A/5 21171   7.2500   NaN        S  \n",
       "1      0          PC 17599  71.2833   C85        C  \n",
       "2      0  STON/O2. 3101282   7.9250   NaN        S  \n",
       "3      0            113803  53.1000  C123        S  \n",
       "4      0            373450   8.0500   NaN        S  "
      ]
     },
     "execution_count": 1,
     "metadata": {},
     "output_type": "execute_result"
    }
   ],
   "source": [
    "import numpy as np\n",
    "import pandas as pd\n",
    "import seaborn as sns\n",
    "import matplotlib.pyplot as plt\n",
    "from sklearn.model_selection import train_test_split, cross_validate\n",
    "from statistics import mean\n",
    "from sklearn.metrics import accuracy_score, classification_report, mean_absolute_error, mean_squared_error, r2_score\n",
    "from sklearn.datasets import make_classification\n",
    "from sklearn import ensemble\n",
    "import sklearn.metrics as metrics\n",
    "import time\n",
    "from math import sqrt\n",
    "\n",
    "train=r'/kaggle/input/titanic/train.csv'\n",
    "test=r'/kaggle/input/titanic/test.csv' \n",
    "\n",
    "df=pd.read_csv(train)\n",
    "test=pd.read_csv(test)\n",
    "\n",
    "print(df.shape)\n",
    "df.head()"
   ]
  },
  {
   "cell_type": "code",
   "execution_count": 2,
   "id": "46d90254",
   "metadata": {
    "execution": {
     "iopub.execute_input": "2022-10-04T18:22:37.222224Z",
     "iopub.status.busy": "2022-10-04T18:22:37.221939Z",
     "iopub.status.idle": "2022-10-04T18:22:37.229974Z",
     "shell.execute_reply": "2022-10-04T18:22:37.229051Z"
    },
    "papermill": {
     "duration": 0.043609,
     "end_time": "2022-10-04T18:22:37.232145",
     "exception": false,
     "start_time": "2022-10-04T18:22:37.188536",
     "status": "completed"
    },
    "tags": []
   },
   "outputs": [
    {
     "data": {
      "text/plain": [
       "PassengerId      int64\n",
       "Survived         int64\n",
       "Pclass           int64\n",
       "Name            object\n",
       "Sex             object\n",
       "Age            float64\n",
       "SibSp            int64\n",
       "Parch            int64\n",
       "Ticket          object\n",
       "Fare           float64\n",
       "Cabin           object\n",
       "Embarked        object\n",
       "dtype: object"
      ]
     },
     "execution_count": 2,
     "metadata": {},
     "output_type": "execute_result"
    }
   ],
   "source": [
    "df.dtypes"
   ]
  },
  {
   "cell_type": "code",
   "execution_count": 3,
   "id": "27971b77",
   "metadata": {
    "execution": {
     "iopub.execute_input": "2022-10-04T18:22:37.301209Z",
     "iopub.status.busy": "2022-10-04T18:22:37.300915Z",
     "iopub.status.idle": "2022-10-04T18:22:37.328686Z",
     "shell.execute_reply": "2022-10-04T18:22:37.327293Z"
    },
    "papermill": {
     "duration": 0.066666,
     "end_time": "2022-10-04T18:22:37.331602",
     "exception": false,
     "start_time": "2022-10-04T18:22:37.264936",
     "status": "completed"
    },
    "tags": []
   },
   "outputs": [
    {
     "name": "stdout",
     "output_type": "stream",
     "text": [
      "Total no of duplicate values in Training Dataset = 0\n"
     ]
    },
    {
     "data": {
      "text/html": [
       "<div>\n",
       "<style scoped>\n",
       "    .dataframe tbody tr th:only-of-type {\n",
       "        vertical-align: middle;\n",
       "    }\n",
       "\n",
       "    .dataframe tbody tr th {\n",
       "        vertical-align: top;\n",
       "    }\n",
       "\n",
       "    .dataframe thead th {\n",
       "        text-align: right;\n",
       "    }\n",
       "</style>\n",
       "<table border=\"1\" class=\"dataframe\">\n",
       "  <thead>\n",
       "    <tr style=\"text-align: right;\">\n",
       "      <th></th>\n",
       "      <th>PassengerId</th>\n",
       "      <th>Survived</th>\n",
       "      <th>Pclass</th>\n",
       "      <th>Name</th>\n",
       "      <th>Sex</th>\n",
       "      <th>Age</th>\n",
       "      <th>SibSp</th>\n",
       "      <th>Parch</th>\n",
       "      <th>Ticket</th>\n",
       "      <th>Fare</th>\n",
       "      <th>Cabin</th>\n",
       "      <th>Embarked</th>\n",
       "    </tr>\n",
       "  </thead>\n",
       "  <tbody>\n",
       "  </tbody>\n",
       "</table>\n",
       "</div>"
      ],
      "text/plain": [
       "Empty DataFrame\n",
       "Columns: [PassengerId, Survived, Pclass, Name, Sex, Age, SibSp, Parch, Ticket, Fare, Cabin, Embarked]\n",
       "Index: []"
      ]
     },
     "execution_count": 3,
     "metadata": {},
     "output_type": "execute_result"
    }
   ],
   "source": [
    "#Check Duplicates:\n",
    "dupstr = df.duplicated()\n",
    "print('Total no of duplicate values in Training Dataset = %d' % (dupstr.sum()))\n",
    "df[dupstr]"
   ]
  },
  {
   "cell_type": "code",
   "execution_count": 4,
   "id": "1a9e4066",
   "metadata": {
    "execution": {
     "iopub.execute_input": "2022-10-04T18:22:37.402553Z",
     "iopub.status.busy": "2022-10-04T18:22:37.401925Z",
     "iopub.status.idle": "2022-10-04T18:22:37.411669Z",
     "shell.execute_reply": "2022-10-04T18:22:37.410464Z"
    },
    "papermill": {
     "duration": 0.047508,
     "end_time": "2022-10-04T18:22:37.414471",
     "exception": false,
     "start_time": "2022-10-04T18:22:37.366963",
     "status": "completed"
    },
    "tags": []
   },
   "outputs": [
    {
     "name": "stdout",
     "output_type": "stream",
     "text": [
      "Missing data by column as a percent:\n",
      "Cabin          0.771044\n",
      "Age            0.198653\n",
      "Embarked       0.002245\n",
      "PassengerId    0.000000\n",
      "Survived       0.000000\n",
      "dtype: float64\n"
     ]
    }
   ],
   "source": [
    "#search for columns with missing values:\n",
    "def findNA():\n",
    "    print(\"Missing data by column as a percent:\")\n",
    "    findNA=df.isnull().sum().sort_values(ascending=False)/len(df)\n",
    "    print(findNA.head())\n",
    "findNA() "
   ]
  },
  {
   "cell_type": "markdown",
   "id": "6318bfe3",
   "metadata": {
    "papermill": {
     "duration": 0.035361,
     "end_time": "2022-10-04T18:22:37.484582",
     "exception": false,
     "start_time": "2022-10-04T18:22:37.449221",
     "status": "completed"
    },
    "tags": []
   },
   "source": [
    "# Feature Engineer\n",
    "We need to replace male and female into numbers. This is a very important part of the process because gender is one of the highest predictors on if a person survived or not."
   ]
  },
  {
   "cell_type": "code",
   "execution_count": 5,
   "id": "556c8c4e",
   "metadata": {
    "execution": {
     "iopub.execute_input": "2022-10-04T18:22:37.554367Z",
     "iopub.status.busy": "2022-10-04T18:22:37.553809Z",
     "iopub.status.idle": "2022-10-04T18:22:37.559405Z",
     "shell.execute_reply": "2022-10-04T18:22:37.558673Z"
    },
    "papermill": {
     "duration": 0.042877,
     "end_time": "2022-10-04T18:22:37.561467",
     "exception": false,
     "start_time": "2022-10-04T18:22:37.518590",
     "status": "completed"
    },
    "tags": []
   },
   "outputs": [],
   "source": [
    "#GENDER\n",
    "df['Sex']=df['Sex'].map({'female':0,'male':1})"
   ]
  },
  {
   "cell_type": "markdown",
   "id": "33ed033a",
   "metadata": {
    "papermill": {
     "duration": 0.03399,
     "end_time": "2022-10-04T18:22:37.629126",
     "exception": false,
     "start_time": "2022-10-04T18:22:37.595136",
     "status": "completed"
    },
    "tags": []
   },
   "source": [
    "Females whose number is 0 had a much higher chance of surving than males. Later on, doing the importance feature analysis we will view that gender is actually one of the highest predictors. "
   ]
  },
  {
   "cell_type": "code",
   "execution_count": 6,
   "id": "6f1a278f",
   "metadata": {
    "execution": {
     "iopub.execute_input": "2022-10-04T18:22:37.698912Z",
     "iopub.status.busy": "2022-10-04T18:22:37.698600Z",
     "iopub.status.idle": "2022-10-04T18:22:37.728443Z",
     "shell.execute_reply": "2022-10-04T18:22:37.727840Z"
    },
    "papermill": {
     "duration": 0.066978,
     "end_time": "2022-10-04T18:22:37.730451",
     "exception": false,
     "start_time": "2022-10-04T18:22:37.663473",
     "status": "completed"
    },
    "tags": []
   },
   "outputs": [
    {
     "data": {
      "text/html": [
       "<div>\n",
       "<style scoped>\n",
       "    .dataframe tbody tr th:only-of-type {\n",
       "        vertical-align: middle;\n",
       "    }\n",
       "\n",
       "    .dataframe tbody tr th {\n",
       "        vertical-align: top;\n",
       "    }\n",
       "\n",
       "    .dataframe thead th {\n",
       "        text-align: right;\n",
       "    }\n",
       "</style>\n",
       "<table border=\"1\" class=\"dataframe\">\n",
       "  <thead>\n",
       "    <tr style=\"text-align: right;\">\n",
       "      <th>Sex</th>\n",
       "      <th>0</th>\n",
       "      <th>1</th>\n",
       "    </tr>\n",
       "    <tr>\n",
       "      <th>Survived</th>\n",
       "      <th></th>\n",
       "      <th></th>\n",
       "    </tr>\n",
       "  </thead>\n",
       "  <tbody>\n",
       "    <tr>\n",
       "      <th>0</th>\n",
       "      <td>81</td>\n",
       "      <td>468</td>\n",
       "    </tr>\n",
       "    <tr>\n",
       "      <th>1</th>\n",
       "      <td>233</td>\n",
       "      <td>109</td>\n",
       "    </tr>\n",
       "  </tbody>\n",
       "</table>\n",
       "</div>"
      ],
      "text/plain": [
       "Sex         0    1\n",
       "Survived          \n",
       "0          81  468\n",
       "1         233  109"
      ]
     },
     "execution_count": 6,
     "metadata": {},
     "output_type": "execute_result"
    }
   ],
   "source": [
    "genderTable = pd.crosstab(df['Survived'],df['Sex'])\n",
    "genderTable"
   ]
  },
  {
   "cell_type": "markdown",
   "id": "c9d15b73",
   "metadata": {
    "papermill": {
     "duration": 0.033885,
     "end_time": "2022-10-04T18:22:37.801201",
     "exception": false,
     "start_time": "2022-10-04T18:22:37.767316",
     "status": "completed"
    },
    "tags": []
   },
   "source": [
    "# Encode Categorical Variables\n",
    "Encode Categorical Variables is needed for this dataset since there are many important variables that are not numeric yet. \n",
    "\n",
    "There are three classes C, Q, and S. Class C seems to have the highest chance of survival. Class S has the lowest chance of survival. Unfornately this would tend to show that economic status seems to played a part in the decision if someone survived or not. Embarked does not play role major role in feature importance. "
   ]
  },
  {
   "cell_type": "code",
   "execution_count": 7,
   "id": "1b28a87d",
   "metadata": {
    "execution": {
     "iopub.execute_input": "2022-10-04T18:22:37.871917Z",
     "iopub.status.busy": "2022-10-04T18:22:37.871118Z",
     "iopub.status.idle": "2022-10-04T18:22:38.081976Z",
     "shell.execute_reply": "2022-10-04T18:22:38.080993Z"
    },
    "papermill": {
     "duration": 0.249159,
     "end_time": "2022-10-04T18:22:38.084462",
     "exception": false,
     "start_time": "2022-10-04T18:22:37.835303",
     "status": "completed"
    },
    "tags": []
   },
   "outputs": [],
   "source": [
    "import category_encoders as ce\n",
    "#encoder = ce.OrdinalEncoder(cols=['Embarked'])\n",
    "\n",
    "#df = encoder.fit_transform(df)\n",
    "#test = encoder.fit_transform(test)\n",
    "#test.head()"
   ]
  },
  {
   "cell_type": "markdown",
   "id": "7539ba0b",
   "metadata": {
    "papermill": {
     "duration": 0.033796,
     "end_time": "2022-10-04T18:22:38.152382",
     "exception": false,
     "start_time": "2022-10-04T18:22:38.118586",
     "status": "completed"
    },
    "tags": []
   },
   "source": [
    "# Examine Target Variable\n",
    "Survived is the Y variable we will be analyzing. Since the survival rete is 0.384 the data is not considered unbalanced. "
   ]
  },
  {
   "cell_type": "code",
   "execution_count": 8,
   "id": "730d826d",
   "metadata": {
    "execution": {
     "iopub.execute_input": "2022-10-04T18:22:38.223728Z",
     "iopub.status.busy": "2022-10-04T18:22:38.222823Z",
     "iopub.status.idle": "2022-10-04T18:22:38.231149Z",
     "shell.execute_reply": "2022-10-04T18:22:38.230377Z"
    },
    "papermill": {
     "duration": 0.04628,
     "end_time": "2022-10-04T18:22:38.233283",
     "exception": false,
     "start_time": "2022-10-04T18:22:38.187003",
     "status": "completed"
    },
    "tags": []
   },
   "outputs": [
    {
     "name": "stdout",
     "output_type": "stream",
     "text": [
      "0    549\n",
      "1    342\n",
      "Name: Survived, dtype: int64\n",
      "Percent that survived:  0.384\n"
     ]
    }
   ],
   "source": [
    "temp=df['Survived'].value_counts()\n",
    "print(temp)\n",
    "no=temp[0]\n",
    "yes=temp[1]\n",
    "percent=round(yes/(yes+no),3)\n",
    "print(\"Percent that survived: \", percent)"
   ]
  },
  {
   "cell_type": "markdown",
   "id": "dd82e996",
   "metadata": {
    "papermill": {
     "duration": 0.034954,
     "end_time": "2022-10-04T18:22:38.307571",
     "exception": false,
     "start_time": "2022-10-04T18:22:38.272617",
     "status": "completed"
    },
    "tags": []
   },
   "source": [
    "# Numeric DataFrame\n",
    "For now, we will analyze only numeric values. Categorical values will need to be encoded or analyzed individually."
   ]
  },
  {
   "cell_type": "code",
   "execution_count": 9,
   "id": "ae3c33f6",
   "metadata": {
    "execution": {
     "iopub.execute_input": "2022-10-04T18:22:38.381576Z",
     "iopub.status.busy": "2022-10-04T18:22:38.381090Z",
     "iopub.status.idle": "2022-10-04T18:22:38.395856Z",
     "shell.execute_reply": "2022-10-04T18:22:38.395165Z"
    },
    "papermill": {
     "duration": 0.055406,
     "end_time": "2022-10-04T18:22:38.397843",
     "exception": false,
     "start_time": "2022-10-04T18:22:38.342437",
     "status": "completed"
    },
    "tags": []
   },
   "outputs": [
    {
     "data": {
      "text/html": [
       "<div>\n",
       "<style scoped>\n",
       "    .dataframe tbody tr th:only-of-type {\n",
       "        vertical-align: middle;\n",
       "    }\n",
       "\n",
       "    .dataframe tbody tr th {\n",
       "        vertical-align: top;\n",
       "    }\n",
       "\n",
       "    .dataframe thead th {\n",
       "        text-align: right;\n",
       "    }\n",
       "</style>\n",
       "<table border=\"1\" class=\"dataframe\">\n",
       "  <thead>\n",
       "    <tr style=\"text-align: right;\">\n",
       "      <th></th>\n",
       "      <th>PassengerId</th>\n",
       "      <th>Survived</th>\n",
       "      <th>Pclass</th>\n",
       "      <th>Sex</th>\n",
       "      <th>Age</th>\n",
       "      <th>SibSp</th>\n",
       "      <th>Parch</th>\n",
       "      <th>Fare</th>\n",
       "    </tr>\n",
       "  </thead>\n",
       "  <tbody>\n",
       "    <tr>\n",
       "      <th>0</th>\n",
       "      <td>1</td>\n",
       "      <td>0</td>\n",
       "      <td>3</td>\n",
       "      <td>1</td>\n",
       "      <td>22.0</td>\n",
       "      <td>1</td>\n",
       "      <td>0</td>\n",
       "      <td>7.2500</td>\n",
       "    </tr>\n",
       "    <tr>\n",
       "      <th>1</th>\n",
       "      <td>2</td>\n",
       "      <td>1</td>\n",
       "      <td>1</td>\n",
       "      <td>0</td>\n",
       "      <td>38.0</td>\n",
       "      <td>1</td>\n",
       "      <td>0</td>\n",
       "      <td>71.2833</td>\n",
       "    </tr>\n",
       "    <tr>\n",
       "      <th>2</th>\n",
       "      <td>3</td>\n",
       "      <td>1</td>\n",
       "      <td>3</td>\n",
       "      <td>0</td>\n",
       "      <td>26.0</td>\n",
       "      <td>0</td>\n",
       "      <td>0</td>\n",
       "      <td>7.9250</td>\n",
       "    </tr>\n",
       "    <tr>\n",
       "      <th>3</th>\n",
       "      <td>4</td>\n",
       "      <td>1</td>\n",
       "      <td>1</td>\n",
       "      <td>0</td>\n",
       "      <td>35.0</td>\n",
       "      <td>1</td>\n",
       "      <td>0</td>\n",
       "      <td>53.1000</td>\n",
       "    </tr>\n",
       "    <tr>\n",
       "      <th>4</th>\n",
       "      <td>5</td>\n",
       "      <td>0</td>\n",
       "      <td>3</td>\n",
       "      <td>1</td>\n",
       "      <td>35.0</td>\n",
       "      <td>0</td>\n",
       "      <td>0</td>\n",
       "      <td>8.0500</td>\n",
       "    </tr>\n",
       "  </tbody>\n",
       "</table>\n",
       "</div>"
      ],
      "text/plain": [
       "   PassengerId  Survived  Pclass  Sex   Age  SibSp  Parch     Fare\n",
       "0            1         0       3    1  22.0      1      0   7.2500\n",
       "1            2         1       1    0  38.0      1      0  71.2833\n",
       "2            3         1       3    0  26.0      0      0   7.9250\n",
       "3            4         1       1    0  35.0      1      0  53.1000\n",
       "4            5         0       3    1  35.0      0      0   8.0500"
      ]
     },
     "execution_count": 9,
     "metadata": {},
     "output_type": "execute_result"
    }
   ],
   "source": [
    "numerics = ['int16', 'int32', 'int64', 'float16', 'float32', 'float64']\n",
    "df = df.select_dtypes(include=numerics)\n",
    "df.head()"
   ]
  },
  {
   "cell_type": "markdown",
   "id": "55ad9fb2",
   "metadata": {
    "papermill": {
     "duration": 0.034545,
     "end_time": "2022-10-04T18:22:38.468287",
     "exception": false,
     "start_time": "2022-10-04T18:22:38.433742",
     "status": "completed"
    },
    "tags": []
   },
   "source": [
    "# Check for missing values\n",
    "Age is missing around 20% of values.Therefore, we can simply fill in the mean for that one column."
   ]
  },
  {
   "cell_type": "code",
   "execution_count": 10,
   "id": "479bdff7",
   "metadata": {
    "execution": {
     "iopub.execute_input": "2022-10-04T18:22:38.541242Z",
     "iopub.status.busy": "2022-10-04T18:22:38.540764Z",
     "iopub.status.idle": "2022-10-04T18:22:38.549180Z",
     "shell.execute_reply": "2022-10-04T18:22:38.548293Z"
    },
    "papermill": {
     "duration": 0.048384,
     "end_time": "2022-10-04T18:22:38.551654",
     "exception": false,
     "start_time": "2022-10-04T18:22:38.503270",
     "status": "completed"
    },
    "tags": []
   },
   "outputs": [
    {
     "name": "stdout",
     "output_type": "stream",
     "text": [
      "Missing data by column as a percent:\n",
      "Age            0.198653\n",
      "PassengerId    0.000000\n",
      "Survived       0.000000\n",
      "Pclass         0.000000\n",
      "Sex            0.000000\n",
      "dtype: float64\n"
     ]
    }
   ],
   "source": [
    "#search for columns with missing values:\n",
    "def findNA():\n",
    "    print(\"Missing data by column as a percent:\")\n",
    "    findNA=df.isnull().sum().sort_values(ascending=False)/len(df)\n",
    "    print(findNA.head())\n",
    "findNA() "
   ]
  },
  {
   "cell_type": "code",
   "execution_count": 11,
   "id": "3817d569",
   "metadata": {
    "execution": {
     "iopub.execute_input": "2022-10-04T18:22:38.626336Z",
     "iopub.status.busy": "2022-10-04T18:22:38.626037Z",
     "iopub.status.idle": "2022-10-04T18:22:38.634906Z",
     "shell.execute_reply": "2022-10-04T18:22:38.634076Z"
    },
    "papermill": {
     "duration": 0.048569,
     "end_time": "2022-10-04T18:22:38.637157",
     "exception": false,
     "start_time": "2022-10-04T18:22:38.588588",
     "status": "completed"
    },
    "tags": []
   },
   "outputs": [],
   "source": [
    "df= df.fillna(df.mean())"
   ]
  },
  {
   "cell_type": "markdown",
   "id": "e5d34e15",
   "metadata": {
    "papermill": {
     "duration": 0.036487,
     "end_time": "2022-10-04T18:22:38.711094",
     "exception": false,
     "start_time": "2022-10-04T18:22:38.674607",
     "status": "completed"
    },
    "tags": []
   },
   "source": [
    "# Split Data"
   ]
  },
  {
   "cell_type": "code",
   "execution_count": 12,
   "id": "83242212",
   "metadata": {
    "execution": {
     "iopub.execute_input": "2022-10-04T18:22:38.784758Z",
     "iopub.status.busy": "2022-10-04T18:22:38.783858Z",
     "iopub.status.idle": "2022-10-04T18:22:38.792763Z",
     "shell.execute_reply": "2022-10-04T18:22:38.791810Z"
    },
    "papermill": {
     "duration": 0.047847,
     "end_time": "2022-10-04T18:22:38.794952",
     "exception": false,
     "start_time": "2022-10-04T18:22:38.747105",
     "status": "completed"
    },
    "tags": []
   },
   "outputs": [],
   "source": [
    "X=df.drop('Survived', axis=1)\n",
    "y=df['Survived']\n",
    "\n",
    "X_train, X_test, y_train, y_test = train_test_split(\n",
    "    X, y, test_size = 0.33, random_state = 42)"
   ]
  },
  {
   "cell_type": "markdown",
   "id": "2b17fb1e",
   "metadata": {
    "papermill": {
     "duration": 0.035409,
     "end_time": "2022-10-04T18:22:38.865971",
     "exception": false,
     "start_time": "2022-10-04T18:22:38.830562",
     "status": "completed"
    },
    "tags": []
   },
   "source": [
    "# Highly Correlated Features\n",
    "There are no highly correlated variables above 80%. Therefore, we do not need to be concerned about removing variables that are too highly correlated. "
   ]
  },
  {
   "cell_type": "markdown",
   "id": "afb35ba2",
   "metadata": {
    "_kg_hide-output": true,
    "papermill": {
     "duration": 0.035252,
     "end_time": "2022-10-04T18:22:38.936712",
     "exception": false,
     "start_time": "2022-10-04T18:22:38.901460",
     "status": "completed"
    },
    "tags": []
   },
   "source": [
    "# Tunning Forest\n",
    "Random forest AUC:  0.8503 which is good results considering forest does not overfit data."
   ]
  },
  {
   "cell_type": "code",
   "execution_count": 13,
   "id": "28e00d6a",
   "metadata": {
    "execution": {
     "iopub.execute_input": "2022-10-04T18:22:39.012880Z",
     "iopub.status.busy": "2022-10-04T18:22:39.012528Z",
     "iopub.status.idle": "2022-10-04T18:22:39.996026Z",
     "shell.execute_reply": "2022-10-04T18:22:39.994886Z"
    },
    "papermill": {
     "duration": 1.024685,
     "end_time": "2022-10-04T18:22:39.998677",
     "exception": false,
     "start_time": "2022-10-04T18:22:38.973992",
     "status": "completed"
    },
    "tags": []
   },
   "outputs": [
    {
     "data": {
      "image/png": "[encoded data removed]",
      "text/plain": [
       "<Figure size 432x288 with 1 Axes>"
      ]
     },
     "metadata": {
      "needs_background": "light"
     },
     "output_type": "display_data"
    },
    {
     "data": {
      "image/png": "[encoded data removed]",
      "text/plain": [
       "<Figure size 432x288 with 1 Axes>"
      ]
     },
     "metadata": {
      "needs_background": "light"
     },
     "output_type": "display_data"
    }
   ],
   "source": [
    "from sklearn.ensemble import RandomForestRegressor, RandomForestClassifier\n",
    "\n",
    "#Check for Error and find Best n_estimators:\n",
    "def forestNumEst():\n",
    "    numbers= [2, 20, 40, 50, 60, 100]\n",
    "    maeList=[] #error\n",
    "    accList=[]\n",
    "    \n",
    "    for n in numbers:\n",
    "        forest = RandomForestClassifier(n_estimators=n)\n",
    "        forest.fit(X_train, y_train)\n",
    "        y_pred = forest.predict(X_test)\n",
    "        mae=metrics.mean_absolute_error(y_test, y_pred).round(2)\n",
    "        forest_auc = round( metrics.roc_auc_score(y_test, y_pred), 4 ) \n",
    "        #print(\"Random forest AUC: \", forest_auc) \n",
    "      \n",
    "        accList.append(forest_auc)\n",
    "        maeList.append(mae)\n",
    "        \n",
    "    plt.plot(numbers,accList)\n",
    "    plt.title(\"Forest Estimators\" )\n",
    "    plt.xlabel(\"Estimators\")\n",
    "    plt.ylabel('Accuracy')\n",
    "    plt.legend()\n",
    "    plt.show() \n",
    "    \n",
    "    plt.plot(numbers, maeList)\n",
    "    plt.title(\"Forest Estimators\" )\n",
    "    plt.xlabel(\"Estimators\")\n",
    "    plt.ylabel('error')\n",
    "    plt.legend()\n",
    "    plt.show() \n",
    "\n",
    "forestNumEst() "
   ]
  },
  {
   "cell_type": "code",
   "execution_count": 14,
   "id": "8e9eaf36",
   "metadata": {
    "execution": {
     "iopub.execute_input": "2022-10-04T18:22:40.077161Z",
     "iopub.status.busy": "2022-10-04T18:22:40.076852Z",
     "iopub.status.idle": "2022-10-04T18:22:41.733523Z",
     "shell.execute_reply": "2022-10-04T18:22:41.732759Z"
    },
    "papermill": {
     "duration": 1.698533,
     "end_time": "2022-10-04T18:22:41.735735",
     "exception": false,
     "start_time": "2022-10-04T18:22:40.037202",
     "status": "completed"
    },
    "tags": []
   },
   "outputs": [
    {
     "data": {
      "image/png": "[encoded data removed]",
      "text/plain": [
       "<Figure size 432x288 with 1 Axes>"
      ]
     },
     "metadata": {
      "needs_background": "light"
     },
     "output_type": "display_data"
    },
    {
     "data": {
      "image/png": "[encoded data removed]",
      "text/plain": [
       "<Figure size 432x288 with 1 Axes>"
      ]
     },
     "metadata": {
      "needs_background": "light"
     },
     "output_type": "display_data"
    }
   ],
   "source": [
    "def forestDepth():\n",
    "    numbers=[None, 2, 3, 4, 5, 7, 10]\n",
    "    accList=[] #accuracy train data\n",
    "    maeList=[] #error\n",
    "    \n",
    "    for n in numbers:\n",
    "        forest = RandomForestClassifier(max_depth=n)\n",
    "        forest.fit(X_train, y_train)\n",
    "        y_pred = forest.predict(X_test)\n",
    "        mae=metrics.mean_absolute_error(y_test, y_pred).round(2)\n",
    "        forest_auc = round( metrics.roc_auc_score(y_test, y_pred), 4 ) \n",
    "        #print(\"Random forest AUC: \", forest_auc) \n",
    "       \n",
    "        accList.append(forest_auc)\n",
    "        maeList.append(mae)\n",
    "        \n",
    "    plt.plot(numbers,accList)\n",
    "    plt.title(\"Forest Max_Depth\")\n",
    "    plt.xlabel('max_depth')\n",
    "    plt.ylabel('Accuracy')\n",
    "    plt.legend()\n",
    "    plt.show() \n",
    "    \n",
    "    plt.plot(numbers, maeList)\n",
    "    plt.title(\"Forest Max_Depth\")\n",
    "    plt.xlabel(\"max_depth\")\n",
    "    plt.ylabel('error')\n",
    "    plt.legend()\n",
    "    plt.show() \n",
    "\n",
    "forestDepth()"
   ]
  },
  {
   "cell_type": "code",
   "execution_count": 15,
   "id": "a21d2277",
   "metadata": {
    "execution": {
     "iopub.execute_input": "2022-10-04T18:22:41.816872Z",
     "iopub.status.busy": "2022-10-04T18:22:41.816298Z",
     "iopub.status.idle": "2022-10-04T18:22:43.502108Z",
     "shell.execute_reply": "2022-10-04T18:22:43.501468Z"
    },
    "papermill": {
     "duration": 1.728348,
     "end_time": "2022-10-04T18:22:43.504237",
     "exception": false,
     "start_time": "2022-10-04T18:22:41.775889",
     "status": "completed"
    },
    "tags": []
   },
   "outputs": [
    {
     "data": {
      "image/png": "[encoded data removed]",
      "text/plain": [
       "<Figure size 432x288 with 1 Axes>"
      ]
     },
     "metadata": {
      "needs_background": "light"
     },
     "output_type": "display_data"
    },
    {
     "data": {
      "image/png": "[encoded data removed]",
      "text/plain": [
       "<Figure size 432x288 with 1 Axes>"
      ]
     },
     "metadata": {
      "needs_background": "light"
     },
     "output_type": "display_data"
    }
   ],
   "source": [
    "def forestSplit():\n",
    "    numbers=[2, 3, 4, 5, 7, 10]\n",
    "    accList=[] #accuracy train data\n",
    "    maeList=[] #error\n",
    "    \n",
    "    for n in numbers:\n",
    "        forest = RandomForestClassifier(min_samples_split=n)\n",
    "        forest.fit(X_train, y_train)\n",
    "        y_pred = forest.predict(X_test)\n",
    "        mae=metrics.mean_absolute_error(y_test, y_pred).round(2)\n",
    "        forest_auc = round( metrics.roc_auc_score(y_test, y_pred), 4 ) \n",
    "        #print(\"Random forest AUC: \", forest_auc) \n",
    "       \n",
    "        accList.append(forest_auc)\n",
    "        maeList.append(mae)\n",
    "        \n",
    "    plt.plot(numbers,accList)\n",
    "    plt.title(\"Forest min_samples_split\")\n",
    "    plt.xlabel('min_samples_split')\n",
    "    plt.ylabel('Accuracy')\n",
    "    plt.legend()\n",
    "    plt.show() \n",
    "    \n",
    "    plt.plot(numbers, maeList)\n",
    "    plt.title(\"Forest Max_Depth\")\n",
    "    plt.xlabel(\"min_samples_split\")\n",
    "    plt.ylabel('error')\n",
    "    plt.legend()\n",
    "    plt.show() \n",
    "\n",
    "forestSplit()"
   ]
  },
  {
   "cell_type": "markdown",
   "id": "bf237f85",
   "metadata": {
    "papermill": {
     "duration": 0.040567,
     "end_time": "2022-10-04T18:22:43.585747",
     "exception": false,
     "start_time": "2022-10-04T18:22:43.545180",
     "status": "completed"
    },
    "tags": []
   },
   "source": [
    "# GridSearch CV"
   ]
  },
  {
   "cell_type": "code",
   "execution_count": 16,
   "id": "d3740ea4",
   "metadata": {
    "execution": {
     "iopub.execute_input": "2022-10-04T18:22:43.669374Z",
     "iopub.status.busy": "2022-10-04T18:22:43.668843Z",
     "iopub.status.idle": "2022-10-04T18:24:11.310556Z",
     "shell.execute_reply": "2022-10-04T18:24:11.309074Z"
    },
    "papermill": {
     "duration": 87.727274,
     "end_time": "2022-10-04T18:24:11.353855",
     "exception": false,
     "start_time": "2022-10-04T18:22:43.626581",
     "status": "completed"
    },
    "tags": []
   },
   "outputs": [
    {
     "data": {
      "text/plain": [
       "{'max_depth': 8, 'min_samples_split': 3, 'n_estimators': 30}"
      ]
     },
     "execution_count": 16,
     "metadata": {},
     "output_type": "execute_result"
    }
   ],
   "source": [
    "from sklearn.model_selection import cross_val_score\n",
    "from sklearn.model_selection import GridSearchCV\n",
    "\n",
    "params = {\n",
    "    'n_estimators':[20, 30, 40, 50, 60, 100],\n",
    "    'max_depth':[5, 6, 7, 8],\n",
    "    'min_samples_split':[2, 3, 4, 5],\n",
    "    #'max_features':['auto', 'sqrt', 'log2'],\n",
    "    #'criterion':['gini', 'entropy'],\n",
    "}\n",
    "\n",
    "forestGrid=GridSearchCV(estimator=RandomForestClassifier(), param_grid=params, cv=10, scoring='accuracy')\n",
    "forestGrid.fit(X_train, y_train)\n",
    "forestGrid.best_params_"
   ]
  },
  {
   "cell_type": "markdown",
   "id": "f720b0a7",
   "metadata": {
    "papermill": {
     "duration": 0.044274,
     "end_time": "2022-10-04T18:24:11.440976",
     "exception": false,
     "start_time": "2022-10-04T18:24:11.396702",
     "status": "completed"
    },
    "tags": []
   },
   "source": [
    "#### Final Random Forest Prediction\n",
    "* Top 5% Using {'max_depth': 5, 'n_estimators': 60} 0.79425"
   ]
  },
  {
   "cell_type": "code",
   "execution_count": 17,
   "id": "0174ef41",
   "metadata": {
    "execution": {
     "iopub.execute_input": "2022-10-04T18:24:11.530539Z",
     "iopub.status.busy": "2022-10-04T18:24:11.530177Z",
     "iopub.status.idle": "2022-10-04T18:24:12.047597Z",
     "shell.execute_reply": "2022-10-04T18:24:12.046504Z"
    },
    "papermill": {
     "duration": 0.564992,
     "end_time": "2022-10-04T18:24:12.050155",
     "exception": false,
     "start_time": "2022-10-04T18:24:11.485163",
     "status": "completed"
    },
    "tags": []
   },
   "outputs": [
    {
     "name": "stdout",
     "output_type": "stream",
     "text": [
      "Random forest AUC:  0.8129\n",
      "Random forest MAE:  0.17\n",
      "0.8339\n",
      "0.807\n",
      "0.026899999999999924\n"
     ]
    }
   ],
   "source": [
    "forestFinal = RandomForestClassifier(\n",
    "   n_estimators=40, \n",
    "   max_depth=8,\n",
    "   min_samples_split=5,\n",
    "   #criterion='entropy',\n",
    "   # max_features='auto',\n",
    ")\n",
    "forestFinal.fit(X_train, y_train)\n",
    "y_pred = forestFinal.predict(X_test)\n",
    "\n",
    "#Print Metrics:\n",
    "forest_r2 = r2_score(y_test, y_pred).round(4)  \n",
    "forest_auc = round( metrics.roc_auc_score(y_test, y_pred), 4 ) \n",
    "print(\"Random forest AUC: \", forest_auc) \n",
    "\n",
    "mae=metrics.mean_absolute_error(y_test, y_pred).round(2)\n",
    "print(\"Random forest MAE: \", mae)\n",
    "\n",
    "forestScore =  forestFinal.score(X_test, y_test).round(4)  \n",
    "forestCV = cross_validate(forestFinal, X, y, cv = 5, scoring='accuracy')\n",
    "forestCV=forestCV['test_score'].mean().round(4)\n",
    "print(forestScore)\n",
    "print(forestCV)\n",
    "print(forestScore-forestCV)"
   ]
  },
  {
   "cell_type": "markdown",
   "id": "e711aef1",
   "metadata": {
    "papermill": {
     "duration": 0.041874,
     "end_time": "2022-10-04T18:24:12.135103",
     "exception": false,
     "start_time": "2022-10-04T18:24:12.093229",
     "status": "completed"
    },
    "tags": []
   },
   "source": [
    "# Support Vector \n",
    "The initial results for SVM AUC with no parameter tunning is 0.5336.  The model does not seem worth investing lots of time into due to poor AUC performance. \n",
    "\n",
    "#### GridSearch Tune\n",
    "The best parameters from tunning SVM is SVC(C=1000, gamma=0.0001)."
   ]
  },
  {
   "cell_type": "code",
   "execution_count": 18,
   "id": "55061c66",
   "metadata": {
    "execution": {
     "iopub.execute_input": "2022-10-04T18:24:12.225167Z",
     "iopub.status.busy": "2022-10-04T18:24:12.224871Z",
     "iopub.status.idle": "2022-10-04T18:24:12.231113Z",
     "shell.execute_reply": "2022-10-04T18:24:12.230147Z"
    },
    "papermill": {
     "duration": 0.053273,
     "end_time": "2022-10-04T18:24:12.233279",
     "exception": false,
     "start_time": "2022-10-04T18:24:12.180006",
     "status": "completed"
    },
    "tags": []
   },
   "outputs": [],
   "source": [
    "from sklearn.model_selection import GridSearchCV\n",
    "from sklearn.svm import SVC\n",
    " \n",
    "def tuneSVM():\n",
    "    # defining parameter range\n",
    "    param_grid = {'C': [0.1, 1, 10, 100, 1000],\n",
    "                  'gamma': [1, 0.1, 0.01, 0.001, 0.0001],\n",
    "                  'kernel': ['rbf']}\n",
    "\n",
    "    grid = GridSearchCV(SVC(), param_grid, refit = True, verbose = 3)\n",
    "\n",
    "    # fitting the model for grid search\n",
    "    grid.fit(X_train, y_train)\n",
    "\n",
    "    # print best parameter after tuning\n",
    "    print(grid.best_params_)\n",
    "\n",
    "    # print how our model looks after hyper-parameter tuning\n",
    "    print(grid.best_estimator_)"
   ]
  },
  {
   "cell_type": "markdown",
   "id": "41e8175c",
   "metadata": {
    "papermill": {
     "duration": 0.042298,
     "end_time": "2022-10-04T18:24:12.318919",
     "exception": false,
     "start_time": "2022-10-04T18:24:12.276621",
     "status": "completed"
    },
    "tags": []
   },
   "source": [
    "#### Final SVM Prediction"
   ]
  },
  {
   "cell_type": "code",
   "execution_count": 19,
   "id": "0e12bbd7",
   "metadata": {
    "execution": {
     "iopub.execute_input": "2022-10-04T18:24:12.407522Z",
     "iopub.status.busy": "2022-10-04T18:24:12.407120Z",
     "iopub.status.idle": "2022-10-04T18:24:12.416207Z",
     "shell.execute_reply": "2022-10-04T18:24:12.415299Z"
    },
    "papermill": {
     "duration": 0.055751,
     "end_time": "2022-10-04T18:24:12.418320",
     "exception": false,
     "start_time": "2022-10-04T18:24:12.362569",
     "status": "completed"
    },
    "tags": []
   },
   "outputs": [],
   "source": [
    "#Fit and Predict:\n",
    "def runSVM():\n",
    "    svm=SVC(C=1000, gamma=0.0001, kernel = 'linear')\n",
    "    svm.fit(X_train, y_train)\n",
    "    svmPedict = svm.predict(X_test)\n",
    "    np.shape(svmPedict)\n",
    "    np.shape(y_test)\n",
    "    #y_class = np.argmax(y_pred, axis = 0)\n",
    "\n",
    "    #calculate AUC of model\n",
    "    svmAUC = round( metrics.roc_auc_score(y_test, svmPedict, multi_class='ovr'), 4 ) \n",
    "    print(\"SVC AUC is: \", svmAUC)\n",
    "\n",
    "    svmR2 = r2_score(y_test, svmPedict).round(4) \n",
    "    print(\"SVM r2: \", svmR2) \n",
    "\n",
    "    svmMAE=metrics.mean_absolute_error(y_test, svmPedict)\n",
    "    \n",
    "    plt.figure(figsize=(5, 7))\n",
    "    ax = sns.distplot(y, hist=False, color=\"r\", label=\"Actual Value\")\n",
    "    sns.distplot(y_test, hist=False, color=\"b\", label=\"Fitted Values\" , ax=ax)\n",
    "    plt.title('Actual vs Fitted Values')\n",
    "    plt.show()\n",
    "    plt.close()"
   ]
  },
  {
   "cell_type": "markdown",
   "id": "c755daf6",
   "metadata": {
    "papermill": {
     "duration": 0.042057,
     "end_time": "2022-10-04T18:24:12.504385",
     "exception": false,
     "start_time": "2022-10-04T18:24:12.462328",
     "status": "completed"
    },
    "tags": []
   },
   "source": [
    "# Test Data"
   ]
  },
  {
   "cell_type": "code",
   "execution_count": 20,
   "id": "07ce9be8",
   "metadata": {
    "execution": {
     "iopub.execute_input": "2022-10-04T18:24:12.592765Z",
     "iopub.status.busy": "2022-10-04T18:24:12.592449Z",
     "iopub.status.idle": "2022-10-04T18:24:12.612264Z",
     "shell.execute_reply": "2022-10-04T18:24:12.611338Z"
    },
    "papermill": {
     "duration": 0.066445,
     "end_time": "2022-10-04T18:24:12.614579",
     "exception": false,
     "start_time": "2022-10-04T18:24:12.548134",
     "status": "completed"
    },
    "tags": []
   },
   "outputs": [
    {
     "data": {
      "text/html": [
       "<div>\n",
       "<style scoped>\n",
       "    .dataframe tbody tr th:only-of-type {\n",
       "        vertical-align: middle;\n",
       "    }\n",
       "\n",
       "    .dataframe tbody tr th {\n",
       "        vertical-align: top;\n",
       "    }\n",
       "\n",
       "    .dataframe thead th {\n",
       "        text-align: right;\n",
       "    }\n",
       "</style>\n",
       "<table border=\"1\" class=\"dataframe\">\n",
       "  <thead>\n",
       "    <tr style=\"text-align: right;\">\n",
       "      <th></th>\n",
       "      <th>PassengerId</th>\n",
       "      <th>Pclass</th>\n",
       "      <th>Sex</th>\n",
       "      <th>Age</th>\n",
       "      <th>SibSp</th>\n",
       "      <th>Parch</th>\n",
       "      <th>Fare</th>\n",
       "    </tr>\n",
       "  </thead>\n",
       "  <tbody>\n",
       "    <tr>\n",
       "      <th>0</th>\n",
       "      <td>892</td>\n",
       "      <td>3</td>\n",
       "      <td>1</td>\n",
       "      <td>34.5</td>\n",
       "      <td>0</td>\n",
       "      <td>0</td>\n",
       "      <td>7.8292</td>\n",
       "    </tr>\n",
       "    <tr>\n",
       "      <th>1</th>\n",
       "      <td>893</td>\n",
       "      <td>3</td>\n",
       "      <td>0</td>\n",
       "      <td>47.0</td>\n",
       "      <td>1</td>\n",
       "      <td>0</td>\n",
       "      <td>7.0000</td>\n",
       "    </tr>\n",
       "    <tr>\n",
       "      <th>2</th>\n",
       "      <td>894</td>\n",
       "      <td>2</td>\n",
       "      <td>1</td>\n",
       "      <td>62.0</td>\n",
       "      <td>0</td>\n",
       "      <td>0</td>\n",
       "      <td>9.6875</td>\n",
       "    </tr>\n",
       "    <tr>\n",
       "      <th>3</th>\n",
       "      <td>895</td>\n",
       "      <td>3</td>\n",
       "      <td>1</td>\n",
       "      <td>27.0</td>\n",
       "      <td>0</td>\n",
       "      <td>0</td>\n",
       "      <td>8.6625</td>\n",
       "    </tr>\n",
       "    <tr>\n",
       "      <th>4</th>\n",
       "      <td>896</td>\n",
       "      <td>3</td>\n",
       "      <td>0</td>\n",
       "      <td>22.0</td>\n",
       "      <td>1</td>\n",
       "      <td>1</td>\n",
       "      <td>12.2875</td>\n",
       "    </tr>\n",
       "  </tbody>\n",
       "</table>\n",
       "</div>"
      ],
      "text/plain": [
       "   PassengerId  Pclass  Sex   Age  SibSp  Parch     Fare\n",
       "0          892       3    1  34.5      0      0   7.8292\n",
       "1          893       3    0  47.0      1      0   7.0000\n",
       "2          894       2    1  62.0      0      0   9.6875\n",
       "3          895       3    1  27.0      0      0   8.6625\n",
       "4          896       3    0  22.0      1      1  12.2875"
      ]
     },
     "execution_count": 20,
     "metadata": {},
     "output_type": "execute_result"
    }
   ],
   "source": [
    "#GENDER\n",
    "test['Sex']=test['Sex'].map({'female':0,'male':1})\n",
    "\n",
    "features=list(X.columns)\n",
    "test=test[features]\n",
    "\n",
    "test=test.fillna(test.mean())\n",
    "test.head()"
   ]
  },
  {
   "cell_type": "markdown",
   "id": "24f86ed6",
   "metadata": {
    "papermill": {
     "duration": 0.043084,
     "end_time": "2022-10-04T18:24:12.701856",
     "exception": false,
     "start_time": "2022-10-04T18:24:12.658772",
     "status": "completed"
    },
    "tags": []
   },
   "source": [
    "# Final Prediction"
   ]
  },
  {
   "cell_type": "code",
   "execution_count": 21,
   "id": "249722a2",
   "metadata": {
    "execution": {
     "iopub.execute_input": "2022-10-04T18:24:12.796451Z",
     "iopub.status.busy": "2022-10-04T18:24:12.796126Z",
     "iopub.status.idle": "2022-10-04T18:24:12.818193Z",
     "shell.execute_reply": "2022-10-04T18:24:12.817421Z"
    },
    "papermill": {
     "duration": 0.071643,
     "end_time": "2022-10-04T18:24:12.820371",
     "exception": false,
     "start_time": "2022-10-04T18:24:12.748728",
     "status": "completed"
    },
    "tags": []
   },
   "outputs": [
    {
     "data": {
      "text/html": [
       "<div>\n",
       "<style scoped>\n",
       "    .dataframe tbody tr th:only-of-type {\n",
       "        vertical-align: middle;\n",
       "    }\n",
       "\n",
       "    .dataframe tbody tr th {\n",
       "        vertical-align: top;\n",
       "    }\n",
       "\n",
       "    .dataframe thead th {\n",
       "        text-align: right;\n",
       "    }\n",
       "</style>\n",
       "<table border=\"1\" class=\"dataframe\">\n",
       "  <thead>\n",
       "    <tr style=\"text-align: right;\">\n",
       "      <th></th>\n",
       "      <th>PassengerId</th>\n",
       "      <th>Survived</th>\n",
       "    </tr>\n",
       "  </thead>\n",
       "  <tbody>\n",
       "    <tr>\n",
       "      <th>0</th>\n",
       "      <td>892</td>\n",
       "      <td>0</td>\n",
       "    </tr>\n",
       "    <tr>\n",
       "      <th>1</th>\n",
       "      <td>893</td>\n",
       "      <td>0</td>\n",
       "    </tr>\n",
       "    <tr>\n",
       "      <th>2</th>\n",
       "      <td>894</td>\n",
       "      <td>0</td>\n",
       "    </tr>\n",
       "    <tr>\n",
       "      <th>3</th>\n",
       "      <td>895</td>\n",
       "      <td>0</td>\n",
       "    </tr>\n",
       "    <tr>\n",
       "      <th>4</th>\n",
       "      <td>896</td>\n",
       "      <td>0</td>\n",
       "    </tr>\n",
       "    <tr>\n",
       "      <th>5</th>\n",
       "      <td>897</td>\n",
       "      <td>0</td>\n",
       "    </tr>\n",
       "    <tr>\n",
       "      <th>6</th>\n",
       "      <td>898</td>\n",
       "      <td>1</td>\n",
       "    </tr>\n",
       "  </tbody>\n",
       "</table>\n",
       "</div>"
      ],
      "text/plain": [
       "   PassengerId  Survived\n",
       "0          892         0\n",
       "1          893         0\n",
       "2          894         0\n",
       "3          895         0\n",
       "4          896         0\n",
       "5          897         0\n",
       "6          898         1"
      ]
     },
     "execution_count": 21,
     "metadata": {},
     "output_type": "execute_result"
    }
   ],
   "source": [
    "test_predictions = forestFinal.predict(test)\n",
    "passID=test['PassengerId']\n",
    "tupleData = list(zip(passID, test_predictions))\n",
    "output = pd.DataFrame(tupleData, columns = ['PassengerId', 'Survived'])\n",
    "output.head(7)"
   ]
  },
  {
   "cell_type": "code",
   "execution_count": 22,
   "id": "5c49e17d",
   "metadata": {
    "execution": {
     "iopub.execute_input": "2022-10-04T18:24:12.911496Z",
     "iopub.status.busy": "2022-10-04T18:24:12.911155Z",
     "iopub.status.idle": "2022-10-04T18:24:12.920247Z",
     "shell.execute_reply": "2022-10-04T18:24:12.919135Z"
    },
    "papermill": {
     "duration": 0.058069,
     "end_time": "2022-10-04T18:24:12.923749",
     "exception": false,
     "start_time": "2022-10-04T18:24:12.865680",
     "status": "completed"
    },
    "tags": []
   },
   "outputs": [
    {
     "name": "stdout",
     "output_type": "stream",
     "text": [
      "Your submission was successfully saved!\n"
     ]
    }
   ],
   "source": [
    "output.to_csv('submission.csv', index=False)\n",
    "print(\"Your submission was successfully saved!\")"
   ]
  },
  {
   "cell_type": "markdown",
   "id": "8aa46e18",
   "metadata": {
    "papermill": {
     "duration": 0.045619,
     "end_time": "2022-10-04T18:24:13.015353",
     "exception": false,
     "start_time": "2022-10-04T18:24:12.969734",
     "status": "completed"
    },
    "tags": []
   },
   "source": [
    "#### Notes:\n",
    "Being a wife makes no difference in the final prediction: <br>\n",
    "` df['Titles'] = df['Name'].str.extract(r', (\\w+\\.)') \n",
    "df['Titles'] = df['Titles'].apply(lambda x: 1 if x=='Mrs.' else 0) `"
   ]
  }
 ],
 "metadata": {
  "kernelspec": {
   "display_name": "Python 3",
   "language": "python",
   "name": "python3"
  },
  "language_info": {
   "codemirror_mode": {
    "name": "ipython",
    "version": 3
   },
   "file_extension": ".py",
   "mimetype": "text/x-python",
   "name": "python",
   "nbconvert_exporter": "python",
   "pygments_lexer": "ipython3",
   "version": "3.7.12"
  },
  "papermill": {
   "default_parameters": {},
   "duration": 109.279759,
   "end_time": "2022-10-04T18:24:13.882658",
   "environment_variables": {},
   "exception": null,
   "input_path": "__notebook__.ipynb",
   "output_path": "__notebook__.ipynb",
   "parameters": {},
   "start_time": "2022-10-04T18:22:24.602899",
   "version": "2.3.4"
  }
 },
 "nbformat": 4,
 "nbformat_minor": 5
}
