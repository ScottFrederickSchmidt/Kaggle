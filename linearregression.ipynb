{
 "cells": [
  {
   "cell_type": "code",
   "execution_count": 1,
   "id": "475ede06",
   "metadata": {
    "execution": {
     "iopub.execute_input": "2023-11-08T17:20:56.527986Z",
     "iopub.status.busy": "2023-11-08T17:20:56.527040Z",
     "iopub.status.idle": "2023-11-08T17:20:56.929338Z",
     "shell.execute_reply": "2023-11-08T17:20:56.928340Z"
    },
    "papermill": {
     "duration": 0.41041,
     "end_time": "2023-11-08T17:20:56.933028",
     "exception": false,
     "start_time": "2023-11-08T17:20:56.522618",
     "status": "completed"
    },
    "tags": []
   },
   "outputs": [
    {
     "data": {
      "text/html": [
       "<div>\n",
       "<style scoped>\n",
       "    .dataframe tbody tr th:only-of-type {\n",
       "        vertical-align: middle;\n",
       "    }\n",
       "\n",
       "    .dataframe tbody tr th {\n",
       "        vertical-align: top;\n",
       "    }\n",
       "\n",
       "    .dataframe thead th {\n",
       "        text-align: right;\n",
       "    }\n",
       "</style>\n",
       "<table border=\"1\" class=\"dataframe\">\n",
       "  <thead>\n",
       "    <tr style=\"text-align: right;\">\n",
       "      <th></th>\n",
       "      <th>YearsExperience</th>\n",
       "      <th>Salary</th>\n",
       "    </tr>\n",
       "  </thead>\n",
       "  <tbody>\n",
       "    <tr>\n",
       "      <th>0</th>\n",
       "      <td>1.1</td>\n",
       "      <td>39343.0</td>\n",
       "    </tr>\n",
       "    <tr>\n",
       "      <th>1</th>\n",
       "      <td>1.3</td>\n",
       "      <td>46205.0</td>\n",
       "    </tr>\n",
       "    <tr>\n",
       "      <th>2</th>\n",
       "      <td>1.5</td>\n",
       "      <td>37731.0</td>\n",
       "    </tr>\n",
       "    <tr>\n",
       "      <th>3</th>\n",
       "      <td>2.0</td>\n",
       "      <td>43525.0</td>\n",
       "    </tr>\n",
       "    <tr>\n",
       "      <th>4</th>\n",
       "      <td>2.2</td>\n",
       "      <td>39891.0</td>\n",
       "    </tr>\n",
       "  </tbody>\n",
       "</table>\n",
       "</div>"
      ],
      "text/plain": [
       "   YearsExperience   Salary\n",
       "0              1.1  39343.0\n",
       "1              1.3  46205.0\n",
       "2              1.5  37731.0\n",
       "3              2.0  43525.0\n",
       "4              2.2  39891.0"
      ]
     },
     "execution_count": 1,
     "metadata": {},
     "output_type": "execute_result"
    }
   ],
   "source": [
    "import numpy as np \n",
    "import pandas as pd \n",
    "\n",
    "df=pd.read_csv(r'/kaggle/input/salary-data-simple-linear-regression/Salary_Data.csv')\n",
    "df.head()"
   ]
  },
  {
   "cell_type": "code",
   "execution_count": 2,
   "id": "2a9831f5",
   "metadata": {
    "execution": {
     "iopub.execute_input": "2023-11-08T17:20:56.941116Z",
     "iopub.status.busy": "2023-11-08T17:20:56.940739Z",
     "iopub.status.idle": "2023-11-08T17:20:58.274948Z",
     "shell.execute_reply": "2023-11-08T17:20:58.273829Z"
    },
    "papermill": {
     "duration": 1.33986,
     "end_time": "2023-11-08T17:20:58.277461",
     "exception": false,
     "start_time": "2023-11-08T17:20:56.937601",
     "status": "completed"
    },
    "tags": []
   },
   "outputs": [
    {
     "data": {
      "text/plain": [
       "9449.962321455076"
      ]
     },
     "execution_count": 2,
     "metadata": {},
     "output_type": "execute_result"
    }
   ],
   "source": [
    "from sklearn.linear_model import LinearRegression\n",
    "\n",
    "# Load data\n",
    "data = df[['YearsExperience', 'Salary']]\n",
    "\n",
    "# Create and fit the linear regression model\n",
    "model = LinearRegression()\n",
    "model.fit(data[['YearsExperience']], data['Salary'])\n",
    "\n",
    "# Output the slope\n",
    "slope = model.coef_[0]\n",
    "slope"
   ]
  },
  {
   "cell_type": "code",
   "execution_count": 3,
   "id": "e5ca0dde",
   "metadata": {
    "execution": {
     "iopub.execute_input": "2023-11-08T17:20:58.283409Z",
     "iopub.status.busy": "2023-11-08T17:20:58.283050Z",
     "iopub.status.idle": "2023-11-08T17:20:58.293231Z",
     "shell.execute_reply": "2023-11-08T17:20:58.291583Z"
    },
    "papermill": {
     "duration": 0.015754,
     "end_time": "2023-11-08T17:20:58.295489",
     "exception": false,
     "start_time": "2023-11-08T17:20:58.279735",
     "status": "completed"
    },
    "tags": []
   },
   "outputs": [
    {
     "name": "stdout",
     "output_type": "stream",
     "text": [
      "Slope: 9449.96\n",
      "Predicted Salary at 30.0 years: 309291.07\n"
     ]
    }
   ],
   "source": [
    "import locale\n",
    "import warnings\n",
    "warnings.filterwarnings(\"ignore\", category=UserWarning)\n",
    "\n",
    "# Specify the nth year for prediction\n",
    "nth_year = 30.0  # Replace with the desired nth year\n",
    "\n",
    "# Make a prediction for the salary at the nth year\n",
    "predicted_salary = model.predict([[nth_year]])\n",
    "\n",
    "# Output the slope and predicted salary rounded to 2 decimals\n",
    "slope = model.coef_[0]\n",
    "rounded_predicted_salary = round(predicted_salary[0], 2)\n",
    "\n",
    "print(f\"Slope: {slope:.2f}\")\n",
    "print(f\"Predicted Salary at {nth_year} years: {rounded_predicted_salary:.2f}\")"
   ]
  }
 ],
 "metadata": {
  "kernelspec": {
   "display_name": "Python 3",
   "language": "python",
   "name": "python3"
  },
  "language_info": {
   "codemirror_mode": {
    "name": "ipython",
    "version": 3
   },
   "file_extension": ".py",
   "mimetype": "text/x-python",
   "name": "python",
   "nbconvert_exporter": "python",
   "pygments_lexer": "ipython3",
   "version": "3.10.12"
  },
  "papermill": {
   "default_parameters": {},
   "duration": 5.415275,
   "end_time": "2023-11-08T17:20:58.817226",
   "environment_variables": {},
   "exception": null,
   "input_path": "__notebook__.ipynb",
   "output_path": "__notebook__.ipynb",
   "parameters": {},
   "start_time": "2023-11-08T17:20:53.401951",
   "version": "2.4.0"
  }
 },
 "nbformat": 4,
 "nbformat_minor": 5
}
