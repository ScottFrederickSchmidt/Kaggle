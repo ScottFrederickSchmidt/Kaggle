{
 "cells": [
  {
   "cell_type": "markdown",
   "id": "e4820847",
   "metadata": {
    "papermill": {
     "duration": 0.038301,
     "end_time": "2022-10-13T17:13:37.334165",
     "exception": false,
     "start_time": "2022-10-13T17:13:37.295864",
     "status": "completed"
    },
    "tags": []
   },
   "source": [
    "# Machine Learning Titanic \n",
    "### SVM GridSearch\n",
    "SVM provides .78 accuracy which is near the best performing models below. Therefore, an extensive tunning using GridSearchCV will be used to help perfect SVM models. \n",
    "\n",
    "My newest, high performing models:\n",
    "* All initial models:\n",
    "https://github.com/ScottySchmidt/Kaggle/blob/main/Titanic.ipynb\n",
    "* Decision tree scores top 6%\n",
    "https://github.com/ScottySchmidt/Kaggle/blob/main/dtree.ipynb\n",
    "* xgBoost top 5%\n",
    "https://github.com/ScottySchmidt/Kaggle/blob/main/xgbTop5%25.ipynb\n",
    "* Random forest top 5%\n",
    "https://github.com/ScottySchmidt/Kaggle/blob/main/forestTop5%25.ipynb\n",
    "\n",
    "### KNN GridSearch\n",
    "KNN initially provided the worse accuracy results. Even with additional tunning using GridSearchCV, KNN still does not provide good results. "
   ]
  },
  {
   "cell_type": "markdown",
   "id": "8bc1cc95",
   "metadata": {
    "papermill": {
     "duration": 0.036971,
     "end_time": "2022-10-13T17:13:37.408551",
     "exception": false,
     "start_time": "2022-10-13T17:13:37.371580",
     "status": "completed"
    },
    "tags": []
   },
   "source": [
    "# Metrics\n",
    "The gradient classifier and logistic regression are the best two models that provide the highest best score. Interestingly, the gradient classifier does not have a high AUC but the results cross validate into the test dataset without overfitting the data. For example, decision tree can get an almost perfect AUC but when you cross validate the data it is clearly overfiting. "
   ]
  },
  {
   "cell_type": "markdown",
   "id": "621bb56b",
   "metadata": {
    "papermill": {
     "duration": 0.036125,
     "end_time": "2022-10-13T17:13:37.482933",
     "exception": false,
     "start_time": "2022-10-13T17:13:37.446808",
     "status": "completed"
    },
    "tags": []
   },
   "source": [
    "# Train Data\n",
    "Train.csv will contain the details of a subset of the passengers on board (891 to be exact) and whether they survive or not. The shape of the train data is (891, 12). "
   ]
  },
  {
   "cell_type": "code",
   "execution_count": 1,
   "id": "8c045502",
   "metadata": {
    "execution": {
     "iopub.execute_input": "2022-10-13T17:13:37.561205Z",
     "iopub.status.busy": "2022-10-13T17:13:37.560618Z",
     "iopub.status.idle": "2022-10-13T17:13:39.257065Z",
     "shell.execute_reply": "2022-10-13T17:13:39.256348Z"
    },
    "papermill": {
     "duration": 1.737998,
     "end_time": "2022-10-13T17:13:39.260263",
     "exception": false,
     "start_time": "2022-10-13T17:13:37.522265",
     "status": "completed"
    },
    "tags": []
   },
   "outputs": [
    {
     "name": "stdout",
     "output_type": "stream",
     "text": [
      "(891, 12)\n"
     ]
    },
    {
     "data": {
      "text/html": [
       "<div>\n",
       "<style scoped>\n",
       "    .dataframe tbody tr th:only-of-type {\n",
       "        vertical-align: middle;\n",
       "    }\n",
       "\n",
       "    .dataframe tbody tr th {\n",
       "        vertical-align: top;\n",
       "    }\n",
       "\n",
       "    .dataframe thead th {\n",
       "        text-align: right;\n",
       "    }\n",
       "</style>\n",
       "<table border=\"1\" class=\"dataframe\">\n",
       "  <thead>\n",
       "    <tr style=\"text-align: right;\">\n",
       "      <th></th>\n",
       "      <th>PassengerId</th>\n",
       "      <th>Survived</th>\n",
       "      <th>Pclass</th>\n",
       "      <th>Name</th>\n",
       "      <th>Sex</th>\n",
       "      <th>Age</th>\n",
       "      <th>SibSp</th>\n",
       "      <th>Parch</th>\n",
       "      <th>Ticket</th>\n",
       "      <th>Fare</th>\n",
       "      <th>Cabin</th>\n",
       "      <th>Embarked</th>\n",
       "    </tr>\n",
       "  </thead>\n",
       "  <tbody>\n",
       "    <tr>\n",
       "      <th>0</th>\n",
       "      <td>1</td>\n",
       "      <td>0</td>\n",
       "      <td>3</td>\n",
       "      <td>Braund, Mr. Owen Harris</td>\n",
       "      <td>male</td>\n",
       "      <td>22.0</td>\n",
       "      <td>1</td>\n",
       "      <td>0</td>\n",
       "      <td>A/5 21171</td>\n",
       "      <td>7.2500</td>\n",
       "      <td>NaN</td>\n",
       "      <td>S</td>\n",
       "    </tr>\n",
       "    <tr>\n",
       "      <th>1</th>\n",
       "      <td>2</td>\n",
       "      <td>1</td>\n",
       "      <td>1</td>\n",
       "      <td>Cumings, Mrs. John Bradley (Florence Briggs Th...</td>\n",
       "      <td>female</td>\n",
       "      <td>38.0</td>\n",
       "      <td>1</td>\n",
       "      <td>0</td>\n",
       "      <td>PC 17599</td>\n",
       "      <td>71.2833</td>\n",
       "      <td>C85</td>\n",
       "      <td>C</td>\n",
       "    </tr>\n",
       "    <tr>\n",
       "      <th>2</th>\n",
       "      <td>3</td>\n",
       "      <td>1</td>\n",
       "      <td>3</td>\n",
       "      <td>Heikkinen, Miss. Laina</td>\n",
       "      <td>female</td>\n",
       "      <td>26.0</td>\n",
       "      <td>0</td>\n",
       "      <td>0</td>\n",
       "      <td>STON/O2. 3101282</td>\n",
       "      <td>7.9250</td>\n",
       "      <td>NaN</td>\n",
       "      <td>S</td>\n",
       "    </tr>\n",
       "    <tr>\n",
       "      <th>3</th>\n",
       "      <td>4</td>\n",
       "      <td>1</td>\n",
       "      <td>1</td>\n",
       "      <td>Futrelle, Mrs. Jacques Heath (Lily May Peel)</td>\n",
       "      <td>female</td>\n",
       "      <td>35.0</td>\n",
       "      <td>1</td>\n",
       "      <td>0</td>\n",
       "      <td>113803</td>\n",
       "      <td>53.1000</td>\n",
       "      <td>C123</td>\n",
       "      <td>S</td>\n",
       "    </tr>\n",
       "    <tr>\n",
       "      <th>4</th>\n",
       "      <td>5</td>\n",
       "      <td>0</td>\n",
       "      <td>3</td>\n",
       "      <td>Allen, Mr. William Henry</td>\n",
       "      <td>male</td>\n",
       "      <td>35.0</td>\n",
       "      <td>0</td>\n",
       "      <td>0</td>\n",
       "      <td>373450</td>\n",
       "      <td>8.0500</td>\n",
       "      <td>NaN</td>\n",
       "      <td>S</td>\n",
       "    </tr>\n",
       "  </tbody>\n",
       "</table>\n",
       "</div>"
      ],
      "text/plain": [
       "   PassengerId  Survived  Pclass  \\\n",
       "0            1         0       3   \n",
       "1            2         1       1   \n",
       "2            3         1       3   \n",
       "3            4         1       1   \n",
       "4            5         0       3   \n",
       "\n",
       "                                                Name     Sex   Age  SibSp  \\\n",
       "0                            Braund, Mr. Owen Harris    male  22.0      1   \n",
       "1  Cumings, Mrs. John Bradley (Florence Briggs Th...  female  38.0      1   \n",
       "2                             Heikkinen, Miss. Laina  female  26.0      0   \n",
       "3       Futrelle, Mrs. Jacques Heath (Lily May Peel)  female  35.0      1   \n",
       "4                           Allen, Mr. William Henry    male  35.0      0   \n",
       "\n",
       "   Parch            Ticket     Fare Cabin Embarked  \n",
       "0      0         A/5 21171   7.2500   NaN        S  \n",
       "1      0          PC 17599  71.2833   C85        C  \n",
       "2      0  STON/O2. 3101282   7.9250   NaN        S  \n",
       "3      0            113803  53.1000  C123        S  \n",
       "4      0            373450   8.0500   NaN        S  "
      ]
     },
     "execution_count": 1,
     "metadata": {},
     "output_type": "execute_result"
    }
   ],
   "source": [
    "import numpy as np\n",
    "import pandas as pd\n",
    "import seaborn as sns\n",
    "import matplotlib.pyplot as plt\n",
    "from sklearn.model_selection import train_test_split, cross_validate, GridSearchCV\n",
    "from statistics import mean\n",
    "from sklearn.metrics import accuracy_score, classification_report, mean_absolute_error, mean_squared_error, r2_score\n",
    "from sklearn.datasets import make_classification\n",
    "from sklearn import ensemble\n",
    "import sklearn.metrics as metrics\n",
    "import time\n",
    "from math import sqrt\n",
    "\n",
    "train=r'/kaggle/input/titanic/train.csv'\n",
    "test=r'/kaggle/input/titanic/test.csv' \n",
    "\n",
    "df=pd.read_csv(train)\n",
    "test=pd.read_csv(test)\n",
    "\n",
    "print(df.shape)\n",
    "df.head()"
   ]
  },
  {
   "cell_type": "code",
   "execution_count": 2,
   "id": "2c1b080e",
   "metadata": {
    "execution": {
     "iopub.execute_input": "2022-10-13T17:13:39.338432Z",
     "iopub.status.busy": "2022-10-13T17:13:39.337827Z",
     "iopub.status.idle": "2022-10-13T17:13:39.345210Z",
     "shell.execute_reply": "2022-10-13T17:13:39.344348Z"
    },
    "papermill": {
     "duration": 0.048629,
     "end_time": "2022-10-13T17:13:39.347077",
     "exception": false,
     "start_time": "2022-10-13T17:13:39.298448",
     "status": "completed"
    },
    "tags": []
   },
   "outputs": [
    {
     "data": {
      "text/plain": [
       "PassengerId      int64\n",
       "Survived         int64\n",
       "Pclass           int64\n",
       "Name            object\n",
       "Sex             object\n",
       "Age            float64\n",
       "SibSp            int64\n",
       "Parch            int64\n",
       "Ticket          object\n",
       "Fare           float64\n",
       "Cabin           object\n",
       "Embarked        object\n",
       "dtype: object"
      ]
     },
     "execution_count": 2,
     "metadata": {},
     "output_type": "execute_result"
    }
   ],
   "source": [
    "df.dtypes"
   ]
  },
  {
   "cell_type": "code",
   "execution_count": 3,
   "id": "4946d678",
   "metadata": {
    "execution": {
     "iopub.execute_input": "2022-10-13T17:13:39.425296Z",
     "iopub.status.busy": "2022-10-13T17:13:39.424698Z",
     "iopub.status.idle": "2022-10-13T17:13:39.452505Z",
     "shell.execute_reply": "2022-10-13T17:13:39.451491Z"
    },
    "papermill": {
     "duration": 0.069573,
     "end_time": "2022-10-13T17:13:39.454676",
     "exception": false,
     "start_time": "2022-10-13T17:13:39.385103",
     "status": "completed"
    },
    "tags": []
   },
   "outputs": [
    {
     "name": "stdout",
     "output_type": "stream",
     "text": [
      "Total no of duplicate values in Training Dataset = 0\n"
     ]
    },
    {
     "data": {
      "text/html": [
       "<div>\n",
       "<style scoped>\n",
       "    .dataframe tbody tr th:only-of-type {\n",
       "        vertical-align: middle;\n",
       "    }\n",
       "\n",
       "    .dataframe tbody tr th {\n",
       "        vertical-align: top;\n",
       "    }\n",
       "\n",
       "    .dataframe thead th {\n",
       "        text-align: right;\n",
       "    }\n",
       "</style>\n",
       "<table border=\"1\" class=\"dataframe\">\n",
       "  <thead>\n",
       "    <tr style=\"text-align: right;\">\n",
       "      <th></th>\n",
       "      <th>PassengerId</th>\n",
       "      <th>Survived</th>\n",
       "      <th>Pclass</th>\n",
       "      <th>Name</th>\n",
       "      <th>Sex</th>\n",
       "      <th>Age</th>\n",
       "      <th>SibSp</th>\n",
       "      <th>Parch</th>\n",
       "      <th>Ticket</th>\n",
       "      <th>Fare</th>\n",
       "      <th>Cabin</th>\n",
       "      <th>Embarked</th>\n",
       "    </tr>\n",
       "  </thead>\n",
       "  <tbody>\n",
       "  </tbody>\n",
       "</table>\n",
       "</div>"
      ],
      "text/plain": [
       "Empty DataFrame\n",
       "Columns: [PassengerId, Survived, Pclass, Name, Sex, Age, SibSp, Parch, Ticket, Fare, Cabin, Embarked]\n",
       "Index: []"
      ]
     },
     "execution_count": 3,
     "metadata": {},
     "output_type": "execute_result"
    }
   ],
   "source": [
    "#Check Duplicates:\n",
    "dupstr = df.duplicated()\n",
    "print('Total no of duplicate values in Training Dataset = %d' % (dupstr.sum()))\n",
    "df[dupstr]"
   ]
  },
  {
   "cell_type": "code",
   "execution_count": 4,
   "id": "72c0a83f",
   "metadata": {
    "execution": {
     "iopub.execute_input": "2022-10-13T17:13:39.535431Z",
     "iopub.status.busy": "2022-10-13T17:13:39.535115Z",
     "iopub.status.idle": "2022-10-13T17:13:39.545923Z",
     "shell.execute_reply": "2022-10-13T17:13:39.544384Z"
    },
    "papermill": {
     "duration": 0.052824,
     "end_time": "2022-10-13T17:13:39.548131",
     "exception": false,
     "start_time": "2022-10-13T17:13:39.495307",
     "status": "completed"
    },
    "tags": []
   },
   "outputs": [
    {
     "name": "stdout",
     "output_type": "stream",
     "text": [
      "Missing data by column as a percent:\n",
      "Cabin          0.771044\n",
      "Age            0.198653\n",
      "Embarked       0.002245\n",
      "PassengerId    0.000000\n",
      "Survived       0.000000\n",
      "dtype: float64\n"
     ]
    }
   ],
   "source": [
    "#search for columns with missing values:\n",
    "def findNA():\n",
    "    print(\"Missing data by column as a percent:\")\n",
    "    findNA=df.isnull().sum().sort_values(ascending=False)/len(df)\n",
    "    print(findNA.head())\n",
    "findNA() "
   ]
  },
  {
   "cell_type": "markdown",
   "id": "30314150",
   "metadata": {
    "papermill": {
     "duration": 0.039305,
     "end_time": "2022-10-13T17:13:39.627241",
     "exception": false,
     "start_time": "2022-10-13T17:13:39.587936",
     "status": "completed"
    },
    "tags": []
   },
   "source": [
    "# Feature Engineer\n",
    "We need to replace male and female into numbers. This is a very important part of the process because gender is one of the highest predictors on if a person survived or not."
   ]
  },
  {
   "cell_type": "code",
   "execution_count": 5,
   "id": "e6c77f96",
   "metadata": {
    "execution": {
     "iopub.execute_input": "2022-10-13T17:13:39.707629Z",
     "iopub.status.busy": "2022-10-13T17:13:39.707293Z",
     "iopub.status.idle": "2022-10-13T17:13:39.713617Z",
     "shell.execute_reply": "2022-10-13T17:13:39.712478Z"
    },
    "papermill": {
     "duration": 0.048986,
     "end_time": "2022-10-13T17:13:39.715792",
     "exception": false,
     "start_time": "2022-10-13T17:13:39.666806",
     "status": "completed"
    },
    "tags": []
   },
   "outputs": [],
   "source": [
    "#GENDER\n",
    "df['Sex']=df['Sex'].map({'female':0,'male':1})"
   ]
  },
  {
   "cell_type": "markdown",
   "id": "5dc8a656",
   "metadata": {
    "papermill": {
     "duration": 0.039536,
     "end_time": "2022-10-13T17:13:39.794654",
     "exception": false,
     "start_time": "2022-10-13T17:13:39.755118",
     "status": "completed"
    },
    "tags": []
   },
   "source": [
    "Females whose number is 0 had a much higher chance of surving than males. Later on, doing the importance feature analysis we will view that gender is actually one of the highest predictors. "
   ]
  },
  {
   "cell_type": "code",
   "execution_count": 6,
   "id": "4dfb8552",
   "metadata": {
    "execution": {
     "iopub.execute_input": "2022-10-13T17:13:39.874702Z",
     "iopub.status.busy": "2022-10-13T17:13:39.874138Z",
     "iopub.status.idle": "2022-10-13T17:13:39.903665Z",
     "shell.execute_reply": "2022-10-13T17:13:39.902671Z"
    },
    "papermill": {
     "duration": 0.072299,
     "end_time": "2022-10-13T17:13:39.906054",
     "exception": false,
     "start_time": "2022-10-13T17:13:39.833755",
     "status": "completed"
    },
    "tags": []
   },
   "outputs": [
    {
     "data": {
      "text/html": [
       "<div>\n",
       "<style scoped>\n",
       "    .dataframe tbody tr th:only-of-type {\n",
       "        vertical-align: middle;\n",
       "    }\n",
       "\n",
       "    .dataframe tbody tr th {\n",
       "        vertical-align: top;\n",
       "    }\n",
       "\n",
       "    .dataframe thead th {\n",
       "        text-align: right;\n",
       "    }\n",
       "</style>\n",
       "<table border=\"1\" class=\"dataframe\">\n",
       "  <thead>\n",
       "    <tr style=\"text-align: right;\">\n",
       "      <th>Sex</th>\n",
       "      <th>0</th>\n",
       "      <th>1</th>\n",
       "    </tr>\n",
       "    <tr>\n",
       "      <th>Survived</th>\n",
       "      <th></th>\n",
       "      <th></th>\n",
       "    </tr>\n",
       "  </thead>\n",
       "  <tbody>\n",
       "    <tr>\n",
       "      <th>0</th>\n",
       "      <td>81</td>\n",
       "      <td>468</td>\n",
       "    </tr>\n",
       "    <tr>\n",
       "      <th>1</th>\n",
       "      <td>233</td>\n",
       "      <td>109</td>\n",
       "    </tr>\n",
       "  </tbody>\n",
       "</table>\n",
       "</div>"
      ],
      "text/plain": [
       "Sex         0    1\n",
       "Survived          \n",
       "0          81  468\n",
       "1         233  109"
      ]
     },
     "execution_count": 6,
     "metadata": {},
     "output_type": "execute_result"
    }
   ],
   "source": [
    "genderTable = pd.crosstab(df['Survived'],df['Sex'])\n",
    "genderTable"
   ]
  },
  {
   "cell_type": "markdown",
   "id": "787db478",
   "metadata": {
    "papermill": {
     "duration": 0.040832,
     "end_time": "2022-10-13T17:13:39.986380",
     "exception": false,
     "start_time": "2022-10-13T17:13:39.945548",
     "status": "completed"
    },
    "tags": []
   },
   "source": [
    "# Encode Categorical Variables\n",
    "Encode Categorical Variables is needed for this dataset since there are many important variables that are not numeric yet. \n",
    "\n",
    "There are three classes C, Q, and S. Class C seems to have the highest chance of survival. Class S has the lowest chance of survival. Unfornately this would tend to show that economic status seems to played a part in the decision if someone survived or not. Embarked does not play role major role in feature importance. "
   ]
  },
  {
   "cell_type": "code",
   "execution_count": 7,
   "id": "153e1d85",
   "metadata": {
    "execution": {
     "iopub.execute_input": "2022-10-13T17:13:40.069843Z",
     "iopub.status.busy": "2022-10-13T17:13:40.068866Z",
     "iopub.status.idle": "2022-10-13T17:13:40.272665Z",
     "shell.execute_reply": "2022-10-13T17:13:40.271852Z"
    },
    "papermill": {
     "duration": 0.248165,
     "end_time": "2022-10-13T17:13:40.275017",
     "exception": false,
     "start_time": "2022-10-13T17:13:40.026852",
     "status": "completed"
    },
    "tags": []
   },
   "outputs": [],
   "source": [
    "import category_encoders as ce\n",
    "#encoder = ce.OrdinalEncoder(cols=['Embarked'])\n",
    "\n",
    "#df = encoder.fit_transform(df)\n",
    "#test = encoder.fit_transform(test)\n",
    "#test.head()"
   ]
  },
  {
   "cell_type": "markdown",
   "id": "b5c46b86",
   "metadata": {
    "papermill": {
     "duration": 0.039304,
     "end_time": "2022-10-13T17:13:40.354053",
     "exception": false,
     "start_time": "2022-10-13T17:13:40.314749",
     "status": "completed"
    },
    "tags": []
   },
   "source": [
    "# Examine Target Variable\n",
    "Survived is the Y variable we will be analyzing. Since the survival rete is 0.384 the data is not considered unbalanced. "
   ]
  },
  {
   "cell_type": "code",
   "execution_count": 8,
   "id": "613ddb36",
   "metadata": {
    "execution": {
     "iopub.execute_input": "2022-10-13T17:13:40.437378Z",
     "iopub.status.busy": "2022-10-13T17:13:40.436888Z",
     "iopub.status.idle": "2022-10-13T17:13:40.444707Z",
     "shell.execute_reply": "2022-10-13T17:13:40.443503Z"
    },
    "papermill": {
     "duration": 0.053351,
     "end_time": "2022-10-13T17:13:40.447809",
     "exception": false,
     "start_time": "2022-10-13T17:13:40.394458",
     "status": "completed"
    },
    "tags": []
   },
   "outputs": [
    {
     "name": "stdout",
     "output_type": "stream",
     "text": [
      "0    549\n",
      "1    342\n",
      "Name: Survived, dtype: int64\n",
      "Percent that survived:  0.384\n"
     ]
    }
   ],
   "source": [
    "temp=df['Survived'].value_counts()\n",
    "print(temp)\n",
    "no=temp[0]\n",
    "yes=temp[1]\n",
    "percent=round(yes/(yes+no),3)\n",
    "print(\"Percent that survived: \", percent)"
   ]
  },
  {
   "cell_type": "markdown",
   "id": "d8df353a",
   "metadata": {
    "papermill": {
     "duration": 0.040507,
     "end_time": "2022-10-13T17:13:40.528971",
     "exception": false,
     "start_time": "2022-10-13T17:13:40.488464",
     "status": "completed"
    },
    "tags": []
   },
   "source": [
    "# Numeric DataFrame\n",
    "For now, we will analyze only numeric values. Categorical values will need to be encoded or analyzed individually."
   ]
  },
  {
   "cell_type": "code",
   "execution_count": 9,
   "id": "c336bafa",
   "metadata": {
    "execution": {
     "iopub.execute_input": "2022-10-13T17:13:40.614769Z",
     "iopub.status.busy": "2022-10-13T17:13:40.613798Z",
     "iopub.status.idle": "2022-10-13T17:13:40.629763Z",
     "shell.execute_reply": "2022-10-13T17:13:40.628847Z"
    },
    "papermill": {
     "duration": 0.060951,
     "end_time": "2022-10-13T17:13:40.631958",
     "exception": false,
     "start_time": "2022-10-13T17:13:40.571007",
     "status": "completed"
    },
    "tags": []
   },
   "outputs": [
    {
     "data": {
      "text/html": [
       "<div>\n",
       "<style scoped>\n",
       "    .dataframe tbody tr th:only-of-type {\n",
       "        vertical-align: middle;\n",
       "    }\n",
       "\n",
       "    .dataframe tbody tr th {\n",
       "        vertical-align: top;\n",
       "    }\n",
       "\n",
       "    .dataframe thead th {\n",
       "        text-align: right;\n",
       "    }\n",
       "</style>\n",
       "<table border=\"1\" class=\"dataframe\">\n",
       "  <thead>\n",
       "    <tr style=\"text-align: right;\">\n",
       "      <th></th>\n",
       "      <th>PassengerId</th>\n",
       "      <th>Survived</th>\n",
       "      <th>Pclass</th>\n",
       "      <th>Sex</th>\n",
       "      <th>Age</th>\n",
       "      <th>SibSp</th>\n",
       "      <th>Parch</th>\n",
       "      <th>Fare</th>\n",
       "    </tr>\n",
       "  </thead>\n",
       "  <tbody>\n",
       "    <tr>\n",
       "      <th>0</th>\n",
       "      <td>1</td>\n",
       "      <td>0</td>\n",
       "      <td>3</td>\n",
       "      <td>1</td>\n",
       "      <td>22.0</td>\n",
       "      <td>1</td>\n",
       "      <td>0</td>\n",
       "      <td>7.2500</td>\n",
       "    </tr>\n",
       "    <tr>\n",
       "      <th>1</th>\n",
       "      <td>2</td>\n",
       "      <td>1</td>\n",
       "      <td>1</td>\n",
       "      <td>0</td>\n",
       "      <td>38.0</td>\n",
       "      <td>1</td>\n",
       "      <td>0</td>\n",
       "      <td>71.2833</td>\n",
       "    </tr>\n",
       "    <tr>\n",
       "      <th>2</th>\n",
       "      <td>3</td>\n",
       "      <td>1</td>\n",
       "      <td>3</td>\n",
       "      <td>0</td>\n",
       "      <td>26.0</td>\n",
       "      <td>0</td>\n",
       "      <td>0</td>\n",
       "      <td>7.9250</td>\n",
       "    </tr>\n",
       "    <tr>\n",
       "      <th>3</th>\n",
       "      <td>4</td>\n",
       "      <td>1</td>\n",
       "      <td>1</td>\n",
       "      <td>0</td>\n",
       "      <td>35.0</td>\n",
       "      <td>1</td>\n",
       "      <td>0</td>\n",
       "      <td>53.1000</td>\n",
       "    </tr>\n",
       "    <tr>\n",
       "      <th>4</th>\n",
       "      <td>5</td>\n",
       "      <td>0</td>\n",
       "      <td>3</td>\n",
       "      <td>1</td>\n",
       "      <td>35.0</td>\n",
       "      <td>0</td>\n",
       "      <td>0</td>\n",
       "      <td>8.0500</td>\n",
       "    </tr>\n",
       "  </tbody>\n",
       "</table>\n",
       "</div>"
      ],
      "text/plain": [
       "   PassengerId  Survived  Pclass  Sex   Age  SibSp  Parch     Fare\n",
       "0            1         0       3    1  22.0      1      0   7.2500\n",
       "1            2         1       1    0  38.0      1      0  71.2833\n",
       "2            3         1       3    0  26.0      0      0   7.9250\n",
       "3            4         1       1    0  35.0      1      0  53.1000\n",
       "4            5         0       3    1  35.0      0      0   8.0500"
      ]
     },
     "execution_count": 9,
     "metadata": {},
     "output_type": "execute_result"
    }
   ],
   "source": [
    "numerics = ['int16', 'int32', 'int64', 'float16', 'float32', 'float64']\n",
    "df = df.select_dtypes(include=numerics)\n",
    "df.head()"
   ]
  },
  {
   "cell_type": "markdown",
   "id": "c3991333",
   "metadata": {
    "papermill": {
     "duration": 0.040594,
     "end_time": "2022-10-13T17:13:40.713233",
     "exception": false,
     "start_time": "2022-10-13T17:13:40.672639",
     "status": "completed"
    },
    "tags": []
   },
   "source": [
    "# Check for missing values\n",
    "Age is missing around 20% of values.Therefore, we can simply fill in the mean for that one column."
   ]
  },
  {
   "cell_type": "code",
   "execution_count": 10,
   "id": "17a845ff",
   "metadata": {
    "execution": {
     "iopub.execute_input": "2022-10-13T17:13:40.796271Z",
     "iopub.status.busy": "2022-10-13T17:13:40.795987Z",
     "iopub.status.idle": "2022-10-13T17:13:40.804069Z",
     "shell.execute_reply": "2022-10-13T17:13:40.803097Z"
    },
    "papermill": {
     "duration": 0.052806,
     "end_time": "2022-10-13T17:13:40.806845",
     "exception": false,
     "start_time": "2022-10-13T17:13:40.754039",
     "status": "completed"
    },
    "tags": []
   },
   "outputs": [
    {
     "name": "stdout",
     "output_type": "stream",
     "text": [
      "Missing data by column as a percent:\n",
      "Age            0.198653\n",
      "PassengerId    0.000000\n",
      "Survived       0.000000\n",
      "Pclass         0.000000\n",
      "Sex            0.000000\n",
      "dtype: float64\n"
     ]
    }
   ],
   "source": [
    "#search for columns with missing values:\n",
    "def findNA():\n",
    "    print(\"Missing data by column as a percent:\")\n",
    "    findNA=df.isnull().sum().sort_values(ascending=False)/len(df)\n",
    "    print(findNA.head())\n",
    "findNA() "
   ]
  },
  {
   "cell_type": "code",
   "execution_count": 11,
   "id": "af3389df",
   "metadata": {
    "execution": {
     "iopub.execute_input": "2022-10-13T17:13:40.892201Z",
     "iopub.status.busy": "2022-10-13T17:13:40.891927Z",
     "iopub.status.idle": "2022-10-13T17:13:40.898368Z",
     "shell.execute_reply": "2022-10-13T17:13:40.897674Z"
    },
    "papermill": {
     "duration": 0.052335,
     "end_time": "2022-10-13T17:13:40.900395",
     "exception": false,
     "start_time": "2022-10-13T17:13:40.848060",
     "status": "completed"
    },
    "tags": []
   },
   "outputs": [],
   "source": [
    "df= df.fillna(df.mean())"
   ]
  },
  {
   "cell_type": "markdown",
   "id": "5d8a4782",
   "metadata": {
    "papermill": {
     "duration": 0.040922,
     "end_time": "2022-10-13T17:13:40.981981",
     "exception": false,
     "start_time": "2022-10-13T17:13:40.941059",
     "status": "completed"
    },
    "tags": []
   },
   "source": [
    "# Split Data"
   ]
  },
  {
   "cell_type": "code",
   "execution_count": 12,
   "id": "f5c1d100",
   "metadata": {
    "execution": {
     "iopub.execute_input": "2022-10-13T17:13:41.069227Z",
     "iopub.status.busy": "2022-10-13T17:13:41.068909Z",
     "iopub.status.idle": "2022-10-13T17:13:41.077410Z",
     "shell.execute_reply": "2022-10-13T17:13:41.076428Z"
    },
    "papermill": {
     "duration": 0.052743,
     "end_time": "2022-10-13T17:13:41.079495",
     "exception": false,
     "start_time": "2022-10-13T17:13:41.026752",
     "status": "completed"
    },
    "tags": []
   },
   "outputs": [],
   "source": [
    "X=df.drop('Survived', axis=1)\n",
    "y=df['Survived']\n",
    "\n",
    "X_train, X_test, y_train, y_test = train_test_split(\n",
    "    X, y, test_size = 0.30, random_state = 42)"
   ]
  },
  {
   "cell_type": "markdown",
   "id": "a4dcfc81",
   "metadata": {
    "papermill": {
     "duration": 0.040805,
     "end_time": "2022-10-13T17:13:41.161933",
     "exception": false,
     "start_time": "2022-10-13T17:13:41.121128",
     "status": "completed"
    },
    "tags": []
   },
   "source": [
    "# Highly Correlated Features\n",
    "There are no highly correlated variables above 80%. Therefore, we do not need to be concerned about removing variables that are too highly correlated. "
   ]
  },
  {
   "cell_type": "markdown",
   "id": "79d2817c",
   "metadata": {
    "papermill": {
     "duration": 0.041923,
     "end_time": "2022-10-13T17:13:41.244918",
     "exception": false,
     "start_time": "2022-10-13T17:13:41.202995",
     "status": "completed"
    },
    "tags": []
   },
   "source": [
    "# K-Nearest Neighbors (KNN)\n",
    "Initial tuning provides around a .59 AUC. This model does not seem to be very effective on this dataset."
   ]
  },
  {
   "cell_type": "markdown",
   "id": "44ee60e1",
   "metadata": {
    "papermill": {
     "duration": 0.040785,
     "end_time": "2022-10-13T17:13:41.327716",
     "exception": false,
     "start_time": "2022-10-13T17:13:41.286931",
     "status": "completed"
    },
    "tags": []
   },
   "source": [
    "n_neighbors = 3 provides the least amount of error:"
   ]
  },
  {
   "cell_type": "code",
   "execution_count": 13,
   "id": "27530800",
   "metadata": {
    "execution": {
     "iopub.execute_input": "2022-10-13T17:13:41.411380Z",
     "iopub.status.busy": "2022-10-13T17:13:41.411057Z",
     "iopub.status.idle": "2022-10-13T17:13:41.419526Z",
     "shell.execute_reply": "2022-10-13T17:13:41.418887Z"
    },
    "papermill": {
     "duration": 0.052889,
     "end_time": "2022-10-13T17:13:41.421575",
     "exception": false,
     "start_time": "2022-10-13T17:13:41.368686",
     "status": "completed"
    },
    "tags": []
   },
   "outputs": [],
   "source": [
    "from sklearn.neighbors import KNeighborsClassifier, KNeighborsRegressor\n",
    "\n",
    "def knnError():\n",
    "    numbers=list(range(1, 16, 2))\n",
    "    error_rates = []\n",
    "    accList=[]\n",
    "    for n in numbers: #Must be an odd number to break a tie\n",
    "        new_model = KNeighborsClassifier(n_neighbors =  n)\n",
    "        new_model.fit(X_train, y_train)\n",
    "        y_pred = new_model.predict(X_test)\n",
    "        error_rates.append(np.mean( y_pred != y_test))\n",
    "        knn_auc = round( metrics.roc_auc_score(y_test,  y_pred), 4 ) \n",
    "        accList.append(knn_auc)\n",
    "    plt.plot(numbers, error_rates)\n",
    "    plt.title(\"KNN Error n_neighbors\")\n",
    "    plt.xlabel(\"n_neighbors\")\n",
    "    plt.ylabel(\"Error Rate\")\n",
    "    plt.show()\n",
    "    \n",
    "    plt.plot(numbers, accList)\n",
    "    plt.title(\"Knn Accuracy \")\n",
    "    plt.xlabel(\"n_neighbors\")\n",
    "    plt.ylabel(\"Accuracy\")\n",
    "    plt.show()\n",
    "#knnError() "
   ]
  },
  {
   "cell_type": "code",
   "execution_count": 14,
   "id": "2d747976",
   "metadata": {
    "execution": {
     "iopub.execute_input": "2022-10-13T17:13:41.512037Z",
     "iopub.status.busy": "2022-10-13T17:13:41.511721Z",
     "iopub.status.idle": "2022-10-13T17:13:41.519101Z",
     "shell.execute_reply": "2022-10-13T17:13:41.518083Z"
    },
    "papermill": {
     "duration": 0.055094,
     "end_time": "2022-10-13T17:13:41.521452",
     "exception": false,
     "start_time": "2022-10-13T17:13:41.466358",
     "status": "completed"
    },
    "tags": []
   },
   "outputs": [],
   "source": [
    "def knnLeaf():\n",
    "    error_rates = []\n",
    "    accList=[]\n",
    "    numbers=list(range(1,50))\n",
    "    for n in numbers: \n",
    "        new_model = KNeighborsClassifier(leaf_size =  n)\n",
    "        new_model.fit(X_train, y_train)\n",
    "        y_pred = new_model.predict(X_test)\n",
    "        error_rates.append(np.mean(y_pred != y_test))\n",
    "        knn_auc = round( metrics.roc_auc_score(y_test,  y_pred), 4 ) \n",
    "        accList.append(knn_auc)\n",
    "        #print(\"Knn AUC: \", knn_auc)\n",
    "    plt.plot(numbers, error_rates)\n",
    "    plt.title(\"KNN Error\")\n",
    "    plt.xlabel(\"leaf_size\")\n",
    "    plt.ylabel(\"Error Rate\")\n",
    "    plt.show()\n",
    "    \n",
    "    plt.plot(numbers, accList)\n",
    "    plt.title(\"Knn Accuracy \")\n",
    "    plt.xlabel(\"leaf_size\")\n",
    "    plt.ylabel(\"Accuracy\")\n",
    "    plt.show()\n",
    "#knnLeaf() "
   ]
  },
  {
   "cell_type": "markdown",
   "id": "915d8e31",
   "metadata": {
    "papermill": {
     "duration": 0.040618,
     "end_time": "2022-10-13T17:13:41.604857",
     "exception": false,
     "start_time": "2022-10-13T17:13:41.564239",
     "status": "completed"
    },
    "tags": []
   },
   "source": [
    "# KNN GridSearch"
   ]
  },
  {
   "cell_type": "code",
   "execution_count": 15,
   "id": "535e4008",
   "metadata": {
    "execution": {
     "iopub.execute_input": "2022-10-13T17:13:41.688670Z",
     "iopub.status.busy": "2022-10-13T17:13:41.688058Z",
     "iopub.status.idle": "2022-10-13T17:13:41.693317Z",
     "shell.execute_reply": "2022-10-13T17:13:41.692671Z"
    },
    "papermill": {
     "duration": 0.04983,
     "end_time": "2022-10-13T17:13:41.695357",
     "exception": false,
     "start_time": "2022-10-13T17:13:41.645527",
     "status": "completed"
    },
    "tags": []
   },
   "outputs": [],
   "source": [
    "def knnGrid():\n",
    "    n_neighbors = list(range(1, 16, 2))\n",
    "    p=[1,2]\n",
    "\n",
    "    print(\"start\")\n",
    "    params=dict(n_neighbors=n_neighbors, p=p, metric= ['euclidean', 'manhattan'])\n",
    "    grid=GridSearchCV(KNeighborsClassifier(), params, cv=5, scoring='accuracy')\n",
    "    knnGrid=grid.fit(X, y)\n",
    "    print(knnGrid.best_estimator_)\n",
    "#knnGrid()"
   ]
  },
  {
   "cell_type": "markdown",
   "id": "462698d9",
   "metadata": {
    "papermill": {
     "duration": 0.040674,
     "end_time": "2022-10-13T17:13:41.777023",
     "exception": false,
     "start_time": "2022-10-13T17:13:41.736349",
     "status": "completed"
    },
    "tags": []
   },
   "source": [
    "# Final KNN Prediction"
   ]
  },
  {
   "cell_type": "code",
   "execution_count": 16,
   "id": "6fc1f7ae",
   "metadata": {
    "execution": {
     "iopub.execute_input": "2022-10-13T17:13:41.862526Z",
     "iopub.status.busy": "2022-10-13T17:13:41.861977Z",
     "iopub.status.idle": "2022-10-13T17:13:41.878682Z",
     "shell.execute_reply": "2022-10-13T17:13:41.877959Z"
    },
    "papermill": {
     "duration": 0.061452,
     "end_time": "2022-10-13T17:13:41.881231",
     "exception": false,
     "start_time": "2022-10-13T17:13:41.819779",
     "status": "completed"
    },
    "tags": []
   },
   "outputs": [
    {
     "name": "stdout",
     "output_type": "stream",
     "text": [
      "Knn AUC:  0.6723\n",
      "MSE  0.4751\n"
     ]
    }
   ],
   "source": [
    "knnFinal = KNeighborsClassifier(n_neighbors =15, p=1, metric='manhattan')\n",
    "\n",
    "#FIT and PREDICT:\n",
    "knnFinal.fit(X_train, y_train)\n",
    "y_pred =  knnFinal.predict_proba(X_test)[::,1]\n",
    "\n",
    "#calculate AUC of model\n",
    "knn_auc = round( metrics.roc_auc_score(y_test, y_pred ), 4 ) \n",
    "print(\"Knn AUC: \", knn_auc)\n",
    "error = round(sqrt(mean_squared_error(y_test, y_pred )), 4)\n",
    "print(\"MSE \", error)"
   ]
  },
  {
   "cell_type": "markdown",
   "id": "4c3209dd",
   "metadata": {
    "papermill": {
     "duration": 0.040957,
     "end_time": "2022-10-13T17:13:41.964108",
     "exception": false,
     "start_time": "2022-10-13T17:13:41.923151",
     "status": "completed"
    },
    "tags": []
   },
   "source": [
    "# Support Vector \n",
    "The initial results for SVM AUC with no parameter tunning is 0.5336.  The model does not seem worth investing lots of time into due to poor AUC performance. \n",
    "\n",
    "#### GridSearch Tune\n",
    "The best parameters from tunning SVM is SVC(C=1000, gamma=0.0001)."
   ]
  },
  {
   "cell_type": "code",
   "execution_count": 17,
   "id": "766dd635",
   "metadata": {
    "execution": {
     "iopub.execute_input": "2022-10-13T17:13:42.049696Z",
     "iopub.status.busy": "2022-10-13T17:13:42.049185Z",
     "iopub.status.idle": "2022-10-13T17:13:42.052673Z",
     "shell.execute_reply": "2022-10-13T17:13:42.051975Z"
    },
    "papermill": {
     "duration": 0.048886,
     "end_time": "2022-10-13T17:13:42.054672",
     "exception": false,
     "start_time": "2022-10-13T17:13:42.005786",
     "status": "completed"
    },
    "tags": []
   },
   "outputs": [],
   "source": [
    "from sklearn.svm import SVC"
   ]
  },
  {
   "cell_type": "code",
   "execution_count": 18,
   "id": "63d8561b",
   "metadata": {
    "execution": {
     "iopub.execute_input": "2022-10-13T17:13:42.139016Z",
     "iopub.status.busy": "2022-10-13T17:13:42.138569Z",
     "iopub.status.idle": "2022-10-13T17:13:44.431315Z",
     "shell.execute_reply": "2022-10-13T17:13:44.430333Z"
    },
    "papermill": {
     "duration": 2.337479,
     "end_time": "2022-10-13T17:13:44.433441",
     "exception": false,
     "start_time": "2022-10-13T17:13:42.095962",
     "status": "completed"
    },
    "tags": []
   },
   "outputs": [
    {
     "data": {
      "image/png": "[encoded data removed]",
      "text/plain": [
       "<Figure size 432x288 with 1 Axes>"
      ]
     },
     "metadata": {
      "needs_background": "light"
     },
     "output_type": "display_data"
    },
    {
     "data": {
      "image/png": "[encoded data removed]",
      "text/plain": [
       "<Figure size 432x288 with 1 Axes>"
      ]
     },
     "metadata": {
      "needs_background": "light"
     },
     "output_type": "display_data"
    }
   ],
   "source": [
    "def svmC():\n",
    "    numbers=[.0001, .001, .01, .1, 1, 10, 100, 1000, 10_000, 15_000]\n",
    "    maeList=[]\n",
    "    accList=[]\n",
    "    for n in numbers:\n",
    "        svm=SVC(C=n)\n",
    "        svm.fit(X_train, y_train)\n",
    "        y_pred=svm.predict(X_test)\n",
    "        \n",
    "        mae=metrics.mean_absolute_error(y_test, y_pred).round(2)\n",
    "        auc=metrics.roc_auc_score(y_test, y_pred).round(4)\n",
    "        maeList.append(mae)\n",
    "        accList.append(auc)\n",
    "    plt.plot(numbers, accList)\n",
    "    plt.title(\"SVM C\")\n",
    "    plt.xlabel(\"C\")\n",
    "    plt.ylabel(\"Accuracy\")\n",
    "    plt.show()\n",
    "    \n",
    "    plt.plot(numbers, maeList)\n",
    "    plt.title(\"SVM C\")\n",
    "    plt.xlabel(\"C\")\n",
    "    plt.ylabel(\"Error\")\n",
    "    plt.show()\n",
    "svmC()"
   ]
  },
  {
   "cell_type": "code",
   "execution_count": 19,
   "id": "feb2ab31",
   "metadata": {
    "execution": {
     "iopub.execute_input": "2022-10-13T17:13:44.521908Z",
     "iopub.status.busy": "2022-10-13T17:13:44.521561Z",
     "iopub.status.idle": "2022-10-13T17:13:44.970536Z",
     "shell.execute_reply": "2022-10-13T17:13:44.969935Z"
    },
    "papermill": {
     "duration": 0.495955,
     "end_time": "2022-10-13T17:13:44.973073",
     "exception": false,
     "start_time": "2022-10-13T17:13:44.477118",
     "status": "completed"
    },
    "tags": []
   },
   "outputs": [
    {
     "data": {
      "image/png": "[encoded data removed]",
      "text/plain": [
       "<Figure size 432x288 with 1 Axes>"
      ]
     },
     "metadata": {
      "needs_background": "light"
     },
     "output_type": "display_data"
    },
    {
     "data": {
      "image/png": "[encoded data removed]",
      "text/plain": [
       "<Figure size 432x288 with 1 Axes>"
      ]
     },
     "metadata": {
      "needs_background": "light"
     },
     "output_type": "display_data"
    }
   ],
   "source": [
    "def svmGamma():\n",
    "    numbers=[.0001, .001, .01, .1, 1]\n",
    "    maeList=[]\n",
    "    accList=[]\n",
    "    for n in numbers:\n",
    "        svm=SVC(gamma=n)\n",
    "        svm.fit(X_train, y_train)\n",
    "        y_pred=svm.predict(X_test)\n",
    "        \n",
    "        mae=metrics.mean_absolute_error(y_test, y_pred).round(2)\n",
    "        auc=metrics.roc_auc_score(y_test, y_pred).round(4)\n",
    "        maeList.append(mae)\n",
    "        accList.append(auc)\n",
    "    plt.plot(numbers, accList)\n",
    "    plt.title(\"SVM Gamma\")\n",
    "    plt.xlabel(\"Gamma\")\n",
    "    plt.ylabel(\"Accuracy\")\n",
    "    plt.show()\n",
    "    \n",
    "    plt.plot(numbers, maeList)\n",
    "    plt.title(\"SVM Gammas\")\n",
    "    plt.xlabel(\"Gamma\")\n",
    "    plt.ylabel(\"Error\")\n",
    "    plt.show()\n",
    "svmGamma()"
   ]
  },
  {
   "cell_type": "code",
   "execution_count": 20,
   "id": "d87c1305",
   "metadata": {
    "execution": {
     "iopub.execute_input": "2022-10-13T17:13:45.065680Z",
     "iopub.status.busy": "2022-10-13T17:13:45.065138Z",
     "iopub.status.idle": "2022-10-13T17:14:00.876825Z",
     "shell.execute_reply": "2022-10-13T17:14:00.875736Z"
    },
    "papermill": {
     "duration": 15.861117,
     "end_time": "2022-10-13T17:14:00.879183",
     "exception": false,
     "start_time": "2022-10-13T17:13:45.018066",
     "status": "completed"
    },
    "tags": []
   },
   "outputs": [
    {
     "name": "stdout",
     "output_type": "stream",
     "text": [
      "start\n",
      "{'C': 10000, 'gamma': 0.0001, 'kernel': 'rbf'}\n",
      "SVC(C=10000, gamma=0.0001)\n"
     ]
    }
   ],
   "source": [
    "def svmGrid():\n",
    "    print(\"start\")\n",
    "    param_grid = {'C': [100, 1000, 10_000],\n",
    "                  'gamma': [0.0001],\n",
    "                 'kernel': ['rbf']\n",
    "                 }\n",
    "\n",
    "    grid = GridSearchCV(SVC(), param_grid, cv=10, scoring='accuracy', verbose = False)\n",
    "    grid.fit(X_train, y_train)\n",
    "    print(grid.best_params_)\n",
    "    print(grid.best_estimator_)\n",
    "svmGrid()"
   ]
  },
  {
   "cell_type": "markdown",
   "id": "e06b76d5",
   "metadata": {
    "papermill": {
     "duration": 0.044732,
     "end_time": "2022-10-13T17:14:00.971525",
     "exception": false,
     "start_time": "2022-10-13T17:14:00.926793",
     "status": "completed"
    },
    "tags": []
   },
   "source": [
    "# Final SVM Prediction\n",
    "Best GridSearchCV from above:\n",
    "* Using CV=10 gets best AUC {'C': 10000, 'gamma': 0.0001, 'kernel': 'rbf'}\n",
    "* SVC(C=10_000, gamma=.0001, kernel = 'linear')   --> AUC is:  0.7933\n",
    "* SVC(C=1000, gamma=0.0001)\n",
    "* SVC(C=100, gamma=1)"
   ]
  },
  {
   "cell_type": "code",
   "execution_count": 21,
   "id": "792bd78d",
   "metadata": {
    "execution": {
     "iopub.execute_input": "2022-10-13T17:14:01.064573Z",
     "iopub.status.busy": "2022-10-13T17:14:01.064041Z",
     "iopub.status.idle": "2022-10-13T17:15:10.185560Z",
     "shell.execute_reply": "2022-10-13T17:15:10.184672Z"
    },
    "papermill": {
     "duration": 69.170779,
     "end_time": "2022-10-13T17:15:10.187954",
     "exception": false,
     "start_time": "2022-10-13T17:14:01.017175",
     "status": "completed"
    },
    "tags": []
   },
   "outputs": [
    {
     "name": "stdout",
     "output_type": "stream",
     "text": [
      "SVC AUC is:  0.7933\n",
      "              precision    recall  f1-score   support\n",
      "\n",
      "           0       0.80      0.91      0.85       157\n",
      "           1       0.84      0.68      0.75       111\n",
      "\n",
      "    accuracy                           0.81       268\n",
      "   macro avg       0.82      0.79      0.80       268\n",
      "weighted avg       0.82      0.81      0.81       268\n",
      "\n"
     ]
    },
    {
     "data": {
      "text/plain": [
       "<Figure size 360x504 with 0 Axes>"
      ]
     },
     "metadata": {},
     "output_type": "display_data"
    },
    {
     "data": {
      "image/png": "[encoded data removed]",
      "text/plain": [
       "<Figure size 360x360 with 1 Axes>"
      ]
     },
     "metadata": {
      "needs_background": "light"
     },
     "output_type": "display_data"
    },
    {
     "data": {
      "image/png": "[encoded data removed]",
      "text/plain": [
       "<Figure size 360x360 with 1 Axes>"
      ]
     },
     "metadata": {
      "needs_background": "light"
     },
     "output_type": "display_data"
    }
   ],
   "source": [
    "#Fit and Predict:\n",
    "svmFinal=SVC(C=10_000, gamma=.0001, kernel = 'linear')\n",
    "svmFinal.fit(X_train, y_train)\n",
    "y_pred = svmFinal.predict(X_test)\n",
    "\n",
    "#calculate AUC of model\n",
    "svmAUC = metrics.roc_auc_score(y_test, y_pred, multi_class='ovr').round(4)\n",
    "print(\"SVC AUC is: \", svmAUC)\n",
    "\n",
    "svmR2 = r2_score(y_test, y_pred).round(4) \n",
    "svmMAE=metrics.mean_absolute_error(y_test, y_pred).round(4)\n",
    "\n",
    "print(classification_report(y_test, y_pred))\n",
    "\n",
    "plt.figure(figsize=(5, 7))\n",
    "ax = sns.displot(y,  color=\"r\", label=\"Actual Value\")\n",
    "sns.displot(y_test, color=\"b\", label=\"Fitted Values\")\n",
    "plt.title('Actual vs Fitted Values')\n",
    "plt.show()"
   ]
  },
  {
   "cell_type": "code",
   "execution_count": 22,
   "id": "b7505e08",
   "metadata": {
    "execution": {
     "iopub.execute_input": "2022-10-13T17:15:10.285475Z",
     "iopub.status.busy": "2022-10-13T17:15:10.285027Z",
     "iopub.status.idle": "2022-10-13T17:15:14.105024Z",
     "shell.execute_reply": "2022-10-13T17:15:14.104266Z"
    },
    "papermill": {
     "duration": 3.871177,
     "end_time": "2022-10-13T17:15:14.107043",
     "exception": false,
     "start_time": "2022-10-13T17:15:10.235866",
     "status": "completed"
    },
    "tags": []
   },
   "outputs": [
    {
     "data": {
      "text/plain": [
       "Text(0.5, 1.0, 'SVM rbf Decision Region Boundary')"
      ]
     },
     "execution_count": 22,
     "metadata": {},
     "output_type": "execute_result"
    },
    {
     "data": {
      "image/png": "[encoded data removed]",
      "text/plain": [
       "<Figure size 432x288 with 1 Axes>"
      ]
     },
     "metadata": {
      "needs_background": "light"
     },
     "output_type": "display_data"
    }
   ],
   "source": [
    "from sklearn.decomposition import PCA\n",
    "from mlxtend.plotting import plot_decision_regions\n",
    "import numpy as np\n",
    "\n",
    "clf = SVC(C=1000, gamma=0.0001, kernel = 'rbf')\n",
    "pca = PCA(n_components = 2)\n",
    "X_train2 = pca.fit_transform(np.array(X_train))\n",
    "y_train2=np.array(y_train)\n",
    "clf.fit(X_train2, y_train2)\n",
    "plot_decision_regions(X_train2, y_train2, clf=clf, legend=2)\n",
    "\n",
    "plt.xlabel(X.columns[0], size=14)\n",
    "plt.ylabel(X.columns[1], size=14)\n",
    "plt.title('SVM rbf Decision Region Boundary', size=16)"
   ]
  },
  {
   "cell_type": "code",
   "execution_count": 23,
   "id": "edd178b7",
   "metadata": {
    "execution": {
     "iopub.execute_input": "2022-10-13T17:15:14.210555Z",
     "iopub.status.busy": "2022-10-13T17:15:14.210253Z",
     "iopub.status.idle": "2022-10-13T17:15:14.216645Z",
     "shell.execute_reply": "2022-10-13T17:15:14.215587Z"
    },
    "papermill": {
     "duration": 0.061238,
     "end_time": "2022-10-13T17:15:14.218657",
     "exception": false,
     "start_time": "2022-10-13T17:15:14.157419",
     "status": "completed"
    },
    "tags": []
   },
   "outputs": [],
   "source": [
    "def linear():\n",
    "    clf = SVC(C=1000, gamma=0.0001, kernel = 'linear')\n",
    "    pca = PCA(n_components = 2)\n",
    "    X_train2 = pca.fit_transform(np.array(X_train))\n",
    "    y_train2=np.array(y_train)\n",
    "    clf.fit(X_train2, y_train2)\n",
    "    plot_decision_regions(X_train2, y_train2, clf=clf, legend=2)\n",
    "\n",
    "    plt.xlabel(\"X_train2\", size=14)\n",
    "    plt.ylabel(\"y_train2\", size=14)\n",
    "    plt.title('SVM Linear Decision Region Boundary', size=16)\n",
    "    plt.show()"
   ]
  },
  {
   "cell_type": "code",
   "execution_count": 24,
   "id": "ca99763a",
   "metadata": {
    "execution": {
     "iopub.execute_input": "2022-10-13T17:15:14.320050Z",
     "iopub.status.busy": "2022-10-13T17:15:14.319758Z",
     "iopub.status.idle": "2022-10-13T17:15:17.222965Z",
     "shell.execute_reply": "2022-10-13T17:15:17.221998Z"
    },
    "papermill": {
     "duration": 2.956493,
     "end_time": "2022-10-13T17:15:17.225281",
     "exception": false,
     "start_time": "2022-10-13T17:15:14.268788",
     "status": "completed"
    },
    "tags": []
   },
   "outputs": [
    {
     "data": {
      "text/plain": [
       "Text(0.5, 1.0, 'SVM sigmoid Decision Region Boundary')"
      ]
     },
     "execution_count": 24,
     "metadata": {},
     "output_type": "execute_result"
    },
    {
     "data": {
      "image/png": "[encoded data removed]",
      "text/plain": [
       "<Figure size 432x288 with 1 Axes>"
      ]
     },
     "metadata": {
      "needs_background": "light"
     },
     "output_type": "display_data"
    }
   ],
   "source": [
    "clf = SVC(C=1000, gamma=0.0001, kernel = 'sigmoid')\n",
    "pca = PCA(n_components = 2)\n",
    "X_train2 = pca.fit_transform(np.array(X_train))\n",
    "y_train2=np.array(y_train)\n",
    "clf.fit(X_train2, y_train2)\n",
    "plot_decision_regions(X_train2, y_train2, clf=clf, legend=2)\n",
    "\n",
    "plt.xlabel(X.columns[0], size=14)\n",
    "plt.ylabel(X.columns[1], size=14)\n",
    "plt.title('SVM sigmoid Decision Region Boundary', size=16)"
   ]
  },
  {
   "cell_type": "markdown",
   "id": "d73607e9",
   "metadata": {
    "papermill": {
     "duration": 0.054528,
     "end_time": "2022-10-13T17:15:17.336086",
     "exception": false,
     "start_time": "2022-10-13T17:15:17.281558",
     "status": "completed"
    },
    "tags": []
   },
   "source": [
    "# Test Data"
   ]
  },
  {
   "cell_type": "code",
   "execution_count": 25,
   "id": "e6ef8fec",
   "metadata": {
    "execution": {
     "iopub.execute_input": "2022-10-13T17:15:17.447493Z",
     "iopub.status.busy": "2022-10-13T17:15:17.447214Z",
     "iopub.status.idle": "2022-10-13T17:15:17.466600Z",
     "shell.execute_reply": "2022-10-13T17:15:17.465758Z"
    },
    "papermill": {
     "duration": 0.078209,
     "end_time": "2022-10-13T17:15:17.468675",
     "exception": false,
     "start_time": "2022-10-13T17:15:17.390466",
     "status": "completed"
    },
    "tags": []
   },
   "outputs": [
    {
     "data": {
      "text/html": [
       "<div>\n",
       "<style scoped>\n",
       "    .dataframe tbody tr th:only-of-type {\n",
       "        vertical-align: middle;\n",
       "    }\n",
       "\n",
       "    .dataframe tbody tr th {\n",
       "        vertical-align: top;\n",
       "    }\n",
       "\n",
       "    .dataframe thead th {\n",
       "        text-align: right;\n",
       "    }\n",
       "</style>\n",
       "<table border=\"1\" class=\"dataframe\">\n",
       "  <thead>\n",
       "    <tr style=\"text-align: right;\">\n",
       "      <th></th>\n",
       "      <th>PassengerId</th>\n",
       "      <th>Pclass</th>\n",
       "      <th>Sex</th>\n",
       "      <th>Age</th>\n",
       "      <th>SibSp</th>\n",
       "      <th>Parch</th>\n",
       "      <th>Fare</th>\n",
       "    </tr>\n",
       "  </thead>\n",
       "  <tbody>\n",
       "    <tr>\n",
       "      <th>0</th>\n",
       "      <td>892</td>\n",
       "      <td>3</td>\n",
       "      <td>1</td>\n",
       "      <td>34.5</td>\n",
       "      <td>0</td>\n",
       "      <td>0</td>\n",
       "      <td>7.8292</td>\n",
       "    </tr>\n",
       "    <tr>\n",
       "      <th>1</th>\n",
       "      <td>893</td>\n",
       "      <td>3</td>\n",
       "      <td>0</td>\n",
       "      <td>47.0</td>\n",
       "      <td>1</td>\n",
       "      <td>0</td>\n",
       "      <td>7.0000</td>\n",
       "    </tr>\n",
       "    <tr>\n",
       "      <th>2</th>\n",
       "      <td>894</td>\n",
       "      <td>2</td>\n",
       "      <td>1</td>\n",
       "      <td>62.0</td>\n",
       "      <td>0</td>\n",
       "      <td>0</td>\n",
       "      <td>9.6875</td>\n",
       "    </tr>\n",
       "    <tr>\n",
       "      <th>3</th>\n",
       "      <td>895</td>\n",
       "      <td>3</td>\n",
       "      <td>1</td>\n",
       "      <td>27.0</td>\n",
       "      <td>0</td>\n",
       "      <td>0</td>\n",
       "      <td>8.6625</td>\n",
       "    </tr>\n",
       "    <tr>\n",
       "      <th>4</th>\n",
       "      <td>896</td>\n",
       "      <td>3</td>\n",
       "      <td>0</td>\n",
       "      <td>22.0</td>\n",
       "      <td>1</td>\n",
       "      <td>1</td>\n",
       "      <td>12.2875</td>\n",
       "    </tr>\n",
       "  </tbody>\n",
       "</table>\n",
       "</div>"
      ],
      "text/plain": [
       "   PassengerId  Pclass  Sex   Age  SibSp  Parch     Fare\n",
       "0          892       3    1  34.5      0      0   7.8292\n",
       "1          893       3    0  47.0      1      0   7.0000\n",
       "2          894       2    1  62.0      0      0   9.6875\n",
       "3          895       3    1  27.0      0      0   8.6625\n",
       "4          896       3    0  22.0      1      1  12.2875"
      ]
     },
     "execution_count": 25,
     "metadata": {},
     "output_type": "execute_result"
    }
   ],
   "source": [
    "#GENDER\n",
    "test['Sex']=test['Sex'].map({'female':0,'male':1})\n",
    "\n",
    "features=list(X.columns)\n",
    "test=test[features]\n",
    "\n",
    "test=test.fillna(test.mean())\n",
    "test.head()"
   ]
  },
  {
   "cell_type": "markdown",
   "id": "1dd10f4a",
   "metadata": {
    "papermill": {
     "duration": 0.053968,
     "end_time": "2022-10-13T17:15:17.576790",
     "exception": false,
     "start_time": "2022-10-13T17:15:17.522822",
     "status": "completed"
    },
    "tags": []
   },
   "source": [
    "# Final Prediction"
   ]
  },
  {
   "cell_type": "code",
   "execution_count": 26,
   "id": "5ca73121",
   "metadata": {
    "execution": {
     "iopub.execute_input": "2022-10-13T17:15:17.687535Z",
     "iopub.status.busy": "2022-10-13T17:15:17.687211Z",
     "iopub.status.idle": "2022-10-13T17:15:17.704379Z",
     "shell.execute_reply": "2022-10-13T17:15:17.703400Z"
    },
    "papermill": {
     "duration": 0.075201,
     "end_time": "2022-10-13T17:15:17.706537",
     "exception": false,
     "start_time": "2022-10-13T17:15:17.631336",
     "status": "completed"
    },
    "tags": []
   },
   "outputs": [
    {
     "data": {
      "text/html": [
       "<div>\n",
       "<style scoped>\n",
       "    .dataframe tbody tr th:only-of-type {\n",
       "        vertical-align: middle;\n",
       "    }\n",
       "\n",
       "    .dataframe tbody tr th {\n",
       "        vertical-align: top;\n",
       "    }\n",
       "\n",
       "    .dataframe thead th {\n",
       "        text-align: right;\n",
       "    }\n",
       "</style>\n",
       "<table border=\"1\" class=\"dataframe\">\n",
       "  <thead>\n",
       "    <tr style=\"text-align: right;\">\n",
       "      <th></th>\n",
       "      <th>PassengerId</th>\n",
       "      <th>Survived</th>\n",
       "    </tr>\n",
       "  </thead>\n",
       "  <tbody>\n",
       "    <tr>\n",
       "      <th>0</th>\n",
       "      <td>892</td>\n",
       "      <td>0</td>\n",
       "    </tr>\n",
       "    <tr>\n",
       "      <th>1</th>\n",
       "      <td>893</td>\n",
       "      <td>0</td>\n",
       "    </tr>\n",
       "    <tr>\n",
       "      <th>2</th>\n",
       "      <td>894</td>\n",
       "      <td>0</td>\n",
       "    </tr>\n",
       "    <tr>\n",
       "      <th>3</th>\n",
       "      <td>895</td>\n",
       "      <td>0</td>\n",
       "    </tr>\n",
       "    <tr>\n",
       "      <th>4</th>\n",
       "      <td>896</td>\n",
       "      <td>0</td>\n",
       "    </tr>\n",
       "    <tr>\n",
       "      <th>5</th>\n",
       "      <td>897</td>\n",
       "      <td>0</td>\n",
       "    </tr>\n",
       "    <tr>\n",
       "      <th>6</th>\n",
       "      <td>898</td>\n",
       "      <td>0</td>\n",
       "    </tr>\n",
       "  </tbody>\n",
       "</table>\n",
       "</div>"
      ],
      "text/plain": [
       "   PassengerId  Survived\n",
       "0          892         0\n",
       "1          893         0\n",
       "2          894         0\n",
       "3          895         0\n",
       "4          896         0\n",
       "5          897         0\n",
       "6          898         0"
      ]
     },
     "execution_count": 26,
     "metadata": {},
     "output_type": "execute_result"
    }
   ],
   "source": [
    "test_predictions = svmFinal.predict(test)\n",
    "passID=test['PassengerId']\n",
    "tupleData = list(zip(passID, test_predictions))\n",
    "output = pd.DataFrame(tupleData, columns = ['PassengerId', 'Survived'])\n",
    "output.head(7)"
   ]
  },
  {
   "cell_type": "code",
   "execution_count": 27,
   "id": "d29a22fc",
   "metadata": {
    "execution": {
     "iopub.execute_input": "2022-10-13T17:15:17.815110Z",
     "iopub.status.busy": "2022-10-13T17:15:17.814536Z",
     "iopub.status.idle": "2022-10-13T17:15:17.822793Z",
     "shell.execute_reply": "2022-10-13T17:15:17.821989Z"
    },
    "papermill": {
     "duration": 0.064972,
     "end_time": "2022-10-13T17:15:17.824802",
     "exception": false,
     "start_time": "2022-10-13T17:15:17.759830",
     "status": "completed"
    },
    "tags": []
   },
   "outputs": [
    {
     "name": "stdout",
     "output_type": "stream",
     "text": [
      "Your submission was successfully saved!\n"
     ]
    }
   ],
   "source": [
    "output.to_csv('submission.csv', index=False)\n",
    "print(\"Your submission was successfully saved!\")"
   ]
  },
  {
   "cell_type": "markdown",
   "id": "5b3b39dc",
   "metadata": {
    "papermill": {
     "duration": 0.055105,
     "end_time": "2022-10-13T17:15:17.935310",
     "exception": false,
     "start_time": "2022-10-13T17:15:17.880205",
     "status": "completed"
    },
    "tags": []
   },
   "source": [
    "#### Notes:\n",
    "Being a wife makes no difference in the final prediction: <br>\n",
    "` df['Titles'] = df['Name'].str.extract(r', (\\w+\\.)') \n",
    "df['Titles'] = df['Titles'].apply(lambda x: 1 if x=='Mrs.' else 0) `"
   ]
  }
 ],
 "metadata": {
  "kernelspec": {
   "display_name": "Python 3",
   "language": "python",
   "name": "python3"
  },
  "language_info": {
   "codemirror_mode": {
    "name": "ipython",
    "version": 3
   },
   "file_extension": ".py",
   "mimetype": "text/x-python",
   "name": "python",
   "nbconvert_exporter": "python",
   "pygments_lexer": "ipython3",
   "version": "3.7.12"
  },
  "papermill": {
   "default_parameters": {},
   "duration": 111.640928,
   "end_time": "2022-10-13T17:15:18.713395",
   "environment_variables": {},
   "exception": null,
   "input_path": "__notebook__.ipynb",
   "output_path": "__notebook__.ipynb",
   "parameters": {},
   "start_time": "2022-10-13T17:13:27.072467",
   "version": "2.3.4"
  }
 },
 "nbformat": 4,
 "nbformat_minor": 5
}
