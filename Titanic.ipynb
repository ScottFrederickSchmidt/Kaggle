{
 "cells": [
  {
   "cell_type": "markdown",
   "id": "b60c82e1",
   "metadata": {
    "papermill": {
     "duration": 0.060948,
     "end_time": "2022-06-09T16:33:23.083728",
     "exception": false,
     "start_time": "2022-06-09T16:33:23.022780",
     "status": "completed"
    },
    "tags": []
   },
   "source": [
    "# Machine Learning Titanic \n",
    "Use machine learning to create a model that predicts which passengers survived the Titanic shipwreck. The gradient classifier and logistic regression are the best two models that provide the highest best score. Interestingly, the gradient classifier does not have a high AUC but the results cross validate into the test dataset without overfitting the data. For example, decision tree can get an almost perfect AUC but when you cross validate the data it is clearly overfiting. "
   ]
  },
  {
   "cell_type": "markdown",
   "id": "6ba1117c",
   "metadata": {
    "papermill": {
     "duration": 0.057856,
     "end_time": "2022-06-09T16:33:23.200584",
     "exception": false,
     "start_time": "2022-06-09T16:33:23.142728",
     "status": "completed"
    },
    "tags": []
   },
   "source": [
    "# Metrics\n",
    "The AUC regression results:\n",
    "* Logistic  0.8759\n",
    "* Linear    0.8765\n",
    "* Graident  0.8739\n",
    "* Decision  0.8667\n",
    "* Forest    0.8503\n",
    "* XGB       0.7829 with MSE 0.1940\n",
    "* Knn       0.645\n",
    "* SVM       0.5941 \n",
    "\n",
    "The AUC classifier results:\n",
    "* Forest   Classifier     0.8503 || MAE  0.19\n",
    "* Gradient Classifier     0.7609 || MSE 0.2090\n",
    "* Decision Classifier     0.7345 || MSE  0.4771 \n",
    "* KNN      Classifier     0.5975 || MSE  0.5325"
   ]
  },
  {
   "cell_type": "markdown",
   "id": "e37c3c5e",
   "metadata": {
    "papermill": {
     "duration": 0.055907,
     "end_time": "2022-06-09T16:33:23.312808",
     "exception": false,
     "start_time": "2022-06-09T16:33:23.256901",
     "status": "completed"
    },
    "tags": []
   },
   "source": [
    "# Train Data\n",
    "Train.csv will contain the details of a subset of the passengers on board (891 to be exact) and whether they survive or not. The shape of the train data is (891, 12). "
   ]
  },
  {
   "cell_type": "code",
   "execution_count": 1,
   "id": "480a2faf",
   "metadata": {
    "execution": {
     "iopub.execute_input": "2022-06-09T16:33:23.427239Z",
     "iopub.status.busy": "2022-06-09T16:33:23.426872Z",
     "iopub.status.idle": "2022-06-09T16:33:25.218377Z",
     "shell.execute_reply": "2022-06-09T16:33:25.217204Z"
    },
    "papermill": {
     "duration": 1.851661,
     "end_time": "2022-06-09T16:33:25.220735",
     "exception": false,
     "start_time": "2022-06-09T16:33:23.369074",
     "status": "completed"
    },
    "tags": []
   },
   "outputs": [
    {
     "name": "stdout",
     "output_type": "stream",
     "text": [
      "(891, 12)\n"
     ]
    },
    {
     "data": {
      "text/html": [
       "<div>\n",
       "<style scoped>\n",
       "    .dataframe tbody tr th:only-of-type {\n",
       "        vertical-align: middle;\n",
       "    }\n",
       "\n",
       "    .dataframe tbody tr th {\n",
       "        vertical-align: top;\n",
       "    }\n",
       "\n",
       "    .dataframe thead th {\n",
       "        text-align: right;\n",
       "    }\n",
       "</style>\n",
       "<table border=\"1\" class=\"dataframe\">\n",
       "  <thead>\n",
       "    <tr style=\"text-align: right;\">\n",
       "      <th></th>\n",
       "      <th>PassengerId</th>\n",
       "      <th>Survived</th>\n",
       "      <th>Pclass</th>\n",
       "      <th>Name</th>\n",
       "      <th>Sex</th>\n",
       "      <th>Age</th>\n",
       "      <th>SibSp</th>\n",
       "      <th>Parch</th>\n",
       "      <th>Ticket</th>\n",
       "      <th>Fare</th>\n",
       "      <th>Cabin</th>\n",
       "      <th>Embarked</th>\n",
       "    </tr>\n",
       "  </thead>\n",
       "  <tbody>\n",
       "    <tr>\n",
       "      <th>0</th>\n",
       "      <td>1</td>\n",
       "      <td>0</td>\n",
       "      <td>3</td>\n",
       "      <td>Braund, Mr. Owen Harris</td>\n",
       "      <td>male</td>\n",
       "      <td>22.0</td>\n",
       "      <td>1</td>\n",
       "      <td>0</td>\n",
       "      <td>A/5 21171</td>\n",
       "      <td>7.2500</td>\n",
       "      <td>NaN</td>\n",
       "      <td>S</td>\n",
       "    </tr>\n",
       "    <tr>\n",
       "      <th>1</th>\n",
       "      <td>2</td>\n",
       "      <td>1</td>\n",
       "      <td>1</td>\n",
       "      <td>Cumings, Mrs. John Bradley (Florence Briggs Th...</td>\n",
       "      <td>female</td>\n",
       "      <td>38.0</td>\n",
       "      <td>1</td>\n",
       "      <td>0</td>\n",
       "      <td>PC 17599</td>\n",
       "      <td>71.2833</td>\n",
       "      <td>C85</td>\n",
       "      <td>C</td>\n",
       "    </tr>\n",
       "    <tr>\n",
       "      <th>2</th>\n",
       "      <td>3</td>\n",
       "      <td>1</td>\n",
       "      <td>3</td>\n",
       "      <td>Heikkinen, Miss. Laina</td>\n",
       "      <td>female</td>\n",
       "      <td>26.0</td>\n",
       "      <td>0</td>\n",
       "      <td>0</td>\n",
       "      <td>STON/O2. 3101282</td>\n",
       "      <td>7.9250</td>\n",
       "      <td>NaN</td>\n",
       "      <td>S</td>\n",
       "    </tr>\n",
       "    <tr>\n",
       "      <th>3</th>\n",
       "      <td>4</td>\n",
       "      <td>1</td>\n",
       "      <td>1</td>\n",
       "      <td>Futrelle, Mrs. Jacques Heath (Lily May Peel)</td>\n",
       "      <td>female</td>\n",
       "      <td>35.0</td>\n",
       "      <td>1</td>\n",
       "      <td>0</td>\n",
       "      <td>113803</td>\n",
       "      <td>53.1000</td>\n",
       "      <td>C123</td>\n",
       "      <td>S</td>\n",
       "    </tr>\n",
       "    <tr>\n",
       "      <th>4</th>\n",
       "      <td>5</td>\n",
       "      <td>0</td>\n",
       "      <td>3</td>\n",
       "      <td>Allen, Mr. William Henry</td>\n",
       "      <td>male</td>\n",
       "      <td>35.0</td>\n",
       "      <td>0</td>\n",
       "      <td>0</td>\n",
       "      <td>373450</td>\n",
       "      <td>8.0500</td>\n",
       "      <td>NaN</td>\n",
       "      <td>S</td>\n",
       "    </tr>\n",
       "  </tbody>\n",
       "</table>\n",
       "</div>"
      ],
      "text/plain": [
       "   PassengerId  Survived  Pclass  \\\n",
       "0            1         0       3   \n",
       "1            2         1       1   \n",
       "2            3         1       3   \n",
       "3            4         1       1   \n",
       "4            5         0       3   \n",
       "\n",
       "                                                Name     Sex   Age  SibSp  \\\n",
       "0                            Braund, Mr. Owen Harris    male  22.0      1   \n",
       "1  Cumings, Mrs. John Bradley (Florence Briggs Th...  female  38.0      1   \n",
       "2                             Heikkinen, Miss. Laina  female  26.0      0   \n",
       "3       Futrelle, Mrs. Jacques Heath (Lily May Peel)  female  35.0      1   \n",
       "4                           Allen, Mr. William Henry    male  35.0      0   \n",
       "\n",
       "   Parch            Ticket     Fare Cabin Embarked  \n",
       "0      0         A/5 21171   7.2500   NaN        S  \n",
       "1      0          PC 17599  71.2833   C85        C  \n",
       "2      0  STON/O2. 3101282   7.9250   NaN        S  \n",
       "3      0            113803  53.1000  C123        S  \n",
       "4      0            373450   8.0500   NaN        S  "
      ]
     },
     "execution_count": 1,
     "metadata": {},
     "output_type": "execute_result"
    }
   ],
   "source": [
    "import numpy as np\n",
    "import pandas as pd\n",
    "import seaborn as sns\n",
    "import matplotlib.pyplot as plt\n",
    "from sklearn.model_selection import train_test_split, cross_validate\n",
    "from statistics import mean\n",
    "from sklearn.metrics import accuracy_score, classification_report, mean_absolute_error, mean_squared_error, r2_score\n",
    "from sklearn.datasets import make_classification\n",
    "from sklearn import ensemble\n",
    "import sklearn.metrics as metrics\n",
    "import time\n",
    "from math import sqrt\n",
    "\n",
    "train=r'/kaggle/input/titanic/train.csv'\n",
    "test=r'/kaggle/input/titanic/test.csv'\n",
    "\n",
    "df=pd.read_csv(train)\n",
    "print(df.shape)\n",
    "df.head()"
   ]
  },
  {
   "cell_type": "code",
   "execution_count": 2,
   "id": "0c74218d",
   "metadata": {
    "execution": {
     "iopub.execute_input": "2022-06-09T16:33:25.339881Z",
     "iopub.status.busy": "2022-06-09T16:33:25.339043Z",
     "iopub.status.idle": "2022-06-09T16:33:25.346417Z",
     "shell.execute_reply": "2022-06-09T16:33:25.345804Z"
    },
    "papermill": {
     "duration": 0.069931,
     "end_time": "2022-06-09T16:33:25.348547",
     "exception": false,
     "start_time": "2022-06-09T16:33:25.278616",
     "status": "completed"
    },
    "tags": []
   },
   "outputs": [
    {
     "data": {
      "text/plain": [
       "PassengerId      int64\n",
       "Survived         int64\n",
       "Pclass           int64\n",
       "Name            object\n",
       "Sex             object\n",
       "Age            float64\n",
       "SibSp            int64\n",
       "Parch            int64\n",
       "Ticket          object\n",
       "Fare           float64\n",
       "Cabin           object\n",
       "Embarked        object\n",
       "dtype: object"
      ]
     },
     "execution_count": 2,
     "metadata": {},
     "output_type": "execute_result"
    }
   ],
   "source": [
    "df.dtypes"
   ]
  },
  {
   "cell_type": "code",
   "execution_count": 3,
   "id": "db8cfb4c",
   "metadata": {
    "execution": {
     "iopub.execute_input": "2022-06-09T16:33:25.466372Z",
     "iopub.status.busy": "2022-06-09T16:33:25.465946Z",
     "iopub.status.idle": "2022-06-09T16:33:25.495666Z",
     "shell.execute_reply": "2022-06-09T16:33:25.494593Z"
    },
    "papermill": {
     "duration": 0.091803,
     "end_time": "2022-06-09T16:33:25.498356",
     "exception": false,
     "start_time": "2022-06-09T16:33:25.406553",
     "status": "completed"
    },
    "tags": []
   },
   "outputs": [
    {
     "name": "stdout",
     "output_type": "stream",
     "text": [
      "Total no of duplicate values in Training Dataset = 0\n"
     ]
    },
    {
     "data": {
      "text/html": [
       "<div>\n",
       "<style scoped>\n",
       "    .dataframe tbody tr th:only-of-type {\n",
       "        vertical-align: middle;\n",
       "    }\n",
       "\n",
       "    .dataframe tbody tr th {\n",
       "        vertical-align: top;\n",
       "    }\n",
       "\n",
       "    .dataframe thead th {\n",
       "        text-align: right;\n",
       "    }\n",
       "</style>\n",
       "<table border=\"1\" class=\"dataframe\">\n",
       "  <thead>\n",
       "    <tr style=\"text-align: right;\">\n",
       "      <th></th>\n",
       "      <th>PassengerId</th>\n",
       "      <th>Survived</th>\n",
       "      <th>Pclass</th>\n",
       "      <th>Name</th>\n",
       "      <th>Sex</th>\n",
       "      <th>Age</th>\n",
       "      <th>SibSp</th>\n",
       "      <th>Parch</th>\n",
       "      <th>Ticket</th>\n",
       "      <th>Fare</th>\n",
       "      <th>Cabin</th>\n",
       "      <th>Embarked</th>\n",
       "    </tr>\n",
       "  </thead>\n",
       "  <tbody>\n",
       "  </tbody>\n",
       "</table>\n",
       "</div>"
      ],
      "text/plain": [
       "Empty DataFrame\n",
       "Columns: [PassengerId, Survived, Pclass, Name, Sex, Age, SibSp, Parch, Ticket, Fare, Cabin, Embarked]\n",
       "Index: []"
      ]
     },
     "execution_count": 3,
     "metadata": {},
     "output_type": "execute_result"
    }
   ],
   "source": [
    "#Check Duplicates:\n",
    "dupstr = df.duplicated()\n",
    "print('Total no of duplicate values in Training Dataset = %d' % (dupstr.sum()))\n",
    "df[dupstr]"
   ]
  },
  {
   "cell_type": "code",
   "execution_count": 4,
   "id": "a6dff3db",
   "metadata": {
    "execution": {
     "iopub.execute_input": "2022-06-09T16:33:25.618066Z",
     "iopub.status.busy": "2022-06-09T16:33:25.617618Z",
     "iopub.status.idle": "2022-06-09T16:33:25.625631Z",
     "shell.execute_reply": "2022-06-09T16:33:25.624986Z"
    },
    "papermill": {
     "duration": 0.070117,
     "end_time": "2022-06-09T16:33:25.627764",
     "exception": false,
     "start_time": "2022-06-09T16:33:25.557647",
     "status": "completed"
    },
    "tags": []
   },
   "outputs": [
    {
     "name": "stdout",
     "output_type": "stream",
     "text": [
      "Missing data by column as a percent:\n",
      "Cabin          0.771044\n",
      "Age            0.198653\n",
      "Embarked       0.002245\n",
      "PassengerId    0.000000\n",
      "Survived       0.000000\n",
      "dtype: float64\n"
     ]
    }
   ],
   "source": [
    "#search for columns with missing values:\n",
    "def findNA():\n",
    "    print(\"Missing data by column as a percent:\")\n",
    "    findNA=df.isnull().sum().sort_values(ascending=False)/len(df)\n",
    "    print(findNA.head())\n",
    "findNA() "
   ]
  },
  {
   "cell_type": "markdown",
   "id": "08422fc1",
   "metadata": {
    "papermill": {
     "duration": 0.059389,
     "end_time": "2022-06-09T16:33:25.747283",
     "exception": false,
     "start_time": "2022-06-09T16:33:25.687894",
     "status": "completed"
    },
    "tags": []
   },
   "source": [
    "# Feature Engineer\n",
    "We need to replace male and female into numbers. This is a very important part of the process because gender is one of the highest predictors on if a person survived or not."
   ]
  },
  {
   "cell_type": "code",
   "execution_count": 5,
   "id": "f4bb5eeb",
   "metadata": {
    "execution": {
     "iopub.execute_input": "2022-06-09T16:33:25.870778Z",
     "iopub.status.busy": "2022-06-09T16:33:25.870453Z",
     "iopub.status.idle": "2022-06-09T16:33:25.876351Z",
     "shell.execute_reply": "2022-06-09T16:33:25.875663Z"
    },
    "papermill": {
     "duration": 0.070589,
     "end_time": "2022-06-09T16:33:25.878526",
     "exception": false,
     "start_time": "2022-06-09T16:33:25.807937",
     "status": "completed"
    },
    "tags": []
   },
   "outputs": [],
   "source": [
    "#GENDER\n",
    "df['Sex']=df['Sex'].map({'female':0,'male':1})"
   ]
  },
  {
   "cell_type": "markdown",
   "id": "0b027500",
   "metadata": {
    "papermill": {
     "duration": 0.059049,
     "end_time": "2022-06-09T16:33:25.998252",
     "exception": false,
     "start_time": "2022-06-09T16:33:25.939203",
     "status": "completed"
    },
    "tags": []
   },
   "source": [
    "Females whose number is 0 had a much higher chance of surving than males. Later on, doing the importance feature analysis we will view that gender is actually one of the highest predictors. "
   ]
  },
  {
   "cell_type": "code",
   "execution_count": 6,
   "id": "30270390",
   "metadata": {
    "execution": {
     "iopub.execute_input": "2022-06-09T16:33:26.121553Z",
     "iopub.status.busy": "2022-06-09T16:33:26.121084Z",
     "iopub.status.idle": "2022-06-09T16:33:26.150466Z",
     "shell.execute_reply": "2022-06-09T16:33:26.149513Z"
    },
    "papermill": {
     "duration": 0.093888,
     "end_time": "2022-06-09T16:33:26.152617",
     "exception": false,
     "start_time": "2022-06-09T16:33:26.058729",
     "status": "completed"
    },
    "tags": []
   },
   "outputs": [
    {
     "data": {
      "text/html": [
       "<div>\n",
       "<style scoped>\n",
       "    .dataframe tbody tr th:only-of-type {\n",
       "        vertical-align: middle;\n",
       "    }\n",
       "\n",
       "    .dataframe tbody tr th {\n",
       "        vertical-align: top;\n",
       "    }\n",
       "\n",
       "    .dataframe thead th {\n",
       "        text-align: right;\n",
       "    }\n",
       "</style>\n",
       "<table border=\"1\" class=\"dataframe\">\n",
       "  <thead>\n",
       "    <tr style=\"text-align: right;\">\n",
       "      <th>Sex</th>\n",
       "      <th>0</th>\n",
       "      <th>1</th>\n",
       "    </tr>\n",
       "    <tr>\n",
       "      <th>Survived</th>\n",
       "      <th></th>\n",
       "      <th></th>\n",
       "    </tr>\n",
       "  </thead>\n",
       "  <tbody>\n",
       "    <tr>\n",
       "      <th>0</th>\n",
       "      <td>81</td>\n",
       "      <td>468</td>\n",
       "    </tr>\n",
       "    <tr>\n",
       "      <th>1</th>\n",
       "      <td>233</td>\n",
       "      <td>109</td>\n",
       "    </tr>\n",
       "  </tbody>\n",
       "</table>\n",
       "</div>"
      ],
      "text/plain": [
       "Sex         0    1\n",
       "Survived          \n",
       "0          81  468\n",
       "1         233  109"
      ]
     },
     "execution_count": 6,
     "metadata": {},
     "output_type": "execute_result"
    }
   ],
   "source": [
    "genderTable = pd.crosstab(df['Survived'],df['Sex'])\n",
    "genderTable"
   ]
  },
  {
   "cell_type": "markdown",
   "id": "448d9e44",
   "metadata": {
    "papermill": {
     "duration": 0.060516,
     "end_time": "2022-06-09T16:33:26.274516",
     "exception": false,
     "start_time": "2022-06-09T16:33:26.214000",
     "status": "completed"
    },
    "tags": []
   },
   "source": [
    "#### Embarked: \n",
    "There are three classes C, Q, and S. Class C seems to have the highest chance of survival. Class S has the lowest chance of survival. Unfornately this would tend to show that economic status seems to played a part in the decision if someone survived or not. Embarked is hard to categorize and often just makes the accuracy go down. Therefore, for now I have removed the idea of using this as a feature."
   ]
  },
  {
   "cell_type": "code",
   "execution_count": 7,
   "id": "c1e2347e",
   "metadata": {
    "execution": {
     "iopub.execute_input": "2022-06-09T16:33:26.397035Z",
     "iopub.status.busy": "2022-06-09T16:33:26.396771Z",
     "iopub.status.idle": "2022-06-09T16:33:26.402393Z",
     "shell.execute_reply": "2022-06-09T16:33:26.401574Z"
    },
    "papermill": {
     "duration": 0.068796,
     "end_time": "2022-06-09T16:33:26.404856",
     "exception": false,
     "start_time": "2022-06-09T16:33:26.336060",
     "status": "completed"
    },
    "tags": []
   },
   "outputs": [
    {
     "data": {
      "text/plain": [
       "\"\\n#df['Embarked'].unique() #array(['S', 'C', 'Q', nan], dtype=object)\\ndf['Embarked'].fillna(0)\\nembarkedTable = pd.crosstab(df['Survived'],df['Embarked'])\\n\\n# The best classes by survival are C Q S so I gave them points in that order:\\ndf['Embarked']=df['Embarked'].map({'C':2,'Q':1, 'S':0})\\ndf.head()\\n\""
      ]
     },
     "execution_count": 7,
     "metadata": {},
     "output_type": "execute_result"
    }
   ],
   "source": [
    "\"\"\"\n",
    "#df['Embarked'].unique() #array(['S', 'C', 'Q', nan], dtype=object)\n",
    "df['Embarked'].fillna(0)\n",
    "embarkedTable = pd.crosstab(df['Survived'],df['Embarked'])\n",
    "\n",
    "# The best classes by survival are C Q S so I gave them points in that order:\n",
    "df['Embarked']=df['Embarked'].map({'C':2,'Q':1, 'S':0})\n",
    "df.head()\n",
    "\"\"\""
   ]
  },
  {
   "cell_type": "markdown",
   "id": "802023c5",
   "metadata": {
    "papermill": {
     "duration": 0.05949,
     "end_time": "2022-06-09T16:33:26.523948",
     "exception": false,
     "start_time": "2022-06-09T16:33:26.464458",
     "status": "completed"
    },
    "tags": []
   },
   "source": [
    "# Examine Target Variable\n",
    "Survived is the Y variable we will be analyzing. Since the survival rete is 0.384 the data is not considered unbalanced. "
   ]
  },
  {
   "cell_type": "code",
   "execution_count": 8,
   "id": "f2cdb504",
   "metadata": {
    "execution": {
     "iopub.execute_input": "2022-06-09T16:33:26.645178Z",
     "iopub.status.busy": "2022-06-09T16:33:26.644749Z",
     "iopub.status.idle": "2022-06-09T16:33:26.652440Z",
     "shell.execute_reply": "2022-06-09T16:33:26.651576Z"
    },
    "papermill": {
     "duration": 0.071237,
     "end_time": "2022-06-09T16:33:26.654802",
     "exception": false,
     "start_time": "2022-06-09T16:33:26.583565",
     "status": "completed"
    },
    "tags": []
   },
   "outputs": [
    {
     "name": "stdout",
     "output_type": "stream",
     "text": [
      "0    549\n",
      "1    342\n",
      "Name: Survived, dtype: int64\n",
      "Percent that survived:  0.384\n"
     ]
    }
   ],
   "source": [
    "temp=df['Survived'].value_counts()\n",
    "print(temp)\n",
    "no=temp[0]\n",
    "yes=temp[1]\n",
    "percent=round(yes/(yes+no),3)\n",
    "print(\"Percent that survived: \", percent)"
   ]
  },
  {
   "cell_type": "markdown",
   "id": "5ad3b9e6",
   "metadata": {
    "papermill": {
     "duration": 0.060258,
     "end_time": "2022-06-09T16:33:26.779089",
     "exception": false,
     "start_time": "2022-06-09T16:33:26.718831",
     "status": "completed"
    },
    "tags": []
   },
   "source": [
    "# Numeric DataFrame\n",
    "For now, we will analyze only numeric values. Categorical values will need to be encoded or analyzed individually."
   ]
  },
  {
   "cell_type": "code",
   "execution_count": 9,
   "id": "e7eec9c0",
   "metadata": {
    "execution": {
     "iopub.execute_input": "2022-06-09T16:33:26.904434Z",
     "iopub.status.busy": "2022-06-09T16:33:26.904177Z",
     "iopub.status.idle": "2022-06-09T16:33:26.919545Z",
     "shell.execute_reply": "2022-06-09T16:33:26.918686Z"
    },
    "papermill": {
     "duration": 0.081637,
     "end_time": "2022-06-09T16:33:26.921593",
     "exception": false,
     "start_time": "2022-06-09T16:33:26.839956",
     "status": "completed"
    },
    "tags": []
   },
   "outputs": [
    {
     "data": {
      "text/html": [
       "<div>\n",
       "<style scoped>\n",
       "    .dataframe tbody tr th:only-of-type {\n",
       "        vertical-align: middle;\n",
       "    }\n",
       "\n",
       "    .dataframe tbody tr th {\n",
       "        vertical-align: top;\n",
       "    }\n",
       "\n",
       "    .dataframe thead th {\n",
       "        text-align: right;\n",
       "    }\n",
       "</style>\n",
       "<table border=\"1\" class=\"dataframe\">\n",
       "  <thead>\n",
       "    <tr style=\"text-align: right;\">\n",
       "      <th></th>\n",
       "      <th>PassengerId</th>\n",
       "      <th>Survived</th>\n",
       "      <th>Pclass</th>\n",
       "      <th>Sex</th>\n",
       "      <th>Age</th>\n",
       "      <th>SibSp</th>\n",
       "      <th>Parch</th>\n",
       "      <th>Fare</th>\n",
       "    </tr>\n",
       "  </thead>\n",
       "  <tbody>\n",
       "    <tr>\n",
       "      <th>0</th>\n",
       "      <td>1</td>\n",
       "      <td>0</td>\n",
       "      <td>3</td>\n",
       "      <td>1</td>\n",
       "      <td>22.0</td>\n",
       "      <td>1</td>\n",
       "      <td>0</td>\n",
       "      <td>7.2500</td>\n",
       "    </tr>\n",
       "    <tr>\n",
       "      <th>1</th>\n",
       "      <td>2</td>\n",
       "      <td>1</td>\n",
       "      <td>1</td>\n",
       "      <td>0</td>\n",
       "      <td>38.0</td>\n",
       "      <td>1</td>\n",
       "      <td>0</td>\n",
       "      <td>71.2833</td>\n",
       "    </tr>\n",
       "    <tr>\n",
       "      <th>2</th>\n",
       "      <td>3</td>\n",
       "      <td>1</td>\n",
       "      <td>3</td>\n",
       "      <td>0</td>\n",
       "      <td>26.0</td>\n",
       "      <td>0</td>\n",
       "      <td>0</td>\n",
       "      <td>7.9250</td>\n",
       "    </tr>\n",
       "    <tr>\n",
       "      <th>3</th>\n",
       "      <td>4</td>\n",
       "      <td>1</td>\n",
       "      <td>1</td>\n",
       "      <td>0</td>\n",
       "      <td>35.0</td>\n",
       "      <td>1</td>\n",
       "      <td>0</td>\n",
       "      <td>53.1000</td>\n",
       "    </tr>\n",
       "    <tr>\n",
       "      <th>4</th>\n",
       "      <td>5</td>\n",
       "      <td>0</td>\n",
       "      <td>3</td>\n",
       "      <td>1</td>\n",
       "      <td>35.0</td>\n",
       "      <td>0</td>\n",
       "      <td>0</td>\n",
       "      <td>8.0500</td>\n",
       "    </tr>\n",
       "  </tbody>\n",
       "</table>\n",
       "</div>"
      ],
      "text/plain": [
       "   PassengerId  Survived  Pclass  Sex   Age  SibSp  Parch     Fare\n",
       "0            1         0       3    1  22.0      1      0   7.2500\n",
       "1            2         1       1    0  38.0      1      0  71.2833\n",
       "2            3         1       3    0  26.0      0      0   7.9250\n",
       "3            4         1       1    0  35.0      1      0  53.1000\n",
       "4            5         0       3    1  35.0      0      0   8.0500"
      ]
     },
     "execution_count": 9,
     "metadata": {},
     "output_type": "execute_result"
    }
   ],
   "source": [
    "numerics = ['int16', 'int32', 'int64', 'float16', 'float32', 'float64']\n",
    "df = df.select_dtypes(include=numerics)\n",
    "df.head()"
   ]
  },
  {
   "cell_type": "markdown",
   "id": "411090d7",
   "metadata": {
    "papermill": {
     "duration": 0.060743,
     "end_time": "2022-06-09T16:33:27.043476",
     "exception": false,
     "start_time": "2022-06-09T16:33:26.982733",
     "status": "completed"
    },
    "tags": []
   },
   "source": [
    "# Check for missing values\n",
    "Age is missing around 20% of values.Therefore, we can simply fill in the mean for that one column."
   ]
  },
  {
   "cell_type": "code",
   "execution_count": 10,
   "id": "572d052a",
   "metadata": {
    "execution": {
     "iopub.execute_input": "2022-06-09T16:33:27.171049Z",
     "iopub.status.busy": "2022-06-09T16:33:27.170087Z",
     "iopub.status.idle": "2022-06-09T16:33:27.179618Z",
     "shell.execute_reply": "2022-06-09T16:33:27.178695Z"
    },
    "papermill": {
     "duration": 0.076433,
     "end_time": "2022-06-09T16:33:27.181860",
     "exception": false,
     "start_time": "2022-06-09T16:33:27.105427",
     "status": "completed"
    },
    "tags": []
   },
   "outputs": [
    {
     "name": "stdout",
     "output_type": "stream",
     "text": [
      "Missing data by column as a percent:\n",
      "Age            0.198653\n",
      "PassengerId    0.000000\n",
      "Survived       0.000000\n",
      "Pclass         0.000000\n",
      "Sex            0.000000\n",
      "dtype: float64\n"
     ]
    }
   ],
   "source": [
    "#search for columns with missing values:\n",
    "def findNA():\n",
    "    print(\"Missing data by column as a percent:\")\n",
    "    findNA=df.isnull().sum().sort_values(ascending=False)/len(df)\n",
    "    print(findNA.head())\n",
    "findNA() "
   ]
  },
  {
   "cell_type": "code",
   "execution_count": 11,
   "id": "a84b8420",
   "metadata": {
    "execution": {
     "iopub.execute_input": "2022-06-09T16:33:27.308161Z",
     "iopub.status.busy": "2022-06-09T16:33:27.307651Z",
     "iopub.status.idle": "2022-06-09T16:33:27.314309Z",
     "shell.execute_reply": "2022-06-09T16:33:27.313600Z"
    },
    "papermill": {
     "duration": 0.072931,
     "end_time": "2022-06-09T16:33:27.316510",
     "exception": false,
     "start_time": "2022-06-09T16:33:27.243579",
     "status": "completed"
    },
    "tags": []
   },
   "outputs": [],
   "source": [
    "df= df.fillna(df.mean())"
   ]
  },
  {
   "cell_type": "markdown",
   "id": "7b90ce1e",
   "metadata": {
    "papermill": {
     "duration": 0.061639,
     "end_time": "2022-06-09T16:33:27.439810",
     "exception": false,
     "start_time": "2022-06-09T16:33:27.378171",
     "status": "completed"
    },
    "tags": []
   },
   "source": [
    "# Split Data"
   ]
  },
  {
   "cell_type": "code",
   "execution_count": 12,
   "id": "765a4a7d",
   "metadata": {
    "execution": {
     "iopub.execute_input": "2022-06-09T16:33:27.567553Z",
     "iopub.status.busy": "2022-06-09T16:33:27.567028Z",
     "iopub.status.idle": "2022-06-09T16:33:27.574296Z",
     "shell.execute_reply": "2022-06-09T16:33:27.573658Z"
    },
    "papermill": {
     "duration": 0.074681,
     "end_time": "2022-06-09T16:33:27.576524",
     "exception": false,
     "start_time": "2022-06-09T16:33:27.501843",
     "status": "completed"
    },
    "tags": []
   },
   "outputs": [],
   "source": [
    "X=df.drop('Survived', axis=1)\n",
    "y=df['Survived']\n",
    "\n",
    "X_train, X_test, y_train, y_test = train_test_split(\n",
    "    X, y, test_size = 0.30, random_state = 42)"
   ]
  },
  {
   "cell_type": "markdown",
   "id": "1085afd9",
   "metadata": {
    "papermill": {
     "duration": 0.061343,
     "end_time": "2022-06-09T16:33:27.699724",
     "exception": false,
     "start_time": "2022-06-09T16:33:27.638381",
     "status": "completed"
    },
    "tags": []
   },
   "source": [
    "# Highly Correlated Features\n",
    "There are no highly correlated variables above 80%. Therefore, we do not need to be concerned about removing variables that are too highly correlated. "
   ]
  },
  {
   "attachments": {
    "95905e93-f7a4-46ae-b85c-e339467e0f87.png": {
     "image/png": "[encoded data removed]"
    },
    "a33a1e8f-f6cd-45b8-9c88-6ca649ad454c.png": {
     "image/png": "[encoded data removed]"
    }
   },
   "cell_type": "markdown",
   "id": "460f4602",
   "metadata": {
    "papermill": {
     "duration": 0.061818,
     "end_time": "2022-06-09T16:33:27.823244",
     "exception": false,
     "start_time": "2022-06-09T16:33:27.761426",
     "status": "completed"
    },
    "tags": []
   },
   "source": [
    "# Gradient Boost \n",
    "\n",
    "#### Cross Validate \n",
    "\n",
    "![image.png](attachment:95905e93-f7a4-46ae-b85c-e339467e0f87.png)\n",
    "\n",
    "![image.png](attachment:a33a1e8f-f6cd-45b8-9c88-6ca649ad454c.png)\n",
    "\n",
    "The four parameters I tunned are max_depth, n_estimators, min_sample_split and learning_rate:\n",
    "\n",
    "* The best max_depth is 2\n",
    "* The best n_estimators is 500\n",
    "* The best min_sample_split with least amount of error was at 7\n",
    "* Having a higher learning rate makes AUC worse so I set it at .01\n",
    "\n",
    "The full parameter reports are below: <br>\n",
    "* 2  max_depth || AUC  0.8739  || MSE 0.1378\n",
    "* 3  max_depth || AUC  0.8689  || MSE 0.1410\n",
    "* 4  max_depth || AUC  0.86  || MSE 0.1407\n",
    "* 5  max_depth || AUC  0.8567  || MSE 0.1485\n",
    "* 100  n_estimators || AUC  0.8632  || MSE 0.1600\n",
    "* 200  n_estimators || AUC  0.8726  || MSE 0.1471\n",
    "* 300  n_estimators || AUC  0.8703  || MSE 0.1414\n",
    "* 400  n_estimators || AUC  0.8732  || MSE 0.1389\n",
    "* 500  n_estimators || AUC  0.874  || MSE 0.1378\n",
    "* 2  min_samples_splits || AUC  0.8739  || MSE 0.1378\n",
    "* 3  min_samples_splits || AUC  0.8738  || MSE 0.1378\n",
    "* 5  min_samples_splits || AUC  0.8739  || MSE 0.1378"
   ]
  },
  {
   "cell_type": "code",
   "execution_count": 13,
   "id": "ca5d77e4",
   "metadata": {
    "execution": {
     "iopub.execute_input": "2022-06-09T16:33:27.952420Z",
     "iopub.status.busy": "2022-06-09T16:33:27.951916Z",
     "iopub.status.idle": "2022-06-09T16:33:27.986965Z",
     "shell.execute_reply": "2022-06-09T16:33:27.986163Z"
    },
    "papermill": {
     "duration": 0.104301,
     "end_time": "2022-06-09T16:33:27.989202",
     "exception": false,
     "start_time": "2022-06-09T16:33:27.884901",
     "status": "completed"
    },
    "tags": []
   },
   "outputs": [],
   "source": [
    "from sklearn.inspection import permutation_importance\n",
    "from sklearn.ensemble import GradientBoostingClassifier,GradientBoostingRegressor\n",
    "\n",
    "def gbDepth():\n",
    "    depthList=[2, 3, 4, 5, 7, 9, 11, 13]\n",
    "    accList=[]\n",
    "    cvList=[]\n",
    "    \n",
    "    for d in depthList:\n",
    "        params = {\n",
    "         \"n_estimators\": 10, \"max_depth\": d, \n",
    "            \"min_samples_split\": 5, \"learning_rate\": 0.01,\n",
    "        }\n",
    "\n",
    "        #Fit and Predict:\n",
    "        gb = ensemble.GradientBoostingRegressor(**params)\n",
    "        gb.fit(X_train, y_train)\n",
    "        y_pred = gb.predict(X_test)\n",
    "        \n",
    "        gbR2 = r2_score(y_test, y_pred).round(4) \n",
    "        mse = mean_squared_error(y_test, gb.predict(X_test))\n",
    "        print(d, \" max_depth || GB reg r2: \", gbR2, \"|| MSE: {:.4f}\".format(mse)) \n",
    "        \n",
    "        gbScore = gb.score(X_test, y_test).round(4)  # train test \n",
    "        gbCV = cross_validate(gb, X, y, cv = 5, scoring= 'r2')\n",
    "        gbCV=gbCV['test_score'].mean().round(4)\n",
    "        \n",
    "        cvList.append(gbCV)\n",
    "        accList.append(gbScore)\n",
    "        \n",
    "    plt.plot(depthList,accList, label=\"train\")\n",
    "    plt.plot(depthList,cvList, label=\"test\")\n",
    "    plt.title('Graident Boost MaxDepth Cross Validate')\n",
    "    plt.xlabel('MaxDepth')\n",
    "    plt.ylabel('Accuracy')\n",
    "    plt.legend()\n",
    "    plt.show() \n",
    "\n",
    "def gbN():\n",
    "    nList=[2, 10, 30, 50, 70, 100, 150, 200, 300, 400, 500]\n",
    "    accList=[]\n",
    "    cvList=[]\n",
    "    for n in nList:\n",
    "        params = {\n",
    "         \"n_estimators\": n, \"max_depth\": 2, \n",
    "            \"min_samples_split\": 2, \"learning_rate\": 0.01,\n",
    "        }\n",
    "\n",
    "        #Fit and Predict:\n",
    "        gb = ensemble.GradientBoostingRegressor(**params)\n",
    "        gb.fit(X_train, y_train)\n",
    "        y_pred = gb.predict(X_test)\n",
    "        \n",
    "        gbR2 = r2_score(y_test, y_pred).round(4) \n",
    "        mse = mean_squared_error(y_test, gb.predict(X_test))\n",
    "        print(n, \"n_estimators || GB r2: \", gbR2, \"|| MSE: {:.4f}\".format(mse)) \n",
    "        \n",
    "        gbScore = gb.score(X_test, y_test).round(4)  # train test \n",
    "        gbCV = cross_validate(gb, X, y, cv = 4, scoring= 'r2')\n",
    "        gbCV=gbCV['test_score'].mean().round(4)\n",
    "        print(\"GB Score: \", gbScore  ,\"||\" , gbCV, \"cross validate.\")\n",
    "        \n",
    "        accList.append(gbScore)\n",
    "        cvList.append(gbCV)\n",
    "    \n",
    "    plt.plot(nList,accList, label=\"train\")\n",
    "    plt.plot(nList,cvList, label=\"test\")\n",
    "    plt.title('Gradient Boost n_estimators Cross Validate')\n",
    "    plt.xlabel('n_estimators')\n",
    "    plt.ylabel('Accuracy')\n",
    "    plt.legend()\n",
    "    plt.show() \n",
    "    \n",
    "def gbSplit():\n",
    "    nList=[2, 3, 5, 7, 9]\n",
    "    accList=[]\n",
    "    cvList=[]\n",
    "    \n",
    "    for n in nList:\n",
    "        params = {\n",
    "         \"n_estimators\": 100, \"max_depth\": 2,\n",
    "            \"min_samples_split\": n, \"learning_rate\": 0.01,\n",
    "        }\n",
    "\n",
    "        #Fit and Predict:\n",
    "        gb = ensemble.GradientBoostingRegressor(**params)\n",
    "        gb.fit(X_train, y_train)\n",
    "        y_pred = gb.predict(X_test)\n",
    "        gb_r2 = r2_score(y_test, y_pred).round(4)\n",
    "        mse = mean_squared_error(y_test, gb.predict(X_test)).round(4)\n",
    "        print(n,\" min_samples_splits || R2 \", gb_r2, \" || MSE {:.4f}\".format(mse))\n",
    "        \n",
    "        gbScore = gb.score(X_test, y_test).round(4)  # train test \n",
    "        gbCV = cross_validate(gb, X, y, cv = 4, scoring= 'r2')\n",
    "        gbCV=gbCV['test_score'].mean().round(4)\n",
    "        print(\"GB Score: \", gbScore  ,\"||\" , gbCV, \"cross validate.\")\n",
    "        \n",
    "        accList.append(gbScore)\n",
    "        cvList.append(gbCV)\n",
    "    \n",
    "    plt.plot(nList,accList, label=\"train\")\n",
    "    plt.plot(nList,cvList, label=\"test\")\n",
    "    plt.title('Gradient Boost min_split Cross Validate')\n",
    "    plt.xlabel('min_split')\n",
    "    plt.ylabel('Accuracy')\n",
    "    plt.legend()\n",
    "    plt.show() \n",
    "\n",
    "#Turn on or off functions here:\n",
    "#gbDepth()\n",
    "#gbN()\n",
    "#gbSplit()"
   ]
  },
  {
   "cell_type": "markdown",
   "id": "1cc64173",
   "metadata": {
    "papermill": {
     "duration": 0.061395,
     "end_time": "2022-06-09T16:33:28.112485",
     "exception": false,
     "start_time": "2022-06-09T16:33:28.051090",
     "status": "completed"
    },
    "tags": []
   },
   "source": [
    "#### Gradient Boost Prediction\n",
    "Use functions above to find the best paramters to input below."
   ]
  },
  {
   "cell_type": "code",
   "execution_count": 14,
   "id": "7734c641",
   "metadata": {
    "execution": {
     "iopub.execute_input": "2022-06-09T16:33:28.244632Z",
     "iopub.status.busy": "2022-06-09T16:33:28.244142Z",
     "iopub.status.idle": "2022-06-09T16:33:30.819334Z",
     "shell.execute_reply": "2022-06-09T16:33:30.818403Z"
    },
    "papermill": {
     "duration": 2.640856,
     "end_time": "2022-06-09T16:33:30.821645",
     "exception": false,
     "start_time": "2022-06-09T16:33:28.180789",
     "status": "completed"
    },
    "tags": []
   },
   "outputs": [
    {
     "name": "stdout",
     "output_type": "stream",
     "text": [
      "Gradient boosting regression r2:  0.2311\n",
      "AUC for gradient boost is:  0.7919\n",
      "The mean squared error (MSE) on test set: 0.1866\n",
      "GB Score:  0.8134 || 0.1173 cross validate.\n"
     ]
    }
   ],
   "source": [
    "params = {\n",
    " \"n_estimators\": 400, \"max_depth\": 3, \n",
    "    \"min_samples_split\": 2, \"learning_rate\": 0.01,\n",
    "}\n",
    "\n",
    "#Fit and Predict:\n",
    "gb = ensemble.GradientBoostingClassifier(**params)\n",
    "gb.fit(X_train, y_train)\n",
    "y_pred = gb.predict(X_test)\n",
    "gbr_r2 = r2_score(y_test, y_pred).round(4) \n",
    "print(\"Gradient boosting regression r2: \", gbr_r2) \n",
    "\n",
    "#AUC of model\n",
    "gbAUC = round( metrics.roc_auc_score(y_test, y_pred), 4 ) \n",
    "print(\"AUC for gradient boost is: \", gbAUC)\n",
    "\n",
    "gbMSE = mean_squared_error(y_test, gb.predict(X_test))\n",
    "print(\"The mean squared error (MSE) on test set: {:.4f}\".format(gbMSE))\n",
    "\n",
    "gbScore = gb.score(X_test, y_test).round(4)  # train test \n",
    "gbCV = cross_validate(gb, X, y, cv = 4, scoring= 'r2')\n",
    "gbCV=gbCV['test_score'].mean().round(4)\n",
    "print(\"GB Score: \", gbScore  ,\"||\" , gbCV, \"cross validate.\")"
   ]
  },
  {
   "cell_type": "markdown",
   "id": "a1a17681",
   "metadata": {
    "papermill": {
     "duration": 0.065153,
     "end_time": "2022-06-09T16:33:30.949431",
     "exception": false,
     "start_time": "2022-06-09T16:33:30.884278",
     "status": "completed"
    },
    "tags": []
   },
   "source": [
    "# Feature Importance"
   ]
  },
  {
   "cell_type": "code",
   "execution_count": 15,
   "id": "9f3fdf49",
   "metadata": {
    "execution": {
     "iopub.execute_input": "2022-06-09T16:33:31.082219Z",
     "iopub.status.busy": "2022-06-09T16:33:31.081912Z",
     "iopub.status.idle": "2022-06-09T16:33:33.150367Z",
     "shell.execute_reply": "2022-06-09T16:33:33.149403Z"
    },
    "papermill": {
     "duration": 2.138867,
     "end_time": "2022-06-09T16:33:33.152856",
     "exception": false,
     "start_time": "2022-06-09T16:33:31.013989",
     "status": "completed"
    },
    "tags": []
   },
   "outputs": [
    {
     "data": {
      "image/png": "[encoded data removed]",
      "text/plain": [
       "<Figure size 864x432 with 2 Axes>"
      ]
     },
     "metadata": {
      "needs_background": "light"
     },
     "output_type": "display_data"
    }
   ],
   "source": [
    "cols=X.columns\n",
    "feature_importance = gb.feature_importances_\n",
    "sorted_idx = np.argsort(feature_importance)\n",
    "pos = np.arange(sorted_idx.shape[0]) + 0.5\n",
    "fig = plt.figure(figsize=(12, 6))\n",
    "plt.subplot(1, 2, 1)\n",
    "plt.barh(pos, feature_importance[sorted_idx], align=\"center\")\n",
    "plt.yticks(pos, np.array(cols)[sorted_idx])\n",
    "plt.title(\"Feature Importance (MDI)\")\n",
    "\n",
    "result = permutation_importance(\n",
    "    gb, X_test, y_test, n_repeats=10, random_state=42, n_jobs=2\n",
    ")\n",
    "sorted_idx = result.importances_mean.argsort()\n",
    "plt.subplot(1, 2, 2)\n",
    "plt.boxplot(\n",
    "    result.importances[sorted_idx].T,\n",
    "    vert=False,\n",
    "    labels=np.array(cols)[sorted_idx],\n",
    ")\n",
    "plt.title(\"Permutation Importance (test set)\")\n",
    "fig.tight_layout()\n",
    "plt.show()"
   ]
  },
  {
   "attachments": {
    "63c4a264-8e23-4eac-89ed-c0f294330915.png": {
     "image/png": "[encoded data removed]"
    },
    "8adc07a2-eda7-4184-80cf-680d220a6456.png": {
     "image/png": "[encoded data removed]"
    }
   },
   "cell_type": "markdown",
   "id": "0c291c87",
   "metadata": {
    "papermill": {
     "duration": 0.064277,
     "end_time": "2022-06-09T16:33:33.282348",
     "exception": false,
     "start_time": "2022-06-09T16:33:33.218071",
     "status": "completed"
    },
    "tags": []
   },
   "source": [
    "# XGBOOST\n",
    "\n",
    "#### max_depth\n",
    "2 is the best max_depth that also provides the least amount of error:\n",
    "\n",
    "![image.png](attachment:63c4a264-8e23-4eac-89ed-c0f294330915.png)\n",
    "\n",
    "#### n_estimators:\n",
    "Around 20 seems to provide the best results for both datasets:\n",
    "\n",
    "![image.png](attachment:8adc07a2-eda7-4184-80cf-680d220a6456.png)\n"
   ]
  },
  {
   "cell_type": "code",
   "execution_count": 16,
   "id": "0dc30009",
   "metadata": {
    "execution": {
     "iopub.execute_input": "2022-06-09T16:33:33.423034Z",
     "iopub.status.busy": "2022-06-09T16:33:33.422715Z",
     "iopub.status.idle": "2022-06-09T16:33:43.225270Z",
     "shell.execute_reply": "2022-06-09T16:33:43.224587Z"
    },
    "papermill": {
     "duration": 9.880362,
     "end_time": "2022-06-09T16:33:43.227460",
     "exception": false,
     "start_time": "2022-06-09T16:33:33.347098",
     "status": "completed"
    },
    "tags": []
   },
   "outputs": [
    {
     "name": "stdout",
     "output_type": "stream",
     "text": [
      "2  n_estimators || AUC for XGB is:  0.8084\n",
      "MSE XGB on test set: 0.1738\n",
      "10  n_estimators || AUC for XGB is:  0.8752\n",
      "MSE XGB on test set: 0.1385\n",
      "20  n_estimators || AUC for XGB is:  0.8785\n",
      "MSE XGB on test set: 0.1336\n",
      "30  n_estimators || AUC for XGB is:  0.8718\n",
      "MSE XGB on test set: 0.1330\n",
      "40  n_estimators || AUC for XGB is:  0.8718\n",
      "MSE XGB on test set: 0.1331\n",
      "50  n_estimators || AUC for XGB is:  0.8718\n",
      "MSE XGB on test set: 0.1331\n",
      "60  n_estimators || AUC for XGB is:  0.8718\n",
      "MSE XGB on test set: 0.1331\n",
      "70  n_estimators || AUC for XGB is:  0.8718\n",
      "MSE XGB on test set: 0.1331\n",
      "80  n_estimators || AUC for XGB is:  0.8718\n",
      "MSE XGB on test set: 0.1331\n",
      "100  n_estimators || AUC for XGB is:  0.8718\n",
      "MSE XGB on test set: 0.1331\n"
     ]
    },
    {
     "data": {
      "image/png": "[encoded data removed]",
      "text/plain": [
       "<Figure size 432x288 with 1 Axes>"
      ]
     },
     "metadata": {
      "needs_background": "light"
     },
     "output_type": "display_data"
    }
   ],
   "source": [
    "import xgboost as xgb\n",
    "from xgboost import XGBRegressor, XGBClassifier\n",
    "\n",
    "def xgbDepth():\n",
    "    depthList=[2, 3, 4, 5, 7, 9, 11, 13]\n",
    "    accList=[]\n",
    "    cvList=[]\n",
    "\n",
    "    for d in depthList:\n",
    "        boost = xgb.XGBRegressor(n_estimators=100, max_depth=d)\n",
    "        boost.fit(X_train, y_train)\n",
    "        y_pred = boost.predict(X_test)\n",
    "\n",
    "        #calculate AUC of model\n",
    "        xgbAUC = round( metrics.roc_auc_score(y_test,  y_pred), 4 ) \n",
    "        print(d, \" maxDepth || AUC for XGB is: \", xgbAUC)\n",
    "\n",
    "        xgbMSE = mean_squared_error(y_test, y_pred)\n",
    "        print(\"MSE XGB on test set: {:.4f}\".format(xgbMSE))\n",
    "        \n",
    "        #CROSS VALIDATE TEST RESULTS:\n",
    "        boostScore = boost.score(X_test, y_test).round(4)  # train test \n",
    "        #print(\"Tree Score: \", treeScore)\n",
    "        boostCV = cross_validate(boost, X, y, cv = 5, scoring= 'r2')\n",
    "        boostCV=boostCV['test_score'].mean().round(4)\n",
    "        cvList.append(boostCV)\n",
    "        accList.append(boostScore)\n",
    "\n",
    "    plt.plot(depthList, accList, label=\"train\")\n",
    "    plt.plot(depthList,cvList, label=\"test\")\n",
    "    plt.title('XGBoost Cross Validate')\n",
    "    plt.xlabel('max_depth')\n",
    "    plt.ylabel('Accuracy')\n",
    "    plt.legend()\n",
    "    plt.show()         \n",
    "\n",
    "def xgbN():\n",
    "    nList=[2, 10, 20, 30, 40, 50, 60, 70, 80, 100]\n",
    "    accList=[]\n",
    "    cvList=[]\n",
    "    for n in nList:\n",
    "        boost = xgb.XGBRegressor(\n",
    "        n_estimators= n,\n",
    "        max_depth= 2, min_child_weight= 2, gamma=0.9,                        \n",
    "        objective= 'binary:logistic'\n",
    "        )\n",
    "\n",
    "        #Fit and Predict:\n",
    "        boost.fit(X_train, y_train)\n",
    "        y_pred = boost.predict(X_test)\n",
    "\n",
    "        #calculate AUC of model\n",
    "        xgbAUC = round( metrics.roc_auc_score(y_test, y_pred), 4 ) \n",
    "        print(n, \" n_estimators || AUC for XGB is: \", xgbAUC)\n",
    "\n",
    "        xgbMSE = mean_squared_error(y_test, y_pred)\n",
    "        print(\"MSE XGB on test set: {:.4f}\".format(xgbMSE))\n",
    "        \n",
    "        #CROSS VALIDATE TEST RESULTS:\n",
    "        boostScore = boost.score(X_test, y_test).round(4)  # train test \n",
    "        #print(\"Tree Score: \", treeScore)\n",
    "        boostCV = cross_validate(boost, X, y, cv = 5, scoring= 'r2')\n",
    "        boostCV=boostCV['test_score'].mean().round(4)\n",
    "        cvList.append(boostCV)\n",
    "        accList.append(boostScore)\n",
    "\n",
    "    plt.plot(nList, accList, label=\"train\")\n",
    "    plt.plot(nList,cvList, label=\"test\")\n",
    "    plt.title('XGBoost Cross Validate')\n",
    "    plt.xlabel('n_estimators')\n",
    "    plt.ylabel('Accuracy')\n",
    "    plt.legend()\n",
    "    plt.show()         \n",
    "        \n",
    "#Turn on or off functions here:\n",
    "#xgbDepth()\n",
    "xgbN()"
   ]
  },
  {
   "cell_type": "code",
   "execution_count": 17,
   "id": "75f3cb19",
   "metadata": {
    "execution": {
     "iopub.execute_input": "2022-06-09T16:33:43.367307Z",
     "iopub.status.busy": "2022-06-09T16:33:43.366989Z",
     "iopub.status.idle": "2022-06-09T16:33:43.714148Z",
     "shell.execute_reply": "2022-06-09T16:33:43.713506Z"
    },
    "papermill": {
     "duration": 0.419961,
     "end_time": "2022-06-09T16:33:43.717202",
     "exception": false,
     "start_time": "2022-06-09T16:33:43.297241",
     "status": "completed"
    },
    "tags": []
   },
   "outputs": [
    {
     "name": "stdout",
     "output_type": "stream",
     "text": [
      "AUC for XGB is:  0.7557\n",
      "MSE XGB on test set: 0.2090\n",
      "0.791  cross validate score\n"
     ]
    }
   ],
   "source": [
    "boost= xgb.XGBClassifier(\n",
    " n_estimators= 10,\n",
    " max_depth= 2,\n",
    " min_child_weight= 2,\n",
    " gamma=0.9,                        \n",
    " objective= 'binary:logistic'\n",
    ")\n",
    "\n",
    "#Fit and Predict:\n",
    "boost.fit(X_train, y_train)\n",
    "xgb_pred = boost.predict(X_test)\n",
    "\n",
    "#calculate AUC of model\n",
    "xgbAUC = round( metrics.roc_auc_score(y_test, xgb_pred), 4 ) \n",
    "print(\"AUC for XGB is: \", xgbAUC)\n",
    "\n",
    "xgbMSE = mean_squared_error(y_test, xgb_pred)\n",
    "print(\"MSE XGB on test set: {:.4f}\".format(xgbMSE))\n",
    "\n",
    " #CROSS VALIDATE TEST RESULTS:\n",
    "boostScore = boost.score(X_test, y_test).round(4)  # train test \n",
    "boostCV = cross_validate(boost, X, y, cv = 5, scoring= 'r2')\n",
    "boostCV=boostCV['test_score'].mean().round(4)\n",
    "print(boostScore, \" cross validate score\")"
   ]
  },
  {
   "cell_type": "markdown",
   "id": "818b43f0",
   "metadata": {
    "papermill": {
     "duration": 0.069557,
     "end_time": "2022-06-09T16:33:43.858554",
     "exception": false,
     "start_time": "2022-06-09T16:33:43.788997",
     "status": "completed"
    },
    "tags": []
   },
   "source": [
    "# Logistic Regression\n",
    "AUC for logistic regression is:  0.8779. Tuning the C value did not seem to make much difference in the final AUC prediction. "
   ]
  },
  {
   "cell_type": "markdown",
   "id": "f81943d3",
   "metadata": {
    "papermill": {
     "duration": 0.06834,
     "end_time": "2022-06-09T16:33:43.996635",
     "exception": false,
     "start_time": "2022-06-09T16:33:43.928295",
     "status": "completed"
    },
    "tags": []
   },
   "source": [
    "#### Parameters Tuning\n",
    "The Parameter C, the Grid Search is a way to tune the data. C parameter at 10 seems to give the highest AUC but it does not make much difference. The C parameter report gives the following:\n",
    "* 0.01  C param || AUC:  0.8603  || MAE 0.2819\n",
    "* 1  C param || AUC:  0.8759  || MAE 0.2819\n",
    "* 2  C param || AUC:  0.8771  || MAE 0.2819\n",
    "* 5  C param || AUC:  0.8778  || MAE 0.2819\n",
    "* 10  C param || AUC:  0.8779  || MAE 0.2819\n"
   ]
  },
  {
   "cell_type": "code",
   "execution_count": 18,
   "id": "e87bbc33",
   "metadata": {
    "execution": {
     "iopub.execute_input": "2022-06-09T16:33:44.137710Z",
     "iopub.status.busy": "2022-06-09T16:33:44.136724Z",
     "iopub.status.idle": "2022-06-09T16:33:44.143841Z",
     "shell.execute_reply": "2022-06-09T16:33:44.143123Z"
    },
    "papermill": {
     "duration": 0.078637,
     "end_time": "2022-06-09T16:33:44.145868",
     "exception": false,
     "start_time": "2022-06-09T16:33:44.067231",
     "status": "completed"
    },
    "tags": []
   },
   "outputs": [],
   "source": [
    "from sklearn.linear_model import LogisticRegression\n",
    "#Note: solver param gets rid of encoder error\n",
    "\n",
    "def logC():\n",
    "    cList=[.01, 1, 2, 5, 10]\n",
    "    for n in cList:\n",
    "        logReg = LogisticRegression(solver='liblinear', C=n) \n",
    "\n",
    "        logReg.fit(X_train, y_train)\n",
    "        logPredict = logReg.predict_proba(X_test)[::,1]\n",
    "\n",
    "        auc = round( metrics.roc_auc_score(y_test, logPredict), 4 ) \n",
    "        mae = mean_absolute_error(y_test, y_pred).round(4)\n",
    "        print(n, \" C param || AUC: \", auc, \" || MAE\", mae) \n",
    "#logC()"
   ]
  },
  {
   "cell_type": "markdown",
   "id": "3c3a092d",
   "metadata": {
    "papermill": {
     "duration": 0.06826,
     "end_time": "2022-06-09T16:33:44.284345",
     "exception": false,
     "start_time": "2022-06-09T16:33:44.216085",
     "status": "completed"
    },
    "tags": []
   },
   "source": [
    "#### Final Logistic Prediction\n",
    "Input the variables below from using the test functions above. Using l1 or l2 for penalty does not make a major difference in final AUC."
   ]
  },
  {
   "cell_type": "code",
   "execution_count": 19,
   "id": "cec41931",
   "metadata": {
    "execution": {
     "iopub.execute_input": "2022-06-09T16:33:44.423084Z",
     "iopub.status.busy": "2022-06-09T16:33:44.422536Z",
     "iopub.status.idle": "2022-06-09T16:33:44.440238Z",
     "shell.execute_reply": "2022-06-09T16:33:44.438642Z"
    },
    "papermill": {
     "duration": 0.089779,
     "end_time": "2022-06-09T16:33:44.442562",
     "exception": false,
     "start_time": "2022-06-09T16:33:44.352783",
     "status": "completed"
    },
    "tags": []
   },
   "outputs": [
    {
     "name": "stdout",
     "output_type": "stream",
     "text": [
      "AUC for logistic regression is:  0.8779\n"
     ]
    }
   ],
   "source": [
    "logReg = LogisticRegression(solver='liblinear',penalty='l2', C=10) \n",
    "\n",
    "#FIT AND PREDICT:\n",
    "logReg.fit(X_train, y_train)\n",
    "logPredict = logReg.predict_proba(X_test)[::,1]\n",
    "\n",
    "#METRICS:\n",
    "xgbAUC = round( metrics.roc_auc_score(y_test, logPredict), 4 ) \n",
    "print(\"AUC for logistic regression is: \", xgbAUC)"
   ]
  },
  {
   "cell_type": "markdown",
   "id": "0e44bb63",
   "metadata": {
    "papermill": {
     "duration": 0.068254,
     "end_time": "2022-06-09T16:33:44.580054",
     "exception": false,
     "start_time": "2022-06-09T16:33:44.511800",
     "status": "completed"
    },
    "tags": []
   },
   "source": [
    "# Linear Regression"
   ]
  },
  {
   "cell_type": "code",
   "execution_count": 20,
   "id": "10802038",
   "metadata": {
    "execution": {
     "iopub.execute_input": "2022-06-09T16:33:44.723032Z",
     "iopub.status.busy": "2022-06-09T16:33:44.722759Z",
     "iopub.status.idle": "2022-06-09T16:33:44.945108Z",
     "shell.execute_reply": "2022-06-09T16:33:44.943905Z"
    },
    "papermill": {
     "duration": 0.294795,
     "end_time": "2022-06-09T16:33:44.947939",
     "exception": false,
     "start_time": "2022-06-09T16:33:44.653144",
     "status": "completed"
    },
    "tags": []
   },
   "outputs": [
    {
     "name": "stdout",
     "output_type": "stream",
     "text": [
      "AUC for linear regression is:  0.8765\n",
      "Linear regression r2 score:  0.4424\n",
      "Linear Accuracy:  0.4424\n",
      "0.3665  linear regression cross validate mean\n",
      "0.3678  is lr MSE \n"
     ]
    },
    {
     "data": {
      "image/png": "[encoded data removed]",
      "text/plain": [
       "<Figure size 432x288 with 1 Axes>"
      ]
     },
     "metadata": {
      "needs_background": "light"
     },
     "output_type": "display_data"
    }
   ],
   "source": [
    "from sklearn.linear_model import LinearRegression, Ridge, Lasso\n",
    "\n",
    "#Fit and predict:\n",
    "lrModel = LinearRegression()\n",
    "lrModel.fit(X_train, y_train)\n",
    "lrPredict = lrModel.predict(X_test)\n",
    "\n",
    "# plt.scatter(y_test, predictions)\n",
    "plt.hist(y_test - lrPredict)\n",
    "\n",
    "#Linear Metrics:\n",
    "xgbAUC = round( metrics.roc_auc_score(y_test, lrPredict), 4 ) \n",
    "r2 = r2_score(y_test, lrPredict).round(4) \n",
    "print(\"AUC for linear regression is: \", xgbAUC)\n",
    "print(\"Linear regression r2 score: \", r2)\n",
    "\n",
    "#CROSS VALIDATE TEST RESULTS:\n",
    "lr_score = lrModel.score(X_test, y_test).round(4)  # train test \n",
    "print(\"Linear Accuracy: \", lr_score)\n",
    "lr_cv = cross_validate(lrModel, X, y, cv = 5, scoring= 'r2')\n",
    "lr_cvMean=lr_cv['test_score'].mean().round(4)\n",
    "print(lr_cvMean, \" linear regression cross validate mean\")\n",
    "\n",
    "lrMSE=np.sqrt(metrics.mean_squared_error(y_test, lrPredict))\n",
    "print(round(lrMSE, 4), \" is lr MSE \")\n",
    "\n",
    "def linearReports():\n",
    "    print(model.coef_)    \n",
    "    print(model.intercept_)\n",
    "    print(classification_report(y_test_data, lrPredict))\n",
    "    print(confusion_matrix(y_test_data, lrPredict))\n",
    "    metrics.mean_absolute_error(y_test, lrPredict)"
   ]
  },
  {
   "attachments": {
    "1e88f7da-fc44-40bb-9779-54dc4c839bcd.png": {
     "image/png": "[encoded data removed]"
    },
    "c1620334-0a2f-4b3d-8a85-78ebb191967e.png": {
     "image/png": "[encoded data removed]"
    }
   },
   "cell_type": "markdown",
   "id": "c448c852",
   "metadata": {
    "papermill": {
     "duration": 0.07271,
     "end_time": "2022-06-09T16:33:45.090830",
     "exception": false,
     "start_time": "2022-06-09T16:33:45.018120",
     "status": "completed"
    },
    "tags": []
   },
   "source": [
    "# Decision Tree\n",
    "\n",
    "#### max_leaf_nodes\n",
    "![image.png](attachment:1e88f7da-fc44-40bb-9779-54dc4c839bcd.png)\n",
    "\n",
    "#### max_depth\n",
    "![image.png](attachment:c1620334-0a2f-4b3d-8a85-78ebb191967e.png)\n",
    "\n",
    "The results after 3 for max_depth are underfit. Therefore, the best max_depth to use seems to be 2 or 3.\n",
    "\n",
    "Best parameters are:\n",
    "* max_leaf_nodes=5  \n",
    "* max_depth=2\n"
   ]
  },
  {
   "cell_type": "code",
   "execution_count": 21,
   "id": "fe4a26ee",
   "metadata": {
    "execution": {
     "iopub.execute_input": "2022-06-09T16:33:45.247774Z",
     "iopub.status.busy": "2022-06-09T16:33:45.246936Z",
     "iopub.status.idle": "2022-06-09T16:33:45.424817Z",
     "shell.execute_reply": "2022-06-09T16:33:45.423739Z"
    },
    "papermill": {
     "duration": 0.25288,
     "end_time": "2022-06-09T16:33:45.427389",
     "exception": false,
     "start_time": "2022-06-09T16:33:45.174509",
     "status": "completed"
    },
    "tags": []
   },
   "outputs": [],
   "source": [
    "from sklearn.tree import DecisionTreeRegressor, DecisionTreeClassifier\n",
    "\n",
    "#FIND best_tree_size LEAF NODES:\n",
    "def calcLeaf():\n",
    "    leafList = [2, 4, 5, 10, 20, 30, 40, 50, 100]\n",
    "    maeDic={} #dictionary  key=leaf  mae=value\n",
    "    \n",
    "    accList=[]\n",
    "    cvList=[]\n",
    "    maeList=[]\n",
    "    maxLeafNodesList=[]\n",
    "    for leaf in leafList:\n",
    "        tree = DecisionTreeRegressor(max_leaf_nodes=leaf, random_state=42)\n",
    "        tree.fit(X_train, y_train)\n",
    "        y_pred = tree.predict(X_test)\n",
    "        mae = mean_absolute_error(y_test, y_pred).round(4)\n",
    "        treeR2 = r2_score(y_test, y_pred).round(4)\n",
    "        maeDic[leaf]=mae\n",
    "        print(leaf, \" max_leaf_nodes || AUC \", treeR2, \" || MAE: \", mae)\n",
    "        \n",
    "        #CROSS VALIDATE TEST RESULTS:\n",
    "        treeScore = tree.score(X_test, y_test).round(4)  # train test \n",
    "        #print(\"Tree Score: \", treeScore)\n",
    "        treeCV = cross_validate(tree, X, y, cv = 5, scoring= 'r2')\n",
    "        treeCV=treeCV['test_score'].mean().round(4)\n",
    "        cvList.append(treeCV)\n",
    "        accList.append(treeScore)\n",
    "\n",
    "    plt.plot(leafList,accList, label=\"train\")\n",
    "    plt.plot(leafList,cvList, label=\"test\")\n",
    "    plt.title('Decision Tree Cross Validate')\n",
    "    plt.xlabel('max_leaf_nodes')\n",
    "    plt.ylabel('Accuracy')\n",
    "    plt.legend()\n",
    "    plt.show()         \n",
    "    maxLeafNodes = sorted(maeDic, key=lambda x : maeDic[x])[0]\n",
    "    \n",
    "    \n",
    "def calcDepth():\n",
    "    maxDepthList = [2, 3, 5, 7]\n",
    "    \n",
    "    maeDic={} #dictionary  key=depth  mae=value\n",
    "    accList=[]\n",
    "    cvList=[]\n",
    "    maeList=[]\n",
    "    maxLeafNodesList=[]\n",
    "    \n",
    "    for d in maxDepthList:\n",
    "        tree = DecisionTreeRegressor(max_leaf_nodes=100, max_depth=d, random_state=42)\n",
    "        tree.fit(X_train, y_train)\n",
    "        y_pred = tree.predict(X_test)\n",
    "        mae = mean_absolute_error(y_test, y_pred).round(4)\n",
    "        maeDic[d]=mae\n",
    "        treeAUC = round( metrics.roc_auc_score(y_test, y_pred), 4 ) \n",
    "        print(d, \" max_depth || AUC \", treeAUC, \" || MAE: \", mae)\n",
    "        \n",
    "        #CROSS VALIDATE TEST RESULTS:\n",
    "        treeScore = tree.score(X_test, y_test).round(4)  # train test \n",
    "        #print(\"Tree Score: \", treeScore)\n",
    "        treeCV = cross_validate(tree, X, y, cv = 5, scoring= 'r2')\n",
    "        treeCV=treeCV['test_score'].mean().round(4)\n",
    "        cvList.append(treeCV)\n",
    "        accList.append(treeScore)\n",
    "\n",
    "    plt.plot(maxDepthList,accList, label=\"train\")\n",
    "    plt.plot(maxDepthList,cvList, label=\"test\")\n",
    "    plt.title('Decision Tree Cross Validate')\n",
    "    plt.xlabel('MaxDepth')\n",
    "    plt.ylabel('Accuracy')\n",
    "    plt.legend()\n",
    "    plt.show()         \n",
    "    \n",
    "    best_max_depth = sorted(maeDic, key=lambda x : maeDic[x])[0]\n",
    "    #print(best_max_depth, \" best max_depth with least error.\") \n",
    "    \n",
    "def automateTree():\n",
    "    candidate_max_leaf_nodes = [2, 5, 10, 25, 50, 80, 100, 200, 300]\n",
    "    max_depth_list = [2, 3, 5, 7, 9]\n",
    "    \n",
    "    #STORE DATA INTO LISTS FOR DATAFRAME LATER:\n",
    "    aucList=[]\n",
    "    maeList=[]\n",
    "    maxDepthList=[]\n",
    "    maxLeafNodesList=[]\n",
    "\n",
    "    for d in max_depth_list:\n",
    "        for leaf in candidate_max_leaf_nodes:\n",
    "            model = DecisionTreeRegressor(max_leaf_nodes=leaf, \n",
    "                                          max_depth=d, random_state=42)\n",
    "            model.fit(X_train, y_train)\n",
    "            y_pred = model.predict(X_test)\n",
    "            mae = mean_absolute_error(y_test, y_pred).round(4)\n",
    "            treeR2 = r2_score(y_test, y_pred).round(4)\n",
    "            \n",
    "            aucList.append(treeR2)\n",
    "            maeList.append(mae)\n",
    "            maxDepthList.append(d)\n",
    "            maxLeafNodesList.append(leaf)\n",
    "           \n",
    "    df = pd.DataFrame(list(zip(aucList, maeList, maxDepthList, maxLeafNodesList)),\n",
    "                          columns=['AUC','MAE', 'MaxDepth', 'MaxLeafNodes'])\n",
    "    \n",
    "    df=df.sort_values(by=['AUC'], ascending=False)\n",
    "    return df\n",
    "\n",
    "#TURN FUNCTION OFF OR ON BELOW:   \n",
    "#calcLeaf()\n",
    "#calcDepth()\n",
    "#treeDF=automateTree()    \n",
    "#treeDF.head()"
   ]
  },
  {
   "cell_type": "markdown",
   "id": "ec6a5d3c",
   "metadata": {
    "papermill": {
     "duration": 0.070438,
     "end_time": "2022-06-09T16:33:45.569136",
     "exception": false,
     "start_time": "2022-06-09T16:33:45.498698",
     "status": "completed"
    },
    "tags": []
   },
   "source": [
    "#### Final Decision Tree Prediction\n",
    "Inputs below such as best_depth by using functions above."
   ]
  },
  {
   "cell_type": "code",
   "execution_count": 22,
   "id": "2cf5bb47",
   "metadata": {
    "execution": {
     "iopub.execute_input": "2022-06-09T16:33:45.711024Z",
     "iopub.status.busy": "2022-06-09T16:33:45.710593Z",
     "iopub.status.idle": "2022-06-09T16:33:45.727194Z",
     "shell.execute_reply": "2022-06-09T16:33:45.726325Z"
    },
    "papermill": {
     "duration": 0.090236,
     "end_time": "2022-06-09T16:33:45.729880",
     "exception": false,
     "start_time": "2022-06-09T16:33:45.639644",
     "status": "completed"
    },
    "tags": []
   },
   "outputs": [
    {
     "name": "stdout",
     "output_type": "stream",
     "text": [
      "0.0619  R2 Decision Tree\n",
      "AUC for decision tree is:  0.7345\n",
      "0.4771  is tree MSE \n"
     ]
    }
   ],
   "source": [
    " boost = DecisionTreeClassifier(\n",
    "    max_depth=2, \n",
    "    max_leaf_nodes=5, \n",
    "    random_state=42)\n",
    "\n",
    "#FIT AND PREDICT:\n",
    " boost.fit(X, y)\n",
    "y_pred =  boost.predict(X_test)\n",
    "\n",
    "#Calculate Metrics:\n",
    "treeR2 = r2_score(y_test, y_pred).round(4)\n",
    "print(treeR2, \" R2 Decision Tree\")\n",
    "treeAUC = round( metrics.roc_auc_score(y_test, y_pred), 4 ) \n",
    "print(\"AUC for decision tree is: \", treeAUC)\n",
    "treeMSE=np.sqrt(metrics.mean_squared_error(y_test, y_pred))\n",
    "print(round(treeMSE, 4), \" is tree MSE \")"
   ]
  },
  {
   "cell_type": "code",
   "execution_count": 23,
   "id": "f2425b09",
   "metadata": {
    "execution": {
     "iopub.execute_input": "2022-06-09T16:33:45.871976Z",
     "iopub.status.busy": "2022-06-09T16:33:45.871675Z",
     "iopub.status.idle": "2022-06-09T16:33:45.878047Z",
     "shell.execute_reply": "2022-06-09T16:33:45.877145Z"
    },
    "papermill": {
     "duration": 0.080237,
     "end_time": "2022-06-09T16:33:45.880298",
     "exception": false,
     "start_time": "2022-06-09T16:33:45.800061",
     "status": "completed"
    },
    "tags": []
   },
   "outputs": [
    {
     "data": {
      "text/plain": [
       "'\\nimport graphviz \\ndot_data = tree.export_graphviz(tree, out_file=None, \\n                              feature_names=X_train.columns,  \\n                              class_names=y_train,  \\n                              filled=True, rounded=True,  \\n                              special_characters=True)\\n\\ngraph = graphviz.Source(dot_data) \\ngraph\\n'"
      ]
     },
     "execution_count": 23,
     "metadata": {},
     "output_type": "execute_result"
    }
   ],
   "source": [
    "\"\"\"\n",
    "import graphviz \n",
    "dot_data = tree.export_graphviz(tree, out_file=None, \n",
    "                              feature_names=X_train.columns,  \n",
    "                              class_names=y_train,  \n",
    "                              filled=True, rounded=True,  \n",
    "                              special_characters=True)\n",
    "\n",
    "graph = graphviz.Source(dot_data) \n",
    "graph\n",
    "\"\"\""
   ]
  },
  {
   "attachments": {
    "0ab2f514-de15-4b08-8373-fb1ac055ee23.png": {
     "image/png": "[encoded data removed]"
    },
    "c90420b5-a471-467b-9dd1-beec22c047b1.png": {
     "image/png": "[encoded data removed]"
    }
   },
   "cell_type": "markdown",
   "id": "75b9e4f1",
   "metadata": {
    "_kg_hide-output": true,
    "papermill": {
     "duration": 0.071576,
     "end_time": "2022-06-09T16:33:46.026517",
     "exception": false,
     "start_time": "2022-06-09T16:33:45.954941",
     "status": "completed"
    },
    "tags": []
   },
   "source": [
    "# Random Forest\n",
    "Random forest AUC:  0.8503 which is good results considering forest does not overfit data.\n",
    "\n",
    "#### max_depth \n",
    "![image.png](attachment:c90420b5-a471-467b-9dd1-beec22c047b1.png)\n",
    "\n",
    "#### num_estimators\n",
    "![image.png](attachment:0ab2f514-de15-4b08-8373-fb1ac055ee23.png)\n",
    "\n",
    "The best n_estimates with high AUC seems to be 400. Error is not impacted by the change of n_estimates. The full report can be seen below: <br>\n",
    "* 2  n_estimates |  0.7962  AUC |  0.24  MAE\n",
    "* 102  n_estimates |  0.843  AUC |  0.25  MAE\n",
    "* 202  n_estimates |  0.8459  AUC |  0.25  MAE\n",
    "* 302  n_estimates |  0.8492  AUC |  0.25  MAE\n",
    "* 402  n_estimates |  0.8505  AUC |  0.25  MAE\n",
    "* 502  n_estimates |  0.8489  AUC |  0.25  MAE"
   ]
  },
  {
   "cell_type": "code",
   "execution_count": 24,
   "id": "bfdd2de2",
   "metadata": {
    "execution": {
     "iopub.execute_input": "2022-06-09T16:33:46.171643Z",
     "iopub.status.busy": "2022-06-09T16:33:46.171308Z",
     "iopub.status.idle": "2022-06-09T16:33:46.193087Z",
     "shell.execute_reply": "2022-06-09T16:33:46.192160Z"
    },
    "papermill": {
     "duration": 0.097849,
     "end_time": "2022-06-09T16:33:46.195310",
     "exception": false,
     "start_time": "2022-06-09T16:33:46.097461",
     "status": "completed"
    },
    "tags": []
   },
   "outputs": [],
   "source": [
    "from sklearn.ensemble import RandomForestRegressor, RandomForestClassifier\n",
    "\n",
    "#Check for Error and find Best n_estimators:\n",
    "def forestNumEst():\n",
    "    dMAE={} #dictionary of n_estimators as key and MAE as value:\n",
    "    nEst=[] #store n_estimators\n",
    "    cvList=[] #cross validate list\n",
    "    accList=[] #accuracy train data\n",
    "    mae=[] #error\n",
    "    \n",
    "    for n in [2, 4, 6, 8, 10, 30, 50, 70]:\n",
    "        forest = RandomForestRegressor(n_estimators=n, random_state = 0)\n",
    "        forest.fit(X_train, y_train)\n",
    "        y_pred = forest.predict(X_test)\n",
    "        MAE=metrics.mean_absolute_error(y_test, y_pred).round(2)\n",
    "        dMAE[n]=MAE\n",
    "      \n",
    "        #CROSS VALIDATE TEST RESULTS:\n",
    "        forestScore = forest.score(X_test, y_test).round(4)  # train test \n",
    "        forestCV = cross_validate(forest, X, y, cv = 5, scoring= 'r2')\n",
    "        forestCV=forestCV['test_score'].mean().round(4)\n",
    "        \n",
    "        print(\"n_estimates: \", n,  '  Mean Absolute Error:', MAE)\n",
    "        print(\"Forest Score: \", forestScore  ,\"||\" , forestCV, \"cross validate.\")\n",
    "       \n",
    "        nEst.append(n)\n",
    "        cvList.append(forestCV)\n",
    "        accList.append(forestScore)\n",
    "        mae.append(MAE)\n",
    "        \n",
    "    plt.plot(nEst,accList, label=\"test\")\n",
    "    plt.plot(nEst,cvList, label=\"train\")\n",
    "    plt.title(\"Forest N_Estimators\")\n",
    "    plt.xlabel('N_estimators')\n",
    "    plt.ylabel('Accuracy')\n",
    "    plt.show() \n",
    "    \n",
    "    dMAE=sorted(((v, k) for k, v in dMAE.items()), reverse=False)\n",
    "    print(dMAE)\n",
    "    \n",
    "def forestDepth():\n",
    "    dMAE={} #dictionary of n_estimators as key and MAE as value:\n",
    "    nEst=[] #store n_estimators\n",
    "    cvList=[] #cross validate list\n",
    "    accList=[] #accuracy train data\n",
    "    mae=[] #error\n",
    "    \n",
    "    for n in [2, 3, 5, 7, 10, 20]:\n",
    "        forest = RandomForestRegressor(n_estimators=10, max_depth=n, random_state = 0)\n",
    "        forest.fit(X_train, y_train)\n",
    "        y_pred = forest.predict(X_test)\n",
    "        MAE=metrics.mean_absolute_error(y_test, y_pred).round(2)\n",
    "        dMAE[n]=MAE\n",
    "      \n",
    "        #CROSS VALIDATE TEST RESULTS:\n",
    "        forestScore = forest.score(X_test, y_test).round(4)  # train test \n",
    "        forestCV = cross_validate(forest, X, y, cv = 5, scoring= 'r2')\n",
    "        forestCV=forestCV['test_score'].mean().round(4)\n",
    "        \n",
    "        print(\"max_depth: \", n,  '  Mean Absolute Error:', MAE)\n",
    "        print(\"Forest Score: \", forestScore  ,\"||\" , forestCV, \"cross validate.\")\n",
    "       \n",
    "        nEst.append(n)\n",
    "        cvList.append(forestCV)\n",
    "        accList.append(forestScore)\n",
    "        mae.append(MAE)\n",
    "        \n",
    "    plt.plot(nEst,accList, label=\"test\")\n",
    "    plt.plot(nEst,cvList, label=\"train\")\n",
    "    plt.title(\"Forest Max_Depth\")\n",
    "    plt.xlabel('max_depth')\n",
    "    plt.ylabel('Accuracy')\n",
    "    plt.show() \n",
    "    \n",
    "    dMAE=sorted(((v, k) for k, v in dMAE.items()), reverse=False)\n",
    "    print(dMAE)\n",
    "\n",
    "#forestNumEst() \n",
    "#forestDepth()"
   ]
  },
  {
   "cell_type": "markdown",
   "id": "cf182c87",
   "metadata": {
    "papermill": {
     "duration": 0.076541,
     "end_time": "2022-06-09T16:33:46.343007",
     "exception": false,
     "start_time": "2022-06-09T16:33:46.266466",
     "status": "completed"
    },
    "tags": []
   },
   "source": [
    "#### Final Random Forest Prediction"
   ]
  },
  {
   "cell_type": "code",
   "execution_count": 25,
   "id": "799d0fa9",
   "metadata": {
    "execution": {
     "iopub.execute_input": "2022-06-09T16:33:46.491236Z",
     "iopub.status.busy": "2022-06-09T16:33:46.490676Z",
     "iopub.status.idle": "2022-06-09T16:33:46.704591Z",
     "shell.execute_reply": "2022-06-09T16:33:46.702977Z"
    },
    "papermill": {
     "duration": 0.290513,
     "end_time": "2022-06-09T16:33:46.707848",
     "exception": false,
     "start_time": "2022-06-09T16:33:46.417335",
     "status": "completed"
    },
    "tags": []
   },
   "outputs": [
    {
     "name": "stdout",
     "output_type": "stream",
     "text": [
      "Random forest AUC:  0.7519\n",
      "Random forest r2:  0.1081\n",
      "Random forest MAE:  0.22\n"
     ]
    }
   ],
   "source": [
    "forest = RandomForestClassifier(\n",
    "    n_estimators=100, \n",
    "    max_depth=3, \n",
    "    random_state = 0)\n",
    "forest.fit(X_train, y_train)\n",
    "y_pred = forest.predict(X_test)\n",
    "\n",
    "#Print Metrics:\n",
    "forest_r2 = r2_score(y_test, y_pred).round(4)  \n",
    "forest_auc = round( metrics.roc_auc_score(y_test, y_pred), 4 ) \n",
    "print(\"Random forest AUC: \", forest_auc) \n",
    "print(\"Random forest r2: \", forest_r2)\n",
    "\n",
    "mae=metrics.mean_absolute_error(y_test, y_pred).round(2)\n",
    "print(\"Random forest MAE: \", mae)"
   ]
  },
  {
   "cell_type": "markdown",
   "id": "b4149078",
   "metadata": {
    "papermill": {
     "duration": 0.073517,
     "end_time": "2022-06-09T16:33:46.856120",
     "exception": false,
     "start_time": "2022-06-09T16:33:46.782603",
     "status": "completed"
    },
    "tags": []
   },
   "source": [
    "# K-Nearest Neighbors (KNN)"
   ]
  },
  {
   "cell_type": "markdown",
   "id": "1d0ba72b",
   "metadata": {
    "papermill": {
     "duration": 0.071431,
     "end_time": "2022-06-09T16:33:46.999458",
     "exception": false,
     "start_time": "2022-06-09T16:33:46.928027",
     "status": "completed"
    },
    "tags": []
   },
   "source": [
    "#### KNN Parameter Tunning"
   ]
  },
  {
   "cell_type": "code",
   "execution_count": 26,
   "id": "3759928c",
   "metadata": {
    "execution": {
     "iopub.execute_input": "2022-06-09T16:33:47.147650Z",
     "iopub.status.busy": "2022-06-09T16:33:47.147117Z",
     "iopub.status.idle": "2022-06-09T16:33:47.391200Z",
     "shell.execute_reply": "2022-06-09T16:33:47.390555Z"
    },
    "papermill": {
     "duration": 0.319379,
     "end_time": "2022-06-09T16:33:47.393149",
     "exception": false,
     "start_time": "2022-06-09T16:33:47.073770",
     "status": "completed"
    },
    "tags": []
   },
   "outputs": [
    {
     "data": {
      "image/png": "[encoded data removed]",
      "text/plain": [
       "<Figure size 432x288 with 1 Axes>"
      ]
     },
     "metadata": {
      "needs_background": "light"
     },
     "output_type": "display_data"
    }
   ],
   "source": [
    "from sklearn.neighbors import KNeighborsClassifier, KNeighborsRegressor\n",
    "\n",
    "def knnError():\n",
    "    error_rates = []\n",
    "    for i in range(1, 10, 2): #Must be an odd number to break a tie\n",
    "        new_model = KNeighborsClassifier(n_neighbors = i)\n",
    "        new_model.fit(X_train, y_train)\n",
    "        new_predictions = new_model.predict(X_test)\n",
    "        error_rates.append(np.mean(new_predictions != y_test))\n",
    "    plt.figure(figsize=(6,4))\n",
    "    plt.plot(error_rates)\n",
    "    plt.title(\"KNN Error n_neighbors\")\n",
    "    plt.xlabel(\"n_neighbors\")\n",
    "    plt.ylabel(\"Error Rate\")\n",
    "knnError()"
   ]
  },
  {
   "cell_type": "markdown",
   "id": "328ce0f6",
   "metadata": {
    "papermill": {
     "duration": 0.071564,
     "end_time": "2022-06-09T16:33:47.536924",
     "exception": false,
     "start_time": "2022-06-09T16:33:47.465360",
     "status": "completed"
    },
    "tags": []
   },
   "source": [
    "#### Final KNN Prediction"
   ]
  },
  {
   "cell_type": "code",
   "execution_count": 27,
   "id": "6ffc733a",
   "metadata": {
    "execution": {
     "iopub.execute_input": "2022-06-09T16:33:47.686047Z",
     "iopub.status.busy": "2022-06-09T16:33:47.685471Z",
     "iopub.status.idle": "2022-06-09T16:33:47.700465Z",
     "shell.execute_reply": "2022-06-09T16:33:47.699526Z"
    },
    "papermill": {
     "duration": 0.091205,
     "end_time": "2022-06-09T16:33:47.702667",
     "exception": false,
     "start_time": "2022-06-09T16:33:47.611462",
     "status": "completed"
    },
    "tags": []
   },
   "outputs": [
    {
     "name": "stdout",
     "output_type": "stream",
     "text": [
      "Knn AUC:  0.5975\n",
      "MSE  0.5325\n"
     ]
    }
   ],
   "source": [
    "knn = KNeighborsClassifier(\n",
    "    n_neighbors =3)\n",
    "\n",
    "#FIT and PREDICT:\n",
    "knn.fit(X_train, y_train)\n",
    "knnPredict = knn.predict_proba(X_test)[::,1]\n",
    "\n",
    "#calculate AUC of model\n",
    "knn_auc = round( metrics.roc_auc_score(y_test, knnPredict), 4 ) \n",
    "print(\"Knn AUC: \", knn_auc)\n",
    "error = round(sqrt(mean_squared_error(y_test,knnPredict)), 4)\n",
    "print(\"MSE \", error)"
   ]
  },
  {
   "cell_type": "markdown",
   "id": "dee0b593",
   "metadata": {
    "papermill": {
     "duration": 0.072875,
     "end_time": "2022-06-09T16:33:47.850901",
     "exception": false,
     "start_time": "2022-06-09T16:33:47.778026",
     "status": "completed"
    },
    "tags": []
   },
   "source": [
    "# Support Vector \n",
    "The initial results for SVM AUC with no parameter tunning is 0.5336.  The model does not seem worth investing lots of time into due to poor AUC performance. \n",
    "\n",
    "#### GridSearch Tune\n",
    "The best parameters from tunning SVM is SVC(C=1000, gamma=0.0001)."
   ]
  },
  {
   "cell_type": "code",
   "execution_count": 28,
   "id": "9ccb500c",
   "metadata": {
    "execution": {
     "iopub.execute_input": "2022-06-09T16:33:47.998336Z",
     "iopub.status.busy": "2022-06-09T16:33:47.997672Z",
     "iopub.status.idle": "2022-06-09T16:33:48.004223Z",
     "shell.execute_reply": "2022-06-09T16:33:48.003454Z"
    },
    "papermill": {
     "duration": 0.082131,
     "end_time": "2022-06-09T16:33:48.006341",
     "exception": false,
     "start_time": "2022-06-09T16:33:47.924210",
     "status": "completed"
    },
    "tags": []
   },
   "outputs": [],
   "source": [
    "from sklearn.model_selection import GridSearchCV\n",
    "from sklearn.svm import SVC\n",
    " \n",
    "def tuneSVM():\n",
    "    # defining parameter range\n",
    "    param_grid = {'C': [0.1, 1, 10, 100, 1000],\n",
    "                  'gamma': [1, 0.1, 0.01, 0.001, 0.0001],\n",
    "                  'kernel': ['rbf']}\n",
    "\n",
    "    grid = GridSearchCV(SVC(), param_grid, refit = True, verbose = 3)\n",
    "\n",
    "    # fitting the model for grid search\n",
    "    grid.fit(X_train, y_train)\n",
    "\n",
    "    # print best parameter after tuning\n",
    "    print(grid.best_params_)\n",
    "\n",
    "    # print how our model looks after hyper-parameter tuning\n",
    "    print(grid.best_estimator_)"
   ]
  },
  {
   "cell_type": "markdown",
   "id": "4ae3c1ef",
   "metadata": {
    "papermill": {
     "duration": 0.075598,
     "end_time": "2022-06-09T16:33:48.154464",
     "exception": false,
     "start_time": "2022-06-09T16:33:48.078866",
     "status": "completed"
    },
    "tags": []
   },
   "source": [
    "#### Final SVM Prediction"
   ]
  },
  {
   "cell_type": "code",
   "execution_count": 29,
   "id": "07ba159b",
   "metadata": {
    "execution": {
     "iopub.execute_input": "2022-06-09T16:33:48.302591Z",
     "iopub.status.busy": "2022-06-09T16:33:48.302280Z",
     "iopub.status.idle": "2022-06-09T16:33:48.311538Z",
     "shell.execute_reply": "2022-06-09T16:33:48.310924Z"
    },
    "papermill": {
     "duration": 0.085594,
     "end_time": "2022-06-09T16:33:48.313401",
     "exception": false,
     "start_time": "2022-06-09T16:33:48.227807",
     "status": "completed"
    },
    "tags": []
   },
   "outputs": [],
   "source": [
    "#Fit and Predict:\n",
    "def runSVM():\n",
    "    svm=SVC(C=1000, gamma=0.0001, kernel = 'linear')\n",
    "    svm.fit(X_train, y_train)\n",
    "    svmPedict = svm.predict(X_test)\n",
    "    np.shape(svmPedict)\n",
    "    np.shape(y_test)\n",
    "    #y_class = np.argmax(y_pred, axis = 0)\n",
    "\n",
    "    #calculate AUC of model\n",
    "    svmAUC = round( metrics.roc_auc_score(y_test, svmPedict, multi_class='ovr'), 4 ) \n",
    "    print(\"SVC AUC is: \", svmAUC)\n",
    "\n",
    "    svmR2 = r2_score(y_test, svmPedict).round(4) \n",
    "    print(\"SVM r2: \", svmR2) \n",
    "\n",
    "    svmMAE=metrics.mean_absolute_error(y_test, svmPedict)\n",
    "    \n",
    "    plt.figure(figsize=(5, 7))\n",
    "    ax = sns.distplot(y, hist=False, color=\"r\", label=\"Actual Value\")\n",
    "    sns.distplot(y_test, hist=False, color=\"b\", label=\"Fitted Values\" , ax=ax)\n",
    "    plt.title('Actual vs Fitted Values')\n",
    "    plt.show()\n",
    "    plt.close()"
   ]
  },
  {
   "cell_type": "markdown",
   "id": "7a2e9e4d",
   "metadata": {
    "papermill": {
     "duration": 0.072526,
     "end_time": "2022-06-09T16:33:48.458846",
     "exception": false,
     "start_time": "2022-06-09T16:33:48.386320",
     "status": "completed"
    },
    "tags": []
   },
   "source": [
    "# Test Data"
   ]
  },
  {
   "cell_type": "code",
   "execution_count": 30,
   "id": "03f3ac43",
   "metadata": {
    "execution": {
     "iopub.execute_input": "2022-06-09T16:33:48.605285Z",
     "iopub.status.busy": "2022-06-09T16:33:48.604765Z",
     "iopub.status.idle": "2022-06-09T16:33:48.632084Z",
     "shell.execute_reply": "2022-06-09T16:33:48.631277Z"
    },
    "papermill": {
     "duration": 0.103152,
     "end_time": "2022-06-09T16:33:48.634122",
     "exception": false,
     "start_time": "2022-06-09T16:33:48.530970",
     "status": "completed"
    },
    "tags": []
   },
   "outputs": [
    {
     "data": {
      "text/html": [
       "<div>\n",
       "<style scoped>\n",
       "    .dataframe tbody tr th:only-of-type {\n",
       "        vertical-align: middle;\n",
       "    }\n",
       "\n",
       "    .dataframe tbody tr th {\n",
       "        vertical-align: top;\n",
       "    }\n",
       "\n",
       "    .dataframe thead th {\n",
       "        text-align: right;\n",
       "    }\n",
       "</style>\n",
       "<table border=\"1\" class=\"dataframe\">\n",
       "  <thead>\n",
       "    <tr style=\"text-align: right;\">\n",
       "      <th></th>\n",
       "      <th>PassengerId</th>\n",
       "      <th>Pclass</th>\n",
       "      <th>Sex</th>\n",
       "      <th>Age</th>\n",
       "      <th>SibSp</th>\n",
       "      <th>Parch</th>\n",
       "      <th>Fare</th>\n",
       "    </tr>\n",
       "  </thead>\n",
       "  <tbody>\n",
       "    <tr>\n",
       "      <th>0</th>\n",
       "      <td>892</td>\n",
       "      <td>3</td>\n",
       "      <td>1</td>\n",
       "      <td>34.5</td>\n",
       "      <td>0</td>\n",
       "      <td>0</td>\n",
       "      <td>7.8292</td>\n",
       "    </tr>\n",
       "    <tr>\n",
       "      <th>1</th>\n",
       "      <td>893</td>\n",
       "      <td>3</td>\n",
       "      <td>0</td>\n",
       "      <td>47.0</td>\n",
       "      <td>1</td>\n",
       "      <td>0</td>\n",
       "      <td>7.0000</td>\n",
       "    </tr>\n",
       "    <tr>\n",
       "      <th>2</th>\n",
       "      <td>894</td>\n",
       "      <td>2</td>\n",
       "      <td>1</td>\n",
       "      <td>62.0</td>\n",
       "      <td>0</td>\n",
       "      <td>0</td>\n",
       "      <td>9.6875</td>\n",
       "    </tr>\n",
       "    <tr>\n",
       "      <th>3</th>\n",
       "      <td>895</td>\n",
       "      <td>3</td>\n",
       "      <td>1</td>\n",
       "      <td>27.0</td>\n",
       "      <td>0</td>\n",
       "      <td>0</td>\n",
       "      <td>8.6625</td>\n",
       "    </tr>\n",
       "    <tr>\n",
       "      <th>4</th>\n",
       "      <td>896</td>\n",
       "      <td>3</td>\n",
       "      <td>0</td>\n",
       "      <td>22.0</td>\n",
       "      <td>1</td>\n",
       "      <td>1</td>\n",
       "      <td>12.2875</td>\n",
       "    </tr>\n",
       "  </tbody>\n",
       "</table>\n",
       "</div>"
      ],
      "text/plain": [
       "   PassengerId  Pclass  Sex   Age  SibSp  Parch     Fare\n",
       "0          892       3    1  34.5      0      0   7.8292\n",
       "1          893       3    0  47.0      1      0   7.0000\n",
       "2          894       2    1  62.0      0      0   9.6875\n",
       "3          895       3    1  27.0      0      0   8.6625\n",
       "4          896       3    0  22.0      1      1  12.2875"
      ]
     },
     "execution_count": 30,
     "metadata": {},
     "output_type": "execute_result"
    }
   ],
   "source": [
    "test=pd.read_csv(test)\n",
    "\n",
    "#GENDER\n",
    "test['Sex']=test['Sex'].map({'female':0,'male':1})\n",
    "\n",
    "#EMBARKED\n",
    "#test['Embarked']=test['Embarked'].map({'C':2,'Q':1, 'S':0})\n",
    "\n",
    "features=list(X.columns)\n",
    "test=test[features]\n",
    "\n",
    "test=test.fillna(test.mean())\n",
    "test.head()"
   ]
  },
  {
   "cell_type": "markdown",
   "id": "a180cf5f",
   "metadata": {
    "papermill": {
     "duration": 0.074617,
     "end_time": "2022-06-09T16:33:48.781918",
     "exception": false,
     "start_time": "2022-06-09T16:33:48.707301",
     "status": "completed"
    },
    "tags": []
   },
   "source": [
    "# Final Prediction"
   ]
  },
  {
   "cell_type": "code",
   "execution_count": 31,
   "id": "d2beba12",
   "metadata": {
    "execution": {
     "iopub.execute_input": "2022-06-09T16:33:48.929880Z",
     "iopub.status.busy": "2022-06-09T16:33:48.929322Z",
     "iopub.status.idle": "2022-06-09T16:33:48.945067Z",
     "shell.execute_reply": "2022-06-09T16:33:48.944080Z"
    },
    "papermill": {
     "duration": 0.092036,
     "end_time": "2022-06-09T16:33:48.947249",
     "exception": false,
     "start_time": "2022-06-09T16:33:48.855213",
     "status": "completed"
    },
    "tags": []
   },
   "outputs": [
    {
     "data": {
      "text/html": [
       "<div>\n",
       "<style scoped>\n",
       "    .dataframe tbody tr th:only-of-type {\n",
       "        vertical-align: middle;\n",
       "    }\n",
       "\n",
       "    .dataframe tbody tr th {\n",
       "        vertical-align: top;\n",
       "    }\n",
       "\n",
       "    .dataframe thead th {\n",
       "        text-align: right;\n",
       "    }\n",
       "</style>\n",
       "<table border=\"1\" class=\"dataframe\">\n",
       "  <thead>\n",
       "    <tr style=\"text-align: right;\">\n",
       "      <th></th>\n",
       "      <th>PassengerId</th>\n",
       "      <th>Survived</th>\n",
       "    </tr>\n",
       "  </thead>\n",
       "  <tbody>\n",
       "    <tr>\n",
       "      <th>0</th>\n",
       "      <td>892</td>\n",
       "      <td>0</td>\n",
       "    </tr>\n",
       "    <tr>\n",
       "      <th>1</th>\n",
       "      <td>893</td>\n",
       "      <td>0</td>\n",
       "    </tr>\n",
       "    <tr>\n",
       "      <th>2</th>\n",
       "      <td>894</td>\n",
       "      <td>0</td>\n",
       "    </tr>\n",
       "    <tr>\n",
       "      <th>3</th>\n",
       "      <td>895</td>\n",
       "      <td>0</td>\n",
       "    </tr>\n",
       "    <tr>\n",
       "      <th>4</th>\n",
       "      <td>896</td>\n",
       "      <td>0</td>\n",
       "    </tr>\n",
       "    <tr>\n",
       "      <th>5</th>\n",
       "      <td>897</td>\n",
       "      <td>0</td>\n",
       "    </tr>\n",
       "    <tr>\n",
       "      <th>6</th>\n",
       "      <td>898</td>\n",
       "      <td>1</td>\n",
       "    </tr>\n",
       "  </tbody>\n",
       "</table>\n",
       "</div>"
      ],
      "text/plain": [
       "   PassengerId  Survived\n",
       "0          892         0\n",
       "1          893         0\n",
       "2          894         0\n",
       "3          895         0\n",
       "4          896         0\n",
       "5          897         0\n",
       "6          898         1"
      ]
     },
     "execution_count": 31,
     "metadata": {},
     "output_type": "execute_result"
    }
   ],
   "source": [
    "test_predictions = gb.predict(test)\n",
    "passID=test['PassengerId']\n",
    "tupleData = list(zip(passID, test_predictions))\n",
    "output = pd.DataFrame(tupleData, columns = ['PassengerId', 'Survived'])\n",
    "output.head(7)"
   ]
  },
  {
   "cell_type": "code",
   "execution_count": 32,
   "id": "b7a2b6fb",
   "metadata": {
    "execution": {
     "iopub.execute_input": "2022-06-09T16:33:49.099379Z",
     "iopub.status.busy": "2022-06-09T16:33:49.098847Z",
     "iopub.status.idle": "2022-06-09T16:33:49.107718Z",
     "shell.execute_reply": "2022-06-09T16:33:49.106589Z"
    },
    "papermill": {
     "duration": 0.089263,
     "end_time": "2022-06-09T16:33:49.109884",
     "exception": false,
     "start_time": "2022-06-09T16:33:49.020621",
     "status": "completed"
    },
    "tags": []
   },
   "outputs": [
    {
     "name": "stdout",
     "output_type": "stream",
     "text": [
      "Your submission was successfully saved!\n"
     ]
    }
   ],
   "source": [
    "output.to_csv('submission.csv', index=False)\n",
    "print(\"Your submission was successfully saved!\")"
   ]
  },
  {
   "cell_type": "markdown",
   "id": "d2f45b43",
   "metadata": {
    "papermill": {
     "duration": 0.074986,
     "end_time": "2022-06-09T16:33:49.260639",
     "exception": false,
     "start_time": "2022-06-09T16:33:49.185653",
     "status": "completed"
    },
    "tags": []
   },
   "source": [
    "#### Notes:\n",
    "Being a wife makes no difference in the final prediction: <br>\n",
    "` df['Titles'] = df['Name'].str.extract(r', (\\w+\\.)') \n",
    "df['Titles'] = df['Titles'].apply(lambda x: 1 if x=='Mrs.' else 0) `"
   ]
  }
 ],
 "metadata": {
  "kernelspec": {
   "display_name": "Python 3",
   "language": "python",
   "name": "python3"
  },
  "language_info": {
   "codemirror_mode": {
    "name": "ipython",
    "version": 3
   },
   "file_extension": ".py",
   "mimetype": "text/x-python",
   "name": "python",
   "nbconvert_exporter": "python",
   "pygments_lexer": "ipython3",
   "version": "3.7.12"
  },
  "papermill": {
   "default_parameters": {},
   "duration": 39.627018,
   "end_time": "2022-06-09T16:33:51.954816",
   "environment_variables": {},
   "exception": null,
   "input_path": "__notebook__.ipynb",
   "output_path": "__notebook__.ipynb",
   "parameters": {},
   "start_time": "2022-06-09T16:33:12.327798",
   "version": "2.3.4"
  }
 },
 "nbformat": 4,
 "nbformat_minor": 5
}
