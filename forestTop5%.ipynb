{
 "cells": [
  {
   "cell_type": "markdown",
   "id": "eeffbfdf",
   "metadata": {
    "papermill": {
     "duration": 0.03224,
     "end_time": "2022-10-05T14:40:26.944670",
     "exception": false,
     "start_time": "2022-10-05T14:40:26.912430",
     "status": "completed"
    },
    "tags": []
   },
   "source": [
    "# Random Forest Grid Search\n",
    "Use GridSearch and tunning more extensively on random forest to try to get a top 1%.\n",
    "\n",
    "* Machine Learning Titanic Original\n",
    "https://github.com/ScottySchmidt/Kaggle/blob/main/Titanic.ipynb\n",
    "* Decision tree scores top 6%\n",
    "https://github.com/ScottySchmidt/Kaggle/blob/main/dtree.ipynb\n",
    "* xgBoost top 5%\n",
    "https://github.com/ScottySchmidt/Kaggle/blob/main/xgbTop5%25.ipynb"
   ]
  },
  {
   "cell_type": "markdown",
   "id": "ab5496d5",
   "metadata": {
    "papermill": {
     "duration": 0.030072,
     "end_time": "2022-10-05T14:40:27.005422",
     "exception": false,
     "start_time": "2022-10-05T14:40:26.975350",
     "status": "completed"
    },
    "tags": []
   },
   "source": [
    "# Train Data\n",
    "Train.csv will contain the details of a subset of the passengers on board (891 to be exact) and whether they survive or not. The shape of the train data is (891, 12). "
   ]
  },
  {
   "cell_type": "code",
   "execution_count": 1,
   "id": "937c7d07",
   "metadata": {
    "execution": {
     "iopub.execute_input": "2022-10-05T14:40:27.068502Z",
     "iopub.status.busy": "2022-10-05T14:40:27.067917Z",
     "iopub.status.idle": "2022-10-05T14:40:28.727252Z",
     "shell.execute_reply": "2022-10-05T14:40:28.726079Z"
    },
    "papermill": {
     "duration": 1.694529,
     "end_time": "2022-10-05T14:40:28.730482",
     "exception": false,
     "start_time": "2022-10-05T14:40:27.035953",
     "status": "completed"
    },
    "tags": []
   },
   "outputs": [
    {
     "name": "stdout",
     "output_type": "stream",
     "text": [
      "(891, 12)\n"
     ]
    },
    {
     "data": {
      "text/html": [
       "<div>\n",
       "<style scoped>\n",
       "    .dataframe tbody tr th:only-of-type {\n",
       "        vertical-align: middle;\n",
       "    }\n",
       "\n",
       "    .dataframe tbody tr th {\n",
       "        vertical-align: top;\n",
       "    }\n",
       "\n",
       "    .dataframe thead th {\n",
       "        text-align: right;\n",
       "    }\n",
       "</style>\n",
       "<table border=\"1\" class=\"dataframe\">\n",
       "  <thead>\n",
       "    <tr style=\"text-align: right;\">\n",
       "      <th></th>\n",
       "      <th>PassengerId</th>\n",
       "      <th>Survived</th>\n",
       "      <th>Pclass</th>\n",
       "      <th>Name</th>\n",
       "      <th>Sex</th>\n",
       "      <th>Age</th>\n",
       "      <th>SibSp</th>\n",
       "      <th>Parch</th>\n",
       "      <th>Ticket</th>\n",
       "      <th>Fare</th>\n",
       "      <th>Cabin</th>\n",
       "      <th>Embarked</th>\n",
       "    </tr>\n",
       "  </thead>\n",
       "  <tbody>\n",
       "    <tr>\n",
       "      <th>0</th>\n",
       "      <td>1</td>\n",
       "      <td>0</td>\n",
       "      <td>3</td>\n",
       "      <td>Braund, Mr. Owen Harris</td>\n",
       "      <td>male</td>\n",
       "      <td>22.0</td>\n",
       "      <td>1</td>\n",
       "      <td>0</td>\n",
       "      <td>A/5 21171</td>\n",
       "      <td>7.2500</td>\n",
       "      <td>NaN</td>\n",
       "      <td>S</td>\n",
       "    </tr>\n",
       "    <tr>\n",
       "      <th>1</th>\n",
       "      <td>2</td>\n",
       "      <td>1</td>\n",
       "      <td>1</td>\n",
       "      <td>Cumings, Mrs. John Bradley (Florence Briggs Th...</td>\n",
       "      <td>female</td>\n",
       "      <td>38.0</td>\n",
       "      <td>1</td>\n",
       "      <td>0</td>\n",
       "      <td>PC 17599</td>\n",
       "      <td>71.2833</td>\n",
       "      <td>C85</td>\n",
       "      <td>C</td>\n",
       "    </tr>\n",
       "    <tr>\n",
       "      <th>2</th>\n",
       "      <td>3</td>\n",
       "      <td>1</td>\n",
       "      <td>3</td>\n",
       "      <td>Heikkinen, Miss. Laina</td>\n",
       "      <td>female</td>\n",
       "      <td>26.0</td>\n",
       "      <td>0</td>\n",
       "      <td>0</td>\n",
       "      <td>STON/O2. 3101282</td>\n",
       "      <td>7.9250</td>\n",
       "      <td>NaN</td>\n",
       "      <td>S</td>\n",
       "    </tr>\n",
       "    <tr>\n",
       "      <th>3</th>\n",
       "      <td>4</td>\n",
       "      <td>1</td>\n",
       "      <td>1</td>\n",
       "      <td>Futrelle, Mrs. Jacques Heath (Lily May Peel)</td>\n",
       "      <td>female</td>\n",
       "      <td>35.0</td>\n",
       "      <td>1</td>\n",
       "      <td>0</td>\n",
       "      <td>113803</td>\n",
       "      <td>53.1000</td>\n",
       "      <td>C123</td>\n",
       "      <td>S</td>\n",
       "    </tr>\n",
       "    <tr>\n",
       "      <th>4</th>\n",
       "      <td>5</td>\n",
       "      <td>0</td>\n",
       "      <td>3</td>\n",
       "      <td>Allen, Mr. William Henry</td>\n",
       "      <td>male</td>\n",
       "      <td>35.0</td>\n",
       "      <td>0</td>\n",
       "      <td>0</td>\n",
       "      <td>373450</td>\n",
       "      <td>8.0500</td>\n",
       "      <td>NaN</td>\n",
       "      <td>S</td>\n",
       "    </tr>\n",
       "  </tbody>\n",
       "</table>\n",
       "</div>"
      ],
      "text/plain": [
       "   PassengerId  Survived  Pclass  \\\n",
       "0            1         0       3   \n",
       "1            2         1       1   \n",
       "2            3         1       3   \n",
       "3            4         1       1   \n",
       "4            5         0       3   \n",
       "\n",
       "                                                Name     Sex   Age  SibSp  \\\n",
       "0                            Braund, Mr. Owen Harris    male  22.0      1   \n",
       "1  Cumings, Mrs. John Bradley (Florence Briggs Th...  female  38.0      1   \n",
       "2                             Heikkinen, Miss. Laina  female  26.0      0   \n",
       "3       Futrelle, Mrs. Jacques Heath (Lily May Peel)  female  35.0      1   \n",
       "4                           Allen, Mr. William Henry    male  35.0      0   \n",
       "\n",
       "   Parch            Ticket     Fare Cabin Embarked  \n",
       "0      0         A/5 21171   7.2500   NaN        S  \n",
       "1      0          PC 17599  71.2833   C85        C  \n",
       "2      0  STON/O2. 3101282   7.9250   NaN        S  \n",
       "3      0            113803  53.1000  C123        S  \n",
       "4      0            373450   8.0500   NaN        S  "
      ]
     },
     "execution_count": 1,
     "metadata": {},
     "output_type": "execute_result"
    }
   ],
   "source": [
    "import numpy as np\n",
    "import pandas as pd\n",
    "import seaborn as sns\n",
    "import matplotlib.pyplot as plt\n",
    "from sklearn.model_selection import train_test_split, cross_validate\n",
    "from statistics import mean\n",
    "from sklearn.metrics import accuracy_score, classification_report, mean_absolute_error, mean_squared_error, r2_score\n",
    "from sklearn.datasets import make_classification\n",
    "from sklearn import ensemble\n",
    "import sklearn.metrics as metrics\n",
    "import time\n",
    "from math import sqrt\n",
    "\n",
    "train=r'/kaggle/input/titanic/train.csv'\n",
    "test=r'/kaggle/input/titanic/test.csv' \n",
    "\n",
    "df=pd.read_csv(train)\n",
    "test=pd.read_csv(test)\n",
    "\n",
    "print(df.shape)\n",
    "df.head()"
   ]
  },
  {
   "cell_type": "code",
   "execution_count": 2,
   "id": "236b9a67",
   "metadata": {
    "execution": {
     "iopub.execute_input": "2022-10-05T14:40:28.796414Z",
     "iopub.status.busy": "2022-10-05T14:40:28.795702Z",
     "iopub.status.idle": "2022-10-05T14:40:28.803347Z",
     "shell.execute_reply": "2022-10-05T14:40:28.802429Z"
    },
    "papermill": {
     "duration": 0.043356,
     "end_time": "2022-10-05T14:40:28.806216",
     "exception": false,
     "start_time": "2022-10-05T14:40:28.762860",
     "status": "completed"
    },
    "tags": []
   },
   "outputs": [
    {
     "data": {
      "text/plain": [
       "PassengerId      int64\n",
       "Survived         int64\n",
       "Pclass           int64\n",
       "Name            object\n",
       "Sex             object\n",
       "Age            float64\n",
       "SibSp            int64\n",
       "Parch            int64\n",
       "Ticket          object\n",
       "Fare           float64\n",
       "Cabin           object\n",
       "Embarked        object\n",
       "dtype: object"
      ]
     },
     "execution_count": 2,
     "metadata": {},
     "output_type": "execute_result"
    }
   ],
   "source": [
    "df.dtypes"
   ]
  },
  {
   "cell_type": "code",
   "execution_count": 3,
   "id": "471e7bf6",
   "metadata": {
    "execution": {
     "iopub.execute_input": "2022-10-05T14:40:28.876507Z",
     "iopub.status.busy": "2022-10-05T14:40:28.875899Z",
     "iopub.status.idle": "2022-10-05T14:40:28.901463Z",
     "shell.execute_reply": "2022-10-05T14:40:28.900621Z"
    },
    "papermill": {
     "duration": 0.063071,
     "end_time": "2022-10-05T14:40:28.903825",
     "exception": false,
     "start_time": "2022-10-05T14:40:28.840754",
     "status": "completed"
    },
    "tags": []
   },
   "outputs": [
    {
     "name": "stdout",
     "output_type": "stream",
     "text": [
      "Total no of duplicate values in Training Dataset = 0\n"
     ]
    },
    {
     "data": {
      "text/html": [
       "<div>\n",
       "<style scoped>\n",
       "    .dataframe tbody tr th:only-of-type {\n",
       "        vertical-align: middle;\n",
       "    }\n",
       "\n",
       "    .dataframe tbody tr th {\n",
       "        vertical-align: top;\n",
       "    }\n",
       "\n",
       "    .dataframe thead th {\n",
       "        text-align: right;\n",
       "    }\n",
       "</style>\n",
       "<table border=\"1\" class=\"dataframe\">\n",
       "  <thead>\n",
       "    <tr style=\"text-align: right;\">\n",
       "      <th></th>\n",
       "      <th>PassengerId</th>\n",
       "      <th>Survived</th>\n",
       "      <th>Pclass</th>\n",
       "      <th>Name</th>\n",
       "      <th>Sex</th>\n",
       "      <th>Age</th>\n",
       "      <th>SibSp</th>\n",
       "      <th>Parch</th>\n",
       "      <th>Ticket</th>\n",
       "      <th>Fare</th>\n",
       "      <th>Cabin</th>\n",
       "      <th>Embarked</th>\n",
       "    </tr>\n",
       "  </thead>\n",
       "  <tbody>\n",
       "  </tbody>\n",
       "</table>\n",
       "</div>"
      ],
      "text/plain": [
       "Empty DataFrame\n",
       "Columns: [PassengerId, Survived, Pclass, Name, Sex, Age, SibSp, Parch, Ticket, Fare, Cabin, Embarked]\n",
       "Index: []"
      ]
     },
     "execution_count": 3,
     "metadata": {},
     "output_type": "execute_result"
    }
   ],
   "source": [
    "#Check Duplicates:\n",
    "dupstr = df.duplicated()\n",
    "print('Total no of duplicate values in Training Dataset = %d' % (dupstr.sum()))\n",
    "df[dupstr]"
   ]
  },
  {
   "cell_type": "code",
   "execution_count": 4,
   "id": "b5ffa659",
   "metadata": {
    "execution": {
     "iopub.execute_input": "2022-10-05T14:40:28.970617Z",
     "iopub.status.busy": "2022-10-05T14:40:28.969993Z",
     "iopub.status.idle": "2022-10-05T14:40:28.979919Z",
     "shell.execute_reply": "2022-10-05T14:40:28.978994Z"
    },
    "papermill": {
     "duration": 0.045765,
     "end_time": "2022-10-05T14:40:28.981991",
     "exception": false,
     "start_time": "2022-10-05T14:40:28.936226",
     "status": "completed"
    },
    "tags": []
   },
   "outputs": [
    {
     "name": "stdout",
     "output_type": "stream",
     "text": [
      "Missing data by column as a percent:\n",
      "Cabin          0.771044\n",
      "Age            0.198653\n",
      "Embarked       0.002245\n",
      "PassengerId    0.000000\n",
      "Survived       0.000000\n",
      "dtype: float64\n"
     ]
    }
   ],
   "source": [
    "#search for columns with missing values:\n",
    "def findNA():\n",
    "    print(\"Missing data by column as a percent:\")\n",
    "    findNA=df.isnull().sum().sort_values(ascending=False)/len(df)\n",
    "    print(findNA.head())\n",
    "findNA() "
   ]
  },
  {
   "cell_type": "markdown",
   "id": "52bcfd2f",
   "metadata": {
    "papermill": {
     "duration": 0.03263,
     "end_time": "2022-10-05T14:40:29.047356",
     "exception": false,
     "start_time": "2022-10-05T14:40:29.014726",
     "status": "completed"
    },
    "tags": []
   },
   "source": [
    "# Feature Engineer\n",
    "We need to replace male and female into numbers. This is a very important part of the process because gender is one of the highest predictors on if a person survived or not."
   ]
  },
  {
   "cell_type": "code",
   "execution_count": 5,
   "id": "e0b9b549",
   "metadata": {
    "execution": {
     "iopub.execute_input": "2022-10-05T14:40:29.115586Z",
     "iopub.status.busy": "2022-10-05T14:40:29.115121Z",
     "iopub.status.idle": "2022-10-05T14:40:29.120984Z",
     "shell.execute_reply": "2022-10-05T14:40:29.120315Z"
    },
    "papermill": {
     "duration": 0.042802,
     "end_time": "2022-10-05T14:40:29.122963",
     "exception": false,
     "start_time": "2022-10-05T14:40:29.080161",
     "status": "completed"
    },
    "tags": []
   },
   "outputs": [],
   "source": [
    "#GENDER\n",
    "df['Sex']=df['Sex'].map({'female':0,'male':1})"
   ]
  },
  {
   "cell_type": "markdown",
   "id": "bc64766a",
   "metadata": {
    "papermill": {
     "duration": 0.03288,
     "end_time": "2022-10-05T14:40:29.188745",
     "exception": false,
     "start_time": "2022-10-05T14:40:29.155865",
     "status": "completed"
    },
    "tags": []
   },
   "source": [
    "Females whose number is 0 had a much higher chance of surving than males. Later on, doing the importance feature analysis we will view that gender is actually one of the highest predictors. "
   ]
  },
  {
   "cell_type": "code",
   "execution_count": 6,
   "id": "2eb477e7",
   "metadata": {
    "execution": {
     "iopub.execute_input": "2022-10-05T14:40:29.255959Z",
     "iopub.status.busy": "2022-10-05T14:40:29.255515Z",
     "iopub.status.idle": "2022-10-05T14:40:29.285468Z",
     "shell.execute_reply": "2022-10-05T14:40:29.284622Z"
    },
    "papermill": {
     "duration": 0.065953,
     "end_time": "2022-10-05T14:40:29.287555",
     "exception": false,
     "start_time": "2022-10-05T14:40:29.221602",
     "status": "completed"
    },
    "tags": []
   },
   "outputs": [
    {
     "data": {
      "text/html": [
       "<div>\n",
       "<style scoped>\n",
       "    .dataframe tbody tr th:only-of-type {\n",
       "        vertical-align: middle;\n",
       "    }\n",
       "\n",
       "    .dataframe tbody tr th {\n",
       "        vertical-align: top;\n",
       "    }\n",
       "\n",
       "    .dataframe thead th {\n",
       "        text-align: right;\n",
       "    }\n",
       "</style>\n",
       "<table border=\"1\" class=\"dataframe\">\n",
       "  <thead>\n",
       "    <tr style=\"text-align: right;\">\n",
       "      <th>Sex</th>\n",
       "      <th>0</th>\n",
       "      <th>1</th>\n",
       "    </tr>\n",
       "    <tr>\n",
       "      <th>Survived</th>\n",
       "      <th></th>\n",
       "      <th></th>\n",
       "    </tr>\n",
       "  </thead>\n",
       "  <tbody>\n",
       "    <tr>\n",
       "      <th>0</th>\n",
       "      <td>81</td>\n",
       "      <td>468</td>\n",
       "    </tr>\n",
       "    <tr>\n",
       "      <th>1</th>\n",
       "      <td>233</td>\n",
       "      <td>109</td>\n",
       "    </tr>\n",
       "  </tbody>\n",
       "</table>\n",
       "</div>"
      ],
      "text/plain": [
       "Sex         0    1\n",
       "Survived          \n",
       "0          81  468\n",
       "1         233  109"
      ]
     },
     "execution_count": 6,
     "metadata": {},
     "output_type": "execute_result"
    }
   ],
   "source": [
    "genderTable = pd.crosstab(df['Survived'],df['Sex'])\n",
    "genderTable"
   ]
  },
  {
   "cell_type": "markdown",
   "id": "463689e4",
   "metadata": {
    "papermill": {
     "duration": 0.033142,
     "end_time": "2022-10-05T14:40:29.353861",
     "exception": false,
     "start_time": "2022-10-05T14:40:29.320719",
     "status": "completed"
    },
    "tags": []
   },
   "source": [
    "# Encode Categorical Variables\n",
    "Encode Categorical Variables is needed for this dataset since there are many important variables that are not numeric yet. \n",
    "\n",
    "There are three classes C, Q, and S. Class C seems to have the highest chance of survival. Class S has the lowest chance of survival. Unfornately this would tend to show that economic status seems to played a part in the decision if someone survived or not. Embarked does not play role major role in feature importance. "
   ]
  },
  {
   "cell_type": "code",
   "execution_count": 7,
   "id": "427630ea",
   "metadata": {
    "execution": {
     "iopub.execute_input": "2022-10-05T14:40:29.424552Z",
     "iopub.status.busy": "2022-10-05T14:40:29.424269Z",
     "iopub.status.idle": "2022-10-05T14:40:29.619834Z",
     "shell.execute_reply": "2022-10-05T14:40:29.618856Z"
    },
    "papermill": {
     "duration": 0.23241,
     "end_time": "2022-10-05T14:40:29.622188",
     "exception": false,
     "start_time": "2022-10-05T14:40:29.389778",
     "status": "completed"
    },
    "tags": []
   },
   "outputs": [],
   "source": [
    "import category_encoders as ce\n",
    "#encoder = ce.OrdinalEncoder(cols=['Embarked'])\n",
    "\n",
    "#df = encoder.fit_transform(df)\n",
    "#test = encoder.fit_transform(test)\n",
    "#test.head()"
   ]
  },
  {
   "cell_type": "markdown",
   "id": "f757012b",
   "metadata": {
    "papermill": {
     "duration": 0.032843,
     "end_time": "2022-10-05T14:40:29.688364",
     "exception": false,
     "start_time": "2022-10-05T14:40:29.655521",
     "status": "completed"
    },
    "tags": []
   },
   "source": [
    "# Examine Target Variable\n",
    "Survived is the Y variable we will be analyzing. Since the survival rete is 0.384 the data is not considered unbalanced. "
   ]
  },
  {
   "cell_type": "code",
   "execution_count": 8,
   "id": "0a09b9f3",
   "metadata": {
    "execution": {
     "iopub.execute_input": "2022-10-05T14:40:29.756976Z",
     "iopub.status.busy": "2022-10-05T14:40:29.756302Z",
     "iopub.status.idle": "2022-10-05T14:40:29.763792Z",
     "shell.execute_reply": "2022-10-05T14:40:29.762978Z"
    },
    "papermill": {
     "duration": 0.04436,
     "end_time": "2022-10-05T14:40:29.765944",
     "exception": false,
     "start_time": "2022-10-05T14:40:29.721584",
     "status": "completed"
    },
    "tags": []
   },
   "outputs": [
    {
     "name": "stdout",
     "output_type": "stream",
     "text": [
      "0    549\n",
      "1    342\n",
      "Name: Survived, dtype: int64\n",
      "Percent that survived:  0.384\n"
     ]
    }
   ],
   "source": [
    "temp=df['Survived'].value_counts()\n",
    "print(temp)\n",
    "no=temp[0]\n",
    "yes=temp[1]\n",
    "percent=round(yes/(yes+no),3)\n",
    "print(\"Percent that survived: \", percent)"
   ]
  },
  {
   "cell_type": "markdown",
   "id": "f2499b1f",
   "metadata": {
    "papermill": {
     "duration": 0.033308,
     "end_time": "2022-10-05T14:40:29.833152",
     "exception": false,
     "start_time": "2022-10-05T14:40:29.799844",
     "status": "completed"
    },
    "tags": []
   },
   "source": [
    "# Numeric DataFrame\n",
    "For now, we will analyze only numeric values. Categorical values will need to be encoded or analyzed individually."
   ]
  },
  {
   "cell_type": "code",
   "execution_count": 9,
   "id": "e7b68649",
   "metadata": {
    "execution": {
     "iopub.execute_input": "2022-10-05T14:40:29.902499Z",
     "iopub.status.busy": "2022-10-05T14:40:29.902222Z",
     "iopub.status.idle": "2022-10-05T14:40:29.917383Z",
     "shell.execute_reply": "2022-10-05T14:40:29.916497Z"
    },
    "papermill": {
     "duration": 0.052111,
     "end_time": "2022-10-05T14:40:29.919345",
     "exception": false,
     "start_time": "2022-10-05T14:40:29.867234",
     "status": "completed"
    },
    "tags": []
   },
   "outputs": [
    {
     "data": {
      "text/html": [
       "<div>\n",
       "<style scoped>\n",
       "    .dataframe tbody tr th:only-of-type {\n",
       "        vertical-align: middle;\n",
       "    }\n",
       "\n",
       "    .dataframe tbody tr th {\n",
       "        vertical-align: top;\n",
       "    }\n",
       "\n",
       "    .dataframe thead th {\n",
       "        text-align: right;\n",
       "    }\n",
       "</style>\n",
       "<table border=\"1\" class=\"dataframe\">\n",
       "  <thead>\n",
       "    <tr style=\"text-align: right;\">\n",
       "      <th></th>\n",
       "      <th>PassengerId</th>\n",
       "      <th>Survived</th>\n",
       "      <th>Pclass</th>\n",
       "      <th>Sex</th>\n",
       "      <th>Age</th>\n",
       "      <th>SibSp</th>\n",
       "      <th>Parch</th>\n",
       "      <th>Fare</th>\n",
       "    </tr>\n",
       "  </thead>\n",
       "  <tbody>\n",
       "    <tr>\n",
       "      <th>0</th>\n",
       "      <td>1</td>\n",
       "      <td>0</td>\n",
       "      <td>3</td>\n",
       "      <td>1</td>\n",
       "      <td>22.0</td>\n",
       "      <td>1</td>\n",
       "      <td>0</td>\n",
       "      <td>7.2500</td>\n",
       "    </tr>\n",
       "    <tr>\n",
       "      <th>1</th>\n",
       "      <td>2</td>\n",
       "      <td>1</td>\n",
       "      <td>1</td>\n",
       "      <td>0</td>\n",
       "      <td>38.0</td>\n",
       "      <td>1</td>\n",
       "      <td>0</td>\n",
       "      <td>71.2833</td>\n",
       "    </tr>\n",
       "    <tr>\n",
       "      <th>2</th>\n",
       "      <td>3</td>\n",
       "      <td>1</td>\n",
       "      <td>3</td>\n",
       "      <td>0</td>\n",
       "      <td>26.0</td>\n",
       "      <td>0</td>\n",
       "      <td>0</td>\n",
       "      <td>7.9250</td>\n",
       "    </tr>\n",
       "    <tr>\n",
       "      <th>3</th>\n",
       "      <td>4</td>\n",
       "      <td>1</td>\n",
       "      <td>1</td>\n",
       "      <td>0</td>\n",
       "      <td>35.0</td>\n",
       "      <td>1</td>\n",
       "      <td>0</td>\n",
       "      <td>53.1000</td>\n",
       "    </tr>\n",
       "    <tr>\n",
       "      <th>4</th>\n",
       "      <td>5</td>\n",
       "      <td>0</td>\n",
       "      <td>3</td>\n",
       "      <td>1</td>\n",
       "      <td>35.0</td>\n",
       "      <td>0</td>\n",
       "      <td>0</td>\n",
       "      <td>8.0500</td>\n",
       "    </tr>\n",
       "  </tbody>\n",
       "</table>\n",
       "</div>"
      ],
      "text/plain": [
       "   PassengerId  Survived  Pclass  Sex   Age  SibSp  Parch     Fare\n",
       "0            1         0       3    1  22.0      1      0   7.2500\n",
       "1            2         1       1    0  38.0      1      0  71.2833\n",
       "2            3         1       3    0  26.0      0      0   7.9250\n",
       "3            4         1       1    0  35.0      1      0  53.1000\n",
       "4            5         0       3    1  35.0      0      0   8.0500"
      ]
     },
     "execution_count": 9,
     "metadata": {},
     "output_type": "execute_result"
    }
   ],
   "source": [
    "numerics = ['int16', 'int32', 'int64', 'float16', 'float32', 'float64']\n",
    "df = df.select_dtypes(include=numerics)\n",
    "df.head()"
   ]
  },
  {
   "cell_type": "markdown",
   "id": "81614709",
   "metadata": {
    "papermill": {
     "duration": 0.03408,
     "end_time": "2022-10-05T14:40:29.987671",
     "exception": false,
     "start_time": "2022-10-05T14:40:29.953591",
     "status": "completed"
    },
    "tags": []
   },
   "source": [
    "# Check for missing values\n",
    "Age is missing around 20% of values.Therefore, we can simply fill in the mean for that one column."
   ]
  },
  {
   "cell_type": "code",
   "execution_count": 10,
   "id": "65022a4a",
   "metadata": {
    "execution": {
     "iopub.execute_input": "2022-10-05T14:40:30.057616Z",
     "iopub.status.busy": "2022-10-05T14:40:30.056843Z",
     "iopub.status.idle": "2022-10-05T14:40:30.065028Z",
     "shell.execute_reply": "2022-10-05T14:40:30.064215Z"
    },
    "papermill": {
     "duration": 0.045803,
     "end_time": "2022-10-05T14:40:30.067559",
     "exception": false,
     "start_time": "2022-10-05T14:40:30.021756",
     "status": "completed"
    },
    "tags": []
   },
   "outputs": [
    {
     "name": "stdout",
     "output_type": "stream",
     "text": [
      "Missing data by column as a percent:\n",
      "Age            0.198653\n",
      "PassengerId    0.000000\n",
      "Survived       0.000000\n",
      "Pclass         0.000000\n",
      "Sex            0.000000\n",
      "dtype: float64\n"
     ]
    }
   ],
   "source": [
    "#search for columns with missing values:\n",
    "def findNA():\n",
    "    print(\"Missing data by column as a percent:\")\n",
    "    findNA=df.isnull().sum().sort_values(ascending=False)/len(df)\n",
    "    print(findNA.head())\n",
    "findNA() "
   ]
  },
  {
   "cell_type": "code",
   "execution_count": 11,
   "id": "58e8d478",
   "metadata": {
    "execution": {
     "iopub.execute_input": "2022-10-05T14:40:30.139941Z",
     "iopub.status.busy": "2022-10-05T14:40:30.139515Z",
     "iopub.status.idle": "2022-10-05T14:40:30.146982Z",
     "shell.execute_reply": "2022-10-05T14:40:30.146263Z"
    },
    "papermill": {
     "duration": 0.046248,
     "end_time": "2022-10-05T14:40:30.149101",
     "exception": false,
     "start_time": "2022-10-05T14:40:30.102853",
     "status": "completed"
    },
    "tags": []
   },
   "outputs": [],
   "source": [
    "df= df.fillna(df.mean())"
   ]
  },
  {
   "cell_type": "markdown",
   "id": "96f245b3",
   "metadata": {
    "papermill": {
     "duration": 0.03494,
     "end_time": "2022-10-05T14:40:30.218935",
     "exception": false,
     "start_time": "2022-10-05T14:40:30.183995",
     "status": "completed"
    },
    "tags": []
   },
   "source": [
    "# Split Data"
   ]
  },
  {
   "cell_type": "code",
   "execution_count": 12,
   "id": "6f0b014f",
   "metadata": {
    "execution": {
     "iopub.execute_input": "2022-10-05T14:40:30.290321Z",
     "iopub.status.busy": "2022-10-05T14:40:30.289409Z",
     "iopub.status.idle": "2022-10-05T14:40:30.297929Z",
     "shell.execute_reply": "2022-10-05T14:40:30.296664Z"
    },
    "papermill": {
     "duration": 0.046499,
     "end_time": "2022-10-05T14:40:30.300062",
     "exception": false,
     "start_time": "2022-10-05T14:40:30.253563",
     "status": "completed"
    },
    "tags": []
   },
   "outputs": [],
   "source": [
    "X=df.drop('Survived', axis=1)\n",
    "y=df['Survived']\n",
    "\n",
    "X_train, X_test, y_train, y_test = train_test_split(\n",
    "    X, y, test_size = 0.33, random_state = 42)"
   ]
  },
  {
   "cell_type": "markdown",
   "id": "7764498c",
   "metadata": {
    "papermill": {
     "duration": 0.033999,
     "end_time": "2022-10-05T14:40:30.368949",
     "exception": false,
     "start_time": "2022-10-05T14:40:30.334950",
     "status": "completed"
    },
    "tags": []
   },
   "source": [
    "# Highly Correlated Features\n",
    "There are no highly correlated variables above 80%. Therefore, we do not need to be concerned about removing variables that are too highly correlated. "
   ]
  },
  {
   "cell_type": "markdown",
   "id": "14fd1634",
   "metadata": {
    "_kg_hide-output": true,
    "papermill": {
     "duration": 0.034956,
     "end_time": "2022-10-05T14:40:30.438216",
     "exception": false,
     "start_time": "2022-10-05T14:40:30.403260",
     "status": "completed"
    },
    "tags": []
   },
   "source": [
    "# Tunning Forest\n",
    "Random forest AUC:  0.8503 which is good results considering forest does not overfit data."
   ]
  },
  {
   "cell_type": "code",
   "execution_count": 13,
   "id": "eb52d3f5",
   "metadata": {
    "execution": {
     "iopub.execute_input": "2022-10-05T14:40:30.510406Z",
     "iopub.status.busy": "2022-10-05T14:40:30.510096Z",
     "iopub.status.idle": "2022-10-05T14:40:31.578826Z",
     "shell.execute_reply": "2022-10-05T14:40:31.578102Z"
    },
    "papermill": {
     "duration": 1.107063,
     "end_time": "2022-10-05T14:40:31.580800",
     "exception": false,
     "start_time": "2022-10-05T14:40:30.473737",
     "status": "completed"
    },
    "tags": []
   },
   "outputs": [
    {
     "name": "stderr",
     "output_type": "stream",
     "text": [
      "/opt/conda/lib/python3.7/site-packages/sklearn/ensemble/_forest.py:564: UserWarning: Some inputs do not have OOB scores. This probably means too few trees were used to compute any reliable OOB estimates.\n",
      "  UserWarning,\n"
     ]
    },
    {
     "data": {
      "image/png": "[encoded data removed]",
      "text/plain": [
       "<Figure size 432x288 with 1 Axes>"
      ]
     },
     "metadata": {
      "needs_background": "light"
     },
     "output_type": "display_data"
    },
    {
     "data": {
      "image/png": "[encoded data removed]",
      "text/plain": [
       "<Figure size 432x288 with 1 Axes>"
      ]
     },
     "metadata": {
      "needs_background": "light"
     },
     "output_type": "display_data"
    }
   ],
   "source": [
    "from sklearn.ensemble import RandomForestRegressor, RandomForestClassifier\n",
    "\n",
    "#Check for Error and find Best n_estimators:\n",
    "def forestNumEst():\n",
    "    numbers= [2, 20, 40, 50, 60, 100]\n",
    "    maeList=[] #error\n",
    "    accList=[]\n",
    "    \n",
    "    for n in numbers:\n",
    "        forest = RandomForestClassifier(n_estimators=n, oob_score = True)\n",
    "        forest.fit(X_train, y_train)\n",
    "        y_pred = forest.predict(X_test)\n",
    "        mae=metrics.mean_absolute_error(y_test, y_pred).round(2)\n",
    "        forest_auc = round( metrics.roc_auc_score(y_test, y_pred), 4 ) \n",
    "        #print(\"Random forest AUC: \", forest_auc) \n",
    "      \n",
    "        accList.append(forest_auc)\n",
    "        maeList.append(mae)\n",
    "        \n",
    "    plt.plot(numbers,accList)\n",
    "    plt.title(\"Forest Estimators\" )\n",
    "    plt.xlabel(\"Estimators\")\n",
    "    plt.ylabel('Accuracy')\n",
    "    plt.legend()\n",
    "    plt.show() \n",
    "    \n",
    "    plt.plot(numbers, maeList)\n",
    "    plt.title(\"Forest Estimators\" )\n",
    "    plt.xlabel(\"Estimators\")\n",
    "    plt.ylabel('error')\n",
    "    plt.legend()\n",
    "    plt.show() \n",
    "\n",
    "forestNumEst() "
   ]
  },
  {
   "cell_type": "code",
   "execution_count": 14,
   "id": "3e0ade51",
   "metadata": {
    "execution": {
     "iopub.execute_input": "2022-10-05T14:40:31.658603Z",
     "iopub.status.busy": "2022-10-05T14:40:31.657825Z",
     "iopub.status.idle": "2022-10-05T14:40:33.356271Z",
     "shell.execute_reply": "2022-10-05T14:40:33.355477Z"
    },
    "papermill": {
     "duration": 1.739509,
     "end_time": "2022-10-05T14:40:33.358372",
     "exception": false,
     "start_time": "2022-10-05T14:40:31.618863",
     "status": "completed"
    },
    "tags": []
   },
   "outputs": [
    {
     "data": {
      "image/png": "[encoded data removed]",
      "text/plain": [
       "<Figure size 432x288 with 1 Axes>"
      ]
     },
     "metadata": {
      "needs_background": "light"
     },
     "output_type": "display_data"
    },
    {
     "data": {
      "image/png": "[encoded data removed]",
      "text/plain": [
       "<Figure size 432x288 with 1 Axes>"
      ]
     },
     "metadata": {
      "needs_background": "light"
     },
     "output_type": "display_data"
    }
   ],
   "source": [
    "def forestDepth():\n",
    "    numbers=[None, 2, 3, 4, 5, 7, 10]\n",
    "    accList=[] #accuracy train data\n",
    "    maeList=[] #error\n",
    "    \n",
    "    for n in numbers:\n",
    "        forest = RandomForestClassifier(max_depth=n)\n",
    "        forest.fit(X_train, y_train)\n",
    "        y_pred = forest.predict(X_test)\n",
    "        mae=metrics.mean_absolute_error(y_test, y_pred).round(2)\n",
    "        forest_auc = round( metrics.roc_auc_score(y_test, y_pred), 4 ) \n",
    "        #print(\"Random forest AUC: \", forest_auc) \n",
    "       \n",
    "        accList.append(forest_auc)\n",
    "        maeList.append(mae)\n",
    "        \n",
    "    plt.plot(numbers,accList)\n",
    "    plt.title(\"Forest Max_Depth\")\n",
    "    plt.xlabel('max_depth')\n",
    "    plt.ylabel('Accuracy')\n",
    "    plt.legend()\n",
    "    plt.show() \n",
    "    \n",
    "    plt.plot(numbers, maeList)\n",
    "    plt.title(\"Forest Max_Depth\")\n",
    "    plt.xlabel(\"max_depth\")\n",
    "    plt.ylabel('error')\n",
    "    plt.legend()\n",
    "    plt.show() \n",
    "\n",
    "forestDepth()"
   ]
  },
  {
   "cell_type": "code",
   "execution_count": 15,
   "id": "8f6c142e",
   "metadata": {
    "execution": {
     "iopub.execute_input": "2022-10-05T14:40:33.437811Z",
     "iopub.status.busy": "2022-10-05T14:40:33.437527Z",
     "iopub.status.idle": "2022-10-05T14:40:35.207362Z",
     "shell.execute_reply": "2022-10-05T14:40:35.206341Z"
    },
    "papermill": {
     "duration": 1.812214,
     "end_time": "2022-10-05T14:40:35.209789",
     "exception": false,
     "start_time": "2022-10-05T14:40:33.397575",
     "status": "completed"
    },
    "tags": []
   },
   "outputs": [
    {
     "data": {
      "image/png": "[encoded data removed]",
      "text/plain": [
       "<Figure size 432x288 with 1 Axes>"
      ]
     },
     "metadata": {
      "needs_background": "light"
     },
     "output_type": "display_data"
    },
    {
     "data": {
      "image/png": "[encoded data removed]",
      "text/plain": [
       "<Figure size 432x288 with 1 Axes>"
      ]
     },
     "metadata": {
      "needs_background": "light"
     },
     "output_type": "display_data"
    }
   ],
   "source": [
    "def forestLeaf():\n",
    "    numbers=[2, 3, 4, 5, 7, 10]\n",
    "    accList=[] #accuracy train data\n",
    "    maeList=[] #error\n",
    "    \n",
    "    for n in numbers:\n",
    "        forest = RandomForestClassifier(min_samples_split=n)\n",
    "        forest.fit(X_train, y_train)\n",
    "        y_pred = forest.predict(X_test)\n",
    "        mae=metrics.mean_absolute_error(y_test, y_pred).round(2)\n",
    "        forest_auc = round( metrics.roc_auc_score(y_test, y_pred), 4 ) \n",
    "        #print(\"Random forest AUC: \", forest_auc) \n",
    "       \n",
    "        accList.append(forest_auc)\n",
    "        maeList.append(mae)\n",
    "        \n",
    "    plt.plot(numbers,accList)\n",
    "    plt.title(\"Forest\")\n",
    "    plt.xlabel('min_samples_split')\n",
    "    plt.ylabel('Accuracy')\n",
    "    plt.legend()\n",
    "    plt.show() \n",
    "    \n",
    "    plt.plot(numbers, maeList)\n",
    "    plt.title(\"Forest\")\n",
    "    plt.xlabel(\"min_samples_split\")\n",
    "    plt.ylabel('error')\n",
    "    plt.legend()\n",
    "    plt.show() \n",
    "\n",
    "forestLeaf()"
   ]
  },
  {
   "cell_type": "code",
   "execution_count": 16,
   "id": "2a2ef93b",
   "metadata": {
    "execution": {
     "iopub.execute_input": "2022-10-05T14:40:35.295000Z",
     "iopub.status.busy": "2022-10-05T14:40:35.294711Z",
     "iopub.status.idle": "2022-10-05T14:40:36.840569Z",
     "shell.execute_reply": "2022-10-05T14:40:36.840002Z"
    },
    "papermill": {
     "duration": 1.592642,
     "end_time": "2022-10-05T14:40:36.844129",
     "exception": false,
     "start_time": "2022-10-05T14:40:35.251487",
     "status": "completed"
    },
    "tags": []
   },
   "outputs": [
    {
     "data": {
      "image/png": "[encoded data removed]",
      "text/plain": [
       "<Figure size 432x288 with 1 Axes>"
      ]
     },
     "metadata": {
      "needs_background": "light"
     },
     "output_type": "display_data"
    },
    {
     "data": {
      "image/png": "[encoded data removed]",
      "text/plain": [
       "<Figure size 432x288 with 1 Axes>"
      ]
     },
     "metadata": {
      "needs_background": "light"
     },
     "output_type": "display_data"
    }
   ],
   "source": [
    "def forestLeaf():\n",
    "    numbers=[2, 3, 4, 5, 7, 10]\n",
    "    accList=[] #accuracy train data\n",
    "    maeList=[] #error\n",
    "    \n",
    "    for n in numbers:\n",
    "        forest = RandomForestClassifier(min_samples_split=n)\n",
    "        forest.fit(X_train, y_train)\n",
    "        y_pred = forest.predict(X_test)\n",
    "        mae=metrics.mean_absolute_error(y_test, y_pred).round(2)\n",
    "        forest_auc = round( metrics.roc_auc_score(y_test, y_pred), 4 ) \n",
    "        #print(\"Random forest AUC: \", forest_auc) \n",
    "       \n",
    "        accList.append(forest_auc)\n",
    "        maeList.append(mae)\n",
    "        \n",
    "    plt.plot(numbers,accList)\n",
    "    plt.title(\"Forest\")\n",
    "    plt.xlabel('min_samples_leaf')\n",
    "    plt.ylabel('Accuracy')\n",
    "    plt.legend()\n",
    "    plt.show() \n",
    "    \n",
    "    plt.plot(numbers, maeList)\n",
    "    plt.title(\"Forest\")\n",
    "    plt.xlabel(\"min_samples_leaf\")\n",
    "    plt.ylabel('error')\n",
    "    plt.legend()\n",
    "    plt.show() \n",
    "\n",
    "forestLeaf()"
   ]
  },
  {
   "cell_type": "markdown",
   "id": "5e2a74ab",
   "metadata": {
    "papermill": {
     "duration": 0.043576,
     "end_time": "2022-10-05T14:40:36.932423",
     "exception": false,
     "start_time": "2022-10-05T14:40:36.888847",
     "status": "completed"
    },
    "tags": []
   },
   "source": [
    "# GridSearch CV"
   ]
  },
  {
   "cell_type": "code",
   "execution_count": 17,
   "id": "0ca2455f",
   "metadata": {
    "execution": {
     "iopub.execute_input": "2022-10-05T14:40:37.019147Z",
     "iopub.status.busy": "2022-10-05T14:40:37.018474Z",
     "iopub.status.idle": "2022-10-05T14:41:02.141529Z",
     "shell.execute_reply": "2022-10-05T14:41:02.140713Z"
    },
    "papermill": {
     "duration": 25.168902,
     "end_time": "2022-10-05T14:41:02.143724",
     "exception": false,
     "start_time": "2022-10-05T14:40:36.974822",
     "status": "completed"
    },
    "tags": []
   },
   "outputs": [
    {
     "data": {
      "text/plain": [
       "{'max_depth': 10,\n",
       " 'min_samples_leaf': 6,\n",
       " 'min_samples_split': 3,\n",
       " 'n_estimators': 50}"
      ]
     },
     "execution_count": 17,
     "metadata": {},
     "output_type": "execute_result"
    }
   ],
   "source": [
    "from sklearn.model_selection import cross_val_score\n",
    "from sklearn.model_selection import GridSearchCV\n",
    "\n",
    "params = {\n",
    "    'n_estimators':[20, 50, 60, 100],\n",
    "    'max_depth':[5, 6, 10],\n",
    "    'min_samples_split':[3, 10],\n",
    "    'min_samples_leaf':[4, 6]\n",
    "    #'max_features':['auto', 'sqrt', 'log2'],\n",
    "    #'criterion':['gini', 'entropy'],\n",
    "}\n",
    "\n",
    "forestGrid=GridSearchCV(estimator=RandomForestClassifier(), param_grid=params, cv=5, scoring='accuracy')\n",
    "forestGrid.fit(X_train, y_train)\n",
    "forestGrid.best_params_"
   ]
  },
  {
   "cell_type": "markdown",
   "id": "12c2fbc7",
   "metadata": {
    "papermill": {
     "duration": 0.042405,
     "end_time": "2022-10-05T14:41:02.229091",
     "exception": false,
     "start_time": "2022-10-05T14:41:02.186686",
     "status": "completed"
    },
    "tags": []
   },
   "source": [
    "#### Final Random Forest Prediction\n",
    "* Top 5% Using {'max_depth': 5, 'n_estimators': 60} 0.79425"
   ]
  },
  {
   "cell_type": "code",
   "execution_count": 18,
   "id": "59e0f8ff",
   "metadata": {
    "execution": {
     "iopub.execute_input": "2022-10-05T14:41:02.316229Z",
     "iopub.status.busy": "2022-10-05T14:41:02.315923Z",
     "iopub.status.idle": "2022-10-05T14:41:02.943386Z",
     "shell.execute_reply": "2022-10-05T14:41:02.942036Z"
    },
    "papermill": {
     "duration": 0.674341,
     "end_time": "2022-10-05T14:41:02.946154",
     "exception": false,
     "start_time": "2022-10-05T14:41:02.271813",
     "status": "completed"
    },
    "tags": []
   },
   "outputs": [
    {
     "name": "stdout",
     "output_type": "stream",
     "text": [
      "Random forest AUC:  0.7837\n",
      "Random forest MAE:  0.19\n",
      "0.8102\n",
      "0.8171\n",
      "-0.006900000000000017\n"
     ]
    }
   ],
   "source": [
    "forestFinal = RandomForestClassifier(\n",
    "   n_estimators=50, \n",
    "   max_depth=10,\n",
    "   min_samples_split=10,\n",
    "    min_samples_leaf=6\n",
    "   #criterion='entropy',\n",
    "   # max_features='auto',\n",
    ")\n",
    "forestFinal.fit(X_train, y_train)\n",
    "y_pred = forestFinal.predict(X_test)\n",
    "\n",
    "#Print Metrics:\n",
    "forest_r2 = r2_score(y_test, y_pred).round(4)  \n",
    "forest_auc = round( metrics.roc_auc_score(y_test, y_pred), 4 ) \n",
    "print(\"Random forest AUC: \", forest_auc) \n",
    "\n",
    "mae=metrics.mean_absolute_error(y_test, y_pred).round(2)\n",
    "print(\"Random forest MAE: \", mae)\n",
    "\n",
    "forestScore =  forestFinal.score(X_test, y_test).round(4)  \n",
    "forestCV = cross_validate(forestFinal, X, y, cv = 5, scoring='accuracy')\n",
    "forestCV=forestCV['test_score'].mean().round(4)\n",
    "print(forestScore)\n",
    "print(forestCV)\n",
    "print(forestScore-forestCV)"
   ]
  },
  {
   "cell_type": "markdown",
   "id": "8abe6aed",
   "metadata": {
    "papermill": {
     "duration": 0.044037,
     "end_time": "2022-10-05T14:41:03.034839",
     "exception": false,
     "start_time": "2022-10-05T14:41:02.990802",
     "status": "completed"
    },
    "tags": []
   },
   "source": [
    "# Support Vector \n",
    "The initial results for SVM AUC with no parameter tunning is 0.5336.  The model does not seem worth investing lots of time into due to poor AUC performance. \n",
    "\n",
    "#### GridSearch Tune\n",
    "The best parameters from tunning SVM is SVC(C=1000, gamma=0.0001)."
   ]
  },
  {
   "cell_type": "code",
   "execution_count": 19,
   "id": "3dbbc16c",
   "metadata": {
    "execution": {
     "iopub.execute_input": "2022-10-05T14:41:03.124048Z",
     "iopub.status.busy": "2022-10-05T14:41:03.123757Z",
     "iopub.status.idle": "2022-10-05T14:41:03.130072Z",
     "shell.execute_reply": "2022-10-05T14:41:03.129373Z"
    },
    "papermill": {
     "duration": 0.05326,
     "end_time": "2022-10-05T14:41:03.131942",
     "exception": false,
     "start_time": "2022-10-05T14:41:03.078682",
     "status": "completed"
    },
    "tags": []
   },
   "outputs": [],
   "source": [
    "from sklearn.model_selection import GridSearchCV\n",
    "from sklearn.svm import SVC\n",
    " \n",
    "def tuneSVM():\n",
    "    # defining parameter range\n",
    "    param_grid = {'C': [0.1, 1, 10, 100, 1000],\n",
    "                  'gamma': [1, 0.1, 0.01, 0.001, 0.0001],\n",
    "                  'kernel': ['rbf']}\n",
    "\n",
    "    grid = GridSearchCV(SVC(), param_grid, refit = True, verbose = 3)\n",
    "\n",
    "    # fitting the model for grid search\n",
    "    grid.fit(X_train, y_train)\n",
    "\n",
    "    # print best parameter after tuning\n",
    "    print(grid.best_params_)\n",
    "\n",
    "    # print how our model looks after hyper-parameter tuning\n",
    "    print(grid.best_estimator_)"
   ]
  },
  {
   "cell_type": "markdown",
   "id": "c14e62ce",
   "metadata": {
    "papermill": {
     "duration": 0.043855,
     "end_time": "2022-10-05T14:41:03.220687",
     "exception": false,
     "start_time": "2022-10-05T14:41:03.176832",
     "status": "completed"
    },
    "tags": []
   },
   "source": [
    "#### Final SVM Prediction"
   ]
  },
  {
   "cell_type": "code",
   "execution_count": 20,
   "id": "9c2a4161",
   "metadata": {
    "execution": {
     "iopub.execute_input": "2022-10-05T14:41:03.310513Z",
     "iopub.status.busy": "2022-10-05T14:41:03.309942Z",
     "iopub.status.idle": "2022-10-05T14:41:03.317249Z",
     "shell.execute_reply": "2022-10-05T14:41:03.316618Z"
    },
    "papermill": {
     "duration": 0.054599,
     "end_time": "2022-10-05T14:41:03.319312",
     "exception": false,
     "start_time": "2022-10-05T14:41:03.264713",
     "status": "completed"
    },
    "tags": []
   },
   "outputs": [],
   "source": [
    "#Fit and Predict:\n",
    "def runSVM():\n",
    "    svm=SVC(C=1000, gamma=0.0001, kernel = 'linear')\n",
    "    svm.fit(X_train, y_train)\n",
    "    svmPedict = svm.predict(X_test)\n",
    "    np.shape(svmPedict)\n",
    "    np.shape(y_test)\n",
    "    #y_class = np.argmax(y_pred, axis = 0)\n",
    "\n",
    "    #calculate AUC of model\n",
    "    svmAUC = round( metrics.roc_auc_score(y_test, svmPedict, multi_class='ovr'), 4 ) \n",
    "    print(\"SVC AUC is: \", svmAUC)\n",
    "\n",
    "    svmR2 = r2_score(y_test, svmPedict).round(4) \n",
    "    print(\"SVM r2: \", svmR2) \n",
    "\n",
    "    svmMAE=metrics.mean_absolute_error(y_test, svmPedict)\n",
    "    \n",
    "    plt.figure(figsize=(5, 7))\n",
    "    ax = sns.distplot(y, hist=False, color=\"r\", label=\"Actual Value\")\n",
    "    sns.distplot(y_test, hist=False, color=\"b\", label=\"Fitted Values\" , ax=ax)\n",
    "    plt.title('Actual vs Fitted Values')\n",
    "    plt.show()\n",
    "    plt.close()"
   ]
  },
  {
   "cell_type": "markdown",
   "id": "7f2f15f3",
   "metadata": {
    "papermill": {
     "duration": 0.044055,
     "end_time": "2022-10-05T14:41:03.407841",
     "exception": false,
     "start_time": "2022-10-05T14:41:03.363786",
     "status": "completed"
    },
    "tags": []
   },
   "source": [
    "# Test Data"
   ]
  },
  {
   "cell_type": "code",
   "execution_count": 21,
   "id": "d31405dc",
   "metadata": {
    "execution": {
     "iopub.execute_input": "2022-10-05T14:41:03.498562Z",
     "iopub.status.busy": "2022-10-05T14:41:03.498017Z",
     "iopub.status.idle": "2022-10-05T14:41:03.515948Z",
     "shell.execute_reply": "2022-10-05T14:41:03.515083Z"
    },
    "papermill": {
     "duration": 0.065856,
     "end_time": "2022-10-05T14:41:03.518073",
     "exception": false,
     "start_time": "2022-10-05T14:41:03.452217",
     "status": "completed"
    },
    "tags": []
   },
   "outputs": [
    {
     "data": {
      "text/html": [
       "<div>\n",
       "<style scoped>\n",
       "    .dataframe tbody tr th:only-of-type {\n",
       "        vertical-align: middle;\n",
       "    }\n",
       "\n",
       "    .dataframe tbody tr th {\n",
       "        vertical-align: top;\n",
       "    }\n",
       "\n",
       "    .dataframe thead th {\n",
       "        text-align: right;\n",
       "    }\n",
       "</style>\n",
       "<table border=\"1\" class=\"dataframe\">\n",
       "  <thead>\n",
       "    <tr style=\"text-align: right;\">\n",
       "      <th></th>\n",
       "      <th>PassengerId</th>\n",
       "      <th>Pclass</th>\n",
       "      <th>Sex</th>\n",
       "      <th>Age</th>\n",
       "      <th>SibSp</th>\n",
       "      <th>Parch</th>\n",
       "      <th>Fare</th>\n",
       "    </tr>\n",
       "  </thead>\n",
       "  <tbody>\n",
       "    <tr>\n",
       "      <th>0</th>\n",
       "      <td>892</td>\n",
       "      <td>3</td>\n",
       "      <td>1</td>\n",
       "      <td>34.5</td>\n",
       "      <td>0</td>\n",
       "      <td>0</td>\n",
       "      <td>7.8292</td>\n",
       "    </tr>\n",
       "    <tr>\n",
       "      <th>1</th>\n",
       "      <td>893</td>\n",
       "      <td>3</td>\n",
       "      <td>0</td>\n",
       "      <td>47.0</td>\n",
       "      <td>1</td>\n",
       "      <td>0</td>\n",
       "      <td>7.0000</td>\n",
       "    </tr>\n",
       "    <tr>\n",
       "      <th>2</th>\n",
       "      <td>894</td>\n",
       "      <td>2</td>\n",
       "      <td>1</td>\n",
       "      <td>62.0</td>\n",
       "      <td>0</td>\n",
       "      <td>0</td>\n",
       "      <td>9.6875</td>\n",
       "    </tr>\n",
       "    <tr>\n",
       "      <th>3</th>\n",
       "      <td>895</td>\n",
       "      <td>3</td>\n",
       "      <td>1</td>\n",
       "      <td>27.0</td>\n",
       "      <td>0</td>\n",
       "      <td>0</td>\n",
       "      <td>8.6625</td>\n",
       "    </tr>\n",
       "    <tr>\n",
       "      <th>4</th>\n",
       "      <td>896</td>\n",
       "      <td>3</td>\n",
       "      <td>0</td>\n",
       "      <td>22.0</td>\n",
       "      <td>1</td>\n",
       "      <td>1</td>\n",
       "      <td>12.2875</td>\n",
       "    </tr>\n",
       "  </tbody>\n",
       "</table>\n",
       "</div>"
      ],
      "text/plain": [
       "   PassengerId  Pclass  Sex   Age  SibSp  Parch     Fare\n",
       "0          892       3    1  34.5      0      0   7.8292\n",
       "1          893       3    0  47.0      1      0   7.0000\n",
       "2          894       2    1  62.0      0      0   9.6875\n",
       "3          895       3    1  27.0      0      0   8.6625\n",
       "4          896       3    0  22.0      1      1  12.2875"
      ]
     },
     "execution_count": 21,
     "metadata": {},
     "output_type": "execute_result"
    }
   ],
   "source": [
    "#GENDER\n",
    "test['Sex']=test['Sex'].map({'female':0,'male':1})\n",
    "\n",
    "features=list(X.columns)\n",
    "test=test[features]\n",
    "\n",
    "test=test.fillna(test.mean())\n",
    "test.head()"
   ]
  },
  {
   "cell_type": "markdown",
   "id": "6b7c0503",
   "metadata": {
    "papermill": {
     "duration": 0.044841,
     "end_time": "2022-10-05T14:41:03.609740",
     "exception": false,
     "start_time": "2022-10-05T14:41:03.564899",
     "status": "completed"
    },
    "tags": []
   },
   "source": [
    "# Final Prediction"
   ]
  },
  {
   "cell_type": "code",
   "execution_count": 22,
   "id": "9b512860",
   "metadata": {
    "execution": {
     "iopub.execute_input": "2022-10-05T14:41:03.702096Z",
     "iopub.status.busy": "2022-10-05T14:41:03.701788Z",
     "iopub.status.idle": "2022-10-05T14:41:03.724292Z",
     "shell.execute_reply": "2022-10-05T14:41:03.723445Z"
    },
    "papermill": {
     "duration": 0.071574,
     "end_time": "2022-10-05T14:41:03.726450",
     "exception": false,
     "start_time": "2022-10-05T14:41:03.654876",
     "status": "completed"
    },
    "tags": []
   },
   "outputs": [
    {
     "data": {
      "text/html": [
       "<div>\n",
       "<style scoped>\n",
       "    .dataframe tbody tr th:only-of-type {\n",
       "        vertical-align: middle;\n",
       "    }\n",
       "\n",
       "    .dataframe tbody tr th {\n",
       "        vertical-align: top;\n",
       "    }\n",
       "\n",
       "    .dataframe thead th {\n",
       "        text-align: right;\n",
       "    }\n",
       "</style>\n",
       "<table border=\"1\" class=\"dataframe\">\n",
       "  <thead>\n",
       "    <tr style=\"text-align: right;\">\n",
       "      <th></th>\n",
       "      <th>PassengerId</th>\n",
       "      <th>Survived</th>\n",
       "    </tr>\n",
       "  </thead>\n",
       "  <tbody>\n",
       "    <tr>\n",
       "      <th>0</th>\n",
       "      <td>892</td>\n",
       "      <td>0</td>\n",
       "    </tr>\n",
       "    <tr>\n",
       "      <th>1</th>\n",
       "      <td>893</td>\n",
       "      <td>0</td>\n",
       "    </tr>\n",
       "    <tr>\n",
       "      <th>2</th>\n",
       "      <td>894</td>\n",
       "      <td>0</td>\n",
       "    </tr>\n",
       "    <tr>\n",
       "      <th>3</th>\n",
       "      <td>895</td>\n",
       "      <td>0</td>\n",
       "    </tr>\n",
       "    <tr>\n",
       "      <th>4</th>\n",
       "      <td>896</td>\n",
       "      <td>1</td>\n",
       "    </tr>\n",
       "    <tr>\n",
       "      <th>5</th>\n",
       "      <td>897</td>\n",
       "      <td>0</td>\n",
       "    </tr>\n",
       "    <tr>\n",
       "      <th>6</th>\n",
       "      <td>898</td>\n",
       "      <td>1</td>\n",
       "    </tr>\n",
       "  </tbody>\n",
       "</table>\n",
       "</div>"
      ],
      "text/plain": [
       "   PassengerId  Survived\n",
       "0          892         0\n",
       "1          893         0\n",
       "2          894         0\n",
       "3          895         0\n",
       "4          896         1\n",
       "5          897         0\n",
       "6          898         1"
      ]
     },
     "execution_count": 22,
     "metadata": {},
     "output_type": "execute_result"
    }
   ],
   "source": [
    "test_predictions = forestFinal.predict(test)\n",
    "passID=test['PassengerId']\n",
    "tupleData = list(zip(passID, test_predictions))\n",
    "output = pd.DataFrame(tupleData, columns = ['PassengerId', 'Survived'])\n",
    "output.head(7)"
   ]
  },
  {
   "cell_type": "code",
   "execution_count": 23,
   "id": "ddd5818e",
   "metadata": {
    "execution": {
     "iopub.execute_input": "2022-10-05T14:41:03.819445Z",
     "iopub.status.busy": "2022-10-05T14:41:03.818943Z",
     "iopub.status.idle": "2022-10-05T14:41:03.828024Z",
     "shell.execute_reply": "2022-10-05T14:41:03.827007Z"
    },
    "papermill": {
     "duration": 0.059068,
     "end_time": "2022-10-05T14:41:03.831034",
     "exception": false,
     "start_time": "2022-10-05T14:41:03.771966",
     "status": "completed"
    },
    "tags": []
   },
   "outputs": [
    {
     "name": "stdout",
     "output_type": "stream",
     "text": [
      "Your submission was successfully saved!\n"
     ]
    }
   ],
   "source": [
    "output.to_csv('submission.csv', index=False)\n",
    "print(\"Your submission was successfully saved!\")"
   ]
  },
  {
   "cell_type": "markdown",
   "id": "faf5d997",
   "metadata": {
    "papermill": {
     "duration": 0.045657,
     "end_time": "2022-10-05T14:41:03.924261",
     "exception": false,
     "start_time": "2022-10-05T14:41:03.878604",
     "status": "completed"
    },
    "tags": []
   },
   "source": [
    "#### Notes:\n",
    "Being a wife makes no difference in the final prediction: <br>\n",
    "` df['Titles'] = df['Name'].str.extract(r', (\\w+\\.)') \n",
    "df['Titles'] = df['Titles'].apply(lambda x: 1 if x=='Mrs.' else 0) `"
   ]
  }
 ],
 "metadata": {
  "kernelspec": {
   "display_name": "Python 3",
   "language": "python",
   "name": "python3"
  },
  "language_info": {
   "codemirror_mode": {
    "name": "ipython",
    "version": 3
   },
   "file_extension": ".py",
   "mimetype": "text/x-python",
   "name": "python",
   "nbconvert_exporter": "python",
   "pygments_lexer": "ipython3",
   "version": "3.7.12"
  },
  "papermill": {
   "default_parameters": {},
   "duration": 47.586349,
   "end_time": "2022-10-05T14:41:04.793302",
   "environment_variables": {},
   "exception": null,
   "input_path": "__notebook__.ipynb",
   "output_path": "__notebook__.ipynb",
   "parameters": {},
   "start_time": "2022-10-05T14:40:17.206953",
   "version": "2.3.4"
  }
 },
 "nbformat": 4,
 "nbformat_minor": 5
}
