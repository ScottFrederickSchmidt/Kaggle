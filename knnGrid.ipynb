{
 "cells": [
  {
   "cell_type": "markdown",
   "id": "c100956e",
   "metadata": {
    "papermill": {
     "duration": 0.033153,
     "end_time": "2022-10-27T21:03:13.405588",
     "exception": false,
     "start_time": "2022-10-27T21:03:13.372435",
     "status": "completed"
    },
    "tags": []
   },
   "source": [
    "# Machine Learning Titanic \n",
    "My newest, high performing models:\n",
    "* All initial models:\n",
    "https://github.com/ScottySchmidt/Kaggle/blob/main/Titanic.ipynb\n",
    "* Decision tree scores top 6%\n",
    "https://github.com/ScottySchmidt/Kaggle/blob/main/dtree.ipynb\n",
    "* xgBoost top 5%\n",
    "https://github.com/ScottySchmidt/Kaggle/blob/main/xgbTop5%25.ipynb\n",
    "* Random forest top 5%\n",
    "https://github.com/ScottySchmidt/Kaggle/blob/main/forestTop5%25.ipynb\n",
    "\n",
    "### KNN GridSearch\n",
    "KNN initially provided the worse accuracy results of all models with an initial accuracy of only 65%. Since KNN does not have lots of parameters, GridSearchCV did not help much either."
   ]
  },
  {
   "cell_type": "markdown",
   "id": "85e95316",
   "metadata": {
    "papermill": {
     "duration": 0.030875,
     "end_time": "2022-10-27T21:03:13.468294",
     "exception": false,
     "start_time": "2022-10-27T21:03:13.437419",
     "status": "completed"
    },
    "tags": []
   },
   "source": [
    "# Metrics\n",
    "The gradient classifier and logistic regression are the best two models that provide the highest best score. Interestingly, the gradient classifier does not have a high AUC but the results cross validate into the test dataset without overfitting the data. For example, decision tree can get an almost perfect AUC but when you cross validate the data it is clearly overfiting. "
   ]
  },
  {
   "cell_type": "markdown",
   "id": "b12729a1",
   "metadata": {
    "papermill": {
     "duration": 0.030342,
     "end_time": "2022-10-27T21:03:13.529514",
     "exception": false,
     "start_time": "2022-10-27T21:03:13.499172",
     "status": "completed"
    },
    "tags": []
   },
   "source": [
    "# Train Data\n",
    "Train.csv will contain the details of a subset of the passengers on board (891 to be exact) and whether they survive or not. The shape of the train data is (891, 12). "
   ]
  },
  {
   "cell_type": "code",
   "execution_count": 1,
   "id": "b9008c94",
   "metadata": {
    "execution": {
     "iopub.execute_input": "2022-10-27T21:03:13.595336Z",
     "iopub.status.busy": "2022-10-27T21:03:13.594730Z",
     "iopub.status.idle": "2022-10-27T21:03:15.189141Z",
     "shell.execute_reply": "2022-10-27T21:03:15.188484Z"
    },
    "papermill": {
     "duration": 1.63082,
     "end_time": "2022-10-27T21:03:15.192404",
     "exception": false,
     "start_time": "2022-10-27T21:03:13.561584",
     "status": "completed"
    },
    "tags": []
   },
   "outputs": [
    {
     "name": "stdout",
     "output_type": "stream",
     "text": [
      "(891, 12)\n"
     ]
    },
    {
     "data": {
      "text/html": [
       "<div>\n",
       "<style scoped>\n",
       "    .dataframe tbody tr th:only-of-type {\n",
       "        vertical-align: middle;\n",
       "    }\n",
       "\n",
       "    .dataframe tbody tr th {\n",
       "        vertical-align: top;\n",
       "    }\n",
       "\n",
       "    .dataframe thead th {\n",
       "        text-align: right;\n",
       "    }\n",
       "</style>\n",
       "<table border=\"1\" class=\"dataframe\">\n",
       "  <thead>\n",
       "    <tr style=\"text-align: right;\">\n",
       "      <th></th>\n",
       "      <th>PassengerId</th>\n",
       "      <th>Survived</th>\n",
       "      <th>Pclass</th>\n",
       "      <th>Name</th>\n",
       "      <th>Sex</th>\n",
       "      <th>Age</th>\n",
       "      <th>SibSp</th>\n",
       "      <th>Parch</th>\n",
       "      <th>Ticket</th>\n",
       "      <th>Fare</th>\n",
       "      <th>Cabin</th>\n",
       "      <th>Embarked</th>\n",
       "    </tr>\n",
       "  </thead>\n",
       "  <tbody>\n",
       "    <tr>\n",
       "      <th>0</th>\n",
       "      <td>1</td>\n",
       "      <td>0</td>\n",
       "      <td>3</td>\n",
       "      <td>Braund, Mr. Owen Harris</td>\n",
       "      <td>male</td>\n",
       "      <td>22.0</td>\n",
       "      <td>1</td>\n",
       "      <td>0</td>\n",
       "      <td>A/5 21171</td>\n",
       "      <td>7.2500</td>\n",
       "      <td>NaN</td>\n",
       "      <td>S</td>\n",
       "    </tr>\n",
       "    <tr>\n",
       "      <th>1</th>\n",
       "      <td>2</td>\n",
       "      <td>1</td>\n",
       "      <td>1</td>\n",
       "      <td>Cumings, Mrs. John Bradley (Florence Briggs Th...</td>\n",
       "      <td>female</td>\n",
       "      <td>38.0</td>\n",
       "      <td>1</td>\n",
       "      <td>0</td>\n",
       "      <td>PC 17599</td>\n",
       "      <td>71.2833</td>\n",
       "      <td>C85</td>\n",
       "      <td>C</td>\n",
       "    </tr>\n",
       "    <tr>\n",
       "      <th>2</th>\n",
       "      <td>3</td>\n",
       "      <td>1</td>\n",
       "      <td>3</td>\n",
       "      <td>Heikkinen, Miss. Laina</td>\n",
       "      <td>female</td>\n",
       "      <td>26.0</td>\n",
       "      <td>0</td>\n",
       "      <td>0</td>\n",
       "      <td>STON/O2. 3101282</td>\n",
       "      <td>7.9250</td>\n",
       "      <td>NaN</td>\n",
       "      <td>S</td>\n",
       "    </tr>\n",
       "    <tr>\n",
       "      <th>3</th>\n",
       "      <td>4</td>\n",
       "      <td>1</td>\n",
       "      <td>1</td>\n",
       "      <td>Futrelle, Mrs. Jacques Heath (Lily May Peel)</td>\n",
       "      <td>female</td>\n",
       "      <td>35.0</td>\n",
       "      <td>1</td>\n",
       "      <td>0</td>\n",
       "      <td>113803</td>\n",
       "      <td>53.1000</td>\n",
       "      <td>C123</td>\n",
       "      <td>S</td>\n",
       "    </tr>\n",
       "    <tr>\n",
       "      <th>4</th>\n",
       "      <td>5</td>\n",
       "      <td>0</td>\n",
       "      <td>3</td>\n",
       "      <td>Allen, Mr. William Henry</td>\n",
       "      <td>male</td>\n",
       "      <td>35.0</td>\n",
       "      <td>0</td>\n",
       "      <td>0</td>\n",
       "      <td>373450</td>\n",
       "      <td>8.0500</td>\n",
       "      <td>NaN</td>\n",
       "      <td>S</td>\n",
       "    </tr>\n",
       "  </tbody>\n",
       "</table>\n",
       "</div>"
      ],
      "text/plain": [
       "   PassengerId  Survived  Pclass  \\\n",
       "0            1         0       3   \n",
       "1            2         1       1   \n",
       "2            3         1       3   \n",
       "3            4         1       1   \n",
       "4            5         0       3   \n",
       "\n",
       "                                                Name     Sex   Age  SibSp  \\\n",
       "0                            Braund, Mr. Owen Harris    male  22.0      1   \n",
       "1  Cumings, Mrs. John Bradley (Florence Briggs Th...  female  38.0      1   \n",
       "2                             Heikkinen, Miss. Laina  female  26.0      0   \n",
       "3       Futrelle, Mrs. Jacques Heath (Lily May Peel)  female  35.0      1   \n",
       "4                           Allen, Mr. William Henry    male  35.0      0   \n",
       "\n",
       "   Parch            Ticket     Fare Cabin Embarked  \n",
       "0      0         A/5 21171   7.2500   NaN        S  \n",
       "1      0          PC 17599  71.2833   C85        C  \n",
       "2      0  STON/O2. 3101282   7.9250   NaN        S  \n",
       "3      0            113803  53.1000  C123        S  \n",
       "4      0            373450   8.0500   NaN        S  "
      ]
     },
     "execution_count": 1,
     "metadata": {},
     "output_type": "execute_result"
    }
   ],
   "source": [
    "import numpy as np\n",
    "import pandas as pd\n",
    "import seaborn as sns\n",
    "import matplotlib.pyplot as plt\n",
    "from sklearn.model_selection import train_test_split, cross_validate, GridSearchCV\n",
    "from statistics import mean\n",
    "from sklearn.metrics import accuracy_score, classification_report, mean_absolute_error, mean_squared_error, r2_score\n",
    "from sklearn.datasets import make_classification\n",
    "from sklearn import ensemble\n",
    "import sklearn.metrics as metrics\n",
    "import time\n",
    "from math import sqrt\n",
    "\n",
    "train=r'/kaggle/input/titanic/train.csv'\n",
    "test=r'/kaggle/input/titanic/test.csv' \n",
    "\n",
    "df=pd.read_csv(train)\n",
    "test=pd.read_csv(test)\n",
    "\n",
    "print(df.shape)\n",
    "df.head()"
   ]
  },
  {
   "cell_type": "code",
   "execution_count": 2,
   "id": "a70fc51f",
   "metadata": {
    "execution": {
     "iopub.execute_input": "2022-10-27T21:03:15.261084Z",
     "iopub.status.busy": "2022-10-27T21:03:15.260556Z",
     "iopub.status.idle": "2022-10-27T21:03:15.267237Z",
     "shell.execute_reply": "2022-10-27T21:03:15.266662Z"
    },
    "papermill": {
     "duration": 0.04396,
     "end_time": "2022-10-27T21:03:15.268979",
     "exception": false,
     "start_time": "2022-10-27T21:03:15.225019",
     "status": "completed"
    },
    "tags": []
   },
   "outputs": [
    {
     "data": {
      "text/plain": [
       "PassengerId      int64\n",
       "Survived         int64\n",
       "Pclass           int64\n",
       "Name            object\n",
       "Sex             object\n",
       "Age            float64\n",
       "SibSp            int64\n",
       "Parch            int64\n",
       "Ticket          object\n",
       "Fare           float64\n",
       "Cabin           object\n",
       "Embarked        object\n",
       "dtype: object"
      ]
     },
     "execution_count": 2,
     "metadata": {},
     "output_type": "execute_result"
    }
   ],
   "source": [
    "df.dtypes"
   ]
  },
  {
   "cell_type": "code",
   "execution_count": 3,
   "id": "d4505b33",
   "metadata": {
    "execution": {
     "iopub.execute_input": "2022-10-27T21:03:15.335960Z",
     "iopub.status.busy": "2022-10-27T21:03:15.335398Z",
     "iopub.status.idle": "2022-10-27T21:03:15.362229Z",
     "shell.execute_reply": "2022-10-27T21:03:15.360911Z"
    },
    "papermill": {
     "duration": 0.064709,
     "end_time": "2022-10-27T21:03:15.366722",
     "exception": false,
     "start_time": "2022-10-27T21:03:15.302013",
     "status": "completed"
    },
    "tags": []
   },
   "outputs": [
    {
     "name": "stdout",
     "output_type": "stream",
     "text": [
      "Total no of duplicate values in Training Dataset = 0\n"
     ]
    },
    {
     "data": {
      "text/html": [
       "<div>\n",
       "<style scoped>\n",
       "    .dataframe tbody tr th:only-of-type {\n",
       "        vertical-align: middle;\n",
       "    }\n",
       "\n",
       "    .dataframe tbody tr th {\n",
       "        vertical-align: top;\n",
       "    }\n",
       "\n",
       "    .dataframe thead th {\n",
       "        text-align: right;\n",
       "    }\n",
       "</style>\n",
       "<table border=\"1\" class=\"dataframe\">\n",
       "  <thead>\n",
       "    <tr style=\"text-align: right;\">\n",
       "      <th></th>\n",
       "      <th>PassengerId</th>\n",
       "      <th>Survived</th>\n",
       "      <th>Pclass</th>\n",
       "      <th>Name</th>\n",
       "      <th>Sex</th>\n",
       "      <th>Age</th>\n",
       "      <th>SibSp</th>\n",
       "      <th>Parch</th>\n",
       "      <th>Ticket</th>\n",
       "      <th>Fare</th>\n",
       "      <th>Cabin</th>\n",
       "      <th>Embarked</th>\n",
       "    </tr>\n",
       "  </thead>\n",
       "  <tbody>\n",
       "  </tbody>\n",
       "</table>\n",
       "</div>"
      ],
      "text/plain": [
       "Empty DataFrame\n",
       "Columns: [PassengerId, Survived, Pclass, Name, Sex, Age, SibSp, Parch, Ticket, Fare, Cabin, Embarked]\n",
       "Index: []"
      ]
     },
     "execution_count": 3,
     "metadata": {},
     "output_type": "execute_result"
    }
   ],
   "source": [
    "#Check Duplicates:\n",
    "dupstr = df.duplicated()\n",
    "print('Total no of duplicate values in Training Dataset = %d' % (dupstr.sum()))\n",
    "df[dupstr]"
   ]
  },
  {
   "cell_type": "code",
   "execution_count": 4,
   "id": "80b6289d",
   "metadata": {
    "execution": {
     "iopub.execute_input": "2022-10-27T21:03:15.435590Z",
     "iopub.status.busy": "2022-10-27T21:03:15.435014Z",
     "iopub.status.idle": "2022-10-27T21:03:15.444588Z",
     "shell.execute_reply": "2022-10-27T21:03:15.443362Z"
    },
    "papermill": {
     "duration": 0.046049,
     "end_time": "2022-10-27T21:03:15.446805",
     "exception": false,
     "start_time": "2022-10-27T21:03:15.400756",
     "status": "completed"
    },
    "tags": []
   },
   "outputs": [
    {
     "name": "stdout",
     "output_type": "stream",
     "text": [
      "Missing data by column as a percent:\n",
      "Cabin          0.771044\n",
      "Age            0.198653\n",
      "Embarked       0.002245\n",
      "PassengerId    0.000000\n",
      "Survived       0.000000\n",
      "dtype: float64\n"
     ]
    }
   ],
   "source": [
    "#search for columns with missing values:\n",
    "def findNA():\n",
    "    print(\"Missing data by column as a percent:\")\n",
    "    findNA=df.isnull().sum().sort_values(ascending=False)/len(df)\n",
    "    print(findNA.head())\n",
    "findNA() "
   ]
  },
  {
   "cell_type": "markdown",
   "id": "f7f2dc98",
   "metadata": {
    "papermill": {
     "duration": 0.032802,
     "end_time": "2022-10-27T21:03:15.513136",
     "exception": false,
     "start_time": "2022-10-27T21:03:15.480334",
     "status": "completed"
    },
    "tags": []
   },
   "source": [
    "# Feature Engineer\n",
    "We need to replace male and female into numbers. This is a very important part of the process because gender is one of the highest predictors on if a person survived or not."
   ]
  },
  {
   "cell_type": "code",
   "execution_count": 5,
   "id": "8004521e",
   "metadata": {
    "execution": {
     "iopub.execute_input": "2022-10-27T21:03:15.583329Z",
     "iopub.status.busy": "2022-10-27T21:03:15.582503Z",
     "iopub.status.idle": "2022-10-27T21:03:15.588541Z",
     "shell.execute_reply": "2022-10-27T21:03:15.587928Z"
    },
    "papermill": {
     "duration": 0.042797,
     "end_time": "2022-10-27T21:03:15.590507",
     "exception": false,
     "start_time": "2022-10-27T21:03:15.547710",
     "status": "completed"
    },
    "tags": []
   },
   "outputs": [],
   "source": [
    "#GENDER\n",
    "df['Sex']=df['Sex'].map({'female':0,'male':1})"
   ]
  },
  {
   "cell_type": "markdown",
   "id": "354e6419",
   "metadata": {
    "papermill": {
     "duration": 0.033652,
     "end_time": "2022-10-27T21:03:15.658569",
     "exception": false,
     "start_time": "2022-10-27T21:03:15.624917",
     "status": "completed"
    },
    "tags": []
   },
   "source": [
    "Females whose number is 0 had a much higher chance of surving than males. Later on, doing the importance feature analysis we will view that gender is actually one of the highest predictors. "
   ]
  },
  {
   "cell_type": "code",
   "execution_count": 6,
   "id": "938d29bf",
   "metadata": {
    "execution": {
     "iopub.execute_input": "2022-10-27T21:03:15.726782Z",
     "iopub.status.busy": "2022-10-27T21:03:15.726479Z",
     "iopub.status.idle": "2022-10-27T21:03:15.756020Z",
     "shell.execute_reply": "2022-10-27T21:03:15.755126Z"
    },
    "papermill": {
     "duration": 0.06657,
     "end_time": "2022-10-27T21:03:15.758134",
     "exception": false,
     "start_time": "2022-10-27T21:03:15.691564",
     "status": "completed"
    },
    "tags": []
   },
   "outputs": [
    {
     "data": {
      "text/html": [
       "<div>\n",
       "<style scoped>\n",
       "    .dataframe tbody tr th:only-of-type {\n",
       "        vertical-align: middle;\n",
       "    }\n",
       "\n",
       "    .dataframe tbody tr th {\n",
       "        vertical-align: top;\n",
       "    }\n",
       "\n",
       "    .dataframe thead th {\n",
       "        text-align: right;\n",
       "    }\n",
       "</style>\n",
       "<table border=\"1\" class=\"dataframe\">\n",
       "  <thead>\n",
       "    <tr style=\"text-align: right;\">\n",
       "      <th>Sex</th>\n",
       "      <th>0</th>\n",
       "      <th>1</th>\n",
       "    </tr>\n",
       "    <tr>\n",
       "      <th>Survived</th>\n",
       "      <th></th>\n",
       "      <th></th>\n",
       "    </tr>\n",
       "  </thead>\n",
       "  <tbody>\n",
       "    <tr>\n",
       "      <th>0</th>\n",
       "      <td>81</td>\n",
       "      <td>468</td>\n",
       "    </tr>\n",
       "    <tr>\n",
       "      <th>1</th>\n",
       "      <td>233</td>\n",
       "      <td>109</td>\n",
       "    </tr>\n",
       "  </tbody>\n",
       "</table>\n",
       "</div>"
      ],
      "text/plain": [
       "Sex         0    1\n",
       "Survived          \n",
       "0          81  468\n",
       "1         233  109"
      ]
     },
     "execution_count": 6,
     "metadata": {},
     "output_type": "execute_result"
    }
   ],
   "source": [
    "genderTable = pd.crosstab(df['Survived'],df['Sex'])\n",
    "genderTable"
   ]
  },
  {
   "cell_type": "markdown",
   "id": "c40a56f2",
   "metadata": {
    "papermill": {
     "duration": 0.033418,
     "end_time": "2022-10-27T21:03:15.825983",
     "exception": false,
     "start_time": "2022-10-27T21:03:15.792565",
     "status": "completed"
    },
    "tags": []
   },
   "source": [
    "# Encode Categorical Variables\n",
    "Encode Categorical Variables is needed for this dataset since there are many important variables that are not numeric yet. \n",
    "\n",
    "There are three classes C, Q, and S. Class C seems to have the highest chance of survival. Class S has the lowest chance of survival. Unfornately this would tend to show that economic status seems to played a part in the decision if someone survived or not. Embarked does not play role major role in feature importance. "
   ]
  },
  {
   "cell_type": "code",
   "execution_count": 7,
   "id": "3f08a3cb",
   "metadata": {
    "execution": {
     "iopub.execute_input": "2022-10-27T21:03:15.895805Z",
     "iopub.status.busy": "2022-10-27T21:03:15.895485Z",
     "iopub.status.idle": "2022-10-27T21:03:16.092246Z",
     "shell.execute_reply": "2022-10-27T21:03:16.091279Z"
    },
    "papermill": {
     "duration": 0.234006,
     "end_time": "2022-10-27T21:03:16.094527",
     "exception": false,
     "start_time": "2022-10-27T21:03:15.860521",
     "status": "completed"
    },
    "tags": []
   },
   "outputs": [],
   "source": [
    "import category_encoders as ce\n",
    "#encoder = ce.OrdinalEncoder(cols=['Embarked'])\n",
    "\n",
    "#df = encoder.fit_transform(df)\n",
    "#test = encoder.fit_transform(test)\n",
    "#test.head()"
   ]
  },
  {
   "cell_type": "markdown",
   "id": "9252f918",
   "metadata": {
    "papermill": {
     "duration": 0.03333,
     "end_time": "2022-10-27T21:03:16.161536",
     "exception": false,
     "start_time": "2022-10-27T21:03:16.128206",
     "status": "completed"
    },
    "tags": []
   },
   "source": [
    "# Examine Target Variable\n",
    "Survived is the Y variable we will be analyzing. Since the survival rete is 0.384 the data is not considered unbalanced. "
   ]
  },
  {
   "cell_type": "code",
   "execution_count": 8,
   "id": "e40e0c3e",
   "metadata": {
    "execution": {
     "iopub.execute_input": "2022-10-27T21:03:16.230166Z",
     "iopub.status.busy": "2022-10-27T21:03:16.229832Z",
     "iopub.status.idle": "2022-10-27T21:03:16.237199Z",
     "shell.execute_reply": "2022-10-27T21:03:16.236294Z"
    },
    "papermill": {
     "duration": 0.045372,
     "end_time": "2022-10-27T21:03:16.240193",
     "exception": false,
     "start_time": "2022-10-27T21:03:16.194821",
     "status": "completed"
    },
    "tags": []
   },
   "outputs": [
    {
     "name": "stdout",
     "output_type": "stream",
     "text": [
      "0    549\n",
      "1    342\n",
      "Name: Survived, dtype: int64\n",
      "Percent that survived:  0.384\n"
     ]
    }
   ],
   "source": [
    "temp=df['Survived'].value_counts()\n",
    "print(temp)\n",
    "no=temp[0]\n",
    "yes=temp[1]\n",
    "percent=round(yes/(yes+no),3)\n",
    "print(\"Percent that survived: \", percent)"
   ]
  },
  {
   "cell_type": "markdown",
   "id": "6369db30",
   "metadata": {
    "papermill": {
     "duration": 0.03397,
     "end_time": "2022-10-27T21:03:16.307997",
     "exception": false,
     "start_time": "2022-10-27T21:03:16.274027",
     "status": "completed"
    },
    "tags": []
   },
   "source": [
    "# Numeric DataFrame\n",
    "For now, we will analyze only numeric values. Categorical values will need to be encoded or analyzed individually."
   ]
  },
  {
   "cell_type": "code",
   "execution_count": 9,
   "id": "2be7c391",
   "metadata": {
    "execution": {
     "iopub.execute_input": "2022-10-27T21:03:16.377960Z",
     "iopub.status.busy": "2022-10-27T21:03:16.377144Z",
     "iopub.status.idle": "2022-10-27T21:03:16.391461Z",
     "shell.execute_reply": "2022-10-27T21:03:16.390879Z"
    },
    "papermill": {
     "duration": 0.051024,
     "end_time": "2022-10-27T21:03:16.393381",
     "exception": false,
     "start_time": "2022-10-27T21:03:16.342357",
     "status": "completed"
    },
    "tags": []
   },
   "outputs": [
    {
     "data": {
      "text/html": [
       "<div>\n",
       "<style scoped>\n",
       "    .dataframe tbody tr th:only-of-type {\n",
       "        vertical-align: middle;\n",
       "    }\n",
       "\n",
       "    .dataframe tbody tr th {\n",
       "        vertical-align: top;\n",
       "    }\n",
       "\n",
       "    .dataframe thead th {\n",
       "        text-align: right;\n",
       "    }\n",
       "</style>\n",
       "<table border=\"1\" class=\"dataframe\">\n",
       "  <thead>\n",
       "    <tr style=\"text-align: right;\">\n",
       "      <th></th>\n",
       "      <th>PassengerId</th>\n",
       "      <th>Survived</th>\n",
       "      <th>Pclass</th>\n",
       "      <th>Sex</th>\n",
       "      <th>Age</th>\n",
       "      <th>SibSp</th>\n",
       "      <th>Parch</th>\n",
       "      <th>Fare</th>\n",
       "    </tr>\n",
       "  </thead>\n",
       "  <tbody>\n",
       "    <tr>\n",
       "      <th>0</th>\n",
       "      <td>1</td>\n",
       "      <td>0</td>\n",
       "      <td>3</td>\n",
       "      <td>1</td>\n",
       "      <td>22.0</td>\n",
       "      <td>1</td>\n",
       "      <td>0</td>\n",
       "      <td>7.2500</td>\n",
       "    </tr>\n",
       "    <tr>\n",
       "      <th>1</th>\n",
       "      <td>2</td>\n",
       "      <td>1</td>\n",
       "      <td>1</td>\n",
       "      <td>0</td>\n",
       "      <td>38.0</td>\n",
       "      <td>1</td>\n",
       "      <td>0</td>\n",
       "      <td>71.2833</td>\n",
       "    </tr>\n",
       "    <tr>\n",
       "      <th>2</th>\n",
       "      <td>3</td>\n",
       "      <td>1</td>\n",
       "      <td>3</td>\n",
       "      <td>0</td>\n",
       "      <td>26.0</td>\n",
       "      <td>0</td>\n",
       "      <td>0</td>\n",
       "      <td>7.9250</td>\n",
       "    </tr>\n",
       "    <tr>\n",
       "      <th>3</th>\n",
       "      <td>4</td>\n",
       "      <td>1</td>\n",
       "      <td>1</td>\n",
       "      <td>0</td>\n",
       "      <td>35.0</td>\n",
       "      <td>1</td>\n",
       "      <td>0</td>\n",
       "      <td>53.1000</td>\n",
       "    </tr>\n",
       "    <tr>\n",
       "      <th>4</th>\n",
       "      <td>5</td>\n",
       "      <td>0</td>\n",
       "      <td>3</td>\n",
       "      <td>1</td>\n",
       "      <td>35.0</td>\n",
       "      <td>0</td>\n",
       "      <td>0</td>\n",
       "      <td>8.0500</td>\n",
       "    </tr>\n",
       "  </tbody>\n",
       "</table>\n",
       "</div>"
      ],
      "text/plain": [
       "   PassengerId  Survived  Pclass  Sex   Age  SibSp  Parch     Fare\n",
       "0            1         0       3    1  22.0      1      0   7.2500\n",
       "1            2         1       1    0  38.0      1      0  71.2833\n",
       "2            3         1       3    0  26.0      0      0   7.9250\n",
       "3            4         1       1    0  35.0      1      0  53.1000\n",
       "4            5         0       3    1  35.0      0      0   8.0500"
      ]
     },
     "execution_count": 9,
     "metadata": {},
     "output_type": "execute_result"
    }
   ],
   "source": [
    "numerics = ['int16', 'int32', 'int64', 'float16', 'float32', 'float64']\n",
    "df = df.select_dtypes(include=numerics)\n",
    "df.head()"
   ]
  },
  {
   "cell_type": "markdown",
   "id": "cb41c328",
   "metadata": {
    "papermill": {
     "duration": 0.033872,
     "end_time": "2022-10-27T21:03:16.461624",
     "exception": false,
     "start_time": "2022-10-27T21:03:16.427752",
     "status": "completed"
    },
    "tags": []
   },
   "source": [
    "# Check for missing values\n",
    "Age is missing around 20% of values.Therefore, we can simply fill in the mean for that one column."
   ]
  },
  {
   "cell_type": "code",
   "execution_count": 10,
   "id": "d24040e3",
   "metadata": {
    "execution": {
     "iopub.execute_input": "2022-10-27T21:03:16.532047Z",
     "iopub.status.busy": "2022-10-27T21:03:16.531458Z",
     "iopub.status.idle": "2022-10-27T21:03:16.539714Z",
     "shell.execute_reply": "2022-10-27T21:03:16.538889Z"
    },
    "papermill": {
     "duration": 0.046319,
     "end_time": "2022-10-27T21:03:16.542227",
     "exception": false,
     "start_time": "2022-10-27T21:03:16.495908",
     "status": "completed"
    },
    "tags": []
   },
   "outputs": [
    {
     "name": "stdout",
     "output_type": "stream",
     "text": [
      "Missing data by column as a percent:\n",
      "Age            0.198653\n",
      "PassengerId    0.000000\n",
      "Survived       0.000000\n",
      "Pclass         0.000000\n",
      "Sex            0.000000\n",
      "dtype: float64\n"
     ]
    }
   ],
   "source": [
    "#search for columns with missing values:\n",
    "def findNA():\n",
    "    print(\"Missing data by column as a percent:\")\n",
    "    findNA=df.isnull().sum().sort_values(ascending=False)/len(df)\n",
    "    print(findNA.head())\n",
    "findNA() "
   ]
  },
  {
   "cell_type": "code",
   "execution_count": 11,
   "id": "f0a5f356",
   "metadata": {
    "execution": {
     "iopub.execute_input": "2022-10-27T21:03:16.614159Z",
     "iopub.status.busy": "2022-10-27T21:03:16.613798Z",
     "iopub.status.idle": "2022-10-27T21:03:16.623036Z",
     "shell.execute_reply": "2022-10-27T21:03:16.622109Z"
    },
    "papermill": {
     "duration": 0.047314,
     "end_time": "2022-10-27T21:03:16.625076",
     "exception": false,
     "start_time": "2022-10-27T21:03:16.577762",
     "status": "completed"
    },
    "tags": []
   },
   "outputs": [],
   "source": [
    "df= df.fillna(df.mean())"
   ]
  },
  {
   "cell_type": "markdown",
   "id": "67df2000",
   "metadata": {
    "papermill": {
     "duration": 0.035019,
     "end_time": "2022-10-27T21:03:16.695177",
     "exception": false,
     "start_time": "2022-10-27T21:03:16.660158",
     "status": "completed"
    },
    "tags": []
   },
   "source": [
    "# Split Data"
   ]
  },
  {
   "cell_type": "code",
   "execution_count": 12,
   "id": "55add28d",
   "metadata": {
    "execution": {
     "iopub.execute_input": "2022-10-27T21:03:16.767032Z",
     "iopub.status.busy": "2022-10-27T21:03:16.766586Z",
     "iopub.status.idle": "2022-10-27T21:03:16.774811Z",
     "shell.execute_reply": "2022-10-27T21:03:16.773869Z"
    },
    "papermill": {
     "duration": 0.046774,
     "end_time": "2022-10-27T21:03:16.776852",
     "exception": false,
     "start_time": "2022-10-27T21:03:16.730078",
     "status": "completed"
    },
    "tags": []
   },
   "outputs": [],
   "source": [
    "X=df.drop('Survived', axis=1)\n",
    "y=df['Survived']\n",
    "\n",
    "X_train, X_test, y_train, y_test = train_test_split(\n",
    "    X, y, test_size = 0.25, random_state = 42)"
   ]
  },
  {
   "cell_type": "markdown",
   "id": "1477c9fd",
   "metadata": {
    "papermill": {
     "duration": 0.034581,
     "end_time": "2022-10-27T21:03:16.846248",
     "exception": false,
     "start_time": "2022-10-27T21:03:16.811667",
     "status": "completed"
    },
    "tags": []
   },
   "source": [
    "# Highly Correlated Features\n",
    "There are no highly correlated variables above 80%. Therefore, we do not need to be concerned about removing variables that are too highly correlated. "
   ]
  },
  {
   "cell_type": "code",
   "execution_count": 13,
   "id": "3bed11fb",
   "metadata": {
    "execution": {
     "iopub.execute_input": "2022-10-27T21:03:16.919078Z",
     "iopub.status.busy": "2022-10-27T21:03:16.918762Z",
     "iopub.status.idle": "2022-10-27T21:03:17.345720Z",
     "shell.execute_reply": "2022-10-27T21:03:17.344873Z"
    },
    "papermill": {
     "duration": 0.465485,
     "end_time": "2022-10-27T21:03:17.347833",
     "exception": false,
     "start_time": "2022-10-27T21:03:16.882348",
     "status": "completed"
    },
    "tags": []
   },
   "outputs": [
    {
     "data": {
      "text/plain": [
       "<AxesSubplot:>"
      ]
     },
     "execution_count": 13,
     "metadata": {},
     "output_type": "execute_result"
    },
    {
     "data": {
      "image/png": "[encoded data removed]",
      "text/plain": [
       "<Figure size 432x288 with 2 Axes>"
      ]
     },
     "metadata": {
      "needs_background": "light"
     },
     "output_type": "display_data"
    }
   ],
   "source": [
    "import seaborn as sns\n",
    "corr= df.corr()\n",
    "matrix = np.triu(corr)\n",
    "sns.heatmap(corr, annot=True, mask=matrix)"
   ]
  },
  {
   "cell_type": "markdown",
   "id": "2fbad8ad",
   "metadata": {
    "papermill": {
     "duration": 0.036631,
     "end_time": "2022-10-27T21:03:17.422933",
     "exception": false,
     "start_time": "2022-10-27T21:03:17.386302",
     "status": "completed"
    },
    "tags": []
   },
   "source": [
    "# K-Nearest Neighbors (KNN)\n",
    "Initial tuning provides around a .59 AUC. This model does not seem to be very effective on this dataset."
   ]
  },
  {
   "cell_type": "markdown",
   "id": "670a21ab",
   "metadata": {
    "papermill": {
     "duration": 0.036636,
     "end_time": "2022-10-27T21:03:17.496292",
     "exception": false,
     "start_time": "2022-10-27T21:03:17.459656",
     "status": "completed"
    },
    "tags": []
   },
   "source": [
    "n_neighbors = 3 provides the least amount of error:"
   ]
  },
  {
   "cell_type": "code",
   "execution_count": 14,
   "id": "08091bc8",
   "metadata": {
    "execution": {
     "iopub.execute_input": "2022-10-27T21:03:17.572367Z",
     "iopub.status.busy": "2022-10-27T21:03:17.572068Z",
     "iopub.status.idle": "2022-10-27T21:03:18.153601Z",
     "shell.execute_reply": "2022-10-27T21:03:18.152629Z"
    },
    "papermill": {
     "duration": 0.621836,
     "end_time": "2022-10-27T21:03:18.155717",
     "exception": false,
     "start_time": "2022-10-27T21:03:17.533881",
     "status": "completed"
    },
    "tags": []
   },
   "outputs": [
    {
     "data": {
      "image/png": "[encoded data removed]",
      "text/plain": [
       "<Figure size 432x288 with 1 Axes>"
      ]
     },
     "metadata": {
      "needs_background": "light"
     },
     "output_type": "display_data"
    },
    {
     "data": {
      "image/png": "[encoded data removed]",
      "text/plain": [
       "<Figure size 432x288 with 1 Axes>"
      ]
     },
     "metadata": {
      "needs_background": "light"
     },
     "output_type": "display_data"
    }
   ],
   "source": [
    "from sklearn.neighbors import KNeighborsClassifier, KNeighborsRegressor\n",
    "\n",
    "def knnError():\n",
    "    numbers=list(range(1, 30, 2))\n",
    "    error_rates = []\n",
    "    accList=[]\n",
    "    for n in numbers: #Must be an odd number to break a tie\n",
    "        new_model = KNeighborsClassifier(n_neighbors =  n)\n",
    "        new_model.fit(X_train, y_train)\n",
    "        y_pred = new_model.predict(X_test)\n",
    "        error_rates.append(np.mean( y_pred != y_test))\n",
    "        knn_auc = round( metrics.roc_auc_score(y_test,  y_pred), 4 ) \n",
    "        accList.append(knn_auc)\n",
    "    plt.plot(numbers, error_rates)\n",
    "    plt.title(\"KNN Error n_neighbors\")\n",
    "    plt.xlabel(\"n_neighbors\")\n",
    "    plt.ylabel(\"Error Rate\")\n",
    "    plt.show()\n",
    "    \n",
    "    plt.plot(numbers, accList)\n",
    "    plt.title(\"Knn Accuracy \")\n",
    "    plt.xlabel(\"n_neighbors\")\n",
    "    plt.ylabel(\"Accuracy\")\n",
    "    plt.show()\n",
    "knnError() "
   ]
  },
  {
   "cell_type": "code",
   "execution_count": 15,
   "id": "bd333e9f",
   "metadata": {
    "execution": {
     "iopub.execute_input": "2022-10-27T21:03:18.234488Z",
     "iopub.status.busy": "2022-10-27T21:03:18.233724Z",
     "iopub.status.idle": "2022-10-27T21:03:19.332034Z",
     "shell.execute_reply": "2022-10-27T21:03:19.331093Z"
    },
    "papermill": {
     "duration": 1.139991,
     "end_time": "2022-10-27T21:03:19.334185",
     "exception": false,
     "start_time": "2022-10-27T21:03:18.194194",
     "status": "completed"
    },
    "tags": []
   },
   "outputs": [
    {
     "data": {
      "image/png": "[encoded data removed]",
      "text/plain": [
       "<Figure size 432x288 with 1 Axes>"
      ]
     },
     "metadata": {
      "needs_background": "light"
     },
     "output_type": "display_data"
    },
    {
     "data": {
      "image/png": "[encoded data removed]",
      "text/plain": [
       "<Figure size 432x288 with 1 Axes>"
      ]
     },
     "metadata": {
      "needs_background": "light"
     },
     "output_type": "display_data"
    }
   ],
   "source": [
    "def knnLeaf():\n",
    "    error_rates = []\n",
    "    accList=[]\n",
    "    numbers=list(range(1,50))\n",
    "    for n in numbers: \n",
    "        new_model = KNeighborsClassifier(leaf_size =  n)\n",
    "        new_model.fit(X_train, y_train)\n",
    "        y_pred = new_model.predict(X_test)\n",
    "        error_rates.append(np.mean(y_pred != y_test))\n",
    "        knn_auc = round( metrics.roc_auc_score(y_test,  y_pred), 4 ) \n",
    "        accList.append(knn_auc)\n",
    "        #print(\"Knn AUC: \", knn_auc)\n",
    "    plt.plot(numbers, error_rates)\n",
    "    plt.title(\"KNN Error\")\n",
    "    plt.xlabel(\"leaf_size\")\n",
    "    plt.ylabel(\"Error Rate\")\n",
    "    plt.show()\n",
    "    \n",
    "    plt.plot(numbers, accList)\n",
    "    plt.title(\"Knn Accuracy \")\n",
    "    plt.xlabel(\"leaf_size\")\n",
    "    plt.ylabel(\"Accuracy\")\n",
    "    plt.show()\n",
    "knnLeaf() "
   ]
  },
  {
   "cell_type": "markdown",
   "id": "99cfd066",
   "metadata": {
    "papermill": {
     "duration": 0.041021,
     "end_time": "2022-10-27T21:03:19.415575",
     "exception": false,
     "start_time": "2022-10-27T21:03:19.374554",
     "status": "completed"
    },
    "tags": []
   },
   "source": [
    "# KNN GridSearch"
   ]
  },
  {
   "cell_type": "code",
   "execution_count": 16,
   "id": "065107f8",
   "metadata": {
    "execution": {
     "iopub.execute_input": "2022-10-27T21:03:19.497084Z",
     "iopub.status.busy": "2022-10-27T21:03:19.496768Z",
     "iopub.status.idle": "2022-10-27T21:03:27.222886Z",
     "shell.execute_reply": "2022-10-27T21:03:27.222011Z"
    },
    "papermill": {
     "duration": 7.769577,
     "end_time": "2022-10-27T21:03:27.225198",
     "exception": false,
     "start_time": "2022-10-27T21:03:19.455621",
     "status": "completed"
    },
    "tags": []
   },
   "outputs": [
    {
     "name": "stdout",
     "output_type": "stream",
     "text": [
      "start\n",
      "KNeighborsClassifier(metric='manhattan', n_neighbors=27, p=1)\n"
     ]
    }
   ],
   "source": [
    "def knnGrid():\n",
    "    n_neighbors = list(range(1, 30, 2))\n",
    "    p=[1,2, 3]\n",
    "\n",
    "    print(\"start\")\n",
    "    params=dict(n_neighbors=n_neighbors, p=p, metric= ['euclidean', 'manhattan'])\n",
    "    grid=GridSearchCV(KNeighborsClassifier(), params, cv=10, scoring='accuracy')\n",
    "    knnGrid=grid.fit(X, y)\n",
    "    print(knnGrid.best_estimator_)\n",
    "knnGrid()"
   ]
  },
  {
   "cell_type": "markdown",
   "id": "a6335885",
   "metadata": {
    "papermill": {
     "duration": 0.040332,
     "end_time": "2022-10-27T21:03:27.305964",
     "exception": false,
     "start_time": "2022-10-27T21:03:27.265632",
     "status": "completed"
    },
    "tags": []
   },
   "source": [
    "# Final KNN Prediction"
   ]
  },
  {
   "cell_type": "code",
   "execution_count": 17,
   "id": "bccfde17",
   "metadata": {
    "execution": {
     "iopub.execute_input": "2022-10-27T21:03:27.389941Z",
     "iopub.status.busy": "2022-10-27T21:03:27.388978Z",
     "iopub.status.idle": "2022-10-27T21:03:27.509596Z",
     "shell.execute_reply": "2022-10-27T21:03:27.508693Z"
    },
    "papermill": {
     "duration": 0.165563,
     "end_time": "2022-10-27T21:03:27.511780",
     "exception": false,
     "start_time": "2022-10-27T21:03:27.346217",
     "status": "completed"
    },
    "tags": []
   },
   "outputs": [
    {
     "name": "stdout",
     "output_type": "stream",
     "text": [
      "Knn AUC:  0.7093\n",
      "MAE  0.4248\n",
      "0.6547  test score\n",
      "0.6398  cross validate\n",
      "-0.014899999999999913  cross validate difference\n"
     ]
    }
   ],
   "source": [
    "knnFinal = KNeighborsClassifier(n_neighbors =27, p=1, metric='manhattan')\n",
    "\n",
    "#FIT and PREDICT:\n",
    "knnFinal.fit(X_train, y_train)\n",
    "y_pred =  knnFinal.predict_proba(X_test)[::,1]\n",
    "\n",
    "#calculate AUC of model\n",
    "knn_auc = metrics.roc_auc_score(y_test, y_pred ).round(4)\n",
    "print(\"Knn AUC: \", knn_auc)\n",
    "error = mean_absolute_error(y_test, y_pred).round(4)\n",
    "print(\"MAE \", error)\n",
    "\n",
    "knnScore=knnFinal.score(X_test, y_test).round(4)\n",
    "knnCV=cross_validate(knnFinal, X, y, cv=10)\n",
    "knnCV=knnCV['test_score'].mean().round(4)\n",
    "\n",
    "print(knnScore,\" test score\")\n",
    "print(knnCV, \" cross validate\")\n",
    "print(knnCV-knnScore, \" cross validate difference\")\n"
   ]
  },
  {
   "cell_type": "markdown",
   "id": "adf01753",
   "metadata": {
    "papermill": {
     "duration": 0.041913,
     "end_time": "2022-10-27T21:03:27.595978",
     "exception": false,
     "start_time": "2022-10-27T21:03:27.554065",
     "status": "completed"
    },
    "tags": []
   },
   "source": [
    "# Graphs"
   ]
  },
  {
   "cell_type": "code",
   "execution_count": 18,
   "id": "5dfbc043",
   "metadata": {
    "execution": {
     "iopub.execute_input": "2022-10-27T21:03:27.680919Z",
     "iopub.status.busy": "2022-10-27T21:03:27.680418Z",
     "iopub.status.idle": "2022-10-27T21:03:32.219166Z",
     "shell.execute_reply": "2022-10-27T21:03:32.218295Z"
    },
    "papermill": {
     "duration": 4.583993,
     "end_time": "2022-10-27T21:03:32.221425",
     "exception": false,
     "start_time": "2022-10-27T21:03:27.637432",
     "status": "completed"
    },
    "tags": []
   },
   "outputs": [
    {
     "name": "stderr",
     "output_type": "stream",
     "text": [
      "/opt/conda/lib/python3.7/site-packages/sklearn/base.py:451: UserWarning: X does not have valid feature names, but KNeighborsClassifier was fitted with feature names\n",
      "  \"X does not have valid feature names, but\"\n"
     ]
    },
    {
     "data": {
      "image/png": "[encoded data removed]",
      "text/plain": [
       "<Figure size 432x288 with 1 Axes>"
      ]
     },
     "metadata": {
      "needs_background": "light"
     },
     "output_type": "display_data"
    }
   ],
   "source": [
    "value=200\n",
    "width=200\n",
    "from mlxtend.plotting import plot_decision_regions\n",
    "plot_decision_regions(X.values, y.values, clf=knnFinal, legend=2,\n",
    "                     filler_feature_values={2:value, 3: value, 4: value, 5:value, 6:value},\n",
    "                     filler_feature_ranges={2:width, 3: width, 4: width, 5:width, 6:width},\n",
    "                     X_highlight=X_test.values)\n",
    "plt.title(\"Knn with Titanic Data\")\n",
    "plt.show()"
   ]
  },
  {
   "cell_type": "code",
   "execution_count": 19,
   "id": "5c150e8a",
   "metadata": {
    "execution": {
     "iopub.execute_input": "2022-10-27T21:03:32.311435Z",
     "iopub.status.busy": "2022-10-27T21:03:32.311166Z",
     "iopub.status.idle": "2022-10-27T21:03:32.316665Z",
     "shell.execute_reply": "2022-10-27T21:03:32.315823Z"
    },
    "papermill": {
     "duration": 0.053587,
     "end_time": "2022-10-27T21:03:32.318614",
     "exception": false,
     "start_time": "2022-10-27T21:03:32.265027",
     "status": "completed"
    },
    "tags": []
   },
   "outputs": [],
   "source": [
    "def confMatrix():\n",
    "    cnf_matrix=metrics.confusion_matrix(y_test, y_pred)\n",
    "    p=sns.heatmap(pd.DataFrame(cnf_matrix), annot=True, cmap='YlGnBu', fmt='g')\n",
    "    plt.title(\"Confusion Matrix\")\n",
    "    plt.ylabel('Actual Label')\n",
    "    plt.xlabel('Predicted Label')\n",
    "\n",
    "#confMatrix()"
   ]
  },
  {
   "cell_type": "markdown",
   "id": "ec4223da",
   "metadata": {
    "papermill": {
     "duration": 0.042071,
     "end_time": "2022-10-27T21:03:32.403380",
     "exception": false,
     "start_time": "2022-10-27T21:03:32.361309",
     "status": "completed"
    },
    "tags": []
   },
   "source": [
    "# Test Data"
   ]
  },
  {
   "cell_type": "code",
   "execution_count": 20,
   "id": "b4094c41",
   "metadata": {
    "execution": {
     "iopub.execute_input": "2022-10-27T21:03:32.490327Z",
     "iopub.status.busy": "2022-10-27T21:03:32.489788Z",
     "iopub.status.idle": "2022-10-27T21:03:32.507781Z",
     "shell.execute_reply": "2022-10-27T21:03:32.506936Z"
    },
    "papermill": {
     "duration": 0.064065,
     "end_time": "2022-10-27T21:03:32.509961",
     "exception": false,
     "start_time": "2022-10-27T21:03:32.445896",
     "status": "completed"
    },
    "tags": []
   },
   "outputs": [
    {
     "data": {
      "text/html": [
       "<div>\n",
       "<style scoped>\n",
       "    .dataframe tbody tr th:only-of-type {\n",
       "        vertical-align: middle;\n",
       "    }\n",
       "\n",
       "    .dataframe tbody tr th {\n",
       "        vertical-align: top;\n",
       "    }\n",
       "\n",
       "    .dataframe thead th {\n",
       "        text-align: right;\n",
       "    }\n",
       "</style>\n",
       "<table border=\"1\" class=\"dataframe\">\n",
       "  <thead>\n",
       "    <tr style=\"text-align: right;\">\n",
       "      <th></th>\n",
       "      <th>PassengerId</th>\n",
       "      <th>Pclass</th>\n",
       "      <th>Sex</th>\n",
       "      <th>Age</th>\n",
       "      <th>SibSp</th>\n",
       "      <th>Parch</th>\n",
       "      <th>Fare</th>\n",
       "    </tr>\n",
       "  </thead>\n",
       "  <tbody>\n",
       "    <tr>\n",
       "      <th>0</th>\n",
       "      <td>892</td>\n",
       "      <td>3</td>\n",
       "      <td>1</td>\n",
       "      <td>34.5</td>\n",
       "      <td>0</td>\n",
       "      <td>0</td>\n",
       "      <td>7.8292</td>\n",
       "    </tr>\n",
       "    <tr>\n",
       "      <th>1</th>\n",
       "      <td>893</td>\n",
       "      <td>3</td>\n",
       "      <td>0</td>\n",
       "      <td>47.0</td>\n",
       "      <td>1</td>\n",
       "      <td>0</td>\n",
       "      <td>7.0000</td>\n",
       "    </tr>\n",
       "    <tr>\n",
       "      <th>2</th>\n",
       "      <td>894</td>\n",
       "      <td>2</td>\n",
       "      <td>1</td>\n",
       "      <td>62.0</td>\n",
       "      <td>0</td>\n",
       "      <td>0</td>\n",
       "      <td>9.6875</td>\n",
       "    </tr>\n",
       "    <tr>\n",
       "      <th>3</th>\n",
       "      <td>895</td>\n",
       "      <td>3</td>\n",
       "      <td>1</td>\n",
       "      <td>27.0</td>\n",
       "      <td>0</td>\n",
       "      <td>0</td>\n",
       "      <td>8.6625</td>\n",
       "    </tr>\n",
       "    <tr>\n",
       "      <th>4</th>\n",
       "      <td>896</td>\n",
       "      <td>3</td>\n",
       "      <td>0</td>\n",
       "      <td>22.0</td>\n",
       "      <td>1</td>\n",
       "      <td>1</td>\n",
       "      <td>12.2875</td>\n",
       "    </tr>\n",
       "  </tbody>\n",
       "</table>\n",
       "</div>"
      ],
      "text/plain": [
       "   PassengerId  Pclass  Sex   Age  SibSp  Parch     Fare\n",
       "0          892       3    1  34.5      0      0   7.8292\n",
       "1          893       3    0  47.0      1      0   7.0000\n",
       "2          894       2    1  62.0      0      0   9.6875\n",
       "3          895       3    1  27.0      0      0   8.6625\n",
       "4          896       3    0  22.0      1      1  12.2875"
      ]
     },
     "execution_count": 20,
     "metadata": {},
     "output_type": "execute_result"
    }
   ],
   "source": [
    "#GENDER\n",
    "test['Sex']=test['Sex'].map({'female':0,'male':1})\n",
    "\n",
    "features=list(X.columns)\n",
    "test=test[features]\n",
    "\n",
    "test=test.fillna(test.mean())\n",
    "test.head()"
   ]
  },
  {
   "cell_type": "markdown",
   "id": "dd5908fb",
   "metadata": {
    "papermill": {
     "duration": 0.042774,
     "end_time": "2022-10-27T21:03:32.595709",
     "exception": false,
     "start_time": "2022-10-27T21:03:32.552935",
     "status": "completed"
    },
    "tags": []
   },
   "source": [
    "# Final Prediction"
   ]
  },
  {
   "cell_type": "code",
   "execution_count": 21,
   "id": "7030b76a",
   "metadata": {
    "execution": {
     "iopub.execute_input": "2022-10-27T21:03:32.683507Z",
     "iopub.status.busy": "2022-10-27T21:03:32.683239Z",
     "iopub.status.idle": "2022-10-27T21:03:32.710084Z",
     "shell.execute_reply": "2022-10-27T21:03:32.709141Z"
    },
    "papermill": {
     "duration": 0.073267,
     "end_time": "2022-10-27T21:03:32.712126",
     "exception": false,
     "start_time": "2022-10-27T21:03:32.638859",
     "status": "completed"
    },
    "tags": []
   },
   "outputs": [
    {
     "data": {
      "text/html": [
       "<div>\n",
       "<style scoped>\n",
       "    .dataframe tbody tr th:only-of-type {\n",
       "        vertical-align: middle;\n",
       "    }\n",
       "\n",
       "    .dataframe tbody tr th {\n",
       "        vertical-align: top;\n",
       "    }\n",
       "\n",
       "    .dataframe thead th {\n",
       "        text-align: right;\n",
       "    }\n",
       "</style>\n",
       "<table border=\"1\" class=\"dataframe\">\n",
       "  <thead>\n",
       "    <tr style=\"text-align: right;\">\n",
       "      <th></th>\n",
       "      <th>PassengerId</th>\n",
       "      <th>Survived</th>\n",
       "    </tr>\n",
       "  </thead>\n",
       "  <tbody>\n",
       "    <tr>\n",
       "      <th>0</th>\n",
       "      <td>892</td>\n",
       "      <td>0</td>\n",
       "    </tr>\n",
       "    <tr>\n",
       "      <th>1</th>\n",
       "      <td>893</td>\n",
       "      <td>0</td>\n",
       "    </tr>\n",
       "    <tr>\n",
       "      <th>2</th>\n",
       "      <td>894</td>\n",
       "      <td>0</td>\n",
       "    </tr>\n",
       "    <tr>\n",
       "      <th>3</th>\n",
       "      <td>895</td>\n",
       "      <td>0</td>\n",
       "    </tr>\n",
       "    <tr>\n",
       "      <th>4</th>\n",
       "      <td>896</td>\n",
       "      <td>0</td>\n",
       "    </tr>\n",
       "    <tr>\n",
       "      <th>5</th>\n",
       "      <td>897</td>\n",
       "      <td>0</td>\n",
       "    </tr>\n",
       "    <tr>\n",
       "      <th>6</th>\n",
       "      <td>898</td>\n",
       "      <td>0</td>\n",
       "    </tr>\n",
       "  </tbody>\n",
       "</table>\n",
       "</div>"
      ],
      "text/plain": [
       "   PassengerId  Survived\n",
       "0          892         0\n",
       "1          893         0\n",
       "2          894         0\n",
       "3          895         0\n",
       "4          896         0\n",
       "5          897         0\n",
       "6          898         0"
      ]
     },
     "execution_count": 21,
     "metadata": {},
     "output_type": "execute_result"
    }
   ],
   "source": [
    "test_predictions = knnFinal.predict(test)\n",
    "passID=test['PassengerId']\n",
    "tupleData = list(zip(passID, test_predictions))\n",
    "output = pd.DataFrame(tupleData, columns = ['PassengerId', 'Survived'])\n",
    "output.head(7)"
   ]
  },
  {
   "cell_type": "code",
   "execution_count": 22,
   "id": "ff70fcc0",
   "metadata": {
    "execution": {
     "iopub.execute_input": "2022-10-27T21:03:32.801655Z",
     "iopub.status.busy": "2022-10-27T21:03:32.801385Z",
     "iopub.status.idle": "2022-10-27T21:03:32.810326Z",
     "shell.execute_reply": "2022-10-27T21:03:32.809053Z"
    },
    "papermill": {
     "duration": 0.056665,
     "end_time": "2022-10-27T21:03:32.813026",
     "exception": false,
     "start_time": "2022-10-27T21:03:32.756361",
     "status": "completed"
    },
    "tags": []
   },
   "outputs": [
    {
     "name": "stdout",
     "output_type": "stream",
     "text": [
      "Your submission was successfully saved!\n"
     ]
    }
   ],
   "source": [
    "output.to_csv('submission.csv', index=False)\n",
    "print(\"Your submission was successfully saved!\")"
   ]
  },
  {
   "cell_type": "markdown",
   "id": "e418bbaa",
   "metadata": {
    "papermill": {
     "duration": 0.044414,
     "end_time": "2022-10-27T21:03:32.903138",
     "exception": false,
     "start_time": "2022-10-27T21:03:32.858724",
     "status": "completed"
    },
    "tags": []
   },
   "source": [
    "#### Notes:\n",
    "Being a wife makes no difference in the final prediction: <br>\n",
    "` df['Titles'] = df['Name'].str.extract(r', (\\w+\\.)') \n",
    "df['Titles'] = df['Titles'].apply(lambda x: 1 if x=='Mrs.' else 0) `"
   ]
  }
 ],
 "metadata": {
  "kernelspec": {
   "display_name": "Python 3",
   "language": "python",
   "name": "python3"
  },
  "language_info": {
   "codemirror_mode": {
    "name": "ipython",
    "version": 3
   },
   "file_extension": ".py",
   "mimetype": "text/x-python",
   "name": "python",
   "nbconvert_exporter": "python",
   "pygments_lexer": "ipython3",
   "version": "3.7.12"
  },
  "papermill": {
   "default_parameters": {},
   "duration": 30.090457,
   "end_time": "2022-10-27T21:03:33.769912",
   "environment_variables": {},
   "exception": null,
   "input_path": "__notebook__.ipynb",
   "output_path": "__notebook__.ipynb",
   "parameters": {},
   "start_time": "2022-10-27T21:03:03.679455",
   "version": "2.3.4"
  }
 },
 "nbformat": 4,
 "nbformat_minor": 5
}
