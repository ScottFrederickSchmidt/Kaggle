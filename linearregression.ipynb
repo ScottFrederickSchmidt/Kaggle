{
 "cells": [
  {
   "cell_type": "code",
   "execution_count": 1,
   "id": "642bd95d",
   "metadata": {
    "execution": {
     "iopub.execute_input": "2023-11-06T22:02:22.555846Z",
     "iopub.status.busy": "2023-11-06T22:02:22.555071Z",
     "iopub.status.idle": "2023-11-06T22:02:23.397427Z",
     "shell.execute_reply": "2023-11-06T22:02:23.396285Z"
    },
    "papermill": {
     "duration": 0.849371,
     "end_time": "2023-11-06T22:02:23.400127",
     "exception": false,
     "start_time": "2023-11-06T22:02:22.550756",
     "status": "completed"
    },
    "tags": []
   },
   "outputs": [
    {
     "data": {
      "text/html": [
       "<div>\n",
       "<style scoped>\n",
       "    .dataframe tbody tr th:only-of-type {\n",
       "        vertical-align: middle;\n",
       "    }\n",
       "\n",
       "    .dataframe tbody tr th {\n",
       "        vertical-align: top;\n",
       "    }\n",
       "\n",
       "    .dataframe thead th {\n",
       "        text-align: right;\n",
       "    }\n",
       "</style>\n",
       "<table border=\"1\" class=\"dataframe\">\n",
       "  <thead>\n",
       "    <tr style=\"text-align: right;\">\n",
       "      <th></th>\n",
       "      <th>YearsExperience</th>\n",
       "      <th>Salary</th>\n",
       "    </tr>\n",
       "  </thead>\n",
       "  <tbody>\n",
       "    <tr>\n",
       "      <th>0</th>\n",
       "      <td>1.1</td>\n",
       "      <td>39343.0</td>\n",
       "    </tr>\n",
       "    <tr>\n",
       "      <th>1</th>\n",
       "      <td>1.3</td>\n",
       "      <td>46205.0</td>\n",
       "    </tr>\n",
       "    <tr>\n",
       "      <th>2</th>\n",
       "      <td>1.5</td>\n",
       "      <td>37731.0</td>\n",
       "    </tr>\n",
       "    <tr>\n",
       "      <th>3</th>\n",
       "      <td>2.0</td>\n",
       "      <td>43525.0</td>\n",
       "    </tr>\n",
       "    <tr>\n",
       "      <th>4</th>\n",
       "      <td>2.2</td>\n",
       "      <td>39891.0</td>\n",
       "    </tr>\n",
       "  </tbody>\n",
       "</table>\n",
       "</div>"
      ],
      "text/plain": [
       "   YearsExperience   Salary\n",
       "0              1.1  39343.0\n",
       "1              1.3  46205.0\n",
       "2              1.5  37731.0\n",
       "3              2.0  43525.0\n",
       "4              2.2  39891.0"
      ]
     },
     "execution_count": 1,
     "metadata": {},
     "output_type": "execute_result"
    }
   ],
   "source": [
    "import numpy as np # linear algebra\n",
    "import pandas as pd # data processing, CSV file I/O (e.g. pd.read_csv)\n",
    "\n",
    "df=pd.read_csv(r'/kaggle/input/salary-data-simple-linear-regression/Salary_Data.csv')\n",
    "df.head()"
   ]
  },
  {
   "cell_type": "code",
   "execution_count": 2,
   "id": "e2af2540",
   "metadata": {
    "execution": {
     "iopub.execute_input": "2023-11-06T22:02:23.409031Z",
     "iopub.status.busy": "2023-11-06T22:02:23.408281Z",
     "iopub.status.idle": "2023-11-06T22:02:24.888761Z",
     "shell.execute_reply": "2023-11-06T22:02:24.887319Z"
    },
    "papermill": {
     "duration": 1.487053,
     "end_time": "2023-11-06T22:02:24.891694",
     "exception": false,
     "start_time": "2023-11-06T22:02:23.404641",
     "status": "completed"
    },
    "tags": []
   },
   "outputs": [
    {
     "data": {
      "text/plain": [
       "9449.962321455076"
      ]
     },
     "execution_count": 2,
     "metadata": {},
     "output_type": "execute_result"
    }
   ],
   "source": [
    "from sklearn.linear_model import LinearRegression\n",
    "\n",
    "# Load data\n",
    "data = df[['YearsExperience', 'Salary']]\n",
    "\n",
    "# Create and fit the linear regression model\n",
    "model = LinearRegression()\n",
    "model.fit(data[['YearsExperience']], data['Salary'])\n",
    "\n",
    "# Output the slope\n",
    "slope = model.coef_[0]\n",
    "slope"
   ]
  },
  {
   "cell_type": "code",
   "execution_count": 3,
   "id": "34664aa0",
   "metadata": {
    "execution": {
     "iopub.execute_input": "2023-11-06T22:02:24.898618Z",
     "iopub.status.busy": "2023-11-06T22:02:24.898160Z",
     "iopub.status.idle": "2023-11-06T22:02:24.909115Z",
     "shell.execute_reply": "2023-11-06T22:02:24.907101Z"
    },
    "papermill": {
     "duration": 0.017667,
     "end_time": "2023-11-06T22:02:24.911798",
     "exception": false,
     "start_time": "2023-11-06T22:02:24.894131",
     "status": "completed"
    },
    "tags": []
   },
   "outputs": [
    {
     "name": "stdout",
     "output_type": "stream",
     "text": [
      "Slope: 9449.962321455076\n",
      "Predicted Salary at 11.0 years: 129741.78573467453\n"
     ]
    },
    {
     "name": "stderr",
     "output_type": "stream",
     "text": [
      "/opt/conda/lib/python3.10/site-packages/sklearn/base.py:439: UserWarning: X does not have valid feature names, but LinearRegression was fitted with feature names\n",
      "  warnings.warn(\n"
     ]
    }
   ],
   "source": [
    "# Specify the nth year for prediction\n",
    "nth_year = 11.0  # Replace with the desired nth year\n",
    "\n",
    "# Make a prediction for the salary at the nth year\n",
    "predicted_salary = model.predict([[nth_year]])\n",
    "\n",
    "# Output the slope and predicted salary\n",
    "slope = model.coef_[0]\n",
    "print(f\"Slope: {slope}\")\n",
    "print(f\"Predicted Salary at {nth_year} years: {predicted_salary[0]}\")"
   ]
  }
 ],
 "metadata": {
  "kernelspec": {
   "display_name": "Python 3",
   "language": "python",
   "name": "python3"
  },
  "language_info": {
   "codemirror_mode": {
    "name": "ipython",
    "version": 3
   },
   "file_extension": ".py",
   "mimetype": "text/x-python",
   "name": "python",
   "nbconvert_exporter": "python",
   "pygments_lexer": "ipython3",
   "version": "3.10.12"
  },
  "papermill": {
   "default_parameters": {},
   "duration": 7.211956,
   "end_time": "2023-11-06T22:02:25.539804",
   "environment_variables": {},
   "exception": null,
   "input_path": "__notebook__.ipynb",
   "output_path": "__notebook__.ipynb",
   "parameters": {},
   "start_time": "2023-11-06T22:02:18.327848",
   "version": "2.4.0"
  }
 },
 "nbformat": 4,
 "nbformat_minor": 5
}
