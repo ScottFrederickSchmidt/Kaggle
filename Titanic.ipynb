{
 "cells": [
  {
   "cell_type": "markdown",
   "id": "2f5e0125",
   "metadata": {
    "papermill": {
     "duration": 0.040188,
     "end_time": "2022-05-09T15:24:55.552064",
     "exception": false,
     "start_time": "2022-05-09T15:24:55.511876",
     "status": "completed"
    },
    "tags": []
   },
   "source": [
    "# Machine Learning Titanic \n",
    "Use machine learning to create a model that predicts which passengers survived the Titanic shipwreck. The gradient classifier and logistic regression are the best two models that provide the highest best score. Interestingly, the gradient classifier does not have a high AUC but the results cross validate into the test dataset without overfitting the data. "
   ]
  },
  {
   "cell_type": "markdown",
   "id": "32644551",
   "metadata": {
    "papermill": {
     "duration": 0.059883,
     "end_time": "2022-05-09T15:24:55.660371",
     "exception": false,
     "start_time": "2022-05-09T15:24:55.600488",
     "status": "completed"
    },
    "tags": []
   },
   "source": [
    "# Metrics\n",
    "The AUC regression results:\n",
    "* Logistic reg    0.8759\n",
    "* Linear reg      0.8765\n",
    "* Graident reg    0.8739\n",
    "* Decision reg    0.8667\n",
    "* Forest reg      0.8503\n",
    "* Knn reg         0.645\n",
    "\n",
    "The AUC classifier results:\n",
    "* Forest   Classifier     0.8503 || MAE  0.19\n",
    "* Gradient Classifier     0.7609 || MSE 0.2090\n",
    "* Decision Classifier     0.7345 || MSE  0.4771 \n",
    "* KNN      Classifier     0.5975 || MSE  0.5325"
   ]
  },
  {
   "cell_type": "markdown",
   "id": "b76a2d77",
   "metadata": {
    "papermill": {
     "duration": 0.051654,
     "end_time": "2022-05-09T15:24:55.768590",
     "exception": false,
     "start_time": "2022-05-09T15:24:55.716936",
     "status": "completed"
    },
    "tags": []
   },
   "source": [
    "# Train Data\n",
    "Train.csv will contain the details of a subset of the passengers on board (891 to be exact) and whether they survive or not. The shape of the train data is (891, 12). "
   ]
  },
  {
   "cell_type": "code",
   "execution_count": 1,
   "id": "6f007c26",
   "metadata": {
    "execution": {
     "iopub.execute_input": "2022-05-09T15:24:55.845459Z",
     "iopub.status.busy": "2022-05-09T15:24:55.845029Z",
     "iopub.status.idle": "2022-05-09T15:24:57.390939Z",
     "shell.execute_reply": "2022-05-09T15:24:57.389824Z"
    },
    "papermill": {
     "duration": 1.588017,
     "end_time": "2022-05-09T15:24:57.393620",
     "exception": false,
     "start_time": "2022-05-09T15:24:55.805603",
     "status": "completed"
    },
    "tags": []
   },
   "outputs": [
    {
     "name": "stdout",
     "output_type": "stream",
     "text": [
      "(891, 12)\n"
     ]
    },
    {
     "data": {
      "text/html": [
       "<div>\n",
       "<style scoped>\n",
       "    .dataframe tbody tr th:only-of-type {\n",
       "        vertical-align: middle;\n",
       "    }\n",
       "\n",
       "    .dataframe tbody tr th {\n",
       "        vertical-align: top;\n",
       "    }\n",
       "\n",
       "    .dataframe thead th {\n",
       "        text-align: right;\n",
       "    }\n",
       "</style>\n",
       "<table border=\"1\" class=\"dataframe\">\n",
       "  <thead>\n",
       "    <tr style=\"text-align: right;\">\n",
       "      <th></th>\n",
       "      <th>PassengerId</th>\n",
       "      <th>Survived</th>\n",
       "      <th>Pclass</th>\n",
       "      <th>Name</th>\n",
       "      <th>Sex</th>\n",
       "      <th>Age</th>\n",
       "      <th>SibSp</th>\n",
       "      <th>Parch</th>\n",
       "      <th>Ticket</th>\n",
       "      <th>Fare</th>\n",
       "      <th>Cabin</th>\n",
       "      <th>Embarked</th>\n",
       "    </tr>\n",
       "  </thead>\n",
       "  <tbody>\n",
       "    <tr>\n",
       "      <th>0</th>\n",
       "      <td>1</td>\n",
       "      <td>0</td>\n",
       "      <td>3</td>\n",
       "      <td>Braund, Mr. Owen Harris</td>\n",
       "      <td>male</td>\n",
       "      <td>22.0</td>\n",
       "      <td>1</td>\n",
       "      <td>0</td>\n",
       "      <td>A/5 21171</td>\n",
       "      <td>7.2500</td>\n",
       "      <td>NaN</td>\n",
       "      <td>S</td>\n",
       "    </tr>\n",
       "    <tr>\n",
       "      <th>1</th>\n",
       "      <td>2</td>\n",
       "      <td>1</td>\n",
       "      <td>1</td>\n",
       "      <td>Cumings, Mrs. John Bradley (Florence Briggs Th...</td>\n",
       "      <td>female</td>\n",
       "      <td>38.0</td>\n",
       "      <td>1</td>\n",
       "      <td>0</td>\n",
       "      <td>PC 17599</td>\n",
       "      <td>71.2833</td>\n",
       "      <td>C85</td>\n",
       "      <td>C</td>\n",
       "    </tr>\n",
       "    <tr>\n",
       "      <th>2</th>\n",
       "      <td>3</td>\n",
       "      <td>1</td>\n",
       "      <td>3</td>\n",
       "      <td>Heikkinen, Miss. Laina</td>\n",
       "      <td>female</td>\n",
       "      <td>26.0</td>\n",
       "      <td>0</td>\n",
       "      <td>0</td>\n",
       "      <td>STON/O2. 3101282</td>\n",
       "      <td>7.9250</td>\n",
       "      <td>NaN</td>\n",
       "      <td>S</td>\n",
       "    </tr>\n",
       "    <tr>\n",
       "      <th>3</th>\n",
       "      <td>4</td>\n",
       "      <td>1</td>\n",
       "      <td>1</td>\n",
       "      <td>Futrelle, Mrs. Jacques Heath (Lily May Peel)</td>\n",
       "      <td>female</td>\n",
       "      <td>35.0</td>\n",
       "      <td>1</td>\n",
       "      <td>0</td>\n",
       "      <td>113803</td>\n",
       "      <td>53.1000</td>\n",
       "      <td>C123</td>\n",
       "      <td>S</td>\n",
       "    </tr>\n",
       "    <tr>\n",
       "      <th>4</th>\n",
       "      <td>5</td>\n",
       "      <td>0</td>\n",
       "      <td>3</td>\n",
       "      <td>Allen, Mr. William Henry</td>\n",
       "      <td>male</td>\n",
       "      <td>35.0</td>\n",
       "      <td>0</td>\n",
       "      <td>0</td>\n",
       "      <td>373450</td>\n",
       "      <td>8.0500</td>\n",
       "      <td>NaN</td>\n",
       "      <td>S</td>\n",
       "    </tr>\n",
       "  </tbody>\n",
       "</table>\n",
       "</div>"
      ],
      "text/plain": [
       "   PassengerId  Survived  Pclass  \\\n",
       "0            1         0       3   \n",
       "1            2         1       1   \n",
       "2            3         1       3   \n",
       "3            4         1       1   \n",
       "4            5         0       3   \n",
       "\n",
       "                                                Name     Sex   Age  SibSp  \\\n",
       "0                            Braund, Mr. Owen Harris    male  22.0      1   \n",
       "1  Cumings, Mrs. John Bradley (Florence Briggs Th...  female  38.0      1   \n",
       "2                             Heikkinen, Miss. Laina  female  26.0      0   \n",
       "3       Futrelle, Mrs. Jacques Heath (Lily May Peel)  female  35.0      1   \n",
       "4                           Allen, Mr. William Henry    male  35.0      0   \n",
       "\n",
       "   Parch            Ticket     Fare Cabin Embarked  \n",
       "0      0         A/5 21171   7.2500   NaN        S  \n",
       "1      0          PC 17599  71.2833   C85        C  \n",
       "2      0  STON/O2. 3101282   7.9250   NaN        S  \n",
       "3      0            113803  53.1000  C123        S  \n",
       "4      0            373450   8.0500   NaN        S  "
      ]
     },
     "execution_count": 1,
     "metadata": {},
     "output_type": "execute_result"
    }
   ],
   "source": [
    "import numpy as np\n",
    "import pandas as pd\n",
    "import seaborn as sns\n",
    "import matplotlib.pyplot as plt\n",
    "from sklearn.model_selection import train_test_split, cross_validate\n",
    "from statistics import mean\n",
    "from sklearn.metrics import accuracy_score, classification_report, mean_absolute_error, mean_squared_error, r2_score\n",
    "from sklearn.datasets import make_classification\n",
    "from sklearn import ensemble\n",
    "import sklearn.metrics as metrics\n",
    "import time\n",
    "from math import sqrt\n",
    "\n",
    "train=r'/kaggle/input/titanic/train.csv'\n",
    "test=r'/kaggle/input/titanic/test.csv'\n",
    "\n",
    "df=pd.read_csv(train)\n",
    "print(df.shape)\n",
    "df.head()"
   ]
  },
  {
   "cell_type": "code",
   "execution_count": 2,
   "id": "2c2dd790",
   "metadata": {
    "execution": {
     "iopub.execute_input": "2022-05-09T15:24:57.469626Z",
     "iopub.status.busy": "2022-05-09T15:24:57.469364Z",
     "iopub.status.idle": "2022-05-09T15:24:57.476722Z",
     "shell.execute_reply": "2022-05-09T15:24:57.475818Z"
    },
    "papermill": {
     "duration": 0.047538,
     "end_time": "2022-05-09T15:24:57.478706",
     "exception": false,
     "start_time": "2022-05-09T15:24:57.431168",
     "status": "completed"
    },
    "tags": []
   },
   "outputs": [
    {
     "data": {
      "text/plain": [
       "PassengerId      int64\n",
       "Survived         int64\n",
       "Pclass           int64\n",
       "Name            object\n",
       "Sex             object\n",
       "Age            float64\n",
       "SibSp            int64\n",
       "Parch            int64\n",
       "Ticket          object\n",
       "Fare           float64\n",
       "Cabin           object\n",
       "Embarked        object\n",
       "dtype: object"
      ]
     },
     "execution_count": 2,
     "metadata": {},
     "output_type": "execute_result"
    }
   ],
   "source": [
    "df.dtypes"
   ]
  },
  {
   "cell_type": "code",
   "execution_count": 3,
   "id": "c4805330",
   "metadata": {
    "execution": {
     "iopub.execute_input": "2022-05-09T15:24:57.555804Z",
     "iopub.status.busy": "2022-05-09T15:24:57.555288Z",
     "iopub.status.idle": "2022-05-09T15:24:57.563506Z",
     "shell.execute_reply": "2022-05-09T15:24:57.562679Z"
    },
    "papermill": {
     "duration": 0.049127,
     "end_time": "2022-05-09T15:24:57.565950",
     "exception": false,
     "start_time": "2022-05-09T15:24:57.516823",
     "status": "completed"
    },
    "tags": []
   },
   "outputs": [
    {
     "name": "stdout",
     "output_type": "stream",
     "text": [
      "Missing data by column as a percent:\n",
      "Cabin          0.771044\n",
      "Age            0.198653\n",
      "Embarked       0.002245\n",
      "PassengerId    0.000000\n",
      "Survived       0.000000\n",
      "dtype: float64\n"
     ]
    }
   ],
   "source": [
    "#search for columns with missing values:\n",
    "def findNA():\n",
    "    print(\"Missing data by column as a percent:\")\n",
    "    findNA=df.isnull().sum().sort_values(ascending=False)/len(df)\n",
    "    print(findNA.head())\n",
    "findNA() "
   ]
  },
  {
   "cell_type": "markdown",
   "id": "b9fea9f4",
   "metadata": {
    "papermill": {
     "duration": 0.037425,
     "end_time": "2022-05-09T15:24:57.642846",
     "exception": false,
     "start_time": "2022-05-09T15:24:57.605421",
     "status": "completed"
    },
    "tags": []
   },
   "source": [
    "# Feature Engineer\n",
    "We need to replace male and female into numbers. This is a very important part of the process because gender is one of the highest predictors on if a person survived or not."
   ]
  },
  {
   "cell_type": "code",
   "execution_count": 4,
   "id": "992ede8d",
   "metadata": {
    "execution": {
     "iopub.execute_input": "2022-05-09T15:24:57.720558Z",
     "iopub.status.busy": "2022-05-09T15:24:57.719835Z",
     "iopub.status.idle": "2022-05-09T15:24:57.731534Z",
     "shell.execute_reply": "2022-05-09T15:24:57.730819Z"
    },
    "papermill": {
     "duration": 0.052332,
     "end_time": "2022-05-09T15:24:57.733267",
     "exception": false,
     "start_time": "2022-05-09T15:24:57.680935",
     "status": "completed"
    },
    "tags": []
   },
   "outputs": [],
   "source": [
    "#GENDER\n",
    "df['Sex']=df['Sex'].map({'female':0,'male':1})"
   ]
  },
  {
   "cell_type": "markdown",
   "id": "10aaba01",
   "metadata": {
    "papermill": {
     "duration": 0.037803,
     "end_time": "2022-05-09T15:24:57.809574",
     "exception": false,
     "start_time": "2022-05-09T15:24:57.771771",
     "status": "completed"
    },
    "tags": []
   },
   "source": [
    "Females whose number is 0 had a much higher chance of surving than males. Later on, doing the importance feature analysis we will view that gender is actually one of the highest predictors. "
   ]
  },
  {
   "cell_type": "markdown",
   "id": "4029f4b4",
   "metadata": {
    "_kg_hide-input": true,
    "papermill": {
     "duration": 0.039503,
     "end_time": "2022-05-09T15:24:57.887301",
     "exception": false,
     "start_time": "2022-05-09T15:24:57.847798",
     "status": "completed"
    },
    "tags": []
   },
   "source": [
    "Being a wife make no difference in the final prediction: <br>\n",
    "df['Titles'] = df['Name'].str.extract(r', (\\w+\\.)') <br>\n",
    "df['Titles'] = df['Titles'].apply(lambda x: 1 if x=='Mrs.' else 0)"
   ]
  },
  {
   "cell_type": "code",
   "execution_count": 5,
   "id": "39f1263f",
   "metadata": {
    "execution": {
     "iopub.execute_input": "2022-05-09T15:24:57.966672Z",
     "iopub.status.busy": "2022-05-09T15:24:57.966394Z",
     "iopub.status.idle": "2022-05-09T15:24:57.995580Z",
     "shell.execute_reply": "2022-05-09T15:24:57.994804Z"
    },
    "papermill": {
     "duration": 0.070506,
     "end_time": "2022-05-09T15:24:57.997463",
     "exception": false,
     "start_time": "2022-05-09T15:24:57.926957",
     "status": "completed"
    },
    "tags": []
   },
   "outputs": [
    {
     "data": {
      "text/html": [
       "<div>\n",
       "<style scoped>\n",
       "    .dataframe tbody tr th:only-of-type {\n",
       "        vertical-align: middle;\n",
       "    }\n",
       "\n",
       "    .dataframe tbody tr th {\n",
       "        vertical-align: top;\n",
       "    }\n",
       "\n",
       "    .dataframe thead th {\n",
       "        text-align: right;\n",
       "    }\n",
       "</style>\n",
       "<table border=\"1\" class=\"dataframe\">\n",
       "  <thead>\n",
       "    <tr style=\"text-align: right;\">\n",
       "      <th>Sex</th>\n",
       "      <th>0</th>\n",
       "      <th>1</th>\n",
       "    </tr>\n",
       "    <tr>\n",
       "      <th>Survived</th>\n",
       "      <th></th>\n",
       "      <th></th>\n",
       "    </tr>\n",
       "  </thead>\n",
       "  <tbody>\n",
       "    <tr>\n",
       "      <th>0</th>\n",
       "      <td>81</td>\n",
       "      <td>468</td>\n",
       "    </tr>\n",
       "    <tr>\n",
       "      <th>1</th>\n",
       "      <td>233</td>\n",
       "      <td>109</td>\n",
       "    </tr>\n",
       "  </tbody>\n",
       "</table>\n",
       "</div>"
      ],
      "text/plain": [
       "Sex         0    1\n",
       "Survived          \n",
       "0          81  468\n",
       "1         233  109"
      ]
     },
     "execution_count": 5,
     "metadata": {},
     "output_type": "execute_result"
    }
   ],
   "source": [
    "genderTable = pd.crosstab(df['Survived'],df['Sex'])\n",
    "genderTable"
   ]
  },
  {
   "cell_type": "markdown",
   "id": "e8766f57",
   "metadata": {
    "papermill": {
     "duration": 0.038337,
     "end_time": "2022-05-09T15:24:58.074387",
     "exception": false,
     "start_time": "2022-05-09T15:24:58.036050",
     "status": "completed"
    },
    "tags": []
   },
   "source": [
    "#### Embarked Column"
   ]
  },
  {
   "cell_type": "code",
   "execution_count": 6,
   "id": "ac7ce698",
   "metadata": {
    "execution": {
     "iopub.execute_input": "2022-05-09T15:24:58.153593Z",
     "iopub.status.busy": "2022-05-09T15:24:58.153346Z",
     "iopub.status.idle": "2022-05-09T15:24:58.158469Z",
     "shell.execute_reply": "2022-05-09T15:24:58.157927Z"
    },
    "papermill": {
     "duration": 0.046997,
     "end_time": "2022-05-09T15:24:58.160242",
     "exception": false,
     "start_time": "2022-05-09T15:24:58.113245",
     "status": "completed"
    },
    "tags": []
   },
   "outputs": [
    {
     "data": {
      "text/plain": [
       "array(['S', 'C', 'Q', nan], dtype=object)"
      ]
     },
     "execution_count": 6,
     "metadata": {},
     "output_type": "execute_result"
    }
   ],
   "source": [
    "df['Embarked'].unique()"
   ]
  },
  {
   "cell_type": "code",
   "execution_count": 7,
   "id": "c479c826",
   "metadata": {
    "execution": {
     "iopub.execute_input": "2022-05-09T15:24:58.244155Z",
     "iopub.status.busy": "2022-05-09T15:24:58.243895Z",
     "iopub.status.idle": "2022-05-09T15:24:58.262951Z",
     "shell.execute_reply": "2022-05-09T15:24:58.262332Z"
    },
    "papermill": {
     "duration": 0.062011,
     "end_time": "2022-05-09T15:24:58.264581",
     "exception": false,
     "start_time": "2022-05-09T15:24:58.202570",
     "status": "completed"
    },
    "tags": []
   },
   "outputs": [
    {
     "data": {
      "text/html": [
       "<div>\n",
       "<style scoped>\n",
       "    .dataframe tbody tr th:only-of-type {\n",
       "        vertical-align: middle;\n",
       "    }\n",
       "\n",
       "    .dataframe tbody tr th {\n",
       "        vertical-align: top;\n",
       "    }\n",
       "\n",
       "    .dataframe thead th {\n",
       "        text-align: right;\n",
       "    }\n",
       "</style>\n",
       "<table border=\"1\" class=\"dataframe\">\n",
       "  <thead>\n",
       "    <tr style=\"text-align: right;\">\n",
       "      <th>Embarked</th>\n",
       "      <th>C</th>\n",
       "      <th>Q</th>\n",
       "      <th>S</th>\n",
       "    </tr>\n",
       "    <tr>\n",
       "      <th>Survived</th>\n",
       "      <th></th>\n",
       "      <th></th>\n",
       "      <th></th>\n",
       "    </tr>\n",
       "  </thead>\n",
       "  <tbody>\n",
       "    <tr>\n",
       "      <th>0</th>\n",
       "      <td>75</td>\n",
       "      <td>47</td>\n",
       "      <td>427</td>\n",
       "    </tr>\n",
       "    <tr>\n",
       "      <th>1</th>\n",
       "      <td>93</td>\n",
       "      <td>30</td>\n",
       "      <td>217</td>\n",
       "    </tr>\n",
       "  </tbody>\n",
       "</table>\n",
       "</div>"
      ],
      "text/plain": [
       "Embarked   C   Q    S\n",
       "Survived             \n",
       "0         75  47  427\n",
       "1         93  30  217"
      ]
     },
     "execution_count": 7,
     "metadata": {},
     "output_type": "execute_result"
    }
   ],
   "source": [
    "df['Embarked'].fillna(0)\n",
    "embarkedTable = pd.crosstab(df['Survived'],df['Embarked'])\n",
    "embarkedTable"
   ]
  },
  {
   "cell_type": "code",
   "execution_count": 8,
   "id": "961765f8",
   "metadata": {
    "execution": {
     "iopub.execute_input": "2022-05-09T15:24:58.344234Z",
     "iopub.status.busy": "2022-05-09T15:24:58.343960Z",
     "iopub.status.idle": "2022-05-09T15:24:58.360438Z",
     "shell.execute_reply": "2022-05-09T15:24:58.359443Z"
    },
    "papermill": {
     "duration": 0.058878,
     "end_time": "2022-05-09T15:24:58.362520",
     "exception": false,
     "start_time": "2022-05-09T15:24:58.303642",
     "status": "completed"
    },
    "tags": []
   },
   "outputs": [
    {
     "data": {
      "text/html": [
       "<div>\n",
       "<style scoped>\n",
       "    .dataframe tbody tr th:only-of-type {\n",
       "        vertical-align: middle;\n",
       "    }\n",
       "\n",
       "    .dataframe tbody tr th {\n",
       "        vertical-align: top;\n",
       "    }\n",
       "\n",
       "    .dataframe thead th {\n",
       "        text-align: right;\n",
       "    }\n",
       "</style>\n",
       "<table border=\"1\" class=\"dataframe\">\n",
       "  <thead>\n",
       "    <tr style=\"text-align: right;\">\n",
       "      <th></th>\n",
       "      <th>PassengerId</th>\n",
       "      <th>Survived</th>\n",
       "      <th>Pclass</th>\n",
       "      <th>Name</th>\n",
       "      <th>Sex</th>\n",
       "      <th>Age</th>\n",
       "      <th>SibSp</th>\n",
       "      <th>Parch</th>\n",
       "      <th>Ticket</th>\n",
       "      <th>Fare</th>\n",
       "      <th>Cabin</th>\n",
       "      <th>Embarked</th>\n",
       "    </tr>\n",
       "  </thead>\n",
       "  <tbody>\n",
       "    <tr>\n",
       "      <th>0</th>\n",
       "      <td>1</td>\n",
       "      <td>0</td>\n",
       "      <td>3</td>\n",
       "      <td>Braund, Mr. Owen Harris</td>\n",
       "      <td>1</td>\n",
       "      <td>22.0</td>\n",
       "      <td>1</td>\n",
       "      <td>0</td>\n",
       "      <td>A/5 21171</td>\n",
       "      <td>7.2500</td>\n",
       "      <td>NaN</td>\n",
       "      <td>1.0</td>\n",
       "    </tr>\n",
       "    <tr>\n",
       "      <th>1</th>\n",
       "      <td>2</td>\n",
       "      <td>1</td>\n",
       "      <td>1</td>\n",
       "      <td>Cumings, Mrs. John Bradley (Florence Briggs Th...</td>\n",
       "      <td>0</td>\n",
       "      <td>38.0</td>\n",
       "      <td>1</td>\n",
       "      <td>0</td>\n",
       "      <td>PC 17599</td>\n",
       "      <td>71.2833</td>\n",
       "      <td>C85</td>\n",
       "      <td>0.0</td>\n",
       "    </tr>\n",
       "    <tr>\n",
       "      <th>2</th>\n",
       "      <td>3</td>\n",
       "      <td>1</td>\n",
       "      <td>3</td>\n",
       "      <td>Heikkinen, Miss. Laina</td>\n",
       "      <td>0</td>\n",
       "      <td>26.0</td>\n",
       "      <td>0</td>\n",
       "      <td>0</td>\n",
       "      <td>STON/O2. 3101282</td>\n",
       "      <td>7.9250</td>\n",
       "      <td>NaN</td>\n",
       "      <td>1.0</td>\n",
       "    </tr>\n",
       "    <tr>\n",
       "      <th>3</th>\n",
       "      <td>4</td>\n",
       "      <td>1</td>\n",
       "      <td>1</td>\n",
       "      <td>Futrelle, Mrs. Jacques Heath (Lily May Peel)</td>\n",
       "      <td>0</td>\n",
       "      <td>35.0</td>\n",
       "      <td>1</td>\n",
       "      <td>0</td>\n",
       "      <td>113803</td>\n",
       "      <td>53.1000</td>\n",
       "      <td>C123</td>\n",
       "      <td>1.0</td>\n",
       "    </tr>\n",
       "    <tr>\n",
       "      <th>4</th>\n",
       "      <td>5</td>\n",
       "      <td>0</td>\n",
       "      <td>3</td>\n",
       "      <td>Allen, Mr. William Henry</td>\n",
       "      <td>1</td>\n",
       "      <td>35.0</td>\n",
       "      <td>0</td>\n",
       "      <td>0</td>\n",
       "      <td>373450</td>\n",
       "      <td>8.0500</td>\n",
       "      <td>NaN</td>\n",
       "      <td>1.0</td>\n",
       "    </tr>\n",
       "  </tbody>\n",
       "</table>\n",
       "</div>"
      ],
      "text/plain": [
       "   PassengerId  Survived  Pclass  \\\n",
       "0            1         0       3   \n",
       "1            2         1       1   \n",
       "2            3         1       3   \n",
       "3            4         1       1   \n",
       "4            5         0       3   \n",
       "\n",
       "                                                Name  Sex   Age  SibSp  Parch  \\\n",
       "0                            Braund, Mr. Owen Harris    1  22.0      1      0   \n",
       "1  Cumings, Mrs. John Bradley (Florence Briggs Th...    0  38.0      1      0   \n",
       "2                             Heikkinen, Miss. Laina    0  26.0      0      0   \n",
       "3       Futrelle, Mrs. Jacques Heath (Lily May Peel)    0  35.0      1      0   \n",
       "4                           Allen, Mr. William Henry    1  35.0      0      0   \n",
       "\n",
       "             Ticket     Fare Cabin  Embarked  \n",
       "0         A/5 21171   7.2500   NaN       1.0  \n",
       "1          PC 17599  71.2833   C85       0.0  \n",
       "2  STON/O2. 3101282   7.9250   NaN       1.0  \n",
       "3            113803  53.1000  C123       1.0  \n",
       "4            373450   8.0500   NaN       1.0  "
      ]
     },
     "execution_count": 8,
     "metadata": {},
     "output_type": "execute_result"
    }
   ],
   "source": [
    "df['Embarked']=df['Embarked'].map({'C':0,'Q':0, 'S':1})\n",
    "df.head()"
   ]
  },
  {
   "cell_type": "markdown",
   "id": "cc6cc769",
   "metadata": {
    "papermill": {
     "duration": 0.040004,
     "end_time": "2022-05-09T15:24:58.443210",
     "exception": false,
     "start_time": "2022-05-09T15:24:58.403206",
     "status": "completed"
    },
    "tags": []
   },
   "source": [
    "# Examine Target Variable\n",
    "Survived is the Y variable we will be analyzing. Since the survival rete is 0.384 the data is not considered unbalanced. "
   ]
  },
  {
   "cell_type": "code",
   "execution_count": 9,
   "id": "5e2a3e4f",
   "metadata": {
    "execution": {
     "iopub.execute_input": "2022-05-09T15:24:58.525451Z",
     "iopub.status.busy": "2022-05-09T15:24:58.525185Z",
     "iopub.status.idle": "2022-05-09T15:24:58.532713Z",
     "shell.execute_reply": "2022-05-09T15:24:58.531828Z"
    },
    "papermill": {
     "duration": 0.051573,
     "end_time": "2022-05-09T15:24:58.534841",
     "exception": false,
     "start_time": "2022-05-09T15:24:58.483268",
     "status": "completed"
    },
    "tags": []
   },
   "outputs": [
    {
     "name": "stdout",
     "output_type": "stream",
     "text": [
      "0    549\n",
      "1    342\n",
      "Name: Survived, dtype: int64\n",
      "Percent that survived:  0.384\n"
     ]
    }
   ],
   "source": [
    "temp=df['Survived'].value_counts()\n",
    "print(temp)\n",
    "no=temp[0]\n",
    "yes=temp[1]\n",
    "percent=round(yes/(yes+no),3)\n",
    "print(\"Percent that survived: \", percent)"
   ]
  },
  {
   "cell_type": "markdown",
   "id": "787f31ee",
   "metadata": {
    "papermill": {
     "duration": 0.039968,
     "end_time": "2022-05-09T15:24:58.615181",
     "exception": false,
     "start_time": "2022-05-09T15:24:58.575213",
     "status": "completed"
    },
    "tags": []
   },
   "source": [
    "# Numeric DataFrame\n",
    "For now, we will analyze only numeric values. Categorical values will need to be encoded or analyzed individually."
   ]
  },
  {
   "cell_type": "code",
   "execution_count": 10,
   "id": "c1b15e95",
   "metadata": {
    "execution": {
     "iopub.execute_input": "2022-05-09T15:24:58.699512Z",
     "iopub.status.busy": "2022-05-09T15:24:58.699227Z",
     "iopub.status.idle": "2022-05-09T15:24:58.714997Z",
     "shell.execute_reply": "2022-05-09T15:24:58.714146Z"
    },
    "papermill": {
     "duration": 0.060461,
     "end_time": "2022-05-09T15:24:58.716889",
     "exception": false,
     "start_time": "2022-05-09T15:24:58.656428",
     "status": "completed"
    },
    "tags": []
   },
   "outputs": [
    {
     "data": {
      "text/html": [
       "<div>\n",
       "<style scoped>\n",
       "    .dataframe tbody tr th:only-of-type {\n",
       "        vertical-align: middle;\n",
       "    }\n",
       "\n",
       "    .dataframe tbody tr th {\n",
       "        vertical-align: top;\n",
       "    }\n",
       "\n",
       "    .dataframe thead th {\n",
       "        text-align: right;\n",
       "    }\n",
       "</style>\n",
       "<table border=\"1\" class=\"dataframe\">\n",
       "  <thead>\n",
       "    <tr style=\"text-align: right;\">\n",
       "      <th></th>\n",
       "      <th>PassengerId</th>\n",
       "      <th>Survived</th>\n",
       "      <th>Pclass</th>\n",
       "      <th>Sex</th>\n",
       "      <th>Age</th>\n",
       "      <th>SibSp</th>\n",
       "      <th>Parch</th>\n",
       "      <th>Fare</th>\n",
       "      <th>Embarked</th>\n",
       "    </tr>\n",
       "  </thead>\n",
       "  <tbody>\n",
       "    <tr>\n",
       "      <th>0</th>\n",
       "      <td>1</td>\n",
       "      <td>0</td>\n",
       "      <td>3</td>\n",
       "      <td>1</td>\n",
       "      <td>22.0</td>\n",
       "      <td>1</td>\n",
       "      <td>0</td>\n",
       "      <td>7.2500</td>\n",
       "      <td>1.0</td>\n",
       "    </tr>\n",
       "    <tr>\n",
       "      <th>1</th>\n",
       "      <td>2</td>\n",
       "      <td>1</td>\n",
       "      <td>1</td>\n",
       "      <td>0</td>\n",
       "      <td>38.0</td>\n",
       "      <td>1</td>\n",
       "      <td>0</td>\n",
       "      <td>71.2833</td>\n",
       "      <td>0.0</td>\n",
       "    </tr>\n",
       "    <tr>\n",
       "      <th>2</th>\n",
       "      <td>3</td>\n",
       "      <td>1</td>\n",
       "      <td>3</td>\n",
       "      <td>0</td>\n",
       "      <td>26.0</td>\n",
       "      <td>0</td>\n",
       "      <td>0</td>\n",
       "      <td>7.9250</td>\n",
       "      <td>1.0</td>\n",
       "    </tr>\n",
       "    <tr>\n",
       "      <th>3</th>\n",
       "      <td>4</td>\n",
       "      <td>1</td>\n",
       "      <td>1</td>\n",
       "      <td>0</td>\n",
       "      <td>35.0</td>\n",
       "      <td>1</td>\n",
       "      <td>0</td>\n",
       "      <td>53.1000</td>\n",
       "      <td>1.0</td>\n",
       "    </tr>\n",
       "    <tr>\n",
       "      <th>4</th>\n",
       "      <td>5</td>\n",
       "      <td>0</td>\n",
       "      <td>3</td>\n",
       "      <td>1</td>\n",
       "      <td>35.0</td>\n",
       "      <td>0</td>\n",
       "      <td>0</td>\n",
       "      <td>8.0500</td>\n",
       "      <td>1.0</td>\n",
       "    </tr>\n",
       "  </tbody>\n",
       "</table>\n",
       "</div>"
      ],
      "text/plain": [
       "   PassengerId  Survived  Pclass  Sex   Age  SibSp  Parch     Fare  Embarked\n",
       "0            1         0       3    1  22.0      1      0   7.2500       1.0\n",
       "1            2         1       1    0  38.0      1      0  71.2833       0.0\n",
       "2            3         1       3    0  26.0      0      0   7.9250       1.0\n",
       "3            4         1       1    0  35.0      1      0  53.1000       1.0\n",
       "4            5         0       3    1  35.0      0      0   8.0500       1.0"
      ]
     },
     "execution_count": 10,
     "metadata": {},
     "output_type": "execute_result"
    }
   ],
   "source": [
    "numerics = ['int16', 'int32', 'int64', 'float16', 'float32', 'float64']\n",
    "df = df.select_dtypes(include=numerics)\n",
    "df.head()"
   ]
  },
  {
   "cell_type": "markdown",
   "id": "913ea825",
   "metadata": {
    "papermill": {
     "duration": 0.040701,
     "end_time": "2022-05-09T15:24:58.797865",
     "exception": false,
     "start_time": "2022-05-09T15:24:58.757164",
     "status": "completed"
    },
    "tags": []
   },
   "source": [
    "# Check for missing values\n",
    "Age is missing around 20% of values.Therefore, we can simply fill in the mean for that one column."
   ]
  },
  {
   "cell_type": "code",
   "execution_count": 11,
   "id": "e43d8ed8",
   "metadata": {
    "execution": {
     "iopub.execute_input": "2022-05-09T15:24:58.880929Z",
     "iopub.status.busy": "2022-05-09T15:24:58.880641Z",
     "iopub.status.idle": "2022-05-09T15:24:58.888399Z",
     "shell.execute_reply": "2022-05-09T15:24:58.887448Z"
    },
    "papermill": {
     "duration": 0.052467,
     "end_time": "2022-05-09T15:24:58.890798",
     "exception": false,
     "start_time": "2022-05-09T15:24:58.838331",
     "status": "completed"
    },
    "tags": []
   },
   "outputs": [
    {
     "name": "stdout",
     "output_type": "stream",
     "text": [
      "Missing data by column as a percent:\n",
      "Age            0.198653\n",
      "Embarked       0.002245\n",
      "PassengerId    0.000000\n",
      "Survived       0.000000\n",
      "Pclass         0.000000\n",
      "dtype: float64\n"
     ]
    }
   ],
   "source": [
    "#search for columns with missing values:\n",
    "def findNA():\n",
    "    print(\"Missing data by column as a percent:\")\n",
    "    findNA=df.isnull().sum().sort_values(ascending=False)/len(df)\n",
    "    print(findNA.head())\n",
    "findNA() "
   ]
  },
  {
   "cell_type": "code",
   "execution_count": 12,
   "id": "ba90a3e4",
   "metadata": {
    "execution": {
     "iopub.execute_input": "2022-05-09T15:24:58.973949Z",
     "iopub.status.busy": "2022-05-09T15:24:58.973641Z",
     "iopub.status.idle": "2022-05-09T15:24:58.981386Z",
     "shell.execute_reply": "2022-05-09T15:24:58.980427Z"
    },
    "papermill": {
     "duration": 0.052086,
     "end_time": "2022-05-09T15:24:58.983401",
     "exception": false,
     "start_time": "2022-05-09T15:24:58.931315",
     "status": "completed"
    },
    "tags": []
   },
   "outputs": [],
   "source": [
    "df= df.fillna(df.mean())"
   ]
  },
  {
   "cell_type": "markdown",
   "id": "d02b2a7c",
   "metadata": {
    "papermill": {
     "duration": 0.041172,
     "end_time": "2022-05-09T15:24:59.065096",
     "exception": false,
     "start_time": "2022-05-09T15:24:59.023924",
     "status": "completed"
    },
    "tags": []
   },
   "source": [
    "# Split Data"
   ]
  },
  {
   "cell_type": "code",
   "execution_count": 13,
   "id": "c508cc1a",
   "metadata": {
    "execution": {
     "iopub.execute_input": "2022-05-09T15:24:59.150259Z",
     "iopub.status.busy": "2022-05-09T15:24:59.149983Z",
     "iopub.status.idle": "2022-05-09T15:24:59.156663Z",
     "shell.execute_reply": "2022-05-09T15:24:59.155972Z"
    },
    "papermill": {
     "duration": 0.051816,
     "end_time": "2022-05-09T15:24:59.158338",
     "exception": false,
     "start_time": "2022-05-09T15:24:59.106522",
     "status": "completed"
    },
    "tags": []
   },
   "outputs": [],
   "source": [
    "X=df.drop('Survived', axis=1)\n",
    "y=df['Survived']\n",
    "\n",
    "X_train, X_test, y_train, y_test = train_test_split(\n",
    "    X, y, test_size = 0.30, random_state = 42)"
   ]
  },
  {
   "cell_type": "markdown",
   "id": "767b645a",
   "metadata": {
    "papermill": {
     "duration": 0.039899,
     "end_time": "2022-05-09T15:24:59.239288",
     "exception": false,
     "start_time": "2022-05-09T15:24:59.199389",
     "status": "completed"
    },
    "tags": []
   },
   "source": [
    "# Highly Correlated Features\n",
    "There are no highly correlated variables above 80%. Therefore, we do not need to be concerned about removing variables that are too highly correlated. "
   ]
  },
  {
   "cell_type": "markdown",
   "id": "74f5b2a7",
   "metadata": {
    "papermill": {
     "duration": 0.039969,
     "end_time": "2022-05-09T15:24:59.319433",
     "exception": false,
     "start_time": "2022-05-09T15:24:59.279464",
     "status": "completed"
    },
    "tags": []
   },
   "source": [
    "# Gradient Boost \n",
    "The four parameters I tunned are max_depth, n_estimators, min_sample_split and learning_rate:\n",
    "* The best max_depth is 2\n",
    "* The best n_estimators is 500\n",
    "* The best min_sample_split with least amount of error was at 7\n",
    "* Having a higher learning rate makes AUC worse so I set it at .01\n",
    "\n",
    "The full parameter reports are below: <br>\n",
    "* 2  max_depth || AUC  0.8739  || MSE 0.1378\n",
    "* 3  max_depth || AUC  0.8689  || MSE 0.1410\n",
    "* 4  max_depth || AUC  0.86  || MSE 0.1407\n",
    "* 5  max_depth || AUC  0.8567  || MSE 0.1485\n",
    "* 100  n_estimators || AUC  0.8632  || MSE 0.1600\n",
    "* 200  n_estimators || AUC  0.8726  || MSE 0.1471\n",
    "* 300  n_estimators || AUC  0.8703  || MSE 0.1414\n",
    "* 400  n_estimators || AUC  0.8732  || MSE 0.1389\n",
    "* 500  n_estimators || AUC  0.874  || MSE 0.1378\n",
    "* 2  min_samples_splits || AUC  0.8739  || MSE 0.1378\n",
    "* 3  min_samples_splits || AUC  0.8738  || MSE 0.1378\n",
    "* 5  min_samples_splits || AUC  0.8739  || MSE 0.1378"
   ]
  },
  {
   "cell_type": "code",
   "execution_count": 14,
   "id": "12f41aa6",
   "metadata": {
    "execution": {
     "iopub.execute_input": "2022-05-09T15:24:59.401413Z",
     "iopub.status.busy": "2022-05-09T15:24:59.400882Z",
     "iopub.status.idle": "2022-05-09T15:24:59.420583Z",
     "shell.execute_reply": "2022-05-09T15:24:59.419924Z"
    },
    "papermill": {
     "duration": 0.063302,
     "end_time": "2022-05-09T15:24:59.422801",
     "exception": false,
     "start_time": "2022-05-09T15:24:59.359499",
     "status": "completed"
    },
    "tags": []
   },
   "outputs": [],
   "source": [
    "from sklearn.inspection import permutation_importance\n",
    "from sklearn.ensemble import GradientBoostingClassifier,GradientBoostingRegressor\n",
    "\n",
    "def gbDepth():\n",
    "    depthList=[2, 3, 4, 5]\n",
    "    \n",
    "    for d in depthList:\n",
    "        params = {\n",
    "         \"n_estimators\": 500, \"max_depth\": d, \"min_samples_split\": 5, \"learning_rate\": 0.01,\n",
    "        }\n",
    "\n",
    "        #Fit and Predict:\n",
    "        reg = ensemble.GradientBoostingRegressor(**params)\n",
    "        reg.fit(X_train, y_train)\n",
    "        y_pred = reg.predict(X_test)\n",
    "        gbr_r2 = r2_score(y_test, y_pred).round(4) \n",
    "        #print(\"Gradient boosting regression r2: \", gbr_r2) \n",
    "\n",
    "        #calculate AUC of model\n",
    "        auc = round( metrics.roc_auc_score(y_test, y_pred), 4 ) \n",
    "        mse = mean_squared_error(y_test, reg.predict(X_test)).round(4)\n",
    "        print(d,\" max_depth || AUC \", auc, \" || MSE {:.4f}\".format(mse))\n",
    "\n",
    "def gbN():\n",
    "    nList=[100, 200, 300, 400, 500]\n",
    "    \n",
    "    for n in nList:\n",
    "        params = {\n",
    "         \"n_estimators\": n, \"max_depth\": 2, \n",
    "            \"min_samples_split\": 5, \"learning_rate\": 0.01,\n",
    "        }\n",
    "\n",
    "        #Fit and Predict:\n",
    "        reg = ensemble.GradientBoostingRegressor(**params)\n",
    "        reg.fit(X_train, y_train)\n",
    "        y_pred = reg.predict(X_test)\n",
    "        gbr_r2 = r2_score(y_test, y_pred).round(4) \n",
    "        #print(\"Gradient boosting regression r2: \", gbr_r2) \n",
    "\n",
    "        #calculate AUC of model\n",
    "        auc = round( metrics.roc_auc_score(y_test, y_pred), 4 ) \n",
    "        mse = mean_squared_error(y_test, reg.predict(X_test)).round(4)\n",
    "        print(n,\" n_estimators || AUC \", auc, \" || MSE {:.4f}\".format(mse))\n",
    "\n",
    "def gbSplit():\n",
    "    sList=[2, 3, 5, 7]\n",
    "    \n",
    "    for s in sList:\n",
    "        params = {\n",
    "         \"n_estimators\": 500, \"max_depth\": 2, \"min_samples_split\": s, \"learning_rate\": 0.01,\n",
    "        }\n",
    "\n",
    "        #Fit and Predict:\n",
    "        reg = ensemble.GradientBoostingRegressor(**params)\n",
    "        reg.fit(X_train, y_train)\n",
    "        y_pred = reg.predict(X_test)\n",
    "        gbr_r2 = r2_score(y_test, y_pred).round(4) \n",
    "        #print(\"Gradient boosting regression r2: \", gbr_r2) \n",
    "\n",
    "        #calculate AUC of model\n",
    "        auc = round( metrics.roc_auc_score(y_test, y_pred), 4 ) \n",
    "        mse = mean_squared_error(y_test, reg.predict(X_test)).round(4)\n",
    "        print(s,\" min_samples_splits || AUC \", auc, \" || MSE {:.4f}\".format(mse))\n",
    "\n",
    "#Turn on or off functions here:\n",
    "#gbDepth()\n",
    "#gbN()\n",
    "#gbSplit()"
   ]
  },
  {
   "cell_type": "markdown",
   "id": "e6fab0fa",
   "metadata": {
    "papermill": {
     "duration": 0.039953,
     "end_time": "2022-05-09T15:24:59.503064",
     "exception": false,
     "start_time": "2022-05-09T15:24:59.463111",
     "status": "completed"
    },
    "tags": []
   },
   "source": [
    "#### Gradient Boost Prediction\n",
    "Use functions above to find the best paramters to input below."
   ]
  },
  {
   "cell_type": "code",
   "execution_count": 15,
   "id": "c864df6a",
   "metadata": {
    "execution": {
     "iopub.execute_input": "2022-05-09T15:24:59.585089Z",
     "iopub.status.busy": "2022-05-09T15:24:59.584571Z",
     "iopub.status.idle": "2022-05-09T15:24:59.986624Z",
     "shell.execute_reply": "2022-05-09T15:24:59.985424Z"
    },
    "papermill": {
     "duration": 0.445955,
     "end_time": "2022-05-09T15:24:59.988978",
     "exception": false,
     "start_time": "2022-05-09T15:24:59.543023",
     "status": "completed"
    },
    "tags": []
   },
   "outputs": [
    {
     "name": "stdout",
     "output_type": "stream",
     "text": [
      "Gradient boosting regression r2:  0.2311\n",
      "AUC for gradient boost is:  0.7893\n",
      "The mean squared error (MSE) on test set: 0.1866\n"
     ]
    }
   ],
   "source": [
    "params = {\n",
    " \"n_estimators\": 500, \"max_depth\": 2, \n",
    "    \"min_samples_split\": 7, \"learning_rate\": 0.01,\n",
    "}\n",
    "\n",
    "#Fit and Predict:\n",
    "reg = ensemble.GradientBoostingClassifier(**params)\n",
    "reg.fit(X_train, y_train)\n",
    "y_pred = reg.predict(X_test)\n",
    "gbr_r2 = r2_score(y_test, y_pred).round(4) \n",
    "print(\"Gradient boosting regression r2: \", gbr_r2) \n",
    "\n",
    "#AUC of model\n",
    "auc = round( metrics.roc_auc_score(y_test, y_pred), 4 ) \n",
    "print(\"AUC for gradient boost is: \", auc)\n",
    "\n",
    "mse = mean_squared_error(y_test, reg.predict(X_test))\n",
    "print(\"The mean squared error (MSE) on test set: {:.4f}\".format(mse))"
   ]
  },
  {
   "cell_type": "markdown",
   "id": "e7967a32",
   "metadata": {
    "papermill": {
     "duration": 0.041242,
     "end_time": "2022-05-09T15:25:00.071353",
     "exception": false,
     "start_time": "2022-05-09T15:25:00.030111",
     "status": "completed"
    },
    "tags": []
   },
   "source": [
    "# Feature Importance"
   ]
  },
  {
   "cell_type": "code",
   "execution_count": 16,
   "id": "92822277",
   "metadata": {
    "execution": {
     "iopub.execute_input": "2022-05-09T15:25:00.155001Z",
     "iopub.status.busy": "2022-05-09T15:25:00.154110Z",
     "iopub.status.idle": "2022-05-09T15:25:02.002521Z",
     "shell.execute_reply": "2022-05-09T15:25:02.001534Z"
    },
    "papermill": {
     "duration": 1.893072,
     "end_time": "2022-05-09T15:25:02.004891",
     "exception": false,
     "start_time": "2022-05-09T15:25:00.111819",
     "status": "completed"
    },
    "tags": []
   },
   "outputs": [
    {
     "data": {
      "image/png": "[encoded data removed]",
      "text/plain": [
       "<Figure size 864x432 with 2 Axes>"
      ]
     },
     "metadata": {
      "needs_background": "light"
     },
     "output_type": "display_data"
    }
   ],
   "source": [
    "cols=X.columns\n",
    "feature_importance = reg.feature_importances_\n",
    "sorted_idx = np.argsort(feature_importance)\n",
    "pos = np.arange(sorted_idx.shape[0]) + 0.5\n",
    "fig = plt.figure(figsize=(12, 6))\n",
    "plt.subplot(1, 2, 1)\n",
    "plt.barh(pos, feature_importance[sorted_idx], align=\"center\")\n",
    "plt.yticks(pos, np.array(cols)[sorted_idx])\n",
    "plt.title(\"Feature Importance (MDI)\")\n",
    "\n",
    "result = permutation_importance(\n",
    "    reg, X_test, y_test, n_repeats=10, random_state=42, n_jobs=2\n",
    ")\n",
    "sorted_idx = result.importances_mean.argsort()\n",
    "plt.subplot(1, 2, 2)\n",
    "plt.boxplot(\n",
    "    result.importances[sorted_idx].T,\n",
    "    vert=False,\n",
    "    labels=np.array(cols)[sorted_idx],\n",
    ")\n",
    "plt.title(\"Permutation Importance (test set)\")\n",
    "fig.tight_layout()\n",
    "plt.show()"
   ]
  },
  {
   "cell_type": "markdown",
   "id": "f2ee9eb3",
   "metadata": {
    "papermill": {
     "duration": 0.042098,
     "end_time": "2022-05-09T15:25:02.089502",
     "exception": false,
     "start_time": "2022-05-09T15:25:02.047404",
     "status": "completed"
    },
    "tags": []
   },
   "source": [
    "# Logistic Regression\n",
    "AUC for logistic regression is:  0.8779. Tuning the C value did not seem to make much difference in the final AUC prediction. "
   ]
  },
  {
   "cell_type": "markdown",
   "id": "a034a48b",
   "metadata": {
    "papermill": {
     "duration": 0.043475,
     "end_time": "2022-05-09T15:25:02.175654",
     "exception": false,
     "start_time": "2022-05-09T15:25:02.132179",
     "status": "completed"
    },
    "tags": []
   },
   "source": [
    "#### Parameters Tuning\n",
    "The Parameter C, the Grid Search is a way to tune the data. C parameter at 10 seems to give the highest AUC but it does not make much difference. The C parameter report gives the following:\n",
    "* 0.01  C param || AUC:  0.8603  || MAE 0.2819\n",
    "* 1  C param || AUC:  0.8759  || MAE 0.2819\n",
    "* 2  C param || AUC:  0.8771  || MAE 0.2819\n",
    "* 5  C param || AUC:  0.8778  || MAE 0.2819\n",
    "* 10  C param || AUC:  0.8779  || MAE 0.2819\n"
   ]
  },
  {
   "cell_type": "code",
   "execution_count": 17,
   "id": "56b81eb6",
   "metadata": {
    "execution": {
     "iopub.execute_input": "2022-05-09T15:25:02.267398Z",
     "iopub.status.busy": "2022-05-09T15:25:02.266540Z",
     "iopub.status.idle": "2022-05-09T15:25:02.272620Z",
     "shell.execute_reply": "2022-05-09T15:25:02.271968Z"
    },
    "papermill": {
     "duration": 0.053507,
     "end_time": "2022-05-09T15:25:02.274714",
     "exception": false,
     "start_time": "2022-05-09T15:25:02.221207",
     "status": "completed"
    },
    "tags": []
   },
   "outputs": [],
   "source": [
    "from sklearn.linear_model import LogisticRegression\n",
    "#Note: solver param gets rid of encoder error\n",
    "\n",
    "def logC():\n",
    "    cList=[.01, 1, 2, 5, 10]\n",
    "    for n in cList:\n",
    "        logReg = LogisticRegression(solver='liblinear', C=n) \n",
    "\n",
    "        logReg.fit(X_train, y_train)\n",
    "        logPredict = logReg.predict_proba(X_test)[::,1]\n",
    "\n",
    "        auc = round( metrics.roc_auc_score(y_test, logPredict), 4 ) \n",
    "        mae = mean_absolute_error(y_test, y_pred).round(4)\n",
    "        print(n, \" C param || AUC: \", auc, \" || MAE\", mae) \n",
    "#logC()"
   ]
  },
  {
   "cell_type": "markdown",
   "id": "42203aab",
   "metadata": {
    "papermill": {
     "duration": 0.042683,
     "end_time": "2022-05-09T15:25:02.359631",
     "exception": false,
     "start_time": "2022-05-09T15:25:02.316948",
     "status": "completed"
    },
    "tags": []
   },
   "source": [
    "#### Make Logistic Regression Prediction\n",
    "Input the variables below from using the test functions above. Using l1 or l2 for penalty does not make a major difference in final AUC."
   ]
  },
  {
   "cell_type": "code",
   "execution_count": 18,
   "id": "88bb1cbd",
   "metadata": {
    "execution": {
     "iopub.execute_input": "2022-05-09T15:25:02.446110Z",
     "iopub.status.busy": "2022-05-09T15:25:02.445332Z",
     "iopub.status.idle": "2022-05-09T15:25:02.463156Z",
     "shell.execute_reply": "2022-05-09T15:25:02.461728Z"
    },
    "papermill": {
     "duration": 0.062733,
     "end_time": "2022-05-09T15:25:02.465235",
     "exception": false,
     "start_time": "2022-05-09T15:25:02.402502",
     "status": "completed"
    },
    "tags": []
   },
   "outputs": [
    {
     "name": "stdout",
     "output_type": "stream",
     "text": [
      "AUC for logistic regression is:  0.8769\n"
     ]
    }
   ],
   "source": [
    "num=10\n",
    "logReg = LogisticRegression(solver='liblinear',penalty='l2', C=num) \n",
    "\n",
    "#Train the model and create predictions\n",
    "logReg.fit(X_train, y_train)\n",
    "logPredict = logReg.predict_proba(X_test)[::,1]\n",
    "\n",
    "#calculate AUC of model\n",
    "auc = round( metrics.roc_auc_score(y_test, logPredict), 4 ) \n",
    "print(\"AUC for logistic regression is: \", auc)"
   ]
  },
  {
   "cell_type": "markdown",
   "id": "10f8452f",
   "metadata": {
    "papermill": {
     "duration": 0.042024,
     "end_time": "2022-05-09T15:25:02.549424",
     "exception": false,
     "start_time": "2022-05-09T15:25:02.507400",
     "status": "completed"
    },
    "tags": []
   },
   "source": [
    "# Linear Regression"
   ]
  },
  {
   "cell_type": "code",
   "execution_count": 19,
   "id": "5a6e5d49",
   "metadata": {
    "execution": {
     "iopub.execute_input": "2022-05-09T15:25:02.635242Z",
     "iopub.status.busy": "2022-05-09T15:25:02.634643Z",
     "iopub.status.idle": "2022-05-09T15:25:02.886838Z",
     "shell.execute_reply": "2022-05-09T15:25:02.885866Z"
    },
    "papermill": {
     "duration": 0.298286,
     "end_time": "2022-05-09T15:25:02.889496",
     "exception": false,
     "start_time": "2022-05-09T15:25:02.591210",
     "status": "completed"
    },
    "tags": []
   },
   "outputs": [
    {
     "name": "stdout",
     "output_type": "stream",
     "text": [
      "AUC for linear regression is:  0.8759\n",
      "Linear regression r2 score:  0.438\n",
      "Linear Accuracy:  0.438\n",
      "0.3697  linear regression cross validate mean\n",
      "0.3693  is lr MSE \n"
     ]
    },
    {
     "data": {
      "image/png": "[encoded data removed]",
      "text/plain": [
       "<Figure size 432x288 with 1 Axes>"
      ]
     },
     "metadata": {
      "needs_background": "light"
     },
     "output_type": "display_data"
    }
   ],
   "source": [
    "from sklearn.linear_model import LinearRegression, Ridge, Lasso\n",
    "\n",
    "#Fit and predict:\n",
    "lrModel = LinearRegression()\n",
    "lrModel.fit(X_train, y_train)\n",
    "lrPredict = lrModel.predict(X_test)\n",
    "\n",
    "# plt.scatter(y_test, predictions)\n",
    "plt.hist(y_test - lrPredict)\n",
    "\n",
    "#Linear Metrics:\n",
    "auc = round( metrics.roc_auc_score(y_test, lrPredict), 4 ) \n",
    "r2 = r2_score(y_test, lrPredict).round(4) \n",
    "print(\"AUC for linear regression is: \", auc)\n",
    "print(\"Linear regression r2 score: \", r2)\n",
    "\n",
    "#CROSS VALIDATE TEST RESULTS:\n",
    "lr_score = lrModel.score(X_test, y_test).round(4)  # train test \n",
    "print(\"Linear Accuracy: \", lr_score)\n",
    "lr_cv = cross_validate(lrModel, X, y, cv = 5, scoring= 'r2')\n",
    "lr_cvMean=lr_cv['test_score'].mean().round(4)\n",
    "print(lr_cvMean, \" linear regression cross validate mean\")\n",
    "\n",
    "lrMSE=np.sqrt(metrics.mean_squared_error(y_test, lrPredict))\n",
    "print(round(lrMSE, 4), \" is lr MSE \")\n",
    "\n",
    "def linearReports():\n",
    "    print(model.coef_)    \n",
    "    print(model.intercept_)\n",
    "    print(classification_report(y_test_data, lrPredict))\n",
    "    print(confusion_matrix(y_test_data, lrPredict))\n",
    "    metrics.mean_absolute_error(y_test, lrPredict)"
   ]
  },
  {
   "cell_type": "markdown",
   "id": "08eb138d",
   "metadata": {
    "papermill": {
     "duration": 0.042789,
     "end_time": "2022-05-09T15:25:02.975765",
     "exception": false,
     "start_time": "2022-05-09T15:25:02.932976",
     "status": "completed"
    },
    "tags": []
   },
   "source": [
    "# Decision Tree\n",
    "After running the below functions it was discovered that the best parameters are the following:\n",
    "* max_leaf_nodes=5  \n",
    "* max_depth=5\n",
    "\n",
    "The full parameter reports are below: <br>\n",
    "* 5  max_leaf_nodes || AUC  0.8084  || MAE:  0.2743\n",
    "* 25  max_leaf_nodes || AUC  0.8084  || MAE:  0.2584\n",
    "* 50  max_leaf_nodes || AUC  0.8084  || MAE:  0.2611\n",
    "* 100  max_leaf_nodes || AUC  0.8084  || MAE:  0.2541\n",
    "* 250  max_leaf_nodes || AUC  0.8084  || MAE:  0.25\n",
    "* 500  max_leaf_nodes || AUC  0.8084  || MAE:  0.25\n",
    "* 2  max_depth || AUC  0.8084  || MAE:  0.2854\n",
    "* 3  max_depth || AUC  0.8203  || MAE:  0.2656\n",
    "* 5  max_depth || AUC  0.8432  || MAE:  0.2526\n",
    "* 7  max_depth || AUC  0.7847  || MAE:  0.2573"
   ]
  },
  {
   "cell_type": "code",
   "execution_count": 20,
   "id": "2f8c039b",
   "metadata": {
    "execution": {
     "iopub.execute_input": "2022-05-09T15:25:03.067373Z",
     "iopub.status.busy": "2022-05-09T15:25:03.066821Z",
     "iopub.status.idle": "2022-05-09T15:25:03.079751Z",
     "shell.execute_reply": "2022-05-09T15:25:03.079048Z"
    },
    "papermill": {
     "duration": 0.059895,
     "end_time": "2022-05-09T15:25:03.081690",
     "exception": false,
     "start_time": "2022-05-09T15:25:03.021795",
     "status": "completed"
    },
    "tags": []
   },
   "outputs": [],
   "source": [
    "from sklearn.tree import DecisionTreeRegressor, DecisionTreeClassifier\n",
    "\n",
    "#FIND best_tree_size LEAF NODES:\n",
    "def calcLeaf():\n",
    "    candidate_max_leaf_nodes = [5, 25, 50, 100, 250, 500]\n",
    "    maeDic={} #dictionary  key=leaf  mae=value\n",
    "    for leaf in candidate_max_leaf_nodes:\n",
    "        model = DecisionTreeRegressor(max_leaf_nodes=leaf, random_state=42)\n",
    "        model.fit(X_train, y_train)\n",
    "        y_pred = model.predict(X_test)\n",
    "        mae = mean_absolute_error(y_test, y_pred).round(4)\n",
    "        maeDic[leaf]=mae\n",
    "        print(leaf, \" max_leaf_nodes || AUC \", treeAUC, \" || MAE: \", mae)\n",
    "    maxLeafNodes = sorted(maeDic, key=lambda x : maeDic[x])[0]\n",
    "    \n",
    "def calcDepth():\n",
    "    max_depth_list = [2, 3, 5, 7]\n",
    "    maeDic={} #dictionary  key=depth  mae=value\n",
    "    for d in max_depth_list:\n",
    "        model = DecisionTreeRegressor(max_leaf_nodes=100, max_depth=d, random_state=42)\n",
    "        model.fit(X_train, y_train)\n",
    "        y_pred = model.predict(X_test)\n",
    "        mae = mean_absolute_error(y_test, y_pred).round(4)\n",
    "        maeDic[d]=mae\n",
    "        treeAUC = round( metrics.roc_auc_score(y_test, y_pred), 4 ) \n",
    "        print(d, \" max_depth || AUC \", treeAUC, \" || MAE: \", mae)\n",
    "    best_max_depth = sorted(maeDic, key=lambda x : maeDic[x])[0]\n",
    "    print(best_max_depth, \" best max_depth with least error.\") #10\n",
    "    \n",
    "def automateTree():\n",
    "    print(\"Decision Tree Automating:\")\n",
    "    start=time.time()\n",
    "    candidate_max_leaf_nodes = [5, 25, 50, 100, 200, 500]\n",
    "    max_depth_list = [2, 3, 5, 7, 9]\n",
    "    \n",
    "    #STORE DATA INTO LISTS FOR DATAFRAME LATER:\n",
    "    aucList=[]\n",
    "    maeList=[]\n",
    "    maxDepthList=[]\n",
    "    maxLeafNodesList=[]\n",
    "\n",
    "    for d in max_depth_list:\n",
    "        for leaf in candidate_max_leaf_nodes:\n",
    "            model = DecisionTreeRegressor(max_leaf_nodes=leaf, \n",
    "                                          max_depth=d, random_state=42)\n",
    "            model.fit(X_train, y_train)\n",
    "            y_pred = model.predict(X_test)\n",
    "            mae = mean_absolute_error(y_test, y_pred).round(4)\n",
    "            treeR2 = r2_score(y_test, y_pred).round(4)\n",
    "            \n",
    "            aucList.append(treeR2)\n",
    "            maeList.append(mae)\n",
    "            maxDepthList.append(d)\n",
    "            maxLeafNodesList.append(leaf)\n",
    "           \n",
    "    df = pd.DataFrame(list(zip(aucList, maeList, maxDepthList, maxLeafNodesList)),\n",
    "                          columns=['AUC','MAE', 'MaxDepth', 'MaxLeafNodes'])\n",
    "    \n",
    "    df=df.sort_values(by=['AUC'], ascending=False)\n",
    "    print(\"Done. \", round(time.time()-start,4), \" seconds\")\n",
    "    return df\n",
    "\n",
    "#TURN FUNCTION OFF OR ON BELOW:   \n",
    "#calcLeaf()\n",
    "#calcDepth()\n",
    "#treeDF=automateTree()    \n",
    "#treeDF.head()"
   ]
  },
  {
   "cell_type": "markdown",
   "id": "f3579787",
   "metadata": {
    "papermill": {
     "duration": 0.042913,
     "end_time": "2022-05-09T15:25:03.167511",
     "exception": false,
     "start_time": "2022-05-09T15:25:03.124598",
     "status": "completed"
    },
    "tags": []
   },
   "source": [
    "#### Final Decision Tree Prediction\n",
    "Inputs below such as best_depth by using functions above."
   ]
  },
  {
   "cell_type": "code",
   "execution_count": 21,
   "id": "12b4b7c9",
   "metadata": {
    "execution": {
     "iopub.execute_input": "2022-05-09T15:25:03.258349Z",
     "iopub.status.busy": "2022-05-09T15:25:03.257793Z",
     "iopub.status.idle": "2022-05-09T15:25:03.273201Z",
     "shell.execute_reply": "2022-05-09T15:25:03.272491Z"
    },
    "papermill": {
     "duration": 0.064302,
     "end_time": "2022-05-09T15:25:03.275912",
     "exception": false,
     "start_time": "2022-05-09T15:25:03.211610",
     "status": "completed"
    },
    "tags": []
   },
   "outputs": [
    {
     "name": "stdout",
     "output_type": "stream",
     "text": [
      "0.0619  R2 Decision Tree\n",
      "AUC for decision tree is:  0.7345\n",
      "0.4771  is tree MSE \n"
     ]
    }
   ],
   "source": [
    "maxLeafNode=5\n",
    "best_depth=5\n",
    "    \n",
    "#MAKE PREDICTION:\n",
    "tree = DecisionTreeClassifier(max_depth=best_depth, \n",
    "                             max_leaf_nodes=maxLeafNode, random_state=42)\n",
    "tree.fit(X, y)\n",
    "y_pred = tree.predict(X_test)\n",
    "\n",
    "#Calculate Metrics:\n",
    "treeR2 = r2_score(y_test, y_pred).round(4)\n",
    "print(treeR2, \" R2 Decision Tree\")\n",
    "treeAUC = round( metrics.roc_auc_score(y_test, y_pred), 4 ) \n",
    "print(\"AUC for decision tree is: \", treeAUC)\n",
    "treeMSE=np.sqrt(metrics.mean_squared_error(y_test, y_pred))\n",
    "print(round(treeMSE, 4), \" is tree MSE \")"
   ]
  },
  {
   "cell_type": "markdown",
   "id": "8585d1ec",
   "metadata": {
    "papermill": {
     "duration": 0.042983,
     "end_time": "2022-05-09T15:25:03.363264",
     "exception": false,
     "start_time": "2022-05-09T15:25:03.320281",
     "status": "completed"
    },
    "tags": []
   },
   "source": [
    "# Random Forest\n",
    "Random forest AUC:  0.8503 which provided descent results in comparision to the other models. \n",
    "\n",
    "<b>n_estimates</b> <br>\n",
    "The best n_estimates with high AUC seems to be 400. Error is not impacted by the change of n_estimates. The full report can be seen below: <br>\n",
    "* 2  n_estimates |  0.7962  AUC |  0.24  MAE\n",
    "* 102  n_estimates |  0.843  AUC |  0.25  MAE\n",
    "* 202  n_estimates |  0.8459  AUC |  0.25  MAE\n",
    "* 302  n_estimates |  0.8492  AUC |  0.25  MAE\n",
    "* 402  n_estimates |  0.8505  AUC |  0.25  MAE\n",
    "* 502  n_estimates |  0.8489  AUC |  0.25  MAE"
   ]
  },
  {
   "cell_type": "code",
   "execution_count": 22,
   "id": "5f934221",
   "metadata": {
    "execution": {
     "iopub.execute_input": "2022-05-09T15:25:03.450532Z",
     "iopub.status.busy": "2022-05-09T15:25:03.450292Z",
     "iopub.status.idle": "2022-05-09T15:25:03.456257Z",
     "shell.execute_reply": "2022-05-09T15:25:03.455643Z"
    },
    "papermill": {
     "duration": 0.051759,
     "end_time": "2022-05-09T15:25:03.457942",
     "exception": false,
     "start_time": "2022-05-09T15:25:03.406183",
     "status": "completed"
    },
    "tags": []
   },
   "outputs": [],
   "source": [
    "from sklearn.ensemble import RandomForestRegressor, RandomForestClassifier\n",
    "\n",
    "#Check for Error and find Best n_estimators:\n",
    "def checkMAE():\n",
    "    dMAE={} #dictionary of n_estimators as key and MAE as value:\n",
    "    for n in range(2, 601, 100):\n",
    "        forest = RandomForestRegressor(n_estimators=n, random_state = 0)\n",
    "        forest.fit(X_train, y_train)\n",
    "        y_pred = forest.predict(X_test)\n",
    "        MAE=metrics.mean_absolute_error(y_test, y_pred).round(2)\n",
    "        forest_auc = round( metrics.roc_auc_score(y_test, y_pred), 4 ) \n",
    "        dMAE[n]=MAE\n",
    "        print(n, \" n_estimates | \", forest_auc, \" AUC | \", MAE, \" MAE\")\n",
    "    dMAE=sorted(((v, k) for k, v in dMAE.items()), reverse=False)\n",
    "    print(dMAE)\n",
    "#checkMAE() #turn function on or off by uncommenting"
   ]
  },
  {
   "cell_type": "markdown",
   "id": "85703e02",
   "metadata": {
    "papermill": {
     "duration": 0.042982,
     "end_time": "2022-05-09T15:25:03.544224",
     "exception": false,
     "start_time": "2022-05-09T15:25:03.501242",
     "status": "completed"
    },
    "tags": []
   },
   "source": [
    "#### Final Random Forest Prediction"
   ]
  },
  {
   "cell_type": "code",
   "execution_count": 23,
   "id": "6caf0237",
   "metadata": {
    "execution": {
     "iopub.execute_input": "2022-05-09T15:25:03.659932Z",
     "iopub.status.busy": "2022-05-09T15:25:03.659626Z",
     "iopub.status.idle": "2022-05-09T15:25:04.383835Z",
     "shell.execute_reply": "2022-05-09T15:25:04.382894Z"
    },
    "papermill": {
     "duration": 0.789061,
     "end_time": "2022-05-09T15:25:04.386711",
     "exception": false,
     "start_time": "2022-05-09T15:25:03.597650",
     "status": "completed"
    },
    "tags": []
   },
   "outputs": [
    {
     "name": "stdout",
     "output_type": "stream",
     "text": [
      "Random forest AUC:  0.7856\n",
      "Random forest r2:  0.2003\n",
      "Random forest MAE:  0.19\n"
     ]
    }
   ],
   "source": [
    "forestEst=400\n",
    "forest = RandomForestClassifier(n_estimators=forestEst, random_state = 0)\n",
    "forest.fit(X_train, y_train)\n",
    "y_pred = forest.predict(X_test)\n",
    "\n",
    "#Print Metrics:\n",
    "forest_r2 = r2_score(y_test, y_pred).round(4)  \n",
    "forest_auc = round( metrics.roc_auc_score(y_test, y_pred), 4 ) \n",
    "print(\"Random forest AUC: \", forest_auc) \n",
    "print(\"Random forest r2: \", forest_r2)\n",
    "\n",
    "mae=metrics.mean_absolute_error(y_test, y_pred).round(2)\n",
    "print(\"Random forest MAE: \", mae)"
   ]
  },
  {
   "cell_type": "markdown",
   "id": "75c6d1bd",
   "metadata": {
    "papermill": {
     "duration": 0.043121,
     "end_time": "2022-05-09T15:25:04.473116",
     "exception": false,
     "start_time": "2022-05-09T15:25:04.429995",
     "status": "completed"
    },
    "tags": []
   },
   "source": [
    "# K-Nearest Neighbors (KNN)"
   ]
  },
  {
   "cell_type": "markdown",
   "id": "a93875a6",
   "metadata": {
    "papermill": {
     "duration": 0.042935,
     "end_time": "2022-05-09T15:25:04.559889",
     "exception": false,
     "start_time": "2022-05-09T15:25:04.516954",
     "status": "completed"
    },
    "tags": []
   },
   "source": [
    "#### KNN Parameter Tunning"
   ]
  },
  {
   "cell_type": "code",
   "execution_count": 24,
   "id": "cce480bd",
   "metadata": {
    "execution": {
     "iopub.execute_input": "2022-05-09T15:25:04.648394Z",
     "iopub.status.busy": "2022-05-09T15:25:04.647599Z",
     "iopub.status.idle": "2022-05-09T15:25:04.951356Z",
     "shell.execute_reply": "2022-05-09T15:25:04.950492Z"
    },
    "papermill": {
     "duration": 0.350275,
     "end_time": "2022-05-09T15:25:04.953512",
     "exception": false,
     "start_time": "2022-05-09T15:25:04.603237",
     "status": "completed"
    },
    "tags": []
   },
   "outputs": [
    {
     "name": "stdout",
     "output_type": "stream",
     "text": [
      "Finding best n_neighbors value:\n"
     ]
    },
    {
     "data": {
      "image/png": "[encoded data removed]",
      "text/plain": [
       "<Figure size 1152x864 with 1 Axes>"
      ]
     },
     "metadata": {
      "needs_background": "light"
     },
     "output_type": "display_data"
    }
   ],
   "source": [
    "from sklearn.neighbors import KNeighborsClassifier, KNeighborsRegressor\n",
    "\n",
    "def knnError():\n",
    "    print(\"Finding best n_neighbors value:\")\n",
    "    error_rates = []\n",
    "    for i in range(1, 10, 2): #Must be an odd number to break a tie\n",
    "        new_model = KNeighborsClassifier(n_neighbors = i)\n",
    "        new_model.fit(X_train, y_train)\n",
    "        new_predictions = new_model.predict(X_test)\n",
    "        error_rates.append(np.mean(new_predictions != y_test))\n",
    "    plt.figure(figsize=(16,12))\n",
    "    plt.plot(error_rates)\n",
    "knnError()"
   ]
  },
  {
   "cell_type": "markdown",
   "id": "a42c85a5",
   "metadata": {
    "papermill": {
     "duration": 0.044773,
     "end_time": "2022-05-09T15:25:05.043771",
     "exception": false,
     "start_time": "2022-05-09T15:25:04.998998",
     "status": "completed"
    },
    "tags": []
   },
   "source": [
    "#### Final KNN Prediction"
   ]
  },
  {
   "cell_type": "code",
   "execution_count": 25,
   "id": "e0a07794",
   "metadata": {
    "execution": {
     "iopub.execute_input": "2022-05-09T15:25:05.135833Z",
     "iopub.status.busy": "2022-05-09T15:25:05.135495Z",
     "iopub.status.idle": "2022-05-09T15:25:05.150876Z",
     "shell.execute_reply": "2022-05-09T15:25:05.149820Z"
    },
    "papermill": {
     "duration": 0.063022,
     "end_time": "2022-05-09T15:25:05.152729",
     "exception": false,
     "start_time": "2022-05-09T15:25:05.089707",
     "status": "completed"
    },
    "tags": []
   },
   "outputs": [
    {
     "name": "stdout",
     "output_type": "stream",
     "text": [
      "Knn AUC:  0.5975\n",
      "MSE  0.5325\n"
     ]
    }
   ],
   "source": [
    "n_num=3 #Input from knnError function\n",
    "\n",
    "#Train the model and make predictions:\n",
    "knn = KNeighborsClassifier(n_neighbors =n_num) \n",
    "knn.fit(X_train, y_train)\n",
    "knnPredict = knn.predict_proba(X_test)[::,1]\n",
    "\n",
    "#calculate AUC of model\n",
    "knn_auc = round( metrics.roc_auc_score(y_test, knnPredict), 4 ) \n",
    "print(\"Knn AUC: \", knn_auc)\n",
    "error = round(sqrt(mean_squared_error(y_test,knnPredict)), 4)\n",
    "print(\"MSE \", error)"
   ]
  },
  {
   "cell_type": "markdown",
   "id": "ad4fb240",
   "metadata": {
    "papermill": {
     "duration": 0.046702,
     "end_time": "2022-05-09T15:25:05.244963",
     "exception": false,
     "start_time": "2022-05-09T15:25:05.198261",
     "status": "completed"
    },
    "tags": []
   },
   "source": [
    "# Support Vector Machine (SVM)\n",
    "The initial results for SVM AUC with no parameter tunning is 0.5336.  The model does not seem worth investing lots of time into due to poor AUC performance. \n",
    "\n",
    "#### GridSearch Tune\n",
    "The best parameters from tunning SVM is SVC(C=1000, gamma=0.0001)."
   ]
  },
  {
   "cell_type": "code",
   "execution_count": 26,
   "id": "0d099fe4",
   "metadata": {
    "execution": {
     "iopub.execute_input": "2022-05-09T15:25:05.338093Z",
     "iopub.status.busy": "2022-05-09T15:25:05.337827Z",
     "iopub.status.idle": "2022-05-09T15:25:05.343577Z",
     "shell.execute_reply": "2022-05-09T15:25:05.342627Z"
    },
    "papermill": {
     "duration": 0.05405,
     "end_time": "2022-05-09T15:25:05.345518",
     "exception": false,
     "start_time": "2022-05-09T15:25:05.291468",
     "status": "completed"
    },
    "tags": []
   },
   "outputs": [],
   "source": [
    "from sklearn.model_selection import GridSearchCV\n",
    "from sklearn.svm import SVC\n",
    " \n",
    "def tuneSVM():\n",
    "    # defining parameter range\n",
    "    param_grid = {'C': [0.1, 1, 10, 100, 1000],\n",
    "                  'gamma': [1, 0.1, 0.01, 0.001, 0.0001],\n",
    "                  'kernel': ['rbf']}\n",
    "\n",
    "    grid = GridSearchCV(SVC(), param_grid, refit = True, verbose = 3)\n",
    "\n",
    "    # fitting the model for grid search\n",
    "    grid.fit(X_train, y_train)\n",
    "\n",
    "    # print best parameter after tuning\n",
    "    print(grid.best_params_)\n",
    "\n",
    "    # print how our model looks after hyper-parameter tuning\n",
    "    print(grid.best_estimator_)"
   ]
  },
  {
   "cell_type": "markdown",
   "id": "e59a2146",
   "metadata": {
    "papermill": {
     "duration": 0.044684,
     "end_time": "2022-05-09T15:25:05.435451",
     "exception": false,
     "start_time": "2022-05-09T15:25:05.390767",
     "status": "completed"
    },
    "tags": []
   },
   "source": [
    "#### Final SVM Prediction"
   ]
  },
  {
   "cell_type": "code",
   "execution_count": 27,
   "id": "2fc622da",
   "metadata": {
    "execution": {
     "iopub.execute_input": "2022-05-09T15:25:05.526807Z",
     "iopub.status.busy": "2022-05-09T15:25:05.526493Z",
     "iopub.status.idle": "2022-05-09T15:25:05.767787Z",
     "shell.execute_reply": "2022-05-09T15:25:05.766916Z"
    },
    "papermill": {
     "duration": 0.289575,
     "end_time": "2022-05-09T15:25:05.769805",
     "exception": false,
     "start_time": "2022-05-09T15:25:05.480230",
     "status": "completed"
    },
    "tags": []
   },
   "outputs": [
    {
     "name": "stdout",
     "output_type": "stream",
     "text": [
      "SVC AUC is:  0.7619\n",
      "SVC MAE is:  0.2201\n",
      "              precision    recall  f1-score   support\n",
      "\n",
      "           0       0.78      0.87      0.82       157\n",
      "           1       0.78      0.66      0.71       111\n",
      "\n",
      "    accuracy                           0.78       268\n",
      "   macro avg       0.78      0.76      0.77       268\n",
      "weighted avg       0.78      0.78      0.78       268\n",
      "\n"
     ]
    }
   ],
   "source": [
    "#Fit and Predict:\n",
    "svc = SVC(C=1000, gamma=0.0001)\n",
    "svc.fit(X_train, y_train)\n",
    "svc_predit = svc.predict(X_test)\n",
    "\n",
    "#calculate AUC of model\n",
    "svmAUC = round( metrics.roc_auc_score(y_test, svc_predit), 4 ) \n",
    "print(\"SVC AUC is: \", svmAUC)\n",
    "\n",
    "svmMAE=round( metrics.mean_absolute_error(y_test, svc_predit), 4)\n",
    "print(\"SVC MAE is: \", svmMAE)\n",
    "\n",
    "print(classification_report(y_test, svc_predit))"
   ]
  },
  {
   "cell_type": "markdown",
   "id": "79808237",
   "metadata": {
    "papermill": {
     "duration": 0.045197,
     "end_time": "2022-05-09T15:25:05.860792",
     "exception": false,
     "start_time": "2022-05-09T15:25:05.815595",
     "status": "completed"
    },
    "tags": []
   },
   "source": [
    "# Test Data"
   ]
  },
  {
   "cell_type": "code",
   "execution_count": 28,
   "id": "80f0f79d",
   "metadata": {
    "execution": {
     "iopub.execute_input": "2022-05-09T15:25:05.954655Z",
     "iopub.status.busy": "2022-05-09T15:25:05.954176Z",
     "iopub.status.idle": "2022-05-09T15:25:05.981335Z",
     "shell.execute_reply": "2022-05-09T15:25:05.980697Z"
    },
    "papermill": {
     "duration": 0.076597,
     "end_time": "2022-05-09T15:25:05.983173",
     "exception": false,
     "start_time": "2022-05-09T15:25:05.906576",
     "status": "completed"
    },
    "tags": []
   },
   "outputs": [
    {
     "data": {
      "text/html": [
       "<div>\n",
       "<style scoped>\n",
       "    .dataframe tbody tr th:only-of-type {\n",
       "        vertical-align: middle;\n",
       "    }\n",
       "\n",
       "    .dataframe tbody tr th {\n",
       "        vertical-align: top;\n",
       "    }\n",
       "\n",
       "    .dataframe thead th {\n",
       "        text-align: right;\n",
       "    }\n",
       "</style>\n",
       "<table border=\"1\" class=\"dataframe\">\n",
       "  <thead>\n",
       "    <tr style=\"text-align: right;\">\n",
       "      <th></th>\n",
       "      <th>PassengerId</th>\n",
       "      <th>Pclass</th>\n",
       "      <th>Sex</th>\n",
       "      <th>Age</th>\n",
       "      <th>SibSp</th>\n",
       "      <th>Parch</th>\n",
       "      <th>Fare</th>\n",
       "      <th>Embarked</th>\n",
       "    </tr>\n",
       "  </thead>\n",
       "  <tbody>\n",
       "    <tr>\n",
       "      <th>0</th>\n",
       "      <td>892</td>\n",
       "      <td>3</td>\n",
       "      <td>1</td>\n",
       "      <td>34.5</td>\n",
       "      <td>0</td>\n",
       "      <td>0</td>\n",
       "      <td>7.8292</td>\n",
       "      <td>0</td>\n",
       "    </tr>\n",
       "    <tr>\n",
       "      <th>1</th>\n",
       "      <td>893</td>\n",
       "      <td>3</td>\n",
       "      <td>0</td>\n",
       "      <td>47.0</td>\n",
       "      <td>1</td>\n",
       "      <td>0</td>\n",
       "      <td>7.0000</td>\n",
       "      <td>1</td>\n",
       "    </tr>\n",
       "    <tr>\n",
       "      <th>2</th>\n",
       "      <td>894</td>\n",
       "      <td>2</td>\n",
       "      <td>1</td>\n",
       "      <td>62.0</td>\n",
       "      <td>0</td>\n",
       "      <td>0</td>\n",
       "      <td>9.6875</td>\n",
       "      <td>0</td>\n",
       "    </tr>\n",
       "    <tr>\n",
       "      <th>3</th>\n",
       "      <td>895</td>\n",
       "      <td>3</td>\n",
       "      <td>1</td>\n",
       "      <td>27.0</td>\n",
       "      <td>0</td>\n",
       "      <td>0</td>\n",
       "      <td>8.6625</td>\n",
       "      <td>1</td>\n",
       "    </tr>\n",
       "    <tr>\n",
       "      <th>4</th>\n",
       "      <td>896</td>\n",
       "      <td>3</td>\n",
       "      <td>0</td>\n",
       "      <td>22.0</td>\n",
       "      <td>1</td>\n",
       "      <td>1</td>\n",
       "      <td>12.2875</td>\n",
       "      <td>1</td>\n",
       "    </tr>\n",
       "  </tbody>\n",
       "</table>\n",
       "</div>"
      ],
      "text/plain": [
       "   PassengerId  Pclass  Sex   Age  SibSp  Parch     Fare  Embarked\n",
       "0          892       3    1  34.5      0      0   7.8292         0\n",
       "1          893       3    0  47.0      1      0   7.0000         1\n",
       "2          894       2    1  62.0      0      0   9.6875         0\n",
       "3          895       3    1  27.0      0      0   8.6625         1\n",
       "4          896       3    0  22.0      1      1  12.2875         1"
      ]
     },
     "execution_count": 28,
     "metadata": {},
     "output_type": "execute_result"
    }
   ],
   "source": [
    "test=pd.read_csv(test)\n",
    "\n",
    "#GENDER\n",
    "test['Sex']=test['Sex'].map({'female':0,'male':1})\n",
    "\n",
    "#EMBARKED\n",
    "test['Embarked']=test['Embarked'].map({'C':0,'Q':0, 'S':1})\n",
    "\n",
    "features=list(X.columns)\n",
    "test=test[features]\n",
    "\n",
    "test=test.fillna(test.mean())\n",
    "test.head()"
   ]
  },
  {
   "cell_type": "markdown",
   "id": "21043806",
   "metadata": {
    "papermill": {
     "duration": 0.045789,
     "end_time": "2022-05-09T15:25:06.074476",
     "exception": false,
     "start_time": "2022-05-09T15:25:06.028687",
     "status": "completed"
    },
    "tags": []
   },
   "source": [
    "# Make Final Prediction"
   ]
  },
  {
   "cell_type": "code",
   "execution_count": 29,
   "id": "8dfcab4f",
   "metadata": {
    "execution": {
     "iopub.execute_input": "2022-05-09T15:25:06.167515Z",
     "iopub.status.busy": "2022-05-09T15:25:06.167199Z",
     "iopub.status.idle": "2022-05-09T15:25:06.182912Z",
     "shell.execute_reply": "2022-05-09T15:25:06.182294Z"
    },
    "papermill": {
     "duration": 0.064706,
     "end_time": "2022-05-09T15:25:06.184937",
     "exception": false,
     "start_time": "2022-05-09T15:25:06.120231",
     "status": "completed"
    },
    "tags": []
   },
   "outputs": [
    {
     "data": {
      "text/html": [
       "<div>\n",
       "<style scoped>\n",
       "    .dataframe tbody tr th:only-of-type {\n",
       "        vertical-align: middle;\n",
       "    }\n",
       "\n",
       "    .dataframe tbody tr th {\n",
       "        vertical-align: top;\n",
       "    }\n",
       "\n",
       "    .dataframe thead th {\n",
       "        text-align: right;\n",
       "    }\n",
       "</style>\n",
       "<table border=\"1\" class=\"dataframe\">\n",
       "  <thead>\n",
       "    <tr style=\"text-align: right;\">\n",
       "      <th></th>\n",
       "      <th>PassengerId</th>\n",
       "      <th>Survived</th>\n",
       "    </tr>\n",
       "  </thead>\n",
       "  <tbody>\n",
       "    <tr>\n",
       "      <th>0</th>\n",
       "      <td>892</td>\n",
       "      <td>0</td>\n",
       "    </tr>\n",
       "    <tr>\n",
       "      <th>1</th>\n",
       "      <td>893</td>\n",
       "      <td>0</td>\n",
       "    </tr>\n",
       "    <tr>\n",
       "      <th>2</th>\n",
       "      <td>894</td>\n",
       "      <td>0</td>\n",
       "    </tr>\n",
       "    <tr>\n",
       "      <th>3</th>\n",
       "      <td>895</td>\n",
       "      <td>0</td>\n",
       "    </tr>\n",
       "    <tr>\n",
       "      <th>4</th>\n",
       "      <td>896</td>\n",
       "      <td>0</td>\n",
       "    </tr>\n",
       "    <tr>\n",
       "      <th>5</th>\n",
       "      <td>897</td>\n",
       "      <td>0</td>\n",
       "    </tr>\n",
       "    <tr>\n",
       "      <th>6</th>\n",
       "      <td>898</td>\n",
       "      <td>1</td>\n",
       "    </tr>\n",
       "  </tbody>\n",
       "</table>\n",
       "</div>"
      ],
      "text/plain": [
       "   PassengerId  Survived\n",
       "0          892         0\n",
       "1          893         0\n",
       "2          894         0\n",
       "3          895         0\n",
       "4          896         0\n",
       "5          897         0\n",
       "6          898         1"
      ]
     },
     "execution_count": 29,
     "metadata": {},
     "output_type": "execute_result"
    }
   ],
   "source": [
    "test_predictions = reg.predict(test)\n",
    "#test_predictions=np.where(test_predictions<.5, 0, test_predictions)\n",
    "#test_predictions=np.where(test_predictions>.5, 1, test_predictions)\n",
    "passID=test['PassengerId']\n",
    "tupleData = list(zip(passID, test_predictions))\n",
    "output = pd.DataFrame(tupleData, columns = ['PassengerId', 'Survived'])\n",
    "output.head(7)"
   ]
  },
  {
   "cell_type": "code",
   "execution_count": 30,
   "id": "6ae4904f",
   "metadata": {
    "execution": {
     "iopub.execute_input": "2022-05-09T15:25:06.280052Z",
     "iopub.status.busy": "2022-05-09T15:25:06.279424Z",
     "iopub.status.idle": "2022-05-09T15:25:06.290432Z",
     "shell.execute_reply": "2022-05-09T15:25:06.289820Z"
    },
    "papermill": {
     "duration": 0.061368,
     "end_time": "2022-05-09T15:25:06.292496",
     "exception": false,
     "start_time": "2022-05-09T15:25:06.231128",
     "status": "completed"
    },
    "tags": []
   },
   "outputs": [],
   "source": [
    "sample=r'/kaggle/input/titanic/gender_submission.csv'\n",
    "sample=pd.read_csv(sample)"
   ]
  },
  {
   "cell_type": "markdown",
   "id": "2ee6fd32",
   "metadata": {
    "papermill": {
     "duration": 0.046563,
     "end_time": "2022-05-09T15:25:06.386094",
     "exception": false,
     "start_time": "2022-05-09T15:25:06.339531",
     "status": "completed"
    },
    "tags": []
   },
   "source": [
    "# Submit Predictions"
   ]
  },
  {
   "cell_type": "code",
   "execution_count": 31,
   "id": "38349583",
   "metadata": {
    "execution": {
     "iopub.execute_input": "2022-05-09T15:25:06.480161Z",
     "iopub.status.busy": "2022-05-09T15:25:06.479861Z",
     "iopub.status.idle": "2022-05-09T15:25:06.639394Z",
     "shell.execute_reply": "2022-05-09T15:25:06.638262Z"
    },
    "papermill": {
     "duration": 0.209268,
     "end_time": "2022-05-09T15:25:06.641393",
     "exception": false,
     "start_time": "2022-05-09T15:25:06.432125",
     "status": "completed"
    },
    "tags": []
   },
   "outputs": [
    {
     "name": "stdout",
     "output_type": "stream",
     "text": [
      "Your submission was successfully saved!\n"
     ]
    }
   ],
   "source": [
    "output.to_csv('submission.csv', index=False)\n",
    "print(\"Your submission was successfully saved!\")"
   ]
  }
 ],
 "metadata": {
  "kernelspec": {
   "display_name": "Python 3",
   "language": "python",
   "name": "python3"
  },
  "language_info": {
   "codemirror_mode": {
    "name": "ipython",
    "version": 3
   },
   "file_extension": ".py",
   "mimetype": "text/x-python",
   "name": "python",
   "nbconvert_exporter": "python",
   "pygments_lexer": "ipython3",
   "version": "3.7.12"
  },
  "papermill": {
   "default_parameters": {},
   "duration": 22.714152,
   "end_time": "2022-05-09T15:25:09.319440",
   "environment_variables": {},
   "exception": null,
   "input_path": "__notebook__.ipynb",
   "output_path": "__notebook__.ipynb",
   "parameters": {},
   "start_time": "2022-05-09T15:24:46.605288",
   "version": "2.3.4"
  }
 },
 "nbformat": 4,
 "nbformat_minor": 5
}
