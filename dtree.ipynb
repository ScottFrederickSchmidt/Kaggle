{
 "cells": [
  {
   "cell_type": "markdown",
   "id": "53b783ad",
   "metadata": {
    "papermill": {
     "duration": 0.031972,
     "end_time": "2022-10-02T17:36:14.153621",
     "exception": false,
     "start_time": "2022-10-02T17:36:14.121649",
     "status": "completed"
    },
    "tags": []
   },
   "source": [
    "# Machine Learning Titanic \n",
    "Currently, my decision tree scores top 10%. I scored top 5% using random forest and xgBoost: \n",
    "* https://github.com/ScottySchmidt/Kaggle/blob/main/xgbTop5%25.ipynb\n",
    "* https://github.com/ScottySchmidt/Kaggle/blob/main/Titanic.ipynb\n",
    "\n",
    "Can decision tree also score top 5%? Decision tree will initially score almost a perfect AUC but that is because the data overfits. Regularizing the decision tree will be key for a high score. GridSearch will tune all the best possible parameters to get the best solution possible.  "
   ]
  },
  {
   "cell_type": "markdown",
   "id": "43198b56",
   "metadata": {
    "papermill": {
     "duration": 0.030948,
     "end_time": "2022-10-02T17:36:14.214468",
     "exception": false,
     "start_time": "2022-10-02T17:36:14.183520",
     "status": "completed"
    },
    "tags": []
   },
   "source": [
    "# Train Data\n",
    "Train.csv will contain the details of a subset of the passengers on board (891 to be exact) and whether they survive or not. The shape of the train data is (891, 12). "
   ]
  },
  {
   "cell_type": "code",
   "execution_count": 1,
   "id": "69e79eb1",
   "metadata": {
    "execution": {
     "iopub.execute_input": "2022-10-02T17:36:14.277264Z",
     "iopub.status.busy": "2022-10-02T17:36:14.276252Z",
     "iopub.status.idle": "2022-10-02T17:36:15.933780Z",
     "shell.execute_reply": "2022-10-02T17:36:15.932606Z"
    },
    "papermill": {
     "duration": 1.692953,
     "end_time": "2022-10-02T17:36:15.936979",
     "exception": false,
     "start_time": "2022-10-02T17:36:14.244026",
     "status": "completed"
    },
    "tags": []
   },
   "outputs": [
    {
     "name": "stdout",
     "output_type": "stream",
     "text": [
      "(891, 12)\n"
     ]
    },
    {
     "data": {
      "text/html": [
       "<div>\n",
       "<style scoped>\n",
       "    .dataframe tbody tr th:only-of-type {\n",
       "        vertical-align: middle;\n",
       "    }\n",
       "\n",
       "    .dataframe tbody tr th {\n",
       "        vertical-align: top;\n",
       "    }\n",
       "\n",
       "    .dataframe thead th {\n",
       "        text-align: right;\n",
       "    }\n",
       "</style>\n",
       "<table border=\"1\" class=\"dataframe\">\n",
       "  <thead>\n",
       "    <tr style=\"text-align: right;\">\n",
       "      <th></th>\n",
       "      <th>PassengerId</th>\n",
       "      <th>Survived</th>\n",
       "      <th>Pclass</th>\n",
       "      <th>Name</th>\n",
       "      <th>Sex</th>\n",
       "      <th>Age</th>\n",
       "      <th>SibSp</th>\n",
       "      <th>Parch</th>\n",
       "      <th>Ticket</th>\n",
       "      <th>Fare</th>\n",
       "      <th>Cabin</th>\n",
       "      <th>Embarked</th>\n",
       "    </tr>\n",
       "  </thead>\n",
       "  <tbody>\n",
       "    <tr>\n",
       "      <th>0</th>\n",
       "      <td>1</td>\n",
       "      <td>0</td>\n",
       "      <td>3</td>\n",
       "      <td>Braund, Mr. Owen Harris</td>\n",
       "      <td>male</td>\n",
       "      <td>22.0</td>\n",
       "      <td>1</td>\n",
       "      <td>0</td>\n",
       "      <td>A/5 21171</td>\n",
       "      <td>7.2500</td>\n",
       "      <td>NaN</td>\n",
       "      <td>S</td>\n",
       "    </tr>\n",
       "    <tr>\n",
       "      <th>1</th>\n",
       "      <td>2</td>\n",
       "      <td>1</td>\n",
       "      <td>1</td>\n",
       "      <td>Cumings, Mrs. John Bradley (Florence Briggs Th...</td>\n",
       "      <td>female</td>\n",
       "      <td>38.0</td>\n",
       "      <td>1</td>\n",
       "      <td>0</td>\n",
       "      <td>PC 17599</td>\n",
       "      <td>71.2833</td>\n",
       "      <td>C85</td>\n",
       "      <td>C</td>\n",
       "    </tr>\n",
       "    <tr>\n",
       "      <th>2</th>\n",
       "      <td>3</td>\n",
       "      <td>1</td>\n",
       "      <td>3</td>\n",
       "      <td>Heikkinen, Miss. Laina</td>\n",
       "      <td>female</td>\n",
       "      <td>26.0</td>\n",
       "      <td>0</td>\n",
       "      <td>0</td>\n",
       "      <td>STON/O2. 3101282</td>\n",
       "      <td>7.9250</td>\n",
       "      <td>NaN</td>\n",
       "      <td>S</td>\n",
       "    </tr>\n",
       "    <tr>\n",
       "      <th>3</th>\n",
       "      <td>4</td>\n",
       "      <td>1</td>\n",
       "      <td>1</td>\n",
       "      <td>Futrelle, Mrs. Jacques Heath (Lily May Peel)</td>\n",
       "      <td>female</td>\n",
       "      <td>35.0</td>\n",
       "      <td>1</td>\n",
       "      <td>0</td>\n",
       "      <td>113803</td>\n",
       "      <td>53.1000</td>\n",
       "      <td>C123</td>\n",
       "      <td>S</td>\n",
       "    </tr>\n",
       "    <tr>\n",
       "      <th>4</th>\n",
       "      <td>5</td>\n",
       "      <td>0</td>\n",
       "      <td>3</td>\n",
       "      <td>Allen, Mr. William Henry</td>\n",
       "      <td>male</td>\n",
       "      <td>35.0</td>\n",
       "      <td>0</td>\n",
       "      <td>0</td>\n",
       "      <td>373450</td>\n",
       "      <td>8.0500</td>\n",
       "      <td>NaN</td>\n",
       "      <td>S</td>\n",
       "    </tr>\n",
       "  </tbody>\n",
       "</table>\n",
       "</div>"
      ],
      "text/plain": [
       "   PassengerId  Survived  Pclass  \\\n",
       "0            1         0       3   \n",
       "1            2         1       1   \n",
       "2            3         1       3   \n",
       "3            4         1       1   \n",
       "4            5         0       3   \n",
       "\n",
       "                                                Name     Sex   Age  SibSp  \\\n",
       "0                            Braund, Mr. Owen Harris    male  22.0      1   \n",
       "1  Cumings, Mrs. John Bradley (Florence Briggs Th...  female  38.0      1   \n",
       "2                             Heikkinen, Miss. Laina  female  26.0      0   \n",
       "3       Futrelle, Mrs. Jacques Heath (Lily May Peel)  female  35.0      1   \n",
       "4                           Allen, Mr. William Henry    male  35.0      0   \n",
       "\n",
       "   Parch            Ticket     Fare Cabin Embarked  \n",
       "0      0         A/5 21171   7.2500   NaN        S  \n",
       "1      0          PC 17599  71.2833   C85        C  \n",
       "2      0  STON/O2. 3101282   7.9250   NaN        S  \n",
       "3      0            113803  53.1000  C123        S  \n",
       "4      0            373450   8.0500   NaN        S  "
      ]
     },
     "execution_count": 1,
     "metadata": {},
     "output_type": "execute_result"
    }
   ],
   "source": [
    "import numpy as np\n",
    "import pandas as pd\n",
    "import seaborn as sns\n",
    "import matplotlib.pyplot as plt\n",
    "from sklearn.model_selection import train_test_split, cross_validate\n",
    "from statistics import mean\n",
    "from sklearn.metrics import accuracy_score, classification_report, mean_absolute_error, mean_squared_error, r2_score\n",
    "from sklearn.datasets import make_classification\n",
    "from sklearn import ensemble\n",
    "import sklearn.metrics as metrics\n",
    "import time\n",
    "from math import sqrt\n",
    "\n",
    "train=r'/kaggle/input/titanic/train.csv'\n",
    "test=r'/kaggle/input/titanic/test.csv' \n",
    "\n",
    "df=pd.read_csv(train)\n",
    "test=pd.read_csv(test)\n",
    "\n",
    "print(df.shape)\n",
    "df.head()"
   ]
  },
  {
   "cell_type": "code",
   "execution_count": 2,
   "id": "a1cdfa01",
   "metadata": {
    "execution": {
     "iopub.execute_input": "2022-10-02T17:36:16.001663Z",
     "iopub.status.busy": "2022-10-02T17:36:16.001348Z",
     "iopub.status.idle": "2022-10-02T17:36:16.027978Z",
     "shell.execute_reply": "2022-10-02T17:36:16.026896Z"
    },
    "papermill": {
     "duration": 0.061298,
     "end_time": "2022-10-02T17:36:16.030498",
     "exception": false,
     "start_time": "2022-10-02T17:36:15.969200",
     "status": "completed"
    },
    "tags": []
   },
   "outputs": [
    {
     "name": "stdout",
     "output_type": "stream",
     "text": [
      "Total no of duplicate values in Training Dataset = 0\n"
     ]
    },
    {
     "data": {
      "text/html": [
       "<div>\n",
       "<style scoped>\n",
       "    .dataframe tbody tr th:only-of-type {\n",
       "        vertical-align: middle;\n",
       "    }\n",
       "\n",
       "    .dataframe tbody tr th {\n",
       "        vertical-align: top;\n",
       "    }\n",
       "\n",
       "    .dataframe thead th {\n",
       "        text-align: right;\n",
       "    }\n",
       "</style>\n",
       "<table border=\"1\" class=\"dataframe\">\n",
       "  <thead>\n",
       "    <tr style=\"text-align: right;\">\n",
       "      <th></th>\n",
       "      <th>PassengerId</th>\n",
       "      <th>Survived</th>\n",
       "      <th>Pclass</th>\n",
       "      <th>Name</th>\n",
       "      <th>Sex</th>\n",
       "      <th>Age</th>\n",
       "      <th>SibSp</th>\n",
       "      <th>Parch</th>\n",
       "      <th>Ticket</th>\n",
       "      <th>Fare</th>\n",
       "      <th>Cabin</th>\n",
       "      <th>Embarked</th>\n",
       "    </tr>\n",
       "  </thead>\n",
       "  <tbody>\n",
       "  </tbody>\n",
       "</table>\n",
       "</div>"
      ],
      "text/plain": [
       "Empty DataFrame\n",
       "Columns: [PassengerId, Survived, Pclass, Name, Sex, Age, SibSp, Parch, Ticket, Fare, Cabin, Embarked]\n",
       "Index: []"
      ]
     },
     "execution_count": 2,
     "metadata": {},
     "output_type": "execute_result"
    }
   ],
   "source": [
    "#Check Duplicates:\n",
    "dupstr = df.duplicated()\n",
    "print('Total no of duplicate values in Training Dataset = %d' % (dupstr.sum()))\n",
    "df[dupstr]"
   ]
  },
  {
   "cell_type": "code",
   "execution_count": 3,
   "id": "51a3504f",
   "metadata": {
    "execution": {
     "iopub.execute_input": "2022-10-02T17:36:16.097186Z",
     "iopub.status.busy": "2022-10-02T17:36:16.096513Z",
     "iopub.status.idle": "2022-10-02T17:36:16.106576Z",
     "shell.execute_reply": "2022-10-02T17:36:16.105418Z"
    },
    "papermill": {
     "duration": 0.045419,
     "end_time": "2022-10-02T17:36:16.108791",
     "exception": false,
     "start_time": "2022-10-02T17:36:16.063372",
     "status": "completed"
    },
    "tags": []
   },
   "outputs": [
    {
     "name": "stdout",
     "output_type": "stream",
     "text": [
      "Missing data by column as a percent:\n",
      "Cabin          0.771044\n",
      "Age            0.198653\n",
      "Embarked       0.002245\n",
      "PassengerId    0.000000\n",
      "Survived       0.000000\n",
      "dtype: float64\n"
     ]
    }
   ],
   "source": [
    "#search for columns with missing values:\n",
    "def findNA():\n",
    "    print(\"Missing data by column as a percent:\")\n",
    "    findNA=df.isnull().sum().sort_values(ascending=False)/len(df)\n",
    "    print(findNA.head())\n",
    "findNA() "
   ]
  },
  {
   "cell_type": "markdown",
   "id": "3e7aa1b5",
   "metadata": {
    "papermill": {
     "duration": 0.031631,
     "end_time": "2022-10-02T17:36:16.176566",
     "exception": false,
     "start_time": "2022-10-02T17:36:16.144935",
     "status": "completed"
    },
    "tags": []
   },
   "source": [
    "# Feature Engineer\n",
    "We need to replace male and female into numbers. This is a very important part of the process because gender is one of the highest predictors on if a person survived or not."
   ]
  },
  {
   "cell_type": "code",
   "execution_count": 4,
   "id": "5064e68f",
   "metadata": {
    "execution": {
     "iopub.execute_input": "2022-10-02T17:36:16.243311Z",
     "iopub.status.busy": "2022-10-02T17:36:16.242991Z",
     "iopub.status.idle": "2022-10-02T17:36:16.249040Z",
     "shell.execute_reply": "2022-10-02T17:36:16.247934Z"
    },
    "papermill": {
     "duration": 0.042488,
     "end_time": "2022-10-02T17:36:16.251028",
     "exception": false,
     "start_time": "2022-10-02T17:36:16.208540",
     "status": "completed"
    },
    "tags": []
   },
   "outputs": [],
   "source": [
    "#GENDER\n",
    "df['Sex']=df['Sex'].map({'female':0,'male':1})"
   ]
  },
  {
   "cell_type": "markdown",
   "id": "8b8d5640",
   "metadata": {
    "papermill": {
     "duration": 0.032019,
     "end_time": "2022-10-02T17:36:16.316367",
     "exception": false,
     "start_time": "2022-10-02T17:36:16.284348",
     "status": "completed"
    },
    "tags": []
   },
   "source": [
    "Females whose number is 0 had a much higher chance of surving than males. Later on, doing the importance feature analysis we will view that gender is actually one of the highest predictors. "
   ]
  },
  {
   "cell_type": "code",
   "execution_count": 5,
   "id": "65c9ab99",
   "metadata": {
    "execution": {
     "iopub.execute_input": "2022-10-02T17:36:16.384149Z",
     "iopub.status.busy": "2022-10-02T17:36:16.383417Z",
     "iopub.status.idle": "2022-10-02T17:36:16.414430Z",
     "shell.execute_reply": "2022-10-02T17:36:16.413469Z"
    },
    "papermill": {
     "duration": 0.066483,
     "end_time": "2022-10-02T17:36:16.416534",
     "exception": false,
     "start_time": "2022-10-02T17:36:16.350051",
     "status": "completed"
    },
    "tags": []
   },
   "outputs": [
    {
     "data": {
      "text/html": [
       "<div>\n",
       "<style scoped>\n",
       "    .dataframe tbody tr th:only-of-type {\n",
       "        vertical-align: middle;\n",
       "    }\n",
       "\n",
       "    .dataframe tbody tr th {\n",
       "        vertical-align: top;\n",
       "    }\n",
       "\n",
       "    .dataframe thead th {\n",
       "        text-align: right;\n",
       "    }\n",
       "</style>\n",
       "<table border=\"1\" class=\"dataframe\">\n",
       "  <thead>\n",
       "    <tr style=\"text-align: right;\">\n",
       "      <th>Sex</th>\n",
       "      <th>0</th>\n",
       "      <th>1</th>\n",
       "    </tr>\n",
       "    <tr>\n",
       "      <th>Survived</th>\n",
       "      <th></th>\n",
       "      <th></th>\n",
       "    </tr>\n",
       "  </thead>\n",
       "  <tbody>\n",
       "    <tr>\n",
       "      <th>0</th>\n",
       "      <td>81</td>\n",
       "      <td>468</td>\n",
       "    </tr>\n",
       "    <tr>\n",
       "      <th>1</th>\n",
       "      <td>233</td>\n",
       "      <td>109</td>\n",
       "    </tr>\n",
       "  </tbody>\n",
       "</table>\n",
       "</div>"
      ],
      "text/plain": [
       "Sex         0    1\n",
       "Survived          \n",
       "0          81  468\n",
       "1         233  109"
      ]
     },
     "execution_count": 5,
     "metadata": {},
     "output_type": "execute_result"
    }
   ],
   "source": [
    "genderTable = pd.crosstab(df['Survived'],df['Sex'])\n",
    "genderTable"
   ]
  },
  {
   "cell_type": "markdown",
   "id": "7f1b4cb9",
   "metadata": {
    "papermill": {
     "duration": 0.032191,
     "end_time": "2022-10-02T17:36:16.481490",
     "exception": false,
     "start_time": "2022-10-02T17:36:16.449299",
     "status": "completed"
    },
    "tags": []
   },
   "source": [
    "# Encode Categorical Variables\n",
    "Encode Categorical Variables is needed for this dataset since there are many important variables that are not numeric yet. \n",
    "\n",
    "There are three classes C, Q, and S. Class C seems to have the highest chance of survival. Class S has the lowest chance of survival. Unfornately this would tend to show that economic status seems to played a part in the decision if someone survived or not. Embarked does not play role major role in feature importance. "
   ]
  },
  {
   "cell_type": "code",
   "execution_count": 6,
   "id": "4f628cb9",
   "metadata": {
    "execution": {
     "iopub.execute_input": "2022-10-02T17:36:16.549159Z",
     "iopub.status.busy": "2022-10-02T17:36:16.548718Z",
     "iopub.status.idle": "2022-10-02T17:36:16.762789Z",
     "shell.execute_reply": "2022-10-02T17:36:16.762156Z"
    },
    "papermill": {
     "duration": 0.249596,
     "end_time": "2022-10-02T17:36:16.764752",
     "exception": false,
     "start_time": "2022-10-02T17:36:16.515156",
     "status": "completed"
    },
    "tags": []
   },
   "outputs": [
    {
     "data": {
      "text/html": [
       "<div>\n",
       "<style scoped>\n",
       "    .dataframe tbody tr th:only-of-type {\n",
       "        vertical-align: middle;\n",
       "    }\n",
       "\n",
       "    .dataframe tbody tr th {\n",
       "        vertical-align: top;\n",
       "    }\n",
       "\n",
       "    .dataframe thead th {\n",
       "        text-align: right;\n",
       "    }\n",
       "</style>\n",
       "<table border=\"1\" class=\"dataframe\">\n",
       "  <thead>\n",
       "    <tr style=\"text-align: right;\">\n",
       "      <th></th>\n",
       "      <th>PassengerId</th>\n",
       "      <th>Survived</th>\n",
       "      <th>Pclass</th>\n",
       "      <th>Name</th>\n",
       "      <th>Sex</th>\n",
       "      <th>Age</th>\n",
       "      <th>SibSp</th>\n",
       "      <th>Parch</th>\n",
       "      <th>Ticket</th>\n",
       "      <th>Fare</th>\n",
       "      <th>Cabin</th>\n",
       "      <th>Embarked</th>\n",
       "      <th>FirstClass</th>\n",
       "    </tr>\n",
       "  </thead>\n",
       "  <tbody>\n",
       "    <tr>\n",
       "      <th>0</th>\n",
       "      <td>1</td>\n",
       "      <td>0</td>\n",
       "      <td>3</td>\n",
       "      <td>Braund, Mr. Owen Harris</td>\n",
       "      <td>1</td>\n",
       "      <td>22.0</td>\n",
       "      <td>1</td>\n",
       "      <td>0</td>\n",
       "      <td>A/5 21171</td>\n",
       "      <td>7.2500</td>\n",
       "      <td>NaN</td>\n",
       "      <td>S</td>\n",
       "      <td>0</td>\n",
       "    </tr>\n",
       "    <tr>\n",
       "      <th>1</th>\n",
       "      <td>2</td>\n",
       "      <td>1</td>\n",
       "      <td>1</td>\n",
       "      <td>Cumings, Mrs. John Bradley (Florence Briggs Th...</td>\n",
       "      <td>0</td>\n",
       "      <td>38.0</td>\n",
       "      <td>1</td>\n",
       "      <td>0</td>\n",
       "      <td>PC 17599</td>\n",
       "      <td>71.2833</td>\n",
       "      <td>C85</td>\n",
       "      <td>C</td>\n",
       "      <td>1</td>\n",
       "    </tr>\n",
       "    <tr>\n",
       "      <th>2</th>\n",
       "      <td>3</td>\n",
       "      <td>1</td>\n",
       "      <td>3</td>\n",
       "      <td>Heikkinen, Miss. Laina</td>\n",
       "      <td>0</td>\n",
       "      <td>26.0</td>\n",
       "      <td>0</td>\n",
       "      <td>0</td>\n",
       "      <td>STON/O2. 3101282</td>\n",
       "      <td>7.9250</td>\n",
       "      <td>NaN</td>\n",
       "      <td>S</td>\n",
       "      <td>0</td>\n",
       "    </tr>\n",
       "    <tr>\n",
       "      <th>3</th>\n",
       "      <td>4</td>\n",
       "      <td>1</td>\n",
       "      <td>1</td>\n",
       "      <td>Futrelle, Mrs. Jacques Heath (Lily May Peel)</td>\n",
       "      <td>0</td>\n",
       "      <td>35.0</td>\n",
       "      <td>1</td>\n",
       "      <td>0</td>\n",
       "      <td>113803</td>\n",
       "      <td>53.1000</td>\n",
       "      <td>C123</td>\n",
       "      <td>S</td>\n",
       "      <td>1</td>\n",
       "    </tr>\n",
       "    <tr>\n",
       "      <th>4</th>\n",
       "      <td>5</td>\n",
       "      <td>0</td>\n",
       "      <td>3</td>\n",
       "      <td>Allen, Mr. William Henry</td>\n",
       "      <td>1</td>\n",
       "      <td>35.0</td>\n",
       "      <td>0</td>\n",
       "      <td>0</td>\n",
       "      <td>373450</td>\n",
       "      <td>8.0500</td>\n",
       "      <td>NaN</td>\n",
       "      <td>S</td>\n",
       "      <td>0</td>\n",
       "    </tr>\n",
       "  </tbody>\n",
       "</table>\n",
       "</div>"
      ],
      "text/plain": [
       "   PassengerId  Survived  Pclass  \\\n",
       "0            1         0       3   \n",
       "1            2         1       1   \n",
       "2            3         1       3   \n",
       "3            4         1       1   \n",
       "4            5         0       3   \n",
       "\n",
       "                                                Name  Sex   Age  SibSp  Parch  \\\n",
       "0                            Braund, Mr. Owen Harris    1  22.0      1      0   \n",
       "1  Cumings, Mrs. John Bradley (Florence Briggs Th...    0  38.0      1      0   \n",
       "2                             Heikkinen, Miss. Laina    0  26.0      0      0   \n",
       "3       Futrelle, Mrs. Jacques Heath (Lily May Peel)    0  35.0      1      0   \n",
       "4                           Allen, Mr. William Henry    1  35.0      0      0   \n",
       "\n",
       "             Ticket     Fare Cabin Embarked  FirstClass  \n",
       "0         A/5 21171   7.2500   NaN        S           0  \n",
       "1          PC 17599  71.2833   C85        C           1  \n",
       "2  STON/O2. 3101282   7.9250   NaN        S           0  \n",
       "3            113803  53.1000  C123        S           1  \n",
       "4            373450   8.0500   NaN        S           0  "
      ]
     },
     "execution_count": 6,
     "metadata": {},
     "output_type": "execute_result"
    }
   ],
   "source": [
    "import category_encoders as ce\n",
    "encoder = ce.OrdinalEncoder(cols=['Embarked'])\n",
    "\n",
    "#df = encoder.fit_transform(df)\n",
    "#test = encoder.fit_transform(test)\n",
    "#test.head()\n",
    "df['Pclass'].value_counts()\n",
    "df['FirstClass']=df['Pclass'].apply(lambda x: 1 if x==1 else 0)\n",
    "df.head()"
   ]
  },
  {
   "cell_type": "markdown",
   "id": "981c7218",
   "metadata": {
    "papermill": {
     "duration": 0.033066,
     "end_time": "2022-10-02T17:36:16.831259",
     "exception": false,
     "start_time": "2022-10-02T17:36:16.798193",
     "status": "completed"
    },
    "tags": []
   },
   "source": [
    "# Examine Target Variable\n",
    "Survived is the Y variable we will be analyzing. Since the survival rete is 0.384 the data is not considered unbalanced. "
   ]
  },
  {
   "cell_type": "code",
   "execution_count": 7,
   "id": "09a11ed7",
   "metadata": {
    "execution": {
     "iopub.execute_input": "2022-10-02T17:36:16.904086Z",
     "iopub.status.busy": "2022-10-02T17:36:16.903777Z",
     "iopub.status.idle": "2022-10-02T17:36:16.911203Z",
     "shell.execute_reply": "2022-10-02T17:36:16.910154Z"
    },
    "papermill": {
     "duration": 0.046839,
     "end_time": "2022-10-02T17:36:16.913388",
     "exception": false,
     "start_time": "2022-10-02T17:36:16.866549",
     "status": "completed"
    },
    "tags": []
   },
   "outputs": [
    {
     "name": "stdout",
     "output_type": "stream",
     "text": [
      "0    549\n",
      "1    342\n",
      "Name: Survived, dtype: int64\n",
      "Percent that survived:  0.384\n"
     ]
    }
   ],
   "source": [
    "temp=df['Survived'].value_counts()\n",
    "print(temp)\n",
    "no=temp[0]\n",
    "yes=temp[1]\n",
    "percent=round(yes/(yes+no),3)\n",
    "print(\"Percent that survived: \", percent)"
   ]
  },
  {
   "cell_type": "markdown",
   "id": "99473032",
   "metadata": {
    "papermill": {
     "duration": 0.033924,
     "end_time": "2022-10-02T17:36:16.982221",
     "exception": false,
     "start_time": "2022-10-02T17:36:16.948297",
     "status": "completed"
    },
    "tags": []
   },
   "source": [
    "# Numeric DataFrame\n",
    "For now, we will analyze only numeric values. Categorical values will need to be encoded or analyzed individually."
   ]
  },
  {
   "cell_type": "code",
   "execution_count": 8,
   "id": "b0654e68",
   "metadata": {
    "execution": {
     "iopub.execute_input": "2022-10-02T17:36:17.051472Z",
     "iopub.status.busy": "2022-10-02T17:36:17.050445Z",
     "iopub.status.idle": "2022-10-02T17:36:17.066163Z",
     "shell.execute_reply": "2022-10-02T17:36:17.065037Z"
    },
    "papermill": {
     "duration": 0.052824,
     "end_time": "2022-10-02T17:36:17.068553",
     "exception": false,
     "start_time": "2022-10-02T17:36:17.015729",
     "status": "completed"
    },
    "tags": []
   },
   "outputs": [
    {
     "data": {
      "text/html": [
       "<div>\n",
       "<style scoped>\n",
       "    .dataframe tbody tr th:only-of-type {\n",
       "        vertical-align: middle;\n",
       "    }\n",
       "\n",
       "    .dataframe tbody tr th {\n",
       "        vertical-align: top;\n",
       "    }\n",
       "\n",
       "    .dataframe thead th {\n",
       "        text-align: right;\n",
       "    }\n",
       "</style>\n",
       "<table border=\"1\" class=\"dataframe\">\n",
       "  <thead>\n",
       "    <tr style=\"text-align: right;\">\n",
       "      <th></th>\n",
       "      <th>PassengerId</th>\n",
       "      <th>Survived</th>\n",
       "      <th>Pclass</th>\n",
       "      <th>Sex</th>\n",
       "      <th>Age</th>\n",
       "      <th>SibSp</th>\n",
       "      <th>Parch</th>\n",
       "      <th>Fare</th>\n",
       "      <th>FirstClass</th>\n",
       "    </tr>\n",
       "  </thead>\n",
       "  <tbody>\n",
       "    <tr>\n",
       "      <th>0</th>\n",
       "      <td>1</td>\n",
       "      <td>0</td>\n",
       "      <td>3</td>\n",
       "      <td>1</td>\n",
       "      <td>22.0</td>\n",
       "      <td>1</td>\n",
       "      <td>0</td>\n",
       "      <td>7.2500</td>\n",
       "      <td>0</td>\n",
       "    </tr>\n",
       "    <tr>\n",
       "      <th>1</th>\n",
       "      <td>2</td>\n",
       "      <td>1</td>\n",
       "      <td>1</td>\n",
       "      <td>0</td>\n",
       "      <td>38.0</td>\n",
       "      <td>1</td>\n",
       "      <td>0</td>\n",
       "      <td>71.2833</td>\n",
       "      <td>1</td>\n",
       "    </tr>\n",
       "    <tr>\n",
       "      <th>2</th>\n",
       "      <td>3</td>\n",
       "      <td>1</td>\n",
       "      <td>3</td>\n",
       "      <td>0</td>\n",
       "      <td>26.0</td>\n",
       "      <td>0</td>\n",
       "      <td>0</td>\n",
       "      <td>7.9250</td>\n",
       "      <td>0</td>\n",
       "    </tr>\n",
       "    <tr>\n",
       "      <th>3</th>\n",
       "      <td>4</td>\n",
       "      <td>1</td>\n",
       "      <td>1</td>\n",
       "      <td>0</td>\n",
       "      <td>35.0</td>\n",
       "      <td>1</td>\n",
       "      <td>0</td>\n",
       "      <td>53.1000</td>\n",
       "      <td>1</td>\n",
       "    </tr>\n",
       "    <tr>\n",
       "      <th>4</th>\n",
       "      <td>5</td>\n",
       "      <td>0</td>\n",
       "      <td>3</td>\n",
       "      <td>1</td>\n",
       "      <td>35.0</td>\n",
       "      <td>0</td>\n",
       "      <td>0</td>\n",
       "      <td>8.0500</td>\n",
       "      <td>0</td>\n",
       "    </tr>\n",
       "  </tbody>\n",
       "</table>\n",
       "</div>"
      ],
      "text/plain": [
       "   PassengerId  Survived  Pclass  Sex   Age  SibSp  Parch     Fare  FirstClass\n",
       "0            1         0       3    1  22.0      1      0   7.2500           0\n",
       "1            2         1       1    0  38.0      1      0  71.2833           1\n",
       "2            3         1       3    0  26.0      0      0   7.9250           0\n",
       "3            4         1       1    0  35.0      1      0  53.1000           1\n",
       "4            5         0       3    1  35.0      0      0   8.0500           0"
      ]
     },
     "execution_count": 8,
     "metadata": {},
     "output_type": "execute_result"
    }
   ],
   "source": [
    "numerics = ['int16', 'int32', 'int64', 'float16', 'float32', 'float64']\n",
    "df = df.select_dtypes(include=numerics)\n",
    "df.head()"
   ]
  },
  {
   "cell_type": "markdown",
   "id": "45bbe2ce",
   "metadata": {
    "papermill": {
     "duration": 0.034336,
     "end_time": "2022-10-02T17:36:17.138088",
     "exception": false,
     "start_time": "2022-10-02T17:36:17.103752",
     "status": "completed"
    },
    "tags": []
   },
   "source": [
    "# Correlations"
   ]
  },
  {
   "cell_type": "code",
   "execution_count": 9,
   "id": "8eeb1d91",
   "metadata": {
    "execution": {
     "iopub.execute_input": "2022-10-02T17:36:17.207547Z",
     "iopub.status.busy": "2022-10-02T17:36:17.207232Z",
     "iopub.status.idle": "2022-10-02T17:36:17.727438Z",
     "shell.execute_reply": "2022-10-02T17:36:17.726542Z"
    },
    "papermill": {
     "duration": 0.558093,
     "end_time": "2022-10-02T17:36:17.730185",
     "exception": false,
     "start_time": "2022-10-02T17:36:17.172092",
     "status": "completed"
    },
    "tags": []
   },
   "outputs": [
    {
     "data": {
      "text/plain": [
       "<AxesSubplot:>"
      ]
     },
     "execution_count": 9,
     "metadata": {},
     "output_type": "execute_result"
    },
    {
     "data": {
      "image/png": "[encoded data removed]",
      "text/plain": [
       "<Figure size 432x288 with 2 Axes>"
      ]
     },
     "metadata": {
      "needs_background": "light"
     },
     "output_type": "display_data"
    }
   ],
   "source": [
    "import seaborn as sns\n",
    "corr= df.corr()\n",
    "matrix = np.triu(corr)\n",
    "sns.heatmap(corr, annot=True, mask=matrix)"
   ]
  },
  {
   "cell_type": "markdown",
   "id": "9a44363c",
   "metadata": {
    "papermill": {
     "duration": 0.03575,
     "end_time": "2022-10-02T17:36:17.803696",
     "exception": false,
     "start_time": "2022-10-02T17:36:17.767946",
     "status": "completed"
    },
    "tags": []
   },
   "source": [
    "# Check for missing values\n",
    "Age is missing around 20% of values.Therefore, we can simply fill in the mean for that one column."
   ]
  },
  {
   "cell_type": "code",
   "execution_count": 10,
   "id": "4ee2c9c4",
   "metadata": {
    "execution": {
     "iopub.execute_input": "2022-10-02T17:36:17.877793Z",
     "iopub.status.busy": "2022-10-02T17:36:17.877497Z",
     "iopub.status.idle": "2022-10-02T17:36:17.886621Z",
     "shell.execute_reply": "2022-10-02T17:36:17.885517Z"
    },
    "papermill": {
     "duration": 0.048932,
     "end_time": "2022-10-02T17:36:17.888754",
     "exception": false,
     "start_time": "2022-10-02T17:36:17.839822",
     "status": "completed"
    },
    "tags": []
   },
   "outputs": [
    {
     "name": "stdout",
     "output_type": "stream",
     "text": [
      "Missing data by column as a percent:\n",
      "Age            0.198653\n",
      "PassengerId    0.000000\n",
      "Survived       0.000000\n",
      "Pclass         0.000000\n",
      "Sex            0.000000\n",
      "dtype: float64\n"
     ]
    }
   ],
   "source": [
    "#search for columns with missing values:\n",
    "def findNA():\n",
    "    print(\"Missing data by column as a percent:\")\n",
    "    findNA=df.isnull().sum().sort_values(ascending=False)/len(df)\n",
    "    print(findNA.head())\n",
    "findNA() "
   ]
  },
  {
   "cell_type": "code",
   "execution_count": 11,
   "id": "4ddf2863",
   "metadata": {
    "execution": {
     "iopub.execute_input": "2022-10-02T17:36:17.965453Z",
     "iopub.status.busy": "2022-10-02T17:36:17.965167Z",
     "iopub.status.idle": "2022-10-02T17:36:17.973676Z",
     "shell.execute_reply": "2022-10-02T17:36:17.972926Z"
    },
    "papermill": {
     "duration": 0.05068,
     "end_time": "2022-10-02T17:36:17.975955",
     "exception": false,
     "start_time": "2022-10-02T17:36:17.925275",
     "status": "completed"
    },
    "tags": []
   },
   "outputs": [],
   "source": [
    "df= df.fillna(df.mean())"
   ]
  },
  {
   "cell_type": "markdown",
   "id": "7f7e0f91",
   "metadata": {
    "papermill": {
     "duration": 0.036572,
     "end_time": "2022-10-02T17:36:18.050667",
     "exception": false,
     "start_time": "2022-10-02T17:36:18.014095",
     "status": "completed"
    },
    "tags": []
   },
   "source": [
    "# Split Data"
   ]
  },
  {
   "cell_type": "code",
   "execution_count": 12,
   "id": "e20de932",
   "metadata": {
    "execution": {
     "iopub.execute_input": "2022-10-02T17:36:18.126799Z",
     "iopub.status.busy": "2022-10-02T17:36:18.126349Z",
     "iopub.status.idle": "2022-10-02T17:36:18.133068Z",
     "shell.execute_reply": "2022-10-02T17:36:18.132262Z"
    },
    "papermill": {
     "duration": 0.047609,
     "end_time": "2022-10-02T17:36:18.135572",
     "exception": false,
     "start_time": "2022-10-02T17:36:18.087963",
     "status": "completed"
    },
    "tags": []
   },
   "outputs": [],
   "source": [
    "X=df.drop('Survived', axis=1)\n",
    "y=df['Survived']\n",
    "\n",
    "X_train, X_test, y_train, y_test = train_test_split(\n",
    "    X, y, test_size = 0.30, random_state = 42)"
   ]
  },
  {
   "cell_type": "markdown",
   "id": "d4bec12e",
   "metadata": {
    "papermill": {
     "duration": 0.036348,
     "end_time": "2022-10-02T17:36:18.208553",
     "exception": false,
     "start_time": "2022-10-02T17:36:18.172205",
     "status": "completed"
    },
    "tags": []
   },
   "source": [
    "# Highly Correlated Features\n",
    "There are no highly correlated variables above 80%. Therefore, we do not need to be concerned about removing variables that are too highly correlated. "
   ]
  },
  {
   "cell_type": "markdown",
   "id": "9925b17a",
   "metadata": {
    "papermill": {
     "duration": 0.036685,
     "end_time": "2022-10-02T17:36:18.282634",
     "exception": false,
     "start_time": "2022-10-02T17:36:18.245949",
     "status": "completed"
    },
    "tags": []
   },
   "source": [
    "# Tunning Tree"
   ]
  },
  {
   "cell_type": "code",
   "execution_count": 13,
   "id": "585984d8",
   "metadata": {
    "execution": {
     "iopub.execute_input": "2022-10-02T17:36:18.359200Z",
     "iopub.status.busy": "2022-10-02T17:36:18.358747Z",
     "iopub.status.idle": "2022-10-02T17:36:19.365735Z",
     "shell.execute_reply": "2022-10-02T17:36:19.365092Z"
    },
    "papermill": {
     "duration": 1.046881,
     "end_time": "2022-10-02T17:36:19.367886",
     "exception": false,
     "start_time": "2022-10-02T17:36:18.321005",
     "status": "completed"
    },
    "tags": []
   },
   "outputs": [
    {
     "data": {
      "image/png": "[encoded data removed]",
      "text/plain": [
       "<Figure size 432x288 with 1 Axes>"
      ]
     },
     "metadata": {
      "needs_background": "light"
     },
     "output_type": "display_data"
    },
    {
     "data": {
      "image/png": "[encoded data removed]",
      "text/plain": [
       "<Figure size 432x288 with 1 Axes>"
      ]
     },
     "metadata": {
      "needs_background": "light"
     },
     "output_type": "display_data"
    },
    {
     "data": {
      "image/png": "[encoded data removed]",
      "text/plain": [
       "<Figure size 432x288 with 1 Axes>"
      ]
     },
     "metadata": {
      "needs_background": "light"
     },
     "output_type": "display_data"
    },
    {
     "data": {
      "image/png": "[encoded data removed]",
      "text/plain": [
       "<Figure size 432x288 with 1 Axes>"
      ]
     },
     "metadata": {
      "needs_background": "light"
     },
     "output_type": "display_data"
    }
   ],
   "source": [
    "from sklearn.tree import DecisionTreeRegressor, DecisionTreeClassifier\n",
    "from sklearn.model_selection import GridSearchCV\n",
    "\n",
    "#FIND best_tree_size LEAF NODES:\n",
    "def calcLeaf():\n",
    "    leafList = [None, 2, 4, 5, 10, 20]\n",
    "    accList=[]\n",
    "    maeList=[]\n",
    "    \n",
    "    for leaf in leafList:\n",
    "        tree = DecisionTreeClassifier(max_leaf_nodes=leaf, random_state=42)\n",
    "        tree.fit(X_train, y_train)\n",
    "        y_pred = tree.predict(X_test)\n",
    "        mae = mean_absolute_error(y_test, y_pred).round(4)\n",
    "        treeAUC = round( metrics.roc_auc_score(y_test, y_pred), 4 ) \n",
    "        accList.append(treeAUC)\n",
    "        maeList.append(mae)\n",
    "    \n",
    "    plt.plot(leafList,accList, label=\"Accuracy\")\n",
    "    plt.title('Decision Tree')\n",
    "    plt.xlabel('max_leaf_nodes')\n",
    "    plt.ylabel('Accuracy')\n",
    "    plt.legend()\n",
    "    plt.show()         \n",
    "    \n",
    "    plt.plot(leafList, maeList, label=\"Error\")\n",
    "    plt.title('Decision Tree')\n",
    "    plt.xlabel('max_leaf_nodes')\n",
    "    plt.ylabel('Error')\n",
    "    plt.legend()\n",
    "    plt.show()  \n",
    "    \n",
    "def calcDepth():\n",
    "    maxDepthList = [2, 3, 5, 6, 7, 8, 9, 10]\n",
    "    accList=[]\n",
    "    maeList=[]\n",
    "    \n",
    "    for d in maxDepthList:\n",
    "        tree = DecisionTreeClassifier(max_depth=d, random_state=42)\n",
    "        tree.fit(X_train, y_train)\n",
    "        y_pred = tree.predict(X_test)\n",
    "        mae = mean_absolute_error(y_test, y_pred).round(4)\n",
    "        treeAUC = round( metrics.roc_auc_score(y_test, y_pred), 4 ) \n",
    "        maeList.append(mae)\n",
    "        accList.append(treeAUC)\n",
    "        #print(d, \" max_depth || AUC \", treeAUC, \" || MAE: \", mae)\n",
    "\n",
    "    plt.plot(maxDepthList,accList, label=\"accuracy\")\n",
    "    plt.title('Decision Tree')\n",
    "    plt.xlabel('MaxDepth')\n",
    "    plt.ylabel('Accuracy')\n",
    "    plt.legend()\n",
    "    plt.show()         \n",
    "    \n",
    "    plt.plot(maxDepthList,maeList, label=\"error\")\n",
    "    plt.title('Decision Tree')\n",
    "    plt.xlabel('MaxDepth')\n",
    "    plt.ylabel('Error')\n",
    "    plt.legend()\n",
    "    plt.show()     \n",
    "    \n",
    "#TURN FUNCTION OFF OR ON BELOW:   \n",
    "calcLeaf()\n",
    "calcDepth() "
   ]
  },
  {
   "cell_type": "code",
   "execution_count": 14,
   "id": "ba19cade",
   "metadata": {
    "execution": {
     "iopub.execute_input": "2022-10-02T17:36:19.455137Z",
     "iopub.status.busy": "2022-10-02T17:36:19.454560Z",
     "iopub.status.idle": "2022-10-02T17:36:19.848332Z",
     "shell.execute_reply": "2022-10-02T17:36:19.847469Z"
    },
    "papermill": {
     "duration": 0.441376,
     "end_time": "2022-10-02T17:36:19.850593",
     "exception": false,
     "start_time": "2022-10-02T17:36:19.409217",
     "status": "completed"
    },
    "tags": []
   },
   "outputs": [
    {
     "data": {
      "image/png": "[encoded data removed]",
      "text/plain": [
       "<Figure size 432x288 with 1 Axes>"
      ]
     },
     "metadata": {
      "needs_background": "light"
     },
     "output_type": "display_data"
    },
    {
     "data": {
      "image/png": "[encoded data removed]",
      "text/plain": [
       "<Figure size 432x288 with 1 Axes>"
      ]
     },
     "metadata": {
      "needs_background": "light"
     },
     "output_type": "display_data"
    }
   ],
   "source": [
    "def calcMin():\n",
    "    numbers = [.01, .3, .5, 1]\n",
    "    accList=[]\n",
    "    maeList=[]\n",
    "    \n",
    "    for n in numbers:\n",
    "        tree = DecisionTreeClassifier(min_samples_leaf=n, random_state=42)\n",
    "        tree.fit(X_train, y_train)\n",
    "        y_pred = tree.predict(X_test)\n",
    "        mae = mean_absolute_error(y_test, y_pred).round(4)\n",
    "        treeAUC = round( metrics.roc_auc_score(y_test, y_pred), 4 ) \n",
    "        maeList.append(mae)\n",
    "        accList.append(treeAUC)\n",
    "        #print(d, \" max_depth || AUC \", treeAUC, \" || MAE: \", mae)\n",
    "\n",
    "    plt.plot(numbers,accList, label=\"accuracy\")\n",
    "    plt.title('Decision Tree')\n",
    "    plt.xlabel('Min_samples_leaf')\n",
    "    plt.ylabel('Accuracy')\n",
    "    plt.legend()\n",
    "    plt.show()         \n",
    "    \n",
    "    plt.plot(numbers,maeList, label=\"error\")\n",
    "    plt.title('Decision Tree')\n",
    "    plt.xlabel('Min_samples_leaf')\n",
    "    plt.ylabel('Error')\n",
    "    plt.legend()\n",
    "    plt.show()  \n",
    "calcMin()"
   ]
  },
  {
   "cell_type": "code",
   "execution_count": 15,
   "id": "deca710d",
   "metadata": {
    "execution": {
     "iopub.execute_input": "2022-10-02T17:36:19.938907Z",
     "iopub.status.busy": "2022-10-02T17:36:19.938572Z",
     "iopub.status.idle": "2022-10-02T17:36:20.402958Z",
     "shell.execute_reply": "2022-10-02T17:36:20.401911Z"
    },
    "papermill": {
     "duration": 0.51136,
     "end_time": "2022-10-02T17:36:20.405428",
     "exception": false,
     "start_time": "2022-10-02T17:36:19.894068",
     "status": "completed"
    },
    "tags": []
   },
   "outputs": [
    {
     "data": {
      "image/png": "[encoded data removed]",
      "text/plain": [
       "<Figure size 432x288 with 1 Axes>"
      ]
     },
     "metadata": {
      "needs_background": "light"
     },
     "output_type": "display_data"
    },
    {
     "data": {
      "image/png": "[encoded data removed]",
      "text/plain": [
       "<Figure size 432x288 with 1 Axes>"
      ]
     },
     "metadata": {
      "needs_background": "light"
     },
     "output_type": "display_data"
    }
   ],
   "source": [
    "def calcMax():\n",
    "    name='max_features'\n",
    "    numbers = [None, 0.2, 0.4, 0.6, 0.8, .9, 1]\n",
    "    accList=[]\n",
    "    maeList=[]\n",
    "\n",
    "    for n in numbers:\n",
    "        tree = DecisionTreeClassifier(max_features=n, random_state=42)\n",
    "        tree.fit(X_train, y_train)\n",
    "        y_pred = tree.predict(X_test)\n",
    "        mae = mean_absolute_error(y_test, y_pred).round(4)\n",
    "        treeAUC = round( metrics.roc_auc_score(y_test, y_pred), 4 ) \n",
    "        maeList.append(mae)\n",
    "        accList.append(treeAUC)\n",
    "        #print(d, \" max_depth || AUC \", treeAUC, \" || MAE: \", mae)\n",
    "\n",
    "    plt.plot(numbers,accList, label=\"accuracy\")\n",
    "    plt.title('Decision Tree')\n",
    "    plt.xlabel(name)\n",
    "    plt.ylabel('Accuracy')\n",
    "    plt.legend()\n",
    "    plt.show()         \n",
    "    \n",
    "    plt.plot(numbers,maeList, label=\"error\")\n",
    "    plt.title('Decision Tree')\n",
    "    plt.xlabel(name)\n",
    "    plt.ylabel('Error')\n",
    "    plt.legend()\n",
    "    plt.show()  \n",
    "calcMax()"
   ]
  },
  {
   "cell_type": "markdown",
   "id": "5bec762c",
   "metadata": {
    "papermill": {
     "duration": 0.045024,
     "end_time": "2022-10-02T17:36:20.496348",
     "exception": false,
     "start_time": "2022-10-02T17:36:20.451324",
     "status": "completed"
    },
    "tags": []
   },
   "source": [
    "# GridSearch Tree\n",
    "Using entropy versus gini makes little difference see notes page at end for more information. \n",
    "* Top 10%  DecisionTreeClassifier(criterion='entropy', max_depth=5, max_features=0.5,\n",
    "                       min_samples_leaf=0.01)\n",
    "* Top 9%  DecisionTreeClassifier(criterion='entropy', max_depth=6, max_features=0.9,\n",
    "                       min_samples_leaf=0.01)\n",
    "                       \n",
    "Shockingly using max_depth of 6 scores slightly higher than max_depth 5 even though the individual tests show that max_depth 5 is better. Max_depth of 6 does not cross validate as well but it provides less error. "
   ]
  },
  {
   "cell_type": "code",
   "execution_count": 16,
   "id": "83e37e50",
   "metadata": {
    "execution": {
     "iopub.execute_input": "2022-10-02T17:36:20.586474Z",
     "iopub.status.busy": "2022-10-02T17:36:20.586179Z",
     "iopub.status.idle": "2022-10-02T17:36:44.721871Z",
     "shell.execute_reply": "2022-10-02T17:36:44.720948Z"
    },
    "papermill": {
     "duration": 24.183175,
     "end_time": "2022-10-02T17:36:44.723964",
     "exception": false,
     "start_time": "2022-10-02T17:36:20.540789",
     "status": "completed"
    },
    "tags": []
   },
   "outputs": [
    {
     "name": "stdout",
     "output_type": "stream",
     "text": [
      "DecisionTreeClassifier(criterion='entropy', max_depth=7, max_features=0.9,\n",
      "                       min_samples_leaf=0.01)\n"
     ]
    }
   ],
   "source": [
    "tree_param = {'criterion':['entropy', 'gini'],\n",
    "            'max_depth':[2, 3,4,5, 6, 7],\n",
    "             'max_leaf_nodes':[None, 2, 3], \n",
    "              'min_samples_leaf':[.01, .3, .5, 1],\n",
    "            'max_features':[.1, .2, .3, .5, .7, .9, 1]\n",
    "             }\n",
    "treeGrid=GridSearchCV(DecisionTreeClassifier(), tree_param, cv=5, scoring='accuracy')\n",
    "treeGrid.fit(X, y)\n",
    "print(treeGrid.best_estimator_)"
   ]
  },
  {
   "cell_type": "markdown",
   "id": "8b93e5dc",
   "metadata": {
    "papermill": {
     "duration": 0.052753,
     "end_time": "2022-10-02T17:36:44.824155",
     "exception": false,
     "start_time": "2022-10-02T17:36:44.771402",
     "status": "completed"
    },
    "tags": []
   },
   "source": [
    "#### Final Decision Tree Prediction\n",
    "Inputs below such as best_depth by using functions above."
   ]
  },
  {
   "cell_type": "code",
   "execution_count": 17,
   "id": "6b2a597c",
   "metadata": {
    "execution": {
     "iopub.execute_input": "2022-10-02T17:36:44.924559Z",
     "iopub.status.busy": "2022-10-02T17:36:44.923953Z",
     "iopub.status.idle": "2022-10-02T17:36:44.977017Z",
     "shell.execute_reply": "2022-10-02T17:36:44.976025Z"
    },
    "papermill": {
     "duration": 0.10879,
     "end_time": "2022-10-02T17:36:44.979212",
     "exception": false,
     "start_time": "2022-10-02T17:36:44.870422",
     "status": "completed"
    },
    "tags": []
   },
   "outputs": [
    {
     "name": "stdout",
     "output_type": "stream",
     "text": [
      "AUC for decision tree is:  0.8248\n",
      "0.4006  is tree MSE \n",
      "0.8103  ||  0.8396\n",
      "0.029299999999999993  cross validate score\n"
     ]
    }
   ],
   "source": [
    "dtree = DecisionTreeClassifier(\n",
    "    criterion='entropy',\n",
    "    max_depth=6, \n",
    "    max_features=.9,\n",
    "    max_leaf_nodes=None,\n",
    "    min_samples_leaf=.01\n",
    ")\n",
    "\n",
    "#FIT AND PREDICT:\n",
    "dtree.fit(X, y)\n",
    "y_pred =  dtree.predict(X_test)\n",
    "\n",
    "#Calculate Metrics:\n",
    "treeR2 = r2_score(y_test, y_pred).round(4)\n",
    "treeAUC = round( metrics.roc_auc_score(y_test, y_pred), 4 ) \n",
    "print(\"AUC for decision tree is: \", treeAUC)\n",
    "\n",
    "treeMSE=np.sqrt(metrics.mean_squared_error(y_test, y_pred))\n",
    "print(round(treeMSE, 4), \" is tree MSE \")\n",
    "\n",
    "#Cross Validate:\n",
    "treeScore = dtree.score(X_test, y_test).round(4)  \n",
    "treeCV = cross_validate(dtree, X, y, cv = 5)\n",
    "treeCV=treeCV['test_score'].mean().round(4)\n",
    "print(treeCV, ' || ', treeScore)\n",
    "print(treeScore-treeCV, \" cross validate score\")"
   ]
  },
  {
   "cell_type": "code",
   "execution_count": 18,
   "id": "43f29beb",
   "metadata": {
    "execution": {
     "iopub.execute_input": "2022-10-02T17:36:45.078756Z",
     "iopub.status.busy": "2022-10-02T17:36:45.078199Z",
     "iopub.status.idle": "2022-10-02T17:36:46.176695Z",
     "shell.execute_reply": "2022-10-02T17:36:46.175610Z"
    },
    "papermill": {
     "duration": 1.150093,
     "end_time": "2022-10-02T17:36:46.179774",
     "exception": false,
     "start_time": "2022-10-02T17:36:45.029681",
     "status": "completed"
    },
    "tags": []
   },
   "outputs": [
    {
     "data": {
      "image/svg+xml": [
       "<?xml version=\"1.0\" encoding=\"UTF-8\" standalone=\"no\"?>\n",
       "<!DOCTYPE svg PUBLIC \"-//W3C//DTD SVG 1.1//EN\"\n",
       " \"http://www.w3.org/Graphics/SVG/1.1/DTD/svg11.dtd\">\n",
       "<!-- Generated by graphviz version 2.50.0 (20211209.0339)\n",
       " -->\n",
       "<!-- Title: Tree Pages: 1 -->\n",
       "<svg width=\"2582pt\" height=\"685pt\"\n",
       " viewBox=\"0.00 0.00 2582.00 685.00\" xmlns=\"http://www.w3.org/2000/svg\" xmlns:xlink=\"http://www.w3.org/1999/xlink\">\n",
       "<g id=\"graph0\" class=\"graph\" transform=\"scale(1 1) rotate(0) translate(4 681)\">\n",
       "<title>Tree</title>\n",
       "<polygon fill=\"white\" stroke=\"transparent\" points=\"-4,4 -4,-681 2578,-681 2578,4 -4,4\"/>\n",
       "<!-- 0 -->\n",
       "<g id=\"node1\" class=\"node\">\n",
       "<title>0</title>\n",
       "<path fill=\"none\" stroke=\"black\" d=\"M1324.5,-677C1324.5,-677 1199.5,-677 1199.5,-677 1193.5,-677 1187.5,-671 1187.5,-665 1187.5,-665 1187.5,-621 1187.5,-621 1187.5,-615 1193.5,-609 1199.5,-609 1199.5,-609 1324.5,-609 1324.5,-609 1330.5,-609 1336.5,-615 1336.5,-621 1336.5,-621 1336.5,-665 1336.5,-665 1336.5,-671 1330.5,-677 1324.5,-677\"/>\n",
       "<text text-anchor=\"middle\" x=\"1262\" y=\"-661.8\" font-family=\"Helvetica,sans-Serif\" font-size=\"14.00\">Sex &lt;= 0.5</text>\n",
       "<text text-anchor=\"middle\" x=\"1262\" y=\"-646.8\" font-family=\"Helvetica,sans-Serif\" font-size=\"14.00\">entropy = 0.961</text>\n",
       "<text text-anchor=\"middle\" x=\"1262\" y=\"-631.8\" font-family=\"Helvetica,sans-Serif\" font-size=\"14.00\">samples = 891</text>\n",
       "<text text-anchor=\"middle\" x=\"1262\" y=\"-616.8\" font-family=\"Helvetica,sans-Serif\" font-size=\"14.00\">value = [549, 342]</text>\n",
       "</g>\n",
       "<!-- 1 -->\n",
       "<g id=\"node2\" class=\"node\">\n",
       "<title>1</title>\n",
       "<path fill=\"none\" stroke=\"black\" d=\"M982,-573C982,-573 866,-573 866,-573 860,-573 854,-567 854,-561 854,-561 854,-517 854,-517 854,-511 860,-505 866,-505 866,-505 982,-505 982,-505 988,-505 994,-511 994,-517 994,-517 994,-561 994,-561 994,-567 988,-573 982,-573\"/>\n",
       "<text text-anchor=\"middle\" x=\"924\" y=\"-557.8\" font-family=\"Helvetica,sans-Serif\" font-size=\"14.00\">Pclass &lt;= 2.5</text>\n",
       "<text text-anchor=\"middle\" x=\"924\" y=\"-542.8\" font-family=\"Helvetica,sans-Serif\" font-size=\"14.00\">entropy = 0.824</text>\n",
       "<text text-anchor=\"middle\" x=\"924\" y=\"-527.8\" font-family=\"Helvetica,sans-Serif\" font-size=\"14.00\">samples = 314</text>\n",
       "<text text-anchor=\"middle\" x=\"924\" y=\"-512.8\" font-family=\"Helvetica,sans-Serif\" font-size=\"14.00\">value = [81, 233]</text>\n",
       "</g>\n",
       "<!-- 0&#45;&gt;1 -->\n",
       "<g id=\"edge1\" class=\"edge\">\n",
       "<title>0&#45;&gt;1</title>\n",
       "<path fill=\"none\" stroke=\"black\" d=\"M1187.41,-619.49C1133.03,-603.08 1059.45,-580.88 1003.88,-564.11\"/>\n",
       "<polygon fill=\"black\" stroke=\"black\" points=\"1004.66,-560.69 994.08,-561.15 1002.64,-567.39 1004.66,-560.69\"/>\n",
       "<text text-anchor=\"middle\" x=\"1005.89\" y=\"-579.48\" font-family=\"Helvetica,sans-Serif\" font-size=\"14.00\">True</text>\n",
       "</g>\n",
       "<!-- 30 -->\n",
       "<g id=\"node31\" class=\"node\">\n",
       "<title>30</title>\n",
       "<path fill=\"none\" stroke=\"black\" d=\"M1607.5,-573C1607.5,-573 1482.5,-573 1482.5,-573 1476.5,-573 1470.5,-567 1470.5,-561 1470.5,-561 1470.5,-517 1470.5,-517 1470.5,-511 1476.5,-505 1482.5,-505 1482.5,-505 1607.5,-505 1607.5,-505 1613.5,-505 1619.5,-511 1619.5,-517 1619.5,-517 1619.5,-561 1619.5,-561 1619.5,-567 1613.5,-573 1607.5,-573\"/>\n",
       "<text text-anchor=\"middle\" x=\"1545\" y=\"-557.8\" font-family=\"Helvetica,sans-Serif\" font-size=\"14.00\">Fare &lt;= 26.269</text>\n",
       "<text text-anchor=\"middle\" x=\"1545\" y=\"-542.8\" font-family=\"Helvetica,sans-Serif\" font-size=\"14.00\">entropy = 0.699</text>\n",
       "<text text-anchor=\"middle\" x=\"1545\" y=\"-527.8\" font-family=\"Helvetica,sans-Serif\" font-size=\"14.00\">samples = 577</text>\n",
       "<text text-anchor=\"middle\" x=\"1545\" y=\"-512.8\" font-family=\"Helvetica,sans-Serif\" font-size=\"14.00\">value = [468, 109]</text>\n",
       "</g>\n",
       "<!-- 0&#45;&gt;30 -->\n",
       "<g id=\"edge30\" class=\"edge\">\n",
       "<title>0&#45;&gt;30</title>\n",
       "<path fill=\"none\" stroke=\"black\" d=\"M1336.73,-615.07C1374.77,-601.36 1421.17,-584.63 1460.51,-570.45\"/>\n",
       "<polygon fill=\"black\" stroke=\"black\" points=\"1462.13,-573.59 1470.35,-566.91 1459.75,-567 1462.13,-573.59\"/>\n",
       "<text text-anchor=\"middle\" x=\"1459.71\" y=\"-585.83\" font-family=\"Helvetica,sans-Serif\" font-size=\"14.00\">False</text>\n",
       "</g>\n",
       "<!-- 2 -->\n",
       "<g id=\"node3\" class=\"node\">\n",
       "<title>2</title>\n",
       "<path fill=\"none\" stroke=\"black\" d=\"M471.5,-469C471.5,-469 364.5,-469 364.5,-469 358.5,-469 352.5,-463 352.5,-457 352.5,-457 352.5,-413 352.5,-413 352.5,-407 358.5,-401 364.5,-401 364.5,-401 471.5,-401 471.5,-401 477.5,-401 483.5,-407 483.5,-413 483.5,-413 483.5,-457 483.5,-457 483.5,-463 477.5,-469 471.5,-469\"/>\n",
       "<text text-anchor=\"middle\" x=\"418\" y=\"-453.8\" font-family=\"Helvetica,sans-Serif\" font-size=\"14.00\">Fare &lt;= 28.856</text>\n",
       "<text text-anchor=\"middle\" x=\"418\" y=\"-438.8\" font-family=\"Helvetica,sans-Serif\" font-size=\"14.00\">entropy = 0.299</text>\n",
       "<text text-anchor=\"middle\" x=\"418\" y=\"-423.8\" font-family=\"Helvetica,sans-Serif\" font-size=\"14.00\">samples = 170</text>\n",
       "<text text-anchor=\"middle\" x=\"418\" y=\"-408.8\" font-family=\"Helvetica,sans-Serif\" font-size=\"14.00\">value = [9, 161]</text>\n",
       "</g>\n",
       "<!-- 1&#45;&gt;2 -->\n",
       "<g id=\"edge2\" class=\"edge\">\n",
       "<title>1&#45;&gt;2</title>\n",
       "<path fill=\"none\" stroke=\"black\" d=\"M853.91,-523.87C759.31,-504.8 591.4,-470.95 493.9,-451.3\"/>\n",
       "<polygon fill=\"black\" stroke=\"black\" points=\"494.32,-447.81 483.82,-449.27 492.93,-454.68 494.32,-447.81\"/>\n",
       "</g>\n",
       "<!-- 13 -->\n",
       "<g id=\"node14\" class=\"node\">\n",
       "<title>13</title>\n",
       "<path fill=\"none\" stroke=\"black\" d=\"M977.5,-469C977.5,-469 870.5,-469 870.5,-469 864.5,-469 858.5,-463 858.5,-457 858.5,-457 858.5,-413 858.5,-413 858.5,-407 864.5,-401 870.5,-401 870.5,-401 977.5,-401 977.5,-401 983.5,-401 989.5,-407 989.5,-413 989.5,-413 989.5,-457 989.5,-457 989.5,-463 983.5,-469 977.5,-469\"/>\n",
       "<text text-anchor=\"middle\" x=\"924\" y=\"-453.8\" font-family=\"Helvetica,sans-Serif\" font-size=\"14.00\">Fare &lt;= 23.35</text>\n",
       "<text text-anchor=\"middle\" x=\"924\" y=\"-438.8\" font-family=\"Helvetica,sans-Serif\" font-size=\"14.00\">entropy = 1.0</text>\n",
       "<text text-anchor=\"middle\" x=\"924\" y=\"-423.8\" font-family=\"Helvetica,sans-Serif\" font-size=\"14.00\">samples = 144</text>\n",
       "<text text-anchor=\"middle\" x=\"924\" y=\"-408.8\" font-family=\"Helvetica,sans-Serif\" font-size=\"14.00\">value = [72, 72]</text>\n",
       "</g>\n",
       "<!-- 1&#45;&gt;13 -->\n",
       "<g id=\"edge13\" class=\"edge\">\n",
       "<title>1&#45;&gt;13</title>\n",
       "<path fill=\"none\" stroke=\"black\" d=\"M924,-504.88C924,-496.78 924,-487.98 924,-479.47\"/>\n",
       "<polygon fill=\"black\" stroke=\"black\" points=\"927.5,-479.3 924,-469.3 920.5,-479.3 927.5,-479.3\"/>\n",
       "</g>\n",
       "<!-- 3 -->\n",
       "<g id=\"node4\" class=\"node\">\n",
       "<title>3</title>\n",
       "<path fill=\"none\" stroke=\"black\" d=\"M254.5,-365C254.5,-365 147.5,-365 147.5,-365 141.5,-365 135.5,-359 135.5,-353 135.5,-353 135.5,-309 135.5,-309 135.5,-303 141.5,-297 147.5,-297 147.5,-297 254.5,-297 254.5,-297 260.5,-297 266.5,-303 266.5,-309 266.5,-309 266.5,-353 266.5,-353 266.5,-359 260.5,-365 254.5,-365\"/>\n",
       "<text text-anchor=\"middle\" x=\"201\" y=\"-349.8\" font-family=\"Helvetica,sans-Serif\" font-size=\"14.00\">Age &lt;= 23.5</text>\n",
       "<text text-anchor=\"middle\" x=\"201\" y=\"-334.8\" font-family=\"Helvetica,sans-Serif\" font-size=\"14.00\">entropy = 0.469</text>\n",
       "<text text-anchor=\"middle\" x=\"201\" y=\"-319.8\" font-family=\"Helvetica,sans-Serif\" font-size=\"14.00\">samples = 70</text>\n",
       "<text text-anchor=\"middle\" x=\"201\" y=\"-304.8\" font-family=\"Helvetica,sans-Serif\" font-size=\"14.00\">value = [7, 63]</text>\n",
       "</g>\n",
       "<!-- 2&#45;&gt;3 -->\n",
       "<g id=\"edge3\" class=\"edge\">\n",
       "<title>2&#45;&gt;3</title>\n",
       "<path fill=\"none\" stroke=\"black\" d=\"M352.3,-403.12C328.3,-391.84 300.97,-378.99 276.2,-367.35\"/>\n",
       "<polygon fill=\"black\" stroke=\"black\" points=\"277.39,-364.04 266.85,-362.95 274.41,-370.37 277.39,-364.04\"/>\n",
       "</g>\n",
       "<!-- 10 -->\n",
       "<g id=\"node11\" class=\"node\">\n",
       "<title>10</title>\n",
       "<path fill=\"none\" stroke=\"black\" d=\"M471.5,-365C471.5,-365 364.5,-365 364.5,-365 358.5,-365 352.5,-359 352.5,-353 352.5,-353 352.5,-309 352.5,-309 352.5,-303 358.5,-297 364.5,-297 364.5,-297 471.5,-297 471.5,-297 477.5,-297 483.5,-303 483.5,-309 483.5,-309 483.5,-353 483.5,-353 483.5,-359 477.5,-365 471.5,-365\"/>\n",
       "<text text-anchor=\"middle\" x=\"418\" y=\"-349.8\" font-family=\"Helvetica,sans-Serif\" font-size=\"14.00\">Parch &lt;= 1.5</text>\n",
       "<text text-anchor=\"middle\" x=\"418\" y=\"-334.8\" font-family=\"Helvetica,sans-Serif\" font-size=\"14.00\">entropy = 0.141</text>\n",
       "<text text-anchor=\"middle\" x=\"418\" y=\"-319.8\" font-family=\"Helvetica,sans-Serif\" font-size=\"14.00\">samples = 100</text>\n",
       "<text text-anchor=\"middle\" x=\"418\" y=\"-304.8\" font-family=\"Helvetica,sans-Serif\" font-size=\"14.00\">value = [2, 98]</text>\n",
       "</g>\n",
       "<!-- 2&#45;&gt;10 -->\n",
       "<g id=\"edge10\" class=\"edge\">\n",
       "<title>2&#45;&gt;10</title>\n",
       "<path fill=\"none\" stroke=\"black\" d=\"M418,-400.88C418,-392.78 418,-383.98 418,-375.47\"/>\n",
       "<polygon fill=\"black\" stroke=\"black\" points=\"421.5,-375.3 418,-365.3 414.5,-375.3 421.5,-375.3\"/>\n",
       "</g>\n",
       "<!-- 4 -->\n",
       "<g id=\"node5\" class=\"node\">\n",
       "<title>4</title>\n",
       "<path fill=\"none\" stroke=\"black\" d=\"M110,-253.5C110,-253.5 12,-253.5 12,-253.5 6,-253.5 0,-247.5 0,-241.5 0,-241.5 0,-212.5 0,-212.5 0,-206.5 6,-200.5 12,-200.5 12,-200.5 110,-200.5 110,-200.5 116,-200.5 122,-206.5 122,-212.5 122,-212.5 122,-241.5 122,-241.5 122,-247.5 116,-253.5 110,-253.5\"/>\n",
       "<text text-anchor=\"middle\" x=\"61\" y=\"-238.3\" font-family=\"Helvetica,sans-Serif\" font-size=\"14.00\">entropy = 0.0</text>\n",
       "<text text-anchor=\"middle\" x=\"61\" y=\"-223.3\" font-family=\"Helvetica,sans-Serif\" font-size=\"14.00\">samples = 15</text>\n",
       "<text text-anchor=\"middle\" x=\"61\" y=\"-208.3\" font-family=\"Helvetica,sans-Serif\" font-size=\"14.00\">value = [0, 15]</text>\n",
       "</g>\n",
       "<!-- 3&#45;&gt;4 -->\n",
       "<g id=\"edge4\" class=\"edge\">\n",
       "<title>3&#45;&gt;4</title>\n",
       "<path fill=\"none\" stroke=\"black\" d=\"M155.55,-296.88C139.09,-284.9 120.57,-271.4 104.3,-259.55\"/>\n",
       "<polygon fill=\"black\" stroke=\"black\" points=\"106.17,-256.58 96.03,-253.52 102.05,-262.24 106.17,-256.58\"/>\n",
       "</g>\n",
       "<!-- 5 -->\n",
       "<g id=\"node6\" class=\"node\">\n",
       "<title>5</title>\n",
       "<path fill=\"none\" stroke=\"black\" d=\"M250,-261C250,-261 152,-261 152,-261 146,-261 140,-255 140,-249 140,-249 140,-205 140,-205 140,-199 146,-193 152,-193 152,-193 250,-193 250,-193 256,-193 262,-199 262,-205 262,-205 262,-249 262,-249 262,-255 256,-261 250,-261\"/>\n",
       "<text text-anchor=\"middle\" x=\"201\" y=\"-245.8\" font-family=\"Helvetica,sans-Serif\" font-size=\"14.00\">Age &lt;= 27.5</text>\n",
       "<text text-anchor=\"middle\" x=\"201\" y=\"-230.8\" font-family=\"Helvetica,sans-Serif\" font-size=\"14.00\">entropy = 0.55</text>\n",
       "<text text-anchor=\"middle\" x=\"201\" y=\"-215.8\" font-family=\"Helvetica,sans-Serif\" font-size=\"14.00\">samples = 55</text>\n",
       "<text text-anchor=\"middle\" x=\"201\" y=\"-200.8\" font-family=\"Helvetica,sans-Serif\" font-size=\"14.00\">value = [7, 48]</text>\n",
       "</g>\n",
       "<!-- 3&#45;&gt;5 -->\n",
       "<g id=\"edge5\" class=\"edge\">\n",
       "<title>3&#45;&gt;5</title>\n",
       "<path fill=\"none\" stroke=\"black\" d=\"M201,-296.88C201,-288.78 201,-279.98 201,-271.47\"/>\n",
       "<polygon fill=\"black\" stroke=\"black\" points=\"204.5,-271.3 201,-261.3 197.5,-271.3 204.5,-271.3\"/>\n",
       "</g>\n",
       "<!-- 6 -->\n",
       "<g id=\"node7\" class=\"node\">\n",
       "<title>6</title>\n",
       "<path fill=\"none\" stroke=\"black\" d=\"M127.5,-149.5C127.5,-149.5 20.5,-149.5 20.5,-149.5 14.5,-149.5 8.5,-143.5 8.5,-137.5 8.5,-137.5 8.5,-108.5 8.5,-108.5 8.5,-102.5 14.5,-96.5 20.5,-96.5 20.5,-96.5 127.5,-96.5 127.5,-96.5 133.5,-96.5 139.5,-102.5 139.5,-108.5 139.5,-108.5 139.5,-137.5 139.5,-137.5 139.5,-143.5 133.5,-149.5 127.5,-149.5\"/>\n",
       "<text text-anchor=\"middle\" x=\"74\" y=\"-134.3\" font-family=\"Helvetica,sans-Serif\" font-size=\"14.00\">entropy = 0.845</text>\n",
       "<text text-anchor=\"middle\" x=\"74\" y=\"-119.3\" font-family=\"Helvetica,sans-Serif\" font-size=\"14.00\">samples = 11</text>\n",
       "<text text-anchor=\"middle\" x=\"74\" y=\"-104.3\" font-family=\"Helvetica,sans-Serif\" font-size=\"14.00\">value = [3, 8]</text>\n",
       "</g>\n",
       "<!-- 5&#45;&gt;6 -->\n",
       "<g id=\"edge6\" class=\"edge\">\n",
       "<title>5&#45;&gt;6</title>\n",
       "<path fill=\"none\" stroke=\"black\" d=\"M159.77,-192.88C144.98,-181.01 128.34,-167.65 113.69,-155.88\"/>\n",
       "<polygon fill=\"black\" stroke=\"black\" points=\"115.76,-153.05 105.77,-149.52 111.38,-158.51 115.76,-153.05\"/>\n",
       "</g>\n",
       "<!-- 7 -->\n",
       "<g id=\"node8\" class=\"node\">\n",
       "<title>7</title>\n",
       "<path fill=\"none\" stroke=\"black\" d=\"M276.5,-157C276.5,-157 169.5,-157 169.5,-157 163.5,-157 157.5,-151 157.5,-145 157.5,-145 157.5,-101 157.5,-101 157.5,-95 163.5,-89 169.5,-89 169.5,-89 276.5,-89 276.5,-89 282.5,-89 288.5,-95 288.5,-101 288.5,-101 288.5,-145 288.5,-145 288.5,-151 282.5,-157 276.5,-157\"/>\n",
       "<text text-anchor=\"middle\" x=\"223\" y=\"-141.8\" font-family=\"Helvetica,sans-Serif\" font-size=\"14.00\">Age &lt;= 37.0</text>\n",
       "<text text-anchor=\"middle\" x=\"223\" y=\"-126.8\" font-family=\"Helvetica,sans-Serif\" font-size=\"14.00\">entropy = 0.439</text>\n",
       "<text text-anchor=\"middle\" x=\"223\" y=\"-111.8\" font-family=\"Helvetica,sans-Serif\" font-size=\"14.00\">samples = 44</text>\n",
       "<text text-anchor=\"middle\" x=\"223\" y=\"-96.8\" font-family=\"Helvetica,sans-Serif\" font-size=\"14.00\">value = [4, 40]</text>\n",
       "</g>\n",
       "<!-- 5&#45;&gt;7 -->\n",
       "<g id=\"edge7\" class=\"edge\">\n",
       "<title>5&#45;&gt;7</title>\n",
       "<path fill=\"none\" stroke=\"black\" d=\"M208.14,-192.88C209.91,-184.69 211.83,-175.79 213.68,-167.19\"/>\n",
       "<polygon fill=\"black\" stroke=\"black\" points=\"217.13,-167.81 215.82,-157.3 210.29,-166.34 217.13,-167.81\"/>\n",
       "</g>\n",
       "<!-- 8 -->\n",
       "<g id=\"node9\" class=\"node\">\n",
       "<title>8</title>\n",
       "<path fill=\"none\" stroke=\"black\" d=\"M170,-53C170,-53 72,-53 72,-53 66,-53 60,-47 60,-41 60,-41 60,-12 60,-12 60,-6 66,0 72,0 72,0 170,0 170,0 176,0 182,-6 182,-12 182,-12 182,-41 182,-41 182,-47 176,-53 170,-53\"/>\n",
       "<text text-anchor=\"middle\" x=\"121\" y=\"-37.8\" font-family=\"Helvetica,sans-Serif\" font-size=\"14.00\">entropy = 0.0</text>\n",
       "<text text-anchor=\"middle\" x=\"121\" y=\"-22.8\" font-family=\"Helvetica,sans-Serif\" font-size=\"14.00\">samples = 24</text>\n",
       "<text text-anchor=\"middle\" x=\"121\" y=\"-7.8\" font-family=\"Helvetica,sans-Serif\" font-size=\"14.00\">value = [0, 24]</text>\n",
       "</g>\n",
       "<!-- 7&#45;&gt;8 -->\n",
       "<g id=\"edge8\" class=\"edge\">\n",
       "<title>7&#45;&gt;8</title>\n",
       "<path fill=\"none\" stroke=\"black\" d=\"M187.33,-88.95C177.25,-79.62 166.3,-69.47 156.26,-60.16\"/>\n",
       "<polygon fill=\"black\" stroke=\"black\" points=\"158.49,-57.47 148.78,-53.24 153.74,-62.6 158.49,-57.47\"/>\n",
       "</g>\n",
       "<!-- 9 -->\n",
       "<g id=\"node10\" class=\"node\">\n",
       "<title>9</title>\n",
       "<path fill=\"none\" stroke=\"black\" d=\"M319.5,-53C319.5,-53 212.5,-53 212.5,-53 206.5,-53 200.5,-47 200.5,-41 200.5,-41 200.5,-12 200.5,-12 200.5,-6 206.5,0 212.5,0 212.5,0 319.5,0 319.5,0 325.5,0 331.5,-6 331.5,-12 331.5,-12 331.5,-41 331.5,-41 331.5,-47 325.5,-53 319.5,-53\"/>\n",
       "<text text-anchor=\"middle\" x=\"266\" y=\"-37.8\" font-family=\"Helvetica,sans-Serif\" font-size=\"14.00\">entropy = 0.722</text>\n",
       "<text text-anchor=\"middle\" x=\"266\" y=\"-22.8\" font-family=\"Helvetica,sans-Serif\" font-size=\"14.00\">samples = 20</text>\n",
       "<text text-anchor=\"middle\" x=\"266\" y=\"-7.8\" font-family=\"Helvetica,sans-Serif\" font-size=\"14.00\">value = [4, 16]</text>\n",
       "</g>\n",
       "<!-- 7&#45;&gt;9 -->\n",
       "<g id=\"edge9\" class=\"edge\">\n",
       "<title>7&#45;&gt;9</title>\n",
       "<path fill=\"none\" stroke=\"black\" d=\"M238.04,-88.95C241.95,-80.35 246.18,-71.06 250.13,-62.37\"/>\n",
       "<polygon fill=\"black\" stroke=\"black\" points=\"253.33,-63.79 254.29,-53.24 246.96,-60.89 253.33,-63.79\"/>\n",
       "</g>\n",
       "<!-- 11 -->\n",
       "<g id=\"node12\" class=\"node\">\n",
       "<title>11</title>\n",
       "<path fill=\"none\" stroke=\"black\" d=\"M390,-253.5C390,-253.5 292,-253.5 292,-253.5 286,-253.5 280,-247.5 280,-241.5 280,-241.5 280,-212.5 280,-212.5 280,-206.5 286,-200.5 292,-200.5 292,-200.5 390,-200.5 390,-200.5 396,-200.5 402,-206.5 402,-212.5 402,-212.5 402,-241.5 402,-241.5 402,-247.5 396,-253.5 390,-253.5\"/>\n",
       "<text text-anchor=\"middle\" x=\"341\" y=\"-238.3\" font-family=\"Helvetica,sans-Serif\" font-size=\"14.00\">entropy = 0.0</text>\n",
       "<text text-anchor=\"middle\" x=\"341\" y=\"-223.3\" font-family=\"Helvetica,sans-Serif\" font-size=\"14.00\">samples = 84</text>\n",
       "<text text-anchor=\"middle\" x=\"341\" y=\"-208.3\" font-family=\"Helvetica,sans-Serif\" font-size=\"14.00\">value = [0, 84]</text>\n",
       "</g>\n",
       "<!-- 10&#45;&gt;11 -->\n",
       "<g id=\"edge11\" class=\"edge\">\n",
       "<title>10&#45;&gt;11</title>\n",
       "<path fill=\"none\" stroke=\"black\" d=\"M393,-296.88C384.45,-285.56 374.88,-272.88 366.3,-261.52\"/>\n",
       "<polygon fill=\"black\" stroke=\"black\" points=\"369.08,-259.39 360.27,-253.52 363.5,-263.61 369.08,-259.39\"/>\n",
       "</g>\n",
       "<!-- 12 -->\n",
       "<g id=\"node13\" class=\"node\">\n",
       "<title>12</title>\n",
       "<path fill=\"none\" stroke=\"black\" d=\"M539.5,-253.5C539.5,-253.5 432.5,-253.5 432.5,-253.5 426.5,-253.5 420.5,-247.5 420.5,-241.5 420.5,-241.5 420.5,-212.5 420.5,-212.5 420.5,-206.5 426.5,-200.5 432.5,-200.5 432.5,-200.5 539.5,-200.5 539.5,-200.5 545.5,-200.5 551.5,-206.5 551.5,-212.5 551.5,-212.5 551.5,-241.5 551.5,-241.5 551.5,-247.5 545.5,-253.5 539.5,-253.5\"/>\n",
       "<text text-anchor=\"middle\" x=\"486\" y=\"-238.3\" font-family=\"Helvetica,sans-Serif\" font-size=\"14.00\">entropy = 0.544</text>\n",
       "<text text-anchor=\"middle\" x=\"486\" y=\"-223.3\" font-family=\"Helvetica,sans-Serif\" font-size=\"14.00\">samples = 16</text>\n",
       "<text text-anchor=\"middle\" x=\"486\" y=\"-208.3\" font-family=\"Helvetica,sans-Serif\" font-size=\"14.00\">value = [2, 14]</text>\n",
       "</g>\n",
       "<!-- 10&#45;&gt;12 -->\n",
       "<g id=\"edge12\" class=\"edge\">\n",
       "<title>10&#45;&gt;12</title>\n",
       "<path fill=\"none\" stroke=\"black\" d=\"M440.08,-296.88C447.56,-285.67 455.92,-273.13 463.43,-261.85\"/>\n",
       "<polygon fill=\"black\" stroke=\"black\" points=\"466.35,-263.78 468.99,-253.52 460.53,-259.9 466.35,-263.78\"/>\n",
       "</g>\n",
       "<!-- 14 -->\n",
       "<g id=\"node15\" class=\"node\">\n",
       "<title>14</title>\n",
       "<path fill=\"none\" stroke=\"black\" d=\"M892.5,-365C892.5,-365 785.5,-365 785.5,-365 779.5,-365 773.5,-359 773.5,-353 773.5,-353 773.5,-309 773.5,-309 773.5,-303 779.5,-297 785.5,-297 785.5,-297 892.5,-297 892.5,-297 898.5,-297 904.5,-303 904.5,-309 904.5,-309 904.5,-353 904.5,-353 904.5,-359 898.5,-365 892.5,-365\"/>\n",
       "<text text-anchor=\"middle\" x=\"839\" y=\"-349.8\" font-family=\"Helvetica,sans-Serif\" font-size=\"14.00\">Fare &lt;= 7.888</text>\n",
       "<text text-anchor=\"middle\" x=\"839\" y=\"-334.8\" font-family=\"Helvetica,sans-Serif\" font-size=\"14.00\">entropy = 0.977</text>\n",
       "<text text-anchor=\"middle\" x=\"839\" y=\"-319.8\" font-family=\"Helvetica,sans-Serif\" font-size=\"14.00\">samples = 117</text>\n",
       "<text text-anchor=\"middle\" x=\"839\" y=\"-304.8\" font-family=\"Helvetica,sans-Serif\" font-size=\"14.00\">value = [48, 69]</text>\n",
       "</g>\n",
       "<!-- 13&#45;&gt;14 -->\n",
       "<g id=\"edge14\" class=\"edge\">\n",
       "<title>13&#45;&gt;14</title>\n",
       "<path fill=\"none\" stroke=\"black\" d=\"M896.4,-400.88C889.05,-392.07 881.03,-382.43 873.36,-373.24\"/>\n",
       "<polygon fill=\"black\" stroke=\"black\" points=\"875.84,-370.74 866.75,-365.3 870.46,-375.22 875.84,-370.74\"/>\n",
       "</g>\n",
       "<!-- 27 -->\n",
       "<g id=\"node28\" class=\"node\">\n",
       "<title>27</title>\n",
       "<path fill=\"none\" stroke=\"black\" d=\"M1085.5,-365C1085.5,-365 934.5,-365 934.5,-365 928.5,-365 922.5,-359 922.5,-353 922.5,-353 922.5,-309 922.5,-309 922.5,-303 928.5,-297 934.5,-297 934.5,-297 1085.5,-297 1085.5,-297 1091.5,-297 1097.5,-303 1097.5,-309 1097.5,-309 1097.5,-353 1097.5,-353 1097.5,-359 1091.5,-365 1085.5,-365\"/>\n",
       "<text text-anchor=\"middle\" x=\"1010\" y=\"-349.8\" font-family=\"Helvetica,sans-Serif\" font-size=\"14.00\">PassengerId &lt;= 322.0</text>\n",
       "<text text-anchor=\"middle\" x=\"1010\" y=\"-334.8\" font-family=\"Helvetica,sans-Serif\" font-size=\"14.00\">entropy = 0.503</text>\n",
       "<text text-anchor=\"middle\" x=\"1010\" y=\"-319.8\" font-family=\"Helvetica,sans-Serif\" font-size=\"14.00\">samples = 27</text>\n",
       "<text text-anchor=\"middle\" x=\"1010\" y=\"-304.8\" font-family=\"Helvetica,sans-Serif\" font-size=\"14.00\">value = [24, 3]</text>\n",
       "</g>\n",
       "<!-- 13&#45;&gt;27 -->\n",
       "<g id=\"edge27\" class=\"edge\">\n",
       "<title>13&#45;&gt;27</title>\n",
       "<path fill=\"none\" stroke=\"black\" d=\"M951.92,-400.88C959.43,-391.98 967.64,-382.24 975.47,-372.96\"/>\n",
       "<polygon fill=\"black\" stroke=\"black\" points=\"978.15,-375.2 981.92,-365.3 972.8,-370.69 978.15,-375.2\"/>\n",
       "</g>\n",
       "<!-- 15 -->\n",
       "<g id=\"node16\" class=\"node\">\n",
       "<title>15</title>\n",
       "<path fill=\"none\" stroke=\"black\" d=\"M732.5,-261C732.5,-261 581.5,-261 581.5,-261 575.5,-261 569.5,-255 569.5,-249 569.5,-249 569.5,-205 569.5,-205 569.5,-199 575.5,-193 581.5,-193 581.5,-193 732.5,-193 732.5,-193 738.5,-193 744.5,-199 744.5,-205 744.5,-205 744.5,-249 744.5,-249 744.5,-255 738.5,-261 732.5,-261\"/>\n",
       "<text text-anchor=\"middle\" x=\"657\" y=\"-245.8\" font-family=\"Helvetica,sans-Serif\" font-size=\"14.00\">PassengerId &lt;= 222.5</text>\n",
       "<text text-anchor=\"middle\" x=\"657\" y=\"-230.8\" font-family=\"Helvetica,sans-Serif\" font-size=\"14.00\">entropy = 0.863</text>\n",
       "<text text-anchor=\"middle\" x=\"657\" y=\"-215.8\" font-family=\"Helvetica,sans-Serif\" font-size=\"14.00\">samples = 42</text>\n",
       "<text text-anchor=\"middle\" x=\"657\" y=\"-200.8\" font-family=\"Helvetica,sans-Serif\" font-size=\"14.00\">value = [12, 30]</text>\n",
       "</g>\n",
       "<!-- 14&#45;&gt;15 -->\n",
       "<g id=\"edge15\" class=\"edge\">\n",
       "<title>14&#45;&gt;15</title>\n",
       "<path fill=\"none\" stroke=\"black\" d=\"M779.91,-296.88C762.34,-287.04 742.95,-276.17 724.86,-266.03\"/>\n",
       "<polygon fill=\"black\" stroke=\"black\" points=\"726.54,-262.96 716.1,-261.12 723.12,-269.07 726.54,-262.96\"/>\n",
       "</g>\n",
       "<!-- 20 -->\n",
       "<g id=\"node21\" class=\"node\">\n",
       "<title>20</title>\n",
       "<path fill=\"none\" stroke=\"black\" d=\"M897.5,-261C897.5,-261 790.5,-261 790.5,-261 784.5,-261 778.5,-255 778.5,-249 778.5,-249 778.5,-205 778.5,-205 778.5,-199 784.5,-193 790.5,-193 790.5,-193 897.5,-193 897.5,-193 903.5,-193 909.5,-199 909.5,-205 909.5,-205 909.5,-249 909.5,-249 909.5,-255 903.5,-261 897.5,-261\"/>\n",
       "<text text-anchor=\"middle\" x=\"844\" y=\"-245.8\" font-family=\"Helvetica,sans-Serif\" font-size=\"14.00\">Fare &lt;= 15.373</text>\n",
       "<text text-anchor=\"middle\" x=\"844\" y=\"-230.8\" font-family=\"Helvetica,sans-Serif\" font-size=\"14.00\">entropy = 0.999</text>\n",
       "<text text-anchor=\"middle\" x=\"844\" y=\"-215.8\" font-family=\"Helvetica,sans-Serif\" font-size=\"14.00\">samples = 75</text>\n",
       "<text text-anchor=\"middle\" x=\"844\" y=\"-200.8\" font-family=\"Helvetica,sans-Serif\" font-size=\"14.00\">value = [36, 39]</text>\n",
       "</g>\n",
       "<!-- 14&#45;&gt;20 -->\n",
       "<g id=\"edge20\" class=\"edge\">\n",
       "<title>14&#45;&gt;20</title>\n",
       "<path fill=\"none\" stroke=\"black\" d=\"M840.62,-296.88C841.02,-288.78 841.45,-279.98 841.87,-271.47\"/>\n",
       "<polygon fill=\"black\" stroke=\"black\" points=\"845.37,-271.46 842.37,-261.3 838.38,-271.12 845.37,-271.46\"/>\n",
       "</g>\n",
       "<!-- 16 -->\n",
       "<g id=\"node17\" class=\"node\">\n",
       "<title>16</title>\n",
       "<path fill=\"none\" stroke=\"black\" d=\"M476.5,-149.5C476.5,-149.5 369.5,-149.5 369.5,-149.5 363.5,-149.5 357.5,-143.5 357.5,-137.5 357.5,-137.5 357.5,-108.5 357.5,-108.5 357.5,-102.5 363.5,-96.5 369.5,-96.5 369.5,-96.5 476.5,-96.5 476.5,-96.5 482.5,-96.5 488.5,-102.5 488.5,-108.5 488.5,-108.5 488.5,-137.5 488.5,-137.5 488.5,-143.5 482.5,-149.5 476.5,-149.5\"/>\n",
       "<text text-anchor=\"middle\" x=\"423\" y=\"-134.3\" font-family=\"Helvetica,sans-Serif\" font-size=\"14.00\">entropy = 0.391</text>\n",
       "<text text-anchor=\"middle\" x=\"423\" y=\"-119.3\" font-family=\"Helvetica,sans-Serif\" font-size=\"14.00\">samples = 13</text>\n",
       "<text text-anchor=\"middle\" x=\"423\" y=\"-104.3\" font-family=\"Helvetica,sans-Serif\" font-size=\"14.00\">value = [1, 12]</text>\n",
       "</g>\n",
       "<!-- 15&#45;&gt;16 -->\n",
       "<g id=\"edge16\" class=\"edge\">\n",
       "<title>15&#45;&gt;16</title>\n",
       "<path fill=\"none\" stroke=\"black\" d=\"M579.6,-192.85C553.35,-181.55 523.87,-168.79 497,-157 494.55,-155.92 492.05,-154.83 489.53,-153.72\"/>\n",
       "<polygon fill=\"black\" stroke=\"black\" points=\"490.9,-150.49 480.34,-149.65 488.07,-156.9 490.9,-150.49\"/>\n",
       "</g>\n",
       "<!-- 17 -->\n",
       "<g id=\"node18\" class=\"node\">\n",
       "<title>17</title>\n",
       "<path fill=\"none\" stroke=\"black\" d=\"M669.5,-157C669.5,-157 518.5,-157 518.5,-157 512.5,-157 506.5,-151 506.5,-145 506.5,-145 506.5,-101 506.5,-101 506.5,-95 512.5,-89 518.5,-89 518.5,-89 669.5,-89 669.5,-89 675.5,-89 681.5,-95 681.5,-101 681.5,-101 681.5,-145 681.5,-145 681.5,-151 675.5,-157 669.5,-157\"/>\n",
       "<text text-anchor=\"middle\" x=\"594\" y=\"-141.8\" font-family=\"Helvetica,sans-Serif\" font-size=\"14.00\">PassengerId &lt;= 387.0</text>\n",
       "<text text-anchor=\"middle\" x=\"594\" y=\"-126.8\" font-family=\"Helvetica,sans-Serif\" font-size=\"14.00\">entropy = 0.958</text>\n",
       "<text text-anchor=\"middle\" x=\"594\" y=\"-111.8\" font-family=\"Helvetica,sans-Serif\" font-size=\"14.00\">samples = 29</text>\n",
       "<text text-anchor=\"middle\" x=\"594\" y=\"-96.8\" font-family=\"Helvetica,sans-Serif\" font-size=\"14.00\">value = [11, 18]</text>\n",
       "</g>\n",
       "<!-- 15&#45;&gt;17 -->\n",
       "<g id=\"edge17\" class=\"edge\">\n",
       "<title>15&#45;&gt;17</title>\n",
       "<path fill=\"none\" stroke=\"black\" d=\"M636.55,-192.88C631.26,-184.33 625.51,-175.01 619.99,-166.07\"/>\n",
       "<polygon fill=\"black\" stroke=\"black\" points=\"622.8,-163.97 614.57,-157.3 616.84,-167.65 622.8,-163.97\"/>\n",
       "</g>\n",
       "<!-- 18 -->\n",
       "<g id=\"node19\" class=\"node\">\n",
       "<title>18</title>\n",
       "<path fill=\"none\" stroke=\"black\" d=\"M482,-53C482,-53 384,-53 384,-53 378,-53 372,-47 372,-41 372,-41 372,-12 372,-12 372,-6 378,0 384,0 384,0 482,0 482,0 488,0 494,-6 494,-12 494,-12 494,-41 494,-41 494,-47 488,-53 482,-53\"/>\n",
       "<text text-anchor=\"middle\" x=\"433\" y=\"-37.8\" font-family=\"Helvetica,sans-Serif\" font-size=\"14.00\">entropy = 0.89</text>\n",
       "<text text-anchor=\"middle\" x=\"433\" y=\"-22.8\" font-family=\"Helvetica,sans-Serif\" font-size=\"14.00\">samples = 13</text>\n",
       "<text text-anchor=\"middle\" x=\"433\" y=\"-7.8\" font-family=\"Helvetica,sans-Serif\" font-size=\"14.00\">value = [4, 9]</text>\n",
       "</g>\n",
       "<!-- 17&#45;&gt;18 -->\n",
       "<g id=\"edge18\" class=\"edge\">\n",
       "<title>17&#45;&gt;18</title>\n",
       "<path fill=\"none\" stroke=\"black\" d=\"M537.69,-88.95C520.78,-79.02 502.3,-68.18 485.64,-58.4\"/>\n",
       "<polygon fill=\"black\" stroke=\"black\" points=\"486.99,-55.13 476.59,-53.09 483.44,-61.17 486.99,-55.13\"/>\n",
       "</g>\n",
       "<!-- 19 -->\n",
       "<g id=\"node20\" class=\"node\">\n",
       "<title>19</title>\n",
       "<path fill=\"none\" stroke=\"black\" d=\"M631.5,-53C631.5,-53 524.5,-53 524.5,-53 518.5,-53 512.5,-47 512.5,-41 512.5,-41 512.5,-12 512.5,-12 512.5,-6 518.5,0 524.5,0 524.5,0 631.5,0 631.5,0 637.5,0 643.5,-6 643.5,-12 643.5,-12 643.5,-41 643.5,-41 643.5,-47 637.5,-53 631.5,-53\"/>\n",
       "<text text-anchor=\"middle\" x=\"578\" y=\"-37.8\" font-family=\"Helvetica,sans-Serif\" font-size=\"14.00\">entropy = 0.989</text>\n",
       "<text text-anchor=\"middle\" x=\"578\" y=\"-22.8\" font-family=\"Helvetica,sans-Serif\" font-size=\"14.00\">samples = 16</text>\n",
       "<text text-anchor=\"middle\" x=\"578\" y=\"-7.8\" font-family=\"Helvetica,sans-Serif\" font-size=\"14.00\">value = [7, 9]</text>\n",
       "</g>\n",
       "<!-- 17&#45;&gt;19 -->\n",
       "<g id=\"edge19\" class=\"edge\">\n",
       "<title>17&#45;&gt;19</title>\n",
       "<path fill=\"none\" stroke=\"black\" d=\"M588.4,-88.95C586.99,-80.62 585.48,-71.65 584.04,-63.2\"/>\n",
       "<polygon fill=\"black\" stroke=\"black\" points=\"587.48,-62.51 582.36,-53.24 580.58,-63.68 587.48,-62.51\"/>\n",
       "</g>\n",
       "<!-- 21 -->\n",
       "<g id=\"node22\" class=\"node\">\n",
       "<title>21</title>\n",
       "<path fill=\"none\" stroke=\"black\" d=\"M897.5,-157C897.5,-157 790.5,-157 790.5,-157 784.5,-157 778.5,-151 778.5,-145 778.5,-145 778.5,-101 778.5,-101 778.5,-95 784.5,-89 790.5,-89 790.5,-89 897.5,-89 897.5,-89 903.5,-89 909.5,-95 909.5,-101 909.5,-101 909.5,-145 909.5,-145 909.5,-151 903.5,-157 897.5,-157\"/>\n",
       "<text text-anchor=\"middle\" x=\"844\" y=\"-141.8\" font-family=\"Helvetica,sans-Serif\" font-size=\"14.00\">Age &lt;= 19.0</text>\n",
       "<text text-anchor=\"middle\" x=\"844\" y=\"-126.8\" font-family=\"Helvetica,sans-Serif\" font-size=\"14.00\">entropy = 0.971</text>\n",
       "<text text-anchor=\"middle\" x=\"844\" y=\"-111.8\" font-family=\"Helvetica,sans-Serif\" font-size=\"14.00\">samples = 45</text>\n",
       "<text text-anchor=\"middle\" x=\"844\" y=\"-96.8\" font-family=\"Helvetica,sans-Serif\" font-size=\"14.00\">value = [27, 18]</text>\n",
       "</g>\n",
       "<!-- 20&#45;&gt;21 -->\n",
       "<g id=\"edge21\" class=\"edge\">\n",
       "<title>20&#45;&gt;21</title>\n",
       "<path fill=\"none\" stroke=\"black\" d=\"M844,-192.88C844,-184.78 844,-175.98 844,-167.47\"/>\n",
       "<polygon fill=\"black\" stroke=\"black\" points=\"847.5,-167.3 844,-157.3 840.5,-167.3 847.5,-167.3\"/>\n",
       "</g>\n",
       "<!-- 24 -->\n",
       "<g id=\"node25\" class=\"node\">\n",
       "<title>24</title>\n",
       "<path fill=\"none\" stroke=\"black\" d=\"M1078.5,-157C1078.5,-157 971.5,-157 971.5,-157 965.5,-157 959.5,-151 959.5,-145 959.5,-145 959.5,-101 959.5,-101 959.5,-95 965.5,-89 971.5,-89 971.5,-89 1078.5,-89 1078.5,-89 1084.5,-89 1090.5,-95 1090.5,-101 1090.5,-101 1090.5,-145 1090.5,-145 1090.5,-151 1084.5,-157 1078.5,-157\"/>\n",
       "<text text-anchor=\"middle\" x=\"1025\" y=\"-141.8\" font-family=\"Helvetica,sans-Serif\" font-size=\"14.00\">Fare &lt;= 17.6</text>\n",
       "<text text-anchor=\"middle\" x=\"1025\" y=\"-126.8\" font-family=\"Helvetica,sans-Serif\" font-size=\"14.00\">entropy = 0.881</text>\n",
       "<text text-anchor=\"middle\" x=\"1025\" y=\"-111.8\" font-family=\"Helvetica,sans-Serif\" font-size=\"14.00\">samples = 30</text>\n",
       "<text text-anchor=\"middle\" x=\"1025\" y=\"-96.8\" font-family=\"Helvetica,sans-Serif\" font-size=\"14.00\">value = [9, 21]</text>\n",
       "</g>\n",
       "<!-- 20&#45;&gt;24 -->\n",
       "<g id=\"edge24\" class=\"edge\">\n",
       "<title>20&#45;&gt;24</title>\n",
       "<path fill=\"none\" stroke=\"black\" d=\"M902.77,-192.88C920.08,-183.12 939.17,-172.37 957.02,-162.31\"/>\n",
       "<polygon fill=\"black\" stroke=\"black\" points=\"959.23,-165.08 966.22,-157.12 955.79,-158.99 959.23,-165.08\"/>\n",
       "</g>\n",
       "<!-- 22 -->\n",
       "<g id=\"node23\" class=\"node\">\n",
       "<title>22</title>\n",
       "<path fill=\"none\" stroke=\"black\" d=\"M780.5,-53C780.5,-53 673.5,-53 673.5,-53 667.5,-53 661.5,-47 661.5,-41 661.5,-41 661.5,-12 661.5,-12 661.5,-6 667.5,0 673.5,0 673.5,0 780.5,0 780.5,0 786.5,0 792.5,-6 792.5,-12 792.5,-12 792.5,-41 792.5,-41 792.5,-47 786.5,-53 780.5,-53\"/>\n",
       "<text text-anchor=\"middle\" x=\"727\" y=\"-37.8\" font-family=\"Helvetica,sans-Serif\" font-size=\"14.00\">entropy = 0.918</text>\n",
       "<text text-anchor=\"middle\" x=\"727\" y=\"-22.8\" font-family=\"Helvetica,sans-Serif\" font-size=\"14.00\">samples = 15</text>\n",
       "<text text-anchor=\"middle\" x=\"727\" y=\"-7.8\" font-family=\"Helvetica,sans-Serif\" font-size=\"14.00\">value = [5, 10]</text>\n",
       "</g>\n",
       "<!-- 21&#45;&gt;22 -->\n",
       "<g id=\"edge22\" class=\"edge\">\n",
       "<title>21&#45;&gt;22</title>\n",
       "<path fill=\"none\" stroke=\"black\" d=\"M803.08,-88.95C791.3,-79.43 778.47,-69.07 766.76,-59.62\"/>\n",
       "<polygon fill=\"black\" stroke=\"black\" points=\"768.84,-56.8 758.86,-53.24 764.44,-62.24 768.84,-56.8\"/>\n",
       "</g>\n",
       "<!-- 23 -->\n",
       "<g id=\"node24\" class=\"node\">\n",
       "<title>23</title>\n",
       "<path fill=\"none\" stroke=\"black\" d=\"M929.5,-53C929.5,-53 822.5,-53 822.5,-53 816.5,-53 810.5,-47 810.5,-41 810.5,-41 810.5,-12 810.5,-12 810.5,-6 816.5,0 822.5,0 822.5,0 929.5,0 929.5,0 935.5,0 941.5,-6 941.5,-12 941.5,-12 941.5,-41 941.5,-41 941.5,-47 935.5,-53 929.5,-53\"/>\n",
       "<text text-anchor=\"middle\" x=\"876\" y=\"-37.8\" font-family=\"Helvetica,sans-Serif\" font-size=\"14.00\">entropy = 0.837</text>\n",
       "<text text-anchor=\"middle\" x=\"876\" y=\"-22.8\" font-family=\"Helvetica,sans-Serif\" font-size=\"14.00\">samples = 30</text>\n",
       "<text text-anchor=\"middle\" x=\"876\" y=\"-7.8\" font-family=\"Helvetica,sans-Serif\" font-size=\"14.00\">value = [22, 8]</text>\n",
       "</g>\n",
       "<!-- 21&#45;&gt;23 -->\n",
       "<g id=\"edge23\" class=\"edge\">\n",
       "<title>21&#45;&gt;23</title>\n",
       "<path fill=\"none\" stroke=\"black\" d=\"M855.19,-88.95C858.04,-80.53 861.12,-71.45 864,-62.92\"/>\n",
       "<polygon fill=\"black\" stroke=\"black\" points=\"867.39,-63.83 867.28,-53.24 860.76,-61.59 867.39,-63.83\"/>\n",
       "</g>\n",
       "<!-- 25 -->\n",
       "<g id=\"node26\" class=\"node\">\n",
       "<title>25</title>\n",
       "<path fill=\"none\" stroke=\"black\" d=\"M1078.5,-53C1078.5,-53 971.5,-53 971.5,-53 965.5,-53 959.5,-47 959.5,-41 959.5,-41 959.5,-12 959.5,-12 959.5,-6 965.5,0 971.5,0 971.5,0 1078.5,0 1078.5,0 1084.5,0 1090.5,-6 1090.5,-12 1090.5,-12 1090.5,-41 1090.5,-41 1090.5,-47 1084.5,-53 1078.5,-53\"/>\n",
       "<text text-anchor=\"middle\" x=\"1025\" y=\"-37.8\" font-family=\"Helvetica,sans-Serif\" font-size=\"14.00\">entropy = 0.619</text>\n",
       "<text text-anchor=\"middle\" x=\"1025\" y=\"-22.8\" font-family=\"Helvetica,sans-Serif\" font-size=\"14.00\">samples = 13</text>\n",
       "<text text-anchor=\"middle\" x=\"1025\" y=\"-7.8\" font-family=\"Helvetica,sans-Serif\" font-size=\"14.00\">value = [2, 11]</text>\n",
       "</g>\n",
       "<!-- 24&#45;&gt;25 -->\n",
       "<g id=\"edge25\" class=\"edge\">\n",
       "<title>24&#45;&gt;25</title>\n",
       "<path fill=\"none\" stroke=\"black\" d=\"M1025,-88.95C1025,-80.72 1025,-71.85 1025,-63.48\"/>\n",
       "<polygon fill=\"black\" stroke=\"black\" points=\"1028.5,-63.24 1025,-53.24 1021.5,-63.24 1028.5,-63.24\"/>\n",
       "</g>\n",
       "<!-- 26 -->\n",
       "<g id=\"node27\" class=\"node\">\n",
       "<title>26</title>\n",
       "<path fill=\"none\" stroke=\"black\" d=\"M1227.5,-53C1227.5,-53 1120.5,-53 1120.5,-53 1114.5,-53 1108.5,-47 1108.5,-41 1108.5,-41 1108.5,-12 1108.5,-12 1108.5,-6 1114.5,0 1120.5,0 1120.5,0 1227.5,0 1227.5,0 1233.5,0 1239.5,-6 1239.5,-12 1239.5,-12 1239.5,-41 1239.5,-41 1239.5,-47 1233.5,-53 1227.5,-53\"/>\n",
       "<text text-anchor=\"middle\" x=\"1174\" y=\"-37.8\" font-family=\"Helvetica,sans-Serif\" font-size=\"14.00\">entropy = 0.977</text>\n",
       "<text text-anchor=\"middle\" x=\"1174\" y=\"-22.8\" font-family=\"Helvetica,sans-Serif\" font-size=\"14.00\">samples = 17</text>\n",
       "<text text-anchor=\"middle\" x=\"1174\" y=\"-7.8\" font-family=\"Helvetica,sans-Serif\" font-size=\"14.00\">value = [7, 10]</text>\n",
       "</g>\n",
       "<!-- 24&#45;&gt;26 -->\n",
       "<g id=\"edge26\" class=\"edge\">\n",
       "<title>24&#45;&gt;26</title>\n",
       "<path fill=\"none\" stroke=\"black\" d=\"M1077.11,-88.95C1092.55,-79.16 1109.39,-68.48 1124.65,-58.8\"/>\n",
       "<polygon fill=\"black\" stroke=\"black\" points=\"1126.85,-61.55 1133.42,-53.24 1123.1,-55.64 1126.85,-61.55\"/>\n",
       "</g>\n",
       "<!-- 28 -->\n",
       "<g id=\"node29\" class=\"node\">\n",
       "<title>28</title>\n",
       "<path fill=\"none\" stroke=\"black\" d=\"M1052.5,-253.5C1052.5,-253.5 945.5,-253.5 945.5,-253.5 939.5,-253.5 933.5,-247.5 933.5,-241.5 933.5,-241.5 933.5,-212.5 933.5,-212.5 933.5,-206.5 939.5,-200.5 945.5,-200.5 945.5,-200.5 1052.5,-200.5 1052.5,-200.5 1058.5,-200.5 1064.5,-206.5 1064.5,-212.5 1064.5,-212.5 1064.5,-241.5 1064.5,-241.5 1064.5,-247.5 1058.5,-253.5 1052.5,-253.5\"/>\n",
       "<text text-anchor=\"middle\" x=\"999\" y=\"-238.3\" font-family=\"Helvetica,sans-Serif\" font-size=\"14.00\">entropy = 0.918</text>\n",
       "<text text-anchor=\"middle\" x=\"999\" y=\"-223.3\" font-family=\"Helvetica,sans-Serif\" font-size=\"14.00\">samples = 9</text>\n",
       "<text text-anchor=\"middle\" x=\"999\" y=\"-208.3\" font-family=\"Helvetica,sans-Serif\" font-size=\"14.00\">value = [6, 3]</text>\n",
       "</g>\n",
       "<!-- 27&#45;&gt;28 -->\n",
       "<g id=\"edge28\" class=\"edge\">\n",
       "<title>27&#45;&gt;28</title>\n",
       "<path fill=\"none\" stroke=\"black\" d=\"M1006.43,-296.88C1005.28,-286.22 1004,-274.35 1002.83,-263.52\"/>\n",
       "<polygon fill=\"black\" stroke=\"black\" points=\"1006.3,-263.09 1001.75,-253.52 999.34,-263.84 1006.3,-263.09\"/>\n",
       "</g>\n",
       "<!-- 29 -->\n",
       "<g id=\"node30\" class=\"node\">\n",
       "<title>29</title>\n",
       "<path fill=\"none\" stroke=\"black\" d=\"M1193,-253.5C1193,-253.5 1095,-253.5 1095,-253.5 1089,-253.5 1083,-247.5 1083,-241.5 1083,-241.5 1083,-212.5 1083,-212.5 1083,-206.5 1089,-200.5 1095,-200.5 1095,-200.5 1193,-200.5 1193,-200.5 1199,-200.5 1205,-206.5 1205,-212.5 1205,-212.5 1205,-241.5 1205,-241.5 1205,-247.5 1199,-253.5 1193,-253.5\"/>\n",
       "<text text-anchor=\"middle\" x=\"1144\" y=\"-238.3\" font-family=\"Helvetica,sans-Serif\" font-size=\"14.00\">entropy = 0.0</text>\n",
       "<text text-anchor=\"middle\" x=\"1144\" y=\"-223.3\" font-family=\"Helvetica,sans-Serif\" font-size=\"14.00\">samples = 18</text>\n",
       "<text text-anchor=\"middle\" x=\"1144\" y=\"-208.3\" font-family=\"Helvetica,sans-Serif\" font-size=\"14.00\">value = [18, 0]</text>\n",
       "</g>\n",
       "<!-- 27&#45;&gt;29 -->\n",
       "<g id=\"edge29\" class=\"edge\">\n",
       "<title>27&#45;&gt;29</title>\n",
       "<path fill=\"none\" stroke=\"black\" d=\"M1053.51,-296.88C1069.11,-285.01 1086.66,-271.65 1102.12,-259.88\"/>\n",
       "<polygon fill=\"black\" stroke=\"black\" points=\"1104.64,-262.36 1110.47,-253.52 1100.4,-256.79 1104.64,-262.36\"/>\n",
       "</g>\n",
       "<!-- 31 -->\n",
       "<g id=\"node32\" class=\"node\">\n",
       "<title>31</title>\n",
       "<path fill=\"none\" stroke=\"black\" d=\"M1603,-469C1603,-469 1487,-469 1487,-469 1481,-469 1475,-463 1475,-457 1475,-457 1475,-413 1475,-413 1475,-407 1481,-401 1487,-401 1487,-401 1603,-401 1603,-401 1609,-401 1615,-407 1615,-413 1615,-413 1615,-457 1615,-457 1615,-463 1609,-469 1603,-469\"/>\n",
       "<text text-anchor=\"middle\" x=\"1545\" y=\"-453.8\" font-family=\"Helvetica,sans-Serif\" font-size=\"14.00\">Age &lt;= 13.5</text>\n",
       "<text text-anchor=\"middle\" x=\"1545\" y=\"-438.8\" font-family=\"Helvetica,sans-Serif\" font-size=\"14.00\">entropy = 0.558</text>\n",
       "<text text-anchor=\"middle\" x=\"1545\" y=\"-423.8\" font-family=\"Helvetica,sans-Serif\" font-size=\"14.00\">samples = 415</text>\n",
       "<text text-anchor=\"middle\" x=\"1545\" y=\"-408.8\" font-family=\"Helvetica,sans-Serif\" font-size=\"14.00\">value = [361, 54]</text>\n",
       "</g>\n",
       "<!-- 30&#45;&gt;31 -->\n",
       "<g id=\"edge31\" class=\"edge\">\n",
       "<title>30&#45;&gt;31</title>\n",
       "<path fill=\"none\" stroke=\"black\" d=\"M1545,-504.88C1545,-496.78 1545,-487.98 1545,-479.47\"/>\n",
       "<polygon fill=\"black\" stroke=\"black\" points=\"1548.5,-479.3 1545,-469.3 1541.5,-479.3 1548.5,-479.3\"/>\n",
       "</g>\n",
       "<!-- 42 -->\n",
       "<g id=\"node43\" class=\"node\">\n",
       "<title>42</title>\n",
       "<path fill=\"none\" stroke=\"black\" d=\"M2191,-469C2191,-469 2075,-469 2075,-469 2069,-469 2063,-463 2063,-457 2063,-457 2063,-413 2063,-413 2063,-407 2069,-401 2075,-401 2075,-401 2191,-401 2191,-401 2197,-401 2203,-407 2203,-413 2203,-413 2203,-457 2203,-457 2203,-463 2197,-469 2191,-469\"/>\n",
       "<text text-anchor=\"middle\" x=\"2133\" y=\"-453.8\" font-family=\"Helvetica,sans-Serif\" font-size=\"14.00\">SibSp &lt;= 2.5</text>\n",
       "<text text-anchor=\"middle\" x=\"2133\" y=\"-438.8\" font-family=\"Helvetica,sans-Serif\" font-size=\"14.00\">entropy = 0.924</text>\n",
       "<text text-anchor=\"middle\" x=\"2133\" y=\"-423.8\" font-family=\"Helvetica,sans-Serif\" font-size=\"14.00\">samples = 162</text>\n",
       "<text text-anchor=\"middle\" x=\"2133\" y=\"-408.8\" font-family=\"Helvetica,sans-Serif\" font-size=\"14.00\">value = [107, 55]</text>\n",
       "</g>\n",
       "<!-- 30&#45;&gt;42 -->\n",
       "<g id=\"edge42\" class=\"edge\">\n",
       "<title>30&#45;&gt;42</title>\n",
       "<path fill=\"none\" stroke=\"black\" d=\"M1619.77,-525.03C1730.86,-505.76 1938.65,-469.71 2052.8,-449.91\"/>\n",
       "<polygon fill=\"black\" stroke=\"black\" points=\"2053.62,-453.32 2062.87,-448.16 2052.42,-446.43 2053.62,-453.32\"/>\n",
       "</g>\n",
       "<!-- 32 -->\n",
       "<g id=\"node33\" class=\"node\">\n",
       "<title>32</title>\n",
       "<path fill=\"none\" stroke=\"black\" d=\"M1513.5,-357.5C1513.5,-357.5 1406.5,-357.5 1406.5,-357.5 1400.5,-357.5 1394.5,-351.5 1394.5,-345.5 1394.5,-345.5 1394.5,-316.5 1394.5,-316.5 1394.5,-310.5 1400.5,-304.5 1406.5,-304.5 1406.5,-304.5 1513.5,-304.5 1513.5,-304.5 1519.5,-304.5 1525.5,-310.5 1525.5,-316.5 1525.5,-316.5 1525.5,-345.5 1525.5,-345.5 1525.5,-351.5 1519.5,-357.5 1513.5,-357.5\"/>\n",
       "<text text-anchor=\"middle\" x=\"1460\" y=\"-342.3\" font-family=\"Helvetica,sans-Serif\" font-size=\"14.00\">entropy = 0.567</text>\n",
       "<text text-anchor=\"middle\" x=\"1460\" y=\"-327.3\" font-family=\"Helvetica,sans-Serif\" font-size=\"14.00\">samples = 15</text>\n",
       "<text text-anchor=\"middle\" x=\"1460\" y=\"-312.3\" font-family=\"Helvetica,sans-Serif\" font-size=\"14.00\">value = [2, 13]</text>\n",
       "</g>\n",
       "<!-- 31&#45;&gt;32 -->\n",
       "<g id=\"edge32\" class=\"edge\">\n",
       "<title>31&#45;&gt;32</title>\n",
       "<path fill=\"none\" stroke=\"black\" d=\"M1517.4,-400.88C1507.96,-389.56 1497.4,-376.88 1487.93,-365.52\"/>\n",
       "<polygon fill=\"black\" stroke=\"black\" points=\"1490.36,-362.96 1481.27,-357.52 1484.98,-367.44 1490.36,-362.96\"/>\n",
       "</g>\n",
       "<!-- 33 -->\n",
       "<g id=\"node34\" class=\"node\">\n",
       "<title>33</title>\n",
       "<path fill=\"none\" stroke=\"black\" d=\"M1706.5,-365C1706.5,-365 1555.5,-365 1555.5,-365 1549.5,-365 1543.5,-359 1543.5,-353 1543.5,-353 1543.5,-309 1543.5,-309 1543.5,-303 1549.5,-297 1555.5,-297 1555.5,-297 1706.5,-297 1706.5,-297 1712.5,-297 1718.5,-303 1718.5,-309 1718.5,-309 1718.5,-353 1718.5,-353 1718.5,-359 1712.5,-365 1706.5,-365\"/>\n",
       "<text text-anchor=\"middle\" x=\"1631\" y=\"-349.8\" font-family=\"Helvetica,sans-Serif\" font-size=\"14.00\">PassengerId &lt;= 831.0</text>\n",
       "<text text-anchor=\"middle\" x=\"1631\" y=\"-334.8\" font-family=\"Helvetica,sans-Serif\" font-size=\"14.00\">entropy = 0.477</text>\n",
       "<text text-anchor=\"middle\" x=\"1631\" y=\"-319.8\" font-family=\"Helvetica,sans-Serif\" font-size=\"14.00\">samples = 400</text>\n",
       "<text text-anchor=\"middle\" x=\"1631\" y=\"-304.8\" font-family=\"Helvetica,sans-Serif\" font-size=\"14.00\">value = [359, 41]</text>\n",
       "</g>\n",
       "<!-- 31&#45;&gt;33 -->\n",
       "<g id=\"edge33\" class=\"edge\">\n",
       "<title>31&#45;&gt;33</title>\n",
       "<path fill=\"none\" stroke=\"black\" d=\"M1572.92,-400.88C1580.43,-391.98 1588.64,-382.24 1596.47,-372.96\"/>\n",
       "<polygon fill=\"black\" stroke=\"black\" points=\"1599.15,-375.2 1602.92,-365.3 1593.8,-370.69 1599.15,-375.2\"/>\n",
       "</g>\n",
       "<!-- 34 -->\n",
       "<g id=\"node35\" class=\"node\">\n",
       "<title>34</title>\n",
       "<path fill=\"none\" stroke=\"black\" d=\"M1614,-261C1614,-261 1498,-261 1498,-261 1492,-261 1486,-255 1486,-249 1486,-249 1486,-205 1486,-205 1486,-199 1492,-193 1498,-193 1498,-193 1614,-193 1614,-193 1620,-193 1626,-199 1626,-205 1626,-205 1626,-249 1626,-249 1626,-255 1620,-261 1614,-261\"/>\n",
       "<text text-anchor=\"middle\" x=\"1556\" y=\"-245.8\" font-family=\"Helvetica,sans-Serif\" font-size=\"14.00\">Age &lt;= 32.5</text>\n",
       "<text text-anchor=\"middle\" x=\"1556\" y=\"-230.8\" font-family=\"Helvetica,sans-Serif\" font-size=\"14.00\">entropy = 0.501</text>\n",
       "<text text-anchor=\"middle\" x=\"1556\" y=\"-215.8\" font-family=\"Helvetica,sans-Serif\" font-size=\"14.00\">samples = 372</text>\n",
       "<text text-anchor=\"middle\" x=\"1556\" y=\"-200.8\" font-family=\"Helvetica,sans-Serif\" font-size=\"14.00\">value = [331, 41]</text>\n",
       "</g>\n",
       "<!-- 33&#45;&gt;34 -->\n",
       "<g id=\"edge34\" class=\"edge\">\n",
       "<title>33&#45;&gt;34</title>\n",
       "<path fill=\"none\" stroke=\"black\" d=\"M1606.65,-296.88C1600.23,-288.15 1593.22,-278.62 1586.52,-269.51\"/>\n",
       "<polygon fill=\"black\" stroke=\"black\" points=\"1589.23,-267.28 1580.48,-261.3 1583.59,-271.43 1589.23,-267.28\"/>\n",
       "</g>\n",
       "<!-- 41 -->\n",
       "<g id=\"node42\" class=\"node\">\n",
       "<title>41</title>\n",
       "<path fill=\"none\" stroke=\"black\" d=\"M1754,-253.5C1754,-253.5 1656,-253.5 1656,-253.5 1650,-253.5 1644,-247.5 1644,-241.5 1644,-241.5 1644,-212.5 1644,-212.5 1644,-206.5 1650,-200.5 1656,-200.5 1656,-200.5 1754,-200.5 1754,-200.5 1760,-200.5 1766,-206.5 1766,-212.5 1766,-212.5 1766,-241.5 1766,-241.5 1766,-247.5 1760,-253.5 1754,-253.5\"/>\n",
       "<text text-anchor=\"middle\" x=\"1705\" y=\"-238.3\" font-family=\"Helvetica,sans-Serif\" font-size=\"14.00\">entropy = 0.0</text>\n",
       "<text text-anchor=\"middle\" x=\"1705\" y=\"-223.3\" font-family=\"Helvetica,sans-Serif\" font-size=\"14.00\">samples = 28</text>\n",
       "<text text-anchor=\"middle\" x=\"1705\" y=\"-208.3\" font-family=\"Helvetica,sans-Serif\" font-size=\"14.00\">value = [28, 0]</text>\n",
       "</g>\n",
       "<!-- 33&#45;&gt;41 -->\n",
       "<g id=\"edge41\" class=\"edge\">\n",
       "<title>33&#45;&gt;41</title>\n",
       "<path fill=\"none\" stroke=\"black\" d=\"M1655.03,-296.88C1663.16,-285.67 1672.26,-273.13 1680.44,-261.85\"/>\n",
       "<polygon fill=\"black\" stroke=\"black\" points=\"1683.45,-263.67 1686.49,-253.52 1677.78,-259.56 1683.45,-263.67\"/>\n",
       "</g>\n",
       "<!-- 35 -->\n",
       "<g id=\"node36\" class=\"node\">\n",
       "<title>35</title>\n",
       "<path fill=\"none\" stroke=\"black\" d=\"M1526,-157C1526,-157 1410,-157 1410,-157 1404,-157 1398,-151 1398,-145 1398,-145 1398,-101 1398,-101 1398,-95 1404,-89 1410,-89 1410,-89 1526,-89 1526,-89 1532,-89 1538,-95 1538,-101 1538,-101 1538,-145 1538,-145 1538,-151 1532,-157 1526,-157\"/>\n",
       "<text text-anchor=\"middle\" x=\"1468\" y=\"-141.8\" font-family=\"Helvetica,sans-Serif\" font-size=\"14.00\">Age &lt;= 30.75</text>\n",
       "<text text-anchor=\"middle\" x=\"1468\" y=\"-126.8\" font-family=\"Helvetica,sans-Serif\" font-size=\"14.00\">entropy = 0.55</text>\n",
       "<text text-anchor=\"middle\" x=\"1468\" y=\"-111.8\" font-family=\"Helvetica,sans-Serif\" font-size=\"14.00\">samples = 275</text>\n",
       "<text text-anchor=\"middle\" x=\"1468\" y=\"-96.8\" font-family=\"Helvetica,sans-Serif\" font-size=\"14.00\">value = [240, 35]</text>\n",
       "</g>\n",
       "<!-- 34&#45;&gt;35 -->\n",
       "<g id=\"edge35\" class=\"edge\">\n",
       "<title>34&#45;&gt;35</title>\n",
       "<path fill=\"none\" stroke=\"black\" d=\"M1527.43,-192.88C1519.74,-183.98 1511.34,-174.24 1503.34,-164.96\"/>\n",
       "<polygon fill=\"black\" stroke=\"black\" points=\"1505.91,-162.58 1496.73,-157.3 1500.61,-167.16 1505.91,-162.58\"/>\n",
       "</g>\n",
       "<!-- 38 -->\n",
       "<g id=\"node39\" class=\"node\">\n",
       "<title>38</title>\n",
       "<path fill=\"none\" stroke=\"black\" d=\"M1719.5,-157C1719.5,-157 1568.5,-157 1568.5,-157 1562.5,-157 1556.5,-151 1556.5,-145 1556.5,-145 1556.5,-101 1556.5,-101 1556.5,-95 1562.5,-89 1568.5,-89 1568.5,-89 1719.5,-89 1719.5,-89 1725.5,-89 1731.5,-95 1731.5,-101 1731.5,-101 1731.5,-145 1731.5,-145 1731.5,-151 1725.5,-157 1719.5,-157\"/>\n",
       "<text text-anchor=\"middle\" x=\"1644\" y=\"-141.8\" font-family=\"Helvetica,sans-Serif\" font-size=\"14.00\">PassengerId &lt;= 577.0</text>\n",
       "<text text-anchor=\"middle\" x=\"1644\" y=\"-126.8\" font-family=\"Helvetica,sans-Serif\" font-size=\"14.00\">entropy = 0.335</text>\n",
       "<text text-anchor=\"middle\" x=\"1644\" y=\"-111.8\" font-family=\"Helvetica,sans-Serif\" font-size=\"14.00\">samples = 97</text>\n",
       "<text text-anchor=\"middle\" x=\"1644\" y=\"-96.8\" font-family=\"Helvetica,sans-Serif\" font-size=\"14.00\">value = [91, 6]</text>\n",
       "</g>\n",
       "<!-- 34&#45;&gt;38 -->\n",
       "<g id=\"edge38\" class=\"edge\">\n",
       "<title>34&#45;&gt;38</title>\n",
       "<path fill=\"none\" stroke=\"black\" d=\"M1584.57,-192.88C1592.26,-183.98 1600.66,-174.24 1608.66,-164.96\"/>\n",
       "<polygon fill=\"black\" stroke=\"black\" points=\"1611.39,-167.16 1615.27,-157.3 1606.09,-162.58 1611.39,-167.16\"/>\n",
       "</g>\n",
       "<!-- 36 -->\n",
       "<g id=\"node37\" class=\"node\">\n",
       "<title>36</title>\n",
       "<path fill=\"none\" stroke=\"black\" d=\"M1386,-53C1386,-53 1270,-53 1270,-53 1264,-53 1258,-47 1258,-41 1258,-41 1258,-12 1258,-12 1258,-6 1264,0 1270,0 1270,0 1386,0 1386,0 1392,0 1398,-6 1398,-12 1398,-12 1398,-41 1398,-41 1398,-47 1392,-53 1386,-53\"/>\n",
       "<text text-anchor=\"middle\" x=\"1328\" y=\"-37.8\" font-family=\"Helvetica,sans-Serif\" font-size=\"14.00\">entropy = 0.506</text>\n",
       "<text text-anchor=\"middle\" x=\"1328\" y=\"-22.8\" font-family=\"Helvetica,sans-Serif\" font-size=\"14.00\">samples = 259</text>\n",
       "<text text-anchor=\"middle\" x=\"1328\" y=\"-7.8\" font-family=\"Helvetica,sans-Serif\" font-size=\"14.00\">value = [230, 29]</text>\n",
       "</g>\n",
       "<!-- 35&#45;&gt;36 -->\n",
       "<g id=\"edge36\" class=\"edge\">\n",
       "<title>35&#45;&gt;36</title>\n",
       "<path fill=\"none\" stroke=\"black\" d=\"M1419.03,-88.95C1404.67,-79.25 1389,-68.68 1374.77,-59.07\"/>\n",
       "<polygon fill=\"black\" stroke=\"black\" points=\"1376.38,-55.93 1366.13,-53.24 1372.46,-61.73 1376.38,-55.93\"/>\n",
       "</g>\n",
       "<!-- 37 -->\n",
       "<g id=\"node38\" class=\"node\">\n",
       "<title>37</title>\n",
       "<path fill=\"none\" stroke=\"black\" d=\"M1535.5,-53C1535.5,-53 1428.5,-53 1428.5,-53 1422.5,-53 1416.5,-47 1416.5,-41 1416.5,-41 1416.5,-12 1416.5,-12 1416.5,-6 1422.5,0 1428.5,0 1428.5,0 1535.5,0 1535.5,0 1541.5,0 1547.5,-6 1547.5,-12 1547.5,-12 1547.5,-41 1547.5,-41 1547.5,-47 1541.5,-53 1535.5,-53\"/>\n",
       "<text text-anchor=\"middle\" x=\"1482\" y=\"-37.8\" font-family=\"Helvetica,sans-Serif\" font-size=\"14.00\">entropy = 0.954</text>\n",
       "<text text-anchor=\"middle\" x=\"1482\" y=\"-22.8\" font-family=\"Helvetica,sans-Serif\" font-size=\"14.00\">samples = 16</text>\n",
       "<text text-anchor=\"middle\" x=\"1482\" y=\"-7.8\" font-family=\"Helvetica,sans-Serif\" font-size=\"14.00\">value = [10, 6]</text>\n",
       "</g>\n",
       "<!-- 35&#45;&gt;37 -->\n",
       "<g id=\"edge37\" class=\"edge\">\n",
       "<title>35&#45;&gt;37</title>\n",
       "<path fill=\"none\" stroke=\"black\" d=\"M1472.9,-88.95C1474.13,-80.62 1475.46,-71.65 1476.71,-63.2\"/>\n",
       "<polygon fill=\"black\" stroke=\"black\" points=\"1480.18,-63.64 1478.19,-53.24 1473.26,-62.62 1480.18,-63.64\"/>\n",
       "</g>\n",
       "<!-- 39 -->\n",
       "<g id=\"node40\" class=\"node\">\n",
       "<title>39</title>\n",
       "<path fill=\"none\" stroke=\"black\" d=\"M1684.5,-53C1684.5,-53 1577.5,-53 1577.5,-53 1571.5,-53 1565.5,-47 1565.5,-41 1565.5,-41 1565.5,-12 1565.5,-12 1565.5,-6 1571.5,0 1577.5,0 1577.5,0 1684.5,0 1684.5,0 1690.5,0 1696.5,-6 1696.5,-12 1696.5,-12 1696.5,-41 1696.5,-41 1696.5,-47 1690.5,-53 1684.5,-53\"/>\n",
       "<text text-anchor=\"middle\" x=\"1631\" y=\"-37.8\" font-family=\"Helvetica,sans-Serif\" font-size=\"14.00\">entropy = 0.474</text>\n",
       "<text text-anchor=\"middle\" x=\"1631\" y=\"-22.8\" font-family=\"Helvetica,sans-Serif\" font-size=\"14.00\">samples = 59</text>\n",
       "<text text-anchor=\"middle\" x=\"1631\" y=\"-7.8\" font-family=\"Helvetica,sans-Serif\" font-size=\"14.00\">value = [53, 6]</text>\n",
       "</g>\n",
       "<!-- 38&#45;&gt;39 -->\n",
       "<g id=\"edge39\" class=\"edge\">\n",
       "<title>38&#45;&gt;39</title>\n",
       "<path fill=\"none\" stroke=\"black\" d=\"M1639.45,-88.95C1638.31,-80.62 1637.07,-71.65 1635.91,-63.2\"/>\n",
       "<polygon fill=\"black\" stroke=\"black\" points=\"1639.37,-62.67 1634.54,-53.24 1632.44,-63.62 1639.37,-62.67\"/>\n",
       "</g>\n",
       "<!-- 40 -->\n",
       "<g id=\"node41\" class=\"node\">\n",
       "<title>40</title>\n",
       "<path fill=\"none\" stroke=\"black\" d=\"M1825,-53C1825,-53 1727,-53 1727,-53 1721,-53 1715,-47 1715,-41 1715,-41 1715,-12 1715,-12 1715,-6 1721,0 1727,0 1727,0 1825,0 1825,0 1831,0 1837,-6 1837,-12 1837,-12 1837,-41 1837,-41 1837,-47 1831,-53 1825,-53\"/>\n",
       "<text text-anchor=\"middle\" x=\"1776\" y=\"-37.8\" font-family=\"Helvetica,sans-Serif\" font-size=\"14.00\">entropy = 0.0</text>\n",
       "<text text-anchor=\"middle\" x=\"1776\" y=\"-22.8\" font-family=\"Helvetica,sans-Serif\" font-size=\"14.00\">samples = 38</text>\n",
       "<text text-anchor=\"middle\" x=\"1776\" y=\"-7.8\" font-family=\"Helvetica,sans-Serif\" font-size=\"14.00\">value = [38, 0]</text>\n",
       "</g>\n",
       "<!-- 38&#45;&gt;40 -->\n",
       "<g id=\"edge40\" class=\"edge\">\n",
       "<title>38&#45;&gt;40</title>\n",
       "<path fill=\"none\" stroke=\"black\" d=\"M1690.17,-88.95C1703.71,-79.25 1718.49,-68.68 1731.9,-59.07\"/>\n",
       "<polygon fill=\"black\" stroke=\"black\" points=\"1733.96,-61.9 1740.05,-53.24 1729.88,-56.21 1733.96,-61.9\"/>\n",
       "</g>\n",
       "<!-- 43 -->\n",
       "<g id=\"node44\" class=\"node\">\n",
       "<title>43</title>\n",
       "<path fill=\"none\" stroke=\"black\" d=\"M2208.5,-365C2208.5,-365 2057.5,-365 2057.5,-365 2051.5,-365 2045.5,-359 2045.5,-353 2045.5,-353 2045.5,-309 2045.5,-309 2045.5,-303 2051.5,-297 2057.5,-297 2057.5,-297 2208.5,-297 2208.5,-297 2214.5,-297 2220.5,-303 2220.5,-309 2220.5,-309 2220.5,-353 2220.5,-353 2220.5,-359 2214.5,-365 2208.5,-365\"/>\n",
       "<text text-anchor=\"middle\" x=\"2133\" y=\"-349.8\" font-family=\"Helvetica,sans-Serif\" font-size=\"14.00\">PassengerId &lt;= 388.5</text>\n",
       "<text text-anchor=\"middle\" x=\"2133\" y=\"-334.8\" font-family=\"Helvetica,sans-Serif\" font-size=\"14.00\">entropy = 0.964</text>\n",
       "<text text-anchor=\"middle\" x=\"2133\" y=\"-319.8\" font-family=\"Helvetica,sans-Serif\" font-size=\"14.00\">samples = 139</text>\n",
       "<text text-anchor=\"middle\" x=\"2133\" y=\"-304.8\" font-family=\"Helvetica,sans-Serif\" font-size=\"14.00\">value = [85, 54]</text>\n",
       "</g>\n",
       "<!-- 42&#45;&gt;43 -->\n",
       "<g id=\"edge43\" class=\"edge\">\n",
       "<title>42&#45;&gt;43</title>\n",
       "<path fill=\"none\" stroke=\"black\" d=\"M2133,-400.88C2133,-392.78 2133,-383.98 2133,-375.47\"/>\n",
       "<polygon fill=\"black\" stroke=\"black\" points=\"2136.5,-375.3 2133,-365.3 2129.5,-375.3 2136.5,-375.3\"/>\n",
       "</g>\n",
       "<!-- 54 -->\n",
       "<g id=\"node55\" class=\"node\">\n",
       "<title>54</title>\n",
       "<path fill=\"none\" stroke=\"black\" d=\"M2421.5,-365C2421.5,-365 2314.5,-365 2314.5,-365 2308.5,-365 2302.5,-359 2302.5,-353 2302.5,-353 2302.5,-309 2302.5,-309 2302.5,-303 2308.5,-297 2314.5,-297 2314.5,-297 2421.5,-297 2421.5,-297 2427.5,-297 2433.5,-303 2433.5,-309 2433.5,-309 2433.5,-353 2433.5,-353 2433.5,-359 2427.5,-365 2421.5,-365\"/>\n",
       "<text text-anchor=\"middle\" x=\"2368\" y=\"-349.8\" font-family=\"Helvetica,sans-Serif\" font-size=\"14.00\">Fare &lt;= 35.538</text>\n",
       "<text text-anchor=\"middle\" x=\"2368\" y=\"-334.8\" font-family=\"Helvetica,sans-Serif\" font-size=\"14.00\">entropy = 0.258</text>\n",
       "<text text-anchor=\"middle\" x=\"2368\" y=\"-319.8\" font-family=\"Helvetica,sans-Serif\" font-size=\"14.00\">samples = 23</text>\n",
       "<text text-anchor=\"middle\" x=\"2368\" y=\"-304.8\" font-family=\"Helvetica,sans-Serif\" font-size=\"14.00\">value = [22, 1]</text>\n",
       "</g>\n",
       "<!-- 42&#45;&gt;54 -->\n",
       "<g id=\"edge54\" class=\"edge\">\n",
       "<title>42&#45;&gt;54</title>\n",
       "<path fill=\"none\" stroke=\"black\" d=\"M2203.19,-403.53C2231.5,-391.25 2264.22,-377.05 2293,-364.55\"/>\n",
       "<polygon fill=\"black\" stroke=\"black\" points=\"2294.41,-367.76 2302.19,-360.56 2291.63,-361.33 2294.41,-367.76\"/>\n",
       "</g>\n",
       "<!-- 44 -->\n",
       "<g id=\"node45\" class=\"node\">\n",
       "<title>44</title>\n",
       "<path fill=\"none\" stroke=\"black\" d=\"M2123.5,-261C2123.5,-261 2016.5,-261 2016.5,-261 2010.5,-261 2004.5,-255 2004.5,-249 2004.5,-249 2004.5,-205 2004.5,-205 2004.5,-199 2010.5,-193 2016.5,-193 2016.5,-193 2123.5,-193 2123.5,-193 2129.5,-193 2135.5,-199 2135.5,-205 2135.5,-205 2135.5,-249 2135.5,-249 2135.5,-255 2129.5,-261 2123.5,-261\"/>\n",
       "<text text-anchor=\"middle\" x=\"2070\" y=\"-245.8\" font-family=\"Helvetica,sans-Serif\" font-size=\"14.00\">Age &lt;= 45.25</text>\n",
       "<text text-anchor=\"middle\" x=\"2070\" y=\"-230.8\" font-family=\"Helvetica,sans-Serif\" font-size=\"14.00\">entropy = 0.775</text>\n",
       "<text text-anchor=\"middle\" x=\"2070\" y=\"-215.8\" font-family=\"Helvetica,sans-Serif\" font-size=\"14.00\">samples = 57</text>\n",
       "<text text-anchor=\"middle\" x=\"2070\" y=\"-200.8\" font-family=\"Helvetica,sans-Serif\" font-size=\"14.00\">value = [44, 13]</text>\n",
       "</g>\n",
       "<!-- 43&#45;&gt;44 -->\n",
       "<g id=\"edge44\" class=\"edge\">\n",
       "<title>43&#45;&gt;44</title>\n",
       "<path fill=\"none\" stroke=\"black\" d=\"M2112.55,-296.88C2107.26,-288.33 2101.51,-279.01 2095.99,-270.07\"/>\n",
       "<polygon fill=\"black\" stroke=\"black\" points=\"2098.8,-267.97 2090.57,-261.3 2092.84,-271.65 2098.8,-267.97\"/>\n",
       "</g>\n",
       "<!-- 49 -->\n",
       "<g id=\"node50\" class=\"node\">\n",
       "<title>49</title>\n",
       "<path fill=\"none\" stroke=\"black\" d=\"M2272.5,-261C2272.5,-261 2165.5,-261 2165.5,-261 2159.5,-261 2153.5,-255 2153.5,-249 2153.5,-249 2153.5,-205 2153.5,-205 2153.5,-199 2159.5,-193 2165.5,-193 2165.5,-193 2272.5,-193 2272.5,-193 2278.5,-193 2284.5,-199 2284.5,-205 2284.5,-205 2284.5,-249 2284.5,-249 2284.5,-255 2278.5,-261 2272.5,-261\"/>\n",
       "<text text-anchor=\"middle\" x=\"2219\" y=\"-245.8\" font-family=\"Helvetica,sans-Serif\" font-size=\"14.00\">Age &lt;= 53.5</text>\n",
       "<text text-anchor=\"middle\" x=\"2219\" y=\"-230.8\" font-family=\"Helvetica,sans-Serif\" font-size=\"14.00\">entropy = 1.0</text>\n",
       "<text text-anchor=\"middle\" x=\"2219\" y=\"-215.8\" font-family=\"Helvetica,sans-Serif\" font-size=\"14.00\">samples = 82</text>\n",
       "<text text-anchor=\"middle\" x=\"2219\" y=\"-200.8\" font-family=\"Helvetica,sans-Serif\" font-size=\"14.00\">value = [41, 41]</text>\n",
       "</g>\n",
       "<!-- 43&#45;&gt;49 -->\n",
       "<g id=\"edge49\" class=\"edge\">\n",
       "<title>43&#45;&gt;49</title>\n",
       "<path fill=\"none\" stroke=\"black\" d=\"M2160.92,-296.88C2168.43,-287.98 2176.64,-278.24 2184.47,-268.96\"/>\n",
       "<polygon fill=\"black\" stroke=\"black\" points=\"2187.15,-271.2 2190.92,-261.3 2181.8,-266.69 2187.15,-271.2\"/>\n",
       "</g>\n",
       "<!-- 45 -->\n",
       "<g id=\"node46\" class=\"node\">\n",
       "<title>45</title>\n",
       "<path fill=\"none\" stroke=\"black\" d=\"M1980.5,-157C1980.5,-157 1873.5,-157 1873.5,-157 1867.5,-157 1861.5,-151 1861.5,-145 1861.5,-145 1861.5,-101 1861.5,-101 1861.5,-95 1867.5,-89 1873.5,-89 1873.5,-89 1980.5,-89 1980.5,-89 1986.5,-89 1992.5,-95 1992.5,-101 1992.5,-101 1992.5,-145 1992.5,-145 1992.5,-151 1986.5,-157 1980.5,-157\"/>\n",
       "<text text-anchor=\"middle\" x=\"1927\" y=\"-141.8\" font-family=\"Helvetica,sans-Serif\" font-size=\"14.00\">Fare &lt;= 64.979</text>\n",
       "<text text-anchor=\"middle\" x=\"1927\" y=\"-126.8\" font-family=\"Helvetica,sans-Serif\" font-size=\"14.00\">entropy = 0.867</text>\n",
       "<text text-anchor=\"middle\" x=\"1927\" y=\"-111.8\" font-family=\"Helvetica,sans-Serif\" font-size=\"14.00\">samples = 45</text>\n",
       "<text text-anchor=\"middle\" x=\"1927\" y=\"-96.8\" font-family=\"Helvetica,sans-Serif\" font-size=\"14.00\">value = [32, 13]</text>\n",
       "</g>\n",
       "<!-- 44&#45;&gt;45 -->\n",
       "<g id=\"edge45\" class=\"edge\">\n",
       "<title>44&#45;&gt;45</title>\n",
       "<path fill=\"none\" stroke=\"black\" d=\"M2023.57,-192.88C2010.33,-183.44 1995.79,-173.06 1982.09,-163.29\"/>\n",
       "<polygon fill=\"black\" stroke=\"black\" points=\"1983.86,-160.26 1973.68,-157.3 1979.79,-165.96 1983.86,-160.26\"/>\n",
       "</g>\n",
       "<!-- 48 -->\n",
       "<g id=\"node49\" class=\"node\">\n",
       "<title>48</title>\n",
       "<path fill=\"none\" stroke=\"black\" d=\"M2121,-149.5C2121,-149.5 2023,-149.5 2023,-149.5 2017,-149.5 2011,-143.5 2011,-137.5 2011,-137.5 2011,-108.5 2011,-108.5 2011,-102.5 2017,-96.5 2023,-96.5 2023,-96.5 2121,-96.5 2121,-96.5 2127,-96.5 2133,-102.5 2133,-108.5 2133,-108.5 2133,-137.5 2133,-137.5 2133,-143.5 2127,-149.5 2121,-149.5\"/>\n",
       "<text text-anchor=\"middle\" x=\"2072\" y=\"-134.3\" font-family=\"Helvetica,sans-Serif\" font-size=\"14.00\">entropy = 0.0</text>\n",
       "<text text-anchor=\"middle\" x=\"2072\" y=\"-119.3\" font-family=\"Helvetica,sans-Serif\" font-size=\"14.00\">samples = 12</text>\n",
       "<text text-anchor=\"middle\" x=\"2072\" y=\"-104.3\" font-family=\"Helvetica,sans-Serif\" font-size=\"14.00\">value = [12, 0]</text>\n",
       "</g>\n",
       "<!-- 44&#45;&gt;48 -->\n",
       "<g id=\"edge48\" class=\"edge\">\n",
       "<title>44&#45;&gt;48</title>\n",
       "<path fill=\"none\" stroke=\"black\" d=\"M2070.65,-192.88C2070.86,-182.22 2071.09,-170.35 2071.3,-159.52\"/>\n",
       "<polygon fill=\"black\" stroke=\"black\" points=\"2074.8,-159.59 2071.5,-149.52 2067.8,-159.45 2074.8,-159.59\"/>\n",
       "</g>\n",
       "<!-- 46 -->\n",
       "<g id=\"node47\" class=\"node\">\n",
       "<title>46</title>\n",
       "<path fill=\"none\" stroke=\"black\" d=\"M1974.5,-53C1974.5,-53 1867.5,-53 1867.5,-53 1861.5,-53 1855.5,-47 1855.5,-41 1855.5,-41 1855.5,-12 1855.5,-12 1855.5,-6 1861.5,0 1867.5,0 1867.5,0 1974.5,0 1974.5,0 1980.5,0 1986.5,-6 1986.5,-12 1986.5,-12 1986.5,-41 1986.5,-41 1986.5,-47 1980.5,-53 1974.5,-53\"/>\n",
       "<text text-anchor=\"middle\" x=\"1921\" y=\"-37.8\" font-family=\"Helvetica,sans-Serif\" font-size=\"14.00\">entropy = 0.948</text>\n",
       "<text text-anchor=\"middle\" x=\"1921\" y=\"-22.8\" font-family=\"Helvetica,sans-Serif\" font-size=\"14.00\">samples = 30</text>\n",
       "<text text-anchor=\"middle\" x=\"1921\" y=\"-7.8\" font-family=\"Helvetica,sans-Serif\" font-size=\"14.00\">value = [19, 11]</text>\n",
       "</g>\n",
       "<!-- 45&#45;&gt;46 -->\n",
       "<g id=\"edge46\" class=\"edge\">\n",
       "<title>45&#45;&gt;46</title>\n",
       "<path fill=\"none\" stroke=\"black\" d=\"M1924.9,-88.95C1924.38,-80.72 1923.82,-71.85 1923.28,-63.48\"/>\n",
       "<polygon fill=\"black\" stroke=\"black\" points=\"1926.76,-62.99 1922.63,-53.24 1919.77,-63.44 1926.76,-62.99\"/>\n",
       "</g>\n",
       "<!-- 47 -->\n",
       "<g id=\"node48\" class=\"node\">\n",
       "<title>47</title>\n",
       "<path fill=\"none\" stroke=\"black\" d=\"M2123.5,-53C2123.5,-53 2016.5,-53 2016.5,-53 2010.5,-53 2004.5,-47 2004.5,-41 2004.5,-41 2004.5,-12 2004.5,-12 2004.5,-6 2010.5,0 2016.5,0 2016.5,0 2123.5,0 2123.5,0 2129.5,0 2135.5,-6 2135.5,-12 2135.5,-12 2135.5,-41 2135.5,-41 2135.5,-47 2129.5,-53 2123.5,-53\"/>\n",
       "<text text-anchor=\"middle\" x=\"2070\" y=\"-37.8\" font-family=\"Helvetica,sans-Serif\" font-size=\"14.00\">entropy = 0.567</text>\n",
       "<text text-anchor=\"middle\" x=\"2070\" y=\"-22.8\" font-family=\"Helvetica,sans-Serif\" font-size=\"14.00\">samples = 15</text>\n",
       "<text text-anchor=\"middle\" x=\"2070\" y=\"-7.8\" font-family=\"Helvetica,sans-Serif\" font-size=\"14.00\">value = [13, 2]</text>\n",
       "</g>\n",
       "<!-- 45&#45;&gt;47 -->\n",
       "<g id=\"edge47\" class=\"edge\">\n",
       "<title>45&#45;&gt;47</title>\n",
       "<path fill=\"none\" stroke=\"black\" d=\"M1977.01,-88.95C1991.83,-79.16 2007.99,-68.48 2022.63,-58.8\"/>\n",
       "<polygon fill=\"black\" stroke=\"black\" points=\"2024.64,-61.67 2031.05,-53.24 2020.78,-55.83 2024.64,-61.67\"/>\n",
       "</g>\n",
       "<!-- 50 -->\n",
       "<g id=\"node51\" class=\"node\">\n",
       "<title>50</title>\n",
       "<path fill=\"none\" stroke=\"black\" d=\"M2272.5,-157C2272.5,-157 2165.5,-157 2165.5,-157 2159.5,-157 2153.5,-151 2153.5,-145 2153.5,-145 2153.5,-101 2153.5,-101 2153.5,-95 2159.5,-89 2165.5,-89 2165.5,-89 2272.5,-89 2272.5,-89 2278.5,-89 2284.5,-95 2284.5,-101 2284.5,-101 2284.5,-145 2284.5,-145 2284.5,-151 2278.5,-157 2272.5,-157\"/>\n",
       "<text text-anchor=\"middle\" x=\"2219\" y=\"-141.8\" font-family=\"Helvetica,sans-Serif\" font-size=\"14.00\">Fare &lt;= 30.598</text>\n",
       "<text text-anchor=\"middle\" x=\"2219\" y=\"-126.8\" font-family=\"Helvetica,sans-Serif\" font-size=\"14.00\">entropy = 0.987</text>\n",
       "<text text-anchor=\"middle\" x=\"2219\" y=\"-111.8\" font-family=\"Helvetica,sans-Serif\" font-size=\"14.00\">samples = 67</text>\n",
       "<text text-anchor=\"middle\" x=\"2219\" y=\"-96.8\" font-family=\"Helvetica,sans-Serif\" font-size=\"14.00\">value = [29, 38]</text>\n",
       "</g>\n",
       "<!-- 49&#45;&gt;50 -->\n",
       "<g id=\"edge50\" class=\"edge\">\n",
       "<title>49&#45;&gt;50</title>\n",
       "<path fill=\"none\" stroke=\"black\" d=\"M2219,-192.88C2219,-184.78 2219,-175.98 2219,-167.47\"/>\n",
       "<polygon fill=\"black\" stroke=\"black\" points=\"2222.5,-167.3 2219,-157.3 2215.5,-167.3 2222.5,-167.3\"/>\n",
       "</g>\n",
       "<!-- 53 -->\n",
       "<g id=\"node54\" class=\"node\">\n",
       "<title>53</title>\n",
       "<path fill=\"none\" stroke=\"black\" d=\"M2421.5,-149.5C2421.5,-149.5 2314.5,-149.5 2314.5,-149.5 2308.5,-149.5 2302.5,-143.5 2302.5,-137.5 2302.5,-137.5 2302.5,-108.5 2302.5,-108.5 2302.5,-102.5 2308.5,-96.5 2314.5,-96.5 2314.5,-96.5 2421.5,-96.5 2421.5,-96.5 2427.5,-96.5 2433.5,-102.5 2433.5,-108.5 2433.5,-108.5 2433.5,-137.5 2433.5,-137.5 2433.5,-143.5 2427.5,-149.5 2421.5,-149.5\"/>\n",
       "<text text-anchor=\"middle\" x=\"2368\" y=\"-134.3\" font-family=\"Helvetica,sans-Serif\" font-size=\"14.00\">entropy = 0.722</text>\n",
       "<text text-anchor=\"middle\" x=\"2368\" y=\"-119.3\" font-family=\"Helvetica,sans-Serif\" font-size=\"14.00\">samples = 15</text>\n",
       "<text text-anchor=\"middle\" x=\"2368\" y=\"-104.3\" font-family=\"Helvetica,sans-Serif\" font-size=\"14.00\">value = [12, 3]</text>\n",
       "</g>\n",
       "<!-- 49&#45;&gt;53 -->\n",
       "<g id=\"edge53\" class=\"edge\">\n",
       "<title>49&#45;&gt;53</title>\n",
       "<path fill=\"none\" stroke=\"black\" d=\"M2267.38,-192.88C2285.05,-180.79 2304.97,-167.15 2322.39,-155.22\"/>\n",
       "<polygon fill=\"black\" stroke=\"black\" points=\"2324.45,-158.06 2330.72,-149.52 2320.49,-152.28 2324.45,-158.06\"/>\n",
       "</g>\n",
       "<!-- 51 -->\n",
       "<g id=\"node52\" class=\"node\">\n",
       "<title>51</title>\n",
       "<path fill=\"none\" stroke=\"black\" d=\"M2272.5,-53C2272.5,-53 2165.5,-53 2165.5,-53 2159.5,-53 2153.5,-47 2153.5,-41 2153.5,-41 2153.5,-12 2153.5,-12 2153.5,-6 2159.5,0 2165.5,0 2165.5,0 2272.5,0 2272.5,0 2278.5,0 2284.5,-6 2284.5,-12 2284.5,-12 2284.5,-41 2284.5,-41 2284.5,-47 2278.5,-53 2272.5,-53\"/>\n",
       "<text text-anchor=\"middle\" x=\"2219\" y=\"-37.8\" font-family=\"Helvetica,sans-Serif\" font-size=\"14.00\">entropy = 0.792</text>\n",
       "<text text-anchor=\"middle\" x=\"2219\" y=\"-22.8\" font-family=\"Helvetica,sans-Serif\" font-size=\"14.00\">samples = 21</text>\n",
       "<text text-anchor=\"middle\" x=\"2219\" y=\"-7.8\" font-family=\"Helvetica,sans-Serif\" font-size=\"14.00\">value = [5, 16]</text>\n",
       "</g>\n",
       "<!-- 50&#45;&gt;51 -->\n",
       "<g id=\"edge51\" class=\"edge\">\n",
       "<title>50&#45;&gt;51</title>\n",
       "<path fill=\"none\" stroke=\"black\" d=\"M2219,-88.95C2219,-80.72 2219,-71.85 2219,-63.48\"/>\n",
       "<polygon fill=\"black\" stroke=\"black\" points=\"2222.5,-63.24 2219,-53.24 2215.5,-63.24 2222.5,-63.24\"/>\n",
       "</g>\n",
       "<!-- 52 -->\n",
       "<g id=\"node53\" class=\"node\">\n",
       "<title>52</title>\n",
       "<path fill=\"none\" stroke=\"black\" d=\"M2421.5,-53C2421.5,-53 2314.5,-53 2314.5,-53 2308.5,-53 2302.5,-47 2302.5,-41 2302.5,-41 2302.5,-12 2302.5,-12 2302.5,-6 2308.5,0 2314.5,0 2314.5,0 2421.5,0 2421.5,0 2427.5,0 2433.5,-6 2433.5,-12 2433.5,-12 2433.5,-41 2433.5,-41 2433.5,-47 2427.5,-53 2421.5,-53\"/>\n",
       "<text text-anchor=\"middle\" x=\"2368\" y=\"-37.8\" font-family=\"Helvetica,sans-Serif\" font-size=\"14.00\">entropy = 0.999</text>\n",
       "<text text-anchor=\"middle\" x=\"2368\" y=\"-22.8\" font-family=\"Helvetica,sans-Serif\" font-size=\"14.00\">samples = 46</text>\n",
       "<text text-anchor=\"middle\" x=\"2368\" y=\"-7.8\" font-family=\"Helvetica,sans-Serif\" font-size=\"14.00\">value = [24, 22]</text>\n",
       "</g>\n",
       "<!-- 50&#45;&gt;52 -->\n",
       "<g id=\"edge52\" class=\"edge\">\n",
       "<title>50&#45;&gt;52</title>\n",
       "<path fill=\"none\" stroke=\"black\" d=\"M2271.11,-88.95C2286.55,-79.16 2303.39,-68.48 2318.65,-58.8\"/>\n",
       "<polygon fill=\"black\" stroke=\"black\" points=\"2320.85,-61.55 2327.42,-53.24 2317.1,-55.64 2320.85,-61.55\"/>\n",
       "</g>\n",
       "<!-- 55 -->\n",
       "<g id=\"node56\" class=\"node\">\n",
       "<title>55</title>\n",
       "<path fill=\"none\" stroke=\"black\" d=\"M2421.5,-253.5C2421.5,-253.5 2314.5,-253.5 2314.5,-253.5 2308.5,-253.5 2302.5,-247.5 2302.5,-241.5 2302.5,-241.5 2302.5,-212.5 2302.5,-212.5 2302.5,-206.5 2308.5,-200.5 2314.5,-200.5 2314.5,-200.5 2421.5,-200.5 2421.5,-200.5 2427.5,-200.5 2433.5,-206.5 2433.5,-212.5 2433.5,-212.5 2433.5,-241.5 2433.5,-241.5 2433.5,-247.5 2427.5,-253.5 2421.5,-253.5\"/>\n",
       "<text text-anchor=\"middle\" x=\"2368\" y=\"-238.3\" font-family=\"Helvetica,sans-Serif\" font-size=\"14.00\">entropy = 0.503</text>\n",
       "<text text-anchor=\"middle\" x=\"2368\" y=\"-223.3\" font-family=\"Helvetica,sans-Serif\" font-size=\"14.00\">samples = 9</text>\n",
       "<text text-anchor=\"middle\" x=\"2368\" y=\"-208.3\" font-family=\"Helvetica,sans-Serif\" font-size=\"14.00\">value = [8, 1]</text>\n",
       "</g>\n",
       "<!-- 54&#45;&gt;55 -->\n",
       "<g id=\"edge55\" class=\"edge\">\n",
       "<title>54&#45;&gt;55</title>\n",
       "<path fill=\"none\" stroke=\"black\" d=\"M2368,-296.88C2368,-286.33 2368,-274.6 2368,-263.85\"/>\n",
       "<polygon fill=\"black\" stroke=\"black\" points=\"2371.5,-263.52 2368,-253.52 2364.5,-263.52 2371.5,-263.52\"/>\n",
       "</g>\n",
       "<!-- 56 -->\n",
       "<g id=\"node57\" class=\"node\">\n",
       "<title>56</title>\n",
       "<path fill=\"none\" stroke=\"black\" d=\"M2562,-253.5C2562,-253.5 2464,-253.5 2464,-253.5 2458,-253.5 2452,-247.5 2452,-241.5 2452,-241.5 2452,-212.5 2452,-212.5 2452,-206.5 2458,-200.5 2464,-200.5 2464,-200.5 2562,-200.5 2562,-200.5 2568,-200.5 2574,-206.5 2574,-212.5 2574,-212.5 2574,-241.5 2574,-241.5 2574,-247.5 2568,-253.5 2562,-253.5\"/>\n",
       "<text text-anchor=\"middle\" x=\"2513\" y=\"-238.3\" font-family=\"Helvetica,sans-Serif\" font-size=\"14.00\">entropy = 0.0</text>\n",
       "<text text-anchor=\"middle\" x=\"2513\" y=\"-223.3\" font-family=\"Helvetica,sans-Serif\" font-size=\"14.00\">samples = 14</text>\n",
       "<text text-anchor=\"middle\" x=\"2513\" y=\"-208.3\" font-family=\"Helvetica,sans-Serif\" font-size=\"14.00\">value = [14, 0]</text>\n",
       "</g>\n",
       "<!-- 54&#45;&gt;56 -->\n",
       "<g id=\"edge56\" class=\"edge\">\n",
       "<title>54&#45;&gt;56</title>\n",
       "<path fill=\"none\" stroke=\"black\" d=\"M2415.08,-296.88C2432.12,-284.9 2451.31,-271.4 2468.15,-259.55\"/>\n",
       "<polygon fill=\"black\" stroke=\"black\" points=\"2470.56,-262.14 2476.72,-253.52 2466.53,-256.41 2470.56,-262.14\"/>\n",
       "</g>\n",
       "</g>\n",
       "</svg>\n"
      ],
      "text/plain": [
       "<graphviz.files.Source at 0x7fbe737c56d0>"
      ]
     },
     "execution_count": 18,
     "metadata": {},
     "output_type": "execute_result"
    }
   ],
   "source": [
    "from sklearn import tree\n",
    "import graphviz \n",
    "dot_data = tree.export_graphviz(dtree, feature_names=X_train.columns, rounded=True)\n",
    "graph = graphviz.Source(dot_data) \n",
    "graph"
   ]
  },
  {
   "cell_type": "markdown",
   "id": "3bca1da7",
   "metadata": {
    "papermill": {
     "duration": 0.047521,
     "end_time": "2022-10-02T17:36:46.277380",
     "exception": false,
     "start_time": "2022-10-02T17:36:46.229859",
     "status": "completed"
    },
    "tags": []
   },
   "source": [
    "# Test Data"
   ]
  },
  {
   "cell_type": "code",
   "execution_count": 19,
   "id": "8a70320d",
   "metadata": {
    "execution": {
     "iopub.execute_input": "2022-10-02T17:36:46.374715Z",
     "iopub.status.busy": "2022-10-02T17:36:46.374407Z",
     "iopub.status.idle": "2022-10-02T17:36:46.399716Z",
     "shell.execute_reply": "2022-10-02T17:36:46.398836Z"
    },
    "papermill": {
     "duration": 0.076743,
     "end_time": "2022-10-02T17:36:46.401891",
     "exception": false,
     "start_time": "2022-10-02T17:36:46.325148",
     "status": "completed"
    },
    "tags": []
   },
   "outputs": [
    {
     "data": {
      "text/html": [
       "<div>\n",
       "<style scoped>\n",
       "    .dataframe tbody tr th:only-of-type {\n",
       "        vertical-align: middle;\n",
       "    }\n",
       "\n",
       "    .dataframe tbody tr th {\n",
       "        vertical-align: top;\n",
       "    }\n",
       "\n",
       "    .dataframe thead th {\n",
       "        text-align: right;\n",
       "    }\n",
       "</style>\n",
       "<table border=\"1\" class=\"dataframe\">\n",
       "  <thead>\n",
       "    <tr style=\"text-align: right;\">\n",
       "      <th></th>\n",
       "      <th>PassengerId</th>\n",
       "      <th>Pclass</th>\n",
       "      <th>Sex</th>\n",
       "      <th>Age</th>\n",
       "      <th>SibSp</th>\n",
       "      <th>Parch</th>\n",
       "      <th>Fare</th>\n",
       "      <th>FirstClass</th>\n",
       "    </tr>\n",
       "  </thead>\n",
       "  <tbody>\n",
       "    <tr>\n",
       "      <th>0</th>\n",
       "      <td>892</td>\n",
       "      <td>3</td>\n",
       "      <td>1</td>\n",
       "      <td>34.5</td>\n",
       "      <td>0</td>\n",
       "      <td>0</td>\n",
       "      <td>7.8292</td>\n",
       "      <td>0</td>\n",
       "    </tr>\n",
       "    <tr>\n",
       "      <th>1</th>\n",
       "      <td>893</td>\n",
       "      <td>3</td>\n",
       "      <td>0</td>\n",
       "      <td>47.0</td>\n",
       "      <td>1</td>\n",
       "      <td>0</td>\n",
       "      <td>7.0000</td>\n",
       "      <td>0</td>\n",
       "    </tr>\n",
       "    <tr>\n",
       "      <th>2</th>\n",
       "      <td>894</td>\n",
       "      <td>2</td>\n",
       "      <td>1</td>\n",
       "      <td>62.0</td>\n",
       "      <td>0</td>\n",
       "      <td>0</td>\n",
       "      <td>9.6875</td>\n",
       "      <td>0</td>\n",
       "    </tr>\n",
       "    <tr>\n",
       "      <th>3</th>\n",
       "      <td>895</td>\n",
       "      <td>3</td>\n",
       "      <td>1</td>\n",
       "      <td>27.0</td>\n",
       "      <td>0</td>\n",
       "      <td>0</td>\n",
       "      <td>8.6625</td>\n",
       "      <td>0</td>\n",
       "    </tr>\n",
       "    <tr>\n",
       "      <th>4</th>\n",
       "      <td>896</td>\n",
       "      <td>3</td>\n",
       "      <td>0</td>\n",
       "      <td>22.0</td>\n",
       "      <td>1</td>\n",
       "      <td>1</td>\n",
       "      <td>12.2875</td>\n",
       "      <td>0</td>\n",
       "    </tr>\n",
       "  </tbody>\n",
       "</table>\n",
       "</div>"
      ],
      "text/plain": [
       "   PassengerId  Pclass  Sex   Age  SibSp  Parch     Fare  FirstClass\n",
       "0          892       3    1  34.5      0      0   7.8292           0\n",
       "1          893       3    0  47.0      1      0   7.0000           0\n",
       "2          894       2    1  62.0      0      0   9.6875           0\n",
       "3          895       3    1  27.0      0      0   8.6625           0\n",
       "4          896       3    0  22.0      1      1  12.2875           0"
      ]
     },
     "execution_count": 19,
     "metadata": {},
     "output_type": "execute_result"
    }
   ],
   "source": [
    "#GENDER\n",
    "test['Sex']=test['Sex'].map({'female':0,'male':1})\n",
    "test['FirstClass']=test['Pclass'].apply(lambda x: 1 if x==1 else 0)\n",
    "\n",
    "features=list(X.columns)\n",
    "test=test[features]\n",
    "\n",
    "test=test.fillna(test.mean())\n",
    "test.head()"
   ]
  },
  {
   "cell_type": "markdown",
   "id": "8a110950",
   "metadata": {
    "papermill": {
     "duration": 0.04791,
     "end_time": "2022-10-02T17:36:46.499251",
     "exception": false,
     "start_time": "2022-10-02T17:36:46.451341",
     "status": "completed"
    },
    "tags": []
   },
   "source": [
    "# Final Prediction"
   ]
  },
  {
   "cell_type": "code",
   "execution_count": 20,
   "id": "8bb34f88",
   "metadata": {
    "execution": {
     "iopub.execute_input": "2022-10-02T17:36:46.601143Z",
     "iopub.status.busy": "2022-10-02T17:36:46.600382Z",
     "iopub.status.idle": "2022-10-02T17:36:46.614574Z",
     "shell.execute_reply": "2022-10-02T17:36:46.613711Z"
    },
    "papermill": {
     "duration": 0.06592,
     "end_time": "2022-10-02T17:36:46.616777",
     "exception": false,
     "start_time": "2022-10-02T17:36:46.550857",
     "status": "completed"
    },
    "tags": []
   },
   "outputs": [
    {
     "data": {
      "text/html": [
       "<div>\n",
       "<style scoped>\n",
       "    .dataframe tbody tr th:only-of-type {\n",
       "        vertical-align: middle;\n",
       "    }\n",
       "\n",
       "    .dataframe tbody tr th {\n",
       "        vertical-align: top;\n",
       "    }\n",
       "\n",
       "    .dataframe thead th {\n",
       "        text-align: right;\n",
       "    }\n",
       "</style>\n",
       "<table border=\"1\" class=\"dataframe\">\n",
       "  <thead>\n",
       "    <tr style=\"text-align: right;\">\n",
       "      <th></th>\n",
       "      <th>PassengerId</th>\n",
       "      <th>Survived</th>\n",
       "    </tr>\n",
       "  </thead>\n",
       "  <tbody>\n",
       "    <tr>\n",
       "      <th>0</th>\n",
       "      <td>892</td>\n",
       "      <td>0</td>\n",
       "    </tr>\n",
       "    <tr>\n",
       "      <th>1</th>\n",
       "      <td>893</td>\n",
       "      <td>1</td>\n",
       "    </tr>\n",
       "    <tr>\n",
       "      <th>2</th>\n",
       "      <td>894</td>\n",
       "      <td>0</td>\n",
       "    </tr>\n",
       "    <tr>\n",
       "      <th>3</th>\n",
       "      <td>895</td>\n",
       "      <td>0</td>\n",
       "    </tr>\n",
       "    <tr>\n",
       "      <th>4</th>\n",
       "      <td>896</td>\n",
       "      <td>0</td>\n",
       "    </tr>\n",
       "    <tr>\n",
       "      <th>5</th>\n",
       "      <td>897</td>\n",
       "      <td>0</td>\n",
       "    </tr>\n",
       "    <tr>\n",
       "      <th>6</th>\n",
       "      <td>898</td>\n",
       "      <td>1</td>\n",
       "    </tr>\n",
       "  </tbody>\n",
       "</table>\n",
       "</div>"
      ],
      "text/plain": [
       "   PassengerId  Survived\n",
       "0          892         0\n",
       "1          893         1\n",
       "2          894         0\n",
       "3          895         0\n",
       "4          896         0\n",
       "5          897         0\n",
       "6          898         1"
      ]
     },
     "execution_count": 20,
     "metadata": {},
     "output_type": "execute_result"
    }
   ],
   "source": [
    "test_predictions = dtree.predict(test)\n",
    "passID=test['PassengerId']\n",
    "tupleData = list(zip(passID, test_predictions))\n",
    "output = pd.DataFrame(tupleData, columns = ['PassengerId', 'Survived'])\n",
    "output.head(7)"
   ]
  },
  {
   "cell_type": "code",
   "execution_count": 21,
   "id": "53b76d95",
   "metadata": {
    "execution": {
     "iopub.execute_input": "2022-10-02T17:36:46.718588Z",
     "iopub.status.busy": "2022-10-02T17:36:46.718005Z",
     "iopub.status.idle": "2022-10-02T17:36:46.726904Z",
     "shell.execute_reply": "2022-10-02T17:36:46.726156Z"
    },
    "papermill": {
     "duration": 0.061265,
     "end_time": "2022-10-02T17:36:46.729065",
     "exception": false,
     "start_time": "2022-10-02T17:36:46.667800",
     "status": "completed"
    },
    "tags": []
   },
   "outputs": [
    {
     "name": "stdout",
     "output_type": "stream",
     "text": [
      "Your submission was successfully saved!\n"
     ]
    }
   ],
   "source": [
    "output.to_csv('submission.csv', index=False)\n",
    "print(\"Your submission was successfully saved!\")"
   ]
  },
  {
   "cell_type": "markdown",
   "id": "d8e59b83",
   "metadata": {
    "papermill": {
     "duration": 0.052199,
     "end_time": "2022-10-02T17:36:46.833597",
     "exception": false,
     "start_time": "2022-10-02T17:36:46.781398",
     "status": "completed"
    },
    "tags": []
   },
   "source": [
    "#### Notes:\n",
    "Being a wife makes no difference in the final prediction: <br>\n",
    "` df['Titles'] = df['Name'].str.extract(r', (\\w+\\.)') \n",
    "df['Titles'] = df['Titles'].apply(lambda x: 1 if x=='Mrs.' else 0) `\n",
    "\n",
    "Generally, your performance will not change whether you use Gini impurity or Entropy. Laura Elena Raileanu and Kilian Stoffel compared both in \"Theoretical comparison between the gini index and information gain criteria\". The most important remarks were:\n",
    "\n",
    "It only matters in 2% of the cases whether you use gini impurity or entropy.\n",
    "Entropy might be a little slower to compute (because it makes use of the logarithm).\n",
    "I was once told that both metrics exist because they emerged in different disciplines of science.\n",
    "https://datascience.stackexchange.com/questions/10228/when-should-i-use-gini-impurity-as-opposed-to-information-gain-entropy"
   ]
  }
 ],
 "metadata": {
  "kernelspec": {
   "display_name": "Python 3",
   "language": "python",
   "name": "python3"
  },
  "language_info": {
   "codemirror_mode": {
    "name": "ipython",
    "version": 3
   },
   "file_extension": ".py",
   "mimetype": "text/x-python",
   "name": "python",
   "nbconvert_exporter": "python",
   "pygments_lexer": "ipython3",
   "version": "3.7.12"
  },
  "papermill": {
   "default_parameters": {},
   "duration": 43.231419,
   "end_time": "2022-10-02T17:36:47.707972",
   "environment_variables": {},
   "exception": null,
   "input_path": "__notebook__.ipynb",
   "output_path": "__notebook__.ipynb",
   "parameters": {},
   "start_time": "2022-10-02T17:36:04.476553",
   "version": "2.3.4"
  }
 },
 "nbformat": 4,
 "nbformat_minor": 5
}
