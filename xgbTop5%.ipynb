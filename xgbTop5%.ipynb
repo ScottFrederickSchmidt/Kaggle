{
 "cells": [
  {
   "cell_type": "markdown",
   "id": "5ca4b4d2",
   "metadata": {
    "papermill": {
     "duration": 0.036211,
     "end_time": "2022-09-29T19:16:35.885280",
     "exception": false,
     "start_time": "2022-09-29T19:16:35.849069",
     "status": "completed"
    },
    "tags": []
   },
   "source": [
    "# XG Boost GridSearch\n",
    "Use machine learning to create a model that predicts which passengers survived the Titanic shipwreck. My original with all models that also scored top 5%:\n",
    "https://github.com/ScottySchmidt/Kaggle/blob/main/Titanic.ipynb\n",
    "\n",
    "### Special Notes:\n",
    "* Top 5% when tune 7 parameters more extensively \n",
    "* Tunning four paramters with grid search scores top 18%\n",
    "* Regular XB Boost with no tunning scores top 60%"
   ]
  },
  {
   "cell_type": "markdown",
   "id": "a811c6ce",
   "metadata": {
    "papermill": {
     "duration": 0.03288,
     "end_time": "2022-09-29T19:16:35.952650",
     "exception": false,
     "start_time": "2022-09-29T19:16:35.919770",
     "status": "completed"
    },
    "tags": []
   },
   "source": [
    "# Train Data\n",
    "Train.csv will contain the details of a subset of the passengers on board (891 to be exact) and whether they survive or not. The shape of the train data is (891, 12). "
   ]
  },
  {
   "cell_type": "code",
   "execution_count": 1,
   "id": "0b18c1e3",
   "metadata": {
    "execution": {
     "iopub.execute_input": "2022-09-29T19:16:36.022630Z",
     "iopub.status.busy": "2022-09-29T19:16:36.022020Z",
     "iopub.status.idle": "2022-09-29T19:16:37.656114Z",
     "shell.execute_reply": "2022-09-29T19:16:37.654987Z"
    },
    "papermill": {
     "duration": 1.67222,
     "end_time": "2022-09-29T19:16:37.658651",
     "exception": false,
     "start_time": "2022-09-29T19:16:35.986431",
     "status": "completed"
    },
    "tags": []
   },
   "outputs": [
    {
     "name": "stdout",
     "output_type": "stream",
     "text": [
      "(891, 12)\n"
     ]
    },
    {
     "data": {
      "text/html": [
       "<div>\n",
       "<style scoped>\n",
       "    .dataframe tbody tr th:only-of-type {\n",
       "        vertical-align: middle;\n",
       "    }\n",
       "\n",
       "    .dataframe tbody tr th {\n",
       "        vertical-align: top;\n",
       "    }\n",
       "\n",
       "    .dataframe thead th {\n",
       "        text-align: right;\n",
       "    }\n",
       "</style>\n",
       "<table border=\"1\" class=\"dataframe\">\n",
       "  <thead>\n",
       "    <tr style=\"text-align: right;\">\n",
       "      <th></th>\n",
       "      <th>PassengerId</th>\n",
       "      <th>Survived</th>\n",
       "      <th>Pclass</th>\n",
       "      <th>Name</th>\n",
       "      <th>Sex</th>\n",
       "      <th>Age</th>\n",
       "      <th>SibSp</th>\n",
       "      <th>Parch</th>\n",
       "      <th>Ticket</th>\n",
       "      <th>Fare</th>\n",
       "      <th>Cabin</th>\n",
       "      <th>Embarked</th>\n",
       "    </tr>\n",
       "  </thead>\n",
       "  <tbody>\n",
       "    <tr>\n",
       "      <th>0</th>\n",
       "      <td>1</td>\n",
       "      <td>0</td>\n",
       "      <td>3</td>\n",
       "      <td>Braund, Mr. Owen Harris</td>\n",
       "      <td>male</td>\n",
       "      <td>22.0</td>\n",
       "      <td>1</td>\n",
       "      <td>0</td>\n",
       "      <td>A/5 21171</td>\n",
       "      <td>7.2500</td>\n",
       "      <td>NaN</td>\n",
       "      <td>S</td>\n",
       "    </tr>\n",
       "    <tr>\n",
       "      <th>1</th>\n",
       "      <td>2</td>\n",
       "      <td>1</td>\n",
       "      <td>1</td>\n",
       "      <td>Cumings, Mrs. John Bradley (Florence Briggs Th...</td>\n",
       "      <td>female</td>\n",
       "      <td>38.0</td>\n",
       "      <td>1</td>\n",
       "      <td>0</td>\n",
       "      <td>PC 17599</td>\n",
       "      <td>71.2833</td>\n",
       "      <td>C85</td>\n",
       "      <td>C</td>\n",
       "    </tr>\n",
       "    <tr>\n",
       "      <th>2</th>\n",
       "      <td>3</td>\n",
       "      <td>1</td>\n",
       "      <td>3</td>\n",
       "      <td>Heikkinen, Miss. Laina</td>\n",
       "      <td>female</td>\n",
       "      <td>26.0</td>\n",
       "      <td>0</td>\n",
       "      <td>0</td>\n",
       "      <td>STON/O2. 3101282</td>\n",
       "      <td>7.9250</td>\n",
       "      <td>NaN</td>\n",
       "      <td>S</td>\n",
       "    </tr>\n",
       "    <tr>\n",
       "      <th>3</th>\n",
       "      <td>4</td>\n",
       "      <td>1</td>\n",
       "      <td>1</td>\n",
       "      <td>Futrelle, Mrs. Jacques Heath (Lily May Peel)</td>\n",
       "      <td>female</td>\n",
       "      <td>35.0</td>\n",
       "      <td>1</td>\n",
       "      <td>0</td>\n",
       "      <td>113803</td>\n",
       "      <td>53.1000</td>\n",
       "      <td>C123</td>\n",
       "      <td>S</td>\n",
       "    </tr>\n",
       "    <tr>\n",
       "      <th>4</th>\n",
       "      <td>5</td>\n",
       "      <td>0</td>\n",
       "      <td>3</td>\n",
       "      <td>Allen, Mr. William Henry</td>\n",
       "      <td>male</td>\n",
       "      <td>35.0</td>\n",
       "      <td>0</td>\n",
       "      <td>0</td>\n",
       "      <td>373450</td>\n",
       "      <td>8.0500</td>\n",
       "      <td>NaN</td>\n",
       "      <td>S</td>\n",
       "    </tr>\n",
       "  </tbody>\n",
       "</table>\n",
       "</div>"
      ],
      "text/plain": [
       "   PassengerId  Survived  Pclass  \\\n",
       "0            1         0       3   \n",
       "1            2         1       1   \n",
       "2            3         1       3   \n",
       "3            4         1       1   \n",
       "4            5         0       3   \n",
       "\n",
       "                                                Name     Sex   Age  SibSp  \\\n",
       "0                            Braund, Mr. Owen Harris    male  22.0      1   \n",
       "1  Cumings, Mrs. John Bradley (Florence Briggs Th...  female  38.0      1   \n",
       "2                             Heikkinen, Miss. Laina  female  26.0      0   \n",
       "3       Futrelle, Mrs. Jacques Heath (Lily May Peel)  female  35.0      1   \n",
       "4                           Allen, Mr. William Henry    male  35.0      0   \n",
       "\n",
       "   Parch            Ticket     Fare Cabin Embarked  \n",
       "0      0         A/5 21171   7.2500   NaN        S  \n",
       "1      0          PC 17599  71.2833   C85        C  \n",
       "2      0  STON/O2. 3101282   7.9250   NaN        S  \n",
       "3      0            113803  53.1000  C123        S  \n",
       "4      0            373450   8.0500   NaN        S  "
      ]
     },
     "execution_count": 1,
     "metadata": {},
     "output_type": "execute_result"
    }
   ],
   "source": [
    "import numpy as np\n",
    "import pandas as pd\n",
    "import seaborn as sns\n",
    "import matplotlib.pyplot as plt\n",
    "from sklearn.model_selection import train_test_split, cross_validate\n",
    "from statistics import mean\n",
    "from sklearn.metrics import accuracy_score, classification_report, mean_absolute_error, mean_squared_error, r2_score\n",
    "from sklearn.datasets import make_classification\n",
    "from sklearn import ensemble\n",
    "import sklearn.metrics as metrics\n",
    "import time\n",
    "from math import sqrt\n",
    "\n",
    "train=r'/kaggle/input/titanic/train.csv'\n",
    "test=r'/kaggle/input/titanic/test.csv' \n",
    "\n",
    "df=pd.read_csv(train)\n",
    "test=pd.read_csv(test)\n",
    "\n",
    "print(df.shape)\n",
    "df.head()"
   ]
  },
  {
   "cell_type": "code",
   "execution_count": 2,
   "id": "377ac616",
   "metadata": {
    "execution": {
     "iopub.execute_input": "2022-09-29T19:16:37.729937Z",
     "iopub.status.busy": "2022-09-29T19:16:37.729660Z",
     "iopub.status.idle": "2022-09-29T19:16:37.737413Z",
     "shell.execute_reply": "2022-09-29T19:16:37.736479Z"
    },
    "papermill": {
     "duration": 0.04586,
     "end_time": "2022-09-29T19:16:37.739500",
     "exception": false,
     "start_time": "2022-09-29T19:16:37.693640",
     "status": "completed"
    },
    "tags": []
   },
   "outputs": [
    {
     "data": {
      "text/plain": [
       "PassengerId      int64\n",
       "Survived         int64\n",
       "Pclass           int64\n",
       "Name            object\n",
       "Sex             object\n",
       "Age            float64\n",
       "SibSp            int64\n",
       "Parch            int64\n",
       "Ticket          object\n",
       "Fare           float64\n",
       "Cabin           object\n",
       "Embarked        object\n",
       "dtype: object"
      ]
     },
     "execution_count": 2,
     "metadata": {},
     "output_type": "execute_result"
    }
   ],
   "source": [
    "df.dtypes"
   ]
  },
  {
   "cell_type": "code",
   "execution_count": 3,
   "id": "a516e9ac",
   "metadata": {
    "execution": {
     "iopub.execute_input": "2022-09-29T19:16:37.812950Z",
     "iopub.status.busy": "2022-09-29T19:16:37.812680Z",
     "iopub.status.idle": "2022-09-29T19:16:37.838755Z",
     "shell.execute_reply": "2022-09-29T19:16:37.837577Z"
    },
    "papermill": {
     "duration": 0.065894,
     "end_time": "2022-09-29T19:16:37.842664",
     "exception": false,
     "start_time": "2022-09-29T19:16:37.776770",
     "status": "completed"
    },
    "tags": []
   },
   "outputs": [
    {
     "name": "stdout",
     "output_type": "stream",
     "text": [
      "Total no of duplicate values in Training Dataset = 0\n"
     ]
    },
    {
     "data": {
      "text/html": [
       "<div>\n",
       "<style scoped>\n",
       "    .dataframe tbody tr th:only-of-type {\n",
       "        vertical-align: middle;\n",
       "    }\n",
       "\n",
       "    .dataframe tbody tr th {\n",
       "        vertical-align: top;\n",
       "    }\n",
       "\n",
       "    .dataframe thead th {\n",
       "        text-align: right;\n",
       "    }\n",
       "</style>\n",
       "<table border=\"1\" class=\"dataframe\">\n",
       "  <thead>\n",
       "    <tr style=\"text-align: right;\">\n",
       "      <th></th>\n",
       "      <th>PassengerId</th>\n",
       "      <th>Survived</th>\n",
       "      <th>Pclass</th>\n",
       "      <th>Name</th>\n",
       "      <th>Sex</th>\n",
       "      <th>Age</th>\n",
       "      <th>SibSp</th>\n",
       "      <th>Parch</th>\n",
       "      <th>Ticket</th>\n",
       "      <th>Fare</th>\n",
       "      <th>Cabin</th>\n",
       "      <th>Embarked</th>\n",
       "    </tr>\n",
       "  </thead>\n",
       "  <tbody>\n",
       "  </tbody>\n",
       "</table>\n",
       "</div>"
      ],
      "text/plain": [
       "Empty DataFrame\n",
       "Columns: [PassengerId, Survived, Pclass, Name, Sex, Age, SibSp, Parch, Ticket, Fare, Cabin, Embarked]\n",
       "Index: []"
      ]
     },
     "execution_count": 3,
     "metadata": {},
     "output_type": "execute_result"
    }
   ],
   "source": [
    "#Check Duplicates:\n",
    "dupstr = df.duplicated()\n",
    "print('Total no of duplicate values in Training Dataset = %d' % (dupstr.sum()))\n",
    "df[dupstr]"
   ]
  },
  {
   "cell_type": "code",
   "execution_count": 4,
   "id": "747e0f98",
   "metadata": {
    "execution": {
     "iopub.execute_input": "2022-09-29T19:16:37.916691Z",
     "iopub.status.busy": "2022-09-29T19:16:37.916413Z",
     "iopub.status.idle": "2022-09-29T19:16:37.925352Z",
     "shell.execute_reply": "2022-09-29T19:16:37.924698Z"
    },
    "papermill": {
     "duration": 0.048094,
     "end_time": "2022-09-29T19:16:37.927613",
     "exception": false,
     "start_time": "2022-09-29T19:16:37.879519",
     "status": "completed"
    },
    "tags": []
   },
   "outputs": [
    {
     "name": "stdout",
     "output_type": "stream",
     "text": [
      "Missing data by column as a percent:\n",
      "Cabin          0.771044\n",
      "Age            0.198653\n",
      "Embarked       0.002245\n",
      "PassengerId    0.000000\n",
      "Survived       0.000000\n",
      "dtype: float64\n"
     ]
    }
   ],
   "source": [
    "#search for columns with missing values:\n",
    "def findNA():\n",
    "    print(\"Missing data by column as a percent:\")\n",
    "    findNA=df.isnull().sum().sort_values(ascending=False)/len(df)\n",
    "    print(findNA.head())\n",
    "findNA() "
   ]
  },
  {
   "cell_type": "markdown",
   "id": "bfb50e29",
   "metadata": {
    "papermill": {
     "duration": 0.035452,
     "end_time": "2022-09-29T19:16:37.999547",
     "exception": false,
     "start_time": "2022-09-29T19:16:37.964095",
     "status": "completed"
    },
    "tags": []
   },
   "source": [
    "# Feature Engineer\n",
    "We need to replace male and female into numbers. This is a very important part of the process because gender is one of the highest predictors on if a person survived or not."
   ]
  },
  {
   "cell_type": "code",
   "execution_count": 5,
   "id": "17e68f8d",
   "metadata": {
    "execution": {
     "iopub.execute_input": "2022-09-29T19:16:38.074789Z",
     "iopub.status.busy": "2022-09-29T19:16:38.074464Z",
     "iopub.status.idle": "2022-09-29T19:16:38.080079Z",
     "shell.execute_reply": "2022-09-29T19:16:38.079177Z"
    },
    "papermill": {
     "duration": 0.044746,
     "end_time": "2022-09-29T19:16:38.081899",
     "exception": false,
     "start_time": "2022-09-29T19:16:38.037153",
     "status": "completed"
    },
    "tags": []
   },
   "outputs": [],
   "source": [
    "#GENDER\n",
    "df['Sex']=df['Sex'].map({'female':0,'male':1})"
   ]
  },
  {
   "cell_type": "markdown",
   "id": "80ed8b1d",
   "metadata": {
    "papermill": {
     "duration": 0.035849,
     "end_time": "2022-09-29T19:16:38.153712",
     "exception": false,
     "start_time": "2022-09-29T19:16:38.117863",
     "status": "completed"
    },
    "tags": []
   },
   "source": [
    "Females whose number is 0 had a much higher chance of surving than males. Later on, doing the importance feature analysis we will view that gender is actually one of the highest predictors. "
   ]
  },
  {
   "cell_type": "code",
   "execution_count": 6,
   "id": "cd769f7a",
   "metadata": {
    "execution": {
     "iopub.execute_input": "2022-09-29T19:16:38.226896Z",
     "iopub.status.busy": "2022-09-29T19:16:38.226623Z",
     "iopub.status.idle": "2022-09-29T19:16:38.257139Z",
     "shell.execute_reply": "2022-09-29T19:16:38.256555Z"
    },
    "papermill": {
     "duration": 0.069782,
     "end_time": "2022-09-29T19:16:38.259310",
     "exception": false,
     "start_time": "2022-09-29T19:16:38.189528",
     "status": "completed"
    },
    "tags": []
   },
   "outputs": [
    {
     "data": {
      "text/html": [
       "<div>\n",
       "<style scoped>\n",
       "    .dataframe tbody tr th:only-of-type {\n",
       "        vertical-align: middle;\n",
       "    }\n",
       "\n",
       "    .dataframe tbody tr th {\n",
       "        vertical-align: top;\n",
       "    }\n",
       "\n",
       "    .dataframe thead th {\n",
       "        text-align: right;\n",
       "    }\n",
       "</style>\n",
       "<table border=\"1\" class=\"dataframe\">\n",
       "  <thead>\n",
       "    <tr style=\"text-align: right;\">\n",
       "      <th>Sex</th>\n",
       "      <th>0</th>\n",
       "      <th>1</th>\n",
       "    </tr>\n",
       "    <tr>\n",
       "      <th>Survived</th>\n",
       "      <th></th>\n",
       "      <th></th>\n",
       "    </tr>\n",
       "  </thead>\n",
       "  <tbody>\n",
       "    <tr>\n",
       "      <th>0</th>\n",
       "      <td>81</td>\n",
       "      <td>468</td>\n",
       "    </tr>\n",
       "    <tr>\n",
       "      <th>1</th>\n",
       "      <td>233</td>\n",
       "      <td>109</td>\n",
       "    </tr>\n",
       "  </tbody>\n",
       "</table>\n",
       "</div>"
      ],
      "text/plain": [
       "Sex         0    1\n",
       "Survived          \n",
       "0          81  468\n",
       "1         233  109"
      ]
     },
     "execution_count": 6,
     "metadata": {},
     "output_type": "execute_result"
    }
   ],
   "source": [
    "genderTable = pd.crosstab(df['Survived'],df['Sex'])\n",
    "genderTable"
   ]
  },
  {
   "cell_type": "markdown",
   "id": "e0a4ed16",
   "metadata": {
    "papermill": {
     "duration": 0.036144,
     "end_time": "2022-09-29T19:16:38.332514",
     "exception": false,
     "start_time": "2022-09-29T19:16:38.296370",
     "status": "completed"
    },
    "tags": []
   },
   "source": [
    "# Encode Categorical Variables\n",
    "Encode Categorical Variables is needed for this dataset since there are many important variables that are not numeric yet. \n",
    "\n",
    "There are three classes C, Q, and S. Class C seems to have the highest chance of survival. Class S has the lowest chance of survival. Unfornately this would tend to show that economic status seems to played a part in the decision if someone survived or not. Embarked does not play role major role in feature importance. "
   ]
  },
  {
   "cell_type": "code",
   "execution_count": 7,
   "id": "fd9e2bc0",
   "metadata": {
    "execution": {
     "iopub.execute_input": "2022-09-29T19:16:38.408306Z",
     "iopub.status.busy": "2022-09-29T19:16:38.407792Z",
     "iopub.status.idle": "2022-09-29T19:16:38.625616Z",
     "shell.execute_reply": "2022-09-29T19:16:38.624996Z"
    },
    "papermill": {
     "duration": 0.257757,
     "end_time": "2022-09-29T19:16:38.627642",
     "exception": false,
     "start_time": "2022-09-29T19:16:38.369885",
     "status": "completed"
    },
    "tags": []
   },
   "outputs": [
    {
     "data": {
      "text/html": [
       "<div>\n",
       "<style scoped>\n",
       "    .dataframe tbody tr th:only-of-type {\n",
       "        vertical-align: middle;\n",
       "    }\n",
       "\n",
       "    .dataframe tbody tr th {\n",
       "        vertical-align: top;\n",
       "    }\n",
       "\n",
       "    .dataframe thead th {\n",
       "        text-align: right;\n",
       "    }\n",
       "</style>\n",
       "<table border=\"1\" class=\"dataframe\">\n",
       "  <thead>\n",
       "    <tr style=\"text-align: right;\">\n",
       "      <th></th>\n",
       "      <th>PassengerId</th>\n",
       "      <th>Pclass</th>\n",
       "      <th>Name</th>\n",
       "      <th>Sex</th>\n",
       "      <th>Age</th>\n",
       "      <th>SibSp</th>\n",
       "      <th>Parch</th>\n",
       "      <th>Ticket</th>\n",
       "      <th>Fare</th>\n",
       "      <th>Cabin</th>\n",
       "      <th>Embarked</th>\n",
       "    </tr>\n",
       "  </thead>\n",
       "  <tbody>\n",
       "    <tr>\n",
       "      <th>0</th>\n",
       "      <td>892</td>\n",
       "      <td>3</td>\n",
       "      <td>Kelly, Mr. James</td>\n",
       "      <td>male</td>\n",
       "      <td>34.5</td>\n",
       "      <td>0</td>\n",
       "      <td>0</td>\n",
       "      <td>330911</td>\n",
       "      <td>7.8292</td>\n",
       "      <td>NaN</td>\n",
       "      <td>3</td>\n",
       "    </tr>\n",
       "    <tr>\n",
       "      <th>1</th>\n",
       "      <td>893</td>\n",
       "      <td>3</td>\n",
       "      <td>Wilkes, Mrs. James (Ellen Needs)</td>\n",
       "      <td>female</td>\n",
       "      <td>47.0</td>\n",
       "      <td>1</td>\n",
       "      <td>0</td>\n",
       "      <td>363272</td>\n",
       "      <td>7.0000</td>\n",
       "      <td>NaN</td>\n",
       "      <td>1</td>\n",
       "    </tr>\n",
       "    <tr>\n",
       "      <th>2</th>\n",
       "      <td>894</td>\n",
       "      <td>2</td>\n",
       "      <td>Myles, Mr. Thomas Francis</td>\n",
       "      <td>male</td>\n",
       "      <td>62.0</td>\n",
       "      <td>0</td>\n",
       "      <td>0</td>\n",
       "      <td>240276</td>\n",
       "      <td>9.6875</td>\n",
       "      <td>NaN</td>\n",
       "      <td>3</td>\n",
       "    </tr>\n",
       "    <tr>\n",
       "      <th>3</th>\n",
       "      <td>895</td>\n",
       "      <td>3</td>\n",
       "      <td>Wirz, Mr. Albert</td>\n",
       "      <td>male</td>\n",
       "      <td>27.0</td>\n",
       "      <td>0</td>\n",
       "      <td>0</td>\n",
       "      <td>315154</td>\n",
       "      <td>8.6625</td>\n",
       "      <td>NaN</td>\n",
       "      <td>1</td>\n",
       "    </tr>\n",
       "    <tr>\n",
       "      <th>4</th>\n",
       "      <td>896</td>\n",
       "      <td>3</td>\n",
       "      <td>Hirvonen, Mrs. Alexander (Helga E Lindqvist)</td>\n",
       "      <td>female</td>\n",
       "      <td>22.0</td>\n",
       "      <td>1</td>\n",
       "      <td>1</td>\n",
       "      <td>3101298</td>\n",
       "      <td>12.2875</td>\n",
       "      <td>NaN</td>\n",
       "      <td>1</td>\n",
       "    </tr>\n",
       "  </tbody>\n",
       "</table>\n",
       "</div>"
      ],
      "text/plain": [
       "   PassengerId  Pclass                                          Name     Sex  \\\n",
       "0          892       3                              Kelly, Mr. James    male   \n",
       "1          893       3              Wilkes, Mrs. James (Ellen Needs)  female   \n",
       "2          894       2                     Myles, Mr. Thomas Francis    male   \n",
       "3          895       3                              Wirz, Mr. Albert    male   \n",
       "4          896       3  Hirvonen, Mrs. Alexander (Helga E Lindqvist)  female   \n",
       "\n",
       "    Age  SibSp  Parch   Ticket     Fare Cabin  Embarked  \n",
       "0  34.5      0      0   330911   7.8292   NaN         3  \n",
       "1  47.0      1      0   363272   7.0000   NaN         1  \n",
       "2  62.0      0      0   240276   9.6875   NaN         3  \n",
       "3  27.0      0      0   315154   8.6625   NaN         1  \n",
       "4  22.0      1      1  3101298  12.2875   NaN         1  "
      ]
     },
     "execution_count": 7,
     "metadata": {},
     "output_type": "execute_result"
    }
   ],
   "source": [
    "import category_encoders as ce\n",
    "encoder = ce.OrdinalEncoder(cols=['Embarked'])\n",
    "\n",
    "df = encoder.fit_transform(df)\n",
    "test = encoder.fit_transform(test)\n",
    "test.head()"
   ]
  },
  {
   "cell_type": "markdown",
   "id": "236b5743",
   "metadata": {
    "papermill": {
     "duration": 0.03657,
     "end_time": "2022-09-29T19:16:38.701165",
     "exception": false,
     "start_time": "2022-09-29T19:16:38.664595",
     "status": "completed"
    },
    "tags": []
   },
   "source": [
    "# Examine Target Variable\n",
    "Survived is the Y variable we will be analyzing. Since the survival rete is 0.384 the data is not considered unbalanced. "
   ]
  },
  {
   "cell_type": "code",
   "execution_count": 8,
   "id": "1c8aedcb",
   "metadata": {
    "execution": {
     "iopub.execute_input": "2022-09-29T19:16:38.776905Z",
     "iopub.status.busy": "2022-09-29T19:16:38.776412Z",
     "iopub.status.idle": "2022-09-29T19:16:38.784559Z",
     "shell.execute_reply": "2022-09-29T19:16:38.783181Z"
    },
    "papermill": {
     "duration": 0.0482,
     "end_time": "2022-09-29T19:16:38.786558",
     "exception": false,
     "start_time": "2022-09-29T19:16:38.738358",
     "status": "completed"
    },
    "tags": []
   },
   "outputs": [
    {
     "name": "stdout",
     "output_type": "stream",
     "text": [
      "0    549\n",
      "1    342\n",
      "Name: Survived, dtype: int64\n",
      "Percent that survived:  0.384\n"
     ]
    }
   ],
   "source": [
    "temp=df['Survived'].value_counts()\n",
    "print(temp)\n",
    "no=temp[0]\n",
    "yes=temp[1]\n",
    "percent=round(yes/(yes+no),3)\n",
    "print(\"Percent that survived: \", percent)"
   ]
  },
  {
   "cell_type": "markdown",
   "id": "68eddaca",
   "metadata": {
    "papermill": {
     "duration": 0.038793,
     "end_time": "2022-09-29T19:16:38.863567",
     "exception": false,
     "start_time": "2022-09-29T19:16:38.824774",
     "status": "completed"
    },
    "tags": []
   },
   "source": [
    "# Numeric DataFrame\n",
    "For now, we will analyze only numeric values. Categorical values will need to be encoded or analyzed individually."
   ]
  },
  {
   "cell_type": "code",
   "execution_count": 9,
   "id": "fa5bded5",
   "metadata": {
    "execution": {
     "iopub.execute_input": "2022-09-29T19:16:38.940550Z",
     "iopub.status.busy": "2022-09-29T19:16:38.940041Z",
     "iopub.status.idle": "2022-09-29T19:16:38.953969Z",
     "shell.execute_reply": "2022-09-29T19:16:38.953387Z"
    },
    "papermill": {
     "duration": 0.054742,
     "end_time": "2022-09-29T19:16:38.955863",
     "exception": false,
     "start_time": "2022-09-29T19:16:38.901121",
     "status": "completed"
    },
    "tags": []
   },
   "outputs": [
    {
     "data": {
      "text/html": [
       "<div>\n",
       "<style scoped>\n",
       "    .dataframe tbody tr th:only-of-type {\n",
       "        vertical-align: middle;\n",
       "    }\n",
       "\n",
       "    .dataframe tbody tr th {\n",
       "        vertical-align: top;\n",
       "    }\n",
       "\n",
       "    .dataframe thead th {\n",
       "        text-align: right;\n",
       "    }\n",
       "</style>\n",
       "<table border=\"1\" class=\"dataframe\">\n",
       "  <thead>\n",
       "    <tr style=\"text-align: right;\">\n",
       "      <th></th>\n",
       "      <th>PassengerId</th>\n",
       "      <th>Survived</th>\n",
       "      <th>Pclass</th>\n",
       "      <th>Sex</th>\n",
       "      <th>Age</th>\n",
       "      <th>SibSp</th>\n",
       "      <th>Parch</th>\n",
       "      <th>Fare</th>\n",
       "      <th>Embarked</th>\n",
       "    </tr>\n",
       "  </thead>\n",
       "  <tbody>\n",
       "    <tr>\n",
       "      <th>0</th>\n",
       "      <td>1</td>\n",
       "      <td>0</td>\n",
       "      <td>3</td>\n",
       "      <td>1</td>\n",
       "      <td>22.0</td>\n",
       "      <td>1</td>\n",
       "      <td>0</td>\n",
       "      <td>7.2500</td>\n",
       "      <td>1</td>\n",
       "    </tr>\n",
       "    <tr>\n",
       "      <th>1</th>\n",
       "      <td>2</td>\n",
       "      <td>1</td>\n",
       "      <td>1</td>\n",
       "      <td>0</td>\n",
       "      <td>38.0</td>\n",
       "      <td>1</td>\n",
       "      <td>0</td>\n",
       "      <td>71.2833</td>\n",
       "      <td>2</td>\n",
       "    </tr>\n",
       "    <tr>\n",
       "      <th>2</th>\n",
       "      <td>3</td>\n",
       "      <td>1</td>\n",
       "      <td>3</td>\n",
       "      <td>0</td>\n",
       "      <td>26.0</td>\n",
       "      <td>0</td>\n",
       "      <td>0</td>\n",
       "      <td>7.9250</td>\n",
       "      <td>1</td>\n",
       "    </tr>\n",
       "    <tr>\n",
       "      <th>3</th>\n",
       "      <td>4</td>\n",
       "      <td>1</td>\n",
       "      <td>1</td>\n",
       "      <td>0</td>\n",
       "      <td>35.0</td>\n",
       "      <td>1</td>\n",
       "      <td>0</td>\n",
       "      <td>53.1000</td>\n",
       "      <td>1</td>\n",
       "    </tr>\n",
       "    <tr>\n",
       "      <th>4</th>\n",
       "      <td>5</td>\n",
       "      <td>0</td>\n",
       "      <td>3</td>\n",
       "      <td>1</td>\n",
       "      <td>35.0</td>\n",
       "      <td>0</td>\n",
       "      <td>0</td>\n",
       "      <td>8.0500</td>\n",
       "      <td>1</td>\n",
       "    </tr>\n",
       "  </tbody>\n",
       "</table>\n",
       "</div>"
      ],
      "text/plain": [
       "   PassengerId  Survived  Pclass  Sex   Age  SibSp  Parch     Fare  Embarked\n",
       "0            1         0       3    1  22.0      1      0   7.2500         1\n",
       "1            2         1       1    0  38.0      1      0  71.2833         2\n",
       "2            3         1       3    0  26.0      0      0   7.9250         1\n",
       "3            4         1       1    0  35.0      1      0  53.1000         1\n",
       "4            5         0       3    1  35.0      0      0   8.0500         1"
      ]
     },
     "execution_count": 9,
     "metadata": {},
     "output_type": "execute_result"
    }
   ],
   "source": [
    "numerics = ['int16', 'int32', 'int64', 'float16', 'float32', 'float64']\n",
    "df = df.select_dtypes(include=numerics)\n",
    "df.head()"
   ]
  },
  {
   "cell_type": "markdown",
   "id": "4cf23b90",
   "metadata": {
    "papermill": {
     "duration": 0.037404,
     "end_time": "2022-09-29T19:16:39.032179",
     "exception": false,
     "start_time": "2022-09-29T19:16:38.994775",
     "status": "completed"
    },
    "tags": []
   },
   "source": [
    "# Correlations"
   ]
  },
  {
   "cell_type": "code",
   "execution_count": 10,
   "id": "52c279b7",
   "metadata": {
    "execution": {
     "iopub.execute_input": "2022-09-29T19:16:39.112363Z",
     "iopub.status.busy": "2022-09-29T19:16:39.111911Z",
     "iopub.status.idle": "2022-09-29T19:16:39.650522Z",
     "shell.execute_reply": "2022-09-29T19:16:39.649666Z"
    },
    "papermill": {
     "duration": 0.581493,
     "end_time": "2022-09-29T19:16:39.652597",
     "exception": false,
     "start_time": "2022-09-29T19:16:39.071104",
     "status": "completed"
    },
    "tags": []
   },
   "outputs": [
    {
     "data": {
      "text/plain": [
       "<AxesSubplot:>"
      ]
     },
     "execution_count": 10,
     "metadata": {},
     "output_type": "execute_result"
    },
    {
     "data": {
      "image/png": "[encoded data removed]",
      "text/plain": [
       "<Figure size 432x288 with 2 Axes>"
      ]
     },
     "metadata": {
      "needs_background": "light"
     },
     "output_type": "display_data"
    }
   ],
   "source": [
    "import seaborn as sns\n",
    "corr= df.corr()\n",
    "matrix = np.triu(corr)\n",
    "sns.heatmap(corr, annot=True, mask=matrix)"
   ]
  },
  {
   "cell_type": "markdown",
   "id": "55075cc7",
   "metadata": {
    "papermill": {
     "duration": 0.039222,
     "end_time": "2022-09-29T19:16:39.731804",
     "exception": false,
     "start_time": "2022-09-29T19:16:39.692582",
     "status": "completed"
    },
    "tags": []
   },
   "source": [
    "# Check for missing values\n",
    "Age is missing around 20% of values.Therefore, we can simply fill in the mean for that one column."
   ]
  },
  {
   "cell_type": "code",
   "execution_count": 11,
   "id": "41d0fbd2",
   "metadata": {
    "execution": {
     "iopub.execute_input": "2022-09-29T19:16:39.812902Z",
     "iopub.status.busy": "2022-09-29T19:16:39.812609Z",
     "iopub.status.idle": "2022-09-29T19:16:39.820859Z",
     "shell.execute_reply": "2022-09-29T19:16:39.819919Z"
    },
    "papermill": {
     "duration": 0.051607,
     "end_time": "2022-09-29T19:16:39.823091",
     "exception": false,
     "start_time": "2022-09-29T19:16:39.771484",
     "status": "completed"
    },
    "tags": []
   },
   "outputs": [
    {
     "name": "stdout",
     "output_type": "stream",
     "text": [
      "Missing data by column as a percent:\n",
      "Age            0.198653\n",
      "PassengerId    0.000000\n",
      "Survived       0.000000\n",
      "Pclass         0.000000\n",
      "Sex            0.000000\n",
      "dtype: float64\n"
     ]
    }
   ],
   "source": [
    "#search for columns with missing values:\n",
    "def findNA():\n",
    "    print(\"Missing data by column as a percent:\")\n",
    "    findNA=df.isnull().sum().sort_values(ascending=False)/len(df)\n",
    "    print(findNA.head())\n",
    "findNA() "
   ]
  },
  {
   "cell_type": "code",
   "execution_count": 12,
   "id": "7dd79668",
   "metadata": {
    "execution": {
     "iopub.execute_input": "2022-09-29T19:16:39.906707Z",
     "iopub.status.busy": "2022-09-29T19:16:39.906374Z",
     "iopub.status.idle": "2022-09-29T19:16:39.916214Z",
     "shell.execute_reply": "2022-09-29T19:16:39.915520Z"
    },
    "papermill": {
     "duration": 0.053512,
     "end_time": "2022-09-29T19:16:39.918467",
     "exception": false,
     "start_time": "2022-09-29T19:16:39.864955",
     "status": "completed"
    },
    "tags": []
   },
   "outputs": [],
   "source": [
    "df= df.fillna(df.mean())"
   ]
  },
  {
   "cell_type": "markdown",
   "id": "32248c6a",
   "metadata": {
    "papermill": {
     "duration": 0.039729,
     "end_time": "2022-09-29T19:16:39.998530",
     "exception": false,
     "start_time": "2022-09-29T19:16:39.958801",
     "status": "completed"
    },
    "tags": []
   },
   "source": [
    "# Split Data"
   ]
  },
  {
   "cell_type": "code",
   "execution_count": 13,
   "id": "f9201d68",
   "metadata": {
    "execution": {
     "iopub.execute_input": "2022-09-29T19:16:40.082081Z",
     "iopub.status.busy": "2022-09-29T19:16:40.081470Z",
     "iopub.status.idle": "2022-09-29T19:16:40.089534Z",
     "shell.execute_reply": "2022-09-29T19:16:40.088612Z"
    },
    "papermill": {
     "duration": 0.05182,
     "end_time": "2022-09-29T19:16:40.091821",
     "exception": false,
     "start_time": "2022-09-29T19:16:40.040001",
     "status": "completed"
    },
    "tags": []
   },
   "outputs": [],
   "source": [
    "X=df.drop('Survived', axis=1)\n",
    "y=df['Survived']\n",
    "\n",
    "X_train, X_test, y_train, y_test = train_test_split(\n",
    "    X, y, test_size = 0.30, random_state = 42)"
   ]
  },
  {
   "cell_type": "markdown",
   "id": "7935f7d4",
   "metadata": {
    "papermill": {
     "duration": 0.039777,
     "end_time": "2022-09-29T19:16:40.172550",
     "exception": false,
     "start_time": "2022-09-29T19:16:40.132773",
     "status": "completed"
    },
    "tags": []
   },
   "source": [
    "# Highly Correlated Features\n",
    "There are no highly correlated variables above 80%. Therefore, we do not need to be concerned about removing variables that are too highly correlated. "
   ]
  },
  {
   "cell_type": "markdown",
   "id": "d6f825f7",
   "metadata": {
    "papermill": {
     "duration": 0.039629,
     "end_time": "2022-09-29T19:16:40.253155",
     "exception": false,
     "start_time": "2022-09-29T19:16:40.213526",
     "status": "completed"
    },
    "tags": []
   },
   "source": [
    "# XGBOOST"
   ]
  },
  {
   "cell_type": "code",
   "execution_count": 14,
   "id": "a3eda608",
   "metadata": {
    "execution": {
     "iopub.execute_input": "2022-09-29T19:16:40.334727Z",
     "iopub.status.busy": "2022-09-29T19:16:40.334443Z",
     "iopub.status.idle": "2022-09-29T19:16:43.193093Z",
     "shell.execute_reply": "2022-09-29T19:16:43.192073Z"
    },
    "papermill": {
     "duration": 2.902656,
     "end_time": "2022-09-29T19:16:43.195789",
     "exception": false,
     "start_time": "2022-09-29T19:16:40.293133",
     "status": "completed"
    },
    "tags": []
   },
   "outputs": [
    {
     "data": {
      "image/png": "[encoded data removed]",
      "text/plain": [
       "<Figure size 432x288 with 1 Axes>"
      ]
     },
     "metadata": {
      "needs_background": "light"
     },
     "output_type": "display_data"
    },
    {
     "data": {
      "image/png": "[encoded data removed]",
      "text/plain": [
       "<Figure size 432x288 with 1 Axes>"
      ]
     },
     "metadata": {
      "needs_background": "light"
     },
     "output_type": "display_data"
    }
   ],
   "source": [
    "import xgboost as xgb\n",
    "from xgboost import XGBClassifier\n",
    "\n",
    "weight=[.01, 1, 3, 5, 7, 9, 11, 13]\n",
    "listMSE=[]\n",
    "listR2=[]\n",
    "\n",
    "for w in weight:\n",
    "    boost_gs = xgb.XGBRegressor(\n",
    "        min_child_weight=w\n",
    "    )\n",
    "    boost_gs.fit(X_train, y_train)\n",
    "    y_pred = boost_gs.predict(X_test)\n",
    "\n",
    "    xgMSE=mean_absolute_error(y_test, y_pred)\n",
    "    xgR2 = r2_score(y_test, y_pred).round(4)\n",
    "    listMSE.append(xgMSE)\n",
    "    listR2.append(xgR2)\n",
    "plt.plot(weight, listMSE)\n",
    "plt.title('Child Weight Error')\n",
    "plt.ylabel('Error')\n",
    "plt.xlabel('Weight')\n",
    "plt.legend()\n",
    "plt.show()\n",
    "\n",
    "plt.plot(weight, listR2)\n",
    "plt.title('Weight R2')\n",
    "plt.ylabel('Accurate')\n",
    "plt.xlabel('Weight')\n",
    "plt.legend()\n",
    "plt.show()"
   ]
  },
  {
   "cell_type": "code",
   "execution_count": 15,
   "id": "540323a3",
   "metadata": {
    "execution": {
     "iopub.execute_input": "2022-09-29T19:16:43.282223Z",
     "iopub.status.busy": "2022-09-29T19:16:43.281573Z",
     "iopub.status.idle": "2022-09-29T19:16:45.741820Z",
     "shell.execute_reply": "2022-09-29T19:16:45.740660Z"
    },
    "papermill": {
     "duration": 2.506188,
     "end_time": "2022-09-29T19:16:45.744121",
     "exception": false,
     "start_time": "2022-09-29T19:16:43.237933",
     "status": "completed"
    },
    "tags": []
   },
   "outputs": [
    {
     "data": {
      "image/png": "[encoded data removed]",
      "text/plain": [
       "<Figure size 432x288 with 1 Axes>"
      ]
     },
     "metadata": {
      "needs_background": "light"
     },
     "output_type": "display_data"
    },
    {
     "data": {
      "image/png": "[encoded data removed]",
      "text/plain": [
       "<Figure size 432x288 with 1 Axes>"
      ]
     },
     "metadata": {
      "needs_background": "light"
     },
     "output_type": "display_data"
    }
   ],
   "source": [
    "nEst=[2, 10, 20, 30, 40, 50, 100, 150, 200]\n",
    "listMSE=[]\n",
    "listR2=[]\n",
    "\n",
    "for n in nEst:\n",
    "    boost_gs = xgb.XGBRegressor(\n",
    "        n_estimators=n,\n",
    "    )\n",
    "    boost_gs.fit(X_train, y_train)\n",
    "    y_pred = boost_gs.predict(X_test)\n",
    "\n",
    "    xgMSE=mean_absolute_error(y_test, y_pred)\n",
    "    xgR2 = r2_score(y_test, y_pred).round(4)\n",
    "    listMSE.append(xgMSE)\n",
    "    listR2.append(xgR2)\n",
    "plt.plot(nEst, listMSE)\n",
    "plt.title('nEstimators Error')\n",
    "plt.ylabel('Error')\n",
    "plt.xlabel('N Estimators')\n",
    "plt.legend()\n",
    "plt.show()\n",
    "\n",
    "plt.plot(nEst, listR2)\n",
    "plt.title('nEstimators R2')\n",
    "plt.ylabel('Accurate')\n",
    "plt.xlabel('N Estimators')\n",
    "plt.legend()\n",
    "plt.show()"
   ]
  },
  {
   "cell_type": "code",
   "execution_count": 16,
   "id": "56a6253d",
   "metadata": {
    "execution": {
     "iopub.execute_input": "2022-09-29T19:16:45.834284Z",
     "iopub.status.busy": "2022-09-29T19:16:45.833453Z",
     "iopub.status.idle": "2022-09-29T19:16:49.512093Z",
     "shell.execute_reply": "2022-09-29T19:16:49.511429Z"
    },
    "papermill": {
     "duration": 3.726179,
     "end_time": "2022-09-29T19:16:49.514186",
     "exception": false,
     "start_time": "2022-09-29T19:16:45.788007",
     "status": "completed"
    },
    "tags": []
   },
   "outputs": [
    {
     "data": {
      "image/png": "[encoded data removed]",
      "text/plain": [
       "<Figure size 432x288 with 1 Axes>"
      ]
     },
     "metadata": {
      "needs_background": "light"
     },
     "output_type": "display_data"
    },
    {
     "data": {
      "image/png": "[encoded data removed]",
      "text/plain": [
       "<Figure size 432x288 with 1 Axes>"
      ]
     },
     "metadata": {
      "needs_background": "light"
     },
     "output_type": "display_data"
    }
   ],
   "source": [
    "maxDepth=[2, 3, 4, 5, 6, 7, 8, 9, 10, 11]\n",
    "listMSE=[]\n",
    "listR2=[]\n",
    "\n",
    "for d in maxDepth:\n",
    "    boost_gs = xgb.XGBRegressor(\n",
    "        max_depth=d\n",
    "    )\n",
    "    boost_gs.fit(X_train, y_train)\n",
    "    y_pred = boost_gs.predict(X_test)\n",
    "\n",
    "    xgMSE=mean_absolute_error(y_test, y_pred)\n",
    "    xgR2 = r2_score(y_test, y_pred).round(4)\n",
    "    listMSE.append(xgMSE)\n",
    "    listR2.append(xgR2)\n",
    "plt.plot(maxDepth, listMSE)\n",
    "plt.title('MaxDepth Error')\n",
    "plt.ylabel('Error')\n",
    "plt.xlabel('Max Depth')\n",
    "plt.legend()\n",
    "plt.show()\n",
    "\n",
    "plt.plot(maxDepth, listR2)\n",
    "plt.title('MaxDepth Accuracy')\n",
    "plt.ylabel('Accuracy')\n",
    "plt.xlabel('MaxDepth')\n",
    "plt.legend()\n",
    "plt.show()"
   ]
  },
  {
   "cell_type": "code",
   "execution_count": 17,
   "id": "09542c38",
   "metadata": {
    "execution": {
     "iopub.execute_input": "2022-09-29T19:16:49.615886Z",
     "iopub.status.busy": "2022-09-29T19:16:49.615531Z",
     "iopub.status.idle": "2022-09-29T19:16:52.175952Z",
     "shell.execute_reply": "2022-09-29T19:16:52.175205Z"
    },
    "papermill": {
     "duration": 2.617397,
     "end_time": "2022-09-29T19:16:52.178066",
     "exception": false,
     "start_time": "2022-09-29T19:16:49.560669",
     "status": "completed"
    },
    "tags": []
   },
   "outputs": [
    {
     "data": {
      "image/png": "[encoded data removed]",
      "text/plain": [
       "<Figure size 432x288 with 1 Axes>"
      ]
     },
     "metadata": {
      "needs_background": "light"
     },
     "output_type": "display_data"
    },
    {
     "data": {
      "image/png": "[encoded data removed]",
      "text/plain": [
       "<Figure size 432x288 with 1 Axes>"
      ]
     },
     "metadata": {
      "needs_background": "light"
     },
     "output_type": "display_data"
    }
   ],
   "source": [
    "eta=[.01, .02, .03, .04, .05]\n",
    "listMSE=[]\n",
    "listR2=[]\n",
    "\n",
    "for e in eta:\n",
    "    boost_gs = xgb.XGBRegressor(\n",
    "        eta=e\n",
    "    )\n",
    "    boost_gs.fit(X_train, y_train)\n",
    "    y_pred = boost_gs.predict(X_test)\n",
    "\n",
    "    xgMSE=mean_absolute_error(y_test, y_pred)\n",
    "    xgR2 = r2_score(y_test, y_pred).round(4)\n",
    "    listMSE.append(xgMSE)\n",
    "    listR2.append(xgR2)\n",
    "plt.plot(eta, listMSE)\n",
    "plt.title('Eta Error')\n",
    "plt.ylabel('Error')\n",
    "plt.xlabel('Eta')\n",
    "plt.legend()\n",
    "plt.show()\n",
    "\n",
    "plt.plot(eta, listR2)\n",
    "plt.title('Eta R2')\n",
    "plt.ylabel('Accurate')\n",
    "plt.xlabel('Eta')\n",
    "plt.legend()\n",
    "plt.show()"
   ]
  },
  {
   "cell_type": "code",
   "execution_count": 18,
   "id": "ca7cac82",
   "metadata": {
    "execution": {
     "iopub.execute_input": "2022-09-29T19:16:52.277016Z",
     "iopub.status.busy": "2022-09-29T19:16:52.276180Z",
     "iopub.status.idle": "2022-09-29T19:16:54.846602Z",
     "shell.execute_reply": "2022-09-29T19:16:54.845979Z"
    },
    "papermill": {
     "duration": 2.621739,
     "end_time": "2022-09-29T19:16:54.848496",
     "exception": false,
     "start_time": "2022-09-29T19:16:52.226757",
     "status": "completed"
    },
    "tags": []
   },
   "outputs": [
    {
     "data": {
      "image/png": "[encoded data removed]",
      "text/plain": [
       "<Figure size 432x288 with 1 Axes>"
      ]
     },
     "metadata": {
      "needs_background": "light"
     },
     "output_type": "display_data"
    },
    {
     "data": {
      "image/png": "[encoded data removed]",
      "text/plain": [
       "<Figure size 432x288 with 1 Axes>"
      ]
     },
     "metadata": {
      "needs_background": "light"
     },
     "output_type": "display_data"
    }
   ],
   "source": [
    "gammas=[0, 0.25, 0.5, 1.0, 3, 5, 10]\n",
    "listMSE=[]\n",
    "listR2=[]\n",
    "\n",
    "for g in gammas:\n",
    "    boost_gs = xgb.XGBRegressor(\n",
    "        gamma=g,\n",
    "    )\n",
    "    boost_gs.fit(X_train, y_train)\n",
    "    y_pred = boost_gs.predict(X_test)\n",
    "\n",
    "    xgMSE=mean_absolute_error(y_test, y_pred)\n",
    "    xgR2 = r2_score(y_test, y_pred).round(4)\n",
    "    listMSE.append(xgMSE)\n",
    "    listR2.append(xgR2)\n",
    "    \n",
    "plt.plot(gammas, listMSE)\n",
    "plt.title('Gamma Error')\n",
    "plt.ylabel('Error')\n",
    "plt.xlabel('Gammas')\n",
    "plt.legend()\n",
    "plt.show()\n",
    "\n",
    "plt.plot(gammas, listR2)\n",
    "plt.title('Gamma R2')\n",
    "plt.ylabel('Accurate')\n",
    "plt.xlabel('Gammas')\n",
    "plt.legend()\n",
    "plt.show()"
   ]
  },
  {
   "cell_type": "code",
   "execution_count": 19,
   "id": "764a7cf5",
   "metadata": {
    "execution": {
     "iopub.execute_input": "2022-09-29T19:16:54.951776Z",
     "iopub.status.busy": "2022-09-29T19:16:54.950795Z",
     "iopub.status.idle": "2022-09-29T19:16:56.523298Z",
     "shell.execute_reply": "2022-09-29T19:16:56.522148Z"
    },
    "papermill": {
     "duration": 1.626261,
     "end_time": "2022-09-29T19:16:56.525434",
     "exception": false,
     "start_time": "2022-09-29T19:16:54.899173",
     "status": "completed"
    },
    "tags": []
   },
   "outputs": [
    {
     "data": {
      "image/png": "[encoded data removed]",
      "text/plain": [
       "<Figure size 432x288 with 1 Axes>"
      ]
     },
     "metadata": {
      "needs_background": "light"
     },
     "output_type": "display_data"
    },
    {
     "data": {
      "image/png": "[encoded data removed]",
      "text/plain": [
       "<Figure size 432x288 with 1 Axes>"
      ]
     },
     "metadata": {
      "needs_background": "light"
     },
     "output_type": "display_data"
    }
   ],
   "source": [
    "regLam = [0.1, 1.0, 2, 3, 4, 5.0, 10.0]\n",
    "listMSE=[]\n",
    "listR2=[]\n",
    "\n",
    "for r in regLam:\n",
    "    boost_gs = xgb.XGBRegressor(\n",
    "        n_estimators=50,\n",
    "        reg_lambda=r,\n",
    "    )\n",
    "    boost_gs.fit(X_train, y_train)\n",
    "    y_pred = boost_gs.predict(X_test)\n",
    "\n",
    "    xgMSE=mean_absolute_error(y_test, y_pred)\n",
    "    xgR2 = r2_score(y_test, y_pred).round(4)\n",
    "    listMSE.append(xgMSE)\n",
    "    listR2.append(xgR2)\n",
    "    \n",
    "plt.plot(regLam, listMSE)\n",
    "plt.title('RegLam Error')\n",
    "plt.ylabel('Error')\n",
    "plt.xlabel('RegLam')\n",
    "plt.legend()\n",
    "plt.show()\n",
    "\n",
    "plt.plot(regLam, listR2)\n",
    "plt.title('RegLam R2')\n",
    "plt.ylabel('Accurate')\n",
    "plt.xlabel('RegLam')\n",
    "plt.legend()\n",
    "plt.show()"
   ]
  },
  {
   "cell_type": "code",
   "execution_count": 20,
   "id": "49343c43",
   "metadata": {
    "execution": {
     "iopub.execute_input": "2022-09-29T19:16:56.630712Z",
     "iopub.status.busy": "2022-09-29T19:16:56.630297Z",
     "iopub.status.idle": "2022-09-29T19:16:58.934284Z",
     "shell.execute_reply": "2022-09-29T19:16:58.933705Z"
    },
    "papermill": {
     "duration": 2.358671,
     "end_time": "2022-09-29T19:16:58.936179",
     "exception": false,
     "start_time": "2022-09-29T19:16:56.577508",
     "status": "completed"
    },
    "tags": []
   },
   "outputs": [
    {
     "data": {
      "image/png": "[encoded data removed]",
      "text/plain": [
       "<Figure size 432x288 with 1 Axes>"
      ]
     },
     "metadata": {
      "needs_background": "light"
     },
     "output_type": "display_data"
    },
    {
     "data": {
      "image/png": "[encoded data removed]",
      "text/plain": [
       "<Figure size 432x288 with 1 Axes>"
      ]
     },
     "metadata": {
      "needs_background": "light"
     },
     "output_type": "display_data"
    }
   ],
   "source": [
    "regAlpha = [0.1, 1.0, 2, 3, 4, 5.0, 10.0]\n",
    "listMSE=[]\n",
    "listR2=[]\n",
    "\n",
    "for r in regAlpha:\n",
    "    boost_gs = xgb.XGBRegressor(\n",
    "        reg_alpha=r,\n",
    "    )\n",
    "    boost_gs.fit(X_train, y_train)\n",
    "    y_pred = boost_gs.predict(X_test)\n",
    "\n",
    "    xgMSE=mean_absolute_error(y_test, y_pred)\n",
    "    xgR2 = r2_score(y_test, y_pred).round(4)\n",
    "    listMSE.append(xgMSE)\n",
    "    listR2.append(xgR2)\n",
    "    \n",
    "plt.plot(regAlpha, listMSE)\n",
    "plt.title('RegAlpha Error')\n",
    "plt.ylabel('Error')\n",
    "plt.xlabel('RegAlpha')\n",
    "plt.legend()\n",
    "plt.show()\n",
    "\n",
    "plt.plot(regAlpha, listR2)\n",
    "plt.title('RegAlpha R2')\n",
    "plt.ylabel('Accurate')\n",
    "plt.xlabel('RegAlpha')\n",
    "plt.legend()\n",
    "plt.show()"
   ]
  },
  {
   "cell_type": "markdown",
   "id": "308c6468",
   "metadata": {
    "papermill": {
     "duration": 0.053199,
     "end_time": "2022-09-29T19:16:59.042813",
     "exception": false,
     "start_time": "2022-09-29T19:16:58.989614",
     "status": "completed"
    },
    "tags": []
   },
   "source": [
    "# GridSearch \n",
    "* Top 18%:   {'gamma': 2, 'learning_rate': 0.3, 'max_depth': 3, 'min_child_weight': 1, 'n_estimators': 100}\n",
    "\n",
    "* Top 5%  {'eta': 0.05, 'gamma': 5, 'learning_rate': 0.3, 'max_depth': 5, 'min_child_weight': 5, 'n_estimators': 50, 'reg_lambda': 5}"
   ]
  },
  {
   "cell_type": "code",
   "execution_count": 21,
   "id": "9c534010",
   "metadata": {
    "execution": {
     "iopub.execute_input": "2022-09-29T19:16:59.151525Z",
     "iopub.status.busy": "2022-09-29T19:16:59.150915Z",
     "iopub.status.idle": "2022-09-29T19:21:16.042142Z",
     "shell.execute_reply": "2022-09-29T19:21:16.041249Z"
    },
    "papermill": {
     "duration": 257.004096,
     "end_time": "2022-09-29T19:21:16.100268",
     "exception": false,
     "start_time": "2022-09-29T19:16:59.096172",
     "status": "completed"
    },
    "tags": []
   },
   "outputs": [
    {
     "name": "stdout",
     "output_type": "stream",
     "text": [
      "Start\n",
      "{'gamma': 5, 'learning_rate': 0.3, 'max_depth': 5, 'min_child_weight': 0.01, 'n_estimators': 20, 'reg_alpha': 0.01, 'reg_lambda': 5}\n",
      "Done.  256.88197660446167  seconds\n"
     ]
    }
   ],
   "source": [
    "from sklearn.model_selection import GridSearchCV, StratifiedKFold\n",
    "import time\n",
    "import warnings\n",
    "warnings.filterwarnings(\"ignore\")\n",
    "\n",
    "start=time.time()\n",
    "print(\"Start\")\n",
    "\n",
    "params = {\n",
    "        'learning_rate': [0.01, 0.3],\n",
    "        'n_estimators':[20, 30, 50],\n",
    "        'gamma': [5],\n",
    "        'max_depth': [5, 6, 8],\n",
    "        'min_child_weight':[.01, 5],\n",
    "        'reg_lambda':[1, 5],\n",
    "        'reg_alpha':[.01, 1, 2]\n",
    "        }\n",
    "\n",
    "boost = xgb.XGBClassifier()\n",
    "kfold = StratifiedKFold(n_splits=10, shuffle=True, random_state=7)\n",
    "boost_gs = GridSearchCV(boost,param_grid=params,cv=kfold,scoring=\"accuracy\")\n",
    "boost_gs.fit(X_train,y_train)\n",
    "\n",
    "print(boost_gs.best_params_)\n",
    "print(\"Done. \" , time.time()-start, \" seconds\")"
   ]
  },
  {
   "cell_type": "markdown",
   "id": "ab28eea1",
   "metadata": {
    "papermill": {
     "duration": 0.053235,
     "end_time": "2022-09-29T19:21:16.207309",
     "exception": false,
     "start_time": "2022-09-29T19:21:16.154074",
     "status": "completed"
    },
    "tags": []
   },
   "source": [
    "## Final xgBoost Prediction\n",
    "* Top 5%  {'eta': 0.05, 'gamma': 5, 'learning_rate': 0.3, 'max_depth': 5, 'min_child_weight': 5, 'n_estimators': 50, 'reg_lambda': 5}\n",
    "* Top 5% {'gamma': 5, 'learning_rate': 0.3, 'max_depth': 8, 'min_child_weight': 0.01, 'n_estimators': 20, 'reg_alpha': 0.01, 'reg_lambda': 1}"
   ]
  },
  {
   "cell_type": "code",
   "execution_count": 22,
   "id": "213e13df",
   "metadata": {
    "execution": {
     "iopub.execute_input": "2022-09-29T19:21:16.319732Z",
     "iopub.status.busy": "2022-09-29T19:21:16.319446Z",
     "iopub.status.idle": "2022-09-29T19:21:16.843405Z",
     "shell.execute_reply": "2022-09-29T19:21:16.842583Z"
    },
    "papermill": {
     "duration": 0.583414,
     "end_time": "2022-09-29T19:21:16.845584",
     "exception": false,
     "start_time": "2022-09-29T19:21:16.262170",
     "status": "completed"
    },
    "tags": []
   },
   "outputs": [
    {
     "name": "stdout",
     "output_type": "stream",
     "text": [
      "0.8059  ||  0.8097\n",
      "0.0038000000000000256  cross validate score\n"
     ]
    }
   ],
   "source": [
    "boost_gs = xgb.XGBClassifier(\n",
    "    n_estimators=20,\n",
    "    max_depth=5,\n",
    "    min_child_weight=.01,\n",
    "    learning_rate=0.3,\n",
    "    gamma=5,\n",
    "    reg_lambda=5,\n",
    "    reg_alpha=.01\n",
    ")\n",
    "\n",
    "#regressor.fit(X_train, y_train, early_stopping_rounds=1, eval_set=[(X_test, y_test)], verbose=False)\n",
    "boost_gs.fit(X_train, y_train)\n",
    "y_pred = boost_gs.predict(X_test)\n",
    "\n",
    "xgMSE=mean_absolute_error(y_test, y_pred)\n",
    "xgR2 = r2_score(y_test, y_pred).round(4)\n",
    "listMSE.append(xgMSE)\n",
    "listR2.append(xgR2)\n",
    "\n",
    "boostScore = boost_gs.score(X_test, y_test).round(4)  \n",
    "boostCV = cross_validate(boost_gs, X, y, cv = 5)\n",
    "boostCV=boostCV['test_score'].mean().round(4)\n",
    "print(boostCV, ' || ', boostScore)\n",
    "print(boostScore-boostCV, \" cross validate score\")"
   ]
  },
  {
   "cell_type": "markdown",
   "id": "9c43b3a5",
   "metadata": {
    "papermill": {
     "duration": 0.054022,
     "end_time": "2022-09-29T19:21:16.955167",
     "exception": false,
     "start_time": "2022-09-29T19:21:16.901145",
     "status": "completed"
    },
    "tags": []
   },
   "source": [
    "# Feature Importance"
   ]
  },
  {
   "cell_type": "code",
   "execution_count": 23,
   "id": "968bf966",
   "metadata": {
    "execution": {
     "iopub.execute_input": "2022-09-29T19:21:17.066773Z",
     "iopub.status.busy": "2022-09-29T19:21:17.066450Z",
     "iopub.status.idle": "2022-09-29T19:21:17.292037Z",
     "shell.execute_reply": "2022-09-29T19:21:17.291404Z"
    },
    "papermill": {
     "duration": 0.283047,
     "end_time": "2022-09-29T19:21:17.293952",
     "exception": false,
     "start_time": "2022-09-29T19:21:17.010905",
     "status": "completed"
    },
    "tags": []
   },
   "outputs": [
    {
     "data": {
      "image/png": "[encoded data removed]",
      "text/plain": [
       "<Figure size 432x288 with 1 Axes>"
      ]
     },
     "metadata": {
      "needs_background": "light"
     },
     "output_type": "display_data"
    }
   ],
   "source": [
    "from matplotlib import pyplot as plt\n",
    "xgb.plot_importance(boost_gs)\n",
    "plt.show()"
   ]
  },
  {
   "cell_type": "markdown",
   "id": "26fbda66",
   "metadata": {
    "papermill": {
     "duration": 0.055662,
     "end_time": "2022-09-29T19:21:17.406506",
     "exception": false,
     "start_time": "2022-09-29T19:21:17.350844",
     "status": "completed"
    },
    "tags": []
   },
   "source": [
    "# Test Data"
   ]
  },
  {
   "cell_type": "code",
   "execution_count": 24,
   "id": "d736a217",
   "metadata": {
    "execution": {
     "iopub.execute_input": "2022-09-29T19:21:17.521029Z",
     "iopub.status.busy": "2022-09-29T19:21:17.520548Z",
     "iopub.status.idle": "2022-09-29T19:21:17.538183Z",
     "shell.execute_reply": "2022-09-29T19:21:17.537546Z"
    },
    "papermill": {
     "duration": 0.077623,
     "end_time": "2022-09-29T19:21:17.540309",
     "exception": false,
     "start_time": "2022-09-29T19:21:17.462686",
     "status": "completed"
    },
    "tags": []
   },
   "outputs": [
    {
     "data": {
      "text/html": [
       "<div>\n",
       "<style scoped>\n",
       "    .dataframe tbody tr th:only-of-type {\n",
       "        vertical-align: middle;\n",
       "    }\n",
       "\n",
       "    .dataframe tbody tr th {\n",
       "        vertical-align: top;\n",
       "    }\n",
       "\n",
       "    .dataframe thead th {\n",
       "        text-align: right;\n",
       "    }\n",
       "</style>\n",
       "<table border=\"1\" class=\"dataframe\">\n",
       "  <thead>\n",
       "    <tr style=\"text-align: right;\">\n",
       "      <th></th>\n",
       "      <th>PassengerId</th>\n",
       "      <th>Pclass</th>\n",
       "      <th>Sex</th>\n",
       "      <th>Age</th>\n",
       "      <th>SibSp</th>\n",
       "      <th>Parch</th>\n",
       "      <th>Fare</th>\n",
       "      <th>Embarked</th>\n",
       "    </tr>\n",
       "  </thead>\n",
       "  <tbody>\n",
       "    <tr>\n",
       "      <th>0</th>\n",
       "      <td>892</td>\n",
       "      <td>3</td>\n",
       "      <td>1</td>\n",
       "      <td>34.5</td>\n",
       "      <td>0</td>\n",
       "      <td>0</td>\n",
       "      <td>7.8292</td>\n",
       "      <td>3</td>\n",
       "    </tr>\n",
       "    <tr>\n",
       "      <th>1</th>\n",
       "      <td>893</td>\n",
       "      <td>3</td>\n",
       "      <td>0</td>\n",
       "      <td>47.0</td>\n",
       "      <td>1</td>\n",
       "      <td>0</td>\n",
       "      <td>7.0000</td>\n",
       "      <td>1</td>\n",
       "    </tr>\n",
       "    <tr>\n",
       "      <th>2</th>\n",
       "      <td>894</td>\n",
       "      <td>2</td>\n",
       "      <td>1</td>\n",
       "      <td>62.0</td>\n",
       "      <td>0</td>\n",
       "      <td>0</td>\n",
       "      <td>9.6875</td>\n",
       "      <td>3</td>\n",
       "    </tr>\n",
       "    <tr>\n",
       "      <th>3</th>\n",
       "      <td>895</td>\n",
       "      <td>3</td>\n",
       "      <td>1</td>\n",
       "      <td>27.0</td>\n",
       "      <td>0</td>\n",
       "      <td>0</td>\n",
       "      <td>8.6625</td>\n",
       "      <td>1</td>\n",
       "    </tr>\n",
       "    <tr>\n",
       "      <th>4</th>\n",
       "      <td>896</td>\n",
       "      <td>3</td>\n",
       "      <td>0</td>\n",
       "      <td>22.0</td>\n",
       "      <td>1</td>\n",
       "      <td>1</td>\n",
       "      <td>12.2875</td>\n",
       "      <td>1</td>\n",
       "    </tr>\n",
       "  </tbody>\n",
       "</table>\n",
       "</div>"
      ],
      "text/plain": [
       "   PassengerId  Pclass  Sex   Age  SibSp  Parch     Fare  Embarked\n",
       "0          892       3    1  34.5      0      0   7.8292         3\n",
       "1          893       3    0  47.0      1      0   7.0000         1\n",
       "2          894       2    1  62.0      0      0   9.6875         3\n",
       "3          895       3    1  27.0      0      0   8.6625         1\n",
       "4          896       3    0  22.0      1      1  12.2875         1"
      ]
     },
     "execution_count": 24,
     "metadata": {},
     "output_type": "execute_result"
    }
   ],
   "source": [
    "#GENDER\n",
    "test['Sex']=test['Sex'].map({'female':0,'male':1})\n",
    "\n",
    "features=list(X.columns)\n",
    "test=test[features]\n",
    "\n",
    "test=test.fillna(test.mean())\n",
    "test.head()"
   ]
  },
  {
   "cell_type": "markdown",
   "id": "75dd090c",
   "metadata": {
    "papermill": {
     "duration": 0.055218,
     "end_time": "2022-09-29T19:21:17.651840",
     "exception": false,
     "start_time": "2022-09-29T19:21:17.596622",
     "status": "completed"
    },
    "tags": []
   },
   "source": [
    "# Final Prediction"
   ]
  },
  {
   "cell_type": "code",
   "execution_count": 25,
   "id": "0aff6574",
   "metadata": {
    "execution": {
     "iopub.execute_input": "2022-09-29T19:21:17.765109Z",
     "iopub.status.busy": "2022-09-29T19:21:17.764634Z",
     "iopub.status.idle": "2022-09-29T19:21:17.783612Z",
     "shell.execute_reply": "2022-09-29T19:21:17.782847Z"
    },
    "papermill": {
     "duration": 0.078346,
     "end_time": "2022-09-29T19:21:17.785795",
     "exception": false,
     "start_time": "2022-09-29T19:21:17.707449",
     "status": "completed"
    },
    "tags": []
   },
   "outputs": [
    {
     "data": {
      "text/html": [
       "<div>\n",
       "<style scoped>\n",
       "    .dataframe tbody tr th:only-of-type {\n",
       "        vertical-align: middle;\n",
       "    }\n",
       "\n",
       "    .dataframe tbody tr th {\n",
       "        vertical-align: top;\n",
       "    }\n",
       "\n",
       "    .dataframe thead th {\n",
       "        text-align: right;\n",
       "    }\n",
       "</style>\n",
       "<table border=\"1\" class=\"dataframe\">\n",
       "  <thead>\n",
       "    <tr style=\"text-align: right;\">\n",
       "      <th></th>\n",
       "      <th>PassengerId</th>\n",
       "      <th>Survived</th>\n",
       "    </tr>\n",
       "  </thead>\n",
       "  <tbody>\n",
       "    <tr>\n",
       "      <th>0</th>\n",
       "      <td>892</td>\n",
       "      <td>0</td>\n",
       "    </tr>\n",
       "    <tr>\n",
       "      <th>1</th>\n",
       "      <td>893</td>\n",
       "      <td>0</td>\n",
       "    </tr>\n",
       "    <tr>\n",
       "      <th>2</th>\n",
       "      <td>894</td>\n",
       "      <td>0</td>\n",
       "    </tr>\n",
       "    <tr>\n",
       "      <th>3</th>\n",
       "      <td>895</td>\n",
       "      <td>0</td>\n",
       "    </tr>\n",
       "    <tr>\n",
       "      <th>4</th>\n",
       "      <td>896</td>\n",
       "      <td>0</td>\n",
       "    </tr>\n",
       "    <tr>\n",
       "      <th>5</th>\n",
       "      <td>897</td>\n",
       "      <td>0</td>\n",
       "    </tr>\n",
       "    <tr>\n",
       "      <th>6</th>\n",
       "      <td>898</td>\n",
       "      <td>1</td>\n",
       "    </tr>\n",
       "  </tbody>\n",
       "</table>\n",
       "</div>"
      ],
      "text/plain": [
       "   PassengerId  Survived\n",
       "0          892         0\n",
       "1          893         0\n",
       "2          894         0\n",
       "3          895         0\n",
       "4          896         0\n",
       "5          897         0\n",
       "6          898         1"
      ]
     },
     "execution_count": 25,
     "metadata": {},
     "output_type": "execute_result"
    }
   ],
   "source": [
    "test_predictions = boost_gs.predict(test)\n",
    "passID=test['PassengerId']\n",
    "tupleData = list(zip(passID, test_predictions))\n",
    "output = pd.DataFrame(tupleData, columns = ['PassengerId', 'Survived'])\n",
    "output.head(7)"
   ]
  },
  {
   "cell_type": "code",
   "execution_count": 26,
   "id": "014086f1",
   "metadata": {
    "execution": {
     "iopub.execute_input": "2022-09-29T19:21:17.900599Z",
     "iopub.status.busy": "2022-09-29T19:21:17.900253Z",
     "iopub.status.idle": "2022-09-29T19:21:17.909085Z",
     "shell.execute_reply": "2022-09-29T19:21:17.908239Z"
    },
    "papermill": {
     "duration": 0.068707,
     "end_time": "2022-09-29T19:21:17.911708",
     "exception": false,
     "start_time": "2022-09-29T19:21:17.843001",
     "status": "completed"
    },
    "tags": []
   },
   "outputs": [
    {
     "name": "stdout",
     "output_type": "stream",
     "text": [
      "Your submission was successfully saved!\n"
     ]
    }
   ],
   "source": [
    "output.to_csv('submission.csv', index=False)\n",
    "print(\"Your submission was successfully saved!\")"
   ]
  }
 ],
 "metadata": {
  "kernelspec": {
   "display_name": "Python 3",
   "language": "python",
   "name": "python3"
  },
  "language_info": {
   "codemirror_mode": {
    "name": "ipython",
    "version": 3
   },
   "file_extension": ".py",
   "mimetype": "text/x-python",
   "name": "python",
   "nbconvert_exporter": "python",
   "pygments_lexer": "ipython3",
   "version": "3.7.12"
  },
  "papermill": {
   "default_parameters": {},
   "duration": 292.615479,
   "end_time": "2022-09-29T19:21:18.791937",
   "environment_variables": {},
   "exception": null,
   "input_path": "__notebook__.ipynb",
   "output_path": "__notebook__.ipynb",
   "parameters": {},
   "start_time": "2022-09-29T19:16:26.176458",
   "version": "2.3.4"
  }
 },
 "nbformat": 4,
 "nbformat_minor": 5
}
