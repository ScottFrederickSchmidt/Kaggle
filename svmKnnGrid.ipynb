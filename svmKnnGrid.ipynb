{
 "cells": [
  {
   "cell_type": "markdown",
   "id": "7675153e",
   "metadata": {
    "papermill": {
     "duration": 0.036713,
     "end_time": "2022-10-13T18:14:49.497551",
     "exception": false,
     "start_time": "2022-10-13T18:14:49.460838",
     "status": "completed"
    },
    "tags": []
   },
   "source": [
    "# Machine Learning Titanic \n",
    "### SVM GridSearch\n",
    "SVM provides .78 accuracy which is near the best performing models below. Therefore, an extensive tunning using GridSearchCV will be used to help perfect SVM models. \n",
    "\n",
    "My newest, high performing models:\n",
    "* All initial models:\n",
    "https://github.com/ScottySchmidt/Kaggle/blob/main/Titanic.ipynb\n",
    "* Decision tree scores top 6%\n",
    "https://github.com/ScottySchmidt/Kaggle/blob/main/dtree.ipynb\n",
    "* xgBoost top 5%\n",
    "https://github.com/ScottySchmidt/Kaggle/blob/main/xgbTop5%25.ipynb\n",
    "* Random forest top 5%\n",
    "https://github.com/ScottySchmidt/Kaggle/blob/main/forestTop5%25.ipynb\n",
    "\n",
    "### KNN GridSearch\n",
    "KNN initially provided the worse accuracy results. Even with additional tunning using GridSearchCV, KNN still does not provide good results. "
   ]
  },
  {
   "cell_type": "markdown",
   "id": "3bd063b1",
   "metadata": {
    "papermill": {
     "duration": 0.034765,
     "end_time": "2022-10-13T18:14:49.567463",
     "exception": false,
     "start_time": "2022-10-13T18:14:49.532698",
     "status": "completed"
    },
    "tags": []
   },
   "source": [
    "# Metrics\n",
    "The gradient classifier and logistic regression are the best two models that provide the highest best score. Interestingly, the gradient classifier does not have a high AUC but the results cross validate into the test dataset without overfitting the data. For example, decision tree can get an almost perfect AUC but when you cross validate the data it is clearly overfiting. "
   ]
  },
  {
   "cell_type": "markdown",
   "id": "ebc53369",
   "metadata": {
    "papermill": {
     "duration": 0.034733,
     "end_time": "2022-10-13T18:14:49.638292",
     "exception": false,
     "start_time": "2022-10-13T18:14:49.603559",
     "status": "completed"
    },
    "tags": []
   },
   "source": [
    "# Train Data\n",
    "Train.csv will contain the details of a subset of the passengers on board (891 to be exact) and whether they survive or not. The shape of the train data is (891, 12). "
   ]
  },
  {
   "cell_type": "code",
   "execution_count": 1,
   "id": "331d7b24",
   "metadata": {
    "execution": {
     "iopub.execute_input": "2022-10-13T18:14:49.713658Z",
     "iopub.status.busy": "2022-10-13T18:14:49.713047Z",
     "iopub.status.idle": "2022-10-13T18:14:51.359513Z",
     "shell.execute_reply": "2022-10-13T18:14:51.358845Z"
    },
    "papermill": {
     "duration": 1.686689,
     "end_time": "2022-10-13T18:14:51.362834",
     "exception": false,
     "start_time": "2022-10-13T18:14:49.676145",
     "status": "completed"
    },
    "tags": []
   },
   "outputs": [
    {
     "name": "stdout",
     "output_type": "stream",
     "text": [
      "(891, 12)\n"
     ]
    },
    {
     "data": {
      "text/html": [
       "<div>\n",
       "<style scoped>\n",
       "    .dataframe tbody tr th:only-of-type {\n",
       "        vertical-align: middle;\n",
       "    }\n",
       "\n",
       "    .dataframe tbody tr th {\n",
       "        vertical-align: top;\n",
       "    }\n",
       "\n",
       "    .dataframe thead th {\n",
       "        text-align: right;\n",
       "    }\n",
       "</style>\n",
       "<table border=\"1\" class=\"dataframe\">\n",
       "  <thead>\n",
       "    <tr style=\"text-align: right;\">\n",
       "      <th></th>\n",
       "      <th>PassengerId</th>\n",
       "      <th>Survived</th>\n",
       "      <th>Pclass</th>\n",
       "      <th>Name</th>\n",
       "      <th>Sex</th>\n",
       "      <th>Age</th>\n",
       "      <th>SibSp</th>\n",
       "      <th>Parch</th>\n",
       "      <th>Ticket</th>\n",
       "      <th>Fare</th>\n",
       "      <th>Cabin</th>\n",
       "      <th>Embarked</th>\n",
       "    </tr>\n",
       "  </thead>\n",
       "  <tbody>\n",
       "    <tr>\n",
       "      <th>0</th>\n",
       "      <td>1</td>\n",
       "      <td>0</td>\n",
       "      <td>3</td>\n",
       "      <td>Braund, Mr. Owen Harris</td>\n",
       "      <td>male</td>\n",
       "      <td>22.0</td>\n",
       "      <td>1</td>\n",
       "      <td>0</td>\n",
       "      <td>A/5 21171</td>\n",
       "      <td>7.2500</td>\n",
       "      <td>NaN</td>\n",
       "      <td>S</td>\n",
       "    </tr>\n",
       "    <tr>\n",
       "      <th>1</th>\n",
       "      <td>2</td>\n",
       "      <td>1</td>\n",
       "      <td>1</td>\n",
       "      <td>Cumings, Mrs. John Bradley (Florence Briggs Th...</td>\n",
       "      <td>female</td>\n",
       "      <td>38.0</td>\n",
       "      <td>1</td>\n",
       "      <td>0</td>\n",
       "      <td>PC 17599</td>\n",
       "      <td>71.2833</td>\n",
       "      <td>C85</td>\n",
       "      <td>C</td>\n",
       "    </tr>\n",
       "    <tr>\n",
       "      <th>2</th>\n",
       "      <td>3</td>\n",
       "      <td>1</td>\n",
       "      <td>3</td>\n",
       "      <td>Heikkinen, Miss. Laina</td>\n",
       "      <td>female</td>\n",
       "      <td>26.0</td>\n",
       "      <td>0</td>\n",
       "      <td>0</td>\n",
       "      <td>STON/O2. 3101282</td>\n",
       "      <td>7.9250</td>\n",
       "      <td>NaN</td>\n",
       "      <td>S</td>\n",
       "    </tr>\n",
       "    <tr>\n",
       "      <th>3</th>\n",
       "      <td>4</td>\n",
       "      <td>1</td>\n",
       "      <td>1</td>\n",
       "      <td>Futrelle, Mrs. Jacques Heath (Lily May Peel)</td>\n",
       "      <td>female</td>\n",
       "      <td>35.0</td>\n",
       "      <td>1</td>\n",
       "      <td>0</td>\n",
       "      <td>113803</td>\n",
       "      <td>53.1000</td>\n",
       "      <td>C123</td>\n",
       "      <td>S</td>\n",
       "    </tr>\n",
       "    <tr>\n",
       "      <th>4</th>\n",
       "      <td>5</td>\n",
       "      <td>0</td>\n",
       "      <td>3</td>\n",
       "      <td>Allen, Mr. William Henry</td>\n",
       "      <td>male</td>\n",
       "      <td>35.0</td>\n",
       "      <td>0</td>\n",
       "      <td>0</td>\n",
       "      <td>373450</td>\n",
       "      <td>8.0500</td>\n",
       "      <td>NaN</td>\n",
       "      <td>S</td>\n",
       "    </tr>\n",
       "  </tbody>\n",
       "</table>\n",
       "</div>"
      ],
      "text/plain": [
       "   PassengerId  Survived  Pclass  \\\n",
       "0            1         0       3   \n",
       "1            2         1       1   \n",
       "2            3         1       3   \n",
       "3            4         1       1   \n",
       "4            5         0       3   \n",
       "\n",
       "                                                Name     Sex   Age  SibSp  \\\n",
       "0                            Braund, Mr. Owen Harris    male  22.0      1   \n",
       "1  Cumings, Mrs. John Bradley (Florence Briggs Th...  female  38.0      1   \n",
       "2                             Heikkinen, Miss. Laina  female  26.0      0   \n",
       "3       Futrelle, Mrs. Jacques Heath (Lily May Peel)  female  35.0      1   \n",
       "4                           Allen, Mr. William Henry    male  35.0      0   \n",
       "\n",
       "   Parch            Ticket     Fare Cabin Embarked  \n",
       "0      0         A/5 21171   7.2500   NaN        S  \n",
       "1      0          PC 17599  71.2833   C85        C  \n",
       "2      0  STON/O2. 3101282   7.9250   NaN        S  \n",
       "3      0            113803  53.1000  C123        S  \n",
       "4      0            373450   8.0500   NaN        S  "
      ]
     },
     "execution_count": 1,
     "metadata": {},
     "output_type": "execute_result"
    }
   ],
   "source": [
    "import numpy as np\n",
    "import pandas as pd\n",
    "import seaborn as sns\n",
    "import matplotlib.pyplot as plt\n",
    "from sklearn.model_selection import train_test_split, cross_validate, GridSearchCV\n",
    "from statistics import mean\n",
    "from sklearn.metrics import accuracy_score, classification_report, mean_absolute_error, mean_squared_error, r2_score\n",
    "from sklearn.datasets import make_classification\n",
    "from sklearn import ensemble\n",
    "import sklearn.metrics as metrics\n",
    "import time\n",
    "from math import sqrt\n",
    "\n",
    "train=r'/kaggle/input/titanic/train.csv'\n",
    "test=r'/kaggle/input/titanic/test.csv' \n",
    "\n",
    "df=pd.read_csv(train)\n",
    "test=pd.read_csv(test)\n",
    "\n",
    "print(df.shape)\n",
    "df.head()"
   ]
  },
  {
   "cell_type": "code",
   "execution_count": 2,
   "id": "2bd30feb",
   "metadata": {
    "execution": {
     "iopub.execute_input": "2022-10-13T18:14:51.441564Z",
     "iopub.status.busy": "2022-10-13T18:14:51.441073Z",
     "iopub.status.idle": "2022-10-13T18:14:51.447609Z",
     "shell.execute_reply": "2022-10-13T18:14:51.446912Z"
    },
    "papermill": {
     "duration": 0.049227,
     "end_time": "2022-10-13T18:14:51.449518",
     "exception": false,
     "start_time": "2022-10-13T18:14:51.400291",
     "status": "completed"
    },
    "tags": []
   },
   "outputs": [
    {
     "data": {
      "text/plain": [
       "PassengerId      int64\n",
       "Survived         int64\n",
       "Pclass           int64\n",
       "Name            object\n",
       "Sex             object\n",
       "Age            float64\n",
       "SibSp            int64\n",
       "Parch            int64\n",
       "Ticket          object\n",
       "Fare           float64\n",
       "Cabin           object\n",
       "Embarked        object\n",
       "dtype: object"
      ]
     },
     "execution_count": 2,
     "metadata": {},
     "output_type": "execute_result"
    }
   ],
   "source": [
    "df.dtypes"
   ]
  },
  {
   "cell_type": "code",
   "execution_count": 3,
   "id": "dbd5fc56",
   "metadata": {
    "execution": {
     "iopub.execute_input": "2022-10-13T18:14:51.526707Z",
     "iopub.status.busy": "2022-10-13T18:14:51.526097Z",
     "iopub.status.idle": "2022-10-13T18:14:51.551419Z",
     "shell.execute_reply": "2022-10-13T18:14:51.550313Z"
    },
    "papermill": {
     "duration": 0.066391,
     "end_time": "2022-10-13T18:14:51.554198",
     "exception": false,
     "start_time": "2022-10-13T18:14:51.487807",
     "status": "completed"
    },
    "tags": []
   },
   "outputs": [
    {
     "name": "stdout",
     "output_type": "stream",
     "text": [
      "Total no of duplicate values in Training Dataset = 0\n"
     ]
    },
    {
     "data": {
      "text/html": [
       "<div>\n",
       "<style scoped>\n",
       "    .dataframe tbody tr th:only-of-type {\n",
       "        vertical-align: middle;\n",
       "    }\n",
       "\n",
       "    .dataframe tbody tr th {\n",
       "        vertical-align: top;\n",
       "    }\n",
       "\n",
       "    .dataframe thead th {\n",
       "        text-align: right;\n",
       "    }\n",
       "</style>\n",
       "<table border=\"1\" class=\"dataframe\">\n",
       "  <thead>\n",
       "    <tr style=\"text-align: right;\">\n",
       "      <th></th>\n",
       "      <th>PassengerId</th>\n",
       "      <th>Survived</th>\n",
       "      <th>Pclass</th>\n",
       "      <th>Name</th>\n",
       "      <th>Sex</th>\n",
       "      <th>Age</th>\n",
       "      <th>SibSp</th>\n",
       "      <th>Parch</th>\n",
       "      <th>Ticket</th>\n",
       "      <th>Fare</th>\n",
       "      <th>Cabin</th>\n",
       "      <th>Embarked</th>\n",
       "    </tr>\n",
       "  </thead>\n",
       "  <tbody>\n",
       "  </tbody>\n",
       "</table>\n",
       "</div>"
      ],
      "text/plain": [
       "Empty DataFrame\n",
       "Columns: [PassengerId, Survived, Pclass, Name, Sex, Age, SibSp, Parch, Ticket, Fare, Cabin, Embarked]\n",
       "Index: []"
      ]
     },
     "execution_count": 3,
     "metadata": {},
     "output_type": "execute_result"
    }
   ],
   "source": [
    "#Check Duplicates:\n",
    "dupstr = df.duplicated()\n",
    "print('Total no of duplicate values in Training Dataset = %d' % (dupstr.sum()))\n",
    "df[dupstr]"
   ]
  },
  {
   "cell_type": "code",
   "execution_count": 4,
   "id": "d20c49ed",
   "metadata": {
    "execution": {
     "iopub.execute_input": "2022-10-13T18:14:51.631570Z",
     "iopub.status.busy": "2022-10-13T18:14:51.631135Z",
     "iopub.status.idle": "2022-10-13T18:14:51.640836Z",
     "shell.execute_reply": "2022-10-13T18:14:51.639932Z"
    },
    "papermill": {
     "duration": 0.050884,
     "end_time": "2022-10-13T18:14:51.643190",
     "exception": false,
     "start_time": "2022-10-13T18:14:51.592306",
     "status": "completed"
    },
    "tags": []
   },
   "outputs": [
    {
     "name": "stdout",
     "output_type": "stream",
     "text": [
      "Missing data by column as a percent:\n",
      "Cabin          0.771044\n",
      "Age            0.198653\n",
      "Embarked       0.002245\n",
      "PassengerId    0.000000\n",
      "Survived       0.000000\n",
      "dtype: float64\n"
     ]
    }
   ],
   "source": [
    "#search for columns with missing values:\n",
    "def findNA():\n",
    "    print(\"Missing data by column as a percent:\")\n",
    "    findNA=df.isnull().sum().sort_values(ascending=False)/len(df)\n",
    "    print(findNA.head())\n",
    "findNA() "
   ]
  },
  {
   "cell_type": "markdown",
   "id": "5cd999d8",
   "metadata": {
    "papermill": {
     "duration": 0.03942,
     "end_time": "2022-10-13T18:14:51.721106",
     "exception": false,
     "start_time": "2022-10-13T18:14:51.681686",
     "status": "completed"
    },
    "tags": []
   },
   "source": [
    "# Feature Engineer\n",
    "We need to replace male and female into numbers. This is a very important part of the process because gender is one of the highest predictors on if a person survived or not."
   ]
  },
  {
   "cell_type": "code",
   "execution_count": 5,
   "id": "79675a87",
   "metadata": {
    "execution": {
     "iopub.execute_input": "2022-10-13T18:14:51.799659Z",
     "iopub.status.busy": "2022-10-13T18:14:51.799079Z",
     "iopub.status.idle": "2022-10-13T18:14:51.804847Z",
     "shell.execute_reply": "2022-10-13T18:14:51.803923Z"
    },
    "papermill": {
     "duration": 0.047503,
     "end_time": "2022-10-13T18:14:51.807257",
     "exception": false,
     "start_time": "2022-10-13T18:14:51.759754",
     "status": "completed"
    },
    "tags": []
   },
   "outputs": [],
   "source": [
    "#GENDER\n",
    "df['Sex']=df['Sex'].map({'female':0,'male':1})"
   ]
  },
  {
   "cell_type": "markdown",
   "id": "1c49ad43",
   "metadata": {
    "papermill": {
     "duration": 0.037704,
     "end_time": "2022-10-13T18:14:51.884921",
     "exception": false,
     "start_time": "2022-10-13T18:14:51.847217",
     "status": "completed"
    },
    "tags": []
   },
   "source": [
    "Females whose number is 0 had a much higher chance of surving than males. Later on, doing the importance feature analysis we will view that gender is actually one of the highest predictors. "
   ]
  },
  {
   "cell_type": "code",
   "execution_count": 6,
   "id": "663baa2f",
   "metadata": {
    "execution": {
     "iopub.execute_input": "2022-10-13T18:14:51.963902Z",
     "iopub.status.busy": "2022-10-13T18:14:51.963581Z",
     "iopub.status.idle": "2022-10-13T18:14:51.994180Z",
     "shell.execute_reply": "2022-10-13T18:14:51.993566Z"
    },
    "papermill": {
     "duration": 0.072287,
     "end_time": "2022-10-13T18:14:51.996164",
     "exception": false,
     "start_time": "2022-10-13T18:14:51.923877",
     "status": "completed"
    },
    "tags": []
   },
   "outputs": [
    {
     "data": {
      "text/html": [
       "<div>\n",
       "<style scoped>\n",
       "    .dataframe tbody tr th:only-of-type {\n",
       "        vertical-align: middle;\n",
       "    }\n",
       "\n",
       "    .dataframe tbody tr th {\n",
       "        vertical-align: top;\n",
       "    }\n",
       "\n",
       "    .dataframe thead th {\n",
       "        text-align: right;\n",
       "    }\n",
       "</style>\n",
       "<table border=\"1\" class=\"dataframe\">\n",
       "  <thead>\n",
       "    <tr style=\"text-align: right;\">\n",
       "      <th>Sex</th>\n",
       "      <th>0</th>\n",
       "      <th>1</th>\n",
       "    </tr>\n",
       "    <tr>\n",
       "      <th>Survived</th>\n",
       "      <th></th>\n",
       "      <th></th>\n",
       "    </tr>\n",
       "  </thead>\n",
       "  <tbody>\n",
       "    <tr>\n",
       "      <th>0</th>\n",
       "      <td>81</td>\n",
       "      <td>468</td>\n",
       "    </tr>\n",
       "    <tr>\n",
       "      <th>1</th>\n",
       "      <td>233</td>\n",
       "      <td>109</td>\n",
       "    </tr>\n",
       "  </tbody>\n",
       "</table>\n",
       "</div>"
      ],
      "text/plain": [
       "Sex         0    1\n",
       "Survived          \n",
       "0          81  468\n",
       "1         233  109"
      ]
     },
     "execution_count": 6,
     "metadata": {},
     "output_type": "execute_result"
    }
   ],
   "source": [
    "genderTable = pd.crosstab(df['Survived'],df['Sex'])\n",
    "genderTable"
   ]
  },
  {
   "cell_type": "markdown",
   "id": "8cdeb7f6",
   "metadata": {
    "papermill": {
     "duration": 0.038449,
     "end_time": "2022-10-13T18:14:52.073207",
     "exception": false,
     "start_time": "2022-10-13T18:14:52.034758",
     "status": "completed"
    },
    "tags": []
   },
   "source": [
    "# Encode Categorical Variables\n",
    "Encode Categorical Variables is needed for this dataset since there are many important variables that are not numeric yet. \n",
    "\n",
    "There are three classes C, Q, and S. Class C seems to have the highest chance of survival. Class S has the lowest chance of survival. Unfornately this would tend to show that economic status seems to played a part in the decision if someone survived or not. Embarked does not play role major role in feature importance. "
   ]
  },
  {
   "cell_type": "code",
   "execution_count": 7,
   "id": "c8e1c1b8",
   "metadata": {
    "execution": {
     "iopub.execute_input": "2022-10-13T18:14:52.152971Z",
     "iopub.status.busy": "2022-10-13T18:14:52.151983Z",
     "iopub.status.idle": "2022-10-13T18:14:52.358760Z",
     "shell.execute_reply": "2022-10-13T18:14:52.357810Z"
    },
    "papermill": {
     "duration": 0.249707,
     "end_time": "2022-10-13T18:14:52.361860",
     "exception": false,
     "start_time": "2022-10-13T18:14:52.112153",
     "status": "completed"
    },
    "tags": []
   },
   "outputs": [],
   "source": [
    "import category_encoders as ce\n",
    "#encoder = ce.OrdinalEncoder(cols=['Embarked'])\n",
    "\n",
    "#df = encoder.fit_transform(df)\n",
    "#test = encoder.fit_transform(test)\n",
    "#test.head()"
   ]
  },
  {
   "cell_type": "markdown",
   "id": "92532cc3",
   "metadata": {
    "papermill": {
     "duration": 0.038775,
     "end_time": "2022-10-13T18:14:52.440261",
     "exception": false,
     "start_time": "2022-10-13T18:14:52.401486",
     "status": "completed"
    },
    "tags": []
   },
   "source": [
    "# Examine Target Variable\n",
    "Survived is the Y variable we will be analyzing. Since the survival rete is 0.384 the data is not considered unbalanced. "
   ]
  },
  {
   "cell_type": "code",
   "execution_count": 8,
   "id": "c4003406",
   "metadata": {
    "execution": {
     "iopub.execute_input": "2022-10-13T18:14:52.519387Z",
     "iopub.status.busy": "2022-10-13T18:14:52.519098Z",
     "iopub.status.idle": "2022-10-13T18:14:52.526605Z",
     "shell.execute_reply": "2022-10-13T18:14:52.525619Z"
    },
    "papermill": {
     "duration": 0.050596,
     "end_time": "2022-10-13T18:14:52.529556",
     "exception": false,
     "start_time": "2022-10-13T18:14:52.478960",
     "status": "completed"
    },
    "tags": []
   },
   "outputs": [
    {
     "name": "stdout",
     "output_type": "stream",
     "text": [
      "0    549\n",
      "1    342\n",
      "Name: Survived, dtype: int64\n",
      "Percent that survived:  0.384\n"
     ]
    }
   ],
   "source": [
    "temp=df['Survived'].value_counts()\n",
    "print(temp)\n",
    "no=temp[0]\n",
    "yes=temp[1]\n",
    "percent=round(yes/(yes+no),3)\n",
    "print(\"Percent that survived: \", percent)"
   ]
  },
  {
   "cell_type": "markdown",
   "id": "3dd29910",
   "metadata": {
    "papermill": {
     "duration": 0.039815,
     "end_time": "2022-10-13T18:14:52.610154",
     "exception": false,
     "start_time": "2022-10-13T18:14:52.570339",
     "status": "completed"
    },
    "tags": []
   },
   "source": [
    "# Numeric DataFrame\n",
    "For now, we will analyze only numeric values. Categorical values will need to be encoded or analyzed individually."
   ]
  },
  {
   "cell_type": "code",
   "execution_count": 9,
   "id": "4dc9a59d",
   "metadata": {
    "execution": {
     "iopub.execute_input": "2022-10-13T18:14:52.688701Z",
     "iopub.status.busy": "2022-10-13T18:14:52.688341Z",
     "iopub.status.idle": "2022-10-13T18:14:52.703731Z",
     "shell.execute_reply": "2022-10-13T18:14:52.702752Z"
    },
    "papermill": {
     "duration": 0.057029,
     "end_time": "2022-10-13T18:14:52.705609",
     "exception": false,
     "start_time": "2022-10-13T18:14:52.648580",
     "status": "completed"
    },
    "tags": []
   },
   "outputs": [
    {
     "data": {
      "text/html": [
       "<div>\n",
       "<style scoped>\n",
       "    .dataframe tbody tr th:only-of-type {\n",
       "        vertical-align: middle;\n",
       "    }\n",
       "\n",
       "    .dataframe tbody tr th {\n",
       "        vertical-align: top;\n",
       "    }\n",
       "\n",
       "    .dataframe thead th {\n",
       "        text-align: right;\n",
       "    }\n",
       "</style>\n",
       "<table border=\"1\" class=\"dataframe\">\n",
       "  <thead>\n",
       "    <tr style=\"text-align: right;\">\n",
       "      <th></th>\n",
       "      <th>PassengerId</th>\n",
       "      <th>Survived</th>\n",
       "      <th>Pclass</th>\n",
       "      <th>Sex</th>\n",
       "      <th>Age</th>\n",
       "      <th>SibSp</th>\n",
       "      <th>Parch</th>\n",
       "      <th>Fare</th>\n",
       "    </tr>\n",
       "  </thead>\n",
       "  <tbody>\n",
       "    <tr>\n",
       "      <th>0</th>\n",
       "      <td>1</td>\n",
       "      <td>0</td>\n",
       "      <td>3</td>\n",
       "      <td>1</td>\n",
       "      <td>22.0</td>\n",
       "      <td>1</td>\n",
       "      <td>0</td>\n",
       "      <td>7.2500</td>\n",
       "    </tr>\n",
       "    <tr>\n",
       "      <th>1</th>\n",
       "      <td>2</td>\n",
       "      <td>1</td>\n",
       "      <td>1</td>\n",
       "      <td>0</td>\n",
       "      <td>38.0</td>\n",
       "      <td>1</td>\n",
       "      <td>0</td>\n",
       "      <td>71.2833</td>\n",
       "    </tr>\n",
       "    <tr>\n",
       "      <th>2</th>\n",
       "      <td>3</td>\n",
       "      <td>1</td>\n",
       "      <td>3</td>\n",
       "      <td>0</td>\n",
       "      <td>26.0</td>\n",
       "      <td>0</td>\n",
       "      <td>0</td>\n",
       "      <td>7.9250</td>\n",
       "    </tr>\n",
       "    <tr>\n",
       "      <th>3</th>\n",
       "      <td>4</td>\n",
       "      <td>1</td>\n",
       "      <td>1</td>\n",
       "      <td>0</td>\n",
       "      <td>35.0</td>\n",
       "      <td>1</td>\n",
       "      <td>0</td>\n",
       "      <td>53.1000</td>\n",
       "    </tr>\n",
       "    <tr>\n",
       "      <th>4</th>\n",
       "      <td>5</td>\n",
       "      <td>0</td>\n",
       "      <td>3</td>\n",
       "      <td>1</td>\n",
       "      <td>35.0</td>\n",
       "      <td>0</td>\n",
       "      <td>0</td>\n",
       "      <td>8.0500</td>\n",
       "    </tr>\n",
       "  </tbody>\n",
       "</table>\n",
       "</div>"
      ],
      "text/plain": [
       "   PassengerId  Survived  Pclass  Sex   Age  SibSp  Parch     Fare\n",
       "0            1         0       3    1  22.0      1      0   7.2500\n",
       "1            2         1       1    0  38.0      1      0  71.2833\n",
       "2            3         1       3    0  26.0      0      0   7.9250\n",
       "3            4         1       1    0  35.0      1      0  53.1000\n",
       "4            5         0       3    1  35.0      0      0   8.0500"
      ]
     },
     "execution_count": 9,
     "metadata": {},
     "output_type": "execute_result"
    }
   ],
   "source": [
    "numerics = ['int16', 'int32', 'int64', 'float16', 'float32', 'float64']\n",
    "df = df.select_dtypes(include=numerics)\n",
    "df.head()"
   ]
  },
  {
   "cell_type": "markdown",
   "id": "26697d8d",
   "metadata": {
    "papermill": {
     "duration": 0.039002,
     "end_time": "2022-10-13T18:14:52.784412",
     "exception": false,
     "start_time": "2022-10-13T18:14:52.745410",
     "status": "completed"
    },
    "tags": []
   },
   "source": [
    "# Check for missing values\n",
    "Age is missing around 20% of values.Therefore, we can simply fill in the mean for that one column."
   ]
  },
  {
   "cell_type": "code",
   "execution_count": 10,
   "id": "85db5e6c",
   "metadata": {
    "execution": {
     "iopub.execute_input": "2022-10-13T18:14:52.864480Z",
     "iopub.status.busy": "2022-10-13T18:14:52.864215Z",
     "iopub.status.idle": "2022-10-13T18:14:52.874223Z",
     "shell.execute_reply": "2022-10-13T18:14:52.872538Z"
    },
    "papermill": {
     "duration": 0.053228,
     "end_time": "2022-10-13T18:14:52.876792",
     "exception": false,
     "start_time": "2022-10-13T18:14:52.823564",
     "status": "completed"
    },
    "tags": []
   },
   "outputs": [
    {
     "name": "stdout",
     "output_type": "stream",
     "text": [
      "Missing data by column as a percent:\n",
      "Age            0.198653\n",
      "PassengerId    0.000000\n",
      "Survived       0.000000\n",
      "Pclass         0.000000\n",
      "Sex            0.000000\n",
      "dtype: float64\n"
     ]
    }
   ],
   "source": [
    "#search for columns with missing values:\n",
    "def findNA():\n",
    "    print(\"Missing data by column as a percent:\")\n",
    "    findNA=df.isnull().sum().sort_values(ascending=False)/len(df)\n",
    "    print(findNA.head())\n",
    "findNA() "
   ]
  },
  {
   "cell_type": "code",
   "execution_count": 11,
   "id": "e408b21e",
   "metadata": {
    "execution": {
     "iopub.execute_input": "2022-10-13T18:14:52.959060Z",
     "iopub.status.busy": "2022-10-13T18:14:52.958746Z",
     "iopub.status.idle": "2022-10-13T18:14:52.967141Z",
     "shell.execute_reply": "2022-10-13T18:14:52.966444Z"
    },
    "papermill": {
     "duration": 0.05157,
     "end_time": "2022-10-13T18:14:52.969257",
     "exception": false,
     "start_time": "2022-10-13T18:14:52.917687",
     "status": "completed"
    },
    "tags": []
   },
   "outputs": [],
   "source": [
    "df= df.fillna(df.mean())"
   ]
  },
  {
   "cell_type": "markdown",
   "id": "d278d35c",
   "metadata": {
    "papermill": {
     "duration": 0.041813,
     "end_time": "2022-10-13T18:14:53.051689",
     "exception": false,
     "start_time": "2022-10-13T18:14:53.009876",
     "status": "completed"
    },
    "tags": []
   },
   "source": [
    "# Split Data"
   ]
  },
  {
   "cell_type": "code",
   "execution_count": 12,
   "id": "e3931a9b",
   "metadata": {
    "execution": {
     "iopub.execute_input": "2022-10-13T18:14:53.133600Z",
     "iopub.status.busy": "2022-10-13T18:14:53.133334Z",
     "iopub.status.idle": "2022-10-13T18:14:53.141706Z",
     "shell.execute_reply": "2022-10-13T18:14:53.140700Z"
    },
    "papermill": {
     "duration": 0.052059,
     "end_time": "2022-10-13T18:14:53.143856",
     "exception": false,
     "start_time": "2022-10-13T18:14:53.091797",
     "status": "completed"
    },
    "tags": []
   },
   "outputs": [],
   "source": [
    "X=df.drop('Survived', axis=1)\n",
    "y=df['Survived']\n",
    "\n",
    "X_train, X_test, y_train, y_test = train_test_split(\n",
    "    X, y, test_size = 0.20, random_state = 42)"
   ]
  },
  {
   "cell_type": "markdown",
   "id": "15d90ad5",
   "metadata": {
    "papermill": {
     "duration": 0.039425,
     "end_time": "2022-10-13T18:14:53.223090",
     "exception": false,
     "start_time": "2022-10-13T18:14:53.183665",
     "status": "completed"
    },
    "tags": []
   },
   "source": [
    "# Highly Correlated Features\n",
    "There are no highly correlated variables above 80%. Therefore, we do not need to be concerned about removing variables that are too highly correlated. "
   ]
  },
  {
   "cell_type": "code",
   "execution_count": 13,
   "id": "fb8dd536",
   "metadata": {
    "execution": {
     "iopub.execute_input": "2022-10-13T18:14:53.304042Z",
     "iopub.status.busy": "2022-10-13T18:14:53.303676Z",
     "iopub.status.idle": "2022-10-13T18:14:53.719315Z",
     "shell.execute_reply": "2022-10-13T18:14:53.718577Z"
    },
    "papermill": {
     "duration": 0.459206,
     "end_time": "2022-10-13T18:14:53.721813",
     "exception": false,
     "start_time": "2022-10-13T18:14:53.262607",
     "status": "completed"
    },
    "tags": []
   },
   "outputs": [
    {
     "data": {
      "text/plain": [
       "<AxesSubplot:>"
      ]
     },
     "execution_count": 13,
     "metadata": {},
     "output_type": "execute_result"
    },
    {
     "data": {
      "image/png": "[encoded data removed]",
      "text/plain": [
       "<Figure size 432x288 with 2 Axes>"
      ]
     },
     "metadata": {
      "needs_background": "light"
     },
     "output_type": "display_data"
    }
   ],
   "source": [
    "import seaborn as sns\n",
    "corr= df.corr()\n",
    "matrix = np.triu(corr)\n",
    "sns.heatmap(corr, annot=True, mask=matrix)"
   ]
  },
  {
   "cell_type": "markdown",
   "id": "0205fb1f",
   "metadata": {
    "papermill": {
     "duration": 0.042376,
     "end_time": "2022-10-13T18:14:53.806572",
     "exception": false,
     "start_time": "2022-10-13T18:14:53.764196",
     "status": "completed"
    },
    "tags": []
   },
   "source": [
    "# K-Nearest Neighbors (KNN)\n",
    "Initial tuning provides around a .59 AUC. This model does not seem to be very effective on this dataset."
   ]
  },
  {
   "cell_type": "markdown",
   "id": "cfbfb764",
   "metadata": {
    "papermill": {
     "duration": 0.041329,
     "end_time": "2022-10-13T18:14:53.889365",
     "exception": false,
     "start_time": "2022-10-13T18:14:53.848036",
     "status": "completed"
    },
    "tags": []
   },
   "source": [
    "n_neighbors = 3 provides the least amount of error:"
   ]
  },
  {
   "cell_type": "code",
   "execution_count": 14,
   "id": "7c3b3624",
   "metadata": {
    "execution": {
     "iopub.execute_input": "2022-10-13T18:14:53.976201Z",
     "iopub.status.busy": "2022-10-13T18:14:53.975191Z",
     "iopub.status.idle": "2022-10-13T18:14:53.983661Z",
     "shell.execute_reply": "2022-10-13T18:14:53.982612Z"
    },
    "papermill": {
     "duration": 0.054473,
     "end_time": "2022-10-13T18:14:53.986101",
     "exception": false,
     "start_time": "2022-10-13T18:14:53.931628",
     "status": "completed"
    },
    "tags": []
   },
   "outputs": [],
   "source": [
    "from sklearn.neighbors import KNeighborsClassifier, KNeighborsRegressor\n",
    "\n",
    "def knnError():\n",
    "    numbers=list(range(1, 16, 2))\n",
    "    error_rates = []\n",
    "    accList=[]\n",
    "    for n in numbers: #Must be an odd number to break a tie\n",
    "        new_model = KNeighborsClassifier(n_neighbors =  n)\n",
    "        new_model.fit(X_train, y_train)\n",
    "        y_pred = new_model.predict(X_test)\n",
    "        error_rates.append(np.mean( y_pred != y_test))\n",
    "        knn_auc = round( metrics.roc_auc_score(y_test,  y_pred), 4 ) \n",
    "        accList.append(knn_auc)\n",
    "    plt.plot(numbers, error_rates)\n",
    "    plt.title(\"KNN Error n_neighbors\")\n",
    "    plt.xlabel(\"n_neighbors\")\n",
    "    plt.ylabel(\"Error Rate\")\n",
    "    plt.show()\n",
    "    \n",
    "    plt.plot(numbers, accList)\n",
    "    plt.title(\"Knn Accuracy \")\n",
    "    plt.xlabel(\"n_neighbors\")\n",
    "    plt.ylabel(\"Accuracy\")\n",
    "    plt.show()\n",
    "#knnError() "
   ]
  },
  {
   "cell_type": "code",
   "execution_count": 15,
   "id": "ecb424ed",
   "metadata": {
    "execution": {
     "iopub.execute_input": "2022-10-13T18:14:54.070795Z",
     "iopub.status.busy": "2022-10-13T18:14:54.070473Z",
     "iopub.status.idle": "2022-10-13T18:14:54.077896Z",
     "shell.execute_reply": "2022-10-13T18:14:54.077097Z"
    },
    "papermill": {
     "duration": 0.052628,
     "end_time": "2022-10-13T18:14:54.080103",
     "exception": false,
     "start_time": "2022-10-13T18:14:54.027475",
     "status": "completed"
    },
    "tags": []
   },
   "outputs": [],
   "source": [
    "def knnLeaf():\n",
    "    error_rates = []\n",
    "    accList=[]\n",
    "    numbers=list(range(1,50))\n",
    "    for n in numbers: \n",
    "        new_model = KNeighborsClassifier(leaf_size =  n)\n",
    "        new_model.fit(X_train, y_train)\n",
    "        y_pred = new_model.predict(X_test)\n",
    "        error_rates.append(np.mean(y_pred != y_test))\n",
    "        knn_auc = round( metrics.roc_auc_score(y_test,  y_pred), 4 ) \n",
    "        accList.append(knn_auc)\n",
    "        #print(\"Knn AUC: \", knn_auc)\n",
    "    plt.plot(numbers, error_rates)\n",
    "    plt.title(\"KNN Error\")\n",
    "    plt.xlabel(\"leaf_size\")\n",
    "    plt.ylabel(\"Error Rate\")\n",
    "    plt.show()\n",
    "    \n",
    "    plt.plot(numbers, accList)\n",
    "    plt.title(\"Knn Accuracy \")\n",
    "    plt.xlabel(\"leaf_size\")\n",
    "    plt.ylabel(\"Accuracy\")\n",
    "    plt.show()\n",
    "#knnLeaf() "
   ]
  },
  {
   "cell_type": "markdown",
   "id": "5b8a475b",
   "metadata": {
    "papermill": {
     "duration": 0.041238,
     "end_time": "2022-10-13T18:14:54.162662",
     "exception": false,
     "start_time": "2022-10-13T18:14:54.121424",
     "status": "completed"
    },
    "tags": []
   },
   "source": [
    "# KNN GridSearch"
   ]
  },
  {
   "cell_type": "code",
   "execution_count": 16,
   "id": "7de4aec3",
   "metadata": {
    "execution": {
     "iopub.execute_input": "2022-10-13T18:14:54.251267Z",
     "iopub.status.busy": "2022-10-13T18:14:54.250934Z",
     "iopub.status.idle": "2022-10-13T18:14:54.256737Z",
     "shell.execute_reply": "2022-10-13T18:14:54.256024Z"
    },
    "papermill": {
     "duration": 0.053586,
     "end_time": "2022-10-13T18:14:54.258617",
     "exception": false,
     "start_time": "2022-10-13T18:14:54.205031",
     "status": "completed"
    },
    "tags": []
   },
   "outputs": [],
   "source": [
    "def knnGrid():\n",
    "    n_neighbors = list(range(1, 16, 2))\n",
    "    p=[1,2]\n",
    "\n",
    "    print(\"start\")\n",
    "    params=dict(n_neighbors=n_neighbors, p=p, metric= ['euclidean', 'manhattan'])\n",
    "    grid=GridSearchCV(KNeighborsClassifier(), params, cv=5, scoring='accuracy')\n",
    "    knnGrid=grid.fit(X, y)\n",
    "    print(knnGrid.best_estimator_)\n",
    "#knnGrid()"
   ]
  },
  {
   "cell_type": "markdown",
   "id": "136cfc08",
   "metadata": {
    "papermill": {
     "duration": 0.043305,
     "end_time": "2022-10-13T18:14:54.343500",
     "exception": false,
     "start_time": "2022-10-13T18:14:54.300195",
     "status": "completed"
    },
    "tags": []
   },
   "source": [
    "# Final KNN Prediction"
   ]
  },
  {
   "cell_type": "code",
   "execution_count": 17,
   "id": "f0bed02b",
   "metadata": {
    "execution": {
     "iopub.execute_input": "2022-10-13T18:14:54.430813Z",
     "iopub.status.busy": "2022-10-13T18:14:54.429975Z",
     "iopub.status.idle": "2022-10-13T18:14:54.448071Z",
     "shell.execute_reply": "2022-10-13T18:14:54.446676Z"
    },
    "papermill": {
     "duration": 0.064201,
     "end_time": "2022-10-13T18:14:54.450389",
     "exception": false,
     "start_time": "2022-10-13T18:14:54.386188",
     "status": "completed"
    },
    "tags": []
   },
   "outputs": [
    {
     "name": "stdout",
     "output_type": "stream",
     "text": [
      "Knn AUC:  0.6859\n",
      "MSE  0.467\n"
     ]
    }
   ],
   "source": [
    "knnFinal = KNeighborsClassifier(n_neighbors =15, p=1, metric='manhattan')\n",
    "\n",
    "#FIT and PREDICT:\n",
    "knnFinal.fit(X_train, y_train)\n",
    "y_pred =  knnFinal.predict_proba(X_test)[::,1]\n",
    "\n",
    "#calculate AUC of model\n",
    "knn_auc = round( metrics.roc_auc_score(y_test, y_pred ), 4 ) \n",
    "print(\"Knn AUC: \", knn_auc)\n",
    "error = round(sqrt(mean_squared_error(y_test, y_pred )), 4)\n",
    "print(\"MSE \", error)"
   ]
  },
  {
   "cell_type": "markdown",
   "id": "66287f18",
   "metadata": {
    "papermill": {
     "duration": 0.042277,
     "end_time": "2022-10-13T18:14:54.534216",
     "exception": false,
     "start_time": "2022-10-13T18:14:54.491939",
     "status": "completed"
    },
    "tags": []
   },
   "source": [
    "# Support Vector \n",
    "The initial results for SVM AUC with no parameter tunning is 0.5336. Tunning the model gets AUC to be almost 80%. \n",
    "\n",
    "#### GridSearch Tune\n",
    "The best parameters from tunning SVM is SVC(C=1000, gamma=0.0001)."
   ]
  },
  {
   "cell_type": "code",
   "execution_count": 18,
   "id": "b589ac56",
   "metadata": {
    "execution": {
     "iopub.execute_input": "2022-10-13T18:14:54.619158Z",
     "iopub.status.busy": "2022-10-13T18:14:54.618246Z",
     "iopub.status.idle": "2022-10-13T18:14:54.622349Z",
     "shell.execute_reply": "2022-10-13T18:14:54.621552Z"
    },
    "papermill": {
     "duration": 0.048918,
     "end_time": "2022-10-13T18:14:54.624317",
     "exception": false,
     "start_time": "2022-10-13T18:14:54.575399",
     "status": "completed"
    },
    "tags": []
   },
   "outputs": [],
   "source": [
    "from sklearn.svm import SVC"
   ]
  },
  {
   "cell_type": "code",
   "execution_count": 19,
   "id": "14fb6210",
   "metadata": {
    "execution": {
     "iopub.execute_input": "2022-10-13T18:14:54.713019Z",
     "iopub.status.busy": "2022-10-13T18:14:54.712435Z",
     "iopub.status.idle": "2022-10-13T18:14:57.727274Z",
     "shell.execute_reply": "2022-10-13T18:14:57.726568Z"
    },
    "papermill": {
     "duration": 3.062649,
     "end_time": "2022-10-13T18:14:57.729391",
     "exception": false,
     "start_time": "2022-10-13T18:14:54.666742",
     "status": "completed"
    },
    "tags": []
   },
   "outputs": [
    {
     "data": {
      "image/png": "[encoded data removed]",
      "text/plain": [
       "<Figure size 432x288 with 1 Axes>"
      ]
     },
     "metadata": {
      "needs_background": "light"
     },
     "output_type": "display_data"
    },
    {
     "data": {
      "image/png": "[encoded data removed]",
      "text/plain": [
       "<Figure size 432x288 with 1 Axes>"
      ]
     },
     "metadata": {
      "needs_background": "light"
     },
     "output_type": "display_data"
    }
   ],
   "source": [
    "def svmC():\n",
    "    numbers=[.0001, .001, .01, .1, 1, 10, 100, 1000, 10_000, 11_000]\n",
    "    maeList=[]\n",
    "    accList=[]\n",
    "    for n in numbers:\n",
    "        svm=SVC(C=n)\n",
    "        svm.fit(X_train, y_train)\n",
    "        y_pred=svm.predict(X_test)\n",
    "        \n",
    "        mae=metrics.mean_absolute_error(y_test, y_pred).round(2)\n",
    "        auc=metrics.roc_auc_score(y_test, y_pred).round(4)\n",
    "        maeList.append(mae)\n",
    "        accList.append(auc)\n",
    "    plt.plot(numbers, accList)\n",
    "    plt.title(\"SVM C\")\n",
    "    plt.xlabel(\"C\")\n",
    "    plt.ylabel(\"Accuracy\")\n",
    "    plt.show()\n",
    "    \n",
    "    plt.plot(numbers, maeList)\n",
    "    plt.title(\"SVM C\")\n",
    "    plt.xlabel(\"C\")\n",
    "    plt.ylabel(\"Error\")\n",
    "    plt.show()\n",
    "svmC()"
   ]
  },
  {
   "cell_type": "code",
   "execution_count": 20,
   "id": "898f58ec",
   "metadata": {
    "execution": {
     "iopub.execute_input": "2022-10-13T18:14:57.820123Z",
     "iopub.status.busy": "2022-10-13T18:14:57.819585Z",
     "iopub.status.idle": "2022-10-13T18:14:58.538193Z",
     "shell.execute_reply": "2022-10-13T18:14:58.536529Z"
    },
    "papermill": {
     "duration": 0.766916,
     "end_time": "2022-10-13T18:14:58.541443",
     "exception": false,
     "start_time": "2022-10-13T18:14:57.774527",
     "status": "completed"
    },
    "tags": []
   },
   "outputs": [
    {
     "data": {
      "image/png": "[encoded data removed]",
      "text/plain": [
       "<Figure size 432x288 with 1 Axes>"
      ]
     },
     "metadata": {
      "needs_background": "light"
     },
     "output_type": "display_data"
    },
    {
     "data": {
      "image/png": "[encoded data removed]",
      "text/plain": [
       "<Figure size 432x288 with 1 Axes>"
      ]
     },
     "metadata": {
      "needs_background": "light"
     },
     "output_type": "display_data"
    }
   ],
   "source": [
    "def svmGamma():\n",
    "    numbers=[.0001, .001, .01, .1, 1]\n",
    "    maeList=[]\n",
    "    accList=[]\n",
    "    for n in numbers:\n",
    "        svm=SVC(gamma=n)\n",
    "        svm.fit(X_train, y_train)\n",
    "        y_pred=svm.predict(X_test)\n",
    "        \n",
    "        mae=metrics.mean_absolute_error(y_test, y_pred).round(2)\n",
    "        auc=metrics.roc_auc_score(y_test, y_pred).round(4)\n",
    "        maeList.append(mae)\n",
    "        accList.append(auc)\n",
    "    plt.plot(numbers, accList)\n",
    "    plt.title(\"SVM Gamma\")\n",
    "    plt.xlabel(\"Gamma\")\n",
    "    plt.ylabel(\"Accuracy\")\n",
    "    plt.show()\n",
    "    \n",
    "    plt.plot(numbers, maeList)\n",
    "    plt.title(\"SVM Gammas\")\n",
    "    plt.xlabel(\"Gamma\")\n",
    "    plt.ylabel(\"Error\")\n",
    "    plt.show()\n",
    "svmGamma()"
   ]
  },
  {
   "cell_type": "code",
   "execution_count": 21,
   "id": "35a027ed",
   "metadata": {
    "execution": {
     "iopub.execute_input": "2022-10-13T18:14:58.652765Z",
     "iopub.status.busy": "2022-10-13T18:14:58.652181Z",
     "iopub.status.idle": "2022-10-13T18:15:22.961968Z",
     "shell.execute_reply": "2022-10-13T18:15:22.960971Z"
    },
    "papermill": {
     "duration": 24.360383,
     "end_time": "2022-10-13T18:15:22.964284",
     "exception": false,
     "start_time": "2022-10-13T18:14:58.603901",
     "status": "completed"
    },
    "tags": []
   },
   "outputs": [
    {
     "name": "stdout",
     "output_type": "stream",
     "text": [
      "start\n",
      "{'C': 10000, 'gamma': 0.0001, 'kernel': 'rbf'}\n",
      "SVC(C=10000, gamma=0.0001)\n"
     ]
    }
   ],
   "source": [
    "def svmGrid():\n",
    "    print(\"start\")\n",
    "    param_grid = {'C': [100, 1000, 10_000],\n",
    "                  'gamma': [0.0001],\n",
    "                  'kernel': ['rbf'],\n",
    "                  #'probability':[True,False],\n",
    "                 }\n",
    "\n",
    "    grid = GridSearchCV(SVC(), param_grid, cv=10, scoring='accuracy', verbose = False)\n",
    "    grid.fit(X_train, y_train)\n",
    "    print(grid.best_params_)\n",
    "    print(grid.best_estimator_)\n",
    "svmGrid()"
   ]
  },
  {
   "cell_type": "markdown",
   "id": "675f3e7f",
   "metadata": {
    "papermill": {
     "duration": 0.046259,
     "end_time": "2022-10-13T18:15:23.059491",
     "exception": false,
     "start_time": "2022-10-13T18:15:23.013232",
     "status": "completed"
    },
    "tags": []
   },
   "source": [
    "# Final SVM Prediction\n",
    "Best GridSearchCV from above:\n",
    "* Using CV=10 gets best AUC {'C': 10000, 'gamma': 0.0001, 'kernel': 'rbf'}\n",
    "* SVC(C=10_000, gamma=.0001, kernel = 'linear')   --> AUC is:  0.7933\n",
    "* SVC(C=1000, gamma=0.0001)\n",
    "* SVC(C=100, gamma=1)"
   ]
  },
  {
   "cell_type": "code",
   "execution_count": 22,
   "id": "3197fc5b",
   "metadata": {
    "execution": {
     "iopub.execute_input": "2022-10-13T18:15:23.154270Z",
     "iopub.status.busy": "2022-10-13T18:15:23.153964Z",
     "iopub.status.idle": "2022-10-13T18:16:03.561373Z",
     "shell.execute_reply": "2022-10-13T18:16:03.560475Z"
    },
    "papermill": {
     "duration": 40.45711,
     "end_time": "2022-10-13T18:16:03.563578",
     "exception": false,
     "start_time": "2022-10-13T18:15:23.106468",
     "status": "completed"
    },
    "tags": []
   },
   "outputs": [
    {
     "name": "stdout",
     "output_type": "stream",
     "text": [
      "SVC AUC is:  0.8065\n",
      "SVM Score:  0.8268\n",
      "              precision    recall  f1-score   support\n",
      "\n",
      "           0       0.81      0.92      0.86       105\n",
      "           1       0.86      0.69      0.77        74\n",
      "\n",
      "    accuracy                           0.83       179\n",
      "   macro avg       0.84      0.81      0.81       179\n",
      "weighted avg       0.83      0.83      0.82       179\n",
      "\n"
     ]
    },
    {
     "data": {
      "text/plain": [
       "<Figure size 360x504 with 0 Axes>"
      ]
     },
     "metadata": {},
     "output_type": "display_data"
    },
    {
     "data": {
      "image/png": "[encoded data removed]",
      "text/plain": [
       "<Figure size 360x360 with 1 Axes>"
      ]
     },
     "metadata": {
      "needs_background": "light"
     },
     "output_type": "display_data"
    },
    {
     "data": {
      "image/png": "[encoded data removed]",
      "text/plain": [
       "<Figure size 360x360 with 1 Axes>"
      ]
     },
     "metadata": {
      "needs_background": "light"
     },
     "output_type": "display_data"
    }
   ],
   "source": [
    "#Fit and Predict:\n",
    "svmFinal=SVC(C=10_000, gamma=.0001, kernel = 'linear')\n",
    "svmFinal.fit(X_train, y_train)\n",
    "y_pred = svmFinal.predict(X_test)\n",
    "\n",
    "#calculate AUC of model\n",
    "svmAUC = metrics.roc_auc_score(y_test, y_pred, multi_class='ovr').round(4)\n",
    "print(\"SVC AUC is: \", svmAUC)\n",
    "\n",
    "svmR2 = r2_score(y_test, y_pred).round(4) \n",
    "svmMAE=metrics.mean_absolute_error(y_test, y_pred).round(4)\n",
    "\n",
    "print(\"SVM Score: \", svmFinal.score(X_test, y_test).round(4))\n",
    "print(classification_report(y_test, y_pred))\n",
    "\n",
    "plt.figure(figsize=(5, 7))\n",
    "ax = sns.displot(y,  color=\"r\", label=\"Actual Value\")\n",
    "sns.displot(y_test, color=\"b\", label=\"Fitted Values\")\n",
    "plt.title('Actual vs Fitted Values')\n",
    "plt.show()"
   ]
  },
  {
   "cell_type": "code",
   "execution_count": 23,
   "id": "f7c78202",
   "metadata": {
    "execution": {
     "iopub.execute_input": "2022-10-13T18:16:03.667540Z",
     "iopub.status.busy": "2022-10-13T18:16:03.667228Z",
     "iopub.status.idle": "2022-10-13T18:16:08.023829Z",
     "shell.execute_reply": "2022-10-13T18:16:08.022827Z"
    },
    "papermill": {
     "duration": 4.413998,
     "end_time": "2022-10-13T18:16:08.026747",
     "exception": false,
     "start_time": "2022-10-13T18:16:03.612749",
     "status": "completed"
    },
    "tags": []
   },
   "outputs": [
    {
     "data": {
      "text/plain": [
       "Text(0.5, 1.0, 'SVM rbf Decision Region Boundary')"
      ]
     },
     "execution_count": 23,
     "metadata": {},
     "output_type": "execute_result"
    },
    {
     "data": {
      "image/png": "[encoded data removed]",
      "text/plain": [
       "<Figure size 432x288 with 1 Axes>"
      ]
     },
     "metadata": {
      "needs_background": "light"
     },
     "output_type": "display_data"
    }
   ],
   "source": [
    "from sklearn.decomposition import PCA\n",
    "from mlxtend.plotting import plot_decision_regions\n",
    "import numpy as np\n",
    "\n",
    "clf = SVC(C=1000, gamma=0.0001, kernel = 'rbf')\n",
    "pca = PCA(n_components = 2)\n",
    "X_train2 = pca.fit_transform(np.array(X_train))\n",
    "y_train2=np.array(y_train)\n",
    "clf.fit(X_train2, y_train2)\n",
    "plot_decision_regions(X_train2, y_train2, clf=clf, legend=2)\n",
    "\n",
    "plt.xlabel(X.columns[0], size=14)\n",
    "plt.ylabel(X.columns[1], size=14)\n",
    "plt.title('SVM rbf Decision Region Boundary', size=16)"
   ]
  },
  {
   "cell_type": "code",
   "execution_count": 24,
   "id": "f4b9ffdb",
   "metadata": {
    "execution": {
     "iopub.execute_input": "2022-10-13T18:16:08.134938Z",
     "iopub.status.busy": "2022-10-13T18:16:08.134270Z",
     "iopub.status.idle": "2022-10-13T18:16:11.251254Z",
     "shell.execute_reply": "2022-10-13T18:16:11.250129Z"
    },
    "papermill": {
     "duration": 3.174982,
     "end_time": "2022-10-13T18:16:11.253814",
     "exception": false,
     "start_time": "2022-10-13T18:16:08.078832",
     "status": "completed"
    },
    "tags": []
   },
   "outputs": [
    {
     "data": {
      "text/plain": [
       "Text(0.5, 1.0, 'SVM sigmoid Decision Region Boundary')"
      ]
     },
     "execution_count": 24,
     "metadata": {},
     "output_type": "execute_result"
    },
    {
     "data": {
      "image/png": "[encoded data removed]",
      "text/plain": [
       "<Figure size 432x288 with 1 Axes>"
      ]
     },
     "metadata": {
      "needs_background": "light"
     },
     "output_type": "display_data"
    }
   ],
   "source": [
    "clf = SVC(C=1000, gamma=0.0001, kernel = 'sigmoid')\n",
    "pca = PCA(n_components = 2)\n",
    "X_train2 = pca.fit_transform(np.array(X_train))\n",
    "y_train2=np.array(y_train)\n",
    "clf.fit(X_train2, y_train2)\n",
    "plot_decision_regions(X_train2, y_train2, clf=clf, legend=2)\n",
    "\n",
    "plt.xlabel(X.columns[0], size=14)\n",
    "plt.ylabel(X.columns[1], size=14)\n",
    "plt.title('SVM sigmoid Decision Region Boundary', size=16)"
   ]
  },
  {
   "cell_type": "code",
   "execution_count": 25,
   "id": "ce67a676",
   "metadata": {
    "execution": {
     "iopub.execute_input": "2022-10-13T18:16:11.365113Z",
     "iopub.status.busy": "2022-10-13T18:16:11.364196Z",
     "iopub.status.idle": "2022-10-13T18:16:11.370494Z",
     "shell.execute_reply": "2022-10-13T18:16:11.369853Z"
    },
    "papermill": {
     "duration": 0.063841,
     "end_time": "2022-10-13T18:16:11.372530",
     "exception": false,
     "start_time": "2022-10-13T18:16:11.308689",
     "status": "completed"
    },
    "tags": []
   },
   "outputs": [],
   "source": [
    "def linear():\n",
    "    clf = SVC(C=1000, gamma=0.0001, kernel = 'linear')\n",
    "    pca = PCA(n_components = 2)\n",
    "    X_train2 = pca.fit_transform(np.array(X_train))\n",
    "    y_train2=np.array(y_train)\n",
    "    clf.fit(X_train2, y_train2)\n",
    "    plot_decision_regions(X_train2, y_train2, clf=clf, legend=2)\n",
    "\n",
    "    plt.xlabel(\"X_train2\", size=14)\n",
    "    plt.ylabel(\"y_train2\", size=14)\n",
    "    plt.title('SVM Linear Decision Region Boundary', size=16)\n",
    "    plt.show()"
   ]
  },
  {
   "cell_type": "markdown",
   "id": "359e3e8e",
   "metadata": {
    "papermill": {
     "duration": 0.053345,
     "end_time": "2022-10-13T18:16:11.482155",
     "exception": false,
     "start_time": "2022-10-13T18:16:11.428810",
     "status": "completed"
    },
    "tags": []
   },
   "source": [
    "# Test Data"
   ]
  },
  {
   "cell_type": "code",
   "execution_count": 26,
   "id": "fbc37148",
   "metadata": {
    "execution": {
     "iopub.execute_input": "2022-10-13T18:16:11.593105Z",
     "iopub.status.busy": "2022-10-13T18:16:11.592214Z",
     "iopub.status.idle": "2022-10-13T18:16:11.613917Z",
     "shell.execute_reply": "2022-10-13T18:16:11.612885Z"
    },
    "papermill": {
     "duration": 0.079229,
     "end_time": "2022-10-13T18:16:11.616047",
     "exception": false,
     "start_time": "2022-10-13T18:16:11.536818",
     "status": "completed"
    },
    "tags": []
   },
   "outputs": [
    {
     "data": {
      "text/html": [
       "<div>\n",
       "<style scoped>\n",
       "    .dataframe tbody tr th:only-of-type {\n",
       "        vertical-align: middle;\n",
       "    }\n",
       "\n",
       "    .dataframe tbody tr th {\n",
       "        vertical-align: top;\n",
       "    }\n",
       "\n",
       "    .dataframe thead th {\n",
       "        text-align: right;\n",
       "    }\n",
       "</style>\n",
       "<table border=\"1\" class=\"dataframe\">\n",
       "  <thead>\n",
       "    <tr style=\"text-align: right;\">\n",
       "      <th></th>\n",
       "      <th>PassengerId</th>\n",
       "      <th>Pclass</th>\n",
       "      <th>Sex</th>\n",
       "      <th>Age</th>\n",
       "      <th>SibSp</th>\n",
       "      <th>Parch</th>\n",
       "      <th>Fare</th>\n",
       "    </tr>\n",
       "  </thead>\n",
       "  <tbody>\n",
       "    <tr>\n",
       "      <th>0</th>\n",
       "      <td>892</td>\n",
       "      <td>3</td>\n",
       "      <td>1</td>\n",
       "      <td>34.5</td>\n",
       "      <td>0</td>\n",
       "      <td>0</td>\n",
       "      <td>7.8292</td>\n",
       "    </tr>\n",
       "    <tr>\n",
       "      <th>1</th>\n",
       "      <td>893</td>\n",
       "      <td>3</td>\n",
       "      <td>0</td>\n",
       "      <td>47.0</td>\n",
       "      <td>1</td>\n",
       "      <td>0</td>\n",
       "      <td>7.0000</td>\n",
       "    </tr>\n",
       "    <tr>\n",
       "      <th>2</th>\n",
       "      <td>894</td>\n",
       "      <td>2</td>\n",
       "      <td>1</td>\n",
       "      <td>62.0</td>\n",
       "      <td>0</td>\n",
       "      <td>0</td>\n",
       "      <td>9.6875</td>\n",
       "    </tr>\n",
       "    <tr>\n",
       "      <th>3</th>\n",
       "      <td>895</td>\n",
       "      <td>3</td>\n",
       "      <td>1</td>\n",
       "      <td>27.0</td>\n",
       "      <td>0</td>\n",
       "      <td>0</td>\n",
       "      <td>8.6625</td>\n",
       "    </tr>\n",
       "    <tr>\n",
       "      <th>4</th>\n",
       "      <td>896</td>\n",
       "      <td>3</td>\n",
       "      <td>0</td>\n",
       "      <td>22.0</td>\n",
       "      <td>1</td>\n",
       "      <td>1</td>\n",
       "      <td>12.2875</td>\n",
       "    </tr>\n",
       "  </tbody>\n",
       "</table>\n",
       "</div>"
      ],
      "text/plain": [
       "   PassengerId  Pclass  Sex   Age  SibSp  Parch     Fare\n",
       "0          892       3    1  34.5      0      0   7.8292\n",
       "1          893       3    0  47.0      1      0   7.0000\n",
       "2          894       2    1  62.0      0      0   9.6875\n",
       "3          895       3    1  27.0      0      0   8.6625\n",
       "4          896       3    0  22.0      1      1  12.2875"
      ]
     },
     "execution_count": 26,
     "metadata": {},
     "output_type": "execute_result"
    }
   ],
   "source": [
    "#GENDER\n",
    "test['Sex']=test['Sex'].map({'female':0,'male':1})\n",
    "\n",
    "features=list(X.columns)\n",
    "test=test[features]\n",
    "\n",
    "test=test.fillna(test.mean())\n",
    "test.head()"
   ]
  },
  {
   "cell_type": "markdown",
   "id": "20911d0f",
   "metadata": {
    "papermill": {
     "duration": 0.05473,
     "end_time": "2022-10-13T18:16:11.724694",
     "exception": false,
     "start_time": "2022-10-13T18:16:11.669964",
     "status": "completed"
    },
    "tags": []
   },
   "source": [
    "# Final Prediction"
   ]
  },
  {
   "cell_type": "code",
   "execution_count": 27,
   "id": "518fecea",
   "metadata": {
    "execution": {
     "iopub.execute_input": "2022-10-13T18:16:11.834116Z",
     "iopub.status.busy": "2022-10-13T18:16:11.833810Z",
     "iopub.status.idle": "2022-10-13T18:16:11.850767Z",
     "shell.execute_reply": "2022-10-13T18:16:11.849874Z"
    },
    "papermill": {
     "duration": 0.074525,
     "end_time": "2022-10-13T18:16:11.853086",
     "exception": false,
     "start_time": "2022-10-13T18:16:11.778561",
     "status": "completed"
    },
    "tags": []
   },
   "outputs": [
    {
     "data": {
      "text/html": [
       "<div>\n",
       "<style scoped>\n",
       "    .dataframe tbody tr th:only-of-type {\n",
       "        vertical-align: middle;\n",
       "    }\n",
       "\n",
       "    .dataframe tbody tr th {\n",
       "        vertical-align: top;\n",
       "    }\n",
       "\n",
       "    .dataframe thead th {\n",
       "        text-align: right;\n",
       "    }\n",
       "</style>\n",
       "<table border=\"1\" class=\"dataframe\">\n",
       "  <thead>\n",
       "    <tr style=\"text-align: right;\">\n",
       "      <th></th>\n",
       "      <th>PassengerId</th>\n",
       "      <th>Survived</th>\n",
       "    </tr>\n",
       "  </thead>\n",
       "  <tbody>\n",
       "    <tr>\n",
       "      <th>0</th>\n",
       "      <td>892</td>\n",
       "      <td>0</td>\n",
       "    </tr>\n",
       "    <tr>\n",
       "      <th>1</th>\n",
       "      <td>893</td>\n",
       "      <td>0</td>\n",
       "    </tr>\n",
       "    <tr>\n",
       "      <th>2</th>\n",
       "      <td>894</td>\n",
       "      <td>0</td>\n",
       "    </tr>\n",
       "    <tr>\n",
       "      <th>3</th>\n",
       "      <td>895</td>\n",
       "      <td>0</td>\n",
       "    </tr>\n",
       "    <tr>\n",
       "      <th>4</th>\n",
       "      <td>896</td>\n",
       "      <td>0</td>\n",
       "    </tr>\n",
       "    <tr>\n",
       "      <th>5</th>\n",
       "      <td>897</td>\n",
       "      <td>0</td>\n",
       "    </tr>\n",
       "    <tr>\n",
       "      <th>6</th>\n",
       "      <td>898</td>\n",
       "      <td>0</td>\n",
       "    </tr>\n",
       "  </tbody>\n",
       "</table>\n",
       "</div>"
      ],
      "text/plain": [
       "   PassengerId  Survived\n",
       "0          892         0\n",
       "1          893         0\n",
       "2          894         0\n",
       "3          895         0\n",
       "4          896         0\n",
       "5          897         0\n",
       "6          898         0"
      ]
     },
     "execution_count": 27,
     "metadata": {},
     "output_type": "execute_result"
    }
   ],
   "source": [
    "test_predictions = svmFinal.predict(test)\n",
    "passID=test['PassengerId']\n",
    "tupleData = list(zip(passID, test_predictions))\n",
    "output = pd.DataFrame(tupleData, columns = ['PassengerId', 'Survived'])\n",
    "output.head(7)"
   ]
  },
  {
   "cell_type": "code",
   "execution_count": 28,
   "id": "7b33753f",
   "metadata": {
    "execution": {
     "iopub.execute_input": "2022-10-13T18:16:11.966789Z",
     "iopub.status.busy": "2022-10-13T18:16:11.966349Z",
     "iopub.status.idle": "2022-10-13T18:16:11.974892Z",
     "shell.execute_reply": "2022-10-13T18:16:11.973898Z"
    },
    "papermill": {
     "duration": 0.068794,
     "end_time": "2022-10-13T18:16:11.977082",
     "exception": false,
     "start_time": "2022-10-13T18:16:11.908288",
     "status": "completed"
    },
    "tags": []
   },
   "outputs": [
    {
     "name": "stdout",
     "output_type": "stream",
     "text": [
      "Your submission was successfully saved!\n"
     ]
    }
   ],
   "source": [
    "output.to_csv('submission.csv', index=False)\n",
    "print(\"Your submission was successfully saved!\")"
   ]
  },
  {
   "cell_type": "markdown",
   "id": "0eeb6382",
   "metadata": {
    "papermill": {
     "duration": 0.055389,
     "end_time": "2022-10-13T18:16:12.089745",
     "exception": false,
     "start_time": "2022-10-13T18:16:12.034356",
     "status": "completed"
    },
    "tags": []
   },
   "source": [
    "#### Notes:\n",
    "Being a wife makes no difference in the final prediction: <br>\n",
    "` df['Titles'] = df['Name'].str.extract(r', (\\w+\\.)') \n",
    "df['Titles'] = df['Titles'].apply(lambda x: 1 if x=='Mrs.' else 0) `"
   ]
  }
 ],
 "metadata": {
  "kernelspec": {
   "display_name": "Python 3",
   "language": "python",
   "name": "python3"
  },
  "language_info": {
   "codemirror_mode": {
    "name": "ipython",
    "version": 3
   },
   "file_extension": ".py",
   "mimetype": "text/x-python",
   "name": "python",
   "nbconvert_exporter": "python",
   "pygments_lexer": "ipython3",
   "version": "3.7.12"
  },
  "papermill": {
   "default_parameters": {},
   "duration": 93.935183,
   "end_time": "2022-10-13T18:16:13.067437",
   "environment_variables": {},
   "exception": null,
   "input_path": "__notebook__.ipynb",
   "output_path": "__notebook__.ipynb",
   "parameters": {},
   "start_time": "2022-10-13T18:14:39.132254",
   "version": "2.3.4"
  }
 },
 "nbformat": 4,
 "nbformat_minor": 5
}
