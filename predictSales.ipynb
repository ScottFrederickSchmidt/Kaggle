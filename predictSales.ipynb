{
 "cells": [
  {
   "cell_type": "markdown",
   "id": "543b042a",
   "metadata": {
    "papermill": {
     "duration": 0.006356,
     "end_time": "2022-11-12T20:42:07.129806",
     "exception": false,
     "start_time": "2022-11-12T20:42:07.123450",
     "status": "completed"
    },
    "tags": []
   },
   "source": [
    "# Predict Future Sales\n",
    "You are provided with daily historical sales data. The task is to forecast the total amount of products sold in every shop for the test set. Note that the list of shops and products slightly changes every month. Creating a robust model that can handle such situations is part of the challenge."
   ]
  },
  {
   "cell_type": "markdown",
   "id": "df1acec7",
   "metadata": {
    "papermill": {
     "duration": 0.004898,
     "end_time": "2022-11-12T20:42:07.140095",
     "exception": false,
     "start_time": "2022-11-12T20:42:07.135197",
     "status": "completed"
    },
    "tags": []
   },
   "source": [
    "## File descriptions\n",
    "* sales_train.csv - the training set. Daily historical data from January 2013 to October 2015.\n",
    "* test.csv - the test set. You need to forecast the sales for these shops and products for November 2015.\n",
    "* sample_submission.csv - a sample submission file in the correct format.\n",
    "* items.csv - supplemental information about the items/products.\n",
    "* item_categories.csv  - supplemental information about the items categories.\n",
    "* shops.csv- supplemental information about the shops."
   ]
  },
  {
   "cell_type": "code",
   "execution_count": 1,
   "id": "9e02eebb",
   "metadata": {
    "execution": {
     "iopub.execute_input": "2022-11-12T20:42:07.152747Z",
     "iopub.status.busy": "2022-11-12T20:42:07.152136Z",
     "iopub.status.idle": "2022-11-12T20:42:07.165705Z",
     "shell.execute_reply": "2022-11-12T20:42:07.164716Z"
    },
    "papermill": {
     "duration": 0.022981,
     "end_time": "2022-11-12T20:42:07.168203",
     "exception": false,
     "start_time": "2022-11-12T20:42:07.145222",
     "status": "completed"
    },
    "tags": []
   },
   "outputs": [],
   "source": [
    "import pandas as pd\n",
    "\n",
    "items=r'/kaggle/input/competitive-data-science-predict-future-sales/items.csv'\n",
    "sample='/kaggle/input/competitive-data-science-predict-future-sales/sample_submission.csv'\n",
    "categories=r'/kaggle/input/competitive-data-science-predict-future-sales/item_categories.csv'\n",
    "train=r'/kaggle/input/competitive-data-science-predict-future-sales/sales_train.csv'\n",
    "shops=r'/kaggle/input/competitive-data-science-predict-future-sales/shops.csv'\n",
    "test=r'/kaggle/input/competitive-data-science-predict-future-sales/test.csv'"
   ]
  },
  {
   "cell_type": "code",
   "execution_count": 2,
   "id": "b2194a9e",
   "metadata": {
    "execution": {
     "iopub.execute_input": "2022-11-12T20:42:07.180719Z",
     "iopub.status.busy": "2022-11-12T20:42:07.180328Z",
     "iopub.status.idle": "2022-11-12T20:42:10.292071Z",
     "shell.execute_reply": "2022-11-12T20:42:10.290660Z"
    },
    "papermill": {
     "duration": 3.121726,
     "end_time": "2022-11-12T20:42:10.295293",
     "exception": false,
     "start_time": "2022-11-12T20:42:07.173567",
     "status": "completed"
    },
    "tags": []
   },
   "outputs": [
    {
     "data": {
      "text/html": [
       "<div>\n",
       "<style scoped>\n",
       "    .dataframe tbody tr th:only-of-type {\n",
       "        vertical-align: middle;\n",
       "    }\n",
       "\n",
       "    .dataframe tbody tr th {\n",
       "        vertical-align: top;\n",
       "    }\n",
       "\n",
       "    .dataframe thead th {\n",
       "        text-align: right;\n",
       "    }\n",
       "</style>\n",
       "<table border=\"1\" class=\"dataframe\">\n",
       "  <thead>\n",
       "    <tr style=\"text-align: right;\">\n",
       "      <th></th>\n",
       "      <th>date</th>\n",
       "      <th>date_block_num</th>\n",
       "      <th>shop_id</th>\n",
       "      <th>item_id</th>\n",
       "      <th>item_price</th>\n",
       "      <th>item_cnt_day</th>\n",
       "    </tr>\n",
       "  </thead>\n",
       "  <tbody>\n",
       "    <tr>\n",
       "      <th>0</th>\n",
       "      <td>02.01.2013</td>\n",
       "      <td>0</td>\n",
       "      <td>59</td>\n",
       "      <td>22154</td>\n",
       "      <td>999.00</td>\n",
       "      <td>1.0</td>\n",
       "    </tr>\n",
       "    <tr>\n",
       "      <th>1</th>\n",
       "      <td>03.01.2013</td>\n",
       "      <td>0</td>\n",
       "      <td>25</td>\n",
       "      <td>2552</td>\n",
       "      <td>899.00</td>\n",
       "      <td>1.0</td>\n",
       "    </tr>\n",
       "    <tr>\n",
       "      <th>2</th>\n",
       "      <td>05.01.2013</td>\n",
       "      <td>0</td>\n",
       "      <td>25</td>\n",
       "      <td>2552</td>\n",
       "      <td>899.00</td>\n",
       "      <td>-1.0</td>\n",
       "    </tr>\n",
       "    <tr>\n",
       "      <th>3</th>\n",
       "      <td>06.01.2013</td>\n",
       "      <td>0</td>\n",
       "      <td>25</td>\n",
       "      <td>2554</td>\n",
       "      <td>1709.05</td>\n",
       "      <td>1.0</td>\n",
       "    </tr>\n",
       "    <tr>\n",
       "      <th>4</th>\n",
       "      <td>15.01.2013</td>\n",
       "      <td>0</td>\n",
       "      <td>25</td>\n",
       "      <td>2555</td>\n",
       "      <td>1099.00</td>\n",
       "      <td>1.0</td>\n",
       "    </tr>\n",
       "  </tbody>\n",
       "</table>\n",
       "</div>"
      ],
      "text/plain": [
       "         date  date_block_num  shop_id  item_id  item_price  item_cnt_day\n",
       "0  02.01.2013               0       59    22154      999.00           1.0\n",
       "1  03.01.2013               0       25     2552      899.00           1.0\n",
       "2  05.01.2013               0       25     2552      899.00          -1.0\n",
       "3  06.01.2013               0       25     2554     1709.05           1.0\n",
       "4  15.01.2013               0       25     2555     1099.00           1.0"
      ]
     },
     "execution_count": 2,
     "metadata": {},
     "output_type": "execute_result"
    }
   ],
   "source": [
    "train=pd.read_csv(train)\n",
    "train.head()"
   ]
  },
  {
   "cell_type": "code",
   "execution_count": 3,
   "id": "325c9902",
   "metadata": {
    "execution": {
     "iopub.execute_input": "2022-11-12T20:42:10.308636Z",
     "iopub.status.busy": "2022-11-12T20:42:10.308264Z",
     "iopub.status.idle": "2022-11-12T20:42:10.326196Z",
     "shell.execute_reply": "2022-11-12T20:42:10.325069Z"
    },
    "papermill": {
     "duration": 0.027552,
     "end_time": "2022-11-12T20:42:10.328639",
     "exception": false,
     "start_time": "2022-11-12T20:42:10.301087",
     "status": "completed"
    },
    "tags": []
   },
   "outputs": [
    {
     "data": {
      "text/html": [
       "<div>\n",
       "<style scoped>\n",
       "    .dataframe tbody tr th:only-of-type {\n",
       "        vertical-align: middle;\n",
       "    }\n",
       "\n",
       "    .dataframe tbody tr th {\n",
       "        vertical-align: top;\n",
       "    }\n",
       "\n",
       "    .dataframe thead th {\n",
       "        text-align: right;\n",
       "    }\n",
       "</style>\n",
       "<table border=\"1\" class=\"dataframe\">\n",
       "  <thead>\n",
       "    <tr style=\"text-align: right;\">\n",
       "      <th></th>\n",
       "      <th>shop_name</th>\n",
       "      <th>shop_id</th>\n",
       "    </tr>\n",
       "  </thead>\n",
       "  <tbody>\n",
       "    <tr>\n",
       "      <th>0</th>\n",
       "      <td>!Якутск Орджоникидзе, 56 фран</td>\n",
       "      <td>0</td>\n",
       "    </tr>\n",
       "    <tr>\n",
       "      <th>1</th>\n",
       "      <td>!Якутск ТЦ \"Центральный\" фран</td>\n",
       "      <td>1</td>\n",
       "    </tr>\n",
       "    <tr>\n",
       "      <th>2</th>\n",
       "      <td>Адыгея ТЦ \"Мега\"</td>\n",
       "      <td>2</td>\n",
       "    </tr>\n",
       "    <tr>\n",
       "      <th>3</th>\n",
       "      <td>Балашиха ТРК \"Октябрь-Киномир\"</td>\n",
       "      <td>3</td>\n",
       "    </tr>\n",
       "    <tr>\n",
       "      <th>4</th>\n",
       "      <td>Волжский ТЦ \"Волга Молл\"</td>\n",
       "      <td>4</td>\n",
       "    </tr>\n",
       "  </tbody>\n",
       "</table>\n",
       "</div>"
      ],
      "text/plain": [
       "                        shop_name  shop_id\n",
       "0   !Якутск Орджоникидзе, 56 фран        0\n",
       "1   !Якутск ТЦ \"Центральный\" фран        1\n",
       "2                Адыгея ТЦ \"Мега\"        2\n",
       "3  Балашиха ТРК \"Октябрь-Киномир\"        3\n",
       "4        Волжский ТЦ \"Волга Молл\"        4"
      ]
     },
     "execution_count": 3,
     "metadata": {},
     "output_type": "execute_result"
    }
   ],
   "source": [
    "shops=pd.read_csv(shops)\n",
    "shops.head()"
   ]
  },
  {
   "cell_type": "code",
   "execution_count": 4,
   "id": "7f400b36",
   "metadata": {
    "execution": {
     "iopub.execute_input": "2022-11-12T20:42:10.341881Z",
     "iopub.status.busy": "2022-11-12T20:42:10.341514Z",
     "iopub.status.idle": "2022-11-12T20:42:10.430556Z",
     "shell.execute_reply": "2022-11-12T20:42:10.429425Z"
    },
    "papermill": {
     "duration": 0.098388,
     "end_time": "2022-11-12T20:42:10.432958",
     "exception": false,
     "start_time": "2022-11-12T20:42:10.334570",
     "status": "completed"
    },
    "tags": []
   },
   "outputs": [
    {
     "data": {
      "text/html": [
       "<div>\n",
       "<style scoped>\n",
       "    .dataframe tbody tr th:only-of-type {\n",
       "        vertical-align: middle;\n",
       "    }\n",
       "\n",
       "    .dataframe tbody tr th {\n",
       "        vertical-align: top;\n",
       "    }\n",
       "\n",
       "    .dataframe thead th {\n",
       "        text-align: right;\n",
       "    }\n",
       "</style>\n",
       "<table border=\"1\" class=\"dataframe\">\n",
       "  <thead>\n",
       "    <tr style=\"text-align: right;\">\n",
       "      <th></th>\n",
       "      <th>item_name</th>\n",
       "      <th>item_id</th>\n",
       "      <th>item_category_id</th>\n",
       "    </tr>\n",
       "  </thead>\n",
       "  <tbody>\n",
       "    <tr>\n",
       "      <th>0</th>\n",
       "      <td>! ВО ВЛАСТИ НАВАЖДЕНИЯ (ПЛАСТ.)         D</td>\n",
       "      <td>0</td>\n",
       "      <td>40</td>\n",
       "    </tr>\n",
       "    <tr>\n",
       "      <th>1</th>\n",
       "      <td>!ABBYY FineReader 12 Professional Edition Full...</td>\n",
       "      <td>1</td>\n",
       "      <td>76</td>\n",
       "    </tr>\n",
       "    <tr>\n",
       "      <th>2</th>\n",
       "      <td>***В ЛУЧАХ СЛАВЫ   (UNV)                    D</td>\n",
       "      <td>2</td>\n",
       "      <td>40</td>\n",
       "    </tr>\n",
       "    <tr>\n",
       "      <th>3</th>\n",
       "      <td>***ГОЛУБАЯ ВОЛНА  (Univ)                      D</td>\n",
       "      <td>3</td>\n",
       "      <td>40</td>\n",
       "    </tr>\n",
       "    <tr>\n",
       "      <th>4</th>\n",
       "      <td>***КОРОБКА (СТЕКЛО)                       D</td>\n",
       "      <td>4</td>\n",
       "      <td>40</td>\n",
       "    </tr>\n",
       "  </tbody>\n",
       "</table>\n",
       "</div>"
      ],
      "text/plain": [
       "                                           item_name  item_id  \\\n",
       "0          ! ВО ВЛАСТИ НАВАЖДЕНИЯ (ПЛАСТ.)         D        0   \n",
       "1  !ABBYY FineReader 12 Professional Edition Full...        1   \n",
       "2      ***В ЛУЧАХ СЛАВЫ   (UNV)                    D        2   \n",
       "3    ***ГОЛУБАЯ ВОЛНА  (Univ)                      D        3   \n",
       "4        ***КОРОБКА (СТЕКЛО)                       D        4   \n",
       "\n",
       "   item_category_id  \n",
       "0                40  \n",
       "1                76  \n",
       "2                40  \n",
       "3                40  \n",
       "4                40  "
      ]
     },
     "execution_count": 4,
     "metadata": {},
     "output_type": "execute_result"
    }
   ],
   "source": [
    "items=pd.read_csv(items)\n",
    "items.head()"
   ]
  },
  {
   "cell_type": "code",
   "execution_count": 5,
   "id": "2e690865",
   "metadata": {
    "execution": {
     "iopub.execute_input": "2022-11-12T20:42:10.446677Z",
     "iopub.status.busy": "2022-11-12T20:42:10.446249Z",
     "iopub.status.idle": "2022-11-12T20:42:10.466466Z",
     "shell.execute_reply": "2022-11-12T20:42:10.465450Z"
    },
    "papermill": {
     "duration": 0.029644,
     "end_time": "2022-11-12T20:42:10.468659",
     "exception": false,
     "start_time": "2022-11-12T20:42:10.439015",
     "status": "completed"
    },
    "tags": []
   },
   "outputs": [
    {
     "data": {
      "text/html": [
       "<div>\n",
       "<style scoped>\n",
       "    .dataframe tbody tr th:only-of-type {\n",
       "        vertical-align: middle;\n",
       "    }\n",
       "\n",
       "    .dataframe tbody tr th {\n",
       "        vertical-align: top;\n",
       "    }\n",
       "\n",
       "    .dataframe thead th {\n",
       "        text-align: right;\n",
       "    }\n",
       "</style>\n",
       "<table border=\"1\" class=\"dataframe\">\n",
       "  <thead>\n",
       "    <tr style=\"text-align: right;\">\n",
       "      <th></th>\n",
       "      <th>item_category_name</th>\n",
       "      <th>item_category_id</th>\n",
       "    </tr>\n",
       "  </thead>\n",
       "  <tbody>\n",
       "    <tr>\n",
       "      <th>0</th>\n",
       "      <td>PC - Гарнитуры/Наушники</td>\n",
       "      <td>0</td>\n",
       "    </tr>\n",
       "    <tr>\n",
       "      <th>1</th>\n",
       "      <td>Аксессуары - PS2</td>\n",
       "      <td>1</td>\n",
       "    </tr>\n",
       "    <tr>\n",
       "      <th>2</th>\n",
       "      <td>Аксессуары - PS3</td>\n",
       "      <td>2</td>\n",
       "    </tr>\n",
       "    <tr>\n",
       "      <th>3</th>\n",
       "      <td>Аксессуары - PS4</td>\n",
       "      <td>3</td>\n",
       "    </tr>\n",
       "    <tr>\n",
       "      <th>4</th>\n",
       "      <td>Аксессуары - PSP</td>\n",
       "      <td>4</td>\n",
       "    </tr>\n",
       "  </tbody>\n",
       "</table>\n",
       "</div>"
      ],
      "text/plain": [
       "        item_category_name  item_category_id\n",
       "0  PC - Гарнитуры/Наушники                 0\n",
       "1         Аксессуары - PS2                 1\n",
       "2         Аксессуары - PS3                 2\n",
       "3         Аксессуары - PS4                 3\n",
       "4         Аксессуары - PSP                 4"
      ]
     },
     "execution_count": 5,
     "metadata": {},
     "output_type": "execute_result"
    }
   ],
   "source": [
    "categories=pd.read_csv(categories)\n",
    "categories.head()"
   ]
  },
  {
   "cell_type": "markdown",
   "id": "948d4217",
   "metadata": {
    "papermill": {
     "duration": 0.005974,
     "end_time": "2022-11-12T20:42:10.480777",
     "exception": false,
     "start_time": "2022-11-12T20:42:10.474803",
     "status": "completed"
    },
    "tags": []
   },
   "source": [
    "# Merged DataFrame\n",
    "Data fields\n",
    "* ID - an Id that represents a (Shop, Item) tuple within the test set\n",
    "* shop_id - unique identifier of a shop\n",
    "* item_id - unique identifier of a product\n",
    "* item_category_id - unique identifier of item category\n",
    "* item_cnt_day - number of products sold. You are predicting a monthly amount of this measure\n",
    "* item_price - current price of an item\n",
    "* date - date in format dd/mm/yyyy\n",
    "* date_block_num - a consecutive month number, used for convenience. January 2013 is 0, February 2013 is 1,..., October 2015 is 33\n",
    "* item_name - name of item"
   ]
  },
  {
   "cell_type": "code",
   "execution_count": 6,
   "id": "5368b151",
   "metadata": {
    "execution": {
     "iopub.execute_input": "2022-11-12T20:42:10.497433Z",
     "iopub.status.busy": "2022-11-12T20:42:10.496587Z",
     "iopub.status.idle": "2022-11-12T20:42:10.943173Z",
     "shell.execute_reply": "2022-11-12T20:42:10.941748Z"
    },
    "papermill": {
     "duration": 0.456921,
     "end_time": "2022-11-12T20:42:10.945911",
     "exception": false,
     "start_time": "2022-11-12T20:42:10.488990",
     "status": "completed"
    },
    "tags": []
   },
   "outputs": [
    {
     "data": {
      "text/html": [
       "<div>\n",
       "<style scoped>\n",
       "    .dataframe tbody tr th:only-of-type {\n",
       "        vertical-align: middle;\n",
       "    }\n",
       "\n",
       "    .dataframe tbody tr th {\n",
       "        vertical-align: top;\n",
       "    }\n",
       "\n",
       "    .dataframe thead th {\n",
       "        text-align: right;\n",
       "    }\n",
       "</style>\n",
       "<table border=\"1\" class=\"dataframe\">\n",
       "  <thead>\n",
       "    <tr style=\"text-align: right;\">\n",
       "      <th></th>\n",
       "      <th>date</th>\n",
       "      <th>date_block_num</th>\n",
       "      <th>shop_id</th>\n",
       "      <th>item_id</th>\n",
       "      <th>item_price</th>\n",
       "      <th>item_cnt_day</th>\n",
       "      <th>shop_name</th>\n",
       "    </tr>\n",
       "  </thead>\n",
       "  <tbody>\n",
       "    <tr>\n",
       "      <th>0</th>\n",
       "      <td>02.01.2013</td>\n",
       "      <td>0</td>\n",
       "      <td>59</td>\n",
       "      <td>22154</td>\n",
       "      <td>999.0</td>\n",
       "      <td>1.0</td>\n",
       "      <td>Ярославль ТЦ \"Альтаир\"</td>\n",
       "    </tr>\n",
       "    <tr>\n",
       "      <th>1</th>\n",
       "      <td>10.01.2013</td>\n",
       "      <td>0</td>\n",
       "      <td>59</td>\n",
       "      <td>22151</td>\n",
       "      <td>399.0</td>\n",
       "      <td>1.0</td>\n",
       "      <td>Ярославль ТЦ \"Альтаир\"</td>\n",
       "    </tr>\n",
       "    <tr>\n",
       "      <th>2</th>\n",
       "      <td>04.01.2013</td>\n",
       "      <td>0</td>\n",
       "      <td>59</td>\n",
       "      <td>5603</td>\n",
       "      <td>699.0</td>\n",
       "      <td>1.0</td>\n",
       "      <td>Ярославль ТЦ \"Альтаир\"</td>\n",
       "    </tr>\n",
       "    <tr>\n",
       "      <th>3</th>\n",
       "      <td>19.01.2013</td>\n",
       "      <td>0</td>\n",
       "      <td>59</td>\n",
       "      <td>5587</td>\n",
       "      <td>199.0</td>\n",
       "      <td>2.0</td>\n",
       "      <td>Ярославль ТЦ \"Альтаир\"</td>\n",
       "    </tr>\n",
       "    <tr>\n",
       "      <th>4</th>\n",
       "      <td>31.01.2013</td>\n",
       "      <td>0</td>\n",
       "      <td>59</td>\n",
       "      <td>5613</td>\n",
       "      <td>5571.0</td>\n",
       "      <td>1.0</td>\n",
       "      <td>Ярославль ТЦ \"Альтаир\"</td>\n",
       "    </tr>\n",
       "  </tbody>\n",
       "</table>\n",
       "</div>"
      ],
      "text/plain": [
       "         date  date_block_num  shop_id  item_id  item_price  item_cnt_day  \\\n",
       "0  02.01.2013               0       59    22154       999.0           1.0   \n",
       "1  10.01.2013               0       59    22151       399.0           1.0   \n",
       "2  04.01.2013               0       59     5603       699.0           1.0   \n",
       "3  19.01.2013               0       59     5587       199.0           2.0   \n",
       "4  31.01.2013               0       59     5613      5571.0           1.0   \n",
       "\n",
       "                shop_name  \n",
       "0  Ярославль ТЦ \"Альтаир\"  \n",
       "1  Ярославль ТЦ \"Альтаир\"  \n",
       "2  Ярославль ТЦ \"Альтаир\"  \n",
       "3  Ярославль ТЦ \"Альтаир\"  \n",
       "4  Ярославль ТЦ \"Альтаир\"  "
      ]
     },
     "execution_count": 6,
     "metadata": {},
     "output_type": "execute_result"
    }
   ],
   "source": [
    "df=pd.merge(train, shops, on='shop_id')\n",
    "df.head()"
   ]
  },
  {
   "cell_type": "code",
   "execution_count": 7,
   "id": "3ed6136f",
   "metadata": {
    "execution": {
     "iopub.execute_input": "2022-11-12T20:42:10.960918Z",
     "iopub.status.busy": "2022-11-12T20:42:10.960119Z",
     "iopub.status.idle": "2022-11-12T20:42:11.001958Z",
     "shell.execute_reply": "2022-11-12T20:42:11.000726Z"
    },
    "papermill": {
     "duration": 0.052182,
     "end_time": "2022-11-12T20:42:11.004594",
     "exception": false,
     "start_time": "2022-11-12T20:42:10.952412",
     "status": "completed"
    },
    "tags": []
   },
   "outputs": [
    {
     "name": "stdout",
     "output_type": "stream",
     "text": [
      "[1.0, 2.0, -1.0, 3.0, 5.0, 6.0, 4.0, -2.0, 10.0, 8.0, 9.0, 7.0, 16.0, 13.0, 12.0, 14.0, 26.0, 11.0, 20.0, 39.0, 28.0, 27.0, 34.0, 19.0, 31.0, 22.0, 17.0, 29.0, 45.0, 21.0, 18.0, 56.0, 15.0, 80.0, 69.0, 40.0, 24.0, 32.0, 23.0, 25.0, 77.0, 41.0, 33.0, 37.0, 36.0, 38.0, 70.0, 30.0, 44.0, 71.0, 48.0, 62.0, 264.0, 110.0, 133.0, 51.0, 46.0, 60.0, 43.0, 65.0, 84.0, 50.0, 47.0, 52.0, 85.0, 35.0, 54.0, 68.0, 59.0, 91.0, 64.0, 87.0, 74.0, 42.0, 501.0, 93.0, 49.0, 53.0, 147.0, 72.0, 205.0, 67.0, 63.0, 55.0, 222.0, 207.0, 82.0, 148.0, 134.0, 78.0, 79.0, 83.0, 405.0, 103.0, 98.0, 100.0, 92.0, -3.0, -4.0, 121.0, 61.0, 156.0, 73.0, 66.0, 145.0, 57.0, 101.0, 81.0, 131.0, 401.0, 502.0, 151.0, 75.0, 240.0, 111.0, 104.0, 76.0, 118.0, 138.0, -5.0, 89.0, 194.0, 255.0, 153.0, -16.0, 117.0, -6.0, 200.0, 150.0, 106.0, 109.0, 97.0, -22.0, 96.0, 242.0, 105.0, 126.0, 58.0, 99.0, 171.0, 130.0, 115.0, 90.0, 124.0, 149.0, 132.0, 195.0, 512.0, -9.0, 142.0, 163.0, 108.0, 500.0, 1000.0, 127.0, 624.0, 187.0, 140.0, 480.0, 343.0, 539.0, 95.0, 146.0, 669.0, 114.0, 157.0, 504.0, 139.0, 161.0, 2169.0, 88.0, 288.0, 86.0, 107.0, 102.0, 300.0, 313.0, 251.0, 217.0, 113.0, 112.0, 299.0, 230.0, 179.0, 168.0, 167.0, 164.0, 508.0, 412.0, 128.0, 116.0, 325.0, 129.0, 231.0, 154.0, 533.0, 637.0, 135.0]\n"
     ]
    }
   ],
   "source": [
    "item_count=list(df['item_cnt_day'].unique())\n",
    "print(item_count)"
   ]
  },
  {
   "cell_type": "code",
   "execution_count": 8,
   "id": "f23f7c97",
   "metadata": {
    "execution": {
     "iopub.execute_input": "2022-11-12T20:42:11.019304Z",
     "iopub.status.busy": "2022-11-12T20:42:11.018923Z",
     "iopub.status.idle": "2022-11-12T20:42:11.307828Z",
     "shell.execute_reply": "2022-11-12T20:42:11.307034Z"
    },
    "papermill": {
     "duration": 0.298726,
     "end_time": "2022-11-12T20:42:11.309939",
     "exception": false,
     "start_time": "2022-11-12T20:42:11.011213",
     "status": "completed"
    },
    "tags": []
   },
   "outputs": [
    {
     "data": {
      "text/plain": [
       "date              0\n",
       "date_block_num    0\n",
       "shop_id           0\n",
       "item_id           0\n",
       "item_price        0\n",
       "item_cnt_day      0\n",
       "shop_name         0\n",
       "dtype: int64"
      ]
     },
     "execution_count": 8,
     "metadata": {},
     "output_type": "execute_result"
    }
   ],
   "source": [
    "df.isnull().sum()"
   ]
  },
  {
   "cell_type": "markdown",
   "id": "cd7a1022",
   "metadata": {
    "papermill": {
     "duration": 0.006231,
     "end_time": "2022-11-12T20:42:11.323047",
     "exception": false,
     "start_time": "2022-11-12T20:42:11.316816",
     "status": "completed"
    },
    "tags": []
   },
   "source": [
    "# Test Data\n",
    "We will make predictions on the following test dataset."
   ]
  },
  {
   "cell_type": "code",
   "execution_count": 9,
   "id": "d2b563cf",
   "metadata": {
    "execution": {
     "iopub.execute_input": "2022-11-12T20:42:11.337960Z",
     "iopub.status.busy": "2022-11-12T20:42:11.337241Z",
     "iopub.status.idle": "2022-11-12T20:42:11.436555Z",
     "shell.execute_reply": "2022-11-12T20:42:11.435377Z"
    },
    "papermill": {
     "duration": 0.109493,
     "end_time": "2022-11-12T20:42:11.439003",
     "exception": false,
     "start_time": "2022-11-12T20:42:11.329510",
     "status": "completed"
    },
    "tags": []
   },
   "outputs": [
    {
     "data": {
      "text/html": [
       "<div>\n",
       "<style scoped>\n",
       "    .dataframe tbody tr th:only-of-type {\n",
       "        vertical-align: middle;\n",
       "    }\n",
       "\n",
       "    .dataframe tbody tr th {\n",
       "        vertical-align: top;\n",
       "    }\n",
       "\n",
       "    .dataframe thead th {\n",
       "        text-align: right;\n",
       "    }\n",
       "</style>\n",
       "<table border=\"1\" class=\"dataframe\">\n",
       "  <thead>\n",
       "    <tr style=\"text-align: right;\">\n",
       "      <th></th>\n",
       "      <th>ID</th>\n",
       "      <th>shop_id</th>\n",
       "      <th>item_id</th>\n",
       "    </tr>\n",
       "  </thead>\n",
       "  <tbody>\n",
       "    <tr>\n",
       "      <th>0</th>\n",
       "      <td>0</td>\n",
       "      <td>5</td>\n",
       "      <td>5037</td>\n",
       "    </tr>\n",
       "    <tr>\n",
       "      <th>1</th>\n",
       "      <td>1</td>\n",
       "      <td>5</td>\n",
       "      <td>5320</td>\n",
       "    </tr>\n",
       "    <tr>\n",
       "      <th>2</th>\n",
       "      <td>2</td>\n",
       "      <td>5</td>\n",
       "      <td>5233</td>\n",
       "    </tr>\n",
       "    <tr>\n",
       "      <th>3</th>\n",
       "      <td>3</td>\n",
       "      <td>5</td>\n",
       "      <td>5232</td>\n",
       "    </tr>\n",
       "    <tr>\n",
       "      <th>4</th>\n",
       "      <td>4</td>\n",
       "      <td>5</td>\n",
       "      <td>5268</td>\n",
       "    </tr>\n",
       "  </tbody>\n",
       "</table>\n",
       "</div>"
      ],
      "text/plain": [
       "   ID  shop_id  item_id\n",
       "0   0        5     5037\n",
       "1   1        5     5320\n",
       "2   2        5     5233\n",
       "3   3        5     5232\n",
       "4   4        5     5268"
      ]
     },
     "execution_count": 9,
     "metadata": {},
     "output_type": "execute_result"
    }
   ],
   "source": [
    "testDF=pd.read_csv(test)\n",
    "testDF.head()"
   ]
  },
  {
   "cell_type": "markdown",
   "id": "da95bccb",
   "metadata": {
    "papermill": {
     "duration": 0.006612,
     "end_time": "2022-11-12T20:42:11.452592",
     "exception": false,
     "start_time": "2022-11-12T20:42:11.445980",
     "status": "completed"
    },
    "tags": []
   },
   "source": [
    "# Create New Date Features"
   ]
  },
  {
   "cell_type": "code",
   "execution_count": 10,
   "id": "5118c83c",
   "metadata": {
    "execution": {
     "iopub.execute_input": "2022-11-12T20:42:11.469091Z",
     "iopub.status.busy": "2022-11-12T20:42:11.467803Z",
     "iopub.status.idle": "2022-11-12T20:42:12.796600Z",
     "shell.execute_reply": "2022-11-12T20:42:12.795059Z"
    },
    "papermill": {
     "duration": 1.339304,
     "end_time": "2022-11-12T20:42:12.799140",
     "exception": false,
     "start_time": "2022-11-12T20:42:11.459836",
     "status": "completed"
    },
    "tags": []
   },
   "outputs": [
    {
     "name": "stdout",
     "output_type": "stream",
     "text": [
      "[1, 2, 3, 4, 5, 6, 7, 8, 9, 10, 11, 12]\n"
     ]
    }
   ],
   "source": [
    "df['Month'] = df['date'].str[3:5].astype(int)\n",
    "months=list(df['Month'].unique())\n",
    "print(months)"
   ]
  },
  {
   "cell_type": "code",
   "execution_count": 11,
   "id": "242daa4e",
   "metadata": {
    "execution": {
     "iopub.execute_input": "2022-11-12T20:42:12.816084Z",
     "iopub.status.busy": "2022-11-12T20:42:12.815649Z",
     "iopub.status.idle": "2022-11-12T20:42:13.972156Z",
     "shell.execute_reply": "2022-11-12T20:42:13.970812Z"
    },
    "papermill": {
     "duration": 1.167916,
     "end_time": "2022-11-12T20:42:13.974700",
     "exception": false,
     "start_time": "2022-11-12T20:42:12.806784",
     "status": "completed"
    },
    "tags": []
   },
   "outputs": [
    {
     "name": "stdout",
     "output_type": "stream",
     "text": [
      "[1, 2, 3, 4, 5, 6, 7, 8, 9, 10, 11, 12, 13, 14, 15, 16, 17, 18, 19, 20, 21, 22, 23, 24, 25, 26, 27, 28, 29, 30, 31]\n"
     ]
    }
   ],
   "source": [
    "df['Day'] = df['date'].str[:2].astype(int)\n",
    "days=list(sorted(df['Day'].unique()))\n",
    "print(days)"
   ]
  },
  {
   "cell_type": "code",
   "execution_count": 12,
   "id": "97e2208e",
   "metadata": {
    "execution": {
     "iopub.execute_input": "2022-11-12T20:42:13.994216Z",
     "iopub.status.busy": "2022-11-12T20:42:13.993791Z",
     "iopub.status.idle": "2022-11-12T20:42:15.110209Z",
     "shell.execute_reply": "2022-11-12T20:42:15.109177Z"
    },
    "papermill": {
     "duration": 1.130959,
     "end_time": "2022-11-12T20:42:15.113135",
     "exception": false,
     "start_time": "2022-11-12T20:42:13.982176",
     "status": "completed"
    },
    "tags": []
   },
   "outputs": [
    {
     "name": "stdout",
     "output_type": "stream",
     "text": [
      "[2013, 2014, 2015]\n"
     ]
    }
   ],
   "source": [
    "df['Year'] = df['date'].str[6:10].astype(int)\n",
    "years=list(sorted(df['Year'].unique()))\n",
    "print(years)"
   ]
  },
  {
   "cell_type": "code",
   "execution_count": 13,
   "id": "01453f58",
   "metadata": {
    "execution": {
     "iopub.execute_input": "2022-11-12T20:42:15.129214Z",
     "iopub.status.busy": "2022-11-12T20:42:15.128384Z",
     "iopub.status.idle": "2022-11-12T20:42:15.145468Z",
     "shell.execute_reply": "2022-11-12T20:42:15.144391Z"
    },
    "papermill": {
     "duration": 0.029096,
     "end_time": "2022-11-12T20:42:15.149180",
     "exception": false,
     "start_time": "2022-11-12T20:42:15.120084",
     "status": "completed"
    },
    "tags": []
   },
   "outputs": [
    {
     "data": {
      "text/html": [
       "<div>\n",
       "<style scoped>\n",
       "    .dataframe tbody tr th:only-of-type {\n",
       "        vertical-align: middle;\n",
       "    }\n",
       "\n",
       "    .dataframe tbody tr th {\n",
       "        vertical-align: top;\n",
       "    }\n",
       "\n",
       "    .dataframe thead th {\n",
       "        text-align: right;\n",
       "    }\n",
       "</style>\n",
       "<table border=\"1\" class=\"dataframe\">\n",
       "  <thead>\n",
       "    <tr style=\"text-align: right;\">\n",
       "      <th></th>\n",
       "      <th>date</th>\n",
       "      <th>date_block_num</th>\n",
       "      <th>shop_id</th>\n",
       "      <th>item_id</th>\n",
       "      <th>item_price</th>\n",
       "      <th>item_cnt_day</th>\n",
       "      <th>shop_name</th>\n",
       "      <th>Month</th>\n",
       "      <th>Day</th>\n",
       "      <th>Year</th>\n",
       "    </tr>\n",
       "  </thead>\n",
       "  <tbody>\n",
       "    <tr>\n",
       "      <th>0</th>\n",
       "      <td>02.01.2013</td>\n",
       "      <td>0</td>\n",
       "      <td>59</td>\n",
       "      <td>22154</td>\n",
       "      <td>999.0</td>\n",
       "      <td>1.0</td>\n",
       "      <td>Ярославль ТЦ \"Альтаир\"</td>\n",
       "      <td>1</td>\n",
       "      <td>2</td>\n",
       "      <td>2013</td>\n",
       "    </tr>\n",
       "    <tr>\n",
       "      <th>1</th>\n",
       "      <td>10.01.2013</td>\n",
       "      <td>0</td>\n",
       "      <td>59</td>\n",
       "      <td>22151</td>\n",
       "      <td>399.0</td>\n",
       "      <td>1.0</td>\n",
       "      <td>Ярославль ТЦ \"Альтаир\"</td>\n",
       "      <td>1</td>\n",
       "      <td>10</td>\n",
       "      <td>2013</td>\n",
       "    </tr>\n",
       "    <tr>\n",
       "      <th>2</th>\n",
       "      <td>04.01.2013</td>\n",
       "      <td>0</td>\n",
       "      <td>59</td>\n",
       "      <td>5603</td>\n",
       "      <td>699.0</td>\n",
       "      <td>1.0</td>\n",
       "      <td>Ярославль ТЦ \"Альтаир\"</td>\n",
       "      <td>1</td>\n",
       "      <td>4</td>\n",
       "      <td>2013</td>\n",
       "    </tr>\n",
       "    <tr>\n",
       "      <th>3</th>\n",
       "      <td>19.01.2013</td>\n",
       "      <td>0</td>\n",
       "      <td>59</td>\n",
       "      <td>5587</td>\n",
       "      <td>199.0</td>\n",
       "      <td>2.0</td>\n",
       "      <td>Ярославль ТЦ \"Альтаир\"</td>\n",
       "      <td>1</td>\n",
       "      <td>19</td>\n",
       "      <td>2013</td>\n",
       "    </tr>\n",
       "    <tr>\n",
       "      <th>4</th>\n",
       "      <td>31.01.2013</td>\n",
       "      <td>0</td>\n",
       "      <td>59</td>\n",
       "      <td>5613</td>\n",
       "      <td>5571.0</td>\n",
       "      <td>1.0</td>\n",
       "      <td>Ярославль ТЦ \"Альтаир\"</td>\n",
       "      <td>1</td>\n",
       "      <td>31</td>\n",
       "      <td>2013</td>\n",
       "    </tr>\n",
       "    <tr>\n",
       "      <th>5</th>\n",
       "      <td>10.01.2013</td>\n",
       "      <td>0</td>\n",
       "      <td>59</td>\n",
       "      <td>5623</td>\n",
       "      <td>699.0</td>\n",
       "      <td>1.0</td>\n",
       "      <td>Ярославль ТЦ \"Альтаир\"</td>\n",
       "      <td>1</td>\n",
       "      <td>10</td>\n",
       "      <td>2013</td>\n",
       "    </tr>\n",
       "    <tr>\n",
       "      <th>6</th>\n",
       "      <td>14.01.2013</td>\n",
       "      <td>0</td>\n",
       "      <td>59</td>\n",
       "      <td>5623</td>\n",
       "      <td>699.0</td>\n",
       "      <td>1.0</td>\n",
       "      <td>Ярославль ТЦ \"Альтаир\"</td>\n",
       "      <td>1</td>\n",
       "      <td>14</td>\n",
       "      <td>2013</td>\n",
       "    </tr>\n",
       "    <tr>\n",
       "      <th>7</th>\n",
       "      <td>10.01.2013</td>\n",
       "      <td>0</td>\n",
       "      <td>59</td>\n",
       "      <td>5629</td>\n",
       "      <td>2390.0</td>\n",
       "      <td>1.0</td>\n",
       "      <td>Ярославль ТЦ \"Альтаир\"</td>\n",
       "      <td>1</td>\n",
       "      <td>10</td>\n",
       "      <td>2013</td>\n",
       "    </tr>\n",
       "    <tr>\n",
       "      <th>8</th>\n",
       "      <td>04.01.2013</td>\n",
       "      <td>0</td>\n",
       "      <td>59</td>\n",
       "      <td>5643</td>\n",
       "      <td>2390.0</td>\n",
       "      <td>1.0</td>\n",
       "      <td>Ярославль ТЦ \"Альтаир\"</td>\n",
       "      <td>1</td>\n",
       "      <td>4</td>\n",
       "      <td>2013</td>\n",
       "    </tr>\n",
       "    <tr>\n",
       "      <th>9</th>\n",
       "      <td>17.01.2013</td>\n",
       "      <td>0</td>\n",
       "      <td>59</td>\n",
       "      <td>5643</td>\n",
       "      <td>2390.0</td>\n",
       "      <td>2.0</td>\n",
       "      <td>Ярославль ТЦ \"Альтаир\"</td>\n",
       "      <td>1</td>\n",
       "      <td>17</td>\n",
       "      <td>2013</td>\n",
       "    </tr>\n",
       "  </tbody>\n",
       "</table>\n",
       "</div>"
      ],
      "text/plain": [
       "         date  date_block_num  shop_id  item_id  item_price  item_cnt_day  \\\n",
       "0  02.01.2013               0       59    22154       999.0           1.0   \n",
       "1  10.01.2013               0       59    22151       399.0           1.0   \n",
       "2  04.01.2013               0       59     5603       699.0           1.0   \n",
       "3  19.01.2013               0       59     5587       199.0           2.0   \n",
       "4  31.01.2013               0       59     5613      5571.0           1.0   \n",
       "5  10.01.2013               0       59     5623       699.0           1.0   \n",
       "6  14.01.2013               0       59     5623       699.0           1.0   \n",
       "7  10.01.2013               0       59     5629      2390.0           1.0   \n",
       "8  04.01.2013               0       59     5643      2390.0           1.0   \n",
       "9  17.01.2013               0       59     5643      2390.0           2.0   \n",
       "\n",
       "                shop_name  Month  Day  Year  \n",
       "0  Ярославль ТЦ \"Альтаир\"      1    2  2013  \n",
       "1  Ярославль ТЦ \"Альтаир\"      1   10  2013  \n",
       "2  Ярославль ТЦ \"Альтаир\"      1    4  2013  \n",
       "3  Ярославль ТЦ \"Альтаир\"      1   19  2013  \n",
       "4  Ярославль ТЦ \"Альтаир\"      1   31  2013  \n",
       "5  Ярославль ТЦ \"Альтаир\"      1   10  2013  \n",
       "6  Ярославль ТЦ \"Альтаир\"      1   14  2013  \n",
       "7  Ярославль ТЦ \"Альтаир\"      1   10  2013  \n",
       "8  Ярославль ТЦ \"Альтаир\"      1    4  2013  \n",
       "9  Ярославль ТЦ \"Альтаир\"      1   17  2013  "
      ]
     },
     "execution_count": 13,
     "metadata": {},
     "output_type": "execute_result"
    }
   ],
   "source": [
    "df.head(10)"
   ]
  },
  {
   "cell_type": "markdown",
   "id": "caf0d7d4",
   "metadata": {
    "papermill": {
     "duration": 0.007123,
     "end_time": "2022-11-12T20:42:15.163581",
     "exception": false,
     "start_time": "2022-11-12T20:42:15.156458",
     "status": "completed"
    },
    "tags": []
   },
   "source": [
    "# Test Data"
   ]
  },
  {
   "cell_type": "code",
   "execution_count": 14,
   "id": "60598601",
   "metadata": {
    "execution": {
     "iopub.execute_input": "2022-11-12T20:42:15.179633Z",
     "iopub.status.busy": "2022-11-12T20:42:15.179245Z",
     "iopub.status.idle": "2022-11-12T20:42:15.237218Z",
     "shell.execute_reply": "2022-11-12T20:42:15.236154Z"
    },
    "papermill": {
     "duration": 0.069026,
     "end_time": "2022-11-12T20:42:15.239844",
     "exception": false,
     "start_time": "2022-11-12T20:42:15.170818",
     "status": "completed"
    },
    "tags": []
   },
   "outputs": [
    {
     "data": {
      "text/html": [
       "<div>\n",
       "<style scoped>\n",
       "    .dataframe tbody tr th:only-of-type {\n",
       "        vertical-align: middle;\n",
       "    }\n",
       "\n",
       "    .dataframe tbody tr th {\n",
       "        vertical-align: top;\n",
       "    }\n",
       "\n",
       "    .dataframe thead th {\n",
       "        text-align: right;\n",
       "    }\n",
       "</style>\n",
       "<table border=\"1\" class=\"dataframe\">\n",
       "  <thead>\n",
       "    <tr style=\"text-align: right;\">\n",
       "      <th></th>\n",
       "      <th>ID</th>\n",
       "      <th>shop_id</th>\n",
       "      <th>item_id</th>\n",
       "    </tr>\n",
       "  </thead>\n",
       "  <tbody>\n",
       "    <tr>\n",
       "      <th>0</th>\n",
       "      <td>0</td>\n",
       "      <td>5</td>\n",
       "      <td>5037</td>\n",
       "    </tr>\n",
       "    <tr>\n",
       "      <th>1</th>\n",
       "      <td>1</td>\n",
       "      <td>5</td>\n",
       "      <td>5320</td>\n",
       "    </tr>\n",
       "    <tr>\n",
       "      <th>2</th>\n",
       "      <td>2</td>\n",
       "      <td>5</td>\n",
       "      <td>5233</td>\n",
       "    </tr>\n",
       "    <tr>\n",
       "      <th>3</th>\n",
       "      <td>3</td>\n",
       "      <td>5</td>\n",
       "      <td>5232</td>\n",
       "    </tr>\n",
       "    <tr>\n",
       "      <th>4</th>\n",
       "      <td>4</td>\n",
       "      <td>5</td>\n",
       "      <td>5268</td>\n",
       "    </tr>\n",
       "    <tr>\n",
       "      <th>5</th>\n",
       "      <td>5</td>\n",
       "      <td>5</td>\n",
       "      <td>5039</td>\n",
       "    </tr>\n",
       "    <tr>\n",
       "      <th>6</th>\n",
       "      <td>6</td>\n",
       "      <td>5</td>\n",
       "      <td>5041</td>\n",
       "    </tr>\n",
       "    <tr>\n",
       "      <th>7</th>\n",
       "      <td>7</td>\n",
       "      <td>5</td>\n",
       "      <td>5046</td>\n",
       "    </tr>\n",
       "    <tr>\n",
       "      <th>8</th>\n",
       "      <td>8</td>\n",
       "      <td>5</td>\n",
       "      <td>5319</td>\n",
       "    </tr>\n",
       "    <tr>\n",
       "      <th>9</th>\n",
       "      <td>9</td>\n",
       "      <td>5</td>\n",
       "      <td>5003</td>\n",
       "    </tr>\n",
       "  </tbody>\n",
       "</table>\n",
       "</div>"
      ],
      "text/plain": [
       "   ID  shop_id  item_id\n",
       "0   0        5     5037\n",
       "1   1        5     5320\n",
       "2   2        5     5233\n",
       "3   3        5     5232\n",
       "4   4        5     5268\n",
       "5   5        5     5039\n",
       "6   6        5     5041\n",
       "7   7        5     5046\n",
       "8   8        5     5319\n",
       "9   9        5     5003"
      ]
     },
     "execution_count": 14,
     "metadata": {},
     "output_type": "execute_result"
    }
   ],
   "source": [
    "testDF=pd.read_csv(test)\n",
    "testDF.head(10)"
   ]
  },
  {
   "cell_type": "markdown",
   "id": "498b17b5",
   "metadata": {
    "papermill": {
     "duration": 0.007462,
     "end_time": "2022-11-12T20:42:15.254876",
     "exception": false,
     "start_time": "2022-11-12T20:42:15.247414",
     "status": "completed"
    },
    "tags": []
   },
   "source": [
    "# Submit \n",
    "Submissions are evaluated by root mean squared error (RMSE) . True target values are clipped into [0,20] range."
   ]
  },
  {
   "cell_type": "code",
   "execution_count": 15,
   "id": "1ba48f01",
   "metadata": {
    "execution": {
     "iopub.execute_input": "2022-11-12T20:42:15.271972Z",
     "iopub.status.busy": "2022-11-12T20:42:15.271556Z",
     "iopub.status.idle": "2022-11-12T20:42:15.347587Z",
     "shell.execute_reply": "2022-11-12T20:42:15.346743Z"
    },
    "papermill": {
     "duration": 0.087634,
     "end_time": "2022-11-12T20:42:15.350333",
     "exception": false,
     "start_time": "2022-11-12T20:42:15.262699",
     "status": "completed"
    },
    "tags": []
   },
   "outputs": [
    {
     "data": {
      "text/html": [
       "<div>\n",
       "<style scoped>\n",
       "    .dataframe tbody tr th:only-of-type {\n",
       "        vertical-align: middle;\n",
       "    }\n",
       "\n",
       "    .dataframe tbody tr th {\n",
       "        vertical-align: top;\n",
       "    }\n",
       "\n",
       "    .dataframe thead th {\n",
       "        text-align: right;\n",
       "    }\n",
       "</style>\n",
       "<table border=\"1\" class=\"dataframe\">\n",
       "  <thead>\n",
       "    <tr style=\"text-align: right;\">\n",
       "      <th></th>\n",
       "      <th>ID</th>\n",
       "      <th>item_cnt_month</th>\n",
       "    </tr>\n",
       "  </thead>\n",
       "  <tbody>\n",
       "    <tr>\n",
       "      <th>0</th>\n",
       "      <td>0</td>\n",
       "      <td>0.5</td>\n",
       "    </tr>\n",
       "    <tr>\n",
       "      <th>1</th>\n",
       "      <td>1</td>\n",
       "      <td>0.5</td>\n",
       "    </tr>\n",
       "    <tr>\n",
       "      <th>2</th>\n",
       "      <td>2</td>\n",
       "      <td>0.5</td>\n",
       "    </tr>\n",
       "    <tr>\n",
       "      <th>3</th>\n",
       "      <td>3</td>\n",
       "      <td>0.5</td>\n",
       "    </tr>\n",
       "    <tr>\n",
       "      <th>4</th>\n",
       "      <td>4</td>\n",
       "      <td>0.5</td>\n",
       "    </tr>\n",
       "  </tbody>\n",
       "</table>\n",
       "</div>"
      ],
      "text/plain": [
       "   ID  item_cnt_month\n",
       "0   0             0.5\n",
       "1   1             0.5\n",
       "2   2             0.5\n",
       "3   3             0.5\n",
       "4   4             0.5"
      ]
     },
     "execution_count": 15,
     "metadata": {},
     "output_type": "execute_result"
    }
   ],
   "source": [
    "sample=pd.read_csv(sample)\n",
    "sample.head()"
   ]
  }
 ],
 "metadata": {
  "kernelspec": {
   "display_name": "Python 3",
   "language": "python",
   "name": "python3"
  },
  "language_info": {
   "codemirror_mode": {
    "name": "ipython",
    "version": 3
   },
   "file_extension": ".py",
   "mimetype": "text/x-python",
   "name": "python",
   "nbconvert_exporter": "python",
   "pygments_lexer": "ipython3",
   "version": "3.7.12"
  },
  "papermill": {
   "default_parameters": {},
   "duration": 17.956052,
   "end_time": "2022-11-12T20:42:16.084353",
   "environment_variables": {},
   "exception": null,
   "input_path": "__notebook__.ipynb",
   "output_path": "__notebook__.ipynb",
   "parameters": {},
   "start_time": "2022-11-12T20:41:58.128301",
   "version": "2.3.4"
  }
 },
 "nbformat": 4,
 "nbformat_minor": 5
}
