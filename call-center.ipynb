{
 "cells": [
  {
   "cell_type": "markdown",
   "id": "38a262e6",
   "metadata": {
    "papermill": {
     "duration": 0.00492,
     "end_time": "2023-06-05T01:28:05.967801",
     "exception": false,
     "start_time": "2023-06-05T01:28:05.962881",
     "status": "completed"
    },
    "tags": []
   },
   "source": [
    "# Call Center\n",
    "Original Dataset: https://www.kaggle.com/datasets/satvicoder/call-center-data"
   ]
  },
  {
   "cell_type": "markdown",
   "id": "7b70abc8",
   "metadata": {
    "papermill": {
     "duration": 0.004089,
     "end_time": "2023-06-05T01:28:05.976437",
     "exception": false,
     "start_time": "2023-06-05T01:28:05.972348",
     "status": "completed"
    },
    "tags": []
   },
   "source": [
    "Ten most important call center features to analyze are as follows:\n",
    "1. Call Volume and Trends: Analyze the call volume over time to identify patterns, peak hours, and trends. This can help you understand the workload distribution and optimize staffing levels. Look for patterns in call volume across days, weeks, or months to allocate resources effectively.\n",
    "\n",
    "2. Average Call Duration: Calculate the average duration of calls and identify any outliers or excessively long calls. This can provide insights into call complexity, customer issues, or potential areas for improvement in call handling processes.\n",
    "\n",
    "3. Response Time: Evaluate the response time metrics, such as the average speed to answer calls or the average hold time. Analyze if there are any delays in answering calls and identify opportunities to reduce wait times and improve customer satisfaction.\n",
    "\n",
    "4. Call Resolution Rate: Assess the rate at which calls are resolved on the first contact. Analyze the percentage of calls that require multiple interactions or escalations. This can indicate the effectiveness of your call center agents and the need for additional training or resources.\n",
    "\n",
    "5. Customer Satisfaction: Gather customer feedback through surveys or post-call rating systems to measure customer satisfaction levels. Analyze customer satisfaction scores or comments to identify common pain points, areas for improvement, or successful customer interactions.\n",
    "\n",
    "6. Call Reasons and Categories: Categorize and analyze the reasons for customer calls. This can help identify the most frequent issues or inquiries. Understanding the primary reasons for calls can guide process improvements, self-service initiatives, or training programs for call center agents.\n",
    "\n",
    "7. Agent Performance: Evaluate individual agent performance metrics, such as call handling time, call resolution rate, customer satisfaction scores, or adherence to scripts/guidelines. Identify top-performing agents and areas where additional support or training may be needed.\n",
    "\n",
    "8. Call Abandonment Rate: Monitor the rate at which customers abandon calls before reaching an agent. Analyze if there are any patterns or common reasons for call abandonment. This can highlight potential issues with wait times, IVR systems, or call routing.\n",
    "\n",
    "9. Customer Segmentation: Segment customers based on various criteria such as demographics, call history, or customer value. Analyze the call patterns and needs of different customer segments to tailor your service offerings, provide personalized experiences, or identify areas for upselling/cross-selling.\n",
    "\n",
    "10. Operational Efficiency: Evaluate metrics related to call center operations, such as average handle time, call transfer rate, or agent occupancy rate. Identify bottlenecks or inefficiencies in call routing, workflow processes, or technology systems that impact operational efficiency."
   ]
  },
  {
   "cell_type": "markdown",
   "id": "57927b66",
   "metadata": {
    "papermill": {
     "duration": 0.00405,
     "end_time": "2023-06-05T01:28:05.984891",
     "exception": false,
     "start_time": "2023-06-05T01:28:05.980841",
     "status": "completed"
    },
    "tags": []
   },
   "source": [
    "## Read Data"
   ]
  },
  {
   "cell_type": "code",
   "execution_count": 1,
   "id": "37156141",
   "metadata": {
    "execution": {
     "iopub.execute_input": "2023-06-05T01:28:05.995533Z",
     "iopub.status.busy": "2023-06-05T01:28:05.995097Z",
     "iopub.status.idle": "2023-06-05T01:28:06.007459Z",
     "shell.execute_reply": "2023-06-05T01:28:06.006047Z"
    },
    "papermill": {
     "duration": 0.020794,
     "end_time": "2023-06-05T01:28:06.010092",
     "exception": false,
     "start_time": "2023-06-05T01:28:05.989298",
     "status": "completed"
    },
    "tags": []
   },
   "outputs": [],
   "source": [
    "import numpy as np \n",
    "import pandas as pd \n",
    "file=r'/kaggle/input/call-center-data/Call Center Data.csv'"
   ]
  },
  {
   "cell_type": "code",
   "execution_count": 2,
   "id": "67495b0d",
   "metadata": {
    "execution": {
     "iopub.execute_input": "2023-06-05T01:28:06.021808Z",
     "iopub.status.busy": "2023-06-05T01:28:06.020706Z",
     "iopub.status.idle": "2023-06-05T01:28:06.095876Z",
     "shell.execute_reply": "2023-06-05T01:28:06.094510Z"
    },
    "papermill": {
     "duration": 0.083821,
     "end_time": "2023-06-05T01:28:06.098602",
     "exception": false,
     "start_time": "2023-06-05T01:28:06.014781",
     "status": "completed"
    },
    "tags": []
   },
   "outputs": [
    {
     "name": "stdout",
     "output_type": "stream",
     "text": [
      "1251\n"
     ]
    },
    {
     "data": {
      "text/html": [
       "<div>\n",
       "<style scoped>\n",
       "    .dataframe tbody tr th:only-of-type {\n",
       "        vertical-align: middle;\n",
       "    }\n",
       "\n",
       "    .dataframe tbody tr th {\n",
       "        vertical-align: top;\n",
       "    }\n",
       "\n",
       "    .dataframe thead th {\n",
       "        text-align: right;\n",
       "    }\n",
       "</style>\n",
       "<table border=\"1\" class=\"dataframe\">\n",
       "  <thead>\n",
       "    <tr style=\"text-align: right;\">\n",
       "      <th></th>\n",
       "      <th>Index</th>\n",
       "      <th>Incoming Calls</th>\n",
       "      <th>Answered Calls</th>\n",
       "      <th>Answer Rate</th>\n",
       "      <th>Abandoned Calls</th>\n",
       "      <th>Answer Speed (AVG)</th>\n",
       "      <th>Talk Duration (AVG)</th>\n",
       "      <th>Waiting Time (AVG)</th>\n",
       "      <th>Service Level (20 Seconds)</th>\n",
       "    </tr>\n",
       "  </thead>\n",
       "  <tbody>\n",
       "    <tr>\n",
       "      <th>0</th>\n",
       "      <td>1</td>\n",
       "      <td>217</td>\n",
       "      <td>204</td>\n",
       "      <td>94.01%</td>\n",
       "      <td>13</td>\n",
       "      <td>0:00:17</td>\n",
       "      <td>0:02:14</td>\n",
       "      <td>0:02:45</td>\n",
       "      <td>76.28%</td>\n",
       "    </tr>\n",
       "    <tr>\n",
       "      <th>1</th>\n",
       "      <td>2</td>\n",
       "      <td>200</td>\n",
       "      <td>182</td>\n",
       "      <td>91.00%</td>\n",
       "      <td>18</td>\n",
       "      <td>0:00:20</td>\n",
       "      <td>0:02:22</td>\n",
       "      <td>0:06:55</td>\n",
       "      <td>72.73%</td>\n",
       "    </tr>\n",
       "    <tr>\n",
       "      <th>2</th>\n",
       "      <td>3</td>\n",
       "      <td>216</td>\n",
       "      <td>198</td>\n",
       "      <td>91.67%</td>\n",
       "      <td>18</td>\n",
       "      <td>0:00:18</td>\n",
       "      <td>0:02:38</td>\n",
       "      <td>0:03:50</td>\n",
       "      <td>74.30%</td>\n",
       "    </tr>\n",
       "    <tr>\n",
       "      <th>3</th>\n",
       "      <td>4</td>\n",
       "      <td>155</td>\n",
       "      <td>145</td>\n",
       "      <td>93.55%</td>\n",
       "      <td>10</td>\n",
       "      <td>0:00:15</td>\n",
       "      <td>0:02:29</td>\n",
       "      <td>0:03:12</td>\n",
       "      <td>79.61%</td>\n",
       "    </tr>\n",
       "    <tr>\n",
       "      <th>4</th>\n",
       "      <td>5</td>\n",
       "      <td>37</td>\n",
       "      <td>37</td>\n",
       "      <td>100.00%</td>\n",
       "      <td>0</td>\n",
       "      <td>0:00:03</td>\n",
       "      <td>0:02:06</td>\n",
       "      <td>0:00:35</td>\n",
       "      <td>97.30%</td>\n",
       "    </tr>\n",
       "    <tr>\n",
       "      <th>5</th>\n",
       "      <td>6</td>\n",
       "      <td>315</td>\n",
       "      <td>304</td>\n",
       "      <td>96.51%</td>\n",
       "      <td>11</td>\n",
       "      <td>0:00:18</td>\n",
       "      <td>0:01:35</td>\n",
       "      <td>0:02:37</td>\n",
       "      <td>77.17%</td>\n",
       "    </tr>\n",
       "    <tr>\n",
       "      <th>6</th>\n",
       "      <td>7</td>\n",
       "      <td>252</td>\n",
       "      <td>244</td>\n",
       "      <td>96.83%</td>\n",
       "      <td>8</td>\n",
       "      <td>0:00:13</td>\n",
       "      <td>0:01:50</td>\n",
       "      <td>0:02:02</td>\n",
       "      <td>82.00%</td>\n",
       "    </tr>\n",
       "    <tr>\n",
       "      <th>7</th>\n",
       "      <td>8</td>\n",
       "      <td>213</td>\n",
       "      <td>205</td>\n",
       "      <td>96.24%</td>\n",
       "      <td>8</td>\n",
       "      <td>0:00:10</td>\n",
       "      <td>0:02:10</td>\n",
       "      <td>0:03:22</td>\n",
       "      <td>88.10%</td>\n",
       "    </tr>\n",
       "    <tr>\n",
       "      <th>8</th>\n",
       "      <td>9</td>\n",
       "      <td>219</td>\n",
       "      <td>200</td>\n",
       "      <td>91.32%</td>\n",
       "      <td>19</td>\n",
       "      <td>0:00:15</td>\n",
       "      <td>0:02:18</td>\n",
       "      <td>0:06:12</td>\n",
       "      <td>79.45%</td>\n",
       "    </tr>\n",
       "    <tr>\n",
       "      <th>9</th>\n",
       "      <td>10</td>\n",
       "      <td>371</td>\n",
       "      <td>348</td>\n",
       "      <td>93.80%</td>\n",
       "      <td>23</td>\n",
       "      <td>0:00:19</td>\n",
       "      <td>0:01:40</td>\n",
       "      <td>0:03:29</td>\n",
       "      <td>73.63%</td>\n",
       "    </tr>\n",
       "  </tbody>\n",
       "</table>\n",
       "</div>"
      ],
      "text/plain": [
       "   Index  Incoming Calls  Answered Calls Answer Rate  Abandoned Calls  \\\n",
       "0      1             217             204      94.01%               13   \n",
       "1      2             200             182      91.00%               18   \n",
       "2      3             216             198      91.67%               18   \n",
       "3      4             155             145      93.55%               10   \n",
       "4      5              37              37     100.00%                0   \n",
       "5      6             315             304      96.51%               11   \n",
       "6      7             252             244      96.83%                8   \n",
       "7      8             213             205      96.24%                8   \n",
       "8      9             219             200      91.32%               19   \n",
       "9     10             371             348      93.80%               23   \n",
       "\n",
       "  Answer Speed (AVG) Talk Duration (AVG) Waiting Time (AVG)  \\\n",
       "0            0:00:17             0:02:14            0:02:45   \n",
       "1            0:00:20             0:02:22            0:06:55   \n",
       "2            0:00:18             0:02:38            0:03:50   \n",
       "3            0:00:15             0:02:29            0:03:12   \n",
       "4            0:00:03             0:02:06            0:00:35   \n",
       "5            0:00:18             0:01:35            0:02:37   \n",
       "6            0:00:13             0:01:50            0:02:02   \n",
       "7            0:00:10             0:02:10            0:03:22   \n",
       "8            0:00:15             0:02:18            0:06:12   \n",
       "9            0:00:19             0:01:40            0:03:29   \n",
       "\n",
       "  Service Level (20 Seconds)  \n",
       "0                     76.28%  \n",
       "1                     72.73%  \n",
       "2                     74.30%  \n",
       "3                     79.61%  \n",
       "4                     97.30%  \n",
       "5                     77.17%  \n",
       "6                     82.00%  \n",
       "7                     88.10%  \n",
       "8                     79.45%  \n",
       "9                     73.63%  "
      ]
     },
     "execution_count": 2,
     "metadata": {},
     "output_type": "execute_result"
    }
   ],
   "source": [
    "df=pd.read_csv(file)\n",
    "print(len(df))\n",
    "df.head(10)"
   ]
  },
  {
   "cell_type": "markdown",
   "id": "62b213e6",
   "metadata": {
    "papermill": {
     "duration": 0.004701,
     "end_time": "2023-06-05T01:28:06.108409",
     "exception": false,
     "start_time": "2023-06-05T01:28:06.103708",
     "status": "completed"
    },
    "tags": []
   },
   "source": [
    "## Missing Values\n",
    "There are luckily no missing values that we need to worry about."
   ]
  },
  {
   "cell_type": "code",
   "execution_count": 3,
   "id": "095a16d7",
   "metadata": {
    "execution": {
     "iopub.execute_input": "2023-06-05T01:28:06.120314Z",
     "iopub.status.busy": "2023-06-05T01:28:06.119876Z",
     "iopub.status.idle": "2023-06-05T01:28:06.136348Z",
     "shell.execute_reply": "2023-06-05T01:28:06.134943Z"
    },
    "papermill": {
     "duration": 0.026035,
     "end_time": "2023-06-05T01:28:06.139372",
     "exception": false,
     "start_time": "2023-06-05T01:28:06.113337",
     "status": "completed"
    },
    "tags": []
   },
   "outputs": [
    {
     "data": {
      "text/plain": [
       "Index                         0.0\n",
       "Incoming Calls                0.0\n",
       "Answered Calls                0.0\n",
       "Answer Rate                   0.0\n",
       "Abandoned Calls               0.0\n",
       "Answer Speed (AVG)            0.0\n",
       "Talk Duration (AVG)           0.0\n",
       "Waiting Time (AVG)            0.0\n",
       "Service Level (20 Seconds)    0.0\n",
       "dtype: float64"
      ]
     },
     "execution_count": 3,
     "metadata": {},
     "output_type": "execute_result"
    }
   ],
   "source": [
    "percent_missing = df.isnull().sum() * 100 / len(df)\n",
    "percent_missing"
   ]
  },
  {
   "cell_type": "code",
   "execution_count": 4,
   "id": "45b1c73d",
   "metadata": {
    "execution": {
     "iopub.execute_input": "2023-06-05T01:28:06.151927Z",
     "iopub.status.busy": "2023-06-05T01:28:06.151497Z",
     "iopub.status.idle": "2023-06-05T01:28:06.160071Z",
     "shell.execute_reply": "2023-06-05T01:28:06.158863Z"
    },
    "papermill": {
     "duration": 0.018217,
     "end_time": "2023-06-05T01:28:06.162950",
     "exception": false,
     "start_time": "2023-06-05T01:28:06.144733",
     "status": "completed"
    },
    "tags": []
   },
   "outputs": [
    {
     "data": {
      "text/plain": [
       "Index                          int64\n",
       "Incoming Calls                 int64\n",
       "Answered Calls                 int64\n",
       "Answer Rate                   object\n",
       "Abandoned Calls                int64\n",
       "Answer Speed (AVG)            object\n",
       "Talk Duration (AVG)           object\n",
       "Waiting Time (AVG)            object\n",
       "Service Level (20 Seconds)    object\n",
       "dtype: object"
      ]
     },
     "execution_count": 4,
     "metadata": {},
     "output_type": "execute_result"
    }
   ],
   "source": [
    "df.dtypes"
   ]
  },
  {
   "cell_type": "code",
   "execution_count": 5,
   "id": "bcaa589c",
   "metadata": {
    "execution": {
     "iopub.execute_input": "2023-06-05T01:28:06.175878Z",
     "iopub.status.busy": "2023-06-05T01:28:06.175257Z",
     "iopub.status.idle": "2023-06-05T01:28:06.188436Z",
     "shell.execute_reply": "2023-06-05T01:28:06.186949Z"
    },
    "papermill": {
     "duration": 0.022666,
     "end_time": "2023-06-05T01:28:06.191052",
     "exception": false,
     "start_time": "2023-06-05T01:28:06.168386",
     "status": "completed"
    },
    "tags": []
   },
   "outputs": [],
   "source": [
    "# Change the wait time which in object time form into minutes:\n",
    "df['Waiting Time (AVG)'] = df['Waiting Time (AVG)'].apply(lambda x: sum(int(i) * 60 ** index for index, i in enumerate(x.split(':')[::-1])))"
   ]
  },
  {
   "cell_type": "markdown",
   "id": "d3dee1d1",
   "metadata": {
    "papermill": {
     "duration": 0.004865,
     "end_time": "2023-06-05T01:28:06.201197",
     "exception": false,
     "start_time": "2023-06-05T01:28:06.196332",
     "status": "completed"
    },
    "tags": []
   },
   "source": [
    "## Top Abandon Calls\n"
   ]
  },
  {
   "cell_type": "code",
   "execution_count": 6,
   "id": "f1c50cd0",
   "metadata": {
    "execution": {
     "iopub.execute_input": "2023-06-05T01:28:06.215087Z",
     "iopub.status.busy": "2023-06-05T01:28:06.214679Z",
     "iopub.status.idle": "2023-06-05T01:28:06.238944Z",
     "shell.execute_reply": "2023-06-05T01:28:06.237874Z"
    },
    "papermill": {
     "duration": 0.035279,
     "end_time": "2023-06-05T01:28:06.241736",
     "exception": false,
     "start_time": "2023-06-05T01:28:06.206457",
     "status": "completed"
    },
    "tags": []
   },
   "outputs": [
    {
     "data": {
      "text/html": [
       "<div>\n",
       "<style scoped>\n",
       "    .dataframe tbody tr th:only-of-type {\n",
       "        vertical-align: middle;\n",
       "    }\n",
       "\n",
       "    .dataframe tbody tr th {\n",
       "        vertical-align: top;\n",
       "    }\n",
       "\n",
       "    .dataframe thead th {\n",
       "        text-align: right;\n",
       "    }\n",
       "</style>\n",
       "<table border=\"1\" class=\"dataframe\">\n",
       "  <thead>\n",
       "    <tr style=\"text-align: right;\">\n",
       "      <th></th>\n",
       "      <th>Index</th>\n",
       "      <th>Abandoned_perc</th>\n",
       "      <th>Waiting Time (AVG)</th>\n",
       "    </tr>\n",
       "  </thead>\n",
       "  <tbody>\n",
       "    <tr>\n",
       "      <th>693</th>\n",
       "      <td>694</td>\n",
       "      <td>3.5259</td>\n",
       "      <td>1376</td>\n",
       "    </tr>\n",
       "    <tr>\n",
       "      <th>692</th>\n",
       "      <td>693</td>\n",
       "      <td>3.2816</td>\n",
       "      <td>938</td>\n",
       "    </tr>\n",
       "    <tr>\n",
       "      <th>691</th>\n",
       "      <td>692</td>\n",
       "      <td>3.1667</td>\n",
       "      <td>1047</td>\n",
       "    </tr>\n",
       "    <tr>\n",
       "      <th>694</th>\n",
       "      <td>695</td>\n",
       "      <td>2.0348</td>\n",
       "      <td>1155</td>\n",
       "    </tr>\n",
       "    <tr>\n",
       "      <th>842</th>\n",
       "      <td>843</td>\n",
       "      <td>1.3532</td>\n",
       "      <td>1357</td>\n",
       "    </tr>\n",
       "    <tr>\n",
       "      <th>840</th>\n",
       "      <td>841</td>\n",
       "      <td>1.2004</td>\n",
       "      <td>804</td>\n",
       "    </tr>\n",
       "    <tr>\n",
       "      <th>684</th>\n",
       "      <td>685</td>\n",
       "      <td>1.1765</td>\n",
       "      <td>661</td>\n",
       "    </tr>\n",
       "    <tr>\n",
       "      <th>835</th>\n",
       "      <td>836</td>\n",
       "      <td>1.0941</td>\n",
       "      <td>985</td>\n",
       "    </tr>\n",
       "    <tr>\n",
       "      <th>798</th>\n",
       "      <td>799</td>\n",
       "      <td>1.0000</td>\n",
       "      <td>738</td>\n",
       "    </tr>\n",
       "    <tr>\n",
       "      <th>799</th>\n",
       "      <td>800</td>\n",
       "      <td>0.9946</td>\n",
       "      <td>998</td>\n",
       "    </tr>\n",
       "    <tr>\n",
       "      <th>800</th>\n",
       "      <td>801</td>\n",
       "      <td>0.9336</td>\n",
       "      <td>1302</td>\n",
       "    </tr>\n",
       "    <tr>\n",
       "      <th>837</th>\n",
       "      <td>838</td>\n",
       "      <td>0.9315</td>\n",
       "      <td>994</td>\n",
       "    </tr>\n",
       "    <tr>\n",
       "      <th>912</th>\n",
       "      <td>913</td>\n",
       "      <td>0.8705</td>\n",
       "      <td>1551</td>\n",
       "    </tr>\n",
       "    <tr>\n",
       "      <th>838</th>\n",
       "      <td>839</td>\n",
       "      <td>0.8083</td>\n",
       "      <td>1365</td>\n",
       "    </tr>\n",
       "    <tr>\n",
       "      <th>801</th>\n",
       "      <td>802</td>\n",
       "      <td>0.8052</td>\n",
       "      <td>744</td>\n",
       "    </tr>\n",
       "  </tbody>\n",
       "</table>\n",
       "</div>"
      ],
      "text/plain": [
       "     Index  Abandoned_perc  Waiting Time (AVG)\n",
       "693    694          3.5259                1376\n",
       "692    693          3.2816                 938\n",
       "691    692          3.1667                1047\n",
       "694    695          2.0348                1155\n",
       "842    843          1.3532                1357\n",
       "840    841          1.2004                 804\n",
       "684    685          1.1765                 661\n",
       "835    836          1.0941                 985\n",
       "798    799          1.0000                 738\n",
       "799    800          0.9946                 998\n",
       "800    801          0.9336                1302\n",
       "837    838          0.9315                 994\n",
       "912    913          0.8705                1551\n",
       "838    839          0.8083                1365\n",
       "801    802          0.8052                 744"
      ]
     },
     "execution_count": 6,
     "metadata": {},
     "output_type": "execute_result"
    }
   ],
   "source": [
    "# Transform into a percent:\n",
    "df['Abandoned_perc']=df['Abandoned Calls']/df['Answered Calls']\n",
    "df['Abandoned_perc']=df['Abandoned_perc'].round(4)\n",
    "abandonDF=df[['Index', 'Abandoned_perc', 'Waiting Time (AVG)']].sort_values(by=['Abandoned_perc'], ascending=False)\n",
    "abandonDF.head(15)"
   ]
  },
  {
   "cell_type": "code",
   "execution_count": 7,
   "id": "708f5d4f",
   "metadata": {
    "execution": {
     "iopub.execute_input": "2023-06-05T01:28:06.255199Z",
     "iopub.status.busy": "2023-06-05T01:28:06.254781Z",
     "iopub.status.idle": "2023-06-05T01:28:06.267168Z",
     "shell.execute_reply": "2023-06-05T01:28:06.265328Z"
    },
    "papermill": {
     "duration": 0.022533,
     "end_time": "2023-06-05T01:28:06.270087",
     "exception": false,
     "start_time": "2023-06-05T01:28:06.247554",
     "status": "completed"
    },
    "tags": []
   },
   "outputs": [
    {
     "name": "stdout",
     "output_type": "stream",
     "text": [
      "0.6427186061807728\n"
     ]
    }
   ],
   "source": [
    "corr=df['Abandoned_perc'].corr(df['Waiting Time (AVG)'])\n",
    "print(corr)"
   ]
  }
 ],
 "metadata": {
  "kernelspec": {
   "display_name": "Python 3",
   "language": "python",
   "name": "python3"
  },
  "language_info": {
   "codemirror_mode": {
    "name": "ipython",
    "version": 3
   },
   "file_extension": ".py",
   "mimetype": "text/x-python",
   "name": "python",
   "nbconvert_exporter": "python",
   "pygments_lexer": "ipython3",
   "version": "3.10.10"
  },
  "papermill": {
   "default_parameters": {},
   "duration": 18.778663,
   "end_time": "2023-06-05T01:28:07.199112",
   "environment_variables": {},
   "exception": null,
   "input_path": "__notebook__.ipynb",
   "output_path": "__notebook__.ipynb",
   "parameters": {},
   "start_time": "2023-06-05T01:27:48.420449",
   "version": "2.4.0"
  }
 },
 "nbformat": 4,
 "nbformat_minor": 5
}
