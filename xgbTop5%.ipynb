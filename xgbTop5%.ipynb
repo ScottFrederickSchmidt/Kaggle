{
 "cells": [
  {
   "cell_type": "markdown",
   "id": "5cebf7d7",
   "metadata": {
    "papermill": {
     "duration": 0.033292,
     "end_time": "2022-09-22T20:13:51.160806",
     "exception": false,
     "start_time": "2022-09-22T20:13:51.127514",
     "status": "completed"
    },
    "tags": []
   },
   "source": [
    "# XG Boost GridSearch\n",
    "Use machine learning to create a model that predicts which passengers survived the Titanic shipwreck. My original with all models that scored top 5%:\n",
    "https://github.com/ScottySchmidt/Kaggle/blob/main/Titanic.ipynb\n",
    "\n",
    "### Special Notes:\n",
    "* Top 5% when tune 7 parameters more extensively \n",
    "* Tunning four paramters with grid search scores top 18%\n",
    "* Regular XB Boost with no tunning scores top 60%"
   ]
  },
  {
   "cell_type": "markdown",
   "id": "5cfe946c",
   "metadata": {
    "papermill": {
     "duration": 0.030309,
     "end_time": "2022-09-22T20:13:51.222313",
     "exception": false,
     "start_time": "2022-09-22T20:13:51.192004",
     "status": "completed"
    },
    "tags": []
   },
   "source": [
    "# Train Data\n",
    "Train.csv will contain the details of a subset of the passengers on board (891 to be exact) and whether they survive or not. The shape of the train data is (891, 12). "
   ]
  },
  {
   "cell_type": "code",
   "execution_count": 1,
   "id": "6c1fd318",
   "metadata": {
    "execution": {
     "iopub.execute_input": "2022-09-22T20:13:51.286085Z",
     "iopub.status.busy": "2022-09-22T20:13:51.285580Z",
     "iopub.status.idle": "2022-09-22T20:13:52.875990Z",
     "shell.execute_reply": "2022-09-22T20:13:52.874857Z"
    },
    "papermill": {
     "duration": 1.625282,
     "end_time": "2022-09-22T20:13:52.878203",
     "exception": false,
     "start_time": "2022-09-22T20:13:51.252921",
     "status": "completed"
    },
    "tags": []
   },
   "outputs": [
    {
     "name": "stdout",
     "output_type": "stream",
     "text": [
      "(891, 12)\n"
     ]
    },
    {
     "data": {
      "text/html": [
       "<div>\n",
       "<style scoped>\n",
       "    .dataframe tbody tr th:only-of-type {\n",
       "        vertical-align: middle;\n",
       "    }\n",
       "\n",
       "    .dataframe tbody tr th {\n",
       "        vertical-align: top;\n",
       "    }\n",
       "\n",
       "    .dataframe thead th {\n",
       "        text-align: right;\n",
       "    }\n",
       "</style>\n",
       "<table border=\"1\" class=\"dataframe\">\n",
       "  <thead>\n",
       "    <tr style=\"text-align: right;\">\n",
       "      <th></th>\n",
       "      <th>PassengerId</th>\n",
       "      <th>Survived</th>\n",
       "      <th>Pclass</th>\n",
       "      <th>Name</th>\n",
       "      <th>Sex</th>\n",
       "      <th>Age</th>\n",
       "      <th>SibSp</th>\n",
       "      <th>Parch</th>\n",
       "      <th>Ticket</th>\n",
       "      <th>Fare</th>\n",
       "      <th>Cabin</th>\n",
       "      <th>Embarked</th>\n",
       "    </tr>\n",
       "  </thead>\n",
       "  <tbody>\n",
       "    <tr>\n",
       "      <th>0</th>\n",
       "      <td>1</td>\n",
       "      <td>0</td>\n",
       "      <td>3</td>\n",
       "      <td>Braund, Mr. Owen Harris</td>\n",
       "      <td>male</td>\n",
       "      <td>22.0</td>\n",
       "      <td>1</td>\n",
       "      <td>0</td>\n",
       "      <td>A/5 21171</td>\n",
       "      <td>7.2500</td>\n",
       "      <td>NaN</td>\n",
       "      <td>S</td>\n",
       "    </tr>\n",
       "    <tr>\n",
       "      <th>1</th>\n",
       "      <td>2</td>\n",
       "      <td>1</td>\n",
       "      <td>1</td>\n",
       "      <td>Cumings, Mrs. John Bradley (Florence Briggs Th...</td>\n",
       "      <td>female</td>\n",
       "      <td>38.0</td>\n",
       "      <td>1</td>\n",
       "      <td>0</td>\n",
       "      <td>PC 17599</td>\n",
       "      <td>71.2833</td>\n",
       "      <td>C85</td>\n",
       "      <td>C</td>\n",
       "    </tr>\n",
       "    <tr>\n",
       "      <th>2</th>\n",
       "      <td>3</td>\n",
       "      <td>1</td>\n",
       "      <td>3</td>\n",
       "      <td>Heikkinen, Miss. Laina</td>\n",
       "      <td>female</td>\n",
       "      <td>26.0</td>\n",
       "      <td>0</td>\n",
       "      <td>0</td>\n",
       "      <td>STON/O2. 3101282</td>\n",
       "      <td>7.9250</td>\n",
       "      <td>NaN</td>\n",
       "      <td>S</td>\n",
       "    </tr>\n",
       "    <tr>\n",
       "      <th>3</th>\n",
       "      <td>4</td>\n",
       "      <td>1</td>\n",
       "      <td>1</td>\n",
       "      <td>Futrelle, Mrs. Jacques Heath (Lily May Peel)</td>\n",
       "      <td>female</td>\n",
       "      <td>35.0</td>\n",
       "      <td>1</td>\n",
       "      <td>0</td>\n",
       "      <td>113803</td>\n",
       "      <td>53.1000</td>\n",
       "      <td>C123</td>\n",
       "      <td>S</td>\n",
       "    </tr>\n",
       "    <tr>\n",
       "      <th>4</th>\n",
       "      <td>5</td>\n",
       "      <td>0</td>\n",
       "      <td>3</td>\n",
       "      <td>Allen, Mr. William Henry</td>\n",
       "      <td>male</td>\n",
       "      <td>35.0</td>\n",
       "      <td>0</td>\n",
       "      <td>0</td>\n",
       "      <td>373450</td>\n",
       "      <td>8.0500</td>\n",
       "      <td>NaN</td>\n",
       "      <td>S</td>\n",
       "    </tr>\n",
       "  </tbody>\n",
       "</table>\n",
       "</div>"
      ],
      "text/plain": [
       "   PassengerId  Survived  Pclass  \\\n",
       "0            1         0       3   \n",
       "1            2         1       1   \n",
       "2            3         1       3   \n",
       "3            4         1       1   \n",
       "4            5         0       3   \n",
       "\n",
       "                                                Name     Sex   Age  SibSp  \\\n",
       "0                            Braund, Mr. Owen Harris    male  22.0      1   \n",
       "1  Cumings, Mrs. John Bradley (Florence Briggs Th...  female  38.0      1   \n",
       "2                             Heikkinen, Miss. Laina  female  26.0      0   \n",
       "3       Futrelle, Mrs. Jacques Heath (Lily May Peel)  female  35.0      1   \n",
       "4                           Allen, Mr. William Henry    male  35.0      0   \n",
       "\n",
       "   Parch            Ticket     Fare Cabin Embarked  \n",
       "0      0         A/5 21171   7.2500   NaN        S  \n",
       "1      0          PC 17599  71.2833   C85        C  \n",
       "2      0  STON/O2. 3101282   7.9250   NaN        S  \n",
       "3      0            113803  53.1000  C123        S  \n",
       "4      0            373450   8.0500   NaN        S  "
      ]
     },
     "execution_count": 1,
     "metadata": {},
     "output_type": "execute_result"
    }
   ],
   "source": [
    "import numpy as np\n",
    "import pandas as pd\n",
    "import seaborn as sns\n",
    "import matplotlib.pyplot as plt\n",
    "from sklearn.model_selection import train_test_split, cross_validate\n",
    "from statistics import mean\n",
    "from sklearn.metrics import accuracy_score, classification_report, mean_absolute_error, mean_squared_error, r2_score\n",
    "from sklearn.datasets import make_classification\n",
    "from sklearn import ensemble\n",
    "import sklearn.metrics as metrics\n",
    "import time\n",
    "from math import sqrt\n",
    "\n",
    "train=r'/kaggle/input/titanic/train.csv'\n",
    "test=r'/kaggle/input/titanic/test.csv' \n",
    "\n",
    "df=pd.read_csv(train)\n",
    "test=pd.read_csv(test)\n",
    "\n",
    "print(df.shape)\n",
    "df.head()"
   ]
  },
  {
   "cell_type": "code",
   "execution_count": 2,
   "id": "31da3548",
   "metadata": {
    "execution": {
     "iopub.execute_input": "2022-09-22T20:13:52.946862Z",
     "iopub.status.busy": "2022-09-22T20:13:52.946551Z",
     "iopub.status.idle": "2022-09-22T20:13:52.953675Z",
     "shell.execute_reply": "2022-09-22T20:13:52.952925Z"
    },
    "papermill": {
     "duration": 0.043395,
     "end_time": "2022-09-22T20:13:52.955681",
     "exception": false,
     "start_time": "2022-09-22T20:13:52.912286",
     "status": "completed"
    },
    "tags": []
   },
   "outputs": [
    {
     "data": {
      "text/plain": [
       "PassengerId      int64\n",
       "Survived         int64\n",
       "Pclass           int64\n",
       "Name            object\n",
       "Sex             object\n",
       "Age            float64\n",
       "SibSp            int64\n",
       "Parch            int64\n",
       "Ticket          object\n",
       "Fare           float64\n",
       "Cabin           object\n",
       "Embarked        object\n",
       "dtype: object"
      ]
     },
     "execution_count": 2,
     "metadata": {},
     "output_type": "execute_result"
    }
   ],
   "source": [
    "df.dtypes"
   ]
  },
  {
   "cell_type": "code",
   "execution_count": 3,
   "id": "fb34e48b",
   "metadata": {
    "execution": {
     "iopub.execute_input": "2022-09-22T20:13:53.024389Z",
     "iopub.status.busy": "2022-09-22T20:13:53.024120Z",
     "iopub.status.idle": "2022-09-22T20:13:53.050485Z",
     "shell.execute_reply": "2022-09-22T20:13:53.049309Z"
    },
    "papermill": {
     "duration": 0.065125,
     "end_time": "2022-09-22T20:13:53.052940",
     "exception": false,
     "start_time": "2022-09-22T20:13:52.987815",
     "status": "completed"
    },
    "tags": []
   },
   "outputs": [
    {
     "name": "stdout",
     "output_type": "stream",
     "text": [
      "Total no of duplicate values in Training Dataset = 0\n"
     ]
    },
    {
     "data": {
      "text/html": [
       "<div>\n",
       "<style scoped>\n",
       "    .dataframe tbody tr th:only-of-type {\n",
       "        vertical-align: middle;\n",
       "    }\n",
       "\n",
       "    .dataframe tbody tr th {\n",
       "        vertical-align: top;\n",
       "    }\n",
       "\n",
       "    .dataframe thead th {\n",
       "        text-align: right;\n",
       "    }\n",
       "</style>\n",
       "<table border=\"1\" class=\"dataframe\">\n",
       "  <thead>\n",
       "    <tr style=\"text-align: right;\">\n",
       "      <th></th>\n",
       "      <th>PassengerId</th>\n",
       "      <th>Survived</th>\n",
       "      <th>Pclass</th>\n",
       "      <th>Name</th>\n",
       "      <th>Sex</th>\n",
       "      <th>Age</th>\n",
       "      <th>SibSp</th>\n",
       "      <th>Parch</th>\n",
       "      <th>Ticket</th>\n",
       "      <th>Fare</th>\n",
       "      <th>Cabin</th>\n",
       "      <th>Embarked</th>\n",
       "    </tr>\n",
       "  </thead>\n",
       "  <tbody>\n",
       "  </tbody>\n",
       "</table>\n",
       "</div>"
      ],
      "text/plain": [
       "Empty DataFrame\n",
       "Columns: [PassengerId, Survived, Pclass, Name, Sex, Age, SibSp, Parch, Ticket, Fare, Cabin, Embarked]\n",
       "Index: []"
      ]
     },
     "execution_count": 3,
     "metadata": {},
     "output_type": "execute_result"
    }
   ],
   "source": [
    "#Check Duplicates:\n",
    "dupstr = df.duplicated()\n",
    "print('Total no of duplicate values in Training Dataset = %d' % (dupstr.sum()))\n",
    "df[dupstr]"
   ]
  },
  {
   "cell_type": "code",
   "execution_count": 4,
   "id": "f8ce9211",
   "metadata": {
    "execution": {
     "iopub.execute_input": "2022-09-22T20:13:53.121760Z",
     "iopub.status.busy": "2022-09-22T20:13:53.121328Z",
     "iopub.status.idle": "2022-09-22T20:13:53.129585Z",
     "shell.execute_reply": "2022-09-22T20:13:53.128727Z"
    },
    "papermill": {
     "duration": 0.045579,
     "end_time": "2022-09-22T20:13:53.132547",
     "exception": false,
     "start_time": "2022-09-22T20:13:53.086968",
     "status": "completed"
    },
    "tags": []
   },
   "outputs": [
    {
     "name": "stdout",
     "output_type": "stream",
     "text": [
      "Missing data by column as a percent:\n",
      "Cabin          0.771044\n",
      "Age            0.198653\n",
      "Embarked       0.002245\n",
      "PassengerId    0.000000\n",
      "Survived       0.000000\n",
      "dtype: float64\n"
     ]
    }
   ],
   "source": [
    "#search for columns with missing values:\n",
    "def findNA():\n",
    "    print(\"Missing data by column as a percent:\")\n",
    "    findNA=df.isnull().sum().sort_values(ascending=False)/len(df)\n",
    "    print(findNA.head())\n",
    "findNA() "
   ]
  },
  {
   "cell_type": "markdown",
   "id": "35b3c03f",
   "metadata": {
    "papermill": {
     "duration": 0.03361,
     "end_time": "2022-09-22T20:13:53.201269",
     "exception": false,
     "start_time": "2022-09-22T20:13:53.167659",
     "status": "completed"
    },
    "tags": []
   },
   "source": [
    "# Feature Engineer\n",
    "We need to replace male and female into numbers. This is a very important part of the process because gender is one of the highest predictors on if a person survived or not."
   ]
  },
  {
   "cell_type": "code",
   "execution_count": 5,
   "id": "60d39e59",
   "metadata": {
    "execution": {
     "iopub.execute_input": "2022-09-22T20:13:53.273915Z",
     "iopub.status.busy": "2022-09-22T20:13:53.273093Z",
     "iopub.status.idle": "2022-09-22T20:13:53.279265Z",
     "shell.execute_reply": "2022-09-22T20:13:53.278674Z"
    },
    "papermill": {
     "duration": 0.046289,
     "end_time": "2022-09-22T20:13:53.281271",
     "exception": false,
     "start_time": "2022-09-22T20:13:53.234982",
     "status": "completed"
    },
    "tags": []
   },
   "outputs": [],
   "source": [
    "#GENDER\n",
    "df['Sex']=df['Sex'].map({'female':0,'male':1})"
   ]
  },
  {
   "cell_type": "markdown",
   "id": "c9ba9a7b",
   "metadata": {
    "papermill": {
     "duration": 0.033286,
     "end_time": "2022-09-22T20:13:53.348151",
     "exception": false,
     "start_time": "2022-09-22T20:13:53.314865",
     "status": "completed"
    },
    "tags": []
   },
   "source": [
    "Females whose number is 0 had a much higher chance of surving than males. Later on, doing the importance feature analysis we will view that gender is actually one of the highest predictors. "
   ]
  },
  {
   "cell_type": "code",
   "execution_count": 6,
   "id": "e5de4869",
   "metadata": {
    "execution": {
     "iopub.execute_input": "2022-09-22T20:13:53.417012Z",
     "iopub.status.busy": "2022-09-22T20:13:53.416703Z",
     "iopub.status.idle": "2022-09-22T20:13:53.446462Z",
     "shell.execute_reply": "2022-09-22T20:13:53.445670Z"
    },
    "papermill": {
     "duration": 0.06633,
     "end_time": "2022-09-22T20:13:53.448578",
     "exception": false,
     "start_time": "2022-09-22T20:13:53.382248",
     "status": "completed"
    },
    "tags": []
   },
   "outputs": [
    {
     "data": {
      "text/html": [
       "<div>\n",
       "<style scoped>\n",
       "    .dataframe tbody tr th:only-of-type {\n",
       "        vertical-align: middle;\n",
       "    }\n",
       "\n",
       "    .dataframe tbody tr th {\n",
       "        vertical-align: top;\n",
       "    }\n",
       "\n",
       "    .dataframe thead th {\n",
       "        text-align: right;\n",
       "    }\n",
       "</style>\n",
       "<table border=\"1\" class=\"dataframe\">\n",
       "  <thead>\n",
       "    <tr style=\"text-align: right;\">\n",
       "      <th>Sex</th>\n",
       "      <th>0</th>\n",
       "      <th>1</th>\n",
       "    </tr>\n",
       "    <tr>\n",
       "      <th>Survived</th>\n",
       "      <th></th>\n",
       "      <th></th>\n",
       "    </tr>\n",
       "  </thead>\n",
       "  <tbody>\n",
       "    <tr>\n",
       "      <th>0</th>\n",
       "      <td>81</td>\n",
       "      <td>468</td>\n",
       "    </tr>\n",
       "    <tr>\n",
       "      <th>1</th>\n",
       "      <td>233</td>\n",
       "      <td>109</td>\n",
       "    </tr>\n",
       "  </tbody>\n",
       "</table>\n",
       "</div>"
      ],
      "text/plain": [
       "Sex         0    1\n",
       "Survived          \n",
       "0          81  468\n",
       "1         233  109"
      ]
     },
     "execution_count": 6,
     "metadata": {},
     "output_type": "execute_result"
    }
   ],
   "source": [
    "genderTable = pd.crosstab(df['Survived'],df['Sex'])\n",
    "genderTable"
   ]
  },
  {
   "cell_type": "markdown",
   "id": "008f4f09",
   "metadata": {
    "papermill": {
     "duration": 0.033258,
     "end_time": "2022-09-22T20:13:53.515842",
     "exception": false,
     "start_time": "2022-09-22T20:13:53.482584",
     "status": "completed"
    },
    "tags": []
   },
   "source": [
    "# Encode Categorical Variables\n",
    "Encode Categorical Variables is needed for this dataset since there are many important variables that are not numeric yet. \n",
    "\n",
    "There are three classes C, Q, and S. Class C seems to have the highest chance of survival. Class S has the lowest chance of survival. Unfornately this would tend to show that economic status seems to played a part in the decision if someone survived or not. Embarked does not play role major role in feature importance. "
   ]
  },
  {
   "cell_type": "code",
   "execution_count": 7,
   "id": "202a2108",
   "metadata": {
    "execution": {
     "iopub.execute_input": "2022-09-22T20:13:53.585433Z",
     "iopub.status.busy": "2022-09-22T20:13:53.584846Z",
     "iopub.status.idle": "2022-09-22T20:13:53.766201Z",
     "shell.execute_reply": "2022-09-22T20:13:53.765410Z"
    },
    "papermill": {
     "duration": 0.219482,
     "end_time": "2022-09-22T20:13:53.769041",
     "exception": false,
     "start_time": "2022-09-22T20:13:53.549559",
     "status": "completed"
    },
    "tags": []
   },
   "outputs": [],
   "source": [
    "import category_encoders as ce\n",
    "#encoder = ce.OrdinalEncoder(cols=['Embarked'])\n",
    "\n",
    "#df = encoder.fit_transform(df)\n",
    "#test = encoder.fit_transform(test)\n",
    "#test.head()"
   ]
  },
  {
   "cell_type": "markdown",
   "id": "288a4d66",
   "metadata": {
    "papermill": {
     "duration": 0.033754,
     "end_time": "2022-09-22T20:13:53.836959",
     "exception": false,
     "start_time": "2022-09-22T20:13:53.803205",
     "status": "completed"
    },
    "tags": []
   },
   "source": [
    "# Examine Target Variable\n",
    "Survived is the Y variable we will be analyzing. Since the survival rete is 0.384 the data is not considered unbalanced. "
   ]
  },
  {
   "cell_type": "code",
   "execution_count": 8,
   "id": "5f72de11",
   "metadata": {
    "execution": {
     "iopub.execute_input": "2022-09-22T20:13:53.908281Z",
     "iopub.status.busy": "2022-09-22T20:13:53.907999Z",
     "iopub.status.idle": "2022-09-22T20:13:53.915842Z",
     "shell.execute_reply": "2022-09-22T20:13:53.915111Z"
    },
    "papermill": {
     "duration": 0.046181,
     "end_time": "2022-09-22T20:13:53.918264",
     "exception": false,
     "start_time": "2022-09-22T20:13:53.872083",
     "status": "completed"
    },
    "tags": []
   },
   "outputs": [
    {
     "name": "stdout",
     "output_type": "stream",
     "text": [
      "0    549\n",
      "1    342\n",
      "Name: Survived, dtype: int64\n",
      "Percent that survived:  0.384\n"
     ]
    }
   ],
   "source": [
    "temp=df['Survived'].value_counts()\n",
    "print(temp)\n",
    "no=temp[0]\n",
    "yes=temp[1]\n",
    "percent=round(yes/(yes+no),3)\n",
    "print(\"Percent that survived: \", percent)"
   ]
  },
  {
   "cell_type": "markdown",
   "id": "8174cfe6",
   "metadata": {
    "papermill": {
     "duration": 0.035228,
     "end_time": "2022-09-22T20:13:53.990421",
     "exception": false,
     "start_time": "2022-09-22T20:13:53.955193",
     "status": "completed"
    },
    "tags": []
   },
   "source": [
    "# Numeric DataFrame\n",
    "For now, we will analyze only numeric values. Categorical values will need to be encoded or analyzed individually."
   ]
  },
  {
   "cell_type": "code",
   "execution_count": 9,
   "id": "ee8bdf29",
   "metadata": {
    "execution": {
     "iopub.execute_input": "2022-09-22T20:13:54.061949Z",
     "iopub.status.busy": "2022-09-22T20:13:54.061640Z",
     "iopub.status.idle": "2022-09-22T20:13:54.076474Z",
     "shell.execute_reply": "2022-09-22T20:13:54.075568Z"
    },
    "papermill": {
     "duration": 0.053178,
     "end_time": "2022-09-22T20:13:54.078727",
     "exception": false,
     "start_time": "2022-09-22T20:13:54.025549",
     "status": "completed"
    },
    "tags": []
   },
   "outputs": [
    {
     "data": {
      "text/html": [
       "<div>\n",
       "<style scoped>\n",
       "    .dataframe tbody tr th:only-of-type {\n",
       "        vertical-align: middle;\n",
       "    }\n",
       "\n",
       "    .dataframe tbody tr th {\n",
       "        vertical-align: top;\n",
       "    }\n",
       "\n",
       "    .dataframe thead th {\n",
       "        text-align: right;\n",
       "    }\n",
       "</style>\n",
       "<table border=\"1\" class=\"dataframe\">\n",
       "  <thead>\n",
       "    <tr style=\"text-align: right;\">\n",
       "      <th></th>\n",
       "      <th>PassengerId</th>\n",
       "      <th>Survived</th>\n",
       "      <th>Pclass</th>\n",
       "      <th>Sex</th>\n",
       "      <th>Age</th>\n",
       "      <th>SibSp</th>\n",
       "      <th>Parch</th>\n",
       "      <th>Fare</th>\n",
       "    </tr>\n",
       "  </thead>\n",
       "  <tbody>\n",
       "    <tr>\n",
       "      <th>0</th>\n",
       "      <td>1</td>\n",
       "      <td>0</td>\n",
       "      <td>3</td>\n",
       "      <td>1</td>\n",
       "      <td>22.0</td>\n",
       "      <td>1</td>\n",
       "      <td>0</td>\n",
       "      <td>7.2500</td>\n",
       "    </tr>\n",
       "    <tr>\n",
       "      <th>1</th>\n",
       "      <td>2</td>\n",
       "      <td>1</td>\n",
       "      <td>1</td>\n",
       "      <td>0</td>\n",
       "      <td>38.0</td>\n",
       "      <td>1</td>\n",
       "      <td>0</td>\n",
       "      <td>71.2833</td>\n",
       "    </tr>\n",
       "    <tr>\n",
       "      <th>2</th>\n",
       "      <td>3</td>\n",
       "      <td>1</td>\n",
       "      <td>3</td>\n",
       "      <td>0</td>\n",
       "      <td>26.0</td>\n",
       "      <td>0</td>\n",
       "      <td>0</td>\n",
       "      <td>7.9250</td>\n",
       "    </tr>\n",
       "    <tr>\n",
       "      <th>3</th>\n",
       "      <td>4</td>\n",
       "      <td>1</td>\n",
       "      <td>1</td>\n",
       "      <td>0</td>\n",
       "      <td>35.0</td>\n",
       "      <td>1</td>\n",
       "      <td>0</td>\n",
       "      <td>53.1000</td>\n",
       "    </tr>\n",
       "    <tr>\n",
       "      <th>4</th>\n",
       "      <td>5</td>\n",
       "      <td>0</td>\n",
       "      <td>3</td>\n",
       "      <td>1</td>\n",
       "      <td>35.0</td>\n",
       "      <td>0</td>\n",
       "      <td>0</td>\n",
       "      <td>8.0500</td>\n",
       "    </tr>\n",
       "  </tbody>\n",
       "</table>\n",
       "</div>"
      ],
      "text/plain": [
       "   PassengerId  Survived  Pclass  Sex   Age  SibSp  Parch     Fare\n",
       "0            1         0       3    1  22.0      1      0   7.2500\n",
       "1            2         1       1    0  38.0      1      0  71.2833\n",
       "2            3         1       3    0  26.0      0      0   7.9250\n",
       "3            4         1       1    0  35.0      1      0  53.1000\n",
       "4            5         0       3    1  35.0      0      0   8.0500"
      ]
     },
     "execution_count": 9,
     "metadata": {},
     "output_type": "execute_result"
    }
   ],
   "source": [
    "numerics = ['int16', 'int32', 'int64', 'float16', 'float32', 'float64']\n",
    "df = df.select_dtypes(include=numerics)\n",
    "df.head()"
   ]
  },
  {
   "cell_type": "markdown",
   "id": "e6f1c47d",
   "metadata": {
    "papermill": {
     "duration": 0.035312,
     "end_time": "2022-09-22T20:13:54.150152",
     "exception": false,
     "start_time": "2022-09-22T20:13:54.114840",
     "status": "completed"
    },
    "tags": []
   },
   "source": [
    "# Correlations"
   ]
  },
  {
   "cell_type": "code",
   "execution_count": 10,
   "id": "b6bb47af",
   "metadata": {
    "execution": {
     "iopub.execute_input": "2022-09-22T20:13:54.221135Z",
     "iopub.status.busy": "2022-09-22T20:13:54.220636Z",
     "iopub.status.idle": "2022-09-22T20:13:54.877790Z",
     "shell.execute_reply": "2022-09-22T20:13:54.876914Z"
    },
    "papermill": {
     "duration": 0.69526,
     "end_time": "2022-09-22T20:13:54.879932",
     "exception": false,
     "start_time": "2022-09-22T20:13:54.184672",
     "status": "completed"
    },
    "tags": []
   },
   "outputs": [
    {
     "data": {
      "text/plain": [
       "<AxesSubplot:>"
      ]
     },
     "execution_count": 10,
     "metadata": {},
     "output_type": "execute_result"
    },
    {
     "data": {
      "image/png": "[encoded data removed]",
      "text/plain": [
       "<Figure size 432x288 with 2 Axes>"
      ]
     },
     "metadata": {
      "needs_background": "light"
     },
     "output_type": "display_data"
    }
   ],
   "source": [
    "import seaborn as sns\n",
    "sns.heatmap(df.corr(),annot=True)"
   ]
  },
  {
   "cell_type": "markdown",
   "id": "ef5bc5aa",
   "metadata": {
    "papermill": {
     "duration": 0.036392,
     "end_time": "2022-09-22T20:13:54.955814",
     "exception": false,
     "start_time": "2022-09-22T20:13:54.919422",
     "status": "completed"
    },
    "tags": []
   },
   "source": [
    "# Check for missing values\n",
    "Age is missing around 20% of values.Therefore, we can simply fill in the mean for that one column."
   ]
  },
  {
   "cell_type": "code",
   "execution_count": 11,
   "id": "a7c2c92a",
   "metadata": {
    "execution": {
     "iopub.execute_input": "2022-09-22T20:13:55.031280Z",
     "iopub.status.busy": "2022-09-22T20:13:55.030722Z",
     "iopub.status.idle": "2022-09-22T20:13:55.039115Z",
     "shell.execute_reply": "2022-09-22T20:13:55.038056Z"
    },
    "papermill": {
     "duration": 0.048871,
     "end_time": "2022-09-22T20:13:55.041232",
     "exception": false,
     "start_time": "2022-09-22T20:13:54.992361",
     "status": "completed"
    },
    "tags": []
   },
   "outputs": [
    {
     "name": "stdout",
     "output_type": "stream",
     "text": [
      "Missing data by column as a percent:\n",
      "Age            0.198653\n",
      "PassengerId    0.000000\n",
      "Survived       0.000000\n",
      "Pclass         0.000000\n",
      "Sex            0.000000\n",
      "dtype: float64\n"
     ]
    }
   ],
   "source": [
    "#search for columns with missing values:\n",
    "def findNA():\n",
    "    print(\"Missing data by column as a percent:\")\n",
    "    findNA=df.isnull().sum().sort_values(ascending=False)/len(df)\n",
    "    print(findNA.head())\n",
    "findNA() "
   ]
  },
  {
   "cell_type": "code",
   "execution_count": 12,
   "id": "f3976624",
   "metadata": {
    "execution": {
     "iopub.execute_input": "2022-09-22T20:13:55.117488Z",
     "iopub.status.busy": "2022-09-22T20:13:55.116518Z",
     "iopub.status.idle": "2022-09-22T20:13:55.123833Z",
     "shell.execute_reply": "2022-09-22T20:13:55.123186Z"
    },
    "papermill": {
     "duration": 0.047435,
     "end_time": "2022-09-22T20:13:55.125771",
     "exception": false,
     "start_time": "2022-09-22T20:13:55.078336",
     "status": "completed"
    },
    "tags": []
   },
   "outputs": [],
   "source": [
    "df= df.fillna(df.mean())"
   ]
  },
  {
   "cell_type": "markdown",
   "id": "85d305b4",
   "metadata": {
    "papermill": {
     "duration": 0.037068,
     "end_time": "2022-09-22T20:13:55.200700",
     "exception": false,
     "start_time": "2022-09-22T20:13:55.163632",
     "status": "completed"
    },
    "tags": []
   },
   "source": [
    "# Split Data"
   ]
  },
  {
   "cell_type": "code",
   "execution_count": 13,
   "id": "908d6fae",
   "metadata": {
    "execution": {
     "iopub.execute_input": "2022-09-22T20:13:55.276826Z",
     "iopub.status.busy": "2022-09-22T20:13:55.275953Z",
     "iopub.status.idle": "2022-09-22T20:13:55.282906Z",
     "shell.execute_reply": "2022-09-22T20:13:55.282338Z"
    },
    "papermill": {
     "duration": 0.047061,
     "end_time": "2022-09-22T20:13:55.284773",
     "exception": false,
     "start_time": "2022-09-22T20:13:55.237712",
     "status": "completed"
    },
    "tags": []
   },
   "outputs": [],
   "source": [
    "X=df.drop('Survived', axis=1)\n",
    "y=df['Survived']\n",
    "\n",
    "X_train, X_test, y_train, y_test = train_test_split(\n",
    "    X, y, test_size = 0.30, random_state = 42)"
   ]
  },
  {
   "cell_type": "markdown",
   "id": "684f6313",
   "metadata": {
    "papermill": {
     "duration": 0.03805,
     "end_time": "2022-09-22T20:13:55.360251",
     "exception": false,
     "start_time": "2022-09-22T20:13:55.322201",
     "status": "completed"
    },
    "tags": []
   },
   "source": [
    "# Highly Correlated Features\n",
    "There are no highly correlated variables above 80%. Therefore, we do not need to be concerned about removing variables that are too highly correlated. "
   ]
  },
  {
   "cell_type": "markdown",
   "id": "6277fe6f",
   "metadata": {
    "papermill": {
     "duration": 0.036678,
     "end_time": "2022-09-22T20:13:55.435033",
     "exception": false,
     "start_time": "2022-09-22T20:13:55.398355",
     "status": "completed"
    },
    "tags": []
   },
   "source": [
    "# XGBOOST"
   ]
  },
  {
   "cell_type": "code",
   "execution_count": 14,
   "id": "f7c92b6b",
   "metadata": {
    "execution": {
     "iopub.execute_input": "2022-09-22T20:13:55.512349Z",
     "iopub.status.busy": "2022-09-22T20:13:55.511859Z",
     "iopub.status.idle": "2022-09-22T20:13:57.477817Z",
     "shell.execute_reply": "2022-09-22T20:13:57.476839Z"
    },
    "papermill": {
     "duration": 2.007589,
     "end_time": "2022-09-22T20:13:57.480004",
     "exception": false,
     "start_time": "2022-09-22T20:13:55.472415",
     "status": "completed"
    },
    "tags": []
   },
   "outputs": [
    {
     "data": {
      "image/png": "[encoded data removed]",
      "text/plain": [
       "<Figure size 432x288 with 1 Axes>"
      ]
     },
     "metadata": {
      "needs_background": "light"
     },
     "output_type": "display_data"
    },
    {
     "data": {
      "image/png": "[encoded data removed]",
      "text/plain": [
       "<Figure size 432x288 with 1 Axes>"
      ]
     },
     "metadata": {
      "needs_background": "light"
     },
     "output_type": "display_data"
    }
   ],
   "source": [
    "import xgboost as xgb\n",
    "from xgboost import XGBClassifier\n",
    "\n",
    "weight=[1, 3, 5, 7, 9, 11, 13, 15, 17]\n",
    "listMSE=[]\n",
    "listR2=[]\n",
    "\n",
    "for w in weight:\n",
    "    regressor = xgb.XGBRegressor(\n",
    "        n_estimators=50,\n",
    "        reg_lambda=1,\n",
    "        gamma=0,\n",
    "        max_depth=4,\n",
    "        eta=.05,\n",
    "        min_child_weight=w\n",
    "    )\n",
    "    regressor.fit(X_train, y_train)\n",
    "    y_pred = regressor.predict(X_test)\n",
    "\n",
    "    xgMSE=mean_absolute_error(y_test, y_pred)\n",
    "    xgR2 = r2_score(y_test, y_pred).round(4)\n",
    "    listMSE.append(xgMSE)\n",
    "    listR2.append(xgR2)\n",
    "plt.plot(weight, listMSE)\n",
    "plt.title('Child Weight Error')\n",
    "plt.ylabel('Error')\n",
    "plt.xlabel('Weight')\n",
    "plt.legend()\n",
    "plt.show()\n",
    "\n",
    "plt.plot(weight, listR2)\n",
    "plt.title('Weight R2')\n",
    "plt.ylabel('Accurate')\n",
    "plt.xlabel('Weight')\n",
    "plt.legend()\n",
    "plt.show()"
   ]
  },
  {
   "cell_type": "code",
   "execution_count": 15,
   "id": "c22478c7",
   "metadata": {
    "execution": {
     "iopub.execute_input": "2022-09-22T20:13:57.562372Z",
     "iopub.status.busy": "2022-09-22T20:13:57.562073Z",
     "iopub.status.idle": "2022-09-22T20:14:00.067629Z",
     "shell.execute_reply": "2022-09-22T20:14:00.066774Z"
    },
    "papermill": {
     "duration": 2.548034,
     "end_time": "2022-09-22T20:14:00.069719",
     "exception": false,
     "start_time": "2022-09-22T20:13:57.521685",
     "status": "completed"
    },
    "tags": []
   },
   "outputs": [
    {
     "data": {
      "image/png": "[encoded data removed]",
      "text/plain": [
       "<Figure size 432x288 with 1 Axes>"
      ]
     },
     "metadata": {
      "needs_background": "light"
     },
     "output_type": "display_data"
    },
    {
     "data": {
      "image/png": "[encoded data removed]",
      "text/plain": [
       "<Figure size 432x288 with 1 Axes>"
      ]
     },
     "metadata": {
      "needs_background": "light"
     },
     "output_type": "display_data"
    }
   ],
   "source": [
    "nEst=[2, 50, 100, 150, 200,  300]\n",
    "listMSE=[]\n",
    "listR2=[]\n",
    "\n",
    "for n in nEst:\n",
    "    regressor = xgb.XGBRegressor(\n",
    "        n_estimators=n,\n",
    "        reg_lambda=1,\n",
    "        gamma=0,\n",
    "        max_depth=4\n",
    "    )\n",
    "    regressor.fit(X_train, y_train)\n",
    "    y_pred = regressor.predict(X_test)\n",
    "\n",
    "    xgMSE=mean_absolute_error(y_test, y_pred)\n",
    "    xgR2 = r2_score(y_test, y_pred).round(4)\n",
    "    listMSE.append(xgMSE)\n",
    "    listR2.append(xgR2)\n",
    "plt.plot(nEst, listMSE)\n",
    "plt.title('nEstimators Error')\n",
    "plt.ylabel('Error')\n",
    "plt.xlabel('N Estimators')\n",
    "plt.legend()\n",
    "plt.show()\n",
    "\n",
    "plt.plot(nEst, listR2)\n",
    "plt.title('nEstimators R2')\n",
    "plt.ylabel('Accurate')\n",
    "plt.xlabel('N Estimators')\n",
    "plt.legend()\n",
    "plt.show()"
   ]
  },
  {
   "cell_type": "code",
   "execution_count": 16,
   "id": "18133a2c",
   "metadata": {
    "execution": {
     "iopub.execute_input": "2022-09-22T20:14:00.154491Z",
     "iopub.status.busy": "2022-09-22T20:14:00.154174Z",
     "iopub.status.idle": "2022-09-22T20:14:03.838011Z",
     "shell.execute_reply": "2022-09-22T20:14:03.837136Z"
    },
    "papermill": {
     "duration": 3.728968,
     "end_time": "2022-09-22T20:14:03.840383",
     "exception": false,
     "start_time": "2022-09-22T20:14:00.111415",
     "status": "completed"
    },
    "tags": []
   },
   "outputs": [
    {
     "data": {
      "image/png": "[encoded data removed]",
      "text/plain": [
       "<Figure size 432x288 with 1 Axes>"
      ]
     },
     "metadata": {
      "needs_background": "light"
     },
     "output_type": "display_data"
    },
    {
     "data": {
      "image/png": "[encoded data removed]",
      "text/plain": [
       "<Figure size 432x288 with 1 Axes>"
      ]
     },
     "metadata": {
      "needs_background": "light"
     },
     "output_type": "display_data"
    }
   ],
   "source": [
    "maxDepth=[2, 3, 4, 5, 6, 7, 8, 9, 10, 11]\n",
    "listMSE=[]\n",
    "listR2=[]\n",
    "\n",
    "for d in maxDepth:\n",
    "    regressor = xgb.XGBRegressor(\n",
    "        n_estimators=100,\n",
    "        reg_lambda=1,\n",
    "        gamma=0,\n",
    "        max_depth=d\n",
    "    )\n",
    "    regressor.fit(X_train, y_train)\n",
    "    y_pred = regressor.predict(X_test)\n",
    "\n",
    "    xgMSE=mean_absolute_error(y_test, y_pred)\n",
    "    xgR2 = r2_score(y_test, y_pred).round(4)\n",
    "    listMSE.append(xgMSE)\n",
    "    listR2.append(xgR2)\n",
    "plt.plot(maxDepth, listMSE)\n",
    "plt.title('MaxDepth Error')\n",
    "plt.ylabel('Error')\n",
    "plt.xlabel('Max Depth')\n",
    "plt.legend()\n",
    "plt.show()\n",
    "\n",
    "plt.plot(maxDepth, listR2)\n",
    "plt.title('MaxDepth Accuracy')\n",
    "plt.ylabel('Accuracy')\n",
    "plt.xlabel('MaxDepth')\n",
    "plt.legend()\n",
    "plt.show()"
   ]
  },
  {
   "cell_type": "code",
   "execution_count": 17,
   "id": "70876018",
   "metadata": {
    "execution": {
     "iopub.execute_input": "2022-09-22T20:14:03.929813Z",
     "iopub.status.busy": "2022-09-22T20:14:03.928848Z",
     "iopub.status.idle": "2022-09-22T20:14:05.103864Z",
     "shell.execute_reply": "2022-09-22T20:14:05.103210Z"
    },
    "papermill": {
     "duration": 1.221526,
     "end_time": "2022-09-22T20:14:05.105738",
     "exception": false,
     "start_time": "2022-09-22T20:14:03.884212",
     "status": "completed"
    },
    "tags": []
   },
   "outputs": [
    {
     "data": {
      "image/png": "[encoded data removed]",
      "text/plain": [
       "<Figure size 432x288 with 1 Axes>"
      ]
     },
     "metadata": {
      "needs_background": "light"
     },
     "output_type": "display_data"
    },
    {
     "data": {
      "image/png": "[encoded data removed]",
      "text/plain": [
       "<Figure size 432x288 with 1 Axes>"
      ]
     },
     "metadata": {
      "needs_background": "light"
     },
     "output_type": "display_data"
    }
   ],
   "source": [
    "eta=[.01, .02, .03, .04, .05]\n",
    "listMSE=[]\n",
    "listR2=[]\n",
    "\n",
    "for e in eta:\n",
    "    regressor = xgb.XGBRegressor(\n",
    "        n_estimators=50,\n",
    "        reg_lambda=1,\n",
    "        gamma=0,\n",
    "        max_depth=4,\n",
    "        eta=e\n",
    "    )\n",
    "    regressor.fit(X_train, y_train)\n",
    "    y_pred = regressor.predict(X_test)\n",
    "\n",
    "    xgMSE=mean_absolute_error(y_test, y_pred)\n",
    "    xgR2 = r2_score(y_test, y_pred).round(4)\n",
    "    listMSE.append(xgMSE)\n",
    "    listR2.append(xgR2)\n",
    "plt.plot(eta, listMSE)\n",
    "plt.title('Eta Error')\n",
    "plt.ylabel('Error')\n",
    "plt.xlabel('Eta')\n",
    "plt.legend()\n",
    "plt.show()\n",
    "\n",
    "plt.plot(eta, listR2)\n",
    "plt.title('Eta R2')\n",
    "plt.ylabel('Accurate')\n",
    "plt.xlabel('Eta')\n",
    "plt.legend()\n",
    "plt.show()"
   ]
  },
  {
   "cell_type": "code",
   "execution_count": 18,
   "id": "b47ef342",
   "metadata": {
    "execution": {
     "iopub.execute_input": "2022-09-22T20:14:05.198698Z",
     "iopub.status.busy": "2022-09-22T20:14:05.197711Z",
     "iopub.status.idle": "2022-09-22T20:14:06.619657Z",
     "shell.execute_reply": "2022-09-22T20:14:06.618822Z"
    },
    "papermill": {
     "duration": 1.471242,
     "end_time": "2022-09-22T20:14:06.621803",
     "exception": false,
     "start_time": "2022-09-22T20:14:05.150561",
     "status": "completed"
    },
    "tags": []
   },
   "outputs": [
    {
     "data": {
      "image/png": "[encoded data removed]",
      "text/plain": [
       "<Figure size 432x288 with 1 Axes>"
      ]
     },
     "metadata": {
      "needs_background": "light"
     },
     "output_type": "display_data"
    },
    {
     "data": {
      "image/png": "[encoded data removed]",
      "text/plain": [
       "<Figure size 432x288 with 1 Axes>"
      ]
     },
     "metadata": {
      "needs_background": "light"
     },
     "output_type": "display_data"
    }
   ],
   "source": [
    "gammas=[0, 0.25, 0.5, 1.0, 3, 5, 10]\n",
    "listMSE=[]\n",
    "listR2=[]\n",
    "\n",
    "for g in gammas:\n",
    "    regressor = xgb.XGBRegressor(\n",
    "        gamma=g,\n",
    "        n_estimators=50,\n",
    "        reg_lambda=1,\n",
    "        max_depth=4,\n",
    "        eta=.1,\n",
    "        min_child_weight=13\n",
    "    )\n",
    "    regressor.fit(X_train, y_train)\n",
    "    y_pred = regressor.predict(X_test)\n",
    "\n",
    "    xgMSE=mean_absolute_error(y_test, y_pred)\n",
    "    xgR2 = r2_score(y_test, y_pred).round(4)\n",
    "    listMSE.append(xgMSE)\n",
    "    listR2.append(xgR2)\n",
    "    \n",
    "plt.plot(gammas, listMSE)\n",
    "plt.title('Gamma Error')\n",
    "plt.ylabel('Error')\n",
    "plt.xlabel('Gammas')\n",
    "plt.legend()\n",
    "plt.show()\n",
    "\n",
    "plt.plot(gammas, listR2)\n",
    "plt.title('Gamma R2')\n",
    "plt.ylabel('Accurate')\n",
    "plt.xlabel('Gammas')\n",
    "plt.legend()\n",
    "plt.show()"
   ]
  },
  {
   "cell_type": "code",
   "execution_count": 19,
   "id": "a7d6f4ac",
   "metadata": {
    "execution": {
     "iopub.execute_input": "2022-09-22T20:14:06.717482Z",
     "iopub.status.busy": "2022-09-22T20:14:06.716686Z",
     "iopub.status.idle": "2022-09-22T20:14:08.169377Z",
     "shell.execute_reply": "2022-09-22T20:14:08.168773Z"
    },
    "papermill": {
     "duration": 1.502354,
     "end_time": "2022-09-22T20:14:08.171248",
     "exception": false,
     "start_time": "2022-09-22T20:14:06.668894",
     "status": "completed"
    },
    "tags": []
   },
   "outputs": [
    {
     "data": {
      "image/png": "[encoded data removed]",
      "text/plain": [
       "<Figure size 432x288 with 1 Axes>"
      ]
     },
     "metadata": {
      "needs_background": "light"
     },
     "output_type": "display_data"
    },
    {
     "data": {
      "image/png": "[encoded data removed]",
      "text/plain": [
       "<Figure size 432x288 with 1 Axes>"
      ]
     },
     "metadata": {
      "needs_background": "light"
     },
     "output_type": "display_data"
    }
   ],
   "source": [
    "regLam = [0.1, 1.0, 2, 3, 4, 5.0, 10.0]\n",
    "listMSE=[]\n",
    "listR2=[]\n",
    "\n",
    "for r in regLam:\n",
    "    regressor = xgb.XGBRegressor(\n",
    "        n_estimators=50,\n",
    "        reg_lambda=r,\n",
    "        max_depth=4,\n",
    "        eta=.05,\n",
    "        min_child_weight=13,\n",
    "        learning_rate=.1\n",
    "    )\n",
    "    regressor.fit(X_train, y_train)\n",
    "    y_pred = regressor.predict(X_test)\n",
    "\n",
    "    xgMSE=mean_absolute_error(y_test, y_pred)\n",
    "    xgR2 = r2_score(y_test, y_pred).round(4)\n",
    "    listMSE.append(xgMSE)\n",
    "    listR2.append(xgR2)\n",
    "    \n",
    "plt.plot(regLam, listMSE)\n",
    "plt.title('RegLam Error')\n",
    "plt.ylabel('Error')\n",
    "plt.xlabel('RegLam')\n",
    "plt.legend()\n",
    "plt.show()\n",
    "\n",
    "plt.plot(regLam, listR2)\n",
    "plt.title('RegLam R2')\n",
    "plt.ylabel('Accurate')\n",
    "plt.xlabel('RegLam')\n",
    "plt.legend()\n",
    "plt.show()"
   ]
  },
  {
   "cell_type": "markdown",
   "id": "c267385c",
   "metadata": {
    "papermill": {
     "duration": 0.04999,
     "end_time": "2022-09-22T20:14:08.270843",
     "exception": false,
     "start_time": "2022-09-22T20:14:08.220853",
     "status": "completed"
    },
    "tags": []
   },
   "source": [
    "# GridSearch \n",
    "* Top 18%:\n",
    "\n",
    "{'gamma': 2, 'learning_rate': 0.3, 'max_depth': 3, 'min_child_weight': 1, 'n_estimators': 100}\n",
    "\n",
    "* Top 5% \n",
    "\n",
    "{'eta': 0.05, 'gamma': 5, 'learning_rate': 0.3, 'max_depth': 5, 'min_child_weight': 5, 'n_estimators': 50, 'reg_lambda': 5}"
   ]
  },
  {
   "cell_type": "code",
   "execution_count": 20,
   "id": "56fd738e",
   "metadata": {
    "execution": {
     "iopub.execute_input": "2022-09-22T20:14:08.371331Z",
     "iopub.status.busy": "2022-09-22T20:14:08.370800Z",
     "iopub.status.idle": "2022-09-22T20:14:45.574584Z",
     "shell.execute_reply": "2022-09-22T20:14:45.573916Z"
    },
    "papermill": {
     "duration": 37.307096,
     "end_time": "2022-09-22T20:14:45.627732",
     "exception": false,
     "start_time": "2022-09-22T20:14:08.320636",
     "status": "completed"
    },
    "tags": []
   },
   "outputs": [
    {
     "name": "stdout",
     "output_type": "stream",
     "text": [
      "Start\n",
      "{'eta': 0.05, 'gamma': 0.01, 'learning_rate': 0.3, 'max_depth': 5, 'min_child_weight': 5, 'n_estimators': 50, 'reg_lambda': 0.01}\n",
      "Done.  37.19652605056763  seconds\n"
     ]
    }
   ],
   "source": [
    "from sklearn.model_selection import GridSearchCV\n",
    "\n",
    "start=time.time()\n",
    "print(\"Start\")\n",
    "\n",
    "params = {\n",
    "        'learning_rate': [0.01, 0.3],\n",
    "        'n_estimators':[50],\n",
    "        'gamma': [.01, 1],\n",
    "        'max_depth': [5, 6, 9],\n",
    "        'min_child_weight':[5, 13],\n",
    "        'eta':[.05],\n",
    "        'reg_lambda':[.01, 1]\n",
    "        }\n",
    "\n",
    "boost_gs = xgb.XGBClassifier()\n",
    "boost_gs = GridSearchCV(boost_gs,param_grid=params,cv=5,scoring=\"accuracy\")\n",
    "boost_gs.fit(X_train,y_train)\n",
    "\n",
    "print(boost_gs.best_params_)\n",
    "print(\"Done. \" , time.time()-start, \" seconds\")"
   ]
  },
  {
   "cell_type": "code",
   "execution_count": 21,
   "id": "279db8df",
   "metadata": {
    "execution": {
     "iopub.execute_input": "2022-09-22T20:14:45.729642Z",
     "iopub.status.busy": "2022-09-22T20:14:45.729375Z",
     "iopub.status.idle": "2022-09-22T20:16:34.308504Z",
     "shell.execute_reply": "2022-09-22T20:16:34.307853Z"
    },
    "papermill": {
     "duration": 108.684878,
     "end_time": "2022-09-22T20:16:34.363718",
     "exception": false,
     "start_time": "2022-09-22T20:14:45.678840",
     "status": "completed"
    },
    "tags": []
   },
   "outputs": [
    {
     "name": "stdout",
     "output_type": "stream",
     "text": [
      "0.6571  cross validate score\n"
     ]
    }
   ],
   "source": [
    "xgb_pred =  boost_gs.predict(X_test)\n",
    "\n",
    "#calculate AUC of model\n",
    "xgbAUC = round( metrics.roc_auc_score(y_test, xgb_pred), 4 ) \n",
    "#print(\"AUC for XGB is: \", xgbAUC)\n",
    "\n",
    "#xgbMSE = mean_squared_error(y_test, xgb_pred)\n",
    "#print(\"MSE XGB on test set: {:.4f}\".format(xgbMSE))\n",
    "\n",
    " #CROSS VALIDATE TEST RESULTS:\n",
    "boostScore =  boost_gs.score(X_test, y_test).round(4)  # train test \n",
    "boostCV = cross_validate( boost_gs, X, y, cv = 3, scoring= 'r2')\n",
    "boostCV=boostCV['test_score'].mean().round(4)\n",
    "print(boostScore-boostCV, \" cross validate score\")"
   ]
  },
  {
   "cell_type": "markdown",
   "id": "fc72d68b",
   "metadata": {
    "papermill": {
     "duration": 0.050777,
     "end_time": "2022-09-22T20:16:34.464487",
     "exception": false,
     "start_time": "2022-09-22T20:16:34.413710",
     "status": "completed"
    },
    "tags": []
   },
   "source": [
    "# Test Data"
   ]
  },
  {
   "cell_type": "code",
   "execution_count": 22,
   "id": "9b116b4a",
   "metadata": {
    "execution": {
     "iopub.execute_input": "2022-09-22T20:16:34.567751Z",
     "iopub.status.busy": "2022-09-22T20:16:34.567422Z",
     "iopub.status.idle": "2022-09-22T20:16:34.587120Z",
     "shell.execute_reply": "2022-09-22T20:16:34.586237Z"
    },
    "papermill": {
     "duration": 0.07449,
     "end_time": "2022-09-22T20:16:34.589231",
     "exception": false,
     "start_time": "2022-09-22T20:16:34.514741",
     "status": "completed"
    },
    "tags": []
   },
   "outputs": [
    {
     "data": {
      "text/html": [
       "<div>\n",
       "<style scoped>\n",
       "    .dataframe tbody tr th:only-of-type {\n",
       "        vertical-align: middle;\n",
       "    }\n",
       "\n",
       "    .dataframe tbody tr th {\n",
       "        vertical-align: top;\n",
       "    }\n",
       "\n",
       "    .dataframe thead th {\n",
       "        text-align: right;\n",
       "    }\n",
       "</style>\n",
       "<table border=\"1\" class=\"dataframe\">\n",
       "  <thead>\n",
       "    <tr style=\"text-align: right;\">\n",
       "      <th></th>\n",
       "      <th>PassengerId</th>\n",
       "      <th>Pclass</th>\n",
       "      <th>Sex</th>\n",
       "      <th>Age</th>\n",
       "      <th>SibSp</th>\n",
       "      <th>Parch</th>\n",
       "      <th>Fare</th>\n",
       "    </tr>\n",
       "  </thead>\n",
       "  <tbody>\n",
       "    <tr>\n",
       "      <th>0</th>\n",
       "      <td>892</td>\n",
       "      <td>3</td>\n",
       "      <td>1</td>\n",
       "      <td>34.5</td>\n",
       "      <td>0</td>\n",
       "      <td>0</td>\n",
       "      <td>7.8292</td>\n",
       "    </tr>\n",
       "    <tr>\n",
       "      <th>1</th>\n",
       "      <td>893</td>\n",
       "      <td>3</td>\n",
       "      <td>0</td>\n",
       "      <td>47.0</td>\n",
       "      <td>1</td>\n",
       "      <td>0</td>\n",
       "      <td>7.0000</td>\n",
       "    </tr>\n",
       "    <tr>\n",
       "      <th>2</th>\n",
       "      <td>894</td>\n",
       "      <td>2</td>\n",
       "      <td>1</td>\n",
       "      <td>62.0</td>\n",
       "      <td>0</td>\n",
       "      <td>0</td>\n",
       "      <td>9.6875</td>\n",
       "    </tr>\n",
       "    <tr>\n",
       "      <th>3</th>\n",
       "      <td>895</td>\n",
       "      <td>3</td>\n",
       "      <td>1</td>\n",
       "      <td>27.0</td>\n",
       "      <td>0</td>\n",
       "      <td>0</td>\n",
       "      <td>8.6625</td>\n",
       "    </tr>\n",
       "    <tr>\n",
       "      <th>4</th>\n",
       "      <td>896</td>\n",
       "      <td>3</td>\n",
       "      <td>0</td>\n",
       "      <td>22.0</td>\n",
       "      <td>1</td>\n",
       "      <td>1</td>\n",
       "      <td>12.2875</td>\n",
       "    </tr>\n",
       "  </tbody>\n",
       "</table>\n",
       "</div>"
      ],
      "text/plain": [
       "   PassengerId  Pclass  Sex   Age  SibSp  Parch     Fare\n",
       "0          892       3    1  34.5      0      0   7.8292\n",
       "1          893       3    0  47.0      1      0   7.0000\n",
       "2          894       2    1  62.0      0      0   9.6875\n",
       "3          895       3    1  27.0      0      0   8.6625\n",
       "4          896       3    0  22.0      1      1  12.2875"
      ]
     },
     "execution_count": 22,
     "metadata": {},
     "output_type": "execute_result"
    }
   ],
   "source": [
    "#GENDER\n",
    "test['Sex']=test['Sex'].map({'female':0,'male':1})\n",
    "\n",
    "features=list(X.columns)\n",
    "test=test[features]\n",
    "\n",
    "test=test.fillna(test.mean())\n",
    "test.head()"
   ]
  },
  {
   "cell_type": "markdown",
   "id": "88027010",
   "metadata": {
    "papermill": {
     "duration": 0.050368,
     "end_time": "2022-09-22T20:16:34.690438",
     "exception": false,
     "start_time": "2022-09-22T20:16:34.640070",
     "status": "completed"
    },
    "tags": []
   },
   "source": [
    "# Final Prediction"
   ]
  },
  {
   "cell_type": "code",
   "execution_count": 23,
   "id": "5e260366",
   "metadata": {
    "execution": {
     "iopub.execute_input": "2022-09-22T20:16:34.794504Z",
     "iopub.status.busy": "2022-09-22T20:16:34.794183Z",
     "iopub.status.idle": "2022-09-22T20:16:34.820216Z",
     "shell.execute_reply": "2022-09-22T20:16:34.812781Z"
    },
    "papermill": {
     "duration": 0.081941,
     "end_time": "2022-09-22T20:16:34.822746",
     "exception": false,
     "start_time": "2022-09-22T20:16:34.740805",
     "status": "completed"
    },
    "tags": []
   },
   "outputs": [
    {
     "data": {
      "text/html": [
       "<div>\n",
       "<style scoped>\n",
       "    .dataframe tbody tr th:only-of-type {\n",
       "        vertical-align: middle;\n",
       "    }\n",
       "\n",
       "    .dataframe tbody tr th {\n",
       "        vertical-align: top;\n",
       "    }\n",
       "\n",
       "    .dataframe thead th {\n",
       "        text-align: right;\n",
       "    }\n",
       "</style>\n",
       "<table border=\"1\" class=\"dataframe\">\n",
       "  <thead>\n",
       "    <tr style=\"text-align: right;\">\n",
       "      <th></th>\n",
       "      <th>PassengerId</th>\n",
       "      <th>Survived</th>\n",
       "    </tr>\n",
       "  </thead>\n",
       "  <tbody>\n",
       "    <tr>\n",
       "      <th>0</th>\n",
       "      <td>892</td>\n",
       "      <td>0</td>\n",
       "    </tr>\n",
       "    <tr>\n",
       "      <th>1</th>\n",
       "      <td>893</td>\n",
       "      <td>1</td>\n",
       "    </tr>\n",
       "    <tr>\n",
       "      <th>2</th>\n",
       "      <td>894</td>\n",
       "      <td>0</td>\n",
       "    </tr>\n",
       "    <tr>\n",
       "      <th>3</th>\n",
       "      <td>895</td>\n",
       "      <td>0</td>\n",
       "    </tr>\n",
       "    <tr>\n",
       "      <th>4</th>\n",
       "      <td>896</td>\n",
       "      <td>1</td>\n",
       "    </tr>\n",
       "    <tr>\n",
       "      <th>5</th>\n",
       "      <td>897</td>\n",
       "      <td>0</td>\n",
       "    </tr>\n",
       "    <tr>\n",
       "      <th>6</th>\n",
       "      <td>898</td>\n",
       "      <td>1</td>\n",
       "    </tr>\n",
       "  </tbody>\n",
       "</table>\n",
       "</div>"
      ],
      "text/plain": [
       "   PassengerId  Survived\n",
       "0          892         0\n",
       "1          893         1\n",
       "2          894         0\n",
       "3          895         0\n",
       "4          896         1\n",
       "5          897         0\n",
       "6          898         1"
      ]
     },
     "execution_count": 23,
     "metadata": {},
     "output_type": "execute_result"
    }
   ],
   "source": [
    "test_predictions = boost_gs.predict(test)\n",
    "passID=test['PassengerId']\n",
    "tupleData = list(zip(passID, test_predictions))\n",
    "output = pd.DataFrame(tupleData, columns = ['PassengerId', 'Survived'])\n",
    "output.head(7)"
   ]
  },
  {
   "cell_type": "code",
   "execution_count": 24,
   "id": "a5d847d7",
   "metadata": {
    "execution": {
     "iopub.execute_input": "2022-09-22T20:16:34.928641Z",
     "iopub.status.busy": "2022-09-22T20:16:34.928220Z",
     "iopub.status.idle": "2022-09-22T20:16:34.936302Z",
     "shell.execute_reply": "2022-09-22T20:16:34.935288Z"
    },
    "papermill": {
     "duration": 0.063318,
     "end_time": "2022-09-22T20:16:34.938444",
     "exception": false,
     "start_time": "2022-09-22T20:16:34.875126",
     "status": "completed"
    },
    "tags": []
   },
   "outputs": [
    {
     "name": "stdout",
     "output_type": "stream",
     "text": [
      "Your submission was successfully saved!\n"
     ]
    }
   ],
   "source": [
    "output.to_csv('submission.csv', index=False)\n",
    "print(\"Your submission was successfully saved!\")"
   ]
  }
 ],
 "metadata": {
  "kernelspec": {
   "display_name": "Python 3",
   "language": "python",
   "name": "python3"
  },
  "language_info": {
   "codemirror_mode": {
    "name": "ipython",
    "version": 3
   },
   "file_extension": ".py",
   "mimetype": "text/x-python",
   "name": "python",
   "nbconvert_exporter": "python",
   "pygments_lexer": "ipython3",
   "version": "3.7.12"
  },
  "papermill": {
   "default_parameters": {},
   "duration": 174.440206,
   "end_time": "2022-09-22T20:16:35.913480",
   "environment_variables": {},
   "exception": null,
   "input_path": "__notebook__.ipynb",
   "output_path": "__notebook__.ipynb",
   "parameters": {},
   "start_time": "2022-09-22T20:13:41.473274",
   "version": "2.3.4"
  }
 },
 "nbformat": 4,
 "nbformat_minor": 5
}
