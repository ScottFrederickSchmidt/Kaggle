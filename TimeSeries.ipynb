{
 "cells": [
  {
   "cell_type": "markdown",
   "id": "f1c91750",
   "metadata": {
    "papermill": {
     "duration": 0.035473,
     "end_time": "2022-06-15T21:12:53.323301",
     "exception": false,
     "start_time": "2022-06-15T21:12:53.287828",
     "status": "completed"
    },
    "tags": []
   },
   "source": [
    "# Store Sales \n",
    "Use time series forecating and machine learning to predict grocery sales. Predict sales for the thousands of product families sold at Favorita stores located in Ecuador. The training data includes dates, store and product information, whether that item was being promoted, as well as the sales numbers. More accurate forecasting can decrease food waste related to overstocking and improve customer satisfaction. "
   ]
  },
  {
   "cell_type": "markdown",
   "id": "325fd9df",
   "metadata": {
    "papermill": {
     "duration": 0.032995,
     "end_time": "2022-06-15T21:12:53.390118",
     "exception": false,
     "start_time": "2022-06-15T21:12:53.357123",
     "status": "completed"
    },
    "tags": []
   },
   "source": [
    "# Datasets "
   ]
  },
  {
   "cell_type": "code",
   "execution_count": 1,
   "id": "807d9288",
   "metadata": {
    "_kg_hide-input": true,
    "execution": {
     "iopub.execute_input": "2022-06-15T21:12:53.470429Z",
     "iopub.status.busy": "2022-06-15T21:12:53.469807Z",
     "iopub.status.idle": "2022-06-15T21:12:55.096109Z",
     "shell.execute_reply": "2022-06-15T21:12:55.095337Z",
     "shell.execute_reply.started": "2022-06-15T20:14:47.532855Z"
    },
    "papermill": {
     "duration": 1.671165,
     "end_time": "2022-06-15T21:12:55.096267",
     "exception": false,
     "start_time": "2022-06-15T21:12:53.425102",
     "status": "completed"
    },
    "tags": []
   },
   "outputs": [],
   "source": [
    "import numpy as np\n",
    "import pandas as pd\n",
    "import seaborn as sns\n",
    "import matplotlib.pyplot as plt\n",
    "from sklearn.model_selection import train_test_split, cross_validate\n",
    "from statistics import mean\n",
    "from sklearn.metrics import mean_absolute_error, mean_squared_error, r2_score\n",
    "from sklearn.datasets import make_classification\n",
    "from sklearn import ensemble\n",
    "import sklearn.metrics as metrics\n",
    "import time\n",
    "\n",
    "train=r'/kaggle/input/store-sales-time-series-forecasting/train.csv'\n",
    "test=r'/kaggle/input/store-sales-time-series-forecasting/test.csv'\n",
    "transaction=r'/kaggle/input/store-sales-time-series-forecasting/transactions.csv'\n",
    "stores=r'/kaggle/input/store-sales-time-series-forecasting/stores.csv'\n",
    "oil=r'/kaggle/input/store-sales-time-series-forecasting/oil.csv'\n",
    "event=r'/kaggle/input/store-sales-time-series-forecasting/holidays_events.csv'"
   ]
  },
  {
   "cell_type": "markdown",
   "id": "22da68f1",
   "metadata": {
    "papermill": {
     "duration": 0.03299,
     "end_time": "2022-06-15T21:12:55.162750",
     "exception": false,
     "start_time": "2022-06-15T21:12:55.129760",
     "status": "completed"
    },
    "tags": []
   },
   "source": [
    "# Train Dataset\n",
    "The shape of the train dataset is 3,000,888 rows × 6 columns. The training data includes dates, store and product information, whether that item was being promoted, as well as the sales numbers."
   ]
  },
  {
   "cell_type": "code",
   "execution_count": 2,
   "id": "482347b7",
   "metadata": {
    "execution": {
     "iopub.execute_input": "2022-06-15T21:12:55.234189Z",
     "iopub.status.busy": "2022-06-15T21:12:55.232221Z",
     "iopub.status.idle": "2022-06-15T21:12:57.809805Z",
     "shell.execute_reply": "2022-06-15T21:12:57.810466Z",
     "shell.execute_reply.started": "2022-06-15T20:14:48.934688Z"
    },
    "papermill": {
     "duration": 2.614595,
     "end_time": "2022-06-15T21:12:57.810702",
     "exception": false,
     "start_time": "2022-06-15T21:12:55.196107",
     "status": "completed"
    },
    "tags": []
   },
   "outputs": [
    {
     "name": "stdout",
     "output_type": "stream",
     "text": [
      "(3000888, 6)\n"
     ]
    },
    {
     "data": {
      "text/html": [
       "<div>\n",
       "<style scoped>\n",
       "    .dataframe tbody tr th:only-of-type {\n",
       "        vertical-align: middle;\n",
       "    }\n",
       "\n",
       "    .dataframe tbody tr th {\n",
       "        vertical-align: top;\n",
       "    }\n",
       "\n",
       "    .dataframe thead th {\n",
       "        text-align: right;\n",
       "    }\n",
       "</style>\n",
       "<table border=\"1\" class=\"dataframe\">\n",
       "  <thead>\n",
       "    <tr style=\"text-align: right;\">\n",
       "      <th></th>\n",
       "      <th>id</th>\n",
       "      <th>date</th>\n",
       "      <th>store_nbr</th>\n",
       "      <th>family</th>\n",
       "      <th>sales</th>\n",
       "      <th>onpromotion</th>\n",
       "    </tr>\n",
       "  </thead>\n",
       "  <tbody>\n",
       "    <tr>\n",
       "      <th>0</th>\n",
       "      <td>0</td>\n",
       "      <td>2013-01-01</td>\n",
       "      <td>1</td>\n",
       "      <td>AUTOMOTIVE</td>\n",
       "      <td>0.0</td>\n",
       "      <td>0</td>\n",
       "    </tr>\n",
       "    <tr>\n",
       "      <th>1</th>\n",
       "      <td>1</td>\n",
       "      <td>2013-01-01</td>\n",
       "      <td>1</td>\n",
       "      <td>BABY CARE</td>\n",
       "      <td>0.0</td>\n",
       "      <td>0</td>\n",
       "    </tr>\n",
       "    <tr>\n",
       "      <th>2</th>\n",
       "      <td>2</td>\n",
       "      <td>2013-01-01</td>\n",
       "      <td>1</td>\n",
       "      <td>BEAUTY</td>\n",
       "      <td>0.0</td>\n",
       "      <td>0</td>\n",
       "    </tr>\n",
       "    <tr>\n",
       "      <th>3</th>\n",
       "      <td>3</td>\n",
       "      <td>2013-01-01</td>\n",
       "      <td>1</td>\n",
       "      <td>BEVERAGES</td>\n",
       "      <td>0.0</td>\n",
       "      <td>0</td>\n",
       "    </tr>\n",
       "    <tr>\n",
       "      <th>4</th>\n",
       "      <td>4</td>\n",
       "      <td>2013-01-01</td>\n",
       "      <td>1</td>\n",
       "      <td>BOOKS</td>\n",
       "      <td>0.0</td>\n",
       "      <td>0</td>\n",
       "    </tr>\n",
       "    <tr>\n",
       "      <th>5</th>\n",
       "      <td>5</td>\n",
       "      <td>2013-01-01</td>\n",
       "      <td>1</td>\n",
       "      <td>BREAD/BAKERY</td>\n",
       "      <td>0.0</td>\n",
       "      <td>0</td>\n",
       "    </tr>\n",
       "    <tr>\n",
       "      <th>6</th>\n",
       "      <td>6</td>\n",
       "      <td>2013-01-01</td>\n",
       "      <td>1</td>\n",
       "      <td>CELEBRATION</td>\n",
       "      <td>0.0</td>\n",
       "      <td>0</td>\n",
       "    </tr>\n",
       "    <tr>\n",
       "      <th>7</th>\n",
       "      <td>7</td>\n",
       "      <td>2013-01-01</td>\n",
       "      <td>1</td>\n",
       "      <td>CLEANING</td>\n",
       "      <td>0.0</td>\n",
       "      <td>0</td>\n",
       "    </tr>\n",
       "    <tr>\n",
       "      <th>8</th>\n",
       "      <td>8</td>\n",
       "      <td>2013-01-01</td>\n",
       "      <td>1</td>\n",
       "      <td>DAIRY</td>\n",
       "      <td>0.0</td>\n",
       "      <td>0</td>\n",
       "    </tr>\n",
       "    <tr>\n",
       "      <th>9</th>\n",
       "      <td>9</td>\n",
       "      <td>2013-01-01</td>\n",
       "      <td>1</td>\n",
       "      <td>DELI</td>\n",
       "      <td>0.0</td>\n",
       "      <td>0</td>\n",
       "    </tr>\n",
       "  </tbody>\n",
       "</table>\n",
       "</div>"
      ],
      "text/plain": [
       "   id        date  store_nbr        family  sales  onpromotion\n",
       "0   0  2013-01-01          1    AUTOMOTIVE    0.0            0\n",
       "1   1  2013-01-01          1     BABY CARE    0.0            0\n",
       "2   2  2013-01-01          1        BEAUTY    0.0            0\n",
       "3   3  2013-01-01          1     BEVERAGES    0.0            0\n",
       "4   4  2013-01-01          1         BOOKS    0.0            0\n",
       "5   5  2013-01-01          1  BREAD/BAKERY    0.0            0\n",
       "6   6  2013-01-01          1   CELEBRATION    0.0            0\n",
       "7   7  2013-01-01          1      CLEANING    0.0            0\n",
       "8   8  2013-01-01          1         DAIRY    0.0            0\n",
       "9   9  2013-01-01          1          DELI    0.0            0"
      ]
     },
     "execution_count": 2,
     "metadata": {},
     "output_type": "execute_result"
    }
   ],
   "source": [
    "train=pd.read_csv(train)\n",
    "print(train.shape) #(3000888, 6)\n",
    "train.head(10)"
   ]
  },
  {
   "cell_type": "code",
   "execution_count": 3,
   "id": "71e1b694",
   "metadata": {
    "execution": {
     "iopub.execute_input": "2022-06-15T21:12:57.894106Z",
     "iopub.status.busy": "2022-06-15T21:12:57.893041Z",
     "iopub.status.idle": "2022-06-15T21:12:58.029005Z",
     "shell.execute_reply": "2022-06-15T21:12:58.029449Z",
     "shell.execute_reply.started": "2022-06-15T20:14:51.866098Z"
    },
    "papermill": {
     "duration": 0.183985,
     "end_time": "2022-06-15T21:12:58.029655",
     "exception": false,
     "start_time": "2022-06-15T21:12:57.845670",
     "status": "completed"
    },
    "tags": []
   },
   "outputs": [
    {
     "data": {
      "text/html": [
       "<div>\n",
       "<style scoped>\n",
       "    .dataframe tbody tr th:only-of-type {\n",
       "        vertical-align: middle;\n",
       "    }\n",
       "\n",
       "    .dataframe tbody tr th {\n",
       "        vertical-align: top;\n",
       "    }\n",
       "\n",
       "    .dataframe thead th {\n",
       "        text-align: right;\n",
       "    }\n",
       "</style>\n",
       "<table border=\"1\" class=\"dataframe\">\n",
       "  <thead>\n",
       "    <tr style=\"text-align: right;\">\n",
       "      <th></th>\n",
       "      <th>id</th>\n",
       "      <th>date</th>\n",
       "      <th>store_nbr</th>\n",
       "      <th>family</th>\n",
       "      <th>sales</th>\n",
       "      <th>onpromotion</th>\n",
       "    </tr>\n",
       "  </thead>\n",
       "  <tbody>\n",
       "    <tr>\n",
       "      <th>563</th>\n",
       "      <td>563</td>\n",
       "      <td>2013-01-01</td>\n",
       "      <td>25</td>\n",
       "      <td>BEAUTY</td>\n",
       "      <td>2.000</td>\n",
       "      <td>0</td>\n",
       "    </tr>\n",
       "    <tr>\n",
       "      <th>564</th>\n",
       "      <td>564</td>\n",
       "      <td>2013-01-01</td>\n",
       "      <td>25</td>\n",
       "      <td>BEVERAGES</td>\n",
       "      <td>810.000</td>\n",
       "      <td>0</td>\n",
       "    </tr>\n",
       "    <tr>\n",
       "      <th>566</th>\n",
       "      <td>566</td>\n",
       "      <td>2013-01-01</td>\n",
       "      <td>25</td>\n",
       "      <td>BREAD/BAKERY</td>\n",
       "      <td>180.589</td>\n",
       "      <td>0</td>\n",
       "    </tr>\n",
       "    <tr>\n",
       "      <th>568</th>\n",
       "      <td>568</td>\n",
       "      <td>2013-01-01</td>\n",
       "      <td>25</td>\n",
       "      <td>CLEANING</td>\n",
       "      <td>186.000</td>\n",
       "      <td>0</td>\n",
       "    </tr>\n",
       "    <tr>\n",
       "      <th>569</th>\n",
       "      <td>569</td>\n",
       "      <td>2013-01-01</td>\n",
       "      <td>25</td>\n",
       "      <td>DAIRY</td>\n",
       "      <td>143.000</td>\n",
       "      <td>0</td>\n",
       "    </tr>\n",
       "  </tbody>\n",
       "</table>\n",
       "</div>"
      ],
      "text/plain": [
       "      id        date  store_nbr        family    sales  onpromotion\n",
       "563  563  2013-01-01         25        BEAUTY    2.000            0\n",
       "564  564  2013-01-01         25     BEVERAGES  810.000            0\n",
       "566  566  2013-01-01         25  BREAD/BAKERY  180.589            0\n",
       "568  568  2013-01-01         25      CLEANING  186.000            0\n",
       "569  569  2013-01-01         25         DAIRY  143.000            0"
      ]
     },
     "execution_count": 3,
     "metadata": {},
     "output_type": "execute_result"
    }
   ],
   "source": [
    "train = train[train.sales != 0]\n",
    "train.head()"
   ]
  },
  {
   "cell_type": "markdown",
   "id": "13c66bc6",
   "metadata": {
    "papermill": {
     "duration": 0.034576,
     "end_time": "2022-06-15T21:12:58.098648",
     "exception": false,
     "start_time": "2022-06-15T21:12:58.064072",
     "status": "completed"
    },
    "tags": []
   },
   "source": [
    "# Feature Engineer Train Data\n",
    "Create new features including year, month, and day."
   ]
  },
  {
   "cell_type": "code",
   "execution_count": 4,
   "id": "47d309e2",
   "metadata": {
    "execution": {
     "iopub.execute_input": "2022-06-15T21:12:58.171766Z",
     "iopub.status.busy": "2022-06-15T21:12:58.171095Z",
     "iopub.status.idle": "2022-06-15T21:12:59.429649Z",
     "shell.execute_reply": "2022-06-15T21:12:59.429131Z",
     "shell.execute_reply.started": "2022-06-15T20:14:52.010718Z"
    },
    "papermill": {
     "duration": 1.296745,
     "end_time": "2022-06-15T21:12:59.429791",
     "exception": false,
     "start_time": "2022-06-15T21:12:58.133046",
     "status": "completed"
    },
    "tags": []
   },
   "outputs": [
    {
     "data": {
      "text/html": [
       "<div>\n",
       "<style scoped>\n",
       "    .dataframe tbody tr th:only-of-type {\n",
       "        vertical-align: middle;\n",
       "    }\n",
       "\n",
       "    .dataframe tbody tr th {\n",
       "        vertical-align: top;\n",
       "    }\n",
       "\n",
       "    .dataframe thead th {\n",
       "        text-align: right;\n",
       "    }\n",
       "</style>\n",
       "<table border=\"1\" class=\"dataframe\">\n",
       "  <thead>\n",
       "    <tr style=\"text-align: right;\">\n",
       "      <th></th>\n",
       "      <th>id</th>\n",
       "      <th>date</th>\n",
       "      <th>store_nbr</th>\n",
       "      <th>family</th>\n",
       "      <th>sales</th>\n",
       "      <th>onpromotion</th>\n",
       "      <th>month</th>\n",
       "    </tr>\n",
       "  </thead>\n",
       "  <tbody>\n",
       "    <tr>\n",
       "      <th>563</th>\n",
       "      <td>563</td>\n",
       "      <td>2013-01-01</td>\n",
       "      <td>25</td>\n",
       "      <td>BEAUTY</td>\n",
       "      <td>2.000</td>\n",
       "      <td>0</td>\n",
       "      <td>1</td>\n",
       "    </tr>\n",
       "    <tr>\n",
       "      <th>564</th>\n",
       "      <td>564</td>\n",
       "      <td>2013-01-01</td>\n",
       "      <td>25</td>\n",
       "      <td>BEVERAGES</td>\n",
       "      <td>810.000</td>\n",
       "      <td>0</td>\n",
       "      <td>1</td>\n",
       "    </tr>\n",
       "    <tr>\n",
       "      <th>566</th>\n",
       "      <td>566</td>\n",
       "      <td>2013-01-01</td>\n",
       "      <td>25</td>\n",
       "      <td>BREAD/BAKERY</td>\n",
       "      <td>180.589</td>\n",
       "      <td>0</td>\n",
       "      <td>1</td>\n",
       "    </tr>\n",
       "    <tr>\n",
       "      <th>568</th>\n",
       "      <td>568</td>\n",
       "      <td>2013-01-01</td>\n",
       "      <td>25</td>\n",
       "      <td>CLEANING</td>\n",
       "      <td>186.000</td>\n",
       "      <td>0</td>\n",
       "      <td>1</td>\n",
       "    </tr>\n",
       "    <tr>\n",
       "      <th>569</th>\n",
       "      <td>569</td>\n",
       "      <td>2013-01-01</td>\n",
       "      <td>25</td>\n",
       "      <td>DAIRY</td>\n",
       "      <td>143.000</td>\n",
       "      <td>0</td>\n",
       "      <td>1</td>\n",
       "    </tr>\n",
       "  </tbody>\n",
       "</table>\n",
       "</div>"
      ],
      "text/plain": [
       "      id        date  store_nbr        family    sales  onpromotion  month\n",
       "563  563  2013-01-01         25        BEAUTY    2.000            0      1\n",
       "564  564  2013-01-01         25     BEVERAGES  810.000            0      1\n",
       "566  566  2013-01-01         25  BREAD/BAKERY  180.589            0      1\n",
       "568  568  2013-01-01         25      CLEANING  186.000            0      1\n",
       "569  569  2013-01-01         25         DAIRY  143.000            0      1"
      ]
     },
     "execution_count": 4,
     "metadata": {},
     "output_type": "execute_result"
    }
   ],
   "source": [
    "import datetime as dt\n",
    "from datetime import datetime\n",
    "\n",
    "#train['year']=train['date'].apply(lambda x: int(str(x)[:4])) #first four\n",
    "train['month']=train['date'].apply(lambda x: int(str(x)[5:7])) #five and six\n",
    "#train['day']=train['date'].apply(lambda x: int(str(x)[-2:])) # last two\n",
    "train['sales'].astype(int)\n",
    "train.head()"
   ]
  },
  {
   "cell_type": "code",
   "execution_count": 5,
   "id": "66247c0b",
   "metadata": {
    "execution": {
     "iopub.execute_input": "2022-06-15T21:12:59.515540Z",
     "iopub.status.busy": "2022-06-15T21:12:59.514612Z",
     "iopub.status.idle": "2022-06-15T21:12:59.520938Z",
     "shell.execute_reply": "2022-06-15T21:12:59.520391Z",
     "shell.execute_reply.started": "2022-06-15T20:14:54.140839Z"
    },
    "papermill": {
     "duration": 0.056084,
     "end_time": "2022-06-15T21:12:59.521085",
     "exception": false,
     "start_time": "2022-06-15T21:12:59.465001",
     "status": "completed"
    },
    "tags": []
   },
   "outputs": [
    {
     "data": {
      "text/plain": [
       "id               int64\n",
       "date            object\n",
       "store_nbr        int64\n",
       "family          object\n",
       "sales          float64\n",
       "onpromotion      int64\n",
       "month            int64\n",
       "dtype: object"
      ]
     },
     "execution_count": 5,
     "metadata": {},
     "output_type": "execute_result"
    }
   ],
   "source": [
    "train.dtypes"
   ]
  },
  {
   "cell_type": "markdown",
   "id": "da326b7a",
   "metadata": {
    "papermill": {
     "duration": 0.051006,
     "end_time": "2022-06-15T21:12:59.611657",
     "exception": false,
     "start_time": "2022-06-15T21:12:59.560651",
     "status": "completed"
    },
    "tags": []
   },
   "source": [
    "# Correlations\n",
    "On a side note, AUC for logistic regression for onpromotions was: 0.8779. Therefore, promotions play a very significant part of sales. "
   ]
  },
  {
   "cell_type": "code",
   "execution_count": 6,
   "id": "729e3a92",
   "metadata": {
    "execution": {
     "iopub.execute_input": "2022-06-15T21:12:59.695141Z",
     "iopub.status.busy": "2022-06-15T21:12:59.694141Z",
     "iopub.status.idle": "2022-06-15T21:12:59.977078Z",
     "shell.execute_reply": "2022-06-15T21:12:59.977810Z",
     "shell.execute_reply.started": "2022-06-15T20:14:54.149907Z"
    },
    "papermill": {
     "duration": 0.330555,
     "end_time": "2022-06-15T21:12:59.978042",
     "exception": false,
     "start_time": "2022-06-15T21:12:59.647487",
     "status": "completed"
    },
    "tags": []
   },
   "outputs": [
    {
     "data": {
      "text/html": [
       "<div>\n",
       "<style scoped>\n",
       "    .dataframe tbody tr th:only-of-type {\n",
       "        vertical-align: middle;\n",
       "    }\n",
       "\n",
       "    .dataframe tbody tr th {\n",
       "        vertical-align: top;\n",
       "    }\n",
       "\n",
       "    .dataframe thead th {\n",
       "        text-align: right;\n",
       "    }\n",
       "</style>\n",
       "<table border=\"1\" class=\"dataframe\">\n",
       "  <thead>\n",
       "    <tr style=\"text-align: right;\">\n",
       "      <th></th>\n",
       "      <th>id</th>\n",
       "      <th>store_nbr</th>\n",
       "      <th>sales</th>\n",
       "      <th>onpromotion</th>\n",
       "      <th>month</th>\n",
       "    </tr>\n",
       "  </thead>\n",
       "  <tbody>\n",
       "    <tr>\n",
       "      <th>id</th>\n",
       "      <td>1.000000</td>\n",
       "      <td>0.016540</td>\n",
       "      <td>0.031160</td>\n",
       "      <td>0.208065</td>\n",
       "      <td>0.038940</td>\n",
       "    </tr>\n",
       "    <tr>\n",
       "      <th>store_nbr</th>\n",
       "      <td>0.016540</td>\n",
       "      <td>1.000000</td>\n",
       "      <td>0.061742</td>\n",
       "      <td>0.016210</td>\n",
       "      <td>0.003357</td>\n",
       "    </tr>\n",
       "    <tr>\n",
       "      <th>sales</th>\n",
       "      <td>0.031160</td>\n",
       "      <td>0.061742</td>\n",
       "      <td>1.000000</td>\n",
       "      <td>0.410608</td>\n",
       "      <td>0.012308</td>\n",
       "    </tr>\n",
       "    <tr>\n",
       "      <th>onpromotion</th>\n",
       "      <td>0.208065</td>\n",
       "      <td>0.016210</td>\n",
       "      <td>0.410608</td>\n",
       "      <td>1.000000</td>\n",
       "      <td>0.023665</td>\n",
       "    </tr>\n",
       "    <tr>\n",
       "      <th>month</th>\n",
       "      <td>0.038940</td>\n",
       "      <td>0.003357</td>\n",
       "      <td>0.012308</td>\n",
       "      <td>0.023665</td>\n",
       "      <td>1.000000</td>\n",
       "    </tr>\n",
       "  </tbody>\n",
       "</table>\n",
       "</div>"
      ],
      "text/plain": [
       "                   id  store_nbr     sales  onpromotion     month\n",
       "id           1.000000   0.016540  0.031160     0.208065  0.038940\n",
       "store_nbr    0.016540   1.000000  0.061742     0.016210  0.003357\n",
       "sales        0.031160   0.061742  1.000000     0.410608  0.012308\n",
       "onpromotion  0.208065   0.016210  0.410608     1.000000  0.023665\n",
       "month        0.038940   0.003357  0.012308     0.023665  1.000000"
      ]
     },
     "execution_count": 6,
     "metadata": {},
     "output_type": "execute_result"
    }
   ],
   "source": [
    "train.corr()"
   ]
  },
  {
   "cell_type": "markdown",
   "id": "692812dc",
   "metadata": {
    "papermill": {
     "duration": 0.034976,
     "end_time": "2022-06-15T21:13:00.054272",
     "exception": false,
     "start_time": "2022-06-15T21:13:00.019296",
     "status": "completed"
    },
    "tags": []
   },
   "source": [
    "# Events Data"
   ]
  },
  {
   "cell_type": "code",
   "execution_count": 7,
   "id": "c0b49c05",
   "metadata": {
    "execution": {
     "iopub.execute_input": "2022-06-15T21:13:00.132106Z",
     "iopub.status.busy": "2022-06-15T21:13:00.131451Z",
     "iopub.status.idle": "2022-06-15T21:13:00.154593Z",
     "shell.execute_reply": "2022-06-15T21:13:00.155153Z",
     "shell.execute_reply.started": "2022-06-15T20:14:54.416109Z"
    },
    "papermill": {
     "duration": 0.064024,
     "end_time": "2022-06-15T21:13:00.155330",
     "exception": false,
     "start_time": "2022-06-15T21:13:00.091306",
     "status": "completed"
    },
    "tags": []
   },
   "outputs": [
    {
     "name": "stdout",
     "output_type": "stream",
     "text": [
      "(350, 6)\n"
     ]
    },
    {
     "data": {
      "text/html": [
       "<div>\n",
       "<style scoped>\n",
       "    .dataframe tbody tr th:only-of-type {\n",
       "        vertical-align: middle;\n",
       "    }\n",
       "\n",
       "    .dataframe tbody tr th {\n",
       "        vertical-align: top;\n",
       "    }\n",
       "\n",
       "    .dataframe thead th {\n",
       "        text-align: right;\n",
       "    }\n",
       "</style>\n",
       "<table border=\"1\" class=\"dataframe\">\n",
       "  <thead>\n",
       "    <tr style=\"text-align: right;\">\n",
       "      <th></th>\n",
       "      <th>date</th>\n",
       "      <th>type</th>\n",
       "      <th>locale</th>\n",
       "      <th>locale_name</th>\n",
       "      <th>description</th>\n",
       "      <th>transferred</th>\n",
       "    </tr>\n",
       "  </thead>\n",
       "  <tbody>\n",
       "    <tr>\n",
       "      <th>0</th>\n",
       "      <td>2012-03-02</td>\n",
       "      <td>Holiday</td>\n",
       "      <td>Local</td>\n",
       "      <td>Manta</td>\n",
       "      <td>Fundacion de Manta</td>\n",
       "      <td>False</td>\n",
       "    </tr>\n",
       "    <tr>\n",
       "      <th>1</th>\n",
       "      <td>2012-04-01</td>\n",
       "      <td>Holiday</td>\n",
       "      <td>Regional</td>\n",
       "      <td>Cotopaxi</td>\n",
       "      <td>Provincializacion de Cotopaxi</td>\n",
       "      <td>False</td>\n",
       "    </tr>\n",
       "    <tr>\n",
       "      <th>2</th>\n",
       "      <td>2012-04-12</td>\n",
       "      <td>Holiday</td>\n",
       "      <td>Local</td>\n",
       "      <td>Cuenca</td>\n",
       "      <td>Fundacion de Cuenca</td>\n",
       "      <td>False</td>\n",
       "    </tr>\n",
       "    <tr>\n",
       "      <th>3</th>\n",
       "      <td>2012-04-14</td>\n",
       "      <td>Holiday</td>\n",
       "      <td>Local</td>\n",
       "      <td>Libertad</td>\n",
       "      <td>Cantonizacion de Libertad</td>\n",
       "      <td>False</td>\n",
       "    </tr>\n",
       "    <tr>\n",
       "      <th>4</th>\n",
       "      <td>2012-04-21</td>\n",
       "      <td>Holiday</td>\n",
       "      <td>Local</td>\n",
       "      <td>Riobamba</td>\n",
       "      <td>Cantonizacion de Riobamba</td>\n",
       "      <td>False</td>\n",
       "    </tr>\n",
       "    <tr>\n",
       "      <th>5</th>\n",
       "      <td>2012-05-12</td>\n",
       "      <td>Holiday</td>\n",
       "      <td>Local</td>\n",
       "      <td>Puyo</td>\n",
       "      <td>Cantonizacion del Puyo</td>\n",
       "      <td>False</td>\n",
       "    </tr>\n",
       "    <tr>\n",
       "      <th>6</th>\n",
       "      <td>2012-06-23</td>\n",
       "      <td>Holiday</td>\n",
       "      <td>Local</td>\n",
       "      <td>Guaranda</td>\n",
       "      <td>Cantonizacion de Guaranda</td>\n",
       "      <td>False</td>\n",
       "    </tr>\n",
       "    <tr>\n",
       "      <th>7</th>\n",
       "      <td>2012-06-25</td>\n",
       "      <td>Holiday</td>\n",
       "      <td>Regional</td>\n",
       "      <td>Imbabura</td>\n",
       "      <td>Provincializacion de Imbabura</td>\n",
       "      <td>False</td>\n",
       "    </tr>\n",
       "    <tr>\n",
       "      <th>8</th>\n",
       "      <td>2012-06-25</td>\n",
       "      <td>Holiday</td>\n",
       "      <td>Local</td>\n",
       "      <td>Latacunga</td>\n",
       "      <td>Cantonizacion de Latacunga</td>\n",
       "      <td>False</td>\n",
       "    </tr>\n",
       "    <tr>\n",
       "      <th>9</th>\n",
       "      <td>2012-06-25</td>\n",
       "      <td>Holiday</td>\n",
       "      <td>Local</td>\n",
       "      <td>Machala</td>\n",
       "      <td>Fundacion de Machala</td>\n",
       "      <td>False</td>\n",
       "    </tr>\n",
       "  </tbody>\n",
       "</table>\n",
       "</div>"
      ],
      "text/plain": [
       "         date     type    locale locale_name                    description  \\\n",
       "0  2012-03-02  Holiday     Local       Manta             Fundacion de Manta   \n",
       "1  2012-04-01  Holiday  Regional    Cotopaxi  Provincializacion de Cotopaxi   \n",
       "2  2012-04-12  Holiday     Local      Cuenca            Fundacion de Cuenca   \n",
       "3  2012-04-14  Holiday     Local    Libertad      Cantonizacion de Libertad   \n",
       "4  2012-04-21  Holiday     Local    Riobamba      Cantonizacion de Riobamba   \n",
       "5  2012-05-12  Holiday     Local        Puyo         Cantonizacion del Puyo   \n",
       "6  2012-06-23  Holiday     Local    Guaranda      Cantonizacion de Guaranda   \n",
       "7  2012-06-25  Holiday  Regional    Imbabura  Provincializacion de Imbabura   \n",
       "8  2012-06-25  Holiday     Local   Latacunga     Cantonizacion de Latacunga   \n",
       "9  2012-06-25  Holiday     Local     Machala           Fundacion de Machala   \n",
       "\n",
       "   transferred  \n",
       "0        False  \n",
       "1        False  \n",
       "2        False  \n",
       "3        False  \n",
       "4        False  \n",
       "5        False  \n",
       "6        False  \n",
       "7        False  \n",
       "8        False  \n",
       "9        False  "
      ]
     },
     "execution_count": 7,
     "metadata": {},
     "output_type": "execute_result"
    }
   ],
   "source": [
    "event=pd.read_csv(event)\n",
    "print(event.shape) #(3000888, 6)\n",
    "event.head(10)"
   ]
  },
  {
   "cell_type": "markdown",
   "id": "6cff47e2",
   "metadata": {
    "papermill": {
     "duration": 0.036842,
     "end_time": "2022-06-15T21:13:00.228955",
     "exception": false,
     "start_time": "2022-06-15T21:13:00.192113",
     "status": "completed"
    },
    "tags": []
   },
   "source": [
    "# Transactions \n",
    "The original transaction dataset is 83488 rows × 3 columns. There was no missing data."
   ]
  },
  {
   "cell_type": "code",
   "execution_count": 8,
   "id": "9398f253",
   "metadata": {
    "execution": {
     "iopub.execute_input": "2022-06-15T21:13:00.305488Z",
     "iopub.status.busy": "2022-06-15T21:13:00.304886Z",
     "iopub.status.idle": "2022-06-15T21:13:00.387256Z",
     "shell.execute_reply": "2022-06-15T21:13:00.386074Z",
     "shell.execute_reply.started": "2022-06-15T20:14:54.442122Z"
    },
    "papermill": {
     "duration": 0.121863,
     "end_time": "2022-06-15T21:13:00.387417",
     "exception": false,
     "start_time": "2022-06-15T21:13:00.265554",
     "status": "completed"
    },
    "tags": []
   },
   "outputs": [
    {
     "data": {
      "text/html": [
       "<div>\n",
       "<style scoped>\n",
       "    .dataframe tbody tr th:only-of-type {\n",
       "        vertical-align: middle;\n",
       "    }\n",
       "\n",
       "    .dataframe tbody tr th {\n",
       "        vertical-align: top;\n",
       "    }\n",
       "\n",
       "    .dataframe thead th {\n",
       "        text-align: right;\n",
       "    }\n",
       "</style>\n",
       "<table border=\"1\" class=\"dataframe\">\n",
       "  <thead>\n",
       "    <tr style=\"text-align: right;\">\n",
       "      <th></th>\n",
       "      <th>date</th>\n",
       "      <th>store_nbr</th>\n",
       "      <th>transactions</th>\n",
       "    </tr>\n",
       "  </thead>\n",
       "  <tbody>\n",
       "    <tr>\n",
       "      <th>0</th>\n",
       "      <td>2013-01-01</td>\n",
       "      <td>25</td>\n",
       "      <td>770</td>\n",
       "    </tr>\n",
       "    <tr>\n",
       "      <th>1</th>\n",
       "      <td>2013-01-02</td>\n",
       "      <td>1</td>\n",
       "      <td>2111</td>\n",
       "    </tr>\n",
       "    <tr>\n",
       "      <th>2</th>\n",
       "      <td>2013-01-02</td>\n",
       "      <td>2</td>\n",
       "      <td>2358</td>\n",
       "    </tr>\n",
       "    <tr>\n",
       "      <th>3</th>\n",
       "      <td>2013-01-02</td>\n",
       "      <td>3</td>\n",
       "      <td>3487</td>\n",
       "    </tr>\n",
       "    <tr>\n",
       "      <th>4</th>\n",
       "      <td>2013-01-02</td>\n",
       "      <td>4</td>\n",
       "      <td>1922</td>\n",
       "    </tr>\n",
       "  </tbody>\n",
       "</table>\n",
       "</div>"
      ],
      "text/plain": [
       "         date  store_nbr  transactions\n",
       "0  2013-01-01         25           770\n",
       "1  2013-01-02          1          2111\n",
       "2  2013-01-02          2          2358\n",
       "3  2013-01-02          3          3487\n",
       "4  2013-01-02          4          1922"
      ]
     },
     "execution_count": 8,
     "metadata": {},
     "output_type": "execute_result"
    }
   ],
   "source": [
    "tDF=pd.read_csv(transaction)\n",
    "tDF.drop_duplicates() \n",
    "tDF.dropna(axis=0, how='any', thresh=None, subset=None, inplace=False) \n",
    "tDF.head() "
   ]
  },
  {
   "cell_type": "code",
   "execution_count": 9,
   "id": "41f93a47",
   "metadata": {
    "execution": {
     "iopub.execute_input": "2022-06-15T21:13:00.464620Z",
     "iopub.status.busy": "2022-06-15T21:13:00.464004Z",
     "iopub.status.idle": "2022-06-15T21:13:00.628861Z",
     "shell.execute_reply": "2022-06-15T21:13:00.629326Z",
     "shell.execute_reply.started": "2022-06-15T20:14:54.530485Z"
    },
    "papermill": {
     "duration": 0.205125,
     "end_time": "2022-06-15T21:13:00.629497",
     "exception": false,
     "start_time": "2022-06-15T21:13:00.424372",
     "status": "completed"
    },
    "tags": []
   },
   "outputs": [
    {
     "data": {
      "text/html": [
       "<div>\n",
       "<style scoped>\n",
       "    .dataframe tbody tr th:only-of-type {\n",
       "        vertical-align: middle;\n",
       "    }\n",
       "\n",
       "    .dataframe tbody tr th {\n",
       "        vertical-align: top;\n",
       "    }\n",
       "\n",
       "    .dataframe thead th {\n",
       "        text-align: right;\n",
       "    }\n",
       "</style>\n",
       "<table border=\"1\" class=\"dataframe\">\n",
       "  <thead>\n",
       "    <tr style=\"text-align: right;\">\n",
       "      <th></th>\n",
       "      <th>date</th>\n",
       "      <th>store_nbr</th>\n",
       "      <th>transactions</th>\n",
       "      <th>year</th>\n",
       "      <th>month</th>\n",
       "      <th>day</th>\n",
       "    </tr>\n",
       "  </thead>\n",
       "  <tbody>\n",
       "    <tr>\n",
       "      <th>0</th>\n",
       "      <td>2013-01-01</td>\n",
       "      <td>25</td>\n",
       "      <td>770</td>\n",
       "      <td>2013</td>\n",
       "      <td>1</td>\n",
       "      <td>1</td>\n",
       "    </tr>\n",
       "    <tr>\n",
       "      <th>1</th>\n",
       "      <td>2013-01-02</td>\n",
       "      <td>1</td>\n",
       "      <td>2111</td>\n",
       "      <td>2013</td>\n",
       "      <td>1</td>\n",
       "      <td>2</td>\n",
       "    </tr>\n",
       "    <tr>\n",
       "      <th>2</th>\n",
       "      <td>2013-01-02</td>\n",
       "      <td>2</td>\n",
       "      <td>2358</td>\n",
       "      <td>2013</td>\n",
       "      <td>1</td>\n",
       "      <td>2</td>\n",
       "    </tr>\n",
       "    <tr>\n",
       "      <th>3</th>\n",
       "      <td>2013-01-02</td>\n",
       "      <td>3</td>\n",
       "      <td>3487</td>\n",
       "      <td>2013</td>\n",
       "      <td>1</td>\n",
       "      <td>2</td>\n",
       "    </tr>\n",
       "    <tr>\n",
       "      <th>4</th>\n",
       "      <td>2013-01-02</td>\n",
       "      <td>4</td>\n",
       "      <td>1922</td>\n",
       "      <td>2013</td>\n",
       "      <td>1</td>\n",
       "      <td>2</td>\n",
       "    </tr>\n",
       "  </tbody>\n",
       "</table>\n",
       "</div>"
      ],
      "text/plain": [
       "         date  store_nbr  transactions  year  month  day\n",
       "0  2013-01-01         25           770  2013      1    1\n",
       "1  2013-01-02          1          2111  2013      1    2\n",
       "2  2013-01-02          2          2358  2013      1    2\n",
       "3  2013-01-02          3          3487  2013      1    2\n",
       "4  2013-01-02          4          1922  2013      1    2"
      ]
     },
     "execution_count": 9,
     "metadata": {},
     "output_type": "execute_result"
    }
   ],
   "source": [
    "#Feature three new columns with year, month, and day:\n",
    "tDF['year']=tDF['date'].apply(lambda x: int(str(x)[:4])) #first four\n",
    "tDF['month']=tDF['date'].apply(lambda x: int(str(x)[5:7])) #five and six\n",
    "tDF['day']=tDF['date'].apply(lambda x: int(str(x)[-2:])) # last two\n",
    "\n",
    "#Verify the new columns are setup correctly:\n",
    "#print(tDF['day'].unique()) # Correctly prints numbers 1 to 31\n",
    "#print(tDF['month'].unique()) # [ 1  2  3  4  5  6  7  8  9 10 11 12]\n",
    "#print(tDF['year'].unique()) # [2013 2014 2015 2016 2017]\n",
    "\n",
    "tDF.head() "
   ]
  },
  {
   "cell_type": "code",
   "execution_count": 10,
   "id": "ab6bfeec",
   "metadata": {
    "execution": {
     "iopub.execute_input": "2022-06-15T21:13:00.708267Z",
     "iopub.status.busy": "2022-06-15T21:13:00.707637Z",
     "iopub.status.idle": "2022-06-15T21:13:00.714676Z",
     "shell.execute_reply": "2022-06-15T21:13:00.714164Z",
     "shell.execute_reply.started": "2022-06-15T20:14:54.804121Z"
    },
    "papermill": {
     "duration": 0.047501,
     "end_time": "2022-06-15T21:13:00.714822",
     "exception": false,
     "start_time": "2022-06-15T21:13:00.667321",
     "status": "completed"
    },
    "tags": []
   },
   "outputs": [
    {
     "data": {
      "text/plain": [
       "date            object\n",
       "store_nbr        int64\n",
       "transactions     int64\n",
       "year             int64\n",
       "month            int64\n",
       "day              int64\n",
       "dtype: object"
      ]
     },
     "execution_count": 10,
     "metadata": {},
     "output_type": "execute_result"
    }
   ],
   "source": [
    "tDF.dtypes"
   ]
  },
  {
   "cell_type": "markdown",
   "id": "04dd64cb",
   "metadata": {
    "papermill": {
     "duration": 0.037296,
     "end_time": "2022-06-15T21:13:00.791568",
     "exception": false,
     "start_time": "2022-06-15T21:13:00.754272",
     "status": "completed"
    },
    "tags": []
   },
   "source": [
    "# Find Missing Values\n",
    "No missing values"
   ]
  },
  {
   "cell_type": "code",
   "execution_count": 11,
   "id": "b7d73e18",
   "metadata": {
    "execution": {
     "iopub.execute_input": "2022-06-15T21:13:00.871823Z",
     "iopub.status.busy": "2022-06-15T21:13:00.871176Z",
     "iopub.status.idle": "2022-06-15T21:13:01.057002Z",
     "shell.execute_reply": "2022-06-15T21:13:01.056240Z",
     "shell.execute_reply.started": "2022-06-15T20:14:54.812873Z"
    },
    "papermill": {
     "duration": 0.228148,
     "end_time": "2022-06-15T21:13:01.057185",
     "exception": false,
     "start_time": "2022-06-15T21:13:00.829037",
     "status": "completed"
    },
    "tags": []
   },
   "outputs": [
    {
     "name": "stdout",
     "output_type": "stream",
     "text": [
      "Missing data by column as a percent:\n",
      "id           0.0\n",
      "date         0.0\n",
      "store_nbr    0.0\n",
      "family       0.0\n",
      "sales        0.0\n",
      "dtype: float64\n"
     ]
    }
   ],
   "source": [
    "#search for columns with missing values:\n",
    "def findNA():\n",
    "    print(\"Missing data by column as a percent:\")\n",
    "    findNA=train.isnull().sum().sort_values(ascending=False)/len(train)\n",
    "    print(findNA.head())\n",
    "findNA() "
   ]
  },
  {
   "cell_type": "markdown",
   "id": "a95f4cd0",
   "metadata": {
    "papermill": {
     "duration": 0.037633,
     "end_time": "2022-06-15T21:13:01.135015",
     "exception": false,
     "start_time": "2022-06-15T21:13:01.097382",
     "status": "completed"
    },
    "tags": []
   },
   "source": [
    "# Yearly Sales\n",
    "The graph clearly shows that sales went down in 2017. This is not a good trend. Prior to 2017, sales were mostly flat from years 2013 to 2016. There is a negative correlation, -.57 which verifies that sales are decreasing.  "
   ]
  },
  {
   "cell_type": "code",
   "execution_count": 12,
   "id": "d9403181",
   "metadata": {
    "execution": {
     "iopub.execute_input": "2022-06-15T21:13:01.220750Z",
     "iopub.status.busy": "2022-06-15T21:13:01.220000Z",
     "iopub.status.idle": "2022-06-15T21:13:01.439853Z",
     "shell.execute_reply": "2022-06-15T21:13:01.440265Z",
     "shell.execute_reply.started": "2022-06-15T20:14:55.200544Z"
    },
    "papermill": {
     "duration": 0.267002,
     "end_time": "2022-06-15T21:13:01.440444",
     "exception": false,
     "start_time": "2022-06-15T21:13:01.173442",
     "status": "completed"
    },
    "tags": []
   },
   "outputs": [
    {
     "name": "stdout",
     "output_type": "stream",
     "text": [
      "   year  transactions\n",
      "0  2013      29107173\n",
      "1  2014      30006929\n",
      "2  2015      31312370\n",
      "3  2016      31052337\n",
      "4  2017      20000136\n"
     ]
    },
    {
     "data": {
      "image/png": "[encoded data removed]",
      "text/plain": [
       "<Figure size 432x288 with 1 Axes>"
      ]
     },
     "metadata": {
      "needs_background": "light"
     },
     "output_type": "display_data"
    },
    {
     "name": "stdout",
     "output_type": "stream",
     "text": [
      "-0.5752  is the correlations between year and transactions\n"
     ]
    }
   ],
   "source": [
    "yearGb=tDF.groupby('year')['transactions'].sum().reset_index()\n",
    "print(yearGb)\n",
    "x=yearGb['year']\n",
    "y=yearGb['transactions']\n",
    "plt.title(\"Transactions By Year:\")\n",
    "plt.xticks(rotation=90)\n",
    "plt.bar(x,y)\n",
    "plt.show()\n",
    "\n",
    "yearCorr=x.corr(y).round(4)\n",
    "print(yearCorr, \" is the correlations between year and transactions\")"
   ]
  },
  {
   "cell_type": "markdown",
   "id": "c1ea9247",
   "metadata": {
    "papermill": {
     "duration": 0.038497,
     "end_time": "2022-06-15T21:13:01.517714",
     "exception": false,
     "start_time": "2022-06-15T21:13:01.479217",
     "status": "completed"
    },
    "tags": []
   },
   "source": [
    "# Monthly Sales \n",
    "Sales are the least in September, October, and November. The rest of the months are fairly similiar. Surprisingly, December did not have the highest sales as normally that is when stores have most of their sales from Christmas."
   ]
  },
  {
   "cell_type": "code",
   "execution_count": 13,
   "id": "c407fb79",
   "metadata": {
    "execution": {
     "iopub.execute_input": "2022-06-15T21:13:01.607270Z",
     "iopub.status.busy": "2022-06-15T21:13:01.606633Z",
     "iopub.status.idle": "2022-06-15T21:13:01.804292Z",
     "shell.execute_reply": "2022-06-15T21:13:01.804762Z",
     "shell.execute_reply.started": "2022-06-15T20:14:55.458175Z"
    },
    "papermill": {
     "duration": 0.244057,
     "end_time": "2022-06-15T21:13:01.804938",
     "exception": false,
     "start_time": "2022-06-15T21:13:01.560881",
     "status": "completed"
    },
    "tags": []
   },
   "outputs": [
    {
     "name": "stdout",
     "output_type": "stream",
     "text": [
      "    month  transactions\n",
      "0       1      12156198\n",
      "1       2      11707934\n",
      "2       3      12917913\n",
      "3       4      12633531\n",
      "4       5      13112679\n",
      "5       6      12482179\n",
      "6       7      12827206\n",
      "7       8      11545571\n",
      "8       9       9811819\n",
      "9      10      10048234\n",
      "10     11       9877873\n",
      "11     12      12357808\n"
     ]
    },
    {
     "data": {
      "image/png": "[encoded data removed]",
      "text/plain": [
       "<Figure size 432x288 with 1 Axes>"
      ]
     },
     "metadata": {
      "needs_background": "light"
     },
     "output_type": "display_data"
    },
    {
     "name": "stdout",
     "output_type": "stream",
     "text": [
      "-0.545  is the correlations between month and transactions\n"
     ]
    }
   ],
   "source": [
    "monthGb=tDF.groupby('month')['transactions'].sum().reset_index()\n",
    "print(monthGb)\n",
    "x=monthGb['month']\n",
    "y=monthGb['transactions']\n",
    "plt.title(\"Transactions By Month:\")\n",
    "plt.xticks(rotation=90)\n",
    "plt.bar(x,y)\n",
    "plt.show()\n",
    "\n",
    "monthCorr=x.corr(y).round(4)\n",
    "print(monthCorr, \" is the correlations between month and transactions\")"
   ]
  },
  {
   "cell_type": "markdown",
   "id": "42356946",
   "metadata": {
    "papermill": {
     "duration": 0.039795,
     "end_time": "2022-06-15T21:13:01.885235",
     "exception": false,
     "start_time": "2022-06-15T21:13:01.845440",
     "status": "completed"
    },
    "tags": []
   },
   "source": [
    "# Family"
   ]
  },
  {
   "cell_type": "code",
   "execution_count": 14,
   "id": "15b88b35",
   "metadata": {
    "execution": {
     "iopub.execute_input": "2022-06-15T21:13:02.002363Z",
     "iopub.status.busy": "2022-06-15T21:13:02.001703Z",
     "iopub.status.idle": "2022-06-15T21:13:02.345566Z",
     "shell.execute_reply": "2022-06-15T21:13:02.344987Z",
     "shell.execute_reply.started": "2022-06-15T20:14:55.70222Z"
    },
    "papermill": {
     "duration": 0.419934,
     "end_time": "2022-06-15T21:13:02.345722",
     "exception": false,
     "start_time": "2022-06-15T21:13:01.925788",
     "status": "completed"
    },
    "tags": []
   },
   "outputs": [
    {
     "data": {
      "image/png": "[encoded data removed]",
      "text/plain": [
       "<Figure size 432x288 with 1 Axes>"
      ]
     },
     "metadata": {
      "needs_background": "light"
     },
     "output_type": "display_data"
    }
   ],
   "source": [
    "famGb=train.groupby('family')['sales'].sum().reset_index().sort_values('sales', ascending=False).head(15)\n",
    "#print(famGb)\n",
    "x=famGb['family']\n",
    "y=famGb['sales']\n",
    "plt.title(\"Transactions By Family:\")\n",
    "plt.xticks(rotation=90)\n",
    "plt.bar(x,y)\n",
    "plt.show()"
   ]
  },
  {
   "cell_type": "markdown",
   "id": "9a4698ca",
   "metadata": {
    "papermill": {
     "duration": 0.041946,
     "end_time": "2022-06-15T21:13:02.429316",
     "exception": false,
     "start_time": "2022-06-15T21:13:02.387370",
     "status": "completed"
    },
    "tags": []
   },
   "source": [
    "# Numeric DataFrame"
   ]
  },
  {
   "cell_type": "code",
   "execution_count": 15,
   "id": "0bbb9824",
   "metadata": {
    "execution": {
     "iopub.execute_input": "2022-06-15T21:13:02.520560Z",
     "iopub.status.busy": "2022-06-15T21:13:02.519949Z",
     "iopub.status.idle": "2022-06-15T21:13:02.602057Z",
     "shell.execute_reply": "2022-06-15T21:13:02.601408Z",
     "shell.execute_reply.started": "2022-06-15T20:14:56.163997Z"
    },
    "papermill": {
     "duration": 0.131342,
     "end_time": "2022-06-15T21:13:02.602191",
     "exception": false,
     "start_time": "2022-06-15T21:13:02.470849",
     "status": "completed"
    },
    "tags": []
   },
   "outputs": [
    {
     "data": {
      "text/html": [
       "<div>\n",
       "<style scoped>\n",
       "    .dataframe tbody tr th:only-of-type {\n",
       "        vertical-align: middle;\n",
       "    }\n",
       "\n",
       "    .dataframe tbody tr th {\n",
       "        vertical-align: top;\n",
       "    }\n",
       "\n",
       "    .dataframe thead th {\n",
       "        text-align: right;\n",
       "    }\n",
       "</style>\n",
       "<table border=\"1\" class=\"dataframe\">\n",
       "  <thead>\n",
       "    <tr style=\"text-align: right;\">\n",
       "      <th></th>\n",
       "      <th>id</th>\n",
       "      <th>store_nbr</th>\n",
       "      <th>sales</th>\n",
       "      <th>onpromotion</th>\n",
       "      <th>month</th>\n",
       "    </tr>\n",
       "  </thead>\n",
       "  <tbody>\n",
       "    <tr>\n",
       "      <th>563</th>\n",
       "      <td>563</td>\n",
       "      <td>25</td>\n",
       "      <td>2.000</td>\n",
       "      <td>0</td>\n",
       "      <td>1</td>\n",
       "    </tr>\n",
       "    <tr>\n",
       "      <th>564</th>\n",
       "      <td>564</td>\n",
       "      <td>25</td>\n",
       "      <td>810.000</td>\n",
       "      <td>0</td>\n",
       "      <td>1</td>\n",
       "    </tr>\n",
       "    <tr>\n",
       "      <th>566</th>\n",
       "      <td>566</td>\n",
       "      <td>25</td>\n",
       "      <td>180.589</td>\n",
       "      <td>0</td>\n",
       "      <td>1</td>\n",
       "    </tr>\n",
       "    <tr>\n",
       "      <th>568</th>\n",
       "      <td>568</td>\n",
       "      <td>25</td>\n",
       "      <td>186.000</td>\n",
       "      <td>0</td>\n",
       "      <td>1</td>\n",
       "    </tr>\n",
       "    <tr>\n",
       "      <th>569</th>\n",
       "      <td>569</td>\n",
       "      <td>25</td>\n",
       "      <td>143.000</td>\n",
       "      <td>0</td>\n",
       "      <td>1</td>\n",
       "    </tr>\n",
       "  </tbody>\n",
       "</table>\n",
       "</div>"
      ],
      "text/plain": [
       "      id  store_nbr    sales  onpromotion  month\n",
       "563  563         25    2.000            0      1\n",
       "564  564         25  810.000            0      1\n",
       "566  566         25  180.589            0      1\n",
       "568  568         25  186.000            0      1\n",
       "569  569         25  143.000            0      1"
      ]
     },
     "execution_count": 15,
     "metadata": {},
     "output_type": "execute_result"
    }
   ],
   "source": [
    "numerics = ['int16', 'int32', 'int64', 'float16', 'float32', 'float64']\n",
    "train = train.select_dtypes(include=numerics)\n",
    "train.head()"
   ]
  },
  {
   "cell_type": "markdown",
   "id": "df6239b8",
   "metadata": {
    "papermill": {
     "duration": 0.042696,
     "end_time": "2022-06-15T21:13:02.687827",
     "exception": false,
     "start_time": "2022-06-15T21:13:02.645131",
     "status": "completed"
    },
    "tags": []
   },
   "source": [
    "# Split Data"
   ]
  },
  {
   "cell_type": "code",
   "execution_count": 16,
   "id": "53999f25",
   "metadata": {
    "execution": {
     "iopub.execute_input": "2022-06-15T21:13:02.781778Z",
     "iopub.status.busy": "2022-06-15T21:13:02.780547Z",
     "iopub.status.idle": "2022-06-15T21:13:03.215313Z",
     "shell.execute_reply": "2022-06-15T21:13:03.214804Z",
     "shell.execute_reply.started": "2022-06-15T20:14:56.261804Z"
    },
    "papermill": {
     "duration": 0.484468,
     "end_time": "2022-06-15T21:13:03.215456",
     "exception": false,
     "start_time": "2022-06-15T21:13:02.730988",
     "status": "completed"
    },
    "tags": []
   },
   "outputs": [],
   "source": [
    "X=train.drop('sales', axis=1)\n",
    "y=train['sales']\n",
    "\n",
    "X_train, X_test, y_train, y_test = train_test_split(\n",
    "    X, y, test_size = 0.30, random_state = 42)"
   ]
  },
  {
   "cell_type": "markdown",
   "id": "f69dc840",
   "metadata": {
    "papermill": {
     "duration": 0.041008,
     "end_time": "2022-06-15T21:13:03.297788",
     "exception": false,
     "start_time": "2022-06-15T21:13:03.256780",
     "status": "completed"
    },
    "tags": []
   },
   "source": [
    "# Linear Regression"
   ]
  },
  {
   "cell_type": "code",
   "execution_count": 17,
   "id": "86b50aad",
   "metadata": {
    "execution": {
     "iopub.execute_input": "2022-06-15T21:13:03.388793Z",
     "iopub.status.busy": "2022-06-15T21:13:03.387751Z",
     "iopub.status.idle": "2022-06-15T21:13:05.787140Z",
     "shell.execute_reply": "2022-06-15T21:13:05.787819Z",
     "shell.execute_reply.started": "2022-06-15T20:14:56.602068Z"
    },
    "papermill": {
     "duration": 2.448387,
     "end_time": "2022-06-15T21:13:05.787998",
     "exception": false,
     "start_time": "2022-06-15T21:13:03.339611",
     "status": "completed"
    },
    "tags": []
   },
   "outputs": [
    {
     "name": "stdout",
     "output_type": "stream",
     "text": [
      "Linear regression r2 score:  0.1774\n",
      "Linear Accuracy:  0.1774\n",
      "0.1388  linear regression cross validate mean\n",
      "1186.8782  is lr MSE \n"
     ]
    },
    {
     "data": {
      "image/png": "[encoded data removed]",
      "text/plain": [
       "<Figure size 432x288 with 1 Axes>"
      ]
     },
     "metadata": {
      "needs_background": "light"
     },
     "output_type": "display_data"
    }
   ],
   "source": [
    "from sklearn.linear_model import LinearRegression, Ridge, Lasso\n",
    "\n",
    "#Fit and predict:\n",
    "lrModel = LinearRegression()\n",
    "lrModel.fit(X_train, y_train)\n",
    "lrPredict = lrModel.predict(X_test)\n",
    "\n",
    "# plt.scatter(y_test, predictions)\n",
    "plt.hist(y_test - lrPredict)\n",
    "\n",
    "#Linear Metrics:\n",
    "#auc = round( metrics.roc_auc_score(y_test, lrPredict), 4 ) \n",
    "r2 = r2_score(y_test, lrPredict).round(4) \n",
    "#print(\"AUC for linear regression is: \", auc)\n",
    "print(\"Linear regression r2 score: \", r2)\n",
    "\n",
    "#CROSS VALIDATE TEST RESULTS:\n",
    "lr_score = lrModel.score(X_test, y_test).round(4)  # train test \n",
    "print(\"Linear Accuracy: \", lr_score)\n",
    "lr_cv = cross_validate(lrModel, X, y, cv = 5, scoring= 'r2')\n",
    "lr_cvMean=lr_cv['test_score'].mean().round(4)\n",
    "print(lr_cvMean, \" linear regression cross validate mean\")\n",
    "\n",
    "lrMSE=np.sqrt(metrics.mean_squared_error(y_test, lrPredict))\n",
    "print(round(lrMSE, 4), \" is lr MSE \")"
   ]
  },
  {
   "cell_type": "markdown",
   "id": "b03c7453",
   "metadata": {
    "papermill": {
     "duration": 0.042768,
     "end_time": "2022-06-15T21:13:05.873824",
     "exception": false,
     "start_time": "2022-06-15T21:13:05.831056",
     "status": "completed"
    },
    "tags": []
   },
   "source": [
    "# Decision Tree\n",
    "When the automation parameters runs, the higher than max_depth and max_leaf_nodes the better the r-squared with the least amount of error. "
   ]
  },
  {
   "cell_type": "code",
   "execution_count": 18,
   "id": "0363a8d1",
   "metadata": {
    "execution": {
     "iopub.execute_input": "2022-06-15T21:13:05.965226Z",
     "iopub.status.busy": "2022-06-15T21:13:05.964482Z",
     "iopub.status.idle": "2022-06-15T21:13:05.982375Z",
     "shell.execute_reply": "2022-06-15T21:13:05.982875Z",
     "shell.execute_reply.started": "2022-06-15T20:14:58.977807Z"
    },
    "papermill": {
     "duration": 0.06638,
     "end_time": "2022-06-15T21:13:05.983074",
     "exception": false,
     "start_time": "2022-06-15T21:13:05.916694",
     "status": "completed"
    },
    "tags": []
   },
   "outputs": [],
   "source": [
    "from sklearn.tree import DecisionTreeRegressor, DecisionTreeClassifier\n",
    "\n",
    "#FIND best_tree_size LEAF NODES:\n",
    "def calcLeaf():\n",
    "    leafList = [2, 4, 5, 10, 20, 30, 40, 50, 100]\n",
    "    maeDic={} #dictionary  key=leaf  mae=value\n",
    "    \n",
    "    accList=[]\n",
    "    cvList=[]\n",
    "    maeList=[]\n",
    "    maxLeafNodesList=[]\n",
    "    for leaf in leafList:\n",
    "        tree = DecisionTreeRegressor(max_leaf_nodes=leaf, random_state=42)\n",
    "        tree.fit(X_train, y_train)\n",
    "        y_pred = tree.predict(X_test)\n",
    "        mae = mean_absolute_error(y_test, y_pred).round(4)\n",
    "        treeR2 = r2_score(y_test, y_pred).round(4)\n",
    "        maeDic[leaf]=mae\n",
    "        print(leaf, \" max_leaf_nodes || AUC \", treeR2, \" || MAE: \", mae)\n",
    "        \n",
    "        #CROSS VALIDATE TEST RESULTS:\n",
    "        treeScore = tree.score(X_test, y_test).round(4)  # train test \n",
    "        #print(\"Tree Score: \", treeScore)\n",
    "        treeCV = cross_validate(tree, X, y, cv = 5, scoring= 'r2')\n",
    "        treeCV=treeCV['test_score'].mean().round(4)\n",
    "        cvList.append(treeCV)\n",
    "        accList.append(treeScore)\n",
    "\n",
    "    plt.plot(leafList,accList, label=\"train\")\n",
    "    plt.plot(leafList,cvList, label=\"test\")\n",
    "    plt.title('Decision Tree Cross Validate')\n",
    "    plt.xlabel('max_leaf_nodes')\n",
    "    plt.ylabel('Accuracy')\n",
    "    plt.legend()\n",
    "    plt.show()         \n",
    "    maxLeafNodes = sorted(maeDic, key=lambda x : maeDic[x])[0]\n",
    "    \n",
    "    \n",
    "def calcDepth():\n",
    "    maxDepthList = [2, 3, 5, 7]\n",
    "    \n",
    "    maeDic={} #dictionary  key=depth  mae=value\n",
    "    accList=[]\n",
    "    cvList=[]\n",
    "    maeList=[]\n",
    "    maxLeafNodesList=[]\n",
    "    \n",
    "    for d in maxDepthList:\n",
    "        tree = DecisionTreeRegressor(max_leaf_nodes=100, max_depth=d, random_state=42)\n",
    "        tree.fit(X_train, y_train)\n",
    "        y_pred = tree.predict(X_test)\n",
    "        mae = mean_absolute_error(y_test, y_pred).round(4)\n",
    "        maeDic[d]=mae\n",
    "        treeAUC = round( metrics.roc_auc_score(y_test, y_pred), 4 ) \n",
    "        print(d, \" max_depth || AUC \", treeAUC, \" || MAE: \", mae)\n",
    "        \n",
    "        #CROSS VALIDATE TEST RESULTS:\n",
    "        treeScore = tree.score(X_test, y_test).round(4)  # train test \n",
    "        #print(\"Tree Score: \", treeScore)\n",
    "        treeCV = cross_validate(tree, X, y, cv = 5, scoring= 'r2')\n",
    "        treeCV=treeCV['test_score'].mean().round(4)\n",
    "        cvList.append(treeCV)\n",
    "        accList.append(treeScore)\n",
    "\n",
    "    plt.plot(maxDepthList,accList, label=\"train\")\n",
    "    plt.plot(maxDepthList,cvList, label=\"test\")\n",
    "    plt.title('Decision Tree Cross Validate')\n",
    "    plt.xlabel('MaxDepth')\n",
    "    plt.ylabel('Accuracy')\n",
    "    plt.legend()\n",
    "    plt.show()         \n",
    "    \n",
    "    best_max_depth = sorted(maeDic, key=lambda x : maeDic[x])[0]\n",
    "    #print(best_max_depth, \" best max_depth with least error.\") \n",
    "    \n",
    "def automateTree():\n",
    "    candidate_max_leaf_nodes = [2, 5, 10, 25, 50, 80, 100, 200, 300]\n",
    "    max_depth_list = [2, 3, 5, 7, 9]\n",
    "    \n",
    "    #STORE DATA INTO LISTS FOR DATAFRAME LATER:\n",
    "    aucList=[]\n",
    "    maeList=[]\n",
    "    maxDepthList=[]\n",
    "    maxLeafNodesList=[]\n",
    "\n",
    "    for d in max_depth_list:\n",
    "        for leaf in candidate_max_leaf_nodes:\n",
    "            model = DecisionTreeRegressor(max_leaf_nodes=leaf, \n",
    "                                          max_depth=d, random_state=42)\n",
    "            model.fit(X_train, y_train)\n",
    "            y_pred = model.predict(X_test)\n",
    "            mae = mean_absolute_error(y_test, y_pred).round(4)\n",
    "            treeR2 = r2_score(y_test, y_pred).round(4)\n",
    "            \n",
    "            aucList.append(treeR2)\n",
    "            maeList.append(mae)\n",
    "            maxDepthList.append(d)\n",
    "            maxLeafNodesList.append(leaf)\n",
    "           \n",
    "    df = pd.DataFrame(list(zip(aucList, maeList, maxDepthList, maxLeafNodesList)),\n",
    "                          columns=['AUC','MAE', 'MaxDepth', 'MaxLeafNodes'])\n",
    "    \n",
    "    df=df.sort_values(by=['AUC'], ascending=False)\n",
    "    return df\n",
    "\n",
    "#TURN FUNCTION OFF OR ON BELOW:   \n",
    "#calcLeaf()\n",
    "#calcDepth()\n",
    "#treeDF=automateTree()    \n",
    "#treeDF.head()"
   ]
  },
  {
   "cell_type": "markdown",
   "id": "9dc7f8ce",
   "metadata": {
    "execution": {
     "iopub.execute_input": "2022-05-13T14:38:25.79726Z",
     "iopub.status.busy": "2022-05-13T14:38:25.796944Z",
     "iopub.status.idle": "2022-05-13T14:38:25.803726Z",
     "shell.execute_reply": "2022-05-13T14:38:25.802595Z",
     "shell.execute_reply.started": "2022-05-13T14:38:25.797218Z"
    },
    "papermill": {
     "duration": 0.042795,
     "end_time": "2022-06-15T21:13:06.069015",
     "exception": false,
     "start_time": "2022-06-15T21:13:06.026220",
     "status": "completed"
    },
    "tags": []
   },
   "source": [
    "#### Decision tree make prediction\n",
    "Input best_tree_size and best_depth from above functions. \n",
    "High accuracy does not equal high score. Best scores seem to take account error as well into account."
   ]
  },
  {
   "cell_type": "code",
   "execution_count": 19,
   "id": "b2dcec2a",
   "metadata": {
    "execution": {
     "iopub.execute_input": "2022-06-15T21:13:06.159550Z",
     "iopub.status.busy": "2022-06-15T21:13:06.158960Z",
     "iopub.status.idle": "2022-06-15T21:13:10.067062Z",
     "shell.execute_reply": "2022-06-15T21:13:10.067806Z",
     "shell.execute_reply.started": "2022-06-15T20:14:59.006035Z"
    },
    "papermill": {
     "duration": 3.95486,
     "end_time": "2022-06-15T21:13:10.068034",
     "exception": false,
     "start_time": "2022-06-15T21:13:06.113174",
     "status": "completed"
    },
    "tags": []
   },
   "outputs": [
    {
     "name": "stdout",
     "output_type": "stream",
     "text": [
      "Decision Tree r-squared is: 0.3894\n"
     ]
    }
   ],
   "source": [
    "best_tree_size=100\n",
    "best_depth=11\n",
    "\n",
    "tree = DecisionTreeRegressor(max_leaf_nodes=best_tree_size, max_depth=best_depth, random_state=42)\n",
    "tree.fit(X, y)\n",
    "y_pred = tree.predict(X_test)\n",
    "\n",
    "#AUC and r2 metric\n",
    "tree_r2 = r2_score(y_test, y_pred).round(4)\n",
    "print(\"Decision Tree r-squared is:\", tree_r2)\n",
    "\n",
    "def printReports(y_test, y_pred):\n",
    "    print(classification_report(y_test, y_pred))\n",
    "    print(confusion_matrix(y_test, y_pred))"
   ]
  },
  {
   "attachments": {
    "19adea7f-eb43-4f15-92c6-44681a25b259.png": {
     "image/png": "[encoded data removed]"
    },
    "6d099869-0c7a-499d-9af0-7f8d69090d93.png": {
     "image/png": "[encoded data removed]"
    }
   },
   "cell_type": "markdown",
   "id": "237023d5",
   "metadata": {
    "papermill": {
     "duration": 0.043414,
     "end_time": "2022-06-15T21:13:10.155571",
     "exception": false,
     "start_time": "2022-06-15T21:13:10.112157",
     "status": "completed"
    },
    "tags": []
   },
   "source": [
    "# Gradient Boost\n",
    "The bigger max_depth, the better r-squared with less error:\n",
    "\n",
    "![image.png](attachment:6d099869-0c7a-499d-9af0-7f8d69090d93.png)\n",
    "\n",
    "The more n_estimators, the better r-squared with less error:\n",
    "\n",
    "![image.png](attachment:19adea7f-eb43-4f15-92c6-44681a25b259.png)\n",
    "\n",
    "* 2 n_estimators || GB regression r2:  0.0088 || MSE: 1214127.5659\n",
    "* 50 n_estimators || GB regression r2:  0.152 || MSE: 1038709.6658\n",
    "* 100 n_estimators || GB regression r2:  0.217 || MSE: 959162.1316\n",
    "* 200 n_estimators || GB regression r2:  0.2681 || MSE: 896548.3199\n",
    "* 300 n_estimators || GB regression r2:  0.2927 || MSE: 866340.3620\n",
    "* 400 n_estimators || GB regression r2:  0.308 || MSE: 847675.8794\n",
    "* 500 n_estimators || GB regression r2:  0.3184 || MSE: 834923.8771"
   ]
  },
  {
   "cell_type": "code",
   "execution_count": 20,
   "id": "ea61c1c4",
   "metadata": {
    "execution": {
     "iopub.execute_input": "2022-06-15T21:13:10.246024Z",
     "iopub.status.busy": "2022-06-15T21:13:10.245245Z",
     "iopub.status.idle": "2022-06-15T21:13:10.316741Z",
     "shell.execute_reply": "2022-06-15T21:13:10.317197Z",
     "shell.execute_reply.started": "2022-06-15T20:15:02.512209Z"
    },
    "papermill": {
     "duration": 0.118356,
     "end_time": "2022-06-15T21:13:10.317374",
     "exception": false,
     "start_time": "2022-06-15T21:13:10.199018",
     "status": "completed"
    },
    "tags": []
   },
   "outputs": [],
   "source": [
    "from sklearn.inspection import permutation_importance\n",
    "from sklearn.ensemble import GradientBoostingClassifier,GradientBoostingRegressor\n",
    "\n",
    "def gbDepth():\n",
    "    depthList=[2, 3, 4, 5, 7, 9, 11, 13]\n",
    "    accList=[]\n",
    "    cvList=[]\n",
    "    \n",
    "    for d in depthList:\n",
    "        params = {\n",
    "         \"n_estimators\": 10, \"max_depth\": d, \n",
    "            \"min_samples_split\": 5, \"learning_rate\": 0.01,\n",
    "        }\n",
    "\n",
    "        #Fit and Predict:\n",
    "        gb = ensemble.GradientBoostingRegressor(**params)\n",
    "        gb.fit(X_train, y_train)\n",
    "        y_pred = gb.predict(X_test)\n",
    "        \n",
    "        gbR2 = r2_score(y_test, y_pred).round(4) \n",
    "        mse = mean_squared_error(y_test, gb.predict(X_test))\n",
    "        print(d, \" max_depth || GB reg r2: \", gbR2, \"|| MSE: {:.4f}\".format(mse)) \n",
    "        \n",
    "        gbScore = gb.score(X_test, y_test).round(4)  # train test \n",
    "        gbCV = cross_validate(gb, X, y, cv = 5, scoring= 'r2')\n",
    "        gbCV=gbCV['test_score'].mean().round(4)\n",
    "        \n",
    "        cvList.append(gbCV)\n",
    "        accList.append(gbScore)\n",
    "        \n",
    "    plt.plot(depthList,accList, label=\"train\")\n",
    "    plt.plot(depthList,cvList, label=\"test\")\n",
    "    plt.title('Graident Boost MaxDepth Cross Validate')\n",
    "    plt.xlabel('MaxDepth')\n",
    "    plt.ylabel('Accuracy')\n",
    "    plt.legend()\n",
    "    plt.show() \n",
    "\n",
    "def gbN():\n",
    "    nList=[2, 10, 30, 50, 70, 100, 150, 200, 300, 400]\n",
    "    accList=[]\n",
    "    cvList=[]\n",
    "    for n in nList:\n",
    "        params = {\n",
    "         \"n_estimators\": n, \"max_depth\": 2, \n",
    "            \"min_samples_split\": 2, \"learning_rate\": 0.01,\n",
    "        }\n",
    "\n",
    "        #Fit and Predict:\n",
    "        gb = ensemble.GradientBoostingRegressor(**params)\n",
    "        gb.fit(X_train, y_train)\n",
    "        y_pred = gb.predict(X_test)\n",
    "        \n",
    "        gbR2 = r2_score(y_test, y_pred).round(4) \n",
    "        mse = mean_squared_error(y_test, gb.predict(X_test))\n",
    "        print(n, \"n_estimators || GB r2: \", gbR2, \"|| MSE: {:.4f}\".format(mse)) \n",
    "        \n",
    "        gbScore = gb.score(X_test, y_test).round(4)  # train test \n",
    "        gbCV = cross_validate(gb, X, y, cv = 4, scoring= 'r2')\n",
    "        gbCV=gbCV['test_score'].mean().round(4)\n",
    "        print(\"GB Score: \", gbScore  ,\"||\" , gbCV, \"cross validate.\")\n",
    "        \n",
    "        accList.append(gbScore)\n",
    "        cvList.append(gbCV)\n",
    "    \n",
    "    plt.plot(nList,accList, label=\"train\")\n",
    "    plt.plot(nList,cvList, label=\"test\")\n",
    "    plt.title('Gradient Boost n_estimators Cross Validate')\n",
    "    plt.xlabel('n_estimators')\n",
    "    plt.ylabel('Accuracy')\n",
    "    plt.legend()\n",
    "    plt.show() \n",
    "    \n",
    "def gbSplit():\n",
    "    nList=[2, 3, 5, 7, 9]\n",
    "    accList=[]\n",
    "    cvList=[]\n",
    "    \n",
    "    for n in nList:\n",
    "        params = {\n",
    "         \"n_estimators\": 100, \"max_depth\": 2,\n",
    "            \"min_samples_split\": n, \"learning_rate\": 0.01,\n",
    "        }\n",
    "\n",
    "        #Fit and Predict:\n",
    "        gb = ensemble.GradientBoostingRegressor(**params)\n",
    "        gb.fit(X_train, y_train)\n",
    "        y_pred = gb.predict(X_test)\n",
    "        gb_r2 = r2_score(y_test, y_pred).round(4)\n",
    "        mse = mean_squared_error(y_test, gb.predict(X_test)).round(4)\n",
    "        print(n,\" min_samples_splits || R2 \", gb_r2, \" || MSE {:.4f}\".format(mse))\n",
    "        \n",
    "        gbScore = gb.score(X_test, y_test).round(4)  # train test \n",
    "        gbCV = cross_validate(gb, X, y, cv = 4, scoring= 'r2')\n",
    "        gbCV=gbCV['test_score'].mean().round(4)\n",
    "        print(\"GB Score: \", gbScore  ,\"||\" , gbCV, \"cross validate.\")\n",
    "        \n",
    "        accList.append(gbScore)\n",
    "        cvList.append(gbCV)\n",
    "    \n",
    "    plt.plot(nList,accList, label=\"train\")\n",
    "    plt.plot(nList,cvList, label=\"test\")\n",
    "    plt.title('Gradient Boost min_split Cross Validate')\n",
    "    plt.xlabel('min_split')\n",
    "    plt.ylabel('Accuracy')\n",
    "    plt.legend()\n",
    "    plt.show() \n",
    "\n",
    "#Turn on or off functions here:\n",
    "#gbDepth()\n",
    "#gbN()\n",
    "#gbSplit()"
   ]
  },
  {
   "cell_type": "markdown",
   "id": "514e2af9",
   "metadata": {
    "papermill": {
     "duration": 0.043047,
     "end_time": "2022-06-15T21:13:10.403832",
     "exception": false,
     "start_time": "2022-06-15T21:13:10.360785",
     "status": "completed"
    },
    "tags": []
   },
   "source": [
    "#### Gradient Boost Prediction\n",
    "Use functions above to find the best paramters to input below."
   ]
  },
  {
   "cell_type": "code",
   "execution_count": 21,
   "id": "08dc3d41",
   "metadata": {
    "execution": {
     "iopub.execute_input": "2022-06-15T21:13:10.493628Z",
     "iopub.status.busy": "2022-06-15T21:13:10.492994Z",
     "iopub.status.idle": "2022-06-15T21:46:44.754904Z",
     "shell.execute_reply": "2022-06-15T21:46:44.754374Z"
    },
    "papermill": {
     "duration": 2014.307898,
     "end_time": "2022-06-15T21:46:44.755041",
     "exception": false,
     "start_time": "2022-06-15T21:13:10.447143",
     "status": "completed"
    },
    "scrolled": true,
    "tags": []
   },
   "outputs": [
    {
     "name": "stdout",
     "output_type": "stream",
     "text": [
      "Gradient boosting regression r2:  0.4401\n",
      "The mean squared error (MSE) on test set: 958799.9569\n"
     ]
    }
   ],
   "source": [
    "params = {\n",
    " \"n_estimators\": 500, \"max_depth\": 7, \n",
    "    \"min_samples_split\": 3, \"learning_rate\": 0.01,\n",
    "}\n",
    "\n",
    "#Fit and Predict:\n",
    "reg = ensemble.GradientBoostingRegressor(**params)\n",
    "reg.fit(X_train, y_train)\n",
    "y_pred = reg.predict(X_test)\n",
    "gbr_r2 = r2_score(y_test, y_pred).round(4) \n",
    "print(\"Gradient boosting regression r2: \", gbr_r2) \n",
    "\n",
    "mse = mean_squared_error(y_test, reg.predict(X_test))\n",
    "print(\"The mean squared error (MSE) on test set: {:.4f}\".format(mse))"
   ]
  },
  {
   "cell_type": "markdown",
   "id": "261af4d1",
   "metadata": {
    "papermill": {
     "duration": 0.043288,
     "end_time": "2022-06-15T21:46:44.841977",
     "exception": false,
     "start_time": "2022-06-15T21:46:44.798689",
     "status": "completed"
    },
    "tags": []
   },
   "source": [
    "# Random Forest\n",
    "Random forest is too slow for n_estimators above 100 to test for error."
   ]
  },
  {
   "cell_type": "code",
   "execution_count": 22,
   "id": "730bb311",
   "metadata": {
    "execution": {
     "iopub.execute_input": "2022-06-15T21:46:44.946356Z",
     "iopub.status.busy": "2022-06-15T21:46:44.945420Z",
     "iopub.status.idle": "2022-06-15T21:46:44.948240Z",
     "shell.execute_reply": "2022-06-15T21:46:44.947797Z"
    },
    "papermill": {
     "duration": 0.063021,
     "end_time": "2022-06-15T21:46:44.948370",
     "exception": false,
     "start_time": "2022-06-15T21:46:44.885349",
     "status": "completed"
    },
    "tags": []
   },
   "outputs": [],
   "source": [
    "from sklearn.ensemble import RandomForestRegressor, RandomForestClassifier\n",
    "\n",
    "#Check for Error and find Best n_estimators:\n",
    "def forestNumEst():\n",
    "    dMAE={} #dictionary of n_estimators as key and MAE as value:\n",
    "    nEst=[] #store n_estimators\n",
    "    cvList=[] #cross validate list\n",
    "    accList=[] #accuracy train data\n",
    "    mae=[] #error\n",
    "    \n",
    "    for n in [2, 4, 6, 8, 10, 30, 50, 70]:\n",
    "        forest = RandomForestRegressor(n_estimators=n, random_state = 0)\n",
    "        forest.fit(X_train, y_train)\n",
    "        y_pred = forest.predict(X_test)\n",
    "        MAE=metrics.mean_absolute_error(y_test, y_pred).round(2)\n",
    "        dMAE[n]=MAE\n",
    "      \n",
    "        #CROSS VALIDATE TEST RESULTS:\n",
    "        forestScore = forest.score(X_test, y_test).round(4)  # train test \n",
    "        forestCV = cross_validate(forest, X, y, cv = 5, scoring= 'r2')\n",
    "        forestCV=forestCV['test_score'].mean().round(4)\n",
    "        \n",
    "        print(\"n_estimates: \", n,  '  Mean Absolute Error:', MAE)\n",
    "        print(\"Forest Score: \", forestScore  ,\"||\" , forestCV, \"cross validate.\")\n",
    "       \n",
    "        nEst.append(n)\n",
    "        cvList.append(forestCV)\n",
    "        accList.append(forestScore)\n",
    "        mae.append(MAE)\n",
    "        \n",
    "    plt.plot(nEst,accList, label=\"test\")\n",
    "    plt.plot(nEst,cvList, label=\"train\")\n",
    "    plt.title(\"Forest N_Estimators\")\n",
    "    plt.xlabel('N_estimators')\n",
    "    plt.ylabel('Accuracy')\n",
    "    plt.show() \n",
    "    \n",
    "    dMAE=sorted(((v, k) for k, v in dMAE.items()), reverse=False)\n",
    "    print(dMAE)\n",
    "    \n",
    "def forestDepth():\n",
    "    dMAE={} #dictionary of n_estimators as key and MAE as value:\n",
    "    nEst=[] #store n_estimators\n",
    "    cvList=[] #cross validate list\n",
    "    accList=[] #accuracy train data\n",
    "    mae=[] #error\n",
    "    \n",
    "    for n in [2, 3, 5, 7, 10]:\n",
    "        forest = RandomForestRegressor(n_estimators=10, max_depth=n, random_state = 0)\n",
    "        forest.fit(X_train, y_train)\n",
    "        y_pred = forest.predict(X_test)\n",
    "        MAE=metrics.mean_absolute_error(y_test, y_pred).round(2)\n",
    "        dMAE[n]=MAE\n",
    "      \n",
    "        #CROSS VALIDATE TEST RESULTS:\n",
    "        forestScore = forest.score(X_test, y_test).round(4)  # train test \n",
    "        forestCV = cross_validate(forest, X, y, cv = 5, scoring= 'r2')\n",
    "        forestCV=forestCV['test_score'].mean().round(4)\n",
    "        \n",
    "        print(\"max_depth: \", n,  '  Mean Absolute Error:', MAE)\n",
    "        print(\"Forest Score: \", forestScore  ,\"||\" , forestCV, \"cross validate.\")\n",
    "       \n",
    "        nEst.append(n)\n",
    "        cvList.append(forestCV)\n",
    "        accList.append(forestScore)\n",
    "        mae.append(MAE)\n",
    "        \n",
    "    plt.plot(nEst,accList, label=\"test\")\n",
    "    plt.plot(nEst,cvList, label=\"train\")\n",
    "    plt.title(\"Forest Max_Depth\")\n",
    "    plt.xlabel('max_depth')\n",
    "    plt.ylabel('Accuracy')\n",
    "    plt.show() \n",
    "    \n",
    "    dMAE=sorted(((v, k) for k, v in dMAE.items()), reverse=False)\n",
    "    print(dMAE)\n",
    "\n",
    "#forestNumEst() \n",
    "#forestDepth()"
   ]
  },
  {
   "cell_type": "markdown",
   "id": "9ecb96a1",
   "metadata": {
    "papermill": {
     "duration": 0.046399,
     "end_time": "2022-06-15T21:46:45.038731",
     "exception": false,
     "start_time": "2022-06-15T21:46:44.992332",
     "status": "completed"
    },
    "tags": []
   },
   "source": [
    "#### Final Forest Prediction"
   ]
  },
  {
   "cell_type": "code",
   "execution_count": 23,
   "id": "8ae4cfb0",
   "metadata": {
    "execution": {
     "iopub.execute_input": "2022-06-15T21:46:45.134434Z",
     "iopub.status.busy": "2022-06-15T21:46:45.133460Z",
     "iopub.status.idle": "2022-06-15T21:46:45.136042Z",
     "shell.execute_reply": "2022-06-15T21:46:45.135597Z"
    },
    "papermill": {
     "duration": 0.052299,
     "end_time": "2022-06-15T21:46:45.136184",
     "exception": false,
     "start_time": "2022-06-15T21:46:45.083885",
     "status": "completed"
    },
    "tags": []
   },
   "outputs": [],
   "source": [
    "def forest():\n",
    "    forestEst=2\n",
    "    forest = RandomForestRegressor(n_estimators=forestEst, random_state = 0)\n",
    "    forest.fit(X_train, y_train)\n",
    "    y_pred = forest.predict(X_test)\n",
    "\n",
    "    #Print Metrics:\n",
    "    forest_r2 = r2_score(y_test, y_pred).round(4)   \n",
    "    print(\"Random forest r2: \", forest_r2)\n",
    "\n",
    "    mae=metrics.mean_absolute_error(y_test, y_pred).round(2)\n",
    "    print(\"Random forest MAE: \", mae)"
   ]
  },
  {
   "cell_type": "markdown",
   "id": "a17dc234",
   "metadata": {
    "papermill": {
     "duration": 0.044093,
     "end_time": "2022-06-15T21:46:45.224418",
     "exception": false,
     "start_time": "2022-06-15T21:46:45.180325",
     "status": "completed"
    },
    "tags": []
   },
   "source": [
    "# Support Vector \n",
    "The initial results for SVM AUC with no parameter tunning is 0.5336.  The model does not seem worth investing lots of time into due to poor AUC performance. \n",
    "\n",
    "#### GridSearch Tune\n",
    "The best parameters from tunning SVM is SVC(C=1000, gamma=0.0001)."
   ]
  },
  {
   "cell_type": "code",
   "execution_count": 24,
   "id": "b5044b5a",
   "metadata": {
    "execution": {
     "iopub.execute_input": "2022-06-15T21:46:45.319452Z",
     "iopub.status.busy": "2022-06-15T21:46:45.318627Z",
     "iopub.status.idle": "2022-06-15T21:46:45.321420Z",
     "shell.execute_reply": "2022-06-15T21:46:45.321001Z"
    },
    "papermill": {
     "duration": 0.052976,
     "end_time": "2022-06-15T21:46:45.321547",
     "exception": false,
     "start_time": "2022-06-15T21:46:45.268571",
     "status": "completed"
    },
    "tags": []
   },
   "outputs": [],
   "source": [
    "from sklearn.model_selection import GridSearchCV\n",
    "from sklearn.svm import SVC\n",
    " \n",
    "def tuneSVM():\n",
    "    # defining parameter range\n",
    "    param_grid = {'C': [0.1, 1, 10, 100, 1000],\n",
    "                  'gamma': [1, 0.1, 0.01, 0.001, 0.0001],\n",
    "                  'kernel': ['linear']}\n",
    "\n",
    "    grid = GridSearchCV(SVC(), param_grid, refit = True, verbose = 3)\n",
    "\n",
    "    # fitting the model for grid search\n",
    "    grid.fit(X_train, y_train)\n",
    "\n",
    "    # print best parameter after tuning\n",
    "    print(grid.best_params_)\n",
    "\n",
    "    # print how our model looks after hyper-parameter tuning\n",
    "    print(grid.best_estimator_)\n",
    "#tuneSVM()"
   ]
  },
  {
   "cell_type": "code",
   "execution_count": 25,
   "id": "0e9544f2",
   "metadata": {
    "execution": {
     "iopub.execute_input": "2022-06-15T21:46:45.417870Z",
     "iopub.status.busy": "2022-06-15T21:46:45.417041Z",
     "iopub.status.idle": "2022-06-15T21:46:45.419221Z",
     "shell.execute_reply": "2022-06-15T21:46:45.418740Z"
    },
    "papermill": {
     "duration": 0.053648,
     "end_time": "2022-06-15T21:46:45.419355",
     "exception": false,
     "start_time": "2022-06-15T21:46:45.365707",
     "status": "completed"
    },
    "tags": []
   },
   "outputs": [],
   "source": [
    "def runSVR():\n",
    "    from sklearn.svm import SVR\n",
    "\n",
    "    #3 Feature Scaling\n",
    "    from sklearn.preprocessing import StandardScaler\n",
    "    sc_X = StandardScaler()\n",
    "    sc_y = StandardScaler()\n",
    "    X = sc_X.fit_transform(X_train)\n",
    "    y = sc_y.fit_transform(y_train)\n",
    "\n",
    "    regressor = SVR()\n",
    "    regressor.fit(x.reshape(-1, 1), y)\n",
    "    y_pred = regressor.predict(6.5)\n",
    "\n",
    "    svmR2 = r2_score(y_test, svmPedict).round(4) \n",
    "    svmMAE=metrics.mean_absolute_error(y_test, svmPedict)\n",
    "    print(\"SVM r2: \", svmR2, \" || MAE: \", svmMAE) \n",
    "    \n",
    "    #GRAPH:\n",
    "    plt.figure(figsize=(5, 7))\n",
    "    ax = sns.distplot(y, hist=False, color=\"r\", label=\"Actual Value\")\n",
    "    sns.distplot(y_test, hist=False, color=\"b\", label=\"Fitted Values\" , ax=ax)\n",
    "    plt.title('Actual vs Fitted Values')\n",
    "    plt.show()\n",
    "    plt.close()"
   ]
  },
  {
   "cell_type": "code",
   "execution_count": 26,
   "id": "29111419",
   "metadata": {
    "execution": {
     "iopub.execute_input": "2022-06-15T21:46:45.517610Z",
     "iopub.status.busy": "2022-06-15T21:46:45.516974Z",
     "iopub.status.idle": "2022-06-15T21:46:45.519172Z",
     "shell.execute_reply": "2022-06-15T21:46:45.518594Z"
    },
    "papermill": {
     "duration": 0.054489,
     "end_time": "2022-06-15T21:46:45.519304",
     "exception": false,
     "start_time": "2022-06-15T21:46:45.464815",
     "status": "completed"
    },
    "tags": []
   },
   "outputs": [],
   "source": [
    "from sklearn.model_selection import GridSearchCV\n",
    "from sklearn.svm import SVC\n",
    "\n",
    "def runSVM():\n",
    "    svm=SVC(C=1000, gamma=0.0001, kernel = 'linear')\n",
    "    \n",
    "    #Fit and Predict:\n",
    "    svm.fit(X_train, y_train)\n",
    "    svmPedict = svm.predict(X_test)\n",
    "\n",
    "    svmR2 = r2_score(y_test, svmPedict).round(4) \n",
    "    svmMAE=metrics.mean_absolute_error(y_test, svmPedict)\n",
    "    print(\"SVM r2: \", svmR2, \" || MAE: \", svmMAE) \n",
    "\n",
    "    plt.figure(figsize=(5, 7))\n",
    "    ax = sns.distplot(y, hist=False, color=\"r\", label=\"Actual Value\")\n",
    "    sns.distplot(y_test, hist=False, color=\"b\", label=\"Fitted Values\" , ax=ax)\n",
    "    plt.title('Actual vs Fitted Values')\n",
    "    plt.show()\n",
    "    plt.close()\n",
    "#runSVM()"
   ]
  },
  {
   "cell_type": "markdown",
   "id": "970fd320",
   "metadata": {
    "papermill": {
     "duration": 0.044054,
     "end_time": "2022-06-15T21:46:45.608357",
     "exception": false,
     "start_time": "2022-06-15T21:46:45.564303",
     "status": "completed"
    },
    "tags": []
   },
   "source": [
    "# Test Dataset"
   ]
  },
  {
   "cell_type": "code",
   "execution_count": 27,
   "id": "91c22a2d",
   "metadata": {
    "execution": {
     "iopub.execute_input": "2022-06-15T21:46:45.706095Z",
     "iopub.status.busy": "2022-06-15T21:46:45.705376Z",
     "iopub.status.idle": "2022-06-15T21:46:45.771291Z",
     "shell.execute_reply": "2022-06-15T21:46:45.771824Z"
    },
    "papermill": {
     "duration": 0.118956,
     "end_time": "2022-06-15T21:46:45.771986",
     "exception": false,
     "start_time": "2022-06-15T21:46:45.653030",
     "status": "completed"
    },
    "tags": []
   },
   "outputs": [
    {
     "data": {
      "text/html": [
       "<div>\n",
       "<style scoped>\n",
       "    .dataframe tbody tr th:only-of-type {\n",
       "        vertical-align: middle;\n",
       "    }\n",
       "\n",
       "    .dataframe tbody tr th {\n",
       "        vertical-align: top;\n",
       "    }\n",
       "\n",
       "    .dataframe thead th {\n",
       "        text-align: right;\n",
       "    }\n",
       "</style>\n",
       "<table border=\"1\" class=\"dataframe\">\n",
       "  <thead>\n",
       "    <tr style=\"text-align: right;\">\n",
       "      <th></th>\n",
       "      <th>id</th>\n",
       "      <th>store_nbr</th>\n",
       "      <th>onpromotion</th>\n",
       "      <th>month</th>\n",
       "    </tr>\n",
       "  </thead>\n",
       "  <tbody>\n",
       "    <tr>\n",
       "      <th>0</th>\n",
       "      <td>3000888</td>\n",
       "      <td>1</td>\n",
       "      <td>0</td>\n",
       "      <td>8</td>\n",
       "    </tr>\n",
       "    <tr>\n",
       "      <th>1</th>\n",
       "      <td>3000889</td>\n",
       "      <td>1</td>\n",
       "      <td>0</td>\n",
       "      <td>8</td>\n",
       "    </tr>\n",
       "    <tr>\n",
       "      <th>2</th>\n",
       "      <td>3000890</td>\n",
       "      <td>1</td>\n",
       "      <td>2</td>\n",
       "      <td>8</td>\n",
       "    </tr>\n",
       "    <tr>\n",
       "      <th>3</th>\n",
       "      <td>3000891</td>\n",
       "      <td>1</td>\n",
       "      <td>20</td>\n",
       "      <td>8</td>\n",
       "    </tr>\n",
       "    <tr>\n",
       "      <th>4</th>\n",
       "      <td>3000892</td>\n",
       "      <td>1</td>\n",
       "      <td>0</td>\n",
       "      <td>8</td>\n",
       "    </tr>\n",
       "  </tbody>\n",
       "</table>\n",
       "</div>"
      ],
      "text/plain": [
       "        id  store_nbr  onpromotion  month\n",
       "0  3000888          1            0      8\n",
       "1  3000889          1            0      8\n",
       "2  3000890          1            2      8\n",
       "3  3000891          1           20      8\n",
       "4  3000892          1            0      8"
      ]
     },
     "execution_count": 27,
     "metadata": {},
     "output_type": "execute_result"
    }
   ],
   "source": [
    "test=pd.read_csv(test)\n",
    "test.head()\n",
    "\n",
    "#Feature three new columns with year, month, and day:\n",
    "#test['year']=test['date'].apply(lambda x: int(str(x)[:4])) #first four\n",
    "test['month']=test['date'].apply(lambda x: int(str(x)[5:7])) #five and six\n",
    "#test['day']=test['date'].apply(lambda x: int(str(x)[-2:])) # last two\n",
    "\n",
    "features=list(X.columns)\n",
    "test=test[features]\n",
    "test.head()"
   ]
  },
  {
   "cell_type": "markdown",
   "id": "db7dc3cc",
   "metadata": {
    "papermill": {
     "duration": 0.045581,
     "end_time": "2022-06-15T21:46:45.863210",
     "exception": false,
     "start_time": "2022-06-15T21:46:45.817629",
     "status": "completed"
    },
    "tags": []
   },
   "source": [
    "# Final Prediction"
   ]
  },
  {
   "cell_type": "code",
   "execution_count": 28,
   "id": "e31fabd2",
   "metadata": {
    "execution": {
     "iopub.execute_input": "2022-06-15T21:46:45.957087Z",
     "iopub.status.busy": "2022-06-15T21:46:45.956135Z",
     "iopub.status.idle": "2022-06-15T21:46:46.329237Z",
     "shell.execute_reply": "2022-06-15T21:46:46.329745Z"
    },
    "papermill": {
     "duration": 0.42162,
     "end_time": "2022-06-15T21:46:46.329907",
     "exception": false,
     "start_time": "2022-06-15T21:46:45.908287",
     "status": "completed"
    },
    "tags": []
   },
   "outputs": [
    {
     "data": {
      "text/html": [
       "<div>\n",
       "<style scoped>\n",
       "    .dataframe tbody tr th:only-of-type {\n",
       "        vertical-align: middle;\n",
       "    }\n",
       "\n",
       "    .dataframe tbody tr th {\n",
       "        vertical-align: top;\n",
       "    }\n",
       "\n",
       "    .dataframe thead th {\n",
       "        text-align: right;\n",
       "    }\n",
       "</style>\n",
       "<table border=\"1\" class=\"dataframe\">\n",
       "  <thead>\n",
       "    <tr style=\"text-align: right;\">\n",
       "      <th></th>\n",
       "      <th>id</th>\n",
       "      <th>sales</th>\n",
       "    </tr>\n",
       "  </thead>\n",
       "  <tbody>\n",
       "    <tr>\n",
       "      <th>0</th>\n",
       "      <td>3000888</td>\n",
       "      <td>69.497365</td>\n",
       "    </tr>\n",
       "    <tr>\n",
       "      <th>1</th>\n",
       "      <td>3000889</td>\n",
       "      <td>69.497365</td>\n",
       "    </tr>\n",
       "    <tr>\n",
       "      <th>2</th>\n",
       "      <td>3000890</td>\n",
       "      <td>244.492869</td>\n",
       "    </tr>\n",
       "    <tr>\n",
       "      <th>3</th>\n",
       "      <td>3000891</td>\n",
       "      <td>1319.832989</td>\n",
       "    </tr>\n",
       "    <tr>\n",
       "      <th>4</th>\n",
       "      <td>3000892</td>\n",
       "      <td>69.497365</td>\n",
       "    </tr>\n",
       "    <tr>\n",
       "      <th>5</th>\n",
       "      <td>3000893</td>\n",
       "      <td>948.699050</td>\n",
       "    </tr>\n",
       "    <tr>\n",
       "      <th>6</th>\n",
       "      <td>3000894</td>\n",
       "      <td>69.497365</td>\n",
       "    </tr>\n",
       "  </tbody>\n",
       "</table>\n",
       "</div>"
      ],
      "text/plain": [
       "        id        sales\n",
       "0  3000888    69.497365\n",
       "1  3000889    69.497365\n",
       "2  3000890   244.492869\n",
       "3  3000891  1319.832989\n",
       "4  3000892    69.497365\n",
       "5  3000893   948.699050\n",
       "6  3000894    69.497365"
      ]
     },
     "execution_count": 28,
     "metadata": {},
     "output_type": "execute_result"
    }
   ],
   "source": [
    "finalPredicts=reg.predict(test)\n",
    "ID=test['id']\n",
    "tupleData = list(zip(ID, finalPredicts))\n",
    "output = pd.DataFrame(tupleData, columns = ['id', 'sales'])\n",
    "output.head(7)"
   ]
  },
  {
   "cell_type": "markdown",
   "id": "4717c4e0",
   "metadata": {
    "papermill": {
     "duration": 0.046751,
     "end_time": "2022-06-15T21:46:46.423536",
     "exception": false,
     "start_time": "2022-06-15T21:46:46.376785",
     "status": "completed"
    },
    "tags": []
   },
   "source": [
    "#### Save Output"
   ]
  },
  {
   "cell_type": "code",
   "execution_count": 29,
   "id": "a51cae4e",
   "metadata": {
    "execution": {
     "iopub.execute_input": "2022-06-15T21:46:46.518121Z",
     "iopub.status.busy": "2022-06-15T21:46:46.517126Z",
     "iopub.status.idle": "2022-06-15T21:46:46.589173Z",
     "shell.execute_reply": "2022-06-15T21:46:46.588594Z"
    },
    "papermill": {
     "duration": 0.120188,
     "end_time": "2022-06-15T21:46:46.589304",
     "exception": false,
     "start_time": "2022-06-15T21:46:46.469116",
     "status": "completed"
    },
    "tags": []
   },
   "outputs": [
    {
     "name": "stdout",
     "output_type": "stream",
     "text": [
      "Your submission was successfully saved!\n"
     ]
    }
   ],
   "source": [
    "output.to_csv('submission.csv', index=False)\n",
    "print(\"Your submission was successfully saved!\")"
   ]
  },
  {
   "cell_type": "code",
   "execution_count": 30,
   "id": "a5dfccf9",
   "metadata": {
    "execution": {
     "iopub.execute_input": "2022-06-15T21:46:46.685751Z",
     "iopub.status.busy": "2022-06-15T21:46:46.684844Z",
     "iopub.status.idle": "2022-06-15T21:46:46.704723Z",
     "shell.execute_reply": "2022-06-15T21:46:46.705235Z"
    },
    "papermill": {
     "duration": 0.069909,
     "end_time": "2022-06-15T21:46:46.705397",
     "exception": false,
     "start_time": "2022-06-15T21:46:46.635488",
     "status": "completed"
    },
    "tags": []
   },
   "outputs": [],
   "source": [
    "#SAPMLE ONLY:\n",
    "sample=r'/kaggle/input/store-sales-time-series-forecasting/sample_submission.csv'\n",
    "sample=pd.read_csv(sample)"
   ]
  }
 ],
 "metadata": {
  "kernelspec": {
   "display_name": "Python 3",
   "language": "python",
   "name": "python3"
  },
  "language_info": {
   "codemirror_mode": {
    "name": "ipython",
    "version": 3
   },
   "file_extension": ".py",
   "mimetype": "text/x-python",
   "name": "python",
   "nbconvert_exporter": "python",
   "pygments_lexer": "ipython3",
   "version": "3.7.12"
  },
  "papermill": {
   "default_parameters": {},
   "duration": 2043.418061,
   "end_time": "2022-06-15T21:46:47.464275",
   "environment_variables": {},
   "exception": null,
   "input_path": "__notebook__.ipynb",
   "output_path": "__notebook__.ipynb",
   "parameters": {},
   "start_time": "2022-06-15T21:12:44.046214",
   "version": "2.3.3"
  }
 },
 "nbformat": 4,
 "nbformat_minor": 5
}
