{
 "cells": [
  {
   "cell_type": "markdown",
   "metadata": {},
   "source": [
    "# Detect Credit Card Fraud\n",
    "Machine learning will be used to detect fraudulent credit card transaction. Data is from transactions made by credit cards in September 2013 by European cardholders which can be found here: https://www.kaggle.com/mlg-ulb/creditcardfraud.\n",
    "\n",
    "The final predictive models using AUC is:\n",
    "* KNN 0.9844\n",
    "* Linear Regression 0.9844\n",
    "* AUC:  0.941\n",
    "* Gradient boosting regression 0.93\n",
    "* Decision tree is: 0.9338\n",
    "* Logistic regression 0.905\n",
    "* SVM: .50 \n",
    "\n",
    "The train dataset has 5 rows × 31 columns with the first five rows can be seen below in the next section."
   ]
  },
  {
   "cell_type": "code",
   "execution_count": 1,
   "metadata": {
    "execution": {
     "iopub.execute_input": "2022-03-27T18:09:59.933975Z",
     "iopub.status.busy": "2022-03-27T18:09:59.933392Z",
     "iopub.status.idle": "2022-03-27T18:10:04.241033Z",
     "shell.execute_reply": "2022-03-27T18:10:04.239881Z",
     "shell.execute_reply.started": "2022-03-27T18:09:59.933915Z"
    }
   },
   "outputs": [
    {
     "data": {
      "text/html": [
       "<div>\n",
       "<style scoped>\n",
       "    .dataframe tbody tr th:only-of-type {\n",
       "        vertical-align: middle;\n",
       "    }\n",
       "\n",
       "    .dataframe tbody tr th {\n",
       "        vertical-align: top;\n",
       "    }\n",
       "\n",
       "    .dataframe thead th {\n",
       "        text-align: right;\n",
       "    }\n",
       "</style>\n",
       "<table border=\"1\" class=\"dataframe\">\n",
       "  <thead>\n",
       "    <tr style=\"text-align: right;\">\n",
       "      <th></th>\n",
       "      <th>Time</th>\n",
       "      <th>V1</th>\n",
       "      <th>V2</th>\n",
       "      <th>V3</th>\n",
       "      <th>V4</th>\n",
       "      <th>V5</th>\n",
       "      <th>V6</th>\n",
       "      <th>V7</th>\n",
       "      <th>V8</th>\n",
       "      <th>V9</th>\n",
       "      <th>...</th>\n",
       "      <th>V21</th>\n",
       "      <th>V22</th>\n",
       "      <th>V23</th>\n",
       "      <th>V24</th>\n",
       "      <th>V25</th>\n",
       "      <th>V26</th>\n",
       "      <th>V27</th>\n",
       "      <th>V28</th>\n",
       "      <th>Amount</th>\n",
       "      <th>Class</th>\n",
       "    </tr>\n",
       "  </thead>\n",
       "  <tbody>\n",
       "    <tr>\n",
       "      <th>0</th>\n",
       "      <td>0.0</td>\n",
       "      <td>-1.359807</td>\n",
       "      <td>-0.072781</td>\n",
       "      <td>2.536347</td>\n",
       "      <td>1.378155</td>\n",
       "      <td>-0.338321</td>\n",
       "      <td>0.462388</td>\n",
       "      <td>0.239599</td>\n",
       "      <td>0.098698</td>\n",
       "      <td>0.363787</td>\n",
       "      <td>...</td>\n",
       "      <td>-0.018307</td>\n",
       "      <td>0.277838</td>\n",
       "      <td>-0.110474</td>\n",
       "      <td>0.066928</td>\n",
       "      <td>0.128539</td>\n",
       "      <td>-0.189115</td>\n",
       "      <td>0.133558</td>\n",
       "      <td>-0.021053</td>\n",
       "      <td>149.62</td>\n",
       "      <td>0</td>\n",
       "    </tr>\n",
       "    <tr>\n",
       "      <th>1</th>\n",
       "      <td>0.0</td>\n",
       "      <td>1.191857</td>\n",
       "      <td>0.266151</td>\n",
       "      <td>0.166480</td>\n",
       "      <td>0.448154</td>\n",
       "      <td>0.060018</td>\n",
       "      <td>-0.082361</td>\n",
       "      <td>-0.078803</td>\n",
       "      <td>0.085102</td>\n",
       "      <td>-0.255425</td>\n",
       "      <td>...</td>\n",
       "      <td>-0.225775</td>\n",
       "      <td>-0.638672</td>\n",
       "      <td>0.101288</td>\n",
       "      <td>-0.339846</td>\n",
       "      <td>0.167170</td>\n",
       "      <td>0.125895</td>\n",
       "      <td>-0.008983</td>\n",
       "      <td>0.014724</td>\n",
       "      <td>2.69</td>\n",
       "      <td>0</td>\n",
       "    </tr>\n",
       "    <tr>\n",
       "      <th>2</th>\n",
       "      <td>1.0</td>\n",
       "      <td>-1.358354</td>\n",
       "      <td>-1.340163</td>\n",
       "      <td>1.773209</td>\n",
       "      <td>0.379780</td>\n",
       "      <td>-0.503198</td>\n",
       "      <td>1.800499</td>\n",
       "      <td>0.791461</td>\n",
       "      <td>0.247676</td>\n",
       "      <td>-1.514654</td>\n",
       "      <td>...</td>\n",
       "      <td>0.247998</td>\n",
       "      <td>0.771679</td>\n",
       "      <td>0.909412</td>\n",
       "      <td>-0.689281</td>\n",
       "      <td>-0.327642</td>\n",
       "      <td>-0.139097</td>\n",
       "      <td>-0.055353</td>\n",
       "      <td>-0.059752</td>\n",
       "      <td>378.66</td>\n",
       "      <td>0</td>\n",
       "    </tr>\n",
       "    <tr>\n",
       "      <th>3</th>\n",
       "      <td>1.0</td>\n",
       "      <td>-0.966272</td>\n",
       "      <td>-0.185226</td>\n",
       "      <td>1.792993</td>\n",
       "      <td>-0.863291</td>\n",
       "      <td>-0.010309</td>\n",
       "      <td>1.247203</td>\n",
       "      <td>0.237609</td>\n",
       "      <td>0.377436</td>\n",
       "      <td>-1.387024</td>\n",
       "      <td>...</td>\n",
       "      <td>-0.108300</td>\n",
       "      <td>0.005274</td>\n",
       "      <td>-0.190321</td>\n",
       "      <td>-1.175575</td>\n",
       "      <td>0.647376</td>\n",
       "      <td>-0.221929</td>\n",
       "      <td>0.062723</td>\n",
       "      <td>0.061458</td>\n",
       "      <td>123.50</td>\n",
       "      <td>0</td>\n",
       "    </tr>\n",
       "    <tr>\n",
       "      <th>4</th>\n",
       "      <td>2.0</td>\n",
       "      <td>-1.158233</td>\n",
       "      <td>0.877737</td>\n",
       "      <td>1.548718</td>\n",
       "      <td>0.403034</td>\n",
       "      <td>-0.407193</td>\n",
       "      <td>0.095921</td>\n",
       "      <td>0.592941</td>\n",
       "      <td>-0.270533</td>\n",
       "      <td>0.817739</td>\n",
       "      <td>...</td>\n",
       "      <td>-0.009431</td>\n",
       "      <td>0.798278</td>\n",
       "      <td>-0.137458</td>\n",
       "      <td>0.141267</td>\n",
       "      <td>-0.206010</td>\n",
       "      <td>0.502292</td>\n",
       "      <td>0.219422</td>\n",
       "      <td>0.215153</td>\n",
       "      <td>69.99</td>\n",
       "      <td>0</td>\n",
       "    </tr>\n",
       "  </tbody>\n",
       "</table>\n",
       "<p>5 rows × 31 columns</p>\n",
       "</div>"
      ],
      "text/plain": [
       "   Time        V1        V2        V3        V4        V5        V6        V7  \\\n",
       "0   0.0 -1.359807 -0.072781  2.536347  1.378155 -0.338321  0.462388  0.239599   \n",
       "1   0.0  1.191857  0.266151  0.166480  0.448154  0.060018 -0.082361 -0.078803   \n",
       "2   1.0 -1.358354 -1.340163  1.773209  0.379780 -0.503198  1.800499  0.791461   \n",
       "3   1.0 -0.966272 -0.185226  1.792993 -0.863291 -0.010309  1.247203  0.237609   \n",
       "4   2.0 -1.158233  0.877737  1.548718  0.403034 -0.407193  0.095921  0.592941   \n",
       "\n",
       "         V8        V9  ...       V21       V22       V23       V24       V25  \\\n",
       "0  0.098698  0.363787  ... -0.018307  0.277838 -0.110474  0.066928  0.128539   \n",
       "1  0.085102 -0.255425  ... -0.225775 -0.638672  0.101288 -0.339846  0.167170   \n",
       "2  0.247676 -1.514654  ...  0.247998  0.771679  0.909412 -0.689281 -0.327642   \n",
       "3  0.377436 -1.387024  ... -0.108300  0.005274 -0.190321 -1.175575  0.647376   \n",
       "4 -0.270533  0.817739  ... -0.009431  0.798278 -0.137458  0.141267 -0.206010   \n",
       "\n",
       "        V26       V27       V28  Amount  Class  \n",
       "0 -0.189115  0.133558 -0.021053  149.62      0  \n",
       "1  0.125895 -0.008983  0.014724    2.69      0  \n",
       "2 -0.139097 -0.055353 -0.059752  378.66      0  \n",
       "3 -0.221929  0.062723  0.061458  123.50      0  \n",
       "4  0.502292  0.219422  0.215153   69.99      0  \n",
       "\n",
       "[5 rows x 31 columns]"
      ]
     },
     "execution_count": 1,
     "metadata": {},
     "output_type": "execute_result"
    }
   ],
   "source": [
    "import numpy as np\n",
    "import pandas as pd\n",
    "import seaborn as sns\n",
    "import matplotlib.pyplot as plt\n",
    "from sklearn.model_selection import train_test_split, cross_validate\n",
    "from sklearn.metrics import mean_absolute_error, mean_squared_error\n",
    "from sklearn.datasets import make_classification\n",
    "from sklearn import ensemble\n",
    "from sklearn import metrics\n",
    "\n",
    "#creditCard=r'/kaggle/input/creditcardfraud/creditcard.csv'\n",
    "creditCard=r'C:\\Users\\sschm\\Desktop\\Kaggle\\creditcard.csv'\n",
    "data=pd.read_csv(creditCard)\n",
    "data.head()"
   ]
  },
  {
   "cell_type": "markdown",
   "metadata": {},
   "source": [
    "## Numeric DataFrame"
   ]
  },
  {
   "cell_type": "code",
   "execution_count": 2,
   "metadata": {
    "execution": {
     "iopub.execute_input": "2022-03-27T18:10:04.244113Z",
     "iopub.status.busy": "2022-03-27T18:10:04.243310Z",
     "iopub.status.idle": "2022-03-27T18:10:04.317103Z",
     "shell.execute_reply": "2022-03-27T18:10:04.315732Z",
     "shell.execute_reply.started": "2022-03-27T18:10:04.244056Z"
    }
   },
   "outputs": [
    {
     "data": {
      "text/html": [
       "<div>\n",
       "<style scoped>\n",
       "    .dataframe tbody tr th:only-of-type {\n",
       "        vertical-align: middle;\n",
       "    }\n",
       "\n",
       "    .dataframe tbody tr th {\n",
       "        vertical-align: top;\n",
       "    }\n",
       "\n",
       "    .dataframe thead th {\n",
       "        text-align: right;\n",
       "    }\n",
       "</style>\n",
       "<table border=\"1\" class=\"dataframe\">\n",
       "  <thead>\n",
       "    <tr style=\"text-align: right;\">\n",
       "      <th></th>\n",
       "      <th>Time</th>\n",
       "      <th>V1</th>\n",
       "      <th>V2</th>\n",
       "      <th>V3</th>\n",
       "      <th>V4</th>\n",
       "      <th>V5</th>\n",
       "      <th>V6</th>\n",
       "      <th>V7</th>\n",
       "      <th>V8</th>\n",
       "      <th>V9</th>\n",
       "      <th>...</th>\n",
       "      <th>V21</th>\n",
       "      <th>V22</th>\n",
       "      <th>V23</th>\n",
       "      <th>V24</th>\n",
       "      <th>V25</th>\n",
       "      <th>V26</th>\n",
       "      <th>V27</th>\n",
       "      <th>V28</th>\n",
       "      <th>Amount</th>\n",
       "      <th>Class</th>\n",
       "    </tr>\n",
       "  </thead>\n",
       "  <tbody>\n",
       "    <tr>\n",
       "      <th>0</th>\n",
       "      <td>0.0</td>\n",
       "      <td>-1.359807</td>\n",
       "      <td>-0.072781</td>\n",
       "      <td>2.536347</td>\n",
       "      <td>1.378155</td>\n",
       "      <td>-0.338321</td>\n",
       "      <td>0.462388</td>\n",
       "      <td>0.239599</td>\n",
       "      <td>0.098698</td>\n",
       "      <td>0.363787</td>\n",
       "      <td>...</td>\n",
       "      <td>-0.018307</td>\n",
       "      <td>0.277838</td>\n",
       "      <td>-0.110474</td>\n",
       "      <td>0.066928</td>\n",
       "      <td>0.128539</td>\n",
       "      <td>-0.189115</td>\n",
       "      <td>0.133558</td>\n",
       "      <td>-0.021053</td>\n",
       "      <td>149.62</td>\n",
       "      <td>0</td>\n",
       "    </tr>\n",
       "    <tr>\n",
       "      <th>1</th>\n",
       "      <td>0.0</td>\n",
       "      <td>1.191857</td>\n",
       "      <td>0.266151</td>\n",
       "      <td>0.166480</td>\n",
       "      <td>0.448154</td>\n",
       "      <td>0.060018</td>\n",
       "      <td>-0.082361</td>\n",
       "      <td>-0.078803</td>\n",
       "      <td>0.085102</td>\n",
       "      <td>-0.255425</td>\n",
       "      <td>...</td>\n",
       "      <td>-0.225775</td>\n",
       "      <td>-0.638672</td>\n",
       "      <td>0.101288</td>\n",
       "      <td>-0.339846</td>\n",
       "      <td>0.167170</td>\n",
       "      <td>0.125895</td>\n",
       "      <td>-0.008983</td>\n",
       "      <td>0.014724</td>\n",
       "      <td>2.69</td>\n",
       "      <td>0</td>\n",
       "    </tr>\n",
       "    <tr>\n",
       "      <th>2</th>\n",
       "      <td>1.0</td>\n",
       "      <td>-1.358354</td>\n",
       "      <td>-1.340163</td>\n",
       "      <td>1.773209</td>\n",
       "      <td>0.379780</td>\n",
       "      <td>-0.503198</td>\n",
       "      <td>1.800499</td>\n",
       "      <td>0.791461</td>\n",
       "      <td>0.247676</td>\n",
       "      <td>-1.514654</td>\n",
       "      <td>...</td>\n",
       "      <td>0.247998</td>\n",
       "      <td>0.771679</td>\n",
       "      <td>0.909412</td>\n",
       "      <td>-0.689281</td>\n",
       "      <td>-0.327642</td>\n",
       "      <td>-0.139097</td>\n",
       "      <td>-0.055353</td>\n",
       "      <td>-0.059752</td>\n",
       "      <td>378.66</td>\n",
       "      <td>0</td>\n",
       "    </tr>\n",
       "    <tr>\n",
       "      <th>3</th>\n",
       "      <td>1.0</td>\n",
       "      <td>-0.966272</td>\n",
       "      <td>-0.185226</td>\n",
       "      <td>1.792993</td>\n",
       "      <td>-0.863291</td>\n",
       "      <td>-0.010309</td>\n",
       "      <td>1.247203</td>\n",
       "      <td>0.237609</td>\n",
       "      <td>0.377436</td>\n",
       "      <td>-1.387024</td>\n",
       "      <td>...</td>\n",
       "      <td>-0.108300</td>\n",
       "      <td>0.005274</td>\n",
       "      <td>-0.190321</td>\n",
       "      <td>-1.175575</td>\n",
       "      <td>0.647376</td>\n",
       "      <td>-0.221929</td>\n",
       "      <td>0.062723</td>\n",
       "      <td>0.061458</td>\n",
       "      <td>123.50</td>\n",
       "      <td>0</td>\n",
       "    </tr>\n",
       "    <tr>\n",
       "      <th>4</th>\n",
       "      <td>2.0</td>\n",
       "      <td>-1.158233</td>\n",
       "      <td>0.877737</td>\n",
       "      <td>1.548718</td>\n",
       "      <td>0.403034</td>\n",
       "      <td>-0.407193</td>\n",
       "      <td>0.095921</td>\n",
       "      <td>0.592941</td>\n",
       "      <td>-0.270533</td>\n",
       "      <td>0.817739</td>\n",
       "      <td>...</td>\n",
       "      <td>-0.009431</td>\n",
       "      <td>0.798278</td>\n",
       "      <td>-0.137458</td>\n",
       "      <td>0.141267</td>\n",
       "      <td>-0.206010</td>\n",
       "      <td>0.502292</td>\n",
       "      <td>0.219422</td>\n",
       "      <td>0.215153</td>\n",
       "      <td>69.99</td>\n",
       "      <td>0</td>\n",
       "    </tr>\n",
       "  </tbody>\n",
       "</table>\n",
       "<p>5 rows × 31 columns</p>\n",
       "</div>"
      ],
      "text/plain": [
       "   Time        V1        V2        V3        V4        V5        V6        V7  \\\n",
       "0   0.0 -1.359807 -0.072781  2.536347  1.378155 -0.338321  0.462388  0.239599   \n",
       "1   0.0  1.191857  0.266151  0.166480  0.448154  0.060018 -0.082361 -0.078803   \n",
       "2   1.0 -1.358354 -1.340163  1.773209  0.379780 -0.503198  1.800499  0.791461   \n",
       "3   1.0 -0.966272 -0.185226  1.792993 -0.863291 -0.010309  1.247203  0.237609   \n",
       "4   2.0 -1.158233  0.877737  1.548718  0.403034 -0.407193  0.095921  0.592941   \n",
       "\n",
       "         V8        V9  ...       V21       V22       V23       V24       V25  \\\n",
       "0  0.098698  0.363787  ... -0.018307  0.277838 -0.110474  0.066928  0.128539   \n",
       "1  0.085102 -0.255425  ... -0.225775 -0.638672  0.101288 -0.339846  0.167170   \n",
       "2  0.247676 -1.514654  ...  0.247998  0.771679  0.909412 -0.689281 -0.327642   \n",
       "3  0.377436 -1.387024  ... -0.108300  0.005274 -0.190321 -1.175575  0.647376   \n",
       "4 -0.270533  0.817739  ... -0.009431  0.798278 -0.137458  0.141267 -0.206010   \n",
       "\n",
       "        V26       V27       V28  Amount  Class  \n",
       "0 -0.189115  0.133558 -0.021053  149.62      0  \n",
       "1  0.125895 -0.008983  0.014724    2.69      0  \n",
       "2 -0.139097 -0.055353 -0.059752  378.66      0  \n",
       "3 -0.221929  0.062723  0.061458  123.50      0  \n",
       "4  0.502292  0.219422  0.215153   69.99      0  \n",
       "\n",
       "[5 rows x 31 columns]"
      ]
     },
     "execution_count": 2,
     "metadata": {},
     "output_type": "execute_result"
    }
   ],
   "source": [
    "numerics = ['int16', 'int32', 'int64', 'float16', 'float32', 'float64']\n",
    "df = data.select_dtypes(include=numerics)\n",
    "df.head()"
   ]
  },
  {
   "cell_type": "markdown",
   "metadata": {},
   "source": [
    "## Find missing data\n",
    "There is no missing data."
   ]
  },
  {
   "cell_type": "code",
   "execution_count": 3,
   "metadata": {
    "execution": {
     "iopub.execute_input": "2022-03-27T18:10:04.320029Z",
     "iopub.status.busy": "2022-03-27T18:10:04.319500Z",
     "iopub.status.idle": "2022-03-27T18:10:04.356802Z",
     "shell.execute_reply": "2022-03-27T18:10:04.354944Z",
     "shell.execute_reply.started": "2022-03-27T18:10:04.319967Z"
    }
   },
   "outputs": [
    {
     "name": "stdout",
     "output_type": "stream",
     "text": [
      "Missing data by column:\n",
      "Time      0.0\n",
      "V16       0.0\n",
      "Amount    0.0\n",
      "V28       0.0\n",
      "V27       0.0\n",
      "dtype: float64\n"
     ]
    }
   ],
   "source": [
    "print(\"Missing data by column:\")\n",
    "findNA=df.isnull().sum().sort_values(ascending=False)/len(data)\n",
    "print(findNA.head()) #There are no missing values"
   ]
  },
  {
   "cell_type": "markdown",
   "metadata": {},
   "source": [
    "## Unbalanced Dataset\n",
    "Since the amount of fraudelent transactions is 0.0017, the dataset is considered highly unbalanced. This means metrics used should be the following: recall, precision, and AOC. R-squared should not be used for an unbalanced dataset."
   ]
  },
  {
   "cell_type": "code",
   "execution_count": 4,
   "metadata": {
    "execution": {
     "iopub.execute_input": "2022-03-27T18:10:04.359673Z",
     "iopub.status.busy": "2022-03-27T18:10:04.359361Z",
     "iopub.status.idle": "2022-03-27T18:10:04.375710Z",
     "shell.execute_reply": "2022-03-27T18:10:04.372939Z",
     "shell.execute_reply.started": "2022-03-27T18:10:04.359631Z"
    }
   },
   "outputs": [
    {
     "name": "stdout",
     "output_type": "stream",
     "text": [
      "0.0017 percent of transactions are fraudelent.\n"
     ]
    }
   ],
   "source": [
    "temp = df[\"Class\"].value_counts()\n",
    "fraud = temp[1]\n",
    "notFraud= temp[0]\n",
    "fraudNumbers=round((fraud/notFraud),4)\n",
    "print(fraudNumbers, \"percent of transactions are fraudelent.\")"
   ]
  },
  {
   "cell_type": "markdown",
   "metadata": {},
   "source": [
    "## Heatmap\n",
    "No multicollinearity was detected. The highest correlation between features was V7 and Amount which had a 0.39730 correlation."
   ]
  },
  {
   "cell_type": "code",
   "execution_count": 5,
   "metadata": {
    "execution": {
     "iopub.execute_input": "2022-03-27T18:10:04.379215Z",
     "iopub.status.busy": "2022-03-27T18:10:04.377623Z",
     "iopub.status.idle": "2022-03-27T18:10:05.718225Z",
     "shell.execute_reply": "2022-03-27T18:10:05.717438Z",
     "shell.execute_reply.started": "2022-03-27T18:10:04.379086Z"
    }
   },
   "outputs": [
    {
     "name": "stdout",
     "output_type": "stream",
     "text": [
      "AxesSubplot(0.125,0.125;0.62x0.755)\n"
     ]
    },
    {
     "data": {
      "image/png": "[encoded data removed]",
      "text/plain": [
       "<Figure size 720x720 with 2 Axes>"
      ]
     },
     "metadata": {
      "needs_background": "light"
     },
     "output_type": "display_data"
    }
   ],
   "source": [
    "def printHeatmap():\n",
    "    corr = df.corr()\n",
    "    #print(corr)\n",
    "    highly_corr_features = corr.index[abs(corr[\"Class\"])>0.2]\n",
    "    plt.figure(figsize=(10,10))\n",
    "    heat = sns.heatmap(data[highly_corr_features].corr(),annot=True,cmap=\"RdYlGn\")\n",
    "    top10=corr[\"Class\"].sort_values(ascending=False).head(10).round(4)\n",
    "    print(heat)\n",
    "    #print(top10) # top ten correlations\n",
    "\n",
    "printHeatmap() "
   ]
  },
  {
   "cell_type": "markdown",
   "metadata": {},
   "source": [
    "## Show highly correlated features"
   ]
  },
  {
   "cell_type": "code",
   "execution_count": 6,
   "metadata": {
    "execution": {
     "iopub.execute_input": "2022-03-27T18:10:05.720340Z",
     "iopub.status.busy": "2022-03-27T18:10:05.719815Z",
     "iopub.status.idle": "2022-03-27T18:10:06.648402Z",
     "shell.execute_reply": "2022-03-27T18:10:06.647146Z",
     "shell.execute_reply.started": "2022-03-27T18:10:05.720301Z"
    }
   },
   "outputs": [
    {
     "name": "stdout",
     "output_type": "stream",
     "text": [
      "Highly correlated variables above:  0.2\n"
     ]
    },
    {
     "data": {
      "text/html": [
       "<style type=\"text/css\">\n",
       "#T_e7379_row0_col0, #T_e7379_row1_col0, #T_e7379_row2_col0, #T_e7379_row3_col0, #T_e7379_row4_col0, #T_e7379_row5_col0, #T_e7379_row6_col0, #T_e7379_row7_col0, #T_e7379_row8_col0, #T_e7379_row9_col0, #T_e7379_row10_col0, #T_e7379_row11_col0, #T_e7379_row12_col0, #T_e7379_row13_col0 {\n",
       "  background-color: black;\n",
       "  color: white;\n",
       "}\n",
       "</style>\n",
       "<table id=\"T_e7379_\">\n",
       "  <thead>\n",
       "    <tr>\n",
       "      <th class=\"blank level0\" >&nbsp;</th>\n",
       "      <th class=\"col_heading level0 col0\" >Correlation</th>\n",
       "    </tr>\n",
       "  </thead>\n",
       "  <tbody>\n",
       "    <tr>\n",
       "      <th id=\"T_e7379_level0_row0\" class=\"row_heading level0 row0\" >V7 and Amount</th>\n",
       "      <td id=\"T_e7379_row0_col0\" class=\"data row0 col0\" >0.397300</td>\n",
       "    </tr>\n",
       "    <tr>\n",
       "      <th id=\"T_e7379_level0_row1\" class=\"row_heading level0 row1\" >V20 and Amount</th>\n",
       "      <td id=\"T_e7379_row1_col0\" class=\"data row1 col0\" >0.339400</td>\n",
       "    </tr>\n",
       "    <tr>\n",
       "      <th id=\"T_e7379_level0_row2\" class=\"row_heading level0 row2\" >V6 and Amount</th>\n",
       "      <td id=\"T_e7379_row2_col0\" class=\"data row2 col0\" >0.216000</td>\n",
       "    </tr>\n",
       "    <tr>\n",
       "      <th id=\"T_e7379_level0_row3\" class=\"row_heading level0 row3\" >V3 and Amount</th>\n",
       "      <td id=\"T_e7379_row3_col0\" class=\"data row3 col0\" >-0.210900</td>\n",
       "    </tr>\n",
       "    <tr>\n",
       "      <th id=\"T_e7379_level0_row4\" class=\"row_heading level0 row4\" >V10 and Class</th>\n",
       "      <td id=\"T_e7379_row4_col0\" class=\"data row4 col0\" >-0.216900</td>\n",
       "    </tr>\n",
       "    <tr>\n",
       "      <th id=\"T_e7379_level0_row5\" class=\"row_heading level0 row5\" >V1 and Amount</th>\n",
       "      <td id=\"T_e7379_row5_col0\" class=\"data row5 col0\" >-0.227700</td>\n",
       "    </tr>\n",
       "    <tr>\n",
       "      <th id=\"T_e7379_level0_row6\" class=\"row_heading level0 row6\" >Time and V25</th>\n",
       "      <td id=\"T_e7379_row6_col0\" class=\"data row6 col0\" >-0.233100</td>\n",
       "    </tr>\n",
       "    <tr>\n",
       "      <th id=\"T_e7379_level0_row7\" class=\"row_heading level0 row7\" >Time and V11</th>\n",
       "      <td id=\"T_e7379_row7_col0\" class=\"data row7 col0\" >-0.247700</td>\n",
       "    </tr>\n",
       "    <tr>\n",
       "      <th id=\"T_e7379_level0_row8\" class=\"row_heading level0 row8\" >V12 and Class</th>\n",
       "      <td id=\"T_e7379_row8_col0\" class=\"data row8 col0\" >-0.260600</td>\n",
       "    </tr>\n",
       "    <tr>\n",
       "      <th id=\"T_e7379_level0_row9\" class=\"row_heading level0 row9\" >V14 and Class</th>\n",
       "      <td id=\"T_e7379_row9_col0\" class=\"data row9 col0\" >-0.302500</td>\n",
       "    </tr>\n",
       "    <tr>\n",
       "      <th id=\"T_e7379_level0_row10\" class=\"row_heading level0 row10\" >V17 and Class</th>\n",
       "      <td id=\"T_e7379_row10_col0\" class=\"data row10 col0\" >-0.326500</td>\n",
       "    </tr>\n",
       "    <tr>\n",
       "      <th id=\"T_e7379_level0_row11\" class=\"row_heading level0 row11\" >V5 and Amount</th>\n",
       "      <td id=\"T_e7379_row11_col0\" class=\"data row11 col0\" >-0.386400</td>\n",
       "    </tr>\n",
       "    <tr>\n",
       "      <th id=\"T_e7379_level0_row12\" class=\"row_heading level0 row12\" >Time and V3</th>\n",
       "      <td id=\"T_e7379_row12_col0\" class=\"data row12 col0\" >-0.419600</td>\n",
       "    </tr>\n",
       "    <tr>\n",
       "      <th id=\"T_e7379_level0_row13\" class=\"row_heading level0 row13\" >V2 and Amount</th>\n",
       "      <td id=\"T_e7379_row13_col0\" class=\"data row13 col0\" >-0.531400</td>\n",
       "    </tr>\n",
       "  </tbody>\n",
       "</table>\n"
      ],
      "text/plain": [
       "<pandas.io.formats.style.Styler at 0x1fa6e60b670>"
      ]
     },
     "execution_count": 6,
     "metadata": {},
     "output_type": "execute_result"
    }
   ],
   "source": [
    "def printHighCorr(df, features, threshold=0.2):\n",
    "    print(\"Highly correlated variables above: \", threshold)\n",
    "    corr_df = df[features].corr() # get correlations\n",
    "    correlated_features = np.where(np.abs(corr_df) > threshold) # select ones above the abs threshold\n",
    "    correlated_features = [(corr_df.iloc[x,y], x, y) for x, y in zip(*correlated_features) if x != y and x < y] # avoid duplication\n",
    "    s_corr_list = sorted(correlated_features, key=lambda x: -abs(x[0])) # sort by correlation value\n",
    "    correlation_df={}\n",
    "    if s_corr_list == []:\n",
    "        print(\"There are no highly correlated features with correlation above\", threshold)\n",
    "    else:\n",
    "        for v, i, j in s_corr_list:\n",
    "            correlation_df[corr_df.index[i] +\" and \"+ corr_df.columns[j]]= v\n",
    "        correlation_df=pd.DataFrame(correlation_df,index=['Correlation']).round(4)\n",
    "    return  correlation_df.T.sort_values(by='Correlation',ascending=False)\n",
    "printHighCorr(data,data.columns).style.set_properties(**{'background-color': 'black','color': 'white'})"
   ]
  },
  {
   "cell_type": "markdown",
   "metadata": {},
   "source": [
    "## Split Data\n",
    "Use 70% of the train data to predict the accuracy of the remaining 30% of the test data."
   ]
  },
  {
   "cell_type": "code",
   "execution_count": 7,
   "metadata": {
    "execution": {
     "iopub.execute_input": "2022-03-27T18:10:06.650479Z",
     "iopub.status.busy": "2022-03-27T18:10:06.650050Z",
     "iopub.status.idle": "2022-03-27T18:10:06.850966Z",
     "shell.execute_reply": "2022-03-27T18:10:06.849628Z",
     "shell.execute_reply.started": "2022-03-27T18:10:06.650429Z"
    }
   },
   "outputs": [],
   "source": [
    "X=df.drop('Class', axis=1)\n",
    "y=df['Class']\n",
    "\n",
    "X_train, X_test, y_train, y_test = train_test_split(X, y, test_size = 0.30, random_state = 42)"
   ]
  },
  {
   "cell_type": "markdown",
   "metadata": {
    "execution": {
     "iopub.execute_input": "2022-02-11T21:03:12.343184Z",
     "iopub.status.busy": "2022-02-11T21:03:12.342338Z",
     "iopub.status.idle": "2022-02-11T21:03:12.347636Z",
     "shell.execute_reply": "2022-02-11T21:03:12.34641Z",
     "shell.execute_reply.started": "2022-02-11T21:03:12.343138Z"
    }
   },
   "source": [
    " ## Gradient Boost"
   ]
  },
  {
   "cell_type": "code",
   "execution_count": 8,
   "metadata": {
    "execution": {
     "iopub.execute_input": "2022-03-27T18:10:06.852631Z",
     "iopub.status.busy": "2022-03-27T18:10:06.852366Z",
     "iopub.status.idle": "2022-03-27T18:10:17.023904Z",
     "shell.execute_reply": "2022-03-27T18:10:17.022475Z",
     "shell.execute_reply.started": "2022-03-27T18:10:06.852599Z"
    }
   },
   "outputs": [
    {
     "name": "stdout",
     "output_type": "stream",
     "text": [
      "Gradient boosting regression r2:  0.0281\n",
      "The mean squared error (MSE) on test set: 0.0015\n",
      "Gradient boosting regression AUC:  0.93\n"
     ]
    }
   ],
   "source": [
    "from sklearn.inspection import permutation_importance\n",
    "from sklearn.metrics import r2_score\n",
    "from sklearn.ensemble import GradientBoostingClassifier,GradientBoostingRegressor\n",
    "from sklearn import ensemble\n",
    "\n",
    "params = {\n",
    " \"n_estimators\": 2, \"max_depth\": 4, \"min_samples_split\": 5, \"learning_rate\": 0.01,\n",
    "}\n",
    "\n",
    "reg = ensemble.GradientBoostingRegressor(**params)\n",
    "reg.fit(X_train, y_train)\n",
    "\n",
    "y_pred = reg.predict(X_test)\n",
    "gbr_r2 = r2_score(y_test, y_pred).round(4) \n",
    "print(\"Gradient boosting regression r2: \", gbr_r2) \n",
    "\n",
    "mse = mean_squared_error(y_test, reg.predict(X_test))\n",
    "print(\"The mean squared error (MSE) on test set: {:.4f}\".format(mse))\n",
    "\n",
    "#calculate AUC of model\n",
    "auc = round( metrics.roc_auc_score(y_test, y_pred), 4 ) \n",
    "print(\"Gradient boosting regression AUC: \", auc )"
   ]
  },
  {
   "cell_type": "markdown",
   "metadata": {},
   "source": [
    "## Feature Importance"
   ]
  },
  {
   "cell_type": "code",
   "execution_count": 9,
   "metadata": {
    "execution": {
     "iopub.execute_input": "2022-03-27T18:10:17.025769Z",
     "iopub.status.busy": "2022-03-27T18:10:17.025491Z",
     "iopub.status.idle": "2022-03-27T18:10:24.228897Z",
     "shell.execute_reply": "2022-03-27T18:10:24.228144Z",
     "shell.execute_reply.started": "2022-03-27T18:10:17.025736Z"
    }
   },
   "outputs": [
    {
     "data": {
      "image/png": "[encoded data removed]",
      "text/plain": [
       "<Figure size 864x432 with 2 Axes>"
      ]
     },
     "metadata": {
      "needs_background": "light"
     },
     "output_type": "display_data"
    }
   ],
   "source": [
    "cols=X.columns\n",
    "feature_importance = reg.feature_importances_\n",
    "sorted_idx = np.argsort(feature_importance)\n",
    "pos = np.arange(sorted_idx.shape[0]) + 0.5\n",
    "fig = plt.figure(figsize=(12, 6))\n",
    "plt.subplot(1, 2, 1)\n",
    "plt.barh(pos, feature_importance[sorted_idx], align=\"center\")\n",
    "plt.yticks(pos, np.array(cols)[sorted_idx])\n",
    "plt.title(\"Feature Importance (MDI)\")\n",
    "\n",
    "result = permutation_importance(\n",
    "    reg, X_test, y_test, n_repeats=10, random_state=42, n_jobs=2\n",
    ")\n",
    "sorted_idx = result.importances_mean.argsort()\n",
    "plt.subplot(1, 2, 2)\n",
    "plt.boxplot(\n",
    "    result.importances[sorted_idx].T,\n",
    "    vert=False,\n",
    "    labels=np.array(cols)[sorted_idx],\n",
    ")\n",
    "plt.title(\"Permutation Importance (test set)\")\n",
    "fig.tight_layout()\n",
    "plt.show()"
   ]
  },
  {
   "cell_type": "markdown",
   "metadata": {
    "execution": {
     "iopub.execute_input": "2022-02-20T18:17:59.09185Z",
     "iopub.status.busy": "2022-02-20T18:17:59.091558Z",
     "iopub.status.idle": "2022-02-20T18:17:59.09661Z",
     "shell.execute_reply": "2022-02-20T18:17:59.095616Z",
     "shell.execute_reply.started": "2022-02-20T18:17:59.091821Z"
    }
   },
   "source": [
    "## Linear Regression\n",
    "AUC for linear regression is:  0.9844 <br>\n",
    "Linear regression r2 score:  0.5375 <br>\n",
    "Linear Accuracy:  0.5375 <br>\n",
    "0.4573  linear regression cross validate mean <br>"
   ]
  },
  {
   "cell_type": "code",
   "execution_count": 10,
   "metadata": {
    "execution": {
     "iopub.execute_input": "2022-03-27T18:10:24.232550Z",
     "iopub.status.busy": "2022-03-27T18:10:24.231701Z",
     "iopub.status.idle": "2022-03-27T18:10:26.839967Z",
     "shell.execute_reply": "2022-03-27T18:10:26.838955Z",
     "shell.execute_reply.started": "2022-03-27T18:10:24.232506Z"
    }
   },
   "outputs": [
    {
     "name": "stdout",
     "output_type": "stream",
     "text": [
      "AUC for linear regression is:  0.9844\n",
      "Linear regression r2 score:  0.5375\n",
      "Linear Accuracy:  0.5375\n",
      "0.4573  linear regression cross validate mean\n"
     ]
    },
    {
     "data": {
      "image/png": "[encoded data removed]",
      "text/plain": [
       "<Figure size 432x288 with 1 Axes>"
      ]
     },
     "metadata": {
      "needs_background": "light"
     },
     "output_type": "display_data"
    }
   ],
   "source": [
    "from sklearn.linear_model import LinearRegression, Ridge, Lasso\n",
    "\n",
    "#Fit and predict:\n",
    "lrModel = LinearRegression()\n",
    "lrModel.fit(X_train, y_train)\n",
    "lrPredict = lrModel.predict(X_test)\n",
    "\n",
    "# plt.scatter(y_test, predictions)\n",
    "plt.hist(y_test - lrPredict)\n",
    "\n",
    "#Linear Metrics:\n",
    "auc = round( metrics.roc_auc_score(y_test, lrPredict), 4 ) \n",
    "r2 = r2_score(y_test, lrPredict).round(4) \n",
    "print(\"AUC for linear regression is: \", auc)\n",
    "print(\"Linear regression r2 score: \", r2)\n",
    "\n",
    "#CROSS VALIDATE TEST RESULTS:\n",
    "lr_score = lrModel.score(X_test, y_test).round(4)  # train test \n",
    "print(\"Linear Accuracy: \", lr_score)\n",
    "lr_cv = cross_validate(lrModel, X, y, cv = 5, scoring= 'r2')\n",
    "lr_cvMean=lr_cv['test_score'].mean().round(4)\n",
    "print(lr_cvMean, \" linear regression cross validate mean\")\n",
    "\n",
    "def linearReports():\n",
    "    print(model.coef_)    \n",
    "    print(model.intercept_)\n",
    "    print(classification_report(y_test_data, lrPredict))\n",
    "    print(confusion_matrix(y_test_data, lrPredict))\n",
    "    metrics.mean_absolute_error(y_test, lrPredict)\n",
    "    np.sqrt(metrics.mean_squared_error(y_test, lrPredict))"
   ]
  },
  {
   "cell_type": "markdown",
   "metadata": {},
   "source": [
    "## Logistic Regression\n",
    "AUC for logistic regression is:  0.905"
   ]
  },
  {
   "cell_type": "code",
   "execution_count": 11,
   "metadata": {
    "execution": {
     "iopub.execute_input": "2022-03-27T18:10:26.841881Z",
     "iopub.status.busy": "2022-03-27T18:10:26.841599Z",
     "iopub.status.idle": "2022-03-27T18:10:30.841091Z",
     "shell.execute_reply": "2022-03-27T18:10:30.840089Z",
     "shell.execute_reply.started": "2022-03-27T18:10:26.841834Z"
    }
   },
   "outputs": [
    {
     "name": "stdout",
     "output_type": "stream",
     "text": [
      "AUC for logistic regression is:  0.905\n"
     ]
    }
   ],
   "source": [
    "from sklearn.linear_model import LogisticRegression\n",
    "logReg = LogisticRegression(solver='liblinear') #solver param gets rid of encoder error\n",
    "\n",
    "#Train the model and create predictions\n",
    "logReg.fit(X_train, y_train)\n",
    "logPredict = logReg.predict_proba(X_test)[::,1]\n",
    "\n",
    "#calculate AUC of model\n",
    "auc = round( metrics.roc_auc_score(y_test, logPredict), 4 ) \n",
    "print(\"AUC for logistic regression is: \", auc)"
   ]
  },
  {
   "cell_type": "markdown",
   "metadata": {},
   "source": [
    "## Decision Tree\n",
    "The best_max_tree is automated into the decision tree. The results were the following:\n",
    "* Decision Tree r-squared is: 0.8459 <br>\n",
    "* AUC for decision tree is:  0.9338"
   ]
  },
  {
   "cell_type": "code",
   "execution_count": 12,
   "metadata": {
    "execution": {
     "iopub.execute_input": "2022-03-27T18:10:30.843883Z",
     "iopub.status.busy": "2022-03-27T18:10:30.843249Z",
     "iopub.status.idle": "2022-03-27T18:11:52.151009Z",
     "shell.execute_reply": "2022-03-27T18:11:52.150115Z",
     "shell.execute_reply.started": "2022-03-27T18:10:30.843809Z"
    }
   },
   "outputs": [
    {
     "name": "stdout",
     "output_type": "stream",
     "text": [
      "Decision Tree r-squared is: 0.8459\n",
      "AUC for decision tree is:  0.9338\n"
     ]
    }
   ],
   "source": [
    "from sklearn.tree import DecisionTreeRegressor\n",
    "\n",
    "#FIND best_tree_size LEAF NODES:\n",
    "def get_mae(max_leaf_nodes, train_X, val_X, train_y, val_y):\n",
    "    model = DecisionTreeRegressor(max_leaf_nodes=max_leaf_nodes, random_state=42)\n",
    "    model.fit(train_X, train_y)\n",
    "    preds_val = model.predict(val_X)\n",
    "    mae = mean_absolute_error(val_y, preds_val)\n",
    "    return(mae)\n",
    "\n",
    "candidate_max_leaf_nodes = [5, 25, 50, 100, 250, 500]\n",
    "maeDic={} #dictionary  key=leaf  mae=value\n",
    "for leaf in candidate_max_leaf_nodes:\n",
    "    mae=get_mae(leaf, X_train, X_test, y_train, y_test)\n",
    "    maeDic[leaf]=mae\n",
    "\n",
    "best_tree_size = sorted(maeDic, key=lambda x : maeDic[x])[0]\n",
    "\n",
    "#MAKE PREDICTION:\n",
    "tree = DecisionTreeRegressor(max_leaf_nodes=best_tree_size, random_state=42)\n",
    "tree.fit(X, y)\n",
    "y_pred = tree.predict(X_test)\n",
    "\n",
    "#AUC and r2 metric\n",
    "tree_r2 = r2_score(y_test, y_pred).round(4)\n",
    "print(\"Decision Tree r-squared is:\", tree_r2)\n",
    "tree_auc = round( metrics.roc_auc_score(y_test, y_pred), 4 ) \n",
    "print(\"AUC for decision tree is: \", tree_auc)\n",
    "\n",
    "def printReports(y_test, y_pred):\n",
    "    print(classification_report(y_test, y_pred))\n",
    "    print(confusion_matrix(y_test, y_pred))"
   ]
  },
  {
   "cell_type": "markdown",
   "metadata": {},
   "source": [
    "## K-Nearest Neigbors (KNN)\n",
    "KNN model AUC is:  0.9844.   K equal to 1 seems to be the best fit for n_neighbors when running the function knnError."
   ]
  },
  {
   "cell_type": "code",
   "execution_count": null,
   "metadata": {
    "execution": {
     "iopub.execute_input": "2022-03-27T18:11:52.152677Z",
     "iopub.status.busy": "2022-03-27T18:11:52.152418Z",
     "iopub.status.idle": "2022-03-27T18:11:59.319603Z",
     "shell.execute_reply": "2022-03-27T18:11:59.318590Z",
     "shell.execute_reply.started": "2022-03-27T18:11:52.152645Z"
    }
   },
   "outputs": [],
   "source": [
    "from sklearn.neighbors import KNeighborsClassifier\n",
    "\n",
    "def knnErorr():\n",
    "    print(\"Selecting an optimal K value:\")\n",
    "    error_rates = []\n",
    "    for i in range(1, 6, 2): #Must be an odd number to break a tie\n",
    "        new_model = KNeighborsClassifier(n_neighbors = i)\n",
    "        new_model.fit(X_train, y_train)\n",
    "        new_predictions = new_model.predict(X_test)\n",
    "        error_rates.append(np.mean(new_predictions != y_test))\n",
    "\n",
    "    plt.figure(figsize=(16,12))\n",
    "    plt.plot(error_rates)\n",
    "\n",
    "#Train the model and make predictions:\n",
    "knn = KNeighborsClassifier(n_neighbors =1) \n",
    "knn.fit(X_train, y_train)\n",
    "knnPredict= knn.predict(X_test)\n",
    "\n",
    "#calculate AUC of model\n",
    "auc = round( metrics.roc_auc_score(y_test, knnPredict), 4 ) \n",
    "print(\"KNN model AUC is: \", auc)\n",
    "\n",
    "#Additional Info:\n",
    "def knnReports():\n",
    "    acc = metrics.accuracy_score(y_test, knnPredict)\n",
    "    print(confusion_matrix(y_test, knnPredict))\n",
    "    print(classification_report(y_test, knnPredict))\n",
    "    print(confusion_matrix(y_test, knnPredict))"
   ]
  },
  {
   "cell_type": "markdown",
   "metadata": {},
   "source": [
    "## Random Forest"
   ]
  },
  {
   "cell_type": "code",
   "execution_count": null,
   "metadata": {
    "execution": {
     "iopub.execute_input": "2022-03-27T18:11:59.321283Z",
     "iopub.status.busy": "2022-03-27T18:11:59.321004Z",
     "iopub.status.idle": "2022-03-27T18:13:10.372037Z",
     "shell.execute_reply": "2022-03-27T18:13:10.371072Z",
     "shell.execute_reply.started": "2022-03-27T18:11:59.321240Z"
    }
   },
   "outputs": [],
   "source": [
    "from sklearn.ensemble import RandomForestRegressor\n",
    "\n",
    "#Check for Error and find Best n_estimators:\n",
    "def checkMAE():\n",
    "    print(\"Starting MAE:\")\n",
    "    dMAE={} #dictionary of n_estimators as key and MAE as value:\n",
    "    for n in range(2, 500, 100):\n",
    "        forest = RandomForestRegressor(n_estimators=n, random_state = 0)\n",
    "        forest.fit(X_train, y_train)\n",
    "        y_pred = forest.predict(X_test)\n",
    "        MAE=metrics.mean_absolute_error(y_test, y_pred).round(2)\n",
    "        dMAE[n]=MAE\n",
    "        print(\"n_estimates: \", n,  '  Mean Absolute Error:', MAE)\n",
    "\n",
    "    dMAE=sorted(((v, k) for k, v in dMAE.items()), reverse=False)\n",
    "    print(dMAE)\n",
    "\n",
    "def forest():\n",
    "    num=5\n",
    "    forest = RandomForestRegressor(n_estimators=num, random_state = 0)\n",
    "    forest.fit(X_train, y_train)\n",
    "    y_pred = forest.predict(X_test)\n",
    "\n",
    "    #Print Metrics:\n",
    "    forest_r2 = r2_score(y_test, y_pred).round(4)  \n",
    "    forest_auc = round( metrics.roc_auc_score(y_test, y_pred), 4 ) \n",
    "    print(\"Random forest AUC: \", forest_auc) \n",
    "    print(\"Random forest r2: \", forest_r2)\n",
    "\n",
    "def forestReports():\n",
    "    mae=metrics.mean_absolute_error(y_test, y_pred).round(2)\n",
    "    print(\"Random forest MAE: \", mae)\n",
    "    \n",
    "#checkMAE() \n",
    "forest()"
   ]
  },
  {
   "cell_type": "markdown",
   "metadata": {},
   "source": [
    "## SVM\n",
    "With many samples, SVM is extremely slow and cannot really be used. This is a major disadvantage of SVM and why some do not use it. This seems to be the case this this problem too. Due to SVM being complex, it is often not used as it is not easily explained to others. "
   ]
  },
  {
   "cell_type": "code",
   "execution_count": null,
   "metadata": {
    "execution": {
     "iopub.execute_input": "2022-03-27T18:13:10.373941Z",
     "iopub.status.busy": "2022-03-27T18:13:10.373647Z",
     "iopub.status.idle": "2022-03-27T18:13:24.777431Z",
     "shell.execute_reply": "2022-03-27T18:13:24.776063Z",
     "shell.execute_reply.started": "2022-03-27T18:13:10.373904Z"
    }
   },
   "outputs": [],
   "source": [
    "def trySVM():\n",
    "    from sklearn.svm import SVC\n",
    "    \n",
    "    #Fit and Predict:\n",
    "    svc = SVC()\n",
    "    svc.fit(X_train, y_train)\n",
    "    svc_predit = svc.predict(X_test)\n",
    "\n",
    "    #calculate AUC of model\n",
    "    auc = round( metrics.roc_auc_score(y_test, svc_predit), 4 ) \n",
    "    print(\"SVC AUC is: \", auc)\n",
    "\n",
    "def svmReports():\n",
    "    print(classification_report(y_test, svc_predit))\n",
    "    print(confusion_matrix(y_test, svc_predit))\n",
    "    metrics.mean_absolute_error(y_test, svc_predit)\n",
    "    metrics.mean_squared_error(y_test, svc_predit)\n",
    "    np.sqrt(metrics.mean_squared_error(y_test, svc_predit))\n",
    "trySVM()"
   ]
  },
  {
   "cell_type": "markdown",
   "metadata": {},
   "source": [
    "### Resources\n",
    "1. https://www.kaggle.com/jdelamorena/recall-97-by-using-undersampling-neural-network\n",
    "2. https://www.kaggle.com/gpreda/credit-card-fraud-detection-predictive-models"
   ]
  }
 ],
 "metadata": {
  "kernelspec": {
   "display_name": "Python 3 (ipykernel)",
   "language": "python",
   "name": "python3"
  },
  "language_info": {
   "codemirror_mode": {
    "name": "ipython",
    "version": 3
   },
   "file_extension": ".py",
   "mimetype": "text/x-python",
   "name": "python",
   "nbconvert_exporter": "python",
   "pygments_lexer": "ipython3",
   "version": "3.9.7"
  }
 },
 "nbformat": 4,
 "nbformat_minor": 4
}
