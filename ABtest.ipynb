{
 "cells": [
  {
   "cell_type": "markdown",
   "id": "f1d3012a",
   "metadata": {
    "papermill": {
     "duration": 0.003034,
     "end_time": "2023-07-05T00:35:18.770397",
     "exception": false,
     "start_time": "2023-07-05T00:35:18.767363",
     "status": "completed"
    },
    "tags": []
   },
   "source": [
    "# A/B Test\n",
    "Generally, A/B tests have two variants, in this case a control and treatment group. We will analyze the converted group to see the effectiveess on treatment. Before going further, here is what the data looks like."
   ]
  },
  {
   "cell_type": "code",
   "execution_count": 1,
   "id": "66496aa7",
   "metadata": {
    "execution": {
     "iopub.execute_input": "2023-07-05T00:35:18.777215Z",
     "iopub.status.busy": "2023-07-05T00:35:18.776931Z",
     "iopub.status.idle": "2023-07-05T00:35:19.238492Z",
     "shell.execute_reply": "2023-07-05T00:35:19.237038Z"
    },
    "papermill": {
     "duration": 0.467416,
     "end_time": "2023-07-05T00:35:19.240484",
     "exception": false,
     "start_time": "2023-07-05T00:35:18.773068",
     "status": "completed"
    },
    "tags": []
   },
   "outputs": [
    {
     "data": {
      "text/html": [
       "<div>\n",
       "<style scoped>\n",
       "    .dataframe tbody tr th:only-of-type {\n",
       "        vertical-align: middle;\n",
       "    }\n",
       "\n",
       "    .dataframe tbody tr th {\n",
       "        vertical-align: top;\n",
       "    }\n",
       "\n",
       "    .dataframe thead th {\n",
       "        text-align: right;\n",
       "    }\n",
       "</style>\n",
       "<table border=\"1\" class=\"dataframe\">\n",
       "  <thead>\n",
       "    <tr style=\"text-align: right;\">\n",
       "      <th></th>\n",
       "      <th>user_id</th>\n",
       "      <th>timestamp</th>\n",
       "      <th>group</th>\n",
       "      <th>landing_page</th>\n",
       "      <th>converted</th>\n",
       "    </tr>\n",
       "  </thead>\n",
       "  <tbody>\n",
       "    <tr>\n",
       "      <th>0</th>\n",
       "      <td>851104</td>\n",
       "      <td>2017-01-21 22:11:48.556739</td>\n",
       "      <td>control</td>\n",
       "      <td>old_page</td>\n",
       "      <td>0</td>\n",
       "    </tr>\n",
       "    <tr>\n",
       "      <th>1</th>\n",
       "      <td>804228</td>\n",
       "      <td>2017-01-12 08:01:45.159739</td>\n",
       "      <td>control</td>\n",
       "      <td>old_page</td>\n",
       "      <td>0</td>\n",
       "    </tr>\n",
       "    <tr>\n",
       "      <th>2</th>\n",
       "      <td>661590</td>\n",
       "      <td>2017-01-11 16:55:06.154213</td>\n",
       "      <td>treatment</td>\n",
       "      <td>new_page</td>\n",
       "      <td>0</td>\n",
       "    </tr>\n",
       "    <tr>\n",
       "      <th>3</th>\n",
       "      <td>853541</td>\n",
       "      <td>2017-01-08 18:28:03.143765</td>\n",
       "      <td>treatment</td>\n",
       "      <td>new_page</td>\n",
       "      <td>0</td>\n",
       "    </tr>\n",
       "    <tr>\n",
       "      <th>4</th>\n",
       "      <td>864975</td>\n",
       "      <td>2017-01-21 01:52:26.210827</td>\n",
       "      <td>control</td>\n",
       "      <td>old_page</td>\n",
       "      <td>1</td>\n",
       "    </tr>\n",
       "  </tbody>\n",
       "</table>\n",
       "</div>"
      ],
      "text/plain": [
       "   user_id                   timestamp      group landing_page  converted\n",
       "0   851104  2017-01-21 22:11:48.556739    control     old_page          0\n",
       "1   804228  2017-01-12 08:01:45.159739    control     old_page          0\n",
       "2   661590  2017-01-11 16:55:06.154213  treatment     new_page          0\n",
       "3   853541  2017-01-08 18:28:03.143765  treatment     new_page          0\n",
       "4   864975  2017-01-21 01:52:26.210827    control     old_page          1"
      ]
     },
     "execution_count": 1,
     "metadata": {},
     "output_type": "execute_result"
    }
   ],
   "source": [
    "import pandas as pd\n",
    "import numpy as np\n",
    "file='/kaggle/input/ab-testing/ab_data.csv'\n",
    "df=pd.read_csv(file)\n",
    "df.head()"
   ]
  },
  {
   "cell_type": "markdown",
   "id": "a8690222",
   "metadata": {
    "papermill": {
     "duration": 0.002541,
     "end_time": "2023-07-05T00:35:19.245910",
     "exception": false,
     "start_time": "2023-07-05T00:35:19.243369",
     "status": "completed"
    },
    "tags": []
   },
   "source": [
    "# Brief Analysis\n",
    "There is an efficient amount of data (more than 100) of balanced data between teatment and control."
   ]
  },
  {
   "cell_type": "code",
   "execution_count": 2,
   "id": "1b9a46e2",
   "metadata": {
    "execution": {
     "iopub.execute_input": "2023-07-05T00:35:19.252682Z",
     "iopub.status.busy": "2023-07-05T00:35:19.252334Z",
     "iopub.status.idle": "2023-07-05T00:35:19.277798Z",
     "shell.execute_reply": "2023-07-05T00:35:19.276970Z"
    },
    "papermill": {
     "duration": 0.031379,
     "end_time": "2023-07-05T00:35:19.279946",
     "exception": false,
     "start_time": "2023-07-05T00:35:19.248567",
     "status": "completed"
    },
    "tags": []
   },
   "outputs": [
    {
     "data": {
      "text/plain": [
       "treatment    147276\n",
       "control      147202\n",
       "Name: group, dtype: int64"
      ]
     },
     "execution_count": 2,
     "metadata": {},
     "output_type": "execute_result"
    }
   ],
   "source": [
    "df['group'].value_counts()"
   ]
  },
  {
   "cell_type": "markdown",
   "id": "4f4bb9f8",
   "metadata": {
    "papermill": {
     "duration": 0.002395,
     "end_time": "2023-07-05T00:35:19.285453",
     "exception": false,
     "start_time": "2023-07-05T00:35:19.283058",
     "status": "completed"
    },
    "tags": []
   },
   "source": [
    "# Descriptive Stats"
   ]
  },
  {
   "cell_type": "code",
   "execution_count": 3,
   "id": "2a955e43",
   "metadata": {
    "execution": {
     "iopub.execute_input": "2023-07-05T00:35:19.292631Z",
     "iopub.status.busy": "2023-07-05T00:35:19.291823Z",
     "iopub.status.idle": "2023-07-05T00:35:19.330775Z",
     "shell.execute_reply": "2023-07-05T00:35:19.329422Z"
    },
    "papermill": {
     "duration": 0.045207,
     "end_time": "2023-07-05T00:35:19.333232",
     "exception": false,
     "start_time": "2023-07-05T00:35:19.288025",
     "status": "completed"
    },
    "tags": []
   },
   "outputs": [
    {
     "data": {
      "text/html": [
       "<div>\n",
       "<style scoped>\n",
       "    .dataframe tbody tr th:only-of-type {\n",
       "        vertical-align: middle;\n",
       "    }\n",
       "\n",
       "    .dataframe tbody tr th {\n",
       "        vertical-align: top;\n",
       "    }\n",
       "\n",
       "    .dataframe thead th {\n",
       "        text-align: right;\n",
       "    }\n",
       "</style>\n",
       "<table border=\"1\" class=\"dataframe\">\n",
       "  <thead>\n",
       "    <tr style=\"text-align: right;\">\n",
       "      <th></th>\n",
       "      <th>converted</th>\n",
       "    </tr>\n",
       "  </thead>\n",
       "  <tbody>\n",
       "    <tr>\n",
       "      <th>count</th>\n",
       "      <td>294478.000000</td>\n",
       "    </tr>\n",
       "    <tr>\n",
       "      <th>mean</th>\n",
       "      <td>0.119659</td>\n",
       "    </tr>\n",
       "    <tr>\n",
       "      <th>std</th>\n",
       "      <td>0.324563</td>\n",
       "    </tr>\n",
       "    <tr>\n",
       "      <th>min</th>\n",
       "      <td>0.000000</td>\n",
       "    </tr>\n",
       "    <tr>\n",
       "      <th>25%</th>\n",
       "      <td>0.000000</td>\n",
       "    </tr>\n",
       "    <tr>\n",
       "      <th>50%</th>\n",
       "      <td>0.000000</td>\n",
       "    </tr>\n",
       "    <tr>\n",
       "      <th>75%</th>\n",
       "      <td>0.000000</td>\n",
       "    </tr>\n",
       "    <tr>\n",
       "      <th>max</th>\n",
       "      <td>1.000000</td>\n",
       "    </tr>\n",
       "  </tbody>\n",
       "</table>\n",
       "</div>"
      ],
      "text/plain": [
       "           converted\n",
       "count  294478.000000\n",
       "mean        0.119659\n",
       "std         0.324563\n",
       "min         0.000000\n",
       "25%         0.000000\n",
       "50%         0.000000\n",
       "75%         0.000000\n",
       "max         1.000000"
      ]
     },
     "execution_count": 3,
     "metadata": {},
     "output_type": "execute_result"
    }
   ],
   "source": [
    "df[['group', 'converted']].describe()"
   ]
  },
  {
   "cell_type": "markdown",
   "id": "38cbbf2b",
   "metadata": {
    "papermill": {
     "duration": 0.002623,
     "end_time": "2023-07-05T00:35:19.339054",
     "exception": false,
     "start_time": "2023-07-05T00:35:19.336431",
     "status": "completed"
    },
    "tags": []
   },
   "source": [
    "# Calculate Conversion for Treatment and Control Groups"
   ]
  },
  {
   "cell_type": "code",
   "execution_count": 4,
   "id": "53b3306d",
   "metadata": {
    "execution": {
     "iopub.execute_input": "2023-07-05T00:35:19.346280Z",
     "iopub.status.busy": "2023-07-05T00:35:19.345905Z",
     "iopub.status.idle": "2023-07-05T00:35:19.411110Z",
     "shell.execute_reply": "2023-07-05T00:35:19.410111Z"
    },
    "papermill": {
     "duration": 0.071056,
     "end_time": "2023-07-05T00:35:19.412947",
     "exception": false,
     "start_time": "2023-07-05T00:35:19.341891",
     "status": "completed"
    },
    "tags": []
   },
   "outputs": [
    {
     "name": "stdout",
     "output_type": "stream",
     "text": [
      "control effectiveness as percent 0.1204\n",
      "treatment effectiveness as percent 0.1189\n"
     ]
    }
   ],
   "source": [
    "control = df[df['group'] == 'control']\n",
    "control_perc=control['converted'].mean(numeric_only=True).round(4)\n",
    "print(\"control effectiveness as percent\", control_perc)\n",
    "\n",
    "treatment = df[df['group']=='treatment']\n",
    "treatment_perc = treatment['converted'].mean(numeric_only=True).round(4)\n",
    "print(\"treatment effectiveness as percent\", treatment_perc)"
   ]
  },
  {
   "cell_type": "markdown",
   "id": "e9892a38",
   "metadata": {
    "papermill": {
     "duration": 0.002625,
     "end_time": "2023-07-05T00:35:19.418588",
     "exception": false,
     "start_time": "2023-07-05T00:35:19.415963",
     "status": "completed"
    },
    "tags": []
   },
   "source": [
    "# Statistical Significance "
   ]
  },
  {
   "cell_type": "code",
   "execution_count": 5,
   "id": "588c0579",
   "metadata": {
    "execution": {
     "iopub.execute_input": "2023-07-05T00:35:19.427583Z",
     "iopub.status.busy": "2023-07-05T00:35:19.427239Z",
     "iopub.status.idle": "2023-07-05T00:35:20.627662Z",
     "shell.execute_reply": "2023-07-05T00:35:20.626009Z"
    },
    "papermill": {
     "duration": 1.207175,
     "end_time": "2023-07-05T00:35:20.630067",
     "exception": false,
     "start_time": "2023-07-05T00:35:19.422892",
     "status": "completed"
    },
    "tags": []
   },
   "outputs": [
    {
     "name": "stdout",
     "output_type": "stream",
     "text": [
      "Fail to reject the null hypothesis.\n",
      "There is no significant difference between the control and treatment groups.\n"
     ]
    }
   ],
   "source": [
    "import scipy.stats as stats\n",
    "\n",
    "# Get the control and treatment group converted as a list:\n",
    "control_group=list(control['converted'].reset_index(drop=True))\n",
    "treatment_group=list(control['converted'].reset_index(drop=True))\n",
    "\n",
    "# Set up the hypotheses\n",
    "# Null Hypothesis (H0): There is no significant difference between the means of the control and treatment groups.\n",
    "# Alternative Hypothesis (H1): There is a significant difference between the means of the control and treatment groups.\n",
    "# The test will be a two-tailed test.\n",
    "alpha = 0.05\n",
    "\n",
    "# Perform an independent samples t-test\n",
    "t_statistic, p_value = stats.ttest_ind(control_group, treatment_group)\n",
    "\n",
    "# Determine statistical significance\n",
    "if p_value < alpha:\n",
    "    print(\"Reject the null hypothesis.\")\n",
    "    print(\"There is a significant difference between the control and treatment groups.\")\n",
    "else:\n",
    "    print(\"Fail to reject the null hypothesis.\")\n",
    "    print(\"There is no significant difference between the control and treatment groups.\")"
   ]
  }
 ],
 "metadata": {
  "kernelspec": {
   "display_name": "Python 3",
   "language": "python",
   "name": "python3"
  },
  "language_info": {
   "codemirror_mode": {
    "name": "ipython",
    "version": 3
   },
   "file_extension": ".py",
   "mimetype": "text/x-python",
   "name": "python",
   "nbconvert_exporter": "python",
   "pygments_lexer": "ipython3",
   "version": "3.10.10"
  },
  "papermill": {
   "default_parameters": {},
   "duration": 12.049774,
   "end_time": "2023-07-05T00:35:21.555301",
   "environment_variables": {},
   "exception": null,
   "input_path": "__notebook__.ipynb",
   "output_path": "__notebook__.ipynb",
   "parameters": {},
   "start_time": "2023-07-05T00:35:09.505527",
   "version": "2.4.0"
  }
 },
 "nbformat": 4,
 "nbformat_minor": 5
}
