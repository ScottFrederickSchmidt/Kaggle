{
 "cells": [
  {
   "cell_type": "markdown",
   "id": "d78fa308",
   "metadata": {
    "papermill": {
     "duration": 0.039665,
     "end_time": "2022-05-05T16:54:32.421135",
     "exception": false,
     "start_time": "2022-05-05T16:54:32.381470",
     "status": "completed"
    },
    "tags": []
   },
   "source": [
    "# Machine Learning the Titanic \n",
    "Use machine learning to create a model that predicts which passengers survived the Titanic shipwreck. The gradient classifier and logistic regression are the best two models that provide the highest best score. Interestingly, the gradient classifier does not have a high AUC but the results cross validate into the test dataset without overfitting the data. "
   ]
  },
  {
   "cell_type": "markdown",
   "id": "e5f4a7f1",
   "metadata": {
    "papermill": {
     "duration": 0.029871,
     "end_time": "2022-05-05T16:54:32.481358",
     "exception": false,
     "start_time": "2022-05-05T16:54:32.451487",
     "status": "completed"
    },
    "tags": []
   },
   "source": [
    "# Metrics Summary\n",
    "The AUC regression (reg) results:\n",
    "* Logistic reg    0.8759\n",
    "* Linear reg      0.8765\n",
    "* Graident reg    0.8739\n",
    "* Decision reg    0.8667\n",
    "* Forest reg      0.8503\n",
    "* Knn             0.645\n",
    "\n",
    "The AUC classifier results:\n",
    "* Forest   Classifier     0.8503 || MAE  0.19\n",
    "* Gradient Classifier     0.7609 || MSE 0.2090\n",
    "* Decision Classifier     0.7345 || MSE  0.4771 \n",
    "* KNN      Classifier     0.5975 || MSE  0.5325"
   ]
  },
  {
   "cell_type": "markdown",
   "id": "d02ad880",
   "metadata": {
    "papermill": {
     "duration": 0.030497,
     "end_time": "2022-05-05T16:54:32.544353",
     "exception": false,
     "start_time": "2022-05-05T16:54:32.513856",
     "status": "completed"
    },
    "tags": []
   },
   "source": [
    "# Train Data\n",
    "Train.csv will contain the details of a subset of the passengers on board (891 to be exact) and whether they survive or not. The shape of the train data is (891, 12). "
   ]
  },
  {
   "cell_type": "code",
   "execution_count": 1,
   "id": "c0fac10c",
   "metadata": {
    "execution": {
     "iopub.execute_input": "2022-05-05T16:54:32.607094Z",
     "iopub.status.busy": "2022-05-05T16:54:32.606582Z",
     "iopub.status.idle": "2022-05-05T16:54:34.134600Z",
     "shell.execute_reply": "2022-05-05T16:54:34.133648Z"
    },
    "papermill": {
     "duration": 1.561808,
     "end_time": "2022-05-05T16:54:34.136847",
     "exception": false,
     "start_time": "2022-05-05T16:54:32.575039",
     "status": "completed"
    },
    "tags": []
   },
   "outputs": [
    {
     "name": "stdout",
     "output_type": "stream",
     "text": [
      "(891, 12)\n"
     ]
    },
    {
     "data": {
      "text/html": [
       "<div>\n",
       "<style scoped>\n",
       "    .dataframe tbody tr th:only-of-type {\n",
       "        vertical-align: middle;\n",
       "    }\n",
       "\n",
       "    .dataframe tbody tr th {\n",
       "        vertical-align: top;\n",
       "    }\n",
       "\n",
       "    .dataframe thead th {\n",
       "        text-align: right;\n",
       "    }\n",
       "</style>\n",
       "<table border=\"1\" class=\"dataframe\">\n",
       "  <thead>\n",
       "    <tr style=\"text-align: right;\">\n",
       "      <th></th>\n",
       "      <th>PassengerId</th>\n",
       "      <th>Survived</th>\n",
       "      <th>Pclass</th>\n",
       "      <th>Name</th>\n",
       "      <th>Sex</th>\n",
       "      <th>Age</th>\n",
       "      <th>SibSp</th>\n",
       "      <th>Parch</th>\n",
       "      <th>Ticket</th>\n",
       "      <th>Fare</th>\n",
       "      <th>Cabin</th>\n",
       "      <th>Embarked</th>\n",
       "    </tr>\n",
       "  </thead>\n",
       "  <tbody>\n",
       "    <tr>\n",
       "      <th>0</th>\n",
       "      <td>1</td>\n",
       "      <td>0</td>\n",
       "      <td>3</td>\n",
       "      <td>Braund, Mr. Owen Harris</td>\n",
       "      <td>male</td>\n",
       "      <td>22.0</td>\n",
       "      <td>1</td>\n",
       "      <td>0</td>\n",
       "      <td>A/5 21171</td>\n",
       "      <td>7.2500</td>\n",
       "      <td>NaN</td>\n",
       "      <td>S</td>\n",
       "    </tr>\n",
       "    <tr>\n",
       "      <th>1</th>\n",
       "      <td>2</td>\n",
       "      <td>1</td>\n",
       "      <td>1</td>\n",
       "      <td>Cumings, Mrs. John Bradley (Florence Briggs Th...</td>\n",
       "      <td>female</td>\n",
       "      <td>38.0</td>\n",
       "      <td>1</td>\n",
       "      <td>0</td>\n",
       "      <td>PC 17599</td>\n",
       "      <td>71.2833</td>\n",
       "      <td>C85</td>\n",
       "      <td>C</td>\n",
       "    </tr>\n",
       "    <tr>\n",
       "      <th>2</th>\n",
       "      <td>3</td>\n",
       "      <td>1</td>\n",
       "      <td>3</td>\n",
       "      <td>Heikkinen, Miss. Laina</td>\n",
       "      <td>female</td>\n",
       "      <td>26.0</td>\n",
       "      <td>0</td>\n",
       "      <td>0</td>\n",
       "      <td>STON/O2. 3101282</td>\n",
       "      <td>7.9250</td>\n",
       "      <td>NaN</td>\n",
       "      <td>S</td>\n",
       "    </tr>\n",
       "    <tr>\n",
       "      <th>3</th>\n",
       "      <td>4</td>\n",
       "      <td>1</td>\n",
       "      <td>1</td>\n",
       "      <td>Futrelle, Mrs. Jacques Heath (Lily May Peel)</td>\n",
       "      <td>female</td>\n",
       "      <td>35.0</td>\n",
       "      <td>1</td>\n",
       "      <td>0</td>\n",
       "      <td>113803</td>\n",
       "      <td>53.1000</td>\n",
       "      <td>C123</td>\n",
       "      <td>S</td>\n",
       "    </tr>\n",
       "    <tr>\n",
       "      <th>4</th>\n",
       "      <td>5</td>\n",
       "      <td>0</td>\n",
       "      <td>3</td>\n",
       "      <td>Allen, Mr. William Henry</td>\n",
       "      <td>male</td>\n",
       "      <td>35.0</td>\n",
       "      <td>0</td>\n",
       "      <td>0</td>\n",
       "      <td>373450</td>\n",
       "      <td>8.0500</td>\n",
       "      <td>NaN</td>\n",
       "      <td>S</td>\n",
       "    </tr>\n",
       "  </tbody>\n",
       "</table>\n",
       "</div>"
      ],
      "text/plain": [
       "   PassengerId  Survived  Pclass  \\\n",
       "0            1         0       3   \n",
       "1            2         1       1   \n",
       "2            3         1       3   \n",
       "3            4         1       1   \n",
       "4            5         0       3   \n",
       "\n",
       "                                                Name     Sex   Age  SibSp  \\\n",
       "0                            Braund, Mr. Owen Harris    male  22.0      1   \n",
       "1  Cumings, Mrs. John Bradley (Florence Briggs Th...  female  38.0      1   \n",
       "2                             Heikkinen, Miss. Laina  female  26.0      0   \n",
       "3       Futrelle, Mrs. Jacques Heath (Lily May Peel)  female  35.0      1   \n",
       "4                           Allen, Mr. William Henry    male  35.0      0   \n",
       "\n",
       "   Parch            Ticket     Fare Cabin Embarked  \n",
       "0      0         A/5 21171   7.2500   NaN        S  \n",
       "1      0          PC 17599  71.2833   C85        C  \n",
       "2      0  STON/O2. 3101282   7.9250   NaN        S  \n",
       "3      0            113803  53.1000  C123        S  \n",
       "4      0            373450   8.0500   NaN        S  "
      ]
     },
     "execution_count": 1,
     "metadata": {},
     "output_type": "execute_result"
    }
   ],
   "source": [
    "import numpy as np\n",
    "import pandas as pd\n",
    "import seaborn as sns\n",
    "import matplotlib.pyplot as plt\n",
    "from sklearn.model_selection import train_test_split, cross_validate\n",
    "from statistics import mean\n",
    "from sklearn.metrics import mean_absolute_error, mean_squared_error, r2_score\n",
    "from sklearn.datasets import make_classification\n",
    "from sklearn import ensemble\n",
    "import sklearn.metrics as metrics\n",
    "import time\n",
    "from math import sqrt\n",
    "\n",
    "train=r'/kaggle/input/titanic/train.csv'\n",
    "test=r'/kaggle/input/titanic/test.csv'\n",
    "\n",
    "df=pd.read_csv(train)\n",
    "print(df.shape)\n",
    "df.head()"
   ]
  },
  {
   "cell_type": "code",
   "execution_count": 2,
   "id": "d825bf97",
   "metadata": {
    "execution": {
     "iopub.execute_input": "2022-05-05T16:54:34.201714Z",
     "iopub.status.busy": "2022-05-05T16:54:34.201420Z",
     "iopub.status.idle": "2022-05-05T16:54:34.208744Z",
     "shell.execute_reply": "2022-05-05T16:54:34.207872Z"
    },
    "papermill": {
     "duration": 0.042067,
     "end_time": "2022-05-05T16:54:34.210767",
     "exception": false,
     "start_time": "2022-05-05T16:54:34.168700",
     "status": "completed"
    },
    "tags": []
   },
   "outputs": [
    {
     "data": {
      "text/plain": [
       "PassengerId      int64\n",
       "Survived         int64\n",
       "Pclass           int64\n",
       "Name            object\n",
       "Sex             object\n",
       "Age            float64\n",
       "SibSp            int64\n",
       "Parch            int64\n",
       "Ticket          object\n",
       "Fare           float64\n",
       "Cabin           object\n",
       "Embarked        object\n",
       "dtype: object"
      ]
     },
     "execution_count": 2,
     "metadata": {},
     "output_type": "execute_result"
    }
   ],
   "source": [
    "df.dtypes"
   ]
  },
  {
   "cell_type": "markdown",
   "id": "d5adfaf1",
   "metadata": {
    "papermill": {
     "duration": 0.03126,
     "end_time": "2022-05-05T16:54:34.274040",
     "exception": false,
     "start_time": "2022-05-05T16:54:34.242780",
     "status": "completed"
    },
    "tags": []
   },
   "source": [
    "# Feature Engineer\n",
    "We need to replace male and female into numbers. This is a very important part of the process because gender is one of the highest predictors on if a person survived or not."
   ]
  },
  {
   "cell_type": "code",
   "execution_count": 3,
   "id": "3d69258f",
   "metadata": {
    "execution": {
     "iopub.execute_input": "2022-05-05T16:54:34.340425Z",
     "iopub.status.busy": "2022-05-05T16:54:34.339833Z",
     "iopub.status.idle": "2022-05-05T16:54:34.355308Z",
     "shell.execute_reply": "2022-05-05T16:54:34.353012Z"
    },
    "papermill": {
     "duration": 0.052194,
     "end_time": "2022-05-05T16:54:34.358298",
     "exception": false,
     "start_time": "2022-05-05T16:54:34.306104",
     "status": "completed"
    },
    "tags": []
   },
   "outputs": [],
   "source": [
    "replace_dict= {'female':0,'male':1}\n",
    "df['Sex']=df['Sex'].map(replace_dict)"
   ]
  },
  {
   "cell_type": "markdown",
   "id": "5f9125b7",
   "metadata": {
    "papermill": {
     "duration": 0.039035,
     "end_time": "2022-05-05T16:54:34.441067",
     "exception": false,
     "start_time": "2022-05-05T16:54:34.402032",
     "status": "completed"
    },
    "tags": []
   },
   "source": [
    "Females whose number is 0 had a much higher chance of surving than males. Later on, doing the importance feature analysis we will view that gender is actually one of the highest predictors. "
   ]
  },
  {
   "cell_type": "code",
   "execution_count": 4,
   "id": "ff8c5e9f",
   "metadata": {
    "execution": {
     "iopub.execute_input": "2022-05-05T16:54:34.507605Z",
     "iopub.status.busy": "2022-05-05T16:54:34.507087Z",
     "iopub.status.idle": "2022-05-05T16:54:34.533905Z",
     "shell.execute_reply": "2022-05-05T16:54:34.533330Z"
    },
    "papermill": {
     "duration": 0.06093,
     "end_time": "2022-05-05T16:54:34.535731",
     "exception": false,
     "start_time": "2022-05-05T16:54:34.474801",
     "status": "completed"
    },
    "tags": []
   },
   "outputs": [
    {
     "data": {
      "text/html": [
       "<div>\n",
       "<style scoped>\n",
       "    .dataframe tbody tr th:only-of-type {\n",
       "        vertical-align: middle;\n",
       "    }\n",
       "\n",
       "    .dataframe tbody tr th {\n",
       "        vertical-align: top;\n",
       "    }\n",
       "\n",
       "    .dataframe thead th {\n",
       "        text-align: right;\n",
       "    }\n",
       "</style>\n",
       "<table border=\"1\" class=\"dataframe\">\n",
       "  <thead>\n",
       "    <tr style=\"text-align: right;\">\n",
       "      <th>Sex</th>\n",
       "      <th>0</th>\n",
       "      <th>1</th>\n",
       "    </tr>\n",
       "    <tr>\n",
       "      <th>Survived</th>\n",
       "      <th></th>\n",
       "      <th></th>\n",
       "    </tr>\n",
       "  </thead>\n",
       "  <tbody>\n",
       "    <tr>\n",
       "      <th>0</th>\n",
       "      <td>81</td>\n",
       "      <td>468</td>\n",
       "    </tr>\n",
       "    <tr>\n",
       "      <th>1</th>\n",
       "      <td>233</td>\n",
       "      <td>109</td>\n",
       "    </tr>\n",
       "  </tbody>\n",
       "</table>\n",
       "</div>"
      ],
      "text/plain": [
       "Sex         0    1\n",
       "Survived          \n",
       "0          81  468\n",
       "1         233  109"
      ]
     },
     "execution_count": 4,
     "metadata": {},
     "output_type": "execute_result"
    }
   ],
   "source": [
    "genderTable = pd.crosstab(df['Survived'],df['Sex'])\n",
    "genderTable"
   ]
  },
  {
   "cell_type": "markdown",
   "id": "1672e31c",
   "metadata": {
    "papermill": {
     "duration": 0.031364,
     "end_time": "2022-05-05T16:54:34.599715",
     "exception": false,
     "start_time": "2022-05-05T16:54:34.568351",
     "status": "completed"
    },
    "tags": []
   },
   "source": [
    "# Examine Target Variable\n",
    "Survived is the Y variable we will be analyzing. Since the survival rete is 0.384 the data is not considered unbalanced. "
   ]
  },
  {
   "cell_type": "code",
   "execution_count": 5,
   "id": "33bae0ea",
   "metadata": {
    "execution": {
     "iopub.execute_input": "2022-05-05T16:54:34.664791Z",
     "iopub.status.busy": "2022-05-05T16:54:34.664310Z",
     "iopub.status.idle": "2022-05-05T16:54:34.672241Z",
     "shell.execute_reply": "2022-05-05T16:54:34.670871Z"
    },
    "papermill": {
     "duration": 0.04256,
     "end_time": "2022-05-05T16:54:34.674176",
     "exception": false,
     "start_time": "2022-05-05T16:54:34.631616",
     "status": "completed"
    },
    "tags": []
   },
   "outputs": [
    {
     "name": "stdout",
     "output_type": "stream",
     "text": [
      "0    549\n",
      "1    342\n",
      "Name: Survived, dtype: int64\n",
      "Percent that survived:  0.384\n"
     ]
    }
   ],
   "source": [
    "temp=df['Survived'].value_counts()\n",
    "print(temp)\n",
    "no=temp[0]\n",
    "yes=temp[1]\n",
    "percent=round(yes/(yes+no),3)\n",
    "print(\"Percent that survived: \", percent)"
   ]
  },
  {
   "cell_type": "markdown",
   "id": "4e11d674",
   "metadata": {
    "papermill": {
     "duration": 0.032132,
     "end_time": "2022-05-05T16:54:34.738338",
     "exception": false,
     "start_time": "2022-05-05T16:54:34.706206",
     "status": "completed"
    },
    "tags": []
   },
   "source": [
    "# Numeric DataFrame\n",
    "For now, we will analyze only numeric values. Categorical values will need to be encoded or analyzed individually."
   ]
  },
  {
   "cell_type": "code",
   "execution_count": 6,
   "id": "7a11dd82",
   "metadata": {
    "execution": {
     "iopub.execute_input": "2022-05-05T16:54:34.804652Z",
     "iopub.status.busy": "2022-05-05T16:54:34.804358Z",
     "iopub.status.idle": "2022-05-05T16:54:34.817783Z",
     "shell.execute_reply": "2022-05-05T16:54:34.816982Z"
    },
    "papermill": {
     "duration": 0.048979,
     "end_time": "2022-05-05T16:54:34.819640",
     "exception": false,
     "start_time": "2022-05-05T16:54:34.770661",
     "status": "completed"
    },
    "tags": []
   },
   "outputs": [
    {
     "data": {
      "text/html": [
       "<div>\n",
       "<style scoped>\n",
       "    .dataframe tbody tr th:only-of-type {\n",
       "        vertical-align: middle;\n",
       "    }\n",
       "\n",
       "    .dataframe tbody tr th {\n",
       "        vertical-align: top;\n",
       "    }\n",
       "\n",
       "    .dataframe thead th {\n",
       "        text-align: right;\n",
       "    }\n",
       "</style>\n",
       "<table border=\"1\" class=\"dataframe\">\n",
       "  <thead>\n",
       "    <tr style=\"text-align: right;\">\n",
       "      <th></th>\n",
       "      <th>PassengerId</th>\n",
       "      <th>Survived</th>\n",
       "      <th>Pclass</th>\n",
       "      <th>Sex</th>\n",
       "      <th>Age</th>\n",
       "      <th>SibSp</th>\n",
       "      <th>Parch</th>\n",
       "      <th>Fare</th>\n",
       "    </tr>\n",
       "  </thead>\n",
       "  <tbody>\n",
       "    <tr>\n",
       "      <th>0</th>\n",
       "      <td>1</td>\n",
       "      <td>0</td>\n",
       "      <td>3</td>\n",
       "      <td>1</td>\n",
       "      <td>22.0</td>\n",
       "      <td>1</td>\n",
       "      <td>0</td>\n",
       "      <td>7.2500</td>\n",
       "    </tr>\n",
       "    <tr>\n",
       "      <th>1</th>\n",
       "      <td>2</td>\n",
       "      <td>1</td>\n",
       "      <td>1</td>\n",
       "      <td>0</td>\n",
       "      <td>38.0</td>\n",
       "      <td>1</td>\n",
       "      <td>0</td>\n",
       "      <td>71.2833</td>\n",
       "    </tr>\n",
       "    <tr>\n",
       "      <th>2</th>\n",
       "      <td>3</td>\n",
       "      <td>1</td>\n",
       "      <td>3</td>\n",
       "      <td>0</td>\n",
       "      <td>26.0</td>\n",
       "      <td>0</td>\n",
       "      <td>0</td>\n",
       "      <td>7.9250</td>\n",
       "    </tr>\n",
       "    <tr>\n",
       "      <th>3</th>\n",
       "      <td>4</td>\n",
       "      <td>1</td>\n",
       "      <td>1</td>\n",
       "      <td>0</td>\n",
       "      <td>35.0</td>\n",
       "      <td>1</td>\n",
       "      <td>0</td>\n",
       "      <td>53.1000</td>\n",
       "    </tr>\n",
       "    <tr>\n",
       "      <th>4</th>\n",
       "      <td>5</td>\n",
       "      <td>0</td>\n",
       "      <td>3</td>\n",
       "      <td>1</td>\n",
       "      <td>35.0</td>\n",
       "      <td>0</td>\n",
       "      <td>0</td>\n",
       "      <td>8.0500</td>\n",
       "    </tr>\n",
       "  </tbody>\n",
       "</table>\n",
       "</div>"
      ],
      "text/plain": [
       "   PassengerId  Survived  Pclass  Sex   Age  SibSp  Parch     Fare\n",
       "0            1         0       3    1  22.0      1      0   7.2500\n",
       "1            2         1       1    0  38.0      1      0  71.2833\n",
       "2            3         1       3    0  26.0      0      0   7.9250\n",
       "3            4         1       1    0  35.0      1      0  53.1000\n",
       "4            5         0       3    1  35.0      0      0   8.0500"
      ]
     },
     "execution_count": 6,
     "metadata": {},
     "output_type": "execute_result"
    }
   ],
   "source": [
    "numerics = ['int16', 'int32', 'int64', 'float16', 'float32', 'float64']\n",
    "df = df.select_dtypes(include=numerics)\n",
    "df.head()"
   ]
  },
  {
   "cell_type": "markdown",
   "id": "e890f231",
   "metadata": {
    "papermill": {
     "duration": 0.032944,
     "end_time": "2022-05-05T16:54:34.886066",
     "exception": false,
     "start_time": "2022-05-05T16:54:34.853122",
     "status": "completed"
    },
    "tags": []
   },
   "source": [
    "# Check for missing values\n",
    "Age is missing around 20% of values.Therefore, we can simply fill in the mean for that one column."
   ]
  },
  {
   "cell_type": "code",
   "execution_count": 7,
   "id": "2155f60e",
   "metadata": {
    "execution": {
     "iopub.execute_input": "2022-05-05T16:54:34.953954Z",
     "iopub.status.busy": "2022-05-05T16:54:34.953647Z",
     "iopub.status.idle": "2022-05-05T16:54:34.961349Z",
     "shell.execute_reply": "2022-05-05T16:54:34.960725Z"
    },
    "papermill": {
     "duration": 0.043708,
     "end_time": "2022-05-05T16:54:34.963176",
     "exception": false,
     "start_time": "2022-05-05T16:54:34.919468",
     "status": "completed"
    },
    "tags": []
   },
   "outputs": [
    {
     "name": "stdout",
     "output_type": "stream",
     "text": [
      "Missing data by column as a percent:\n",
      "Age            0.198653\n",
      "PassengerId    0.000000\n",
      "Survived       0.000000\n",
      "Pclass         0.000000\n",
      "Sex            0.000000\n",
      "dtype: float64\n"
     ]
    }
   ],
   "source": [
    "#search for columns with missing values:\n",
    "def findNA():\n",
    "    print(\"Missing data by column as a percent:\")\n",
    "    findNA=df.isnull().sum().sort_values(ascending=False)/len(df)\n",
    "    print(findNA.head())\n",
    "findNA() "
   ]
  },
  {
   "cell_type": "code",
   "execution_count": 8,
   "id": "108a50ce",
   "metadata": {
    "execution": {
     "iopub.execute_input": "2022-05-05T16:54:35.030605Z",
     "iopub.status.busy": "2022-05-05T16:54:35.029737Z",
     "iopub.status.idle": "2022-05-05T16:54:35.036353Z",
     "shell.execute_reply": "2022-05-05T16:54:35.035717Z"
    },
    "papermill": {
     "duration": 0.042458,
     "end_time": "2022-05-05T16:54:35.038260",
     "exception": false,
     "start_time": "2022-05-05T16:54:34.995802",
     "status": "completed"
    },
    "tags": []
   },
   "outputs": [],
   "source": [
    "df= df.fillna(df.mean())"
   ]
  },
  {
   "cell_type": "markdown",
   "id": "b41b73f5",
   "metadata": {
    "papermill": {
     "duration": 0.033711,
     "end_time": "2022-05-05T16:54:35.105597",
     "exception": false,
     "start_time": "2022-05-05T16:54:35.071886",
     "status": "completed"
    },
    "tags": []
   },
   "source": [
    "# Split Data"
   ]
  },
  {
   "cell_type": "code",
   "execution_count": 9,
   "id": "fc604710",
   "metadata": {
    "execution": {
     "iopub.execute_input": "2022-05-05T16:54:35.173527Z",
     "iopub.status.busy": "2022-05-05T16:54:35.173014Z",
     "iopub.status.idle": "2022-05-05T16:54:35.179783Z",
     "shell.execute_reply": "2022-05-05T16:54:35.178930Z"
    },
    "papermill": {
     "duration": 0.043276,
     "end_time": "2022-05-05T16:54:35.181880",
     "exception": false,
     "start_time": "2022-05-05T16:54:35.138604",
     "status": "completed"
    },
    "tags": []
   },
   "outputs": [],
   "source": [
    "X=df.drop('Survived', axis=1)\n",
    "y=df['Survived']\n",
    "\n",
    "X_train, X_test, y_train, y_test = train_test_split(X, y, test_size = 0.30, random_state = 42)"
   ]
  },
  {
   "cell_type": "markdown",
   "id": "00936ba0",
   "metadata": {
    "papermill": {
     "duration": 0.033049,
     "end_time": "2022-05-05T16:54:35.249043",
     "exception": false,
     "start_time": "2022-05-05T16:54:35.215994",
     "status": "completed"
    },
    "tags": []
   },
   "source": [
    "# Highly Correlated Features\n",
    "There are no highly correlated variables above 80%. Therefore, we do not need to be concerned about removing variables that are too highly correlated. "
   ]
  },
  {
   "cell_type": "markdown",
   "id": "f237f123",
   "metadata": {
    "papermill": {
     "duration": 0.032759,
     "end_time": "2022-05-05T16:54:35.314932",
     "exception": false,
     "start_time": "2022-05-05T16:54:35.282173",
     "status": "completed"
    },
    "tags": []
   },
   "source": [
    "# Gradient Boost \n",
    "The four parameters I tunned are max_depth, n_estimators, min_sample_split and learning_rate:\n",
    "* The best max_depth is 2\n",
    "* The best n_estimators is 500\n",
    "* The best min_sample_split with least amount of error was at 7\n",
    "* Having a higher learning rate makes AUC worse so I set it at .01\n",
    "\n",
    "The full parameter reports are below: <br>\n",
    "* 2  max_depth || AUC  0.8739  || MSE 0.1378\n",
    "* 3  max_depth || AUC  0.8689  || MSE 0.1410\n",
    "* 4  max_depth || AUC  0.86  || MSE 0.1407\n",
    "* 5  max_depth || AUC  0.8567  || MSE 0.1485\n",
    "* 100  n_estimators || AUC  0.8632  || MSE 0.1600\n",
    "* 200  n_estimators || AUC  0.8726  || MSE 0.1471\n",
    "* 300  n_estimators || AUC  0.8703  || MSE 0.1414\n",
    "* 400  n_estimators || AUC  0.8732  || MSE 0.1389\n",
    "* 500  n_estimators || AUC  0.874  || MSE 0.1378\n",
    "* 2  min_samples_splits || AUC  0.8739  || MSE 0.1378\n",
    "* 3  min_samples_splits || AUC  0.8738  || MSE 0.1378\n",
    "* 5  min_samples_splits || AUC  0.8739  || MSE 0.1378"
   ]
  },
  {
   "cell_type": "code",
   "execution_count": 10,
   "id": "7fba80f9",
   "metadata": {
    "execution": {
     "iopub.execute_input": "2022-05-05T16:54:35.382107Z",
     "iopub.status.busy": "2022-05-05T16:54:35.381806Z",
     "iopub.status.idle": "2022-05-05T16:54:35.401547Z",
     "shell.execute_reply": "2022-05-05T16:54:35.400962Z"
    },
    "papermill": {
     "duration": 0.05598,
     "end_time": "2022-05-05T16:54:35.403567",
     "exception": false,
     "start_time": "2022-05-05T16:54:35.347587",
     "status": "completed"
    },
    "tags": []
   },
   "outputs": [],
   "source": [
    "from sklearn.inspection import permutation_importance\n",
    "from sklearn.ensemble import GradientBoostingClassifier,GradientBoostingRegressor\n",
    "\n",
    "def gbDepth():\n",
    "    depthList=[2, 3, 4, 5]\n",
    "    \n",
    "    for d in depthList:\n",
    "        params = {\n",
    "         \"n_estimators\": 500, \"max_depth\": d, \"min_samples_split\": 5, \"learning_rate\": 0.01,\n",
    "        }\n",
    "\n",
    "        #Fit and Predict:\n",
    "        reg = ensemble.GradientBoostingRegressor(**params)\n",
    "        reg.fit(X_train, y_train)\n",
    "        y_pred = reg.predict(X_test)\n",
    "        gbr_r2 = r2_score(y_test, y_pred).round(4) \n",
    "        #print(\"Gradient boosting regression r2: \", gbr_r2) \n",
    "\n",
    "        #calculate AUC of model\n",
    "        auc = round( metrics.roc_auc_score(y_test, y_pred), 4 ) \n",
    "        mse = mean_squared_error(y_test, reg.predict(X_test)).round(4)\n",
    "        print(d,\" max_depth || AUC \", auc, \" || MSE {:.4f}\".format(mse))\n",
    "\n",
    "def gbN():\n",
    "    nList=[100, 200, 300, 400, 500]\n",
    "    \n",
    "    for n in nList:\n",
    "        params = {\n",
    "         \"n_estimators\": n, \"max_depth\": 2, \n",
    "            \"min_samples_split\": 5, \"learning_rate\": 0.01,\n",
    "        }\n",
    "\n",
    "        #Fit and Predict:\n",
    "        reg = ensemble.GradientBoostingRegressor(**params)\n",
    "        reg.fit(X_train, y_train)\n",
    "        y_pred = reg.predict(X_test)\n",
    "        gbr_r2 = r2_score(y_test, y_pred).round(4) \n",
    "        #print(\"Gradient boosting regression r2: \", gbr_r2) \n",
    "\n",
    "        #calculate AUC of model\n",
    "        auc = round( metrics.roc_auc_score(y_test, y_pred), 4 ) \n",
    "        mse = mean_squared_error(y_test, reg.predict(X_test)).round(4)\n",
    "        print(n,\" n_estimators || AUC \", auc, \" || MSE {:.4f}\".format(mse))\n",
    "\n",
    "def gbSplit():\n",
    "    sList=[2, 3, 5, 7]\n",
    "    \n",
    "    for s in sList:\n",
    "        params = {\n",
    "         \"n_estimators\": 500, \"max_depth\": 2, \"min_samples_split\": s, \"learning_rate\": 0.01,\n",
    "        }\n",
    "\n",
    "        #Fit and Predict:\n",
    "        reg = ensemble.GradientBoostingRegressor(**params)\n",
    "        reg.fit(X_train, y_train)\n",
    "        y_pred = reg.predict(X_test)\n",
    "        gbr_r2 = r2_score(y_test, y_pred).round(4) \n",
    "        #print(\"Gradient boosting regression r2: \", gbr_r2) \n",
    "\n",
    "        #calculate AUC of model\n",
    "        auc = round( metrics.roc_auc_score(y_test, y_pred), 4 ) \n",
    "        mse = mean_squared_error(y_test, reg.predict(X_test)).round(4)\n",
    "        print(s,\" min_samples_splits || AUC \", auc, \" || MSE {:.4f}\".format(mse))\n",
    "\n",
    "#Turn on or off functions here:\n",
    "#gbDepth()\n",
    "#gbN()\n",
    "#gbSplit()"
   ]
  },
  {
   "cell_type": "markdown",
   "id": "66597a27",
   "metadata": {
    "papermill": {
     "duration": 0.032213,
     "end_time": "2022-05-05T16:54:35.468408",
     "exception": false,
     "start_time": "2022-05-05T16:54:35.436195",
     "status": "completed"
    },
    "tags": []
   },
   "source": [
    "#### Gradient Boost Prediction\n",
    "Use functions above to find the best paramters to input below."
   ]
  },
  {
   "cell_type": "code",
   "execution_count": 11,
   "id": "ec9fa882",
   "metadata": {
    "execution": {
     "iopub.execute_input": "2022-05-05T16:54:35.536697Z",
     "iopub.status.busy": "2022-05-05T16:54:35.535874Z",
     "iopub.status.idle": "2022-05-05T16:54:35.931484Z",
     "shell.execute_reply": "2022-05-05T16:54:35.930456Z"
    },
    "papermill": {
     "duration": 0.432288,
     "end_time": "2022-05-05T16:54:35.933415",
     "exception": false,
     "start_time": "2022-05-05T16:54:35.501127",
     "status": "completed"
    },
    "tags": []
   },
   "outputs": [
    {
     "name": "stdout",
     "output_type": "stream",
     "text": [
      "Gradient boosting regression r2:  0.1388\n",
      "AUC for gradient boost is:  0.7609\n",
      "The mean squared error (MSE) on test set: 0.2090\n"
     ]
    }
   ],
   "source": [
    "params = {\n",
    " \"n_estimators\": 500, \"max_depth\": 2, \n",
    "    \"min_samples_split\": 7, \"learning_rate\": 0.01,\n",
    "}\n",
    "\n",
    "#Fit and Predict:\n",
    "reg = ensemble.GradientBoostingClassifier(**params)\n",
    "reg.fit(X_train, y_train)\n",
    "y_pred = reg.predict(X_test)\n",
    "gbr_r2 = r2_score(y_test, y_pred).round(4) \n",
    "print(\"Gradient boosting regression r2: \", gbr_r2) \n",
    "\n",
    "#AUC of model\n",
    "auc = round( metrics.roc_auc_score(y_test, y_pred), 4 ) \n",
    "print(\"AUC for gradient boost is: \", auc)\n",
    "\n",
    "mse = mean_squared_error(y_test, reg.predict(X_test))\n",
    "print(\"The mean squared error (MSE) on test set: {:.4f}\".format(mse))"
   ]
  },
  {
   "cell_type": "markdown",
   "id": "fdfa1231",
   "metadata": {
    "papermill": {
     "duration": 0.033773,
     "end_time": "2022-05-05T16:54:36.000479",
     "exception": false,
     "start_time": "2022-05-05T16:54:35.966706",
     "status": "completed"
    },
    "tags": []
   },
   "source": [
    "# Feature Importance"
   ]
  },
  {
   "cell_type": "code",
   "execution_count": 12,
   "id": "1a4cb141",
   "metadata": {
    "execution": {
     "iopub.execute_input": "2022-05-05T16:54:36.069625Z",
     "iopub.status.busy": "2022-05-05T16:54:36.069193Z",
     "iopub.status.idle": "2022-05-05T16:54:37.807315Z",
     "shell.execute_reply": "2022-05-05T16:54:37.806428Z"
    },
    "papermill": {
     "duration": 1.774848,
     "end_time": "2022-05-05T16:54:37.809361",
     "exception": false,
     "start_time": "2022-05-05T16:54:36.034513",
     "status": "completed"
    },
    "tags": []
   },
   "outputs": [
    {
     "data": {
      "image/png": "[encoded data removed]",
      "text/plain": [
       "<Figure size 864x432 with 2 Axes>"
      ]
     },
     "metadata": {
      "needs_background": "light"
     },
     "output_type": "display_data"
    }
   ],
   "source": [
    "cols=X.columns\n",
    "feature_importance = reg.feature_importances_\n",
    "sorted_idx = np.argsort(feature_importance)\n",
    "pos = np.arange(sorted_idx.shape[0]) + 0.5\n",
    "fig = plt.figure(figsize=(12, 6))\n",
    "plt.subplot(1, 2, 1)\n",
    "plt.barh(pos, feature_importance[sorted_idx], align=\"center\")\n",
    "plt.yticks(pos, np.array(cols)[sorted_idx])\n",
    "plt.title(\"Feature Importance (MDI)\")\n",
    "\n",
    "result = permutation_importance(\n",
    "    reg, X_test, y_test, n_repeats=10, random_state=42, n_jobs=2\n",
    ")\n",
    "sorted_idx = result.importances_mean.argsort()\n",
    "plt.subplot(1, 2, 2)\n",
    "plt.boxplot(\n",
    "    result.importances[sorted_idx].T,\n",
    "    vert=False,\n",
    "    labels=np.array(cols)[sorted_idx],\n",
    ")\n",
    "plt.title(\"Permutation Importance (test set)\")\n",
    "fig.tight_layout()\n",
    "plt.show()"
   ]
  },
  {
   "cell_type": "markdown",
   "id": "2add487c",
   "metadata": {
    "papermill": {
     "duration": 0.034465,
     "end_time": "2022-05-05T16:54:37.878457",
     "exception": false,
     "start_time": "2022-05-05T16:54:37.843992",
     "status": "completed"
    },
    "tags": []
   },
   "source": [
    "# Logistic Regression\n",
    "AUC for logistic regression is:  0.8779. Tuning the C value did not seem to make much difference in the final AUC prediction. "
   ]
  },
  {
   "cell_type": "markdown",
   "id": "4fd462fb",
   "metadata": {
    "papermill": {
     "duration": 0.034333,
     "end_time": "2022-05-05T16:54:37.947757",
     "exception": false,
     "start_time": "2022-05-05T16:54:37.913424",
     "status": "completed"
    },
    "tags": []
   },
   "source": [
    "#### Parameters Tuning\n",
    "The Parameter C, the Grid Search is a way to tune the data. C parameter at 10 seems to give the highest AUC but it does not make much difference. The C parameter report gives the following:\n",
    "* 0.01  C param || AUC:  0.8603  || MAE 0.2819\n",
    "* 1  C param || AUC:  0.8759  || MAE 0.2819\n",
    "* 2  C param || AUC:  0.8771  || MAE 0.2819\n",
    "* 5  C param || AUC:  0.8778  || MAE 0.2819\n",
    "* 10  C param || AUC:  0.8779  || MAE 0.2819\n"
   ]
  },
  {
   "cell_type": "code",
   "execution_count": 13,
   "id": "d6121e45",
   "metadata": {
    "execution": {
     "iopub.execute_input": "2022-05-05T16:54:38.018552Z",
     "iopub.status.busy": "2022-05-05T16:54:38.018260Z",
     "iopub.status.idle": "2022-05-05T16:54:38.025240Z",
     "shell.execute_reply": "2022-05-05T16:54:38.024697Z"
    },
    "papermill": {
     "duration": 0.044453,
     "end_time": "2022-05-05T16:54:38.026830",
     "exception": false,
     "start_time": "2022-05-05T16:54:37.982377",
     "status": "completed"
    },
    "tags": []
   },
   "outputs": [],
   "source": [
    "from sklearn.linear_model import LogisticRegression\n",
    "#Note: solver param gets rid of encoder error\n",
    "\n",
    "def logC():\n",
    "    cList=[.01, 1, 2, 5, 10]\n",
    "    for n in cList:\n",
    "        logReg = LogisticRegression(solver='liblinear', C=n) \n",
    "\n",
    "        logReg.fit(X_train, y_train)\n",
    "        logPredict = logReg.predict_proba(X_test)[::,1]\n",
    "\n",
    "        auc = round( metrics.roc_auc_score(y_test, logPredict), 4 ) \n",
    "        mae = mean_absolute_error(y_test, y_pred).round(4)\n",
    "        print(n, \" C param || AUC: \", auc, \" || MAE\", mae) \n",
    "#logC()"
   ]
  },
  {
   "cell_type": "markdown",
   "id": "9ed50a66",
   "metadata": {
    "papermill": {
     "duration": 0.033979,
     "end_time": "2022-05-05T16:54:38.096038",
     "exception": false,
     "start_time": "2022-05-05T16:54:38.062059",
     "status": "completed"
    },
    "tags": []
   },
   "source": [
    "#### Make Logistic Regression Prediction\n",
    "Input the variables below from using the test functions above. Using l1 or l2 for penalty does not make a major difference in final AUC."
   ]
  },
  {
   "cell_type": "code",
   "execution_count": 14,
   "id": "fde2b71f",
   "metadata": {
    "execution": {
     "iopub.execute_input": "2022-05-05T16:54:38.167587Z",
     "iopub.status.busy": "2022-05-05T16:54:38.167107Z",
     "iopub.status.idle": "2022-05-05T16:54:38.183098Z",
     "shell.execute_reply": "2022-05-05T16:54:38.182194Z"
    },
    "papermill": {
     "duration": 0.053417,
     "end_time": "2022-05-05T16:54:38.185062",
     "exception": false,
     "start_time": "2022-05-05T16:54:38.131645",
     "status": "completed"
    },
    "tags": []
   },
   "outputs": [
    {
     "name": "stdout",
     "output_type": "stream",
     "text": [
      "AUC for logistic regression is:  0.8779\n"
     ]
    }
   ],
   "source": [
    "num=10\n",
    "logReg = LogisticRegression(solver='liblinear',penalty='l2', C=num) \n",
    "\n",
    "#Train the model and create predictions\n",
    "logReg.fit(X_train, y_train)\n",
    "logPredict = logReg.predict_proba(X_test)[::,1]\n",
    "\n",
    "#calculate AUC of model\n",
    "auc = round( metrics.roc_auc_score(y_test, logPredict), 4 ) \n",
    "print(\"AUC for logistic regression is: \", auc)"
   ]
  },
  {
   "cell_type": "markdown",
   "id": "8ee077ed",
   "metadata": {
    "papermill": {
     "duration": 0.034105,
     "end_time": "2022-05-05T16:54:38.253866",
     "exception": false,
     "start_time": "2022-05-05T16:54:38.219761",
     "status": "completed"
    },
    "tags": []
   },
   "source": [
    "# Linear Regression"
   ]
  },
  {
   "cell_type": "code",
   "execution_count": 15,
   "id": "ff131640",
   "metadata": {
    "execution": {
     "iopub.execute_input": "2022-05-05T16:54:38.324505Z",
     "iopub.status.busy": "2022-05-05T16:54:38.323999Z",
     "iopub.status.idle": "2022-05-05T16:54:38.571637Z",
     "shell.execute_reply": "2022-05-05T16:54:38.570860Z"
    },
    "papermill": {
     "duration": 0.285339,
     "end_time": "2022-05-05T16:54:38.573974",
     "exception": false,
     "start_time": "2022-05-05T16:54:38.288635",
     "status": "completed"
    },
    "tags": []
   },
   "outputs": [
    {
     "name": "stdout",
     "output_type": "stream",
     "text": [
      "AUC for linear regression is:  0.8765\n",
      "Linear regression r2 score:  0.4424\n",
      "Linear Accuracy:  0.4424\n",
      "0.3665  linear regression cross validate mean\n",
      "0.3678  is lr MSE \n"
     ]
    },
    {
     "data": {
      "image/png": "[encoded data removed]",
      "text/plain": [
       "<Figure size 432x288 with 1 Axes>"
      ]
     },
     "metadata": {
      "needs_background": "light"
     },
     "output_type": "display_data"
    }
   ],
   "source": [
    "from sklearn.linear_model import LinearRegression, Ridge, Lasso\n",
    "\n",
    "#Fit and predict:\n",
    "lrModel = LinearRegression()\n",
    "lrModel.fit(X_train, y_train)\n",
    "lrPredict = lrModel.predict(X_test)\n",
    "\n",
    "# plt.scatter(y_test, predictions)\n",
    "plt.hist(y_test - lrPredict)\n",
    "\n",
    "#Linear Metrics:\n",
    "auc = round( metrics.roc_auc_score(y_test, lrPredict), 4 ) \n",
    "r2 = r2_score(y_test, lrPredict).round(4) \n",
    "print(\"AUC for linear regression is: \", auc)\n",
    "print(\"Linear regression r2 score: \", r2)\n",
    "\n",
    "#CROSS VALIDATE TEST RESULTS:\n",
    "lr_score = lrModel.score(X_test, y_test).round(4)  # train test \n",
    "print(\"Linear Accuracy: \", lr_score)\n",
    "lr_cv = cross_validate(lrModel, X, y, cv = 5, scoring= 'r2')\n",
    "lr_cvMean=lr_cv['test_score'].mean().round(4)\n",
    "print(lr_cvMean, \" linear regression cross validate mean\")\n",
    "\n",
    "lrMSE=np.sqrt(metrics.mean_squared_error(y_test, lrPredict))\n",
    "print(round(lrMSE, 4), \" is lr MSE \")\n",
    "\n",
    "def linearReports():\n",
    "    print(model.coef_)    \n",
    "    print(model.intercept_)\n",
    "    print(classification_report(y_test_data, lrPredict))\n",
    "    print(confusion_matrix(y_test_data, lrPredict))\n",
    "    metrics.mean_absolute_error(y_test, lrPredict)\n",
    "   "
   ]
  },
  {
   "cell_type": "markdown",
   "id": "c5d0c11f",
   "metadata": {
    "papermill": {
     "duration": 0.035435,
     "end_time": "2022-05-05T16:54:38.645905",
     "exception": false,
     "start_time": "2022-05-05T16:54:38.610470",
     "status": "completed"
    },
    "tags": []
   },
   "source": [
    "# Decision Tree\n",
    "After running the below functions it was discovered that the best parameters are the following:\n",
    "* max_leaf_nodes=5  \n",
    "* max_depth=5\n",
    "\n",
    "The full parameter reports are below: <br>\n",
    "* 5  max_leaf_nodes || AUC  0.8084  || MAE:  0.2743\n",
    "* 25  max_leaf_nodes || AUC  0.8084  || MAE:  0.2584\n",
    "* 50  max_leaf_nodes || AUC  0.8084  || MAE:  0.2611\n",
    "* 100  max_leaf_nodes || AUC  0.8084  || MAE:  0.2541\n",
    "* 250  max_leaf_nodes || AUC  0.8084  || MAE:  0.25\n",
    "* 500  max_leaf_nodes || AUC  0.8084  || MAE:  0.25\n",
    "* 2  max_depth || AUC  0.8084  || MAE:  0.2854\n",
    "* 3  max_depth || AUC  0.8203  || MAE:  0.2656\n",
    "* 5  max_depth || AUC  0.8432  || MAE:  0.2526\n",
    "* 7  max_depth || AUC  0.7847  || MAE:  0.2573"
   ]
  },
  {
   "cell_type": "code",
   "execution_count": 16,
   "id": "0e0f542e",
   "metadata": {
    "execution": {
     "iopub.execute_input": "2022-05-05T16:54:38.718552Z",
     "iopub.status.busy": "2022-05-05T16:54:38.718284Z",
     "iopub.status.idle": "2022-05-05T16:54:38.732124Z",
     "shell.execute_reply": "2022-05-05T16:54:38.731223Z"
    },
    "papermill": {
     "duration": 0.052613,
     "end_time": "2022-05-05T16:54:38.733822",
     "exception": false,
     "start_time": "2022-05-05T16:54:38.681209",
     "status": "completed"
    },
    "tags": []
   },
   "outputs": [],
   "source": [
    "from sklearn.tree import DecisionTreeRegressor, DecisionTreeClassifier\n",
    "\n",
    "#FIND best_tree_size LEAF NODES:\n",
    "def calcLeaf():\n",
    "    candidate_max_leaf_nodes = [5, 25, 50, 100, 250, 500]\n",
    "    maeDic={} #dictionary  key=leaf  mae=value\n",
    "    for leaf in candidate_max_leaf_nodes:\n",
    "        model = DecisionTreeRegressor(max_leaf_nodes=leaf, random_state=42)\n",
    "        model.fit(X_train, y_train)\n",
    "        y_pred = model.predict(X_test)\n",
    "        mae = mean_absolute_error(y_test, y_pred).round(4)\n",
    "        maeDic[leaf]=mae\n",
    "        print(leaf, \" max_leaf_nodes || AUC \", treeAUC, \" || MAE: \", mae)\n",
    "    maxLeafNodes = sorted(maeDic, key=lambda x : maeDic[x])[0]\n",
    "    \n",
    "def calcDepth():\n",
    "    max_depth_list = [2, 3, 5, 7]\n",
    "    maeDic={} #dictionary  key=depth  mae=value\n",
    "    for d in max_depth_list:\n",
    "        model = DecisionTreeRegressor(max_leaf_nodes=100, max_depth=d, random_state=42)\n",
    "        model.fit(X_train, y_train)\n",
    "        y_pred = model.predict(X_test)\n",
    "        mae = mean_absolute_error(y_test, y_pred).round(4)\n",
    "        maeDic[d]=mae\n",
    "        treeAUC = round( metrics.roc_auc_score(y_test, y_pred), 4 ) \n",
    "        print(d, \" max_depth || AUC \", treeAUC, \" || MAE: \", mae)\n",
    "    best_max_depth = sorted(maeDic, key=lambda x : maeDic[x])[0]\n",
    "    print(best_max_depth, \" best max_depth with least error.\") #10\n",
    "    \n",
    "def automateTree():\n",
    "    print(\"Decision Tree Automating:\")\n",
    "    start=time.time()\n",
    "    candidate_max_leaf_nodes = [5, 25, 50, 100, 200, 500]\n",
    "    max_depth_list = [2, 3, 5, 7, 9]\n",
    "    \n",
    "    #STORE DATA INTO LISTS FOR DATAFRAME LATER:\n",
    "    aucList=[]\n",
    "    maeList=[]\n",
    "    maxDepthList=[]\n",
    "    maxLeafNodesList=[]\n",
    "\n",
    "    for d in max_depth_list:\n",
    "        for leaf in candidate_max_leaf_nodes:\n",
    "            model = DecisionTreeRegressor(max_leaf_nodes=leaf, \n",
    "                                          max_depth=d, random_state=42)\n",
    "            model.fit(X_train, y_train)\n",
    "            y_pred = model.predict(X_test)\n",
    "            mae = mean_absolute_error(y_test, y_pred).round(4)\n",
    "            treeR2 = r2_score(y_test, y_pred).round(4)\n",
    "            \n",
    "            aucList.append(treeR2)\n",
    "            maeList.append(mae)\n",
    "            maxDepthList.append(d)\n",
    "            maxLeafNodesList.append(leaf)\n",
    "           \n",
    "    df = pd.DataFrame(list(zip(aucList, maeList, maxDepthList, maxLeafNodesList)),\n",
    "                          columns=['AUC','MAE', 'MaxDepth', 'MaxLeafNodes'])\n",
    "    \n",
    "    df=df.sort_values(by=['AUC'], ascending=False)\n",
    "    print(\"Done. \", round(time.time()-start,4), \" seconds\")\n",
    "    return df\n",
    "\n",
    "#TURN FUNCTION OFF OR ON BELOW:   \n",
    "#calcLeaf()\n",
    "#calcDepth()\n",
    "#treeDF=automateTree()    \n",
    "#treeDF.head()"
   ]
  },
  {
   "cell_type": "markdown",
   "id": "e26652db",
   "metadata": {
    "papermill": {
     "duration": 0.035402,
     "end_time": "2022-05-05T16:54:38.804743",
     "exception": false,
     "start_time": "2022-05-05T16:54:38.769341",
     "status": "completed"
    },
    "tags": []
   },
   "source": [
    "#### Final Decision Tree Prediction\n",
    "Inputs below such as best_depth by using functions above."
   ]
  },
  {
   "cell_type": "code",
   "execution_count": 17,
   "id": "ead7d368",
   "metadata": {
    "execution": {
     "iopub.execute_input": "2022-05-05T16:54:38.877603Z",
     "iopub.status.busy": "2022-05-05T16:54:38.877296Z",
     "iopub.status.idle": "2022-05-05T16:54:38.891313Z",
     "shell.execute_reply": "2022-05-05T16:54:38.890740Z"
    },
    "papermill": {
     "duration": 0.053599,
     "end_time": "2022-05-05T16:54:38.893951",
     "exception": false,
     "start_time": "2022-05-05T16:54:38.840352",
     "status": "completed"
    },
    "tags": []
   },
   "outputs": [
    {
     "name": "stdout",
     "output_type": "stream",
     "text": [
      "0.0619  R2 Decision Tree\n",
      "AUC for decision tree is:  0.7345\n",
      "0.4771  is tree MSE \n"
     ]
    }
   ],
   "source": [
    "maxLeafNode=5\n",
    "best_depth=5\n",
    "    \n",
    "#MAKE PREDICTION:\n",
    "tree = DecisionTreeClassifier(max_depth=best_depth, \n",
    "                             max_leaf_nodes=maxLeafNode, random_state=42)\n",
    "tree.fit(X, y)\n",
    "y_pred = tree.predict(X_test)\n",
    "\n",
    "#Calculate Metrics:\n",
    "treeR2 = r2_score(y_test, y_pred).round(4)\n",
    "print(treeR2, \" R2 Decision Tree\")\n",
    "treeAUC = round( metrics.roc_auc_score(y_test, y_pred), 4 ) \n",
    "print(\"AUC for decision tree is: \", treeAUC)\n",
    "treeMSE=np.sqrt(metrics.mean_squared_error(y_test, y_pred))\n",
    "print(round(treeMSE, 4), \" is tree MSE \")"
   ]
  },
  {
   "cell_type": "markdown",
   "id": "fd485b00",
   "metadata": {
    "papermill": {
     "duration": 0.036086,
     "end_time": "2022-05-05T16:54:38.967079",
     "exception": false,
     "start_time": "2022-05-05T16:54:38.930993",
     "status": "completed"
    },
    "tags": []
   },
   "source": [
    "# Random Forest\n",
    "Random forest AUC:  0.8503 which provided descent results in comparision to the other models. \n",
    "\n",
    "<b>n_estimates</b> <br>\n",
    "The best n_estimates with high AUC seems to be 400. Error is not impacted by the change of n_estimates. The full report can be seen below: <br>\n",
    "* 2  n_estimates |  0.7962  AUC |  0.24  MAE\n",
    "* 102  n_estimates |  0.843  AUC |  0.25  MAE\n",
    "* 202  n_estimates |  0.8459  AUC |  0.25  MAE\n",
    "* 302  n_estimates |  0.8492  AUC |  0.25  MAE\n",
    "* 402  n_estimates |  0.8505  AUC |  0.25  MAE\n",
    "* 502  n_estimates |  0.8489  AUC |  0.25  MAE"
   ]
  },
  {
   "cell_type": "code",
   "execution_count": 18,
   "id": "7ec599df",
   "metadata": {
    "execution": {
     "iopub.execute_input": "2022-05-05T16:54:39.041469Z",
     "iopub.status.busy": "2022-05-05T16:54:39.041225Z",
     "iopub.status.idle": "2022-05-05T16:54:39.048036Z",
     "shell.execute_reply": "2022-05-05T16:54:39.047070Z"
    },
    "papermill": {
     "duration": 0.046678,
     "end_time": "2022-05-05T16:54:39.050010",
     "exception": false,
     "start_time": "2022-05-05T16:54:39.003332",
     "status": "completed"
    },
    "tags": []
   },
   "outputs": [],
   "source": [
    "from sklearn.ensemble import RandomForestRegressor, RandomForestClassifier\n",
    "\n",
    "#Check for Error and find Best n_estimators:\n",
    "def checkMAE():\n",
    "    dMAE={} #dictionary of n_estimators as key and MAE as value:\n",
    "    for n in range(2, 601, 100):\n",
    "        forest = RandomForestRegressor(n_estimators=n, random_state = 0)\n",
    "        forest.fit(X_train, y_train)\n",
    "        y_pred = forest.predict(X_test)\n",
    "        MAE=metrics.mean_absolute_error(y_test, y_pred).round(2)\n",
    "        forest_auc = round( metrics.roc_auc_score(y_test, y_pred), 4 ) \n",
    "        dMAE[n]=MAE\n",
    "        print(n, \" n_estimates | \", forest_auc, \" AUC | \", MAE, \" MAE\")\n",
    "    dMAE=sorted(((v, k) for k, v in dMAE.items()), reverse=False)\n",
    "    print(dMAE)\n",
    "#checkMAE() #turn function on or off by uncommenting"
   ]
  },
  {
   "cell_type": "markdown",
   "id": "1dfd02bb",
   "metadata": {
    "papermill": {
     "duration": 0.035866,
     "end_time": "2022-05-05T16:54:39.122377",
     "exception": false,
     "start_time": "2022-05-05T16:54:39.086511",
     "status": "completed"
    },
    "tags": []
   },
   "source": [
    "#### Final Random Forest Prediction"
   ]
  },
  {
   "cell_type": "code",
   "execution_count": 19,
   "id": "8ea4ed91",
   "metadata": {
    "execution": {
     "iopub.execute_input": "2022-05-05T16:54:39.196038Z",
     "iopub.status.busy": "2022-05-05T16:54:39.195556Z",
     "iopub.status.idle": "2022-05-05T16:54:39.895522Z",
     "shell.execute_reply": "2022-05-05T16:54:39.894570Z"
    },
    "papermill": {
     "duration": 0.739165,
     "end_time": "2022-05-05T16:54:39.897484",
     "exception": false,
     "start_time": "2022-05-05T16:54:39.158319",
     "status": "completed"
    },
    "tags": []
   },
   "outputs": [
    {
     "name": "stdout",
     "output_type": "stream",
     "text": [
      "Random forest AUC:  0.7901\n",
      "Random forest r2:  0.2157\n",
      "Random forest MAE:  0.19\n"
     ]
    }
   ],
   "source": [
    "forestEst=400\n",
    "forest = RandomForestClassifier(n_estimators=forestEst, random_state = 0)\n",
    "forest.fit(X_train, y_train)\n",
    "y_pred = forest.predict(X_test)\n",
    "\n",
    "#Print Metrics:\n",
    "forest_r2 = r2_score(y_test, y_pred).round(4)  \n",
    "forest_auc = round( metrics.roc_auc_score(y_test, y_pred), 4 ) \n",
    "print(\"Random forest AUC: \", forest_auc) \n",
    "print(\"Random forest r2: \", forest_r2)\n",
    "\n",
    "mae=metrics.mean_absolute_error(y_test, y_pred).round(2)\n",
    "print(\"Random forest MAE: \", mae)"
   ]
  },
  {
   "cell_type": "markdown",
   "id": "43f41633",
   "metadata": {
    "papermill": {
     "duration": 0.036126,
     "end_time": "2022-05-05T16:54:39.971237",
     "exception": false,
     "start_time": "2022-05-05T16:54:39.935111",
     "status": "completed"
    },
    "tags": []
   },
   "source": [
    "# K-Nearest Neighbors (KNN)"
   ]
  },
  {
   "cell_type": "markdown",
   "id": "91d0840c",
   "metadata": {
    "papermill": {
     "duration": 0.036614,
     "end_time": "2022-05-05T16:54:40.045162",
     "exception": false,
     "start_time": "2022-05-05T16:54:40.008548",
     "status": "completed"
    },
    "tags": []
   },
   "source": [
    "#### KNN Parameter Tunning"
   ]
  },
  {
   "cell_type": "code",
   "execution_count": 20,
   "id": "c51adc50",
   "metadata": {
    "execution": {
     "iopub.execute_input": "2022-05-05T16:54:40.127713Z",
     "iopub.status.busy": "2022-05-05T16:54:40.127031Z",
     "iopub.status.idle": "2022-05-05T16:54:40.462584Z",
     "shell.execute_reply": "2022-05-05T16:54:40.461666Z"
    },
    "papermill": {
     "duration": 0.382859,
     "end_time": "2022-05-05T16:54:40.464539",
     "exception": false,
     "start_time": "2022-05-05T16:54:40.081680",
     "status": "completed"
    },
    "tags": []
   },
   "outputs": [
    {
     "name": "stdout",
     "output_type": "stream",
     "text": [
      "Finding best n_neighbors value:\n"
     ]
    },
    {
     "data": {
      "image/png": "[encoded data removed]",
      "text/plain": [
       "<Figure size 1152x864 with 1 Axes>"
      ]
     },
     "metadata": {
      "needs_background": "light"
     },
     "output_type": "display_data"
    }
   ],
   "source": [
    "from sklearn.neighbors import KNeighborsClassifier, KNeighborsRegressor\n",
    "\n",
    "def knnError():\n",
    "    print(\"Finding best n_neighbors value:\")\n",
    "    error_rates = []\n",
    "    for i in range(1, 10, 2): #Must be an odd number to break a tie\n",
    "        new_model = KNeighborsClassifier(n_neighbors = i)\n",
    "        new_model.fit(X_train, y_train)\n",
    "        new_predictions = new_model.predict(X_test)\n",
    "        error_rates.append(np.mean(new_predictions != y_test))\n",
    "    plt.figure(figsize=(16,12))\n",
    "    plt.plot(error_rates)\n",
    "    \n",
    "knnError()"
   ]
  },
  {
   "cell_type": "markdown",
   "id": "c179667e",
   "metadata": {
    "papermill": {
     "duration": 0.044367,
     "end_time": "2022-05-05T16:54:40.556366",
     "exception": false,
     "start_time": "2022-05-05T16:54:40.511999",
     "status": "completed"
    },
    "tags": []
   },
   "source": [
    "#### Final KNN Prediction"
   ]
  },
  {
   "cell_type": "code",
   "execution_count": 21,
   "id": "a926b902",
   "metadata": {
    "execution": {
     "iopub.execute_input": "2022-05-05T16:54:40.635497Z",
     "iopub.status.busy": "2022-05-05T16:54:40.634810Z",
     "iopub.status.idle": "2022-05-05T16:54:40.654046Z",
     "shell.execute_reply": "2022-05-05T16:54:40.652994Z"
    },
    "papermill": {
     "duration": 0.061753,
     "end_time": "2022-05-05T16:54:40.656635",
     "exception": false,
     "start_time": "2022-05-05T16:54:40.594882",
     "status": "completed"
    },
    "tags": []
   },
   "outputs": [
    {
     "name": "stdout",
     "output_type": "stream",
     "text": [
      "Knn AUC:  0.5975\n",
      "MSE  0.5325\n"
     ]
    }
   ],
   "source": [
    "n_num=3 #Input from knnError function\n",
    "\n",
    "#Train the model and make predictions:\n",
    "knn = KNeighborsClassifier(n_neighbors =n_num) \n",
    "knn.fit(X_train, y_train)\n",
    "knnPredict = knn.predict_proba(X_test)[::,1]\n",
    "\n",
    "#calculate AUC of model\n",
    "knn_auc = round( metrics.roc_auc_score(y_test, knnPredict), 4 ) \n",
    "print(\"Knn AUC: \", knn_auc)\n",
    "error = round(sqrt(mean_squared_error(y_test,knnPredict)), 4)\n",
    "print(\"MSE \", error)\n",
    "\n",
    "def knnReports():\n",
    "    acc = metrics.accuracy_score(y_test_data, knnPredict)\n",
    "    print(confusion_matrix(y_test, knnPredict))\n",
    "    print(classification_report(y_test, knnPredict))\n",
    "    print(confusion_matrix(y_test, knnPredict))"
   ]
  },
  {
   "cell_type": "markdown",
   "id": "9752896f",
   "metadata": {
    "papermill": {
     "duration": 0.038049,
     "end_time": "2022-05-05T16:54:40.734567",
     "exception": false,
     "start_time": "2022-05-05T16:54:40.696518",
     "status": "completed"
    },
    "tags": []
   },
   "source": [
    "# Test Data"
   ]
  },
  {
   "cell_type": "code",
   "execution_count": 22,
   "id": "377a8b6e",
   "metadata": {
    "execution": {
     "iopub.execute_input": "2022-05-05T16:54:40.816358Z",
     "iopub.status.busy": "2022-05-05T16:54:40.815553Z",
     "iopub.status.idle": "2022-05-05T16:54:40.842154Z",
     "shell.execute_reply": "2022-05-05T16:54:40.841314Z"
    },
    "papermill": {
     "duration": 0.07034,
     "end_time": "2022-05-05T16:54:40.844180",
     "exception": false,
     "start_time": "2022-05-05T16:54:40.773840",
     "status": "completed"
    },
    "tags": []
   },
   "outputs": [
    {
     "data": {
      "text/html": [
       "<div>\n",
       "<style scoped>\n",
       "    .dataframe tbody tr th:only-of-type {\n",
       "        vertical-align: middle;\n",
       "    }\n",
       "\n",
       "    .dataframe tbody tr th {\n",
       "        vertical-align: top;\n",
       "    }\n",
       "\n",
       "    .dataframe thead th {\n",
       "        text-align: right;\n",
       "    }\n",
       "</style>\n",
       "<table border=\"1\" class=\"dataframe\">\n",
       "  <thead>\n",
       "    <tr style=\"text-align: right;\">\n",
       "      <th></th>\n",
       "      <th>PassengerId</th>\n",
       "      <th>Pclass</th>\n",
       "      <th>Sex</th>\n",
       "      <th>Age</th>\n",
       "      <th>SibSp</th>\n",
       "      <th>Parch</th>\n",
       "      <th>Fare</th>\n",
       "    </tr>\n",
       "  </thead>\n",
       "  <tbody>\n",
       "    <tr>\n",
       "      <th>0</th>\n",
       "      <td>892</td>\n",
       "      <td>3</td>\n",
       "      <td>1</td>\n",
       "      <td>34.5</td>\n",
       "      <td>0</td>\n",
       "      <td>0</td>\n",
       "      <td>7.8292</td>\n",
       "    </tr>\n",
       "    <tr>\n",
       "      <th>1</th>\n",
       "      <td>893</td>\n",
       "      <td>3</td>\n",
       "      <td>0</td>\n",
       "      <td>47.0</td>\n",
       "      <td>1</td>\n",
       "      <td>0</td>\n",
       "      <td>7.0000</td>\n",
       "    </tr>\n",
       "    <tr>\n",
       "      <th>2</th>\n",
       "      <td>894</td>\n",
       "      <td>2</td>\n",
       "      <td>1</td>\n",
       "      <td>62.0</td>\n",
       "      <td>0</td>\n",
       "      <td>0</td>\n",
       "      <td>9.6875</td>\n",
       "    </tr>\n",
       "    <tr>\n",
       "      <th>3</th>\n",
       "      <td>895</td>\n",
       "      <td>3</td>\n",
       "      <td>1</td>\n",
       "      <td>27.0</td>\n",
       "      <td>0</td>\n",
       "      <td>0</td>\n",
       "      <td>8.6625</td>\n",
       "    </tr>\n",
       "    <tr>\n",
       "      <th>4</th>\n",
       "      <td>896</td>\n",
       "      <td>3</td>\n",
       "      <td>0</td>\n",
       "      <td>22.0</td>\n",
       "      <td>1</td>\n",
       "      <td>1</td>\n",
       "      <td>12.2875</td>\n",
       "    </tr>\n",
       "  </tbody>\n",
       "</table>\n",
       "</div>"
      ],
      "text/plain": [
       "   PassengerId  Pclass  Sex   Age  SibSp  Parch     Fare\n",
       "0          892       3    1  34.5      0      0   7.8292\n",
       "1          893       3    0  47.0      1      0   7.0000\n",
       "2          894       2    1  62.0      0      0   9.6875\n",
       "3          895       3    1  27.0      0      0   8.6625\n",
       "4          896       3    0  22.0      1      1  12.2875"
      ]
     },
     "execution_count": 22,
     "metadata": {},
     "output_type": "execute_result"
    }
   ],
   "source": [
    "test=pd.read_csv(test)\n",
    "features=list(X.columns)\n",
    "test=test[features]\n",
    "replace_dict= {'female':0,'male':1}\n",
    "test['Sex']=test['Sex'].map(replace_dict)\n",
    "test=test.fillna(test.mean())\n",
    "test.head()"
   ]
  },
  {
   "cell_type": "markdown",
   "id": "5bac9514",
   "metadata": {
    "papermill": {
     "duration": 0.038431,
     "end_time": "2022-05-05T16:54:40.921477",
     "exception": false,
     "start_time": "2022-05-05T16:54:40.883046",
     "status": "completed"
    },
    "tags": []
   },
   "source": [
    "# Make Final Prediction"
   ]
  },
  {
   "cell_type": "code",
   "execution_count": 23,
   "id": "db55ee37",
   "metadata": {
    "execution": {
     "iopub.execute_input": "2022-05-05T16:54:41.001388Z",
     "iopub.status.busy": "2022-05-05T16:54:41.001140Z",
     "iopub.status.idle": "2022-05-05T16:54:41.014891Z",
     "shell.execute_reply": "2022-05-05T16:54:41.014266Z"
    },
    "papermill": {
     "duration": 0.056915,
     "end_time": "2022-05-05T16:54:41.017090",
     "exception": false,
     "start_time": "2022-05-05T16:54:40.960175",
     "status": "completed"
    },
    "tags": []
   },
   "outputs": [
    {
     "data": {
      "text/html": [
       "<div>\n",
       "<style scoped>\n",
       "    .dataframe tbody tr th:only-of-type {\n",
       "        vertical-align: middle;\n",
       "    }\n",
       "\n",
       "    .dataframe tbody tr th {\n",
       "        vertical-align: top;\n",
       "    }\n",
       "\n",
       "    .dataframe thead th {\n",
       "        text-align: right;\n",
       "    }\n",
       "</style>\n",
       "<table border=\"1\" class=\"dataframe\">\n",
       "  <thead>\n",
       "    <tr style=\"text-align: right;\">\n",
       "      <th></th>\n",
       "      <th>PassengerId</th>\n",
       "      <th>Survived</th>\n",
       "    </tr>\n",
       "  </thead>\n",
       "  <tbody>\n",
       "    <tr>\n",
       "      <th>0</th>\n",
       "      <td>892</td>\n",
       "      <td>0</td>\n",
       "    </tr>\n",
       "    <tr>\n",
       "      <th>1</th>\n",
       "      <td>893</td>\n",
       "      <td>0</td>\n",
       "    </tr>\n",
       "    <tr>\n",
       "      <th>2</th>\n",
       "      <td>894</td>\n",
       "      <td>0</td>\n",
       "    </tr>\n",
       "    <tr>\n",
       "      <th>3</th>\n",
       "      <td>895</td>\n",
       "      <td>0</td>\n",
       "    </tr>\n",
       "    <tr>\n",
       "      <th>4</th>\n",
       "      <td>896</td>\n",
       "      <td>0</td>\n",
       "    </tr>\n",
       "    <tr>\n",
       "      <th>5</th>\n",
       "      <td>897</td>\n",
       "      <td>0</td>\n",
       "    </tr>\n",
       "    <tr>\n",
       "      <th>6</th>\n",
       "      <td>898</td>\n",
       "      <td>1</td>\n",
       "    </tr>\n",
       "  </tbody>\n",
       "</table>\n",
       "</div>"
      ],
      "text/plain": [
       "   PassengerId  Survived\n",
       "0          892         0\n",
       "1          893         0\n",
       "2          894         0\n",
       "3          895         0\n",
       "4          896         0\n",
       "5          897         0\n",
       "6          898         1"
      ]
     },
     "execution_count": 23,
     "metadata": {},
     "output_type": "execute_result"
    }
   ],
   "source": [
    "test_predictions = reg.predict(test)\n",
    "#test_predictions=np.where(test_predictions<.5, 0, test_predictions)\n",
    "#test_predictions=np.where(test_predictions>.5, 1, test_predictions)\n",
    "passID=test['PassengerId']\n",
    "tupleData = list(zip(passID, test_predictions))\n",
    "output = pd.DataFrame(tupleData, columns = ['PassengerId', 'Survived'])\n",
    "output.head(7)"
   ]
  },
  {
   "cell_type": "code",
   "execution_count": 24,
   "id": "ea6909b9",
   "metadata": {
    "execution": {
     "iopub.execute_input": "2022-05-05T16:54:41.101547Z",
     "iopub.status.busy": "2022-05-05T16:54:41.101032Z",
     "iopub.status.idle": "2022-05-05T16:54:41.109825Z",
     "shell.execute_reply": "2022-05-05T16:54:41.109244Z"
    },
    "papermill": {
     "duration": 0.051235,
     "end_time": "2022-05-05T16:54:41.111767",
     "exception": false,
     "start_time": "2022-05-05T16:54:41.060532",
     "status": "completed"
    },
    "tags": []
   },
   "outputs": [],
   "source": [
    "sample=r'/kaggle/input/titanic/gender_submission.csv'\n",
    "sample=pd.read_csv(sample)"
   ]
  },
  {
   "cell_type": "markdown",
   "id": "25d4c7df",
   "metadata": {
    "papermill": {
     "duration": 0.038261,
     "end_time": "2022-05-05T16:54:41.188892",
     "exception": false,
     "start_time": "2022-05-05T16:54:41.150631",
     "status": "completed"
    },
    "tags": []
   },
   "source": [
    "# Submit Predictions"
   ]
  },
  {
   "cell_type": "code",
   "execution_count": 25,
   "id": "4383b321",
   "metadata": {
    "execution": {
     "iopub.execute_input": "2022-05-05T16:54:41.267575Z",
     "iopub.status.busy": "2022-05-05T16:54:41.267110Z",
     "iopub.status.idle": "2022-05-05T16:54:41.274538Z",
     "shell.execute_reply": "2022-05-05T16:54:41.273870Z"
    },
    "papermill": {
     "duration": 0.049202,
     "end_time": "2022-05-05T16:54:41.276546",
     "exception": false,
     "start_time": "2022-05-05T16:54:41.227344",
     "status": "completed"
    },
    "tags": []
   },
   "outputs": [
    {
     "name": "stdout",
     "output_type": "stream",
     "text": [
      "Your submission was successfully saved!\n"
     ]
    }
   ],
   "source": [
    "output.to_csv('submission.csv', index=False)\n",
    "print(\"Your submission was successfully saved!\")"
   ]
  }
 ],
 "metadata": {
  "kernelspec": {
   "display_name": "Python 3",
   "language": "python",
   "name": "python3"
  },
  "language_info": {
   "codemirror_mode": {
    "name": "ipython",
    "version": 3
   },
   "file_extension": ".py",
   "mimetype": "text/x-python",
   "name": "python",
   "nbconvert_exporter": "python",
   "pygments_lexer": "ipython3",
   "version": "3.7.12"
  },
  "papermill": {
   "default_parameters": {},
   "duration": 19.824022,
   "end_time": "2022-05-05T16:54:43.935076",
   "environment_variables": {},
   "exception": null,
   "input_path": "__notebook__.ipynb",
   "output_path": "__notebook__.ipynb",
   "parameters": {},
   "start_time": "2022-05-05T16:54:24.111054",
   "version": "2.3.4"
  }
 },
 "nbformat": 4,
 "nbformat_minor": 5
}
