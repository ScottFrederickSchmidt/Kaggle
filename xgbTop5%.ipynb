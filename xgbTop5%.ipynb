{
 "cells": [
  {
   "cell_type": "markdown",
   "id": "033ca7eb",
   "metadata": {
    "papermill": {
     "duration": 0.03469,
     "end_time": "2022-09-23T16:58:22.009814",
     "exception": false,
     "start_time": "2022-09-23T16:58:21.975124",
     "status": "completed"
    },
    "tags": []
   },
   "source": [
    "# XG Boost GridSearch\n",
    "Use machine learning to create a model that predicts which passengers survived the Titanic shipwreck. My original with all models that also scored top 5%:\n",
    "https://github.com/ScottySchmidt/Kaggle/blob/main/Titanic.ipynb\n",
    "\n",
    "### Special Notes:\n",
    "* Top 5% when tune 7 parameters more extensively \n",
    "* Tunning four paramters with grid search scores top 18%\n",
    "* Regular XB Boost with no tunning scores top 60%"
   ]
  },
  {
   "cell_type": "markdown",
   "id": "3395750f",
   "metadata": {
    "papermill": {
     "duration": 0.034749,
     "end_time": "2022-09-23T16:58:22.077840",
     "exception": false,
     "start_time": "2022-09-23T16:58:22.043091",
     "status": "completed"
    },
    "tags": []
   },
   "source": [
    "# Train Data\n",
    "Train.csv will contain the details of a subset of the passengers on board (891 to be exact) and whether they survive or not. The shape of the train data is (891, 12). "
   ]
  },
  {
   "cell_type": "code",
   "execution_count": 1,
   "id": "11a4f697",
   "metadata": {
    "execution": {
     "iopub.execute_input": "2022-09-23T16:58:22.147205Z",
     "iopub.status.busy": "2022-09-23T16:58:22.146603Z",
     "iopub.status.idle": "2022-09-23T16:58:23.746822Z",
     "shell.execute_reply": "2022-09-23T16:58:23.745516Z"
    },
    "papermill": {
     "duration": 1.638595,
     "end_time": "2022-09-23T16:58:23.749958",
     "exception": false,
     "start_time": "2022-09-23T16:58:22.111363",
     "status": "completed"
    },
    "tags": []
   },
   "outputs": [
    {
     "name": "stdout",
     "output_type": "stream",
     "text": [
      "(891, 12)\n"
     ]
    },
    {
     "data": {
      "text/html": [
       "<div>\n",
       "<style scoped>\n",
       "    .dataframe tbody tr th:only-of-type {\n",
       "        vertical-align: middle;\n",
       "    }\n",
       "\n",
       "    .dataframe tbody tr th {\n",
       "        vertical-align: top;\n",
       "    }\n",
       "\n",
       "    .dataframe thead th {\n",
       "        text-align: right;\n",
       "    }\n",
       "</style>\n",
       "<table border=\"1\" class=\"dataframe\">\n",
       "  <thead>\n",
       "    <tr style=\"text-align: right;\">\n",
       "      <th></th>\n",
       "      <th>PassengerId</th>\n",
       "      <th>Survived</th>\n",
       "      <th>Pclass</th>\n",
       "      <th>Name</th>\n",
       "      <th>Sex</th>\n",
       "      <th>Age</th>\n",
       "      <th>SibSp</th>\n",
       "      <th>Parch</th>\n",
       "      <th>Ticket</th>\n",
       "      <th>Fare</th>\n",
       "      <th>Cabin</th>\n",
       "      <th>Embarked</th>\n",
       "    </tr>\n",
       "  </thead>\n",
       "  <tbody>\n",
       "    <tr>\n",
       "      <th>0</th>\n",
       "      <td>1</td>\n",
       "      <td>0</td>\n",
       "      <td>3</td>\n",
       "      <td>Braund, Mr. Owen Harris</td>\n",
       "      <td>male</td>\n",
       "      <td>22.0</td>\n",
       "      <td>1</td>\n",
       "      <td>0</td>\n",
       "      <td>A/5 21171</td>\n",
       "      <td>7.2500</td>\n",
       "      <td>NaN</td>\n",
       "      <td>S</td>\n",
       "    </tr>\n",
       "    <tr>\n",
       "      <th>1</th>\n",
       "      <td>2</td>\n",
       "      <td>1</td>\n",
       "      <td>1</td>\n",
       "      <td>Cumings, Mrs. John Bradley (Florence Briggs Th...</td>\n",
       "      <td>female</td>\n",
       "      <td>38.0</td>\n",
       "      <td>1</td>\n",
       "      <td>0</td>\n",
       "      <td>PC 17599</td>\n",
       "      <td>71.2833</td>\n",
       "      <td>C85</td>\n",
       "      <td>C</td>\n",
       "    </tr>\n",
       "    <tr>\n",
       "      <th>2</th>\n",
       "      <td>3</td>\n",
       "      <td>1</td>\n",
       "      <td>3</td>\n",
       "      <td>Heikkinen, Miss. Laina</td>\n",
       "      <td>female</td>\n",
       "      <td>26.0</td>\n",
       "      <td>0</td>\n",
       "      <td>0</td>\n",
       "      <td>STON/O2. 3101282</td>\n",
       "      <td>7.9250</td>\n",
       "      <td>NaN</td>\n",
       "      <td>S</td>\n",
       "    </tr>\n",
       "    <tr>\n",
       "      <th>3</th>\n",
       "      <td>4</td>\n",
       "      <td>1</td>\n",
       "      <td>1</td>\n",
       "      <td>Futrelle, Mrs. Jacques Heath (Lily May Peel)</td>\n",
       "      <td>female</td>\n",
       "      <td>35.0</td>\n",
       "      <td>1</td>\n",
       "      <td>0</td>\n",
       "      <td>113803</td>\n",
       "      <td>53.1000</td>\n",
       "      <td>C123</td>\n",
       "      <td>S</td>\n",
       "    </tr>\n",
       "    <tr>\n",
       "      <th>4</th>\n",
       "      <td>5</td>\n",
       "      <td>0</td>\n",
       "      <td>3</td>\n",
       "      <td>Allen, Mr. William Henry</td>\n",
       "      <td>male</td>\n",
       "      <td>35.0</td>\n",
       "      <td>0</td>\n",
       "      <td>0</td>\n",
       "      <td>373450</td>\n",
       "      <td>8.0500</td>\n",
       "      <td>NaN</td>\n",
       "      <td>S</td>\n",
       "    </tr>\n",
       "  </tbody>\n",
       "</table>\n",
       "</div>"
      ],
      "text/plain": [
       "   PassengerId  Survived  Pclass  \\\n",
       "0            1         0       3   \n",
       "1            2         1       1   \n",
       "2            3         1       3   \n",
       "3            4         1       1   \n",
       "4            5         0       3   \n",
       "\n",
       "                                                Name     Sex   Age  SibSp  \\\n",
       "0                            Braund, Mr. Owen Harris    male  22.0      1   \n",
       "1  Cumings, Mrs. John Bradley (Florence Briggs Th...  female  38.0      1   \n",
       "2                             Heikkinen, Miss. Laina  female  26.0      0   \n",
       "3       Futrelle, Mrs. Jacques Heath (Lily May Peel)  female  35.0      1   \n",
       "4                           Allen, Mr. William Henry    male  35.0      0   \n",
       "\n",
       "   Parch            Ticket     Fare Cabin Embarked  \n",
       "0      0         A/5 21171   7.2500   NaN        S  \n",
       "1      0          PC 17599  71.2833   C85        C  \n",
       "2      0  STON/O2. 3101282   7.9250   NaN        S  \n",
       "3      0            113803  53.1000  C123        S  \n",
       "4      0            373450   8.0500   NaN        S  "
      ]
     },
     "execution_count": 1,
     "metadata": {},
     "output_type": "execute_result"
    }
   ],
   "source": [
    "import numpy as np\n",
    "import pandas as pd\n",
    "import seaborn as sns\n",
    "import matplotlib.pyplot as plt\n",
    "from sklearn.model_selection import train_test_split, cross_validate\n",
    "from statistics import mean\n",
    "from sklearn.metrics import accuracy_score, classification_report, mean_absolute_error, mean_squared_error, r2_score\n",
    "from sklearn.datasets import make_classification\n",
    "from sklearn import ensemble\n",
    "import sklearn.metrics as metrics\n",
    "import time\n",
    "from math import sqrt\n",
    "\n",
    "train=r'/kaggle/input/titanic/train.csv'\n",
    "test=r'/kaggle/input/titanic/test.csv' \n",
    "\n",
    "df=pd.read_csv(train)\n",
    "test=pd.read_csv(test)\n",
    "\n",
    "print(df.shape)\n",
    "df.head()"
   ]
  },
  {
   "cell_type": "code",
   "execution_count": 2,
   "id": "1b988e02",
   "metadata": {
    "execution": {
     "iopub.execute_input": "2022-09-23T16:58:23.821915Z",
     "iopub.status.busy": "2022-09-23T16:58:23.821500Z",
     "iopub.status.idle": "2022-09-23T16:58:23.828014Z",
     "shell.execute_reply": "2022-09-23T16:58:23.827271Z"
    },
    "papermill": {
     "duration": 0.044944,
     "end_time": "2022-09-23T16:58:23.829953",
     "exception": false,
     "start_time": "2022-09-23T16:58:23.785009",
     "status": "completed"
    },
    "tags": []
   },
   "outputs": [
    {
     "data": {
      "text/plain": [
       "PassengerId      int64\n",
       "Survived         int64\n",
       "Pclass           int64\n",
       "Name            object\n",
       "Sex             object\n",
       "Age            float64\n",
       "SibSp            int64\n",
       "Parch            int64\n",
       "Ticket          object\n",
       "Fare           float64\n",
       "Cabin           object\n",
       "Embarked        object\n",
       "dtype: object"
      ]
     },
     "execution_count": 2,
     "metadata": {},
     "output_type": "execute_result"
    }
   ],
   "source": [
    "df.dtypes"
   ]
  },
  {
   "cell_type": "code",
   "execution_count": 3,
   "id": "d7039cbe",
   "metadata": {
    "execution": {
     "iopub.execute_input": "2022-09-23T16:58:23.902412Z",
     "iopub.status.busy": "2022-09-23T16:58:23.902143Z",
     "iopub.status.idle": "2022-09-23T16:58:23.929508Z",
     "shell.execute_reply": "2022-09-23T16:58:23.928417Z"
    },
    "papermill": {
     "duration": 0.065904,
     "end_time": "2022-09-23T16:58:23.931659",
     "exception": false,
     "start_time": "2022-09-23T16:58:23.865755",
     "status": "completed"
    },
    "tags": []
   },
   "outputs": [
    {
     "name": "stdout",
     "output_type": "stream",
     "text": [
      "Total no of duplicate values in Training Dataset = 0\n"
     ]
    },
    {
     "data": {
      "text/html": [
       "<div>\n",
       "<style scoped>\n",
       "    .dataframe tbody tr th:only-of-type {\n",
       "        vertical-align: middle;\n",
       "    }\n",
       "\n",
       "    .dataframe tbody tr th {\n",
       "        vertical-align: top;\n",
       "    }\n",
       "\n",
       "    .dataframe thead th {\n",
       "        text-align: right;\n",
       "    }\n",
       "</style>\n",
       "<table border=\"1\" class=\"dataframe\">\n",
       "  <thead>\n",
       "    <tr style=\"text-align: right;\">\n",
       "      <th></th>\n",
       "      <th>PassengerId</th>\n",
       "      <th>Survived</th>\n",
       "      <th>Pclass</th>\n",
       "      <th>Name</th>\n",
       "      <th>Sex</th>\n",
       "      <th>Age</th>\n",
       "      <th>SibSp</th>\n",
       "      <th>Parch</th>\n",
       "      <th>Ticket</th>\n",
       "      <th>Fare</th>\n",
       "      <th>Cabin</th>\n",
       "      <th>Embarked</th>\n",
       "    </tr>\n",
       "  </thead>\n",
       "  <tbody>\n",
       "  </tbody>\n",
       "</table>\n",
       "</div>"
      ],
      "text/plain": [
       "Empty DataFrame\n",
       "Columns: [PassengerId, Survived, Pclass, Name, Sex, Age, SibSp, Parch, Ticket, Fare, Cabin, Embarked]\n",
       "Index: []"
      ]
     },
     "execution_count": 3,
     "metadata": {},
     "output_type": "execute_result"
    }
   ],
   "source": [
    "#Check Duplicates:\n",
    "dupstr = df.duplicated()\n",
    "print('Total no of duplicate values in Training Dataset = %d' % (dupstr.sum()))\n",
    "df[dupstr]"
   ]
  },
  {
   "cell_type": "code",
   "execution_count": 4,
   "id": "08e8369b",
   "metadata": {
    "execution": {
     "iopub.execute_input": "2022-09-23T16:58:24.004807Z",
     "iopub.status.busy": "2022-09-23T16:58:24.004543Z",
     "iopub.status.idle": "2022-09-23T16:58:24.014751Z",
     "shell.execute_reply": "2022-09-23T16:58:24.013774Z"
    },
    "papermill": {
     "duration": 0.050151,
     "end_time": "2022-09-23T16:58:24.017410",
     "exception": false,
     "start_time": "2022-09-23T16:58:23.967259",
     "status": "completed"
    },
    "tags": []
   },
   "outputs": [
    {
     "name": "stdout",
     "output_type": "stream",
     "text": [
      "Missing data by column as a percent:\n",
      "Cabin          0.771044\n",
      "Age            0.198653\n",
      "Embarked       0.002245\n",
      "PassengerId    0.000000\n",
      "Survived       0.000000\n",
      "dtype: float64\n"
     ]
    }
   ],
   "source": [
    "#search for columns with missing values:\n",
    "def findNA():\n",
    "    print(\"Missing data by column as a percent:\")\n",
    "    findNA=df.isnull().sum().sort_values(ascending=False)/len(df)\n",
    "    print(findNA.head())\n",
    "findNA() "
   ]
  },
  {
   "cell_type": "markdown",
   "id": "74a38f42",
   "metadata": {
    "papermill": {
     "duration": 0.036339,
     "end_time": "2022-09-23T16:58:24.089559",
     "exception": false,
     "start_time": "2022-09-23T16:58:24.053220",
     "status": "completed"
    },
    "tags": []
   },
   "source": [
    "# Feature Engineer\n",
    "We need to replace male and female into numbers. This is a very important part of the process because gender is one of the highest predictors on if a person survived or not."
   ]
  },
  {
   "cell_type": "code",
   "execution_count": 5,
   "id": "94abc0d7",
   "metadata": {
    "execution": {
     "iopub.execute_input": "2022-09-23T16:58:24.162944Z",
     "iopub.status.busy": "2022-09-23T16:58:24.162662Z",
     "iopub.status.idle": "2022-09-23T16:58:24.168380Z",
     "shell.execute_reply": "2022-09-23T16:58:24.167490Z"
    },
    "papermill": {
     "duration": 0.044962,
     "end_time": "2022-09-23T16:58:24.170381",
     "exception": false,
     "start_time": "2022-09-23T16:58:24.125419",
     "status": "completed"
    },
    "tags": []
   },
   "outputs": [],
   "source": [
    "#GENDER\n",
    "df['Sex']=df['Sex'].map({'female':0,'male':1})"
   ]
  },
  {
   "cell_type": "markdown",
   "id": "29b410e9",
   "metadata": {
    "papermill": {
     "duration": 0.035357,
     "end_time": "2022-09-23T16:58:24.240949",
     "exception": false,
     "start_time": "2022-09-23T16:58:24.205592",
     "status": "completed"
    },
    "tags": []
   },
   "source": [
    "Females whose number is 0 had a much higher chance of surving than males. Later on, doing the importance feature analysis we will view that gender is actually one of the highest predictors. "
   ]
  },
  {
   "cell_type": "code",
   "execution_count": 6,
   "id": "86d3211f",
   "metadata": {
    "execution": {
     "iopub.execute_input": "2022-09-23T16:58:24.313694Z",
     "iopub.status.busy": "2022-09-23T16:58:24.313381Z",
     "iopub.status.idle": "2022-09-23T16:58:24.346636Z",
     "shell.execute_reply": "2022-09-23T16:58:24.345736Z"
    },
    "papermill": {
     "duration": 0.072177,
     "end_time": "2022-09-23T16:58:24.348997",
     "exception": false,
     "start_time": "2022-09-23T16:58:24.276820",
     "status": "completed"
    },
    "tags": []
   },
   "outputs": [
    {
     "data": {
      "text/html": [
       "<div>\n",
       "<style scoped>\n",
       "    .dataframe tbody tr th:only-of-type {\n",
       "        vertical-align: middle;\n",
       "    }\n",
       "\n",
       "    .dataframe tbody tr th {\n",
       "        vertical-align: top;\n",
       "    }\n",
       "\n",
       "    .dataframe thead th {\n",
       "        text-align: right;\n",
       "    }\n",
       "</style>\n",
       "<table border=\"1\" class=\"dataframe\">\n",
       "  <thead>\n",
       "    <tr style=\"text-align: right;\">\n",
       "      <th>Sex</th>\n",
       "      <th>0</th>\n",
       "      <th>1</th>\n",
       "    </tr>\n",
       "    <tr>\n",
       "      <th>Survived</th>\n",
       "      <th></th>\n",
       "      <th></th>\n",
       "    </tr>\n",
       "  </thead>\n",
       "  <tbody>\n",
       "    <tr>\n",
       "      <th>0</th>\n",
       "      <td>81</td>\n",
       "      <td>468</td>\n",
       "    </tr>\n",
       "    <tr>\n",
       "      <th>1</th>\n",
       "      <td>233</td>\n",
       "      <td>109</td>\n",
       "    </tr>\n",
       "  </tbody>\n",
       "</table>\n",
       "</div>"
      ],
      "text/plain": [
       "Sex         0    1\n",
       "Survived          \n",
       "0          81  468\n",
       "1         233  109"
      ]
     },
     "execution_count": 6,
     "metadata": {},
     "output_type": "execute_result"
    }
   ],
   "source": [
    "genderTable = pd.crosstab(df['Survived'],df['Sex'])\n",
    "genderTable"
   ]
  },
  {
   "cell_type": "markdown",
   "id": "93424c41",
   "metadata": {
    "papermill": {
     "duration": 0.035786,
     "end_time": "2022-09-23T16:58:24.420981",
     "exception": false,
     "start_time": "2022-09-23T16:58:24.385195",
     "status": "completed"
    },
    "tags": []
   },
   "source": [
    "# Encode Categorical Variables\n",
    "Encode Categorical Variables is needed for this dataset since there are many important variables that are not numeric yet. \n",
    "\n",
    "There are three classes C, Q, and S. Class C seems to have the highest chance of survival. Class S has the lowest chance of survival. Unfornately this would tend to show that economic status seems to played a part in the decision if someone survived or not. Embarked does not play role major role in feature importance. "
   ]
  },
  {
   "cell_type": "code",
   "execution_count": 7,
   "id": "6da49457",
   "metadata": {
    "execution": {
     "iopub.execute_input": "2022-09-23T16:58:24.495895Z",
     "iopub.status.busy": "2022-09-23T16:58:24.495572Z",
     "iopub.status.idle": "2022-09-23T16:58:24.723367Z",
     "shell.execute_reply": "2022-09-23T16:58:24.722415Z"
    },
    "papermill": {
     "duration": 0.268532,
     "end_time": "2022-09-23T16:58:24.725631",
     "exception": false,
     "start_time": "2022-09-23T16:58:24.457099",
     "status": "completed"
    },
    "tags": []
   },
   "outputs": [
    {
     "data": {
      "text/html": [
       "<div>\n",
       "<style scoped>\n",
       "    .dataframe tbody tr th:only-of-type {\n",
       "        vertical-align: middle;\n",
       "    }\n",
       "\n",
       "    .dataframe tbody tr th {\n",
       "        vertical-align: top;\n",
       "    }\n",
       "\n",
       "    .dataframe thead th {\n",
       "        text-align: right;\n",
       "    }\n",
       "</style>\n",
       "<table border=\"1\" class=\"dataframe\">\n",
       "  <thead>\n",
       "    <tr style=\"text-align: right;\">\n",
       "      <th></th>\n",
       "      <th>PassengerId</th>\n",
       "      <th>Pclass</th>\n",
       "      <th>Name</th>\n",
       "      <th>Sex</th>\n",
       "      <th>Age</th>\n",
       "      <th>SibSp</th>\n",
       "      <th>Parch</th>\n",
       "      <th>Ticket</th>\n",
       "      <th>Fare</th>\n",
       "      <th>Cabin</th>\n",
       "      <th>Embarked</th>\n",
       "    </tr>\n",
       "  </thead>\n",
       "  <tbody>\n",
       "    <tr>\n",
       "      <th>0</th>\n",
       "      <td>892</td>\n",
       "      <td>3</td>\n",
       "      <td>Kelly, Mr. James</td>\n",
       "      <td>male</td>\n",
       "      <td>34.5</td>\n",
       "      <td>0</td>\n",
       "      <td>0</td>\n",
       "      <td>330911</td>\n",
       "      <td>7.8292</td>\n",
       "      <td>NaN</td>\n",
       "      <td>3</td>\n",
       "    </tr>\n",
       "    <tr>\n",
       "      <th>1</th>\n",
       "      <td>893</td>\n",
       "      <td>3</td>\n",
       "      <td>Wilkes, Mrs. James (Ellen Needs)</td>\n",
       "      <td>female</td>\n",
       "      <td>47.0</td>\n",
       "      <td>1</td>\n",
       "      <td>0</td>\n",
       "      <td>363272</td>\n",
       "      <td>7.0000</td>\n",
       "      <td>NaN</td>\n",
       "      <td>1</td>\n",
       "    </tr>\n",
       "    <tr>\n",
       "      <th>2</th>\n",
       "      <td>894</td>\n",
       "      <td>2</td>\n",
       "      <td>Myles, Mr. Thomas Francis</td>\n",
       "      <td>male</td>\n",
       "      <td>62.0</td>\n",
       "      <td>0</td>\n",
       "      <td>0</td>\n",
       "      <td>240276</td>\n",
       "      <td>9.6875</td>\n",
       "      <td>NaN</td>\n",
       "      <td>3</td>\n",
       "    </tr>\n",
       "    <tr>\n",
       "      <th>3</th>\n",
       "      <td>895</td>\n",
       "      <td>3</td>\n",
       "      <td>Wirz, Mr. Albert</td>\n",
       "      <td>male</td>\n",
       "      <td>27.0</td>\n",
       "      <td>0</td>\n",
       "      <td>0</td>\n",
       "      <td>315154</td>\n",
       "      <td>8.6625</td>\n",
       "      <td>NaN</td>\n",
       "      <td>1</td>\n",
       "    </tr>\n",
       "    <tr>\n",
       "      <th>4</th>\n",
       "      <td>896</td>\n",
       "      <td>3</td>\n",
       "      <td>Hirvonen, Mrs. Alexander (Helga E Lindqvist)</td>\n",
       "      <td>female</td>\n",
       "      <td>22.0</td>\n",
       "      <td>1</td>\n",
       "      <td>1</td>\n",
       "      <td>3101298</td>\n",
       "      <td>12.2875</td>\n",
       "      <td>NaN</td>\n",
       "      <td>1</td>\n",
       "    </tr>\n",
       "  </tbody>\n",
       "</table>\n",
       "</div>"
      ],
      "text/plain": [
       "   PassengerId  Pclass                                          Name     Sex  \\\n",
       "0          892       3                              Kelly, Mr. James    male   \n",
       "1          893       3              Wilkes, Mrs. James (Ellen Needs)  female   \n",
       "2          894       2                     Myles, Mr. Thomas Francis    male   \n",
       "3          895       3                              Wirz, Mr. Albert    male   \n",
       "4          896       3  Hirvonen, Mrs. Alexander (Helga E Lindqvist)  female   \n",
       "\n",
       "    Age  SibSp  Parch   Ticket     Fare Cabin  Embarked  \n",
       "0  34.5      0      0   330911   7.8292   NaN         3  \n",
       "1  47.0      1      0   363272   7.0000   NaN         1  \n",
       "2  62.0      0      0   240276   9.6875   NaN         3  \n",
       "3  27.0      0      0   315154   8.6625   NaN         1  \n",
       "4  22.0      1      1  3101298  12.2875   NaN         1  "
      ]
     },
     "execution_count": 7,
     "metadata": {},
     "output_type": "execute_result"
    }
   ],
   "source": [
    "import category_encoders as ce\n",
    "encoder = ce.OrdinalEncoder(cols=['Embarked'])\n",
    "\n",
    "df = encoder.fit_transform(df)\n",
    "test = encoder.fit_transform(test)\n",
    "test.head()"
   ]
  },
  {
   "cell_type": "markdown",
   "id": "6bc6cef7",
   "metadata": {
    "papermill": {
     "duration": 0.03639,
     "end_time": "2022-09-23T16:58:24.798265",
     "exception": false,
     "start_time": "2022-09-23T16:58:24.761875",
     "status": "completed"
    },
    "tags": []
   },
   "source": [
    "# Examine Target Variable\n",
    "Survived is the Y variable we will be analyzing. Since the survival rete is 0.384 the data is not considered unbalanced. "
   ]
  },
  {
   "cell_type": "code",
   "execution_count": 8,
   "id": "bcada919",
   "metadata": {
    "execution": {
     "iopub.execute_input": "2022-09-23T16:58:24.873619Z",
     "iopub.status.busy": "2022-09-23T16:58:24.873305Z",
     "iopub.status.idle": "2022-09-23T16:58:24.881625Z",
     "shell.execute_reply": "2022-09-23T16:58:24.880468Z"
    },
    "papermill": {
     "duration": 0.048532,
     "end_time": "2022-09-23T16:58:24.884091",
     "exception": false,
     "start_time": "2022-09-23T16:58:24.835559",
     "status": "completed"
    },
    "tags": []
   },
   "outputs": [
    {
     "name": "stdout",
     "output_type": "stream",
     "text": [
      "0    549\n",
      "1    342\n",
      "Name: Survived, dtype: int64\n",
      "Percent that survived:  0.384\n"
     ]
    }
   ],
   "source": [
    "temp=df['Survived'].value_counts()\n",
    "print(temp)\n",
    "no=temp[0]\n",
    "yes=temp[1]\n",
    "percent=round(yes/(yes+no),3)\n",
    "print(\"Percent that survived: \", percent)"
   ]
  },
  {
   "cell_type": "markdown",
   "id": "db0effb6",
   "metadata": {
    "papermill": {
     "duration": 0.036148,
     "end_time": "2022-09-23T16:58:24.957566",
     "exception": false,
     "start_time": "2022-09-23T16:58:24.921418",
     "status": "completed"
    },
    "tags": []
   },
   "source": [
    "# Numeric DataFrame\n",
    "For now, we will analyze only numeric values. Categorical values will need to be encoded or analyzed individually."
   ]
  },
  {
   "cell_type": "code",
   "execution_count": 9,
   "id": "1c9406c1",
   "metadata": {
    "execution": {
     "iopub.execute_input": "2022-09-23T16:58:25.033773Z",
     "iopub.status.busy": "2022-09-23T16:58:25.033506Z",
     "iopub.status.idle": "2022-09-23T16:58:25.048677Z",
     "shell.execute_reply": "2022-09-23T16:58:25.047848Z"
    },
    "papermill": {
     "duration": 0.055786,
     "end_time": "2022-09-23T16:58:25.050700",
     "exception": false,
     "start_time": "2022-09-23T16:58:24.994914",
     "status": "completed"
    },
    "tags": []
   },
   "outputs": [
    {
     "data": {
      "text/html": [
       "<div>\n",
       "<style scoped>\n",
       "    .dataframe tbody tr th:only-of-type {\n",
       "        vertical-align: middle;\n",
       "    }\n",
       "\n",
       "    .dataframe tbody tr th {\n",
       "        vertical-align: top;\n",
       "    }\n",
       "\n",
       "    .dataframe thead th {\n",
       "        text-align: right;\n",
       "    }\n",
       "</style>\n",
       "<table border=\"1\" class=\"dataframe\">\n",
       "  <thead>\n",
       "    <tr style=\"text-align: right;\">\n",
       "      <th></th>\n",
       "      <th>PassengerId</th>\n",
       "      <th>Survived</th>\n",
       "      <th>Pclass</th>\n",
       "      <th>Sex</th>\n",
       "      <th>Age</th>\n",
       "      <th>SibSp</th>\n",
       "      <th>Parch</th>\n",
       "      <th>Fare</th>\n",
       "      <th>Embarked</th>\n",
       "    </tr>\n",
       "  </thead>\n",
       "  <tbody>\n",
       "    <tr>\n",
       "      <th>0</th>\n",
       "      <td>1</td>\n",
       "      <td>0</td>\n",
       "      <td>3</td>\n",
       "      <td>1</td>\n",
       "      <td>22.0</td>\n",
       "      <td>1</td>\n",
       "      <td>0</td>\n",
       "      <td>7.2500</td>\n",
       "      <td>1</td>\n",
       "    </tr>\n",
       "    <tr>\n",
       "      <th>1</th>\n",
       "      <td>2</td>\n",
       "      <td>1</td>\n",
       "      <td>1</td>\n",
       "      <td>0</td>\n",
       "      <td>38.0</td>\n",
       "      <td>1</td>\n",
       "      <td>0</td>\n",
       "      <td>71.2833</td>\n",
       "      <td>2</td>\n",
       "    </tr>\n",
       "    <tr>\n",
       "      <th>2</th>\n",
       "      <td>3</td>\n",
       "      <td>1</td>\n",
       "      <td>3</td>\n",
       "      <td>0</td>\n",
       "      <td>26.0</td>\n",
       "      <td>0</td>\n",
       "      <td>0</td>\n",
       "      <td>7.9250</td>\n",
       "      <td>1</td>\n",
       "    </tr>\n",
       "    <tr>\n",
       "      <th>3</th>\n",
       "      <td>4</td>\n",
       "      <td>1</td>\n",
       "      <td>1</td>\n",
       "      <td>0</td>\n",
       "      <td>35.0</td>\n",
       "      <td>1</td>\n",
       "      <td>0</td>\n",
       "      <td>53.1000</td>\n",
       "      <td>1</td>\n",
       "    </tr>\n",
       "    <tr>\n",
       "      <th>4</th>\n",
       "      <td>5</td>\n",
       "      <td>0</td>\n",
       "      <td>3</td>\n",
       "      <td>1</td>\n",
       "      <td>35.0</td>\n",
       "      <td>0</td>\n",
       "      <td>0</td>\n",
       "      <td>8.0500</td>\n",
       "      <td>1</td>\n",
       "    </tr>\n",
       "  </tbody>\n",
       "</table>\n",
       "</div>"
      ],
      "text/plain": [
       "   PassengerId  Survived  Pclass  Sex   Age  SibSp  Parch     Fare  Embarked\n",
       "0            1         0       3    1  22.0      1      0   7.2500         1\n",
       "1            2         1       1    0  38.0      1      0  71.2833         2\n",
       "2            3         1       3    0  26.0      0      0   7.9250         1\n",
       "3            4         1       1    0  35.0      1      0  53.1000         1\n",
       "4            5         0       3    1  35.0      0      0   8.0500         1"
      ]
     },
     "execution_count": 9,
     "metadata": {},
     "output_type": "execute_result"
    }
   ],
   "source": [
    "numerics = ['int16', 'int32', 'int64', 'float16', 'float32', 'float64']\n",
    "df = df.select_dtypes(include=numerics)\n",
    "df.head()"
   ]
  },
  {
   "cell_type": "markdown",
   "id": "751a79a6",
   "metadata": {
    "papermill": {
     "duration": 0.036871,
     "end_time": "2022-09-23T16:58:25.124966",
     "exception": false,
     "start_time": "2022-09-23T16:58:25.088095",
     "status": "completed"
    },
    "tags": []
   },
   "source": [
    "# Correlations"
   ]
  },
  {
   "cell_type": "code",
   "execution_count": 10,
   "id": "24e06b12",
   "metadata": {
    "execution": {
     "iopub.execute_input": "2022-09-23T16:58:25.201266Z",
     "iopub.status.busy": "2022-09-23T16:58:25.200494Z",
     "iopub.status.idle": "2022-09-23T16:58:25.931145Z",
     "shell.execute_reply": "2022-09-23T16:58:25.930311Z"
    },
    "papermill": {
     "duration": 0.771695,
     "end_time": "2022-09-23T16:58:25.933828",
     "exception": false,
     "start_time": "2022-09-23T16:58:25.162133",
     "status": "completed"
    },
    "tags": []
   },
   "outputs": [
    {
     "data": {
      "text/plain": [
       "<AxesSubplot:>"
      ]
     },
     "execution_count": 10,
     "metadata": {},
     "output_type": "execute_result"
    },
    {
     "data": {
      "image/png": "[encoded data removed]",
      "text/plain": [
       "<Figure size 432x288 with 2 Axes>"
      ]
     },
     "metadata": {
      "needs_background": "light"
     },
     "output_type": "display_data"
    }
   ],
   "source": [
    "import seaborn as sns\n",
    "sns.heatmap(df.corr(),annot=True)"
   ]
  },
  {
   "cell_type": "markdown",
   "id": "c3a20414",
   "metadata": {
    "papermill": {
     "duration": 0.038761,
     "end_time": "2022-09-23T16:58:26.012383",
     "exception": false,
     "start_time": "2022-09-23T16:58:25.973622",
     "status": "completed"
    },
    "tags": []
   },
   "source": [
    "# Check for missing values\n",
    "Age is missing around 20% of values.Therefore, we can simply fill in the mean for that one column."
   ]
  },
  {
   "cell_type": "code",
   "execution_count": 11,
   "id": "4043414b",
   "metadata": {
    "execution": {
     "iopub.execute_input": "2022-09-23T16:58:26.094150Z",
     "iopub.status.busy": "2022-09-23T16:58:26.093711Z",
     "iopub.status.idle": "2022-09-23T16:58:26.102833Z",
     "shell.execute_reply": "2022-09-23T16:58:26.101740Z"
    },
    "papermill": {
     "duration": 0.053683,
     "end_time": "2022-09-23T16:58:26.106410",
     "exception": false,
     "start_time": "2022-09-23T16:58:26.052727",
     "status": "completed"
    },
    "tags": []
   },
   "outputs": [
    {
     "name": "stdout",
     "output_type": "stream",
     "text": [
      "Missing data by column as a percent:\n",
      "Age            0.198653\n",
      "PassengerId    0.000000\n",
      "Survived       0.000000\n",
      "Pclass         0.000000\n",
      "Sex            0.000000\n",
      "dtype: float64\n"
     ]
    }
   ],
   "source": [
    "#search for columns with missing values:\n",
    "def findNA():\n",
    "    print(\"Missing data by column as a percent:\")\n",
    "    findNA=df.isnull().sum().sort_values(ascending=False)/len(df)\n",
    "    print(findNA.head())\n",
    "findNA() "
   ]
  },
  {
   "cell_type": "code",
   "execution_count": 12,
   "id": "990eddbf",
   "metadata": {
    "execution": {
     "iopub.execute_input": "2022-09-23T16:58:26.188557Z",
     "iopub.status.busy": "2022-09-23T16:58:26.188258Z",
     "iopub.status.idle": "2022-09-23T16:58:26.196477Z",
     "shell.execute_reply": "2022-09-23T16:58:26.195586Z"
    },
    "papermill": {
     "duration": 0.051406,
     "end_time": "2022-09-23T16:58:26.198637",
     "exception": false,
     "start_time": "2022-09-23T16:58:26.147231",
     "status": "completed"
    },
    "tags": []
   },
   "outputs": [],
   "source": [
    "df= df.fillna(df.mean())"
   ]
  },
  {
   "cell_type": "markdown",
   "id": "dd637236",
   "metadata": {
    "papermill": {
     "duration": 0.039518,
     "end_time": "2022-09-23T16:58:26.279320",
     "exception": false,
     "start_time": "2022-09-23T16:58:26.239802",
     "status": "completed"
    },
    "tags": []
   },
   "source": [
    "# Split Data"
   ]
  },
  {
   "cell_type": "code",
   "execution_count": 13,
   "id": "addf2964",
   "metadata": {
    "execution": {
     "iopub.execute_input": "2022-09-23T16:58:26.364180Z",
     "iopub.status.busy": "2022-09-23T16:58:26.363904Z",
     "iopub.status.idle": "2022-09-23T16:58:26.371775Z",
     "shell.execute_reply": "2022-09-23T16:58:26.370937Z"
    },
    "papermill": {
     "duration": 0.05194,
     "end_time": "2022-09-23T16:58:26.373655",
     "exception": false,
     "start_time": "2022-09-23T16:58:26.321715",
     "status": "completed"
    },
    "tags": []
   },
   "outputs": [],
   "source": [
    "X=df.drop('Survived', axis=1)\n",
    "y=df['Survived']\n",
    "\n",
    "X_train, X_test, y_train, y_test = train_test_split(\n",
    "    X, y, test_size = 0.30, random_state = 42)"
   ]
  },
  {
   "cell_type": "markdown",
   "id": "97076522",
   "metadata": {
    "papermill": {
     "duration": 0.039999,
     "end_time": "2022-09-23T16:58:26.453275",
     "exception": false,
     "start_time": "2022-09-23T16:58:26.413276",
     "status": "completed"
    },
    "tags": []
   },
   "source": [
    "# Highly Correlated Features\n",
    "There are no highly correlated variables above 80%. Therefore, we do not need to be concerned about removing variables that are too highly correlated. "
   ]
  },
  {
   "cell_type": "markdown",
   "id": "1b9e7d3f",
   "metadata": {
    "papermill": {
     "duration": 0.040177,
     "end_time": "2022-09-23T16:58:26.534785",
     "exception": false,
     "start_time": "2022-09-23T16:58:26.494608",
     "status": "completed"
    },
    "tags": []
   },
   "source": [
    "# XGBOOST"
   ]
  },
  {
   "cell_type": "code",
   "execution_count": 14,
   "id": "76acedd9",
   "metadata": {
    "execution": {
     "iopub.execute_input": "2022-09-23T16:58:26.617099Z",
     "iopub.status.busy": "2022-09-23T16:58:26.616665Z",
     "iopub.status.idle": "2022-09-23T16:58:28.573603Z",
     "shell.execute_reply": "2022-09-23T16:58:28.572889Z"
    },
    "papermill": {
     "duration": 2.001214,
     "end_time": "2022-09-23T16:58:28.575930",
     "exception": false,
     "start_time": "2022-09-23T16:58:26.574716",
     "status": "completed"
    },
    "tags": []
   },
   "outputs": [
    {
     "data": {
      "image/png": "[encoded data removed]",
      "text/plain": [
       "<Figure size 432x288 with 1 Axes>"
      ]
     },
     "metadata": {
      "needs_background": "light"
     },
     "output_type": "display_data"
    },
    {
     "data": {
      "image/png": "[encoded data removed]",
      "text/plain": [
       "<Figure size 432x288 with 1 Axes>"
      ]
     },
     "metadata": {
      "needs_background": "light"
     },
     "output_type": "display_data"
    }
   ],
   "source": [
    "import xgboost as xgb\n",
    "from xgboost import XGBClassifier\n",
    "\n",
    "weight=[1, 3, 5, 7, 9, 11, 13, 15, 17]\n",
    "listMSE=[]\n",
    "listR2=[]\n",
    "\n",
    "for w in weight:\n",
    "    boost_gs = xgb.XGBRegressor(\n",
    "        n_estimators=50,\n",
    "        reg_lambda=1,\n",
    "        gamma=0,\n",
    "        max_depth=4,\n",
    "        eta=.05,\n",
    "        min_child_weight=w\n",
    "    )\n",
    "    boost_gs.fit(X_train, y_train)\n",
    "    y_pred = boost_gs.predict(X_test)\n",
    "\n",
    "    xgMSE=mean_absolute_error(y_test, y_pred)\n",
    "    xgR2 = r2_score(y_test, y_pred).round(4)\n",
    "    listMSE.append(xgMSE)\n",
    "    listR2.append(xgR2)\n",
    "plt.plot(weight, listMSE)\n",
    "plt.title('Child Weight Error')\n",
    "plt.ylabel('Error')\n",
    "plt.xlabel('Weight')\n",
    "plt.legend()\n",
    "plt.show()\n",
    "\n",
    "plt.plot(weight, listR2)\n",
    "plt.title('Weight R2')\n",
    "plt.ylabel('Accurate')\n",
    "plt.xlabel('Weight')\n",
    "plt.legend()\n",
    "plt.show()"
   ]
  },
  {
   "cell_type": "code",
   "execution_count": 15,
   "id": "04947a1a",
   "metadata": {
    "execution": {
     "iopub.execute_input": "2022-09-23T16:58:28.661500Z",
     "iopub.status.busy": "2022-09-23T16:58:28.660977Z",
     "iopub.status.idle": "2022-09-23T16:58:31.191929Z",
     "shell.execute_reply": "2022-09-23T16:58:31.191063Z"
    },
    "papermill": {
     "duration": 2.576506,
     "end_time": "2022-09-23T16:58:31.194202",
     "exception": false,
     "start_time": "2022-09-23T16:58:28.617696",
     "status": "completed"
    },
    "tags": []
   },
   "outputs": [
    {
     "data": {
      "image/png": "[encoded data removed]",
      "text/plain": [
       "<Figure size 432x288 with 1 Axes>"
      ]
     },
     "metadata": {
      "needs_background": "light"
     },
     "output_type": "display_data"
    },
    {
     "data": {
      "image/png": "[encoded data removed]",
      "text/plain": [
       "<Figure size 432x288 with 1 Axes>"
      ]
     },
     "metadata": {
      "needs_background": "light"
     },
     "output_type": "display_data"
    }
   ],
   "source": [
    "nEst=[2, 50, 100, 150, 200,  300]\n",
    "listMSE=[]\n",
    "listR2=[]\n",
    "\n",
    "for n in nEst:\n",
    "    boost_gs = xgb.XGBRegressor(\n",
    "        n_estimators=n,\n",
    "        reg_lambda=1,\n",
    "        gamma=0,\n",
    "        max_depth=4\n",
    "    )\n",
    "    boost_gs.fit(X_train, y_train)\n",
    "    y_pred = boost_gs.predict(X_test)\n",
    "\n",
    "    xgMSE=mean_absolute_error(y_test, y_pred)\n",
    "    xgR2 = r2_score(y_test, y_pred).round(4)\n",
    "    listMSE.append(xgMSE)\n",
    "    listR2.append(xgR2)\n",
    "plt.plot(nEst, listMSE)\n",
    "plt.title('nEstimators Error')\n",
    "plt.ylabel('Error')\n",
    "plt.xlabel('N Estimators')\n",
    "plt.legend()\n",
    "plt.show()\n",
    "\n",
    "plt.plot(nEst, listR2)\n",
    "plt.title('nEstimators R2')\n",
    "plt.ylabel('Accurate')\n",
    "plt.xlabel('N Estimators')\n",
    "plt.legend()\n",
    "plt.show()"
   ]
  },
  {
   "cell_type": "code",
   "execution_count": 16,
   "id": "73fcb022",
   "metadata": {
    "execution": {
     "iopub.execute_input": "2022-09-23T16:58:31.284172Z",
     "iopub.status.busy": "2022-09-23T16:58:31.283901Z",
     "iopub.status.idle": "2022-09-23T16:58:35.842978Z",
     "shell.execute_reply": "2022-09-23T16:58:35.841979Z"
    },
    "papermill": {
     "duration": 4.606354,
     "end_time": "2022-09-23T16:58:35.845543",
     "exception": false,
     "start_time": "2022-09-23T16:58:31.239189",
     "status": "completed"
    },
    "tags": []
   },
   "outputs": [
    {
     "data": {
      "image/png": "[encoded data removed]",
      "text/plain": [
       "<Figure size 432x288 with 1 Axes>"
      ]
     },
     "metadata": {
      "needs_background": "light"
     },
     "output_type": "display_data"
    },
    {
     "data": {
      "image/png": "[encoded data removed]",
      "text/plain": [
       "<Figure size 432x288 with 1 Axes>"
      ]
     },
     "metadata": {
      "needs_background": "light"
     },
     "output_type": "display_data"
    }
   ],
   "source": [
    "maxDepth=[2, 3, 4, 5, 6, 7, 8, 9, 10, 11]\n",
    "listMSE=[]\n",
    "listR2=[]\n",
    "\n",
    "for d in maxDepth:\n",
    "    boost_gs = xgb.XGBRegressor(\n",
    "        n_estimators=100,\n",
    "        reg_lambda=1,\n",
    "        gamma=0,\n",
    "        max_depth=d\n",
    "    )\n",
    "    boost_gs.fit(X_train, y_train)\n",
    "    y_pred = boost_gs.predict(X_test)\n",
    "\n",
    "    xgMSE=mean_absolute_error(y_test, y_pred)\n",
    "    xgR2 = r2_score(y_test, y_pred).round(4)\n",
    "    listMSE.append(xgMSE)\n",
    "    listR2.append(xgR2)\n",
    "plt.plot(maxDepth, listMSE)\n",
    "plt.title('MaxDepth Error')\n",
    "plt.ylabel('Error')\n",
    "plt.xlabel('Max Depth')\n",
    "plt.legend()\n",
    "plt.show()\n",
    "\n",
    "plt.plot(maxDepth, listR2)\n",
    "plt.title('MaxDepth Accuracy')\n",
    "plt.ylabel('Accuracy')\n",
    "plt.xlabel('MaxDepth')\n",
    "plt.legend()\n",
    "plt.show()"
   ]
  },
  {
   "cell_type": "code",
   "execution_count": 17,
   "id": "c9df346d",
   "metadata": {
    "execution": {
     "iopub.execute_input": "2022-09-23T16:58:35.938756Z",
     "iopub.status.busy": "2022-09-23T16:58:35.938431Z",
     "iopub.status.idle": "2022-09-23T16:58:37.058991Z",
     "shell.execute_reply": "2022-09-23T16:58:37.058195Z"
    },
    "papermill": {
     "duration": 1.169421,
     "end_time": "2022-09-23T16:58:37.061217",
     "exception": false,
     "start_time": "2022-09-23T16:58:35.891796",
     "status": "completed"
    },
    "tags": []
   },
   "outputs": [
    {
     "data": {
      "image/png": "[encoded data removed]",
      "text/plain": [
       "<Figure size 432x288 with 1 Axes>"
      ]
     },
     "metadata": {
      "needs_background": "light"
     },
     "output_type": "display_data"
    },
    {
     "data": {
      "image/png": "[encoded data removed]",
      "text/plain": [
       "<Figure size 432x288 with 1 Axes>"
      ]
     },
     "metadata": {
      "needs_background": "light"
     },
     "output_type": "display_data"
    }
   ],
   "source": [
    "eta=[.01, .02, .03, .04, .05]\n",
    "listMSE=[]\n",
    "listR2=[]\n",
    "\n",
    "for e in eta:\n",
    "    boost_gs = xgb.XGBRegressor(\n",
    "        n_estimators=50,\n",
    "        reg_lambda=1,\n",
    "        gamma=0,\n",
    "        max_depth=4,\n",
    "        eta=e\n",
    "    )\n",
    "    boost_gs.fit(X_train, y_train)\n",
    "    y_pred = boost_gs.predict(X_test)\n",
    "\n",
    "    xgMSE=mean_absolute_error(y_test, y_pred)\n",
    "    xgR2 = r2_score(y_test, y_pred).round(4)\n",
    "    listMSE.append(xgMSE)\n",
    "    listR2.append(xgR2)\n",
    "plt.plot(eta, listMSE)\n",
    "plt.title('Eta Error')\n",
    "plt.ylabel('Error')\n",
    "plt.xlabel('Eta')\n",
    "plt.legend()\n",
    "plt.show()\n",
    "\n",
    "plt.plot(eta, listR2)\n",
    "plt.title('Eta R2')\n",
    "plt.ylabel('Accurate')\n",
    "plt.xlabel('Eta')\n",
    "plt.legend()\n",
    "plt.show()"
   ]
  },
  {
   "cell_type": "code",
   "execution_count": 18,
   "id": "15ab481d",
   "metadata": {
    "execution": {
     "iopub.execute_input": "2022-09-23T16:58:37.160346Z",
     "iopub.status.busy": "2022-09-23T16:58:37.159549Z",
     "iopub.status.idle": "2022-09-23T16:58:38.576591Z",
     "shell.execute_reply": "2022-09-23T16:58:38.575935Z"
    },
    "papermill": {
     "duration": 1.467936,
     "end_time": "2022-09-23T16:58:38.578587",
     "exception": false,
     "start_time": "2022-09-23T16:58:37.110651",
     "status": "completed"
    },
    "tags": []
   },
   "outputs": [
    {
     "data": {
      "image/png": "[encoded data removed]",
      "text/plain": [
       "<Figure size 432x288 with 1 Axes>"
      ]
     },
     "metadata": {
      "needs_background": "light"
     },
     "output_type": "display_data"
    },
    {
     "data": {
      "image/png": "[encoded data removed]",
      "text/plain": [
       "<Figure size 432x288 with 1 Axes>"
      ]
     },
     "metadata": {
      "needs_background": "light"
     },
     "output_type": "display_data"
    }
   ],
   "source": [
    "gammas=[0, 0.25, 0.5, 1.0, 3, 5, 10]\n",
    "listMSE=[]\n",
    "listR2=[]\n",
    "\n",
    "for g in gammas:\n",
    "    boost_gs = xgb.XGBRegressor(\n",
    "        gamma=g,\n",
    "        n_estimators=50,\n",
    "        reg_lambda=1,\n",
    "        max_depth=4,\n",
    "        eta=.1,\n",
    "        min_child_weight=13\n",
    "    )\n",
    "    boost_gs.fit(X_train, y_train)\n",
    "    y_pred = boost_gs.predict(X_test)\n",
    "\n",
    "    xgMSE=mean_absolute_error(y_test, y_pred)\n",
    "    xgR2 = r2_score(y_test, y_pred).round(4)\n",
    "    listMSE.append(xgMSE)\n",
    "    listR2.append(xgR2)\n",
    "    \n",
    "plt.plot(gammas, listMSE)\n",
    "plt.title('Gamma Error')\n",
    "plt.ylabel('Error')\n",
    "plt.xlabel('Gammas')\n",
    "plt.legend()\n",
    "plt.show()\n",
    "\n",
    "plt.plot(gammas, listR2)\n",
    "plt.title('Gamma R2')\n",
    "plt.ylabel('Accurate')\n",
    "plt.xlabel('Gammas')\n",
    "plt.legend()\n",
    "plt.show()"
   ]
  },
  {
   "cell_type": "code",
   "execution_count": 19,
   "id": "62734d96",
   "metadata": {
    "execution": {
     "iopub.execute_input": "2022-09-23T16:58:38.679205Z",
     "iopub.status.busy": "2022-09-23T16:58:38.678668Z",
     "iopub.status.idle": "2022-09-23T16:58:40.094591Z",
     "shell.execute_reply": "2022-09-23T16:58:40.093974Z"
    },
    "papermill": {
     "duration": 1.46896,
     "end_time": "2022-09-23T16:58:40.096614",
     "exception": false,
     "start_time": "2022-09-23T16:58:38.627654",
     "status": "completed"
    },
    "tags": []
   },
   "outputs": [
    {
     "data": {
      "image/png": "[encoded data removed]",
      "text/plain": [
       "<Figure size 432x288 with 1 Axes>"
      ]
     },
     "metadata": {
      "needs_background": "light"
     },
     "output_type": "display_data"
    },
    {
     "data": {
      "image/png": "[encoded data removed]",
      "text/plain": [
       "<Figure size 432x288 with 1 Axes>"
      ]
     },
     "metadata": {
      "needs_background": "light"
     },
     "output_type": "display_data"
    }
   ],
   "source": [
    "regLam = [0.1, 1.0, 2, 3, 4, 5.0, 10.0]\n",
    "listMSE=[]\n",
    "listR2=[]\n",
    "\n",
    "for r in regLam:\n",
    "    boost_gs = xgb.XGBRegressor(\n",
    "        n_estimators=50,\n",
    "        reg_lambda=r,\n",
    "        max_depth=4,\n",
    "        eta=.05,\n",
    "        min_child_weight=13,\n",
    "        learning_rate=.1\n",
    "    )\n",
    "    boost_gs.fit(X_train, y_train)\n",
    "    y_pred = boost_gs.predict(X_test)\n",
    "\n",
    "    xgMSE=mean_absolute_error(y_test, y_pred)\n",
    "    xgR2 = r2_score(y_test, y_pred).round(4)\n",
    "    listMSE.append(xgMSE)\n",
    "    listR2.append(xgR2)\n",
    "    \n",
    "plt.plot(regLam, listMSE)\n",
    "plt.title('RegLam Error')\n",
    "plt.ylabel('Error')\n",
    "plt.xlabel('RegLam')\n",
    "plt.legend()\n",
    "plt.show()\n",
    "\n",
    "plt.plot(regLam, listR2)\n",
    "plt.title('RegLam R2')\n",
    "plt.ylabel('Accurate')\n",
    "plt.xlabel('RegLam')\n",
    "plt.legend()\n",
    "plt.show()"
   ]
  },
  {
   "cell_type": "markdown",
   "id": "b8194fce",
   "metadata": {
    "papermill": {
     "duration": 0.051119,
     "end_time": "2022-09-23T16:58:40.199317",
     "exception": false,
     "start_time": "2022-09-23T16:58:40.148198",
     "status": "completed"
    },
    "tags": []
   },
   "source": [
    "# GridSearch \n",
    "* Top 18%:   {'gamma': 2, 'learning_rate': 0.3, 'max_depth': 3, 'min_child_weight': 1, 'n_estimators': 100}\n",
    "\n",
    "* Top 5%  {'eta': 0.05, 'gamma': 5, 'learning_rate': 0.3, 'max_depth': 5, 'min_child_weight': 5, 'n_estimators': 50, 'reg_lambda': 5}"
   ]
  },
  {
   "cell_type": "code",
   "execution_count": 20,
   "id": "d2bca8c7",
   "metadata": {
    "execution": {
     "iopub.execute_input": "2022-09-23T16:58:40.304059Z",
     "iopub.status.busy": "2022-09-23T16:58:40.303754Z",
     "iopub.status.idle": "2022-09-23T16:59:24.364890Z",
     "shell.execute_reply": "2022-09-23T16:59:24.364220Z"
    },
    "papermill": {
     "duration": 44.169472,
     "end_time": "2022-09-23T16:59:24.420522",
     "exception": false,
     "start_time": "2022-09-23T16:58:40.251050",
     "status": "completed"
    },
    "tags": []
   },
   "outputs": [
    {
     "name": "stdout",
     "output_type": "stream",
     "text": [
      "Start\n",
      "{'eta': 0.05, 'gamma': 1, 'learning_rate': 0.3, 'max_depth': 5, 'min_child_weight': 5, 'n_estimators': 50, 'reg_lambda': 0.5}\n",
      "Done.  44.05367136001587  seconds\n"
     ]
    }
   ],
   "source": [
    "from sklearn.model_selection import GridSearchCV\n",
    "import time\n",
    "import warnings\n",
    "warnings.filterwarnings(\"ignore\")\n",
    "\n",
    "start=time.time()\n",
    "print(\"Start\")\n",
    "\n",
    "params = {\n",
    "        'learning_rate': [0.01, 0.3],\n",
    "        'n_estimators':[50],\n",
    "        'gamma': [.01, 1],\n",
    "        'max_depth': [5, 6, 8, 9],\n",
    "        'min_child_weight':[5, 7],\n",
    "        'eta':[.05],\n",
    "        'reg_lambda':[.01, .5, 1]\n",
    "        }\n",
    "\n",
    "boost = xgb.XGBClassifier()\n",
    "boost_gs = GridSearchCV(boost,param_grid=params,cv=3,scoring=\"accuracy\")\n",
    "boost_gs.fit(X_train,y_train)\n",
    "\n",
    "print(boost_gs.best_params_)\n",
    "print(\"Done. \" , time.time()-start, \" seconds\")"
   ]
  },
  {
   "cell_type": "markdown",
   "id": "c0cd4ec4",
   "metadata": {
    "papermill": {
     "duration": 0.05312,
     "end_time": "2022-09-23T16:59:24.525878",
     "exception": false,
     "start_time": "2022-09-23T16:59:24.472758",
     "status": "completed"
    },
    "tags": []
   },
   "source": [
    "## Final xgBoost Prediction\n",
    "* Top 5%  {'eta': 0.05, 'gamma': 5, 'learning_rate': 0.3, 'max_depth': 5, 'min_child_weight': 5, 'n_estimators': 50, 'reg_lambda': 5}"
   ]
  },
  {
   "cell_type": "code",
   "execution_count": 21,
   "id": "a4a75949",
   "metadata": {
    "execution": {
     "iopub.execute_input": "2022-09-23T16:59:24.632221Z",
     "iopub.status.busy": "2022-09-23T16:59:24.631917Z",
     "iopub.status.idle": "2022-09-23T16:59:25.632887Z",
     "shell.execute_reply": "2022-09-23T16:59:25.632223Z"
    },
    "papermill": {
     "duration": 1.056992,
     "end_time": "2022-09-23T16:59:25.635326",
     "exception": false,
     "start_time": "2022-09-23T16:59:24.578334",
     "status": "completed"
    },
    "tags": []
   },
   "outputs": [
    {
     "name": "stdout",
     "output_type": "stream",
     "text": [
      "0.2028  ||  0.8097\n",
      "0.6069  cross validate score\n"
     ]
    }
   ],
   "source": [
    "boost_gs = xgb.XGBClassifier(\n",
    "    n_estimators=50,\n",
    "    max_depth=6,\n",
    "    min_child_weight=5,\n",
    "    reg_lambda=0.5,\n",
    "    learning_rate=0.3,\n",
    "    #colsample_bytree=.9,\n",
    "    gamma=5,\n",
    "    eta=.05\n",
    ")\n",
    "\n",
    "#regressor.fit(X_train, y_train, early_stopping_rounds=1, eval_set=[(X_test, y_test)], verbose=False)\n",
    "boost_gs.fit(X_train, y_train)\n",
    "y_pred = boost_gs.predict(X_test)\n",
    "\n",
    "xgMSE=mean_absolute_error(y_test, y_pred)\n",
    "xgR2 = r2_score(y_test, y_pred).round(4)\n",
    "listMSE.append(xgMSE)\n",
    "listR2.append(xgR2)\n",
    "\n",
    "boostScore = boost_gs.score(X_test, y_test).round(4)  \n",
    "boostCV = cross_validate(boost_gs, X, y, cv = 5, scoring= 'r2')\n",
    "boostCV=boostCV['test_score'].mean().round(4)\n",
    "print(boostCV, ' || ', boostScore)\n",
    "print(boostScore-boostCV, \" cross validate score\")"
   ]
  },
  {
   "cell_type": "markdown",
   "id": "9024bf78",
   "metadata": {
    "papermill": {
     "duration": 0.05221,
     "end_time": "2022-09-23T16:59:25.741501",
     "exception": false,
     "start_time": "2022-09-23T16:59:25.689291",
     "status": "completed"
    },
    "tags": []
   },
   "source": [
    "# Feature Importance"
   ]
  },
  {
   "cell_type": "code",
   "execution_count": 22,
   "id": "48f65177",
   "metadata": {
    "execution": {
     "iopub.execute_input": "2022-09-23T16:59:25.848769Z",
     "iopub.status.busy": "2022-09-23T16:59:25.848407Z",
     "iopub.status.idle": "2022-09-23T16:59:26.062623Z",
     "shell.execute_reply": "2022-09-23T16:59:26.061967Z"
    },
    "papermill": {
     "duration": 0.26974,
     "end_time": "2022-09-23T16:59:26.064419",
     "exception": false,
     "start_time": "2022-09-23T16:59:25.794679",
     "status": "completed"
    },
    "tags": []
   },
   "outputs": [
    {
     "data": {
      "image/png": "[encoded data removed]",
      "text/plain": [
       "<Figure size 432x288 with 1 Axes>"
      ]
     },
     "metadata": {
      "needs_background": "light"
     },
     "output_type": "display_data"
    }
   ],
   "source": [
    "from matplotlib import pyplot as plt\n",
    "xgb.plot_importance(boost_gs)\n",
    "plt.show()"
   ]
  },
  {
   "cell_type": "markdown",
   "id": "3a322017",
   "metadata": {
    "papermill": {
     "duration": 0.053402,
     "end_time": "2022-09-23T16:59:26.171673",
     "exception": false,
     "start_time": "2022-09-23T16:59:26.118271",
     "status": "completed"
    },
    "tags": []
   },
   "source": [
    "# Test Data"
   ]
  },
  {
   "cell_type": "code",
   "execution_count": 23,
   "id": "b34efeed",
   "metadata": {
    "execution": {
     "iopub.execute_input": "2022-09-23T16:59:26.279814Z",
     "iopub.status.busy": "2022-09-23T16:59:26.279352Z",
     "iopub.status.idle": "2022-09-23T16:59:26.295928Z",
     "shell.execute_reply": "2022-09-23T16:59:26.295363Z"
    },
    "papermill": {
     "duration": 0.072978,
     "end_time": "2022-09-23T16:59:26.297845",
     "exception": false,
     "start_time": "2022-09-23T16:59:26.224867",
     "status": "completed"
    },
    "tags": []
   },
   "outputs": [
    {
     "data": {
      "text/html": [
       "<div>\n",
       "<style scoped>\n",
       "    .dataframe tbody tr th:only-of-type {\n",
       "        vertical-align: middle;\n",
       "    }\n",
       "\n",
       "    .dataframe tbody tr th {\n",
       "        vertical-align: top;\n",
       "    }\n",
       "\n",
       "    .dataframe thead th {\n",
       "        text-align: right;\n",
       "    }\n",
       "</style>\n",
       "<table border=\"1\" class=\"dataframe\">\n",
       "  <thead>\n",
       "    <tr style=\"text-align: right;\">\n",
       "      <th></th>\n",
       "      <th>PassengerId</th>\n",
       "      <th>Pclass</th>\n",
       "      <th>Sex</th>\n",
       "      <th>Age</th>\n",
       "      <th>SibSp</th>\n",
       "      <th>Parch</th>\n",
       "      <th>Fare</th>\n",
       "      <th>Embarked</th>\n",
       "    </tr>\n",
       "  </thead>\n",
       "  <tbody>\n",
       "    <tr>\n",
       "      <th>0</th>\n",
       "      <td>892</td>\n",
       "      <td>3</td>\n",
       "      <td>1</td>\n",
       "      <td>34.5</td>\n",
       "      <td>0</td>\n",
       "      <td>0</td>\n",
       "      <td>7.8292</td>\n",
       "      <td>3</td>\n",
       "    </tr>\n",
       "    <tr>\n",
       "      <th>1</th>\n",
       "      <td>893</td>\n",
       "      <td>3</td>\n",
       "      <td>0</td>\n",
       "      <td>47.0</td>\n",
       "      <td>1</td>\n",
       "      <td>0</td>\n",
       "      <td>7.0000</td>\n",
       "      <td>1</td>\n",
       "    </tr>\n",
       "    <tr>\n",
       "      <th>2</th>\n",
       "      <td>894</td>\n",
       "      <td>2</td>\n",
       "      <td>1</td>\n",
       "      <td>62.0</td>\n",
       "      <td>0</td>\n",
       "      <td>0</td>\n",
       "      <td>9.6875</td>\n",
       "      <td>3</td>\n",
       "    </tr>\n",
       "    <tr>\n",
       "      <th>3</th>\n",
       "      <td>895</td>\n",
       "      <td>3</td>\n",
       "      <td>1</td>\n",
       "      <td>27.0</td>\n",
       "      <td>0</td>\n",
       "      <td>0</td>\n",
       "      <td>8.6625</td>\n",
       "      <td>1</td>\n",
       "    </tr>\n",
       "    <tr>\n",
       "      <th>4</th>\n",
       "      <td>896</td>\n",
       "      <td>3</td>\n",
       "      <td>0</td>\n",
       "      <td>22.0</td>\n",
       "      <td>1</td>\n",
       "      <td>1</td>\n",
       "      <td>12.2875</td>\n",
       "      <td>1</td>\n",
       "    </tr>\n",
       "  </tbody>\n",
       "</table>\n",
       "</div>"
      ],
      "text/plain": [
       "   PassengerId  Pclass  Sex   Age  SibSp  Parch     Fare  Embarked\n",
       "0          892       3    1  34.5      0      0   7.8292         3\n",
       "1          893       3    0  47.0      1      0   7.0000         1\n",
       "2          894       2    1  62.0      0      0   9.6875         3\n",
       "3          895       3    1  27.0      0      0   8.6625         1\n",
       "4          896       3    0  22.0      1      1  12.2875         1"
      ]
     },
     "execution_count": 23,
     "metadata": {},
     "output_type": "execute_result"
    }
   ],
   "source": [
    "#GENDER\n",
    "test['Sex']=test['Sex'].map({'female':0,'male':1})\n",
    "\n",
    "features=list(X.columns)\n",
    "test=test[features]\n",
    "\n",
    "test=test.fillna(test.mean())\n",
    "test.head()"
   ]
  },
  {
   "cell_type": "markdown",
   "id": "4a7138af",
   "metadata": {
    "papermill": {
     "duration": 0.053635,
     "end_time": "2022-09-23T16:59:26.405497",
     "exception": false,
     "start_time": "2022-09-23T16:59:26.351862",
     "status": "completed"
    },
    "tags": []
   },
   "source": [
    "# Final Prediction"
   ]
  },
  {
   "cell_type": "code",
   "execution_count": 24,
   "id": "52157fb3",
   "metadata": {
    "execution": {
     "iopub.execute_input": "2022-09-23T16:59:26.517686Z",
     "iopub.status.busy": "2022-09-23T16:59:26.517231Z",
     "iopub.status.idle": "2022-09-23T16:59:26.543696Z",
     "shell.execute_reply": "2022-09-23T16:59:26.538109Z"
    },
    "papermill": {
     "duration": 0.084163,
     "end_time": "2022-09-23T16:59:26.545950",
     "exception": false,
     "start_time": "2022-09-23T16:59:26.461787",
     "status": "completed"
    },
    "tags": []
   },
   "outputs": [
    {
     "data": {
      "text/html": [
       "<div>\n",
       "<style scoped>\n",
       "    .dataframe tbody tr th:only-of-type {\n",
       "        vertical-align: middle;\n",
       "    }\n",
       "\n",
       "    .dataframe tbody tr th {\n",
       "        vertical-align: top;\n",
       "    }\n",
       "\n",
       "    .dataframe thead th {\n",
       "        text-align: right;\n",
       "    }\n",
       "</style>\n",
       "<table border=\"1\" class=\"dataframe\">\n",
       "  <thead>\n",
       "    <tr style=\"text-align: right;\">\n",
       "      <th></th>\n",
       "      <th>PassengerId</th>\n",
       "      <th>Survived</th>\n",
       "    </tr>\n",
       "  </thead>\n",
       "  <tbody>\n",
       "    <tr>\n",
       "      <th>0</th>\n",
       "      <td>892</td>\n",
       "      <td>0</td>\n",
       "    </tr>\n",
       "    <tr>\n",
       "      <th>1</th>\n",
       "      <td>893</td>\n",
       "      <td>0</td>\n",
       "    </tr>\n",
       "    <tr>\n",
       "      <th>2</th>\n",
       "      <td>894</td>\n",
       "      <td>0</td>\n",
       "    </tr>\n",
       "    <tr>\n",
       "      <th>3</th>\n",
       "      <td>895</td>\n",
       "      <td>0</td>\n",
       "    </tr>\n",
       "    <tr>\n",
       "      <th>4</th>\n",
       "      <td>896</td>\n",
       "      <td>0</td>\n",
       "    </tr>\n",
       "    <tr>\n",
       "      <th>5</th>\n",
       "      <td>897</td>\n",
       "      <td>0</td>\n",
       "    </tr>\n",
       "    <tr>\n",
       "      <th>6</th>\n",
       "      <td>898</td>\n",
       "      <td>1</td>\n",
       "    </tr>\n",
       "  </tbody>\n",
       "</table>\n",
       "</div>"
      ],
      "text/plain": [
       "   PassengerId  Survived\n",
       "0          892         0\n",
       "1          893         0\n",
       "2          894         0\n",
       "3          895         0\n",
       "4          896         0\n",
       "5          897         0\n",
       "6          898         1"
      ]
     },
     "execution_count": 24,
     "metadata": {},
     "output_type": "execute_result"
    }
   ],
   "source": [
    "test_predictions = boost_gs.predict(test)\n",
    "passID=test['PassengerId']\n",
    "tupleData = list(zip(passID, test_predictions))\n",
    "output = pd.DataFrame(tupleData, columns = ['PassengerId', 'Survived'])\n",
    "output.head(7)"
   ]
  },
  {
   "cell_type": "code",
   "execution_count": 25,
   "id": "b107db48",
   "metadata": {
    "execution": {
     "iopub.execute_input": "2022-09-23T16:59:26.658215Z",
     "iopub.status.busy": "2022-09-23T16:59:26.657745Z",
     "iopub.status.idle": "2022-09-23T16:59:26.665694Z",
     "shell.execute_reply": "2022-09-23T16:59:26.664800Z"
    },
    "papermill": {
     "duration": 0.067604,
     "end_time": "2022-09-23T16:59:26.668228",
     "exception": false,
     "start_time": "2022-09-23T16:59:26.600624",
     "status": "completed"
    },
    "tags": []
   },
   "outputs": [
    {
     "name": "stdout",
     "output_type": "stream",
     "text": [
      "Your submission was successfully saved!\n"
     ]
    }
   ],
   "source": [
    "output.to_csv('submission.csv', index=False)\n",
    "print(\"Your submission was successfully saved!\")"
   ]
  }
 ],
 "metadata": {
  "kernelspec": {
   "display_name": "Python 3",
   "language": "python",
   "name": "python3"
  },
  "language_info": {
   "codemirror_mode": {
    "name": "ipython",
    "version": 3
   },
   "file_extension": ".py",
   "mimetype": "text/x-python",
   "name": "python",
   "nbconvert_exporter": "python",
   "pygments_lexer": "ipython3",
   "version": "3.7.12"
  },
  "papermill": {
   "default_parameters": {},
   "duration": 75.125128,
   "end_time": "2022-09-23T16:59:27.545294",
   "environment_variables": {},
   "exception": null,
   "input_path": "__notebook__.ipynb",
   "output_path": "__notebook__.ipynb",
   "parameters": {},
   "start_time": "2022-09-23T16:58:12.420166",
   "version": "2.3.4"
  }
 },
 "nbformat": 4,
 "nbformat_minor": 5
}
