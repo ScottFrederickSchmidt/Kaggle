{
 "cells": [
  {
   "cell_type": "markdown",
   "id": "2d69faca",
   "metadata": {
    "papermill": {
     "duration": 0.03991,
     "end_time": "2022-10-11T15:44:02.094125",
     "exception": false,
     "start_time": "2022-10-11T15:44:02.054215",
     "status": "completed"
    },
    "tags": []
   },
   "source": [
    "# XG Boost GridSearch\n",
    "* Machine Learning Titanic Original\n",
    "https://github.com/ScottySchmidt/Kaggle/blob/main/Titanic.ipynb\n",
    "* Decision tree scores top 6%\n",
    "https://github.com/ScottySchmidt/Kaggle/blob/main/dtree.ipynb\n",
    "* xgBoost top 5%\n",
    "https://github.com/ScottySchmidt/Kaggle/blob/main/xgbTop5%25.ipynb\n",
    "* Random forest top 5%\n",
    "https://github.com/ScottySchmidt/Kaggle/blob/main/forestTop5%25.ipynb\n",
    "\n"
   ]
  },
  {
   "cell_type": "markdown",
   "id": "a8e171ed",
   "metadata": {
    "papermill": {
     "duration": 0.033991,
     "end_time": "2022-10-11T15:44:02.161405",
     "exception": false,
     "start_time": "2022-10-11T15:44:02.127414",
     "status": "completed"
    },
    "tags": []
   },
   "source": [
    "# Train Data\n",
    "Train.csv will contain the details of a subset of the passengers on board (891 to be exact) and whether they survive or not. The shape of the train data is (891, 12). "
   ]
  },
  {
   "cell_type": "code",
   "execution_count": 1,
   "id": "3e1babe7",
   "metadata": {
    "execution": {
     "iopub.execute_input": "2022-10-11T15:44:02.229805Z",
     "iopub.status.busy": "2022-10-11T15:44:02.229346Z",
     "iopub.status.idle": "2022-10-11T15:44:03.792156Z",
     "shell.execute_reply": "2022-10-11T15:44:03.790882Z"
    },
    "papermill": {
     "duration": 1.600395,
     "end_time": "2022-10-11T15:44:03.795131",
     "exception": false,
     "start_time": "2022-10-11T15:44:02.194736",
     "status": "completed"
    },
    "tags": []
   },
   "outputs": [
    {
     "name": "stdout",
     "output_type": "stream",
     "text": [
      "(891, 12)\n"
     ]
    },
    {
     "data": {
      "text/html": [
       "<div>\n",
       "<style scoped>\n",
       "    .dataframe tbody tr th:only-of-type {\n",
       "        vertical-align: middle;\n",
       "    }\n",
       "\n",
       "    .dataframe tbody tr th {\n",
       "        vertical-align: top;\n",
       "    }\n",
       "\n",
       "    .dataframe thead th {\n",
       "        text-align: right;\n",
       "    }\n",
       "</style>\n",
       "<table border=\"1\" class=\"dataframe\">\n",
       "  <thead>\n",
       "    <tr style=\"text-align: right;\">\n",
       "      <th></th>\n",
       "      <th>PassengerId</th>\n",
       "      <th>Survived</th>\n",
       "      <th>Pclass</th>\n",
       "      <th>Name</th>\n",
       "      <th>Sex</th>\n",
       "      <th>Age</th>\n",
       "      <th>SibSp</th>\n",
       "      <th>Parch</th>\n",
       "      <th>Ticket</th>\n",
       "      <th>Fare</th>\n",
       "      <th>Cabin</th>\n",
       "      <th>Embarked</th>\n",
       "    </tr>\n",
       "  </thead>\n",
       "  <tbody>\n",
       "    <tr>\n",
       "      <th>0</th>\n",
       "      <td>1</td>\n",
       "      <td>0</td>\n",
       "      <td>3</td>\n",
       "      <td>Braund, Mr. Owen Harris</td>\n",
       "      <td>male</td>\n",
       "      <td>22.0</td>\n",
       "      <td>1</td>\n",
       "      <td>0</td>\n",
       "      <td>A/5 21171</td>\n",
       "      <td>7.2500</td>\n",
       "      <td>NaN</td>\n",
       "      <td>S</td>\n",
       "    </tr>\n",
       "    <tr>\n",
       "      <th>1</th>\n",
       "      <td>2</td>\n",
       "      <td>1</td>\n",
       "      <td>1</td>\n",
       "      <td>Cumings, Mrs. John Bradley (Florence Briggs Th...</td>\n",
       "      <td>female</td>\n",
       "      <td>38.0</td>\n",
       "      <td>1</td>\n",
       "      <td>0</td>\n",
       "      <td>PC 17599</td>\n",
       "      <td>71.2833</td>\n",
       "      <td>C85</td>\n",
       "      <td>C</td>\n",
       "    </tr>\n",
       "    <tr>\n",
       "      <th>2</th>\n",
       "      <td>3</td>\n",
       "      <td>1</td>\n",
       "      <td>3</td>\n",
       "      <td>Heikkinen, Miss. Laina</td>\n",
       "      <td>female</td>\n",
       "      <td>26.0</td>\n",
       "      <td>0</td>\n",
       "      <td>0</td>\n",
       "      <td>STON/O2. 3101282</td>\n",
       "      <td>7.9250</td>\n",
       "      <td>NaN</td>\n",
       "      <td>S</td>\n",
       "    </tr>\n",
       "    <tr>\n",
       "      <th>3</th>\n",
       "      <td>4</td>\n",
       "      <td>1</td>\n",
       "      <td>1</td>\n",
       "      <td>Futrelle, Mrs. Jacques Heath (Lily May Peel)</td>\n",
       "      <td>female</td>\n",
       "      <td>35.0</td>\n",
       "      <td>1</td>\n",
       "      <td>0</td>\n",
       "      <td>113803</td>\n",
       "      <td>53.1000</td>\n",
       "      <td>C123</td>\n",
       "      <td>S</td>\n",
       "    </tr>\n",
       "    <tr>\n",
       "      <th>4</th>\n",
       "      <td>5</td>\n",
       "      <td>0</td>\n",
       "      <td>3</td>\n",
       "      <td>Allen, Mr. William Henry</td>\n",
       "      <td>male</td>\n",
       "      <td>35.0</td>\n",
       "      <td>0</td>\n",
       "      <td>0</td>\n",
       "      <td>373450</td>\n",
       "      <td>8.0500</td>\n",
       "      <td>NaN</td>\n",
       "      <td>S</td>\n",
       "    </tr>\n",
       "  </tbody>\n",
       "</table>\n",
       "</div>"
      ],
      "text/plain": [
       "   PassengerId  Survived  Pclass  \\\n",
       "0            1         0       3   \n",
       "1            2         1       1   \n",
       "2            3         1       3   \n",
       "3            4         1       1   \n",
       "4            5         0       3   \n",
       "\n",
       "                                                Name     Sex   Age  SibSp  \\\n",
       "0                            Braund, Mr. Owen Harris    male  22.0      1   \n",
       "1  Cumings, Mrs. John Bradley (Florence Briggs Th...  female  38.0      1   \n",
       "2                             Heikkinen, Miss. Laina  female  26.0      0   \n",
       "3       Futrelle, Mrs. Jacques Heath (Lily May Peel)  female  35.0      1   \n",
       "4                           Allen, Mr. William Henry    male  35.0      0   \n",
       "\n",
       "   Parch            Ticket     Fare Cabin Embarked  \n",
       "0      0         A/5 21171   7.2500   NaN        S  \n",
       "1      0          PC 17599  71.2833   C85        C  \n",
       "2      0  STON/O2. 3101282   7.9250   NaN        S  \n",
       "3      0            113803  53.1000  C123        S  \n",
       "4      0            373450   8.0500   NaN        S  "
      ]
     },
     "execution_count": 1,
     "metadata": {},
     "output_type": "execute_result"
    }
   ],
   "source": [
    "import numpy as np\n",
    "import pandas as pd\n",
    "import seaborn as sns\n",
    "import matplotlib.pyplot as plt\n",
    "from sklearn.model_selection import train_test_split, cross_validate\n",
    "from statistics import mean\n",
    "from sklearn.metrics import accuracy_score, classification_report, mean_absolute_error, mean_squared_error, r2_score\n",
    "from sklearn.datasets import make_classification\n",
    "from sklearn import ensemble\n",
    "import sklearn.metrics as metrics\n",
    "import time\n",
    "from math import sqrt\n",
    "\n",
    "train=r'/kaggle/input/titanic/train.csv'\n",
    "test=r'/kaggle/input/titanic/test.csv' \n",
    "\n",
    "df=pd.read_csv(train)\n",
    "test=pd.read_csv(test)\n",
    "\n",
    "print(df.shape)\n",
    "df.head()"
   ]
  },
  {
   "cell_type": "code",
   "execution_count": 2,
   "id": "839bedca",
   "metadata": {
    "execution": {
     "iopub.execute_input": "2022-10-11T15:44:03.865927Z",
     "iopub.status.busy": "2022-10-11T15:44:03.865650Z",
     "iopub.status.idle": "2022-10-11T15:44:03.873177Z",
     "shell.execute_reply": "2022-10-11T15:44:03.872326Z"
    },
    "papermill": {
     "duration": 0.045306,
     "end_time": "2022-10-11T15:44:03.875068",
     "exception": false,
     "start_time": "2022-10-11T15:44:03.829762",
     "status": "completed"
    },
    "tags": []
   },
   "outputs": [
    {
     "data": {
      "text/plain": [
       "PassengerId      int64\n",
       "Survived         int64\n",
       "Pclass           int64\n",
       "Name            object\n",
       "Sex             object\n",
       "Age            float64\n",
       "SibSp            int64\n",
       "Parch            int64\n",
       "Ticket          object\n",
       "Fare           float64\n",
       "Cabin           object\n",
       "Embarked        object\n",
       "dtype: object"
      ]
     },
     "execution_count": 2,
     "metadata": {},
     "output_type": "execute_result"
    }
   ],
   "source": [
    "df.dtypes"
   ]
  },
  {
   "cell_type": "code",
   "execution_count": 3,
   "id": "06b5ef10",
   "metadata": {
    "execution": {
     "iopub.execute_input": "2022-10-11T15:44:03.948045Z",
     "iopub.status.busy": "2022-10-11T15:44:03.947748Z",
     "iopub.status.idle": "2022-10-11T15:44:03.972394Z",
     "shell.execute_reply": "2022-10-11T15:44:03.971305Z"
    },
    "papermill": {
     "duration": 0.06255,
     "end_time": "2022-10-11T15:44:03.974538",
     "exception": false,
     "start_time": "2022-10-11T15:44:03.911988",
     "status": "completed"
    },
    "tags": []
   },
   "outputs": [
    {
     "name": "stdout",
     "output_type": "stream",
     "text": [
      "Total no of duplicate values in Training Dataset = 0\n"
     ]
    },
    {
     "data": {
      "text/html": [
       "<div>\n",
       "<style scoped>\n",
       "    .dataframe tbody tr th:only-of-type {\n",
       "        vertical-align: middle;\n",
       "    }\n",
       "\n",
       "    .dataframe tbody tr th {\n",
       "        vertical-align: top;\n",
       "    }\n",
       "\n",
       "    .dataframe thead th {\n",
       "        text-align: right;\n",
       "    }\n",
       "</style>\n",
       "<table border=\"1\" class=\"dataframe\">\n",
       "  <thead>\n",
       "    <tr style=\"text-align: right;\">\n",
       "      <th></th>\n",
       "      <th>PassengerId</th>\n",
       "      <th>Survived</th>\n",
       "      <th>Pclass</th>\n",
       "      <th>Name</th>\n",
       "      <th>Sex</th>\n",
       "      <th>Age</th>\n",
       "      <th>SibSp</th>\n",
       "      <th>Parch</th>\n",
       "      <th>Ticket</th>\n",
       "      <th>Fare</th>\n",
       "      <th>Cabin</th>\n",
       "      <th>Embarked</th>\n",
       "    </tr>\n",
       "  </thead>\n",
       "  <tbody>\n",
       "  </tbody>\n",
       "</table>\n",
       "</div>"
      ],
      "text/plain": [
       "Empty DataFrame\n",
       "Columns: [PassengerId, Survived, Pclass, Name, Sex, Age, SibSp, Parch, Ticket, Fare, Cabin, Embarked]\n",
       "Index: []"
      ]
     },
     "execution_count": 3,
     "metadata": {},
     "output_type": "execute_result"
    }
   ],
   "source": [
    "#Check Duplicates:\n",
    "dupstr = df.duplicated()\n",
    "print('Total no of duplicate values in Training Dataset = %d' % (dupstr.sum()))\n",
    "df[dupstr]"
   ]
  },
  {
   "cell_type": "code",
   "execution_count": 4,
   "id": "71628f6b",
   "metadata": {
    "execution": {
     "iopub.execute_input": "2022-10-11T15:44:04.046418Z",
     "iopub.status.busy": "2022-10-11T15:44:04.046152Z",
     "iopub.status.idle": "2022-10-11T15:44:04.054264Z",
     "shell.execute_reply": "2022-10-11T15:44:04.053630Z"
    },
    "papermill": {
     "duration": 0.046629,
     "end_time": "2022-10-11T15:44:04.056514",
     "exception": false,
     "start_time": "2022-10-11T15:44:04.009885",
     "status": "completed"
    },
    "tags": []
   },
   "outputs": [
    {
     "name": "stdout",
     "output_type": "stream",
     "text": [
      "Missing data by column as a percent:\n",
      "Cabin          0.771044\n",
      "Age            0.198653\n",
      "Embarked       0.002245\n",
      "PassengerId    0.000000\n",
      "Survived       0.000000\n",
      "dtype: float64\n"
     ]
    }
   ],
   "source": [
    "#search for columns with missing values:\n",
    "def findNA():\n",
    "    print(\"Missing data by column as a percent:\")\n",
    "    findNA=df.isnull().sum().sort_values(ascending=False)/len(df)\n",
    "    print(findNA.head())\n",
    "findNA() "
   ]
  },
  {
   "cell_type": "markdown",
   "id": "fb6c71e5",
   "metadata": {
    "papermill": {
     "duration": 0.035121,
     "end_time": "2022-10-11T15:44:04.126939",
     "exception": false,
     "start_time": "2022-10-11T15:44:04.091818",
     "status": "completed"
    },
    "tags": []
   },
   "source": [
    "# Feature Engineer\n",
    "We need to replace male and female into numbers. This is a very important part of the process because gender is one of the highest predictors on if a person survived or not."
   ]
  },
  {
   "cell_type": "code",
   "execution_count": 5,
   "id": "975f4b0b",
   "metadata": {
    "execution": {
     "iopub.execute_input": "2022-10-11T15:44:04.202525Z",
     "iopub.status.busy": "2022-10-11T15:44:04.201928Z",
     "iopub.status.idle": "2022-10-11T15:44:04.208251Z",
     "shell.execute_reply": "2022-10-11T15:44:04.207561Z"
    },
    "papermill": {
     "duration": 0.047462,
     "end_time": "2022-10-11T15:44:04.210323",
     "exception": false,
     "start_time": "2022-10-11T15:44:04.162861",
     "status": "completed"
    },
    "tags": []
   },
   "outputs": [],
   "source": [
    "#GENDER\n",
    "df['Sex']=df['Sex'].map({'female':0,'male':1})"
   ]
  },
  {
   "cell_type": "markdown",
   "id": "ee27c854",
   "metadata": {
    "papermill": {
     "duration": 0.037136,
     "end_time": "2022-10-11T15:44:04.284858",
     "exception": false,
     "start_time": "2022-10-11T15:44:04.247722",
     "status": "completed"
    },
    "tags": []
   },
   "source": [
    "Females whose number is 0 had a much higher chance of surving than males. Later on, doing the importance feature analysis we will view that gender is actually one of the highest predictors. "
   ]
  },
  {
   "cell_type": "code",
   "execution_count": 6,
   "id": "7eba0b45",
   "metadata": {
    "execution": {
     "iopub.execute_input": "2022-10-11T15:44:04.358106Z",
     "iopub.status.busy": "2022-10-11T15:44:04.357437Z",
     "iopub.status.idle": "2022-10-11T15:44:04.387713Z",
     "shell.execute_reply": "2022-10-11T15:44:04.386849Z"
    },
    "papermill": {
     "duration": 0.069389,
     "end_time": "2022-10-11T15:44:04.389904",
     "exception": false,
     "start_time": "2022-10-11T15:44:04.320515",
     "status": "completed"
    },
    "tags": []
   },
   "outputs": [
    {
     "data": {
      "text/html": [
       "<div>\n",
       "<style scoped>\n",
       "    .dataframe tbody tr th:only-of-type {\n",
       "        vertical-align: middle;\n",
       "    }\n",
       "\n",
       "    .dataframe tbody tr th {\n",
       "        vertical-align: top;\n",
       "    }\n",
       "\n",
       "    .dataframe thead th {\n",
       "        text-align: right;\n",
       "    }\n",
       "</style>\n",
       "<table border=\"1\" class=\"dataframe\">\n",
       "  <thead>\n",
       "    <tr style=\"text-align: right;\">\n",
       "      <th>Sex</th>\n",
       "      <th>0</th>\n",
       "      <th>1</th>\n",
       "    </tr>\n",
       "    <tr>\n",
       "      <th>Survived</th>\n",
       "      <th></th>\n",
       "      <th></th>\n",
       "    </tr>\n",
       "  </thead>\n",
       "  <tbody>\n",
       "    <tr>\n",
       "      <th>0</th>\n",
       "      <td>81</td>\n",
       "      <td>468</td>\n",
       "    </tr>\n",
       "    <tr>\n",
       "      <th>1</th>\n",
       "      <td>233</td>\n",
       "      <td>109</td>\n",
       "    </tr>\n",
       "  </tbody>\n",
       "</table>\n",
       "</div>"
      ],
      "text/plain": [
       "Sex         0    1\n",
       "Survived          \n",
       "0          81  468\n",
       "1         233  109"
      ]
     },
     "execution_count": 6,
     "metadata": {},
     "output_type": "execute_result"
    }
   ],
   "source": [
    "genderTable = pd.crosstab(df['Survived'],df['Sex'])\n",
    "genderTable"
   ]
  },
  {
   "cell_type": "markdown",
   "id": "36906512",
   "metadata": {
    "papermill": {
     "duration": 0.035803,
     "end_time": "2022-10-11T15:44:04.462318",
     "exception": false,
     "start_time": "2022-10-11T15:44:04.426515",
     "status": "completed"
    },
    "tags": []
   },
   "source": [
    "# Encode Categorical Variables\n",
    "Encode Categorical Variables is needed for this dataset since there are many important variables that are not numeric yet. \n",
    "\n",
    "There are three classes C, Q, and S. Class C seems to have the highest chance of survival. Class S has the lowest chance of survival. Unfornately this would tend to show that economic status seems to played a part in the decision if someone survived or not. Embarked does not play role major role in feature importance. "
   ]
  },
  {
   "cell_type": "code",
   "execution_count": 7,
   "id": "0ea01b30",
   "metadata": {
    "execution": {
     "iopub.execute_input": "2022-10-11T15:44:04.537357Z",
     "iopub.status.busy": "2022-10-11T15:44:04.537084Z",
     "iopub.status.idle": "2022-10-11T15:44:04.754673Z",
     "shell.execute_reply": "2022-10-11T15:44:04.753822Z"
    },
    "papermill": {
     "duration": 0.257153,
     "end_time": "2022-10-11T15:44:04.756789",
     "exception": false,
     "start_time": "2022-10-11T15:44:04.499636",
     "status": "completed"
    },
    "tags": []
   },
   "outputs": [
    {
     "data": {
      "text/html": [
       "<div>\n",
       "<style scoped>\n",
       "    .dataframe tbody tr th:only-of-type {\n",
       "        vertical-align: middle;\n",
       "    }\n",
       "\n",
       "    .dataframe tbody tr th {\n",
       "        vertical-align: top;\n",
       "    }\n",
       "\n",
       "    .dataframe thead th {\n",
       "        text-align: right;\n",
       "    }\n",
       "</style>\n",
       "<table border=\"1\" class=\"dataframe\">\n",
       "  <thead>\n",
       "    <tr style=\"text-align: right;\">\n",
       "      <th></th>\n",
       "      <th>PassengerId</th>\n",
       "      <th>Pclass</th>\n",
       "      <th>Name</th>\n",
       "      <th>Sex</th>\n",
       "      <th>Age</th>\n",
       "      <th>SibSp</th>\n",
       "      <th>Parch</th>\n",
       "      <th>Ticket</th>\n",
       "      <th>Fare</th>\n",
       "      <th>Cabin</th>\n",
       "      <th>Embarked</th>\n",
       "    </tr>\n",
       "  </thead>\n",
       "  <tbody>\n",
       "    <tr>\n",
       "      <th>0</th>\n",
       "      <td>892</td>\n",
       "      <td>3</td>\n",
       "      <td>Kelly, Mr. James</td>\n",
       "      <td>male</td>\n",
       "      <td>34.5</td>\n",
       "      <td>0</td>\n",
       "      <td>0</td>\n",
       "      <td>330911</td>\n",
       "      <td>7.8292</td>\n",
       "      <td>NaN</td>\n",
       "      <td>3</td>\n",
       "    </tr>\n",
       "    <tr>\n",
       "      <th>1</th>\n",
       "      <td>893</td>\n",
       "      <td>3</td>\n",
       "      <td>Wilkes, Mrs. James (Ellen Needs)</td>\n",
       "      <td>female</td>\n",
       "      <td>47.0</td>\n",
       "      <td>1</td>\n",
       "      <td>0</td>\n",
       "      <td>363272</td>\n",
       "      <td>7.0000</td>\n",
       "      <td>NaN</td>\n",
       "      <td>1</td>\n",
       "    </tr>\n",
       "    <tr>\n",
       "      <th>2</th>\n",
       "      <td>894</td>\n",
       "      <td>2</td>\n",
       "      <td>Myles, Mr. Thomas Francis</td>\n",
       "      <td>male</td>\n",
       "      <td>62.0</td>\n",
       "      <td>0</td>\n",
       "      <td>0</td>\n",
       "      <td>240276</td>\n",
       "      <td>9.6875</td>\n",
       "      <td>NaN</td>\n",
       "      <td>3</td>\n",
       "    </tr>\n",
       "    <tr>\n",
       "      <th>3</th>\n",
       "      <td>895</td>\n",
       "      <td>3</td>\n",
       "      <td>Wirz, Mr. Albert</td>\n",
       "      <td>male</td>\n",
       "      <td>27.0</td>\n",
       "      <td>0</td>\n",
       "      <td>0</td>\n",
       "      <td>315154</td>\n",
       "      <td>8.6625</td>\n",
       "      <td>NaN</td>\n",
       "      <td>1</td>\n",
       "    </tr>\n",
       "    <tr>\n",
       "      <th>4</th>\n",
       "      <td>896</td>\n",
       "      <td>3</td>\n",
       "      <td>Hirvonen, Mrs. Alexander (Helga E Lindqvist)</td>\n",
       "      <td>female</td>\n",
       "      <td>22.0</td>\n",
       "      <td>1</td>\n",
       "      <td>1</td>\n",
       "      <td>3101298</td>\n",
       "      <td>12.2875</td>\n",
       "      <td>NaN</td>\n",
       "      <td>1</td>\n",
       "    </tr>\n",
       "  </tbody>\n",
       "</table>\n",
       "</div>"
      ],
      "text/plain": [
       "   PassengerId  Pclass                                          Name     Sex  \\\n",
       "0          892       3                              Kelly, Mr. James    male   \n",
       "1          893       3              Wilkes, Mrs. James (Ellen Needs)  female   \n",
       "2          894       2                     Myles, Mr. Thomas Francis    male   \n",
       "3          895       3                              Wirz, Mr. Albert    male   \n",
       "4          896       3  Hirvonen, Mrs. Alexander (Helga E Lindqvist)  female   \n",
       "\n",
       "    Age  SibSp  Parch   Ticket     Fare Cabin  Embarked  \n",
       "0  34.5      0      0   330911   7.8292   NaN         3  \n",
       "1  47.0      1      0   363272   7.0000   NaN         1  \n",
       "2  62.0      0      0   240276   9.6875   NaN         3  \n",
       "3  27.0      0      0   315154   8.6625   NaN         1  \n",
       "4  22.0      1      1  3101298  12.2875   NaN         1  "
      ]
     },
     "execution_count": 7,
     "metadata": {},
     "output_type": "execute_result"
    }
   ],
   "source": [
    "import category_encoders as ce\n",
    "encoder = ce.OrdinalEncoder(cols=['Embarked'])\n",
    "\n",
    "df = encoder.fit_transform(df)\n",
    "test = encoder.fit_transform(test)\n",
    "test.head()"
   ]
  },
  {
   "cell_type": "markdown",
   "id": "e17298b3",
   "metadata": {
    "papermill": {
     "duration": 0.036374,
     "end_time": "2022-10-11T15:44:04.830097",
     "exception": false,
     "start_time": "2022-10-11T15:44:04.793723",
     "status": "completed"
    },
    "tags": []
   },
   "source": [
    "# Examine Target Variable\n",
    "Survived is the Y variable we will be analyzing. Since the survival rete is 0.384 the data is not considered unbalanced. "
   ]
  },
  {
   "cell_type": "code",
   "execution_count": 8,
   "id": "6dd84b69",
   "metadata": {
    "execution": {
     "iopub.execute_input": "2022-10-11T15:44:04.905355Z",
     "iopub.status.busy": "2022-10-11T15:44:04.904927Z",
     "iopub.status.idle": "2022-10-11T15:44:04.912559Z",
     "shell.execute_reply": "2022-10-11T15:44:04.911677Z"
    },
    "papermill": {
     "duration": 0.048087,
     "end_time": "2022-10-11T15:44:04.915116",
     "exception": false,
     "start_time": "2022-10-11T15:44:04.867029",
     "status": "completed"
    },
    "tags": []
   },
   "outputs": [
    {
     "name": "stdout",
     "output_type": "stream",
     "text": [
      "0    549\n",
      "1    342\n",
      "Name: Survived, dtype: int64\n",
      "Percent that survived:  0.384\n"
     ]
    }
   ],
   "source": [
    "temp=df['Survived'].value_counts()\n",
    "print(temp)\n",
    "no=temp[0]\n",
    "yes=temp[1]\n",
    "percent=round(yes/(yes+no),3)\n",
    "print(\"Percent that survived: \", percent)"
   ]
  },
  {
   "cell_type": "markdown",
   "id": "afd3ef4a",
   "metadata": {
    "papermill": {
     "duration": 0.037675,
     "end_time": "2022-10-11T15:44:04.990973",
     "exception": false,
     "start_time": "2022-10-11T15:44:04.953298",
     "status": "completed"
    },
    "tags": []
   },
   "source": [
    "# Numeric DataFrame\n",
    "For now, we will analyze only numeric values. Categorical values will need to be encoded or analyzed individually."
   ]
  },
  {
   "cell_type": "code",
   "execution_count": 9,
   "id": "d59fd4b4",
   "metadata": {
    "execution": {
     "iopub.execute_input": "2022-10-11T15:44:05.070843Z",
     "iopub.status.busy": "2022-10-11T15:44:05.070529Z",
     "iopub.status.idle": "2022-10-11T15:44:05.087362Z",
     "shell.execute_reply": "2022-10-11T15:44:05.086510Z"
    },
    "papermill": {
     "duration": 0.060317,
     "end_time": "2022-10-11T15:44:05.089568",
     "exception": false,
     "start_time": "2022-10-11T15:44:05.029251",
     "status": "completed"
    },
    "tags": []
   },
   "outputs": [
    {
     "data": {
      "text/html": [
       "<div>\n",
       "<style scoped>\n",
       "    .dataframe tbody tr th:only-of-type {\n",
       "        vertical-align: middle;\n",
       "    }\n",
       "\n",
       "    .dataframe tbody tr th {\n",
       "        vertical-align: top;\n",
       "    }\n",
       "\n",
       "    .dataframe thead th {\n",
       "        text-align: right;\n",
       "    }\n",
       "</style>\n",
       "<table border=\"1\" class=\"dataframe\">\n",
       "  <thead>\n",
       "    <tr style=\"text-align: right;\">\n",
       "      <th></th>\n",
       "      <th>PassengerId</th>\n",
       "      <th>Survived</th>\n",
       "      <th>Pclass</th>\n",
       "      <th>Sex</th>\n",
       "      <th>Age</th>\n",
       "      <th>SibSp</th>\n",
       "      <th>Parch</th>\n",
       "      <th>Fare</th>\n",
       "      <th>Embarked</th>\n",
       "    </tr>\n",
       "  </thead>\n",
       "  <tbody>\n",
       "    <tr>\n",
       "      <th>0</th>\n",
       "      <td>1</td>\n",
       "      <td>0</td>\n",
       "      <td>3</td>\n",
       "      <td>1</td>\n",
       "      <td>22.0</td>\n",
       "      <td>1</td>\n",
       "      <td>0</td>\n",
       "      <td>7.2500</td>\n",
       "      <td>1</td>\n",
       "    </tr>\n",
       "    <tr>\n",
       "      <th>1</th>\n",
       "      <td>2</td>\n",
       "      <td>1</td>\n",
       "      <td>1</td>\n",
       "      <td>0</td>\n",
       "      <td>38.0</td>\n",
       "      <td>1</td>\n",
       "      <td>0</td>\n",
       "      <td>71.2833</td>\n",
       "      <td>2</td>\n",
       "    </tr>\n",
       "    <tr>\n",
       "      <th>2</th>\n",
       "      <td>3</td>\n",
       "      <td>1</td>\n",
       "      <td>3</td>\n",
       "      <td>0</td>\n",
       "      <td>26.0</td>\n",
       "      <td>0</td>\n",
       "      <td>0</td>\n",
       "      <td>7.9250</td>\n",
       "      <td>1</td>\n",
       "    </tr>\n",
       "    <tr>\n",
       "      <th>3</th>\n",
       "      <td>4</td>\n",
       "      <td>1</td>\n",
       "      <td>1</td>\n",
       "      <td>0</td>\n",
       "      <td>35.0</td>\n",
       "      <td>1</td>\n",
       "      <td>0</td>\n",
       "      <td>53.1000</td>\n",
       "      <td>1</td>\n",
       "    </tr>\n",
       "    <tr>\n",
       "      <th>4</th>\n",
       "      <td>5</td>\n",
       "      <td>0</td>\n",
       "      <td>3</td>\n",
       "      <td>1</td>\n",
       "      <td>35.0</td>\n",
       "      <td>0</td>\n",
       "      <td>0</td>\n",
       "      <td>8.0500</td>\n",
       "      <td>1</td>\n",
       "    </tr>\n",
       "  </tbody>\n",
       "</table>\n",
       "</div>"
      ],
      "text/plain": [
       "   PassengerId  Survived  Pclass  Sex   Age  SibSp  Parch     Fare  Embarked\n",
       "0            1         0       3    1  22.0      1      0   7.2500         1\n",
       "1            2         1       1    0  38.0      1      0  71.2833         2\n",
       "2            3         1       3    0  26.0      0      0   7.9250         1\n",
       "3            4         1       1    0  35.0      1      0  53.1000         1\n",
       "4            5         0       3    1  35.0      0      0   8.0500         1"
      ]
     },
     "execution_count": 9,
     "metadata": {},
     "output_type": "execute_result"
    }
   ],
   "source": [
    "numerics = ['int16', 'int32', 'int64', 'float16', 'float32', 'float64']\n",
    "df = df.select_dtypes(include=numerics)\n",
    "df.head()"
   ]
  },
  {
   "cell_type": "markdown",
   "id": "4e1b6d64",
   "metadata": {
    "papermill": {
     "duration": 0.039371,
     "end_time": "2022-10-11T15:44:05.168766",
     "exception": false,
     "start_time": "2022-10-11T15:44:05.129395",
     "status": "completed"
    },
    "tags": []
   },
   "source": [
    "# Correlations"
   ]
  },
  {
   "cell_type": "code",
   "execution_count": 10,
   "id": "3b558e9f",
   "metadata": {
    "execution": {
     "iopub.execute_input": "2022-10-11T15:44:05.245880Z",
     "iopub.status.busy": "2022-10-11T15:44:05.245338Z",
     "iopub.status.idle": "2022-10-11T15:44:05.776409Z",
     "shell.execute_reply": "2022-10-11T15:44:05.775784Z"
    },
    "papermill": {
     "duration": 0.571891,
     "end_time": "2022-10-11T15:44:05.778462",
     "exception": false,
     "start_time": "2022-10-11T15:44:05.206571",
     "status": "completed"
    },
    "tags": []
   },
   "outputs": [
    {
     "data": {
      "text/plain": [
       "<AxesSubplot:>"
      ]
     },
     "execution_count": 10,
     "metadata": {},
     "output_type": "execute_result"
    },
    {
     "data": {
      "image/png": "[encoded data removed]",
      "text/plain": [
       "<Figure size 432x288 with 2 Axes>"
      ]
     },
     "metadata": {
      "needs_background": "light"
     },
     "output_type": "display_data"
    }
   ],
   "source": [
    "import seaborn as sns\n",
    "corr= df.corr()\n",
    "matrix = np.triu(corr)\n",
    "sns.heatmap(corr, annot=True, mask=matrix)"
   ]
  },
  {
   "cell_type": "markdown",
   "id": "177cd97e",
   "metadata": {
    "papermill": {
     "duration": 0.039586,
     "end_time": "2022-10-11T15:44:05.858649",
     "exception": false,
     "start_time": "2022-10-11T15:44:05.819063",
     "status": "completed"
    },
    "tags": []
   },
   "source": [
    "# Check for missing values\n",
    "Age is missing around 20% of values.Therefore, we can simply fill in the mean for that one column."
   ]
  },
  {
   "cell_type": "code",
   "execution_count": 11,
   "id": "62ea3968",
   "metadata": {
    "execution": {
     "iopub.execute_input": "2022-10-11T15:44:05.942097Z",
     "iopub.status.busy": "2022-10-11T15:44:05.941743Z",
     "iopub.status.idle": "2022-10-11T15:44:05.950041Z",
     "shell.execute_reply": "2022-10-11T15:44:05.949128Z"
    },
    "papermill": {
     "duration": 0.05431,
     "end_time": "2022-10-11T15:44:05.952495",
     "exception": false,
     "start_time": "2022-10-11T15:44:05.898185",
     "status": "completed"
    },
    "tags": []
   },
   "outputs": [
    {
     "name": "stdout",
     "output_type": "stream",
     "text": [
      "Missing data by column as a percent:\n",
      "Age            0.198653\n",
      "PassengerId    0.000000\n",
      "Survived       0.000000\n",
      "Pclass         0.000000\n",
      "Sex            0.000000\n",
      "dtype: float64\n"
     ]
    }
   ],
   "source": [
    "#search for columns with missing values:\n",
    "def findNA():\n",
    "    print(\"Missing data by column as a percent:\")\n",
    "    findNA=df.isnull().sum().sort_values(ascending=False)/len(df)\n",
    "    print(findNA.head())\n",
    "findNA() "
   ]
  },
  {
   "cell_type": "code",
   "execution_count": 12,
   "id": "60af2de1",
   "metadata": {
    "execution": {
     "iopub.execute_input": "2022-10-11T15:44:06.035339Z",
     "iopub.status.busy": "2022-10-11T15:44:06.035076Z",
     "iopub.status.idle": "2022-10-11T15:44:06.043028Z",
     "shell.execute_reply": "2022-10-11T15:44:06.042261Z"
    },
    "papermill": {
     "duration": 0.051622,
     "end_time": "2022-10-11T15:44:06.045182",
     "exception": false,
     "start_time": "2022-10-11T15:44:05.993560",
     "status": "completed"
    },
    "tags": []
   },
   "outputs": [],
   "source": [
    "df= df.fillna(df.mean())"
   ]
  },
  {
   "cell_type": "markdown",
   "id": "9ec75c3f",
   "metadata": {
    "papermill": {
     "duration": 0.040112,
     "end_time": "2022-10-11T15:44:06.125076",
     "exception": false,
     "start_time": "2022-10-11T15:44:06.084964",
     "status": "completed"
    },
    "tags": []
   },
   "source": [
    "# Split Data"
   ]
  },
  {
   "cell_type": "code",
   "execution_count": 13,
   "id": "6d0ed8be",
   "metadata": {
    "execution": {
     "iopub.execute_input": "2022-10-11T15:44:06.207254Z",
     "iopub.status.busy": "2022-10-11T15:44:06.206968Z",
     "iopub.status.idle": "2022-10-11T15:44:06.214786Z",
     "shell.execute_reply": "2022-10-11T15:44:06.214103Z"
    },
    "papermill": {
     "duration": 0.051743,
     "end_time": "2022-10-11T15:44:06.217007",
     "exception": false,
     "start_time": "2022-10-11T15:44:06.165264",
     "status": "completed"
    },
    "tags": []
   },
   "outputs": [],
   "source": [
    "X=df.drop('Survived', axis=1)\n",
    "y=df['Survived']\n",
    "\n",
    "X_train, X_test, y_train, y_test = train_test_split(\n",
    "    X, y, test_size = 0.25, random_state = 42)"
   ]
  },
  {
   "cell_type": "markdown",
   "id": "abf175e9",
   "metadata": {
    "papermill": {
     "duration": 0.04026,
     "end_time": "2022-10-11T15:44:06.297663",
     "exception": false,
     "start_time": "2022-10-11T15:44:06.257403",
     "status": "completed"
    },
    "tags": []
   },
   "source": [
    "# Highly Correlated Features\n",
    "There are no highly correlated variables above 80%. Therefore, we do not need to be concerned about removing variables that are too highly correlated. "
   ]
  },
  {
   "cell_type": "markdown",
   "id": "9ab49bf1",
   "metadata": {
    "papermill": {
     "duration": 0.039548,
     "end_time": "2022-10-11T15:44:06.377784",
     "exception": false,
     "start_time": "2022-10-11T15:44:06.338236",
     "status": "completed"
    },
    "tags": []
   },
   "source": [
    "# XGBOOST"
   ]
  },
  {
   "cell_type": "code",
   "execution_count": 14,
   "id": "d9b477fe",
   "metadata": {
    "execution": {
     "iopub.execute_input": "2022-10-11T15:44:06.460317Z",
     "iopub.status.busy": "2022-10-11T15:44:06.459525Z",
     "iopub.status.idle": "2022-10-11T15:44:09.355834Z",
     "shell.execute_reply": "2022-10-11T15:44:09.354973Z"
    },
    "papermill": {
     "duration": 2.939576,
     "end_time": "2022-10-11T15:44:09.357889",
     "exception": false,
     "start_time": "2022-10-11T15:44:06.418313",
     "status": "completed"
    },
    "tags": []
   },
   "outputs": [
    {
     "data": {
      "image/png": "[encoded data removed]",
      "text/plain": [
       "<Figure size 432x288 with 1 Axes>"
      ]
     },
     "metadata": {
      "needs_background": "light"
     },
     "output_type": "display_data"
    },
    {
     "data": {
      "image/png": "[encoded data removed]",
      "text/plain": [
       "<Figure size 432x288 with 1 Axes>"
      ]
     },
     "metadata": {
      "needs_background": "light"
     },
     "output_type": "display_data"
    }
   ],
   "source": [
    "import xgboost as xgb\n",
    "from xgboost import XGBClassifier\n",
    "\n",
    "weight=[.01, 1, 3, 5, 7, 9, 11, 13]\n",
    "listMSE=[]\n",
    "listR2=[]\n",
    "\n",
    "for w in weight:\n",
    "    boost_gs = xgb.XGBRegressor(\n",
    "        min_child_weight=w\n",
    "    )\n",
    "    boost_gs.fit(X_train, y_train)\n",
    "    y_pred = boost_gs.predict(X_test)\n",
    "\n",
    "    xgMSE=mean_absolute_error(y_test, y_pred)\n",
    "    xgR2 = r2_score(y_test, y_pred).round(4)\n",
    "    listMSE.append(xgMSE)\n",
    "    listR2.append(xgR2)\n",
    "plt.plot(weight, listMSE)\n",
    "plt.title('Child Weight Error')\n",
    "plt.ylabel('Error')\n",
    "plt.xlabel('Weight')\n",
    "plt.legend()\n",
    "plt.show()\n",
    "\n",
    "plt.plot(weight, listR2)\n",
    "plt.title('Weight R2')\n",
    "plt.ylabel('Accurate')\n",
    "plt.xlabel('Weight')\n",
    "plt.legend()\n",
    "plt.show()"
   ]
  },
  {
   "cell_type": "code",
   "execution_count": 15,
   "id": "e3a1ce6f",
   "metadata": {
    "execution": {
     "iopub.execute_input": "2022-10-11T15:44:09.443587Z",
     "iopub.status.busy": "2022-10-11T15:44:09.442929Z",
     "iopub.status.idle": "2022-10-11T15:44:11.909966Z",
     "shell.execute_reply": "2022-10-11T15:44:11.909110Z"
    },
    "papermill": {
     "duration": 2.512319,
     "end_time": "2022-10-11T15:44:11.912194",
     "exception": false,
     "start_time": "2022-10-11T15:44:09.399875",
     "status": "completed"
    },
    "tags": []
   },
   "outputs": [
    {
     "data": {
      "image/png": "[encoded data removed]",
      "text/plain": [
       "<Figure size 432x288 with 1 Axes>"
      ]
     },
     "metadata": {
      "needs_background": "light"
     },
     "output_type": "display_data"
    },
    {
     "data": {
      "image/png": "[encoded data removed]",
      "text/plain": [
       "<Figure size 432x288 with 1 Axes>"
      ]
     },
     "metadata": {
      "needs_background": "light"
     },
     "output_type": "display_data"
    }
   ],
   "source": [
    "nEst=[2, 10, 20, 30, 40, 50, 100, 150, 200]\n",
    "listMSE=[]\n",
    "listR2=[]\n",
    "\n",
    "for n in nEst:\n",
    "    boost_gs = xgb.XGBRegressor(\n",
    "        n_estimators=n,\n",
    "    )\n",
    "    boost_gs.fit(X_train, y_train)\n",
    "    y_pred = boost_gs.predict(X_test)\n",
    "\n",
    "    xgMSE=mean_absolute_error(y_test, y_pred)\n",
    "    xgR2 = r2_score(y_test, y_pred).round(4)\n",
    "    listMSE.append(xgMSE)\n",
    "    listR2.append(xgR2)\n",
    "plt.plot(nEst, listMSE)\n",
    "plt.title('nEstimators Error')\n",
    "plt.ylabel('Error')\n",
    "plt.xlabel('N Estimators')\n",
    "plt.legend()\n",
    "plt.show()\n",
    "\n",
    "plt.plot(nEst, listR2)\n",
    "plt.title('nEstimators R2')\n",
    "plt.ylabel('Accurate')\n",
    "plt.xlabel('N Estimators')\n",
    "plt.legend()\n",
    "plt.show()"
   ]
  },
  {
   "cell_type": "code",
   "execution_count": 16,
   "id": "ea7b8978",
   "metadata": {
    "execution": {
     "iopub.execute_input": "2022-10-11T15:44:12.001300Z",
     "iopub.status.busy": "2022-10-11T15:44:12.000492Z",
     "iopub.status.idle": "2022-10-11T15:44:16.626811Z",
     "shell.execute_reply": "2022-10-11T15:44:16.625819Z"
    },
    "papermill": {
     "duration": 4.673561,
     "end_time": "2022-10-11T15:44:16.629296",
     "exception": false,
     "start_time": "2022-10-11T15:44:11.955735",
     "status": "completed"
    },
    "tags": []
   },
   "outputs": [
    {
     "data": {
      "image/png": "[encoded data removed]",
      "text/plain": [
       "<Figure size 432x288 with 1 Axes>"
      ]
     },
     "metadata": {
      "needs_background": "light"
     },
     "output_type": "display_data"
    },
    {
     "data": {
      "image/png": "[encoded data removed]",
      "text/plain": [
       "<Figure size 432x288 with 1 Axes>"
      ]
     },
     "metadata": {
      "needs_background": "light"
     },
     "output_type": "display_data"
    }
   ],
   "source": [
    "maxDepth=[2, 3, 4, 5, 6, 7, 8, 9, 10, 11]\n",
    "listMSE=[]\n",
    "listR2=[]\n",
    "\n",
    "for d in maxDepth:\n",
    "    boost_gs = xgb.XGBRegressor(\n",
    "        max_depth=d\n",
    "    )\n",
    "    boost_gs.fit(X_train, y_train)\n",
    "    y_pred = boost_gs.predict(X_test)\n",
    "\n",
    "    xgMSE=mean_absolute_error(y_test, y_pred)\n",
    "    xgR2 = r2_score(y_test, y_pred).round(4)\n",
    "    listMSE.append(xgMSE)\n",
    "    listR2.append(xgR2)\n",
    "plt.plot(maxDepth, listMSE)\n",
    "plt.title('MaxDepth Error')\n",
    "plt.ylabel('Error')\n",
    "plt.xlabel('Max Depth')\n",
    "plt.legend()\n",
    "plt.show()\n",
    "\n",
    "plt.plot(maxDepth, listR2)\n",
    "plt.title('MaxDepth Accuracy')\n",
    "plt.ylabel('Accuracy')\n",
    "plt.xlabel('MaxDepth')\n",
    "plt.legend()\n",
    "plt.show()"
   ]
  },
  {
   "cell_type": "code",
   "execution_count": 17,
   "id": "a5deaebd",
   "metadata": {
    "execution": {
     "iopub.execute_input": "2022-10-11T15:44:16.722973Z",
     "iopub.status.busy": "2022-10-11T15:44:16.722381Z",
     "iopub.status.idle": "2022-10-11T15:44:18.709647Z",
     "shell.execute_reply": "2022-10-11T15:44:18.708756Z"
    },
    "papermill": {
     "duration": 2.036694,
     "end_time": "2022-10-11T15:44:18.711878",
     "exception": false,
     "start_time": "2022-10-11T15:44:16.675184",
     "status": "completed"
    },
    "tags": []
   },
   "outputs": [
    {
     "data": {
      "image/png": "[encoded data removed]",
      "text/plain": [
       "<Figure size 432x288 with 1 Axes>"
      ]
     },
     "metadata": {
      "needs_background": "light"
     },
     "output_type": "display_data"
    },
    {
     "data": {
      "image/png": "[encoded data removed]",
      "text/plain": [
       "<Figure size 432x288 with 1 Axes>"
      ]
     },
     "metadata": {
      "needs_background": "light"
     },
     "output_type": "display_data"
    }
   ],
   "source": [
    "eta=[.01, .02, .03, .04, .05]\n",
    "listMSE=[]\n",
    "listR2=[]\n",
    "\n",
    "for e in eta:\n",
    "    boost_gs = xgb.XGBRegressor(\n",
    "        eta=e\n",
    "    )\n",
    "    boost_gs.fit(X_train, y_train)\n",
    "    y_pred = boost_gs.predict(X_test)\n",
    "\n",
    "    xgMSE=mean_absolute_error(y_test, y_pred)\n",
    "    xgR2 = r2_score(y_test, y_pred).round(4)\n",
    "    listMSE.append(xgMSE)\n",
    "    listR2.append(xgR2)\n",
    "plt.plot(eta, listMSE)\n",
    "plt.title('Eta Error')\n",
    "plt.ylabel('Error')\n",
    "plt.xlabel('Eta')\n",
    "plt.legend()\n",
    "plt.show()\n",
    "\n",
    "plt.plot(eta, listR2)\n",
    "plt.title('Eta R2')\n",
    "plt.ylabel('Accurate')\n",
    "plt.xlabel('Eta')\n",
    "plt.legend()\n",
    "plt.show()"
   ]
  },
  {
   "cell_type": "code",
   "execution_count": 18,
   "id": "59bececf",
   "metadata": {
    "execution": {
     "iopub.execute_input": "2022-10-11T15:44:18.808824Z",
     "iopub.status.busy": "2022-10-11T15:44:18.808522Z",
     "iopub.status.idle": "2022-10-11T15:44:21.390629Z",
     "shell.execute_reply": "2022-10-11T15:44:21.389690Z"
    },
    "papermill": {
     "duration": 2.633384,
     "end_time": "2022-10-11T15:44:21.392919",
     "exception": false,
     "start_time": "2022-10-11T15:44:18.759535",
     "status": "completed"
    },
    "tags": []
   },
   "outputs": [
    {
     "data": {
      "image/png": "[encoded data removed]",
      "text/plain": [
       "<Figure size 432x288 with 1 Axes>"
      ]
     },
     "metadata": {
      "needs_background": "light"
     },
     "output_type": "display_data"
    },
    {
     "data": {
      "image/png": "[encoded data removed]",
      "text/plain": [
       "<Figure size 432x288 with 1 Axes>"
      ]
     },
     "metadata": {
      "needs_background": "light"
     },
     "output_type": "display_data"
    }
   ],
   "source": [
    "gammas=[0, 0.25, 0.5, 1.0, 3, 5, 10]\n",
    "listMSE=[]\n",
    "listR2=[]\n",
    "\n",
    "for g in gammas:\n",
    "    boost_gs = xgb.XGBRegressor(\n",
    "        gamma=g,\n",
    "    )\n",
    "    boost_gs.fit(X_train, y_train)\n",
    "    y_pred = boost_gs.predict(X_test)\n",
    "\n",
    "    xgMSE=mean_absolute_error(y_test, y_pred)\n",
    "    xgR2 = r2_score(y_test, y_pred).round(4)\n",
    "    listMSE.append(xgMSE)\n",
    "    listR2.append(xgR2)\n",
    "    \n",
    "plt.plot(gammas, listMSE)\n",
    "plt.title('Gamma Error')\n",
    "plt.ylabel('Error')\n",
    "plt.xlabel('Gammas')\n",
    "plt.legend()\n",
    "plt.show()\n",
    "\n",
    "plt.plot(gammas, listR2)\n",
    "plt.title('Gamma R2')\n",
    "plt.ylabel('Accurate')\n",
    "plt.xlabel('Gammas')\n",
    "plt.legend()\n",
    "plt.show()"
   ]
  },
  {
   "cell_type": "code",
   "execution_count": 19,
   "id": "2cbe9e7f",
   "metadata": {
    "execution": {
     "iopub.execute_input": "2022-10-11T15:44:21.492556Z",
     "iopub.status.busy": "2022-10-11T15:44:21.492280Z",
     "iopub.status.idle": "2022-10-11T15:44:23.048417Z",
     "shell.execute_reply": "2022-10-11T15:44:23.047798Z"
    },
    "papermill": {
     "duration": 1.608729,
     "end_time": "2022-10-11T15:44:23.050459",
     "exception": false,
     "start_time": "2022-10-11T15:44:21.441730",
     "status": "completed"
    },
    "tags": []
   },
   "outputs": [
    {
     "data": {
      "image/png": "[encoded data removed]",
      "text/plain": [
       "<Figure size 432x288 with 1 Axes>"
      ]
     },
     "metadata": {
      "needs_background": "light"
     },
     "output_type": "display_data"
    },
    {
     "data": {
      "image/png": "[encoded data removed]",
      "text/plain": [
       "<Figure size 432x288 with 1 Axes>"
      ]
     },
     "metadata": {
      "needs_background": "light"
     },
     "output_type": "display_data"
    }
   ],
   "source": [
    "regLam = [0.1, 1.0, 2, 3, 4, 5.0, 10.0]\n",
    "listMSE=[]\n",
    "listR2=[]\n",
    "\n",
    "for r in regLam:\n",
    "    boost_gs = xgb.XGBRegressor(\n",
    "        n_estimators=50,\n",
    "        reg_lambda=r,\n",
    "    )\n",
    "    boost_gs.fit(X_train, y_train)\n",
    "    y_pred = boost_gs.predict(X_test)\n",
    "\n",
    "    xgMSE=mean_absolute_error(y_test, y_pred)\n",
    "    xgR2 = r2_score(y_test, y_pred).round(4)\n",
    "    listMSE.append(xgMSE)\n",
    "    listR2.append(xgR2)\n",
    "    \n",
    "plt.plot(regLam, listMSE)\n",
    "plt.title('RegLam Error')\n",
    "plt.ylabel('Error')\n",
    "plt.xlabel('RegLam')\n",
    "plt.legend()\n",
    "plt.show()\n",
    "\n",
    "plt.plot(regLam, listR2)\n",
    "plt.title('RegLam R2')\n",
    "plt.ylabel('Accurate')\n",
    "plt.xlabel('RegLam')\n",
    "plt.legend()\n",
    "plt.show()"
   ]
  },
  {
   "cell_type": "code",
   "execution_count": 20,
   "id": "dd0839b4",
   "metadata": {
    "execution": {
     "iopub.execute_input": "2022-10-11T15:44:23.154311Z",
     "iopub.status.busy": "2022-10-11T15:44:23.154043Z",
     "iopub.status.idle": "2022-10-11T15:44:25.349931Z",
     "shell.execute_reply": "2022-10-11T15:44:25.349295Z"
    },
    "papermill": {
     "duration": 2.250306,
     "end_time": "2022-10-11T15:44:25.351899",
     "exception": false,
     "start_time": "2022-10-11T15:44:23.101593",
     "status": "completed"
    },
    "tags": []
   },
   "outputs": [
    {
     "data": {
      "image/png": "[encoded data removed]",
      "text/plain": [
       "<Figure size 432x288 with 1 Axes>"
      ]
     },
     "metadata": {
      "needs_background": "light"
     },
     "output_type": "display_data"
    },
    {
     "data": {
      "image/png": "[encoded data removed]",
      "text/plain": [
       "<Figure size 432x288 with 1 Axes>"
      ]
     },
     "metadata": {
      "needs_background": "light"
     },
     "output_type": "display_data"
    }
   ],
   "source": [
    "regAlpha = [0.1, 1.0, 2, 3, 4, 5.0, 10.0]\n",
    "listMSE=[]\n",
    "listR2=[]\n",
    "\n",
    "for r in regAlpha:\n",
    "    boost_gs = xgb.XGBRegressor(\n",
    "        reg_alpha=r,\n",
    "    )\n",
    "    boost_gs.fit(X_train, y_train)\n",
    "    y_pred = boost_gs.predict(X_test)\n",
    "\n",
    "    xgMSE=mean_absolute_error(y_test, y_pred)\n",
    "    xgR2 = r2_score(y_test, y_pred).round(4)\n",
    "    listMSE.append(xgMSE)\n",
    "    listR2.append(xgR2)\n",
    "    \n",
    "plt.plot(regAlpha, listMSE)\n",
    "plt.title('RegAlpha Error')\n",
    "plt.ylabel('Error')\n",
    "plt.xlabel('RegAlpha')\n",
    "plt.legend()\n",
    "plt.show()\n",
    "\n",
    "plt.plot(regAlpha, listR2)\n",
    "plt.title('RegAlpha R2')\n",
    "plt.ylabel('Accurate')\n",
    "plt.xlabel('RegAlpha')\n",
    "plt.legend()\n",
    "plt.show()"
   ]
  },
  {
   "cell_type": "markdown",
   "id": "cbcb2820",
   "metadata": {
    "papermill": {
     "duration": 0.053284,
     "end_time": "2022-10-11T15:44:25.459975",
     "exception": false,
     "start_time": "2022-10-11T15:44:25.406691",
     "status": "completed"
    },
    "tags": []
   },
   "source": [
    "# GridSearch \n",
    "* Top 18%:   {'gamma': 2, 'learning_rate': 0.3, 'max_depth': 3, 'min_child_weight': 1, 'n_estimators': 100}\n",
    "\n",
    "* Top 5%  {'eta': 0.05, 'gamma': 5, 'learning_rate': 0.3, 'max_depth': 5, 'min_child_weight': 5, 'n_estimators': 50, 'reg_lambda': 5}"
   ]
  },
  {
   "cell_type": "code",
   "execution_count": 21,
   "id": "108e627f",
   "metadata": {
    "execution": {
     "iopub.execute_input": "2022-10-11T15:44:25.569571Z",
     "iopub.status.busy": "2022-10-11T15:44:25.568993Z",
     "iopub.status.idle": "2022-10-11T15:46:27.023474Z",
     "shell.execute_reply": "2022-10-11T15:46:27.022741Z"
    },
    "papermill": {
     "duration": 121.566622,
     "end_time": "2022-10-11T15:46:27.081131",
     "exception": false,
     "start_time": "2022-10-11T15:44:25.514509",
     "status": "completed"
    },
    "tags": []
   },
   "outputs": [
    {
     "name": "stdout",
     "output_type": "stream",
     "text": [
      "Start\n",
      "{'eta': 0.05, 'gamma': 5, 'learning_rate': 0.3, 'max_depth': 5, 'min_child_weight': 5, 'n_estimators': 50, 'reg_alpha': 0.01, 'reg_lambda': 1}\n",
      "Done.  121.44494867324829  seconds\n"
     ]
    }
   ],
   "source": [
    "from sklearn.model_selection import GridSearchCV, StratifiedKFold\n",
    "import time\n",
    "import warnings\n",
    "warnings.filterwarnings(\"ignore\")\n",
    "\n",
    "def gridSearch():\n",
    "    start=time.time()\n",
    "    print(\"Start\")\n",
    "\n",
    "    params = {\n",
    "            'learning_rate': [0.01, 0.3],\n",
    "            'n_estimators':[50],\n",
    "            'gamma': [5],\n",
    "            'max_depth': [5, 6, 8],\n",
    "            'min_child_weight':[.01, 5],\n",
    "            'reg_lambda':[1, 5],\n",
    "            'reg_alpha':[.01, 1, 2],\n",
    "            'eta':[.05]\n",
    "            }\n",
    "\n",
    "    boost = xgb.XGBClassifier()\n",
    "    kfold = StratifiedKFold(n_splits=10, shuffle=True, random_state=7)\n",
    "    boost_gs = GridSearchCV(boost,param_grid=params,cv=kfold,scoring=\"accuracy\")\n",
    "    boost_gs.fit(X_train,y_train)\n",
    "\n",
    "    print(boost_gs.best_params_)\n",
    "    print(\"Done. \" , time.time()-start, \" seconds\")\n",
    "gridSearch()"
   ]
  },
  {
   "cell_type": "markdown",
   "id": "5902026d",
   "metadata": {
    "papermill": {
     "duration": 0.054316,
     "end_time": "2022-10-11T15:46:27.188945",
     "exception": false,
     "start_time": "2022-10-11T15:46:27.134629",
     "status": "completed"
    },
    "tags": []
   },
   "source": [
    "## Final xgBoost Prediction\n",
    "* Top 5%  {'eta': 0.05, 'gamma': 5, 'learning_rate': 0.3, 'max_depth': 5, 'min_child_weight': 5, 'n_estimators': 50, 'reg_lambda': 5}\n",
    "* Top 5% {'gamma': 5, 'learning_rate': 0.3, 'max_depth': 8, 'min_child_weight': 0.01, 'n_estimators': 20, 'reg_alpha': 0.01, 'reg_lambda': 1}"
   ]
  },
  {
   "cell_type": "code",
   "execution_count": 22,
   "id": "4971f6f4",
   "metadata": {
    "execution": {
     "iopub.execute_input": "2022-10-11T15:46:27.298366Z",
     "iopub.status.busy": "2022-10-11T15:46:27.298079Z",
     "iopub.status.idle": "2022-10-11T15:46:28.373201Z",
     "shell.execute_reply": "2022-10-11T15:46:28.372363Z"
    },
    "papermill": {
     "duration": 1.132745,
     "end_time": "2022-10-11T15:46:28.375697",
     "exception": false,
     "start_time": "2022-10-11T15:46:27.242952",
     "status": "completed"
    },
    "tags": []
   },
   "outputs": [
    {
     "name": "stdout",
     "output_type": "stream",
     "text": [
      "0.8227  ||  0.8117\n",
      "-0.01100000000000001  cross validate score\n"
     ]
    }
   ],
   "source": [
    "boost_gs = xgb.XGBClassifier(\n",
    "    n_estimators=50,\n",
    "    max_depth=5,\n",
    "    min_child_weight=5,\n",
    "    learning_rate=0.3,\n",
    "    eta=0.05,\n",
    "    gamma=5,\n",
    "    reg_lambda=1,\n",
    "    reg_alpha=.01\n",
    ")\n",
    "\n",
    "#regressor.fit(X_train, y_train, early_stopping_rounds=5, eval_set=[(X_test, y_test)], verbose=False)\n",
    "boost_gs.fit(X_train, y_train, early_stopping_rounds=5, eval_set=[(X_test, y_test)], verbose=False)\n",
    "y_pred = boost_gs.predict(X_test)\n",
    "\n",
    "xgMSE=mean_absolute_error(y_test, y_pred)\n",
    "xgR2 = r2_score(y_test, y_pred).round(4)\n",
    "listMSE.append(xgMSE)\n",
    "listR2.append(xgR2)\n",
    "\n",
    "boostScore = boost_gs.score(X_test, y_test).round(4)  \n",
    "boostCV = cross_validate(boost_gs, X, y, cv = 5)\n",
    "boostCV=boostCV['test_score'].mean().round(4)\n",
    "print(boostCV, ' || ', boostScore)\n",
    "print(boostScore-boostCV, \" cross validate score\")"
   ]
  },
  {
   "cell_type": "markdown",
   "id": "1f2d4c0c",
   "metadata": {
    "papermill": {
     "duration": 0.057286,
     "end_time": "2022-10-11T15:46:28.489743",
     "exception": false,
     "start_time": "2022-10-11T15:46:28.432457",
     "status": "completed"
    },
    "tags": []
   },
   "source": [
    "# Feature Importance"
   ]
  },
  {
   "cell_type": "code",
   "execution_count": 23,
   "id": "5889539b",
   "metadata": {
    "execution": {
     "iopub.execute_input": "2022-10-11T15:46:28.601648Z",
     "iopub.status.busy": "2022-10-11T15:46:28.601330Z",
     "iopub.status.idle": "2022-10-11T15:46:28.829185Z",
     "shell.execute_reply": "2022-10-11T15:46:28.828084Z"
    },
    "papermill": {
     "duration": 0.287067,
     "end_time": "2022-10-11T15:46:28.831764",
     "exception": false,
     "start_time": "2022-10-11T15:46:28.544697",
     "status": "completed"
    },
    "tags": []
   },
   "outputs": [
    {
     "data": {
      "image/png": "[encoded data removed]",
      "text/plain": [
       "<Figure size 432x288 with 1 Axes>"
      ]
     },
     "metadata": {
      "needs_background": "light"
     },
     "output_type": "display_data"
    }
   ],
   "source": [
    "from matplotlib import pyplot as plt\n",
    "xgb.plot_importance(boost_gs)\n",
    "plt.show()"
   ]
  },
  {
   "cell_type": "markdown",
   "id": "42847512",
   "metadata": {
    "papermill": {
     "duration": 0.055247,
     "end_time": "2022-10-11T15:46:28.942802",
     "exception": false,
     "start_time": "2022-10-11T15:46:28.887555",
     "status": "completed"
    },
    "tags": []
   },
   "source": [
    "# Test Data"
   ]
  },
  {
   "cell_type": "code",
   "execution_count": 24,
   "id": "7f952f92",
   "metadata": {
    "execution": {
     "iopub.execute_input": "2022-10-11T15:46:29.056232Z",
     "iopub.status.busy": "2022-10-11T15:46:29.055911Z",
     "iopub.status.idle": "2022-10-11T15:46:29.074969Z",
     "shell.execute_reply": "2022-10-11T15:46:29.074347Z"
    },
    "papermill": {
     "duration": 0.078983,
     "end_time": "2022-10-11T15:46:29.076972",
     "exception": false,
     "start_time": "2022-10-11T15:46:28.997989",
     "status": "completed"
    },
    "tags": []
   },
   "outputs": [
    {
     "data": {
      "text/html": [
       "<div>\n",
       "<style scoped>\n",
       "    .dataframe tbody tr th:only-of-type {\n",
       "        vertical-align: middle;\n",
       "    }\n",
       "\n",
       "    .dataframe tbody tr th {\n",
       "        vertical-align: top;\n",
       "    }\n",
       "\n",
       "    .dataframe thead th {\n",
       "        text-align: right;\n",
       "    }\n",
       "</style>\n",
       "<table border=\"1\" class=\"dataframe\">\n",
       "  <thead>\n",
       "    <tr style=\"text-align: right;\">\n",
       "      <th></th>\n",
       "      <th>PassengerId</th>\n",
       "      <th>Pclass</th>\n",
       "      <th>Sex</th>\n",
       "      <th>Age</th>\n",
       "      <th>SibSp</th>\n",
       "      <th>Parch</th>\n",
       "      <th>Fare</th>\n",
       "      <th>Embarked</th>\n",
       "    </tr>\n",
       "  </thead>\n",
       "  <tbody>\n",
       "    <tr>\n",
       "      <th>0</th>\n",
       "      <td>892</td>\n",
       "      <td>3</td>\n",
       "      <td>1</td>\n",
       "      <td>34.5</td>\n",
       "      <td>0</td>\n",
       "      <td>0</td>\n",
       "      <td>7.8292</td>\n",
       "      <td>3</td>\n",
       "    </tr>\n",
       "    <tr>\n",
       "      <th>1</th>\n",
       "      <td>893</td>\n",
       "      <td>3</td>\n",
       "      <td>0</td>\n",
       "      <td>47.0</td>\n",
       "      <td>1</td>\n",
       "      <td>0</td>\n",
       "      <td>7.0000</td>\n",
       "      <td>1</td>\n",
       "    </tr>\n",
       "    <tr>\n",
       "      <th>2</th>\n",
       "      <td>894</td>\n",
       "      <td>2</td>\n",
       "      <td>1</td>\n",
       "      <td>62.0</td>\n",
       "      <td>0</td>\n",
       "      <td>0</td>\n",
       "      <td>9.6875</td>\n",
       "      <td>3</td>\n",
       "    </tr>\n",
       "    <tr>\n",
       "      <th>3</th>\n",
       "      <td>895</td>\n",
       "      <td>3</td>\n",
       "      <td>1</td>\n",
       "      <td>27.0</td>\n",
       "      <td>0</td>\n",
       "      <td>0</td>\n",
       "      <td>8.6625</td>\n",
       "      <td>1</td>\n",
       "    </tr>\n",
       "    <tr>\n",
       "      <th>4</th>\n",
       "      <td>896</td>\n",
       "      <td>3</td>\n",
       "      <td>0</td>\n",
       "      <td>22.0</td>\n",
       "      <td>1</td>\n",
       "      <td>1</td>\n",
       "      <td>12.2875</td>\n",
       "      <td>1</td>\n",
       "    </tr>\n",
       "  </tbody>\n",
       "</table>\n",
       "</div>"
      ],
      "text/plain": [
       "   PassengerId  Pclass  Sex   Age  SibSp  Parch     Fare  Embarked\n",
       "0          892       3    1  34.5      0      0   7.8292         3\n",
       "1          893       3    0  47.0      1      0   7.0000         1\n",
       "2          894       2    1  62.0      0      0   9.6875         3\n",
       "3          895       3    1  27.0      0      0   8.6625         1\n",
       "4          896       3    0  22.0      1      1  12.2875         1"
      ]
     },
     "execution_count": 24,
     "metadata": {},
     "output_type": "execute_result"
    }
   ],
   "source": [
    "#GENDER\n",
    "test['Sex']=test['Sex'].map({'female':0,'male':1})\n",
    "\n",
    "features=list(X.columns)\n",
    "test=test[features]\n",
    "\n",
    "test=test.fillna(test.mean())\n",
    "test.head()"
   ]
  },
  {
   "cell_type": "markdown",
   "id": "729b917e",
   "metadata": {
    "papermill": {
     "duration": 0.056288,
     "end_time": "2022-10-11T15:46:29.189623",
     "exception": false,
     "start_time": "2022-10-11T15:46:29.133335",
     "status": "completed"
    },
    "tags": []
   },
   "source": [
    "# Final Prediction"
   ]
  },
  {
   "cell_type": "code",
   "execution_count": 25,
   "id": "04a985a2",
   "metadata": {
    "execution": {
     "iopub.execute_input": "2022-10-11T15:46:29.303998Z",
     "iopub.status.busy": "2022-10-11T15:46:29.303475Z",
     "iopub.status.idle": "2022-10-11T15:46:29.321204Z",
     "shell.execute_reply": "2022-10-11T15:46:29.320420Z"
    },
    "papermill": {
     "duration": 0.077647,
     "end_time": "2022-10-11T15:46:29.323708",
     "exception": false,
     "start_time": "2022-10-11T15:46:29.246061",
     "status": "completed"
    },
    "tags": []
   },
   "outputs": [
    {
     "data": {
      "text/html": [
       "<div>\n",
       "<style scoped>\n",
       "    .dataframe tbody tr th:only-of-type {\n",
       "        vertical-align: middle;\n",
       "    }\n",
       "\n",
       "    .dataframe tbody tr th {\n",
       "        vertical-align: top;\n",
       "    }\n",
       "\n",
       "    .dataframe thead th {\n",
       "        text-align: right;\n",
       "    }\n",
       "</style>\n",
       "<table border=\"1\" class=\"dataframe\">\n",
       "  <thead>\n",
       "    <tr style=\"text-align: right;\">\n",
       "      <th></th>\n",
       "      <th>PassengerId</th>\n",
       "      <th>Survived</th>\n",
       "    </tr>\n",
       "  </thead>\n",
       "  <tbody>\n",
       "    <tr>\n",
       "      <th>0</th>\n",
       "      <td>892</td>\n",
       "      <td>0</td>\n",
       "    </tr>\n",
       "    <tr>\n",
       "      <th>1</th>\n",
       "      <td>893</td>\n",
       "      <td>1</td>\n",
       "    </tr>\n",
       "    <tr>\n",
       "      <th>2</th>\n",
       "      <td>894</td>\n",
       "      <td>0</td>\n",
       "    </tr>\n",
       "    <tr>\n",
       "      <th>3</th>\n",
       "      <td>895</td>\n",
       "      <td>0</td>\n",
       "    </tr>\n",
       "    <tr>\n",
       "      <th>4</th>\n",
       "      <td>896</td>\n",
       "      <td>0</td>\n",
       "    </tr>\n",
       "    <tr>\n",
       "      <th>5</th>\n",
       "      <td>897</td>\n",
       "      <td>0</td>\n",
       "    </tr>\n",
       "    <tr>\n",
       "      <th>6</th>\n",
       "      <td>898</td>\n",
       "      <td>1</td>\n",
       "    </tr>\n",
       "  </tbody>\n",
       "</table>\n",
       "</div>"
      ],
      "text/plain": [
       "   PassengerId  Survived\n",
       "0          892         0\n",
       "1          893         1\n",
       "2          894         0\n",
       "3          895         0\n",
       "4          896         0\n",
       "5          897         0\n",
       "6          898         1"
      ]
     },
     "execution_count": 25,
     "metadata": {},
     "output_type": "execute_result"
    }
   ],
   "source": [
    "test_predictions = boost_gs.predict(test)\n",
    "passID=test['PassengerId']\n",
    "tupleData = list(zip(passID, test_predictions))\n",
    "output = pd.DataFrame(tupleData, columns = ['PassengerId', 'Survived'])\n",
    "output.head(7)"
   ]
  },
  {
   "cell_type": "code",
   "execution_count": 26,
   "id": "c4e1ba43",
   "metadata": {
    "execution": {
     "iopub.execute_input": "2022-10-11T15:46:29.440244Z",
     "iopub.status.busy": "2022-10-11T15:46:29.439961Z",
     "iopub.status.idle": "2022-10-11T15:46:29.448114Z",
     "shell.execute_reply": "2022-10-11T15:46:29.447026Z"
    },
    "papermill": {
     "duration": 0.068086,
     "end_time": "2022-10-11T15:46:29.450065",
     "exception": false,
     "start_time": "2022-10-11T15:46:29.381979",
     "status": "completed"
    },
    "tags": []
   },
   "outputs": [
    {
     "name": "stdout",
     "output_type": "stream",
     "text": [
      "Your submission was successfully saved!\n"
     ]
    }
   ],
   "source": [
    "output.to_csv('submission.csv', index=False)\n",
    "print(\"Your submission was successfully saved!\")"
   ]
  }
 ],
 "metadata": {
  "kernelspec": {
   "display_name": "Python 3",
   "language": "python",
   "name": "python3"
  },
  "language_info": {
   "codemirror_mode": {
    "name": "ipython",
    "version": 3
   },
   "file_extension": ".py",
   "mimetype": "text/x-python",
   "name": "python",
   "nbconvert_exporter": "python",
   "pygments_lexer": "ipython3",
   "version": "3.7.12"
  },
  "papermill": {
   "default_parameters": {},
   "duration": 157.716063,
   "end_time": "2022-10-11T15:46:30.430178",
   "environment_variables": {},
   "exception": null,
   "input_path": "__notebook__.ipynb",
   "output_path": "__notebook__.ipynb",
   "parameters": {},
   "start_time": "2022-10-11T15:43:52.714115",
   "version": "2.3.4"
  }
 },
 "nbformat": 4,
 "nbformat_minor": 5
}
