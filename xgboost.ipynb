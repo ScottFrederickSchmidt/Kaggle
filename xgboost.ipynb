{
 "cells": [
  {
   "cell_type": "markdown",
   "id": "ee03ceb3",
   "metadata": {
    "papermill": {
     "duration": 0.009671,
     "end_time": "2022-09-21T02:09:46.324087",
     "exception": false,
     "start_time": "2022-09-21T02:09:46.314416",
     "status": "completed"
    },
    "tags": []
   },
   "source": [
    "# Predict House Price\n",
    "xgBoost Only. My original House Price prediction can be found here:\n",
    "https://github.com/ScottySchmidt/Kaggle\n",
    "\n",
    "Currently my algo scores top 59% so I need much more research how to improve my score."
   ]
  },
  {
   "cell_type": "code",
   "execution_count": 1,
   "id": "fb0a18e5",
   "metadata": {
    "execution": {
     "iopub.execute_input": "2022-09-21T02:09:46.343148Z",
     "iopub.status.busy": "2022-09-21T02:09:46.342691Z",
     "iopub.status.idle": "2022-09-21T02:09:46.430212Z",
     "shell.execute_reply": "2022-09-21T02:09:46.428754Z"
    },
    "papermill": {
     "duration": 0.101758,
     "end_time": "2022-09-21T02:09:46.434769",
     "exception": false,
     "start_time": "2022-09-21T02:09:46.333011",
     "status": "completed"
    },
    "tags": []
   },
   "outputs": [
    {
     "name": "stdout",
     "output_type": "stream",
     "text": [
      "(1460, 81)\n"
     ]
    },
    {
     "data": {
      "text/html": [
       "<div>\n",
       "<style scoped>\n",
       "    .dataframe tbody tr th:only-of-type {\n",
       "        vertical-align: middle;\n",
       "    }\n",
       "\n",
       "    .dataframe tbody tr th {\n",
       "        vertical-align: top;\n",
       "    }\n",
       "\n",
       "    .dataframe thead th {\n",
       "        text-align: right;\n",
       "    }\n",
       "</style>\n",
       "<table border=\"1\" class=\"dataframe\">\n",
       "  <thead>\n",
       "    <tr style=\"text-align: right;\">\n",
       "      <th></th>\n",
       "      <th>Id</th>\n",
       "      <th>MSSubClass</th>\n",
       "      <th>MSZoning</th>\n",
       "      <th>LotFrontage</th>\n",
       "      <th>LotArea</th>\n",
       "      <th>Street</th>\n",
       "      <th>Alley</th>\n",
       "      <th>LotShape</th>\n",
       "      <th>LandContour</th>\n",
       "      <th>Utilities</th>\n",
       "      <th>...</th>\n",
       "      <th>PoolArea</th>\n",
       "      <th>PoolQC</th>\n",
       "      <th>Fence</th>\n",
       "      <th>MiscFeature</th>\n",
       "      <th>MiscVal</th>\n",
       "      <th>MoSold</th>\n",
       "      <th>YrSold</th>\n",
       "      <th>SaleType</th>\n",
       "      <th>SaleCondition</th>\n",
       "      <th>SalePrice</th>\n",
       "    </tr>\n",
       "  </thead>\n",
       "  <tbody>\n",
       "    <tr>\n",
       "      <th>0</th>\n",
       "      <td>1</td>\n",
       "      <td>60</td>\n",
       "      <td>RL</td>\n",
       "      <td>65.0</td>\n",
       "      <td>8450</td>\n",
       "      <td>Pave</td>\n",
       "      <td>NaN</td>\n",
       "      <td>Reg</td>\n",
       "      <td>Lvl</td>\n",
       "      <td>AllPub</td>\n",
       "      <td>...</td>\n",
       "      <td>0</td>\n",
       "      <td>NaN</td>\n",
       "      <td>NaN</td>\n",
       "      <td>NaN</td>\n",
       "      <td>0</td>\n",
       "      <td>2</td>\n",
       "      <td>2008</td>\n",
       "      <td>WD</td>\n",
       "      <td>Normal</td>\n",
       "      <td>208500</td>\n",
       "    </tr>\n",
       "    <tr>\n",
       "      <th>1</th>\n",
       "      <td>2</td>\n",
       "      <td>20</td>\n",
       "      <td>RL</td>\n",
       "      <td>80.0</td>\n",
       "      <td>9600</td>\n",
       "      <td>Pave</td>\n",
       "      <td>NaN</td>\n",
       "      <td>Reg</td>\n",
       "      <td>Lvl</td>\n",
       "      <td>AllPub</td>\n",
       "      <td>...</td>\n",
       "      <td>0</td>\n",
       "      <td>NaN</td>\n",
       "      <td>NaN</td>\n",
       "      <td>NaN</td>\n",
       "      <td>0</td>\n",
       "      <td>5</td>\n",
       "      <td>2007</td>\n",
       "      <td>WD</td>\n",
       "      <td>Normal</td>\n",
       "      <td>181500</td>\n",
       "    </tr>\n",
       "    <tr>\n",
       "      <th>2</th>\n",
       "      <td>3</td>\n",
       "      <td>60</td>\n",
       "      <td>RL</td>\n",
       "      <td>68.0</td>\n",
       "      <td>11250</td>\n",
       "      <td>Pave</td>\n",
       "      <td>NaN</td>\n",
       "      <td>IR1</td>\n",
       "      <td>Lvl</td>\n",
       "      <td>AllPub</td>\n",
       "      <td>...</td>\n",
       "      <td>0</td>\n",
       "      <td>NaN</td>\n",
       "      <td>NaN</td>\n",
       "      <td>NaN</td>\n",
       "      <td>0</td>\n",
       "      <td>9</td>\n",
       "      <td>2008</td>\n",
       "      <td>WD</td>\n",
       "      <td>Normal</td>\n",
       "      <td>223500</td>\n",
       "    </tr>\n",
       "    <tr>\n",
       "      <th>3</th>\n",
       "      <td>4</td>\n",
       "      <td>70</td>\n",
       "      <td>RL</td>\n",
       "      <td>60.0</td>\n",
       "      <td>9550</td>\n",
       "      <td>Pave</td>\n",
       "      <td>NaN</td>\n",
       "      <td>IR1</td>\n",
       "      <td>Lvl</td>\n",
       "      <td>AllPub</td>\n",
       "      <td>...</td>\n",
       "      <td>0</td>\n",
       "      <td>NaN</td>\n",
       "      <td>NaN</td>\n",
       "      <td>NaN</td>\n",
       "      <td>0</td>\n",
       "      <td>2</td>\n",
       "      <td>2006</td>\n",
       "      <td>WD</td>\n",
       "      <td>Abnorml</td>\n",
       "      <td>140000</td>\n",
       "    </tr>\n",
       "    <tr>\n",
       "      <th>4</th>\n",
       "      <td>5</td>\n",
       "      <td>60</td>\n",
       "      <td>RL</td>\n",
       "      <td>84.0</td>\n",
       "      <td>14260</td>\n",
       "      <td>Pave</td>\n",
       "      <td>NaN</td>\n",
       "      <td>IR1</td>\n",
       "      <td>Lvl</td>\n",
       "      <td>AllPub</td>\n",
       "      <td>...</td>\n",
       "      <td>0</td>\n",
       "      <td>NaN</td>\n",
       "      <td>NaN</td>\n",
       "      <td>NaN</td>\n",
       "      <td>0</td>\n",
       "      <td>12</td>\n",
       "      <td>2008</td>\n",
       "      <td>WD</td>\n",
       "      <td>Normal</td>\n",
       "      <td>250000</td>\n",
       "    </tr>\n",
       "  </tbody>\n",
       "</table>\n",
       "<p>5 rows × 81 columns</p>\n",
       "</div>"
      ],
      "text/plain": [
       "   Id  MSSubClass MSZoning  LotFrontage  LotArea Street Alley LotShape  \\\n",
       "0   1          60       RL         65.0     8450   Pave   NaN      Reg   \n",
       "1   2          20       RL         80.0     9600   Pave   NaN      Reg   \n",
       "2   3          60       RL         68.0    11250   Pave   NaN      IR1   \n",
       "3   4          70       RL         60.0     9550   Pave   NaN      IR1   \n",
       "4   5          60       RL         84.0    14260   Pave   NaN      IR1   \n",
       "\n",
       "  LandContour Utilities  ... PoolArea PoolQC Fence MiscFeature MiscVal MoSold  \\\n",
       "0         Lvl    AllPub  ...        0    NaN   NaN         NaN       0      2   \n",
       "1         Lvl    AllPub  ...        0    NaN   NaN         NaN       0      5   \n",
       "2         Lvl    AllPub  ...        0    NaN   NaN         NaN       0      9   \n",
       "3         Lvl    AllPub  ...        0    NaN   NaN         NaN       0      2   \n",
       "4         Lvl    AllPub  ...        0    NaN   NaN         NaN       0     12   \n",
       "\n",
       "  YrSold  SaleType  SaleCondition  SalePrice  \n",
       "0   2008        WD         Normal     208500  \n",
       "1   2007        WD         Normal     181500  \n",
       "2   2008        WD         Normal     223500  \n",
       "3   2006        WD        Abnorml     140000  \n",
       "4   2008        WD         Normal     250000  \n",
       "\n",
       "[5 rows x 81 columns]"
      ]
     },
     "execution_count": 1,
     "metadata": {},
     "output_type": "execute_result"
    }
   ],
   "source": [
    "import pandas as pd\n",
    "import numpy as np\n",
    "import sys\n",
    "import matplotlib.pyplot as plt\n",
    "\n",
    "data='/kaggle/input/house-prices-advanced-regression-techniques/train.csv'\n",
    "df=pd.read_csv(data)\n",
    "print(df.shape)\n",
    "df.head()"
   ]
  },
  {
   "cell_type": "markdown",
   "id": "986f2f59",
   "metadata": {
    "papermill": {
     "duration": 0.008455,
     "end_time": "2022-09-21T02:09:46.452192",
     "exception": false,
     "start_time": "2022-09-21T02:09:46.443737",
     "status": "completed"
    },
    "tags": []
   },
   "source": [
    "# Missing Values"
   ]
  },
  {
   "cell_type": "code",
   "execution_count": 2,
   "id": "d23e97d5",
   "metadata": {
    "execution": {
     "iopub.execute_input": "2022-09-21T02:09:46.470697Z",
     "iopub.status.busy": "2022-09-21T02:09:46.470306Z",
     "iopub.status.idle": "2022-09-21T02:09:46.484620Z",
     "shell.execute_reply": "2022-09-21T02:09:46.483037Z"
    },
    "papermill": {
     "duration": 0.026616,
     "end_time": "2022-09-21T02:09:46.487146",
     "exception": false,
     "start_time": "2022-09-21T02:09:46.460530",
     "status": "completed"
    },
    "tags": []
   },
   "outputs": [
    {
     "name": "stdout",
     "output_type": "stream",
     "text": [
      "Missing data by column as a percent:\n",
      "PoolQC         21.686567\n",
      "MiscFeature    20.985075\n",
      "Alley          20.432836\n",
      "Fence          17.597015\n",
      "FireplaceQu    10.298507\n",
      "LotFrontage     3.865672\n",
      "GarageYrBlt     1.208955\n",
      "GarageCond      1.208955\n",
      "dtype: float64\n"
     ]
    }
   ],
   "source": [
    "#search for columns with missing values:\n",
    "def findNA():\n",
    "    print(\"Missing data by column as a percent:\")\n",
    "    findNA=df.isnull().sum().sort_values(ascending=False)/len(data)\n",
    "    print(findNA.head(8))\n",
    "findNA() "
   ]
  },
  {
   "cell_type": "code",
   "execution_count": 3,
   "id": "55607be7",
   "metadata": {
    "execution": {
     "iopub.execute_input": "2022-09-21T02:09:46.506193Z",
     "iopub.status.busy": "2022-09-21T02:09:46.505256Z",
     "iopub.status.idle": "2022-09-21T02:09:46.550775Z",
     "shell.execute_reply": "2022-09-21T02:09:46.549274Z"
    },
    "papermill": {
     "duration": 0.057825,
     "end_time": "2022-09-21T02:09:46.553382",
     "exception": false,
     "start_time": "2022-09-21T02:09:46.495557",
     "status": "completed"
    },
    "tags": []
   },
   "outputs": [
    {
     "name": "stdout",
     "output_type": "stream",
     "text": [
      "(1460, 75)\n"
     ]
    },
    {
     "name": "stderr",
     "output_type": "stream",
     "text": [
      "/opt/conda/lib/python3.7/site-packages/ipykernel_launcher.py:1: FutureWarning: Dropping of nuisance columns in DataFrame reductions (with 'numeric_only=None') is deprecated; in a future version this will raise TypeError.  Select only valid columns before calling the reduction.\n",
      "  \"\"\"Entry point for launching an IPython kernel.\n"
     ]
    }
   ],
   "source": [
    "df=df.fillna(df.mean())\n",
    "df=df.drop(columns=['PoolQC', 'MiscFeature', 'Alley', 'Fence', 'FireplaceQu', 'LotFrontage'])\n",
    "print(df.shape)"
   ]
  },
  {
   "cell_type": "code",
   "execution_count": 4,
   "id": "4b493d33",
   "metadata": {
    "execution": {
     "iopub.execute_input": "2022-09-21T02:09:46.574020Z",
     "iopub.status.busy": "2022-09-21T02:09:46.573578Z",
     "iopub.status.idle": "2022-09-21T02:09:46.581886Z",
     "shell.execute_reply": "2022-09-21T02:09:46.580686Z"
    },
    "papermill": {
     "duration": 0.020753,
     "end_time": "2022-09-21T02:09:46.584314",
     "exception": false,
     "start_time": "2022-09-21T02:09:46.563561",
     "status": "completed"
    },
    "tags": []
   },
   "outputs": [
    {
     "data": {
      "text/plain": [
       "Index(['Id', 'MSSubClass', 'MSZoning', 'LotArea', 'Street', 'LotShape',\n",
       "       'LandContour', 'Utilities', 'LotConfig', 'LandSlope', 'Neighborhood',\n",
       "       'Condition1', 'Condition2', 'BldgType', 'HouseStyle', 'OverallQual',\n",
       "       'OverallCond', 'YearBuilt', 'YearRemodAdd', 'RoofStyle', 'RoofMatl',\n",
       "       'Exterior1st', 'Exterior2nd', 'MasVnrType', 'MasVnrArea', 'ExterQual',\n",
       "       'ExterCond', 'Foundation', 'BsmtQual', 'BsmtCond', 'BsmtExposure',\n",
       "       'BsmtFinType1', 'BsmtFinSF1', 'BsmtFinType2', 'BsmtFinSF2', 'BsmtUnfSF',\n",
       "       'TotalBsmtSF', 'Heating', 'HeatingQC', 'CentralAir', 'Electrical',\n",
       "       '1stFlrSF', '2ndFlrSF', 'LowQualFinSF', 'GrLivArea', 'BsmtFullBath',\n",
       "       'BsmtHalfBath', 'FullBath', 'HalfBath', 'BedroomAbvGr', 'KitchenAbvGr',\n",
       "       'KitchenQual', 'TotRmsAbvGrd', 'Functional', 'Fireplaces', 'GarageType',\n",
       "       'GarageYrBlt', 'GarageFinish', 'GarageCars', 'GarageArea', 'GarageQual',\n",
       "       'GarageCond', 'PavedDrive', 'WoodDeckSF', 'OpenPorchSF',\n",
       "       'EnclosedPorch', '3SsnPorch', 'ScreenPorch', 'PoolArea', 'MiscVal',\n",
       "       'MoSold', 'YrSold', 'SaleType', 'SaleCondition', 'SalePrice'],\n",
       "      dtype='object')"
      ]
     },
     "execution_count": 4,
     "metadata": {},
     "output_type": "execute_result"
    }
   ],
   "source": [
    "df.columns"
   ]
  },
  {
   "cell_type": "code",
   "execution_count": 5,
   "id": "daf46e31",
   "metadata": {
    "execution": {
     "iopub.execute_input": "2022-09-21T02:09:46.604100Z",
     "iopub.status.busy": "2022-09-21T02:09:46.603686Z",
     "iopub.status.idle": "2022-09-21T02:09:46.610611Z",
     "shell.execute_reply": "2022-09-21T02:09:46.609504Z"
    },
    "papermill": {
     "duration": 0.019908,
     "end_time": "2022-09-21T02:09:46.613084",
     "exception": false,
     "start_time": "2022-09-21T02:09:46.593176",
     "status": "completed"
    },
    "tags": []
   },
   "outputs": [],
   "source": [
    "#Too similiar variables:\n",
    "df=df.drop(['GarageArea', 'GarageYrBlt', 'GrLivArea'], axis=1)"
   ]
  },
  {
   "cell_type": "markdown",
   "id": "1f3311e8",
   "metadata": {
    "papermill": {
     "duration": 0.008411,
     "end_time": "2022-09-21T02:09:46.630321",
     "exception": false,
     "start_time": "2022-09-21T02:09:46.621910",
     "status": "completed"
    },
    "tags": []
   },
   "source": [
    "# Encode Data"
   ]
  },
  {
   "cell_type": "code",
   "execution_count": 6,
   "id": "31c15632",
   "metadata": {
    "execution": {
     "iopub.execute_input": "2022-09-21T02:09:46.649857Z",
     "iopub.status.busy": "2022-09-21T02:09:46.649460Z",
     "iopub.status.idle": "2022-09-21T02:09:46.680077Z",
     "shell.execute_reply": "2022-09-21T02:09:46.678718Z"
    },
    "papermill": {
     "duration": 0.04375,
     "end_time": "2022-09-21T02:09:46.682798",
     "exception": false,
     "start_time": "2022-09-21T02:09:46.639048",
     "status": "completed"
    },
    "tags": []
   },
   "outputs": [
    {
     "data": {
      "text/html": [
       "<div>\n",
       "<style scoped>\n",
       "    .dataframe tbody tr th:only-of-type {\n",
       "        vertical-align: middle;\n",
       "    }\n",
       "\n",
       "    .dataframe tbody tr th {\n",
       "        vertical-align: top;\n",
       "    }\n",
       "\n",
       "    .dataframe thead th {\n",
       "        text-align: right;\n",
       "    }\n",
       "</style>\n",
       "<table border=\"1\" class=\"dataframe\">\n",
       "  <thead>\n",
       "    <tr style=\"text-align: right;\">\n",
       "      <th></th>\n",
       "      <th>Id</th>\n",
       "      <th>MSSubClass</th>\n",
       "      <th>MSZoning</th>\n",
       "      <th>LotArea</th>\n",
       "      <th>Street</th>\n",
       "      <th>LotShape</th>\n",
       "      <th>LandContour</th>\n",
       "      <th>Utilities</th>\n",
       "      <th>LotConfig</th>\n",
       "      <th>LandSlope</th>\n",
       "      <th>...</th>\n",
       "      <th>3SsnPorch</th>\n",
       "      <th>ScreenPorch</th>\n",
       "      <th>PoolArea</th>\n",
       "      <th>MiscVal</th>\n",
       "      <th>MoSold</th>\n",
       "      <th>YrSold</th>\n",
       "      <th>SaleType</th>\n",
       "      <th>SaleCondition</th>\n",
       "      <th>SalePrice</th>\n",
       "      <th>totalSQ</th>\n",
       "    </tr>\n",
       "  </thead>\n",
       "  <tbody>\n",
       "    <tr>\n",
       "      <th>0</th>\n",
       "      <td>1</td>\n",
       "      <td>60</td>\n",
       "      <td>RL</td>\n",
       "      <td>8450</td>\n",
       "      <td>Pave</td>\n",
       "      <td>Reg</td>\n",
       "      <td>Lvl</td>\n",
       "      <td>AllPub</td>\n",
       "      <td>Inside</td>\n",
       "      <td>Gtl</td>\n",
       "      <td>...</td>\n",
       "      <td>0</td>\n",
       "      <td>0</td>\n",
       "      <td>0</td>\n",
       "      <td>0</td>\n",
       "      <td>2</td>\n",
       "      <td>2008</td>\n",
       "      <td>WD</td>\n",
       "      <td>Normal</td>\n",
       "      <td>208500</td>\n",
       "      <td>2566</td>\n",
       "    </tr>\n",
       "    <tr>\n",
       "      <th>1</th>\n",
       "      <td>2</td>\n",
       "      <td>20</td>\n",
       "      <td>RL</td>\n",
       "      <td>9600</td>\n",
       "      <td>Pave</td>\n",
       "      <td>Reg</td>\n",
       "      <td>Lvl</td>\n",
       "      <td>AllPub</td>\n",
       "      <td>FR2</td>\n",
       "      <td>Gtl</td>\n",
       "      <td>...</td>\n",
       "      <td>0</td>\n",
       "      <td>0</td>\n",
       "      <td>0</td>\n",
       "      <td>0</td>\n",
       "      <td>5</td>\n",
       "      <td>2007</td>\n",
       "      <td>WD</td>\n",
       "      <td>Normal</td>\n",
       "      <td>181500</td>\n",
       "      <td>2524</td>\n",
       "    </tr>\n",
       "    <tr>\n",
       "      <th>2</th>\n",
       "      <td>3</td>\n",
       "      <td>60</td>\n",
       "      <td>RL</td>\n",
       "      <td>11250</td>\n",
       "      <td>Pave</td>\n",
       "      <td>IR1</td>\n",
       "      <td>Lvl</td>\n",
       "      <td>AllPub</td>\n",
       "      <td>Inside</td>\n",
       "      <td>Gtl</td>\n",
       "      <td>...</td>\n",
       "      <td>0</td>\n",
       "      <td>0</td>\n",
       "      <td>0</td>\n",
       "      <td>0</td>\n",
       "      <td>9</td>\n",
       "      <td>2008</td>\n",
       "      <td>WD</td>\n",
       "      <td>Normal</td>\n",
       "      <td>223500</td>\n",
       "      <td>2706</td>\n",
       "    </tr>\n",
       "    <tr>\n",
       "      <th>3</th>\n",
       "      <td>4</td>\n",
       "      <td>70</td>\n",
       "      <td>RL</td>\n",
       "      <td>9550</td>\n",
       "      <td>Pave</td>\n",
       "      <td>IR1</td>\n",
       "      <td>Lvl</td>\n",
       "      <td>AllPub</td>\n",
       "      <td>Corner</td>\n",
       "      <td>Gtl</td>\n",
       "      <td>...</td>\n",
       "      <td>0</td>\n",
       "      <td>0</td>\n",
       "      <td>0</td>\n",
       "      <td>0</td>\n",
       "      <td>2</td>\n",
       "      <td>2006</td>\n",
       "      <td>WD</td>\n",
       "      <td>Abnorml</td>\n",
       "      <td>140000</td>\n",
       "      <td>2473</td>\n",
       "    </tr>\n",
       "    <tr>\n",
       "      <th>4</th>\n",
       "      <td>5</td>\n",
       "      <td>60</td>\n",
       "      <td>RL</td>\n",
       "      <td>14260</td>\n",
       "      <td>Pave</td>\n",
       "      <td>IR1</td>\n",
       "      <td>Lvl</td>\n",
       "      <td>AllPub</td>\n",
       "      <td>FR2</td>\n",
       "      <td>Gtl</td>\n",
       "      <td>...</td>\n",
       "      <td>0</td>\n",
       "      <td>0</td>\n",
       "      <td>0</td>\n",
       "      <td>0</td>\n",
       "      <td>12</td>\n",
       "      <td>2008</td>\n",
       "      <td>WD</td>\n",
       "      <td>Normal</td>\n",
       "      <td>250000</td>\n",
       "      <td>3343</td>\n",
       "    </tr>\n",
       "  </tbody>\n",
       "</table>\n",
       "<p>5 rows × 73 columns</p>\n",
       "</div>"
      ],
      "text/plain": [
       "   Id  MSSubClass MSZoning  LotArea Street LotShape LandContour Utilities  \\\n",
       "0   1          60       RL     8450   Pave      Reg         Lvl    AllPub   \n",
       "1   2          20       RL     9600   Pave      Reg         Lvl    AllPub   \n",
       "2   3          60       RL    11250   Pave      IR1         Lvl    AllPub   \n",
       "3   4          70       RL     9550   Pave      IR1         Lvl    AllPub   \n",
       "4   5          60       RL    14260   Pave      IR1         Lvl    AllPub   \n",
       "\n",
       "  LotConfig LandSlope  ... 3SsnPorch ScreenPorch PoolArea MiscVal MoSold  \\\n",
       "0    Inside       Gtl  ...         0           0        0       0      2   \n",
       "1       FR2       Gtl  ...         0           0        0       0      5   \n",
       "2    Inside       Gtl  ...         0           0        0       0      9   \n",
       "3    Corner       Gtl  ...         0           0        0       0      2   \n",
       "4       FR2       Gtl  ...         0           0        0       0     12   \n",
       "\n",
       "   YrSold  SaleType  SaleCondition  SalePrice totalSQ  \n",
       "0    2008        WD         Normal     208500    2566  \n",
       "1    2007        WD         Normal     181500    2524  \n",
       "2    2008        WD         Normal     223500    2706  \n",
       "3    2006        WD        Abnorml     140000    2473  \n",
       "4    2008        WD         Normal     250000    3343  \n",
       "\n",
       "[5 rows x 73 columns]"
      ]
     },
     "execution_count": 6,
     "metadata": {},
     "output_type": "execute_result"
    }
   ],
   "source": [
    "df['totalSQ']=df['1stFlrSF']+df['2ndFlrSF']+df['TotalBsmtSF'].drop(columns=['1stFlrSF', '2ndFlrSF', \n",
    "                'TotalBsmtSF'])\n",
    "df.head()"
   ]
  },
  {
   "cell_type": "code",
   "execution_count": 7,
   "id": "b41a13c9",
   "metadata": {
    "execution": {
     "iopub.execute_input": "2022-09-21T02:09:46.703521Z",
     "iopub.status.busy": "2022-09-21T02:09:46.702473Z",
     "iopub.status.idle": "2022-09-21T02:09:46.712060Z",
     "shell.execute_reply": "2022-09-21T02:09:46.711014Z"
    },
    "papermill": {
     "duration": 0.022417,
     "end_time": "2022-09-21T02:09:46.714575",
     "exception": false,
     "start_time": "2022-09-21T02:09:46.692158",
     "status": "completed"
    },
    "tags": []
   },
   "outputs": [],
   "source": [
    "numerics = ['int16', 'int32', 'int64', 'float16', 'float32', 'float64']\n",
    "df = df.select_dtypes(include=numerics)"
   ]
  },
  {
   "cell_type": "markdown",
   "id": "e1dcfc5a",
   "metadata": {
    "papermill": {
     "duration": 0.008854,
     "end_time": "2022-09-21T02:09:46.732882",
     "exception": false,
     "start_time": "2022-09-21T02:09:46.724028",
     "status": "completed"
    },
    "tags": []
   },
   "source": [
    "# Outliers"
   ]
  },
  {
   "cell_type": "code",
   "execution_count": 8,
   "id": "8b311b05",
   "metadata": {
    "execution": {
     "iopub.execute_input": "2022-09-21T02:09:46.753858Z",
     "iopub.status.busy": "2022-09-21T02:09:46.752578Z",
     "iopub.status.idle": "2022-09-21T02:09:48.670280Z",
     "shell.execute_reply": "2022-09-21T02:09:48.669046Z"
    },
    "papermill": {
     "duration": 1.930737,
     "end_time": "2022-09-21T02:09:48.672887",
     "exception": false,
     "start_time": "2022-09-21T02:09:46.742150",
     "status": "completed"
    },
    "tags": []
   },
   "outputs": [
    {
     "data": {
      "text/plain": [
       "<seaborn.axisgrid.FacetGrid at 0x7ff451e14990>"
      ]
     },
     "execution_count": 8,
     "metadata": {},
     "output_type": "execute_result"
    },
    {
     "data": {
      "image/png": "[encoded data removed]",
      "text/plain": [
       "<Figure size 360x360 with 1 Axes>"
      ]
     },
     "metadata": {
      "needs_background": "light"
     },
     "output_type": "display_data"
    },
    {
     "data": {
      "image/png": "[encoded data removed]",
      "text/plain": [
       "<Figure size 360x360 with 1 Axes>"
      ]
     },
     "metadata": {
      "needs_background": "light"
     },
     "output_type": "display_data"
    }
   ],
   "source": [
    "import seaborn as sns\n",
    "sns.displot(df, x='SalePrice')\n",
    "sns.displot(df, x='totalSQ')"
   ]
  },
  {
   "cell_type": "code",
   "execution_count": 9,
   "id": "1c3275f8",
   "metadata": {
    "execution": {
     "iopub.execute_input": "2022-09-21T02:09:48.695142Z",
     "iopub.status.busy": "2022-09-21T02:09:48.694725Z",
     "iopub.status.idle": "2022-09-21T02:09:48.710380Z",
     "shell.execute_reply": "2022-09-21T02:09:48.709065Z"
    },
    "papermill": {
     "duration": 0.030531,
     "end_time": "2022-09-21T02:09:48.713492",
     "exception": false,
     "start_time": "2022-09-21T02:09:48.682961",
     "status": "completed"
    },
    "tags": []
   },
   "outputs": [
    {
     "name": "stdout",
     "output_type": "stream",
     "text": [
      "[438780, 501837, 475000, 437154, 426000, 555000, 440000, 430000, 446261, 451950, 423000, 755000, 538000, 485000, 582933, 611657, 556581, 424870, 625000, 745000, 465000, 466500]\n",
      "[438780, 501837, 475000, 437154, 426000, 555000, 440000, 430000, 446261, 451950, 423000, 755000, 538000, 485000, 582933, 611657, 556581, 424870, 625000, 745000, 465000, 466500, 5496, 6428, 7814, 6760, 5066, 5048, 5557, 6872, 11752, 5271, 5266]\n"
     ]
    }
   ],
   "source": [
    "from scipy import stats\n",
    "\n",
    "outliers=[]\n",
    "def detect_outlier(data_1):\n",
    "    \n",
    "    threshold=3\n",
    "    mean_1 = np.mean(data_1)\n",
    "    std_1 =np.std(data_1)\n",
    "    \n",
    "    for y in data_1:\n",
    "        z_score= (y - mean_1)/std_1 \n",
    "        if np.abs(z_score) > threshold:\n",
    "            outliers.append(y)\n",
    "    return outliers\n",
    "priceOutlier=list(detect_outlier(df['SalePrice']))\n",
    "print(priceOutlier)\n",
    "sqOutlier=list(detect_outlier(df['totalSQ']))\n",
    "print(sqOutlier)"
   ]
  },
  {
   "cell_type": "code",
   "execution_count": 10,
   "id": "108046b0",
   "metadata": {
    "execution": {
     "iopub.execute_input": "2022-09-21T02:09:48.737179Z",
     "iopub.status.busy": "2022-09-21T02:09:48.736375Z",
     "iopub.status.idle": "2022-09-21T02:09:48.747190Z",
     "shell.execute_reply": "2022-09-21T02:09:48.745955Z"
    },
    "papermill": {
     "duration": 0.025634,
     "end_time": "2022-09-21T02:09:48.749335",
     "exception": false,
     "start_time": "2022-09-21T02:09:48.723701",
     "status": "completed"
    },
    "tags": []
   },
   "outputs": [
    {
     "name": "stdout",
     "output_type": "stream",
     "text": [
      "(1444, 35)\n"
     ]
    }
   ],
   "source": [
    "#Remove Outliers:\n",
    "df=df.loc[df['SalePrice']<500_000]\n",
    "df=df.loc[df['totalSQ']<5000]\n",
    "print(df.shape) "
   ]
  },
  {
   "cell_type": "markdown",
   "id": "c18ec495",
   "metadata": {
    "papermill": {
     "duration": 0.010551,
     "end_time": "2022-09-21T02:09:48.770652",
     "exception": false,
     "start_time": "2022-09-21T02:09:48.760101",
     "status": "completed"
    },
    "tags": []
   },
   "source": [
    "# Split Data"
   ]
  },
  {
   "cell_type": "code",
   "execution_count": 11,
   "id": "636f0d2b",
   "metadata": {
    "execution": {
     "iopub.execute_input": "2022-09-21T02:09:48.792913Z",
     "iopub.status.busy": "2022-09-21T02:09:48.791730Z",
     "iopub.status.idle": "2022-09-21T02:09:49.012761Z",
     "shell.execute_reply": "2022-09-21T02:09:49.011256Z"
    },
    "papermill": {
     "duration": 0.234896,
     "end_time": "2022-09-21T02:09:49.015548",
     "exception": false,
     "start_time": "2022-09-21T02:09:48.780652",
     "status": "completed"
    },
    "tags": []
   },
   "outputs": [],
   "source": [
    "from sklearn.model_selection import train_test_split, cross_validate\n",
    "\n",
    "X=df.drop(\"SalePrice\", axis='columns')\n",
    "y=df['SalePrice']\n",
    "\n",
    "X_train, X_test, y_train, y_test = train_test_split(\n",
    "X, y, test_size=0.33, random_state=42)"
   ]
  },
  {
   "cell_type": "markdown",
   "id": "b29e12a6",
   "metadata": {
    "papermill": {
     "duration": 0.009967,
     "end_time": "2022-09-21T02:09:49.035681",
     "exception": false,
     "start_time": "2022-09-21T02:09:49.025714",
     "status": "completed"
    },
    "tags": []
   },
   "source": [
    "# xgBoost"
   ]
  },
  {
   "cell_type": "code",
   "execution_count": 12,
   "id": "82cb8633",
   "metadata": {
    "execution": {
     "iopub.execute_input": "2022-09-21T02:09:49.057293Z",
     "iopub.status.busy": "2022-09-21T02:09:49.056857Z",
     "iopub.status.idle": "2022-09-21T02:09:49.556994Z",
     "shell.execute_reply": "2022-09-21T02:09:49.556041Z"
    },
    "papermill": {
     "duration": 0.51364,
     "end_time": "2022-09-21T02:09:49.559452",
     "exception": false,
     "start_time": "2022-09-21T02:09:49.045812",
     "status": "completed"
    },
    "tags": []
   },
   "outputs": [
    {
     "name": "stdout",
     "output_type": "stream",
     "text": [
      "0.8868\n",
      "16281.827748296646\n"
     ]
    }
   ],
   "source": [
    "import xgboost as xgb\n",
    "from sklearn.metrics import mean_squared_error, r2_score, mean_absolute_error\n",
    "\n",
    "regressor = xgb.XGBRegressor(\n",
    "    n_estimators=100,\n",
    "    reg_lambda=1,\n",
    "    gamma=0,\n",
    "    max_depth=3\n",
    ")\n",
    "\n",
    "regressor.fit(X_train, y_train)\n",
    "y_pred = regressor.predict(X_test)\n",
    "\n",
    "xgbMSE=mean_absolute_error(y_test, y_pred)\n",
    "xgR2 = r2_score(y_test, y_pred).round(4)\n",
    "print(xgR2)\n",
    "print(xgbMSE)"
   ]
  },
  {
   "cell_type": "markdown",
   "id": "38d702fc",
   "metadata": {
    "papermill": {
     "duration": 0.0109,
     "end_time": "2022-09-21T02:09:49.582916",
     "exception": false,
     "start_time": "2022-09-21T02:09:49.572016",
     "status": "completed"
    },
    "tags": []
   },
   "source": [
    "### Max Depth Tunning\n",
    "Four for max depth is clearly the magic number with the least amount of error and highest accuracy. "
   ]
  },
  {
   "cell_type": "code",
   "execution_count": 13,
   "id": "b69bc26a",
   "metadata": {
    "execution": {
     "iopub.execute_input": "2022-09-21T02:09:49.607088Z",
     "iopub.status.busy": "2022-09-21T02:09:49.606643Z",
     "iopub.status.idle": "2022-09-21T02:09:55.272332Z",
     "shell.execute_reply": "2022-09-21T02:09:55.270885Z"
    },
    "papermill": {
     "duration": 5.682207,
     "end_time": "2022-09-21T02:09:55.276351",
     "exception": false,
     "start_time": "2022-09-21T02:09:49.594144",
     "status": "completed"
    },
    "tags": []
   },
   "outputs": [
    {
     "data": {
      "image/png": "[encoded data removed]",
      "text/plain": [
       "<Figure size 432x288 with 1 Axes>"
      ]
     },
     "metadata": {
      "needs_background": "light"
     },
     "output_type": "display_data"
    },
    {
     "data": {
      "image/png": "[encoded data removed]",
      "text/plain": [
       "<Figure size 432x288 with 1 Axes>"
      ]
     },
     "metadata": {
      "needs_background": "light"
     },
     "output_type": "display_data"
    }
   ],
   "source": [
    "maxDepth=[2, 3, 4, 5, 6, 7, 8, 9, 10, 11]\n",
    "listMSE=[]\n",
    "listR2=[]\n",
    "\n",
    "for d in maxDepth:\n",
    "    regressor = xgb.XGBRegressor(\n",
    "        n_estimators=100,\n",
    "        reg_lambda=1,\n",
    "        gamma=0,\n",
    "        max_depth=d\n",
    "    )\n",
    "    regressor.fit(X_train, y_train)\n",
    "    y_pred = regressor.predict(X_test)\n",
    "\n",
    "    xgMSE=mean_absolute_error(y_test, y_pred)\n",
    "    xgR2 = r2_score(y_test, y_pred).round(4)\n",
    "    listMSE.append(xgMSE)\n",
    "    listR2.append(xgR2)\n",
    "plt.plot(maxDepth, listMSE)\n",
    "plt.title('MaxDepth Error')\n",
    "plt.ylabel('Error')\n",
    "plt.xlabel('Max Depth')\n",
    "plt.legend()\n",
    "plt.show()\n",
    "\n",
    "plt.plot(maxDepth, listR2)\n",
    "plt.title('MaxDepth Accuracy')\n",
    "plt.ylabel('Accuracy')\n",
    "plt.xlabel('MaxDepth')\n",
    "plt.legend()\n",
    "plt.show()"
   ]
  },
  {
   "cell_type": "markdown",
   "id": "2bcfd957",
   "metadata": {
    "papermill": {
     "duration": 0.010394,
     "end_time": "2022-09-21T02:09:55.307424",
     "exception": false,
     "start_time": "2022-09-21T02:09:55.297030",
     "status": "completed"
    },
    "tags": []
   },
   "source": [
    "#### N Estimators Tunning\n",
    "Around 100 n_estimators seems to be a fair number for both accuracy and low error."
   ]
  },
  {
   "cell_type": "code",
   "execution_count": 14,
   "id": "bd0256a1",
   "metadata": {
    "execution": {
     "iopub.execute_input": "2022-09-21T02:09:55.330143Z",
     "iopub.status.busy": "2022-09-21T02:09:55.329705Z",
     "iopub.status.idle": "2022-09-21T02:10:00.125341Z",
     "shell.execute_reply": "2022-09-21T02:10:00.124372Z"
    },
    "papermill": {
     "duration": 4.809882,
     "end_time": "2022-09-21T02:10:00.127764",
     "exception": false,
     "start_time": "2022-09-21T02:09:55.317882",
     "status": "completed"
    },
    "tags": []
   },
   "outputs": [
    {
     "data": {
      "image/png": "[encoded data removed]",
      "text/plain": [
       "<Figure size 432x288 with 1 Axes>"
      ]
     },
     "metadata": {
      "needs_background": "light"
     },
     "output_type": "display_data"
    },
    {
     "data": {
      "image/png": "[encoded data removed]",
      "text/plain": [
       "<Figure size 432x288 with 1 Axes>"
      ]
     },
     "metadata": {
      "needs_background": "light"
     },
     "output_type": "display_data"
    }
   ],
   "source": [
    "nEst=[2, 50, 150, 100, 150, 200, 300]\n",
    "listMSE=[]\n",
    "listR2=[]\n",
    "\n",
    "for n in nEst:\n",
    "    regressor = xgb.XGBRegressor(\n",
    "        n_estimators=n,\n",
    "        reg_lambda=1,\n",
    "        gamma=0,\n",
    "        max_depth=4\n",
    "    )\n",
    "    regressor.fit(X_train, y_train)\n",
    "    y_pred = regressor.predict(X_test)\n",
    "\n",
    "    xgMSE=mean_absolute_error(y_test, y_pred)\n",
    "    xgR2 = r2_score(y_test, y_pred).round(4)\n",
    "    listMSE.append(xgMSE)\n",
    "    listR2.append(xgR2)\n",
    "plt.plot(nEst, listMSE)\n",
    "plt.title('nEstimators Error')\n",
    "plt.ylabel('Error')\n",
    "plt.xlabel('N Estimators')\n",
    "plt.legend()\n",
    "plt.show()\n",
    "\n",
    "plt.plot(nEst, listR2)\n",
    "plt.title('nEstimators R2')\n",
    "plt.ylabel('Accurate')\n",
    "plt.xlabel('N Estimators')\n",
    "plt.legend()\n",
    "plt.show()"
   ]
  },
  {
   "cell_type": "markdown",
   "id": "f4c1e7ab",
   "metadata": {
    "papermill": {
     "duration": 0.010781,
     "end_time": "2022-09-21T02:10:00.149588",
     "exception": false,
     "start_time": "2022-09-21T02:10:00.138807",
     "status": "completed"
    },
    "tags": []
   },
   "source": [
    "#### Eta Tuning"
   ]
  },
  {
   "cell_type": "code",
   "execution_count": 15,
   "id": "dbd43ad9",
   "metadata": {
    "execution": {
     "iopub.execute_input": "2022-09-21T02:10:00.174577Z",
     "iopub.status.busy": "2022-09-21T02:10:00.173373Z",
     "iopub.status.idle": "2022-09-21T02:10:01.557064Z",
     "shell.execute_reply": "2022-09-21T02:10:01.555886Z"
    },
    "papermill": {
     "duration": 1.39875,
     "end_time": "2022-09-21T02:10:01.559650",
     "exception": false,
     "start_time": "2022-09-21T02:10:00.160900",
     "status": "completed"
    },
    "tags": []
   },
   "outputs": [
    {
     "data": {
      "image/png": "[encoded data removed]",
      "text/plain": [
       "<Figure size 432x288 with 1 Axes>"
      ]
     },
     "metadata": {
      "needs_background": "light"
     },
     "output_type": "display_data"
    },
    {
     "data": {
      "image/png": "[encoded data removed]",
      "text/plain": [
       "<Figure size 432x288 with 1 Axes>"
      ]
     },
     "metadata": {
      "needs_background": "light"
     },
     "output_type": "display_data"
    }
   ],
   "source": [
    "eta=[.01, .02, .03, .04, .05]\n",
    "listMSE=[]\n",
    "listR2=[]\n",
    "\n",
    "for e in eta:\n",
    "    regressor = xgb.XGBRegressor(\n",
    "        n_estimators=50,\n",
    "        reg_lambda=1,\n",
    "        gamma=0,\n",
    "        max_depth=4,\n",
    "        eta=e\n",
    "    )\n",
    "    regressor.fit(X_train, y_train)\n",
    "    y_pred = regressor.predict(X_test)\n",
    "\n",
    "    xgMSE=mean_absolute_error(y_test, y_pred)\n",
    "    xgR2 = r2_score(y_test, y_pred).round(4)\n",
    "    listMSE.append(xgMSE)\n",
    "    listR2.append(xgR2)\n",
    "plt.plot(eta, listMSE)\n",
    "plt.title('Eta Error')\n",
    "plt.ylabel('Error')\n",
    "plt.xlabel('Eta')\n",
    "plt.legend()\n",
    "plt.show()\n",
    "\n",
    "plt.plot(eta, listR2)\n",
    "plt.title('Eta R2')\n",
    "plt.ylabel('Accurate')\n",
    "plt.xlabel('Eta')\n",
    "plt.legend()\n",
    "plt.show()"
   ]
  },
  {
   "cell_type": "code",
   "execution_count": 16,
   "id": "09d2ed3b",
   "metadata": {
    "execution": {
     "iopub.execute_input": "2022-09-21T02:10:01.586117Z",
     "iopub.status.busy": "2022-09-21T02:10:01.585681Z",
     "iopub.status.idle": "2022-09-21T02:10:03.714356Z",
     "shell.execute_reply": "2022-09-21T02:10:03.713060Z"
    },
    "papermill": {
     "duration": 2.145031,
     "end_time": "2022-09-21T02:10:03.716748",
     "exception": false,
     "start_time": "2022-09-21T02:10:01.571717",
     "status": "completed"
    },
    "tags": []
   },
   "outputs": [
    {
     "data": {
      "image/png": "[encoded data removed]",
      "text/plain": [
       "<Figure size 432x288 with 1 Axes>"
      ]
     },
     "metadata": {
      "needs_background": "light"
     },
     "output_type": "display_data"
    },
    {
     "data": {
      "image/png": "[encoded data removed]",
      "text/plain": [
       "<Figure size 432x288 with 1 Axes>"
      ]
     },
     "metadata": {
      "needs_background": "light"
     },
     "output_type": "display_data"
    }
   ],
   "source": [
    "weight=[1, 3, 5, 7, 9, 11, 13, 15, 17]\n",
    "listMSE=[]\n",
    "listR2=[]\n",
    "\n",
    "for w in weight:\n",
    "    regressor = xgb.XGBRegressor(\n",
    "        n_estimators=50,\n",
    "        reg_lambda=1,\n",
    "        gamma=0,\n",
    "        max_depth=4,\n",
    "        eta=.05,\n",
    "        min_child_weight=w\n",
    "    )\n",
    "    regressor.fit(X_train, y_train)\n",
    "    y_pred = regressor.predict(X_test)\n",
    "\n",
    "    xgMSE=mean_absolute_error(y_test, y_pred)\n",
    "    xgR2 = r2_score(y_test, y_pred).round(4)\n",
    "    listMSE.append(xgMSE)\n",
    "    listR2.append(xgR2)\n",
    "plt.plot(weight, listMSE)\n",
    "plt.title('nEstimators Error')\n",
    "plt.ylabel('Error')\n",
    "plt.xlabel('Weight')\n",
    "plt.legend()\n",
    "plt.show()\n",
    "\n",
    "plt.plot(weight, listR2)\n",
    "plt.title('Weight R2')\n",
    "plt.ylabel('Accurate')\n",
    "plt.xlabel('Weight')\n",
    "plt.legend()\n",
    "plt.show()"
   ]
  },
  {
   "cell_type": "markdown",
   "id": "d9746340",
   "metadata": {
    "papermill": {
     "duration": 0.011657,
     "end_time": "2022-09-21T02:10:03.740589",
     "exception": false,
     "start_time": "2022-09-21T02:10:03.728932",
     "status": "completed"
    },
    "tags": []
   },
   "source": [
    "#### Final xgBoost Prediction\n",
    "Using best parameter tunnings"
   ]
  },
  {
   "cell_type": "code",
   "execution_count": 17,
   "id": "191798c6",
   "metadata": {
    "execution": {
     "iopub.execute_input": "2022-09-21T02:10:03.767333Z",
     "iopub.status.busy": "2022-09-21T02:10:03.766131Z",
     "iopub.status.idle": "2022-09-21T02:10:04.998908Z",
     "shell.execute_reply": "2022-09-21T02:10:04.997821Z"
    },
    "papermill": {
     "duration": 1.250059,
     "end_time": "2022-09-21T02:10:05.002623",
     "exception": false,
     "start_time": "2022-09-21T02:10:03.752564",
     "status": "completed"
    },
    "tags": []
   },
   "outputs": [
    {
     "name": "stdout",
     "output_type": "stream",
     "text": [
      "0.8925\n",
      "0.8842\n",
      "0.008299999999999974\n"
     ]
    }
   ],
   "source": [
    "regressor = xgb.XGBRegressor(\n",
    "    n_estimators=50,\n",
    "    reg_lambda=1,\n",
    "    gamma=0,\n",
    "    max_depth=4,\n",
    "    #eta=.03,\n",
    "    min_child_weight=13\n",
    ")\n",
    "\n",
    "regressor.fit(X_train, y_train)\n",
    "y_pred = regressor.predict(X_test)\n",
    "\n",
    "xgMSE=mean_absolute_error(y_test, y_pred)\n",
    "xgR2 = r2_score(y_test, y_pred).round(4)\n",
    "listMSE.append(xgMSE)\n",
    "listR2.append(xgR2)\n",
    "\n",
    "xgScore = regressor.score(X_test, y_test).round(4)  \n",
    "xgCV = cross_validate(regressor, X, y, cv = 5, scoring= 'r2')\n",
    "xgCV=xgCV['test_score'].mean().round(4)\n",
    "print(xgScore)\n",
    "print(xgCV)\n",
    "print(abs(xgScore-xgCV))"
   ]
  },
  {
   "cell_type": "markdown",
   "id": "b70a9416",
   "metadata": {
    "papermill": {
     "duration": 0.012228,
     "end_time": "2022-09-21T02:10:05.029784",
     "exception": false,
     "start_time": "2022-09-21T02:10:05.017556",
     "status": "completed"
    },
    "tags": []
   },
   "source": [
    "### Graph"
   ]
  },
  {
   "cell_type": "code",
   "execution_count": 18,
   "id": "138ab3db",
   "metadata": {
    "execution": {
     "iopub.execute_input": "2022-09-21T02:10:05.055939Z",
     "iopub.status.busy": "2022-09-21T02:10:05.055518Z",
     "iopub.status.idle": "2022-09-21T02:10:06.152955Z",
     "shell.execute_reply": "2022-09-21T02:10:06.151590Z"
    },
    "papermill": {
     "duration": 1.113576,
     "end_time": "2022-09-21T02:10:06.155598",
     "exception": false,
     "start_time": "2022-09-21T02:10:05.042022",
     "status": "completed"
    },
    "tags": []
   },
   "outputs": [
    {
     "data": {
      "image/svg+xml": [
       "<?xml version=\"1.0\" encoding=\"UTF-8\" standalone=\"no\"?>\n",
       "<!DOCTYPE svg PUBLIC \"-//W3C//DTD SVG 1.1//EN\"\n",
       " \"http://www.w3.org/Graphics/SVG/1.1/DTD/svg11.dtd\">\n",
       "<!-- Generated by graphviz version 5.0.0 (20220707.2338)\n",
       " -->\n",
       "<!-- Pages: 1 -->\n",
       "<svg width=\"1892pt\" height=\"392pt\"\n",
       " viewBox=\"0.00 0.00 1892.44 392.00\" xmlns=\"http://www.w3.org/2000/svg\" xmlns:xlink=\"http://www.w3.org/1999/xlink\">\n",
       "<g id=\"graph0\" class=\"graph\" transform=\"scale(1 1) rotate(0) translate(4 388)\">\n",
       "<polygon fill=\"white\" stroke=\"transparent\" points=\"-4,4 -4,-388 1888.44,-388 1888.44,4 -4,4\"/>\n",
       "<!-- 0 -->\n",
       "<g id=\"node1\" class=\"node\">\n",
       "<title>0</title>\n",
       "<ellipse fill=\"none\" stroke=\"black\" cx=\"1169.99\" cy=\"-366\" rx=\"85.59\" ry=\"18\"/>\n",
       "<text text-anchor=\"middle\" x=\"1169.99\" y=\"-362.3\" font-family=\"Times,serif\" font-size=\"14.00\">totalSQ&lt;2948.5</text>\n",
       "</g>\n",
       "<!-- 1 -->\n",
       "<g id=\"node2\" class=\"node\">\n",
       "<title>1</title>\n",
       "<ellipse fill=\"none\" stroke=\"black\" cx=\"974.99\" cy=\"-279\" rx=\"85.59\" ry=\"18\"/>\n",
       "<text text-anchor=\"middle\" x=\"974.99\" y=\"-275.3\" font-family=\"Times,serif\" font-size=\"14.00\">totalSQ&lt;2243.5</text>\n",
       "</g>\n",
       "<!-- 0&#45;&gt;1 -->\n",
       "<g id=\"edge1\" class=\"edge\">\n",
       "<title>0&#45;&gt;1</title>\n",
       "<path fill=\"none\" stroke=\"#0000ff\" d=\"M1134.23,-349.41C1102.07,-335.39 1054.68,-314.74 1019.96,-299.6\"/>\n",
       "<polygon fill=\"#0000ff\" stroke=\"#0000ff\" points=\"1021.1,-296.28 1010.53,-295.49 1018.3,-302.7 1021.1,-296.28\"/>\n",
       "<text text-anchor=\"middle\" x=\"1129.49\" y=\"-318.8\" font-family=\"Times,serif\" font-size=\"14.00\">yes, missing</text>\n",
       "</g>\n",
       "<!-- 2 -->\n",
       "<g id=\"node3\" class=\"node\">\n",
       "<title>2</title>\n",
       "<ellipse fill=\"none\" stroke=\"black\" cx=\"1339.99\" cy=\"-279\" rx=\"88.28\" ry=\"18\"/>\n",
       "<text text-anchor=\"middle\" x=\"1339.99\" y=\"-275.3\" font-family=\"Times,serif\" font-size=\"14.00\">OverallQual&lt;6.5</text>\n",
       "</g>\n",
       "<!-- 0&#45;&gt;2 -->\n",
       "<g id=\"edge2\" class=\"edge\">\n",
       "<title>0&#45;&gt;2</title>\n",
       "<path fill=\"none\" stroke=\"#ff0000\" d=\"M1201.57,-349.21C1229.15,-335.42 1269.36,-315.31 1299.34,-300.32\"/>\n",
       "<polygon fill=\"#ff0000\" stroke=\"#ff0000\" points=\"1300.92,-303.45 1308.3,-295.85 1297.79,-297.19 1300.92,-303.45\"/>\n",
       "<text text-anchor=\"middle\" x=\"1274.99\" y=\"-318.8\" font-family=\"Times,serif\" font-size=\"14.00\">no</text>\n",
       "</g>\n",
       "<!-- 3 -->\n",
       "<g id=\"node4\" class=\"node\">\n",
       "<title>3</title>\n",
       "<ellipse fill=\"none\" stroke=\"black\" cx=\"602.99\" cy=\"-192\" rx=\"77.19\" ry=\"18\"/>\n",
       "<text text-anchor=\"middle\" x=\"602.99\" y=\"-188.3\" font-family=\"Times,serif\" font-size=\"14.00\">totalSQ&lt;1649</text>\n",
       "</g>\n",
       "<!-- 1&#45;&gt;3 -->\n",
       "<g id=\"edge3\" class=\"edge\">\n",
       "<title>1&#45;&gt;3</title>\n",
       "<path fill=\"none\" stroke=\"#0000ff\" d=\"M919.3,-265.27C851.49,-249.78 737.25,-223.68 666.21,-207.44\"/>\n",
       "<polygon fill=\"#0000ff\" stroke=\"#0000ff\" points=\"666.58,-203.94 656.05,-205.12 665.02,-210.76 666.58,-203.94\"/>\n",
       "<text text-anchor=\"middle\" x=\"856.49\" y=\"-231.8\" font-family=\"Times,serif\" font-size=\"14.00\">yes, missing</text>\n",
       "</g>\n",
       "<!-- 4 -->\n",
       "<g id=\"node5\" class=\"node\">\n",
       "<title>4</title>\n",
       "<ellipse fill=\"none\" stroke=\"black\" cx=\"974.99\" cy=\"-192\" rx=\"93.68\" ry=\"18\"/>\n",
       "<text text-anchor=\"middle\" x=\"974.99\" y=\"-188.3\" font-family=\"Times,serif\" font-size=\"14.00\">YearBuilt&lt;1978.5</text>\n",
       "</g>\n",
       "<!-- 1&#45;&gt;4 -->\n",
       "<g id=\"edge4\" class=\"edge\">\n",
       "<title>1&#45;&gt;4</title>\n",
       "<path fill=\"none\" stroke=\"#ff0000\" d=\"M974.99,-260.8C974.99,-249.16 974.99,-233.55 974.99,-220.24\"/>\n",
       "<polygon fill=\"#ff0000\" stroke=\"#ff0000\" points=\"978.49,-220.18 974.99,-210.18 971.49,-220.18 978.49,-220.18\"/>\n",
       "<text text-anchor=\"middle\" x=\"983.99\" y=\"-231.8\" font-family=\"Times,serif\" font-size=\"14.00\">no</text>\n",
       "</g>\n",
       "<!-- 5 -->\n",
       "<g id=\"node16\" class=\"node\">\n",
       "<title>5</title>\n",
       "<ellipse fill=\"none\" stroke=\"black\" cx=\"1339.99\" cy=\"-192\" rx=\"98.28\" ry=\"18\"/>\n",
       "<text text-anchor=\"middle\" x=\"1339.99\" y=\"-188.3\" font-family=\"Times,serif\" font-size=\"14.00\">KitchenAbvGr&lt;1.5</text>\n",
       "</g>\n",
       "<!-- 2&#45;&gt;5 -->\n",
       "<g id=\"edge15\" class=\"edge\">\n",
       "<title>2&#45;&gt;5</title>\n",
       "<path fill=\"none\" stroke=\"#0000ff\" d=\"M1339.99,-260.8C1339.99,-249.16 1339.99,-233.55 1339.99,-220.24\"/>\n",
       "<polygon fill=\"#0000ff\" stroke=\"#0000ff\" points=\"1343.49,-220.18 1339.99,-210.18 1336.49,-220.18 1343.49,-220.18\"/>\n",
       "<text text-anchor=\"middle\" x=\"1384.49\" y=\"-231.8\" font-family=\"Times,serif\" font-size=\"14.00\">yes, missing</text>\n",
       "</g>\n",
       "<!-- 6 -->\n",
       "<g id=\"node17\" class=\"node\">\n",
       "<title>6</title>\n",
       "<ellipse fill=\"none\" stroke=\"black\" cx=\"1628.99\" cy=\"-192\" rx=\"85.59\" ry=\"18\"/>\n",
       "<text text-anchor=\"middle\" x=\"1628.99\" y=\"-188.3\" font-family=\"Times,serif\" font-size=\"14.00\">totalSQ&lt;3394.5</text>\n",
       "</g>\n",
       "<!-- 2&#45;&gt;6 -->\n",
       "<g id=\"edge16\" class=\"edge\">\n",
       "<title>2&#45;&gt;6</title>\n",
       "<path fill=\"none\" stroke=\"#ff0000\" d=\"M1388.04,-263.87C1438.51,-249.03 1517.86,-225.69 1571.59,-209.88\"/>\n",
       "<polygon fill=\"#ff0000\" stroke=\"#ff0000\" points=\"1572.71,-213.2 1581.31,-207.02 1570.73,-206.49 1572.71,-213.2\"/>\n",
       "<text text-anchor=\"middle\" x=\"1510.99\" y=\"-231.8\" font-family=\"Times,serif\" font-size=\"14.00\">no</text>\n",
       "</g>\n",
       "<!-- 7 -->\n",
       "<g id=\"node6\" class=\"node\">\n",
       "<title>7</title>\n",
       "<ellipse fill=\"none\" stroke=\"black\" cx=\"290.99\" cy=\"-105\" rx=\"88.28\" ry=\"18\"/>\n",
       "<text text-anchor=\"middle\" x=\"290.99\" y=\"-101.3\" font-family=\"Times,serif\" font-size=\"14.00\">OverallQual&lt;4.5</text>\n",
       "</g>\n",
       "<!-- 3&#45;&gt;7 -->\n",
       "<g id=\"edge5\" class=\"edge\">\n",
       "<title>3&#45;&gt;7</title>\n",
       "<path fill=\"none\" stroke=\"#0000ff\" d=\"M554.58,-177.81C499.9,-162.91 410.81,-138.64 351.56,-122.5\"/>\n",
       "<polygon fill=\"#0000ff\" stroke=\"#0000ff\" points=\"352.15,-119.04 341.58,-119.78 350.31,-125.79 352.15,-119.04\"/>\n",
       "<text text-anchor=\"middle\" x=\"510.49\" y=\"-144.8\" font-family=\"Times,serif\" font-size=\"14.00\">yes, missing</text>\n",
       "</g>\n",
       "<!-- 8 -->\n",
       "<g id=\"node7\" class=\"node\">\n",
       "<title>8</title>\n",
       "<ellipse fill=\"none\" stroke=\"black\" cx=\"602.99\" cy=\"-105\" rx=\"121.58\" ry=\"18\"/>\n",
       "<text text-anchor=\"middle\" x=\"602.99\" y=\"-101.3\" font-family=\"Times,serif\" font-size=\"14.00\">YearRemodAdd&lt;1967.5</text>\n",
       "</g>\n",
       "<!-- 3&#45;&gt;8 -->\n",
       "<g id=\"edge6\" class=\"edge\">\n",
       "<title>3&#45;&gt;8</title>\n",
       "<path fill=\"none\" stroke=\"#ff0000\" d=\"M602.99,-173.8C602.99,-162.16 602.99,-146.55 602.99,-133.24\"/>\n",
       "<polygon fill=\"#ff0000\" stroke=\"#ff0000\" points=\"606.49,-133.18 602.99,-123.18 599.49,-133.18 606.49,-133.18\"/>\n",
       "<text text-anchor=\"middle\" x=\"611.99\" y=\"-144.8\" font-family=\"Times,serif\" font-size=\"14.00\">no</text>\n",
       "</g>\n",
       "<!-- 9 -->\n",
       "<g id=\"node12\" class=\"node\">\n",
       "<title>9</title>\n",
       "<ellipse fill=\"none\" stroke=\"black\" cx=\"890.99\" cy=\"-105\" rx=\"81.49\" ry=\"18\"/>\n",
       "<text text-anchor=\"middle\" x=\"890.99\" y=\"-101.3\" font-family=\"Times,serif\" font-size=\"14.00\">Fireplaces&lt;0.5</text>\n",
       "</g>\n",
       "<!-- 4&#45;&gt;9 -->\n",
       "<g id=\"edge11\" class=\"edge\">\n",
       "<title>4&#45;&gt;9</title>\n",
       "<path fill=\"none\" stroke=\"#0000ff\" d=\"M958.4,-174.21C945.97,-161.63 928.79,-144.25 914.89,-130.18\"/>\n",
       "<polygon fill=\"#0000ff\" stroke=\"#0000ff\" points=\"917.07,-127.41 907.55,-122.76 912.09,-132.33 917.07,-127.41\"/>\n",
       "<text text-anchor=\"middle\" x=\"983.49\" y=\"-144.8\" font-family=\"Times,serif\" font-size=\"14.00\">yes, missing</text>\n",
       "</g>\n",
       "<!-- 10 -->\n",
       "<g id=\"node13\" class=\"node\">\n",
       "<title>10</title>\n",
       "<ellipse fill=\"none\" stroke=\"black\" cx=\"1080.99\" cy=\"-105\" rx=\"90.98\" ry=\"18\"/>\n",
       "<text text-anchor=\"middle\" x=\"1080.99\" y=\"-101.3\" font-family=\"Times,serif\" font-size=\"14.00\">leaf=58149.0391</text>\n",
       "</g>\n",
       "<!-- 4&#45;&gt;10 -->\n",
       "<g id=\"edge12\" class=\"edge\">\n",
       "<title>4&#45;&gt;10</title>\n",
       "<path fill=\"none\" stroke=\"#ff0000\" d=\"M1004.33,-174.87C1013.5,-169.33 1023.46,-162.8 1031.99,-156 1041.6,-148.34 1051.25,-138.94 1059.43,-130.36\"/>\n",
       "<polygon fill=\"#ff0000\" stroke=\"#ff0000\" points=\"1062.22,-132.49 1066.47,-122.79 1057.1,-127.73 1062.22,-132.49\"/>\n",
       "<text text-anchor=\"middle\" x=\"1056.99\" y=\"-144.8\" font-family=\"Times,serif\" font-size=\"14.00\">no</text>\n",
       "</g>\n",
       "<!-- 15 -->\n",
       "<g id=\"node8\" class=\"node\">\n",
       "<title>15</title>\n",
       "<ellipse fill=\"none\" stroke=\"black\" cx=\"90.99\" cy=\"-18\" rx=\"90.98\" ry=\"18\"/>\n",
       "<text text-anchor=\"middle\" x=\"90.99\" y=\"-14.3\" font-family=\"Times,serif\" font-size=\"14.00\">leaf=23555.6875</text>\n",
       "</g>\n",
       "<!-- 7&#45;&gt;15 -->\n",
       "<g id=\"edge7\" class=\"edge\">\n",
       "<title>7&#45;&gt;15</title>\n",
       "<path fill=\"none\" stroke=\"#0000ff\" d=\"M249.06,-89C232.98,-83.04 214.53,-75.96 197.99,-69 176.23,-59.84 152.4,-48.8 132.76,-39.43\"/>\n",
       "<polygon fill=\"#0000ff\" stroke=\"#0000ff\" points=\"134.01,-36.15 123.48,-34.98 130.98,-42.46 134.01,-36.15\"/>\n",
       "<text text-anchor=\"middle\" x=\"242.49\" y=\"-57.8\" font-family=\"Times,serif\" font-size=\"14.00\">yes, missing</text>\n",
       "</g>\n",
       "<!-- 16 -->\n",
       "<g id=\"node9\" class=\"node\">\n",
       "<title>16</title>\n",
       "<ellipse fill=\"none\" stroke=\"black\" cx=\"290.99\" cy=\"-18\" rx=\"90.98\" ry=\"18\"/>\n",
       "<text text-anchor=\"middle\" x=\"290.99\" y=\"-14.3\" font-family=\"Times,serif\" font-size=\"14.00\">leaf=30280.6328</text>\n",
       "</g>\n",
       "<!-- 7&#45;&gt;16 -->\n",
       "<g id=\"edge8\" class=\"edge\">\n",
       "<title>7&#45;&gt;16</title>\n",
       "<path fill=\"none\" stroke=\"#ff0000\" d=\"M290.99,-86.8C290.99,-75.16 290.99,-59.55 290.99,-46.24\"/>\n",
       "<polygon fill=\"#ff0000\" stroke=\"#ff0000\" points=\"294.49,-46.18 290.99,-36.18 287.49,-46.18 294.49,-46.18\"/>\n",
       "<text text-anchor=\"middle\" x=\"299.99\" y=\"-57.8\" font-family=\"Times,serif\" font-size=\"14.00\">no</text>\n",
       "</g>\n",
       "<!-- 17 -->\n",
       "<g id=\"node10\" class=\"node\">\n",
       "<title>17</title>\n",
       "<ellipse fill=\"none\" stroke=\"black\" cx=\"490.99\" cy=\"-18\" rx=\"90.98\" ry=\"18\"/>\n",
       "<text text-anchor=\"middle\" x=\"490.99\" y=\"-14.3\" font-family=\"Times,serif\" font-size=\"14.00\">leaf=34438.9688</text>\n",
       "</g>\n",
       "<!-- 8&#45;&gt;17 -->\n",
       "<g id=\"edge9\" class=\"edge\">\n",
       "<title>8&#45;&gt;17</title>\n",
       "<path fill=\"none\" stroke=\"#0000ff\" d=\"M575.86,-87.44C567.11,-81.83 557.48,-75.37 548.99,-69 538,-60.76 526.42,-51.02 516.53,-42.34\"/>\n",
       "<polygon fill=\"#0000ff\" stroke=\"#0000ff\" points=\"518.81,-39.67 509.01,-35.65 514.16,-44.91 518.81,-39.67\"/>\n",
       "<text text-anchor=\"middle\" x=\"593.49\" y=\"-57.8\" font-family=\"Times,serif\" font-size=\"14.00\">yes, missing</text>\n",
       "</g>\n",
       "<!-- 18 -->\n",
       "<g id=\"node11\" class=\"node\">\n",
       "<title>18</title>\n",
       "<ellipse fill=\"none\" stroke=\"black\" cx=\"690.99\" cy=\"-18\" rx=\"90.98\" ry=\"18\"/>\n",
       "<text text-anchor=\"middle\" x=\"690.99\" y=\"-14.3\" font-family=\"Times,serif\" font-size=\"14.00\">leaf=42397.9297</text>\n",
       "</g>\n",
       "<!-- 8&#45;&gt;18 -->\n",
       "<g id=\"edge10\" class=\"edge\">\n",
       "<title>8&#45;&gt;18</title>\n",
       "<path fill=\"none\" stroke=\"#ff0000\" d=\"M620.8,-86.8C633.89,-74.16 651.83,-56.82 666.3,-42.85\"/>\n",
       "<polygon fill=\"#ff0000\" stroke=\"#ff0000\" points=\"668.75,-45.35 673.51,-35.89 663.89,-40.32 668.75,-45.35\"/>\n",
       "<text text-anchor=\"middle\" x=\"661.99\" y=\"-57.8\" font-family=\"Times,serif\" font-size=\"14.00\">no</text>\n",
       "</g>\n",
       "<!-- 19 -->\n",
       "<g id=\"node14\" class=\"node\">\n",
       "<title>19</title>\n",
       "<ellipse fill=\"none\" stroke=\"black\" cx=\"890.99\" cy=\"-18\" rx=\"90.98\" ry=\"18\"/>\n",
       "<text text-anchor=\"middle\" x=\"890.99\" y=\"-14.3\" font-family=\"Times,serif\" font-size=\"14.00\">leaf=41194.3516</text>\n",
       "</g>\n",
       "<!-- 9&#45;&gt;19 -->\n",
       "<g id=\"edge13\" class=\"edge\">\n",
       "<title>9&#45;&gt;19</title>\n",
       "<path fill=\"none\" stroke=\"#0000ff\" d=\"M890.99,-86.8C890.99,-75.16 890.99,-59.55 890.99,-46.24\"/>\n",
       "<polygon fill=\"#0000ff\" stroke=\"#0000ff\" points=\"894.49,-46.18 890.99,-36.18 887.49,-46.18 894.49,-46.18\"/>\n",
       "<text text-anchor=\"middle\" x=\"935.49\" y=\"-57.8\" font-family=\"Times,serif\" font-size=\"14.00\">yes, missing</text>\n",
       "</g>\n",
       "<!-- 20 -->\n",
       "<g id=\"node15\" class=\"node\">\n",
       "<title>20</title>\n",
       "<ellipse fill=\"none\" stroke=\"black\" cx=\"1090.99\" cy=\"-18\" rx=\"90.98\" ry=\"18\"/>\n",
       "<text text-anchor=\"middle\" x=\"1090.99\" y=\"-14.3\" font-family=\"Times,serif\" font-size=\"14.00\">leaf=49998.5586</text>\n",
       "</g>\n",
       "<!-- 9&#45;&gt;20 -->\n",
       "<g id=\"edge14\" class=\"edge\">\n",
       "<title>9&#45;&gt;20</title>\n",
       "<path fill=\"none\" stroke=\"#ff0000\" d=\"M932,-89.34C948.3,-83.32 967.14,-76.1 983.99,-69 1005.75,-59.84 1029.59,-48.8 1049.23,-39.43\"/>\n",
       "<polygon fill=\"#ff0000\" stroke=\"#ff0000\" points=\"1051,-42.46 1058.5,-34.98 1047.97,-36.15 1051,-42.46\"/>\n",
       "<text text-anchor=\"middle\" x=\"1025.99\" y=\"-57.8\" font-family=\"Times,serif\" font-size=\"14.00\">no</text>\n",
       "</g>\n",
       "<!-- 11 -->\n",
       "<g id=\"node18\" class=\"node\">\n",
       "<title>11</title>\n",
       "<ellipse fill=\"none\" stroke=\"black\" cx=\"1280.99\" cy=\"-105\" rx=\"90.98\" ry=\"18\"/>\n",
       "<text text-anchor=\"middle\" x=\"1280.99\" y=\"-101.3\" font-family=\"Times,serif\" font-size=\"14.00\">leaf=57920.0352</text>\n",
       "</g>\n",
       "<!-- 5&#45;&gt;11 -->\n",
       "<g id=\"edge17\" class=\"edge\">\n",
       "<title>5&#45;&gt;11</title>\n",
       "<path fill=\"none\" stroke=\"#0000ff\" d=\"M1328.05,-173.8C1319.6,-161.62 1308.12,-145.09 1298.62,-131.4\"/>\n",
       "<polygon fill=\"#0000ff\" stroke=\"#0000ff\" points=\"1301.29,-129.1 1292.71,-122.89 1295.54,-133.1 1301.29,-129.1\"/>\n",
       "<text text-anchor=\"middle\" x=\"1359.49\" y=\"-144.8\" font-family=\"Times,serif\" font-size=\"14.00\">yes, missing</text>\n",
       "</g>\n",
       "<!-- 12 -->\n",
       "<g id=\"node19\" class=\"node\">\n",
       "<title>12</title>\n",
       "<ellipse fill=\"none\" stroke=\"black\" cx=\"1454.99\" cy=\"-105\" rx=\"64.99\" ry=\"18\"/>\n",
       "<text text-anchor=\"middle\" x=\"1454.99\" y=\"-101.3\" font-family=\"Times,serif\" font-size=\"14.00\">leaf=40104</text>\n",
       "</g>\n",
       "<!-- 5&#45;&gt;12 -->\n",
       "<g id=\"edge18\" class=\"edge\">\n",
       "<title>5&#45;&gt;12</title>\n",
       "<path fill=\"none\" stroke=\"#ff0000\" d=\"M1376.3,-175.19C1386.96,-169.8 1398.34,-163.27 1407.99,-156 1417.75,-148.64 1427.24,-139.15 1435.1,-130.42\"/>\n",
       "<polygon fill=\"#ff0000\" stroke=\"#ff0000\" points=\"1437.9,-132.54 1441.83,-122.7 1432.62,-127.94 1437.9,-132.54\"/>\n",
       "<text text-anchor=\"middle\" x=\"1433.99\" y=\"-144.8\" font-family=\"Times,serif\" font-size=\"14.00\">no</text>\n",
       "</g>\n",
       "<!-- 13 -->\n",
       "<g id=\"node20\" class=\"node\">\n",
       "<title>13</title>\n",
       "<ellipse fill=\"none\" stroke=\"black\" cx=\"1628.99\" cy=\"-105\" rx=\"90.98\" ry=\"18\"/>\n",
       "<text text-anchor=\"middle\" x=\"1628.99\" y=\"-101.3\" font-family=\"Times,serif\" font-size=\"14.00\">leaf=74159.5625</text>\n",
       "</g>\n",
       "<!-- 6&#45;&gt;13 -->\n",
       "<g id=\"edge19\" class=\"edge\">\n",
       "<title>6&#45;&gt;13</title>\n",
       "<path fill=\"none\" stroke=\"#0000ff\" d=\"M1628.99,-173.8C1628.99,-162.16 1628.99,-146.55 1628.99,-133.24\"/>\n",
       "<polygon fill=\"#0000ff\" stroke=\"#0000ff\" points=\"1632.49,-133.18 1628.99,-123.18 1625.49,-133.18 1632.49,-133.18\"/>\n",
       "<text text-anchor=\"middle\" x=\"1673.49\" y=\"-144.8\" font-family=\"Times,serif\" font-size=\"14.00\">yes, missing</text>\n",
       "</g>\n",
       "<!-- 14 -->\n",
       "<g id=\"node21\" class=\"node\">\n",
       "<title>14</title>\n",
       "<ellipse fill=\"none\" stroke=\"black\" cx=\"1810.99\" cy=\"-105\" rx=\"73.39\" ry=\"18\"/>\n",
       "<text text-anchor=\"middle\" x=\"1810.99\" y=\"-101.3\" font-family=\"Times,serif\" font-size=\"14.00\">leaf=94434.5</text>\n",
       "</g>\n",
       "<!-- 6&#45;&gt;14 -->\n",
       "<g id=\"edge20\" class=\"edge\">\n",
       "<title>6&#45;&gt;14</title>\n",
       "<path fill=\"none\" stroke=\"#ff0000\" d=\"M1672.15,-176.31C1688.04,-170.5 1706.04,-163.43 1721.99,-156 1740.43,-147.41 1760.22,-136.48 1776.44,-127.03\"/>\n",
       "<polygon fill=\"#ff0000\" stroke=\"#ff0000\" points=\"1778.22,-130.04 1785.06,-121.95 1774.67,-124.01 1778.22,-130.04\"/>\n",
       "<text text-anchor=\"middle\" x=\"1757.99\" y=\"-144.8\" font-family=\"Times,serif\" font-size=\"14.00\">no</text>\n",
       "</g>\n",
       "</g>\n",
       "</svg>\n"
      ],
      "text/plain": [
       "<graphviz.files.Source at 0x7ff4517097d0>"
      ]
     },
     "execution_count": 18,
     "metadata": {},
     "output_type": "execute_result"
    }
   ],
   "source": [
    "import graphviz\n",
    "xgb.to_graphviz(regressor)"
   ]
  },
  {
   "cell_type": "markdown",
   "id": "a6bc3362",
   "metadata": {
    "papermill": {
     "duration": 0.012527,
     "end_time": "2022-09-21T02:10:06.181548",
     "exception": false,
     "start_time": "2022-09-21T02:10:06.169021",
     "status": "completed"
    },
    "tags": []
   },
   "source": [
    "### Feature Impoortance"
   ]
  },
  {
   "cell_type": "code",
   "execution_count": 19,
   "id": "d2b2f63c",
   "metadata": {
    "execution": {
     "iopub.execute_input": "2022-09-21T02:10:06.210022Z",
     "iopub.status.busy": "2022-09-21T02:10:06.208748Z",
     "iopub.status.idle": "2022-09-21T02:10:06.874602Z",
     "shell.execute_reply": "2022-09-21T02:10:06.873118Z"
    },
    "papermill": {
     "duration": 0.682987,
     "end_time": "2022-09-21T02:10:06.877174",
     "exception": false,
     "start_time": "2022-09-21T02:10:06.194187",
     "status": "completed"
    },
    "tags": []
   },
   "outputs": [
    {
     "data": {
      "image/png": "[encoded data removed]",
      "text/plain": [
       "<Figure size 432x288 with 1 Axes>"
      ]
     },
     "metadata": {
      "needs_background": "light"
     },
     "output_type": "display_data"
    },
    {
     "data": {
      "text/plain": [
       "<Figure size 1440x1152 with 0 Axes>"
      ]
     },
     "metadata": {},
     "output_type": "display_data"
    }
   ],
   "source": [
    "xgb.plot_importance(regressor)\n",
    "plt.figure(figsize = (20, 16))\n",
    "plt.show()"
   ]
  },
  {
   "cell_type": "markdown",
   "id": "a1e3a7cf",
   "metadata": {
    "execution": {
     "iopub.execute_input": "2022-09-19T21:09:40.310967Z",
     "iopub.status.busy": "2022-09-19T21:09:40.310240Z",
     "iopub.status.idle": "2022-09-19T21:09:40.328174Z",
     "shell.execute_reply": "2022-09-19T21:09:40.326914Z",
     "shell.execute_reply.started": "2022-09-19T21:09:40.310928Z"
    },
    "papermill": {
     "duration": 0.014733,
     "end_time": "2022-09-21T02:10:06.906228",
     "exception": false,
     "start_time": "2022-09-21T02:10:06.891495",
     "status": "completed"
    },
    "tags": []
   },
   "source": [
    "# Test Dataset\n",
    "Make final predictions on unknown house price value using features from Train data"
   ]
  },
  {
   "cell_type": "code",
   "execution_count": 20,
   "id": "8b3c7e02",
   "metadata": {
    "execution": {
     "iopub.execute_input": "2022-09-21T02:10:06.936385Z",
     "iopub.status.busy": "2022-09-21T02:10:06.935629Z",
     "iopub.status.idle": "2022-09-21T02:10:07.042104Z",
     "shell.execute_reply": "2022-09-21T02:10:07.040557Z"
    },
    "papermill": {
     "duration": 0.124769,
     "end_time": "2022-09-21T02:10:07.045121",
     "exception": false,
     "start_time": "2022-09-21T02:10:06.920352",
     "status": "completed"
    },
    "tags": []
   },
   "outputs": [
    {
     "name": "stdout",
     "output_type": "stream",
     "text": [
      "(1459, 80)\n"
     ]
    },
    {
     "name": "stderr",
     "output_type": "stream",
     "text": [
      "/opt/conda/lib/python3.7/site-packages/ipykernel_launcher.py:7: FutureWarning: Dropping of nuisance columns in DataFrame reductions (with 'numeric_only=None') is deprecated; in a future version this will raise TypeError.  Select only valid columns before calling the reduction.\n",
      "  import sys\n"
     ]
    },
    {
     "data": {
      "text/html": [
       "<div>\n",
       "<style scoped>\n",
       "    .dataframe tbody tr th:only-of-type {\n",
       "        vertical-align: middle;\n",
       "    }\n",
       "\n",
       "    .dataframe tbody tr th {\n",
       "        vertical-align: top;\n",
       "    }\n",
       "\n",
       "    .dataframe thead th {\n",
       "        text-align: right;\n",
       "    }\n",
       "</style>\n",
       "<table border=\"1\" class=\"dataframe\">\n",
       "  <thead>\n",
       "    <tr style=\"text-align: right;\">\n",
       "      <th></th>\n",
       "      <th>Id</th>\n",
       "      <th>MSSubClass</th>\n",
       "      <th>LotFrontage</th>\n",
       "      <th>LotArea</th>\n",
       "      <th>OverallQual</th>\n",
       "      <th>OverallCond</th>\n",
       "      <th>YearBuilt</th>\n",
       "      <th>YearRemodAdd</th>\n",
       "      <th>MasVnrArea</th>\n",
       "      <th>BsmtFinSF1</th>\n",
       "      <th>...</th>\n",
       "      <th>WoodDeckSF</th>\n",
       "      <th>OpenPorchSF</th>\n",
       "      <th>EnclosedPorch</th>\n",
       "      <th>3SsnPorch</th>\n",
       "      <th>ScreenPorch</th>\n",
       "      <th>PoolArea</th>\n",
       "      <th>MiscVal</th>\n",
       "      <th>MoSold</th>\n",
       "      <th>YrSold</th>\n",
       "      <th>totalSQ</th>\n",
       "    </tr>\n",
       "  </thead>\n",
       "  <tbody>\n",
       "    <tr>\n",
       "      <th>0</th>\n",
       "      <td>1461</td>\n",
       "      <td>20</td>\n",
       "      <td>80.0</td>\n",
       "      <td>11622</td>\n",
       "      <td>5</td>\n",
       "      <td>6</td>\n",
       "      <td>1961</td>\n",
       "      <td>1961</td>\n",
       "      <td>0.0</td>\n",
       "      <td>468.0</td>\n",
       "      <td>...</td>\n",
       "      <td>140</td>\n",
       "      <td>0</td>\n",
       "      <td>0</td>\n",
       "      <td>0</td>\n",
       "      <td>120</td>\n",
       "      <td>0</td>\n",
       "      <td>0</td>\n",
       "      <td>6</td>\n",
       "      <td>2010</td>\n",
       "      <td>1778.0</td>\n",
       "    </tr>\n",
       "    <tr>\n",
       "      <th>1</th>\n",
       "      <td>1462</td>\n",
       "      <td>20</td>\n",
       "      <td>81.0</td>\n",
       "      <td>14267</td>\n",
       "      <td>6</td>\n",
       "      <td>6</td>\n",
       "      <td>1958</td>\n",
       "      <td>1958</td>\n",
       "      <td>108.0</td>\n",
       "      <td>923.0</td>\n",
       "      <td>...</td>\n",
       "      <td>393</td>\n",
       "      <td>36</td>\n",
       "      <td>0</td>\n",
       "      <td>0</td>\n",
       "      <td>0</td>\n",
       "      <td>0</td>\n",
       "      <td>12500</td>\n",
       "      <td>6</td>\n",
       "      <td>2010</td>\n",
       "      <td>2658.0</td>\n",
       "    </tr>\n",
       "    <tr>\n",
       "      <th>2</th>\n",
       "      <td>1463</td>\n",
       "      <td>60</td>\n",
       "      <td>74.0</td>\n",
       "      <td>13830</td>\n",
       "      <td>5</td>\n",
       "      <td>5</td>\n",
       "      <td>1997</td>\n",
       "      <td>1998</td>\n",
       "      <td>0.0</td>\n",
       "      <td>791.0</td>\n",
       "      <td>...</td>\n",
       "      <td>212</td>\n",
       "      <td>34</td>\n",
       "      <td>0</td>\n",
       "      <td>0</td>\n",
       "      <td>0</td>\n",
       "      <td>0</td>\n",
       "      <td>0</td>\n",
       "      <td>3</td>\n",
       "      <td>2010</td>\n",
       "      <td>2557.0</td>\n",
       "    </tr>\n",
       "    <tr>\n",
       "      <th>3</th>\n",
       "      <td>1464</td>\n",
       "      <td>60</td>\n",
       "      <td>78.0</td>\n",
       "      <td>9978</td>\n",
       "      <td>6</td>\n",
       "      <td>6</td>\n",
       "      <td>1998</td>\n",
       "      <td>1998</td>\n",
       "      <td>20.0</td>\n",
       "      <td>602.0</td>\n",
       "      <td>...</td>\n",
       "      <td>360</td>\n",
       "      <td>36</td>\n",
       "      <td>0</td>\n",
       "      <td>0</td>\n",
       "      <td>0</td>\n",
       "      <td>0</td>\n",
       "      <td>0</td>\n",
       "      <td>6</td>\n",
       "      <td>2010</td>\n",
       "      <td>2530.0</td>\n",
       "    </tr>\n",
       "    <tr>\n",
       "      <th>4</th>\n",
       "      <td>1465</td>\n",
       "      <td>120</td>\n",
       "      <td>43.0</td>\n",
       "      <td>5005</td>\n",
       "      <td>8</td>\n",
       "      <td>5</td>\n",
       "      <td>1992</td>\n",
       "      <td>1992</td>\n",
       "      <td>0.0</td>\n",
       "      <td>263.0</td>\n",
       "      <td>...</td>\n",
       "      <td>0</td>\n",
       "      <td>82</td>\n",
       "      <td>0</td>\n",
       "      <td>0</td>\n",
       "      <td>144</td>\n",
       "      <td>0</td>\n",
       "      <td>0</td>\n",
       "      <td>1</td>\n",
       "      <td>2010</td>\n",
       "      <td>2560.0</td>\n",
       "    </tr>\n",
       "  </tbody>\n",
       "</table>\n",
       "<p>5 rows × 38 columns</p>\n",
       "</div>"
      ],
      "text/plain": [
       "     Id  MSSubClass  LotFrontage  LotArea  OverallQual  OverallCond  \\\n",
       "0  1461          20         80.0    11622            5            6   \n",
       "1  1462          20         81.0    14267            6            6   \n",
       "2  1463          60         74.0    13830            5            5   \n",
       "3  1464          60         78.0     9978            6            6   \n",
       "4  1465         120         43.0     5005            8            5   \n",
       "\n",
       "   YearBuilt  YearRemodAdd  MasVnrArea  BsmtFinSF1  ...  WoodDeckSF  \\\n",
       "0       1961          1961         0.0       468.0  ...         140   \n",
       "1       1958          1958       108.0       923.0  ...         393   \n",
       "2       1997          1998         0.0       791.0  ...         212   \n",
       "3       1998          1998        20.0       602.0  ...         360   \n",
       "4       1992          1992         0.0       263.0  ...           0   \n",
       "\n",
       "   OpenPorchSF  EnclosedPorch  3SsnPorch  ScreenPorch  PoolArea  MiscVal  \\\n",
       "0            0              0          0          120         0        0   \n",
       "1           36              0          0            0         0    12500   \n",
       "2           34              0          0            0         0        0   \n",
       "3           36              0          0            0         0        0   \n",
       "4           82              0          0          144         0        0   \n",
       "\n",
       "   MoSold  YrSold  totalSQ  \n",
       "0       6    2010   1778.0  \n",
       "1       6    2010   2658.0  \n",
       "2       3    2010   2557.0  \n",
       "3       6    2010   2530.0  \n",
       "4       1    2010   2560.0  \n",
       "\n",
       "[5 rows x 38 columns]"
      ]
     },
     "execution_count": 20,
     "metadata": {},
     "output_type": "execute_result"
    }
   ],
   "source": [
    "test='/kaggle/input/house-prices-advanced-regression-techniques/test.csv'\n",
    "testDF=pd.read_csv(test)\n",
    "print(testDF.shape)\n",
    "\n",
    "#Missing Values\n",
    "testDF=testDF.drop_duplicates()\n",
    "testDF=testDF.fillna(testDF.mean())\n",
    "\n",
    "# Feature Engineer\n",
    "testDF['totalSQ']=testDF['1stFlrSF']+testDF['2ndFlrSF']+testDF['TotalBsmtSF'].drop(columns=['1stFlrSF', '2ndFlrSF', \n",
    "                'TotalBsmtSF'])\n",
    "testDF = testDF.select_dtypes(include=['int16', 'int32', 'int64', 'float16', 'float32', 'float64'])\n",
    "testDF.head()"
   ]
  },
  {
   "cell_type": "code",
   "execution_count": 21,
   "id": "8e12fd04",
   "metadata": {
    "execution": {
     "iopub.execute_input": "2022-09-21T02:10:07.075688Z",
     "iopub.status.busy": "2022-09-21T02:10:07.075317Z",
     "iopub.status.idle": "2022-09-21T02:10:07.081543Z",
     "shell.execute_reply": "2022-09-21T02:10:07.080374Z"
    },
    "papermill": {
     "duration": 0.024159,
     "end_time": "2022-09-21T02:10:07.083860",
     "exception": false,
     "start_time": "2022-09-21T02:10:07.059701",
     "status": "completed"
    },
    "tags": []
   },
   "outputs": [],
   "source": [
    "testIDs=testDF['Id']\n",
    "cols=X_test.columns\n",
    "testDF=testDF[cols]"
   ]
  },
  {
   "cell_type": "code",
   "execution_count": 22,
   "id": "0cdfb0c3",
   "metadata": {
    "execution": {
     "iopub.execute_input": "2022-09-21T02:10:07.114301Z",
     "iopub.status.busy": "2022-09-21T02:10:07.113877Z",
     "iopub.status.idle": "2022-09-21T02:10:07.129614Z",
     "shell.execute_reply": "2022-09-21T02:10:07.128670Z"
    },
    "papermill": {
     "duration": 0.034194,
     "end_time": "2022-09-21T02:10:07.132317",
     "exception": false,
     "start_time": "2022-09-21T02:10:07.098123",
     "status": "completed"
    },
    "tags": []
   },
   "outputs": [],
   "source": [
    "#Final Prediction\n",
    "finalPred=regressor.predict(testDF).round(2)\n",
    "tupDF=list(zip(testIDs,finalPred))"
   ]
  },
  {
   "cell_type": "code",
   "execution_count": 23,
   "id": "aa18fd45",
   "metadata": {
    "execution": {
     "iopub.execute_input": "2022-09-21T02:10:07.164986Z",
     "iopub.status.busy": "2022-09-21T02:10:07.163915Z",
     "iopub.status.idle": "2022-09-21T02:10:07.177906Z",
     "shell.execute_reply": "2022-09-21T02:10:07.176767Z"
    },
    "papermill": {
     "duration": 0.031728,
     "end_time": "2022-09-21T02:10:07.180314",
     "exception": false,
     "start_time": "2022-09-21T02:10:07.148586",
     "status": "completed"
    },
    "tags": []
   },
   "outputs": [
    {
     "data": {
      "text/html": [
       "<div>\n",
       "<style scoped>\n",
       "    .dataframe tbody tr th:only-of-type {\n",
       "        vertical-align: middle;\n",
       "    }\n",
       "\n",
       "    .dataframe tbody tr th {\n",
       "        vertical-align: top;\n",
       "    }\n",
       "\n",
       "    .dataframe thead th {\n",
       "        text-align: right;\n",
       "    }\n",
       "</style>\n",
       "<table border=\"1\" class=\"dataframe\">\n",
       "  <thead>\n",
       "    <tr style=\"text-align: right;\">\n",
       "      <th></th>\n",
       "      <th>Id</th>\n",
       "      <th>SalePrice</th>\n",
       "    </tr>\n",
       "  </thead>\n",
       "  <tbody>\n",
       "    <tr>\n",
       "      <th>0</th>\n",
       "      <td>1461</td>\n",
       "      <td>119225.617188</td>\n",
       "    </tr>\n",
       "    <tr>\n",
       "      <th>1</th>\n",
       "      <td>1462</td>\n",
       "      <td>146087.796875</td>\n",
       "    </tr>\n",
       "    <tr>\n",
       "      <th>2</th>\n",
       "      <td>1463</td>\n",
       "      <td>196145.078125</td>\n",
       "    </tr>\n",
       "    <tr>\n",
       "      <th>3</th>\n",
       "      <td>1464</td>\n",
       "      <td>181918.234375</td>\n",
       "    </tr>\n",
       "    <tr>\n",
       "      <th>4</th>\n",
       "      <td>1465</td>\n",
       "      <td>167940.546875</td>\n",
       "    </tr>\n",
       "  </tbody>\n",
       "</table>\n",
       "</div>"
      ],
      "text/plain": [
       "     Id      SalePrice\n",
       "0  1461  119225.617188\n",
       "1  1462  146087.796875\n",
       "2  1463  196145.078125\n",
       "3  1464  181918.234375\n",
       "4  1465  167940.546875"
      ]
     },
     "execution_count": 23,
     "metadata": {},
     "output_type": "execute_result"
    }
   ],
   "source": [
    "output=pd.DataFrame(tupDF, columns=['Id','SalePrice']).sort_values(by='Id').reset_index(drop=True)\n",
    "output.head()"
   ]
  },
  {
   "cell_type": "code",
   "execution_count": 24,
   "id": "7ccd9017",
   "metadata": {
    "execution": {
     "iopub.execute_input": "2022-09-21T02:10:07.210945Z",
     "iopub.status.busy": "2022-09-21T02:10:07.210277Z",
     "iopub.status.idle": "2022-09-21T02:10:07.222673Z",
     "shell.execute_reply": "2022-09-21T02:10:07.221451Z"
    },
    "papermill": {
     "duration": 0.03023,
     "end_time": "2022-09-21T02:10:07.224804",
     "exception": false,
     "start_time": "2022-09-21T02:10:07.194574",
     "status": "completed"
    },
    "tags": []
   },
   "outputs": [
    {
     "name": "stdout",
     "output_type": "stream",
     "text": [
      "(1459, 2)\n",
      "Output Created\n"
     ]
    }
   ],
   "source": [
    "print(output.shape)\n",
    "output.to_csv('submission.csv', index=False)\n",
    "print(\"Output Created\")"
   ]
  }
 ],
 "metadata": {
  "kernelspec": {
   "display_name": "Python 3",
   "language": "python",
   "name": "python3"
  },
  "language_info": {
   "codemirror_mode": {
    "name": "ipython",
    "version": 3
   },
   "file_extension": ".py",
   "mimetype": "text/x-python",
   "name": "python",
   "nbconvert_exporter": "python",
   "pygments_lexer": "ipython3",
   "version": "3.7.12"
  },
  "papermill": {
   "default_parameters": {},
   "duration": 31.101957,
   "end_time": "2022-09-21T02:10:08.062431",
   "environment_variables": {},
   "exception": null,
   "input_path": "__notebook__.ipynb",
   "output_path": "__notebook__.ipynb",
   "parameters": {},
   "start_time": "2022-09-21T02:09:36.960474",
   "version": "2.3.4"
  }
 },
 "nbformat": 4,
 "nbformat_minor": 5
}
