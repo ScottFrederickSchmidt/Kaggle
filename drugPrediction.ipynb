{
 "cells": [
  {
   "cell_type": "markdown",
   "id": "baffb461",
   "metadata": {
    "execution": {
     "iopub.execute_input": "2022-02-07T04:29:48.196183Z",
     "iopub.status.busy": "2022-02-07T04:29:48.195883Z",
     "iopub.status.idle": "2022-02-07T04:29:48.228199Z",
     "shell.execute_reply": "2022-02-07T04:29:48.227609Z",
     "shell.execute_reply.started": "2022-02-07T04:29:48.196149Z"
    },
    "papermill": {
     "duration": 0.022922,
     "end_time": "2022-05-03T19:21:01.790608",
     "exception": false,
     "start_time": "2022-05-03T19:21:01.767686",
     "status": "completed"
    },
    "tags": []
   },
   "source": [
    "# Decision Tree for Medical Drug Prediction\n",
    "#### Using previous medical data to predict what drug an unknown patient would need. \n",
    "\n",
    "In brief summary, the decision tree with max best tree leaf discovered some trends as follows:\n",
    "* Model accuracy score with criterion gini index: 0.5667\n",
    "* Criterion entropy also had a 0.5667.\n",
    "<br> <br> No major overfitting was detected as the test and train set gave similiar results.\n",
    "\n",
    "-----\n",
    "\n",
    "The original dataset csv can be found on Kaggle: https://www.kaggle.com/prathamtripathi/drug-classification. Project based in IBM Decision Trees Lab for the course Machine Learning with Python. The original dataset columns and first five rows can be viewed below:"
   ]
  },
  {
   "cell_type": "code",
   "execution_count": 1,
   "id": "1e70b655",
   "metadata": {
    "execution": {
     "iopub.execute_input": "2022-05-03T19:21:01.849614Z",
     "iopub.status.busy": "2022-05-03T19:21:01.848434Z",
     "iopub.status.idle": "2022-05-03T19:21:03.212848Z",
     "shell.execute_reply": "2022-05-03T19:21:03.212117Z",
     "shell.execute_reply.started": "2022-03-23T15:53:28.402997Z"
    },
    "papermill": {
     "duration": 1.40017,
     "end_time": "2022-05-03T19:21:03.213043",
     "exception": false,
     "start_time": "2022-05-03T19:21:01.812873",
     "status": "completed"
    },
    "tags": []
   },
   "outputs": [
    {
     "data": {
      "text/html": [
       "<div>\n",
       "<style scoped>\n",
       "    .dataframe tbody tr th:only-of-type {\n",
       "        vertical-align: middle;\n",
       "    }\n",
       "\n",
       "    .dataframe tbody tr th {\n",
       "        vertical-align: top;\n",
       "    }\n",
       "\n",
       "    .dataframe thead th {\n",
       "        text-align: right;\n",
       "    }\n",
       "</style>\n",
       "<table border=\"1\" class=\"dataframe\">\n",
       "  <thead>\n",
       "    <tr style=\"text-align: right;\">\n",
       "      <th></th>\n",
       "      <th>Age</th>\n",
       "      <th>Sex</th>\n",
       "      <th>BP</th>\n",
       "      <th>Cholesterol</th>\n",
       "      <th>Na_to_K</th>\n",
       "      <th>Drug</th>\n",
       "    </tr>\n",
       "  </thead>\n",
       "  <tbody>\n",
       "    <tr>\n",
       "      <th>0</th>\n",
       "      <td>23</td>\n",
       "      <td>F</td>\n",
       "      <td>HIGH</td>\n",
       "      <td>HIGH</td>\n",
       "      <td>25.355</td>\n",
       "      <td>DrugY</td>\n",
       "    </tr>\n",
       "    <tr>\n",
       "      <th>1</th>\n",
       "      <td>47</td>\n",
       "      <td>M</td>\n",
       "      <td>LOW</td>\n",
       "      <td>HIGH</td>\n",
       "      <td>13.093</td>\n",
       "      <td>drugC</td>\n",
       "    </tr>\n",
       "    <tr>\n",
       "      <th>2</th>\n",
       "      <td>47</td>\n",
       "      <td>M</td>\n",
       "      <td>LOW</td>\n",
       "      <td>HIGH</td>\n",
       "      <td>10.114</td>\n",
       "      <td>drugC</td>\n",
       "    </tr>\n",
       "    <tr>\n",
       "      <th>3</th>\n",
       "      <td>28</td>\n",
       "      <td>F</td>\n",
       "      <td>NORMAL</td>\n",
       "      <td>HIGH</td>\n",
       "      <td>7.798</td>\n",
       "      <td>drugX</td>\n",
       "    </tr>\n",
       "    <tr>\n",
       "      <th>4</th>\n",
       "      <td>61</td>\n",
       "      <td>F</td>\n",
       "      <td>LOW</td>\n",
       "      <td>HIGH</td>\n",
       "      <td>18.043</td>\n",
       "      <td>DrugY</td>\n",
       "    </tr>\n",
       "  </tbody>\n",
       "</table>\n",
       "</div>"
      ],
      "text/plain": [
       "   Age Sex      BP Cholesterol  Na_to_K   Drug\n",
       "0   23   F    HIGH        HIGH   25.355  DrugY\n",
       "1   47   M     LOW        HIGH   13.093  drugC\n",
       "2   47   M     LOW        HIGH   10.114  drugC\n",
       "3   28   F  NORMAL        HIGH    7.798  drugX\n",
       "4   61   F     LOW        HIGH   18.043  DrugY"
      ]
     },
     "execution_count": 1,
     "metadata": {},
     "output_type": "execute_result"
    }
   ],
   "source": [
    "import pandas as pd\n",
    "import numpy as np\n",
    "from sklearn.model_selection import train_test_split, cross_validate\n",
    "from sklearn.metrics import mean_absolute_error\n",
    "\n",
    "import matplotlib.pyplot as plt\n",
    "import seaborn as sns\n",
    "%matplotlib inline\n",
    "\n",
    "file=r'/kaggle/input/drug-classification/drug200.csv' # Kaggle version\n",
    "#file=r'C:\\Users\\sschm\\Desktop\\drug200.csv' # Jypiter version\n",
    "data=pd.read_csv(file) \n",
    "data.head()"
   ]
  },
  {
   "cell_type": "code",
   "execution_count": 2,
   "id": "2dada9b5",
   "metadata": {
    "execution": {
     "iopub.execute_input": "2022-05-03T19:21:03.267577Z",
     "iopub.status.busy": "2022-05-03T19:21:03.266938Z",
     "iopub.status.idle": "2022-05-03T19:21:03.269457Z",
     "shell.execute_reply": "2022-05-03T19:21:03.269942Z",
     "shell.execute_reply.started": "2022-03-23T15:53:28.432374Z"
    },
    "papermill": {
     "duration": 0.032238,
     "end_time": "2022-05-03T19:21:03.270105",
     "exception": false,
     "start_time": "2022-05-03T19:21:03.237867",
     "status": "completed"
    },
    "tags": []
   },
   "outputs": [
    {
     "data": {
      "text/plain": [
       "Age              int64\n",
       "Sex             object\n",
       "BP              object\n",
       "Cholesterol     object\n",
       "Na_to_K        float64\n",
       "Drug            object\n",
       "dtype: object"
      ]
     },
     "execution_count": 2,
     "metadata": {},
     "output_type": "execute_result"
    }
   ],
   "source": [
    "data.dtypes"
   ]
  },
  {
   "cell_type": "markdown",
   "id": "ea959499",
   "metadata": {
    "papermill": {
     "duration": 0.022993,
     "end_time": "2022-05-03T19:21:03.315980",
     "exception": false,
     "start_time": "2022-05-03T19:21:03.292987",
     "status": "completed"
    },
    "tags": []
   },
   "source": [
    "## Examine Drug Y Variable"
   ]
  },
  {
   "cell_type": "code",
   "execution_count": 3,
   "id": "e5c1d06d",
   "metadata": {
    "execution": {
     "iopub.execute_input": "2022-05-03T19:21:03.372602Z",
     "iopub.status.busy": "2022-05-03T19:21:03.365972Z",
     "iopub.status.idle": "2022-05-03T19:21:03.580810Z",
     "shell.execute_reply": "2022-05-03T19:21:03.581412Z",
     "shell.execute_reply.started": "2022-03-23T15:53:28.442773Z"
    },
    "papermill": {
     "duration": 0.242194,
     "end_time": "2022-05-03T19:21:03.581574",
     "exception": false,
     "start_time": "2022-05-03T19:21:03.339380",
     "status": "completed"
    },
    "tags": []
   },
   "outputs": [
    {
     "name": "stdout",
     "output_type": "stream",
     "text": [
      "AxesSubplot(0.125,0.125;0.775x0.755)\n"
     ]
    },
    {
     "data": {
      "image/png": "[encoded data removed]",
      "text/plain": [
       "<Figure size 432x288 with 1 Axes>"
      ]
     },
     "metadata": {
      "needs_background": "light"
     },
     "output_type": "display_data"
    }
   ],
   "source": [
    "drugCount=data['Drug'].value_counts(ascending=False).plot(kind='bar');\n",
    "print(drugCount)"
   ]
  },
  {
   "cell_type": "markdown",
   "id": "60e3256b",
   "metadata": {
    "papermill": {
     "duration": 0.025257,
     "end_time": "2022-05-03T19:21:03.631541",
     "exception": false,
     "start_time": "2022-05-03T19:21:03.606284",
     "status": "completed"
    },
    "tags": []
   },
   "source": [
    "## Find missing data\n",
    "There was no missing data on our csv files. This is good news and means the researchers have collected some good data!"
   ]
  },
  {
   "cell_type": "code",
   "execution_count": 4,
   "id": "8bf28c47",
   "metadata": {
    "execution": {
     "iopub.execute_input": "2022-05-03T19:21:03.690383Z",
     "iopub.status.busy": "2022-05-03T19:21:03.689708Z",
     "iopub.status.idle": "2022-05-03T19:21:03.692097Z",
     "shell.execute_reply": "2022-05-03T19:21:03.692607Z",
     "shell.execute_reply.started": "2022-03-23T15:53:28.664584Z"
    },
    "papermill": {
     "duration": 0.03659,
     "end_time": "2022-05-03T19:21:03.692763",
     "exception": false,
     "start_time": "2022-05-03T19:21:03.656173",
     "status": "completed"
    },
    "tags": []
   },
   "outputs": [
    {
     "name": "stdout",
     "output_type": "stream",
     "text": [
      "Missing data by column:\n",
      "Age            0.0\n",
      "Sex            0.0\n",
      "BP             0.0\n",
      "Cholesterol    0.0\n",
      "Na_to_K        0.0\n",
      "Drug           0.0\n",
      "dtype: float64\n"
     ]
    }
   ],
   "source": [
    "print(\"Missing data by column:\")\n",
    "findNA=data.isnull().sum().sort_values(ascending=False)/len(data)\n",
    "print(findNA) #There are no missing values"
   ]
  },
  {
   "cell_type": "markdown",
   "id": "adce241f",
   "metadata": {
    "papermill": {
     "duration": 0.02452,
     "end_time": "2022-05-03T19:21:03.742081",
     "exception": false,
     "start_time": "2022-05-03T19:21:03.717561",
     "status": "completed"
    },
    "tags": []
   },
   "source": [
    "## Feature Engineer X and Y\n",
    "One can change the four drugs into numeric values: DrugY drugC drugX  drugB into numbers using: <br>\n",
    "`df.replace({0: 10, 1: 100})` "
   ]
  },
  {
   "cell_type": "code",
   "execution_count": 5,
   "id": "50a32e15",
   "metadata": {
    "execution": {
     "iopub.execute_input": "2022-05-03T19:21:03.801235Z",
     "iopub.status.busy": "2022-05-03T19:21:03.800595Z",
     "iopub.status.idle": "2022-05-03T19:21:03.802939Z",
     "shell.execute_reply": "2022-05-03T19:21:03.803442Z",
     "shell.execute_reply.started": "2022-03-23T15:53:28.67457Z"
    },
    "papermill": {
     "duration": 0.0366,
     "end_time": "2022-05-03T19:21:03.803608",
     "exception": false,
     "start_time": "2022-05-03T19:21:03.767008",
     "status": "completed"
    },
    "tags": []
   },
   "outputs": [
    {
     "data": {
      "text/plain": [
       "0    DrugY\n",
       "1    drugC\n",
       "2    drugC\n",
       "3    drugX\n",
       "4    DrugY\n",
       "Name: Drug, dtype: object"
      ]
     },
     "execution_count": 5,
     "metadata": {},
     "output_type": "execute_result"
    }
   ],
   "source": [
    "X=data.drop('Drug', axis=1)\n",
    "y=data['Drug']\n",
    "#y=data['Drug'].replace({'DrugY': 0, 'drugC':1, 'drugA':2, 'drugX':3, 'drugB':4}).astype(int)\n",
    "y.head()"
   ]
  },
  {
   "cell_type": "markdown",
   "id": "62f951f7",
   "metadata": {
    "papermill": {
     "duration": 0.025265,
     "end_time": "2022-05-03T19:21:03.853781",
     "exception": false,
     "start_time": "2022-05-03T19:21:03.828516",
     "status": "completed"
    },
    "tags": []
   },
   "source": [
    "## Split Data\n",
    "Split the data set into training data and test data with 70% data and 30% being used as a way to test the results."
   ]
  },
  {
   "cell_type": "code",
   "execution_count": 6,
   "id": "3428877d",
   "metadata": {
    "execution": {
     "iopub.execute_input": "2022-05-03T19:21:03.909774Z",
     "iopub.status.busy": "2022-05-03T19:21:03.909091Z",
     "iopub.status.idle": "2022-05-03T19:21:03.911000Z",
     "shell.execute_reply": "2022-05-03T19:21:03.910466Z",
     "shell.execute_reply.started": "2022-03-23T15:53:28.68882Z"
    },
    "papermill": {
     "duration": 0.03276,
     "end_time": "2022-05-03T19:21:03.911153",
     "exception": false,
     "start_time": "2022-05-03T19:21:03.878393",
     "status": "completed"
    },
    "tags": []
   },
   "outputs": [],
   "source": [
    "X_train, X_test, y_train, y_test = train_test_split(X, y, test_size = 0.30, random_state = 42)"
   ]
  },
  {
   "cell_type": "markdown",
   "id": "78bf0326",
   "metadata": {
    "papermill": {
     "duration": 0.024805,
     "end_time": "2022-05-03T19:21:03.961168",
     "exception": false,
     "start_time": "2022-05-03T19:21:03.936363",
     "status": "completed"
    },
    "tags": []
   },
   "source": [
    "## Feature Engineering\n",
    "Encode Categorical Variables is needed for this dataset since there are many important variables that are numeric. Normally, decision trees are good for categorical features. "
   ]
  },
  {
   "cell_type": "code",
   "execution_count": 7,
   "id": "1fdbd0ce",
   "metadata": {
    "execution": {
     "iopub.execute_input": "2022-05-03T19:21:04.014097Z",
     "iopub.status.busy": "2022-05-03T19:21:04.013495Z",
     "iopub.status.idle": "2022-05-03T19:21:04.241066Z",
     "shell.execute_reply": "2022-05-03T19:21:04.240513Z",
     "shell.execute_reply.started": "2022-03-23T15:53:28.697729Z"
    },
    "papermill": {
     "duration": 0.255001,
     "end_time": "2022-05-03T19:21:04.241224",
     "exception": false,
     "start_time": "2022-05-03T19:21:03.986223",
     "status": "completed"
    },
    "tags": []
   },
   "outputs": [],
   "source": [
    "import category_encoders as ce\n",
    "#encode variables with ordinal encoding\n",
    "encoder = ce.OrdinalEncoder(cols=X.columns)\n",
    "\n",
    "X_train = encoder.fit_transform(X_train)\n",
    "X_test = encoder.transform(X_test)"
   ]
  },
  {
   "cell_type": "markdown",
   "id": "71bd71c6",
   "metadata": {
    "papermill": {
     "duration": 0.024593,
     "end_time": "2022-05-03T19:21:04.290795",
     "exception": false,
     "start_time": "2022-05-03T19:21:04.266202",
     "status": "completed"
    },
    "tags": []
   },
   "source": [
    "## DecisionTreeClassifier with gini index\n",
    "Model accuracy score with criterion gini index: 0.5667\n",
    "The best max_depth with least amount of error is 3 when you call the calcDepth function."
   ]
  },
  {
   "cell_type": "code",
   "execution_count": 8,
   "id": "d6de9c3b",
   "metadata": {
    "execution": {
     "iopub.execute_input": "2022-05-03T19:21:04.356466Z",
     "iopub.status.busy": "2022-05-03T19:21:04.355679Z",
     "iopub.status.idle": "2022-05-03T19:21:04.528245Z",
     "shell.execute_reply": "2022-05-03T19:21:04.527457Z",
     "shell.execute_reply.started": "2022-03-23T15:53:28.733734Z"
    },
    "papermill": {
     "duration": 0.211033,
     "end_time": "2022-05-03T19:21:04.528399",
     "exception": false,
     "start_time": "2022-05-03T19:21:04.317366",
     "status": "completed"
    },
    "tags": []
   },
   "outputs": [
    {
     "name": "stdout",
     "output_type": "stream",
     "text": [
      "Model accuracy score with criterion gini index: 0.4500\n"
     ]
    }
   ],
   "source": [
    "from sklearn.tree import DecisionTreeClassifier\n",
    "\n",
    "def get_mae(best_max_depth, train_X, val_X, train_y, val_y):\n",
    "    model = DecisionTreeClassifier(criterion='gini', max_depth=best_max_depth, random_state=0)\n",
    "    model.fit(train_X, train_y)\n",
    "    preds_val = model.predict(val_X)\n",
    "    mae = mean_absolute_error(val_y, preds_val)\n",
    "    return(mae)\n",
    "\n",
    "def calcDepth():\n",
    "    candidate_max_leaf_nodes = [3, 5, 10, 15, 200, 500]\n",
    "    maeDic={} #dictionary  key=leaf  mae=value\n",
    "    for leaf in candidate_max_leaf_nodes:\n",
    "        mae=get_mae(leaf, X_train, X_test, y_train, y_test)\n",
    "        maeDic[leaf]=mae\n",
    "\n",
    "    best_max_depth = sorted(maeDic, key=lambda x : maeDic[x])[0]\n",
    "    print(best_max_depth, \" best_max_depth\")\n",
    "\n",
    "#calcDepth()\n",
    "best_max_depth=3\n",
    "\n",
    "clf_gini = DecisionTreeClassifier(criterion='gini', max_depth=best_max_depth, random_state=0)\n",
    "clf_gini.fit(X_train, y_train)\n",
    "y_pred_gini = clf_gini.predict(X_test)\n",
    "\n",
    "# Check accuracy score with criterion gini index\n",
    "from sklearn.metrics import accuracy_score\n",
    "\n",
    "print('Model accuracy score with criterion gini index: {0:0.4f}'. format(accuracy_score(y_test, y_pred_gini)))"
   ]
  },
  {
   "cell_type": "markdown",
   "id": "c21267c3",
   "metadata": {
    "papermill": {
     "duration": 0.024872,
     "end_time": "2022-05-03T19:21:04.578651",
     "exception": false,
     "start_time": "2022-05-03T19:21:04.553779",
     "status": "completed"
    },
    "tags": []
   },
   "source": [
    "## Overfiting and underfiting\n",
    "Does the training results seem to give similiar results as the real test data? \n",
    "Overfit means that the train results are too good and not realistic. Underfitting means that the train data seems to have underperformed the actual result. For more information on overfitting, one should research trade/bias tradeoff."
   ]
  },
  {
   "cell_type": "code",
   "execution_count": 9,
   "id": "679b78fe",
   "metadata": {
    "execution": {
     "iopub.execute_input": "2022-05-03T19:21:04.638420Z",
     "iopub.status.busy": "2022-05-03T19:21:04.635804Z",
     "iopub.status.idle": "2022-05-03T19:21:04.642438Z",
     "shell.execute_reply": "2022-05-03T19:21:04.641665Z",
     "shell.execute_reply.started": "2022-03-23T15:53:28.752998Z"
    },
    "papermill": {
     "duration": 0.038689,
     "end_time": "2022-05-03T19:21:04.642590",
     "exception": false,
     "start_time": "2022-05-03T19:21:04.603901",
     "status": "completed"
    },
    "tags": []
   },
   "outputs": [
    {
     "name": "stdout",
     "output_type": "stream",
     "text": [
      "Training set score: 0.5786\n",
      "Test set score: 0.4500\n"
     ]
    }
   ],
   "source": [
    "print('Training set score: {:.4f}'.format(clf_gini.score(X_train, y_train)))\n",
    "print('Test set score: {:.4f}'.format(clf_gini.score(X_test, y_test)))"
   ]
  },
  {
   "cell_type": "markdown",
   "id": "73fa688f",
   "metadata": {
    "papermill": {
     "duration": 0.025547,
     "end_time": "2022-05-03T19:21:04.694220",
     "exception": false,
     "start_time": "2022-05-03T19:21:04.668673",
     "status": "completed"
    },
    "tags": []
   },
   "source": [
    "Because the test score is about 10% lower, there seems to be some indication that the data is slighty underfit. But overall, the two numbers are similiar."
   ]
  },
  {
   "cell_type": "markdown",
   "id": "b3ee2e4c",
   "metadata": {
    "papermill": {
     "duration": 0.025598,
     "end_time": "2022-05-03T19:21:04.745857",
     "exception": false,
     "start_time": "2022-05-03T19:21:04.720259",
     "status": "completed"
    },
    "tags": []
   },
   "source": [
    "## Visualize decision tree \n",
    "For more information on using graphviz, the official documentation be be found here:\n",
    "https://graphviz.readthedocs.io/en/stable/manual.html"
   ]
  },
  {
   "cell_type": "code",
   "execution_count": 10,
   "id": "d4ef7c27",
   "metadata": {
    "execution": {
     "iopub.execute_input": "2022-05-03T19:21:04.807452Z",
     "iopub.status.busy": "2022-05-03T19:21:04.806579Z",
     "iopub.status.idle": "2022-05-03T19:21:05.704068Z",
     "shell.execute_reply": "2022-05-03T19:21:05.703432Z",
     "shell.execute_reply.started": "2022-03-23T15:53:28.775013Z"
    },
    "papermill": {
     "duration": 0.93232,
     "end_time": "2022-05-03T19:21:05.704223",
     "exception": false,
     "start_time": "2022-05-03T19:21:04.771903",
     "status": "completed"
    },
    "tags": []
   },
   "outputs": [
    {
     "data": {
      "text/plain": [
       "[Text(334.8, 380.52, 'X[2] <= 1.5\\ngini = 0.692\\nsamples = 140\\nvalue = [65, 16, 13, 10, 36]'),\n",
       " Text(167.4, 271.8, 'X[4] <= 100.0\\ngini = 0.628\\nsamples = 57\\nvalue = [28, 16, 13, 0, 0]'),\n",
       " Text(83.7, 163.07999999999998, 'X[1] <= 1.5\\ngini = 0.656\\nsamples = 44\\nvalue = [17, 16, 11, 0, 0]'),\n",
       " Text(41.85, 54.360000000000014, 'gini = 0.595\\nsamples = 22\\nvalue = [12, 6, 4, 0, 0]'),\n",
       " Text(125.55000000000001, 54.360000000000014, 'gini = 0.64\\nsamples = 22\\nvalue = [5, 10, 7, 0, 0]'),\n",
       " Text(251.10000000000002, 163.07999999999998, 'X[0] <= 39.0\\ngini = 0.26\\nsamples = 13\\nvalue = [11, 0, 2, 0, 0]'),\n",
       " Text(209.25, 54.360000000000014, 'gini = 0.0\\nsamples = 8\\nvalue = [8, 0, 0, 0, 0]'),\n",
       " Text(292.95, 54.360000000000014, 'gini = 0.48\\nsamples = 5\\nvalue = [3, 0, 2, 0, 0]'),\n",
       " Text(502.20000000000005, 271.8, 'X[2] <= 2.5\\ngini = 0.599\\nsamples = 83\\nvalue = [37, 0, 0, 10, 36]'),\n",
       " Text(418.5, 163.07999999999998, 'X[3] <= 1.5\\ngini = 0.631\\nsamples = 41\\nvalue = [20, 0, 0, 10, 11]'),\n",
       " Text(376.65000000000003, 54.360000000000014, 'gini = 0.499\\nsamples = 21\\nvalue = [11, 0, 0, 10, 0]'),\n",
       " Text(460.35, 54.360000000000014, 'gini = 0.495\\nsamples = 20\\nvalue = [9, 0, 0, 0, 11]'),\n",
       " Text(585.9, 163.07999999999998, 'X[0] <= 19.5\\ngini = 0.482\\nsamples = 42\\nvalue = [17, 0, 0, 0, 25]'),\n",
       " Text(544.0500000000001, 54.360000000000014, 'gini = 0.36\\nsamples = 17\\nvalue = [4, 0, 0, 0, 13]'),\n",
       " Text(627.75, 54.360000000000014, 'gini = 0.499\\nsamples = 25\\nvalue = [13, 0, 0, 0, 12]')]"
      ]
     },
     "execution_count": 10,
     "metadata": {},
     "output_type": "execute_result"
    },
    {
     "data": {
      "image/png": "[encoded data removed]",
      "text/plain": [
       "<Figure size 864x576 with 1 Axes>"
      ]
     },
     "metadata": {
      "needs_background": "light"
     },
     "output_type": "display_data"
    }
   ],
   "source": [
    "plt.figure(figsize=(12,8))\n",
    "from sklearn import tree\n",
    "tree.plot_tree(clf_gini.fit(X_train, y_train)) "
   ]
  },
  {
   "cell_type": "code",
   "execution_count": 11,
   "id": "4ed2be4b",
   "metadata": {
    "execution": {
     "iopub.execute_input": "2022-05-03T19:21:05.765979Z",
     "iopub.status.busy": "2022-05-03T19:21:05.765334Z",
     "iopub.status.idle": "2022-05-03T19:21:06.912773Z",
     "shell.execute_reply": "2022-05-03T19:21:06.912111Z",
     "shell.execute_reply.started": "2022-03-23T15:53:29.913528Z"
    },
    "papermill": {
     "duration": 1.18084,
     "end_time": "2022-05-03T19:21:06.912915",
     "exception": false,
     "start_time": "2022-05-03T19:21:05.732075",
     "status": "completed"
    },
    "tags": []
   },
   "outputs": [
    {
     "data": {
      "image/svg+xml": [
       "<?xml version=\"1.0\" encoding=\"UTF-8\" standalone=\"no\"?>\n",
       "<!DOCTYPE svg PUBLIC \"-//W3C//DTD SVG 1.1//EN\"\n",
       " \"http://www.w3.org/Graphics/SVG/1.1/DTD/svg11.dtd\">\n",
       "<!-- Generated by graphviz version 2.50.0 (20211209.0339)\n",
       " -->\n",
       "<!-- Title: Tree Pages: 1 -->\n",
       "<svg width=\"1541pt\" height=\"433pt\"\n",
       " viewBox=\"0.00 0.00 1540.50 433.00\" xmlns=\"http://www.w3.org/2000/svg\" xmlns:xlink=\"http://www.w3.org/1999/xlink\">\n",
       "<g id=\"graph0\" class=\"graph\" transform=\"scale(1 1) rotate(0) translate(4 429)\">\n",
       "<title>Tree</title>\n",
       "<polygon fill=\"white\" stroke=\"transparent\" points=\"-4,4 -4,-429 1536.5,-429 1536.5,4 -4,4\"/>\n",
       "<!-- 0 -->\n",
       "<g id=\"node1\" class=\"node\">\n",
       "<title>0</title>\n",
       "<path fill=\"#f8dcc8\" stroke=\"black\" d=\"M837,-425C837,-425 649,-425 649,-425 643,-425 637,-419 637,-413 637,-413 637,-354 637,-354 637,-348 643,-342 649,-342 649,-342 837,-342 837,-342 843,-342 849,-348 849,-354 849,-354 849,-413 849,-413 849,-419 843,-425 837,-425\"/>\n",
       "<text text-anchor=\"start\" x=\"712\" y=\"-409.8\" font-family=\"Helvetica,sans-Serif\" font-size=\"14.00\">BP ≤ 1.5</text>\n",
       "<text text-anchor=\"start\" x=\"699\" y=\"-394.8\" font-family=\"Helvetica,sans-Serif\" font-size=\"14.00\">gini = 0.692</text>\n",
       "<text text-anchor=\"start\" x=\"690\" y=\"-379.8\" font-family=\"Helvetica,sans-Serif\" font-size=\"14.00\">samples = 140</text>\n",
       "<text text-anchor=\"start\" x=\"645\" y=\"-364.8\" font-family=\"Helvetica,sans-Serif\" font-size=\"14.00\">value = [65, 16, 13, 10, 36]</text>\n",
       "<text text-anchor=\"start\" x=\"693.5\" y=\"-349.8\" font-family=\"Helvetica,sans-Serif\" font-size=\"14.00\">class = DrugY</text>\n",
       "</g>\n",
       "<!-- 1 -->\n",
       "<g id=\"node2\" class=\"node\">\n",
       "<title>1</title>\n",
       "<path fill=\"#f7dac5\" stroke=\"black\" d=\"M646,-306C646,-306 476,-306 476,-306 470,-306 464,-300 464,-294 464,-294 464,-235 464,-235 464,-229 470,-223 476,-223 476,-223 646,-223 646,-223 652,-223 658,-229 658,-235 658,-235 658,-294 658,-294 658,-300 652,-306 646,-306\"/>\n",
       "<text text-anchor=\"start\" x=\"502.5\" y=\"-290.8\" font-family=\"Helvetica,sans-Serif\" font-size=\"14.00\">Na_to_K ≤ 100.0</text>\n",
       "<text text-anchor=\"start\" x=\"517\" y=\"-275.8\" font-family=\"Helvetica,sans-Serif\" font-size=\"14.00\">gini = 0.628</text>\n",
       "<text text-anchor=\"start\" x=\"512.5\" y=\"-260.8\" font-family=\"Helvetica,sans-Serif\" font-size=\"14.00\">samples = 57</text>\n",
       "<text text-anchor=\"start\" x=\"472\" y=\"-245.8\" font-family=\"Helvetica,sans-Serif\" font-size=\"14.00\">value = [28, 16, 13, 0, 0]</text>\n",
       "<text text-anchor=\"start\" x=\"511.5\" y=\"-230.8\" font-family=\"Helvetica,sans-Serif\" font-size=\"14.00\">class = DrugY</text>\n",
       "</g>\n",
       "<!-- 0&#45;&gt;1 -->\n",
       "<g id=\"edge1\" class=\"edge\">\n",
       "<title>0&#45;&gt;1</title>\n",
       "<path fill=\"none\" stroke=\"black\" d=\"M679.86,-341.91C664.61,-332.11 648.21,-321.56 632.61,-311.53\"/>\n",
       "<polygon fill=\"black\" stroke=\"black\" points=\"634.34,-308.48 624.03,-306.02 630.55,-314.37 634.34,-308.48\"/>\n",
       "<text text-anchor=\"middle\" x=\"629.34\" y=\"-326.75\" font-family=\"Helvetica,sans-Serif\" font-size=\"14.00\">True</text>\n",
       "</g>\n",
       "<!-- 8 -->\n",
       "<g id=\"node9\" class=\"node\">\n",
       "<title>8</title>\n",
       "<path fill=\"#fefcfb\" stroke=\"black\" d=\"M1027,-306C1027,-306 857,-306 857,-306 851,-306 845,-300 845,-294 845,-294 845,-235 845,-235 845,-229 851,-223 857,-223 857,-223 1027,-223 1027,-223 1033,-223 1039,-229 1039,-235 1039,-235 1039,-294 1039,-294 1039,-300 1033,-306 1027,-306\"/>\n",
       "<text text-anchor=\"start\" x=\"911\" y=\"-290.8\" font-family=\"Helvetica,sans-Serif\" font-size=\"14.00\">BP ≤ 2.5</text>\n",
       "<text text-anchor=\"start\" x=\"898\" y=\"-275.8\" font-family=\"Helvetica,sans-Serif\" font-size=\"14.00\">gini = 0.599</text>\n",
       "<text text-anchor=\"start\" x=\"893.5\" y=\"-260.8\" font-family=\"Helvetica,sans-Serif\" font-size=\"14.00\">samples = 83</text>\n",
       "<text text-anchor=\"start\" x=\"853\" y=\"-245.8\" font-family=\"Helvetica,sans-Serif\" font-size=\"14.00\">value = [37, 0, 0, 10, 36]</text>\n",
       "<text text-anchor=\"start\" x=\"892.5\" y=\"-230.8\" font-family=\"Helvetica,sans-Serif\" font-size=\"14.00\">class = DrugY</text>\n",
       "</g>\n",
       "<!-- 0&#45;&gt;8 -->\n",
       "<g id=\"edge8\" class=\"edge\">\n",
       "<title>0&#45;&gt;8</title>\n",
       "<path fill=\"none\" stroke=\"black\" d=\"M812.04,-341.91C828.87,-332.02 846.98,-321.37 864.18,-311.25\"/>\n",
       "<polygon fill=\"black\" stroke=\"black\" points=\"866.23,-314.11 873.08,-306.02 862.69,-308.07 866.23,-314.11\"/>\n",
       "<text text-anchor=\"middle\" x=\"866.8\" y=\"-326.52\" font-family=\"Helvetica,sans-Serif\" font-size=\"14.00\">False</text>\n",
       "</g>\n",
       "<!-- 2 -->\n",
       "<g id=\"node3\" class=\"node\">\n",
       "<title>2</title>\n",
       "<path fill=\"#fefaf8\" stroke=\"black\" d=\"M367,-187C367,-187 197,-187 197,-187 191,-187 185,-181 185,-175 185,-175 185,-116 185,-116 185,-110 191,-104 197,-104 197,-104 367,-104 367,-104 373,-104 379,-110 379,-116 379,-116 379,-175 379,-175 379,-181 373,-187 367,-187\"/>\n",
       "<text text-anchor=\"start\" x=\"247\" y=\"-171.8\" font-family=\"Helvetica,sans-Serif\" font-size=\"14.00\">Sex ≤ 1.5</text>\n",
       "<text text-anchor=\"start\" x=\"238\" y=\"-156.8\" font-family=\"Helvetica,sans-Serif\" font-size=\"14.00\">gini = 0.656</text>\n",
       "<text text-anchor=\"start\" x=\"233.5\" y=\"-141.8\" font-family=\"Helvetica,sans-Serif\" font-size=\"14.00\">samples = 44</text>\n",
       "<text text-anchor=\"start\" x=\"193\" y=\"-126.8\" font-family=\"Helvetica,sans-Serif\" font-size=\"14.00\">value = [17, 16, 11, 0, 0]</text>\n",
       "<text text-anchor=\"start\" x=\"232.5\" y=\"-111.8\" font-family=\"Helvetica,sans-Serif\" font-size=\"14.00\">class = DrugY</text>\n",
       "</g>\n",
       "<!-- 1&#45;&gt;2 -->\n",
       "<g id=\"edge2\" class=\"edge\">\n",
       "<title>1&#45;&gt;2</title>\n",
       "<path fill=\"none\" stroke=\"black\" d=\"M464.2,-222.91C439.64,-212.61 413.12,-201.49 388.13,-191\"/>\n",
       "<polygon fill=\"black\" stroke=\"black\" points=\"389.2,-187.66 378.63,-187.02 386.49,-194.12 389.2,-187.66\"/>\n",
       "</g>\n",
       "<!-- 5 -->\n",
       "<g id=\"node6\" class=\"node\">\n",
       "<title>5</title>\n",
       "<path fill=\"#ea985d\" stroke=\"black\" d=\"M637,-187C637,-187 485,-187 485,-187 479,-187 473,-181 473,-175 473,-175 473,-116 473,-116 473,-110 479,-104 485,-104 485,-104 637,-104 637,-104 643,-104 649,-110 649,-116 649,-116 649,-175 649,-175 649,-181 643,-187 637,-187\"/>\n",
       "<text text-anchor=\"start\" x=\"521\" y=\"-171.8\" font-family=\"Helvetica,sans-Serif\" font-size=\"14.00\">Age ≤ 39.0</text>\n",
       "<text text-anchor=\"start\" x=\"521.5\" y=\"-156.8\" font-family=\"Helvetica,sans-Serif\" font-size=\"14.00\">gini = 0.26</text>\n",
       "<text text-anchor=\"start\" x=\"512.5\" y=\"-141.8\" font-family=\"Helvetica,sans-Serif\" font-size=\"14.00\">samples = 13</text>\n",
       "<text text-anchor=\"start\" x=\"481\" y=\"-126.8\" font-family=\"Helvetica,sans-Serif\" font-size=\"14.00\">value = [11, 0, 2, 0, 0]</text>\n",
       "<text text-anchor=\"start\" x=\"511.5\" y=\"-111.8\" font-family=\"Helvetica,sans-Serif\" font-size=\"14.00\">class = DrugY</text>\n",
       "</g>\n",
       "<!-- 1&#45;&gt;5 -->\n",
       "<g id=\"edge5\" class=\"edge\">\n",
       "<title>1&#45;&gt;5</title>\n",
       "<path fill=\"none\" stroke=\"black\" d=\"M561,-222.91C561,-214.65 561,-205.86 561,-197.3\"/>\n",
       "<polygon fill=\"black\" stroke=\"black\" points=\"564.5,-197.02 561,-187.02 557.5,-197.02 564.5,-197.02\"/>\n",
       "</g>\n",
       "<!-- 3 -->\n",
       "<g id=\"node4\" class=\"node\">\n",
       "<title>3</title>\n",
       "<path fill=\"#f5d0b5\" stroke=\"black\" d=\"M164,-68C164,-68 12,-68 12,-68 6,-68 0,-62 0,-56 0,-56 0,-12 0,-12 0,-6 6,0 12,0 12,0 164,0 164,0 170,0 176,-6 176,-12 176,-12 176,-56 176,-56 176,-62 170,-68 164,-68\"/>\n",
       "<text text-anchor=\"start\" x=\"44\" y=\"-52.8\" font-family=\"Helvetica,sans-Serif\" font-size=\"14.00\">gini = 0.595</text>\n",
       "<text text-anchor=\"start\" x=\"39.5\" y=\"-37.8\" font-family=\"Helvetica,sans-Serif\" font-size=\"14.00\">samples = 22</text>\n",
       "<text text-anchor=\"start\" x=\"8\" y=\"-22.8\" font-family=\"Helvetica,sans-Serif\" font-size=\"14.00\">value = [12, 6, 4, 0, 0]</text>\n",
       "<text text-anchor=\"start\" x=\"38.5\" y=\"-7.8\" font-family=\"Helvetica,sans-Serif\" font-size=\"14.00\">class = DrugY</text>\n",
       "</g>\n",
       "<!-- 2&#45;&gt;3 -->\n",
       "<g id=\"edge3\" class=\"edge\">\n",
       "<title>2&#45;&gt;3</title>\n",
       "<path fill=\"none\" stroke=\"black\" d=\"M210.04,-103.88C192.22,-93.83 173.2,-83.09 155.6,-73.16\"/>\n",
       "<polygon fill=\"black\" stroke=\"black\" points=\"156.97,-69.91 146.54,-68.04 153.53,-76.01 156.97,-69.91\"/>\n",
       "</g>\n",
       "<!-- 4 -->\n",
       "<g id=\"node5\" class=\"node\">\n",
       "<title>4</title>\n",
       "<path fill=\"#e5fad7\" stroke=\"black\" d=\"M358,-68C358,-68 206,-68 206,-68 200,-68 194,-62 194,-56 194,-56 194,-12 194,-12 194,-6 200,0 206,0 206,0 358,0 358,0 364,0 370,-6 370,-12 370,-12 370,-56 370,-56 370,-62 364,-68 358,-68\"/>\n",
       "<text text-anchor=\"start\" x=\"242.5\" y=\"-52.8\" font-family=\"Helvetica,sans-Serif\" font-size=\"14.00\">gini = 0.64</text>\n",
       "<text text-anchor=\"start\" x=\"233.5\" y=\"-37.8\" font-family=\"Helvetica,sans-Serif\" font-size=\"14.00\">samples = 22</text>\n",
       "<text text-anchor=\"start\" x=\"202\" y=\"-22.8\" font-family=\"Helvetica,sans-Serif\" font-size=\"14.00\">value = [5, 10, 7, 0, 0]</text>\n",
       "<text text-anchor=\"start\" x=\"232.5\" y=\"-7.8\" font-family=\"Helvetica,sans-Serif\" font-size=\"14.00\">class = drugC</text>\n",
       "</g>\n",
       "<!-- 2&#45;&gt;4 -->\n",
       "<g id=\"edge4\" class=\"edge\">\n",
       "<title>2&#45;&gt;4</title>\n",
       "<path fill=\"none\" stroke=\"black\" d=\"M282,-103.73C282,-95.52 282,-86.86 282,-78.56\"/>\n",
       "<polygon fill=\"black\" stroke=\"black\" points=\"285.5,-78.3 282,-68.3 278.5,-78.3 285.5,-78.3\"/>\n",
       "</g>\n",
       "<!-- 6 -->\n",
       "<g id=\"node7\" class=\"node\">\n",
       "<title>6</title>\n",
       "<path fill=\"#e58139\" stroke=\"black\" d=\"M542.5,-68C542.5,-68 399.5,-68 399.5,-68 393.5,-68 387.5,-62 387.5,-56 387.5,-56 387.5,-12 387.5,-12 387.5,-6 393.5,0 399.5,0 399.5,0 542.5,0 542.5,0 548.5,0 554.5,-6 554.5,-12 554.5,-12 554.5,-56 554.5,-56 554.5,-62 548.5,-68 542.5,-68\"/>\n",
       "<text text-anchor=\"start\" x=\"436\" y=\"-52.8\" font-family=\"Helvetica,sans-Serif\" font-size=\"14.00\">gini = 0.0</text>\n",
       "<text text-anchor=\"start\" x=\"427\" y=\"-37.8\" font-family=\"Helvetica,sans-Serif\" font-size=\"14.00\">samples = 8</text>\n",
       "<text text-anchor=\"start\" x=\"395.5\" y=\"-22.8\" font-family=\"Helvetica,sans-Serif\" font-size=\"14.00\">value = [8, 0, 0, 0, 0]</text>\n",
       "<text text-anchor=\"start\" x=\"421.5\" y=\"-7.8\" font-family=\"Helvetica,sans-Serif\" font-size=\"14.00\">class = DrugY</text>\n",
       "</g>\n",
       "<!-- 5&#45;&gt;6 -->\n",
       "<g id=\"edge6\" class=\"edge\">\n",
       "<title>5&#45;&gt;6</title>\n",
       "<path fill=\"none\" stroke=\"black\" d=\"M527.49,-103.73C520.07,-94.7 512.2,-85.12 504.77,-76.08\"/>\n",
       "<polygon fill=\"black\" stroke=\"black\" points=\"507.42,-73.8 498.37,-68.3 502.02,-78.25 507.42,-73.8\"/>\n",
       "</g>\n",
       "<!-- 7 -->\n",
       "<g id=\"node8\" class=\"node\">\n",
       "<title>7</title>\n",
       "<path fill=\"#f6d5bd\" stroke=\"black\" d=\"M727.5,-68C727.5,-68 584.5,-68 584.5,-68 578.5,-68 572.5,-62 572.5,-56 572.5,-56 572.5,-12 572.5,-12 572.5,-6 578.5,0 584.5,0 584.5,0 727.5,0 727.5,0 733.5,0 739.5,-6 739.5,-12 739.5,-12 739.5,-56 739.5,-56 739.5,-62 733.5,-68 727.5,-68\"/>\n",
       "<text text-anchor=\"start\" x=\"616.5\" y=\"-52.8\" font-family=\"Helvetica,sans-Serif\" font-size=\"14.00\">gini = 0.48</text>\n",
       "<text text-anchor=\"start\" x=\"612\" y=\"-37.8\" font-family=\"Helvetica,sans-Serif\" font-size=\"14.00\">samples = 5</text>\n",
       "<text text-anchor=\"start\" x=\"580.5\" y=\"-22.8\" font-family=\"Helvetica,sans-Serif\" font-size=\"14.00\">value = [3, 0, 2, 0, 0]</text>\n",
       "<text text-anchor=\"start\" x=\"606.5\" y=\"-7.8\" font-family=\"Helvetica,sans-Serif\" font-size=\"14.00\">class = DrugY</text>\n",
       "</g>\n",
       "<!-- 5&#45;&gt;7 -->\n",
       "<g id=\"edge7\" class=\"edge\">\n",
       "<title>5&#45;&gt;7</title>\n",
       "<path fill=\"none\" stroke=\"black\" d=\"M596.37,-103.73C604.21,-94.7 612.51,-85.12 620.36,-76.08\"/>\n",
       "<polygon fill=\"black\" stroke=\"black\" points=\"623.2,-78.15 627.11,-68.3 617.91,-73.56 623.2,-78.15\"/>\n",
       "</g>\n",
       "<!-- 9 -->\n",
       "<g id=\"node10\" class=\"node\">\n",
       "<title>9</title>\n",
       "<path fill=\"#f7d9c4\" stroke=\"black\" d=\"M1027,-187C1027,-187 857,-187 857,-187 851,-187 845,-181 845,-175 845,-175 845,-116 845,-116 845,-110 851,-104 857,-104 857,-104 1027,-104 1027,-104 1033,-104 1039,-110 1039,-116 1039,-116 1039,-175 1039,-175 1039,-181 1033,-187 1027,-187\"/>\n",
       "<text text-anchor=\"start\" x=\"881.5\" y=\"-171.8\" font-family=\"Helvetica,sans-Serif\" font-size=\"14.00\">Cholesterol ≤ 1.5</text>\n",
       "<text text-anchor=\"start\" x=\"898\" y=\"-156.8\" font-family=\"Helvetica,sans-Serif\" font-size=\"14.00\">gini = 0.631</text>\n",
       "<text text-anchor=\"start\" x=\"893.5\" y=\"-141.8\" font-family=\"Helvetica,sans-Serif\" font-size=\"14.00\">samples = 41</text>\n",
       "<text text-anchor=\"start\" x=\"853\" y=\"-126.8\" font-family=\"Helvetica,sans-Serif\" font-size=\"14.00\">value = [20, 0, 0, 10, 11]</text>\n",
       "<text text-anchor=\"start\" x=\"892.5\" y=\"-111.8\" font-family=\"Helvetica,sans-Serif\" font-size=\"14.00\">class = DrugY</text>\n",
       "</g>\n",
       "<!-- 8&#45;&gt;9 -->\n",
       "<g id=\"edge9\" class=\"edge\">\n",
       "<title>8&#45;&gt;9</title>\n",
       "<path fill=\"none\" stroke=\"black\" d=\"M942,-222.91C942,-214.65 942,-205.86 942,-197.3\"/>\n",
       "<polygon fill=\"black\" stroke=\"black\" points=\"945.5,-197.02 942,-187.02 938.5,-197.02 945.5,-197.02\"/>\n",
       "</g>\n",
       "<!-- 12 -->\n",
       "<g id=\"node13\" class=\"node\">\n",
       "<title>12</title>\n",
       "<path fill=\"#f7c0eb\" stroke=\"black\" d=\"M1322.5,-187C1322.5,-187 1161.5,-187 1161.5,-187 1155.5,-187 1149.5,-181 1149.5,-175 1149.5,-175 1149.5,-116 1149.5,-116 1149.5,-110 1155.5,-104 1161.5,-104 1161.5,-104 1322.5,-104 1322.5,-104 1328.5,-104 1334.5,-110 1334.5,-116 1334.5,-116 1334.5,-175 1334.5,-175 1334.5,-181 1328.5,-187 1322.5,-187\"/>\n",
       "<text text-anchor=\"start\" x=\"1202\" y=\"-171.8\" font-family=\"Helvetica,sans-Serif\" font-size=\"14.00\">Age ≤ 19.5</text>\n",
       "<text text-anchor=\"start\" x=\"1198\" y=\"-156.8\" font-family=\"Helvetica,sans-Serif\" font-size=\"14.00\">gini = 0.482</text>\n",
       "<text text-anchor=\"start\" x=\"1193.5\" y=\"-141.8\" font-family=\"Helvetica,sans-Serif\" font-size=\"14.00\">samples = 42</text>\n",
       "<text text-anchor=\"start\" x=\"1157.5\" y=\"-126.8\" font-family=\"Helvetica,sans-Serif\" font-size=\"14.00\">value = [17, 0, 0, 0, 25]</text>\n",
       "<text text-anchor=\"start\" x=\"1192.5\" y=\"-111.8\" font-family=\"Helvetica,sans-Serif\" font-size=\"14.00\">class = DrugY</text>\n",
       "</g>\n",
       "<!-- 8&#45;&gt;12 -->\n",
       "<g id=\"edge12\" class=\"edge\">\n",
       "<title>8&#45;&gt;12</title>\n",
       "<path fill=\"none\" stroke=\"black\" d=\"M1039.4,-225.51C1071.56,-212.97 1107.41,-198.99 1139.9,-186.32\"/>\n",
       "<polygon fill=\"black\" stroke=\"black\" points=\"1141.38,-189.5 1149.42,-182.61 1138.83,-182.98 1141.38,-189.5\"/>\n",
       "</g>\n",
       "<!-- 10 -->\n",
       "<g id=\"node11\" class=\"node\">\n",
       "<title>10</title>\n",
       "<path fill=\"#fdf4ed\" stroke=\"black\" d=\"M930.5,-68C930.5,-68 769.5,-68 769.5,-68 763.5,-68 757.5,-62 757.5,-56 757.5,-56 757.5,-12 757.5,-12 757.5,-6 763.5,0 769.5,0 769.5,0 930.5,0 930.5,0 936.5,0 942.5,-6 942.5,-12 942.5,-12 942.5,-56 942.5,-56 942.5,-62 936.5,-68 930.5,-68\"/>\n",
       "<text text-anchor=\"start\" x=\"806\" y=\"-52.8\" font-family=\"Helvetica,sans-Serif\" font-size=\"14.00\">gini = 0.499</text>\n",
       "<text text-anchor=\"start\" x=\"801.5\" y=\"-37.8\" font-family=\"Helvetica,sans-Serif\" font-size=\"14.00\">samples = 21</text>\n",
       "<text text-anchor=\"start\" x=\"765.5\" y=\"-22.8\" font-family=\"Helvetica,sans-Serif\" font-size=\"14.00\">value = [11, 0, 0, 10, 0]</text>\n",
       "<text text-anchor=\"start\" x=\"800.5\" y=\"-7.8\" font-family=\"Helvetica,sans-Serif\" font-size=\"14.00\">class = DrugY</text>\n",
       "</g>\n",
       "<!-- 9&#45;&gt;10 -->\n",
       "<g id=\"edge10\" class=\"edge\">\n",
       "<title>9&#45;&gt;10</title>\n",
       "<path fill=\"none\" stroke=\"black\" d=\"M907.74,-103.73C900.16,-94.7 892.11,-85.12 884.52,-76.08\"/>\n",
       "<polygon fill=\"black\" stroke=\"black\" points=\"887.09,-73.7 877.98,-68.3 881.73,-78.21 887.09,-73.7\"/>\n",
       "</g>\n",
       "<!-- 11 -->\n",
       "<g id=\"node12\" class=\"node\">\n",
       "<title>11</title>\n",
       "<path fill=\"#fadbf4\" stroke=\"black\" d=\"M1124,-68C1124,-68 972,-68 972,-68 966,-68 960,-62 960,-56 960,-56 960,-12 960,-12 960,-6 966,0 972,0 972,0 1124,0 1124,0 1130,0 1136,-6 1136,-12 1136,-12 1136,-56 1136,-56 1136,-62 1130,-68 1124,-68\"/>\n",
       "<text text-anchor=\"start\" x=\"1004\" y=\"-52.8\" font-family=\"Helvetica,sans-Serif\" font-size=\"14.00\">gini = 0.495</text>\n",
       "<text text-anchor=\"start\" x=\"999.5\" y=\"-37.8\" font-family=\"Helvetica,sans-Serif\" font-size=\"14.00\">samples = 20</text>\n",
       "<text text-anchor=\"start\" x=\"968\" y=\"-22.8\" font-family=\"Helvetica,sans-Serif\" font-size=\"14.00\">value = [9, 0, 0, 0, 11]</text>\n",
       "<text text-anchor=\"start\" x=\"998.5\" y=\"-7.8\" font-family=\"Helvetica,sans-Serif\" font-size=\"14.00\">class = DrugY</text>\n",
       "</g>\n",
       "<!-- 9&#45;&gt;11 -->\n",
       "<g id=\"edge11\" class=\"edge\">\n",
       "<title>9&#45;&gt;11</title>\n",
       "<path fill=\"none\" stroke=\"black\" d=\"M981.47,-103.73C990.39,-94.51 999.85,-84.74 1008.76,-75.53\"/>\n",
       "<polygon fill=\"black\" stroke=\"black\" points=\"1011.32,-77.92 1015.76,-68.3 1006.29,-73.05 1011.32,-77.92\"/>\n",
       "</g>\n",
       "<!-- 13 -->\n",
       "<g id=\"node14\" class=\"node\">\n",
       "<title>13</title>\n",
       "<path fill=\"#ed76d3\" stroke=\"black\" d=\"M1318,-68C1318,-68 1166,-68 1166,-68 1160,-68 1154,-62 1154,-56 1154,-56 1154,-12 1154,-12 1154,-6 1160,0 1166,0 1166,0 1318,0 1318,0 1324,0 1330,-6 1330,-12 1330,-12 1330,-56 1330,-56 1330,-62 1324,-68 1318,-68\"/>\n",
       "<text text-anchor=\"start\" x=\"1202.5\" y=\"-52.8\" font-family=\"Helvetica,sans-Serif\" font-size=\"14.00\">gini = 0.36</text>\n",
       "<text text-anchor=\"start\" x=\"1193.5\" y=\"-37.8\" font-family=\"Helvetica,sans-Serif\" font-size=\"14.00\">samples = 17</text>\n",
       "<text text-anchor=\"start\" x=\"1162\" y=\"-22.8\" font-family=\"Helvetica,sans-Serif\" font-size=\"14.00\">value = [4, 0, 0, 0, 13]</text>\n",
       "<text text-anchor=\"start\" x=\"1192.5\" y=\"-7.8\" font-family=\"Helvetica,sans-Serif\" font-size=\"14.00\">class = DrugY</text>\n",
       "</g>\n",
       "<!-- 12&#45;&gt;13 -->\n",
       "<g id=\"edge13\" class=\"edge\">\n",
       "<title>12&#45;&gt;13</title>\n",
       "<path fill=\"none\" stroke=\"black\" d=\"M1242,-103.73C1242,-95.52 1242,-86.86 1242,-78.56\"/>\n",
       "<polygon fill=\"black\" stroke=\"black\" points=\"1245.5,-78.3 1242,-68.3 1238.5,-78.3 1245.5,-78.3\"/>\n",
       "</g>\n",
       "<!-- 14 -->\n",
       "<g id=\"node15\" class=\"node\">\n",
       "<title>14</title>\n",
       "<path fill=\"#fdf5f0\" stroke=\"black\" d=\"M1520.5,-68C1520.5,-68 1359.5,-68 1359.5,-68 1353.5,-68 1347.5,-62 1347.5,-56 1347.5,-56 1347.5,-12 1347.5,-12 1347.5,-6 1353.5,0 1359.5,0 1359.5,0 1520.5,0 1520.5,0 1526.5,0 1532.5,-6 1532.5,-12 1532.5,-12 1532.5,-56 1532.5,-56 1532.5,-62 1526.5,-68 1520.5,-68\"/>\n",
       "<text text-anchor=\"start\" x=\"1396\" y=\"-52.8\" font-family=\"Helvetica,sans-Serif\" font-size=\"14.00\">gini = 0.499</text>\n",
       "<text text-anchor=\"start\" x=\"1391.5\" y=\"-37.8\" font-family=\"Helvetica,sans-Serif\" font-size=\"14.00\">samples = 25</text>\n",
       "<text text-anchor=\"start\" x=\"1355.5\" y=\"-22.8\" font-family=\"Helvetica,sans-Serif\" font-size=\"14.00\">value = [13, 0, 0, 0, 12]</text>\n",
       "<text text-anchor=\"start\" x=\"1390.5\" y=\"-7.8\" font-family=\"Helvetica,sans-Serif\" font-size=\"14.00\">class = DrugY</text>\n",
       "</g>\n",
       "<!-- 12&#45;&gt;14 -->\n",
       "<g id=\"edge14\" class=\"edge\">\n",
       "<title>12&#45;&gt;14</title>\n",
       "<path fill=\"none\" stroke=\"black\" d=\"M1315.45,-103.88C1333.79,-93.73 1353.4,-82.89 1371.5,-72.88\"/>\n",
       "<polygon fill=\"black\" stroke=\"black\" points=\"1373.19,-75.95 1380.25,-68.04 1369.81,-69.82 1373.19,-75.95\"/>\n",
       "</g>\n",
       "</g>\n",
       "</svg>\n"
      ],
      "text/plain": [
       "<graphviz.files.Source at 0x7f3ef5ec4cd0>"
      ]
     },
     "execution_count": 11,
     "metadata": {},
     "output_type": "execute_result"
    }
   ],
   "source": [
    "import graphviz \n",
    "dot_data = tree.export_graphviz(clf_gini, out_file=None, \n",
    "                              feature_names=X_train.columns,  \n",
    "                              class_names=y_train,  \n",
    "                              filled=True, rounded=True,  \n",
    "                              special_characters=True)\n",
    "\n",
    "graph = graphviz.Source(dot_data) \n",
    "graph"
   ]
  },
  {
   "cell_type": "markdown",
   "id": "b8ca1806",
   "metadata": {
    "papermill": {
     "duration": 0.028795,
     "end_time": "2022-05-03T19:21:06.971054",
     "exception": false,
     "start_time": "2022-05-03T19:21:06.942259",
     "status": "completed"
    },
    "tags": []
   },
   "source": [
    "## Confusion Matrix"
   ]
  },
  {
   "cell_type": "code",
   "execution_count": 12,
   "id": "2f1ff5bc",
   "metadata": {
    "execution": {
     "iopub.execute_input": "2022-05-03T19:21:07.034815Z",
     "iopub.status.busy": "2022-05-03T19:21:07.034110Z",
     "iopub.status.idle": "2022-05-03T19:21:07.039705Z",
     "shell.execute_reply": "2022-05-03T19:21:07.040238Z",
     "shell.execute_reply.started": "2022-03-23T15:53:29.963021Z"
    },
    "papermill": {
     "duration": 0.0403,
     "end_time": "2022-05-03T19:21:07.040404",
     "exception": false,
     "start_time": "2022-05-03T19:21:07.000104",
     "status": "completed"
    },
    "tags": []
   },
   "outputs": [
    {
     "name": "stdout",
     "output_type": "stream",
     "text": [
      "Confusion matrix\n",
      "\n",
      " [[12  6  0  0  8]\n",
      " [ 3  4  0  0  0]\n",
      " [ 1  2  0  0  0]\n",
      " [ 6  0  0  0  0]\n",
      " [ 7  0  0  0 11]]\n"
     ]
    }
   ],
   "source": [
    "# Print the Confusion Matrix and slice it into four pieces\n",
    "from sklearn.metrics import confusion_matrix\n",
    "cm = confusion_matrix(y_test, y_pred_gini)\n",
    "print('Confusion matrix\\n\\n', cm)"
   ]
  },
  {
   "cell_type": "markdown",
   "id": "5fc8b915",
   "metadata": {
    "papermill": {
     "duration": 0.02871,
     "end_time": "2022-05-03T19:21:07.097786",
     "exception": false,
     "start_time": "2022-05-03T19:21:07.069076",
     "status": "completed"
    },
    "tags": []
   },
   "source": [
    "## Decision Tree Classifier with criterion entropy \n",
    "The entropy seems to give the same measurement as the gini index. Therefore, I do not go into much other detail outside of just running the report. There seems to be no major overfitting/underfitting as the train and test score are similiar within reason."
   ]
  },
  {
   "cell_type": "code",
   "execution_count": 13,
   "id": "05850459",
   "metadata": {
    "execution": {
     "iopub.execute_input": "2022-05-03T19:21:07.158309Z",
     "iopub.status.busy": "2022-05-03T19:21:07.157674Z",
     "iopub.status.idle": "2022-05-03T19:21:07.174008Z",
     "shell.execute_reply": "2022-05-03T19:21:07.174495Z",
     "shell.execute_reply.started": "2022-03-23T15:53:29.973534Z"
    },
    "papermill": {
     "duration": 0.048264,
     "end_time": "2022-05-03T19:21:07.174658",
     "exception": false,
     "start_time": "2022-05-03T19:21:07.126394",
     "status": "completed"
    },
    "tags": []
   },
   "outputs": [
    {
     "name": "stdout",
     "output_type": "stream",
     "text": [
      "Model accuracy score with criterion entropy: 0.5000\n",
      "Training set score: 0.5714\n",
      "Test set score: 0.5000\n"
     ]
    }
   ],
   "source": [
    "# instantiate the DecisionTreeClassifier model with criterion entropy\n",
    "clf_en = DecisionTreeClassifier(criterion='entropy', max_depth=3, random_state=0)\n",
    "clf_en.fit(X_train, y_train)\n",
    "\n",
    "#Predict the Test set results with criterion entropy\n",
    "y_pred_en = clf_en.predict(X_test)\n",
    "\n",
    "from sklearn.metrics import accuracy_score\n",
    "print('Model accuracy score with criterion entropy: {0:0.4f}'. format(accuracy_score(y_test, y_pred_en)))\n",
    "\n",
    "#Compare the train-set and test-set accuracy to check for overfitting.\n",
    "print('Training set score: {:.4f}'.format(clf_en.score(X_train, y_train)))\n",
    "print('Test set score: {:.4f}'.format(clf_en.score(X_test, y_test)))"
   ]
  },
  {
   "cell_type": "markdown",
   "id": "ea7e5786",
   "metadata": {
    "papermill": {
     "duration": 0.028868,
     "end_time": "2022-05-03T19:21:07.232537",
     "exception": false,
     "start_time": "2022-05-03T19:21:07.203669",
     "status": "completed"
    },
    "tags": []
   },
   "source": [
    "## Make Final Prediction"
   ]
  },
  {
   "cell_type": "code",
   "execution_count": 14,
   "id": "0b507dd1",
   "metadata": {
    "execution": {
     "iopub.execute_input": "2022-05-03T19:21:07.294092Z",
     "iopub.status.busy": "2022-05-03T19:21:07.293289Z",
     "iopub.status.idle": "2022-05-03T19:21:07.299497Z",
     "shell.execute_reply": "2022-05-03T19:21:07.298919Z",
     "shell.execute_reply.started": "2022-03-23T15:53:29.999022Z"
    },
    "papermill": {
     "duration": 0.037879,
     "end_time": "2022-05-03T19:21:07.299622",
     "exception": false,
     "start_time": "2022-05-03T19:21:07.261743",
     "status": "completed"
    },
    "tags": []
   },
   "outputs": [
    {
     "name": "stdout",
     "output_type": "stream",
     "text": [
      "['drugX' 'DrugY' 'drugX' 'DrugY' 'drugX' 'drugA' 'DrugY' 'drugX' 'drugA'\n",
      " 'drugX' 'drugA' 'drugX' 'DrugY' 'DrugY' 'drugA' 'drugX' 'drugA' 'drugX'\n",
      " 'DrugY' 'drugX' 'DrugY' 'drugX' 'drugX' 'drugX' 'drugX' 'drugX' 'DrugY'\n",
      " 'drugX' 'DrugY' 'drugX' 'drugX' 'DrugY' 'DrugY' 'drugX' 'drugA' 'drugA'\n",
      " 'drugX' 'DrugY' 'drugA' 'DrugY' 'drugX' 'drugX' 'drugX' 'DrugY' 'drugX'\n",
      " 'DrugY' 'DrugY' 'DrugY' 'drugA' 'drugX' 'drugX' 'drugX' 'drugX' 'drugA'\n",
      " 'drugX' 'drugX' 'drugA' 'drugA' 'drugX' 'DrugY']\n"
     ]
    }
   ],
   "source": [
    "print(y_pred_en)"
   ]
  }
 ],
 "metadata": {
  "kernelspec": {
   "display_name": "Python 3",
   "language": "python",
   "name": "python3"
  },
  "language_info": {
   "codemirror_mode": {
    "name": "ipython",
    "version": 3
   },
   "file_extension": ".py",
   "mimetype": "text/x-python",
   "name": "python",
   "nbconvert_exporter": "python",
   "pygments_lexer": "ipython3",
   "version": "3.7.12"
  },
  "papermill": {
   "default_parameters": {},
   "duration": 17.586406,
   "end_time": "2022-05-03T19:21:08.343951",
   "environment_variables": {},
   "exception": null,
   "input_path": "__notebook__.ipynb",
   "output_path": "__notebook__.ipynb",
   "parameters": {},
   "start_time": "2022-05-03T19:20:50.757545",
   "version": "2.3.3"
  }
 },
 "nbformat": 4,
 "nbformat_minor": 5
}
