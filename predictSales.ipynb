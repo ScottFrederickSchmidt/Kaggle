{
 "cells": [
  {
   "cell_type": "markdown",
   "id": "e55ad8f1",
   "metadata": {
    "papermill": {
     "duration": 0.012893,
     "end_time": "2022-11-12T22:01:46.731806",
     "exception": false,
     "start_time": "2022-11-12T22:01:46.718913",
     "status": "completed"
    },
    "tags": []
   },
   "source": [
    "# Predict Future Sales\n",
    "You are provided with daily historical sales data. The task is to forecast the total amount of products sold in every shop for the test set. Note that the list of shops and products slightly changes every month. Creating a robust model that can handle such situations is part of the challenge."
   ]
  },
  {
   "cell_type": "markdown",
   "id": "97bf556b",
   "metadata": {
    "papermill": {
     "duration": 0.007717,
     "end_time": "2022-11-12T22:01:46.748067",
     "exception": false,
     "start_time": "2022-11-12T22:01:46.740350",
     "status": "completed"
    },
    "tags": []
   },
   "source": [
    "## File descriptions\n",
    "* sales_train.csv - the training set. Daily historical data from January 2013 to October 2015.\n",
    "* test.csv - the test set. You need to forecast the sales for these shops and products for November 2015.\n",
    "* sample_submission.csv - a sample submission file in the correct format.\n",
    "* items.csv - supplemental information about the items/products.\n",
    "* item_categories.csv  - supplemental information about the items categories.\n",
    "* shops.csv- supplemental information about the shops."
   ]
  },
  {
   "cell_type": "code",
   "execution_count": 1,
   "id": "0ec9d854",
   "metadata": {
    "execution": {
     "iopub.execute_input": "2022-11-12T22:01:46.764449Z",
     "iopub.status.busy": "2022-11-12T22:01:46.763738Z",
     "iopub.status.idle": "2022-11-12T22:01:46.778570Z",
     "shell.execute_reply": "2022-11-12T22:01:46.777050Z"
    },
    "papermill": {
     "duration": 0.026642,
     "end_time": "2022-11-12T22:01:46.781442",
     "exception": false,
     "start_time": "2022-11-12T22:01:46.754800",
     "status": "completed"
    },
    "tags": []
   },
   "outputs": [],
   "source": [
    "import pandas as pd\n",
    "\n",
    "items=r'/kaggle/input/competitive-data-science-predict-future-sales/items.csv'\n",
    "sample='/kaggle/input/competitive-data-science-predict-future-sales/sample_submission.csv'\n",
    "categories=r'/kaggle/input/competitive-data-science-predict-future-sales/item_categories.csv'\n",
    "train=r'/kaggle/input/competitive-data-science-predict-future-sales/sales_train.csv'\n",
    "shops=r'/kaggle/input/competitive-data-science-predict-future-sales/shops.csv'\n",
    "test=r'/kaggle/input/competitive-data-science-predict-future-sales/test.csv'"
   ]
  },
  {
   "cell_type": "code",
   "execution_count": 2,
   "id": "94488403",
   "metadata": {
    "execution": {
     "iopub.execute_input": "2022-11-12T22:01:46.797161Z",
     "iopub.status.busy": "2022-11-12T22:01:46.796017Z",
     "iopub.status.idle": "2022-11-12T22:01:49.471133Z",
     "shell.execute_reply": "2022-11-12T22:01:49.469658Z"
    },
    "papermill": {
     "duration": 2.685919,
     "end_time": "2022-11-12T22:01:49.474020",
     "exception": false,
     "start_time": "2022-11-12T22:01:46.788101",
     "status": "completed"
    },
    "tags": []
   },
   "outputs": [
    {
     "data": {
      "text/html": [
       "<div>\n",
       "<style scoped>\n",
       "    .dataframe tbody tr th:only-of-type {\n",
       "        vertical-align: middle;\n",
       "    }\n",
       "\n",
       "    .dataframe tbody tr th {\n",
       "        vertical-align: top;\n",
       "    }\n",
       "\n",
       "    .dataframe thead th {\n",
       "        text-align: right;\n",
       "    }\n",
       "</style>\n",
       "<table border=\"1\" class=\"dataframe\">\n",
       "  <thead>\n",
       "    <tr style=\"text-align: right;\">\n",
       "      <th></th>\n",
       "      <th>date</th>\n",
       "      <th>date_block_num</th>\n",
       "      <th>shop_id</th>\n",
       "      <th>item_id</th>\n",
       "      <th>item_price</th>\n",
       "      <th>item_cnt_day</th>\n",
       "    </tr>\n",
       "  </thead>\n",
       "  <tbody>\n",
       "    <tr>\n",
       "      <th>0</th>\n",
       "      <td>02.01.2013</td>\n",
       "      <td>0</td>\n",
       "      <td>59</td>\n",
       "      <td>22154</td>\n",
       "      <td>999.00</td>\n",
       "      <td>1.0</td>\n",
       "    </tr>\n",
       "    <tr>\n",
       "      <th>1</th>\n",
       "      <td>03.01.2013</td>\n",
       "      <td>0</td>\n",
       "      <td>25</td>\n",
       "      <td>2552</td>\n",
       "      <td>899.00</td>\n",
       "      <td>1.0</td>\n",
       "    </tr>\n",
       "    <tr>\n",
       "      <th>2</th>\n",
       "      <td>05.01.2013</td>\n",
       "      <td>0</td>\n",
       "      <td>25</td>\n",
       "      <td>2552</td>\n",
       "      <td>899.00</td>\n",
       "      <td>-1.0</td>\n",
       "    </tr>\n",
       "    <tr>\n",
       "      <th>3</th>\n",
       "      <td>06.01.2013</td>\n",
       "      <td>0</td>\n",
       "      <td>25</td>\n",
       "      <td>2554</td>\n",
       "      <td>1709.05</td>\n",
       "      <td>1.0</td>\n",
       "    </tr>\n",
       "    <tr>\n",
       "      <th>4</th>\n",
       "      <td>15.01.2013</td>\n",
       "      <td>0</td>\n",
       "      <td>25</td>\n",
       "      <td>2555</td>\n",
       "      <td>1099.00</td>\n",
       "      <td>1.0</td>\n",
       "    </tr>\n",
       "  </tbody>\n",
       "</table>\n",
       "</div>"
      ],
      "text/plain": [
       "         date  date_block_num  shop_id  item_id  item_price  item_cnt_day\n",
       "0  02.01.2013               0       59    22154      999.00           1.0\n",
       "1  03.01.2013               0       25     2552      899.00           1.0\n",
       "2  05.01.2013               0       25     2552      899.00          -1.0\n",
       "3  06.01.2013               0       25     2554     1709.05           1.0\n",
       "4  15.01.2013               0       25     2555     1099.00           1.0"
      ]
     },
     "execution_count": 2,
     "metadata": {},
     "output_type": "execute_result"
    }
   ],
   "source": [
    "train=pd.read_csv(train)\n",
    "train.head()"
   ]
  },
  {
   "cell_type": "code",
   "execution_count": 3,
   "id": "15395df5",
   "metadata": {
    "execution": {
     "iopub.execute_input": "2022-11-12T22:01:49.489113Z",
     "iopub.status.busy": "2022-11-12T22:01:49.488686Z",
     "iopub.status.idle": "2022-11-12T22:01:49.504144Z",
     "shell.execute_reply": "2022-11-12T22:01:49.503134Z"
    },
    "papermill": {
     "duration": 0.026606,
     "end_time": "2022-11-12T22:01:49.507366",
     "exception": false,
     "start_time": "2022-11-12T22:01:49.480760",
     "status": "completed"
    },
    "tags": []
   },
   "outputs": [
    {
     "data": {
      "text/html": [
       "<div>\n",
       "<style scoped>\n",
       "    .dataframe tbody tr th:only-of-type {\n",
       "        vertical-align: middle;\n",
       "    }\n",
       "\n",
       "    .dataframe tbody tr th {\n",
       "        vertical-align: top;\n",
       "    }\n",
       "\n",
       "    .dataframe thead th {\n",
       "        text-align: right;\n",
       "    }\n",
       "</style>\n",
       "<table border=\"1\" class=\"dataframe\">\n",
       "  <thead>\n",
       "    <tr style=\"text-align: right;\">\n",
       "      <th></th>\n",
       "      <th>shop_name</th>\n",
       "      <th>shop_id</th>\n",
       "    </tr>\n",
       "  </thead>\n",
       "  <tbody>\n",
       "    <tr>\n",
       "      <th>0</th>\n",
       "      <td>!Якутск Орджоникидзе, 56 фран</td>\n",
       "      <td>0</td>\n",
       "    </tr>\n",
       "    <tr>\n",
       "      <th>1</th>\n",
       "      <td>!Якутск ТЦ \"Центральный\" фран</td>\n",
       "      <td>1</td>\n",
       "    </tr>\n",
       "    <tr>\n",
       "      <th>2</th>\n",
       "      <td>Адыгея ТЦ \"Мега\"</td>\n",
       "      <td>2</td>\n",
       "    </tr>\n",
       "    <tr>\n",
       "      <th>3</th>\n",
       "      <td>Балашиха ТРК \"Октябрь-Киномир\"</td>\n",
       "      <td>3</td>\n",
       "    </tr>\n",
       "    <tr>\n",
       "      <th>4</th>\n",
       "      <td>Волжский ТЦ \"Волга Молл\"</td>\n",
       "      <td>4</td>\n",
       "    </tr>\n",
       "  </tbody>\n",
       "</table>\n",
       "</div>"
      ],
      "text/plain": [
       "                        shop_name  shop_id\n",
       "0   !Якутск Орджоникидзе, 56 фран        0\n",
       "1   !Якутск ТЦ \"Центральный\" фран        1\n",
       "2                Адыгея ТЦ \"Мега\"        2\n",
       "3  Балашиха ТРК \"Октябрь-Киномир\"        3\n",
       "4        Волжский ТЦ \"Волга Молл\"        4"
      ]
     },
     "execution_count": 3,
     "metadata": {},
     "output_type": "execute_result"
    }
   ],
   "source": [
    "shops=pd.read_csv(shops)\n",
    "shops.head()"
   ]
  },
  {
   "cell_type": "code",
   "execution_count": 4,
   "id": "b3b1f611",
   "metadata": {
    "execution": {
     "iopub.execute_input": "2022-11-12T22:01:49.523851Z",
     "iopub.status.busy": "2022-11-12T22:01:49.522765Z",
     "iopub.status.idle": "2022-11-12T22:01:49.608723Z",
     "shell.execute_reply": "2022-11-12T22:01:49.607592Z"
    },
    "papermill": {
     "duration": 0.097089,
     "end_time": "2022-11-12T22:01:49.611639",
     "exception": false,
     "start_time": "2022-11-12T22:01:49.514550",
     "status": "completed"
    },
    "tags": []
   },
   "outputs": [
    {
     "data": {
      "text/html": [
       "<div>\n",
       "<style scoped>\n",
       "    .dataframe tbody tr th:only-of-type {\n",
       "        vertical-align: middle;\n",
       "    }\n",
       "\n",
       "    .dataframe tbody tr th {\n",
       "        vertical-align: top;\n",
       "    }\n",
       "\n",
       "    .dataframe thead th {\n",
       "        text-align: right;\n",
       "    }\n",
       "</style>\n",
       "<table border=\"1\" class=\"dataframe\">\n",
       "  <thead>\n",
       "    <tr style=\"text-align: right;\">\n",
       "      <th></th>\n",
       "      <th>item_name</th>\n",
       "      <th>item_id</th>\n",
       "      <th>item_category_id</th>\n",
       "    </tr>\n",
       "  </thead>\n",
       "  <tbody>\n",
       "    <tr>\n",
       "      <th>0</th>\n",
       "      <td>! ВО ВЛАСТИ НАВАЖДЕНИЯ (ПЛАСТ.)         D</td>\n",
       "      <td>0</td>\n",
       "      <td>40</td>\n",
       "    </tr>\n",
       "    <tr>\n",
       "      <th>1</th>\n",
       "      <td>!ABBYY FineReader 12 Professional Edition Full...</td>\n",
       "      <td>1</td>\n",
       "      <td>76</td>\n",
       "    </tr>\n",
       "    <tr>\n",
       "      <th>2</th>\n",
       "      <td>***В ЛУЧАХ СЛАВЫ   (UNV)                    D</td>\n",
       "      <td>2</td>\n",
       "      <td>40</td>\n",
       "    </tr>\n",
       "    <tr>\n",
       "      <th>3</th>\n",
       "      <td>***ГОЛУБАЯ ВОЛНА  (Univ)                      D</td>\n",
       "      <td>3</td>\n",
       "      <td>40</td>\n",
       "    </tr>\n",
       "    <tr>\n",
       "      <th>4</th>\n",
       "      <td>***КОРОБКА (СТЕКЛО)                       D</td>\n",
       "      <td>4</td>\n",
       "      <td>40</td>\n",
       "    </tr>\n",
       "  </tbody>\n",
       "</table>\n",
       "</div>"
      ],
      "text/plain": [
       "                                           item_name  item_id  \\\n",
       "0          ! ВО ВЛАСТИ НАВАЖДЕНИЯ (ПЛАСТ.)         D        0   \n",
       "1  !ABBYY FineReader 12 Professional Edition Full...        1   \n",
       "2      ***В ЛУЧАХ СЛАВЫ   (UNV)                    D        2   \n",
       "3    ***ГОЛУБАЯ ВОЛНА  (Univ)                      D        3   \n",
       "4        ***КОРОБКА (СТЕКЛО)                       D        4   \n",
       "\n",
       "   item_category_id  \n",
       "0                40  \n",
       "1                76  \n",
       "2                40  \n",
       "3                40  \n",
       "4                40  "
      ]
     },
     "execution_count": 4,
     "metadata": {},
     "output_type": "execute_result"
    }
   ],
   "source": [
    "items=pd.read_csv(items)\n",
    "items.head()"
   ]
  },
  {
   "cell_type": "code",
   "execution_count": 5,
   "id": "79083db4",
   "metadata": {
    "execution": {
     "iopub.execute_input": "2022-11-12T22:01:49.627583Z",
     "iopub.status.busy": "2022-11-12T22:01:49.627172Z",
     "iopub.status.idle": "2022-11-12T22:01:49.643839Z",
     "shell.execute_reply": "2022-11-12T22:01:49.642300Z"
    },
    "papermill": {
     "duration": 0.027858,
     "end_time": "2022-11-12T22:01:49.646605",
     "exception": false,
     "start_time": "2022-11-12T22:01:49.618747",
     "status": "completed"
    },
    "tags": []
   },
   "outputs": [
    {
     "data": {
      "text/html": [
       "<div>\n",
       "<style scoped>\n",
       "    .dataframe tbody tr th:only-of-type {\n",
       "        vertical-align: middle;\n",
       "    }\n",
       "\n",
       "    .dataframe tbody tr th {\n",
       "        vertical-align: top;\n",
       "    }\n",
       "\n",
       "    .dataframe thead th {\n",
       "        text-align: right;\n",
       "    }\n",
       "</style>\n",
       "<table border=\"1\" class=\"dataframe\">\n",
       "  <thead>\n",
       "    <tr style=\"text-align: right;\">\n",
       "      <th></th>\n",
       "      <th>item_category_name</th>\n",
       "      <th>item_category_id</th>\n",
       "    </tr>\n",
       "  </thead>\n",
       "  <tbody>\n",
       "    <tr>\n",
       "      <th>0</th>\n",
       "      <td>PC - Гарнитуры/Наушники</td>\n",
       "      <td>0</td>\n",
       "    </tr>\n",
       "    <tr>\n",
       "      <th>1</th>\n",
       "      <td>Аксессуары - PS2</td>\n",
       "      <td>1</td>\n",
       "    </tr>\n",
       "    <tr>\n",
       "      <th>2</th>\n",
       "      <td>Аксессуары - PS3</td>\n",
       "      <td>2</td>\n",
       "    </tr>\n",
       "    <tr>\n",
       "      <th>3</th>\n",
       "      <td>Аксессуары - PS4</td>\n",
       "      <td>3</td>\n",
       "    </tr>\n",
       "    <tr>\n",
       "      <th>4</th>\n",
       "      <td>Аксессуары - PSP</td>\n",
       "      <td>4</td>\n",
       "    </tr>\n",
       "  </tbody>\n",
       "</table>\n",
       "</div>"
      ],
      "text/plain": [
       "        item_category_name  item_category_id\n",
       "0  PC - Гарнитуры/Наушники                 0\n",
       "1         Аксессуары - PS2                 1\n",
       "2         Аксессуары - PS3                 2\n",
       "3         Аксессуары - PS4                 3\n",
       "4         Аксессуары - PSP                 4"
      ]
     },
     "execution_count": 5,
     "metadata": {},
     "output_type": "execute_result"
    }
   ],
   "source": [
    "categories=pd.read_csv(categories)\n",
    "categories.head()"
   ]
  },
  {
   "cell_type": "markdown",
   "id": "342cc813",
   "metadata": {
    "papermill": {
     "duration": 0.00666,
     "end_time": "2022-11-12T22:01:49.660298",
     "exception": false,
     "start_time": "2022-11-12T22:01:49.653638",
     "status": "completed"
    },
    "tags": []
   },
   "source": [
    "# Merged DataFrame\n",
    "Data fields\n",
    "* ID - an Id that represents a (Shop, Item) tuple within the test set\n",
    "* shop_id - unique identifier of a shop\n",
    "* item_id - unique identifier of a product\n",
    "* item_category_id - unique identifier of item category\n",
    "* item_cnt_day - number of products sold. You are predicting a monthly amount of this measure\n",
    "* item_price - current price of an item\n",
    "* date - date in format dd/mm/yyyy\n",
    "* date_block_num - a consecutive month number, used for convenience. January 2013 is 0, February 2013 is 1,..., October 2015 is 33\n",
    "* item_name - name of item"
   ]
  },
  {
   "cell_type": "code",
   "execution_count": 6,
   "id": "f30770aa",
   "metadata": {
    "execution": {
     "iopub.execute_input": "2022-11-12T22:01:49.677522Z",
     "iopub.status.busy": "2022-11-12T22:01:49.677107Z",
     "iopub.status.idle": "2022-11-12T22:01:50.122449Z",
     "shell.execute_reply": "2022-11-12T22:01:50.121347Z"
    },
    "papermill": {
     "duration": 0.456538,
     "end_time": "2022-11-12T22:01:50.125351",
     "exception": false,
     "start_time": "2022-11-12T22:01:49.668813",
     "status": "completed"
    },
    "tags": []
   },
   "outputs": [
    {
     "data": {
      "text/html": [
       "<div>\n",
       "<style scoped>\n",
       "    .dataframe tbody tr th:only-of-type {\n",
       "        vertical-align: middle;\n",
       "    }\n",
       "\n",
       "    .dataframe tbody tr th {\n",
       "        vertical-align: top;\n",
       "    }\n",
       "\n",
       "    .dataframe thead th {\n",
       "        text-align: right;\n",
       "    }\n",
       "</style>\n",
       "<table border=\"1\" class=\"dataframe\">\n",
       "  <thead>\n",
       "    <tr style=\"text-align: right;\">\n",
       "      <th></th>\n",
       "      <th>date</th>\n",
       "      <th>date_block_num</th>\n",
       "      <th>shop_id</th>\n",
       "      <th>item_id</th>\n",
       "      <th>item_price</th>\n",
       "      <th>item_cnt_day</th>\n",
       "      <th>shop_name</th>\n",
       "    </tr>\n",
       "  </thead>\n",
       "  <tbody>\n",
       "    <tr>\n",
       "      <th>0</th>\n",
       "      <td>02.01.2013</td>\n",
       "      <td>0</td>\n",
       "      <td>59</td>\n",
       "      <td>22154</td>\n",
       "      <td>999.0</td>\n",
       "      <td>1.0</td>\n",
       "      <td>Ярославль ТЦ \"Альтаир\"</td>\n",
       "    </tr>\n",
       "    <tr>\n",
       "      <th>1</th>\n",
       "      <td>10.01.2013</td>\n",
       "      <td>0</td>\n",
       "      <td>59</td>\n",
       "      <td>22151</td>\n",
       "      <td>399.0</td>\n",
       "      <td>1.0</td>\n",
       "      <td>Ярославль ТЦ \"Альтаир\"</td>\n",
       "    </tr>\n",
       "    <tr>\n",
       "      <th>2</th>\n",
       "      <td>04.01.2013</td>\n",
       "      <td>0</td>\n",
       "      <td>59</td>\n",
       "      <td>5603</td>\n",
       "      <td>699.0</td>\n",
       "      <td>1.0</td>\n",
       "      <td>Ярославль ТЦ \"Альтаир\"</td>\n",
       "    </tr>\n",
       "    <tr>\n",
       "      <th>3</th>\n",
       "      <td>19.01.2013</td>\n",
       "      <td>0</td>\n",
       "      <td>59</td>\n",
       "      <td>5587</td>\n",
       "      <td>199.0</td>\n",
       "      <td>2.0</td>\n",
       "      <td>Ярославль ТЦ \"Альтаир\"</td>\n",
       "    </tr>\n",
       "    <tr>\n",
       "      <th>4</th>\n",
       "      <td>31.01.2013</td>\n",
       "      <td>0</td>\n",
       "      <td>59</td>\n",
       "      <td>5613</td>\n",
       "      <td>5571.0</td>\n",
       "      <td>1.0</td>\n",
       "      <td>Ярославль ТЦ \"Альтаир\"</td>\n",
       "    </tr>\n",
       "  </tbody>\n",
       "</table>\n",
       "</div>"
      ],
      "text/plain": [
       "         date  date_block_num  shop_id  item_id  item_price  item_cnt_day  \\\n",
       "0  02.01.2013               0       59    22154       999.0           1.0   \n",
       "1  10.01.2013               0       59    22151       399.0           1.0   \n",
       "2  04.01.2013               0       59     5603       699.0           1.0   \n",
       "3  19.01.2013               0       59     5587       199.0           2.0   \n",
       "4  31.01.2013               0       59     5613      5571.0           1.0   \n",
       "\n",
       "                shop_name  \n",
       "0  Ярославль ТЦ \"Альтаир\"  \n",
       "1  Ярославль ТЦ \"Альтаир\"  \n",
       "2  Ярославль ТЦ \"Альтаир\"  \n",
       "3  Ярославль ТЦ \"Альтаир\"  \n",
       "4  Ярославль ТЦ \"Альтаир\"  "
      ]
     },
     "execution_count": 6,
     "metadata": {},
     "output_type": "execute_result"
    }
   ],
   "source": [
    "df=pd.merge(train, shops, on='shop_id')\n",
    "df.head()"
   ]
  },
  {
   "cell_type": "code",
   "execution_count": 7,
   "id": "8ad727ca",
   "metadata": {
    "execution": {
     "iopub.execute_input": "2022-11-12T22:01:50.142468Z",
     "iopub.status.busy": "2022-11-12T22:01:50.142031Z",
     "iopub.status.idle": "2022-11-12T22:01:50.182623Z",
     "shell.execute_reply": "2022-11-12T22:01:50.181339Z"
    },
    "papermill": {
     "duration": 0.052392,
     "end_time": "2022-11-12T22:01:50.185261",
     "exception": false,
     "start_time": "2022-11-12T22:01:50.132869",
     "status": "completed"
    },
    "tags": []
   },
   "outputs": [
    {
     "name": "stdout",
     "output_type": "stream",
     "text": [
      "[1.0, 2.0, -1.0, 3.0, 5.0, 6.0, 4.0, -2.0, 10.0, 8.0, 9.0, 7.0, 16.0, 13.0, 12.0, 14.0, 26.0, 11.0, 20.0, 39.0, 28.0, 27.0, 34.0, 19.0, 31.0, 22.0, 17.0, 29.0, 45.0, 21.0, 18.0, 56.0, 15.0, 80.0, 69.0, 40.0, 24.0, 32.0, 23.0, 25.0, 77.0, 41.0, 33.0, 37.0, 36.0, 38.0, 70.0, 30.0, 44.0, 71.0, 48.0, 62.0, 264.0, 110.0, 133.0, 51.0, 46.0, 60.0, 43.0, 65.0, 84.0, 50.0, 47.0, 52.0, 85.0, 35.0, 54.0, 68.0, 59.0, 91.0, 64.0, 87.0, 74.0, 42.0, 501.0, 93.0, 49.0, 53.0, 147.0, 72.0, 205.0, 67.0, 63.0, 55.0, 222.0, 207.0, 82.0, 148.0, 134.0, 78.0, 79.0, 83.0, 405.0, 103.0, 98.0, 100.0, 92.0, -3.0, -4.0, 121.0, 61.0, 156.0, 73.0, 66.0, 145.0, 57.0, 101.0, 81.0, 131.0, 401.0, 502.0, 151.0, 75.0, 240.0, 111.0, 104.0, 76.0, 118.0, 138.0, -5.0, 89.0, 194.0, 255.0, 153.0, -16.0, 117.0, -6.0, 200.0, 150.0, 106.0, 109.0, 97.0, -22.0, 96.0, 242.0, 105.0, 126.0, 58.0, 99.0, 171.0, 130.0, 115.0, 90.0, 124.0, 149.0, 132.0, 195.0, 512.0, -9.0, 142.0, 163.0, 108.0, 500.0, 1000.0, 127.0, 624.0, 187.0, 140.0, 480.0, 343.0, 539.0, 95.0, 146.0, 669.0, 114.0, 157.0, 504.0, 139.0, 161.0, 2169.0, 88.0, 288.0, 86.0, 107.0, 102.0, 300.0, 313.0, 251.0, 217.0, 113.0, 112.0, 299.0, 230.0, 179.0, 168.0, 167.0, 164.0, 508.0, 412.0, 128.0, 116.0, 325.0, 129.0, 231.0, 154.0, 533.0, 637.0, 135.0]\n"
     ]
    }
   ],
   "source": [
    "item_count=list(df['item_cnt_day'].unique())\n",
    "print(item_count)"
   ]
  },
  {
   "cell_type": "code",
   "execution_count": 8,
   "id": "33be0419",
   "metadata": {
    "execution": {
     "iopub.execute_input": "2022-11-12T22:01:50.202376Z",
     "iopub.status.busy": "2022-11-12T22:01:50.200985Z",
     "iopub.status.idle": "2022-11-12T22:01:50.494066Z",
     "shell.execute_reply": "2022-11-12T22:01:50.492763Z"
    },
    "papermill": {
     "duration": 0.304554,
     "end_time": "2022-11-12T22:01:50.496961",
     "exception": false,
     "start_time": "2022-11-12T22:01:50.192407",
     "status": "completed"
    },
    "tags": []
   },
   "outputs": [
    {
     "data": {
      "text/plain": [
       "date              0\n",
       "date_block_num    0\n",
       "shop_id           0\n",
       "item_id           0\n",
       "item_price        0\n",
       "item_cnt_day      0\n",
       "shop_name         0\n",
       "dtype: int64"
      ]
     },
     "execution_count": 8,
     "metadata": {},
     "output_type": "execute_result"
    }
   ],
   "source": [
    "df.isnull().sum()"
   ]
  },
  {
   "cell_type": "markdown",
   "id": "43bd4efa",
   "metadata": {
    "papermill": {
     "duration": 0.007805,
     "end_time": "2022-11-12T22:01:50.512697",
     "exception": false,
     "start_time": "2022-11-12T22:01:50.504892",
     "status": "completed"
    },
    "tags": []
   },
   "source": [
    "# Test Data\n",
    "We will make predictions on the following test dataset."
   ]
  },
  {
   "cell_type": "code",
   "execution_count": 9,
   "id": "a6cfd76d",
   "metadata": {
    "execution": {
     "iopub.execute_input": "2022-11-12T22:01:50.531280Z",
     "iopub.status.busy": "2022-11-12T22:01:50.530076Z",
     "iopub.status.idle": "2022-11-12T22:01:50.626457Z",
     "shell.execute_reply": "2022-11-12T22:01:50.625341Z"
    },
    "papermill": {
     "duration": 0.107578,
     "end_time": "2022-11-12T22:01:50.628716",
     "exception": false,
     "start_time": "2022-11-12T22:01:50.521138",
     "status": "completed"
    },
    "tags": []
   },
   "outputs": [
    {
     "data": {
      "text/html": [
       "<div>\n",
       "<style scoped>\n",
       "    .dataframe tbody tr th:only-of-type {\n",
       "        vertical-align: middle;\n",
       "    }\n",
       "\n",
       "    .dataframe tbody tr th {\n",
       "        vertical-align: top;\n",
       "    }\n",
       "\n",
       "    .dataframe thead th {\n",
       "        text-align: right;\n",
       "    }\n",
       "</style>\n",
       "<table border=\"1\" class=\"dataframe\">\n",
       "  <thead>\n",
       "    <tr style=\"text-align: right;\">\n",
       "      <th></th>\n",
       "      <th>ID</th>\n",
       "      <th>shop_id</th>\n",
       "      <th>item_id</th>\n",
       "    </tr>\n",
       "  </thead>\n",
       "  <tbody>\n",
       "    <tr>\n",
       "      <th>0</th>\n",
       "      <td>0</td>\n",
       "      <td>5</td>\n",
       "      <td>5037</td>\n",
       "    </tr>\n",
       "    <tr>\n",
       "      <th>1</th>\n",
       "      <td>1</td>\n",
       "      <td>5</td>\n",
       "      <td>5320</td>\n",
       "    </tr>\n",
       "    <tr>\n",
       "      <th>2</th>\n",
       "      <td>2</td>\n",
       "      <td>5</td>\n",
       "      <td>5233</td>\n",
       "    </tr>\n",
       "    <tr>\n",
       "      <th>3</th>\n",
       "      <td>3</td>\n",
       "      <td>5</td>\n",
       "      <td>5232</td>\n",
       "    </tr>\n",
       "    <tr>\n",
       "      <th>4</th>\n",
       "      <td>4</td>\n",
       "      <td>5</td>\n",
       "      <td>5268</td>\n",
       "    </tr>\n",
       "  </tbody>\n",
       "</table>\n",
       "</div>"
      ],
      "text/plain": [
       "   ID  shop_id  item_id\n",
       "0   0        5     5037\n",
       "1   1        5     5320\n",
       "2   2        5     5233\n",
       "3   3        5     5232\n",
       "4   4        5     5268"
      ]
     },
     "execution_count": 9,
     "metadata": {},
     "output_type": "execute_result"
    }
   ],
   "source": [
    "testDF=pd.read_csv(test)\n",
    "testDF.head()"
   ]
  },
  {
   "cell_type": "markdown",
   "id": "8d5963f8",
   "metadata": {
    "papermill": {
     "duration": 0.007422,
     "end_time": "2022-11-12T22:01:50.643565",
     "exception": false,
     "start_time": "2022-11-12T22:01:50.636143",
     "status": "completed"
    },
    "tags": []
   },
   "source": [
    "# Create New Date Features"
   ]
  },
  {
   "cell_type": "code",
   "execution_count": 10,
   "id": "e1eaaae2",
   "metadata": {
    "execution": {
     "iopub.execute_input": "2022-11-12T22:01:50.660965Z",
     "iopub.status.busy": "2022-11-12T22:01:50.660118Z",
     "iopub.status.idle": "2022-11-12T22:01:52.019096Z",
     "shell.execute_reply": "2022-11-12T22:01:52.017728Z"
    },
    "papermill": {
     "duration": 1.370328,
     "end_time": "2022-11-12T22:01:52.021544",
     "exception": false,
     "start_time": "2022-11-12T22:01:50.651216",
     "status": "completed"
    },
    "tags": []
   },
   "outputs": [
    {
     "name": "stdout",
     "output_type": "stream",
     "text": [
      "[1, 2, 3, 4, 5, 6, 7, 8, 9, 10, 11, 12]\n"
     ]
    }
   ],
   "source": [
    "df['Month'] = df['date'].str[3:5].astype(int)\n",
    "months=list(df['Month'].unique())\n",
    "print(months)"
   ]
  },
  {
   "cell_type": "code",
   "execution_count": 11,
   "id": "b30ba2b5",
   "metadata": {
    "execution": {
     "iopub.execute_input": "2022-11-12T22:01:52.038794Z",
     "iopub.status.busy": "2022-11-12T22:01:52.038330Z",
     "iopub.status.idle": "2022-11-12T22:01:53.122529Z",
     "shell.execute_reply": "2022-11-12T22:01:53.121287Z"
    },
    "papermill": {
     "duration": 1.09575,
     "end_time": "2022-11-12T22:01:53.125276",
     "exception": false,
     "start_time": "2022-11-12T22:01:52.029526",
     "status": "completed"
    },
    "tags": []
   },
   "outputs": [
    {
     "name": "stdout",
     "output_type": "stream",
     "text": [
      "[1, 2, 3, 4, 5, 6, 7, 8, 9, 10, 11, 12, 13, 14, 15, 16, 17, 18, 19, 20, 21, 22, 23, 24, 25, 26, 27, 28, 29, 30, 31]\n"
     ]
    }
   ],
   "source": [
    "df['Day'] = df['date'].str[:2].astype(int)\n",
    "days=list(sorted(df['Day'].unique()))\n",
    "print(days)"
   ]
  },
  {
   "cell_type": "code",
   "execution_count": 12,
   "id": "868d5178",
   "metadata": {
    "execution": {
     "iopub.execute_input": "2022-11-12T22:01:53.142172Z",
     "iopub.status.busy": "2022-11-12T22:01:53.141750Z",
     "iopub.status.idle": "2022-11-12T22:01:54.240728Z",
     "shell.execute_reply": "2022-11-12T22:01:54.239369Z"
    },
    "papermill": {
     "duration": 1.110427,
     "end_time": "2022-11-12T22:01:54.243297",
     "exception": false,
     "start_time": "2022-11-12T22:01:53.132870",
     "status": "completed"
    },
    "tags": []
   },
   "outputs": [
    {
     "name": "stdout",
     "output_type": "stream",
     "text": [
      "[2013, 2014, 2015]\n"
     ]
    }
   ],
   "source": [
    "df['Year'] = df['date'].str[6:10].astype(int)\n",
    "years=list(sorted(df['Year'].unique()))\n",
    "print(years)"
   ]
  },
  {
   "cell_type": "code",
   "execution_count": 13,
   "id": "ca355a26",
   "metadata": {
    "execution": {
     "iopub.execute_input": "2022-11-12T22:01:54.260577Z",
     "iopub.status.busy": "2022-11-12T22:01:54.260186Z",
     "iopub.status.idle": "2022-11-12T22:01:54.283446Z",
     "shell.execute_reply": "2022-11-12T22:01:54.282016Z"
    },
    "papermill": {
     "duration": 0.035179,
     "end_time": "2022-11-12T22:01:54.286216",
     "exception": false,
     "start_time": "2022-11-12T22:01:54.251037",
     "status": "completed"
    },
    "tags": []
   },
   "outputs": [],
   "source": [
    "df['total_sales']=df['item_price']*df['item_cnt_day']"
   ]
  },
  {
   "cell_type": "code",
   "execution_count": 14,
   "id": "65117706",
   "metadata": {
    "execution": {
     "iopub.execute_input": "2022-11-12T22:01:54.303353Z",
     "iopub.status.busy": "2022-11-12T22:01:54.302940Z",
     "iopub.status.idle": "2022-11-12T22:01:54.319809Z",
     "shell.execute_reply": "2022-11-12T22:01:54.318586Z"
    },
    "papermill": {
     "duration": 0.028245,
     "end_time": "2022-11-12T22:01:54.322183",
     "exception": false,
     "start_time": "2022-11-12T22:01:54.293938",
     "status": "completed"
    },
    "tags": []
   },
   "outputs": [
    {
     "data": {
      "text/html": [
       "<div>\n",
       "<style scoped>\n",
       "    .dataframe tbody tr th:only-of-type {\n",
       "        vertical-align: middle;\n",
       "    }\n",
       "\n",
       "    .dataframe tbody tr th {\n",
       "        vertical-align: top;\n",
       "    }\n",
       "\n",
       "    .dataframe thead th {\n",
       "        text-align: right;\n",
       "    }\n",
       "</style>\n",
       "<table border=\"1\" class=\"dataframe\">\n",
       "  <thead>\n",
       "    <tr style=\"text-align: right;\">\n",
       "      <th></th>\n",
       "      <th>date</th>\n",
       "      <th>date_block_num</th>\n",
       "      <th>shop_id</th>\n",
       "      <th>item_id</th>\n",
       "      <th>item_price</th>\n",
       "      <th>item_cnt_day</th>\n",
       "      <th>shop_name</th>\n",
       "      <th>Month</th>\n",
       "      <th>Day</th>\n",
       "      <th>Year</th>\n",
       "      <th>total_sales</th>\n",
       "    </tr>\n",
       "  </thead>\n",
       "  <tbody>\n",
       "    <tr>\n",
       "      <th>0</th>\n",
       "      <td>02.01.2013</td>\n",
       "      <td>0</td>\n",
       "      <td>59</td>\n",
       "      <td>22154</td>\n",
       "      <td>999.0</td>\n",
       "      <td>1.0</td>\n",
       "      <td>Ярославль ТЦ \"Альтаир\"</td>\n",
       "      <td>1</td>\n",
       "      <td>2</td>\n",
       "      <td>2013</td>\n",
       "      <td>999.0</td>\n",
       "    </tr>\n",
       "    <tr>\n",
       "      <th>1</th>\n",
       "      <td>10.01.2013</td>\n",
       "      <td>0</td>\n",
       "      <td>59</td>\n",
       "      <td>22151</td>\n",
       "      <td>399.0</td>\n",
       "      <td>1.0</td>\n",
       "      <td>Ярославль ТЦ \"Альтаир\"</td>\n",
       "      <td>1</td>\n",
       "      <td>10</td>\n",
       "      <td>2013</td>\n",
       "      <td>399.0</td>\n",
       "    </tr>\n",
       "    <tr>\n",
       "      <th>2</th>\n",
       "      <td>04.01.2013</td>\n",
       "      <td>0</td>\n",
       "      <td>59</td>\n",
       "      <td>5603</td>\n",
       "      <td>699.0</td>\n",
       "      <td>1.0</td>\n",
       "      <td>Ярославль ТЦ \"Альтаир\"</td>\n",
       "      <td>1</td>\n",
       "      <td>4</td>\n",
       "      <td>2013</td>\n",
       "      <td>699.0</td>\n",
       "    </tr>\n",
       "    <tr>\n",
       "      <th>3</th>\n",
       "      <td>19.01.2013</td>\n",
       "      <td>0</td>\n",
       "      <td>59</td>\n",
       "      <td>5587</td>\n",
       "      <td>199.0</td>\n",
       "      <td>2.0</td>\n",
       "      <td>Ярославль ТЦ \"Альтаир\"</td>\n",
       "      <td>1</td>\n",
       "      <td>19</td>\n",
       "      <td>2013</td>\n",
       "      <td>398.0</td>\n",
       "    </tr>\n",
       "    <tr>\n",
       "      <th>4</th>\n",
       "      <td>31.01.2013</td>\n",
       "      <td>0</td>\n",
       "      <td>59</td>\n",
       "      <td>5613</td>\n",
       "      <td>5571.0</td>\n",
       "      <td>1.0</td>\n",
       "      <td>Ярославль ТЦ \"Альтаир\"</td>\n",
       "      <td>1</td>\n",
       "      <td>31</td>\n",
       "      <td>2013</td>\n",
       "      <td>5571.0</td>\n",
       "    </tr>\n",
       "  </tbody>\n",
       "</table>\n",
       "</div>"
      ],
      "text/plain": [
       "         date  date_block_num  shop_id  item_id  item_price  item_cnt_day  \\\n",
       "0  02.01.2013               0       59    22154       999.0           1.0   \n",
       "1  10.01.2013               0       59    22151       399.0           1.0   \n",
       "2  04.01.2013               0       59     5603       699.0           1.0   \n",
       "3  19.01.2013               0       59     5587       199.0           2.0   \n",
       "4  31.01.2013               0       59     5613      5571.0           1.0   \n",
       "\n",
       "                shop_name  Month  Day  Year  total_sales  \n",
       "0  Ярославль ТЦ \"Альтаир\"      1    2  2013        999.0  \n",
       "1  Ярославль ТЦ \"Альтаир\"      1   10  2013        399.0  \n",
       "2  Ярославль ТЦ \"Альтаир\"      1    4  2013        699.0  \n",
       "3  Ярославль ТЦ \"Альтаир\"      1   19  2013        398.0  \n",
       "4  Ярославль ТЦ \"Альтаир\"      1   31  2013       5571.0  "
      ]
     },
     "execution_count": 14,
     "metadata": {},
     "output_type": "execute_result"
    }
   ],
   "source": [
    "df.head()"
   ]
  },
  {
   "cell_type": "code",
   "execution_count": 15,
   "id": "254fe085",
   "metadata": {
    "execution": {
     "iopub.execute_input": "2022-11-12T22:01:54.339809Z",
     "iopub.status.busy": "2022-11-12T22:01:54.339411Z",
     "iopub.status.idle": "2022-11-12T22:01:54.640592Z",
     "shell.execute_reply": "2022-11-12T22:01:54.639250Z"
    },
    "papermill": {
     "duration": 0.313474,
     "end_time": "2022-11-12T22:01:54.643418",
     "exception": false,
     "start_time": "2022-11-12T22:01:54.329944",
     "status": "completed"
    },
    "tags": []
   },
   "outputs": [
    {
     "data": {
      "image/png": "[encoded data removed]",
      "text/plain": [
       "<Figure size 432x288 with 1 Axes>"
      ]
     },
     "metadata": {
      "needs_background": "light"
     },
     "output_type": "display_data"
    }
   ],
   "source": [
    "import matplotlib.pyplot as plt\n",
    "\n",
    "monthSales=list(df.groupby(by=\"Month\")['total_sales'].sum())\n",
    "\n",
    "plt.plot(months, monthSales)\n",
    "plt.legend(\"Monthly Sales\")\n",
    "plt.show()"
   ]
  },
  {
   "cell_type": "code",
   "execution_count": 16,
   "id": "7ff914c9",
   "metadata": {
    "execution": {
     "iopub.execute_input": "2022-11-12T22:01:54.663405Z",
     "iopub.status.busy": "2022-11-12T22:01:54.662989Z",
     "iopub.status.idle": "2022-11-12T22:01:54.934285Z",
     "shell.execute_reply": "2022-11-12T22:01:54.932820Z"
    },
    "papermill": {
     "duration": 0.284038,
     "end_time": "2022-11-12T22:01:54.936930",
     "exception": false,
     "start_time": "2022-11-12T22:01:54.652892",
     "status": "completed"
    },
    "tags": []
   },
   "outputs": [
    {
     "name": "stdout",
     "output_type": "stream",
     "text": [
      "[1217524733.980002, 1346778478.809994, 834623131.7799944]\n"
     ]
    },
    {
     "data": {
      "image/png": "[encoded data removed]",
      "text/plain": [
       "<Figure size 432x288 with 1 Axes>"
      ]
     },
     "metadata": {
      "needs_background": "light"
     },
     "output_type": "display_data"
    }
   ],
   "source": [
    "yearSales=list(df.groupby(by=\"Year\")['total_sales'].sum())\n",
    "print(yearSales)\n",
    "\n",
    "plt.plot(years, yearSales)\n",
    "plt.legend(\"Year Sales\")\n",
    "plt.show()"
   ]
  },
  {
   "cell_type": "markdown",
   "id": "59633296",
   "metadata": {
    "papermill": {
     "duration": 0.008231,
     "end_time": "2022-11-12T22:01:54.953914",
     "exception": false,
     "start_time": "2022-11-12T22:01:54.945683",
     "status": "completed"
    },
    "tags": []
   },
   "source": [
    "# Test Data"
   ]
  },
  {
   "cell_type": "code",
   "execution_count": 17,
   "id": "da205bf3",
   "metadata": {
    "execution": {
     "iopub.execute_input": "2022-11-12T22:01:54.972873Z",
     "iopub.status.busy": "2022-11-12T22:01:54.972410Z",
     "iopub.status.idle": "2022-11-12T22:01:55.029001Z",
     "shell.execute_reply": "2022-11-12T22:01:55.027768Z"
    },
    "papermill": {
     "duration": 0.069163,
     "end_time": "2022-11-12T22:01:55.031678",
     "exception": false,
     "start_time": "2022-11-12T22:01:54.962515",
     "status": "completed"
    },
    "tags": []
   },
   "outputs": [
    {
     "data": {
      "text/html": [
       "<div>\n",
       "<style scoped>\n",
       "    .dataframe tbody tr th:only-of-type {\n",
       "        vertical-align: middle;\n",
       "    }\n",
       "\n",
       "    .dataframe tbody tr th {\n",
       "        vertical-align: top;\n",
       "    }\n",
       "\n",
       "    .dataframe thead th {\n",
       "        text-align: right;\n",
       "    }\n",
       "</style>\n",
       "<table border=\"1\" class=\"dataframe\">\n",
       "  <thead>\n",
       "    <tr style=\"text-align: right;\">\n",
       "      <th></th>\n",
       "      <th>ID</th>\n",
       "      <th>shop_id</th>\n",
       "      <th>item_id</th>\n",
       "    </tr>\n",
       "  </thead>\n",
       "  <tbody>\n",
       "    <tr>\n",
       "      <th>0</th>\n",
       "      <td>0</td>\n",
       "      <td>5</td>\n",
       "      <td>5037</td>\n",
       "    </tr>\n",
       "    <tr>\n",
       "      <th>1</th>\n",
       "      <td>1</td>\n",
       "      <td>5</td>\n",
       "      <td>5320</td>\n",
       "    </tr>\n",
       "    <tr>\n",
       "      <th>2</th>\n",
       "      <td>2</td>\n",
       "      <td>5</td>\n",
       "      <td>5233</td>\n",
       "    </tr>\n",
       "    <tr>\n",
       "      <th>3</th>\n",
       "      <td>3</td>\n",
       "      <td>5</td>\n",
       "      <td>5232</td>\n",
       "    </tr>\n",
       "    <tr>\n",
       "      <th>4</th>\n",
       "      <td>4</td>\n",
       "      <td>5</td>\n",
       "      <td>5268</td>\n",
       "    </tr>\n",
       "  </tbody>\n",
       "</table>\n",
       "</div>"
      ],
      "text/plain": [
       "   ID  shop_id  item_id\n",
       "0   0        5     5037\n",
       "1   1        5     5320\n",
       "2   2        5     5233\n",
       "3   3        5     5232\n",
       "4   4        5     5268"
      ]
     },
     "execution_count": 17,
     "metadata": {},
     "output_type": "execute_result"
    }
   ],
   "source": [
    "testDF=pd.read_csv(test)\n",
    "testDF.head()"
   ]
  },
  {
   "cell_type": "markdown",
   "id": "fac017ef",
   "metadata": {
    "papermill": {
     "duration": 0.008716,
     "end_time": "2022-11-12T22:01:55.049283",
     "exception": false,
     "start_time": "2022-11-12T22:01:55.040567",
     "status": "completed"
    },
    "tags": []
   },
   "source": [
    "# Submit \n",
    "Submissions are evaluated by root mean squared error (RMSE) . True target values are clipped into [0,20] range."
   ]
  },
  {
   "cell_type": "code",
   "execution_count": 18,
   "id": "1bfd46e1",
   "metadata": {
    "execution": {
     "iopub.execute_input": "2022-11-12T22:01:55.068784Z",
     "iopub.status.busy": "2022-11-12T22:01:55.068389Z",
     "iopub.status.idle": "2022-11-12T22:01:55.141256Z",
     "shell.execute_reply": "2022-11-12T22:01:55.139892Z"
    },
    "papermill": {
     "duration": 0.085609,
     "end_time": "2022-11-12T22:01:55.143833",
     "exception": false,
     "start_time": "2022-11-12T22:01:55.058224",
     "status": "completed"
    },
    "tags": []
   },
   "outputs": [
    {
     "data": {
      "text/html": [
       "<div>\n",
       "<style scoped>\n",
       "    .dataframe tbody tr th:only-of-type {\n",
       "        vertical-align: middle;\n",
       "    }\n",
       "\n",
       "    .dataframe tbody tr th {\n",
       "        vertical-align: top;\n",
       "    }\n",
       "\n",
       "    .dataframe thead th {\n",
       "        text-align: right;\n",
       "    }\n",
       "</style>\n",
       "<table border=\"1\" class=\"dataframe\">\n",
       "  <thead>\n",
       "    <tr style=\"text-align: right;\">\n",
       "      <th></th>\n",
       "      <th>ID</th>\n",
       "      <th>item_cnt_month</th>\n",
       "    </tr>\n",
       "  </thead>\n",
       "  <tbody>\n",
       "    <tr>\n",
       "      <th>0</th>\n",
       "      <td>0</td>\n",
       "      <td>0.5</td>\n",
       "    </tr>\n",
       "    <tr>\n",
       "      <th>1</th>\n",
       "      <td>1</td>\n",
       "      <td>0.5</td>\n",
       "    </tr>\n",
       "    <tr>\n",
       "      <th>2</th>\n",
       "      <td>2</td>\n",
       "      <td>0.5</td>\n",
       "    </tr>\n",
       "    <tr>\n",
       "      <th>3</th>\n",
       "      <td>3</td>\n",
       "      <td>0.5</td>\n",
       "    </tr>\n",
       "    <tr>\n",
       "      <th>4</th>\n",
       "      <td>4</td>\n",
       "      <td>0.5</td>\n",
       "    </tr>\n",
       "  </tbody>\n",
       "</table>\n",
       "</div>"
      ],
      "text/plain": [
       "   ID  item_cnt_month\n",
       "0   0             0.5\n",
       "1   1             0.5\n",
       "2   2             0.5\n",
       "3   3             0.5\n",
       "4   4             0.5"
      ]
     },
     "execution_count": 18,
     "metadata": {},
     "output_type": "execute_result"
    }
   ],
   "source": [
    "sample=pd.read_csv(sample)\n",
    "sample.head()"
   ]
  }
 ],
 "metadata": {
  "kernelspec": {
   "display_name": "Python 3",
   "language": "python",
   "name": "python3"
  },
  "language_info": {
   "codemirror_mode": {
    "name": "ipython",
    "version": 3
   },
   "file_extension": ".py",
   "mimetype": "text/x-python",
   "name": "python",
   "nbconvert_exporter": "python",
   "pygments_lexer": "ipython3",
   "version": "3.7.12"
  },
  "papermill": {
   "default_parameters": {},
   "duration": 18.235728,
   "end_time": "2022-11-12T22:01:55.875665",
   "environment_variables": {},
   "exception": null,
   "input_path": "__notebook__.ipynb",
   "output_path": "__notebook__.ipynb",
   "parameters": {},
   "start_time": "2022-11-12T22:01:37.639937",
   "version": "2.3.4"
  }
 },
 "nbformat": 4,
 "nbformat_minor": 5
}
