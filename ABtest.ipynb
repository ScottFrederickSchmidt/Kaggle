{
 "cells": [
  {
   "cell_type": "markdown",
   "id": "429ff60a",
   "metadata": {
    "papermill": {
     "duration": 0.002079,
     "end_time": "2023-07-04T19:16:00.112523",
     "exception": false,
     "start_time": "2023-07-04T19:16:00.110444",
     "status": "completed"
    },
    "tags": []
   },
   "source": [
    "# A/B Test\n",
    "A very simple AB test in Python with brief summary. "
   ]
  },
  {
   "cell_type": "code",
   "execution_count": 1,
   "id": "4e875e24",
   "metadata": {
    "execution": {
     "iopub.execute_input": "2023-07-04T19:16:00.117779Z",
     "iopub.status.busy": "2023-07-04T19:16:00.117402Z",
     "iopub.status.idle": "2023-07-04T19:16:00.666584Z",
     "shell.execute_reply": "2023-07-04T19:16:00.665558Z"
    },
    "papermill": {
     "duration": 0.554225,
     "end_time": "2023-07-04T19:16:00.668645",
     "exception": false,
     "start_time": "2023-07-04T19:16:00.114420",
     "status": "completed"
    },
    "tags": []
   },
   "outputs": [
    {
     "data": {
      "text/html": [
       "<div>\n",
       "<style scoped>\n",
       "    .dataframe tbody tr th:only-of-type {\n",
       "        vertical-align: middle;\n",
       "    }\n",
       "\n",
       "    .dataframe tbody tr th {\n",
       "        vertical-align: top;\n",
       "    }\n",
       "\n",
       "    .dataframe thead th {\n",
       "        text-align: right;\n",
       "    }\n",
       "</style>\n",
       "<table border=\"1\" class=\"dataframe\">\n",
       "  <thead>\n",
       "    <tr style=\"text-align: right;\">\n",
       "      <th></th>\n",
       "      <th>user_id</th>\n",
       "      <th>timestamp</th>\n",
       "      <th>group</th>\n",
       "      <th>landing_page</th>\n",
       "      <th>converted</th>\n",
       "    </tr>\n",
       "  </thead>\n",
       "  <tbody>\n",
       "    <tr>\n",
       "      <th>0</th>\n",
       "      <td>851104</td>\n",
       "      <td>2017-01-21 22:11:48.556739</td>\n",
       "      <td>control</td>\n",
       "      <td>old_page</td>\n",
       "      <td>0</td>\n",
       "    </tr>\n",
       "    <tr>\n",
       "      <th>1</th>\n",
       "      <td>804228</td>\n",
       "      <td>2017-01-12 08:01:45.159739</td>\n",
       "      <td>control</td>\n",
       "      <td>old_page</td>\n",
       "      <td>0</td>\n",
       "    </tr>\n",
       "    <tr>\n",
       "      <th>2</th>\n",
       "      <td>661590</td>\n",
       "      <td>2017-01-11 16:55:06.154213</td>\n",
       "      <td>treatment</td>\n",
       "      <td>new_page</td>\n",
       "      <td>0</td>\n",
       "    </tr>\n",
       "    <tr>\n",
       "      <th>3</th>\n",
       "      <td>853541</td>\n",
       "      <td>2017-01-08 18:28:03.143765</td>\n",
       "      <td>treatment</td>\n",
       "      <td>new_page</td>\n",
       "      <td>0</td>\n",
       "    </tr>\n",
       "    <tr>\n",
       "      <th>4</th>\n",
       "      <td>864975</td>\n",
       "      <td>2017-01-21 01:52:26.210827</td>\n",
       "      <td>control</td>\n",
       "      <td>old_page</td>\n",
       "      <td>1</td>\n",
       "    </tr>\n",
       "  </tbody>\n",
       "</table>\n",
       "</div>"
      ],
      "text/plain": [
       "   user_id                   timestamp      group landing_page  converted\n",
       "0   851104  2017-01-21 22:11:48.556739    control     old_page          0\n",
       "1   804228  2017-01-12 08:01:45.159739    control     old_page          0\n",
       "2   661590  2017-01-11 16:55:06.154213  treatment     new_page          0\n",
       "3   853541  2017-01-08 18:28:03.143765  treatment     new_page          0\n",
       "4   864975  2017-01-21 01:52:26.210827    control     old_page          1"
      ]
     },
     "execution_count": 1,
     "metadata": {},
     "output_type": "execute_result"
    }
   ],
   "source": [
    "import pandas as pd\n",
    "import numpy as np\n",
    "file='/kaggle/input/ab-testing/ab_data.csv'\n",
    "df=pd.read_csv(file)\n",
    "df.head()"
   ]
  },
  {
   "cell_type": "code",
   "execution_count": 2,
   "id": "d1a191a6",
   "metadata": {
    "execution": {
     "iopub.execute_input": "2023-07-04T19:16:00.673702Z",
     "iopub.status.busy": "2023-07-04T19:16:00.673365Z",
     "iopub.status.idle": "2023-07-04T19:16:00.762353Z",
     "shell.execute_reply": "2023-07-04T19:16:00.761370Z"
    },
    "papermill": {
     "duration": 0.093939,
     "end_time": "2023-07-04T19:16:00.764511",
     "exception": false,
     "start_time": "2023-07-04T19:16:00.670572",
     "status": "completed"
    },
    "tags": []
   },
   "outputs": [
    {
     "name": "stdout",
     "output_type": "stream",
     "text": [
      "0.1189\n"
     ]
    }
   ],
   "source": [
    "control = df[df['group'] == 'control'].mean(numeric_only=True).round(4)\n",
    "control_perc=control['converted']\n",
    "\n",
    "treatment = df[df['group']=='treatment'].mean(numeric_only=True).round(4)\n",
    "treatment_perc = treatment['converted']\n",
    "print(treatment_perc)"
   ]
  }
 ],
 "metadata": {
  "kernelspec": {
   "display_name": "Python 3",
   "language": "python",
   "name": "python3"
  },
  "language_info": {
   "codemirror_mode": {
    "name": "ipython",
    "version": 3
   },
   "file_extension": ".py",
   "mimetype": "text/x-python",
   "name": "python",
   "nbconvert_exporter": "python",
   "pygments_lexer": "ipython3",
   "version": "3.10.10"
  },
  "papermill": {
   "default_parameters": {},
   "duration": 11.17153,
   "end_time": "2023-07-04T19:16:01.586993",
   "environment_variables": {},
   "exception": null,
   "input_path": "__notebook__.ipynb",
   "output_path": "__notebook__.ipynb",
   "parameters": {},
   "start_time": "2023-07-04T19:15:50.415463",
   "version": "2.4.0"
  }
 },
 "nbformat": 4,
 "nbformat_minor": 5
}
