{
 "cells": [
  {
   "cell_type": "markdown",
   "id": "d4e2a98c",
   "metadata": {
    "papermill": {
     "duration": 0.033678,
     "end_time": "2022-10-04T18:30:42.609428",
     "exception": false,
     "start_time": "2022-10-04T18:30:42.575750",
     "status": "completed"
    },
    "tags": []
   },
   "source": [
    "# Random Forest Grid Search\n",
    "\n",
    "Machine Learning Titanic. \n",
    "* Decision tree scores top 6%\n",
    "* Random forest top 5%\n",
    "* xgBoost top 5%\n",
    "\n",
    "1. https://github.com/ScottySchmidt/Kaggle/blob/main/Titanic.ipynb\n",
    "2. https://github.com/ScottySchmidt/Kaggle/blob/main/xgbTop5%25.ipynb\n",
    "\n",
    "My goal is to try to use GridSearch and tunning more extensively on random forest to try to get a top 1%."
   ]
  },
  {
   "cell_type": "markdown",
   "id": "0c61b4fc",
   "metadata": {
    "papermill": {
     "duration": 0.030301,
     "end_time": "2022-10-04T18:30:42.670519",
     "exception": false,
     "start_time": "2022-10-04T18:30:42.640218",
     "status": "completed"
    },
    "tags": []
   },
   "source": [
    "# Train Data\n",
    "Train.csv will contain the details of a subset of the passengers on board (891 to be exact) and whether they survive or not. The shape of the train data is (891, 12). "
   ]
  },
  {
   "cell_type": "code",
   "execution_count": 1,
   "id": "6d75a5a5",
   "metadata": {
    "execution": {
     "iopub.execute_input": "2022-10-04T18:30:42.737811Z",
     "iopub.status.busy": "2022-10-04T18:30:42.737329Z",
     "iopub.status.idle": "2022-10-04T18:30:44.431144Z",
     "shell.execute_reply": "2022-10-04T18:30:44.429711Z"
    },
    "papermill": {
     "duration": 1.732565,
     "end_time": "2022-10-04T18:30:44.433917",
     "exception": false,
     "start_time": "2022-10-04T18:30:42.701352",
     "status": "completed"
    },
    "tags": []
   },
   "outputs": [
    {
     "name": "stdout",
     "output_type": "stream",
     "text": [
      "(891, 12)\n"
     ]
    },
    {
     "data": {
      "text/html": [
       "<div>\n",
       "<style scoped>\n",
       "    .dataframe tbody tr th:only-of-type {\n",
       "        vertical-align: middle;\n",
       "    }\n",
       "\n",
       "    .dataframe tbody tr th {\n",
       "        vertical-align: top;\n",
       "    }\n",
       "\n",
       "    .dataframe thead th {\n",
       "        text-align: right;\n",
       "    }\n",
       "</style>\n",
       "<table border=\"1\" class=\"dataframe\">\n",
       "  <thead>\n",
       "    <tr style=\"text-align: right;\">\n",
       "      <th></th>\n",
       "      <th>PassengerId</th>\n",
       "      <th>Survived</th>\n",
       "      <th>Pclass</th>\n",
       "      <th>Name</th>\n",
       "      <th>Sex</th>\n",
       "      <th>Age</th>\n",
       "      <th>SibSp</th>\n",
       "      <th>Parch</th>\n",
       "      <th>Ticket</th>\n",
       "      <th>Fare</th>\n",
       "      <th>Cabin</th>\n",
       "      <th>Embarked</th>\n",
       "    </tr>\n",
       "  </thead>\n",
       "  <tbody>\n",
       "    <tr>\n",
       "      <th>0</th>\n",
       "      <td>1</td>\n",
       "      <td>0</td>\n",
       "      <td>3</td>\n",
       "      <td>Braund, Mr. Owen Harris</td>\n",
       "      <td>male</td>\n",
       "      <td>22.0</td>\n",
       "      <td>1</td>\n",
       "      <td>0</td>\n",
       "      <td>A/5 21171</td>\n",
       "      <td>7.2500</td>\n",
       "      <td>NaN</td>\n",
       "      <td>S</td>\n",
       "    </tr>\n",
       "    <tr>\n",
       "      <th>1</th>\n",
       "      <td>2</td>\n",
       "      <td>1</td>\n",
       "      <td>1</td>\n",
       "      <td>Cumings, Mrs. John Bradley (Florence Briggs Th...</td>\n",
       "      <td>female</td>\n",
       "      <td>38.0</td>\n",
       "      <td>1</td>\n",
       "      <td>0</td>\n",
       "      <td>PC 17599</td>\n",
       "      <td>71.2833</td>\n",
       "      <td>C85</td>\n",
       "      <td>C</td>\n",
       "    </tr>\n",
       "    <tr>\n",
       "      <th>2</th>\n",
       "      <td>3</td>\n",
       "      <td>1</td>\n",
       "      <td>3</td>\n",
       "      <td>Heikkinen, Miss. Laina</td>\n",
       "      <td>female</td>\n",
       "      <td>26.0</td>\n",
       "      <td>0</td>\n",
       "      <td>0</td>\n",
       "      <td>STON/O2. 3101282</td>\n",
       "      <td>7.9250</td>\n",
       "      <td>NaN</td>\n",
       "      <td>S</td>\n",
       "    </tr>\n",
       "    <tr>\n",
       "      <th>3</th>\n",
       "      <td>4</td>\n",
       "      <td>1</td>\n",
       "      <td>1</td>\n",
       "      <td>Futrelle, Mrs. Jacques Heath (Lily May Peel)</td>\n",
       "      <td>female</td>\n",
       "      <td>35.0</td>\n",
       "      <td>1</td>\n",
       "      <td>0</td>\n",
       "      <td>113803</td>\n",
       "      <td>53.1000</td>\n",
       "      <td>C123</td>\n",
       "      <td>S</td>\n",
       "    </tr>\n",
       "    <tr>\n",
       "      <th>4</th>\n",
       "      <td>5</td>\n",
       "      <td>0</td>\n",
       "      <td>3</td>\n",
       "      <td>Allen, Mr. William Henry</td>\n",
       "      <td>male</td>\n",
       "      <td>35.0</td>\n",
       "      <td>0</td>\n",
       "      <td>0</td>\n",
       "      <td>373450</td>\n",
       "      <td>8.0500</td>\n",
       "      <td>NaN</td>\n",
       "      <td>S</td>\n",
       "    </tr>\n",
       "  </tbody>\n",
       "</table>\n",
       "</div>"
      ],
      "text/plain": [
       "   PassengerId  Survived  Pclass  \\\n",
       "0            1         0       3   \n",
       "1            2         1       1   \n",
       "2            3         1       3   \n",
       "3            4         1       1   \n",
       "4            5         0       3   \n",
       "\n",
       "                                                Name     Sex   Age  SibSp  \\\n",
       "0                            Braund, Mr. Owen Harris    male  22.0      1   \n",
       "1  Cumings, Mrs. John Bradley (Florence Briggs Th...  female  38.0      1   \n",
       "2                             Heikkinen, Miss. Laina  female  26.0      0   \n",
       "3       Futrelle, Mrs. Jacques Heath (Lily May Peel)  female  35.0      1   \n",
       "4                           Allen, Mr. William Henry    male  35.0      0   \n",
       "\n",
       "   Parch            Ticket     Fare Cabin Embarked  \n",
       "0      0         A/5 21171   7.2500   NaN        S  \n",
       "1      0          PC 17599  71.2833   C85        C  \n",
       "2      0  STON/O2. 3101282   7.9250   NaN        S  \n",
       "3      0            113803  53.1000  C123        S  \n",
       "4      0            373450   8.0500   NaN        S  "
      ]
     },
     "execution_count": 1,
     "metadata": {},
     "output_type": "execute_result"
    }
   ],
   "source": [
    "import numpy as np\n",
    "import pandas as pd\n",
    "import seaborn as sns\n",
    "import matplotlib.pyplot as plt\n",
    "from sklearn.model_selection import train_test_split, cross_validate\n",
    "from statistics import mean\n",
    "from sklearn.metrics import accuracy_score, classification_report, mean_absolute_error, mean_squared_error, r2_score\n",
    "from sklearn.datasets import make_classification\n",
    "from sklearn import ensemble\n",
    "import sklearn.metrics as metrics\n",
    "import time\n",
    "from math import sqrt\n",
    "\n",
    "train=r'/kaggle/input/titanic/train.csv'\n",
    "test=r'/kaggle/input/titanic/test.csv' \n",
    "\n",
    "df=pd.read_csv(train)\n",
    "test=pd.read_csv(test)\n",
    "\n",
    "print(df.shape)\n",
    "df.head()"
   ]
  },
  {
   "cell_type": "code",
   "execution_count": 2,
   "id": "51aeb20a",
   "metadata": {
    "execution": {
     "iopub.execute_input": "2022-10-04T18:30:44.501686Z",
     "iopub.status.busy": "2022-10-04T18:30:44.501384Z",
     "iopub.status.idle": "2022-10-04T18:30:44.509549Z",
     "shell.execute_reply": "2022-10-04T18:30:44.508471Z"
    },
    "papermill": {
     "duration": 0.044695,
     "end_time": "2022-10-04T18:30:44.511800",
     "exception": false,
     "start_time": "2022-10-04T18:30:44.467105",
     "status": "completed"
    },
    "tags": []
   },
   "outputs": [
    {
     "data": {
      "text/plain": [
       "PassengerId      int64\n",
       "Survived         int64\n",
       "Pclass           int64\n",
       "Name            object\n",
       "Sex             object\n",
       "Age            float64\n",
       "SibSp            int64\n",
       "Parch            int64\n",
       "Ticket          object\n",
       "Fare           float64\n",
       "Cabin           object\n",
       "Embarked        object\n",
       "dtype: object"
      ]
     },
     "execution_count": 2,
     "metadata": {},
     "output_type": "execute_result"
    }
   ],
   "source": [
    "df.dtypes"
   ]
  },
  {
   "cell_type": "code",
   "execution_count": 3,
   "id": "6668b07b",
   "metadata": {
    "execution": {
     "iopub.execute_input": "2022-10-04T18:30:44.582932Z",
     "iopub.status.busy": "2022-10-04T18:30:44.582602Z",
     "iopub.status.idle": "2022-10-04T18:30:44.608021Z",
     "shell.execute_reply": "2022-10-04T18:30:44.606874Z"
    },
    "papermill": {
     "duration": 0.064822,
     "end_time": "2022-10-04T18:30:44.610113",
     "exception": false,
     "start_time": "2022-10-04T18:30:44.545291",
     "status": "completed"
    },
    "tags": []
   },
   "outputs": [
    {
     "name": "stdout",
     "output_type": "stream",
     "text": [
      "Total no of duplicate values in Training Dataset = 0\n"
     ]
    },
    {
     "data": {
      "text/html": [
       "<div>\n",
       "<style scoped>\n",
       "    .dataframe tbody tr th:only-of-type {\n",
       "        vertical-align: middle;\n",
       "    }\n",
       "\n",
       "    .dataframe tbody tr th {\n",
       "        vertical-align: top;\n",
       "    }\n",
       "\n",
       "    .dataframe thead th {\n",
       "        text-align: right;\n",
       "    }\n",
       "</style>\n",
       "<table border=\"1\" class=\"dataframe\">\n",
       "  <thead>\n",
       "    <tr style=\"text-align: right;\">\n",
       "      <th></th>\n",
       "      <th>PassengerId</th>\n",
       "      <th>Survived</th>\n",
       "      <th>Pclass</th>\n",
       "      <th>Name</th>\n",
       "      <th>Sex</th>\n",
       "      <th>Age</th>\n",
       "      <th>SibSp</th>\n",
       "      <th>Parch</th>\n",
       "      <th>Ticket</th>\n",
       "      <th>Fare</th>\n",
       "      <th>Cabin</th>\n",
       "      <th>Embarked</th>\n",
       "    </tr>\n",
       "  </thead>\n",
       "  <tbody>\n",
       "  </tbody>\n",
       "</table>\n",
       "</div>"
      ],
      "text/plain": [
       "Empty DataFrame\n",
       "Columns: [PassengerId, Survived, Pclass, Name, Sex, Age, SibSp, Parch, Ticket, Fare, Cabin, Embarked]\n",
       "Index: []"
      ]
     },
     "execution_count": 3,
     "metadata": {},
     "output_type": "execute_result"
    }
   ],
   "source": [
    "#Check Duplicates:\n",
    "dupstr = df.duplicated()\n",
    "print('Total no of duplicate values in Training Dataset = %d' % (dupstr.sum()))\n",
    "df[dupstr]"
   ]
  },
  {
   "cell_type": "code",
   "execution_count": 4,
   "id": "68380332",
   "metadata": {
    "execution": {
     "iopub.execute_input": "2022-10-04T18:30:44.680920Z",
     "iopub.status.busy": "2022-10-04T18:30:44.680430Z",
     "iopub.status.idle": "2022-10-04T18:30:44.689070Z",
     "shell.execute_reply": "2022-10-04T18:30:44.688286Z"
    },
    "papermill": {
     "duration": 0.046832,
     "end_time": "2022-10-04T18:30:44.691627",
     "exception": false,
     "start_time": "2022-10-04T18:30:44.644795",
     "status": "completed"
    },
    "tags": []
   },
   "outputs": [
    {
     "name": "stdout",
     "output_type": "stream",
     "text": [
      "Missing data by column as a percent:\n",
      "Cabin          0.771044\n",
      "Age            0.198653\n",
      "Embarked       0.002245\n",
      "PassengerId    0.000000\n",
      "Survived       0.000000\n",
      "dtype: float64\n"
     ]
    }
   ],
   "source": [
    "#search for columns with missing values:\n",
    "def findNA():\n",
    "    print(\"Missing data by column as a percent:\")\n",
    "    findNA=df.isnull().sum().sort_values(ascending=False)/len(df)\n",
    "    print(findNA.head())\n",
    "findNA() "
   ]
  },
  {
   "cell_type": "markdown",
   "id": "63551353",
   "metadata": {
    "papermill": {
     "duration": 0.033136,
     "end_time": "2022-10-04T18:30:44.760813",
     "exception": false,
     "start_time": "2022-10-04T18:30:44.727677",
     "status": "completed"
    },
    "tags": []
   },
   "source": [
    "# Feature Engineer\n",
    "We need to replace male and female into numbers. This is a very important part of the process because gender is one of the highest predictors on if a person survived or not."
   ]
  },
  {
   "cell_type": "code",
   "execution_count": 5,
   "id": "de111f78",
   "metadata": {
    "execution": {
     "iopub.execute_input": "2022-10-04T18:30:44.829218Z",
     "iopub.status.busy": "2022-10-04T18:30:44.828905Z",
     "iopub.status.idle": "2022-10-04T18:30:44.835312Z",
     "shell.execute_reply": "2022-10-04T18:30:44.834421Z"
    },
    "papermill": {
     "duration": 0.043189,
     "end_time": "2022-10-04T18:30:44.837455",
     "exception": false,
     "start_time": "2022-10-04T18:30:44.794266",
     "status": "completed"
    },
    "tags": []
   },
   "outputs": [],
   "source": [
    "#GENDER\n",
    "df['Sex']=df['Sex'].map({'female':0,'male':1})"
   ]
  },
  {
   "cell_type": "markdown",
   "id": "6f3bfac2",
   "metadata": {
    "papermill": {
     "duration": 0.033799,
     "end_time": "2022-10-04T18:30:44.905267",
     "exception": false,
     "start_time": "2022-10-04T18:30:44.871468",
     "status": "completed"
    },
    "tags": []
   },
   "source": [
    "Females whose number is 0 had a much higher chance of surving than males. Later on, doing the importance feature analysis we will view that gender is actually one of the highest predictors. "
   ]
  },
  {
   "cell_type": "code",
   "execution_count": 6,
   "id": "554c4286",
   "metadata": {
    "execution": {
     "iopub.execute_input": "2022-10-04T18:30:44.975010Z",
     "iopub.status.busy": "2022-10-04T18:30:44.974721Z",
     "iopub.status.idle": "2022-10-04T18:30:45.005473Z",
     "shell.execute_reply": "2022-10-04T18:30:45.004773Z"
    },
    "papermill": {
     "duration": 0.067903,
     "end_time": "2022-10-04T18:30:45.007450",
     "exception": false,
     "start_time": "2022-10-04T18:30:44.939547",
     "status": "completed"
    },
    "tags": []
   },
   "outputs": [
    {
     "data": {
      "text/html": [
       "<div>\n",
       "<style scoped>\n",
       "    .dataframe tbody tr th:only-of-type {\n",
       "        vertical-align: middle;\n",
       "    }\n",
       "\n",
       "    .dataframe tbody tr th {\n",
       "        vertical-align: top;\n",
       "    }\n",
       "\n",
       "    .dataframe thead th {\n",
       "        text-align: right;\n",
       "    }\n",
       "</style>\n",
       "<table border=\"1\" class=\"dataframe\">\n",
       "  <thead>\n",
       "    <tr style=\"text-align: right;\">\n",
       "      <th>Sex</th>\n",
       "      <th>0</th>\n",
       "      <th>1</th>\n",
       "    </tr>\n",
       "    <tr>\n",
       "      <th>Survived</th>\n",
       "      <th></th>\n",
       "      <th></th>\n",
       "    </tr>\n",
       "  </thead>\n",
       "  <tbody>\n",
       "    <tr>\n",
       "      <th>0</th>\n",
       "      <td>81</td>\n",
       "      <td>468</td>\n",
       "    </tr>\n",
       "    <tr>\n",
       "      <th>1</th>\n",
       "      <td>233</td>\n",
       "      <td>109</td>\n",
       "    </tr>\n",
       "  </tbody>\n",
       "</table>\n",
       "</div>"
      ],
      "text/plain": [
       "Sex         0    1\n",
       "Survived          \n",
       "0          81  468\n",
       "1         233  109"
      ]
     },
     "execution_count": 6,
     "metadata": {},
     "output_type": "execute_result"
    }
   ],
   "source": [
    "genderTable = pd.crosstab(df['Survived'],df['Sex'])\n",
    "genderTable"
   ]
  },
  {
   "cell_type": "markdown",
   "id": "8f5e535a",
   "metadata": {
    "papermill": {
     "duration": 0.033597,
     "end_time": "2022-10-04T18:30:45.075692",
     "exception": false,
     "start_time": "2022-10-04T18:30:45.042095",
     "status": "completed"
    },
    "tags": []
   },
   "source": [
    "# Encode Categorical Variables\n",
    "Encode Categorical Variables is needed for this dataset since there are many important variables that are not numeric yet. \n",
    "\n",
    "There are three classes C, Q, and S. Class C seems to have the highest chance of survival. Class S has the lowest chance of survival. Unfornately this would tend to show that economic status seems to played a part in the decision if someone survived or not. Embarked does not play role major role in feature importance. "
   ]
  },
  {
   "cell_type": "code",
   "execution_count": 7,
   "id": "9a9d4821",
   "metadata": {
    "execution": {
     "iopub.execute_input": "2022-10-04T18:30:45.145316Z",
     "iopub.status.busy": "2022-10-04T18:30:45.144756Z",
     "iopub.status.idle": "2022-10-04T18:30:45.349445Z",
     "shell.execute_reply": "2022-10-04T18:30:45.348631Z"
    },
    "papermill": {
     "duration": 0.2424,
     "end_time": "2022-10-04T18:30:45.351923",
     "exception": false,
     "start_time": "2022-10-04T18:30:45.109523",
     "status": "completed"
    },
    "tags": []
   },
   "outputs": [],
   "source": [
    "import category_encoders as ce\n",
    "#encoder = ce.OrdinalEncoder(cols=['Embarked'])\n",
    "\n",
    "#df = encoder.fit_transform(df)\n",
    "#test = encoder.fit_transform(test)\n",
    "#test.head()"
   ]
  },
  {
   "cell_type": "markdown",
   "id": "b507d109",
   "metadata": {
    "papermill": {
     "duration": 0.033475,
     "end_time": "2022-10-04T18:30:45.419350",
     "exception": false,
     "start_time": "2022-10-04T18:30:45.385875",
     "status": "completed"
    },
    "tags": []
   },
   "source": [
    "# Examine Target Variable\n",
    "Survived is the Y variable we will be analyzing. Since the survival rete is 0.384 the data is not considered unbalanced. "
   ]
  },
  {
   "cell_type": "code",
   "execution_count": 8,
   "id": "c058d22c",
   "metadata": {
    "execution": {
     "iopub.execute_input": "2022-10-04T18:30:45.488785Z",
     "iopub.status.busy": "2022-10-04T18:30:45.488465Z",
     "iopub.status.idle": "2022-10-04T18:30:45.496371Z",
     "shell.execute_reply": "2022-10-04T18:30:45.495479Z"
    },
    "papermill": {
     "duration": 0.045379,
     "end_time": "2022-10-04T18:30:45.498621",
     "exception": false,
     "start_time": "2022-10-04T18:30:45.453242",
     "status": "completed"
    },
    "tags": []
   },
   "outputs": [
    {
     "name": "stdout",
     "output_type": "stream",
     "text": [
      "0    549\n",
      "1    342\n",
      "Name: Survived, dtype: int64\n",
      "Percent that survived:  0.384\n"
     ]
    }
   ],
   "source": [
    "temp=df['Survived'].value_counts()\n",
    "print(temp)\n",
    "no=temp[0]\n",
    "yes=temp[1]\n",
    "percent=round(yes/(yes+no),3)\n",
    "print(\"Percent that survived: \", percent)"
   ]
  },
  {
   "cell_type": "markdown",
   "id": "1d97410b",
   "metadata": {
    "papermill": {
     "duration": 0.034026,
     "end_time": "2022-10-04T18:30:45.566636",
     "exception": false,
     "start_time": "2022-10-04T18:30:45.532610",
     "status": "completed"
    },
    "tags": []
   },
   "source": [
    "# Numeric DataFrame\n",
    "For now, we will analyze only numeric values. Categorical values will need to be encoded or analyzed individually."
   ]
  },
  {
   "cell_type": "code",
   "execution_count": 9,
   "id": "899b8ca2",
   "metadata": {
    "execution": {
     "iopub.execute_input": "2022-10-04T18:30:45.636960Z",
     "iopub.status.busy": "2022-10-04T18:30:45.636163Z",
     "iopub.status.idle": "2022-10-04T18:30:45.652148Z",
     "shell.execute_reply": "2022-10-04T18:30:45.651274Z"
    },
    "papermill": {
     "duration": 0.053376,
     "end_time": "2022-10-04T18:30:45.654245",
     "exception": false,
     "start_time": "2022-10-04T18:30:45.600869",
     "status": "completed"
    },
    "tags": []
   },
   "outputs": [
    {
     "data": {
      "text/html": [
       "<div>\n",
       "<style scoped>\n",
       "    .dataframe tbody tr th:only-of-type {\n",
       "        vertical-align: middle;\n",
       "    }\n",
       "\n",
       "    .dataframe tbody tr th {\n",
       "        vertical-align: top;\n",
       "    }\n",
       "\n",
       "    .dataframe thead th {\n",
       "        text-align: right;\n",
       "    }\n",
       "</style>\n",
       "<table border=\"1\" class=\"dataframe\">\n",
       "  <thead>\n",
       "    <tr style=\"text-align: right;\">\n",
       "      <th></th>\n",
       "      <th>PassengerId</th>\n",
       "      <th>Survived</th>\n",
       "      <th>Pclass</th>\n",
       "      <th>Sex</th>\n",
       "      <th>Age</th>\n",
       "      <th>SibSp</th>\n",
       "      <th>Parch</th>\n",
       "      <th>Fare</th>\n",
       "    </tr>\n",
       "  </thead>\n",
       "  <tbody>\n",
       "    <tr>\n",
       "      <th>0</th>\n",
       "      <td>1</td>\n",
       "      <td>0</td>\n",
       "      <td>3</td>\n",
       "      <td>1</td>\n",
       "      <td>22.0</td>\n",
       "      <td>1</td>\n",
       "      <td>0</td>\n",
       "      <td>7.2500</td>\n",
       "    </tr>\n",
       "    <tr>\n",
       "      <th>1</th>\n",
       "      <td>2</td>\n",
       "      <td>1</td>\n",
       "      <td>1</td>\n",
       "      <td>0</td>\n",
       "      <td>38.0</td>\n",
       "      <td>1</td>\n",
       "      <td>0</td>\n",
       "      <td>71.2833</td>\n",
       "    </tr>\n",
       "    <tr>\n",
       "      <th>2</th>\n",
       "      <td>3</td>\n",
       "      <td>1</td>\n",
       "      <td>3</td>\n",
       "      <td>0</td>\n",
       "      <td>26.0</td>\n",
       "      <td>0</td>\n",
       "      <td>0</td>\n",
       "      <td>7.9250</td>\n",
       "    </tr>\n",
       "    <tr>\n",
       "      <th>3</th>\n",
       "      <td>4</td>\n",
       "      <td>1</td>\n",
       "      <td>1</td>\n",
       "      <td>0</td>\n",
       "      <td>35.0</td>\n",
       "      <td>1</td>\n",
       "      <td>0</td>\n",
       "      <td>53.1000</td>\n",
       "    </tr>\n",
       "    <tr>\n",
       "      <th>4</th>\n",
       "      <td>5</td>\n",
       "      <td>0</td>\n",
       "      <td>3</td>\n",
       "      <td>1</td>\n",
       "      <td>35.0</td>\n",
       "      <td>0</td>\n",
       "      <td>0</td>\n",
       "      <td>8.0500</td>\n",
       "    </tr>\n",
       "  </tbody>\n",
       "</table>\n",
       "</div>"
      ],
      "text/plain": [
       "   PassengerId  Survived  Pclass  Sex   Age  SibSp  Parch     Fare\n",
       "0            1         0       3    1  22.0      1      0   7.2500\n",
       "1            2         1       1    0  38.0      1      0  71.2833\n",
       "2            3         1       3    0  26.0      0      0   7.9250\n",
       "3            4         1       1    0  35.0      1      0  53.1000\n",
       "4            5         0       3    1  35.0      0      0   8.0500"
      ]
     },
     "execution_count": 9,
     "metadata": {},
     "output_type": "execute_result"
    }
   ],
   "source": [
    "numerics = ['int16', 'int32', 'int64', 'float16', 'float32', 'float64']\n",
    "df = df.select_dtypes(include=numerics)\n",
    "df.head()"
   ]
  },
  {
   "cell_type": "markdown",
   "id": "fb57d505",
   "metadata": {
    "papermill": {
     "duration": 0.034275,
     "end_time": "2022-10-04T18:30:45.723388",
     "exception": false,
     "start_time": "2022-10-04T18:30:45.689113",
     "status": "completed"
    },
    "tags": []
   },
   "source": [
    "# Check for missing values\n",
    "Age is missing around 20% of values.Therefore, we can simply fill in the mean for that one column."
   ]
  },
  {
   "cell_type": "code",
   "execution_count": 10,
   "id": "56824e6c",
   "metadata": {
    "execution": {
     "iopub.execute_input": "2022-10-04T18:30:45.794397Z",
     "iopub.status.busy": "2022-10-04T18:30:45.793616Z",
     "iopub.status.idle": "2022-10-04T18:30:45.802108Z",
     "shell.execute_reply": "2022-10-04T18:30:45.801086Z"
    },
    "papermill": {
     "duration": 0.047318,
     "end_time": "2022-10-04T18:30:45.805052",
     "exception": false,
     "start_time": "2022-10-04T18:30:45.757734",
     "status": "completed"
    },
    "tags": []
   },
   "outputs": [
    {
     "name": "stdout",
     "output_type": "stream",
     "text": [
      "Missing data by column as a percent:\n",
      "Age            0.198653\n",
      "PassengerId    0.000000\n",
      "Survived       0.000000\n",
      "Pclass         0.000000\n",
      "Sex            0.000000\n",
      "dtype: float64\n"
     ]
    }
   ],
   "source": [
    "#search for columns with missing values:\n",
    "def findNA():\n",
    "    print(\"Missing data by column as a percent:\")\n",
    "    findNA=df.isnull().sum().sort_values(ascending=False)/len(df)\n",
    "    print(findNA.head())\n",
    "findNA() "
   ]
  },
  {
   "cell_type": "code",
   "execution_count": 11,
   "id": "a58bb908",
   "metadata": {
    "execution": {
     "iopub.execute_input": "2022-10-04T18:30:45.876545Z",
     "iopub.status.busy": "2022-10-04T18:30:45.876230Z",
     "iopub.status.idle": "2022-10-04T18:30:45.884088Z",
     "shell.execute_reply": "2022-10-04T18:30:45.883246Z"
    },
    "papermill": {
     "duration": 0.046206,
     "end_time": "2022-10-04T18:30:45.886372",
     "exception": false,
     "start_time": "2022-10-04T18:30:45.840166",
     "status": "completed"
    },
    "tags": []
   },
   "outputs": [],
   "source": [
    "df= df.fillna(df.mean())"
   ]
  },
  {
   "cell_type": "markdown",
   "id": "926742c6",
   "metadata": {
    "papermill": {
     "duration": 0.034706,
     "end_time": "2022-10-04T18:30:45.956594",
     "exception": false,
     "start_time": "2022-10-04T18:30:45.921888",
     "status": "completed"
    },
    "tags": []
   },
   "source": [
    "# Split Data"
   ]
  },
  {
   "cell_type": "code",
   "execution_count": 12,
   "id": "3137ff1b",
   "metadata": {
    "execution": {
     "iopub.execute_input": "2022-10-04T18:30:46.029467Z",
     "iopub.status.busy": "2022-10-04T18:30:46.029140Z",
     "iopub.status.idle": "2022-10-04T18:30:46.036702Z",
     "shell.execute_reply": "2022-10-04T18:30:46.035966Z"
    },
    "papermill": {
     "duration": 0.046237,
     "end_time": "2022-10-04T18:30:46.038624",
     "exception": false,
     "start_time": "2022-10-04T18:30:45.992387",
     "status": "completed"
    },
    "tags": []
   },
   "outputs": [],
   "source": [
    "X=df.drop('Survived', axis=1)\n",
    "y=df['Survived']\n",
    "\n",
    "X_train, X_test, y_train, y_test = train_test_split(\n",
    "    X, y, test_size = 0.33, random_state = 42)"
   ]
  },
  {
   "cell_type": "markdown",
   "id": "db2796be",
   "metadata": {
    "papermill": {
     "duration": 0.034812,
     "end_time": "2022-10-04T18:30:46.109404",
     "exception": false,
     "start_time": "2022-10-04T18:30:46.074592",
     "status": "completed"
    },
    "tags": []
   },
   "source": [
    "# Highly Correlated Features\n",
    "There are no highly correlated variables above 80%. Therefore, we do not need to be concerned about removing variables that are too highly correlated. "
   ]
  },
  {
   "cell_type": "markdown",
   "id": "f358d30e",
   "metadata": {
    "_kg_hide-output": true,
    "papermill": {
     "duration": 0.03466,
     "end_time": "2022-10-04T18:30:46.179478",
     "exception": false,
     "start_time": "2022-10-04T18:30:46.144818",
     "status": "completed"
    },
    "tags": []
   },
   "source": [
    "# Tunning Forest\n",
    "Random forest AUC:  0.8503 which is good results considering forest does not overfit data."
   ]
  },
  {
   "cell_type": "code",
   "execution_count": 13,
   "id": "04ffc0bf",
   "metadata": {
    "execution": {
     "iopub.execute_input": "2022-10-04T18:30:46.251028Z",
     "iopub.status.busy": "2022-10-04T18:30:46.250715Z",
     "iopub.status.idle": "2022-10-04T18:30:47.194627Z",
     "shell.execute_reply": "2022-10-04T18:30:47.193915Z"
    },
    "papermill": {
     "duration": 0.983021,
     "end_time": "2022-10-04T18:30:47.197443",
     "exception": false,
     "start_time": "2022-10-04T18:30:46.214422",
     "status": "completed"
    },
    "tags": []
   },
   "outputs": [
    {
     "data": {
      "image/png": "[encoded data removed]",
      "text/plain": [
       "<Figure size 432x288 with 1 Axes>"
      ]
     },
     "metadata": {
      "needs_background": "light"
     },
     "output_type": "display_data"
    },
    {
     "data": {
      "image/png": "[encoded data removed]",
      "text/plain": [
       "<Figure size 432x288 with 1 Axes>"
      ]
     },
     "metadata": {
      "needs_background": "light"
     },
     "output_type": "display_data"
    }
   ],
   "source": [
    "from sklearn.ensemble import RandomForestRegressor, RandomForestClassifier\n",
    "\n",
    "#Check for Error and find Best n_estimators:\n",
    "def forestNumEst():\n",
    "    numbers= [2, 20, 40, 50, 60, 100]\n",
    "    maeList=[] #error\n",
    "    accList=[]\n",
    "    \n",
    "    for n in numbers:\n",
    "        forest = RandomForestClassifier(n_estimators=n)\n",
    "        forest.fit(X_train, y_train)\n",
    "        y_pred = forest.predict(X_test)\n",
    "        mae=metrics.mean_absolute_error(y_test, y_pred).round(2)\n",
    "        forest_auc = round( metrics.roc_auc_score(y_test, y_pred), 4 ) \n",
    "        #print(\"Random forest AUC: \", forest_auc) \n",
    "      \n",
    "        accList.append(forest_auc)\n",
    "        maeList.append(mae)\n",
    "        \n",
    "    plt.plot(numbers,accList)\n",
    "    plt.title(\"Forest Estimators\" )\n",
    "    plt.xlabel(\"Estimators\")\n",
    "    plt.ylabel('Accuracy')\n",
    "    plt.legend()\n",
    "    plt.show() \n",
    "    \n",
    "    plt.plot(numbers, maeList)\n",
    "    plt.title(\"Forest Estimators\" )\n",
    "    plt.xlabel(\"Estimators\")\n",
    "    plt.ylabel('error')\n",
    "    plt.legend()\n",
    "    plt.show() \n",
    "\n",
    "forestNumEst() "
   ]
  },
  {
   "cell_type": "code",
   "execution_count": 14,
   "id": "3028484d",
   "metadata": {
    "execution": {
     "iopub.execute_input": "2022-10-04T18:30:47.280756Z",
     "iopub.status.busy": "2022-10-04T18:30:47.280137Z",
     "iopub.status.idle": "2022-10-04T18:30:48.918644Z",
     "shell.execute_reply": "2022-10-04T18:30:48.917726Z"
    },
    "papermill": {
     "duration": 1.680921,
     "end_time": "2022-10-04T18:30:48.920899",
     "exception": false,
     "start_time": "2022-10-04T18:30:47.239978",
     "status": "completed"
    },
    "tags": []
   },
   "outputs": [
    {
     "data": {
      "image/png": "[encoded data removed]",
      "text/plain": [
       "<Figure size 432x288 with 1 Axes>"
      ]
     },
     "metadata": {
      "needs_background": "light"
     },
     "output_type": "display_data"
    },
    {
     "data": {
      "image/png": "[encoded data removed]",
      "text/plain": [
       "<Figure size 432x288 with 1 Axes>"
      ]
     },
     "metadata": {
      "needs_background": "light"
     },
     "output_type": "display_data"
    }
   ],
   "source": [
    "def forestDepth():\n",
    "    numbers=[None, 2, 3, 4, 5, 7, 10]\n",
    "    accList=[] #accuracy train data\n",
    "    maeList=[] #error\n",
    "    \n",
    "    for n in numbers:\n",
    "        forest = RandomForestClassifier(max_depth=n)\n",
    "        forest.fit(X_train, y_train)\n",
    "        y_pred = forest.predict(X_test)\n",
    "        mae=metrics.mean_absolute_error(y_test, y_pred).round(2)\n",
    "        forest_auc = round( metrics.roc_auc_score(y_test, y_pred), 4 ) \n",
    "        #print(\"Random forest AUC: \", forest_auc) \n",
    "       \n",
    "        accList.append(forest_auc)\n",
    "        maeList.append(mae)\n",
    "        \n",
    "    plt.plot(numbers,accList)\n",
    "    plt.title(\"Forest Max_Depth\")\n",
    "    plt.xlabel('max_depth')\n",
    "    plt.ylabel('Accuracy')\n",
    "    plt.legend()\n",
    "    plt.show() \n",
    "    \n",
    "    plt.plot(numbers, maeList)\n",
    "    plt.title(\"Forest Max_Depth\")\n",
    "    plt.xlabel(\"max_depth\")\n",
    "    plt.ylabel('error')\n",
    "    plt.legend()\n",
    "    plt.show() \n",
    "\n",
    "forestDepth()"
   ]
  },
  {
   "cell_type": "code",
   "execution_count": 15,
   "id": "7270ad91",
   "metadata": {
    "execution": {
     "iopub.execute_input": "2022-10-04T18:30:49.000886Z",
     "iopub.status.busy": "2022-10-04T18:30:49.000282Z",
     "iopub.status.idle": "2022-10-04T18:30:50.697916Z",
     "shell.execute_reply": "2022-10-04T18:30:50.696998Z"
    },
    "papermill": {
     "duration": 1.73998,
     "end_time": "2022-10-04T18:30:50.700255",
     "exception": false,
     "start_time": "2022-10-04T18:30:48.960275",
     "status": "completed"
    },
    "tags": []
   },
   "outputs": [
    {
     "data": {
      "image/png": "[encoded data removed]",
      "text/plain": [
       "<Figure size 432x288 with 1 Axes>"
      ]
     },
     "metadata": {
      "needs_background": "light"
     },
     "output_type": "display_data"
    },
    {
     "data": {
      "image/png": "[encoded data removed]",
      "text/plain": [
       "<Figure size 432x288 with 1 Axes>"
      ]
     },
     "metadata": {
      "needs_background": "light"
     },
     "output_type": "display_data"
    }
   ],
   "source": [
    "def forestSplit():\n",
    "    numbers=[2, 3, 4, 5, 7, 10]\n",
    "    accList=[] #accuracy train data\n",
    "    maeList=[] #error\n",
    "    \n",
    "    for n in numbers:\n",
    "        forest = RandomForestClassifier(min_samples_split=n)\n",
    "        forest.fit(X_train, y_train)\n",
    "        y_pred = forest.predict(X_test)\n",
    "        mae=metrics.mean_absolute_error(y_test, y_pred).round(2)\n",
    "        forest_auc = round( metrics.roc_auc_score(y_test, y_pred), 4 ) \n",
    "        #print(\"Random forest AUC: \", forest_auc) \n",
    "       \n",
    "        accList.append(forest_auc)\n",
    "        maeList.append(mae)\n",
    "        \n",
    "    plt.plot(numbers,accList)\n",
    "    plt.title(\"Forest min_samples_split\")\n",
    "    plt.xlabel('min_samples_split')\n",
    "    plt.ylabel('Accuracy')\n",
    "    plt.legend()\n",
    "    plt.show() \n",
    "    \n",
    "    plt.plot(numbers, maeList)\n",
    "    plt.title(\"Forest Max_Depth\")\n",
    "    plt.xlabel(\"min_samples_split\")\n",
    "    plt.ylabel('error')\n",
    "    plt.legend()\n",
    "    plt.show() \n",
    "\n",
    "forestSplit()"
   ]
  },
  {
   "cell_type": "markdown",
   "id": "b1bedc7c",
   "metadata": {
    "papermill": {
     "duration": 0.041127,
     "end_time": "2022-10-04T18:30:50.787885",
     "exception": false,
     "start_time": "2022-10-04T18:30:50.746758",
     "status": "completed"
    },
    "tags": []
   },
   "source": [
    "# GridSearch CV"
   ]
  },
  {
   "cell_type": "code",
   "execution_count": 16,
   "id": "66d4a40f",
   "metadata": {
    "execution": {
     "iopub.execute_input": "2022-10-04T18:30:50.872462Z",
     "iopub.status.busy": "2022-10-04T18:30:50.872135Z",
     "iopub.status.idle": "2022-10-04T18:31:12.751819Z",
     "shell.execute_reply": "2022-10-04T18:31:12.750941Z"
    },
    "papermill": {
     "duration": 21.924265,
     "end_time": "2022-10-04T18:31:12.753850",
     "exception": false,
     "start_time": "2022-10-04T18:30:50.829585",
     "status": "completed"
    },
    "tags": []
   },
   "outputs": [
    {
     "data": {
      "text/plain": [
       "{'max_depth': 7, 'min_samples_split': 2, 'n_estimators': 100}"
      ]
     },
     "execution_count": 16,
     "metadata": {},
     "output_type": "execute_result"
    }
   ],
   "source": [
    "from sklearn.model_selection import cross_val_score\n",
    "from sklearn.model_selection import GridSearchCV\n",
    "\n",
    "params = {\n",
    "    'n_estimators':[20, 30, 40, 50, 60, 100],\n",
    "    'max_depth':[5, 6, 7, 8],\n",
    "    'min_samples_split':[2],\n",
    "    #'max_features':['auto', 'sqrt', 'log2'],\n",
    "    #'criterion':['gini', 'entropy'],\n",
    "}\n",
    "\n",
    "forestGrid=GridSearchCV(estimator=RandomForestClassifier(), param_grid=params, cv=10, scoring='accuracy')\n",
    "forestGrid.fit(X_train, y_train)\n",
    "forestGrid.best_params_"
   ]
  },
  {
   "cell_type": "markdown",
   "id": "5fb581d1",
   "metadata": {
    "papermill": {
     "duration": 0.040674,
     "end_time": "2022-10-04T18:31:12.835623",
     "exception": false,
     "start_time": "2022-10-04T18:31:12.794949",
     "status": "completed"
    },
    "tags": []
   },
   "source": [
    "#### Final Random Forest Prediction\n",
    "* Top 5% Using {'max_depth': 5, 'n_estimators': 60} 0.79425"
   ]
  },
  {
   "cell_type": "code",
   "execution_count": 17,
   "id": "615e3fb0",
   "metadata": {
    "execution": {
     "iopub.execute_input": "2022-10-04T18:31:12.921661Z",
     "iopub.status.busy": "2022-10-04T18:31:12.921316Z",
     "iopub.status.idle": "2022-10-04T18:31:13.293018Z",
     "shell.execute_reply": "2022-10-04T18:31:13.291911Z"
    },
    "papermill": {
     "duration": 0.418403,
     "end_time": "2022-10-04T18:31:13.295353",
     "exception": false,
     "start_time": "2022-10-04T18:31:12.876950",
     "status": "completed"
    },
    "tags": []
   },
   "outputs": [
    {
     "name": "stdout",
     "output_type": "stream",
     "text": [
      "Random forest AUC:  0.8087\n",
      "Random forest MAE:  0.17\n",
      "0.8305\n",
      "0.7925\n",
      "0.038000000000000034\n"
     ]
    }
   ],
   "source": [
    "forestFinal = RandomForestClassifier(\n",
    "   n_estimators=30, \n",
    "   max_depth=5,\n",
    "   min_samples_split=2,\n",
    "   #criterion='entropy',\n",
    "   # max_features='auto',\n",
    ")\n",
    "forestFinal.fit(X_train, y_train)\n",
    "y_pred = forestFinal.predict(X_test)\n",
    "\n",
    "#Print Metrics:\n",
    "forest_r2 = r2_score(y_test, y_pred).round(4)  \n",
    "forest_auc = round( metrics.roc_auc_score(y_test, y_pred), 4 ) \n",
    "print(\"Random forest AUC: \", forest_auc) \n",
    "\n",
    "mae=metrics.mean_absolute_error(y_test, y_pred).round(2)\n",
    "print(\"Random forest MAE: \", mae)\n",
    "\n",
    "forestScore =  forestFinal.score(X_test, y_test).round(4)  \n",
    "forestCV = cross_validate(forestFinal, X, y, cv = 5, scoring='accuracy')\n",
    "forestCV=forestCV['test_score'].mean().round(4)\n",
    "print(forestScore)\n",
    "print(forestCV)\n",
    "print(forestScore-forestCV)"
   ]
  },
  {
   "cell_type": "markdown",
   "id": "3550d2ea",
   "metadata": {
    "papermill": {
     "duration": 0.042459,
     "end_time": "2022-10-04T18:31:13.379799",
     "exception": false,
     "start_time": "2022-10-04T18:31:13.337340",
     "status": "completed"
    },
    "tags": []
   },
   "source": [
    "# Support Vector \n",
    "The initial results for SVM AUC with no parameter tunning is 0.5336.  The model does not seem worth investing lots of time into due to poor AUC performance. \n",
    "\n",
    "#### GridSearch Tune\n",
    "The best parameters from tunning SVM is SVC(C=1000, gamma=0.0001)."
   ]
  },
  {
   "cell_type": "code",
   "execution_count": 18,
   "id": "2e8a8076",
   "metadata": {
    "execution": {
     "iopub.execute_input": "2022-10-04T18:31:13.465790Z",
     "iopub.status.busy": "2022-10-04T18:31:13.465223Z",
     "iopub.status.idle": "2022-10-04T18:31:13.471853Z",
     "shell.execute_reply": "2022-10-04T18:31:13.470922Z"
    },
    "papermill": {
     "duration": 0.052357,
     "end_time": "2022-10-04T18:31:13.474178",
     "exception": false,
     "start_time": "2022-10-04T18:31:13.421821",
     "status": "completed"
    },
    "tags": []
   },
   "outputs": [],
   "source": [
    "from sklearn.model_selection import GridSearchCV\n",
    "from sklearn.svm import SVC\n",
    " \n",
    "def tuneSVM():\n",
    "    # defining parameter range\n",
    "    param_grid = {'C': [0.1, 1, 10, 100, 1000],\n",
    "                  'gamma': [1, 0.1, 0.01, 0.001, 0.0001],\n",
    "                  'kernel': ['rbf']}\n",
    "\n",
    "    grid = GridSearchCV(SVC(), param_grid, refit = True, verbose = 3)\n",
    "\n",
    "    # fitting the model for grid search\n",
    "    grid.fit(X_train, y_train)\n",
    "\n",
    "    # print best parameter after tuning\n",
    "    print(grid.best_params_)\n",
    "\n",
    "    # print how our model looks after hyper-parameter tuning\n",
    "    print(grid.best_estimator_)"
   ]
  },
  {
   "cell_type": "markdown",
   "id": "531b6fd6",
   "metadata": {
    "papermill": {
     "duration": 0.041673,
     "end_time": "2022-10-04T18:31:13.557821",
     "exception": false,
     "start_time": "2022-10-04T18:31:13.516148",
     "status": "completed"
    },
    "tags": []
   },
   "source": [
    "#### Final SVM Prediction"
   ]
  },
  {
   "cell_type": "code",
   "execution_count": 19,
   "id": "61d6e702",
   "metadata": {
    "execution": {
     "iopub.execute_input": "2022-10-04T18:31:13.646462Z",
     "iopub.status.busy": "2022-10-04T18:31:13.646128Z",
     "iopub.status.idle": "2022-10-04T18:31:13.653670Z",
     "shell.execute_reply": "2022-10-04T18:31:13.653022Z"
    },
    "papermill": {
     "duration": 0.054778,
     "end_time": "2022-10-04T18:31:13.655495",
     "exception": false,
     "start_time": "2022-10-04T18:31:13.600717",
     "status": "completed"
    },
    "tags": []
   },
   "outputs": [],
   "source": [
    "#Fit and Predict:\n",
    "def runSVM():\n",
    "    svm=SVC(C=1000, gamma=0.0001, kernel = 'linear')\n",
    "    svm.fit(X_train, y_train)\n",
    "    svmPedict = svm.predict(X_test)\n",
    "    np.shape(svmPedict)\n",
    "    np.shape(y_test)\n",
    "    #y_class = np.argmax(y_pred, axis = 0)\n",
    "\n",
    "    #calculate AUC of model\n",
    "    svmAUC = round( metrics.roc_auc_score(y_test, svmPedict, multi_class='ovr'), 4 ) \n",
    "    print(\"SVC AUC is: \", svmAUC)\n",
    "\n",
    "    svmR2 = r2_score(y_test, svmPedict).round(4) \n",
    "    print(\"SVM r2: \", svmR2) \n",
    "\n",
    "    svmMAE=metrics.mean_absolute_error(y_test, svmPedict)\n",
    "    \n",
    "    plt.figure(figsize=(5, 7))\n",
    "    ax = sns.distplot(y, hist=False, color=\"r\", label=\"Actual Value\")\n",
    "    sns.distplot(y_test, hist=False, color=\"b\", label=\"Fitted Values\" , ax=ax)\n",
    "    plt.title('Actual vs Fitted Values')\n",
    "    plt.show()\n",
    "    plt.close()"
   ]
  },
  {
   "cell_type": "markdown",
   "id": "04b871fe",
   "metadata": {
    "papermill": {
     "duration": 0.04217,
     "end_time": "2022-10-04T18:31:13.739606",
     "exception": false,
     "start_time": "2022-10-04T18:31:13.697436",
     "status": "completed"
    },
    "tags": []
   },
   "source": [
    "# Test Data"
   ]
  },
  {
   "cell_type": "code",
   "execution_count": 20,
   "id": "f8fa0f36",
   "metadata": {
    "execution": {
     "iopub.execute_input": "2022-10-04T18:31:13.826822Z",
     "iopub.status.busy": "2022-10-04T18:31:13.826376Z",
     "iopub.status.idle": "2022-10-04T18:31:13.844606Z",
     "shell.execute_reply": "2022-10-04T18:31:13.843750Z"
    },
    "papermill": {
     "duration": 0.065066,
     "end_time": "2022-10-04T18:31:13.846589",
     "exception": false,
     "start_time": "2022-10-04T18:31:13.781523",
     "status": "completed"
    },
    "tags": []
   },
   "outputs": [
    {
     "data": {
      "text/html": [
       "<div>\n",
       "<style scoped>\n",
       "    .dataframe tbody tr th:only-of-type {\n",
       "        vertical-align: middle;\n",
       "    }\n",
       "\n",
       "    .dataframe tbody tr th {\n",
       "        vertical-align: top;\n",
       "    }\n",
       "\n",
       "    .dataframe thead th {\n",
       "        text-align: right;\n",
       "    }\n",
       "</style>\n",
       "<table border=\"1\" class=\"dataframe\">\n",
       "  <thead>\n",
       "    <tr style=\"text-align: right;\">\n",
       "      <th></th>\n",
       "      <th>PassengerId</th>\n",
       "      <th>Pclass</th>\n",
       "      <th>Sex</th>\n",
       "      <th>Age</th>\n",
       "      <th>SibSp</th>\n",
       "      <th>Parch</th>\n",
       "      <th>Fare</th>\n",
       "    </tr>\n",
       "  </thead>\n",
       "  <tbody>\n",
       "    <tr>\n",
       "      <th>0</th>\n",
       "      <td>892</td>\n",
       "      <td>3</td>\n",
       "      <td>1</td>\n",
       "      <td>34.5</td>\n",
       "      <td>0</td>\n",
       "      <td>0</td>\n",
       "      <td>7.8292</td>\n",
       "    </tr>\n",
       "    <tr>\n",
       "      <th>1</th>\n",
       "      <td>893</td>\n",
       "      <td>3</td>\n",
       "      <td>0</td>\n",
       "      <td>47.0</td>\n",
       "      <td>1</td>\n",
       "      <td>0</td>\n",
       "      <td>7.0000</td>\n",
       "    </tr>\n",
       "    <tr>\n",
       "      <th>2</th>\n",
       "      <td>894</td>\n",
       "      <td>2</td>\n",
       "      <td>1</td>\n",
       "      <td>62.0</td>\n",
       "      <td>0</td>\n",
       "      <td>0</td>\n",
       "      <td>9.6875</td>\n",
       "    </tr>\n",
       "    <tr>\n",
       "      <th>3</th>\n",
       "      <td>895</td>\n",
       "      <td>3</td>\n",
       "      <td>1</td>\n",
       "      <td>27.0</td>\n",
       "      <td>0</td>\n",
       "      <td>0</td>\n",
       "      <td>8.6625</td>\n",
       "    </tr>\n",
       "    <tr>\n",
       "      <th>4</th>\n",
       "      <td>896</td>\n",
       "      <td>3</td>\n",
       "      <td>0</td>\n",
       "      <td>22.0</td>\n",
       "      <td>1</td>\n",
       "      <td>1</td>\n",
       "      <td>12.2875</td>\n",
       "    </tr>\n",
       "  </tbody>\n",
       "</table>\n",
       "</div>"
      ],
      "text/plain": [
       "   PassengerId  Pclass  Sex   Age  SibSp  Parch     Fare\n",
       "0          892       3    1  34.5      0      0   7.8292\n",
       "1          893       3    0  47.0      1      0   7.0000\n",
       "2          894       2    1  62.0      0      0   9.6875\n",
       "3          895       3    1  27.0      0      0   8.6625\n",
       "4          896       3    0  22.0      1      1  12.2875"
      ]
     },
     "execution_count": 20,
     "metadata": {},
     "output_type": "execute_result"
    }
   ],
   "source": [
    "#GENDER\n",
    "test['Sex']=test['Sex'].map({'female':0,'male':1})\n",
    "\n",
    "features=list(X.columns)\n",
    "test=test[features]\n",
    "\n",
    "test=test.fillna(test.mean())\n",
    "test.head()"
   ]
  },
  {
   "cell_type": "markdown",
   "id": "6c2ffa27",
   "metadata": {
    "papermill": {
     "duration": 0.043991,
     "end_time": "2022-10-04T18:31:13.933120",
     "exception": false,
     "start_time": "2022-10-04T18:31:13.889129",
     "status": "completed"
    },
    "tags": []
   },
   "source": [
    "# Final Prediction"
   ]
  },
  {
   "cell_type": "code",
   "execution_count": 21,
   "id": "df35300a",
   "metadata": {
    "execution": {
     "iopub.execute_input": "2022-10-04T18:31:14.020249Z",
     "iopub.status.busy": "2022-10-04T18:31:14.019739Z",
     "iopub.status.idle": "2022-10-04T18:31:14.037976Z",
     "shell.execute_reply": "2022-10-04T18:31:14.037087Z"
    },
    "papermill": {
     "duration": 0.064751,
     "end_time": "2022-10-04T18:31:14.040300",
     "exception": false,
     "start_time": "2022-10-04T18:31:13.975549",
     "status": "completed"
    },
    "tags": []
   },
   "outputs": [
    {
     "data": {
      "text/html": [
       "<div>\n",
       "<style scoped>\n",
       "    .dataframe tbody tr th:only-of-type {\n",
       "        vertical-align: middle;\n",
       "    }\n",
       "\n",
       "    .dataframe tbody tr th {\n",
       "        vertical-align: top;\n",
       "    }\n",
       "\n",
       "    .dataframe thead th {\n",
       "        text-align: right;\n",
       "    }\n",
       "</style>\n",
       "<table border=\"1\" class=\"dataframe\">\n",
       "  <thead>\n",
       "    <tr style=\"text-align: right;\">\n",
       "      <th></th>\n",
       "      <th>PassengerId</th>\n",
       "      <th>Survived</th>\n",
       "    </tr>\n",
       "  </thead>\n",
       "  <tbody>\n",
       "    <tr>\n",
       "      <th>0</th>\n",
       "      <td>892</td>\n",
       "      <td>0</td>\n",
       "    </tr>\n",
       "    <tr>\n",
       "      <th>1</th>\n",
       "      <td>893</td>\n",
       "      <td>0</td>\n",
       "    </tr>\n",
       "    <tr>\n",
       "      <th>2</th>\n",
       "      <td>894</td>\n",
       "      <td>0</td>\n",
       "    </tr>\n",
       "    <tr>\n",
       "      <th>3</th>\n",
       "      <td>895</td>\n",
       "      <td>0</td>\n",
       "    </tr>\n",
       "    <tr>\n",
       "      <th>4</th>\n",
       "      <td>896</td>\n",
       "      <td>1</td>\n",
       "    </tr>\n",
       "    <tr>\n",
       "      <th>5</th>\n",
       "      <td>897</td>\n",
       "      <td>0</td>\n",
       "    </tr>\n",
       "    <tr>\n",
       "      <th>6</th>\n",
       "      <td>898</td>\n",
       "      <td>0</td>\n",
       "    </tr>\n",
       "  </tbody>\n",
       "</table>\n",
       "</div>"
      ],
      "text/plain": [
       "   PassengerId  Survived\n",
       "0          892         0\n",
       "1          893         0\n",
       "2          894         0\n",
       "3          895         0\n",
       "4          896         1\n",
       "5          897         0\n",
       "6          898         0"
      ]
     },
     "execution_count": 21,
     "metadata": {},
     "output_type": "execute_result"
    }
   ],
   "source": [
    "test_predictions = forestFinal.predict(test)\n",
    "passID=test['PassengerId']\n",
    "tupleData = list(zip(passID, test_predictions))\n",
    "output = pd.DataFrame(tupleData, columns = ['PassengerId', 'Survived'])\n",
    "output.head(7)"
   ]
  },
  {
   "cell_type": "code",
   "execution_count": 22,
   "id": "87757789",
   "metadata": {
    "execution": {
     "iopub.execute_input": "2022-10-04T18:31:14.130647Z",
     "iopub.status.busy": "2022-10-04T18:31:14.130201Z",
     "iopub.status.idle": "2022-10-04T18:31:14.137834Z",
     "shell.execute_reply": "2022-10-04T18:31:14.137132Z"
    },
    "papermill": {
     "duration": 0.055243,
     "end_time": "2022-10-04T18:31:14.140142",
     "exception": false,
     "start_time": "2022-10-04T18:31:14.084899",
     "status": "completed"
    },
    "tags": []
   },
   "outputs": [
    {
     "name": "stdout",
     "output_type": "stream",
     "text": [
      "Your submission was successfully saved!\n"
     ]
    }
   ],
   "source": [
    "output.to_csv('submission.csv', index=False)\n",
    "print(\"Your submission was successfully saved!\")"
   ]
  },
  {
   "cell_type": "markdown",
   "id": "b21a2618",
   "metadata": {
    "papermill": {
     "duration": 0.043094,
     "end_time": "2022-10-04T18:31:14.227423",
     "exception": false,
     "start_time": "2022-10-04T18:31:14.184329",
     "status": "completed"
    },
    "tags": []
   },
   "source": [
    "#### Notes:\n",
    "Being a wife makes no difference in the final prediction: <br>\n",
    "` df['Titles'] = df['Name'].str.extract(r', (\\w+\\.)') \n",
    "df['Titles'] = df['Titles'].apply(lambda x: 1 if x=='Mrs.' else 0) `"
   ]
  }
 ],
 "metadata": {
  "kernelspec": {
   "display_name": "Python 3",
   "language": "python",
   "name": "python3"
  },
  "language_info": {
   "codemirror_mode": {
    "name": "ipython",
    "version": 3
   },
   "file_extension": ".py",
   "mimetype": "text/x-python",
   "name": "python",
   "nbconvert_exporter": "python",
   "pygments_lexer": "ipython3",
   "version": "3.7.12"
  },
  "papermill": {
   "default_parameters": {},
   "duration": 42.085438,
   "end_time": "2022-10-04T18:31:14.991613",
   "environment_variables": {},
   "exception": null,
   "input_path": "__notebook__.ipynb",
   "output_path": "__notebook__.ipynb",
   "parameters": {},
   "start_time": "2022-10-04T18:30:32.906175",
   "version": "2.3.4"
  }
 },
 "nbformat": 4,
 "nbformat_minor": 5
}
