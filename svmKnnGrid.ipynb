{
 "cells": [
  {
   "cell_type": "markdown",
   "id": "64128024",
   "metadata": {
    "papermill": {
     "duration": 0.038106,
     "end_time": "2022-10-13T15:15:19.262026",
     "exception": false,
     "start_time": "2022-10-13T15:15:19.223920",
     "status": "completed"
    },
    "tags": []
   },
   "source": [
    "# Machine Learning Titanic \n",
    "### SVM GridSearch\n",
    "SVM provides .78 accuracy which is near the best performing models below. Therefore, an extensive tunning using GridSearchCV will be used to help perfect SVM models. \n",
    "\n",
    "My newest, high performing models:\n",
    "* All initial models:\n",
    "https://github.com/ScottySchmidt/Kaggle/blob/main/Titanic.ipynb\n",
    "* Decision tree scores top 6%\n",
    "https://github.com/ScottySchmidt/Kaggle/blob/main/dtree.ipynb\n",
    "* xgBoost top 5%\n",
    "https://github.com/ScottySchmidt/Kaggle/blob/main/xgbTop5%25.ipynb\n",
    "* Random forest top 5%\n",
    "https://github.com/ScottySchmidt/Kaggle/blob/main/forestTop5%25.ipynb\n",
    "\n",
    "### KNN GridSearch\n",
    "KNN initially provided the worse accuracy results. Even with additional tunning using GridSearchCV, KNN still does not provide good results. "
   ]
  },
  {
   "cell_type": "markdown",
   "id": "6a47ef54",
   "metadata": {
    "papermill": {
     "duration": 0.035586,
     "end_time": "2022-10-13T15:15:19.333875",
     "exception": false,
     "start_time": "2022-10-13T15:15:19.298289",
     "status": "completed"
    },
    "tags": []
   },
   "source": [
    "# Metrics\n",
    "The gradient classifier and logistic regression are the best two models that provide the highest best score. Interestingly, the gradient classifier does not have a high AUC but the results cross validate into the test dataset without overfitting the data. For example, decision tree can get an almost perfect AUC but when you cross validate the data it is clearly overfiting. "
   ]
  },
  {
   "cell_type": "markdown",
   "id": "fdd9fd01",
   "metadata": {
    "papermill": {
     "duration": 0.035518,
     "end_time": "2022-10-13T15:15:19.405583",
     "exception": false,
     "start_time": "2022-10-13T15:15:19.370065",
     "status": "completed"
    },
    "tags": []
   },
   "source": [
    "# Train Data\n",
    "Train.csv will contain the details of a subset of the passengers on board (891 to be exact) and whether they survive or not. The shape of the train data is (891, 12). "
   ]
  },
  {
   "cell_type": "code",
   "execution_count": 1,
   "id": "3e55aa36",
   "metadata": {
    "execution": {
     "iopub.execute_input": "2022-10-13T15:15:19.481909Z",
     "iopub.status.busy": "2022-10-13T15:15:19.481563Z",
     "iopub.status.idle": "2022-10-13T15:15:20.938864Z",
     "shell.execute_reply": "2022-10-13T15:15:20.937885Z"
    },
    "papermill": {
     "duration": 1.498187,
     "end_time": "2022-10-13T15:15:20.942157",
     "exception": false,
     "start_time": "2022-10-13T15:15:19.443970",
     "status": "completed"
    },
    "tags": []
   },
   "outputs": [
    {
     "name": "stdout",
     "output_type": "stream",
     "text": [
      "(891, 12)\n"
     ]
    },
    {
     "data": {
      "text/html": [
       "<div>\n",
       "<style scoped>\n",
       "    .dataframe tbody tr th:only-of-type {\n",
       "        vertical-align: middle;\n",
       "    }\n",
       "\n",
       "    .dataframe tbody tr th {\n",
       "        vertical-align: top;\n",
       "    }\n",
       "\n",
       "    .dataframe thead th {\n",
       "        text-align: right;\n",
       "    }\n",
       "</style>\n",
       "<table border=\"1\" class=\"dataframe\">\n",
       "  <thead>\n",
       "    <tr style=\"text-align: right;\">\n",
       "      <th></th>\n",
       "      <th>PassengerId</th>\n",
       "      <th>Survived</th>\n",
       "      <th>Pclass</th>\n",
       "      <th>Name</th>\n",
       "      <th>Sex</th>\n",
       "      <th>Age</th>\n",
       "      <th>SibSp</th>\n",
       "      <th>Parch</th>\n",
       "      <th>Ticket</th>\n",
       "      <th>Fare</th>\n",
       "      <th>Cabin</th>\n",
       "      <th>Embarked</th>\n",
       "    </tr>\n",
       "  </thead>\n",
       "  <tbody>\n",
       "    <tr>\n",
       "      <th>0</th>\n",
       "      <td>1</td>\n",
       "      <td>0</td>\n",
       "      <td>3</td>\n",
       "      <td>Braund, Mr. Owen Harris</td>\n",
       "      <td>male</td>\n",
       "      <td>22.0</td>\n",
       "      <td>1</td>\n",
       "      <td>0</td>\n",
       "      <td>A/5 21171</td>\n",
       "      <td>7.2500</td>\n",
       "      <td>NaN</td>\n",
       "      <td>S</td>\n",
       "    </tr>\n",
       "    <tr>\n",
       "      <th>1</th>\n",
       "      <td>2</td>\n",
       "      <td>1</td>\n",
       "      <td>1</td>\n",
       "      <td>Cumings, Mrs. John Bradley (Florence Briggs Th...</td>\n",
       "      <td>female</td>\n",
       "      <td>38.0</td>\n",
       "      <td>1</td>\n",
       "      <td>0</td>\n",
       "      <td>PC 17599</td>\n",
       "      <td>71.2833</td>\n",
       "      <td>C85</td>\n",
       "      <td>C</td>\n",
       "    </tr>\n",
       "    <tr>\n",
       "      <th>2</th>\n",
       "      <td>3</td>\n",
       "      <td>1</td>\n",
       "      <td>3</td>\n",
       "      <td>Heikkinen, Miss. Laina</td>\n",
       "      <td>female</td>\n",
       "      <td>26.0</td>\n",
       "      <td>0</td>\n",
       "      <td>0</td>\n",
       "      <td>STON/O2. 3101282</td>\n",
       "      <td>7.9250</td>\n",
       "      <td>NaN</td>\n",
       "      <td>S</td>\n",
       "    </tr>\n",
       "    <tr>\n",
       "      <th>3</th>\n",
       "      <td>4</td>\n",
       "      <td>1</td>\n",
       "      <td>1</td>\n",
       "      <td>Futrelle, Mrs. Jacques Heath (Lily May Peel)</td>\n",
       "      <td>female</td>\n",
       "      <td>35.0</td>\n",
       "      <td>1</td>\n",
       "      <td>0</td>\n",
       "      <td>113803</td>\n",
       "      <td>53.1000</td>\n",
       "      <td>C123</td>\n",
       "      <td>S</td>\n",
       "    </tr>\n",
       "    <tr>\n",
       "      <th>4</th>\n",
       "      <td>5</td>\n",
       "      <td>0</td>\n",
       "      <td>3</td>\n",
       "      <td>Allen, Mr. William Henry</td>\n",
       "      <td>male</td>\n",
       "      <td>35.0</td>\n",
       "      <td>0</td>\n",
       "      <td>0</td>\n",
       "      <td>373450</td>\n",
       "      <td>8.0500</td>\n",
       "      <td>NaN</td>\n",
       "      <td>S</td>\n",
       "    </tr>\n",
       "  </tbody>\n",
       "</table>\n",
       "</div>"
      ],
      "text/plain": [
       "   PassengerId  Survived  Pclass  \\\n",
       "0            1         0       3   \n",
       "1            2         1       1   \n",
       "2            3         1       3   \n",
       "3            4         1       1   \n",
       "4            5         0       3   \n",
       "\n",
       "                                                Name     Sex   Age  SibSp  \\\n",
       "0                            Braund, Mr. Owen Harris    male  22.0      1   \n",
       "1  Cumings, Mrs. John Bradley (Florence Briggs Th...  female  38.0      1   \n",
       "2                             Heikkinen, Miss. Laina  female  26.0      0   \n",
       "3       Futrelle, Mrs. Jacques Heath (Lily May Peel)  female  35.0      1   \n",
       "4                           Allen, Mr. William Henry    male  35.0      0   \n",
       "\n",
       "   Parch            Ticket     Fare Cabin Embarked  \n",
       "0      0         A/5 21171   7.2500   NaN        S  \n",
       "1      0          PC 17599  71.2833   C85        C  \n",
       "2      0  STON/O2. 3101282   7.9250   NaN        S  \n",
       "3      0            113803  53.1000  C123        S  \n",
       "4      0            373450   8.0500   NaN        S  "
      ]
     },
     "execution_count": 1,
     "metadata": {},
     "output_type": "execute_result"
    }
   ],
   "source": [
    "import numpy as np\n",
    "import pandas as pd\n",
    "import seaborn as sns\n",
    "import matplotlib.pyplot as plt\n",
    "from sklearn.model_selection import train_test_split, cross_validate, GridSearchCV\n",
    "from statistics import mean\n",
    "from sklearn.metrics import accuracy_score, classification_report, mean_absolute_error, mean_squared_error, r2_score\n",
    "from sklearn.datasets import make_classification\n",
    "from sklearn import ensemble\n",
    "import sklearn.metrics as metrics\n",
    "import time\n",
    "from math import sqrt\n",
    "\n",
    "train=r'/kaggle/input/titanic/train.csv'\n",
    "test=r'/kaggle/input/titanic/test.csv' \n",
    "\n",
    "df=pd.read_csv(train)\n",
    "test=pd.read_csv(test)\n",
    "\n",
    "print(df.shape)\n",
    "df.head()"
   ]
  },
  {
   "cell_type": "code",
   "execution_count": 2,
   "id": "a01cedbc",
   "metadata": {
    "execution": {
     "iopub.execute_input": "2022-10-13T15:15:21.017904Z",
     "iopub.status.busy": "2022-10-13T15:15:21.016985Z",
     "iopub.status.idle": "2022-10-13T15:15:21.024725Z",
     "shell.execute_reply": "2022-10-13T15:15:21.023911Z"
    },
    "papermill": {
     "duration": 0.047232,
     "end_time": "2022-10-13T15:15:21.026587",
     "exception": false,
     "start_time": "2022-10-13T15:15:20.979355",
     "status": "completed"
    },
    "tags": []
   },
   "outputs": [
    {
     "data": {
      "text/plain": [
       "PassengerId      int64\n",
       "Survived         int64\n",
       "Pclass           int64\n",
       "Name            object\n",
       "Sex             object\n",
       "Age            float64\n",
       "SibSp            int64\n",
       "Parch            int64\n",
       "Ticket          object\n",
       "Fare           float64\n",
       "Cabin           object\n",
       "Embarked        object\n",
       "dtype: object"
      ]
     },
     "execution_count": 2,
     "metadata": {},
     "output_type": "execute_result"
    }
   ],
   "source": [
    "df.dtypes"
   ]
  },
  {
   "cell_type": "code",
   "execution_count": 3,
   "id": "58f52724",
   "metadata": {
    "execution": {
     "iopub.execute_input": "2022-10-13T15:15:21.101542Z",
     "iopub.status.busy": "2022-10-13T15:15:21.100869Z",
     "iopub.status.idle": "2022-10-13T15:15:21.123653Z",
     "shell.execute_reply": "2022-10-13T15:15:21.122737Z"
    },
    "papermill": {
     "duration": 0.061828,
     "end_time": "2022-10-13T15:15:21.125623",
     "exception": false,
     "start_time": "2022-10-13T15:15:21.063795",
     "status": "completed"
    },
    "tags": []
   },
   "outputs": [
    {
     "name": "stdout",
     "output_type": "stream",
     "text": [
      "Total no of duplicate values in Training Dataset = 0\n"
     ]
    },
    {
     "data": {
      "text/html": [
       "<div>\n",
       "<style scoped>\n",
       "    .dataframe tbody tr th:only-of-type {\n",
       "        vertical-align: middle;\n",
       "    }\n",
       "\n",
       "    .dataframe tbody tr th {\n",
       "        vertical-align: top;\n",
       "    }\n",
       "\n",
       "    .dataframe thead th {\n",
       "        text-align: right;\n",
       "    }\n",
       "</style>\n",
       "<table border=\"1\" class=\"dataframe\">\n",
       "  <thead>\n",
       "    <tr style=\"text-align: right;\">\n",
       "      <th></th>\n",
       "      <th>PassengerId</th>\n",
       "      <th>Survived</th>\n",
       "      <th>Pclass</th>\n",
       "      <th>Name</th>\n",
       "      <th>Sex</th>\n",
       "      <th>Age</th>\n",
       "      <th>SibSp</th>\n",
       "      <th>Parch</th>\n",
       "      <th>Ticket</th>\n",
       "      <th>Fare</th>\n",
       "      <th>Cabin</th>\n",
       "      <th>Embarked</th>\n",
       "    </tr>\n",
       "  </thead>\n",
       "  <tbody>\n",
       "  </tbody>\n",
       "</table>\n",
       "</div>"
      ],
      "text/plain": [
       "Empty DataFrame\n",
       "Columns: [PassengerId, Survived, Pclass, Name, Sex, Age, SibSp, Parch, Ticket, Fare, Cabin, Embarked]\n",
       "Index: []"
      ]
     },
     "execution_count": 3,
     "metadata": {},
     "output_type": "execute_result"
    }
   ],
   "source": [
    "#Check Duplicates:\n",
    "dupstr = df.duplicated()\n",
    "print('Total no of duplicate values in Training Dataset = %d' % (dupstr.sum()))\n",
    "df[dupstr]"
   ]
  },
  {
   "cell_type": "code",
   "execution_count": 4,
   "id": "405886a2",
   "metadata": {
    "execution": {
     "iopub.execute_input": "2022-10-13T15:15:21.203237Z",
     "iopub.status.busy": "2022-10-13T15:15:21.202968Z",
     "iopub.status.idle": "2022-10-13T15:15:21.213194Z",
     "shell.execute_reply": "2022-10-13T15:15:21.212013Z"
    },
    "papermill": {
     "duration": 0.051574,
     "end_time": "2022-10-13T15:15:21.215209",
     "exception": false,
     "start_time": "2022-10-13T15:15:21.163635",
     "status": "completed"
    },
    "tags": []
   },
   "outputs": [
    {
     "name": "stdout",
     "output_type": "stream",
     "text": [
      "Missing data by column as a percent:\n",
      "Cabin          0.771044\n",
      "Age            0.198653\n",
      "Embarked       0.002245\n",
      "PassengerId    0.000000\n",
      "Survived       0.000000\n",
      "dtype: float64\n"
     ]
    }
   ],
   "source": [
    "#search for columns with missing values:\n",
    "def findNA():\n",
    "    print(\"Missing data by column as a percent:\")\n",
    "    findNA=df.isnull().sum().sort_values(ascending=False)/len(df)\n",
    "    print(findNA.head())\n",
    "findNA() "
   ]
  },
  {
   "cell_type": "markdown",
   "id": "75c1c9ac",
   "metadata": {
    "papermill": {
     "duration": 0.037743,
     "end_time": "2022-10-13T15:15:21.291196",
     "exception": false,
     "start_time": "2022-10-13T15:15:21.253453",
     "status": "completed"
    },
    "tags": []
   },
   "source": [
    "# Feature Engineer\n",
    "We need to replace male and female into numbers. This is a very important part of the process because gender is one of the highest predictors on if a person survived or not."
   ]
  },
  {
   "cell_type": "code",
   "execution_count": 5,
   "id": "39fde4d1",
   "metadata": {
    "execution": {
     "iopub.execute_input": "2022-10-13T15:15:21.368051Z",
     "iopub.status.busy": "2022-10-13T15:15:21.367755Z",
     "iopub.status.idle": "2022-10-13T15:15:21.373557Z",
     "shell.execute_reply": "2022-10-13T15:15:21.372699Z"
    },
    "papermill": {
     "duration": 0.046569,
     "end_time": "2022-10-13T15:15:21.375494",
     "exception": false,
     "start_time": "2022-10-13T15:15:21.328925",
     "status": "completed"
    },
    "tags": []
   },
   "outputs": [],
   "source": [
    "#GENDER\n",
    "df['Sex']=df['Sex'].map({'female':0,'male':1})"
   ]
  },
  {
   "cell_type": "markdown",
   "id": "7a361c24",
   "metadata": {
    "papermill": {
     "duration": 0.037976,
     "end_time": "2022-10-13T15:15:21.452412",
     "exception": false,
     "start_time": "2022-10-13T15:15:21.414436",
     "status": "completed"
    },
    "tags": []
   },
   "source": [
    "Females whose number is 0 had a much higher chance of surving than males. Later on, doing the importance feature analysis we will view that gender is actually one of the highest predictors. "
   ]
  },
  {
   "cell_type": "code",
   "execution_count": 6,
   "id": "d21476d1",
   "metadata": {
    "execution": {
     "iopub.execute_input": "2022-10-13T15:15:21.530739Z",
     "iopub.status.busy": "2022-10-13T15:15:21.530458Z",
     "iopub.status.idle": "2022-10-13T15:15:21.559026Z",
     "shell.execute_reply": "2022-10-13T15:15:21.558184Z"
    },
    "papermill": {
     "duration": 0.070365,
     "end_time": "2022-10-13T15:15:21.560847",
     "exception": false,
     "start_time": "2022-10-13T15:15:21.490482",
     "status": "completed"
    },
    "tags": []
   },
   "outputs": [
    {
     "data": {
      "text/html": [
       "<div>\n",
       "<style scoped>\n",
       "    .dataframe tbody tr th:only-of-type {\n",
       "        vertical-align: middle;\n",
       "    }\n",
       "\n",
       "    .dataframe tbody tr th {\n",
       "        vertical-align: top;\n",
       "    }\n",
       "\n",
       "    .dataframe thead th {\n",
       "        text-align: right;\n",
       "    }\n",
       "</style>\n",
       "<table border=\"1\" class=\"dataframe\">\n",
       "  <thead>\n",
       "    <tr style=\"text-align: right;\">\n",
       "      <th>Sex</th>\n",
       "      <th>0</th>\n",
       "      <th>1</th>\n",
       "    </tr>\n",
       "    <tr>\n",
       "      <th>Survived</th>\n",
       "      <th></th>\n",
       "      <th></th>\n",
       "    </tr>\n",
       "  </thead>\n",
       "  <tbody>\n",
       "    <tr>\n",
       "      <th>0</th>\n",
       "      <td>81</td>\n",
       "      <td>468</td>\n",
       "    </tr>\n",
       "    <tr>\n",
       "      <th>1</th>\n",
       "      <td>233</td>\n",
       "      <td>109</td>\n",
       "    </tr>\n",
       "  </tbody>\n",
       "</table>\n",
       "</div>"
      ],
      "text/plain": [
       "Sex         0    1\n",
       "Survived          \n",
       "0          81  468\n",
       "1         233  109"
      ]
     },
     "execution_count": 6,
     "metadata": {},
     "output_type": "execute_result"
    }
   ],
   "source": [
    "genderTable = pd.crosstab(df['Survived'],df['Sex'])\n",
    "genderTable"
   ]
  },
  {
   "cell_type": "markdown",
   "id": "28a03bae",
   "metadata": {
    "papermill": {
     "duration": 0.038194,
     "end_time": "2022-10-13T15:15:21.637802",
     "exception": false,
     "start_time": "2022-10-13T15:15:21.599608",
     "status": "completed"
    },
    "tags": []
   },
   "source": [
    "# Encode Categorical Variables\n",
    "Encode Categorical Variables is needed for this dataset since there are many important variables that are not numeric yet. \n",
    "\n",
    "There are three classes C, Q, and S. Class C seems to have the highest chance of survival. Class S has the lowest chance of survival. Unfornately this would tend to show that economic status seems to played a part in the decision if someone survived or not. Embarked does not play role major role in feature importance. "
   ]
  },
  {
   "cell_type": "code",
   "execution_count": 7,
   "id": "f64bc965",
   "metadata": {
    "execution": {
     "iopub.execute_input": "2022-10-13T15:15:21.716808Z",
     "iopub.status.busy": "2022-10-13T15:15:21.716361Z",
     "iopub.status.idle": "2022-10-13T15:15:21.896084Z",
     "shell.execute_reply": "2022-10-13T15:15:21.895254Z"
    },
    "papermill": {
     "duration": 0.221613,
     "end_time": "2022-10-13T15:15:21.898424",
     "exception": false,
     "start_time": "2022-10-13T15:15:21.676811",
     "status": "completed"
    },
    "tags": []
   },
   "outputs": [],
   "source": [
    "import category_encoders as ce\n",
    "#encoder = ce.OrdinalEncoder(cols=['Embarked'])\n",
    "\n",
    "#df = encoder.fit_transform(df)\n",
    "#test = encoder.fit_transform(test)\n",
    "#test.head()"
   ]
  },
  {
   "cell_type": "markdown",
   "id": "2db0e6e9",
   "metadata": {
    "papermill": {
     "duration": 0.039211,
     "end_time": "2022-10-13T15:15:21.976063",
     "exception": false,
     "start_time": "2022-10-13T15:15:21.936852",
     "status": "completed"
    },
    "tags": []
   },
   "source": [
    "# Examine Target Variable\n",
    "Survived is the Y variable we will be analyzing. Since the survival rete is 0.384 the data is not considered unbalanced. "
   ]
  },
  {
   "cell_type": "code",
   "execution_count": 8,
   "id": "b218b356",
   "metadata": {
    "execution": {
     "iopub.execute_input": "2022-10-13T15:15:22.055903Z",
     "iopub.status.busy": "2022-10-13T15:15:22.055573Z",
     "iopub.status.idle": "2022-10-13T15:15:22.063045Z",
     "shell.execute_reply": "2022-10-13T15:15:22.062168Z"
    },
    "papermill": {
     "duration": 0.050378,
     "end_time": "2022-10-13T15:15:22.065464",
     "exception": false,
     "start_time": "2022-10-13T15:15:22.015086",
     "status": "completed"
    },
    "tags": []
   },
   "outputs": [
    {
     "name": "stdout",
     "output_type": "stream",
     "text": [
      "0    549\n",
      "1    342\n",
      "Name: Survived, dtype: int64\n",
      "Percent that survived:  0.384\n"
     ]
    }
   ],
   "source": [
    "temp=df['Survived'].value_counts()\n",
    "print(temp)\n",
    "no=temp[0]\n",
    "yes=temp[1]\n",
    "percent=round(yes/(yes+no),3)\n",
    "print(\"Percent that survived: \", percent)"
   ]
  },
  {
   "cell_type": "markdown",
   "id": "116b6dc5",
   "metadata": {
    "papermill": {
     "duration": 0.039128,
     "end_time": "2022-10-13T15:15:22.143115",
     "exception": false,
     "start_time": "2022-10-13T15:15:22.103987",
     "status": "completed"
    },
    "tags": []
   },
   "source": [
    "# Numeric DataFrame\n",
    "For now, we will analyze only numeric values. Categorical values will need to be encoded or analyzed individually."
   ]
  },
  {
   "cell_type": "code",
   "execution_count": 9,
   "id": "74e9b05d",
   "metadata": {
    "execution": {
     "iopub.execute_input": "2022-10-13T15:15:22.222331Z",
     "iopub.status.busy": "2022-10-13T15:15:22.222051Z",
     "iopub.status.idle": "2022-10-13T15:15:22.236346Z",
     "shell.execute_reply": "2022-10-13T15:15:22.235535Z"
    },
    "papermill": {
     "duration": 0.056246,
     "end_time": "2022-10-13T15:15:22.238123",
     "exception": false,
     "start_time": "2022-10-13T15:15:22.181877",
     "status": "completed"
    },
    "tags": []
   },
   "outputs": [
    {
     "data": {
      "text/html": [
       "<div>\n",
       "<style scoped>\n",
       "    .dataframe tbody tr th:only-of-type {\n",
       "        vertical-align: middle;\n",
       "    }\n",
       "\n",
       "    .dataframe tbody tr th {\n",
       "        vertical-align: top;\n",
       "    }\n",
       "\n",
       "    .dataframe thead th {\n",
       "        text-align: right;\n",
       "    }\n",
       "</style>\n",
       "<table border=\"1\" class=\"dataframe\">\n",
       "  <thead>\n",
       "    <tr style=\"text-align: right;\">\n",
       "      <th></th>\n",
       "      <th>PassengerId</th>\n",
       "      <th>Survived</th>\n",
       "      <th>Pclass</th>\n",
       "      <th>Sex</th>\n",
       "      <th>Age</th>\n",
       "      <th>SibSp</th>\n",
       "      <th>Parch</th>\n",
       "      <th>Fare</th>\n",
       "    </tr>\n",
       "  </thead>\n",
       "  <tbody>\n",
       "    <tr>\n",
       "      <th>0</th>\n",
       "      <td>1</td>\n",
       "      <td>0</td>\n",
       "      <td>3</td>\n",
       "      <td>1</td>\n",
       "      <td>22.0</td>\n",
       "      <td>1</td>\n",
       "      <td>0</td>\n",
       "      <td>7.2500</td>\n",
       "    </tr>\n",
       "    <tr>\n",
       "      <th>1</th>\n",
       "      <td>2</td>\n",
       "      <td>1</td>\n",
       "      <td>1</td>\n",
       "      <td>0</td>\n",
       "      <td>38.0</td>\n",
       "      <td>1</td>\n",
       "      <td>0</td>\n",
       "      <td>71.2833</td>\n",
       "    </tr>\n",
       "    <tr>\n",
       "      <th>2</th>\n",
       "      <td>3</td>\n",
       "      <td>1</td>\n",
       "      <td>3</td>\n",
       "      <td>0</td>\n",
       "      <td>26.0</td>\n",
       "      <td>0</td>\n",
       "      <td>0</td>\n",
       "      <td>7.9250</td>\n",
       "    </tr>\n",
       "    <tr>\n",
       "      <th>3</th>\n",
       "      <td>4</td>\n",
       "      <td>1</td>\n",
       "      <td>1</td>\n",
       "      <td>0</td>\n",
       "      <td>35.0</td>\n",
       "      <td>1</td>\n",
       "      <td>0</td>\n",
       "      <td>53.1000</td>\n",
       "    </tr>\n",
       "    <tr>\n",
       "      <th>4</th>\n",
       "      <td>5</td>\n",
       "      <td>0</td>\n",
       "      <td>3</td>\n",
       "      <td>1</td>\n",
       "      <td>35.0</td>\n",
       "      <td>0</td>\n",
       "      <td>0</td>\n",
       "      <td>8.0500</td>\n",
       "    </tr>\n",
       "  </tbody>\n",
       "</table>\n",
       "</div>"
      ],
      "text/plain": [
       "   PassengerId  Survived  Pclass  Sex   Age  SibSp  Parch     Fare\n",
       "0            1         0       3    1  22.0      1      0   7.2500\n",
       "1            2         1       1    0  38.0      1      0  71.2833\n",
       "2            3         1       3    0  26.0      0      0   7.9250\n",
       "3            4         1       1    0  35.0      1      0  53.1000\n",
       "4            5         0       3    1  35.0      0      0   8.0500"
      ]
     },
     "execution_count": 9,
     "metadata": {},
     "output_type": "execute_result"
    }
   ],
   "source": [
    "numerics = ['int16', 'int32', 'int64', 'float16', 'float32', 'float64']\n",
    "df = df.select_dtypes(include=numerics)\n",
    "df.head()"
   ]
  },
  {
   "cell_type": "markdown",
   "id": "f2c93c1e",
   "metadata": {
    "papermill": {
     "duration": 0.03877,
     "end_time": "2022-10-13T15:15:22.316249",
     "exception": false,
     "start_time": "2022-10-13T15:15:22.277479",
     "status": "completed"
    },
    "tags": []
   },
   "source": [
    "# Check for missing values\n",
    "Age is missing around 20% of values.Therefore, we can simply fill in the mean for that one column."
   ]
  },
  {
   "cell_type": "code",
   "execution_count": 10,
   "id": "9c95de75",
   "metadata": {
    "execution": {
     "iopub.execute_input": "2022-10-13T15:15:22.396832Z",
     "iopub.status.busy": "2022-10-13T15:15:22.396567Z",
     "iopub.status.idle": "2022-10-13T15:15:22.403406Z",
     "shell.execute_reply": "2022-10-13T15:15:22.402900Z"
    },
    "papermill": {
     "duration": 0.04987,
     "end_time": "2022-10-13T15:15:22.405531",
     "exception": false,
     "start_time": "2022-10-13T15:15:22.355661",
     "status": "completed"
    },
    "tags": []
   },
   "outputs": [
    {
     "name": "stdout",
     "output_type": "stream",
     "text": [
      "Missing data by column as a percent:\n",
      "Age            0.198653\n",
      "PassengerId    0.000000\n",
      "Survived       0.000000\n",
      "Pclass         0.000000\n",
      "Sex            0.000000\n",
      "dtype: float64\n"
     ]
    }
   ],
   "source": [
    "#search for columns with missing values:\n",
    "def findNA():\n",
    "    print(\"Missing data by column as a percent:\")\n",
    "    findNA=df.isnull().sum().sort_values(ascending=False)/len(df)\n",
    "    print(findNA.head())\n",
    "findNA() "
   ]
  },
  {
   "cell_type": "code",
   "execution_count": 11,
   "id": "18ef9404",
   "metadata": {
    "execution": {
     "iopub.execute_input": "2022-10-13T15:15:22.487138Z",
     "iopub.status.busy": "2022-10-13T15:15:22.486593Z",
     "iopub.status.idle": "2022-10-13T15:15:22.492820Z",
     "shell.execute_reply": "2022-10-13T15:15:22.492263Z"
    },
    "papermill": {
     "duration": 0.049179,
     "end_time": "2022-10-13T15:15:22.494608",
     "exception": false,
     "start_time": "2022-10-13T15:15:22.445429",
     "status": "completed"
    },
    "tags": []
   },
   "outputs": [],
   "source": [
    "df= df.fillna(df.mean())"
   ]
  },
  {
   "cell_type": "markdown",
   "id": "4ba3e6ee",
   "metadata": {
    "papermill": {
     "duration": 0.039621,
     "end_time": "2022-10-13T15:15:22.573863",
     "exception": false,
     "start_time": "2022-10-13T15:15:22.534242",
     "status": "completed"
    },
    "tags": []
   },
   "source": [
    "# Split Data"
   ]
  },
  {
   "cell_type": "code",
   "execution_count": 12,
   "id": "432665bc",
   "metadata": {
    "execution": {
     "iopub.execute_input": "2022-10-13T15:15:22.654723Z",
     "iopub.status.busy": "2022-10-13T15:15:22.654200Z",
     "iopub.status.idle": "2022-10-13T15:15:22.660551Z",
     "shell.execute_reply": "2022-10-13T15:15:22.660043Z"
    },
    "papermill": {
     "duration": 0.049203,
     "end_time": "2022-10-13T15:15:22.662286",
     "exception": false,
     "start_time": "2022-10-13T15:15:22.613083",
     "status": "completed"
    },
    "tags": []
   },
   "outputs": [],
   "source": [
    "X=df.drop('Survived', axis=1)\n",
    "y=df['Survived']\n",
    "\n",
    "X_train, X_test, y_train, y_test = train_test_split(\n",
    "    X, y, test_size = 0.30, random_state = 42)"
   ]
  },
  {
   "cell_type": "markdown",
   "id": "6e84ac8d",
   "metadata": {
    "papermill": {
     "duration": 0.039465,
     "end_time": "2022-10-13T15:15:22.741048",
     "exception": false,
     "start_time": "2022-10-13T15:15:22.701583",
     "status": "completed"
    },
    "tags": []
   },
   "source": [
    "# Highly Correlated Features\n",
    "There are no highly correlated variables above 80%. Therefore, we do not need to be concerned about removing variables that are too highly correlated. "
   ]
  },
  {
   "cell_type": "markdown",
   "id": "4856042d",
   "metadata": {
    "papermill": {
     "duration": 0.038858,
     "end_time": "2022-10-13T15:15:22.819702",
     "exception": false,
     "start_time": "2022-10-13T15:15:22.780844",
     "status": "completed"
    },
    "tags": []
   },
   "source": [
    "# K-Nearest Neighbors (KNN)\n",
    "Initial tuning provides around a .59 AUC. This model does not seem to be very effective on this dataset."
   ]
  },
  {
   "cell_type": "markdown",
   "id": "93cd4610",
   "metadata": {
    "papermill": {
     "duration": 0.038393,
     "end_time": "2022-10-13T15:15:22.896776",
     "exception": false,
     "start_time": "2022-10-13T15:15:22.858383",
     "status": "completed"
    },
    "tags": []
   },
   "source": [
    "n_neighbors = 3 provides the least amount of error:"
   ]
  },
  {
   "cell_type": "code",
   "execution_count": 13,
   "id": "42c7615e",
   "metadata": {
    "execution": {
     "iopub.execute_input": "2022-10-13T15:15:22.978893Z",
     "iopub.status.busy": "2022-10-13T15:15:22.978550Z",
     "iopub.status.idle": "2022-10-13T15:15:22.986695Z",
     "shell.execute_reply": "2022-10-13T15:15:22.986160Z"
    },
    "papermill": {
     "duration": 0.052753,
     "end_time": "2022-10-13T15:15:22.988304",
     "exception": false,
     "start_time": "2022-10-13T15:15:22.935551",
     "status": "completed"
    },
    "tags": []
   },
   "outputs": [],
   "source": [
    "from sklearn.neighbors import KNeighborsClassifier, KNeighborsRegressor\n",
    "\n",
    "def knnError():\n",
    "    numbers=list(range(1, 16, 2))\n",
    "    error_rates = []\n",
    "    accList=[]\n",
    "    for n in numbers: #Must be an odd number to break a tie\n",
    "        new_model = KNeighborsClassifier(n_neighbors =  n)\n",
    "        new_model.fit(X_train, y_train)\n",
    "        y_pred = new_model.predict(X_test)\n",
    "        error_rates.append(np.mean( y_pred != y_test))\n",
    "        knn_auc = round( metrics.roc_auc_score(y_test,  y_pred), 4 ) \n",
    "        accList.append(knn_auc)\n",
    "    plt.plot(numbers, error_rates)\n",
    "    plt.title(\"KNN Error n_neighbors\")\n",
    "    plt.xlabel(\"n_neighbors\")\n",
    "    plt.ylabel(\"Error Rate\")\n",
    "    plt.show()\n",
    "    \n",
    "    plt.plot(numbers, accList)\n",
    "    plt.title(\"Knn Accuracy \")\n",
    "    plt.xlabel(\"n_neighbors\")\n",
    "    plt.ylabel(\"Accuracy\")\n",
    "    plt.show()\n",
    "#knnError() "
   ]
  },
  {
   "cell_type": "code",
   "execution_count": 14,
   "id": "80d0cc9b",
   "metadata": {
    "execution": {
     "iopub.execute_input": "2022-10-13T15:15:23.068760Z",
     "iopub.status.busy": "2022-10-13T15:15:23.068219Z",
     "iopub.status.idle": "2022-10-13T15:15:23.074519Z",
     "shell.execute_reply": "2022-10-13T15:15:23.074009Z"
    },
    "papermill": {
     "duration": 0.048332,
     "end_time": "2022-10-13T15:15:23.076201",
     "exception": false,
     "start_time": "2022-10-13T15:15:23.027869",
     "status": "completed"
    },
    "tags": []
   },
   "outputs": [],
   "source": [
    "def knnLeaf():\n",
    "    error_rates = []\n",
    "    accList=[]\n",
    "    numbers=list(range(1,50))\n",
    "    for n in numbers: \n",
    "        new_model = KNeighborsClassifier(leaf_size =  n)\n",
    "        new_model.fit(X_train, y_train)\n",
    "        y_pred = new_model.predict(X_test)\n",
    "        error_rates.append(np.mean(y_pred != y_test))\n",
    "        knn_auc = round( metrics.roc_auc_score(y_test,  y_pred), 4 ) \n",
    "        accList.append(knn_auc)\n",
    "        #print(\"Knn AUC: \", knn_auc)\n",
    "    plt.plot(numbers, error_rates)\n",
    "    plt.title(\"KNN Error\")\n",
    "    plt.xlabel(\"leaf_size\")\n",
    "    plt.ylabel(\"Error Rate\")\n",
    "    plt.show()\n",
    "    \n",
    "    plt.plot(numbers, accList)\n",
    "    plt.title(\"Knn Accuracy \")\n",
    "    plt.xlabel(\"leaf_size\")\n",
    "    plt.ylabel(\"Accuracy\")\n",
    "    plt.show()\n",
    "#knnLeaf() "
   ]
  },
  {
   "cell_type": "markdown",
   "id": "c04755f5",
   "metadata": {
    "papermill": {
     "duration": 0.038667,
     "end_time": "2022-10-13T15:15:23.153895",
     "exception": false,
     "start_time": "2022-10-13T15:15:23.115228",
     "status": "completed"
    },
    "tags": []
   },
   "source": [
    "# KNN GridSearch"
   ]
  },
  {
   "cell_type": "code",
   "execution_count": 15,
   "id": "dc10a45f",
   "metadata": {
    "execution": {
     "iopub.execute_input": "2022-10-13T15:15:23.234275Z",
     "iopub.status.busy": "2022-10-13T15:15:23.233981Z",
     "iopub.status.idle": "2022-10-13T15:15:23.239102Z",
     "shell.execute_reply": "2022-10-13T15:15:23.238554Z"
    },
    "papermill": {
     "duration": 0.04723,
     "end_time": "2022-10-13T15:15:23.240756",
     "exception": false,
     "start_time": "2022-10-13T15:15:23.193526",
     "status": "completed"
    },
    "tags": []
   },
   "outputs": [],
   "source": [
    "def knnGrid():\n",
    "    n_neighbors = list(range(1, 16, 2))\n",
    "    p=[1,2]\n",
    "\n",
    "    print(\"start\")\n",
    "    params=dict(n_neighbors=n_neighbors, p=p, metric= ['euclidean', 'manhattan'])\n",
    "    grid=GridSearchCV(KNeighborsClassifier(), params, cv=5, scoring='accuracy')\n",
    "    knnGrid=grid.fit(X, y)\n",
    "    print(knnGrid.best_estimator_)\n",
    "#knnGrid()"
   ]
  },
  {
   "cell_type": "markdown",
   "id": "0e0e49bd",
   "metadata": {
    "papermill": {
     "duration": 0.039119,
     "end_time": "2022-10-13T15:15:23.319342",
     "exception": false,
     "start_time": "2022-10-13T15:15:23.280223",
     "status": "completed"
    },
    "tags": []
   },
   "source": [
    "# Final KNN Prediction"
   ]
  },
  {
   "cell_type": "code",
   "execution_count": 16,
   "id": "903ce37c",
   "metadata": {
    "execution": {
     "iopub.execute_input": "2022-10-13T15:15:23.400543Z",
     "iopub.status.busy": "2022-10-13T15:15:23.400061Z",
     "iopub.status.idle": "2022-10-13T15:15:23.415292Z",
     "shell.execute_reply": "2022-10-13T15:15:23.414210Z"
    },
    "papermill": {
     "duration": 0.058542,
     "end_time": "2022-10-13T15:15:23.417401",
     "exception": false,
     "start_time": "2022-10-13T15:15:23.358859",
     "status": "completed"
    },
    "tags": []
   },
   "outputs": [
    {
     "name": "stdout",
     "output_type": "stream",
     "text": [
      "Knn AUC:  0.6723\n",
      "MSE  0.4751\n"
     ]
    }
   ],
   "source": [
    "knnFinal = KNeighborsClassifier(n_neighbors =15, p=1, metric='manhattan')\n",
    "\n",
    "#FIT and PREDICT:\n",
    "knnFinal.fit(X_train, y_train)\n",
    "y_pred =  knnFinal.predict_proba(X_test)[::,1]\n",
    "\n",
    "#calculate AUC of model\n",
    "knn_auc = round( metrics.roc_auc_score(y_test, y_pred ), 4 ) \n",
    "print(\"Knn AUC: \", knn_auc)\n",
    "error = round(sqrt(mean_squared_error(y_test, y_pred )), 4)\n",
    "print(\"MSE \", error)"
   ]
  },
  {
   "cell_type": "markdown",
   "id": "293455c9",
   "metadata": {
    "papermill": {
     "duration": 0.039724,
     "end_time": "2022-10-13T15:15:23.497489",
     "exception": false,
     "start_time": "2022-10-13T15:15:23.457765",
     "status": "completed"
    },
    "tags": []
   },
   "source": [
    "# Support Vector \n",
    "The initial results for SVM AUC with no parameter tunning is 0.5336.  The model does not seem worth investing lots of time into due to poor AUC performance. \n",
    "\n",
    "#### GridSearch Tune\n",
    "The best parameters from tunning SVM is SVC(C=1000, gamma=0.0001)."
   ]
  },
  {
   "cell_type": "code",
   "execution_count": 17,
   "id": "f4d5a662",
   "metadata": {
    "execution": {
     "iopub.execute_input": "2022-10-13T15:15:23.579428Z",
     "iopub.status.busy": "2022-10-13T15:15:23.579137Z",
     "iopub.status.idle": "2022-10-13T15:15:23.583466Z",
     "shell.execute_reply": "2022-10-13T15:15:23.582468Z"
    },
    "papermill": {
     "duration": 0.047807,
     "end_time": "2022-10-13T15:15:23.585304",
     "exception": false,
     "start_time": "2022-10-13T15:15:23.537497",
     "status": "completed"
    },
    "tags": []
   },
   "outputs": [],
   "source": [
    "from sklearn.svm import SVC"
   ]
  },
  {
   "cell_type": "code",
   "execution_count": 18,
   "id": "6454ea1c",
   "metadata": {
    "execution": {
     "iopub.execute_input": "2022-10-13T15:15:23.666363Z",
     "iopub.status.busy": "2022-10-13T15:15:23.665580Z",
     "iopub.status.idle": "2022-10-13T15:15:25.064010Z",
     "shell.execute_reply": "2022-10-13T15:15:25.062102Z"
    },
    "papermill": {
     "duration": 1.441443,
     "end_time": "2022-10-13T15:15:25.066197",
     "exception": false,
     "start_time": "2022-10-13T15:15:23.624754",
     "status": "completed"
    },
    "tags": []
   },
   "outputs": [
    {
     "data": {
      "image/png": "[encoded data removed]",
      "text/plain": [
       "<Figure size 432x288 with 1 Axes>"
      ]
     },
     "metadata": {
      "needs_background": "light"
     },
     "output_type": "display_data"
    },
    {
     "data": {
      "image/png": "[encoded data removed]",
      "text/plain": [
       "<Figure size 432x288 with 1 Axes>"
      ]
     },
     "metadata": {
      "needs_background": "light"
     },
     "output_type": "display_data"
    }
   ],
   "source": [
    "def svmC():\n",
    "    numbers=[.0001, .001, .01, .1, 1, 10, 100, 1000, 10_000]\n",
    "    maeList=[]\n",
    "    accList=[]\n",
    "    for n in numbers:\n",
    "        svm=SVC(C=n)\n",
    "        svm.fit(X_train, y_train)\n",
    "        y_pred=svm.predict(X_test)\n",
    "        \n",
    "        mae=metrics.mean_absolute_error(y_test, y_pred).round(2)\n",
    "        auc=metrics.roc_auc_score(y_test, y_pred).round(4)\n",
    "        maeList.append(mae)\n",
    "        accList.append(auc)\n",
    "    plt.plot(numbers, accList)\n",
    "    plt.title(\"SVM C\")\n",
    "    plt.xlabel(\"C\")\n",
    "    plt.ylabel(\"Accuracy\")\n",
    "    plt.show()\n",
    "    \n",
    "    plt.plot(numbers, maeList)\n",
    "    plt.title(\"SVM C\")\n",
    "    plt.xlabel(\"C\")\n",
    "    plt.ylabel(\"Error\")\n",
    "    plt.show()\n",
    "svmC()"
   ]
  },
  {
   "cell_type": "code",
   "execution_count": 19,
   "id": "00e96d8a",
   "metadata": {
    "execution": {
     "iopub.execute_input": "2022-10-13T15:15:25.152171Z",
     "iopub.status.busy": "2022-10-13T15:15:25.151587Z",
     "iopub.status.idle": "2022-10-13T15:15:25.159253Z",
     "shell.execute_reply": "2022-10-13T15:15:25.158725Z"
    },
    "papermill": {
     "duration": 0.052861,
     "end_time": "2022-10-13T15:15:25.161154",
     "exception": false,
     "start_time": "2022-10-13T15:15:25.108293",
     "status": "completed"
    },
    "tags": []
   },
   "outputs": [],
   "source": [
    "def svmGamma():\n",
    "    numbers=[.001, .01, .1, 1, 10]\n",
    "    maeList=[]\n",
    "    accList=[]\n",
    "    for n in numbers:\n",
    "        svm=SVC(gamma=n)\n",
    "        svm.fit(X_train, y_train)\n",
    "        y_pred=svm.predict(X_test)\n",
    "        \n",
    "        mae=metrics.mean_absolute_error(y_test, y_pred).round(2)\n",
    "        auc=metrics.roc_auc_score(y_test, y_pred).round(2)\n",
    "        maeList=maeList.append(mae)\n",
    "        accList=accList.append(acc)\n",
    "    plt.plot(numbers, accList)\n",
    "    plt.title(\"SVM Gamma\")\n",
    "    plt.xlabel(\"Gamma\")\n",
    "    plt.ylabel(\"Accuracy\")\n",
    "    plt.show()\n",
    "    \n",
    "    plt.plot(numbers, maeList)\n",
    "    plt.title(\"SVM Gammas\")\n",
    "    plt.xlabel(\"Gamma\")\n",
    "    plt.ylabel(\"Error\")\n",
    "    plt.show()"
   ]
  },
  {
   "cell_type": "code",
   "execution_count": 20,
   "id": "2bc5b879",
   "metadata": {
    "execution": {
     "iopub.execute_input": "2022-10-13T15:15:25.246494Z",
     "iopub.status.busy": "2022-10-13T15:15:25.246041Z",
     "iopub.status.idle": "2022-10-13T15:15:27.324196Z",
     "shell.execute_reply": "2022-10-13T15:15:27.323336Z"
    },
    "papermill": {
     "duration": 2.123912,
     "end_time": "2022-10-13T15:15:27.326280",
     "exception": false,
     "start_time": "2022-10-13T15:15:25.202368",
     "status": "completed"
    },
    "tags": []
   },
   "outputs": [
    {
     "name": "stdout",
     "output_type": "stream",
     "text": [
      "start\n",
      "{'C': 100, 'gamma': 1}\n",
      "SVC(C=100, gamma=1)\n"
     ]
    }
   ],
   "source": [
    "def svmGrid():\n",
    "    print(\"start\")\n",
    "    param_grid = {'C': [100, 1000, 10_000],\n",
    "                  'gamma': [1, 0.1, 0.01, 0.001],\n",
    "                 #'kernel': ['linear']\n",
    "                 }\n",
    "\n",
    "    grid = GridSearchCV(SVC(), param_grid, refit = True, verbose = False)\n",
    "    grid.fit(X_train, y_train)\n",
    "    print(grid.best_params_)\n",
    "    print(grid.best_estimator_)\n",
    "svmGrid()"
   ]
  },
  {
   "cell_type": "markdown",
   "id": "3a80b456",
   "metadata": {
    "papermill": {
     "duration": 0.042846,
     "end_time": "2022-10-13T15:15:27.411627",
     "exception": false,
     "start_time": "2022-10-13T15:15:27.368781",
     "status": "completed"
    },
    "tags": []
   },
   "source": [
    "# Final SVM Prediction\n",
    "Best GridSearchCV from above:\n",
    "* SVC(C=1000, gamma=0.0001)\n",
    "* SVC(C=100, gamma=1)"
   ]
  },
  {
   "cell_type": "code",
   "execution_count": 21,
   "id": "89ef1159",
   "metadata": {
    "execution": {
     "iopub.execute_input": "2022-10-13T15:15:27.497802Z",
     "iopub.status.busy": "2022-10-13T15:15:27.497500Z",
     "iopub.status.idle": "2022-10-13T15:15:57.769954Z",
     "shell.execute_reply": "2022-10-13T15:15:57.769076Z"
    },
    "papermill": {
     "duration": 30.318524,
     "end_time": "2022-10-13T15:15:57.772136",
     "exception": false,
     "start_time": "2022-10-13T15:15:27.453612",
     "status": "completed"
    },
    "tags": []
   },
   "outputs": [
    {
     "name": "stdout",
     "output_type": "stream",
     "text": [
      "SVC AUC is:  0.7707\n"
     ]
    },
    {
     "data": {
      "text/plain": [
       "<Figure size 360x504 with 0 Axes>"
      ]
     },
     "metadata": {},
     "output_type": "display_data"
    },
    {
     "data": {
      "image/png": "[encoded data removed]",
      "text/plain": [
       "<Figure size 360x360 with 1 Axes>"
      ]
     },
     "metadata": {
      "needs_background": "light"
     },
     "output_type": "display_data"
    },
    {
     "data": {
      "image/png": "[encoded data removed]",
      "text/plain": [
       "<Figure size 360x360 with 1 Axes>"
      ]
     },
     "metadata": {
      "needs_background": "light"
     },
     "output_type": "display_data"
    }
   ],
   "source": [
    "#Fit and Predict:\n",
    "svmFinal=SVC(C=100, gamma=1, kernel = 'linear')\n",
    "svmFinal.fit(X_train, y_train)\n",
    "y_pred = svmFinal.predict(X_test)\n",
    "\n",
    "#calculate AUC of model\n",
    "svmAUC = metrics.roc_auc_score(y_test, y_pred, multi_class='ovr').round(4)\n",
    "print(\"SVC AUC is: \", svmAUC)\n",
    "\n",
    "svmR2 = r2_score(y_test, y_pred).round(4) \n",
    "svmMAE=metrics.mean_absolute_error(y_test, y_pred).round(4)\n",
    "\n",
    "plt.figure(figsize=(5, 7))\n",
    "ax = sns.displot(y,  color=\"r\", label=\"Actual Value\")\n",
    "sns.displot(y_test, color=\"b\", label=\"Fitted Values\")\n",
    "plt.title('Actual vs Fitted Values')\n",
    "plt.show()"
   ]
  },
  {
   "cell_type": "code",
   "execution_count": 22,
   "id": "86f7d498",
   "metadata": {
    "execution": {
     "iopub.execute_input": "2022-10-13T15:15:57.863184Z",
     "iopub.status.busy": "2022-10-13T15:15:57.862866Z",
     "iopub.status.idle": "2022-10-13T15:19:18.574176Z",
     "shell.execute_reply": "2022-10-13T15:19:18.573578Z"
    },
    "papermill": {
     "duration": 200.758598,
     "end_time": "2022-10-13T15:19:18.576115",
     "exception": false,
     "start_time": "2022-10-13T15:15:57.817517",
     "status": "completed"
    },
    "tags": []
   },
   "outputs": [
    {
     "data": {
      "text/plain": [
       "Text(0.5, 1.0, 'SVM Linear Decision Region Boundary')"
      ]
     },
     "execution_count": 22,
     "metadata": {},
     "output_type": "execute_result"
    },
    {
     "data": {
      "image/png": "[encoded data removed]",
      "text/plain": [
       "<Figure size 432x288 with 1 Axes>"
      ]
     },
     "metadata": {
      "needs_background": "light"
     },
     "output_type": "display_data"
    }
   ],
   "source": [
    "from sklearn.decomposition import PCA\n",
    "from mlxtend.plotting import plot_decision_regions\n",
    "import numpy as np\n",
    "\n",
    "clf = SVC(C=1000, gamma=0.0001, kernel = 'linear')\n",
    "pca = PCA(n_components = 2)\n",
    "X_train2 = pca.fit_transform(np.array(X_train))\n",
    "y_train2=np.array(y_train)\n",
    "clf.fit(X_train2, y_train2)\n",
    "plot_decision_regions(X_train2, y_train2, clf=clf, legend=2)\n",
    "\n",
    "plt.xlabel(X.columns[0], size=14)\n",
    "plt.ylabel(X.columns[1], size=14)\n",
    "plt.title('SVM Linear Decision Region Boundary', size=16)"
   ]
  },
  {
   "cell_type": "code",
   "execution_count": 23,
   "id": "6777dc2a",
   "metadata": {
    "execution": {
     "iopub.execute_input": "2022-10-13T15:19:18.674102Z",
     "iopub.status.busy": "2022-10-13T15:19:18.673567Z",
     "iopub.status.idle": "2022-10-13T15:19:22.577216Z",
     "shell.execute_reply": "2022-10-13T15:19:22.576311Z"
    },
    "papermill": {
     "duration": 3.955325,
     "end_time": "2022-10-13T15:19:22.579427",
     "exception": false,
     "start_time": "2022-10-13T15:19:18.624102",
     "status": "completed"
    },
    "tags": []
   },
   "outputs": [
    {
     "data": {
      "text/plain": [
       "Text(0.5, 1.0, 'SVM rbf Decision Region Boundary')"
      ]
     },
     "execution_count": 23,
     "metadata": {},
     "output_type": "execute_result"
    },
    {
     "data": {
      "image/png": "[encoded data removed]",
      "text/plain": [
       "<Figure size 432x288 with 1 Axes>"
      ]
     },
     "metadata": {
      "needs_background": "light"
     },
     "output_type": "display_data"
    }
   ],
   "source": [
    "clf = SVC(C=1000, gamma=0.0001, kernel = 'rbf')\n",
    "pca = PCA(n_components = 2)\n",
    "X_train2 = pca.fit_transform(np.array(X_train))\n",
    "y_train2=np.array(y_train)\n",
    "clf.fit(X_train2, y_train2)\n",
    "plot_decision_regions(X_train2, y_train2, clf=clf, legend=2)\n",
    "\n",
    "plt.xlabel(X.columns[0], size=14)\n",
    "plt.ylabel(X.columns[1], size=14)\n",
    "plt.title('SVM rbf Decision Region Boundary', size=16)"
   ]
  },
  {
   "cell_type": "code",
   "execution_count": 24,
   "id": "4b5bc941",
   "metadata": {
    "execution": {
     "iopub.execute_input": "2022-10-13T15:19:22.682184Z",
     "iopub.status.busy": "2022-10-13T15:19:22.681615Z",
     "iopub.status.idle": "2022-10-13T15:24:15.652574Z",
     "shell.execute_reply": "2022-10-13T15:24:15.651629Z"
    },
    "papermill": {
     "duration": 293.024437,
     "end_time": "2022-10-13T15:24:15.654550",
     "exception": false,
     "start_time": "2022-10-13T15:19:22.630113",
     "status": "completed"
    },
    "tags": []
   },
   "outputs": [
    {
     "data": {
      "text/plain": [
       "Text(0.5, 1.0, 'SVM poly Decision Region Boundary')"
      ]
     },
     "execution_count": 24,
     "metadata": {},
     "output_type": "execute_result"
    },
    {
     "data": {
      "image/png": "[encoded data removed]",
      "text/plain": [
       "<Figure size 432x288 with 1 Axes>"
      ]
     },
     "metadata": {
      "needs_background": "light"
     },
     "output_type": "display_data"
    }
   ],
   "source": [
    "clf = SVC(C=1000, gamma=0.0001, kernel = 'poly')\n",
    "pca = PCA(n_components = 2)\n",
    "X_train2 = pca.fit_transform(np.array(X_train))\n",
    "y_train2=np.array(y_train)\n",
    "clf.fit(X_train2, y_train2)\n",
    "plot_decision_regions(X_train2, y_train2, clf=clf, legend=2)\n",
    "\n",
    "plt.xlabel(X.columns[0], size=14)\n",
    "plt.ylabel(X.columns[1], size=14)\n",
    "plt.title('SVM poly Decision Region Boundary', size=16)"
   ]
  },
  {
   "cell_type": "code",
   "execution_count": 25,
   "id": "0575d992",
   "metadata": {
    "execution": {
     "iopub.execute_input": "2022-10-13T15:24:15.760620Z",
     "iopub.status.busy": "2022-10-13T15:24:15.760265Z",
     "iopub.status.idle": "2022-10-13T15:24:18.595738Z",
     "shell.execute_reply": "2022-10-13T15:24:18.594784Z"
    },
    "papermill": {
     "duration": 2.891633,
     "end_time": "2022-10-13T15:24:18.598372",
     "exception": false,
     "start_time": "2022-10-13T15:24:15.706739",
     "status": "completed"
    },
    "tags": []
   },
   "outputs": [
    {
     "data": {
      "text/plain": [
       "Text(0.5, 1.0, 'SVM sigmoid Decision Region Boundary')"
      ]
     },
     "execution_count": 25,
     "metadata": {},
     "output_type": "execute_result"
    },
    {
     "data": {
      "image/png": "[encoded data removed]",
      "text/plain": [
       "<Figure size 432x288 with 1 Axes>"
      ]
     },
     "metadata": {
      "needs_background": "light"
     },
     "output_type": "display_data"
    }
   ],
   "source": [
    "clf = SVC(C=1000, gamma=0.0001, kernel = 'sigmoid')\n",
    "pca = PCA(n_components = 2)\n",
    "X_train2 = pca.fit_transform(np.array(X_train))\n",
    "y_train2=np.array(y_train)\n",
    "clf.fit(X_train2, y_train2)\n",
    "plot_decision_regions(X_train2, y_train2, clf=clf, legend=2)\n",
    "\n",
    "plt.xlabel(X.columns[0], size=14)\n",
    "plt.ylabel(X.columns[1], size=14)\n",
    "plt.title('SVM sigmoid Decision Region Boundary', size=16)"
   ]
  },
  {
   "cell_type": "markdown",
   "id": "8909b624",
   "metadata": {
    "papermill": {
     "duration": 0.053988,
     "end_time": "2022-10-13T15:24:18.707177",
     "exception": false,
     "start_time": "2022-10-13T15:24:18.653189",
     "status": "completed"
    },
    "tags": []
   },
   "source": [
    "# Test Data"
   ]
  },
  {
   "cell_type": "code",
   "execution_count": 26,
   "id": "5f91ca1a",
   "metadata": {
    "execution": {
     "iopub.execute_input": "2022-10-13T15:24:18.816536Z",
     "iopub.status.busy": "2022-10-13T15:24:18.816099Z",
     "iopub.status.idle": "2022-10-13T15:24:18.834234Z",
     "shell.execute_reply": "2022-10-13T15:24:18.833402Z"
    },
    "papermill": {
     "duration": 0.075449,
     "end_time": "2022-10-13T15:24:18.836428",
     "exception": false,
     "start_time": "2022-10-13T15:24:18.760979",
     "status": "completed"
    },
    "tags": []
   },
   "outputs": [
    {
     "data": {
      "text/html": [
       "<div>\n",
       "<style scoped>\n",
       "    .dataframe tbody tr th:only-of-type {\n",
       "        vertical-align: middle;\n",
       "    }\n",
       "\n",
       "    .dataframe tbody tr th {\n",
       "        vertical-align: top;\n",
       "    }\n",
       "\n",
       "    .dataframe thead th {\n",
       "        text-align: right;\n",
       "    }\n",
       "</style>\n",
       "<table border=\"1\" class=\"dataframe\">\n",
       "  <thead>\n",
       "    <tr style=\"text-align: right;\">\n",
       "      <th></th>\n",
       "      <th>PassengerId</th>\n",
       "      <th>Pclass</th>\n",
       "      <th>Sex</th>\n",
       "      <th>Age</th>\n",
       "      <th>SibSp</th>\n",
       "      <th>Parch</th>\n",
       "      <th>Fare</th>\n",
       "    </tr>\n",
       "  </thead>\n",
       "  <tbody>\n",
       "    <tr>\n",
       "      <th>0</th>\n",
       "      <td>892</td>\n",
       "      <td>3</td>\n",
       "      <td>1</td>\n",
       "      <td>34.5</td>\n",
       "      <td>0</td>\n",
       "      <td>0</td>\n",
       "      <td>7.8292</td>\n",
       "    </tr>\n",
       "    <tr>\n",
       "      <th>1</th>\n",
       "      <td>893</td>\n",
       "      <td>3</td>\n",
       "      <td>0</td>\n",
       "      <td>47.0</td>\n",
       "      <td>1</td>\n",
       "      <td>0</td>\n",
       "      <td>7.0000</td>\n",
       "    </tr>\n",
       "    <tr>\n",
       "      <th>2</th>\n",
       "      <td>894</td>\n",
       "      <td>2</td>\n",
       "      <td>1</td>\n",
       "      <td>62.0</td>\n",
       "      <td>0</td>\n",
       "      <td>0</td>\n",
       "      <td>9.6875</td>\n",
       "    </tr>\n",
       "    <tr>\n",
       "      <th>3</th>\n",
       "      <td>895</td>\n",
       "      <td>3</td>\n",
       "      <td>1</td>\n",
       "      <td>27.0</td>\n",
       "      <td>0</td>\n",
       "      <td>0</td>\n",
       "      <td>8.6625</td>\n",
       "    </tr>\n",
       "    <tr>\n",
       "      <th>4</th>\n",
       "      <td>896</td>\n",
       "      <td>3</td>\n",
       "      <td>0</td>\n",
       "      <td>22.0</td>\n",
       "      <td>1</td>\n",
       "      <td>1</td>\n",
       "      <td>12.2875</td>\n",
       "    </tr>\n",
       "  </tbody>\n",
       "</table>\n",
       "</div>"
      ],
      "text/plain": [
       "   PassengerId  Pclass  Sex   Age  SibSp  Parch     Fare\n",
       "0          892       3    1  34.5      0      0   7.8292\n",
       "1          893       3    0  47.0      1      0   7.0000\n",
       "2          894       2    1  62.0      0      0   9.6875\n",
       "3          895       3    1  27.0      0      0   8.6625\n",
       "4          896       3    0  22.0      1      1  12.2875"
      ]
     },
     "execution_count": 26,
     "metadata": {},
     "output_type": "execute_result"
    }
   ],
   "source": [
    "#GENDER\n",
    "test['Sex']=test['Sex'].map({'female':0,'male':1})\n",
    "\n",
    "features=list(X.columns)\n",
    "test=test[features]\n",
    "\n",
    "test=test.fillna(test.mean())\n",
    "test.head()"
   ]
  },
  {
   "cell_type": "markdown",
   "id": "506b9546",
   "metadata": {
    "papermill": {
     "duration": 0.071469,
     "end_time": "2022-10-13T15:24:18.963771",
     "exception": false,
     "start_time": "2022-10-13T15:24:18.892302",
     "status": "completed"
    },
    "tags": []
   },
   "source": [
    "# Final Prediction"
   ]
  },
  {
   "cell_type": "code",
   "execution_count": 27,
   "id": "bde0a69e",
   "metadata": {
    "execution": {
     "iopub.execute_input": "2022-10-13T15:24:19.085952Z",
     "iopub.status.busy": "2022-10-13T15:24:19.085472Z",
     "iopub.status.idle": "2022-10-13T15:24:19.100921Z",
     "shell.execute_reply": "2022-10-13T15:24:19.100089Z"
    },
    "papermill": {
     "duration": 0.074654,
     "end_time": "2022-10-13T15:24:19.103041",
     "exception": false,
     "start_time": "2022-10-13T15:24:19.028387",
     "status": "completed"
    },
    "tags": []
   },
   "outputs": [
    {
     "data": {
      "text/html": [
       "<div>\n",
       "<style scoped>\n",
       "    .dataframe tbody tr th:only-of-type {\n",
       "        vertical-align: middle;\n",
       "    }\n",
       "\n",
       "    .dataframe tbody tr th {\n",
       "        vertical-align: top;\n",
       "    }\n",
       "\n",
       "    .dataframe thead th {\n",
       "        text-align: right;\n",
       "    }\n",
       "</style>\n",
       "<table border=\"1\" class=\"dataframe\">\n",
       "  <thead>\n",
       "    <tr style=\"text-align: right;\">\n",
       "      <th></th>\n",
       "      <th>PassengerId</th>\n",
       "      <th>Survived</th>\n",
       "    </tr>\n",
       "  </thead>\n",
       "  <tbody>\n",
       "    <tr>\n",
       "      <th>0</th>\n",
       "      <td>892</td>\n",
       "      <td>0</td>\n",
       "    </tr>\n",
       "    <tr>\n",
       "      <th>1</th>\n",
       "      <td>893</td>\n",
       "      <td>0</td>\n",
       "    </tr>\n",
       "    <tr>\n",
       "      <th>2</th>\n",
       "      <td>894</td>\n",
       "      <td>0</td>\n",
       "    </tr>\n",
       "    <tr>\n",
       "      <th>3</th>\n",
       "      <td>895</td>\n",
       "      <td>0</td>\n",
       "    </tr>\n",
       "    <tr>\n",
       "      <th>4</th>\n",
       "      <td>896</td>\n",
       "      <td>0</td>\n",
       "    </tr>\n",
       "    <tr>\n",
       "      <th>5</th>\n",
       "      <td>897</td>\n",
       "      <td>0</td>\n",
       "    </tr>\n",
       "    <tr>\n",
       "      <th>6</th>\n",
       "      <td>898</td>\n",
       "      <td>0</td>\n",
       "    </tr>\n",
       "  </tbody>\n",
       "</table>\n",
       "</div>"
      ],
      "text/plain": [
       "   PassengerId  Survived\n",
       "0          892         0\n",
       "1          893         0\n",
       "2          894         0\n",
       "3          895         0\n",
       "4          896         0\n",
       "5          897         0\n",
       "6          898         0"
      ]
     },
     "execution_count": 27,
     "metadata": {},
     "output_type": "execute_result"
    }
   ],
   "source": [
    "test_predictions = svmFinal.predict(test)\n",
    "passID=test['PassengerId']\n",
    "tupleData = list(zip(passID, test_predictions))\n",
    "output = pd.DataFrame(tupleData, columns = ['PassengerId', 'Survived'])\n",
    "output.head(7)"
   ]
  },
  {
   "cell_type": "code",
   "execution_count": 28,
   "id": "f10c15ad",
   "metadata": {
    "execution": {
     "iopub.execute_input": "2022-10-13T15:24:19.216803Z",
     "iopub.status.busy": "2022-10-13T15:24:19.216496Z",
     "iopub.status.idle": "2022-10-13T15:24:19.225091Z",
     "shell.execute_reply": "2022-10-13T15:24:19.223922Z"
    },
    "papermill": {
     "duration": 0.069051,
     "end_time": "2022-10-13T15:24:19.227148",
     "exception": false,
     "start_time": "2022-10-13T15:24:19.158097",
     "status": "completed"
    },
    "tags": []
   },
   "outputs": [
    {
     "name": "stdout",
     "output_type": "stream",
     "text": [
      "Your submission was successfully saved!\n"
     ]
    }
   ],
   "source": [
    "output.to_csv('submission.csv', index=False)\n",
    "print(\"Your submission was successfully saved!\")"
   ]
  },
  {
   "cell_type": "markdown",
   "id": "1775079a",
   "metadata": {
    "papermill": {
     "duration": 0.054797,
     "end_time": "2022-10-13T15:24:19.337199",
     "exception": false,
     "start_time": "2022-10-13T15:24:19.282402",
     "status": "completed"
    },
    "tags": []
   },
   "source": [
    "#### Notes:\n",
    "Being a wife makes no difference in the final prediction: <br>\n",
    "` df['Titles'] = df['Name'].str.extract(r', (\\w+\\.)') \n",
    "df['Titles'] = df['Titles'].apply(lambda x: 1 if x=='Mrs.' else 0) `"
   ]
  }
 ],
 "metadata": {
  "kernelspec": {
   "display_name": "Python 3",
   "language": "python",
   "name": "python3"
  },
  "language_info": {
   "codemirror_mode": {
    "name": "ipython",
    "version": 3
   },
   "file_extension": ".py",
   "mimetype": "text/x-python",
   "name": "python",
   "nbconvert_exporter": "python",
   "pygments_lexer": "ipython3",
   "version": "3.7.12"
  },
  "papermill": {
   "default_parameters": {},
   "duration": 549.885112,
   "end_time": "2022-10-13T15:24:20.215356",
   "environment_variables": {},
   "exception": null,
   "input_path": "__notebook__.ipynb",
   "output_path": "__notebook__.ipynb",
   "parameters": {},
   "start_time": "2022-10-13T15:15:10.330244",
   "version": "2.3.4"
  }
 },
 "nbformat": 4,
 "nbformat_minor": 5
}
