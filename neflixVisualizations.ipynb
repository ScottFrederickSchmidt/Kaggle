{
 "cells": [
  {
   "cell_type": "markdown",
   "metadata": {
    "execution": {
     "iopub.execute_input": "2022-02-12T22:08:15.83447Z",
     "iopub.status.busy": "2022-02-12T22:08:15.834249Z",
     "iopub.status.idle": "2022-02-12T22:08:16.850405Z",
     "shell.execute_reply": "2022-02-12T22:08:16.849873Z",
     "shell.execute_reply.started": "2022-02-12T22:08:15.834449Z"
    }
   },
   "source": [
    "# Netflix Shows \n",
    "Analyze the data and generate insights that could help Netflix decide which type of shows/movies to produce and how to grow the business.\n",
    "\n",
    "The main variable analyzed will be the user rating score. We will analyze correlations and use graphs to show how level rating (ie. pg13, R, pg) and release year can impact the likability of a Neftflix show.\n",
    "\n",
    "## View Train Data"
   ]
  },
  {
   "cell_type": "code",
   "execution_count": 1,
   "metadata": {
    "execution": {
     "iopub.execute_input": "2022-02-24T02:57:06.314314Z",
     "iopub.status.busy": "2022-02-24T02:57:06.314002Z",
     "iopub.status.idle": "2022-02-24T02:57:06.338338Z",
     "shell.execute_reply": "2022-02-24T02:57:06.337736Z",
     "shell.execute_reply.started": "2022-02-24T02:57:06.314278Z"
    }
   },
   "outputs": [
    {
     "data": {
      "text/html": [
       "<div>\n",
       "<style scoped>\n",
       "    .dataframe tbody tr th:only-of-type {\n",
       "        vertical-align: middle;\n",
       "    }\n",
       "\n",
       "    .dataframe tbody tr th {\n",
       "        vertical-align: top;\n",
       "    }\n",
       "\n",
       "    .dataframe thead th {\n",
       "        text-align: right;\n",
       "    }\n",
       "</style>\n",
       "<table border=\"1\" class=\"dataframe\">\n",
       "  <thead>\n",
       "    <tr style=\"text-align: right;\">\n",
       "      <th></th>\n",
       "      <th>title</th>\n",
       "      <th>rating</th>\n",
       "      <th>ratingLevel</th>\n",
       "      <th>ratingDescription</th>\n",
       "      <th>release year</th>\n",
       "      <th>user rating score</th>\n",
       "      <th>user rating size</th>\n",
       "    </tr>\n",
       "  </thead>\n",
       "  <tbody>\n",
       "    <tr>\n",
       "      <th>0</th>\n",
       "      <td>White Chicks</td>\n",
       "      <td>PG-13</td>\n",
       "      <td>crude and sexual humor, language and some drug...</td>\n",
       "      <td>80</td>\n",
       "      <td>2004</td>\n",
       "      <td>82.0</td>\n",
       "      <td>80</td>\n",
       "    </tr>\n",
       "    <tr>\n",
       "      <th>1</th>\n",
       "      <td>Lucky Number Slevin</td>\n",
       "      <td>R</td>\n",
       "      <td>strong violence, sexual content and adult lang...</td>\n",
       "      <td>100</td>\n",
       "      <td>2006</td>\n",
       "      <td>NaN</td>\n",
       "      <td>82</td>\n",
       "    </tr>\n",
       "    <tr>\n",
       "      <th>2</th>\n",
       "      <td>Grey's Anatomy</td>\n",
       "      <td>TV-14</td>\n",
       "      <td>Parents strongly cautioned. May be unsuitable ...</td>\n",
       "      <td>90</td>\n",
       "      <td>2016</td>\n",
       "      <td>98.0</td>\n",
       "      <td>80</td>\n",
       "    </tr>\n",
       "    <tr>\n",
       "      <th>3</th>\n",
       "      <td>Prison Break</td>\n",
       "      <td>TV-14</td>\n",
       "      <td>Parents strongly cautioned. May be unsuitable ...</td>\n",
       "      <td>90</td>\n",
       "      <td>2008</td>\n",
       "      <td>98.0</td>\n",
       "      <td>80</td>\n",
       "    </tr>\n",
       "    <tr>\n",
       "      <th>4</th>\n",
       "      <td>How I Met Your Mother</td>\n",
       "      <td>TV-PG</td>\n",
       "      <td>Parental guidance suggested. May not be suitab...</td>\n",
       "      <td>70</td>\n",
       "      <td>2014</td>\n",
       "      <td>94.0</td>\n",
       "      <td>80</td>\n",
       "    </tr>\n",
       "  </tbody>\n",
       "</table>\n",
       "</div>"
      ],
      "text/plain": [
       "                   title rating  \\\n",
       "0           White Chicks  PG-13   \n",
       "1    Lucky Number Slevin      R   \n",
       "2         Grey's Anatomy  TV-14   \n",
       "3           Prison Break  TV-14   \n",
       "4  How I Met Your Mother  TV-PG   \n",
       "\n",
       "                                         ratingLevel  ratingDescription  \\\n",
       "0  crude and sexual humor, language and some drug...                 80   \n",
       "1  strong violence, sexual content and adult lang...                100   \n",
       "2  Parents strongly cautioned. May be unsuitable ...                 90   \n",
       "3  Parents strongly cautioned. May be unsuitable ...                 90   \n",
       "4  Parental guidance suggested. May not be suitab...                 70   \n",
       "\n",
       "   release year  user rating score  user rating size  \n",
       "0          2004               82.0                80  \n",
       "1          2006                NaN                82  \n",
       "2          2016               98.0                80  \n",
       "3          2008               98.0                80  \n",
       "4          2014               94.0                80  "
      ]
     },
     "execution_count": 1,
     "metadata": {},
     "output_type": "execute_result"
    }
   ],
   "source": [
    "import numpy as np\n",
    "import pandas as pd\n",
    "import seaborn as sns\n",
    "import matplotlib.pyplot as plt\n",
    "\n",
    "#Read Files:\n",
    "#netflix=r'/kaggle/input/netflix-showse/netflix.csv'\n",
    "netflix=r'C:\\Users\\sschm\\Desktop\\Kaggle\\netflix.csv'\n",
    "data=pd.read_csv(netflix)\n",
    "\n",
    "#Drop Duplicates:\n",
    "data=data.drop_duplicates()\n",
    "\n",
    "#Display Data:\n",
    "data.head()"
   ]
  },
  {
   "cell_type": "markdown",
   "metadata": {},
   "source": [
    "### Drop NaN values from user rating score column\n",
    "Since user rating score is the main feature we are trying to analyze, we must delete those rows."
   ]
  },
  {
   "cell_type": "code",
   "execution_count": 2,
   "metadata": {
    "execution": {
     "iopub.execute_input": "2022-02-24T02:57:06.340301Z",
     "iopub.status.busy": "2022-02-24T02:57:06.339679Z",
     "iopub.status.idle": "2022-02-24T02:57:06.349805Z",
     "shell.execute_reply": "2022-02-24T02:57:06.349070Z",
     "shell.execute_reply.started": "2022-02-24T02:57:06.340269Z"
    }
   },
   "outputs": [
    {
     "name": "stdout",
     "output_type": "stream",
     "text": [
      "user rating score    0.488\n",
      "ratingLevel          0.066\n",
      "title                0.000\n",
      "rating               0.000\n",
      "ratingDescription    0.000\n",
      "release year         0.000\n",
      "user rating size     0.000\n",
      "dtype: float64\n"
     ]
    }
   ],
   "source": [
    "findNA=data.isnull().sum().sort_values(ascending=False)/len(data)\n",
    "print(findNA)\n",
    "df = data.dropna(subset=['user rating score'])"
   ]
  },
  {
   "cell_type": "markdown",
   "metadata": {},
   "source": [
    "## Search for Outliers:\n",
    "Since the last column is the size of the sample, I check all values for that column. If a certain movie has a very small sample size, that movie should be conisdered to be deleted. In this case, all the sample sizes were 80 so there are no outliers that need to be removed."
   ]
  },
  {
   "cell_type": "code",
   "execution_count": 3,
   "metadata": {
    "execution": {
     "iopub.execute_input": "2022-02-24T02:57:06.351258Z",
     "iopub.status.busy": "2022-02-24T02:57:06.350787Z",
     "iopub.status.idle": "2022-02-24T02:57:06.356847Z",
     "shell.execute_reply": "2022-02-24T02:57:06.356217Z",
     "shell.execute_reply.started": "2022-02-24T02:57:06.351233Z"
    }
   },
   "outputs": [
    {
     "data": {
      "text/plain": [
       "array([80], dtype=int64)"
      ]
     },
     "execution_count": 3,
     "metadata": {},
     "output_type": "execute_result"
    }
   ],
   "source": [
    "df['user rating size'].unique()"
   ]
  },
  {
   "cell_type": "markdown",
   "metadata": {},
   "source": [
    "## Show Rating Level Impacts Rating  \n",
    "Neflix users emjoy the TV-MA, R, and TV-14 shows the most. This is not a huge surprise as most of the popular netflix shows tend to be for adult audience such as Squid Games, Breaking Bad, and The Walking Dead.\n"
   ]
  },
  {
   "cell_type": "code",
   "execution_count": 4,
   "metadata": {
    "execution": {
     "iopub.execute_input": "2022-02-24T02:57:06.359003Z",
     "iopub.status.busy": "2022-02-24T02:57:06.358415Z",
     "iopub.status.idle": "2022-02-24T02:57:06.591765Z",
     "shell.execute_reply": "2022-02-24T02:57:06.590855Z",
     "shell.execute_reply.started": "2022-02-24T02:57:06.358971Z"
    }
   },
   "outputs": [
    {
     "data": {
      "image/png": "[encoded data removed]",
      "text/plain": [
       "<Figure size 432x288 with 1 Axes>"
      ]
     },
     "metadata": {
      "needs_background": "light"
     },
     "output_type": "display_data"
    }
   ],
   "source": [
    "ratingGb=df.groupby('rating')['user rating score'].mean().sort_values(ascending=False).round(2).reset_index()\n",
    "x=ratingGb['rating']\n",
    "y=ratingGb['user rating score']\n",
    "plt.xticks(rotation=90)\n",
    "plt.bar(x,y)\n",
    "plt.show()"
   ]
  },
  {
   "cell_type": "markdown",
   "metadata": {},
   "source": [
    "## Sort Movies by Year \n",
    "The most liked movies are the most recent year from the data which happened to be 2017. However, there is little correlation, 0.5025 between year of the movie and how much customers enjoy a show. "
   ]
  },
  {
   "cell_type": "code",
   "execution_count": 5,
   "metadata": {
    "execution": {
     "iopub.status.busy": "2022-02-24T02:57:06.592661Z",
     "iopub.status.idle": "2022-02-24T02:57:06.592997Z",
     "shell.execute_reply": "2022-02-24T02:57:06.592840Z",
     "shell.execute_reply.started": "2022-02-24T02:57:06.592820Z"
    }
   },
   "outputs": [
    {
     "data": {
      "image/png": "[encoded data removed]",
      "text/plain": [
       "<Figure size 432x288 with 1 Axes>"
      ]
     },
     "metadata": {
      "needs_background": "light"
     },
     "output_type": "display_data"
    },
    {
     "name": "stdout",
     "output_type": "stream",
     "text": [
      "0.5025  The correlation between year and show rating.\n"
     ]
    }
   ],
   "source": [
    "#Group data by year:\n",
    "yearGb=df.groupby('release year')['user rating score'].mean().round(2).reset_index()\n",
    "\n",
    "#Bar plot data:\n",
    "x=yearGb['release year']\n",
    "y=yearGb['user rating score']\n",
    "plt.xticks(rotation=90)\n",
    "plt.bar(x,y)\n",
    "plt.show()\n",
    "\n",
    "#Find correlation:\n",
    "corrYear=x.corr(y).round(4)\n",
    "print(corrYear, \" The correlation between year and show rating.\")"
   ]
  },
  {
   "cell_type": "markdown",
   "metadata": {},
   "source": [
    "## References\n",
    "1. https://www.kaggle.com/niharika41298/netflix-visualizations-recommendation-eda#Movie-ratings-analysis"
   ]
  }
 ],
 "metadata": {
  "kernelspec": {
   "display_name": "Python 3 (ipykernel)",
   "language": "python",
   "name": "python3"
  },
  "language_info": {
   "codemirror_mode": {
    "name": "ipython",
    "version": 3
   },
   "file_extension": ".py",
   "mimetype": "text/x-python",
   "name": "python",
   "nbconvert_exporter": "python",
   "pygments_lexer": "ipython3",
   "version": "3.9.7"
  }
 },
 "nbformat": 4,
 "nbformat_minor": 4
}
