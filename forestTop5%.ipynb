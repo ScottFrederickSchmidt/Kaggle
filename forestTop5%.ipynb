{
 "cells": [
  {
   "cell_type": "markdown",
   "id": "6502f80f",
   "metadata": {
    "papermill": {
     "duration": 0.036824,
     "end_time": "2022-10-05T15:44:30.116555",
     "exception": false,
     "start_time": "2022-10-05T15:44:30.079731",
     "status": "completed"
    },
    "tags": []
   },
   "source": [
    "# Random Forest Grid Search\n",
    "Use GridSearch and tunning more extensively on random forest to try to get a top 1%.\n",
    "\n",
    "* Machine Learning Titanic Original\n",
    "https://github.com/ScottySchmidt/Kaggle/blob/main/Titanic.ipynb\n",
    "* Decision tree scores top 6%\n",
    "https://github.com/ScottySchmidt/Kaggle/blob/main/dtree.ipynb\n",
    "* xgBoost top 5%\n",
    "https://github.com/ScottySchmidt/Kaggle/blob/main/xgbTop5%25.ipynb"
   ]
  },
  {
   "cell_type": "markdown",
   "id": "61e29eef",
   "metadata": {
    "papermill": {
     "duration": 0.033808,
     "end_time": "2022-10-05T15:44:30.183259",
     "exception": false,
     "start_time": "2022-10-05T15:44:30.149451",
     "status": "completed"
    },
    "tags": []
   },
   "source": [
    "# Train Data\n",
    "Train.csv will contain the details of a subset of the passengers on board (891 to be exact) and whether they survive or not. The shape of the train data is (891, 12). "
   ]
  },
  {
   "cell_type": "code",
   "execution_count": 1,
   "id": "4dc7242b",
   "metadata": {
    "execution": {
     "iopub.execute_input": "2022-10-05T15:44:30.247228Z",
     "iopub.status.busy": "2022-10-05T15:44:30.246459Z",
     "iopub.status.idle": "2022-10-05T15:44:31.780998Z",
     "shell.execute_reply": "2022-10-05T15:44:31.779878Z"
    },
    "papermill": {
     "duration": 1.568736,
     "end_time": "2022-10-05T15:44:31.783252",
     "exception": false,
     "start_time": "2022-10-05T15:44:30.214516",
     "status": "completed"
    },
    "tags": []
   },
   "outputs": [
    {
     "name": "stdout",
     "output_type": "stream",
     "text": [
      "(891, 12)\n"
     ]
    },
    {
     "data": {
      "text/html": [
       "<div>\n",
       "<style scoped>\n",
       "    .dataframe tbody tr th:only-of-type {\n",
       "        vertical-align: middle;\n",
       "    }\n",
       "\n",
       "    .dataframe tbody tr th {\n",
       "        vertical-align: top;\n",
       "    }\n",
       "\n",
       "    .dataframe thead th {\n",
       "        text-align: right;\n",
       "    }\n",
       "</style>\n",
       "<table border=\"1\" class=\"dataframe\">\n",
       "  <thead>\n",
       "    <tr style=\"text-align: right;\">\n",
       "      <th></th>\n",
       "      <th>PassengerId</th>\n",
       "      <th>Survived</th>\n",
       "      <th>Pclass</th>\n",
       "      <th>Name</th>\n",
       "      <th>Sex</th>\n",
       "      <th>Age</th>\n",
       "      <th>SibSp</th>\n",
       "      <th>Parch</th>\n",
       "      <th>Ticket</th>\n",
       "      <th>Fare</th>\n",
       "      <th>Cabin</th>\n",
       "      <th>Embarked</th>\n",
       "    </tr>\n",
       "  </thead>\n",
       "  <tbody>\n",
       "    <tr>\n",
       "      <th>0</th>\n",
       "      <td>1</td>\n",
       "      <td>0</td>\n",
       "      <td>3</td>\n",
       "      <td>Braund, Mr. Owen Harris</td>\n",
       "      <td>male</td>\n",
       "      <td>22.0</td>\n",
       "      <td>1</td>\n",
       "      <td>0</td>\n",
       "      <td>A/5 21171</td>\n",
       "      <td>7.2500</td>\n",
       "      <td>NaN</td>\n",
       "      <td>S</td>\n",
       "    </tr>\n",
       "    <tr>\n",
       "      <th>1</th>\n",
       "      <td>2</td>\n",
       "      <td>1</td>\n",
       "      <td>1</td>\n",
       "      <td>Cumings, Mrs. John Bradley (Florence Briggs Th...</td>\n",
       "      <td>female</td>\n",
       "      <td>38.0</td>\n",
       "      <td>1</td>\n",
       "      <td>0</td>\n",
       "      <td>PC 17599</td>\n",
       "      <td>71.2833</td>\n",
       "      <td>C85</td>\n",
       "      <td>C</td>\n",
       "    </tr>\n",
       "    <tr>\n",
       "      <th>2</th>\n",
       "      <td>3</td>\n",
       "      <td>1</td>\n",
       "      <td>3</td>\n",
       "      <td>Heikkinen, Miss. Laina</td>\n",
       "      <td>female</td>\n",
       "      <td>26.0</td>\n",
       "      <td>0</td>\n",
       "      <td>0</td>\n",
       "      <td>STON/O2. 3101282</td>\n",
       "      <td>7.9250</td>\n",
       "      <td>NaN</td>\n",
       "      <td>S</td>\n",
       "    </tr>\n",
       "    <tr>\n",
       "      <th>3</th>\n",
       "      <td>4</td>\n",
       "      <td>1</td>\n",
       "      <td>1</td>\n",
       "      <td>Futrelle, Mrs. Jacques Heath (Lily May Peel)</td>\n",
       "      <td>female</td>\n",
       "      <td>35.0</td>\n",
       "      <td>1</td>\n",
       "      <td>0</td>\n",
       "      <td>113803</td>\n",
       "      <td>53.1000</td>\n",
       "      <td>C123</td>\n",
       "      <td>S</td>\n",
       "    </tr>\n",
       "    <tr>\n",
       "      <th>4</th>\n",
       "      <td>5</td>\n",
       "      <td>0</td>\n",
       "      <td>3</td>\n",
       "      <td>Allen, Mr. William Henry</td>\n",
       "      <td>male</td>\n",
       "      <td>35.0</td>\n",
       "      <td>0</td>\n",
       "      <td>0</td>\n",
       "      <td>373450</td>\n",
       "      <td>8.0500</td>\n",
       "      <td>NaN</td>\n",
       "      <td>S</td>\n",
       "    </tr>\n",
       "  </tbody>\n",
       "</table>\n",
       "</div>"
      ],
      "text/plain": [
       "   PassengerId  Survived  Pclass  \\\n",
       "0            1         0       3   \n",
       "1            2         1       1   \n",
       "2            3         1       3   \n",
       "3            4         1       1   \n",
       "4            5         0       3   \n",
       "\n",
       "                                                Name     Sex   Age  SibSp  \\\n",
       "0                            Braund, Mr. Owen Harris    male  22.0      1   \n",
       "1  Cumings, Mrs. John Bradley (Florence Briggs Th...  female  38.0      1   \n",
       "2                             Heikkinen, Miss. Laina  female  26.0      0   \n",
       "3       Futrelle, Mrs. Jacques Heath (Lily May Peel)  female  35.0      1   \n",
       "4                           Allen, Mr. William Henry    male  35.0      0   \n",
       "\n",
       "   Parch            Ticket     Fare Cabin Embarked  \n",
       "0      0         A/5 21171   7.2500   NaN        S  \n",
       "1      0          PC 17599  71.2833   C85        C  \n",
       "2      0  STON/O2. 3101282   7.9250   NaN        S  \n",
       "3      0            113803  53.1000  C123        S  \n",
       "4      0            373450   8.0500   NaN        S  "
      ]
     },
     "execution_count": 1,
     "metadata": {},
     "output_type": "execute_result"
    }
   ],
   "source": [
    "import numpy as np\n",
    "import pandas as pd\n",
    "import seaborn as sns\n",
    "import matplotlib.pyplot as plt\n",
    "from sklearn.model_selection import train_test_split, cross_validate\n",
    "from statistics import mean\n",
    "from sklearn.metrics import accuracy_score, classification_report, mean_absolute_error, mean_squared_error, r2_score\n",
    "from sklearn.datasets import make_classification\n",
    "from sklearn import ensemble\n",
    "import sklearn.metrics as metrics\n",
    "import time\n",
    "from math import sqrt\n",
    "\n",
    "train=r'/kaggle/input/titanic/train.csv'\n",
    "test=r'/kaggle/input/titanic/test.csv' \n",
    "\n",
    "df=pd.read_csv(train)\n",
    "test=pd.read_csv(test)\n",
    "\n",
    "print(df.shape)\n",
    "df.head()"
   ]
  },
  {
   "cell_type": "code",
   "execution_count": 2,
   "id": "404eda69",
   "metadata": {
    "execution": {
     "iopub.execute_input": "2022-10-05T15:44:31.847633Z",
     "iopub.status.busy": "2022-10-05T15:44:31.847318Z",
     "iopub.status.idle": "2022-10-05T15:44:31.854680Z",
     "shell.execute_reply": "2022-10-05T15:44:31.853808Z"
    },
    "papermill": {
     "duration": 0.041969,
     "end_time": "2022-10-05T15:44:31.856779",
     "exception": false,
     "start_time": "2022-10-05T15:44:31.814810",
     "status": "completed"
    },
    "tags": []
   },
   "outputs": [
    {
     "data": {
      "text/plain": [
       "PassengerId      int64\n",
       "Survived         int64\n",
       "Pclass           int64\n",
       "Name            object\n",
       "Sex             object\n",
       "Age            float64\n",
       "SibSp            int64\n",
       "Parch            int64\n",
       "Ticket          object\n",
       "Fare           float64\n",
       "Cabin           object\n",
       "Embarked        object\n",
       "dtype: object"
      ]
     },
     "execution_count": 2,
     "metadata": {},
     "output_type": "execute_result"
    }
   ],
   "source": [
    "df.dtypes"
   ]
  },
  {
   "cell_type": "code",
   "execution_count": 3,
   "id": "f1d99f95",
   "metadata": {
    "execution": {
     "iopub.execute_input": "2022-10-05T15:44:31.922644Z",
     "iopub.status.busy": "2022-10-05T15:44:31.922321Z",
     "iopub.status.idle": "2022-10-05T15:44:31.945407Z",
     "shell.execute_reply": "2022-10-05T15:44:31.944133Z"
    },
    "papermill": {
     "duration": 0.059279,
     "end_time": "2022-10-05T15:44:31.947347",
     "exception": false,
     "start_time": "2022-10-05T15:44:31.888068",
     "status": "completed"
    },
    "tags": []
   },
   "outputs": [
    {
     "name": "stdout",
     "output_type": "stream",
     "text": [
      "Total no of duplicate values in Training Dataset = 0\n"
     ]
    },
    {
     "data": {
      "text/html": [
       "<div>\n",
       "<style scoped>\n",
       "    .dataframe tbody tr th:only-of-type {\n",
       "        vertical-align: middle;\n",
       "    }\n",
       "\n",
       "    .dataframe tbody tr th {\n",
       "        vertical-align: top;\n",
       "    }\n",
       "\n",
       "    .dataframe thead th {\n",
       "        text-align: right;\n",
       "    }\n",
       "</style>\n",
       "<table border=\"1\" class=\"dataframe\">\n",
       "  <thead>\n",
       "    <tr style=\"text-align: right;\">\n",
       "      <th></th>\n",
       "      <th>PassengerId</th>\n",
       "      <th>Survived</th>\n",
       "      <th>Pclass</th>\n",
       "      <th>Name</th>\n",
       "      <th>Sex</th>\n",
       "      <th>Age</th>\n",
       "      <th>SibSp</th>\n",
       "      <th>Parch</th>\n",
       "      <th>Ticket</th>\n",
       "      <th>Fare</th>\n",
       "      <th>Cabin</th>\n",
       "      <th>Embarked</th>\n",
       "    </tr>\n",
       "  </thead>\n",
       "  <tbody>\n",
       "  </tbody>\n",
       "</table>\n",
       "</div>"
      ],
      "text/plain": [
       "Empty DataFrame\n",
       "Columns: [PassengerId, Survived, Pclass, Name, Sex, Age, SibSp, Parch, Ticket, Fare, Cabin, Embarked]\n",
       "Index: []"
      ]
     },
     "execution_count": 3,
     "metadata": {},
     "output_type": "execute_result"
    }
   ],
   "source": [
    "#Check Duplicates:\n",
    "dupstr = df.duplicated()\n",
    "print('Total no of duplicate values in Training Dataset = %d' % (dupstr.sum()))\n",
    "df[dupstr]"
   ]
  },
  {
   "cell_type": "code",
   "execution_count": 4,
   "id": "92c062b2",
   "metadata": {
    "execution": {
     "iopub.execute_input": "2022-10-05T15:44:32.014140Z",
     "iopub.status.busy": "2022-10-05T15:44:32.013825Z",
     "iopub.status.idle": "2022-10-05T15:44:32.023459Z",
     "shell.execute_reply": "2022-10-05T15:44:32.022259Z"
    },
    "papermill": {
     "duration": 0.045241,
     "end_time": "2022-10-05T15:44:32.025582",
     "exception": false,
     "start_time": "2022-10-05T15:44:31.980341",
     "status": "completed"
    },
    "tags": []
   },
   "outputs": [
    {
     "name": "stdout",
     "output_type": "stream",
     "text": [
      "Missing data by column as a percent:\n",
      "Cabin          0.771044\n",
      "Age            0.198653\n",
      "Embarked       0.002245\n",
      "PassengerId    0.000000\n",
      "Survived       0.000000\n",
      "dtype: float64\n"
     ]
    }
   ],
   "source": [
    "#search for columns with missing values:\n",
    "def findNA():\n",
    "    print(\"Missing data by column as a percent:\")\n",
    "    findNA=df.isnull().sum().sort_values(ascending=False)/len(df)\n",
    "    print(findNA.head())\n",
    "findNA() "
   ]
  },
  {
   "cell_type": "markdown",
   "id": "56156350",
   "metadata": {
    "papermill": {
     "duration": 0.032324,
     "end_time": "2022-10-05T15:44:32.090314",
     "exception": false,
     "start_time": "2022-10-05T15:44:32.057990",
     "status": "completed"
    },
    "tags": []
   },
   "source": [
    "# Feature Engineer\n",
    "We need to replace male and female into numbers. This is a very important part of the process because gender is one of the highest predictors on if a person survived or not."
   ]
  },
  {
   "cell_type": "code",
   "execution_count": 5,
   "id": "cf531d66",
   "metadata": {
    "execution": {
     "iopub.execute_input": "2022-10-05T15:44:32.158551Z",
     "iopub.status.busy": "2022-10-05T15:44:32.157570Z",
     "iopub.status.idle": "2022-10-05T15:44:32.163366Z",
     "shell.execute_reply": "2022-10-05T15:44:32.162734Z"
    },
    "papermill": {
     "duration": 0.042201,
     "end_time": "2022-10-05T15:44:32.165345",
     "exception": false,
     "start_time": "2022-10-05T15:44:32.123144",
     "status": "completed"
    },
    "tags": []
   },
   "outputs": [],
   "source": [
    "#GENDER\n",
    "df['Sex']=df['Sex'].map({'female':0,'male':1})"
   ]
  },
  {
   "cell_type": "markdown",
   "id": "2052bcbb",
   "metadata": {
    "papermill": {
     "duration": 0.032199,
     "end_time": "2022-10-05T15:44:32.230029",
     "exception": false,
     "start_time": "2022-10-05T15:44:32.197830",
     "status": "completed"
    },
    "tags": []
   },
   "source": [
    "Females whose number is 0 had a much higher chance of surving than males. Later on, doing the importance feature analysis we will view that gender is actually one of the highest predictors. "
   ]
  },
  {
   "cell_type": "code",
   "execution_count": 6,
   "id": "f001d5e8",
   "metadata": {
    "execution": {
     "iopub.execute_input": "2022-10-05T15:44:32.296909Z",
     "iopub.status.busy": "2022-10-05T15:44:32.296500Z",
     "iopub.status.idle": "2022-10-05T15:44:32.324224Z",
     "shell.execute_reply": "2022-10-05T15:44:32.323371Z"
    },
    "papermill": {
     "duration": 0.064081,
     "end_time": "2022-10-05T15:44:32.326281",
     "exception": false,
     "start_time": "2022-10-05T15:44:32.262200",
     "status": "completed"
    },
    "tags": []
   },
   "outputs": [
    {
     "data": {
      "text/html": [
       "<div>\n",
       "<style scoped>\n",
       "    .dataframe tbody tr th:only-of-type {\n",
       "        vertical-align: middle;\n",
       "    }\n",
       "\n",
       "    .dataframe tbody tr th {\n",
       "        vertical-align: top;\n",
       "    }\n",
       "\n",
       "    .dataframe thead th {\n",
       "        text-align: right;\n",
       "    }\n",
       "</style>\n",
       "<table border=\"1\" class=\"dataframe\">\n",
       "  <thead>\n",
       "    <tr style=\"text-align: right;\">\n",
       "      <th>Sex</th>\n",
       "      <th>0</th>\n",
       "      <th>1</th>\n",
       "    </tr>\n",
       "    <tr>\n",
       "      <th>Survived</th>\n",
       "      <th></th>\n",
       "      <th></th>\n",
       "    </tr>\n",
       "  </thead>\n",
       "  <tbody>\n",
       "    <tr>\n",
       "      <th>0</th>\n",
       "      <td>81</td>\n",
       "      <td>468</td>\n",
       "    </tr>\n",
       "    <tr>\n",
       "      <th>1</th>\n",
       "      <td>233</td>\n",
       "      <td>109</td>\n",
       "    </tr>\n",
       "  </tbody>\n",
       "</table>\n",
       "</div>"
      ],
      "text/plain": [
       "Sex         0    1\n",
       "Survived          \n",
       "0          81  468\n",
       "1         233  109"
      ]
     },
     "execution_count": 6,
     "metadata": {},
     "output_type": "execute_result"
    }
   ],
   "source": [
    "genderTable = pd.crosstab(df['Survived'],df['Sex'])\n",
    "genderTable"
   ]
  },
  {
   "cell_type": "markdown",
   "id": "b1dbe5d5",
   "metadata": {
    "papermill": {
     "duration": 0.032442,
     "end_time": "2022-10-05T15:44:32.391892",
     "exception": false,
     "start_time": "2022-10-05T15:44:32.359450",
     "status": "completed"
    },
    "tags": []
   },
   "source": [
    "# Encode Categorical Variables\n",
    "Encode Categorical Variables is needed for this dataset since there are many important variables that are not numeric yet. \n",
    "\n",
    "There are three classes C, Q, and S. Class C seems to have the highest chance of survival. Class S has the lowest chance of survival. Unfornately this would tend to show that economic status seems to played a part in the decision if someone survived or not. Embarked does not play role major role in feature importance. "
   ]
  },
  {
   "cell_type": "code",
   "execution_count": 7,
   "id": "fd8754f1",
   "metadata": {
    "execution": {
     "iopub.execute_input": "2022-10-05T15:44:32.459241Z",
     "iopub.status.busy": "2022-10-05T15:44:32.458816Z",
     "iopub.status.idle": "2022-10-05T15:44:32.639956Z",
     "shell.execute_reply": "2022-10-05T15:44:32.639017Z"
    },
    "papermill": {
     "duration": 0.218036,
     "end_time": "2022-10-05T15:44:32.642376",
     "exception": false,
     "start_time": "2022-10-05T15:44:32.424340",
     "status": "completed"
    },
    "tags": []
   },
   "outputs": [],
   "source": [
    "import category_encoders as ce\n",
    "#encoder = ce.OrdinalEncoder(cols=['Embarked'])\n",
    "\n",
    "#df = encoder.fit_transform(df)\n",
    "#test = encoder.fit_transform(test)\n",
    "#test.head()"
   ]
  },
  {
   "cell_type": "markdown",
   "id": "a8bf096e",
   "metadata": {
    "papermill": {
     "duration": 0.032151,
     "end_time": "2022-10-05T15:44:32.707592",
     "exception": false,
     "start_time": "2022-10-05T15:44:32.675441",
     "status": "completed"
    },
    "tags": []
   },
   "source": [
    "# Examine Target Variable\n",
    "Survived is the Y variable we will be analyzing. Since the survival rete is 0.384 the data is not considered unbalanced. "
   ]
  },
  {
   "cell_type": "code",
   "execution_count": 8,
   "id": "0e689dd1",
   "metadata": {
    "execution": {
     "iopub.execute_input": "2022-10-05T15:44:32.782939Z",
     "iopub.status.busy": "2022-10-05T15:44:32.782484Z",
     "iopub.status.idle": "2022-10-05T15:44:32.789838Z",
     "shell.execute_reply": "2022-10-05T15:44:32.789015Z"
    },
    "papermill": {
     "duration": 0.051811,
     "end_time": "2022-10-05T15:44:32.792469",
     "exception": false,
     "start_time": "2022-10-05T15:44:32.740658",
     "status": "completed"
    },
    "tags": []
   },
   "outputs": [
    {
     "name": "stdout",
     "output_type": "stream",
     "text": [
      "0    549\n",
      "1    342\n",
      "Name: Survived, dtype: int64\n",
      "Percent that survived:  0.384\n"
     ]
    }
   ],
   "source": [
    "temp=df['Survived'].value_counts()\n",
    "print(temp)\n",
    "no=temp[0]\n",
    "yes=temp[1]\n",
    "percent=round(yes/(yes+no),3)\n",
    "print(\"Percent that survived: \", percent)"
   ]
  },
  {
   "cell_type": "markdown",
   "id": "9c861b62",
   "metadata": {
    "papermill": {
     "duration": 0.039958,
     "end_time": "2022-10-05T15:44:32.870743",
     "exception": false,
     "start_time": "2022-10-05T15:44:32.830785",
     "status": "completed"
    },
    "tags": []
   },
   "source": [
    "# Numeric DataFrame\n",
    "For now, we will analyze only numeric values. Categorical values will need to be encoded or analyzed individually."
   ]
  },
  {
   "cell_type": "code",
   "execution_count": 9,
   "id": "fb1f0b6c",
   "metadata": {
    "execution": {
     "iopub.execute_input": "2022-10-05T15:44:32.945892Z",
     "iopub.status.busy": "2022-10-05T15:44:32.944271Z",
     "iopub.status.idle": "2022-10-05T15:44:32.964976Z",
     "shell.execute_reply": "2022-10-05T15:44:32.964061Z"
    },
    "papermill": {
     "duration": 0.058106,
     "end_time": "2022-10-05T15:44:32.967459",
     "exception": false,
     "start_time": "2022-10-05T15:44:32.909353",
     "status": "completed"
    },
    "tags": []
   },
   "outputs": [
    {
     "data": {
      "text/html": [
       "<div>\n",
       "<style scoped>\n",
       "    .dataframe tbody tr th:only-of-type {\n",
       "        vertical-align: middle;\n",
       "    }\n",
       "\n",
       "    .dataframe tbody tr th {\n",
       "        vertical-align: top;\n",
       "    }\n",
       "\n",
       "    .dataframe thead th {\n",
       "        text-align: right;\n",
       "    }\n",
       "</style>\n",
       "<table border=\"1\" class=\"dataframe\">\n",
       "  <thead>\n",
       "    <tr style=\"text-align: right;\">\n",
       "      <th></th>\n",
       "      <th>PassengerId</th>\n",
       "      <th>Survived</th>\n",
       "      <th>Pclass</th>\n",
       "      <th>Sex</th>\n",
       "      <th>Age</th>\n",
       "      <th>SibSp</th>\n",
       "      <th>Parch</th>\n",
       "      <th>Fare</th>\n",
       "    </tr>\n",
       "  </thead>\n",
       "  <tbody>\n",
       "    <tr>\n",
       "      <th>0</th>\n",
       "      <td>1</td>\n",
       "      <td>0</td>\n",
       "      <td>3</td>\n",
       "      <td>1</td>\n",
       "      <td>22.0</td>\n",
       "      <td>1</td>\n",
       "      <td>0</td>\n",
       "      <td>7.2500</td>\n",
       "    </tr>\n",
       "    <tr>\n",
       "      <th>1</th>\n",
       "      <td>2</td>\n",
       "      <td>1</td>\n",
       "      <td>1</td>\n",
       "      <td>0</td>\n",
       "      <td>38.0</td>\n",
       "      <td>1</td>\n",
       "      <td>0</td>\n",
       "      <td>71.2833</td>\n",
       "    </tr>\n",
       "    <tr>\n",
       "      <th>2</th>\n",
       "      <td>3</td>\n",
       "      <td>1</td>\n",
       "      <td>3</td>\n",
       "      <td>0</td>\n",
       "      <td>26.0</td>\n",
       "      <td>0</td>\n",
       "      <td>0</td>\n",
       "      <td>7.9250</td>\n",
       "    </tr>\n",
       "    <tr>\n",
       "      <th>3</th>\n",
       "      <td>4</td>\n",
       "      <td>1</td>\n",
       "      <td>1</td>\n",
       "      <td>0</td>\n",
       "      <td>35.0</td>\n",
       "      <td>1</td>\n",
       "      <td>0</td>\n",
       "      <td>53.1000</td>\n",
       "    </tr>\n",
       "    <tr>\n",
       "      <th>4</th>\n",
       "      <td>5</td>\n",
       "      <td>0</td>\n",
       "      <td>3</td>\n",
       "      <td>1</td>\n",
       "      <td>35.0</td>\n",
       "      <td>0</td>\n",
       "      <td>0</td>\n",
       "      <td>8.0500</td>\n",
       "    </tr>\n",
       "  </tbody>\n",
       "</table>\n",
       "</div>"
      ],
      "text/plain": [
       "   PassengerId  Survived  Pclass  Sex   Age  SibSp  Parch     Fare\n",
       "0            1         0       3    1  22.0      1      0   7.2500\n",
       "1            2         1       1    0  38.0      1      0  71.2833\n",
       "2            3         1       3    0  26.0      0      0   7.9250\n",
       "3            4         1       1    0  35.0      1      0  53.1000\n",
       "4            5         0       3    1  35.0      0      0   8.0500"
      ]
     },
     "execution_count": 9,
     "metadata": {},
     "output_type": "execute_result"
    }
   ],
   "source": [
    "numerics = ['int16', 'int32', 'int64', 'float16', 'float32', 'float64']\n",
    "df = df.select_dtypes(include=numerics)\n",
    "df.head()"
   ]
  },
  {
   "cell_type": "markdown",
   "id": "240c7fca",
   "metadata": {
    "papermill": {
     "duration": 0.034489,
     "end_time": "2022-10-05T15:44:33.045106",
     "exception": false,
     "start_time": "2022-10-05T15:44:33.010617",
     "status": "completed"
    },
    "tags": []
   },
   "source": [
    "# Check for missing values\n",
    "Age is missing around 20% of values.Therefore, we can simply fill in the mean for that one column."
   ]
  },
  {
   "cell_type": "code",
   "execution_count": 10,
   "id": "c83afba9",
   "metadata": {
    "execution": {
     "iopub.execute_input": "2022-10-05T15:44:33.120885Z",
     "iopub.status.busy": "2022-10-05T15:44:33.120269Z",
     "iopub.status.idle": "2022-10-05T15:44:33.129720Z",
     "shell.execute_reply": "2022-10-05T15:44:33.128883Z"
    },
    "papermill": {
     "duration": 0.052397,
     "end_time": "2022-10-05T15:44:33.132452",
     "exception": false,
     "start_time": "2022-10-05T15:44:33.080055",
     "status": "completed"
    },
    "tags": []
   },
   "outputs": [
    {
     "name": "stdout",
     "output_type": "stream",
     "text": [
      "Missing data by column as a percent:\n",
      "Age            0.198653\n",
      "PassengerId    0.000000\n",
      "Survived       0.000000\n",
      "Pclass         0.000000\n",
      "Sex            0.000000\n",
      "dtype: float64\n"
     ]
    }
   ],
   "source": [
    "#search for columns with missing values:\n",
    "def findNA():\n",
    "    print(\"Missing data by column as a percent:\")\n",
    "    findNA=df.isnull().sum().sort_values(ascending=False)/len(df)\n",
    "    print(findNA.head())\n",
    "findNA() "
   ]
  },
  {
   "cell_type": "code",
   "execution_count": 11,
   "id": "af4a4131",
   "metadata": {
    "execution": {
     "iopub.execute_input": "2022-10-05T15:44:33.205948Z",
     "iopub.status.busy": "2022-10-05T15:44:33.204728Z",
     "iopub.status.idle": "2022-10-05T15:44:33.213458Z",
     "shell.execute_reply": "2022-10-05T15:44:33.212654Z"
    },
    "papermill": {
     "duration": 0.047337,
     "end_time": "2022-10-05T15:44:33.215427",
     "exception": false,
     "start_time": "2022-10-05T15:44:33.168090",
     "status": "completed"
    },
    "tags": []
   },
   "outputs": [],
   "source": [
    "df= df.fillna(df.mean())"
   ]
  },
  {
   "cell_type": "markdown",
   "id": "7a00e14b",
   "metadata": {
    "papermill": {
     "duration": 0.034622,
     "end_time": "2022-10-05T15:44:33.284793",
     "exception": false,
     "start_time": "2022-10-05T15:44:33.250171",
     "status": "completed"
    },
    "tags": []
   },
   "source": [
    "# Split Data"
   ]
  },
  {
   "cell_type": "code",
   "execution_count": 12,
   "id": "9a3288c8",
   "metadata": {
    "execution": {
     "iopub.execute_input": "2022-10-05T15:44:33.358338Z",
     "iopub.status.busy": "2022-10-05T15:44:33.358007Z",
     "iopub.status.idle": "2022-10-05T15:44:33.365648Z",
     "shell.execute_reply": "2022-10-05T15:44:33.364795Z"
    },
    "papermill": {
     "duration": 0.046805,
     "end_time": "2022-10-05T15:44:33.367756",
     "exception": false,
     "start_time": "2022-10-05T15:44:33.320951",
     "status": "completed"
    },
    "tags": []
   },
   "outputs": [],
   "source": [
    "X=df.drop('Survived', axis=1)\n",
    "y=df['Survived']\n",
    "\n",
    "X_train, X_test, y_train, y_test = train_test_split(\n",
    "    X, y, test_size = 0.33, random_state = 42)"
   ]
  },
  {
   "cell_type": "markdown",
   "id": "e5f91511",
   "metadata": {
    "papermill": {
     "duration": 0.035282,
     "end_time": "2022-10-05T15:44:33.439442",
     "exception": false,
     "start_time": "2022-10-05T15:44:33.404160",
     "status": "completed"
    },
    "tags": []
   },
   "source": [
    "# Highly Correlated Features\n",
    "There are no highly correlated variables above 80%. Therefore, we do not need to be concerned about removing variables that are too highly correlated. "
   ]
  },
  {
   "cell_type": "markdown",
   "id": "6e960521",
   "metadata": {
    "_kg_hide-output": true,
    "papermill": {
     "duration": 0.034299,
     "end_time": "2022-10-05T15:44:33.509452",
     "exception": false,
     "start_time": "2022-10-05T15:44:33.475153",
     "status": "completed"
    },
    "tags": []
   },
   "source": [
    "# Tunning Forest\n",
    "Random forest AUC:  0.8503 which is good results considering forest does not overfit data."
   ]
  },
  {
   "cell_type": "code",
   "execution_count": 13,
   "id": "78888bfc",
   "metadata": {
    "execution": {
     "iopub.execute_input": "2022-10-05T15:44:33.581038Z",
     "iopub.status.busy": "2022-10-05T15:44:33.579956Z",
     "iopub.status.idle": "2022-10-05T15:44:34.649452Z",
     "shell.execute_reply": "2022-10-05T15:44:34.648608Z"
    },
    "papermill": {
     "duration": 1.107597,
     "end_time": "2022-10-05T15:44:34.651468",
     "exception": false,
     "start_time": "2022-10-05T15:44:33.543871",
     "status": "completed"
    },
    "tags": []
   },
   "outputs": [
    {
     "name": "stderr",
     "output_type": "stream",
     "text": [
      "/opt/conda/lib/python3.7/site-packages/sklearn/ensemble/_forest.py:564: UserWarning: Some inputs do not have OOB scores. This probably means too few trees were used to compute any reliable OOB estimates.\n",
      "  UserWarning,\n"
     ]
    },
    {
     "data": {
      "image/png": "[encoded data removed]",
      "text/plain": [
       "<Figure size 432x288 with 1 Axes>"
      ]
     },
     "metadata": {
      "needs_background": "light"
     },
     "output_type": "display_data"
    },
    {
     "data": {
      "image/png": "[encoded data removed]",
      "text/plain": [
       "<Figure size 432x288 with 1 Axes>"
      ]
     },
     "metadata": {
      "needs_background": "light"
     },
     "output_type": "display_data"
    }
   ],
   "source": [
    "from sklearn.ensemble import RandomForestRegressor, RandomForestClassifier\n",
    "\n",
    "#Check for Error and find Best n_estimators:\n",
    "def forestNumEst():\n",
    "    numbers= [2, 20, 40, 50, 60, 100]\n",
    "    maeList=[] #error\n",
    "    accList=[]\n",
    "    \n",
    "    for n in numbers:\n",
    "        forest = RandomForestClassifier(n_estimators=n, oob_score = True)\n",
    "        forest.fit(X_train, y_train)\n",
    "        y_pred = forest.predict(X_test)\n",
    "        mae=metrics.mean_absolute_error(y_test, y_pred).round(2)\n",
    "        forest_auc = round( metrics.roc_auc_score(y_test, y_pred), 4 ) \n",
    "        #print(\"Random forest AUC: \", forest_auc) \n",
    "      \n",
    "        accList.append(forest_auc)\n",
    "        maeList.append(mae)\n",
    "        \n",
    "    plt.plot(numbers,accList)\n",
    "    plt.title(\"Forest Estimators\" )\n",
    "    plt.xlabel(\"Estimators\")\n",
    "    plt.ylabel('Accuracy')\n",
    "    plt.legend()\n",
    "    plt.show() \n",
    "    \n",
    "    plt.plot(numbers, maeList)\n",
    "    plt.title(\"Forest Estimators\" )\n",
    "    plt.xlabel(\"Estimators\")\n",
    "    plt.ylabel('error')\n",
    "    plt.legend()\n",
    "    plt.show() \n",
    "\n",
    "forestNumEst() "
   ]
  },
  {
   "cell_type": "code",
   "execution_count": 14,
   "id": "68a3f13f",
   "metadata": {
    "execution": {
     "iopub.execute_input": "2022-10-05T15:44:34.727278Z",
     "iopub.status.busy": "2022-10-05T15:44:34.726766Z",
     "iopub.status.idle": "2022-10-05T15:44:36.426336Z",
     "shell.execute_reply": "2022-10-05T15:44:36.425451Z"
    },
    "papermill": {
     "duration": 1.739202,
     "end_time": "2022-10-05T15:44:36.428307",
     "exception": false,
     "start_time": "2022-10-05T15:44:34.689105",
     "status": "completed"
    },
    "tags": []
   },
   "outputs": [
    {
     "data": {
      "image/png": "[encoded data removed]",
      "text/plain": [
       "<Figure size 432x288 with 1 Axes>"
      ]
     },
     "metadata": {
      "needs_background": "light"
     },
     "output_type": "display_data"
    },
    {
     "data": {
      "image/png": "[encoded data removed]",
      "text/plain": [
       "<Figure size 432x288 with 1 Axes>"
      ]
     },
     "metadata": {
      "needs_background": "light"
     },
     "output_type": "display_data"
    }
   ],
   "source": [
    "def forestDepth():\n",
    "    numbers=[None, 2, 3, 4, 5, 7, 10]\n",
    "    accList=[] #accuracy train data\n",
    "    maeList=[] #error\n",
    "    \n",
    "    for n in numbers:\n",
    "        forest = RandomForestClassifier(max_depth=n)\n",
    "        forest.fit(X_train, y_train)\n",
    "        y_pred = forest.predict(X_test)\n",
    "        mae=metrics.mean_absolute_error(y_test, y_pred).round(2)\n",
    "        forest_auc = round( metrics.roc_auc_score(y_test, y_pred), 4 ) \n",
    "        #print(\"Random forest AUC: \", forest_auc) \n",
    "       \n",
    "        accList.append(forest_auc)\n",
    "        maeList.append(mae)\n",
    "        \n",
    "    plt.plot(numbers,accList)\n",
    "    plt.title(\"Forest Max_Depth\")\n",
    "    plt.xlabel('max_depth')\n",
    "    plt.ylabel('Accuracy')\n",
    "    plt.legend()\n",
    "    plt.show() \n",
    "    \n",
    "    plt.plot(numbers, maeList)\n",
    "    plt.title(\"Forest Max_Depth\")\n",
    "    plt.xlabel(\"max_depth\")\n",
    "    plt.ylabel('error')\n",
    "    plt.legend()\n",
    "    plt.show() \n",
    "\n",
    "forestDepth()"
   ]
  },
  {
   "cell_type": "code",
   "execution_count": 15,
   "id": "0ee73b5f",
   "metadata": {
    "execution": {
     "iopub.execute_input": "2022-10-05T15:44:36.505237Z",
     "iopub.status.busy": "2022-10-05T15:44:36.504555Z",
     "iopub.status.idle": "2022-10-05T15:44:38.234070Z",
     "shell.execute_reply": "2022-10-05T15:44:38.233211Z"
    },
    "papermill": {
     "duration": 1.770326,
     "end_time": "2022-10-05T15:44:38.236328",
     "exception": false,
     "start_time": "2022-10-05T15:44:36.466002",
     "status": "completed"
    },
    "tags": []
   },
   "outputs": [
    {
     "data": {
      "image/png": "[encoded data removed]",
      "text/plain": [
       "<Figure size 432x288 with 1 Axes>"
      ]
     },
     "metadata": {
      "needs_background": "light"
     },
     "output_type": "display_data"
    },
    {
     "data": {
      "image/png": "[encoded data removed]",
      "text/plain": [
       "<Figure size 432x288 with 1 Axes>"
      ]
     },
     "metadata": {
      "needs_background": "light"
     },
     "output_type": "display_data"
    }
   ],
   "source": [
    "def forestLeaf():\n",
    "    numbers=[2, 3, 4, 5, 7, 10]\n",
    "    accList=[] #accuracy train data\n",
    "    maeList=[] #error\n",
    "    \n",
    "    for n in numbers:\n",
    "        forest = RandomForestClassifier(min_samples_split=n)\n",
    "        forest.fit(X_train, y_train)\n",
    "        y_pred = forest.predict(X_test)\n",
    "        mae=metrics.mean_absolute_error(y_test, y_pred).round(2)\n",
    "        forest_auc = round( metrics.roc_auc_score(y_test, y_pred), 4 ) \n",
    "        #print(\"Random forest AUC: \", forest_auc) \n",
    "       \n",
    "        accList.append(forest_auc)\n",
    "        maeList.append(mae)\n",
    "        \n",
    "    plt.plot(numbers,accList)\n",
    "    plt.title(\"Forest\")\n",
    "    plt.xlabel('min_samples_split')\n",
    "    plt.ylabel('Accuracy')\n",
    "    plt.legend()\n",
    "    plt.show() \n",
    "    \n",
    "    plt.plot(numbers, maeList)\n",
    "    plt.title(\"Forest\")\n",
    "    plt.xlabel(\"min_samples_split\")\n",
    "    plt.ylabel('error')\n",
    "    plt.legend()\n",
    "    plt.show() \n",
    "\n",
    "forestLeaf()"
   ]
  },
  {
   "cell_type": "code",
   "execution_count": 16,
   "id": "9c264551",
   "metadata": {
    "execution": {
     "iopub.execute_input": "2022-10-05T15:44:38.320381Z",
     "iopub.status.busy": "2022-10-05T15:44:38.319847Z",
     "iopub.status.idle": "2022-10-05T15:44:40.046149Z",
     "shell.execute_reply": "2022-10-05T15:44:40.045527Z"
    },
    "papermill": {
     "duration": 1.770733,
     "end_time": "2022-10-05T15:44:40.048019",
     "exception": false,
     "start_time": "2022-10-05T15:44:38.277286",
     "status": "completed"
    },
    "tags": []
   },
   "outputs": [
    {
     "data": {
      "image/png": "[encoded data removed]",
      "text/plain": [
       "<Figure size 432x288 with 1 Axes>"
      ]
     },
     "metadata": {
      "needs_background": "light"
     },
     "output_type": "display_data"
    },
    {
     "data": {
      "image/png": "[encoded data removed]",
      "text/plain": [
       "<Figure size 432x288 with 1 Axes>"
      ]
     },
     "metadata": {
      "needs_background": "light"
     },
     "output_type": "display_data"
    }
   ],
   "source": [
    "def forestMinLeaf():\n",
    "    numbers=[1, 2, 3, 4, 5, 7, 10]\n",
    "    accList=[] #accuracy train data\n",
    "    maeList=[] #error\n",
    "    \n",
    "    for n in numbers:\n",
    "        forest = RandomForestClassifier(min_samples_leaf=n)\n",
    "        forest.fit(X_train, y_train)\n",
    "        y_pred = forest.predict(X_test)\n",
    "        mae=metrics.mean_absolute_error(y_test, y_pred).round(2)\n",
    "        forest_auc = round( metrics.roc_auc_score(y_test, y_pred), 4 ) \n",
    "        #print(\"Random forest AUC: \", forest_auc) \n",
    "       \n",
    "        accList.append(forest_auc)\n",
    "        maeList.append(mae)\n",
    "        \n",
    "    plt.plot(numbers,accList)\n",
    "    plt.title(\"Forest\")\n",
    "    plt.xlabel('min_samples_leaf')\n",
    "    plt.ylabel('Accuracy')\n",
    "    plt.legend()\n",
    "    plt.show() \n",
    "    \n",
    "    plt.plot(numbers, maeList)\n",
    "    plt.title(\"Forest\")\n",
    "    plt.xlabel(\"min_samples_leaf\")\n",
    "    plt.ylabel('error')\n",
    "    plt.legend()\n",
    "    plt.show() \n",
    "\n",
    "forestMinLeaf()"
   ]
  },
  {
   "cell_type": "markdown",
   "id": "a657f2ff",
   "metadata": {
    "papermill": {
     "duration": 0.042475,
     "end_time": "2022-10-05T15:44:40.132743",
     "exception": false,
     "start_time": "2022-10-05T15:44:40.090268",
     "status": "completed"
    },
    "tags": []
   },
   "source": [
    "# GridSearch CV"
   ]
  },
  {
   "cell_type": "code",
   "execution_count": 17,
   "id": "242cbc8f",
   "metadata": {
    "execution": {
     "iopub.execute_input": "2022-10-05T15:44:40.219701Z",
     "iopub.status.busy": "2022-10-05T15:44:40.218990Z",
     "iopub.status.idle": "2022-10-05T15:44:51.597967Z",
     "shell.execute_reply": "2022-10-05T15:44:51.597052Z"
    },
    "papermill": {
     "duration": 11.423726,
     "end_time": "2022-10-05T15:44:51.600040",
     "exception": false,
     "start_time": "2022-10-05T15:44:40.176314",
     "status": "completed"
    },
    "tags": []
   },
   "outputs": [
    {
     "data": {
      "text/plain": [
       "{'max_depth': 10,\n",
       " 'min_samples_leaf': 1,\n",
       " 'min_samples_split': 3,\n",
       " 'n_estimators': 50}"
      ]
     },
     "execution_count": 17,
     "metadata": {},
     "output_type": "execute_result"
    }
   ],
   "source": [
    "from sklearn.model_selection import GridSearchCV, StratifiedKFold, cross_val_score\n",
    "\n",
    "params = {\n",
    "    'n_estimators':[50, 60, 100],\n",
    "    'max_depth':[5, 6, 10],\n",
    "    'min_samples_split':[2, 3],  #2 is default\n",
    "    'min_samples_leaf':[1]   #1 is default\n",
    "    #'max_features':['auto', 'sqrt', 'log2'],\n",
    "    #'criterion':['gini', 'entropy'],\n",
    "}\n",
    "\n",
    "#kfold = StratifiedKFold(n_splits=5, shuffle=True, random_state=7)\n",
    "forestGrid=GridSearchCV(estimator=RandomForestClassifier(), param_grid=params, cv=5, scoring='accuracy')\n",
    "forestGrid.fit(X_train, y_train)\n",
    "forestGrid.best_params_"
   ]
  },
  {
   "cell_type": "markdown",
   "id": "bab9f06d",
   "metadata": {
    "papermill": {
     "duration": 0.042359,
     "end_time": "2022-10-05T15:44:51.684906",
     "exception": false,
     "start_time": "2022-10-05T15:44:51.642547",
     "status": "completed"
    },
    "tags": []
   },
   "source": [
    "#### Final Random Forest Prediction\n",
    "* Top 5% Using {'max_depth': 5, 'n_estimators': 60} 0.79425"
   ]
  },
  {
   "cell_type": "code",
   "execution_count": 18,
   "id": "458ffa18",
   "metadata": {
    "execution": {
     "iopub.execute_input": "2022-10-05T15:44:51.771523Z",
     "iopub.status.busy": "2022-10-05T15:44:51.771244Z",
     "iopub.status.idle": "2022-10-05T15:44:52.472385Z",
     "shell.execute_reply": "2022-10-05T15:44:52.471473Z"
    },
    "papermill": {
     "duration": 0.746825,
     "end_time": "2022-10-05T15:44:52.474602",
     "exception": false,
     "start_time": "2022-10-05T15:44:51.727777",
     "status": "completed"
    },
    "tags": []
   },
   "outputs": [
    {
     "name": "stdout",
     "output_type": "stream",
     "text": [
      "Random forest AUC:  0.7727\n",
      "Random forest MAE:  0.2\n",
      "0.8034\n",
      "0.7869\n",
      "0.01649999999999996\n"
     ]
    }
   ],
   "source": [
    "forestFinal = RandomForestClassifier(\n",
    "   n_estimators=60, \n",
    "   max_depth=5,\n",
    "   min_samples_split=2,\n",
    "   min_samples_leaf=1 #1 is default\n",
    "   #criterion='entropy',\n",
    "   # max_features='auto',\n",
    ")\n",
    "forestFinal.fit(X_train, y_train)\n",
    "y_pred = forestFinal.predict(X_test)\n",
    "\n",
    "#Print Metrics:\n",
    "forest_r2 = r2_score(y_test, y_pred).round(4)  \n",
    "forest_auc = round( metrics.roc_auc_score(y_test, y_pred), 4 ) \n",
    "print(\"Random forest AUC: \", forest_auc) \n",
    "\n",
    "mae=metrics.mean_absolute_error(y_test, y_pred).round(2)\n",
    "print(\"Random forest MAE: \", mae)\n",
    "\n",
    "forestScore =  forestFinal.score(X_test, y_test).round(4)  \n",
    "forestCV = cross_validate(forestFinal, X, y, cv = 5, scoring='accuracy')\n",
    "forestCV=forestCV['test_score'].mean().round(4)\n",
    "print(forestScore)\n",
    "print(forestCV)\n",
    "print(forestScore-forestCV)"
   ]
  },
  {
   "cell_type": "markdown",
   "id": "eee39ed5",
   "metadata": {
    "papermill": {
     "duration": 0.042462,
     "end_time": "2022-10-05T15:44:52.560672",
     "exception": false,
     "start_time": "2022-10-05T15:44:52.518210",
     "status": "completed"
    },
    "tags": []
   },
   "source": [
    "# Support Vector \n",
    "The initial results for SVM AUC with no parameter tunning is 0.5336.  The model does not seem worth investing lots of time into due to poor AUC performance. \n",
    "\n",
    "#### GridSearch Tune\n",
    "The best parameters from tunning SVM is SVC(C=1000, gamma=0.0001)."
   ]
  },
  {
   "cell_type": "code",
   "execution_count": 19,
   "id": "62db551a",
   "metadata": {
    "execution": {
     "iopub.execute_input": "2022-10-05T15:44:52.648027Z",
     "iopub.status.busy": "2022-10-05T15:44:52.647746Z",
     "iopub.status.idle": "2022-10-05T15:44:52.653774Z",
     "shell.execute_reply": "2022-10-05T15:44:52.652986Z"
    },
    "papermill": {
     "duration": 0.052151,
     "end_time": "2022-10-05T15:44:52.655776",
     "exception": false,
     "start_time": "2022-10-05T15:44:52.603625",
     "status": "completed"
    },
    "tags": []
   },
   "outputs": [],
   "source": [
    "from sklearn.model_selection import GridSearchCV\n",
    "from sklearn.svm import SVC\n",
    " \n",
    "def tuneSVM():\n",
    "    # defining parameter range\n",
    "    param_grid = {'C': [0.1, 1, 10, 100, 1000],\n",
    "                  'gamma': [1, 0.1, 0.01, 0.001, 0.0001],\n",
    "                  'kernel': ['rbf']}\n",
    "\n",
    "    grid = GridSearchCV(SVC(), param_grid, refit = True, verbose = 3)\n",
    "\n",
    "    # fitting the model for grid search\n",
    "    grid.fit(X_train, y_train)\n",
    "\n",
    "    # print best parameter after tuning\n",
    "    print(grid.best_params_)\n",
    "\n",
    "    # print how our model looks after hyper-parameter tuning\n",
    "    print(grid.best_estimator_)"
   ]
  },
  {
   "cell_type": "markdown",
   "id": "16a733e9",
   "metadata": {
    "papermill": {
     "duration": 0.043293,
     "end_time": "2022-10-05T15:44:52.742523",
     "exception": false,
     "start_time": "2022-10-05T15:44:52.699230",
     "status": "completed"
    },
    "tags": []
   },
   "source": [
    "#### Final SVM Prediction"
   ]
  },
  {
   "cell_type": "code",
   "execution_count": 20,
   "id": "ed4850de",
   "metadata": {
    "execution": {
     "iopub.execute_input": "2022-10-05T15:44:52.829954Z",
     "iopub.status.busy": "2022-10-05T15:44:52.829511Z",
     "iopub.status.idle": "2022-10-05T15:44:52.837326Z",
     "shell.execute_reply": "2022-10-05T15:44:52.836383Z"
    },
    "papermill": {
     "duration": 0.053988,
     "end_time": "2022-10-05T15:44:52.839209",
     "exception": false,
     "start_time": "2022-10-05T15:44:52.785221",
     "status": "completed"
    },
    "tags": []
   },
   "outputs": [],
   "source": [
    "#Fit and Predict:\n",
    "def runSVM():\n",
    "    svm=SVC(C=1000, gamma=0.0001, kernel = 'linear')\n",
    "    svm.fit(X_train, y_train)\n",
    "    svmPedict = svm.predict(X_test)\n",
    "    np.shape(svmPedict)\n",
    "    np.shape(y_test)\n",
    "    #y_class = np.argmax(y_pred, axis = 0)\n",
    "\n",
    "    #calculate AUC of model\n",
    "    svmAUC = round( metrics.roc_auc_score(y_test, svmPedict, multi_class='ovr'), 4 ) \n",
    "    print(\"SVC AUC is: \", svmAUC)\n",
    "\n",
    "    svmR2 = r2_score(y_test, svmPedict).round(4) \n",
    "    print(\"SVM r2: \", svmR2) \n",
    "\n",
    "    svmMAE=metrics.mean_absolute_error(y_test, svmPedict)\n",
    "    \n",
    "    plt.figure(figsize=(5, 7))\n",
    "    ax = sns.distplot(y, hist=False, color=\"r\", label=\"Actual Value\")\n",
    "    sns.distplot(y_test, hist=False, color=\"b\", label=\"Fitted Values\" , ax=ax)\n",
    "    plt.title('Actual vs Fitted Values')\n",
    "    plt.show()\n",
    "    plt.close()"
   ]
  },
  {
   "cell_type": "markdown",
   "id": "a391fdf7",
   "metadata": {
    "papermill": {
     "duration": 0.045319,
     "end_time": "2022-10-05T15:44:52.927421",
     "exception": false,
     "start_time": "2022-10-05T15:44:52.882102",
     "status": "completed"
    },
    "tags": []
   },
   "source": [
    "# Test Data"
   ]
  },
  {
   "cell_type": "code",
   "execution_count": 21,
   "id": "c016bda3",
   "metadata": {
    "execution": {
     "iopub.execute_input": "2022-10-05T15:44:53.015574Z",
     "iopub.status.busy": "2022-10-05T15:44:53.015018Z",
     "iopub.status.idle": "2022-10-05T15:44:53.031074Z",
     "shell.execute_reply": "2022-10-05T15:44:53.030556Z"
    },
    "papermill": {
     "duration": 0.062038,
     "end_time": "2022-10-05T15:44:53.032779",
     "exception": false,
     "start_time": "2022-10-05T15:44:52.970741",
     "status": "completed"
    },
    "tags": []
   },
   "outputs": [
    {
     "data": {
      "text/html": [
       "<div>\n",
       "<style scoped>\n",
       "    .dataframe tbody tr th:only-of-type {\n",
       "        vertical-align: middle;\n",
       "    }\n",
       "\n",
       "    .dataframe tbody tr th {\n",
       "        vertical-align: top;\n",
       "    }\n",
       "\n",
       "    .dataframe thead th {\n",
       "        text-align: right;\n",
       "    }\n",
       "</style>\n",
       "<table border=\"1\" class=\"dataframe\">\n",
       "  <thead>\n",
       "    <tr style=\"text-align: right;\">\n",
       "      <th></th>\n",
       "      <th>PassengerId</th>\n",
       "      <th>Pclass</th>\n",
       "      <th>Sex</th>\n",
       "      <th>Age</th>\n",
       "      <th>SibSp</th>\n",
       "      <th>Parch</th>\n",
       "      <th>Fare</th>\n",
       "    </tr>\n",
       "  </thead>\n",
       "  <tbody>\n",
       "    <tr>\n",
       "      <th>0</th>\n",
       "      <td>892</td>\n",
       "      <td>3</td>\n",
       "      <td>1</td>\n",
       "      <td>34.5</td>\n",
       "      <td>0</td>\n",
       "      <td>0</td>\n",
       "      <td>7.8292</td>\n",
       "    </tr>\n",
       "    <tr>\n",
       "      <th>1</th>\n",
       "      <td>893</td>\n",
       "      <td>3</td>\n",
       "      <td>0</td>\n",
       "      <td>47.0</td>\n",
       "      <td>1</td>\n",
       "      <td>0</td>\n",
       "      <td>7.0000</td>\n",
       "    </tr>\n",
       "    <tr>\n",
       "      <th>2</th>\n",
       "      <td>894</td>\n",
       "      <td>2</td>\n",
       "      <td>1</td>\n",
       "      <td>62.0</td>\n",
       "      <td>0</td>\n",
       "      <td>0</td>\n",
       "      <td>9.6875</td>\n",
       "    </tr>\n",
       "    <tr>\n",
       "      <th>3</th>\n",
       "      <td>895</td>\n",
       "      <td>3</td>\n",
       "      <td>1</td>\n",
       "      <td>27.0</td>\n",
       "      <td>0</td>\n",
       "      <td>0</td>\n",
       "      <td>8.6625</td>\n",
       "    </tr>\n",
       "    <tr>\n",
       "      <th>4</th>\n",
       "      <td>896</td>\n",
       "      <td>3</td>\n",
       "      <td>0</td>\n",
       "      <td>22.0</td>\n",
       "      <td>1</td>\n",
       "      <td>1</td>\n",
       "      <td>12.2875</td>\n",
       "    </tr>\n",
       "  </tbody>\n",
       "</table>\n",
       "</div>"
      ],
      "text/plain": [
       "   PassengerId  Pclass  Sex   Age  SibSp  Parch     Fare\n",
       "0          892       3    1  34.5      0      0   7.8292\n",
       "1          893       3    0  47.0      1      0   7.0000\n",
       "2          894       2    1  62.0      0      0   9.6875\n",
       "3          895       3    1  27.0      0      0   8.6625\n",
       "4          896       3    0  22.0      1      1  12.2875"
      ]
     },
     "execution_count": 21,
     "metadata": {},
     "output_type": "execute_result"
    }
   ],
   "source": [
    "#GENDER\n",
    "test['Sex']=test['Sex'].map({'female':0,'male':1})\n",
    "\n",
    "features=list(X.columns)\n",
    "test=test[features]\n",
    "\n",
    "test=test.fillna(test.mean())\n",
    "test.head()"
   ]
  },
  {
   "cell_type": "markdown",
   "id": "b89088eb",
   "metadata": {
    "papermill": {
     "duration": 0.043944,
     "end_time": "2022-10-05T15:44:53.120247",
     "exception": false,
     "start_time": "2022-10-05T15:44:53.076303",
     "status": "completed"
    },
    "tags": []
   },
   "source": [
    "# Final Prediction"
   ]
  },
  {
   "cell_type": "code",
   "execution_count": 22,
   "id": "63a401a1",
   "metadata": {
    "execution": {
     "iopub.execute_input": "2022-10-05T15:44:53.211514Z",
     "iopub.status.busy": "2022-10-05T15:44:53.210963Z",
     "iopub.status.idle": "2022-10-05T15:44:53.232905Z",
     "shell.execute_reply": "2022-10-05T15:44:53.232240Z"
    },
    "papermill": {
     "duration": 0.069258,
     "end_time": "2022-10-05T15:44:53.234688",
     "exception": false,
     "start_time": "2022-10-05T15:44:53.165430",
     "status": "completed"
    },
    "tags": []
   },
   "outputs": [
    {
     "data": {
      "text/html": [
       "<div>\n",
       "<style scoped>\n",
       "    .dataframe tbody tr th:only-of-type {\n",
       "        vertical-align: middle;\n",
       "    }\n",
       "\n",
       "    .dataframe tbody tr th {\n",
       "        vertical-align: top;\n",
       "    }\n",
       "\n",
       "    .dataframe thead th {\n",
       "        text-align: right;\n",
       "    }\n",
       "</style>\n",
       "<table border=\"1\" class=\"dataframe\">\n",
       "  <thead>\n",
       "    <tr style=\"text-align: right;\">\n",
       "      <th></th>\n",
       "      <th>PassengerId</th>\n",
       "      <th>Survived</th>\n",
       "    </tr>\n",
       "  </thead>\n",
       "  <tbody>\n",
       "    <tr>\n",
       "      <th>0</th>\n",
       "      <td>892</td>\n",
       "      <td>0</td>\n",
       "    </tr>\n",
       "    <tr>\n",
       "      <th>1</th>\n",
       "      <td>893</td>\n",
       "      <td>0</td>\n",
       "    </tr>\n",
       "    <tr>\n",
       "      <th>2</th>\n",
       "      <td>894</td>\n",
       "      <td>0</td>\n",
       "    </tr>\n",
       "    <tr>\n",
       "      <th>3</th>\n",
       "      <td>895</td>\n",
       "      <td>0</td>\n",
       "    </tr>\n",
       "    <tr>\n",
       "      <th>4</th>\n",
       "      <td>896</td>\n",
       "      <td>0</td>\n",
       "    </tr>\n",
       "    <tr>\n",
       "      <th>5</th>\n",
       "      <td>897</td>\n",
       "      <td>0</td>\n",
       "    </tr>\n",
       "    <tr>\n",
       "      <th>6</th>\n",
       "      <td>898</td>\n",
       "      <td>1</td>\n",
       "    </tr>\n",
       "  </tbody>\n",
       "</table>\n",
       "</div>"
      ],
      "text/plain": [
       "   PassengerId  Survived\n",
       "0          892         0\n",
       "1          893         0\n",
       "2          894         0\n",
       "3          895         0\n",
       "4          896         0\n",
       "5          897         0\n",
       "6          898         1"
      ]
     },
     "execution_count": 22,
     "metadata": {},
     "output_type": "execute_result"
    }
   ],
   "source": [
    "test_predictions = forestFinal.predict(test)\n",
    "passID=test['PassengerId']\n",
    "tupleData = list(zip(passID, test_predictions))\n",
    "output = pd.DataFrame(tupleData, columns = ['PassengerId', 'Survived'])\n",
    "output.head(7)"
   ]
  },
  {
   "cell_type": "code",
   "execution_count": 23,
   "id": "1fdc4eaf",
   "metadata": {
    "execution": {
     "iopub.execute_input": "2022-10-05T15:44:53.349892Z",
     "iopub.status.busy": "2022-10-05T15:44:53.349016Z",
     "iopub.status.idle": "2022-10-05T15:44:53.357121Z",
     "shell.execute_reply": "2022-10-05T15:44:53.355924Z"
    },
    "papermill": {
     "duration": 0.073431,
     "end_time": "2022-10-05T15:44:53.359267",
     "exception": false,
     "start_time": "2022-10-05T15:44:53.285836",
     "status": "completed"
    },
    "tags": []
   },
   "outputs": [
    {
     "name": "stdout",
     "output_type": "stream",
     "text": [
      "Your submission was successfully saved!\n"
     ]
    }
   ],
   "source": [
    "output.to_csv('submission.csv', index=False)\n",
    "print(\"Your submission was successfully saved!\")"
   ]
  },
  {
   "cell_type": "markdown",
   "id": "b5d4cad6",
   "metadata": {
    "papermill": {
     "duration": 0.044833,
     "end_time": "2022-10-05T15:44:53.449167",
     "exception": false,
     "start_time": "2022-10-05T15:44:53.404334",
     "status": "completed"
    },
    "tags": []
   },
   "source": [
    "#### Notes:\n",
    "Being a wife makes no difference in the final prediction: <br>\n",
    "` df['Titles'] = df['Name'].str.extract(r', (\\w+\\.)') \n",
    "df['Titles'] = df['Titles'].apply(lambda x: 1 if x=='Mrs.' else 0) `"
   ]
  }
 ],
 "metadata": {
  "kernelspec": {
   "display_name": "Python 3",
   "language": "python",
   "name": "python3"
  },
  "language_info": {
   "codemirror_mode": {
    "name": "ipython",
    "version": 3
   },
   "file_extension": ".py",
   "mimetype": "text/x-python",
   "name": "python",
   "nbconvert_exporter": "python",
   "pygments_lexer": "ipython3",
   "version": "3.7.12"
  },
  "papermill": {
   "default_parameters": {},
   "duration": 33.465552,
   "end_time": "2022-10-05T15:44:54.316225",
   "environment_variables": {},
   "exception": null,
   "input_path": "__notebook__.ipynb",
   "output_path": "__notebook__.ipynb",
   "parameters": {},
   "start_time": "2022-10-05T15:44:20.850673",
   "version": "2.3.4"
  }
 },
 "nbformat": 4,
 "nbformat_minor": 5
}
