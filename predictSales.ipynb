{
 "cells": [
  {
   "cell_type": "markdown",
   "id": "5888f5d2",
   "metadata": {
    "papermill": {
     "duration": 0.008569,
     "end_time": "2022-11-15T22:29:11.096377",
     "exception": false,
     "start_time": "2022-11-15T22:29:11.087808",
     "status": "completed"
    },
    "tags": []
   },
   "source": [
    "# Predict Future Sales\n",
    "You are provided with daily historical sales data. The task is to forecast the total amount of products sold in every shop for the test set. Note that the list of shops and products slightly changes every month. Creating a robust model that can handle such situations is part of the challenge."
   ]
  },
  {
   "cell_type": "markdown",
   "id": "8390b03a",
   "metadata": {
    "papermill": {
     "duration": 0.007016,
     "end_time": "2022-11-15T22:29:11.110955",
     "exception": false,
     "start_time": "2022-11-15T22:29:11.103939",
     "status": "completed"
    },
    "tags": []
   },
   "source": [
    "## File descriptions\n",
    "* sales_train.csv - the training set. Daily historical data from January 2013 to October 2015.\n",
    "* test.csv - the test set. You need to forecast the sales for these shops and products for November 2015.\n",
    "* sample_submission.csv - a sample submission file in the correct format.\n",
    "* items.csv - supplemental information about the items/products.\n",
    "* item_categories.csv  - supplemental information about the items categories.\n",
    "* shops.csv- supplemental information about the shops."
   ]
  },
  {
   "cell_type": "code",
   "execution_count": 1,
   "id": "ae5781c7",
   "metadata": {
    "execution": {
     "iopub.execute_input": "2022-11-15T22:29:11.127846Z",
     "iopub.status.busy": "2022-11-15T22:29:11.127265Z",
     "iopub.status.idle": "2022-11-15T22:29:11.141313Z",
     "shell.execute_reply": "2022-11-15T22:29:11.140224Z"
    },
    "papermill": {
     "duration": 0.025506,
     "end_time": "2022-11-15T22:29:11.143718",
     "exception": false,
     "start_time": "2022-11-15T22:29:11.118212",
     "status": "completed"
    },
    "tags": []
   },
   "outputs": [],
   "source": [
    "import pandas as pd\n",
    "\n",
    "items=r'/kaggle/input/competitive-data-science-predict-future-sales/items.csv'\n",
    "sample='/kaggle/input/competitive-data-science-predict-future-sales/sample_submission.csv'\n",
    "categories=r'/kaggle/input/competitive-data-science-predict-future-sales/item_categories.csv'\n",
    "train=r'/kaggle/input/competitive-data-science-predict-future-sales/sales_train.csv'\n",
    "shops=r'/kaggle/input/competitive-data-science-predict-future-sales/shops.csv'\n",
    "test=r'/kaggle/input/competitive-data-science-predict-future-sales/test.csv'"
   ]
  },
  {
   "cell_type": "code",
   "execution_count": 2,
   "id": "9cb44b1a",
   "metadata": {
    "execution": {
     "iopub.execute_input": "2022-11-15T22:29:11.160460Z",
     "iopub.status.busy": "2022-11-15T22:29:11.159720Z",
     "iopub.status.idle": "2022-11-15T22:29:13.808238Z",
     "shell.execute_reply": "2022-11-15T22:29:13.806789Z"
    },
    "papermill": {
     "duration": 2.660642,
     "end_time": "2022-11-15T22:29:13.811810",
     "exception": false,
     "start_time": "2022-11-15T22:29:11.151168",
     "status": "completed"
    },
    "tags": []
   },
   "outputs": [
    {
     "data": {
      "text/html": [
       "<div>\n",
       "<style scoped>\n",
       "    .dataframe tbody tr th:only-of-type {\n",
       "        vertical-align: middle;\n",
       "    }\n",
       "\n",
       "    .dataframe tbody tr th {\n",
       "        vertical-align: top;\n",
       "    }\n",
       "\n",
       "    .dataframe thead th {\n",
       "        text-align: right;\n",
       "    }\n",
       "</style>\n",
       "<table border=\"1\" class=\"dataframe\">\n",
       "  <thead>\n",
       "    <tr style=\"text-align: right;\">\n",
       "      <th></th>\n",
       "      <th>date</th>\n",
       "      <th>date_block_num</th>\n",
       "      <th>shop_id</th>\n",
       "      <th>item_id</th>\n",
       "      <th>item_price</th>\n",
       "      <th>item_cnt_day</th>\n",
       "    </tr>\n",
       "  </thead>\n",
       "  <tbody>\n",
       "    <tr>\n",
       "      <th>0</th>\n",
       "      <td>02.01.2013</td>\n",
       "      <td>0</td>\n",
       "      <td>59</td>\n",
       "      <td>22154</td>\n",
       "      <td>999.00</td>\n",
       "      <td>1.0</td>\n",
       "    </tr>\n",
       "    <tr>\n",
       "      <th>1</th>\n",
       "      <td>03.01.2013</td>\n",
       "      <td>0</td>\n",
       "      <td>25</td>\n",
       "      <td>2552</td>\n",
       "      <td>899.00</td>\n",
       "      <td>1.0</td>\n",
       "    </tr>\n",
       "    <tr>\n",
       "      <th>2</th>\n",
       "      <td>05.01.2013</td>\n",
       "      <td>0</td>\n",
       "      <td>25</td>\n",
       "      <td>2552</td>\n",
       "      <td>899.00</td>\n",
       "      <td>-1.0</td>\n",
       "    </tr>\n",
       "    <tr>\n",
       "      <th>3</th>\n",
       "      <td>06.01.2013</td>\n",
       "      <td>0</td>\n",
       "      <td>25</td>\n",
       "      <td>2554</td>\n",
       "      <td>1709.05</td>\n",
       "      <td>1.0</td>\n",
       "    </tr>\n",
       "    <tr>\n",
       "      <th>4</th>\n",
       "      <td>15.01.2013</td>\n",
       "      <td>0</td>\n",
       "      <td>25</td>\n",
       "      <td>2555</td>\n",
       "      <td>1099.00</td>\n",
       "      <td>1.0</td>\n",
       "    </tr>\n",
       "  </tbody>\n",
       "</table>\n",
       "</div>"
      ],
      "text/plain": [
       "         date  date_block_num  shop_id  item_id  item_price  item_cnt_day\n",
       "0  02.01.2013               0       59    22154      999.00           1.0\n",
       "1  03.01.2013               0       25     2552      899.00           1.0\n",
       "2  05.01.2013               0       25     2552      899.00          -1.0\n",
       "3  06.01.2013               0       25     2554     1709.05           1.0\n",
       "4  15.01.2013               0       25     2555     1099.00           1.0"
      ]
     },
     "execution_count": 2,
     "metadata": {},
     "output_type": "execute_result"
    }
   ],
   "source": [
    "train=pd.read_csv(train)\n",
    "train.head()"
   ]
  },
  {
   "cell_type": "code",
   "execution_count": 3,
   "id": "216a0c80",
   "metadata": {
    "execution": {
     "iopub.execute_input": "2022-11-15T22:29:13.830072Z",
     "iopub.status.busy": "2022-11-15T22:29:13.829646Z",
     "iopub.status.idle": "2022-11-15T22:29:13.848337Z",
     "shell.execute_reply": "2022-11-15T22:29:13.847482Z"
    },
    "papermill": {
     "duration": 0.029777,
     "end_time": "2022-11-15T22:29:13.850474",
     "exception": false,
     "start_time": "2022-11-15T22:29:13.820697",
     "status": "completed"
    },
    "tags": []
   },
   "outputs": [
    {
     "data": {
      "text/html": [
       "<div>\n",
       "<style scoped>\n",
       "    .dataframe tbody tr th:only-of-type {\n",
       "        vertical-align: middle;\n",
       "    }\n",
       "\n",
       "    .dataframe tbody tr th {\n",
       "        vertical-align: top;\n",
       "    }\n",
       "\n",
       "    .dataframe thead th {\n",
       "        text-align: right;\n",
       "    }\n",
       "</style>\n",
       "<table border=\"1\" class=\"dataframe\">\n",
       "  <thead>\n",
       "    <tr style=\"text-align: right;\">\n",
       "      <th></th>\n",
       "      <th>shop_name</th>\n",
       "      <th>shop_id</th>\n",
       "    </tr>\n",
       "  </thead>\n",
       "  <tbody>\n",
       "    <tr>\n",
       "      <th>0</th>\n",
       "      <td>!Якутск Орджоникидзе, 56 фран</td>\n",
       "      <td>0</td>\n",
       "    </tr>\n",
       "    <tr>\n",
       "      <th>1</th>\n",
       "      <td>!Якутск ТЦ \"Центральный\" фран</td>\n",
       "      <td>1</td>\n",
       "    </tr>\n",
       "    <tr>\n",
       "      <th>2</th>\n",
       "      <td>Адыгея ТЦ \"Мега\"</td>\n",
       "      <td>2</td>\n",
       "    </tr>\n",
       "    <tr>\n",
       "      <th>3</th>\n",
       "      <td>Балашиха ТРК \"Октябрь-Киномир\"</td>\n",
       "      <td>3</td>\n",
       "    </tr>\n",
       "    <tr>\n",
       "      <th>4</th>\n",
       "      <td>Волжский ТЦ \"Волга Молл\"</td>\n",
       "      <td>4</td>\n",
       "    </tr>\n",
       "  </tbody>\n",
       "</table>\n",
       "</div>"
      ],
      "text/plain": [
       "                        shop_name  shop_id\n",
       "0   !Якутск Орджоникидзе, 56 фран        0\n",
       "1   !Якутск ТЦ \"Центральный\" фран        1\n",
       "2                Адыгея ТЦ \"Мега\"        2\n",
       "3  Балашиха ТРК \"Октябрь-Киномир\"        3\n",
       "4        Волжский ТЦ \"Волга Молл\"        4"
      ]
     },
     "execution_count": 3,
     "metadata": {},
     "output_type": "execute_result"
    }
   ],
   "source": [
    "shops=pd.read_csv(shops)\n",
    "shops.head()"
   ]
  },
  {
   "cell_type": "code",
   "execution_count": 4,
   "id": "81ac126c",
   "metadata": {
    "execution": {
     "iopub.execute_input": "2022-11-15T22:29:13.869653Z",
     "iopub.status.busy": "2022-11-15T22:29:13.868952Z",
     "iopub.status.idle": "2022-11-15T22:29:13.951158Z",
     "shell.execute_reply": "2022-11-15T22:29:13.950080Z"
    },
    "papermill": {
     "duration": 0.095023,
     "end_time": "2022-11-15T22:29:13.953354",
     "exception": false,
     "start_time": "2022-11-15T22:29:13.858331",
     "status": "completed"
    },
    "tags": []
   },
   "outputs": [
    {
     "data": {
      "text/html": [
       "<div>\n",
       "<style scoped>\n",
       "    .dataframe tbody tr th:only-of-type {\n",
       "        vertical-align: middle;\n",
       "    }\n",
       "\n",
       "    .dataframe tbody tr th {\n",
       "        vertical-align: top;\n",
       "    }\n",
       "\n",
       "    .dataframe thead th {\n",
       "        text-align: right;\n",
       "    }\n",
       "</style>\n",
       "<table border=\"1\" class=\"dataframe\">\n",
       "  <thead>\n",
       "    <tr style=\"text-align: right;\">\n",
       "      <th></th>\n",
       "      <th>item_name</th>\n",
       "      <th>item_id</th>\n",
       "      <th>item_category_id</th>\n",
       "    </tr>\n",
       "  </thead>\n",
       "  <tbody>\n",
       "    <tr>\n",
       "      <th>0</th>\n",
       "      <td>! ВО ВЛАСТИ НАВАЖДЕНИЯ (ПЛАСТ.)         D</td>\n",
       "      <td>0</td>\n",
       "      <td>40</td>\n",
       "    </tr>\n",
       "    <tr>\n",
       "      <th>1</th>\n",
       "      <td>!ABBYY FineReader 12 Professional Edition Full...</td>\n",
       "      <td>1</td>\n",
       "      <td>76</td>\n",
       "    </tr>\n",
       "    <tr>\n",
       "      <th>2</th>\n",
       "      <td>***В ЛУЧАХ СЛАВЫ   (UNV)                    D</td>\n",
       "      <td>2</td>\n",
       "      <td>40</td>\n",
       "    </tr>\n",
       "    <tr>\n",
       "      <th>3</th>\n",
       "      <td>***ГОЛУБАЯ ВОЛНА  (Univ)                      D</td>\n",
       "      <td>3</td>\n",
       "      <td>40</td>\n",
       "    </tr>\n",
       "    <tr>\n",
       "      <th>4</th>\n",
       "      <td>***КОРОБКА (СТЕКЛО)                       D</td>\n",
       "      <td>4</td>\n",
       "      <td>40</td>\n",
       "    </tr>\n",
       "  </tbody>\n",
       "</table>\n",
       "</div>"
      ],
      "text/plain": [
       "                                           item_name  item_id  \\\n",
       "0          ! ВО ВЛАСТИ НАВАЖДЕНИЯ (ПЛАСТ.)         D        0   \n",
       "1  !ABBYY FineReader 12 Professional Edition Full...        1   \n",
       "2      ***В ЛУЧАХ СЛАВЫ   (UNV)                    D        2   \n",
       "3    ***ГОЛУБАЯ ВОЛНА  (Univ)                      D        3   \n",
       "4        ***КОРОБКА (СТЕКЛО)                       D        4   \n",
       "\n",
       "   item_category_id  \n",
       "0                40  \n",
       "1                76  \n",
       "2                40  \n",
       "3                40  \n",
       "4                40  "
      ]
     },
     "execution_count": 4,
     "metadata": {},
     "output_type": "execute_result"
    }
   ],
   "source": [
    "items=pd.read_csv(items)\n",
    "items.head()"
   ]
  },
  {
   "cell_type": "code",
   "execution_count": 5,
   "id": "57e9917c",
   "metadata": {
    "execution": {
     "iopub.execute_input": "2022-11-15T22:29:13.971502Z",
     "iopub.status.busy": "2022-11-15T22:29:13.971078Z",
     "iopub.status.idle": "2022-11-15T22:29:13.985549Z",
     "shell.execute_reply": "2022-11-15T22:29:13.984471Z"
    },
    "papermill": {
     "duration": 0.02661,
     "end_time": "2022-11-15T22:29:13.988467",
     "exception": false,
     "start_time": "2022-11-15T22:29:13.961857",
     "status": "completed"
    },
    "tags": []
   },
   "outputs": [
    {
     "data": {
      "text/html": [
       "<div>\n",
       "<style scoped>\n",
       "    .dataframe tbody tr th:only-of-type {\n",
       "        vertical-align: middle;\n",
       "    }\n",
       "\n",
       "    .dataframe tbody tr th {\n",
       "        vertical-align: top;\n",
       "    }\n",
       "\n",
       "    .dataframe thead th {\n",
       "        text-align: right;\n",
       "    }\n",
       "</style>\n",
       "<table border=\"1\" class=\"dataframe\">\n",
       "  <thead>\n",
       "    <tr style=\"text-align: right;\">\n",
       "      <th></th>\n",
       "      <th>item_category_name</th>\n",
       "      <th>item_category_id</th>\n",
       "    </tr>\n",
       "  </thead>\n",
       "  <tbody>\n",
       "    <tr>\n",
       "      <th>0</th>\n",
       "      <td>PC - Гарнитуры/Наушники</td>\n",
       "      <td>0</td>\n",
       "    </tr>\n",
       "    <tr>\n",
       "      <th>1</th>\n",
       "      <td>Аксессуары - PS2</td>\n",
       "      <td>1</td>\n",
       "    </tr>\n",
       "    <tr>\n",
       "      <th>2</th>\n",
       "      <td>Аксессуары - PS3</td>\n",
       "      <td>2</td>\n",
       "    </tr>\n",
       "    <tr>\n",
       "      <th>3</th>\n",
       "      <td>Аксессуары - PS4</td>\n",
       "      <td>3</td>\n",
       "    </tr>\n",
       "    <tr>\n",
       "      <th>4</th>\n",
       "      <td>Аксессуары - PSP</td>\n",
       "      <td>4</td>\n",
       "    </tr>\n",
       "  </tbody>\n",
       "</table>\n",
       "</div>"
      ],
      "text/plain": [
       "        item_category_name  item_category_id\n",
       "0  PC - Гарнитуры/Наушники                 0\n",
       "1         Аксессуары - PS2                 1\n",
       "2         Аксессуары - PS3                 2\n",
       "3         Аксессуары - PS4                 3\n",
       "4         Аксессуары - PSP                 4"
      ]
     },
     "execution_count": 5,
     "metadata": {},
     "output_type": "execute_result"
    }
   ],
   "source": [
    "categories=pd.read_csv(categories)\n",
    "categories.head()"
   ]
  },
  {
   "cell_type": "markdown",
   "id": "37153261",
   "metadata": {
    "papermill": {
     "duration": 0.007924,
     "end_time": "2022-11-15T22:29:14.005003",
     "exception": false,
     "start_time": "2022-11-15T22:29:13.997079",
     "status": "completed"
    },
    "tags": []
   },
   "source": [
    "# Merged DataFrame\n",
    "Data fields\n",
    "* ID - an Id that represents a (Shop, Item) tuple within the test set\n",
    "* shop_id - unique identifier of a shop\n",
    "* item_id - unique identifier of a product\n",
    "* item_category_id - unique identifier of item category\n",
    "* item_cnt_day - number of products sold. You are predicting a monthly amount of this measure\n",
    "* item_price - current price of an item\n",
    "* date - date in format dd/mm/yyyy\n",
    "* date_block_num - a consecutive month number, used for convenience. January 2013 is 0, February 2013 is 1,..., October 2015 is 33\n",
    "* item_name - name of item"
   ]
  },
  {
   "cell_type": "code",
   "execution_count": 6,
   "id": "5d899520",
   "metadata": {
    "execution": {
     "iopub.execute_input": "2022-11-15T22:29:14.023368Z",
     "iopub.status.busy": "2022-11-15T22:29:14.022273Z",
     "iopub.status.idle": "2022-11-15T22:29:14.452536Z",
     "shell.execute_reply": "2022-11-15T22:29:14.451261Z"
    },
    "papermill": {
     "duration": 0.442075,
     "end_time": "2022-11-15T22:29:14.455148",
     "exception": false,
     "start_time": "2022-11-15T22:29:14.013073",
     "status": "completed"
    },
    "tags": []
   },
   "outputs": [
    {
     "data": {
      "text/html": [
       "<div>\n",
       "<style scoped>\n",
       "    .dataframe tbody tr th:only-of-type {\n",
       "        vertical-align: middle;\n",
       "    }\n",
       "\n",
       "    .dataframe tbody tr th {\n",
       "        vertical-align: top;\n",
       "    }\n",
       "\n",
       "    .dataframe thead th {\n",
       "        text-align: right;\n",
       "    }\n",
       "</style>\n",
       "<table border=\"1\" class=\"dataframe\">\n",
       "  <thead>\n",
       "    <tr style=\"text-align: right;\">\n",
       "      <th></th>\n",
       "      <th>date</th>\n",
       "      <th>date_block_num</th>\n",
       "      <th>shop_id</th>\n",
       "      <th>item_id</th>\n",
       "      <th>item_price</th>\n",
       "      <th>item_cnt_day</th>\n",
       "      <th>shop_name</th>\n",
       "    </tr>\n",
       "  </thead>\n",
       "  <tbody>\n",
       "    <tr>\n",
       "      <th>0</th>\n",
       "      <td>02.01.2013</td>\n",
       "      <td>0</td>\n",
       "      <td>59</td>\n",
       "      <td>22154</td>\n",
       "      <td>999.0</td>\n",
       "      <td>1.0</td>\n",
       "      <td>Ярославль ТЦ \"Альтаир\"</td>\n",
       "    </tr>\n",
       "    <tr>\n",
       "      <th>1</th>\n",
       "      <td>10.01.2013</td>\n",
       "      <td>0</td>\n",
       "      <td>59</td>\n",
       "      <td>22151</td>\n",
       "      <td>399.0</td>\n",
       "      <td>1.0</td>\n",
       "      <td>Ярославль ТЦ \"Альтаир\"</td>\n",
       "    </tr>\n",
       "    <tr>\n",
       "      <th>2</th>\n",
       "      <td>04.01.2013</td>\n",
       "      <td>0</td>\n",
       "      <td>59</td>\n",
       "      <td>5603</td>\n",
       "      <td>699.0</td>\n",
       "      <td>1.0</td>\n",
       "      <td>Ярославль ТЦ \"Альтаир\"</td>\n",
       "    </tr>\n",
       "    <tr>\n",
       "      <th>3</th>\n",
       "      <td>19.01.2013</td>\n",
       "      <td>0</td>\n",
       "      <td>59</td>\n",
       "      <td>5587</td>\n",
       "      <td>199.0</td>\n",
       "      <td>2.0</td>\n",
       "      <td>Ярославль ТЦ \"Альтаир\"</td>\n",
       "    </tr>\n",
       "    <tr>\n",
       "      <th>4</th>\n",
       "      <td>31.01.2013</td>\n",
       "      <td>0</td>\n",
       "      <td>59</td>\n",
       "      <td>5613</td>\n",
       "      <td>5571.0</td>\n",
       "      <td>1.0</td>\n",
       "      <td>Ярославль ТЦ \"Альтаир\"</td>\n",
       "    </tr>\n",
       "  </tbody>\n",
       "</table>\n",
       "</div>"
      ],
      "text/plain": [
       "         date  date_block_num  shop_id  item_id  item_price  item_cnt_day  \\\n",
       "0  02.01.2013               0       59    22154       999.0           1.0   \n",
       "1  10.01.2013               0       59    22151       399.0           1.0   \n",
       "2  04.01.2013               0       59     5603       699.0           1.0   \n",
       "3  19.01.2013               0       59     5587       199.0           2.0   \n",
       "4  31.01.2013               0       59     5613      5571.0           1.0   \n",
       "\n",
       "                shop_name  \n",
       "0  Ярославль ТЦ \"Альтаир\"  \n",
       "1  Ярославль ТЦ \"Альтаир\"  \n",
       "2  Ярославль ТЦ \"Альтаир\"  \n",
       "3  Ярославль ТЦ \"Альтаир\"  \n",
       "4  Ярославль ТЦ \"Альтаир\"  "
      ]
     },
     "execution_count": 6,
     "metadata": {},
     "output_type": "execute_result"
    }
   ],
   "source": [
    "df=pd.merge(train, shops, on='shop_id')\n",
    "df.head()"
   ]
  },
  {
   "cell_type": "code",
   "execution_count": 7,
   "id": "51afc9a3",
   "metadata": {
    "execution": {
     "iopub.execute_input": "2022-11-15T22:29:14.474351Z",
     "iopub.status.busy": "2022-11-15T22:29:14.473949Z",
     "iopub.status.idle": "2022-11-15T22:29:14.513864Z",
     "shell.execute_reply": "2022-11-15T22:29:14.512336Z"
    },
    "papermill": {
     "duration": 0.052565,
     "end_time": "2022-11-15T22:29:14.516465",
     "exception": false,
     "start_time": "2022-11-15T22:29:14.463900",
     "status": "completed"
    },
    "tags": []
   },
   "outputs": [
    {
     "name": "stdout",
     "output_type": "stream",
     "text": [
      "[1.0, 2.0, -1.0, 3.0, 5.0, 6.0, 4.0, -2.0, 10.0, 8.0, 9.0, 7.0, 16.0, 13.0, 12.0, 14.0, 26.0, 11.0, 20.0, 39.0, 28.0, 27.0, 34.0, 19.0, 31.0, 22.0, 17.0, 29.0, 45.0, 21.0, 18.0, 56.0, 15.0, 80.0, 69.0, 40.0, 24.0, 32.0, 23.0, 25.0, 77.0, 41.0, 33.0, 37.0, 36.0, 38.0, 70.0, 30.0, 44.0, 71.0, 48.0, 62.0, 264.0, 110.0, 133.0, 51.0, 46.0, 60.0, 43.0, 65.0, 84.0, 50.0, 47.0, 52.0, 85.0, 35.0, 54.0, 68.0, 59.0, 91.0, 64.0, 87.0, 74.0, 42.0, 501.0, 93.0, 49.0, 53.0, 147.0, 72.0, 205.0, 67.0, 63.0, 55.0, 222.0, 207.0, 82.0, 148.0, 134.0, 78.0, 79.0, 83.0, 405.0, 103.0, 98.0, 100.0, 92.0, -3.0, -4.0, 121.0, 61.0, 156.0, 73.0, 66.0, 145.0, 57.0, 101.0, 81.0, 131.0, 401.0, 502.0, 151.0, 75.0, 240.0, 111.0, 104.0, 76.0, 118.0, 138.0, -5.0, 89.0, 194.0, 255.0, 153.0, -16.0, 117.0, -6.0, 200.0, 150.0, 106.0, 109.0, 97.0, -22.0, 96.0, 242.0, 105.0, 126.0, 58.0, 99.0, 171.0, 130.0, 115.0, 90.0, 124.0, 149.0, 132.0, 195.0, 512.0, -9.0, 142.0, 163.0, 108.0, 500.0, 1000.0, 127.0, 624.0, 187.0, 140.0, 480.0, 343.0, 539.0, 95.0, 146.0, 669.0, 114.0, 157.0, 504.0, 139.0, 161.0, 2169.0, 88.0, 288.0, 86.0, 107.0, 102.0, 300.0, 313.0, 251.0, 217.0, 113.0, 112.0, 299.0, 230.0, 179.0, 168.0, 167.0, 164.0, 508.0, 412.0, 128.0, 116.0, 325.0, 129.0, 231.0, 154.0, 533.0, 637.0, 135.0]\n"
     ]
    }
   ],
   "source": [
    "item_count=list(df['item_cnt_day'].unique())\n",
    "print(item_count)"
   ]
  },
  {
   "cell_type": "code",
   "execution_count": 8,
   "id": "1db28916",
   "metadata": {
    "execution": {
     "iopub.execute_input": "2022-11-15T22:29:14.535236Z",
     "iopub.status.busy": "2022-11-15T22:29:14.534862Z",
     "iopub.status.idle": "2022-11-15T22:29:14.830149Z",
     "shell.execute_reply": "2022-11-15T22:29:14.825686Z"
    },
    "papermill": {
     "duration": 0.309057,
     "end_time": "2022-11-15T22:29:14.834078",
     "exception": false,
     "start_time": "2022-11-15T22:29:14.525021",
     "status": "completed"
    },
    "tags": []
   },
   "outputs": [
    {
     "data": {
      "text/plain": [
       "date              0\n",
       "date_block_num    0\n",
       "shop_id           0\n",
       "item_id           0\n",
       "item_price        0\n",
       "item_cnt_day      0\n",
       "shop_name         0\n",
       "dtype: int64"
      ]
     },
     "execution_count": 8,
     "metadata": {},
     "output_type": "execute_result"
    }
   ],
   "source": [
    "df.isnull().sum()"
   ]
  },
  {
   "cell_type": "markdown",
   "id": "b9250c30",
   "metadata": {
    "papermill": {
     "duration": 0.011861,
     "end_time": "2022-11-15T22:29:14.857554",
     "exception": false,
     "start_time": "2022-11-15T22:29:14.845693",
     "status": "completed"
    },
    "tags": []
   },
   "source": [
    "# Test Data\n",
    "We will make predictions on the following test dataset."
   ]
  },
  {
   "cell_type": "code",
   "execution_count": 9,
   "id": "26e6ebf2",
   "metadata": {
    "execution": {
     "iopub.execute_input": "2022-11-15T22:29:14.882497Z",
     "iopub.status.busy": "2022-11-15T22:29:14.881380Z",
     "iopub.status.idle": "2022-11-15T22:29:14.980769Z",
     "shell.execute_reply": "2022-11-15T22:29:14.979725Z"
    },
    "papermill": {
     "duration": 0.116503,
     "end_time": "2022-11-15T22:29:14.983018",
     "exception": false,
     "start_time": "2022-11-15T22:29:14.866515",
     "status": "completed"
    },
    "tags": []
   },
   "outputs": [
    {
     "data": {
      "text/html": [
       "<div>\n",
       "<style scoped>\n",
       "    .dataframe tbody tr th:only-of-type {\n",
       "        vertical-align: middle;\n",
       "    }\n",
       "\n",
       "    .dataframe tbody tr th {\n",
       "        vertical-align: top;\n",
       "    }\n",
       "\n",
       "    .dataframe thead th {\n",
       "        text-align: right;\n",
       "    }\n",
       "</style>\n",
       "<table border=\"1\" class=\"dataframe\">\n",
       "  <thead>\n",
       "    <tr style=\"text-align: right;\">\n",
       "      <th></th>\n",
       "      <th>ID</th>\n",
       "      <th>shop_id</th>\n",
       "      <th>item_id</th>\n",
       "    </tr>\n",
       "  </thead>\n",
       "  <tbody>\n",
       "    <tr>\n",
       "      <th>0</th>\n",
       "      <td>0</td>\n",
       "      <td>5</td>\n",
       "      <td>5037</td>\n",
       "    </tr>\n",
       "    <tr>\n",
       "      <th>1</th>\n",
       "      <td>1</td>\n",
       "      <td>5</td>\n",
       "      <td>5320</td>\n",
       "    </tr>\n",
       "    <tr>\n",
       "      <th>2</th>\n",
       "      <td>2</td>\n",
       "      <td>5</td>\n",
       "      <td>5233</td>\n",
       "    </tr>\n",
       "    <tr>\n",
       "      <th>3</th>\n",
       "      <td>3</td>\n",
       "      <td>5</td>\n",
       "      <td>5232</td>\n",
       "    </tr>\n",
       "    <tr>\n",
       "      <th>4</th>\n",
       "      <td>4</td>\n",
       "      <td>5</td>\n",
       "      <td>5268</td>\n",
       "    </tr>\n",
       "  </tbody>\n",
       "</table>\n",
       "</div>"
      ],
      "text/plain": [
       "   ID  shop_id  item_id\n",
       "0   0        5     5037\n",
       "1   1        5     5320\n",
       "2   2        5     5233\n",
       "3   3        5     5232\n",
       "4   4        5     5268"
      ]
     },
     "execution_count": 9,
     "metadata": {},
     "output_type": "execute_result"
    }
   ],
   "source": [
    "testDF=pd.read_csv(test)\n",
    "testDF.head()"
   ]
  },
  {
   "cell_type": "markdown",
   "id": "9baea4a1",
   "metadata": {
    "papermill": {
     "duration": 0.008727,
     "end_time": "2022-11-15T22:29:15.000630",
     "exception": false,
     "start_time": "2022-11-15T22:29:14.991903",
     "status": "completed"
    },
    "tags": []
   },
   "source": [
    "# Feature Engineer"
   ]
  },
  {
   "cell_type": "code",
   "execution_count": 10,
   "id": "991817b3",
   "metadata": {
    "execution": {
     "iopub.execute_input": "2022-11-15T22:29:15.020824Z",
     "iopub.status.busy": "2022-11-15T22:29:15.019648Z",
     "iopub.status.idle": "2022-11-15T22:29:16.362327Z",
     "shell.execute_reply": "2022-11-15T22:29:16.360963Z"
    },
    "papermill": {
     "duration": 1.355533,
     "end_time": "2022-11-15T22:29:16.364905",
     "exception": false,
     "start_time": "2022-11-15T22:29:15.009372",
     "status": "completed"
    },
    "tags": []
   },
   "outputs": [
    {
     "name": "stdout",
     "output_type": "stream",
     "text": [
      "[1, 2, 3, 4, 5, 6, 7, 8, 9, 10, 11, 12]\n"
     ]
    }
   ],
   "source": [
    "df['Month'] = df['date'].str[3:5].astype(int)\n",
    "months=list(df['Month'].unique())\n",
    "print(months)"
   ]
  },
  {
   "cell_type": "code",
   "execution_count": 11,
   "id": "21cce2ec",
   "metadata": {
    "execution": {
     "iopub.execute_input": "2022-11-15T22:29:16.385209Z",
     "iopub.status.busy": "2022-11-15T22:29:16.384395Z",
     "iopub.status.idle": "2022-11-15T22:29:17.496747Z",
     "shell.execute_reply": "2022-11-15T22:29:17.495462Z"
    },
    "papermill": {
     "duration": 1.125061,
     "end_time": "2022-11-15T22:29:17.499337",
     "exception": false,
     "start_time": "2022-11-15T22:29:16.374276",
     "status": "completed"
    },
    "tags": []
   },
   "outputs": [
    {
     "name": "stdout",
     "output_type": "stream",
     "text": [
      "[1, 2, 3, 4, 5, 6, 7, 8, 9, 10, 11, 12, 13, 14, 15, 16, 17, 18, 19, 20, 21, 22, 23, 24, 25, 26, 27, 28, 29, 30, 31]\n"
     ]
    }
   ],
   "source": [
    "df['Day'] = df['date'].str[:2].astype(int)\n",
    "days=list(sorted(df['Day'].unique()))\n",
    "print(days)"
   ]
  },
  {
   "cell_type": "code",
   "execution_count": 12,
   "id": "e36adfb4",
   "metadata": {
    "execution": {
     "iopub.execute_input": "2022-11-15T22:29:17.519266Z",
     "iopub.status.busy": "2022-11-15T22:29:17.518451Z",
     "iopub.status.idle": "2022-11-15T22:29:18.618938Z",
     "shell.execute_reply": "2022-11-15T22:29:18.617428Z"
    },
    "papermill": {
     "duration": 1.112928,
     "end_time": "2022-11-15T22:29:18.621269",
     "exception": false,
     "start_time": "2022-11-15T22:29:17.508341",
     "status": "completed"
    },
    "tags": []
   },
   "outputs": [
    {
     "name": "stdout",
     "output_type": "stream",
     "text": [
      "[2013, 2014, 2015]\n"
     ]
    }
   ],
   "source": [
    "df['Year'] = df['date'].str[6:10].astype(int)\n",
    "years=list(sorted(df['Year'].unique()))\n",
    "print(years)"
   ]
  },
  {
   "cell_type": "code",
   "execution_count": 13,
   "id": "4026ec14",
   "metadata": {
    "execution": {
     "iopub.execute_input": "2022-11-15T22:29:18.641093Z",
     "iopub.status.busy": "2022-11-15T22:29:18.640701Z",
     "iopub.status.idle": "2022-11-15T22:29:18.661925Z",
     "shell.execute_reply": "2022-11-15T22:29:18.660649Z"
    },
    "papermill": {
     "duration": 0.034094,
     "end_time": "2022-11-15T22:29:18.664566",
     "exception": false,
     "start_time": "2022-11-15T22:29:18.630472",
     "status": "completed"
    },
    "tags": []
   },
   "outputs": [],
   "source": [
    "df['total_sales']=df['item_price']*df['item_cnt_day']"
   ]
  },
  {
   "cell_type": "code",
   "execution_count": 14,
   "id": "8febb6ee",
   "metadata": {
    "execution": {
     "iopub.execute_input": "2022-11-15T22:29:18.684896Z",
     "iopub.status.busy": "2022-11-15T22:29:18.683978Z",
     "iopub.status.idle": "2022-11-15T22:29:18.702082Z",
     "shell.execute_reply": "2022-11-15T22:29:18.700817Z"
    },
    "papermill": {
     "duration": 0.030631,
     "end_time": "2022-11-15T22:29:18.704347",
     "exception": false,
     "start_time": "2022-11-15T22:29:18.673716",
     "status": "completed"
    },
    "tags": []
   },
   "outputs": [
    {
     "data": {
      "text/html": [
       "<div>\n",
       "<style scoped>\n",
       "    .dataframe tbody tr th:only-of-type {\n",
       "        vertical-align: middle;\n",
       "    }\n",
       "\n",
       "    .dataframe tbody tr th {\n",
       "        vertical-align: top;\n",
       "    }\n",
       "\n",
       "    .dataframe thead th {\n",
       "        text-align: right;\n",
       "    }\n",
       "</style>\n",
       "<table border=\"1\" class=\"dataframe\">\n",
       "  <thead>\n",
       "    <tr style=\"text-align: right;\">\n",
       "      <th></th>\n",
       "      <th>date</th>\n",
       "      <th>date_block_num</th>\n",
       "      <th>shop_id</th>\n",
       "      <th>item_id</th>\n",
       "      <th>item_price</th>\n",
       "      <th>item_cnt_day</th>\n",
       "      <th>shop_name</th>\n",
       "      <th>Month</th>\n",
       "      <th>Day</th>\n",
       "      <th>Year</th>\n",
       "      <th>total_sales</th>\n",
       "    </tr>\n",
       "  </thead>\n",
       "  <tbody>\n",
       "    <tr>\n",
       "      <th>0</th>\n",
       "      <td>02.01.2013</td>\n",
       "      <td>0</td>\n",
       "      <td>59</td>\n",
       "      <td>22154</td>\n",
       "      <td>999.0</td>\n",
       "      <td>1.0</td>\n",
       "      <td>Ярославль ТЦ \"Альтаир\"</td>\n",
       "      <td>1</td>\n",
       "      <td>2</td>\n",
       "      <td>2013</td>\n",
       "      <td>999.0</td>\n",
       "    </tr>\n",
       "    <tr>\n",
       "      <th>1</th>\n",
       "      <td>10.01.2013</td>\n",
       "      <td>0</td>\n",
       "      <td>59</td>\n",
       "      <td>22151</td>\n",
       "      <td>399.0</td>\n",
       "      <td>1.0</td>\n",
       "      <td>Ярославль ТЦ \"Альтаир\"</td>\n",
       "      <td>1</td>\n",
       "      <td>10</td>\n",
       "      <td>2013</td>\n",
       "      <td>399.0</td>\n",
       "    </tr>\n",
       "    <tr>\n",
       "      <th>2</th>\n",
       "      <td>04.01.2013</td>\n",
       "      <td>0</td>\n",
       "      <td>59</td>\n",
       "      <td>5603</td>\n",
       "      <td>699.0</td>\n",
       "      <td>1.0</td>\n",
       "      <td>Ярославль ТЦ \"Альтаир\"</td>\n",
       "      <td>1</td>\n",
       "      <td>4</td>\n",
       "      <td>2013</td>\n",
       "      <td>699.0</td>\n",
       "    </tr>\n",
       "    <tr>\n",
       "      <th>3</th>\n",
       "      <td>19.01.2013</td>\n",
       "      <td>0</td>\n",
       "      <td>59</td>\n",
       "      <td>5587</td>\n",
       "      <td>199.0</td>\n",
       "      <td>2.0</td>\n",
       "      <td>Ярославль ТЦ \"Альтаир\"</td>\n",
       "      <td>1</td>\n",
       "      <td>19</td>\n",
       "      <td>2013</td>\n",
       "      <td>398.0</td>\n",
       "    </tr>\n",
       "    <tr>\n",
       "      <th>4</th>\n",
       "      <td>31.01.2013</td>\n",
       "      <td>0</td>\n",
       "      <td>59</td>\n",
       "      <td>5613</td>\n",
       "      <td>5571.0</td>\n",
       "      <td>1.0</td>\n",
       "      <td>Ярославль ТЦ \"Альтаир\"</td>\n",
       "      <td>1</td>\n",
       "      <td>31</td>\n",
       "      <td>2013</td>\n",
       "      <td>5571.0</td>\n",
       "    </tr>\n",
       "  </tbody>\n",
       "</table>\n",
       "</div>"
      ],
      "text/plain": [
       "         date  date_block_num  shop_id  item_id  item_price  item_cnt_day  \\\n",
       "0  02.01.2013               0       59    22154       999.0           1.0   \n",
       "1  10.01.2013               0       59    22151       399.0           1.0   \n",
       "2  04.01.2013               0       59     5603       699.0           1.0   \n",
       "3  19.01.2013               0       59     5587       199.0           2.0   \n",
       "4  31.01.2013               0       59     5613      5571.0           1.0   \n",
       "\n",
       "                shop_name  Month  Day  Year  total_sales  \n",
       "0  Ярославль ТЦ \"Альтаир\"      1    2  2013        999.0  \n",
       "1  Ярославль ТЦ \"Альтаир\"      1   10  2013        399.0  \n",
       "2  Ярославль ТЦ \"Альтаир\"      1    4  2013        699.0  \n",
       "3  Ярославль ТЦ \"Альтаир\"      1   19  2013        398.0  \n",
       "4  Ярославль ТЦ \"Альтаир\"      1   31  2013       5571.0  "
      ]
     },
     "execution_count": 14,
     "metadata": {},
     "output_type": "execute_result"
    }
   ],
   "source": [
    "df.head()"
   ]
  },
  {
   "cell_type": "markdown",
   "id": "b42a0c0f",
   "metadata": {
    "papermill": {
     "duration": 0.008876,
     "end_time": "2022-11-15T22:29:18.722463",
     "exception": false,
     "start_time": "2022-11-15T22:29:18.713587",
     "status": "completed"
    },
    "tags": []
   },
   "source": [
    "# Graph Importance Columns"
   ]
  },
  {
   "cell_type": "code",
   "execution_count": 15,
   "id": "57b29328",
   "metadata": {
    "execution": {
     "iopub.execute_input": "2022-11-15T22:29:18.743003Z",
     "iopub.status.busy": "2022-11-15T22:29:18.742561Z",
     "iopub.status.idle": "2022-11-15T22:29:19.049683Z",
     "shell.execute_reply": "2022-11-15T22:29:19.048375Z"
    },
    "papermill": {
     "duration": 0.320807,
     "end_time": "2022-11-15T22:29:19.052707",
     "exception": false,
     "start_time": "2022-11-15T22:29:18.731900",
     "status": "completed"
    },
    "tags": []
   },
   "outputs": [
    {
     "data": {
      "image/png": "[encoded data removed]",
      "text/plain": [
       "<Figure size 432x288 with 1 Axes>"
      ]
     },
     "metadata": {
      "needs_background": "light"
     },
     "output_type": "display_data"
    }
   ],
   "source": [
    "import matplotlib.pyplot as plt\n",
    "\n",
    "monthSales=list(df.groupby(by=\"Month\")['total_sales'].sum())\n",
    "\n",
    "plt.plot(months, monthSales)\n",
    "plt.title(\"Sales by Month\")\n",
    "plt.legend(\"Monthly Sales\")\n",
    "plt.show()"
   ]
  },
  {
   "cell_type": "code",
   "execution_count": 16,
   "id": "0aa18bfa",
   "metadata": {
    "execution": {
     "iopub.execute_input": "2022-11-15T22:29:19.073685Z",
     "iopub.status.busy": "2022-11-15T22:29:19.073270Z",
     "iopub.status.idle": "2022-11-15T22:29:19.345546Z",
     "shell.execute_reply": "2022-11-15T22:29:19.344685Z"
    },
    "papermill": {
     "duration": 0.28546,
     "end_time": "2022-11-15T22:29:19.347897",
     "exception": false,
     "start_time": "2022-11-15T22:29:19.062437",
     "status": "completed"
    },
    "tags": []
   },
   "outputs": [
    {
     "name": "stdout",
     "output_type": "stream",
     "text": [
      "[1217524733, 1346778478, 834623131]\n",
      "[2013, 2014, 2015]\n"
     ]
    },
    {
     "data": {
      "image/png": "[encoded data removed]",
      "text/plain": [
       "<Figure size 432x288 with 1 Axes>"
      ]
     },
     "metadata": {
      "needs_background": "light"
     },
     "output_type": "display_data"
    }
   ],
   "source": [
    "yearSales=list(df.groupby(by=\"Year\")['total_sales'].sum())\n",
    "yearSales=[int(x) for x in yearSales]\n",
    "print(yearSales)\n",
    "print(years)\n",
    "\n",
    "plt.bar(years, yearSales)\n",
    "plt.title(\"Sales by Year\")\n",
    "plt.xticks(rotation=90)\n",
    "plt.legend(\"Year Sales\")\n",
    "plt.show()"
   ]
  },
  {
   "cell_type": "markdown",
   "id": "33ae95cd",
   "metadata": {
    "papermill": {
     "duration": 0.009566,
     "end_time": "2022-11-15T22:29:19.367369",
     "exception": false,
     "start_time": "2022-11-15T22:29:19.357803",
     "status": "completed"
    },
    "tags": []
   },
   "source": [
    "# Numeric DataFrame"
   ]
  },
  {
   "cell_type": "code",
   "execution_count": 17,
   "id": "bc22d036",
   "metadata": {
    "execution": {
     "iopub.execute_input": "2022-11-15T22:29:19.388766Z",
     "iopub.status.busy": "2022-11-15T22:29:19.388320Z",
     "iopub.status.idle": "2022-11-15T22:29:19.903053Z",
     "shell.execute_reply": "2022-11-15T22:29:19.901841Z"
    },
    "papermill": {
     "duration": 0.528284,
     "end_time": "2022-11-15T22:29:19.905428",
     "exception": false,
     "start_time": "2022-11-15T22:29:19.377144",
     "status": "completed"
    },
    "tags": []
   },
   "outputs": [
    {
     "data": {
      "text/html": [
       "<div>\n",
       "<style scoped>\n",
       "    .dataframe tbody tr th:only-of-type {\n",
       "        vertical-align: middle;\n",
       "    }\n",
       "\n",
       "    .dataframe tbody tr th {\n",
       "        vertical-align: top;\n",
       "    }\n",
       "\n",
       "    .dataframe thead th {\n",
       "        text-align: right;\n",
       "    }\n",
       "</style>\n",
       "<table border=\"1\" class=\"dataframe\">\n",
       "  <thead>\n",
       "    <tr style=\"text-align: right;\">\n",
       "      <th></th>\n",
       "      <th>date_block_num</th>\n",
       "      <th>shop_id</th>\n",
       "      <th>item_id</th>\n",
       "      <th>item_price</th>\n",
       "      <th>item_cnt_day</th>\n",
       "      <th>Month</th>\n",
       "      <th>Day</th>\n",
       "      <th>Year</th>\n",
       "      <th>total_sales</th>\n",
       "    </tr>\n",
       "  </thead>\n",
       "  <tbody>\n",
       "    <tr>\n",
       "      <th>0</th>\n",
       "      <td>0</td>\n",
       "      <td>59</td>\n",
       "      <td>22154</td>\n",
       "      <td>999.0</td>\n",
       "      <td>1.0</td>\n",
       "      <td>1</td>\n",
       "      <td>2</td>\n",
       "      <td>2013</td>\n",
       "      <td>999.0</td>\n",
       "    </tr>\n",
       "    <tr>\n",
       "      <th>1</th>\n",
       "      <td>0</td>\n",
       "      <td>59</td>\n",
       "      <td>22151</td>\n",
       "      <td>399.0</td>\n",
       "      <td>1.0</td>\n",
       "      <td>1</td>\n",
       "      <td>10</td>\n",
       "      <td>2013</td>\n",
       "      <td>399.0</td>\n",
       "    </tr>\n",
       "    <tr>\n",
       "      <th>2</th>\n",
       "      <td>0</td>\n",
       "      <td>59</td>\n",
       "      <td>5603</td>\n",
       "      <td>699.0</td>\n",
       "      <td>1.0</td>\n",
       "      <td>1</td>\n",
       "      <td>4</td>\n",
       "      <td>2013</td>\n",
       "      <td>699.0</td>\n",
       "    </tr>\n",
       "    <tr>\n",
       "      <th>3</th>\n",
       "      <td>0</td>\n",
       "      <td>59</td>\n",
       "      <td>5587</td>\n",
       "      <td>199.0</td>\n",
       "      <td>2.0</td>\n",
       "      <td>1</td>\n",
       "      <td>19</td>\n",
       "      <td>2013</td>\n",
       "      <td>398.0</td>\n",
       "    </tr>\n",
       "    <tr>\n",
       "      <th>4</th>\n",
       "      <td>0</td>\n",
       "      <td>59</td>\n",
       "      <td>5613</td>\n",
       "      <td>5571.0</td>\n",
       "      <td>1.0</td>\n",
       "      <td>1</td>\n",
       "      <td>31</td>\n",
       "      <td>2013</td>\n",
       "      <td>5571.0</td>\n",
       "    </tr>\n",
       "  </tbody>\n",
       "</table>\n",
       "</div>"
      ],
      "text/plain": [
       "   date_block_num  shop_id  item_id  item_price  item_cnt_day  Month  Day  \\\n",
       "0               0       59    22154       999.0           1.0      1    2   \n",
       "1               0       59    22151       399.0           1.0      1   10   \n",
       "2               0       59     5603       699.0           1.0      1    4   \n",
       "3               0       59     5587       199.0           2.0      1   19   \n",
       "4               0       59     5613      5571.0           1.0      1   31   \n",
       "\n",
       "   Year  total_sales  \n",
       "0  2013        999.0  \n",
       "1  2013        399.0  \n",
       "2  2013        699.0  \n",
       "3  2013        398.0  \n",
       "4  2013       5571.0  "
      ]
     },
     "execution_count": 17,
     "metadata": {},
     "output_type": "execute_result"
    }
   ],
   "source": [
    "df=df.select_dtypes('number')\n",
    "df.head()"
   ]
  },
  {
   "cell_type": "code",
   "execution_count": 18,
   "id": "4bf0076c",
   "metadata": {
    "execution": {
     "iopub.execute_input": "2022-11-15T22:29:19.927244Z",
     "iopub.status.busy": "2022-11-15T22:29:19.926838Z",
     "iopub.status.idle": "2022-11-15T22:29:20.000478Z",
     "shell.execute_reply": "2022-11-15T22:29:19.999363Z"
    },
    "papermill": {
     "duration": 0.087605,
     "end_time": "2022-11-15T22:29:20.002992",
     "exception": false,
     "start_time": "2022-11-15T22:29:19.915387",
     "status": "completed"
    },
    "tags": []
   },
   "outputs": [],
   "source": [
    "X=df.drop('total_sales', axis=1)\n",
    "y=df['total_sales']\n",
    "#print(y)"
   ]
  },
  {
   "cell_type": "markdown",
   "id": "2df3ed36",
   "metadata": {
    "papermill": {
     "duration": 0.00998,
     "end_time": "2022-11-15T22:29:20.023607",
     "exception": false,
     "start_time": "2022-11-15T22:29:20.013627",
     "status": "completed"
    },
    "tags": []
   },
   "source": [
    "# Split Data"
   ]
  },
  {
   "cell_type": "code",
   "execution_count": 19,
   "id": "bdcdc785",
   "metadata": {
    "execution": {
     "iopub.execute_input": "2022-11-15T22:29:20.045810Z",
     "iopub.status.busy": "2022-11-15T22:29:20.045430Z",
     "iopub.status.idle": "2022-11-15T22:29:21.794135Z",
     "shell.execute_reply": "2022-11-15T22:29:21.792989Z"
    },
    "papermill": {
     "duration": 1.763308,
     "end_time": "2022-11-15T22:29:21.797049",
     "exception": false,
     "start_time": "2022-11-15T22:29:20.033741",
     "status": "completed"
    },
    "tags": []
   },
   "outputs": [],
   "source": [
    "from sklearn.model_selection import train_test_split\n",
    "\n",
    "X_train, X_test, y_train, y_test = train_test_split(X, y, test_size=.30, random_state=42)\n",
    "#print(X_train)"
   ]
  },
  {
   "cell_type": "markdown",
   "id": "4b0793a5",
   "metadata": {
    "papermill": {
     "duration": 0.010395,
     "end_time": "2022-11-15T22:29:21.818447",
     "exception": false,
     "start_time": "2022-11-15T22:29:21.808052",
     "status": "completed"
    },
    "tags": []
   },
   "source": [
    "# XGBOOST"
   ]
  },
  {
   "cell_type": "code",
   "execution_count": 20,
   "id": "4438c3c8",
   "metadata": {
    "execution": {
     "iopub.execute_input": "2022-11-15T22:29:21.841175Z",
     "iopub.status.busy": "2022-11-15T22:29:21.840760Z",
     "iopub.status.idle": "2022-11-15T22:29:21.942248Z",
     "shell.execute_reply": "2022-11-15T22:29:21.941214Z"
    },
    "papermill": {
     "duration": 0.11625,
     "end_time": "2022-11-15T22:29:21.945052",
     "exception": false,
     "start_time": "2022-11-15T22:29:21.828802",
     "status": "completed"
    },
    "tags": []
   },
   "outputs": [],
   "source": [
    "import xgboost as xgb\n",
    "from xgboost import XGBRegressor"
   ]
  },
  {
   "cell_type": "code",
   "execution_count": 21,
   "id": "21a78563",
   "metadata": {
    "execution": {
     "iopub.execute_input": "2022-11-15T22:29:21.967578Z",
     "iopub.status.busy": "2022-11-15T22:29:21.967141Z",
     "iopub.status.idle": "2022-11-15T22:31:08.618349Z",
     "shell.execute_reply": "2022-11-15T22:31:08.617460Z"
    },
    "papermill": {
     "duration": 106.677586,
     "end_time": "2022-11-15T22:31:08.633261",
     "exception": false,
     "start_time": "2022-11-15T22:29:21.955675",
     "status": "completed"
    },
    "tags": []
   },
   "outputs": [
    {
     "name": "stdout",
     "output_type": "stream",
     "text": [
      "[  27.10358  198.69365 1675.8585  ... 1199.9553   198.69365 1993.93   ]\n"
     ]
    }
   ],
   "source": [
    "xgb = xgb.XGBRegressor()\n",
    "xgb.fit(X_train, y_train)\n",
    "y_pred=xgb.predict(X_test)\n",
    "print(y_pred)"
   ]
  },
  {
   "cell_type": "markdown",
   "id": "908ef998",
   "metadata": {
    "papermill": {
     "duration": 0.010702,
     "end_time": "2022-11-15T22:31:08.654468",
     "exception": false,
     "start_time": "2022-11-15T22:31:08.643766",
     "status": "completed"
    },
    "tags": []
   },
   "source": [
    "# Test Data"
   ]
  },
  {
   "cell_type": "code",
   "execution_count": 22,
   "id": "ed8de80d",
   "metadata": {
    "execution": {
     "iopub.execute_input": "2022-11-15T22:31:08.678509Z",
     "iopub.status.busy": "2022-11-15T22:31:08.678106Z",
     "iopub.status.idle": "2022-11-15T22:31:08.734283Z",
     "shell.execute_reply": "2022-11-15T22:31:08.733168Z"
    },
    "papermill": {
     "duration": 0.070957,
     "end_time": "2022-11-15T22:31:08.736829",
     "exception": false,
     "start_time": "2022-11-15T22:31:08.665872",
     "status": "completed"
    },
    "tags": []
   },
   "outputs": [
    {
     "data": {
      "text/html": [
       "<div>\n",
       "<style scoped>\n",
       "    .dataframe tbody tr th:only-of-type {\n",
       "        vertical-align: middle;\n",
       "    }\n",
       "\n",
       "    .dataframe tbody tr th {\n",
       "        vertical-align: top;\n",
       "    }\n",
       "\n",
       "    .dataframe thead th {\n",
       "        text-align: right;\n",
       "    }\n",
       "</style>\n",
       "<table border=\"1\" class=\"dataframe\">\n",
       "  <thead>\n",
       "    <tr style=\"text-align: right;\">\n",
       "      <th></th>\n",
       "      <th>ID</th>\n",
       "      <th>shop_id</th>\n",
       "      <th>item_id</th>\n",
       "    </tr>\n",
       "  </thead>\n",
       "  <tbody>\n",
       "    <tr>\n",
       "      <th>0</th>\n",
       "      <td>0</td>\n",
       "      <td>5</td>\n",
       "      <td>5037</td>\n",
       "    </tr>\n",
       "    <tr>\n",
       "      <th>1</th>\n",
       "      <td>1</td>\n",
       "      <td>5</td>\n",
       "      <td>5320</td>\n",
       "    </tr>\n",
       "    <tr>\n",
       "      <th>2</th>\n",
       "      <td>2</td>\n",
       "      <td>5</td>\n",
       "      <td>5233</td>\n",
       "    </tr>\n",
       "    <tr>\n",
       "      <th>3</th>\n",
       "      <td>3</td>\n",
       "      <td>5</td>\n",
       "      <td>5232</td>\n",
       "    </tr>\n",
       "    <tr>\n",
       "      <th>4</th>\n",
       "      <td>4</td>\n",
       "      <td>5</td>\n",
       "      <td>5268</td>\n",
       "    </tr>\n",
       "  </tbody>\n",
       "</table>\n",
       "</div>"
      ],
      "text/plain": [
       "   ID  shop_id  item_id\n",
       "0   0        5     5037\n",
       "1   1        5     5320\n",
       "2   2        5     5233\n",
       "3   3        5     5232\n",
       "4   4        5     5268"
      ]
     },
     "execution_count": 22,
     "metadata": {},
     "output_type": "execute_result"
    }
   ],
   "source": [
    "testDF=pd.read_csv(test)\n",
    "testDF.head()"
   ]
  },
  {
   "cell_type": "markdown",
   "id": "4e286714",
   "metadata": {
    "papermill": {
     "duration": 0.010993,
     "end_time": "2022-11-15T22:31:08.758390",
     "exception": false,
     "start_time": "2022-11-15T22:31:08.747397",
     "status": "completed"
    },
    "tags": []
   },
   "source": [
    "# Submit \n",
    "Submissions are evaluated by root mean squared error (RMSE) . True target values are clipped into [0,20] range."
   ]
  },
  {
   "cell_type": "code",
   "execution_count": 23,
   "id": "e23456d5",
   "metadata": {
    "execution": {
     "iopub.execute_input": "2022-11-15T22:31:08.781340Z",
     "iopub.status.busy": "2022-11-15T22:31:08.780925Z",
     "iopub.status.idle": "2022-11-15T22:31:08.859050Z",
     "shell.execute_reply": "2022-11-15T22:31:08.858150Z"
    },
    "papermill": {
     "duration": 0.092636,
     "end_time": "2022-11-15T22:31:08.861608",
     "exception": false,
     "start_time": "2022-11-15T22:31:08.768972",
     "status": "completed"
    },
    "tags": []
   },
   "outputs": [
    {
     "data": {
      "text/html": [
       "<div>\n",
       "<style scoped>\n",
       "    .dataframe tbody tr th:only-of-type {\n",
       "        vertical-align: middle;\n",
       "    }\n",
       "\n",
       "    .dataframe tbody tr th {\n",
       "        vertical-align: top;\n",
       "    }\n",
       "\n",
       "    .dataframe thead th {\n",
       "        text-align: right;\n",
       "    }\n",
       "</style>\n",
       "<table border=\"1\" class=\"dataframe\">\n",
       "  <thead>\n",
       "    <tr style=\"text-align: right;\">\n",
       "      <th></th>\n",
       "      <th>ID</th>\n",
       "      <th>item_cnt_month</th>\n",
       "    </tr>\n",
       "  </thead>\n",
       "  <tbody>\n",
       "    <tr>\n",
       "      <th>0</th>\n",
       "      <td>0</td>\n",
       "      <td>0.5</td>\n",
       "    </tr>\n",
       "    <tr>\n",
       "      <th>1</th>\n",
       "      <td>1</td>\n",
       "      <td>0.5</td>\n",
       "    </tr>\n",
       "    <tr>\n",
       "      <th>2</th>\n",
       "      <td>2</td>\n",
       "      <td>0.5</td>\n",
       "    </tr>\n",
       "    <tr>\n",
       "      <th>3</th>\n",
       "      <td>3</td>\n",
       "      <td>0.5</td>\n",
       "    </tr>\n",
       "    <tr>\n",
       "      <th>4</th>\n",
       "      <td>4</td>\n",
       "      <td>0.5</td>\n",
       "    </tr>\n",
       "  </tbody>\n",
       "</table>\n",
       "</div>"
      ],
      "text/plain": [
       "   ID  item_cnt_month\n",
       "0   0             0.5\n",
       "1   1             0.5\n",
       "2   2             0.5\n",
       "3   3             0.5\n",
       "4   4             0.5"
      ]
     },
     "execution_count": 23,
     "metadata": {},
     "output_type": "execute_result"
    }
   ],
   "source": [
    "sample=pd.read_csv(sample)\n",
    "sample.head()"
   ]
  }
 ],
 "metadata": {
  "kernelspec": {
   "display_name": "Python 3",
   "language": "python",
   "name": "python3"
  },
  "language_info": {
   "codemirror_mode": {
    "name": "ipython",
    "version": 3
   },
   "file_extension": ".py",
   "mimetype": "text/x-python",
   "name": "python",
   "nbconvert_exporter": "python",
   "pygments_lexer": "ipython3",
   "version": "3.7.12"
  },
  "papermill": {
   "default_parameters": {},
   "duration": 127.128284,
   "end_time": "2022-11-15T22:31:09.694654",
   "environment_variables": {},
   "exception": null,
   "input_path": "__notebook__.ipynb",
   "output_path": "__notebook__.ipynb",
   "parameters": {},
   "start_time": "2022-11-15T22:29:02.566370",
   "version": "2.3.4"
  }
 },
 "nbformat": 4,
 "nbformat_minor": 5
}
