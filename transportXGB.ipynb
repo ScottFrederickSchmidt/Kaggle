{
 "cells": [
  {
   "cell_type": "markdown",
   "id": "899abfa9",
   "metadata": {
    "papermill": {
     "duration": 0.059169,
     "end_time": "2022-10-14T19:09:11.590071",
     "exception": false,
     "start_time": "2022-10-14T19:09:11.530902",
     "status": "completed"
    },
    "tags": []
   },
   "source": [
    "# Classification Prediction for Transportation\n",
    "Predict transportation using classified predictive models. My original scored top 22%. https://github.com/ScottySchmidt/Kaggle/blob/main/Transport.ipynb \n",
    "Now I will use advanced XGBoost methods to score top 5%. \n",
    "\n",
    "#### Summary\n",
    "* The initial XGBoost with no parameter tunning gets a top 52% score which shows how powerful the model is.\n",
    "* max_depth tuning improves score to top 38%\n",
    "\n",
    "#### Metric Accuracy\n",
    "* Logistic Reg 0.851\n",
    "* Decision Tree 0.8257\n",
    "* Gradient Boost 0.7922\n",
    "* Forest 0.7955"
   ]
  },
  {
   "cell_type": "code",
   "execution_count": 1,
   "id": "8d211b96",
   "metadata": {
    "execution": {
     "iopub.execute_input": "2022-10-14T19:09:11.710812Z",
     "iopub.status.busy": "2022-10-14T19:09:11.709973Z",
     "iopub.status.idle": "2022-10-14T19:09:13.276515Z",
     "shell.execute_reply": "2022-10-14T19:09:13.275659Z"
    },
    "papermill": {
     "duration": 1.629512,
     "end_time": "2022-10-14T19:09:13.279017",
     "exception": false,
     "start_time": "2022-10-14T19:09:11.649505",
     "status": "completed"
    },
    "tags": []
   },
   "outputs": [
    {
     "data": {
      "text/html": [
       "<div>\n",
       "<style scoped>\n",
       "    .dataframe tbody tr th:only-of-type {\n",
       "        vertical-align: middle;\n",
       "    }\n",
       "\n",
       "    .dataframe tbody tr th {\n",
       "        vertical-align: top;\n",
       "    }\n",
       "\n",
       "    .dataframe thead th {\n",
       "        text-align: right;\n",
       "    }\n",
       "</style>\n",
       "<table border=\"1\" class=\"dataframe\">\n",
       "  <thead>\n",
       "    <tr style=\"text-align: right;\">\n",
       "      <th></th>\n",
       "      <th>PassengerId</th>\n",
       "      <th>HomePlanet</th>\n",
       "      <th>CryoSleep</th>\n",
       "      <th>Cabin</th>\n",
       "      <th>Destination</th>\n",
       "      <th>Age</th>\n",
       "      <th>VIP</th>\n",
       "      <th>RoomService</th>\n",
       "      <th>FoodCourt</th>\n",
       "      <th>ShoppingMall</th>\n",
       "      <th>Spa</th>\n",
       "      <th>VRDeck</th>\n",
       "      <th>Name</th>\n",
       "      <th>Transported</th>\n",
       "    </tr>\n",
       "  </thead>\n",
       "  <tbody>\n",
       "    <tr>\n",
       "      <th>0</th>\n",
       "      <td>0001_01</td>\n",
       "      <td>Europa</td>\n",
       "      <td>False</td>\n",
       "      <td>B/0/P</td>\n",
       "      <td>TRAPPIST-1e</td>\n",
       "      <td>39.0</td>\n",
       "      <td>False</td>\n",
       "      <td>0.0</td>\n",
       "      <td>0.0</td>\n",
       "      <td>0.0</td>\n",
       "      <td>0.0</td>\n",
       "      <td>0.0</td>\n",
       "      <td>Maham Ofracculy</td>\n",
       "      <td>False</td>\n",
       "    </tr>\n",
       "    <tr>\n",
       "      <th>1</th>\n",
       "      <td>0002_01</td>\n",
       "      <td>Earth</td>\n",
       "      <td>False</td>\n",
       "      <td>F/0/S</td>\n",
       "      <td>TRAPPIST-1e</td>\n",
       "      <td>24.0</td>\n",
       "      <td>False</td>\n",
       "      <td>109.0</td>\n",
       "      <td>9.0</td>\n",
       "      <td>25.0</td>\n",
       "      <td>549.0</td>\n",
       "      <td>44.0</td>\n",
       "      <td>Juanna Vines</td>\n",
       "      <td>True</td>\n",
       "    </tr>\n",
       "    <tr>\n",
       "      <th>2</th>\n",
       "      <td>0003_01</td>\n",
       "      <td>Europa</td>\n",
       "      <td>False</td>\n",
       "      <td>A/0/S</td>\n",
       "      <td>TRAPPIST-1e</td>\n",
       "      <td>58.0</td>\n",
       "      <td>True</td>\n",
       "      <td>43.0</td>\n",
       "      <td>3576.0</td>\n",
       "      <td>0.0</td>\n",
       "      <td>6715.0</td>\n",
       "      <td>49.0</td>\n",
       "      <td>Altark Susent</td>\n",
       "      <td>False</td>\n",
       "    </tr>\n",
       "    <tr>\n",
       "      <th>3</th>\n",
       "      <td>0003_02</td>\n",
       "      <td>Europa</td>\n",
       "      <td>False</td>\n",
       "      <td>A/0/S</td>\n",
       "      <td>TRAPPIST-1e</td>\n",
       "      <td>33.0</td>\n",
       "      <td>False</td>\n",
       "      <td>0.0</td>\n",
       "      <td>1283.0</td>\n",
       "      <td>371.0</td>\n",
       "      <td>3329.0</td>\n",
       "      <td>193.0</td>\n",
       "      <td>Solam Susent</td>\n",
       "      <td>False</td>\n",
       "    </tr>\n",
       "    <tr>\n",
       "      <th>4</th>\n",
       "      <td>0004_01</td>\n",
       "      <td>Earth</td>\n",
       "      <td>False</td>\n",
       "      <td>F/1/S</td>\n",
       "      <td>TRAPPIST-1e</td>\n",
       "      <td>16.0</td>\n",
       "      <td>False</td>\n",
       "      <td>303.0</td>\n",
       "      <td>70.0</td>\n",
       "      <td>151.0</td>\n",
       "      <td>565.0</td>\n",
       "      <td>2.0</td>\n",
       "      <td>Willy Santantines</td>\n",
       "      <td>True</td>\n",
       "    </tr>\n",
       "  </tbody>\n",
       "</table>\n",
       "</div>"
      ],
      "text/plain": [
       "  PassengerId HomePlanet CryoSleep  Cabin  Destination   Age    VIP  \\\n",
       "0     0001_01     Europa     False  B/0/P  TRAPPIST-1e  39.0  False   \n",
       "1     0002_01      Earth     False  F/0/S  TRAPPIST-1e  24.0  False   \n",
       "2     0003_01     Europa     False  A/0/S  TRAPPIST-1e  58.0   True   \n",
       "3     0003_02     Europa     False  A/0/S  TRAPPIST-1e  33.0  False   \n",
       "4     0004_01      Earth     False  F/1/S  TRAPPIST-1e  16.0  False   \n",
       "\n",
       "   RoomService  FoodCourt  ShoppingMall     Spa  VRDeck               Name  \\\n",
       "0          0.0        0.0           0.0     0.0     0.0    Maham Ofracculy   \n",
       "1        109.0        9.0          25.0   549.0    44.0       Juanna Vines   \n",
       "2         43.0     3576.0           0.0  6715.0    49.0      Altark Susent   \n",
       "3          0.0     1283.0         371.0  3329.0   193.0       Solam Susent   \n",
       "4        303.0       70.0         151.0   565.0     2.0  Willy Santantines   \n",
       "\n",
       "   Transported  \n",
       "0        False  \n",
       "1         True  \n",
       "2        False  \n",
       "3        False  \n",
       "4         True  "
      ]
     },
     "execution_count": 1,
     "metadata": {},
     "output_type": "execute_result"
    }
   ],
   "source": [
    "import numpy as np\n",
    "import pandas as pd\n",
    "import seaborn as sns\n",
    "import matplotlib.pyplot as plt\n",
    "from sklearn.model_selection import train_test_split, cross_validate, KFold, GridSearchCV\n",
    "from statistics import mean\n",
    "from sklearn.metrics import mean_absolute_error, mean_squared_error, r2_score, accuracy_score\n",
    "from sklearn.datasets import make_classification\n",
    "from sklearn import ensemble\n",
    "import sklearn.metrics as metrics\n",
    "import time\n",
    "import warnings\n",
    "warnings.filterwarnings('ignore')\n",
    "\n",
    "train=r'/kaggle/input/spaceship-titanic/train.csv'\n",
    "test=r'/kaggle/input/spaceship-titanic/test.csv'\n",
    "\n",
    "df=pd.read_csv(train)\n",
    "df.head()"
   ]
  },
  {
   "cell_type": "markdown",
   "id": "dec53ee6",
   "metadata": {
    "papermill": {
     "duration": 0.057443,
     "end_time": "2022-10-14T19:09:13.394558",
     "exception": false,
     "start_time": "2022-10-14T19:09:13.337115",
     "status": "completed"
    },
    "tags": []
   },
   "source": [
    "# Target Variable\n",
    "Transported is in independent variable being analyzed with 4378 survived and 4315 did not survive. "
   ]
  },
  {
   "cell_type": "code",
   "execution_count": 2,
   "id": "5097c411",
   "metadata": {
    "execution": {
     "iopub.execute_input": "2022-10-14T19:09:13.512034Z",
     "iopub.status.busy": "2022-10-14T19:09:13.511737Z",
     "iopub.status.idle": "2022-10-14T19:09:13.528085Z",
     "shell.execute_reply": "2022-10-14T19:09:13.527130Z"
    },
    "papermill": {
     "duration": 0.078203,
     "end_time": "2022-10-14T19:09:13.530350",
     "exception": false,
     "start_time": "2022-10-14T19:09:13.452147",
     "status": "completed"
    },
    "tags": []
   },
   "outputs": [],
   "source": [
    "df['Transported']=df['Transported'].astype('str').replace({'False':0, 'True':1})"
   ]
  },
  {
   "cell_type": "code",
   "execution_count": 3,
   "id": "82125ba8",
   "metadata": {
    "execution": {
     "iopub.execute_input": "2022-10-14T19:09:13.648341Z",
     "iopub.status.busy": "2022-10-14T19:09:13.648017Z",
     "iopub.status.idle": "2022-10-14T19:09:13.658671Z",
     "shell.execute_reply": "2022-10-14T19:09:13.657764Z"
    },
    "papermill": {
     "duration": 0.072516,
     "end_time": "2022-10-14T19:09:13.660924",
     "exception": false,
     "start_time": "2022-10-14T19:09:13.588408",
     "status": "completed"
    },
    "tags": []
   },
   "outputs": [
    {
     "data": {
      "text/plain": [
       "1    4378\n",
       "0    4315\n",
       "Name: Transported, dtype: int64"
      ]
     },
     "execution_count": 3,
     "metadata": {},
     "output_type": "execute_result"
    }
   ],
   "source": [
    "df['Transported'].value_counts()"
   ]
  },
  {
   "cell_type": "markdown",
   "id": "bbfbe8d4",
   "metadata": {
    "papermill": {
     "duration": 0.058383,
     "end_time": "2022-10-14T19:09:13.779054",
     "exception": false,
     "start_time": "2022-10-14T19:09:13.720671",
     "status": "completed"
    },
    "tags": []
   },
   "source": [
    "# Find Missing Values"
   ]
  },
  {
   "cell_type": "code",
   "execution_count": 4,
   "id": "5849be09",
   "metadata": {
    "execution": {
     "iopub.execute_input": "2022-10-14T19:09:13.897565Z",
     "iopub.status.busy": "2022-10-14T19:09:13.896959Z",
     "iopub.status.idle": "2022-10-14T19:09:13.909311Z",
     "shell.execute_reply": "2022-10-14T19:09:13.908209Z"
    },
    "papermill": {
     "duration": 0.073688,
     "end_time": "2022-10-14T19:09:13.911767",
     "exception": false,
     "start_time": "2022-10-14T19:09:13.838079",
     "status": "completed"
    },
    "tags": []
   },
   "outputs": [
    {
     "name": "stdout",
     "output_type": "stream",
     "text": [
      "Missing data by column as a percent:\n",
      "CryoSleep       0.024963\n",
      "ShoppingMall    0.023927\n",
      "VIP             0.023352\n",
      "HomePlanet      0.023122\n",
      "dtype: float64\n"
     ]
    }
   ],
   "source": [
    "#search for columns with missing values:\n",
    "def findNA():\n",
    "    print(\"Missing data by column as a percent:\")\n",
    "    findNA=df.isnull().sum().sort_values(ascending=False)/len(df)\n",
    "    print(findNA.head(4))\n",
    "findNA() "
   ]
  },
  {
   "cell_type": "markdown",
   "id": "be2c91d4",
   "metadata": {
    "papermill": {
     "duration": 0.057911,
     "end_time": "2022-10-14T19:09:14.029276",
     "exception": false,
     "start_time": "2022-10-14T19:09:13.971365",
     "status": "completed"
    },
    "tags": []
   },
   "source": [
    "# Find Categorical Variables"
   ]
  },
  {
   "cell_type": "code",
   "execution_count": 5,
   "id": "ff5d62ba",
   "metadata": {
    "execution": {
     "iopub.execute_input": "2022-10-14T19:09:14.149396Z",
     "iopub.status.busy": "2022-10-14T19:09:14.148592Z",
     "iopub.status.idle": "2022-10-14T19:09:14.158988Z",
     "shell.execute_reply": "2022-10-14T19:09:14.158334Z"
    },
    "papermill": {
     "duration": 0.073133,
     "end_time": "2022-10-14T19:09:14.161002",
     "exception": false,
     "start_time": "2022-10-14T19:09:14.087869",
     "status": "completed"
    },
    "tags": []
   },
   "outputs": [],
   "source": [
    "cols=df.select_dtypes(include='object').columns\n",
    "for col in cols:\n",
    "    pass\n",
    "    #print(col)\n",
    "    #print(df[col].value_counts() ,\"\\n\")"
   ]
  },
  {
   "cell_type": "markdown",
   "id": "25cf7891",
   "metadata": {
    "papermill": {
     "duration": 0.058966,
     "end_time": "2022-10-14T19:09:14.279870",
     "exception": false,
     "start_time": "2022-10-14T19:09:14.220904",
     "status": "completed"
    },
    "tags": []
   },
   "source": [
    "# Feature Engineer"
   ]
  },
  {
   "cell_type": "code",
   "execution_count": 6,
   "id": "f3a06077",
   "metadata": {
    "execution": {
     "iopub.execute_input": "2022-10-14T19:09:14.399212Z",
     "iopub.status.busy": "2022-10-14T19:09:14.398894Z",
     "iopub.status.idle": "2022-10-14T19:09:14.403022Z",
     "shell.execute_reply": "2022-10-14T19:09:14.402143Z"
    },
    "papermill": {
     "duration": 0.066412,
     "end_time": "2022-10-14T19:09:14.405009",
     "exception": false,
     "start_time": "2022-10-14T19:09:14.338597",
     "status": "completed"
    },
    "tags": []
   },
   "outputs": [],
   "source": [
    "#df['billed']=df['RoomService']+df['FoodCourt']+df['ShoppingMall']+df['Spa']+df['VRDeck']\n",
    "#df=df.drop(columns=['RoomService', 'FoodCourt', 'ShoppingMall', 'Spa', 'VRDeck'])\n",
    "#df.head()"
   ]
  },
  {
   "cell_type": "code",
   "execution_count": 7,
   "id": "0fe74aee",
   "metadata": {
    "execution": {
     "iopub.execute_input": "2022-10-14T19:09:14.524472Z",
     "iopub.status.busy": "2022-10-14T19:09:14.523898Z",
     "iopub.status.idle": "2022-10-14T19:09:14.544192Z",
     "shell.execute_reply": "2022-10-14T19:09:14.543215Z"
    },
    "papermill": {
     "duration": 0.082783,
     "end_time": "2022-10-14T19:09:14.546554",
     "exception": false,
     "start_time": "2022-10-14T19:09:14.463771",
     "status": "completed"
    },
    "tags": []
   },
   "outputs": [],
   "source": [
    "df['VIP']=df['VIP'].astype('str').replace({'False':0, 'True':1})\n",
    "df['CryoSleep']=df['CryoSleep'].astype('str').replace({'False':0, 'True':1})\n",
    "df['Adult'] = df['Age'].apply(lambda x: 1 if x > 19 else 0 )"
   ]
  },
  {
   "cell_type": "markdown",
   "id": "3a7dc845",
   "metadata": {
    "execution": {
     "iopub.execute_input": "2022-05-25T14:43:58.558603Z",
     "iopub.status.busy": "2022-05-25T14:43:58.558327Z",
     "iopub.status.idle": "2022-05-25T14:43:58.568924Z",
     "shell.execute_reply": "2022-05-25T14:43:58.568288Z",
     "shell.execute_reply.started": "2022-05-25T14:43:58.558573Z"
    },
    "papermill": {
     "duration": 0.060226,
     "end_time": "2022-10-14T19:09:14.666010",
     "exception": false,
     "start_time": "2022-10-14T19:09:14.605784",
     "status": "completed"
    },
    "tags": []
   },
   "source": [
    "### Put First and Last name in column.\n",
    "* Gender: first name can creature a gender feature.\n",
    "* Family: last name can possibly detect if person is alone."
   ]
  },
  {
   "cell_type": "code",
   "execution_count": 8,
   "id": "ede29284",
   "metadata": {
    "execution": {
     "iopub.execute_input": "2022-10-14T19:09:14.785603Z",
     "iopub.status.busy": "2022-10-14T19:09:14.785270Z",
     "iopub.status.idle": "2022-10-14T19:09:16.680492Z",
     "shell.execute_reply": "2022-10-14T19:09:16.679720Z"
    },
    "papermill": {
     "duration": 1.957418,
     "end_time": "2022-10-14T19:09:16.682806",
     "exception": false,
     "start_time": "2022-10-14T19:09:14.725388",
     "status": "completed"
    },
    "tags": []
   },
   "outputs": [],
   "source": [
    "df[['First','Last']] = df.Name.apply(lambda x: pd.Series(str(x).split(\" \")))"
   ]
  },
  {
   "cell_type": "code",
   "execution_count": 9,
   "id": "33e638b7",
   "metadata": {
    "execution": {
     "iopub.execute_input": "2022-10-14T19:09:16.802060Z",
     "iopub.status.busy": "2022-10-14T19:09:16.801386Z",
     "iopub.status.idle": "2022-10-14T19:09:16.829111Z",
     "shell.execute_reply": "2022-10-14T19:09:16.828407Z"
    },
    "papermill": {
     "duration": 0.089355,
     "end_time": "2022-10-14T19:09:16.830862",
     "exception": false,
     "start_time": "2022-10-14T19:09:16.741507",
     "status": "completed"
    },
    "tags": []
   },
   "outputs": [
    {
     "data": {
      "text/html": [
       "<div>\n",
       "<style scoped>\n",
       "    .dataframe tbody tr th:only-of-type {\n",
       "        vertical-align: middle;\n",
       "    }\n",
       "\n",
       "    .dataframe tbody tr th {\n",
       "        vertical-align: top;\n",
       "    }\n",
       "\n",
       "    .dataframe thead th {\n",
       "        text-align: right;\n",
       "    }\n",
       "</style>\n",
       "<table border=\"1\" class=\"dataframe\">\n",
       "  <thead>\n",
       "    <tr style=\"text-align: right;\">\n",
       "      <th></th>\n",
       "      <th>PassengerId</th>\n",
       "      <th>HomePlanet</th>\n",
       "      <th>CryoSleep</th>\n",
       "      <th>Cabin</th>\n",
       "      <th>Destination</th>\n",
       "      <th>Age</th>\n",
       "      <th>VIP</th>\n",
       "      <th>RoomService</th>\n",
       "      <th>FoodCourt</th>\n",
       "      <th>ShoppingMall</th>\n",
       "      <th>Spa</th>\n",
       "      <th>VRDeck</th>\n",
       "      <th>Name</th>\n",
       "      <th>Transported</th>\n",
       "      <th>Adult</th>\n",
       "      <th>First</th>\n",
       "      <th>Last</th>\n",
       "      <th>Family</th>\n",
       "    </tr>\n",
       "  </thead>\n",
       "  <tbody>\n",
       "    <tr>\n",
       "      <th>0</th>\n",
       "      <td>0001_01</td>\n",
       "      <td>Europa</td>\n",
       "      <td>0</td>\n",
       "      <td>B/0/P</td>\n",
       "      <td>TRAPPIST-1e</td>\n",
       "      <td>39.0</td>\n",
       "      <td>0</td>\n",
       "      <td>0.0</td>\n",
       "      <td>0.0</td>\n",
       "      <td>0.0</td>\n",
       "      <td>0.0</td>\n",
       "      <td>0.0</td>\n",
       "      <td>Maham Ofracculy</td>\n",
       "      <td>0</td>\n",
       "      <td>1</td>\n",
       "      <td>Maham</td>\n",
       "      <td>Ofracculy</td>\n",
       "      <td>1.0</td>\n",
       "    </tr>\n",
       "    <tr>\n",
       "      <th>1</th>\n",
       "      <td>0002_01</td>\n",
       "      <td>Earth</td>\n",
       "      <td>0</td>\n",
       "      <td>F/0/S</td>\n",
       "      <td>TRAPPIST-1e</td>\n",
       "      <td>24.0</td>\n",
       "      <td>0</td>\n",
       "      <td>109.0</td>\n",
       "      <td>9.0</td>\n",
       "      <td>25.0</td>\n",
       "      <td>549.0</td>\n",
       "      <td>44.0</td>\n",
       "      <td>Juanna Vines</td>\n",
       "      <td>1</td>\n",
       "      <td>1</td>\n",
       "      <td>Juanna</td>\n",
       "      <td>Vines</td>\n",
       "      <td>4.0</td>\n",
       "    </tr>\n",
       "    <tr>\n",
       "      <th>2</th>\n",
       "      <td>0003_01</td>\n",
       "      <td>Europa</td>\n",
       "      <td>0</td>\n",
       "      <td>A/0/S</td>\n",
       "      <td>TRAPPIST-1e</td>\n",
       "      <td>58.0</td>\n",
       "      <td>1</td>\n",
       "      <td>43.0</td>\n",
       "      <td>3576.0</td>\n",
       "      <td>0.0</td>\n",
       "      <td>6715.0</td>\n",
       "      <td>49.0</td>\n",
       "      <td>Altark Susent</td>\n",
       "      <td>0</td>\n",
       "      <td>1</td>\n",
       "      <td>Altark</td>\n",
       "      <td>Susent</td>\n",
       "      <td>6.0</td>\n",
       "    </tr>\n",
       "    <tr>\n",
       "      <th>3</th>\n",
       "      <td>0003_02</td>\n",
       "      <td>Europa</td>\n",
       "      <td>0</td>\n",
       "      <td>A/0/S</td>\n",
       "      <td>TRAPPIST-1e</td>\n",
       "      <td>33.0</td>\n",
       "      <td>0</td>\n",
       "      <td>0.0</td>\n",
       "      <td>1283.0</td>\n",
       "      <td>371.0</td>\n",
       "      <td>3329.0</td>\n",
       "      <td>193.0</td>\n",
       "      <td>Solam Susent</td>\n",
       "      <td>0</td>\n",
       "      <td>1</td>\n",
       "      <td>Solam</td>\n",
       "      <td>Susent</td>\n",
       "      <td>6.0</td>\n",
       "    </tr>\n",
       "    <tr>\n",
       "      <th>4</th>\n",
       "      <td>0004_01</td>\n",
       "      <td>Earth</td>\n",
       "      <td>0</td>\n",
       "      <td>F/1/S</td>\n",
       "      <td>TRAPPIST-1e</td>\n",
       "      <td>16.0</td>\n",
       "      <td>0</td>\n",
       "      <td>303.0</td>\n",
       "      <td>70.0</td>\n",
       "      <td>151.0</td>\n",
       "      <td>565.0</td>\n",
       "      <td>2.0</td>\n",
       "      <td>Willy Santantines</td>\n",
       "      <td>1</td>\n",
       "      <td>0</td>\n",
       "      <td>Willy</td>\n",
       "      <td>Santantines</td>\n",
       "      <td>6.0</td>\n",
       "    </tr>\n",
       "  </tbody>\n",
       "</table>\n",
       "</div>"
      ],
      "text/plain": [
       "  PassengerId HomePlanet CryoSleep  Cabin  Destination   Age VIP  RoomService  \\\n",
       "0     0001_01     Europa         0  B/0/P  TRAPPIST-1e  39.0   0          0.0   \n",
       "1     0002_01      Earth         0  F/0/S  TRAPPIST-1e  24.0   0        109.0   \n",
       "2     0003_01     Europa         0  A/0/S  TRAPPIST-1e  58.0   1         43.0   \n",
       "3     0003_02     Europa         0  A/0/S  TRAPPIST-1e  33.0   0          0.0   \n",
       "4     0004_01      Earth         0  F/1/S  TRAPPIST-1e  16.0   0        303.0   \n",
       "\n",
       "   FoodCourt  ShoppingMall     Spa  VRDeck               Name  Transported  \\\n",
       "0        0.0           0.0     0.0     0.0    Maham Ofracculy            0   \n",
       "1        9.0          25.0   549.0    44.0       Juanna Vines            1   \n",
       "2     3576.0           0.0  6715.0    49.0      Altark Susent            0   \n",
       "3     1283.0         371.0  3329.0   193.0       Solam Susent            0   \n",
       "4       70.0         151.0   565.0     2.0  Willy Santantines            1   \n",
       "\n",
       "   Adult   First         Last  Family  \n",
       "0      1   Maham    Ofracculy     1.0  \n",
       "1      1  Juanna        Vines     4.0  \n",
       "2      1  Altark       Susent     6.0  \n",
       "3      1   Solam       Susent     6.0  \n",
       "4      0   Willy  Santantines     6.0  "
      ]
     },
     "execution_count": 9,
     "metadata": {},
     "output_type": "execute_result"
    }
   ],
   "source": [
    "#LAST NAME: count occurances \n",
    "df['Family']=df.groupby('Last')['Last'].transform('count')\n",
    "df.head()"
   ]
  },
  {
   "cell_type": "markdown",
   "id": "b8338b70",
   "metadata": {
    "papermill": {
     "duration": 0.060285,
     "end_time": "2022-10-14T19:09:16.950425",
     "exception": false,
     "start_time": "2022-10-14T19:09:16.890140",
     "status": "completed"
    },
    "tags": []
   },
   "source": [
    "### Cabin \n",
    "The cabin number where the passenger is staying. Takes the form deck/num/side, where side can be either P for Port or S for Starboard. "
   ]
  },
  {
   "cell_type": "code",
   "execution_count": 10,
   "id": "238bfbb9",
   "metadata": {
    "execution": {
     "iopub.execute_input": "2022-10-14T19:09:17.068922Z",
     "iopub.status.busy": "2022-10-14T19:09:17.068382Z",
     "iopub.status.idle": "2022-10-14T19:09:17.122557Z",
     "shell.execute_reply": "2022-10-14T19:09:17.121930Z"
    },
    "papermill": {
     "duration": 0.11555,
     "end_time": "2022-10-14T19:09:17.124375",
     "exception": false,
     "start_time": "2022-10-14T19:09:17.008825",
     "status": "completed"
    },
    "tags": []
   },
   "outputs": [
    {
     "data": {
      "text/html": [
       "<div>\n",
       "<style scoped>\n",
       "    .dataframe tbody tr th:only-of-type {\n",
       "        vertical-align: middle;\n",
       "    }\n",
       "\n",
       "    .dataframe tbody tr th {\n",
       "        vertical-align: top;\n",
       "    }\n",
       "\n",
       "    .dataframe thead th {\n",
       "        text-align: right;\n",
       "    }\n",
       "</style>\n",
       "<table border=\"1\" class=\"dataframe\">\n",
       "  <thead>\n",
       "    <tr style=\"text-align: right;\">\n",
       "      <th></th>\n",
       "      <th>PassengerId</th>\n",
       "      <th>HomePlanet</th>\n",
       "      <th>CryoSleep</th>\n",
       "      <th>Cabin</th>\n",
       "      <th>Destination</th>\n",
       "      <th>Age</th>\n",
       "      <th>VIP</th>\n",
       "      <th>RoomService</th>\n",
       "      <th>FoodCourt</th>\n",
       "      <th>ShoppingMall</th>\n",
       "      <th>...</th>\n",
       "      <th>VRDeck</th>\n",
       "      <th>Name</th>\n",
       "      <th>Transported</th>\n",
       "      <th>Adult</th>\n",
       "      <th>First</th>\n",
       "      <th>Last</th>\n",
       "      <th>Family</th>\n",
       "      <th>deck</th>\n",
       "      <th>num</th>\n",
       "      <th>side</th>\n",
       "    </tr>\n",
       "  </thead>\n",
       "  <tbody>\n",
       "    <tr>\n",
       "      <th>0</th>\n",
       "      <td>0001_01</td>\n",
       "      <td>Europa</td>\n",
       "      <td>0</td>\n",
       "      <td>B/0/P</td>\n",
       "      <td>TRAPPIST-1e</td>\n",
       "      <td>39.0</td>\n",
       "      <td>0</td>\n",
       "      <td>0.0</td>\n",
       "      <td>0.0</td>\n",
       "      <td>0.0</td>\n",
       "      <td>...</td>\n",
       "      <td>0.0</td>\n",
       "      <td>Maham Ofracculy</td>\n",
       "      <td>0</td>\n",
       "      <td>1</td>\n",
       "      <td>Maham</td>\n",
       "      <td>Ofracculy</td>\n",
       "      <td>1.0</td>\n",
       "      <td>B</td>\n",
       "      <td>0</td>\n",
       "      <td>P</td>\n",
       "    </tr>\n",
       "    <tr>\n",
       "      <th>1</th>\n",
       "      <td>0002_01</td>\n",
       "      <td>Earth</td>\n",
       "      <td>0</td>\n",
       "      <td>F/0/S</td>\n",
       "      <td>TRAPPIST-1e</td>\n",
       "      <td>24.0</td>\n",
       "      <td>0</td>\n",
       "      <td>109.0</td>\n",
       "      <td>9.0</td>\n",
       "      <td>25.0</td>\n",
       "      <td>...</td>\n",
       "      <td>44.0</td>\n",
       "      <td>Juanna Vines</td>\n",
       "      <td>1</td>\n",
       "      <td>1</td>\n",
       "      <td>Juanna</td>\n",
       "      <td>Vines</td>\n",
       "      <td>4.0</td>\n",
       "      <td>F</td>\n",
       "      <td>0</td>\n",
       "      <td>S</td>\n",
       "    </tr>\n",
       "    <tr>\n",
       "      <th>2</th>\n",
       "      <td>0003_01</td>\n",
       "      <td>Europa</td>\n",
       "      <td>0</td>\n",
       "      <td>A/0/S</td>\n",
       "      <td>TRAPPIST-1e</td>\n",
       "      <td>58.0</td>\n",
       "      <td>1</td>\n",
       "      <td>43.0</td>\n",
       "      <td>3576.0</td>\n",
       "      <td>0.0</td>\n",
       "      <td>...</td>\n",
       "      <td>49.0</td>\n",
       "      <td>Altark Susent</td>\n",
       "      <td>0</td>\n",
       "      <td>1</td>\n",
       "      <td>Altark</td>\n",
       "      <td>Susent</td>\n",
       "      <td>6.0</td>\n",
       "      <td>A</td>\n",
       "      <td>0</td>\n",
       "      <td>S</td>\n",
       "    </tr>\n",
       "    <tr>\n",
       "      <th>3</th>\n",
       "      <td>0003_02</td>\n",
       "      <td>Europa</td>\n",
       "      <td>0</td>\n",
       "      <td>A/0/S</td>\n",
       "      <td>TRAPPIST-1e</td>\n",
       "      <td>33.0</td>\n",
       "      <td>0</td>\n",
       "      <td>0.0</td>\n",
       "      <td>1283.0</td>\n",
       "      <td>371.0</td>\n",
       "      <td>...</td>\n",
       "      <td>193.0</td>\n",
       "      <td>Solam Susent</td>\n",
       "      <td>0</td>\n",
       "      <td>1</td>\n",
       "      <td>Solam</td>\n",
       "      <td>Susent</td>\n",
       "      <td>6.0</td>\n",
       "      <td>A</td>\n",
       "      <td>0</td>\n",
       "      <td>S</td>\n",
       "    </tr>\n",
       "    <tr>\n",
       "      <th>4</th>\n",
       "      <td>0004_01</td>\n",
       "      <td>Earth</td>\n",
       "      <td>0</td>\n",
       "      <td>F/1/S</td>\n",
       "      <td>TRAPPIST-1e</td>\n",
       "      <td>16.0</td>\n",
       "      <td>0</td>\n",
       "      <td>303.0</td>\n",
       "      <td>70.0</td>\n",
       "      <td>151.0</td>\n",
       "      <td>...</td>\n",
       "      <td>2.0</td>\n",
       "      <td>Willy Santantines</td>\n",
       "      <td>1</td>\n",
       "      <td>0</td>\n",
       "      <td>Willy</td>\n",
       "      <td>Santantines</td>\n",
       "      <td>6.0</td>\n",
       "      <td>F</td>\n",
       "      <td>1</td>\n",
       "      <td>S</td>\n",
       "    </tr>\n",
       "  </tbody>\n",
       "</table>\n",
       "<p>5 rows × 21 columns</p>\n",
       "</div>"
      ],
      "text/plain": [
       "  PassengerId HomePlanet CryoSleep  Cabin  Destination   Age VIP  RoomService  \\\n",
       "0     0001_01     Europa         0  B/0/P  TRAPPIST-1e  39.0   0          0.0   \n",
       "1     0002_01      Earth         0  F/0/S  TRAPPIST-1e  24.0   0        109.0   \n",
       "2     0003_01     Europa         0  A/0/S  TRAPPIST-1e  58.0   1         43.0   \n",
       "3     0003_02     Europa         0  A/0/S  TRAPPIST-1e  33.0   0          0.0   \n",
       "4     0004_01      Earth         0  F/1/S  TRAPPIST-1e  16.0   0        303.0   \n",
       "\n",
       "   FoodCourt  ShoppingMall  ...  VRDeck               Name Transported  Adult  \\\n",
       "0        0.0           0.0  ...     0.0    Maham Ofracculy           0      1   \n",
       "1        9.0          25.0  ...    44.0       Juanna Vines           1      1   \n",
       "2     3576.0           0.0  ...    49.0      Altark Susent           0      1   \n",
       "3     1283.0         371.0  ...   193.0       Solam Susent           0      1   \n",
       "4       70.0         151.0  ...     2.0  Willy Santantines           1      0   \n",
       "\n",
       "    First         Last Family  deck num  side  \n",
       "0   Maham    Ofracculy    1.0     B   0     P  \n",
       "1  Juanna        Vines    4.0     F   0     S  \n",
       "2  Altark       Susent    6.0     A   0     S  \n",
       "3   Solam       Susent    6.0     A   0     S  \n",
       "4   Willy  Santantines    6.0     F   1     S  \n",
       "\n",
       "[5 rows x 21 columns]"
      ]
     },
     "execution_count": 10,
     "metadata": {},
     "output_type": "execute_result"
    }
   ],
   "source": [
    "df['deck']=df['Cabin'].apply(lambda x: str(x).split(\"/\")[0])\n",
    "df['num']=df['Cabin'].str.extract('(\\d+)').fillna(0).astype(int)\n",
    "df['side']=df['Cabin'].apply(lambda x: str(x)[-1])\n",
    "df.head()"
   ]
  },
  {
   "cell_type": "code",
   "execution_count": 11,
   "id": "ec5a9e30",
   "metadata": {
    "execution": {
     "iopub.execute_input": "2022-10-14T19:09:17.246465Z",
     "iopub.status.busy": "2022-10-14T19:09:17.245905Z",
     "iopub.status.idle": "2022-10-14T19:09:17.302693Z",
     "shell.execute_reply": "2022-10-14T19:09:17.301931Z"
    },
    "papermill": {
     "duration": 0.120764,
     "end_time": "2022-10-14T19:09:17.304944",
     "exception": false,
     "start_time": "2022-10-14T19:09:17.184180",
     "status": "completed"
    },
    "tags": []
   },
   "outputs": [
    {
     "data": {
      "text/html": [
       "<div>\n",
       "<style scoped>\n",
       "    .dataframe tbody tr th:only-of-type {\n",
       "        vertical-align: middle;\n",
       "    }\n",
       "\n",
       "    .dataframe tbody tr th {\n",
       "        vertical-align: top;\n",
       "    }\n",
       "\n",
       "    .dataframe thead th {\n",
       "        text-align: right;\n",
       "    }\n",
       "</style>\n",
       "<table border=\"1\" class=\"dataframe\">\n",
       "  <thead>\n",
       "    <tr style=\"text-align: right;\">\n",
       "      <th></th>\n",
       "      <th>PassengerId</th>\n",
       "      <th>HomePlanet</th>\n",
       "      <th>CryoSleep</th>\n",
       "      <th>Cabin</th>\n",
       "      <th>Destination</th>\n",
       "      <th>Age</th>\n",
       "      <th>VIP</th>\n",
       "      <th>RoomService</th>\n",
       "      <th>FoodCourt</th>\n",
       "      <th>ShoppingMall</th>\n",
       "      <th>...</th>\n",
       "      <th>VRDeck</th>\n",
       "      <th>Name</th>\n",
       "      <th>Transported</th>\n",
       "      <th>Adult</th>\n",
       "      <th>First</th>\n",
       "      <th>Last</th>\n",
       "      <th>Family</th>\n",
       "      <th>deck</th>\n",
       "      <th>num</th>\n",
       "      <th>side</th>\n",
       "    </tr>\n",
       "  </thead>\n",
       "  <tbody>\n",
       "    <tr>\n",
       "      <th>0</th>\n",
       "      <td>0001_01</td>\n",
       "      <td>1.0</td>\n",
       "      <td>0</td>\n",
       "      <td>B/0/P</td>\n",
       "      <td>2.0</td>\n",
       "      <td>39.0</td>\n",
       "      <td>0</td>\n",
       "      <td>0.0</td>\n",
       "      <td>0.0</td>\n",
       "      <td>0.0</td>\n",
       "      <td>...</td>\n",
       "      <td>0.0</td>\n",
       "      <td>Maham Ofracculy</td>\n",
       "      <td>0</td>\n",
       "      <td>1</td>\n",
       "      <td>Maham</td>\n",
       "      <td>Ofracculy</td>\n",
       "      <td>1.0</td>\n",
       "      <td>1.0</td>\n",
       "      <td>0.0</td>\n",
       "      <td>0.0</td>\n",
       "    </tr>\n",
       "    <tr>\n",
       "      <th>1</th>\n",
       "      <td>0002_01</td>\n",
       "      <td>0.0</td>\n",
       "      <td>0</td>\n",
       "      <td>F/0/S</td>\n",
       "      <td>2.0</td>\n",
       "      <td>24.0</td>\n",
       "      <td>0</td>\n",
       "      <td>109.0</td>\n",
       "      <td>9.0</td>\n",
       "      <td>25.0</td>\n",
       "      <td>...</td>\n",
       "      <td>44.0</td>\n",
       "      <td>Juanna Vines</td>\n",
       "      <td>1</td>\n",
       "      <td>1</td>\n",
       "      <td>Juanna</td>\n",
       "      <td>Vines</td>\n",
       "      <td>4.0</td>\n",
       "      <td>5.0</td>\n",
       "      <td>0.0</td>\n",
       "      <td>1.0</td>\n",
       "    </tr>\n",
       "    <tr>\n",
       "      <th>2</th>\n",
       "      <td>0003_01</td>\n",
       "      <td>1.0</td>\n",
       "      <td>0</td>\n",
       "      <td>A/0/S</td>\n",
       "      <td>2.0</td>\n",
       "      <td>58.0</td>\n",
       "      <td>1</td>\n",
       "      <td>43.0</td>\n",
       "      <td>3576.0</td>\n",
       "      <td>0.0</td>\n",
       "      <td>...</td>\n",
       "      <td>49.0</td>\n",
       "      <td>Altark Susent</td>\n",
       "      <td>0</td>\n",
       "      <td>1</td>\n",
       "      <td>Altark</td>\n",
       "      <td>Susent</td>\n",
       "      <td>6.0</td>\n",
       "      <td>0.0</td>\n",
       "      <td>0.0</td>\n",
       "      <td>1.0</td>\n",
       "    </tr>\n",
       "    <tr>\n",
       "      <th>3</th>\n",
       "      <td>0003_02</td>\n",
       "      <td>1.0</td>\n",
       "      <td>0</td>\n",
       "      <td>A/0/S</td>\n",
       "      <td>2.0</td>\n",
       "      <td>33.0</td>\n",
       "      <td>0</td>\n",
       "      <td>0.0</td>\n",
       "      <td>1283.0</td>\n",
       "      <td>371.0</td>\n",
       "      <td>...</td>\n",
       "      <td>193.0</td>\n",
       "      <td>Solam Susent</td>\n",
       "      <td>0</td>\n",
       "      <td>1</td>\n",
       "      <td>Solam</td>\n",
       "      <td>Susent</td>\n",
       "      <td>6.0</td>\n",
       "      <td>0.0</td>\n",
       "      <td>0.0</td>\n",
       "      <td>1.0</td>\n",
       "    </tr>\n",
       "    <tr>\n",
       "      <th>4</th>\n",
       "      <td>0004_01</td>\n",
       "      <td>0.0</td>\n",
       "      <td>0</td>\n",
       "      <td>F/1/S</td>\n",
       "      <td>2.0</td>\n",
       "      <td>16.0</td>\n",
       "      <td>0</td>\n",
       "      <td>303.0</td>\n",
       "      <td>70.0</td>\n",
       "      <td>151.0</td>\n",
       "      <td>...</td>\n",
       "      <td>2.0</td>\n",
       "      <td>Willy Santantines</td>\n",
       "      <td>1</td>\n",
       "      <td>0</td>\n",
       "      <td>Willy</td>\n",
       "      <td>Santantines</td>\n",
       "      <td>6.0</td>\n",
       "      <td>5.0</td>\n",
       "      <td>1.0</td>\n",
       "      <td>1.0</td>\n",
       "    </tr>\n",
       "  </tbody>\n",
       "</table>\n",
       "<p>5 rows × 21 columns</p>\n",
       "</div>"
      ],
      "text/plain": [
       "  PassengerId  HomePlanet CryoSleep  Cabin  Destination   Age VIP  \\\n",
       "0     0001_01         1.0         0  B/0/P          2.0  39.0   0   \n",
       "1     0002_01         0.0         0  F/0/S          2.0  24.0   0   \n",
       "2     0003_01         1.0         0  A/0/S          2.0  58.0   1   \n",
       "3     0003_02         1.0         0  A/0/S          2.0  33.0   0   \n",
       "4     0004_01         0.0         0  F/1/S          2.0  16.0   0   \n",
       "\n",
       "   RoomService  FoodCourt  ShoppingMall  ...  VRDeck               Name  \\\n",
       "0          0.0        0.0           0.0  ...     0.0    Maham Ofracculy   \n",
       "1        109.0        9.0          25.0  ...    44.0       Juanna Vines   \n",
       "2         43.0     3576.0           0.0  ...    49.0      Altark Susent   \n",
       "3          0.0     1283.0         371.0  ...   193.0       Solam Susent   \n",
       "4        303.0       70.0         151.0  ...     2.0  Willy Santantines   \n",
       "\n",
       "  Transported  Adult   First         Last Family  deck  num  side  \n",
       "0           0      1   Maham    Ofracculy    1.0   1.0  0.0   0.0  \n",
       "1           1      1  Juanna        Vines    4.0   5.0  0.0   1.0  \n",
       "2           0      1  Altark       Susent    6.0   0.0  0.0   1.0  \n",
       "3           0      1   Solam       Susent    6.0   0.0  0.0   1.0  \n",
       "4           1      0   Willy  Santantines    6.0   5.0  1.0   1.0  \n",
       "\n",
       "[5 rows x 21 columns]"
      ]
     },
     "execution_count": 11,
     "metadata": {},
     "output_type": "execute_result"
    }
   ],
   "source": [
    "from sklearn.preprocessing import OrdinalEncoder\n",
    "col_names = ['HomePlanet', 'Destination', 'num', 'side', 'deck']\n",
    "df_encode = df[col_names]\n",
    "encoder = OrdinalEncoder()\n",
    "df[col_names] = encoder.fit_transform(df_encode)\n",
    "df.head()"
   ]
  },
  {
   "cell_type": "markdown",
   "id": "1a54e8ef",
   "metadata": {
    "papermill": {
     "duration": 0.060238,
     "end_time": "2022-10-14T19:09:17.425128",
     "exception": false,
     "start_time": "2022-10-14T19:09:17.364890",
     "status": "completed"
    },
    "tags": []
   },
   "source": [
    "# Numeric DataFrame"
   ]
  },
  {
   "cell_type": "code",
   "execution_count": 12,
   "id": "f0e8b9bb",
   "metadata": {
    "execution": {
     "iopub.execute_input": "2022-10-14T19:09:17.547398Z",
     "iopub.status.busy": "2022-10-14T19:09:17.547093Z",
     "iopub.status.idle": "2022-10-14T19:09:17.576652Z",
     "shell.execute_reply": "2022-10-14T19:09:17.575797Z"
    },
    "papermill": {
     "duration": 0.09354,
     "end_time": "2022-10-14T19:09:17.578704",
     "exception": false,
     "start_time": "2022-10-14T19:09:17.485164",
     "status": "completed"
    },
    "tags": []
   },
   "outputs": [
    {
     "data": {
      "text/html": [
       "<div>\n",
       "<style scoped>\n",
       "    .dataframe tbody tr th:only-of-type {\n",
       "        vertical-align: middle;\n",
       "    }\n",
       "\n",
       "    .dataframe tbody tr th {\n",
       "        vertical-align: top;\n",
       "    }\n",
       "\n",
       "    .dataframe thead th {\n",
       "        text-align: right;\n",
       "    }\n",
       "</style>\n",
       "<table border=\"1\" class=\"dataframe\">\n",
       "  <thead>\n",
       "    <tr style=\"text-align: right;\">\n",
       "      <th></th>\n",
       "      <th>HomePlanet</th>\n",
       "      <th>Destination</th>\n",
       "      <th>Age</th>\n",
       "      <th>RoomService</th>\n",
       "      <th>FoodCourt</th>\n",
       "      <th>ShoppingMall</th>\n",
       "      <th>Spa</th>\n",
       "      <th>VRDeck</th>\n",
       "      <th>Transported</th>\n",
       "      <th>Adult</th>\n",
       "      <th>Family</th>\n",
       "      <th>deck</th>\n",
       "      <th>num</th>\n",
       "      <th>side</th>\n",
       "    </tr>\n",
       "  </thead>\n",
       "  <tbody>\n",
       "    <tr>\n",
       "      <th>0</th>\n",
       "      <td>1.0</td>\n",
       "      <td>2.0</td>\n",
       "      <td>39.0</td>\n",
       "      <td>0.0</td>\n",
       "      <td>0.0</td>\n",
       "      <td>0.0</td>\n",
       "      <td>0.0</td>\n",
       "      <td>0.0</td>\n",
       "      <td>0</td>\n",
       "      <td>1</td>\n",
       "      <td>1.0</td>\n",
       "      <td>1.0</td>\n",
       "      <td>0.0</td>\n",
       "      <td>0.0</td>\n",
       "    </tr>\n",
       "    <tr>\n",
       "      <th>1</th>\n",
       "      <td>0.0</td>\n",
       "      <td>2.0</td>\n",
       "      <td>24.0</td>\n",
       "      <td>109.0</td>\n",
       "      <td>9.0</td>\n",
       "      <td>25.0</td>\n",
       "      <td>549.0</td>\n",
       "      <td>44.0</td>\n",
       "      <td>1</td>\n",
       "      <td>1</td>\n",
       "      <td>4.0</td>\n",
       "      <td>5.0</td>\n",
       "      <td>0.0</td>\n",
       "      <td>1.0</td>\n",
       "    </tr>\n",
       "    <tr>\n",
       "      <th>2</th>\n",
       "      <td>1.0</td>\n",
       "      <td>2.0</td>\n",
       "      <td>58.0</td>\n",
       "      <td>43.0</td>\n",
       "      <td>3576.0</td>\n",
       "      <td>0.0</td>\n",
       "      <td>6715.0</td>\n",
       "      <td>49.0</td>\n",
       "      <td>0</td>\n",
       "      <td>1</td>\n",
       "      <td>6.0</td>\n",
       "      <td>0.0</td>\n",
       "      <td>0.0</td>\n",
       "      <td>1.0</td>\n",
       "    </tr>\n",
       "    <tr>\n",
       "      <th>3</th>\n",
       "      <td>1.0</td>\n",
       "      <td>2.0</td>\n",
       "      <td>33.0</td>\n",
       "      <td>0.0</td>\n",
       "      <td>1283.0</td>\n",
       "      <td>371.0</td>\n",
       "      <td>3329.0</td>\n",
       "      <td>193.0</td>\n",
       "      <td>0</td>\n",
       "      <td>1</td>\n",
       "      <td>6.0</td>\n",
       "      <td>0.0</td>\n",
       "      <td>0.0</td>\n",
       "      <td>1.0</td>\n",
       "    </tr>\n",
       "    <tr>\n",
       "      <th>4</th>\n",
       "      <td>0.0</td>\n",
       "      <td>2.0</td>\n",
       "      <td>16.0</td>\n",
       "      <td>303.0</td>\n",
       "      <td>70.0</td>\n",
       "      <td>151.0</td>\n",
       "      <td>565.0</td>\n",
       "      <td>2.0</td>\n",
       "      <td>1</td>\n",
       "      <td>0</td>\n",
       "      <td>6.0</td>\n",
       "      <td>5.0</td>\n",
       "      <td>1.0</td>\n",
       "      <td>1.0</td>\n",
       "    </tr>\n",
       "  </tbody>\n",
       "</table>\n",
       "</div>"
      ],
      "text/plain": [
       "   HomePlanet  Destination   Age  RoomService  FoodCourt  ShoppingMall  \\\n",
       "0         1.0          2.0  39.0          0.0        0.0           0.0   \n",
       "1         0.0          2.0  24.0        109.0        9.0          25.0   \n",
       "2         1.0          2.0  58.0         43.0     3576.0           0.0   \n",
       "3         1.0          2.0  33.0          0.0     1283.0         371.0   \n",
       "4         0.0          2.0  16.0        303.0       70.0         151.0   \n",
       "\n",
       "      Spa  VRDeck  Transported  Adult  Family  deck  num  side  \n",
       "0     0.0     0.0            0      1     1.0   1.0  0.0   0.0  \n",
       "1   549.0    44.0            1      1     4.0   5.0  0.0   1.0  \n",
       "2  6715.0    49.0            0      1     6.0   0.0  0.0   1.0  \n",
       "3  3329.0   193.0            0      1     6.0   0.0  0.0   1.0  \n",
       "4   565.0     2.0            1      0     6.0   5.0  1.0   1.0  "
      ]
     },
     "execution_count": 12,
     "metadata": {},
     "output_type": "execute_result"
    }
   ],
   "source": [
    "numerics = ['int16', 'int32', 'int64', 'float16', 'float32', 'float64']\n",
    "df = df.select_dtypes(include=numerics)\n",
    "df= df.fillna(df.mean())\n",
    "df.head()"
   ]
  },
  {
   "cell_type": "markdown",
   "id": "0063ee5e",
   "metadata": {
    "papermill": {
     "duration": 0.061504,
     "end_time": "2022-10-14T19:09:17.702472",
     "exception": false,
     "start_time": "2022-10-14T19:09:17.640968",
     "status": "completed"
    },
    "tags": []
   },
   "source": [
    "# Correlations"
   ]
  },
  {
   "cell_type": "code",
   "execution_count": 13,
   "id": "33bc79e7",
   "metadata": {
    "execution": {
     "iopub.execute_input": "2022-10-14T19:09:17.828299Z",
     "iopub.status.busy": "2022-10-14T19:09:17.827964Z",
     "iopub.status.idle": "2022-10-14T19:09:18.564412Z",
     "shell.execute_reply": "2022-10-14T19:09:18.563699Z"
    },
    "papermill": {
     "duration": 0.802676,
     "end_time": "2022-10-14T19:09:18.567037",
     "exception": false,
     "start_time": "2022-10-14T19:09:17.764361",
     "status": "completed"
    },
    "tags": []
   },
   "outputs": [
    {
     "data": {
      "text/plain": [
       "<AxesSubplot:>"
      ]
     },
     "execution_count": 13,
     "metadata": {},
     "output_type": "execute_result"
    },
    {
     "data": {
      "image/png": "[encoded data removed]",
      "text/plain": [
       "<Figure size 720x720 with 2 Axes>"
      ]
     },
     "metadata": {
      "needs_background": "light"
     },
     "output_type": "display_data"
    }
   ],
   "source": [
    "import seaborn as sns\n",
    "corr=df.corr()\n",
    "matrix=np.triu(corr)\n",
    "fig, ax=plt.subplots(figsize=(10,10))\n",
    "sns.heatmap(corr, annot=True, mask=matrix)"
   ]
  },
  {
   "cell_type": "code",
   "execution_count": 14,
   "id": "9e5c9c5e",
   "metadata": {
    "execution": {
     "iopub.execute_input": "2022-10-14T19:09:18.697685Z",
     "iopub.status.busy": "2022-10-14T19:09:18.696991Z",
     "iopub.status.idle": "2022-10-14T19:09:18.716479Z",
     "shell.execute_reply": "2022-10-14T19:09:18.715764Z"
    },
    "papermill": {
     "duration": 0.087098,
     "end_time": "2022-10-14T19:09:18.718499",
     "exception": false,
     "start_time": "2022-10-14T19:09:18.631401",
     "status": "completed"
    },
    "tags": []
   },
   "outputs": [
    {
     "data": {
      "text/html": [
       "<div>\n",
       "<style scoped>\n",
       "    .dataframe tbody tr th:only-of-type {\n",
       "        vertical-align: middle;\n",
       "    }\n",
       "\n",
       "    .dataframe tbody tr th {\n",
       "        vertical-align: top;\n",
       "    }\n",
       "\n",
       "    .dataframe thead th {\n",
       "        text-align: right;\n",
       "    }\n",
       "</style>\n",
       "<table border=\"1\" class=\"dataframe\">\n",
       "  <thead>\n",
       "    <tr style=\"text-align: right;\">\n",
       "      <th></th>\n",
       "      <th>HomePlanet</th>\n",
       "      <th>Age</th>\n",
       "      <th>RoomService</th>\n",
       "      <th>FoodCourt</th>\n",
       "      <th>ShoppingMall</th>\n",
       "      <th>Spa</th>\n",
       "      <th>VRDeck</th>\n",
       "      <th>Transported</th>\n",
       "      <th>deck</th>\n",
       "      <th>num</th>\n",
       "      <th>side</th>\n",
       "    </tr>\n",
       "  </thead>\n",
       "  <tbody>\n",
       "    <tr>\n",
       "      <th>0</th>\n",
       "      <td>1.0</td>\n",
       "      <td>39.0</td>\n",
       "      <td>0.0</td>\n",
       "      <td>0.0</td>\n",
       "      <td>0.0</td>\n",
       "      <td>0.0</td>\n",
       "      <td>0.0</td>\n",
       "      <td>0</td>\n",
       "      <td>1.0</td>\n",
       "      <td>0.0</td>\n",
       "      <td>0.0</td>\n",
       "    </tr>\n",
       "    <tr>\n",
       "      <th>1</th>\n",
       "      <td>0.0</td>\n",
       "      <td>24.0</td>\n",
       "      <td>109.0</td>\n",
       "      <td>9.0</td>\n",
       "      <td>25.0</td>\n",
       "      <td>549.0</td>\n",
       "      <td>44.0</td>\n",
       "      <td>1</td>\n",
       "      <td>5.0</td>\n",
       "      <td>0.0</td>\n",
       "      <td>1.0</td>\n",
       "    </tr>\n",
       "    <tr>\n",
       "      <th>2</th>\n",
       "      <td>1.0</td>\n",
       "      <td>58.0</td>\n",
       "      <td>43.0</td>\n",
       "      <td>3576.0</td>\n",
       "      <td>0.0</td>\n",
       "      <td>6715.0</td>\n",
       "      <td>49.0</td>\n",
       "      <td>0</td>\n",
       "      <td>0.0</td>\n",
       "      <td>0.0</td>\n",
       "      <td>1.0</td>\n",
       "    </tr>\n",
       "    <tr>\n",
       "      <th>3</th>\n",
       "      <td>1.0</td>\n",
       "      <td>33.0</td>\n",
       "      <td>0.0</td>\n",
       "      <td>1283.0</td>\n",
       "      <td>371.0</td>\n",
       "      <td>3329.0</td>\n",
       "      <td>193.0</td>\n",
       "      <td>0</td>\n",
       "      <td>0.0</td>\n",
       "      <td>0.0</td>\n",
       "      <td>1.0</td>\n",
       "    </tr>\n",
       "    <tr>\n",
       "      <th>4</th>\n",
       "      <td>0.0</td>\n",
       "      <td>16.0</td>\n",
       "      <td>303.0</td>\n",
       "      <td>70.0</td>\n",
       "      <td>151.0</td>\n",
       "      <td>565.0</td>\n",
       "      <td>2.0</td>\n",
       "      <td>1</td>\n",
       "      <td>5.0</td>\n",
       "      <td>1.0</td>\n",
       "      <td>1.0</td>\n",
       "    </tr>\n",
       "  </tbody>\n",
       "</table>\n",
       "</div>"
      ],
      "text/plain": [
       "   HomePlanet   Age  RoomService  FoodCourt  ShoppingMall     Spa  VRDeck  \\\n",
       "0         1.0  39.0          0.0        0.0           0.0     0.0     0.0   \n",
       "1         0.0  24.0        109.0        9.0          25.0   549.0    44.0   \n",
       "2         1.0  58.0         43.0     3576.0           0.0  6715.0    49.0   \n",
       "3         1.0  33.0          0.0     1283.0         371.0  3329.0   193.0   \n",
       "4         0.0  16.0        303.0       70.0         151.0   565.0     2.0   \n",
       "\n",
       "   Transported  deck  num  side  \n",
       "0            0   1.0  0.0   0.0  \n",
       "1            1   5.0  0.0   1.0  \n",
       "2            0   0.0  0.0   1.0  \n",
       "3            0   0.0  0.0   1.0  \n",
       "4            1   5.0  1.0   1.0  "
      ]
     },
     "execution_count": 14,
     "metadata": {},
     "output_type": "execute_result"
    }
   ],
   "source": [
    "# Low feature performance: \n",
    "df=df.drop(columns=['Adult', 'Destination', \"Family\"], axis=1)\n",
    "df.head()"
   ]
  },
  {
   "cell_type": "markdown",
   "id": "b24760a8",
   "metadata": {
    "papermill": {
     "duration": 0.063758,
     "end_time": "2022-10-14T19:09:18.846417",
     "exception": false,
     "start_time": "2022-10-14T19:09:18.782659",
     "status": "completed"
    },
    "tags": []
   },
   "source": [
    "# Split Data"
   ]
  },
  {
   "cell_type": "code",
   "execution_count": 15,
   "id": "f7c80909",
   "metadata": {
    "execution": {
     "iopub.execute_input": "2022-10-14T19:09:18.976710Z",
     "iopub.status.busy": "2022-10-14T19:09:18.976089Z",
     "iopub.status.idle": "2022-10-14T19:09:18.984866Z",
     "shell.execute_reply": "2022-10-14T19:09:18.983880Z"
    },
    "papermill": {
     "duration": 0.076547,
     "end_time": "2022-10-14T19:09:18.987155",
     "exception": false,
     "start_time": "2022-10-14T19:09:18.910608",
     "status": "completed"
    },
    "tags": []
   },
   "outputs": [],
   "source": [
    "X=df.drop('Transported', axis=1)\n",
    "y=df['Transported']\n",
    "\n",
    "X_train, X_test, y_train, y_test = train_test_split(\n",
    "    X, y, test_size=0.20, random_state=13)"
   ]
  },
  {
   "cell_type": "markdown",
   "id": "35d43ce1",
   "metadata": {
    "papermill": {
     "duration": 0.063818,
     "end_time": "2022-10-14T19:09:19.115018",
     "exception": false,
     "start_time": "2022-10-14T19:09:19.051200",
     "status": "completed"
    },
    "tags": []
   },
   "source": [
    "# XGBoost"
   ]
  },
  {
   "cell_type": "code",
   "execution_count": 16,
   "id": "472542fb",
   "metadata": {
    "execution": {
     "iopub.execute_input": "2022-10-14T19:09:19.247043Z",
     "iopub.status.busy": "2022-10-14T19:09:19.246765Z",
     "iopub.status.idle": "2022-10-14T19:09:19.336957Z",
     "shell.execute_reply": "2022-10-14T19:09:19.336098Z"
    },
    "papermill": {
     "duration": 0.160037,
     "end_time": "2022-10-14T19:09:19.339442",
     "exception": false,
     "start_time": "2022-10-14T19:09:19.179405",
     "status": "completed"
    },
    "tags": []
   },
   "outputs": [],
   "source": [
    "import xgboost as xgb"
   ]
  },
  {
   "cell_type": "code",
   "execution_count": 17,
   "id": "0c345d71",
   "metadata": {
    "execution": {
     "iopub.execute_input": "2022-10-14T19:09:19.469342Z",
     "iopub.status.busy": "2022-10-14T19:09:19.468818Z",
     "iopub.status.idle": "2022-10-14T19:09:25.665198Z",
     "shell.execute_reply": "2022-10-14T19:09:25.664417Z"
    },
    "papermill": {
     "duration": 6.264107,
     "end_time": "2022-10-14T19:09:25.667494",
     "exception": false,
     "start_time": "2022-10-14T19:09:19.403387",
     "status": "completed"
    },
    "tags": []
   },
   "outputs": [
    {
     "data": {
      "image/png": "[encoded data removed]",
      "text/plain": [
       "<Figure size 432x288 with 1 Axes>"
      ]
     },
     "metadata": {
      "needs_background": "light"
     },
     "output_type": "display_data"
    },
    {
     "data": {
      "image/png": "[encoded data removed]",
      "text/plain": [
       "<Figure size 432x288 with 1 Axes>"
      ]
     },
     "metadata": {
      "needs_background": "light"
     },
     "output_type": "display_data"
    }
   ],
   "source": [
    "def maxDepth():\n",
    "    numbers=[2, 4, 5, 6, 7, 8, 9, 10]\n",
    "    maeList=[]\n",
    "    accList=[]\n",
    "    for n in numbers:\n",
    "        model=xgb.XGBClassifier(max_depth=n)\n",
    "        model.fit(X_train, y_train)\n",
    "        y_pred=model.predict(X_test)\n",
    "        \n",
    "        mae=mean_absolute_error(y_test, y_pred)\n",
    "        acc=accuracy_score(y_test, y_pred)\n",
    "        \n",
    "        maeList.append(mae)\n",
    "        accList.append(acc)\n",
    "    plt.plot(numbers, maeList)\n",
    "    plt.title(\"Max Depth Error\")\n",
    "    plt.show()\n",
    "    \n",
    "    plt.plot(numbers, accList)\n",
    "    plt.title(\"Max Depth Accuracy\")\n",
    "    plt.show()\n",
    "maxDepth()"
   ]
  },
  {
   "cell_type": "code",
   "execution_count": 18,
   "id": "0ccdcf7d",
   "metadata": {
    "execution": {
     "iopub.execute_input": "2022-10-14T19:09:25.805307Z",
     "iopub.status.busy": "2022-10-14T19:09:25.804983Z",
     "iopub.status.idle": "2022-10-14T19:09:30.944581Z",
     "shell.execute_reply": "2022-10-14T19:09:30.943867Z"
    },
    "papermill": {
     "duration": 5.210876,
     "end_time": "2022-10-14T19:09:30.946462",
     "exception": false,
     "start_time": "2022-10-14T19:09:25.735586",
     "status": "completed"
    },
    "tags": []
   },
   "outputs": [
    {
     "data": {
      "image/png": "[encoded data removed]",
      "text/plain": [
       "<Figure size 432x288 with 1 Axes>"
      ]
     },
     "metadata": {
      "needs_background": "light"
     },
     "output_type": "display_data"
    },
    {
     "data": {
      "image/png": "[encoded data removed]",
      "text/plain": [
       "<Figure size 432x288 with 1 Axes>"
      ]
     },
     "metadata": {
      "needs_background": "light"
     },
     "output_type": "display_data"
    }
   ],
   "source": [
    "def estimator():\n",
    "    numbers=[2, 20, 30, 40, 50, 60, 70, 80, 90, 100, 150]\n",
    "    accList=[]\n",
    "    maeList=[]\n",
    "    for n in numbers:\n",
    "        model=xgb.XGBClassifier(n_estimators=n)\n",
    "        model.fit(X_train, y_train)\n",
    "        y_pred=model.predict(X_test)\n",
    "        \n",
    "        mae=mean_absolute_error(y_test, y_pred)\n",
    "        acc=accuracy_score(y_test, y_pred)\n",
    "        accList.append(acc)\n",
    "        maeList.append(mae)\n",
    "    plt.plot(numbers, accList)\n",
    "    plt.title(\"Accurary n_estimators\")\n",
    "    plt.ylabel(\"Accuracy\")\n",
    "    plt.xlabel(\"n_estimators\")\n",
    "    plt.show()\n",
    "    \n",
    "    plt.plot(numbers, maeList)\n",
    "    plt.title(\"Error n_estimators\")\n",
    "    plt.ylabel(\"error\")\n",
    "    plt.xlabel(\"n_estimators\")\n",
    "    plt.show()\n",
    "estimator()"
   ]
  },
  {
   "cell_type": "code",
   "execution_count": 19,
   "id": "309c4cf4",
   "metadata": {
    "execution": {
     "iopub.execute_input": "2022-10-14T19:09:31.085076Z",
     "iopub.status.busy": "2022-10-14T19:09:31.084021Z",
     "iopub.status.idle": "2022-10-14T19:09:37.708925Z",
     "shell.execute_reply": "2022-10-14T19:09:37.708233Z"
    },
    "papermill": {
     "duration": 6.69618,
     "end_time": "2022-10-14T19:09:37.710752",
     "exception": false,
     "start_time": "2022-10-14T19:09:31.014572",
     "status": "completed"
    },
    "tags": []
   },
   "outputs": [
    {
     "data": {
      "image/png": "[encoded data removed]",
      "text/plain": [
       "<Figure size 432x288 with 1 Axes>"
      ]
     },
     "metadata": {
      "needs_background": "light"
     },
     "output_type": "display_data"
    },
    {
     "data": {
      "image/png": "[encoded data removed]",
      "text/plain": [
       "<Figure size 432x288 with 1 Axes>"
      ]
     },
     "metadata": {
      "needs_background": "light"
     },
     "output_type": "display_data"
    }
   ],
   "source": [
    "def childWeight():\n",
    "    numbers=[0.01, 1, 2, 3, 5, 7, 9, 10]\n",
    "    maeList=[]\n",
    "    accList=[]\n",
    "\n",
    "    for n in numbers:\n",
    "        model = xgb.XGBClassifier(\n",
    "            min_child_weight= n\n",
    "        )\n",
    "        model.fit(X_train, y_train)\n",
    "        y_pred = model.predict(X_test)\n",
    "\n",
    "        mae=mean_absolute_error(y_test, y_pred)\n",
    "        acc=accuracy_score(y_test, y_pred).round(4)\n",
    "        maeList.append(mae)\n",
    "        accList.append(acc)\n",
    "    plt.plot(numbers, maeList)\n",
    "    plt.title('Error Weight')\n",
    "    plt.ylabel('Error')\n",
    "    plt.xlabel('Weight')\n",
    "    plt.show()\n",
    "\n",
    "    plt.plot(numbers, accList)\n",
    "    plt.title('Accuracy Weight')\n",
    "    plt.ylabel('Accurate')\n",
    "    plt.xlabel('Weight')\n",
    "    plt.show()\n",
    "childWeight()"
   ]
  },
  {
   "cell_type": "code",
   "execution_count": 20,
   "id": "9a6c366a",
   "metadata": {
    "execution": {
     "iopub.execute_input": "2022-10-14T19:09:37.852974Z",
     "iopub.status.busy": "2022-10-14T19:09:37.852441Z",
     "iopub.status.idle": "2022-10-14T19:09:42.807848Z",
     "shell.execute_reply": "2022-10-14T19:09:42.807257Z"
    },
    "papermill": {
     "duration": 5.028636,
     "end_time": "2022-10-14T19:09:42.809730",
     "exception": false,
     "start_time": "2022-10-14T19:09:37.781094",
     "status": "completed"
    },
    "tags": []
   },
   "outputs": [
    {
     "data": {
      "image/png": "[encoded data removed]",
      "text/plain": [
       "<Figure size 432x288 with 1 Axes>"
      ]
     },
     "metadata": {
      "needs_background": "light"
     },
     "output_type": "display_data"
    },
    {
     "data": {
      "image/png": "[encoded data removed]",
      "text/plain": [
       "<Figure size 432x288 with 1 Axes>"
      ]
     },
     "metadata": {
      "needs_background": "light"
     },
     "output_type": "display_data"
    }
   ],
   "source": [
    "def gamma():\n",
    "    numbers=[0, 0.25, 0.5, 1.0, 3, 5, 10]\n",
    "    maeList=[]\n",
    "    accList=[]\n",
    "\n",
    "    for  n in numbers:\n",
    "        regressor = xgb.XGBClassifier(\n",
    "            gamma = n\n",
    "        )\n",
    "        regressor.fit(X_train, y_train)\n",
    "        y_pred = regressor.predict(X_test)\n",
    "\n",
    "        xgMSE=mean_absolute_error(y_test, y_pred)\n",
    "        xgR2 = r2_score(y_test, y_pred).round(4)\n",
    "        maeList.append(xgMSE)\n",
    "        accList.append(xgR2)\n",
    "\n",
    "    plt.plot(numbers, maeList)\n",
    "    plt.title('Gamma Error')\n",
    "    plt.ylabel('Error')\n",
    "    plt.xlabel('Gamma')\n",
    "    plt.legend()\n",
    "    plt.show()\n",
    "\n",
    "    plt.plot(numbers, accList)\n",
    "    plt.title('Gamma Accuracy')\n",
    "    plt.ylabel('Accurate')\n",
    "    plt.xlabel('Gamma')\n",
    "    plt.legend()\n",
    "    plt.show()\n",
    "gamma()"
   ]
  },
  {
   "cell_type": "code",
   "execution_count": 21,
   "id": "858ae898",
   "metadata": {
    "execution": {
     "iopub.execute_input": "2022-10-14T19:09:42.956894Z",
     "iopub.status.busy": "2022-10-14T19:09:42.955961Z",
     "iopub.status.idle": "2022-10-14T19:09:49.598303Z",
     "shell.execute_reply": "2022-10-14T19:09:49.597483Z"
    },
    "papermill": {
     "duration": 6.718314,
     "end_time": "2022-10-14T19:09:49.600352",
     "exception": false,
     "start_time": "2022-10-14T19:09:42.882038",
     "status": "completed"
    },
    "tags": []
   },
   "outputs": [
    {
     "data": {
      "image/png": "[encoded data removed]",
      "text/plain": [
       "<Figure size 432x288 with 1 Axes>"
      ]
     },
     "metadata": {
      "needs_background": "light"
     },
     "output_type": "display_data"
    },
    {
     "data": {
      "image/png": "[encoded data removed]",
      "text/plain": [
       "<Figure size 432x288 with 1 Axes>"
      ]
     },
     "metadata": {
      "needs_background": "light"
     },
     "output_type": "display_data"
    }
   ],
   "source": [
    "def learn():\n",
    "    numbers = [0.01, 0.1, 0.2, 0.3, .5, .6, .7, .8, .9]\n",
    "    maeList=[]\n",
    "    accList=[]\n",
    "    for n in numbers:\n",
    "        model = xgb.XGBClassifier(\n",
    "            learning_rate= n\n",
    "        )\n",
    "        model.fit(X_train, y_train)\n",
    "        y_pred =  model.predict(X_test)\n",
    "\n",
    "        mae=mean_absolute_error(y_test, y_pred)\n",
    "        acc= accuracy_score(y_test, y_pred).round(4)\n",
    "        maeList.append(mae)\n",
    "        accList.append(acc)\n",
    "\n",
    "    plt.plot(numbers, maeList)\n",
    "    plt.title('Learning_rate Error')\n",
    "    plt.ylabel('Error')\n",
    "    plt.xlabel('Learning_rate')\n",
    "    plt.legend()\n",
    "    plt.show()\n",
    "\n",
    "    plt.plot( numbers,   accList)\n",
    "    plt.title('Learning_rate accuracy')\n",
    "    plt.ylabel('Accurate')\n",
    "    plt.xlabel('Learning_rate')\n",
    "    plt.show()\n",
    "learn()"
   ]
  },
  {
   "cell_type": "code",
   "execution_count": 22,
   "id": "3884e6a8",
   "metadata": {
    "execution": {
     "iopub.execute_input": "2022-10-14T19:09:49.761331Z",
     "iopub.status.busy": "2022-10-14T19:09:49.760891Z",
     "iopub.status.idle": "2022-10-14T19:09:52.805868Z",
     "shell.execute_reply": "2022-10-14T19:09:52.805260Z"
    },
    "papermill": {
     "duration": 3.126712,
     "end_time": "2022-10-14T19:09:52.807747",
     "exception": false,
     "start_time": "2022-10-14T19:09:49.681035",
     "status": "completed"
    },
    "tags": []
   },
   "outputs": [
    {
     "data": {
      "image/png": "[encoded data removed]",
      "text/plain": [
       "<Figure size 432x288 with 1 Axes>"
      ]
     },
     "metadata": {
      "needs_background": "light"
     },
     "output_type": "display_data"
    },
    {
     "data": {
      "image/png": "[encoded data removed]",
      "text/plain": [
       "<Figure size 432x288 with 1 Axes>"
      ]
     },
     "metadata": {
      "needs_background": "light"
     },
     "output_type": "display_data"
    }
   ],
   "source": [
    "def regLam():\n",
    "    numbers = [0, 1.0, 5.0, 10.0] #0 is default\n",
    "    maeList=[]\n",
    "    accList=[]\n",
    "\n",
    "    for  n in numbers:\n",
    "        regressor = xgb.XGBClassifier(\n",
    "            reg_lambda= n,\n",
    "        )\n",
    "        regressor.fit(X_train, y_train)\n",
    "        y_pred = regressor.predict(X_test)\n",
    "\n",
    "        mae=mean_absolute_error(y_test, y_pred)\n",
    "        acc = r2_score(y_test, y_pred).round(4)\n",
    "        maeList.append(mae)\n",
    "        accList.append(acc)\n",
    "    plt.plot(numbers, maeList)\n",
    "    plt.title('RegLam Error')\n",
    "    plt.ylabel('Error')\n",
    "    plt.xlabel('RegLam')\n",
    "    plt.legend()\n",
    "    plt.show()\n",
    "\n",
    "    plt.plot(numbers, accList)\n",
    "    plt.title('RegLam R2')\n",
    "    plt.ylabel('Accurate')\n",
    "    plt.xlabel('RegLam')\n",
    "    plt.legend()\n",
    "    plt.show()\n",
    "regLam()"
   ]
  },
  {
   "cell_type": "code",
   "execution_count": 23,
   "id": "c94db3a6",
   "metadata": {
    "execution": {
     "iopub.execute_input": "2022-10-14T19:09:52.962034Z",
     "iopub.status.busy": "2022-10-14T19:09:52.961088Z",
     "iopub.status.idle": "2022-10-14T19:09:58.173702Z",
     "shell.execute_reply": "2022-10-14T19:09:58.172959Z"
    },
    "papermill": {
     "duration": 5.291968,
     "end_time": "2022-10-14T19:09:58.175730",
     "exception": false,
     "start_time": "2022-10-14T19:09:52.883762",
     "status": "completed"
    },
    "tags": []
   },
   "outputs": [
    {
     "data": {
      "image/png": "[encoded data removed]",
      "text/plain": [
       "<Figure size 432x288 with 1 Axes>"
      ]
     },
     "metadata": {
      "needs_background": "light"
     },
     "output_type": "display_data"
    },
    {
     "data": {
      "image/png": "[encoded data removed]",
      "text/plain": [
       "<Figure size 432x288 with 1 Axes>"
      ]
     },
     "metadata": {
      "needs_background": "light"
     },
     "output_type": "display_data"
    }
   ],
   "source": [
    "def regAlpha():\n",
    "    numbers = [0, 5.0, 10.0, 20, 30, 40, 50, 60, 70, 80]  #0 is default\n",
    "    listMSE=[]\n",
    "    listR2=[]\n",
    "\n",
    "    for n in numbers:\n",
    "        regressor = xgb.XGBClassifier(\n",
    "            reg_alpha=n,\n",
    "        )\n",
    "        regressor.fit(X_train, y_train)\n",
    "        y_pred = regressor.predict(X_test)\n",
    "\n",
    "        xgMSE=mean_absolute_error(y_test, y_pred)\n",
    "        xgR2 = r2_score(y_test, y_pred).round(4)\n",
    "        listMSE.append(xgMSE)\n",
    "        listR2.append(xgR2)\n",
    "\n",
    "    plt.plot(numbers, listMSE)\n",
    "    plt.title('regAlpha Error')\n",
    "    plt.ylabel('Error')\n",
    "    plt.xlabel('RegAlpha')\n",
    "    plt.show()\n",
    "\n",
    "    plt.plot(numbers, listR2)\n",
    "    plt.title('regAlpha Accuracy')\n",
    "    plt.ylabel('Accurate')\n",
    "    plt.xlabel('RegAlpha')\n",
    "    plt.show()\n",
    "regAlpha()"
   ]
  },
  {
   "cell_type": "code",
   "execution_count": 24,
   "id": "f4aa908a",
   "metadata": {
    "execution": {
     "iopub.execute_input": "2022-10-14T19:09:58.334076Z",
     "iopub.status.busy": "2022-10-14T19:09:58.333503Z",
     "iopub.status.idle": "2022-10-14T19:10:00.889122Z",
     "shell.execute_reply": "2022-10-14T19:10:00.888440Z"
    },
    "papermill": {
     "duration": 2.637339,
     "end_time": "2022-10-14T19:10:00.891255",
     "exception": false,
     "start_time": "2022-10-14T19:09:58.253916",
     "status": "completed"
    },
    "tags": []
   },
   "outputs": [
    {
     "data": {
      "image/png": "[encoded data removed]",
      "text/plain": [
       "<Figure size 432x288 with 1 Axes>"
      ]
     },
     "metadata": {
      "needs_background": "light"
     },
     "output_type": "display_data"
    },
    {
     "data": {
      "image/png": "[encoded data removed]",
      "text/plain": [
       "<Figure size 432x288 with 1 Axes>"
      ]
     },
     "metadata": {
      "needs_background": "light"
     },
     "output_type": "display_data"
    }
   ],
   "source": [
    "def colSample():\n",
    "    numbers = [0.1, 0.5, 0.9, 1]\n",
    "    maeList=[]\n",
    "    accList=[]\n",
    "    for n in numbers:\n",
    "        model = xgb.XGBClassifier(\n",
    "            colsample_bytree= n\n",
    "        )\n",
    "        model.fit(X_train, y_train)\n",
    "        y_pred = model.predict(X_test)\n",
    "\n",
    "        mae=mean_absolute_error(y_test, y_pred)\n",
    "        acc = accuracy_score(y_test, y_pred).round(4)\n",
    "        maeList.append(mae)\n",
    "        accList.append(acc)\n",
    "\n",
    "    plt.plot(numbers, maeList)\n",
    "    plt.title('ColSample Error')\n",
    "    plt.ylabel('Error')\n",
    "    plt.xlabel('ColSample')\n",
    "    plt.show()\n",
    "\n",
    "    plt.plot(numbers, accList)\n",
    "    plt.title('ColSample R2')\n",
    "    plt.ylabel('Accurate')\n",
    "    plt.xlabel('ColSample')\n",
    "    plt.show()\n",
    "colSample()"
   ]
  },
  {
   "cell_type": "markdown",
   "id": "4ba83769",
   "metadata": {
    "papermill": {
     "duration": 0.080668,
     "end_time": "2022-10-14T19:10:01.052146",
     "exception": false,
     "start_time": "2022-10-14T19:10:00.971478",
     "status": "completed"
    },
    "tags": []
   },
   "source": [
    "# GridSearch"
   ]
  },
  {
   "cell_type": "code",
   "execution_count": 25,
   "id": "97c67da5",
   "metadata": {
    "execution": {
     "iopub.execute_input": "2022-10-14T19:10:01.216390Z",
     "iopub.status.busy": "2022-10-14T19:10:01.215354Z",
     "iopub.status.idle": "2022-10-14T19:10:01.223219Z",
     "shell.execute_reply": "2022-10-14T19:10:01.222598Z"
    },
    "papermill": {
     "duration": 0.0921,
     "end_time": "2022-10-14T19:10:01.225208",
     "exception": false,
     "start_time": "2022-10-14T19:10:01.133108",
     "status": "completed"
    },
    "tags": []
   },
   "outputs": [],
   "source": [
    "def gridSearch():\n",
    "    print(\"start\")\n",
    "    start=time.time()\n",
    "    params={\n",
    "        'n_estimators':[70, 100],\n",
    "        'max_depth':[3, 4, 5],\n",
    "        'min_child_weight': [2, 3, 4],\n",
    "        'learning_rate':[.1],\n",
    "        'gamma':[.01],\n",
    "        'reg_alpha':[0, 1],\n",
    "        'reg_lambda':[1],\n",
    "        'colsample_bytree':[1]\n",
    "    }\n",
    "    boost_gs=xgb.XGBClassifier()\n",
    "    kfold=KFold(n_splits=10, shuffle=True, random_state=42)\n",
    "    boost_gs=GridSearchCV(boost_gs, param_grid=params, scoring='accuracy', cv=kfold)\n",
    "    boost_gs.fit(X_train, y_train)\n",
    "    print(\"Done. \", time.time()-start, \" seconds\")\n",
    "    print(boost_gs.best_params_)\n",
    "#gridSearch()"
   ]
  },
  {
   "cell_type": "markdown",
   "id": "1825f418",
   "metadata": {
    "papermill": {
     "duration": 0.081561,
     "end_time": "2022-10-14T19:10:01.389931",
     "exception": false,
     "start_time": "2022-10-14T19:10:01.308370",
     "status": "completed"
    },
    "tags": []
   },
   "source": [
    "# XGB Final\n",
    "The best models gridSearch found are: \n",
    "* CV = 10 {'colsample_bytree': 1, 'gamma': 0.01, 'learning_rate': 0.1, 'max_depth': 4, 'min_child_weight': 3, 'n_estimators': 100, 'reg_alpha': 1, 'reg_lambda': 1}\n",
    "* CV 5 = {'colsample_bytree': 1, 'gamma': 0.01, 'learning_rate': 0.1, 'max_depth': 4, 'min_child_weight': 3, 'n_estimators': 100, 'reg_alpha': 0.01, 'reg_lambda': 1}"
   ]
  },
  {
   "cell_type": "code",
   "execution_count": 26,
   "id": "136e5f31",
   "metadata": {
    "execution": {
     "iopub.execute_input": "2022-10-14T19:10:01.558240Z",
     "iopub.status.busy": "2022-10-14T19:10:01.557620Z",
     "iopub.status.idle": "2022-10-14T19:10:08.613376Z",
     "shell.execute_reply": "2022-10-14T19:10:08.612339Z"
    },
    "papermill": {
     "duration": 7.142937,
     "end_time": "2022-10-14T19:10:08.615949",
     "exception": false,
     "start_time": "2022-10-14T19:10:01.473012",
     "status": "completed"
    },
    "tags": []
   },
   "outputs": [
    {
     "name": "stdout",
     "output_type": "stream",
     "text": [
      "0.7953  prediction score\n",
      "0.7934  actual\n",
      "0.0019  cross validation difference\n"
     ]
    }
   ],
   "source": [
    "xgbFinal=xgb.XGBClassifier(\n",
    "    max_depth=4, \n",
    "    n_estimators=100, \n",
    "    min_child_weight=3,\n",
    "    gamma=.01,\n",
    "    reg_alpha=1,\n",
    "    reg_lambda=1,\n",
    "    colsample_bytree=1,\n",
    "    learning_rate=.1\n",
    ")\n",
    "xgbFinal.fit(X_train, y_train)\n",
    "y_pred=xgbFinal.predict(X_test)\n",
    "\n",
    "xgScore=xgbFinal.score(X_test, y_test).round(4)\n",
    "xgCV=cross_validate(xgbFinal, X, y, cv=10, scoring='accuracy')\n",
    "xgCV=xgCV['test_score'].mean().round(4)\n",
    "print(xgScore, \" prediction score\")\n",
    "print(xgCV, \" actual\")\n",
    "print(round(xgScore-xgCV,4), \" cross validation difference\")"
   ]
  },
  {
   "cell_type": "markdown",
   "id": "85b484b1",
   "metadata": {
    "papermill": {
     "duration": 0.081996,
     "end_time": "2022-10-14T19:10:08.779853",
     "exception": false,
     "start_time": "2022-10-14T19:10:08.697857",
     "status": "completed"
    },
    "tags": []
   },
   "source": [
    "# Graph"
   ]
  },
  {
   "cell_type": "code",
   "execution_count": 27,
   "id": "f8ef3904",
   "metadata": {
    "execution": {
     "iopub.execute_input": "2022-10-14T19:10:08.948164Z",
     "iopub.status.busy": "2022-10-14T19:10:08.947217Z",
     "iopub.status.idle": "2022-10-14T19:10:10.001657Z",
     "shell.execute_reply": "2022-10-14T19:10:10.000486Z"
    },
    "papermill": {
     "duration": 1.139867,
     "end_time": "2022-10-14T19:10:10.004203",
     "exception": false,
     "start_time": "2022-10-14T19:10:08.864336",
     "status": "completed"
    },
    "tags": []
   },
   "outputs": [
    {
     "data": {
      "image/svg+xml": [
       "<?xml version=\"1.0\" encoding=\"UTF-8\" standalone=\"no\"?>\n",
       "<!DOCTYPE svg PUBLIC \"-//W3C//DTD SVG 1.1//EN\"\n",
       " \"http://www.w3.org/Graphics/SVG/1.1/DTD/svg11.dtd\">\n",
       "<!-- Generated by graphviz version 2.50.0 (20211209.0339)\n",
       " -->\n",
       "<!-- Pages: 1 -->\n",
       "<svg width=\"3530pt\" height=\"392pt\"\n",
       " viewBox=\"0.00 0.00 3529.63 392.00\" xmlns=\"http://www.w3.org/2000/svg\" xmlns:xlink=\"http://www.w3.org/1999/xlink\">\n",
       "<g id=\"graph0\" class=\"graph\" transform=\"scale(1 1) rotate(0) translate(4 388)\">\n",
       "<polygon fill=\"white\" stroke=\"transparent\" points=\"-4,4 -4,-388 3525.63,-388 3525.63,4 -4,4\"/>\n",
       "<!-- 0 -->\n",
       "<g id=\"node1\" class=\"node\">\n",
       "<title>0</title>\n",
       "<ellipse fill=\"none\" stroke=\"black\" cx=\"1599.69\" cy=\"-366\" rx=\"94.48\" ry=\"18\"/>\n",
       "<text text-anchor=\"middle\" x=\"1599.69\" y=\"-362.3\" font-family=\"Times,serif\" font-size=\"14.00\">RoomService&lt;0.5</text>\n",
       "</g>\n",
       "<!-- 1 -->\n",
       "<g id=\"node2\" class=\"node\">\n",
       "<title>1</title>\n",
       "<ellipse fill=\"none\" stroke=\"black\" cx=\"1271.69\" cy=\"-279\" rx=\"69.59\" ry=\"18\"/>\n",
       "<text text-anchor=\"middle\" x=\"1271.69\" y=\"-275.3\" font-family=\"Times,serif\" font-size=\"14.00\">VRDeck&lt;0.5</text>\n",
       "</g>\n",
       "<!-- 0&#45;&gt;1 -->\n",
       "<g id=\"edge1\" class=\"edge\">\n",
       "<title>0&#45;&gt;1</title>\n",
       "<path fill=\"none\" stroke=\"#0000ff\" d=\"M1546.26,-351.15C1486.51,-335.67 1390.09,-310.68 1328.86,-294.82\"/>\n",
       "<polygon fill=\"#0000ff\" stroke=\"#0000ff\" points=\"1329.53,-291.37 1318.97,-292.25 1327.77,-298.15 1329.53,-291.37\"/>\n",
       "<text text-anchor=\"middle\" x=\"1500.19\" y=\"-318.8\" font-family=\"Times,serif\" font-size=\"14.00\">yes, missing</text>\n",
       "</g>\n",
       "<!-- 2 -->\n",
       "<g id=\"node3\" class=\"node\">\n",
       "<title>2</title>\n",
       "<ellipse fill=\"none\" stroke=\"black\" cx=\"2169.69\" cy=\"-279\" rx=\"105.88\" ry=\"18\"/>\n",
       "<text text-anchor=\"middle\" x=\"2169.69\" y=\"-275.3\" font-family=\"Times,serif\" font-size=\"14.00\">RoomService&lt;346.5</text>\n",
       "</g>\n",
       "<!-- 0&#45;&gt;2 -->\n",
       "<g id=\"edge2\" class=\"edge\">\n",
       "<title>0&#45;&gt;2</title>\n",
       "<path fill=\"none\" stroke=\"#ff0000\" d=\"M1671.59,-354.28C1776.33,-338.66 1970.57,-309.69 2083.05,-292.92\"/>\n",
       "<polygon fill=\"#ff0000\" stroke=\"#ff0000\" points=\"2083.63,-296.37 2093.01,-291.44 2082.6,-289.45 2083.63,-296.37\"/>\n",
       "<text text-anchor=\"middle\" x=\"1928.69\" y=\"-318.8\" font-family=\"Times,serif\" font-size=\"14.00\">no</text>\n",
       "</g>\n",
       "<!-- 3 -->\n",
       "<g id=\"node4\" class=\"node\">\n",
       "<title>3</title>\n",
       "<ellipse fill=\"none\" stroke=\"black\" cx=\"633.69\" cy=\"-192\" rx=\"131.08\" ry=\"18\"/>\n",
       "<text text-anchor=\"middle\" x=\"633.69\" y=\"-188.3\" font-family=\"Times,serif\" font-size=\"14.00\">HomePlanet&lt;0.83260715</text>\n",
       "</g>\n",
       "<!-- 1&#45;&gt;3 -->\n",
       "<g id=\"edge3\" class=\"edge\">\n",
       "<title>1&#45;&gt;3</title>\n",
       "<path fill=\"none\" stroke=\"#0000ff\" d=\"M1211.38,-269.97C1101.72,-255.35 868.61,-224.3 734.44,-206.42\"/>\n",
       "<polygon fill=\"#0000ff\" stroke=\"#0000ff\" points=\"734.54,-202.9 724.16,-205.05 733.61,-209.84 734.54,-202.9\"/>\n",
       "<text text-anchor=\"middle\" x=\"1036.19\" y=\"-231.8\" font-family=\"Times,serif\" font-size=\"14.00\">yes, missing</text>\n",
       "</g>\n",
       "<!-- 4 -->\n",
       "<g id=\"node5\" class=\"node\">\n",
       "<title>4</title>\n",
       "<ellipse fill=\"none\" stroke=\"black\" cx=\"1271.69\" cy=\"-192\" rx=\"99.38\" ry=\"18\"/>\n",
       "<text text-anchor=\"middle\" x=\"1271.69\" y=\"-188.3\" font-family=\"Times,serif\" font-size=\"14.00\">FoodCourt&lt;2507.5</text>\n",
       "</g>\n",
       "<!-- 1&#45;&gt;4 -->\n",
       "<g id=\"edge4\" class=\"edge\">\n",
       "<title>1&#45;&gt;4</title>\n",
       "<path fill=\"none\" stroke=\"#ff0000\" d=\"M1271.69,-260.8C1271.69,-249.16 1271.69,-233.55 1271.69,-220.24\"/>\n",
       "<polygon fill=\"#ff0000\" stroke=\"#ff0000\" points=\"1275.19,-220.18 1271.69,-210.18 1268.19,-220.18 1275.19,-220.18\"/>\n",
       "<text text-anchor=\"middle\" x=\"1280.69\" y=\"-231.8\" font-family=\"Times,serif\" font-size=\"14.00\">no</text>\n",
       "</g>\n",
       "<!-- 5 -->\n",
       "<g id=\"node18\" class=\"node\">\n",
       "<title>5</title>\n",
       "<ellipse fill=\"none\" stroke=\"black\" cx=\"2169.69\" cy=\"-192\" rx=\"62.29\" ry=\"18\"/>\n",
       "<text text-anchor=\"middle\" x=\"2169.69\" y=\"-188.3\" font-family=\"Times,serif\" font-size=\"14.00\">Spa&lt;422.5</text>\n",
       "</g>\n",
       "<!-- 2&#45;&gt;5 -->\n",
       "<g id=\"edge17\" class=\"edge\">\n",
       "<title>2&#45;&gt;5</title>\n",
       "<path fill=\"none\" stroke=\"#0000ff\" d=\"M2169.69,-260.8C2169.69,-249.16 2169.69,-233.55 2169.69,-220.24\"/>\n",
       "<polygon fill=\"#0000ff\" stroke=\"#0000ff\" points=\"2173.19,-220.18 2169.69,-210.18 2166.19,-220.18 2173.19,-220.18\"/>\n",
       "<text text-anchor=\"middle\" x=\"2214.19\" y=\"-231.8\" font-family=\"Times,serif\" font-size=\"14.00\">yes, missing</text>\n",
       "</g>\n",
       "<!-- 6 -->\n",
       "<g id=\"node19\" class=\"node\">\n",
       "<title>6</title>\n",
       "<ellipse fill=\"none\" stroke=\"black\" cx=\"2813.69\" cy=\"-192\" rx=\"93.68\" ry=\"18\"/>\n",
       "<text text-anchor=\"middle\" x=\"2813.69\" y=\"-188.3\" font-family=\"Times,serif\" font-size=\"14.00\">FoodCourt&lt;994.5</text>\n",
       "</g>\n",
       "<!-- 2&#45;&gt;6 -->\n",
       "<g id=\"edge18\" class=\"edge\">\n",
       "<title>2&#45;&gt;6</title>\n",
       "<path fill=\"none\" stroke=\"#ff0000\" d=\"M2250.6,-267.32C2372.84,-251.19 2603.52,-220.74 2728.33,-204.27\"/>\n",
       "<polygon fill=\"#ff0000\" stroke=\"#ff0000\" points=\"2729.14,-207.69 2738.6,-202.91 2728.23,-200.75 2729.14,-207.69\"/>\n",
       "<text text-anchor=\"middle\" x=\"2539.69\" y=\"-231.8\" font-family=\"Times,serif\" font-size=\"14.00\">no</text>\n",
       "</g>\n",
       "<!-- 7 -->\n",
       "<g id=\"node6\" class=\"node\">\n",
       "<title>7</title>\n",
       "<ellipse fill=\"none\" stroke=\"black\" cx=\"317.69\" cy=\"-105\" rx=\"53.89\" ry=\"18\"/>\n",
       "<text text-anchor=\"middle\" x=\"317.69\" y=\"-101.3\" font-family=\"Times,serif\" font-size=\"14.00\">Spa&lt;437</text>\n",
       "</g>\n",
       "<!-- 3&#45;&gt;7 -->\n",
       "<g id=\"edge5\" class=\"edge\">\n",
       "<title>3&#45;&gt;7</title>\n",
       "<path fill=\"none\" stroke=\"#0000ff\" d=\"M576.83,-175.71C517.49,-159.74 425.32,-134.95 368.38,-119.64\"/>\n",
       "<polygon fill=\"#0000ff\" stroke=\"#0000ff\" points=\"369.09,-116.2 358.52,-116.98 367.27,-122.96 369.09,-116.2\"/>\n",
       "<text text-anchor=\"middle\" x=\"539.19\" y=\"-144.8\" font-family=\"Times,serif\" font-size=\"14.00\">yes, missing</text>\n",
       "</g>\n",
       "<!-- 8 -->\n",
       "<g id=\"node7\" class=\"node\">\n",
       "<title>8</title>\n",
       "<ellipse fill=\"none\" stroke=\"black\" cx=\"633.69\" cy=\"-105\" rx=\"59.59\" ry=\"18\"/>\n",
       "<text text-anchor=\"middle\" x=\"633.69\" y=\"-101.3\" font-family=\"Times,serif\" font-size=\"14.00\">Spa&lt;1881</text>\n",
       "</g>\n",
       "<!-- 3&#45;&gt;8 -->\n",
       "<g id=\"edge6\" class=\"edge\">\n",
       "<title>3&#45;&gt;8</title>\n",
       "<path fill=\"none\" stroke=\"#ff0000\" d=\"M633.69,-173.8C633.69,-162.16 633.69,-146.55 633.69,-133.24\"/>\n",
       "<polygon fill=\"#ff0000\" stroke=\"#ff0000\" points=\"637.19,-133.18 633.69,-123.18 630.19,-133.18 637.19,-133.18\"/>\n",
       "<text text-anchor=\"middle\" x=\"642.69\" y=\"-144.8\" font-family=\"Times,serif\" font-size=\"14.00\">no</text>\n",
       "</g>\n",
       "<!-- 9 -->\n",
       "<g id=\"node12\" class=\"node\">\n",
       "<title>9</title>\n",
       "<ellipse fill=\"none\" stroke=\"black\" cx=\"1189.69\" cy=\"-105\" rx=\"81.49\" ry=\"18\"/>\n",
       "<text text-anchor=\"middle\" x=\"1189.69\" y=\"-101.3\" font-family=\"Times,serif\" font-size=\"14.00\">VRDeck&lt;506.5</text>\n",
       "</g>\n",
       "<!-- 4&#45;&gt;9 -->\n",
       "<g id=\"edge11\" class=\"edge\">\n",
       "<title>4&#45;&gt;9</title>\n",
       "<path fill=\"none\" stroke=\"#0000ff\" d=\"M1255.49,-174.21C1243.36,-161.63 1226.59,-144.25 1213.02,-130.18\"/>\n",
       "<polygon fill=\"#0000ff\" stroke=\"#0000ff\" points=\"1215.32,-127.53 1205.86,-122.76 1210.28,-132.39 1215.32,-127.53\"/>\n",
       "<text text-anchor=\"middle\" x=\"1280.19\" y=\"-144.8\" font-family=\"Times,serif\" font-size=\"14.00\">yes, missing</text>\n",
       "</g>\n",
       "<!-- 10 -->\n",
       "<g id=\"node13\" class=\"node\">\n",
       "<title>10</title>\n",
       "<ellipse fill=\"none\" stroke=\"black\" cx=\"1404.69\" cy=\"-105\" rx=\"68.49\" ry=\"18\"/>\n",
       "<text text-anchor=\"middle\" x=\"1404.69\" y=\"-101.3\" font-family=\"Times,serif\" font-size=\"14.00\">Spa&lt;1466.5</text>\n",
       "</g>\n",
       "<!-- 4&#45;&gt;10 -->\n",
       "<g id=\"edge12\" class=\"edge\">\n",
       "<title>4&#45;&gt;10</title>\n",
       "<path fill=\"none\" stroke=\"#ff0000\" d=\"M1298.76,-174.61C1308.27,-168.8 1318.99,-162.17 1328.69,-156 1343.12,-146.82 1358.94,-136.47 1372.4,-127.57\"/>\n",
       "<polygon fill=\"#ff0000\" stroke=\"#ff0000\" points=\"1374.46,-130.4 1380.85,-121.96 1370.59,-124.57 1374.46,-130.4\"/>\n",
       "<text text-anchor=\"middle\" x=\"1361.69\" y=\"-144.8\" font-family=\"Times,serif\" font-size=\"14.00\">no</text>\n",
       "</g>\n",
       "<!-- 15 -->\n",
       "<g id=\"node8\" class=\"node\">\n",
       "<title>15</title>\n",
       "<ellipse fill=\"none\" stroke=\"black\" cx=\"102.69\" cy=\"-18\" rx=\"102.88\" ry=\"18\"/>\n",
       "<text text-anchor=\"middle\" x=\"102.69\" y=\"-14.3\" font-family=\"Times,serif\" font-size=\"14.00\">leaf=0.0548328273</text>\n",
       "</g>\n",
       "<!-- 7&#45;&gt;15 -->\n",
       "<g id=\"edge7\" class=\"edge\">\n",
       "<title>7&#45;&gt;15</title>\n",
       "<path fill=\"none\" stroke=\"#0000ff\" d=\"M282.71,-91.11C265.24,-84.6 243.8,-76.51 224.69,-69 199.9,-59.26 172.43,-48.04 149.85,-38.7\"/>\n",
       "<polygon fill=\"#0000ff\" stroke=\"#0000ff\" points=\"151.07,-35.42 140.5,-34.82 148.39,-41.89 151.07,-35.42\"/>\n",
       "<text text-anchor=\"middle\" x=\"269.19\" y=\"-57.8\" font-family=\"Times,serif\" font-size=\"14.00\">yes, missing</text>\n",
       "</g>\n",
       "<!-- 16 -->\n",
       "<g id=\"node9\" class=\"node\">\n",
       "<title>16</title>\n",
       "<ellipse fill=\"none\" stroke=\"black\" cx=\"317.69\" cy=\"-18\" rx=\"94.48\" ry=\"18\"/>\n",
       "<text text-anchor=\"middle\" x=\"317.69\" y=\"-14.3\" font-family=\"Times,serif\" font-size=\"14.00\">leaf=&#45;0.14495413</text>\n",
       "</g>\n",
       "<!-- 7&#45;&gt;16 -->\n",
       "<g id=\"edge8\" class=\"edge\">\n",
       "<title>7&#45;&gt;16</title>\n",
       "<path fill=\"none\" stroke=\"#ff0000\" d=\"M317.69,-86.8C317.69,-75.16 317.69,-59.55 317.69,-46.24\"/>\n",
       "<polygon fill=\"#ff0000\" stroke=\"#ff0000\" points=\"321.19,-46.18 317.69,-36.18 314.19,-46.18 321.19,-46.18\"/>\n",
       "<text text-anchor=\"middle\" x=\"326.69\" y=\"-57.8\" font-family=\"Times,serif\" font-size=\"14.00\">no</text>\n",
       "</g>\n",
       "<!-- 17 -->\n",
       "<g id=\"node10\" class=\"node\">\n",
       "<title>17</title>\n",
       "<ellipse fill=\"none\" stroke=\"black\" cx=\"526.69\" cy=\"-18\" rx=\"96.68\" ry=\"18\"/>\n",
       "<text text-anchor=\"middle\" x=\"526.69\" y=\"-14.3\" font-family=\"Times,serif\" font-size=\"14.00\">leaf=0.172829136</text>\n",
       "</g>\n",
       "<!-- 8&#45;&gt;17 -->\n",
       "<g id=\"edge9\" class=\"edge\">\n",
       "<title>8&#45;&gt;17</title>\n",
       "<path fill=\"none\" stroke=\"#0000ff\" d=\"M613.57,-88.01C597.29,-75.08 574.16,-56.71 555.85,-42.17\"/>\n",
       "<polygon fill=\"#0000ff\" stroke=\"#0000ff\" points=\"557.83,-39.27 547.82,-35.79 553.48,-44.75 557.83,-39.27\"/>\n",
       "<text text-anchor=\"middle\" x=\"631.19\" y=\"-57.8\" font-family=\"Times,serif\" font-size=\"14.00\">yes, missing</text>\n",
       "</g>\n",
       "<!-- 18 -->\n",
       "<g id=\"node11\" class=\"node\">\n",
       "<title>18</title>\n",
       "<ellipse fill=\"none\" stroke=\"black\" cx=\"741.69\" cy=\"-18\" rx=\"100.18\" ry=\"18\"/>\n",
       "<text text-anchor=\"middle\" x=\"741.69\" y=\"-14.3\" font-family=\"Times,serif\" font-size=\"14.00\">leaf=&#45;0.105882362</text>\n",
       "</g>\n",
       "<!-- 8&#45;&gt;18 -->\n",
       "<g id=\"edge10\" class=\"edge\">\n",
       "<title>8&#45;&gt;18</title>\n",
       "<path fill=\"none\" stroke=\"#ff0000\" d=\"M654.85,-88.09C662.69,-82.15 671.63,-75.31 679.69,-69 690.69,-60.39 702.65,-50.79 713.12,-42.32\"/>\n",
       "<polygon fill=\"#ff0000\" stroke=\"#ff0000\" points=\"715.58,-44.83 721.14,-35.81 711.17,-39.39 715.58,-44.83\"/>\n",
       "<text text-anchor=\"middle\" x=\"707.69\" y=\"-57.8\" font-family=\"Times,serif\" font-size=\"14.00\">no</text>\n",
       "</g>\n",
       "<!-- 19 -->\n",
       "<g id=\"node14\" class=\"node\">\n",
       "<title>19</title>\n",
       "<ellipse fill=\"none\" stroke=\"black\" cx=\"965.69\" cy=\"-18\" rx=\"105.88\" ry=\"18\"/>\n",
       "<text text-anchor=\"middle\" x=\"965.69\" y=\"-14.3\" font-family=\"Times,serif\" font-size=\"14.00\">leaf=&#45;0.0362760834</text>\n",
       "</g>\n",
       "<!-- 9&#45;&gt;19 -->\n",
       "<g id=\"edge13\" class=\"edge\">\n",
       "<title>9&#45;&gt;19</title>\n",
       "<path fill=\"none\" stroke=\"#0000ff\" d=\"M1150.31,-89.22C1133.74,-83 1114.27,-75.66 1096.69,-69 1070.06,-58.91 1040.42,-47.6 1016.08,-38.29\"/>\n",
       "<polygon fill=\"#0000ff\" stroke=\"#0000ff\" points=\"1017.27,-35 1006.68,-34.7 1014.77,-41.54 1017.27,-35\"/>\n",
       "<text text-anchor=\"middle\" x=\"1141.19\" y=\"-57.8\" font-family=\"Times,serif\" font-size=\"14.00\">yes, missing</text>\n",
       "</g>\n",
       "<!-- 20 -->\n",
       "<g id=\"node15\" class=\"node\">\n",
       "<title>20</title>\n",
       "<ellipse fill=\"none\" stroke=\"black\" cx=\"1189.69\" cy=\"-18\" rx=\"100.18\" ry=\"18\"/>\n",
       "<text text-anchor=\"middle\" x=\"1189.69\" y=\"-14.3\" font-family=\"Times,serif\" font-size=\"14.00\">leaf=&#45;0.142334089</text>\n",
       "</g>\n",
       "<!-- 9&#45;&gt;20 -->\n",
       "<g id=\"edge14\" class=\"edge\">\n",
       "<title>9&#45;&gt;20</title>\n",
       "<path fill=\"none\" stroke=\"#ff0000\" d=\"M1189.69,-86.8C1189.69,-75.16 1189.69,-59.55 1189.69,-46.24\"/>\n",
       "<polygon fill=\"#ff0000\" stroke=\"#ff0000\" points=\"1193.19,-46.18 1189.69,-36.18 1186.19,-46.18 1193.19,-46.18\"/>\n",
       "<text text-anchor=\"middle\" x=\"1198.69\" y=\"-57.8\" font-family=\"Times,serif\" font-size=\"14.00\">no</text>\n",
       "</g>\n",
       "<!-- 21 -->\n",
       "<g id=\"node16\" class=\"node\">\n",
       "<title>21</title>\n",
       "<ellipse fill=\"none\" stroke=\"black\" cx=\"1404.69\" cy=\"-18\" rx=\"96.68\" ry=\"18\"/>\n",
       "<text text-anchor=\"middle\" x=\"1404.69\" y=\"-14.3\" font-family=\"Times,serif\" font-size=\"14.00\">leaf=0.112643681</text>\n",
       "</g>\n",
       "<!-- 10&#45;&gt;21 -->\n",
       "<g id=\"edge15\" class=\"edge\">\n",
       "<title>10&#45;&gt;21</title>\n",
       "<path fill=\"none\" stroke=\"#0000ff\" d=\"M1404.69,-86.8C1404.69,-75.16 1404.69,-59.55 1404.69,-46.24\"/>\n",
       "<polygon fill=\"#0000ff\" stroke=\"#0000ff\" points=\"1408.19,-46.18 1404.69,-36.18 1401.19,-46.18 1408.19,-46.18\"/>\n",
       "<text text-anchor=\"middle\" x=\"1449.19\" y=\"-57.8\" font-family=\"Times,serif\" font-size=\"14.00\">yes, missing</text>\n",
       "</g>\n",
       "<!-- 22 -->\n",
       "<g id=\"node17\" class=\"node\">\n",
       "<title>22</title>\n",
       "<ellipse fill=\"none\" stroke=\"black\" cx=\"1619.69\" cy=\"-18\" rx=\"100.18\" ry=\"18\"/>\n",
       "<text text-anchor=\"middle\" x=\"1619.69\" y=\"-14.3\" font-family=\"Times,serif\" font-size=\"14.00\">leaf=&#45;0.120000005</text>\n",
       "</g>\n",
       "<!-- 10&#45;&gt;22 -->\n",
       "<g id=\"edge16\" class=\"edge\">\n",
       "<title>10&#45;&gt;22</title>\n",
       "<path fill=\"none\" stroke=\"#ff0000\" d=\"M1442.79,-89.94C1459.66,-83.65 1479.71,-76.07 1497.69,-69 1522.58,-59.22 1550.15,-47.95 1572.78,-38.6\"/>\n",
       "<polygon fill=\"#ff0000\" stroke=\"#ff0000\" points=\"1574.26,-41.77 1582.16,-34.71 1571.58,-35.31 1574.26,-41.77\"/>\n",
       "<text text-anchor=\"middle\" x=\"1544.69\" y=\"-57.8\" font-family=\"Times,serif\" font-size=\"14.00\">no</text>\n",
       "</g>\n",
       "<!-- 11 -->\n",
       "<g id=\"node20\" class=\"node\">\n",
       "<title>11</title>\n",
       "<ellipse fill=\"none\" stroke=\"black\" cx=\"2061.69\" cy=\"-105\" rx=\"66.09\" ry=\"18\"/>\n",
       "<text text-anchor=\"middle\" x=\"2061.69\" y=\"-101.3\" font-family=\"Times,serif\" font-size=\"14.00\">VRDeck&lt;87</text>\n",
       "</g>\n",
       "<!-- 5&#45;&gt;11 -->\n",
       "<g id=\"edge19\" class=\"edge\">\n",
       "<title>5&#45;&gt;11</title>\n",
       "<path fill=\"none\" stroke=\"#0000ff\" d=\"M2143.8,-175.49C2134.68,-169.7 2124.51,-162.86 2115.69,-156 2105.29,-147.91 2094.51,-138.23 2085.34,-129.54\"/>\n",
       "<polygon fill=\"#0000ff\" stroke=\"#0000ff\" points=\"2087.69,-126.95 2078.06,-122.54 2082.84,-132 2087.69,-126.95\"/>\n",
       "<text text-anchor=\"middle\" x=\"2160.19\" y=\"-144.8\" font-family=\"Times,serif\" font-size=\"14.00\">yes, missing</text>\n",
       "</g>\n",
       "<!-- 12 -->\n",
       "<g id=\"node21\" class=\"node\">\n",
       "<title>12</title>\n",
       "<ellipse fill=\"none\" stroke=\"black\" cx=\"2279.69\" cy=\"-105\" rx=\"99.38\" ry=\"18\"/>\n",
       "<text text-anchor=\"middle\" x=\"2279.69\" y=\"-101.3\" font-family=\"Times,serif\" font-size=\"14.00\">FoodCourt&lt;2242.5</text>\n",
       "</g>\n",
       "<!-- 5&#45;&gt;12 -->\n",
       "<g id=\"edge20\" class=\"edge\">\n",
       "<title>5&#45;&gt;12</title>\n",
       "<path fill=\"none\" stroke=\"#ff0000\" d=\"M2190.38,-175.01C2207.19,-162.03 2231.11,-143.54 2249.97,-128.97\"/>\n",
       "<polygon fill=\"#ff0000\" stroke=\"#ff0000\" points=\"2252.19,-131.67 2257.96,-122.79 2247.91,-126.13 2252.19,-131.67\"/>\n",
       "<text text-anchor=\"middle\" x=\"2240.69\" y=\"-144.8\" font-family=\"Times,serif\" font-size=\"14.00\">no</text>\n",
       "</g>\n",
       "<!-- 13 -->\n",
       "<g id=\"node26\" class=\"node\">\n",
       "<title>13</title>\n",
       "<ellipse fill=\"none\" stroke=\"black\" cx=\"2813.69\" cy=\"-105\" rx=\"115.08\" ry=\"18\"/>\n",
       "<text text-anchor=\"middle\" x=\"2813.69\" y=\"-101.3\" font-family=\"Times,serif\" font-size=\"14.00\">ShoppingMall&lt;1298.5</text>\n",
       "</g>\n",
       "<!-- 6&#45;&gt;13 -->\n",
       "<g id=\"edge25\" class=\"edge\">\n",
       "<title>6&#45;&gt;13</title>\n",
       "<path fill=\"none\" stroke=\"#0000ff\" d=\"M2813.69,-173.8C2813.69,-162.16 2813.69,-146.55 2813.69,-133.24\"/>\n",
       "<polygon fill=\"#0000ff\" stroke=\"#0000ff\" points=\"2817.19,-133.18 2813.69,-123.18 2810.19,-133.18 2817.19,-133.18\"/>\n",
       "<text text-anchor=\"middle\" x=\"2858.19\" y=\"-144.8\" font-family=\"Times,serif\" font-size=\"14.00\">yes, missing</text>\n",
       "</g>\n",
       "<!-- 14 -->\n",
       "<g id=\"node27\" class=\"node\">\n",
       "<title>14</title>\n",
       "<ellipse fill=\"none\" stroke=\"black\" cx=\"3183.69\" cy=\"-105\" rx=\"53.89\" ry=\"18\"/>\n",
       "<text text-anchor=\"middle\" x=\"3183.69\" y=\"-101.3\" font-family=\"Times,serif\" font-size=\"14.00\">Spa&lt;231</text>\n",
       "</g>\n",
       "<!-- 6&#45;&gt;14 -->\n",
       "<g id=\"edge26\" class=\"edge\">\n",
       "<title>6&#45;&gt;14</title>\n",
       "<path fill=\"none\" stroke=\"#ff0000\" d=\"M2871.5,-177.72C2942.6,-161.39 3062.27,-133.89 3130.95,-118.12\"/>\n",
       "<polygon fill=\"#ff0000\" stroke=\"#ff0000\" points=\"3131.74,-121.53 3140.7,-115.88 3130.17,-114.7 3131.74,-121.53\"/>\n",
       "<text text-anchor=\"middle\" x=\"3030.69\" y=\"-144.8\" font-family=\"Times,serif\" font-size=\"14.00\">no</text>\n",
       "</g>\n",
       "<!-- 23 -->\n",
       "<g id=\"node22\" class=\"node\">\n",
       "<title>23</title>\n",
       "<ellipse fill=\"none\" stroke=\"black\" cx=\"1840.69\" cy=\"-18\" rx=\"102.88\" ry=\"18\"/>\n",
       "<text text-anchor=\"middle\" x=\"1840.69\" y=\"-14.3\" font-family=\"Times,serif\" font-size=\"14.00\">leaf=0.0323001631</text>\n",
       "</g>\n",
       "<!-- 11&#45;&gt;23 -->\n",
       "<g id=\"edge21\" class=\"edge\">\n",
       "<title>11&#45;&gt;23</title>\n",
       "<path fill=\"none\" stroke=\"#0000ff\" d=\"M2024.09,-89.97C2007.15,-83.62 1986.89,-75.98 1968.69,-69 1942.65,-59.01 1913.7,-47.72 1889.93,-38.4\"/>\n",
       "<polygon fill=\"#0000ff\" stroke=\"#0000ff\" points=\"1891.01,-35.06 1880.42,-34.67 1888.45,-41.58 1891.01,-35.06\"/>\n",
       "<text text-anchor=\"middle\" x=\"2013.19\" y=\"-57.8\" font-family=\"Times,serif\" font-size=\"14.00\">yes, missing</text>\n",
       "</g>\n",
       "<!-- 24 -->\n",
       "<g id=\"node23\" class=\"node\">\n",
       "<title>24</title>\n",
       "<ellipse fill=\"none\" stroke=\"black\" cx=\"2061.69\" cy=\"-18\" rx=\"100.18\" ry=\"18\"/>\n",
       "<text text-anchor=\"middle\" x=\"2061.69\" y=\"-14.3\" font-family=\"Times,serif\" font-size=\"14.00\">leaf=&#45;0.097674422</text>\n",
       "</g>\n",
       "<!-- 11&#45;&gt;24 -->\n",
       "<g id=\"edge22\" class=\"edge\">\n",
       "<title>11&#45;&gt;24</title>\n",
       "<path fill=\"none\" stroke=\"#ff0000\" d=\"M2061.69,-86.8C2061.69,-75.16 2061.69,-59.55 2061.69,-46.24\"/>\n",
       "<polygon fill=\"#ff0000\" stroke=\"#ff0000\" points=\"2065.19,-46.18 2061.69,-36.18 2058.19,-46.18 2065.19,-46.18\"/>\n",
       "<text text-anchor=\"middle\" x=\"2070.69\" y=\"-57.8\" font-family=\"Times,serif\" font-size=\"14.00\">no</text>\n",
       "</g>\n",
       "<!-- 25 -->\n",
       "<g id=\"node24\" class=\"node\">\n",
       "<title>25</title>\n",
       "<ellipse fill=\"none\" stroke=\"black\" cx=\"2279.69\" cy=\"-18\" rx=\"100.18\" ry=\"18\"/>\n",
       "<text text-anchor=\"middle\" x=\"2279.69\" y=\"-14.3\" font-family=\"Times,serif\" font-size=\"14.00\">leaf=&#45;0.154216871</text>\n",
       "</g>\n",
       "<!-- 12&#45;&gt;25 -->\n",
       "<g id=\"edge23\" class=\"edge\">\n",
       "<title>12&#45;&gt;25</title>\n",
       "<path fill=\"none\" stroke=\"#0000ff\" d=\"M2279.69,-86.8C2279.69,-75.16 2279.69,-59.55 2279.69,-46.24\"/>\n",
       "<polygon fill=\"#0000ff\" stroke=\"#0000ff\" points=\"2283.19,-46.18 2279.69,-36.18 2276.19,-46.18 2283.19,-46.18\"/>\n",
       "<text text-anchor=\"middle\" x=\"2324.19\" y=\"-57.8\" font-family=\"Times,serif\" font-size=\"14.00\">yes, missing</text>\n",
       "</g>\n",
       "<!-- 26 -->\n",
       "<g id=\"node25\" class=\"node\">\n",
       "<title>26</title>\n",
       "<ellipse fill=\"none\" stroke=\"black\" cx=\"2503.69\" cy=\"-18\" rx=\"105.88\" ry=\"18\"/>\n",
       "<text text-anchor=\"middle\" x=\"2503.69\" y=\"-14.3\" font-family=\"Times,serif\" font-size=\"14.00\">leaf=&#45;0.0583333336</text>\n",
       "</g>\n",
       "<!-- 12&#45;&gt;26 -->\n",
       "<g id=\"edge24\" class=\"edge\">\n",
       "<title>12&#45;&gt;26</title>\n",
       "<path fill=\"none\" stroke=\"#ff0000\" d=\"M2320.91,-88.53C2337.06,-82.46 2355.75,-75.42 2372.69,-69 2399.32,-58.91 2428.96,-47.6 2453.31,-38.29\"/>\n",
       "<polygon fill=\"#ff0000\" stroke=\"#ff0000\" points=\"2454.61,-41.54 2462.7,-34.7 2452.11,-35 2454.61,-41.54\"/>\n",
       "<text text-anchor=\"middle\" x=\"2418.69\" y=\"-57.8\" font-family=\"Times,serif\" font-size=\"14.00\">no</text>\n",
       "</g>\n",
       "<!-- 27 -->\n",
       "<g id=\"node28\" class=\"node\">\n",
       "<title>27</title>\n",
       "<ellipse fill=\"none\" stroke=\"black\" cx=\"2727.69\" cy=\"-18\" rx=\"100.18\" ry=\"18\"/>\n",
       "<text text-anchor=\"middle\" x=\"2727.69\" y=\"-14.3\" font-family=\"Times,serif\" font-size=\"14.00\">leaf=&#45;0.149069533</text>\n",
       "</g>\n",
       "<!-- 13&#45;&gt;27 -->\n",
       "<g id=\"edge27\" class=\"edge\">\n",
       "<title>13&#45;&gt;27</title>\n",
       "<path fill=\"none\" stroke=\"#0000ff\" d=\"M2796.29,-86.8C2783.62,-74.27 2766.28,-57.14 2752.21,-43.23\"/>\n",
       "<polygon fill=\"#0000ff\" stroke=\"#0000ff\" points=\"2754.35,-40.43 2744.77,-35.89 2749.43,-45.4 2754.35,-40.43\"/>\n",
       "<text text-anchor=\"middle\" x=\"2821.19\" y=\"-57.8\" font-family=\"Times,serif\" font-size=\"14.00\">yes, missing</text>\n",
       "</g>\n",
       "<!-- 28 -->\n",
       "<g id=\"node29\" class=\"node\">\n",
       "<title>28</title>\n",
       "<ellipse fill=\"none\" stroke=\"black\" cx=\"2951.69\" cy=\"-18\" rx=\"105.88\" ry=\"18\"/>\n",
       "<text text-anchor=\"middle\" x=\"2951.69\" y=\"-14.3\" font-family=\"Times,serif\" font-size=\"14.00\">leaf=&#45;0.0413793139</text>\n",
       "</g>\n",
       "<!-- 13&#45;&gt;28 -->\n",
       "<g id=\"edge28\" class=\"edge\">\n",
       "<title>13&#45;&gt;28</title>\n",
       "<path fill=\"none\" stroke=\"#ff0000\" d=\"M2840.63,-87.41C2862.19,-74.13 2892.61,-55.39 2916.17,-40.88\"/>\n",
       "<polygon fill=\"#ff0000\" stroke=\"#ff0000\" points=\"2918.14,-43.77 2924.82,-35.55 2914.47,-37.81 2918.14,-43.77\"/>\n",
       "<text text-anchor=\"middle\" x=\"2900.69\" y=\"-57.8\" font-family=\"Times,serif\" font-size=\"14.00\">no</text>\n",
       "</g>\n",
       "<!-- 29 -->\n",
       "<g id=\"node30\" class=\"node\">\n",
       "<title>29</title>\n",
       "<ellipse fill=\"none\" stroke=\"black\" cx=\"3183.69\" cy=\"-18\" rx=\"108.58\" ry=\"18\"/>\n",
       "<text text-anchor=\"middle\" x=\"3183.69\" y=\"-14.3\" font-family=\"Times,serif\" font-size=\"14.00\">leaf=0.00425531901</text>\n",
       "</g>\n",
       "<!-- 14&#45;&gt;29 -->\n",
       "<g id=\"edge29\" class=\"edge\">\n",
       "<title>14&#45;&gt;29</title>\n",
       "<path fill=\"none\" stroke=\"#0000ff\" d=\"M3183.69,-86.8C3183.69,-75.16 3183.69,-59.55 3183.69,-46.24\"/>\n",
       "<polygon fill=\"#0000ff\" stroke=\"#0000ff\" points=\"3187.19,-46.18 3183.69,-36.18 3180.19,-46.18 3187.19,-46.18\"/>\n",
       "<text text-anchor=\"middle\" x=\"3228.19\" y=\"-57.8\" font-family=\"Times,serif\" font-size=\"14.00\">yes, missing</text>\n",
       "</g>\n",
       "<!-- 30 -->\n",
       "<g id=\"node31\" class=\"node\">\n",
       "<title>30</title>\n",
       "<ellipse fill=\"none\" stroke=\"black\" cx=\"3415.69\" cy=\"-18\" rx=\"105.88\" ry=\"18\"/>\n",
       "<text text-anchor=\"middle\" x=\"3415.69\" y=\"-14.3\" font-family=\"Times,serif\" font-size=\"14.00\">leaf=&#45;0.0896551758</text>\n",
       "</g>\n",
       "<!-- 14&#45;&gt;30 -->\n",
       "<g id=\"edge30\" class=\"edge\">\n",
       "<title>14&#45;&gt;30</title>\n",
       "<path fill=\"none\" stroke=\"#ff0000\" d=\"M3218.67,-91.18C3257.24,-77.05 3319.66,-54.18 3363.9,-37.98\"/>\n",
       "<polygon fill=\"#ff0000\" stroke=\"#ff0000\" points=\"3365.14,-41.25 3373.33,-34.52 3362.73,-34.68 3365.14,-41.25\"/>\n",
       "<text text-anchor=\"middle\" x=\"3321.69\" y=\"-57.8\" font-family=\"Times,serif\" font-size=\"14.00\">no</text>\n",
       "</g>\n",
       "</g>\n",
       "</svg>\n"
      ],
      "text/plain": [
       "<graphviz.files.Source at 0x7f0fadcf5290>"
      ]
     },
     "execution_count": 27,
     "metadata": {},
     "output_type": "execute_result"
    }
   ],
   "source": [
    "import graphviz\n",
    "xgb.to_graphviz(xgbFinal)"
   ]
  },
  {
   "cell_type": "markdown",
   "id": "30564db1",
   "metadata": {
    "papermill": {
     "duration": 0.082194,
     "end_time": "2022-10-14T19:10:10.169671",
     "exception": false,
     "start_time": "2022-10-14T19:10:10.087477",
     "status": "completed"
    },
    "tags": []
   },
   "source": [
    "# Feature Importance"
   ]
  },
  {
   "cell_type": "code",
   "execution_count": 28,
   "id": "4b1b5758",
   "metadata": {
    "execution": {
     "iopub.execute_input": "2022-10-14T19:10:10.340214Z",
     "iopub.status.busy": "2022-10-14T19:10:10.339186Z",
     "iopub.status.idle": "2022-10-14T19:10:10.586719Z",
     "shell.execute_reply": "2022-10-14T19:10:10.585902Z"
    },
    "papermill": {
     "duration": 0.337076,
     "end_time": "2022-10-14T19:10:10.588862",
     "exception": false,
     "start_time": "2022-10-14T19:10:10.251786",
     "status": "completed"
    },
    "tags": []
   },
   "outputs": [
    {
     "data": {
      "image/png": "[encoded data removed]",
      "text/plain": [
       "<Figure size 432x288 with 1 Axes>"
      ]
     },
     "metadata": {
      "needs_background": "light"
     },
     "output_type": "display_data"
    },
    {
     "data": {
      "text/plain": [
       "<Figure size 1440x1440 with 0 Axes>"
      ]
     },
     "metadata": {},
     "output_type": "display_data"
    }
   ],
   "source": [
    "xgb.plot_importance(xgbFinal, title=\"XGBoost Feature Importance\")\n",
    "plt.figure(figsize=(20, 20))\n",
    "plt.show()"
   ]
  },
  {
   "cell_type": "code",
   "execution_count": 29,
   "id": "7bbccad0",
   "metadata": {
    "execution": {
     "iopub.execute_input": "2022-10-14T19:10:10.759906Z",
     "iopub.status.busy": "2022-10-14T19:10:10.759611Z",
     "iopub.status.idle": "2022-10-14T19:10:10.770335Z",
     "shell.execute_reply": "2022-10-14T19:10:10.769277Z"
    },
    "papermill": {
     "duration": 0.099012,
     "end_time": "2022-10-14T19:10:10.772411",
     "exception": false,
     "start_time": "2022-10-14T19:10:10.673399",
     "status": "completed"
    },
    "tags": []
   },
   "outputs": [
    {
     "name": "stdout",
     "output_type": "stream",
     "text": [
      "Feature Importance:\n",
      "0.24835242   HomePlanet\n",
      "0.01970164   Age\n",
      "0.22525194   RoomService\n",
      "0.05498257   FoodCourt\n",
      "0.036485817   ShoppingMall\n",
      "0.11801855   Spa\n",
      "0.12293263   VRDeck\n",
      "0.07490657   deck\n",
      "0.04264669   num\n",
      "0.056721143   side\n"
     ]
    }
   ],
   "source": [
    "importance=xgbFinal.feature_importances_\n",
    "name=xgbFinal.feature_names_in_\n",
    "print(\"Feature Importance:\")\n",
    "for num in range(len(name)):\n",
    "    print(importance[num], \" \", name[num])"
   ]
  },
  {
   "attachments": {
    "0bb3aff7-a5f5-4d90-9c98-c84994f7b96c.png": {
     "image/png": "[encoded data removed]"
    },
    "0cf68b5a-92fc-409b-a8e0-043a0e0a7a0f.png": {
     "image/png": "[encoded data removed]"
    }
   },
   "cell_type": "markdown",
   "id": "139643c9",
   "metadata": {
    "papermill": {
     "duration": 0.084025,
     "end_time": "2022-10-14T19:10:10.940660",
     "exception": false,
     "start_time": "2022-10-14T19:10:10.856635",
     "status": "completed"
    },
    "tags": []
   },
   "source": [
    "# Gradient Boost\n",
    "AUC for gradient boost is:  0.7922\n",
    "The mean squared error (MSE) on test set: 0.2082\n",
    "\n",
    "![image.png](attachment:0cf68b5a-92fc-409b-a8e0-043a0e0a7a0f.png)\n",
    "![image.png](attachment:0bb3aff7-a5f5-4d90-9c98-c84994f7b96c.png)"
   ]
  },
  {
   "cell_type": "code",
   "execution_count": 30,
   "id": "c733ef78",
   "metadata": {
    "execution": {
     "iopub.execute_input": "2022-10-14T19:10:11.110725Z",
     "iopub.status.busy": "2022-10-14T19:10:11.110225Z",
     "iopub.status.idle": "2022-10-14T19:10:11.137595Z",
     "shell.execute_reply": "2022-10-14T19:10:11.136822Z"
    },
    "papermill": {
     "duration": 0.115219,
     "end_time": "2022-10-14T19:10:11.139855",
     "exception": false,
     "start_time": "2022-10-14T19:10:11.024636",
     "status": "completed"
    },
    "tags": []
   },
   "outputs": [],
   "source": [
    "from sklearn.inspection import permutation_importance\n",
    "from sklearn.ensemble import GradientBoostingClassifier,GradientBoostingRegressor\n",
    "\n",
    "def gbDepth():\n",
    "    depthList=[2, 3, 4, 5, 7, 9, 11, 13]\n",
    "    accList=[]\n",
    "    cvList=[]\n",
    "    \n",
    "    for d in depthList:\n",
    "        params = {\n",
    "         \"n_estimators\": 10, \"max_depth\": d, \n",
    "            \"min_samples_split\": 5, \"learning_rate\": 0.01,\n",
    "        }\n",
    "\n",
    "        #Fit and Predict:\n",
    "        gb = ensemble.GradientBoostingRegressor(**params)\n",
    "        gb.fit(X_train, y_train)\n",
    "        y_pred = gb.predict(X_test)\n",
    "        \n",
    "        gbR2 = r2_score(y_test, y_pred).round(4) \n",
    "        mse = mean_squared_error(y_test, gb.predict(X_test))\n",
    "        print(d, \" max_depth || GB reg r2: \", gbR2, \"|| MSE: {:.4f}\".format(mse)) \n",
    "        \n",
    "        gbScore = gb.score(X_test, y_test).round(4)  # train test \n",
    "        gbCV = cross_validate(gb, X, y, cv = 5, scoring= 'r2')\n",
    "        gbCV=gbCV['test_score'].mean().round(4)\n",
    "        \n",
    "        cvList.append(gbCV)\n",
    "        accList.append(gbScore)\n",
    "        \n",
    "    plt.plot(depthList,accList, label=\"train\")\n",
    "    plt.plot(depthList,cvList, label=\"test\")\n",
    "    plt.title('Graident Boost MaxDepth Cross Validate')\n",
    "    plt.xlabel('MaxDepth')\n",
    "    plt.ylabel('Accuracy')\n",
    "    plt.legend()\n",
    "    plt.show() \n",
    "\n",
    "def gbN():\n",
    "    nList=[2, 10, 30, 50, 70, 100, 150, 200, 300, 400, 500, 600, 800]\n",
    "    accList=[]\n",
    "    cvList=[]\n",
    "    for n in nList:\n",
    "        params = {\n",
    "         \"n_estimators\": n, \"max_depth\": 2, \n",
    "            \"min_samples_split\": 2, \"learning_rate\": 0.01,\n",
    "        }\n",
    "\n",
    "        #Fit and Predict:\n",
    "        gb = ensemble.GradientBoostingRegressor(**params)\n",
    "        gb.fit(X_train, y_train)\n",
    "        y_pred = gb.predict(X_test)\n",
    "        \n",
    "        gbR2 = r2_score(y_test, y_pred).round(4) \n",
    "        mse = mean_squared_error(y_test, gb.predict(X_test))\n",
    "        print(n, \"n_estimators || GB r2: \", gbR2, \"|| MSE: {:.4f}\".format(mse)) \n",
    "        \n",
    "        gbScore = gb.score(X_test, y_test).round(4)  # train test \n",
    "        gbCV = cross_validate(gb, X, y, cv = 4, scoring= 'r2')\n",
    "        gbCV=gbCV['test_score'].mean().round(4)\n",
    "        print(\"Forest Score: \", forestScore  ,\"||\" , forestCV, \"cross validate.\")\n",
    "        \n",
    "        accList.append(gbScore)\n",
    "        cvList.append(gbCV)\n",
    "    \n",
    "    plt.plot(nList,accList, label=\"train\")\n",
    "    plt.plot(nList,cvList, label=\"test\")\n",
    "    plt.title('Gradient Boost n_estimators Cross Validate')\n",
    "    plt.xlabel('n_esatimors')\n",
    "    plt.ylabel('Accuracy')\n",
    "    plt.legend()\n",
    "    plt.show() \n",
    "    \n",
    "def gbSplit():\n",
    "    sList=[2, 3, 5, 7]\n",
    "    \n",
    "    for s in sList:\n",
    "        params = {\n",
    "         \"n_estimators\": 500, \"max_depth\": 2,\n",
    "            \"min_samples_split\": s, \"learning_rate\": 0.01,\n",
    "        }\n",
    "\n",
    "        #Fit and Predict:\n",
    "        reg = ensemble.GradientBoostingRegressor(**params)\n",
    "        reg.fit(X_train, y_train)\n",
    "        y_pred = reg.predict(X_test)\n",
    "        gbr_r2 = r2_score(y_test, y_pred).round(4)\n",
    "        mse = mean_squared_error(y_test, reg.predict(X_test)).round(4)\n",
    "        print(s,\" min_samples_splits || R2 \", gbr_r2, \" || MSE {:.4f}\".format(mse))\n",
    "\n",
    "#Turn on or off functions here:\n",
    "#gbDepth()\n",
    "#gbN()\n",
    "#gbSplit()"
   ]
  },
  {
   "cell_type": "code",
   "execution_count": 31,
   "id": "2b9511fb",
   "metadata": {
    "execution": {
     "iopub.execute_input": "2022-10-14T19:10:11.310775Z",
     "iopub.status.busy": "2022-10-14T19:10:11.310274Z",
     "iopub.status.idle": "2022-10-14T19:10:20.306103Z",
     "shell.execute_reply": "2022-10-14T19:10:20.305144Z"
    },
    "papermill": {
     "duration": 9.084547,
     "end_time": "2022-10-14T19:10:20.308826",
     "exception": false,
     "start_time": "2022-10-14T19:10:11.224279",
     "status": "completed"
    },
    "tags": []
   },
   "outputs": [
    {
     "name": "stdout",
     "output_type": "stream",
     "text": [
      "Gradient boosting regression r2:  0.204\n",
      "AUC for gradient boost is:  0.8015\n",
      "The mean squared error (MSE) on test set: 0.1990\n"
     ]
    }
   ],
   "source": [
    "params = {\n",
    " \"n_estimators\": 600, \n",
    "    \"max_depth\": 5, \n",
    "    \"min_samples_split\": 7, \n",
    "    \"learning_rate\": 0.01,\n",
    "}\n",
    "\n",
    "#Fit and Predict:\n",
    "reg = ensemble.GradientBoostingClassifier(**params)\n",
    "reg.fit(X_train, y_train)\n",
    "y_pred = reg.predict(X_test)\n",
    "gbr_r2 = r2_score(y_test, y_pred).round(4) \n",
    "print(\"Gradient boosting regression r2: \", gbr_r2) \n",
    "\n",
    "#AUC of model\n",
    "auc = round( metrics.roc_auc_score(y_test, y_pred), 4 ) \n",
    "print(\"AUC for gradient boost is: \", auc)\n",
    "\n",
    "mse = mean_squared_error(y_test, reg.predict(X_test))\n",
    "print(\"The mean squared error (MSE) on test set: {:.4f}\".format(mse))"
   ]
  },
  {
   "cell_type": "markdown",
   "id": "94708f83",
   "metadata": {
    "papermill": {
     "duration": 0.085176,
     "end_time": "2022-10-14T19:10:20.483179",
     "exception": false,
     "start_time": "2022-10-14T19:10:20.398003",
     "status": "completed"
    },
    "tags": []
   },
   "source": [
    "# Feature Importance"
   ]
  },
  {
   "cell_type": "code",
   "execution_count": 32,
   "id": "6dbb5b7a",
   "metadata": {
    "execution": {
     "iopub.execute_input": "2022-10-14T19:10:20.655686Z",
     "iopub.status.busy": "2022-10-14T19:10:20.654921Z",
     "iopub.status.idle": "2022-10-14T19:10:24.312900Z",
     "shell.execute_reply": "2022-10-14T19:10:24.311847Z"
    },
    "papermill": {
     "duration": 3.747558,
     "end_time": "2022-10-14T19:10:24.315549",
     "exception": false,
     "start_time": "2022-10-14T19:10:20.567991",
     "status": "completed"
    },
    "tags": []
   },
   "outputs": [
    {
     "data": {
      "image/png": "[encoded data removed]",
      "text/plain": [
       "<Figure size 864x432 with 2 Axes>"
      ]
     },
     "metadata": {
      "needs_background": "light"
     },
     "output_type": "display_data"
    }
   ],
   "source": [
    "cols=X.columns\n",
    "feature_importance = reg.feature_importances_\n",
    "sorted_idx = np.argsort(feature_importance)\n",
    "pos = np.arange(sorted_idx.shape[0]) + 0.5\n",
    "fig = plt.figure(figsize=(12, 6))\n",
    "plt.subplot(1, 2, 1)\n",
    "plt.barh(pos, feature_importance[sorted_idx], align=\"center\")\n",
    "plt.yticks(pos, np.array(cols)[sorted_idx])\n",
    "plt.title(\"Feature Importance (MDI)\")\n",
    "\n",
    "result = permutation_importance(\n",
    "    reg, X_test, y_test, n_repeats=10, random_state=42, n_jobs=2\n",
    ")\n",
    "sorted_idx = result.importances_mean.argsort()\n",
    "plt.subplot(1, 2, 2)\n",
    "plt.boxplot(\n",
    "    result.importances[sorted_idx].T,\n",
    "    vert=False,\n",
    "    labels=np.array(cols)[sorted_idx],\n",
    ")\n",
    "plt.title(\"Permutation Importance (test set)\")\n",
    "fig.tight_layout()\n",
    "plt.show()"
   ]
  },
  {
   "cell_type": "markdown",
   "id": "2e2ab601",
   "metadata": {
    "papermill": {
     "duration": 0.086833,
     "end_time": "2022-10-14T19:10:24.490488",
     "exception": false,
     "start_time": "2022-10-14T19:10:24.403655",
     "status": "completed"
    },
    "tags": []
   },
   "source": [
    "# Logistic Regression"
   ]
  },
  {
   "cell_type": "code",
   "execution_count": 33,
   "id": "db91de09",
   "metadata": {
    "execution": {
     "iopub.execute_input": "2022-10-14T19:10:24.665091Z",
     "iopub.status.busy": "2022-10-14T19:10:24.664807Z",
     "iopub.status.idle": "2022-10-14T19:10:25.337939Z",
     "shell.execute_reply": "2022-10-14T19:10:25.337031Z"
    },
    "papermill": {
     "duration": 0.76401,
     "end_time": "2022-10-14T19:10:25.340786",
     "exception": false,
     "start_time": "2022-10-14T19:10:24.576776",
     "status": "completed"
    },
    "tags": []
   },
   "outputs": [
    {
     "name": "stdout",
     "output_type": "stream",
     "text": [
      "AUC for logistic regression is:  0.8557\n",
      "Logistic Accuracy:  0.7746\n",
      "0.0949  Logistic Regression cross validate\n"
     ]
    }
   ],
   "source": [
    "from sklearn.linear_model import LogisticRegression\n",
    "logReg = LogisticRegression(solver='liblinear') #solver param gets rid of encoder error\n",
    "\n",
    "#Train the model and create predictions\n",
    "logReg.fit(X_train, y_train)\n",
    "logPredict = logReg.predict_proba(X_test)[::,1]\n",
    "\n",
    "#calculate AUC of model\n",
    "auc = round( metrics.roc_auc_score(y_test, logPredict), 4 ) \n",
    "print(\"AUC for logistic regression is: \", auc)\n",
    "\n",
    "#CROSS VALIDATE TEST RESULTS:\n",
    "logScore = logReg.score(X_test, y_test).round(4)  # train test \n",
    "print(\"Logistic Accuracy: \", logScore)\n",
    "logCV = cross_validate(logReg, X, y, cv = 5, scoring= 'r2')\n",
    "logCV=logCV['test_score'].mean().round(4)\n",
    "print(logCV, \" Logistic Regression cross validate\")"
   ]
  },
  {
   "attachments": {
    "f752b952-cf92-46d5-b299-169252215ad1.png": {
     "image/png": "[encoded data removed]"
    },
    "fa2af2b2-61cc-465f-aeeb-cbddee6201ba.png": {
     "image/png": "[encoded data removed]"
    }
   },
   "cell_type": "markdown",
   "id": "14d1408f",
   "metadata": {
    "papermill": {
     "duration": 0.087342,
     "end_time": "2022-10-14T19:10:25.558144",
     "exception": false,
     "start_time": "2022-10-14T19:10:25.470802",
     "status": "completed"
    },
    "tags": []
   },
   "source": [
    "# Decision Tree\n",
    "* 11  best max_depth parameter with least MAE\n",
    "* 500  best max_leaf_node\n",
    "\n",
    "#### Overfitting Tree:\n",
    "Decision tree tends to overfit data which is clearly happening in this case:\n",
    "\n",
    "AUC for decision tree is: 0.9187\n",
    "R-squared for decision tree is: 0.5415\n",
    "0.3099 Tree cross validate mean\n",
    "Line graphs should help show where the decision tree parameters should truly be set at. \n",
    "The train data results should correlated with the final test data.\n",
    "\n",
    "![image.png](attachment:f752b952-cf92-46d5-b299-169252215ad1.png)\n",
    "\n",
    "![image.png](attachment:fa2af2b2-61cc-465f-aeeb-cbddee6201ba.png)"
   ]
  },
  {
   "cell_type": "code",
   "execution_count": 34,
   "id": "8f80baf6",
   "metadata": {
    "execution": {
     "iopub.execute_input": "2022-10-14T19:10:25.732238Z",
     "iopub.status.busy": "2022-10-14T19:10:25.731975Z",
     "iopub.status.idle": "2022-10-14T19:10:25.938903Z",
     "shell.execute_reply": "2022-10-14T19:10:25.938000Z"
    },
    "papermill": {
     "duration": 0.296389,
     "end_time": "2022-10-14T19:10:25.940980",
     "exception": false,
     "start_time": "2022-10-14T19:10:25.644591",
     "status": "completed"
    },
    "tags": []
   },
   "outputs": [],
   "source": [
    "from sklearn.tree import DecisionTreeClassifier\n",
    "\n",
    "#FIND best_tree_size LEAF NODES:\n",
    "def calcLeaf():\n",
    "    candidate_max_leaf_nodes = [5, 25, 50, 100, 250, 500, 700]\n",
    "    maeDic={} #dictionary  key=leaf  mae=value\n",
    "    for leaf in candidate_max_leaf_nodes:\n",
    "        model =  DecisionTreeClassifier(max_leaf_nodes=leaf, random_state=42)\n",
    "        model.fit(X_train, y_train)\n",
    "        y_pred = model.predict(X_test)\n",
    "        mae = mean_absolute_error(y_test, y_pred).round(4)\n",
    "        maeDic[leaf]=mae\n",
    "    print(maeDic)\n",
    "    best_tree_size = sorted(maeDic, key=lambda x : maeDic[x])[0]\n",
    "    print(best_tree_size, \" best max_leaf_node\") #500 is best\n",
    "    \n",
    "def calcDepth():\n",
    "    max_depth_list = [2, 3, 5, 7, 9, 11, 15]\n",
    "    maeDic={} #dictionary  key=depth  mae=value\n",
    "    for d in max_depth_list:\n",
    "        model = DecisionTreeClassifier(max_leaf_nodes=500, max_depth=d, random_state=42)\n",
    "        model.fit(X_train, y_train)\n",
    "        y_pred = model.predict(X_test)\n",
    "        mae = mean_absolute_error(y_test, y_pred).round(4)\n",
    "        maeDic[d]=mae\n",
    "    print(maeDic)\n",
    "    best_max_depth = sorted(maeDic, key=lambda x : maeDic[x])[0]\n",
    "    print(best_max_depth, \" best max_depth parameter with least MAE\") #11\n",
    "    \n",
    "def automateTree():\n",
    "    start=time.time()\n",
    "    candidate_max_leaf_nodes = [5, 25, 50, 100, 250, 500]\n",
    "    max_depth_list = [2, 3, 5, 7, 9, 11]\n",
    "    \n",
    "    #STORE DATA INTO LISTS FOR DATAFRAME LATER:\n",
    "    aucList=[]\n",
    "    maeList=[]\n",
    "    maxDepthList=[]\n",
    "    maxLeafNodesList=[]\n",
    "\n",
    "    for d in max_depth_list:\n",
    "        for leaf in candidate_max_leaf_nodes:\n",
    "            model = DecisionTreeClassifier(max_leaf_nodes=leaf, max_depth=d, random_state=42)\n",
    "            model.fit(X_train, y_train)\n",
    "            y_pred = model.predict(X_test)\n",
    "            mae = mean_absolute_error(y_test, y_pred).round(4)\n",
    "            treeAUC = round( metrics.roc_auc_score(y_test, y_pred), 4 ) \n",
    "            \n",
    "            aucList.append(treeAUC)\n",
    "            maeList.append(mae)\n",
    "            maxDepthList.append(d)\n",
    "            maxLeafNodesList.append(leaf)\n",
    "           \n",
    "            \n",
    "    df = pd.DataFrame(list(zip(aucList, maeList, maxDepthList, maxLeafNodesList)),\n",
    "                          columns=['AUC','MAE', 'MaxDepth', 'MaxLeafNodes'])\n",
    "    \n",
    "    df=df.sort_values(by=['AUC'], ascending=True)\n",
    "    print(\"Done. \", round(time.time()-start,4), \" seconds\")\n",
    "    return df\n",
    "\n",
    "#calcDepth() \n",
    "#calcLeaf()\n",
    "#treeDF=automateTree()\n",
    "#treeDF.head()"
   ]
  },
  {
   "cell_type": "code",
   "execution_count": 35,
   "id": "e35bf71a",
   "metadata": {
    "execution": {
     "iopub.execute_input": "2022-10-14T19:10:26.118222Z",
     "iopub.status.busy": "2022-10-14T19:10:26.117929Z",
     "iopub.status.idle": "2022-10-14T19:10:26.127542Z",
     "shell.execute_reply": "2022-10-14T19:10:26.126599Z"
    },
    "papermill": {
     "duration": 0.100468,
     "end_time": "2022-10-14T19:10:26.129529",
     "exception": false,
     "start_time": "2022-10-14T19:10:26.029061",
     "status": "completed"
    },
    "tags": []
   },
   "outputs": [],
   "source": [
    "def validateTreeDepth():\n",
    "    max_depth_list = [2, 3, 4, 5, 7, 9, 11]\n",
    "    \n",
    "    #STORE DATA INTO LISTS FOR DATAFRAME LATER:\n",
    "    accList=[]\n",
    "    cvList=[]\n",
    "    maeList=[]\n",
    "    \n",
    "    maxLeafNodesList=[]\n",
    "    maxDepthList=[]\n",
    "\n",
    "    for d in max_depth_list:\n",
    "        maxDepthList.append(d)\n",
    "        \n",
    "        tree = DecisionTreeClassifier(max_leaf_nodes=10, max_depth=d, random_state=42)\n",
    "        tree.fit(X_train, y_train)\n",
    "        y_pred = tree.predict(X_test)\n",
    "        mae = mean_absolute_error(y_test, y_pred).round(4)\n",
    "        treeR2 = r2_score(y_test, y_pred).round(4)\n",
    "        accList.append(treeR2)\n",
    "\n",
    "        #CROSS VALIDATE TEST RESULTS:\n",
    "        treeScore = tree.score(X_test, y_test).round(4)  # train test \n",
    "        #print(\"Tree Score: \", treeScore)\n",
    "        treeCV = cross_validate(tree, X, y, cv = 5, scoring= 'r2')\n",
    "        treeCV=treeCV['test_score'].mean().round(4)\n",
    "        cvList.append(treeCV)\n",
    "        #print(treeCV, \" Decision Tree cross validate.\")\n",
    "       # print(treeCV-treeR2, \" validation error\")\n",
    "    plt.plot(maxDepthList,accList, label=\"line1\")\n",
    "    plt.plot(maxDepthList,cvList, label=\"line2\")\n",
    "    plt.title('Decision Tree Cross Validate')\n",
    "    plt.xlabel('MaxDepth')\n",
    "    plt.ylabel('Accuracy')\n",
    "    plt.show() \n",
    "#validateTreeDepth()"
   ]
  },
  {
   "cell_type": "code",
   "execution_count": 36,
   "id": "d485804c",
   "metadata": {
    "execution": {
     "iopub.execute_input": "2022-10-14T19:10:26.305597Z",
     "iopub.status.busy": "2022-10-14T19:10:26.304545Z",
     "iopub.status.idle": "2022-10-14T19:10:26.314760Z",
     "shell.execute_reply": "2022-10-14T19:10:26.314035Z"
    },
    "papermill": {
     "duration": 0.100543,
     "end_time": "2022-10-14T19:10:26.316953",
     "exception": false,
     "start_time": "2022-10-14T19:10:26.216410",
     "status": "completed"
    },
    "tags": []
   },
   "outputs": [],
   "source": [
    "def validateLeafTree():\n",
    "    accList=[]\n",
    "    cvList=[]\n",
    "    maeList=[]\n",
    "    \n",
    "    maxLeafNodesList=[]\n",
    "    maxDepthList=[]\n",
    "    \n",
    "    candidate_max_leaf_nodes = [2, 3, 4, 5, 8, 10, 15, 20]\n",
    "    for leaf in candidate_max_leaf_nodes:\n",
    "        maxLeafNodesList.append(leaf)\n",
    "        \n",
    "        tree = DecisionTreeClassifier(max_leaf_nodes=leaf, max_depth=4, random_state=42)\n",
    "        tree.fit(X_train, y_train)\n",
    "        y_pred = tree.predict(X_test)\n",
    "        mae = mean_absolute_error(y_test, y_pred).round(4)\n",
    "        treeR2 = r2_score(y_test, y_pred).round(4)\n",
    "        accList.append(treeR2)\n",
    "\n",
    "        #CROSS VALIDATE TEST RESULTS:\n",
    "        treeScore = tree.score(X_test, y_test).round(4)  # train test \n",
    "        #print(\"Tree Score: \", treeScore)\n",
    "        treeCV = cross_validate(tree, X, y, cv = 5, scoring= 'r2')\n",
    "        treeCV=treeCV['test_score'].mean().round(4)\n",
    "        cvList.append(treeCV)\n",
    "        #print(treeCV, \" Decision Tree cross validate.\")\n",
    "       # print(treeCV-treeR2, \" validation error\")\n",
    "    \n",
    "    plt.plot(maxLeafNodesList,accList, label=\"line1\")\n",
    "    plt.plot(maxLeafNodesList,cvList, label=\"line2\")\n",
    "    plt.title('Decision Tree Cross Validate')\n",
    "    plt.xlabel('Max Leaf Nodes')\n",
    "    plt.ylabel('Accuracy')\n",
    "    plt.show() \n",
    "#validateLeafTree()"
   ]
  },
  {
   "cell_type": "markdown",
   "id": "f312e799",
   "metadata": {
    "papermill": {
     "duration": 0.087623,
     "end_time": "2022-10-14T19:10:26.493026",
     "exception": false,
     "start_time": "2022-10-14T19:10:26.405403",
     "status": "completed"
    },
    "tags": []
   },
   "source": [
    "#### Decision Tree Final Prediction"
   ]
  },
  {
   "cell_type": "code",
   "execution_count": 37,
   "id": "3a01e94a",
   "metadata": {
    "execution": {
     "iopub.execute_input": "2022-10-14T19:10:26.667928Z",
     "iopub.status.busy": "2022-10-14T19:10:26.666973Z",
     "iopub.status.idle": "2022-10-14T19:10:26.802303Z",
     "shell.execute_reply": "2022-10-14T19:10:26.801315Z"
    },
    "papermill": {
     "duration": 0.224798,
     "end_time": "2022-10-14T19:10:26.804413",
     "exception": false,
     "start_time": "2022-10-14T19:10:26.579615",
     "status": "completed"
    },
    "tags": []
   },
   "outputs": [
    {
     "name": "stdout",
     "output_type": "stream",
     "text": [
      "AUC for decision tree is:  0.768\n",
      "0.4826  is tree MSE \n",
      "TreeScore:  0.7671\n",
      "0.0249  Tree cross validate mean\n"
     ]
    }
   ],
   "source": [
    "tree = DecisionTreeClassifier(\n",
    "    max_leaf_nodes=10, \n",
    "    max_depth=5,\n",
    "    random_state=42)\n",
    "\n",
    "#FIT AND PREDICT:\n",
    "tree.fit(X, y)\n",
    "y_pred = tree.predict(X_test)\n",
    "\n",
    "#AUC and R2 METRICS:\n",
    "treeR2 = r2_score(y_test, y_pred).round(4)\n",
    "treeAUC = metrics.roc_auc_score(y_test, y_pred).round(4)\n",
    "print(\"AUC for decision tree is: \", treeAUC)\n",
    "#print(\"R-squared for decision tree is: \", treeR2)\n",
    "\n",
    "treeMSE=np.sqrt(metrics.mean_squared_error(y_test, y_pred))\n",
    "print(round(treeMSE, 4), \" is tree MSE \")\n",
    "\n",
    "#CROSS VALIDATE RESULTS:\n",
    "treeScore = tree.score(X_test, y_test).round(4)  # train test \n",
    "print(\"TreeScore: \", treeScore)\n",
    "treeCV = cross_validate(tree, X, y, cv = 5, scoring= 'r2')\n",
    "treeCV=treeCV['test_score'].mean().round(4)\n",
    "print(treeCV, \" Tree cross validate mean\")"
   ]
  },
  {
   "attachments": {
    "a8cee3f3-3de9-4085-97e0-c0a53abcaa5b.png": {
     "image/png": "[encoded data removed]"
    },
    "cf32c38c-d0f9-400d-ba7f-6845ef2d23a1.png": {
     "image/png": "[encoded data removed]"
    }
   },
   "cell_type": "markdown",
   "id": "79a73469",
   "metadata": {
    "papermill": {
     "duration": 0.086749,
     "end_time": "2022-10-14T19:10:26.977412",
     "exception": false,
     "start_time": "2022-10-14T19:10:26.890663",
     "status": "completed"
    },
    "tags": []
   },
   "source": [
    "# Random Forest\n",
    "* 2  n_estimates |  0.7964  AUC |  0.28  MAE\n",
    "* 102  n_estimates |  0.8554  AUC |  0.28  MAE\n",
    "* 202  n_estimates |  0.8554  AUC |  0.28  MAE\n",
    "* 302  n_estimates |  0.8555  AUC |  0.28  MAE\n",
    "* 402  n_estimates |  0.8558  AUC |  0.28  MAE\n",
    "\n",
    "#### Cross Validate: <br>\n",
    "![image.png](attachment:cf32c38c-d0f9-400d-ba7f-6845ef2d23a1.png)\n",
    "![image.png](attachment:a8cee3f3-3de9-4085-97e0-c0a53abcaa5b.png)"
   ]
  },
  {
   "cell_type": "code",
   "execution_count": 38,
   "id": "652a936e",
   "metadata": {
    "execution": {
     "iopub.execute_input": "2022-10-14T19:10:27.152417Z",
     "iopub.status.busy": "2022-10-14T19:10:27.151601Z",
     "iopub.status.idle": "2022-10-14T19:10:27.169072Z",
     "shell.execute_reply": "2022-10-14T19:10:27.168345Z"
    },
    "papermill": {
     "duration": 0.107379,
     "end_time": "2022-10-14T19:10:27.171162",
     "exception": false,
     "start_time": "2022-10-14T19:10:27.063783",
     "status": "completed"
    },
    "tags": []
   },
   "outputs": [],
   "source": [
    "from sklearn.ensemble import RandomForestRegressor, RandomForestClassifier\n",
    "\n",
    "#Check for Error and find Best n_estimators:\n",
    "def checkNumEst():\n",
    "    dMAE={} #dictionary of n_estimators as key and MAE as value:\n",
    "    nEst=[] #store n_estimators\n",
    "    cvList=[] #cross validate list\n",
    "    accList=[] #accuracy train data\n",
    "    mae=[] #error\n",
    "    \n",
    "    for n in [2, 10, 30, 50, 70, 100, 120, 150]:\n",
    "        forest = RandomForestRegressor(n_estimators=n, random_state = 0)\n",
    "        forest.fit(X_train, y_train)\n",
    "        y_pred = forest.predict(X_test)\n",
    "        MAE=metrics.mean_absolute_error(y_test, y_pred).round(2)\n",
    "        dMAE[n]=MAE\n",
    "      \n",
    "        #CROSS VALIDATE TEST RESULTS:\n",
    "        forestScore = forest.score(X_test, y_test).round(4)  # train test \n",
    "        forestCV = cross_validate(forest, X, y, cv = 5, scoring= 'r2')\n",
    "        forestCV=forestCV['test_score'].mean().round(4)\n",
    "        \n",
    "        print(\"n_estimates: \", n,  '  Mean Absolute Error:', MAE)\n",
    "        print(\"Forest Score: \", forestScore  ,\"||\" , forestCV, \"cross validate.\")\n",
    "       \n",
    "        nEst.append(n)\n",
    "        cvList.append(forestCV)\n",
    "        accList.append(forestScore)\n",
    "        mae.append(MAE)\n",
    "        \n",
    "    plt.plot(nEst,accList, label=\"line1\")\n",
    "    plt.plot(nEst,cvList, label=\"line2\")\n",
    "    plt.title(\"Forest N_Estimators\")\n",
    "    plt.xlabel('N_estimators')\n",
    "    plt.ylabel('Accuracy')\n",
    "    plt.show() \n",
    "    \n",
    "    dMAE=sorted(((v, k) for k, v in dMAE.items()), reverse=False)\n",
    "    print(dMAE)\n",
    "    \n",
    "def fMaxDepth():\n",
    "    dMAE={} #dictionary of n_estimators as key and MAE as value:\n",
    "    nEst=[] #store n_estimators\n",
    "    cvList=[] #cross validate list\n",
    "    accList=[] #accuracy train data\n",
    "    mae=[] #error\n",
    "    \n",
    "    for n in [2, 3, 5, 7, 10, 15, 20, 30, 40, 50]:\n",
    "        forest = RandomForestRegressor(n_estimators=10, max_depth=n, random_state = 0)\n",
    "        forest.fit(X_train, y_train)\n",
    "        y_pred = forest.predict(X_test)\n",
    "        MAE=metrics.mean_absolute_error(y_test, y_pred).round(2)\n",
    "        dMAE[n]=MAE\n",
    "      \n",
    "        #CROSS VALIDATE TEST RESULTS:\n",
    "        forestScore = forest.score(X_test, y_test).round(4)  # train test \n",
    "        forestCV = cross_validate(forest, X, y, cv = 5, scoring= 'r2')\n",
    "        forestCV=forestCV['test_score'].mean().round(4)\n",
    "        \n",
    "        print(\"max_depth: \", n,  '  Mean Absolute Error:', MAE)\n",
    "        print(\"Forest Score: \", forestScore  ,\"||\" , forestCV, \"cross validate.\")\n",
    "       \n",
    "        nEst.append(n)\n",
    "        cvList.append(forestCV)\n",
    "        accList.append(forestScore)\n",
    "        mae.append(MAE)\n",
    "        \n",
    "    plt.plot(nEst,accList, label=\"line1\")\n",
    "    plt.plot(nEst,cvList, label=\"line2\")\n",
    "    plt.title(\"Forest Max_Depth\")\n",
    "    plt.xlabel('max_depth')\n",
    "    plt.ylabel('Accuracy')\n",
    "    plt.show() \n",
    "    \n",
    "    dMAE=sorted(((v, k) for k, v in dMAE.items()), reverse=False)\n",
    "    print(dMAE)\n",
    "    \n",
    "#checkNumEst() \n",
    "#fMaxDepth()"
   ]
  },
  {
   "cell_type": "markdown",
   "id": "f258290c",
   "metadata": {
    "papermill": {
     "duration": 0.085682,
     "end_time": "2022-10-14T19:10:27.342884",
     "exception": false,
     "start_time": "2022-10-14T19:10:27.257202",
     "status": "completed"
    },
    "tags": []
   },
   "source": [
    "#### Forest Final Prediction"
   ]
  },
  {
   "cell_type": "code",
   "execution_count": 39,
   "id": "38278fc3",
   "metadata": {
    "execution": {
     "iopub.execute_input": "2022-10-14T19:10:27.520377Z",
     "iopub.status.busy": "2022-10-14T19:10:27.520065Z",
     "iopub.status.idle": "2022-10-14T19:10:32.068149Z",
     "shell.execute_reply": "2022-10-14T19:10:32.067343Z"
    },
    "papermill": {
     "duration": 4.638422,
     "end_time": "2022-10-14T19:10:32.070726",
     "exception": false,
     "start_time": "2022-10-14T19:10:27.432304",
     "status": "completed"
    },
    "tags": []
   },
   "outputs": [
    {
     "name": "stdout",
     "output_type": "stream",
     "text": [
      "Random forest AUC:  0.7988\n",
      "Random forest r2:  0.1925\n",
      "Random forest MAE:  0.2\n",
      "Forest Score:  0.7982 || 0.1574 cross validate.\n"
     ]
    }
   ],
   "source": [
    "forest = RandomForestClassifier(\n",
    "    n_estimators=100,\n",
    "    max_depth=8, \n",
    "    random_state = 0)\n",
    "\n",
    "forest.fit(X_train, y_train)\n",
    "y_pred = forest.predict(X_test)\n",
    "\n",
    "#Print Metrics:\n",
    "forestR2 = r2_score(y_test, y_pred).round(4)  \n",
    "forestAUC = round( metrics.roc_auc_score(y_test, y_pred), 4 ) \n",
    "print(\"Random forest AUC: \", forestAUC) \n",
    "print(\"Random forest r2: \", forestR2)\n",
    "\n",
    "forestMAE=metrics.mean_absolute_error(y_test, y_pred).round(2)\n",
    "print(\"Random forest MAE: \", forestMAE)\n",
    "\n",
    "#CROSS VALIDATE TEST RESULTS:\n",
    "forestScore = forest.score(X_test, y_test).round(4)  # train test \n",
    "forestCV = cross_validate(forest, X, y, cv = 5, scoring= 'r2')\n",
    "forestCV=forestCV['test_score'].mean().round(4)\n",
    "print(\"Forest Score: \", forestScore  ,\"||\" , forestCV, \"cross validate.\")"
   ]
  },
  {
   "cell_type": "markdown",
   "id": "291d5b67",
   "metadata": {
    "papermill": {
     "duration": 0.091357,
     "end_time": "2022-10-14T19:10:32.250677",
     "exception": false,
     "start_time": "2022-10-14T19:10:32.159320",
     "status": "completed"
    },
    "tags": []
   },
   "source": [
    "# Test Data"
   ]
  },
  {
   "cell_type": "code",
   "execution_count": 40,
   "id": "6081b31a",
   "metadata": {
    "execution": {
     "iopub.execute_input": "2022-10-14T19:10:32.428668Z",
     "iopub.status.busy": "2022-10-14T19:10:32.428196Z",
     "iopub.status.idle": "2022-10-14T19:10:33.321414Z",
     "shell.execute_reply": "2022-10-14T19:10:33.320355Z"
    },
    "papermill": {
     "duration": 0.984927,
     "end_time": "2022-10-14T19:10:33.323889",
     "exception": false,
     "start_time": "2022-10-14T19:10:32.338962",
     "status": "completed"
    },
    "tags": []
   },
   "outputs": [
    {
     "data": {
      "text/html": [
       "<div>\n",
       "<style scoped>\n",
       "    .dataframe tbody tr th:only-of-type {\n",
       "        vertical-align: middle;\n",
       "    }\n",
       "\n",
       "    .dataframe tbody tr th {\n",
       "        vertical-align: top;\n",
       "    }\n",
       "\n",
       "    .dataframe thead th {\n",
       "        text-align: right;\n",
       "    }\n",
       "</style>\n",
       "<table border=\"1\" class=\"dataframe\">\n",
       "  <thead>\n",
       "    <tr style=\"text-align: right;\">\n",
       "      <th></th>\n",
       "      <th>HomePlanet</th>\n",
       "      <th>Age</th>\n",
       "      <th>RoomService</th>\n",
       "      <th>FoodCourt</th>\n",
       "      <th>ShoppingMall</th>\n",
       "      <th>Spa</th>\n",
       "      <th>VRDeck</th>\n",
       "      <th>deck</th>\n",
       "      <th>num</th>\n",
       "      <th>side</th>\n",
       "    </tr>\n",
       "  </thead>\n",
       "  <tbody>\n",
       "    <tr>\n",
       "      <th>0</th>\n",
       "      <td>0.0</td>\n",
       "      <td>27.0</td>\n",
       "      <td>0.0</td>\n",
       "      <td>0.0</td>\n",
       "      <td>0.0</td>\n",
       "      <td>0.0</td>\n",
       "      <td>0.0</td>\n",
       "      <td>6.0</td>\n",
       "      <td>3.0</td>\n",
       "      <td>1.0</td>\n",
       "    </tr>\n",
       "    <tr>\n",
       "      <th>1</th>\n",
       "      <td>0.0</td>\n",
       "      <td>19.0</td>\n",
       "      <td>0.0</td>\n",
       "      <td>9.0</td>\n",
       "      <td>0.0</td>\n",
       "      <td>2823.0</td>\n",
       "      <td>0.0</td>\n",
       "      <td>5.0</td>\n",
       "      <td>4.0</td>\n",
       "      <td>1.0</td>\n",
       "    </tr>\n",
       "    <tr>\n",
       "      <th>2</th>\n",
       "      <td>1.0</td>\n",
       "      <td>31.0</td>\n",
       "      <td>0.0</td>\n",
       "      <td>0.0</td>\n",
       "      <td>0.0</td>\n",
       "      <td>0.0</td>\n",
       "      <td>0.0</td>\n",
       "      <td>2.0</td>\n",
       "      <td>0.0</td>\n",
       "      <td>1.0</td>\n",
       "    </tr>\n",
       "    <tr>\n",
       "      <th>3</th>\n",
       "      <td>1.0</td>\n",
       "      <td>38.0</td>\n",
       "      <td>0.0</td>\n",
       "      <td>6652.0</td>\n",
       "      <td>0.0</td>\n",
       "      <td>181.0</td>\n",
       "      <td>585.0</td>\n",
       "      <td>2.0</td>\n",
       "      <td>1.0</td>\n",
       "      <td>1.0</td>\n",
       "    </tr>\n",
       "    <tr>\n",
       "      <th>4</th>\n",
       "      <td>0.0</td>\n",
       "      <td>20.0</td>\n",
       "      <td>10.0</td>\n",
       "      <td>0.0</td>\n",
       "      <td>635.0</td>\n",
       "      <td>0.0</td>\n",
       "      <td>0.0</td>\n",
       "      <td>5.0</td>\n",
       "      <td>5.0</td>\n",
       "      <td>1.0</td>\n",
       "    </tr>\n",
       "  </tbody>\n",
       "</table>\n",
       "</div>"
      ],
      "text/plain": [
       "   HomePlanet   Age  RoomService  FoodCourt  ShoppingMall     Spa  VRDeck  \\\n",
       "0         0.0  27.0          0.0        0.0           0.0     0.0     0.0   \n",
       "1         0.0  19.0          0.0        9.0           0.0  2823.0     0.0   \n",
       "2         1.0  31.0          0.0        0.0           0.0     0.0     0.0   \n",
       "3         1.0  38.0          0.0     6652.0           0.0   181.0   585.0   \n",
       "4         0.0  20.0         10.0        0.0         635.0     0.0     0.0   \n",
       "\n",
       "   deck  num  side  \n",
       "0   6.0  3.0   1.0  \n",
       "1   5.0  4.0   1.0  \n",
       "2   2.0  0.0   1.0  \n",
       "3   2.0  1.0   1.0  \n",
       "4   5.0  5.0   1.0  "
      ]
     },
     "execution_count": 40,
     "metadata": {},
     "output_type": "execute_result"
    }
   ],
   "source": [
    "testDF=pd.read_csv(test)\n",
    "ID=testDF['PassengerId']\n",
    "\n",
    "#FEATURES:\n",
    "testDF['VIP']=testDF['VIP'].astype('str').replace({'False':0, 'True':1})\n",
    "testDF['CryoSleep']=testDF['CryoSleep'].astype('str').replace({'False':0, 'True':1})\n",
    "testDF['Adult'] = testDF['Age'].apply(lambda x: 1 if x > 19 else 0 )\n",
    "\n",
    "#ENCODER\n",
    "testDF['deck']=testDF['Cabin'].apply(lambda x: str(x).split(\"/\")[0])\n",
    "testDF['num']=testDF['Cabin'].str.extract('(\\d+)').fillna(0).astype(int)\n",
    "testDF['side']=testDF['Cabin'].apply(lambda x: str(x)[-1])\n",
    "\n",
    "testDF_encode = testDF[col_names]\n",
    "encoder = OrdinalEncoder()\n",
    "testDF[col_names] = encoder.fit_transform(testDF_encode)\n",
    "\n",
    "#BILLED\n",
    "#testDF['billed']=testDF['RoomService']+testDF['FoodCourt']+testDF['ShoppingMall']+testDF['Spa']+testDF['VRDeck']\n",
    "\n",
    "#Names:\n",
    "testDF[['First','Last']] = testDF.Name.apply(lambda x: pd.Series(str(x).split(\" \")))\n",
    "testDF['Family']=testDF.groupby('Last')['Last'].transform('count')\n",
    "\n",
    "#Match DF Features:\n",
    "features=X.columns\n",
    "testDF=testDF[features]\n",
    "\n",
    "testDF=testDF.fillna(testDF.mean())\n",
    "testDF.head()"
   ]
  },
  {
   "cell_type": "markdown",
   "id": "e00de4e6",
   "metadata": {
    "papermill": {
     "duration": 0.089528,
     "end_time": "2022-10-14T19:10:33.502164",
     "exception": false,
     "start_time": "2022-10-14T19:10:33.412636",
     "status": "completed"
    },
    "tags": []
   },
   "source": [
    "# Final Predictions"
   ]
  },
  {
   "cell_type": "code",
   "execution_count": 41,
   "id": "738327f1",
   "metadata": {
    "execution": {
     "iopub.execute_input": "2022-10-14T19:10:33.681444Z",
     "iopub.status.busy": "2022-10-14T19:10:33.680996Z",
     "iopub.status.idle": "2022-10-14T19:10:33.715787Z",
     "shell.execute_reply": "2022-10-14T19:10:33.714798Z"
    },
    "papermill": {
     "duration": 0.126067,
     "end_time": "2022-10-14T19:10:33.717963",
     "exception": false,
     "start_time": "2022-10-14T19:10:33.591896",
     "status": "completed"
    },
    "tags": []
   },
   "outputs": [
    {
     "name": "stdout",
     "output_type": "stream",
     "text": [
      "(4277, 2)\n",
      "PassengerId    object\n",
      "Transported      bool\n",
      "dtype: object\n"
     ]
    },
    {
     "data": {
      "text/html": [
       "<div>\n",
       "<style scoped>\n",
       "    .dataframe tbody tr th:only-of-type {\n",
       "        vertical-align: middle;\n",
       "    }\n",
       "\n",
       "    .dataframe tbody tr th {\n",
       "        vertical-align: top;\n",
       "    }\n",
       "\n",
       "    .dataframe thead th {\n",
       "        text-align: right;\n",
       "    }\n",
       "</style>\n",
       "<table border=\"1\" class=\"dataframe\">\n",
       "  <thead>\n",
       "    <tr style=\"text-align: right;\">\n",
       "      <th></th>\n",
       "      <th>PassengerId</th>\n",
       "      <th>Transported</th>\n",
       "    </tr>\n",
       "  </thead>\n",
       "  <tbody>\n",
       "    <tr>\n",
       "      <th>0</th>\n",
       "      <td>0013_01</td>\n",
       "      <td>True</td>\n",
       "    </tr>\n",
       "    <tr>\n",
       "      <th>1</th>\n",
       "      <td>0018_01</td>\n",
       "      <td>False</td>\n",
       "    </tr>\n",
       "    <tr>\n",
       "      <th>2</th>\n",
       "      <td>0019_01</td>\n",
       "      <td>True</td>\n",
       "    </tr>\n",
       "    <tr>\n",
       "      <th>3</th>\n",
       "      <td>0021_01</td>\n",
       "      <td>True</td>\n",
       "    </tr>\n",
       "    <tr>\n",
       "      <th>4</th>\n",
       "      <td>0023_01</td>\n",
       "      <td>True</td>\n",
       "    </tr>\n",
       "  </tbody>\n",
       "</table>\n",
       "</div>"
      ],
      "text/plain": [
       "  PassengerId  Transported\n",
       "0     0013_01         True\n",
       "1     0018_01        False\n",
       "2     0019_01         True\n",
       "3     0021_01         True\n",
       "4     0023_01         True"
      ]
     },
     "execution_count": 41,
     "metadata": {},
     "output_type": "execute_result"
    }
   ],
   "source": [
    "test_predictions = xgbFinal.predict(testDF)\n",
    "tupleData = list(zip(ID, test_predictions))\n",
    "output = pd.DataFrame(tupleData, columns = ['PassengerId', 'Transported'])\n",
    "output['Transported']=output['Transported'].replace({0:False, 1:True})\n",
    "print(output.shape)\n",
    "print(output.dtypes)\n",
    "output.head()"
   ]
  },
  {
   "cell_type": "code",
   "execution_count": 42,
   "id": "5c54fec6",
   "metadata": {
    "execution": {
     "iopub.execute_input": "2022-10-14T19:10:33.896406Z",
     "iopub.status.busy": "2022-10-14T19:10:33.895775Z",
     "iopub.status.idle": "2022-10-14T19:10:33.909071Z",
     "shell.execute_reply": "2022-10-14T19:10:33.908036Z"
    },
    "papermill": {
     "duration": 0.104676,
     "end_time": "2022-10-14T19:10:33.911184",
     "exception": false,
     "start_time": "2022-10-14T19:10:33.806508",
     "status": "completed"
    },
    "tags": []
   },
   "outputs": [
    {
     "name": "stdout",
     "output_type": "stream",
     "text": [
      "Your submission was successfully saved!\n"
     ]
    }
   ],
   "source": [
    "output.to_csv('submission.csv', index=False)\n",
    "print(\"Your submission was successfully saved!\")"
   ]
  }
 ],
 "metadata": {
  "kernelspec": {
   "display_name": "Python 3",
   "language": "python",
   "name": "python3"
  },
  "language_info": {
   "codemirror_mode": {
    "name": "ipython",
    "version": 3
   },
   "file_extension": ".py",
   "mimetype": "text/x-python",
   "name": "python",
   "nbconvert_exporter": "python",
   "pygments_lexer": "ipython3",
   "version": "3.7.12"
  },
  "papermill": {
   "default_parameters": {},
   "duration": 94.614897,
   "end_time": "2022-10-14T19:10:36.624068",
   "environment_variables": {},
   "exception": null,
   "input_path": "__notebook__.ipynb",
   "output_path": "__notebook__.ipynb",
   "parameters": {},
   "start_time": "2022-10-14T19:09:02.009171",
   "version": "2.3.4"
  }
 },
 "nbformat": 4,
 "nbformat_minor": 5
}
