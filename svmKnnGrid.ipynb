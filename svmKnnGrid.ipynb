{
 "cells": [
  {
   "cell_type": "markdown",
   "id": "d9e46d69",
   "metadata": {
    "papermill": {
     "duration": 0.033679,
     "end_time": "2022-10-12T20:26:53.823524",
     "exception": false,
     "start_time": "2022-10-12T20:26:53.789845",
     "status": "completed"
    },
    "tags": []
   },
   "source": [
    "# Machine Learning Titanic \n",
    "### SVM GridSearch\n",
    "SVM provides .78 accuracy which is near the best performing models below. Therefore, an extensive tunning using GridSearchCV will be used to help perfect SVM models. \n",
    "\n",
    "My newest, high performing models:\n",
    "* All initial models:\n",
    "https://github.com/ScottySchmidt/Kaggle/blob/main/Titanic.ipynb\n",
    "* Decision tree scores top 6%\n",
    "https://github.com/ScottySchmidt/Kaggle/blob/main/dtree.ipynb\n",
    "* xgBoost top 5%\n",
    "https://github.com/ScottySchmidt/Kaggle/blob/main/xgbTop5%25.ipynb\n",
    "* Random forest top 5%\n",
    "https://github.com/ScottySchmidt/Kaggle/blob/main/forestTop5%25.ipynb\n",
    "\n",
    "### KNN GridSearch\n",
    "KNN initially provided the worse accuracy results. Even with additional tunning using GridSearchCV, KNN still does not provide good results. "
   ]
  },
  {
   "cell_type": "markdown",
   "id": "38e14592",
   "metadata": {
    "papermill": {
     "duration": 0.031822,
     "end_time": "2022-10-12T20:26:53.887657",
     "exception": false,
     "start_time": "2022-10-12T20:26:53.855835",
     "status": "completed"
    },
    "tags": []
   },
   "source": [
    "# Metrics\n",
    "The gradient classifier and logistic regression are the best two models that provide the highest best score. Interestingly, the gradient classifier does not have a high AUC but the results cross validate into the test dataset without overfitting the data. For example, decision tree can get an almost perfect AUC but when you cross validate the data it is clearly overfiting. "
   ]
  },
  {
   "cell_type": "markdown",
   "id": "d51d2a37",
   "metadata": {
    "papermill": {
     "duration": 0.031701,
     "end_time": "2022-10-12T20:26:53.951488",
     "exception": false,
     "start_time": "2022-10-12T20:26:53.919787",
     "status": "completed"
    },
    "tags": []
   },
   "source": [
    "# Train Data\n",
    "Train.csv will contain the details of a subset of the passengers on board (891 to be exact) and whether they survive or not. The shape of the train data is (891, 12). "
   ]
  },
  {
   "cell_type": "code",
   "execution_count": 1,
   "id": "706e5cc3",
   "metadata": {
    "execution": {
     "iopub.execute_input": "2022-10-12T20:26:54.017900Z",
     "iopub.status.busy": "2022-10-12T20:26:54.017086Z",
     "iopub.status.idle": "2022-10-12T20:26:55.554364Z",
     "shell.execute_reply": "2022-10-12T20:26:55.553490Z"
    },
    "papermill": {
     "duration": 1.573851,
     "end_time": "2022-10-12T20:26:55.557396",
     "exception": false,
     "start_time": "2022-10-12T20:26:53.983545",
     "status": "completed"
    },
    "tags": []
   },
   "outputs": [
    {
     "name": "stdout",
     "output_type": "stream",
     "text": [
      "(891, 12)\n"
     ]
    },
    {
     "data": {
      "text/html": [
       "<div>\n",
       "<style scoped>\n",
       "    .dataframe tbody tr th:only-of-type {\n",
       "        vertical-align: middle;\n",
       "    }\n",
       "\n",
       "    .dataframe tbody tr th {\n",
       "        vertical-align: top;\n",
       "    }\n",
       "\n",
       "    .dataframe thead th {\n",
       "        text-align: right;\n",
       "    }\n",
       "</style>\n",
       "<table border=\"1\" class=\"dataframe\">\n",
       "  <thead>\n",
       "    <tr style=\"text-align: right;\">\n",
       "      <th></th>\n",
       "      <th>PassengerId</th>\n",
       "      <th>Survived</th>\n",
       "      <th>Pclass</th>\n",
       "      <th>Name</th>\n",
       "      <th>Sex</th>\n",
       "      <th>Age</th>\n",
       "      <th>SibSp</th>\n",
       "      <th>Parch</th>\n",
       "      <th>Ticket</th>\n",
       "      <th>Fare</th>\n",
       "      <th>Cabin</th>\n",
       "      <th>Embarked</th>\n",
       "    </tr>\n",
       "  </thead>\n",
       "  <tbody>\n",
       "    <tr>\n",
       "      <th>0</th>\n",
       "      <td>1</td>\n",
       "      <td>0</td>\n",
       "      <td>3</td>\n",
       "      <td>Braund, Mr. Owen Harris</td>\n",
       "      <td>male</td>\n",
       "      <td>22.0</td>\n",
       "      <td>1</td>\n",
       "      <td>0</td>\n",
       "      <td>A/5 21171</td>\n",
       "      <td>7.2500</td>\n",
       "      <td>NaN</td>\n",
       "      <td>S</td>\n",
       "    </tr>\n",
       "    <tr>\n",
       "      <th>1</th>\n",
       "      <td>2</td>\n",
       "      <td>1</td>\n",
       "      <td>1</td>\n",
       "      <td>Cumings, Mrs. John Bradley (Florence Briggs Th...</td>\n",
       "      <td>female</td>\n",
       "      <td>38.0</td>\n",
       "      <td>1</td>\n",
       "      <td>0</td>\n",
       "      <td>PC 17599</td>\n",
       "      <td>71.2833</td>\n",
       "      <td>C85</td>\n",
       "      <td>C</td>\n",
       "    </tr>\n",
       "    <tr>\n",
       "      <th>2</th>\n",
       "      <td>3</td>\n",
       "      <td>1</td>\n",
       "      <td>3</td>\n",
       "      <td>Heikkinen, Miss. Laina</td>\n",
       "      <td>female</td>\n",
       "      <td>26.0</td>\n",
       "      <td>0</td>\n",
       "      <td>0</td>\n",
       "      <td>STON/O2. 3101282</td>\n",
       "      <td>7.9250</td>\n",
       "      <td>NaN</td>\n",
       "      <td>S</td>\n",
       "    </tr>\n",
       "    <tr>\n",
       "      <th>3</th>\n",
       "      <td>4</td>\n",
       "      <td>1</td>\n",
       "      <td>1</td>\n",
       "      <td>Futrelle, Mrs. Jacques Heath (Lily May Peel)</td>\n",
       "      <td>female</td>\n",
       "      <td>35.0</td>\n",
       "      <td>1</td>\n",
       "      <td>0</td>\n",
       "      <td>113803</td>\n",
       "      <td>53.1000</td>\n",
       "      <td>C123</td>\n",
       "      <td>S</td>\n",
       "    </tr>\n",
       "    <tr>\n",
       "      <th>4</th>\n",
       "      <td>5</td>\n",
       "      <td>0</td>\n",
       "      <td>3</td>\n",
       "      <td>Allen, Mr. William Henry</td>\n",
       "      <td>male</td>\n",
       "      <td>35.0</td>\n",
       "      <td>0</td>\n",
       "      <td>0</td>\n",
       "      <td>373450</td>\n",
       "      <td>8.0500</td>\n",
       "      <td>NaN</td>\n",
       "      <td>S</td>\n",
       "    </tr>\n",
       "  </tbody>\n",
       "</table>\n",
       "</div>"
      ],
      "text/plain": [
       "   PassengerId  Survived  Pclass  \\\n",
       "0            1         0       3   \n",
       "1            2         1       1   \n",
       "2            3         1       3   \n",
       "3            4         1       1   \n",
       "4            5         0       3   \n",
       "\n",
       "                                                Name     Sex   Age  SibSp  \\\n",
       "0                            Braund, Mr. Owen Harris    male  22.0      1   \n",
       "1  Cumings, Mrs. John Bradley (Florence Briggs Th...  female  38.0      1   \n",
       "2                             Heikkinen, Miss. Laina  female  26.0      0   \n",
       "3       Futrelle, Mrs. Jacques Heath (Lily May Peel)  female  35.0      1   \n",
       "4                           Allen, Mr. William Henry    male  35.0      0   \n",
       "\n",
       "   Parch            Ticket     Fare Cabin Embarked  \n",
       "0      0         A/5 21171   7.2500   NaN        S  \n",
       "1      0          PC 17599  71.2833   C85        C  \n",
       "2      0  STON/O2. 3101282   7.9250   NaN        S  \n",
       "3      0            113803  53.1000  C123        S  \n",
       "4      0            373450   8.0500   NaN        S  "
      ]
     },
     "execution_count": 1,
     "metadata": {},
     "output_type": "execute_result"
    }
   ],
   "source": [
    "import numpy as np\n",
    "import pandas as pd\n",
    "import seaborn as sns\n",
    "import matplotlib.pyplot as plt\n",
    "from sklearn.model_selection import train_test_split, cross_validate, GridSearchCV\n",
    "from statistics import mean\n",
    "from sklearn.metrics import accuracy_score, classification_report, mean_absolute_error, mean_squared_error, r2_score\n",
    "from sklearn.datasets import make_classification\n",
    "from sklearn import ensemble\n",
    "import sklearn.metrics as metrics\n",
    "import time\n",
    "from math import sqrt\n",
    "\n",
    "train=r'/kaggle/input/titanic/train.csv'\n",
    "test=r'/kaggle/input/titanic/test.csv' \n",
    "\n",
    "df=pd.read_csv(train)\n",
    "test=pd.read_csv(test)\n",
    "\n",
    "print(df.shape)\n",
    "df.head()"
   ]
  },
  {
   "cell_type": "code",
   "execution_count": 2,
   "id": "ca41ed3b",
   "metadata": {
    "execution": {
     "iopub.execute_input": "2022-10-12T20:26:55.631380Z",
     "iopub.status.busy": "2022-10-12T20:26:55.631100Z",
     "iopub.status.idle": "2022-10-12T20:26:55.637877Z",
     "shell.execute_reply": "2022-10-12T20:26:55.637194Z"
    },
    "papermill": {
     "duration": 0.046899,
     "end_time": "2022-10-12T20:26:55.640197",
     "exception": false,
     "start_time": "2022-10-12T20:26:55.593298",
     "status": "completed"
    },
    "tags": []
   },
   "outputs": [
    {
     "data": {
      "text/plain": [
       "PassengerId      int64\n",
       "Survived         int64\n",
       "Pclass           int64\n",
       "Name            object\n",
       "Sex             object\n",
       "Age            float64\n",
       "SibSp            int64\n",
       "Parch            int64\n",
       "Ticket          object\n",
       "Fare           float64\n",
       "Cabin           object\n",
       "Embarked        object\n",
       "dtype: object"
      ]
     },
     "execution_count": 2,
     "metadata": {},
     "output_type": "execute_result"
    }
   ],
   "source": [
    "df.dtypes"
   ]
  },
  {
   "cell_type": "code",
   "execution_count": 3,
   "id": "7942f2c8",
   "metadata": {
    "execution": {
     "iopub.execute_input": "2022-10-12T20:26:55.714593Z",
     "iopub.status.busy": "2022-10-12T20:26:55.714274Z",
     "iopub.status.idle": "2022-10-12T20:26:55.740011Z",
     "shell.execute_reply": "2022-10-12T20:26:55.739173Z"
    },
    "papermill": {
     "duration": 0.065198,
     "end_time": "2022-10-12T20:26:55.742070",
     "exception": false,
     "start_time": "2022-10-12T20:26:55.676872",
     "status": "completed"
    },
    "tags": []
   },
   "outputs": [
    {
     "name": "stdout",
     "output_type": "stream",
     "text": [
      "Total no of duplicate values in Training Dataset = 0\n"
     ]
    },
    {
     "data": {
      "text/html": [
       "<div>\n",
       "<style scoped>\n",
       "    .dataframe tbody tr th:only-of-type {\n",
       "        vertical-align: middle;\n",
       "    }\n",
       "\n",
       "    .dataframe tbody tr th {\n",
       "        vertical-align: top;\n",
       "    }\n",
       "\n",
       "    .dataframe thead th {\n",
       "        text-align: right;\n",
       "    }\n",
       "</style>\n",
       "<table border=\"1\" class=\"dataframe\">\n",
       "  <thead>\n",
       "    <tr style=\"text-align: right;\">\n",
       "      <th></th>\n",
       "      <th>PassengerId</th>\n",
       "      <th>Survived</th>\n",
       "      <th>Pclass</th>\n",
       "      <th>Name</th>\n",
       "      <th>Sex</th>\n",
       "      <th>Age</th>\n",
       "      <th>SibSp</th>\n",
       "      <th>Parch</th>\n",
       "      <th>Ticket</th>\n",
       "      <th>Fare</th>\n",
       "      <th>Cabin</th>\n",
       "      <th>Embarked</th>\n",
       "    </tr>\n",
       "  </thead>\n",
       "  <tbody>\n",
       "  </tbody>\n",
       "</table>\n",
       "</div>"
      ],
      "text/plain": [
       "Empty DataFrame\n",
       "Columns: [PassengerId, Survived, Pclass, Name, Sex, Age, SibSp, Parch, Ticket, Fare, Cabin, Embarked]\n",
       "Index: []"
      ]
     },
     "execution_count": 3,
     "metadata": {},
     "output_type": "execute_result"
    }
   ],
   "source": [
    "#Check Duplicates:\n",
    "dupstr = df.duplicated()\n",
    "print('Total no of duplicate values in Training Dataset = %d' % (dupstr.sum()))\n",
    "df[dupstr]"
   ]
  },
  {
   "cell_type": "code",
   "execution_count": 4,
   "id": "dd5f69ed",
   "metadata": {
    "execution": {
     "iopub.execute_input": "2022-10-12T20:26:55.815917Z",
     "iopub.status.busy": "2022-10-12T20:26:55.814977Z",
     "iopub.status.idle": "2022-10-12T20:26:55.824792Z",
     "shell.execute_reply": "2022-10-12T20:26:55.823788Z"
    },
    "papermill": {
     "duration": 0.048452,
     "end_time": "2022-10-12T20:26:55.826730",
     "exception": false,
     "start_time": "2022-10-12T20:26:55.778278",
     "status": "completed"
    },
    "tags": []
   },
   "outputs": [
    {
     "name": "stdout",
     "output_type": "stream",
     "text": [
      "Missing data by column as a percent:\n",
      "Cabin          0.771044\n",
      "Age            0.198653\n",
      "Embarked       0.002245\n",
      "PassengerId    0.000000\n",
      "Survived       0.000000\n",
      "dtype: float64\n"
     ]
    }
   ],
   "source": [
    "#search for columns with missing values:\n",
    "def findNA():\n",
    "    print(\"Missing data by column as a percent:\")\n",
    "    findNA=df.isnull().sum().sort_values(ascending=False)/len(df)\n",
    "    print(findNA.head())\n",
    "findNA() "
   ]
  },
  {
   "cell_type": "markdown",
   "id": "2d5fe4ca",
   "metadata": {
    "papermill": {
     "duration": 0.036029,
     "end_time": "2022-10-12T20:26:55.902154",
     "exception": false,
     "start_time": "2022-10-12T20:26:55.866125",
     "status": "completed"
    },
    "tags": []
   },
   "source": [
    "# Feature Engineer\n",
    "We need to replace male and female into numbers. This is a very important part of the process because gender is one of the highest predictors on if a person survived or not."
   ]
  },
  {
   "cell_type": "code",
   "execution_count": 5,
   "id": "91bfd763",
   "metadata": {
    "execution": {
     "iopub.execute_input": "2022-10-12T20:26:55.976128Z",
     "iopub.status.busy": "2022-10-12T20:26:55.975351Z",
     "iopub.status.idle": "2022-10-12T20:26:55.981144Z",
     "shell.execute_reply": "2022-10-12T20:26:55.980586Z"
    },
    "papermill": {
     "duration": 0.043951,
     "end_time": "2022-10-12T20:26:55.983032",
     "exception": false,
     "start_time": "2022-10-12T20:26:55.939081",
     "status": "completed"
    },
    "tags": []
   },
   "outputs": [],
   "source": [
    "#GENDER\n",
    "df['Sex']=df['Sex'].map({'female':0,'male':1})"
   ]
  },
  {
   "cell_type": "markdown",
   "id": "48490c67",
   "metadata": {
    "papermill": {
     "duration": 0.035498,
     "end_time": "2022-10-12T20:26:56.053868",
     "exception": false,
     "start_time": "2022-10-12T20:26:56.018370",
     "status": "completed"
    },
    "tags": []
   },
   "source": [
    "Females whose number is 0 had a much higher chance of surving than males. Later on, doing the importance feature analysis we will view that gender is actually one of the highest predictors. "
   ]
  },
  {
   "cell_type": "code",
   "execution_count": 6,
   "id": "99283c4c",
   "metadata": {
    "execution": {
     "iopub.execute_input": "2022-10-12T20:26:56.126032Z",
     "iopub.status.busy": "2022-10-12T20:26:56.125155Z",
     "iopub.status.idle": "2022-10-12T20:26:56.154088Z",
     "shell.execute_reply": "2022-10-12T20:26:56.153476Z"
    },
    "papermill": {
     "duration": 0.066874,
     "end_time": "2022-10-12T20:26:56.156047",
     "exception": false,
     "start_time": "2022-10-12T20:26:56.089173",
     "status": "completed"
    },
    "tags": []
   },
   "outputs": [
    {
     "data": {
      "text/html": [
       "<div>\n",
       "<style scoped>\n",
       "    .dataframe tbody tr th:only-of-type {\n",
       "        vertical-align: middle;\n",
       "    }\n",
       "\n",
       "    .dataframe tbody tr th {\n",
       "        vertical-align: top;\n",
       "    }\n",
       "\n",
       "    .dataframe thead th {\n",
       "        text-align: right;\n",
       "    }\n",
       "</style>\n",
       "<table border=\"1\" class=\"dataframe\">\n",
       "  <thead>\n",
       "    <tr style=\"text-align: right;\">\n",
       "      <th>Sex</th>\n",
       "      <th>0</th>\n",
       "      <th>1</th>\n",
       "    </tr>\n",
       "    <tr>\n",
       "      <th>Survived</th>\n",
       "      <th></th>\n",
       "      <th></th>\n",
       "    </tr>\n",
       "  </thead>\n",
       "  <tbody>\n",
       "    <tr>\n",
       "      <th>0</th>\n",
       "      <td>81</td>\n",
       "      <td>468</td>\n",
       "    </tr>\n",
       "    <tr>\n",
       "      <th>1</th>\n",
       "      <td>233</td>\n",
       "      <td>109</td>\n",
       "    </tr>\n",
       "  </tbody>\n",
       "</table>\n",
       "</div>"
      ],
      "text/plain": [
       "Sex         0    1\n",
       "Survived          \n",
       "0          81  468\n",
       "1         233  109"
      ]
     },
     "execution_count": 6,
     "metadata": {},
     "output_type": "execute_result"
    }
   ],
   "source": [
    "genderTable = pd.crosstab(df['Survived'],df['Sex'])\n",
    "genderTable"
   ]
  },
  {
   "cell_type": "markdown",
   "id": "62add6f7",
   "metadata": {
    "papermill": {
     "duration": 0.03559,
     "end_time": "2022-10-12T20:26:56.226958",
     "exception": false,
     "start_time": "2022-10-12T20:26:56.191368",
     "status": "completed"
    },
    "tags": []
   },
   "source": [
    "# Encode Categorical Variables\n",
    "Encode Categorical Variables is needed for this dataset since there are many important variables that are not numeric yet. \n",
    "\n",
    "There are three classes C, Q, and S. Class C seems to have the highest chance of survival. Class S has the lowest chance of survival. Unfornately this would tend to show that economic status seems to played a part in the decision if someone survived or not. Embarked does not play role major role in feature importance. "
   ]
  },
  {
   "cell_type": "code",
   "execution_count": 7,
   "id": "1b53f28a",
   "metadata": {
    "execution": {
     "iopub.execute_input": "2022-10-12T20:26:56.299846Z",
     "iopub.status.busy": "2022-10-12T20:26:56.299306Z",
     "iopub.status.idle": "2022-10-12T20:26:56.492545Z",
     "shell.execute_reply": "2022-10-12T20:26:56.491640Z"
    },
    "papermill": {
     "duration": 0.232769,
     "end_time": "2022-10-12T20:26:56.495062",
     "exception": false,
     "start_time": "2022-10-12T20:26:56.262293",
     "status": "completed"
    },
    "tags": []
   },
   "outputs": [],
   "source": [
    "import category_encoders as ce\n",
    "#encoder = ce.OrdinalEncoder(cols=['Embarked'])\n",
    "\n",
    "#df = encoder.fit_transform(df)\n",
    "#test = encoder.fit_transform(test)\n",
    "#test.head()"
   ]
  },
  {
   "cell_type": "markdown",
   "id": "a841bbb6",
   "metadata": {
    "papermill": {
     "duration": 0.036959,
     "end_time": "2022-10-12T20:26:56.568758",
     "exception": false,
     "start_time": "2022-10-12T20:26:56.531799",
     "status": "completed"
    },
    "tags": []
   },
   "source": [
    "# Examine Target Variable\n",
    "Survived is the Y variable we will be analyzing. Since the survival rete is 0.384 the data is not considered unbalanced. "
   ]
  },
  {
   "cell_type": "code",
   "execution_count": 8,
   "id": "b18fda15",
   "metadata": {
    "execution": {
     "iopub.execute_input": "2022-10-12T20:26:56.646146Z",
     "iopub.status.busy": "2022-10-12T20:26:56.645644Z",
     "iopub.status.idle": "2022-10-12T20:26:56.653313Z",
     "shell.execute_reply": "2022-10-12T20:26:56.652193Z"
    },
    "papermill": {
     "duration": 0.048993,
     "end_time": "2022-10-12T20:26:56.655510",
     "exception": false,
     "start_time": "2022-10-12T20:26:56.606517",
     "status": "completed"
    },
    "tags": []
   },
   "outputs": [
    {
     "name": "stdout",
     "output_type": "stream",
     "text": [
      "0    549\n",
      "1    342\n",
      "Name: Survived, dtype: int64\n",
      "Percent that survived:  0.384\n"
     ]
    }
   ],
   "source": [
    "temp=df['Survived'].value_counts()\n",
    "print(temp)\n",
    "no=temp[0]\n",
    "yes=temp[1]\n",
    "percent=round(yes/(yes+no),3)\n",
    "print(\"Percent that survived: \", percent)"
   ]
  },
  {
   "cell_type": "markdown",
   "id": "e5903bb3",
   "metadata": {
    "papermill": {
     "duration": 0.037136,
     "end_time": "2022-10-12T20:26:56.731309",
     "exception": false,
     "start_time": "2022-10-12T20:26:56.694173",
     "status": "completed"
    },
    "tags": []
   },
   "source": [
    "# Numeric DataFrame\n",
    "For now, we will analyze only numeric values. Categorical values will need to be encoded or analyzed individually."
   ]
  },
  {
   "cell_type": "code",
   "execution_count": 9,
   "id": "0e44375c",
   "metadata": {
    "execution": {
     "iopub.execute_input": "2022-10-12T20:26:56.807821Z",
     "iopub.status.busy": "2022-10-12T20:26:56.807523Z",
     "iopub.status.idle": "2022-10-12T20:26:56.822344Z",
     "shell.execute_reply": "2022-10-12T20:26:56.821657Z"
    },
    "papermill": {
     "duration": 0.055491,
     "end_time": "2022-10-12T20:26:56.824329",
     "exception": false,
     "start_time": "2022-10-12T20:26:56.768838",
     "status": "completed"
    },
    "tags": []
   },
   "outputs": [
    {
     "data": {
      "text/html": [
       "<div>\n",
       "<style scoped>\n",
       "    .dataframe tbody tr th:only-of-type {\n",
       "        vertical-align: middle;\n",
       "    }\n",
       "\n",
       "    .dataframe tbody tr th {\n",
       "        vertical-align: top;\n",
       "    }\n",
       "\n",
       "    .dataframe thead th {\n",
       "        text-align: right;\n",
       "    }\n",
       "</style>\n",
       "<table border=\"1\" class=\"dataframe\">\n",
       "  <thead>\n",
       "    <tr style=\"text-align: right;\">\n",
       "      <th></th>\n",
       "      <th>PassengerId</th>\n",
       "      <th>Survived</th>\n",
       "      <th>Pclass</th>\n",
       "      <th>Sex</th>\n",
       "      <th>Age</th>\n",
       "      <th>SibSp</th>\n",
       "      <th>Parch</th>\n",
       "      <th>Fare</th>\n",
       "    </tr>\n",
       "  </thead>\n",
       "  <tbody>\n",
       "    <tr>\n",
       "      <th>0</th>\n",
       "      <td>1</td>\n",
       "      <td>0</td>\n",
       "      <td>3</td>\n",
       "      <td>1</td>\n",
       "      <td>22.0</td>\n",
       "      <td>1</td>\n",
       "      <td>0</td>\n",
       "      <td>7.2500</td>\n",
       "    </tr>\n",
       "    <tr>\n",
       "      <th>1</th>\n",
       "      <td>2</td>\n",
       "      <td>1</td>\n",
       "      <td>1</td>\n",
       "      <td>0</td>\n",
       "      <td>38.0</td>\n",
       "      <td>1</td>\n",
       "      <td>0</td>\n",
       "      <td>71.2833</td>\n",
       "    </tr>\n",
       "    <tr>\n",
       "      <th>2</th>\n",
       "      <td>3</td>\n",
       "      <td>1</td>\n",
       "      <td>3</td>\n",
       "      <td>0</td>\n",
       "      <td>26.0</td>\n",
       "      <td>0</td>\n",
       "      <td>0</td>\n",
       "      <td>7.9250</td>\n",
       "    </tr>\n",
       "    <tr>\n",
       "      <th>3</th>\n",
       "      <td>4</td>\n",
       "      <td>1</td>\n",
       "      <td>1</td>\n",
       "      <td>0</td>\n",
       "      <td>35.0</td>\n",
       "      <td>1</td>\n",
       "      <td>0</td>\n",
       "      <td>53.1000</td>\n",
       "    </tr>\n",
       "    <tr>\n",
       "      <th>4</th>\n",
       "      <td>5</td>\n",
       "      <td>0</td>\n",
       "      <td>3</td>\n",
       "      <td>1</td>\n",
       "      <td>35.0</td>\n",
       "      <td>0</td>\n",
       "      <td>0</td>\n",
       "      <td>8.0500</td>\n",
       "    </tr>\n",
       "  </tbody>\n",
       "</table>\n",
       "</div>"
      ],
      "text/plain": [
       "   PassengerId  Survived  Pclass  Sex   Age  SibSp  Parch     Fare\n",
       "0            1         0       3    1  22.0      1      0   7.2500\n",
       "1            2         1       1    0  38.0      1      0  71.2833\n",
       "2            3         1       3    0  26.0      0      0   7.9250\n",
       "3            4         1       1    0  35.0      1      0  53.1000\n",
       "4            5         0       3    1  35.0      0      0   8.0500"
      ]
     },
     "execution_count": 9,
     "metadata": {},
     "output_type": "execute_result"
    }
   ],
   "source": [
    "numerics = ['int16', 'int32', 'int64', 'float16', 'float32', 'float64']\n",
    "df = df.select_dtypes(include=numerics)\n",
    "df.head()"
   ]
  },
  {
   "cell_type": "markdown",
   "id": "c9c57cad",
   "metadata": {
    "papermill": {
     "duration": 0.037045,
     "end_time": "2022-10-12T20:26:56.899407",
     "exception": false,
     "start_time": "2022-10-12T20:26:56.862362",
     "status": "completed"
    },
    "tags": []
   },
   "source": [
    "# Check for missing values\n",
    "Age is missing around 20% of values.Therefore, we can simply fill in the mean for that one column."
   ]
  },
  {
   "cell_type": "code",
   "execution_count": 10,
   "id": "0431ddc5",
   "metadata": {
    "execution": {
     "iopub.execute_input": "2022-10-12T20:26:56.975434Z",
     "iopub.status.busy": "2022-10-12T20:26:56.975150Z",
     "iopub.status.idle": "2022-10-12T20:26:56.983892Z",
     "shell.execute_reply": "2022-10-12T20:26:56.982963Z"
    },
    "papermill": {
     "duration": 0.049946,
     "end_time": "2022-10-12T20:26:56.986145",
     "exception": false,
     "start_time": "2022-10-12T20:26:56.936199",
     "status": "completed"
    },
    "tags": []
   },
   "outputs": [
    {
     "name": "stdout",
     "output_type": "stream",
     "text": [
      "Missing data by column as a percent:\n",
      "Age            0.198653\n",
      "PassengerId    0.000000\n",
      "Survived       0.000000\n",
      "Pclass         0.000000\n",
      "Sex            0.000000\n",
      "dtype: float64\n"
     ]
    }
   ],
   "source": [
    "#search for columns with missing values:\n",
    "def findNA():\n",
    "    print(\"Missing data by column as a percent:\")\n",
    "    findNA=df.isnull().sum().sort_values(ascending=False)/len(df)\n",
    "    print(findNA.head())\n",
    "findNA() "
   ]
  },
  {
   "cell_type": "code",
   "execution_count": 11,
   "id": "ab46ec1a",
   "metadata": {
    "execution": {
     "iopub.execute_input": "2022-10-12T20:26:57.066147Z",
     "iopub.status.busy": "2022-10-12T20:26:57.065263Z",
     "iopub.status.idle": "2022-10-12T20:26:57.072986Z",
     "shell.execute_reply": "2022-10-12T20:26:57.072011Z"
    },
    "papermill": {
     "duration": 0.048912,
     "end_time": "2022-10-12T20:26:57.075230",
     "exception": false,
     "start_time": "2022-10-12T20:26:57.026318",
     "status": "completed"
    },
    "tags": []
   },
   "outputs": [],
   "source": [
    "df= df.fillna(df.mean())"
   ]
  },
  {
   "cell_type": "markdown",
   "id": "3f367864",
   "metadata": {
    "papermill": {
     "duration": 0.038433,
     "end_time": "2022-10-12T20:26:57.152362",
     "exception": false,
     "start_time": "2022-10-12T20:26:57.113929",
     "status": "completed"
    },
    "tags": []
   },
   "source": [
    "# Split Data"
   ]
  },
  {
   "cell_type": "code",
   "execution_count": 12,
   "id": "1dc2c2a9",
   "metadata": {
    "execution": {
     "iopub.execute_input": "2022-10-12T20:26:57.232940Z",
     "iopub.status.busy": "2022-10-12T20:26:57.232084Z",
     "iopub.status.idle": "2022-10-12T20:26:57.239156Z",
     "shell.execute_reply": "2022-10-12T20:26:57.238465Z"
    },
    "papermill": {
     "duration": 0.049886,
     "end_time": "2022-10-12T20:26:57.241281",
     "exception": false,
     "start_time": "2022-10-12T20:26:57.191395",
     "status": "completed"
    },
    "tags": []
   },
   "outputs": [],
   "source": [
    "X=df.drop('Survived', axis=1)\n",
    "y=df['Survived']\n",
    "\n",
    "X_train, X_test, y_train, y_test = train_test_split(\n",
    "    X, y, test_size = 0.30, random_state = 42)"
   ]
  },
  {
   "cell_type": "markdown",
   "id": "dd5b1990",
   "metadata": {
    "papermill": {
     "duration": 0.038196,
     "end_time": "2022-10-12T20:26:57.318047",
     "exception": false,
     "start_time": "2022-10-12T20:26:57.279851",
     "status": "completed"
    },
    "tags": []
   },
   "source": [
    "# Highly Correlated Features\n",
    "There are no highly correlated variables above 80%. Therefore, we do not need to be concerned about removing variables that are too highly correlated. "
   ]
  },
  {
   "cell_type": "markdown",
   "id": "e78ceee4",
   "metadata": {
    "papermill": {
     "duration": 0.036602,
     "end_time": "2022-10-12T20:26:57.395121",
     "exception": false,
     "start_time": "2022-10-12T20:26:57.358519",
     "status": "completed"
    },
    "tags": []
   },
   "source": [
    "# K-Nearest Neighbors (KNN)\n",
    "Initial tuning provides around a .59 AUC. This model does not seem to be very effective on this dataset."
   ]
  },
  {
   "cell_type": "markdown",
   "id": "0ddf7108",
   "metadata": {
    "papermill": {
     "duration": 0.037305,
     "end_time": "2022-10-12T20:26:57.469252",
     "exception": false,
     "start_time": "2022-10-12T20:26:57.431947",
     "status": "completed"
    },
    "tags": []
   },
   "source": [
    "n_neighbors = 3 provides the least amount of error:"
   ]
  },
  {
   "cell_type": "code",
   "execution_count": 13,
   "id": "b6769161",
   "metadata": {
    "execution": {
     "iopub.execute_input": "2022-10-12T20:26:57.548516Z",
     "iopub.status.busy": "2022-10-12T20:26:57.547896Z",
     "iopub.status.idle": "2022-10-12T20:26:57.557012Z",
     "shell.execute_reply": "2022-10-12T20:26:57.556182Z"
    },
    "papermill": {
     "duration": 0.051633,
     "end_time": "2022-10-12T20:26:57.559182",
     "exception": false,
     "start_time": "2022-10-12T20:26:57.507549",
     "status": "completed"
    },
    "tags": []
   },
   "outputs": [],
   "source": [
    "from sklearn.neighbors import KNeighborsClassifier, KNeighborsRegressor\n",
    "\n",
    "def knnError():\n",
    "    numbers=list(range(1, 16, 2))\n",
    "    error_rates = []\n",
    "    accList=[]\n",
    "    for n in numbers: #Must be an odd number to break a tie\n",
    "        new_model = KNeighborsClassifier(n_neighbors =  n)\n",
    "        new_model.fit(X_train, y_train)\n",
    "        y_pred = new_model.predict(X_test)\n",
    "        error_rates.append(np.mean( y_pred != y_test))\n",
    "        knn_auc = round( metrics.roc_auc_score(y_test,  y_pred), 4 ) \n",
    "        accList.append(knn_auc)\n",
    "    plt.plot(numbers, error_rates)\n",
    "    plt.title(\"KNN Error n_neighbors\")\n",
    "    plt.xlabel(\"n_neighbors\")\n",
    "    plt.ylabel(\"Error Rate\")\n",
    "    plt.show()\n",
    "    \n",
    "    plt.plot(numbers, accList)\n",
    "    plt.title(\"Knn Accuracy \")\n",
    "    plt.xlabel(\"n_neighbors\")\n",
    "    plt.ylabel(\"Accuracy\")\n",
    "    plt.show()\n",
    "#knnError() "
   ]
  },
  {
   "cell_type": "code",
   "execution_count": 14,
   "id": "7d4307c0",
   "metadata": {
    "execution": {
     "iopub.execute_input": "2022-10-12T20:26:57.638664Z",
     "iopub.status.busy": "2022-10-12T20:26:57.638347Z",
     "iopub.status.idle": "2022-10-12T20:26:57.645866Z",
     "shell.execute_reply": "2022-10-12T20:26:57.644952Z"
    },
    "papermill": {
     "duration": 0.049661,
     "end_time": "2022-10-12T20:26:57.647940",
     "exception": false,
     "start_time": "2022-10-12T20:26:57.598279",
     "status": "completed"
    },
    "tags": []
   },
   "outputs": [],
   "source": [
    "def knnLeaf():\n",
    "    error_rates = []\n",
    "    accList=[]\n",
    "    numbers=list(range(1,50))\n",
    "    for n in numbers: \n",
    "        new_model = KNeighborsClassifier(leaf_size =  n)\n",
    "        new_model.fit(X_train, y_train)\n",
    "        y_pred = new_model.predict(X_test)\n",
    "        error_rates.append(np.mean(y_pred != y_test))\n",
    "        knn_auc = round( metrics.roc_auc_score(y_test,  y_pred), 4 ) \n",
    "        accList.append(knn_auc)\n",
    "        #print(\"Knn AUC: \", knn_auc)\n",
    "    plt.plot(numbers, error_rates)\n",
    "    plt.title(\"KNN Error\")\n",
    "    plt.xlabel(\"leaf_size\")\n",
    "    plt.ylabel(\"Error Rate\")\n",
    "    plt.show()\n",
    "    \n",
    "    plt.plot(numbers, accList)\n",
    "    plt.title(\"Knn Accuracy \")\n",
    "    plt.xlabel(\"leaf_size\")\n",
    "    plt.ylabel(\"Accuracy\")\n",
    "    plt.show()\n",
    "#knnLeaf() "
   ]
  },
  {
   "cell_type": "markdown",
   "id": "862198fa",
   "metadata": {
    "papermill": {
     "duration": 0.037836,
     "end_time": "2022-10-12T20:26:57.724660",
     "exception": false,
     "start_time": "2022-10-12T20:26:57.686824",
     "status": "completed"
    },
    "tags": []
   },
   "source": [
    "# KNN GridSearch"
   ]
  },
  {
   "cell_type": "code",
   "execution_count": 15,
   "id": "9d9c30d3",
   "metadata": {
    "execution": {
     "iopub.execute_input": "2022-10-12T20:26:57.803332Z",
     "iopub.status.busy": "2022-10-12T20:26:57.803062Z",
     "iopub.status.idle": "2022-10-12T20:26:57.808092Z",
     "shell.execute_reply": "2022-10-12T20:26:57.807448Z"
    },
    "papermill": {
     "duration": 0.04649,
     "end_time": "2022-10-12T20:26:57.810036",
     "exception": false,
     "start_time": "2022-10-12T20:26:57.763546",
     "status": "completed"
    },
    "tags": []
   },
   "outputs": [],
   "source": [
    "def knnGrid():\n",
    "    n_neighbors = list(range(1, 16, 2))\n",
    "    p=[1,2]\n",
    "\n",
    "    print(\"start\")\n",
    "    params=dict(n_neighbors=n_neighbors, p=p, metric= ['euclidean', 'manhattan'])\n",
    "    grid=GridSearchCV(KNeighborsClassifier(), params, cv=5, scoring='accuracy')\n",
    "    knnGrid=grid.fit(X, y)\n",
    "    print(knnGrid.best_estimator_)\n",
    "#knnGrid()"
   ]
  },
  {
   "cell_type": "markdown",
   "id": "3863e7e8",
   "metadata": {
    "papermill": {
     "duration": 0.037456,
     "end_time": "2022-10-12T20:26:57.885705",
     "exception": false,
     "start_time": "2022-10-12T20:26:57.848249",
     "status": "completed"
    },
    "tags": []
   },
   "source": [
    "# Final KNN Prediction"
   ]
  },
  {
   "cell_type": "code",
   "execution_count": 16,
   "id": "9925057b",
   "metadata": {
    "execution": {
     "iopub.execute_input": "2022-10-12T20:26:57.963274Z",
     "iopub.status.busy": "2022-10-12T20:26:57.962430Z",
     "iopub.status.idle": "2022-10-12T20:26:57.979680Z",
     "shell.execute_reply": "2022-10-12T20:26:57.978895Z"
    },
    "papermill": {
     "duration": 0.058059,
     "end_time": "2022-10-12T20:26:57.981793",
     "exception": false,
     "start_time": "2022-10-12T20:26:57.923734",
     "status": "completed"
    },
    "tags": []
   },
   "outputs": [
    {
     "name": "stdout",
     "output_type": "stream",
     "text": [
      "Knn AUC:  0.6723\n",
      "MSE  0.4751\n"
     ]
    }
   ],
   "source": [
    "knnFinal = KNeighborsClassifier(n_neighbors =15, p=1, metric='manhattan')\n",
    "\n",
    "#FIT and PREDICT:\n",
    "knnFinal.fit(X_train, y_train)\n",
    "y_pred =  knnFinal.predict_proba(X_test)[::,1]\n",
    "\n",
    "#calculate AUC of model\n",
    "knn_auc = round( metrics.roc_auc_score(y_test, y_pred ), 4 ) \n",
    "print(\"Knn AUC: \", knn_auc)\n",
    "error = round(sqrt(mean_squared_error(y_test, y_pred )), 4)\n",
    "print(\"MSE \", error)"
   ]
  },
  {
   "cell_type": "markdown",
   "id": "42bacf4d",
   "metadata": {
    "papermill": {
     "duration": 0.037618,
     "end_time": "2022-10-12T20:26:58.058541",
     "exception": false,
     "start_time": "2022-10-12T20:26:58.020923",
     "status": "completed"
    },
    "tags": []
   },
   "source": [
    "# Support Vector \n",
    "The initial results for SVM AUC with no parameter tunning is 0.5336.  The model does not seem worth investing lots of time into due to poor AUC performance. \n",
    "\n",
    "#### GridSearch Tune\n",
    "The best parameters from tunning SVM is SVC(C=1000, gamma=0.0001)."
   ]
  },
  {
   "cell_type": "code",
   "execution_count": 17,
   "id": "313b0e90",
   "metadata": {
    "execution": {
     "iopub.execute_input": "2022-10-12T20:26:58.136725Z",
     "iopub.status.busy": "2022-10-12T20:26:58.136007Z",
     "iopub.status.idle": "2022-10-12T20:26:58.140462Z",
     "shell.execute_reply": "2022-10-12T20:26:58.139763Z"
    },
    "papermill": {
     "duration": 0.04598,
     "end_time": "2022-10-12T20:26:58.142677",
     "exception": false,
     "start_time": "2022-10-12T20:26:58.096697",
     "status": "completed"
    },
    "tags": []
   },
   "outputs": [],
   "source": [
    "def svmC():\n",
    "    numbers=[.0001, .001, .01, .1, 1, 10]\n",
    "    "
   ]
  },
  {
   "cell_type": "code",
   "execution_count": 18,
   "id": "d91e7a2a",
   "metadata": {
    "execution": {
     "iopub.execute_input": "2022-10-12T20:26:58.223768Z",
     "iopub.status.busy": "2022-10-12T20:26:58.223246Z",
     "iopub.status.idle": "2022-10-12T20:26:58.229342Z",
     "shell.execute_reply": "2022-10-12T20:26:58.228379Z"
    },
    "papermill": {
     "duration": 0.049215,
     "end_time": "2022-10-12T20:26:58.231486",
     "exception": false,
     "start_time": "2022-10-12T20:26:58.182271",
     "status": "completed"
    },
    "tags": []
   },
   "outputs": [],
   "source": [
    "from sklearn.svm import SVC\n",
    " \n",
    "def svmGrid():\n",
    "    print(\"start\")\n",
    "    param_grid = {'C': [0.1, 1, 10, 100, 1000],\n",
    "                  'gamma': [10, 1, 0.1, 0.01, 0.001],\n",
    "                 'kernel': ['rbf', 'linear']\n",
    "                 }\n",
    "\n",
    "    grid = GridSearchCV(SVC(), param_grid, refit = True, verbose = False)\n",
    "    grid.fit(X_train, y_train)\n",
    "    print(grid.best_params_)\n",
    "    print(grid.best_estimator_)\n",
    "#svmGrid()"
   ]
  },
  {
   "cell_type": "markdown",
   "id": "e9d966b1",
   "metadata": {
    "papermill": {
     "duration": 0.039518,
     "end_time": "2022-10-12T20:26:58.310035",
     "exception": false,
     "start_time": "2022-10-12T20:26:58.270517",
     "status": "completed"
    },
    "tags": []
   },
   "source": [
    "# Final SVM Prediction\n",
    "Best GridSearchCV from above:\n",
    "* SVC(C=1000, gamma=0.0001)"
   ]
  },
  {
   "cell_type": "code",
   "execution_count": 19,
   "id": "47154686",
   "metadata": {
    "execution": {
     "iopub.execute_input": "2022-10-12T20:26:58.392148Z",
     "iopub.status.busy": "2022-10-12T20:26:58.391650Z",
     "iopub.status.idle": "2022-10-12T20:27:35.617741Z",
     "shell.execute_reply": "2022-10-12T20:27:35.616998Z"
    },
    "papermill": {
     "duration": 37.269663,
     "end_time": "2022-10-12T20:27:35.620273",
     "exception": false,
     "start_time": "2022-10-12T20:26:58.350610",
     "status": "completed"
    },
    "tags": []
   },
   "outputs": [
    {
     "name": "stdout",
     "output_type": "stream",
     "text": [
      "SVC AUC is:  0.7842\n"
     ]
    },
    {
     "data": {
      "text/plain": [
       "<Figure size 360x504 with 0 Axes>"
      ]
     },
     "metadata": {},
     "output_type": "display_data"
    },
    {
     "data": {
      "image/png": "[encoded data removed]",
      "text/plain": [
       "<Figure size 360x360 with 1 Axes>"
      ]
     },
     "metadata": {
      "needs_background": "light"
     },
     "output_type": "display_data"
    },
    {
     "data": {
      "image/png": "[encoded data removed]",
      "text/plain": [
       "<Figure size 360x360 with 1 Axes>"
      ]
     },
     "metadata": {
      "needs_background": "light"
     },
     "output_type": "display_data"
    }
   ],
   "source": [
    "#Fit and Predict:\n",
    "svmFinal=SVC(C=1000, gamma=0.0001, kernel = 'linear')\n",
    "svmFinal.fit(X_train, y_train)\n",
    "y_pred = svmFinal.predict(X_test)\n",
    "\n",
    "#calculate AUC of model\n",
    "svmAUC = round( metrics.roc_auc_score(y_test, y_pred, multi_class='ovr'), 4 ) \n",
    "print(\"SVC AUC is: \", svmAUC)\n",
    "\n",
    "svmR2 = r2_score(y_test, y_pred).round(4) \n",
    "svmMAE=metrics.mean_absolute_error(y_test, y_pred)\n",
    "\n",
    "plt.figure(figsize=(5, 7))\n",
    "ax = sns.displot(y,  color=\"r\", label=\"Actual Value\")\n",
    "sns.displot(y_test, color=\"b\", label=\"Fitted Values\")\n",
    "plt.title('Actual vs Fitted Values')\n",
    "plt.show()"
   ]
  },
  {
   "cell_type": "code",
   "execution_count": 20,
   "id": "13d80c10",
   "metadata": {
    "execution": {
     "iopub.execute_input": "2022-10-12T20:27:35.699835Z",
     "iopub.status.busy": "2022-10-12T20:27:35.699337Z",
     "iopub.status.idle": "2022-10-12T20:27:38.903007Z",
     "shell.execute_reply": "2022-10-12T20:27:38.902206Z"
    },
    "papermill": {
     "duration": 3.245649,
     "end_time": "2022-10-12T20:27:38.905138",
     "exception": false,
     "start_time": "2022-10-12T20:27:35.659489",
     "status": "completed"
    },
    "tags": []
   },
   "outputs": [
    {
     "data": {
      "text/plain": [
       "Text(0.5, 1.0, 'SVM Decision Region Boundary')"
      ]
     },
     "execution_count": 20,
     "metadata": {},
     "output_type": "execute_result"
    },
    {
     "data": {
      "image/png": "[encoded data removed]",
      "text/plain": [
       "<Figure size 432x288 with 1 Axes>"
      ]
     },
     "metadata": {
      "needs_background": "light"
     },
     "output_type": "display_data"
    }
   ],
   "source": [
    "from sklearn.decomposition import PCA\n",
    "from mlxtend.plotting import plot_decision_regions\n",
    "import numpy as np\n",
    "\n",
    "clf = SVC(C=100,gamma=0.0001)\n",
    "pca = PCA(n_components = 2)\n",
    "X_train2 = pca.fit_transform(np.array(X_train))\n",
    "y_train2=np.array(y_train)\n",
    "clf.fit(X_train2, y_train2)\n",
    "plot_decision_regions(X_train2, y_train2, clf=clf, legend=2)\n",
    "\n",
    "plt.xlabel(X.columns[0], size=14)\n",
    "plt.ylabel(X.columns[1], size=14)\n",
    "plt.title('SVM Decision Region Boundary', size=16)"
   ]
  },
  {
   "cell_type": "markdown",
   "id": "cff3d2c0",
   "metadata": {
    "papermill": {
     "duration": 0.040774,
     "end_time": "2022-10-12T20:27:38.987151",
     "exception": false,
     "start_time": "2022-10-12T20:27:38.946377",
     "status": "completed"
    },
    "tags": []
   },
   "source": [
    "# Test Data"
   ]
  },
  {
   "cell_type": "code",
   "execution_count": 21,
   "id": "74eaa38e",
   "metadata": {
    "execution": {
     "iopub.execute_input": "2022-10-12T20:27:39.071118Z",
     "iopub.status.busy": "2022-10-12T20:27:39.070822Z",
     "iopub.status.idle": "2022-10-12T20:27:39.088373Z",
     "shell.execute_reply": "2022-10-12T20:27:39.087727Z"
    },
    "papermill": {
     "duration": 0.061972,
     "end_time": "2022-10-12T20:27:39.090191",
     "exception": false,
     "start_time": "2022-10-12T20:27:39.028219",
     "status": "completed"
    },
    "tags": []
   },
   "outputs": [
    {
     "data": {
      "text/html": [
       "<div>\n",
       "<style scoped>\n",
       "    .dataframe tbody tr th:only-of-type {\n",
       "        vertical-align: middle;\n",
       "    }\n",
       "\n",
       "    .dataframe tbody tr th {\n",
       "        vertical-align: top;\n",
       "    }\n",
       "\n",
       "    .dataframe thead th {\n",
       "        text-align: right;\n",
       "    }\n",
       "</style>\n",
       "<table border=\"1\" class=\"dataframe\">\n",
       "  <thead>\n",
       "    <tr style=\"text-align: right;\">\n",
       "      <th></th>\n",
       "      <th>PassengerId</th>\n",
       "      <th>Pclass</th>\n",
       "      <th>Sex</th>\n",
       "      <th>Age</th>\n",
       "      <th>SibSp</th>\n",
       "      <th>Parch</th>\n",
       "      <th>Fare</th>\n",
       "    </tr>\n",
       "  </thead>\n",
       "  <tbody>\n",
       "    <tr>\n",
       "      <th>0</th>\n",
       "      <td>892</td>\n",
       "      <td>3</td>\n",
       "      <td>1</td>\n",
       "      <td>34.5</td>\n",
       "      <td>0</td>\n",
       "      <td>0</td>\n",
       "      <td>7.8292</td>\n",
       "    </tr>\n",
       "    <tr>\n",
       "      <th>1</th>\n",
       "      <td>893</td>\n",
       "      <td>3</td>\n",
       "      <td>0</td>\n",
       "      <td>47.0</td>\n",
       "      <td>1</td>\n",
       "      <td>0</td>\n",
       "      <td>7.0000</td>\n",
       "    </tr>\n",
       "    <tr>\n",
       "      <th>2</th>\n",
       "      <td>894</td>\n",
       "      <td>2</td>\n",
       "      <td>1</td>\n",
       "      <td>62.0</td>\n",
       "      <td>0</td>\n",
       "      <td>0</td>\n",
       "      <td>9.6875</td>\n",
       "    </tr>\n",
       "    <tr>\n",
       "      <th>3</th>\n",
       "      <td>895</td>\n",
       "      <td>3</td>\n",
       "      <td>1</td>\n",
       "      <td>27.0</td>\n",
       "      <td>0</td>\n",
       "      <td>0</td>\n",
       "      <td>8.6625</td>\n",
       "    </tr>\n",
       "    <tr>\n",
       "      <th>4</th>\n",
       "      <td>896</td>\n",
       "      <td>3</td>\n",
       "      <td>0</td>\n",
       "      <td>22.0</td>\n",
       "      <td>1</td>\n",
       "      <td>1</td>\n",
       "      <td>12.2875</td>\n",
       "    </tr>\n",
       "  </tbody>\n",
       "</table>\n",
       "</div>"
      ],
      "text/plain": [
       "   PassengerId  Pclass  Sex   Age  SibSp  Parch     Fare\n",
       "0          892       3    1  34.5      0      0   7.8292\n",
       "1          893       3    0  47.0      1      0   7.0000\n",
       "2          894       2    1  62.0      0      0   9.6875\n",
       "3          895       3    1  27.0      0      0   8.6625\n",
       "4          896       3    0  22.0      1      1  12.2875"
      ]
     },
     "execution_count": 21,
     "metadata": {},
     "output_type": "execute_result"
    }
   ],
   "source": [
    "#GENDER\n",
    "test['Sex']=test['Sex'].map({'female':0,'male':1})\n",
    "\n",
    "features=list(X.columns)\n",
    "test=test[features]\n",
    "\n",
    "test=test.fillna(test.mean())\n",
    "test.head()"
   ]
  },
  {
   "cell_type": "markdown",
   "id": "205b561c",
   "metadata": {
    "papermill": {
     "duration": 0.042721,
     "end_time": "2022-10-12T20:27:39.175126",
     "exception": false,
     "start_time": "2022-10-12T20:27:39.132405",
     "status": "completed"
    },
    "tags": []
   },
   "source": [
    "# Final Prediction"
   ]
  },
  {
   "cell_type": "code",
   "execution_count": 22,
   "id": "22c7c607",
   "metadata": {
    "execution": {
     "iopub.execute_input": "2022-10-12T20:27:39.261122Z",
     "iopub.status.busy": "2022-10-12T20:27:39.260662Z",
     "iopub.status.idle": "2022-10-12T20:27:39.275411Z",
     "shell.execute_reply": "2022-10-12T20:27:39.274633Z"
    },
    "papermill": {
     "duration": 0.060674,
     "end_time": "2022-10-12T20:27:39.277412",
     "exception": false,
     "start_time": "2022-10-12T20:27:39.216738",
     "status": "completed"
    },
    "tags": []
   },
   "outputs": [
    {
     "data": {
      "text/html": [
       "<div>\n",
       "<style scoped>\n",
       "    .dataframe tbody tr th:only-of-type {\n",
       "        vertical-align: middle;\n",
       "    }\n",
       "\n",
       "    .dataframe tbody tr th {\n",
       "        vertical-align: top;\n",
       "    }\n",
       "\n",
       "    .dataframe thead th {\n",
       "        text-align: right;\n",
       "    }\n",
       "</style>\n",
       "<table border=\"1\" class=\"dataframe\">\n",
       "  <thead>\n",
       "    <tr style=\"text-align: right;\">\n",
       "      <th></th>\n",
       "      <th>PassengerId</th>\n",
       "      <th>Survived</th>\n",
       "    </tr>\n",
       "  </thead>\n",
       "  <tbody>\n",
       "    <tr>\n",
       "      <th>0</th>\n",
       "      <td>892</td>\n",
       "      <td>0</td>\n",
       "    </tr>\n",
       "    <tr>\n",
       "      <th>1</th>\n",
       "      <td>893</td>\n",
       "      <td>0</td>\n",
       "    </tr>\n",
       "    <tr>\n",
       "      <th>2</th>\n",
       "      <td>894</td>\n",
       "      <td>0</td>\n",
       "    </tr>\n",
       "    <tr>\n",
       "      <th>3</th>\n",
       "      <td>895</td>\n",
       "      <td>0</td>\n",
       "    </tr>\n",
       "    <tr>\n",
       "      <th>4</th>\n",
       "      <td>896</td>\n",
       "      <td>0</td>\n",
       "    </tr>\n",
       "    <tr>\n",
       "      <th>5</th>\n",
       "      <td>897</td>\n",
       "      <td>0</td>\n",
       "    </tr>\n",
       "    <tr>\n",
       "      <th>6</th>\n",
       "      <td>898</td>\n",
       "      <td>0</td>\n",
       "    </tr>\n",
       "  </tbody>\n",
       "</table>\n",
       "</div>"
      ],
      "text/plain": [
       "   PassengerId  Survived\n",
       "0          892         0\n",
       "1          893         0\n",
       "2          894         0\n",
       "3          895         0\n",
       "4          896         0\n",
       "5          897         0\n",
       "6          898         0"
      ]
     },
     "execution_count": 22,
     "metadata": {},
     "output_type": "execute_result"
    }
   ],
   "source": [
    "test_predictions = svmFinal.predict(test)\n",
    "passID=test['PassengerId']\n",
    "tupleData = list(zip(passID, test_predictions))\n",
    "output = pd.DataFrame(tupleData, columns = ['PassengerId', 'Survived'])\n",
    "output.head(7)"
   ]
  },
  {
   "cell_type": "code",
   "execution_count": 23,
   "id": "d23a090c",
   "metadata": {
    "execution": {
     "iopub.execute_input": "2022-10-12T20:27:39.363130Z",
     "iopub.status.busy": "2022-10-12T20:27:39.362847Z",
     "iopub.status.idle": "2022-10-12T20:27:39.370861Z",
     "shell.execute_reply": "2022-10-12T20:27:39.369811Z"
    },
    "papermill": {
     "duration": 0.053258,
     "end_time": "2022-10-12T20:27:39.373191",
     "exception": false,
     "start_time": "2022-10-12T20:27:39.319933",
     "status": "completed"
    },
    "tags": []
   },
   "outputs": [
    {
     "name": "stdout",
     "output_type": "stream",
     "text": [
      "Your submission was successfully saved!\n"
     ]
    }
   ],
   "source": [
    "output.to_csv('submission.csv', index=False)\n",
    "print(\"Your submission was successfully saved!\")"
   ]
  },
  {
   "cell_type": "markdown",
   "id": "090dea22",
   "metadata": {
    "papermill": {
     "duration": 0.042039,
     "end_time": "2022-10-12T20:27:39.458494",
     "exception": false,
     "start_time": "2022-10-12T20:27:39.416455",
     "status": "completed"
    },
    "tags": []
   },
   "source": [
    "#### Notes:\n",
    "Being a wife makes no difference in the final prediction: <br>\n",
    "` df['Titles'] = df['Name'].str.extract(r', (\\w+\\.)') \n",
    "df['Titles'] = df['Titles'].apply(lambda x: 1 if x=='Mrs.' else 0) `"
   ]
  }
 ],
 "metadata": {
  "kernelspec": {
   "display_name": "Python 3",
   "language": "python",
   "name": "python3"
  },
  "language_info": {
   "codemirror_mode": {
    "name": "ipython",
    "version": 3
   },
   "file_extension": ".py",
   "mimetype": "text/x-python",
   "name": "python",
   "nbconvert_exporter": "python",
   "pygments_lexer": "ipython3",
   "version": "3.7.12"
  },
  "papermill": {
   "default_parameters": {},
   "duration": 55.502889,
   "end_time": "2022-10-12T20:27:40.222265",
   "environment_variables": {},
   "exception": null,
   "input_path": "__notebook__.ipynb",
   "output_path": "__notebook__.ipynb",
   "parameters": {},
   "start_time": "2022-10-12T20:26:44.719376",
   "version": "2.3.4"
  }
 },
 "nbformat": 4,
 "nbformat_minor": 5
}
