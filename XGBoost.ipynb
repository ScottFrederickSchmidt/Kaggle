{
 "cells": [
  {
   "cell_type": "markdown",
   "id": "07fcf545",
   "metadata": {
    "papermill": {
     "duration": 0.013254,
     "end_time": "2022-10-18T16:58:13.966240",
     "exception": false,
     "start_time": "2022-10-18T16:58:13.952986",
     "status": "completed"
    },
    "tags": []
   },
   "source": [
    "# Predict House Price\n",
    "### XGBoost Search Grid\n",
    "Original with all models: \n",
    "https://github.com/ScottySchmidt/Kaggle/blob/main/PredictHousePrices.ipynb\n",
    "\n",
    "##### Special Notes:\n",
    "* Using .20 for test and kFold=10 improves 3% better score\n",
    "* Removing feature importance with less than .003% makes tunning more consisent with significant results\n",
    "* Tunning learning_rate improved 8% better score\n",
    "* Removing outliers improved 4% better score\n",
    "* Removing similiar features makes couple percent better score\n",
    "* Encoding condition1 improved score by less than 1%"
   ]
  },
  {
   "cell_type": "code",
   "execution_count": 1,
   "id": "34c1a412",
   "metadata": {
    "execution": {
     "iopub.execute_input": "2022-10-18T16:58:13.992029Z",
     "iopub.status.busy": "2022-10-18T16:58:13.991536Z",
     "iopub.status.idle": "2022-10-18T16:58:14.078094Z",
     "shell.execute_reply": "2022-10-18T16:58:14.076489Z"
    },
    "papermill": {
     "duration": 0.10221,
     "end_time": "2022-10-18T16:58:14.080470",
     "exception": false,
     "start_time": "2022-10-18T16:58:13.978260",
     "status": "completed"
    },
    "tags": []
   },
   "outputs": [
    {
     "name": "stdout",
     "output_type": "stream",
     "text": [
      "(1460, 81)\n"
     ]
    },
    {
     "data": {
      "text/html": [
       "<div>\n",
       "<style scoped>\n",
       "    .dataframe tbody tr th:only-of-type {\n",
       "        vertical-align: middle;\n",
       "    }\n",
       "\n",
       "    .dataframe tbody tr th {\n",
       "        vertical-align: top;\n",
       "    }\n",
       "\n",
       "    .dataframe thead th {\n",
       "        text-align: right;\n",
       "    }\n",
       "</style>\n",
       "<table border=\"1\" class=\"dataframe\">\n",
       "  <thead>\n",
       "    <tr style=\"text-align: right;\">\n",
       "      <th></th>\n",
       "      <th>Id</th>\n",
       "      <th>MSSubClass</th>\n",
       "      <th>MSZoning</th>\n",
       "      <th>LotFrontage</th>\n",
       "      <th>LotArea</th>\n",
       "      <th>Street</th>\n",
       "      <th>Alley</th>\n",
       "      <th>LotShape</th>\n",
       "      <th>LandContour</th>\n",
       "      <th>Utilities</th>\n",
       "      <th>...</th>\n",
       "      <th>PoolArea</th>\n",
       "      <th>PoolQC</th>\n",
       "      <th>Fence</th>\n",
       "      <th>MiscFeature</th>\n",
       "      <th>MiscVal</th>\n",
       "      <th>MoSold</th>\n",
       "      <th>YrSold</th>\n",
       "      <th>SaleType</th>\n",
       "      <th>SaleCondition</th>\n",
       "      <th>SalePrice</th>\n",
       "    </tr>\n",
       "  </thead>\n",
       "  <tbody>\n",
       "    <tr>\n",
       "      <th>0</th>\n",
       "      <td>1</td>\n",
       "      <td>60</td>\n",
       "      <td>RL</td>\n",
       "      <td>65.0</td>\n",
       "      <td>8450</td>\n",
       "      <td>Pave</td>\n",
       "      <td>NaN</td>\n",
       "      <td>Reg</td>\n",
       "      <td>Lvl</td>\n",
       "      <td>AllPub</td>\n",
       "      <td>...</td>\n",
       "      <td>0</td>\n",
       "      <td>NaN</td>\n",
       "      <td>NaN</td>\n",
       "      <td>NaN</td>\n",
       "      <td>0</td>\n",
       "      <td>2</td>\n",
       "      <td>2008</td>\n",
       "      <td>WD</td>\n",
       "      <td>Normal</td>\n",
       "      <td>208500</td>\n",
       "    </tr>\n",
       "    <tr>\n",
       "      <th>1</th>\n",
       "      <td>2</td>\n",
       "      <td>20</td>\n",
       "      <td>RL</td>\n",
       "      <td>80.0</td>\n",
       "      <td>9600</td>\n",
       "      <td>Pave</td>\n",
       "      <td>NaN</td>\n",
       "      <td>Reg</td>\n",
       "      <td>Lvl</td>\n",
       "      <td>AllPub</td>\n",
       "      <td>...</td>\n",
       "      <td>0</td>\n",
       "      <td>NaN</td>\n",
       "      <td>NaN</td>\n",
       "      <td>NaN</td>\n",
       "      <td>0</td>\n",
       "      <td>5</td>\n",
       "      <td>2007</td>\n",
       "      <td>WD</td>\n",
       "      <td>Normal</td>\n",
       "      <td>181500</td>\n",
       "    </tr>\n",
       "    <tr>\n",
       "      <th>2</th>\n",
       "      <td>3</td>\n",
       "      <td>60</td>\n",
       "      <td>RL</td>\n",
       "      <td>68.0</td>\n",
       "      <td>11250</td>\n",
       "      <td>Pave</td>\n",
       "      <td>NaN</td>\n",
       "      <td>IR1</td>\n",
       "      <td>Lvl</td>\n",
       "      <td>AllPub</td>\n",
       "      <td>...</td>\n",
       "      <td>0</td>\n",
       "      <td>NaN</td>\n",
       "      <td>NaN</td>\n",
       "      <td>NaN</td>\n",
       "      <td>0</td>\n",
       "      <td>9</td>\n",
       "      <td>2008</td>\n",
       "      <td>WD</td>\n",
       "      <td>Normal</td>\n",
       "      <td>223500</td>\n",
       "    </tr>\n",
       "    <tr>\n",
       "      <th>3</th>\n",
       "      <td>4</td>\n",
       "      <td>70</td>\n",
       "      <td>RL</td>\n",
       "      <td>60.0</td>\n",
       "      <td>9550</td>\n",
       "      <td>Pave</td>\n",
       "      <td>NaN</td>\n",
       "      <td>IR1</td>\n",
       "      <td>Lvl</td>\n",
       "      <td>AllPub</td>\n",
       "      <td>...</td>\n",
       "      <td>0</td>\n",
       "      <td>NaN</td>\n",
       "      <td>NaN</td>\n",
       "      <td>NaN</td>\n",
       "      <td>0</td>\n",
       "      <td>2</td>\n",
       "      <td>2006</td>\n",
       "      <td>WD</td>\n",
       "      <td>Abnorml</td>\n",
       "      <td>140000</td>\n",
       "    </tr>\n",
       "    <tr>\n",
       "      <th>4</th>\n",
       "      <td>5</td>\n",
       "      <td>60</td>\n",
       "      <td>RL</td>\n",
       "      <td>84.0</td>\n",
       "      <td>14260</td>\n",
       "      <td>Pave</td>\n",
       "      <td>NaN</td>\n",
       "      <td>IR1</td>\n",
       "      <td>Lvl</td>\n",
       "      <td>AllPub</td>\n",
       "      <td>...</td>\n",
       "      <td>0</td>\n",
       "      <td>NaN</td>\n",
       "      <td>NaN</td>\n",
       "      <td>NaN</td>\n",
       "      <td>0</td>\n",
       "      <td>12</td>\n",
       "      <td>2008</td>\n",
       "      <td>WD</td>\n",
       "      <td>Normal</td>\n",
       "      <td>250000</td>\n",
       "    </tr>\n",
       "  </tbody>\n",
       "</table>\n",
       "<p>5 rows × 81 columns</p>\n",
       "</div>"
      ],
      "text/plain": [
       "   Id  MSSubClass MSZoning  LotFrontage  LotArea Street Alley LotShape  \\\n",
       "0   1          60       RL         65.0     8450   Pave   NaN      Reg   \n",
       "1   2          20       RL         80.0     9600   Pave   NaN      Reg   \n",
       "2   3          60       RL         68.0    11250   Pave   NaN      IR1   \n",
       "3   4          70       RL         60.0     9550   Pave   NaN      IR1   \n",
       "4   5          60       RL         84.0    14260   Pave   NaN      IR1   \n",
       "\n",
       "  LandContour Utilities  ... PoolArea PoolQC Fence MiscFeature MiscVal MoSold  \\\n",
       "0         Lvl    AllPub  ...        0    NaN   NaN         NaN       0      2   \n",
       "1         Lvl    AllPub  ...        0    NaN   NaN         NaN       0      5   \n",
       "2         Lvl    AllPub  ...        0    NaN   NaN         NaN       0      9   \n",
       "3         Lvl    AllPub  ...        0    NaN   NaN         NaN       0      2   \n",
       "4         Lvl    AllPub  ...        0    NaN   NaN         NaN       0     12   \n",
       "\n",
       "  YrSold  SaleType  SaleCondition  SalePrice  \n",
       "0   2008        WD         Normal     208500  \n",
       "1   2007        WD         Normal     181500  \n",
       "2   2008        WD         Normal     223500  \n",
       "3   2006        WD        Abnorml     140000  \n",
       "4   2008        WD         Normal     250000  \n",
       "\n",
       "[5 rows x 81 columns]"
      ]
     },
     "execution_count": 1,
     "metadata": {},
     "output_type": "execute_result"
    }
   ],
   "source": [
    "import pandas as pd\n",
    "import numpy as np\n",
    "import sys\n",
    "import matplotlib.pyplot as plt\n",
    "import warnings\n",
    "import warnings\n",
    "warnings.filterwarnings('ignore')\n",
    "\n",
    "data='/kaggle/input/house-prices-advanced-regression-techniques/train.csv'\n",
    "df=pd.read_csv(data)\n",
    "print(df.shape)\n",
    "df.head()"
   ]
  },
  {
   "cell_type": "markdown",
   "id": "3bffbf27",
   "metadata": {
    "papermill": {
     "duration": 0.016016,
     "end_time": "2022-10-18T16:58:14.109235",
     "exception": false,
     "start_time": "2022-10-18T16:58:14.093219",
     "status": "completed"
    },
    "tags": []
   },
   "source": [
    "# Missing Values"
   ]
  },
  {
   "cell_type": "code",
   "execution_count": 2,
   "id": "2f1b88d9",
   "metadata": {
    "execution": {
     "iopub.execute_input": "2022-10-18T16:58:14.135052Z",
     "iopub.status.busy": "2022-10-18T16:58:14.134637Z",
     "iopub.status.idle": "2022-10-18T16:58:14.149028Z",
     "shell.execute_reply": "2022-10-18T16:58:14.147295Z"
    },
    "papermill": {
     "duration": 0.031371,
     "end_time": "2022-10-18T16:58:14.152942",
     "exception": false,
     "start_time": "2022-10-18T16:58:14.121571",
     "status": "completed"
    },
    "tags": []
   },
   "outputs": [
    {
     "name": "stdout",
     "output_type": "stream",
     "text": [
      "Missing data by column as a percent:\n",
      "PoolQC          21.686567\n",
      "MiscFeature     20.985075\n",
      "Alley           20.432836\n",
      "Fence           17.597015\n",
      "FireplaceQu     10.298507\n",
      "LotFrontage      3.865672\n",
      "GarageYrBlt      1.208955\n",
      "GarageCond       1.208955\n",
      "GarageType       1.208955\n",
      "GarageFinish     1.208955\n",
      "dtype: float64\n"
     ]
    }
   ],
   "source": [
    "#search for columns with missing values:\n",
    "def findNA():\n",
    "    print(\"Missing data by column as a percent:\")\n",
    "    findNA=df.isnull().sum().sort_values(ascending=False)/len(data)\n",
    "    print(findNA.head(10))\n",
    "findNA() "
   ]
  },
  {
   "cell_type": "code",
   "execution_count": 3,
   "id": "1fae6019",
   "metadata": {
    "execution": {
     "iopub.execute_input": "2022-10-18T16:58:14.179688Z",
     "iopub.status.busy": "2022-10-18T16:58:14.178881Z",
     "iopub.status.idle": "2022-10-18T16:58:14.218303Z",
     "shell.execute_reply": "2022-10-18T16:58:14.216831Z"
    },
    "papermill": {
     "duration": 0.055342,
     "end_time": "2022-10-18T16:58:14.220843",
     "exception": false,
     "start_time": "2022-10-18T16:58:14.165501",
     "status": "completed"
    },
    "tags": []
   },
   "outputs": [
    {
     "name": "stdout",
     "output_type": "stream",
     "text": [
      "(1460, 81)\n"
     ]
    }
   ],
   "source": [
    "df['MiscFeature']=df['MiscFeature'].fillna(0)\n",
    "df['Alley']=df['Alley'].fillna(0)\n",
    "df['Fence']=df['Fence'].fillna(0)\n",
    "df['FireplaceQu']=df['FireplaceQu'].fillna(0)\n",
    "df=df.fillna(df.mean())\n",
    "#df=df.drop(columns=['MiscFeature', 'Alley', 'Fence', 'FireplaceQu'])\n",
    "print(df.shape)"
   ]
  },
  {
   "cell_type": "code",
   "execution_count": 4,
   "id": "c6551b47",
   "metadata": {
    "execution": {
     "iopub.execute_input": "2022-10-18T16:58:14.247119Z",
     "iopub.status.busy": "2022-10-18T16:58:14.246176Z",
     "iopub.status.idle": "2022-10-18T16:58:14.253519Z",
     "shell.execute_reply": "2022-10-18T16:58:14.252535Z"
    },
    "papermill": {
     "duration": 0.022863,
     "end_time": "2022-10-18T16:58:14.255793",
     "exception": false,
     "start_time": "2022-10-18T16:58:14.232930",
     "status": "completed"
    },
    "tags": []
   },
   "outputs": [
    {
     "data": {
      "text/plain": [
       "Index(['Id', 'MSSubClass', 'MSZoning', 'LotFrontage', 'LotArea', 'Street',\n",
       "       'Alley', 'LotShape', 'LandContour', 'Utilities', 'LotConfig',\n",
       "       'LandSlope', 'Neighborhood', 'Condition1', 'Condition2', 'BldgType',\n",
       "       'HouseStyle', 'OverallQual', 'OverallCond', 'YearBuilt', 'YearRemodAdd',\n",
       "       'RoofStyle', 'RoofMatl', 'Exterior1st', 'Exterior2nd', 'MasVnrType',\n",
       "       'MasVnrArea', 'ExterQual', 'ExterCond', 'Foundation', 'BsmtQual',\n",
       "       'BsmtCond', 'BsmtExposure', 'BsmtFinType1', 'BsmtFinSF1',\n",
       "       'BsmtFinType2', 'BsmtFinSF2', 'BsmtUnfSF', 'TotalBsmtSF', 'Heating',\n",
       "       'HeatingQC', 'CentralAir', 'Electrical', '1stFlrSF', '2ndFlrSF',\n",
       "       'LowQualFinSF', 'GrLivArea', 'BsmtFullBath', 'BsmtHalfBath', 'FullBath',\n",
       "       'HalfBath', 'BedroomAbvGr', 'KitchenAbvGr', 'KitchenQual',\n",
       "       'TotRmsAbvGrd', 'Functional', 'Fireplaces', 'FireplaceQu', 'GarageType',\n",
       "       'GarageYrBlt', 'GarageFinish', 'GarageCars', 'GarageArea', 'GarageQual',\n",
       "       'GarageCond', 'PavedDrive', 'WoodDeckSF', 'OpenPorchSF',\n",
       "       'EnclosedPorch', '3SsnPorch', 'ScreenPorch', 'PoolArea', 'PoolQC',\n",
       "       'Fence', 'MiscFeature', 'MiscVal', 'MoSold', 'YrSold', 'SaleType',\n",
       "       'SaleCondition', 'SalePrice'],\n",
       "      dtype='object')"
      ]
     },
     "execution_count": 4,
     "metadata": {},
     "output_type": "execute_result"
    }
   ],
   "source": [
    "df.columns"
   ]
  },
  {
   "cell_type": "markdown",
   "id": "63b39914",
   "metadata": {
    "papermill": {
     "duration": 0.012029,
     "end_time": "2022-10-18T16:58:14.280199",
     "exception": false,
     "start_time": "2022-10-18T16:58:14.268170",
     "status": "completed"
    },
    "tags": []
   },
   "source": [
    "# Feature Engineer"
   ]
  },
  {
   "cell_type": "code",
   "execution_count": 5,
   "id": "50e71744",
   "metadata": {
    "execution": {
     "iopub.execute_input": "2022-10-18T16:58:14.306426Z",
     "iopub.status.busy": "2022-10-18T16:58:14.305743Z",
     "iopub.status.idle": "2022-10-18T16:58:14.334792Z",
     "shell.execute_reply": "2022-10-18T16:58:14.333574Z"
    },
    "papermill": {
     "duration": 0.044771,
     "end_time": "2022-10-18T16:58:14.337115",
     "exception": false,
     "start_time": "2022-10-18T16:58:14.292344",
     "status": "completed"
    },
    "tags": []
   },
   "outputs": [
    {
     "data": {
      "text/html": [
       "<div>\n",
       "<style scoped>\n",
       "    .dataframe tbody tr th:only-of-type {\n",
       "        vertical-align: middle;\n",
       "    }\n",
       "\n",
       "    .dataframe tbody tr th {\n",
       "        vertical-align: top;\n",
       "    }\n",
       "\n",
       "    .dataframe thead th {\n",
       "        text-align: right;\n",
       "    }\n",
       "</style>\n",
       "<table border=\"1\" class=\"dataframe\">\n",
       "  <thead>\n",
       "    <tr style=\"text-align: right;\">\n",
       "      <th></th>\n",
       "      <th>bathrooms</th>\n",
       "      <th>totalSQ</th>\n",
       "      <th>CentralAir</th>\n",
       "      <th>NewConstruction</th>\n",
       "      <th>PoolScore</th>\n",
       "    </tr>\n",
       "  </thead>\n",
       "  <tbody>\n",
       "    <tr>\n",
       "      <th>0</th>\n",
       "      <td>4</td>\n",
       "      <td>2566</td>\n",
       "      <td>0</td>\n",
       "      <td>0</td>\n",
       "      <td>NaN</td>\n",
       "    </tr>\n",
       "    <tr>\n",
       "      <th>1</th>\n",
       "      <td>4</td>\n",
       "      <td>2524</td>\n",
       "      <td>0</td>\n",
       "      <td>0</td>\n",
       "      <td>NaN</td>\n",
       "    </tr>\n",
       "    <tr>\n",
       "      <th>2</th>\n",
       "      <td>4</td>\n",
       "      <td>2706</td>\n",
       "      <td>0</td>\n",
       "      <td>0</td>\n",
       "      <td>NaN</td>\n",
       "    </tr>\n",
       "    <tr>\n",
       "      <th>3</th>\n",
       "      <td>2</td>\n",
       "      <td>2473</td>\n",
       "      <td>0</td>\n",
       "      <td>0</td>\n",
       "      <td>NaN</td>\n",
       "    </tr>\n",
       "    <tr>\n",
       "      <th>4</th>\n",
       "      <td>4</td>\n",
       "      <td>3343</td>\n",
       "      <td>0</td>\n",
       "      <td>0</td>\n",
       "      <td>NaN</td>\n",
       "    </tr>\n",
       "  </tbody>\n",
       "</table>\n",
       "</div>"
      ],
      "text/plain": [
       "   bathrooms  totalSQ  CentralAir  NewConstruction PoolScore\n",
       "0          4     2566           0                0       NaN\n",
       "1          4     2524           0                0       NaN\n",
       "2          4     2706           0                0       NaN\n",
       "3          2     2473           0                0       NaN\n",
       "4          4     3343           0                0       NaN"
      ]
     },
     "execution_count": 5,
     "metadata": {},
     "output_type": "execute_result"
    }
   ],
   "source": [
    "df['totalSQ']=df['1stFlrSF']+df['2ndFlrSF']+df['TotalBsmtSF']\n",
    "df['bathrooms']=df['FullBath']+df['BsmtFullBath']+df['BsmtHalfBath']+df['HalfBath']+df['BsmtHalfBath']\n",
    "df['CentralAir'] = df['CentralAir'].replace({'Y':0, 'N':1})\n",
    "df['NewConstruction'] = (df['SaleType'] == 'New').astype('int64')\n",
    "df[\"PoolScore\"] = df[\"PoolArea\"] * df[\"PoolQC\"]\n",
    "#df['hasPool']=df['PoolArea'].apply(lambda x: 1 if x>0 else 0).fillna(0)\n",
    "#df['SaleCondition']=df['SaleCondition'].apply(lambda x:1 if x == 'Normal' else 0)\n",
    "#df['Condition1']=df['Condition1'].apply(lambda x: 1 if x=='Norm' else 0)\n",
    "\n",
    "\n",
    "#df=df.drop(columns=['1stFlrSF', '2ndFlrSF','TotalBsmtSF'])\n",
    "df=df.drop(columns=['FullBath','BsmtFullBath', 'BsmtHalfBath','HalfBath', 'BsmtHalfBath'])\n",
    "df[['bathrooms', 'totalSQ', 'CentralAir', 'NewConstruction', 'PoolScore']].head()"
   ]
  },
  {
   "cell_type": "code",
   "execution_count": 6,
   "id": "2cf53813",
   "metadata": {
    "execution": {
     "iopub.execute_input": "2022-10-18T16:58:14.364897Z",
     "iopub.status.busy": "2022-10-18T16:58:14.364216Z",
     "iopub.status.idle": "2022-10-18T16:58:14.373284Z",
     "shell.execute_reply": "2022-10-18T16:58:14.372399Z"
    },
    "papermill": {
     "duration": 0.025563,
     "end_time": "2022-10-18T16:58:14.375671",
     "exception": false,
     "start_time": "2022-10-18T16:58:14.350108",
     "status": "completed"
    },
    "tags": []
   },
   "outputs": [],
   "source": [
    "#Had 0% feature importance:\n",
    "#df['Condition2']=df['Condition2'].apply(lambda x: 1 if x=='Norm' else 0)\n",
    "#df['Street']=df['Street'].fillna(0).apply(lambda x:0 if x =='Grvl' else 1)\n",
    "df=df.drop(['BsmtFinSF2','LowQualFinSF', \n",
    "            '3SsnPorch', 'ScreenPorch','MiscVal', \n",
    "            'MoSold', 'EnclosedPorch', 'MasVnrArea', 'YrSold',\n",
    "             'BedroomAbvGr', 'PoolArea'], axis=1)\n",
    "\n",
    "#After removing above, these had less than .004 feature importance:\n",
    "df=df.drop(['MSSubClass', 'LotFrontage', 'TotRmsAbvGrd', 'BsmtUnfSF', 'OpenPorchSF'], axis=1)"
   ]
  },
  {
   "cell_type": "code",
   "execution_count": 7,
   "id": "e684b3f5",
   "metadata": {
    "execution": {
     "iopub.execute_input": "2022-10-18T16:58:14.403106Z",
     "iopub.status.busy": "2022-10-18T16:58:14.402642Z",
     "iopub.status.idle": "2022-10-18T16:58:14.426778Z",
     "shell.execute_reply": "2022-10-18T16:58:14.425648Z"
    },
    "papermill": {
     "duration": 0.040051,
     "end_time": "2022-10-18T16:58:14.429164",
     "exception": false,
     "start_time": "2022-10-18T16:58:14.389113",
     "status": "completed"
    },
    "tags": []
   },
   "outputs": [
    {
     "data": {
      "text/html": [
       "<div>\n",
       "<style scoped>\n",
       "    .dataframe tbody tr th:only-of-type {\n",
       "        vertical-align: middle;\n",
       "    }\n",
       "\n",
       "    .dataframe tbody tr th {\n",
       "        vertical-align: top;\n",
       "    }\n",
       "\n",
       "    .dataframe thead th {\n",
       "        text-align: right;\n",
       "    }\n",
       "</style>\n",
       "<table border=\"1\" class=\"dataframe\">\n",
       "  <thead>\n",
       "    <tr style=\"text-align: right;\">\n",
       "      <th></th>\n",
       "      <th>Id</th>\n",
       "      <th>LotArea</th>\n",
       "      <th>OverallQual</th>\n",
       "      <th>OverallCond</th>\n",
       "      <th>YearBuilt</th>\n",
       "      <th>YearRemodAdd</th>\n",
       "      <th>BsmtFinSF1</th>\n",
       "      <th>TotalBsmtSF</th>\n",
       "      <th>CentralAir</th>\n",
       "      <th>1stFlrSF</th>\n",
       "      <th>...</th>\n",
       "      <th>KitchenAbvGr</th>\n",
       "      <th>Fireplaces</th>\n",
       "      <th>GarageYrBlt</th>\n",
       "      <th>GarageCars</th>\n",
       "      <th>GarageArea</th>\n",
       "      <th>WoodDeckSF</th>\n",
       "      <th>SalePrice</th>\n",
       "      <th>totalSQ</th>\n",
       "      <th>bathrooms</th>\n",
       "      <th>NewConstruction</th>\n",
       "    </tr>\n",
       "  </thead>\n",
       "  <tbody>\n",
       "    <tr>\n",
       "      <th>0</th>\n",
       "      <td>1</td>\n",
       "      <td>8450</td>\n",
       "      <td>7</td>\n",
       "      <td>5</td>\n",
       "      <td>2003</td>\n",
       "      <td>2003</td>\n",
       "      <td>706</td>\n",
       "      <td>856</td>\n",
       "      <td>0</td>\n",
       "      <td>856</td>\n",
       "      <td>...</td>\n",
       "      <td>1</td>\n",
       "      <td>0</td>\n",
       "      <td>2003.0</td>\n",
       "      <td>2</td>\n",
       "      <td>548</td>\n",
       "      <td>0</td>\n",
       "      <td>208500</td>\n",
       "      <td>2566</td>\n",
       "      <td>4</td>\n",
       "      <td>0</td>\n",
       "    </tr>\n",
       "    <tr>\n",
       "      <th>1</th>\n",
       "      <td>2</td>\n",
       "      <td>9600</td>\n",
       "      <td>6</td>\n",
       "      <td>8</td>\n",
       "      <td>1976</td>\n",
       "      <td>1976</td>\n",
       "      <td>978</td>\n",
       "      <td>1262</td>\n",
       "      <td>0</td>\n",
       "      <td>1262</td>\n",
       "      <td>...</td>\n",
       "      <td>1</td>\n",
       "      <td>1</td>\n",
       "      <td>1976.0</td>\n",
       "      <td>2</td>\n",
       "      <td>460</td>\n",
       "      <td>298</td>\n",
       "      <td>181500</td>\n",
       "      <td>2524</td>\n",
       "      <td>4</td>\n",
       "      <td>0</td>\n",
       "    </tr>\n",
       "    <tr>\n",
       "      <th>2</th>\n",
       "      <td>3</td>\n",
       "      <td>11250</td>\n",
       "      <td>7</td>\n",
       "      <td>5</td>\n",
       "      <td>2001</td>\n",
       "      <td>2002</td>\n",
       "      <td>486</td>\n",
       "      <td>920</td>\n",
       "      <td>0</td>\n",
       "      <td>920</td>\n",
       "      <td>...</td>\n",
       "      <td>1</td>\n",
       "      <td>1</td>\n",
       "      <td>2001.0</td>\n",
       "      <td>2</td>\n",
       "      <td>608</td>\n",
       "      <td>0</td>\n",
       "      <td>223500</td>\n",
       "      <td>2706</td>\n",
       "      <td>4</td>\n",
       "      <td>0</td>\n",
       "    </tr>\n",
       "    <tr>\n",
       "      <th>3</th>\n",
       "      <td>4</td>\n",
       "      <td>9550</td>\n",
       "      <td>7</td>\n",
       "      <td>5</td>\n",
       "      <td>1915</td>\n",
       "      <td>1970</td>\n",
       "      <td>216</td>\n",
       "      <td>756</td>\n",
       "      <td>0</td>\n",
       "      <td>961</td>\n",
       "      <td>...</td>\n",
       "      <td>1</td>\n",
       "      <td>1</td>\n",
       "      <td>1998.0</td>\n",
       "      <td>3</td>\n",
       "      <td>642</td>\n",
       "      <td>0</td>\n",
       "      <td>140000</td>\n",
       "      <td>2473</td>\n",
       "      <td>2</td>\n",
       "      <td>0</td>\n",
       "    </tr>\n",
       "    <tr>\n",
       "      <th>4</th>\n",
       "      <td>5</td>\n",
       "      <td>14260</td>\n",
       "      <td>8</td>\n",
       "      <td>5</td>\n",
       "      <td>2000</td>\n",
       "      <td>2000</td>\n",
       "      <td>655</td>\n",
       "      <td>1145</td>\n",
       "      <td>0</td>\n",
       "      <td>1145</td>\n",
       "      <td>...</td>\n",
       "      <td>1</td>\n",
       "      <td>1</td>\n",
       "      <td>2000.0</td>\n",
       "      <td>3</td>\n",
       "      <td>836</td>\n",
       "      <td>192</td>\n",
       "      <td>250000</td>\n",
       "      <td>3343</td>\n",
       "      <td>4</td>\n",
       "      <td>0</td>\n",
       "    </tr>\n",
       "  </tbody>\n",
       "</table>\n",
       "<p>5 rows × 22 columns</p>\n",
       "</div>"
      ],
      "text/plain": [
       "   Id  LotArea  OverallQual  OverallCond  YearBuilt  YearRemodAdd  BsmtFinSF1  \\\n",
       "0   1     8450            7            5       2003          2003         706   \n",
       "1   2     9600            6            8       1976          1976         978   \n",
       "2   3    11250            7            5       2001          2002         486   \n",
       "3   4     9550            7            5       1915          1970         216   \n",
       "4   5    14260            8            5       2000          2000         655   \n",
       "\n",
       "   TotalBsmtSF  CentralAir  1stFlrSF  ...  KitchenAbvGr  Fireplaces  \\\n",
       "0          856           0       856  ...             1           0   \n",
       "1         1262           0      1262  ...             1           1   \n",
       "2          920           0       920  ...             1           1   \n",
       "3          756           0       961  ...             1           1   \n",
       "4         1145           0      1145  ...             1           1   \n",
       "\n",
       "   GarageYrBlt  GarageCars  GarageArea  WoodDeckSF  SalePrice  totalSQ  \\\n",
       "0       2003.0           2         548           0     208500     2566   \n",
       "1       1976.0           2         460         298     181500     2524   \n",
       "2       2001.0           2         608           0     223500     2706   \n",
       "3       1998.0           3         642           0     140000     2473   \n",
       "4       2000.0           3         836         192     250000     3343   \n",
       "\n",
       "   bathrooms  NewConstruction  \n",
       "0          4                0  \n",
       "1          4                0  \n",
       "2          4                0  \n",
       "3          2                0  \n",
       "4          4                0  \n",
       "\n",
       "[5 rows x 22 columns]"
      ]
     },
     "execution_count": 7,
     "metadata": {},
     "output_type": "execute_result"
    }
   ],
   "source": [
    "df = df.select_dtypes(include=['int16', 'int32', 'int64', 'float16', 'float32', 'float64'])\n",
    "df.head()"
   ]
  },
  {
   "cell_type": "markdown",
   "id": "e1d43823",
   "metadata": {
    "papermill": {
     "duration": 0.012346,
     "end_time": "2022-10-18T16:58:14.454230",
     "exception": false,
     "start_time": "2022-10-18T16:58:14.441884",
     "status": "completed"
    },
    "tags": []
   },
   "source": [
    "# Outliers"
   ]
  },
  {
   "cell_type": "code",
   "execution_count": 8,
   "id": "617e3446",
   "metadata": {
    "execution": {
     "iopub.execute_input": "2022-10-18T16:58:14.482322Z",
     "iopub.status.busy": "2022-10-18T16:58:14.481058Z",
     "iopub.status.idle": "2022-10-18T16:58:16.196315Z",
     "shell.execute_reply": "2022-10-18T16:58:16.195022Z"
    },
    "papermill": {
     "duration": 1.731556,
     "end_time": "2022-10-18T16:58:16.198776",
     "exception": false,
     "start_time": "2022-10-18T16:58:14.467220",
     "status": "completed"
    },
    "tags": []
   },
   "outputs": [
    {
     "data": {
      "text/plain": [
       "<seaborn.axisgrid.FacetGrid at 0x7f08ec698410>"
      ]
     },
     "execution_count": 8,
     "metadata": {},
     "output_type": "execute_result"
    },
    {
     "data": {
      "image/png": "[encoded data removed]",
      "text/plain": [
       "<Figure size 360x360 with 1 Axes>"
      ]
     },
     "metadata": {
      "needs_background": "light"
     },
     "output_type": "display_data"
    },
    {
     "data": {
      "image/png": "[encoded data removed]",
      "text/plain": [
       "<Figure size 360x360 with 1 Axes>"
      ]
     },
     "metadata": {
      "needs_background": "light"
     },
     "output_type": "display_data"
    }
   ],
   "source": [
    "import seaborn as sns\n",
    "sns.displot(df, x='SalePrice')\n",
    "sns.displot(df, x='totalSQ')"
   ]
  },
  {
   "cell_type": "code",
   "execution_count": 9,
   "id": "aebb8aa2",
   "metadata": {
    "execution": {
     "iopub.execute_input": "2022-10-18T16:58:16.229019Z",
     "iopub.status.busy": "2022-10-18T16:58:16.228455Z",
     "iopub.status.idle": "2022-10-18T16:58:16.252107Z",
     "shell.execute_reply": "2022-10-18T16:58:16.250227Z"
    },
    "papermill": {
     "duration": 0.043128,
     "end_time": "2022-10-18T16:58:16.256326",
     "exception": false,
     "start_time": "2022-10-18T16:58:16.213198",
     "status": "completed"
    },
    "tags": []
   },
   "outputs": [
    {
     "name": "stdout",
     "output_type": "stream",
     "text": [
      "[438780, 501837, 475000, 437154, 426000, 555000, 440000, 430000, 446261, 451950, 423000, 755000, 538000, 485000, 582933, 611657, 556581, 424870, 625000, 745000, 465000, 466500]\n",
      "[438780, 501837, 475000, 437154, 426000, 555000, 440000, 430000, 446261, 451950, 423000, 755000, 538000, 485000, 582933, 611657, 556581, 424870, 625000, 745000, 465000, 466500, 5496, 6428, 7814, 6760, 5066, 5048, 5557, 6872, 11752, 5271, 5266]\n"
     ]
    }
   ],
   "source": [
    "from scipy import stats\n",
    "\n",
    "outliers=[]\n",
    "def detect_outlier(data_1):\n",
    "    threshold=3\n",
    "    mean_1 = np.mean(data_1)\n",
    "    std_1 =np.std(data_1)\n",
    "    \n",
    "    for y in data_1:\n",
    "        z_score= (y - mean_1)/std_1 \n",
    "        if np.abs(z_score) > threshold:\n",
    "            outliers.append(y)\n",
    "    return outliers\n",
    "priceOutlier=list(detect_outlier(df['SalePrice']))\n",
    "print(priceOutlier)\n",
    "sqOutlier=list(detect_outlier(df['totalSQ']))\n",
    "print(sqOutlier)"
   ]
  },
  {
   "cell_type": "code",
   "execution_count": 10,
   "id": "3e79c453",
   "metadata": {
    "execution": {
     "iopub.execute_input": "2022-10-18T16:58:16.292815Z",
     "iopub.status.busy": "2022-10-18T16:58:16.292127Z",
     "iopub.status.idle": "2022-10-18T16:58:16.301542Z",
     "shell.execute_reply": "2022-10-18T16:58:16.300118Z"
    },
    "papermill": {
     "duration": 0.027926,
     "end_time": "2022-10-18T16:58:16.303990",
     "exception": false,
     "start_time": "2022-10-18T16:58:16.276064",
     "status": "completed"
    },
    "tags": []
   },
   "outputs": [
    {
     "name": "stdout",
     "output_type": "stream",
     "text": [
      "(1444, 22)\n"
     ]
    }
   ],
   "source": [
    "#Remove Outliers:\n",
    "df=df.loc[df['SalePrice']<500_000]\n",
    "df=df.loc[df['totalSQ']<5000]\n",
    "print(df.shape) "
   ]
  },
  {
   "cell_type": "markdown",
   "id": "40a12aaf",
   "metadata": {
    "papermill": {
     "duration": 0.013473,
     "end_time": "2022-10-18T16:58:16.334052",
     "exception": false,
     "start_time": "2022-10-18T16:58:16.320579",
     "status": "completed"
    },
    "tags": []
   },
   "source": [
    "# Correlations"
   ]
  },
  {
   "cell_type": "code",
   "execution_count": 11,
   "id": "2a9ca6ec",
   "metadata": {
    "execution": {
     "iopub.execute_input": "2022-10-18T16:58:16.362494Z",
     "iopub.status.busy": "2022-10-18T16:58:16.362077Z",
     "iopub.status.idle": "2022-10-18T16:58:18.088876Z",
     "shell.execute_reply": "2022-10-18T16:58:18.087601Z"
    },
    "papermill": {
     "duration": 1.745652,
     "end_time": "2022-10-18T16:58:18.092930",
     "exception": false,
     "start_time": "2022-10-18T16:58:16.347278",
     "status": "completed"
    },
    "tags": []
   },
   "outputs": [
    {
     "data": {
      "text/plain": [
       "<AxesSubplot:>"
      ]
     },
     "execution_count": 11,
     "metadata": {},
     "output_type": "execute_result"
    },
    {
     "data": {
      "image/png": "[encoded data removed]",
      "text/plain": [
       "<Figure size 1440x1440 with 2 Axes>"
      ]
     },
     "metadata": {
      "needs_background": "light"
     },
     "output_type": "display_data"
    }
   ],
   "source": [
    "import seaborn as sns\n",
    "corr= df.corr()\n",
    "matrix = np.triu(corr)\n",
    "fig, ax = plt.subplots(figsize=(20,20))    \n",
    "sns.heatmap(corr, annot=True, mask=matrix)"
   ]
  },
  {
   "cell_type": "code",
   "execution_count": 12,
   "id": "ef9d6cf6",
   "metadata": {
    "execution": {
     "iopub.execute_input": "2022-10-18T16:58:18.126804Z",
     "iopub.status.busy": "2022-10-18T16:58:18.126407Z",
     "iopub.status.idle": "2022-10-18T16:58:18.132430Z",
     "shell.execute_reply": "2022-10-18T16:58:18.131320Z"
    },
    "papermill": {
     "duration": 0.025833,
     "end_time": "2022-10-18T16:58:18.134843",
     "exception": false,
     "start_time": "2022-10-18T16:58:18.109010",
     "status": "completed"
    },
    "tags": []
   },
   "outputs": [],
   "source": [
    "#Too similiar variables:\n",
    "df=df.drop(['GarageYrBlt'], axis=1) \n",
    "#GarageYrBlt and houseYear too similiar"
   ]
  },
  {
   "cell_type": "markdown",
   "id": "86660954",
   "metadata": {
    "papermill": {
     "duration": 0.01574,
     "end_time": "2022-10-18T16:58:18.166931",
     "exception": false,
     "start_time": "2022-10-18T16:58:18.151191",
     "status": "completed"
    },
    "tags": []
   },
   "source": [
    "# Split Data"
   ]
  },
  {
   "cell_type": "code",
   "execution_count": 13,
   "id": "5a161b0f",
   "metadata": {
    "execution": {
     "iopub.execute_input": "2022-10-18T16:58:18.201466Z",
     "iopub.status.busy": "2022-10-18T16:58:18.201052Z",
     "iopub.status.idle": "2022-10-18T16:58:18.380656Z",
     "shell.execute_reply": "2022-10-18T16:58:18.379511Z"
    },
    "papermill": {
     "duration": 0.200442,
     "end_time": "2022-10-18T16:58:18.383435",
     "exception": false,
     "start_time": "2022-10-18T16:58:18.182993",
     "status": "completed"
    },
    "tags": []
   },
   "outputs": [],
   "source": [
    "from sklearn.model_selection import train_test_split, cross_validate\n",
    "\n",
    "X=df.drop(\"SalePrice\", axis='columns')\n",
    "y=df['SalePrice']\n",
    "\n",
    "X_train, X_test, y_train, y_test = train_test_split(\n",
    "X, y, test_size=.20, random_state=42)"
   ]
  },
  {
   "cell_type": "markdown",
   "id": "ef84c8b8",
   "metadata": {
    "papermill": {
     "duration": 0.015666,
     "end_time": "2022-10-18T16:58:18.415247",
     "exception": false,
     "start_time": "2022-10-18T16:58:18.399581",
     "status": "completed"
    },
    "tags": []
   },
   "source": [
    "# XGBoost"
   ]
  },
  {
   "cell_type": "code",
   "execution_count": 14,
   "id": "b00af19e",
   "metadata": {
    "execution": {
     "iopub.execute_input": "2022-10-18T16:58:18.450170Z",
     "iopub.status.busy": "2022-10-18T16:58:18.449348Z",
     "iopub.status.idle": "2022-10-18T16:58:18.559618Z",
     "shell.execute_reply": "2022-10-18T16:58:18.558242Z"
    },
    "papermill": {
     "duration": 0.131081,
     "end_time": "2022-10-18T16:58:18.562523",
     "exception": false,
     "start_time": "2022-10-18T16:58:18.431442",
     "status": "completed"
    },
    "tags": []
   },
   "outputs": [],
   "source": [
    "import xgboost as xgb\n",
    "from sklearn.metrics import mean_squared_error, r2_score, mean_absolute_error"
   ]
  },
  {
   "cell_type": "markdown",
   "id": "b5640f4e",
   "metadata": {
    "papermill": {
     "duration": 0.016032,
     "end_time": "2022-10-18T16:58:18.595975",
     "exception": false,
     "start_time": "2022-10-18T16:58:18.579943",
     "status": "completed"
    },
    "tags": []
   },
   "source": [
    "### Max Depth \n",
    "Increasing the value makes the model more complex which could overfit. Four for max depth shows the least amount of error and highest accuracy. Range is typical between 2 and 10."
   ]
  },
  {
   "cell_type": "code",
   "execution_count": 15,
   "id": "01195d8b",
   "metadata": {
    "execution": {
     "iopub.execute_input": "2022-10-18T16:58:18.630686Z",
     "iopub.status.busy": "2022-10-18T16:58:18.629938Z",
     "iopub.status.idle": "2022-10-18T16:58:23.149550Z",
     "shell.execute_reply": "2022-10-18T16:58:23.148460Z"
    },
    "papermill": {
     "duration": 4.539566,
     "end_time": "2022-10-18T16:58:23.151837",
     "exception": false,
     "start_time": "2022-10-18T16:58:18.612271",
     "status": "completed"
    },
    "tags": []
   },
   "outputs": [
    {
     "data": {
      "image/png": "[encoded data removed]",
      "text/plain": [
       "<Figure size 432x288 with 1 Axes>"
      ]
     },
     "metadata": {
      "needs_background": "light"
     },
     "output_type": "display_data"
    },
    {
     "data": {
      "image/png": "[encoded data removed]",
      "text/plain": [
       "<Figure size 432x288 with 1 Axes>"
      ]
     },
     "metadata": {
      "needs_background": "light"
     },
     "output_type": "display_data"
    }
   ],
   "source": [
    "maxDepth=[2, 3, 4, 5, 6, 7, 8, 9, 10]\n",
    "listMSE=[]\n",
    "listR2=[]\n",
    "\n",
    "for d in maxDepth:\n",
    "    regressor = xgb.XGBRegressor(\n",
    "        max_depth=d\n",
    "    )\n",
    "    regressor.fit(X_train, y_train)\n",
    "    #regressor.fit(X_train, y_train, early_stopping_rounds=5, eval_metric=\"rmse\", eval_set=[(X_test, y_test)], verbose=False)\n",
    "    y_pred = regressor.predict(X_test)\n",
    "\n",
    "    xgMSE=mean_absolute_error(y_test, y_pred)\n",
    "    xgR2 = r2_score(y_test, y_pred).round(4)\n",
    "    listMSE.append(xgMSE)\n",
    "    listR2.append(xgR2)\n",
    "plt.plot(maxDepth, listMSE)\n",
    "plt.title('MaxDepth Error')\n",
    "plt.ylabel('Error')\n",
    "plt.xlabel('Max Depth')\n",
    "plt.show()\n",
    "\n",
    "plt.plot(maxDepth, listR2)\n",
    "plt.title('MaxDepth Accuracy')\n",
    "plt.ylabel('Accuracy')\n",
    "plt.xlabel('MaxDepth')\n",
    "plt.show()"
   ]
  },
  {
   "cell_type": "markdown",
   "id": "c90047f1",
   "metadata": {
    "papermill": {
     "duration": 0.016945,
     "end_time": "2022-10-18T16:58:23.186403",
     "exception": false,
     "start_time": "2022-10-18T16:58:23.169458",
     "status": "completed"
    },
    "tags": []
   },
   "source": [
    "### n_estimators\n"
   ]
  },
  {
   "cell_type": "code",
   "execution_count": 16,
   "id": "0225534c",
   "metadata": {
    "_kg_hide-input": true,
    "execution": {
     "iopub.execute_input": "2022-10-18T16:58:23.222155Z",
     "iopub.status.busy": "2022-10-18T16:58:23.221714Z",
     "iopub.status.idle": "2022-10-18T16:58:26.913643Z",
     "shell.execute_reply": "2022-10-18T16:58:26.912583Z"
    },
    "papermill": {
     "duration": 3.712858,
     "end_time": "2022-10-18T16:58:26.916189",
     "exception": false,
     "start_time": "2022-10-18T16:58:23.203331",
     "status": "completed"
    },
    "tags": []
   },
   "outputs": [
    {
     "data": {
      "image/png": "[encoded data removed]",
      "text/plain": [
       "<Figure size 432x288 with 1 Axes>"
      ]
     },
     "metadata": {
      "needs_background": "light"
     },
     "output_type": "display_data"
    },
    {
     "data": {
      "image/png": "[encoded data removed]",
      "text/plain": [
       "<Figure size 432x288 with 1 Axes>"
      ]
     },
     "metadata": {
      "needs_background": "light"
     },
     "output_type": "display_data"
    }
   ],
   "source": [
    "def xgEst():\n",
    "    numbers=[2, 20, 30, 40, 50, 60, 70, 80, 90, 100, 150]\n",
    "    listMSE=[]\n",
    "    listR2=[]\n",
    "\n",
    "    for n in numbers:\n",
    "        regressor = xgb.XGBRegressor(\n",
    "            n_estimators=n,\n",
    "        )\n",
    "        regressor.fit(X_train, y_train)\n",
    "        y_pred = regressor.predict(X_test)\n",
    "\n",
    "        xgMSE=mean_absolute_error(y_test, y_pred)\n",
    "        xgR2 = r2_score(y_test, y_pred).round(4)\n",
    "        listMSE.append(xgMSE)\n",
    "        listR2.append(xgR2)\n",
    "    plt.plot(numbers, listMSE)\n",
    "    plt.title('n_stimators Error')\n",
    "    plt.ylabel('Error')\n",
    "    plt.xlabel('n_estimators')\n",
    "    plt.show()\n",
    "\n",
    "    plt.plot(numbers, listR2)\n",
    "    plt.title('n_estimators Accuracy')\n",
    "    plt.ylabel('Accurate')\n",
    "    plt.xlabel('n_estimators')\n",
    "    plt.show()\n",
    "xgEst()"
   ]
  },
  {
   "cell_type": "markdown",
   "id": "2fdd94bd",
   "metadata": {
    "papermill": {
     "duration": 0.017294,
     "end_time": "2022-10-18T16:58:26.951183",
     "exception": false,
     "start_time": "2022-10-18T16:58:26.933889",
     "status": "completed"
    },
    "tags": []
   },
   "source": [
    "### Min_child_weight\n",
    "Increasing value will make model more conservative. Typically, a number between 0 and 10 is used.\n"
   ]
  },
  {
   "cell_type": "code",
   "execution_count": 17,
   "id": "8224b3f1",
   "metadata": {
    "execution": {
     "iopub.execute_input": "2022-10-18T16:58:26.988335Z",
     "iopub.status.busy": "2022-10-18T16:58:26.987908Z",
     "iopub.status.idle": "2022-10-18T16:58:30.806239Z",
     "shell.execute_reply": "2022-10-18T16:58:30.805204Z"
    },
    "papermill": {
     "duration": 3.839663,
     "end_time": "2022-10-18T16:58:30.808539",
     "exception": false,
     "start_time": "2022-10-18T16:58:26.968876",
     "status": "completed"
    },
    "tags": []
   },
   "outputs": [
    {
     "data": {
      "image/png": "[encoded data removed]",
      "text/plain": [
       "<Figure size 432x288 with 1 Axes>"
      ]
     },
     "metadata": {
      "needs_background": "light"
     },
     "output_type": "display_data"
    },
    {
     "data": {
      "image/png": "[encoded data removed]",
      "text/plain": [
       "<Figure size 432x288 with 1 Axes>"
      ]
     },
     "metadata": {
      "needs_background": "light"
     },
     "output_type": "display_data"
    }
   ],
   "source": [
    "weight=[1, 2, 3, 5, 7, 9, 10, 15]\n",
    "listMSE=[]\n",
    "listR2=[]\n",
    "\n",
    "for w in weight:\n",
    "    regressor = xgb.XGBRegressor(\n",
    "        min_child_weight=w\n",
    "    )\n",
    "    regressor.fit(X_train, y_train)\n",
    "    y_pred = regressor.predict(X_test)\n",
    "\n",
    "    xgMSE=mean_absolute_error(y_test, y_pred)\n",
    "    xgR2 = r2_score(y_test, y_pred).round(4)\n",
    "    listMSE.append(xgMSE)\n",
    "    listR2.append(xgR2)\n",
    "plt.plot(weight, listMSE)\n",
    "plt.title('xgBoost')\n",
    "plt.ylabel('Error')\n",
    "plt.xlabel('Weight')\n",
    "plt.legend()\n",
    "plt.show()\n",
    "\n",
    "plt.plot(weight, listR2)\n",
    "plt.title('xgBoost')\n",
    "plt.ylabel('Accurate')\n",
    "plt.xlabel('Weight')\n",
    "plt.legend()\n",
    "plt.show()"
   ]
  },
  {
   "cell_type": "markdown",
   "id": "718f2ebe",
   "metadata": {
    "papermill": {
     "duration": 0.018172,
     "end_time": "2022-10-18T16:58:30.845150",
     "exception": false,
     "start_time": "2022-10-18T16:58:30.826978",
     "status": "completed"
    },
    "tags": []
   },
   "source": [
    "### Gamma\n",
    "Increasing gamma makes model more conservative. In this case, increasing Gamma makes almost no difference. It takes gamma to be 1000 to notice a slight decrease in error. Therefore, I do not use gamma in this particular case."
   ]
  },
  {
   "cell_type": "code",
   "execution_count": 18,
   "id": "b568e08d",
   "metadata": {
    "execution": {
     "iopub.execute_input": "2022-10-18T16:58:30.884004Z",
     "iopub.status.busy": "2022-10-18T16:58:30.883620Z",
     "iopub.status.idle": "2022-10-18T16:58:34.324167Z",
     "shell.execute_reply": "2022-10-18T16:58:34.323043Z"
    },
    "papermill": {
     "duration": 3.463216,
     "end_time": "2022-10-18T16:58:34.326734",
     "exception": false,
     "start_time": "2022-10-18T16:58:30.863518",
     "status": "completed"
    },
    "tags": []
   },
   "outputs": [
    {
     "data": {
      "image/png": "[encoded data removed]",
      "text/plain": [
       "<Figure size 432x288 with 1 Axes>"
      ]
     },
     "metadata": {
      "needs_background": "light"
     },
     "output_type": "display_data"
    },
    {
     "data": {
      "image/png": "[encoded data removed]",
      "text/plain": [
       "<Figure size 432x288 with 1 Axes>"
      ]
     },
     "metadata": {
      "needs_background": "light"
     },
     "output_type": "display_data"
    }
   ],
   "source": [
    "gammas=[0, 0.25, 0.5, 1.0, 3, 5, 10]\n",
    "listMSE=[]\n",
    "listR2=[]\n",
    "\n",
    "for g in gammas:\n",
    "    regressor = xgb.XGBRegressor(\n",
    "        min_split_loss=g\n",
    "    )\n",
    "    regressor.fit(X_train, y_train)\n",
    "    y_pred = regressor.predict(X_test)\n",
    "\n",
    "    xgMSE=mean_absolute_error(y_test, y_pred)\n",
    "    xgR2 = r2_score(y_test, y_pred).round(4)\n",
    "    listMSE.append(xgMSE)\n",
    "    listR2.append(xgR2)\n",
    "    \n",
    "plt.plot(gammas, listMSE)\n",
    "plt.title('Gamma Error')\n",
    "plt.ylabel('Error')\n",
    "plt.xlabel('Gammas')\n",
    "plt.legend()\n",
    "plt.show()\n",
    "\n",
    "plt.plot(gammas, listR2)\n",
    "plt.title('Gamma R2')\n",
    "plt.ylabel('Accurate')\n",
    "plt.xlabel('Gammas')\n",
    "plt.legend()\n",
    "plt.show()"
   ]
  },
  {
   "cell_type": "markdown",
   "id": "10b4ea3f",
   "metadata": {
    "papermill": {
     "duration": 0.018493,
     "end_time": "2022-10-18T16:58:34.363905",
     "exception": false,
     "start_time": "2022-10-18T16:58:34.345412",
     "status": "completed"
    },
    "tags": []
   },
   "source": [
    "### Learning_rate\n",
    "A higher learning rate makes the model more conservative. Range is between 0 and 1. Typically, a number between 0 and .3 is used."
   ]
  },
  {
   "cell_type": "code",
   "execution_count": 19,
   "id": "6f93c66f",
   "metadata": {
    "execution": {
     "iopub.execute_input": "2022-10-18T16:58:34.403407Z",
     "iopub.status.busy": "2022-10-18T16:58:34.402398Z",
     "iopub.status.idle": "2022-10-18T16:58:38.713473Z",
     "shell.execute_reply": "2022-10-18T16:58:38.712014Z"
    },
    "papermill": {
     "duration": 4.33339,
     "end_time": "2022-10-18T16:58:38.715983",
     "exception": false,
     "start_time": "2022-10-18T16:58:34.382593",
     "status": "completed"
    },
    "tags": []
   },
   "outputs": [
    {
     "data": {
      "image/png": "[encoded data removed]",
      "text/plain": [
       "<Figure size 432x288 with 1 Axes>"
      ]
     },
     "metadata": {
      "needs_background": "light"
     },
     "output_type": "display_data"
    },
    {
     "data": {
      "image/png": "[encoded data removed]",
      "text/plain": [
       "<Figure size 432x288 with 1 Axes>"
      ]
     },
     "metadata": {
      "needs_background": "light"
     },
     "output_type": "display_data"
    }
   ],
   "source": [
    "learning_rate = [0.01, 0.1, 0.2, 0.3, .5, .6, .7, .8, .9]\n",
    "listMSE=[]\n",
    "listR2=[]\n",
    "\n",
    "for l in learning_rate:\n",
    "    regressor = xgb.XGBRegressor(\n",
    "        learning_rate=l\n",
    "    )\n",
    "    regressor.fit(X_train, y_train)\n",
    "    y_pred = regressor.predict(X_test)\n",
    "\n",
    "    xgMSE=mean_absolute_error(y_test, y_pred)\n",
    "    xgR2 = r2_score(y_test, y_pred).round(4)\n",
    "    listMSE.append(xgMSE)\n",
    "    listR2.append(xgR2)\n",
    "    \n",
    "plt.plot(learning_rate, listMSE)\n",
    "plt.title('Learning_rate Error')\n",
    "plt.ylabel('Error')\n",
    "plt.xlabel('Learning_rate')\n",
    "plt.legend()\n",
    "plt.show()\n",
    "\n",
    "plt.plot(learning_rate, listR2)\n",
    "plt.title('Learning_rate R2')\n",
    "plt.ylabel('Accurate')\n",
    "plt.xlabel('Learning_rate')\n",
    "plt.legend()\n",
    "plt.show()"
   ]
  },
  {
   "cell_type": "markdown",
   "id": "2d0a5821",
   "metadata": {
    "papermill": {
     "duration": 0.019239,
     "end_time": "2022-10-18T16:58:38.754811",
     "exception": false,
     "start_time": "2022-10-18T16:58:38.735572",
     "status": "completed"
    },
    "tags": []
   },
   "source": [
    "### Reg_Lambda\n",
    "Reg_lambda uses L2 regularization. Typical range is generally 0 to 10."
   ]
  },
  {
   "cell_type": "code",
   "execution_count": 20,
   "id": "6ddf6cc9",
   "metadata": {
    "execution": {
     "iopub.execute_input": "2022-10-18T16:58:38.795573Z",
     "iopub.status.busy": "2022-10-18T16:58:38.795159Z",
     "iopub.status.idle": "2022-10-18T16:58:41.035207Z",
     "shell.execute_reply": "2022-10-18T16:58:41.033920Z"
    },
    "papermill": {
     "duration": 2.263202,
     "end_time": "2022-10-18T16:58:41.037368",
     "exception": false,
     "start_time": "2022-10-18T16:58:38.774166",
     "status": "completed"
    },
    "tags": []
   },
   "outputs": [
    {
     "data": {
      "image/png": "[encoded data removed]",
      "text/plain": [
       "<Figure size 432x288 with 1 Axes>"
      ]
     },
     "metadata": {
      "needs_background": "light"
     },
     "output_type": "display_data"
    },
    {
     "data": {
      "image/png": "[encoded data removed]",
      "text/plain": [
       "<Figure size 432x288 with 1 Axes>"
      ]
     },
     "metadata": {
      "needs_background": "light"
     },
     "output_type": "display_data"
    }
   ],
   "source": [
    "regLam = [0, 1.0, 5.0, 10.0] #0 is default\n",
    "listMSE=[]\n",
    "listR2=[]\n",
    "\n",
    "for r in regLam:\n",
    "    regressor = xgb.XGBRegressor(\n",
    "        reg_lambda=r,\n",
    "    )\n",
    "    regressor.fit(X_train, y_train)\n",
    "    y_pred = regressor.predict(X_test)\n",
    "\n",
    "    xgMSE=mean_absolute_error(y_test, y_pred)\n",
    "    xgR2 = r2_score(y_test, y_pred).round(4)\n",
    "    listMSE.append(xgMSE)\n",
    "    listR2.append(xgR2)\n",
    "    \n",
    "plt.plot(regLam, listMSE)\n",
    "plt.title('RegLam Error')\n",
    "plt.ylabel('Error')\n",
    "plt.xlabel('RegLam')\n",
    "plt.legend()\n",
    "plt.show()\n",
    "\n",
    "plt.plot(regLam, listR2)\n",
    "plt.title('RegLam R2')\n",
    "plt.ylabel('Accurate')\n",
    "plt.xlabel('RegLam')\n",
    "plt.legend()\n",
    "plt.show()"
   ]
  },
  {
   "cell_type": "markdown",
   "id": "fcd97a4a",
   "metadata": {
    "papermill": {
     "duration": 0.020137,
     "end_time": "2022-10-18T16:58:41.077617",
     "exception": false,
     "start_time": "2022-10-18T16:58:41.057480",
     "status": "completed"
    },
    "tags": []
   },
   "source": [
    "### Reg_Alpha\n",
    "Reg_alpha uses L1 regularization. Increasing the value makes the model more conservative. Reg_alpha can have a bigger range up to 80."
   ]
  },
  {
   "cell_type": "code",
   "execution_count": 21,
   "id": "50755c45",
   "metadata": {
    "execution": {
     "iopub.execute_input": "2022-10-18T16:58:41.120043Z",
     "iopub.status.busy": "2022-10-18T16:58:41.119416Z",
     "iopub.status.idle": "2022-10-18T16:58:47.105059Z",
     "shell.execute_reply": "2022-10-18T16:58:47.103938Z"
    },
    "papermill": {
     "duration": 6.009756,
     "end_time": "2022-10-18T16:58:47.107544",
     "exception": false,
     "start_time": "2022-10-18T16:58:41.097788",
     "status": "completed"
    },
    "tags": []
   },
   "outputs": [
    {
     "data": {
      "image/png": "[encoded data removed]",
      "text/plain": [
       "<Figure size 432x288 with 1 Axes>"
      ]
     },
     "metadata": {
      "needs_background": "light"
     },
     "output_type": "display_data"
    },
    {
     "data": {
      "image/png": "[encoded data removed]",
      "text/plain": [
       "<Figure size 432x288 with 1 Axes>"
      ]
     },
     "metadata": {
      "needs_background": "light"
     },
     "output_type": "display_data"
    }
   ],
   "source": [
    "def regAlpha():\n",
    "    numbers = [0, 5.0, 10.0, 20, 30, 40, 50, 60, 70, 80]  #0 is default\n",
    "    listMSE=[]\n",
    "    listR2=[]\n",
    "\n",
    "    for n in numbers:\n",
    "        regressor = xgb.XGBRegressor(\n",
    "            reg_alpha=n,\n",
    "        )\n",
    "        regressor.fit(X_train, y_train)\n",
    "        y_pred = regressor.predict(X_test)\n",
    "\n",
    "        xgMSE=mean_absolute_error(y_test, y_pred)\n",
    "        xgR2 = r2_score(y_test, y_pred).round(4)\n",
    "        listMSE.append(xgMSE)\n",
    "        listR2.append(xgR2)\n",
    "\n",
    "    plt.plot(numbers, listMSE)\n",
    "    plt.title('regAlpha')\n",
    "    plt.ylabel('Error')\n",
    "    plt.xlabel('RegAlpha')\n",
    "    plt.legend()\n",
    "    plt.show()\n",
    "\n",
    "    plt.plot(numbers, listR2)\n",
    "    plt.title('regAlpha')\n",
    "    plt.ylabel('Accurate')\n",
    "    plt.xlabel('RegAlpha')\n",
    "    plt.legend()\n",
    "    plt.show()\n",
    "regAlpha()"
   ]
  },
  {
   "cell_type": "markdown",
   "id": "2087d751",
   "metadata": {
    "papermill": {
     "duration": 0.021228,
     "end_time": "2022-10-18T16:58:47.150641",
     "exception": false,
     "start_time": "2022-10-18T16:58:47.129413",
     "status": "completed"
    },
    "tags": []
   },
   "source": [
    "### Colsample_bytree"
   ]
  },
  {
   "cell_type": "code",
   "execution_count": 22,
   "id": "d61dfd0a",
   "metadata": {
    "execution": {
     "iopub.execute_input": "2022-10-18T16:58:47.196593Z",
     "iopub.status.busy": "2022-10-18T16:58:47.195366Z",
     "iopub.status.idle": "2022-10-18T16:58:49.210157Z",
     "shell.execute_reply": "2022-10-18T16:58:49.208958Z"
    },
    "papermill": {
     "duration": 2.040295,
     "end_time": "2022-10-18T16:58:49.212744",
     "exception": false,
     "start_time": "2022-10-18T16:58:47.172449",
     "status": "completed"
    },
    "tags": []
   },
   "outputs": [
    {
     "data": {
      "image/png": "[encoded data removed]",
      "text/plain": [
       "<Figure size 432x288 with 1 Axes>"
      ]
     },
     "metadata": {
      "needs_background": "light"
     },
     "output_type": "display_data"
    },
    {
     "data": {
      "image/png": "[encoded data removed]",
      "text/plain": [
       "<Figure size 432x288 with 1 Axes>"
      ]
     },
     "metadata": {
      "needs_background": "light"
     },
     "output_type": "display_data"
    }
   ],
   "source": [
    "numbers = [0.1, 0.5, 0.9, 1]\n",
    "listMSE=[]\n",
    "listR2=[]\n",
    "\n",
    "for c in numbers:\n",
    "    regressor = xgb.XGBRegressor(\n",
    "        colsample_bytree=c\n",
    "    )\n",
    "    regressor.fit(X_train, y_train)\n",
    "    y_pred = regressor.predict(X_test)\n",
    "\n",
    "    xgMSE=mean_absolute_error(y_test, y_pred)\n",
    "    xgR2 = r2_score(y_test, y_pred).round(4)\n",
    "    listMSE.append(xgMSE)\n",
    "    listR2.append(xgR2)\n",
    "    \n",
    "plt.plot(numbers, listMSE)\n",
    "plt.title('ColSample Error')\n",
    "plt.ylabel('Error')\n",
    "plt.xlabel('ColSample')\n",
    "plt.legend()\n",
    "plt.show()\n",
    "\n",
    "plt.plot(numbers, listR2)\n",
    "plt.title('ColSample R2')\n",
    "plt.ylabel('Accurate')\n",
    "plt.xlabel('ColSample')\n",
    "plt.legend()\n",
    "plt.show()"
   ]
  },
  {
   "cell_type": "markdown",
   "id": "29ae39cc",
   "metadata": {
    "papermill": {
     "duration": 0.020903,
     "end_time": "2022-10-18T16:58:49.255149",
     "exception": false,
     "start_time": "2022-10-18T16:58:49.234246",
     "status": "completed"
    },
    "tags": []
   },
   "source": [
    "# Subsample"
   ]
  },
  {
   "cell_type": "code",
   "execution_count": 23,
   "id": "65d9b0da",
   "metadata": {
    "execution": {
     "iopub.execute_input": "2022-10-18T16:58:49.299328Z",
     "iopub.status.busy": "2022-10-18T16:58:49.298898Z",
     "iopub.status.idle": "2022-10-18T16:58:49.307781Z",
     "shell.execute_reply": "2022-10-18T16:58:49.306605Z"
    },
    "papermill": {
     "duration": 0.033629,
     "end_time": "2022-10-18T16:58:49.310059",
     "exception": false,
     "start_time": "2022-10-18T16:58:49.276430",
     "status": "completed"
    },
    "tags": []
   },
   "outputs": [],
   "source": [
    "def subSample():\n",
    "    numbers = [0.1, .2, .3, .4, 0.5, .6, .7, .8, .9, 1]\n",
    "    listMSE=[]\n",
    "    listR2=[]\n",
    "\n",
    "    for n in numbers:\n",
    "        regressor = xgb.XGBRegressor(\n",
    "            subample=n\n",
    "        )\n",
    "        regressor.fit(X_train, y_train)\n",
    "        y_pred = regressor.predict(X_test)\n",
    "\n",
    "        xgMSE=mean_absolute_error(y_test, y_pred)\n",
    "        xgR2 = r2_score(y_test, y_pred).round(4)\n",
    "        listMSE.append(xgMSE)\n",
    "        listR2.append(xgR2)\n",
    "\n",
    "    plt.plot(numbers, listMSE)\n",
    "    plt.title('ColSample Error')\n",
    "    plt.ylabel('Error')\n",
    "    plt.xlabel('subsample')\n",
    "    plt.show()\n",
    "\n",
    "    plt.plot(numbers, listR2)\n",
    "    plt.title('subsample')\n",
    "    plt.ylabel('Accurate')\n",
    "    plt.xlabel('ColSample')\n",
    "    plt.show()\n",
    "#subSample()"
   ]
  },
  {
   "cell_type": "markdown",
   "id": "30bcf3ba",
   "metadata": {
    "papermill": {
     "duration": 0.023128,
     "end_time": "2022-10-18T16:58:49.356857",
     "exception": false,
     "start_time": "2022-10-18T16:58:49.333729",
     "status": "completed"
    },
    "tags": []
   },
   "source": [
    "# Grid Search XGBoost"
   ]
  },
  {
   "cell_type": "code",
   "execution_count": 24,
   "id": "98812692",
   "metadata": {
    "execution": {
     "iopub.execute_input": "2022-10-18T16:58:49.406186Z",
     "iopub.status.busy": "2022-10-18T16:58:49.405709Z",
     "iopub.status.idle": "2022-10-18T17:04:08.820673Z",
     "shell.execute_reply": "2022-10-18T17:04:08.819234Z"
    },
    "papermill": {
     "duration": 319.456715,
     "end_time": "2022-10-18T17:04:08.837902",
     "exception": false,
     "start_time": "2022-10-18T16:58:49.381187",
     "status": "completed"
    },
    "tags": []
   },
   "outputs": [
    {
     "name": "stdout",
     "output_type": "stream",
     "text": [
      "Start\n",
      "{'colsample_bytree': 0.9, 'eta': 0.01, 'learning_rate': 0.1, 'max_depth': 2, 'min_child_weight': 10, 'n_estimators': 150, 'reg_alpha': 20, 'reg_lambda': 0}\n",
      "Done.  319.39450240135193  seconds\n"
     ]
    }
   ],
   "source": [
    "from sklearn.model_selection import GridSearchCV, RandomizedSearchCV, KFold, StratifiedKFold\n",
    "from sklearn.metrics import f1_score, max_error\n",
    "from xgboost import cv\n",
    "from scipy import stats\n",
    "import time\n",
    "\n",
    "def gridSearch():\n",
    "    start=time.time()\n",
    "    print(\"Start\")\n",
    "\n",
    "    params = {\n",
    "        'learning_rate':[.1, .3],\n",
    "        'n_estimators':[150], #150 best, 100 better than 50 \n",
    "        'max_depth':[2, 3, 4, 5], #2 is best then 3\n",
    "        'min_child_weight':[10],\n",
    "        'reg_lambda':[0],\n",
    "        'reg_alpha':[20, 30],\n",
    "        'colsample_bytree':[.9, 1],\n",
    "        'eta':[.01, .02, .03]\n",
    "    }\n",
    "\n",
    "    boost_gs=xgb.XGBRegressor()\n",
    "    kfold = KFold(n_splits=10, shuffle=True, random_state=7)\n",
    "    boost_gs=GridSearchCV(boost_gs, param_grid=params, scoring='neg_mean_squared_error', cv=kfold)\n",
    "    #boost_gs.fit(X_train, y_train)\n",
    "    boost_gs.fit(X_train, y_train, early_stopping_rounds=10, eval_metric=\"rmse\", eval_set=[(X_test, y_test)], verbose=False)\n",
    "\n",
    "    print(boost_gs.best_params_)\n",
    "    print(\"Done. \", time.time()-start, \" seconds\")\n",
    "gridSearch()"
   ]
  },
  {
   "cell_type": "markdown",
   "id": "2a5be859",
   "metadata": {
    "papermill": {
     "duration": 0.021461,
     "end_time": "2022-10-18T17:04:08.881195",
     "exception": false,
     "start_time": "2022-10-18T17:04:08.859734",
     "status": "completed"
    },
    "tags": []
   },
   "source": [
    "# Final Predictions\n",
    "Here the best models found by using GridSearch:\n",
    "* kFold=10 {'colsample_bytree': 0.9, 'eta': 0.01, 'learning_rate': 0.1, 'max_depth': 3, 'min_child_weight': 10, 'n_estimators': 100, 'reg_alpha': 30, 'reg_lambda': 0}\n",
    "* Using cv=10 {'colsample_bytree': 0.9, 'learning_rate': 0.1, 'max_depth': 3, 'min_child_weight': 10, 'n_estimators': 100, 'reg_alpha': 0, 'reg_lambda': 5}\n",
    "* {'colsample_bytree': 0.9, 'learning_rate': 0.1, 'max_depth': 4, 'min_child_weight': 10, 'n_estimators': 100, 'reg_alpha': 0, 'reg_lambda': 5}\n",
    "* {'colsample_bytree': 0.9, 'learning_rate': 0.1, 'max_depth': 4, 'min_child_weight': 10, 'n_estimators': 50, 'reg_alpha': 0, 'reg_lambda': 0}\n",
    "* Using MSE with cv=10 {'learning_rate': 0.3, 'max_depth': 2, 'min_child_weight': 5, 'n_estimators': 50, 'reg_lambda': 0.5}\n",
    "* Top 47% {'eta': 0.1, 'learning_rate': 0.01, 'max_depth': 4, 'min_child_weight': 10, 'n_estimators': 50, 'reg_lambda': 0.01}\n",
    "* Using Kfold=5 {'colsample_bytree': 0.5, 'learning_rate': 0.5, 'max_depth': 3, 'min_child_weight': 10, 'n_estimators': 50, 'reg_lambda': 0.5}"
   ]
  },
  {
   "cell_type": "code",
   "execution_count": 25,
   "id": "bc114142",
   "metadata": {
    "execution": {
     "iopub.execute_input": "2022-10-18T17:04:08.931469Z",
     "iopub.status.busy": "2022-10-18T17:04:08.930256Z",
     "iopub.status.idle": "2022-10-18T17:04:18.070617Z",
     "shell.execute_reply": "2022-10-18T17:04:18.069099Z"
    },
    "papermill": {
     "duration": 9.168199,
     "end_time": "2022-10-18T17:04:18.074633",
     "exception": false,
     "start_time": "2022-10-18T17:04:08.906434",
     "status": "completed"
    },
    "tags": []
   },
   "outputs": [
    {
     "name": "stdout",
     "output_type": "stream",
     "text": [
      "r2  0.8947 0.9023 || cross validate:  -0.0076\n",
      "mae error  15194.19  ||  15052.5335 cross validate:  141.6565\n"
     ]
    }
   ],
   "source": [
    "xgbFinal = xgb.XGBRegressor(\n",
    "        n_estimators=150,\n",
    "        max_depth=2,\n",
    "        reg_lambda=0,\n",
    "        reg_alpha=30,\n",
    "        min_child_weight=10,\n",
    "        learning_rate=.1,\n",
    "        colsample_bytree=1,\n",
    "        eta=.01,\n",
    "    )\n",
    "\n",
    "#Note: no early stop provides better score:\n",
    "xgbFinal.fit(X_train, y_train)\n",
    "#xgbFinal.fit(X_train, y_train, early_stopping_rounds=10, eval_metric=\"rmse\", eval_set=[(X_test, y_test)], verbose=False)\n",
    "y_pred = xgbFinal.predict(X_test)\n",
    "\n",
    "#Metrics\n",
    "xgMSE=mean_absolute_error(y_test, y_pred).round(2)\n",
    "xgR2 = r2_score(y_test, y_pred).round(4)\n",
    "\n",
    "xgScore = xgbFinal.score(X_test, y_test).round(4)  \n",
    "xgCV = cross_validate(xgbFinal, X, y, cv = 10, scoring='r2')\n",
    "xgCV=xgCV['test_score'].mean().round(4)\n",
    "print(\"r2 \", xgScore, xgCV, \"|| cross validate: \", (xgScore-xgCV).round(4))\n",
    "\n",
    "xgCVerr = cross_validate(xgbFinal, X, y, cv = 10, scoring='neg_mean_absolute_error')\n",
    "xgCVerr=xgCVerr['test_score'].mean().round(4)\n",
    "print(\"mae error \", xgMSE, \" || \", abs(xgCVerr), \"cross validate: \", (xgMSE-abs(xgCVerr)).round(4))"
   ]
  },
  {
   "cell_type": "markdown",
   "id": "2ec9e553",
   "metadata": {
    "papermill": {
     "duration": 0.021472,
     "end_time": "2022-10-18T17:04:18.119760",
     "exception": false,
     "start_time": "2022-10-18T17:04:18.098288",
     "status": "completed"
    },
    "tags": []
   },
   "source": [
    "### Graph"
   ]
  },
  {
   "cell_type": "code",
   "execution_count": 26,
   "id": "ed4749f7",
   "metadata": {
    "execution": {
     "iopub.execute_input": "2022-10-18T17:04:18.165958Z",
     "iopub.status.busy": "2022-10-18T17:04:18.164909Z",
     "iopub.status.idle": "2022-10-18T17:04:19.230353Z",
     "shell.execute_reply": "2022-10-18T17:04:19.228952Z"
    },
    "papermill": {
     "duration": 1.091471,
     "end_time": "2022-10-18T17:04:19.232986",
     "exception": false,
     "start_time": "2022-10-18T17:04:18.141515",
     "status": "completed"
    },
    "tags": []
   },
   "outputs": [
    {
     "data": {
      "image/svg+xml": [
       "<?xml version=\"1.0\" encoding=\"UTF-8\" standalone=\"no\"?>\n",
       "<!DOCTYPE svg PUBLIC \"-//W3C//DTD SVG 1.1//EN\"\n",
       " \"http://www.w3.org/Graphics/SVG/1.1/DTD/svg11.dtd\">\n",
       "<!-- Generated by graphviz version 5.0.0 (20220707.2338)\n",
       " -->\n",
       "<!-- Pages: 1 -->\n",
       "<svg width=\"778pt\" height=\"218pt\"\n",
       " viewBox=\"0.00 0.00 777.98 218.00\" xmlns=\"http://www.w3.org/2000/svg\" xmlns:xlink=\"http://www.w3.org/1999/xlink\">\n",
       "<g id=\"graph0\" class=\"graph\" transform=\"scale(1 1) rotate(0) translate(4 214)\">\n",
       "<polygon fill=\"white\" stroke=\"transparent\" points=\"-4,4 -4,-214 773.98,-214 773.98,4 -4,4\"/>\n",
       "<!-- 0 -->\n",
       "<g id=\"node1\" class=\"node\">\n",
       "<title>0</title>\n",
       "<ellipse fill=\"none\" stroke=\"black\" cx=\"387.99\" cy=\"-192\" rx=\"88.28\" ry=\"18\"/>\n",
       "<text text-anchor=\"middle\" x=\"387.99\" y=\"-188.3\" font-family=\"Times,serif\" font-size=\"14.00\">OverallQual&lt;6.5</text>\n",
       "</g>\n",
       "<!-- 1 -->\n",
       "<g id=\"node2\" class=\"node\">\n",
       "<title>1</title>\n",
       "<ellipse fill=\"none\" stroke=\"black\" cx=\"290.99\" cy=\"-105\" rx=\"85.59\" ry=\"18\"/>\n",
       "<text text-anchor=\"middle\" x=\"290.99\" y=\"-101.3\" font-family=\"Times,serif\" font-size=\"14.00\">totalSQ&lt;2175.5</text>\n",
       "</g>\n",
       "<!-- 0&#45;&gt;1 -->\n",
       "<g id=\"edge1\" class=\"edge\">\n",
       "<title>0&#45;&gt;1</title>\n",
       "<path fill=\"none\" stroke=\"#0000ff\" d=\"M368.83,-174.21C354.21,-161.4 333.91,-143.61 317.7,-129.4\"/>\n",
       "<polygon fill=\"#0000ff\" stroke=\"#0000ff\" points=\"319.94,-126.72 310.12,-122.76 315.33,-131.98 319.94,-126.72\"/>\n",
       "<text text-anchor=\"middle\" x=\"390.49\" y=\"-144.8\" font-family=\"Times,serif\" font-size=\"14.00\">yes, missing</text>\n",
       "</g>\n",
       "<!-- 2 -->\n",
       "<g id=\"node3\" class=\"node\">\n",
       "<title>2</title>\n",
       "<ellipse fill=\"none\" stroke=\"black\" cx=\"484.99\" cy=\"-105\" rx=\"85.59\" ry=\"18\"/>\n",
       "<text text-anchor=\"middle\" x=\"484.99\" y=\"-101.3\" font-family=\"Times,serif\" font-size=\"14.00\">totalSQ&lt;3233.5</text>\n",
       "</g>\n",
       "<!-- 0&#45;&gt;2 -->\n",
       "<g id=\"edge2\" class=\"edge\">\n",
       "<title>0&#45;&gt;2</title>\n",
       "<path fill=\"none\" stroke=\"#ff0000\" d=\"M414.25,-174.64C422.46,-169.09 431.36,-162.61 438.99,-156 447.77,-148.39 456.61,-139.23 464.15,-130.84\"/>\n",
       "<polygon fill=\"#ff0000\" stroke=\"#ff0000\" points=\"466.98,-132.93 470.95,-123.11 461.72,-128.31 466.98,-132.93\"/>\n",
       "<text text-anchor=\"middle\" x=\"462.99\" y=\"-144.8\" font-family=\"Times,serif\" font-size=\"14.00\">no</text>\n",
       "</g>\n",
       "<!-- 3 -->\n",
       "<g id=\"node4\" class=\"node\">\n",
       "<title>3</title>\n",
       "<ellipse fill=\"none\" stroke=\"black\" cx=\"90.99\" cy=\"-18\" rx=\"90.98\" ry=\"18\"/>\n",
       "<text text-anchor=\"middle\" x=\"90.99\" y=\"-14.3\" font-family=\"Times,serif\" font-size=\"14.00\">leaf=11873.1074</text>\n",
       "</g>\n",
       "<!-- 1&#45;&gt;3 -->\n",
       "<g id=\"edge3\" class=\"edge\">\n",
       "<title>1&#45;&gt;3</title>\n",
       "<path fill=\"none\" stroke=\"#0000ff\" d=\"M249.52,-89.17C233.33,-83.18 214.69,-76.03 197.99,-69 176.23,-59.84 152.4,-48.8 132.76,-39.43\"/>\n",
       "<polygon fill=\"#0000ff\" stroke=\"#0000ff\" points=\"134.01,-36.15 123.48,-34.98 130.98,-42.46 134.01,-36.15\"/>\n",
       "<text text-anchor=\"middle\" x=\"242.49\" y=\"-57.8\" font-family=\"Times,serif\" font-size=\"14.00\">yes, missing</text>\n",
       "</g>\n",
       "<!-- 4 -->\n",
       "<g id=\"node5\" class=\"node\">\n",
       "<title>4</title>\n",
       "<ellipse fill=\"none\" stroke=\"black\" cx=\"290.99\" cy=\"-18\" rx=\"90.98\" ry=\"18\"/>\n",
       "<text text-anchor=\"middle\" x=\"290.99\" y=\"-14.3\" font-family=\"Times,serif\" font-size=\"14.00\">leaf=16338.3975</text>\n",
       "</g>\n",
       "<!-- 1&#45;&gt;4 -->\n",
       "<g id=\"edge4\" class=\"edge\">\n",
       "<title>1&#45;&gt;4</title>\n",
       "<path fill=\"none\" stroke=\"#ff0000\" d=\"M290.99,-86.8C290.99,-75.16 290.99,-59.55 290.99,-46.24\"/>\n",
       "<polygon fill=\"#ff0000\" stroke=\"#ff0000\" points=\"294.49,-46.18 290.99,-36.18 287.49,-46.18 294.49,-46.18\"/>\n",
       "<text text-anchor=\"middle\" x=\"299.99\" y=\"-57.8\" font-family=\"Times,serif\" font-size=\"14.00\">no</text>\n",
       "</g>\n",
       "<!-- 5 -->\n",
       "<g id=\"node6\" class=\"node\">\n",
       "<title>5</title>\n",
       "<ellipse fill=\"none\" stroke=\"black\" cx=\"484.99\" cy=\"-18\" rx=\"85.29\" ry=\"18\"/>\n",
       "<text text-anchor=\"middle\" x=\"484.99\" y=\"-14.3\" font-family=\"Times,serif\" font-size=\"14.00\">leaf=20607.002</text>\n",
       "</g>\n",
       "<!-- 2&#45;&gt;5 -->\n",
       "<g id=\"edge5\" class=\"edge\">\n",
       "<title>2&#45;&gt;5</title>\n",
       "<path fill=\"none\" stroke=\"#0000ff\" d=\"M484.99,-86.8C484.99,-75.16 484.99,-59.55 484.99,-46.24\"/>\n",
       "<polygon fill=\"#0000ff\" stroke=\"#0000ff\" points=\"488.49,-46.18 484.99,-36.18 481.49,-46.18 488.49,-46.18\"/>\n",
       "<text text-anchor=\"middle\" x=\"529.49\" y=\"-57.8\" font-family=\"Times,serif\" font-size=\"14.00\">yes, missing</text>\n",
       "</g>\n",
       "<!-- 6 -->\n",
       "<g id=\"node7\" class=\"node\">\n",
       "<title>6</title>\n",
       "<ellipse fill=\"none\" stroke=\"black\" cx=\"678.99\" cy=\"-18\" rx=\"90.98\" ry=\"18\"/>\n",
       "<text text-anchor=\"middle\" x=\"678.99\" y=\"-14.3\" font-family=\"Times,serif\" font-size=\"14.00\">leaf=30709.8691</text>\n",
       "</g>\n",
       "<!-- 2&#45;&gt;6 -->\n",
       "<g id=\"edge6\" class=\"edge\">\n",
       "<title>2&#45;&gt;6</title>\n",
       "<path fill=\"none\" stroke=\"#ff0000\" d=\"M527.01,-89.2C543.1,-83.27 561.54,-76.15 577.99,-69 598.56,-60.06 620.96,-49.1 639.43,-39.73\"/>\n",
       "<polygon fill=\"#ff0000\" stroke=\"#ff0000\" points=\"641.11,-42.8 648.42,-35.13 637.93,-36.56 641.11,-42.8\"/>\n",
       "<text text-anchor=\"middle\" x=\"616.99\" y=\"-57.8\" font-family=\"Times,serif\" font-size=\"14.00\">no</text>\n",
       "</g>\n",
       "</g>\n",
       "</svg>\n"
      ],
      "text/plain": [
       "<graphviz.files.Source at 0x7f08cf544450>"
      ]
     },
     "execution_count": 26,
     "metadata": {},
     "output_type": "execute_result"
    }
   ],
   "source": [
    "import graphviz\n",
    "xgb.to_graphviz(xgbFinal)"
   ]
  },
  {
   "cell_type": "markdown",
   "id": "82d2c910",
   "metadata": {
    "papermill": {
     "duration": 0.021676,
     "end_time": "2022-10-18T17:04:19.276601",
     "exception": false,
     "start_time": "2022-10-18T17:04:19.254925",
     "status": "completed"
    },
    "tags": []
   },
   "source": [
    "# Feature Importance"
   ]
  },
  {
   "cell_type": "code",
   "execution_count": 27,
   "id": "4c51767e",
   "metadata": {
    "execution": {
     "iopub.execute_input": "2022-10-18T17:04:19.323095Z",
     "iopub.status.busy": "2022-10-18T17:04:19.322679Z",
     "iopub.status.idle": "2022-10-18T17:04:19.607703Z",
     "shell.execute_reply": "2022-10-18T17:04:19.606330Z"
    },
    "papermill": {
     "duration": 0.311521,
     "end_time": "2022-10-18T17:04:19.610293",
     "exception": false,
     "start_time": "2022-10-18T17:04:19.298772",
     "status": "completed"
    },
    "tags": []
   },
   "outputs": [
    {
     "data": {
      "image/png": "[encoded data removed]",
      "text/plain": [
       "<Figure size 432x288 with 1 Axes>"
      ]
     },
     "metadata": {
      "needs_background": "light"
     },
     "output_type": "display_data"
    },
    {
     "data": {
      "text/plain": [
       "<Figure size 1440x1440 with 0 Axes>"
      ]
     },
     "metadata": {},
     "output_type": "display_data"
    }
   ],
   "source": [
    "xgb.plot_importance(xgbFinal, max_num_features=12, title='xgBoost Top Features Importance')\n",
    "plt.figure(figsize = (20, 20))\n",
    "plt.show()"
   ]
  },
  {
   "cell_type": "code",
   "execution_count": 28,
   "id": "96523f7b",
   "metadata": {
    "execution": {
     "iopub.execute_input": "2022-10-18T17:04:19.659267Z",
     "iopub.status.busy": "2022-10-18T17:04:19.658823Z",
     "iopub.status.idle": "2022-10-18T17:04:19.668354Z",
     "shell.execute_reply": "2022-10-18T17:04:19.666787Z"
    },
    "papermill": {
     "duration": 0.036946,
     "end_time": "2022-10-18T17:04:19.670821",
     "exception": false,
     "start_time": "2022-10-18T17:04:19.633875",
     "status": "completed"
    },
    "tags": []
   },
   "outputs": [
    {
     "name": "stdout",
     "output_type": "stream",
     "text": [
      "Feature Importance:\n",
      "0.0011   Id\n",
      "0.0134   LotArea\n",
      "0.416   OverallQual\n",
      "0.008   OverallCond\n",
      "0.015   YearBuilt\n",
      "0.0333   YearRemodAdd\n",
      "0.0253   BsmtFinSF1\n",
      "0.0024   TotalBsmtSF\n",
      "0.0533   CentralAir\n",
      "0.0026   1stFlrSF\n",
      "0.0031   2ndFlrSF\n",
      "0.0164   GrLivArea\n",
      "0.0076   KitchenAbvGr\n",
      "0.0449   Fireplaces\n",
      "0.0838   GarageCars\n",
      "0.0089   GarageArea\n",
      "0.005   WoodDeckSF\n",
      "0.1883   totalSQ\n",
      "0.0487   bathrooms\n",
      "0.0228   NewConstruction\n"
     ]
    }
   ],
   "source": [
    "importance=xgbFinal.feature_importances_\n",
    "name=xgbFinal.feature_names_in_\n",
    "print(\"Feature Importance:\")\n",
    "for num in range(len(name)):\n",
    "    print(round(importance[num],4), \" \", name[num])"
   ]
  },
  {
   "cell_type": "code",
   "execution_count": 29,
   "id": "89540d6f",
   "metadata": {
    "execution": {
     "iopub.execute_input": "2022-10-18T17:04:19.720249Z",
     "iopub.status.busy": "2022-10-18T17:04:19.718970Z",
     "iopub.status.idle": "2022-10-18T17:04:19.729519Z",
     "shell.execute_reply": "2022-10-18T17:04:19.728646Z"
    },
    "papermill": {
     "duration": 0.037726,
     "end_time": "2022-10-18T17:04:19.731756",
     "exception": false,
     "start_time": "2022-10-18T17:04:19.694030",
     "status": "completed"
    },
    "tags": []
   },
   "outputs": [],
   "source": [
    "def randSearch():\n",
    "    clf_xgb = xgb.XGBRegressor()\n",
    "    param_dist = {'n_estimators': stats.randint(50, 130),\n",
    "                  'learning_rate': stats.uniform(0.01, 0.07),\n",
    "                  'subsample': stats.uniform(0.3, 0.7),\n",
    "                  'max_depth': [3, 4, 5, 6],\n",
    "                  'colsample_bytree': stats.uniform(0.5, 0.45),\n",
    "                  'min_child_weight': [1, 10]\n",
    "                 }\n",
    "    clf = RandomizedSearchCV(\n",
    "        clf_xgb, param_distributions = param_dist, n_iter = 10, \n",
    "     scoring = 'r2', error_score = 0, verbose = 3, n_jobs = -1)\n",
    "\n",
    "    numFolds = 5\n",
    "    folds = KFold(n_splits = numFolds, shuffle = True)\n",
    "\n",
    "    estimators = []\n",
    "    results = np.zeros(len(X))\n",
    "    score = 0.0\n",
    "    for train_index, test_index in folds.split(X):\n",
    "        X_train, X_test = X.iloc[train_index,:], X.iloc[test_index,:]\n",
    "        y_train, y_test = y.iloc[train_index].values.ravel(), y.iloc[test_index].values.ravel()\n",
    "        clf.fit(X_train, y_train)\n",
    "\n",
    "        estimators.append(clf.best_estimator_)\n",
    "        results[test_index] = clf.predict(X_test)\n",
    "        score += r2_score(y_test, results[test_index])\n",
    "    score /= numFolds"
   ]
  },
  {
   "cell_type": "markdown",
   "id": "291db46e",
   "metadata": {
    "execution": {
     "iopub.execute_input": "2022-09-19T21:09:40.310967Z",
     "iopub.status.busy": "2022-09-19T21:09:40.310240Z",
     "iopub.status.idle": "2022-09-19T21:09:40.328174Z",
     "shell.execute_reply": "2022-09-19T21:09:40.326914Z",
     "shell.execute_reply.started": "2022-09-19T21:09:40.310928Z"
    },
    "papermill": {
     "duration": 0.022623,
     "end_time": "2022-10-18T17:04:19.777076",
     "exception": false,
     "start_time": "2022-10-18T17:04:19.754453",
     "status": "completed"
    },
    "tags": []
   },
   "source": [
    "# Test Dataset\n",
    "Make final predictions on unknown house price value using features from Train data"
   ]
  },
  {
   "cell_type": "code",
   "execution_count": 30,
   "id": "06fcc5d3",
   "metadata": {
    "execution": {
     "iopub.execute_input": "2022-10-18T17:04:19.825488Z",
     "iopub.status.busy": "2022-10-18T17:04:19.824600Z",
     "iopub.status.idle": "2022-10-18T17:04:19.923638Z",
     "shell.execute_reply": "2022-10-18T17:04:19.922426Z"
    },
    "papermill": {
     "duration": 0.126143,
     "end_time": "2022-10-18T17:04:19.926225",
     "exception": false,
     "start_time": "2022-10-18T17:04:19.800082",
     "status": "completed"
    },
    "tags": []
   },
   "outputs": [
    {
     "name": "stdout",
     "output_type": "stream",
     "text": [
      "(1459, 80)\n"
     ]
    },
    {
     "data": {
      "text/html": [
       "<div>\n",
       "<style scoped>\n",
       "    .dataframe tbody tr th:only-of-type {\n",
       "        vertical-align: middle;\n",
       "    }\n",
       "\n",
       "    .dataframe tbody tr th {\n",
       "        vertical-align: top;\n",
       "    }\n",
       "\n",
       "    .dataframe thead th {\n",
       "        text-align: right;\n",
       "    }\n",
       "</style>\n",
       "<table border=\"1\" class=\"dataframe\">\n",
       "  <thead>\n",
       "    <tr style=\"text-align: right;\">\n",
       "      <th></th>\n",
       "      <th>Id</th>\n",
       "      <th>MSSubClass</th>\n",
       "      <th>LotFrontage</th>\n",
       "      <th>LotArea</th>\n",
       "      <th>OverallQual</th>\n",
       "      <th>OverallCond</th>\n",
       "      <th>YearBuilt</th>\n",
       "      <th>YearRemodAdd</th>\n",
       "      <th>MasVnrArea</th>\n",
       "      <th>BsmtFinSF1</th>\n",
       "      <th>...</th>\n",
       "      <th>EnclosedPorch</th>\n",
       "      <th>3SsnPorch</th>\n",
       "      <th>ScreenPorch</th>\n",
       "      <th>PoolArea</th>\n",
       "      <th>MiscVal</th>\n",
       "      <th>MoSold</th>\n",
       "      <th>YrSold</th>\n",
       "      <th>totalSQ</th>\n",
       "      <th>bathrooms</th>\n",
       "      <th>NewConstruction</th>\n",
       "    </tr>\n",
       "  </thead>\n",
       "  <tbody>\n",
       "    <tr>\n",
       "      <th>0</th>\n",
       "      <td>1461</td>\n",
       "      <td>20</td>\n",
       "      <td>80.0</td>\n",
       "      <td>11622</td>\n",
       "      <td>5</td>\n",
       "      <td>6</td>\n",
       "      <td>1961</td>\n",
       "      <td>1961</td>\n",
       "      <td>0.0</td>\n",
       "      <td>468.0</td>\n",
       "      <td>...</td>\n",
       "      <td>0</td>\n",
       "      <td>0</td>\n",
       "      <td>120</td>\n",
       "      <td>0</td>\n",
       "      <td>0</td>\n",
       "      <td>6</td>\n",
       "      <td>2010</td>\n",
       "      <td>1778.0</td>\n",
       "      <td>1.0</td>\n",
       "      <td>0</td>\n",
       "    </tr>\n",
       "    <tr>\n",
       "      <th>1</th>\n",
       "      <td>1462</td>\n",
       "      <td>20</td>\n",
       "      <td>81.0</td>\n",
       "      <td>14267</td>\n",
       "      <td>6</td>\n",
       "      <td>6</td>\n",
       "      <td>1958</td>\n",
       "      <td>1958</td>\n",
       "      <td>108.0</td>\n",
       "      <td>923.0</td>\n",
       "      <td>...</td>\n",
       "      <td>0</td>\n",
       "      <td>0</td>\n",
       "      <td>0</td>\n",
       "      <td>0</td>\n",
       "      <td>12500</td>\n",
       "      <td>6</td>\n",
       "      <td>2010</td>\n",
       "      <td>2658.0</td>\n",
       "      <td>2.0</td>\n",
       "      <td>0</td>\n",
       "    </tr>\n",
       "    <tr>\n",
       "      <th>2</th>\n",
       "      <td>1463</td>\n",
       "      <td>60</td>\n",
       "      <td>74.0</td>\n",
       "      <td>13830</td>\n",
       "      <td>5</td>\n",
       "      <td>5</td>\n",
       "      <td>1997</td>\n",
       "      <td>1998</td>\n",
       "      <td>0.0</td>\n",
       "      <td>791.0</td>\n",
       "      <td>...</td>\n",
       "      <td>0</td>\n",
       "      <td>0</td>\n",
       "      <td>0</td>\n",
       "      <td>0</td>\n",
       "      <td>0</td>\n",
       "      <td>3</td>\n",
       "      <td>2010</td>\n",
       "      <td>2557.0</td>\n",
       "      <td>3.0</td>\n",
       "      <td>0</td>\n",
       "    </tr>\n",
       "    <tr>\n",
       "      <th>3</th>\n",
       "      <td>1464</td>\n",
       "      <td>60</td>\n",
       "      <td>78.0</td>\n",
       "      <td>9978</td>\n",
       "      <td>6</td>\n",
       "      <td>6</td>\n",
       "      <td>1998</td>\n",
       "      <td>1998</td>\n",
       "      <td>20.0</td>\n",
       "      <td>602.0</td>\n",
       "      <td>...</td>\n",
       "      <td>0</td>\n",
       "      <td>0</td>\n",
       "      <td>0</td>\n",
       "      <td>0</td>\n",
       "      <td>0</td>\n",
       "      <td>6</td>\n",
       "      <td>2010</td>\n",
       "      <td>2530.0</td>\n",
       "      <td>3.0</td>\n",
       "      <td>0</td>\n",
       "    </tr>\n",
       "    <tr>\n",
       "      <th>4</th>\n",
       "      <td>1465</td>\n",
       "      <td>120</td>\n",
       "      <td>43.0</td>\n",
       "      <td>5005</td>\n",
       "      <td>8</td>\n",
       "      <td>5</td>\n",
       "      <td>1992</td>\n",
       "      <td>1992</td>\n",
       "      <td>0.0</td>\n",
       "      <td>263.0</td>\n",
       "      <td>...</td>\n",
       "      <td>0</td>\n",
       "      <td>0</td>\n",
       "      <td>144</td>\n",
       "      <td>0</td>\n",
       "      <td>0</td>\n",
       "      <td>1</td>\n",
       "      <td>2010</td>\n",
       "      <td>2560.0</td>\n",
       "      <td>2.0</td>\n",
       "      <td>0</td>\n",
       "    </tr>\n",
       "  </tbody>\n",
       "</table>\n",
       "<p>5 rows × 41 columns</p>\n",
       "</div>"
      ],
      "text/plain": [
       "     Id  MSSubClass  LotFrontage  LotArea  OverallQual  OverallCond  \\\n",
       "0  1461          20         80.0    11622            5            6   \n",
       "1  1462          20         81.0    14267            6            6   \n",
       "2  1463          60         74.0    13830            5            5   \n",
       "3  1464          60         78.0     9978            6            6   \n",
       "4  1465         120         43.0     5005            8            5   \n",
       "\n",
       "   YearBuilt  YearRemodAdd  MasVnrArea  BsmtFinSF1  ...  EnclosedPorch  \\\n",
       "0       1961          1961         0.0       468.0  ...              0   \n",
       "1       1958          1958       108.0       923.0  ...              0   \n",
       "2       1997          1998         0.0       791.0  ...              0   \n",
       "3       1998          1998        20.0       602.0  ...              0   \n",
       "4       1992          1992         0.0       263.0  ...              0   \n",
       "\n",
       "   3SsnPorch  ScreenPorch  PoolArea  MiscVal  MoSold  YrSold  totalSQ  \\\n",
       "0          0          120         0        0       6    2010   1778.0   \n",
       "1          0            0         0    12500       6    2010   2658.0   \n",
       "2          0            0         0        0       3    2010   2557.0   \n",
       "3          0            0         0        0       6    2010   2530.0   \n",
       "4          0          144         0        0       1    2010   2560.0   \n",
       "\n",
       "   bathrooms  NewConstruction  \n",
       "0        1.0                0  \n",
       "1        2.0                0  \n",
       "2        3.0                0  \n",
       "3        3.0                0  \n",
       "4        2.0                0  \n",
       "\n",
       "[5 rows x 41 columns]"
      ]
     },
     "execution_count": 30,
     "metadata": {},
     "output_type": "execute_result"
    }
   ],
   "source": [
    "test='/kaggle/input/house-prices-advanced-regression-techniques/test.csv'\n",
    "testDF=pd.read_csv(test)\n",
    "print(testDF.shape)\n",
    "\n",
    "#Missing Values\n",
    "testDF=testDF.drop_duplicates()\n",
    "testDF['MiscFeature']=testDF['MiscFeature'].fillna(0)\n",
    "testDF['Alley']=testDF['Alley'].fillna(0)\n",
    "testDF['Fence']=testDF['Fence'].fillna(0)\n",
    "testDF['FireplaceQu']=testDF['FireplaceQu'].fillna(0)\n",
    "testDF=testDF.fillna(df.mean())\n",
    "\n",
    "# Feature Engineer\n",
    "testDF['totalSQ']=testDF['1stFlrSF']+testDF['2ndFlrSF']+testDF['TotalBsmtSF']\n",
    "testDF['bathrooms']=testDF['FullBath']+testDF['BsmtFullBath']+testDF['HalfBath']+testDF['BsmtHalfBath']\n",
    "testDF['CentralAir'] = testDF['CentralAir'].replace({'Y':0, 'N':1})\n",
    "testDF['NewConstruction'] = (testDF['SaleType'] == 'New').astype('int64')\n",
    "testDF[\"PoolScore\"] = testDF[\"PoolArea\"] * testDF[\"PoolQC\"]\n",
    "\n",
    "#testDF['SaleCondition']=testDF['SaleCondition'].apply(lambda x:1 if x == 'Normal' else 0)\n",
    "#testDF['Condition1']=testDF['Condition1'].apply(lambda x: 1 if x=='Norm' else 0)\n",
    "\n",
    "testDF = testDF.select_dtypes(include=['int16', 'int32', 'int64', 'float16', 'float32', 'float64'])\n",
    "testDF.head()"
   ]
  },
  {
   "cell_type": "code",
   "execution_count": 31,
   "id": "28c828cf",
   "metadata": {
    "execution": {
     "iopub.execute_input": "2022-10-18T17:04:19.974500Z",
     "iopub.status.busy": "2022-10-18T17:04:19.973267Z",
     "iopub.status.idle": "2022-10-18T17:04:19.980189Z",
     "shell.execute_reply": "2022-10-18T17:04:19.978997Z"
    },
    "papermill": {
     "duration": 0.033467,
     "end_time": "2022-10-18T17:04:19.982630",
     "exception": false,
     "start_time": "2022-10-18T17:04:19.949163",
     "status": "completed"
    },
    "tags": []
   },
   "outputs": [],
   "source": [
    "testIDs=testDF['Id']\n",
    "cols=X_test.columns\n",
    "testDF=testDF[cols]"
   ]
  },
  {
   "cell_type": "code",
   "execution_count": 32,
   "id": "0489ea97",
   "metadata": {
    "execution": {
     "iopub.execute_input": "2022-10-18T17:04:20.030889Z",
     "iopub.status.busy": "2022-10-18T17:04:20.030109Z",
     "iopub.status.idle": "2022-10-18T17:04:20.047817Z",
     "shell.execute_reply": "2022-10-18T17:04:20.046684Z"
    },
    "papermill": {
     "duration": 0.045002,
     "end_time": "2022-10-18T17:04:20.050464",
     "exception": false,
     "start_time": "2022-10-18T17:04:20.005462",
     "status": "completed"
    },
    "tags": []
   },
   "outputs": [],
   "source": [
    "#Final Prediction\n",
    "finalPred=xgbFinal.predict(testDF).round(2)\n",
    "tupDF=list(zip(testIDs,finalPred))"
   ]
  },
  {
   "cell_type": "code",
   "execution_count": 33,
   "id": "3869e281",
   "metadata": {
    "execution": {
     "iopub.execute_input": "2022-10-18T17:04:20.100902Z",
     "iopub.status.busy": "2022-10-18T17:04:20.099957Z",
     "iopub.status.idle": "2022-10-18T17:04:20.114349Z",
     "shell.execute_reply": "2022-10-18T17:04:20.113055Z"
    },
    "papermill": {
     "duration": 0.041162,
     "end_time": "2022-10-18T17:04:20.116713",
     "exception": false,
     "start_time": "2022-10-18T17:04:20.075551",
     "status": "completed"
    },
    "tags": []
   },
   "outputs": [
    {
     "data": {
      "text/html": [
       "<div>\n",
       "<style scoped>\n",
       "    .dataframe tbody tr th:only-of-type {\n",
       "        vertical-align: middle;\n",
       "    }\n",
       "\n",
       "    .dataframe tbody tr th {\n",
       "        vertical-align: top;\n",
       "    }\n",
       "\n",
       "    .dataframe thead th {\n",
       "        text-align: right;\n",
       "    }\n",
       "</style>\n",
       "<table border=\"1\" class=\"dataframe\">\n",
       "  <thead>\n",
       "    <tr style=\"text-align: right;\">\n",
       "      <th></th>\n",
       "      <th>Id</th>\n",
       "      <th>SalePrice</th>\n",
       "    </tr>\n",
       "  </thead>\n",
       "  <tbody>\n",
       "    <tr>\n",
       "      <th>0</th>\n",
       "      <td>1461</td>\n",
       "      <td>124047.406250</td>\n",
       "    </tr>\n",
       "    <tr>\n",
       "      <th>1</th>\n",
       "      <td>1462</td>\n",
       "      <td>169055.593750</td>\n",
       "    </tr>\n",
       "    <tr>\n",
       "      <th>2</th>\n",
       "      <td>1463</td>\n",
       "      <td>183947.906250</td>\n",
       "    </tr>\n",
       "    <tr>\n",
       "      <th>3</th>\n",
       "      <td>1464</td>\n",
       "      <td>188724.421875</td>\n",
       "    </tr>\n",
       "    <tr>\n",
       "      <th>4</th>\n",
       "      <td>1465</td>\n",
       "      <td>177887.437500</td>\n",
       "    </tr>\n",
       "  </tbody>\n",
       "</table>\n",
       "</div>"
      ],
      "text/plain": [
       "     Id      SalePrice\n",
       "0  1461  124047.406250\n",
       "1  1462  169055.593750\n",
       "2  1463  183947.906250\n",
       "3  1464  188724.421875\n",
       "4  1465  177887.437500"
      ]
     },
     "execution_count": 33,
     "metadata": {},
     "output_type": "execute_result"
    }
   ],
   "source": [
    "output=pd.DataFrame(tupDF, columns=['Id','SalePrice']).sort_values(by='Id').reset_index(drop=True)\n",
    "output.head()"
   ]
  },
  {
   "cell_type": "markdown",
   "id": "3eef52dc",
   "metadata": {
    "papermill": {
     "duration": 0.022795,
     "end_time": "2022-10-18T17:04:20.162657",
     "exception": false,
     "start_time": "2022-10-18T17:04:20.139862",
     "status": "completed"
    },
    "tags": []
   },
   "source": [
    "### Final Prediction"
   ]
  },
  {
   "cell_type": "code",
   "execution_count": 34,
   "id": "c415b405",
   "metadata": {
    "execution": {
     "iopub.execute_input": "2022-10-18T17:04:20.211203Z",
     "iopub.status.busy": "2022-10-18T17:04:20.210228Z",
     "iopub.status.idle": "2022-10-18T17:04:20.222771Z",
     "shell.execute_reply": "2022-10-18T17:04:20.221568Z"
    },
    "papermill": {
     "duration": 0.040389,
     "end_time": "2022-10-18T17:04:20.226366",
     "exception": false,
     "start_time": "2022-10-18T17:04:20.185977",
     "status": "completed"
    },
    "tags": []
   },
   "outputs": [
    {
     "name": "stdout",
     "output_type": "stream",
     "text": [
      "(1459, 2)\n",
      "Output Created\n"
     ]
    }
   ],
   "source": [
    "print(output.shape)\n",
    "output.to_csv('submission.csv', index=False)\n",
    "print(\"Output Created\")"
   ]
  }
 ],
 "metadata": {
  "kernelspec": {
   "display_name": "Python 3",
   "language": "python",
   "name": "python3"
  },
  "language_info": {
   "codemirror_mode": {
    "name": "ipython",
    "version": 3
   },
   "file_extension": ".py",
   "mimetype": "text/x-python",
   "name": "python",
   "nbconvert_exporter": "python",
   "pygments_lexer": "ipython3",
   "version": "3.7.12"
  },
  "papermill": {
   "default_parameters": {},
   "duration": 375.99252,
   "end_time": "2022-10-18T17:04:21.174183",
   "environment_variables": {},
   "exception": null,
   "input_path": "__notebook__.ipynb",
   "output_path": "__notebook__.ipynb",
   "parameters": {},
   "start_time": "2022-10-18T16:58:05.181663",
   "version": "2.3.4"
  }
 },
 "nbformat": 4,
 "nbformat_minor": 5
}
