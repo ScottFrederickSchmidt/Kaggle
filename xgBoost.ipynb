{
 "cells": [
  {
   "cell_type": "markdown",
   "id": "b556839e",
   "metadata": {
    "papermill": {
     "duration": 0.012786,
     "end_time": "2022-10-06T17:58:37.749994",
     "exception": false,
     "start_time": "2022-10-06T17:58:37.737208",
     "status": "completed"
    },
    "tags": []
   },
   "source": [
    "# Predict House Price\n",
    "### Using xgBoost with Search Grid\n",
    "Original full House Price prediction: \n",
    "https://github.com/ScottySchmidt/Kaggle/blob/main/PredictHousePrices.ipynb\n",
    "\n",
    "##### Special Notes:\n",
    "* Removing feature importance with less than .003% makes tunning more consisent with high results\n",
    "* Tunning learning_rate improved 8% better score\n",
    "* Removing outliers improved 4% better score\n",
    "* Removing similiar features makes couple percent better score\n",
    "* Encoding condition1 improved score by less than 1%"
   ]
  },
  {
   "cell_type": "code",
   "execution_count": 1,
   "id": "d5a2d512",
   "metadata": {
    "execution": {
     "iopub.execute_input": "2022-10-06T17:58:37.775109Z",
     "iopub.status.busy": "2022-10-06T17:58:37.774346Z",
     "iopub.status.idle": "2022-10-06T17:58:37.866241Z",
     "shell.execute_reply": "2022-10-06T17:58:37.864707Z"
    },
    "papermill": {
     "duration": 0.107736,
     "end_time": "2022-10-06T17:58:37.869177",
     "exception": false,
     "start_time": "2022-10-06T17:58:37.761441",
     "status": "completed"
    },
    "tags": []
   },
   "outputs": [
    {
     "name": "stdout",
     "output_type": "stream",
     "text": [
      "(1460, 81)\n"
     ]
    },
    {
     "name": "stderr",
     "output_type": "stream",
     "text": [
      "/opt/conda/lib/python3.7/site-packages/ipykernel_launcher.py:6: UserWarning: my warning\n",
      "  \n"
     ]
    },
    {
     "data": {
      "text/html": [
       "<div>\n",
       "<style scoped>\n",
       "    .dataframe tbody tr th:only-of-type {\n",
       "        vertical-align: middle;\n",
       "    }\n",
       "\n",
       "    .dataframe tbody tr th {\n",
       "        vertical-align: top;\n",
       "    }\n",
       "\n",
       "    .dataframe thead th {\n",
       "        text-align: right;\n",
       "    }\n",
       "</style>\n",
       "<table border=\"1\" class=\"dataframe\">\n",
       "  <thead>\n",
       "    <tr style=\"text-align: right;\">\n",
       "      <th></th>\n",
       "      <th>Id</th>\n",
       "      <th>MSSubClass</th>\n",
       "      <th>MSZoning</th>\n",
       "      <th>LotFrontage</th>\n",
       "      <th>LotArea</th>\n",
       "      <th>Street</th>\n",
       "      <th>Alley</th>\n",
       "      <th>LotShape</th>\n",
       "      <th>LandContour</th>\n",
       "      <th>Utilities</th>\n",
       "      <th>...</th>\n",
       "      <th>PoolArea</th>\n",
       "      <th>PoolQC</th>\n",
       "      <th>Fence</th>\n",
       "      <th>MiscFeature</th>\n",
       "      <th>MiscVal</th>\n",
       "      <th>MoSold</th>\n",
       "      <th>YrSold</th>\n",
       "      <th>SaleType</th>\n",
       "      <th>SaleCondition</th>\n",
       "      <th>SalePrice</th>\n",
       "    </tr>\n",
       "  </thead>\n",
       "  <tbody>\n",
       "    <tr>\n",
       "      <th>0</th>\n",
       "      <td>1</td>\n",
       "      <td>60</td>\n",
       "      <td>RL</td>\n",
       "      <td>65.0</td>\n",
       "      <td>8450</td>\n",
       "      <td>Pave</td>\n",
       "      <td>NaN</td>\n",
       "      <td>Reg</td>\n",
       "      <td>Lvl</td>\n",
       "      <td>AllPub</td>\n",
       "      <td>...</td>\n",
       "      <td>0</td>\n",
       "      <td>NaN</td>\n",
       "      <td>NaN</td>\n",
       "      <td>NaN</td>\n",
       "      <td>0</td>\n",
       "      <td>2</td>\n",
       "      <td>2008</td>\n",
       "      <td>WD</td>\n",
       "      <td>Normal</td>\n",
       "      <td>208500</td>\n",
       "    </tr>\n",
       "    <tr>\n",
       "      <th>1</th>\n",
       "      <td>2</td>\n",
       "      <td>20</td>\n",
       "      <td>RL</td>\n",
       "      <td>80.0</td>\n",
       "      <td>9600</td>\n",
       "      <td>Pave</td>\n",
       "      <td>NaN</td>\n",
       "      <td>Reg</td>\n",
       "      <td>Lvl</td>\n",
       "      <td>AllPub</td>\n",
       "      <td>...</td>\n",
       "      <td>0</td>\n",
       "      <td>NaN</td>\n",
       "      <td>NaN</td>\n",
       "      <td>NaN</td>\n",
       "      <td>0</td>\n",
       "      <td>5</td>\n",
       "      <td>2007</td>\n",
       "      <td>WD</td>\n",
       "      <td>Normal</td>\n",
       "      <td>181500</td>\n",
       "    </tr>\n",
       "    <tr>\n",
       "      <th>2</th>\n",
       "      <td>3</td>\n",
       "      <td>60</td>\n",
       "      <td>RL</td>\n",
       "      <td>68.0</td>\n",
       "      <td>11250</td>\n",
       "      <td>Pave</td>\n",
       "      <td>NaN</td>\n",
       "      <td>IR1</td>\n",
       "      <td>Lvl</td>\n",
       "      <td>AllPub</td>\n",
       "      <td>...</td>\n",
       "      <td>0</td>\n",
       "      <td>NaN</td>\n",
       "      <td>NaN</td>\n",
       "      <td>NaN</td>\n",
       "      <td>0</td>\n",
       "      <td>9</td>\n",
       "      <td>2008</td>\n",
       "      <td>WD</td>\n",
       "      <td>Normal</td>\n",
       "      <td>223500</td>\n",
       "    </tr>\n",
       "    <tr>\n",
       "      <th>3</th>\n",
       "      <td>4</td>\n",
       "      <td>70</td>\n",
       "      <td>RL</td>\n",
       "      <td>60.0</td>\n",
       "      <td>9550</td>\n",
       "      <td>Pave</td>\n",
       "      <td>NaN</td>\n",
       "      <td>IR1</td>\n",
       "      <td>Lvl</td>\n",
       "      <td>AllPub</td>\n",
       "      <td>...</td>\n",
       "      <td>0</td>\n",
       "      <td>NaN</td>\n",
       "      <td>NaN</td>\n",
       "      <td>NaN</td>\n",
       "      <td>0</td>\n",
       "      <td>2</td>\n",
       "      <td>2006</td>\n",
       "      <td>WD</td>\n",
       "      <td>Abnorml</td>\n",
       "      <td>140000</td>\n",
       "    </tr>\n",
       "    <tr>\n",
       "      <th>4</th>\n",
       "      <td>5</td>\n",
       "      <td>60</td>\n",
       "      <td>RL</td>\n",
       "      <td>84.0</td>\n",
       "      <td>14260</td>\n",
       "      <td>Pave</td>\n",
       "      <td>NaN</td>\n",
       "      <td>IR1</td>\n",
       "      <td>Lvl</td>\n",
       "      <td>AllPub</td>\n",
       "      <td>...</td>\n",
       "      <td>0</td>\n",
       "      <td>NaN</td>\n",
       "      <td>NaN</td>\n",
       "      <td>NaN</td>\n",
       "      <td>0</td>\n",
       "      <td>12</td>\n",
       "      <td>2008</td>\n",
       "      <td>WD</td>\n",
       "      <td>Normal</td>\n",
       "      <td>250000</td>\n",
       "    </tr>\n",
       "  </tbody>\n",
       "</table>\n",
       "<p>5 rows × 81 columns</p>\n",
       "</div>"
      ],
      "text/plain": [
       "   Id  MSSubClass MSZoning  LotFrontage  LotArea Street Alley LotShape  \\\n",
       "0   1          60       RL         65.0     8450   Pave   NaN      Reg   \n",
       "1   2          20       RL         80.0     9600   Pave   NaN      Reg   \n",
       "2   3          60       RL         68.0    11250   Pave   NaN      IR1   \n",
       "3   4          70       RL         60.0     9550   Pave   NaN      IR1   \n",
       "4   5          60       RL         84.0    14260   Pave   NaN      IR1   \n",
       "\n",
       "  LandContour Utilities  ... PoolArea PoolQC Fence MiscFeature MiscVal MoSold  \\\n",
       "0         Lvl    AllPub  ...        0    NaN   NaN         NaN       0      2   \n",
       "1         Lvl    AllPub  ...        0    NaN   NaN         NaN       0      5   \n",
       "2         Lvl    AllPub  ...        0    NaN   NaN         NaN       0      9   \n",
       "3         Lvl    AllPub  ...        0    NaN   NaN         NaN       0      2   \n",
       "4         Lvl    AllPub  ...        0    NaN   NaN         NaN       0     12   \n",
       "\n",
       "  YrSold  SaleType  SaleCondition  SalePrice  \n",
       "0   2008        WD         Normal     208500  \n",
       "1   2007        WD         Normal     181500  \n",
       "2   2008        WD         Normal     223500  \n",
       "3   2006        WD        Abnorml     140000  \n",
       "4   2008        WD         Normal     250000  \n",
       "\n",
       "[5 rows x 81 columns]"
      ]
     },
     "execution_count": 1,
     "metadata": {},
     "output_type": "execute_result"
    }
   ],
   "source": [
    "import pandas as pd\n",
    "import numpy as np\n",
    "import sys\n",
    "import matplotlib.pyplot as plt\n",
    "import warnings\n",
    "warnings.warn('my warning')\n",
    "\n",
    "data='/kaggle/input/house-prices-advanced-regression-techniques/train.csv'\n",
    "df=pd.read_csv(data)\n",
    "print(df.shape)\n",
    "df.head()"
   ]
  },
  {
   "cell_type": "markdown",
   "id": "4fdcffb3",
   "metadata": {
    "papermill": {
     "duration": 0.012189,
     "end_time": "2022-10-06T17:58:37.895937",
     "exception": false,
     "start_time": "2022-10-06T17:58:37.883748",
     "status": "completed"
    },
    "tags": []
   },
   "source": [
    "# Missing Values"
   ]
  },
  {
   "cell_type": "code",
   "execution_count": 2,
   "id": "7183ee21",
   "metadata": {
    "execution": {
     "iopub.execute_input": "2022-10-06T17:58:37.923372Z",
     "iopub.status.busy": "2022-10-06T17:58:37.922238Z",
     "iopub.status.idle": "2022-10-06T17:58:37.935360Z",
     "shell.execute_reply": "2022-10-06T17:58:37.933760Z"
    },
    "papermill": {
     "duration": 0.029649,
     "end_time": "2022-10-06T17:58:37.937924",
     "exception": false,
     "start_time": "2022-10-06T17:58:37.908275",
     "status": "completed"
    },
    "tags": []
   },
   "outputs": [
    {
     "name": "stdout",
     "output_type": "stream",
     "text": [
      "Missing data by column as a percent:\n",
      "PoolQC          21.686567\n",
      "MiscFeature     20.985075\n",
      "Alley           20.432836\n",
      "Fence           17.597015\n",
      "FireplaceQu     10.298507\n",
      "LotFrontage      3.865672\n",
      "GarageYrBlt      1.208955\n",
      "GarageCond       1.208955\n",
      "GarageType       1.208955\n",
      "GarageFinish     1.208955\n",
      "dtype: float64\n"
     ]
    }
   ],
   "source": [
    "#search for columns with missing values:\n",
    "def findNA():\n",
    "    print(\"Missing data by column as a percent:\")\n",
    "    findNA=df.isnull().sum().sort_values(ascending=False)/len(data)\n",
    "    print(findNA.head(10))\n",
    "findNA() "
   ]
  },
  {
   "cell_type": "code",
   "execution_count": 3,
   "id": "d60b8d4e",
   "metadata": {
    "execution": {
     "iopub.execute_input": "2022-10-06T17:58:37.963966Z",
     "iopub.status.busy": "2022-10-06T17:58:37.963576Z",
     "iopub.status.idle": "2022-10-06T17:58:38.005949Z",
     "shell.execute_reply": "2022-10-06T17:58:38.004850Z"
    },
    "papermill": {
     "duration": 0.059515,
     "end_time": "2022-10-06T17:58:38.009751",
     "exception": false,
     "start_time": "2022-10-06T17:58:37.950236",
     "status": "completed"
    },
    "tags": []
   },
   "outputs": [
    {
     "name": "stdout",
     "output_type": "stream",
     "text": [
      "(1460, 80)\n"
     ]
    },
    {
     "name": "stderr",
     "output_type": "stream",
     "text": [
      "/opt/conda/lib/python3.7/site-packages/ipykernel_launcher.py:1: FutureWarning: Dropping of nuisance columns in DataFrame reductions (with 'numeric_only=None') is deprecated; in a future version this will raise TypeError.  Select only valid columns before calling the reduction.\n",
      "  \"\"\"Entry point for launching an IPython kernel.\n"
     ]
    }
   ],
   "source": [
    "df=df.fillna(df.mean())\n",
    "df=df.drop(columns=['MiscFeature'])\n",
    "print(df.shape)"
   ]
  },
  {
   "cell_type": "code",
   "execution_count": 4,
   "id": "4a162fc3",
   "metadata": {
    "execution": {
     "iopub.execute_input": "2022-10-06T17:58:38.037715Z",
     "iopub.status.busy": "2022-10-06T17:58:38.037304Z",
     "iopub.status.idle": "2022-10-06T17:58:38.044194Z",
     "shell.execute_reply": "2022-10-06T17:58:38.043448Z"
    },
    "papermill": {
     "duration": 0.022292,
     "end_time": "2022-10-06T17:58:38.046202",
     "exception": false,
     "start_time": "2022-10-06T17:58:38.023910",
     "status": "completed"
    },
    "tags": []
   },
   "outputs": [
    {
     "data": {
      "text/plain": [
       "Index(['Id', 'MSSubClass', 'MSZoning', 'LotFrontage', 'LotArea', 'Street',\n",
       "       'Alley', 'LotShape', 'LandContour', 'Utilities', 'LotConfig',\n",
       "       'LandSlope', 'Neighborhood', 'Condition1', 'Condition2', 'BldgType',\n",
       "       'HouseStyle', 'OverallQual', 'OverallCond', 'YearBuilt', 'YearRemodAdd',\n",
       "       'RoofStyle', 'RoofMatl', 'Exterior1st', 'Exterior2nd', 'MasVnrType',\n",
       "       'MasVnrArea', 'ExterQual', 'ExterCond', 'Foundation', 'BsmtQual',\n",
       "       'BsmtCond', 'BsmtExposure', 'BsmtFinType1', 'BsmtFinSF1',\n",
       "       'BsmtFinType2', 'BsmtFinSF2', 'BsmtUnfSF', 'TotalBsmtSF', 'Heating',\n",
       "       'HeatingQC', 'CentralAir', 'Electrical', '1stFlrSF', '2ndFlrSF',\n",
       "       'LowQualFinSF', 'GrLivArea', 'BsmtFullBath', 'BsmtHalfBath', 'FullBath',\n",
       "       'HalfBath', 'BedroomAbvGr', 'KitchenAbvGr', 'KitchenQual',\n",
       "       'TotRmsAbvGrd', 'Functional', 'Fireplaces', 'FireplaceQu', 'GarageType',\n",
       "       'GarageYrBlt', 'GarageFinish', 'GarageCars', 'GarageArea', 'GarageQual',\n",
       "       'GarageCond', 'PavedDrive', 'WoodDeckSF', 'OpenPorchSF',\n",
       "       'EnclosedPorch', '3SsnPorch', 'ScreenPorch', 'PoolArea', 'PoolQC',\n",
       "       'Fence', 'MiscVal', 'MoSold', 'YrSold', 'SaleType', 'SaleCondition',\n",
       "       'SalePrice'],\n",
       "      dtype='object')"
      ]
     },
     "execution_count": 4,
     "metadata": {},
     "output_type": "execute_result"
    }
   ],
   "source": [
    "df.columns"
   ]
  },
  {
   "cell_type": "markdown",
   "id": "d03e4df0",
   "metadata": {
    "papermill": {
     "duration": 0.011971,
     "end_time": "2022-10-06T17:58:38.070324",
     "exception": false,
     "start_time": "2022-10-06T17:58:38.058353",
     "status": "completed"
    },
    "tags": []
   },
   "source": [
    "# Feature Engineer"
   ]
  },
  {
   "cell_type": "code",
   "execution_count": 5,
   "id": "4a5b1df6",
   "metadata": {
    "execution": {
     "iopub.execute_input": "2022-10-06T17:58:38.096866Z",
     "iopub.status.busy": "2022-10-06T17:58:38.096240Z",
     "iopub.status.idle": "2022-10-06T17:58:38.129834Z",
     "shell.execute_reply": "2022-10-06T17:58:38.129004Z"
    },
    "papermill": {
     "duration": 0.049325,
     "end_time": "2022-10-06T17:58:38.132031",
     "exception": false,
     "start_time": "2022-10-06T17:58:38.082706",
     "status": "completed"
    },
    "tags": []
   },
   "outputs": [
    {
     "data": {
      "text/html": [
       "<div>\n",
       "<style scoped>\n",
       "    .dataframe tbody tr th:only-of-type {\n",
       "        vertical-align: middle;\n",
       "    }\n",
       "\n",
       "    .dataframe tbody tr th {\n",
       "        vertical-align: top;\n",
       "    }\n",
       "\n",
       "    .dataframe thead th {\n",
       "        text-align: right;\n",
       "    }\n",
       "</style>\n",
       "<table border=\"1\" class=\"dataframe\">\n",
       "  <thead>\n",
       "    <tr style=\"text-align: right;\">\n",
       "      <th></th>\n",
       "      <th>Id</th>\n",
       "      <th>MSSubClass</th>\n",
       "      <th>MSZoning</th>\n",
       "      <th>LotFrontage</th>\n",
       "      <th>LotArea</th>\n",
       "      <th>Street</th>\n",
       "      <th>Alley</th>\n",
       "      <th>LotShape</th>\n",
       "      <th>LandContour</th>\n",
       "      <th>Utilities</th>\n",
       "      <th>...</th>\n",
       "      <th>PoolQC</th>\n",
       "      <th>Fence</th>\n",
       "      <th>MiscVal</th>\n",
       "      <th>MoSold</th>\n",
       "      <th>YrSold</th>\n",
       "      <th>SaleType</th>\n",
       "      <th>SaleCondition</th>\n",
       "      <th>SalePrice</th>\n",
       "      <th>totalSQ</th>\n",
       "      <th>bathrooms</th>\n",
       "    </tr>\n",
       "  </thead>\n",
       "  <tbody>\n",
       "    <tr>\n",
       "      <th>0</th>\n",
       "      <td>1</td>\n",
       "      <td>60</td>\n",
       "      <td>RL</td>\n",
       "      <td>65.0</td>\n",
       "      <td>8450</td>\n",
       "      <td>Pave</td>\n",
       "      <td>NaN</td>\n",
       "      <td>Reg</td>\n",
       "      <td>Lvl</td>\n",
       "      <td>AllPub</td>\n",
       "      <td>...</td>\n",
       "      <td>NaN</td>\n",
       "      <td>NaN</td>\n",
       "      <td>0</td>\n",
       "      <td>2</td>\n",
       "      <td>2008</td>\n",
       "      <td>WD</td>\n",
       "      <td>Normal</td>\n",
       "      <td>208500</td>\n",
       "      <td>2566</td>\n",
       "      <td>3.5</td>\n",
       "    </tr>\n",
       "    <tr>\n",
       "      <th>1</th>\n",
       "      <td>2</td>\n",
       "      <td>20</td>\n",
       "      <td>RL</td>\n",
       "      <td>80.0</td>\n",
       "      <td>9600</td>\n",
       "      <td>Pave</td>\n",
       "      <td>NaN</td>\n",
       "      <td>Reg</td>\n",
       "      <td>Lvl</td>\n",
       "      <td>AllPub</td>\n",
       "      <td>...</td>\n",
       "      <td>NaN</td>\n",
       "      <td>NaN</td>\n",
       "      <td>0</td>\n",
       "      <td>5</td>\n",
       "      <td>2007</td>\n",
       "      <td>WD</td>\n",
       "      <td>Normal</td>\n",
       "      <td>181500</td>\n",
       "      <td>2524</td>\n",
       "      <td>3.0</td>\n",
       "    </tr>\n",
       "    <tr>\n",
       "      <th>2</th>\n",
       "      <td>3</td>\n",
       "      <td>60</td>\n",
       "      <td>RL</td>\n",
       "      <td>68.0</td>\n",
       "      <td>11250</td>\n",
       "      <td>Pave</td>\n",
       "      <td>NaN</td>\n",
       "      <td>IR1</td>\n",
       "      <td>Lvl</td>\n",
       "      <td>AllPub</td>\n",
       "      <td>...</td>\n",
       "      <td>NaN</td>\n",
       "      <td>NaN</td>\n",
       "      <td>0</td>\n",
       "      <td>9</td>\n",
       "      <td>2008</td>\n",
       "      <td>WD</td>\n",
       "      <td>Normal</td>\n",
       "      <td>223500</td>\n",
       "      <td>2706</td>\n",
       "      <td>3.5</td>\n",
       "    </tr>\n",
       "    <tr>\n",
       "      <th>3</th>\n",
       "      <td>4</td>\n",
       "      <td>70</td>\n",
       "      <td>RL</td>\n",
       "      <td>60.0</td>\n",
       "      <td>9550</td>\n",
       "      <td>Pave</td>\n",
       "      <td>NaN</td>\n",
       "      <td>IR1</td>\n",
       "      <td>Lvl</td>\n",
       "      <td>AllPub</td>\n",
       "      <td>...</td>\n",
       "      <td>NaN</td>\n",
       "      <td>NaN</td>\n",
       "      <td>0</td>\n",
       "      <td>2</td>\n",
       "      <td>2006</td>\n",
       "      <td>WD</td>\n",
       "      <td>Abnorml</td>\n",
       "      <td>140000</td>\n",
       "      <td>2473</td>\n",
       "      <td>2.0</td>\n",
       "    </tr>\n",
       "    <tr>\n",
       "      <th>4</th>\n",
       "      <td>5</td>\n",
       "      <td>60</td>\n",
       "      <td>RL</td>\n",
       "      <td>84.0</td>\n",
       "      <td>14260</td>\n",
       "      <td>Pave</td>\n",
       "      <td>NaN</td>\n",
       "      <td>IR1</td>\n",
       "      <td>Lvl</td>\n",
       "      <td>AllPub</td>\n",
       "      <td>...</td>\n",
       "      <td>NaN</td>\n",
       "      <td>NaN</td>\n",
       "      <td>0</td>\n",
       "      <td>12</td>\n",
       "      <td>2008</td>\n",
       "      <td>WD</td>\n",
       "      <td>Normal</td>\n",
       "      <td>250000</td>\n",
       "      <td>3343</td>\n",
       "      <td>3.5</td>\n",
       "    </tr>\n",
       "  </tbody>\n",
       "</table>\n",
       "<p>5 rows × 79 columns</p>\n",
       "</div>"
      ],
      "text/plain": [
       "   Id  MSSubClass MSZoning  LotFrontage  LotArea Street Alley LotShape  \\\n",
       "0   1          60       RL         65.0     8450   Pave   NaN      Reg   \n",
       "1   2          20       RL         80.0     9600   Pave   NaN      Reg   \n",
       "2   3          60       RL         68.0    11250   Pave   NaN      IR1   \n",
       "3   4          70       RL         60.0     9550   Pave   NaN      IR1   \n",
       "4   5          60       RL         84.0    14260   Pave   NaN      IR1   \n",
       "\n",
       "  LandContour Utilities  ... PoolQC Fence MiscVal MoSold YrSold SaleType  \\\n",
       "0         Lvl    AllPub  ...    NaN   NaN       0      2   2008       WD   \n",
       "1         Lvl    AllPub  ...    NaN   NaN       0      5   2007       WD   \n",
       "2         Lvl    AllPub  ...    NaN   NaN       0      9   2008       WD   \n",
       "3         Lvl    AllPub  ...    NaN   NaN       0      2   2006       WD   \n",
       "4         Lvl    AllPub  ...    NaN   NaN       0     12   2008       WD   \n",
       "\n",
       "  SaleCondition  SalePrice  totalSQ  bathrooms  \n",
       "0        Normal     208500     2566        3.5  \n",
       "1        Normal     181500     2524        3.0  \n",
       "2        Normal     223500     2706        3.5  \n",
       "3       Abnorml     140000     2473        2.0  \n",
       "4        Normal     250000     3343        3.5  \n",
       "\n",
       "[5 rows x 79 columns]"
      ]
     },
     "execution_count": 5,
     "metadata": {},
     "output_type": "execute_result"
    }
   ],
   "source": [
    "df['totalSQ']=df['1stFlrSF']+df['2ndFlrSF']+df['TotalBsmtSF']\n",
    "df['bathrooms']=(df['FullBath']*2+df['BsmtFullBath']*2+df['BsmtHalfBath']+df['HalfBath']+df['BsmtHalfBath'])/2\n",
    "df['CentralAir'] = df['CentralAir'].replace({'Y':0, 'N':1})\n",
    "\n",
    "df=df.drop(columns=['1stFlrSF', '2ndFlrSF','TotalBsmtSF'])\n",
    "df.head()"
   ]
  },
  {
   "cell_type": "code",
   "execution_count": 6,
   "id": "84db301f",
   "metadata": {
    "execution": {
     "iopub.execute_input": "2022-10-06T17:58:38.160517Z",
     "iopub.status.busy": "2022-10-06T17:58:38.159845Z",
     "iopub.status.idle": "2022-10-06T17:58:38.167496Z",
     "shell.execute_reply": "2022-10-06T17:58:38.166546Z"
    },
    "papermill": {
     "duration": 0.024981,
     "end_time": "2022-10-06T17:58:38.170413",
     "exception": false,
     "start_time": "2022-10-06T17:58:38.145432",
     "status": "completed"
    },
    "tags": []
   },
   "outputs": [],
   "source": [
    "#Had 0% feature importance:\n",
    "df=df.drop(['BsmtFinSF2','LowQualFinSF','BsmtHalfBath', 'FullBath', \n",
    "            '3SsnPorch', 'ScreenPorch','MiscVal', 'PoolArea', \n",
    "            'MoSold', 'EnclosedPorch', 'MasVnrArea', 'YrSold',\n",
    "             'BedroomAbvGr', 'BsmtFullBath', 'HalfBath'], axis=1)\n",
    "\n",
    "def dropMore():\n",
    "    #After removing above, these had less than .004 feature importance:\n",
    "    df=df.drop(['MSSubClass', 'LotFrontage', 'TotRmsAbvGrd', \n",
    "          'BsmtUnfSF', 'OpenPorchSF'], axis=1)"
   ]
  },
  {
   "cell_type": "code",
   "execution_count": 7,
   "id": "8258be05",
   "metadata": {
    "execution": {
     "iopub.execute_input": "2022-10-06T17:58:38.201683Z",
     "iopub.status.busy": "2022-10-06T17:58:38.201016Z",
     "iopub.status.idle": "2022-10-06T17:58:38.205209Z",
     "shell.execute_reply": "2022-10-06T17:58:38.204483Z"
    },
    "papermill": {
     "duration": 0.020768,
     "end_time": "2022-10-06T17:58:38.207175",
     "exception": false,
     "start_time": "2022-10-06T17:58:38.186407",
     "status": "completed"
    },
    "tags": []
   },
   "outputs": [],
   "source": [
    "#print(df['Condition2'].value_counts())\n",
    "\n",
    "#BELOW GOT REMOVED has 0% feature importance:\n",
    "#df['Condition2']=df['Condition2'].apply(lambda x: 1 if x=='Norm' else 0)\n",
    "#df['SaleCondition']=df['SaleCondition'].apply(lambda x:1 if x == 'Normal' else 0)\n",
    "#df['Street']=df['Street'].fillna(0).apply(lambda x:0 if x =='Grvl' else 1)\n",
    "#df['Condition1']=df['Condition1'].apply(lambda x: 1 if x=='Norm' else 0)\n",
    "#df['SaleCondition']=df['SaleCondition'].apply(lambda x:2 if x=='Normal' else 0)"
   ]
  },
  {
   "cell_type": "code",
   "execution_count": 8,
   "id": "ff8f0da4",
   "metadata": {
    "execution": {
     "iopub.execute_input": "2022-10-06T17:58:38.234348Z",
     "iopub.status.busy": "2022-10-06T17:58:38.233447Z",
     "iopub.status.idle": "2022-10-06T17:58:38.261807Z",
     "shell.execute_reply": "2022-10-06T17:58:38.260584Z"
    },
    "papermill": {
     "duration": 0.044747,
     "end_time": "2022-10-06T17:58:38.264488",
     "exception": false,
     "start_time": "2022-10-06T17:58:38.219741",
     "status": "completed"
    },
    "tags": []
   },
   "outputs": [
    {
     "data": {
      "text/html": [
       "<div>\n",
       "<style scoped>\n",
       "    .dataframe tbody tr th:only-of-type {\n",
       "        vertical-align: middle;\n",
       "    }\n",
       "\n",
       "    .dataframe tbody tr th {\n",
       "        vertical-align: top;\n",
       "    }\n",
       "\n",
       "    .dataframe thead th {\n",
       "        text-align: right;\n",
       "    }\n",
       "</style>\n",
       "<table border=\"1\" class=\"dataframe\">\n",
       "  <thead>\n",
       "    <tr style=\"text-align: right;\">\n",
       "      <th></th>\n",
       "      <th>Id</th>\n",
       "      <th>MSSubClass</th>\n",
       "      <th>LotFrontage</th>\n",
       "      <th>LotArea</th>\n",
       "      <th>OverallQual</th>\n",
       "      <th>OverallCond</th>\n",
       "      <th>YearBuilt</th>\n",
       "      <th>YearRemodAdd</th>\n",
       "      <th>BsmtFinSF1</th>\n",
       "      <th>BsmtUnfSF</th>\n",
       "      <th>...</th>\n",
       "      <th>TotRmsAbvGrd</th>\n",
       "      <th>Fireplaces</th>\n",
       "      <th>GarageYrBlt</th>\n",
       "      <th>GarageCars</th>\n",
       "      <th>GarageArea</th>\n",
       "      <th>WoodDeckSF</th>\n",
       "      <th>OpenPorchSF</th>\n",
       "      <th>SalePrice</th>\n",
       "      <th>totalSQ</th>\n",
       "      <th>bathrooms</th>\n",
       "    </tr>\n",
       "  </thead>\n",
       "  <tbody>\n",
       "    <tr>\n",
       "      <th>0</th>\n",
       "      <td>1</td>\n",
       "      <td>60</td>\n",
       "      <td>65.0</td>\n",
       "      <td>8450</td>\n",
       "      <td>7</td>\n",
       "      <td>5</td>\n",
       "      <td>2003</td>\n",
       "      <td>2003</td>\n",
       "      <td>706</td>\n",
       "      <td>150</td>\n",
       "      <td>...</td>\n",
       "      <td>8</td>\n",
       "      <td>0</td>\n",
       "      <td>2003.0</td>\n",
       "      <td>2</td>\n",
       "      <td>548</td>\n",
       "      <td>0</td>\n",
       "      <td>61</td>\n",
       "      <td>208500</td>\n",
       "      <td>2566</td>\n",
       "      <td>3.5</td>\n",
       "    </tr>\n",
       "    <tr>\n",
       "      <th>1</th>\n",
       "      <td>2</td>\n",
       "      <td>20</td>\n",
       "      <td>80.0</td>\n",
       "      <td>9600</td>\n",
       "      <td>6</td>\n",
       "      <td>8</td>\n",
       "      <td>1976</td>\n",
       "      <td>1976</td>\n",
       "      <td>978</td>\n",
       "      <td>284</td>\n",
       "      <td>...</td>\n",
       "      <td>6</td>\n",
       "      <td>1</td>\n",
       "      <td>1976.0</td>\n",
       "      <td>2</td>\n",
       "      <td>460</td>\n",
       "      <td>298</td>\n",
       "      <td>0</td>\n",
       "      <td>181500</td>\n",
       "      <td>2524</td>\n",
       "      <td>3.0</td>\n",
       "    </tr>\n",
       "    <tr>\n",
       "      <th>2</th>\n",
       "      <td>3</td>\n",
       "      <td>60</td>\n",
       "      <td>68.0</td>\n",
       "      <td>11250</td>\n",
       "      <td>7</td>\n",
       "      <td>5</td>\n",
       "      <td>2001</td>\n",
       "      <td>2002</td>\n",
       "      <td>486</td>\n",
       "      <td>434</td>\n",
       "      <td>...</td>\n",
       "      <td>6</td>\n",
       "      <td>1</td>\n",
       "      <td>2001.0</td>\n",
       "      <td>2</td>\n",
       "      <td>608</td>\n",
       "      <td>0</td>\n",
       "      <td>42</td>\n",
       "      <td>223500</td>\n",
       "      <td>2706</td>\n",
       "      <td>3.5</td>\n",
       "    </tr>\n",
       "    <tr>\n",
       "      <th>3</th>\n",
       "      <td>4</td>\n",
       "      <td>70</td>\n",
       "      <td>60.0</td>\n",
       "      <td>9550</td>\n",
       "      <td>7</td>\n",
       "      <td>5</td>\n",
       "      <td>1915</td>\n",
       "      <td>1970</td>\n",
       "      <td>216</td>\n",
       "      <td>540</td>\n",
       "      <td>...</td>\n",
       "      <td>7</td>\n",
       "      <td>1</td>\n",
       "      <td>1998.0</td>\n",
       "      <td>3</td>\n",
       "      <td>642</td>\n",
       "      <td>0</td>\n",
       "      <td>35</td>\n",
       "      <td>140000</td>\n",
       "      <td>2473</td>\n",
       "      <td>2.0</td>\n",
       "    </tr>\n",
       "    <tr>\n",
       "      <th>4</th>\n",
       "      <td>5</td>\n",
       "      <td>60</td>\n",
       "      <td>84.0</td>\n",
       "      <td>14260</td>\n",
       "      <td>8</td>\n",
       "      <td>5</td>\n",
       "      <td>2000</td>\n",
       "      <td>2000</td>\n",
       "      <td>655</td>\n",
       "      <td>490</td>\n",
       "      <td>...</td>\n",
       "      <td>9</td>\n",
       "      <td>1</td>\n",
       "      <td>2000.0</td>\n",
       "      <td>3</td>\n",
       "      <td>836</td>\n",
       "      <td>192</td>\n",
       "      <td>84</td>\n",
       "      <td>250000</td>\n",
       "      <td>3343</td>\n",
       "      <td>3.5</td>\n",
       "    </tr>\n",
       "  </tbody>\n",
       "</table>\n",
       "<p>5 rows × 23 columns</p>\n",
       "</div>"
      ],
      "text/plain": [
       "   Id  MSSubClass  LotFrontage  LotArea  OverallQual  OverallCond  YearBuilt  \\\n",
       "0   1          60         65.0     8450            7            5       2003   \n",
       "1   2          20         80.0     9600            6            8       1976   \n",
       "2   3          60         68.0    11250            7            5       2001   \n",
       "3   4          70         60.0     9550            7            5       1915   \n",
       "4   5          60         84.0    14260            8            5       2000   \n",
       "\n",
       "   YearRemodAdd  BsmtFinSF1  BsmtUnfSF  ...  TotRmsAbvGrd  Fireplaces  \\\n",
       "0          2003         706        150  ...             8           0   \n",
       "1          1976         978        284  ...             6           1   \n",
       "2          2002         486        434  ...             6           1   \n",
       "3          1970         216        540  ...             7           1   \n",
       "4          2000         655        490  ...             9           1   \n",
       "\n",
       "   GarageYrBlt  GarageCars  GarageArea  WoodDeckSF  OpenPorchSF  SalePrice  \\\n",
       "0       2003.0           2         548           0           61     208500   \n",
       "1       1976.0           2         460         298            0     181500   \n",
       "2       2001.0           2         608           0           42     223500   \n",
       "3       1998.0           3         642           0           35     140000   \n",
       "4       2000.0           3         836         192           84     250000   \n",
       "\n",
       "   totalSQ  bathrooms  \n",
       "0     2566        3.5  \n",
       "1     2524        3.0  \n",
       "2     2706        3.5  \n",
       "3     2473        2.0  \n",
       "4     3343        3.5  \n",
       "\n",
       "[5 rows x 23 columns]"
      ]
     },
     "execution_count": 8,
     "metadata": {},
     "output_type": "execute_result"
    }
   ],
   "source": [
    "df = df.select_dtypes(include=['int16', 'int32', 'int64', 'float16', 'float32', 'float64'])\n",
    "df.head()"
   ]
  },
  {
   "cell_type": "markdown",
   "id": "c566571a",
   "metadata": {
    "papermill": {
     "duration": 0.013207,
     "end_time": "2022-10-06T17:58:38.290807",
     "exception": false,
     "start_time": "2022-10-06T17:58:38.277600",
     "status": "completed"
    },
    "tags": []
   },
   "source": [
    "# Outliers"
   ]
  },
  {
   "cell_type": "code",
   "execution_count": 9,
   "id": "de5dbbf7",
   "metadata": {
    "execution": {
     "iopub.execute_input": "2022-10-06T17:58:38.318384Z",
     "iopub.status.busy": "2022-10-06T17:58:38.317970Z",
     "iopub.status.idle": "2022-10-06T17:58:40.327999Z",
     "shell.execute_reply": "2022-10-06T17:58:40.327024Z"
    },
    "papermill": {
     "duration": 2.026564,
     "end_time": "2022-10-06T17:58:40.330400",
     "exception": false,
     "start_time": "2022-10-06T17:58:38.303836",
     "status": "completed"
    },
    "tags": []
   },
   "outputs": [
    {
     "data": {
      "text/plain": [
       "<seaborn.axisgrid.FacetGrid at 0x7eff7666add0>"
      ]
     },
     "execution_count": 9,
     "metadata": {},
     "output_type": "execute_result"
    },
    {
     "data": {
      "image/png": "[encoded data removed]",
      "text/plain": [
       "<Figure size 360x360 with 1 Axes>"
      ]
     },
     "metadata": {
      "needs_background": "light"
     },
     "output_type": "display_data"
    },
    {
     "data": {
      "image/png": "[encoded data removed]",
      "text/plain": [
       "<Figure size 360x360 with 1 Axes>"
      ]
     },
     "metadata": {
      "needs_background": "light"
     },
     "output_type": "display_data"
    }
   ],
   "source": [
    "import seaborn as sns\n",
    "sns.displot(df, x='SalePrice')\n",
    "sns.displot(df, x='totalSQ')"
   ]
  },
  {
   "cell_type": "code",
   "execution_count": 10,
   "id": "dfb666ab",
   "metadata": {
    "execution": {
     "iopub.execute_input": "2022-10-06T17:58:40.360167Z",
     "iopub.status.busy": "2022-10-06T17:58:40.359733Z",
     "iopub.status.idle": "2022-10-06T17:58:40.376148Z",
     "shell.execute_reply": "2022-10-06T17:58:40.374644Z"
    },
    "papermill": {
     "duration": 0.034123,
     "end_time": "2022-10-06T17:58:40.378726",
     "exception": false,
     "start_time": "2022-10-06T17:58:40.344603",
     "status": "completed"
    },
    "tags": []
   },
   "outputs": [
    {
     "name": "stdout",
     "output_type": "stream",
     "text": [
      "[438780, 501837, 475000, 437154, 426000, 555000, 440000, 430000, 446261, 451950, 423000, 755000, 538000, 485000, 582933, 611657, 556581, 424870, 625000, 745000, 465000, 466500]\n",
      "[438780, 501837, 475000, 437154, 426000, 555000, 440000, 430000, 446261, 451950, 423000, 755000, 538000, 485000, 582933, 611657, 556581, 424870, 625000, 745000, 465000, 466500, 5496, 6428, 7814, 6760, 5066, 5048, 5557, 6872, 11752, 5271, 5266]\n"
     ]
    }
   ],
   "source": [
    "from scipy import stats\n",
    "\n",
    "outliers=[]\n",
    "def detect_outlier(data_1):\n",
    "    threshold=3\n",
    "    mean_1 = np.mean(data_1)\n",
    "    std_1 =np.std(data_1)\n",
    "    \n",
    "    for y in data_1:\n",
    "        z_score= (y - mean_1)/std_1 \n",
    "        if np.abs(z_score) > threshold:\n",
    "            outliers.append(y)\n",
    "    return outliers\n",
    "priceOutlier=list(detect_outlier(df['SalePrice']))\n",
    "print(priceOutlier)\n",
    "sqOutlier=list(detect_outlier(df['totalSQ']))\n",
    "print(sqOutlier)"
   ]
  },
  {
   "cell_type": "code",
   "execution_count": 11,
   "id": "0c6845df",
   "metadata": {
    "execution": {
     "iopub.execute_input": "2022-10-06T17:58:40.408553Z",
     "iopub.status.busy": "2022-10-06T17:58:40.408122Z",
     "iopub.status.idle": "2022-10-06T17:58:40.416862Z",
     "shell.execute_reply": "2022-10-06T17:58:40.415662Z"
    },
    "papermill": {
     "duration": 0.026305,
     "end_time": "2022-10-06T17:58:40.419295",
     "exception": false,
     "start_time": "2022-10-06T17:58:40.392990",
     "status": "completed"
    },
    "tags": []
   },
   "outputs": [
    {
     "name": "stdout",
     "output_type": "stream",
     "text": [
      "(1444, 23)\n"
     ]
    }
   ],
   "source": [
    "#Remove Outliers:\n",
    "df=df.loc[df['SalePrice']<500_000]\n",
    "df=df.loc[df['totalSQ']<5000]\n",
    "print(df.shape) "
   ]
  },
  {
   "cell_type": "markdown",
   "id": "f0983953",
   "metadata": {
    "papermill": {
     "duration": 0.013475,
     "end_time": "2022-10-06T17:58:40.446746",
     "exception": false,
     "start_time": "2022-10-06T17:58:40.433271",
     "status": "completed"
    },
    "tags": []
   },
   "source": [
    "# Correlations"
   ]
  },
  {
   "cell_type": "code",
   "execution_count": 12,
   "id": "daffc574",
   "metadata": {
    "execution": {
     "iopub.execute_input": "2022-10-06T17:58:40.476066Z",
     "iopub.status.busy": "2022-10-06T17:58:40.475695Z",
     "iopub.status.idle": "2022-10-06T17:58:42.418591Z",
     "shell.execute_reply": "2022-10-06T17:58:42.417481Z"
    },
    "papermill": {
     "duration": 1.962051,
     "end_time": "2022-10-06T17:58:42.422560",
     "exception": false,
     "start_time": "2022-10-06T17:58:40.460509",
     "status": "completed"
    },
    "tags": []
   },
   "outputs": [
    {
     "data": {
      "text/plain": [
       "<AxesSubplot:>"
      ]
     },
     "execution_count": 12,
     "metadata": {},
     "output_type": "execute_result"
    },
    {
     "data": {
      "image/png": "[encoded data removed]",
      "text/plain": [
       "<Figure size 1440x1440 with 2 Axes>"
      ]
     },
     "metadata": {
      "needs_background": "light"
     },
     "output_type": "display_data"
    }
   ],
   "source": [
    "import seaborn as sns\n",
    "corr= df.corr()\n",
    "matrix = np.triu(corr)\n",
    "fig, ax = plt.subplots(figsize=(20,20))    \n",
    "sns.heatmap(corr, annot=True, mask=matrix)"
   ]
  },
  {
   "cell_type": "code",
   "execution_count": 13,
   "id": "d32b4140",
   "metadata": {
    "execution": {
     "iopub.execute_input": "2022-10-06T17:58:42.458946Z",
     "iopub.status.busy": "2022-10-06T17:58:42.458535Z",
     "iopub.status.idle": "2022-10-06T17:58:42.464408Z",
     "shell.execute_reply": "2022-10-06T17:58:42.463590Z"
    },
    "papermill": {
     "duration": 0.026849,
     "end_time": "2022-10-06T17:58:42.466487",
     "exception": false,
     "start_time": "2022-10-06T17:58:42.439638",
     "status": "completed"
    },
    "tags": []
   },
   "outputs": [],
   "source": [
    "#Too similiar variables:\n",
    "df=df.drop(['GarageYrBlt'], axis=1)"
   ]
  },
  {
   "cell_type": "markdown",
   "id": "a0aa9295",
   "metadata": {
    "papermill": {
     "duration": 0.01661,
     "end_time": "2022-10-06T17:58:42.500094",
     "exception": false,
     "start_time": "2022-10-06T17:58:42.483484",
     "status": "completed"
    },
    "tags": []
   },
   "source": [
    "# Split Data"
   ]
  },
  {
   "cell_type": "code",
   "execution_count": 14,
   "id": "d57d65b5",
   "metadata": {
    "execution": {
     "iopub.execute_input": "2022-10-06T17:58:42.540985Z",
     "iopub.status.busy": "2022-10-06T17:58:42.540497Z",
     "iopub.status.idle": "2022-10-06T17:58:42.730935Z",
     "shell.execute_reply": "2022-10-06T17:58:42.729706Z"
    },
    "papermill": {
     "duration": 0.215586,
     "end_time": "2022-10-06T17:58:42.733864",
     "exception": false,
     "start_time": "2022-10-06T17:58:42.518278",
     "status": "completed"
    },
    "tags": []
   },
   "outputs": [],
   "source": [
    "from sklearn.model_selection import train_test_split, cross_validate\n",
    "\n",
    "X=df.drop(\"SalePrice\", axis='columns')\n",
    "y=df['SalePrice']\n",
    "\n",
    "X_train, X_test, y_train, y_test = train_test_split(\n",
    "X, y, test_size=0.30, random_state=42)"
   ]
  },
  {
   "cell_type": "markdown",
   "id": "44036a47",
   "metadata": {
    "papermill": {
     "duration": 0.018443,
     "end_time": "2022-10-06T17:58:42.770101",
     "exception": false,
     "start_time": "2022-10-06T17:58:42.751658",
     "status": "completed"
    },
    "tags": []
   },
   "source": [
    "# xgBoost"
   ]
  },
  {
   "cell_type": "code",
   "execution_count": 15,
   "id": "9c08c3c1",
   "metadata": {
    "execution": {
     "iopub.execute_input": "2022-10-06T17:58:42.805285Z",
     "iopub.status.busy": "2022-10-06T17:58:42.804874Z",
     "iopub.status.idle": "2022-10-06T17:58:42.935571Z",
     "shell.execute_reply": "2022-10-06T17:58:42.934332Z"
    },
    "papermill": {
     "duration": 0.151347,
     "end_time": "2022-10-06T17:58:42.938176",
     "exception": false,
     "start_time": "2022-10-06T17:58:42.786829",
     "status": "completed"
    },
    "tags": []
   },
   "outputs": [],
   "source": [
    "import xgboost as xgb\n",
    "from sklearn.metrics import mean_squared_error, r2_score, mean_absolute_error"
   ]
  },
  {
   "cell_type": "markdown",
   "id": "41d7df71",
   "metadata": {
    "papermill": {
     "duration": 0.016222,
     "end_time": "2022-10-06T17:58:42.971134",
     "exception": false,
     "start_time": "2022-10-06T17:58:42.954912",
     "status": "completed"
    },
    "tags": []
   },
   "source": [
    "### Max Depth \n",
    "Increasing the value makes the model more complex which could overfit. Four for max depth shows the least amount of error and highest accuracy. Range is typical between 2 and 10."
   ]
  },
  {
   "cell_type": "code",
   "execution_count": 16,
   "id": "ca6d55f2",
   "metadata": {
    "execution": {
     "iopub.execute_input": "2022-10-06T17:58:43.006133Z",
     "iopub.status.busy": "2022-10-06T17:58:43.005704Z",
     "iopub.status.idle": "2022-10-06T17:58:48.469377Z",
     "shell.execute_reply": "2022-10-06T17:58:48.468174Z"
    },
    "papermill": {
     "duration": 5.484235,
     "end_time": "2022-10-06T17:58:48.471993",
     "exception": false,
     "start_time": "2022-10-06T17:58:42.987758",
     "status": "completed"
    },
    "tags": []
   },
   "outputs": [
    {
     "data": {
      "image/png": "[encoded data removed]",
      "text/plain": [
       "<Figure size 432x288 with 1 Axes>"
      ]
     },
     "metadata": {
      "needs_background": "light"
     },
     "output_type": "display_data"
    },
    {
     "data": {
      "image/png": "[encoded data removed]",
      "text/plain": [
       "<Figure size 432x288 with 1 Axes>"
      ]
     },
     "metadata": {
      "needs_background": "light"
     },
     "output_type": "display_data"
    }
   ],
   "source": [
    "maxDepth=[2, 3, 4, 5, 6, 7, 8, 9, 10]\n",
    "listMSE=[]\n",
    "listR2=[]\n",
    "\n",
    "for d in maxDepth:\n",
    "    regressor = xgb.XGBRegressor(\n",
    "        max_depth=d\n",
    "    )\n",
    "    regressor.fit(X_train, y_train)\n",
    "    y_pred = regressor.predict(X_test)\n",
    "\n",
    "    xgMSE=mean_absolute_error(y_test, y_pred)\n",
    "    xgR2 = r2_score(y_test, y_pred).round(4)\n",
    "    listMSE.append(xgMSE)\n",
    "    listR2.append(xgR2)\n",
    "plt.plot(maxDepth, listMSE)\n",
    "plt.title('MaxDepth Error')\n",
    "plt.ylabel('Error')\n",
    "plt.xlabel('Max Depth')\n",
    "plt.legend()\n",
    "plt.show()\n",
    "\n",
    "plt.plot(maxDepth, listR2)\n",
    "plt.title('MaxDepth Accuracy')\n",
    "plt.ylabel('Accuracy')\n",
    "plt.xlabel('MaxDepth')\n",
    "plt.legend()\n",
    "plt.show()"
   ]
  },
  {
   "cell_type": "markdown",
   "id": "b3afb896",
   "metadata": {
    "papermill": {
     "duration": 0.017082,
     "end_time": "2022-10-06T17:58:48.507406",
     "exception": false,
     "start_time": "2022-10-06T17:58:48.490324",
     "status": "completed"
    },
    "tags": []
   },
   "source": [
    "### n_estimators\n"
   ]
  },
  {
   "cell_type": "code",
   "execution_count": 17,
   "id": "b7399144",
   "metadata": {
    "execution": {
     "iopub.execute_input": "2022-10-06T17:58:48.544954Z",
     "iopub.status.busy": "2022-10-06T17:58:48.544170Z",
     "iopub.status.idle": "2022-10-06T17:58:52.160862Z",
     "shell.execute_reply": "2022-10-06T17:58:52.159648Z"
    },
    "papermill": {
     "duration": 3.638271,
     "end_time": "2022-10-06T17:58:52.163548",
     "exception": false,
     "start_time": "2022-10-06T17:58:48.525277",
     "status": "completed"
    },
    "tags": []
   },
   "outputs": [
    {
     "data": {
      "image/png": "[encoded data removed]",
      "text/plain": [
       "<Figure size 432x288 with 1 Axes>"
      ]
     },
     "metadata": {
      "needs_background": "light"
     },
     "output_type": "display_data"
    },
    {
     "data": {
      "image/png": "[encoded data removed]",
      "text/plain": [
       "<Figure size 432x288 with 1 Axes>"
      ]
     },
     "metadata": {
      "needs_background": "light"
     },
     "output_type": "display_data"
    }
   ],
   "source": [
    "def xgEst():\n",
    "    numbers=[2, 20, 30, 40, 50, 60, 70, 80, 90, 100, 150]\n",
    "    listMSE=[]\n",
    "    listR2=[]\n",
    "\n",
    "    for n in numbers:\n",
    "        regressor = xgb.XGBRegressor(\n",
    "            n_estimators=n,\n",
    "        )\n",
    "        regressor.fit(X_train, y_train)\n",
    "        y_pred = regressor.predict(X_test)\n",
    "\n",
    "        xgMSE=mean_absolute_error(y_test, y_pred)\n",
    "        xgR2 = r2_score(y_test, y_pred).round(4)\n",
    "        listMSE.append(xgMSE)\n",
    "        listR2.append(xgR2)\n",
    "    plt.plot(numbers, listMSE)\n",
    "    plt.title('nEstimators Error')\n",
    "    plt.ylabel('Error')\n",
    "    plt.xlabel('N Estimators')\n",
    "    plt.legend()\n",
    "    plt.show()\n",
    "\n",
    "    plt.plot(numbers, listR2)\n",
    "    plt.title('nEstimators R2')\n",
    "    plt.ylabel('Accurate')\n",
    "    plt.xlabel('N Estimators')\n",
    "    plt.legend()\n",
    "    plt.show()\n",
    "xgEst()"
   ]
  },
  {
   "cell_type": "markdown",
   "id": "146a5c62",
   "metadata": {
    "papermill": {
     "duration": 0.020223,
     "end_time": "2022-10-06T17:58:52.204021",
     "exception": false,
     "start_time": "2022-10-06T17:58:52.183798",
     "status": "completed"
    },
    "tags": []
   },
   "source": [
    "### Min_child_weight\n",
    "Increasing value will make model more conservative. Typically, a number between 0 and 10 is used.\n"
   ]
  },
  {
   "cell_type": "code",
   "execution_count": 18,
   "id": "8760b161",
   "metadata": {
    "execution": {
     "iopub.execute_input": "2022-10-06T17:58:52.246793Z",
     "iopub.status.busy": "2022-10-06T17:58:52.246388Z",
     "iopub.status.idle": "2022-10-06T17:58:55.766634Z",
     "shell.execute_reply": "2022-10-06T17:58:55.765506Z"
    },
    "papermill": {
     "duration": 3.544691,
     "end_time": "2022-10-06T17:58:55.768984",
     "exception": false,
     "start_time": "2022-10-06T17:58:52.224293",
     "status": "completed"
    },
    "tags": []
   },
   "outputs": [
    {
     "data": {
      "image/png": "[encoded data removed]",
      "text/plain": [
       "<Figure size 432x288 with 1 Axes>"
      ]
     },
     "metadata": {
      "needs_background": "light"
     },
     "output_type": "display_data"
    },
    {
     "data": {
      "image/png": "[encoded data removed]",
      "text/plain": [
       "<Figure size 432x288 with 1 Axes>"
      ]
     },
     "metadata": {
      "needs_background": "light"
     },
     "output_type": "display_data"
    }
   ],
   "source": [
    "weight=[1, 2, 3, 5, 7, 9, 10]\n",
    "listMSE=[]\n",
    "listR2=[]\n",
    "\n",
    "for w in weight:\n",
    "    regressor = xgb.XGBRegressor(\n",
    "        min_child_weight=w\n",
    "    )\n",
    "    regressor.fit(X_train, y_train)\n",
    "    y_pred = regressor.predict(X_test)\n",
    "\n",
    "    xgMSE=mean_absolute_error(y_test, y_pred)\n",
    "    xgR2 = r2_score(y_test, y_pred).round(4)\n",
    "    listMSE.append(xgMSE)\n",
    "    listR2.append(xgR2)\n",
    "plt.plot(weight, listMSE)\n",
    "plt.title('xgBoost')\n",
    "plt.ylabel('Error')\n",
    "plt.xlabel('Weight')\n",
    "plt.legend()\n",
    "plt.show()\n",
    "\n",
    "plt.plot(weight, listR2)\n",
    "plt.title('xgBoost')\n",
    "plt.ylabel('Accurate')\n",
    "plt.xlabel('Weight')\n",
    "plt.legend()\n",
    "plt.show()"
   ]
  },
  {
   "cell_type": "markdown",
   "id": "a2d6d3dd",
   "metadata": {
    "papermill": {
     "duration": 0.019051,
     "end_time": "2022-10-06T17:58:55.806931",
     "exception": false,
     "start_time": "2022-10-06T17:58:55.787880",
     "status": "completed"
    },
    "tags": []
   },
   "source": [
    "### Gamma\n",
    "Increasing gamma makes model more conservative. In this case, increasing Gamma makes almost no difference. It takes gamma to be 1000 to notice a slight decrease in error. Therefore, I do not use gamma in this particular case."
   ]
  },
  {
   "cell_type": "code",
   "execution_count": 19,
   "id": "fd3fb800",
   "metadata": {
    "execution": {
     "iopub.execute_input": "2022-10-06T17:58:55.847324Z",
     "iopub.status.busy": "2022-10-06T17:58:55.846837Z",
     "iopub.status.idle": "2022-10-06T17:58:59.289614Z",
     "shell.execute_reply": "2022-10-06T17:58:59.288527Z"
    },
    "papermill": {
     "duration": 3.466512,
     "end_time": "2022-10-06T17:58:59.292565",
     "exception": false,
     "start_time": "2022-10-06T17:58:55.826053",
     "status": "completed"
    },
    "tags": []
   },
   "outputs": [
    {
     "data": {
      "image/png": "[encoded data removed]",
      "text/plain": [
       "<Figure size 432x288 with 1 Axes>"
      ]
     },
     "metadata": {
      "needs_background": "light"
     },
     "output_type": "display_data"
    },
    {
     "data": {
      "image/png": "[encoded data removed]",
      "text/plain": [
       "<Figure size 432x288 with 1 Axes>"
      ]
     },
     "metadata": {
      "needs_background": "light"
     },
     "output_type": "display_data"
    }
   ],
   "source": [
    "gammas=[0, 0.25, 0.5, 1.0, 3, 5, 10]\n",
    "listMSE=[]\n",
    "listR2=[]\n",
    "\n",
    "for g in gammas:\n",
    "    regressor = xgb.XGBRegressor(\n",
    "        min_split_loss=g\n",
    "    )\n",
    "    regressor.fit(X_train, y_train)\n",
    "    y_pred = regressor.predict(X_test)\n",
    "\n",
    "    xgMSE=mean_absolute_error(y_test, y_pred)\n",
    "    xgR2 = r2_score(y_test, y_pred).round(4)\n",
    "    listMSE.append(xgMSE)\n",
    "    listR2.append(xgR2)\n",
    "    \n",
    "plt.plot(gammas, listMSE)\n",
    "plt.title('Gamma Error')\n",
    "plt.ylabel('Error')\n",
    "plt.xlabel('Gammas')\n",
    "plt.legend()\n",
    "plt.show()\n",
    "\n",
    "plt.plot(gammas, listR2)\n",
    "plt.title('Gamma R2')\n",
    "plt.ylabel('Accurate')\n",
    "plt.xlabel('Gammas')\n",
    "plt.legend()\n",
    "plt.show()"
   ]
  },
  {
   "cell_type": "markdown",
   "id": "a73257dd",
   "metadata": {
    "papermill": {
     "duration": 0.019162,
     "end_time": "2022-10-06T17:58:59.330791",
     "exception": false,
     "start_time": "2022-10-06T17:58:59.311629",
     "status": "completed"
    },
    "tags": []
   },
   "source": [
    "### Learning_rate\n",
    "A higher learning rate makes the model more conservative. Range is between 0 and 1. Typically, a number between 0 and .3 is used."
   ]
  },
  {
   "cell_type": "code",
   "execution_count": 20,
   "id": "ff2e2a3b",
   "metadata": {
    "execution": {
     "iopub.execute_input": "2022-10-06T17:58:59.371151Z",
     "iopub.status.busy": "2022-10-06T17:58:59.370641Z",
     "iopub.status.idle": "2022-10-06T17:59:03.666215Z",
     "shell.execute_reply": "2022-10-06T17:59:03.665171Z"
    },
    "papermill": {
     "duration": 4.318521,
     "end_time": "2022-10-06T17:59:03.668723",
     "exception": false,
     "start_time": "2022-10-06T17:58:59.350202",
     "status": "completed"
    },
    "tags": []
   },
   "outputs": [
    {
     "data": {
      "image/png": "[encoded data removed]",
      "text/plain": [
       "<Figure size 432x288 with 1 Axes>"
      ]
     },
     "metadata": {
      "needs_background": "light"
     },
     "output_type": "display_data"
    },
    {
     "data": {
      "image/png": "[encoded data removed]",
      "text/plain": [
       "<Figure size 432x288 with 1 Axes>"
      ]
     },
     "metadata": {
      "needs_background": "light"
     },
     "output_type": "display_data"
    }
   ],
   "source": [
    "learning_rate = [0.01, 0.1, 0.2, 0.3, .5, .6, .7, .8, .9]\n",
    "listMSE=[]\n",
    "listR2=[]\n",
    "\n",
    "for l in learning_rate:\n",
    "    regressor = xgb.XGBRegressor(\n",
    "        learning_rate=l\n",
    "    )\n",
    "    regressor.fit(X_train, y_train)\n",
    "    y_pred = regressor.predict(X_test)\n",
    "\n",
    "    xgMSE=mean_absolute_error(y_test, y_pred)\n",
    "    xgR2 = r2_score(y_test, y_pred).round(4)\n",
    "    listMSE.append(xgMSE)\n",
    "    listR2.append(xgR2)\n",
    "    \n",
    "plt.plot(learning_rate, listMSE)\n",
    "plt.title('Learning_rate Error')\n",
    "plt.ylabel('Error')\n",
    "plt.xlabel('Learning_rate')\n",
    "plt.legend()\n",
    "plt.show()\n",
    "\n",
    "plt.plot(learning_rate, listR2)\n",
    "plt.title('Learning_rate R2')\n",
    "plt.ylabel('Accurate')\n",
    "plt.xlabel('Learning_rate')\n",
    "plt.legend()\n",
    "plt.show()"
   ]
  },
  {
   "cell_type": "markdown",
   "id": "2aeea039",
   "metadata": {
    "papermill": {
     "duration": 0.019859,
     "end_time": "2022-10-06T17:59:03.708463",
     "exception": false,
     "start_time": "2022-10-06T17:59:03.688604",
     "status": "completed"
    },
    "tags": []
   },
   "source": [
    "### Reg_Lambda\n",
    "Reg_lambda uses L2 regularization. Typical range is generally 0 to 10."
   ]
  },
  {
   "cell_type": "code",
   "execution_count": 21,
   "id": "6c94d7a7",
   "metadata": {
    "execution": {
     "iopub.execute_input": "2022-10-06T17:59:03.749574Z",
     "iopub.status.busy": "2022-10-06T17:59:03.749170Z",
     "iopub.status.idle": "2022-10-06T17:59:05.851509Z",
     "shell.execute_reply": "2022-10-06T17:59:05.850332Z"
    },
    "papermill": {
     "duration": 2.125631,
     "end_time": "2022-10-06T17:59:05.853865",
     "exception": false,
     "start_time": "2022-10-06T17:59:03.728234",
     "status": "completed"
    },
    "tags": []
   },
   "outputs": [
    {
     "data": {
      "image/png": "[encoded data removed]",
      "text/plain": [
       "<Figure size 432x288 with 1 Axes>"
      ]
     },
     "metadata": {
      "needs_background": "light"
     },
     "output_type": "display_data"
    },
    {
     "data": {
      "image/png": "[encoded data removed]",
      "text/plain": [
       "<Figure size 432x288 with 1 Axes>"
      ]
     },
     "metadata": {
      "needs_background": "light"
     },
     "output_type": "display_data"
    }
   ],
   "source": [
    "regLam = [0, 1.0, 5.0, 10.0] #0 is default\n",
    "listMSE=[]\n",
    "listR2=[]\n",
    "\n",
    "for r in regLam:\n",
    "    regressor = xgb.XGBRegressor(\n",
    "        reg_lambda=r,\n",
    "    )\n",
    "    regressor.fit(X_train, y_train)\n",
    "    y_pred = regressor.predict(X_test)\n",
    "\n",
    "    xgMSE=mean_absolute_error(y_test, y_pred)\n",
    "    xgR2 = r2_score(y_test, y_pred).round(4)\n",
    "    listMSE.append(xgMSE)\n",
    "    listR2.append(xgR2)\n",
    "    \n",
    "plt.plot(regLam, listMSE)\n",
    "plt.title('RegLam Error')\n",
    "plt.ylabel('Error')\n",
    "plt.xlabel('RegLam')\n",
    "plt.legend()\n",
    "plt.show()\n",
    "\n",
    "plt.plot(regLam, listR2)\n",
    "plt.title('RegLam R2')\n",
    "plt.ylabel('Accurate')\n",
    "plt.xlabel('RegLam')\n",
    "plt.legend()\n",
    "plt.show()"
   ]
  },
  {
   "cell_type": "markdown",
   "id": "72d96be4",
   "metadata": {
    "papermill": {
     "duration": 0.021532,
     "end_time": "2022-10-06T17:59:05.895974",
     "exception": false,
     "start_time": "2022-10-06T17:59:05.874442",
     "status": "completed"
    },
    "tags": []
   },
   "source": [
    "### Reg_Alpha\n",
    "Reg_alpha uses L1 regularization. Increasing the value makes the model more conservative. Reg_alpha can have a bigger range up to 80."
   ]
  },
  {
   "cell_type": "code",
   "execution_count": 22,
   "id": "b1816e0b",
   "metadata": {
    "execution": {
     "iopub.execute_input": "2022-10-06T17:59:05.939303Z",
     "iopub.status.busy": "2022-10-06T17:59:05.938888Z",
     "iopub.status.idle": "2022-10-06T17:59:10.606729Z",
     "shell.execute_reply": "2022-10-06T17:59:10.605489Z"
    },
    "papermill": {
     "duration": 4.692494,
     "end_time": "2022-10-06T17:59:10.609169",
     "exception": false,
     "start_time": "2022-10-06T17:59:05.916675",
     "status": "completed"
    },
    "tags": []
   },
   "outputs": [
    {
     "data": {
      "image/png": "[encoded data removed]",
      "text/plain": [
       "<Figure size 432x288 with 1 Axes>"
      ]
     },
     "metadata": {
      "needs_background": "light"
     },
     "output_type": "display_data"
    },
    {
     "data": {
      "image/png": "[encoded data removed]",
      "text/plain": [
       "<Figure size 432x288 with 1 Axes>"
      ]
     },
     "metadata": {
      "needs_background": "light"
     },
     "output_type": "display_data"
    }
   ],
   "source": [
    "def regAlpha():\n",
    "    numbers = [0, 5.0, 10.0, 20, 30, 40, 50, 60, 70, 80]  #0 is default\n",
    "    listMSE=[]\n",
    "    listR2=[]\n",
    "\n",
    "    for n in numbers:\n",
    "        regressor = xgb.XGBRegressor(\n",
    "            reg_alpha=n,\n",
    "        )\n",
    "        regressor.fit(X_train, y_train)\n",
    "        y_pred = regressor.predict(X_test)\n",
    "\n",
    "        xgMSE=mean_absolute_error(y_test, y_pred)\n",
    "        xgR2 = r2_score(y_test, y_pred).round(4)\n",
    "        listMSE.append(xgMSE)\n",
    "        listR2.append(xgR2)\n",
    "\n",
    "    plt.plot(numbers, listMSE)\n",
    "    plt.title('regAlpha')\n",
    "    plt.ylabel('Error')\n",
    "    plt.xlabel('RegAlpha')\n",
    "    plt.legend()\n",
    "    plt.show()\n",
    "\n",
    "    plt.plot(numbers, listR2)\n",
    "    plt.title('regAlpha')\n",
    "    plt.ylabel('Accurate')\n",
    "    plt.xlabel('RegAlpha')\n",
    "    plt.legend()\n",
    "    plt.show()\n",
    "regAlpha()"
   ]
  },
  {
   "cell_type": "markdown",
   "id": "f916df00",
   "metadata": {
    "papermill": {
     "duration": 0.021657,
     "end_time": "2022-10-06T17:59:10.653199",
     "exception": false,
     "start_time": "2022-10-06T17:59:10.631542",
     "status": "completed"
    },
    "tags": []
   },
   "source": [
    "### Colsample_bytree"
   ]
  },
  {
   "cell_type": "code",
   "execution_count": 23,
   "id": "982a944c",
   "metadata": {
    "execution": {
     "iopub.execute_input": "2022-10-06T17:59:10.697468Z",
     "iopub.status.busy": "2022-10-06T17:59:10.697013Z",
     "iopub.status.idle": "2022-10-06T17:59:12.613670Z",
     "shell.execute_reply": "2022-10-06T17:59:12.612355Z"
    },
    "papermill": {
     "duration": 1.941917,
     "end_time": "2022-10-06T17:59:12.616208",
     "exception": false,
     "start_time": "2022-10-06T17:59:10.674291",
     "status": "completed"
    },
    "tags": []
   },
   "outputs": [
    {
     "data": {
      "image/png": "[encoded data removed]",
      "text/plain": [
       "<Figure size 432x288 with 1 Axes>"
      ]
     },
     "metadata": {
      "needs_background": "light"
     },
     "output_type": "display_data"
    },
    {
     "data": {
      "image/png": "[encoded data removed]",
      "text/plain": [
       "<Figure size 432x288 with 1 Axes>"
      ]
     },
     "metadata": {
      "needs_background": "light"
     },
     "output_type": "display_data"
    }
   ],
   "source": [
    "colSample = [0.1, 0.5, 0.9, 1]\n",
    "listMSE=[]\n",
    "listR2=[]\n",
    "\n",
    "for c in colSample:\n",
    "    regressor = xgb.XGBRegressor(\n",
    "        colsample_bytree=c\n",
    "    )\n",
    "    regressor.fit(X_train, y_train)\n",
    "    y_pred = regressor.predict(X_test)\n",
    "\n",
    "    xgMSE=mean_absolute_error(y_test, y_pred)\n",
    "    xgR2 = r2_score(y_test, y_pred).round(4)\n",
    "    listMSE.append(xgMSE)\n",
    "    listR2.append(xgR2)\n",
    "    \n",
    "plt.plot(colSample, listMSE)\n",
    "plt.title('ColSample Error')\n",
    "plt.ylabel('Error')\n",
    "plt.xlabel('ColSample')\n",
    "plt.legend()\n",
    "plt.show()\n",
    "\n",
    "plt.plot(colSample, listR2)\n",
    "plt.title('ColSample R2')\n",
    "plt.ylabel('Accurate')\n",
    "plt.xlabel('ColSample')\n",
    "plt.legend()\n",
    "plt.show()"
   ]
  },
  {
   "cell_type": "markdown",
   "id": "3f82ce5a",
   "metadata": {
    "papermill": {
     "duration": 0.022106,
     "end_time": "2022-10-06T17:59:12.660012",
     "exception": false,
     "start_time": "2022-10-06T17:59:12.637906",
     "status": "completed"
    },
    "tags": []
   },
   "source": [
    "# Grid Search xg Boost"
   ]
  },
  {
   "cell_type": "code",
   "execution_count": 24,
   "id": "3c8aa43b",
   "metadata": {
    "execution": {
     "iopub.execute_input": "2022-10-06T17:59:12.705654Z",
     "iopub.status.busy": "2022-10-06T17:59:12.705214Z",
     "iopub.status.idle": "2022-10-06T18:04:53.549882Z",
     "shell.execute_reply": "2022-10-06T18:04:53.548428Z"
    },
    "papermill": {
     "duration": 340.892526,
     "end_time": "2022-10-06T18:04:53.574283",
     "exception": false,
     "start_time": "2022-10-06T17:59:12.681757",
     "status": "completed"
    },
    "tags": []
   },
   "outputs": [
    {
     "name": "stdout",
     "output_type": "stream",
     "text": [
      "Start\n",
      "{'colsample_bytree': 0.9, 'learning_rate': 0.1, 'max_depth': 3, 'min_child_weight': 10, 'n_estimators': 100, 'reg_alpha': 0, 'reg_lambda': 1}\n",
      "Done.  340.82896614074707  seconds\n"
     ]
    }
   ],
   "source": [
    "from sklearn.model_selection import GridSearchCV, RandomizedSearchCV, KFold, StratifiedKFold\n",
    "from sklearn.metrics import f1_score, max_error\n",
    "from xgboost import cv\n",
    "from scipy import stats\n",
    "import time\n",
    "\n",
    "def gridSearch():\n",
    "    start=time.time()\n",
    "    print(\"Start\")\n",
    "\n",
    "    params = {\n",
    "        'learning_rate':[.1, .3],\n",
    "        'n_estimators':[100],\n",
    "        'max_depth':[2, 3, 4],\n",
    "        'min_child_weight':[5, 10],\n",
    "        'reg_lambda':[0, 1, 2],\n",
    "        'reg_alpha':[0, 20, 40],\n",
    "        'colsample_bytree':[.9, 1],\n",
    "    }\n",
    "\n",
    "    boost_gs=xgb.XGBRegressor()\n",
    "    kfold = StratifiedKFold(n_splits=5, shuffle=True, random_state=7)\n",
    "    boost_gs=GridSearchCV(boost_gs, param_grid=params, scoring='neg_mean_squared_error', cv =5)\n",
    "    boost_gs.fit(X_train, y_train)\n",
    "\n",
    "    print(boost_gs.best_params_)\n",
    "    print(\"Done. \", time.time()-start, \" seconds\")\n",
    "gridSearch()"
   ]
  },
  {
   "cell_type": "markdown",
   "id": "f809cd87",
   "metadata": {
    "papermill": {
     "duration": 0.021898,
     "end_time": "2022-10-06T18:04:53.621015",
     "exception": false,
     "start_time": "2022-10-06T18:04:53.599117",
     "status": "completed"
    },
    "tags": []
   },
   "source": [
    "# Final Predictions\n",
    "Here are some of the best models found by using GridSearch:\n",
    "* Using cv=10 {'colsample_bytree': 0.9, 'learning_rate': 0.1, 'max_depth': 3, 'min_child_weight': 10, 'n_estimators': 100, 'reg_alpha': 0, 'reg_lambda': 5}\n",
    "* {'colsample_bytree': 0.9, 'learning_rate': 0.1, 'max_depth': 4, 'min_child_weight': 10, 'n_estimators': 100, 'reg_alpha': 0, 'reg_lambda': 5}\n",
    "* {'colsample_bytree': 0.9, 'learning_rate': 0.1, 'max_depth': 4, 'min_child_weight': 10, 'n_estimators': 50, 'reg_alpha': 0, 'reg_lambda': 0}\n",
    "* Using MSE with cv=10 {'learning_rate': 0.3, 'max_depth': 2, 'min_child_weight': 5, 'n_estimators': 50, 'reg_lambda': 0.5}\n",
    "* Top 47% {'eta': 0.1, 'learning_rate': 0.01, 'max_depth': 4, 'min_child_weight': 10, 'n_estimators': 50, 'reg_lambda': 0.01}\n",
    "* Using Kfold=5 {'colsample_bytree': 0.5, 'learning_rate': 0.5, 'max_depth': 3, 'min_child_weight': 10, 'n_estimators': 50, 'reg_lambda': 0.5}"
   ]
  },
  {
   "cell_type": "code",
   "execution_count": 25,
   "id": "5bde06a2",
   "metadata": {
    "execution": {
     "iopub.execute_input": "2022-10-06T18:04:53.667958Z",
     "iopub.status.busy": "2022-10-06T18:04:53.667544Z",
     "iopub.status.idle": "2022-10-06T18:04:56.158884Z",
     "shell.execute_reply": "2022-10-06T18:04:56.158002Z"
    },
    "papermill": {
     "duration": 2.519531,
     "end_time": "2022-10-06T18:04:56.162553",
     "exception": false,
     "start_time": "2022-10-06T18:04:53.643022",
     "status": "completed"
    },
    "tags": []
   },
   "outputs": [
    {
     "name": "stderr",
     "output_type": "stream",
     "text": [
      "/opt/conda/lib/python3.7/site-packages/xgboost/sklearn.py:797: UserWarning: `eval_metric` in `fit` method is deprecated for better compatibility with scikit-learn, use `eval_metric` in constructor or`set_params` instead.\n",
      "  UserWarning,\n",
      "/opt/conda/lib/python3.7/site-packages/xgboost/sklearn.py:797: UserWarning: `early_stopping_rounds` in `fit` method is deprecated for better compatibility with scikit-learn, use `early_stopping_rounds` in constructor or`set_params` instead.\n",
      "  UserWarning,\n"
     ]
    },
    {
     "name": "stdout",
     "output_type": "stream",
     "text": [
      "r2  0.9011 0.9005 || cross validate:  0.0006\n"
     ]
    }
   ],
   "source": [
    "xgbFinal = xgb.XGBRegressor(\n",
    "        n_estimators=100,\n",
    "        max_depth=3,\n",
    "        reg_lambda=0,\n",
    "        reg_alpha=1,\n",
    "        min_child_weight=5,\n",
    "        learning_rate=.1,\n",
    "        colsample_bytree=1,\n",
    "    )\n",
    "xgbFinal.fit(X_train, y_train)\n",
    "y_pred = xgbFinal.predict(X_test)\n",
    "\n",
    "xgMSE=mean_absolute_error(y_test, y_pred)\n",
    "xgR2 = r2_score(y_test, y_pred).round(4)\n",
    "listMSE.append(xgMSE)\n",
    "listR2.append(xgR2)\n",
    "\n",
    "#xgbFinal.fit(X_train, y_train)\n",
    "xgbFinal.fit(X_train, y_train, early_stopping_rounds=5, eval_metric=\"rmse\", eval_set=[(X_test, y_test)], verbose=False)\n",
    "y_pred = xgbFinal.predict(X_test)\n",
    "\n",
    "xgMSE=mean_absolute_error(y_test, y_pred)\n",
    "xgR2 = r2_score(y_test, y_pred).round(4)\n",
    "listMSE.append(xgMSE)\n",
    "listR2.append(xgR2)\n",
    "\n",
    "xgScore = xgbFinal.score(X_test, y_test).round(4)  \n",
    "xgCV = cross_validate(xgbFinal, X, y, cv = 5, scoring='r2')\n",
    "xgCV=xgCV['test_score'].mean().round(4)\n",
    "print(\"r2 \", xgScore, xgCV, \"|| cross validate: \", (xgScore-xgCV).round(4))"
   ]
  },
  {
   "cell_type": "markdown",
   "id": "186cd713",
   "metadata": {
    "papermill": {
     "duration": 0.023192,
     "end_time": "2022-10-06T18:04:56.210693",
     "exception": false,
     "start_time": "2022-10-06T18:04:56.187501",
     "status": "completed"
    },
    "tags": []
   },
   "source": [
    "### Graph"
   ]
  },
  {
   "cell_type": "code",
   "execution_count": 26,
   "id": "d010db06",
   "metadata": {
    "execution": {
     "iopub.execute_input": "2022-10-06T18:04:56.257853Z",
     "iopub.status.busy": "2022-10-06T18:04:56.257391Z",
     "iopub.status.idle": "2022-10-06T18:04:57.373906Z",
     "shell.execute_reply": "2022-10-06T18:04:57.372539Z"
    },
    "papermill": {
     "duration": 1.143226,
     "end_time": "2022-10-06T18:04:57.376181",
     "exception": false,
     "start_time": "2022-10-06T18:04:56.232955",
     "status": "completed"
    },
    "tags": []
   },
   "outputs": [
    {
     "data": {
      "image/svg+xml": [
       "<?xml version=\"1.0\" encoding=\"UTF-8\" standalone=\"no\"?>\n",
       "<!DOCTYPE svg PUBLIC \"-//W3C//DTD SVG 1.1//EN\"\n",
       " \"http://www.w3.org/Graphics/SVG/1.1/DTD/svg11.dtd\">\n",
       "<!-- Generated by graphviz version 5.0.0 (20220707.2338)\n",
       " -->\n",
       "<!-- Pages: 1 -->\n",
       "<svg width=\"1578pt\" height=\"305pt\"\n",
       " viewBox=\"0.00 0.00 1577.98 305.00\" xmlns=\"http://www.w3.org/2000/svg\" xmlns:xlink=\"http://www.w3.org/1999/xlink\">\n",
       "<g id=\"graph0\" class=\"graph\" transform=\"scale(1 1) rotate(0) translate(4 301)\">\n",
       "<polygon fill=\"white\" stroke=\"transparent\" points=\"-4,4 -4,-301 1573.98,-301 1573.98,4 -4,4\"/>\n",
       "<!-- 0 -->\n",
       "<g id=\"node1\" class=\"node\">\n",
       "<title>0</title>\n",
       "<ellipse fill=\"none\" stroke=\"black\" cx=\"761.99\" cy=\"-279\" rx=\"85.59\" ry=\"18\"/>\n",
       "<text text-anchor=\"middle\" x=\"761.99\" y=\"-275.3\" font-family=\"Times,serif\" font-size=\"14.00\">totalSQ&lt;2948.5</text>\n",
       "</g>\n",
       "<!-- 1 -->\n",
       "<g id=\"node2\" class=\"node\">\n",
       "<title>1</title>\n",
       "<ellipse fill=\"none\" stroke=\"black\" cx=\"561.99\" cy=\"-192\" rx=\"77.19\" ry=\"18\"/>\n",
       "<text text-anchor=\"middle\" x=\"561.99\" y=\"-188.3\" font-family=\"Times,serif\" font-size=\"14.00\">totalSQ&lt;2289</text>\n",
       "</g>\n",
       "<!-- 0&#45;&gt;1 -->\n",
       "<g id=\"edge1\" class=\"edge\">\n",
       "<title>0&#45;&gt;1</title>\n",
       "<path fill=\"none\" stroke=\"#0000ff\" d=\"M725.77,-262.61C692.4,-248.42 642.75,-227.32 606.87,-212.07\"/>\n",
       "<polygon fill=\"#0000ff\" stroke=\"#0000ff\" points=\"608.18,-208.83 597.6,-208.14 605.44,-215.27 608.18,-208.83\"/>\n",
       "<text text-anchor=\"middle\" x=\"718.49\" y=\"-231.8\" font-family=\"Times,serif\" font-size=\"14.00\">yes, missing</text>\n",
       "</g>\n",
       "<!-- 2 -->\n",
       "<g id=\"node3\" class=\"node\">\n",
       "<title>2</title>\n",
       "<ellipse fill=\"none\" stroke=\"black\" cx=\"960.99\" cy=\"-192\" rx=\"88.28\" ry=\"18\"/>\n",
       "<text text-anchor=\"middle\" x=\"960.99\" y=\"-188.3\" font-family=\"Times,serif\" font-size=\"14.00\">OverallQual&lt;6.5</text>\n",
       "</g>\n",
       "<!-- 0&#45;&gt;2 -->\n",
       "<g id=\"edge2\" class=\"edge\">\n",
       "<title>0&#45;&gt;2</title>\n",
       "<path fill=\"none\" stroke=\"#ff0000\" d=\"M798.03,-262.61C830.93,-248.55 879.72,-227.71 915.34,-212.5\"/>\n",
       "<polygon fill=\"#ff0000\" stroke=\"#ff0000\" points=\"916.73,-215.71 924.55,-208.57 913.98,-209.27 916.73,-215.71\"/>\n",
       "<text text-anchor=\"middle\" x=\"882.99\" y=\"-231.8\" font-family=\"Times,serif\" font-size=\"14.00\">no</text>\n",
       "</g>\n",
       "<!-- 3 -->\n",
       "<g id=\"node4\" class=\"node\">\n",
       "<title>3</title>\n",
       "<ellipse fill=\"none\" stroke=\"black\" cx=\"290.99\" cy=\"-105\" rx=\"77.19\" ry=\"18\"/>\n",
       "<text text-anchor=\"middle\" x=\"290.99\" y=\"-101.3\" font-family=\"Times,serif\" font-size=\"14.00\">totalSQ&lt;1649</text>\n",
       "</g>\n",
       "<!-- 1&#45;&gt;3 -->\n",
       "<g id=\"edge3\" class=\"edge\">\n",
       "<title>1&#45;&gt;3</title>\n",
       "<path fill=\"none\" stroke=\"#0000ff\" d=\"M517.85,-177.15C470.6,-162.34 395.62,-138.82 344.92,-122.91\"/>\n",
       "<polygon fill=\"#0000ff\" stroke=\"#0000ff\" points=\"345.71,-119.49 335.12,-119.84 343.61,-126.17 345.71,-119.49\"/>\n",
       "<text text-anchor=\"middle\" x=\"487.49\" y=\"-144.8\" font-family=\"Times,serif\" font-size=\"14.00\">yes, missing</text>\n",
       "</g>\n",
       "<!-- 4 -->\n",
       "<g id=\"node5\" class=\"node\">\n",
       "<title>4</title>\n",
       "<ellipse fill=\"none\" stroke=\"black\" cx=\"561.99\" cy=\"-105\" rx=\"93.68\" ry=\"18\"/>\n",
       "<text text-anchor=\"middle\" x=\"561.99\" y=\"-101.3\" font-family=\"Times,serif\" font-size=\"14.00\">YearBuilt&lt;1978.5</text>\n",
       "</g>\n",
       "<!-- 1&#45;&gt;4 -->\n",
       "<g id=\"edge4\" class=\"edge\">\n",
       "<title>1&#45;&gt;4</title>\n",
       "<path fill=\"none\" stroke=\"#ff0000\" d=\"M561.99,-173.8C561.99,-162.16 561.99,-146.55 561.99,-133.24\"/>\n",
       "<polygon fill=\"#ff0000\" stroke=\"#ff0000\" points=\"565.49,-133.18 561.99,-123.18 558.49,-133.18 565.49,-133.18\"/>\n",
       "<text text-anchor=\"middle\" x=\"570.99\" y=\"-144.8\" font-family=\"Times,serif\" font-size=\"14.00\">no</text>\n",
       "</g>\n",
       "<!-- 5 -->\n",
       "<g id=\"node10\" class=\"node\">\n",
       "<title>5</title>\n",
       "<ellipse fill=\"none\" stroke=\"black\" cx=\"960.99\" cy=\"-105\" rx=\"90.98\" ry=\"18\"/>\n",
       "<text text-anchor=\"middle\" x=\"960.99\" y=\"-101.3\" font-family=\"Times,serif\" font-size=\"14.00\">OverallCond&lt;6.5</text>\n",
       "</g>\n",
       "<!-- 2&#45;&gt;5 -->\n",
       "<g id=\"edge9\" class=\"edge\">\n",
       "<title>2&#45;&gt;5</title>\n",
       "<path fill=\"none\" stroke=\"#0000ff\" d=\"M960.99,-173.8C960.99,-162.16 960.99,-146.55 960.99,-133.24\"/>\n",
       "<polygon fill=\"#0000ff\" stroke=\"#0000ff\" points=\"964.49,-133.18 960.99,-123.18 957.49,-133.18 964.49,-133.18\"/>\n",
       "<text text-anchor=\"middle\" x=\"1005.49\" y=\"-144.8\" font-family=\"Times,serif\" font-size=\"14.00\">yes, missing</text>\n",
       "</g>\n",
       "<!-- 6 -->\n",
       "<g id=\"node11\" class=\"node\">\n",
       "<title>6</title>\n",
       "<ellipse fill=\"none\" stroke=\"black\" cx=\"1284.99\" cy=\"-105\" rx=\"77.19\" ry=\"18\"/>\n",
       "<text text-anchor=\"middle\" x=\"1284.99\" y=\"-101.3\" font-family=\"Times,serif\" font-size=\"14.00\">totalSQ&lt;3602</text>\n",
       "</g>\n",
       "<!-- 2&#45;&gt;6 -->\n",
       "<g id=\"edge10\" class=\"edge\">\n",
       "<title>2&#45;&gt;6</title>\n",
       "<path fill=\"none\" stroke=\"#ff0000\" d=\"M1013.05,-177.34C1071.17,-162.1 1165.04,-137.47 1225.88,-121.51\"/>\n",
       "<polygon fill=\"#ff0000\" stroke=\"#ff0000\" points=\"1226.94,-124.85 1235.72,-118.93 1225.16,-118.08 1226.94,-124.85\"/>\n",
       "<text text-anchor=\"middle\" x=\"1151.99\" y=\"-144.8\" font-family=\"Times,serif\" font-size=\"14.00\">no</text>\n",
       "</g>\n",
       "<!-- 7 -->\n",
       "<g id=\"node6\" class=\"node\">\n",
       "<title>7</title>\n",
       "<ellipse fill=\"none\" stroke=\"black\" cx=\"90.99\" cy=\"-18\" rx=\"90.98\" ry=\"18\"/>\n",
       "<text text-anchor=\"middle\" x=\"90.99\" y=\"-14.3\" font-family=\"Times,serif\" font-size=\"14.00\">leaf=9334.15137</text>\n",
       "</g>\n",
       "<!-- 3&#45;&gt;7 -->\n",
       "<g id=\"edge5\" class=\"edge\">\n",
       "<title>3&#45;&gt;7</title>\n",
       "<path fill=\"none\" stroke=\"#0000ff\" d=\"M250.44,-89.51C234.04,-83.45 215,-76.16 197.99,-69 176.23,-59.84 152.4,-48.8 132.76,-39.43\"/>\n",
       "<polygon fill=\"#0000ff\" stroke=\"#0000ff\" points=\"134.01,-36.15 123.48,-34.98 130.98,-42.46 134.01,-36.15\"/>\n",
       "<text text-anchor=\"middle\" x=\"242.49\" y=\"-57.8\" font-family=\"Times,serif\" font-size=\"14.00\">yes, missing</text>\n",
       "</g>\n",
       "<!-- 8 -->\n",
       "<g id=\"node7\" class=\"node\">\n",
       "<title>8</title>\n",
       "<ellipse fill=\"none\" stroke=\"black\" cx=\"290.99\" cy=\"-18\" rx=\"90.98\" ry=\"18\"/>\n",
       "<text text-anchor=\"middle\" x=\"290.99\" y=\"-14.3\" font-family=\"Times,serif\" font-size=\"14.00\">leaf=13453.4092</text>\n",
       "</g>\n",
       "<!-- 3&#45;&gt;8 -->\n",
       "<g id=\"edge6\" class=\"edge\">\n",
       "<title>3&#45;&gt;8</title>\n",
       "<path fill=\"none\" stroke=\"#ff0000\" d=\"M290.99,-86.8C290.99,-75.16 290.99,-59.55 290.99,-46.24\"/>\n",
       "<polygon fill=\"#ff0000\" stroke=\"#ff0000\" points=\"294.49,-46.18 290.99,-36.18 287.49,-46.18 294.49,-46.18\"/>\n",
       "<text text-anchor=\"middle\" x=\"299.99\" y=\"-57.8\" font-family=\"Times,serif\" font-size=\"14.00\">no</text>\n",
       "</g>\n",
       "<!-- 9 -->\n",
       "<g id=\"node8\" class=\"node\">\n",
       "<title>9</title>\n",
       "<ellipse fill=\"none\" stroke=\"black\" cx=\"490.99\" cy=\"-18\" rx=\"90.98\" ry=\"18\"/>\n",
       "<text text-anchor=\"middle\" x=\"490.99\" y=\"-14.3\" font-family=\"Times,serif\" font-size=\"14.00\">leaf=15927.5771</text>\n",
       "</g>\n",
       "<!-- 4&#45;&gt;9 -->\n",
       "<g id=\"edge7\" class=\"edge\">\n",
       "<title>4&#45;&gt;9</title>\n",
       "<path fill=\"none\" stroke=\"#0000ff\" d=\"M547.62,-86.8C537.26,-74.39 523.12,-57.46 511.56,-43.62\"/>\n",
       "<polygon fill=\"#0000ff\" stroke=\"#0000ff\" points=\"514.19,-41.32 505.1,-35.89 508.82,-45.8 514.19,-41.32\"/>\n",
       "<text text-anchor=\"middle\" x=\"575.49\" y=\"-57.8\" font-family=\"Times,serif\" font-size=\"14.00\">yes, missing</text>\n",
       "</g>\n",
       "<!-- 10 -->\n",
       "<g id=\"node9\" class=\"node\">\n",
       "<title>10</title>\n",
       "<ellipse fill=\"none\" stroke=\"black\" cx=\"690.99\" cy=\"-18\" rx=\"90.98\" ry=\"18\"/>\n",
       "<text text-anchor=\"middle\" x=\"690.99\" y=\"-14.3\" font-family=\"Times,serif\" font-size=\"14.00\">leaf=19789.7949</text>\n",
       "</g>\n",
       "<!-- 4&#45;&gt;10 -->\n",
       "<g id=\"edge8\" class=\"edge\">\n",
       "<title>4&#45;&gt;10</title>\n",
       "<path fill=\"none\" stroke=\"#ff0000\" d=\"M592.41,-87.84C602.61,-82.16 613.95,-75.55 623.99,-69 636.81,-60.65 650.43,-50.7 662.02,-41.88\"/>\n",
       "<polygon fill=\"#ff0000\" stroke=\"#ff0000\" points=\"664.27,-44.57 670.06,-35.7 660,-39.02 664.27,-44.57\"/>\n",
       "<text text-anchor=\"middle\" x=\"653.99\" y=\"-57.8\" font-family=\"Times,serif\" font-size=\"14.00\">no</text>\n",
       "</g>\n",
       "<!-- 11 -->\n",
       "<g id=\"node12\" class=\"node\">\n",
       "<title>11</title>\n",
       "<ellipse fill=\"none\" stroke=\"black\" cx=\"890.99\" cy=\"-18\" rx=\"90.98\" ry=\"18\"/>\n",
       "<text text-anchor=\"middle\" x=\"890.99\" y=\"-14.3\" font-family=\"Times,serif\" font-size=\"14.00\">leaf=17085.8164</text>\n",
       "</g>\n",
       "<!-- 5&#45;&gt;11 -->\n",
       "<g id=\"edge11\" class=\"edge\">\n",
       "<title>5&#45;&gt;11</title>\n",
       "<path fill=\"none\" stroke=\"#0000ff\" d=\"M947.16,-87.21C936.97,-74.83 922.94,-57.8 911.45,-43.85\"/>\n",
       "<polygon fill=\"#0000ff\" stroke=\"#0000ff\" points=\"914.09,-41.54 905.03,-36.05 908.69,-45.99 914.09,-41.54\"/>\n",
       "<text text-anchor=\"middle\" x=\"975.49\" y=\"-57.8\" font-family=\"Times,serif\" font-size=\"14.00\">yes, missing</text>\n",
       "</g>\n",
       "<!-- 12 -->\n",
       "<g id=\"node13\" class=\"node\">\n",
       "<title>12</title>\n",
       "<ellipse fill=\"none\" stroke=\"black\" cx=\"1090.99\" cy=\"-18\" rx=\"90.98\" ry=\"18\"/>\n",
       "<text text-anchor=\"middle\" x=\"1090.99\" y=\"-14.3\" font-family=\"Times,serif\" font-size=\"14.00\">leaf=23822.8574</text>\n",
       "</g>\n",
       "<!-- 5&#45;&gt;12 -->\n",
       "<g id=\"edge12\" class=\"edge\">\n",
       "<title>5&#45;&gt;12</title>\n",
       "<path fill=\"none\" stroke=\"#ff0000\" d=\"M991.92,-87.89C1002.29,-82.21 1013.8,-75.59 1023.99,-69 1036.84,-60.69 1050.47,-50.75 1062.05,-41.92\"/>\n",
       "<polygon fill=\"#ff0000\" stroke=\"#ff0000\" points=\"1064.3,-44.61 1070.09,-35.74 1060.03,-39.06 1064.3,-44.61\"/>\n",
       "<text text-anchor=\"middle\" x=\"1053.99\" y=\"-57.8\" font-family=\"Times,serif\" font-size=\"14.00\">no</text>\n",
       "</g>\n",
       "<!-- 13 -->\n",
       "<g id=\"node14\" class=\"node\">\n",
       "<title>13</title>\n",
       "<ellipse fill=\"none\" stroke=\"black\" cx=\"1284.99\" cy=\"-18\" rx=\"85.29\" ry=\"18\"/>\n",
       "<text text-anchor=\"middle\" x=\"1284.99\" y=\"-14.3\" font-family=\"Times,serif\" font-size=\"14.00\">leaf=26122.209</text>\n",
       "</g>\n",
       "<!-- 6&#45;&gt;13 -->\n",
       "<g id=\"edge13\" class=\"edge\">\n",
       "<title>6&#45;&gt;13</title>\n",
       "<path fill=\"none\" stroke=\"#0000ff\" d=\"M1284.99,-86.8C1284.99,-75.16 1284.99,-59.55 1284.99,-46.24\"/>\n",
       "<polygon fill=\"#0000ff\" stroke=\"#0000ff\" points=\"1288.49,-46.18 1284.99,-36.18 1281.49,-46.18 1288.49,-46.18\"/>\n",
       "<text text-anchor=\"middle\" x=\"1329.49\" y=\"-57.8\" font-family=\"Times,serif\" font-size=\"14.00\">yes, missing</text>\n",
       "</g>\n",
       "<!-- 14 -->\n",
       "<g id=\"node15\" class=\"node\">\n",
       "<title>14</title>\n",
       "<ellipse fill=\"none\" stroke=\"black\" cx=\"1478.99\" cy=\"-18\" rx=\"90.98\" ry=\"18\"/>\n",
       "<text text-anchor=\"middle\" x=\"1478.99\" y=\"-14.3\" font-family=\"Times,serif\" font-size=\"14.00\">leaf=33569.2852</text>\n",
       "</g>\n",
       "<!-- 6&#45;&gt;14 -->\n",
       "<g id=\"edge14\" class=\"edge\">\n",
       "<title>6&#45;&gt;14</title>\n",
       "<path fill=\"none\" stroke=\"#ff0000\" d=\"M1326.09,-89.54C1342.39,-83.54 1361.22,-76.29 1377.99,-69 1398.56,-60.06 1420.96,-49.1 1439.43,-39.73\"/>\n",
       "<polygon fill=\"#ff0000\" stroke=\"#ff0000\" points=\"1441.11,-42.8 1448.42,-35.13 1437.93,-36.56 1441.11,-42.8\"/>\n",
       "<text text-anchor=\"middle\" x=\"1416.99\" y=\"-57.8\" font-family=\"Times,serif\" font-size=\"14.00\">no</text>\n",
       "</g>\n",
       "</g>\n",
       "</svg>\n"
      ],
      "text/plain": [
       "<graphviz.files.Source at 0x7eff573e3110>"
      ]
     },
     "execution_count": 26,
     "metadata": {},
     "output_type": "execute_result"
    }
   ],
   "source": [
    "import graphviz\n",
    "xgb.to_graphviz(xgbFinal)"
   ]
  },
  {
   "cell_type": "markdown",
   "id": "6164e8ca",
   "metadata": {
    "papermill": {
     "duration": 0.022374,
     "end_time": "2022-10-06T18:04:57.422481",
     "exception": false,
     "start_time": "2022-10-06T18:04:57.400107",
     "status": "completed"
    },
    "tags": []
   },
   "source": [
    "# Feature Importance"
   ]
  },
  {
   "cell_type": "code",
   "execution_count": 27,
   "id": "b60a3956",
   "metadata": {
    "execution": {
     "iopub.execute_input": "2022-10-06T18:04:57.471000Z",
     "iopub.status.busy": "2022-10-06T18:04:57.470137Z",
     "iopub.status.idle": "2022-10-06T18:04:57.770709Z",
     "shell.execute_reply": "2022-10-06T18:04:57.769396Z"
    },
    "papermill": {
     "duration": 0.328028,
     "end_time": "2022-10-06T18:04:57.773523",
     "exception": false,
     "start_time": "2022-10-06T18:04:57.445495",
     "status": "completed"
    },
    "tags": []
   },
   "outputs": [
    {
     "data": {
      "image/png": "[encoded data removed]",
      "text/plain": [
       "<Figure size 432x288 with 1 Axes>"
      ]
     },
     "metadata": {
      "needs_background": "light"
     },
     "output_type": "display_data"
    },
    {
     "data": {
      "text/plain": [
       "<Figure size 1440x1440 with 0 Axes>"
      ]
     },
     "metadata": {},
     "output_type": "display_data"
    }
   ],
   "source": [
    "xgb.plot_importance(xgbFinal, max_num_features=12, title='xgBoost Top Features Importance')\n",
    "plt.figure(figsize = (20, 20))\n",
    "plt.show()"
   ]
  },
  {
   "cell_type": "code",
   "execution_count": 28,
   "id": "147507f7",
   "metadata": {
    "execution": {
     "iopub.execute_input": "2022-10-06T18:04:57.824395Z",
     "iopub.status.busy": "2022-10-06T18:04:57.823822Z",
     "iopub.status.idle": "2022-10-06T18:04:57.836312Z",
     "shell.execute_reply": "2022-10-06T18:04:57.834320Z"
    },
    "papermill": {
     "duration": 0.042888,
     "end_time": "2022-10-06T18:04:57.840222",
     "exception": false,
     "start_time": "2022-10-06T18:04:57.797334",
     "status": "completed"
    },
    "tags": []
   },
   "outputs": [
    {
     "name": "stdout",
     "output_type": "stream",
     "text": [
      "Feature Importance:\n",
      "0.0022678669   Id\n",
      "0.00495404   MSSubClass\n",
      "0.0029078836   LotFrontage\n",
      "0.011870043   LotArea\n",
      "0.43289933   OverallQual\n",
      "0.008385545   OverallCond\n",
      "0.014697639   YearBuilt\n",
      "0.032321975   YearRemodAdd\n",
      "0.026547961   BsmtFinSF1\n",
      "0.0112233125   BsmtUnfSF\n",
      "0.023791566   CentralAir\n",
      "0.009758032   GrLivArea\n",
      "0.059000146   KitchenAbvGr\n",
      "0.0018565046   TotRmsAbvGrd\n",
      "0.03232996   Fireplaces\n",
      "0.052444283   GarageCars\n",
      "0.01012388   GarageArea\n",
      "0.0049490076   WoodDeckSF\n",
      "0.007814627   OpenPorchSF\n",
      "0.1945813   totalSQ\n",
      "0.055275105   bathrooms\n"
     ]
    }
   ],
   "source": [
    "importance=xgbFinal.feature_importances_\n",
    "name=xgbFinal.feature_names_in_\n",
    "print(\"Feature Importance:\")\n",
    "for num in range(len(name)):\n",
    "    print(importance[num], \" \", name[num])"
   ]
  },
  {
   "cell_type": "code",
   "execution_count": 29,
   "id": "94e0d1a9",
   "metadata": {
    "execution": {
     "iopub.execute_input": "2022-10-06T18:04:57.891300Z",
     "iopub.status.busy": "2022-10-06T18:04:57.890844Z",
     "iopub.status.idle": "2022-10-06T18:05:00.435279Z",
     "shell.execute_reply": "2022-10-06T18:05:00.434103Z"
    },
    "papermill": {
     "duration": 2.573525,
     "end_time": "2022-10-06T18:05:00.438107",
     "exception": false,
     "start_time": "2022-10-06T18:04:57.864582",
     "status": "completed"
    },
    "tags": []
   },
   "outputs": [
    {
     "name": "stderr",
     "output_type": "stream",
     "text": [
      "/opt/conda/lib/python3.7/site-packages/xgboost/sklearn.py:797: UserWarning: `eval_metric` in `fit` method is deprecated for better compatibility with scikit-learn, use `eval_metric` in constructor or`set_params` instead.\n",
      "  UserWarning,\n",
      "/opt/conda/lib/python3.7/site-packages/xgboost/sklearn.py:797: UserWarning: `early_stopping_rounds` in `fit` method is deprecated for better compatibility with scikit-learn, use `early_stopping_rounds` in constructor or`set_params` instead.\n",
      "  UserWarning,\n"
     ]
    },
    {
     "name": "stdout",
     "output_type": "stream",
     "text": [
      "r2  0.8971 0.9 || cross validate:  -0.0029000000000000137\n"
     ]
    }
   ],
   "source": [
    "xgbFinal = xgb.XGBRegressor(\n",
    "        n_estimators=100,\n",
    "        max_depth=3,\n",
    "        reg_lambda=5,\n",
    "        reg_alpha=0,\n",
    "        min_child_weight=10,\n",
    "        learning_rate=.1,\n",
    "        colsample_bytree=.90,\n",
    "    )\n",
    "xgbFinal.fit(X_train, y_train)\n",
    "y_pred = xgbFinal.predict(X_test)\n",
    "\n",
    "xgMSE=mean_absolute_error(y_test, y_pred)\n",
    "xgR2 = r2_score(y_test, y_pred).round(4)\n",
    "listMSE.append(xgMSE)\n",
    "listR2.append(xgR2)\n",
    "\n",
    "#xgbFinal.fit(X_train, y_train)\n",
    "xgbFinal.fit(X_train, y_train, early_stopping_rounds=5, eval_metric=\"rmse\", eval_set=[(X_test, y_test)], verbose=False)\n",
    "y_pred = xgbFinal.predict(X_test)\n",
    "\n",
    "xgMSE=mean_absolute_error(y_test, y_pred)\n",
    "xgR2 = r2_score(y_test, y_pred).round(4)\n",
    "listMSE.append(xgMSE)\n",
    "listR2.append(xgR2)\n",
    "\n",
    "xgScore = xgbFinal.score(X_test, y_test).round(4)  \n",
    "xgCV = cross_validate(xgbFinal, X, y, cv = 5, scoring='r2')\n",
    "xgCV=xgCV['test_score'].mean().round(4)\n",
    "print(\"r2 \", xgScore, xgCV, \"|| cross validate: \", xgScore-xgCV)"
   ]
  },
  {
   "cell_type": "code",
   "execution_count": 30,
   "id": "99894784",
   "metadata": {
    "execution": {
     "iopub.execute_input": "2022-10-06T18:05:00.489404Z",
     "iopub.status.busy": "2022-10-06T18:05:00.488950Z",
     "iopub.status.idle": "2022-10-06T18:05:00.500001Z",
     "shell.execute_reply": "2022-10-06T18:05:00.498806Z"
    },
    "papermill": {
     "duration": 0.03959,
     "end_time": "2022-10-06T18:05:00.502564",
     "exception": false,
     "start_time": "2022-10-06T18:05:00.462974",
     "status": "completed"
    },
    "tags": []
   },
   "outputs": [],
   "source": [
    "def randSearch():\n",
    "    clf_xgb = xgb.XGBRegressor()\n",
    "    param_dist = {'n_estimators': stats.randint(50, 130),\n",
    "                  'learning_rate': stats.uniform(0.01, 0.07),\n",
    "                  'subsample': stats.uniform(0.3, 0.7),\n",
    "                  'max_depth': [3, 4, 5, 6],\n",
    "                  'colsample_bytree': stats.uniform(0.5, 0.45),\n",
    "                  'min_child_weight': [1, 10]\n",
    "                 }\n",
    "    clf = RandomizedSearchCV(\n",
    "        clf_xgb, param_distributions = param_dist, n_iter = 10, \n",
    "     scoring = 'r2', error_score = 0, verbose = 3, n_jobs = -1)\n",
    "\n",
    "    numFolds = 5\n",
    "    folds = KFold(n_splits = numFolds, shuffle = True)\n",
    "\n",
    "    estimators = []\n",
    "    results = np.zeros(len(X))\n",
    "    score = 0.0\n",
    "    for train_index, test_index in folds.split(X):\n",
    "        X_train, X_test = X.iloc[train_index,:], X.iloc[test_index,:]\n",
    "        y_train, y_test = y.iloc[train_index].values.ravel(), y.iloc[test_index].values.ravel()\n",
    "        clf.fit(X_train, y_train)\n",
    "\n",
    "        estimators.append(clf.best_estimator_)\n",
    "        results[test_index] = clf.predict(X_test)\n",
    "        score += r2_score(y_test, results[test_index])\n",
    "    score /= numFolds"
   ]
  },
  {
   "cell_type": "markdown",
   "id": "9fd538a4",
   "metadata": {
    "execution": {
     "iopub.execute_input": "2022-09-19T21:09:40.310967Z",
     "iopub.status.busy": "2022-09-19T21:09:40.310240Z",
     "iopub.status.idle": "2022-09-19T21:09:40.328174Z",
     "shell.execute_reply": "2022-09-19T21:09:40.326914Z",
     "shell.execute_reply.started": "2022-09-19T21:09:40.310928Z"
    },
    "papermill": {
     "duration": 0.024524,
     "end_time": "2022-10-06T18:05:00.551463",
     "exception": false,
     "start_time": "2022-10-06T18:05:00.526939",
     "status": "completed"
    },
    "tags": []
   },
   "source": [
    "# Test Dataset\n",
    "Make final predictions on unknown house price value using features from Train data"
   ]
  },
  {
   "cell_type": "code",
   "execution_count": 31,
   "id": "dec5b619",
   "metadata": {
    "execution": {
     "iopub.execute_input": "2022-10-06T18:05:00.602234Z",
     "iopub.status.busy": "2022-10-06T18:05:00.601625Z",
     "iopub.status.idle": "2022-10-06T18:05:00.721151Z",
     "shell.execute_reply": "2022-10-06T18:05:00.719608Z"
    },
    "papermill": {
     "duration": 0.148185,
     "end_time": "2022-10-06T18:05:00.723635",
     "exception": false,
     "start_time": "2022-10-06T18:05:00.575450",
     "status": "completed"
    },
    "tags": []
   },
   "outputs": [
    {
     "name": "stdout",
     "output_type": "stream",
     "text": [
      "(1459, 80)\n"
     ]
    },
    {
     "name": "stderr",
     "output_type": "stream",
     "text": [
      "/opt/conda/lib/python3.7/site-packages/ipykernel_launcher.py:7: FutureWarning: Dropping of nuisance columns in DataFrame reductions (with 'numeric_only=None') is deprecated; in a future version this will raise TypeError.  Select only valid columns before calling the reduction.\n",
      "  import sys\n"
     ]
    },
    {
     "data": {
      "text/html": [
       "<div>\n",
       "<style scoped>\n",
       "    .dataframe tbody tr th:only-of-type {\n",
       "        vertical-align: middle;\n",
       "    }\n",
       "\n",
       "    .dataframe tbody tr th {\n",
       "        vertical-align: top;\n",
       "    }\n",
       "\n",
       "    .dataframe thead th {\n",
       "        text-align: right;\n",
       "    }\n",
       "</style>\n",
       "<table border=\"1\" class=\"dataframe\">\n",
       "  <thead>\n",
       "    <tr style=\"text-align: right;\">\n",
       "      <th></th>\n",
       "      <th>Id</th>\n",
       "      <th>MSSubClass</th>\n",
       "      <th>LotFrontage</th>\n",
       "      <th>LotArea</th>\n",
       "      <th>OverallQual</th>\n",
       "      <th>OverallCond</th>\n",
       "      <th>YearBuilt</th>\n",
       "      <th>YearRemodAdd</th>\n",
       "      <th>MasVnrArea</th>\n",
       "      <th>BsmtFinSF1</th>\n",
       "      <th>...</th>\n",
       "      <th>OpenPorchSF</th>\n",
       "      <th>EnclosedPorch</th>\n",
       "      <th>3SsnPorch</th>\n",
       "      <th>ScreenPorch</th>\n",
       "      <th>PoolArea</th>\n",
       "      <th>MiscVal</th>\n",
       "      <th>MoSold</th>\n",
       "      <th>YrSold</th>\n",
       "      <th>totalSQ</th>\n",
       "      <th>bathrooms</th>\n",
       "    </tr>\n",
       "  </thead>\n",
       "  <tbody>\n",
       "    <tr>\n",
       "      <th>0</th>\n",
       "      <td>1461</td>\n",
       "      <td>20</td>\n",
       "      <td>80.0</td>\n",
       "      <td>11622</td>\n",
       "      <td>5</td>\n",
       "      <td>6</td>\n",
       "      <td>1961</td>\n",
       "      <td>1961</td>\n",
       "      <td>0.0</td>\n",
       "      <td>468.0</td>\n",
       "      <td>...</td>\n",
       "      <td>0</td>\n",
       "      <td>0</td>\n",
       "      <td>0</td>\n",
       "      <td>120</td>\n",
       "      <td>0</td>\n",
       "      <td>0</td>\n",
       "      <td>6</td>\n",
       "      <td>2010</td>\n",
       "      <td>1778.0</td>\n",
       "      <td>1.5</td>\n",
       "    </tr>\n",
       "    <tr>\n",
       "      <th>1</th>\n",
       "      <td>1462</td>\n",
       "      <td>20</td>\n",
       "      <td>81.0</td>\n",
       "      <td>14267</td>\n",
       "      <td>6</td>\n",
       "      <td>6</td>\n",
       "      <td>1958</td>\n",
       "      <td>1958</td>\n",
       "      <td>108.0</td>\n",
       "      <td>923.0</td>\n",
       "      <td>...</td>\n",
       "      <td>36</td>\n",
       "      <td>0</td>\n",
       "      <td>0</td>\n",
       "      <td>0</td>\n",
       "      <td>0</td>\n",
       "      <td>12500</td>\n",
       "      <td>6</td>\n",
       "      <td>2010</td>\n",
       "      <td>2658.0</td>\n",
       "      <td>2.0</td>\n",
       "    </tr>\n",
       "    <tr>\n",
       "      <th>2</th>\n",
       "      <td>1463</td>\n",
       "      <td>60</td>\n",
       "      <td>74.0</td>\n",
       "      <td>13830</td>\n",
       "      <td>5</td>\n",
       "      <td>5</td>\n",
       "      <td>1997</td>\n",
       "      <td>1998</td>\n",
       "      <td>0.0</td>\n",
       "      <td>791.0</td>\n",
       "      <td>...</td>\n",
       "      <td>34</td>\n",
       "      <td>0</td>\n",
       "      <td>0</td>\n",
       "      <td>0</td>\n",
       "      <td>0</td>\n",
       "      <td>0</td>\n",
       "      <td>3</td>\n",
       "      <td>2010</td>\n",
       "      <td>2557.0</td>\n",
       "      <td>3.5</td>\n",
       "    </tr>\n",
       "    <tr>\n",
       "      <th>3</th>\n",
       "      <td>1464</td>\n",
       "      <td>60</td>\n",
       "      <td>78.0</td>\n",
       "      <td>9978</td>\n",
       "      <td>6</td>\n",
       "      <td>6</td>\n",
       "      <td>1998</td>\n",
       "      <td>1998</td>\n",
       "      <td>20.0</td>\n",
       "      <td>602.0</td>\n",
       "      <td>...</td>\n",
       "      <td>36</td>\n",
       "      <td>0</td>\n",
       "      <td>0</td>\n",
       "      <td>0</td>\n",
       "      <td>0</td>\n",
       "      <td>0</td>\n",
       "      <td>6</td>\n",
       "      <td>2010</td>\n",
       "      <td>2530.0</td>\n",
       "      <td>3.5</td>\n",
       "    </tr>\n",
       "    <tr>\n",
       "      <th>4</th>\n",
       "      <td>1465</td>\n",
       "      <td>120</td>\n",
       "      <td>43.0</td>\n",
       "      <td>5005</td>\n",
       "      <td>8</td>\n",
       "      <td>5</td>\n",
       "      <td>1992</td>\n",
       "      <td>1992</td>\n",
       "      <td>0.0</td>\n",
       "      <td>263.0</td>\n",
       "      <td>...</td>\n",
       "      <td>82</td>\n",
       "      <td>0</td>\n",
       "      <td>0</td>\n",
       "      <td>144</td>\n",
       "      <td>0</td>\n",
       "      <td>0</td>\n",
       "      <td>1</td>\n",
       "      <td>2010</td>\n",
       "      <td>2560.0</td>\n",
       "      <td>3.0</td>\n",
       "    </tr>\n",
       "  </tbody>\n",
       "</table>\n",
       "<p>5 rows × 40 columns</p>\n",
       "</div>"
      ],
      "text/plain": [
       "     Id  MSSubClass  LotFrontage  LotArea  OverallQual  OverallCond  \\\n",
       "0  1461          20         80.0    11622            5            6   \n",
       "1  1462          20         81.0    14267            6            6   \n",
       "2  1463          60         74.0    13830            5            5   \n",
       "3  1464          60         78.0     9978            6            6   \n",
       "4  1465         120         43.0     5005            8            5   \n",
       "\n",
       "   YearBuilt  YearRemodAdd  MasVnrArea  BsmtFinSF1  ...  OpenPorchSF  \\\n",
       "0       1961          1961         0.0       468.0  ...            0   \n",
       "1       1958          1958       108.0       923.0  ...           36   \n",
       "2       1997          1998         0.0       791.0  ...           34   \n",
       "3       1998          1998        20.0       602.0  ...           36   \n",
       "4       1992          1992         0.0       263.0  ...           82   \n",
       "\n",
       "   EnclosedPorch  3SsnPorch  ScreenPorch  PoolArea  MiscVal  MoSold  YrSold  \\\n",
       "0              0          0          120         0        0       6    2010   \n",
       "1              0          0            0         0    12500       6    2010   \n",
       "2              0          0            0         0        0       3    2010   \n",
       "3              0          0            0         0        0       6    2010   \n",
       "4              0          0          144         0        0       1    2010   \n",
       "\n",
       "   totalSQ  bathrooms  \n",
       "0   1778.0        1.5  \n",
       "1   2658.0        2.0  \n",
       "2   2557.0        3.5  \n",
       "3   2530.0        3.5  \n",
       "4   2560.0        3.0  \n",
       "\n",
       "[5 rows x 40 columns]"
      ]
     },
     "execution_count": 31,
     "metadata": {},
     "output_type": "execute_result"
    }
   ],
   "source": [
    "test='/kaggle/input/house-prices-advanced-regression-techniques/test.csv'\n",
    "testDF=pd.read_csv(test)\n",
    "print(testDF.shape)\n",
    "\n",
    "#Missing Values\n",
    "testDF=testDF.drop_duplicates()\n",
    "testDF=testDF.fillna(testDF.mean())\n",
    "\n",
    "# Feature Engineer\n",
    "testDF['totalSQ']=testDF['1stFlrSF']+testDF['2ndFlrSF']+testDF['TotalBsmtSF']\n",
    "testDF['bathrooms']=(testDF['FullBath']*2+testDF['BsmtFullBath']*2+testDF['FullBath']+testDF['HalfBath']+testDF['BsmtHalfBath'])/2\n",
    "testDF['CentralAir'] = testDF['CentralAir'].replace({'Y':0, 'N':1})\n",
    "\n",
    "#testDF['SaleCondition']=testDF['SaleCondition'].apply(lambda x:1 if x == 'Normal' else 0)\n",
    "#testDF['Street']=testDF['Street'].fillna(0).apply(lambda x:0 if x =='Grvl' else 1)\n",
    "\n",
    "testDF = testDF.select_dtypes(include=['int16', 'int32', 'int64', 'float16', 'float32', 'float64'])\n",
    "testDF.head()"
   ]
  },
  {
   "cell_type": "code",
   "execution_count": 32,
   "id": "31ada128",
   "metadata": {
    "execution": {
     "iopub.execute_input": "2022-10-06T18:05:00.776551Z",
     "iopub.status.busy": "2022-10-06T18:05:00.775612Z",
     "iopub.status.idle": "2022-10-06T18:05:00.782742Z",
     "shell.execute_reply": "2022-10-06T18:05:00.781560Z"
    },
    "papermill": {
     "duration": 0.03627,
     "end_time": "2022-10-06T18:05:00.785374",
     "exception": false,
     "start_time": "2022-10-06T18:05:00.749104",
     "status": "completed"
    },
    "tags": []
   },
   "outputs": [],
   "source": [
    "testIDs=testDF['Id']\n",
    "cols=X_test.columns\n",
    "testDF=testDF[cols]"
   ]
  },
  {
   "cell_type": "code",
   "execution_count": 33,
   "id": "72909a5b",
   "metadata": {
    "execution": {
     "iopub.execute_input": "2022-10-06T18:05:00.836239Z",
     "iopub.status.busy": "2022-10-06T18:05:00.835795Z",
     "iopub.status.idle": "2022-10-06T18:05:00.848895Z",
     "shell.execute_reply": "2022-10-06T18:05:00.847894Z"
    },
    "papermill": {
     "duration": 0.042287,
     "end_time": "2022-10-06T18:05:00.852030",
     "exception": false,
     "start_time": "2022-10-06T18:05:00.809743",
     "status": "completed"
    },
    "tags": []
   },
   "outputs": [],
   "source": [
    "#Final Prediction\n",
    "finalPred=xgbFinal.predict(testDF).round(2)\n",
    "tupDF=list(zip(testIDs,finalPred))"
   ]
  },
  {
   "cell_type": "code",
   "execution_count": 34,
   "id": "c5cc58ed",
   "metadata": {
    "execution": {
     "iopub.execute_input": "2022-10-06T18:05:00.904196Z",
     "iopub.status.busy": "2022-10-06T18:05:00.903755Z",
     "iopub.status.idle": "2022-10-06T18:05:00.917491Z",
     "shell.execute_reply": "2022-10-06T18:05:00.916139Z"
    },
    "papermill": {
     "duration": 0.041815,
     "end_time": "2022-10-06T18:05:00.919901",
     "exception": false,
     "start_time": "2022-10-06T18:05:00.878086",
     "status": "completed"
    },
    "tags": []
   },
   "outputs": [
    {
     "data": {
      "text/html": [
       "<div>\n",
       "<style scoped>\n",
       "    .dataframe tbody tr th:only-of-type {\n",
       "        vertical-align: middle;\n",
       "    }\n",
       "\n",
       "    .dataframe tbody tr th {\n",
       "        vertical-align: top;\n",
       "    }\n",
       "\n",
       "    .dataframe thead th {\n",
       "        text-align: right;\n",
       "    }\n",
       "</style>\n",
       "<table border=\"1\" class=\"dataframe\">\n",
       "  <thead>\n",
       "    <tr style=\"text-align: right;\">\n",
       "      <th></th>\n",
       "      <th>Id</th>\n",
       "      <th>SalePrice</th>\n",
       "    </tr>\n",
       "  </thead>\n",
       "  <tbody>\n",
       "    <tr>\n",
       "      <th>0</th>\n",
       "      <td>1461</td>\n",
       "      <td>128086.492188</td>\n",
       "    </tr>\n",
       "    <tr>\n",
       "      <th>1</th>\n",
       "      <td>1462</td>\n",
       "      <td>164106.453125</td>\n",
       "    </tr>\n",
       "    <tr>\n",
       "      <th>2</th>\n",
       "      <td>1463</td>\n",
       "      <td>185499.125000</td>\n",
       "    </tr>\n",
       "    <tr>\n",
       "      <th>3</th>\n",
       "      <td>1464</td>\n",
       "      <td>194717.578125</td>\n",
       "    </tr>\n",
       "    <tr>\n",
       "      <th>4</th>\n",
       "      <td>1465</td>\n",
       "      <td>186691.187500</td>\n",
       "    </tr>\n",
       "  </tbody>\n",
       "</table>\n",
       "</div>"
      ],
      "text/plain": [
       "     Id      SalePrice\n",
       "0  1461  128086.492188\n",
       "1  1462  164106.453125\n",
       "2  1463  185499.125000\n",
       "3  1464  194717.578125\n",
       "4  1465  186691.187500"
      ]
     },
     "execution_count": 34,
     "metadata": {},
     "output_type": "execute_result"
    }
   ],
   "source": [
    "output=pd.DataFrame(tupDF, columns=['Id','SalePrice']).sort_values(by='Id').reset_index(drop=True)\n",
    "output.head()"
   ]
  },
  {
   "cell_type": "markdown",
   "id": "a99db1af",
   "metadata": {
    "papermill": {
     "duration": 0.024353,
     "end_time": "2022-10-06T18:05:00.969359",
     "exception": false,
     "start_time": "2022-10-06T18:05:00.945006",
     "status": "completed"
    },
    "tags": []
   },
   "source": [
    "#### Final Prediction"
   ]
  },
  {
   "cell_type": "code",
   "execution_count": 35,
   "id": "861b09c8",
   "metadata": {
    "execution": {
     "iopub.execute_input": "2022-10-06T18:05:01.021298Z",
     "iopub.status.busy": "2022-10-06T18:05:01.020302Z",
     "iopub.status.idle": "2022-10-06T18:05:01.032734Z",
     "shell.execute_reply": "2022-10-06T18:05:01.031332Z"
    },
    "papermill": {
     "duration": 0.041994,
     "end_time": "2022-10-06T18:05:01.035976",
     "exception": false,
     "start_time": "2022-10-06T18:05:00.993982",
     "status": "completed"
    },
    "tags": []
   },
   "outputs": [
    {
     "name": "stdout",
     "output_type": "stream",
     "text": [
      "(1459, 2)\n",
      "Output Created\n"
     ]
    }
   ],
   "source": [
    "print(output.shape)\n",
    "output.to_csv('submission.csv', index=False)\n",
    "print(\"Output Created\")"
   ]
  }
 ],
 "metadata": {
  "kernelspec": {
   "display_name": "Python 3",
   "language": "python",
   "name": "python3"
  },
  "language_info": {
   "codemirror_mode": {
    "name": "ipython",
    "version": 3
   },
   "file_extension": ".py",
   "mimetype": "text/x-python",
   "name": "python",
   "nbconvert_exporter": "python",
   "pygments_lexer": "ipython3",
   "version": "3.7.12"
  },
  "papermill": {
   "default_parameters": {},
   "duration": 393.23796,
   "end_time": "2022-10-06T18:05:02.084874",
   "environment_variables": {},
   "exception": null,
   "input_path": "__notebook__.ipynb",
   "output_path": "__notebook__.ipynb",
   "parameters": {},
   "start_time": "2022-10-06T17:58:28.846914",
   "version": "2.3.4"
  }
 },
 "nbformat": 4,
 "nbformat_minor": 5
}
