{
 "cells": [
  {
   "cell_type": "markdown",
   "id": "f5dcdb4f",
   "metadata": {
    "papermill": {
     "duration": 0.033122,
     "end_time": "2022-05-30T03:47:56.409904",
     "exception": false,
     "start_time": "2022-05-30T03:47:56.376782",
     "status": "completed"
    },
    "tags": []
   },
   "source": [
    "# Transportion\n",
    "Predict whether a passenger was transported using personal records.\n",
    "\n",
    "#### Metrics AUC Summary\n",
    "* Logistic Reg 0.851\n",
    "* Decision Tree 0.8257\n",
    "* Linear Reg 0.8\n",
    "* Gradient Boost 0.7922\n",
    "* Forest 0.7955"
   ]
  },
  {
   "cell_type": "code",
   "execution_count": 1,
   "id": "1e51fbcf",
   "metadata": {
    "execution": {
     "iopub.execute_input": "2022-05-30T03:47:56.474941Z",
     "iopub.status.busy": "2022-05-30T03:47:56.474480Z",
     "iopub.status.idle": "2022-05-30T03:47:58.236357Z",
     "shell.execute_reply": "2022-05-30T03:47:58.235498Z"
    },
    "papermill": {
     "duration": 1.797086,
     "end_time": "2022-05-30T03:47:58.238833",
     "exception": false,
     "start_time": "2022-05-30T03:47:56.441747",
     "status": "completed"
    },
    "tags": []
   },
   "outputs": [
    {
     "data": {
      "text/html": [
       "<div>\n",
       "<style scoped>\n",
       "    .dataframe tbody tr th:only-of-type {\n",
       "        vertical-align: middle;\n",
       "    }\n",
       "\n",
       "    .dataframe tbody tr th {\n",
       "        vertical-align: top;\n",
       "    }\n",
       "\n",
       "    .dataframe thead th {\n",
       "        text-align: right;\n",
       "    }\n",
       "</style>\n",
       "<table border=\"1\" class=\"dataframe\">\n",
       "  <thead>\n",
       "    <tr style=\"text-align: right;\">\n",
       "      <th></th>\n",
       "      <th>PassengerId</th>\n",
       "      <th>HomePlanet</th>\n",
       "      <th>CryoSleep</th>\n",
       "      <th>Cabin</th>\n",
       "      <th>Destination</th>\n",
       "      <th>Age</th>\n",
       "      <th>VIP</th>\n",
       "      <th>RoomService</th>\n",
       "      <th>FoodCourt</th>\n",
       "      <th>ShoppingMall</th>\n",
       "      <th>Spa</th>\n",
       "      <th>VRDeck</th>\n",
       "      <th>Name</th>\n",
       "      <th>Transported</th>\n",
       "    </tr>\n",
       "  </thead>\n",
       "  <tbody>\n",
       "    <tr>\n",
       "      <th>0</th>\n",
       "      <td>0001_01</td>\n",
       "      <td>Europa</td>\n",
       "      <td>False</td>\n",
       "      <td>B/0/P</td>\n",
       "      <td>TRAPPIST-1e</td>\n",
       "      <td>39.0</td>\n",
       "      <td>False</td>\n",
       "      <td>0.0</td>\n",
       "      <td>0.0</td>\n",
       "      <td>0.0</td>\n",
       "      <td>0.0</td>\n",
       "      <td>0.0</td>\n",
       "      <td>Maham Ofracculy</td>\n",
       "      <td>False</td>\n",
       "    </tr>\n",
       "    <tr>\n",
       "      <th>1</th>\n",
       "      <td>0002_01</td>\n",
       "      <td>Earth</td>\n",
       "      <td>False</td>\n",
       "      <td>F/0/S</td>\n",
       "      <td>TRAPPIST-1e</td>\n",
       "      <td>24.0</td>\n",
       "      <td>False</td>\n",
       "      <td>109.0</td>\n",
       "      <td>9.0</td>\n",
       "      <td>25.0</td>\n",
       "      <td>549.0</td>\n",
       "      <td>44.0</td>\n",
       "      <td>Juanna Vines</td>\n",
       "      <td>True</td>\n",
       "    </tr>\n",
       "    <tr>\n",
       "      <th>2</th>\n",
       "      <td>0003_01</td>\n",
       "      <td>Europa</td>\n",
       "      <td>False</td>\n",
       "      <td>A/0/S</td>\n",
       "      <td>TRAPPIST-1e</td>\n",
       "      <td>58.0</td>\n",
       "      <td>True</td>\n",
       "      <td>43.0</td>\n",
       "      <td>3576.0</td>\n",
       "      <td>0.0</td>\n",
       "      <td>6715.0</td>\n",
       "      <td>49.0</td>\n",
       "      <td>Altark Susent</td>\n",
       "      <td>False</td>\n",
       "    </tr>\n",
       "    <tr>\n",
       "      <th>3</th>\n",
       "      <td>0003_02</td>\n",
       "      <td>Europa</td>\n",
       "      <td>False</td>\n",
       "      <td>A/0/S</td>\n",
       "      <td>TRAPPIST-1e</td>\n",
       "      <td>33.0</td>\n",
       "      <td>False</td>\n",
       "      <td>0.0</td>\n",
       "      <td>1283.0</td>\n",
       "      <td>371.0</td>\n",
       "      <td>3329.0</td>\n",
       "      <td>193.0</td>\n",
       "      <td>Solam Susent</td>\n",
       "      <td>False</td>\n",
       "    </tr>\n",
       "    <tr>\n",
       "      <th>4</th>\n",
       "      <td>0004_01</td>\n",
       "      <td>Earth</td>\n",
       "      <td>False</td>\n",
       "      <td>F/1/S</td>\n",
       "      <td>TRAPPIST-1e</td>\n",
       "      <td>16.0</td>\n",
       "      <td>False</td>\n",
       "      <td>303.0</td>\n",
       "      <td>70.0</td>\n",
       "      <td>151.0</td>\n",
       "      <td>565.0</td>\n",
       "      <td>2.0</td>\n",
       "      <td>Willy Santantines</td>\n",
       "      <td>True</td>\n",
       "    </tr>\n",
       "  </tbody>\n",
       "</table>\n",
       "</div>"
      ],
      "text/plain": [
       "  PassengerId HomePlanet CryoSleep  Cabin  Destination   Age    VIP  \\\n",
       "0     0001_01     Europa     False  B/0/P  TRAPPIST-1e  39.0  False   \n",
       "1     0002_01      Earth     False  F/0/S  TRAPPIST-1e  24.0  False   \n",
       "2     0003_01     Europa     False  A/0/S  TRAPPIST-1e  58.0   True   \n",
       "3     0003_02     Europa     False  A/0/S  TRAPPIST-1e  33.0  False   \n",
       "4     0004_01      Earth     False  F/1/S  TRAPPIST-1e  16.0  False   \n",
       "\n",
       "   RoomService  FoodCourt  ShoppingMall     Spa  VRDeck               Name  \\\n",
       "0          0.0        0.0           0.0     0.0     0.0    Maham Ofracculy   \n",
       "1        109.0        9.0          25.0   549.0    44.0       Juanna Vines   \n",
       "2         43.0     3576.0           0.0  6715.0    49.0      Altark Susent   \n",
       "3          0.0     1283.0         371.0  3329.0   193.0       Solam Susent   \n",
       "4        303.0       70.0         151.0   565.0     2.0  Willy Santantines   \n",
       "\n",
       "   Transported  \n",
       "0        False  \n",
       "1         True  \n",
       "2        False  \n",
       "3        False  \n",
       "4         True  "
      ]
     },
     "execution_count": 1,
     "metadata": {},
     "output_type": "execute_result"
    }
   ],
   "source": [
    "import numpy as np\n",
    "import pandas as pd\n",
    "import seaborn as sns\n",
    "import matplotlib.pyplot as plt\n",
    "from sklearn.model_selection import train_test_split, cross_validate, StratifiedKFold\n",
    "from statistics import mean\n",
    "from sklearn.metrics import mean_absolute_error, mean_squared_error, r2_score\n",
    "from sklearn.datasets import make_classification\n",
    "from sklearn import ensemble\n",
    "import sklearn.metrics as metrics\n",
    "import time\n",
    "\n",
    "train=r'/kaggle/input/spaceship-titanic/train.csv'\n",
    "test=r'/kaggle/input/spaceship-titanic/test.csv'\n",
    "\n",
    "df=pd.read_csv(train)\n",
    "df.head()"
   ]
  },
  {
   "cell_type": "markdown",
   "id": "46b2225b",
   "metadata": {
    "papermill": {
     "duration": 0.032239,
     "end_time": "2022-05-30T03:47:58.304166",
     "exception": false,
     "start_time": "2022-05-30T03:47:58.271927",
     "status": "completed"
    },
    "tags": []
   },
   "source": [
    "# Target Variable\n",
    "Transported is in independent variable being analyzed with 4378 survived and 4315 did not survive. "
   ]
  },
  {
   "cell_type": "code",
   "execution_count": 2,
   "id": "cfd02eec",
   "metadata": {
    "execution": {
     "iopub.execute_input": "2022-05-30T03:47:58.372616Z",
     "iopub.status.busy": "2022-05-30T03:47:58.372205Z",
     "iopub.status.idle": "2022-05-30T03:47:58.387775Z",
     "shell.execute_reply": "2022-05-30T03:47:58.387073Z"
    },
    "papermill": {
     "duration": 0.051865,
     "end_time": "2022-05-30T03:47:58.390544",
     "exception": false,
     "start_time": "2022-05-30T03:47:58.338679",
     "status": "completed"
    },
    "tags": []
   },
   "outputs": [],
   "source": [
    "df['Transported']=df['Transported'].astype('str').replace({'False':0, 'True':1})"
   ]
  },
  {
   "cell_type": "code",
   "execution_count": 3,
   "id": "1acd3772",
   "metadata": {
    "execution": {
     "iopub.execute_input": "2022-05-30T03:47:58.463142Z",
     "iopub.status.busy": "2022-05-30T03:47:58.462140Z",
     "iopub.status.idle": "2022-05-30T03:47:58.473765Z",
     "shell.execute_reply": "2022-05-30T03:47:58.473035Z"
    },
    "papermill": {
     "duration": 0.047415,
     "end_time": "2022-05-30T03:47:58.475666",
     "exception": false,
     "start_time": "2022-05-30T03:47:58.428251",
     "status": "completed"
    },
    "tags": []
   },
   "outputs": [
    {
     "data": {
      "text/plain": [
       "1    4378\n",
       "0    4315\n",
       "Name: Transported, dtype: int64"
      ]
     },
     "execution_count": 3,
     "metadata": {},
     "output_type": "execute_result"
    }
   ],
   "source": [
    "df['Transported'].value_counts()"
   ]
  },
  {
   "cell_type": "markdown",
   "id": "fd738e65",
   "metadata": {
    "papermill": {
     "duration": 0.032406,
     "end_time": "2022-05-30T03:47:58.542339",
     "exception": false,
     "start_time": "2022-05-30T03:47:58.509933",
     "status": "completed"
    },
    "tags": []
   },
   "source": [
    "# Find Missing Values"
   ]
  },
  {
   "cell_type": "code",
   "execution_count": 4,
   "id": "abae05fa",
   "metadata": {
    "execution": {
     "iopub.execute_input": "2022-05-30T03:47:58.612819Z",
     "iopub.status.busy": "2022-05-30T03:47:58.612259Z",
     "iopub.status.idle": "2022-05-30T03:47:58.623077Z",
     "shell.execute_reply": "2022-05-30T03:47:58.622420Z"
    },
    "papermill": {
     "duration": 0.046297,
     "end_time": "2022-05-30T03:47:58.625249",
     "exception": false,
     "start_time": "2022-05-30T03:47:58.578952",
     "status": "completed"
    },
    "tags": []
   },
   "outputs": [
    {
     "name": "stdout",
     "output_type": "stream",
     "text": [
      "Missing data by column as a percent:\n",
      "CryoSleep       0.024963\n",
      "ShoppingMall    0.023927\n",
      "VIP             0.023352\n",
      "HomePlanet      0.023122\n",
      "dtype: float64\n"
     ]
    }
   ],
   "source": [
    "#search for columns with missing values:\n",
    "def findNA():\n",
    "    print(\"Missing data by column as a percent:\")\n",
    "    findNA=df.isnull().sum().sort_values(ascending=False)/len(df)\n",
    "    print(findNA.head(4))\n",
    "findNA() "
   ]
  },
  {
   "cell_type": "markdown",
   "id": "ccc0d4b7",
   "metadata": {
    "papermill": {
     "duration": 0.03356,
     "end_time": "2022-05-30T03:47:58.692454",
     "exception": false,
     "start_time": "2022-05-30T03:47:58.658894",
     "status": "completed"
    },
    "tags": []
   },
   "source": [
    "# Find Categorical Variables"
   ]
  },
  {
   "cell_type": "code",
   "execution_count": 5,
   "id": "37642fa7",
   "metadata": {
    "execution": {
     "iopub.execute_input": "2022-05-30T03:47:58.761315Z",
     "iopub.status.busy": "2022-05-30T03:47:58.760757Z",
     "iopub.status.idle": "2022-05-30T03:47:58.793423Z",
     "shell.execute_reply": "2022-05-30T03:47:58.792837Z"
    },
    "papermill": {
     "duration": 0.070215,
     "end_time": "2022-05-30T03:47:58.795778",
     "exception": false,
     "start_time": "2022-05-30T03:47:58.725563",
     "status": "completed"
    },
    "tags": []
   },
   "outputs": [
    {
     "name": "stdout",
     "output_type": "stream",
     "text": [
      "PassengerId\n",
      "0001_01    1\n",
      "6136_01    1\n",
      "6141_01    1\n",
      "6139_06    1\n",
      "6139_05    1\n",
      "          ..\n",
      "3126_01    1\n",
      "3124_03    1\n",
      "3124_02    1\n",
      "3124_01    1\n",
      "9280_02    1\n",
      "Name: PassengerId, Length: 8693, dtype: int64 \n",
      "\n",
      "HomePlanet\n",
      "Earth     4602\n",
      "Europa    2131\n",
      "Mars      1759\n",
      "Name: HomePlanet, dtype: int64 \n",
      "\n",
      "CryoSleep\n",
      "False    5439\n",
      "True     3037\n",
      "Name: CryoSleep, dtype: int64 \n",
      "\n",
      "Cabin\n",
      "G/734/S     8\n",
      "G/109/P     7\n",
      "B/201/P     7\n",
      "G/1368/P    7\n",
      "G/981/S     7\n",
      "           ..\n",
      "G/556/P     1\n",
      "E/231/S     1\n",
      "G/545/S     1\n",
      "G/543/S     1\n",
      "F/947/P     1\n",
      "Name: Cabin, Length: 6560, dtype: int64 \n",
      "\n",
      "Destination\n",
      "TRAPPIST-1e      5915\n",
      "55 Cancri e      1800\n",
      "PSO J318.5-22     796\n",
      "Name: Destination, dtype: int64 \n",
      "\n",
      "VIP\n",
      "False    8291\n",
      "True      199\n",
      "Name: VIP, dtype: int64 \n",
      "\n",
      "Name\n",
      "Gollux Reedall        2\n",
      "Elaney Webstephrey    2\n",
      "Grake Porki           2\n",
      "Sus Coolez            2\n",
      "Apix Wala             2\n",
      "                     ..\n",
      "Jamela Griffy         1\n",
      "Hardy Griffy          1\n",
      "Salley Mckinn         1\n",
      "Mall Frasp            1\n",
      "Propsh Hontichre      1\n",
      "Name: Name, Length: 8473, dtype: int64 \n",
      "\n"
     ]
    }
   ],
   "source": [
    "cols=df.select_dtypes(include='object').columns\n",
    "for col in cols:\n",
    "    print(col)\n",
    "    print(df[col].value_counts() ,\"\\n\")"
   ]
  },
  {
   "cell_type": "markdown",
   "id": "3520dd45",
   "metadata": {
    "papermill": {
     "duration": 0.03358,
     "end_time": "2022-05-30T03:47:58.866036",
     "exception": false,
     "start_time": "2022-05-30T03:47:58.832456",
     "status": "completed"
    },
    "tags": []
   },
   "source": [
    "# Feature Engineer"
   ]
  },
  {
   "cell_type": "code",
   "execution_count": 6,
   "id": "48469477",
   "metadata": {
    "execution": {
     "iopub.execute_input": "2022-05-30T03:47:58.935602Z",
     "iopub.status.busy": "2022-05-30T03:47:58.935021Z",
     "iopub.status.idle": "2022-05-30T03:47:58.953266Z",
     "shell.execute_reply": "2022-05-30T03:47:58.952598Z"
    },
    "papermill": {
     "duration": 0.055451,
     "end_time": "2022-05-30T03:47:58.955437",
     "exception": false,
     "start_time": "2022-05-30T03:47:58.899986",
     "status": "completed"
    },
    "tags": []
   },
   "outputs": [],
   "source": [
    "df['VIP']=df['VIP'].astype('str').replace({'False':0, 'True':1})\n",
    "df['CryoSleep']=df['CryoSleep'].astype('str').replace({'False':0, 'True':1})\n",
    "df['Adult'] = df['Age'].apply(lambda x: 1 if x > 19 else 0 )"
   ]
  },
  {
   "cell_type": "markdown",
   "id": "36e0596b",
   "metadata": {
    "papermill": {
     "duration": 0.032848,
     "end_time": "2022-05-30T03:47:59.023342",
     "exception": false,
     "start_time": "2022-05-30T03:47:58.990494",
     "status": "completed"
    },
    "tags": []
   },
   "source": [
    "#### OrdinalEncoder"
   ]
  },
  {
   "cell_type": "code",
   "execution_count": 7,
   "id": "5280ca62",
   "metadata": {
    "execution": {
     "iopub.execute_input": "2022-05-30T03:47:59.092395Z",
     "iopub.status.busy": "2022-05-30T03:47:59.091891Z",
     "iopub.status.idle": "2022-05-30T03:47:59.127272Z",
     "shell.execute_reply": "2022-05-30T03:47:59.126364Z"
    },
    "papermill": {
     "duration": 0.071826,
     "end_time": "2022-05-30T03:47:59.129369",
     "exception": false,
     "start_time": "2022-05-30T03:47:59.057543",
     "status": "completed"
    },
    "tags": []
   },
   "outputs": [
    {
     "data": {
      "text/html": [
       "<div>\n",
       "<style scoped>\n",
       "    .dataframe tbody tr th:only-of-type {\n",
       "        vertical-align: middle;\n",
       "    }\n",
       "\n",
       "    .dataframe tbody tr th {\n",
       "        vertical-align: top;\n",
       "    }\n",
       "\n",
       "    .dataframe thead th {\n",
       "        text-align: right;\n",
       "    }\n",
       "</style>\n",
       "<table border=\"1\" class=\"dataframe\">\n",
       "  <thead>\n",
       "    <tr style=\"text-align: right;\">\n",
       "      <th></th>\n",
       "      <th>PassengerId</th>\n",
       "      <th>HomePlanet</th>\n",
       "      <th>CryoSleep</th>\n",
       "      <th>Cabin</th>\n",
       "      <th>Destination</th>\n",
       "      <th>Age</th>\n",
       "      <th>VIP</th>\n",
       "      <th>RoomService</th>\n",
       "      <th>FoodCourt</th>\n",
       "      <th>ShoppingMall</th>\n",
       "      <th>Spa</th>\n",
       "      <th>VRDeck</th>\n",
       "      <th>Name</th>\n",
       "      <th>Transported</th>\n",
       "      <th>Adult</th>\n",
       "    </tr>\n",
       "  </thead>\n",
       "  <tbody>\n",
       "    <tr>\n",
       "      <th>0</th>\n",
       "      <td>0001_01</td>\n",
       "      <td>1.0</td>\n",
       "      <td>0</td>\n",
       "      <td>1.0</td>\n",
       "      <td>2.0</td>\n",
       "      <td>39.0</td>\n",
       "      <td>0</td>\n",
       "      <td>0.0</td>\n",
       "      <td>0.0</td>\n",
       "      <td>0.0</td>\n",
       "      <td>0.0</td>\n",
       "      <td>0.0</td>\n",
       "      <td>Maham Ofracculy</td>\n",
       "      <td>0</td>\n",
       "      <td>1</td>\n",
       "    </tr>\n",
       "    <tr>\n",
       "      <th>1</th>\n",
       "      <td>0002_01</td>\n",
       "      <td>0.0</td>\n",
       "      <td>0</td>\n",
       "      <td>5.0</td>\n",
       "      <td>2.0</td>\n",
       "      <td>24.0</td>\n",
       "      <td>0</td>\n",
       "      <td>109.0</td>\n",
       "      <td>9.0</td>\n",
       "      <td>25.0</td>\n",
       "      <td>549.0</td>\n",
       "      <td>44.0</td>\n",
       "      <td>Juanna Vines</td>\n",
       "      <td>1</td>\n",
       "      <td>1</td>\n",
       "    </tr>\n",
       "    <tr>\n",
       "      <th>2</th>\n",
       "      <td>0003_01</td>\n",
       "      <td>1.0</td>\n",
       "      <td>0</td>\n",
       "      <td>0.0</td>\n",
       "      <td>2.0</td>\n",
       "      <td>58.0</td>\n",
       "      <td>1</td>\n",
       "      <td>43.0</td>\n",
       "      <td>3576.0</td>\n",
       "      <td>0.0</td>\n",
       "      <td>6715.0</td>\n",
       "      <td>49.0</td>\n",
       "      <td>Altark Susent</td>\n",
       "      <td>0</td>\n",
       "      <td>1</td>\n",
       "    </tr>\n",
       "    <tr>\n",
       "      <th>3</th>\n",
       "      <td>0003_02</td>\n",
       "      <td>1.0</td>\n",
       "      <td>0</td>\n",
       "      <td>0.0</td>\n",
       "      <td>2.0</td>\n",
       "      <td>33.0</td>\n",
       "      <td>0</td>\n",
       "      <td>0.0</td>\n",
       "      <td>1283.0</td>\n",
       "      <td>371.0</td>\n",
       "      <td>3329.0</td>\n",
       "      <td>193.0</td>\n",
       "      <td>Solam Susent</td>\n",
       "      <td>0</td>\n",
       "      <td>1</td>\n",
       "    </tr>\n",
       "    <tr>\n",
       "      <th>4</th>\n",
       "      <td>0004_01</td>\n",
       "      <td>0.0</td>\n",
       "      <td>0</td>\n",
       "      <td>5.0</td>\n",
       "      <td>2.0</td>\n",
       "      <td>16.0</td>\n",
       "      <td>0</td>\n",
       "      <td>303.0</td>\n",
       "      <td>70.0</td>\n",
       "      <td>151.0</td>\n",
       "      <td>565.0</td>\n",
       "      <td>2.0</td>\n",
       "      <td>Willy Santantines</td>\n",
       "      <td>1</td>\n",
       "      <td>0</td>\n",
       "    </tr>\n",
       "  </tbody>\n",
       "</table>\n",
       "</div>"
      ],
      "text/plain": [
       "  PassengerId  HomePlanet CryoSleep  Cabin  Destination   Age VIP  \\\n",
       "0     0001_01         1.0         0    1.0          2.0  39.0   0   \n",
       "1     0002_01         0.0         0    5.0          2.0  24.0   0   \n",
       "2     0003_01         1.0         0    0.0          2.0  58.0   1   \n",
       "3     0003_02         1.0         0    0.0          2.0  33.0   0   \n",
       "4     0004_01         0.0         0    5.0          2.0  16.0   0   \n",
       "\n",
       "   RoomService  FoodCourt  ShoppingMall     Spa  VRDeck               Name  \\\n",
       "0          0.0        0.0           0.0     0.0     0.0    Maham Ofracculy   \n",
       "1        109.0        9.0          25.0   549.0    44.0       Juanna Vines   \n",
       "2         43.0     3576.0           0.0  6715.0    49.0      Altark Susent   \n",
       "3          0.0     1283.0         371.0  3329.0   193.0       Solam Susent   \n",
       "4        303.0       70.0         151.0   565.0     2.0  Willy Santantines   \n",
       "\n",
       "   Transported  Adult  \n",
       "0            0      1  \n",
       "1            1      1  \n",
       "2            0      1  \n",
       "3            0      1  \n",
       "4            1      0  "
      ]
     },
     "execution_count": 7,
     "metadata": {},
     "output_type": "execute_result"
    }
   ],
   "source": [
    "from sklearn.preprocessing import OrdinalEncoder\n",
    "df['Cabin']=df['Cabin'].astype('str').str[0]\n",
    "\n",
    "col_names = ['HomePlanet', 'Destination', 'Cabin']\n",
    "df_encode = df[col_names]\n",
    "\n",
    "encoder = OrdinalEncoder()\n",
    "df[col_names] = encoder.fit_transform(df_encode)\n",
    "df.head()"
   ]
  },
  {
   "cell_type": "markdown",
   "id": "c29dae3b",
   "metadata": {
    "execution": {
     "iopub.execute_input": "2022-05-25T14:43:58.558603Z",
     "iopub.status.busy": "2022-05-25T14:43:58.558327Z",
     "iopub.status.idle": "2022-05-25T14:43:58.568924Z",
     "shell.execute_reply": "2022-05-25T14:43:58.568288Z",
     "shell.execute_reply.started": "2022-05-25T14:43:58.558573Z"
    },
    "papermill": {
     "duration": 0.033888,
     "end_time": "2022-05-30T03:47:59.196885",
     "exception": false,
     "start_time": "2022-05-30T03:47:59.162997",
     "status": "completed"
    },
    "tags": []
   },
   "source": [
    "### Put First and Last name in column.\n",
    "* Gender: first name can creature a gender feature.\n",
    "* Family: last name can possibly detect if person is alone."
   ]
  },
  {
   "cell_type": "code",
   "execution_count": 8,
   "id": "34fad705",
   "metadata": {
    "execution": {
     "iopub.execute_input": "2022-05-30T03:47:59.265703Z",
     "iopub.status.busy": "2022-05-30T03:47:59.265180Z",
     "iopub.status.idle": "2022-05-30T03:48:00.935361Z",
     "shell.execute_reply": "2022-05-30T03:48:00.934480Z"
    },
    "papermill": {
     "duration": 1.70729,
     "end_time": "2022-05-30T03:48:00.937736",
     "exception": false,
     "start_time": "2022-05-30T03:47:59.230446",
     "status": "completed"
    },
    "tags": []
   },
   "outputs": [],
   "source": [
    "df[['First','Last']] = df.Name.apply(lambda x: pd.Series(str(x).split(\" \")))"
   ]
  },
  {
   "cell_type": "code",
   "execution_count": 9,
   "id": "937f4128",
   "metadata": {
    "execution": {
     "iopub.execute_input": "2022-05-30T03:48:01.006604Z",
     "iopub.status.busy": "2022-05-30T03:48:01.006318Z",
     "iopub.status.idle": "2022-05-30T03:48:01.034697Z",
     "shell.execute_reply": "2022-05-30T03:48:01.033507Z"
    },
    "papermill": {
     "duration": 0.06489,
     "end_time": "2022-05-30T03:48:01.036756",
     "exception": false,
     "start_time": "2022-05-30T03:48:00.971866",
     "status": "completed"
    },
    "tags": []
   },
   "outputs": [
    {
     "data": {
      "text/html": [
       "<div>\n",
       "<style scoped>\n",
       "    .dataframe tbody tr th:only-of-type {\n",
       "        vertical-align: middle;\n",
       "    }\n",
       "\n",
       "    .dataframe tbody tr th {\n",
       "        vertical-align: top;\n",
       "    }\n",
       "\n",
       "    .dataframe thead th {\n",
       "        text-align: right;\n",
       "    }\n",
       "</style>\n",
       "<table border=\"1\" class=\"dataframe\">\n",
       "  <thead>\n",
       "    <tr style=\"text-align: right;\">\n",
       "      <th></th>\n",
       "      <th>PassengerId</th>\n",
       "      <th>HomePlanet</th>\n",
       "      <th>CryoSleep</th>\n",
       "      <th>Cabin</th>\n",
       "      <th>Destination</th>\n",
       "      <th>Age</th>\n",
       "      <th>VIP</th>\n",
       "      <th>RoomService</th>\n",
       "      <th>FoodCourt</th>\n",
       "      <th>ShoppingMall</th>\n",
       "      <th>Spa</th>\n",
       "      <th>VRDeck</th>\n",
       "      <th>Name</th>\n",
       "      <th>Transported</th>\n",
       "      <th>Adult</th>\n",
       "      <th>First</th>\n",
       "      <th>Last</th>\n",
       "      <th>Family</th>\n",
       "    </tr>\n",
       "  </thead>\n",
       "  <tbody>\n",
       "    <tr>\n",
       "      <th>0</th>\n",
       "      <td>0001_01</td>\n",
       "      <td>1.0</td>\n",
       "      <td>0</td>\n",
       "      <td>1.0</td>\n",
       "      <td>2.0</td>\n",
       "      <td>39.0</td>\n",
       "      <td>0</td>\n",
       "      <td>0.0</td>\n",
       "      <td>0.0</td>\n",
       "      <td>0.0</td>\n",
       "      <td>0.0</td>\n",
       "      <td>0.0</td>\n",
       "      <td>Maham Ofracculy</td>\n",
       "      <td>0</td>\n",
       "      <td>1</td>\n",
       "      <td>Maham</td>\n",
       "      <td>Ofracculy</td>\n",
       "      <td>1.0</td>\n",
       "    </tr>\n",
       "    <tr>\n",
       "      <th>1</th>\n",
       "      <td>0002_01</td>\n",
       "      <td>0.0</td>\n",
       "      <td>0</td>\n",
       "      <td>5.0</td>\n",
       "      <td>2.0</td>\n",
       "      <td>24.0</td>\n",
       "      <td>0</td>\n",
       "      <td>109.0</td>\n",
       "      <td>9.0</td>\n",
       "      <td>25.0</td>\n",
       "      <td>549.0</td>\n",
       "      <td>44.0</td>\n",
       "      <td>Juanna Vines</td>\n",
       "      <td>1</td>\n",
       "      <td>1</td>\n",
       "      <td>Juanna</td>\n",
       "      <td>Vines</td>\n",
       "      <td>4.0</td>\n",
       "    </tr>\n",
       "    <tr>\n",
       "      <th>2</th>\n",
       "      <td>0003_01</td>\n",
       "      <td>1.0</td>\n",
       "      <td>0</td>\n",
       "      <td>0.0</td>\n",
       "      <td>2.0</td>\n",
       "      <td>58.0</td>\n",
       "      <td>1</td>\n",
       "      <td>43.0</td>\n",
       "      <td>3576.0</td>\n",
       "      <td>0.0</td>\n",
       "      <td>6715.0</td>\n",
       "      <td>49.0</td>\n",
       "      <td>Altark Susent</td>\n",
       "      <td>0</td>\n",
       "      <td>1</td>\n",
       "      <td>Altark</td>\n",
       "      <td>Susent</td>\n",
       "      <td>6.0</td>\n",
       "    </tr>\n",
       "    <tr>\n",
       "      <th>3</th>\n",
       "      <td>0003_02</td>\n",
       "      <td>1.0</td>\n",
       "      <td>0</td>\n",
       "      <td>0.0</td>\n",
       "      <td>2.0</td>\n",
       "      <td>33.0</td>\n",
       "      <td>0</td>\n",
       "      <td>0.0</td>\n",
       "      <td>1283.0</td>\n",
       "      <td>371.0</td>\n",
       "      <td>3329.0</td>\n",
       "      <td>193.0</td>\n",
       "      <td>Solam Susent</td>\n",
       "      <td>0</td>\n",
       "      <td>1</td>\n",
       "      <td>Solam</td>\n",
       "      <td>Susent</td>\n",
       "      <td>6.0</td>\n",
       "    </tr>\n",
       "    <tr>\n",
       "      <th>4</th>\n",
       "      <td>0004_01</td>\n",
       "      <td>0.0</td>\n",
       "      <td>0</td>\n",
       "      <td>5.0</td>\n",
       "      <td>2.0</td>\n",
       "      <td>16.0</td>\n",
       "      <td>0</td>\n",
       "      <td>303.0</td>\n",
       "      <td>70.0</td>\n",
       "      <td>151.0</td>\n",
       "      <td>565.0</td>\n",
       "      <td>2.0</td>\n",
       "      <td>Willy Santantines</td>\n",
       "      <td>1</td>\n",
       "      <td>0</td>\n",
       "      <td>Willy</td>\n",
       "      <td>Santantines</td>\n",
       "      <td>6.0</td>\n",
       "    </tr>\n",
       "  </tbody>\n",
       "</table>\n",
       "</div>"
      ],
      "text/plain": [
       "  PassengerId  HomePlanet CryoSleep  Cabin  Destination   Age VIP  \\\n",
       "0     0001_01         1.0         0    1.0          2.0  39.0   0   \n",
       "1     0002_01         0.0         0    5.0          2.0  24.0   0   \n",
       "2     0003_01         1.0         0    0.0          2.0  58.0   1   \n",
       "3     0003_02         1.0         0    0.0          2.0  33.0   0   \n",
       "4     0004_01         0.0         0    5.0          2.0  16.0   0   \n",
       "\n",
       "   RoomService  FoodCourt  ShoppingMall     Spa  VRDeck               Name  \\\n",
       "0          0.0        0.0           0.0     0.0     0.0    Maham Ofracculy   \n",
       "1        109.0        9.0          25.0   549.0    44.0       Juanna Vines   \n",
       "2         43.0     3576.0           0.0  6715.0    49.0      Altark Susent   \n",
       "3          0.0     1283.0         371.0  3329.0   193.0       Solam Susent   \n",
       "4        303.0       70.0         151.0   565.0     2.0  Willy Santantines   \n",
       "\n",
       "   Transported  Adult   First         Last  Family  \n",
       "0            0      1   Maham    Ofracculy     1.0  \n",
       "1            1      1  Juanna        Vines     4.0  \n",
       "2            0      1  Altark       Susent     6.0  \n",
       "3            0      1   Solam       Susent     6.0  \n",
       "4            1      0   Willy  Santantines     6.0  "
      ]
     },
     "execution_count": 9,
     "metadata": {},
     "output_type": "execute_result"
    }
   ],
   "source": [
    "#LAST NAME: count occurances \n",
    "df['Family']=df.groupby('Last')['Last'].transform('count')\n",
    "df.head()"
   ]
  },
  {
   "cell_type": "markdown",
   "id": "f7d6632f",
   "metadata": {
    "papermill": {
     "duration": 0.035558,
     "end_time": "2022-05-30T03:48:01.106274",
     "exception": false,
     "start_time": "2022-05-30T03:48:01.070716",
     "status": "completed"
    },
    "tags": []
   },
   "source": [
    "# Numeric DataFrame"
   ]
  },
  {
   "cell_type": "code",
   "execution_count": 10,
   "id": "22ce0854",
   "metadata": {
    "execution": {
     "iopub.execute_input": "2022-05-30T03:48:01.177387Z",
     "iopub.status.busy": "2022-05-30T03:48:01.176762Z",
     "iopub.status.idle": "2022-05-30T03:48:01.205041Z",
     "shell.execute_reply": "2022-05-30T03:48:01.204439Z"
    },
    "papermill": {
     "duration": 0.065592,
     "end_time": "2022-05-30T03:48:01.206833",
     "exception": false,
     "start_time": "2022-05-30T03:48:01.141241",
     "status": "completed"
    },
    "tags": []
   },
   "outputs": [
    {
     "data": {
      "text/html": [
       "<div>\n",
       "<style scoped>\n",
       "    .dataframe tbody tr th:only-of-type {\n",
       "        vertical-align: middle;\n",
       "    }\n",
       "\n",
       "    .dataframe tbody tr th {\n",
       "        vertical-align: top;\n",
       "    }\n",
       "\n",
       "    .dataframe thead th {\n",
       "        text-align: right;\n",
       "    }\n",
       "</style>\n",
       "<table border=\"1\" class=\"dataframe\">\n",
       "  <thead>\n",
       "    <tr style=\"text-align: right;\">\n",
       "      <th></th>\n",
       "      <th>HomePlanet</th>\n",
       "      <th>Cabin</th>\n",
       "      <th>Destination</th>\n",
       "      <th>Age</th>\n",
       "      <th>RoomService</th>\n",
       "      <th>FoodCourt</th>\n",
       "      <th>ShoppingMall</th>\n",
       "      <th>Spa</th>\n",
       "      <th>VRDeck</th>\n",
       "      <th>Transported</th>\n",
       "      <th>Adult</th>\n",
       "      <th>Family</th>\n",
       "    </tr>\n",
       "  </thead>\n",
       "  <tbody>\n",
       "    <tr>\n",
       "      <th>0</th>\n",
       "      <td>1.0</td>\n",
       "      <td>1.0</td>\n",
       "      <td>2.0</td>\n",
       "      <td>39.0</td>\n",
       "      <td>0.0</td>\n",
       "      <td>0.0</td>\n",
       "      <td>0.0</td>\n",
       "      <td>0.0</td>\n",
       "      <td>0.0</td>\n",
       "      <td>0</td>\n",
       "      <td>1</td>\n",
       "      <td>1.0</td>\n",
       "    </tr>\n",
       "    <tr>\n",
       "      <th>1</th>\n",
       "      <td>0.0</td>\n",
       "      <td>5.0</td>\n",
       "      <td>2.0</td>\n",
       "      <td>24.0</td>\n",
       "      <td>109.0</td>\n",
       "      <td>9.0</td>\n",
       "      <td>25.0</td>\n",
       "      <td>549.0</td>\n",
       "      <td>44.0</td>\n",
       "      <td>1</td>\n",
       "      <td>1</td>\n",
       "      <td>4.0</td>\n",
       "    </tr>\n",
       "    <tr>\n",
       "      <th>2</th>\n",
       "      <td>1.0</td>\n",
       "      <td>0.0</td>\n",
       "      <td>2.0</td>\n",
       "      <td>58.0</td>\n",
       "      <td>43.0</td>\n",
       "      <td>3576.0</td>\n",
       "      <td>0.0</td>\n",
       "      <td>6715.0</td>\n",
       "      <td>49.0</td>\n",
       "      <td>0</td>\n",
       "      <td>1</td>\n",
       "      <td>6.0</td>\n",
       "    </tr>\n",
       "    <tr>\n",
       "      <th>3</th>\n",
       "      <td>1.0</td>\n",
       "      <td>0.0</td>\n",
       "      <td>2.0</td>\n",
       "      <td>33.0</td>\n",
       "      <td>0.0</td>\n",
       "      <td>1283.0</td>\n",
       "      <td>371.0</td>\n",
       "      <td>3329.0</td>\n",
       "      <td>193.0</td>\n",
       "      <td>0</td>\n",
       "      <td>1</td>\n",
       "      <td>6.0</td>\n",
       "    </tr>\n",
       "    <tr>\n",
       "      <th>4</th>\n",
       "      <td>0.0</td>\n",
       "      <td>5.0</td>\n",
       "      <td>2.0</td>\n",
       "      <td>16.0</td>\n",
       "      <td>303.0</td>\n",
       "      <td>70.0</td>\n",
       "      <td>151.0</td>\n",
       "      <td>565.0</td>\n",
       "      <td>2.0</td>\n",
       "      <td>1</td>\n",
       "      <td>0</td>\n",
       "      <td>6.0</td>\n",
       "    </tr>\n",
       "  </tbody>\n",
       "</table>\n",
       "</div>"
      ],
      "text/plain": [
       "   HomePlanet  Cabin  Destination   Age  RoomService  FoodCourt  ShoppingMall  \\\n",
       "0         1.0    1.0          2.0  39.0          0.0        0.0           0.0   \n",
       "1         0.0    5.0          2.0  24.0        109.0        9.0          25.0   \n",
       "2         1.0    0.0          2.0  58.0         43.0     3576.0           0.0   \n",
       "3         1.0    0.0          2.0  33.0          0.0     1283.0         371.0   \n",
       "4         0.0    5.0          2.0  16.0        303.0       70.0         151.0   \n",
       "\n",
       "      Spa  VRDeck  Transported  Adult  Family  \n",
       "0     0.0     0.0            0      1     1.0  \n",
       "1   549.0    44.0            1      1     4.0  \n",
       "2  6715.0    49.0            0      1     6.0  \n",
       "3  3329.0   193.0            0      1     6.0  \n",
       "4   565.0     2.0            1      0     6.0  "
      ]
     },
     "execution_count": 10,
     "metadata": {},
     "output_type": "execute_result"
    }
   ],
   "source": [
    "numerics = ['int16', 'int32', 'int64', 'float16', 'float32', 'float64']\n",
    "df = df.select_dtypes(include=numerics)\n",
    "df= df.fillna(df.mean())\n",
    "df.head()"
   ]
  },
  {
   "cell_type": "markdown",
   "id": "fc717ba9",
   "metadata": {
    "papermill": {
     "duration": 0.034392,
     "end_time": "2022-05-30T03:48:01.276206",
     "exception": false,
     "start_time": "2022-05-30T03:48:01.241814",
     "status": "completed"
    },
    "tags": []
   },
   "source": [
    "# Split Data"
   ]
  },
  {
   "cell_type": "code",
   "execution_count": 11,
   "id": "ffa312fa",
   "metadata": {
    "execution": {
     "iopub.execute_input": "2022-05-30T03:48:01.346707Z",
     "iopub.status.busy": "2022-05-30T03:48:01.346170Z",
     "iopub.status.idle": "2022-05-30T03:48:01.353820Z",
     "shell.execute_reply": "2022-05-30T03:48:01.353140Z"
    },
    "papermill": {
     "duration": 0.045534,
     "end_time": "2022-05-30T03:48:01.355990",
     "exception": false,
     "start_time": "2022-05-30T03:48:01.310456",
     "status": "completed"
    },
    "tags": []
   },
   "outputs": [],
   "source": [
    "X=df.drop('Transported', axis=1)\n",
    "y=df['Transported']\n",
    "\n",
    "X_train, X_test, y_train, y_test = train_test_split(\n",
    "    X, y, test_size=0.3, random_state=13)"
   ]
  },
  {
   "attachments": {
    "0bb3aff7-a5f5-4d90-9c98-c84994f7b96c.png": {
     "image/png": "[encoded data removed]"
    },
    "0cf68b5a-92fc-409b-a8e0-043a0e0a7a0f.png": {
     "image/png": "[encoded data removed]"
    }
   },
   "cell_type": "markdown",
   "id": "d02fba0d",
   "metadata": {
    "papermill": {
     "duration": 0.034528,
     "end_time": "2022-05-30T03:48:01.428027",
     "exception": false,
     "start_time": "2022-05-30T03:48:01.393499",
     "status": "completed"
    },
    "tags": []
   },
   "source": [
    "# Gradient Boost\n",
    "AUC for gradient boost is:  0.7922\n",
    "The mean squared error (MSE) on test set: 0.2082\n",
    "\n",
    "![image.png](attachment:0cf68b5a-92fc-409b-a8e0-043a0e0a7a0f.png)\n",
    "![image.png](attachment:0bb3aff7-a5f5-4d90-9c98-c84994f7b96c.png)"
   ]
  },
  {
   "cell_type": "code",
   "execution_count": 12,
   "id": "7963d4ac",
   "metadata": {
    "execution": {
     "iopub.execute_input": "2022-05-30T03:48:01.501735Z",
     "iopub.status.busy": "2022-05-30T03:48:01.501195Z",
     "iopub.status.idle": "2022-05-30T03:48:01.526634Z",
     "shell.execute_reply": "2022-05-30T03:48:01.526007Z"
    },
    "papermill": {
     "duration": 0.063921,
     "end_time": "2022-05-30T03:48:01.528716",
     "exception": false,
     "start_time": "2022-05-30T03:48:01.464795",
     "status": "completed"
    },
    "tags": []
   },
   "outputs": [],
   "source": [
    "from sklearn.inspection import permutation_importance\n",
    "from sklearn.ensemble import GradientBoostingClassifier,GradientBoostingRegressor\n",
    "\n",
    "def gbDepth():\n",
    "    depthList=[2, 3, 4, 5, 7, 9, 11, 13]\n",
    "    accList=[]\n",
    "    cvList=[]\n",
    "    \n",
    "    for d in depthList:\n",
    "        params = {\n",
    "         \"n_estimators\": 10, \"max_depth\": d, \n",
    "            \"min_samples_split\": 5, \"learning_rate\": 0.01,\n",
    "        }\n",
    "\n",
    "        #Fit and Predict:\n",
    "        gb = ensemble.GradientBoostingRegressor(**params)\n",
    "        gb.fit(X_train, y_train)\n",
    "        y_pred = gb.predict(X_test)\n",
    "        \n",
    "        gbR2 = r2_score(y_test, y_pred).round(4) \n",
    "        mse = mean_squared_error(y_test, gb.predict(X_test))\n",
    "        print(d, \" max_depth || GB reg r2: \", gbR2, \"|| MSE: {:.4f}\".format(mse)) \n",
    "        \n",
    "        gbScore = gb.score(X_test, y_test).round(4)  # train test \n",
    "        gbCV = cross_validate(gb, X, y, cv = 5, scoring= 'r2')\n",
    "        gbCV=gbCV['test_score'].mean().round(4)\n",
    "        \n",
    "        cvList.append(gbCV)\n",
    "        accList.append(gbScore)\n",
    "        \n",
    "    plt.plot(depthList,accList, label=\"train\")\n",
    "    plt.plot(depthList,cvList, label=\"test\")\n",
    "    plt.title('Graident Boost MaxDepth Cross Validate')\n",
    "    plt.xlabel('MaxDepth')\n",
    "    plt.ylabel('Accuracy')\n",
    "    plt.legend()\n",
    "    plt.show() \n",
    "\n",
    "def gbN():\n",
    "    nList=[2, 10, 30, 50, 70, 100, 150, 200, 300, 400, 500, 600, 800]\n",
    "    accList=[]\n",
    "    cvList=[]\n",
    "    for n in nList:\n",
    "        params = {\n",
    "         \"n_estimators\": n, \"max_depth\": 2, \n",
    "            \"min_samples_split\": 2, \"learning_rate\": 0.01,\n",
    "        }\n",
    "\n",
    "        #Fit and Predict:\n",
    "        gb = ensemble.GradientBoostingRegressor(**params)\n",
    "        gb.fit(X_train, y_train)\n",
    "        y_pred = gb.predict(X_test)\n",
    "        \n",
    "        gbR2 = r2_score(y_test, y_pred).round(4) \n",
    "        mse = mean_squared_error(y_test, gb.predict(X_test))\n",
    "        print(n, \"n_estimators || GB r2: \", gbR2, \"|| MSE: {:.4f}\".format(mse)) \n",
    "        \n",
    "        gbScore = gb.score(X_test, y_test).round(4)  # train test \n",
    "        gbCV = cross_validate(gb, X, y, cv = 4, scoring= 'r2')\n",
    "        gbCV=gbCV['test_score'].mean().round(4)\n",
    "        print(\"Forest Score: \", forestScore  ,\"||\" , forestCV, \"cross validate.\")\n",
    "        \n",
    "        accList.append(gbScore)\n",
    "        cvList.append(gbCV)\n",
    "    \n",
    "    plt.plot(nList,accList, label=\"train\")\n",
    "    plt.plot(nList,cvList, label=\"test\")\n",
    "    plt.title('Gradient Boost n_estimators Cross Validate')\n",
    "    plt.xlabel('n_esatimors')\n",
    "    plt.ylabel('Accuracy')\n",
    "    plt.legend()\n",
    "    plt.show() \n",
    "    \n",
    "def gbSplit():\n",
    "    sList=[2, 3, 5, 7]\n",
    "    \n",
    "    for s in sList:\n",
    "        params = {\n",
    "         \"n_estimators\": 500, \"max_depth\": 2,\n",
    "            \"min_samples_split\": s, \"learning_rate\": 0.01,\n",
    "        }\n",
    "\n",
    "        #Fit and Predict:\n",
    "        reg = ensemble.GradientBoostingRegressor(**params)\n",
    "        reg.fit(X_train, y_train)\n",
    "        y_pred = reg.predict(X_test)\n",
    "        gbr_r2 = r2_score(y_test, y_pred).round(4)\n",
    "        mse = mean_squared_error(y_test, reg.predict(X_test)).round(4)\n",
    "        print(s,\" min_samples_splits || R2 \", gbr_r2, \" || MSE {:.4f}\".format(mse))\n",
    "\n",
    "#Turn on or off functions here:\n",
    "#gbDepth()\n",
    "#gbN()\n",
    "#gbSplit()"
   ]
  },
  {
   "cell_type": "code",
   "execution_count": 13,
   "id": "06ebe7c6",
   "metadata": {
    "execution": {
     "iopub.execute_input": "2022-05-30T03:48:01.599710Z",
     "iopub.status.busy": "2022-05-30T03:48:01.599181Z",
     "iopub.status.idle": "2022-05-30T03:48:08.572056Z",
     "shell.execute_reply": "2022-05-30T03:48:08.570884Z"
    },
    "papermill": {
     "duration": 7.010697,
     "end_time": "2022-05-30T03:48:08.574160",
     "exception": false,
     "start_time": "2022-05-30T03:48:01.563463",
     "status": "completed"
    },
    "tags": []
   },
   "outputs": [
    {
     "name": "stdout",
     "output_type": "stream",
     "text": [
      "Gradient boosting regression r2:  0.1656\n",
      "AUC for gradient boost is:  0.7917\n",
      "The mean squared error (MSE) on test set: 0.2086\n"
     ]
    }
   ],
   "source": [
    "params = {\n",
    " \"n_estimators\": 600, \n",
    "    \"max_depth\": 5, \n",
    "    \"min_samples_split\": 7, \n",
    "    \"learning_rate\": 0.01,\n",
    "}\n",
    "\n",
    "#Fit and Predict:\n",
    "reg = ensemble.GradientBoostingClassifier(**params)\n",
    "reg.fit(X_train, y_train)\n",
    "y_pred = reg.predict(X_test)\n",
    "gbr_r2 = r2_score(y_test, y_pred).round(4) \n",
    "print(\"Gradient boosting regression r2: \", gbr_r2) \n",
    "\n",
    "#AUC of model\n",
    "auc = round( metrics.roc_auc_score(y_test, y_pred), 4 ) \n",
    "print(\"AUC for gradient boost is: \", auc)\n",
    "\n",
    "mse = mean_squared_error(y_test, reg.predict(X_test))\n",
    "print(\"The mean squared error (MSE) on test set: {:.4f}\".format(mse))"
   ]
  },
  {
   "cell_type": "markdown",
   "id": "efe1c93b",
   "metadata": {
    "papermill": {
     "duration": 0.034258,
     "end_time": "2022-05-30T03:48:08.644304",
     "exception": false,
     "start_time": "2022-05-30T03:48:08.610046",
     "status": "completed"
    },
    "tags": []
   },
   "source": [
    "# Feature Importance"
   ]
  },
  {
   "cell_type": "code",
   "execution_count": 14,
   "id": "1a86f739",
   "metadata": {
    "execution": {
     "iopub.execute_input": "2022-05-30T03:48:08.717613Z",
     "iopub.status.busy": "2022-05-30T03:48:08.716680Z",
     "iopub.status.idle": "2022-05-30T03:48:13.426920Z",
     "shell.execute_reply": "2022-05-30T03:48:13.425912Z"
    },
    "papermill": {
     "duration": 4.749194,
     "end_time": "2022-05-30T03:48:13.429231",
     "exception": false,
     "start_time": "2022-05-30T03:48:08.680037",
     "status": "completed"
    },
    "tags": []
   },
   "outputs": [
    {
     "data": {
      "image/png": "[encoded data removed]",
      "text/plain": [
       "<Figure size 864x432 with 2 Axes>"
      ]
     },
     "metadata": {
      "needs_background": "light"
     },
     "output_type": "display_data"
    }
   ],
   "source": [
    "cols=X.columns\n",
    "feature_importance = reg.feature_importances_\n",
    "sorted_idx = np.argsort(feature_importance)\n",
    "pos = np.arange(sorted_idx.shape[0]) + 0.5\n",
    "fig = plt.figure(figsize=(12, 6))\n",
    "plt.subplot(1, 2, 1)\n",
    "plt.barh(pos, feature_importance[sorted_idx], align=\"center\")\n",
    "plt.yticks(pos, np.array(cols)[sorted_idx])\n",
    "plt.title(\"Feature Importance (MDI)\")\n",
    "\n",
    "result = permutation_importance(\n",
    "    reg, X_test, y_test, n_repeats=10, random_state=42, n_jobs=2\n",
    ")\n",
    "sorted_idx = result.importances_mean.argsort()\n",
    "plt.subplot(1, 2, 2)\n",
    "plt.boxplot(\n",
    "    result.importances[sorted_idx].T,\n",
    "    vert=False,\n",
    "    labels=np.array(cols)[sorted_idx],\n",
    ")\n",
    "plt.title(\"Permutation Importance (test set)\")\n",
    "fig.tight_layout()\n",
    "plt.show()"
   ]
  },
  {
   "cell_type": "markdown",
   "id": "20320945",
   "metadata": {
    "papermill": {
     "duration": 0.035322,
     "end_time": "2022-05-30T03:48:13.500243",
     "exception": false,
     "start_time": "2022-05-30T03:48:13.464921",
     "status": "completed"
    },
    "tags": []
   },
   "source": [
    "# Logistic Regression"
   ]
  },
  {
   "cell_type": "code",
   "execution_count": 15,
   "id": "b0b694e1",
   "metadata": {
    "execution": {
     "iopub.execute_input": "2022-05-30T03:48:13.572942Z",
     "iopub.status.busy": "2022-05-30T03:48:13.572656Z",
     "iopub.status.idle": "2022-05-30T03:48:14.247175Z",
     "shell.execute_reply": "2022-05-30T03:48:14.246257Z"
    },
    "papermill": {
     "duration": 0.71438,
     "end_time": "2022-05-30T03:48:14.250109",
     "exception": false,
     "start_time": "2022-05-30T03:48:13.535729",
     "status": "completed"
    },
    "tags": []
   },
   "outputs": [
    {
     "name": "stdout",
     "output_type": "stream",
     "text": [
      "AUC for logistic regression is:  0.8545\n",
      "Logistic Accuracy:  0.7803\n",
      "0.0926  Logistic Regression cross validate\n"
     ]
    }
   ],
   "source": [
    "from sklearn.linear_model import LogisticRegression\n",
    "logReg = LogisticRegression(solver='liblinear') #solver param gets rid of encoder error\n",
    "\n",
    "#Train the model and create predictions\n",
    "logReg.fit(X_train, y_train)\n",
    "logPredict = logReg.predict_proba(X_test)[::,1]\n",
    "\n",
    "#calculate AUC of model\n",
    "auc = round( metrics.roc_auc_score(y_test, logPredict), 4 ) \n",
    "print(\"AUC for logistic regression is: \", auc)\n",
    "\n",
    "#CROSS VALIDATE TEST RESULTS:\n",
    "logScore = logReg.score(X_test, y_test).round(4)  # train test \n",
    "print(\"Logistic Accuracy: \", logScore)\n",
    "logCV = cross_validate(logReg, X, y, cv = 5, scoring= 'r2')\n",
    "logCV=logCV['test_score'].mean().round(4)\n",
    "print(logCV, \" Logistic Regression cross validate\")"
   ]
  },
  {
   "cell_type": "markdown",
   "id": "bb2d5235",
   "metadata": {
    "papermill": {
     "duration": 0.055655,
     "end_time": "2022-05-30T03:48:14.379737",
     "exception": false,
     "start_time": "2022-05-30T03:48:14.324082",
     "status": "completed"
    },
    "tags": []
   },
   "source": [
    "# Linear Regression"
   ]
  },
  {
   "cell_type": "code",
   "execution_count": 16,
   "id": "66a85674",
   "metadata": {
    "execution": {
     "iopub.execute_input": "2022-05-30T03:48:14.453409Z",
     "iopub.status.busy": "2022-05-30T03:48:14.453128Z",
     "iopub.status.idle": "2022-05-30T03:48:14.824487Z",
     "shell.execute_reply": "2022-05-30T03:48:14.823754Z"
    },
    "papermill": {
     "duration": 0.410821,
     "end_time": "2022-05-30T03:48:14.826748",
     "exception": false,
     "start_time": "2022-05-30T03:48:14.415927",
     "status": "completed"
    },
    "tags": []
   },
   "outputs": [
    {
     "name": "stdout",
     "output_type": "stream",
     "text": [
      "AUC for linear regression is:  0.805\n",
      "Linear regression r2 score:  0.2118\n",
      "Linear Accuracy:  0.2118\n",
      "0.2053  linear regression cross validate mean\n"
     ]
    },
    {
     "data": {
      "image/png": "[encoded data removed]",
      "text/plain": [
       "<Figure size 432x288 with 1 Axes>"
      ]
     },
     "metadata": {
      "needs_background": "light"
     },
     "output_type": "display_data"
    }
   ],
   "source": [
    "from sklearn.linear_model import LinearRegression, Ridge, Lasso\n",
    "\n",
    "#Fit and predict:\n",
    "lrModel = LinearRegression()\n",
    "lrModel.fit(X_train, y_train)\n",
    "lrPredict = lrModel.predict(X_test)\n",
    "\n",
    "# plt.scatter(y_test, predictions)\n",
    "plt.hist(y_test - lrPredict)\n",
    "\n",
    "#Linear Metrics:\n",
    "auc = round( metrics.roc_auc_score(y_test, lrPredict), 4 ) \n",
    "r2 = r2_score(y_test, lrPredict).round(4) \n",
    "print(\"AUC for linear regression is: \", auc)\n",
    "print(\"Linear regression r2 score: \", r2)\n",
    "\n",
    "#CROSS VALIDATE TEST RESULTS:\n",
    "lr_score = lrModel.score(X_test, y_test).round(4)  # train test \n",
    "print(\"Linear Accuracy: \", lr_score)\n",
    "lr_cv = cross_validate(lrModel, X, y, cv = 5, scoring= 'r2')\n",
    "lr_cvMean=lr_cv['test_score'].mean().round(4)\n",
    "print(lr_cvMean, \" linear regression cross validate mean\")\n",
    "\n",
    "def linearReports():\n",
    "    print(model.coef_)    \n",
    "    print(model.intercept_)\n",
    "    print(classification_report(y_test_data, lrPredict))\n",
    "    print(confusion_matrix(y_test_data, lrPredict))\n",
    "    metrics.mean_absolute_error(y_test, lrPredict)\n",
    "    np.sqrt(metrics.mean_squared_error(y_test, lrPredict))"
   ]
  },
  {
   "attachments": {
    "f752b952-cf92-46d5-b299-169252215ad1.png": {
     "image/png": "[encoded data removed]"
    },
    "fa2af2b2-61cc-465f-aeeb-cbddee6201ba.png": {
     "image/png": "[encoded data removed]"
    }
   },
   "cell_type": "markdown",
   "id": "e82bad15",
   "metadata": {
    "papermill": {
     "duration": 0.037141,
     "end_time": "2022-05-30T03:48:14.902472",
     "exception": false,
     "start_time": "2022-05-30T03:48:14.865331",
     "status": "completed"
    },
    "tags": []
   },
   "source": [
    "# Decision Tree\n",
    "* 11  best max_depth parameter with least MAE\n",
    "* 500  best max_leaf_node\n",
    "\n",
    "#### Overfitting Tree:\n",
    "Decision tree tends to overfit data which is clearly happening in this case:\n",
    "\n",
    "AUC for decision tree is: 0.9187\n",
    "R-squared for decision tree is: 0.5415\n",
    "0.3099 Tree cross validate mean\n",
    "Line graphs should help show where the decision tree parameters should truly be set at. \n",
    "The train data results should correlated with the final test data.\n",
    "\n",
    "![image.png](attachment:f752b952-cf92-46d5-b299-169252215ad1.png)\n",
    "\n",
    "![image.png](attachment:fa2af2b2-61cc-465f-aeeb-cbddee6201ba.png)"
   ]
  },
  {
   "cell_type": "code",
   "execution_count": 17,
   "id": "abd7ffd3",
   "metadata": {
    "execution": {
     "iopub.execute_input": "2022-05-30T03:48:14.979179Z",
     "iopub.status.busy": "2022-05-30T03:48:14.978898Z",
     "iopub.status.idle": "2022-05-30T03:48:14.991994Z",
     "shell.execute_reply": "2022-05-30T03:48:14.991361Z"
    },
    "papermill": {
     "duration": 0.054387,
     "end_time": "2022-05-30T03:48:14.994043",
     "exception": false,
     "start_time": "2022-05-30T03:48:14.939656",
     "status": "completed"
    },
    "tags": []
   },
   "outputs": [],
   "source": [
    "from sklearn.tree import DecisionTreeRegressor\n",
    "\n",
    "#FIND best_tree_size LEAF NODES:\n",
    "def calcLeaf():\n",
    "    candidate_max_leaf_nodes = [5, 25, 50, 100, 250, 500, 700]\n",
    "    maeDic={} #dictionary  key=leaf  mae=value\n",
    "    for leaf in candidate_max_leaf_nodes:\n",
    "        model = DecisionTreeRegressor(max_leaf_nodes=leaf, random_state=42)\n",
    "        model.fit(X_train, y_train)\n",
    "        y_pred = model.predict(X_test)\n",
    "        mae = mean_absolute_error(y_test, y_pred).round(4)\n",
    "        maeDic[leaf]=mae\n",
    "    print(maeDic)\n",
    "    best_tree_size = sorted(maeDic, key=lambda x : maeDic[x])[0]\n",
    "    print(best_tree_size, \" best max_leaf_node\") #500 is best\n",
    "    \n",
    "def calcDepth():\n",
    "    max_depth_list = [2, 3, 5, 7, 9, 11, 15]\n",
    "    maeDic={} #dictionary  key=depth  mae=value\n",
    "    for d in max_depth_list:\n",
    "        model = DecisionTreeRegressor(max_leaf_nodes=500, max_depth=d, random_state=42)\n",
    "        model.fit(X_train, y_train)\n",
    "        y_pred = model.predict(X_test)\n",
    "        mae = mean_absolute_error(y_test, y_pred).round(4)\n",
    "        maeDic[d]=mae\n",
    "    print(maeDic)\n",
    "    best_max_depth = sorted(maeDic, key=lambda x : maeDic[x])[0]\n",
    "    print(best_max_depth, \" best max_depth parameter with least MAE\") #11\n",
    "    \n",
    "def automateTree():\n",
    "    start=time.time()\n",
    "    candidate_max_leaf_nodes = [5, 25, 50, 100, 250, 500]\n",
    "    max_depth_list = [2, 3, 5, 7, 9, 11]\n",
    "    \n",
    "    #STORE DATA INTO LISTS FOR DATAFRAME LATER:\n",
    "    aucList=[]\n",
    "    maeList=[]\n",
    "    maxDepthList=[]\n",
    "    maxLeafNodesList=[]\n",
    "\n",
    "    for d in max_depth_list:\n",
    "        for leaf in candidate_max_leaf_nodes:\n",
    "            model = DecisionTreeRegressor(max_leaf_nodes=leaf, max_depth=d, random_state=42)\n",
    "            model.fit(X_train, y_train)\n",
    "            y_pred = model.predict(X_test)\n",
    "            mae = mean_absolute_error(y_test, y_pred).round(4)\n",
    "            treeAUC = round( metrics.roc_auc_score(y_test, y_pred), 4 ) \n",
    "            \n",
    "            aucList.append(treeAUC)\n",
    "            maeList.append(mae)\n",
    "            maxDepthList.append(d)\n",
    "            maxLeafNodesList.append(leaf)\n",
    "           \n",
    "            \n",
    "    df = pd.DataFrame(list(zip(aucList, maeList, maxDepthList, maxLeafNodesList)),\n",
    "                          columns=['AUC','MAE', 'MaxDepth', 'MaxLeafNodes'])\n",
    "    \n",
    "    df=df.sort_values(by=['AUC'], ascending=True)\n",
    "    print(\"Done. \", round(time.time()-start,4), \" seconds\")\n",
    "    return df\n",
    "\n",
    "#calcDepth() \n",
    "#calcLeaf()\n",
    "#treeDF=automateTree()\n",
    "#treeDF.head()"
   ]
  },
  {
   "cell_type": "code",
   "execution_count": 18,
   "id": "25af4f05",
   "metadata": {
    "execution": {
     "iopub.execute_input": "2022-05-30T03:48:15.076100Z",
     "iopub.status.busy": "2022-05-30T03:48:15.075690Z",
     "iopub.status.idle": "2022-05-30T03:48:15.086902Z",
     "shell.execute_reply": "2022-05-30T03:48:15.085461Z"
    },
    "papermill": {
     "duration": 0.056993,
     "end_time": "2022-05-30T03:48:15.090800",
     "exception": false,
     "start_time": "2022-05-30T03:48:15.033807",
     "status": "completed"
    },
    "tags": []
   },
   "outputs": [],
   "source": [
    "def validateTreeDepth():\n",
    "    max_depth_list = [2, 3, 4, 5, 7, 9, 11]\n",
    "    \n",
    "    #STORE DATA INTO LISTS FOR DATAFRAME LATER:\n",
    "    accList=[]\n",
    "    cvList=[]\n",
    "    maeList=[]\n",
    "    \n",
    "    maxLeafNodesList=[]\n",
    "    maxDepthList=[]\n",
    "\n",
    "    for d in max_depth_list:\n",
    "        maxDepthList.append(d)\n",
    "        \n",
    "        tree = DecisionTreeRegressor(max_leaf_nodes=10, max_depth=d, random_state=42)\n",
    "        tree.fit(X_train, y_train)\n",
    "        y_pred = tree.predict(X_test)\n",
    "        mae = mean_absolute_error(y_test, y_pred).round(4)\n",
    "        treeR2 = r2_score(y_test, y_pred).round(4)\n",
    "        accList.append(treeR2)\n",
    "\n",
    "        #CROSS VALIDATE TEST RESULTS:\n",
    "        treeScore = tree.score(X_test, y_test).round(4)  # train test \n",
    "        #print(\"Tree Score: \", treeScore)\n",
    "        treeCV = cross_validate(tree, X, y, cv = 5, scoring= 'r2')\n",
    "        treeCV=treeCV['test_score'].mean().round(4)\n",
    "        cvList.append(treeCV)\n",
    "        #print(treeCV, \" Decision Tree cross validate.\")\n",
    "       # print(treeCV-treeR2, \" validation error\")\n",
    "    plt.plot(maxDepthList,accList, label=\"line1\")\n",
    "    plt.plot(maxDepthList,cvList, label=\"line2\")\n",
    "    plt.title('Decision Tree Cross Validate')\n",
    "    plt.xlabel('MaxDepth')\n",
    "    plt.ylabel('Accuracy')\n",
    "    plt.show() \n",
    "#validateTreeDepth()"
   ]
  },
  {
   "cell_type": "code",
   "execution_count": 19,
   "id": "1a21b5e0",
   "metadata": {
    "execution": {
     "iopub.execute_input": "2022-05-30T03:48:15.187640Z",
     "iopub.status.busy": "2022-05-30T03:48:15.186988Z",
     "iopub.status.idle": "2022-05-30T03:48:15.195988Z",
     "shell.execute_reply": "2022-05-30T03:48:15.195308Z"
    },
    "papermill": {
     "duration": 0.052845,
     "end_time": "2022-05-30T03:48:15.197769",
     "exception": false,
     "start_time": "2022-05-30T03:48:15.144924",
     "status": "completed"
    },
    "tags": []
   },
   "outputs": [],
   "source": [
    "def validateLeafTree():\n",
    "    accList=[]\n",
    "    cvList=[]\n",
    "    maeList=[]\n",
    "    \n",
    "    maxLeafNodesList=[]\n",
    "    maxDepthList=[]\n",
    "    \n",
    "    candidate_max_leaf_nodes = [2, 3, 4, 5, 8, 10, 15, 20]\n",
    "    for leaf in candidate_max_leaf_nodes:\n",
    "        maxLeafNodesList.append(leaf)\n",
    "        \n",
    "        tree = DecisionTreeRegressor(max_leaf_nodes=leaf, max_depth=4, random_state=42)\n",
    "        tree.fit(X_train, y_train)\n",
    "        y_pred = tree.predict(X_test)\n",
    "        mae = mean_absolute_error(y_test, y_pred).round(4)\n",
    "        treeR2 = r2_score(y_test, y_pred).round(4)\n",
    "        accList.append(treeR2)\n",
    "\n",
    "        #CROSS VALIDATE TEST RESULTS:\n",
    "        treeScore = tree.score(X_test, y_test).round(4)  # train test \n",
    "        #print(\"Tree Score: \", treeScore)\n",
    "        treeCV = cross_validate(tree, X, y, cv = 5, scoring= 'r2')\n",
    "        treeCV=treeCV['test_score'].mean().round(4)\n",
    "        cvList.append(treeCV)\n",
    "        #print(treeCV, \" Decision Tree cross validate.\")\n",
    "       # print(treeCV-treeR2, \" validation error\")\n",
    "    \n",
    "    plt.plot(maxLeafNodesList,accList, label=\"line1\")\n",
    "    plt.plot(maxLeafNodesList,cvList, label=\"line2\")\n",
    "    plt.title('Decision Tree Cross Validate')\n",
    "    plt.xlabel('Max Leaf Nodes')\n",
    "    plt.ylabel('Accuracy')\n",
    "    plt.show() \n",
    "#validateLeafTree()"
   ]
  },
  {
   "cell_type": "markdown",
   "id": "e3f087b8",
   "metadata": {
    "papermill": {
     "duration": 0.036966,
     "end_time": "2022-05-30T03:48:15.271820",
     "exception": false,
     "start_time": "2022-05-30T03:48:15.234854",
     "status": "completed"
    },
    "tags": []
   },
   "source": [
    "#### Decision Tree Final Prediction"
   ]
  },
  {
   "cell_type": "code",
   "execution_count": 20,
   "id": "824c2bda",
   "metadata": {
    "execution": {
     "iopub.execute_input": "2022-05-30T03:48:15.348081Z",
     "iopub.status.busy": "2022-05-30T03:48:15.347607Z",
     "iopub.status.idle": "2022-05-30T03:48:15.453761Z",
     "shell.execute_reply": "2022-05-30T03:48:15.453073Z"
    },
    "papermill": {
     "duration": 0.147774,
     "end_time": "2022-05-30T03:48:15.456540",
     "exception": false,
     "start_time": "2022-05-30T03:48:15.308766",
     "status": "completed"
    },
    "tags": []
   },
   "outputs": [
    {
     "name": "stdout",
     "output_type": "stream",
     "text": [
      "AUC for decision tree is:  0.8257\n",
      "R-squared for decision tree is:  0.3384\n",
      "0.4067  is tree MSE \n",
      "TreeScore:  0.2118\n",
      "0.3187  Tree cross validate mean\n"
     ]
    }
   ],
   "source": [
    "tree = DecisionTreeRegressor(\n",
    "    max_leaf_nodes=10, \n",
    "    max_depth=5,\n",
    "    random_state=42)\n",
    "\n",
    "#FIT AND PREDICT:\n",
    "tree.fit(X, y)\n",
    "y_pred = tree.predict(X_test)\n",
    "\n",
    "#AUC and R2 METRICS:\n",
    "treeR2 = r2_score(y_test, y_pred).round(4)\n",
    "treeAUC = round( metrics.roc_auc_score(y_test, y_pred), 4 ) \n",
    "print(\"AUC for decision tree is: \", treeAUC)\n",
    "print(\"R-squared for decision tree is: \", treeR2)\n",
    "\n",
    "treeMSE=np.sqrt(metrics.mean_squared_error(y_test, y_pred))\n",
    "print(round(treeMSE, 4), \" is tree MSE \")\n",
    "\n",
    "#CROSS VALIDATE RESULTS:\n",
    "treeScore = tree.score(X_test, y_test).round(4)  # train test \n",
    "print(\"TreeScore: \", lr_score)\n",
    "treeCV = cross_validate(tree, X, y, cv = 5, scoring= 'r2')\n",
    "treeCV=treeCV['test_score'].mean().round(4)\n",
    "print(treeCV, \" Tree cross validate mean\")"
   ]
  },
  {
   "attachments": {
    "a8cee3f3-3de9-4085-97e0-c0a53abcaa5b.png": {
     "image/png": "[encoded data removed]"
    },
    "cf32c38c-d0f9-400d-ba7f-6845ef2d23a1.png": {
     "image/png": "[encoded data removed]"
    }
   },
   "cell_type": "markdown",
   "id": "4d7b625c",
   "metadata": {
    "papermill": {
     "duration": 0.044748,
     "end_time": "2022-05-30T03:48:15.540227",
     "exception": false,
     "start_time": "2022-05-30T03:48:15.495479",
     "status": "completed"
    },
    "tags": []
   },
   "source": [
    "# Random Forest\n",
    "* 2  n_estimates |  0.7964  AUC |  0.28  MAE\n",
    "* 102  n_estimates |  0.8554  AUC |  0.28  MAE\n",
    "* 202  n_estimates |  0.8554  AUC |  0.28  MAE\n",
    "* 302  n_estimates |  0.8555  AUC |  0.28  MAE\n",
    "* 402  n_estimates |  0.8558  AUC |  0.28  MAE\n",
    "\n",
    "#### Cross Validate: <br>\n",
    "![image.png](attachment:cf32c38c-d0f9-400d-ba7f-6845ef2d23a1.png)\n",
    "![image.png](attachment:a8cee3f3-3de9-4085-97e0-c0a53abcaa5b.png)"
   ]
  },
  {
   "cell_type": "code",
   "execution_count": 21,
   "id": "fac1ada4",
   "metadata": {
    "execution": {
     "iopub.execute_input": "2022-05-30T03:48:15.626995Z",
     "iopub.status.busy": "2022-05-30T03:48:15.626301Z",
     "iopub.status.idle": "2022-05-30T03:48:15.640740Z",
     "shell.execute_reply": "2022-05-30T03:48:15.640132Z"
    },
    "papermill": {
     "duration": 0.058932,
     "end_time": "2022-05-30T03:48:15.642826",
     "exception": false,
     "start_time": "2022-05-30T03:48:15.583894",
     "status": "completed"
    },
    "tags": []
   },
   "outputs": [],
   "source": [
    "from sklearn.ensemble import RandomForestRegressor, RandomForestClassifier\n",
    "\n",
    "#Check for Error and find Best n_estimators:\n",
    "def checkNumEst():\n",
    "    dMAE={} #dictionary of n_estimators as key and MAE as value:\n",
    "    nEst=[] #store n_estimators\n",
    "    cvList=[] #cross validate list\n",
    "    accList=[] #accuracy train data\n",
    "    mae=[] #error\n",
    "    \n",
    "    for n in [2, 10, 30, 50, 70, 100, 120, 150]:\n",
    "        forest = RandomForestRegressor(n_estimators=n, random_state = 0)\n",
    "        forest.fit(X_train, y_train)\n",
    "        y_pred = forest.predict(X_test)\n",
    "        MAE=metrics.mean_absolute_error(y_test, y_pred).round(2)\n",
    "        dMAE[n]=MAE\n",
    "      \n",
    "        #CROSS VALIDATE TEST RESULTS:\n",
    "        forestScore = forest.score(X_test, y_test).round(4)  # train test \n",
    "        forestCV = cross_validate(forest, X, y, cv = 5, scoring= 'r2')\n",
    "        forestCV=forestCV['test_score'].mean().round(4)\n",
    "        \n",
    "        print(\"n_estimates: \", n,  '  Mean Absolute Error:', MAE)\n",
    "        print(\"Forest Score: \", forestScore  ,\"||\" , forestCV, \"cross validate.\")\n",
    "       \n",
    "        nEst.append(n)\n",
    "        cvList.append(forestCV)\n",
    "        accList.append(forestScore)\n",
    "        mae.append(MAE)\n",
    "        \n",
    "    plt.plot(nEst,accList, label=\"line1\")\n",
    "    plt.plot(nEst,cvList, label=\"line2\")\n",
    "    plt.title(\"Forest N_Estimators\")\n",
    "    plt.xlabel('N_estimators')\n",
    "    plt.ylabel('Accuracy')\n",
    "    plt.show() \n",
    "    \n",
    "    dMAE=sorted(((v, k) for k, v in dMAE.items()), reverse=False)\n",
    "    print(dMAE)\n",
    "    \n",
    "def fMaxDepth():\n",
    "    dMAE={} #dictionary of n_estimators as key and MAE as value:\n",
    "    nEst=[] #store n_estimators\n",
    "    cvList=[] #cross validate list\n",
    "    accList=[] #accuracy train data\n",
    "    mae=[] #error\n",
    "    \n",
    "    for n in [2, 3, 5, 7, 10, 15, 20, 30, 40, 50]:\n",
    "        forest = RandomForestRegressor(n_estimators=10, max_depth=n, random_state = 0)\n",
    "        forest.fit(X_train, y_train)\n",
    "        y_pred = forest.predict(X_test)\n",
    "        MAE=metrics.mean_absolute_error(y_test, y_pred).round(2)\n",
    "        dMAE[n]=MAE\n",
    "      \n",
    "        #CROSS VALIDATE TEST RESULTS:\n",
    "        forestScore = forest.score(X_test, y_test).round(4)  # train test \n",
    "        forestCV = cross_validate(forest, X, y, cv = 5, scoring= 'r2')\n",
    "        forestCV=forestCV['test_score'].mean().round(4)\n",
    "        \n",
    "        print(\"max_depth: \", n,  '  Mean Absolute Error:', MAE)\n",
    "        print(\"Forest Score: \", forestScore  ,\"||\" , forestCV, \"cross validate.\")\n",
    "       \n",
    "        nEst.append(n)\n",
    "        cvList.append(forestCV)\n",
    "        accList.append(forestScore)\n",
    "        mae.append(MAE)\n",
    "        \n",
    "    plt.plot(nEst,accList, label=\"line1\")\n",
    "    plt.plot(nEst,cvList, label=\"line2\")\n",
    "    plt.title(\"Forest Max_Depth\")\n",
    "    plt.xlabel('max_depth')\n",
    "    plt.ylabel('Accuracy')\n",
    "    plt.show() \n",
    "    \n",
    "    dMAE=sorted(((v, k) for k, v in dMAE.items()), reverse=False)\n",
    "    print(dMAE)\n",
    "    \n",
    "#checkNumEst() \n",
    "#fMaxDepth()"
   ]
  },
  {
   "cell_type": "markdown",
   "id": "b7da12c7",
   "metadata": {
    "papermill": {
     "duration": 0.037654,
     "end_time": "2022-05-30T03:48:15.718459",
     "exception": false,
     "start_time": "2022-05-30T03:48:15.680805",
     "status": "completed"
    },
    "tags": []
   },
   "source": [
    "#### Forest Final Prediction"
   ]
  },
  {
   "cell_type": "code",
   "execution_count": 22,
   "id": "8fc79e50",
   "metadata": {
    "execution": {
     "iopub.execute_input": "2022-05-30T03:48:15.797491Z",
     "iopub.status.busy": "2022-05-30T03:48:15.797179Z",
     "iopub.status.idle": "2022-05-30T03:48:19.457613Z",
     "shell.execute_reply": "2022-05-30T03:48:19.456206Z"
    },
    "papermill": {
     "duration": 3.70276,
     "end_time": "2022-05-30T03:48:19.460229",
     "exception": false,
     "start_time": "2022-05-30T03:48:15.757469",
     "status": "completed"
    },
    "tags": []
   },
   "outputs": [
    {
     "name": "stdout",
     "output_type": "stream",
     "text": [
      "Random forest AUC:  0.7959\n",
      "Random forest r2:  0.1825\n",
      "Random forest MAE:  0.2\n",
      "Forest Score:  0.7956 || 0.1616 cross validate.\n"
     ]
    }
   ],
   "source": [
    "forest = RandomForestClassifier(\n",
    "    n_estimators=100,\n",
    "    max_depth=8, \n",
    "    random_state = 0)\n",
    "\n",
    "forest.fit(X_train, y_train)\n",
    "y_pred = forest.predict(X_test)\n",
    "\n",
    "#Print Metrics:\n",
    "forestR2 = r2_score(y_test, y_pred).round(4)  \n",
    "forestAUC = round( metrics.roc_auc_score(y_test, y_pred), 4 ) \n",
    "print(\"Random forest AUC: \", forestAUC) \n",
    "print(\"Random forest r2: \", forestR2)\n",
    "\n",
    "forestMAE=metrics.mean_absolute_error(y_test, y_pred).round(2)\n",
    "print(\"Random forest MAE: \", forestMAE)\n",
    "\n",
    "#CROSS VALIDATE TEST RESULTS:\n",
    "forestScore = forest.score(X_test, y_test).round(4)  # train test \n",
    "forestCV = cross_validate(forest, X, y, cv = 5, scoring= 'r2')\n",
    "forestCV=forestCV['test_score'].mean().round(4)\n",
    "print(\"Forest Score: \", forestScore  ,\"||\" , forestCV, \"cross validate.\")"
   ]
  },
  {
   "cell_type": "markdown",
   "id": "4b3d2d8a",
   "metadata": {
    "papermill": {
     "duration": 0.042065,
     "end_time": "2022-05-30T03:48:19.544897",
     "exception": false,
     "start_time": "2022-05-30T03:48:19.502832",
     "status": "completed"
    },
    "tags": []
   },
   "source": [
    "# Test Data"
   ]
  },
  {
   "cell_type": "code",
   "execution_count": 23,
   "id": "56e2cc0d",
   "metadata": {
    "execution": {
     "iopub.execute_input": "2022-05-30T03:48:19.622984Z",
     "iopub.status.busy": "2022-05-30T03:48:19.622679Z",
     "iopub.status.idle": "2022-05-30T03:48:20.421773Z",
     "shell.execute_reply": "2022-05-30T03:48:20.420930Z"
    },
    "papermill": {
     "duration": 0.840964,
     "end_time": "2022-05-30T03:48:20.423824",
     "exception": false,
     "start_time": "2022-05-30T03:48:19.582860",
     "status": "completed"
    },
    "tags": []
   },
   "outputs": [
    {
     "data": {
      "text/html": [
       "<div>\n",
       "<style scoped>\n",
       "    .dataframe tbody tr th:only-of-type {\n",
       "        vertical-align: middle;\n",
       "    }\n",
       "\n",
       "    .dataframe tbody tr th {\n",
       "        vertical-align: top;\n",
       "    }\n",
       "\n",
       "    .dataframe thead th {\n",
       "        text-align: right;\n",
       "    }\n",
       "</style>\n",
       "<table border=\"1\" class=\"dataframe\">\n",
       "  <thead>\n",
       "    <tr style=\"text-align: right;\">\n",
       "      <th></th>\n",
       "      <th>HomePlanet</th>\n",
       "      <th>Cabin</th>\n",
       "      <th>Destination</th>\n",
       "      <th>Age</th>\n",
       "      <th>RoomService</th>\n",
       "      <th>FoodCourt</th>\n",
       "      <th>ShoppingMall</th>\n",
       "      <th>Spa</th>\n",
       "      <th>VRDeck</th>\n",
       "      <th>Adult</th>\n",
       "      <th>Family</th>\n",
       "    </tr>\n",
       "  </thead>\n",
       "  <tbody>\n",
       "    <tr>\n",
       "      <th>0</th>\n",
       "      <td>0.0</td>\n",
       "      <td>6.0</td>\n",
       "      <td>2.0</td>\n",
       "      <td>27.0</td>\n",
       "      <td>0.0</td>\n",
       "      <td>0.0</td>\n",
       "      <td>0.0</td>\n",
       "      <td>0.0</td>\n",
       "      <td>0.0</td>\n",
       "      <td>1</td>\n",
       "      <td>4.0</td>\n",
       "    </tr>\n",
       "    <tr>\n",
       "      <th>1</th>\n",
       "      <td>0.0</td>\n",
       "      <td>5.0</td>\n",
       "      <td>2.0</td>\n",
       "      <td>19.0</td>\n",
       "      <td>0.0</td>\n",
       "      <td>9.0</td>\n",
       "      <td>0.0</td>\n",
       "      <td>2823.0</td>\n",
       "      <td>0.0</td>\n",
       "      <td>0</td>\n",
       "      <td>1.0</td>\n",
       "    </tr>\n",
       "    <tr>\n",
       "      <th>2</th>\n",
       "      <td>1.0</td>\n",
       "      <td>2.0</td>\n",
       "      <td>0.0</td>\n",
       "      <td>31.0</td>\n",
       "      <td>0.0</td>\n",
       "      <td>0.0</td>\n",
       "      <td>0.0</td>\n",
       "      <td>0.0</td>\n",
       "      <td>0.0</td>\n",
       "      <td>1</td>\n",
       "      <td>1.0</td>\n",
       "    </tr>\n",
       "    <tr>\n",
       "      <th>3</th>\n",
       "      <td>1.0</td>\n",
       "      <td>2.0</td>\n",
       "      <td>2.0</td>\n",
       "      <td>38.0</td>\n",
       "      <td>0.0</td>\n",
       "      <td>6652.0</td>\n",
       "      <td>0.0</td>\n",
       "      <td>181.0</td>\n",
       "      <td>585.0</td>\n",
       "      <td>1</td>\n",
       "      <td>1.0</td>\n",
       "    </tr>\n",
       "    <tr>\n",
       "      <th>4</th>\n",
       "      <td>0.0</td>\n",
       "      <td>5.0</td>\n",
       "      <td>2.0</td>\n",
       "      <td>20.0</td>\n",
       "      <td>10.0</td>\n",
       "      <td>0.0</td>\n",
       "      <td>635.0</td>\n",
       "      <td>0.0</td>\n",
       "      <td>0.0</td>\n",
       "      <td>1</td>\n",
       "      <td>3.0</td>\n",
       "    </tr>\n",
       "  </tbody>\n",
       "</table>\n",
       "</div>"
      ],
      "text/plain": [
       "   HomePlanet  Cabin  Destination   Age  RoomService  FoodCourt  ShoppingMall  \\\n",
       "0         0.0    6.0          2.0  27.0          0.0        0.0           0.0   \n",
       "1         0.0    5.0          2.0  19.0          0.0        9.0           0.0   \n",
       "2         1.0    2.0          0.0  31.0          0.0        0.0           0.0   \n",
       "3         1.0    2.0          2.0  38.0          0.0     6652.0           0.0   \n",
       "4         0.0    5.0          2.0  20.0         10.0        0.0         635.0   \n",
       "\n",
       "      Spa  VRDeck  Adult  Family  \n",
       "0     0.0     0.0      1     4.0  \n",
       "1  2823.0     0.0      0     1.0  \n",
       "2     0.0     0.0      1     1.0  \n",
       "3   181.0   585.0      1     1.0  \n",
       "4     0.0     0.0      1     3.0  "
      ]
     },
     "execution_count": 23,
     "metadata": {},
     "output_type": "execute_result"
    }
   ],
   "source": [
    "testDF=pd.read_csv(test)\n",
    "ID=testDF['PassengerId']\n",
    "\n",
    "#FEATURES:\n",
    "testDF['VIP']=testDF['VIP'].astype('str').replace({'False':0, 'True':1})\n",
    "testDF['CryoSleep']=testDF['CryoSleep'].astype('str').replace({'False':0, 'True':1})\n",
    "testDF['Adult'] = testDF['Age'].apply(lambda x: 1 if x > 19 else 0 )\n",
    "\n",
    "#ENCODER\n",
    "testDF['Cabin']=testDF['Cabin'].astype('str').str[0]\n",
    "test_encode = testDF[col_names]\n",
    "testDF[col_names] = encoder.fit_transform(test_encode)\n",
    "\n",
    "#Names:\n",
    "testDF[['First','Last']] = testDF.Name.apply(lambda x: pd.Series(str(x).split(\" \")))\n",
    "testDF['Family']=testDF.groupby('Last')['Last'].transform('count')\n",
    "\n",
    "#Match DF Features:\n",
    "features=X.columns\n",
    "testDF=testDF[features]\n",
    "\n",
    "testDF=testDF.fillna(testDF.mean())\n",
    "testDF.head()"
   ]
  },
  {
   "cell_type": "markdown",
   "id": "5f93d0c0",
   "metadata": {
    "papermill": {
     "duration": 0.038738,
     "end_time": "2022-05-30T03:48:20.501109",
     "exception": false,
     "start_time": "2022-05-30T03:48:20.462371",
     "status": "completed"
    },
    "tags": []
   },
   "source": [
    "# Final Predictions"
   ]
  },
  {
   "cell_type": "code",
   "execution_count": 24,
   "id": "0bdb2c07",
   "metadata": {
    "execution": {
     "iopub.execute_input": "2022-05-30T03:48:20.579534Z",
     "iopub.status.busy": "2022-05-30T03:48:20.579268Z",
     "iopub.status.idle": "2022-05-30T03:48:20.655975Z",
     "shell.execute_reply": "2022-05-30T03:48:20.654986Z"
    },
    "papermill": {
     "duration": 0.118886,
     "end_time": "2022-05-30T03:48:20.658388",
     "exception": false,
     "start_time": "2022-05-30T03:48:20.539502",
     "status": "completed"
    },
    "tags": []
   },
   "outputs": [
    {
     "name": "stdout",
     "output_type": "stream",
     "text": [
      "(4277, 2)\n",
      "PassengerId    object\n",
      "Transported      bool\n",
      "dtype: object\n"
     ]
    },
    {
     "data": {
      "text/html": [
       "<div>\n",
       "<style scoped>\n",
       "    .dataframe tbody tr th:only-of-type {\n",
       "        vertical-align: middle;\n",
       "    }\n",
       "\n",
       "    .dataframe tbody tr th {\n",
       "        vertical-align: top;\n",
       "    }\n",
       "\n",
       "    .dataframe thead th {\n",
       "        text-align: right;\n",
       "    }\n",
       "</style>\n",
       "<table border=\"1\" class=\"dataframe\">\n",
       "  <thead>\n",
       "    <tr style=\"text-align: right;\">\n",
       "      <th></th>\n",
       "      <th>PassengerId</th>\n",
       "      <th>Transported</th>\n",
       "    </tr>\n",
       "  </thead>\n",
       "  <tbody>\n",
       "    <tr>\n",
       "      <th>0</th>\n",
       "      <td>0013_01</td>\n",
       "      <td>True</td>\n",
       "    </tr>\n",
       "    <tr>\n",
       "      <th>1</th>\n",
       "      <td>0018_01</td>\n",
       "      <td>False</td>\n",
       "    </tr>\n",
       "    <tr>\n",
       "      <th>2</th>\n",
       "      <td>0019_01</td>\n",
       "      <td>True</td>\n",
       "    </tr>\n",
       "    <tr>\n",
       "      <th>3</th>\n",
       "      <td>0021_01</td>\n",
       "      <td>True</td>\n",
       "    </tr>\n",
       "    <tr>\n",
       "      <th>4</th>\n",
       "      <td>0023_01</td>\n",
       "      <td>True</td>\n",
       "    </tr>\n",
       "  </tbody>\n",
       "</table>\n",
       "</div>"
      ],
      "text/plain": [
       "  PassengerId  Transported\n",
       "0     0013_01         True\n",
       "1     0018_01        False\n",
       "2     0019_01         True\n",
       "3     0021_01         True\n",
       "4     0023_01         True"
      ]
     },
     "execution_count": 24,
     "metadata": {},
     "output_type": "execute_result"
    }
   ],
   "source": [
    "test_predictions = forest.predict(testDF)\n",
    "tupleData = list(zip(ID, test_predictions))\n",
    "output = pd.DataFrame(tupleData, columns = ['PassengerId', 'Transported'])\n",
    "output['Transported']=output['Transported'].replace({0:False, 1:True})\n",
    "print(output.shape)\n",
    "print(output.dtypes)\n",
    "output.head()"
   ]
  },
  {
   "cell_type": "code",
   "execution_count": 25,
   "id": "c0cdb536",
   "metadata": {
    "execution": {
     "iopub.execute_input": "2022-05-30T03:48:20.740772Z",
     "iopub.status.busy": "2022-05-30T03:48:20.740486Z",
     "iopub.status.idle": "2022-05-30T03:48:20.752720Z",
     "shell.execute_reply": "2022-05-30T03:48:20.751868Z"
    },
    "papermill": {
     "duration": 0.056582,
     "end_time": "2022-05-30T03:48:20.754868",
     "exception": false,
     "start_time": "2022-05-30T03:48:20.698286",
     "status": "completed"
    },
    "tags": []
   },
   "outputs": [
    {
     "name": "stdout",
     "output_type": "stream",
     "text": [
      "Your submission was successfully saved!\n"
     ]
    }
   ],
   "source": [
    "output.to_csv('submission.csv', index=False)\n",
    "print(\"Your submission was successfully saved!\")"
   ]
  }
 ],
 "metadata": {
  "kernelspec": {
   "display_name": "Python 3",
   "language": "python",
   "name": "python3"
  },
  "language_info": {
   "codemirror_mode": {
    "name": "ipython",
    "version": 3
   },
   "file_extension": ".py",
   "mimetype": "text/x-python",
   "name": "python",
   "nbconvert_exporter": "python",
   "pygments_lexer": "ipython3",
   "version": "3.7.12"
  },
  "papermill": {
   "default_parameters": {},
   "duration": 36.199101,
   "end_time": "2022-05-30T03:48:23.415333",
   "environment_variables": {},
   "exception": null,
   "input_path": "__notebook__.ipynb",
   "output_path": "__notebook__.ipynb",
   "parameters": {},
   "start_time": "2022-05-30T03:47:47.216232",
   "version": "2.3.4"
  }
 },
 "nbformat": 4,
 "nbformat_minor": 5
}
