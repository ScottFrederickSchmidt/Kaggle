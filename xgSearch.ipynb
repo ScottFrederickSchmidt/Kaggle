{
 "cells": [
  {
   "cell_type": "markdown",
   "id": "c30663cb",
   "metadata": {
    "papermill": {
     "duration": 0.026611,
     "end_time": "2022-09-22T17:48:21.822241",
     "exception": false,
     "start_time": "2022-09-22T17:48:21.795630",
     "status": "completed"
    },
    "tags": []
   },
   "source": [
    "# XG Boost GridSearch\n",
    "Use machine learning to create a model that predicts which passengers survived the Titanic shipwreck. My original with all models:\n",
    "https://github.com/ScottySchmidt/Kaggle/blob/main/Titanic.ipynb\n",
    "\n",
    "### Special Notes:\n",
    "* Regular XB Boost with little tunning scores top 60%\n",
    "* Tunning four paramters with grid search scores top 18%"
   ]
  },
  {
   "cell_type": "markdown",
   "id": "02316e2c",
   "metadata": {
    "papermill": {
     "duration": 0.024794,
     "end_time": "2022-09-22T17:48:21.873755",
     "exception": false,
     "start_time": "2022-09-22T17:48:21.848961",
     "status": "completed"
    },
    "tags": []
   },
   "source": [
    "# Train Data\n",
    "Train.csv will contain the details of a subset of the passengers on board (891 to be exact) and whether they survive or not. The shape of the train data is (891, 12). "
   ]
  },
  {
   "cell_type": "code",
   "execution_count": 1,
   "id": "4df3d59a",
   "metadata": {
    "execution": {
     "iopub.execute_input": "2022-09-22T17:48:21.932885Z",
     "iopub.status.busy": "2022-09-22T17:48:21.932139Z",
     "iopub.status.idle": "2022-09-22T17:48:23.643862Z",
     "shell.execute_reply": "2022-09-22T17:48:23.642898Z"
    },
    "papermill": {
     "duration": 1.746467,
     "end_time": "2022-09-22T17:48:23.646898",
     "exception": false,
     "start_time": "2022-09-22T17:48:21.900431",
     "status": "completed"
    },
    "tags": []
   },
   "outputs": [
    {
     "name": "stdout",
     "output_type": "stream",
     "text": [
      "(891, 12)\n"
     ]
    },
    {
     "data": {
      "text/html": [
       "<div>\n",
       "<style scoped>\n",
       "    .dataframe tbody tr th:only-of-type {\n",
       "        vertical-align: middle;\n",
       "    }\n",
       "\n",
       "    .dataframe tbody tr th {\n",
       "        vertical-align: top;\n",
       "    }\n",
       "\n",
       "    .dataframe thead th {\n",
       "        text-align: right;\n",
       "    }\n",
       "</style>\n",
       "<table border=\"1\" class=\"dataframe\">\n",
       "  <thead>\n",
       "    <tr style=\"text-align: right;\">\n",
       "      <th></th>\n",
       "      <th>PassengerId</th>\n",
       "      <th>Survived</th>\n",
       "      <th>Pclass</th>\n",
       "      <th>Name</th>\n",
       "      <th>Sex</th>\n",
       "      <th>Age</th>\n",
       "      <th>SibSp</th>\n",
       "      <th>Parch</th>\n",
       "      <th>Ticket</th>\n",
       "      <th>Fare</th>\n",
       "      <th>Cabin</th>\n",
       "      <th>Embarked</th>\n",
       "    </tr>\n",
       "  </thead>\n",
       "  <tbody>\n",
       "    <tr>\n",
       "      <th>0</th>\n",
       "      <td>1</td>\n",
       "      <td>0</td>\n",
       "      <td>3</td>\n",
       "      <td>Braund, Mr. Owen Harris</td>\n",
       "      <td>male</td>\n",
       "      <td>22.0</td>\n",
       "      <td>1</td>\n",
       "      <td>0</td>\n",
       "      <td>A/5 21171</td>\n",
       "      <td>7.2500</td>\n",
       "      <td>NaN</td>\n",
       "      <td>S</td>\n",
       "    </tr>\n",
       "    <tr>\n",
       "      <th>1</th>\n",
       "      <td>2</td>\n",
       "      <td>1</td>\n",
       "      <td>1</td>\n",
       "      <td>Cumings, Mrs. John Bradley (Florence Briggs Th...</td>\n",
       "      <td>female</td>\n",
       "      <td>38.0</td>\n",
       "      <td>1</td>\n",
       "      <td>0</td>\n",
       "      <td>PC 17599</td>\n",
       "      <td>71.2833</td>\n",
       "      <td>C85</td>\n",
       "      <td>C</td>\n",
       "    </tr>\n",
       "    <tr>\n",
       "      <th>2</th>\n",
       "      <td>3</td>\n",
       "      <td>1</td>\n",
       "      <td>3</td>\n",
       "      <td>Heikkinen, Miss. Laina</td>\n",
       "      <td>female</td>\n",
       "      <td>26.0</td>\n",
       "      <td>0</td>\n",
       "      <td>0</td>\n",
       "      <td>STON/O2. 3101282</td>\n",
       "      <td>7.9250</td>\n",
       "      <td>NaN</td>\n",
       "      <td>S</td>\n",
       "    </tr>\n",
       "    <tr>\n",
       "      <th>3</th>\n",
       "      <td>4</td>\n",
       "      <td>1</td>\n",
       "      <td>1</td>\n",
       "      <td>Futrelle, Mrs. Jacques Heath (Lily May Peel)</td>\n",
       "      <td>female</td>\n",
       "      <td>35.0</td>\n",
       "      <td>1</td>\n",
       "      <td>0</td>\n",
       "      <td>113803</td>\n",
       "      <td>53.1000</td>\n",
       "      <td>C123</td>\n",
       "      <td>S</td>\n",
       "    </tr>\n",
       "    <tr>\n",
       "      <th>4</th>\n",
       "      <td>5</td>\n",
       "      <td>0</td>\n",
       "      <td>3</td>\n",
       "      <td>Allen, Mr. William Henry</td>\n",
       "      <td>male</td>\n",
       "      <td>35.0</td>\n",
       "      <td>0</td>\n",
       "      <td>0</td>\n",
       "      <td>373450</td>\n",
       "      <td>8.0500</td>\n",
       "      <td>NaN</td>\n",
       "      <td>S</td>\n",
       "    </tr>\n",
       "  </tbody>\n",
       "</table>\n",
       "</div>"
      ],
      "text/plain": [
       "   PassengerId  Survived  Pclass  \\\n",
       "0            1         0       3   \n",
       "1            2         1       1   \n",
       "2            3         1       3   \n",
       "3            4         1       1   \n",
       "4            5         0       3   \n",
       "\n",
       "                                                Name     Sex   Age  SibSp  \\\n",
       "0                            Braund, Mr. Owen Harris    male  22.0      1   \n",
       "1  Cumings, Mrs. John Bradley (Florence Briggs Th...  female  38.0      1   \n",
       "2                             Heikkinen, Miss. Laina  female  26.0      0   \n",
       "3       Futrelle, Mrs. Jacques Heath (Lily May Peel)  female  35.0      1   \n",
       "4                           Allen, Mr. William Henry    male  35.0      0   \n",
       "\n",
       "   Parch            Ticket     Fare Cabin Embarked  \n",
       "0      0         A/5 21171   7.2500   NaN        S  \n",
       "1      0          PC 17599  71.2833   C85        C  \n",
       "2      0  STON/O2. 3101282   7.9250   NaN        S  \n",
       "3      0            113803  53.1000  C123        S  \n",
       "4      0            373450   8.0500   NaN        S  "
      ]
     },
     "execution_count": 1,
     "metadata": {},
     "output_type": "execute_result"
    }
   ],
   "source": [
    "import numpy as np\n",
    "import pandas as pd\n",
    "import seaborn as sns\n",
    "import matplotlib.pyplot as plt\n",
    "from sklearn.model_selection import train_test_split, cross_validate\n",
    "from statistics import mean\n",
    "from sklearn.metrics import accuracy_score, classification_report, mean_absolute_error, mean_squared_error, r2_score\n",
    "from sklearn.datasets import make_classification\n",
    "from sklearn import ensemble\n",
    "import sklearn.metrics as metrics\n",
    "import time\n",
    "from math import sqrt\n",
    "\n",
    "train=r'/kaggle/input/titanic/train.csv'\n",
    "test=r'/kaggle/input/titanic/test.csv' \n",
    "\n",
    "df=pd.read_csv(train)\n",
    "test=pd.read_csv(test)\n",
    "\n",
    "print(df.shape)\n",
    "df.head()"
   ]
  },
  {
   "cell_type": "code",
   "execution_count": 2,
   "id": "19e2660e",
   "metadata": {
    "execution": {
     "iopub.execute_input": "2022-09-22T17:48:23.698688Z",
     "iopub.status.busy": "2022-09-22T17:48:23.698390Z",
     "iopub.status.idle": "2022-09-22T17:48:23.705803Z",
     "shell.execute_reply": "2022-09-22T17:48:23.704971Z"
    },
    "papermill": {
     "duration": 0.035392,
     "end_time": "2022-09-22T17:48:23.707810",
     "exception": false,
     "start_time": "2022-09-22T17:48:23.672418",
     "status": "completed"
    },
    "tags": []
   },
   "outputs": [
    {
     "data": {
      "text/plain": [
       "PassengerId      int64\n",
       "Survived         int64\n",
       "Pclass           int64\n",
       "Name            object\n",
       "Sex             object\n",
       "Age            float64\n",
       "SibSp            int64\n",
       "Parch            int64\n",
       "Ticket          object\n",
       "Fare           float64\n",
       "Cabin           object\n",
       "Embarked        object\n",
       "dtype: object"
      ]
     },
     "execution_count": 2,
     "metadata": {},
     "output_type": "execute_result"
    }
   ],
   "source": [
    "df.dtypes"
   ]
  },
  {
   "cell_type": "code",
   "execution_count": 3,
   "id": "5e8fa4d2",
   "metadata": {
    "execution": {
     "iopub.execute_input": "2022-09-22T17:48:23.759770Z",
     "iopub.status.busy": "2022-09-22T17:48:23.759437Z",
     "iopub.status.idle": "2022-09-22T17:48:23.785386Z",
     "shell.execute_reply": "2022-09-22T17:48:23.784382Z"
    },
    "papermill": {
     "duration": 0.055316,
     "end_time": "2022-09-22T17:48:23.788286",
     "exception": false,
     "start_time": "2022-09-22T17:48:23.732970",
     "status": "completed"
    },
    "tags": []
   },
   "outputs": [
    {
     "name": "stdout",
     "output_type": "stream",
     "text": [
      "Total no of duplicate values in Training Dataset = 0\n"
     ]
    },
    {
     "data": {
      "text/html": [
       "<div>\n",
       "<style scoped>\n",
       "    .dataframe tbody tr th:only-of-type {\n",
       "        vertical-align: middle;\n",
       "    }\n",
       "\n",
       "    .dataframe tbody tr th {\n",
       "        vertical-align: top;\n",
       "    }\n",
       "\n",
       "    .dataframe thead th {\n",
       "        text-align: right;\n",
       "    }\n",
       "</style>\n",
       "<table border=\"1\" class=\"dataframe\">\n",
       "  <thead>\n",
       "    <tr style=\"text-align: right;\">\n",
       "      <th></th>\n",
       "      <th>PassengerId</th>\n",
       "      <th>Survived</th>\n",
       "      <th>Pclass</th>\n",
       "      <th>Name</th>\n",
       "      <th>Sex</th>\n",
       "      <th>Age</th>\n",
       "      <th>SibSp</th>\n",
       "      <th>Parch</th>\n",
       "      <th>Ticket</th>\n",
       "      <th>Fare</th>\n",
       "      <th>Cabin</th>\n",
       "      <th>Embarked</th>\n",
       "    </tr>\n",
       "  </thead>\n",
       "  <tbody>\n",
       "  </tbody>\n",
       "</table>\n",
       "</div>"
      ],
      "text/plain": [
       "Empty DataFrame\n",
       "Columns: [PassengerId, Survived, Pclass, Name, Sex, Age, SibSp, Parch, Ticket, Fare, Cabin, Embarked]\n",
       "Index: []"
      ]
     },
     "execution_count": 3,
     "metadata": {},
     "output_type": "execute_result"
    }
   ],
   "source": [
    "#Check Duplicates:\n",
    "dupstr = df.duplicated()\n",
    "print('Total no of duplicate values in Training Dataset = %d' % (dupstr.sum()))\n",
    "df[dupstr]"
   ]
  },
  {
   "cell_type": "code",
   "execution_count": 4,
   "id": "3de8ec0e",
   "metadata": {
    "execution": {
     "iopub.execute_input": "2022-09-22T17:48:23.844466Z",
     "iopub.status.busy": "2022-09-22T17:48:23.843181Z",
     "iopub.status.idle": "2022-09-22T17:48:23.853319Z",
     "shell.execute_reply": "2022-09-22T17:48:23.852016Z"
    },
    "papermill": {
     "duration": 0.04057,
     "end_time": "2022-09-22T17:48:23.856041",
     "exception": false,
     "start_time": "2022-09-22T17:48:23.815471",
     "status": "completed"
    },
    "tags": []
   },
   "outputs": [
    {
     "name": "stdout",
     "output_type": "stream",
     "text": [
      "Missing data by column as a percent:\n",
      "Cabin          0.771044\n",
      "Age            0.198653\n",
      "Embarked       0.002245\n",
      "PassengerId    0.000000\n",
      "Survived       0.000000\n",
      "dtype: float64\n"
     ]
    }
   ],
   "source": [
    "#search for columns with missing values:\n",
    "def findNA():\n",
    "    print(\"Missing data by column as a percent:\")\n",
    "    findNA=df.isnull().sum().sort_values(ascending=False)/len(df)\n",
    "    print(findNA.head())\n",
    "findNA() "
   ]
  },
  {
   "cell_type": "markdown",
   "id": "5402c743",
   "metadata": {
    "papermill": {
     "duration": 0.027933,
     "end_time": "2022-09-22T17:48:23.911289",
     "exception": false,
     "start_time": "2022-09-22T17:48:23.883356",
     "status": "completed"
    },
    "tags": []
   },
   "source": [
    "# Feature Engineer\n",
    "We need to replace male and female into numbers. This is a very important part of the process because gender is one of the highest predictors on if a person survived or not."
   ]
  },
  {
   "cell_type": "code",
   "execution_count": 5,
   "id": "ec73b8a3",
   "metadata": {
    "execution": {
     "iopub.execute_input": "2022-09-22T17:48:23.967861Z",
     "iopub.status.busy": "2022-09-22T17:48:23.967294Z",
     "iopub.status.idle": "2022-09-22T17:48:23.972632Z",
     "shell.execute_reply": "2022-09-22T17:48:23.971887Z"
    },
    "papermill": {
     "duration": 0.036882,
     "end_time": "2022-09-22T17:48:23.974610",
     "exception": false,
     "start_time": "2022-09-22T17:48:23.937728",
     "status": "completed"
    },
    "tags": []
   },
   "outputs": [],
   "source": [
    "#GENDER\n",
    "df['Sex']=df['Sex'].map({'female':0,'male':1})"
   ]
  },
  {
   "cell_type": "markdown",
   "id": "a244de68",
   "metadata": {
    "papermill": {
     "duration": 0.027286,
     "end_time": "2022-09-22T17:48:24.028458",
     "exception": false,
     "start_time": "2022-09-22T17:48:24.001172",
     "status": "completed"
    },
    "tags": []
   },
   "source": [
    "Females whose number is 0 had a much higher chance of surving than males. Later on, doing the importance feature analysis we will view that gender is actually one of the highest predictors. "
   ]
  },
  {
   "cell_type": "code",
   "execution_count": 6,
   "id": "89661f10",
   "metadata": {
    "execution": {
     "iopub.execute_input": "2022-09-22T17:48:24.083929Z",
     "iopub.status.busy": "2022-09-22T17:48:24.083368Z",
     "iopub.status.idle": "2022-09-22T17:48:24.112035Z",
     "shell.execute_reply": "2022-09-22T17:48:24.111211Z"
    },
    "papermill": {
     "duration": 0.058727,
     "end_time": "2022-09-22T17:48:24.114288",
     "exception": false,
     "start_time": "2022-09-22T17:48:24.055561",
     "status": "completed"
    },
    "tags": []
   },
   "outputs": [
    {
     "data": {
      "text/html": [
       "<div>\n",
       "<style scoped>\n",
       "    .dataframe tbody tr th:only-of-type {\n",
       "        vertical-align: middle;\n",
       "    }\n",
       "\n",
       "    .dataframe tbody tr th {\n",
       "        vertical-align: top;\n",
       "    }\n",
       "\n",
       "    .dataframe thead th {\n",
       "        text-align: right;\n",
       "    }\n",
       "</style>\n",
       "<table border=\"1\" class=\"dataframe\">\n",
       "  <thead>\n",
       "    <tr style=\"text-align: right;\">\n",
       "      <th>Sex</th>\n",
       "      <th>0</th>\n",
       "      <th>1</th>\n",
       "    </tr>\n",
       "    <tr>\n",
       "      <th>Survived</th>\n",
       "      <th></th>\n",
       "      <th></th>\n",
       "    </tr>\n",
       "  </thead>\n",
       "  <tbody>\n",
       "    <tr>\n",
       "      <th>0</th>\n",
       "      <td>81</td>\n",
       "      <td>468</td>\n",
       "    </tr>\n",
       "    <tr>\n",
       "      <th>1</th>\n",
       "      <td>233</td>\n",
       "      <td>109</td>\n",
       "    </tr>\n",
       "  </tbody>\n",
       "</table>\n",
       "</div>"
      ],
      "text/plain": [
       "Sex         0    1\n",
       "Survived          \n",
       "0          81  468\n",
       "1         233  109"
      ]
     },
     "execution_count": 6,
     "metadata": {},
     "output_type": "execute_result"
    }
   ],
   "source": [
    "genderTable = pd.crosstab(df['Survived'],df['Sex'])\n",
    "genderTable"
   ]
  },
  {
   "cell_type": "markdown",
   "id": "1e6c2468",
   "metadata": {
    "papermill": {
     "duration": 0.026937,
     "end_time": "2022-09-22T17:48:24.169496",
     "exception": false,
     "start_time": "2022-09-22T17:48:24.142559",
     "status": "completed"
    },
    "tags": []
   },
   "source": [
    "# Encode Categorical Variables\n",
    "Encode Categorical Variables is needed for this dataset since there are many important variables that are not numeric yet. \n",
    "\n",
    "There are three classes C, Q, and S. Class C seems to have the highest chance of survival. Class S has the lowest chance of survival. Unfornately this would tend to show that economic status seems to played a part in the decision if someone survived or not. Embarked does not play role major role in feature importance. "
   ]
  },
  {
   "cell_type": "code",
   "execution_count": 7,
   "id": "53e0f743",
   "metadata": {
    "execution": {
     "iopub.execute_input": "2022-09-22T17:48:24.225155Z",
     "iopub.status.busy": "2022-09-22T17:48:24.224884Z",
     "iopub.status.idle": "2022-09-22T17:48:24.425857Z",
     "shell.execute_reply": "2022-09-22T17:48:24.424849Z"
    },
    "papermill": {
     "duration": 0.231735,
     "end_time": "2022-09-22T17:48:24.428373",
     "exception": false,
     "start_time": "2022-09-22T17:48:24.196638",
     "status": "completed"
    },
    "tags": []
   },
   "outputs": [],
   "source": [
    "import category_encoders as ce\n",
    "#encoder = ce.OrdinalEncoder(cols=['Embarked'])\n",
    "\n",
    "#df = encoder.fit_transform(df)\n",
    "#test = encoder.fit_transform(test)\n",
    "#test.head()"
   ]
  },
  {
   "cell_type": "markdown",
   "id": "f2a28c6a",
   "metadata": {
    "papermill": {
     "duration": 0.026837,
     "end_time": "2022-09-22T17:48:24.482622",
     "exception": false,
     "start_time": "2022-09-22T17:48:24.455785",
     "status": "completed"
    },
    "tags": []
   },
   "source": [
    "# Examine Target Variable\n",
    "Survived is the Y variable we will be analyzing. Since the survival rete is 0.384 the data is not considered unbalanced. "
   ]
  },
  {
   "cell_type": "code",
   "execution_count": 8,
   "id": "f428aabe",
   "metadata": {
    "execution": {
     "iopub.execute_input": "2022-09-22T17:48:24.538278Z",
     "iopub.status.busy": "2022-09-22T17:48:24.537968Z",
     "iopub.status.idle": "2022-09-22T17:48:24.545941Z",
     "shell.execute_reply": "2022-09-22T17:48:24.545023Z"
    },
    "papermill": {
     "duration": 0.038285,
     "end_time": "2022-09-22T17:48:24.548003",
     "exception": false,
     "start_time": "2022-09-22T17:48:24.509718",
     "status": "completed"
    },
    "tags": []
   },
   "outputs": [
    {
     "name": "stdout",
     "output_type": "stream",
     "text": [
      "0    549\n",
      "1    342\n",
      "Name: Survived, dtype: int64\n",
      "Percent that survived:  0.384\n"
     ]
    }
   ],
   "source": [
    "temp=df['Survived'].value_counts()\n",
    "print(temp)\n",
    "no=temp[0]\n",
    "yes=temp[1]\n",
    "percent=round(yes/(yes+no),3)\n",
    "print(\"Percent that survived: \", percent)"
   ]
  },
  {
   "cell_type": "markdown",
   "id": "623904a9",
   "metadata": {
    "papermill": {
     "duration": 0.027056,
     "end_time": "2022-09-22T17:48:24.602513",
     "exception": false,
     "start_time": "2022-09-22T17:48:24.575457",
     "status": "completed"
    },
    "tags": []
   },
   "source": [
    "# Numeric DataFrame\n",
    "For now, we will analyze only numeric values. Categorical values will need to be encoded or analyzed individually."
   ]
  },
  {
   "cell_type": "code",
   "execution_count": 9,
   "id": "90308a61",
   "metadata": {
    "execution": {
     "iopub.execute_input": "2022-09-22T17:48:24.658989Z",
     "iopub.status.busy": "2022-09-22T17:48:24.658536Z",
     "iopub.status.idle": "2022-09-22T17:48:24.673293Z",
     "shell.execute_reply": "2022-09-22T17:48:24.672412Z"
    },
    "papermill": {
     "duration": 0.045656,
     "end_time": "2022-09-22T17:48:24.675457",
     "exception": false,
     "start_time": "2022-09-22T17:48:24.629801",
     "status": "completed"
    },
    "tags": []
   },
   "outputs": [
    {
     "data": {
      "text/html": [
       "<div>\n",
       "<style scoped>\n",
       "    .dataframe tbody tr th:only-of-type {\n",
       "        vertical-align: middle;\n",
       "    }\n",
       "\n",
       "    .dataframe tbody tr th {\n",
       "        vertical-align: top;\n",
       "    }\n",
       "\n",
       "    .dataframe thead th {\n",
       "        text-align: right;\n",
       "    }\n",
       "</style>\n",
       "<table border=\"1\" class=\"dataframe\">\n",
       "  <thead>\n",
       "    <tr style=\"text-align: right;\">\n",
       "      <th></th>\n",
       "      <th>PassengerId</th>\n",
       "      <th>Survived</th>\n",
       "      <th>Pclass</th>\n",
       "      <th>Sex</th>\n",
       "      <th>Age</th>\n",
       "      <th>SibSp</th>\n",
       "      <th>Parch</th>\n",
       "      <th>Fare</th>\n",
       "    </tr>\n",
       "  </thead>\n",
       "  <tbody>\n",
       "    <tr>\n",
       "      <th>0</th>\n",
       "      <td>1</td>\n",
       "      <td>0</td>\n",
       "      <td>3</td>\n",
       "      <td>1</td>\n",
       "      <td>22.0</td>\n",
       "      <td>1</td>\n",
       "      <td>0</td>\n",
       "      <td>7.2500</td>\n",
       "    </tr>\n",
       "    <tr>\n",
       "      <th>1</th>\n",
       "      <td>2</td>\n",
       "      <td>1</td>\n",
       "      <td>1</td>\n",
       "      <td>0</td>\n",
       "      <td>38.0</td>\n",
       "      <td>1</td>\n",
       "      <td>0</td>\n",
       "      <td>71.2833</td>\n",
       "    </tr>\n",
       "    <tr>\n",
       "      <th>2</th>\n",
       "      <td>3</td>\n",
       "      <td>1</td>\n",
       "      <td>3</td>\n",
       "      <td>0</td>\n",
       "      <td>26.0</td>\n",
       "      <td>0</td>\n",
       "      <td>0</td>\n",
       "      <td>7.9250</td>\n",
       "    </tr>\n",
       "    <tr>\n",
       "      <th>3</th>\n",
       "      <td>4</td>\n",
       "      <td>1</td>\n",
       "      <td>1</td>\n",
       "      <td>0</td>\n",
       "      <td>35.0</td>\n",
       "      <td>1</td>\n",
       "      <td>0</td>\n",
       "      <td>53.1000</td>\n",
       "    </tr>\n",
       "    <tr>\n",
       "      <th>4</th>\n",
       "      <td>5</td>\n",
       "      <td>0</td>\n",
       "      <td>3</td>\n",
       "      <td>1</td>\n",
       "      <td>35.0</td>\n",
       "      <td>0</td>\n",
       "      <td>0</td>\n",
       "      <td>8.0500</td>\n",
       "    </tr>\n",
       "  </tbody>\n",
       "</table>\n",
       "</div>"
      ],
      "text/plain": [
       "   PassengerId  Survived  Pclass  Sex   Age  SibSp  Parch     Fare\n",
       "0            1         0       3    1  22.0      1      0   7.2500\n",
       "1            2         1       1    0  38.0      1      0  71.2833\n",
       "2            3         1       3    0  26.0      0      0   7.9250\n",
       "3            4         1       1    0  35.0      1      0  53.1000\n",
       "4            5         0       3    1  35.0      0      0   8.0500"
      ]
     },
     "execution_count": 9,
     "metadata": {},
     "output_type": "execute_result"
    }
   ],
   "source": [
    "numerics = ['int16', 'int32', 'int64', 'float16', 'float32', 'float64']\n",
    "df = df.select_dtypes(include=numerics)\n",
    "df.head()"
   ]
  },
  {
   "cell_type": "markdown",
   "id": "7f91a94c",
   "metadata": {
    "papermill": {
     "duration": 0.027449,
     "end_time": "2022-09-22T17:48:24.730471",
     "exception": false,
     "start_time": "2022-09-22T17:48:24.703022",
     "status": "completed"
    },
    "tags": []
   },
   "source": [
    "# Check for missing values\n",
    "Age is missing around 20% of values.Therefore, we can simply fill in the mean for that one column."
   ]
  },
  {
   "cell_type": "code",
   "execution_count": 10,
   "id": "247cb4ce",
   "metadata": {
    "execution": {
     "iopub.execute_input": "2022-09-22T17:48:24.787888Z",
     "iopub.status.busy": "2022-09-22T17:48:24.787444Z",
     "iopub.status.idle": "2022-09-22T17:48:24.796380Z",
     "shell.execute_reply": "2022-09-22T17:48:24.795287Z"
    },
    "papermill": {
     "duration": 0.040382,
     "end_time": "2022-09-22T17:48:24.798595",
     "exception": false,
     "start_time": "2022-09-22T17:48:24.758213",
     "status": "completed"
    },
    "tags": []
   },
   "outputs": [
    {
     "name": "stdout",
     "output_type": "stream",
     "text": [
      "Missing data by column as a percent:\n",
      "Age            0.198653\n",
      "PassengerId    0.000000\n",
      "Survived       0.000000\n",
      "Pclass         0.000000\n",
      "Sex            0.000000\n",
      "dtype: float64\n"
     ]
    }
   ],
   "source": [
    "#search for columns with missing values:\n",
    "def findNA():\n",
    "    print(\"Missing data by column as a percent:\")\n",
    "    findNA=df.isnull().sum().sort_values(ascending=False)/len(df)\n",
    "    print(findNA.head())\n",
    "findNA() "
   ]
  },
  {
   "cell_type": "code",
   "execution_count": 11,
   "id": "3a511330",
   "metadata": {
    "execution": {
     "iopub.execute_input": "2022-09-22T17:48:24.857950Z",
     "iopub.status.busy": "2022-09-22T17:48:24.857183Z",
     "iopub.status.idle": "2022-09-22T17:48:24.864768Z",
     "shell.execute_reply": "2022-09-22T17:48:24.863978Z"
    },
    "papermill": {
     "duration": 0.040103,
     "end_time": "2022-09-22T17:48:24.866890",
     "exception": false,
     "start_time": "2022-09-22T17:48:24.826787",
     "status": "completed"
    },
    "tags": []
   },
   "outputs": [],
   "source": [
    "df= df.fillna(df.mean())"
   ]
  },
  {
   "cell_type": "markdown",
   "id": "275676d3",
   "metadata": {
    "papermill": {
     "duration": 0.03073,
     "end_time": "2022-09-22T17:48:24.926635",
     "exception": false,
     "start_time": "2022-09-22T17:48:24.895905",
     "status": "completed"
    },
    "tags": []
   },
   "source": [
    "# Split Data"
   ]
  },
  {
   "cell_type": "code",
   "execution_count": 12,
   "id": "40f3abd5",
   "metadata": {
    "execution": {
     "iopub.execute_input": "2022-09-22T17:48:24.984856Z",
     "iopub.status.busy": "2022-09-22T17:48:24.984285Z",
     "iopub.status.idle": "2022-09-22T17:48:24.991241Z",
     "shell.execute_reply": "2022-09-22T17:48:24.990588Z"
    },
    "papermill": {
     "duration": 0.038722,
     "end_time": "2022-09-22T17:48:24.993478",
     "exception": false,
     "start_time": "2022-09-22T17:48:24.954756",
     "status": "completed"
    },
    "tags": []
   },
   "outputs": [],
   "source": [
    "X=df.drop('Survived', axis=1)\n",
    "y=df['Survived']\n",
    "\n",
    "X_train, X_test, y_train, y_test = train_test_split(\n",
    "    X, y, test_size = 0.30, random_state = 42)"
   ]
  },
  {
   "cell_type": "markdown",
   "id": "0000af9d",
   "metadata": {
    "papermill": {
     "duration": 0.02805,
     "end_time": "2022-09-22T17:48:25.049841",
     "exception": false,
     "start_time": "2022-09-22T17:48:25.021791",
     "status": "completed"
    },
    "tags": []
   },
   "source": [
    "# Highly Correlated Features\n",
    "There are no highly correlated variables above 80%. Therefore, we do not need to be concerned about removing variables that are too highly correlated. "
   ]
  },
  {
   "cell_type": "markdown",
   "id": "b4822558",
   "metadata": {
    "papermill": {
     "duration": 0.027609,
     "end_time": "2022-09-22T17:48:25.105656",
     "exception": false,
     "start_time": "2022-09-22T17:48:25.078047",
     "status": "completed"
    },
    "tags": []
   },
   "source": [
    "# XGBOOST"
   ]
  },
  {
   "cell_type": "code",
   "execution_count": 13,
   "id": "a31ac807",
   "metadata": {
    "execution": {
     "iopub.execute_input": "2022-09-22T17:48:25.163719Z",
     "iopub.status.busy": "2022-09-22T17:48:25.163090Z",
     "iopub.status.idle": "2022-09-22T17:49:10.995798Z",
     "shell.execute_reply": "2022-09-22T17:49:10.994788Z"
    },
    "papermill": {
     "duration": 45.892858,
     "end_time": "2022-09-22T17:49:11.026748",
     "exception": false,
     "start_time": "2022-09-22T17:48:25.133890",
     "status": "completed"
    },
    "tags": []
   },
   "outputs": [
    {
     "name": "stdout",
     "output_type": "stream",
     "text": [
      "Start\n",
      "{'gamma': 2, 'learning_rate': 0.3, 'max_depth': 3, 'min_child_weight': 1, 'n_estimators': 100}\n",
      "Done.  45.71243214607239  seconds\n"
     ]
    }
   ],
   "source": [
    "import xgboost as xgb\n",
    "from xgboost import XGBClassifier\n",
    "from sklearn.model_selection import GridSearchCV\n",
    "\n",
    "start=time.time()\n",
    "print(\"Start\")\n",
    "\n",
    "params = {\n",
    "        'learning_rate': [0.01, 0.3],\n",
    "        'n_estimators':[100],\n",
    "        'min_child_weight': [1, 5, 10],\n",
    "        'gamma': [0.5, 2, 5],\n",
    "        #'colsample_bytree': [0.6, 1.0],\n",
    "        'max_depth': [3, 6, 9]\n",
    "        }\n",
    "\n",
    "boost_gs = xgb.XGBClassifier()\n",
    "boost_gs = GridSearchCV(boost_gs,param_grid=params,cv=3,scoring=\"accuracy\")\n",
    "boost_gs.fit(X_train,y_train)\n",
    "\n",
    "print(boost_gs.best_params_)\n",
    "print(\"Done. \" , time.time()-start, \" seconds\")"
   ]
  },
  {
   "cell_type": "code",
   "execution_count": 14,
   "id": "e7e37a27",
   "metadata": {
    "execution": {
     "iopub.execute_input": "2022-09-22T17:49:11.086282Z",
     "iopub.status.busy": "2022-09-22T17:49:11.085956Z",
     "iopub.status.idle": "2022-09-22T17:53:07.191403Z",
     "shell.execute_reply": "2022-09-22T17:53:07.190408Z"
    },
    "papermill": {
     "duration": 236.165094,
     "end_time": "2022-09-22T17:53:07.220713",
     "exception": false,
     "start_time": "2022-09-22T17:49:11.055619",
     "status": "completed"
    },
    "tags": []
   },
   "outputs": [
    {
     "name": "stdout",
     "output_type": "stream",
     "text": [
      "0.7938000000000001  cross validate score\n"
     ]
    }
   ],
   "source": [
    "xgb_pred =  boost_gs.predict(X_test)\n",
    "\n",
    "#calculate AUC of model\n",
    "xgbAUC = round( metrics.roc_auc_score(y_test, xgb_pred), 4 ) \n",
    "#print(\"AUC for XGB is: \", xgbAUC)\n",
    "\n",
    "xgbMSE = mean_squared_error(y_test, xgb_pred)\n",
    "#print(\"MSE XGB on test set: {:.4f}\".format(xgbMSE))\n",
    "\n",
    " #CROSS VALIDATE TEST RESULTS:\n",
    "boostScore =  boost_gs.score(X_test, y_test).round(4)  # train test \n",
    "boostCV = cross_validate( boost_gs, X, y, cv = 5, scoring= 'r2')\n",
    "boostCV=boostCV['test_score'].mean().round(4)\n",
    "print(boostScore-boostCV, \" cross validate score\")"
   ]
  },
  {
   "cell_type": "markdown",
   "id": "cd2fc710",
   "metadata": {
    "papermill": {
     "duration": 0.029952,
     "end_time": "2022-09-22T17:53:07.282755",
     "exception": false,
     "start_time": "2022-09-22T17:53:07.252803",
     "status": "completed"
    },
    "tags": []
   },
   "source": [
    "# Test Data"
   ]
  },
  {
   "cell_type": "code",
   "execution_count": 15,
   "id": "de118401",
   "metadata": {
    "execution": {
     "iopub.execute_input": "2022-09-22T17:53:07.344492Z",
     "iopub.status.busy": "2022-09-22T17:53:07.344167Z",
     "iopub.status.idle": "2022-09-22T17:53:07.364570Z",
     "shell.execute_reply": "2022-09-22T17:53:07.363586Z"
    },
    "papermill": {
     "duration": 0.053781,
     "end_time": "2022-09-22T17:53:07.366915",
     "exception": false,
     "start_time": "2022-09-22T17:53:07.313134",
     "status": "completed"
    },
    "tags": []
   },
   "outputs": [
    {
     "data": {
      "text/html": [
       "<div>\n",
       "<style scoped>\n",
       "    .dataframe tbody tr th:only-of-type {\n",
       "        vertical-align: middle;\n",
       "    }\n",
       "\n",
       "    .dataframe tbody tr th {\n",
       "        vertical-align: top;\n",
       "    }\n",
       "\n",
       "    .dataframe thead th {\n",
       "        text-align: right;\n",
       "    }\n",
       "</style>\n",
       "<table border=\"1\" class=\"dataframe\">\n",
       "  <thead>\n",
       "    <tr style=\"text-align: right;\">\n",
       "      <th></th>\n",
       "      <th>PassengerId</th>\n",
       "      <th>Pclass</th>\n",
       "      <th>Sex</th>\n",
       "      <th>Age</th>\n",
       "      <th>SibSp</th>\n",
       "      <th>Parch</th>\n",
       "      <th>Fare</th>\n",
       "    </tr>\n",
       "  </thead>\n",
       "  <tbody>\n",
       "    <tr>\n",
       "      <th>0</th>\n",
       "      <td>892</td>\n",
       "      <td>3</td>\n",
       "      <td>1</td>\n",
       "      <td>34.5</td>\n",
       "      <td>0</td>\n",
       "      <td>0</td>\n",
       "      <td>7.8292</td>\n",
       "    </tr>\n",
       "    <tr>\n",
       "      <th>1</th>\n",
       "      <td>893</td>\n",
       "      <td>3</td>\n",
       "      <td>0</td>\n",
       "      <td>47.0</td>\n",
       "      <td>1</td>\n",
       "      <td>0</td>\n",
       "      <td>7.0000</td>\n",
       "    </tr>\n",
       "    <tr>\n",
       "      <th>2</th>\n",
       "      <td>894</td>\n",
       "      <td>2</td>\n",
       "      <td>1</td>\n",
       "      <td>62.0</td>\n",
       "      <td>0</td>\n",
       "      <td>0</td>\n",
       "      <td>9.6875</td>\n",
       "    </tr>\n",
       "    <tr>\n",
       "      <th>3</th>\n",
       "      <td>895</td>\n",
       "      <td>3</td>\n",
       "      <td>1</td>\n",
       "      <td>27.0</td>\n",
       "      <td>0</td>\n",
       "      <td>0</td>\n",
       "      <td>8.6625</td>\n",
       "    </tr>\n",
       "    <tr>\n",
       "      <th>4</th>\n",
       "      <td>896</td>\n",
       "      <td>3</td>\n",
       "      <td>0</td>\n",
       "      <td>22.0</td>\n",
       "      <td>1</td>\n",
       "      <td>1</td>\n",
       "      <td>12.2875</td>\n",
       "    </tr>\n",
       "  </tbody>\n",
       "</table>\n",
       "</div>"
      ],
      "text/plain": [
       "   PassengerId  Pclass  Sex   Age  SibSp  Parch     Fare\n",
       "0          892       3    1  34.5      0      0   7.8292\n",
       "1          893       3    0  47.0      1      0   7.0000\n",
       "2          894       2    1  62.0      0      0   9.6875\n",
       "3          895       3    1  27.0      0      0   8.6625\n",
       "4          896       3    0  22.0      1      1  12.2875"
      ]
     },
     "execution_count": 15,
     "metadata": {},
     "output_type": "execute_result"
    }
   ],
   "source": [
    "#GENDER\n",
    "test['Sex']=test['Sex'].map({'female':0,'male':1})\n",
    "\n",
    "features=list(X.columns)\n",
    "test=test[features]\n",
    "\n",
    "test=test.fillna(test.mean())\n",
    "test.head()"
   ]
  },
  {
   "cell_type": "markdown",
   "id": "8ef838ca",
   "metadata": {
    "papermill": {
     "duration": 0.03164,
     "end_time": "2022-09-22T17:53:07.428732",
     "exception": false,
     "start_time": "2022-09-22T17:53:07.397092",
     "status": "completed"
    },
    "tags": []
   },
   "source": [
    "# Final Prediction"
   ]
  },
  {
   "cell_type": "code",
   "execution_count": 16,
   "id": "2800974a",
   "metadata": {
    "execution": {
     "iopub.execute_input": "2022-09-22T17:53:07.490667Z",
     "iopub.status.busy": "2022-09-22T17:53:07.490367Z",
     "iopub.status.idle": "2022-09-22T17:53:07.511631Z",
     "shell.execute_reply": "2022-09-22T17:53:07.510726Z"
    },
    "papermill": {
     "duration": 0.054774,
     "end_time": "2022-09-22T17:53:07.513761",
     "exception": false,
     "start_time": "2022-09-22T17:53:07.458987",
     "status": "completed"
    },
    "tags": []
   },
   "outputs": [
    {
     "data": {
      "text/html": [
       "<div>\n",
       "<style scoped>\n",
       "    .dataframe tbody tr th:only-of-type {\n",
       "        vertical-align: middle;\n",
       "    }\n",
       "\n",
       "    .dataframe tbody tr th {\n",
       "        vertical-align: top;\n",
       "    }\n",
       "\n",
       "    .dataframe thead th {\n",
       "        text-align: right;\n",
       "    }\n",
       "</style>\n",
       "<table border=\"1\" class=\"dataframe\">\n",
       "  <thead>\n",
       "    <tr style=\"text-align: right;\">\n",
       "      <th></th>\n",
       "      <th>PassengerId</th>\n",
       "      <th>Survived</th>\n",
       "    </tr>\n",
       "  </thead>\n",
       "  <tbody>\n",
       "    <tr>\n",
       "      <th>0</th>\n",
       "      <td>892</td>\n",
       "      <td>0</td>\n",
       "    </tr>\n",
       "    <tr>\n",
       "      <th>1</th>\n",
       "      <td>893</td>\n",
       "      <td>0</td>\n",
       "    </tr>\n",
       "    <tr>\n",
       "      <th>2</th>\n",
       "      <td>894</td>\n",
       "      <td>0</td>\n",
       "    </tr>\n",
       "    <tr>\n",
       "      <th>3</th>\n",
       "      <td>895</td>\n",
       "      <td>0</td>\n",
       "    </tr>\n",
       "    <tr>\n",
       "      <th>4</th>\n",
       "      <td>896</td>\n",
       "      <td>0</td>\n",
       "    </tr>\n",
       "    <tr>\n",
       "      <th>5</th>\n",
       "      <td>897</td>\n",
       "      <td>0</td>\n",
       "    </tr>\n",
       "    <tr>\n",
       "      <th>6</th>\n",
       "      <td>898</td>\n",
       "      <td>1</td>\n",
       "    </tr>\n",
       "  </tbody>\n",
       "</table>\n",
       "</div>"
      ],
      "text/plain": [
       "   PassengerId  Survived\n",
       "0          892         0\n",
       "1          893         0\n",
       "2          894         0\n",
       "3          895         0\n",
       "4          896         0\n",
       "5          897         0\n",
       "6          898         1"
      ]
     },
     "execution_count": 16,
     "metadata": {},
     "output_type": "execute_result"
    }
   ],
   "source": [
    "test_predictions = boost_gs.predict(test)\n",
    "passID=test['PassengerId']\n",
    "tupleData = list(zip(passID, test_predictions))\n",
    "output = pd.DataFrame(tupleData, columns = ['PassengerId', 'Survived'])\n",
    "output.head(7)"
   ]
  },
  {
   "cell_type": "code",
   "execution_count": 17,
   "id": "bfd49c5d",
   "metadata": {
    "execution": {
     "iopub.execute_input": "2022-09-22T17:53:07.576599Z",
     "iopub.status.busy": "2022-09-22T17:53:07.575778Z",
     "iopub.status.idle": "2022-09-22T17:53:07.584541Z",
     "shell.execute_reply": "2022-09-22T17:53:07.583600Z"
    },
    "papermill": {
     "duration": 0.042929,
     "end_time": "2022-09-22T17:53:07.587053",
     "exception": false,
     "start_time": "2022-09-22T17:53:07.544124",
     "status": "completed"
    },
    "tags": []
   },
   "outputs": [
    {
     "name": "stdout",
     "output_type": "stream",
     "text": [
      "Your submission was successfully saved!\n"
     ]
    }
   ],
   "source": [
    "output.to_csv('submission.csv', index=False)\n",
    "print(\"Your submission was successfully saved!\")"
   ]
  }
 ],
 "metadata": {
  "kernelspec": {
   "display_name": "Python 3",
   "language": "python",
   "name": "python3"
  },
  "language_info": {
   "codemirror_mode": {
    "name": "ipython",
    "version": 3
   },
   "file_extension": ".py",
   "mimetype": "text/x-python",
   "name": "python",
   "nbconvert_exporter": "python",
   "pygments_lexer": "ipython3",
   "version": "3.7.12"
  },
  "papermill": {
   "default_parameters": {},
   "duration": 296.203786,
   "end_time": "2022-09-22T17:53:08.443031",
   "environment_variables": {},
   "exception": null,
   "input_path": "__notebook__.ipynb",
   "output_path": "__notebook__.ipynb",
   "parameters": {},
   "start_time": "2022-09-22T17:48:12.239245",
   "version": "2.3.4"
  }
 },
 "nbformat": 4,
 "nbformat_minor": 5
}
