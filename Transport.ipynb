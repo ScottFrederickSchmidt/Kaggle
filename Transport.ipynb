{
 "cells": [
  {
   "cell_type": "markdown",
   "id": "6206a51e",
   "metadata": {
    "papermill": {
     "duration": 0.047061,
     "end_time": "2022-06-09T19:14:30.873388",
     "exception": false,
     "start_time": "2022-06-09T19:14:30.826327",
     "status": "completed"
    },
    "tags": []
   },
   "source": [
    "# Transportion\n",
    "Predict whether a passenger was transported using personal records.\n",
    "\n",
    "#### Metrics AUC Summary\n",
    "* Logistic Reg 0.851\n",
    "* Decision Tree 0.8257\n",
    "* Linear Reg 0.8\n",
    "* Gradient Boost 0.7922\n",
    "* Forest 0.7955"
   ]
  },
  {
   "cell_type": "code",
   "execution_count": 1,
   "id": "6114ca17",
   "metadata": {
    "execution": {
     "iopub.execute_input": "2022-06-09T19:14:30.965106Z",
     "iopub.status.busy": "2022-06-09T19:14:30.964328Z",
     "iopub.status.idle": "2022-06-09T19:14:32.633237Z",
     "shell.execute_reply": "2022-06-09T19:14:32.631498Z"
    },
    "papermill": {
     "duration": 1.718038,
     "end_time": "2022-06-09T19:14:32.636228",
     "exception": false,
     "start_time": "2022-06-09T19:14:30.918190",
     "status": "completed"
    },
    "tags": []
   },
   "outputs": [
    {
     "data": {
      "text/html": [
       "<div>\n",
       "<style scoped>\n",
       "    .dataframe tbody tr th:only-of-type {\n",
       "        vertical-align: middle;\n",
       "    }\n",
       "\n",
       "    .dataframe tbody tr th {\n",
       "        vertical-align: top;\n",
       "    }\n",
       "\n",
       "    .dataframe thead th {\n",
       "        text-align: right;\n",
       "    }\n",
       "</style>\n",
       "<table border=\"1\" class=\"dataframe\">\n",
       "  <thead>\n",
       "    <tr style=\"text-align: right;\">\n",
       "      <th></th>\n",
       "      <th>PassengerId</th>\n",
       "      <th>HomePlanet</th>\n",
       "      <th>CryoSleep</th>\n",
       "      <th>Cabin</th>\n",
       "      <th>Destination</th>\n",
       "      <th>Age</th>\n",
       "      <th>VIP</th>\n",
       "      <th>RoomService</th>\n",
       "      <th>FoodCourt</th>\n",
       "      <th>ShoppingMall</th>\n",
       "      <th>Spa</th>\n",
       "      <th>VRDeck</th>\n",
       "      <th>Name</th>\n",
       "      <th>Transported</th>\n",
       "    </tr>\n",
       "  </thead>\n",
       "  <tbody>\n",
       "    <tr>\n",
       "      <th>0</th>\n",
       "      <td>0001_01</td>\n",
       "      <td>Europa</td>\n",
       "      <td>False</td>\n",
       "      <td>B/0/P</td>\n",
       "      <td>TRAPPIST-1e</td>\n",
       "      <td>39.0</td>\n",
       "      <td>False</td>\n",
       "      <td>0.0</td>\n",
       "      <td>0.0</td>\n",
       "      <td>0.0</td>\n",
       "      <td>0.0</td>\n",
       "      <td>0.0</td>\n",
       "      <td>Maham Ofracculy</td>\n",
       "      <td>False</td>\n",
       "    </tr>\n",
       "    <tr>\n",
       "      <th>1</th>\n",
       "      <td>0002_01</td>\n",
       "      <td>Earth</td>\n",
       "      <td>False</td>\n",
       "      <td>F/0/S</td>\n",
       "      <td>TRAPPIST-1e</td>\n",
       "      <td>24.0</td>\n",
       "      <td>False</td>\n",
       "      <td>109.0</td>\n",
       "      <td>9.0</td>\n",
       "      <td>25.0</td>\n",
       "      <td>549.0</td>\n",
       "      <td>44.0</td>\n",
       "      <td>Juanna Vines</td>\n",
       "      <td>True</td>\n",
       "    </tr>\n",
       "    <tr>\n",
       "      <th>2</th>\n",
       "      <td>0003_01</td>\n",
       "      <td>Europa</td>\n",
       "      <td>False</td>\n",
       "      <td>A/0/S</td>\n",
       "      <td>TRAPPIST-1e</td>\n",
       "      <td>58.0</td>\n",
       "      <td>True</td>\n",
       "      <td>43.0</td>\n",
       "      <td>3576.0</td>\n",
       "      <td>0.0</td>\n",
       "      <td>6715.0</td>\n",
       "      <td>49.0</td>\n",
       "      <td>Altark Susent</td>\n",
       "      <td>False</td>\n",
       "    </tr>\n",
       "    <tr>\n",
       "      <th>3</th>\n",
       "      <td>0003_02</td>\n",
       "      <td>Europa</td>\n",
       "      <td>False</td>\n",
       "      <td>A/0/S</td>\n",
       "      <td>TRAPPIST-1e</td>\n",
       "      <td>33.0</td>\n",
       "      <td>False</td>\n",
       "      <td>0.0</td>\n",
       "      <td>1283.0</td>\n",
       "      <td>371.0</td>\n",
       "      <td>3329.0</td>\n",
       "      <td>193.0</td>\n",
       "      <td>Solam Susent</td>\n",
       "      <td>False</td>\n",
       "    </tr>\n",
       "    <tr>\n",
       "      <th>4</th>\n",
       "      <td>0004_01</td>\n",
       "      <td>Earth</td>\n",
       "      <td>False</td>\n",
       "      <td>F/1/S</td>\n",
       "      <td>TRAPPIST-1e</td>\n",
       "      <td>16.0</td>\n",
       "      <td>False</td>\n",
       "      <td>303.0</td>\n",
       "      <td>70.0</td>\n",
       "      <td>151.0</td>\n",
       "      <td>565.0</td>\n",
       "      <td>2.0</td>\n",
       "      <td>Willy Santantines</td>\n",
       "      <td>True</td>\n",
       "    </tr>\n",
       "  </tbody>\n",
       "</table>\n",
       "</div>"
      ],
      "text/plain": [
       "  PassengerId HomePlanet CryoSleep  Cabin  Destination   Age    VIP  \\\n",
       "0     0001_01     Europa     False  B/0/P  TRAPPIST-1e  39.0  False   \n",
       "1     0002_01      Earth     False  F/0/S  TRAPPIST-1e  24.0  False   \n",
       "2     0003_01     Europa     False  A/0/S  TRAPPIST-1e  58.0   True   \n",
       "3     0003_02     Europa     False  A/0/S  TRAPPIST-1e  33.0  False   \n",
       "4     0004_01      Earth     False  F/1/S  TRAPPIST-1e  16.0  False   \n",
       "\n",
       "   RoomService  FoodCourt  ShoppingMall     Spa  VRDeck               Name  \\\n",
       "0          0.0        0.0           0.0     0.0     0.0    Maham Ofracculy   \n",
       "1        109.0        9.0          25.0   549.0    44.0       Juanna Vines   \n",
       "2         43.0     3576.0           0.0  6715.0    49.0      Altark Susent   \n",
       "3          0.0     1283.0         371.0  3329.0   193.0       Solam Susent   \n",
       "4        303.0       70.0         151.0   565.0     2.0  Willy Santantines   \n",
       "\n",
       "   Transported  \n",
       "0        False  \n",
       "1         True  \n",
       "2        False  \n",
       "3        False  \n",
       "4         True  "
      ]
     },
     "execution_count": 1,
     "metadata": {},
     "output_type": "execute_result"
    }
   ],
   "source": [
    "import numpy as np\n",
    "import pandas as pd\n",
    "import seaborn as sns\n",
    "import matplotlib.pyplot as plt\n",
    "from sklearn.model_selection import train_test_split, cross_validate, StratifiedKFold\n",
    "from statistics import mean\n",
    "from sklearn.metrics import mean_absolute_error, mean_squared_error, r2_score\n",
    "from sklearn.datasets import make_classification\n",
    "from sklearn import ensemble\n",
    "import sklearn.metrics as metrics\n",
    "import time\n",
    "\n",
    "train=r'/kaggle/input/spaceship-titanic/train.csv'\n",
    "test=r'/kaggle/input/spaceship-titanic/test.csv'\n",
    "\n",
    "df=pd.read_csv(train)\n",
    "df.head()"
   ]
  },
  {
   "cell_type": "markdown",
   "id": "b21ca2f5",
   "metadata": {
    "papermill": {
     "duration": 0.043669,
     "end_time": "2022-06-09T19:14:32.725493",
     "exception": false,
     "start_time": "2022-06-09T19:14:32.681824",
     "status": "completed"
    },
    "tags": []
   },
   "source": [
    "# Target Variable\n",
    "Transported is in independent variable being analyzed with 4378 survived and 4315 did not survive. "
   ]
  },
  {
   "cell_type": "code",
   "execution_count": 2,
   "id": "2b5ce6ca",
   "metadata": {
    "execution": {
     "iopub.execute_input": "2022-06-09T19:14:32.817210Z",
     "iopub.status.busy": "2022-06-09T19:14:32.816802Z",
     "iopub.status.idle": "2022-06-09T19:14:32.839817Z",
     "shell.execute_reply": "2022-06-09T19:14:32.839112Z"
    },
    "papermill": {
     "duration": 0.070488,
     "end_time": "2022-06-09T19:14:32.841926",
     "exception": false,
     "start_time": "2022-06-09T19:14:32.771438",
     "status": "completed"
    },
    "tags": []
   },
   "outputs": [],
   "source": [
    "df['Transported']=df['Transported'].astype('str').replace({'False':0, 'True':1})"
   ]
  },
  {
   "cell_type": "code",
   "execution_count": 3,
   "id": "bab14290",
   "metadata": {
    "execution": {
     "iopub.execute_input": "2022-06-09T19:14:32.931850Z",
     "iopub.status.busy": "2022-06-09T19:14:32.931442Z",
     "iopub.status.idle": "2022-06-09T19:14:32.941298Z",
     "shell.execute_reply": "2022-06-09T19:14:32.940487Z"
    },
    "papermill": {
     "duration": 0.056919,
     "end_time": "2022-06-09T19:14:32.943134",
     "exception": false,
     "start_time": "2022-06-09T19:14:32.886215",
     "status": "completed"
    },
    "tags": []
   },
   "outputs": [
    {
     "data": {
      "text/plain": [
       "1    4378\n",
       "0    4315\n",
       "Name: Transported, dtype: int64"
      ]
     },
     "execution_count": 3,
     "metadata": {},
     "output_type": "execute_result"
    }
   ],
   "source": [
    "df['Transported'].value_counts()"
   ]
  },
  {
   "cell_type": "markdown",
   "id": "c66f2ca4",
   "metadata": {
    "papermill": {
     "duration": 0.045482,
     "end_time": "2022-06-09T19:14:33.033127",
     "exception": false,
     "start_time": "2022-06-09T19:14:32.987645",
     "status": "completed"
    },
    "tags": []
   },
   "source": [
    "# Find Missing Values"
   ]
  },
  {
   "cell_type": "code",
   "execution_count": 4,
   "id": "96d6e0ea",
   "metadata": {
    "execution": {
     "iopub.execute_input": "2022-06-09T19:14:33.125034Z",
     "iopub.status.busy": "2022-06-09T19:14:33.124623Z",
     "iopub.status.idle": "2022-06-09T19:14:33.140721Z",
     "shell.execute_reply": "2022-06-09T19:14:33.139704Z"
    },
    "papermill": {
     "duration": 0.064546,
     "end_time": "2022-06-09T19:14:33.142876",
     "exception": false,
     "start_time": "2022-06-09T19:14:33.078330",
     "status": "completed"
    },
    "tags": []
   },
   "outputs": [
    {
     "name": "stdout",
     "output_type": "stream",
     "text": [
      "Missing data by column as a percent:\n",
      "CryoSleep       0.024963\n",
      "ShoppingMall    0.023927\n",
      "VIP             0.023352\n",
      "HomePlanet      0.023122\n",
      "dtype: float64\n"
     ]
    }
   ],
   "source": [
    "#search for columns with missing values:\n",
    "def findNA():\n",
    "    print(\"Missing data by column as a percent:\")\n",
    "    findNA=df.isnull().sum().sort_values(ascending=False)/len(df)\n",
    "    print(findNA.head(4))\n",
    "findNA() "
   ]
  },
  {
   "cell_type": "markdown",
   "id": "99dbcbda",
   "metadata": {
    "papermill": {
     "duration": 0.048353,
     "end_time": "2022-06-09T19:14:33.236634",
     "exception": false,
     "start_time": "2022-06-09T19:14:33.188281",
     "status": "completed"
    },
    "tags": []
   },
   "source": [
    "# Find Categorical Variables"
   ]
  },
  {
   "cell_type": "code",
   "execution_count": 5,
   "id": "9a826c66",
   "metadata": {
    "execution": {
     "iopub.execute_input": "2022-06-09T19:14:33.330804Z",
     "iopub.status.busy": "2022-06-09T19:14:33.330535Z",
     "iopub.status.idle": "2022-06-09T19:14:33.372741Z",
     "shell.execute_reply": "2022-06-09T19:14:33.370976Z"
    },
    "papermill": {
     "duration": 0.09249,
     "end_time": "2022-06-09T19:14:33.375237",
     "exception": false,
     "start_time": "2022-06-09T19:14:33.282747",
     "status": "completed"
    },
    "tags": []
   },
   "outputs": [
    {
     "name": "stdout",
     "output_type": "stream",
     "text": [
      "PassengerId\n",
      "0001_01    1\n",
      "6136_01    1\n",
      "6141_01    1\n",
      "6139_06    1\n",
      "6139_05    1\n",
      "          ..\n",
      "3126_01    1\n",
      "3124_03    1\n",
      "3124_02    1\n",
      "3124_01    1\n",
      "9280_02    1\n",
      "Name: PassengerId, Length: 8693, dtype: int64 \n",
      "\n",
      "HomePlanet\n",
      "Earth     4602\n",
      "Europa    2131\n",
      "Mars      1759\n",
      "Name: HomePlanet, dtype: int64 \n",
      "\n",
      "CryoSleep\n",
      "False    5439\n",
      "True     3037\n",
      "Name: CryoSleep, dtype: int64 \n",
      "\n",
      "Cabin\n",
      "G/734/S     8\n",
      "G/109/P     7\n",
      "B/201/P     7\n",
      "G/1368/P    7\n",
      "G/981/S     7\n",
      "           ..\n",
      "G/556/P     1\n",
      "E/231/S     1\n",
      "G/545/S     1\n",
      "G/543/S     1\n",
      "F/947/P     1\n",
      "Name: Cabin, Length: 6560, dtype: int64 \n",
      "\n",
      "Destination\n",
      "TRAPPIST-1e      5915\n",
      "55 Cancri e      1800\n",
      "PSO J318.5-22     796\n",
      "Name: Destination, dtype: int64 \n",
      "\n",
      "VIP\n",
      "False    8291\n",
      "True      199\n",
      "Name: VIP, dtype: int64 \n",
      "\n",
      "Name\n",
      "Gollux Reedall        2\n",
      "Elaney Webstephrey    2\n",
      "Grake Porki           2\n",
      "Sus Coolez            2\n",
      "Apix Wala             2\n",
      "                     ..\n",
      "Jamela Griffy         1\n",
      "Hardy Griffy          1\n",
      "Salley Mckinn         1\n",
      "Mall Frasp            1\n",
      "Propsh Hontichre      1\n",
      "Name: Name, Length: 8473, dtype: int64 \n",
      "\n"
     ]
    }
   ],
   "source": [
    "cols=df.select_dtypes(include='object').columns\n",
    "for col in cols:\n",
    "    print(col)\n",
    "    print(df[col].value_counts() ,\"\\n\")"
   ]
  },
  {
   "cell_type": "markdown",
   "id": "8e572cde",
   "metadata": {
    "papermill": {
     "duration": 0.045527,
     "end_time": "2022-06-09T19:14:33.468208",
     "exception": false,
     "start_time": "2022-06-09T19:14:33.422681",
     "status": "completed"
    },
    "tags": []
   },
   "source": [
    "# Feature Engineer"
   ]
  },
  {
   "cell_type": "code",
   "execution_count": 6,
   "id": "634b566c",
   "metadata": {
    "execution": {
     "iopub.execute_input": "2022-06-09T19:14:33.563025Z",
     "iopub.status.busy": "2022-06-09T19:14:33.562241Z",
     "iopub.status.idle": "2022-06-09T19:14:33.587644Z",
     "shell.execute_reply": "2022-06-09T19:14:33.586755Z"
    },
    "papermill": {
     "duration": 0.075423,
     "end_time": "2022-06-09T19:14:33.590052",
     "exception": false,
     "start_time": "2022-06-09T19:14:33.514629",
     "status": "completed"
    },
    "tags": []
   },
   "outputs": [],
   "source": [
    "df['VIP']=df['VIP'].astype('str').replace({'False':0, 'True':1})\n",
    "df['CryoSleep']=df['CryoSleep'].astype('str').replace({'False':0, 'True':1})\n",
    "df['Adult'] = df['Age'].apply(lambda x: 1 if x > 19 else 0 )"
   ]
  },
  {
   "cell_type": "markdown",
   "id": "fbf3ae56",
   "metadata": {
    "execution": {
     "iopub.execute_input": "2022-05-25T14:43:58.558603Z",
     "iopub.status.busy": "2022-05-25T14:43:58.558327Z",
     "iopub.status.idle": "2022-05-25T14:43:58.568924Z",
     "shell.execute_reply": "2022-05-25T14:43:58.568288Z",
     "shell.execute_reply.started": "2022-05-25T14:43:58.558573Z"
    },
    "papermill": {
     "duration": 0.045491,
     "end_time": "2022-06-09T19:14:33.681495",
     "exception": false,
     "start_time": "2022-06-09T19:14:33.636004",
     "status": "completed"
    },
    "tags": []
   },
   "source": [
    "### Put First and Last name in column.\n",
    "* Gender: first name can creature a gender feature.\n",
    "* Family: last name can possibly detect if person is alone."
   ]
  },
  {
   "cell_type": "code",
   "execution_count": 7,
   "id": "fb1981bc",
   "metadata": {
    "execution": {
     "iopub.execute_input": "2022-06-09T19:14:33.774249Z",
     "iopub.status.busy": "2022-06-09T19:14:33.773941Z",
     "iopub.status.idle": "2022-06-09T19:14:35.641522Z",
     "shell.execute_reply": "2022-06-09T19:14:35.640650Z"
    },
    "papermill": {
     "duration": 1.916508,
     "end_time": "2022-06-09T19:14:35.643901",
     "exception": false,
     "start_time": "2022-06-09T19:14:33.727393",
     "status": "completed"
    },
    "tags": []
   },
   "outputs": [],
   "source": [
    "df[['First','Last']] = df.Name.apply(lambda x: pd.Series(str(x).split(\" \")))"
   ]
  },
  {
   "cell_type": "code",
   "execution_count": 8,
   "id": "20e04640",
   "metadata": {
    "execution": {
     "iopub.execute_input": "2022-06-09T19:14:35.737735Z",
     "iopub.status.busy": "2022-06-09T19:14:35.737441Z",
     "iopub.status.idle": "2022-06-09T19:14:35.768740Z",
     "shell.execute_reply": "2022-06-09T19:14:35.767858Z"
    },
    "papermill": {
     "duration": 0.081156,
     "end_time": "2022-06-09T19:14:35.770946",
     "exception": false,
     "start_time": "2022-06-09T19:14:35.689790",
     "status": "completed"
    },
    "tags": []
   },
   "outputs": [
    {
     "data": {
      "text/html": [
       "<div>\n",
       "<style scoped>\n",
       "    .dataframe tbody tr th:only-of-type {\n",
       "        vertical-align: middle;\n",
       "    }\n",
       "\n",
       "    .dataframe tbody tr th {\n",
       "        vertical-align: top;\n",
       "    }\n",
       "\n",
       "    .dataframe thead th {\n",
       "        text-align: right;\n",
       "    }\n",
       "</style>\n",
       "<table border=\"1\" class=\"dataframe\">\n",
       "  <thead>\n",
       "    <tr style=\"text-align: right;\">\n",
       "      <th></th>\n",
       "      <th>PassengerId</th>\n",
       "      <th>HomePlanet</th>\n",
       "      <th>CryoSleep</th>\n",
       "      <th>Cabin</th>\n",
       "      <th>Destination</th>\n",
       "      <th>Age</th>\n",
       "      <th>VIP</th>\n",
       "      <th>RoomService</th>\n",
       "      <th>FoodCourt</th>\n",
       "      <th>ShoppingMall</th>\n",
       "      <th>Spa</th>\n",
       "      <th>VRDeck</th>\n",
       "      <th>Name</th>\n",
       "      <th>Transported</th>\n",
       "      <th>Adult</th>\n",
       "      <th>First</th>\n",
       "      <th>Last</th>\n",
       "      <th>Family</th>\n",
       "    </tr>\n",
       "  </thead>\n",
       "  <tbody>\n",
       "    <tr>\n",
       "      <th>0</th>\n",
       "      <td>0001_01</td>\n",
       "      <td>Europa</td>\n",
       "      <td>0</td>\n",
       "      <td>B/0/P</td>\n",
       "      <td>TRAPPIST-1e</td>\n",
       "      <td>39.0</td>\n",
       "      <td>0</td>\n",
       "      <td>0.0</td>\n",
       "      <td>0.0</td>\n",
       "      <td>0.0</td>\n",
       "      <td>0.0</td>\n",
       "      <td>0.0</td>\n",
       "      <td>Maham Ofracculy</td>\n",
       "      <td>0</td>\n",
       "      <td>1</td>\n",
       "      <td>Maham</td>\n",
       "      <td>Ofracculy</td>\n",
       "      <td>1.0</td>\n",
       "    </tr>\n",
       "    <tr>\n",
       "      <th>1</th>\n",
       "      <td>0002_01</td>\n",
       "      <td>Earth</td>\n",
       "      <td>0</td>\n",
       "      <td>F/0/S</td>\n",
       "      <td>TRAPPIST-1e</td>\n",
       "      <td>24.0</td>\n",
       "      <td>0</td>\n",
       "      <td>109.0</td>\n",
       "      <td>9.0</td>\n",
       "      <td>25.0</td>\n",
       "      <td>549.0</td>\n",
       "      <td>44.0</td>\n",
       "      <td>Juanna Vines</td>\n",
       "      <td>1</td>\n",
       "      <td>1</td>\n",
       "      <td>Juanna</td>\n",
       "      <td>Vines</td>\n",
       "      <td>4.0</td>\n",
       "    </tr>\n",
       "    <tr>\n",
       "      <th>2</th>\n",
       "      <td>0003_01</td>\n",
       "      <td>Europa</td>\n",
       "      <td>0</td>\n",
       "      <td>A/0/S</td>\n",
       "      <td>TRAPPIST-1e</td>\n",
       "      <td>58.0</td>\n",
       "      <td>1</td>\n",
       "      <td>43.0</td>\n",
       "      <td>3576.0</td>\n",
       "      <td>0.0</td>\n",
       "      <td>6715.0</td>\n",
       "      <td>49.0</td>\n",
       "      <td>Altark Susent</td>\n",
       "      <td>0</td>\n",
       "      <td>1</td>\n",
       "      <td>Altark</td>\n",
       "      <td>Susent</td>\n",
       "      <td>6.0</td>\n",
       "    </tr>\n",
       "    <tr>\n",
       "      <th>3</th>\n",
       "      <td>0003_02</td>\n",
       "      <td>Europa</td>\n",
       "      <td>0</td>\n",
       "      <td>A/0/S</td>\n",
       "      <td>TRAPPIST-1e</td>\n",
       "      <td>33.0</td>\n",
       "      <td>0</td>\n",
       "      <td>0.0</td>\n",
       "      <td>1283.0</td>\n",
       "      <td>371.0</td>\n",
       "      <td>3329.0</td>\n",
       "      <td>193.0</td>\n",
       "      <td>Solam Susent</td>\n",
       "      <td>0</td>\n",
       "      <td>1</td>\n",
       "      <td>Solam</td>\n",
       "      <td>Susent</td>\n",
       "      <td>6.0</td>\n",
       "    </tr>\n",
       "    <tr>\n",
       "      <th>4</th>\n",
       "      <td>0004_01</td>\n",
       "      <td>Earth</td>\n",
       "      <td>0</td>\n",
       "      <td>F/1/S</td>\n",
       "      <td>TRAPPIST-1e</td>\n",
       "      <td>16.0</td>\n",
       "      <td>0</td>\n",
       "      <td>303.0</td>\n",
       "      <td>70.0</td>\n",
       "      <td>151.0</td>\n",
       "      <td>565.0</td>\n",
       "      <td>2.0</td>\n",
       "      <td>Willy Santantines</td>\n",
       "      <td>1</td>\n",
       "      <td>0</td>\n",
       "      <td>Willy</td>\n",
       "      <td>Santantines</td>\n",
       "      <td>6.0</td>\n",
       "    </tr>\n",
       "  </tbody>\n",
       "</table>\n",
       "</div>"
      ],
      "text/plain": [
       "  PassengerId HomePlanet CryoSleep  Cabin  Destination   Age VIP  RoomService  \\\n",
       "0     0001_01     Europa         0  B/0/P  TRAPPIST-1e  39.0   0          0.0   \n",
       "1     0002_01      Earth         0  F/0/S  TRAPPIST-1e  24.0   0        109.0   \n",
       "2     0003_01     Europa         0  A/0/S  TRAPPIST-1e  58.0   1         43.0   \n",
       "3     0003_02     Europa         0  A/0/S  TRAPPIST-1e  33.0   0          0.0   \n",
       "4     0004_01      Earth         0  F/1/S  TRAPPIST-1e  16.0   0        303.0   \n",
       "\n",
       "   FoodCourt  ShoppingMall     Spa  VRDeck               Name  Transported  \\\n",
       "0        0.0           0.0     0.0     0.0    Maham Ofracculy            0   \n",
       "1        9.0          25.0   549.0    44.0       Juanna Vines            1   \n",
       "2     3576.0           0.0  6715.0    49.0      Altark Susent            0   \n",
       "3     1283.0         371.0  3329.0   193.0       Solam Susent            0   \n",
       "4       70.0         151.0   565.0     2.0  Willy Santantines            1   \n",
       "\n",
       "   Adult   First         Last  Family  \n",
       "0      1   Maham    Ofracculy     1.0  \n",
       "1      1  Juanna        Vines     4.0  \n",
       "2      1  Altark       Susent     6.0  \n",
       "3      1   Solam       Susent     6.0  \n",
       "4      0   Willy  Santantines     6.0  "
      ]
     },
     "execution_count": 8,
     "metadata": {},
     "output_type": "execute_result"
    }
   ],
   "source": [
    "#LAST NAME: count occurances \n",
    "df['Family']=df.groupby('Last')['Last'].transform('count')\n",
    "df.head()"
   ]
  },
  {
   "cell_type": "markdown",
   "id": "89ec26b8",
   "metadata": {
    "papermill": {
     "duration": 0.04619,
     "end_time": "2022-06-09T19:14:35.863732",
     "exception": false,
     "start_time": "2022-06-09T19:14:35.817542",
     "status": "completed"
    },
    "tags": []
   },
   "source": [
    "### Cabin \n",
    "The cabin number where the passenger is staying. Takes the form deck/num/side, where side can be either P for Port or S for Starboard. "
   ]
  },
  {
   "cell_type": "code",
   "execution_count": 9,
   "id": "188037df",
   "metadata": {
    "execution": {
     "iopub.execute_input": "2022-06-09T19:14:35.959541Z",
     "iopub.status.busy": "2022-06-09T19:14:35.959003Z",
     "iopub.status.idle": "2022-06-09T19:14:35.965348Z",
     "shell.execute_reply": "2022-06-09T19:14:35.964816Z"
    },
    "papermill": {
     "duration": 0.056444,
     "end_time": "2022-06-09T19:14:35.967064",
     "exception": false,
     "start_time": "2022-06-09T19:14:35.910620",
     "status": "completed"
    },
    "tags": []
   },
   "outputs": [
    {
     "data": {
      "text/plain": [
       "0          B/0/P\n",
       "1          F/0/S\n",
       "2          A/0/S\n",
       "3          A/0/S\n",
       "4          F/1/S\n",
       "          ...   \n",
       "8688      A/98/P\n",
       "8689    G/1499/S\n",
       "8690    G/1500/S\n",
       "8691     E/608/S\n",
       "8692     E/608/S\n",
       "Name: Cabin, Length: 8693, dtype: object"
      ]
     },
     "execution_count": 9,
     "metadata": {},
     "output_type": "execute_result"
    }
   ],
   "source": [
    "df['Cabin']"
   ]
  },
  {
   "cell_type": "code",
   "execution_count": 10,
   "id": "ded9d380",
   "metadata": {
    "execution": {
     "iopub.execute_input": "2022-06-09T19:14:36.063195Z",
     "iopub.status.busy": "2022-06-09T19:14:36.062620Z",
     "iopub.status.idle": "2022-06-09T19:14:36.123440Z",
     "shell.execute_reply": "2022-06-09T19:14:36.122570Z"
    },
    "papermill": {
     "duration": 0.11136,
     "end_time": "2022-06-09T19:14:36.125513",
     "exception": false,
     "start_time": "2022-06-09T19:14:36.014153",
     "status": "completed"
    },
    "tags": []
   },
   "outputs": [
    {
     "data": {
      "text/html": [
       "<div>\n",
       "<style scoped>\n",
       "    .dataframe tbody tr th:only-of-type {\n",
       "        vertical-align: middle;\n",
       "    }\n",
       "\n",
       "    .dataframe tbody tr th {\n",
       "        vertical-align: top;\n",
       "    }\n",
       "\n",
       "    .dataframe thead th {\n",
       "        text-align: right;\n",
       "    }\n",
       "</style>\n",
       "<table border=\"1\" class=\"dataframe\">\n",
       "  <thead>\n",
       "    <tr style=\"text-align: right;\">\n",
       "      <th></th>\n",
       "      <th>PassengerId</th>\n",
       "      <th>HomePlanet</th>\n",
       "      <th>CryoSleep</th>\n",
       "      <th>Cabin</th>\n",
       "      <th>Destination</th>\n",
       "      <th>Age</th>\n",
       "      <th>VIP</th>\n",
       "      <th>RoomService</th>\n",
       "      <th>FoodCourt</th>\n",
       "      <th>ShoppingMall</th>\n",
       "      <th>...</th>\n",
       "      <th>VRDeck</th>\n",
       "      <th>Name</th>\n",
       "      <th>Transported</th>\n",
       "      <th>Adult</th>\n",
       "      <th>First</th>\n",
       "      <th>Last</th>\n",
       "      <th>Family</th>\n",
       "      <th>deck</th>\n",
       "      <th>num</th>\n",
       "      <th>side</th>\n",
       "    </tr>\n",
       "  </thead>\n",
       "  <tbody>\n",
       "    <tr>\n",
       "      <th>0</th>\n",
       "      <td>0001_01</td>\n",
       "      <td>Europa</td>\n",
       "      <td>0</td>\n",
       "      <td>B/0/P</td>\n",
       "      <td>TRAPPIST-1e</td>\n",
       "      <td>39.0</td>\n",
       "      <td>0</td>\n",
       "      <td>0.0</td>\n",
       "      <td>0.0</td>\n",
       "      <td>0.0</td>\n",
       "      <td>...</td>\n",
       "      <td>0.0</td>\n",
       "      <td>Maham Ofracculy</td>\n",
       "      <td>0</td>\n",
       "      <td>1</td>\n",
       "      <td>Maham</td>\n",
       "      <td>Ofracculy</td>\n",
       "      <td>1.0</td>\n",
       "      <td>B</td>\n",
       "      <td>0</td>\n",
       "      <td>P</td>\n",
       "    </tr>\n",
       "    <tr>\n",
       "      <th>1</th>\n",
       "      <td>0002_01</td>\n",
       "      <td>Earth</td>\n",
       "      <td>0</td>\n",
       "      <td>F/0/S</td>\n",
       "      <td>TRAPPIST-1e</td>\n",
       "      <td>24.0</td>\n",
       "      <td>0</td>\n",
       "      <td>109.0</td>\n",
       "      <td>9.0</td>\n",
       "      <td>25.0</td>\n",
       "      <td>...</td>\n",
       "      <td>44.0</td>\n",
       "      <td>Juanna Vines</td>\n",
       "      <td>1</td>\n",
       "      <td>1</td>\n",
       "      <td>Juanna</td>\n",
       "      <td>Vines</td>\n",
       "      <td>4.0</td>\n",
       "      <td>F</td>\n",
       "      <td>0</td>\n",
       "      <td>S</td>\n",
       "    </tr>\n",
       "    <tr>\n",
       "      <th>2</th>\n",
       "      <td>0003_01</td>\n",
       "      <td>Europa</td>\n",
       "      <td>0</td>\n",
       "      <td>A/0/S</td>\n",
       "      <td>TRAPPIST-1e</td>\n",
       "      <td>58.0</td>\n",
       "      <td>1</td>\n",
       "      <td>43.0</td>\n",
       "      <td>3576.0</td>\n",
       "      <td>0.0</td>\n",
       "      <td>...</td>\n",
       "      <td>49.0</td>\n",
       "      <td>Altark Susent</td>\n",
       "      <td>0</td>\n",
       "      <td>1</td>\n",
       "      <td>Altark</td>\n",
       "      <td>Susent</td>\n",
       "      <td>6.0</td>\n",
       "      <td>A</td>\n",
       "      <td>0</td>\n",
       "      <td>S</td>\n",
       "    </tr>\n",
       "    <tr>\n",
       "      <th>3</th>\n",
       "      <td>0003_02</td>\n",
       "      <td>Europa</td>\n",
       "      <td>0</td>\n",
       "      <td>A/0/S</td>\n",
       "      <td>TRAPPIST-1e</td>\n",
       "      <td>33.0</td>\n",
       "      <td>0</td>\n",
       "      <td>0.0</td>\n",
       "      <td>1283.0</td>\n",
       "      <td>371.0</td>\n",
       "      <td>...</td>\n",
       "      <td>193.0</td>\n",
       "      <td>Solam Susent</td>\n",
       "      <td>0</td>\n",
       "      <td>1</td>\n",
       "      <td>Solam</td>\n",
       "      <td>Susent</td>\n",
       "      <td>6.0</td>\n",
       "      <td>A</td>\n",
       "      <td>0</td>\n",
       "      <td>S</td>\n",
       "    </tr>\n",
       "    <tr>\n",
       "      <th>4</th>\n",
       "      <td>0004_01</td>\n",
       "      <td>Earth</td>\n",
       "      <td>0</td>\n",
       "      <td>F/1/S</td>\n",
       "      <td>TRAPPIST-1e</td>\n",
       "      <td>16.0</td>\n",
       "      <td>0</td>\n",
       "      <td>303.0</td>\n",
       "      <td>70.0</td>\n",
       "      <td>151.0</td>\n",
       "      <td>...</td>\n",
       "      <td>2.0</td>\n",
       "      <td>Willy Santantines</td>\n",
       "      <td>1</td>\n",
       "      <td>0</td>\n",
       "      <td>Willy</td>\n",
       "      <td>Santantines</td>\n",
       "      <td>6.0</td>\n",
       "      <td>F</td>\n",
       "      <td>1</td>\n",
       "      <td>S</td>\n",
       "    </tr>\n",
       "  </tbody>\n",
       "</table>\n",
       "<p>5 rows × 21 columns</p>\n",
       "</div>"
      ],
      "text/plain": [
       "  PassengerId HomePlanet CryoSleep  Cabin  Destination   Age VIP  RoomService  \\\n",
       "0     0001_01     Europa         0  B/0/P  TRAPPIST-1e  39.0   0          0.0   \n",
       "1     0002_01      Earth         0  F/0/S  TRAPPIST-1e  24.0   0        109.0   \n",
       "2     0003_01     Europa         0  A/0/S  TRAPPIST-1e  58.0   1         43.0   \n",
       "3     0003_02     Europa         0  A/0/S  TRAPPIST-1e  33.0   0          0.0   \n",
       "4     0004_01      Earth         0  F/1/S  TRAPPIST-1e  16.0   0        303.0   \n",
       "\n",
       "   FoodCourt  ShoppingMall  ...  VRDeck               Name Transported  Adult  \\\n",
       "0        0.0           0.0  ...     0.0    Maham Ofracculy           0      1   \n",
       "1        9.0          25.0  ...    44.0       Juanna Vines           1      1   \n",
       "2     3576.0           0.0  ...    49.0      Altark Susent           0      1   \n",
       "3     1283.0         371.0  ...   193.0       Solam Susent           0      1   \n",
       "4       70.0         151.0  ...     2.0  Willy Santantines           1      0   \n",
       "\n",
       "    First         Last Family  deck num  side  \n",
       "0   Maham    Ofracculy    1.0     B   0     P  \n",
       "1  Juanna        Vines    4.0     F   0     S  \n",
       "2  Altark       Susent    6.0     A   0     S  \n",
       "3   Solam       Susent    6.0     A   0     S  \n",
       "4   Willy  Santantines    6.0     F   1     S  \n",
       "\n",
       "[5 rows x 21 columns]"
      ]
     },
     "execution_count": 10,
     "metadata": {},
     "output_type": "execute_result"
    }
   ],
   "source": [
    "df['deck']=df['Cabin'].apply(lambda x: str(x).split(\"/\")[0])\n",
    "df['num']=df['Cabin'].str.extract('(\\d+)').fillna(0).astype(int)\n",
    "df['side']=df['Cabin'].apply(lambda x: str(x)[-1])\n",
    "df.head()"
   ]
  },
  {
   "cell_type": "code",
   "execution_count": 11,
   "id": "adf66127",
   "metadata": {
    "execution": {
     "iopub.execute_input": "2022-06-09T19:14:36.222946Z",
     "iopub.status.busy": "2022-06-09T19:14:36.222427Z",
     "iopub.status.idle": "2022-06-09T19:14:36.282634Z",
     "shell.execute_reply": "2022-06-09T19:14:36.281803Z"
    },
    "papermill": {
     "duration": 0.111301,
     "end_time": "2022-06-09T19:14:36.284752",
     "exception": false,
     "start_time": "2022-06-09T19:14:36.173451",
     "status": "completed"
    },
    "tags": []
   },
   "outputs": [
    {
     "data": {
      "text/html": [
       "<div>\n",
       "<style scoped>\n",
       "    .dataframe tbody tr th:only-of-type {\n",
       "        vertical-align: middle;\n",
       "    }\n",
       "\n",
       "    .dataframe tbody tr th {\n",
       "        vertical-align: top;\n",
       "    }\n",
       "\n",
       "    .dataframe thead th {\n",
       "        text-align: right;\n",
       "    }\n",
       "</style>\n",
       "<table border=\"1\" class=\"dataframe\">\n",
       "  <thead>\n",
       "    <tr style=\"text-align: right;\">\n",
       "      <th></th>\n",
       "      <th>PassengerId</th>\n",
       "      <th>HomePlanet</th>\n",
       "      <th>CryoSleep</th>\n",
       "      <th>Cabin</th>\n",
       "      <th>Destination</th>\n",
       "      <th>Age</th>\n",
       "      <th>VIP</th>\n",
       "      <th>RoomService</th>\n",
       "      <th>FoodCourt</th>\n",
       "      <th>ShoppingMall</th>\n",
       "      <th>...</th>\n",
       "      <th>VRDeck</th>\n",
       "      <th>Name</th>\n",
       "      <th>Transported</th>\n",
       "      <th>Adult</th>\n",
       "      <th>First</th>\n",
       "      <th>Last</th>\n",
       "      <th>Family</th>\n",
       "      <th>deck</th>\n",
       "      <th>num</th>\n",
       "      <th>side</th>\n",
       "    </tr>\n",
       "  </thead>\n",
       "  <tbody>\n",
       "    <tr>\n",
       "      <th>0</th>\n",
       "      <td>0001_01</td>\n",
       "      <td>1.0</td>\n",
       "      <td>0</td>\n",
       "      <td>B/0/P</td>\n",
       "      <td>2.0</td>\n",
       "      <td>39.0</td>\n",
       "      <td>0</td>\n",
       "      <td>0.0</td>\n",
       "      <td>0.0</td>\n",
       "      <td>0.0</td>\n",
       "      <td>...</td>\n",
       "      <td>0.0</td>\n",
       "      <td>Maham Ofracculy</td>\n",
       "      <td>0</td>\n",
       "      <td>1</td>\n",
       "      <td>Maham</td>\n",
       "      <td>Ofracculy</td>\n",
       "      <td>1.0</td>\n",
       "      <td>1.0</td>\n",
       "      <td>0.0</td>\n",
       "      <td>0.0</td>\n",
       "    </tr>\n",
       "    <tr>\n",
       "      <th>1</th>\n",
       "      <td>0002_01</td>\n",
       "      <td>0.0</td>\n",
       "      <td>0</td>\n",
       "      <td>F/0/S</td>\n",
       "      <td>2.0</td>\n",
       "      <td>24.0</td>\n",
       "      <td>0</td>\n",
       "      <td>109.0</td>\n",
       "      <td>9.0</td>\n",
       "      <td>25.0</td>\n",
       "      <td>...</td>\n",
       "      <td>44.0</td>\n",
       "      <td>Juanna Vines</td>\n",
       "      <td>1</td>\n",
       "      <td>1</td>\n",
       "      <td>Juanna</td>\n",
       "      <td>Vines</td>\n",
       "      <td>4.0</td>\n",
       "      <td>5.0</td>\n",
       "      <td>0.0</td>\n",
       "      <td>1.0</td>\n",
       "    </tr>\n",
       "    <tr>\n",
       "      <th>2</th>\n",
       "      <td>0003_01</td>\n",
       "      <td>1.0</td>\n",
       "      <td>0</td>\n",
       "      <td>A/0/S</td>\n",
       "      <td>2.0</td>\n",
       "      <td>58.0</td>\n",
       "      <td>1</td>\n",
       "      <td>43.0</td>\n",
       "      <td>3576.0</td>\n",
       "      <td>0.0</td>\n",
       "      <td>...</td>\n",
       "      <td>49.0</td>\n",
       "      <td>Altark Susent</td>\n",
       "      <td>0</td>\n",
       "      <td>1</td>\n",
       "      <td>Altark</td>\n",
       "      <td>Susent</td>\n",
       "      <td>6.0</td>\n",
       "      <td>0.0</td>\n",
       "      <td>0.0</td>\n",
       "      <td>1.0</td>\n",
       "    </tr>\n",
       "    <tr>\n",
       "      <th>3</th>\n",
       "      <td>0003_02</td>\n",
       "      <td>1.0</td>\n",
       "      <td>0</td>\n",
       "      <td>A/0/S</td>\n",
       "      <td>2.0</td>\n",
       "      <td>33.0</td>\n",
       "      <td>0</td>\n",
       "      <td>0.0</td>\n",
       "      <td>1283.0</td>\n",
       "      <td>371.0</td>\n",
       "      <td>...</td>\n",
       "      <td>193.0</td>\n",
       "      <td>Solam Susent</td>\n",
       "      <td>0</td>\n",
       "      <td>1</td>\n",
       "      <td>Solam</td>\n",
       "      <td>Susent</td>\n",
       "      <td>6.0</td>\n",
       "      <td>0.0</td>\n",
       "      <td>0.0</td>\n",
       "      <td>1.0</td>\n",
       "    </tr>\n",
       "    <tr>\n",
       "      <th>4</th>\n",
       "      <td>0004_01</td>\n",
       "      <td>0.0</td>\n",
       "      <td>0</td>\n",
       "      <td>F/1/S</td>\n",
       "      <td>2.0</td>\n",
       "      <td>16.0</td>\n",
       "      <td>0</td>\n",
       "      <td>303.0</td>\n",
       "      <td>70.0</td>\n",
       "      <td>151.0</td>\n",
       "      <td>...</td>\n",
       "      <td>2.0</td>\n",
       "      <td>Willy Santantines</td>\n",
       "      <td>1</td>\n",
       "      <td>0</td>\n",
       "      <td>Willy</td>\n",
       "      <td>Santantines</td>\n",
       "      <td>6.0</td>\n",
       "      <td>5.0</td>\n",
       "      <td>1.0</td>\n",
       "      <td>1.0</td>\n",
       "    </tr>\n",
       "  </tbody>\n",
       "</table>\n",
       "<p>5 rows × 21 columns</p>\n",
       "</div>"
      ],
      "text/plain": [
       "  PassengerId  HomePlanet CryoSleep  Cabin  Destination   Age VIP  \\\n",
       "0     0001_01         1.0         0  B/0/P          2.0  39.0   0   \n",
       "1     0002_01         0.0         0  F/0/S          2.0  24.0   0   \n",
       "2     0003_01         1.0         0  A/0/S          2.0  58.0   1   \n",
       "3     0003_02         1.0         0  A/0/S          2.0  33.0   0   \n",
       "4     0004_01         0.0         0  F/1/S          2.0  16.0   0   \n",
       "\n",
       "   RoomService  FoodCourt  ShoppingMall  ...  VRDeck               Name  \\\n",
       "0          0.0        0.0           0.0  ...     0.0    Maham Ofracculy   \n",
       "1        109.0        9.0          25.0  ...    44.0       Juanna Vines   \n",
       "2         43.0     3576.0           0.0  ...    49.0      Altark Susent   \n",
       "3          0.0     1283.0         371.0  ...   193.0       Solam Susent   \n",
       "4        303.0       70.0         151.0  ...     2.0  Willy Santantines   \n",
       "\n",
       "  Transported  Adult   First         Last Family  deck  num  side  \n",
       "0           0      1   Maham    Ofracculy    1.0   1.0  0.0   0.0  \n",
       "1           1      1  Juanna        Vines    4.0   5.0  0.0   1.0  \n",
       "2           0      1  Altark       Susent    6.0   0.0  0.0   1.0  \n",
       "3           0      1   Solam       Susent    6.0   0.0  0.0   1.0  \n",
       "4           1      0   Willy  Santantines    6.0   5.0  1.0   1.0  \n",
       "\n",
       "[5 rows x 21 columns]"
      ]
     },
     "execution_count": 11,
     "metadata": {},
     "output_type": "execute_result"
    }
   ],
   "source": [
    "from sklearn.preprocessing import OrdinalEncoder\n",
    "col_names = ['HomePlanet', 'Destination', 'num', 'side', 'deck']\n",
    "df_encode = df[col_names]\n",
    "encoder = OrdinalEncoder()\n",
    "df[col_names] = encoder.fit_transform(df_encode)\n",
    "df.head()"
   ]
  },
  {
   "cell_type": "markdown",
   "id": "73ff26bf",
   "metadata": {
    "papermill": {
     "duration": 0.050232,
     "end_time": "2022-06-09T19:14:36.384160",
     "exception": false,
     "start_time": "2022-06-09T19:14:36.333928",
     "status": "completed"
    },
    "tags": []
   },
   "source": [
    "# Numeric DataFrame"
   ]
  },
  {
   "cell_type": "code",
   "execution_count": 12,
   "id": "0262ed23",
   "metadata": {
    "execution": {
     "iopub.execute_input": "2022-06-09T19:14:36.484204Z",
     "iopub.status.busy": "2022-06-09T19:14:36.483275Z",
     "iopub.status.idle": "2022-06-09T19:14:36.512462Z",
     "shell.execute_reply": "2022-06-09T19:14:36.511891Z"
    },
    "papermill": {
     "duration": 0.080606,
     "end_time": "2022-06-09T19:14:36.514252",
     "exception": false,
     "start_time": "2022-06-09T19:14:36.433646",
     "status": "completed"
    },
    "tags": []
   },
   "outputs": [
    {
     "data": {
      "text/html": [
       "<div>\n",
       "<style scoped>\n",
       "    .dataframe tbody tr th:only-of-type {\n",
       "        vertical-align: middle;\n",
       "    }\n",
       "\n",
       "    .dataframe tbody tr th {\n",
       "        vertical-align: top;\n",
       "    }\n",
       "\n",
       "    .dataframe thead th {\n",
       "        text-align: right;\n",
       "    }\n",
       "</style>\n",
       "<table border=\"1\" class=\"dataframe\">\n",
       "  <thead>\n",
       "    <tr style=\"text-align: right;\">\n",
       "      <th></th>\n",
       "      <th>HomePlanet</th>\n",
       "      <th>Destination</th>\n",
       "      <th>Age</th>\n",
       "      <th>RoomService</th>\n",
       "      <th>FoodCourt</th>\n",
       "      <th>ShoppingMall</th>\n",
       "      <th>Spa</th>\n",
       "      <th>VRDeck</th>\n",
       "      <th>Transported</th>\n",
       "      <th>Adult</th>\n",
       "      <th>Family</th>\n",
       "      <th>deck</th>\n",
       "      <th>num</th>\n",
       "      <th>side</th>\n",
       "    </tr>\n",
       "  </thead>\n",
       "  <tbody>\n",
       "    <tr>\n",
       "      <th>0</th>\n",
       "      <td>1.0</td>\n",
       "      <td>2.0</td>\n",
       "      <td>39.0</td>\n",
       "      <td>0.0</td>\n",
       "      <td>0.0</td>\n",
       "      <td>0.0</td>\n",
       "      <td>0.0</td>\n",
       "      <td>0.0</td>\n",
       "      <td>0</td>\n",
       "      <td>1</td>\n",
       "      <td>1.0</td>\n",
       "      <td>1.0</td>\n",
       "      <td>0.0</td>\n",
       "      <td>0.0</td>\n",
       "    </tr>\n",
       "    <tr>\n",
       "      <th>1</th>\n",
       "      <td>0.0</td>\n",
       "      <td>2.0</td>\n",
       "      <td>24.0</td>\n",
       "      <td>109.0</td>\n",
       "      <td>9.0</td>\n",
       "      <td>25.0</td>\n",
       "      <td>549.0</td>\n",
       "      <td>44.0</td>\n",
       "      <td>1</td>\n",
       "      <td>1</td>\n",
       "      <td>4.0</td>\n",
       "      <td>5.0</td>\n",
       "      <td>0.0</td>\n",
       "      <td>1.0</td>\n",
       "    </tr>\n",
       "    <tr>\n",
       "      <th>2</th>\n",
       "      <td>1.0</td>\n",
       "      <td>2.0</td>\n",
       "      <td>58.0</td>\n",
       "      <td>43.0</td>\n",
       "      <td>3576.0</td>\n",
       "      <td>0.0</td>\n",
       "      <td>6715.0</td>\n",
       "      <td>49.0</td>\n",
       "      <td>0</td>\n",
       "      <td>1</td>\n",
       "      <td>6.0</td>\n",
       "      <td>0.0</td>\n",
       "      <td>0.0</td>\n",
       "      <td>1.0</td>\n",
       "    </tr>\n",
       "    <tr>\n",
       "      <th>3</th>\n",
       "      <td>1.0</td>\n",
       "      <td>2.0</td>\n",
       "      <td>33.0</td>\n",
       "      <td>0.0</td>\n",
       "      <td>1283.0</td>\n",
       "      <td>371.0</td>\n",
       "      <td>3329.0</td>\n",
       "      <td>193.0</td>\n",
       "      <td>0</td>\n",
       "      <td>1</td>\n",
       "      <td>6.0</td>\n",
       "      <td>0.0</td>\n",
       "      <td>0.0</td>\n",
       "      <td>1.0</td>\n",
       "    </tr>\n",
       "    <tr>\n",
       "      <th>4</th>\n",
       "      <td>0.0</td>\n",
       "      <td>2.0</td>\n",
       "      <td>16.0</td>\n",
       "      <td>303.0</td>\n",
       "      <td>70.0</td>\n",
       "      <td>151.0</td>\n",
       "      <td>565.0</td>\n",
       "      <td>2.0</td>\n",
       "      <td>1</td>\n",
       "      <td>0</td>\n",
       "      <td>6.0</td>\n",
       "      <td>5.0</td>\n",
       "      <td>1.0</td>\n",
       "      <td>1.0</td>\n",
       "    </tr>\n",
       "  </tbody>\n",
       "</table>\n",
       "</div>"
      ],
      "text/plain": [
       "   HomePlanet  Destination   Age  RoomService  FoodCourt  ShoppingMall  \\\n",
       "0         1.0          2.0  39.0          0.0        0.0           0.0   \n",
       "1         0.0          2.0  24.0        109.0        9.0          25.0   \n",
       "2         1.0          2.0  58.0         43.0     3576.0           0.0   \n",
       "3         1.0          2.0  33.0          0.0     1283.0         371.0   \n",
       "4         0.0          2.0  16.0        303.0       70.0         151.0   \n",
       "\n",
       "      Spa  VRDeck  Transported  Adult  Family  deck  num  side  \n",
       "0     0.0     0.0            0      1     1.0   1.0  0.0   0.0  \n",
       "1   549.0    44.0            1      1     4.0   5.0  0.0   1.0  \n",
       "2  6715.0    49.0            0      1     6.0   0.0  0.0   1.0  \n",
       "3  3329.0   193.0            0      1     6.0   0.0  0.0   1.0  \n",
       "4   565.0     2.0            1      0     6.0   5.0  1.0   1.0  "
      ]
     },
     "execution_count": 12,
     "metadata": {},
     "output_type": "execute_result"
    }
   ],
   "source": [
    "numerics = ['int16', 'int32', 'int64', 'float16', 'float32', 'float64']\n",
    "df = df.select_dtypes(include=numerics)\n",
    "df= df.fillna(df.mean())\n",
    "df.head()"
   ]
  },
  {
   "cell_type": "markdown",
   "id": "81b22472",
   "metadata": {
    "papermill": {
     "duration": 0.048532,
     "end_time": "2022-06-09T19:14:36.611762",
     "exception": false,
     "start_time": "2022-06-09T19:14:36.563230",
     "status": "completed"
    },
    "tags": []
   },
   "source": [
    "# Split Data"
   ]
  },
  {
   "cell_type": "code",
   "execution_count": 13,
   "id": "1358b7f6",
   "metadata": {
    "execution": {
     "iopub.execute_input": "2022-06-09T19:14:36.711775Z",
     "iopub.status.busy": "2022-06-09T19:14:36.711287Z",
     "iopub.status.idle": "2022-06-09T19:14:36.720047Z",
     "shell.execute_reply": "2022-06-09T19:14:36.719236Z"
    },
    "papermill": {
     "duration": 0.061389,
     "end_time": "2022-06-09T19:14:36.722474",
     "exception": false,
     "start_time": "2022-06-09T19:14:36.661085",
     "status": "completed"
    },
    "tags": []
   },
   "outputs": [],
   "source": [
    "X=df.drop('Transported', axis=1)\n",
    "y=df['Transported']\n",
    "\n",
    "X_train, X_test, y_train, y_test = train_test_split(\n",
    "    X, y, test_size=0.3, random_state=13)"
   ]
  },
  {
   "attachments": {
    "0bb3aff7-a5f5-4d90-9c98-c84994f7b96c.png": {
     "image/png": "[encoded data removed]"
    },
    "0cf68b5a-92fc-409b-a8e0-043a0e0a7a0f.png": {
     "image/png": "[encoded data removed]"
    }
   },
   "cell_type": "markdown",
   "id": "64cfc688",
   "metadata": {
    "papermill": {
     "duration": 0.048979,
     "end_time": "2022-06-09T19:14:36.821041",
     "exception": false,
     "start_time": "2022-06-09T19:14:36.772062",
     "status": "completed"
    },
    "tags": []
   },
   "source": [
    "# Gradient Boost\n",
    "AUC for gradient boost is:  0.7922\n",
    "The mean squared error (MSE) on test set: 0.2082\n",
    "\n",
    "![image.png](attachment:0cf68b5a-92fc-409b-a8e0-043a0e0a7a0f.png)\n",
    "![image.png](attachment:0bb3aff7-a5f5-4d90-9c98-c84994f7b96c.png)"
   ]
  },
  {
   "cell_type": "code",
   "execution_count": 14,
   "id": "27bcd136",
   "metadata": {
    "execution": {
     "iopub.execute_input": "2022-06-09T19:14:36.922843Z",
     "iopub.status.busy": "2022-06-09T19:14:36.922328Z",
     "iopub.status.idle": "2022-06-09T19:14:36.952448Z",
     "shell.execute_reply": "2022-06-09T19:14:36.951739Z"
    },
    "papermill": {
     "duration": 0.083213,
     "end_time": "2022-06-09T19:14:36.954667",
     "exception": false,
     "start_time": "2022-06-09T19:14:36.871454",
     "status": "completed"
    },
    "tags": []
   },
   "outputs": [],
   "source": [
    "from sklearn.inspection import permutation_importance\n",
    "from sklearn.ensemble import GradientBoostingClassifier,GradientBoostingRegressor\n",
    "\n",
    "def gbDepth():\n",
    "    depthList=[2, 3, 4, 5, 7, 9, 11, 13]\n",
    "    accList=[]\n",
    "    cvList=[]\n",
    "    \n",
    "    for d in depthList:\n",
    "        params = {\n",
    "         \"n_estimators\": 10, \"max_depth\": d, \n",
    "            \"min_samples_split\": 5, \"learning_rate\": 0.01,\n",
    "        }\n",
    "\n",
    "        #Fit and Predict:\n",
    "        gb = ensemble.GradientBoostingRegressor(**params)\n",
    "        gb.fit(X_train, y_train)\n",
    "        y_pred = gb.predict(X_test)\n",
    "        \n",
    "        gbR2 = r2_score(y_test, y_pred).round(4) \n",
    "        mse = mean_squared_error(y_test, gb.predict(X_test))\n",
    "        print(d, \" max_depth || GB reg r2: \", gbR2, \"|| MSE: {:.4f}\".format(mse)) \n",
    "        \n",
    "        gbScore = gb.score(X_test, y_test).round(4)  # train test \n",
    "        gbCV = cross_validate(gb, X, y, cv = 5, scoring= 'r2')\n",
    "        gbCV=gbCV['test_score'].mean().round(4)\n",
    "        \n",
    "        cvList.append(gbCV)\n",
    "        accList.append(gbScore)\n",
    "        \n",
    "    plt.plot(depthList,accList, label=\"train\")\n",
    "    plt.plot(depthList,cvList, label=\"test\")\n",
    "    plt.title('Graident Boost MaxDepth Cross Validate')\n",
    "    plt.xlabel('MaxDepth')\n",
    "    plt.ylabel('Accuracy')\n",
    "    plt.legend()\n",
    "    plt.show() \n",
    "\n",
    "def gbN():\n",
    "    nList=[2, 10, 30, 50, 70, 100, 150, 200, 300, 400, 500, 600, 800]\n",
    "    accList=[]\n",
    "    cvList=[]\n",
    "    for n in nList:\n",
    "        params = {\n",
    "         \"n_estimators\": n, \"max_depth\": 2, \n",
    "            \"min_samples_split\": 2, \"learning_rate\": 0.01,\n",
    "        }\n",
    "\n",
    "        #Fit and Predict:\n",
    "        gb = ensemble.GradientBoostingRegressor(**params)\n",
    "        gb.fit(X_train, y_train)\n",
    "        y_pred = gb.predict(X_test)\n",
    "        \n",
    "        gbR2 = r2_score(y_test, y_pred).round(4) \n",
    "        mse = mean_squared_error(y_test, gb.predict(X_test))\n",
    "        print(n, \"n_estimators || GB r2: \", gbR2, \"|| MSE: {:.4f}\".format(mse)) \n",
    "        \n",
    "        gbScore = gb.score(X_test, y_test).round(4)  # train test \n",
    "        gbCV = cross_validate(gb, X, y, cv = 4, scoring= 'r2')\n",
    "        gbCV=gbCV['test_score'].mean().round(4)\n",
    "        print(\"Forest Score: \", forestScore  ,\"||\" , forestCV, \"cross validate.\")\n",
    "        \n",
    "        accList.append(gbScore)\n",
    "        cvList.append(gbCV)\n",
    "    \n",
    "    plt.plot(nList,accList, label=\"train\")\n",
    "    plt.plot(nList,cvList, label=\"test\")\n",
    "    plt.title('Gradient Boost n_estimators Cross Validate')\n",
    "    plt.xlabel('n_esatimors')\n",
    "    plt.ylabel('Accuracy')\n",
    "    plt.legend()\n",
    "    plt.show() \n",
    "    \n",
    "def gbSplit():\n",
    "    sList=[2, 3, 5, 7]\n",
    "    \n",
    "    for s in sList:\n",
    "        params = {\n",
    "         \"n_estimators\": 500, \"max_depth\": 2,\n",
    "            \"min_samples_split\": s, \"learning_rate\": 0.01,\n",
    "        }\n",
    "\n",
    "        #Fit and Predict:\n",
    "        reg = ensemble.GradientBoostingRegressor(**params)\n",
    "        reg.fit(X_train, y_train)\n",
    "        y_pred = reg.predict(X_test)\n",
    "        gbr_r2 = r2_score(y_test, y_pred).round(4)\n",
    "        mse = mean_squared_error(y_test, reg.predict(X_test)).round(4)\n",
    "        print(s,\" min_samples_splits || R2 \", gbr_r2, \" || MSE {:.4f}\".format(mse))\n",
    "\n",
    "#Turn on or off functions here:\n",
    "#gbDepth()\n",
    "#gbN()\n",
    "#gbSplit()"
   ]
  },
  {
   "cell_type": "code",
   "execution_count": 15,
   "id": "239b2372",
   "metadata": {
    "execution": {
     "iopub.execute_input": "2022-06-09T19:14:37.054520Z",
     "iopub.status.busy": "2022-06-09T19:14:37.053763Z",
     "iopub.status.idle": "2022-06-09T19:14:46.112138Z",
     "shell.execute_reply": "2022-06-09T19:14:46.111135Z"
    },
    "papermill": {
     "duration": 9.11136,
     "end_time": "2022-06-09T19:14:46.115135",
     "exception": false,
     "start_time": "2022-06-09T19:14:37.003775",
     "status": "completed"
    },
    "tags": []
   },
   "outputs": [
    {
     "name": "stdout",
     "output_type": "stream",
     "text": [
      "Gradient boosting regression r2:  0.1856\n",
      "AUC for gradient boost is:  0.7965\n",
      "The mean squared error (MSE) on test set: 0.2036\n"
     ]
    }
   ],
   "source": [
    "params = {\n",
    " \"n_estimators\": 600, \n",
    "    \"max_depth\": 5, \n",
    "    \"min_samples_split\": 7, \n",
    "    \"learning_rate\": 0.01,\n",
    "}\n",
    "\n",
    "#Fit and Predict:\n",
    "reg = ensemble.GradientBoostingClassifier(**params)\n",
    "reg.fit(X_train, y_train)\n",
    "y_pred = reg.predict(X_test)\n",
    "gbr_r2 = r2_score(y_test, y_pred).round(4) \n",
    "print(\"Gradient boosting regression r2: \", gbr_r2) \n",
    "\n",
    "#AUC of model\n",
    "auc = round( metrics.roc_auc_score(y_test, y_pred), 4 ) \n",
    "print(\"AUC for gradient boost is: \", auc)\n",
    "\n",
    "mse = mean_squared_error(y_test, reg.predict(X_test))\n",
    "print(\"The mean squared error (MSE) on test set: {:.4f}\".format(mse))"
   ]
  },
  {
   "cell_type": "markdown",
   "id": "0868105a",
   "metadata": {
    "papermill": {
     "duration": 0.049699,
     "end_time": "2022-06-09T19:14:46.215421",
     "exception": false,
     "start_time": "2022-06-09T19:14:46.165722",
     "status": "completed"
    },
    "tags": []
   },
   "source": [
    "# Feature Importance"
   ]
  },
  {
   "cell_type": "code",
   "execution_count": 16,
   "id": "bdd2fcfd",
   "metadata": {
    "execution": {
     "iopub.execute_input": "2022-06-09T19:14:46.316203Z",
     "iopub.status.busy": "2022-06-09T19:14:46.315658Z",
     "iopub.status.idle": "2022-06-09T19:14:52.332994Z",
     "shell.execute_reply": "2022-06-09T19:14:52.332327Z"
    },
    "papermill": {
     "duration": 6.070222,
     "end_time": "2022-06-09T19:14:52.335080",
     "exception": false,
     "start_time": "2022-06-09T19:14:46.264858",
     "status": "completed"
    },
    "tags": []
   },
   "outputs": [
    {
     "data": {
      "image/png": "[encoded data removed]",
      "text/plain": [
       "<Figure size 864x432 with 2 Axes>"
      ]
     },
     "metadata": {
      "needs_background": "light"
     },
     "output_type": "display_data"
    }
   ],
   "source": [
    "cols=X.columns\n",
    "feature_importance = reg.feature_importances_\n",
    "sorted_idx = np.argsort(feature_importance)\n",
    "pos = np.arange(sorted_idx.shape[0]) + 0.5\n",
    "fig = plt.figure(figsize=(12, 6))\n",
    "plt.subplot(1, 2, 1)\n",
    "plt.barh(pos, feature_importance[sorted_idx], align=\"center\")\n",
    "plt.yticks(pos, np.array(cols)[sorted_idx])\n",
    "plt.title(\"Feature Importance (MDI)\")\n",
    "\n",
    "result = permutation_importance(\n",
    "    reg, X_test, y_test, n_repeats=10, random_state=42, n_jobs=2\n",
    ")\n",
    "sorted_idx = result.importances_mean.argsort()\n",
    "plt.subplot(1, 2, 2)\n",
    "plt.boxplot(\n",
    "    result.importances[sorted_idx].T,\n",
    "    vert=False,\n",
    "    labels=np.array(cols)[sorted_idx],\n",
    ")\n",
    "plt.title(\"Permutation Importance (test set)\")\n",
    "fig.tight_layout()\n",
    "plt.show()"
   ]
  },
  {
   "cell_type": "markdown",
   "id": "729e5a6a",
   "metadata": {
    "papermill": {
     "duration": 0.050946,
     "end_time": "2022-06-09T19:14:52.436469",
     "exception": false,
     "start_time": "2022-06-09T19:14:52.385523",
     "status": "completed"
    },
    "tags": []
   },
   "source": [
    "# Logistic Regression"
   ]
  },
  {
   "cell_type": "code",
   "execution_count": 17,
   "id": "853c5ea6",
   "metadata": {
    "execution": {
     "iopub.execute_input": "2022-06-09T19:14:52.539496Z",
     "iopub.status.busy": "2022-06-09T19:14:52.538915Z",
     "iopub.status.idle": "2022-06-09T19:14:53.314377Z",
     "shell.execute_reply": "2022-06-09T19:14:53.311786Z"
    },
    "papermill": {
     "duration": 0.831423,
     "end_time": "2022-06-09T19:14:53.318525",
     "exception": false,
     "start_time": "2022-06-09T19:14:52.487102",
     "status": "completed"
    },
    "tags": []
   },
   "outputs": [
    {
     "name": "stdout",
     "output_type": "stream",
     "text": [
      "AUC for logistic regression is:  0.8569\n",
      "Logistic Accuracy:  0.7768\n",
      "0.1068  Logistic Regression cross validate\n"
     ]
    }
   ],
   "source": [
    "from sklearn.linear_model import LogisticRegression\n",
    "logReg = LogisticRegression(solver='liblinear') #solver param gets rid of encoder error\n",
    "\n",
    "#Train the model and create predictions\n",
    "logReg.fit(X_train, y_train)\n",
    "logPredict = logReg.predict_proba(X_test)[::,1]\n",
    "\n",
    "#calculate AUC of model\n",
    "auc = round( metrics.roc_auc_score(y_test, logPredict), 4 ) \n",
    "print(\"AUC for logistic regression is: \", auc)\n",
    "\n",
    "#CROSS VALIDATE TEST RESULTS:\n",
    "logScore = logReg.score(X_test, y_test).round(4)  # train test \n",
    "print(\"Logistic Accuracy: \", logScore)\n",
    "logCV = cross_validate(logReg, X, y, cv = 5, scoring= 'r2')\n",
    "logCV=logCV['test_score'].mean().round(4)\n",
    "print(logCV, \" Logistic Regression cross validate\")"
   ]
  },
  {
   "cell_type": "markdown",
   "id": "e9b064de",
   "metadata": {
    "papermill": {
     "duration": 0.059698,
     "end_time": "2022-06-09T19:14:53.473022",
     "exception": false,
     "start_time": "2022-06-09T19:14:53.413324",
     "status": "completed"
    },
    "tags": []
   },
   "source": [
    "# Linear Regression"
   ]
  },
  {
   "cell_type": "code",
   "execution_count": 18,
   "id": "769fcd29",
   "metadata": {
    "execution": {
     "iopub.execute_input": "2022-06-09T19:14:53.577485Z",
     "iopub.status.busy": "2022-06-09T19:14:53.577191Z",
     "iopub.status.idle": "2022-06-09T19:14:54.035217Z",
     "shell.execute_reply": "2022-06-09T19:14:54.034291Z"
    },
    "papermill": {
     "duration": 0.513181,
     "end_time": "2022-06-09T19:14:54.037688",
     "exception": false,
     "start_time": "2022-06-09T19:14:53.524507",
     "status": "completed"
    },
    "tags": []
   },
   "outputs": [
    {
     "name": "stdout",
     "output_type": "stream",
     "text": [
      "AUC for linear regression is:  0.8044\n",
      "Linear regression r2 score:  0.2172\n",
      "Linear Accuracy:  0.2172\n",
      "0.2055  linear regression cross validate mean\n"
     ]
    },
    {
     "data": {
      "image/png": "[encoded data removed]",
      "text/plain": [
       "<Figure size 432x288 with 1 Axes>"
      ]
     },
     "metadata": {
      "needs_background": "light"
     },
     "output_type": "display_data"
    }
   ],
   "source": [
    "from sklearn.linear_model import LinearRegression, Ridge, Lasso\n",
    "\n",
    "#Fit and predict:\n",
    "lrModel = LinearRegression()\n",
    "lrModel.fit(X_train, y_train)\n",
    "lrPredict = lrModel.predict(X_test)\n",
    "\n",
    "# plt.scatter(y_test, predictions)\n",
    "plt.hist(y_test - lrPredict)\n",
    "\n",
    "#Linear Metrics:\n",
    "auc = round( metrics.roc_auc_score(y_test, lrPredict), 4 ) \n",
    "r2 = r2_score(y_test, lrPredict).round(4) \n",
    "print(\"AUC for linear regression is: \", auc)\n",
    "print(\"Linear regression r2 score: \", r2)\n",
    "\n",
    "#CROSS VALIDATE TEST RESULTS:\n",
    "lr_score = lrModel.score(X_test, y_test).round(4)  # train test \n",
    "print(\"Linear Accuracy: \", lr_score)\n",
    "lr_cv = cross_validate(lrModel, X, y, cv = 5, scoring= 'r2')\n",
    "lr_cvMean=lr_cv['test_score'].mean().round(4)\n",
    "print(lr_cvMean, \" linear regression cross validate mean\")\n",
    "\n",
    "def linearReports():\n",
    "    print(model.coef_)    \n",
    "    print(model.intercept_)\n",
    "    print(classification_report(y_test_data, lrPredict))\n",
    "    print(confusion_matrix(y_test_data, lrPredict))\n",
    "    metrics.mean_absolute_error(y_test, lrPredict)\n",
    "    np.sqrt(metrics.mean_squared_error(y_test, lrPredict))"
   ]
  },
  {
   "attachments": {
    "f752b952-cf92-46d5-b299-169252215ad1.png": {
     "image/png": "[encoded data removed]"
    },
    "fa2af2b2-61cc-465f-aeeb-cbddee6201ba.png": {
     "image/png": "[encoded data removed]"
    }
   },
   "cell_type": "markdown",
   "id": "94edeed6",
   "metadata": {
    "papermill": {
     "duration": 0.052152,
     "end_time": "2022-06-09T19:14:54.142599",
     "exception": false,
     "start_time": "2022-06-09T19:14:54.090447",
     "status": "completed"
    },
    "tags": []
   },
   "source": [
    "# Decision Tree\n",
    "* 11  best max_depth parameter with least MAE\n",
    "* 500  best max_leaf_node\n",
    "\n",
    "#### Overfitting Tree:\n",
    "Decision tree tends to overfit data which is clearly happening in this case:\n",
    "\n",
    "AUC for decision tree is: 0.9187\n",
    "R-squared for decision tree is: 0.5415\n",
    "0.3099 Tree cross validate mean\n",
    "Line graphs should help show where the decision tree parameters should truly be set at. \n",
    "The train data results should correlated with the final test data.\n",
    "\n",
    "![image.png](attachment:f752b952-cf92-46d5-b299-169252215ad1.png)\n",
    "\n",
    "![image.png](attachment:fa2af2b2-61cc-465f-aeeb-cbddee6201ba.png)"
   ]
  },
  {
   "cell_type": "code",
   "execution_count": 19,
   "id": "f1a3666e",
   "metadata": {
    "execution": {
     "iopub.execute_input": "2022-06-09T19:14:54.249793Z",
     "iopub.status.busy": "2022-06-09T19:14:54.249351Z",
     "iopub.status.idle": "2022-06-09T19:14:54.266103Z",
     "shell.execute_reply": "2022-06-09T19:14:54.265458Z"
    },
    "papermill": {
     "duration": 0.073168,
     "end_time": "2022-06-09T19:14:54.268229",
     "exception": false,
     "start_time": "2022-06-09T19:14:54.195061",
     "status": "completed"
    },
    "tags": []
   },
   "outputs": [],
   "source": [
    "from sklearn.tree import DecisionTreeRegressor\n",
    "\n",
    "#FIND best_tree_size LEAF NODES:\n",
    "def calcLeaf():\n",
    "    candidate_max_leaf_nodes = [5, 25, 50, 100, 250, 500, 700]\n",
    "    maeDic={} #dictionary  key=leaf  mae=value\n",
    "    for leaf in candidate_max_leaf_nodes:\n",
    "        model = DecisionTreeRegressor(max_leaf_nodes=leaf, random_state=42)\n",
    "        model.fit(X_train, y_train)\n",
    "        y_pred = model.predict(X_test)\n",
    "        mae = mean_absolute_error(y_test, y_pred).round(4)\n",
    "        maeDic[leaf]=mae\n",
    "    print(maeDic)\n",
    "    best_tree_size = sorted(maeDic, key=lambda x : maeDic[x])[0]\n",
    "    print(best_tree_size, \" best max_leaf_node\") #500 is best\n",
    "    \n",
    "def calcDepth():\n",
    "    max_depth_list = [2, 3, 5, 7, 9, 11, 15]\n",
    "    maeDic={} #dictionary  key=depth  mae=value\n",
    "    for d in max_depth_list:\n",
    "        model = DecisionTreeRegressor(max_leaf_nodes=500, max_depth=d, random_state=42)\n",
    "        model.fit(X_train, y_train)\n",
    "        y_pred = model.predict(X_test)\n",
    "        mae = mean_absolute_error(y_test, y_pred).round(4)\n",
    "        maeDic[d]=mae\n",
    "    print(maeDic)\n",
    "    best_max_depth = sorted(maeDic, key=lambda x : maeDic[x])[0]\n",
    "    print(best_max_depth, \" best max_depth parameter with least MAE\") #11\n",
    "    \n",
    "def automateTree():\n",
    "    start=time.time()\n",
    "    candidate_max_leaf_nodes = [5, 25, 50, 100, 250, 500]\n",
    "    max_depth_list = [2, 3, 5, 7, 9, 11]\n",
    "    \n",
    "    #STORE DATA INTO LISTS FOR DATAFRAME LATER:\n",
    "    aucList=[]\n",
    "    maeList=[]\n",
    "    maxDepthList=[]\n",
    "    maxLeafNodesList=[]\n",
    "\n",
    "    for d in max_depth_list:\n",
    "        for leaf in candidate_max_leaf_nodes:\n",
    "            model = DecisionTreeRegressor(max_leaf_nodes=leaf, max_depth=d, random_state=42)\n",
    "            model.fit(X_train, y_train)\n",
    "            y_pred = model.predict(X_test)\n",
    "            mae = mean_absolute_error(y_test, y_pred).round(4)\n",
    "            treeAUC = round( metrics.roc_auc_score(y_test, y_pred), 4 ) \n",
    "            \n",
    "            aucList.append(treeAUC)\n",
    "            maeList.append(mae)\n",
    "            maxDepthList.append(d)\n",
    "            maxLeafNodesList.append(leaf)\n",
    "           \n",
    "            \n",
    "    df = pd.DataFrame(list(zip(aucList, maeList, maxDepthList, maxLeafNodesList)),\n",
    "                          columns=['AUC','MAE', 'MaxDepth', 'MaxLeafNodes'])\n",
    "    \n",
    "    df=df.sort_values(by=['AUC'], ascending=True)\n",
    "    print(\"Done. \", round(time.time()-start,4), \" seconds\")\n",
    "    return df\n",
    "\n",
    "#calcDepth() \n",
    "#calcLeaf()\n",
    "#treeDF=automateTree()\n",
    "#treeDF.head()"
   ]
  },
  {
   "cell_type": "code",
   "execution_count": 20,
   "id": "d724857b",
   "metadata": {
    "execution": {
     "iopub.execute_input": "2022-06-09T19:14:54.375096Z",
     "iopub.status.busy": "2022-06-09T19:14:54.374691Z",
     "iopub.status.idle": "2022-06-09T19:14:54.384690Z",
     "shell.execute_reply": "2022-06-09T19:14:54.384007Z"
    },
    "papermill": {
     "duration": 0.066112,
     "end_time": "2022-06-09T19:14:54.386710",
     "exception": false,
     "start_time": "2022-06-09T19:14:54.320598",
     "status": "completed"
    },
    "tags": []
   },
   "outputs": [],
   "source": [
    "def validateTreeDepth():\n",
    "    max_depth_list = [2, 3, 4, 5, 7, 9, 11]\n",
    "    \n",
    "    #STORE DATA INTO LISTS FOR DATAFRAME LATER:\n",
    "    accList=[]\n",
    "    cvList=[]\n",
    "    maeList=[]\n",
    "    \n",
    "    maxLeafNodesList=[]\n",
    "    maxDepthList=[]\n",
    "\n",
    "    for d in max_depth_list:\n",
    "        maxDepthList.append(d)\n",
    "        \n",
    "        tree = DecisionTreeRegressor(max_leaf_nodes=10, max_depth=d, random_state=42)\n",
    "        tree.fit(X_train, y_train)\n",
    "        y_pred = tree.predict(X_test)\n",
    "        mae = mean_absolute_error(y_test, y_pred).round(4)\n",
    "        treeR2 = r2_score(y_test, y_pred).round(4)\n",
    "        accList.append(treeR2)\n",
    "\n",
    "        #CROSS VALIDATE TEST RESULTS:\n",
    "        treeScore = tree.score(X_test, y_test).round(4)  # train test \n",
    "        #print(\"Tree Score: \", treeScore)\n",
    "        treeCV = cross_validate(tree, X, y, cv = 5, scoring= 'r2')\n",
    "        treeCV=treeCV['test_score'].mean().round(4)\n",
    "        cvList.append(treeCV)\n",
    "        #print(treeCV, \" Decision Tree cross validate.\")\n",
    "       # print(treeCV-treeR2, \" validation error\")\n",
    "    plt.plot(maxDepthList,accList, label=\"line1\")\n",
    "    plt.plot(maxDepthList,cvList, label=\"line2\")\n",
    "    plt.title('Decision Tree Cross Validate')\n",
    "    plt.xlabel('MaxDepth')\n",
    "    plt.ylabel('Accuracy')\n",
    "    plt.show() \n",
    "#validateTreeDepth()"
   ]
  },
  {
   "cell_type": "code",
   "execution_count": 21,
   "id": "8ecc2773",
   "metadata": {
    "execution": {
     "iopub.execute_input": "2022-06-09T19:14:54.494562Z",
     "iopub.status.busy": "2022-06-09T19:14:54.494114Z",
     "iopub.status.idle": "2022-06-09T19:14:54.503991Z",
     "shell.execute_reply": "2022-06-09T19:14:54.503414Z"
    },
    "papermill": {
     "duration": 0.066497,
     "end_time": "2022-06-09T19:14:54.505934",
     "exception": false,
     "start_time": "2022-06-09T19:14:54.439437",
     "status": "completed"
    },
    "tags": []
   },
   "outputs": [],
   "source": [
    "def validateLeafTree():\n",
    "    accList=[]\n",
    "    cvList=[]\n",
    "    maeList=[]\n",
    "    \n",
    "    maxLeafNodesList=[]\n",
    "    maxDepthList=[]\n",
    "    \n",
    "    candidate_max_leaf_nodes = [2, 3, 4, 5, 8, 10, 15, 20]\n",
    "    for leaf in candidate_max_leaf_nodes:\n",
    "        maxLeafNodesList.append(leaf)\n",
    "        \n",
    "        tree = DecisionTreeRegressor(max_leaf_nodes=leaf, max_depth=4, random_state=42)\n",
    "        tree.fit(X_train, y_train)\n",
    "        y_pred = tree.predict(X_test)\n",
    "        mae = mean_absolute_error(y_test, y_pred).round(4)\n",
    "        treeR2 = r2_score(y_test, y_pred).round(4)\n",
    "        accList.append(treeR2)\n",
    "\n",
    "        #CROSS VALIDATE TEST RESULTS:\n",
    "        treeScore = tree.score(X_test, y_test).round(4)  # train test \n",
    "        #print(\"Tree Score: \", treeScore)\n",
    "        treeCV = cross_validate(tree, X, y, cv = 5, scoring= 'r2')\n",
    "        treeCV=treeCV['test_score'].mean().round(4)\n",
    "        cvList.append(treeCV)\n",
    "        #print(treeCV, \" Decision Tree cross validate.\")\n",
    "       # print(treeCV-treeR2, \" validation error\")\n",
    "    \n",
    "    plt.plot(maxLeafNodesList,accList, label=\"line1\")\n",
    "    plt.plot(maxLeafNodesList,cvList, label=\"line2\")\n",
    "    plt.title('Decision Tree Cross Validate')\n",
    "    plt.xlabel('Max Leaf Nodes')\n",
    "    plt.ylabel('Accuracy')\n",
    "    plt.show() \n",
    "#validateLeafTree()"
   ]
  },
  {
   "cell_type": "markdown",
   "id": "0ae43c48",
   "metadata": {
    "papermill": {
     "duration": 0.051812,
     "end_time": "2022-06-09T19:14:54.609915",
     "exception": false,
     "start_time": "2022-06-09T19:14:54.558103",
     "status": "completed"
    },
    "tags": []
   },
   "source": [
    "#### Decision Tree Final Prediction"
   ]
  },
  {
   "cell_type": "code",
   "execution_count": 22,
   "id": "2ef82fb9",
   "metadata": {
    "execution": {
     "iopub.execute_input": "2022-06-09T19:14:54.715761Z",
     "iopub.status.busy": "2022-06-09T19:14:54.715310Z",
     "iopub.status.idle": "2022-06-09T19:14:54.844851Z",
     "shell.execute_reply": "2022-06-09T19:14:54.843811Z"
    },
    "papermill": {
     "duration": 0.185162,
     "end_time": "2022-06-09T19:14:54.847227",
     "exception": false,
     "start_time": "2022-06-09T19:14:54.662065",
     "status": "completed"
    },
    "tags": []
   },
   "outputs": [
    {
     "name": "stdout",
     "output_type": "stream",
     "text": [
      "AUC for decision tree is:  0.8257\n",
      "R-squared for decision tree is:  0.3384\n",
      "0.4067  is tree MSE \n",
      "TreeScore:  0.2172\n",
      "0.3187  Tree cross validate mean\n"
     ]
    }
   ],
   "source": [
    "tree = DecisionTreeRegressor(\n",
    "    max_leaf_nodes=10, \n",
    "    max_depth=5,\n",
    "    random_state=42)\n",
    "\n",
    "#FIT AND PREDICT:\n",
    "tree.fit(X, y)\n",
    "y_pred = tree.predict(X_test)\n",
    "\n",
    "#AUC and R2 METRICS:\n",
    "treeR2 = r2_score(y_test, y_pred).round(4)\n",
    "treeAUC = round( metrics.roc_auc_score(y_test, y_pred), 4 ) \n",
    "print(\"AUC for decision tree is: \", treeAUC)\n",
    "print(\"R-squared for decision tree is: \", treeR2)\n",
    "\n",
    "treeMSE=np.sqrt(metrics.mean_squared_error(y_test, y_pred))\n",
    "print(round(treeMSE, 4), \" is tree MSE \")\n",
    "\n",
    "#CROSS VALIDATE RESULTS:\n",
    "treeScore = tree.score(X_test, y_test).round(4)  # train test \n",
    "print(\"TreeScore: \", lr_score)\n",
    "treeCV = cross_validate(tree, X, y, cv = 5, scoring= 'r2')\n",
    "treeCV=treeCV['test_score'].mean().round(4)\n",
    "print(treeCV, \" Tree cross validate mean\")"
   ]
  },
  {
   "attachments": {
    "a8cee3f3-3de9-4085-97e0-c0a53abcaa5b.png": {
     "image/png": "[encoded data removed]"
    },
    "cf32c38c-d0f9-400d-ba7f-6845ef2d23a1.png": {
     "image/png": "[encoded data removed]"
    }
   },
   "cell_type": "markdown",
   "id": "45f1f807",
   "metadata": {
    "papermill": {
     "duration": 0.052306,
     "end_time": "2022-06-09T19:14:54.951975",
     "exception": false,
     "start_time": "2022-06-09T19:14:54.899669",
     "status": "completed"
    },
    "tags": []
   },
   "source": [
    "# Random Forest\n",
    "* 2  n_estimates |  0.7964  AUC |  0.28  MAE\n",
    "* 102  n_estimates |  0.8554  AUC |  0.28  MAE\n",
    "* 202  n_estimates |  0.8554  AUC |  0.28  MAE\n",
    "* 302  n_estimates |  0.8555  AUC |  0.28  MAE\n",
    "* 402  n_estimates |  0.8558  AUC |  0.28  MAE\n",
    "\n",
    "#### Cross Validate: <br>\n",
    "![image.png](attachment:cf32c38c-d0f9-400d-ba7f-6845ef2d23a1.png)\n",
    "![image.png](attachment:a8cee3f3-3de9-4085-97e0-c0a53abcaa5b.png)"
   ]
  },
  {
   "cell_type": "code",
   "execution_count": 23,
   "id": "f0bd0f7b",
   "metadata": {
    "execution": {
     "iopub.execute_input": "2022-06-09T19:14:55.059487Z",
     "iopub.status.busy": "2022-06-09T19:14:55.058867Z",
     "iopub.status.idle": "2022-06-09T19:14:55.078258Z",
     "shell.execute_reply": "2022-06-09T19:14:55.077565Z"
    },
    "papermill": {
     "duration": 0.075872,
     "end_time": "2022-06-09T19:14:55.080308",
     "exception": false,
     "start_time": "2022-06-09T19:14:55.004436",
     "status": "completed"
    },
    "tags": []
   },
   "outputs": [],
   "source": [
    "from sklearn.ensemble import RandomForestRegressor, RandomForestClassifier\n",
    "\n",
    "#Check for Error and find Best n_estimators:\n",
    "def checkNumEst():\n",
    "    dMAE={} #dictionary of n_estimators as key and MAE as value:\n",
    "    nEst=[] #store n_estimators\n",
    "    cvList=[] #cross validate list\n",
    "    accList=[] #accuracy train data\n",
    "    mae=[] #error\n",
    "    \n",
    "    for n in [2, 10, 30, 50, 70, 100, 120, 150]:\n",
    "        forest = RandomForestRegressor(n_estimators=n, random_state = 0)\n",
    "        forest.fit(X_train, y_train)\n",
    "        y_pred = forest.predict(X_test)\n",
    "        MAE=metrics.mean_absolute_error(y_test, y_pred).round(2)\n",
    "        dMAE[n]=MAE\n",
    "      \n",
    "        #CROSS VALIDATE TEST RESULTS:\n",
    "        forestScore = forest.score(X_test, y_test).round(4)  # train test \n",
    "        forestCV = cross_validate(forest, X, y, cv = 5, scoring= 'r2')\n",
    "        forestCV=forestCV['test_score'].mean().round(4)\n",
    "        \n",
    "        print(\"n_estimates: \", n,  '  Mean Absolute Error:', MAE)\n",
    "        print(\"Forest Score: \", forestScore  ,\"||\" , forestCV, \"cross validate.\")\n",
    "       \n",
    "        nEst.append(n)\n",
    "        cvList.append(forestCV)\n",
    "        accList.append(forestScore)\n",
    "        mae.append(MAE)\n",
    "        \n",
    "    plt.plot(nEst,accList, label=\"line1\")\n",
    "    plt.plot(nEst,cvList, label=\"line2\")\n",
    "    plt.title(\"Forest N_Estimators\")\n",
    "    plt.xlabel('N_estimators')\n",
    "    plt.ylabel('Accuracy')\n",
    "    plt.show() \n",
    "    \n",
    "    dMAE=sorted(((v, k) for k, v in dMAE.items()), reverse=False)\n",
    "    print(dMAE)\n",
    "    \n",
    "def fMaxDepth():\n",
    "    dMAE={} #dictionary of n_estimators as key and MAE as value:\n",
    "    nEst=[] #store n_estimators\n",
    "    cvList=[] #cross validate list\n",
    "    accList=[] #accuracy train data\n",
    "    mae=[] #error\n",
    "    \n",
    "    for n in [2, 3, 5, 7, 10, 15, 20, 30, 40, 50]:\n",
    "        forest = RandomForestRegressor(n_estimators=10, max_depth=n, random_state = 0)\n",
    "        forest.fit(X_train, y_train)\n",
    "        y_pred = forest.predict(X_test)\n",
    "        MAE=metrics.mean_absolute_error(y_test, y_pred).round(2)\n",
    "        dMAE[n]=MAE\n",
    "      \n",
    "        #CROSS VALIDATE TEST RESULTS:\n",
    "        forestScore = forest.score(X_test, y_test).round(4)  # train test \n",
    "        forestCV = cross_validate(forest, X, y, cv = 5, scoring= 'r2')\n",
    "        forestCV=forestCV['test_score'].mean().round(4)\n",
    "        \n",
    "        print(\"max_depth: \", n,  '  Mean Absolute Error:', MAE)\n",
    "        print(\"Forest Score: \", forestScore  ,\"||\" , forestCV, \"cross validate.\")\n",
    "       \n",
    "        nEst.append(n)\n",
    "        cvList.append(forestCV)\n",
    "        accList.append(forestScore)\n",
    "        mae.append(MAE)\n",
    "        \n",
    "    plt.plot(nEst,accList, label=\"line1\")\n",
    "    plt.plot(nEst,cvList, label=\"line2\")\n",
    "    plt.title(\"Forest Max_Depth\")\n",
    "    plt.xlabel('max_depth')\n",
    "    plt.ylabel('Accuracy')\n",
    "    plt.show() \n",
    "    \n",
    "    dMAE=sorted(((v, k) for k, v in dMAE.items()), reverse=False)\n",
    "    print(dMAE)\n",
    "    \n",
    "#checkNumEst() \n",
    "#fMaxDepth()"
   ]
  },
  {
   "cell_type": "markdown",
   "id": "0e2abf28",
   "metadata": {
    "papermill": {
     "duration": 0.052295,
     "end_time": "2022-06-09T19:14:55.185871",
     "exception": false,
     "start_time": "2022-06-09T19:14:55.133576",
     "status": "completed"
    },
    "tags": []
   },
   "source": [
    "#### Forest Final Prediction"
   ]
  },
  {
   "cell_type": "code",
   "execution_count": 24,
   "id": "dbac5249",
   "metadata": {
    "execution": {
     "iopub.execute_input": "2022-06-09T19:14:55.293437Z",
     "iopub.status.busy": "2022-06-09T19:14:55.292363Z",
     "iopub.status.idle": "2022-06-09T19:14:59.232346Z",
     "shell.execute_reply": "2022-06-09T19:14:59.231492Z"
    },
    "papermill": {
     "duration": 3.997073,
     "end_time": "2022-06-09T19:14:59.235552",
     "exception": false,
     "start_time": "2022-06-09T19:14:55.238479",
     "status": "completed"
    },
    "tags": []
   },
   "outputs": [
    {
     "name": "stdout",
     "output_type": "stream",
     "text": [
      "Random forest AUC:  0.7912\n",
      "Random forest r2:  0.1641\n",
      "Random forest MAE:  0.21\n",
      "Forest Score:  0.791 || 0.1644 cross validate.\n"
     ]
    }
   ],
   "source": [
    "forest = RandomForestClassifier(\n",
    "    n_estimators=100,\n",
    "    max_depth=8, \n",
    "    random_state = 0)\n",
    "\n",
    "forest.fit(X_train, y_train)\n",
    "y_pred = forest.predict(X_test)\n",
    "\n",
    "#Print Metrics:\n",
    "forestR2 = r2_score(y_test, y_pred).round(4)  \n",
    "forestAUC = round( metrics.roc_auc_score(y_test, y_pred), 4 ) \n",
    "print(\"Random forest AUC: \", forestAUC) \n",
    "print(\"Random forest r2: \", forestR2)\n",
    "\n",
    "forestMAE=metrics.mean_absolute_error(y_test, y_pred).round(2)\n",
    "print(\"Random forest MAE: \", forestMAE)\n",
    "\n",
    "#CROSS VALIDATE TEST RESULTS:\n",
    "forestScore = forest.score(X_test, y_test).round(4)  # train test \n",
    "forestCV = cross_validate(forest, X, y, cv = 5, scoring= 'r2')\n",
    "forestCV=forestCV['test_score'].mean().round(4)\n",
    "print(\"Forest Score: \", forestScore  ,\"||\" , forestCV, \"cross validate.\")"
   ]
  },
  {
   "cell_type": "markdown",
   "id": "aa63ca8c",
   "metadata": {
    "papermill": {
     "duration": 0.053338,
     "end_time": "2022-06-09T19:14:59.343110",
     "exception": false,
     "start_time": "2022-06-09T19:14:59.289772",
     "status": "completed"
    },
    "tags": []
   },
   "source": [
    "# Test Data"
   ]
  },
  {
   "cell_type": "code",
   "execution_count": 25,
   "id": "6f23616a",
   "metadata": {
    "execution": {
     "iopub.execute_input": "2022-06-09T19:14:59.452971Z",
     "iopub.status.busy": "2022-06-09T19:14:59.452454Z",
     "iopub.status.idle": "2022-06-09T19:15:00.520271Z",
     "shell.execute_reply": "2022-06-09T19:15:00.519424Z"
    },
    "papermill": {
     "duration": 1.125555,
     "end_time": "2022-06-09T19:15:00.522429",
     "exception": false,
     "start_time": "2022-06-09T19:14:59.396874",
     "status": "completed"
    },
    "tags": []
   },
   "outputs": [
    {
     "data": {
      "text/html": [
       "<div>\n",
       "<style scoped>\n",
       "    .dataframe tbody tr th:only-of-type {\n",
       "        vertical-align: middle;\n",
       "    }\n",
       "\n",
       "    .dataframe tbody tr th {\n",
       "        vertical-align: top;\n",
       "    }\n",
       "\n",
       "    .dataframe thead th {\n",
       "        text-align: right;\n",
       "    }\n",
       "</style>\n",
       "<table border=\"1\" class=\"dataframe\">\n",
       "  <thead>\n",
       "    <tr style=\"text-align: right;\">\n",
       "      <th></th>\n",
       "      <th>HomePlanet</th>\n",
       "      <th>Destination</th>\n",
       "      <th>Age</th>\n",
       "      <th>RoomService</th>\n",
       "      <th>FoodCourt</th>\n",
       "      <th>ShoppingMall</th>\n",
       "      <th>Spa</th>\n",
       "      <th>VRDeck</th>\n",
       "      <th>Adult</th>\n",
       "      <th>Family</th>\n",
       "      <th>deck</th>\n",
       "      <th>num</th>\n",
       "      <th>side</th>\n",
       "    </tr>\n",
       "  </thead>\n",
       "  <tbody>\n",
       "    <tr>\n",
       "      <th>0</th>\n",
       "      <td>0.0</td>\n",
       "      <td>2.0</td>\n",
       "      <td>27.0</td>\n",
       "      <td>0.0</td>\n",
       "      <td>0.0</td>\n",
       "      <td>0.0</td>\n",
       "      <td>0.0</td>\n",
       "      <td>0.0</td>\n",
       "      <td>1</td>\n",
       "      <td>4.0</td>\n",
       "      <td>6.0</td>\n",
       "      <td>3.0</td>\n",
       "      <td>1.0</td>\n",
       "    </tr>\n",
       "    <tr>\n",
       "      <th>1</th>\n",
       "      <td>0.0</td>\n",
       "      <td>2.0</td>\n",
       "      <td>19.0</td>\n",
       "      <td>0.0</td>\n",
       "      <td>9.0</td>\n",
       "      <td>0.0</td>\n",
       "      <td>2823.0</td>\n",
       "      <td>0.0</td>\n",
       "      <td>0</td>\n",
       "      <td>1.0</td>\n",
       "      <td>5.0</td>\n",
       "      <td>4.0</td>\n",
       "      <td>1.0</td>\n",
       "    </tr>\n",
       "    <tr>\n",
       "      <th>2</th>\n",
       "      <td>1.0</td>\n",
       "      <td>0.0</td>\n",
       "      <td>31.0</td>\n",
       "      <td>0.0</td>\n",
       "      <td>0.0</td>\n",
       "      <td>0.0</td>\n",
       "      <td>0.0</td>\n",
       "      <td>0.0</td>\n",
       "      <td>1</td>\n",
       "      <td>1.0</td>\n",
       "      <td>2.0</td>\n",
       "      <td>0.0</td>\n",
       "      <td>1.0</td>\n",
       "    </tr>\n",
       "    <tr>\n",
       "      <th>3</th>\n",
       "      <td>1.0</td>\n",
       "      <td>2.0</td>\n",
       "      <td>38.0</td>\n",
       "      <td>0.0</td>\n",
       "      <td>6652.0</td>\n",
       "      <td>0.0</td>\n",
       "      <td>181.0</td>\n",
       "      <td>585.0</td>\n",
       "      <td>1</td>\n",
       "      <td>1.0</td>\n",
       "      <td>2.0</td>\n",
       "      <td>1.0</td>\n",
       "      <td>1.0</td>\n",
       "    </tr>\n",
       "    <tr>\n",
       "      <th>4</th>\n",
       "      <td>0.0</td>\n",
       "      <td>2.0</td>\n",
       "      <td>20.0</td>\n",
       "      <td>10.0</td>\n",
       "      <td>0.0</td>\n",
       "      <td>635.0</td>\n",
       "      <td>0.0</td>\n",
       "      <td>0.0</td>\n",
       "      <td>1</td>\n",
       "      <td>3.0</td>\n",
       "      <td>5.0</td>\n",
       "      <td>5.0</td>\n",
       "      <td>1.0</td>\n",
       "    </tr>\n",
       "  </tbody>\n",
       "</table>\n",
       "</div>"
      ],
      "text/plain": [
       "   HomePlanet  Destination   Age  RoomService  FoodCourt  ShoppingMall  \\\n",
       "0         0.0          2.0  27.0          0.0        0.0           0.0   \n",
       "1         0.0          2.0  19.0          0.0        9.0           0.0   \n",
       "2         1.0          0.0  31.0          0.0        0.0           0.0   \n",
       "3         1.0          2.0  38.0          0.0     6652.0           0.0   \n",
       "4         0.0          2.0  20.0         10.0        0.0         635.0   \n",
       "\n",
       "      Spa  VRDeck  Adult  Family  deck  num  side  \n",
       "0     0.0     0.0      1     4.0   6.0  3.0   1.0  \n",
       "1  2823.0     0.0      0     1.0   5.0  4.0   1.0  \n",
       "2     0.0     0.0      1     1.0   2.0  0.0   1.0  \n",
       "3   181.0   585.0      1     1.0   2.0  1.0   1.0  \n",
       "4     0.0     0.0      1     3.0   5.0  5.0   1.0  "
      ]
     },
     "execution_count": 25,
     "metadata": {},
     "output_type": "execute_result"
    }
   ],
   "source": [
    "testDF=pd.read_csv(test)\n",
    "ID=testDF['PassengerId']\n",
    "\n",
    "#FEATURES:\n",
    "testDF['VIP']=testDF['VIP'].astype('str').replace({'False':0, 'True':1})\n",
    "testDF['CryoSleep']=testDF['CryoSleep'].astype('str').replace({'False':0, 'True':1})\n",
    "testDF['Adult'] = testDF['Age'].apply(lambda x: 1 if x > 19 else 0 )\n",
    "\n",
    "#ENCODER\n",
    "testDF['deck']=testDF['Cabin'].apply(lambda x: str(x).split(\"/\")[0])\n",
    "testDF['num']=testDF['Cabin'].str.extract('(\\d+)').fillna(0).astype(int)\n",
    "testDF['side']=testDF['Cabin'].apply(lambda x: str(x)[-1])\n",
    "\n",
    "testDF_encode = testDF[col_names]\n",
    "encoder = OrdinalEncoder()\n",
    "testDF[col_names] = encoder.fit_transform(testDF_encode)\n",
    "\n",
    "#Names:\n",
    "testDF[['First','Last']] = testDF.Name.apply(lambda x: pd.Series(str(x).split(\" \")))\n",
    "testDF['Family']=testDF.groupby('Last')['Last'].transform('count')\n",
    "\n",
    "#Match DF Features:\n",
    "features=X.columns\n",
    "testDF=testDF[features]\n",
    "\n",
    "testDF=testDF.fillna(testDF.mean())\n",
    "testDF.head()"
   ]
  },
  {
   "cell_type": "markdown",
   "id": "7f020754",
   "metadata": {
    "papermill": {
     "duration": 0.054944,
     "end_time": "2022-06-09T19:15:00.631608",
     "exception": false,
     "start_time": "2022-06-09T19:15:00.576664",
     "status": "completed"
    },
    "tags": []
   },
   "source": [
    "# Final Predictions"
   ]
  },
  {
   "cell_type": "code",
   "execution_count": 26,
   "id": "519f6d79",
   "metadata": {
    "execution": {
     "iopub.execute_input": "2022-06-09T19:15:00.743347Z",
     "iopub.status.busy": "2022-06-09T19:15:00.742479Z",
     "iopub.status.idle": "2022-06-09T19:15:00.830130Z",
     "shell.execute_reply": "2022-06-09T19:15:00.828832Z"
    },
    "papermill": {
     "duration": 0.14717,
     "end_time": "2022-06-09T19:15:00.833107",
     "exception": false,
     "start_time": "2022-06-09T19:15:00.685937",
     "status": "completed"
    },
    "tags": []
   },
   "outputs": [
    {
     "name": "stdout",
     "output_type": "stream",
     "text": [
      "(4277, 2)\n",
      "PassengerId    object\n",
      "Transported      bool\n",
      "dtype: object\n"
     ]
    },
    {
     "data": {
      "text/html": [
       "<div>\n",
       "<style scoped>\n",
       "    .dataframe tbody tr th:only-of-type {\n",
       "        vertical-align: middle;\n",
       "    }\n",
       "\n",
       "    .dataframe tbody tr th {\n",
       "        vertical-align: top;\n",
       "    }\n",
       "\n",
       "    .dataframe thead th {\n",
       "        text-align: right;\n",
       "    }\n",
       "</style>\n",
       "<table border=\"1\" class=\"dataframe\">\n",
       "  <thead>\n",
       "    <tr style=\"text-align: right;\">\n",
       "      <th></th>\n",
       "      <th>PassengerId</th>\n",
       "      <th>Transported</th>\n",
       "    </tr>\n",
       "  </thead>\n",
       "  <tbody>\n",
       "    <tr>\n",
       "      <th>0</th>\n",
       "      <td>0013_01</td>\n",
       "      <td>True</td>\n",
       "    </tr>\n",
       "    <tr>\n",
       "      <th>1</th>\n",
       "      <td>0018_01</td>\n",
       "      <td>False</td>\n",
       "    </tr>\n",
       "    <tr>\n",
       "      <th>2</th>\n",
       "      <td>0019_01</td>\n",
       "      <td>True</td>\n",
       "    </tr>\n",
       "    <tr>\n",
       "      <th>3</th>\n",
       "      <td>0021_01</td>\n",
       "      <td>True</td>\n",
       "    </tr>\n",
       "    <tr>\n",
       "      <th>4</th>\n",
       "      <td>0023_01</td>\n",
       "      <td>False</td>\n",
       "    </tr>\n",
       "  </tbody>\n",
       "</table>\n",
       "</div>"
      ],
      "text/plain": [
       "  PassengerId  Transported\n",
       "0     0013_01         True\n",
       "1     0018_01        False\n",
       "2     0019_01         True\n",
       "3     0021_01         True\n",
       "4     0023_01        False"
      ]
     },
     "execution_count": 26,
     "metadata": {},
     "output_type": "execute_result"
    }
   ],
   "source": [
    "test_predictions = forest.predict(testDF)\n",
    "tupleData = list(zip(ID, test_predictions))\n",
    "output = pd.DataFrame(tupleData, columns = ['PassengerId', 'Transported'])\n",
    "output['Transported']=output['Transported'].replace({0:False, 1:True})\n",
    "print(output.shape)\n",
    "print(output.dtypes)\n",
    "output.head()"
   ]
  },
  {
   "cell_type": "code",
   "execution_count": 27,
   "id": "57472ee5",
   "metadata": {
    "execution": {
     "iopub.execute_input": "2022-06-09T19:15:00.947904Z",
     "iopub.status.busy": "2022-06-09T19:15:00.947624Z",
     "iopub.status.idle": "2022-06-09T19:15:00.963979Z",
     "shell.execute_reply": "2022-06-09T19:15:00.962702Z"
    },
    "papermill": {
     "duration": 0.076309,
     "end_time": "2022-06-09T19:15:00.966889",
     "exception": false,
     "start_time": "2022-06-09T19:15:00.890580",
     "status": "completed"
    },
    "tags": []
   },
   "outputs": [
    {
     "name": "stdout",
     "output_type": "stream",
     "text": [
      "Your submission was successfully saved!\n"
     ]
    }
   ],
   "source": [
    "output.to_csv('submission.csv', index=False)\n",
    "print(\"Your submission was successfully saved!\")"
   ]
  }
 ],
 "metadata": {
  "kernelspec": {
   "display_name": "Python 3",
   "language": "python",
   "name": "python3"
  },
  "language_info": {
   "codemirror_mode": {
    "name": "ipython",
    "version": 3
   },
   "file_extension": ".py",
   "mimetype": "text/x-python",
   "name": "python",
   "nbconvert_exporter": "python",
   "pygments_lexer": "ipython3",
   "version": "3.7.12"
  },
  "papermill": {
   "default_parameters": {},
   "duration": 42.890949,
   "end_time": "2022-06-09T19:15:03.644759",
   "environment_variables": {},
   "exception": null,
   "input_path": "__notebook__.ipynb",
   "output_path": "__notebook__.ipynb",
   "parameters": {},
   "start_time": "2022-06-09T19:14:20.753810",
   "version": "2.3.4"
  }
 },
 "nbformat": 4,
 "nbformat_minor": 5
}
