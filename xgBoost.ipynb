{
 "cells": [
  {
   "cell_type": "markdown",
   "id": "7b2c8ccd",
   "metadata": {
    "papermill": {
     "duration": 0.011077,
     "end_time": "2022-09-23T00:48:15.631969",
     "exception": false,
     "start_time": "2022-09-23T00:48:15.620892",
     "status": "completed"
    },
    "tags": []
   },
   "source": [
    "# Predict House Price\n",
    "#### Using xgBoost \n",
    "\n",
    "My original full House Price prediction can be found here: https://github.com/ScottySchmidt/Kaggle\n",
    "\n",
    "##### Special Notes:\n",
    "* Tunning learning_rate improved 8% better score\n",
    "* Removing outliers improved 4% better score\n",
    "* Removing similiar features makes couple percent better score\n",
    "* Adding saleCondition improved .5% better score\n",
    "* Tuning ETA have little to no effect\n",
    "* early_stopping_rounds=5 makes little to no effect"
   ]
  },
  {
   "cell_type": "code",
   "execution_count": 1,
   "id": "ff7e658f",
   "metadata": {
    "execution": {
     "iopub.execute_input": "2022-09-23T00:48:15.654037Z",
     "iopub.status.busy": "2022-09-23T00:48:15.653425Z",
     "iopub.status.idle": "2022-09-23T00:48:15.742110Z",
     "shell.execute_reply": "2022-09-23T00:48:15.740651Z"
    },
    "papermill": {
     "duration": 0.103013,
     "end_time": "2022-09-23T00:48:15.744884",
     "exception": false,
     "start_time": "2022-09-23T00:48:15.641871",
     "status": "completed"
    },
    "tags": []
   },
   "outputs": [
    {
     "name": "stdout",
     "output_type": "stream",
     "text": [
      "(1460, 81)\n"
     ]
    },
    {
     "data": {
      "text/html": [
       "<div>\n",
       "<style scoped>\n",
       "    .dataframe tbody tr th:only-of-type {\n",
       "        vertical-align: middle;\n",
       "    }\n",
       "\n",
       "    .dataframe tbody tr th {\n",
       "        vertical-align: top;\n",
       "    }\n",
       "\n",
       "    .dataframe thead th {\n",
       "        text-align: right;\n",
       "    }\n",
       "</style>\n",
       "<table border=\"1\" class=\"dataframe\">\n",
       "  <thead>\n",
       "    <tr style=\"text-align: right;\">\n",
       "      <th></th>\n",
       "      <th>Id</th>\n",
       "      <th>MSSubClass</th>\n",
       "      <th>MSZoning</th>\n",
       "      <th>LotFrontage</th>\n",
       "      <th>LotArea</th>\n",
       "      <th>Street</th>\n",
       "      <th>Alley</th>\n",
       "      <th>LotShape</th>\n",
       "      <th>LandContour</th>\n",
       "      <th>Utilities</th>\n",
       "      <th>...</th>\n",
       "      <th>PoolArea</th>\n",
       "      <th>PoolQC</th>\n",
       "      <th>Fence</th>\n",
       "      <th>MiscFeature</th>\n",
       "      <th>MiscVal</th>\n",
       "      <th>MoSold</th>\n",
       "      <th>YrSold</th>\n",
       "      <th>SaleType</th>\n",
       "      <th>SaleCondition</th>\n",
       "      <th>SalePrice</th>\n",
       "    </tr>\n",
       "  </thead>\n",
       "  <tbody>\n",
       "    <tr>\n",
       "      <th>0</th>\n",
       "      <td>1</td>\n",
       "      <td>60</td>\n",
       "      <td>RL</td>\n",
       "      <td>65.0</td>\n",
       "      <td>8450</td>\n",
       "      <td>Pave</td>\n",
       "      <td>NaN</td>\n",
       "      <td>Reg</td>\n",
       "      <td>Lvl</td>\n",
       "      <td>AllPub</td>\n",
       "      <td>...</td>\n",
       "      <td>0</td>\n",
       "      <td>NaN</td>\n",
       "      <td>NaN</td>\n",
       "      <td>NaN</td>\n",
       "      <td>0</td>\n",
       "      <td>2</td>\n",
       "      <td>2008</td>\n",
       "      <td>WD</td>\n",
       "      <td>Normal</td>\n",
       "      <td>208500</td>\n",
       "    </tr>\n",
       "    <tr>\n",
       "      <th>1</th>\n",
       "      <td>2</td>\n",
       "      <td>20</td>\n",
       "      <td>RL</td>\n",
       "      <td>80.0</td>\n",
       "      <td>9600</td>\n",
       "      <td>Pave</td>\n",
       "      <td>NaN</td>\n",
       "      <td>Reg</td>\n",
       "      <td>Lvl</td>\n",
       "      <td>AllPub</td>\n",
       "      <td>...</td>\n",
       "      <td>0</td>\n",
       "      <td>NaN</td>\n",
       "      <td>NaN</td>\n",
       "      <td>NaN</td>\n",
       "      <td>0</td>\n",
       "      <td>5</td>\n",
       "      <td>2007</td>\n",
       "      <td>WD</td>\n",
       "      <td>Normal</td>\n",
       "      <td>181500</td>\n",
       "    </tr>\n",
       "    <tr>\n",
       "      <th>2</th>\n",
       "      <td>3</td>\n",
       "      <td>60</td>\n",
       "      <td>RL</td>\n",
       "      <td>68.0</td>\n",
       "      <td>11250</td>\n",
       "      <td>Pave</td>\n",
       "      <td>NaN</td>\n",
       "      <td>IR1</td>\n",
       "      <td>Lvl</td>\n",
       "      <td>AllPub</td>\n",
       "      <td>...</td>\n",
       "      <td>0</td>\n",
       "      <td>NaN</td>\n",
       "      <td>NaN</td>\n",
       "      <td>NaN</td>\n",
       "      <td>0</td>\n",
       "      <td>9</td>\n",
       "      <td>2008</td>\n",
       "      <td>WD</td>\n",
       "      <td>Normal</td>\n",
       "      <td>223500</td>\n",
       "    </tr>\n",
       "    <tr>\n",
       "      <th>3</th>\n",
       "      <td>4</td>\n",
       "      <td>70</td>\n",
       "      <td>RL</td>\n",
       "      <td>60.0</td>\n",
       "      <td>9550</td>\n",
       "      <td>Pave</td>\n",
       "      <td>NaN</td>\n",
       "      <td>IR1</td>\n",
       "      <td>Lvl</td>\n",
       "      <td>AllPub</td>\n",
       "      <td>...</td>\n",
       "      <td>0</td>\n",
       "      <td>NaN</td>\n",
       "      <td>NaN</td>\n",
       "      <td>NaN</td>\n",
       "      <td>0</td>\n",
       "      <td>2</td>\n",
       "      <td>2006</td>\n",
       "      <td>WD</td>\n",
       "      <td>Abnorml</td>\n",
       "      <td>140000</td>\n",
       "    </tr>\n",
       "    <tr>\n",
       "      <th>4</th>\n",
       "      <td>5</td>\n",
       "      <td>60</td>\n",
       "      <td>RL</td>\n",
       "      <td>84.0</td>\n",
       "      <td>14260</td>\n",
       "      <td>Pave</td>\n",
       "      <td>NaN</td>\n",
       "      <td>IR1</td>\n",
       "      <td>Lvl</td>\n",
       "      <td>AllPub</td>\n",
       "      <td>...</td>\n",
       "      <td>0</td>\n",
       "      <td>NaN</td>\n",
       "      <td>NaN</td>\n",
       "      <td>NaN</td>\n",
       "      <td>0</td>\n",
       "      <td>12</td>\n",
       "      <td>2008</td>\n",
       "      <td>WD</td>\n",
       "      <td>Normal</td>\n",
       "      <td>250000</td>\n",
       "    </tr>\n",
       "  </tbody>\n",
       "</table>\n",
       "<p>5 rows × 81 columns</p>\n",
       "</div>"
      ],
      "text/plain": [
       "   Id  MSSubClass MSZoning  LotFrontage  LotArea Street Alley LotShape  \\\n",
       "0   1          60       RL         65.0     8450   Pave   NaN      Reg   \n",
       "1   2          20       RL         80.0     9600   Pave   NaN      Reg   \n",
       "2   3          60       RL         68.0    11250   Pave   NaN      IR1   \n",
       "3   4          70       RL         60.0     9550   Pave   NaN      IR1   \n",
       "4   5          60       RL         84.0    14260   Pave   NaN      IR1   \n",
       "\n",
       "  LandContour Utilities  ... PoolArea PoolQC Fence MiscFeature MiscVal MoSold  \\\n",
       "0         Lvl    AllPub  ...        0    NaN   NaN         NaN       0      2   \n",
       "1         Lvl    AllPub  ...        0    NaN   NaN         NaN       0      5   \n",
       "2         Lvl    AllPub  ...        0    NaN   NaN         NaN       0      9   \n",
       "3         Lvl    AllPub  ...        0    NaN   NaN         NaN       0      2   \n",
       "4         Lvl    AllPub  ...        0    NaN   NaN         NaN       0     12   \n",
       "\n",
       "  YrSold  SaleType  SaleCondition  SalePrice  \n",
       "0   2008        WD         Normal     208500  \n",
       "1   2007        WD         Normal     181500  \n",
       "2   2008        WD         Normal     223500  \n",
       "3   2006        WD        Abnorml     140000  \n",
       "4   2008        WD         Normal     250000  \n",
       "\n",
       "[5 rows x 81 columns]"
      ]
     },
     "execution_count": 1,
     "metadata": {},
     "output_type": "execute_result"
    }
   ],
   "source": [
    "import pandas as pd\n",
    "import numpy as np\n",
    "import sys\n",
    "import matplotlib.pyplot as plt\n",
    "\n",
    "data='/kaggle/input/house-prices-advanced-regression-techniques/train.csv'\n",
    "df=pd.read_csv(data)\n",
    "print(df.shape)\n",
    "df.head()"
   ]
  },
  {
   "cell_type": "markdown",
   "id": "243f5f40",
   "metadata": {
    "papermill": {
     "duration": 0.010077,
     "end_time": "2022-09-23T00:48:15.765792",
     "exception": false,
     "start_time": "2022-09-23T00:48:15.755715",
     "status": "completed"
    },
    "tags": []
   },
   "source": [
    "# Missing Values"
   ]
  },
  {
   "cell_type": "code",
   "execution_count": 2,
   "id": "35c02639",
   "metadata": {
    "execution": {
     "iopub.execute_input": "2022-09-23T00:48:15.790353Z",
     "iopub.status.busy": "2022-09-23T00:48:15.789933Z",
     "iopub.status.idle": "2022-09-23T00:48:15.803945Z",
     "shell.execute_reply": "2022-09-23T00:48:15.802532Z"
    },
    "papermill": {
     "duration": 0.028459,
     "end_time": "2022-09-23T00:48:15.806307",
     "exception": false,
     "start_time": "2022-09-23T00:48:15.777848",
     "status": "completed"
    },
    "tags": []
   },
   "outputs": [
    {
     "name": "stdout",
     "output_type": "stream",
     "text": [
      "Missing data by column as a percent:\n",
      "PoolQC          21.686567\n",
      "MiscFeature     20.985075\n",
      "Alley           20.432836\n",
      "Fence           17.597015\n",
      "FireplaceQu     10.298507\n",
      "LotFrontage      3.865672\n",
      "GarageYrBlt      1.208955\n",
      "GarageCond       1.208955\n",
      "GarageType       1.208955\n",
      "GarageFinish     1.208955\n",
      "dtype: float64\n"
     ]
    }
   ],
   "source": [
    "#search for columns with missing values:\n",
    "def findNA():\n",
    "    print(\"Missing data by column as a percent:\")\n",
    "    findNA=df.isnull().sum().sort_values(ascending=False)/len(data)\n",
    "    print(findNA.head(10))\n",
    "findNA() "
   ]
  },
  {
   "cell_type": "code",
   "execution_count": 3,
   "id": "678c1821",
   "metadata": {
    "execution": {
     "iopub.execute_input": "2022-09-23T00:48:15.829104Z",
     "iopub.status.busy": "2022-09-23T00:48:15.828686Z",
     "iopub.status.idle": "2022-09-23T00:48:15.870952Z",
     "shell.execute_reply": "2022-09-23T00:48:15.869376Z"
    },
    "papermill": {
     "duration": 0.057598,
     "end_time": "2022-09-23T00:48:15.874423",
     "exception": false,
     "start_time": "2022-09-23T00:48:15.816825",
     "status": "completed"
    },
    "tags": []
   },
   "outputs": [
    {
     "name": "stdout",
     "output_type": "stream",
     "text": [
      "(1460, 75)\n"
     ]
    },
    {
     "name": "stderr",
     "output_type": "stream",
     "text": [
      "/opt/conda/lib/python3.7/site-packages/ipykernel_launcher.py:1: FutureWarning: Dropping of nuisance columns in DataFrame reductions (with 'numeric_only=None') is deprecated; in a future version this will raise TypeError.  Select only valid columns before calling the reduction.\n",
      "  \"\"\"Entry point for launching an IPython kernel.\n"
     ]
    }
   ],
   "source": [
    "df=df.fillna(df.mean())\n",
    "df=df.drop(columns=['PoolQC', 'MiscFeature', 'Alley', 'Fence', 'FireplaceQu', 'LotFrontage'])\n",
    "print(df.shape)"
   ]
  },
  {
   "cell_type": "code",
   "execution_count": 4,
   "id": "d58e5cf5",
   "metadata": {
    "execution": {
     "iopub.execute_input": "2022-09-23T00:48:15.897692Z",
     "iopub.status.busy": "2022-09-23T00:48:15.897308Z",
     "iopub.status.idle": "2022-09-23T00:48:15.905366Z",
     "shell.execute_reply": "2022-09-23T00:48:15.904056Z"
    },
    "papermill": {
     "duration": 0.022438,
     "end_time": "2022-09-23T00:48:15.907724",
     "exception": false,
     "start_time": "2022-09-23T00:48:15.885286",
     "status": "completed"
    },
    "tags": []
   },
   "outputs": [
    {
     "data": {
      "text/plain": [
       "Index(['Id', 'MSSubClass', 'MSZoning', 'LotArea', 'Street', 'LotShape',\n",
       "       'LandContour', 'Utilities', 'LotConfig', 'LandSlope', 'Neighborhood',\n",
       "       'Condition1', 'Condition2', 'BldgType', 'HouseStyle', 'OverallQual',\n",
       "       'OverallCond', 'YearBuilt', 'YearRemodAdd', 'RoofStyle', 'RoofMatl',\n",
       "       'Exterior1st', 'Exterior2nd', 'MasVnrType', 'MasVnrArea', 'ExterQual',\n",
       "       'ExterCond', 'Foundation', 'BsmtQual', 'BsmtCond', 'BsmtExposure',\n",
       "       'BsmtFinType1', 'BsmtFinSF1', 'BsmtFinType2', 'BsmtFinSF2', 'BsmtUnfSF',\n",
       "       'TotalBsmtSF', 'Heating', 'HeatingQC', 'CentralAir', 'Electrical',\n",
       "       '1stFlrSF', '2ndFlrSF', 'LowQualFinSF', 'GrLivArea', 'BsmtFullBath',\n",
       "       'BsmtHalfBath', 'FullBath', 'HalfBath', 'BedroomAbvGr', 'KitchenAbvGr',\n",
       "       'KitchenQual', 'TotRmsAbvGrd', 'Functional', 'Fireplaces', 'GarageType',\n",
       "       'GarageYrBlt', 'GarageFinish', 'GarageCars', 'GarageArea', 'GarageQual',\n",
       "       'GarageCond', 'PavedDrive', 'WoodDeckSF', 'OpenPorchSF',\n",
       "       'EnclosedPorch', '3SsnPorch', 'ScreenPorch', 'PoolArea', 'MiscVal',\n",
       "       'MoSold', 'YrSold', 'SaleType', 'SaleCondition', 'SalePrice'],\n",
       "      dtype='object')"
      ]
     },
     "execution_count": 4,
     "metadata": {},
     "output_type": "execute_result"
    }
   ],
   "source": [
    "df.columns"
   ]
  },
  {
   "cell_type": "markdown",
   "id": "294afcb3",
   "metadata": {
    "papermill": {
     "duration": 0.010362,
     "end_time": "2022-09-23T00:48:15.928963",
     "exception": false,
     "start_time": "2022-09-23T00:48:15.918601",
     "status": "completed"
    },
    "tags": []
   },
   "source": [
    "# Encode Data"
   ]
  },
  {
   "cell_type": "code",
   "execution_count": 5,
   "id": "739a4fb7",
   "metadata": {
    "execution": {
     "iopub.execute_input": "2022-09-23T00:48:15.952158Z",
     "iopub.status.busy": "2022-09-23T00:48:15.951732Z",
     "iopub.status.idle": "2022-09-23T00:48:15.976551Z",
     "shell.execute_reply": "2022-09-23T00:48:15.975220Z"
    },
    "papermill": {
     "duration": 0.039358,
     "end_time": "2022-09-23T00:48:15.978938",
     "exception": false,
     "start_time": "2022-09-23T00:48:15.939580",
     "status": "completed"
    },
    "tags": []
   },
   "outputs": [
    {
     "data": {
      "text/html": [
       "<div>\n",
       "<style scoped>\n",
       "    .dataframe tbody tr th:only-of-type {\n",
       "        vertical-align: middle;\n",
       "    }\n",
       "\n",
       "    .dataframe tbody tr th {\n",
       "        vertical-align: top;\n",
       "    }\n",
       "\n",
       "    .dataframe thead th {\n",
       "        text-align: right;\n",
       "    }\n",
       "</style>\n",
       "<table border=\"1\" class=\"dataframe\">\n",
       "  <thead>\n",
       "    <tr style=\"text-align: right;\">\n",
       "      <th></th>\n",
       "      <th>Id</th>\n",
       "      <th>MSSubClass</th>\n",
       "      <th>MSZoning</th>\n",
       "      <th>LotArea</th>\n",
       "      <th>Street</th>\n",
       "      <th>LotShape</th>\n",
       "      <th>LandContour</th>\n",
       "      <th>Utilities</th>\n",
       "      <th>LotConfig</th>\n",
       "      <th>LandSlope</th>\n",
       "      <th>...</th>\n",
       "      <th>3SsnPorch</th>\n",
       "      <th>ScreenPorch</th>\n",
       "      <th>PoolArea</th>\n",
       "      <th>MiscVal</th>\n",
       "      <th>MoSold</th>\n",
       "      <th>YrSold</th>\n",
       "      <th>SaleType</th>\n",
       "      <th>SaleCondition</th>\n",
       "      <th>SalePrice</th>\n",
       "      <th>totalSQ</th>\n",
       "    </tr>\n",
       "  </thead>\n",
       "  <tbody>\n",
       "    <tr>\n",
       "      <th>0</th>\n",
       "      <td>1</td>\n",
       "      <td>60</td>\n",
       "      <td>RL</td>\n",
       "      <td>8450</td>\n",
       "      <td>Pave</td>\n",
       "      <td>Reg</td>\n",
       "      <td>Lvl</td>\n",
       "      <td>AllPub</td>\n",
       "      <td>Inside</td>\n",
       "      <td>Gtl</td>\n",
       "      <td>...</td>\n",
       "      <td>0</td>\n",
       "      <td>0</td>\n",
       "      <td>0</td>\n",
       "      <td>0</td>\n",
       "      <td>2</td>\n",
       "      <td>2008</td>\n",
       "      <td>WD</td>\n",
       "      <td>Normal</td>\n",
       "      <td>208500</td>\n",
       "      <td>2566</td>\n",
       "    </tr>\n",
       "    <tr>\n",
       "      <th>1</th>\n",
       "      <td>2</td>\n",
       "      <td>20</td>\n",
       "      <td>RL</td>\n",
       "      <td>9600</td>\n",
       "      <td>Pave</td>\n",
       "      <td>Reg</td>\n",
       "      <td>Lvl</td>\n",
       "      <td>AllPub</td>\n",
       "      <td>FR2</td>\n",
       "      <td>Gtl</td>\n",
       "      <td>...</td>\n",
       "      <td>0</td>\n",
       "      <td>0</td>\n",
       "      <td>0</td>\n",
       "      <td>0</td>\n",
       "      <td>5</td>\n",
       "      <td>2007</td>\n",
       "      <td>WD</td>\n",
       "      <td>Normal</td>\n",
       "      <td>181500</td>\n",
       "      <td>2524</td>\n",
       "    </tr>\n",
       "    <tr>\n",
       "      <th>2</th>\n",
       "      <td>3</td>\n",
       "      <td>60</td>\n",
       "      <td>RL</td>\n",
       "      <td>11250</td>\n",
       "      <td>Pave</td>\n",
       "      <td>IR1</td>\n",
       "      <td>Lvl</td>\n",
       "      <td>AllPub</td>\n",
       "      <td>Inside</td>\n",
       "      <td>Gtl</td>\n",
       "      <td>...</td>\n",
       "      <td>0</td>\n",
       "      <td>0</td>\n",
       "      <td>0</td>\n",
       "      <td>0</td>\n",
       "      <td>9</td>\n",
       "      <td>2008</td>\n",
       "      <td>WD</td>\n",
       "      <td>Normal</td>\n",
       "      <td>223500</td>\n",
       "      <td>2706</td>\n",
       "    </tr>\n",
       "    <tr>\n",
       "      <th>3</th>\n",
       "      <td>4</td>\n",
       "      <td>70</td>\n",
       "      <td>RL</td>\n",
       "      <td>9550</td>\n",
       "      <td>Pave</td>\n",
       "      <td>IR1</td>\n",
       "      <td>Lvl</td>\n",
       "      <td>AllPub</td>\n",
       "      <td>Corner</td>\n",
       "      <td>Gtl</td>\n",
       "      <td>...</td>\n",
       "      <td>0</td>\n",
       "      <td>0</td>\n",
       "      <td>0</td>\n",
       "      <td>0</td>\n",
       "      <td>2</td>\n",
       "      <td>2006</td>\n",
       "      <td>WD</td>\n",
       "      <td>Abnorml</td>\n",
       "      <td>140000</td>\n",
       "      <td>2473</td>\n",
       "    </tr>\n",
       "    <tr>\n",
       "      <th>4</th>\n",
       "      <td>5</td>\n",
       "      <td>60</td>\n",
       "      <td>RL</td>\n",
       "      <td>14260</td>\n",
       "      <td>Pave</td>\n",
       "      <td>IR1</td>\n",
       "      <td>Lvl</td>\n",
       "      <td>AllPub</td>\n",
       "      <td>FR2</td>\n",
       "      <td>Gtl</td>\n",
       "      <td>...</td>\n",
       "      <td>0</td>\n",
       "      <td>0</td>\n",
       "      <td>0</td>\n",
       "      <td>0</td>\n",
       "      <td>12</td>\n",
       "      <td>2008</td>\n",
       "      <td>WD</td>\n",
       "      <td>Normal</td>\n",
       "      <td>250000</td>\n",
       "      <td>3343</td>\n",
       "    </tr>\n",
       "  </tbody>\n",
       "</table>\n",
       "<p>5 rows × 76 columns</p>\n",
       "</div>"
      ],
      "text/plain": [
       "   Id  MSSubClass MSZoning  LotArea Street LotShape LandContour Utilities  \\\n",
       "0   1          60       RL     8450   Pave      Reg         Lvl    AllPub   \n",
       "1   2          20       RL     9600   Pave      Reg         Lvl    AllPub   \n",
       "2   3          60       RL    11250   Pave      IR1         Lvl    AllPub   \n",
       "3   4          70       RL     9550   Pave      IR1         Lvl    AllPub   \n",
       "4   5          60       RL    14260   Pave      IR1         Lvl    AllPub   \n",
       "\n",
       "  LotConfig LandSlope  ... 3SsnPorch ScreenPorch PoolArea MiscVal MoSold  \\\n",
       "0    Inside       Gtl  ...         0           0        0       0      2   \n",
       "1       FR2       Gtl  ...         0           0        0       0      5   \n",
       "2    Inside       Gtl  ...         0           0        0       0      9   \n",
       "3    Corner       Gtl  ...         0           0        0       0      2   \n",
       "4       FR2       Gtl  ...         0           0        0       0     12   \n",
       "\n",
       "   YrSold  SaleType  SaleCondition  SalePrice totalSQ  \n",
       "0    2008        WD         Normal     208500    2566  \n",
       "1    2007        WD         Normal     181500    2524  \n",
       "2    2008        WD         Normal     223500    2706  \n",
       "3    2006        WD        Abnorml     140000    2473  \n",
       "4    2008        WD         Normal     250000    3343  \n",
       "\n",
       "[5 rows x 76 columns]"
      ]
     },
     "execution_count": 5,
     "metadata": {},
     "output_type": "execute_result"
    }
   ],
   "source": [
    "df['totalSQ']=df['1stFlrSF']+df['2ndFlrSF']+df['TotalBsmtSF'].drop(columns=['1stFlrSF', '2ndFlrSF','TotalBsmtSF'])\n",
    "df.head()"
   ]
  },
  {
   "cell_type": "code",
   "execution_count": 6,
   "id": "d850411f",
   "metadata": {
    "execution": {
     "iopub.execute_input": "2022-09-23T00:48:16.008374Z",
     "iopub.status.busy": "2022-09-23T00:48:16.007989Z",
     "iopub.status.idle": "2022-09-23T00:48:16.019641Z",
     "shell.execute_reply": "2022-09-23T00:48:16.018477Z"
    },
    "papermill": {
     "duration": 0.031946,
     "end_time": "2022-09-23T00:48:16.022088",
     "exception": false,
     "start_time": "2022-09-23T00:48:15.990142",
     "status": "completed"
    },
    "tags": []
   },
   "outputs": [
    {
     "name": "stdout",
     "output_type": "stream",
     "text": [
      "Normal     1198\n",
      "Partial     125\n",
      "Abnorml     101\n",
      "Family       20\n",
      "Alloca       12\n",
      "AdjLand       4\n",
      "Name: SaleCondition, dtype: int64\n"
     ]
    }
   ],
   "source": [
    "print(df['SaleCondition'].value_counts())\n",
    "df['SaleCondition']=df['SaleCondition'].apply(lambda x:2 if x=='Normal' else 0)"
   ]
  },
  {
   "cell_type": "code",
   "execution_count": 7,
   "id": "556fe08b",
   "metadata": {
    "execution": {
     "iopub.execute_input": "2022-09-23T00:48:16.046098Z",
     "iopub.status.busy": "2022-09-23T00:48:16.045673Z",
     "iopub.status.idle": "2022-09-23T00:48:16.055975Z",
     "shell.execute_reply": "2022-09-23T00:48:16.054618Z"
    },
    "papermill": {
     "duration": 0.025413,
     "end_time": "2022-09-23T00:48:16.058643",
     "exception": false,
     "start_time": "2022-09-23T00:48:16.033230",
     "status": "completed"
    },
    "tags": []
   },
   "outputs": [
    {
     "name": "stdout",
     "output_type": "stream",
     "text": [
      "Norm      1445\n",
      "Feedr        6\n",
      "Artery       2\n",
      "RRNn         2\n",
      "PosN         2\n",
      "PosA         1\n",
      "RRAn         1\n",
      "RRAe         1\n",
      "Name: Condition2, dtype: int64\n"
     ]
    }
   ],
   "source": [
    "print(df['Condition2'].value_counts())\n",
    "df['Condition2']=df['Condition2'].apply(lambda x: 1 if x=='Norm' else 0)"
   ]
  },
  {
   "cell_type": "code",
   "execution_count": 8,
   "id": "6aebd4db",
   "metadata": {
    "execution": {
     "iopub.execute_input": "2022-09-23T00:48:16.082701Z",
     "iopub.status.busy": "2022-09-23T00:48:16.082274Z",
     "iopub.status.idle": "2022-09-23T00:48:16.108222Z",
     "shell.execute_reply": "2022-09-23T00:48:16.106896Z"
    },
    "papermill": {
     "duration": 0.041149,
     "end_time": "2022-09-23T00:48:16.110918",
     "exception": false,
     "start_time": "2022-09-23T00:48:16.069769",
     "status": "completed"
    },
    "tags": []
   },
   "outputs": [
    {
     "data": {
      "text/html": [
       "<div>\n",
       "<style scoped>\n",
       "    .dataframe tbody tr th:only-of-type {\n",
       "        vertical-align: middle;\n",
       "    }\n",
       "\n",
       "    .dataframe tbody tr th {\n",
       "        vertical-align: top;\n",
       "    }\n",
       "\n",
       "    .dataframe thead th {\n",
       "        text-align: right;\n",
       "    }\n",
       "</style>\n",
       "<table border=\"1\" class=\"dataframe\">\n",
       "  <thead>\n",
       "    <tr style=\"text-align: right;\">\n",
       "      <th></th>\n",
       "      <th>Id</th>\n",
       "      <th>MSSubClass</th>\n",
       "      <th>LotArea</th>\n",
       "      <th>Condition2</th>\n",
       "      <th>OverallQual</th>\n",
       "      <th>OverallCond</th>\n",
       "      <th>YearBuilt</th>\n",
       "      <th>YearRemodAdd</th>\n",
       "      <th>MasVnrArea</th>\n",
       "      <th>BsmtFinSF1</th>\n",
       "      <th>...</th>\n",
       "      <th>EnclosedPorch</th>\n",
       "      <th>3SsnPorch</th>\n",
       "      <th>ScreenPorch</th>\n",
       "      <th>PoolArea</th>\n",
       "      <th>MiscVal</th>\n",
       "      <th>MoSold</th>\n",
       "      <th>YrSold</th>\n",
       "      <th>SaleCondition</th>\n",
       "      <th>SalePrice</th>\n",
       "      <th>totalSQ</th>\n",
       "    </tr>\n",
       "  </thead>\n",
       "  <tbody>\n",
       "    <tr>\n",
       "      <th>0</th>\n",
       "      <td>1</td>\n",
       "      <td>60</td>\n",
       "      <td>8450</td>\n",
       "      <td>1</td>\n",
       "      <td>7</td>\n",
       "      <td>5</td>\n",
       "      <td>2003</td>\n",
       "      <td>2003</td>\n",
       "      <td>196.0</td>\n",
       "      <td>706</td>\n",
       "      <td>...</td>\n",
       "      <td>0</td>\n",
       "      <td>0</td>\n",
       "      <td>0</td>\n",
       "      <td>0</td>\n",
       "      <td>0</td>\n",
       "      <td>2</td>\n",
       "      <td>2008</td>\n",
       "      <td>2</td>\n",
       "      <td>208500</td>\n",
       "      <td>2566</td>\n",
       "    </tr>\n",
       "    <tr>\n",
       "      <th>1</th>\n",
       "      <td>2</td>\n",
       "      <td>20</td>\n",
       "      <td>9600</td>\n",
       "      <td>1</td>\n",
       "      <td>6</td>\n",
       "      <td>8</td>\n",
       "      <td>1976</td>\n",
       "      <td>1976</td>\n",
       "      <td>0.0</td>\n",
       "      <td>978</td>\n",
       "      <td>...</td>\n",
       "      <td>0</td>\n",
       "      <td>0</td>\n",
       "      <td>0</td>\n",
       "      <td>0</td>\n",
       "      <td>0</td>\n",
       "      <td>5</td>\n",
       "      <td>2007</td>\n",
       "      <td>2</td>\n",
       "      <td>181500</td>\n",
       "      <td>2524</td>\n",
       "    </tr>\n",
       "    <tr>\n",
       "      <th>2</th>\n",
       "      <td>3</td>\n",
       "      <td>60</td>\n",
       "      <td>11250</td>\n",
       "      <td>1</td>\n",
       "      <td>7</td>\n",
       "      <td>5</td>\n",
       "      <td>2001</td>\n",
       "      <td>2002</td>\n",
       "      <td>162.0</td>\n",
       "      <td>486</td>\n",
       "      <td>...</td>\n",
       "      <td>0</td>\n",
       "      <td>0</td>\n",
       "      <td>0</td>\n",
       "      <td>0</td>\n",
       "      <td>0</td>\n",
       "      <td>9</td>\n",
       "      <td>2008</td>\n",
       "      <td>2</td>\n",
       "      <td>223500</td>\n",
       "      <td>2706</td>\n",
       "    </tr>\n",
       "    <tr>\n",
       "      <th>3</th>\n",
       "      <td>4</td>\n",
       "      <td>70</td>\n",
       "      <td>9550</td>\n",
       "      <td>1</td>\n",
       "      <td>7</td>\n",
       "      <td>5</td>\n",
       "      <td>1915</td>\n",
       "      <td>1970</td>\n",
       "      <td>0.0</td>\n",
       "      <td>216</td>\n",
       "      <td>...</td>\n",
       "      <td>272</td>\n",
       "      <td>0</td>\n",
       "      <td>0</td>\n",
       "      <td>0</td>\n",
       "      <td>0</td>\n",
       "      <td>2</td>\n",
       "      <td>2006</td>\n",
       "      <td>0</td>\n",
       "      <td>140000</td>\n",
       "      <td>2473</td>\n",
       "    </tr>\n",
       "    <tr>\n",
       "      <th>4</th>\n",
       "      <td>5</td>\n",
       "      <td>60</td>\n",
       "      <td>14260</td>\n",
       "      <td>1</td>\n",
       "      <td>8</td>\n",
       "      <td>5</td>\n",
       "      <td>2000</td>\n",
       "      <td>2000</td>\n",
       "      <td>350.0</td>\n",
       "      <td>655</td>\n",
       "      <td>...</td>\n",
       "      <td>0</td>\n",
       "      <td>0</td>\n",
       "      <td>0</td>\n",
       "      <td>0</td>\n",
       "      <td>0</td>\n",
       "      <td>12</td>\n",
       "      <td>2008</td>\n",
       "      <td>2</td>\n",
       "      <td>250000</td>\n",
       "      <td>3343</td>\n",
       "    </tr>\n",
       "  </tbody>\n",
       "</table>\n",
       "<p>5 rows × 40 columns</p>\n",
       "</div>"
      ],
      "text/plain": [
       "   Id  MSSubClass  LotArea  Condition2  OverallQual  OverallCond  YearBuilt  \\\n",
       "0   1          60     8450           1            7            5       2003   \n",
       "1   2          20     9600           1            6            8       1976   \n",
       "2   3          60    11250           1            7            5       2001   \n",
       "3   4          70     9550           1            7            5       1915   \n",
       "4   5          60    14260           1            8            5       2000   \n",
       "\n",
       "   YearRemodAdd  MasVnrArea  BsmtFinSF1  ...  EnclosedPorch  3SsnPorch  \\\n",
       "0          2003       196.0         706  ...              0          0   \n",
       "1          1976         0.0         978  ...              0          0   \n",
       "2          2002       162.0         486  ...              0          0   \n",
       "3          1970         0.0         216  ...            272          0   \n",
       "4          2000       350.0         655  ...              0          0   \n",
       "\n",
       "   ScreenPorch  PoolArea  MiscVal  MoSold  YrSold  SaleCondition  SalePrice  \\\n",
       "0            0         0        0       2    2008              2     208500   \n",
       "1            0         0        0       5    2007              2     181500   \n",
       "2            0         0        0       9    2008              2     223500   \n",
       "3            0         0        0       2    2006              0     140000   \n",
       "4            0         0        0      12    2008              2     250000   \n",
       "\n",
       "   totalSQ  \n",
       "0     2566  \n",
       "1     2524  \n",
       "2     2706  \n",
       "3     2473  \n",
       "4     3343  \n",
       "\n",
       "[5 rows x 40 columns]"
      ]
     },
     "execution_count": 8,
     "metadata": {},
     "output_type": "execute_result"
    }
   ],
   "source": [
    "df = df.select_dtypes(include=['int16', 'int32', 'int64', 'float16', 'float32', 'float64'])\n",
    "df.head()"
   ]
  },
  {
   "cell_type": "markdown",
   "id": "06a548bc",
   "metadata": {
    "papermill": {
     "duration": 0.011537,
     "end_time": "2022-09-23T00:48:16.134423",
     "exception": false,
     "start_time": "2022-09-23T00:48:16.122886",
     "status": "completed"
    },
    "tags": []
   },
   "source": [
    "# Outliers"
   ]
  },
  {
   "cell_type": "code",
   "execution_count": 9,
   "id": "9aafe141",
   "metadata": {
    "execution": {
     "iopub.execute_input": "2022-09-23T00:48:16.159022Z",
     "iopub.status.busy": "2022-09-23T00:48:16.158611Z",
     "iopub.status.idle": "2022-09-23T00:48:18.193756Z",
     "shell.execute_reply": "2022-09-23T00:48:18.191916Z"
    },
    "papermill": {
     "duration": 2.05163,
     "end_time": "2022-09-23T00:48:18.197380",
     "exception": false,
     "start_time": "2022-09-23T00:48:16.145750",
     "status": "completed"
    },
    "tags": []
   },
   "outputs": [
    {
     "data": {
      "text/plain": [
       "<seaborn.axisgrid.FacetGrid at 0x7f863ef94690>"
      ]
     },
     "execution_count": 9,
     "metadata": {},
     "output_type": "execute_result"
    },
    {
     "data": {
      "image/png": "[encoded data removed]",
      "text/plain": [
       "<Figure size 360x360 with 1 Axes>"
      ]
     },
     "metadata": {
      "needs_background": "light"
     },
     "output_type": "display_data"
    },
    {
     "data": {
      "image/png": "[encoded data removed]",
      "text/plain": [
       "<Figure size 360x360 with 1 Axes>"
      ]
     },
     "metadata": {
      "needs_background": "light"
     },
     "output_type": "display_data"
    }
   ],
   "source": [
    "import seaborn as sns\n",
    "sns.displot(df, x='SalePrice')\n",
    "sns.displot(df, x='totalSQ')"
   ]
  },
  {
   "cell_type": "code",
   "execution_count": 10,
   "id": "ce2d71df",
   "metadata": {
    "execution": {
     "iopub.execute_input": "2022-09-23T00:48:18.229627Z",
     "iopub.status.busy": "2022-09-23T00:48:18.228424Z",
     "iopub.status.idle": "2022-09-23T00:48:18.257778Z",
     "shell.execute_reply": "2022-09-23T00:48:18.256009Z"
    },
    "papermill": {
     "duration": 0.052645,
     "end_time": "2022-09-23T00:48:18.262653",
     "exception": false,
     "start_time": "2022-09-23T00:48:18.210008",
     "status": "completed"
    },
    "tags": []
   },
   "outputs": [
    {
     "name": "stdout",
     "output_type": "stream",
     "text": [
      "[438780, 501837, 475000, 437154, 426000, 555000, 440000, 430000, 446261, 451950, 423000, 755000, 538000, 485000, 582933, 611657, 556581, 424870, 625000, 745000, 465000, 466500]\n",
      "[438780, 501837, 475000, 437154, 426000, 555000, 440000, 430000, 446261, 451950, 423000, 755000, 538000, 485000, 582933, 611657, 556581, 424870, 625000, 745000, 465000, 466500, 5496, 6428, 7814, 6760, 5066, 5048, 5557, 6872, 11752, 5271, 5266]\n"
     ]
    }
   ],
   "source": [
    "from scipy import stats\n",
    "\n",
    "outliers=[]\n",
    "def detect_outlier(data_1):\n",
    "    threshold=3\n",
    "    mean_1 = np.mean(data_1)\n",
    "    std_1 =np.std(data_1)\n",
    "    \n",
    "    for y in data_1:\n",
    "        z_score= (y - mean_1)/std_1 \n",
    "        if np.abs(z_score) > threshold:\n",
    "            outliers.append(y)\n",
    "    return outliers\n",
    "priceOutlier=list(detect_outlier(df['SalePrice']))\n",
    "print(priceOutlier)\n",
    "sqOutlier=list(detect_outlier(df['totalSQ']))\n",
    "print(sqOutlier)"
   ]
  },
  {
   "cell_type": "code",
   "execution_count": 11,
   "id": "a90a57d1",
   "metadata": {
    "execution": {
     "iopub.execute_input": "2022-09-23T00:48:18.307779Z",
     "iopub.status.busy": "2022-09-23T00:48:18.306799Z",
     "iopub.status.idle": "2022-09-23T00:48:18.319268Z",
     "shell.execute_reply": "2022-09-23T00:48:18.318017Z"
    },
    "papermill": {
     "duration": 0.040875,
     "end_time": "2022-09-23T00:48:18.324866",
     "exception": false,
     "start_time": "2022-09-23T00:48:18.283991",
     "status": "completed"
    },
    "tags": []
   },
   "outputs": [
    {
     "name": "stdout",
     "output_type": "stream",
     "text": [
      "(1444, 40)\n"
     ]
    }
   ],
   "source": [
    "#Remove Outliers:\n",
    "df=df.loc[df['SalePrice']<500_000]\n",
    "df=df.loc[df['totalSQ']<5000]\n",
    "print(df.shape) "
   ]
  },
  {
   "cell_type": "markdown",
   "id": "1ff0fff7",
   "metadata": {
    "papermill": {
     "duration": 0.01247,
     "end_time": "2022-09-23T00:48:18.357653",
     "exception": false,
     "start_time": "2022-09-23T00:48:18.345183",
     "status": "completed"
    },
    "tags": []
   },
   "source": [
    "# Correlations"
   ]
  },
  {
   "cell_type": "code",
   "execution_count": 12,
   "id": "5e00d9c9",
   "metadata": {
    "execution": {
     "iopub.execute_input": "2022-09-23T00:48:18.384658Z",
     "iopub.status.busy": "2022-09-23T00:48:18.384273Z",
     "iopub.status.idle": "2022-09-23T00:48:18.871450Z",
     "shell.execute_reply": "2022-09-23T00:48:18.870250Z"
    },
    "papermill": {
     "duration": 0.503436,
     "end_time": "2022-09-23T00:48:18.873713",
     "exception": false,
     "start_time": "2022-09-23T00:48:18.370277",
     "status": "completed"
    },
    "tags": []
   },
   "outputs": [
    {
     "data": {
      "text/plain": [
       "<AxesSubplot:>"
      ]
     },
     "execution_count": 12,
     "metadata": {},
     "output_type": "execute_result"
    },
    {
     "data": {
      "image/png": "[encoded data removed]",
      "text/plain": [
       "<Figure size 432x288 with 2 Axes>"
      ]
     },
     "metadata": {
      "needs_background": "light"
     },
     "output_type": "display_data"
    }
   ],
   "source": [
    "import seaborn as sns\n",
    "sns.heatmap(df.corr())"
   ]
  },
  {
   "cell_type": "code",
   "execution_count": 13,
   "id": "5aead798",
   "metadata": {
    "execution": {
     "iopub.execute_input": "2022-09-23T00:48:18.901754Z",
     "iopub.status.busy": "2022-09-23T00:48:18.901324Z",
     "iopub.status.idle": "2022-09-23T00:48:18.907822Z",
     "shell.execute_reply": "2022-09-23T00:48:18.906663Z"
    },
    "papermill": {
     "duration": 0.023159,
     "end_time": "2022-09-23T00:48:18.910264",
     "exception": false,
     "start_time": "2022-09-23T00:48:18.887105",
     "status": "completed"
    },
    "tags": []
   },
   "outputs": [],
   "source": [
    "#Too similiar variables:\n",
    "df=df.drop(['GarageArea', 'GarageYrBlt', 'GrLivArea'], axis=1)"
   ]
  },
  {
   "cell_type": "markdown",
   "id": "f9e470c8",
   "metadata": {
    "papermill": {
     "duration": 0.012368,
     "end_time": "2022-09-23T00:48:18.935425",
     "exception": false,
     "start_time": "2022-09-23T00:48:18.923057",
     "status": "completed"
    },
    "tags": []
   },
   "source": [
    "# Split Data"
   ]
  },
  {
   "cell_type": "code",
   "execution_count": 14,
   "id": "8f4c34e2",
   "metadata": {
    "execution": {
     "iopub.execute_input": "2022-09-23T00:48:18.963448Z",
     "iopub.status.busy": "2022-09-23T00:48:18.963074Z",
     "iopub.status.idle": "2022-09-23T00:48:19.160038Z",
     "shell.execute_reply": "2022-09-23T00:48:19.158916Z"
    },
    "papermill": {
     "duration": 0.213844,
     "end_time": "2022-09-23T00:48:19.162550",
     "exception": false,
     "start_time": "2022-09-23T00:48:18.948706",
     "status": "completed"
    },
    "tags": []
   },
   "outputs": [],
   "source": [
    "from sklearn.model_selection import train_test_split, cross_validate\n",
    "\n",
    "X=df.drop(\"SalePrice\", axis='columns')\n",
    "y=df['SalePrice']\n",
    "\n",
    "X_train, X_test, y_train, y_test = train_test_split(\n",
    "X, y, test_size=0.33, random_state=42)"
   ]
  },
  {
   "cell_type": "markdown",
   "id": "fe00b1c6",
   "metadata": {
    "papermill": {
     "duration": 0.012505,
     "end_time": "2022-09-23T00:48:19.188233",
     "exception": false,
     "start_time": "2022-09-23T00:48:19.175728",
     "status": "completed"
    },
    "tags": []
   },
   "source": [
    "# xgBoost"
   ]
  },
  {
   "cell_type": "code",
   "execution_count": 15,
   "id": "7bbb69be",
   "metadata": {
    "execution": {
     "iopub.execute_input": "2022-09-23T00:48:19.215894Z",
     "iopub.status.busy": "2022-09-23T00:48:19.215090Z",
     "iopub.status.idle": "2022-09-23T00:48:19.699649Z",
     "shell.execute_reply": "2022-09-23T00:48:19.698010Z"
    },
    "papermill": {
     "duration": 0.502067,
     "end_time": "2022-09-23T00:48:19.703063",
     "exception": false,
     "start_time": "2022-09-23T00:48:19.200996",
     "status": "completed"
    },
    "tags": []
   },
   "outputs": [
    {
     "name": "stdout",
     "output_type": "stream",
     "text": [
      "0.8873\n",
      "16176.886931669287\n"
     ]
    }
   ],
   "source": [
    "import xgboost as xgb\n",
    "from sklearn.metrics import mean_squared_error, r2_score, mean_absolute_error\n",
    "\n",
    "regressor = xgb.XGBRegressor(\n",
    "    n_estimators=100,\n",
    "    reg_lambda=1,\n",
    "    gamma=0,\n",
    "    max_depth=3\n",
    ")\n",
    "\n",
    "regressor.fit(X_train, y_train)\n",
    "y_pred = regressor.predict(X_test)\n",
    "\n",
    "xgbMSE=mean_absolute_error(y_test, y_pred)\n",
    "xgR2 = r2_score(y_test, y_pred).round(4)\n",
    "print(xgR2)\n",
    "print(xgbMSE)"
   ]
  },
  {
   "cell_type": "markdown",
   "id": "1066289c",
   "metadata": {
    "papermill": {
     "duration": 0.012739,
     "end_time": "2022-09-23T00:48:19.731362",
     "exception": false,
     "start_time": "2022-09-23T00:48:19.718623",
     "status": "completed"
    },
    "tags": []
   },
   "source": [
    "### Max Depth Tunning\n",
    "Four for max depth is clearly the magic number with the least amount of error and highest accuracy. "
   ]
  },
  {
   "cell_type": "code",
   "execution_count": 16,
   "id": "26c709d4",
   "metadata": {
    "execution": {
     "iopub.execute_input": "2022-09-23T00:48:19.758732Z",
     "iopub.status.busy": "2022-09-23T00:48:19.758348Z",
     "iopub.status.idle": "2022-09-23T00:48:25.322718Z",
     "shell.execute_reply": "2022-09-23T00:48:25.321870Z"
    },
    "papermill": {
     "duration": 5.581085,
     "end_time": "2022-09-23T00:48:25.325139",
     "exception": false,
     "start_time": "2022-09-23T00:48:19.744054",
     "status": "completed"
    },
    "tags": []
   },
   "outputs": [
    {
     "data": {
      "image/png": "[encoded data removed]",
      "text/plain": [
       "<Figure size 432x288 with 1 Axes>"
      ]
     },
     "metadata": {
      "needs_background": "light"
     },
     "output_type": "display_data"
    },
    {
     "data": {
      "image/png": "[encoded data removed]",
      "text/plain": [
       "<Figure size 432x288 with 1 Axes>"
      ]
     },
     "metadata": {
      "needs_background": "light"
     },
     "output_type": "display_data"
    }
   ],
   "source": [
    "maxDepth=[2, 3, 4, 5, 6, 7, 8, 9, 10, 11]\n",
    "listMSE=[]\n",
    "listR2=[]\n",
    "\n",
    "for d in maxDepth:\n",
    "    regressor = xgb.XGBRegressor(\n",
    "        n_estimators=100,\n",
    "        reg_lambda=1,\n",
    "        gamma=0,\n",
    "        max_depth=d\n",
    "    )\n",
    "    regressor.fit(X_train, y_train)\n",
    "    y_pred = regressor.predict(X_test)\n",
    "\n",
    "    xgMSE=mean_absolute_error(y_test, y_pred)\n",
    "    xgR2 = r2_score(y_test, y_pred).round(4)\n",
    "    listMSE.append(xgMSE)\n",
    "    listR2.append(xgR2)\n",
    "plt.plot(maxDepth, listMSE)\n",
    "plt.title('MaxDepth Error')\n",
    "plt.ylabel('Error')\n",
    "plt.xlabel('Max Depth')\n",
    "plt.legend()\n",
    "plt.show()\n",
    "\n",
    "plt.plot(maxDepth, listR2)\n",
    "plt.title('MaxDepth Accuracy')\n",
    "plt.ylabel('Accuracy')\n",
    "plt.xlabel('MaxDepth')\n",
    "plt.legend()\n",
    "plt.show()"
   ]
  },
  {
   "cell_type": "markdown",
   "id": "b2e06142",
   "metadata": {
    "papermill": {
     "duration": 0.013478,
     "end_time": "2022-09-23T00:48:25.353082",
     "exception": false,
     "start_time": "2022-09-23T00:48:25.339604",
     "status": "completed"
    },
    "tags": []
   },
   "source": [
    "#### N Estimators Tunning\n",
    "Around 100 n_estimators seems to be a fair number for both accuracy and low error."
   ]
  },
  {
   "cell_type": "code",
   "execution_count": 17,
   "id": "3231d32b",
   "metadata": {
    "execution": {
     "iopub.execute_input": "2022-09-23T00:48:25.382906Z",
     "iopub.status.busy": "2022-09-23T00:48:25.381706Z",
     "iopub.status.idle": "2022-09-23T00:48:29.159923Z",
     "shell.execute_reply": "2022-09-23T00:48:29.158779Z"
    },
    "papermill": {
     "duration": 3.796171,
     "end_time": "2022-09-23T00:48:29.162885",
     "exception": false,
     "start_time": "2022-09-23T00:48:25.366714",
     "status": "completed"
    },
    "tags": []
   },
   "outputs": [
    {
     "data": {
      "image/png": "[encoded data removed]",
      "text/plain": [
       "<Figure size 432x288 with 1 Axes>"
      ]
     },
     "metadata": {
      "needs_background": "light"
     },
     "output_type": "display_data"
    },
    {
     "data": {
      "image/png": "[encoded data removed]",
      "text/plain": [
       "<Figure size 432x288 with 1 Axes>"
      ]
     },
     "metadata": {
      "needs_background": "light"
     },
     "output_type": "display_data"
    }
   ],
   "source": [
    "nEst=[2, 50, 150, 100, 150, 200, 300]\n",
    "listMSE=[]\n",
    "listR2=[]\n",
    "\n",
    "for n in nEst:\n",
    "    regressor = xgb.XGBRegressor(\n",
    "        n_estimators=n,\n",
    "        reg_lambda=1,\n",
    "        gamma=0,\n",
    "        max_depth=4\n",
    "    )\n",
    "    regressor.fit(X_train, y_train)\n",
    "    y_pred = regressor.predict(X_test)\n",
    "\n",
    "    xgMSE=mean_absolute_error(y_test, y_pred)\n",
    "    xgR2 = r2_score(y_test, y_pred).round(4)\n",
    "    listMSE.append(xgMSE)\n",
    "    listR2.append(xgR2)\n",
    "plt.plot(nEst, listMSE)\n",
    "plt.title('nEstimators Error')\n",
    "plt.ylabel('Error')\n",
    "plt.xlabel('N Estimators')\n",
    "plt.legend()\n",
    "plt.show()\n",
    "\n",
    "plt.plot(nEst, listR2)\n",
    "plt.title('nEstimators R2')\n",
    "plt.ylabel('Accurate')\n",
    "plt.xlabel('N Estimators')\n",
    "plt.legend()\n",
    "plt.show()"
   ]
  },
  {
   "cell_type": "markdown",
   "id": "400f432e",
   "metadata": {
    "papermill": {
     "duration": 0.013926,
     "end_time": "2022-09-23T00:48:29.191155",
     "exception": false,
     "start_time": "2022-09-23T00:48:29.177229",
     "status": "completed"
    },
    "tags": []
   },
   "source": [
    "#### Eta Tuning"
   ]
  },
  {
   "cell_type": "code",
   "execution_count": 18,
   "id": "76b08a29",
   "metadata": {
    "execution": {
     "iopub.execute_input": "2022-09-23T00:48:29.221596Z",
     "iopub.status.busy": "2022-09-23T00:48:29.220976Z",
     "iopub.status.idle": "2022-09-23T00:48:31.345223Z",
     "shell.execute_reply": "2022-09-23T00:48:31.343842Z"
    },
    "papermill": {
     "duration": 2.142898,
     "end_time": "2022-09-23T00:48:31.348372",
     "exception": false,
     "start_time": "2022-09-23T00:48:29.205474",
     "status": "completed"
    },
    "tags": []
   },
   "outputs": [
    {
     "data": {
      "image/png": "[encoded data removed]",
      "text/plain": [
       "<Figure size 432x288 with 1 Axes>"
      ]
     },
     "metadata": {
      "needs_background": "light"
     },
     "output_type": "display_data"
    },
    {
     "data": {
      "image/png": "[encoded data removed]",
      "text/plain": [
       "<Figure size 432x288 with 1 Axes>"
      ]
     },
     "metadata": {
      "needs_background": "light"
     },
     "output_type": "display_data"
    }
   ],
   "source": [
    "eta=[.01, .05, .1, .2, .3, .4, .5, .6]\n",
    "listMSE=[]\n",
    "listR2=[]\n",
    "\n",
    "for e in eta:\n",
    "    regressor = xgb.XGBRegressor(\n",
    "        n_estimators=50,\n",
    "        reg_lambda=1,\n",
    "        gamma=0,\n",
    "        max_depth=4,\n",
    "        eta=e\n",
    "    )\n",
    "    regressor.fit(X_train, y_train)\n",
    "    y_pred = regressor.predict(X_test)\n",
    "\n",
    "    xgMSE=mean_absolute_error(y_test, y_pred)\n",
    "    xgR2 = r2_score(y_test, y_pred).round(4)\n",
    "    listMSE.append(xgMSE)\n",
    "    listR2.append(xgR2)\n",
    "plt.plot(eta, listMSE)\n",
    "plt.title('Eta Error')\n",
    "plt.ylabel('Error')\n",
    "plt.xlabel('Eta')\n",
    "plt.legend()\n",
    "plt.show()\n",
    "\n",
    "plt.plot(eta, listR2)\n",
    "plt.title('Eta R2')\n",
    "plt.ylabel('Accurate')\n",
    "plt.xlabel('Eta')\n",
    "plt.legend()\n",
    "plt.show()"
   ]
  },
  {
   "cell_type": "code",
   "execution_count": 19,
   "id": "6f9bb625",
   "metadata": {
    "execution": {
     "iopub.execute_input": "2022-09-23T00:48:31.382793Z",
     "iopub.status.busy": "2022-09-23T00:48:31.382369Z",
     "iopub.status.idle": "2022-09-23T00:48:33.651743Z",
     "shell.execute_reply": "2022-09-23T00:48:33.650540Z"
    },
    "papermill": {
     "duration": 2.289768,
     "end_time": "2022-09-23T00:48:33.654357",
     "exception": false,
     "start_time": "2022-09-23T00:48:31.364589",
     "status": "completed"
    },
    "tags": []
   },
   "outputs": [
    {
     "data": {
      "image/png": "[encoded data removed]",
      "text/plain": [
       "<Figure size 432x288 with 1 Axes>"
      ]
     },
     "metadata": {
      "needs_background": "light"
     },
     "output_type": "display_data"
    },
    {
     "data": {
      "image/png": "[encoded data removed]",
      "text/plain": [
       "<Figure size 432x288 with 1 Axes>"
      ]
     },
     "metadata": {
      "needs_background": "light"
     },
     "output_type": "display_data"
    }
   ],
   "source": [
    "weight=[1, 3, 5, 7, 9, 11, 13, 15, 17]\n",
    "listMSE=[]\n",
    "listR2=[]\n",
    "\n",
    "for w in weight:\n",
    "    regressor = xgb.XGBRegressor(\n",
    "        n_estimators=50,\n",
    "        reg_lambda=1,\n",
    "        gamma=0,\n",
    "        max_depth=4,\n",
    "        eta=.05,\n",
    "        min_child_weight=w\n",
    "    )\n",
    "    regressor.fit(X_train, y_train)\n",
    "    y_pred = regressor.predict(X_test)\n",
    "\n",
    "    xgMSE=mean_absolute_error(y_test, y_pred)\n",
    "    xgR2 = r2_score(y_test, y_pred).round(4)\n",
    "    listMSE.append(xgMSE)\n",
    "    listR2.append(xgR2)\n",
    "plt.plot(weight, listMSE)\n",
    "plt.title('nEstimators Error')\n",
    "plt.ylabel('Error')\n",
    "plt.xlabel('Weight')\n",
    "plt.legend()\n",
    "plt.show()\n",
    "\n",
    "plt.plot(weight, listR2)\n",
    "plt.title('Weight R2')\n",
    "plt.ylabel('Accurate')\n",
    "plt.xlabel('Weight')\n",
    "plt.legend()\n",
    "plt.show()"
   ]
  },
  {
   "cell_type": "code",
   "execution_count": 20,
   "id": "ef01aaa5",
   "metadata": {
    "execution": {
     "iopub.execute_input": "2022-09-23T00:48:33.691653Z",
     "iopub.status.busy": "2022-09-23T00:48:33.690614Z",
     "iopub.status.idle": "2022-09-23T00:48:35.971240Z",
     "shell.execute_reply": "2022-09-23T00:48:35.970120Z"
    },
    "papermill": {
     "duration": 2.301428,
     "end_time": "2022-09-23T00:48:35.973722",
     "exception": false,
     "start_time": "2022-09-23T00:48:33.672294",
     "status": "completed"
    },
    "tags": []
   },
   "outputs": [
    {
     "data": {
      "image/png": "[encoded data removed]",
      "text/plain": [
       "<Figure size 432x288 with 1 Axes>"
      ]
     },
     "metadata": {
      "needs_background": "light"
     },
     "output_type": "display_data"
    },
    {
     "data": {
      "image/png": "[encoded data removed]",
      "text/plain": [
       "<Figure size 432x288 with 1 Axes>"
      ]
     },
     "metadata": {
      "needs_background": "light"
     },
     "output_type": "display_data"
    }
   ],
   "source": [
    "gammas=[0, 0.25, 0.5, 1.0, 3, 5, 10]\n",
    "listMSE=[]\n",
    "listR2=[]\n",
    "\n",
    "for g in gammas:\n",
    "    regressor = xgb.XGBRegressor(\n",
    "        gamma=g,\n",
    "        n_estimators=50,\n",
    "    )\n",
    "    regressor.fit(X_train, y_train)\n",
    "    y_pred = regressor.predict(X_test)\n",
    "\n",
    "    xgMSE=mean_absolute_error(y_test, y_pred)\n",
    "    xgR2 = r2_score(y_test, y_pred).round(4)\n",
    "    listMSE.append(xgMSE)\n",
    "    listR2.append(xgR2)\n",
    "    \n",
    "plt.plot(gammas, listMSE)\n",
    "plt.title('Gamma Error')\n",
    "plt.ylabel('Error')\n",
    "plt.xlabel('Gammas')\n",
    "plt.legend()\n",
    "plt.show()\n",
    "\n",
    "plt.plot(gammas, listR2)\n",
    "plt.title('Gamma R2')\n",
    "plt.ylabel('Accurate')\n",
    "plt.xlabel('Gammas')\n",
    "plt.legend()\n",
    "plt.show()"
   ]
  },
  {
   "cell_type": "code",
   "execution_count": 21,
   "id": "e5fddaf5",
   "metadata": {
    "execution": {
     "iopub.execute_input": "2022-09-23T00:48:36.008193Z",
     "iopub.status.busy": "2022-09-23T00:48:36.006943Z",
     "iopub.status.idle": "2022-09-23T00:48:37.625209Z",
     "shell.execute_reply": "2022-09-23T00:48:37.623958Z"
    },
    "papermill": {
     "duration": 1.638351,
     "end_time": "2022-09-23T00:48:37.628011",
     "exception": false,
     "start_time": "2022-09-23T00:48:35.989660",
     "status": "completed"
    },
    "tags": []
   },
   "outputs": [
    {
     "data": {
      "image/png": "[encoded data removed]",
      "text/plain": [
       "<Figure size 432x288 with 1 Axes>"
      ]
     },
     "metadata": {
      "needs_background": "light"
     },
     "output_type": "display_data"
    },
    {
     "data": {
      "image/png": "[encoded data removed]",
      "text/plain": [
       "<Figure size 432x288 with 1 Axes>"
      ]
     },
     "metadata": {
      "needs_background": "light"
     },
     "output_type": "display_data"
    }
   ],
   "source": [
    "learning_rate = [0.0001, 0.001, 0.01, 0.1, 0.2, 0.3]\n",
    "listMSE=[]\n",
    "listR2=[]\n",
    "\n",
    "for l in learning_rate:\n",
    "    regressor = xgb.XGBRegressor(\n",
    "        n_estimators=50,\n",
    "        reg_lambda=1,\n",
    "        gamma=g,\n",
    "        max_depth=4,\n",
    "        eta=.05,\n",
    "        min_child_weight=13,\n",
    "        learning_rate=l\n",
    "    )\n",
    "    regressor.fit(X_train, y_train)\n",
    "    y_pred = regressor.predict(X_test)\n",
    "\n",
    "    xgMSE=mean_absolute_error(y_test, y_pred)\n",
    "    xgR2 = r2_score(y_test, y_pred).round(4)\n",
    "    listMSE.append(xgMSE)\n",
    "    listR2.append(xgR2)\n",
    "    \n",
    "plt.plot(learning_rate, listMSE)\n",
    "plt.title('Learning_rate Error')\n",
    "plt.ylabel('Error')\n",
    "plt.xlabel('Learning_rate')\n",
    "plt.legend()\n",
    "plt.show()\n",
    "\n",
    "plt.plot(learning_rate, listR2)\n",
    "plt.title('Learning_rate R2')\n",
    "plt.ylabel('Accurate')\n",
    "plt.xlabel('Learning_rate')\n",
    "plt.legend()\n",
    "plt.show()"
   ]
  },
  {
   "cell_type": "code",
   "execution_count": 22,
   "id": "5a011e8e",
   "metadata": {
    "execution": {
     "iopub.execute_input": "2022-09-23T00:48:37.664917Z",
     "iopub.status.busy": "2022-09-23T00:48:37.663771Z",
     "iopub.status.idle": "2022-09-23T00:48:39.248901Z",
     "shell.execute_reply": "2022-09-23T00:48:39.247586Z"
    },
    "papermill": {
     "duration": 1.607036,
     "end_time": "2022-09-23T00:48:39.252045",
     "exception": false,
     "start_time": "2022-09-23T00:48:37.645009",
     "status": "completed"
    },
    "tags": []
   },
   "outputs": [
    {
     "data": {
      "image/png": "[encoded data removed]",
      "text/plain": [
       "<Figure size 432x288 with 1 Axes>"
      ]
     },
     "metadata": {
      "needs_background": "light"
     },
     "output_type": "display_data"
    },
    {
     "data": {
      "image/png": "[encoded data removed]",
      "text/plain": [
       "<Figure size 432x288 with 1 Axes>"
      ]
     },
     "metadata": {
      "needs_background": "light"
     },
     "output_type": "display_data"
    }
   ],
   "source": [
    "regLam = [0.1, 1.0, 5.0, 10.0, 50.0, 100.0]\n",
    "listMSE=[]\n",
    "listR2=[]\n",
    "\n",
    "for r in regLam:\n",
    "    regressor = xgb.XGBRegressor(\n",
    "        n_estimators=50,\n",
    "        reg_lambda=r,\n",
    "        max_depth=4,\n",
    "        eta=.05,\n",
    "        min_child_weight=13,\n",
    "        learning_rate=.1\n",
    "    )\n",
    "    regressor.fit(X_train, y_train)\n",
    "    y_pred = regressor.predict(X_test)\n",
    "\n",
    "    xgMSE=mean_absolute_error(y_test, y_pred)\n",
    "    xgR2 = r2_score(y_test, y_pred).round(4)\n",
    "    listMSE.append(xgMSE)\n",
    "    listR2.append(xgR2)\n",
    "    \n",
    "plt.plot(regLam, listMSE)\n",
    "plt.title('RegLam Error')\n",
    "plt.ylabel('Error')\n",
    "plt.xlabel('RegLam')\n",
    "plt.legend()\n",
    "plt.show()\n",
    "\n",
    "plt.plot(regLam, listR2)\n",
    "plt.title('RegLam R2')\n",
    "plt.ylabel('Accurate')\n",
    "plt.xlabel('RegLam')\n",
    "plt.legend()\n",
    "plt.show()"
   ]
  },
  {
   "cell_type": "markdown",
   "id": "7cf1e3d4",
   "metadata": {
    "papermill": {
     "duration": 0.017059,
     "end_time": "2022-09-23T00:48:39.287270",
     "exception": false,
     "start_time": "2022-09-23T00:48:39.270211",
     "status": "completed"
    },
    "tags": []
   },
   "source": [
    "# Grid Search xg Boost"
   ]
  },
  {
   "cell_type": "code",
   "execution_count": 23,
   "id": "2a76426e",
   "metadata": {
    "execution": {
     "iopub.execute_input": "2022-09-23T00:48:39.323997Z",
     "iopub.status.busy": "2022-09-23T00:48:39.323086Z",
     "iopub.status.idle": "2022-09-23T00:48:48.598305Z",
     "shell.execute_reply": "2022-09-23T00:48:48.597343Z"
    },
    "papermill": {
     "duration": 9.297575,
     "end_time": "2022-09-23T00:48:48.602121",
     "exception": false,
     "start_time": "2022-09-23T00:48:39.304546",
     "status": "completed"
    },
    "tags": []
   },
   "outputs": [
    {
     "name": "stdout",
     "output_type": "stream",
     "text": [
      "Start\n",
      "{'eta': 0.1, 'learning_rate': 0.01, 'max_depth': 4, 'min_child_weight': 10, 'n_estimators': 50, 'reg_lambda': 0.01}\n",
      "Done.  9.266880512237549  seconds\n"
     ]
    }
   ],
   "source": [
    "from sklearn.model_selection import GridSearchCV\n",
    "import time\n",
    "import warnings\n",
    "warnings.filterwarnings(\"ignore\")\n",
    "\n",
    "start=time.time()\n",
    "print(\"Start\")\n",
    "\n",
    "params = {\n",
    "    'learning_rate':[.01, .03],\n",
    "    'n_estimators':[50],\n",
    "    'max_depth':[4, 5],\n",
    "    'min_child_weight':[10, 13],\n",
    "    'eta':[.1],\n",
    "    'reg_lambda':[.01, 1]\n",
    "}\n",
    "\n",
    "boost_gs=xgb.XGBRegressor()\n",
    "boost_gs=GridSearchCV(boost_gs, param_grid=params, cv=3, scoring='accuracy')\n",
    "boost_gs.fit(X_train, y_train)\n",
    "\n",
    "print(boost_gs.best_params_)\n",
    "print(\"Done. \", time.time()-start, \" seconds\")"
   ]
  },
  {
   "cell_type": "markdown",
   "id": "facec223",
   "metadata": {
    "papermill": {
     "duration": 0.017276,
     "end_time": "2022-09-23T00:48:48.638955",
     "exception": false,
     "start_time": "2022-09-23T00:48:48.621679",
     "status": "completed"
    },
    "tags": []
   },
   "source": [
    "#### Final xgBoost Prediction\n",
    "Using best parameter tunnings"
   ]
  },
  {
   "cell_type": "code",
   "execution_count": 24,
   "id": "8a468ddc",
   "metadata": {
    "execution": {
     "iopub.execute_input": "2022-09-23T00:48:48.679340Z",
     "iopub.status.busy": "2022-09-23T00:48:48.678303Z",
     "iopub.status.idle": "2022-09-23T00:48:50.452915Z",
     "shell.execute_reply": "2022-09-23T00:48:50.451879Z"
    },
    "papermill": {
     "duration": 1.799342,
     "end_time": "2022-09-23T00:48:50.455861",
     "exception": false,
     "start_time": "2022-09-23T00:48:48.656519",
     "status": "completed"
    },
    "tags": []
   },
   "outputs": [
    {
     "name": "stdout",
     "output_type": "stream",
     "text": [
      "0.9019\n",
      "0.8933\n",
      "0.008600000000000052\n"
     ]
    }
   ],
   "source": [
    "regressor = xgb.XGBRegressor(\n",
    "    n_estimators=50,\n",
    "    #gamma=0,\n",
    "    max_depth=4,\n",
    "    min_child_weight=10,\n",
    "    reg_lambda=.01,\n",
    "    eta=.1,\n",
    "    learning_rate=.1\n",
    ")\n",
    "\n",
    "#regressor.fit(X_train, y_train, early_stopping_rounds=1, eval_set=[(X_test, y_test)], verbose=False)\n",
    "regressor.fit(X_train, y_train)\n",
    "y_pred = regressor.predict(X_test)\n",
    "\n",
    "xgMSE=mean_absolute_error(y_test, y_pred)\n",
    "xgR2 = r2_score(y_test, y_pred).round(4)\n",
    "listMSE.append(xgMSE)\n",
    "listR2.append(xgR2)\n",
    "\n",
    "xgScore = regressor.score(X_test, y_test).round(4)  \n",
    "xgCV = cross_validate(regressor, X, y, cv = 3, scoring= 'r2')\n",
    "xgCV=xgCV['test_score'].mean().round(4)\n",
    "print(xgScore)\n",
    "print(xgCV)\n",
    "print(abs(xgScore-xgCV))"
   ]
  },
  {
   "cell_type": "markdown",
   "id": "3c2edd7d",
   "metadata": {
    "papermill": {
     "duration": 0.017381,
     "end_time": "2022-09-23T00:48:50.492551",
     "exception": false,
     "start_time": "2022-09-23T00:48:50.475170",
     "status": "completed"
    },
    "tags": []
   },
   "source": [
    "### Graph"
   ]
  },
  {
   "cell_type": "code",
   "execution_count": 25,
   "id": "f89f00bf",
   "metadata": {
    "execution": {
     "iopub.execute_input": "2022-09-23T00:48:50.529307Z",
     "iopub.status.busy": "2022-09-23T00:48:50.528888Z",
     "iopub.status.idle": "2022-09-23T00:48:51.617751Z",
     "shell.execute_reply": "2022-09-23T00:48:51.615828Z"
    },
    "papermill": {
     "duration": 1.111287,
     "end_time": "2022-09-23T00:48:51.621334",
     "exception": false,
     "start_time": "2022-09-23T00:48:50.510047",
     "status": "completed"
    },
    "tags": []
   },
   "outputs": [
    {
     "data": {
      "image/svg+xml": [
       "<?xml version=\"1.0\" encoding=\"UTF-8\" standalone=\"no\"?>\n",
       "<!DOCTYPE svg PUBLIC \"-//W3C//DTD SVG 1.1//EN\"\n",
       " \"http://www.w3.org/Graphics/SVG/1.1/DTD/svg11.dtd\">\n",
       "<!-- Generated by graphviz version 5.0.0 (20220707.2338)\n",
       " -->\n",
       "<!-- Pages: 1 -->\n",
       "<svg width=\"2766pt\" height=\"392pt\"\n",
       " viewBox=\"0.00 0.00 2765.98 392.00\" xmlns=\"http://www.w3.org/2000/svg\" xmlns:xlink=\"http://www.w3.org/1999/xlink\">\n",
       "<g id=\"graph0\" class=\"graph\" transform=\"scale(1 1) rotate(0) translate(4 388)\">\n",
       "<polygon fill=\"white\" stroke=\"transparent\" points=\"-4,4 -4,-388 2761.98,-388 2761.98,4 -4,4\"/>\n",
       "<!-- 0 -->\n",
       "<g id=\"node1\" class=\"node\">\n",
       "<title>0</title>\n",
       "<ellipse fill=\"none\" stroke=\"black\" cx=\"1461.99\" cy=\"-366\" rx=\"85.59\" ry=\"18\"/>\n",
       "<text text-anchor=\"middle\" x=\"1461.99\" y=\"-362.3\" font-family=\"Times,serif\" font-size=\"14.00\">totalSQ&lt;2948.5</text>\n",
       "</g>\n",
       "<!-- 1 -->\n",
       "<g id=\"node2\" class=\"node\">\n",
       "<title>1</title>\n",
       "<ellipse fill=\"none\" stroke=\"black\" cx=\"1167.99\" cy=\"-279\" rx=\"85.59\" ry=\"18\"/>\n",
       "<text text-anchor=\"middle\" x=\"1167.99\" y=\"-275.3\" font-family=\"Times,serif\" font-size=\"14.00\">totalSQ&lt;2243.5</text>\n",
       "</g>\n",
       "<!-- 0&#45;&gt;1 -->\n",
       "<g id=\"edge1\" class=\"edge\">\n",
       "<title>0&#45;&gt;1</title>\n",
       "<path fill=\"none\" stroke=\"#0000ff\" d=\"M1413.77,-351.06C1362.4,-336.21 1281.06,-312.69 1226.17,-296.82\"/>\n",
       "<polygon fill=\"#0000ff\" stroke=\"#0000ff\" points=\"1226.82,-293.36 1216.24,-293.95 1224.87,-300.09 1226.82,-293.36\"/>\n",
       "<text text-anchor=\"middle\" x=\"1377.49\" y=\"-318.8\" font-family=\"Times,serif\" font-size=\"14.00\">yes, missing</text>\n",
       "</g>\n",
       "<!-- 2 -->\n",
       "<g id=\"node3\" class=\"node\">\n",
       "<title>2</title>\n",
       "<ellipse fill=\"none\" stroke=\"black\" cx=\"1827.99\" cy=\"-279\" rx=\"88.28\" ry=\"18\"/>\n",
       "<text text-anchor=\"middle\" x=\"1827.99\" y=\"-275.3\" font-family=\"Times,serif\" font-size=\"14.00\">OverallQual&lt;6.5</text>\n",
       "</g>\n",
       "<!-- 0&#45;&gt;2 -->\n",
       "<g id=\"edge2\" class=\"edge\">\n",
       "<title>0&#45;&gt;2</title>\n",
       "<path fill=\"none\" stroke=\"#ff0000\" d=\"M1517.18,-352.18C1582.75,-336.95 1692.05,-311.57 1762.02,-295.32\"/>\n",
       "<polygon fill=\"#ff0000\" stroke=\"#ff0000\" points=\"1763.1,-298.66 1772.05,-292.99 1761.52,-291.84 1763.1,-298.66\"/>\n",
       "<text text-anchor=\"middle\" x=\"1675.99\" y=\"-318.8\" font-family=\"Times,serif\" font-size=\"14.00\">no</text>\n",
       "</g>\n",
       "<!-- 3 -->\n",
       "<g id=\"node4\" class=\"node\">\n",
       "<title>3</title>\n",
       "<ellipse fill=\"none\" stroke=\"black\" cx=\"608.99\" cy=\"-192\" rx=\"77.19\" ry=\"18\"/>\n",
       "<text text-anchor=\"middle\" x=\"608.99\" y=\"-188.3\" font-family=\"Times,serif\" font-size=\"14.00\">totalSQ&lt;1649</text>\n",
       "</g>\n",
       "<!-- 1&#45;&gt;3 -->\n",
       "<g id=\"edge3\" class=\"edge\">\n",
       "<title>1&#45;&gt;3</title>\n",
       "<path fill=\"none\" stroke=\"#0000ff\" d=\"M1100.84,-267.79C995.21,-251.73 791.05,-220.68 681.94,-204.09\"/>\n",
       "<polygon fill=\"#0000ff\" stroke=\"#0000ff\" points=\"682.41,-200.62 672,-202.58 681.36,-207.54 682.41,-200.62\"/>\n",
       "<text text-anchor=\"middle\" x=\"966.49\" y=\"-231.8\" font-family=\"Times,serif\" font-size=\"14.00\">yes, missing</text>\n",
       "</g>\n",
       "<!-- 4 -->\n",
       "<g id=\"node5\" class=\"node\">\n",
       "<title>4</title>\n",
       "<ellipse fill=\"none\" stroke=\"black\" cx=\"1167.99\" cy=\"-192\" rx=\"93.68\" ry=\"18\"/>\n",
       "<text text-anchor=\"middle\" x=\"1167.99\" y=\"-188.3\" font-family=\"Times,serif\" font-size=\"14.00\">YearBuilt&lt;1978.5</text>\n",
       "</g>\n",
       "<!-- 1&#45;&gt;4 -->\n",
       "<g id=\"edge4\" class=\"edge\">\n",
       "<title>1&#45;&gt;4</title>\n",
       "<path fill=\"none\" stroke=\"#ff0000\" d=\"M1167.99,-260.8C1167.99,-249.16 1167.99,-233.55 1167.99,-220.24\"/>\n",
       "<polygon fill=\"#ff0000\" stroke=\"#ff0000\" points=\"1171.49,-220.18 1167.99,-210.18 1164.49,-220.18 1171.49,-220.18\"/>\n",
       "<text text-anchor=\"middle\" x=\"1176.99\" y=\"-231.8\" font-family=\"Times,serif\" font-size=\"14.00\">no</text>\n",
       "</g>\n",
       "<!-- 5 -->\n",
       "<g id=\"node18\" class=\"node\">\n",
       "<title>5</title>\n",
       "<ellipse fill=\"none\" stroke=\"black\" cx=\"1827.99\" cy=\"-192\" rx=\"90.98\" ry=\"18\"/>\n",
       "<text text-anchor=\"middle\" x=\"1827.99\" y=\"-188.3\" font-family=\"Times,serif\" font-size=\"14.00\">OverallCond&lt;6.5</text>\n",
       "</g>\n",
       "<!-- 2&#45;&gt;5 -->\n",
       "<g id=\"edge17\" class=\"edge\">\n",
       "<title>2&#45;&gt;5</title>\n",
       "<path fill=\"none\" stroke=\"#0000ff\" d=\"M1827.99,-260.8C1827.99,-249.16 1827.99,-233.55 1827.99,-220.24\"/>\n",
       "<polygon fill=\"#0000ff\" stroke=\"#0000ff\" points=\"1831.49,-220.18 1827.99,-210.18 1824.49,-220.18 1831.49,-220.18\"/>\n",
       "<text text-anchor=\"middle\" x=\"1872.49\" y=\"-231.8\" font-family=\"Times,serif\" font-size=\"14.00\">yes, missing</text>\n",
       "</g>\n",
       "<!-- 6 -->\n",
       "<g id=\"node19\" class=\"node\">\n",
       "<title>6</title>\n",
       "<ellipse fill=\"none\" stroke=\"black\" cx=\"2189.99\" cy=\"-192\" rx=\"77.19\" ry=\"18\"/>\n",
       "<text text-anchor=\"middle\" x=\"2189.99\" y=\"-188.3\" font-family=\"Times,serif\" font-size=\"14.00\">totalSQ&lt;3602</text>\n",
       "</g>\n",
       "<!-- 2&#45;&gt;6 -->\n",
       "<g id=\"edge18\" class=\"edge\">\n",
       "<title>2&#45;&gt;6</title>\n",
       "<path fill=\"none\" stroke=\"#ff0000\" d=\"M1883.76,-264.91C1949.73,-249.41 2059.24,-223.7 2127.87,-207.59\"/>\n",
       "<polygon fill=\"#ff0000\" stroke=\"#ff0000\" points=\"2128.75,-210.97 2137.69,-205.28 2127.15,-204.16 2128.75,-210.97\"/>\n",
       "<text text-anchor=\"middle\" x=\"2039.99\" y=\"-231.8\" font-family=\"Times,serif\" font-size=\"14.00\">no</text>\n",
       "</g>\n",
       "<!-- 7 -->\n",
       "<g id=\"node6\" class=\"node\">\n",
       "<title>7</title>\n",
       "<ellipse fill=\"none\" stroke=\"black\" cx=\"284.99\" cy=\"-105\" rx=\"88.28\" ry=\"18\"/>\n",
       "<text text-anchor=\"middle\" x=\"284.99\" y=\"-101.3\" font-family=\"Times,serif\" font-size=\"14.00\">OverallQual&lt;4.5</text>\n",
       "</g>\n",
       "<!-- 3&#45;&gt;7 -->\n",
       "<g id=\"edge5\" class=\"edge\">\n",
       "<title>3&#45;&gt;7</title>\n",
       "<path fill=\"none\" stroke=\"#0000ff\" d=\"M559.78,-178.09C502.77,-163.13 408.75,-138.47 346.84,-122.23\"/>\n",
       "<polygon fill=\"#0000ff\" stroke=\"#0000ff\" points=\"347.37,-118.75 336.81,-119.59 345.6,-125.52 347.37,-118.75\"/>\n",
       "<text text-anchor=\"middle\" x=\"511.49\" y=\"-144.8\" font-family=\"Times,serif\" font-size=\"14.00\">yes, missing</text>\n",
       "</g>\n",
       "<!-- 8 -->\n",
       "<g id=\"node7\" class=\"node\">\n",
       "<title>8</title>\n",
       "<ellipse fill=\"none\" stroke=\"black\" cx=\"608.99\" cy=\"-105\" rx=\"121.58\" ry=\"18\"/>\n",
       "<text text-anchor=\"middle\" x=\"608.99\" y=\"-101.3\" font-family=\"Times,serif\" font-size=\"14.00\">YearRemodAdd&lt;1967.5</text>\n",
       "</g>\n",
       "<!-- 3&#45;&gt;8 -->\n",
       "<g id=\"edge6\" class=\"edge\">\n",
       "<title>3&#45;&gt;8</title>\n",
       "<path fill=\"none\" stroke=\"#ff0000\" d=\"M608.99,-173.8C608.99,-162.16 608.99,-146.55 608.99,-133.24\"/>\n",
       "<polygon fill=\"#ff0000\" stroke=\"#ff0000\" points=\"612.49,-133.18 608.99,-123.18 605.49,-133.18 612.49,-133.18\"/>\n",
       "<text text-anchor=\"middle\" x=\"617.99\" y=\"-144.8\" font-family=\"Times,serif\" font-size=\"14.00\">no</text>\n",
       "</g>\n",
       "<!-- 9 -->\n",
       "<g id=\"node12\" class=\"node\">\n",
       "<title>9</title>\n",
       "<ellipse fill=\"none\" stroke=\"black\" cx=\"1078.99\" cy=\"-105\" rx=\"84.49\" ry=\"18\"/>\n",
       "<text text-anchor=\"middle\" x=\"1078.99\" y=\"-101.3\" font-family=\"Times,serif\" font-size=\"14.00\">LotArea&lt;11353</text>\n",
       "</g>\n",
       "<!-- 4&#45;&gt;9 -->\n",
       "<g id=\"edge11\" class=\"edge\">\n",
       "<title>4&#45;&gt;9</title>\n",
       "<path fill=\"none\" stroke=\"#0000ff\" d=\"M1145.46,-174.24C1138.38,-168.68 1130.67,-162.29 1123.99,-156 1115.61,-148.12 1107.02,-138.9 1099.62,-130.53\"/>\n",
       "<polygon fill=\"#0000ff\" stroke=\"#0000ff\" points=\"1102.13,-128.1 1092.93,-122.85 1096.86,-132.69 1102.13,-128.1\"/>\n",
       "<text text-anchor=\"middle\" x=\"1168.49\" y=\"-144.8\" font-family=\"Times,serif\" font-size=\"14.00\">yes, missing</text>\n",
       "</g>\n",
       "<!-- 10 -->\n",
       "<g id=\"node13\" class=\"node\">\n",
       "<title>10</title>\n",
       "<ellipse fill=\"none\" stroke=\"black\" cx=\"1278.99\" cy=\"-105\" rx=\"77.19\" ry=\"18\"/>\n",
       "<text text-anchor=\"middle\" x=\"1278.99\" y=\"-101.3\" font-family=\"Times,serif\" font-size=\"14.00\">totalSQ&lt;2450</text>\n",
       "</g>\n",
       "<!-- 4&#45;&gt;10 -->\n",
       "<g id=\"edge12\" class=\"edge\">\n",
       "<title>4&#45;&gt;10</title>\n",
       "<path fill=\"none\" stroke=\"#ff0000\" d=\"M1189.66,-174.41C1206.69,-161.36 1230.61,-143.05 1249.41,-128.65\"/>\n",
       "<polygon fill=\"#ff0000\" stroke=\"#ff0000\" points=\"1251.57,-131.41 1257.38,-122.55 1247.31,-125.85 1251.57,-131.41\"/>\n",
       "<text text-anchor=\"middle\" x=\"1239.99\" y=\"-144.8\" font-family=\"Times,serif\" font-size=\"14.00\">no</text>\n",
       "</g>\n",
       "<!-- 15 -->\n",
       "<g id=\"node8\" class=\"node\">\n",
       "<title>15</title>\n",
       "<ellipse fill=\"none\" stroke=\"black\" cx=\"90.99\" cy=\"-18\" rx=\"90.98\" ry=\"18\"/>\n",
       "<text text-anchor=\"middle\" x=\"90.99\" y=\"-14.3\" font-family=\"Times,serif\" font-size=\"14.00\">leaf=8087.38135</text>\n",
       "</g>\n",
       "<!-- 7&#45;&gt;15 -->\n",
       "<g id=\"edge7\" class=\"edge\">\n",
       "<title>7&#45;&gt;15</title>\n",
       "<path fill=\"none\" stroke=\"#0000ff\" d=\"M242.51,-89.02C226.53,-83.13 208.29,-76.08 191.99,-69 171.42,-60.06 149.02,-49.1 130.55,-39.73\"/>\n",
       "<polygon fill=\"#0000ff\" stroke=\"#0000ff\" points=\"132.06,-36.56 121.56,-35.13 128.87,-42.8 132.06,-36.56\"/>\n",
       "<text text-anchor=\"middle\" x=\"236.49\" y=\"-57.8\" font-family=\"Times,serif\" font-size=\"14.00\">yes, missing</text>\n",
       "</g>\n",
       "<!-- 16 -->\n",
       "<g id=\"node9\" class=\"node\">\n",
       "<title>16</title>\n",
       "<ellipse fill=\"none\" stroke=\"black\" cx=\"284.99\" cy=\"-18\" rx=\"85.29\" ry=\"18\"/>\n",
       "<text text-anchor=\"middle\" x=\"284.99\" y=\"-14.3\" font-family=\"Times,serif\" font-size=\"14.00\">leaf=10363.541</text>\n",
       "</g>\n",
       "<!-- 7&#45;&gt;16 -->\n",
       "<g id=\"edge8\" class=\"edge\">\n",
       "<title>7&#45;&gt;16</title>\n",
       "<path fill=\"none\" stroke=\"#ff0000\" d=\"M284.99,-86.8C284.99,-75.16 284.99,-59.55 284.99,-46.24\"/>\n",
       "<polygon fill=\"#ff0000\" stroke=\"#ff0000\" points=\"288.49,-46.18 284.99,-36.18 281.49,-46.18 288.49,-46.18\"/>\n",
       "<text text-anchor=\"middle\" x=\"293.99\" y=\"-57.8\" font-family=\"Times,serif\" font-size=\"14.00\">no</text>\n",
       "</g>\n",
       "<!-- 17 -->\n",
       "<g id=\"node10\" class=\"node\">\n",
       "<title>17</title>\n",
       "<ellipse fill=\"none\" stroke=\"black\" cx=\"478.99\" cy=\"-18\" rx=\"90.98\" ry=\"18\"/>\n",
       "<text text-anchor=\"middle\" x=\"478.99\" y=\"-14.3\" font-family=\"Times,serif\" font-size=\"14.00\">leaf=11588.9238</text>\n",
       "</g>\n",
       "<!-- 8&#45;&gt;17 -->\n",
       "<g id=\"edge9\" class=\"edge\">\n",
       "<title>8&#45;&gt;17</title>\n",
       "<path fill=\"none\" stroke=\"#0000ff\" d=\"M577.97,-87.45C567.93,-81.84 556.85,-75.38 546.99,-69 534.02,-60.61 520.2,-50.66 508.43,-41.84\"/>\n",
       "<polygon fill=\"#0000ff\" stroke=\"#0000ff\" points=\"510.35,-38.91 500.27,-35.67 506.13,-44.49 510.35,-38.91\"/>\n",
       "<text text-anchor=\"middle\" x=\"591.49\" y=\"-57.8\" font-family=\"Times,serif\" font-size=\"14.00\">yes, missing</text>\n",
       "</g>\n",
       "<!-- 18 -->\n",
       "<g id=\"node11\" class=\"node\">\n",
       "<title>18</title>\n",
       "<ellipse fill=\"none\" stroke=\"black\" cx=\"678.99\" cy=\"-18\" rx=\"90.98\" ry=\"18\"/>\n",
       "<text text-anchor=\"middle\" x=\"678.99\" y=\"-14.3\" font-family=\"Times,serif\" font-size=\"14.00\">leaf=14205.1328</text>\n",
       "</g>\n",
       "<!-- 8&#45;&gt;18 -->\n",
       "<g id=\"edge10\" class=\"edge\">\n",
       "<title>8&#45;&gt;18</title>\n",
       "<path fill=\"none\" stroke=\"#ff0000\" d=\"M623.16,-86.8C633.38,-74.39 647.32,-57.46 658.72,-43.62\"/>\n",
       "<polygon fill=\"#ff0000\" stroke=\"#ff0000\" points=\"661.43,-45.83 665.09,-35.89 656.03,-41.38 661.43,-45.83\"/>\n",
       "<text text-anchor=\"middle\" x=\"657.99\" y=\"-57.8\" font-family=\"Times,serif\" font-size=\"14.00\">no</text>\n",
       "</g>\n",
       "<!-- 19 -->\n",
       "<g id=\"node14\" class=\"node\">\n",
       "<title>19</title>\n",
       "<ellipse fill=\"none\" stroke=\"black\" cx=\"878.99\" cy=\"-18\" rx=\"90.98\" ry=\"18\"/>\n",
       "<text text-anchor=\"middle\" x=\"878.99\" y=\"-14.3\" font-family=\"Times,serif\" font-size=\"14.00\">leaf=14999.6514</text>\n",
       "</g>\n",
       "<!-- 9&#45;&gt;19 -->\n",
       "<g id=\"edge13\" class=\"edge\">\n",
       "<title>9&#45;&gt;19</title>\n",
       "<path fill=\"none\" stroke=\"#0000ff\" d=\"M1037.52,-89.17C1021.33,-83.18 1002.69,-76.03 985.99,-69 964.23,-59.84 940.4,-48.8 920.76,-39.43\"/>\n",
       "<polygon fill=\"#0000ff\" stroke=\"#0000ff\" points=\"922.01,-36.15 911.48,-34.98 918.98,-42.46 922.01,-36.15\"/>\n",
       "<text text-anchor=\"middle\" x=\"1030.49\" y=\"-57.8\" font-family=\"Times,serif\" font-size=\"14.00\">yes, missing</text>\n",
       "</g>\n",
       "<!-- 20 -->\n",
       "<g id=\"node15\" class=\"node\">\n",
       "<title>20</title>\n",
       "<ellipse fill=\"none\" stroke=\"black\" cx=\"1078.99\" cy=\"-18\" rx=\"90.98\" ry=\"18\"/>\n",
       "<text text-anchor=\"middle\" x=\"1078.99\" y=\"-14.3\" font-family=\"Times,serif\" font-size=\"14.00\">leaf=18123.4961</text>\n",
       "</g>\n",
       "<!-- 9&#45;&gt;20 -->\n",
       "<g id=\"edge14\" class=\"edge\">\n",
       "<title>9&#45;&gt;20</title>\n",
       "<path fill=\"none\" stroke=\"#ff0000\" d=\"M1078.99,-86.8C1078.99,-75.16 1078.99,-59.55 1078.99,-46.24\"/>\n",
       "<polygon fill=\"#ff0000\" stroke=\"#ff0000\" points=\"1082.49,-46.18 1078.99,-36.18 1075.49,-46.18 1082.49,-46.18\"/>\n",
       "<text text-anchor=\"middle\" x=\"1087.99\" y=\"-57.8\" font-family=\"Times,serif\" font-size=\"14.00\">no</text>\n",
       "</g>\n",
       "<!-- 21 -->\n",
       "<g id=\"node16\" class=\"node\">\n",
       "<title>21</title>\n",
       "<ellipse fill=\"none\" stroke=\"black\" cx=\"1278.99\" cy=\"-18\" rx=\"90.98\" ry=\"18\"/>\n",
       "<text text-anchor=\"middle\" x=\"1278.99\" y=\"-14.3\" font-family=\"Times,serif\" font-size=\"14.00\">leaf=17062.0996</text>\n",
       "</g>\n",
       "<!-- 10&#45;&gt;21 -->\n",
       "<g id=\"edge15\" class=\"edge\">\n",
       "<title>10&#45;&gt;21</title>\n",
       "<path fill=\"none\" stroke=\"#0000ff\" d=\"M1278.99,-86.8C1278.99,-75.16 1278.99,-59.55 1278.99,-46.24\"/>\n",
       "<polygon fill=\"#0000ff\" stroke=\"#0000ff\" points=\"1282.49,-46.18 1278.99,-36.18 1275.49,-46.18 1282.49,-46.18\"/>\n",
       "<text text-anchor=\"middle\" x=\"1323.49\" y=\"-57.8\" font-family=\"Times,serif\" font-size=\"14.00\">yes, missing</text>\n",
       "</g>\n",
       "<!-- 22 -->\n",
       "<g id=\"node17\" class=\"node\">\n",
       "<title>22</title>\n",
       "<ellipse fill=\"none\" stroke=\"black\" cx=\"1472.99\" cy=\"-18\" rx=\"85.29\" ry=\"18\"/>\n",
       "<text text-anchor=\"middle\" x=\"1472.99\" y=\"-14.3\" font-family=\"Times,serif\" font-size=\"14.00\">leaf=20179.123</text>\n",
       "</g>\n",
       "<!-- 10&#45;&gt;22 -->\n",
       "<g id=\"edge16\" class=\"edge\">\n",
       "<title>10&#45;&gt;22</title>\n",
       "<path fill=\"none\" stroke=\"#ff0000\" d=\"M1320.09,-89.54C1336.39,-83.54 1355.22,-76.29 1371.99,-69 1392.72,-60 1415.3,-48.94 1433.84,-39.52\"/>\n",
       "<polygon fill=\"#ff0000\" stroke=\"#ff0000\" points=\"1435.56,-42.57 1442.87,-34.9 1432.37,-36.34 1435.56,-42.57\"/>\n",
       "<text text-anchor=\"middle\" x=\"1411.99\" y=\"-57.8\" font-family=\"Times,serif\" font-size=\"14.00\">no</text>\n",
       "</g>\n",
       "<!-- 11 -->\n",
       "<g id=\"node20\" class=\"node\">\n",
       "<title>11</title>\n",
       "<ellipse fill=\"none\" stroke=\"black\" cx=\"1699.99\" cy=\"-105\" rx=\"102.88\" ry=\"18\"/>\n",
       "<text text-anchor=\"middle\" x=\"1699.99\" y=\"-101.3\" font-family=\"Times,serif\" font-size=\"14.00\">BsmtFinSF1&lt;191.5</text>\n",
       "</g>\n",
       "<!-- 5&#45;&gt;11 -->\n",
       "<g id=\"edge19\" class=\"edge\">\n",
       "<title>5&#45;&gt;11</title>\n",
       "<path fill=\"none\" stroke=\"#0000ff\" d=\"M1801.33,-174.7C1791.99,-168.9 1781.47,-162.25 1771.99,-156 1758.67,-147.22 1744.19,-137.25 1731.73,-128.53\"/>\n",
       "<polygon fill=\"#0000ff\" stroke=\"#0000ff\" points=\"1733.66,-125.61 1723.47,-122.73 1729.64,-131.34 1733.66,-125.61\"/>\n",
       "<text text-anchor=\"middle\" x=\"1816.49\" y=\"-144.8\" font-family=\"Times,serif\" font-size=\"14.00\">yes, missing</text>\n",
       "</g>\n",
       "<!-- 12 -->\n",
       "<g id=\"node21\" class=\"node\">\n",
       "<title>12</title>\n",
       "<ellipse fill=\"none\" stroke=\"black\" cx=\"1911.99\" cy=\"-105\" rx=\"90.98\" ry=\"18\"/>\n",
       "<text text-anchor=\"middle\" x=\"1911.99\" y=\"-101.3\" font-family=\"Times,serif\" font-size=\"14.00\">leaf=23803.0312</text>\n",
       "</g>\n",
       "<!-- 5&#45;&gt;12 -->\n",
       "<g id=\"edge20\" class=\"edge\">\n",
       "<title>5&#45;&gt;12</title>\n",
       "<path fill=\"none\" stroke=\"#ff0000\" d=\"M1844.59,-174.21C1857.01,-161.63 1874.19,-144.25 1888.09,-130.18\"/>\n",
       "<polygon fill=\"#ff0000\" stroke=\"#ff0000\" points=\"1890.89,-132.33 1895.43,-122.76 1885.91,-127.41 1890.89,-132.33\"/>\n",
       "<text text-anchor=\"middle\" x=\"1884.99\" y=\"-144.8\" font-family=\"Times,serif\" font-size=\"14.00\">no</text>\n",
       "</g>\n",
       "<!-- 13 -->\n",
       "<g id=\"node24\" class=\"node\">\n",
       "<title>13</title>\n",
       "<ellipse fill=\"none\" stroke=\"black\" cx=\"2189.99\" cy=\"-105\" rx=\"102.88\" ry=\"18\"/>\n",
       "<text text-anchor=\"middle\" x=\"2189.99\" y=\"-101.3\" font-family=\"Times,serif\" font-size=\"14.00\">BsmtFinSF1&lt;860.5</text>\n",
       "</g>\n",
       "<!-- 6&#45;&gt;13 -->\n",
       "<g id=\"edge23\" class=\"edge\">\n",
       "<title>6&#45;&gt;13</title>\n",
       "<path fill=\"none\" stroke=\"#0000ff\" d=\"M2189.99,-173.8C2189.99,-162.16 2189.99,-146.55 2189.99,-133.24\"/>\n",
       "<polygon fill=\"#0000ff\" stroke=\"#0000ff\" points=\"2193.49,-133.18 2189.99,-123.18 2186.49,-133.18 2193.49,-133.18\"/>\n",
       "<text text-anchor=\"middle\" x=\"2234.49\" y=\"-144.8\" font-family=\"Times,serif\" font-size=\"14.00\">yes, missing</text>\n",
       "</g>\n",
       "<!-- 14 -->\n",
       "<g id=\"node25\" class=\"node\">\n",
       "<title>14</title>\n",
       "<ellipse fill=\"none\" stroke=\"black\" cx=\"2466.99\" cy=\"-105\" rx=\"88.28\" ry=\"18\"/>\n",
       "<text text-anchor=\"middle\" x=\"2466.99\" y=\"-101.3\" font-family=\"Times,serif\" font-size=\"14.00\">OverallQual&lt;7.5</text>\n",
       "</g>\n",
       "<!-- 6&#45;&gt;14 -->\n",
       "<g id=\"edge24\" class=\"edge\">\n",
       "<title>6&#45;&gt;14</title>\n",
       "<path fill=\"none\" stroke=\"#ff0000\" d=\"M2234.8,-177.25C2282.71,-162.55 2358.75,-139.21 2410.67,-123.28\"/>\n",
       "<polygon fill=\"#ff0000\" stroke=\"#ff0000\" points=\"2411.86,-126.58 2420.39,-120.3 2409.81,-119.89 2411.86,-126.58\"/>\n",
       "<text text-anchor=\"middle\" x=\"2354.99\" y=\"-144.8\" font-family=\"Times,serif\" font-size=\"14.00\">no</text>\n",
       "</g>\n",
       "<!-- 23 -->\n",
       "<g id=\"node22\" class=\"node\">\n",
       "<title>23</title>\n",
       "<ellipse fill=\"none\" stroke=\"black\" cx=\"1666.99\" cy=\"-18\" rx=\"90.98\" ry=\"18\"/>\n",
       "<text text-anchor=\"middle\" x=\"1666.99\" y=\"-14.3\" font-family=\"Times,serif\" font-size=\"14.00\">leaf=13844.5098</text>\n",
       "</g>\n",
       "<!-- 11&#45;&gt;23 -->\n",
       "<g id=\"edge21\" class=\"edge\">\n",
       "<title>11&#45;&gt;23</title>\n",
       "<path fill=\"none\" stroke=\"#0000ff\" d=\"M1693.31,-86.8C1688.75,-75.05 1682.61,-59.24 1677.41,-45.84\"/>\n",
       "<polygon fill=\"#0000ff\" stroke=\"#0000ff\" points=\"1680.54,-44.23 1673.66,-36.18 1674.02,-46.76 1680.54,-44.23\"/>\n",
       "<text text-anchor=\"middle\" x=\"1730.49\" y=\"-57.8\" font-family=\"Times,serif\" font-size=\"14.00\">yes, missing</text>\n",
       "</g>\n",
       "<!-- 24 -->\n",
       "<g id=\"node23\" class=\"node\">\n",
       "<title>24</title>\n",
       "<ellipse fill=\"none\" stroke=\"black\" cx=\"1866.99\" cy=\"-18\" rx=\"90.98\" ry=\"18\"/>\n",
       "<text text-anchor=\"middle\" x=\"1866.99\" y=\"-14.3\" font-family=\"Times,serif\" font-size=\"14.00\">leaf=18582.3691</text>\n",
       "</g>\n",
       "<!-- 11&#45;&gt;24 -->\n",
       "<g id=\"edge22\" class=\"edge\">\n",
       "<title>11&#45;&gt;24</title>\n",
       "<path fill=\"none\" stroke=\"#ff0000\" d=\"M1737.72,-88.2C1750.91,-82.43 1765.73,-75.68 1778.99,-69 1796.44,-60.21 1815.33,-49.62 1831.12,-40.46\"/>\n",
       "<polygon fill=\"#ff0000\" stroke=\"#ff0000\" points=\"1833.16,-43.32 1840.02,-35.25 1829.62,-37.28 1833.16,-43.32\"/>\n",
       "<text text-anchor=\"middle\" x=\"1815.99\" y=\"-57.8\" font-family=\"Times,serif\" font-size=\"14.00\">no</text>\n",
       "</g>\n",
       "<!-- 25 -->\n",
       "<g id=\"node26\" class=\"node\">\n",
       "<title>25</title>\n",
       "<ellipse fill=\"none\" stroke=\"black\" cx=\"2066.99\" cy=\"-18\" rx=\"90.98\" ry=\"18\"/>\n",
       "<text text-anchor=\"middle\" x=\"2066.99\" y=\"-14.3\" font-family=\"Times,serif\" font-size=\"14.00\">leaf=24638.0098</text>\n",
       "</g>\n",
       "<!-- 13&#45;&gt;25 -->\n",
       "<g id=\"edge25\" class=\"edge\">\n",
       "<title>13&#45;&gt;25</title>\n",
       "<path fill=\"none\" stroke=\"#0000ff\" d=\"M2160.72,-87.63C2151.09,-81.98 2140.43,-75.45 2130.99,-69 2118.84,-60.7 2105.95,-50.85 2094.96,-42.1\"/>\n",
       "<polygon fill=\"#0000ff\" stroke=\"#0000ff\" points=\"2096.94,-39.21 2086.96,-35.67 2092.56,-44.66 2096.94,-39.21\"/>\n",
       "<text text-anchor=\"middle\" x=\"2175.49\" y=\"-57.8\" font-family=\"Times,serif\" font-size=\"14.00\">yes, missing</text>\n",
       "</g>\n",
       "<!-- 26 -->\n",
       "<g id=\"node27\" class=\"node\">\n",
       "<title>26</title>\n",
       "<ellipse fill=\"none\" stroke=\"black\" cx=\"2266.99\" cy=\"-18\" rx=\"90.98\" ry=\"18\"/>\n",
       "<text text-anchor=\"middle\" x=\"2266.99\" y=\"-14.3\" font-family=\"Times,serif\" font-size=\"14.00\">leaf=29048.0918</text>\n",
       "</g>\n",
       "<!-- 13&#45;&gt;26 -->\n",
       "<g id=\"edge26\" class=\"edge\">\n",
       "<title>13&#45;&gt;26</title>\n",
       "<path fill=\"none\" stroke=\"#ff0000\" d=\"M2205.57,-86.8C2216.81,-74.39 2232.15,-57.46 2244.69,-43.62\"/>\n",
       "<polygon fill=\"#ff0000\" stroke=\"#ff0000\" points=\"2247.58,-45.65 2251.7,-35.89 2242.39,-40.95 2247.58,-45.65\"/>\n",
       "<text text-anchor=\"middle\" x=\"2242.99\" y=\"-57.8\" font-family=\"Times,serif\" font-size=\"14.00\">no</text>\n",
       "</g>\n",
       "<!-- 27 -->\n",
       "<g id=\"node28\" class=\"node\">\n",
       "<title>27</title>\n",
       "<ellipse fill=\"none\" stroke=\"black\" cx=\"2466.99\" cy=\"-18\" rx=\"90.98\" ry=\"18\"/>\n",
       "<text text-anchor=\"middle\" x=\"2466.99\" y=\"-14.3\" font-family=\"Times,serif\" font-size=\"14.00\">leaf=28068.1445</text>\n",
       "</g>\n",
       "<!-- 14&#45;&gt;27 -->\n",
       "<g id=\"edge27\" class=\"edge\">\n",
       "<title>14&#45;&gt;27</title>\n",
       "<path fill=\"none\" stroke=\"#0000ff\" d=\"M2466.99,-86.8C2466.99,-75.16 2466.99,-59.55 2466.99,-46.24\"/>\n",
       "<polygon fill=\"#0000ff\" stroke=\"#0000ff\" points=\"2470.49,-46.18 2466.99,-36.18 2463.49,-46.18 2470.49,-46.18\"/>\n",
       "<text text-anchor=\"middle\" x=\"2511.49\" y=\"-57.8\" font-family=\"Times,serif\" font-size=\"14.00\">yes, missing</text>\n",
       "</g>\n",
       "<!-- 28 -->\n",
       "<g id=\"node29\" class=\"node\">\n",
       "<title>28</title>\n",
       "<ellipse fill=\"none\" stroke=\"black\" cx=\"2666.99\" cy=\"-18\" rx=\"90.98\" ry=\"18\"/>\n",
       "<text text-anchor=\"middle\" x=\"2666.99\" y=\"-14.3\" font-family=\"Times,serif\" font-size=\"14.00\">leaf=35088.7031</text>\n",
       "</g>\n",
       "<!-- 14&#45;&gt;28 -->\n",
       "<g id=\"edge28\" class=\"edge\">\n",
       "<title>14&#45;&gt;28</title>\n",
       "<path fill=\"none\" stroke=\"#ff0000\" d=\"M2508.93,-89C2525.01,-83.04 2543.46,-75.96 2559.99,-69 2581.75,-59.84 2605.59,-48.8 2625.23,-39.43\"/>\n",
       "<polygon fill=\"#ff0000\" stroke=\"#ff0000\" points=\"2627,-42.46 2634.5,-34.98 2623.97,-36.15 2627,-42.46\"/>\n",
       "<text text-anchor=\"middle\" x=\"2600.99\" y=\"-57.8\" font-family=\"Times,serif\" font-size=\"14.00\">no</text>\n",
       "</g>\n",
       "</g>\n",
       "</svg>\n"
      ],
      "text/plain": [
       "<graphviz.files.Source at 0x7f8626090390>"
      ]
     },
     "execution_count": 25,
     "metadata": {},
     "output_type": "execute_result"
    }
   ],
   "source": [
    "import graphviz\n",
    "xgb.to_graphviz(regressor)"
   ]
  },
  {
   "cell_type": "markdown",
   "id": "7bdef77e",
   "metadata": {
    "papermill": {
     "duration": 0.018175,
     "end_time": "2022-09-23T00:48:51.657921",
     "exception": false,
     "start_time": "2022-09-23T00:48:51.639746",
     "status": "completed"
    },
    "tags": []
   },
   "source": [
    "### Feature Importance"
   ]
  },
  {
   "cell_type": "code",
   "execution_count": 26,
   "id": "625924ea",
   "metadata": {
    "execution": {
     "iopub.execute_input": "2022-09-23T00:48:51.696497Z",
     "iopub.status.busy": "2022-09-23T00:48:51.695707Z",
     "iopub.status.idle": "2022-09-23T00:48:52.177702Z",
     "shell.execute_reply": "2022-09-23T00:48:52.176875Z"
    },
    "papermill": {
     "duration": 0.504147,
     "end_time": "2022-09-23T00:48:52.180106",
     "exception": false,
     "start_time": "2022-09-23T00:48:51.675959",
     "status": "completed"
    },
    "tags": []
   },
   "outputs": [
    {
     "data": {
      "image/png": "[encoded data removed]",
      "text/plain": [
       "<Figure size 432x288 with 1 Axes>"
      ]
     },
     "metadata": {
      "needs_background": "light"
     },
     "output_type": "display_data"
    },
    {
     "data": {
      "text/plain": [
       "<Figure size 1440x1152 with 0 Axes>"
      ]
     },
     "metadata": {},
     "output_type": "display_data"
    }
   ],
   "source": [
    "xgb.plot_importance(regressor)\n",
    "plt.figure(figsize = (20, 16))\n",
    "plt.show()"
   ]
  },
  {
   "cell_type": "markdown",
   "id": "e0f545a4",
   "metadata": {
    "execution": {
     "iopub.execute_input": "2022-09-19T21:09:40.310967Z",
     "iopub.status.busy": "2022-09-19T21:09:40.310240Z",
     "iopub.status.idle": "2022-09-19T21:09:40.328174Z",
     "shell.execute_reply": "2022-09-19T21:09:40.326914Z",
     "shell.execute_reply.started": "2022-09-19T21:09:40.310928Z"
    },
    "papermill": {
     "duration": 0.018838,
     "end_time": "2022-09-23T00:48:52.218003",
     "exception": false,
     "start_time": "2022-09-23T00:48:52.199165",
     "status": "completed"
    },
    "tags": []
   },
   "source": [
    "# Test Dataset\n",
    "Make final predictions on unknown house price value using features from Train data"
   ]
  },
  {
   "cell_type": "code",
   "execution_count": 27,
   "id": "b1e3a48f",
   "metadata": {
    "execution": {
     "iopub.execute_input": "2022-09-23T00:48:52.258932Z",
     "iopub.status.busy": "2022-09-23T00:48:52.257639Z",
     "iopub.status.idle": "2022-09-23T00:48:52.378057Z",
     "shell.execute_reply": "2022-09-23T00:48:52.376641Z"
    },
    "papermill": {
     "duration": 0.143866,
     "end_time": "2022-09-23T00:48:52.381037",
     "exception": false,
     "start_time": "2022-09-23T00:48:52.237171",
     "status": "completed"
    },
    "tags": []
   },
   "outputs": [
    {
     "name": "stdout",
     "output_type": "stream",
     "text": [
      "(1459, 80)\n"
     ]
    },
    {
     "data": {
      "text/html": [
       "<div>\n",
       "<style scoped>\n",
       "    .dataframe tbody tr th:only-of-type {\n",
       "        vertical-align: middle;\n",
       "    }\n",
       "\n",
       "    .dataframe tbody tr th {\n",
       "        vertical-align: top;\n",
       "    }\n",
       "\n",
       "    .dataframe thead th {\n",
       "        text-align: right;\n",
       "    }\n",
       "</style>\n",
       "<table border=\"1\" class=\"dataframe\">\n",
       "  <thead>\n",
       "    <tr style=\"text-align: right;\">\n",
       "      <th></th>\n",
       "      <th>Id</th>\n",
       "      <th>MSSubClass</th>\n",
       "      <th>LotFrontage</th>\n",
       "      <th>LotArea</th>\n",
       "      <th>Condition2</th>\n",
       "      <th>OverallQual</th>\n",
       "      <th>OverallCond</th>\n",
       "      <th>YearBuilt</th>\n",
       "      <th>YearRemodAdd</th>\n",
       "      <th>MasVnrArea</th>\n",
       "      <th>...</th>\n",
       "      <th>OpenPorchSF</th>\n",
       "      <th>EnclosedPorch</th>\n",
       "      <th>3SsnPorch</th>\n",
       "      <th>ScreenPorch</th>\n",
       "      <th>PoolArea</th>\n",
       "      <th>MiscVal</th>\n",
       "      <th>MoSold</th>\n",
       "      <th>YrSold</th>\n",
       "      <th>SaleCondition</th>\n",
       "      <th>totalSQ</th>\n",
       "    </tr>\n",
       "  </thead>\n",
       "  <tbody>\n",
       "    <tr>\n",
       "      <th>0</th>\n",
       "      <td>1461</td>\n",
       "      <td>20</td>\n",
       "      <td>80.0</td>\n",
       "      <td>11622</td>\n",
       "      <td>1</td>\n",
       "      <td>5</td>\n",
       "      <td>6</td>\n",
       "      <td>1961</td>\n",
       "      <td>1961</td>\n",
       "      <td>0.0</td>\n",
       "      <td>...</td>\n",
       "      <td>0</td>\n",
       "      <td>0</td>\n",
       "      <td>0</td>\n",
       "      <td>120</td>\n",
       "      <td>0</td>\n",
       "      <td>0</td>\n",
       "      <td>6</td>\n",
       "      <td>2010</td>\n",
       "      <td>1</td>\n",
       "      <td>1778.0</td>\n",
       "    </tr>\n",
       "    <tr>\n",
       "      <th>1</th>\n",
       "      <td>1462</td>\n",
       "      <td>20</td>\n",
       "      <td>81.0</td>\n",
       "      <td>14267</td>\n",
       "      <td>1</td>\n",
       "      <td>6</td>\n",
       "      <td>6</td>\n",
       "      <td>1958</td>\n",
       "      <td>1958</td>\n",
       "      <td>108.0</td>\n",
       "      <td>...</td>\n",
       "      <td>36</td>\n",
       "      <td>0</td>\n",
       "      <td>0</td>\n",
       "      <td>0</td>\n",
       "      <td>0</td>\n",
       "      <td>12500</td>\n",
       "      <td>6</td>\n",
       "      <td>2010</td>\n",
       "      <td>1</td>\n",
       "      <td>2658.0</td>\n",
       "    </tr>\n",
       "    <tr>\n",
       "      <th>2</th>\n",
       "      <td>1463</td>\n",
       "      <td>60</td>\n",
       "      <td>74.0</td>\n",
       "      <td>13830</td>\n",
       "      <td>1</td>\n",
       "      <td>5</td>\n",
       "      <td>5</td>\n",
       "      <td>1997</td>\n",
       "      <td>1998</td>\n",
       "      <td>0.0</td>\n",
       "      <td>...</td>\n",
       "      <td>34</td>\n",
       "      <td>0</td>\n",
       "      <td>0</td>\n",
       "      <td>0</td>\n",
       "      <td>0</td>\n",
       "      <td>0</td>\n",
       "      <td>3</td>\n",
       "      <td>2010</td>\n",
       "      <td>1</td>\n",
       "      <td>2557.0</td>\n",
       "    </tr>\n",
       "    <tr>\n",
       "      <th>3</th>\n",
       "      <td>1464</td>\n",
       "      <td>60</td>\n",
       "      <td>78.0</td>\n",
       "      <td>9978</td>\n",
       "      <td>1</td>\n",
       "      <td>6</td>\n",
       "      <td>6</td>\n",
       "      <td>1998</td>\n",
       "      <td>1998</td>\n",
       "      <td>20.0</td>\n",
       "      <td>...</td>\n",
       "      <td>36</td>\n",
       "      <td>0</td>\n",
       "      <td>0</td>\n",
       "      <td>0</td>\n",
       "      <td>0</td>\n",
       "      <td>0</td>\n",
       "      <td>6</td>\n",
       "      <td>2010</td>\n",
       "      <td>1</td>\n",
       "      <td>2530.0</td>\n",
       "    </tr>\n",
       "    <tr>\n",
       "      <th>4</th>\n",
       "      <td>1465</td>\n",
       "      <td>120</td>\n",
       "      <td>43.0</td>\n",
       "      <td>5005</td>\n",
       "      <td>1</td>\n",
       "      <td>8</td>\n",
       "      <td>5</td>\n",
       "      <td>1992</td>\n",
       "      <td>1992</td>\n",
       "      <td>0.0</td>\n",
       "      <td>...</td>\n",
       "      <td>82</td>\n",
       "      <td>0</td>\n",
       "      <td>0</td>\n",
       "      <td>144</td>\n",
       "      <td>0</td>\n",
       "      <td>0</td>\n",
       "      <td>1</td>\n",
       "      <td>2010</td>\n",
       "      <td>1</td>\n",
       "      <td>2560.0</td>\n",
       "    </tr>\n",
       "  </tbody>\n",
       "</table>\n",
       "<p>5 rows × 40 columns</p>\n",
       "</div>"
      ],
      "text/plain": [
       "     Id  MSSubClass  LotFrontage  LotArea  Condition2  OverallQual  \\\n",
       "0  1461          20         80.0    11622           1            5   \n",
       "1  1462          20         81.0    14267           1            6   \n",
       "2  1463          60         74.0    13830           1            5   \n",
       "3  1464          60         78.0     9978           1            6   \n",
       "4  1465         120         43.0     5005           1            8   \n",
       "\n",
       "   OverallCond  YearBuilt  YearRemodAdd  MasVnrArea  ...  OpenPorchSF  \\\n",
       "0            6       1961          1961         0.0  ...            0   \n",
       "1            6       1958          1958       108.0  ...           36   \n",
       "2            5       1997          1998         0.0  ...           34   \n",
       "3            6       1998          1998        20.0  ...           36   \n",
       "4            5       1992          1992         0.0  ...           82   \n",
       "\n",
       "   EnclosedPorch  3SsnPorch  ScreenPorch  PoolArea  MiscVal  MoSold  YrSold  \\\n",
       "0              0          0          120         0        0       6    2010   \n",
       "1              0          0            0         0    12500       6    2010   \n",
       "2              0          0            0         0        0       3    2010   \n",
       "3              0          0            0         0        0       6    2010   \n",
       "4              0          0          144         0        0       1    2010   \n",
       "\n",
       "   SaleCondition  totalSQ  \n",
       "0              1   1778.0  \n",
       "1              1   2658.0  \n",
       "2              1   2557.0  \n",
       "3              1   2530.0  \n",
       "4              1   2560.0  \n",
       "\n",
       "[5 rows x 40 columns]"
      ]
     },
     "execution_count": 27,
     "metadata": {},
     "output_type": "execute_result"
    }
   ],
   "source": [
    "test='/kaggle/input/house-prices-advanced-regression-techniques/test.csv'\n",
    "testDF=pd.read_csv(test)\n",
    "print(testDF.shape)\n",
    "\n",
    "#Missing Values\n",
    "testDF=testDF.drop_duplicates()\n",
    "testDF=testDF.fillna(testDF.mean())\n",
    "\n",
    "# Feature Engineer\n",
    "testDF['totalSQ']=testDF['1stFlrSF']+testDF['2ndFlrSF']+testDF['TotalBsmtSF'].drop(columns=['1stFlrSF', '2ndFlrSF', \n",
    "                'TotalBsmtSF'])\n",
    "testDF['SaleCondition']=testDF['SaleCondition'].apply(lambda x:1 if x=='Normal' else 0)\n",
    "testDF['Condition2']=testDF['Condition2'].apply(lambda x: 1 if x=='Norm' else 0)\n",
    "testDF = testDF.select_dtypes(include=['int16', 'int32', 'int64', 'float16', 'float32', 'float64'])\n",
    "testDF.head()"
   ]
  },
  {
   "cell_type": "code",
   "execution_count": 28,
   "id": "fc1deee8",
   "metadata": {
    "execution": {
     "iopub.execute_input": "2022-09-23T00:48:52.424430Z",
     "iopub.status.busy": "2022-09-23T00:48:52.423918Z",
     "iopub.status.idle": "2022-09-23T00:48:52.431373Z",
     "shell.execute_reply": "2022-09-23T00:48:52.430034Z"
    },
    "papermill": {
     "duration": 0.032272,
     "end_time": "2022-09-23T00:48:52.434058",
     "exception": false,
     "start_time": "2022-09-23T00:48:52.401786",
     "status": "completed"
    },
    "tags": []
   },
   "outputs": [],
   "source": [
    "testIDs=testDF['Id']\n",
    "cols=X_test.columns\n",
    "testDF=testDF[cols]"
   ]
  },
  {
   "cell_type": "code",
   "execution_count": 29,
   "id": "a038ff54",
   "metadata": {
    "execution": {
     "iopub.execute_input": "2022-09-23T00:48:52.475681Z",
     "iopub.status.busy": "2022-09-23T00:48:52.475267Z",
     "iopub.status.idle": "2022-09-23T00:48:52.490786Z",
     "shell.execute_reply": "2022-09-23T00:48:52.489789Z"
    },
    "papermill": {
     "duration": 0.039984,
     "end_time": "2022-09-23T00:48:52.494083",
     "exception": false,
     "start_time": "2022-09-23T00:48:52.454099",
     "status": "completed"
    },
    "tags": []
   },
   "outputs": [],
   "source": [
    "#Final Prediction\n",
    "finalPred=regressor.predict(testDF).round(2)\n",
    "tupDF=list(zip(testIDs,finalPred))"
   ]
  },
  {
   "cell_type": "code",
   "execution_count": 30,
   "id": "0164ce3b",
   "metadata": {
    "execution": {
     "iopub.execute_input": "2022-09-23T00:48:52.536860Z",
     "iopub.status.busy": "2022-09-23T00:48:52.536437Z",
     "iopub.status.idle": "2022-09-23T00:48:52.550864Z",
     "shell.execute_reply": "2022-09-23T00:48:52.549696Z"
    },
    "papermill": {
     "duration": 0.037877,
     "end_time": "2022-09-23T00:48:52.553281",
     "exception": false,
     "start_time": "2022-09-23T00:48:52.515404",
     "status": "completed"
    },
    "tags": []
   },
   "outputs": [
    {
     "data": {
      "text/html": [
       "<div>\n",
       "<style scoped>\n",
       "    .dataframe tbody tr th:only-of-type {\n",
       "        vertical-align: middle;\n",
       "    }\n",
       "\n",
       "    .dataframe tbody tr th {\n",
       "        vertical-align: top;\n",
       "    }\n",
       "\n",
       "    .dataframe thead th {\n",
       "        text-align: right;\n",
       "    }\n",
       "</style>\n",
       "<table border=\"1\" class=\"dataframe\">\n",
       "  <thead>\n",
       "    <tr style=\"text-align: right;\">\n",
       "      <th></th>\n",
       "      <th>Id</th>\n",
       "      <th>SalePrice</th>\n",
       "    </tr>\n",
       "  </thead>\n",
       "  <tbody>\n",
       "    <tr>\n",
       "      <th>0</th>\n",
       "      <td>1461</td>\n",
       "      <td>128146.117188</td>\n",
       "    </tr>\n",
       "    <tr>\n",
       "      <th>1</th>\n",
       "      <td>1462</td>\n",
       "      <td>169044.281250</td>\n",
       "    </tr>\n",
       "    <tr>\n",
       "      <th>2</th>\n",
       "      <td>1463</td>\n",
       "      <td>180725.265625</td>\n",
       "    </tr>\n",
       "    <tr>\n",
       "      <th>3</th>\n",
       "      <td>1464</td>\n",
       "      <td>182763.937500</td>\n",
       "    </tr>\n",
       "    <tr>\n",
       "      <th>4</th>\n",
       "      <td>1465</td>\n",
       "      <td>175877.843750</td>\n",
       "    </tr>\n",
       "  </tbody>\n",
       "</table>\n",
       "</div>"
      ],
      "text/plain": [
       "     Id      SalePrice\n",
       "0  1461  128146.117188\n",
       "1  1462  169044.281250\n",
       "2  1463  180725.265625\n",
       "3  1464  182763.937500\n",
       "4  1465  175877.843750"
      ]
     },
     "execution_count": 30,
     "metadata": {},
     "output_type": "execute_result"
    }
   ],
   "source": [
    "output=pd.DataFrame(tupDF, columns=['Id','SalePrice']).sort_values(by='Id').reset_index(drop=True)\n",
    "output.head()"
   ]
  },
  {
   "cell_type": "code",
   "execution_count": 31,
   "id": "13e8181a",
   "metadata": {
    "execution": {
     "iopub.execute_input": "2022-09-23T00:48:52.594966Z",
     "iopub.status.busy": "2022-09-23T00:48:52.593939Z",
     "iopub.status.idle": "2022-09-23T00:48:52.607279Z",
     "shell.execute_reply": "2022-09-23T00:48:52.605441Z"
    },
    "papermill": {
     "duration": 0.037726,
     "end_time": "2022-09-23T00:48:52.610449",
     "exception": false,
     "start_time": "2022-09-23T00:48:52.572723",
     "status": "completed"
    },
    "tags": []
   },
   "outputs": [
    {
     "name": "stdout",
     "output_type": "stream",
     "text": [
      "(1459, 2)\n",
      "Output Created\n"
     ]
    }
   ],
   "source": [
    "print(output.shape)\n",
    "output.to_csv('submission.csv', index=False)\n",
    "print(\"Output Created\")"
   ]
  }
 ],
 "metadata": {
  "kernelspec": {
   "display_name": "Python 3",
   "language": "python",
   "name": "python3"
  },
  "language_info": {
   "codemirror_mode": {
    "name": "ipython",
    "version": 3
   },
   "file_extension": ".py",
   "mimetype": "text/x-python",
   "name": "python",
   "nbconvert_exporter": "python",
   "pygments_lexer": "ipython3",
   "version": "3.7.12"
  },
  "papermill": {
   "default_parameters": {},
   "duration": 47.376693,
   "end_time": "2022-09-23T00:48:53.554694",
   "environment_variables": {},
   "exception": null,
   "input_path": "__notebook__.ipynb",
   "output_path": "__notebook__.ipynb",
   "parameters": {},
   "start_time": "2022-09-23T00:48:06.178001",
   "version": "2.3.4"
  }
 },
 "nbformat": 4,
 "nbformat_minor": 5
}
