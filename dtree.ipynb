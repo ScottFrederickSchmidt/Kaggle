{
 "cells": [
  {
   "cell_type": "markdown",
   "id": "5c991943",
   "metadata": {
    "papermill": {
     "duration": 0.030478,
     "end_time": "2022-10-02T17:20:51.701271",
     "exception": false,
     "start_time": "2022-10-02T17:20:51.670793",
     "status": "completed"
    },
    "tags": []
   },
   "source": [
    "# Machine Learning Titanic \n",
    "Currently, my decision tree scores top 10%. I scored top 5% using random forest and xgBoost: \n",
    "* https://github.com/ScottySchmidt/Kaggle/blob/main/xgbTop5%25.ipynb\n",
    "* https://github.com/ScottySchmidt/Kaggle/blob/main/Titanic.ipynb\n",
    "\n",
    "Can decision tree also score top 5%? Decision tree will initially score almost a perfect AUC but that is because the data overfits. Regularizing the decision tree will be key for a high score. GridSearch will tune all the best possible parameters to get the best solution possible.  "
   ]
  },
  {
   "cell_type": "markdown",
   "id": "af16bdb3",
   "metadata": {
    "papermill": {
     "duration": 0.028611,
     "end_time": "2022-10-02T17:20:51.759211",
     "exception": false,
     "start_time": "2022-10-02T17:20:51.730600",
     "status": "completed"
    },
    "tags": []
   },
   "source": [
    "# Train Data\n",
    "Train.csv will contain the details of a subset of the passengers on board (891 to be exact) and whether they survive or not. The shape of the train data is (891, 12). "
   ]
  },
  {
   "cell_type": "code",
   "execution_count": 1,
   "id": "f359fb1d",
   "metadata": {
    "execution": {
     "iopub.execute_input": "2022-10-02T17:20:51.819942Z",
     "iopub.status.busy": "2022-10-02T17:20:51.818969Z",
     "iopub.status.idle": "2022-10-02T17:20:53.455131Z",
     "shell.execute_reply": "2022-10-02T17:20:53.454054Z"
    },
    "papermill": {
     "duration": 1.669138,
     "end_time": "2022-10-02T17:20:53.457379",
     "exception": false,
     "start_time": "2022-10-02T17:20:51.788241",
     "status": "completed"
    },
    "tags": []
   },
   "outputs": [
    {
     "name": "stdout",
     "output_type": "stream",
     "text": [
      "(891, 12)\n"
     ]
    },
    {
     "data": {
      "text/html": [
       "<div>\n",
       "<style scoped>\n",
       "    .dataframe tbody tr th:only-of-type {\n",
       "        vertical-align: middle;\n",
       "    }\n",
       "\n",
       "    .dataframe tbody tr th {\n",
       "        vertical-align: top;\n",
       "    }\n",
       "\n",
       "    .dataframe thead th {\n",
       "        text-align: right;\n",
       "    }\n",
       "</style>\n",
       "<table border=\"1\" class=\"dataframe\">\n",
       "  <thead>\n",
       "    <tr style=\"text-align: right;\">\n",
       "      <th></th>\n",
       "      <th>PassengerId</th>\n",
       "      <th>Survived</th>\n",
       "      <th>Pclass</th>\n",
       "      <th>Name</th>\n",
       "      <th>Sex</th>\n",
       "      <th>Age</th>\n",
       "      <th>SibSp</th>\n",
       "      <th>Parch</th>\n",
       "      <th>Ticket</th>\n",
       "      <th>Fare</th>\n",
       "      <th>Cabin</th>\n",
       "      <th>Embarked</th>\n",
       "    </tr>\n",
       "  </thead>\n",
       "  <tbody>\n",
       "    <tr>\n",
       "      <th>0</th>\n",
       "      <td>1</td>\n",
       "      <td>0</td>\n",
       "      <td>3</td>\n",
       "      <td>Braund, Mr. Owen Harris</td>\n",
       "      <td>male</td>\n",
       "      <td>22.0</td>\n",
       "      <td>1</td>\n",
       "      <td>0</td>\n",
       "      <td>A/5 21171</td>\n",
       "      <td>7.2500</td>\n",
       "      <td>NaN</td>\n",
       "      <td>S</td>\n",
       "    </tr>\n",
       "    <tr>\n",
       "      <th>1</th>\n",
       "      <td>2</td>\n",
       "      <td>1</td>\n",
       "      <td>1</td>\n",
       "      <td>Cumings, Mrs. John Bradley (Florence Briggs Th...</td>\n",
       "      <td>female</td>\n",
       "      <td>38.0</td>\n",
       "      <td>1</td>\n",
       "      <td>0</td>\n",
       "      <td>PC 17599</td>\n",
       "      <td>71.2833</td>\n",
       "      <td>C85</td>\n",
       "      <td>C</td>\n",
       "    </tr>\n",
       "    <tr>\n",
       "      <th>2</th>\n",
       "      <td>3</td>\n",
       "      <td>1</td>\n",
       "      <td>3</td>\n",
       "      <td>Heikkinen, Miss. Laina</td>\n",
       "      <td>female</td>\n",
       "      <td>26.0</td>\n",
       "      <td>0</td>\n",
       "      <td>0</td>\n",
       "      <td>STON/O2. 3101282</td>\n",
       "      <td>7.9250</td>\n",
       "      <td>NaN</td>\n",
       "      <td>S</td>\n",
       "    </tr>\n",
       "    <tr>\n",
       "      <th>3</th>\n",
       "      <td>4</td>\n",
       "      <td>1</td>\n",
       "      <td>1</td>\n",
       "      <td>Futrelle, Mrs. Jacques Heath (Lily May Peel)</td>\n",
       "      <td>female</td>\n",
       "      <td>35.0</td>\n",
       "      <td>1</td>\n",
       "      <td>0</td>\n",
       "      <td>113803</td>\n",
       "      <td>53.1000</td>\n",
       "      <td>C123</td>\n",
       "      <td>S</td>\n",
       "    </tr>\n",
       "    <tr>\n",
       "      <th>4</th>\n",
       "      <td>5</td>\n",
       "      <td>0</td>\n",
       "      <td>3</td>\n",
       "      <td>Allen, Mr. William Henry</td>\n",
       "      <td>male</td>\n",
       "      <td>35.0</td>\n",
       "      <td>0</td>\n",
       "      <td>0</td>\n",
       "      <td>373450</td>\n",
       "      <td>8.0500</td>\n",
       "      <td>NaN</td>\n",
       "      <td>S</td>\n",
       "    </tr>\n",
       "  </tbody>\n",
       "</table>\n",
       "</div>"
      ],
      "text/plain": [
       "   PassengerId  Survived  Pclass  \\\n",
       "0            1         0       3   \n",
       "1            2         1       1   \n",
       "2            3         1       3   \n",
       "3            4         1       1   \n",
       "4            5         0       3   \n",
       "\n",
       "                                                Name     Sex   Age  SibSp  \\\n",
       "0                            Braund, Mr. Owen Harris    male  22.0      1   \n",
       "1  Cumings, Mrs. John Bradley (Florence Briggs Th...  female  38.0      1   \n",
       "2                             Heikkinen, Miss. Laina  female  26.0      0   \n",
       "3       Futrelle, Mrs. Jacques Heath (Lily May Peel)  female  35.0      1   \n",
       "4                           Allen, Mr. William Henry    male  35.0      0   \n",
       "\n",
       "   Parch            Ticket     Fare Cabin Embarked  \n",
       "0      0         A/5 21171   7.2500   NaN        S  \n",
       "1      0          PC 17599  71.2833   C85        C  \n",
       "2      0  STON/O2. 3101282   7.9250   NaN        S  \n",
       "3      0            113803  53.1000  C123        S  \n",
       "4      0            373450   8.0500   NaN        S  "
      ]
     },
     "execution_count": 1,
     "metadata": {},
     "output_type": "execute_result"
    }
   ],
   "source": [
    "import numpy as np\n",
    "import pandas as pd\n",
    "import seaborn as sns\n",
    "import matplotlib.pyplot as plt\n",
    "from sklearn.model_selection import train_test_split, cross_validate\n",
    "from statistics import mean\n",
    "from sklearn.metrics import accuracy_score, classification_report, mean_absolute_error, mean_squared_error, r2_score\n",
    "from sklearn.datasets import make_classification\n",
    "from sklearn import ensemble\n",
    "import sklearn.metrics as metrics\n",
    "import time\n",
    "from math import sqrt\n",
    "\n",
    "train=r'/kaggle/input/titanic/train.csv'\n",
    "test=r'/kaggle/input/titanic/test.csv' \n",
    "\n",
    "df=pd.read_csv(train)\n",
    "test=pd.read_csv(test)\n",
    "\n",
    "print(df.shape)\n",
    "df.head()"
   ]
  },
  {
   "cell_type": "code",
   "execution_count": 2,
   "id": "06dc7be1",
   "metadata": {
    "execution": {
     "iopub.execute_input": "2022-10-02T17:20:53.521119Z",
     "iopub.status.busy": "2022-10-02T17:20:53.520671Z",
     "iopub.status.idle": "2022-10-02T17:20:53.544481Z",
     "shell.execute_reply": "2022-10-02T17:20:53.543635Z"
    },
    "papermill": {
     "duration": 0.058778,
     "end_time": "2022-10-02T17:20:53.547015",
     "exception": false,
     "start_time": "2022-10-02T17:20:53.488237",
     "status": "completed"
    },
    "tags": []
   },
   "outputs": [
    {
     "name": "stdout",
     "output_type": "stream",
     "text": [
      "Total no of duplicate values in Training Dataset = 0\n"
     ]
    },
    {
     "data": {
      "text/html": [
       "<div>\n",
       "<style scoped>\n",
       "    .dataframe tbody tr th:only-of-type {\n",
       "        vertical-align: middle;\n",
       "    }\n",
       "\n",
       "    .dataframe tbody tr th {\n",
       "        vertical-align: top;\n",
       "    }\n",
       "\n",
       "    .dataframe thead th {\n",
       "        text-align: right;\n",
       "    }\n",
       "</style>\n",
       "<table border=\"1\" class=\"dataframe\">\n",
       "  <thead>\n",
       "    <tr style=\"text-align: right;\">\n",
       "      <th></th>\n",
       "      <th>PassengerId</th>\n",
       "      <th>Survived</th>\n",
       "      <th>Pclass</th>\n",
       "      <th>Name</th>\n",
       "      <th>Sex</th>\n",
       "      <th>Age</th>\n",
       "      <th>SibSp</th>\n",
       "      <th>Parch</th>\n",
       "      <th>Ticket</th>\n",
       "      <th>Fare</th>\n",
       "      <th>Cabin</th>\n",
       "      <th>Embarked</th>\n",
       "    </tr>\n",
       "  </thead>\n",
       "  <tbody>\n",
       "  </tbody>\n",
       "</table>\n",
       "</div>"
      ],
      "text/plain": [
       "Empty DataFrame\n",
       "Columns: [PassengerId, Survived, Pclass, Name, Sex, Age, SibSp, Parch, Ticket, Fare, Cabin, Embarked]\n",
       "Index: []"
      ]
     },
     "execution_count": 2,
     "metadata": {},
     "output_type": "execute_result"
    }
   ],
   "source": [
    "#Check Duplicates:\n",
    "dupstr = df.duplicated()\n",
    "print('Total no of duplicate values in Training Dataset = %d' % (dupstr.sum()))\n",
    "df[dupstr]"
   ]
  },
  {
   "cell_type": "code",
   "execution_count": 3,
   "id": "bcc45887",
   "metadata": {
    "execution": {
     "iopub.execute_input": "2022-10-02T17:20:53.611569Z",
     "iopub.status.busy": "2022-10-02T17:20:53.611272Z",
     "iopub.status.idle": "2022-10-02T17:20:53.619241Z",
     "shell.execute_reply": "2022-10-02T17:20:53.618487Z"
    },
    "papermill": {
     "duration": 0.043798,
     "end_time": "2022-10-02T17:20:53.621990",
     "exception": false,
     "start_time": "2022-10-02T17:20:53.578192",
     "status": "completed"
    },
    "tags": []
   },
   "outputs": [
    {
     "name": "stdout",
     "output_type": "stream",
     "text": [
      "Missing data by column as a percent:\n",
      "Cabin          0.771044\n",
      "Age            0.198653\n",
      "Embarked       0.002245\n",
      "PassengerId    0.000000\n",
      "Survived       0.000000\n",
      "dtype: float64\n"
     ]
    }
   ],
   "source": [
    "#search for columns with missing values:\n",
    "def findNA():\n",
    "    print(\"Missing data by column as a percent:\")\n",
    "    findNA=df.isnull().sum().sort_values(ascending=False)/len(df)\n",
    "    print(findNA.head())\n",
    "findNA() "
   ]
  },
  {
   "cell_type": "markdown",
   "id": "4836f119",
   "metadata": {
    "papermill": {
     "duration": 0.031031,
     "end_time": "2022-10-02T17:20:53.691113",
     "exception": false,
     "start_time": "2022-10-02T17:20:53.660082",
     "status": "completed"
    },
    "tags": []
   },
   "source": [
    "# Feature Engineer\n",
    "We need to replace male and female into numbers. This is a very important part of the process because gender is one of the highest predictors on if a person survived or not."
   ]
  },
  {
   "cell_type": "code",
   "execution_count": 4,
   "id": "c3ca1679",
   "metadata": {
    "execution": {
     "iopub.execute_input": "2022-10-02T17:20:53.756882Z",
     "iopub.status.busy": "2022-10-02T17:20:53.755835Z",
     "iopub.status.idle": "2022-10-02T17:20:53.762090Z",
     "shell.execute_reply": "2022-10-02T17:20:53.761075Z"
    },
    "papermill": {
     "duration": 0.041656,
     "end_time": "2022-10-02T17:20:53.764530",
     "exception": false,
     "start_time": "2022-10-02T17:20:53.722874",
     "status": "completed"
    },
    "tags": []
   },
   "outputs": [],
   "source": [
    "#GENDER\n",
    "df['Sex']=df['Sex'].map({'female':0,'male':1})"
   ]
  },
  {
   "cell_type": "markdown",
   "id": "67a5bae5",
   "metadata": {
    "papermill": {
     "duration": 0.031713,
     "end_time": "2022-10-02T17:20:53.827881",
     "exception": false,
     "start_time": "2022-10-02T17:20:53.796168",
     "status": "completed"
    },
    "tags": []
   },
   "source": [
    "Females whose number is 0 had a much higher chance of surving than males. Later on, doing the importance feature analysis we will view that gender is actually one of the highest predictors. "
   ]
  },
  {
   "cell_type": "code",
   "execution_count": 5,
   "id": "09f6203e",
   "metadata": {
    "execution": {
     "iopub.execute_input": "2022-10-02T17:20:53.895543Z",
     "iopub.status.busy": "2022-10-02T17:20:53.895223Z",
     "iopub.status.idle": "2022-10-02T17:20:53.924774Z",
     "shell.execute_reply": "2022-10-02T17:20:53.924040Z"
    },
    "papermill": {
     "duration": 0.064757,
     "end_time": "2022-10-02T17:20:53.926731",
     "exception": false,
     "start_time": "2022-10-02T17:20:53.861974",
     "status": "completed"
    },
    "tags": []
   },
   "outputs": [
    {
     "data": {
      "text/html": [
       "<div>\n",
       "<style scoped>\n",
       "    .dataframe tbody tr th:only-of-type {\n",
       "        vertical-align: middle;\n",
       "    }\n",
       "\n",
       "    .dataframe tbody tr th {\n",
       "        vertical-align: top;\n",
       "    }\n",
       "\n",
       "    .dataframe thead th {\n",
       "        text-align: right;\n",
       "    }\n",
       "</style>\n",
       "<table border=\"1\" class=\"dataframe\">\n",
       "  <thead>\n",
       "    <tr style=\"text-align: right;\">\n",
       "      <th>Sex</th>\n",
       "      <th>0</th>\n",
       "      <th>1</th>\n",
       "    </tr>\n",
       "    <tr>\n",
       "      <th>Survived</th>\n",
       "      <th></th>\n",
       "      <th></th>\n",
       "    </tr>\n",
       "  </thead>\n",
       "  <tbody>\n",
       "    <tr>\n",
       "      <th>0</th>\n",
       "      <td>81</td>\n",
       "      <td>468</td>\n",
       "    </tr>\n",
       "    <tr>\n",
       "      <th>1</th>\n",
       "      <td>233</td>\n",
       "      <td>109</td>\n",
       "    </tr>\n",
       "  </tbody>\n",
       "</table>\n",
       "</div>"
      ],
      "text/plain": [
       "Sex         0    1\n",
       "Survived          \n",
       "0          81  468\n",
       "1         233  109"
      ]
     },
     "execution_count": 5,
     "metadata": {},
     "output_type": "execute_result"
    }
   ],
   "source": [
    "genderTable = pd.crosstab(df['Survived'],df['Sex'])\n",
    "genderTable"
   ]
  },
  {
   "cell_type": "markdown",
   "id": "dd7f1928",
   "metadata": {
    "papermill": {
     "duration": 0.031733,
     "end_time": "2022-10-02T17:20:53.990973",
     "exception": false,
     "start_time": "2022-10-02T17:20:53.959240",
     "status": "completed"
    },
    "tags": []
   },
   "source": [
    "# Encode Categorical Variables\n",
    "Encode Categorical Variables is needed for this dataset since there are many important variables that are not numeric yet. \n",
    "\n",
    "There are three classes C, Q, and S. Class C seems to have the highest chance of survival. Class S has the lowest chance of survival. Unfornately this would tend to show that economic status seems to played a part in the decision if someone survived or not. Embarked does not play role major role in feature importance. "
   ]
  },
  {
   "cell_type": "code",
   "execution_count": 6,
   "id": "aa132a8a",
   "metadata": {
    "execution": {
     "iopub.execute_input": "2022-10-02T17:20:54.056890Z",
     "iopub.status.busy": "2022-10-02T17:20:54.056078Z",
     "iopub.status.idle": "2022-10-02T17:20:54.277214Z",
     "shell.execute_reply": "2022-10-02T17:20:54.276342Z"
    },
    "papermill": {
     "duration": 0.256056,
     "end_time": "2022-10-02T17:20:54.279367",
     "exception": false,
     "start_time": "2022-10-02T17:20:54.023311",
     "status": "completed"
    },
    "tags": []
   },
   "outputs": [
    {
     "data": {
      "text/html": [
       "<div>\n",
       "<style scoped>\n",
       "    .dataframe tbody tr th:only-of-type {\n",
       "        vertical-align: middle;\n",
       "    }\n",
       "\n",
       "    .dataframe tbody tr th {\n",
       "        vertical-align: top;\n",
       "    }\n",
       "\n",
       "    .dataframe thead th {\n",
       "        text-align: right;\n",
       "    }\n",
       "</style>\n",
       "<table border=\"1\" class=\"dataframe\">\n",
       "  <thead>\n",
       "    <tr style=\"text-align: right;\">\n",
       "      <th></th>\n",
       "      <th>PassengerId</th>\n",
       "      <th>Survived</th>\n",
       "      <th>Pclass</th>\n",
       "      <th>Name</th>\n",
       "      <th>Sex</th>\n",
       "      <th>Age</th>\n",
       "      <th>SibSp</th>\n",
       "      <th>Parch</th>\n",
       "      <th>Ticket</th>\n",
       "      <th>Fare</th>\n",
       "      <th>Cabin</th>\n",
       "      <th>Embarked</th>\n",
       "      <th>FirstClass</th>\n",
       "    </tr>\n",
       "  </thead>\n",
       "  <tbody>\n",
       "    <tr>\n",
       "      <th>0</th>\n",
       "      <td>1</td>\n",
       "      <td>0</td>\n",
       "      <td>3</td>\n",
       "      <td>Braund, Mr. Owen Harris</td>\n",
       "      <td>1</td>\n",
       "      <td>22.0</td>\n",
       "      <td>1</td>\n",
       "      <td>0</td>\n",
       "      <td>A/5 21171</td>\n",
       "      <td>7.2500</td>\n",
       "      <td>NaN</td>\n",
       "      <td>S</td>\n",
       "      <td>0</td>\n",
       "    </tr>\n",
       "    <tr>\n",
       "      <th>1</th>\n",
       "      <td>2</td>\n",
       "      <td>1</td>\n",
       "      <td>1</td>\n",
       "      <td>Cumings, Mrs. John Bradley (Florence Briggs Th...</td>\n",
       "      <td>0</td>\n",
       "      <td>38.0</td>\n",
       "      <td>1</td>\n",
       "      <td>0</td>\n",
       "      <td>PC 17599</td>\n",
       "      <td>71.2833</td>\n",
       "      <td>C85</td>\n",
       "      <td>C</td>\n",
       "      <td>1</td>\n",
       "    </tr>\n",
       "    <tr>\n",
       "      <th>2</th>\n",
       "      <td>3</td>\n",
       "      <td>1</td>\n",
       "      <td>3</td>\n",
       "      <td>Heikkinen, Miss. Laina</td>\n",
       "      <td>0</td>\n",
       "      <td>26.0</td>\n",
       "      <td>0</td>\n",
       "      <td>0</td>\n",
       "      <td>STON/O2. 3101282</td>\n",
       "      <td>7.9250</td>\n",
       "      <td>NaN</td>\n",
       "      <td>S</td>\n",
       "      <td>0</td>\n",
       "    </tr>\n",
       "    <tr>\n",
       "      <th>3</th>\n",
       "      <td>4</td>\n",
       "      <td>1</td>\n",
       "      <td>1</td>\n",
       "      <td>Futrelle, Mrs. Jacques Heath (Lily May Peel)</td>\n",
       "      <td>0</td>\n",
       "      <td>35.0</td>\n",
       "      <td>1</td>\n",
       "      <td>0</td>\n",
       "      <td>113803</td>\n",
       "      <td>53.1000</td>\n",
       "      <td>C123</td>\n",
       "      <td>S</td>\n",
       "      <td>1</td>\n",
       "    </tr>\n",
       "    <tr>\n",
       "      <th>4</th>\n",
       "      <td>5</td>\n",
       "      <td>0</td>\n",
       "      <td>3</td>\n",
       "      <td>Allen, Mr. William Henry</td>\n",
       "      <td>1</td>\n",
       "      <td>35.0</td>\n",
       "      <td>0</td>\n",
       "      <td>0</td>\n",
       "      <td>373450</td>\n",
       "      <td>8.0500</td>\n",
       "      <td>NaN</td>\n",
       "      <td>S</td>\n",
       "      <td>0</td>\n",
       "    </tr>\n",
       "  </tbody>\n",
       "</table>\n",
       "</div>"
      ],
      "text/plain": [
       "   PassengerId  Survived  Pclass  \\\n",
       "0            1         0       3   \n",
       "1            2         1       1   \n",
       "2            3         1       3   \n",
       "3            4         1       1   \n",
       "4            5         0       3   \n",
       "\n",
       "                                                Name  Sex   Age  SibSp  Parch  \\\n",
       "0                            Braund, Mr. Owen Harris    1  22.0      1      0   \n",
       "1  Cumings, Mrs. John Bradley (Florence Briggs Th...    0  38.0      1      0   \n",
       "2                             Heikkinen, Miss. Laina    0  26.0      0      0   \n",
       "3       Futrelle, Mrs. Jacques Heath (Lily May Peel)    0  35.0      1      0   \n",
       "4                           Allen, Mr. William Henry    1  35.0      0      0   \n",
       "\n",
       "             Ticket     Fare Cabin Embarked  FirstClass  \n",
       "0         A/5 21171   7.2500   NaN        S           0  \n",
       "1          PC 17599  71.2833   C85        C           1  \n",
       "2  STON/O2. 3101282   7.9250   NaN        S           0  \n",
       "3            113803  53.1000  C123        S           1  \n",
       "4            373450   8.0500   NaN        S           0  "
      ]
     },
     "execution_count": 6,
     "metadata": {},
     "output_type": "execute_result"
    }
   ],
   "source": [
    "import category_encoders as ce\n",
    "encoder = ce.OrdinalEncoder(cols=['Embarked'])\n",
    "\n",
    "#df = encoder.fit_transform(df)\n",
    "#test = encoder.fit_transform(test)\n",
    "#test.head()\n",
    "df['Pclass'].value_counts()\n",
    "df['FirstClass']=df['Pclass'].apply(lambda x: 1 if x==1 else 0)\n",
    "df.head()"
   ]
  },
  {
   "cell_type": "markdown",
   "id": "a776147b",
   "metadata": {
    "papermill": {
     "duration": 0.032012,
     "end_time": "2022-10-02T17:20:54.344714",
     "exception": false,
     "start_time": "2022-10-02T17:20:54.312702",
     "status": "completed"
    },
    "tags": []
   },
   "source": [
    "# Examine Target Variable\n",
    "Survived is the Y variable we will be analyzing. Since the survival rete is 0.384 the data is not considered unbalanced. "
   ]
  },
  {
   "cell_type": "code",
   "execution_count": 7,
   "id": "3efbf223",
   "metadata": {
    "execution": {
     "iopub.execute_input": "2022-10-02T17:20:54.411625Z",
     "iopub.status.busy": "2022-10-02T17:20:54.410687Z",
     "iopub.status.idle": "2022-10-02T17:20:54.418360Z",
     "shell.execute_reply": "2022-10-02T17:20:54.417528Z"
    },
    "papermill": {
     "duration": 0.043007,
     "end_time": "2022-10-02T17:20:54.420444",
     "exception": false,
     "start_time": "2022-10-02T17:20:54.377437",
     "status": "completed"
    },
    "tags": []
   },
   "outputs": [
    {
     "name": "stdout",
     "output_type": "stream",
     "text": [
      "0    549\n",
      "1    342\n",
      "Name: Survived, dtype: int64\n",
      "Percent that survived:  0.384\n"
     ]
    }
   ],
   "source": [
    "temp=df['Survived'].value_counts()\n",
    "print(temp)\n",
    "no=temp[0]\n",
    "yes=temp[1]\n",
    "percent=round(yes/(yes+no),3)\n",
    "print(\"Percent that survived: \", percent)"
   ]
  },
  {
   "cell_type": "markdown",
   "id": "873de8c6",
   "metadata": {
    "papermill": {
     "duration": 0.032558,
     "end_time": "2022-10-02T17:20:54.485982",
     "exception": false,
     "start_time": "2022-10-02T17:20:54.453424",
     "status": "completed"
    },
    "tags": []
   },
   "source": [
    "# Numeric DataFrame\n",
    "For now, we will analyze only numeric values. Categorical values will need to be encoded or analyzed individually."
   ]
  },
  {
   "cell_type": "code",
   "execution_count": 8,
   "id": "4ee4e776",
   "metadata": {
    "execution": {
     "iopub.execute_input": "2022-10-02T17:20:54.553577Z",
     "iopub.status.busy": "2022-10-02T17:20:54.553097Z",
     "iopub.status.idle": "2022-10-02T17:20:54.567509Z",
     "shell.execute_reply": "2022-10-02T17:20:54.566641Z"
    },
    "papermill": {
     "duration": 0.051135,
     "end_time": "2022-10-02T17:20:54.569668",
     "exception": false,
     "start_time": "2022-10-02T17:20:54.518533",
     "status": "completed"
    },
    "tags": []
   },
   "outputs": [
    {
     "data": {
      "text/html": [
       "<div>\n",
       "<style scoped>\n",
       "    .dataframe tbody tr th:only-of-type {\n",
       "        vertical-align: middle;\n",
       "    }\n",
       "\n",
       "    .dataframe tbody tr th {\n",
       "        vertical-align: top;\n",
       "    }\n",
       "\n",
       "    .dataframe thead th {\n",
       "        text-align: right;\n",
       "    }\n",
       "</style>\n",
       "<table border=\"1\" class=\"dataframe\">\n",
       "  <thead>\n",
       "    <tr style=\"text-align: right;\">\n",
       "      <th></th>\n",
       "      <th>PassengerId</th>\n",
       "      <th>Survived</th>\n",
       "      <th>Pclass</th>\n",
       "      <th>Sex</th>\n",
       "      <th>Age</th>\n",
       "      <th>SibSp</th>\n",
       "      <th>Parch</th>\n",
       "      <th>Fare</th>\n",
       "      <th>FirstClass</th>\n",
       "    </tr>\n",
       "  </thead>\n",
       "  <tbody>\n",
       "    <tr>\n",
       "      <th>0</th>\n",
       "      <td>1</td>\n",
       "      <td>0</td>\n",
       "      <td>3</td>\n",
       "      <td>1</td>\n",
       "      <td>22.0</td>\n",
       "      <td>1</td>\n",
       "      <td>0</td>\n",
       "      <td>7.2500</td>\n",
       "      <td>0</td>\n",
       "    </tr>\n",
       "    <tr>\n",
       "      <th>1</th>\n",
       "      <td>2</td>\n",
       "      <td>1</td>\n",
       "      <td>1</td>\n",
       "      <td>0</td>\n",
       "      <td>38.0</td>\n",
       "      <td>1</td>\n",
       "      <td>0</td>\n",
       "      <td>71.2833</td>\n",
       "      <td>1</td>\n",
       "    </tr>\n",
       "    <tr>\n",
       "      <th>2</th>\n",
       "      <td>3</td>\n",
       "      <td>1</td>\n",
       "      <td>3</td>\n",
       "      <td>0</td>\n",
       "      <td>26.0</td>\n",
       "      <td>0</td>\n",
       "      <td>0</td>\n",
       "      <td>7.9250</td>\n",
       "      <td>0</td>\n",
       "    </tr>\n",
       "    <tr>\n",
       "      <th>3</th>\n",
       "      <td>4</td>\n",
       "      <td>1</td>\n",
       "      <td>1</td>\n",
       "      <td>0</td>\n",
       "      <td>35.0</td>\n",
       "      <td>1</td>\n",
       "      <td>0</td>\n",
       "      <td>53.1000</td>\n",
       "      <td>1</td>\n",
       "    </tr>\n",
       "    <tr>\n",
       "      <th>4</th>\n",
       "      <td>5</td>\n",
       "      <td>0</td>\n",
       "      <td>3</td>\n",
       "      <td>1</td>\n",
       "      <td>35.0</td>\n",
       "      <td>0</td>\n",
       "      <td>0</td>\n",
       "      <td>8.0500</td>\n",
       "      <td>0</td>\n",
       "    </tr>\n",
       "  </tbody>\n",
       "</table>\n",
       "</div>"
      ],
      "text/plain": [
       "   PassengerId  Survived  Pclass  Sex   Age  SibSp  Parch     Fare  FirstClass\n",
       "0            1         0       3    1  22.0      1      0   7.2500           0\n",
       "1            2         1       1    0  38.0      1      0  71.2833           1\n",
       "2            3         1       3    0  26.0      0      0   7.9250           0\n",
       "3            4         1       1    0  35.0      1      0  53.1000           1\n",
       "4            5         0       3    1  35.0      0      0   8.0500           0"
      ]
     },
     "execution_count": 8,
     "metadata": {},
     "output_type": "execute_result"
    }
   ],
   "source": [
    "numerics = ['int16', 'int32', 'int64', 'float16', 'float32', 'float64']\n",
    "df = df.select_dtypes(include=numerics)\n",
    "df.head()"
   ]
  },
  {
   "cell_type": "markdown",
   "id": "28a037a2",
   "metadata": {
    "papermill": {
     "duration": 0.033223,
     "end_time": "2022-10-02T17:20:54.636539",
     "exception": false,
     "start_time": "2022-10-02T17:20:54.603316",
     "status": "completed"
    },
    "tags": []
   },
   "source": [
    "# Correlations"
   ]
  },
  {
   "cell_type": "code",
   "execution_count": 9,
   "id": "38b5e43d",
   "metadata": {
    "execution": {
     "iopub.execute_input": "2022-10-02T17:20:54.704125Z",
     "iopub.status.busy": "2022-10-02T17:20:54.703842Z",
     "iopub.status.idle": "2022-10-02T17:20:55.260682Z",
     "shell.execute_reply": "2022-10-02T17:20:55.259903Z"
    },
    "papermill": {
     "duration": 0.593134,
     "end_time": "2022-10-02T17:20:55.262781",
     "exception": false,
     "start_time": "2022-10-02T17:20:54.669647",
     "status": "completed"
    },
    "tags": []
   },
   "outputs": [
    {
     "data": {
      "text/plain": [
       "<AxesSubplot:>"
      ]
     },
     "execution_count": 9,
     "metadata": {},
     "output_type": "execute_result"
    },
    {
     "data": {
      "image/png": "[encoded data removed]",
      "text/plain": [
       "<Figure size 432x288 with 2 Axes>"
      ]
     },
     "metadata": {
      "needs_background": "light"
     },
     "output_type": "display_data"
    }
   ],
   "source": [
    "import seaborn as sns\n",
    "corr= df.corr()\n",
    "matrix = np.triu(corr)\n",
    "sns.heatmap(corr, annot=True, mask=matrix)"
   ]
  },
  {
   "cell_type": "markdown",
   "id": "7680c4ae",
   "metadata": {
    "papermill": {
     "duration": 0.035206,
     "end_time": "2022-10-02T17:20:55.334102",
     "exception": false,
     "start_time": "2022-10-02T17:20:55.298896",
     "status": "completed"
    },
    "tags": []
   },
   "source": [
    "# Check for missing values\n",
    "Age is missing around 20% of values.Therefore, we can simply fill in the mean for that one column."
   ]
  },
  {
   "cell_type": "code",
   "execution_count": 10,
   "id": "177b1639",
   "metadata": {
    "execution": {
     "iopub.execute_input": "2022-10-02T17:20:55.407323Z",
     "iopub.status.busy": "2022-10-02T17:20:55.406885Z",
     "iopub.status.idle": "2022-10-02T17:20:55.415259Z",
     "shell.execute_reply": "2022-10-02T17:20:55.414285Z"
    },
    "papermill": {
     "duration": 0.04736,
     "end_time": "2022-10-02T17:20:55.417217",
     "exception": false,
     "start_time": "2022-10-02T17:20:55.369857",
     "status": "completed"
    },
    "tags": []
   },
   "outputs": [
    {
     "name": "stdout",
     "output_type": "stream",
     "text": [
      "Missing data by column as a percent:\n",
      "Age            0.198653\n",
      "PassengerId    0.000000\n",
      "Survived       0.000000\n",
      "Pclass         0.000000\n",
      "Sex            0.000000\n",
      "dtype: float64\n"
     ]
    }
   ],
   "source": [
    "#search for columns with missing values:\n",
    "def findNA():\n",
    "    print(\"Missing data by column as a percent:\")\n",
    "    findNA=df.isnull().sum().sort_values(ascending=False)/len(df)\n",
    "    print(findNA.head())\n",
    "findNA() "
   ]
  },
  {
   "cell_type": "code",
   "execution_count": 11,
   "id": "0529af75",
   "metadata": {
    "execution": {
     "iopub.execute_input": "2022-10-02T17:20:55.490238Z",
     "iopub.status.busy": "2022-10-02T17:20:55.489930Z",
     "iopub.status.idle": "2022-10-02T17:20:55.498724Z",
     "shell.execute_reply": "2022-10-02T17:20:55.497827Z"
    },
    "papermill": {
     "duration": 0.047957,
     "end_time": "2022-10-02T17:20:55.500797",
     "exception": false,
     "start_time": "2022-10-02T17:20:55.452840",
     "status": "completed"
    },
    "tags": []
   },
   "outputs": [],
   "source": [
    "df= df.fillna(df.mean())"
   ]
  },
  {
   "cell_type": "markdown",
   "id": "3226ed4a",
   "metadata": {
    "papermill": {
     "duration": 0.035401,
     "end_time": "2022-10-02T17:20:55.571700",
     "exception": false,
     "start_time": "2022-10-02T17:20:55.536299",
     "status": "completed"
    },
    "tags": []
   },
   "source": [
    "# Split Data"
   ]
  },
  {
   "cell_type": "code",
   "execution_count": 12,
   "id": "b48668c6",
   "metadata": {
    "execution": {
     "iopub.execute_input": "2022-10-02T17:20:55.645631Z",
     "iopub.status.busy": "2022-10-02T17:20:55.644647Z",
     "iopub.status.idle": "2022-10-02T17:20:55.652466Z",
     "shell.execute_reply": "2022-10-02T17:20:55.651674Z"
    },
    "papermill": {
     "duration": 0.04715,
     "end_time": "2022-10-02T17:20:55.654705",
     "exception": false,
     "start_time": "2022-10-02T17:20:55.607555",
     "status": "completed"
    },
    "tags": []
   },
   "outputs": [],
   "source": [
    "X=df.drop('Survived', axis=1)\n",
    "y=df['Survived']\n",
    "\n",
    "X_train, X_test, y_train, y_test = train_test_split(\n",
    "    X, y, test_size = 0.30, random_state = 42)"
   ]
  },
  {
   "cell_type": "markdown",
   "id": "31f7e2c5",
   "metadata": {
    "papermill": {
     "duration": 0.035576,
     "end_time": "2022-10-02T17:20:55.726389",
     "exception": false,
     "start_time": "2022-10-02T17:20:55.690813",
     "status": "completed"
    },
    "tags": []
   },
   "source": [
    "# Highly Correlated Features\n",
    "There are no highly correlated variables above 80%. Therefore, we do not need to be concerned about removing variables that are too highly correlated. "
   ]
  },
  {
   "cell_type": "markdown",
   "id": "81ba04d0",
   "metadata": {
    "papermill": {
     "duration": 0.035518,
     "end_time": "2022-10-02T17:20:55.799105",
     "exception": false,
     "start_time": "2022-10-02T17:20:55.763587",
     "status": "completed"
    },
    "tags": []
   },
   "source": [
    "# Tunning Tree"
   ]
  },
  {
   "cell_type": "code",
   "execution_count": 13,
   "id": "f3977097",
   "metadata": {
    "execution": {
     "iopub.execute_input": "2022-10-02T17:20:55.872663Z",
     "iopub.status.busy": "2022-10-02T17:20:55.872067Z",
     "iopub.status.idle": "2022-10-02T17:20:56.953877Z",
     "shell.execute_reply": "2022-10-02T17:20:56.952899Z"
    },
    "papermill": {
     "duration": 1.121023,
     "end_time": "2022-10-02T17:20:56.956097",
     "exception": false,
     "start_time": "2022-10-02T17:20:55.835074",
     "status": "completed"
    },
    "tags": []
   },
   "outputs": [
    {
     "data": {
      "image/png": "[encoded data removed]",
      "text/plain": [
       "<Figure size 432x288 with 1 Axes>"
      ]
     },
     "metadata": {
      "needs_background": "light"
     },
     "output_type": "display_data"
    },
    {
     "data": {
      "image/png": "[encoded data removed]",
      "text/plain": [
       "<Figure size 432x288 with 1 Axes>"
      ]
     },
     "metadata": {
      "needs_background": "light"
     },
     "output_type": "display_data"
    },
    {
     "data": {
      "image/png": "[encoded data removed]",
      "text/plain": [
       "<Figure size 432x288 with 1 Axes>"
      ]
     },
     "metadata": {
      "needs_background": "light"
     },
     "output_type": "display_data"
    },
    {
     "data": {
      "image/png": "[encoded data removed]",
      "text/plain": [
       "<Figure size 432x288 with 1 Axes>"
      ]
     },
     "metadata": {
      "needs_background": "light"
     },
     "output_type": "display_data"
    }
   ],
   "source": [
    "from sklearn.tree import DecisionTreeRegressor, DecisionTreeClassifier\n",
    "from sklearn.model_selection import GridSearchCV\n",
    "\n",
    "#FIND best_tree_size LEAF NODES:\n",
    "def calcLeaf():\n",
    "    leafList = [None, 2, 4, 5, 10, 20]\n",
    "    accList=[]\n",
    "    maeList=[]\n",
    "    \n",
    "    for leaf in leafList:\n",
    "        tree = DecisionTreeClassifier(max_leaf_nodes=leaf, random_state=42)\n",
    "        tree.fit(X_train, y_train)\n",
    "        y_pred = tree.predict(X_test)\n",
    "        mae = mean_absolute_error(y_test, y_pred).round(4)\n",
    "        treeAUC = round( metrics.roc_auc_score(y_test, y_pred), 4 ) \n",
    "        accList.append(treeAUC)\n",
    "        maeList.append(mae)\n",
    "    \n",
    "    plt.plot(leafList,accList, label=\"Accuracy\")\n",
    "    plt.title('Decision Tree')\n",
    "    plt.xlabel('max_leaf_nodes')\n",
    "    plt.ylabel('Accuracy')\n",
    "    plt.legend()\n",
    "    plt.show()         \n",
    "    \n",
    "    plt.plot(leafList, maeList, label=\"Error\")\n",
    "    plt.title('Decision Tree')\n",
    "    plt.xlabel('max_leaf_nodes')\n",
    "    plt.ylabel('Error')\n",
    "    plt.legend()\n",
    "    plt.show()  \n",
    "    \n",
    "def calcDepth():\n",
    "    maxDepthList = [2, 3, 5, 6, 7, 8, 9, 10]\n",
    "    accList=[]\n",
    "    maeList=[]\n",
    "    \n",
    "    for d in maxDepthList:\n",
    "        tree = DecisionTreeClassifier(max_depth=d, random_state=42)\n",
    "        tree.fit(X_train, y_train)\n",
    "        y_pred = tree.predict(X_test)\n",
    "        mae = mean_absolute_error(y_test, y_pred).round(4)\n",
    "        treeAUC = round( metrics.roc_auc_score(y_test, y_pred), 4 ) \n",
    "        maeList.append(mae)\n",
    "        accList.append(treeAUC)\n",
    "        #print(d, \" max_depth || AUC \", treeAUC, \" || MAE: \", mae)\n",
    "\n",
    "    plt.plot(maxDepthList,accList, label=\"accuracy\")\n",
    "    plt.title('Decision Tree')\n",
    "    plt.xlabel('MaxDepth')\n",
    "    plt.ylabel('Accuracy')\n",
    "    plt.legend()\n",
    "    plt.show()         \n",
    "    \n",
    "    plt.plot(maxDepthList,maeList, label=\"error\")\n",
    "    plt.title('Decision Tree')\n",
    "    plt.xlabel('MaxDepth')\n",
    "    plt.ylabel('Error')\n",
    "    plt.legend()\n",
    "    plt.show()     \n",
    "    \n",
    "#TURN FUNCTION OFF OR ON BELOW:   \n",
    "calcLeaf()\n",
    "calcDepth() "
   ]
  },
  {
   "cell_type": "code",
   "execution_count": 14,
   "id": "6cd00bce",
   "metadata": {
    "execution": {
     "iopub.execute_input": "2022-10-02T17:20:57.038165Z",
     "iopub.status.busy": "2022-10-02T17:20:57.037855Z",
     "iopub.status.idle": "2022-10-02T17:20:57.464775Z",
     "shell.execute_reply": "2022-10-02T17:20:57.464066Z"
    },
    "papermill": {
     "duration": 0.47087,
     "end_time": "2022-10-02T17:20:57.466854",
     "exception": false,
     "start_time": "2022-10-02T17:20:56.995984",
     "status": "completed"
    },
    "tags": []
   },
   "outputs": [
    {
     "data": {
      "image/png": "[encoded data removed]",
      "text/plain": [
       "<Figure size 432x288 with 1 Axes>"
      ]
     },
     "metadata": {
      "needs_background": "light"
     },
     "output_type": "display_data"
    },
    {
     "data": {
      "image/png": "[encoded data removed]",
      "text/plain": [
       "<Figure size 432x288 with 1 Axes>"
      ]
     },
     "metadata": {
      "needs_background": "light"
     },
     "output_type": "display_data"
    }
   ],
   "source": [
    "def calcMin():\n",
    "    numbers = [.01, .3, .5, 1]\n",
    "    accList=[]\n",
    "    maeList=[]\n",
    "    \n",
    "    for n in numbers:\n",
    "        tree = DecisionTreeClassifier(min_samples_leaf=n, random_state=42)\n",
    "        tree.fit(X_train, y_train)\n",
    "        y_pred = tree.predict(X_test)\n",
    "        mae = mean_absolute_error(y_test, y_pred).round(4)\n",
    "        treeAUC = round( metrics.roc_auc_score(y_test, y_pred), 4 ) \n",
    "        maeList.append(mae)\n",
    "        accList.append(treeAUC)\n",
    "        #print(d, \" max_depth || AUC \", treeAUC, \" || MAE: \", mae)\n",
    "\n",
    "    plt.plot(numbers,accList, label=\"accuracy\")\n",
    "    plt.title('Decision Tree')\n",
    "    plt.xlabel('Min_samples_leaf')\n",
    "    plt.ylabel('Accuracy')\n",
    "    plt.legend()\n",
    "    plt.show()         \n",
    "    \n",
    "    plt.plot(numbers,maeList, label=\"error\")\n",
    "    plt.title('Decision Tree')\n",
    "    plt.xlabel('Min_samples_leaf')\n",
    "    plt.ylabel('Error')\n",
    "    plt.legend()\n",
    "    plt.show()  \n",
    "calcMin()"
   ]
  },
  {
   "cell_type": "code",
   "execution_count": 15,
   "id": "d2e1e938",
   "metadata": {
    "execution": {
     "iopub.execute_input": "2022-10-02T17:20:57.552720Z",
     "iopub.status.busy": "2022-10-02T17:20:57.552095Z",
     "iopub.status.idle": "2022-10-02T17:20:58.031986Z",
     "shell.execute_reply": "2022-10-02T17:20:58.030909Z"
    },
    "papermill": {
     "duration": 0.526014,
     "end_time": "2022-10-02T17:20:58.034627",
     "exception": false,
     "start_time": "2022-10-02T17:20:57.508613",
     "status": "completed"
    },
    "tags": []
   },
   "outputs": [
    {
     "data": {
      "image/png": "[encoded data removed]",
      "text/plain": [
       "<Figure size 432x288 with 1 Axes>"
      ]
     },
     "metadata": {
      "needs_background": "light"
     },
     "output_type": "display_data"
    },
    {
     "data": {
      "image/png": "[encoded data removed]",
      "text/plain": [
       "<Figure size 432x288 with 1 Axes>"
      ]
     },
     "metadata": {
      "needs_background": "light"
     },
     "output_type": "display_data"
    }
   ],
   "source": [
    "def calcMax():\n",
    "    name='max_features'\n",
    "    numbers = [None, 0.2, 0.4, 0.6, 0.8]\n",
    "    accList=[]\n",
    "    maeList=[]\n",
    "\n",
    "    for n in numbers:\n",
    "        tree = DecisionTreeClassifier(max_features=n, random_state=42)\n",
    "        tree.fit(X_train, y_train)\n",
    "        y_pred = tree.predict(X_test)\n",
    "        mae = mean_absolute_error(y_test, y_pred).round(4)\n",
    "        treeAUC = round( metrics.roc_auc_score(y_test, y_pred), 4 ) \n",
    "        maeList.append(mae)\n",
    "        accList.append(treeAUC)\n",
    "        #print(d, \" max_depth || AUC \", treeAUC, \" || MAE: \", mae)\n",
    "\n",
    "    plt.plot(numbers,accList, label=\"accuracy\")\n",
    "    plt.title('Decision Tree')\n",
    "    plt.xlabel(name)\n",
    "    plt.ylabel('Accuracy')\n",
    "    plt.legend()\n",
    "    plt.show()         \n",
    "    \n",
    "    plt.plot(numbers,maeList, label=\"error\")\n",
    "    plt.title('Decision Tree')\n",
    "    plt.xlabel(name)\n",
    "    plt.ylabel('Error')\n",
    "    plt.legend()\n",
    "    plt.show()  \n",
    "calcMax()"
   ]
  },
  {
   "cell_type": "markdown",
   "id": "bc838024",
   "metadata": {
    "papermill": {
     "duration": 0.043741,
     "end_time": "2022-10-02T17:20:58.124069",
     "exception": false,
     "start_time": "2022-10-02T17:20:58.080328",
     "status": "completed"
    },
    "tags": []
   },
   "source": [
    "# GridSearch Tree\n",
    "Using entropy versus gini makes little difference see notes page at end for more information. \n",
    "* Top 10%  DecisionTreeClassifier(criterion='entropy', max_depth=5, max_features=0.5,\n",
    "                       min_samples_leaf=0.01)"
   ]
  },
  {
   "cell_type": "code",
   "execution_count": 16,
   "id": "7e791892",
   "metadata": {
    "execution": {
     "iopub.execute_input": "2022-10-02T17:20:58.214029Z",
     "iopub.status.busy": "2022-10-02T17:20:58.213709Z",
     "iopub.status.idle": "2022-10-02T17:21:16.212781Z",
     "shell.execute_reply": "2022-10-02T17:21:16.211658Z"
    },
    "papermill": {
     "duration": 18.046772,
     "end_time": "2022-10-02T17:21:16.214967",
     "exception": false,
     "start_time": "2022-10-02T17:20:58.168195",
     "status": "completed"
    },
    "tags": []
   },
   "outputs": [
    {
     "name": "stdout",
     "output_type": "stream",
     "text": [
      "DecisionTreeClassifier(criterion='entropy', max_depth=4, max_features=0.5)\n"
     ]
    }
   ],
   "source": [
    "tree_param = {'criterion':['entropy', 'gini'],\n",
    "            'max_depth':[2, 3,4,5],\n",
    "             'max_leaf_nodes':[None, 2, 3], \n",
    "              'min_samples_leaf':[.01, .3, .5, 1],\n",
    "            'max_features':[.1, .2, .3, .5]\n",
    "             }\n",
    "treeGrid=GridSearchCV(DecisionTreeClassifier(), tree_param, cv=10, scoring='accuracy')\n",
    "treeGrid.fit(X, y)\n",
    "print(treeGrid.best_estimator_)"
   ]
  },
  {
   "cell_type": "markdown",
   "id": "e6f31425",
   "metadata": {
    "papermill": {
     "duration": 0.04317,
     "end_time": "2022-10-02T17:21:16.302256",
     "exception": false,
     "start_time": "2022-10-02T17:21:16.259086",
     "status": "completed"
    },
    "tags": []
   },
   "source": [
    "#### Final Decision Tree Prediction\n",
    "Inputs below such as best_depth by using functions above."
   ]
  },
  {
   "cell_type": "code",
   "execution_count": 17,
   "id": "32e915c1",
   "metadata": {
    "execution": {
     "iopub.execute_input": "2022-10-02T17:21:16.390717Z",
     "iopub.status.busy": "2022-10-02T17:21:16.390393Z",
     "iopub.status.idle": "2022-10-02T17:21:16.439655Z",
     "shell.execute_reply": "2022-10-02T17:21:16.438270Z"
    },
    "papermill": {
     "duration": 0.096289,
     "end_time": "2022-10-02T17:21:16.442038",
     "exception": false,
     "start_time": "2022-10-02T17:21:16.345749",
     "status": "completed"
    },
    "tags": []
   },
   "outputs": [
    {
     "name": "stdout",
     "output_type": "stream",
     "text": [
      "AUC for decision tree is:  0.7137\n",
      "0.5111  is tree MSE \n",
      "0.8103  ||  0.7388\n",
      "-0.07150000000000001  cross validate score\n"
     ]
    }
   ],
   "source": [
    "dtree = DecisionTreeClassifier(\n",
    "    criterion='entropy',\n",
    "    max_depth=5, \n",
    "    max_features=.5,\n",
    "    max_leaf_nodes=None,\n",
    "    min_samples_leaf=.01\n",
    ")\n",
    "\n",
    "#FIT AND PREDICT:\n",
    "dtree.fit(X, y)\n",
    "y_pred =  dtree.predict(X_test)\n",
    "\n",
    "#Calculate Metrics:\n",
    "treeR2 = r2_score(y_test, y_pred).round(4)\n",
    "treeAUC = round( metrics.roc_auc_score(y_test, y_pred), 4 ) \n",
    "print(\"AUC for decision tree is: \", treeAUC)\n",
    "\n",
    "treeMSE=np.sqrt(metrics.mean_squared_error(y_test, y_pred))\n",
    "print(round(treeMSE, 4), \" is tree MSE \")\n",
    "\n",
    "#Cross Validate:\n",
    "treeScore = dtree.score(X_test, y_test).round(4)  \n",
    "treeCV = cross_validate(dtree, X, y, cv = 5)\n",
    "treeCV=treeCV['test_score'].mean().round(4)\n",
    "print(treeCV, ' || ', treeScore)\n",
    "print(treeScore-treeCV, \" cross validate score\")"
   ]
  },
  {
   "cell_type": "code",
   "execution_count": 18,
   "id": "9b86c3b0",
   "metadata": {
    "execution": {
     "iopub.execute_input": "2022-10-02T17:21:16.531832Z",
     "iopub.status.busy": "2022-10-02T17:21:16.531542Z",
     "iopub.status.idle": "2022-10-02T17:21:17.650873Z",
     "shell.execute_reply": "2022-10-02T17:21:17.650077Z"
    },
    "papermill": {
     "duration": 1.167567,
     "end_time": "2022-10-02T17:21:17.653929",
     "exception": false,
     "start_time": "2022-10-02T17:21:16.486362",
     "status": "completed"
    },
    "tags": []
   },
   "outputs": [
    {
     "data": {
      "image/svg+xml": [
       "<?xml version=\"1.0\" encoding=\"UTF-8\" standalone=\"no\"?>\n",
       "<!DOCTYPE svg PUBLIC \"-//W3C//DTD SVG 1.1//EN\"\n",
       " \"http://www.w3.org/Graphics/SVG/1.1/DTD/svg11.dtd\">\n",
       "<!-- Generated by graphviz version 2.50.0 (20211209.0339)\n",
       " -->\n",
       "<!-- Title: Tree Pages: 1 -->\n",
       "<svg width=\"1793pt\" height=\"581pt\"\n",
       " viewBox=\"0.00 0.00 1793.00 581.00\" xmlns=\"http://www.w3.org/2000/svg\" xmlns:xlink=\"http://www.w3.org/1999/xlink\">\n",
       "<g id=\"graph0\" class=\"graph\" transform=\"scale(1 1) rotate(0) translate(4 577)\">\n",
       "<title>Tree</title>\n",
       "<polygon fill=\"white\" stroke=\"transparent\" points=\"-4,4 -4,-577 1789,-577 1789,4 -4,4\"/>\n",
       "<!-- 0 -->\n",
       "<g id=\"node1\" class=\"node\">\n",
       "<title>0</title>\n",
       "<path fill=\"none\" stroke=\"black\" d=\"M747,-573C747,-573 622,-573 622,-573 616,-573 610,-567 610,-561 610,-561 610,-517 610,-517 610,-511 616,-505 622,-505 622,-505 747,-505 747,-505 753,-505 759,-511 759,-517 759,-517 759,-561 759,-561 759,-567 753,-573 747,-573\"/>\n",
       "<text text-anchor=\"middle\" x=\"684.5\" y=\"-557.8\" font-family=\"Helvetica,sans-Serif\" font-size=\"14.00\">Fare &lt;= 10.481</text>\n",
       "<text text-anchor=\"middle\" x=\"684.5\" y=\"-542.8\" font-family=\"Helvetica,sans-Serif\" font-size=\"14.00\">entropy = 0.961</text>\n",
       "<text text-anchor=\"middle\" x=\"684.5\" y=\"-527.8\" font-family=\"Helvetica,sans-Serif\" font-size=\"14.00\">samples = 891</text>\n",
       "<text text-anchor=\"middle\" x=\"684.5\" y=\"-512.8\" font-family=\"Helvetica,sans-Serif\" font-size=\"14.00\">value = [549, 342]</text>\n",
       "</g>\n",
       "<!-- 1 -->\n",
       "<g id=\"node2\" class=\"node\">\n",
       "<title>1</title>\n",
       "<path fill=\"none\" stroke=\"black\" d=\"M523.5,-469C523.5,-469 407.5,-469 407.5,-469 401.5,-469 395.5,-463 395.5,-457 395.5,-457 395.5,-413 395.5,-413 395.5,-407 401.5,-401 407.5,-401 407.5,-401 523.5,-401 523.5,-401 529.5,-401 535.5,-407 535.5,-413 535.5,-413 535.5,-457 535.5,-457 535.5,-463 529.5,-469 523.5,-469\"/>\n",
       "<text text-anchor=\"middle\" x=\"465.5\" y=\"-453.8\" font-family=\"Helvetica,sans-Serif\" font-size=\"14.00\">Sex &lt;= 0.5</text>\n",
       "<text text-anchor=\"middle\" x=\"465.5\" y=\"-438.8\" font-family=\"Helvetica,sans-Serif\" font-size=\"14.00\">entropy = 0.717</text>\n",
       "<text text-anchor=\"middle\" x=\"465.5\" y=\"-423.8\" font-family=\"Helvetica,sans-Serif\" font-size=\"14.00\">samples = 339</text>\n",
       "<text text-anchor=\"middle\" x=\"465.5\" y=\"-408.8\" font-family=\"Helvetica,sans-Serif\" font-size=\"14.00\">value = [272, 67]</text>\n",
       "</g>\n",
       "<!-- 0&#45;&gt;1 -->\n",
       "<g id=\"edge1\" class=\"edge\">\n",
       "<title>0&#45;&gt;1</title>\n",
       "<path fill=\"none\" stroke=\"black\" d=\"M613.4,-504.88C591.55,-494.71 567.37,-483.45 545,-473.03\"/>\n",
       "<polygon fill=\"black\" stroke=\"black\" points=\"546.42,-469.83 535.87,-468.78 543.46,-476.17 546.42,-469.83\"/>\n",
       "<text text-anchor=\"middle\" x=\"544.43\" y=\"-488.56\" font-family=\"Helvetica,sans-Serif\" font-size=\"14.00\">True</text>\n",
       "</g>\n",
       "<!-- 12 -->\n",
       "<g id=\"node13\" class=\"node\">\n",
       "<title>12</title>\n",
       "<path fill=\"none\" stroke=\"black\" d=\"M921,-469C921,-469 796,-469 796,-469 790,-469 784,-463 784,-457 784,-457 784,-413 784,-413 784,-407 790,-401 796,-401 796,-401 921,-401 921,-401 927,-401 933,-407 933,-413 933,-413 933,-457 933,-457 933,-463 927,-469 921,-469\"/>\n",
       "<text text-anchor=\"middle\" x=\"858.5\" y=\"-453.8\" font-family=\"Helvetica,sans-Serif\" font-size=\"14.00\">Fare &lt;= 74.375</text>\n",
       "<text text-anchor=\"middle\" x=\"858.5\" y=\"-438.8\" font-family=\"Helvetica,sans-Serif\" font-size=\"14.00\">entropy = 1.0</text>\n",
       "<text text-anchor=\"middle\" x=\"858.5\" y=\"-423.8\" font-family=\"Helvetica,sans-Serif\" font-size=\"14.00\">samples = 552</text>\n",
       "<text text-anchor=\"middle\" x=\"858.5\" y=\"-408.8\" font-family=\"Helvetica,sans-Serif\" font-size=\"14.00\">value = [277, 275]</text>\n",
       "</g>\n",
       "<!-- 0&#45;&gt;12 -->\n",
       "<g id=\"edge12\" class=\"edge\">\n",
       "<title>0&#45;&gt;12</title>\n",
       "<path fill=\"none\" stroke=\"black\" d=\"M740.99,-504.88C757.64,-495.12 775.99,-484.37 793.15,-474.31\"/>\n",
       "<polygon fill=\"black\" stroke=\"black\" points=\"795.14,-477.2 801.99,-469.12 791.6,-471.16 795.14,-477.2\"/>\n",
       "<text text-anchor=\"middle\" x=\"795.68\" y=\"-489.62\" font-family=\"Helvetica,sans-Serif\" font-size=\"14.00\">False</text>\n",
       "</g>\n",
       "<!-- 2 -->\n",
       "<g id=\"node3\" class=\"node\">\n",
       "<title>2</title>\n",
       "<path fill=\"none\" stroke=\"black\" d=\"M268,-365C268,-365 161,-365 161,-365 155,-365 149,-359 149,-353 149,-353 149,-309 149,-309 149,-303 155,-297 161,-297 161,-297 268,-297 268,-297 274,-297 280,-303 280,-309 280,-309 280,-353 280,-353 280,-359 274,-365 268,-365\"/>\n",
       "<text text-anchor=\"middle\" x=\"214.5\" y=\"-349.8\" font-family=\"Helvetica,sans-Serif\" font-size=\"14.00\">Age &lt;= 19.5</text>\n",
       "<text text-anchor=\"middle\" x=\"214.5\" y=\"-334.8\" font-family=\"Helvetica,sans-Serif\" font-size=\"14.00\">entropy = 0.983</text>\n",
       "<text text-anchor=\"middle\" x=\"214.5\" y=\"-319.8\" font-family=\"Helvetica,sans-Serif\" font-size=\"14.00\">samples = 66</text>\n",
       "<text text-anchor=\"middle\" x=\"214.5\" y=\"-304.8\" font-family=\"Helvetica,sans-Serif\" font-size=\"14.00\">value = [28, 38]</text>\n",
       "</g>\n",
       "<!-- 1&#45;&gt;2 -->\n",
       "<g id=\"edge2\" class=\"edge\">\n",
       "<title>1&#45;&gt;2</title>\n",
       "<path fill=\"none\" stroke=\"black\" d=\"M395.25,-405.45C362.37,-392.09 323.18,-376.16 289.7,-362.56\"/>\n",
       "<polygon fill=\"black\" stroke=\"black\" points=\"291,-359.31 280.42,-358.79 288.37,-365.8 291,-359.31\"/>\n",
       "</g>\n",
       "<!-- 5 -->\n",
       "<g id=\"node6\" class=\"node\">\n",
       "<title>5</title>\n",
       "<path fill=\"none\" stroke=\"black\" d=\"M523.5,-365C523.5,-365 407.5,-365 407.5,-365 401.5,-365 395.5,-359 395.5,-353 395.5,-353 395.5,-309 395.5,-309 395.5,-303 401.5,-297 407.5,-297 407.5,-297 523.5,-297 523.5,-297 529.5,-297 535.5,-303 535.5,-309 535.5,-309 535.5,-353 535.5,-353 535.5,-359 529.5,-365 523.5,-365\"/>\n",
       "<text text-anchor=\"middle\" x=\"465.5\" y=\"-349.8\" font-family=\"Helvetica,sans-Serif\" font-size=\"14.00\">Age &lt;= 45.25</text>\n",
       "<text text-anchor=\"middle\" x=\"465.5\" y=\"-334.8\" font-family=\"Helvetica,sans-Serif\" font-size=\"14.00\">entropy = 0.488</text>\n",
       "<text text-anchor=\"middle\" x=\"465.5\" y=\"-319.8\" font-family=\"Helvetica,sans-Serif\" font-size=\"14.00\">samples = 273</text>\n",
       "<text text-anchor=\"middle\" x=\"465.5\" y=\"-304.8\" font-family=\"Helvetica,sans-Serif\" font-size=\"14.00\">value = [244, 29]</text>\n",
       "</g>\n",
       "<!-- 1&#45;&gt;5 -->\n",
       "<g id=\"edge5\" class=\"edge\">\n",
       "<title>1&#45;&gt;5</title>\n",
       "<path fill=\"none\" stroke=\"black\" d=\"M465.5,-400.88C465.5,-392.78 465.5,-383.98 465.5,-375.47\"/>\n",
       "<polygon fill=\"black\" stroke=\"black\" points=\"469,-375.3 465.5,-365.3 462,-375.3 469,-375.3\"/>\n",
       "</g>\n",
       "<!-- 3 -->\n",
       "<g id=\"node4\" class=\"node\">\n",
       "<title>3</title>\n",
       "<path fill=\"none\" stroke=\"black\" d=\"M119,-253.5C119,-253.5 12,-253.5 12,-253.5 6,-253.5 0,-247.5 0,-241.5 0,-241.5 0,-212.5 0,-212.5 0,-206.5 6,-200.5 12,-200.5 12,-200.5 119,-200.5 119,-200.5 125,-200.5 131,-206.5 131,-212.5 131,-212.5 131,-241.5 131,-241.5 131,-247.5 125,-253.5 119,-253.5\"/>\n",
       "<text text-anchor=\"middle\" x=\"65.5\" y=\"-238.3\" font-family=\"Helvetica,sans-Serif\" font-size=\"14.00\">entropy = 0.837</text>\n",
       "<text text-anchor=\"middle\" x=\"65.5\" y=\"-223.3\" font-family=\"Helvetica,sans-Serif\" font-size=\"14.00\">samples = 15</text>\n",
       "<text text-anchor=\"middle\" x=\"65.5\" y=\"-208.3\" font-family=\"Helvetica,sans-Serif\" font-size=\"14.00\">value = [4, 11]</text>\n",
       "</g>\n",
       "<!-- 2&#45;&gt;3 -->\n",
       "<g id=\"edge3\" class=\"edge\">\n",
       "<title>2&#45;&gt;3</title>\n",
       "<path fill=\"none\" stroke=\"black\" d=\"M166.12,-296.88C148.45,-284.79 128.53,-271.15 111.11,-259.22\"/>\n",
       "<polygon fill=\"black\" stroke=\"black\" points=\"113.01,-256.28 102.78,-253.52 109.05,-262.06 113.01,-256.28\"/>\n",
       "</g>\n",
       "<!-- 4 -->\n",
       "<g id=\"node5\" class=\"node\">\n",
       "<title>4</title>\n",
       "<path fill=\"none\" stroke=\"black\" d=\"M268,-253.5C268,-253.5 161,-253.5 161,-253.5 155,-253.5 149,-247.5 149,-241.5 149,-241.5 149,-212.5 149,-212.5 149,-206.5 155,-200.5 161,-200.5 161,-200.5 268,-200.5 268,-200.5 274,-200.5 280,-206.5 280,-212.5 280,-212.5 280,-241.5 280,-241.5 280,-247.5 274,-253.5 268,-253.5\"/>\n",
       "<text text-anchor=\"middle\" x=\"214.5\" y=\"-238.3\" font-family=\"Helvetica,sans-Serif\" font-size=\"14.00\">entropy = 0.998</text>\n",
       "<text text-anchor=\"middle\" x=\"214.5\" y=\"-223.3\" font-family=\"Helvetica,sans-Serif\" font-size=\"14.00\">samples = 51</text>\n",
       "<text text-anchor=\"middle\" x=\"214.5\" y=\"-208.3\" font-family=\"Helvetica,sans-Serif\" font-size=\"14.00\">value = [24, 27]</text>\n",
       "</g>\n",
       "<!-- 2&#45;&gt;4 -->\n",
       "<g id=\"edge4\" class=\"edge\">\n",
       "<title>2&#45;&gt;4</title>\n",
       "<path fill=\"none\" stroke=\"black\" d=\"M214.5,-296.88C214.5,-286.33 214.5,-274.6 214.5,-263.85\"/>\n",
       "<polygon fill=\"black\" stroke=\"black\" points=\"218,-263.52 214.5,-253.52 211,-263.52 218,-263.52\"/>\n",
       "</g>\n",
       "<!-- 6 -->\n",
       "<g id=\"node7\" class=\"node\">\n",
       "<title>6</title>\n",
       "<path fill=\"none\" stroke=\"black\" d=\"M461,-261C461,-261 310,-261 310,-261 304,-261 298,-255 298,-249 298,-249 298,-205 298,-205 298,-199 304,-193 310,-193 310,-193 461,-193 461,-193 467,-193 473,-199 473,-205 473,-205 473,-249 473,-249 473,-255 467,-261 461,-261\"/>\n",
       "<text text-anchor=\"middle\" x=\"385.5\" y=\"-245.8\" font-family=\"Helvetica,sans-Serif\" font-size=\"14.00\">PassengerId &lt;= 831.0</text>\n",
       "<text text-anchor=\"middle\" x=\"385.5\" y=\"-230.8\" font-family=\"Helvetica,sans-Serif\" font-size=\"14.00\">entropy = 0.507</text>\n",
       "<text text-anchor=\"middle\" x=\"385.5\" y=\"-215.8\" font-family=\"Helvetica,sans-Serif\" font-size=\"14.00\">samples = 258</text>\n",
       "<text text-anchor=\"middle\" x=\"385.5\" y=\"-200.8\" font-family=\"Helvetica,sans-Serif\" font-size=\"14.00\">value = [229, 29]</text>\n",
       "</g>\n",
       "<!-- 5&#45;&gt;6 -->\n",
       "<g id=\"edge6\" class=\"edge\">\n",
       "<title>5&#45;&gt;6</title>\n",
       "<path fill=\"none\" stroke=\"black\" d=\"M439.53,-296.88C432.61,-288.07 425.05,-278.43 417.84,-269.24\"/>\n",
       "<polygon fill=\"black\" stroke=\"black\" points=\"420.54,-267.01 411.62,-261.3 415.03,-271.33 420.54,-267.01\"/>\n",
       "</g>\n",
       "<!-- 11 -->\n",
       "<g id=\"node12\" class=\"node\">\n",
       "<title>11</title>\n",
       "<path fill=\"none\" stroke=\"black\" d=\"M601.5,-253.5C601.5,-253.5 503.5,-253.5 503.5,-253.5 497.5,-253.5 491.5,-247.5 491.5,-241.5 491.5,-241.5 491.5,-212.5 491.5,-212.5 491.5,-206.5 497.5,-200.5 503.5,-200.5 503.5,-200.5 601.5,-200.5 601.5,-200.5 607.5,-200.5 613.5,-206.5 613.5,-212.5 613.5,-212.5 613.5,-241.5 613.5,-241.5 613.5,-247.5 607.5,-253.5 601.5,-253.5\"/>\n",
       "<text text-anchor=\"middle\" x=\"552.5\" y=\"-238.3\" font-family=\"Helvetica,sans-Serif\" font-size=\"14.00\">entropy = 0.0</text>\n",
       "<text text-anchor=\"middle\" x=\"552.5\" y=\"-223.3\" font-family=\"Helvetica,sans-Serif\" font-size=\"14.00\">samples = 15</text>\n",
       "<text text-anchor=\"middle\" x=\"552.5\" y=\"-208.3\" font-family=\"Helvetica,sans-Serif\" font-size=\"14.00\">value = [15, 0]</text>\n",
       "</g>\n",
       "<!-- 5&#45;&gt;11 -->\n",
       "<g id=\"edge11\" class=\"edge\">\n",
       "<title>5&#45;&gt;11</title>\n",
       "<path fill=\"none\" stroke=\"black\" d=\"M493.75,-296.88C503.5,-285.45 514.43,-272.63 524.19,-261.19\"/>\n",
       "<polygon fill=\"black\" stroke=\"black\" points=\"526.91,-263.4 530.73,-253.52 521.58,-258.86 526.91,-263.4\"/>\n",
       "</g>\n",
       "<!-- 7 -->\n",
       "<g id=\"node8\" class=\"node\">\n",
       "<title>7</title>\n",
       "<path fill=\"none\" stroke=\"black\" d=\"M289.5,-157C289.5,-157 173.5,-157 173.5,-157 167.5,-157 161.5,-151 161.5,-145 161.5,-145 161.5,-101 161.5,-101 161.5,-95 167.5,-89 173.5,-89 173.5,-89 289.5,-89 289.5,-89 295.5,-89 301.5,-95 301.5,-101 301.5,-101 301.5,-145 301.5,-145 301.5,-151 295.5,-157 289.5,-157\"/>\n",
       "<text text-anchor=\"middle\" x=\"231.5\" y=\"-141.8\" font-family=\"Helvetica,sans-Serif\" font-size=\"14.00\">Pclass &lt;= 2.5</text>\n",
       "<text text-anchor=\"middle\" x=\"231.5\" y=\"-126.8\" font-family=\"Helvetica,sans-Serif\" font-size=\"14.00\">entropy = 0.535</text>\n",
       "<text text-anchor=\"middle\" x=\"231.5\" y=\"-111.8\" font-family=\"Helvetica,sans-Serif\" font-size=\"14.00\">samples = 238</text>\n",
       "<text text-anchor=\"middle\" x=\"231.5\" y=\"-96.8\" font-family=\"Helvetica,sans-Serif\" font-size=\"14.00\">value = [209, 29]</text>\n",
       "</g>\n",
       "<!-- 6&#45;&gt;7 -->\n",
       "<g id=\"edge7\" class=\"edge\">\n",
       "<title>6&#45;&gt;7</title>\n",
       "<path fill=\"none\" stroke=\"black\" d=\"M335.5,-192.88C321.04,-183.3 305.12,-172.76 290.18,-162.86\"/>\n",
       "<polygon fill=\"black\" stroke=\"black\" points=\"291.78,-159.73 281.51,-157.12 287.92,-165.56 291.78,-159.73\"/>\n",
       "</g>\n",
       "<!-- 10 -->\n",
       "<g id=\"node11\" class=\"node\">\n",
       "<title>10</title>\n",
       "<path fill=\"none\" stroke=\"black\" d=\"M434.5,-149.5C434.5,-149.5 336.5,-149.5 336.5,-149.5 330.5,-149.5 324.5,-143.5 324.5,-137.5 324.5,-137.5 324.5,-108.5 324.5,-108.5 324.5,-102.5 330.5,-96.5 336.5,-96.5 336.5,-96.5 434.5,-96.5 434.5,-96.5 440.5,-96.5 446.5,-102.5 446.5,-108.5 446.5,-108.5 446.5,-137.5 446.5,-137.5 446.5,-143.5 440.5,-149.5 434.5,-149.5\"/>\n",
       "<text text-anchor=\"middle\" x=\"385.5\" y=\"-134.3\" font-family=\"Helvetica,sans-Serif\" font-size=\"14.00\">entropy = 0.0</text>\n",
       "<text text-anchor=\"middle\" x=\"385.5\" y=\"-119.3\" font-family=\"Helvetica,sans-Serif\" font-size=\"14.00\">samples = 20</text>\n",
       "<text text-anchor=\"middle\" x=\"385.5\" y=\"-104.3\" font-family=\"Helvetica,sans-Serif\" font-size=\"14.00\">value = [20, 0]</text>\n",
       "</g>\n",
       "<!-- 6&#45;&gt;10 -->\n",
       "<g id=\"edge10\" class=\"edge\">\n",
       "<title>6&#45;&gt;10</title>\n",
       "<path fill=\"none\" stroke=\"black\" d=\"M385.5,-192.88C385.5,-182.33 385.5,-170.6 385.5,-159.85\"/>\n",
       "<polygon fill=\"black\" stroke=\"black\" points=\"389,-159.52 385.5,-149.52 382,-159.52 389,-159.52\"/>\n",
       "</g>\n",
       "<!-- 8 -->\n",
       "<g id=\"node9\" class=\"node\">\n",
       "<title>8</title>\n",
       "<path fill=\"none\" stroke=\"black\" d=\"M131.5,-53C131.5,-53 33.5,-53 33.5,-53 27.5,-53 21.5,-47 21.5,-41 21.5,-41 21.5,-12 21.5,-12 21.5,-6 27.5,0 33.5,0 33.5,0 131.5,0 131.5,0 137.5,0 143.5,-6 143.5,-12 143.5,-12 143.5,-41 143.5,-41 143.5,-47 137.5,-53 131.5,-53\"/>\n",
       "<text text-anchor=\"middle\" x=\"82.5\" y=\"-37.8\" font-family=\"Helvetica,sans-Serif\" font-size=\"14.00\">entropy = 0.0</text>\n",
       "<text text-anchor=\"middle\" x=\"82.5\" y=\"-22.8\" font-family=\"Helvetica,sans-Serif\" font-size=\"14.00\">samples = 11</text>\n",
       "<text text-anchor=\"middle\" x=\"82.5\" y=\"-7.8\" font-family=\"Helvetica,sans-Serif\" font-size=\"14.00\">value = [11, 0]</text>\n",
       "</g>\n",
       "<!-- 7&#45;&gt;8 -->\n",
       "<g id=\"edge8\" class=\"edge\">\n",
       "<title>7&#45;&gt;8</title>\n",
       "<path fill=\"none\" stroke=\"black\" d=\"M179.39,-88.95C163.95,-79.16 147.11,-68.48 131.85,-58.8\"/>\n",
       "<polygon fill=\"black\" stroke=\"black\" points=\"133.4,-55.64 123.08,-53.24 129.65,-61.55 133.4,-55.64\"/>\n",
       "</g>\n",
       "<!-- 9 -->\n",
       "<g id=\"node10\" class=\"node\">\n",
       "<title>9</title>\n",
       "<path fill=\"none\" stroke=\"black\" d=\"M289.5,-53C289.5,-53 173.5,-53 173.5,-53 167.5,-53 161.5,-47 161.5,-41 161.5,-41 161.5,-12 161.5,-12 161.5,-6 167.5,0 173.5,0 173.5,0 289.5,0 289.5,0 295.5,0 301.5,-6 301.5,-12 301.5,-12 301.5,-41 301.5,-41 301.5,-47 295.5,-53 289.5,-53\"/>\n",
       "<text text-anchor=\"middle\" x=\"231.5\" y=\"-37.8\" font-family=\"Helvetica,sans-Serif\" font-size=\"14.00\">entropy = 0.551</text>\n",
       "<text text-anchor=\"middle\" x=\"231.5\" y=\"-22.8\" font-family=\"Helvetica,sans-Serif\" font-size=\"14.00\">samples = 227</text>\n",
       "<text text-anchor=\"middle\" x=\"231.5\" y=\"-7.8\" font-family=\"Helvetica,sans-Serif\" font-size=\"14.00\">value = [198, 29]</text>\n",
       "</g>\n",
       "<!-- 7&#45;&gt;9 -->\n",
       "<g id=\"edge9\" class=\"edge\">\n",
       "<title>7&#45;&gt;9</title>\n",
       "<path fill=\"none\" stroke=\"black\" d=\"M231.5,-88.95C231.5,-80.72 231.5,-71.85 231.5,-63.48\"/>\n",
       "<polygon fill=\"black\" stroke=\"black\" points=\"235,-63.24 231.5,-53.24 228,-63.24 235,-63.24\"/>\n",
       "</g>\n",
       "<!-- 13 -->\n",
       "<g id=\"node14\" class=\"node\">\n",
       "<title>13</title>\n",
       "<path fill=\"none\" stroke=\"black\" d=\"M921,-365C921,-365 796,-365 796,-365 790,-365 784,-359 784,-353 784,-353 784,-309 784,-309 784,-303 790,-297 796,-297 796,-297 921,-297 921,-297 927,-297 933,-303 933,-309 933,-309 933,-353 933,-353 933,-359 927,-365 921,-365\"/>\n",
       "<text text-anchor=\"middle\" x=\"858.5\" y=\"-349.8\" font-family=\"Helvetica,sans-Serif\" font-size=\"14.00\">SibSp &lt;= 2.5</text>\n",
       "<text text-anchor=\"middle\" x=\"858.5\" y=\"-334.8\" font-family=\"Helvetica,sans-Serif\" font-size=\"14.00\">entropy = 0.99</text>\n",
       "<text text-anchor=\"middle\" x=\"858.5\" y=\"-319.8\" font-family=\"Helvetica,sans-Serif\" font-size=\"14.00\">samples = 455</text>\n",
       "<text text-anchor=\"middle\" x=\"858.5\" y=\"-304.8\" font-family=\"Helvetica,sans-Serif\" font-size=\"14.00\">value = [254, 201]</text>\n",
       "</g>\n",
       "<!-- 12&#45;&gt;13 -->\n",
       "<g id=\"edge13\" class=\"edge\">\n",
       "<title>12&#45;&gt;13</title>\n",
       "<path fill=\"none\" stroke=\"black\" d=\"M858.5,-400.88C858.5,-392.78 858.5,-383.98 858.5,-375.47\"/>\n",
       "<polygon fill=\"black\" stroke=\"black\" points=\"862,-375.3 858.5,-365.3 855,-375.3 862,-375.3\"/>\n",
       "</g>\n",
       "<!-- 26 -->\n",
       "<g id=\"node27\" class=\"node\">\n",
       "<title>26</title>\n",
       "<path fill=\"none\" stroke=\"black\" d=\"M1207,-365C1207,-365 1056,-365 1056,-365 1050,-365 1044,-359 1044,-353 1044,-353 1044,-309 1044,-309 1044,-303 1050,-297 1056,-297 1056,-297 1207,-297 1207,-297 1213,-297 1219,-303 1219,-309 1219,-309 1219,-353 1219,-353 1219,-359 1213,-365 1207,-365\"/>\n",
       "<text text-anchor=\"middle\" x=\"1131.5\" y=\"-349.8\" font-family=\"Helvetica,sans-Serif\" font-size=\"14.00\">PassengerId &lt;= 168.0</text>\n",
       "<text text-anchor=\"middle\" x=\"1131.5\" y=\"-334.8\" font-family=\"Helvetica,sans-Serif\" font-size=\"14.00\">entropy = 0.79</text>\n",
       "<text text-anchor=\"middle\" x=\"1131.5\" y=\"-319.8\" font-family=\"Helvetica,sans-Serif\" font-size=\"14.00\">samples = 97</text>\n",
       "<text text-anchor=\"middle\" x=\"1131.5\" y=\"-304.8\" font-family=\"Helvetica,sans-Serif\" font-size=\"14.00\">value = [23, 74]</text>\n",
       "</g>\n",
       "<!-- 12&#45;&gt;26 -->\n",
       "<g id=\"edge26\" class=\"edge\">\n",
       "<title>12&#45;&gt;26</title>\n",
       "<path fill=\"none\" stroke=\"black\" d=\"M933.1,-406.13C964.28,-394.48 1000.93,-380.79 1034.18,-368.36\"/>\n",
       "<polygon fill=\"black\" stroke=\"black\" points=\"1035.78,-371.5 1043.92,-364.72 1033.33,-364.94 1035.78,-371.5\"/>\n",
       "</g>\n",
       "<!-- 14 -->\n",
       "<g id=\"node15\" class=\"node\">\n",
       "<title>14</title>\n",
       "<path fill=\"none\" stroke=\"black\" d=\"M828,-261C828,-261 703,-261 703,-261 697,-261 691,-255 691,-249 691,-249 691,-205 691,-205 691,-199 697,-193 703,-193 703,-193 828,-193 828,-193 834,-193 840,-199 840,-205 840,-205 840,-249 840,-249 840,-255 834,-261 828,-261\"/>\n",
       "<text text-anchor=\"middle\" x=\"765.5\" y=\"-245.8\" font-family=\"Helvetica,sans-Serif\" font-size=\"14.00\">Parch &lt;= 0.5</text>\n",
       "<text text-anchor=\"middle\" x=\"765.5\" y=\"-230.8\" font-family=\"Helvetica,sans-Serif\" font-size=\"14.00\">entropy = 0.998</text>\n",
       "<text text-anchor=\"middle\" x=\"765.5\" y=\"-215.8\" font-family=\"Helvetica,sans-Serif\" font-size=\"14.00\">samples = 413</text>\n",
       "<text text-anchor=\"middle\" x=\"765.5\" y=\"-200.8\" font-family=\"Helvetica,sans-Serif\" font-size=\"14.00\">value = [216, 197]</text>\n",
       "</g>\n",
       "<!-- 13&#45;&gt;14 -->\n",
       "<g id=\"edge14\" class=\"edge\">\n",
       "<title>13&#45;&gt;14</title>\n",
       "<path fill=\"none\" stroke=\"black\" d=\"M828.31,-296.88C820.18,-287.98 811.3,-278.24 802.84,-268.96\"/>\n",
       "<polygon fill=\"black\" stroke=\"black\" points=\"805.19,-266.33 795.86,-261.3 800.01,-271.05 805.19,-266.33\"/>\n",
       "</g>\n",
       "<!-- 21 -->\n",
       "<g id=\"node22\" class=\"node\">\n",
       "<title>21</title>\n",
       "<path fill=\"none\" stroke=\"black\" d=\"M1036,-261C1036,-261 929,-261 929,-261 923,-261 917,-255 917,-249 917,-249 917,-205 917,-205 917,-199 923,-193 929,-193 929,-193 1036,-193 1036,-193 1042,-193 1048,-199 1048,-205 1048,-205 1048,-249 1048,-249 1048,-255 1042,-261 1036,-261\"/>\n",
       "<text text-anchor=\"middle\" x=\"982.5\" y=\"-245.8\" font-family=\"Helvetica,sans-Serif\" font-size=\"14.00\">Fare &lt;= 35.538</text>\n",
       "<text text-anchor=\"middle\" x=\"982.5\" y=\"-230.8\" font-family=\"Helvetica,sans-Serif\" font-size=\"14.00\">entropy = 0.454</text>\n",
       "<text text-anchor=\"middle\" x=\"982.5\" y=\"-215.8\" font-family=\"Helvetica,sans-Serif\" font-size=\"14.00\">samples = 42</text>\n",
       "<text text-anchor=\"middle\" x=\"982.5\" y=\"-200.8\" font-family=\"Helvetica,sans-Serif\" font-size=\"14.00\">value = [38, 4]</text>\n",
       "</g>\n",
       "<!-- 13&#45;&gt;21 -->\n",
       "<g id=\"edge21\" class=\"edge\">\n",
       "<title>13&#45;&gt;21</title>\n",
       "<path fill=\"none\" stroke=\"black\" d=\"M898.76,-296.88C910.02,-287.62 922.38,-277.45 934.06,-267.85\"/>\n",
       "<polygon fill=\"black\" stroke=\"black\" points=\"936.52,-270.36 942.02,-261.3 932.07,-264.95 936.52,-270.36\"/>\n",
       "</g>\n",
       "<!-- 15 -->\n",
       "<g id=\"node16\" class=\"node\">\n",
       "<title>15</title>\n",
       "<path fill=\"none\" stroke=\"black\" d=\"M606,-157C606,-157 481,-157 481,-157 475,-157 469,-151 469,-145 469,-145 469,-101 469,-101 469,-95 475,-89 481,-89 481,-89 606,-89 606,-89 612,-89 618,-95 618,-101 618,-101 618,-145 618,-145 618,-151 612,-157 606,-157\"/>\n",
       "<text text-anchor=\"middle\" x=\"543.5\" y=\"-141.8\" font-family=\"Helvetica,sans-Serif\" font-size=\"14.00\">Fare &lt;= 25.927</text>\n",
       "<text text-anchor=\"middle\" x=\"543.5\" y=\"-126.8\" font-family=\"Helvetica,sans-Serif\" font-size=\"14.00\">entropy = 0.978</text>\n",
       "<text text-anchor=\"middle\" x=\"543.5\" y=\"-111.8\" font-family=\"Helvetica,sans-Serif\" font-size=\"14.00\">samples = 288</text>\n",
       "<text text-anchor=\"middle\" x=\"543.5\" y=\"-96.8\" font-family=\"Helvetica,sans-Serif\" font-size=\"14.00\">value = [169, 119]</text>\n",
       "</g>\n",
       "<!-- 14&#45;&gt;15 -->\n",
       "<g id=\"edge15\" class=\"edge\">\n",
       "<title>14&#45;&gt;15</title>\n",
       "<path fill=\"none\" stroke=\"black\" d=\"M693.42,-192.88C671.5,-182.81 647.26,-171.67 624.78,-161.34\"/>\n",
       "<polygon fill=\"black\" stroke=\"black\" points=\"626.14,-158.12 615.6,-157.12 623.22,-164.48 626.14,-158.12\"/>\n",
       "</g>\n",
       "<!-- 18 -->\n",
       "<g id=\"node19\" class=\"node\">\n",
       "<title>18</title>\n",
       "<path fill=\"none\" stroke=\"black\" d=\"M819,-157C819,-157 712,-157 712,-157 706,-157 700,-151 700,-145 700,-145 700,-101 700,-101 700,-95 706,-89 712,-89 712,-89 819,-89 819,-89 825,-89 831,-95 831,-101 831,-101 831,-145 831,-145 831,-151 825,-157 819,-157\"/>\n",
       "<text text-anchor=\"middle\" x=\"765.5\" y=\"-141.8\" font-family=\"Helvetica,sans-Serif\" font-size=\"14.00\">Age &lt;= 8.5</text>\n",
       "<text text-anchor=\"middle\" x=\"765.5\" y=\"-126.8\" font-family=\"Helvetica,sans-Serif\" font-size=\"14.00\">entropy = 0.955</text>\n",
       "<text text-anchor=\"middle\" x=\"765.5\" y=\"-111.8\" font-family=\"Helvetica,sans-Serif\" font-size=\"14.00\">samples = 125</text>\n",
       "<text text-anchor=\"middle\" x=\"765.5\" y=\"-96.8\" font-family=\"Helvetica,sans-Serif\" font-size=\"14.00\">value = [47, 78]</text>\n",
       "</g>\n",
       "<!-- 14&#45;&gt;18 -->\n",
       "<g id=\"edge18\" class=\"edge\">\n",
       "<title>14&#45;&gt;18</title>\n",
       "<path fill=\"none\" stroke=\"black\" d=\"M765.5,-192.88C765.5,-184.78 765.5,-175.98 765.5,-167.47\"/>\n",
       "<polygon fill=\"black\" stroke=\"black\" points=\"769,-167.3 765.5,-157.3 762,-167.3 769,-167.3\"/>\n",
       "</g>\n",
       "<!-- 16 -->\n",
       "<g id=\"node17\" class=\"node\">\n",
       "<title>16</title>\n",
       "<path fill=\"none\" stroke=\"black\" d=\"M447.5,-53C447.5,-53 331.5,-53 331.5,-53 325.5,-53 319.5,-47 319.5,-41 319.5,-41 319.5,-12 319.5,-12 319.5,-6 325.5,0 331.5,0 331.5,0 447.5,0 447.5,0 453.5,0 459.5,-6 459.5,-12 459.5,-12 459.5,-41 459.5,-41 459.5,-47 453.5,-53 447.5,-53\"/>\n",
       "<text text-anchor=\"middle\" x=\"389.5\" y=\"-37.8\" font-family=\"Helvetica,sans-Serif\" font-size=\"14.00\">entropy = 0.923</text>\n",
       "<text text-anchor=\"middle\" x=\"389.5\" y=\"-22.8\" font-family=\"Helvetica,sans-Serif\" font-size=\"14.00\">samples = 154</text>\n",
       "<text text-anchor=\"middle\" x=\"389.5\" y=\"-7.8\" font-family=\"Helvetica,sans-Serif\" font-size=\"14.00\">value = [102, 52]</text>\n",
       "</g>\n",
       "<!-- 15&#45;&gt;16 -->\n",
       "<g id=\"edge16\" class=\"edge\">\n",
       "<title>15&#45;&gt;16</title>\n",
       "<path fill=\"none\" stroke=\"black\" d=\"M489.64,-88.95C473.54,-79.07 455.95,-68.28 440.07,-58.53\"/>\n",
       "<polygon fill=\"black\" stroke=\"black\" points=\"441.8,-55.48 431.44,-53.24 438.13,-61.45 441.8,-55.48\"/>\n",
       "</g>\n",
       "<!-- 17 -->\n",
       "<g id=\"node18\" class=\"node\">\n",
       "<title>17</title>\n",
       "<path fill=\"none\" stroke=\"black\" d=\"M597,-53C597,-53 490,-53 490,-53 484,-53 478,-47 478,-41 478,-41 478,-12 478,-12 478,-6 484,0 490,0 490,0 597,0 597,0 603,0 609,-6 609,-12 609,-12 609,-41 609,-41 609,-47 603,-53 597,-53\"/>\n",
       "<text text-anchor=\"middle\" x=\"543.5\" y=\"-37.8\" font-family=\"Helvetica,sans-Serif\" font-size=\"14.00\">entropy = 1.0</text>\n",
       "<text text-anchor=\"middle\" x=\"543.5\" y=\"-22.8\" font-family=\"Helvetica,sans-Serif\" font-size=\"14.00\">samples = 134</text>\n",
       "<text text-anchor=\"middle\" x=\"543.5\" y=\"-7.8\" font-family=\"Helvetica,sans-Serif\" font-size=\"14.00\">value = [67, 67]</text>\n",
       "</g>\n",
       "<!-- 15&#45;&gt;17 -->\n",
       "<g id=\"edge17\" class=\"edge\">\n",
       "<title>15&#45;&gt;17</title>\n",
       "<path fill=\"none\" stroke=\"black\" d=\"M543.5,-88.95C543.5,-80.72 543.5,-71.85 543.5,-63.48\"/>\n",
       "<polygon fill=\"black\" stroke=\"black\" points=\"547,-63.24 543.5,-53.24 540,-63.24 547,-63.24\"/>\n",
       "</g>\n",
       "<!-- 19 -->\n",
       "<g id=\"node20\" class=\"node\">\n",
       "<title>19</title>\n",
       "<path fill=\"none\" stroke=\"black\" d=\"M737.5,-53C737.5,-53 639.5,-53 639.5,-53 633.5,-53 627.5,-47 627.5,-41 627.5,-41 627.5,-12 627.5,-12 627.5,-6 633.5,0 639.5,0 639.5,0 737.5,0 737.5,0 743.5,0 749.5,-6 749.5,-12 749.5,-12 749.5,-41 749.5,-41 749.5,-47 743.5,-53 737.5,-53\"/>\n",
       "<text text-anchor=\"middle\" x=\"688.5\" y=\"-37.8\" font-family=\"Helvetica,sans-Serif\" font-size=\"14.00\">entropy = 0.0</text>\n",
       "<text text-anchor=\"middle\" x=\"688.5\" y=\"-22.8\" font-family=\"Helvetica,sans-Serif\" font-size=\"14.00\">samples = 30</text>\n",
       "<text text-anchor=\"middle\" x=\"688.5\" y=\"-7.8\" font-family=\"Helvetica,sans-Serif\" font-size=\"14.00\">value = [0, 30]</text>\n",
       "</g>\n",
       "<!-- 18&#45;&gt;19 -->\n",
       "<g id=\"edge19\" class=\"edge\">\n",
       "<title>18&#45;&gt;19</title>\n",
       "<path fill=\"none\" stroke=\"black\" d=\"M738.57,-88.95C731.26,-79.98 723.35,-70.27 716.01,-61.26\"/>\n",
       "<polygon fill=\"black\" stroke=\"black\" points=\"718.5,-58.78 709.47,-53.24 713.07,-63.2 718.5,-58.78\"/>\n",
       "</g>\n",
       "<!-- 20 -->\n",
       "<g id=\"node21\" class=\"node\">\n",
       "<title>20</title>\n",
       "<path fill=\"none\" stroke=\"black\" d=\"M887,-53C887,-53 780,-53 780,-53 774,-53 768,-47 768,-41 768,-41 768,-12 768,-12 768,-6 774,0 780,0 780,0 887,0 887,0 893,0 899,-6 899,-12 899,-12 899,-41 899,-41 899,-47 893,-53 887,-53\"/>\n",
       "<text text-anchor=\"middle\" x=\"833.5\" y=\"-37.8\" font-family=\"Helvetica,sans-Serif\" font-size=\"14.00\">entropy = 1.0</text>\n",
       "<text text-anchor=\"middle\" x=\"833.5\" y=\"-22.8\" font-family=\"Helvetica,sans-Serif\" font-size=\"14.00\">samples = 95</text>\n",
       "<text text-anchor=\"middle\" x=\"833.5\" y=\"-7.8\" font-family=\"Helvetica,sans-Serif\" font-size=\"14.00\">value = [47, 48]</text>\n",
       "</g>\n",
       "<!-- 18&#45;&gt;20 -->\n",
       "<g id=\"edge20\" class=\"edge\">\n",
       "<title>18&#45;&gt;20</title>\n",
       "<path fill=\"none\" stroke=\"black\" d=\"M789.28,-88.95C795.67,-80.07 802.58,-70.46 809.01,-61.54\"/>\n",
       "<polygon fill=\"black\" stroke=\"black\" points=\"811.98,-63.4 814.98,-53.24 806.3,-59.31 811.98,-63.4\"/>\n",
       "</g>\n",
       "<!-- 22 -->\n",
       "<g id=\"node23\" class=\"node\">\n",
       "<title>22</title>\n",
       "<path fill=\"none\" stroke=\"black\" d=\"M1036,-157C1036,-157 929,-157 929,-157 923,-157 917,-151 917,-145 917,-145 917,-101 917,-101 917,-95 923,-89 929,-89 929,-89 1036,-89 1036,-89 1042,-89 1048,-95 1048,-101 1048,-101 1048,-145 1048,-145 1048,-151 1042,-157 1036,-157\"/>\n",
       "<text text-anchor=\"middle\" x=\"982.5\" y=\"-141.8\" font-family=\"Helvetica,sans-Serif\" font-size=\"14.00\">Fare &lt;= 26.683</text>\n",
       "<text text-anchor=\"middle\" x=\"982.5\" y=\"-126.8\" font-family=\"Helvetica,sans-Serif\" font-size=\"14.00\">entropy = 0.634</text>\n",
       "<text text-anchor=\"middle\" x=\"982.5\" y=\"-111.8\" font-family=\"Helvetica,sans-Serif\" font-size=\"14.00\">samples = 25</text>\n",
       "<text text-anchor=\"middle\" x=\"982.5\" y=\"-96.8\" font-family=\"Helvetica,sans-Serif\" font-size=\"14.00\">value = [21, 4]</text>\n",
       "</g>\n",
       "<!-- 21&#45;&gt;22 -->\n",
       "<g id=\"edge22\" class=\"edge\">\n",
       "<title>21&#45;&gt;22</title>\n",
       "<path fill=\"none\" stroke=\"black\" d=\"M982.5,-192.88C982.5,-184.78 982.5,-175.98 982.5,-167.47\"/>\n",
       "<polygon fill=\"black\" stroke=\"black\" points=\"986,-167.3 982.5,-157.3 979,-167.3 986,-167.3\"/>\n",
       "</g>\n",
       "<!-- 25 -->\n",
       "<g id=\"node26\" class=\"node\">\n",
       "<title>25</title>\n",
       "<path fill=\"none\" stroke=\"black\" d=\"M1176.5,-149.5C1176.5,-149.5 1078.5,-149.5 1078.5,-149.5 1072.5,-149.5 1066.5,-143.5 1066.5,-137.5 1066.5,-137.5 1066.5,-108.5 1066.5,-108.5 1066.5,-102.5 1072.5,-96.5 1078.5,-96.5 1078.5,-96.5 1176.5,-96.5 1176.5,-96.5 1182.5,-96.5 1188.5,-102.5 1188.5,-108.5 1188.5,-108.5 1188.5,-137.5 1188.5,-137.5 1188.5,-143.5 1182.5,-149.5 1176.5,-149.5\"/>\n",
       "<text text-anchor=\"middle\" x=\"1127.5\" y=\"-134.3\" font-family=\"Helvetica,sans-Serif\" font-size=\"14.00\">entropy = 0.0</text>\n",
       "<text text-anchor=\"middle\" x=\"1127.5\" y=\"-119.3\" font-family=\"Helvetica,sans-Serif\" font-size=\"14.00\">samples = 17</text>\n",
       "<text text-anchor=\"middle\" x=\"1127.5\" y=\"-104.3\" font-family=\"Helvetica,sans-Serif\" font-size=\"14.00\">value = [17, 0]</text>\n",
       "</g>\n",
       "<!-- 21&#45;&gt;25 -->\n",
       "<g id=\"edge25\" class=\"edge\">\n",
       "<title>21&#45;&gt;25</title>\n",
       "<path fill=\"none\" stroke=\"black\" d=\"M1029.58,-192.88C1046.62,-180.9 1065.81,-167.4 1082.65,-155.55\"/>\n",
       "<polygon fill=\"black\" stroke=\"black\" points=\"1085.06,-158.14 1091.22,-149.52 1081.03,-152.41 1085.06,-158.14\"/>\n",
       "</g>\n",
       "<!-- 23 -->\n",
       "<g id=\"node24\" class=\"node\">\n",
       "<title>23</title>\n",
       "<path fill=\"none\" stroke=\"black\" d=\"M1036,-53C1036,-53 929,-53 929,-53 923,-53 917,-47 917,-41 917,-41 917,-12 917,-12 917,-6 923,0 929,0 929,0 1036,0 1036,0 1042,0 1048,-6 1048,-12 1048,-12 1048,-41 1048,-41 1048,-47 1042,-53 1036,-53\"/>\n",
       "<text text-anchor=\"middle\" x=\"982.5\" y=\"-37.8\" font-family=\"Helvetica,sans-Serif\" font-size=\"14.00\">entropy = 0.764</text>\n",
       "<text text-anchor=\"middle\" x=\"982.5\" y=\"-22.8\" font-family=\"Helvetica,sans-Serif\" font-size=\"14.00\">samples = 9</text>\n",
       "<text text-anchor=\"middle\" x=\"982.5\" y=\"-7.8\" font-family=\"Helvetica,sans-Serif\" font-size=\"14.00\">value = [7, 2]</text>\n",
       "</g>\n",
       "<!-- 22&#45;&gt;23 -->\n",
       "<g id=\"edge23\" class=\"edge\">\n",
       "<title>22&#45;&gt;23</title>\n",
       "<path fill=\"none\" stroke=\"black\" d=\"M982.5,-88.95C982.5,-80.72 982.5,-71.85 982.5,-63.48\"/>\n",
       "<polygon fill=\"black\" stroke=\"black\" points=\"986,-63.24 982.5,-53.24 979,-63.24 986,-63.24\"/>\n",
       "</g>\n",
       "<!-- 24 -->\n",
       "<g id=\"node25\" class=\"node\">\n",
       "<title>24</title>\n",
       "<path fill=\"none\" stroke=\"black\" d=\"M1185,-53C1185,-53 1078,-53 1078,-53 1072,-53 1066,-47 1066,-41 1066,-41 1066,-12 1066,-12 1066,-6 1072,0 1078,0 1078,0 1185,0 1185,0 1191,0 1197,-6 1197,-12 1197,-12 1197,-41 1197,-41 1197,-47 1191,-53 1185,-53\"/>\n",
       "<text text-anchor=\"middle\" x=\"1131.5\" y=\"-37.8\" font-family=\"Helvetica,sans-Serif\" font-size=\"14.00\">entropy = 0.544</text>\n",
       "<text text-anchor=\"middle\" x=\"1131.5\" y=\"-22.8\" font-family=\"Helvetica,sans-Serif\" font-size=\"14.00\">samples = 16</text>\n",
       "<text text-anchor=\"middle\" x=\"1131.5\" y=\"-7.8\" font-family=\"Helvetica,sans-Serif\" font-size=\"14.00\">value = [14, 2]</text>\n",
       "</g>\n",
       "<!-- 22&#45;&gt;24 -->\n",
       "<g id=\"edge24\" class=\"edge\">\n",
       "<title>22&#45;&gt;24</title>\n",
       "<path fill=\"none\" stroke=\"black\" d=\"M1034.61,-88.95C1050.05,-79.16 1066.89,-68.48 1082.15,-58.8\"/>\n",
       "<polygon fill=\"black\" stroke=\"black\" points=\"1084.35,-61.55 1090.92,-53.24 1080.6,-55.64 1084.35,-61.55\"/>\n",
       "</g>\n",
       "<!-- 27 -->\n",
       "<g id=\"node28\" class=\"node\">\n",
       "<title>27</title>\n",
       "<path fill=\"none\" stroke=\"black\" d=\"M1185,-253.5C1185,-253.5 1078,-253.5 1078,-253.5 1072,-253.5 1066,-247.5 1066,-241.5 1066,-241.5 1066,-212.5 1066,-212.5 1066,-206.5 1072,-200.5 1078,-200.5 1078,-200.5 1185,-200.5 1185,-200.5 1191,-200.5 1197,-206.5 1197,-212.5 1197,-212.5 1197,-241.5 1197,-241.5 1197,-247.5 1191,-253.5 1185,-253.5\"/>\n",
       "<text text-anchor=\"middle\" x=\"1131.5\" y=\"-238.3\" font-family=\"Helvetica,sans-Serif\" font-size=\"14.00\">entropy = 0.946</text>\n",
       "<text text-anchor=\"middle\" x=\"1131.5\" y=\"-223.3\" font-family=\"Helvetica,sans-Serif\" font-size=\"14.00\">samples = 11</text>\n",
       "<text text-anchor=\"middle\" x=\"1131.5\" y=\"-208.3\" font-family=\"Helvetica,sans-Serif\" font-size=\"14.00\">value = [7, 4]</text>\n",
       "</g>\n",
       "<!-- 26&#45;&gt;27 -->\n",
       "<g id=\"edge27\" class=\"edge\">\n",
       "<title>26&#45;&gt;27</title>\n",
       "<path fill=\"none\" stroke=\"black\" d=\"M1131.5,-296.88C1131.5,-286.33 1131.5,-274.6 1131.5,-263.85\"/>\n",
       "<polygon fill=\"black\" stroke=\"black\" points=\"1135,-263.52 1131.5,-253.52 1128,-263.52 1135,-263.52\"/>\n",
       "</g>\n",
       "<!-- 28 -->\n",
       "<g id=\"node29\" class=\"node\">\n",
       "<title>28</title>\n",
       "<path fill=\"none\" stroke=\"black\" d=\"M1406,-261C1406,-261 1299,-261 1299,-261 1293,-261 1287,-255 1287,-249 1287,-249 1287,-205 1287,-205 1287,-199 1293,-193 1299,-193 1299,-193 1406,-193 1406,-193 1412,-193 1418,-199 1418,-205 1418,-205 1418,-249 1418,-249 1418,-255 1412,-261 1406,-261\"/>\n",
       "<text text-anchor=\"middle\" x=\"1352.5\" y=\"-245.8\" font-family=\"Helvetica,sans-Serif\" font-size=\"14.00\">Age &lt;= 43.5</text>\n",
       "<text text-anchor=\"middle\" x=\"1352.5\" y=\"-230.8\" font-family=\"Helvetica,sans-Serif\" font-size=\"14.00\">entropy = 0.693</text>\n",
       "<text text-anchor=\"middle\" x=\"1352.5\" y=\"-215.8\" font-family=\"Helvetica,sans-Serif\" font-size=\"14.00\">samples = 86</text>\n",
       "<text text-anchor=\"middle\" x=\"1352.5\" y=\"-200.8\" font-family=\"Helvetica,sans-Serif\" font-size=\"14.00\">value = [16, 70]</text>\n",
       "</g>\n",
       "<!-- 26&#45;&gt;28 -->\n",
       "<g id=\"edge28\" class=\"edge\">\n",
       "<title>26&#45;&gt;28</title>\n",
       "<path fill=\"none\" stroke=\"black\" d=\"M1203.25,-296.88C1226.95,-285.95 1253.37,-273.75 1277.32,-262.7\"/>\n",
       "<polygon fill=\"black\" stroke=\"black\" points=\"1279.1,-265.73 1286.72,-258.36 1276.17,-259.37 1279.1,-265.73\"/>\n",
       "</g>\n",
       "<!-- 29 -->\n",
       "<g id=\"node30\" class=\"node\">\n",
       "<title>29</title>\n",
       "<path fill=\"none\" stroke=\"black\" d=\"M1406,-157C1406,-157 1299,-157 1299,-157 1293,-157 1287,-151 1287,-145 1287,-145 1287,-101 1287,-101 1287,-95 1293,-89 1299,-89 1299,-89 1406,-89 1406,-89 1412,-89 1418,-95 1418,-101 1418,-101 1418,-145 1418,-145 1418,-151 1412,-157 1406,-157\"/>\n",
       "<text text-anchor=\"middle\" x=\"1352.5\" y=\"-141.8\" font-family=\"Helvetica,sans-Serif\" font-size=\"14.00\">Sex &lt;= 0.5</text>\n",
       "<text text-anchor=\"middle\" x=\"1352.5\" y=\"-126.8\" font-family=\"Helvetica,sans-Serif\" font-size=\"14.00\">entropy = 0.592</text>\n",
       "<text text-anchor=\"middle\" x=\"1352.5\" y=\"-111.8\" font-family=\"Helvetica,sans-Serif\" font-size=\"14.00\">samples = 63</text>\n",
       "<text text-anchor=\"middle\" x=\"1352.5\" y=\"-96.8\" font-family=\"Helvetica,sans-Serif\" font-size=\"14.00\">value = [9, 54]</text>\n",
       "</g>\n",
       "<!-- 28&#45;&gt;29 -->\n",
       "<g id=\"edge29\" class=\"edge\">\n",
       "<title>28&#45;&gt;29</title>\n",
       "<path fill=\"none\" stroke=\"black\" d=\"M1352.5,-192.88C1352.5,-184.78 1352.5,-175.98 1352.5,-167.47\"/>\n",
       "<polygon fill=\"black\" stroke=\"black\" points=\"1356,-167.3 1352.5,-157.3 1349,-167.3 1356,-167.3\"/>\n",
       "</g>\n",
       "<!-- 32 -->\n",
       "<g id=\"node33\" class=\"node\">\n",
       "<title>32</title>\n",
       "<path fill=\"none\" stroke=\"black\" d=\"M1628,-157C1628,-157 1521,-157 1521,-157 1515,-157 1509,-151 1509,-145 1509,-145 1509,-101 1509,-101 1509,-95 1515,-89 1521,-89 1521,-89 1628,-89 1628,-89 1634,-89 1640,-95 1640,-101 1640,-101 1640,-145 1640,-145 1640,-151 1634,-157 1628,-157\"/>\n",
       "<text text-anchor=\"middle\" x=\"1574.5\" y=\"-141.8\" font-family=\"Helvetica,sans-Serif\" font-size=\"14.00\">Sex &lt;= 0.5</text>\n",
       "<text text-anchor=\"middle\" x=\"1574.5\" y=\"-126.8\" font-family=\"Helvetica,sans-Serif\" font-size=\"14.00\">entropy = 0.887</text>\n",
       "<text text-anchor=\"middle\" x=\"1574.5\" y=\"-111.8\" font-family=\"Helvetica,sans-Serif\" font-size=\"14.00\">samples = 23</text>\n",
       "<text text-anchor=\"middle\" x=\"1574.5\" y=\"-96.8\" font-family=\"Helvetica,sans-Serif\" font-size=\"14.00\">value = [7, 16]</text>\n",
       "</g>\n",
       "<!-- 28&#45;&gt;32 -->\n",
       "<g id=\"edge32\" class=\"edge\">\n",
       "<title>28&#45;&gt;32</title>\n",
       "<path fill=\"none\" stroke=\"black\" d=\"M1418.21,-195.81C1443.83,-184.04 1473.33,-170.48 1499.76,-158.34\"/>\n",
       "<polygon fill=\"black\" stroke=\"black\" points=\"1501.34,-161.47 1508.96,-154.11 1498.41,-155.11 1501.34,-161.47\"/>\n",
       "</g>\n",
       "<!-- 30 -->\n",
       "<g id=\"node31\" class=\"node\">\n",
       "<title>30</title>\n",
       "<path fill=\"none\" stroke=\"black\" d=\"M1334,-53C1334,-53 1227,-53 1227,-53 1221,-53 1215,-47 1215,-41 1215,-41 1215,-12 1215,-12 1215,-6 1221,0 1227,0 1227,0 1334,0 1334,0 1340,0 1346,-6 1346,-12 1346,-12 1346,-41 1346,-41 1346,-47 1340,-53 1334,-53\"/>\n",
       "<text text-anchor=\"middle\" x=\"1280.5\" y=\"-37.8\" font-family=\"Helvetica,sans-Serif\" font-size=\"14.00\">entropy = 0.258</text>\n",
       "<text text-anchor=\"middle\" x=\"1280.5\" y=\"-22.8\" font-family=\"Helvetica,sans-Serif\" font-size=\"14.00\">samples = 46</text>\n",
       "<text text-anchor=\"middle\" x=\"1280.5\" y=\"-7.8\" font-family=\"Helvetica,sans-Serif\" font-size=\"14.00\">value = [2, 44]</text>\n",
       "</g>\n",
       "<!-- 29&#45;&gt;30 -->\n",
       "<g id=\"edge30\" class=\"edge\">\n",
       "<title>29&#45;&gt;30</title>\n",
       "<path fill=\"none\" stroke=\"black\" d=\"M1327.32,-88.95C1320.49,-79.98 1313.08,-70.27 1306.22,-61.26\"/>\n",
       "<polygon fill=\"black\" stroke=\"black\" points=\"1308.95,-59.07 1300.11,-53.24 1303.39,-63.31 1308.95,-59.07\"/>\n",
       "</g>\n",
       "<!-- 31 -->\n",
       "<g id=\"node32\" class=\"node\">\n",
       "<title>31</title>\n",
       "<path fill=\"none\" stroke=\"black\" d=\"M1483,-53C1483,-53 1376,-53 1376,-53 1370,-53 1364,-47 1364,-41 1364,-41 1364,-12 1364,-12 1364,-6 1370,0 1376,0 1376,0 1483,0 1483,0 1489,0 1495,-6 1495,-12 1495,-12 1495,-41 1495,-41 1495,-47 1489,-53 1483,-53\"/>\n",
       "<text text-anchor=\"middle\" x=\"1429.5\" y=\"-37.8\" font-family=\"Helvetica,sans-Serif\" font-size=\"14.00\">entropy = 0.977</text>\n",
       "<text text-anchor=\"middle\" x=\"1429.5\" y=\"-22.8\" font-family=\"Helvetica,sans-Serif\" font-size=\"14.00\">samples = 17</text>\n",
       "<text text-anchor=\"middle\" x=\"1429.5\" y=\"-7.8\" font-family=\"Helvetica,sans-Serif\" font-size=\"14.00\">value = [7, 10]</text>\n",
       "</g>\n",
       "<!-- 29&#45;&gt;31 -->\n",
       "<g id=\"edge31\" class=\"edge\">\n",
       "<title>29&#45;&gt;31</title>\n",
       "<path fill=\"none\" stroke=\"black\" d=\"M1379.43,-88.95C1386.74,-79.98 1394.65,-70.27 1401.99,-61.26\"/>\n",
       "<polygon fill=\"black\" stroke=\"black\" points=\"1404.93,-63.2 1408.53,-53.24 1399.5,-58.78 1404.93,-63.2\"/>\n",
       "</g>\n",
       "<!-- 33 -->\n",
       "<g id=\"node34\" class=\"node\">\n",
       "<title>33</title>\n",
       "<path fill=\"none\" stroke=\"black\" d=\"M1623.5,-53C1623.5,-53 1525.5,-53 1525.5,-53 1519.5,-53 1513.5,-47 1513.5,-41 1513.5,-41 1513.5,-12 1513.5,-12 1513.5,-6 1519.5,0 1525.5,0 1525.5,0 1623.5,0 1623.5,0 1629.5,0 1635.5,-6 1635.5,-12 1635.5,-12 1635.5,-41 1635.5,-41 1635.5,-47 1629.5,-53 1623.5,-53\"/>\n",
       "<text text-anchor=\"middle\" x=\"1574.5\" y=\"-37.8\" font-family=\"Helvetica,sans-Serif\" font-size=\"14.00\">entropy = 0.0</text>\n",
       "<text text-anchor=\"middle\" x=\"1574.5\" y=\"-22.8\" font-family=\"Helvetica,sans-Serif\" font-size=\"14.00\">samples = 12</text>\n",
       "<text text-anchor=\"middle\" x=\"1574.5\" y=\"-7.8\" font-family=\"Helvetica,sans-Serif\" font-size=\"14.00\">value = [0, 12]</text>\n",
       "</g>\n",
       "<!-- 32&#45;&gt;33 -->\n",
       "<g id=\"edge33\" class=\"edge\">\n",
       "<title>32&#45;&gt;33</title>\n",
       "<path fill=\"none\" stroke=\"black\" d=\"M1574.5,-88.95C1574.5,-80.72 1574.5,-71.85 1574.5,-63.48\"/>\n",
       "<polygon fill=\"black\" stroke=\"black\" points=\"1578,-63.24 1574.5,-53.24 1571,-63.24 1578,-63.24\"/>\n",
       "</g>\n",
       "<!-- 34 -->\n",
       "<g id=\"node35\" class=\"node\">\n",
       "<title>34</title>\n",
       "<path fill=\"none\" stroke=\"black\" d=\"M1773,-53C1773,-53 1666,-53 1666,-53 1660,-53 1654,-47 1654,-41 1654,-41 1654,-12 1654,-12 1654,-6 1660,0 1666,0 1666,0 1773,0 1773,0 1779,0 1785,-6 1785,-12 1785,-12 1785,-41 1785,-41 1785,-47 1779,-53 1773,-53\"/>\n",
       "<text text-anchor=\"middle\" x=\"1719.5\" y=\"-37.8\" font-family=\"Helvetica,sans-Serif\" font-size=\"14.00\">entropy = 0.946</text>\n",
       "<text text-anchor=\"middle\" x=\"1719.5\" y=\"-22.8\" font-family=\"Helvetica,sans-Serif\" font-size=\"14.00\">samples = 11</text>\n",
       "<text text-anchor=\"middle\" x=\"1719.5\" y=\"-7.8\" font-family=\"Helvetica,sans-Serif\" font-size=\"14.00\">value = [7, 4]</text>\n",
       "</g>\n",
       "<!-- 32&#45;&gt;34 -->\n",
       "<g id=\"edge34\" class=\"edge\">\n",
       "<title>32&#45;&gt;34</title>\n",
       "<path fill=\"none\" stroke=\"black\" d=\"M1625.21,-88.95C1640.23,-79.16 1656.63,-68.48 1671.47,-58.8\"/>\n",
       "<polygon fill=\"black\" stroke=\"black\" points=\"1673.54,-61.63 1680.01,-53.24 1669.72,-55.76 1673.54,-61.63\"/>\n",
       "</g>\n",
       "</g>\n",
       "</svg>\n"
      ],
      "text/plain": [
       "<graphviz.files.Source at 0x7f4244649310>"
      ]
     },
     "execution_count": 18,
     "metadata": {},
     "output_type": "execute_result"
    }
   ],
   "source": [
    "from sklearn import tree\n",
    "import graphviz \n",
    "dot_data = tree.export_graphviz(dtree, feature_names=X_train.columns, rounded=True)\n",
    "graph = graphviz.Source(dot_data) \n",
    "graph"
   ]
  },
  {
   "cell_type": "markdown",
   "id": "540b3f11",
   "metadata": {
    "papermill": {
     "duration": 0.045578,
     "end_time": "2022-10-02T17:21:17.747566",
     "exception": false,
     "start_time": "2022-10-02T17:21:17.701988",
     "status": "completed"
    },
    "tags": []
   },
   "source": [
    "# Test Data"
   ]
  },
  {
   "cell_type": "code",
   "execution_count": 19,
   "id": "eb7dbe1e",
   "metadata": {
    "execution": {
     "iopub.execute_input": "2022-10-02T17:21:17.842451Z",
     "iopub.status.busy": "2022-10-02T17:21:17.841987Z",
     "iopub.status.idle": "2022-10-02T17:21:17.865249Z",
     "shell.execute_reply": "2022-10-02T17:21:17.864586Z"
    },
    "papermill": {
     "duration": 0.072956,
     "end_time": "2022-10-02T17:21:17.867202",
     "exception": false,
     "start_time": "2022-10-02T17:21:17.794246",
     "status": "completed"
    },
    "tags": []
   },
   "outputs": [
    {
     "data": {
      "text/html": [
       "<div>\n",
       "<style scoped>\n",
       "    .dataframe tbody tr th:only-of-type {\n",
       "        vertical-align: middle;\n",
       "    }\n",
       "\n",
       "    .dataframe tbody tr th {\n",
       "        vertical-align: top;\n",
       "    }\n",
       "\n",
       "    .dataframe thead th {\n",
       "        text-align: right;\n",
       "    }\n",
       "</style>\n",
       "<table border=\"1\" class=\"dataframe\">\n",
       "  <thead>\n",
       "    <tr style=\"text-align: right;\">\n",
       "      <th></th>\n",
       "      <th>PassengerId</th>\n",
       "      <th>Pclass</th>\n",
       "      <th>Sex</th>\n",
       "      <th>Age</th>\n",
       "      <th>SibSp</th>\n",
       "      <th>Parch</th>\n",
       "      <th>Fare</th>\n",
       "      <th>FirstClass</th>\n",
       "    </tr>\n",
       "  </thead>\n",
       "  <tbody>\n",
       "    <tr>\n",
       "      <th>0</th>\n",
       "      <td>892</td>\n",
       "      <td>3</td>\n",
       "      <td>1</td>\n",
       "      <td>34.5</td>\n",
       "      <td>0</td>\n",
       "      <td>0</td>\n",
       "      <td>7.8292</td>\n",
       "      <td>0</td>\n",
       "    </tr>\n",
       "    <tr>\n",
       "      <th>1</th>\n",
       "      <td>893</td>\n",
       "      <td>3</td>\n",
       "      <td>0</td>\n",
       "      <td>47.0</td>\n",
       "      <td>1</td>\n",
       "      <td>0</td>\n",
       "      <td>7.0000</td>\n",
       "      <td>0</td>\n",
       "    </tr>\n",
       "    <tr>\n",
       "      <th>2</th>\n",
       "      <td>894</td>\n",
       "      <td>2</td>\n",
       "      <td>1</td>\n",
       "      <td>62.0</td>\n",
       "      <td>0</td>\n",
       "      <td>0</td>\n",
       "      <td>9.6875</td>\n",
       "      <td>0</td>\n",
       "    </tr>\n",
       "    <tr>\n",
       "      <th>3</th>\n",
       "      <td>895</td>\n",
       "      <td>3</td>\n",
       "      <td>1</td>\n",
       "      <td>27.0</td>\n",
       "      <td>0</td>\n",
       "      <td>0</td>\n",
       "      <td>8.6625</td>\n",
       "      <td>0</td>\n",
       "    </tr>\n",
       "    <tr>\n",
       "      <th>4</th>\n",
       "      <td>896</td>\n",
       "      <td>3</td>\n",
       "      <td>0</td>\n",
       "      <td>22.0</td>\n",
       "      <td>1</td>\n",
       "      <td>1</td>\n",
       "      <td>12.2875</td>\n",
       "      <td>0</td>\n",
       "    </tr>\n",
       "  </tbody>\n",
       "</table>\n",
       "</div>"
      ],
      "text/plain": [
       "   PassengerId  Pclass  Sex   Age  SibSp  Parch     Fare  FirstClass\n",
       "0          892       3    1  34.5      0      0   7.8292           0\n",
       "1          893       3    0  47.0      1      0   7.0000           0\n",
       "2          894       2    1  62.0      0      0   9.6875           0\n",
       "3          895       3    1  27.0      0      0   8.6625           0\n",
       "4          896       3    0  22.0      1      1  12.2875           0"
      ]
     },
     "execution_count": 19,
     "metadata": {},
     "output_type": "execute_result"
    }
   ],
   "source": [
    "#GENDER\n",
    "test['Sex']=test['Sex'].map({'female':0,'male':1})\n",
    "test['FirstClass']=test['Pclass'].apply(lambda x: 1 if x==1 else 0)\n",
    "\n",
    "features=list(X.columns)\n",
    "test=test[features]\n",
    "\n",
    "test=test.fillna(test.mean())\n",
    "test.head()"
   ]
  },
  {
   "cell_type": "markdown",
   "id": "acee31d8",
   "metadata": {
    "papermill": {
     "duration": 0.048579,
     "end_time": "2022-10-02T17:21:17.962397",
     "exception": false,
     "start_time": "2022-10-02T17:21:17.913818",
     "status": "completed"
    },
    "tags": []
   },
   "source": [
    "# Final Prediction"
   ]
  },
  {
   "cell_type": "code",
   "execution_count": 20,
   "id": "2646a2d5",
   "metadata": {
    "execution": {
     "iopub.execute_input": "2022-10-02T17:21:18.057746Z",
     "iopub.status.busy": "2022-10-02T17:21:18.057422Z",
     "iopub.status.idle": "2022-10-02T17:21:18.070818Z",
     "shell.execute_reply": "2022-10-02T17:21:18.069866Z"
    },
    "papermill": {
     "duration": 0.063936,
     "end_time": "2022-10-02T17:21:18.073136",
     "exception": false,
     "start_time": "2022-10-02T17:21:18.009200",
     "status": "completed"
    },
    "tags": []
   },
   "outputs": [
    {
     "data": {
      "text/html": [
       "<div>\n",
       "<style scoped>\n",
       "    .dataframe tbody tr th:only-of-type {\n",
       "        vertical-align: middle;\n",
       "    }\n",
       "\n",
       "    .dataframe tbody tr th {\n",
       "        vertical-align: top;\n",
       "    }\n",
       "\n",
       "    .dataframe thead th {\n",
       "        text-align: right;\n",
       "    }\n",
       "</style>\n",
       "<table border=\"1\" class=\"dataframe\">\n",
       "  <thead>\n",
       "    <tr style=\"text-align: right;\">\n",
       "      <th></th>\n",
       "      <th>PassengerId</th>\n",
       "      <th>Survived</th>\n",
       "    </tr>\n",
       "  </thead>\n",
       "  <tbody>\n",
       "    <tr>\n",
       "      <th>0</th>\n",
       "      <td>892</td>\n",
       "      <td>0</td>\n",
       "    </tr>\n",
       "    <tr>\n",
       "      <th>1</th>\n",
       "      <td>893</td>\n",
       "      <td>1</td>\n",
       "    </tr>\n",
       "    <tr>\n",
       "      <th>2</th>\n",
       "      <td>894</td>\n",
       "      <td>0</td>\n",
       "    </tr>\n",
       "    <tr>\n",
       "      <th>3</th>\n",
       "      <td>895</td>\n",
       "      <td>0</td>\n",
       "    </tr>\n",
       "    <tr>\n",
       "      <th>4</th>\n",
       "      <td>896</td>\n",
       "      <td>1</td>\n",
       "    </tr>\n",
       "    <tr>\n",
       "      <th>5</th>\n",
       "      <td>897</td>\n",
       "      <td>0</td>\n",
       "    </tr>\n",
       "    <tr>\n",
       "      <th>6</th>\n",
       "      <td>898</td>\n",
       "      <td>1</td>\n",
       "    </tr>\n",
       "  </tbody>\n",
       "</table>\n",
       "</div>"
      ],
      "text/plain": [
       "   PassengerId  Survived\n",
       "0          892         0\n",
       "1          893         1\n",
       "2          894         0\n",
       "3          895         0\n",
       "4          896         1\n",
       "5          897         0\n",
       "6          898         1"
      ]
     },
     "execution_count": 20,
     "metadata": {},
     "output_type": "execute_result"
    }
   ],
   "source": [
    "test_predictions = dtree.predict(test)\n",
    "passID=test['PassengerId']\n",
    "tupleData = list(zip(passID, test_predictions))\n",
    "output = pd.DataFrame(tupleData, columns = ['PassengerId', 'Survived'])\n",
    "output.head(7)"
   ]
  },
  {
   "cell_type": "code",
   "execution_count": 21,
   "id": "632c460f",
   "metadata": {
    "execution": {
     "iopub.execute_input": "2022-10-02T17:21:18.169849Z",
     "iopub.status.busy": "2022-10-02T17:21:18.169528Z",
     "iopub.status.idle": "2022-10-02T17:21:18.178307Z",
     "shell.execute_reply": "2022-10-02T17:21:18.177320Z"
    },
    "papermill": {
     "duration": 0.059606,
     "end_time": "2022-10-02T17:21:18.180316",
     "exception": false,
     "start_time": "2022-10-02T17:21:18.120710",
     "status": "completed"
    },
    "tags": []
   },
   "outputs": [
    {
     "name": "stdout",
     "output_type": "stream",
     "text": [
      "Your submission was successfully saved!\n"
     ]
    }
   ],
   "source": [
    "output.to_csv('submission.csv', index=False)\n",
    "print(\"Your submission was successfully saved!\")"
   ]
  },
  {
   "cell_type": "markdown",
   "id": "4f247ced",
   "metadata": {
    "papermill": {
     "duration": 0.047522,
     "end_time": "2022-10-02T17:21:18.276064",
     "exception": false,
     "start_time": "2022-10-02T17:21:18.228542",
     "status": "completed"
    },
    "tags": []
   },
   "source": [
    "#### Notes:\n",
    "Being a wife makes no difference in the final prediction: <br>\n",
    "` df['Titles'] = df['Name'].str.extract(r', (\\w+\\.)') \n",
    "df['Titles'] = df['Titles'].apply(lambda x: 1 if x=='Mrs.' else 0) `\n",
    "\n",
    "Generally, your performance will not change whether you use Gini impurity or Entropy. Laura Elena Raileanu and Kilian Stoffel compared both in \"Theoretical comparison between the gini index and information gain criteria\". The most important remarks were:\n",
    "\n",
    "It only matters in 2% of the cases whether you use gini impurity or entropy.\n",
    "Entropy might be a little slower to compute (because it makes use of the logarithm).\n",
    "I was once told that both metrics exist because they emerged in different disciplines of science.\n",
    "https://datascience.stackexchange.com/questions/10228/when-should-i-use-gini-impurity-as-opposed-to-information-gain-entropy"
   ]
  }
 ],
 "metadata": {
  "kernelspec": {
   "display_name": "Python 3",
   "language": "python",
   "name": "python3"
  },
  "language_info": {
   "codemirror_mode": {
    "name": "ipython",
    "version": 3
   },
   "file_extension": ".py",
   "mimetype": "text/x-python",
   "name": "python",
   "nbconvert_exporter": "python",
   "pygments_lexer": "ipython3",
   "version": "3.7.12"
  },
  "papermill": {
   "default_parameters": {},
   "duration": 37.280083,
   "end_time": "2022-10-02T17:21:19.246432",
   "environment_variables": {},
   "exception": null,
   "input_path": "__notebook__.ipynb",
   "output_path": "__notebook__.ipynb",
   "parameters": {},
   "start_time": "2022-10-02T17:20:41.966349",
   "version": "2.3.4"
  }
 },
 "nbformat": 4,
 "nbformat_minor": 5
}
