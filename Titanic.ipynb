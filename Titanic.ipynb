{
 "cells": [
  {
   "cell_type": "markdown",
   "id": "5f3a2f43",
   "metadata": {
    "papermill": {
     "duration": 0.052666,
     "end_time": "2022-05-11T14:02:49.710786",
     "exception": false,
     "start_time": "2022-05-11T14:02:49.658120",
     "status": "completed"
    },
    "tags": []
   },
   "source": [
    "# Machine Learning Titanic \n",
    "Use machine learning to create a model that predicts which passengers survived the Titanic shipwreck. The gradient classifier and logistic regression are the best two models that provide the highest best score. Interestingly, the gradient classifier does not have a high AUC but the results cross validate into the test dataset without overfitting the data. "
   ]
  },
  {
   "cell_type": "markdown",
   "id": "692c7fc7",
   "metadata": {
    "papermill": {
     "duration": 0.053212,
     "end_time": "2022-05-11T14:02:49.815664",
     "exception": false,
     "start_time": "2022-05-11T14:02:49.762452",
     "status": "completed"
    },
    "tags": []
   },
   "source": [
    "# Metrics\n",
    "The AUC regression results:\n",
    "* Logistic reg    0.8759\n",
    "* Linear reg      0.8765\n",
    "* Graident reg    0.8739\n",
    "* Decision reg    0.8667\n",
    "* Forest reg      0.8503\n",
    "* Knn reg         0.645\n",
    "\n",
    "The AUC classifier results:\n",
    "* Forest   Classifier     0.8503 || MAE  0.19\n",
    "* Gradient Classifier     0.7609 || MSE 0.2090\n",
    "* Decision Classifier     0.7345 || MSE  0.4771 \n",
    "* KNN      Classifier     0.5975 || MSE  0.5325"
   ]
  },
  {
   "cell_type": "markdown",
   "id": "92f83e0c",
   "metadata": {
    "papermill": {
     "duration": 0.052342,
     "end_time": "2022-05-11T14:02:49.919139",
     "exception": false,
     "start_time": "2022-05-11T14:02:49.866797",
     "status": "completed"
    },
    "tags": []
   },
   "source": [
    "# Train Data\n",
    "Train.csv will contain the details of a subset of the passengers on board (891 to be exact) and whether they survive or not. The shape of the train data is (891, 12). "
   ]
  },
  {
   "cell_type": "code",
   "execution_count": 1,
   "id": "144a3b95",
   "metadata": {
    "execution": {
     "iopub.execute_input": "2022-05-11T14:02:50.024884Z",
     "iopub.status.busy": "2022-05-11T14:02:50.023787Z",
     "iopub.status.idle": "2022-05-11T14:02:51.707497Z",
     "shell.execute_reply": "2022-05-11T14:02:51.706756Z"
    },
    "papermill": {
     "duration": 1.740332,
     "end_time": "2022-05-11T14:02:51.711670",
     "exception": false,
     "start_time": "2022-05-11T14:02:49.971338",
     "status": "completed"
    },
    "tags": []
   },
   "outputs": [
    {
     "name": "stdout",
     "output_type": "stream",
     "text": [
      "(891, 12)\n"
     ]
    },
    {
     "data": {
      "text/html": [
       "<div>\n",
       "<style scoped>\n",
       "    .dataframe tbody tr th:only-of-type {\n",
       "        vertical-align: middle;\n",
       "    }\n",
       "\n",
       "    .dataframe tbody tr th {\n",
       "        vertical-align: top;\n",
       "    }\n",
       "\n",
       "    .dataframe thead th {\n",
       "        text-align: right;\n",
       "    }\n",
       "</style>\n",
       "<table border=\"1\" class=\"dataframe\">\n",
       "  <thead>\n",
       "    <tr style=\"text-align: right;\">\n",
       "      <th></th>\n",
       "      <th>PassengerId</th>\n",
       "      <th>Survived</th>\n",
       "      <th>Pclass</th>\n",
       "      <th>Name</th>\n",
       "      <th>Sex</th>\n",
       "      <th>Age</th>\n",
       "      <th>SibSp</th>\n",
       "      <th>Parch</th>\n",
       "      <th>Ticket</th>\n",
       "      <th>Fare</th>\n",
       "      <th>Cabin</th>\n",
       "      <th>Embarked</th>\n",
       "    </tr>\n",
       "  </thead>\n",
       "  <tbody>\n",
       "    <tr>\n",
       "      <th>0</th>\n",
       "      <td>1</td>\n",
       "      <td>0</td>\n",
       "      <td>3</td>\n",
       "      <td>Braund, Mr. Owen Harris</td>\n",
       "      <td>male</td>\n",
       "      <td>22.0</td>\n",
       "      <td>1</td>\n",
       "      <td>0</td>\n",
       "      <td>A/5 21171</td>\n",
       "      <td>7.2500</td>\n",
       "      <td>NaN</td>\n",
       "      <td>S</td>\n",
       "    </tr>\n",
       "    <tr>\n",
       "      <th>1</th>\n",
       "      <td>2</td>\n",
       "      <td>1</td>\n",
       "      <td>1</td>\n",
       "      <td>Cumings, Mrs. John Bradley (Florence Briggs Th...</td>\n",
       "      <td>female</td>\n",
       "      <td>38.0</td>\n",
       "      <td>1</td>\n",
       "      <td>0</td>\n",
       "      <td>PC 17599</td>\n",
       "      <td>71.2833</td>\n",
       "      <td>C85</td>\n",
       "      <td>C</td>\n",
       "    </tr>\n",
       "    <tr>\n",
       "      <th>2</th>\n",
       "      <td>3</td>\n",
       "      <td>1</td>\n",
       "      <td>3</td>\n",
       "      <td>Heikkinen, Miss. Laina</td>\n",
       "      <td>female</td>\n",
       "      <td>26.0</td>\n",
       "      <td>0</td>\n",
       "      <td>0</td>\n",
       "      <td>STON/O2. 3101282</td>\n",
       "      <td>7.9250</td>\n",
       "      <td>NaN</td>\n",
       "      <td>S</td>\n",
       "    </tr>\n",
       "    <tr>\n",
       "      <th>3</th>\n",
       "      <td>4</td>\n",
       "      <td>1</td>\n",
       "      <td>1</td>\n",
       "      <td>Futrelle, Mrs. Jacques Heath (Lily May Peel)</td>\n",
       "      <td>female</td>\n",
       "      <td>35.0</td>\n",
       "      <td>1</td>\n",
       "      <td>0</td>\n",
       "      <td>113803</td>\n",
       "      <td>53.1000</td>\n",
       "      <td>C123</td>\n",
       "      <td>S</td>\n",
       "    </tr>\n",
       "    <tr>\n",
       "      <th>4</th>\n",
       "      <td>5</td>\n",
       "      <td>0</td>\n",
       "      <td>3</td>\n",
       "      <td>Allen, Mr. William Henry</td>\n",
       "      <td>male</td>\n",
       "      <td>35.0</td>\n",
       "      <td>0</td>\n",
       "      <td>0</td>\n",
       "      <td>373450</td>\n",
       "      <td>8.0500</td>\n",
       "      <td>NaN</td>\n",
       "      <td>S</td>\n",
       "    </tr>\n",
       "  </tbody>\n",
       "</table>\n",
       "</div>"
      ],
      "text/plain": [
       "   PassengerId  Survived  Pclass  \\\n",
       "0            1         0       3   \n",
       "1            2         1       1   \n",
       "2            3         1       3   \n",
       "3            4         1       1   \n",
       "4            5         0       3   \n",
       "\n",
       "                                                Name     Sex   Age  SibSp  \\\n",
       "0                            Braund, Mr. Owen Harris    male  22.0      1   \n",
       "1  Cumings, Mrs. John Bradley (Florence Briggs Th...  female  38.0      1   \n",
       "2                             Heikkinen, Miss. Laina  female  26.0      0   \n",
       "3       Futrelle, Mrs. Jacques Heath (Lily May Peel)  female  35.0      1   \n",
       "4                           Allen, Mr. William Henry    male  35.0      0   \n",
       "\n",
       "   Parch            Ticket     Fare Cabin Embarked  \n",
       "0      0         A/5 21171   7.2500   NaN        S  \n",
       "1      0          PC 17599  71.2833   C85        C  \n",
       "2      0  STON/O2. 3101282   7.9250   NaN        S  \n",
       "3      0            113803  53.1000  C123        S  \n",
       "4      0            373450   8.0500   NaN        S  "
      ]
     },
     "execution_count": 1,
     "metadata": {},
     "output_type": "execute_result"
    }
   ],
   "source": [
    "import numpy as np\n",
    "import pandas as pd\n",
    "import seaborn as sns\n",
    "import matplotlib.pyplot as plt\n",
    "from sklearn.model_selection import train_test_split, cross_validate\n",
    "from statistics import mean\n",
    "from sklearn.metrics import accuracy_score, classification_report, mean_absolute_error, mean_squared_error, r2_score\n",
    "from sklearn.datasets import make_classification\n",
    "from sklearn import ensemble\n",
    "import sklearn.metrics as metrics\n",
    "import time\n",
    "from math import sqrt\n",
    "\n",
    "train=r'/kaggle/input/titanic/train.csv'\n",
    "test=r'/kaggle/input/titanic/test.csv'\n",
    "\n",
    "df=pd.read_csv(train)\n",
    "print(df.shape)\n",
    "df.head()"
   ]
  },
  {
   "cell_type": "code",
   "execution_count": 2,
   "id": "bfd61b0b",
   "metadata": {
    "execution": {
     "iopub.execute_input": "2022-05-11T14:02:51.820979Z",
     "iopub.status.busy": "2022-05-11T14:02:51.820638Z",
     "iopub.status.idle": "2022-05-11T14:02:51.828120Z",
     "shell.execute_reply": "2022-05-11T14:02:51.827448Z"
    },
    "papermill": {
     "duration": 0.065571,
     "end_time": "2022-05-11T14:02:51.830242",
     "exception": false,
     "start_time": "2022-05-11T14:02:51.764671",
     "status": "completed"
    },
    "tags": []
   },
   "outputs": [
    {
     "data": {
      "text/plain": [
       "PassengerId      int64\n",
       "Survived         int64\n",
       "Pclass           int64\n",
       "Name            object\n",
       "Sex             object\n",
       "Age            float64\n",
       "SibSp            int64\n",
       "Parch            int64\n",
       "Ticket          object\n",
       "Fare           float64\n",
       "Cabin           object\n",
       "Embarked        object\n",
       "dtype: object"
      ]
     },
     "execution_count": 2,
     "metadata": {},
     "output_type": "execute_result"
    }
   ],
   "source": [
    "df.dtypes"
   ]
  },
  {
   "cell_type": "code",
   "execution_count": 3,
   "id": "ccb1f0d8",
   "metadata": {
    "execution": {
     "iopub.execute_input": "2022-05-11T14:02:51.940272Z",
     "iopub.status.busy": "2022-05-11T14:02:51.939685Z",
     "iopub.status.idle": "2022-05-11T14:02:51.964998Z",
     "shell.execute_reply": "2022-05-11T14:02:51.963625Z"
    },
    "papermill": {
     "duration": 0.083179,
     "end_time": "2022-05-11T14:02:51.967463",
     "exception": false,
     "start_time": "2022-05-11T14:02:51.884284",
     "status": "completed"
    },
    "tags": []
   },
   "outputs": [
    {
     "name": "stdout",
     "output_type": "stream",
     "text": [
      "Total no of duplicate values in Training Dataset = 0\n"
     ]
    },
    {
     "data": {
      "text/html": [
       "<div>\n",
       "<style scoped>\n",
       "    .dataframe tbody tr th:only-of-type {\n",
       "        vertical-align: middle;\n",
       "    }\n",
       "\n",
       "    .dataframe tbody tr th {\n",
       "        vertical-align: top;\n",
       "    }\n",
       "\n",
       "    .dataframe thead th {\n",
       "        text-align: right;\n",
       "    }\n",
       "</style>\n",
       "<table border=\"1\" class=\"dataframe\">\n",
       "  <thead>\n",
       "    <tr style=\"text-align: right;\">\n",
       "      <th></th>\n",
       "      <th>PassengerId</th>\n",
       "      <th>Survived</th>\n",
       "      <th>Pclass</th>\n",
       "      <th>Name</th>\n",
       "      <th>Sex</th>\n",
       "      <th>Age</th>\n",
       "      <th>SibSp</th>\n",
       "      <th>Parch</th>\n",
       "      <th>Ticket</th>\n",
       "      <th>Fare</th>\n",
       "      <th>Cabin</th>\n",
       "      <th>Embarked</th>\n",
       "    </tr>\n",
       "  </thead>\n",
       "  <tbody>\n",
       "  </tbody>\n",
       "</table>\n",
       "</div>"
      ],
      "text/plain": [
       "Empty DataFrame\n",
       "Columns: [PassengerId, Survived, Pclass, Name, Sex, Age, SibSp, Parch, Ticket, Fare, Cabin, Embarked]\n",
       "Index: []"
      ]
     },
     "execution_count": 3,
     "metadata": {},
     "output_type": "execute_result"
    }
   ],
   "source": [
    "dupstr = df.duplicated()\n",
    "print('Total no of duplicate values in Training Dataset = %d' % (dupstr.sum()))\n",
    "\n",
    "df[dupstr]"
   ]
  },
  {
   "cell_type": "code",
   "execution_count": 4,
   "id": "ebf0f222",
   "metadata": {
    "execution": {
     "iopub.execute_input": "2022-05-11T14:02:52.078441Z",
     "iopub.status.busy": "2022-05-11T14:02:52.077258Z",
     "iopub.status.idle": "2022-05-11T14:02:52.087066Z",
     "shell.execute_reply": "2022-05-11T14:02:52.086469Z"
    },
    "papermill": {
     "duration": 0.067414,
     "end_time": "2022-05-11T14:02:52.089219",
     "exception": false,
     "start_time": "2022-05-11T14:02:52.021805",
     "status": "completed"
    },
    "tags": []
   },
   "outputs": [
    {
     "name": "stdout",
     "output_type": "stream",
     "text": [
      "Missing data by column as a percent:\n",
      "Cabin          0.771044\n",
      "Age            0.198653\n",
      "Embarked       0.002245\n",
      "PassengerId    0.000000\n",
      "Survived       0.000000\n",
      "dtype: float64\n"
     ]
    }
   ],
   "source": [
    "#search for columns with missing values:\n",
    "def findNA():\n",
    "    print(\"Missing data by column as a percent:\")\n",
    "    findNA=df.isnull().sum().sort_values(ascending=False)/len(df)\n",
    "    print(findNA.head())\n",
    "findNA() "
   ]
  },
  {
   "cell_type": "markdown",
   "id": "ce2d5125",
   "metadata": {
    "papermill": {
     "duration": 0.053966,
     "end_time": "2022-05-11T14:02:52.197836",
     "exception": false,
     "start_time": "2022-05-11T14:02:52.143870",
     "status": "completed"
    },
    "tags": []
   },
   "source": [
    "# Feature Engineer\n",
    "We need to replace male and female into numbers. This is a very important part of the process because gender is one of the highest predictors on if a person survived or not."
   ]
  },
  {
   "cell_type": "code",
   "execution_count": 5,
   "id": "0ce25959",
   "metadata": {
    "execution": {
     "iopub.execute_input": "2022-05-11T14:02:52.308478Z",
     "iopub.status.busy": "2022-05-11T14:02:52.308135Z",
     "iopub.status.idle": "2022-05-11T14:02:52.313989Z",
     "shell.execute_reply": "2022-05-11T14:02:52.313346Z"
    },
    "papermill": {
     "duration": 0.064018,
     "end_time": "2022-05-11T14:02:52.316046",
     "exception": false,
     "start_time": "2022-05-11T14:02:52.252028",
     "status": "completed"
    },
    "tags": []
   },
   "outputs": [],
   "source": [
    "#GENDER\n",
    "df['Sex']=df['Sex'].map({'female':0,'male':1})"
   ]
  },
  {
   "cell_type": "markdown",
   "id": "86dcfe4f",
   "metadata": {
    "papermill": {
     "duration": 0.053263,
     "end_time": "2022-05-11T14:02:52.423881",
     "exception": false,
     "start_time": "2022-05-11T14:02:52.370618",
     "status": "completed"
    },
    "tags": []
   },
   "source": [
    "Females whose number is 0 had a much higher chance of surving than males. Later on, doing the importance feature analysis we will view that gender is actually one of the highest predictors. "
   ]
  },
  {
   "cell_type": "code",
   "execution_count": 6,
   "id": "fb9fd59f",
   "metadata": {
    "execution": {
     "iopub.execute_input": "2022-05-11T14:02:52.533763Z",
     "iopub.status.busy": "2022-05-11T14:02:52.533154Z",
     "iopub.status.idle": "2022-05-11T14:02:52.563543Z",
     "shell.execute_reply": "2022-05-11T14:02:52.562849Z"
    },
    "papermill": {
     "duration": 0.0877,
     "end_time": "2022-05-11T14:02:52.565555",
     "exception": false,
     "start_time": "2022-05-11T14:02:52.477855",
     "status": "completed"
    },
    "tags": []
   },
   "outputs": [
    {
     "data": {
      "text/html": [
       "<div>\n",
       "<style scoped>\n",
       "    .dataframe tbody tr th:only-of-type {\n",
       "        vertical-align: middle;\n",
       "    }\n",
       "\n",
       "    .dataframe tbody tr th {\n",
       "        vertical-align: top;\n",
       "    }\n",
       "\n",
       "    .dataframe thead th {\n",
       "        text-align: right;\n",
       "    }\n",
       "</style>\n",
       "<table border=\"1\" class=\"dataframe\">\n",
       "  <thead>\n",
       "    <tr style=\"text-align: right;\">\n",
       "      <th>Sex</th>\n",
       "      <th>0</th>\n",
       "      <th>1</th>\n",
       "    </tr>\n",
       "    <tr>\n",
       "      <th>Survived</th>\n",
       "      <th></th>\n",
       "      <th></th>\n",
       "    </tr>\n",
       "  </thead>\n",
       "  <tbody>\n",
       "    <tr>\n",
       "      <th>0</th>\n",
       "      <td>81</td>\n",
       "      <td>468</td>\n",
       "    </tr>\n",
       "    <tr>\n",
       "      <th>1</th>\n",
       "      <td>233</td>\n",
       "      <td>109</td>\n",
       "    </tr>\n",
       "  </tbody>\n",
       "</table>\n",
       "</div>"
      ],
      "text/plain": [
       "Sex         0    1\n",
       "Survived          \n",
       "0          81  468\n",
       "1         233  109"
      ]
     },
     "execution_count": 6,
     "metadata": {},
     "output_type": "execute_result"
    }
   ],
   "source": [
    "genderTable = pd.crosstab(df['Survived'],df['Sex'])\n",
    "genderTable"
   ]
  },
  {
   "cell_type": "markdown",
   "id": "e6e629e6",
   "metadata": {
    "papermill": {
     "duration": 0.053989,
     "end_time": "2022-05-11T14:02:52.673810",
     "exception": false,
     "start_time": "2022-05-11T14:02:52.619821",
     "status": "completed"
    },
    "tags": []
   },
   "source": [
    "#### Embarked: \n",
    "There are three classes C, Q, and S. Class C seems to have the highest chance of survival. Class S has the lowest chance of survival. Unfornately this would tend to show that economic status seems to played a part in the decision if someone survived or not. "
   ]
  },
  {
   "cell_type": "code",
   "execution_count": 7,
   "id": "15dc30d8",
   "metadata": {
    "execution": {
     "iopub.execute_input": "2022-05-11T14:02:52.784501Z",
     "iopub.status.busy": "2022-05-11T14:02:52.783931Z",
     "iopub.status.idle": "2022-05-11T14:02:52.789697Z",
     "shell.execute_reply": "2022-05-11T14:02:52.789030Z"
    },
    "papermill": {
     "duration": 0.063297,
     "end_time": "2022-05-11T14:02:52.791505",
     "exception": false,
     "start_time": "2022-05-11T14:02:52.728208",
     "status": "completed"
    },
    "tags": []
   },
   "outputs": [
    {
     "data": {
      "text/plain": [
       "array(['S', 'C', 'Q', nan], dtype=object)"
      ]
     },
     "execution_count": 7,
     "metadata": {},
     "output_type": "execute_result"
    }
   ],
   "source": [
    "df['Embarked'].unique()"
   ]
  },
  {
   "cell_type": "code",
   "execution_count": 8,
   "id": "a7599023",
   "metadata": {
    "execution": {
     "iopub.execute_input": "2022-05-11T14:02:52.903860Z",
     "iopub.status.busy": "2022-05-11T14:02:52.903354Z",
     "iopub.status.idle": "2022-05-11T14:02:52.923441Z",
     "shell.execute_reply": "2022-05-11T14:02:52.922546Z"
    },
    "papermill": {
     "duration": 0.079424,
     "end_time": "2022-05-11T14:02:52.925621",
     "exception": false,
     "start_time": "2022-05-11T14:02:52.846197",
     "status": "completed"
    },
    "tags": []
   },
   "outputs": [
    {
     "data": {
      "text/html": [
       "<div>\n",
       "<style scoped>\n",
       "    .dataframe tbody tr th:only-of-type {\n",
       "        vertical-align: middle;\n",
       "    }\n",
       "\n",
       "    .dataframe tbody tr th {\n",
       "        vertical-align: top;\n",
       "    }\n",
       "\n",
       "    .dataframe thead th {\n",
       "        text-align: right;\n",
       "    }\n",
       "</style>\n",
       "<table border=\"1\" class=\"dataframe\">\n",
       "  <thead>\n",
       "    <tr style=\"text-align: right;\">\n",
       "      <th>Embarked</th>\n",
       "      <th>C</th>\n",
       "      <th>Q</th>\n",
       "      <th>S</th>\n",
       "    </tr>\n",
       "    <tr>\n",
       "      <th>Survived</th>\n",
       "      <th></th>\n",
       "      <th></th>\n",
       "      <th></th>\n",
       "    </tr>\n",
       "  </thead>\n",
       "  <tbody>\n",
       "    <tr>\n",
       "      <th>0</th>\n",
       "      <td>75</td>\n",
       "      <td>47</td>\n",
       "      <td>427</td>\n",
       "    </tr>\n",
       "    <tr>\n",
       "      <th>1</th>\n",
       "      <td>93</td>\n",
       "      <td>30</td>\n",
       "      <td>217</td>\n",
       "    </tr>\n",
       "  </tbody>\n",
       "</table>\n",
       "</div>"
      ],
      "text/plain": [
       "Embarked   C   Q    S\n",
       "Survived             \n",
       "0         75  47  427\n",
       "1         93  30  217"
      ]
     },
     "execution_count": 8,
     "metadata": {},
     "output_type": "execute_result"
    }
   ],
   "source": [
    "df['Embarked'].fillna(0)\n",
    "embarkedTable = pd.crosstab(df['Survived'],df['Embarked'])\n",
    "embarkedTable"
   ]
  },
  {
   "cell_type": "code",
   "execution_count": 9,
   "id": "05785983",
   "metadata": {
    "execution": {
     "iopub.execute_input": "2022-05-11T14:02:53.038969Z",
     "iopub.status.busy": "2022-05-11T14:02:53.038463Z",
     "iopub.status.idle": "2022-05-11T14:02:53.057212Z",
     "shell.execute_reply": "2022-05-11T14:02:53.056408Z"
    },
    "papermill": {
     "duration": 0.078354,
     "end_time": "2022-05-11T14:02:53.059463",
     "exception": false,
     "start_time": "2022-05-11T14:02:52.981109",
     "status": "completed"
    },
    "tags": []
   },
   "outputs": [
    {
     "data": {
      "text/html": [
       "<div>\n",
       "<style scoped>\n",
       "    .dataframe tbody tr th:only-of-type {\n",
       "        vertical-align: middle;\n",
       "    }\n",
       "\n",
       "    .dataframe tbody tr th {\n",
       "        vertical-align: top;\n",
       "    }\n",
       "\n",
       "    .dataframe thead th {\n",
       "        text-align: right;\n",
       "    }\n",
       "</style>\n",
       "<table border=\"1\" class=\"dataframe\">\n",
       "  <thead>\n",
       "    <tr style=\"text-align: right;\">\n",
       "      <th></th>\n",
       "      <th>PassengerId</th>\n",
       "      <th>Survived</th>\n",
       "      <th>Pclass</th>\n",
       "      <th>Name</th>\n",
       "      <th>Sex</th>\n",
       "      <th>Age</th>\n",
       "      <th>SibSp</th>\n",
       "      <th>Parch</th>\n",
       "      <th>Ticket</th>\n",
       "      <th>Fare</th>\n",
       "      <th>Cabin</th>\n",
       "      <th>Embarked</th>\n",
       "    </tr>\n",
       "  </thead>\n",
       "  <tbody>\n",
       "    <tr>\n",
       "      <th>0</th>\n",
       "      <td>1</td>\n",
       "      <td>0</td>\n",
       "      <td>3</td>\n",
       "      <td>Braund, Mr. Owen Harris</td>\n",
       "      <td>1</td>\n",
       "      <td>22.0</td>\n",
       "      <td>1</td>\n",
       "      <td>0</td>\n",
       "      <td>A/5 21171</td>\n",
       "      <td>7.2500</td>\n",
       "      <td>NaN</td>\n",
       "      <td>0.0</td>\n",
       "    </tr>\n",
       "    <tr>\n",
       "      <th>1</th>\n",
       "      <td>2</td>\n",
       "      <td>1</td>\n",
       "      <td>1</td>\n",
       "      <td>Cumings, Mrs. John Bradley (Florence Briggs Th...</td>\n",
       "      <td>0</td>\n",
       "      <td>38.0</td>\n",
       "      <td>1</td>\n",
       "      <td>0</td>\n",
       "      <td>PC 17599</td>\n",
       "      <td>71.2833</td>\n",
       "      <td>C85</td>\n",
       "      <td>2.0</td>\n",
       "    </tr>\n",
       "    <tr>\n",
       "      <th>2</th>\n",
       "      <td>3</td>\n",
       "      <td>1</td>\n",
       "      <td>3</td>\n",
       "      <td>Heikkinen, Miss. Laina</td>\n",
       "      <td>0</td>\n",
       "      <td>26.0</td>\n",
       "      <td>0</td>\n",
       "      <td>0</td>\n",
       "      <td>STON/O2. 3101282</td>\n",
       "      <td>7.9250</td>\n",
       "      <td>NaN</td>\n",
       "      <td>0.0</td>\n",
       "    </tr>\n",
       "    <tr>\n",
       "      <th>3</th>\n",
       "      <td>4</td>\n",
       "      <td>1</td>\n",
       "      <td>1</td>\n",
       "      <td>Futrelle, Mrs. Jacques Heath (Lily May Peel)</td>\n",
       "      <td>0</td>\n",
       "      <td>35.0</td>\n",
       "      <td>1</td>\n",
       "      <td>0</td>\n",
       "      <td>113803</td>\n",
       "      <td>53.1000</td>\n",
       "      <td>C123</td>\n",
       "      <td>0.0</td>\n",
       "    </tr>\n",
       "    <tr>\n",
       "      <th>4</th>\n",
       "      <td>5</td>\n",
       "      <td>0</td>\n",
       "      <td>3</td>\n",
       "      <td>Allen, Mr. William Henry</td>\n",
       "      <td>1</td>\n",
       "      <td>35.0</td>\n",
       "      <td>0</td>\n",
       "      <td>0</td>\n",
       "      <td>373450</td>\n",
       "      <td>8.0500</td>\n",
       "      <td>NaN</td>\n",
       "      <td>0.0</td>\n",
       "    </tr>\n",
       "  </tbody>\n",
       "</table>\n",
       "</div>"
      ],
      "text/plain": [
       "   PassengerId  Survived  Pclass  \\\n",
       "0            1         0       3   \n",
       "1            2         1       1   \n",
       "2            3         1       3   \n",
       "3            4         1       1   \n",
       "4            5         0       3   \n",
       "\n",
       "                                                Name  Sex   Age  SibSp  Parch  \\\n",
       "0                            Braund, Mr. Owen Harris    1  22.0      1      0   \n",
       "1  Cumings, Mrs. John Bradley (Florence Briggs Th...    0  38.0      1      0   \n",
       "2                             Heikkinen, Miss. Laina    0  26.0      0      0   \n",
       "3       Futrelle, Mrs. Jacques Heath (Lily May Peel)    0  35.0      1      0   \n",
       "4                           Allen, Mr. William Henry    1  35.0      0      0   \n",
       "\n",
       "             Ticket     Fare Cabin  Embarked  \n",
       "0         A/5 21171   7.2500   NaN       0.0  \n",
       "1          PC 17599  71.2833   C85       2.0  \n",
       "2  STON/O2. 3101282   7.9250   NaN       0.0  \n",
       "3            113803  53.1000  C123       0.0  \n",
       "4            373450   8.0500   NaN       0.0  "
      ]
     },
     "execution_count": 9,
     "metadata": {},
     "output_type": "execute_result"
    }
   ],
   "source": [
    "# The best classes by survival are C Q S so I gave them points in that order:\n",
    "df['Embarked']=df['Embarked'].map({'C':2,'Q':1, 'S':0})\n",
    "df.head()"
   ]
  },
  {
   "cell_type": "markdown",
   "id": "f072388b",
   "metadata": {
    "papermill": {
     "duration": 0.055838,
     "end_time": "2022-05-11T14:02:53.171122",
     "exception": false,
     "start_time": "2022-05-11T14:02:53.115284",
     "status": "completed"
    },
    "tags": []
   },
   "source": [
    "# Examine Target Variable\n",
    "Survived is the Y variable we will be analyzing. Since the survival rete is 0.384 the data is not considered unbalanced. "
   ]
  },
  {
   "cell_type": "code",
   "execution_count": 10,
   "id": "a747dbde",
   "metadata": {
    "execution": {
     "iopub.execute_input": "2022-05-11T14:02:53.285227Z",
     "iopub.status.busy": "2022-05-11T14:02:53.284627Z",
     "iopub.status.idle": "2022-05-11T14:02:53.292153Z",
     "shell.execute_reply": "2022-05-11T14:02:53.291475Z"
    },
    "papermill": {
     "duration": 0.067905,
     "end_time": "2022-05-11T14:02:53.294433",
     "exception": false,
     "start_time": "2022-05-11T14:02:53.226528",
     "status": "completed"
    },
    "tags": []
   },
   "outputs": [
    {
     "name": "stdout",
     "output_type": "stream",
     "text": [
      "0    549\n",
      "1    342\n",
      "Name: Survived, dtype: int64\n",
      "Percent that survived:  0.384\n"
     ]
    }
   ],
   "source": [
    "temp=df['Survived'].value_counts()\n",
    "print(temp)\n",
    "no=temp[0]\n",
    "yes=temp[1]\n",
    "percent=round(yes/(yes+no),3)\n",
    "print(\"Percent that survived: \", percent)"
   ]
  },
  {
   "cell_type": "markdown",
   "id": "3b6afb1d",
   "metadata": {
    "papermill": {
     "duration": 0.055761,
     "end_time": "2022-05-11T14:02:53.407901",
     "exception": false,
     "start_time": "2022-05-11T14:02:53.352140",
     "status": "completed"
    },
    "tags": []
   },
   "source": [
    "# Numeric DataFrame\n",
    "For now, we will analyze only numeric values. Categorical values will need to be encoded or analyzed individually."
   ]
  },
  {
   "cell_type": "code",
   "execution_count": 11,
   "id": "a34483c6",
   "metadata": {
    "execution": {
     "iopub.execute_input": "2022-05-11T14:02:53.523174Z",
     "iopub.status.busy": "2022-05-11T14:02:53.522187Z",
     "iopub.status.idle": "2022-05-11T14:02:53.540179Z",
     "shell.execute_reply": "2022-05-11T14:02:53.539370Z"
    },
    "papermill": {
     "duration": 0.0782,
     "end_time": "2022-05-11T14:02:53.542437",
     "exception": false,
     "start_time": "2022-05-11T14:02:53.464237",
     "status": "completed"
    },
    "tags": []
   },
   "outputs": [
    {
     "data": {
      "text/html": [
       "<div>\n",
       "<style scoped>\n",
       "    .dataframe tbody tr th:only-of-type {\n",
       "        vertical-align: middle;\n",
       "    }\n",
       "\n",
       "    .dataframe tbody tr th {\n",
       "        vertical-align: top;\n",
       "    }\n",
       "\n",
       "    .dataframe thead th {\n",
       "        text-align: right;\n",
       "    }\n",
       "</style>\n",
       "<table border=\"1\" class=\"dataframe\">\n",
       "  <thead>\n",
       "    <tr style=\"text-align: right;\">\n",
       "      <th></th>\n",
       "      <th>PassengerId</th>\n",
       "      <th>Survived</th>\n",
       "      <th>Pclass</th>\n",
       "      <th>Sex</th>\n",
       "      <th>Age</th>\n",
       "      <th>SibSp</th>\n",
       "      <th>Parch</th>\n",
       "      <th>Fare</th>\n",
       "      <th>Embarked</th>\n",
       "    </tr>\n",
       "  </thead>\n",
       "  <tbody>\n",
       "    <tr>\n",
       "      <th>0</th>\n",
       "      <td>1</td>\n",
       "      <td>0</td>\n",
       "      <td>3</td>\n",
       "      <td>1</td>\n",
       "      <td>22.0</td>\n",
       "      <td>1</td>\n",
       "      <td>0</td>\n",
       "      <td>7.2500</td>\n",
       "      <td>0.0</td>\n",
       "    </tr>\n",
       "    <tr>\n",
       "      <th>1</th>\n",
       "      <td>2</td>\n",
       "      <td>1</td>\n",
       "      <td>1</td>\n",
       "      <td>0</td>\n",
       "      <td>38.0</td>\n",
       "      <td>1</td>\n",
       "      <td>0</td>\n",
       "      <td>71.2833</td>\n",
       "      <td>2.0</td>\n",
       "    </tr>\n",
       "    <tr>\n",
       "      <th>2</th>\n",
       "      <td>3</td>\n",
       "      <td>1</td>\n",
       "      <td>3</td>\n",
       "      <td>0</td>\n",
       "      <td>26.0</td>\n",
       "      <td>0</td>\n",
       "      <td>0</td>\n",
       "      <td>7.9250</td>\n",
       "      <td>0.0</td>\n",
       "    </tr>\n",
       "    <tr>\n",
       "      <th>3</th>\n",
       "      <td>4</td>\n",
       "      <td>1</td>\n",
       "      <td>1</td>\n",
       "      <td>0</td>\n",
       "      <td>35.0</td>\n",
       "      <td>1</td>\n",
       "      <td>0</td>\n",
       "      <td>53.1000</td>\n",
       "      <td>0.0</td>\n",
       "    </tr>\n",
       "    <tr>\n",
       "      <th>4</th>\n",
       "      <td>5</td>\n",
       "      <td>0</td>\n",
       "      <td>3</td>\n",
       "      <td>1</td>\n",
       "      <td>35.0</td>\n",
       "      <td>0</td>\n",
       "      <td>0</td>\n",
       "      <td>8.0500</td>\n",
       "      <td>0.0</td>\n",
       "    </tr>\n",
       "  </tbody>\n",
       "</table>\n",
       "</div>"
      ],
      "text/plain": [
       "   PassengerId  Survived  Pclass  Sex   Age  SibSp  Parch     Fare  Embarked\n",
       "0            1         0       3    1  22.0      1      0   7.2500       0.0\n",
       "1            2         1       1    0  38.0      1      0  71.2833       2.0\n",
       "2            3         1       3    0  26.0      0      0   7.9250       0.0\n",
       "3            4         1       1    0  35.0      1      0  53.1000       0.0\n",
       "4            5         0       3    1  35.0      0      0   8.0500       0.0"
      ]
     },
     "execution_count": 11,
     "metadata": {},
     "output_type": "execute_result"
    }
   ],
   "source": [
    "numerics = ['int16', 'int32', 'int64', 'float16', 'float32', 'float64']\n",
    "df = df.select_dtypes(include=numerics)\n",
    "df.head()"
   ]
  },
  {
   "cell_type": "markdown",
   "id": "6685a1d6",
   "metadata": {
    "papermill": {
     "duration": 0.056699,
     "end_time": "2022-05-11T14:02:53.656840",
     "exception": false,
     "start_time": "2022-05-11T14:02:53.600141",
     "status": "completed"
    },
    "tags": []
   },
   "source": [
    "# Check for missing values\n",
    "Age is missing around 20% of values.Therefore, we can simply fill in the mean for that one column."
   ]
  },
  {
   "cell_type": "code",
   "execution_count": 12,
   "id": "6c6f6c96",
   "metadata": {
    "execution": {
     "iopub.execute_input": "2022-05-11T14:02:53.773591Z",
     "iopub.status.busy": "2022-05-11T14:02:53.773009Z",
     "iopub.status.idle": "2022-05-11T14:02:53.783646Z",
     "shell.execute_reply": "2022-05-11T14:02:53.782226Z"
    },
    "papermill": {
     "duration": 0.073395,
     "end_time": "2022-05-11T14:02:53.787070",
     "exception": false,
     "start_time": "2022-05-11T14:02:53.713675",
     "status": "completed"
    },
    "tags": []
   },
   "outputs": [
    {
     "name": "stdout",
     "output_type": "stream",
     "text": [
      "Missing data by column as a percent:\n",
      "Age            0.198653\n",
      "Embarked       0.002245\n",
      "PassengerId    0.000000\n",
      "Survived       0.000000\n",
      "Pclass         0.000000\n",
      "dtype: float64\n"
     ]
    }
   ],
   "source": [
    "#search for columns with missing values:\n",
    "def findNA():\n",
    "    print(\"Missing data by column as a percent:\")\n",
    "    findNA=df.isnull().sum().sort_values(ascending=False)/len(df)\n",
    "    print(findNA.head())\n",
    "findNA() "
   ]
  },
  {
   "cell_type": "code",
   "execution_count": 13,
   "id": "b09733a5",
   "metadata": {
    "execution": {
     "iopub.execute_input": "2022-05-11T14:02:53.905610Z",
     "iopub.status.busy": "2022-05-11T14:02:53.905053Z",
     "iopub.status.idle": "2022-05-11T14:02:53.912156Z",
     "shell.execute_reply": "2022-05-11T14:02:53.911555Z"
    },
    "papermill": {
     "duration": 0.068559,
     "end_time": "2022-05-11T14:02:53.914204",
     "exception": false,
     "start_time": "2022-05-11T14:02:53.845645",
     "status": "completed"
    },
    "tags": []
   },
   "outputs": [],
   "source": [
    "df= df.fillna(df.mean())"
   ]
  },
  {
   "cell_type": "markdown",
   "id": "a9d7b553",
   "metadata": {
    "papermill": {
     "duration": 0.057334,
     "end_time": "2022-05-11T14:02:54.030785",
     "exception": false,
     "start_time": "2022-05-11T14:02:53.973451",
     "status": "completed"
    },
    "tags": []
   },
   "source": [
    "# Split Data"
   ]
  },
  {
   "cell_type": "code",
   "execution_count": 14,
   "id": "991cf1b2",
   "metadata": {
    "execution": {
     "iopub.execute_input": "2022-05-11T14:02:54.147906Z",
     "iopub.status.busy": "2022-05-11T14:02:54.147103Z",
     "iopub.status.idle": "2022-05-11T14:02:54.155018Z",
     "shell.execute_reply": "2022-05-11T14:02:54.154381Z"
    },
    "papermill": {
     "duration": 0.069022,
     "end_time": "2022-05-11T14:02:54.157249",
     "exception": false,
     "start_time": "2022-05-11T14:02:54.088227",
     "status": "completed"
    },
    "tags": []
   },
   "outputs": [],
   "source": [
    "X=df.drop('Survived', axis=1)\n",
    "y=df['Survived']\n",
    "\n",
    "X_train, X_test, y_train, y_test = train_test_split(\n",
    "    X, y, test_size = 0.30, random_state = 42)"
   ]
  },
  {
   "cell_type": "markdown",
   "id": "1512fc18",
   "metadata": {
    "papermill": {
     "duration": 0.056876,
     "end_time": "2022-05-11T14:02:54.271467",
     "exception": false,
     "start_time": "2022-05-11T14:02:54.214591",
     "status": "completed"
    },
    "tags": []
   },
   "source": [
    "# Highly Correlated Features\n",
    "There are no highly correlated variables above 80%. Therefore, we do not need to be concerned about removing variables that are too highly correlated. "
   ]
  },
  {
   "cell_type": "markdown",
   "id": "9077fc65",
   "metadata": {
    "papermill": {
     "duration": 0.057371,
     "end_time": "2022-05-11T14:02:54.386382",
     "exception": false,
     "start_time": "2022-05-11T14:02:54.329011",
     "status": "completed"
    },
    "tags": []
   },
   "source": [
    "# Gradient Boost \n",
    "The four parameters I tunned are max_depth, n_estimators, min_sample_split and learning_rate:\n",
    "* The best max_depth is 2\n",
    "* The best n_estimators is 500\n",
    "* The best min_sample_split with least amount of error was at 7\n",
    "* Having a higher learning rate makes AUC worse so I set it at .01\n",
    "\n",
    "The full parameter reports are below: <br>\n",
    "* 2  max_depth || AUC  0.8739  || MSE 0.1378\n",
    "* 3  max_depth || AUC  0.8689  || MSE 0.1410\n",
    "* 4  max_depth || AUC  0.86  || MSE 0.1407\n",
    "* 5  max_depth || AUC  0.8567  || MSE 0.1485\n",
    "* 100  n_estimators || AUC  0.8632  || MSE 0.1600\n",
    "* 200  n_estimators || AUC  0.8726  || MSE 0.1471\n",
    "* 300  n_estimators || AUC  0.8703  || MSE 0.1414\n",
    "* 400  n_estimators || AUC  0.8732  || MSE 0.1389\n",
    "* 500  n_estimators || AUC  0.874  || MSE 0.1378\n",
    "* 2  min_samples_splits || AUC  0.8739  || MSE 0.1378\n",
    "* 3  min_samples_splits || AUC  0.8738  || MSE 0.1378\n",
    "* 5  min_samples_splits || AUC  0.8739  || MSE 0.1378"
   ]
  },
  {
   "cell_type": "code",
   "execution_count": 15,
   "id": "9813580b",
   "metadata": {
    "execution": {
     "iopub.execute_input": "2022-05-11T14:02:54.502829Z",
     "iopub.status.busy": "2022-05-11T14:02:54.502220Z",
     "iopub.status.idle": "2022-05-11T14:02:54.526658Z",
     "shell.execute_reply": "2022-05-11T14:02:54.525957Z"
    },
    "papermill": {
     "duration": 0.085536,
     "end_time": "2022-05-11T14:02:54.529090",
     "exception": false,
     "start_time": "2022-05-11T14:02:54.443554",
     "status": "completed"
    },
    "tags": []
   },
   "outputs": [],
   "source": [
    "from sklearn.inspection import permutation_importance\n",
    "from sklearn.ensemble import GradientBoostingClassifier,GradientBoostingRegressor\n",
    "\n",
    "def gbDepth():\n",
    "    depthList=[2, 3, 4, 5]\n",
    "    \n",
    "    for d in depthList:\n",
    "        params = {\n",
    "         \"n_estimators\": 500, \"max_depth\": d, \"min_samples_split\": 5, \"learning_rate\": 0.01,\n",
    "        }\n",
    "\n",
    "        #Fit and Predict:\n",
    "        reg = ensemble.GradientBoostingRegressor(**params)\n",
    "        reg.fit(X_train, y_train)\n",
    "        y_pred = reg.predict(X_test)\n",
    "        gbr_r2 = r2_score(y_test, y_pred).round(4) \n",
    "        #print(\"Gradient boosting regression r2: \", gbr_r2) \n",
    "\n",
    "        #calculate AUC of model\n",
    "        auc = round( metrics.roc_auc_score(y_test, y_pred), 4 ) \n",
    "        mse = mean_squared_error(y_test, reg.predict(X_test)).round(4)\n",
    "        print(d,\" max_depth || AUC \", auc, \" || MSE {:.4f}\".format(mse))\n",
    "\n",
    "def gbN():\n",
    "    nList=[100, 200, 300, 400, 500]\n",
    "    \n",
    "    for n in nList:\n",
    "        params = {\n",
    "         \"n_estimators\": n, \"max_depth\": 2, \n",
    "            \"min_samples_split\": 5, \"learning_rate\": 0.01,\n",
    "        }\n",
    "\n",
    "        #Fit and Predict:\n",
    "        reg = ensemble.GradientBoostingRegressor(**params)\n",
    "        reg.fit(X_train, y_train)\n",
    "        y_pred = reg.predict(X_test)\n",
    "        gbr_r2 = r2_score(y_test, y_pred).round(4) \n",
    "        #print(\"Gradient boosting regression r2: \", gbr_r2) \n",
    "\n",
    "        #calculate AUC of model\n",
    "        auc = round( metrics.roc_auc_score(y_test, y_pred), 4 ) \n",
    "        mse = mean_squared_error(y_test, reg.predict(X_test)).round(4)\n",
    "        print(n,\" n_estimators || AUC \", auc, \" || MSE {:.4f}\".format(mse))\n",
    "\n",
    "def gbSplit():\n",
    "    sList=[2, 3, 5, 7]\n",
    "    \n",
    "    for s in sList:\n",
    "        params = {\n",
    "         \"n_estimators\": 500, \"max_depth\": 2, \"min_samples_split\": s, \"learning_rate\": 0.01,\n",
    "        }\n",
    "\n",
    "        #Fit and Predict:\n",
    "        reg = ensemble.GradientBoostingRegressor(**params)\n",
    "        reg.fit(X_train, y_train)\n",
    "        y_pred = reg.predict(X_test)\n",
    "        gbr_r2 = r2_score(y_test, y_pred).round(4) \n",
    "        #print(\"Gradient boosting regression r2: \", gbr_r2) \n",
    "\n",
    "        #calculate AUC of model\n",
    "        auc = round( metrics.roc_auc_score(y_test, y_pred), 4 ) \n",
    "        mse = mean_squared_error(y_test, reg.predict(X_test)).round(4)\n",
    "        print(s,\" min_samples_splits || AUC \", auc, \" || MSE {:.4f}\".format(mse))\n",
    "\n",
    "#Turn on or off functions here:\n",
    "#gbDepth()\n",
    "#gbN()\n",
    "#gbSplit()"
   ]
  },
  {
   "cell_type": "markdown",
   "id": "2b1770fc",
   "metadata": {
    "papermill": {
     "duration": 0.05733,
     "end_time": "2022-05-11T14:02:54.643907",
     "exception": false,
     "start_time": "2022-05-11T14:02:54.586577",
     "status": "completed"
    },
    "tags": []
   },
   "source": [
    "#### Gradient Boost Prediction\n",
    "Use functions above to find the best paramters to input below."
   ]
  },
  {
   "cell_type": "code",
   "execution_count": 16,
   "id": "1d141e12",
   "metadata": {
    "execution": {
     "iopub.execute_input": "2022-05-11T14:02:54.761706Z",
     "iopub.status.busy": "2022-05-11T14:02:54.761302Z",
     "iopub.status.idle": "2022-05-11T14:02:55.254777Z",
     "shell.execute_reply": "2022-05-11T14:02:55.254142Z"
    },
    "papermill": {
     "duration": 0.556762,
     "end_time": "2022-05-11T14:02:55.258345",
     "exception": false,
     "start_time": "2022-05-11T14:02:54.701583",
     "status": "completed"
    },
    "tags": []
   },
   "outputs": [
    {
     "name": "stdout",
     "output_type": "stream",
     "text": [
      "Gradient boosting regression r2:  0.2465\n",
      "AUC for gradient boost is:  0.7938\n",
      "The mean squared error (MSE) on test set: 0.1828\n"
     ]
    }
   ],
   "source": [
    "params = {\n",
    " \"n_estimators\": 500, \"max_depth\": 2, \n",
    "    \"min_samples_split\": 7, \"learning_rate\": 0.01,\n",
    "}\n",
    "\n",
    "#Fit and Predict:\n",
    "reg = ensemble.GradientBoostingClassifier(**params)\n",
    "reg.fit(X_train, y_train)\n",
    "y_pred = reg.predict(X_test)\n",
    "gbr_r2 = r2_score(y_test, y_pred).round(4) \n",
    "print(\"Gradient boosting regression r2: \", gbr_r2) \n",
    "\n",
    "#AUC of model\n",
    "auc = round( metrics.roc_auc_score(y_test, y_pred), 4 ) \n",
    "print(\"AUC for gradient boost is: \", auc)\n",
    "\n",
    "mse = mean_squared_error(y_test, reg.predict(X_test))\n",
    "print(\"The mean squared error (MSE) on test set: {:.4f}\".format(mse))"
   ]
  },
  {
   "cell_type": "markdown",
   "id": "a689a1df",
   "metadata": {
    "papermill": {
     "duration": 0.057806,
     "end_time": "2022-05-11T14:02:55.375371",
     "exception": false,
     "start_time": "2022-05-11T14:02:55.317565",
     "status": "completed"
    },
    "tags": []
   },
   "source": [
    "# Feature Importance"
   ]
  },
  {
   "cell_type": "code",
   "execution_count": 17,
   "id": "e9e6aaef",
   "metadata": {
    "execution": {
     "iopub.execute_input": "2022-05-11T14:02:55.492124Z",
     "iopub.status.busy": "2022-05-11T14:02:55.491521Z",
     "iopub.status.idle": "2022-05-11T14:02:57.635060Z",
     "shell.execute_reply": "2022-05-11T14:02:57.634382Z"
    },
    "papermill": {
     "duration": 2.204267,
     "end_time": "2022-05-11T14:02:57.636983",
     "exception": false,
     "start_time": "2022-05-11T14:02:55.432716",
     "status": "completed"
    },
    "tags": []
   },
   "outputs": [
    {
     "data": {
      "image/png": "[encoded data removed]",
      "text/plain": [
       "<Figure size 864x432 with 2 Axes>"
      ]
     },
     "metadata": {
      "needs_background": "light"
     },
     "output_type": "display_data"
    }
   ],
   "source": [
    "cols=X.columns\n",
    "feature_importance = reg.feature_importances_\n",
    "sorted_idx = np.argsort(feature_importance)\n",
    "pos = np.arange(sorted_idx.shape[0]) + 0.5\n",
    "fig = plt.figure(figsize=(12, 6))\n",
    "plt.subplot(1, 2, 1)\n",
    "plt.barh(pos, feature_importance[sorted_idx], align=\"center\")\n",
    "plt.yticks(pos, np.array(cols)[sorted_idx])\n",
    "plt.title(\"Feature Importance (MDI)\")\n",
    "\n",
    "result = permutation_importance(\n",
    "    reg, X_test, y_test, n_repeats=10, random_state=42, n_jobs=2\n",
    ")\n",
    "sorted_idx = result.importances_mean.argsort()\n",
    "plt.subplot(1, 2, 2)\n",
    "plt.boxplot(\n",
    "    result.importances[sorted_idx].T,\n",
    "    vert=False,\n",
    "    labels=np.array(cols)[sorted_idx],\n",
    ")\n",
    "plt.title(\"Permutation Importance (test set)\")\n",
    "fig.tight_layout()\n",
    "plt.show()"
   ]
  },
  {
   "cell_type": "markdown",
   "id": "01aa512a",
   "metadata": {
    "papermill": {
     "duration": 0.057831,
     "end_time": "2022-05-11T14:02:57.752923",
     "exception": false,
     "start_time": "2022-05-11T14:02:57.695092",
     "status": "completed"
    },
    "tags": []
   },
   "source": [
    "# Logistic Regression\n",
    "AUC for logistic regression is:  0.8779. Tuning the C value did not seem to make much difference in the final AUC prediction. "
   ]
  },
  {
   "cell_type": "markdown",
   "id": "affbf0b3",
   "metadata": {
    "papermill": {
     "duration": 0.05749,
     "end_time": "2022-05-11T14:02:57.868979",
     "exception": false,
     "start_time": "2022-05-11T14:02:57.811489",
     "status": "completed"
    },
    "tags": []
   },
   "source": [
    "#### Parameters Tuning\n",
    "The Parameter C, the Grid Search is a way to tune the data. C parameter at 10 seems to give the highest AUC but it does not make much difference. The C parameter report gives the following:\n",
    "* 0.01  C param || AUC:  0.8603  || MAE 0.2819\n",
    "* 1  C param || AUC:  0.8759  || MAE 0.2819\n",
    "* 2  C param || AUC:  0.8771  || MAE 0.2819\n",
    "* 5  C param || AUC:  0.8778  || MAE 0.2819\n",
    "* 10  C param || AUC:  0.8779  || MAE 0.2819\n"
   ]
  },
  {
   "cell_type": "code",
   "execution_count": 18,
   "id": "4b060623",
   "metadata": {
    "execution": {
     "iopub.execute_input": "2022-05-11T14:02:57.987797Z",
     "iopub.status.busy": "2022-05-11T14:02:57.987103Z",
     "iopub.status.idle": "2022-05-11T14:02:57.994562Z",
     "shell.execute_reply": "2022-05-11T14:02:57.993839Z"
    },
    "papermill": {
     "duration": 0.068987,
     "end_time": "2022-05-11T14:02:57.996243",
     "exception": false,
     "start_time": "2022-05-11T14:02:57.927256",
     "status": "completed"
    },
    "tags": []
   },
   "outputs": [],
   "source": [
    "from sklearn.linear_model import LogisticRegression\n",
    "#Note: solver param gets rid of encoder error\n",
    "\n",
    "def logC():\n",
    "    cList=[.01, 1, 2, 5, 10]\n",
    "    for n in cList:\n",
    "        logReg = LogisticRegression(solver='liblinear', C=n) \n",
    "\n",
    "        logReg.fit(X_train, y_train)\n",
    "        logPredict = logReg.predict_proba(X_test)[::,1]\n",
    "\n",
    "        auc = round( metrics.roc_auc_score(y_test, logPredict), 4 ) \n",
    "        mae = mean_absolute_error(y_test, y_pred).round(4)\n",
    "        print(n, \" C param || AUC: \", auc, \" || MAE\", mae) \n",
    "#logC()"
   ]
  },
  {
   "cell_type": "markdown",
   "id": "3c16df16",
   "metadata": {
    "papermill": {
     "duration": 0.058019,
     "end_time": "2022-05-11T14:02:58.112732",
     "exception": false,
     "start_time": "2022-05-11T14:02:58.054713",
     "status": "completed"
    },
    "tags": []
   },
   "source": [
    "#### Make Logistic Regression Prediction\n",
    "Input the variables below from using the test functions above. Using l1 or l2 for penalty does not make a major difference in final AUC."
   ]
  },
  {
   "cell_type": "code",
   "execution_count": 19,
   "id": "537e5bdf",
   "metadata": {
    "execution": {
     "iopub.execute_input": "2022-05-11T14:02:58.231711Z",
     "iopub.status.busy": "2022-05-11T14:02:58.231062Z",
     "iopub.status.idle": "2022-05-11T14:02:58.248467Z",
     "shell.execute_reply": "2022-05-11T14:02:58.247681Z"
    },
    "papermill": {
     "duration": 0.079639,
     "end_time": "2022-05-11T14:02:58.250719",
     "exception": false,
     "start_time": "2022-05-11T14:02:58.171080",
     "status": "completed"
    },
    "tags": []
   },
   "outputs": [
    {
     "name": "stdout",
     "output_type": "stream",
     "text": [
      "AUC for logistic regression is:  0.8771\n"
     ]
    }
   ],
   "source": [
    "num=10\n",
    "logReg = LogisticRegression(solver='liblinear',penalty='l2', C=num) \n",
    "\n",
    "#Train the model and create predictions\n",
    "logReg.fit(X_train, y_train)\n",
    "logPredict = logReg.predict_proba(X_test)[::,1]\n",
    "\n",
    "#calculate AUC of model\n",
    "auc = round( metrics.roc_auc_score(y_test, logPredict), 4 ) \n",
    "print(\"AUC for logistic regression is: \", auc)"
   ]
  },
  {
   "cell_type": "markdown",
   "id": "d3c7313d",
   "metadata": {
    "papermill": {
     "duration": 0.059325,
     "end_time": "2022-05-11T14:02:58.368888",
     "exception": false,
     "start_time": "2022-05-11T14:02:58.309563",
     "status": "completed"
    },
    "tags": []
   },
   "source": [
    "# Linear Regression"
   ]
  },
  {
   "cell_type": "code",
   "execution_count": 20,
   "id": "70f7de02",
   "metadata": {
    "execution": {
     "iopub.execute_input": "2022-05-11T14:02:58.488471Z",
     "iopub.status.busy": "2022-05-11T14:02:58.487607Z",
     "iopub.status.idle": "2022-05-11T14:02:58.751356Z",
     "shell.execute_reply": "2022-05-11T14:02:58.750483Z"
    },
    "papermill": {
     "duration": 0.325843,
     "end_time": "2022-05-11T14:02:58.753747",
     "exception": false,
     "start_time": "2022-05-11T14:02:58.427904",
     "status": "completed"
    },
    "tags": []
   },
   "outputs": [
    {
     "name": "stdout",
     "output_type": "stream",
     "text": [
      "AUC for linear regression is:  0.8764\n",
      "Linear regression r2 score:  0.4364\n",
      "Linear Accuracy:  0.4364\n",
      "0.3688  linear regression cross validate mean\n",
      "0.3698  is lr MSE \n"
     ]
    },
    {
     "data": {
      "image/png": "[encoded data removed]",
      "text/plain": [
       "<Figure size 432x288 with 1 Axes>"
      ]
     },
     "metadata": {
      "needs_background": "light"
     },
     "output_type": "display_data"
    }
   ],
   "source": [
    "from sklearn.linear_model import LinearRegression, Ridge, Lasso\n",
    "\n",
    "#Fit and predict:\n",
    "lrModel = LinearRegression()\n",
    "lrModel.fit(X_train, y_train)\n",
    "lrPredict = lrModel.predict(X_test)\n",
    "\n",
    "# plt.scatter(y_test, predictions)\n",
    "plt.hist(y_test - lrPredict)\n",
    "\n",
    "#Linear Metrics:\n",
    "auc = round( metrics.roc_auc_score(y_test, lrPredict), 4 ) \n",
    "r2 = r2_score(y_test, lrPredict).round(4) \n",
    "print(\"AUC for linear regression is: \", auc)\n",
    "print(\"Linear regression r2 score: \", r2)\n",
    "\n",
    "#CROSS VALIDATE TEST RESULTS:\n",
    "lr_score = lrModel.score(X_test, y_test).round(4)  # train test \n",
    "print(\"Linear Accuracy: \", lr_score)\n",
    "lr_cv = cross_validate(lrModel, X, y, cv = 5, scoring= 'r2')\n",
    "lr_cvMean=lr_cv['test_score'].mean().round(4)\n",
    "print(lr_cvMean, \" linear regression cross validate mean\")\n",
    "\n",
    "lrMSE=np.sqrt(metrics.mean_squared_error(y_test, lrPredict))\n",
    "print(round(lrMSE, 4), \" is lr MSE \")\n",
    "\n",
    "def linearReports():\n",
    "    print(model.coef_)    \n",
    "    print(model.intercept_)\n",
    "    print(classification_report(y_test_data, lrPredict))\n",
    "    print(confusion_matrix(y_test_data, lrPredict))\n",
    "    metrics.mean_absolute_error(y_test, lrPredict)"
   ]
  },
  {
   "cell_type": "markdown",
   "id": "9fb48749",
   "metadata": {
    "papermill": {
     "duration": 0.059451,
     "end_time": "2022-05-11T14:02:58.873407",
     "exception": false,
     "start_time": "2022-05-11T14:02:58.813956",
     "status": "completed"
    },
    "tags": []
   },
   "source": [
    "# Decision Tree\n",
    "After running the below functions it was discovered that the best parameters are the following:\n",
    "* max_leaf_nodes=5  \n",
    "* max_depth=5\n",
    "\n",
    "The full parameter reports are below: <br>\n",
    "* 5  max_leaf_nodes || AUC  0.8084  || MAE:  0.2743\n",
    "* 25  max_leaf_nodes || AUC  0.8084  || MAE:  0.2584\n",
    "* 50  max_leaf_nodes || AUC  0.8084  || MAE:  0.2611\n",
    "* 100  max_leaf_nodes || AUC  0.8084  || MAE:  0.2541\n",
    "* 250  max_leaf_nodes || AUC  0.8084  || MAE:  0.25\n",
    "* 500  max_leaf_nodes || AUC  0.8084  || MAE:  0.25\n",
    "* 2  max_depth || AUC  0.8084  || MAE:  0.2854\n",
    "* 3  max_depth || AUC  0.8203  || MAE:  0.2656\n",
    "* 5  max_depth || AUC  0.8432  || MAE:  0.2526\n",
    "* 7  max_depth || AUC  0.7847  || MAE:  0.2573"
   ]
  },
  {
   "cell_type": "code",
   "execution_count": 21,
   "id": "8b89df21",
   "metadata": {
    "execution": {
     "iopub.execute_input": "2022-05-11T14:02:58.997309Z",
     "iopub.status.busy": "2022-05-11T14:02:58.996393Z",
     "iopub.status.idle": "2022-05-11T14:02:59.014059Z",
     "shell.execute_reply": "2022-05-11T14:02:59.013375Z"
    },
    "papermill": {
     "duration": 0.080725,
     "end_time": "2022-05-11T14:02:59.016443",
     "exception": false,
     "start_time": "2022-05-11T14:02:58.935718",
     "status": "completed"
    },
    "tags": []
   },
   "outputs": [],
   "source": [
    "from sklearn.tree import DecisionTreeRegressor, DecisionTreeClassifier\n",
    "\n",
    "#FIND best_tree_size LEAF NODES:\n",
    "def calcLeaf():\n",
    "    candidate_max_leaf_nodes = [5, 25, 50, 100, 250, 500]\n",
    "    maeDic={} #dictionary  key=leaf  mae=value\n",
    "    for leaf in candidate_max_leaf_nodes:\n",
    "        model = DecisionTreeRegressor(max_leaf_nodes=leaf, random_state=42)\n",
    "        model.fit(X_train, y_train)\n",
    "        y_pred = model.predict(X_test)\n",
    "        mae = mean_absolute_error(y_test, y_pred).round(4)\n",
    "        maeDic[leaf]=mae\n",
    "        print(leaf, \" max_leaf_nodes || AUC \", treeAUC, \" || MAE: \", mae)\n",
    "    maxLeafNodes = sorted(maeDic, key=lambda x : maeDic[x])[0]\n",
    "    \n",
    "def calcDepth():\n",
    "    max_depth_list = [2, 3, 5, 7]\n",
    "    maeDic={} #dictionary  key=depth  mae=value\n",
    "    for d in max_depth_list:\n",
    "        model = DecisionTreeRegressor(max_leaf_nodes=100, max_depth=d, random_state=42)\n",
    "        model.fit(X_train, y_train)\n",
    "        y_pred = model.predict(X_test)\n",
    "        mae = mean_absolute_error(y_test, y_pred).round(4)\n",
    "        maeDic[d]=mae\n",
    "        treeAUC = round( metrics.roc_auc_score(y_test, y_pred), 4 ) \n",
    "        print(d, \" max_depth || AUC \", treeAUC, \" || MAE: \", mae)\n",
    "    best_max_depth = sorted(maeDic, key=lambda x : maeDic[x])[0]\n",
    "    print(best_max_depth, \" best max_depth with least error.\") #10\n",
    "    \n",
    "def automateTree():\n",
    "    print(\"Decision Tree Automating:\")\n",
    "    start=time.time()\n",
    "    candidate_max_leaf_nodes = [5, 25, 50, 100, 200, 500]\n",
    "    max_depth_list = [2, 3, 5, 7, 9]\n",
    "    \n",
    "    #STORE DATA INTO LISTS FOR DATAFRAME LATER:\n",
    "    aucList=[]\n",
    "    maeList=[]\n",
    "    maxDepthList=[]\n",
    "    maxLeafNodesList=[]\n",
    "\n",
    "    for d in max_depth_list:\n",
    "        for leaf in candidate_max_leaf_nodes:\n",
    "            model = DecisionTreeRegressor(max_leaf_nodes=leaf, \n",
    "                                          max_depth=d, random_state=42)\n",
    "            model.fit(X_train, y_train)\n",
    "            y_pred = model.predict(X_test)\n",
    "            mae = mean_absolute_error(y_test, y_pred).round(4)\n",
    "            treeR2 = r2_score(y_test, y_pred).round(4)\n",
    "            \n",
    "            aucList.append(treeR2)\n",
    "            maeList.append(mae)\n",
    "            maxDepthList.append(d)\n",
    "            maxLeafNodesList.append(leaf)\n",
    "           \n",
    "    df = pd.DataFrame(list(zip(aucList, maeList, maxDepthList, maxLeafNodesList)),\n",
    "                          columns=['AUC','MAE', 'MaxDepth', 'MaxLeafNodes'])\n",
    "    \n",
    "    df=df.sort_values(by=['AUC'], ascending=False)\n",
    "    print(\"Done. \", round(time.time()-start,4), \" seconds\")\n",
    "    return df\n",
    "\n",
    "#TURN FUNCTION OFF OR ON BELOW:   \n",
    "#calcLeaf()\n",
    "#calcDepth()\n",
    "#treeDF=automateTree()    \n",
    "#treeDF.head()"
   ]
  },
  {
   "cell_type": "markdown",
   "id": "dd7c1adf",
   "metadata": {
    "papermill": {
     "duration": 0.059229,
     "end_time": "2022-05-11T14:02:59.136604",
     "exception": false,
     "start_time": "2022-05-11T14:02:59.077375",
     "status": "completed"
    },
    "tags": []
   },
   "source": [
    "#### Final Decision Tree Prediction\n",
    "Inputs below such as best_depth by using functions above."
   ]
  },
  {
   "cell_type": "code",
   "execution_count": 22,
   "id": "ab8e3e39",
   "metadata": {
    "execution": {
     "iopub.execute_input": "2022-05-11T14:02:59.257928Z",
     "iopub.status.busy": "2022-05-11T14:02:59.257059Z",
     "iopub.status.idle": "2022-05-11T14:02:59.274128Z",
     "shell.execute_reply": "2022-05-11T14:02:59.273295Z"
    },
    "papermill": {
     "duration": 0.080436,
     "end_time": "2022-05-11T14:02:59.276456",
     "exception": false,
     "start_time": "2022-05-11T14:02:59.196020",
     "status": "completed"
    },
    "tags": []
   },
   "outputs": [
    {
     "name": "stdout",
     "output_type": "stream",
     "text": [
      "0.0619  R2 Decision Tree\n",
      "AUC for decision tree is:  0.7345\n",
      "0.4771  is tree MSE \n"
     ]
    }
   ],
   "source": [
    "maxLeafNode=5\n",
    "best_depth=5\n",
    "    \n",
    "#MAKE PREDICTION:\n",
    "tree = DecisionTreeClassifier(max_depth=best_depth, \n",
    "                             max_leaf_nodes=maxLeafNode, random_state=42)\n",
    "tree.fit(X, y)\n",
    "y_pred = tree.predict(X_test)\n",
    "\n",
    "#Calculate Metrics:\n",
    "treeR2 = r2_score(y_test, y_pred).round(4)\n",
    "print(treeR2, \" R2 Decision Tree\")\n",
    "treeAUC = round( metrics.roc_auc_score(y_test, y_pred), 4 ) \n",
    "print(\"AUC for decision tree is: \", treeAUC)\n",
    "treeMSE=np.sqrt(metrics.mean_squared_error(y_test, y_pred))\n",
    "print(round(treeMSE, 4), \" is tree MSE \")"
   ]
  },
  {
   "cell_type": "markdown",
   "id": "1bd20962",
   "metadata": {
    "papermill": {
     "duration": 0.061488,
     "end_time": "2022-05-11T14:02:59.399126",
     "exception": false,
     "start_time": "2022-05-11T14:02:59.337638",
     "status": "completed"
    },
    "tags": []
   },
   "source": [
    "# Random Forest\n",
    "Random forest AUC:  0.8503 which provided descent results in comparision to the other models. \n",
    "\n",
    "<b>n_estimates</b> <br>\n",
    "The best n_estimates with high AUC seems to be 400. Error is not impacted by the change of n_estimates. The full report can be seen below: <br>\n",
    "* 2  n_estimates |  0.7962  AUC |  0.24  MAE\n",
    "* 102  n_estimates |  0.843  AUC |  0.25  MAE\n",
    "* 202  n_estimates |  0.8459  AUC |  0.25  MAE\n",
    "* 302  n_estimates |  0.8492  AUC |  0.25  MAE\n",
    "* 402  n_estimates |  0.8505  AUC |  0.25  MAE\n",
    "* 502  n_estimates |  0.8489  AUC |  0.25  MAE"
   ]
  },
  {
   "cell_type": "code",
   "execution_count": 23,
   "id": "966bedd4",
   "metadata": {
    "execution": {
     "iopub.execute_input": "2022-05-11T14:02:59.521172Z",
     "iopub.status.busy": "2022-05-11T14:02:59.520691Z",
     "iopub.status.idle": "2022-05-11T14:02:59.528640Z",
     "shell.execute_reply": "2022-05-11T14:02:59.528088Z"
    },
    "papermill": {
     "duration": 0.071463,
     "end_time": "2022-05-11T14:02:59.530587",
     "exception": false,
     "start_time": "2022-05-11T14:02:59.459124",
     "status": "completed"
    },
    "tags": []
   },
   "outputs": [],
   "source": [
    "from sklearn.ensemble import RandomForestRegressor, RandomForestClassifier\n",
    "\n",
    "#Check for Error and find Best n_estimators:\n",
    "def checkMAE():\n",
    "    dMAE={} #dictionary of n_estimators as key and MAE as value:\n",
    "    for n in range(2, 601, 100):\n",
    "        forest = RandomForestRegressor(n_estimators=n, random_state = 0)\n",
    "        forest.fit(X_train, y_train)\n",
    "        y_pred = forest.predict(X_test)\n",
    "        MAE=metrics.mean_absolute_error(y_test, y_pred).round(2)\n",
    "        forest_auc = round( metrics.roc_auc_score(y_test, y_pred), 4 ) \n",
    "        dMAE[n]=MAE\n",
    "        print(n, \" n_estimates | \", forest_auc, \" AUC | \", MAE, \" MAE\")\n",
    "    dMAE=sorted(((v, k) for k, v in dMAE.items()), reverse=False)\n",
    "    print(dMAE)\n",
    "#checkMAE() #turn function on or off by uncommenting"
   ]
  },
  {
   "cell_type": "markdown",
   "id": "ffa38b9c",
   "metadata": {
    "papermill": {
     "duration": 0.060345,
     "end_time": "2022-05-11T14:02:59.651612",
     "exception": false,
     "start_time": "2022-05-11T14:02:59.591267",
     "status": "completed"
    },
    "tags": []
   },
   "source": [
    "#### Final Random Forest Prediction"
   ]
  },
  {
   "cell_type": "code",
   "execution_count": 24,
   "id": "d0018509",
   "metadata": {
    "execution": {
     "iopub.execute_input": "2022-05-11T14:02:59.776267Z",
     "iopub.status.busy": "2022-05-11T14:02:59.775509Z",
     "iopub.status.idle": "2022-05-11T14:03:00.722537Z",
     "shell.execute_reply": "2022-05-11T14:03:00.721457Z"
    },
    "papermill": {
     "duration": 1.013585,
     "end_time": "2022-05-11T14:03:00.725639",
     "exception": false,
     "start_time": "2022-05-11T14:02:59.712054",
     "status": "completed"
    },
    "tags": []
   },
   "outputs": [
    {
     "name": "stdout",
     "output_type": "stream",
     "text": [
      "Random forest AUC:  0.8036\n",
      "Random forest r2:  0.2618\n",
      "Random forest MAE:  0.18\n"
     ]
    }
   ],
   "source": [
    "forestEst=400\n",
    "forest = RandomForestClassifier(n_estimators=forestEst, random_state = 0)\n",
    "forest.fit(X_train, y_train)\n",
    "y_pred = forest.predict(X_test)\n",
    "\n",
    "#Print Metrics:\n",
    "forest_r2 = r2_score(y_test, y_pred).round(4)  \n",
    "forest_auc = round( metrics.roc_auc_score(y_test, y_pred), 4 ) \n",
    "print(\"Random forest AUC: \", forest_auc) \n",
    "print(\"Random forest r2: \", forest_r2)\n",
    "\n",
    "mae=metrics.mean_absolute_error(y_test, y_pred).round(2)\n",
    "print(\"Random forest MAE: \", mae)"
   ]
  },
  {
   "cell_type": "markdown",
   "id": "69638016",
   "metadata": {
    "papermill": {
     "duration": 0.060319,
     "end_time": "2022-05-11T14:03:00.847069",
     "exception": false,
     "start_time": "2022-05-11T14:03:00.786750",
     "status": "completed"
    },
    "tags": []
   },
   "source": [
    "# K-Nearest Neighbors (KNN)"
   ]
  },
  {
   "cell_type": "markdown",
   "id": "73317bcc",
   "metadata": {
    "papermill": {
     "duration": 0.061738,
     "end_time": "2022-05-11T14:03:00.969434",
     "exception": false,
     "start_time": "2022-05-11T14:03:00.907696",
     "status": "completed"
    },
    "tags": []
   },
   "source": [
    "#### KNN Parameter Tunning"
   ]
  },
  {
   "cell_type": "code",
   "execution_count": 25,
   "id": "c9f4839b",
   "metadata": {
    "execution": {
     "iopub.execute_input": "2022-05-11T14:03:01.093879Z",
     "iopub.status.busy": "2022-05-11T14:03:01.093539Z",
     "iopub.status.idle": "2022-05-11T14:03:01.429376Z",
     "shell.execute_reply": "2022-05-11T14:03:01.428515Z"
    },
    "papermill": {
     "duration": 0.400682,
     "end_time": "2022-05-11T14:03:01.431929",
     "exception": false,
     "start_time": "2022-05-11T14:03:01.031247",
     "status": "completed"
    },
    "tags": []
   },
   "outputs": [
    {
     "name": "stdout",
     "output_type": "stream",
     "text": [
      "Finding best n_neighbors value:\n"
     ]
    },
    {
     "data": {
      "image/png": "[encoded data removed]",
      "text/plain": [
       "<Figure size 1152x864 with 1 Axes>"
      ]
     },
     "metadata": {
      "needs_background": "light"
     },
     "output_type": "display_data"
    }
   ],
   "source": [
    "from sklearn.neighbors import KNeighborsClassifier, KNeighborsRegressor\n",
    "\n",
    "def knnError():\n",
    "    print(\"Finding best n_neighbors value:\")\n",
    "    error_rates = []\n",
    "    for i in range(1, 10, 2): #Must be an odd number to break a tie\n",
    "        new_model = KNeighborsClassifier(n_neighbors = i)\n",
    "        new_model.fit(X_train, y_train)\n",
    "        new_predictions = new_model.predict(X_test)\n",
    "        error_rates.append(np.mean(new_predictions != y_test))\n",
    "    plt.figure(figsize=(16,12))\n",
    "    plt.plot(error_rates)\n",
    "knnError()"
   ]
  },
  {
   "cell_type": "markdown",
   "id": "0c949c2f",
   "metadata": {
    "papermill": {
     "duration": 0.06186,
     "end_time": "2022-05-11T14:03:01.556115",
     "exception": false,
     "start_time": "2022-05-11T14:03:01.494255",
     "status": "completed"
    },
    "tags": []
   },
   "source": [
    "#### Final KNN Prediction"
   ]
  },
  {
   "cell_type": "code",
   "execution_count": 26,
   "id": "00f81b73",
   "metadata": {
    "execution": {
     "iopub.execute_input": "2022-05-11T14:03:01.682131Z",
     "iopub.status.busy": "2022-05-11T14:03:01.681719Z",
     "iopub.status.idle": "2022-05-11T14:03:01.697711Z",
     "shell.execute_reply": "2022-05-11T14:03:01.696908Z"
    },
    "papermill": {
     "duration": 0.081974,
     "end_time": "2022-05-11T14:03:01.700284",
     "exception": false,
     "start_time": "2022-05-11T14:03:01.618310",
     "status": "completed"
    },
    "tags": []
   },
   "outputs": [
    {
     "name": "stdout",
     "output_type": "stream",
     "text": [
      "Knn AUC:  0.5975\n",
      "MSE  0.5325\n"
     ]
    }
   ],
   "source": [
    "n_num=3 #Input from knnError function\n",
    "\n",
    "#Train the model and make predictions:\n",
    "knn = KNeighborsClassifier(n_neighbors =n_num) \n",
    "knn.fit(X_train, y_train)\n",
    "knnPredict = knn.predict_proba(X_test)[::,1]\n",
    "\n",
    "#calculate AUC of model\n",
    "knn_auc = round( metrics.roc_auc_score(y_test, knnPredict), 4 ) \n",
    "print(\"Knn AUC: \", knn_auc)\n",
    "error = round(sqrt(mean_squared_error(y_test,knnPredict)), 4)\n",
    "print(\"MSE \", error)"
   ]
  },
  {
   "cell_type": "markdown",
   "id": "b360daa2",
   "metadata": {
    "papermill": {
     "duration": 0.062321,
     "end_time": "2022-05-11T14:03:01.825770",
     "exception": false,
     "start_time": "2022-05-11T14:03:01.763449",
     "status": "completed"
    },
    "tags": []
   },
   "source": [
    "# Support Vector Machine (SVM)\n",
    "The initial results for SVM AUC with no parameter tunning is 0.5336.  The model does not seem worth investing lots of time into due to poor AUC performance. \n",
    "\n",
    "#### GridSearch Tune\n",
    "The best parameters from tunning SVM is SVC(C=1000, gamma=0.0001)."
   ]
  },
  {
   "cell_type": "code",
   "execution_count": 27,
   "id": "a60188b0",
   "metadata": {
    "execution": {
     "iopub.execute_input": "2022-05-11T14:03:01.957384Z",
     "iopub.status.busy": "2022-05-11T14:03:01.957002Z",
     "iopub.status.idle": "2022-05-11T14:03:01.964268Z",
     "shell.execute_reply": "2022-05-11T14:03:01.963550Z"
    },
    "papermill": {
     "duration": 0.075523,
     "end_time": "2022-05-11T14:03:01.966204",
     "exception": false,
     "start_time": "2022-05-11T14:03:01.890681",
     "status": "completed"
    },
    "tags": []
   },
   "outputs": [],
   "source": [
    "from sklearn.model_selection import GridSearchCV\n",
    "from sklearn.svm import SVC\n",
    " \n",
    "def tuneSVM():\n",
    "    # defining parameter range\n",
    "    param_grid = {'C': [0.1, 1, 10, 100, 1000],\n",
    "                  'gamma': [1, 0.1, 0.01, 0.001, 0.0001],\n",
    "                  'kernel': ['rbf']}\n",
    "\n",
    "    grid = GridSearchCV(SVC(), param_grid, refit = True, verbose = 3)\n",
    "\n",
    "    # fitting the model for grid search\n",
    "    grid.fit(X_train, y_train)\n",
    "\n",
    "    # print best parameter after tuning\n",
    "    print(grid.best_params_)\n",
    "\n",
    "    # print how our model looks after hyper-parameter tuning\n",
    "    print(grid.best_estimator_)"
   ]
  },
  {
   "cell_type": "markdown",
   "id": "1e309817",
   "metadata": {
    "papermill": {
     "duration": 0.064939,
     "end_time": "2022-05-11T14:03:02.094162",
     "exception": false,
     "start_time": "2022-05-11T14:03:02.029223",
     "status": "completed"
    },
    "tags": []
   },
   "source": [
    "#### Final SVM Prediction"
   ]
  },
  {
   "cell_type": "code",
   "execution_count": 28,
   "id": "a86781c9",
   "metadata": {
    "execution": {
     "iopub.execute_input": "2022-05-11T14:03:02.221685Z",
     "iopub.status.busy": "2022-05-11T14:03:02.221309Z",
     "iopub.status.idle": "2022-05-11T14:03:02.231028Z",
     "shell.execute_reply": "2022-05-11T14:03:02.230057Z"
    },
    "papermill": {
     "duration": 0.076243,
     "end_time": "2022-05-11T14:03:02.233081",
     "exception": false,
     "start_time": "2022-05-11T14:03:02.156838",
     "status": "completed"
    },
    "tags": []
   },
   "outputs": [],
   "source": [
    "#Fit and Predict:\n",
    "def runSVM():\n",
    "    svm=SVC(C=1000, gamma=0.0001, kernel = 'linear')\n",
    "    svm.fit(X_train, y_train)\n",
    "    svmPedict = svm.predict(X_test)\n",
    "    np.shape(svmPedict)\n",
    "    np.shape(y_test)\n",
    "    #y_class = np.argmax(y_pred, axis = 0)\n",
    "\n",
    "    #calculate AUC of model\n",
    "    svmAUC = round( metrics.roc_auc_score(y_test, svmPedict, multi_class='ovr'), 4 ) \n",
    "    print(\"SVC AUC is: \", svmAUC)\n",
    "\n",
    "    svmR2 = r2_score(y_test, svmPedict).round(4) \n",
    "    print(\"SVM r2: \", svmR2) \n",
    "\n",
    "    svmMAE=metrics.mean_absolute_error(y_test, svmPedict)\n",
    "    \n",
    "    plt.figure(figsize=(5, 7))\n",
    "    ax = sns.distplot(y, hist=False, color=\"r\", label=\"Actual Value\")\n",
    "    sns.distplot(y_test, hist=False, color=\"b\", label=\"Fitted Values\" , ax=ax)\n",
    "    plt.title('Actual vs Fitted Values')\n",
    "    plt.show()\n",
    "    plt.close()"
   ]
  },
  {
   "cell_type": "markdown",
   "id": "560fc01e",
   "metadata": {
    "papermill": {
     "duration": 0.062248,
     "end_time": "2022-05-11T14:03:02.358154",
     "exception": false,
     "start_time": "2022-05-11T14:03:02.295906",
     "status": "completed"
    },
    "tags": []
   },
   "source": [
    "# Test Data"
   ]
  },
  {
   "cell_type": "code",
   "execution_count": 29,
   "id": "9b6901dc",
   "metadata": {
    "execution": {
     "iopub.execute_input": "2022-05-11T14:03:02.486874Z",
     "iopub.status.busy": "2022-05-11T14:03:02.486201Z",
     "iopub.status.idle": "2022-05-11T14:03:02.518285Z",
     "shell.execute_reply": "2022-05-11T14:03:02.517401Z"
    },
    "papermill": {
     "duration": 0.098416,
     "end_time": "2022-05-11T14:03:02.520526",
     "exception": false,
     "start_time": "2022-05-11T14:03:02.422110",
     "status": "completed"
    },
    "tags": []
   },
   "outputs": [
    {
     "data": {
      "text/html": [
       "<div>\n",
       "<style scoped>\n",
       "    .dataframe tbody tr th:only-of-type {\n",
       "        vertical-align: middle;\n",
       "    }\n",
       "\n",
       "    .dataframe tbody tr th {\n",
       "        vertical-align: top;\n",
       "    }\n",
       "\n",
       "    .dataframe thead th {\n",
       "        text-align: right;\n",
       "    }\n",
       "</style>\n",
       "<table border=\"1\" class=\"dataframe\">\n",
       "  <thead>\n",
       "    <tr style=\"text-align: right;\">\n",
       "      <th></th>\n",
       "      <th>PassengerId</th>\n",
       "      <th>Pclass</th>\n",
       "      <th>Sex</th>\n",
       "      <th>Age</th>\n",
       "      <th>SibSp</th>\n",
       "      <th>Parch</th>\n",
       "      <th>Fare</th>\n",
       "      <th>Embarked</th>\n",
       "    </tr>\n",
       "  </thead>\n",
       "  <tbody>\n",
       "    <tr>\n",
       "      <th>0</th>\n",
       "      <td>892</td>\n",
       "      <td>3</td>\n",
       "      <td>1</td>\n",
       "      <td>34.5</td>\n",
       "      <td>0</td>\n",
       "      <td>0</td>\n",
       "      <td>7.8292</td>\n",
       "      <td>1</td>\n",
       "    </tr>\n",
       "    <tr>\n",
       "      <th>1</th>\n",
       "      <td>893</td>\n",
       "      <td>3</td>\n",
       "      <td>0</td>\n",
       "      <td>47.0</td>\n",
       "      <td>1</td>\n",
       "      <td>0</td>\n",
       "      <td>7.0000</td>\n",
       "      <td>0</td>\n",
       "    </tr>\n",
       "    <tr>\n",
       "      <th>2</th>\n",
       "      <td>894</td>\n",
       "      <td>2</td>\n",
       "      <td>1</td>\n",
       "      <td>62.0</td>\n",
       "      <td>0</td>\n",
       "      <td>0</td>\n",
       "      <td>9.6875</td>\n",
       "      <td>1</td>\n",
       "    </tr>\n",
       "    <tr>\n",
       "      <th>3</th>\n",
       "      <td>895</td>\n",
       "      <td>3</td>\n",
       "      <td>1</td>\n",
       "      <td>27.0</td>\n",
       "      <td>0</td>\n",
       "      <td>0</td>\n",
       "      <td>8.6625</td>\n",
       "      <td>0</td>\n",
       "    </tr>\n",
       "    <tr>\n",
       "      <th>4</th>\n",
       "      <td>896</td>\n",
       "      <td>3</td>\n",
       "      <td>0</td>\n",
       "      <td>22.0</td>\n",
       "      <td>1</td>\n",
       "      <td>1</td>\n",
       "      <td>12.2875</td>\n",
       "      <td>0</td>\n",
       "    </tr>\n",
       "  </tbody>\n",
       "</table>\n",
       "</div>"
      ],
      "text/plain": [
       "   PassengerId  Pclass  Sex   Age  SibSp  Parch     Fare  Embarked\n",
       "0          892       3    1  34.5      0      0   7.8292         1\n",
       "1          893       3    0  47.0      1      0   7.0000         0\n",
       "2          894       2    1  62.0      0      0   9.6875         1\n",
       "3          895       3    1  27.0      0      0   8.6625         0\n",
       "4          896       3    0  22.0      1      1  12.2875         0"
      ]
     },
     "execution_count": 29,
     "metadata": {},
     "output_type": "execute_result"
    }
   ],
   "source": [
    "test=pd.read_csv(test)\n",
    "\n",
    "#GENDER\n",
    "test['Sex']=test['Sex'].map({'female':0,'male':1})\n",
    "\n",
    "#EMBARKED\n",
    "test['Embarked']=test['Embarked'].map({'C':2,'Q':1, 'S':0})\n",
    "\n",
    "features=list(X.columns)\n",
    "test=test[features]\n",
    "\n",
    "test=test.fillna(test.mean())\n",
    "test.head()"
   ]
  },
  {
   "cell_type": "markdown",
   "id": "18d52e35",
   "metadata": {
    "papermill": {
     "duration": 0.062831,
     "end_time": "2022-05-11T14:03:02.646803",
     "exception": false,
     "start_time": "2022-05-11T14:03:02.583972",
     "status": "completed"
    },
    "tags": []
   },
   "source": [
    "# Make Final Prediction"
   ]
  },
  {
   "cell_type": "code",
   "execution_count": 30,
   "id": "f6110bf1",
   "metadata": {
    "execution": {
     "iopub.execute_input": "2022-05-11T14:03:02.778056Z",
     "iopub.status.busy": "2022-05-11T14:03:02.777215Z",
     "iopub.status.idle": "2022-05-11T14:03:02.793451Z",
     "shell.execute_reply": "2022-05-11T14:03:02.792823Z"
    },
    "papermill": {
     "duration": 0.083146,
     "end_time": "2022-05-11T14:03:02.795192",
     "exception": false,
     "start_time": "2022-05-11T14:03:02.712046",
     "status": "completed"
    },
    "tags": []
   },
   "outputs": [
    {
     "data": {
      "text/html": [
       "<div>\n",
       "<style scoped>\n",
       "    .dataframe tbody tr th:only-of-type {\n",
       "        vertical-align: middle;\n",
       "    }\n",
       "\n",
       "    .dataframe tbody tr th {\n",
       "        vertical-align: top;\n",
       "    }\n",
       "\n",
       "    .dataframe thead th {\n",
       "        text-align: right;\n",
       "    }\n",
       "</style>\n",
       "<table border=\"1\" class=\"dataframe\">\n",
       "  <thead>\n",
       "    <tr style=\"text-align: right;\">\n",
       "      <th></th>\n",
       "      <th>PassengerId</th>\n",
       "      <th>Survived</th>\n",
       "    </tr>\n",
       "  </thead>\n",
       "  <tbody>\n",
       "    <tr>\n",
       "      <th>0</th>\n",
       "      <td>892</td>\n",
       "      <td>0</td>\n",
       "    </tr>\n",
       "    <tr>\n",
       "      <th>1</th>\n",
       "      <td>893</td>\n",
       "      <td>0</td>\n",
       "    </tr>\n",
       "    <tr>\n",
       "      <th>2</th>\n",
       "      <td>894</td>\n",
       "      <td>0</td>\n",
       "    </tr>\n",
       "    <tr>\n",
       "      <th>3</th>\n",
       "      <td>895</td>\n",
       "      <td>0</td>\n",
       "    </tr>\n",
       "    <tr>\n",
       "      <th>4</th>\n",
       "      <td>896</td>\n",
       "      <td>0</td>\n",
       "    </tr>\n",
       "    <tr>\n",
       "      <th>5</th>\n",
       "      <td>897</td>\n",
       "      <td>0</td>\n",
       "    </tr>\n",
       "    <tr>\n",
       "      <th>6</th>\n",
       "      <td>898</td>\n",
       "      <td>1</td>\n",
       "    </tr>\n",
       "  </tbody>\n",
       "</table>\n",
       "</div>"
      ],
      "text/plain": [
       "   PassengerId  Survived\n",
       "0          892         0\n",
       "1          893         0\n",
       "2          894         0\n",
       "3          895         0\n",
       "4          896         0\n",
       "5          897         0\n",
       "6          898         1"
      ]
     },
     "execution_count": 30,
     "metadata": {},
     "output_type": "execute_result"
    }
   ],
   "source": [
    "test_predictions = reg.predict(test)\n",
    "#test_predictions=np.where(test_predictions<.5, 0, test_predictions)\n",
    "#test_predictions=np.where(test_predictions>.5, 1, test_predictions)\n",
    "passID=test['PassengerId']\n",
    "tupleData = list(zip(passID, test_predictions))\n",
    "output = pd.DataFrame(tupleData, columns = ['PassengerId', 'Survived'])\n",
    "output.head(7)"
   ]
  },
  {
   "cell_type": "code",
   "execution_count": 31,
   "id": "0d120cf6",
   "metadata": {
    "execution": {
     "iopub.execute_input": "2022-05-11T14:03:02.926507Z",
     "iopub.status.busy": "2022-05-11T14:03:02.925913Z",
     "iopub.status.idle": "2022-05-11T14:03:02.937440Z",
     "shell.execute_reply": "2022-05-11T14:03:02.936698Z"
    },
    "papermill": {
     "duration": 0.080979,
     "end_time": "2022-05-11T14:03:02.939802",
     "exception": false,
     "start_time": "2022-05-11T14:03:02.858823",
     "status": "completed"
    },
    "tags": []
   },
   "outputs": [],
   "source": [
    "sample=r'/kaggle/input/titanic/gender_submission.csv'\n",
    "sample=pd.read_csv(sample)"
   ]
  },
  {
   "cell_type": "markdown",
   "id": "222eb16d",
   "metadata": {
    "papermill": {
     "duration": 0.063366,
     "end_time": "2022-05-11T14:03:03.067512",
     "exception": false,
     "start_time": "2022-05-11T14:03:03.004146",
     "status": "completed"
    },
    "tags": []
   },
   "source": [
    "# Submit Predictions"
   ]
  },
  {
   "cell_type": "code",
   "execution_count": 32,
   "id": "787f2c20",
   "metadata": {
    "execution": {
     "iopub.execute_input": "2022-05-11T14:03:03.197247Z",
     "iopub.status.busy": "2022-05-11T14:03:03.196637Z",
     "iopub.status.idle": "2022-05-11T14:03:03.418459Z",
     "shell.execute_reply": "2022-05-11T14:03:03.417170Z"
    },
    "papermill": {
     "duration": 0.290722,
     "end_time": "2022-05-11T14:03:03.422065",
     "exception": false,
     "start_time": "2022-05-11T14:03:03.131343",
     "status": "completed"
    },
    "tags": []
   },
   "outputs": [
    {
     "name": "stdout",
     "output_type": "stream",
     "text": [
      "Your submission was successfully saved!\n"
     ]
    }
   ],
   "source": [
    "output.to_csv('submission.csv', index=False)\n",
    "print(\"Your submission was successfully saved!\")"
   ]
  },
  {
   "cell_type": "markdown",
   "id": "31728a91",
   "metadata": {
    "papermill": {
     "duration": 0.063709,
     "end_time": "2022-05-11T14:03:03.550797",
     "exception": false,
     "start_time": "2022-05-11T14:03:03.487088",
     "status": "completed"
    },
    "tags": []
   },
   "source": [
    "### Other Notes:\n",
    "Being a wife makes no difference in the final prediction: <br>\n",
    "` df['Titles'] = df['Name'].str.extract(r', (\\w+\\.)') \n",
    "df['Titles'] = df['Titles'].apply(lambda x: 1 if x=='Mrs.' else 0) `"
   ]
  }
 ],
 "metadata": {
  "kernelspec": {
   "display_name": "Python 3",
   "language": "python",
   "name": "python3"
  },
  "language_info": {
   "codemirror_mode": {
    "name": "ipython",
    "version": 3
   },
   "file_extension": ".py",
   "mimetype": "text/x-python",
   "name": "python",
   "nbconvert_exporter": "python",
   "pygments_lexer": "ipython3",
   "version": "3.7.12"
  },
  "papermill": {
   "default_parameters": {},
   "duration": 26.657864,
   "end_time": "2022-05-11T14:03:06.236420",
   "environment_variables": {},
   "exception": null,
   "input_path": "__notebook__.ipynb",
   "output_path": "__notebook__.ipynb",
   "parameters": {},
   "start_time": "2022-05-11T14:02:39.578556",
   "version": "2.3.4"
  }
 },
 "nbformat": 4,
 "nbformat_minor": 5
}
