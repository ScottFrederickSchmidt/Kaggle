{
 "cells": [
  {
   "cell_type": "markdown",
   "id": "59133060",
   "metadata": {
    "papermill": {
     "duration": 0.056401,
     "end_time": "2022-05-13T17:26:50.273658",
     "exception": false,
     "start_time": "2022-05-13T17:26:50.217257",
     "status": "completed"
    },
    "tags": []
   },
   "source": [
    "# Store Sales \n",
    "Use time series forecating and machine learning to predict grocery sales. Predict sales for the thousands of product families sold at Favorita stores located in Ecuador. The training data includes dates, store and product information, whether that item was being promoted, as well as the sales numbers. More accurate forecasting can decrease food waste related to overstocking and improve customer satisfaction. "
   ]
  },
  {
   "cell_type": "markdown",
   "id": "4e986a72",
   "metadata": {
    "papermill": {
     "duration": 0.055852,
     "end_time": "2022-05-13T17:26:50.384465",
     "exception": false,
     "start_time": "2022-05-13T17:26:50.328613",
     "status": "completed"
    },
    "tags": []
   },
   "source": [
    "# Datasets "
   ]
  },
  {
   "cell_type": "code",
   "execution_count": 1,
   "id": "41f30083",
   "metadata": {
    "_kg_hide-input": true,
    "execution": {
     "iopub.execute_input": "2022-05-13T17:26:50.506938Z",
     "iopub.status.busy": "2022-05-13T17:26:50.506353Z",
     "iopub.status.idle": "2022-05-13T17:26:52.158471Z",
     "shell.execute_reply": "2022-05-13T17:26:52.157492Z",
     "shell.execute_reply.started": "2022-05-13T15:53:39.790802Z"
    },
    "papermill": {
     "duration": 1.715174,
     "end_time": "2022-05-13T17:26:52.158652",
     "exception": false,
     "start_time": "2022-05-13T17:26:50.443478",
     "status": "completed"
    },
    "tags": []
   },
   "outputs": [],
   "source": [
    "import numpy as np\n",
    "import pandas as pd\n",
    "import seaborn as sns\n",
    "import matplotlib.pyplot as plt\n",
    "from sklearn.model_selection import train_test_split, cross_validate\n",
    "from statistics import mean\n",
    "from sklearn.metrics import mean_absolute_error, mean_squared_error, r2_score\n",
    "from sklearn.datasets import make_classification\n",
    "from sklearn import ensemble\n",
    "import sklearn.metrics as metrics\n",
    "import time\n",
    "\n",
    "train=r'/kaggle/input/store-sales-time-series-forecasting/train.csv'\n",
    "test=r'/kaggle/input/store-sales-time-series-forecasting/test.csv'\n",
    "transaction=r'/kaggle/input/store-sales-time-series-forecasting/transactions.csv'\n",
    "stores=r'/kaggle/input/store-sales-time-series-forecasting/stores.csv'\n",
    "oil=r'/kaggle/input/store-sales-time-series-forecasting/oil.csv'\n",
    "event=r'/kaggle/input/store-sales-time-series-forecasting/holidays_events.csv'"
   ]
  },
  {
   "cell_type": "markdown",
   "id": "9b0c289a",
   "metadata": {
    "papermill": {
     "duration": 0.057316,
     "end_time": "2022-05-13T17:26:52.272448",
     "exception": false,
     "start_time": "2022-05-13T17:26:52.215132",
     "status": "completed"
    },
    "tags": []
   },
   "source": [
    "# Train Dataset\n",
    "The shape of the train dataset is 3,000,888 rows × 6 columns. The training data includes dates, store and product information, whether that item was being promoted, as well as the sales numbers."
   ]
  },
  {
   "cell_type": "code",
   "execution_count": 2,
   "id": "da8ef5d1",
   "metadata": {
    "execution": {
     "iopub.execute_input": "2022-05-13T17:26:52.393035Z",
     "iopub.status.busy": "2022-05-13T17:26:52.392339Z",
     "iopub.status.idle": "2022-05-13T17:26:55.687208Z",
     "shell.execute_reply": "2022-05-13T17:26:55.686780Z",
     "shell.execute_reply.started": "2022-05-13T15:53:39.828056Z"
    },
    "papermill": {
     "duration": 3.357521,
     "end_time": "2022-05-13T17:26:55.687320",
     "exception": false,
     "start_time": "2022-05-13T17:26:52.329799",
     "status": "completed"
    },
    "tags": []
   },
   "outputs": [
    {
     "name": "stdout",
     "output_type": "stream",
     "text": [
      "(3000888, 6)\n"
     ]
    },
    {
     "data": {
      "text/html": [
       "<div>\n",
       "<style scoped>\n",
       "    .dataframe tbody tr th:only-of-type {\n",
       "        vertical-align: middle;\n",
       "    }\n",
       "\n",
       "    .dataframe tbody tr th {\n",
       "        vertical-align: top;\n",
       "    }\n",
       "\n",
       "    .dataframe thead th {\n",
       "        text-align: right;\n",
       "    }\n",
       "</style>\n",
       "<table border=\"1\" class=\"dataframe\">\n",
       "  <thead>\n",
       "    <tr style=\"text-align: right;\">\n",
       "      <th></th>\n",
       "      <th>id</th>\n",
       "      <th>date</th>\n",
       "      <th>store_nbr</th>\n",
       "      <th>family</th>\n",
       "      <th>sales</th>\n",
       "      <th>onpromotion</th>\n",
       "    </tr>\n",
       "  </thead>\n",
       "  <tbody>\n",
       "    <tr>\n",
       "      <th>0</th>\n",
       "      <td>0</td>\n",
       "      <td>2013-01-01</td>\n",
       "      <td>1</td>\n",
       "      <td>AUTOMOTIVE</td>\n",
       "      <td>0.0</td>\n",
       "      <td>0</td>\n",
       "    </tr>\n",
       "    <tr>\n",
       "      <th>1</th>\n",
       "      <td>1</td>\n",
       "      <td>2013-01-01</td>\n",
       "      <td>1</td>\n",
       "      <td>BABY CARE</td>\n",
       "      <td>0.0</td>\n",
       "      <td>0</td>\n",
       "    </tr>\n",
       "    <tr>\n",
       "      <th>2</th>\n",
       "      <td>2</td>\n",
       "      <td>2013-01-01</td>\n",
       "      <td>1</td>\n",
       "      <td>BEAUTY</td>\n",
       "      <td>0.0</td>\n",
       "      <td>0</td>\n",
       "    </tr>\n",
       "    <tr>\n",
       "      <th>3</th>\n",
       "      <td>3</td>\n",
       "      <td>2013-01-01</td>\n",
       "      <td>1</td>\n",
       "      <td>BEVERAGES</td>\n",
       "      <td>0.0</td>\n",
       "      <td>0</td>\n",
       "    </tr>\n",
       "    <tr>\n",
       "      <th>4</th>\n",
       "      <td>4</td>\n",
       "      <td>2013-01-01</td>\n",
       "      <td>1</td>\n",
       "      <td>BOOKS</td>\n",
       "      <td>0.0</td>\n",
       "      <td>0</td>\n",
       "    </tr>\n",
       "    <tr>\n",
       "      <th>5</th>\n",
       "      <td>5</td>\n",
       "      <td>2013-01-01</td>\n",
       "      <td>1</td>\n",
       "      <td>BREAD/BAKERY</td>\n",
       "      <td>0.0</td>\n",
       "      <td>0</td>\n",
       "    </tr>\n",
       "    <tr>\n",
       "      <th>6</th>\n",
       "      <td>6</td>\n",
       "      <td>2013-01-01</td>\n",
       "      <td>1</td>\n",
       "      <td>CELEBRATION</td>\n",
       "      <td>0.0</td>\n",
       "      <td>0</td>\n",
       "    </tr>\n",
       "    <tr>\n",
       "      <th>7</th>\n",
       "      <td>7</td>\n",
       "      <td>2013-01-01</td>\n",
       "      <td>1</td>\n",
       "      <td>CLEANING</td>\n",
       "      <td>0.0</td>\n",
       "      <td>0</td>\n",
       "    </tr>\n",
       "    <tr>\n",
       "      <th>8</th>\n",
       "      <td>8</td>\n",
       "      <td>2013-01-01</td>\n",
       "      <td>1</td>\n",
       "      <td>DAIRY</td>\n",
       "      <td>0.0</td>\n",
       "      <td>0</td>\n",
       "    </tr>\n",
       "    <tr>\n",
       "      <th>9</th>\n",
       "      <td>9</td>\n",
       "      <td>2013-01-01</td>\n",
       "      <td>1</td>\n",
       "      <td>DELI</td>\n",
       "      <td>0.0</td>\n",
       "      <td>0</td>\n",
       "    </tr>\n",
       "  </tbody>\n",
       "</table>\n",
       "</div>"
      ],
      "text/plain": [
       "   id        date  store_nbr        family  sales  onpromotion\n",
       "0   0  2013-01-01          1    AUTOMOTIVE    0.0            0\n",
       "1   1  2013-01-01          1     BABY CARE    0.0            0\n",
       "2   2  2013-01-01          1        BEAUTY    0.0            0\n",
       "3   3  2013-01-01          1     BEVERAGES    0.0            0\n",
       "4   4  2013-01-01          1         BOOKS    0.0            0\n",
       "5   5  2013-01-01          1  BREAD/BAKERY    0.0            0\n",
       "6   6  2013-01-01          1   CELEBRATION    0.0            0\n",
       "7   7  2013-01-01          1      CLEANING    0.0            0\n",
       "8   8  2013-01-01          1         DAIRY    0.0            0\n",
       "9   9  2013-01-01          1          DELI    0.0            0"
      ]
     },
     "execution_count": 2,
     "metadata": {},
     "output_type": "execute_result"
    }
   ],
   "source": [
    "train=pd.read_csv(train)\n",
    "print(train.shape) #(3000888, 6)\n",
    "train.head(10)"
   ]
  },
  {
   "cell_type": "code",
   "execution_count": 3,
   "id": "8040d8fd",
   "metadata": {
    "execution": {
     "iopub.execute_input": "2022-05-13T17:26:55.776669Z",
     "iopub.status.busy": "2022-05-13T17:26:55.766574Z",
     "iopub.status.idle": "2022-05-13T17:26:55.903825Z",
     "shell.execute_reply": "2022-05-13T17:26:55.903301Z",
     "shell.execute_reply.started": "2022-05-13T15:53:41.92227Z"
    },
    "papermill": {
     "duration": 0.178451,
     "end_time": "2022-05-13T17:26:55.903985",
     "exception": false,
     "start_time": "2022-05-13T17:26:55.725534",
     "status": "completed"
    },
    "tags": []
   },
   "outputs": [
    {
     "data": {
      "text/html": [
       "<div>\n",
       "<style scoped>\n",
       "    .dataframe tbody tr th:only-of-type {\n",
       "        vertical-align: middle;\n",
       "    }\n",
       "\n",
       "    .dataframe tbody tr th {\n",
       "        vertical-align: top;\n",
       "    }\n",
       "\n",
       "    .dataframe thead th {\n",
       "        text-align: right;\n",
       "    }\n",
       "</style>\n",
       "<table border=\"1\" class=\"dataframe\">\n",
       "  <thead>\n",
       "    <tr style=\"text-align: right;\">\n",
       "      <th></th>\n",
       "      <th>id</th>\n",
       "      <th>date</th>\n",
       "      <th>store_nbr</th>\n",
       "      <th>family</th>\n",
       "      <th>sales</th>\n",
       "      <th>onpromotion</th>\n",
       "    </tr>\n",
       "  </thead>\n",
       "  <tbody>\n",
       "    <tr>\n",
       "      <th>563</th>\n",
       "      <td>563</td>\n",
       "      <td>2013-01-01</td>\n",
       "      <td>25</td>\n",
       "      <td>BEAUTY</td>\n",
       "      <td>2.000</td>\n",
       "      <td>0</td>\n",
       "    </tr>\n",
       "    <tr>\n",
       "      <th>564</th>\n",
       "      <td>564</td>\n",
       "      <td>2013-01-01</td>\n",
       "      <td>25</td>\n",
       "      <td>BEVERAGES</td>\n",
       "      <td>810.000</td>\n",
       "      <td>0</td>\n",
       "    </tr>\n",
       "    <tr>\n",
       "      <th>566</th>\n",
       "      <td>566</td>\n",
       "      <td>2013-01-01</td>\n",
       "      <td>25</td>\n",
       "      <td>BREAD/BAKERY</td>\n",
       "      <td>180.589</td>\n",
       "      <td>0</td>\n",
       "    </tr>\n",
       "    <tr>\n",
       "      <th>568</th>\n",
       "      <td>568</td>\n",
       "      <td>2013-01-01</td>\n",
       "      <td>25</td>\n",
       "      <td>CLEANING</td>\n",
       "      <td>186.000</td>\n",
       "      <td>0</td>\n",
       "    </tr>\n",
       "    <tr>\n",
       "      <th>569</th>\n",
       "      <td>569</td>\n",
       "      <td>2013-01-01</td>\n",
       "      <td>25</td>\n",
       "      <td>DAIRY</td>\n",
       "      <td>143.000</td>\n",
       "      <td>0</td>\n",
       "    </tr>\n",
       "  </tbody>\n",
       "</table>\n",
       "</div>"
      ],
      "text/plain": [
       "      id        date  store_nbr        family    sales  onpromotion\n",
       "563  563  2013-01-01         25        BEAUTY    2.000            0\n",
       "564  564  2013-01-01         25     BEVERAGES  810.000            0\n",
       "566  566  2013-01-01         25  BREAD/BAKERY  180.589            0\n",
       "568  568  2013-01-01         25      CLEANING  186.000            0\n",
       "569  569  2013-01-01         25         DAIRY  143.000            0"
      ]
     },
     "execution_count": 3,
     "metadata": {},
     "output_type": "execute_result"
    }
   ],
   "source": [
    "train = train[train.sales != 0]\n",
    "train.head()"
   ]
  },
  {
   "cell_type": "markdown",
   "id": "16a6537f",
   "metadata": {
    "papermill": {
     "duration": 0.058962,
     "end_time": "2022-05-13T17:26:56.020547",
     "exception": false,
     "start_time": "2022-05-13T17:26:55.961585",
     "status": "completed"
    },
    "tags": []
   },
   "source": [
    "# Feature Engineer Train Data\n",
    "Create new features including year, month, and day."
   ]
  },
  {
   "cell_type": "code",
   "execution_count": 4,
   "id": "0dc4999d",
   "metadata": {
    "execution": {
     "iopub.execute_input": "2022-05-13T17:26:56.140629Z",
     "iopub.status.busy": "2022-05-13T17:26:56.140028Z",
     "iopub.status.idle": "2022-05-13T17:26:57.346373Z",
     "shell.execute_reply": "2022-05-13T17:26:57.345795Z",
     "shell.execute_reply.started": "2022-05-13T15:53:42.048198Z"
    },
    "papermill": {
     "duration": 1.268796,
     "end_time": "2022-05-13T17:26:57.346543",
     "exception": false,
     "start_time": "2022-05-13T17:26:56.077747",
     "status": "completed"
    },
    "tags": []
   },
   "outputs": [
    {
     "data": {
      "text/html": [
       "<div>\n",
       "<style scoped>\n",
       "    .dataframe tbody tr th:only-of-type {\n",
       "        vertical-align: middle;\n",
       "    }\n",
       "\n",
       "    .dataframe tbody tr th {\n",
       "        vertical-align: top;\n",
       "    }\n",
       "\n",
       "    .dataframe thead th {\n",
       "        text-align: right;\n",
       "    }\n",
       "</style>\n",
       "<table border=\"1\" class=\"dataframe\">\n",
       "  <thead>\n",
       "    <tr style=\"text-align: right;\">\n",
       "      <th></th>\n",
       "      <th>id</th>\n",
       "      <th>date</th>\n",
       "      <th>store_nbr</th>\n",
       "      <th>family</th>\n",
       "      <th>sales</th>\n",
       "      <th>onpromotion</th>\n",
       "      <th>month</th>\n",
       "    </tr>\n",
       "  </thead>\n",
       "  <tbody>\n",
       "    <tr>\n",
       "      <th>563</th>\n",
       "      <td>563</td>\n",
       "      <td>2013-01-01</td>\n",
       "      <td>25</td>\n",
       "      <td>BEAUTY</td>\n",
       "      <td>2.000</td>\n",
       "      <td>0</td>\n",
       "      <td>1</td>\n",
       "    </tr>\n",
       "    <tr>\n",
       "      <th>564</th>\n",
       "      <td>564</td>\n",
       "      <td>2013-01-01</td>\n",
       "      <td>25</td>\n",
       "      <td>BEVERAGES</td>\n",
       "      <td>810.000</td>\n",
       "      <td>0</td>\n",
       "      <td>1</td>\n",
       "    </tr>\n",
       "    <tr>\n",
       "      <th>566</th>\n",
       "      <td>566</td>\n",
       "      <td>2013-01-01</td>\n",
       "      <td>25</td>\n",
       "      <td>BREAD/BAKERY</td>\n",
       "      <td>180.589</td>\n",
       "      <td>0</td>\n",
       "      <td>1</td>\n",
       "    </tr>\n",
       "    <tr>\n",
       "      <th>568</th>\n",
       "      <td>568</td>\n",
       "      <td>2013-01-01</td>\n",
       "      <td>25</td>\n",
       "      <td>CLEANING</td>\n",
       "      <td>186.000</td>\n",
       "      <td>0</td>\n",
       "      <td>1</td>\n",
       "    </tr>\n",
       "    <tr>\n",
       "      <th>569</th>\n",
       "      <td>569</td>\n",
       "      <td>2013-01-01</td>\n",
       "      <td>25</td>\n",
       "      <td>DAIRY</td>\n",
       "      <td>143.000</td>\n",
       "      <td>0</td>\n",
       "      <td>1</td>\n",
       "    </tr>\n",
       "  </tbody>\n",
       "</table>\n",
       "</div>"
      ],
      "text/plain": [
       "      id        date  store_nbr        family    sales  onpromotion  month\n",
       "563  563  2013-01-01         25        BEAUTY    2.000            0      1\n",
       "564  564  2013-01-01         25     BEVERAGES  810.000            0      1\n",
       "566  566  2013-01-01         25  BREAD/BAKERY  180.589            0      1\n",
       "568  568  2013-01-01         25      CLEANING  186.000            0      1\n",
       "569  569  2013-01-01         25         DAIRY  143.000            0      1"
      ]
     },
     "execution_count": 4,
     "metadata": {},
     "output_type": "execute_result"
    }
   ],
   "source": [
    "import datetime as dt\n",
    "from datetime import datetime\n",
    "\n",
    "#train['year']=train['date'].apply(lambda x: int(str(x)[:4])) #first four\n",
    "train['month']=train['date'].apply(lambda x: int(str(x)[5:7])) #five and six\n",
    "#train['day']=train['date'].apply(lambda x: int(str(x)[-2:])) # last two\n",
    "train['sales'].astype(int)\n",
    "train.head()"
   ]
  },
  {
   "cell_type": "code",
   "execution_count": 5,
   "id": "6ddbe147",
   "metadata": {
    "execution": {
     "iopub.execute_input": "2022-05-13T17:26:57.451844Z",
     "iopub.status.busy": "2022-05-13T17:26:57.451060Z",
     "iopub.status.idle": "2022-05-13T17:26:57.455604Z",
     "shell.execute_reply": "2022-05-13T17:26:57.455027Z",
     "shell.execute_reply.started": "2022-05-13T15:53:44.189622Z"
    },
    "papermill": {
     "duration": 0.04951,
     "end_time": "2022-05-13T17:26:57.455738",
     "exception": false,
     "start_time": "2022-05-13T17:26:57.406228",
     "status": "completed"
    },
    "tags": []
   },
   "outputs": [
    {
     "data": {
      "text/plain": [
       "id               int64\n",
       "date            object\n",
       "store_nbr        int64\n",
       "family          object\n",
       "sales          float64\n",
       "onpromotion      int64\n",
       "month            int64\n",
       "dtype: object"
      ]
     },
     "execution_count": 5,
     "metadata": {},
     "output_type": "execute_result"
    }
   ],
   "source": [
    "train.dtypes"
   ]
  },
  {
   "cell_type": "markdown",
   "id": "a05664ef",
   "metadata": {
    "papermill": {
     "duration": 0.057142,
     "end_time": "2022-05-13T17:26:57.570911",
     "exception": false,
     "start_time": "2022-05-13T17:26:57.513769",
     "status": "completed"
    },
    "tags": []
   },
   "source": [
    "# Correlations\n",
    "On a side note, AUC for logistic regression for onpromotions was: 0.8779. Therefore, promotions play a very significant part of sales. "
   ]
  },
  {
   "cell_type": "code",
   "execution_count": 6,
   "id": "ee8bcf97",
   "metadata": {
    "execution": {
     "iopub.execute_input": "2022-05-13T17:26:57.690083Z",
     "iopub.status.busy": "2022-05-13T17:26:57.689378Z",
     "iopub.status.idle": "2022-05-13T17:26:57.870871Z",
     "shell.execute_reply": "2022-05-13T17:26:57.870281Z",
     "shell.execute_reply.started": "2022-05-13T15:53:44.203323Z"
    },
    "papermill": {
     "duration": 0.242892,
     "end_time": "2022-05-13T17:26:57.871021",
     "exception": false,
     "start_time": "2022-05-13T17:26:57.628129",
     "status": "completed"
    },
    "tags": []
   },
   "outputs": [
    {
     "data": {
      "text/html": [
       "<div>\n",
       "<style scoped>\n",
       "    .dataframe tbody tr th:only-of-type {\n",
       "        vertical-align: middle;\n",
       "    }\n",
       "\n",
       "    .dataframe tbody tr th {\n",
       "        vertical-align: top;\n",
       "    }\n",
       "\n",
       "    .dataframe thead th {\n",
       "        text-align: right;\n",
       "    }\n",
       "</style>\n",
       "<table border=\"1\" class=\"dataframe\">\n",
       "  <thead>\n",
       "    <tr style=\"text-align: right;\">\n",
       "      <th></th>\n",
       "      <th>id</th>\n",
       "      <th>store_nbr</th>\n",
       "      <th>sales</th>\n",
       "      <th>onpromotion</th>\n",
       "      <th>month</th>\n",
       "    </tr>\n",
       "  </thead>\n",
       "  <tbody>\n",
       "    <tr>\n",
       "      <th>id</th>\n",
       "      <td>1.000000</td>\n",
       "      <td>0.016540</td>\n",
       "      <td>0.031160</td>\n",
       "      <td>0.208065</td>\n",
       "      <td>0.038940</td>\n",
       "    </tr>\n",
       "    <tr>\n",
       "      <th>store_nbr</th>\n",
       "      <td>0.016540</td>\n",
       "      <td>1.000000</td>\n",
       "      <td>0.061742</td>\n",
       "      <td>0.016210</td>\n",
       "      <td>0.003357</td>\n",
       "    </tr>\n",
       "    <tr>\n",
       "      <th>sales</th>\n",
       "      <td>0.031160</td>\n",
       "      <td>0.061742</td>\n",
       "      <td>1.000000</td>\n",
       "      <td>0.410608</td>\n",
       "      <td>0.012308</td>\n",
       "    </tr>\n",
       "    <tr>\n",
       "      <th>onpromotion</th>\n",
       "      <td>0.208065</td>\n",
       "      <td>0.016210</td>\n",
       "      <td>0.410608</td>\n",
       "      <td>1.000000</td>\n",
       "      <td>0.023665</td>\n",
       "    </tr>\n",
       "    <tr>\n",
       "      <th>month</th>\n",
       "      <td>0.038940</td>\n",
       "      <td>0.003357</td>\n",
       "      <td>0.012308</td>\n",
       "      <td>0.023665</td>\n",
       "      <td>1.000000</td>\n",
       "    </tr>\n",
       "  </tbody>\n",
       "</table>\n",
       "</div>"
      ],
      "text/plain": [
       "                   id  store_nbr     sales  onpromotion     month\n",
       "id           1.000000   0.016540  0.031160     0.208065  0.038940\n",
       "store_nbr    0.016540   1.000000  0.061742     0.016210  0.003357\n",
       "sales        0.031160   0.061742  1.000000     0.410608  0.012308\n",
       "onpromotion  0.208065   0.016210  0.410608     1.000000  0.023665\n",
       "month        0.038940   0.003357  0.012308     0.023665  1.000000"
      ]
     },
     "execution_count": 6,
     "metadata": {},
     "output_type": "execute_result"
    }
   ],
   "source": [
    "train.corr()"
   ]
  },
  {
   "cell_type": "markdown",
   "id": "044b1bc3",
   "metadata": {
    "papermill": {
     "duration": 0.056536,
     "end_time": "2022-05-13T17:26:57.984167",
     "exception": false,
     "start_time": "2022-05-13T17:26:57.927631",
     "status": "completed"
    },
    "tags": []
   },
   "source": [
    "# Events Data"
   ]
  },
  {
   "cell_type": "code",
   "execution_count": 7,
   "id": "9098790e",
   "metadata": {
    "execution": {
     "iopub.execute_input": "2022-05-13T17:26:58.101003Z",
     "iopub.status.busy": "2022-05-13T17:26:58.100242Z",
     "iopub.status.idle": "2022-05-13T17:26:58.117023Z",
     "shell.execute_reply": "2022-05-13T17:26:58.116417Z",
     "shell.execute_reply.started": "2022-05-13T16:07:06.772864Z"
    },
    "papermill": {
     "duration": 0.077377,
     "end_time": "2022-05-13T17:26:58.117156",
     "exception": false,
     "start_time": "2022-05-13T17:26:58.039779",
     "status": "completed"
    },
    "tags": []
   },
   "outputs": [
    {
     "name": "stdout",
     "output_type": "stream",
     "text": [
      "(350, 6)\n"
     ]
    },
    {
     "data": {
      "text/html": [
       "<div>\n",
       "<style scoped>\n",
       "    .dataframe tbody tr th:only-of-type {\n",
       "        vertical-align: middle;\n",
       "    }\n",
       "\n",
       "    .dataframe tbody tr th {\n",
       "        vertical-align: top;\n",
       "    }\n",
       "\n",
       "    .dataframe thead th {\n",
       "        text-align: right;\n",
       "    }\n",
       "</style>\n",
       "<table border=\"1\" class=\"dataframe\">\n",
       "  <thead>\n",
       "    <tr style=\"text-align: right;\">\n",
       "      <th></th>\n",
       "      <th>date</th>\n",
       "      <th>type</th>\n",
       "      <th>locale</th>\n",
       "      <th>locale_name</th>\n",
       "      <th>description</th>\n",
       "      <th>transferred</th>\n",
       "    </tr>\n",
       "  </thead>\n",
       "  <tbody>\n",
       "    <tr>\n",
       "      <th>0</th>\n",
       "      <td>2012-03-02</td>\n",
       "      <td>Holiday</td>\n",
       "      <td>Local</td>\n",
       "      <td>Manta</td>\n",
       "      <td>Fundacion de Manta</td>\n",
       "      <td>False</td>\n",
       "    </tr>\n",
       "    <tr>\n",
       "      <th>1</th>\n",
       "      <td>2012-04-01</td>\n",
       "      <td>Holiday</td>\n",
       "      <td>Regional</td>\n",
       "      <td>Cotopaxi</td>\n",
       "      <td>Provincializacion de Cotopaxi</td>\n",
       "      <td>False</td>\n",
       "    </tr>\n",
       "    <tr>\n",
       "      <th>2</th>\n",
       "      <td>2012-04-12</td>\n",
       "      <td>Holiday</td>\n",
       "      <td>Local</td>\n",
       "      <td>Cuenca</td>\n",
       "      <td>Fundacion de Cuenca</td>\n",
       "      <td>False</td>\n",
       "    </tr>\n",
       "    <tr>\n",
       "      <th>3</th>\n",
       "      <td>2012-04-14</td>\n",
       "      <td>Holiday</td>\n",
       "      <td>Local</td>\n",
       "      <td>Libertad</td>\n",
       "      <td>Cantonizacion de Libertad</td>\n",
       "      <td>False</td>\n",
       "    </tr>\n",
       "    <tr>\n",
       "      <th>4</th>\n",
       "      <td>2012-04-21</td>\n",
       "      <td>Holiday</td>\n",
       "      <td>Local</td>\n",
       "      <td>Riobamba</td>\n",
       "      <td>Cantonizacion de Riobamba</td>\n",
       "      <td>False</td>\n",
       "    </tr>\n",
       "    <tr>\n",
       "      <th>5</th>\n",
       "      <td>2012-05-12</td>\n",
       "      <td>Holiday</td>\n",
       "      <td>Local</td>\n",
       "      <td>Puyo</td>\n",
       "      <td>Cantonizacion del Puyo</td>\n",
       "      <td>False</td>\n",
       "    </tr>\n",
       "    <tr>\n",
       "      <th>6</th>\n",
       "      <td>2012-06-23</td>\n",
       "      <td>Holiday</td>\n",
       "      <td>Local</td>\n",
       "      <td>Guaranda</td>\n",
       "      <td>Cantonizacion de Guaranda</td>\n",
       "      <td>False</td>\n",
       "    </tr>\n",
       "    <tr>\n",
       "      <th>7</th>\n",
       "      <td>2012-06-25</td>\n",
       "      <td>Holiday</td>\n",
       "      <td>Regional</td>\n",
       "      <td>Imbabura</td>\n",
       "      <td>Provincializacion de Imbabura</td>\n",
       "      <td>False</td>\n",
       "    </tr>\n",
       "    <tr>\n",
       "      <th>8</th>\n",
       "      <td>2012-06-25</td>\n",
       "      <td>Holiday</td>\n",
       "      <td>Local</td>\n",
       "      <td>Latacunga</td>\n",
       "      <td>Cantonizacion de Latacunga</td>\n",
       "      <td>False</td>\n",
       "    </tr>\n",
       "    <tr>\n",
       "      <th>9</th>\n",
       "      <td>2012-06-25</td>\n",
       "      <td>Holiday</td>\n",
       "      <td>Local</td>\n",
       "      <td>Machala</td>\n",
       "      <td>Fundacion de Machala</td>\n",
       "      <td>False</td>\n",
       "    </tr>\n",
       "  </tbody>\n",
       "</table>\n",
       "</div>"
      ],
      "text/plain": [
       "         date     type    locale locale_name                    description  \\\n",
       "0  2012-03-02  Holiday     Local       Manta             Fundacion de Manta   \n",
       "1  2012-04-01  Holiday  Regional    Cotopaxi  Provincializacion de Cotopaxi   \n",
       "2  2012-04-12  Holiday     Local      Cuenca            Fundacion de Cuenca   \n",
       "3  2012-04-14  Holiday     Local    Libertad      Cantonizacion de Libertad   \n",
       "4  2012-04-21  Holiday     Local    Riobamba      Cantonizacion de Riobamba   \n",
       "5  2012-05-12  Holiday     Local        Puyo         Cantonizacion del Puyo   \n",
       "6  2012-06-23  Holiday     Local    Guaranda      Cantonizacion de Guaranda   \n",
       "7  2012-06-25  Holiday  Regional    Imbabura  Provincializacion de Imbabura   \n",
       "8  2012-06-25  Holiday     Local   Latacunga     Cantonizacion de Latacunga   \n",
       "9  2012-06-25  Holiday     Local     Machala           Fundacion de Machala   \n",
       "\n",
       "   transferred  \n",
       "0        False  \n",
       "1        False  \n",
       "2        False  \n",
       "3        False  \n",
       "4        False  \n",
       "5        False  \n",
       "6        False  \n",
       "7        False  \n",
       "8        False  \n",
       "9        False  "
      ]
     },
     "execution_count": 7,
     "metadata": {},
     "output_type": "execute_result"
    }
   ],
   "source": [
    "event=pd.read_csv(event)\n",
    "print(event.shape) #(3000888, 6)\n",
    "event.head(10)"
   ]
  },
  {
   "cell_type": "markdown",
   "id": "620c9a1e",
   "metadata": {
    "papermill": {
     "duration": 0.059471,
     "end_time": "2022-05-13T17:26:58.238046",
     "exception": false,
     "start_time": "2022-05-13T17:26:58.178575",
     "status": "completed"
    },
    "tags": []
   },
   "source": [
    "# Transactions \n",
    "The original transaction dataset is 83488 rows × 3 columns. There was no missing data."
   ]
  },
  {
   "cell_type": "code",
   "execution_count": 8,
   "id": "c18a2cfa",
   "metadata": {
    "execution": {
     "iopub.execute_input": "2022-05-13T17:26:58.360399Z",
     "iopub.status.busy": "2022-05-13T17:26:58.359683Z",
     "iopub.status.idle": "2022-05-13T17:26:58.459087Z",
     "shell.execute_reply": "2022-05-13T17:26:58.458592Z",
     "shell.execute_reply.started": "2022-05-13T15:53:44.476955Z"
    },
    "papermill": {
     "duration": 0.162105,
     "end_time": "2022-05-13T17:26:58.459190",
     "exception": false,
     "start_time": "2022-05-13T17:26:58.297085",
     "status": "completed"
    },
    "tags": []
   },
   "outputs": [
    {
     "data": {
      "text/html": [
       "<div>\n",
       "<style scoped>\n",
       "    .dataframe tbody tr th:only-of-type {\n",
       "        vertical-align: middle;\n",
       "    }\n",
       "\n",
       "    .dataframe tbody tr th {\n",
       "        vertical-align: top;\n",
       "    }\n",
       "\n",
       "    .dataframe thead th {\n",
       "        text-align: right;\n",
       "    }\n",
       "</style>\n",
       "<table border=\"1\" class=\"dataframe\">\n",
       "  <thead>\n",
       "    <tr style=\"text-align: right;\">\n",
       "      <th></th>\n",
       "      <th>date</th>\n",
       "      <th>store_nbr</th>\n",
       "      <th>transactions</th>\n",
       "    </tr>\n",
       "  </thead>\n",
       "  <tbody>\n",
       "    <tr>\n",
       "      <th>0</th>\n",
       "      <td>2013-01-01</td>\n",
       "      <td>25</td>\n",
       "      <td>770</td>\n",
       "    </tr>\n",
       "    <tr>\n",
       "      <th>1</th>\n",
       "      <td>2013-01-02</td>\n",
       "      <td>1</td>\n",
       "      <td>2111</td>\n",
       "    </tr>\n",
       "    <tr>\n",
       "      <th>2</th>\n",
       "      <td>2013-01-02</td>\n",
       "      <td>2</td>\n",
       "      <td>2358</td>\n",
       "    </tr>\n",
       "    <tr>\n",
       "      <th>3</th>\n",
       "      <td>2013-01-02</td>\n",
       "      <td>3</td>\n",
       "      <td>3487</td>\n",
       "    </tr>\n",
       "    <tr>\n",
       "      <th>4</th>\n",
       "      <td>2013-01-02</td>\n",
       "      <td>4</td>\n",
       "      <td>1922</td>\n",
       "    </tr>\n",
       "  </tbody>\n",
       "</table>\n",
       "</div>"
      ],
      "text/plain": [
       "         date  store_nbr  transactions\n",
       "0  2013-01-01         25           770\n",
       "1  2013-01-02          1          2111\n",
       "2  2013-01-02          2          2358\n",
       "3  2013-01-02          3          3487\n",
       "4  2013-01-02          4          1922"
      ]
     },
     "execution_count": 8,
     "metadata": {},
     "output_type": "execute_result"
    }
   ],
   "source": [
    "tDF=pd.read_csv(transaction)\n",
    "tDF.drop_duplicates() \n",
    "tDF.dropna(axis=0, how='any', thresh=None, subset=None, inplace=False) \n",
    "tDF.head() "
   ]
  },
  {
   "cell_type": "code",
   "execution_count": 9,
   "id": "e9be601f",
   "metadata": {
    "execution": {
     "iopub.execute_input": "2022-05-13T17:26:58.543877Z",
     "iopub.status.busy": "2022-05-13T17:26:58.543384Z",
     "iopub.status.idle": "2022-05-13T17:26:58.702917Z",
     "shell.execute_reply": "2022-05-13T17:26:58.702372Z",
     "shell.execute_reply.started": "2022-05-13T15:53:44.551408Z"
    },
    "papermill": {
     "duration": 0.204199,
     "end_time": "2022-05-13T17:26:58.703077",
     "exception": false,
     "start_time": "2022-05-13T17:26:58.498878",
     "status": "completed"
    },
    "tags": []
   },
   "outputs": [
    {
     "data": {
      "text/html": [
       "<div>\n",
       "<style scoped>\n",
       "    .dataframe tbody tr th:only-of-type {\n",
       "        vertical-align: middle;\n",
       "    }\n",
       "\n",
       "    .dataframe tbody tr th {\n",
       "        vertical-align: top;\n",
       "    }\n",
       "\n",
       "    .dataframe thead th {\n",
       "        text-align: right;\n",
       "    }\n",
       "</style>\n",
       "<table border=\"1\" class=\"dataframe\">\n",
       "  <thead>\n",
       "    <tr style=\"text-align: right;\">\n",
       "      <th></th>\n",
       "      <th>date</th>\n",
       "      <th>store_nbr</th>\n",
       "      <th>transactions</th>\n",
       "      <th>year</th>\n",
       "      <th>month</th>\n",
       "      <th>day</th>\n",
       "    </tr>\n",
       "  </thead>\n",
       "  <tbody>\n",
       "    <tr>\n",
       "      <th>0</th>\n",
       "      <td>2013-01-01</td>\n",
       "      <td>25</td>\n",
       "      <td>770</td>\n",
       "      <td>2013</td>\n",
       "      <td>1</td>\n",
       "      <td>1</td>\n",
       "    </tr>\n",
       "    <tr>\n",
       "      <th>1</th>\n",
       "      <td>2013-01-02</td>\n",
       "      <td>1</td>\n",
       "      <td>2111</td>\n",
       "      <td>2013</td>\n",
       "      <td>1</td>\n",
       "      <td>2</td>\n",
       "    </tr>\n",
       "    <tr>\n",
       "      <th>2</th>\n",
       "      <td>2013-01-02</td>\n",
       "      <td>2</td>\n",
       "      <td>2358</td>\n",
       "      <td>2013</td>\n",
       "      <td>1</td>\n",
       "      <td>2</td>\n",
       "    </tr>\n",
       "    <tr>\n",
       "      <th>3</th>\n",
       "      <td>2013-01-02</td>\n",
       "      <td>3</td>\n",
       "      <td>3487</td>\n",
       "      <td>2013</td>\n",
       "      <td>1</td>\n",
       "      <td>2</td>\n",
       "    </tr>\n",
       "    <tr>\n",
       "      <th>4</th>\n",
       "      <td>2013-01-02</td>\n",
       "      <td>4</td>\n",
       "      <td>1922</td>\n",
       "      <td>2013</td>\n",
       "      <td>1</td>\n",
       "      <td>2</td>\n",
       "    </tr>\n",
       "  </tbody>\n",
       "</table>\n",
       "</div>"
      ],
      "text/plain": [
       "         date  store_nbr  transactions  year  month  day\n",
       "0  2013-01-01         25           770  2013      1    1\n",
       "1  2013-01-02          1          2111  2013      1    2\n",
       "2  2013-01-02          2          2358  2013      1    2\n",
       "3  2013-01-02          3          3487  2013      1    2\n",
       "4  2013-01-02          4          1922  2013      1    2"
      ]
     },
     "execution_count": 9,
     "metadata": {},
     "output_type": "execute_result"
    }
   ],
   "source": [
    "#Feature three new columns with year, month, and day:\n",
    "tDF['year']=tDF['date'].apply(lambda x: int(str(x)[:4])) #first four\n",
    "tDF['month']=tDF['date'].apply(lambda x: int(str(x)[5:7])) #five and six\n",
    "tDF['day']=tDF['date'].apply(lambda x: int(str(x)[-2:])) # last two\n",
    "\n",
    "#Verify the new columns are setup correctly:\n",
    "#print(tDF['day'].unique()) # Correctly prints numbers 1 to 31\n",
    "#print(tDF['month'].unique()) # [ 1  2  3  4  5  6  7  8  9 10 11 12]\n",
    "#print(tDF['year'].unique()) # [2013 2014 2015 2016 2017]\n",
    "\n",
    "tDF.head() "
   ]
  },
  {
   "cell_type": "code",
   "execution_count": 10,
   "id": "ac4b7a1d",
   "metadata": {
    "execution": {
     "iopub.execute_input": "2022-05-13T17:26:58.833819Z",
     "iopub.status.busy": "2022-05-13T17:26:58.833091Z",
     "iopub.status.idle": "2022-05-13T17:26:58.837503Z",
     "shell.execute_reply": "2022-05-13T17:26:58.837875Z",
     "shell.execute_reply.started": "2022-05-13T15:53:44.826689Z"
    },
    "papermill": {
     "duration": 0.071824,
     "end_time": "2022-05-13T17:26:58.838081",
     "exception": false,
     "start_time": "2022-05-13T17:26:58.766257",
     "status": "completed"
    },
    "tags": []
   },
   "outputs": [
    {
     "data": {
      "text/plain": [
       "date            object\n",
       "store_nbr        int64\n",
       "transactions     int64\n",
       "year             int64\n",
       "month            int64\n",
       "day              int64\n",
       "dtype: object"
      ]
     },
     "execution_count": 10,
     "metadata": {},
     "output_type": "execute_result"
    }
   ],
   "source": [
    "tDF.dtypes"
   ]
  },
  {
   "cell_type": "markdown",
   "id": "88a02639",
   "metadata": {
    "papermill": {
     "duration": 0.046306,
     "end_time": "2022-05-13T17:26:58.934447",
     "exception": false,
     "start_time": "2022-05-13T17:26:58.888141",
     "status": "completed"
    },
    "tags": []
   },
   "source": [
    "# Find Missing Values"
   ]
  },
  {
   "cell_type": "code",
   "execution_count": 11,
   "id": "ecd3efd8",
   "metadata": {
    "execution": {
     "iopub.execute_input": "2022-05-13T17:26:59.022828Z",
     "iopub.status.busy": "2022-05-13T17:26:59.022302Z",
     "iopub.status.idle": "2022-05-13T17:26:59.176931Z",
     "shell.execute_reply": "2022-05-13T17:26:59.176340Z",
     "shell.execute_reply.started": "2022-05-13T15:53:44.838246Z"
    },
    "papermill": {
     "duration": 0.200922,
     "end_time": "2022-05-13T17:26:59.177104",
     "exception": false,
     "start_time": "2022-05-13T17:26:58.976182",
     "status": "completed"
    },
    "tags": []
   },
   "outputs": [
    {
     "name": "stdout",
     "output_type": "stream",
     "text": [
      "Missing data by column as a percent:\n",
      "id           0.0\n",
      "date         0.0\n",
      "store_nbr    0.0\n",
      "family       0.0\n",
      "sales        0.0\n",
      "dtype: float64\n"
     ]
    }
   ],
   "source": [
    "#search for columns with missing values:\n",
    "def findNA():\n",
    "    print(\"Missing data by column as a percent:\")\n",
    "    findNA=train.isnull().sum().sort_values(ascending=False)/len(train)\n",
    "    print(findNA.head())\n",
    "findNA() "
   ]
  },
  {
   "cell_type": "markdown",
   "id": "860f571a",
   "metadata": {
    "papermill": {
     "duration": 0.061011,
     "end_time": "2022-05-13T17:26:59.299939",
     "exception": false,
     "start_time": "2022-05-13T17:26:59.238928",
     "status": "completed"
    },
    "tags": []
   },
   "source": [
    "# Yearly Sales\n",
    "The graph clearly shows that sales went down in 2017. This is not a good trend. Prior to 2017, sales were mostly flat from years 2013 to 2016. There is a negative correlation, -.57 which verifies that sales are decreasing.  "
   ]
  },
  {
   "cell_type": "code",
   "execution_count": 12,
   "id": "52d475a4",
   "metadata": {
    "execution": {
     "iopub.execute_input": "2022-05-13T17:26:59.433177Z",
     "iopub.status.busy": "2022-05-13T17:26:59.432315Z",
     "iopub.status.idle": "2022-05-13T17:26:59.630496Z",
     "shell.execute_reply": "2022-05-13T17:26:59.630059Z",
     "shell.execute_reply.started": "2022-05-13T15:53:45.238232Z"
    },
    "papermill": {
     "duration": 0.267224,
     "end_time": "2022-05-13T17:26:59.630666",
     "exception": false,
     "start_time": "2022-05-13T17:26:59.363442",
     "status": "completed"
    },
    "tags": []
   },
   "outputs": [
    {
     "name": "stdout",
     "output_type": "stream",
     "text": [
      "   year  transactions\n",
      "0  2013      29107173\n",
      "1  2014      30006929\n",
      "2  2015      31312370\n",
      "3  2016      31052337\n",
      "4  2017      20000136\n"
     ]
    },
    {
     "data": {
      "image/png": "[encoded data removed]",
      "text/plain": [
       "<Figure size 432x288 with 1 Axes>"
      ]
     },
     "metadata": {
      "needs_background": "light"
     },
     "output_type": "display_data"
    },
    {
     "name": "stdout",
     "output_type": "stream",
     "text": [
      "-0.5752  is the correlations between year and transactions\n"
     ]
    }
   ],
   "source": [
    "yearGb=tDF.groupby('year')['transactions'].sum().reset_index()\n",
    "print(yearGb)\n",
    "x=yearGb['year']\n",
    "y=yearGb['transactions']\n",
    "plt.title(\"Transactions By Year:\")\n",
    "plt.xticks(rotation=90)\n",
    "plt.bar(x,y)\n",
    "plt.show()\n",
    "\n",
    "yearCorr=x.corr(y).round(4)\n",
    "print(yearCorr, \" is the correlations between year and transactions\")"
   ]
  },
  {
   "cell_type": "markdown",
   "id": "3dd26e1c",
   "metadata": {
    "papermill": {
     "duration": 0.042167,
     "end_time": "2022-05-13T17:26:59.715568",
     "exception": false,
     "start_time": "2022-05-13T17:26:59.673401",
     "status": "completed"
    },
    "tags": []
   },
   "source": [
    "# Monthly Sales \n",
    "Sales are the least in September, October, and November. The rest of the months are fairly similiar. Surprisingly, December did not have the highest sales as normally that is when stores have most of their sales from Christmas."
   ]
  },
  {
   "cell_type": "code",
   "execution_count": 13,
   "id": "ab3f6b4b",
   "metadata": {
    "execution": {
     "iopub.execute_input": "2022-05-13T17:26:59.806994Z",
     "iopub.status.busy": "2022-05-13T17:26:59.806417Z",
     "iopub.status.idle": "2022-05-13T17:26:59.982111Z",
     "shell.execute_reply": "2022-05-13T17:26:59.981504Z",
     "shell.execute_reply.started": "2022-05-13T15:53:45.484093Z"
    },
    "papermill": {
     "duration": 0.224221,
     "end_time": "2022-05-13T17:26:59.982252",
     "exception": false,
     "start_time": "2022-05-13T17:26:59.758031",
     "status": "completed"
    },
    "tags": []
   },
   "outputs": [
    {
     "name": "stdout",
     "output_type": "stream",
     "text": [
      "    month  transactions\n",
      "0       1      12156198\n",
      "1       2      11707934\n",
      "2       3      12917913\n",
      "3       4      12633531\n",
      "4       5      13112679\n",
      "5       6      12482179\n",
      "6       7      12827206\n",
      "7       8      11545571\n",
      "8       9       9811819\n",
      "9      10      10048234\n",
      "10     11       9877873\n",
      "11     12      12357808\n"
     ]
    },
    {
     "data": {
      "image/png": "[encoded data removed]",
      "text/plain": [
       "<Figure size 432x288 with 1 Axes>"
      ]
     },
     "metadata": {
      "needs_background": "light"
     },
     "output_type": "display_data"
    },
    {
     "name": "stdout",
     "output_type": "stream",
     "text": [
      "-0.545  is the correlations between month and transactions\n"
     ]
    }
   ],
   "source": [
    "monthGb=tDF.groupby('month')['transactions'].sum().reset_index()\n",
    "print(monthGb)\n",
    "x=monthGb['month']\n",
    "y=monthGb['transactions']\n",
    "plt.title(\"Transactions By Month:\")\n",
    "plt.xticks(rotation=90)\n",
    "plt.bar(x,y)\n",
    "plt.show()\n",
    "\n",
    "monthCorr=x.corr(y).round(4)\n",
    "print(monthCorr, \" is the correlations between month and transactions\")"
   ]
  },
  {
   "cell_type": "markdown",
   "id": "c25699c9",
   "metadata": {
    "papermill": {
     "duration": 0.064844,
     "end_time": "2022-05-13T17:27:00.113908",
     "exception": false,
     "start_time": "2022-05-13T17:27:00.049064",
     "status": "completed"
    },
    "tags": []
   },
   "source": [
    "# Family"
   ]
  },
  {
   "cell_type": "code",
   "execution_count": 14,
   "id": "68c83053",
   "metadata": {
    "execution": {
     "iopub.execute_input": "2022-05-13T17:27:00.330252Z",
     "iopub.status.busy": "2022-05-13T17:27:00.234640Z",
     "iopub.status.idle": "2022-05-13T17:27:00.729152Z",
     "shell.execute_reply": "2022-05-13T17:27:00.728595Z",
     "shell.execute_reply.started": "2022-05-13T15:53:45.741374Z"
    },
    "papermill": {
     "duration": 0.549411,
     "end_time": "2022-05-13T17:27:00.729277",
     "exception": false,
     "start_time": "2022-05-13T17:27:00.179866",
     "status": "completed"
    },
    "tags": []
   },
   "outputs": [
    {
     "data": {
      "image/png": "[encoded data removed]",
      "text/plain": [
       "<Figure size 432x288 with 1 Axes>"
      ]
     },
     "metadata": {
      "needs_background": "light"
     },
     "output_type": "display_data"
    }
   ],
   "source": [
    "famGb=train.groupby('family')['sales'].sum().reset_index().sort_values('sales', ascending=False).head(15)\n",
    "#print(famGb)\n",
    "x=famGb['family']\n",
    "y=famGb['sales']\n",
    "plt.title(\"Transactions By Family:\")\n",
    "plt.xticks(rotation=90)\n",
    "plt.bar(x,y)\n",
    "plt.show()"
   ]
  },
  {
   "cell_type": "markdown",
   "id": "b1cd65d5",
   "metadata": {
    "papermill": {
     "duration": 0.06904,
     "end_time": "2022-05-13T17:27:00.866802",
     "exception": false,
     "start_time": "2022-05-13T17:27:00.797762",
     "status": "completed"
    },
    "tags": []
   },
   "source": [
    "# Numeric DataFrame"
   ]
  },
  {
   "cell_type": "code",
   "execution_count": 15,
   "id": "19b5ef40",
   "metadata": {
    "execution": {
     "iopub.execute_input": "2022-05-13T17:27:00.970077Z",
     "iopub.status.busy": "2022-05-13T17:27:00.969346Z",
     "iopub.status.idle": "2022-05-13T17:27:01.025787Z",
     "shell.execute_reply": "2022-05-13T17:27:01.025072Z",
     "shell.execute_reply.started": "2022-05-13T15:53:46.255668Z"
    },
    "papermill": {
     "duration": 0.105603,
     "end_time": "2022-05-13T17:27:01.025920",
     "exception": false,
     "start_time": "2022-05-13T17:27:00.920317",
     "status": "completed"
    },
    "tags": []
   },
   "outputs": [
    {
     "data": {
      "text/html": [
       "<div>\n",
       "<style scoped>\n",
       "    .dataframe tbody tr th:only-of-type {\n",
       "        vertical-align: middle;\n",
       "    }\n",
       "\n",
       "    .dataframe tbody tr th {\n",
       "        vertical-align: top;\n",
       "    }\n",
       "\n",
       "    .dataframe thead th {\n",
       "        text-align: right;\n",
       "    }\n",
       "</style>\n",
       "<table border=\"1\" class=\"dataframe\">\n",
       "  <thead>\n",
       "    <tr style=\"text-align: right;\">\n",
       "      <th></th>\n",
       "      <th>id</th>\n",
       "      <th>store_nbr</th>\n",
       "      <th>sales</th>\n",
       "      <th>onpromotion</th>\n",
       "      <th>month</th>\n",
       "    </tr>\n",
       "  </thead>\n",
       "  <tbody>\n",
       "    <tr>\n",
       "      <th>563</th>\n",
       "      <td>563</td>\n",
       "      <td>25</td>\n",
       "      <td>2.000</td>\n",
       "      <td>0</td>\n",
       "      <td>1</td>\n",
       "    </tr>\n",
       "    <tr>\n",
       "      <th>564</th>\n",
       "      <td>564</td>\n",
       "      <td>25</td>\n",
       "      <td>810.000</td>\n",
       "      <td>0</td>\n",
       "      <td>1</td>\n",
       "    </tr>\n",
       "    <tr>\n",
       "      <th>566</th>\n",
       "      <td>566</td>\n",
       "      <td>25</td>\n",
       "      <td>180.589</td>\n",
       "      <td>0</td>\n",
       "      <td>1</td>\n",
       "    </tr>\n",
       "    <tr>\n",
       "      <th>568</th>\n",
       "      <td>568</td>\n",
       "      <td>25</td>\n",
       "      <td>186.000</td>\n",
       "      <td>0</td>\n",
       "      <td>1</td>\n",
       "    </tr>\n",
       "    <tr>\n",
       "      <th>569</th>\n",
       "      <td>569</td>\n",
       "      <td>25</td>\n",
       "      <td>143.000</td>\n",
       "      <td>0</td>\n",
       "      <td>1</td>\n",
       "    </tr>\n",
       "  </tbody>\n",
       "</table>\n",
       "</div>"
      ],
      "text/plain": [
       "      id  store_nbr    sales  onpromotion  month\n",
       "563  563         25    2.000            0      1\n",
       "564  564         25  810.000            0      1\n",
       "566  566         25  180.589            0      1\n",
       "568  568         25  186.000            0      1\n",
       "569  569         25  143.000            0      1"
      ]
     },
     "execution_count": 15,
     "metadata": {},
     "output_type": "execute_result"
    }
   ],
   "source": [
    "numerics = ['int16', 'int32', 'int64', 'float16', 'float32', 'float64']\n",
    "train = train.select_dtypes(include=numerics)\n",
    "train.head()"
   ]
  },
  {
   "cell_type": "markdown",
   "id": "fbcc7ba4",
   "metadata": {
    "papermill": {
     "duration": 0.067741,
     "end_time": "2022-05-13T17:27:01.163607",
     "exception": false,
     "start_time": "2022-05-13T17:27:01.095866",
     "status": "completed"
    },
    "tags": []
   },
   "source": [
    "# Split Data"
   ]
  },
  {
   "cell_type": "code",
   "execution_count": 16,
   "id": "e42b8fd5",
   "metadata": {
    "execution": {
     "iopub.execute_input": "2022-05-13T17:27:01.304809Z",
     "iopub.status.busy": "2022-05-13T17:27:01.304210Z",
     "iopub.status.idle": "2022-05-13T17:27:01.704287Z",
     "shell.execute_reply": "2022-05-13T17:27:01.704777Z",
     "shell.execute_reply.started": "2022-05-13T15:53:46.357881Z"
    },
    "papermill": {
     "duration": 0.472666,
     "end_time": "2022-05-13T17:27:01.704971",
     "exception": false,
     "start_time": "2022-05-13T17:27:01.232305",
     "status": "completed"
    },
    "tags": []
   },
   "outputs": [],
   "source": [
    "X=train.drop('sales', axis=1)\n",
    "y=train['sales']\n",
    "\n",
    "X_train, X_test, y_train, y_test = train_test_split(\n",
    "    X, y, test_size = 0.30, random_state = 42)"
   ]
  },
  {
   "cell_type": "markdown",
   "id": "3430b489",
   "metadata": {
    "papermill": {
     "duration": 0.068875,
     "end_time": "2022-05-13T17:27:01.843321",
     "exception": false,
     "start_time": "2022-05-13T17:27:01.774446",
     "status": "completed"
    },
    "tags": []
   },
   "source": [
    "# Linear Regression"
   ]
  },
  {
   "cell_type": "code",
   "execution_count": 17,
   "id": "b4ac4209",
   "metadata": {
    "execution": {
     "iopub.execute_input": "2022-05-13T17:27:01.990781Z",
     "iopub.status.busy": "2022-05-13T17:27:01.989813Z",
     "iopub.status.idle": "2022-05-13T17:27:03.528071Z",
     "shell.execute_reply": "2022-05-13T17:27:03.528550Z",
     "shell.execute_reply.started": "2022-05-13T15:53:46.772733Z"
    },
    "papermill": {
     "duration": 1.61613,
     "end_time": "2022-05-13T17:27:03.528687",
     "exception": false,
     "start_time": "2022-05-13T17:27:01.912557",
     "status": "completed"
    },
    "tags": []
   },
   "outputs": [
    {
     "name": "stdout",
     "output_type": "stream",
     "text": [
      "Linear regression r2 score:  0.1774\n",
      "Linear Accuracy:  0.1774\n",
      "0.1388  linear regression cross validate mean\n",
      "1186.8782  is lr MSE \n"
     ]
    },
    {
     "data": {
      "image/png": "[encoded data removed]",
      "text/plain": [
       "<Figure size 432x288 with 1 Axes>"
      ]
     },
     "metadata": {
      "needs_background": "light"
     },
     "output_type": "display_data"
    }
   ],
   "source": [
    "from sklearn.linear_model import LinearRegression, Ridge, Lasso\n",
    "\n",
    "#Fit and predict:\n",
    "lrModel = LinearRegression()\n",
    "lrModel.fit(X_train, y_train)\n",
    "lrPredict = lrModel.predict(X_test)\n",
    "\n",
    "# plt.scatter(y_test, predictions)\n",
    "plt.hist(y_test - lrPredict)\n",
    "\n",
    "#Linear Metrics:\n",
    "#auc = round( metrics.roc_auc_score(y_test, lrPredict), 4 ) \n",
    "r2 = r2_score(y_test, lrPredict).round(4) \n",
    "#print(\"AUC for linear regression is: \", auc)\n",
    "print(\"Linear regression r2 score: \", r2)\n",
    "\n",
    "#CROSS VALIDATE TEST RESULTS:\n",
    "lr_score = lrModel.score(X_test, y_test).round(4)  # train test \n",
    "print(\"Linear Accuracy: \", lr_score)\n",
    "lr_cv = cross_validate(lrModel, X, y, cv = 5, scoring= 'r2')\n",
    "lr_cvMean=lr_cv['test_score'].mean().round(4)\n",
    "print(lr_cvMean, \" linear regression cross validate mean\")\n",
    "\n",
    "lrMSE=np.sqrt(metrics.mean_squared_error(y_test, lrPredict))\n",
    "print(round(lrMSE, 4), \" is lr MSE \")"
   ]
  },
  {
   "cell_type": "markdown",
   "id": "431e0014",
   "metadata": {
    "papermill": {
     "duration": 0.046413,
     "end_time": "2022-05-13T17:27:03.621927",
     "exception": false,
     "start_time": "2022-05-13T17:27:03.575514",
     "status": "completed"
    },
    "tags": []
   },
   "source": [
    "# Decision Tree\n",
    "When the automation parameters runs, the higher than max_depth and max_leaf_nodes the better the r-squared with the least amount of error. "
   ]
  },
  {
   "cell_type": "code",
   "execution_count": 18,
   "id": "705e6c6a",
   "metadata": {
    "execution": {
     "iopub.execute_input": "2022-05-13T17:27:03.719938Z",
     "iopub.status.busy": "2022-05-13T17:27:03.719426Z",
     "iopub.status.idle": "2022-05-13T17:27:03.731288Z",
     "shell.execute_reply": "2022-05-13T17:27:03.731664Z",
     "shell.execute_reply.started": "2022-05-13T15:53:49.186251Z"
    },
    "papermill": {
     "duration": 0.062002,
     "end_time": "2022-05-13T17:27:03.731803",
     "exception": false,
     "start_time": "2022-05-13T17:27:03.669801",
     "status": "completed"
    },
    "tags": []
   },
   "outputs": [],
   "source": [
    "from sklearn.tree import DecisionTreeRegressor\n",
    "\n",
    "#FIND best_tree_size LEAF NODES:\n",
    "def calcLeaf():\n",
    "    candidate_max_leaf_nodes = [5, 25, 50, 100, 250, 500]\n",
    "    maeDic={} #dictionary  key=leaf  mae=value\n",
    "    for leaf in candidate_max_leaf_nodes:\n",
    "        model = DecisionTreeRegressor(max_leaf_nodes=leaf, random_state=42)\n",
    "        model.fit(X_train, y_train)\n",
    "        y_pred = model.predict(X_test)\n",
    "        mae = mean_absolute_error(y_test, y_pred).round(4)\n",
    "        maeDic[leaf]=mae\n",
    "    print(maeDic)\n",
    "    best_tree_size = sorted(maeDic, key=lambda x : maeDic[x])[0]\n",
    "    print(best_tree_size)\n",
    "    \n",
    "def calcDepth():\n",
    "    max_depth_list = [2, 3, 5, 7, 9, 10, 12]\n",
    "    maeDic={} #dictionary  key=depth  mae=value\n",
    "    for d in max_depth_list:\n",
    "        model = DecisionTreeRegressor(max_leaf_nodes=100, max_depth=d, random_state=42)\n",
    "        model.fit(X_train, y_train)\n",
    "        y_pred = model.predict(X_test)\n",
    "        mae = mean_absolute_error(y_test, y_pred).round(4)\n",
    "        maeDic[d]=mae\n",
    "    print(maeDic)\n",
    "    best_max_depth = sorted(maeDic, key=lambda x : maeDic[x])[0]\n",
    "    print(best_max_depth, \" best max_depth with least error.\") #10\n",
    "    \n",
    "def automateTree():\n",
    "    print(\"Decision Tree Automating:\")\n",
    "    start=time.time()\n",
    "    candidate_max_leaf_nodes = [5, 50, 100, 250, 500]\n",
    "    max_depth_list = [2, 3, 5, 7, 9, 11]\n",
    "    \n",
    "    #STORE DATA INTO LISTS FOR DATAFRAME LATER:\n",
    "    aucList=[]\n",
    "    maeList=[]\n",
    "    maxDepthList=[]\n",
    "    maxLeafNodesList=[]\n",
    "\n",
    "    for d in max_depth_list:\n",
    "        for leaf in candidate_max_leaf_nodes:\n",
    "            model = DecisionTreeRegressor(max_leaf_nodes=leaf, max_depth=d, random_state=42)\n",
    "            model.fit(X_train, y_train)\n",
    "            y_pred = model.predict(X_test)\n",
    "            mae = mean_absolute_error(y_test, y_pred).round(4)\n",
    "            treeR2 = r2_score(y_test, y_pred).round(4)\n",
    "            \n",
    "            aucList.append(treeR2)\n",
    "            maeList.append(mae)\n",
    "            maxDepthList.append(d)\n",
    "            maxLeafNodesList.append(leaf)\n",
    "           \n",
    "    df = pd.DataFrame(list(zip(aucList, maeList, maxDepthList, maxLeafNodesList)),\n",
    "                          columns=['AUC','MAE', 'MaxDepth', 'MaxLeafNodes'])\n",
    "    \n",
    "    df=df.sort_values(by=['MAE'], ascending=False)\n",
    "    print(\"Done. \", round(time.time()-start,4), \" seconds\")\n",
    "    return df\n",
    "\n",
    "#treeDF=automateTree()    \n",
    "#treeDF.head(50)"
   ]
  },
  {
   "cell_type": "markdown",
   "id": "eea8cd72",
   "metadata": {
    "execution": {
     "iopub.execute_input": "2022-05-13T14:38:25.79726Z",
     "iopub.status.busy": "2022-05-13T14:38:25.796944Z",
     "iopub.status.idle": "2022-05-13T14:38:25.803726Z",
     "shell.execute_reply": "2022-05-13T14:38:25.802595Z",
     "shell.execute_reply.started": "2022-05-13T14:38:25.797218Z"
    },
    "papermill": {
     "duration": 0.045744,
     "end_time": "2022-05-13T17:27:03.823577",
     "exception": false,
     "start_time": "2022-05-13T17:27:03.777833",
     "status": "completed"
    },
    "tags": []
   },
   "source": [
    "#### Decision tree make prediction\n",
    "Input best_tree_size and best_depth from above functions. \n",
    "High accuracy does not equal high score. Best scores seem to take account error as well into account."
   ]
  },
  {
   "cell_type": "code",
   "execution_count": 19,
   "id": "5317c5b5",
   "metadata": {
    "execution": {
     "iopub.execute_input": "2022-05-13T17:27:03.926337Z",
     "iopub.status.busy": "2022-05-13T17:27:03.925792Z",
     "iopub.status.idle": "2022-05-13T17:27:07.945180Z",
     "shell.execute_reply": "2022-05-13T17:27:07.945693Z",
     "shell.execute_reply.started": "2022-05-13T15:53:49.205623Z"
    },
    "papermill": {
     "duration": 4.075255,
     "end_time": "2022-05-13T17:27:07.945891",
     "exception": false,
     "start_time": "2022-05-13T17:27:03.870636",
     "status": "completed"
    },
    "tags": []
   },
   "outputs": [
    {
     "name": "stdout",
     "output_type": "stream",
     "text": [
      "Decision Tree r-squared is: 0.3894\n"
     ]
    }
   ],
   "source": [
    "best_tree_size=100\n",
    "best_depth=11\n",
    "\n",
    "tree = DecisionTreeRegressor(max_leaf_nodes=best_tree_size, max_depth=best_depth, random_state=42)\n",
    "tree.fit(X, y)\n",
    "y_pred = tree.predict(X_test)\n",
    "\n",
    "#AUC and r2 metric\n",
    "tree_r2 = r2_score(y_test, y_pred).round(4)\n",
    "print(\"Decision Tree r-squared is:\", tree_r2)\n",
    "\n",
    "def printReports(y_test, y_pred):\n",
    "    print(classification_report(y_test, y_pred))\n",
    "    print(confusion_matrix(y_test, y_pred))"
   ]
  },
  {
   "cell_type": "markdown",
   "id": "416e535c",
   "metadata": {
    "papermill": {
     "duration": 0.065935,
     "end_time": "2022-05-13T17:27:08.078699",
     "exception": false,
     "start_time": "2022-05-13T17:27:08.012764",
     "status": "completed"
    },
    "tags": []
   },
   "source": [
    "# Gradient Boost\n",
    "The bigger max_depth, the better r-squared with less error:\n",
    "* 2  max_depth || GB reg r2:  0.0409 || MSE: 1174813.7646\n",
    "* 3  max_depth || GB reg r2:  0.0505 || MSE: 1163011.2060\n",
    "* 4  max_depth || GB reg r2:  0.057 || MSE: 1155141.4139\n",
    "* 5  max_depth || GB reg r2:  0.0641 || MSE: 1146393.4473\n",
    "* 7  max_depth || GB reg r2:  0.0723 || MSE: 1136326.4514\n",
    "\n",
    "The more n_estimators, the better r-squared with less error:\n",
    "* 2 n_estimators || GB regression r2:  0.0088 || MSE: 1214127.5659\n",
    "* 50 n_estimators || GB regression r2:  0.152 || MSE: 1038709.6658\n",
    "* 100 n_estimators || GB regression r2:  0.217 || MSE: 959162.1316\n",
    "* 200 n_estimators || GB regression r2:  0.2681 || MSE: 896548.3199\n",
    "* 300 n_estimators || GB regression r2:  0.2927 || MSE: 866340.3620\n",
    "* 400 n_estimators || GB regression r2:  0.308 || MSE: 847675.8794\n",
    "* 500 n_estimators || GB regression r2:  0.3184 || MSE: 834923.8771"
   ]
  },
  {
   "cell_type": "code",
   "execution_count": 20,
   "id": "78c3cceb",
   "metadata": {
    "execution": {
     "iopub.execute_input": "2022-05-13T17:27:08.217195Z",
     "iopub.status.busy": "2022-05-13T17:27:08.216478Z",
     "iopub.status.idle": "2022-05-13T17:27:08.278687Z",
     "shell.execute_reply": "2022-05-13T17:27:08.278135Z",
     "shell.execute_reply.started": "2022-05-13T15:53:52.798369Z"
    },
    "papermill": {
     "duration": 0.133051,
     "end_time": "2022-05-13T17:27:08.278824",
     "exception": false,
     "start_time": "2022-05-13T17:27:08.145773",
     "status": "completed"
    },
    "tags": []
   },
   "outputs": [],
   "source": [
    "from sklearn.inspection import permutation_importance\n",
    "from sklearn.ensemble import GradientBoostingClassifier,GradientBoostingRegressor\n",
    "\n",
    "def gbDepth():\n",
    "    depthList=[2, 3, 4, 5, 7]\n",
    "    print(\"staring max_depth calculations:\")\n",
    "    for d in depthList:\n",
    "        params = {\n",
    "         \"n_estimators\": 10, \"max_depth\": d, \n",
    "            \"min_samples_split\": 5, \"learning_rate\": 0.01,\n",
    "        }\n",
    "\n",
    "        #Fit and Predict:\n",
    "        reg = ensemble.GradientBoostingRegressor(**params)\n",
    "        reg.fit(X_train, y_train)\n",
    "        y_pred = reg.predict(X_test)\n",
    "        gbr_r2 = r2_score(y_test, y_pred).round(4) \n",
    "        mse = mean_squared_error(y_test, reg.predict(X_test))\n",
    "        print(d, \" max_depth || GB reg r2: \", gbr_r2, \"|| MSE: {:.4f}\".format(mse)) \n",
    "\n",
    "def gbN():\n",
    "    nList=[2, 50, 100, 200, 300, 400, 500]\n",
    "    print(\"starting GB n_estimators calculations:\")\n",
    "    for n in nList:\n",
    "        params = {\n",
    "         \"n_estimators\": n, \"max_depth\": 2, \n",
    "            \"min_samples_split\": 5, \"learning_rate\": 0.01,\n",
    "        }\n",
    "\n",
    "        #Fit and Predict:\n",
    "        reg = ensemble.GradientBoostingRegressor(**params)\n",
    "        reg.fit(X_train, y_train)\n",
    "        y_pred = reg.predict(X_test)\n",
    "        gbr_r2 = r2_score(y_test, y_pred).round(4) \n",
    "        mse = mean_squared_error(y_test, reg.predict(X_test))\n",
    "        print(n, \"n_estimators || GB regression r2: \", gbr_r2, \"|| MSE: {:.4f}\".format(mse)) \n",
    "\n",
    "def gbSplit():\n",
    "    sList=[2, 3, 5, 7]\n",
    "    \n",
    "    for s in sList:\n",
    "        params = {\n",
    "         \"n_estimators\": 500, \"max_depth\": 2,\n",
    "            \"min_samples_split\": s, \"learning_rate\": 0.01,\n",
    "        }\n",
    "\n",
    "        #Fit and Predict:\n",
    "        reg = ensemble.GradientBoostingRegressor(**params)\n",
    "        reg.fit(X_train, y_train)\n",
    "        y_pred = reg.predict(X_test)\n",
    "        gbr_r2 = r2_score(y_test, y_pred).round(4)\n",
    "        mse = mean_squared_error(y_test, reg.predict(X_test)).round(4)\n",
    "        print(s,\" min_samples_splits || R2 \", gbr_r2, \" || MSE {:.4f}\".format(mse))\n",
    "\n",
    "#Turn on or off functions here:\n",
    "#gbDepth()\n",
    "#gbN()\n",
    "#gbSplit()"
   ]
  },
  {
   "cell_type": "markdown",
   "id": "cebc7ace",
   "metadata": {
    "papermill": {
     "duration": 0.070899,
     "end_time": "2022-05-13T17:27:08.421675",
     "exception": false,
     "start_time": "2022-05-13T17:27:08.350776",
     "status": "completed"
    },
    "tags": []
   },
   "source": [
    "#### Gradient Boost Prediction\n",
    "Use functions above to find the best paramters to input below."
   ]
  },
  {
   "cell_type": "code",
   "execution_count": 21,
   "id": "7ff1663c",
   "metadata": {
    "execution": {
     "iopub.execute_input": "2022-05-13T17:27:08.571772Z",
     "iopub.status.busy": "2022-05-13T17:27:08.566845Z",
     "iopub.status.idle": "2022-05-13T17:27:08.574730Z",
     "shell.execute_reply": "2022-05-13T17:27:08.574130Z",
     "shell.execute_reply.started": "2022-05-13T15:53:52.816512Z"
    },
    "papermill": {
     "duration": 0.082247,
     "end_time": "2022-05-13T17:27:08.574882",
     "exception": false,
     "start_time": "2022-05-13T17:27:08.492635",
     "status": "completed"
    },
    "scrolled": true,
    "tags": []
   },
   "outputs": [],
   "source": [
    "def gb():\n",
    "    params = {\n",
    "     \"n_estimators\": 500, \"max_depth\": 7, \n",
    "        \"min_samples_split\": 3, \"learning_rate\": 0.01,\n",
    "    }\n",
    "\n",
    "    #Fit and Predict:\n",
    "    reg = ensemble.GradientBoostingRegressor(**params)\n",
    "    reg.fit(X_train, y_train)\n",
    "    y_pred = reg.predict(X_test)\n",
    "    gbr_r2 = r2_score(y_test, y_pred).round(4) \n",
    "    print(\"Gradient boosting regression r2: \", gbr_r2) \n",
    "\n",
    "    mse = mean_squared_error(y_test, reg.predict(X_test))\n",
    "    print(\"The mean squared error (MSE) on test set: {:.4f}\".format(mse))"
   ]
  },
  {
   "cell_type": "markdown",
   "id": "1fccf94f",
   "metadata": {
    "papermill": {
     "duration": 0.072331,
     "end_time": "2022-05-13T17:27:08.719388",
     "exception": false,
     "start_time": "2022-05-13T17:27:08.647057",
     "status": "completed"
    },
    "tags": []
   },
   "source": [
    "# Random Forest\n",
    "Random forest is too slow for n_estimators above 100 to test for error."
   ]
  },
  {
   "cell_type": "code",
   "execution_count": 22,
   "id": "9d388d4d",
   "metadata": {
    "execution": {
     "iopub.execute_input": "2022-05-13T17:27:08.873630Z",
     "iopub.status.busy": "2022-05-13T17:27:08.872961Z",
     "iopub.status.idle": "2022-05-13T17:27:08.875318Z",
     "shell.execute_reply": "2022-05-13T17:27:08.875868Z",
     "shell.execute_reply.started": "2022-05-13T15:53:52.833453Z"
    },
    "papermill": {
     "duration": 0.083984,
     "end_time": "2022-05-13T17:27:08.876069",
     "exception": false,
     "start_time": "2022-05-13T17:27:08.792085",
     "status": "completed"
    },
    "tags": []
   },
   "outputs": [],
   "source": [
    "from sklearn.ensemble import RandomForestRegressor, RandomForestClassifier\n",
    "\n",
    "#Check for Error and find Best n_estimators:\n",
    "def checkMAE():\n",
    "    dMAE={} #dictionary of n_estimators as key and MAE as value:\n",
    "    for n in range(2, 601, 100):\n",
    "        forest = RandomForestRegressor(n_estimators=n, random_state = 0)\n",
    "        forest.fit(X_train, y_train)\n",
    "        y_pred = forest.predict(X_test)\n",
    "        MAE=metrics.mean_absolute_error(y_test, y_pred).round(2)\n",
    "        #forest_auc = round( metrics.roc_auc_score(y_test, y_pred), 4 ) \n",
    "        dMAE[n]=MAE\n",
    "        print(n, \" n_estimates |\", MAE, \" MAE\")\n",
    "    dMAE=sorted(((v, k) for k, v in dMAE.items()), reverse=False)\n",
    "    print(dMAE)\n",
    "#checkMAE() "
   ]
  },
  {
   "cell_type": "markdown",
   "id": "7122d801",
   "metadata": {
    "papermill": {
     "duration": 0.070153,
     "end_time": "2022-05-13T17:27:09.019264",
     "exception": false,
     "start_time": "2022-05-13T17:27:08.949111",
     "status": "completed"
    },
    "tags": []
   },
   "source": [
    "## Final Forest Prediction"
   ]
  },
  {
   "cell_type": "code",
   "execution_count": 23,
   "id": "ec1d7123",
   "metadata": {
    "execution": {
     "iopub.execute_input": "2022-05-13T17:27:09.163249Z",
     "iopub.status.busy": "2022-05-13T17:27:09.162513Z",
     "iopub.status.idle": "2022-05-13T17:27:24.325938Z",
     "shell.execute_reply": "2022-05-13T17:27:24.325389Z",
     "shell.execute_reply.started": "2022-05-13T15:53:52.85323Z"
    },
    "papermill": {
     "duration": 15.236819,
     "end_time": "2022-05-13T17:27:24.326103",
     "exception": false,
     "start_time": "2022-05-13T17:27:09.089284",
     "status": "completed"
    },
    "tags": []
   },
   "outputs": [
    {
     "name": "stdout",
     "output_type": "stream",
     "text": [
      "Random forest r2:  0.1438\n",
      "Random forest MAE:  523.7\n"
     ]
    }
   ],
   "source": [
    "forestEst=2\n",
    "forest = RandomForestRegressor(n_estimators=forestEst, random_state = 0)\n",
    "forest.fit(X_train, y_train)\n",
    "y_pred = forest.predict(X_test)\n",
    "\n",
    "#Print Metrics:\n",
    "forest_r2 = r2_score(y_test, y_pred).round(4)   \n",
    "print(\"Random forest r2: \", forest_r2)\n",
    "\n",
    "mae=metrics.mean_absolute_error(y_test, y_pred).round(2)\n",
    "print(\"Random forest MAE: \", mae)"
   ]
  },
  {
   "cell_type": "markdown",
   "id": "b4565312",
   "metadata": {
    "papermill": {
     "duration": 0.068783,
     "end_time": "2022-05-13T17:27:24.466232",
     "exception": false,
     "start_time": "2022-05-13T17:27:24.397449",
     "status": "completed"
    },
    "tags": []
   },
   "source": [
    "# Support Vector \n",
    "The initial results for SVM AUC with no parameter tunning is 0.5336.  The model does not seem worth investing lots of time into due to poor AUC performance. \n",
    "\n",
    "#### GridSearch Tune\n",
    "The best parameters from tunning SVM is SVC(C=1000, gamma=0.0001)."
   ]
  },
  {
   "cell_type": "code",
   "execution_count": 24,
   "id": "1269f964",
   "metadata": {
    "execution": {
     "iopub.execute_input": "2022-05-13T17:27:24.612859Z",
     "iopub.status.busy": "2022-05-13T17:27:24.611684Z",
     "iopub.status.idle": "2022-05-13T17:27:24.615711Z",
     "shell.execute_reply": "2022-05-13T17:27:24.615083Z",
     "shell.execute_reply.started": "2022-05-13T15:54:06.602201Z"
    },
    "papermill": {
     "duration": 0.080426,
     "end_time": "2022-05-13T17:27:24.615848",
     "exception": false,
     "start_time": "2022-05-13T17:27:24.535422",
     "status": "completed"
    },
    "tags": []
   },
   "outputs": [],
   "source": [
    "from sklearn.model_selection import GridSearchCV\n",
    "from sklearn.svm import SVC\n",
    " \n",
    "def tuneSVM():\n",
    "    # defining parameter range\n",
    "    param_grid = {'C': [0.1, 1, 10, 100, 1000],\n",
    "                  'gamma': [1, 0.1, 0.01, 0.001, 0.0001],\n",
    "                  'kernel': ['linear']}\n",
    "\n",
    "    grid = GridSearchCV(SVC(), param_grid, refit = True, verbose = 3)\n",
    "\n",
    "    # fitting the model for grid search\n",
    "    grid.fit(X_train, y_train)\n",
    "\n",
    "    # print best parameter after tuning\n",
    "    print(grid.best_params_)\n",
    "\n",
    "    # print how our model looks after hyper-parameter tuning\n",
    "    print(grid.best_estimator_)\n",
    "#tuneSVM()"
   ]
  },
  {
   "cell_type": "code",
   "execution_count": 25,
   "id": "96851afa",
   "metadata": {
    "execution": {
     "iopub.execute_input": "2022-05-13T17:27:24.769550Z",
     "iopub.status.busy": "2022-05-13T17:27:24.768661Z",
     "iopub.status.idle": "2022-05-13T17:27:24.771478Z",
     "shell.execute_reply": "2022-05-13T17:27:24.772012Z",
     "shell.execute_reply.started": "2022-05-13T15:55:30.994284Z"
    },
    "papermill": {
     "duration": 0.082379,
     "end_time": "2022-05-13T17:27:24.772188",
     "exception": false,
     "start_time": "2022-05-13T17:27:24.689809",
     "status": "completed"
    },
    "tags": []
   },
   "outputs": [],
   "source": [
    "def runSVR():\n",
    "    from sklearn.svm import SVR\n",
    "\n",
    "    #3 Feature Scaling\n",
    "    from sklearn.preprocessing import StandardScaler\n",
    "    sc_X = StandardScaler()\n",
    "    sc_y = StandardScaler()\n",
    "    X = sc_X.fit_transform(X_train)\n",
    "    y = sc_y.fit_transform(y_train)\n",
    "\n",
    "    regressor = SVR()\n",
    "    regressor.fit(x.reshape(-1, 1), y)\n",
    "    y_pred = regressor.predict(6.5)\n",
    "\n",
    "    svmR2 = r2_score(y_test, svmPedict).round(4) \n",
    "    svmMAE=metrics.mean_absolute_error(y_test, svmPedict)\n",
    "    print(\"SVM r2: \", svmR2, \" || MAE: \", svmMAE) \n",
    "    \n",
    "    #GRAPH:\n",
    "    plt.figure(figsize=(5, 7))\n",
    "    ax = sns.distplot(y, hist=False, color=\"r\", label=\"Actual Value\")\n",
    "    sns.distplot(y_test, hist=False, color=\"b\", label=\"Fitted Values\" , ax=ax)\n",
    "    plt.title('Actual vs Fitted Values')\n",
    "    plt.show()\n",
    "    plt.close()"
   ]
  },
  {
   "cell_type": "code",
   "execution_count": 26,
   "id": "59b4b090",
   "metadata": {
    "execution": {
     "iopub.execute_input": "2022-05-13T17:27:24.924824Z",
     "iopub.status.busy": "2022-05-13T17:27:24.917769Z",
     "iopub.status.idle": "2022-05-13T17:27:24.928506Z",
     "shell.execute_reply": "2022-05-13T17:27:24.929080Z",
     "shell.execute_reply.started": "2022-05-13T15:54:06.656946Z"
    },
    "papermill": {
     "duration": 0.085867,
     "end_time": "2022-05-13T17:27:24.929253",
     "exception": false,
     "start_time": "2022-05-13T17:27:24.843386",
     "status": "completed"
    },
    "tags": []
   },
   "outputs": [],
   "source": [
    "from sklearn.model_selection import GridSearchCV\n",
    "from sklearn.svm import SVC\n",
    "#Fit and Predict:\n",
    "def runSVM():\n",
    "    svm=SVC(C=1000, gamma=0.0001, kernel = 'linear')\n",
    "    svm.fit(X_train, y_train)\n",
    "    svmPedict = svm.predict(X_test)\n",
    "\n",
    "    svmR2 = r2_score(y_test, svmPedict).round(4) \n",
    "    svmMAE=metrics.mean_absolute_error(y_test, svmPedict)\n",
    "    print(\"SVM r2: \", svmR2, \" || MAE: \", svmMAE) \n",
    "\n",
    "    plt.figure(figsize=(5, 7))\n",
    "    ax = sns.distplot(y, hist=False, color=\"r\", label=\"Actual Value\")\n",
    "    sns.distplot(y_test, hist=False, color=\"b\", label=\"Fitted Values\" , ax=ax)\n",
    "    plt.title('Actual vs Fitted Values')\n",
    "    plt.show()\n",
    "    plt.close()\n",
    "#runSVM()"
   ]
  },
  {
   "cell_type": "markdown",
   "id": "af114b83",
   "metadata": {
    "papermill": {
     "duration": 0.071039,
     "end_time": "2022-05-13T17:27:25.071349",
     "exception": false,
     "start_time": "2022-05-13T17:27:25.000310",
     "status": "completed"
    },
    "tags": []
   },
   "source": [
    "# Test Dataset"
   ]
  },
  {
   "cell_type": "code",
   "execution_count": 27,
   "id": "b01440d9",
   "metadata": {
    "execution": {
     "iopub.execute_input": "2022-05-13T17:27:25.217755Z",
     "iopub.status.busy": "2022-05-13T17:27:25.216878Z",
     "iopub.status.idle": "2022-05-13T17:27:25.281537Z",
     "shell.execute_reply": "2022-05-13T17:27:25.280939Z",
     "shell.execute_reply.started": "2022-05-13T15:54:06.658685Z"
    },
    "papermill": {
     "duration": 0.13899,
     "end_time": "2022-05-13T17:27:25.281717",
     "exception": false,
     "start_time": "2022-05-13T17:27:25.142727",
     "status": "completed"
    },
    "tags": []
   },
   "outputs": [
    {
     "data": {
      "text/html": [
       "<div>\n",
       "<style scoped>\n",
       "    .dataframe tbody tr th:only-of-type {\n",
       "        vertical-align: middle;\n",
       "    }\n",
       "\n",
       "    .dataframe tbody tr th {\n",
       "        vertical-align: top;\n",
       "    }\n",
       "\n",
       "    .dataframe thead th {\n",
       "        text-align: right;\n",
       "    }\n",
       "</style>\n",
       "<table border=\"1\" class=\"dataframe\">\n",
       "  <thead>\n",
       "    <tr style=\"text-align: right;\">\n",
       "      <th></th>\n",
       "      <th>id</th>\n",
       "      <th>store_nbr</th>\n",
       "      <th>onpromotion</th>\n",
       "      <th>month</th>\n",
       "    </tr>\n",
       "  </thead>\n",
       "  <tbody>\n",
       "    <tr>\n",
       "      <th>0</th>\n",
       "      <td>3000888</td>\n",
       "      <td>1</td>\n",
       "      <td>0</td>\n",
       "      <td>8</td>\n",
       "    </tr>\n",
       "    <tr>\n",
       "      <th>1</th>\n",
       "      <td>3000889</td>\n",
       "      <td>1</td>\n",
       "      <td>0</td>\n",
       "      <td>8</td>\n",
       "    </tr>\n",
       "    <tr>\n",
       "      <th>2</th>\n",
       "      <td>3000890</td>\n",
       "      <td>1</td>\n",
       "      <td>2</td>\n",
       "      <td>8</td>\n",
       "    </tr>\n",
       "    <tr>\n",
       "      <th>3</th>\n",
       "      <td>3000891</td>\n",
       "      <td>1</td>\n",
       "      <td>20</td>\n",
       "      <td>8</td>\n",
       "    </tr>\n",
       "    <tr>\n",
       "      <th>4</th>\n",
       "      <td>3000892</td>\n",
       "      <td>1</td>\n",
       "      <td>0</td>\n",
       "      <td>8</td>\n",
       "    </tr>\n",
       "  </tbody>\n",
       "</table>\n",
       "</div>"
      ],
      "text/plain": [
       "        id  store_nbr  onpromotion  month\n",
       "0  3000888          1            0      8\n",
       "1  3000889          1            0      8\n",
       "2  3000890          1            2      8\n",
       "3  3000891          1           20      8\n",
       "4  3000892          1            0      8"
      ]
     },
     "execution_count": 27,
     "metadata": {},
     "output_type": "execute_result"
    }
   ],
   "source": [
    "test=pd.read_csv(test)\n",
    "test.head()\n",
    "\n",
    "#Feature three new columns with year, month, and day:\n",
    "#test['year']=test['date'].apply(lambda x: int(str(x)[:4])) #first four\n",
    "test['month']=test['date'].apply(lambda x: int(str(x)[5:7])) #five and six\n",
    "#test['day']=test['date'].apply(lambda x: int(str(x)[-2:])) # last two\n",
    "\n",
    "features=list(X.columns)\n",
    "test=test[features]\n",
    "test.head()"
   ]
  },
  {
   "cell_type": "markdown",
   "id": "12ad891d",
   "metadata": {
    "papermill": {
     "duration": 0.068356,
     "end_time": "2022-05-13T17:27:25.417670",
     "exception": false,
     "start_time": "2022-05-13T17:27:25.349314",
     "status": "completed"
    },
    "tags": []
   },
   "source": [
    "# Final Prediction"
   ]
  },
  {
   "cell_type": "code",
   "execution_count": 28,
   "id": "dd489165",
   "metadata": {
    "execution": {
     "iopub.execute_input": "2022-05-13T17:27:25.556779Z",
     "iopub.status.busy": "2022-05-13T17:27:25.556000Z",
     "iopub.status.idle": "2022-05-13T17:27:25.589903Z",
     "shell.execute_reply": "2022-05-13T17:27:25.589385Z",
     "shell.execute_reply.started": "2022-05-13T15:54:06.660248Z"
    },
    "papermill": {
     "duration": 0.106286,
     "end_time": "2022-05-13T17:27:25.590058",
     "exception": false,
     "start_time": "2022-05-13T17:27:25.483772",
     "status": "completed"
    },
    "tags": []
   },
   "outputs": [
    {
     "data": {
      "text/html": [
       "<div>\n",
       "<style scoped>\n",
       "    .dataframe tbody tr th:only-of-type {\n",
       "        vertical-align: middle;\n",
       "    }\n",
       "\n",
       "    .dataframe tbody tr th {\n",
       "        vertical-align: top;\n",
       "    }\n",
       "\n",
       "    .dataframe thead th {\n",
       "        text-align: right;\n",
       "    }\n",
       "</style>\n",
       "<table border=\"1\" class=\"dataframe\">\n",
       "  <thead>\n",
       "    <tr style=\"text-align: right;\">\n",
       "      <th></th>\n",
       "      <th>id</th>\n",
       "      <th>sales</th>\n",
       "    </tr>\n",
       "  </thead>\n",
       "  <tbody>\n",
       "    <tr>\n",
       "      <th>0</th>\n",
       "      <td>3000888</td>\n",
       "      <td>26.2435</td>\n",
       "    </tr>\n",
       "    <tr>\n",
       "      <th>1</th>\n",
       "      <td>3000889</td>\n",
       "      <td>26.2435</td>\n",
       "    </tr>\n",
       "    <tr>\n",
       "      <th>2</th>\n",
       "      <td>3000890</td>\n",
       "      <td>139.3275</td>\n",
       "    </tr>\n",
       "    <tr>\n",
       "      <th>3</th>\n",
       "      <td>3000891</td>\n",
       "      <td>602.0000</td>\n",
       "    </tr>\n",
       "    <tr>\n",
       "      <th>4</th>\n",
       "      <td>3000892</td>\n",
       "      <td>26.2435</td>\n",
       "    </tr>\n",
       "    <tr>\n",
       "      <th>5</th>\n",
       "      <td>3000893</td>\n",
       "      <td>659.0000</td>\n",
       "    </tr>\n",
       "    <tr>\n",
       "      <th>6</th>\n",
       "      <td>3000894</td>\n",
       "      <td>26.2435</td>\n",
       "    </tr>\n",
       "  </tbody>\n",
       "</table>\n",
       "</div>"
      ],
      "text/plain": [
       "        id     sales\n",
       "0  3000888   26.2435\n",
       "1  3000889   26.2435\n",
       "2  3000890  139.3275\n",
       "3  3000891  602.0000\n",
       "4  3000892   26.2435\n",
       "5  3000893  659.0000\n",
       "6  3000894   26.2435"
      ]
     },
     "execution_count": 28,
     "metadata": {},
     "output_type": "execute_result"
    }
   ],
   "source": [
    "finalPredicts=forest.predict(test)\n",
    "ID=test['id']\n",
    "tupleData = list(zip(ID, finalPredicts))\n",
    "output = pd.DataFrame(tupleData, columns = ['id', 'sales'])\n",
    "output.head(7)"
   ]
  },
  {
   "cell_type": "markdown",
   "id": "527700cc",
   "metadata": {
    "papermill": {
     "duration": 0.068118,
     "end_time": "2022-05-13T17:27:25.728390",
     "exception": false,
     "start_time": "2022-05-13T17:27:25.660272",
     "status": "completed"
    },
    "tags": []
   },
   "source": [
    "#### Save Output"
   ]
  },
  {
   "cell_type": "code",
   "execution_count": 29,
   "id": "ffbc2e33",
   "metadata": {
    "execution": {
     "iopub.execute_input": "2022-05-13T17:27:25.869403Z",
     "iopub.status.busy": "2022-05-13T17:27:25.868932Z",
     "iopub.status.idle": "2022-05-13T17:27:25.915310Z",
     "shell.execute_reply": "2022-05-13T17:27:25.914772Z",
     "shell.execute_reply.started": "2022-05-13T15:54:06.661857Z"
    },
    "papermill": {
     "duration": 0.117991,
     "end_time": "2022-05-13T17:27:25.915420",
     "exception": false,
     "start_time": "2022-05-13T17:27:25.797429",
     "status": "completed"
    },
    "tags": []
   },
   "outputs": [
    {
     "name": "stdout",
     "output_type": "stream",
     "text": [
      "Your submission was successfully saved!\n"
     ]
    }
   ],
   "source": [
    "output.to_csv('submission.csv', index=False)\n",
    "print(\"Your submission was successfully saved!\")"
   ]
  },
  {
   "cell_type": "code",
   "execution_count": 30,
   "id": "8f3eb3cc",
   "metadata": {
    "execution": {
     "iopub.execute_input": "2022-05-13T17:27:26.015973Z",
     "iopub.status.busy": "2022-05-13T17:27:26.015454Z",
     "iopub.status.idle": "2022-05-13T17:27:26.040682Z",
     "shell.execute_reply": "2022-05-13T17:27:26.040245Z",
     "shell.execute_reply.started": "2022-05-13T15:54:06.663329Z"
    },
    "papermill": {
     "duration": 0.077924,
     "end_time": "2022-05-13T17:27:26.040784",
     "exception": false,
     "start_time": "2022-05-13T17:27:25.962860",
     "status": "completed"
    },
    "tags": []
   },
   "outputs": [
    {
     "data": {
      "text/html": [
       "<div>\n",
       "<style scoped>\n",
       "    .dataframe tbody tr th:only-of-type {\n",
       "        vertical-align: middle;\n",
       "    }\n",
       "\n",
       "    .dataframe tbody tr th {\n",
       "        vertical-align: top;\n",
       "    }\n",
       "\n",
       "    .dataframe thead th {\n",
       "        text-align: right;\n",
       "    }\n",
       "</style>\n",
       "<table border=\"1\" class=\"dataframe\">\n",
       "  <thead>\n",
       "    <tr style=\"text-align: right;\">\n",
       "      <th></th>\n",
       "      <th>id</th>\n",
       "      <th>sales</th>\n",
       "    </tr>\n",
       "  </thead>\n",
       "  <tbody>\n",
       "    <tr>\n",
       "      <th>0</th>\n",
       "      <td>3000888</td>\n",
       "      <td>0.0</td>\n",
       "    </tr>\n",
       "    <tr>\n",
       "      <th>1</th>\n",
       "      <td>3000889</td>\n",
       "      <td>0.0</td>\n",
       "    </tr>\n",
       "    <tr>\n",
       "      <th>2</th>\n",
       "      <td>3000890</td>\n",
       "      <td>0.0</td>\n",
       "    </tr>\n",
       "    <tr>\n",
       "      <th>3</th>\n",
       "      <td>3000891</td>\n",
       "      <td>0.0</td>\n",
       "    </tr>\n",
       "    <tr>\n",
       "      <th>4</th>\n",
       "      <td>3000892</td>\n",
       "      <td>0.0</td>\n",
       "    </tr>\n",
       "  </tbody>\n",
       "</table>\n",
       "</div>"
      ],
      "text/plain": [
       "        id  sales\n",
       "0  3000888    0.0\n",
       "1  3000889    0.0\n",
       "2  3000890    0.0\n",
       "3  3000891    0.0\n",
       "4  3000892    0.0"
      ]
     },
     "execution_count": 30,
     "metadata": {},
     "output_type": "execute_result"
    }
   ],
   "source": [
    "#SAPMLE ONLY:\n",
    "sample=r'/kaggle/input/store-sales-time-series-forecasting/sample_submission.csv'\n",
    "sample=pd.read_csv(sample)\n",
    "sample.head()"
   ]
  }
 ],
 "metadata": {
  "kernelspec": {
   "display_name": "Python 3",
   "language": "python",
   "name": "python3"
  },
  "language_info": {
   "codemirror_mode": {
    "name": "ipython",
    "version": 3
   },
   "file_extension": ".py",
   "mimetype": "text/x-python",
   "name": "python",
   "nbconvert_exporter": "python",
   "pygments_lexer": "ipython3",
   "version": "3.7.12"
  },
  "papermill": {
   "default_parameters": {},
   "duration": 46.00984,
   "end_time": "2022-05-13T17:27:27.000699",
   "environment_variables": {},
   "exception": null,
   "input_path": "__notebook__.ipynb",
   "output_path": "__notebook__.ipynb",
   "parameters": {},
   "start_time": "2022-05-13T17:26:40.990859",
   "version": "2.3.3"
  }
 },
 "nbformat": 4,
 "nbformat_minor": 5
}
